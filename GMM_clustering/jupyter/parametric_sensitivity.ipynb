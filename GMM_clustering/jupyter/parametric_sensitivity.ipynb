{
 "cells": [
  {
   "cell_type": "code",
   "execution_count": 1,
   "metadata": {
    "collapsed": false
   },
   "outputs": [
    {
     "name": "stderr",
     "output_type": "stream",
     "text": [
      "/home/runjing_liu/Documents/BNP/autograd/autograd/core.py:290: UserWarning: \n",
      "The defvjp method is deprecated. See the update guide and tutorial:\n",
      "https://github.com/HIPS/autograd/blob/master/docs/updateguide.md\n",
      "https://github.com/HIPS/autograd/blob/master/docs/tutorial.md\n",
      "  warnings.warn(deprecation_msg)\n"
     ]
    }
   ],
   "source": [
    "import os\n",
    "\n",
    "# Linear response libraries\n",
    "import LinearResponseVariationalBayes as vb\n",
    "\n",
    "import paragami\n",
    "\n",
    "import sys\n",
    "sys.path.insert(0, '../')\n",
    "import gmm_clustering_lib as gmm_lib\n",
    "import modeling_lib \n",
    "\n",
    "import functional_sensitivity_lib as fun_sens_lib \n",
    "import utils_lib\n",
    "\n",
    "import matplotlib.pyplot as plt\n",
    "%matplotlib inline\n",
    "\n",
    "from sklearn.decomposition import PCA\n",
    "\n",
    "from copy import deepcopy\n",
    "\n",
    "from autograd import numpy as np\n",
    "from autograd import scipy as sp\n",
    "\n",
    "from numpy.polynomial.hermite import hermgauss\n",
    "\n",
    "# import numpy as np\n",
    "# import scipy as sp\n",
    "\n",
    "np.random.seed(453453)\n",
    "\n",
    "import json "
   ]
  },
  {
   "cell_type": "code",
   "execution_count": 2,
   "metadata": {
    "collapsed": true
   },
   "outputs": [],
   "source": [
    "# colors for plotting\n",
    "import matplotlib.cm as cm\n",
    "\n",
    "cmap = cm.get_cmap(name='gist_rainbow')\n",
    "colors1 = [cmap(k * 50) for k in range(12)]\n",
    "colors2 = [cmap(k * 25) for k in range(12)]"
   ]
  },
  {
   "cell_type": "markdown",
   "metadata": {},
   "source": [
    "# Load data"
   ]
  },
  {
   "cell_type": "code",
   "execution_count": 3,
   "metadata": {
    "collapsed": true
   },
   "outputs": [],
   "source": [
    "simulate = False\n",
    "if not simulate:\n",
    "    # load iris data\n",
    "    dataset_name = 'iris'\n",
    "    features, iris_species = utils_lib.load_data()\n",
    "    dim = features.shape[1]\n",
    "    n_obs = len(iris_species)    \n",
    "    \n",
    "else:\n",
    "    # Simulate data\n",
    "    dataset_name = 'simulation'\n",
    "\n",
    "    n_obs = 1000\n",
    "    dim = 2\n",
    "    true_k = 5\n",
    "    features, true_z, true_components, true_centroids, true_covs, true_probs = \\\n",
    "        simulation_lib.simulate_data(n_obs, dim, true_k, separation=0.6)\n",
    "\n",
    "    for k in range(true_k):\n",
    "        plt.plot(features[true_components == k, 0], features[true_components == k, 1], '.')\n",
    "        \n",
    "    iris_species = np.argmax(true_z, axis = 1)"
   ]
  },
  {
   "cell_type": "code",
   "execution_count": 4,
   "metadata": {
    "collapsed": false
   },
   "outputs": [
    {
     "data": {
      "text/plain": [
       "<matplotlib.text.Text at 0x7ff0bf6c29e8>"
      ]
     },
     "execution_count": 4,
     "metadata": {},
     "output_type": "execute_result"
    },
    {
     "data": {
      "image/png": "[encoded data removed]",
      "text/plain": [
       "<matplotlib.figure.Figure at 0x7ff0bf71ec18>"
      ]
     },
     "metadata": {},
     "output_type": "display_data"
    }
   ],
   "source": [
    "# run PCA\n",
    "pca_fit = PCA()\n",
    "pca_fit.fit(features)\n",
    "pc_features = pca_fit.transform(features)\n",
    "\n",
    "# plot\n",
    "fig1 = plt.figure(1)\n",
    "fig = fig1.add_subplot(111)\n",
    "utils_lib.plot_clusters(pc_features[:, 0], pc_features[:, 1], iris_species, colors1, fig)\n",
    "fig.set_xlabel('PC1')\n",
    "fig.set_ylabel('PC2')\n"
   ]
  },
  {
   "cell_type": "markdown",
   "metadata": {},
   "source": [
    "# Set up model"
   ]
  },
  {
   "cell_type": "markdown",
   "metadata": {},
   "source": [
    "### Prior parameters"
   ]
  },
  {
   "cell_type": "code",
   "execution_count": 5,
   "metadata": {
    "collapsed": false
   },
   "outputs": [],
   "source": [
    "# Get priors\n",
    "prior_params_dict, prior_params_paragami = gmm_lib.get_default_prior_params(dim)"
   ]
  },
  {
   "cell_type": "code",
   "execution_count": 6,
   "metadata": {
    "collapsed": false
   },
   "outputs": [
    {
     "name": "stdout",
     "output_type": "stream",
     "text": [
      "OrderedDict:\n",
      "\t[alpha] = Array (1,) (lb=0.0, ub=inf)\n",
      "\t[prior_centroid_mean] = Array (1,) (lb=-inf, ub=inf)\n",
      "\t[prior_centroid_info] = Array (1,) (lb=0.0, ub=inf)\n",
      "\t[prior_gamma_df] = Array (1,) (lb=0.0, ub=inf)\n",
      "\t[prior_gamma_inv_scale] = PDMatrix 4x4 (diag_lb = 0.0)\n"
     ]
    }
   ],
   "source": [
    "print(prior_params_paragami)"
   ]
  },
  {
   "cell_type": "code",
   "execution_count": 7,
   "metadata": {
    "collapsed": false
   },
   "outputs": [
    {
     "name": "stdout",
     "output_type": "stream",
     "text": [
      "{'alpha': array([4.]), 'prior_centroid_mean': array([0.]), 'prior_centroid_info': array([0.1]), 'prior_gamma_df': array([8.]), 'prior_gamma_inv_scale': array([[0.62, 0.  , 0.  , 0.  ],\n",
      "       [0.  , 0.62, 0.  , 0.  ],\n",
      "       [0.  , 0.  , 0.62, 0.  ],\n",
      "       [0.  , 0.  , 0.  , 0.62]])}\n"
     ]
    }
   ],
   "source": [
    "# these are constrained parameters\n",
    "print(prior_params_dict)"
   ]
  },
  {
   "cell_type": "markdown",
   "metadata": {},
   "source": [
    "### Variational parameters"
   ]
  },
  {
   "cell_type": "code",
   "execution_count": 8,
   "metadata": {
    "collapsed": true
   },
   "outputs": [],
   "source": [
    "if simulate: \n",
    "    k_approx = true_k\n",
    "else: \n",
    "    k_approx = 12"
   ]
  },
  {
   "cell_type": "code",
   "execution_count": 9,
   "metadata": {
    "collapsed": false
   },
   "outputs": [],
   "source": [
    "# Gauss-Hermite points\n",
    "gh_deg = 8\n",
    "gh_loc, gh_weights = hermgauss(gh_deg)"
   ]
  },
  {
   "cell_type": "code",
   "execution_count": 10,
   "metadata": {
    "collapsed": false
   },
   "outputs": [],
   "source": [
    "# get vb parameters\n",
    "vb_params_dict, vb_params_paragami = gmm_lib.get_vb_params_paragami_object(dim, k_approx)"
   ]
  },
  {
   "cell_type": "code",
   "execution_count": 11,
   "metadata": {
    "collapsed": false
   },
   "outputs": [
    {
     "data": {
      "text/plain": [
       "1279.727238403792"
      ]
     },
     "execution_count": 11,
     "metadata": {},
     "output_type": "execute_result"
    }
   ],
   "source": [
    "# the objective \n",
    "gmm_lib.get_kl(features, vb_params_dict, prior_params_dict, gh_loc, gh_weights)"
   ]
  },
  {
   "cell_type": "markdown",
   "metadata": {},
   "source": [
    "# Optimize"
   ]
  },
  {
   "cell_type": "code",
   "execution_count": 12,
   "metadata": {
    "collapsed": true
   },
   "outputs": [],
   "source": [
    "n_kmeans_init = 50\n",
    "init_vb_free_params, init_vb_params_dict, init_ez = \\\n",
    "    gmm_lib.cluster_and_get_k_means_inits(features, vb_params_paragami, \n",
    "                                                n_kmeans_init = n_kmeans_init)"
   ]
  },
  {
   "cell_type": "code",
   "execution_count": 13,
   "metadata": {
    "collapsed": true
   },
   "outputs": [],
   "source": [
    "def plot_results_from_vb_params_dict(pca_fit, vb_params_dict, e_z, fig): \n",
    "    # we plot in PCA space\n",
    "    bnp_centroids_pc, bnp_cluster_covs_pc = \\\n",
    "        utils_lib.transform_params_to_pc_space(pca_fit, vb_params_dict['centroids'], \n",
    "                                               np.linalg.inv(vb_params_dict['gamma']))\n",
    "    \n",
    "    bnp_clusters = np.argmax(e_z, axis = 1)\n",
    "\n",
    "    utils_lib.plot_clusters(pc_features[:, 0], pc_features[:, 1], bnp_clusters, \\\n",
    "                  colors1, fig, \\\n",
    "                  centroids = bnp_centroids_pc[:, np.unique(bnp_clusters)], \n",
    "                cov = bnp_cluster_covs_pc[np.unique(bnp_clusters)])\n"
   ]
  },
  {
   "cell_type": "code",
   "execution_count": 14,
   "metadata": {
    "collapsed": false,
    "scrolled": true
   },
   "outputs": [
    {
     "data": {
      "image/png": "[encoded data removed]",
      "text/plain": [
       "<matplotlib.figure.Figure at 0x7ff0bf71eda0>"
      ]
     },
     "metadata": {},
     "output_type": "display_data"
    }
   ],
   "source": [
    "# kmeans results\n",
    "fig1 = plt.figure(1)\n",
    "fig = fig1.add_subplot(111)\n",
    "\n",
    "plot_results_from_vb_params_dict(pca_fit, init_vb_params_dict, init_ez, fig)"
   ]
  },
  {
   "cell_type": "code",
   "execution_count": 15,
   "metadata": {
    "collapsed": false
   },
   "outputs": [
    {
     "name": "stdout",
     "output_type": "stream",
     "text": [
      "running bfgs ... \n",
      "Warning: Desired error not necessarily achieved due to precision loss.\n",
      "         Current function value: -327.633482\n",
      "         Iterations: 483\n",
      "         Function evaluations: 575\n",
      "         Gradient evaluations: 566\n",
      "\n",
      " running preconditioned newton; iter =  0\n",
      "Optimization terminated successfully.\n",
      "         Current function value: -327.633482\n",
      "         Iterations: 1\n",
      "         Function evaluations: 2\n",
      "         Gradient evaluations: 2\n",
      "         Hessian evaluations: 1\n",
      "Iter 0: x_diff = 6.599787721708102e-06, f_diff = 2.2168933355715126e-12, grad_l1 = 1.3126997109639668e-11\n",
      "done. \n"
     ]
    }
   ],
   "source": [
    "vb_opt = gmm_lib.optimize_full(features, vb_params_paragami, prior_params_dict,\n",
    "                    init_vb_free_params, gh_loc, gh_weights,\n",
    "                    bfgs_max_iter = 500, netwon_max_iter = 50,\n",
    "                    max_precondition_iter = 10,\n",
    "                    gtol=1e-8, ftol=1e-8, xtol=1e-8)"
   ]
  },
  {
   "cell_type": "code",
   "execution_count": 16,
   "metadata": {
    "collapsed": false
   },
   "outputs": [],
   "source": [
    "vb_opt_dict = vb_params_paragami.fold(vb_opt, free = True)\n",
    "e_z_opt = gmm_lib.get_optimal_z_from_vb_params_dict(features, vb_opt_dict, gh_loc, gh_weights)"
   ]
  },
  {
   "cell_type": "code",
   "execution_count": 17,
   "metadata": {
    "collapsed": false
   },
   "outputs": [
    {
     "data": {
      "image/png": "[encoded data removed]",
      "text/plain": [
       "<matplotlib.figure.Figure at 0x7ff0bc570240>"
      ]
     },
     "metadata": {},
     "output_type": "display_data"
    }
   ],
   "source": [
    "# Newton results\n",
    "fig1 = plt.figure(1)\n",
    "fig = fig1.add_subplot(111)\n",
    "\n",
    "plot_results_from_vb_params_dict(pca_fit, vb_opt_dict, e_z_opt, fig)"
   ]
  },
  {
   "cell_type": "code",
   "execution_count": null,
   "metadata": {
    "collapsed": true
   },
   "outputs": [],
   "source": []
  },
  {
   "cell_type": "markdown",
   "metadata": {},
   "source": [
    "# Parametric sensitivity"
   ]
  },
  {
   "cell_type": "markdown",
   "metadata": {},
   "source": [
    "### Get the hyper parameter sensitivity object"
   ]
  },
  {
   "cell_type": "code",
   "execution_count": 18,
   "metadata": {
    "collapsed": true
   },
   "outputs": [],
   "source": [
    "get_prior_vb_loss = paragami.Functor(\n",
    "    original_fun=gmm_lib.get_kl, argnums=[1, 2])\n",
    "\n",
    "get_prior_vb_loss.cache_args(features, None, None, gh_loc, gh_weights)"
   ]
  },
  {
   "cell_type": "code",
   "execution_count": 19,
   "metadata": {
    "collapsed": false
   },
   "outputs": [],
   "source": [
    "vb_sens = \\\n",
    "    paragami.HyperparameterSensitivityLinearApproximation(\n",
    "        objective_fun=           get_prior_vb_loss,\n",
    "        opt_par_pattern=         vb_params_paragami,\n",
    "        hyper_par_pattern=       prior_params_paragami,\n",
    "        opt_par_folded_value=    vb_params_paragami.fold(vb_opt, free = True),\n",
    "        hyper_par_folded_value=  prior_params_dict,\n",
    "        opt_par_is_free=         True,\n",
    "        hyper_par_is_free=       False,\n",
    "        grad_tol=                1e-5)\n"
   ]
  },
  {
   "cell_type": "markdown",
   "metadata": {},
   "source": [
    "### Set new prior"
   ]
  },
  {
   "cell_type": "code",
   "execution_count": 20,
   "metadata": {
    "collapsed": true
   },
   "outputs": [],
   "source": [
    "new_alpha = np.array([5.])\n",
    "\n",
    "prior_params_pert_dict = deepcopy(prior_params_dict)\n",
    "prior_params_pert_dict['alpha'] = new_alpha\n"
   ]
  },
  {
   "cell_type": "code",
   "execution_count": 21,
   "metadata": {
    "collapsed": false
   },
   "outputs": [
    {
     "name": "stdout",
     "output_type": "stream",
     "text": [
      "initial alpha,  [4.]\n",
      "perturbed alpha,  [5.]\n"
     ]
    }
   ],
   "source": [
    "print('initial alpha, ', prior_params_dict['alpha'])\n",
    "print('perturbed alpha, ', prior_params_pert_dict['alpha'])"
   ]
  },
  {
   "cell_type": "markdown",
   "metadata": {},
   "source": [
    "### get linear response prediction"
   ]
  },
  {
   "cell_type": "code",
   "execution_count": 22,
   "metadata": {
    "collapsed": false
   },
   "outputs": [
    {
     "name": "stdout",
     "output_type": "stream",
     "text": [
      "l_inf diff:  0.29850586481839436\n"
     ]
    }
   ],
   "source": [
    "lr_vb_free_params = vb_sens.predict_opt_par_from_hyper_par(prior_params_pert_dict, fold_output = False)\n",
    "\n",
    "print('l_inf diff: ', np.max(np.abs(lr_vb_free_params - vb_opt)))"
   ]
  },
  {
   "cell_type": "markdown",
   "metadata": {},
   "source": [
    "### re-optimize"
   ]
  },
  {
   "cell_type": "code",
   "execution_count": 23,
   "metadata": {
    "collapsed": false
   },
   "outputs": [
    {
     "name": "stdout",
     "output_type": "stream",
     "text": [
      "running bfgs ... \n",
      "Warning: Desired error not necessarily achieved due to precision loss.\n",
      "         Current function value: -323.289099\n",
      "         Iterations: 79\n",
      "         Function evaluations: 258\n",
      "         Gradient evaluations: 244\n",
      "\n",
      " running preconditioned newton; iter =  0\n",
      "Optimization terminated successfully.\n",
      "         Current function value: -323.289099\n",
      "         Iterations: 1\n",
      "         Function evaluations: 2\n",
      "         Gradient evaluations: 2\n",
      "         Hessian evaluations: 1\n",
      "Iter 0: x_diff = 2.743909006915025e-06, f_diff = 5.684341886080802e-14, grad_l1 = 1.1102181058711775e-11\n",
      "done. \n"
     ]
    }
   ],
   "source": [
    "vb_opt_pert = gmm_lib.optimize_full(features, vb_params_paragami, prior_params_pert_dict,\n",
    "                    deepcopy(vb_opt), gh_loc, gh_weights,\n",
    "                    bfgs_max_iter = 500, netwon_max_iter = 50,\n",
    "                    max_precondition_iter = 10,\n",
    "                    gtol=1e-8, ftol=1e-8, xtol=1e-8)"
   ]
  },
  {
   "cell_type": "code",
   "execution_count": 24,
   "metadata": {
    "collapsed": true
   },
   "outputs": [],
   "source": [
    "def print_diff_plot(lr_vb_free_params, vb_opt_pert, vb_opt): \n",
    "    plt.plot(lr_vb_free_params - vb_opt, \n",
    "             vb_opt_pert - vb_opt, \n",
    "             '+', color = 'red')\n",
    "\n",
    "    plt.plot(lr_vb_free_params - vb_opt, \n",
    "            lr_vb_free_params - vb_opt, \n",
    "             '-', color = 'blue')\n",
    "\n",
    "    plt.xlabel('lr')\n",
    "    plt.ylabel('re-optimized')"
   ]
  },
  {
   "cell_type": "code",
   "execution_count": 25,
   "metadata": {
    "collapsed": false
   },
   "outputs": [
    {
     "data": {
      "image/png": "[encoded data removed]",
      "text/plain": [
       "<matplotlib.figure.Figure at 0x7ff1011320b8>"
      ]
     },
     "metadata": {},
     "output_type": "display_data"
    }
   ],
   "source": [
    "print_diff_plot(lr_vb_free_params, vb_opt_pert, vb_opt)"
   ]
  },
  {
   "cell_type": "markdown",
   "metadata": {
    "collapsed": true
   },
   "source": [
    "# Fit for a range of alpha "
   ]
  },
  {
   "cell_type": "code",
   "execution_count": 26,
   "metadata": {
    "collapsed": false
   },
   "outputs": [],
   "source": [
    "alpha_list = np.arange(1, 12)"
   ]
  },
  {
   "cell_type": "code",
   "execution_count": 27,
   "metadata": {
    "collapsed": true
   },
   "outputs": [],
   "source": [
    "def refit_with_alpha(alpha, vb_opt): \n",
    "    new_alpha = np.array([alpha])\n",
    "\n",
    "    prior_params_pert_dict = deepcopy(prior_params_dict)\n",
    "    prior_params_pert_dict['alpha'] = new_alpha\n",
    "    \n",
    "    vb_opt_pert = gmm_lib.optimize_full(features, vb_params_paragami, prior_params_pert_dict,\n",
    "                    deepcopy(vb_opt), gh_loc, gh_weights,\n",
    "                    bfgs_max_iter = 500, netwon_max_iter = 50,\n",
    "                    max_precondition_iter = 10,\n",
    "                    gtol=1e-8, ftol=1e-8, xtol=1e-8)\n",
    "    \n",
    "    return vb_opt_pert"
   ]
  },
  {
   "cell_type": "markdown",
   "metadata": {},
   "source": [
    "### Re-optimize"
   ]
  },
  {
   "cell_type": "code",
   "execution_count": null,
   "metadata": {
    "collapsed": false,
    "scrolled": true
   },
   "outputs": [
    {
     "name": "stdout",
     "output_type": "stream",
     "text": [
      "re-optimzing with alpha =  1\n",
      "running bfgs ... \n"
     ]
    }
   ],
   "source": [
    "vb_pert_list = []\n",
    "for alpha in alpha_list: \n",
    "    print('re-optimzing with alpha = ', alpha)\n",
    "    \n",
    "    vb_pert_list.append(refit_with_alpha(alpha, vb_opt))"
   ]
  },
  {
   "cell_type": "markdown",
   "metadata": {},
   "source": [
    "### get linear response"
   ]
  },
  {
   "cell_type": "code",
   "execution_count": null,
   "metadata": {
    "collapsed": true
   },
   "outputs": [],
   "source": [
    "lr_list = []\n",
    "\n",
    "for alpha in alpha_list: \n",
    "    \n",
    "    # set alpha \n",
    "    new_alpha = np.array([alpha])\n",
    "    prior_params_pert_dict = deepcopy(prior_params_dict)\n",
    "    prior_params_pert_dict['alpha'] = new_alpha\n",
    "    \n",
    "    # get linear response\n",
    "    lr_list.append(vb_sens.predict_opt_par_from_hyper_par(prior_params_pert_dict, fold_output = False))\n",
    "    "
   ]
  },
  {
   "cell_type": "markdown",
   "metadata": {},
   "source": [
    "### examine results "
   ]
  },
  {
   "cell_type": "code",
   "execution_count": null,
   "metadata": {
    "collapsed": false
   },
   "outputs": [],
   "source": [
    "for i in range(len(alpha_list)): \n",
    "    plt.figure()\n",
    "    print_diff_plot(lr_list[i], vb_pert_list[i], vb_opt)\n",
    "    \n",
    "    plt.title('alpha = {}'.format(alpha_list[i]))\n",
    "    "
   ]
  },
  {
   "cell_type": "code",
   "execution_count": null,
   "metadata": {
    "collapsed": false
   },
   "outputs": [],
   "source": [
    "# Posterior clusters\n",
    "\n",
    "threshold = 0\n",
    "\n",
    "lr_e_num_clusters_vec = np.zeros(len(alpha_list))\n",
    "refit_e_num_clusters_vec = np.zeros(len(alpha_list))\n",
    "\n",
    "for i in range(len(alpha_list)): \n",
    "    lr_e_num_clusters, _ = gmm_lib.get_e_num_clusters_from_free_par(features, vb_params_paragami, \n",
    "                                    lr_list[i],\n",
    "                                    gh_loc, gh_weights,\n",
    "                                    threshold = threshold,\n",
    "                                    n_samples = 100000)\n",
    "    \n",
    "    lr_e_num_clusters_vec[i] = lr_e_num_clusters\n",
    "    \n",
    "    refit_e_num_clusters, _ = gmm_lib.get_e_num_clusters_from_free_par(features, vb_params_paragami, \n",
    "                                    vb_pert_list[i],\n",
    "                                    gh_loc, gh_weights,\n",
    "                                    threshold = threshold,\n",
    "                                    n_samples = 100000)\n",
    "    \n",
    "    refit_e_num_clusters_vec[i] = refit_e_num_clusters\n",
    "    \n"
   ]
  },
  {
   "cell_type": "code",
   "execution_count": null,
   "metadata": {
    "collapsed": false
   },
   "outputs": [],
   "source": [
    "plt.plot(alpha_list, lr_e_num_clusters_vec, '+--')\n",
    "plt.plot(alpha_list, refit_e_num_clusters_vec, '+-')\n",
    "\n",
    "plt.xlabel('alpha')\n",
    "plt.ylabel('num posterior clusters')\n",
    "plt.legend(('lr', 'refit'))\n",
    "\n",
    "plt.axvline(prior_params_dict['alpha'], color = 'red', linestyle = 'dashed')\n"
   ]
  },
  {
   "cell_type": "code",
   "execution_count": null,
   "metadata": {
    "collapsed": true
   },
   "outputs": [],
   "source": [
    "gmm_lib.get_e_num_pred_clusters_from_vb_free_params?"
   ]
  },
  {
   "cell_type": "code",
   "execution_count": null,
   "metadata": {
    "collapsed": true
   },
   "outputs": [],
   "source": [
    "foo = gmm_lib.get_e_num_pred_clusters_from_vb_free_params(vb_params_paragami, \n",
    "                                    lr_list[i],\n",
    "                                    n_obs = 100, \n",
    "                                    threshold = threshold,\n",
    "                                    n_samples = 100000)"
   ]
  },
  {
   "cell_type": "code",
   "execution_count": null,
   "metadata": {
    "collapsed": true
   },
   "outputs": [],
   "source": [
    "foo = gmm_lib.get_e_num_pred_clusters_from_vb_free_params(vb_params_paragami, \n",
    "                                    vb_pert_list[i],\n",
    "                                    n_obs = np.shape(features)[0], \n",
    "                                    threshold = threshold,\n",
    "                                    n_samples = 100000)"
   ]
  },
  {
   "cell_type": "code",
   "execution_count": null,
   "metadata": {
    "collapsed": false
   },
   "outputs": [],
   "source": [
    "# Posterior predictive clusters\n",
    "\n",
    "threshold = 0\n",
    "\n",
    "lr_e_num_pred_clusters_vec = np.zeros(len(alpha_list))\n",
    "refit_e_num_pred_clusters_vec = np.zeros(len(alpha_list))\n",
    "\n",
    "for i in range(len(alpha_list)): \n",
    "    lr_e_num_pred_clusters = gmm_lib.get_e_num_pred_clusters_from_vb_free_params(vb_params_paragami, \n",
    "                                    lr_list[i],\n",
    "                                    n_obs = np.shape(features)[0], \n",
    "                                    threshold = threshold,\n",
    "                                    n_samples = 100000)\n",
    "    \n",
    "    lr_e_num_pred_clusters_vec[i] = lr_e_num_pred_clusters\n",
    "    \n",
    "    refit_e_num_pred_clusters = gmm_lib.get_e_num_pred_clusters_from_vb_free_params(vb_params_paragami, \n",
    "                                    vb_pert_list[i],\n",
    "                                    n_obs = np.shape(features)[0], \n",
    "                                    threshold = threshold,\n",
    "                                    n_samples = 100000)\n",
    "    \n",
    "    refit_e_num_pred_clusters_vec[i] = refit_e_num_pred_clusters\n",
    "    \n"
   ]
  },
  {
   "cell_type": "code",
   "execution_count": null,
   "metadata": {
    "collapsed": false
   },
   "outputs": [],
   "source": [
    "plt.plot(alpha_list, lr_e_num_pred_clusters_vec, '+--')\n",
    "plt.plot(alpha_list, refit_e_num_pred_clusters_vec, '+-')\n",
    "\n",
    "plt.xlabel('alpha')\n",
    "plt.ylabel('num posterior clusters')\n",
    "plt.legend(('lr', 'refit'))\n",
    "\n",
    "plt.axvline(prior_params_dict['alpha'], color = 'red', linestyle = 'dashed')\n"
   ]
  },
  {
   "cell_type": "code",
   "execution_count": null,
   "metadata": {
    "collapsed": true
   },
   "outputs": [],
   "source": []
  },
  {
   "cell_type": "code",
   "execution_count": null,
   "metadata": {
    "collapsed": true
   },
   "outputs": [],
   "source": []
  }
 ],
 "metadata": {
  "kernelspec": {
   "display_name": "Python 3",
   "language": "python",
   "name": "python3"
  },
  "language_info": {
   "codemirror_mode": {
    "name": "ipython",
    "version": 3
   },
   "file_extension": ".py",
   "mimetype": "text/x-python",
   "name": "python",
   "nbconvert_exporter": "python",
   "pygments_lexer": "ipython3",
   "version": "3.6.0"
  }
 },
 "nbformat": 4,
 "nbformat_minor": 2
}
