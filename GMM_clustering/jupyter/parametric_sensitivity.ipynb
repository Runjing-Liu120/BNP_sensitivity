{
 "cells": [
  {
   "cell_type": "markdown",
   "metadata": {},
   "source": [
    "This notebook demonstrates the use of our linear approximation for sensitivity with respect to the Dirichlet process $\\alpha$ parameter"
   ]
  },
  {
   "cell_type": "code",
   "execution_count": 1,
   "metadata": {},
   "outputs": [
    {
     "name": "stderr",
     "output_type": "stream",
     "text": [
      "/home/rgiordan/Documents/git_repos/BNP_sensitivity/GMM_clustering/venv/lib/python3.5/site-packages/autograd/core.py:290: UserWarning: \n",
      "The defvjp method is deprecated. See the update guide and tutorial:\n",
      "https://github.com/HIPS/autograd/blob/master/docs/updateguide.md\n",
      "https://github.com/HIPS/autograd/blob/master/docs/tutorial.md\n",
      "  warnings.warn(deprecation_msg)\n"
     ]
    }
   ],
   "source": [
    "from autograd import numpy as np\n",
    "from autograd import scipy as sp\n",
    "\n",
    "from numpy.polynomial.hermite import hermgauss\n",
    "\n",
    "np.random.seed(453453)\n",
    "\n",
    "import paragami\n",
    "\n",
    "# BNP sensitivity libraries\n",
    "import sys\n",
    "# sys.path.insert(0, '../libraries/')\n",
    "# sys.path.insert(0, '../../BNP_modeling/')\n",
    "\n",
    "import bnpgmm_runjingdev.gmm_clustering_lib as gmm_lib\n",
    "import bnpmodeling_runjingdev.modeling_lib as modeling_lib \n",
    "import bnpgmm_runjingdev.utils_lib as utils_lib\n",
    "import bnpmodeling_runjingdev.cluster_quantities_lib as cluster_lib\n",
    "import bnpmodeling_runjingdev.optimization_lib as optimization_lib\n",
    "\n",
    "import matplotlib.pyplot as plt\n",
    "%matplotlib inline\n",
    "import matplotlib.cm as cm\n",
    "\n",
    "from sklearn.decomposition import PCA\n",
    "\n",
    "from copy import deepcopy\n",
    "\n",
    "import vittles\n",
    "\n",
    "import json "
   ]
  },
  {
   "cell_type": "markdown",
   "metadata": {},
   "source": [
    "# Load data"
   ]
  },
  {
   "cell_type": "markdown",
   "metadata": {},
   "source": [
    "We load and plot the iris dataset"
   ]
  },
  {
   "cell_type": "code",
   "execution_count": 2,
   "metadata": {},
   "outputs": [],
   "source": [
    "# load iris data\n",
    "dataset_name = 'iris'\n",
    "features, iris_species = utils_lib.load_data()\n",
    "dim = features.shape[1]\n",
    "n_obs = len(iris_species)    "
   ]
  },
  {
   "cell_type": "code",
   "execution_count": 3,
   "metadata": {},
   "outputs": [
    {
     "data": {
      "text/plain": [
       "Text(0, 0.5, 'PC2')"
      ]
     },
     "execution_count": 3,
     "metadata": {},
     "output_type": "execute_result"
    },
    {
     "data": {
      "image/png": "[encoded data removed]",
      "text/plain": [
       "<Figure size 432x288 with 1 Axes>"
      ]
     },
     "metadata": {
      "needs_background": "light"
     },
     "output_type": "display_data"
    }
   ],
   "source": [
    "# run PCA\n",
    "pca_fit = PCA()\n",
    "pca_fit.fit(features)\n",
    "pc_features = pca_fit.transform(features)\n",
    "\n",
    "# plot\n",
    "cmap = cm.get_cmap(name='gist_rainbow')\n",
    "colors1 = [cmap(k * 50) for k in range(30)]\n",
    "\n",
    "fig1 = plt.figure(1)\n",
    "fig = fig1.add_subplot(111)\n",
    "utils_lib.plot_clusters(pc_features[:, 0], pc_features[:, 1], iris_species, colors1, fig)\n",
    "fig.set_xlabel('PC1')\n",
    "fig.set_ylabel('PC2')\n"
   ]
  },
  {
   "cell_type": "markdown",
   "metadata": {},
   "source": [
    "# Set up model"
   ]
  },
  {
   "cell_type": "markdown",
   "metadata": {},
   "source": [
    "### Prior parameters"
   ]
  },
  {
   "cell_type": "code",
   "execution_count": 4,
   "metadata": {},
   "outputs": [
    {
     "name": "stdout",
     "output_type": "stream",
     "text": [
      "{'prior_gamma_df': array([8.]), 'prior_centroid_info': array([0.1]), 'prior_centroid_mean': array([0.]), 'alpha': 3.5, 'prior_gamma_inv_scale': array([[0.62, 0.  , 0.  , 0.  ],\n",
      "       [0.  , 0.62, 0.  , 0.  ],\n",
      "       [0.  , 0.  , 0.62, 0.  ],\n",
      "       [0.  , 0.  , 0.  , 0.62]])}\n"
     ]
    }
   ],
   "source": [
    "# Get priors\n",
    "prior_params_dict, prior_params_paragami = gmm_lib.get_default_prior_params(dim)\n",
    "prior_params_dict['alpha'] = 3.5\n",
    "print(prior_params_dict)"
   ]
  },
  {
   "cell_type": "markdown",
   "metadata": {},
   "source": [
    "### Variational parameters"
   ]
  },
  {
   "cell_type": "code",
   "execution_count": 5,
   "metadata": {
    "collapsed": true
   },
   "outputs": [],
   "source": [
    "# number of clusters in variational distribution \n",
    "k_approx = 30"
   ]
  },
  {
   "cell_type": "code",
   "execution_count": 6,
   "metadata": {
    "collapsed": true
   },
   "outputs": [],
   "source": [
    "# Gauss-Hermite points for integrating logitnormal stick-breaking prior\n",
    "gh_deg = 8\n",
    "gh_loc, gh_weights = hermgauss(gh_deg)"
   ]
  },
  {
   "cell_type": "code",
   "execution_count": 7,
   "metadata": {
    "collapsed": true
   },
   "outputs": [],
   "source": [
    "# get vb parameters\n",
    "vb_params_dict, vb_params_paragami = gmm_lib.get_vb_params_paragami_object(dim, k_approx)"
   ]
  },
  {
   "cell_type": "code",
   "execution_count": 8,
   "metadata": {
    "collapsed": true
   },
   "outputs": [],
   "source": [
    "stick_propn_mean = vb_params_dict['stick_propn_mean']\n",
    "stick_propn_info = vb_params_dict['stick_propn_info']"
   ]
  },
  {
   "cell_type": "raw",
   "metadata": {},
   "source": [
    "from modeling_lib import ef"
   ]
  },
  {
   "cell_type": "raw",
   "metadata": {},
   "source": [
    "stick_propn_mean = stick_propn_mean[:, None]\n",
    "stick_propn_info = stick_propn_info[:, None]"
   ]
  },
  {
   "cell_type": "raw",
   "metadata": {},
   "source": [
    "e_log_v, e_log_1mv = \\\n",
    "        ef.get_e_log_logitnormal(\n",
    "            lognorm_means = stick_propn_mean,\n",
    "            lognorm_infos = stick_propn_info,\n",
    "            gh_loc = gh_loc,\n",
    "            gh_weights = gh_weights)"
   ]
  },
  {
   "cell_type": "raw",
   "metadata": {},
   "source": [
    "e_log_v.shape"
   ]
  },
  {
   "cell_type": "raw",
   "metadata": {},
   "source": [
    "zeros_shape = stick_propn_mean.shape[0:-1] + (1,)"
   ]
  },
  {
   "cell_type": "raw",
   "metadata": {},
   "source": [
    "e_log_stick_remain = np.concatenate([np.zeros(zeros_shape), \\\n",
    "                                        np.cumsum(e_log_1mv, axis = -1)], axis = -1)"
   ]
  },
  {
   "cell_type": "raw",
   "metadata": {},
   "source": [
    "np.cumsum(e_log_1mv, axis = -1)"
   ]
  },
  {
   "cell_type": "raw",
   "metadata": {},
   "source": [
    "e_log_stick_remain"
   ]
  },
  {
   "cell_type": "code",
   "execution_count": 9,
   "metadata": {},
   "outputs": [
    {
     "data": {
      "text/plain": [
       "5.545023494918516"
      ]
     },
     "execution_count": 9,
     "metadata": {},
     "output_type": "execute_result"
    }
   ],
   "source": [
    "cluster_lib.get_e_number_clusters_from_logit_sticks(stick_propn_mean, stick_propn_info, n_obs, n_samples=100)"
   ]
  },
  {
   "cell_type": "code",
   "execution_count": 10,
   "metadata": {},
   "outputs": [
    {
     "data": {
      "text/plain": [
       "1460.205125758913"
      ]
     },
     "execution_count": 10,
     "metadata": {},
     "output_type": "execute_result"
    }
   ],
   "source": [
    "# the objective \n",
    "gmm_lib.get_kl(features, vb_params_dict, prior_params_dict, gh_loc, gh_weights)"
   ]
  },
  {
   "cell_type": "markdown",
   "metadata": {},
   "source": [
    "# Optimize the KL objective"
   ]
  },
  {
   "cell_type": "markdown",
   "metadata": {},
   "source": [
    "### Initialize with k-means"
   ]
  },
  {
   "cell_type": "code",
   "execution_count": 11,
   "metadata": {},
   "outputs": [
    {
     "name": "stdout",
     "output_type": "stream",
     "text": [
      "initial kl: \n",
      "450.9718947107098\n"
     ]
    }
   ],
   "source": [
    "# run a kmeans init\n",
    "n_kmeans_init = 50\n",
    "init_vb_free_params, init_vb_params_dict, init_ez = \\\n",
    "    utils_lib.cluster_and_get_k_means_inits(features, vb_params_paragami, \n",
    "                                                n_kmeans_init = n_kmeans_init, \n",
    "                                                  seed = 453453)\n",
    "\n",
    "print('initial kl: ')\n",
    "print(gmm_lib.get_kl(features, init_vb_params_dict, prior_params_dict, gh_loc, gh_weights))"
   ]
  },
  {
   "cell_type": "markdown",
   "metadata": {},
   "source": [
    "### Set up KL objective as a function of unconstrained VB parameters"
   ]
  },
  {
   "cell_type": "code",
   "execution_count": 12,
   "metadata": {
    "collapsed": true
   },
   "outputs": [],
   "source": [
    "# get loss as a function of vb parameters\n",
    "get_vb_params_loss = paragami.FlattenFunctionInput(\n",
    "                                original_fun=gmm_lib.get_kl, \n",
    "                                patterns = vb_params_paragami,\n",
    "                                free = True,\n",
    "                                argnums = 1)\n",
    "\n",
    "get_loss = lambda x : get_vb_params_loss(features, x, prior_params_dict, gh_loc, gh_weights)\n"
   ]
  },
  {
   "cell_type": "markdown",
   "metadata": {},
   "source": [
    "### Run Newton "
   ]
  },
  {
   "cell_type": "code",
   "execution_count": 13,
   "metadata": {
    "scrolled": false
   },
   "outputs": [
    {
     "name": "stdout",
     "output_type": "stream",
     "text": [
      "running bfgs ... \n",
      "Iter 0: f = 450.97189471\n",
      "Iter 1: f = 288.42252948\n",
      "Iter 2: f = 132.82724910\n",
      "Iter 3: f = 849.69522338\n",
      "Iter 4: f = 102.95800124\n",
      "Iter 5: f = 69.15077895\n",
      "Iter 6: f = 35.10598280\n",
      "Iter 7: f = 149.86270237\n",
      "Iter 8: f = 27.90810015\n",
      "Iter 9: f = 15.66532676\n",
      "Iter 10: f = -4.96037757\n",
      "Iter 11: f = -35.63242473\n",
      "Iter 12: f = -69.57876702\n",
      "Iter 13: f = -106.48627732\n",
      "Iter 14: f = -109.56137218\n",
      "Iter 15: f = -129.49640794\n",
      "Iter 16: f = -148.49222218\n",
      "Iter 17: f = -180.42498864\n",
      "Iter 18: f = -183.90475287\n",
      "Iter 19: f = -197.82029664\n",
      "Iter 20: f = -223.21611941\n",
      "Iter 21: f = -210.67850230\n",
      "Iter 22: f = -233.90999359\n",
      "Iter 23: f = -248.01428698\n",
      "Iter 24: f = -266.50049101\n",
      "Iter 25: f = -275.43483870\n",
      "Iter 26: f = -288.85589805\n",
      "Iter 27: f = -294.21119573\n",
      "Iter 28: f = -301.02567169\n",
      "Iter 29: f = -309.37688825\n",
      "Iter 30: f = -321.41152123\n",
      "Iter 31: f = -317.57546051\n",
      "Iter 32: f = -326.55252540\n",
      "Iter 33: f = -332.95619469\n",
      "Iter 34: f = -339.92264168\n",
      "Iter 35: f = -342.52883975\n",
      "Iter 36: f = -346.68395276\n",
      "Iter 37: f = -350.75684611\n",
      "Iter 38: f = -352.57523099\n",
      "Iter 39: f = -353.53276812\n",
      "Iter 40: f = -355.19020276\n",
      "Iter 41: f = -357.41563954\n",
      "Iter 42: f = -360.11712531\n",
      "Iter 43: f = -360.28432755\n",
      "Iter 44: f = -361.65123527\n",
      "Iter 45: f = -362.84789902\n",
      "Iter 46: f = -364.65549981\n",
      "Iter 47: f = -365.58670247\n",
      "Iter 48: f = -366.11426312\n",
      "Iter 49: f = -366.87512539\n",
      "Iter 50: f = -367.77034542\n",
      "Iter 51: f = -368.42136448\n",
      "Iter 52: f = -368.76226459\n",
      "Iter 53: f = -369.17953011\n",
      "Iter 54: f = -369.50667211\n",
      "Iter 55: f = -369.72398771\n",
      "Iter 56: f = -370.01192096\n",
      "Iter 57: f = -370.17129978\n",
      "Iter 58: f = -370.36611171\n",
      "Iter 59: f = -370.49712580\n",
      "Iter 60: f = -370.66428659\n",
      "Iter 61: f = -370.81982936\n",
      "Iter 62: f = -370.88387584\n",
      "Iter 63: f = -370.97162379\n",
      "Iter 64: f = -371.05120055\n",
      "Iter 65: f = -371.07521138\n",
      "Iter 66: f = -371.10784111\n",
      "Iter 67: f = -371.14022825\n",
      "Iter 68: f = -371.15357778\n",
      "Iter 69: f = -371.16944287\n",
      "Iter 70: f = -371.19325523\n",
      "Iter 71: f = -371.22367365\n",
      "Iter 72: f = -371.25748126\n",
      "Iter 73: f = -371.27206997\n",
      "Iter 74: f = -371.29805374\n",
      "Iter 75: f = -371.34002527\n",
      "Iter 76: f = -371.40249739\n",
      "Iter 77: f = -371.19145540\n",
      "Iter 78: f = -371.41845841\n",
      "Iter 79: f = -371.43797585\n",
      "Iter 80: f = -371.46384883\n",
      "Iter 81: f = -371.49759438\n",
      "Iter 82: f = -371.52441954\n",
      "Iter 83: f = -371.54416963\n",
      "Iter 84: f = -371.56370244\n",
      "Iter 85: f = -371.56773419\n",
      "Iter 86: f = -371.57425103\n",
      "Iter 87: f = -371.58117459\n",
      "Iter 88: f = -371.58189523\n",
      "Iter 89: f = -371.58320225\n",
      "Iter 90: f = -371.58545608\n",
      "Iter 91: f = -371.58809986\n",
      "Iter 92: f = -371.58993731\n",
      "Iter 93: f = -371.59067724\n",
      "Iter 94: f = -371.59174795\n",
      "Iter 95: f = -371.59336080\n",
      "Iter 96: f = -371.59502429\n",
      "Iter 97: f = -371.59702601\n",
      "Iter 98: f = -371.59867821\n",
      "Iter 99: f = -371.60073189\n",
      "Iter 100: f = -371.60376949\n",
      "Iter 101: f = -371.60661674\n",
      "Iter 102: f = -371.61178171\n",
      "Iter 103: f = -371.62088956\n",
      "Iter 104: f = -371.63040016\n",
      "Iter 105: f = -371.64412673\n",
      "Iter 106: f = -371.66702592\n",
      "Iter 107: f = -371.70286871\n",
      "Iter 108: f = -371.74176280\n",
      "Iter 109: f = -371.78774698\n",
      "Iter 110: f = -371.79656833\n",
      "Iter 111: f = -371.81205878\n",
      "Iter 112: f = -371.83707544\n",
      "Iter 113: f = -371.85195328\n",
      "Iter 114: f = -371.86647537\n",
      "Iter 115: f = -371.87291836\n",
      "Iter 116: f = -371.88119765\n",
      "Iter 117: f = -371.88549605\n",
      "Iter 118: f = -371.89178817\n",
      "Iter 119: f = -371.89722259\n",
      "Iter 120: f = -371.89965840\n",
      "Iter 121: f = -371.90138196\n",
      "Iter 122: f = -371.90408528\n",
      "Iter 123: f = -371.90788422\n",
      "Iter 124: f = -371.90808967\n",
      "Iter 125: f = -371.90986842\n",
      "Iter 126: f = -371.91128533\n",
      "Iter 127: f = -371.91302102\n",
      "Iter 128: f = -371.91395720\n",
      "Iter 129: f = -371.91407603\n",
      "Iter 130: f = -371.91429758\n",
      "Iter 131: f = -371.91467452\n",
      "Iter 132: f = -371.91490795\n",
      "Iter 133: f = -371.91512304\n",
      "Iter 134: f = -371.91518296\n",
      "Iter 135: f = -371.91522076\n",
      "Iter 136: f = -371.91521405\n",
      "Iter 137: f = -371.91523831\n",
      "Iter 138: f = -371.91526125\n",
      "Iter 139: f = -371.91526990\n",
      "Iter 140: f = -371.91525891\n",
      "Iter 141: f = -371.91527252\n",
      "Iter 142: f = -371.91527641\n",
      "Iter 143: f = -371.91528117\n",
      "Iter 144: f = -371.91527519\n",
      "Iter 145: f = -371.91528198\n",
      "Iter 146: f = -371.91528298\n",
      "Iter 147: f = -371.91528338\n",
      "Iter 148: f = -371.91528345\n",
      "Iter 149: f = -371.91528353\n",
      "Iter 150: f = -371.91528360\n",
      "Iter 151: f = -371.91528362\n",
      "Iter 152: f = -371.91528363\n",
      "Iter 153: f = -371.91528363\n",
      "Iter 154: f = -371.91528365\n",
      "Iter 155: f = -371.91528365\n",
      "Iter 156: f = -371.91528365\n",
      "Iter 157: f = -371.91528366\n",
      "Iter 158: f = -371.91528366\n",
      "Iter 159: f = -371.91528366\n",
      "Iter 160: f = -371.91528366\n",
      "Iter 161: f = -371.91528366\n",
      "Iter 162: f = -371.91528366\n",
      "Iter 163: f = -371.91528366\n",
      "Iter 164: f = -371.91528366\n",
      "Iter 165: f = -371.91528366\n",
      "Iter 166: f = -371.91528366\n",
      "Iter 167: f = -371.91528366\n",
      "Iter 168: f = -371.91528366\n",
      "Iter 169: f = -371.91528366\n",
      "Iter 170: f = -371.91528366\n",
      "Iter 171: f = -371.91528366\n",
      "Iter 172: f = -371.91528366\n",
      "Iter 173: f = -371.91528366\n",
      "Iter 174: f = -371.91528366\n",
      "Iter 175: f = -371.91528366\n",
      "Warning: Desired error not necessarily achieved due to precision loss.\n",
      "         Current function value: -371.915284\n",
      "         Iterations: 158\n",
      "         Function evaluations: 176\n",
      "         Gradient evaluations: 175\n",
      "\n",
      " running preconditioned newton; iter =  0\n",
      "Computing Hessian to set preconditioner\n",
      "preconditioning time: 10.66\n",
      "running newton steps\n",
      "Iter 0: f = -371.91528366\n",
      "Iter 1: f = -371.91528366\n",
      "Optimization terminated successfully.\n",
      "         Current function value: -371.915284\n",
      "         Iterations: 1\n",
      "         Function evaluations: 2\n",
      "         Gradient evaluations: 2\n",
      "         Hessian evaluations: 2\n",
      "Iter 0: x_diff = 2.908895334398203e-05, f_diff = 1.2505552149377763e-12, grad_l1 = 1.7603020153571473e-10\n",
      "done. \n"
     ]
    }
   ],
   "source": [
    "vb_opt = optimization_lib.optimize_full(get_loss, init_vb_free_params,\n",
    "                    bfgs_max_iter = 500, netwon_max_iter = 50,\n",
    "                    max_precondition_iter = 10,\n",
    "                    gtol=1e-8, ftol=1e-8, xtol=1e-8)"
   ]
  },
  {
   "cell_type": "code",
   "execution_count": 14,
   "metadata": {
    "collapsed": true
   },
   "outputs": [],
   "source": [
    "vb_opt_dict = vb_params_paragami.fold(vb_opt, free = True)\n",
    "e_z_opt = gmm_lib.get_optimal_z_from_vb_params_dict(features, vb_opt_dict, gh_loc, gh_weights)"
   ]
  },
  {
   "cell_type": "markdown",
   "metadata": {},
   "source": [
    "### Check results"
   ]
  },
  {
   "cell_type": "code",
   "execution_count": 15,
   "metadata": {
    "collapsed": true
   },
   "outputs": [],
   "source": [
    "def plot_results_from_vb_params_dict(pca_fit, vb_params_dict, e_z, fig): \n",
    "    # we plot in PCA space\n",
    "    bnp_centroids_pc, bnp_cluster_covs_pc = \\\n",
    "        utils_lib.transform_params_to_pc_space(pca_fit, vb_params_dict['centroids'], \n",
    "                                               np.linalg.inv(vb_params_dict['gamma']))\n",
    "    \n",
    "    bnp_clusters = np.argmax(e_z, axis = 1)\n",
    "    \n",
    "    cmap = cm.get_cmap(name='gist_rainbow')\n",
    "    colors1 = [cmap(k * 50) for k in range(30)]\n",
    "\n",
    "    utils_lib.plot_clusters(pc_features[:, 0], pc_features[:, 1], bnp_clusters, \\\n",
    "                  colors1, fig, \\\n",
    "                  centroids = bnp_centroids_pc[:, np.unique(bnp_clusters)], \n",
    "                cov = bnp_cluster_covs_pc[np.unique(bnp_clusters)])\n"
   ]
  },
  {
   "cell_type": "code",
   "execution_count": 16,
   "metadata": {},
   "outputs": [
    {
     "data": {
      "text/plain": [
       "Text(0, 0.5, 'PC2')"
      ]
     },
     "execution_count": 16,
     "metadata": {},
     "output_type": "execute_result"
    },
    {
     "data": {
      "image/png": "[encoded data removed]",
      "text/plain": [
       "<Figure size 432x288 with 1 Axes>"
      ]
     },
     "metadata": {
      "needs_background": "light"
     },
     "output_type": "display_data"
    }
   ],
   "source": [
    "# Newton results\n",
    "fig1 = plt.figure(1)\n",
    "fig = fig1.add_subplot(111)\n",
    "\n",
    "plot_results_from_vb_params_dict(pca_fit, vb_opt_dict, e_z_opt, fig)\n",
    "fig.set_xlabel('PC1', fontsize = 18)\n",
    "fig.set_ylabel('PC2', fontsize = 18)\n"
   ]
  },
  {
   "cell_type": "markdown",
   "metadata": {},
   "source": [
    "# Parametric sensitivity"
   ]
  },
  {
   "cell_type": "markdown",
   "metadata": {},
   "source": [
    "### Get the hyper parameter sensitivity object"
   ]
  },
  {
   "cell_type": "code",
   "execution_count": 17,
   "metadata": {
    "collapsed": true
   },
   "outputs": [],
   "source": [
    "get_prior_vb_loss = paragami.FlattenFunctionInput(original_fun=gmm_lib.get_kl, \n",
    "                                    patterns = [vb_params_paragami, prior_params_paragami],\n",
    "                                    free = True,\n",
    "                                    argnums = [1, 2])"
   ]
  },
  {
   "cell_type": "code",
   "execution_count": 18,
   "metadata": {},
   "outputs": [],
   "source": [
    "vb_sens = \\\n",
    "    vittles.HyperparameterSensitivityLinearApproximation(\n",
    "        objective_fun = lambda x, y: get_prior_vb_loss(features, x, y, gh_loc, gh_weights),\n",
    "        opt_par_value = vb_opt, \n",
    "        hyper_par_value = prior_params_paragami.flatten(prior_params_dict, free=True),\n",
    "        validate_optimum=False,\n",
    "        hessian_at_opt=None,\n",
    "        cross_hess_at_opt=None,\n",
    "        factorize_hessian=True,\n",
    "        hyper_par_objective_fun=None,\n",
    "        grad_tol=1e-8)\n"
   ]
  },
  {
   "cell_type": "markdown",
   "metadata": {},
   "source": [
    "### Set new prior"
   ]
  },
  {
   "cell_type": "code",
   "execution_count": 19,
   "metadata": {
    "collapsed": true
   },
   "outputs": [],
   "source": [
    "new_alpha = np.array([5.])\n",
    "\n",
    "prior_params_pert_dict = deepcopy(prior_params_dict)\n",
    "prior_params_pert_dict['alpha'] = new_alpha\n"
   ]
  },
  {
   "cell_type": "code",
   "execution_count": 20,
   "metadata": {},
   "outputs": [
    {
     "name": "stdout",
     "output_type": "stream",
     "text": [
      "initial alpha,  3.5\n",
      "perturbed alpha,  [5.]\n"
     ]
    }
   ],
   "source": [
    "print('initial alpha, ', prior_params_dict['alpha'])\n",
    "print('perturbed alpha, ', prior_params_pert_dict['alpha'])"
   ]
  },
  {
   "cell_type": "markdown",
   "metadata": {},
   "source": [
    "### get linear response prediction"
   ]
  },
  {
   "cell_type": "code",
   "execution_count": 21,
   "metadata": {
    "collapsed": true
   },
   "outputs": [],
   "source": [
    "lr_vb_free_params = \\\n",
    "    vb_sens.predict_opt_par_from_hyper_par(\n",
    "        prior_params_paragami.flatten(prior_params_pert_dict, free = True))"
   ]
  },
  {
   "cell_type": "code",
   "execution_count": 22,
   "metadata": {},
   "outputs": [
    {
     "name": "stdout",
     "output_type": "stream",
     "text": [
      "l_inf diff:  0.41804611256537694\n"
     ]
    }
   ],
   "source": [
    "print('l_inf diff: ', np.max(np.abs(lr_vb_free_params - vb_opt)))"
   ]
  },
  {
   "cell_type": "markdown",
   "metadata": {},
   "source": [
    "### re-optimize"
   ]
  },
  {
   "cell_type": "code",
   "execution_count": 23,
   "metadata": {
    "collapsed": true
   },
   "outputs": [],
   "source": [
    "# set up new objective, with the prior changed\n",
    "get_pert_loss = lambda x : get_vb_params_loss(features, x, prior_params_pert_dict, gh_loc, gh_weights)"
   ]
  },
  {
   "cell_type": "code",
   "execution_count": 24,
   "metadata": {},
   "outputs": [
    {
     "name": "stdout",
     "output_type": "stream",
     "text": [
      "running bfgs ... \n",
      "Iter 0: f = -355.88279216\n",
      "Iter 1: f = -355.47206397\n",
      "Iter 2: f = -356.43067465\n",
      "Iter 3: f = -347.97505340\n",
      "Iter 4: f = -356.46261456\n",
      "Iter 5: f = -356.51781014\n",
      "Iter 6: f = -356.61847876\n",
      "Iter 7: f = -356.69192515\n",
      "Iter 8: f = -356.76307071\n",
      "Iter 9: f = -356.85883828\n",
      "Iter 10: f = -356.92862113\n",
      "Iter 11: f = -356.98569526\n",
      "Iter 12: f = -357.05655620\n",
      "Iter 13: f = -357.16414334\n",
      "Iter 14: f = -357.27229162\n",
      "Iter 15: f = -357.29187420\n",
      "Iter 16: f = -357.32755786\n",
      "Iter 17: f = -357.36171780\n",
      "Iter 18: f = -357.41744387\n",
      "Iter 19: f = -357.45662339\n",
      "Iter 20: f = -357.52003670\n",
      "Iter 21: f = -357.61599039\n",
      "Iter 22: f = -357.69223040\n",
      "Iter 23: f = -357.50371864\n",
      "Iter 24: f = -357.70972170\n",
      "Iter 25: f = -357.72385874\n",
      "Iter 26: f = -357.74420642\n",
      "Iter 27: f = -357.77833690\n",
      "Iter 28: f = -357.81515995\n",
      "Iter 29: f = -357.76460484\n",
      "Iter 30: f = -357.82629728\n",
      "Iter 31: f = -357.83715272\n",
      "Iter 32: f = -357.85231113\n",
      "Iter 33: f = -357.85421617\n",
      "Iter 34: f = -357.85774532\n",
      "Iter 35: f = -357.85985807\n",
      "Iter 36: f = -357.86380324\n",
      "Iter 37: f = -357.87060334\n",
      "Iter 38: f = -357.87586748\n",
      "Iter 39: f = -357.87521837\n",
      "Iter 40: f = -357.87837498\n",
      "Iter 41: f = -357.88272557\n",
      "Iter 42: f = -357.87640075\n",
      "Iter 43: f = -357.88400616\n",
      "Iter 44: f = -357.88643822\n",
      "Iter 45: f = -357.88767307\n",
      "Iter 46: f = -357.88949634\n",
      "Iter 47: f = -357.89264820\n",
      "Iter 48: f = -357.89730360\n",
      "Iter 49: f = -357.87167396\n",
      "Iter 50: f = -357.89792670\n",
      "Iter 51: f = -357.89906532\n",
      "Iter 52: f = -357.90021036\n",
      "Iter 53: f = -357.90196926\n",
      "Iter 54: f = -357.90393046\n",
      "Iter 55: f = -357.90325680\n",
      "Iter 56: f = -357.90477865\n",
      "Iter 57: f = -357.90578295\n",
      "Iter 58: f = -357.90661255\n",
      "Iter 59: f = -357.90756028\n",
      "Iter 60: f = -357.90827252\n",
      "Iter 61: f = -357.90822441\n",
      "Iter 62: f = -357.90862040\n",
      "Iter 63: f = -357.90867025\n",
      "Iter 64: f = -357.90875402\n",
      "Iter 65: f = -357.90887399\n",
      "Iter 66: f = -357.90897463\n",
      "Iter 67: f = -357.90895643\n",
      "Iter 68: f = -357.90902129\n",
      "Iter 69: f = -357.90904930\n",
      "Iter 70: f = -357.90907932\n",
      "Iter 71: f = -357.90909713\n",
      "Iter 72: f = -357.90910418\n",
      "Iter 73: f = -357.90911420\n",
      "Iter 74: f = -357.90911929\n",
      "Iter 75: f = -357.90912509\n",
      "Iter 76: f = -357.90912419\n",
      "Iter 77: f = -357.90912764\n",
      "Iter 78: f = -357.90912983\n",
      "Iter 79: f = -357.90913015\n",
      "Iter 80: f = -357.90913073\n",
      "Iter 81: f = -357.90913171\n",
      "Iter 82: f = -357.90913241\n",
      "Iter 83: f = -357.90913315\n",
      "Iter 84: f = -357.90913268\n",
      "Iter 85: f = -357.90913326\n",
      "Iter 86: f = -357.90913336\n",
      "Iter 87: f = -357.90913331\n",
      "Iter 88: f = -357.90913340\n",
      "Iter 89: f = -357.90913345\n",
      "Iter 90: f = -357.90913346\n",
      "Iter 91: f = -357.90913348\n",
      "Iter 92: f = -357.90913350\n",
      "Iter 93: f = -357.90913349\n",
      "Iter 94: f = -357.90913350\n",
      "Iter 95: f = -357.90913351\n",
      "Iter 96: f = -357.90913351\n",
      "Iter 97: f = -357.90913351\n",
      "Iter 98: f = -357.90913351\n",
      "Iter 99: f = -357.90913352\n",
      "Iter 100: f = -357.90913352\n",
      "Iter 101: f = -357.90913352\n",
      "Iter 102: f = -357.90913352\n",
      "Iter 103: f = -357.90913352\n",
      "Iter 104: f = -357.90913352\n",
      "Iter 105: f = -357.90913352\n",
      "Iter 106: f = -357.90913352\n",
      "Iter 107: f = -357.90913352\n",
      "Iter 108: f = -357.90913352\n",
      "Iter 109: f = -357.90913352\n",
      "Iter 110: f = -357.90913352\n",
      "Iter 111: f = -357.90913352\n",
      "Iter 112: f = -357.90913352\n",
      "Iter 113: f = -357.90913352\n",
      "Iter 114: f = -357.90913352\n",
      "Iter 115: f = -357.90913352\n",
      "Iter 116: f = -357.90913352\n",
      "Iter 117: f = -357.90913352\n",
      "Iter 118: f = -357.90913352\n",
      "Iter 119: f = -357.90913352\n",
      "Iter 120: f = -357.90913352\n",
      "Iter 121: f = -357.90913352\n",
      "Iter 122: f = -357.90913352\n",
      "Iter 123: f = -357.90913352\n",
      "Iter 124: f = -357.90913352\n",
      "Iter 125: f = -357.90913352\n",
      "Iter 126: f = -357.90913352\n",
      "Iter 127: f = -357.90913352\n",
      "Iter 128: f = -357.90913352\n",
      "Warning: Desired error not necessarily achieved due to precision loss.\n",
      "         Current function value: -357.909134\n",
      "         Iterations: 106\n",
      "         Function evaluations: 129\n",
      "         Gradient evaluations: 128\n",
      "\n",
      " running preconditioned newton; iter =  0\n",
      "Computing Hessian to set preconditioner\n",
      "preconditioning time: 10.42\n",
      "running newton steps\n",
      "Iter 0: f = -357.90913352\n",
      "Iter 1: f = -357.90913352\n",
      "Optimization terminated successfully.\n",
      "         Current function value: -357.909134\n",
      "         Iterations: 1\n",
      "         Function evaluations: 2\n",
      "         Gradient evaluations: 2\n",
      "         Hessian evaluations: 2\n",
      "Iter 0: x_diff = 1.3019970286439978e-05, f_diff = 5.684341886080802e-14, grad_l1 = 1.0878103265093382e-10\n",
      "done. \n"
     ]
    }
   ],
   "source": [
    "# Run newton\n",
    "vb_opt_pert = optimization_lib.optimize_full(get_pert_loss, deepcopy(vb_opt),\n",
    "                    bfgs_max_iter = 500, netwon_max_iter = 50,\n",
    "                    max_precondition_iter = 10,\n",
    "                    gtol=1e-8, ftol=1e-8, xtol=1e-8)"
   ]
  },
  {
   "cell_type": "markdown",
   "metadata": {},
   "source": [
    "### Compare linear response with refitting"
   ]
  },
  {
   "cell_type": "code",
   "execution_count": 25,
   "metadata": {
    "collapsed": true
   },
   "outputs": [],
   "source": [
    "def print_diff_plot(lr_vb_free_params, vb_opt_pert, vb_opt): \n",
    "    plt.plot(lr_vb_free_params - vb_opt, \n",
    "             vb_opt_pert - vb_opt, \n",
    "             '+', color = 'red')\n",
    "\n",
    "    plt.plot(lr_vb_free_params - vb_opt, \n",
    "            lr_vb_free_params - vb_opt, \n",
    "             '-', color = 'blue')\n",
    "\n",
    "    plt.xlabel('lr')\n",
    "    plt.ylabel('re-optimized')"
   ]
  },
  {
   "cell_type": "code",
   "execution_count": 26,
   "metadata": {},
   "outputs": [
    {
     "data": {
      "image/png": "[encoded data removed]",
      "text/plain": [
       "<Figure size 432x288 with 1 Axes>"
      ]
     },
     "metadata": {
      "needs_background": "light"
     },
     "output_type": "display_data"
    }
   ],
   "source": [
    "print_diff_plot(lr_vb_free_params, vb_opt_pert, vb_opt)"
   ]
  },
  {
   "cell_type": "markdown",
   "metadata": {
    "collapsed": true
   },
   "source": [
    "# Fit for a range of alpha "
   ]
  },
  {
   "cell_type": "code",
   "execution_count": 27,
   "metadata": {
    "collapsed": true
   },
   "outputs": [],
   "source": [
    "alpha_list = np.arange(1, 15)"
   ]
  },
  {
   "cell_type": "code",
   "execution_count": 28,
   "metadata": {
    "collapsed": true
   },
   "outputs": [],
   "source": [
    "def refit_with_alpha(alpha, vb_opt):\n",
    "    # sets new alpha, returns new vb optimum\n",
    "    \n",
    "    # set new prior\n",
    "    new_alpha = np.array([alpha])\n",
    "\n",
    "    prior_params_pert_dict = deepcopy(prior_params_dict)\n",
    "    prior_params_pert_dict['alpha'] = new_alpha\n",
    "    \n",
    "    # set up new objective, with the prior changed\n",
    "    get_pert_loss = lambda x : get_vb_params_loss(features, x, prior_params_pert_dict, gh_loc, gh_weights)\n",
    "    \n",
    "    # optimize\n",
    "    vb_opt_pert = optimization_lib.optimize_full(get_pert_loss,deepcopy(vb_opt),\n",
    "                    bfgs_max_iter = 500, netwon_max_iter = 50,\n",
    "                    max_precondition_iter = 10,\n",
    "                    gtol=1e-8, ftol=1e-8, xtol=1e-8)\n",
    "    \n",
    "    return vb_opt_pert"
   ]
  },
  {
   "cell_type": "markdown",
   "metadata": {},
   "source": [
    "### Re-optimize for range of alphas"
   ]
  },
  {
   "cell_type": "code",
   "execution_count": 29,
   "metadata": {},
   "outputs": [
    {
     "name": "stdout",
     "output_type": "stream",
     "text": [
      "alphas:  [ 1  2  3  4  5  6  7  8  9 10 11 12 13 14]\n"
     ]
    }
   ],
   "source": [
    "print('alphas: ', alpha_list)"
   ]
  },
  {
   "cell_type": "code",
   "execution_count": null,
   "metadata": {
    "scrolled": true
   },
   "outputs": [
    {
     "name": "stdout",
     "output_type": "stream",
     "text": [
      "re-optimzing with alpha =  1\n",
      "running bfgs ... \n",
      "Iter 0: f = -398.63610283\n",
      "Iter 1: f = -400.35032788\n",
      "Iter 2: f = -379.17314823\n",
      "Iter 3: f = -400.47356230\n",
      "Iter 4: f = -400.68723386\n",
      "Iter 5: f = -401.09016228\n",
      "Iter 6: f = -401.57313651\n",
      "Iter 7: f = -402.05249075\n",
      "Iter 8: f = -402.64346278\n",
      "Iter 9: f = -403.07387766\n",
      "Iter 10: f = -403.57638110\n",
      "Iter 11: f = -403.70546110\n",
      "Iter 12: f = -403.94705883\n",
      "Iter 13: f = -404.38767801\n",
      "Iter 14: f = -404.83662672\n",
      "Iter 15: f = -405.62022334\n",
      "Iter 16: f = -406.28136972\n",
      "Iter 17: f = -407.32200009\n",
      "Iter 18: f = -406.32777353\n",
      "Iter 19: f = -407.69109255\n",
      "Iter 20: f = -408.09228672\n",
      "Iter 21: f = -408.78853658\n",
      "Iter 22: f = -409.71461047\n",
      "Iter 23: f = -410.58947334\n",
      "Iter 24: f = -410.49676717\n",
      "Iter 25: f = -411.00191595\n",
      "Iter 26: f = -410.90702928\n",
      "Iter 27: f = -411.18591650\n",
      "Iter 28: f = -411.46535780\n",
      "Iter 29: f = -411.58233791\n",
      "Iter 30: f = -411.75520787\n",
      "Iter 31: f = -411.76162794\n",
      "Iter 32: f = -411.84451723\n",
      "Iter 33: f = -411.97803652\n",
      "Iter 34: f = -412.08365768\n",
      "Iter 35: f = -412.25888169\n",
      "Iter 36: f = -412.28567366\n",
      "Iter 37: f = -412.30777792\n",
      "Iter 38: f = -412.34698401\n",
      "Iter 39: f = -412.38934089\n",
      "Iter 40: f = -412.45159567\n",
      "Iter 41: f = -412.41572023\n",
      "Iter 42: f = -412.47607194\n",
      "Iter 43: f = -412.51732624\n",
      "Iter 44: f = -412.35528591\n",
      "Iter 45: f = -412.52452319\n",
      "Iter 46: f = -412.53657109\n",
      "Iter 47: f = -412.55653819\n",
      "Iter 48: f = -412.45987523\n",
      "Iter 49: f = -412.55955436\n",
      "Iter 50: f = -412.56531861\n",
      "Iter 51: f = -412.57484518\n",
      "Iter 52: f = -412.58863225\n",
      "Iter 53: f = -412.60416532\n",
      "Iter 54: f = -412.60816695\n",
      "Iter 55: f = -412.61403607\n",
      "Iter 56: f = -412.62207934\n",
      "Iter 57: f = -412.62345258\n",
      "Iter 58: f = -412.62603192\n",
      "Iter 59: f = -412.63062518\n",
      "Iter 60: f = -412.63771284\n",
      "Iter 61: f = -412.64588899\n",
      "Iter 62: f = -412.63777759\n",
      "Iter 63: f = -412.64834433\n",
      "Iter 64: f = -412.65096212\n",
      "Iter 65: f = -412.65310977\n",
      "Iter 66: f = -412.65589452\n",
      "Iter 67: f = -412.65871027\n",
      "Iter 68: f = -412.65984325\n",
      "Iter 69: f = -412.66164659\n",
      "Iter 70: f = -412.66407709\n",
      "Iter 71: f = -412.66523787\n",
      "Iter 72: f = -412.66635629\n",
      "Iter 73: f = -412.66601709\n",
      "Iter 74: f = -412.66684015\n",
      "Iter 75: f = -412.66689725\n",
      "Iter 76: f = -412.66700623\n",
      "Iter 77: f = -412.66720954\n",
      "Iter 78: f = -412.66752412\n",
      "Iter 79: f = -412.66796526\n",
      "Iter 80: f = -412.66820057\n",
      "Iter 81: f = -412.66829327\n",
      "Iter 82: f = -412.66834975\n",
      "Iter 83: f = -412.66844151\n",
      "Iter 84: f = -412.66841867\n",
      "Iter 85: f = -412.66848275\n",
      "Iter 86: f = -412.66852452\n",
      "Iter 87: f = -412.66853133\n",
      "Iter 88: f = -412.66853606\n",
      "Iter 89: f = -412.66854047\n",
      "Iter 90: f = -412.66854092\n",
      "Iter 91: f = -412.66854157\n",
      "Iter 92: f = -412.66854053\n",
      "Iter 93: f = -412.66854172\n",
      "Iter 94: f = -412.66854187\n",
      "Iter 95: f = -412.66854182\n",
      "Iter 96: f = -412.66854189\n",
      "Iter 97: f = -412.66854192\n",
      "Iter 98: f = -412.66854195\n",
      "Iter 99: f = -412.66854195\n",
      "Iter 100: f = -412.66854195\n",
      "Iter 101: f = -412.66854195\n",
      "Iter 102: f = -412.66854196\n",
      "Iter 103: f = -412.66854196\n",
      "Iter 104: f = -412.66854196\n",
      "Iter 105: f = -412.66854197\n",
      "Iter 106: f = -412.66854197\n",
      "Iter 107: f = -412.66854197\n",
      "Iter 108: f = -412.66854197\n",
      "Iter 109: f = -412.66854197\n",
      "Iter 110: f = -412.66854197\n",
      "Iter 111: f = -412.66854197\n",
      "Iter 112: f = -412.66854197\n",
      "Iter 113: f = -412.66854197\n",
      "Iter 114: f = -412.66854197\n",
      "Iter 115: f = -412.66854197\n",
      "Iter 116: f = -412.66854197\n",
      "Iter 117: f = -412.66854197\n",
      "Iter 118: f = -412.66854197\n",
      "Iter 119: f = -412.66854197\n",
      "Iter 120: f = -412.66854197\n",
      "Iter 121: f = -412.66854197\n",
      "Iter 122: f = -412.66854197\n",
      "Iter 123: f = -412.66854197\n",
      "Iter 124: f = -412.66854197\n",
      "Iter 125: f = -412.66854197\n",
      "Iter 126: f = -412.66854197\n",
      "Iter 127: f = -412.66854197\n",
      "Iter 128: f = -412.66854197\n",
      "Iter 129: f = -412.66854197\n",
      "Iter 130: f = -412.66854197\n",
      "Iter 131: f = -412.66854197\n",
      "Iter 132: f = -412.66854197\n",
      "Iter 133: f = -412.66854197\n",
      "Iter 134: f = -412.66854197\n",
      "Iter 135: f = -412.66854197\n",
      "Iter 136: f = -412.66854197\n",
      "Iter 137: f = -412.66854197\n",
      "Iter 138: f = -412.66854197\n",
      "Iter 139: f = -412.66854197\n",
      "Iter 140: f = -412.66854197\n",
      "Iter 141: f = -412.66854197\n",
      "Iter 142: f = -412.66854197\n",
      "Iter 143: f = -412.66854197\n",
      "Iter 144: f = -412.66854197\n",
      "Iter 145: f = -412.66854197\n",
      "Iter 146: f = -412.66854197\n",
      "Iter 147: f = -412.66854197\n",
      "Iter 148: f = -412.66854197\n",
      "Iter 149: f = -412.66854197\n",
      "Iter 150: f = -412.66854197\n",
      "Iter 151: f = -412.66854197\n",
      "Iter 152: f = -412.66854197\n",
      "Iter 153: f = -412.66854197\n",
      "Iter 154: f = -412.66854197\n",
      "Iter 155: f = -412.66854197\n",
      "Iter 156: f = -412.66854197\n",
      "Iter 157: f = -412.66854197\n",
      "Iter 158: f = -412.66854197\n",
      "Iter 159: f = -412.66854197\n",
      "Iter 160: f = -412.66854197\n",
      "Iter 161: f = -412.66854197\n",
      "Iter 162: f = -412.66854197\n",
      "Iter 163: f = -412.66854197\n",
      "Iter 164: f = -412.66854197\n",
      "Iter 165: f = -412.66854197\n",
      "Iter 166: f = -412.66854197\n",
      "Iter 167: f = -412.66854197\n",
      "Iter 168: f = -412.66854197\n",
      "Iter 169: f = -412.66854197\n",
      "Iter 170: f = -412.66854197\n",
      "Iter 171: f = -412.66854197\n",
      "Iter 172: f = -412.66854197\n",
      "Iter 173: f = -412.66854197\n",
      "Warning: Desired error not necessarily achieved due to precision loss.\n",
      "         Current function value: -412.668542\n",
      "         Iterations: 105\n",
      "         Function evaluations: 174\n",
      "         Gradient evaluations: 162\n",
      "\n",
      " running preconditioned newton; iter =  0\n",
      "Computing Hessian to set preconditioner\n",
      "preconditioning time: 10.48\n",
      "running newton steps\n",
      "Iter 0: f = -412.66854197\n",
      "Iter 1: f = -412.66854197\n",
      "Optimization terminated successfully.\n",
      "         Current function value: -412.668542\n",
      "         Iterations: 1\n",
      "         Function evaluations: 2\n",
      "         Gradient evaluations: 2\n",
      "         Hessian evaluations: 2\n",
      "Iter 0: x_diff = 8.941920453859967e-06, f_diff = 5.684341886080802e-14, grad_l1 = 1.3784537483762586e-10\n",
      "done. \n",
      "re-optimzing with alpha =  2\n",
      "running bfgs ... \n",
      "Iter 0: f = -387.94777516\n",
      "Iter 1: f = -387.87561856\n",
      "Iter 2: f = -388.56008129\n",
      "Iter 3: f = -380.13720549\n",
      "Iter 4: f = -388.59983207\n",
      "Iter 5: f = -388.66876536\n",
      "Iter 6: f = -388.79732184\n",
      "Iter 7: f = -388.92841823\n",
      "Iter 8: f = -389.04978790\n",
      "Iter 9: f = -389.20573358\n",
      "Iter 10: f = -389.32861351\n",
      "Iter 11: f = -389.45621471\n",
      "Iter 12: f = -389.52514752\n",
      "Iter 13: f = -389.64518839\n",
      "Iter 14: f = -389.83671705\n",
      "Iter 15: f = -389.89616268\n",
      "Iter 16: f = -390.00372461\n",
      "Iter 17: f = -390.14312732\n",
      "Iter 18: f = -390.34099349\n",
      "Iter 19: f = -390.19502746\n",
      "Iter 20: f = -390.41551654\n",
      "Iter 21: f = -390.53757725\n",
      "Iter 22: f = -390.73985788\n",
      "Iter 23: f = -390.99921838\n",
      "Iter 24: f = -390.59639638\n",
      "Iter 25: f = -391.07241365\n",
      "Iter 26: f = -391.02264174\n",
      "Iter 27: f = -391.10001975\n",
      "Iter 28: f = -391.13795885\n",
      "Iter 29: f = -391.19531090\n",
      "Iter 30: f = -391.24926947\n",
      "Iter 31: f = -391.23210545\n",
      "Iter 32: f = -391.27264853\n",
      "Iter 33: f = -391.28962653\n",
      "Iter 34: f = -391.31790788\n",
      "Iter 35: f = -391.35547775\n",
      "Iter 36: f = -391.39825590\n",
      "Iter 37: f = -391.24738630\n",
      "Iter 38: f = -391.40606283\n",
      "Iter 39: f = -391.40032152\n",
      "Iter 40: f = -391.40895163\n",
      "Iter 41: f = -391.41408549\n",
      "Iter 42: f = -391.41760258\n",
      "Iter 43: f = -391.42273956\n",
      "Iter 44: f = -391.43107189\n",
      "Iter 45: f = -391.37518958\n",
      "Iter 46: f = -391.43204701\n",
      "Iter 47: f = -391.43372621\n",
      "Iter 48: f = -391.43659394\n",
      "Iter 49: f = -391.43081655\n",
      "Iter 50: f = -391.43731501\n",
      "Iter 51: f = -391.43868046\n",
      "Iter 52: f = -391.44044669\n",
      "Iter 53: f = -391.44163829\n",
      "Iter 54: f = -391.44364822\n",
      "Iter 55: f = -391.44682190\n",
      "Iter 56: f = -391.44923140\n",
      "Iter 57: f = -391.45131919\n",
      "Iter 58: f = -391.45214980\n",
      "Iter 59: f = -391.45334605\n",
      "Iter 60: f = -391.45499343\n",
      "Iter 61: f = -391.45456613\n",
      "Iter 62: f = -391.45573003\n",
      "Iter 63: f = -391.45628672\n",
      "Iter 64: f = -391.45615223\n",
      "Iter 65: f = -391.45653816\n",
      "Iter 66: f = -391.45658931\n",
      "Iter 67: f = -391.45667342\n",
      "Iter 68: f = -391.45675751\n",
      "Iter 69: f = -391.45675515\n",
      "Iter 70: f = -391.45679937\n",
      "Iter 71: f = -391.45676969\n",
      "Iter 72: f = -391.45681502\n",
      "Iter 73: f = -391.45682564\n",
      "Iter 74: f = -391.45683704\n",
      "Iter 75: f = -391.45684688\n",
      "Iter 76: f = -391.45685285\n",
      "Iter 77: f = -391.45686027\n",
      "Iter 78: f = -391.45686272\n",
      "Iter 79: f = -391.45686639\n",
      "Iter 80: f = -391.45686801\n",
      "Iter 81: f = -391.45686986\n",
      "Iter 82: f = -391.45686824\n",
      "Iter 83: f = -391.45687049\n",
      "Iter 84: f = -391.45687072\n",
      "Iter 85: f = -391.45687101\n",
      "Iter 86: f = -391.45687136\n",
      "Iter 87: f = -391.45687148\n",
      "Iter 88: f = -391.45687168\n",
      "Iter 89: f = -391.45687194\n",
      "Iter 90: f = -391.45687218\n",
      "Iter 91: f = -391.45687228\n",
      "Iter 92: f = -391.45687233\n",
      "Iter 93: f = -391.45687241\n",
      "Iter 94: f = -391.45687252\n",
      "Iter 95: f = -391.45687259\n",
      "Iter 96: f = -391.45687257\n",
      "Iter 97: f = -391.45687263\n",
      "Iter 98: f = -391.45687266\n",
      "Iter 99: f = -391.45687269\n",
      "Iter 100: f = -391.45687270\n",
      "Iter 101: f = -391.45687272\n"
     ]
    },
    {
     "name": "stdout",
     "output_type": "stream",
     "text": [
      "Iter 102: f = -391.45687274\n",
      "Iter 103: f = -391.45687277\n",
      "Iter 104: f = -391.45687278\n",
      "Iter 105: f = -391.45687277\n",
      "Iter 106: f = -391.45687278\n",
      "Iter 107: f = -391.45687278\n",
      "Iter 108: f = -391.45687279\n",
      "Iter 109: f = -391.45687279\n",
      "Iter 110: f = -391.45687279\n",
      "Iter 111: f = -391.45687279\n",
      "Iter 112: f = -391.45687279\n",
      "Iter 113: f = -391.45687279\n",
      "Iter 114: f = -391.45687279\n",
      "Iter 115: f = -391.45687279\n",
      "Iter 116: f = -391.45687279\n",
      "Iter 117: f = -391.45687279\n",
      "Iter 118: f = -391.45687279\n",
      "Iter 119: f = -391.45687279\n",
      "Iter 120: f = -391.45687279\n",
      "Iter 121: f = -391.45687279\n",
      "Iter 122: f = -391.45687279\n",
      "Iter 123: f = -391.45687279\n",
      "Iter 124: f = -391.45687279\n",
      "Iter 125: f = -391.45687279\n",
      "Iter 126: f = -391.45687279\n",
      "Iter 127: f = -391.45687279\n",
      "Iter 128: f = -391.45687279\n",
      "Iter 129: f = -391.45687279\n",
      "Iter 130: f = -391.45687279\n",
      "Iter 131: f = -391.45687279\n",
      "Iter 132: f = -391.45687279\n",
      "Iter 133: f = -391.45687279\n",
      "Iter 134: f = -391.45687279\n",
      "Iter 135: f = -391.45687279\n",
      "Iter 136: f = -391.45687279\n",
      "Iter 137: f = -391.45687279\n",
      "Iter 138: f = -391.45687279\n",
      "Iter 139: f = -391.45687279\n",
      "Iter 140: f = -391.45687279\n",
      "Iter 141: f = -391.45687279\n",
      "Iter 142: f = -391.45687279\n",
      "Iter 143: f = -391.45687279\n",
      "Iter 144: f = -391.45687279\n",
      "Iter 145: f = -391.45687279\n",
      "Iter 146: f = -391.45687279\n",
      "Iter 147: f = -391.45687279\n",
      "Iter 148: f = -391.45687279\n",
      "Iter 149: f = -391.45687279\n",
      "Iter 150: f = -391.45687279\n",
      "Iter 151: f = -391.45687279\n",
      "Iter 152: f = -391.45687279\n",
      "Iter 153: f = -391.45687279\n",
      "Iter 154: f = -391.45687279\n",
      "Iter 155: f = -391.45687279\n",
      "Warning: Desired error not necessarily achieved due to precision loss.\n",
      "         Current function value: -391.456873\n",
      "         Iterations: 110\n",
      "         Function evaluations: 156\n",
      "         Gradient evaluations: 146\n",
      "\n",
      " running preconditioned newton; iter =  0\n",
      "Computing Hessian to set preconditioner\n",
      "preconditioning time: 10.25\n",
      "running newton steps\n",
      "Iter 0: f = -391.45687279\n",
      "Iter 1: f = -391.45687279\n",
      "Optimization terminated successfully.\n",
      "         Current function value: -391.456873\n",
      "         Iterations: 1\n",
      "         Function evaluations: 2\n",
      "         Gradient evaluations: 2\n",
      "         Hessian evaluations: 2\n",
      "Iter 0: x_diff = 1.1435665737088044e-05, f_diff = 1.7053025658242404e-13, grad_l1 = 9.079904167597367e-11\n",
      "done. \n",
      "re-optimzing with alpha =  3\n",
      "running bfgs ... \n",
      "Iter 0: f = -377.25944749\n",
      "Iter 1: f = -376.09320808\n",
      "Iter 2: f = -377.32486421\n",
      "Iter 3: f = -376.38307685\n",
      "Iter 4: f = -377.32893019\n",
      "Iter 5: f = -377.33597481\n",
      "Iter 6: f = -377.34900387\n",
      "Iter 7: f = -377.36070010\n",
      "Iter 8: f = -377.37159795\n",
      "Iter 9: f = -377.38588977\n",
      "Iter 10: f = -377.39694264\n",
      "Iter 11: f = -377.40791103\n",
      "Iter 12: f = -377.41619190\n",
      "Iter 13: f = -377.42984904\n",
      "Iter 14: f = -377.44909813\n",
      "Iter 15: f = -377.44779685\n",
      "Iter 16: f = -377.45850163\n",
      "Iter 17: f = -377.47308723\n",
      "Iter 18: f = -377.47924217\n",
      "Iter 19: f = -377.48931762\n",
      "Iter 20: f = -377.49281138\n",
      "Iter 21: f = -377.49914935\n",
      "Iter 22: f = -377.51004232\n",
      "Iter 23: f = -377.52594627\n",
      "Iter 24: f = -377.49710976\n",
      "Iter 25: f = -377.53016649\n",
      "Iter 26: f = -377.53386229\n",
      "Iter 27: f = -377.53874491\n",
      "Iter 28: f = -377.54518671\n",
      "Iter 29: f = -377.55167269\n",
      "Iter 30: f = -377.54694186\n",
      "Iter 31: f = -377.55408237\n",
      "Iter 32: f = -377.55709297\n",
      "Iter 33: f = -377.56019839\n",
      "Iter 34: f = -377.56325255\n",
      "Iter 35: f = -377.56501995\n",
      "Iter 36: f = -377.53738768\n",
      "Iter 37: f = -377.56512170\n",
      "Iter 38: f = -377.56529398\n",
      "Iter 39: f = -377.56558176\n",
      "Iter 40: f = -377.56594057\n",
      "Iter 41: f = -377.56584256\n",
      "Iter 42: f = -377.56610012\n",
      "Iter 43: f = -377.56638837\n",
      "Iter 44: f = -377.56547713\n",
      "Iter 45: f = -377.56644517\n",
      "Iter 46: f = -377.56654821\n",
      "Iter 47: f = -377.56673223\n",
      "Iter 48: f = -377.56675932\n",
      "Iter 49: f = -377.56681278\n",
      "Iter 50: f = -377.56700186\n",
      "Iter 51: f = -377.56733159\n",
      "Iter 52: f = -377.56762661\n",
      "Iter 53: f = -377.56656661\n",
      "Iter 54: f = -377.56768036\n",
      "Iter 55: f = -377.56777850\n",
      "Iter 56: f = -377.56793988\n",
      "Iter 57: f = -377.56816156\n",
      "Iter 58: f = -377.56832018\n",
      "Iter 59: f = -377.56841291\n",
      "Iter 60: f = -377.56852002\n",
      "Iter 61: f = -377.56859595\n",
      "Iter 62: f = -377.56861297\n",
      "Iter 63: f = -377.56864245\n",
      "Iter 64: f = -377.56868077\n",
      "Iter 65: f = -377.56866701\n",
      "Iter 66: f = -377.56869721\n",
      "Iter 67: f = -377.56869579\n",
      "Iter 68: f = -377.56870517\n",
      "Iter 69: f = -377.56870010\n",
      "Iter 70: f = -377.56870785\n",
      "Iter 71: f = -377.56870982\n",
      "Iter 72: f = -377.56871265\n",
      "Iter 73: f = -377.56871484\n",
      "Iter 74: f = -377.56871588\n",
      "Iter 75: f = -377.56871700\n",
      "Iter 76: f = -377.56871749\n",
      "Iter 77: f = -377.56871784\n",
      "Iter 78: f = -377.56871827\n",
      "Iter 79: f = -377.56871780\n",
      "Iter 80: f = -377.56871840\n",
      "Iter 81: f = -377.56871851\n",
      "Iter 82: f = -377.56871851\n",
      "Iter 83: f = -377.56871857\n",
      "Iter 84: f = -377.56871862\n",
      "Iter 85: f = -377.56871861\n",
      "Iter 86: f = -377.56871864\n",
      "Iter 87: f = -377.56871867\n",
      "Iter 88: f = -377.56871869\n",
      "Iter 89: f = -377.56871869\n",
      "Iter 90: f = -377.56871871\n",
      "Iter 91: f = -377.56871871\n",
      "Iter 92: f = -377.56871871\n",
      "Iter 93: f = -377.56871872\n",
      "Iter 94: f = -377.56871871\n",
      "Iter 95: f = -377.56871872\n",
      "Iter 96: f = -377.56871872\n",
      "Iter 97: f = -377.56871872\n",
      "Iter 98: f = -377.56871872\n",
      "Iter 99: f = -377.56871872\n",
      "Iter 100: f = -377.56871872\n",
      "Iter 101: f = -377.56871872\n",
      "Iter 102: f = -377.56871872\n",
      "Iter 103: f = -377.56871872\n",
      "Iter 104: f = -377.56871872\n",
      "Iter 105: f = -377.56871872\n",
      "Iter 106: f = -377.56871872\n",
      "Iter 107: f = -377.56871872\n",
      "Iter 108: f = -377.56871872\n",
      "Iter 109: f = -377.56871872\n",
      "Iter 110: f = -377.56871872\n",
      "Iter 111: f = -377.56871872\n",
      "Iter 112: f = -377.56871872\n",
      "Iter 113: f = -377.56871872\n",
      "Iter 114: f = -377.56871872\n",
      "Iter 115: f = -377.56871872\n",
      "Iter 116: f = -377.56871872\n",
      "Iter 117: f = -377.56871872\n",
      "Iter 118: f = -377.56871872\n",
      "Iter 119: f = -377.56871872\n",
      "Iter 120: f = -377.56871872\n",
      "Iter 121: f = -377.56871872\n",
      "Iter 122: f = -377.56871872\n",
      "Iter 123: f = -377.56871872\n",
      "Iter 124: f = -377.56871872\n",
      "Iter 125: f = -377.56871872\n",
      "Iter 126: f = -377.56871872\n",
      "Iter 127: f = -377.56871872\n",
      "Iter 128: f = -377.56871872\n",
      "Iter 129: f = -377.56871872\n",
      "Iter 130: f = -377.56871872\n",
      "Iter 131: f = -377.56871872\n",
      "Iter 132: f = -377.56871872\n",
      "Iter 133: f = -377.56871872\n",
      "Iter 134: f = -377.56871872\n",
      "Iter 135: f = -377.56871872\n",
      "Iter 136: f = -377.56871872\n",
      "Iter 137: f = -377.56871872\n",
      "Iter 138: f = -377.56871872\n",
      "Iter 139: f = -377.56871872\n",
      "Iter 140: f = -377.56871872\n",
      "Iter 141: f = -377.56871872\n",
      "Iter 142: f = -377.56871872\n",
      "Iter 143: f = -377.56871872\n",
      "Iter 144: f = -377.56871872\n",
      "Iter 145: f = -377.56871872\n",
      "Iter 146: f = -377.56871872\n",
      "Iter 147: f = -377.56871872\n",
      "Iter 148: f = -377.56871872\n",
      "Iter 149: f = -377.56871872\n",
      "Iter 150: f = -377.56871872\n",
      "Iter 151: f = -377.56871872\n",
      "Iter 152: f = -377.56871872\n",
      "Iter 153: f = -377.56871872\n",
      "Iter 154: f = -377.56871872\n",
      "Iter 155: f = -377.56871872\n",
      "Iter 156: f = -377.56871872\n",
      "Iter 157: f = -377.56871872\n",
      "Iter 158: f = -377.56871872\n",
      "Iter 159: f = -377.56871872\n",
      "Iter 160: f = -377.56871872\n",
      "Iter 161: f = -377.56871872\n",
      "Iter 162: f = -377.56871872\n",
      "Iter 163: f = -377.56871872\n",
      "Iter 164: f = -377.56871872\n",
      "Iter 165: f = -377.56871872\n",
      "Iter 166: f = -377.56871872\n",
      "Iter 167: f = -377.56871872\n",
      "Iter 168: f = -377.56871872\n",
      "Iter 169: f = -377.56871872\n",
      "Iter 170: f = -377.56871872\n",
      "Iter 171: f = -377.56871872\n",
      "Iter 172: f = -377.56871872\n",
      "Iter 173: f = -377.56871872\n",
      "Iter 174: f = -377.56871872\n",
      "Iter 175: f = -377.56871872\n",
      "Iter 176: f = -377.56871872\n",
      "Iter 177: f = -377.56871872\n",
      "Iter 178: f = -377.56871872\n",
      "Iter 179: f = -377.56871872\n",
      "Iter 180: f = -377.56871872\n",
      "Iter 181: f = -377.56871872\n",
      "Iter 182: f = -377.56871872\n",
      "Iter 183: f = -377.56871872\n",
      "Iter 184: f = -377.56871872\n",
      "Iter 185: f = -377.56871872\n",
      "Iter 186: f = -377.56871872\n",
      "Iter 187: f = -377.56871872\n",
      "Iter 188: f = -377.56871872\n",
      "Iter 189: f = -377.56871872\n",
      "Iter 190: f = -377.56871872\n",
      "Iter 191: f = -377.56871872\n",
      "Iter 192: f = -377.56871872\n",
      "Iter 193: f = -377.56871872\n",
      "Iter 194: f = -377.56871872\n",
      "Iter 195: f = -377.56871872\n",
      "Iter 196: f = -377.56871872\n",
      "Iter 197: f = -377.56871872\n",
      "Iter 198: f = -377.56871872\n",
      "Iter 199: f = -377.56871872\n",
      "Iter 200: f = -377.56871872\n",
      "Iter 201: f = -377.56871872\n",
      "Iter 202: f = -377.56871872\n",
      "Iter 203: f = -377.56871872\n",
      "Iter 204: f = -377.56871872\n",
      "Iter 205: f = -377.56871872\n",
      "Iter 206: f = -377.56871872\n",
      "Iter 207: f = -377.56871872\n",
      "Iter 208: f = -377.56871872\n",
      "Iter 209: f = -377.56871872\n",
      "Iter 210: f = -377.56871872\n",
      "Iter 211: f = -377.56871872\n",
      "Iter 212: f = -377.56871872\n",
      "Iter 213: f = -377.56871872\n",
      "Warning: Desired error not necessarily achieved due to precision loss.\n",
      "         Current function value: -377.568719\n",
      "         Iterations: 96\n",
      "         Function evaluations: 214\n",
      "         Gradient evaluations: 203\n",
      "\n",
      " running preconditioned newton; iter =  0\n",
      "Computing Hessian to set preconditioner\n"
     ]
    },
    {
     "name": "stdout",
     "output_type": "stream",
     "text": [
      "preconditioning time: 10.01\n",
      "running newton steps\n",
      "Iter 0: f = -377.56871872\n",
      "Iter 1: f = -377.56871872\n",
      "Optimization terminated successfully.\n",
      "         Current function value: -377.568719\n",
      "         Iterations: 1\n",
      "         Function evaluations: 2\n",
      "         Gradient evaluations: 2\n",
      "         Hessian evaluations: 2\n",
      "Iter 0: x_diff = 2.3340877253684314e-05, f_diff = 1.5347723092418164e-12, grad_l1 = 8.537605994965896e-11\n",
      "done. \n",
      "re-optimzing with alpha =  4\n",
      "running bfgs ... \n",
      "Iter 0: f = -366.57111983\n",
      "Iter 1: f = -365.30774846\n",
      "Iter 2: f = -366.63416246\n",
      "Iter 3: f = -365.68932787\n",
      "Iter 4: f = -366.63794397\n",
      "Iter 5: f = -366.64448834\n",
      "Iter 6: f = -366.65650409\n",
      "Iter 7: f = -366.66617508\n",
      "Iter 8: f = -366.67536139\n",
      "Iter 9: f = -366.68758178\n",
      "Iter 10: f = -366.69675089\n",
      "Iter 11: f = -366.70508473\n",
      "Iter 12: f = -366.71367339\n",
      "Iter 13: f = -366.72706188\n",
      "Iter 14: f = -366.74299658\n",
      "Iter 15: f = -366.74151663\n",
      "Iter 16: f = -366.75069197\n",
      "Iter 17: f = -366.76209111\n",
      "Iter 18: f = -366.76112323\n",
      "Iter 19: f = -366.76761515\n",
      "Iter 20: f = -366.77617249\n",
      "Iter 21: f = -366.77829308\n",
      "Iter 22: f = -366.78219372\n",
      "Iter 23: f = -366.78901688\n",
      "Iter 24: f = -366.79877767\n",
      "Iter 25: f = -366.78072857\n",
      "Iter 26: f = -366.80136002\n",
      "Iter 27: f = -366.80411345\n",
      "Iter 28: f = -366.80765808\n",
      "Iter 29: f = -366.81307339\n",
      "Iter 30: f = -366.81804419\n",
      "Iter 31: f = -366.81404373\n",
      "Iter 32: f = -366.81983952\n",
      "Iter 33: f = -366.82211078\n",
      "Iter 34: f = -366.82412076\n",
      "Iter 35: f = -366.82455581\n",
      "Iter 36: f = -366.82532257\n",
      "Iter 37: f = -366.82362522\n",
      "Iter 38: f = -366.82550755\n",
      "Iter 39: f = -366.82583825\n",
      "Iter 40: f = -366.82643086\n",
      "Iter 41: f = -366.82718717\n",
      "Iter 42: f = -366.82792679\n",
      "Iter 43: f = -366.82819190\n",
      "Iter 44: f = -366.82823016\n",
      "Iter 45: f = -366.82830363\n",
      "Iter 46: f = -366.82852154\n",
      "Iter 47: f = -366.82893590\n",
      "Iter 48: f = -366.82660106\n",
      "Iter 49: f = -366.82899104\n",
      "Iter 50: f = -366.82909426\n",
      "Iter 51: f = -366.82926838\n",
      "Iter 52: f = -366.82946022\n",
      "Iter 53: f = -366.82881573\n",
      "Iter 54: f = -366.82949654\n",
      "Iter 55: f = -366.82956565\n",
      "Iter 56: f = -366.82969051\n",
      "Iter 57: f = -366.82989651\n",
      "Iter 58: f = -366.83013184\n",
      "Iter 59: f = -366.83022433\n",
      "Iter 60: f = -366.83033625\n",
      "Iter 61: f = -366.83041812\n",
      "Iter 62: f = -366.83047367\n",
      "Iter 63: f = -366.83052600\n",
      "Iter 64: f = -366.83055231\n",
      "Iter 65: f = -366.83057505\n",
      "Iter 66: f = -366.83058165\n",
      "Iter 67: f = -366.83059128\n",
      "Iter 68: f = -366.83059439\n",
      "Iter 69: f = -366.83059911\n",
      "Iter 70: f = -366.83060382\n",
      "Iter 71: f = -366.83060300\n",
      "Iter 72: f = -366.83060601\n",
      "Iter 73: f = -366.83060694\n",
      "Iter 74: f = -366.83060838\n",
      "Iter 75: f = -366.83060981\n",
      "Iter 76: f = -366.83061004\n",
      "Iter 77: f = -366.83061042\n",
      "Iter 78: f = -366.83061088\n",
      "Iter 79: f = -366.83061109\n",
      "Iter 80: f = -366.83061119\n",
      "Iter 81: f = -366.83061131\n",
      "Iter 82: f = -366.83061126\n",
      "Iter 83: f = -366.83061137\n",
      "Iter 84: f = -366.83061142\n",
      "Iter 85: f = -366.83061145\n",
      "Iter 86: f = -366.83061147\n",
      "Iter 87: f = -366.83061147\n",
      "Iter 88: f = -366.83061148\n",
      "Iter 89: f = -366.83061149\n",
      "Iter 90: f = -366.83061149\n",
      "Iter 91: f = -366.83061149\n",
      "Iter 92: f = -366.83061150\n",
      "Iter 93: f = -366.83061150\n",
      "Iter 94: f = -366.83061150\n",
      "Iter 95: f = -366.83061150\n",
      "Iter 96: f = -366.83061150\n",
      "Iter 97: f = -366.83061150\n",
      "Iter 98: f = -366.83061150\n",
      "Iter 99: f = -366.83061150\n",
      "Iter 100: f = -366.83061150\n",
      "Iter 101: f = -366.83061150\n",
      "Iter 102: f = -366.83061150\n",
      "Iter 103: f = -366.83061150\n",
      "Iter 104: f = -366.83061150\n",
      "Iter 105: f = -366.83061150\n",
      "Iter 106: f = -366.83061150\n",
      "Iter 107: f = -366.83061150\n",
      "Iter 108: f = -366.83061150\n",
      "Iter 109: f = -366.83061150\n",
      "Iter 110: f = -366.83061150\n",
      "Iter 111: f = -366.83061150\n",
      "Iter 112: f = -366.83061150\n",
      "Iter 113: f = -366.83061150\n",
      "Warning: Desired error not necessarily achieved due to precision loss.\n",
      "         Current function value: -366.830611\n",
      "         Iterations: 94\n",
      "         Function evaluations: 114\n",
      "         Gradient evaluations: 113\n",
      "\n",
      " running preconditioned newton; iter =  0\n",
      "Computing Hessian to set preconditioner\n",
      "preconditioning time: 9.98\n",
      "running newton steps\n",
      "Iter 0: f = -366.83061150\n",
      "Iter 1: f = -366.83061150\n",
      "Optimization terminated successfully.\n",
      "         Current function value: -366.830611\n",
      "         Iterations: 1\n",
      "         Function evaluations: 2\n",
      "         Gradient evaluations: 2\n",
      "         Hessian evaluations: 2\n",
      "Iter 0: x_diff = 4.426621551669748e-05, f_diff = 3.524291969370097e-12, grad_l1 = 1.5181966040276113e-10\n",
      "done. \n",
      "re-optimzing with alpha =  5\n",
      "running bfgs ... \n",
      "Iter 0: f = -355.88279216\n",
      "Iter 1: f = -355.47206397\n",
      "Iter 2: f = -356.43067465\n",
      "Iter 3: f = -347.97505340\n",
      "Iter 4: f = -356.46261456\n",
      "Iter 5: f = -356.51781014\n",
      "Iter 6: f = -356.61847876\n",
      "Iter 7: f = -356.69192515\n",
      "Iter 8: f = -356.76307071\n",
      "Iter 9: f = -356.85883828\n",
      "Iter 10: f = -356.92862113\n",
      "Iter 11: f = -356.98569526\n",
      "Iter 12: f = -357.05655620\n",
      "Iter 13: f = -357.16414334\n",
      "Iter 14: f = -357.27229162\n",
      "Iter 15: f = -357.29187420\n",
      "Iter 16: f = -357.32755786\n",
      "Iter 17: f = -357.36171780\n",
      "Iter 18: f = -357.41744387\n",
      "Iter 19: f = -357.45662339\n",
      "Iter 20: f = -357.52003670\n",
      "Iter 21: f = -357.61599039\n",
      "Iter 22: f = -357.69223040\n",
      "Iter 23: f = -357.50371864\n",
      "Iter 24: f = -357.70972170\n",
      "Iter 25: f = -357.72385874\n",
      "Iter 26: f = -357.74420642\n",
      "Iter 27: f = -357.77833690\n",
      "Iter 28: f = -357.81515995\n",
      "Iter 29: f = -357.76460484\n",
      "Iter 30: f = -357.82629728\n",
      "Iter 31: f = -357.83715272\n",
      "Iter 32: f = -357.85231113\n",
      "Iter 33: f = -357.85421617\n",
      "Iter 34: f = -357.85774532\n",
      "Iter 35: f = -357.85985807\n",
      "Iter 36: f = -357.86380324\n",
      "Iter 37: f = -357.87060334\n",
      "Iter 38: f = -357.87586748\n",
      "Iter 39: f = -357.87521837\n",
      "Iter 40: f = -357.87837498\n",
      "Iter 41: f = -357.88272557\n",
      "Iter 42: f = -357.87640075\n",
      "Iter 43: f = -357.88400616\n",
      "Iter 44: f = -357.88643822\n",
      "Iter 45: f = -357.88767307\n",
      "Iter 46: f = -357.88949634\n",
      "Iter 47: f = -357.89264820\n",
      "Iter 48: f = -357.89730360\n",
      "Iter 49: f = -357.87167396\n",
      "Iter 50: f = -357.89792670\n",
      "Iter 51: f = -357.89906532\n",
      "Iter 52: f = -357.90021036\n",
      "Iter 53: f = -357.90196926\n",
      "Iter 54: f = -357.90393046\n",
      "Iter 55: f = -357.90325680\n",
      "Iter 56: f = -357.90477865\n",
      "Iter 57: f = -357.90578295\n",
      "Iter 58: f = -357.90661255\n",
      "Iter 59: f = -357.90756028\n",
      "Iter 60: f = -357.90827252\n",
      "Iter 61: f = -357.90822441\n",
      "Iter 62: f = -357.90862040\n",
      "Iter 63: f = -357.90867025\n",
      "Iter 64: f = -357.90875402\n",
      "Iter 65: f = -357.90887399\n",
      "Iter 66: f = -357.90897463\n",
      "Iter 67: f = -357.90895643\n",
      "Iter 68: f = -357.90902129\n",
      "Iter 69: f = -357.90904930\n",
      "Iter 70: f = -357.90907932\n",
      "Iter 71: f = -357.90909713\n",
      "Iter 72: f = -357.90910418\n",
      "Iter 73: f = -357.90911420\n",
      "Iter 74: f = -357.90911929\n",
      "Iter 75: f = -357.90912509\n",
      "Iter 76: f = -357.90912419\n",
      "Iter 77: f = -357.90912764\n",
      "Iter 78: f = -357.90912983\n",
      "Iter 79: f = -357.90913015\n",
      "Iter 80: f = -357.90913073\n",
      "Iter 81: f = -357.90913171\n",
      "Iter 82: f = -357.90913241\n",
      "Iter 83: f = -357.90913315\n",
      "Iter 84: f = -357.90913268\n",
      "Iter 85: f = -357.90913326\n",
      "Iter 86: f = -357.90913336\n",
      "Iter 87: f = -357.90913331\n",
      "Iter 88: f = -357.90913340\n",
      "Iter 89: f = -357.90913345\n",
      "Iter 90: f = -357.90913346\n",
      "Iter 91: f = -357.90913348\n",
      "Iter 92: f = -357.90913350\n",
      "Iter 93: f = -357.90913349\n",
      "Iter 94: f = -357.90913350\n",
      "Iter 95: f = -357.90913351\n",
      "Iter 96: f = -357.90913351\n",
      "Iter 97: f = -357.90913351\n",
      "Iter 98: f = -357.90913351\n",
      "Iter 99: f = -357.90913352\n",
      "Iter 100: f = -357.90913352\n",
      "Iter 101: f = -357.90913352\n",
      "Iter 102: f = -357.90913352\n",
      "Iter 103: f = -357.90913352\n",
      "Iter 104: f = -357.90913352\n",
      "Iter 105: f = -357.90913352\n",
      "Iter 106: f = -357.90913352\n",
      "Iter 107: f = -357.90913352\n",
      "Iter 108: f = -357.90913352\n",
      "Iter 109: f = -357.90913352\n",
      "Iter 110: f = -357.90913352\n",
      "Iter 111: f = -357.90913352\n",
      "Iter 112: f = -357.90913352\n",
      "Iter 113: f = -357.90913352\n",
      "Iter 114: f = -357.90913352\n",
      "Iter 115: f = -357.90913352\n",
      "Iter 116: f = -357.90913352\n",
      "Iter 117: f = -357.90913352\n",
      "Iter 118: f = -357.90913352\n",
      "Iter 119: f = -357.90913352\n",
      "Iter 120: f = -357.90913352\n",
      "Iter 121: f = -357.90913352\n",
      "Iter 122: f = -357.90913352\n",
      "Iter 123: f = -357.90913352\n",
      "Iter 124: f = -357.90913352\n",
      "Iter 125: f = -357.90913352\n",
      "Iter 126: f = -357.90913352\n",
      "Iter 127: f = -357.90913352\n",
      "Iter 128: f = -357.90913352\n",
      "Warning: Desired error not necessarily achieved due to precision loss.\n",
      "         Current function value: -357.909134\n",
      "         Iterations: 106\n",
      "         Function evaluations: 129\n",
      "         Gradient evaluations: 128\n",
      "\n",
      " running preconditioned newton; iter =  0\n",
      "Computing Hessian to set preconditioner\n"
     ]
    }
   ],
   "source": [
    "vb_pert_list = []\n",
    "for alpha in alpha_list: \n",
    "    print('re-optimzing with alpha = ', alpha)\n",
    "    \n",
    "    vb_pert_list.append(refit_with_alpha(alpha, vb_opt))"
   ]
  },
  {
   "cell_type": "markdown",
   "metadata": {},
   "source": [
    "### get linear response prediction for each alpha"
   ]
  },
  {
   "cell_type": "code",
   "execution_count": null,
   "metadata": {
    "collapsed": true
   },
   "outputs": [],
   "source": [
    "lr_list = []\n",
    "\n",
    "for alpha in alpha_list: \n",
    "    \n",
    "    # set alpha \n",
    "    new_alpha = np.array([alpha])\n",
    "    prior_params_pert_dict = deepcopy(prior_params_dict)\n",
    "    prior_params_pert_dict['alpha'] = new_alpha\n",
    "    \n",
    "    # get linear response\n",
    "    lr_list.append(vb_sens.predict_opt_par_from_hyper_par(\n",
    "        prior_params_paragami.flatten(prior_params_pert_dict, free = True)))\n",
    "    "
   ]
  },
  {
   "cell_type": "markdown",
   "metadata": {},
   "source": [
    "### examine results "
   ]
  },
  {
   "cell_type": "code",
   "execution_count": null,
   "metadata": {
    "collapsed": true
   },
   "outputs": [],
   "source": [
    "for i in range(len(alpha_list)): \n",
    "    plt.figure()\n",
    "    print_diff_plot(lr_list[i], vb_pert_list[i], vb_opt)\n",
    "    \n",
    "    plt.title('alpha = {}'.format(alpha_list[i]))\n",
    "    "
   ]
  },
  {
   "cell_type": "markdown",
   "metadata": {},
   "source": [
    "# Check results on number of clusters"
   ]
  },
  {
   "cell_type": "markdown",
   "metadata": {},
   "source": [
    "### results on number of in-sample clusters"
   ]
  },
  {
   "cell_type": "code",
   "execution_count": null,
   "metadata": {
    "collapsed": true
   },
   "outputs": [],
   "source": [
    "threshold = 0\n",
    "\n",
    "lr_e_num_clusters_vec = np.zeros(len(alpha_list))\n",
    "refit_e_num_clusters_vec = np.zeros(len(alpha_list))\n",
    "\n",
    "for i in range(len(alpha_list)): \n",
    "    # number of clusters as predicted by linear response\n",
    "    lr_e_num_clusters, _ = gmm_lib.get_e_num_clusters_from_free_par(features, vb_params_paragami, \n",
    "                                    lr_list[i],\n",
    "                                    gh_loc, gh_weights,\n",
    "                                    threshold = threshold,\n",
    "                                    n_samples = 100000)\n",
    "    \n",
    "    lr_e_num_clusters_vec[i] = lr_e_num_clusters\n",
    "    \n",
    "    # number of clusters after refitting \n",
    "    refit_e_num_clusters, _ = gmm_lib.get_e_num_clusters_from_free_par(features, vb_params_paragami, \n",
    "                                    vb_pert_list[i],\n",
    "                                    gh_loc, gh_weights,\n",
    "                                    threshold = threshold,\n",
    "                                    n_samples = 100000)\n",
    "    \n",
    "    refit_e_num_clusters_vec[i] = refit_e_num_clusters\n",
    "    \n"
   ]
  },
  {
   "cell_type": "code",
   "execution_count": null,
   "metadata": {
    "collapsed": true
   },
   "outputs": [],
   "source": [
    "plt.plot(alpha_list, lr_e_num_clusters_vec, '+--')\n",
    "plt.plot(alpha_list, refit_e_num_clusters_vec, '+-')\n",
    "\n",
    "plt.xlabel('alpha')\n",
    "plt.ylabel('num posterior clusters')\n",
    "plt.legend(('lr', 'refit'))\n",
    "\n",
    "plt.axvline(prior_params_dict['alpha'], color = 'red', linestyle = 'dashed')\n"
   ]
  },
  {
   "cell_type": "markdown",
   "metadata": {},
   "source": [
    "### Results on posterior predictive clusters"
   ]
  },
  {
   "cell_type": "code",
   "execution_count": null,
   "metadata": {
    "collapsed": true
   },
   "outputs": [],
   "source": [
    "threshold = 0\n",
    "\n",
    "lr_e_num_pred_clusters_vec = np.zeros(len(alpha_list))\n",
    "refit_e_num_pred_clusters_vec = np.zeros(len(alpha_list))\n",
    "\n",
    "for i in range(len(alpha_list)): \n",
    "     # number of clusters as predicted by linear response\n",
    "    lr_e_num_pred_clusters = gmm_lib.get_e_num_pred_clusters_from_vb_free_params(vb_params_paragami, \n",
    "                                    lr_list[i],\n",
    "                                    n_obs = np.shape(features)[0], \n",
    "                                    threshold = threshold,\n",
    "                                    n_samples = 100000)\n",
    "    \n",
    "    lr_e_num_pred_clusters_vec[i] = lr_e_num_pred_clusters\n",
    "    \n",
    "    # number of clusters after refitting \n",
    "    refit_e_num_pred_clusters = gmm_lib.get_e_num_pred_clusters_from_vb_free_params(vb_params_paragami, \n",
    "                                    vb_pert_list[i],\n",
    "                                    n_obs = np.shape(features)[0], \n",
    "                                    threshold = threshold,\n",
    "                                    n_samples = 100000)\n",
    "    \n",
    "    refit_e_num_pred_clusters_vec[i] = refit_e_num_pred_clusters\n",
    "    \n"
   ]
  },
  {
   "cell_type": "code",
   "execution_count": null,
   "metadata": {
    "collapsed": true
   },
   "outputs": [],
   "source": [
    "plt.plot(alpha_list, lr_e_num_pred_clusters_vec, '+--')\n",
    "plt.plot(alpha_list, refit_e_num_pred_clusters_vec, '+-')\n",
    "\n",
    "plt.xlabel('alpha')\n",
    "plt.ylabel('num posterior clusters')\n",
    "plt.legend(('lr', 'refit'))\n",
    "\n",
    "plt.axvline(prior_params_dict['alpha'], color = 'red', linestyle = 'dashed')\n"
   ]
  },
  {
   "cell_type": "code",
   "execution_count": null,
   "metadata": {
    "collapsed": true
   },
   "outputs": [],
   "source": []
  },
  {
   "cell_type": "code",
   "execution_count": null,
   "metadata": {
    "collapsed": true
   },
   "outputs": [],
   "source": []
  }
 ],
 "metadata": {
  "kernelspec": {
   "display_name": "bnpgmm_runjingdev",
   "language": "python",
   "name": "bnpgmm_runjingdev"
  },
  "language_info": {
   "codemirror_mode": {
    "name": "ipython",
    "version": 3
   },
   "file_extension": ".py",
   "mimetype": "text/x-python",
   "name": "python",
   "nbconvert_exporter": "python",
   "pygments_lexer": "ipython3",
   "version": "3.5.2"
  }
 },
 "nbformat": 4,
 "nbformat_minor": 2
}
