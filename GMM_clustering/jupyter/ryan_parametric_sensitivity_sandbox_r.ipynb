{
 "cells": [
  {
   "cell_type": "code",
   "execution_count": 37,
   "metadata": {},
   "outputs": [
    {
     "name": "stderr",
     "output_type": "stream",
     "text": [
      "\n",
      "Attaching package: ‘dplyr’\n",
      "\n",
      "The following objects are masked from ‘package:stats’:\n",
      "\n",
      "    filter, lag\n",
      "\n",
      "The following objects are masked from ‘package:base’:\n",
      "\n",
      "    intersect, setdiff, setequal, union\n",
      "\n"
     ]
    }
   ],
   "source": [
    "library(reticulate)\n",
    "library(ggplot2)\n",
    "library(reshape2)\n",
    "library(dplyr)\n",
    "use_python(\"/usr/bin/python3\")\n",
    "\n",
    "git_repo_loc=Sys.getenv(\"GIT_REPO_LOC\")\n",
    "`%_%` <- function(x, y) { paste(x, y, sep=\"\")}\n",
    "\n",
    "py_run_string(\"import sys\")\n",
    "py_run_string(\"import pickle\")\n",
    "for (py_lib in c(\"LinearResponseVariationalBayes.py\",\n",
    "                 \"BNP_sensitivity/GMM_clustering/\",\n",
    "                 \"autograd\")) {\n",
    "    py_run_string(\"sys.path.append('\" %_% file.path(git_repo_loc, py_lib) %_% \"')\")\n",
    "}\n",
    "py_run_string(\"\n",
    "import os\n",
    "\n",
    "import LinearResponseVariationalBayes as vb\n",
    "import LinearResponseVariationalBayes.SparseObjectives as obj_lib\n",
    "# My libraries\n",
    "import gmm_clustering_lib as gmm_utils\n",
    "import modeling_lib \n",
    "import functional_sensitivity_lib as fun_sens_lib \n",
    "import utils_lib\n",
    "from copy import deepcopy\n",
    "\n",
    "import numpy as np\n",
    "import scipy as sp\n",
    "import json \n",
    "\n",
    "git_repo = os.environ['GIT_REPO_LOC']\n",
    "\")"
   ]
  },
  {
   "cell_type": "code",
   "execution_count": 19,
   "metadata": {},
   "outputs": [],
   "source": [
    "py_run_string(\"\n",
    "# Load results from previous fit.\n",
    "json_input_file = os.path.join(\n",
    "    git_repo, 'BNP_sensitivity/GMM_clustering/iris_fits/ryan_iris_bnp_full_data_fit.json')\n",
    "\n",
    "with open(json_input_file, 'r') as fp:\n",
    "    fit_dict = json.load(fp)\n",
    "    model = gmm_utils.get_model_from_checkpoint(fit_dict)\n",
    "    model_ = gmm_utils.get_model_from_checkpoint(fit_dict)\n",
    "    best_param = model.global_vb_params.get_free()\n",
    "    kl_hessian = gmm_utils.get_kl_hessian_from_checkpoint(fit_dict)\n",
    "\n",
    "moment_model = gmm_utils.InterestingMoments(model)\n",
    "dg_deta = moment_model.get_moment_jacobian(best_param)\n",
    "linear_sens = gmm_utils.LinearSensitivity(model, moment_model, kl_hessian)\n",
    "\")"
   ]
  },
  {
   "cell_type": "code",
   "execution_count": 20,
   "metadata": {
    "collapsed": true
   },
   "outputs": [],
   "source": [
    "py_run_string(\"\n",
    "model_refit = deepcopy(model)\n",
    "print(model.prior_params)\n",
    "\n",
    "def refit_with_alpha(new_alpha, model, linear_sens):\n",
    "    model_refit = deepcopy(model)\n",
    "    model_refit.prior_params['alpha'].set(new_alpha)\n",
    "    free_par_refit = linear_sens.predict_from_prior_params(\n",
    "        model_refit.prior_params.get_free())\n",
    "    model_refit.optimize_full(free_par_refit,\n",
    "        init_max_iter=100,\n",
    "        final_max_iter=500)\n",
    "    return free_par_refit, model_refit.global_vb_params.get_free()\n",
    "\")"
   ]
  },
  {
   "cell_type": "code",
   "execution_count": 22,
   "metadata": {},
   "outputs": [],
   "source": [
    "py_run_string(\"\n",
    "alpha_vec = np.linspace(1, 7, num=7)\n",
    "print(alpha_vec)\n",
    "free_par_refit_list = []\n",
    "free_par_refit_lr_list = []\n",
    "for alpha in alpha_vec:\n",
    "    free_par_refit, free_par_refit_lr = refit_with_alpha(alpha, model, linear_sens)\n",
    "    free_par_refit_list.append(free_par_refit)\n",
    "    free_par_refit_lr_list.append(free_par_refit_lr)\n",
    "\")"
   ]
  },
  {
   "cell_type": "code",
   "execution_count": 43,
   "metadata": {},
   "outputs": [],
   "source": [
    "py_main <- reticulate::import_main()\n",
    "\n",
    "GetResultDataFrame <- function(free_par, this_alpha, this_method) {\n",
    "    py_main$moment_model$set_moments_from_free_par(free_par)\n",
    "    centroids = py_main$moment_model$moment_params['centroids']$get()\n",
    "\n",
    "    melt(centroids) %>%\n",
    "        rename(dim=Var1, k=Var2) %>%\n",
    "        mutate(alpha=this_alpha, method=this_method)\n",
    "}\n",
    "\n",
    "\n",
    "df_list <- list()\n",
    "\n",
    "for (i in 1:length(py_main$alpha_vec)) {\n",
    "    df_list[[length(df_list) + 1]]  <-\n",
    "        rbind(\n",
    "            GetResultDataFrame(py_main$free_par_refit_list[[i]], py_main$alpha_vec[i], 'truth'),\n",
    "            GetResultDataFrame(py_main$free_par_refit_lr_list[[i]], py_main$alpha_vec[i], 'lr')\n",
    "        )\n",
    "}\n",
    "df <- do.call(rbind, df_list)"
   ]
  },
  {
   "cell_type": "code",
   "execution_count": null,
   "metadata": {},
   "outputs": [
    {
     "data": {
      "text/html": [
       "<table>\n",
       "<thead><tr><th scope=col>dim</th><th scope=col>k</th><th scope=col>value</th><th scope=col>alpha</th><th scope=col>method</th></tr></thead>\n",
       "<tbody>\n",
       "\t<tr><td>1         </td><td>1         </td><td> 0.4009924</td><td>1         </td><td>truth     </td></tr>\n",
       "\t<tr><td>2         </td><td>1         </td><td>-0.2106315</td><td>1         </td><td>truth     </td></tr>\n",
       "\t<tr><td>3         </td><td>1         </td><td> 1.0302335</td><td>1         </td><td>truth     </td></tr>\n",
       "\t<tr><td>4         </td><td>1         </td><td> 0.3613453</td><td>1         </td><td>truth     </td></tr>\n",
       "\t<tr><td>1         </td><td>2         </td><td>-0.8370936</td><td>1         </td><td>truth     </td></tr>\n",
       "\t<tr><td>2         </td><td>2         </td><td> 0.3641367</td><td>1         </td><td>truth     </td></tr>\n",
       "</tbody>\n",
       "</table>\n"
      ],
      "text/latex": [
       "\\begin{tabular}{r|lllll}\n",
       " dim & k & value & alpha & method\\\\\n",
       "\\hline\n",
       "\t 1          & 1          &  0.4009924 & 1          & truth     \\\\\n",
       "\t 2          & 1          & -0.2106315 & 1          & truth     \\\\\n",
       "\t 3          & 1          &  1.0302335 & 1          & truth     \\\\\n",
       "\t 4          & 1          &  0.3613453 & 1          & truth     \\\\\n",
       "\t 1          & 2          & -0.8370936 & 1          & truth     \\\\\n",
       "\t 2          & 2          &  0.3641367 & 1          & truth     \\\\\n",
       "\\end{tabular}\n"
      ],
      "text/markdown": [
       "\n",
       "dim | k | value | alpha | method | \n",
       "|---|---|---|---|---|---|\n",
       "| 1          | 1          |  0.4009924 | 1          | truth      | \n",
       "| 2          | 1          | -0.2106315 | 1          | truth      | \n",
       "| 3          | 1          |  1.0302335 | 1          | truth      | \n",
       "| 4          | 1          |  0.3613453 | 1          | truth      | \n",
       "| 1          | 2          | -0.8370936 | 1          | truth      | \n",
       "| 2          | 2          |  0.3641367 | 1          | truth      | \n",
       "\n",
       "\n"
      ],
      "text/plain": [
       "  dim k value      alpha method\n",
       "1 1   1  0.4009924 1     truth \n",
       "2 2   1 -0.2106315 1     truth \n",
       "3 3   1  1.0302335 1     truth \n",
       "4 4   1  0.3613453 1     truth \n",
       "5 1   2 -0.8370936 1     truth \n",
       "6 2   2  0.3641367 1     truth "
      ]
     },
     "metadata": {},
     "output_type": "display_data"
    }
   ],
   "source": [
    "head(df)\n",
    "ggplot(df) +\n",
    "    geom_line(aes(x=alpha, y=value, color=paste(dim, k))) +\n",
    "    facet_grid(~ method)"
   ]
  }
 ],
 "metadata": {
  "kernelspec": {
   "display_name": "R",
   "language": "R",
   "name": "ir"
  },
  "language_info": {
   "codemirror_mode": "r",
   "file_extension": ".r",
   "mimetype": "text/x-r-source",
   "name": "R",
   "pygments_lexer": "r",
   "version": "3.4.4"
  }
 },
 "nbformat": 4,
 "nbformat_minor": 2
}
