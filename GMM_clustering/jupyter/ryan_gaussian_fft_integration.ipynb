{
 "cells": [
  {
   "cell_type": "code",
   "execution_count": 8,
   "metadata": {
    "collapsed": true
   },
   "outputs": [],
   "source": [
    "from scipy.fftpack import fft\n",
    "import numpy as np\n",
    "import matplotlib.pyplot as plt\n",
    "%matplotlib inline"
   ]
  },
  {
   "cell_type": "code",
   "execution_count": 144,
   "metadata": {},
   "outputs": [
    {
     "data": {
      "text/plain": [
       "(60000,)"
      ]
     },
     "execution_count": 144,
     "metadata": {},
     "output_type": "execute_result"
    },
    {
     "data": {
      "image/png": "[encoded data removed]",
      "text/plain": [
       "<matplotlib.figure.Figure at 0x7f1abd2bb2e8>"
      ]
     },
     "metadata": {},
     "output_type": "display_data"
    }
   ],
   "source": [
    "def f(x):\n",
    "    return np.exp(-0.5 * x ** 2) / np.sqrt(2 * np.pi)\n",
    "    #return x**2\n",
    "    \n",
    "x_diff = 0.0001\n",
    "x_min = -3\n",
    "x_max = 3\n",
    "x_grid = np.arange(x_min, x_max, x_diff)\n",
    "plt.plot(x_grid, f(x_grid))\n",
    "\n",
    "f_fft = fft(f_grid)\n",
    "f_fft.shape"
   ]
  },
  {
   "cell_type": "code",
   "execution_count": 145,
   "metadata": {
    "collapsed": true
   },
   "outputs": [],
   "source": [
    "def brute_force_fourier(f, x_grid, t):\n",
    "    f_grid = f(x_grid)\n",
    "    return np.sum(f_grid * np.exp(-2 * np.pi * 1j * x_grid * t) * x_diff)"
   ]
  },
  {
   "cell_type": "code",
   "execution_count": 146,
   "metadata": {},
   "outputs": [
    {
     "name": "stdout",
     "output_type": "stream",
     "text": [
      "FFT:  (149991.65336534492+0j)\n",
      "Brute force:  (0.9973002039125322+0j)\n"
     ]
    }
   ],
   "source": [
    "def f_fourier(t):\n",
    "    x_range = x_max - x_min\n",
    "    t_ind = int(np.round(x_range * t))\n",
    "    return x_range * np.exp(-2 * np.pi * 1j * x_min * t) * f_fft[t_ind]\n",
    "\n",
    "def f_fourier_brute(t):\n",
    "    return brute_force_fourier(f, x_grid, t)\n",
    "    \n",
    "# These should match if I have understood the fft discretization (which I have not)\n",
    "print('FFT: ', f_fourier(0.))\n",
    "print('Brute force: ', f_fourier_brute(0.))\n"
   ]
  },
  {
   "cell_type": "code",
   "execution_count": 147,
   "metadata": {},
   "outputs": [
    {
     "name": "stdout",
     "output_type": "stream",
     "text": [
      "1.0\n",
      "(0.9973002039125322+0j)\n"
     ]
    }
   ],
   "source": [
    "# Fourier transform of the standard Gaussian distribution\n",
    "def phi(x, mu=0, sigma=1):\n",
    "    return np.exp(-(0.5 / (sigma ** 2)) * ((x - mu) ** 2) - 0.5 * np.log(2 * np.pi * (sigma ** 2)))\n",
    "    \n",
    "def phi_fourier(t):\n",
    "    return np.exp(-0.5 * (2 * np.pi * t) ** 2)\n",
    "\n",
    "t = 0.0\n",
    "print(phi_fourier(t))\n",
    "print(brute_force_fourier(phi, x_grid, t))"
   ]
  },
  {
   "cell_type": "code",
   "execution_count": 148,
   "metadata": {},
   "outputs": [
    {
     "name": "stdout",
     "output_type": "stream",
     "text": [
      "(0.9973002039125322+0j)\n",
      "0.28208856015893574\n",
      "0.28234184416943636\n"
     ]
    }
   ],
   "source": [
    "def get_fourier_expectation(mu, sigma, brute=False):\n",
    "    phi_fourier_vals = phi_fourier(mu / sigma) / sigma\n",
    "    if brute:\n",
    "        return f_fourier_brute(mu / (sigma ** 2)) * phi_fourier_vals\n",
    "    else:\n",
    "        return f_fourier(mu / (sigma ** 2)) * phi_fourier_vals\n",
    "\n",
    "def get_expectation_brute(mu, sigma):\n",
    "    f_grid = f(x_grid)\n",
    "    phi_grid = phi(x_grid, mu, sigma)\n",
    "    return np.sum(f_grid * phi_grid) * x_diff\n",
    "\n",
    "def get_expectation_monte_carlo(mu, sigma, num_draws=10000):\n",
    "    draws = np.random.normal(loc=mu, scale=sigma, size=num_draws)\n",
    "    return np.mean(f(draws))\n",
    "\n",
    "mu = 0\n",
    "sigma = 1.0\n",
    "print(get_fourier_expectation(mu=mu, sigma=sigma, brute=True))\n",
    "print(get_expectation_brute(mu=mu, sigma=sigma))\n",
    "print(get_expectation_monte_carlo(mu=mu, sigma=sigma))"
   ]
  },
  {
   "cell_type": "code",
   "execution_count": 152,
   "metadata": {},
   "outputs": [
    {
     "name": "stdout",
     "output_type": "stream",
     "text": [
      "0.9973002039301593\n",
      "2.5066282746310002\n",
      "0.3989422804014327\n"
     ]
    }
   ],
   "source": [
    "print(2.4998608894666 / np.sqrt(2 * np.pi))\n",
    "print(np.sqrt(2 * np.pi))\n",
    "print(1 / np.sqrt(2 * np.pi))"
   ]
  },
  {
   "cell_type": "code",
   "execution_count": 138,
   "metadata": {},
   "outputs": [
    {
     "name": "stdout",
     "output_type": "stream",
     "text": [
      "0.5641895835477563\n"
     ]
    },
    {
     "data": {
      "image/png": "[encoded data removed]",
      "text/plain": [
       "<matplotlib.figure.Figure at 0x7f1abd269828>"
      ]
     },
     "metadata": {},
     "output_type": "display_data"
    }
   ],
   "source": [
    "f_fourier_vec = np.array([ f_fourier_brute(t) for t in np.linspace(0, 1, 100) ])\n",
    "plt.plot(np.abs(f_fourier_vec))"
   ]
  }
 ],
 "metadata": {
  "kernelspec": {
   "display_name": "Python 3",
   "language": "python",
   "name": "python3"
  },
  "language_info": {
   "codemirror_mode": {
    "name": "ipython",
    "version": 3
   },
   "file_extension": ".py",
   "mimetype": "text/x-python",
   "name": "python",
   "nbconvert_exporter": "python",
   "pygments_lexer": "ipython3",
   "version": "3.5.2"
  }
 },
 "nbformat": 4,
 "nbformat_minor": 2
}
