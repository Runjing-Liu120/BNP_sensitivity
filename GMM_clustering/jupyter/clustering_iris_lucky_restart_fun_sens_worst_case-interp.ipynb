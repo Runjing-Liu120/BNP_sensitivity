{
 "cells": [
  {
   "cell_type": "code",
   "execution_count": 1,
   "metadata": {
    "collapsed": false
   },
   "outputs": [],
   "source": [
    "import autograd.numpy as np\n",
    "import autograd.scipy as sp\n",
    "\n",
    "import autograd\n",
    "\n",
    "import sys\n",
    "sys.path.insert(0, './../../../LinearResponseVariationalBayes.py')\n",
    "sys.path.insert(0, './../')\n",
    "\n",
    "# Linear response libraries\n",
    "import LinearResponseVariationalBayes as vb\n",
    "import LinearResponseVariationalBayes.ExponentialFamilies as ef\n",
    "\n",
    "# My libraries\n",
    "import gmm_clustering_lib as gmm_utils\n",
    "import modeling_lib \n",
    "\n",
    "import functional_sensitivity_lib as fun_sens_lib\n",
    " \n",
    "\n",
    "from scipy import spatial\n",
    "import scipy.cluster.hierarchy as sch\n",
    "\n",
    "import matplotlib.pyplot as plt\n",
    "%matplotlib inline\n",
    "\n",
    "import time\n",
    "from tqdm import tqdm\n",
    "\n",
    "from copy import deepcopy\n",
    "\n",
    "from matplotlib.patches import Ellipse\n",
    "import matplotlib.cm as cm\n",
    "\n",
    "np.random.seed(453453)\n",
    "\n",
    "import json \n"
   ]
  },
  {
   "cell_type": "markdown",
   "metadata": {},
   "source": [
    "# Load data"
   ]
  },
  {
   "cell_type": "code",
   "execution_count": 2,
   "metadata": {
    "collapsed": false
   },
   "outputs": [],
   "source": [
    "# set up R chunks \n",
    "# %load_ext rpy2.ipython\n",
    "# %R require(ggplot2)"
   ]
  },
  {
   "cell_type": "code",
   "execution_count": 3,
   "metadata": {
    "collapsed": false
   },
   "outputs": [],
   "source": [
    "# load iris dataset \n",
    "\n",
    "from sklearn import datasets\n",
    "from sklearn.cluster import KMeans\n",
    "from sklearn.decomposition import PCA\n",
    "\n",
    "iris = datasets.load_iris(return_X_y= True)\n",
    "\n",
    "iris_features = iris[0]\n",
    "\n",
    "demean = True\n",
    "if demean: \n",
    "    iris_features -= np.mean(iris_features, axis = 0)[None, :]\n",
    "\n",
    "iris_species = iris[1]\n",
    "\n",
    "dim = iris_features.shape[1]"
   ]
  },
  {
   "cell_type": "code",
   "execution_count": 4,
   "metadata": {
    "collapsed": false
   },
   "outputs": [],
   "source": [
    "# define colors that will be used for plotting later\n",
    "# colors = ['red', 'blue', 'green', 'orange', 'purple', 'yellow', 'cyan', 'magenta']\n",
    "# colors += colors\n",
    "\n",
    "cmap = cm.get_cmap(name='gist_rainbow')\n",
    "colors1 = [cmap(k * 50) for k in range(12)]\n",
    "colors2 = [cmap(k * 25) for k in range(12)]"
   ]
  },
  {
   "cell_type": "code",
   "execution_count": 5,
   "metadata": {
    "collapsed": false
   },
   "outputs": [],
   "source": [
    "# run PCA\n",
    "pca_fit = PCA()\n",
    "pca_fit.fit(iris_features)\n",
    "pc_features = pca_fit.transform(iris_features)"
   ]
  },
  {
   "cell_type": "code",
   "execution_count": 6,
   "metadata": {
    "collapsed": false
   },
   "outputs": [],
   "source": [
    "def plot_clusters(x, y, cluster_labels, colors, fig, centroids = None, cov = None): \n",
    "    if np.all(cov != None): \n",
    "        assert len(np.unique(cluster_labels)) == np.shape(cov)[0]\n",
    "    if np.all(centroids != None): \n",
    "        assert len(np.unique(cluster_labels)) == np.shape(centroids)[1] \n",
    "    \n",
    "    unique_cluster_labels = np.unique(cluster_labels)\n",
    "    n_clusters = len(unique_cluster_labels)\n",
    "        \n",
    "    # this would be so much easier if \n",
    "    # python lists supported logical indexing ... \n",
    "    cluster_labels_color = [colors[k] for n in range(len(x)) \\\n",
    "                            for k in range(n_clusters) \\\n",
    "                            if cluster_labels[n] == unique_cluster_labels[k]]\n",
    "            \n",
    "    # plot datapoints\n",
    "    fig.scatter(x, y, c=cluster_labels_color, marker = '.')\n",
    "    \n",
    "    if np.all(centroids != None): \n",
    "        for k in range(n_clusters): \n",
    "            fig.scatter(centroids[0, k], centroids[1, k], marker = '+', color = 'black')\n",
    "    \n",
    "    if np.all(cov != None): \n",
    "        for k in range(n_clusters):  \n",
    "            eig, v = np.linalg.eig(cov[k, :, :])\n",
    "            ell = Ellipse(xy=(centroids[0, k], centroids[1, k]),\n",
    "                  width=np.sqrt(eig[0]) * 6, height=np.sqrt(eig[1]) * 6,\n",
    "                  angle=np.rad2deg(np.arctan(v[1, 0] / v[0, 0])))\n",
    "            ell.set_facecolor('none')\n",
    "            ell.set_edgecolor(colors[k])\n",
    "            fig.add_artist(ell)\n",
    "                "
   ]
  },
  {
   "cell_type": "code",
   "execution_count": 7,
   "metadata": {
    "collapsed": false
   },
   "outputs": [
    {
     "data": {
      "text/plain": [
       "<matplotlib.text.Text at 0x7fdc68547ef0>"
      ]
     },
     "execution_count": 7,
     "metadata": {},
     "output_type": "execute_result"
    },
    {
     "data": {
      "image/png": "[encoded data removed]",
      "text/plain": [
       "<matplotlib.figure.Figure at 0x7fdc6b3109e8>"
      ]
     },
     "metadata": {},
     "output_type": "display_data"
    }
   ],
   "source": [
    "fig1 = plt.figure(1)\n",
    "fig = fig1.add_subplot(111)\n",
    "plot_clusters(pc_features[:, 0], pc_features[:, 1], iris_species, colors1, fig)\n",
    "fig.set_xlabel('PC1')\n",
    "fig.set_ylabel('PC2')"
   ]
  },
  {
   "cell_type": "code",
   "execution_count": 8,
   "metadata": {
    "collapsed": false
   },
   "outputs": [
    {
     "data": {
      "text/plain": [
       "<matplotlib.text.Text at 0x7fdc684b0208>"
      ]
     },
     "execution_count": 8,
     "metadata": {},
     "output_type": "execute_result"
    },
    {
     "data": {
      "image/png": "[encoded data removed]",
      "text/plain": [
       "<matplotlib.figure.Figure at 0x7fdc6a791b38>"
      ]
     },
     "metadata": {},
     "output_type": "display_data"
    }
   ],
   "source": [
    "fig1 = plt.figure(1)\n",
    "fig = fig1.add_subplot(111)\n",
    "plot_clusters(iris_features[:, 0], iris_features[:, 1], iris_species, colors1, fig)\n",
    "fig.set_xlabel('Sepal length')\n",
    "fig.set_ylabel('Sepal width')"
   ]
  },
  {
   "cell_type": "code",
   "execution_count": 9,
   "metadata": {
    "collapsed": false
   },
   "outputs": [],
   "source": [
    "def transform_params_to_pc_space(pca_fit, centroids, cov):\n",
    "    # centroids is dim x k_approx\n",
    "    # infos is k_approx x dim x dim\n",
    "\n",
    "    assert pca_fit.components_.shape[1] == centroids.shape[0]\n",
    "    \n",
    "    centroids_pc = pca_fit.transform(centroids.T)\n",
    "    \n",
    "    cov_pc = np.zeros(cov.shape)\n",
    "    for k in range(cov.shape[0]):\n",
    "        cov_pc[k, :, :] = np.dot(np.dot(pca_fit.components_, cov[k]), pca_fit.components_.T)\n",
    "        \n",
    "    # cov_pc = np.einsum('di, kij, ej -> kde', pca_fit.components_, cov, pca_fit.components_)\n",
    "    \n",
    "    \n",
    "    return centroids_pc.T, cov_pc"
   ]
  },
  {
   "cell_type": "markdown",
   "metadata": {},
   "source": [
    "# Set prior params"
   ]
  },
  {
   "cell_type": "code",
   "execution_count": 10,
   "metadata": {
    "collapsed": false
   },
   "outputs": [],
   "source": [
    "prior_params = gmm_utils.get_default_prior_params(dim)\n",
    "prior_params['alpha'].set(4.0)\n",
    "prior_params['prior_gamma_df'].set(8)\n",
    "prior_params['prior_gamma_inv_scale'].set(np.eye(dim) * 0.62)"
   ]
  },
  {
   "cell_type": "code",
   "execution_count": 11,
   "metadata": {
    "collapsed": false,
    "scrolled": true
   },
   "outputs": [
    {
     "name": "stdout",
     "output_type": "stream",
     "text": [
      "prior_params:\n",
      "\talpha: 4.0\n",
      "\tprior_centroid_mean: 0.0\n",
      "\tprior_centroid_info: 0.1\n",
      "\tprior_gamma_df: 8\n",
      "\tprior_gamma_inv_scale:\n",
      "[[0.62 0.   0.   0.  ]\n",
      " [0.   0.62 0.   0.  ]\n",
      " [0.   0.   0.62 0.  ]\n",
      " [0.   0.   0.   0.62]]\n"
     ]
    }
   ],
   "source": [
    "print(prior_params)"
   ]
  },
  {
   "cell_type": "markdown",
   "metadata": {},
   "source": [
    "# Set up model"
   ]
  },
  {
   "cell_type": "code",
   "execution_count": 12,
   "metadata": {
    "collapsed": false
   },
   "outputs": [],
   "source": [
    "k_approx = 12\n",
    "gh_deg = 8\n",
    "model = gmm_utils.DPGaussianMixture(iris_features, k_approx, prior_params, gh_deg, use_logitnormal_sticks=True)"
   ]
  },
  {
   "cell_type": "markdown",
   "metadata": {},
   "source": [
    "# Set inits"
   ]
  },
  {
   "cell_type": "code",
   "execution_count": 13,
   "metadata": {
    "collapsed": true
   },
   "outputs": [],
   "source": [
    "set_truth = False"
   ]
  },
  {
   "cell_type": "code",
   "execution_count": 14,
   "metadata": {
    "collapsed": false
   },
   "outputs": [],
   "source": [
    "if set_truth: \n",
    "    # set to the true centroids: \n",
    "    centroid_init = np.zeros((dim, k_approx))\n",
    "    info_init = np.zeros((k_approx, dim, dim))\n",
    "    for k in range(k_approx): \n",
    "        if k < 3: \n",
    "            k_indx = np.argwhere(iris_species == k).flatten()\n",
    "            centroid_k = np.mean(model.y[k_indx, :], axis = 0)\n",
    "\n",
    "            resid_k = model.y[k_indx, :] - centroid_k\n",
    "\n",
    "            cov_init = np.dot(resid_k.T, resid_k)\n",
    "\n",
    "            info_init[k, :, :] = np.linalg.inv(cov_init)\n",
    "            centroid_init[:, k] = centroid_k\n",
    "        else: \n",
    "            info_init[k, :, :] = np.eye(dim)\n",
    "    \n",
    "    model.vb_params['global']['centroids'].set(centroid_init)\n",
    "    model.vb_params['global']['gamma'].set(info_init)\n",
    "    \n",
    "    model.set_optimal_z()\n",
    "    \n",
    "    init_global_free_param = model.global_vb_params.get_free()\n",
    "    \n",
    "        \n",
    "    \n",
    "else: \n",
    "    # run k-means init\n",
    "    n_kmeans_init = 50\n",
    "    init_global_free_param = model.cluster_and_set_inits(n_kmeans_init = n_kmeans_init)\n"
   ]
  },
  {
   "cell_type": "markdown",
   "metadata": {
    "collapsed": true
   },
   "source": [
    "# look at initializations"
   ]
  },
  {
   "cell_type": "code",
   "execution_count": 15,
   "metadata": {
    "collapsed": true
   },
   "outputs": [],
   "source": [
    "init_clusters = np.argmax(model.vb_params['e_z'].get(), axis = 1)\n",
    "init_centroids = model.vb_params['global']['centroids'].get()\n",
    "init_cov = np.linalg.inv(model.vb_params['global']['gamma'].get())"
   ]
  },
  {
   "cell_type": "code",
   "execution_count": 16,
   "metadata": {
    "collapsed": false
   },
   "outputs": [
    {
     "data": {
      "image/png": "[encoded data removed]",
      "text/plain": [
       "<matplotlib.figure.Figure at 0x7fdc68547a58>"
      ]
     },
     "metadata": {},
     "output_type": "display_data"
    }
   ],
   "source": [
    "init_centroids_pc, init_cov_pc = transform_params_to_pc_space(pca_fit, init_centroids, init_cov)\n",
    "\n",
    "fig1 = plt.figure(1)\n",
    "fig = fig1.add_subplot(111)\n",
    "\n",
    "plot_clusters(pc_features[:, 0], pc_features[:, 1], init_clusters, \\\n",
    "            colors2, fig, \\\n",
    "             centroids = init_centroids_pc, cov = init_cov_pc)"
   ]
  },
  {
   "cell_type": "code",
   "execution_count": 17,
   "metadata": {
    "collapsed": false
   },
   "outputs": [
    {
     "name": "stdout",
     "output_type": "stream",
     "text": [
      "10409.879713358841\n"
     ]
    }
   ],
   "source": [
    "print(np.linalg.norm(model.vb_params['global']['gamma'].get()))"
   ]
  },
  {
   "cell_type": "markdown",
   "metadata": {
    "collapsed": true
   },
   "source": [
    "# Optimize!"
   ]
  },
  {
   "cell_type": "code",
   "execution_count": 18,
   "metadata": {
    "collapsed": true
   },
   "outputs": [],
   "source": [
    "load_from_disc = True"
   ]
  },
  {
   "cell_type": "code",
   "execution_count": 19,
   "metadata": {
    "collapsed": false,
    "scrolled": false
   },
   "outputs": [],
   "source": [
    "if not load_from_disc: \n",
    "    t0 = time.time()\n",
    "    best_param, kl_hessian, kl_hessian_corrected, \\\n",
    "    init_opt_time, newton_time, x_conv, f_conv, vb_opt = \\\n",
    "        model.optimize_full(init_global_free_param,\n",
    "            init_max_iter=100,\n",
    "            final_max_iter=500)\n",
    "    t_newton = time.time() - t0\n",
    "\n",
    "    print('done. ')\n",
    "    \n",
    "else: \n",
    "\n",
    "    full_data_fit_file = '../iris_fits/full_data_fits/iris_bnp_full_data_fit.json'\n",
    "    with open(full_data_fit_file, 'r') as fp:\n",
    "        fit_dict = json.load(fp)\n",
    "\n",
    "    model = gmm_utils.get_model_from_checkpoint(fit_dict)\n",
    "    model_ = gmm_utils.get_model_from_checkpoint(fit_dict)\n",
    "\n",
    "    best_param = model.global_vb_params.get_free()"
   ]
  },
  {
   "cell_type": "code",
   "execution_count": 20,
   "metadata": {
    "collapsed": false
   },
   "outputs": [],
   "source": [
    "newton_results = deepcopy(model)"
   ]
  },
  {
   "cell_type": "code",
   "execution_count": 21,
   "metadata": {
    "collapsed": false,
    "scrolled": true
   },
   "outputs": [
    {
     "name": "stdout",
     "output_type": "stream",
     "text": [
      "prior_params:\n",
      "\talpha: 4.0\n",
      "\tprior_centroid_mean: 0.0\n",
      "\tprior_centroid_info: 0.1\n",
      "\tprior_gamma_df: 8\n",
      "\tprior_gamma_inv_scale:\n",
      "[[0.62 0.   0.   0.  ]\n",
      " [0.   0.62 0.   0.  ]\n",
      " [0.   0.   0.62 0.  ]\n",
      " [0.   0.   0.   0.62]]\n"
     ]
    }
   ],
   "source": [
    "print(prior_params)"
   ]
  },
  {
   "cell_type": "code",
   "execution_count": 22,
   "metadata": {
    "collapsed": true
   },
   "outputs": [],
   "source": [
    "bnp_clusters = np.argmax(newton_results.vb_params['e_z'].get(), axis = 1)\n",
    "bnp_centroids = newton_results.vb_params['global']['centroids'].get()\n",
    "\n",
    "bnp_cluster_infos = newton_results.vb_params['global']['gamma'].get()\n",
    "bnp_cluster_covs = np.linalg.inv(bnp_cluster_infos)"
   ]
  },
  {
   "cell_type": "markdown",
   "metadata": {
    "collapsed": true
   },
   "source": [
    "### look at bnp clusters"
   ]
  },
  {
   "cell_type": "code",
   "execution_count": 23,
   "metadata": {
    "collapsed": true
   },
   "outputs": [],
   "source": [
    "bnp_centroids_pc, bnp_cluster_covs_pc = \\\n",
    "    transform_params_to_pc_space(pca_fit, bnp_centroids, bnp_cluster_covs)"
   ]
  },
  {
   "cell_type": "code",
   "execution_count": 24,
   "metadata": {
    "collapsed": false
   },
   "outputs": [
    {
     "data": {
      "text/plain": [
       "<matplotlib.text.Text at 0x7fdc682e77b8>"
      ]
     },
     "execution_count": 24,
     "metadata": {},
     "output_type": "execute_result"
    },
    {
     "data": {
      "image/png": "[encoded data removed]",
      "text/plain": [
       "<matplotlib.figure.Figure at 0x7fdc682d32b0>"
      ]
     },
     "metadata": {},
     "output_type": "display_data"
    }
   ],
   "source": [
    "fig1 = plt.figure(1)\n",
    "fig = fig1.add_subplot(111)\n",
    "\n",
    "colors1_ = deepcopy(colors1)\n",
    "colors1_[0] = colors1[2]\n",
    "colors1_[1] = colors1[0]\n",
    "colors1_[2] = colors1[1]\n",
    "\n",
    "plot_clusters(pc_features[:, 0], pc_features[:, 1], bnp_clusters, \\\n",
    "              colors1_, fig, \\\n",
    "              centroids = bnp_centroids_pc[:, np.unique(bnp_clusters)], \\\n",
    "              cov = bnp_cluster_covs_pc[np.unique(bnp_clusters)])\n",
    "fig.set_xlabel('PC1')\n",
    "fig.set_ylabel('PC2')"
   ]
  },
  {
   "cell_type": "code",
   "execution_count": 25,
   "metadata": {
    "collapsed": false
   },
   "outputs": [],
   "source": [
    "# plt.scatter(pc_features[bnp_clusters == 0, 0], pc_features[bnp_clusters == 0, 1])"
   ]
  },
  {
   "cell_type": "code",
   "execution_count": 26,
   "metadata": {
    "collapsed": false
   },
   "outputs": [
    {
     "data": {
      "image/png": "[encoded data removed]",
      "text/plain": [
       "<matplotlib.figure.Figure at 0x7fdc682369e8>"
      ]
     },
     "metadata": {},
     "output_type": "display_data"
    }
   ],
   "source": [
    "# recall true clustering\n",
    "fig1 = plt.figure(1)\n",
    "fig = fig1.add_subplot(111)\n",
    "plot_clusters(pc_features[:, 0], pc_features[:, 1], iris_species, colors1, fig)"
   ]
  },
  {
   "cell_type": "code",
   "execution_count": 27,
   "metadata": {
    "collapsed": false
   },
   "outputs": [
    {
     "data": {
      "text/plain": [
       "<matplotlib.image.AxesImage at 0x7fdc6816f1d0>"
      ]
     },
     "execution_count": 27,
     "metadata": {},
     "output_type": "execute_result"
    },
    {
     "data": {
      "image/png": "[encoded data removed]",
      "text/plain": [
       "<matplotlib.figure.Figure at 0x7fdc7305de10>"
      ]
     },
     "metadata": {},
     "output_type": "display_data"
    }
   ],
   "source": [
    "model.set_from_global_free_par(newton_results.global_vb_params.get_free())\n",
    "e_z = model.vb_params['e_z'].get()\n",
    "co_cluster_mat = np.dot(e_z, e_z.T)\n",
    "\n",
    "dis = (co_cluster_mat + 1) ** (-1)\n",
    "dis[np.diag_indices_from(dis)] = 0\n",
    "dis = spatial.distance.squareform(dis, checks=False)\n",
    "y = sch.linkage(dis, method='average')\n",
    "indx_best = sch.dendrogram(y, no_plot=True)[\"leaves\"]\n",
    "\n",
    "co_cluster_mat = co_cluster_mat[indx_best][:, indx_best]\n",
    "\n",
    "plt.matshow(co_cluster_mat)\n"
   ]
  },
  {
   "cell_type": "code",
   "execution_count": 28,
   "metadata": {
    "collapsed": false
   },
   "outputs": [],
   "source": [
    "# %%R -i bnp_clusters -i bnp_centroids -w 4 -h 3 --units in -r 200\n",
    "# #     pca_centroids_init <- as.data.frame(predict(pca_results, t(init_centroids)))\n",
    "# #     pca_centroids_init$cluster <- as.factor(seq(1, 10, by = 1))\n",
    "# # TODO: plot the centroids too \n",
    "\n",
    "# # add our bnp clusterings to the dataframe\n",
    "# df_pca$bnp_clusters <- as.factor(bnp_clusters)\n",
    "\n",
    "# # plot\n",
    "# ggplot() + geom_point(data = df_pca, aes(x = PC1, y = PC2, color = bnp_clusters), size = 0.5) + \n",
    "#     theme(legend.position=\"none\") "
   ]
  },
  {
   "cell_type": "code",
   "execution_count": 29,
   "metadata": {
    "collapsed": false
   },
   "outputs": [
    {
     "data": {
      "image/png": "[encoded data removed]",
      "text/plain": [
       "<matplotlib.figure.Figure at 0x7fdc68215240>"
      ]
     },
     "metadata": {},
     "output_type": "display_data"
    }
   ],
   "source": [
    "cluster_weights = np.sum(newton_results.vb_params['e_z'].get(), axis = 0) / np.shape(model.y)[0]\n",
    "plt.bar(np.arange(len(cluster_weights)), cluster_weights); "
   ]
  },
  {
   "cell_type": "code",
   "execution_count": 30,
   "metadata": {
    "collapsed": false
   },
   "outputs": [
    {
     "data": {
      "image/png": "[encoded data removed]",
      "text/plain": [
       "<matplotlib.figure.Figure at 0x7fdc681ecef0>"
      ]
     },
     "metadata": {},
     "output_type": "display_data"
    }
   ],
   "source": [
    "posterior_weights = model.get_e_cluster_probabilities()\n",
    "plt.bar(np.arange(len(posterior_weights)), posterior_weights); "
   ]
  },
  {
   "cell_type": "code",
   "execution_count": 31,
   "metadata": {
    "collapsed": false
   },
   "outputs": [
    {
     "data": {
      "text/plain": [
       "(array([  2.,   0.,   1.,   1.,   1.,   5.,   2.,   2.,   6., 130.]),\n",
       " array([0.44352936, 0.49917643, 0.55482349, 0.61047055, 0.66611762,\n",
       "        0.72176468, 0.77741174, 0.83305881, 0.88870587, 0.94435294,\n",
       "        1.        ]),\n",
       " <a list of 10 Patch objects>)"
      ]
     },
     "execution_count": 31,
     "metadata": {},
     "output_type": "execute_result"
    },
    {
     "data": {
      "image/png": "[encoded data removed]",
      "text/plain": [
       "<matplotlib.figure.Figure at 0x7fdc67f97a20>"
      ]
     },
     "metadata": {},
     "output_type": "display_data"
    }
   ],
   "source": [
    "plt.hist(np.max(model.vb_params['e_z'].get(), axis = 1))"
   ]
  },
  {
   "cell_type": "markdown",
   "metadata": {},
   "source": [
    "# Functional sensitivity"
   ]
  },
  {
   "cell_type": "code",
   "execution_count": 32,
   "metadata": {
    "collapsed": false,
    "scrolled": true
   },
   "outputs": [
    {
     "name": "stdout",
     "output_type": "stream",
     "text": [
      "KL Hessian:\n",
      "Prior Hessian...\n",
      "Data Hessian...\n",
      "Linear systems...\n",
      "Done.\n"
     ]
    }
   ],
   "source": [
    "best_param = newton_results.global_vb_params.get_free()\n",
    "prior_free_params = newton_results.prior_params.get_free()\n",
    "\n",
    "model.set_from_global_free_par(best_param)\n",
    "\n",
    "moment_model = gmm_utils.InterestingMoments(deepcopy(model))\n",
    "linear_sens = gmm_utils.LinearSensitivity(deepcopy(model), moment_model)"
   ]
  },
  {
   "cell_type": "code",
   "execution_count": 33,
   "metadata": {
    "collapsed": true
   },
   "outputs": [],
   "source": [
    "model.set_from_global_free_par(best_param)\n",
    "model.prior_params.set_free(prior_free_params)"
   ]
  },
  {
   "cell_type": "code",
   "execution_count": 34,
   "metadata": {
    "collapsed": false
   },
   "outputs": [
    {
     "name": "stdout",
     "output_type": "stream",
     "text": [
      "0.07230487288465379 2452.4187642002653\n"
     ]
    }
   ],
   "source": [
    "kl_hess_ev, kl_hess_evec = np.linalg.eig(linear_sens.kl_hessian)\n",
    "print(np.min(kl_hess_ev), np.max(kl_hess_ev))"
   ]
  },
  {
   "cell_type": "code",
   "execution_count": 35,
   "metadata": {
    "collapsed": true
   },
   "outputs": [],
   "source": [
    "def get_e_number_clusters_from_free_par(model, global_free_params, samples = 10000): \n",
    "    model.global_vb_params.set_free(global_free_params)\n",
    "    return modeling_lib.get_e_number_clusters_from_logit_sticks_diffble(model.vb_params, samples = samples)"
   ]
  },
  {
   "cell_type": "code",
   "execution_count": 36,
   "metadata": {
    "collapsed": false
   },
   "outputs": [],
   "source": [
    "# we examine the influence on the posterior stick lengths\n",
    "def get_stick_length_from_free_param(model, free_par): \n",
    "    model.set_from_global_free_par(free_par)\n",
    "    return ef.get_e_logitnormal(lognorm_means = model.vb_params['global']['v_sticks']['mean'].get(),\n",
    "                lognorm_infos = model.vb_params['global']['v_sticks']['info'].get(),\n",
    "                gh_loc = model.vb_params.gh_loc,\n",
    "                gh_weights = model.vb_params.gh_weights)\n",
    "\n",
    "\n",
    "# lets look at weights instead \n",
    "def get_kth_weight_from_free_param(model, free_par, k): \n",
    "    model.set_from_global_free_par(free_par)\n",
    "    e_sticks = ef.get_e_logitnormal(lognorm_means = model.vb_params['global']['v_sticks']['mean'].get(),\n",
    "                lognorm_infos = model.vb_params['global']['v_sticks']['info'].get(),\n",
    "                gh_loc = model.vb_params.gh_loc,\n",
    "                gh_weights = model.vb_params.gh_weights)\n",
    "    \n",
    "    return modeling_lib.get_kth_weight_from_sticks(np.array([e_sticks]), k)\n",
    "\n",
    "g_eta = np.zeros((k_approx, model.global_vb_params.free_size()))\n",
    "for k in range(k_approx): \n",
    "    get_g_eta = autograd.jacobian(get_kth_weight_from_free_param, argnum = 1)\n",
    "    g_eta[k, :] = get_g_eta(model, best_param, k)"
   ]
  },
  {
   "cell_type": "code",
   "execution_count": 37,
   "metadata": {
    "collapsed": false
   },
   "outputs": [],
   "source": [
    "get_g_eta_nclust = autograd.jacobian(get_e_number_clusters_from_free_par, argnum = 1)\n",
    "g_eta_nclust = get_g_eta_nclust(model, best_param)"
   ]
  },
  {
   "cell_type": "markdown",
   "metadata": {
    "collapsed": true
   },
   "source": [
    "# Worst case influence"
   ]
  },
  {
   "cell_type": "code",
   "execution_count": 60,
   "metadata": {
    "collapsed": false
   },
   "outputs": [],
   "source": [
    "worst_case_neg = lambda x : linear_sens.get_worst_case_perturbation_unscaled(g_eta = g_eta_nclust, \\\n",
    "                                                                      theta = x, \\\n",
    "                                                                      sign = -1)\n",
    "\n",
    "worst_case_pos = lambda x : linear_sens.get_worst_case_perturbation_unscaled(g_eta = g_eta_nclust, \\\n",
    "                                                                      theta = x, \\\n",
    "                                                                      sign = 1)"
   ]
  },
  {
   "cell_type": "code",
   "execution_count": 208,
   "metadata": {
    "collapsed": true
   },
   "outputs": [],
   "source": [
    "theta = np.linspace(0.01, 0.99, 100)"
   ]
  },
  {
   "cell_type": "code",
   "execution_count": 209,
   "metadata": {
    "collapsed": true
   },
   "outputs": [],
   "source": [
    "epsilon = 0.01"
   ]
  },
  {
   "cell_type": "code",
   "execution_count": 210,
   "metadata": {
    "collapsed": false
   },
   "outputs": [
    {
     "data": {
      "text/plain": [
       "<matplotlib.text.Text at 0x7fdc6610f198>"
      ]
     },
     "execution_count": 210,
     "metadata": {},
     "output_type": "execute_result"
    },
    {
     "data": {
      "image/png": "[encoded data removed]",
      "text/plain": [
       "<matplotlib.figure.Figure at 0x7fdc6718a860>"
      ]
     },
     "metadata": {},
     "output_type": "display_data"
    }
   ],
   "source": [
    "plt.plot(theta, np.dot(g_eta_nclust, linear_sens.total_influence_function(theta)), 'b--')\n",
    "plt.plot(theta, worst_case_neg(theta).flatten() * epsilon, 'red')\n",
    "plt.xlabel('x')\n",
    "plt.ylabel('u(x)')\n",
    "# plt.title('total influence on n_clusters')"
   ]
  },
  {
   "cell_type": "code",
   "execution_count": 211,
   "metadata": {
    "collapsed": false
   },
   "outputs": [
    {
     "data": {
      "text/plain": [
       "<matplotlib.text.Text at 0x7fdc66106eb8>"
      ]
     },
     "execution_count": 211,
     "metadata": {},
     "output_type": "execute_result"
    },
    {
     "data": {
      "image/png": "[encoded data removed]",
      "text/plain": [
       "<matplotlib.figure.Figure at 0x7fdc65f74438>"
      ]
     },
     "metadata": {},
     "output_type": "display_data"
    }
   ],
   "source": [
    "plt.plot(theta, np.dot(g_eta_nclust, linear_sens.total_influence_function(theta)), 'b--')\n",
    "plt.plot(theta, worst_case_pos(theta).flatten(), 'red')\n",
    "plt.xlabel('x')\n",
    "plt.ylabel('u(x)')\n",
    "# plt.title('total influence on n_clusters')"
   ]
  },
  {
   "cell_type": "code",
   "execution_count": 212,
   "metadata": {
    "collapsed": true
   },
   "outputs": [],
   "source": [
    "def eval_linear_interpolation(x, int_points_x, int_points_y): \n",
    "    # x are the values at which we want to evaluate the function\n",
    "    # int_point_y are the true values of the function at int_point_x \n",
    "    \n",
    "    # get the indices where x falls in int_points_x\n",
    "    x_indices = np.searchsorted(int_points_x, x)\n",
    "    x_indices = x_indices.clip(1, len(int_points_x)-1).astype(int)\n",
    "\n",
    "    lo = x_indices - 1\n",
    "    hi = x_indices\n",
    "\n",
    "    # The actual points between which the x falls\n",
    "    x_lo = int_points_x[lo]\n",
    "    x_hi = int_points_x[hi]\n",
    "    # the y values at those points\n",
    "    y_lo = int_points_y[lo]\n",
    "    y_hi = int_points_y[hi]\n",
    "                      \n",
    "    # get slope\n",
    "    slope = (y_hi - y_lo) / (x_hi - x_lo)\n",
    "    \n",
    "    # return interplated value\n",
    "    return slope*(x - x_lo) + y_lo"
   ]
  },
  {
   "cell_type": "code",
   "execution_count": 213,
   "metadata": {
    "collapsed": true
   },
   "outputs": [],
   "source": [
    "def eval_cubic_kernel(x, a):\n",
    "    abs_x = np.abs(x)\n",
    "    result_12 = np.where(np.logical_and(abs_x < 2, abs_x >=1),\n",
    "                         a * abs_x**3 - 5 * a * abs_x**2 + 8 * a * abs_x - 4 * a,\n",
    "                         np.zeros_like(x))\n",
    "\n",
    "    result_01 = np.where(np.logical_and(abs_x < 1, abs_x >= 0),\n",
    "                         (a + 2) * abs_x**3 - (a + 3) * abs_x**2 + 1,\n",
    "                         np.zeros_like(x))\n",
    "\n",
    "    return result_01 + result_12\n"
   ]
  },
  {
   "cell_type": "code",
   "execution_count": null,
   "metadata": {
    "collapsed": true
   },
   "outputs": [],
   "source": []
  },
  {
   "cell_type": "code",
   "execution_count": 66,
   "metadata": {
    "collapsed": false
   },
   "outputs": [],
   "source": [
    "# Get interpolating points\n",
    "n_int_points = 10000\n",
    "int_points_x_ = np.linspace(0.0, 1.0, n_int_points)\n",
    "int_points_x = np.sort((1 - (np.power(10, int_points_x_) - 1) / 9) * (1 - 0.6e-6) + 0.5e-6)"
   ]
  },
  {
   "cell_type": "code",
   "execution_count": 67,
   "metadata": {
    "collapsed": false
   },
   "outputs": [
    {
     "data": {
      "image/png": "[encoded data removed]",
      "text/plain": [
       "<matplotlib.figure.Figure at 0x7fdc67d84e10>"
      ]
     },
     "metadata": {},
     "output_type": "display_data"
    }
   ],
   "source": [
    "# plt.plot(int_points_x, np.zeros(len(int_points_x)), '.', alpha = 0.005)\n",
    "plt.hist(int_points_x, bins = 100); "
   ]
  },
  {
   "cell_type": "code",
   "execution_count": 68,
   "metadata": {
    "collapsed": false
   },
   "outputs": [
    {
     "data": {
      "text/plain": [
       "array([5.00000000e-07, 2.56338763e-04, 5.12118617e-04, ...,\n",
       "       9.99948715e-01, 9.99974310e-01, 9.99999900e-01])"
      ]
     },
     "execution_count": 68,
     "metadata": {},
     "output_type": "execute_result"
    }
   ],
   "source": [
    "int_points_x"
   ]
  },
  {
   "cell_type": "code",
   "execution_count": 69,
   "metadata": {
    "collapsed": false
   },
   "outputs": [
    {
     "data": {
      "text/plain": [
       "0.9999998999999999"
      ]
     },
     "execution_count": 69,
     "metadata": {},
     "output_type": "execute_result"
    }
   ],
   "source": [
    "np.max(int_points_x)"
   ]
  },
  {
   "cell_type": "code",
   "execution_count": 70,
   "metadata": {
    "collapsed": false
   },
   "outputs": [
    {
     "data": {
      "text/plain": [
       "5e-07"
      ]
     },
     "execution_count": 70,
     "metadata": {},
     "output_type": "execute_result"
    }
   ],
   "source": [
    "np.min(int_points_x)"
   ]
  },
  {
   "cell_type": "code",
   "execution_count": 71,
   "metadata": {
    "collapsed": false
   },
   "outputs": [],
   "source": [
    "worst_case_pos_int_points = \\\n",
    "    linear_sens.get_worst_case_perturbation_unscaled(g_eta = g_eta_nclust, \\\n",
    "                                                      theta = int_points_x, \\\n",
    "                                                      diffble = False, \\\n",
    "                                                      sign = 1).flatten()\n",
    "worst_case_neg_int_points = \\\n",
    "    linear_sens.get_worst_case_perturbation_unscaled(g_eta = g_eta_nclust, \\\n",
    "                                                      theta = int_points_x, \\\n",
    "                                                      diffble = False, \\\n",
    "                                                      sign = -1).flatten()"
   ]
  },
  {
   "cell_type": "code",
   "execution_count": 72,
   "metadata": {
    "collapsed": false
   },
   "outputs": [],
   "source": [
    "# plt.plot(int_points_x, worst_case_neg_int_points, 'blue')\n",
    "# plt.plot(theta, worst_case_neg(theta).flatten(), 'red')"
   ]
  },
  {
   "cell_type": "code",
   "execution_count": 73,
   "metadata": {
    "collapsed": true
   },
   "outputs": [],
   "source": [
    "worst_case_pos_interpolated = lambda x : eval_linear_interpolation(x, int_points_x, worst_case_pos_int_points)\n",
    "worst_case_neg_interpolated = lambda x : eval_linear_interpolation(x, int_points_x, worst_case_neg_int_points)"
   ]
  },
  {
   "cell_type": "code",
   "execution_count": 74,
   "metadata": {
    "collapsed": false
   },
   "outputs": [
    {
     "name": "stdout",
     "output_type": "stream",
     "text": [
      "absolute diff\n",
      "0.004356710524916707\n",
      "0.04988671708269976\n"
     ]
    }
   ],
   "source": [
    "x = np.random.random((100))\n",
    "\n",
    "print('absolute diff')\n",
    "print(np.max(np.abs(worst_case_pos_interpolated(x) - worst_case_pos(x))))\n",
    "print(np.max(np.abs(worst_case_neg_interpolated(x) - worst_case_neg(x))))\n",
    "\n",
    "# print('\\n relative diff')\n",
    "# print(np.max(np.abs(worst_case_pos_interpolated(x) - worst_case_pos(x) / worst_case_pos(x))))\n",
    "# print(np.max(np.abs(worst_case_neg_interpolated(x) - worst_case_neg(x) / worst_case_neg(x))))"
   ]
  },
  {
   "cell_type": "code",
   "execution_count": 75,
   "metadata": {
    "collapsed": false
   },
   "outputs": [
    {
     "data": {
      "text/plain": [
       "[<matplotlib.lines.Line2D at 0x7fdc679352b0>]"
      ]
     },
     "execution_count": 75,
     "metadata": {},
     "output_type": "execute_result"
    },
    {
     "data": {
      "image/png": "[encoded data removed]",
      "text/plain": [
       "<matplotlib.figure.Figure at 0x7fdc67cc38d0>"
      ]
     },
     "metadata": {},
     "output_type": "display_data"
    }
   ],
   "source": [
    "plt.plot(theta, worst_case_pos(theta).flatten(), 'red')\n",
    "plt.plot(theta, worst_case_pos_interpolated(theta).flatten(), color = 'blue', marker = 'x')\n",
    "plt.plot(theta, np.dot(g_eta_nclust, linear_sens.total_influence_function(theta)), \n",
    "         color = 'orange')\n"
   ]
  },
  {
   "cell_type": "code",
   "execution_count": 76,
   "metadata": {
    "collapsed": false
   },
   "outputs": [
    {
     "data": {
      "text/plain": [
       "[<matplotlib.lines.Line2D at 0x7fdc67dfb278>]"
      ]
     },
     "execution_count": 76,
     "metadata": {},
     "output_type": "execute_result"
    },
    {
     "data": {
      "image/png": "[encoded data removed]",
      "text/plain": [
       "<matplotlib.figure.Figure at 0x7fdc67e2bc50>"
      ]
     },
     "metadata": {},
     "output_type": "display_data"
    }
   ],
   "source": [
    "plt.plot(theta, worst_case_pos(theta).flatten() - worst_case_pos_interpolated(theta).flatten())"
   ]
  },
  {
   "cell_type": "code",
   "execution_count": 77,
   "metadata": {
    "collapsed": false
   },
   "outputs": [
    {
     "data": {
      "text/plain": [
       "[<matplotlib.lines.Line2D at 0x7fdc67cdfef0>]"
      ]
     },
     "execution_count": 77,
     "metadata": {},
     "output_type": "execute_result"
    },
    {
     "data": {
      "image/png": "[encoded data removed]",
      "text/plain": [
       "<matplotlib.figure.Figure at 0x7fdc67d0e5f8>"
      ]
     },
     "metadata": {},
     "output_type": "display_data"
    }
   ],
   "source": [
    "plt.plot(theta, worst_case_neg(theta).flatten(), 'red')\n",
    "plt.plot(theta, worst_case_neg_interpolated(theta).flatten(), color = 'blue', marker = 'x')\n",
    "\n",
    "plt.plot(theta, np.dot(g_eta_nclust, linear_sens.total_influence_function(theta)), \n",
    "         color = 'orange')\n"
   ]
  },
  {
   "cell_type": "code",
   "execution_count": 78,
   "metadata": {
    "collapsed": false
   },
   "outputs": [
    {
     "data": {
      "text/plain": [
       "[<matplotlib.lines.Line2D at 0x7fdc67acb860>]"
      ]
     },
     "execution_count": 78,
     "metadata": {},
     "output_type": "execute_result"
    },
    {
     "data": {
      "image/png": "[encoded data removed]",
      "text/plain": [
       "<matplotlib.figure.Figure at 0x7fdc679a2e10>"
      ]
     },
     "metadata": {},
     "output_type": "display_data"
    }
   ],
   "source": [
    "plt.plot(theta, worst_case_neg(theta).flatten() - worst_case_neg_interpolated(theta).flatten())"
   ]
  },
  {
   "cell_type": "markdown",
   "metadata": {},
   "source": [
    "# Checking integration"
   ]
  },
  {
   "cell_type": "code",
   "execution_count": 147,
   "metadata": {
    "collapsed": true
   },
   "outputs": [],
   "source": [
    "model.set_from_global_free_par(best_param)\n",
    "model.prior_params.set_free(prior_free_params)"
   ]
  },
  {
   "cell_type": "code",
   "execution_count": 148,
   "metadata": {
    "collapsed": false
   },
   "outputs": [],
   "source": [
    "u = lambda x : worst_case_pos_interpolated(x)\n",
    "e_pert_prior = fun_sens_lib.dp_perturbed_prior(model.vb_params, model.prior_params,\\\n",
    "                                u = lambda x : u(x))"
   ]
  },
  {
   "cell_type": "code",
   "execution_count": 149,
   "metadata": {
    "collapsed": true
   },
   "outputs": [],
   "source": [
    "alpha = 4.0"
   ]
  },
  {
   "cell_type": "code",
   "execution_count": 150,
   "metadata": {
    "collapsed": true
   },
   "outputs": [],
   "source": [
    "dp_prior_density = lambda x : 1 / sp.special.beta(1, alpha) \\\n",
    "                            * (1 - x)**(alpha - 1)"
   ]
  },
  {
   "cell_type": "code",
   "execution_count": 151,
   "metadata": {
    "collapsed": false
   },
   "outputs": [
    {
     "data": {
      "text/plain": [
       "<matplotlib.text.Text at 0x7fdc66eda2b0>"
      ]
     },
     "execution_count": 151,
     "metadata": {},
     "output_type": "execute_result"
    },
    {
     "data": {
      "image/png": "[encoded data removed]",
      "text/plain": [
       "<matplotlib.figure.Figure at 0x7fdc66f52400>"
      ]
     },
     "metadata": {},
     "output_type": "display_data"
    }
   ],
   "source": [
    "plt.plot(theta, dp_prior_density(theta))\n",
    "plt.title('beta prior')"
   ]
  },
  {
   "cell_type": "code",
   "execution_count": 206,
   "metadata": {
    "collapsed": false
   },
   "outputs": [
    {
     "data": {
      "text/plain": [
       "[<matplotlib.lines.Line2D at 0x7fdc65d41518>]"
      ]
     },
     "execution_count": 206,
     "metadata": {},
     "output_type": "execute_result"
    },
    {
     "data": {
      "image/png": "[encoded data removed]",
      "text/plain": [
       "<matplotlib.figure.Figure at 0x7fdc65e45550>"
      ]
     },
     "metadata": {},
     "output_type": "display_data"
    }
   ],
   "source": [
    "plt.plot(theta, u(theta))"
   ]
  },
  {
   "cell_type": "code",
   "execution_count": 207,
   "metadata": {
    "collapsed": false
   },
   "outputs": [
    {
     "data": {
      "text/plain": [
       "[<matplotlib.lines.Line2D at 0x7fdc661fbc88>]"
      ]
     },
     "execution_count": 207,
     "metadata": {},
     "output_type": "execute_result"
    },
    {
     "data": {
      "image/png": "[encoded data removed]",
      "text/plain": [
       "<matplotlib.figure.Figure at 0x7fdc66b75898>"
      ]
     },
     "metadata": {},
     "output_type": "display_data"
    }
   ],
   "source": [
    "plt.plot(theta, u(theta) + dp_prior_density(theta))"
   ]
  },
  {
   "cell_type": "code",
   "execution_count": 152,
   "metadata": {
    "collapsed": false
   },
   "outputs": [
    {
     "data": {
      "text/plain": [
       "<matplotlib.text.Text at 0x7fdc66de8e80>"
      ]
     },
     "execution_count": 152,
     "metadata": {},
     "output_type": "execute_result"
    },
    {
     "data": {
      "image/png": "[encoded data removed]",
      "text/plain": [
       "<matplotlib.figure.Figure at 0x7fdc671da5f8>"
      ]
     },
     "metadata": {},
     "output_type": "display_data"
    }
   ],
   "source": [
    "perturbed_log_density = lambda x : np.log(u(x) + dp_prior_density(x))\n",
    "plt.plot(theta, perturbed_log_density(theta).flatten())\n",
    "plt.title('perturbed log prior')"
   ]
  },
  {
   "cell_type": "code",
   "execution_count": 161,
   "metadata": {
    "collapsed": true
   },
   "outputs": [],
   "source": [
    "import scipy as osp"
   ]
  },
  {
   "cell_type": "code",
   "execution_count": 162,
   "metadata": {
    "collapsed": false
   },
   "outputs": [],
   "source": [
    "factor = 4.0\n",
    "e_pert_prior_imp_sample = np.zeros(k_approx - 1)\n",
    "for k in range(k_approx - 1): \n",
    "\n",
    "    lognorm_means = model.vb_params['global']['v_sticks']['mean'].get()[k]\n",
    "    lognorm_infos = model.vb_params['global']['v_sticks']['info'].get()[k]\n",
    "\n",
    "    samples = sp.special.expit(\\\n",
    "            osp.stats.norm.rvs(lognorm_means, factor / np.sqrt(lognorm_infos), 100000))\n",
    "    # samples = np.minimum(samples, 1. - 1e-12)\n",
    "\n",
    "    integrand = lambda x : perturbed_log_density(x) * \\\n",
    "                    np.exp(fun_sens_lib.get_log_logitnormal_density(x, lognorm_means, lognorm_infos) - \n",
    "                           fun_sens_lib.get_log_logitnormal_density(x, lognorm_means, lognorm_infos / factor**2))\n",
    "\n",
    "    e_pert_prior_imp_sample[k] = np.mean(integrand(samples))"
   ]
  },
  {
   "cell_type": "code",
   "execution_count": 163,
   "metadata": {
    "collapsed": false
   },
   "outputs": [
    {
     "data": {
      "text/plain": [
       "array([1.15673243, 0.02400576, 1.32052841, 6.17328092, 1.2404809 ,\n",
       "       1.31091278, 1.28098771, 1.2615724 , 1.25193198, 1.25999521,\n",
       "       1.25050671])"
      ]
     },
     "execution_count": 163,
     "metadata": {},
     "output_type": "execute_result"
    }
   ],
   "source": [
    "e_pert_prior_imp_sample"
   ]
  },
  {
   "cell_type": "code",
   "execution_count": 164,
   "metadata": {
    "collapsed": false
   },
   "outputs": [
    {
     "data": {
      "text/plain": [
       "array([1.06820932, 0.07707168, 1.31851018, 0.60244975, 1.50991024,\n",
       "       1.33027017, 1.20259295, 1.17877475, 1.17605358, 1.17805535,\n",
       "       1.18187348])"
      ]
     },
     "execution_count": 164,
     "metadata": {},
     "output_type": "execute_result"
    }
   ],
   "source": [
    "e_pert_prior"
   ]
  },
  {
   "cell_type": "code",
   "execution_count": 165,
   "metadata": {
    "collapsed": false,
    "scrolled": true
   },
   "outputs": [],
   "source": [
    "# get functional sensitivity\n",
    "worst_case_fun_sens_mat_pos, worst_case_fun_sens_mat_neg = \\\n",
    "    linear_sens.get_worst_case_fun_sens(g_eta_nclust)"
   ]
  },
  {
   "cell_type": "code",
   "execution_count": 166,
   "metadata": {
    "collapsed": false
   },
   "outputs": [],
   "source": [
    "worst_case_fun_sens_mat_pos_ = np.zeros((len(best_param), k_approx - 1))\n",
    "worst_case_fun_sens_mat_neg_ = np.zeros((len(best_param), k_approx - 1))\n",
    "for k in range(k_approx - 1): \n",
    "    worst_case_fun_sens_mat_pos_[:, k] = \\\n",
    "        linear_sens.get_functional_sensitivity(lambda x : np.maximum(worst_case_pos_interpolated(x), 0.0), k)\n",
    "    worst_case_fun_sens_mat_neg_[:, k] = \\\n",
    "        linear_sens.get_functional_sensitivity(lambda x : np.maximum(worst_case_neg_interpolated(x), 0.0), k)"
   ]
  },
  {
   "cell_type": "code",
   "execution_count": 167,
   "metadata": {
    "collapsed": false,
    "scrolled": false
   },
   "outputs": [
    {
     "name": "stdout",
     "output_type": "stream",
     "text": [
      "Iter: 0\t RMSE: 9.028010849889903\t Objective: -338.60190785666043\n",
      "Iter: 10\t RMSE: 9.036914062655264\t Objective: -338.63263837231347\n",
      "Iter: 20\t RMSE: 9.035182209182649\t Objective: -338.63625704911067\n",
      "Iter: 30\t RMSE: 9.035574520142777\t Objective: -338.64314722210395\n",
      "Iter: 40\t RMSE: 9.036345390495578\t Objective: -338.64603456403995\n",
      "Iter: 50\t RMSE: 9.036796764612449\t Objective: -338.6472664033735\n",
      "Iter: 60\t RMSE: 9.03683117825357\t Objective: -338.64741380840974\n",
      "Iter: 70\t RMSE: 9.0368034312926\t Objective: -338.6474220560801\n",
      "Iter: 80\t RMSE: 9.036796813882045\t Objective: -338.6474225013286\n",
      "Iter: 90\t RMSE: 9.036788514738753\t Objective: -338.64742256844164\n",
      "Iter: 100\t RMSE: 9.036788473934868\t Objective: -338.64742256863605\n",
      "Iter: 110\t RMSE: 9.036788473934868\t Objective: -338.64742256863605\n",
      "Iter: 120\t RMSE: 9.036788473934868\t Objective: -338.64742256863605\n",
      "Iter: 130\t RMSE: 9.036788473934868\t Objective: -338.6474225686363\n",
      "Iter: 140\t RMSE: 9.036788474041296\t Objective: -338.6474225686339\n",
      "Warning: Desired error not necessarily achieved due to precision loss.\n",
      "         Current function value: -338.647423\n",
      "         Iterations: 74\n",
      "         Function evaluations: 148\n",
      "         Gradient evaluations: 140\n",
      "Iter: 150\t RMSE: 9.036757932170465\t Objective: -338.647420815543\n",
      "Iter: 160\t RMSE: 9.036788464804019\t Objective: -338.6474225679854\n",
      "Iter: 170\t RMSE: 9.036788474177895\t Objective: -338.6474225686253\n",
      "Warning: A bad approximation caused failure to predict improvement.\n",
      "         Current function value: -338.647423\n",
      "         Iterations: 22\n",
      "         Function evaluations: 24\n",
      "         Gradient evaluations: 3\n",
      "         Hessian evaluations: 0\n",
      "Iter 1: x_diff = 3.850939219924069e-08, f_diff = 9.094947017729282e-12\n"
     ]
    }
   ],
   "source": [
    "# Perturb and re-optimize with positive perturbation\n",
    "epsilon = 0.00001\n",
    "\n",
    "model_worst_case_pos_pert = gmm_utils.DPGaussianMixture(\n",
    "    model.y, model.k_approx, model.prior_params, gh_deg = 8, \\\n",
    "    use_bnp_prior = model.vb_params.use_bnp_prior, \\\n",
    "    use_logitnormal_sticks = model.vb_params.use_logitnormal_sticks, \\\n",
    "    u = lambda x : worst_case_pos_interpolated(x) * epsilon)\n",
    "\n",
    "pos_pert_worst_case_opt_free_param = \\\n",
    "    model_worst_case_pos_pert.optimize_full(best_param, init_max_iter=100, final_max_iter=500)[0]\n"
   ]
  },
  {
   "cell_type": "code",
   "execution_count": 168,
   "metadata": {
    "collapsed": false
   },
   "outputs": [
    {
     "data": {
      "text/plain": [
       "<matplotlib.text.Text at 0x7fdc66cb1320>"
      ]
     },
     "execution_count": 168,
     "metadata": {},
     "output_type": "execute_result"
    },
    {
     "data": {
      "image/png": "[encoded data removed]",
      "text/plain": [
       "<matplotlib.figure.Figure at 0x7fdc66f9d7f0>"
      ]
     },
     "metadata": {},
     "output_type": "display_data"
    }
   ],
   "source": [
    "lr_free_param_diff_vec = np.matmul(worst_case_fun_sens_mat_pos_, epsilon * np.ones(k_approx - 1))\n",
    "\n",
    "diff_vec = pos_pert_worst_case_opt_free_param - best_param\n",
    "lr_diff_vec = deepcopy(lr_free_param_diff_vec)\n",
    "plt.plot(diff_vec, lr_diff_vec, 'r+')\n",
    "plt.plot(diff_vec, diff_vec, 'k')\n",
    "plt.xlabel('true diff')\n",
    "plt.ylabel('lr diff')\n"
   ]
  },
  {
   "cell_type": "code",
   "execution_count": 169,
   "metadata": {
    "collapsed": false
   },
   "outputs": [
    {
     "data": {
      "text/plain": [
       "6.299604084399214"
      ]
     },
     "execution_count": 169,
     "metadata": {},
     "output_type": "execute_result"
    }
   ],
   "source": [
    "get_e_number_clusters_from_free_par(model, best_param)"
   ]
  },
  {
   "cell_type": "code",
   "execution_count": 170,
   "metadata": {
    "collapsed": false
   },
   "outputs": [
    {
     "name": "stdout",
     "output_type": "stream",
     "text": [
      "perturbed e_number_clusters: 6.206460100445173\n"
     ]
    }
   ],
   "source": [
    "print('perturbed e_number_clusters:', \n",
    "get_e_number_clusters_from_free_par(model, pos_pert_worst_case_opt_free_param))"
   ]
  },
  {
   "cell_type": "code",
   "execution_count": 171,
   "metadata": {
    "collapsed": false
   },
   "outputs": [
    {
     "name": "stdout",
     "output_type": "stream",
     "text": [
      "linear response e_number_clusters: 7.120140164944945\n"
     ]
    }
   ],
   "source": [
    "print('linear response e_number_clusters:', \n",
    "      get_e_number_clusters_from_free_par(model, lr_free_param_diff_vec + best_param))"
   ]
  },
  {
   "cell_type": "raw",
   "metadata": {},
   "source": []
  },
  {
   "cell_type": "code",
   "execution_count": 201,
   "metadata": {
    "collapsed": false
   },
   "outputs": [
    {
     "name": "stdout",
     "output_type": "stream",
     "text": [
      "Iter: 0\t RMSE: 9.028010849889903\t Objective: -347.5661408206834\n",
      "Iter: 10\t RMSE: 9.144092447798227\t Objective: -354.8137896488398\n",
      "Iter: 20\t RMSE: 9.124588212678598\t Objective: -355.0796321050114\n",
      "Iter: 30\t RMSE: 9.165063161941726\t Objective: -356.2350046098709\n",
      "Iter: 40\t RMSE: 9.1758362152754\t Objective: -357.31536568152677\n",
      "Iter: 50\t RMSE: 9.173774939031194\t Objective: -358.2142833493814\n",
      "Iter: 60\t RMSE: 9.188553591439824\t Objective: -359.4486408603072\n",
      "Iter: 70\t RMSE: 9.182398145841832\t Objective: -359.7348151516146\n",
      "Iter: 80\t RMSE: 9.180476134375242\t Objective: -359.93149766144006\n",
      "Iter: 90\t RMSE: 9.184767337614856\t Objective: -359.97927834678285\n",
      "Iter: 100\t RMSE: 9.181795318319526\t Objective: -360.01150470068234\n",
      "Iter: 110\t RMSE: 9.18155857709813\t Objective: -360.0125757537225\n",
      "Iter: 120\t RMSE: 9.1815947868028\t Objective: -360.01270919641337\n",
      "Warning: Maximum number of iterations has been exceeded.\n",
      "         Current function value: -360.012717\n",
      "         Iterations: 100\n",
      "         Function evaluations: 126\n",
      "         Gradient evaluations: 126\n",
      "Iter: 130\t RMSE: 9.18157050580673\t Objective: -360.0121439396772\n",
      "Iter: 140\t RMSE: 9.18158371345237\t Objective: -360.012718913045\n",
      "Iter: 150\t RMSE: 9.181583769938342\t Objective: -360.01271899734286\n",
      "Iter: 160\t RMSE: 9.181583769913566\t Objective: -360.0127189974929\n",
      "Iter: 170\t RMSE: 9.18158376991289\t Objective: -360.0127189974975\n",
      "Warning: A bad approximation caused failure to predict improvement.\n",
      "         Current function value: -360.012719\n",
      "         Iterations: 44\n",
      "         Function evaluations: 46\n",
      "         Gradient evaluations: 23\n",
      "         Hessian evaluations: 0\n",
      "Iter 1: x_diff = 0.000360861242572569, f_diff = 1.7090103483496932e-06\n",
      "Iter: 180\t RMSE: 9.181583718263255\t Objective: -360.01271832839336\n",
      "Iter: 190\t RMSE: 9.181583769912844\t Objective: -360.0127189974976\n",
      "Warning: A bad approximation caused failure to predict improvement.\n",
      "         Current function value: -360.012719\n",
      "         Iterations: 20\n",
      "         Function evaluations: 22\n",
      "         Gradient evaluations: 1\n",
      "         Hessian evaluations: 0\n",
      "Iter 2: x_diff = 5.585081821937038e-14, f_diff = 4.547473508864641e-13\n"
     ]
    }
   ],
   "source": [
    "# Perturb and re-optimize with positive perturbation\n",
    "epsilon = 0.2\n",
    "\n",
    "model_worst_case_neg_pert = gmm_utils.DPGaussianMixture(\n",
    "    model.y, model.k_approx, model.prior_params, gh_deg = 8, \\\n",
    "    use_bnp_prior = model.vb_params.use_bnp_prior, \\\n",
    "    use_logitnormal_sticks = model.vb_params.use_logitnormal_sticks, \\\n",
    "    u = lambda x : worst_case_neg_interpolated(x) * epsilon)\n",
    "\n",
    "neg_pert_worst_case_opt_free_param = \\\n",
    "    model_worst_case_neg_pert.optimize_full(best_param, init_max_iter=100, final_max_iter=500)[0]\n"
   ]
  },
  {
   "cell_type": "code",
   "execution_count": 202,
   "metadata": {
    "collapsed": false
   },
   "outputs": [
    {
     "data": {
      "text/plain": [
       "<matplotlib.text.Text at 0x7fdc65edf208>"
      ]
     },
     "execution_count": 202,
     "metadata": {},
     "output_type": "execute_result"
    },
    {
     "data": {
      "image/png": "[encoded data removed]",
      "text/plain": [
       "<matplotlib.figure.Figure at 0x7fdc65cc8358>"
      ]
     },
     "metadata": {},
     "output_type": "display_data"
    }
   ],
   "source": [
    "lr_free_param_diff_vec = np.matmul(worst_case_fun_sens_mat_neg_, epsilon * np.ones(k_approx - 1))\n",
    "\n",
    "diff_vec = neg_pert_worst_case_opt_free_param - best_param\n",
    "lr_diff_vec = deepcopy(lr_free_param_diff_vec)\n",
    "plt.plot(diff_vec, lr_diff_vec, 'r+')\n",
    "plt.plot(diff_vec, diff_vec, 'k')\n",
    "plt.xlabel('true diff')\n",
    "plt.ylabel('lr diff')\n"
   ]
  },
  {
   "cell_type": "code",
   "execution_count": 203,
   "metadata": {
    "collapsed": false
   },
   "outputs": [
    {
     "data": {
      "text/plain": [
       "6.305623241909054"
      ]
     },
     "execution_count": 203,
     "metadata": {},
     "output_type": "execute_result"
    }
   ],
   "source": [
    "get_e_number_clusters_from_free_par(model, best_param)"
   ]
  },
  {
   "cell_type": "code",
   "execution_count": 204,
   "metadata": {
    "collapsed": false
   },
   "outputs": [
    {
     "name": "stdout",
     "output_type": "stream",
     "text": [
      "perturbed e_number_clusters: 4.615038649310584\n"
     ]
    }
   ],
   "source": [
    "print('perturbed e_number_clusters:', \n",
    "get_e_number_clusters_from_free_par(model, neg_pert_worst_case_opt_free_param))"
   ]
  },
  {
   "cell_type": "code",
   "execution_count": 205,
   "metadata": {
    "collapsed": false
   },
   "outputs": [
    {
     "name": "stdout",
     "output_type": "stream",
     "text": [
      "linear response e_number_clusters: 1.0\n"
     ]
    },
    {
     "name": "stderr",
     "output_type": "stream",
     "text": [
      "/home/runjing_liu/anaconda3/lib/python3.6/site-packages/autograd/tracer.py:48: RuntimeWarning: overflow encountered in exp\n",
      "  return f_raw(*args, **kwargs)\n"
     ]
    }
   ],
   "source": [
    "print('linear response e_number_clusters:', \n",
    "      get_e_number_clusters_from_free_par(model, lr_free_param_diff_vec + best_param))"
   ]
  },
  {
   "cell_type": "code",
   "execution_count": 185,
   "metadata": {
    "collapsed": true
   },
   "outputs": [],
   "source": [
    "model.set_from_global_free_par(best_param)\n",
    "model.prior_params.set_free(prior_free_params)"
   ]
  },
  {
   "cell_type": "code",
   "execution_count": 186,
   "metadata": {
    "collapsed": false
   },
   "outputs": [],
   "source": [
    "epsilons = np.array([1, 2, 3, 4, 5, 6, 7, 8]) * 0.0000001"
   ]
  },
  {
   "cell_type": "code",
   "execution_count": 188,
   "metadata": {
    "collapsed": false
   },
   "outputs": [
    {
     "name": "stderr",
     "output_type": "stream",
     "text": [
      "\r",
      "  0%|          | 0/8 [00:00<?, ?it/s]"
     ]
    },
    {
     "name": "stdout",
     "output_type": "stream",
     "text": [
      "optimizing when epsilon = 1e-07\n",
      "Iter: 0\t RMSE: 9.028010849889903\t Objective: -338.5285037284912\n",
      "Iter: 10\t RMSE: 9.07992545553608\t Objective: -339.3521495626297\n",
      "Iter: 20\t RMSE: 9.08514640936851\t Objective: -339.43810086387464\n",
      "Iter: 30\t RMSE: 9.078706336291662\t Objective: -339.5614926077841\n",
      "Iter: 40\t RMSE: 9.08737151498947\t Objective: -339.529029877973\n",
      "Iter: 50\t RMSE: 9.093684936743339\t Objective: -339.68706637218446\n",
      "Iter: 60\t RMSE: 9.096284502437918\t Objective: -339.7090383777621\n",
      "Iter: 70\t RMSE: 9.093151349911398\t Objective: -339.74312564468835\n",
      "Iter: 80\t RMSE: 9.092804277189565\t Objective: -339.74571107826404\n",
      "Iter: 90\t RMSE: 9.092683190796429\t Objective: -339.74575273768386\n",
      "Iter: 100\t RMSE: 9.09269850246396\t Objective: -339.74575449306224\n",
      "Iter: 110\t RMSE: 9.092694274177507\t Objective: -339.7457545790007\n",
      "Optimization terminated successfully.\n",
      "         Current function value: -339.745755\n",
      "         Iterations: 95\n",
      "         Function evaluations: 114\n",
      "         Gradient evaluations: 114\n"
     ]
    },
    {
     "name": "stderr",
     "output_type": "stream",
     "text": [
      "\r",
      " 12%|█▎        | 1/8 [00:15<01:49, 15.58s/it]"
     ]
    },
    {
     "name": "stdout",
     "output_type": "stream",
     "text": [
      "Warning: A bad approximation caused failure to predict improvement.\n",
      "         Current function value: -339.745755\n",
      "         Iterations: 1\n",
      "         Function evaluations: 3\n",
      "         Gradient evaluations: 2\n",
      "         Hessian evaluations: 0\n",
      "Iter 1: x_diff = 0.0003960018980321031, f_diff = 4.1154635255225003e-10\n",
      "optimizing when epsilon = 2e-07\n",
      "Iter: 0\t RMSE: 9.028010849889903\t Objective: -338.6988160138284\n",
      "Iter: 10\t RMSE: 9.092802300289849\t Objective: -339.70097073437717\n",
      "Iter: 20\t RMSE: 9.075107886525588\t Objective: -339.974981367733\n",
      "Iter: 30\t RMSE: 9.079308578485463\t Objective: -340.19130323766666\n",
      "Iter: 40\t RMSE: 9.088336052457745\t Objective: -340.2882710241915\n",
      "Iter: 50\t RMSE: 9.08706156468234\t Objective: -340.3243175469208\n",
      "Iter: 60\t RMSE: 9.096802319831957\t Objective: -340.3424654764142\n",
      "Iter: 70\t RMSE: 9.093037063699047\t Objective: -340.3828800010007\n",
      "Iter: 80\t RMSE: 9.093206114250135\t Objective: -340.38488119770454\n",
      "Iter: 90\t RMSE: 9.093300431033807\t Objective: -340.38492736146213\n",
      "Iter: 100\t RMSE: 9.093268619823974\t Objective: -340.3849308980818\n",
      "Iter: 110\t RMSE: 9.093273383741181\t Objective: -340.3849309606366\n",
      "Iter: 120\t RMSE: 9.093272410459528\t Objective: -340.38493097517653\n",
      "Warning: Maximum number of iterations has been exceeded.\n",
      "         Current function value: -340.384931\n",
      "         Iterations: 100\n",
      "         Function evaluations: 123\n",
      "         Gradient evaluations: 123\n",
      "Iter: 130\t RMSE: 9.093274092187746\t Objective: -340.3849308036354\n",
      "Iter: 140\t RMSE: 9.093272389648947\t Objective: -340.3849309757571\n"
     ]
    },
    {
     "name": "stderr",
     "output_type": "stream",
     "text": [
      "\r",
      " 25%|██▌       | 2/8 [00:33<01:39, 16.57s/it]"
     ]
    },
    {
     "name": "stdout",
     "output_type": "stream",
     "text": [
      "Warning: A bad approximation caused failure to predict improvement.\n",
      "         Current function value: -340.384931\n",
      "         Iterations: 23\n",
      "         Function evaluations: 25\n",
      "         Gradient evaluations: 6\n",
      "         Hessian evaluations: 0\n",
      "Iter 1: x_diff = 1.7721012307805764e-07, f_diff = 5.5706550483591855e-11\n",
      "optimizing when epsilon = 3e-07\n",
      "Iter: 0\t RMSE: 9.028010849889903\t Objective: -338.81881785955727\n",
      "Iter: 10\t RMSE: 9.094569558979858\t Objective: -340.0272257491039\n",
      "Iter: 20\t RMSE: 9.07838256664892\t Objective: -340.31688510611724\n",
      "Iter: 30\t RMSE: 9.091536064402133\t Objective: -340.48285625444066\n",
      "Iter: 40\t RMSE: 9.084353621895168\t Objective: -340.67681133213677\n",
      "Iter: 50\t RMSE: 9.08973009364687\t Objective: -340.7166388630365\n",
      "Iter: 60\t RMSE: 9.0929028018818\t Objective: -340.7614392904011\n",
      "Iter: 70\t RMSE: 9.092948890499768\t Objective: -340.77126693257276\n",
      "Iter: 80\t RMSE: 9.093418924260943\t Objective: -340.77156112445203\n",
      "Iter: 90\t RMSE: 9.093413892077134\t Objective: -340.77157005900006\n",
      "Iter: 100\t RMSE: 9.093423024717197\t Objective: -340.77157062314643\n",
      "Iter: 110\t RMSE: 9.093420470887216\t Objective: -340.77157065421466\n",
      "Iter: 120\t RMSE: 9.093420513354724\t Objective: -340.77157065544213\n",
      "Warning: Maximum number of iterations has been exceeded.\n",
      "         Current function value: -340.771571\n",
      "         Iterations: 100\n",
      "         Function evaluations: 122\n",
      "         Gradient evaluations: 122\n",
      "Iter: 130\t RMSE: 9.09342006653144\t Objective: -340.771570602283\n"
     ]
    },
    {
     "name": "stderr",
     "output_type": "stream",
     "text": [
      "\r",
      " 38%|███▊      | 3/8 [00:50<01:24, 16.90s/it]"
     ]
    },
    {
     "name": "stdout",
     "output_type": "stream",
     "text": [
      "Iter: 140\t RMSE: 9.093420490459849\t Objective: -340.7715706554858\n",
      "Warning: A bad approximation caused failure to predict improvement.\n",
      "         Current function value: -340.771571\n",
      "         Iterations: 18\n",
      "         Function evaluations: 20\n",
      "         Gradient evaluations: 2\n",
      "         Hessian evaluations: 0\n",
      "Iter 1: x_diff = 7.197052281048e-08, f_diff = 1.0686562745831907e-11\n",
      "optimizing when epsilon = 4e-07\n",
      "Iter: 0\t RMSE: 9.028010849889903\t Objective: -338.9134664269716\n",
      "Iter: 10\t RMSE: 9.095613872921893\t Objective: -340.27132444098504\n",
      "Iter: 20\t RMSE: 9.080955073502961\t Objective: -340.57395285862964\n",
      "Iter: 30\t RMSE: 9.083489900765501\t Objective: -340.92193362573164\n",
      "Iter: 40\t RMSE: 9.08721655058465\t Objective: -340.9581342138314\n",
      "Iter: 50\t RMSE: 9.09070032298546\t Objective: -340.9916884252644\n",
      "Iter: 60\t RMSE: 9.091520766783908\t Objective: -341.028626729776\n",
      "Iter: 70\t RMSE: 9.093284491064288\t Objective: -341.04873718054665\n",
      "Iter: 80\t RMSE: 9.093506856368785\t Objective: -341.04925887874583\n",
      "Iter: 90\t RMSE: 9.093497441639546\t Objective: -341.04927099074126\n",
      "Iter: 100\t RMSE: 9.093504516946426\t Objective: -341.0492714496091\n",
      "Iter: 110\t RMSE: 9.093502302073\t Objective: -341.04927146804204\n",
      "Optimization terminated successfully.\n",
      "         Current function value: -341.049271\n",
      "         Iterations: 90\n",
      "         Function evaluations: 113\n",
      "         Gradient evaluations: 113\n"
     ]
    },
    {
     "name": "stderr",
     "output_type": "stream",
     "text": [
      "\r",
      " 50%|█████     | 4/8 [01:05<01:05, 16.25s/it]"
     ]
    },
    {
     "name": "stdout",
     "output_type": "stream",
     "text": [
      "Warning: A bad approximation caused failure to predict improvement.\n",
      "         Current function value: -341.049271\n",
      "         Iterations: 1\n",
      "         Function evaluations: 3\n",
      "         Gradient evaluations: 2\n",
      "         Hessian evaluations: 0\n",
      "Iter 1: x_diff = 0.0004258424300538925, f_diff = 4.774278750119265e-10\n",
      "optimizing when epsilon = 5e-07\n",
      "Iter: 0\t RMSE: 9.028010849889903\t Objective: -338.9921707042274\n",
      "Iter: 10\t RMSE: 9.095513541814084\t Objective: -340.46647403494615\n",
      "Iter: 20\t RMSE: 9.079472584552631\t Objective: -340.77797103627626\n",
      "Iter: 30\t RMSE: 9.07823635674483\t Objective: -341.14627167756885\n",
      "Iter: 40\t RMSE: 9.08833842013536\t Objective: -341.12171069426836\n",
      "Iter: 50\t RMSE: 9.09189519827749\t Objective: -341.211999436606\n",
      "Iter: 60\t RMSE: 9.090345871699173\t Objective: -341.2571199795144\n",
      "Iter: 70\t RMSE: 9.093587866355161\t Objective: -341.2658396348287\n",
      "Iter: 80\t RMSE: 9.093522861465518\t Objective: -341.2660862691231\n",
      "Iter: 90\t RMSE: 9.093545342340951\t Objective: -341.2660971379472\n",
      "Iter: 100\t RMSE: 9.093548237690735\t Objective: -341.26609754393604\n",
      "Iter: 110\t RMSE: 9.093547428511302\t Objective: -341.2660975685811\n",
      "Warning: Maximum number of iterations has been exceeded.\n",
      "         Current function value: -341.266098\n",
      "         Iterations: 100\n",
      "         Function evaluations: 119\n",
      "         Gradient evaluations: 119\n",
      "Iter: 120\t RMSE: 9.093541302209715\t Objective: -341.2660969702477\n",
      "Iter: 130\t RMSE: 9.093547180607564\t Objective: -341.26609756983345\n",
      "Iter: 140\t RMSE: 9.093547186940533\t Objective: -341.2660975702791\n"
     ]
    },
    {
     "name": "stderr",
     "output_type": "stream",
     "text": [
      "\r",
      " 62%|██████▎   | 5/8 [01:22<00:49, 16.46s/it]"
     ]
    },
    {
     "name": "stdout",
     "output_type": "stream",
     "text": [
      "Warning: A bad approximation caused failure to predict improvement.\n",
      "         Current function value: -341.266098\n",
      "         Iterations: 23\n",
      "         Function evaluations: 25\n",
      "         Gradient evaluations: 6\n",
      "         Hessian evaluations: 0\n",
      "Iter 1: x_diff = 1.0340454382996248e-08, f_diff = 5.9685589803848416e-12\n",
      "optimizing when epsilon = 6e-07\n",
      "Iter: 0\t RMSE: 9.028010849889903\t Objective: -339.05974011059203\n",
      "Iter: 10\t RMSE: 9.096303042592416\t Objective: -340.6336489837623\n",
      "Iter: 20\t RMSE: 9.081141028394708\t Objective: -340.9631728099101\n",
      "Iter: 30\t RMSE: 9.079199978367125\t Objective: -341.3244684932738\n",
      "Iter: 40\t RMSE: 9.088103025037375\t Objective: -341.3536316715521\n",
      "Iter: 50\t RMSE: 9.093638579962132\t Objective: -341.389319621596\n",
      "Iter: 60\t RMSE: 9.094363868750074\t Objective: -341.42799898885704\n",
      "Iter: 70\t RMSE: 9.093404731602329\t Objective: -341.4435738173296\n",
      "Iter: 80\t RMSE: 9.09357739213395\t Objective: -341.44399326449235\n",
      "Iter: 90\t RMSE: 9.093587794935376\t Objective: -341.4440077415547\n",
      "Iter: 100\t RMSE: 9.093591087646256\t Objective: -341.4440080430319\n",
      "Iter: 110\t RMSE: 9.093589309643495\t Objective: -341.4440080814939\n",
      "Iter: 120\t RMSE: 9.093589140515492\t Objective: -341.44400808486336\n",
      "Warning: Maximum number of iterations has been exceeded.\n",
      "         Current function value: -341.444008\n",
      "         Iterations: 100\n",
      "         Function evaluations: 124\n",
      "         Gradient evaluations: 124\n",
      "Iter: 130\t RMSE: 9.093595341170502\t Objective: -341.4440076401974\n",
      "Iter: 140\t RMSE: 9.093589068060203\t Objective: -341.44400808495317\n"
     ]
    },
    {
     "name": "stderr",
     "output_type": "stream",
     "text": [
      "\r",
      " 75%|███████▌  | 6/8 [01:39<00:33, 16.63s/it]"
     ]
    },
    {
     "name": "stdout",
     "output_type": "stream",
     "text": [
      "Warning: A bad approximation caused failure to predict improvement.\n",
      "         Current function value: -341.444008\n",
      "         Iterations: 23\n",
      "         Function evaluations: 25\n",
      "         Gradient evaluations: 5\n",
      "         Hessian evaluations: 0\n",
      "Iter 1: x_diff = 5.6369925938582876e-08, f_diff = 2.802380549837835e-11\n",
      "optimizing when epsilon = 7e-07\n",
      "Iter: 0\t RMSE: 9.028010849889903\t Objective: -339.11902958521534\n",
      "Iter: 10\t RMSE: 9.0966344553115\t Objective: -340.7749506160089\n",
      "Iter: 20\t RMSE: 9.08154854986977\t Objective: -341.11534681896137\n",
      "Iter: 30\t RMSE: 9.07976163882605\t Objective: -341.47215504271395\n",
      "Iter: 40\t RMSE: 9.088228589440753\t Objective: -341.40985291186365\n",
      "Iter: 50\t RMSE: 9.093296448866466\t Objective: -341.5391626611626\n",
      "Iter: 60\t RMSE: 9.093185938211827\t Objective: -341.58149391602467\n",
      "Iter: 70\t RMSE: 9.093418654893219\t Objective: -341.5945455340965\n",
      "Iter: 80\t RMSE: 9.093638189389997\t Objective: -341.5948735287618\n",
      "Iter: 90\t RMSE: 9.093622747377308\t Objective: -341.59488387858244\n",
      "Iter: 100\t RMSE: 9.093620415682558\t Objective: -341.59488413826955\n",
      "Iter: 110\t RMSE: 9.093619909713526\t Objective: -341.5948841562854\n",
      "Warning: Maximum number of iterations has been exceeded.\n",
      "         Current function value: -341.594884\n",
      "         Iterations: 100\n",
      "         Function evaluations: 117\n",
      "         Gradient evaluations: 117\n",
      "Iter: 120\t RMSE: 9.09361739011206\t Objective: -341.59488403505077\n",
      "Iter: 130\t RMSE: 9.093619898548205\t Objective: -341.59488415749865\n"
     ]
    },
    {
     "name": "stderr",
     "output_type": "stream",
     "text": [
      "\r",
      " 88%|████████▊ | 7/8 [01:57<00:16, 16.82s/it]"
     ]
    },
    {
     "name": "stdout",
     "output_type": "stream",
     "text": [
      "Warning: A bad approximation caused failure to predict improvement.\n",
      "         Current function value: -341.594884\n",
      "         Iterations: 21\n",
      "         Function evaluations: 23\n",
      "         Gradient evaluations: 4\n",
      "         Hessian evaluations: 0\n",
      "Iter 1: x_diff = 1.7867070266203958e-07, f_diff = 3.61524143954739e-11\n",
      "optimizing when epsilon = 8e-07\n",
      "Iter: 0\t RMSE: 9.028010849889903\t Objective: -339.1718945691207\n",
      "Iter: 10\t RMSE: 9.096810346705642\t Objective: -340.89891476991573\n",
      "Iter: 20\t RMSE: 9.081784381193126\t Objective: -341.2461722411428\n",
      "Iter: 30\t RMSE: 9.0804968610638\t Objective: -341.59748162657445\n",
      "Iter: 40\t RMSE: 9.0877032345035\t Objective: -341.56522524019204\n",
      "Iter: 50\t RMSE: 9.092234353323471\t Objective: -341.6683531084709\n",
      "Iter: 60\t RMSE: 9.096187249160462\t Objective: -341.70873936922965\n",
      "Iter: 70\t RMSE: 9.093050771222964\t Objective: -341.72530267226057\n",
      "Iter: 80\t RMSE: 9.093619016499208\t Objective: -341.7258677094583\n",
      "Iter: 90\t RMSE: 9.093654888450368\t Objective: -341.72588100857615\n",
      "Iter: 100\t RMSE: 9.093653020073909\t Objective: -341.72588180189825\n",
      "Iter: 110\t RMSE: 9.093651531689527\t Objective: -341.72588182153174\n",
      "Optimization terminated successfully.\n",
      "         Current function value: -341.725882\n",
      "         Iterations: 95\n",
      "         Function evaluations: 118\n",
      "         Gradient evaluations: 118\n"
     ]
    },
    {
     "name": "stderr",
     "output_type": "stream",
     "text": [
      "\r",
      "100%|██████████| 8/8 [02:12<00:00, 16.53s/it]"
     ]
    },
    {
     "name": "stdout",
     "output_type": "stream",
     "text": [
      "Iter: 120\t RMSE: 9.093651584760561\t Objective: -341.7258818223467\n",
      "Warning: A bad approximation caused failure to predict improvement.\n",
      "         Current function value: -341.725882\n",
      "         Iterations: 1\n",
      "         Function evaluations: 3\n",
      "         Gradient evaluations: 2\n",
      "         Hessian evaluations: 0\n",
      "Iter 1: x_diff = 0.00014332737870651055, f_diff = 5.5081272876122966e-11\n"
     ]
    },
    {
     "name": "stderr",
     "output_type": "stream",
     "text": [
      "\n"
     ]
    }
   ],
   "source": [
    "pert_opt_free_param_list = []\n",
    "\n",
    "# re-optimize for each epsilon\n",
    "for i in tqdm(range(len(epsilons))): \n",
    "    print('optimizing when epsilon = {}'.format(epsilons[i]))\n",
    "    \n",
    "    model.set_from_global_free_par(best_param)\n",
    "    model.prior_params.set_free(prior_free_params)\n",
    "    \n",
    "    model_u_pert = gmm_utils.DPGaussianMixture(\n",
    "        model.y, model.k_approx, model.prior_params, gh_deg = 8, \\\n",
    "        use_bnp_prior = model.vb_params.use_bnp_prior, \\\n",
    "        use_logitnormal_sticks = model.vb_params.use_logitnormal_sticks, \\\n",
    "        u = lambda x : worst_case_neg_interpolated(x) * epsilons[i])\n",
    "    \n",
    "    pert_opt_free_param_list.append(\n",
    "        model_u_pert.optimize_full(best_param, init_max_iter=100, final_max_iter=500, disp = True)[0])\n"
   ]
  },
  {
   "cell_type": "code",
   "execution_count": 189,
   "metadata": {
    "collapsed": false,
    "scrolled": true
   },
   "outputs": [
    {
     "data": {
      "image/png": "[encoded data removed]",
      "text/plain": [
       "<matplotlib.figure.Figure at 0x7fdc66c52ef0>"
      ]
     },
     "metadata": {},
     "output_type": "display_data"
    }
   ],
   "source": [
    "# check global params\n",
    "\n",
    "# linear_sens.moment_model.set_moments_from_free_par(best_param)\n",
    "\n",
    "# fun_sens_mat = linear_sens.get_functional_sensitivity(lambda x : u(x))\n",
    "\n",
    "f, axarr = plt.subplots(int(len(epsilons) / 2), 2, figsize=(10, 15))\n",
    "blah = f.suptitle('Global params sensitivity')\n",
    "\n",
    "for i in range(len(epsilons)): \n",
    "        \n",
    "    # get linear response global free params\n",
    "    lr_diff_vec = np.matmul(worst_case_fun_sens_mat_neg_, np.ones(k_approx - 1) * epsilons[i])\n",
    "\n",
    "    \n",
    "    # diff in original global free params\n",
    "    diff_vec = (pert_opt_free_param_list[i] - best_param).flatten()\n",
    "    \n",
    "    indx1 = int(np.floor(i / 2))\n",
    "    indx2 = i % 2\n",
    "    axarr[indx1, indx2].plot(diff_vec, lr_diff_vec, 'r+')\n",
    "    axarr[indx1, indx2].plot(diff_vec, diff_vec, 'k')    \n",
    "    axarr[indx1, indx2].set_title('epsilon = {}'.format(epsilons[i]))\n",
    "    axarr[indx1, indx2].set_xlabel('true diff')\n",
    "    axarr[indx1, indx2].set_ylabel('lr diff')\n",
    "    \n",
    "f.tight_layout()\n",
    "blah.set_y(1.01)\n",
    "\n",
    "# f.savefig('../writing/Bryan_writing/parametric_sens_figures/beta_sens_range.png', bbox_inches='tight')\n"
   ]
  },
  {
   "cell_type": "code",
   "execution_count": 190,
   "metadata": {
    "collapsed": false
   },
   "outputs": [
    {
     "data": {
      "text/plain": [
       "(1e-07, 8e-07)"
      ]
     },
     "execution_count": 190,
     "metadata": {},
     "output_type": "execute_result"
    },
    {
     "data": {
      "image/png": "[encoded data removed]",
      "text/plain": [
       "<matplotlib.figure.Figure at 0x7fdc65ac9240>"
      ]
     },
     "metadata": {},
     "output_type": "display_data"
    }
   ],
   "source": [
    "linear_sens.moment_model.set_moments_from_free_par(best_param)\n",
    "e_beta_orig = linear_sens.moment_model.moment_params['centroids'].get()\n",
    "\n",
    "e_n_clusters = np.zeros(len(epsilons))\n",
    "e_n_clusters_lr = np.zeros(len(epsilons))\n",
    "for i in range(len(epsilons)): \n",
    "    e_n_clusters[i] = get_e_number_clusters_from_free_par(model, pert_opt_free_param_list[i])\n",
    "    \n",
    "    lr_free_param_diff_vec = np.matmul(worst_case_fun_sens_mat_neg_, np.ones(k_approx - 1) * epsilons[i])\n",
    "    \n",
    "    e_n_clusters_lr[i] = get_e_number_clusters_from_free_par(model, lr_free_param_diff_vec + best_param)\n",
    "\n",
    "\n",
    "plt.scatter(epsilons, e_n_clusters, marker = '^')\n",
    "plt.scatter(epsilons, e_n_clusters_lr, marker = '+')\n",
    "plt.legend(('real', 'lr'))\n",
    "plt.xlabel('epsilon')\n",
    "plt.ylabel('expected number of clusters')\n",
    "plt.legend(('real', 'lr'))\n",
    "plt.xlim((epsilons[0], epsilons[-1]))"
   ]
  },
  {
   "cell_type": "code",
   "execution_count": null,
   "metadata": {
    "collapsed": true
   },
   "outputs": [],
   "source": []
  }
 ],
 "metadata": {
  "kernelspec": {
   "display_name": "Python 3",
   "language": "python",
   "name": "python3"
  },
  "language_info": {
   "codemirror_mode": {
    "name": "ipython",
    "version": 3
   },
   "file_extension": ".py",
   "mimetype": "text/x-python",
   "name": "python",
   "nbconvert_exporter": "python",
   "pygments_lexer": "ipython3",
   "version": "3.6.0"
  }
 },
 "nbformat": 4,
 "nbformat_minor": 2
}
