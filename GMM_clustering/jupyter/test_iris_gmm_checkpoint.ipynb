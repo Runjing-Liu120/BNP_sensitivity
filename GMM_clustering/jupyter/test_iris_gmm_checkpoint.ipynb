{
 "cells": [
  {
   "cell_type": "code",
   "execution_count": 1,
   "metadata": {
    "collapsed": false
   },
   "outputs": [],
   "source": [
    "import numpy as np\n",
    "import scipy as sp\n",
    "\n",
    "import autograd\n",
    "\n",
    "import sys\n",
    "sys.path.insert(0, './../../LinearResponseVariationalBayes.py')\n",
    "sys.path.insert(0, './../src/vb_modeling/')\n",
    "\n",
    "import os\n",
    "\n",
    "import json\n",
    "\n",
    "import LinearResponseVariationalBayes as vb\n",
    "import LinearResponseVariationalBayes.ExponentialFamilies as ef\n",
    "\n",
    "from numpy.polynomial.hermite import hermgauss\n",
    "\n",
    "import gmm_clustering_lib as gmm_utils\n",
    "import common_modeling_lib\n",
    "\n",
    "import time\n",
    "\n",
    "from copy import deepcopy\n",
    "\n",
    "# load iris dataset\n",
    "from sklearn import datasets\n",
    "from sklearn.cluster import KMeans\n",
    "\n",
    "import argparse\n",
    "import distutils.util\n"
   ]
  },
  {
   "cell_type": "code",
   "execution_count": 2,
   "metadata": {
    "collapsed": true
   },
   "outputs": [],
   "source": [
    "# Define model"
   ]
  },
  {
   "cell_type": "code",
   "execution_count": 3,
   "metadata": {
    "collapsed": true
   },
   "outputs": [],
   "source": [
    "k_approx = 12"
   ]
  },
  {
   "cell_type": "code",
   "execution_count": 4,
   "metadata": {
    "collapsed": false
   },
   "outputs": [
    {
     "name": "stdout",
     "output_type": "stream",
     "text": [
      "prior_params:\n",
      "\talpha: 4.0\n",
      "\tprior_centroid_mean: 0.0\n",
      "\tprior_centroid_info: 0.1\n",
      "\tprior_gamma_df: 8\n",
      "\tprior_gamma_inv_scale:\n",
      "[[0.62 0.   0.   0.  ]\n",
      " [0.   0.62 0.   0.  ]\n",
      " [0.   0.   0.62 0.  ]\n",
      " [0.   0.   0.   0.62]]\n"
     ]
    }
   ],
   "source": [
    "iris = datasets.load_iris(return_X_y= True)\n",
    "\n",
    "iris_features = iris[0]\n",
    "\n",
    "demean = True\n",
    "if demean:\n",
    "    iris_features -= np.mean(iris_features, axis = 0)[None, :]\n",
    "\n",
    "iris_species = iris[1]\n",
    "\n",
    "dim = iris_features.shape[1]\n",
    "\n",
    "prior_params = gmm_utils.get_default_prior_params(dim)\n",
    "prior_params['alpha'].set(4.0)\n",
    "prior_params['prior_gamma_df'].set(8)\n",
    "prior_params['prior_gamma_inv_scale'].set(np.eye(dim) * 0.62)\n",
    "\n",
    "print(prior_params)\n",
    "\n",
    "gh_deg = 8\n",
    "model = gmm_utils.DPGaussianMixture(iris_features, \\\n",
    "            k_approx, prior_params, gh_deg, use_logitnormal_sticks=True)\n"
   ]
  },
  {
   "cell_type": "code",
   "execution_count": 5,
   "metadata": {
    "collapsed": true
   },
   "outputs": [],
   "source": [
    "model.use_weights = True\n",
    "samples_indx = np.random.choice(model.n_obs,\n",
    "                        size = model.n_obs,\n",
    "                        replace = True)\n",
    "samples_indx, sample_indx_counts = np.unique(samples_indx,\n",
    "                                            return_counts = True)\n",
    "\n",
    "model.weights = np.zeros((model.n_obs, 1))\n",
    "model.weights[samples_indx] = sample_indx_counts[:, None]\n"
   ]
  },
  {
   "cell_type": "code",
   "execution_count": 6,
   "metadata": {
    "collapsed": false
   },
   "outputs": [
    {
     "name": "stdout",
     "output_type": "stream",
     "text": [
      "running k-means init\n"
     ]
    }
   ],
   "source": [
    "print('running k-means init')\n",
    "n_kmeans_init = 50\n",
    "init_global_free_param = \\\n",
    "        model.cluster_and_set_inits(n_kmeans_init = n_kmeans_init)\n"
   ]
  },
  {
   "cell_type": "code",
   "execution_count": 7,
   "metadata": {
    "collapsed": false
   },
   "outputs": [
    {
     "name": "stdout",
     "output_type": "stream",
     "text": [
      "Iter: 0\t RMSE: 5.733556537595044\t Objective: 4787.932073170314\n",
      "Iter: 10\t RMSE: 8.60892098884322\t Objective: 2908.039078017768\n",
      "Warning: Maximum number of iterations has been exceeded.\n",
      "         Current function value: 2908.039078\n",
      "         Iterations: 10\n",
      "         Function evaluations: 11\n",
      "         Gradient evaluations: 11\n",
      "Iter: 20\t RMSE: 8.490379140873037\t Objective: 2392.3203302113507\n",
      "Warning: Maximum number of iterations has been exceeded.\n",
      "         Current function value: 2180.407498\n",
      "         Iterations: 10\n",
      "         Function evaluations: 11\n",
      "         Gradient evaluations: 9\n",
      "         Hessian evaluations: 0\n",
      "Iter 1: x_diff = 58.109745931197736, f_diff = 727.6315799515669\n"
     ]
    }
   ],
   "source": [
    "t0 = time.time()\n",
    "best_param, kl_hessian, kl_hessian_corrected, \\\n",
    "    init_opt_time, newton_time, x_conv, f_conv, vb_opt = \\\n",
    "        model.optimize_full(init_global_free_param,\n",
    "            init_max_iter=10,\n",
    "            final_max_iter=10, max_condition_iter = 1)\n",
    "\n",
    "t_newton = time.time() - t0"
   ]
  },
  {
   "cell_type": "code",
   "execution_count": 8,
   "metadata": {
    "collapsed": false
   },
   "outputs": [
    {
     "name": "stdout",
     "output_type": "stream",
     "text": [
      "saving fit dict to  ./testing.json\n"
     ]
    }
   ],
   "source": [
    "fit_dict = model.get_checkpoint_dictionary(seed=None)\n",
    "\n",
    "json_output_file = './testing.json' # os.path.join(args.outfolder, args.out_filename)\n",
    "print('saving fit dict to ', json_output_file)\n",
    "\n",
    "with open(json_output_file, 'w') as outfile:\n",
    "    json.dump(fit_dict, outfile)\n"
   ]
  },
  {
   "cell_type": "code",
   "execution_count": 9,
   "metadata": {
    "collapsed": true
   },
   "outputs": [],
   "source": [
    "newton_results = deepcopy(model)\n",
    "newton_results.set_optimal_z()"
   ]
  },
  {
   "cell_type": "code",
   "execution_count": 10,
   "metadata": {
    "collapsed": false
   },
   "outputs": [],
   "source": [
    "\n",
    "with open(json_output_file, 'r') as fp:\n",
    "    fit_dict_init = json.load(fp)\n",
    "        \n",
    "model_reload = gmm_utils.get_model_from_checkpoint(fit_dict_init)\n",
    "\n"
   ]
  },
  {
   "cell_type": "code",
   "execution_count": 11,
   "metadata": {
    "collapsed": false
   },
   "outputs": [],
   "source": [
    "assert np.abs(np.max(newton_results.prior_params.get_free() - model_reload.prior_params.get_free())) < 1e-8"
   ]
  },
  {
   "cell_type": "code",
   "execution_count": 12,
   "metadata": {
    "collapsed": true
   },
   "outputs": [],
   "source": [
    "assert np.abs(np.max(newton_results.global_vb_params.get_free() - \\\n",
    "                     model_reload.global_vb_params.get_free())) < 1e-8"
   ]
  },
  {
   "cell_type": "code",
   "execution_count": 13,
   "metadata": {
    "collapsed": false
   },
   "outputs": [],
   "source": [
    "assert np.abs(np.max(model_reload.vb_params['e_z'].get_vector() - \\\n",
    "                     newton_results.vb_params['e_z'].get_vector())) < 1e-8"
   ]
  },
  {
   "cell_type": "code",
   "execution_count": 14,
   "metadata": {
    "collapsed": true
   },
   "outputs": [],
   "source": [
    "assert np.all(newton_results.weights == model_reload.weights)"
   ]
  },
  {
   "cell_type": "code",
   "execution_count": 15,
   "metadata": {
    "collapsed": false
   },
   "outputs": [],
   "source": [
    "assert np.all(newton_results.y == model_reload.y)"
   ]
  },
  {
   "cell_type": "code",
   "execution_count": 16,
   "metadata": {
    "collapsed": false
   },
   "outputs": [
    {
     "data": {
      "text/plain": [
       "True"
      ]
     },
     "execution_count": 16,
     "metadata": {},
     "output_type": "execute_result"
    }
   ],
   "source": [
    "newton_results.vb_params.use_bnp_prior"
   ]
  },
  {
   "cell_type": "code",
   "execution_count": 17,
   "metadata": {
    "collapsed": false
   },
   "outputs": [
    {
     "data": {
      "text/plain": [
       "True"
      ]
     },
     "execution_count": 17,
     "metadata": {},
     "output_type": "execute_result"
    }
   ],
   "source": [
    "model_reload.vb_params.use_bnp_prior"
   ]
  },
  {
   "cell_type": "code",
   "execution_count": 18,
   "metadata": {
    "collapsed": false,
    "scrolled": true
   },
   "outputs": [
    {
     "data": {
      "text/plain": [
       "True"
      ]
     },
     "execution_count": 18,
     "metadata": {},
     "output_type": "execute_result"
    }
   ],
   "source": [
    "newton_results.use_weights"
   ]
  },
  {
   "cell_type": "code",
   "execution_count": 19,
   "metadata": {
    "collapsed": false
   },
   "outputs": [
    {
     "data": {
      "text/plain": [
       "True"
      ]
     },
     "execution_count": 19,
     "metadata": {},
     "output_type": "execute_result"
    }
   ],
   "source": [
    "model_reload.use_weights"
   ]
  },
  {
   "cell_type": "code",
   "execution_count": 20,
   "metadata": {
    "collapsed": false
   },
   "outputs": [
    {
     "data": {
      "text/plain": [
       "2180.4074980662012"
      ]
     },
     "execution_count": 20,
     "metadata": {},
     "output_type": "execute_result"
    }
   ],
   "source": [
    "newton_results.set_z_get_kl()"
   ]
  },
  {
   "cell_type": "code",
   "execution_count": 21,
   "metadata": {
    "collapsed": false
   },
   "outputs": [
    {
     "data": {
      "text/plain": [
       "2180.4074980662344"
      ]
     },
     "execution_count": 21,
     "metadata": {},
     "output_type": "execute_result"
    }
   ],
   "source": [
    "model_reload.set_z_get_kl()"
   ]
  },
  {
   "cell_type": "code",
   "execution_count": 23,
   "metadata": {
    "collapsed": true
   },
   "outputs": [],
   "source": [
    "assert np.abs(newton_results.get_kl() - model_reload.get_kl()) < 1e-8"
   ]
  },
  {
   "cell_type": "code",
   "execution_count": null,
   "metadata": {
    "collapsed": true
   },
   "outputs": [],
   "source": []
  },
  {
   "cell_type": "code",
   "execution_count": null,
   "metadata": {
    "collapsed": true
   },
   "outputs": [],
   "source": []
  }
 ],
 "metadata": {
  "kernelspec": {
   "display_name": "Python 3",
   "language": "python",
   "name": "python3"
  },
  "language_info": {
   "codemirror_mode": {
    "name": "ipython",
    "version": 3
   },
   "file_extension": ".py",
   "mimetype": "text/x-python",
   "name": "python",
   "nbconvert_exporter": "python",
   "pygments_lexer": "ipython3",
   "version": "3.6.0"
  }
 },
 "nbformat": 4,
 "nbformat_minor": 2
}
