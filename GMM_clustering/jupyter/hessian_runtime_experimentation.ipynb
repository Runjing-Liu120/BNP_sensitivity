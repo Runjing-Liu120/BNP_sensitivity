{
 "cells": [
  {
   "cell_type": "code",
   "execution_count": 1,
   "metadata": {},
   "outputs": [
    {
     "name": "stderr",
     "output_type": "stream",
     "text": [
      "/home/rliu/anaconda3/envs/bnp_sensitivity/lib/python3.8/site-packages/autograd/core.py:290: UserWarning: \n",
      "The defvjp method is deprecated. See the update guide and tutorial:\n",
      "https://github.com/HIPS/autograd/blob/master/docs/updateguide.md\n",
      "https://github.com/HIPS/autograd/blob/master/docs/tutorial.md\n",
      "  warnings.warn(deprecation_msg)\n"
     ]
    }
   ],
   "source": [
    "import autograd\n",
    "from autograd import numpy as np\n",
    "from autograd import scipy as sp\n",
    "\n",
    "import scipy as osp\n",
    "\n",
    "from numpy.polynomial.hermite import hermgauss\n",
    "\n",
    "np.random.seed(453453)\n",
    "\n",
    "import paragami\n",
    "\n",
    "# BNP sensitivity libraries\n",
    "import sys\n",
    "\n",
    "import bnpgmm_runjingdev.gmm_clustering_lib as gmm_lib\n",
    "import bnpgmm_runjingdev.utils_lib as utils_lib\n",
    "import bnpgmm_runjingdev.gmm_cavi_lib as cavi_lib\n",
    "import bnpgmm_runjingdev.gmm_preconditioner_lib as preconditioner_lib\n",
    "\n",
    "import bnpmodeling_runjingdev.modeling_lib as modeling_lib \n",
    "import bnpmodeling_runjingdev.cluster_quantities_lib as cluster_lib\n",
    "import bnpmodeling_runjingdev.optimization_lib as optimization_lib\n",
    "\n",
    "\n",
    "import matplotlib.pyplot as plt\n",
    "%matplotlib inline\n",
    "import matplotlib.cm as cm\n",
    "\n",
    "from sklearn.decomposition import PCA\n",
    "\n",
    "from copy import deepcopy\n",
    "\n",
    "import vittles\n",
    "\n",
    "import time \n",
    "\n",
    "import json \n",
    "\n",
    "import scipy as osp"
   ]
  },
  {
   "cell_type": "code",
   "execution_count": 2,
   "metadata": {},
   "outputs": [],
   "source": [
    "np.random.seed(53453)"
   ]
  },
  {
   "cell_type": "markdown",
   "metadata": {
    "collapsed": true
   },
   "source": [
    "# Load data"
   ]
  },
  {
   "cell_type": "code",
   "execution_count": 3,
   "metadata": {},
   "outputs": [],
   "source": [
    "# load iris data\n",
    "dataset_name = 'iris'\n",
    "features, iris_species = utils_lib.load_data()\n",
    "dim = features.shape[1]\n",
    "n_obs = len(iris_species)    "
   ]
  },
  {
   "cell_type": "code",
   "execution_count": 4,
   "metadata": {},
   "outputs": [
    {
     "data": {
      "text/plain": [
       "Text(0, 0.5, 'PC2')"
      ]
     },
     "execution_count": 4,
     "metadata": {},
     "output_type": "execute_result"
    },
    {
     "data": {
      "image/png": "[encoded data removed]",
      "text/plain": [
       "<Figure size 432x288 with 1 Axes>"
      ]
     },
     "metadata": {
      "needs_background": "light"
     },
     "output_type": "display_data"
    }
   ],
   "source": [
    "# run PCA\n",
    "pca_fit = PCA()\n",
    "pca_fit.fit(features)\n",
    "pc_features = pca_fit.transform(features)\n",
    "\n",
    "# plot\n",
    "cmap = cm.get_cmap(name='gist_rainbow')\n",
    "colors1 = [cmap(k * 50) for k in range(30)]\n",
    "\n",
    "fig1 = plt.figure(1)\n",
    "fig = fig1.add_subplot(111)\n",
    "utils_lib.plot_clusters(pc_features[:, 0], pc_features[:, 1], iris_species, colors1, fig)\n",
    "fig.set_xlabel('PC1')\n",
    "fig.set_ylabel('PC2')\n"
   ]
  },
  {
   "cell_type": "markdown",
   "metadata": {},
   "source": [
    "# Get prior"
   ]
  },
  {
   "cell_type": "code",
   "execution_count": 5,
   "metadata": {},
   "outputs": [
    {
     "name": "stdout",
     "output_type": "stream",
     "text": [
      "{'alpha': array([3.]), 'prior_centroid_mean': array([0.]), 'prior_lambda': array([1.]), 'prior_wishart_df': array([10.]), 'prior_wishart_rate': array([[1., 0., 0., 0.],\n",
      "       [0., 1., 0., 0.],\n",
      "       [0., 0., 1., 0.],\n",
      "       [0., 0., 0., 1.]])}\n"
     ]
    }
   ],
   "source": [
    "prior_params_dict, prior_params_paragami = gmm_lib.get_default_prior_params(dim)\n",
    "prior_params_dict['alpha'] = np.array([3.0])\n",
    "print(prior_params_dict)\n",
    "\n",
    "prior_params_free = prior_params_paragami.flatten(prior_params_dict, free = True)"
   ]
  },
  {
   "cell_type": "markdown",
   "metadata": {},
   "source": [
    "# Get VB params "
   ]
  },
  {
   "cell_type": "code",
   "execution_count": 6,
   "metadata": {},
   "outputs": [],
   "source": [
    "k_approx = 30"
   ]
  },
  {
   "cell_type": "code",
   "execution_count": 7,
   "metadata": {},
   "outputs": [],
   "source": [
    "gh_deg = 8\n",
    "gh_loc, gh_weights = hermgauss(gh_deg)"
   ]
  },
  {
   "cell_type": "code",
   "execution_count": 8,
   "metadata": {
    "scrolled": true
   },
   "outputs": [],
   "source": [
    "# get vb parameters\n",
    "vb_params_dict, vb_params_paragami = gmm_lib.get_vb_params_paragami_object(dim, k_approx)"
   ]
  },
  {
   "cell_type": "code",
   "execution_count": 9,
   "metadata": {},
   "outputs": [
    {
     "data": {
      "text/plain": [
       "1459.0115663552124"
      ]
     },
     "execution_count": 9,
     "metadata": {},
     "output_type": "execute_result"
    }
   ],
   "source": [
    "# the objective \n",
    "gmm_lib.get_kl(features, vb_params_dict, prior_params_dict, gh_loc, gh_weights)"
   ]
  },
  {
   "cell_type": "markdown",
   "metadata": {},
   "source": [
    "## Initialize "
   ]
  },
  {
   "cell_type": "code",
   "execution_count": 10,
   "metadata": {},
   "outputs": [
    {
     "name": "stdout",
     "output_type": "stream",
     "text": [
      "initial kl: \n",
      "6580.095037059639\n"
     ]
    }
   ],
   "source": [
    "# run a kmeans init\n",
    "n_kmeans_init = 10\n",
    "init_vb_free_params, init_vb_params_dict, init_ez = \\\n",
    "    utils_lib.cluster_and_get_k_means_inits(features, vb_params_paragami, \n",
    "                                                n_kmeans_init = n_kmeans_init, \n",
    "                                                seed = 3445)\n",
    "                                                \n",
    "print('initial kl: ')\n",
    "print(gmm_lib.get_kl(features, init_vb_params_dict, prior_params_dict, gh_loc, gh_weights))"
   ]
  },
  {
   "cell_type": "code",
   "execution_count": 11,
   "metadata": {},
   "outputs": [],
   "source": [
    "def plot_results_from_vb_params_dict(pca_fit, vb_params_dict, e_z, fig): \n",
    "    # we plot in PCA space\n",
    "    bnp_centroids_pc, bnp_cluster_covs_pc = \\\n",
    "        utils_lib.transform_params_to_pc_space(pca_fit, vb_params_dict['cluster_params']['centroids'], \n",
    "                                               np.linalg.inv(vb_params_dict['cluster_params']['cluster_info']))\n",
    "    \n",
    "    bnp_clusters = np.argmax(e_z, axis = 1)\n",
    "    \n",
    "    cmap = cm.get_cmap(name='gist_rainbow')\n",
    "    colors1 = [cmap(k * 50) for k in range(30)]\n",
    "\n",
    "    utils_lib.plot_clusters(pc_features[:, 0], pc_features[:, 1], bnp_clusters, \\\n",
    "                  colors1, fig, \\\n",
    "                  centroids = bnp_centroids_pc[:, np.unique(bnp_clusters)], \n",
    "                cov = bnp_cluster_covs_pc[np.unique(bnp_clusters)])\n"
   ]
  },
  {
   "cell_type": "code",
   "execution_count": 12,
   "metadata": {},
   "outputs": [
    {
     "data": {
      "text/plain": [
       "Text(0, 0.5, 'PC2')"
      ]
     },
     "execution_count": 12,
     "metadata": {},
     "output_type": "execute_result"
    },
    {
     "data": {
      "image/png": "[encoded data removed]",
      "text/plain": [
       "<Figure size 432x288 with 1 Axes>"
      ]
     },
     "metadata": {
      "needs_background": "light"
     },
     "output_type": "display_data"
    }
   ],
   "source": [
    "fig1 = plt.figure(1)\n",
    "fig = fig1.add_subplot(111)\n",
    "\n",
    "plot_results_from_vb_params_dict(pca_fit, init_vb_params_dict, init_ez, fig)\n",
    "fig.set_xlabel('PC1', fontsize = 18)\n",
    "fig.set_ylabel('PC2', fontsize = 18)\n"
   ]
  },
  {
   "cell_type": "code",
   "execution_count": null,
   "metadata": {},
   "outputs": [],
   "source": []
  },
  {
   "cell_type": "markdown",
   "metadata": {},
   "source": [
    "# Run CAVI"
   ]
  },
  {
   "cell_type": "code",
   "execution_count": 13,
   "metadata": {
    "scrolled": true
   },
   "outputs": [
    {
     "name": "stdout",
     "output_type": "stream",
     "text": [
      "done. num iterations = 266\n",
      "stick_time: 1.378sec\n",
      "cluster_time: 0.125sec\n",
      "e_z_time: 0.349sec\n",
      "**TOTAL time: 4.205sec**\n"
     ]
    }
   ],
   "source": [
    "vb_opt_dict, e_z_cavi = cavi_lib.run_cavi(features, vb_params_dict,\n",
    "                                            vb_params_paragami, prior_params_dict,\n",
    "                                            gh_loc, gh_weights,\n",
    "                                            debug = False)"
   ]
  },
  {
   "cell_type": "code",
   "execution_count": 14,
   "metadata": {},
   "outputs": [],
   "source": [
    "vb_opt = vb_params_paragami.flatten(vb_opt_dict, free = True)"
   ]
  },
  {
   "cell_type": "markdown",
   "metadata": {},
   "source": [
    "# Define objective"
   ]
  },
  {
   "cell_type": "code",
   "execution_count": 15,
   "metadata": {},
   "outputs": [],
   "source": [
    "# get loss as a function of vb parameters\n",
    "get_vb_params_loss = paragami.FlattenFunctionInput(\n",
    "                                original_fun=gmm_lib.get_kl, \n",
    "                                patterns = [vb_params_paragami, prior_params_paragami],\n",
    "                                free = True,\n",
    "                                argnums = [1, 2])\n",
    "\n",
    "objective_fun = lambda x, y : get_vb_params_loss(features, x, y, gh_loc, gh_weights)\n"
   ]
  },
  {
   "cell_type": "code",
   "execution_count": 16,
   "metadata": {},
   "outputs": [],
   "source": [
    "# get derivative functions\n",
    "obj_fun_grad = autograd.grad(objective_fun, argnum=0)\n",
    "obj_fun_hessian = autograd.hessian(objective_fun, argnum=0)\n",
    "obj_fun_hvp = autograd.hessian_vector_product(\n",
    "            objective_fun, argnum=0)"
   ]
  },
  {
   "cell_type": "markdown",
   "metadata": {},
   "source": [
    "# Derivative times"
   ]
  },
  {
   "cell_type": "code",
   "execution_count": 17,
   "metadata": {},
   "outputs": [
    {
     "name": "stdout",
     "output_type": "stream",
     "text": [
      "function time: 0.0156sec\n"
     ]
    }
   ],
   "source": [
    "t0 = time.time()\n",
    "loss = objective_fun(vb_opt, prior_params_free)\n",
    "print('function time: {:0.3}sec'.format(time.time() - t0))"
   ]
  },
  {
   "cell_type": "code",
   "execution_count": 18,
   "metadata": {},
   "outputs": [
    {
     "name": "stdout",
     "output_type": "stream",
     "text": [
      "gradient time: 0.039sec\n"
     ]
    }
   ],
   "source": [
    "t0 = time.time()\n",
    "grad = obj_fun_grad(vb_opt, prior_params_free)\n",
    "print('gradient time: {:0.3}sec'.format(time.time() - t0))"
   ]
  },
  {
   "cell_type": "code",
   "execution_count": 19,
   "metadata": {},
   "outputs": [],
   "source": [
    "# if its impossible, don't run the hessian\n",
    "run_hessian = True"
   ]
  },
  {
   "cell_type": "code",
   "execution_count": 20,
   "metadata": {},
   "outputs": [
    {
     "name": "stdout",
     "output_type": "stream",
     "text": [
      "hessian time: 13.7sec\n"
     ]
    }
   ],
   "source": [
    "if run_hessian: \n",
    "    t0 = time.time()\n",
    "    hess = obj_fun_hessian(vb_opt, prior_params_free)\n",
    "    print('hessian time: {:0.3}sec'.format(time.time() - t0))"
   ]
  },
  {
   "cell_type": "code",
   "execution_count": 21,
   "metadata": {},
   "outputs": [
    {
     "name": "stdout",
     "output_type": "stream",
     "text": [
      "hvp time: 0.168sec\n"
     ]
    }
   ],
   "source": [
    "t0 = time.time()\n",
    "\n",
    "x = np.zeros(len(vb_opt))# vb_opt\n",
    "x[0] = 1\n",
    "hvp = obj_fun_hvp(vb_opt, prior_params_free, x)\n",
    "print('hvp time: {:0.3}sec'.format(time.time() - t0))"
   ]
  },
  {
   "cell_type": "code",
   "execution_count": null,
   "metadata": {},
   "outputs": [],
   "source": []
  },
  {
   "cell_type": "code",
   "execution_count": 22,
   "metadata": {},
   "outputs": [],
   "source": [
    "# cross hessian \n",
    "hyper_obj_fun_grad = \\\n",
    "            autograd.grad(objective_fun, argnum=0)\n",
    "hyper_obj_cross_hess = autograd.jacobian(hyper_obj_fun_grad, argnum=1)"
   ]
  },
  {
   "cell_type": "code",
   "execution_count": 23,
   "metadata": {},
   "outputs": [
    {
     "name": "stdout",
     "output_type": "stream",
     "text": [
      "cross-hessian time: 3.34sec\n"
     ]
    }
   ],
   "source": [
    "t0 = time.time()\n",
    "cross_hess = hyper_obj_cross_hess(vb_opt, prior_params_free)\n",
    "print('cross-hessian time: {:0.3}sec'.format(time.time() - t0))"
   ]
  },
  {
   "cell_type": "markdown",
   "metadata": {},
   "source": [
    "# Solver times"
   ]
  },
  {
   "cell_type": "code",
   "execution_count": 24,
   "metadata": {},
   "outputs": [
    {
     "name": "stdout",
     "output_type": "stream",
     "text": [
      "solver time: 0.00121sec\n"
     ]
    }
   ],
   "source": [
    "if run_hessian: \n",
    "    chol_solver = vittles.solver_lib.get_cholesky_solver(hess)\n",
    "    \n",
    "    t0 = time.time()\n",
    "    dinput_dhyper = -chol_solver(cross_hess)\n",
    "    \n",
    "    print('solver time: {:0.3}sec'.format(time.time() - t0))"
   ]
  },
  {
   "cell_type": "code",
   "execution_count": 25,
   "metadata": {},
   "outputs": [
    {
     "name": "stdout",
     "output_type": "stream",
     "text": [
      "solver time: 9.66sec\n"
     ]
    }
   ],
   "source": [
    "cg_solver = vittles.solver_lib.get_cg_solver(lambda x : obj_fun_hvp(vb_opt, prior_params_free, x), \n",
    "                                            dim = len(vb_opt))\n",
    "    \n",
    "t0 = time.time()\n",
    "dinput_dhyper2 = -cg_solver(cross_hess[:, 0])\n",
    "    \n",
    "print('solver time: {:0.3}sec'.format(time.time() - t0))"
   ]
  },
  {
   "cell_type": "code",
   "execution_count": 26,
   "metadata": {},
   "outputs": [],
   "source": [
    "mfvb_preconditioner = preconditioner_lib.get_gmm_preconditioner(vb_opt, vb_params_paragami)"
   ]
  },
  {
   "cell_type": "code",
   "execution_count": 27,
   "metadata": {},
   "outputs": [
    {
     "name": "stdout",
     "output_type": "stream",
     "text": [
      "preconditioned solver time: 6.48sec\n"
     ]
    }
   ],
   "source": [
    "cg_solver_mfvb_precond = vittles.solver_lib.get_cg_solver(lambda x : obj_fun_hvp(vb_opt, prior_params_free, x), \n",
    "                                            dim = len(vb_opt), \n",
    "                                            cg_opts={'M':mfvb_preconditioner})\n",
    "    \n",
    "t0 = time.time()\n",
    "dinput_dhyper3 = -cg_solver_mfvb_precond(cross_hess[:, 0])\n",
    "    \n",
    "print('preconditioned solver time: {:0.3}sec'.format(time.time() - t0))"
   ]
  },
  {
   "cell_type": "code",
   "execution_count": null,
   "metadata": {},
   "outputs": [],
   "source": []
  },
  {
   "cell_type": "markdown",
   "metadata": {},
   "source": [
    "# Lets look at the CG solver in more detail "
   ]
  },
  {
   "cell_type": "markdown",
   "metadata": {},
   "source": [
    "### Check out eigenvalues"
   ]
  },
  {
   "cell_type": "code",
   "execution_count": 28,
   "metadata": {},
   "outputs": [],
   "source": [
    "hess_ev = np.linalg.eigvals(hess)"
   ]
  },
  {
   "cell_type": "code",
   "execution_count": 29,
   "metadata": {},
   "outputs": [
    {
     "data": {
      "image/png": "[encoded data removed]",
      "text/plain": [
       "<Figure size 432x288 with 1 Axes>"
      ]
     },
     "metadata": {
      "needs_background": "light"
     },
     "output_type": "display_data"
    }
   ],
   "source": [
    "plt.hist(hess_ev - hess_ev.min(), bins = 100);"
   ]
  },
  {
   "cell_type": "code",
   "execution_count": 30,
   "metadata": {},
   "outputs": [
    {
     "data": {
      "text/plain": [
       "3.567538391042636e-14"
      ]
     },
     "execution_count": 30,
     "metadata": {},
     "output_type": "execute_result"
    }
   ],
   "source": [
    "precond_sqrt = osp.linalg.sqrtm(mfvb_preconditioner.toarray())\n",
    "np.abs(precond_sqrt - precond_sqrt.transpose()).max()"
   ]
  },
  {
   "cell_type": "code",
   "execution_count": 31,
   "metadata": {},
   "outputs": [
    {
     "name": "stderr",
     "output_type": "stream",
     "text": [
      "/home/rliu/anaconda3/envs/bnp_sensitivity/lib/python3.8/site-packages/numpy/lib/histograms.py:854: ComplexWarning: Casting complex values to real discards the imaginary part\n",
      "  indices = f_indices.astype(np.intp)\n",
      "/home/rliu/anaconda3/envs/bnp_sensitivity/lib/python3.8/site-packages/matplotlib/transforms.py:796: ComplexWarning: Casting complex values to real discards the imaginary part\n",
      "  points = np.array(args, dtype=float).reshape(2, 2)\n",
      "/home/rliu/anaconda3/envs/bnp_sensitivity/lib/python3.8/site-packages/matplotlib/transforms.py:1959: ComplexWarning: Casting complex values to real discards the imaginary part\n",
      "  x, y = float(x), float(y)\n"
     ]
    },
    {
     "data": {
      "image/png": "[encoded data removed]",
      "text/plain": [
       "<Figure size 432x288 with 1 Axes>"
      ]
     },
     "metadata": {
      "needs_background": "light"
     },
     "output_type": "display_data"
    }
   ],
   "source": [
    "precond_hess = np.dot(precond_sqrt, np.dot(hess, precond_sqrt))\n",
    "precon_hess_ev = np.linalg.eigvals(precond_hess)\n",
    "plt.hist(precon_hess_ev - precon_hess_ev.min(), bins = 100);"
   ]
  },
  {
   "cell_type": "code",
   "execution_count": 32,
   "metadata": {},
   "outputs": [],
   "source": [
    "dim = len(vb_opt)\n",
    "mat_times_vec = lambda x : obj_fun_hvp(vb_opt, prior_params_free, x)\n",
    "linop = osp.sparse.linalg.LinearOperator((dim, dim), mat_times_vec)\n",
    "\n",
    "b = cross_hess[:, 0]"
   ]
  },
  {
   "cell_type": "markdown",
   "metadata": {},
   "source": [
    "### Check out optimization path"
   ]
  },
  {
   "cell_type": "code",
   "execution_count": 33,
   "metadata": {},
   "outputs": [],
   "source": [
    "class CGCallback(): \n",
    "    def __init__(self, mat_times_vec, b): \n",
    "        self.mat_times_vec = mat_times_vec\n",
    "        self.b = b\n",
    "        \n",
    "        self.residuals = []\n",
    "        \n",
    "    def record_residuals(self, x): \n",
    "#         e_z = gmm_lib.get_optimal_z_from_vb_params_dict(features, \n",
    "#                                        vb_params_paragami.fold(x, free = True), \n",
    "#                                        gh_loc, gh_weights)\n",
    "        \n",
    "#         e_num_clust = cluster_lib.get_e_num_clusters_from_ez(e_z)\n",
    "        \n",
    "#         self.residuals.append(e_num_clust)\n",
    "        \n",
    "#         self.residuals.append(np.linalg.norm(b - self.mat_times_vec(x)))\n",
    "\n",
    "        self.residuals.append(np.linalg.norm(-x - dinput_dhyper[:, 0]))\n",
    "        \n",
    "    def return_path(self): \n",
    "        return np.array(self.residuals)"
   ]
  },
  {
   "cell_type": "code",
   "execution_count": 34,
   "metadata": {},
   "outputs": [],
   "source": [
    "mat_times_vec = lambda x : obj_fun_hvp(vb_opt, prior_params_free, x)\n",
    "b = cross_hess[:, 0]\n",
    "cg_callback = CGCallback(mat_times_vec, b)\n",
    "\n",
    "x0 = mfvb_preconditioner.dot(b)"
   ]
  },
  {
   "cell_type": "code",
   "execution_count": 35,
   "metadata": {},
   "outputs": [
    {
     "name": "stdout",
     "output_type": "stream",
     "text": [
      "solver time: 11.7sec\n"
     ]
    }
   ],
   "source": [
    "cg_callback = CGCallback(mat_times_vec, b)\n",
    "solver = vittles.solver_lib.get_cg_solver(mat_times_vec, \n",
    "                                            dim = len(vb_opt), \n",
    "                                            cg_opts={'callback':cg_callback.record_residuals, \n",
    "                                                    'x0':x0})\n",
    "    \n",
    "t0 = time.time()\n",
    "_ = -solver(b)\n",
    "print('solver time: {:0.3}sec'.format(time.time() - t0))\n",
    "path1 = cg_callback.return_path()"
   ]
  },
  {
   "cell_type": "code",
   "execution_count": 36,
   "metadata": {},
   "outputs": [
    {
     "name": "stdout",
     "output_type": "stream",
     "text": [
      "solver time: 4.14sec\n"
     ]
    }
   ],
   "source": [
    "cg_callback = CGCallback(mat_times_vec, b)\n",
    "solver = vittles.solver_lib.get_cg_solver(mat_times_vec, \n",
    "                                            dim = len(vb_opt), \n",
    "                                            cg_opts={'M':mfvb_preconditioner, \n",
    "                                                     'callback':cg_callback.record_residuals, \n",
    "                                                    'x0':x0})\n",
    "    \n",
    "t0 = time.time()\n",
    "_ = -solver(b)\n",
    "print('solver time: {:0.3}sec'.format(time.time() - t0))\n",
    "path2 = cg_callback.return_path()"
   ]
  },
  {
   "cell_type": "code",
   "execution_count": 37,
   "metadata": {},
   "outputs": [
    {
     "data": {
      "text/plain": [
       "Text(0, 0.5, 'log10 residual')"
      ]
     },
     "execution_count": 37,
     "metadata": {},
     "output_type": "execute_result"
    },
    {
     "data": {
      "image/png": "[encoded data removed]",
      "text/plain": [
       "<Figure size 432x288 with 1 Axes>"
      ]
     },
     "metadata": {
      "needs_background": "light"
     },
     "output_type": "display_data"
    }
   ],
   "source": [
    "plt.plot(np.log10(path1), color = 'red', label = 'cg')\n",
    "plt.plot(np.log10(path2), color = 'blue', label = 'cg-precond')\n",
    "plt.legend()\n",
    "\n",
    "plt.xlabel('iter')\n",
    "plt.ylabel('log10 residual')"
   ]
  },
  {
   "cell_type": "code",
   "execution_count": null,
   "metadata": {},
   "outputs": [],
   "source": []
  },
  {
   "cell_type": "markdown",
   "metadata": {},
   "source": [
    "# Try nystrom"
   ]
  },
  {
   "cell_type": "code",
   "execution_count": 38,
   "metadata": {},
   "outputs": [],
   "source": [
    "def taylor_expand_matrix_inverse(mat_vec, v, max_eval, max_iter):\n",
    "    \n",
    "    t_power = deepcopy(v)\n",
    "    x_inv_v = deepcopy(v)\n",
    "    \n",
    "    for i in range(max_iter): \n",
    "        t_power = t_power - mat_vec(t_power) / (max_eval + 1)\n",
    "        x_inv_v += t_power\n",
    "    \n",
    "    return x_inv_v / (max_eval + 1)"
   ]
  },
  {
   "cell_type": "code",
   "execution_count": 39,
   "metadata": {},
   "outputs": [
    {
     "name": "stdout",
     "output_type": "stream",
     "text": [
      "[0.99998116 0.99998158 0.99998168]\n"
     ]
    }
   ],
   "source": [
    "# a quick test \n",
    "dim = 3\n",
    "_a = np.random.randn(dim, dim)\n",
    "a = np.dot(_a, _a.transpose())\n",
    "\n",
    "mat_vec = lambda x: np.dot(a, x)\n",
    "\n",
    "max_eval = np.linalg.eigvals(a).max()\n",
    "\n",
    "v = np.random.randn(dim)\n",
    "\n",
    "foo = taylor_expand_matrix_inverse(mat_vec, v, max_eval, max_iter = 1000)\n",
    "\n",
    "true = np.linalg.solve(a, v)\n",
    "\n",
    "print(foo / true)"
   ]
  },
  {
   "cell_type": "code",
   "execution_count": 40,
   "metadata": {},
   "outputs": [],
   "source": [
    "def get_nystrom_woodbury_approx(A, indx): \n",
    "    C = A[:, indx]\n",
    "    W_inv = np.linalg.inv(A[indx][:, indx])\n",
    "    \n",
    "    inv_term = np.linalg.inv(np.eye(C.shape[1]) - np.dot(W_inv, np.dot(C.transpose(), C)))\n",
    "    \n",
    "    woodb_inv = np.eye(C.shape[0]) + np.dot(np.dot(C, inv_term), np.dot(W_inv, C.transpose()))\n",
    "    \n",
    "    return woodb_inv, C, W_inv"
   ]
  },
  {
   "cell_type": "code",
   "execution_count": 41,
   "metadata": {},
   "outputs": [
    {
     "data": {
      "text/plain": [
       "4.440892098500626e-16"
      ]
     },
     "execution_count": 41,
     "metadata": {},
     "output_type": "execute_result"
    }
   ],
   "source": [
    "# another quick test \n",
    "a = np.random.randn(3, 3)\n",
    "A = np.eye(3) + np.dot(a, a.transpose())\n",
    "\n",
    "woodb_inv, C, W_inv = get_nystrom_woodbury_approx(A, indx = np.array([0, 1]))\n",
    "\n",
    "A_tilde = np.dot(np.dot(C, W_inv), C.transpose())\n",
    "\n",
    "np.abs(np.linalg.inv(np.eye(3) - A_tilde) - woodb_inv).max()"
   ]
  },
  {
   "cell_type": "code",
   "execution_count": null,
   "metadata": {},
   "outputs": [],
   "source": []
  },
  {
   "cell_type": "markdown",
   "metadata": {},
   "source": [
    "## Get large clusters"
   ]
  },
  {
   "cell_type": "code",
   "execution_count": 58,
   "metadata": {},
   "outputs": [],
   "source": [
    "e_z_opt = gmm_lib.get_optimal_z_from_vb_params_dict(features, \n",
    "                                       vb_params_paragami.fold(vb_opt, free = True), \n",
    "                                       gh_loc, gh_weights)"
   ]
  },
  {
   "cell_type": "code",
   "execution_count": 59,
   "metadata": {},
   "outputs": [],
   "source": [
    "k_large = 5\n",
    "which_k = np.argsort(-e_z_opt.mean(0))[0:k_large]"
   ]
  },
  {
   "cell_type": "code",
   "execution_count": 60,
   "metadata": {
    "scrolled": true
   },
   "outputs": [
    {
     "data": {
      "text/plain": [
       "array([2, 4, 0, 1, 3])"
      ]
     },
     "execution_count": 60,
     "metadata": {},
     "output_type": "execute_result"
    }
   ],
   "source": [
    "which_k"
   ]
  },
  {
   "cell_type": "code",
   "execution_count": 61,
   "metadata": {},
   "outputs": [
    {
     "data": {
      "text/plain": [
       "array([2, 4, 0, 1, 3])"
      ]
     },
     "execution_count": 61,
     "metadata": {},
     "output_type": "execute_result"
    }
   ],
   "source": [
    "import bnpmodeling_runjingdev.modeling_lib as modeling_lib\n",
    "log_probs = modeling_lib.get_e_log_cluster_probabilities(vb_params_dict['stick_params']['stick_propn_mean'],\n",
    "                                            vb_params_dict['stick_params']['stick_propn_info'], \n",
    "                                            gh_loc, gh_weights)\n",
    "np.argsort(-log_probs)[0:k_large]"
   ]
  },
  {
   "cell_type": "code",
   "execution_count": null,
   "metadata": {},
   "outputs": [],
   "source": []
  },
  {
   "cell_type": "code",
   "execution_count": 62,
   "metadata": {},
   "outputs": [],
   "source": [
    "bool_dict = vb_params_paragami.empty_bool(False)\n",
    "bool_dict['cluster_params']['centroids'][:, which_k] = True\n",
    "bool_dict['cluster_params']['cluster_info'][which_k] = True\n",
    "\n",
    "_which_k = which_k\n",
    "_which_k = _which_k[_which_k != (k_approx - 1)]\n",
    "bool_dict['stick_params']['stick_propn_mean'][_which_k] = True\n",
    "bool_dict['stick_params']['stick_propn_info'][_which_k] = True"
   ]
  },
  {
   "cell_type": "code",
   "execution_count": 63,
   "metadata": {},
   "outputs": [],
   "source": [
    "indx = vb_params_paragami.flat_indices(bool_dict, free = True)"
   ]
  },
  {
   "cell_type": "code",
   "execution_count": 64,
   "metadata": {},
   "outputs": [
    {
     "data": {
      "text/plain": [
       "80"
      ]
     },
     "execution_count": 64,
     "metadata": {},
     "output_type": "execute_result"
    }
   ],
   "source": [
    "len(indx)"
   ]
  },
  {
   "cell_type": "code",
   "execution_count": 65,
   "metadata": {},
   "outputs": [],
   "source": [
    "est_lambda_max = np.max(np.linalg.eigvals(hess)) \n",
    "# est_lambda_max = np.abs(hess).sum(0).max() * 100.\n",
    "\n",
    "A = np.eye(hess.shape[0]) - hess / est_lambda_max"
   ]
  },
  {
   "cell_type": "code",
   "execution_count": 66,
   "metadata": {},
   "outputs": [
    {
     "name": "stdout",
     "output_type": "stream",
     "text": [
      "est lambda_max:  2451.1259105527097\n",
      "true lambda_max:  2451.1259105527097\n"
     ]
    }
   ],
   "source": [
    "print('est lambda_max: ', est_lambda_max)\n",
    "print('true lambda_max: ', np.max(np.linalg.eigvals(hess)))"
   ]
  },
  {
   "cell_type": "code",
   "execution_count": 67,
   "metadata": {},
   "outputs": [
    {
     "data": {
      "image/png": "[encoded data removed]",
      "text/plain": [
       "<Figure size 864x216 with 1 Axes>"
      ]
     },
     "metadata": {
      "needs_background": "light"
     },
     "output_type": "display_data"
    }
   ],
   "source": [
    "f, axarr = plt.subplots(1, 1, figsize=(12, 3))\n",
    "axarr.boxplot(np.linalg.eigvals(A), vert=False);\n",
    "axarr.set_yticks([]);\n",
    "axarr.set_title('eigenvalues of A = I - H/$\\lambda_{max}$'); "
   ]
  },
  {
   "cell_type": "code",
   "execution_count": 68,
   "metadata": {},
   "outputs": [],
   "source": [
    "# get woodbury-nystrom preconditioner\n",
    "woodb_inv, C, W_inv = get_nystrom_woodbury_approx(A, indx)\n",
    "nystrom_precond = woodb_inv/est_lambda_max"
   ]
  },
  {
   "cell_type": "code",
   "execution_count": null,
   "metadata": {},
   "outputs": [],
   "source": []
  },
  {
   "cell_type": "code",
   "execution_count": 69,
   "metadata": {},
   "outputs": [
    {
     "name": "stderr",
     "output_type": "stream",
     "text": [
      "/home/rliu/anaconda3/envs/bnp_sensitivity/lib/python3.8/site-packages/numpy/core/_asarray.py:85: ComplexWarning: Casting complex values to real discards the imaginary part\n",
      "  return array(a, dtype, copy=False, order=order)\n"
     ]
    },
    {
     "data": {
      "image/png": "[encoded data removed]",
      "text/plain": [
       "<Figure size 432x288 with 1 Axes>"
      ]
     },
     "metadata": {
      "needs_background": "light"
     },
     "output_type": "display_data"
    }
   ],
   "source": [
    "woodb_inv_sqrt = osp.linalg.sqrtm(woodb_inv)\n",
    "m = np.dot(woodb_inv_sqrt, np.dot(np.eye(len(A)) - A, woodb_inv_sqrt))\n",
    "plt.boxplot(np.linalg.eigvals(m), vert=False);\n",
    "# plt.hist(np.linalg.eigvals(m))"
   ]
  },
  {
   "cell_type": "code",
   "execution_count": 70,
   "metadata": {},
   "outputs": [
    {
     "name": "stdout",
     "output_type": "stream",
     "text": [
      "(1.0000007367698922-1.377410568111461e-17j)\n",
      "(7523.440067052681-1.733777059761098e-12j)\n"
     ]
    }
   ],
   "source": [
    "precond_sqrt = osp.linalg.sqrtm(nystrom_precond)\n",
    "precond_hess = np.dot(precond_sqrt, np.dot(hess, precond_sqrt))\n",
    "evals = np.linalg.eigvals(precond_hess)\n",
    "print(evals.max())\n",
    "print(evals.max() / evals.min())"
   ]
  },
  {
   "cell_type": "code",
   "execution_count": 71,
   "metadata": {
    "scrolled": false
   },
   "outputs": [
    {
     "name": "stderr",
     "output_type": "stream",
     "text": [
      "/home/rliu/anaconda3/envs/bnp_sensitivity/lib/python3.8/site-packages/numpy/core/_asarray.py:85: ComplexWarning: Casting complex values to real discards the imaginary part\n",
      "  return array(a, dtype, copy=False, order=order)\n"
     ]
    },
    {
     "data": {
      "image/png": "[encoded data removed]",
      "text/plain": [
       "<Figure size 864x216 with 1 Axes>"
      ]
     },
     "metadata": {
      "needs_background": "light"
     },
     "output_type": "display_data"
    }
   ],
   "source": [
    "f, axarr = plt.subplots(1, 1, figsize=(12, 3))\n",
    "axarr.boxplot(evals, vert=False);\n",
    "axarr.set_yticks([]);\n",
    "axarr.set_title('eigenvalues of M'); "
   ]
  },
  {
   "cell_type": "code",
   "execution_count": 72,
   "metadata": {},
   "outputs": [
    {
     "name": "stdout",
     "output_type": "stream",
     "text": [
      "solver time: 4.78sec\n"
     ]
    }
   ],
   "source": [
    "cg_callback = CGCallback(mat_times_vec, b)\n",
    "solver = vittles.solver_lib.get_cg_solver(mat_times_vec, \n",
    "                                            dim = len(vb_opt), \n",
    "                                            cg_opts={'M':nystrom_precond, \n",
    "                                                     'callback':cg_callback.record_residuals, \n",
    "                                                    'x0':x0})\n",
    "    \n",
    "t0 = time.time()\n",
    "_ = -solver(b)\n",
    "print('solver time: {:0.3}sec'.format(time.time() - t0))\n",
    "path3 = cg_callback.return_path()"
   ]
  },
  {
   "cell_type": "code",
   "execution_count": 73,
   "metadata": {},
   "outputs": [
    {
     "data": {
      "text/plain": [
       "Text(0, 0.5, 'log10 residual')"
      ]
     },
     "execution_count": 73,
     "metadata": {},
     "output_type": "execute_result"
    },
    {
     "data": {
      "image/png": "[encoded data removed]",
      "text/plain": [
       "<Figure size 432x288 with 1 Axes>"
      ]
     },
     "metadata": {
      "needs_background": "light"
     },
     "output_type": "display_data"
    }
   ],
   "source": [
    "plt.plot(np.log10(path1), color = 'red', label = 'cg')\n",
    "plt.plot(np.log10(path2), color = 'blue', label = 'cg-precond-mean_field')\n",
    "plt.plot(np.log10(path3), color = 'orange', label = 'cg-precond-nystrom_wood')\n",
    "\n",
    "plt.legend()\n",
    "\n",
    "plt.xlabel('iter')\n",
    "plt.ylabel('log10 residual')"
   ]
  },
  {
   "cell_type": "code",
   "execution_count": null,
   "metadata": {},
   "outputs": [],
   "source": []
  },
  {
   "cell_type": "code",
   "execution_count": null,
   "metadata": {},
   "outputs": [],
   "source": []
  },
  {
   "cell_type": "markdown",
   "metadata": {},
   "source": [
    "# Crazy idea ... use only one block"
   ]
  },
  {
   "cell_type": "code",
   "execution_count": 74,
   "metadata": {},
   "outputs": [],
   "source": [
    "bin_mat1 = np.zeros(hess.shape)\n",
    "bin_mat1[indx] = 1.0\n",
    "\n",
    "bin_mat2 = np.zeros(hess.shape)\n",
    "bin_mat2[:, indx] = 1.0\n",
    "\n",
    "bin_mat = bin_mat1 * bin_mat2"
   ]
  },
  {
   "cell_type": "code",
   "execution_count": 75,
   "metadata": {},
   "outputs": [],
   "source": [
    "assert np.all(bin_mat[indx][:, indx] == 1)\n",
    "assert np.all(bin_mat * (1 - bin_mat) == 0)"
   ]
  },
  {
   "cell_type": "code",
   "execution_count": 76,
   "metadata": {},
   "outputs": [],
   "source": [
    "# set some blocks to zero\n",
    "A2 = np.eye(hess.shape[0]) - hess * bin_mat / est_lambda_max"
   ]
  },
  {
   "cell_type": "code",
   "execution_count": 77,
   "metadata": {},
   "outputs": [
    {
     "data": {
      "text/plain": [
       "10.142413366623114"
      ]
     },
     "execution_count": 77,
     "metadata": {},
     "output_type": "execute_result"
    }
   ],
   "source": [
    "(hess - hess * bin_mat).max()"
   ]
  },
  {
   "cell_type": "code",
   "execution_count": 78,
   "metadata": {},
   "outputs": [
    {
     "data": {
      "text/plain": [
       "1725.7477546185044"
      ]
     },
     "execution_count": 78,
     "metadata": {},
     "output_type": "execute_result"
    }
   ],
   "source": [
    "(hess - hess * (1 - bin_mat)).max()"
   ]
  },
  {
   "cell_type": "code",
   "execution_count": 79,
   "metadata": {},
   "outputs": [
    {
     "data": {
      "text/plain": [
       "0.0002355968833660157"
      ]
     },
     "execution_count": 79,
     "metadata": {},
     "output_type": "execute_result"
    }
   ],
   "source": [
    "(A - A2).max()"
   ]
  },
  {
   "cell_type": "code",
   "execution_count": null,
   "metadata": {},
   "outputs": [],
   "source": []
  },
  {
   "cell_type": "code",
   "execution_count": 80,
   "metadata": {},
   "outputs": [],
   "source": [
    "# get woodbury-nystrom preconditioner\n",
    "woodb_inv, C, W_inv = get_nystrom_woodbury_approx(A2, indx)\n",
    "nystrom_precond2 = woodb_inv/est_lambda_max"
   ]
  },
  {
   "cell_type": "code",
   "execution_count": 81,
   "metadata": {},
   "outputs": [
    {
     "data": {
      "text/plain": [
       "0.07432392550546005"
      ]
     },
     "execution_count": 81,
     "metadata": {},
     "output_type": "execute_result"
    }
   ],
   "source": [
    "np.abs(nystrom_precond2 - nystrom_precond).max()"
   ]
  },
  {
   "cell_type": "code",
   "execution_count": 82,
   "metadata": {
    "scrolled": true
   },
   "outputs": [
    {
     "name": "stdout",
     "output_type": "stream",
     "text": [
      "(0.00013289791134470083+0j)\n",
      "(1.0000195307597624+0j)\n"
     ]
    }
   ],
   "source": [
    "precond_sqrt = osp.linalg.sqrtm(nystrom_precond2)\n",
    "precond_hess = np.dot(precond_sqrt, np.dot(hess, precond_sqrt))\n",
    "evals = np.linalg.eigvals(precond_hess)\n",
    "print(evals.min())\n",
    "print(evals.max())"
   ]
  },
  {
   "cell_type": "code",
   "execution_count": 83,
   "metadata": {},
   "outputs": [
    {
     "name": "stderr",
     "output_type": "stream",
     "text": [
      "/home/rliu/anaconda3/envs/bnp_sensitivity/lib/python3.8/site-packages/numpy/core/_asarray.py:85: ComplexWarning: Casting complex values to real discards the imaginary part\n",
      "  return array(a, dtype, copy=False, order=order)\n"
     ]
    },
    {
     "data": {
      "image/png": "[encoded data removed]",
      "text/plain": [
       "<Figure size 864x216 with 1 Axes>"
      ]
     },
     "metadata": {
      "needs_background": "light"
     },
     "output_type": "display_data"
    }
   ],
   "source": [
    "f, axarr = plt.subplots(1, 1, figsize=(12, 3))\n",
    "axarr.boxplot(evals, vert=False);\n",
    "axarr.set_yticks([]);\n",
    "axarr.set_title('eigenvalues of M'); "
   ]
  },
  {
   "cell_type": "code",
   "execution_count": 84,
   "metadata": {},
   "outputs": [
    {
     "name": "stdout",
     "output_type": "stream",
     "text": [
      "solver time: 4.26sec\n"
     ]
    }
   ],
   "source": [
    "cg_callback = CGCallback(mat_times_vec, b)\n",
    "solver = vittles.solver_lib.get_cg_solver(mat_times_vec, \n",
    "                                            dim = len(vb_opt), \n",
    "                                            cg_opts={'M':nystrom_precond2, \n",
    "                                                     'callback':cg_callback.record_residuals, \n",
    "                                                    'x0':x0})\n",
    "    \n",
    "t0 = time.time()\n",
    "_ = -solver(b)\n",
    "print('solver time: {:0.3}sec'.format(time.time() - t0))\n",
    "path4 = cg_callback.return_path()"
   ]
  },
  {
   "cell_type": "code",
   "execution_count": 85,
   "metadata": {
    "scrolled": true
   },
   "outputs": [
    {
     "data": {
      "text/plain": [
       "Text(0, 0.5, 'log10 residual')"
      ]
     },
     "execution_count": 85,
     "metadata": {},
     "output_type": "execute_result"
    },
    {
     "data": {
      "image/png": "[encoded data removed]",
      "text/plain": [
       "<Figure size 432x288 with 1 Axes>"
      ]
     },
     "metadata": {
      "needs_background": "light"
     },
     "output_type": "display_data"
    }
   ],
   "source": [
    "plt.plot(np.log10(path1), color = 'red', label = 'cg')\n",
    "plt.plot(np.log10(path2), color = 'blue', label = 'cg-precond-mean_field')\n",
    "plt.plot(np.log10(path3), color = 'orange', label = 'cg-precond-nystrom_wood')\n",
    "plt.plot(np.log10(path4), color = 'green', label = 'cg-precond-nystrom_wood2')\n",
    "\n",
    "plt.legend()\n",
    "\n",
    "plt.xlabel('iter')\n",
    "plt.ylabel('log10 residual')"
   ]
  },
  {
   "cell_type": "code",
   "execution_count": null,
   "metadata": {},
   "outputs": [],
   "source": []
  },
  {
   "cell_type": "code",
   "execution_count": null,
   "metadata": {},
   "outputs": [],
   "source": []
  },
  {
   "cell_type": "markdown",
   "metadata": {},
   "source": [
    "# Can we try to estimate that upper block?"
   ]
  },
  {
   "cell_type": "code",
   "execution_count": 86,
   "metadata": {},
   "outputs": [],
   "source": [
    "bool_dict = vb_params_paragami.empty_bool(False)\n",
    "bool_dict['cluster_params']['centroids'][:, which_k] = True\n",
    "bool_dict['cluster_params']['cluster_info'][which_k] = True\n",
    "\n",
    "_which_k = which_k[:-1]\n",
    "_which_k = _which_k[_which_k != (k_approx - 1)]\n",
    "bool_dict['stick_params']['stick_propn_mean'][_which_k] = True\n",
    "bool_dict['stick_params']['stick_propn_info'][_which_k] = True"
   ]
  },
  {
   "cell_type": "code",
   "execution_count": 87,
   "metadata": {},
   "outputs": [],
   "source": [
    "indx2 = vb_params_paragami.flat_indices(bool_dict, free = True)"
   ]
  },
  {
   "cell_type": "code",
   "execution_count": 88,
   "metadata": {
    "scrolled": true
   },
   "outputs": [],
   "source": [
    "vb_params_dict = vb_params_paragami.fold(vb_opt, free = True)"
   ]
  },
  {
   "cell_type": "code",
   "execution_count": 89,
   "metadata": {},
   "outputs": [],
   "source": [
    "# get vb parameters\n",
    "sub_vb_params_dict, sub_vb_params_paragami = gmm_lib.get_vb_params_paragami_object(features.shape[1], k_large)"
   ]
  },
  {
   "cell_type": "code",
   "execution_count": 90,
   "metadata": {},
   "outputs": [],
   "source": [
    "which_k_sorted = np.sort(which_k)\n",
    "_which_k_sorted = np.sort(_which_k)"
   ]
  },
  {
   "cell_type": "code",
   "execution_count": 91,
   "metadata": {},
   "outputs": [
    {
     "data": {
      "text/plain": [
       "array([0, 1, 2, 4])"
      ]
     },
     "execution_count": 91,
     "metadata": {},
     "output_type": "execute_result"
    }
   ],
   "source": [
    "_which_k_sorted"
   ]
  },
  {
   "cell_type": "code",
   "execution_count": 92,
   "metadata": {},
   "outputs": [],
   "source": [
    "sub_vb_params_dict['cluster_params']['centroids'] = \\\n",
    "    vb_params_dict['cluster_params']['centroids'][:, which_k_sorted]\n",
    "sub_vb_params_dict['cluster_params']['cluster_info'] = \\\n",
    "    vb_params_dict['cluster_params']['cluster_info'][which_k_sorted]\n",
    "\n",
    "sub_vb_params_dict['stick_params']['stick_propn_mean'] = \\\n",
    "    vb_params_dict['stick_params']['stick_propn_mean'][_which_k_sorted]\n",
    "sub_vb_params_dict['stick_params']['stick_propn_info'] = \\\n",
    "    vb_params_dict['stick_params']['stick_propn_info'][_which_k_sorted]"
   ]
  },
  {
   "cell_type": "code",
   "execution_count": 93,
   "metadata": {},
   "outputs": [],
   "source": [
    "sub_vb_params_free = sub_vb_params_paragami.flatten(sub_vb_params_dict, free = True)"
   ]
  },
  {
   "cell_type": "code",
   "execution_count": 94,
   "metadata": {},
   "outputs": [
    {
     "data": {
      "text/plain": [
       "4.440892098500626e-16"
      ]
     },
     "execution_count": 94,
     "metadata": {},
     "output_type": "execute_result"
    }
   ],
   "source": [
    "np.abs(sub_vb_params_free - vb_opt[indx2]).max()"
   ]
  },
  {
   "cell_type": "code",
   "execution_count": null,
   "metadata": {},
   "outputs": [],
   "source": []
  },
  {
   "cell_type": "code",
   "execution_count": null,
   "metadata": {},
   "outputs": [],
   "source": []
  },
  {
   "cell_type": "code",
   "execution_count": 95,
   "metadata": {},
   "outputs": [],
   "source": [
    "# get loss as a function of vb parameters\n",
    "get_vb_params_sub_loss = paragami.FlattenFunctionInput(\n",
    "                                original_fun=gmm_lib.get_kl, \n",
    "                                patterns = [sub_vb_params_paragami, prior_params_paragami],\n",
    "                                free = True,\n",
    "                                argnums = [1, 2])\n",
    "\n",
    "sub_objective_fun = lambda x, y : get_vb_params_sub_loss(features, x, y, gh_loc, gh_weights)"
   ]
  },
  {
   "cell_type": "code",
   "execution_count": 96,
   "metadata": {},
   "outputs": [],
   "source": [
    "sub_obj_fun_hessian = autograd.hessian(sub_objective_fun, argnum=0)"
   ]
  },
  {
   "cell_type": "code",
   "execution_count": 97,
   "metadata": {},
   "outputs": [
    {
     "data": {
      "text/plain": [
       "-126.66809229907517"
      ]
     },
     "execution_count": 97,
     "metadata": {},
     "output_type": "execute_result"
    }
   ],
   "source": [
    "sub_objective_fun(sub_vb_params_free, prior_params_free)"
   ]
  },
  {
   "cell_type": "code",
   "execution_count": 98,
   "metadata": {},
   "outputs": [
    {
     "data": {
      "text/plain": [
       "-381.27894308780753"
      ]
     },
     "execution_count": 98,
     "metadata": {},
     "output_type": "execute_result"
    }
   ],
   "source": [
    "objective_fun(vb_opt, prior_params_free)"
   ]
  },
  {
   "cell_type": "code",
   "execution_count": 99,
   "metadata": {},
   "outputs": [
    {
     "name": "stdout",
     "output_type": "stream",
     "text": [
      "hessian time: 0.741sec\n"
     ]
    }
   ],
   "source": [
    "t0 = time.time()\n",
    "sub_hess = sub_obj_fun_hessian(sub_vb_params_free, prior_params_free)\n",
    "print('hessian time: {:0.3}sec'.format(time.time() - t0))"
   ]
  },
  {
   "cell_type": "code",
   "execution_count": 100,
   "metadata": {},
   "outputs": [
    {
     "data": {
      "text/plain": [
       "(array([ 2.,  0.,  0.,  1.,  2.,  0.,  0.,  3., 67.,  3.]),\n",
       " array([-213.92611336, -188.94519991, -163.96428645, -138.983373  ,\n",
       "        -114.00245954,  -89.02154608,  -64.04063263,  -39.05971917,\n",
       "         -14.07880572,   10.90210774,   35.8830212 ]),\n",
       " <a list of 10 Patch objects>)"
      ]
     },
     "execution_count": 100,
     "metadata": {},
     "output_type": "execute_result"
    },
    {
     "data": {
      "image/png": "[encoded data removed]",
      "text/plain": [
       "<Figure size 432x288 with 1 Axes>"
      ]
     },
     "metadata": {
      "needs_background": "light"
     },
     "output_type": "display_data"
    }
   ],
   "source": [
    "plt.hist(np.diag(sub_hess) - np.diag(hess)[indx2])"
   ]
  },
  {
   "cell_type": "code",
   "execution_count": 101,
   "metadata": {},
   "outputs": [],
   "source": [
    "hess2 = np.zeros(hess.shape)\n",
    "\n",
    "for i in range(len(sub_hess)): \n",
    "    for j in range(len(sub_hess)): \n",
    "        hess2[indx2[i], indx2[j]] = sub_hess[i, j]\n",
    "        \n",
    "assert (hess2[indx2][:, indx2] == sub_hess).all()"
   ]
  },
  {
   "cell_type": "code",
   "execution_count": 102,
   "metadata": {},
   "outputs": [
    {
     "data": {
      "text/plain": [
       "array([[1.00409814e+02, 9.86691047e-03, 2.21848046e+01, ...,\n",
       "        0.00000000e+00, 0.00000000e+00, 0.00000000e+00],\n",
       "       [9.86691047e-03, 5.21205159e+00, 3.84948233e-01, ...,\n",
       "        0.00000000e+00, 0.00000000e+00, 0.00000000e+00],\n",
       "       [2.21848046e+01, 3.84948233e-01, 5.41320932e+02, ...,\n",
       "        0.00000000e+00, 0.00000000e+00, 0.00000000e+00],\n",
       "       ...,\n",
       "       [0.00000000e+00, 0.00000000e+00, 0.00000000e+00, ...,\n",
       "        0.00000000e+00, 0.00000000e+00, 0.00000000e+00],\n",
       "       [0.00000000e+00, 0.00000000e+00, 0.00000000e+00, ...,\n",
       "        0.00000000e+00, 0.00000000e+00, 0.00000000e+00],\n",
       "       [0.00000000e+00, 0.00000000e+00, 0.00000000e+00, ...,\n",
       "        0.00000000e+00, 0.00000000e+00, 0.00000000e+00]])"
      ]
     },
     "execution_count": 102,
     "metadata": {},
     "output_type": "execute_result"
    }
   ],
   "source": [
    "hess2"
   ]
  },
  {
   "cell_type": "code",
   "execution_count": 103,
   "metadata": {},
   "outputs": [
    {
     "data": {
      "text/plain": [
       "array([[ 1.00992997e+02,  1.42297253e-02,  2.46640109e+01, ...,\n",
       "        -0.00000000e+00, -0.00000000e+00, -0.00000000e+00],\n",
       "       [ 1.42297253e-02,  5.35869545e+00,  5.52662266e-01, ...,\n",
       "        -0.00000000e+00, -0.00000000e+00, -0.00000000e+00],\n",
       "       [ 2.46640109e+01,  5.52662266e-01,  6.41338859e+02, ...,\n",
       "        -0.00000000e+00, -0.00000000e+00, -0.00000000e+00],\n",
       "       ...,\n",
       "       [-0.00000000e+00, -0.00000000e+00, -0.00000000e+00, ...,\n",
       "         0.00000000e+00, -0.00000000e+00, -0.00000000e+00],\n",
       "       [-0.00000000e+00, -0.00000000e+00, -0.00000000e+00, ...,\n",
       "        -0.00000000e+00,  0.00000000e+00, -0.00000000e+00],\n",
       "       [-0.00000000e+00, -0.00000000e+00, -0.00000000e+00, ...,\n",
       "        -0.00000000e+00, -0.00000000e+00,  0.00000000e+00]])"
      ]
     },
     "execution_count": 103,
     "metadata": {},
     "output_type": "execute_result"
    }
   ],
   "source": [
    "hess * bin_mat"
   ]
  },
  {
   "cell_type": "code",
   "execution_count": null,
   "metadata": {},
   "outputs": [],
   "source": []
  },
  {
   "cell_type": "code",
   "execution_count": 147,
   "metadata": {},
   "outputs": [],
   "source": [
    "from bnpgmm_runjingdev.gmm_clustering_lib import get_optimal_z"
   ]
  },
  {
   "cell_type": "code",
   "execution_count": 148,
   "metadata": {},
   "outputs": [],
   "source": [
    "def get_loglik(y, vb_params_dict, use_bnp_prior = True, e_z = None): \n",
    "    stick_propn_mean = vb_params_dict['stick_params']['stick_propn_mean']\n",
    "    stick_propn_info = vb_params_dict['stick_params']['stick_propn_info']\n",
    "    centroids = vb_params_dict['cluster_params']['centroids']\n",
    "    cluster_info = vb_params_dict['cluster_params']['cluster_info']\n",
    "\n",
    "    # get optimal cluster belongings\n",
    "    e_z_opt, loglik_obs_by_nk = \\\n",
    "            get_optimal_z(y, stick_propn_mean, stick_propn_info, centroids, cluster_info,\n",
    "                            gh_loc, gh_weights, use_bnp_prior=use_bnp_prior)\n",
    "    \n",
    "    if e_z is None: \n",
    "        e_z = e_z_opt\n",
    "    \n",
    "    e_loglik_obs = np.sum((e_z * loglik_obs_by_nk))\n",
    "    \n",
    "    return e_loglik_obs, e_z_opt"
   ]
  },
  {
   "cell_type": "code",
   "execution_count": 149,
   "metadata": {},
   "outputs": [],
   "source": [
    "sub_e_z_opt = get_loglik(features, sub_vb_params_dict, use_bnp_prior=False)[1]\n",
    "e_z_opt = get_loglik(features, \n",
    "                        vb_params_paragami.fold(vb_opt, free = True), \n",
    "                        use_bnp_prior=False)[1]"
   ]
  },
  {
   "cell_type": "code",
   "execution_count": 150,
   "metadata": {
    "scrolled": true
   },
   "outputs": [
    {
     "name": "stdout",
     "output_type": "stream",
     "text": [
      "337.00827203796234\n"
     ]
    }
   ],
   "source": [
    "_sub_e_z_opt = e_z_opt[:, which_k_sorted]\n",
    "\n",
    "e_loglik_obs, _ = get_loglik(features, sub_vb_params_dict, use_bnp_prior=False, e_z = _sub_e_z_opt)\n",
    "print(e_loglik_obs)"
   ]
  },
  {
   "cell_type": "code",
   "execution_count": 151,
   "metadata": {},
   "outputs": [
    {
     "name": "stdout",
     "output_type": "stream",
     "text": [
      "375.21542504620356\n"
     ]
    }
   ],
   "source": [
    "# _e_z = np.zeros(e_z_opt.shape)\n",
    "\n",
    "# _e_z[:, which_k_sorted] = e_z_opt[:, which_k_sorted]\n",
    "\n",
    "e_loglik_obs, _ = get_loglik(features, \n",
    "                               vb_params_paragami.fold(vb_opt, free = True), \n",
    "                              e_z = e_z_opt, \n",
    "                              use_bnp_prior=False)\n",
    "print(e_loglik_obs)"
   ]
  },
  {
   "cell_type": "code",
   "execution_count": 152,
   "metadata": {},
   "outputs": [
    {
     "data": {
      "text/plain": [
       "array([0, 0, 0, 0, 0, 0, 0, 0, 0, 0, 0, 0, 0, 0, 0, 0, 0, 0, 0, 0, 0, 0,\n",
       "       0, 0, 0, 0, 0, 0, 0, 0, 0, 0, 0, 0, 0, 0, 0, 0, 0, 0, 0, 0, 0, 0,\n",
       "       0, 0, 0, 0, 0, 0, 0, 0, 0, 0, 0, 0, 0, 0, 0, 0, 0, 0, 0, 0, 0, 0,\n",
       "       0, 0, 0, 0, 0, 0, 0, 0, 0, 0, 0, 0, 0, 0, 0, 0, 0, 0, 0, 0, 0, 0,\n",
       "       0, 0, 0, 0, 0, 0, 0, 0, 0, 0, 0, 0, 0, 0, 0, 0, 0, 0, 0, 0, 0, 0,\n",
       "       0, 0, 0, 0, 0, 0, 0, 0, 0, 0, 0, 0, 0, 0, 0, 0, 0, 0, 0, 0, 0, 0,\n",
       "       0, 0, 0, 0, 0, 0, 0, 0, 0, 0, 0, 0, 0, 0, 0, 0, 0, 0])"
      ]
     },
     "execution_count": 152,
     "metadata": {},
     "output_type": "execute_result"
    }
   ],
   "source": [
    "sub_e_z_opt.argmax(1) - e_z_opt[:, which_k_sorted].argmax(1)"
   ]
  },
  {
   "cell_type": "code",
   "execution_count": 153,
   "metadata": {},
   "outputs": [
    {
     "data": {
      "text/plain": [
       "(array([90.,  8.,  3.,  4.,  1.,  8.,  8.,  9., 14.,  5.]),\n",
       " array([1.62092562e-14, 5.29000848e-02, 1.05800170e-01, 1.58700254e-01,\n",
       "        2.11600339e-01, 2.64500424e-01, 3.17400509e-01, 3.70300593e-01,\n",
       "        4.23200678e-01, 4.76100763e-01, 5.29000848e-01]),\n",
       " <a list of 10 Patch objects>)"
      ]
     },
     "execution_count": 153,
     "metadata": {},
     "output_type": "execute_result"
    },
    {
     "data": {
      "image/png": "[encoded data removed]",
      "text/plain": [
       "<Figure size 432x288 with 1 Axes>"
      ]
     },
     "metadata": {
      "needs_background": "light"
     },
     "output_type": "display_data"
    }
   ],
   "source": [
    "plt.hist(sub_e_z_opt.max(1) - e_z_opt[:, which_k_sorted].max(1))"
   ]
  },
  {
   "cell_type": "code",
   "execution_count": 154,
   "metadata": {},
   "outputs": [
    {
     "data": {
      "text/plain": [
       "array([], shape=(0, 1), dtype=int64)"
      ]
     },
     "execution_count": 154,
     "metadata": {},
     "output_type": "execute_result"
    }
   ],
   "source": [
    "np.argwhere(((sub_e_z_opt.max(1) - e_z_opt[:, which_k_sorted].max(1))) > 0.6)"
   ]
  },
  {
   "cell_type": "code",
   "execution_count": 155,
   "metadata": {},
   "outputs": [
    {
     "data": {
      "text/plain": [
       "(150, 5)"
      ]
     },
     "execution_count": 155,
     "metadata": {},
     "output_type": "execute_result"
    }
   ],
   "source": [
    "sub_e_z_opt.shape"
   ]
  },
  {
   "cell_type": "code",
   "execution_count": 156,
   "metadata": {},
   "outputs": [],
   "source": [
    "# get loss as a function of vb parameters\n",
    "sub_get_loglik_flat = paragami.FlattenFunctionInput(\n",
    "                                original_fun=get_loglik, \n",
    "                                patterns = sub_vb_params_paragami,\n",
    "                                free = True,\n",
    "                                argnums = 1)\n",
    "\n",
    "foo = lambda x : sub_get_loglik_flat(features, x, use_bnp_prior = False, e_z = _sub_e_z_opt)[0]\n",
    "sub_loglik_grad = autograd.grad(foo)\n",
    "sub_loglik_hess = autograd.hessian(foo)\n",
    "grad_sll = sub_loglik_grad(sub_vb_params_paragami.flatten(sub_vb_params_dict, free = True))\n",
    "hess_sll = sub_loglik_hess(sub_vb_params_paragami.flatten(sub_vb_params_dict, free = True))"
   ]
  },
  {
   "cell_type": "code",
   "execution_count": 157,
   "metadata": {},
   "outputs": [],
   "source": [
    "# get loss as a function of vb parameters\n",
    "get_loglik_flat = paragami.FlattenFunctionInput(\n",
    "                                original_fun=get_loglik, \n",
    "                                patterns = vb_params_paragami,\n",
    "                                free = True,\n",
    "                                argnums = 1)\n",
    "\n",
    "foo2 = lambda x : get_loglik_flat(features, x, use_bnp_prior = False, e_z = e_z_opt)[0]\n",
    "loglik_grad = autograd.grad(foo2)\n",
    "loglik_hess = autograd.hessian(foo2)\n",
    "grad_ll = loglik_grad(vb_opt)\n",
    "hess_ll = loglik_hess(vb_opt)"
   ]
  },
  {
   "cell_type": "code",
   "execution_count": 160,
   "metadata": {},
   "outputs": [
    {
     "data": {
      "text/plain": [
       "array([ 0.00000000e+00,  0.00000000e+00,  0.00000000e+00,  0.00000000e+00,\n",
       "        0.00000000e+00,  0.00000000e+00,  0.00000000e+00,  2.84217094e-14,\n",
       "        0.00000000e+00,  0.00000000e+00,  0.00000000e+00,  0.00000000e+00,\n",
       "        0.00000000e+00,  0.00000000e+00,  2.27373675e-13,  0.00000000e+00,\n",
       "        0.00000000e+00, -3.55271368e-14,  0.00000000e+00, -1.13686838e-13,\n",
       "        0.00000000e+00,  0.00000000e+00,  0.00000000e+00,  0.00000000e+00,\n",
       "       -2.22044605e-16,  0.00000000e+00,  0.00000000e+00,  0.00000000e+00,\n",
       "        0.00000000e+00,  0.00000000e+00,  0.00000000e+00,  0.00000000e+00,\n",
       "        0.00000000e+00,  0.00000000e+00,  0.00000000e+00,  0.00000000e+00,\n",
       "        0.00000000e+00,  0.00000000e+00,  0.00000000e+00,  0.00000000e+00,\n",
       "       -1.15463195e-14, -4.44089210e-15, -5.32907052e-15,  7.99360578e-15,\n",
       "        7.10542736e-15, -5.32907052e-15,  8.65973959e-15, -8.88178420e-16,\n",
       "       -1.42108547e-14,  1.95399252e-14,  0.00000000e+00,  0.00000000e+00,\n",
       "        0.00000000e+00,  0.00000000e+00,  0.00000000e+00,  0.00000000e+00,\n",
       "        0.00000000e+00,  0.00000000e+00,  0.00000000e+00,  0.00000000e+00,\n",
       "        0.00000000e+00,  0.00000000e+00, -4.44089210e-16, -1.00891517e-14,\n",
       "       -3.99680289e-15, -1.56319402e-13, -1.59872116e-14,  2.66453526e-15,\n",
       "        4.54081217e-14,  0.00000000e+00,  0.00000000e+00,  0.00000000e+00,\n",
       "        0.00000000e+00,  0.00000000e+00,  0.00000000e+00,  0.00000000e+00,\n",
       "        0.00000000e+00,  0.00000000e+00])"
      ]
     },
     "execution_count": 160,
     "metadata": {},
     "output_type": "execute_result"
    }
   ],
   "source": [
    "grad_sll - grad_ll[indx2]"
   ]
  },
  {
   "cell_type": "code",
   "execution_count": 161,
   "metadata": {},
   "outputs": [
    {
     "data": {
      "text/plain": [
       "(array([ 1.,  0.,  0.,  4., 69.,  0.,  2.,  0.,  0.,  2.]),\n",
       " array([-1.13686838e-13, -8.52651283e-14, -5.68434189e-14, -2.84217094e-14,\n",
       "         0.00000000e+00,  2.84217094e-14,  5.68434189e-14,  8.52651283e-14,\n",
       "         1.13686838e-13,  1.42108547e-13,  1.70530257e-13]),\n",
       " <a list of 10 Patch objects>)"
      ]
     },
     "execution_count": 161,
     "metadata": {},
     "output_type": "execute_result"
    },
    {
     "data": {
      "image/png": "[encoded data removed]",
      "text/plain": [
       "<Figure size 432x288 with 1 Axes>"
      ]
     },
     "metadata": {
      "needs_background": "light"
     },
     "output_type": "display_data"
    }
   ],
   "source": [
    "plt.hist(np.diag(hess_ll[indx2][:, indx2]) - np.diag(hess_sll))"
   ]
  },
  {
   "cell_type": "code",
   "execution_count": 162,
   "metadata": {},
   "outputs": [
    {
     "data": {
      "text/plain": [
       "2.2737367544323206e-13"
      ]
     },
     "execution_count": 162,
     "metadata": {},
     "output_type": "execute_result"
    }
   ],
   "source": [
    "np.abs((hess_ll[indx2][:, indx2] - hess_sll)).max()"
   ]
  },
  {
   "cell_type": "code",
   "execution_count": null,
   "metadata": {},
   "outputs": [],
   "source": []
  },
  {
   "cell_type": "code",
   "execution_count": 163,
   "metadata": {
    "scrolled": true
   },
   "outputs": [
    {
     "data": {
      "text/plain": [
       "OrderedDict([('cluster_params',\n",
       "              OrderedDict([('centroids',\n",
       "                            array([[ 1.16313155, -0.02150019,  0.25544444, -0.02071894, -0.82091444],\n",
       "                                   [-0.08765782, -0.05246385, -0.2004299 , -0.05050459,  0.36339402],\n",
       "                                   [ 2.00610334,  0.03744237,  0.94647791,  0.03601869, -2.25097209],\n",
       "                                   [ 0.63430419,  0.00945036,  0.43550995,  0.00910862, -0.93463596]])),\n",
       "                           ('cluster_info',\n",
       "                            array([[[ 7.70463592e+00, -2.41924196e+00, -4.20328414e+00,\n",
       "                                     -1.89306002e+00],\n",
       "                                    [-2.41924196e+00,  7.22890149e+00,  1.06607730e+00,\n",
       "                                     -4.95189068e-01],\n",
       "                                    [-4.20328414e+00,  1.06607730e+00,  4.83693443e+00,\n",
       "                                     -2.28562321e+00],\n",
       "                                    [-1.89306002e+00, -4.95189068e-01, -2.28562321e+00,\n",
       "                                      1.22777673e+01]],\n",
       "                            \n",
       "                                   [[ 5.05567956e+00, -5.55343991e-02, -5.34468000e-02,\n",
       "                                     -3.27275800e-03],\n",
       "                                    [-5.55343991e-02,  5.02678470e+00,  2.62265596e-02,\n",
       "                                     -1.25545565e-02],\n",
       "                                    [-5.34468000e-02,  2.62265596e-02,  4.98393819e+00,\n",
       "                                     -5.16554026e-02],\n",
       "                                    [-3.27275800e-03, -1.25545565e-02, -5.16554026e-02,\n",
       "                                      5.15797819e+00]],\n",
       "                            \n",
       "                                   [[ 8.28474114e+00, -3.77840522e+00, -5.13031820e+00,\n",
       "                                      2.92884141e+00],\n",
       "                                    [-3.77840522e+00,  1.56117223e+01,  2.89512415e-01,\n",
       "                                     -4.19313829e+00],\n",
       "                                    [-5.13031820e+00,  2.89512415e-01,  1.13795918e+01,\n",
       "                                     -1.20116335e+01],\n",
       "                                    [ 2.92884141e+00, -4.19313829e+00, -1.20116335e+01,\n",
       "                                      2.11874909e+01]],\n",
       "                            \n",
       "                                   [[ 5.05337996e+00, -5.34200598e-02, -5.12063624e-02,\n",
       "                                     -3.16801566e-03],\n",
       "                                    [-5.34200598e-02,  5.02548937e+00,  2.52021744e-02,\n",
       "                                     -1.19752593e-02],\n",
       "                                    [-5.12063624e-02,  2.52021744e-02,  4.98450853e+00,\n",
       "                                     -4.94748050e-02],\n",
       "                                    [-3.16801566e-03, -1.19752593e-02, -4.94748050e-02,\n",
       "                                      5.15136537e+00]],\n",
       "                            \n",
       "                                   [[ 1.33402666e+01, -7.53318863e+00, -4.11525571e+00,\n",
       "                                     -2.59345913e+00],\n",
       "                                    [-7.53318863e+00,  1.10071256e+01,  2.80600195e+00,\n",
       "                                      6.78648221e-01],\n",
       "                                    [-4.11525571e+00,  2.80600195e+00,  1.18916721e+01,\n",
       "                                     -9.87976268e+00],\n",
       "                                    [-2.59345913e+00,  6.78648221e-01, -9.87976268e+00,\n",
       "                                      3.38388930e+01]]]))])),\n",
       "             ('stick_params',\n",
       "              OrderedDict([('stick_propn_mean',\n",
       "                            array([-2.06333032, -5.15088168,  0.44715298,  2.85506997])),\n",
       "                           ('stick_propn_info',\n",
       "                            array([15.59357988,  1.17419722, 32.38837187,  3.10084522]))]))])"
      ]
     },
     "execution_count": 163,
     "metadata": {},
     "output_type": "execute_result"
    }
   ],
   "source": [
    "sub_vb_params_paragami.fold(sub_vb_params_paragami.flatten(sub_vb_params_dict, free = True), \n",
    "                            free = True, validate_value=None)"
   ]
  },
  {
   "cell_type": "code",
   "execution_count": 164,
   "metadata": {
    "scrolled": true
   },
   "outputs": [
    {
     "data": {
      "text/plain": [
       "OrderedDict([('cluster_params',\n",
       "              OrderedDict([('centroids',\n",
       "                            array([[ 1.16313155, -0.02150019,  0.25544444, -0.02071894, -0.82091444],\n",
       "                                   [-0.08765782, -0.05246385, -0.2004299 , -0.05050459,  0.36339402],\n",
       "                                   [ 2.00610334,  0.03744237,  0.94647791,  0.03601869, -2.25097209],\n",
       "                                   [ 0.63430419,  0.00945036,  0.43550995,  0.00910862, -0.93463596]])),\n",
       "                           ('cluster_info',\n",
       "                            array([[[ 7.70463592e+00, -2.41924196e+00, -4.20328414e+00,\n",
       "                                     -1.89306002e+00],\n",
       "                                    [-2.41924196e+00,  7.22890149e+00,  1.06607730e+00,\n",
       "                                     -4.95189068e-01],\n",
       "                                    [-4.20328414e+00,  1.06607730e+00,  4.83693443e+00,\n",
       "                                     -2.28562321e+00],\n",
       "                                    [-1.89306002e+00, -4.95189068e-01, -2.28562321e+00,\n",
       "                                      1.22777673e+01]],\n",
       "                            \n",
       "                                   [[ 5.05567956e+00, -5.55343991e-02, -5.34468000e-02,\n",
       "                                     -3.27275800e-03],\n",
       "                                    [-5.55343991e-02,  5.02678470e+00,  2.62265596e-02,\n",
       "                                     -1.25545565e-02],\n",
       "                                    [-5.34468000e-02,  2.62265596e-02,  4.98393819e+00,\n",
       "                                     -5.16554026e-02],\n",
       "                                    [-3.27275800e-03, -1.25545565e-02, -5.16554026e-02,\n",
       "                                      5.15797819e+00]],\n",
       "                            \n",
       "                                   [[ 8.28474114e+00, -3.77840522e+00, -5.13031820e+00,\n",
       "                                      2.92884141e+00],\n",
       "                                    [-3.77840522e+00,  1.56117223e+01,  2.89512415e-01,\n",
       "                                     -4.19313829e+00],\n",
       "                                    [-5.13031820e+00,  2.89512415e-01,  1.13795918e+01,\n",
       "                                     -1.20116335e+01],\n",
       "                                    [ 2.92884141e+00, -4.19313829e+00, -1.20116335e+01,\n",
       "                                      2.11874909e+01]],\n",
       "                            \n",
       "                                   [[ 5.05337996e+00, -5.34200598e-02, -5.12063624e-02,\n",
       "                                     -3.16801566e-03],\n",
       "                                    [-5.34200598e-02,  5.02548937e+00,  2.52021744e-02,\n",
       "                                     -1.19752593e-02],\n",
       "                                    [-5.12063624e-02,  2.52021744e-02,  4.98450853e+00,\n",
       "                                     -4.94748050e-02],\n",
       "                                    [-3.16801566e-03, -1.19752593e-02, -4.94748050e-02,\n",
       "                                      5.15136537e+00]],\n",
       "                            \n",
       "                                   [[ 1.33402666e+01, -7.53318863e+00, -4.11525571e+00,\n",
       "                                     -2.59345913e+00],\n",
       "                                    [-7.53318863e+00,  1.10071256e+01,  2.80600195e+00,\n",
       "                                      6.78648221e-01],\n",
       "                                    [-4.11525571e+00,  2.80600195e+00,  1.18916721e+01,\n",
       "                                     -9.87976268e+00],\n",
       "                                    [-2.59345913e+00,  6.78648221e-01, -9.87976268e+00,\n",
       "                                      3.38388930e+01]]]))])),\n",
       "             ('stick_params',\n",
       "              OrderedDict([('stick_propn_mean',\n",
       "                            array([-2.06333032, -5.15088168,  0.44715298,  2.85506997])),\n",
       "                           ('stick_propn_info',\n",
       "                            array([15.59357988,  1.17419722, 32.38837187,  3.10084522]))]))])"
      ]
     },
     "execution_count": 164,
     "metadata": {},
     "output_type": "execute_result"
    }
   ],
   "source": [
    "sub_vb_params_paragami.fold(vb_opt[indx2], \n",
    "                            free = True, validate_value=None)"
   ]
  },
  {
   "cell_type": "code",
   "execution_count": null,
   "metadata": {},
   "outputs": [],
   "source": []
  },
  {
   "cell_type": "code",
   "execution_count": null,
   "metadata": {},
   "outputs": [],
   "source": []
  },
  {
   "cell_type": "code",
   "execution_count": 165,
   "metadata": {},
   "outputs": [
    {
     "data": {
      "text/plain": [
       "OrderedDict([('cluster_params',\n",
       "              OrderedDict([('centroids',\n",
       "                            array([[ -183.41366214,    -8.75904606,  -302.87690314,    -8.69222775,\n",
       "                                     -667.01149674],\n",
       "                                   [ -172.0885072 ,    -8.70898526,  -570.73962975,    -8.64425365,\n",
       "                                     -550.35476484],\n",
       "                                   [ -115.1462399 ,    -8.63475299,  -416.01970138,    -8.57376324,\n",
       "                                     -594.5819678 ],\n",
       "                                   [ -292.27990553,    -8.93628008,  -774.58082408,    -8.86077068,\n",
       "                                    -1691.93999311]])),\n",
       "                           ('cluster_info',\n",
       "                            array([[[ 0.00000000e+00,  0.00000000e+00,  0.00000000e+00,\n",
       "                                      0.00000000e+00],\n",
       "                                    [ 0.00000000e+00,  8.52603622e+00,  3.04470828e+01,\n",
       "                                      6.63590252e+00],\n",
       "                                    [ 0.00000000e+00,  3.04470828e+01,  2.17457405e+02,\n",
       "                                      4.73945615e+01],\n",
       "                                    [ 0.00000000e+00,  6.63590252e+00,  4.73945615e+01,\n",
       "                                      1.54943755e+01]],\n",
       "                            \n",
       "                                   [[ 5.64751448e-04, -7.34364089e-03, -1.54249651e-02,\n",
       "                                     -2.77228304e-03],\n",
       "                                    [-7.34364089e-03,  9.75050788e-02,  1.71451008e-01,\n",
       "                                      3.08143791e-02],\n",
       "                                    [-1.54249651e-02,  1.71451008e-01,  8.42601623e-01,\n",
       "                                      1.51254850e-01],\n",
       "                                    [-2.77228304e-03,  3.08143791e-02,  1.51254850e-01,\n",
       "                                      1.30949090e-01]],\n",
       "                            \n",
       "                                   [[ 0.00000000e+00,  0.00000000e+00,  0.00000000e+00,\n",
       "                                      0.00000000e+00],\n",
       "                                    [ 0.00000000e+00,  1.15437530e+01,  5.88642890e+01,\n",
       "                                      2.83947462e+01],\n",
       "                                    [ 0.00000000e+00,  5.88642890e+01,  6.00325476e+02,\n",
       "                                      2.89582866e+02],\n",
       "                                    [ 0.00000000e+00,  2.83947462e+01,  2.89582866e+02,\n",
       "                                      2.09531929e+02]],\n",
       "                            \n",
       "                                   [[ 5.96922442e-04, -7.52518928e-03, -1.57678600e-02,\n",
       "                                     -2.82582740e-03],\n",
       "                                    [-7.52518928e-03,  9.69250046e-02,  1.69504881e-01,\n",
       "                                      3.03777137e-02],\n",
       "                                    [-1.57678600e-02,  1.69504881e-01,  8.33026803e-01,\n",
       "                                      1.49101935e-01],\n",
       "                                    [-2.82582740e-03,  3.03777137e-02,  1.49101935e-01,\n",
       "                                      1.32405172e-01]],\n",
       "                            \n",
       "                                   [[ 0.00000000e+00,  0.00000000e+00,  0.00000000e+00,\n",
       "                                      0.00000000e+00],\n",
       "                                    [ 0.00000000e+00,  4.96099752e+01,  1.11230595e+01,\n",
       "                                      3.95622778e+00],\n",
       "                                    [ 0.00000000e+00,  1.11230595e+01,  4.98780550e+00,\n",
       "                                      1.77405278e+00],\n",
       "                                    [ 0.00000000e+00,  3.95622778e+00,  1.77405278e+00,\n",
       "                                      9.46487367e-01]]]))])),\n",
       "             ('stick_params',\n",
       "              OrderedDict([('stick_propn_mean', array([0., 0., 0., 0.])),\n",
       "                           ('stick_propn_info',\n",
       "                            array([1.0001, 1.0001, 1.0001, 1.0001]))]))])"
      ]
     },
     "execution_count": 165,
     "metadata": {},
     "output_type": "execute_result"
    }
   ],
   "source": [
    "sub_vb_params_paragami.fold(np.diag(hess_sll), free = True, validate_value=None)"
   ]
  },
  {
   "cell_type": "code",
   "execution_count": 166,
   "metadata": {},
   "outputs": [
    {
     "data": {
      "text/plain": [
       "OrderedDict([('cluster_params',\n",
       "              OrderedDict([('centroids',\n",
       "                            array([[ -183.41366214,    -8.75904606,  -302.87690314,    -8.69222775,\n",
       "                                     -667.01149674],\n",
       "                                   [ -172.0885072 ,    -8.70898526,  -570.73962975,    -8.64425365,\n",
       "                                     -550.35476484],\n",
       "                                   [ -115.1462399 ,    -8.63475299,  -416.01970138,    -8.57376324,\n",
       "                                     -594.5819678 ],\n",
       "                                   [ -292.27990553,    -8.93628008,  -774.58082408,    -8.86077068,\n",
       "                                    -1691.93999311]])),\n",
       "                           ('cluster_info',\n",
       "                            array([[[ 0.00000000e+00,  0.00000000e+00,  0.00000000e+00,\n",
       "                                      0.00000000e+00],\n",
       "                                    [ 0.00000000e+00,  8.52603622e+00,  3.04470828e+01,\n",
       "                                      6.63590252e+00],\n",
       "                                    [ 0.00000000e+00,  3.04470828e+01,  2.17457405e+02,\n",
       "                                      4.73945615e+01],\n",
       "                                    [ 0.00000000e+00,  6.63590252e+00,  4.73945615e+01,\n",
       "                                      1.54943755e+01]],\n",
       "                            \n",
       "                                   [[ 5.64751448e-04, -7.34364089e-03, -1.54249651e-02,\n",
       "                                     -2.77228304e-03],\n",
       "                                    [-7.34364089e-03,  9.75050788e-02,  1.71451008e-01,\n",
       "                                      3.08143791e-02],\n",
       "                                    [-1.54249651e-02,  1.71451008e-01,  8.42601623e-01,\n",
       "                                      1.51254850e-01],\n",
       "                                    [-2.77228304e-03,  3.08143791e-02,  1.51254850e-01,\n",
       "                                      1.30949090e-01]],\n",
       "                            \n",
       "                                   [[ 0.00000000e+00,  0.00000000e+00,  0.00000000e+00,\n",
       "                                      0.00000000e+00],\n",
       "                                    [ 0.00000000e+00,  1.15437530e+01,  5.88642890e+01,\n",
       "                                      2.83947462e+01],\n",
       "                                    [ 0.00000000e+00,  5.88642890e+01,  6.00325476e+02,\n",
       "                                      2.89582866e+02],\n",
       "                                    [ 0.00000000e+00,  2.83947462e+01,  2.89582866e+02,\n",
       "                                      2.09531929e+02]],\n",
       "                            \n",
       "                                   [[ 5.96922442e-04, -7.52518928e-03, -1.57678600e-02,\n",
       "                                     -2.82582740e-03],\n",
       "                                    [-7.52518928e-03,  9.69250046e-02,  1.69504881e-01,\n",
       "                                      3.03777137e-02],\n",
       "                                    [-1.57678600e-02,  1.69504881e-01,  8.33026803e-01,\n",
       "                                      1.49101935e-01],\n",
       "                                    [-2.82582740e-03,  3.03777137e-02,  1.49101935e-01,\n",
       "                                      1.32405172e-01]],\n",
       "                            \n",
       "                                   [[ 0.00000000e+00,  0.00000000e+00,  0.00000000e+00,\n",
       "                                      0.00000000e+00],\n",
       "                                    [ 0.00000000e+00,  4.96099752e+01,  1.11230595e+01,\n",
       "                                      3.95622778e+00],\n",
       "                                    [ 0.00000000e+00,  1.11230595e+01,  4.98780550e+00,\n",
       "                                      1.77405278e+00],\n",
       "                                    [ 0.00000000e+00,  3.95622778e+00,  1.77405278e+00,\n",
       "                                      9.46487367e-01]]]))])),\n",
       "             ('stick_params',\n",
       "              OrderedDict([('stick_propn_mean', array([0., 0., 0., 0.])),\n",
       "                           ('stick_propn_info',\n",
       "                            array([1.0001, 1.0001, 1.0001, 1.0001]))]))])"
      ]
     },
     "execution_count": 166,
     "metadata": {},
     "output_type": "execute_result"
    }
   ],
   "source": [
    "sub_vb_params_paragami.fold(np.diag(hess_ll[indx2][:, indx2]), free = True, validate_value = None)"
   ]
  },
  {
   "cell_type": "code",
   "execution_count": null,
   "metadata": {},
   "outputs": [],
   "source": []
  },
  {
   "cell_type": "code",
   "execution_count": null,
   "metadata": {},
   "outputs": [],
   "source": []
  },
  {
   "cell_type": "code",
   "execution_count": 438,
   "metadata": {},
   "outputs": [],
   "source": [
    "foooo = sub_loglik_hess(vb_opt[indx2])"
   ]
  },
  {
   "cell_type": "code",
   "execution_count": 439,
   "metadata": {},
   "outputs": [
    {
     "data": {
      "text/plain": [
       "2.2737367544323206e-13"
      ]
     },
     "execution_count": 439,
     "metadata": {},
     "output_type": "execute_result"
    }
   ],
   "source": [
    "np.abs(hess_sll - foooo).max()"
   ]
  },
  {
   "cell_type": "code",
   "execution_count": null,
   "metadata": {},
   "outputs": [],
   "source": []
  },
  {
   "cell_type": "code",
   "execution_count": null,
   "metadata": {},
   "outputs": [],
   "source": []
  },
  {
   "cell_type": "code",
   "execution_count": 440,
   "metadata": {},
   "outputs": [
    {
     "data": {
      "text/plain": [
       "10.237272764533945"
      ]
     },
     "execution_count": 440,
     "metadata": {},
     "output_type": "execute_result"
    }
   ],
   "source": [
    "np.abs((hess * (1 - bin_mat))).max()"
   ]
  },
  {
   "cell_type": "code",
   "execution_count": 441,
   "metadata": {},
   "outputs": [
    {
     "data": {
      "text/plain": [
       "1725.7477546185044"
      ]
     },
     "execution_count": 441,
     "metadata": {},
     "output_type": "execute_result"
    }
   ],
   "source": [
    "np.abs((hess *  bin_mat)).max()"
   ]
  },
  {
   "cell_type": "code",
   "execution_count": null,
   "metadata": {},
   "outputs": [],
   "source": []
  },
  {
   "cell_type": "code",
   "execution_count": null,
   "metadata": {},
   "outputs": [],
   "source": []
  },
  {
   "cell_type": "code",
   "execution_count": null,
   "metadata": {},
   "outputs": [],
   "source": []
  },
  {
   "cell_type": "code",
   "execution_count": null,
   "metadata": {},
   "outputs": [],
   "source": []
  },
  {
   "cell_type": "code",
   "execution_count": null,
   "metadata": {},
   "outputs": [],
   "source": []
  },
  {
   "cell_type": "code",
   "execution_count": 148,
   "metadata": {},
   "outputs": [],
   "source": [
    "A3 = np.eye(hess.shape[0]) - hess2 / est_lambda_max"
   ]
  },
  {
   "cell_type": "code",
   "execution_count": 149,
   "metadata": {},
   "outputs": [],
   "source": [
    "# get woodbury-nystrom preconditioner\n",
    "woodb_inv, C, W_inv = get_nystrom_woodbury_approx(A3, indx2)\n",
    "nystrom_precond3 = woodb_inv/est_lambda_max"
   ]
  },
  {
   "cell_type": "code",
   "execution_count": 150,
   "metadata": {},
   "outputs": [
    {
     "data": {
      "text/plain": [
       "array([[ 5.54249068e-02, -4.62997930e-05,  8.27975566e-04, ...,\n",
       "         0.00000000e+00,  0.00000000e+00,  0.00000000e+00],\n",
       "       [-4.62997930e-05,  1.89615762e-01, -4.21466500e-04, ...,\n",
       "         0.00000000e+00,  0.00000000e+00,  0.00000000e+00],\n",
       "       [ 8.27975566e-04, -4.21466500e-04,  3.97491127e-03, ...,\n",
       "         0.00000000e+00,  0.00000000e+00,  0.00000000e+00],\n",
       "       ...,\n",
       "       [ 0.00000000e+00,  0.00000000e+00,  0.00000000e+00, ...,\n",
       "         4.07975778e-04,  0.00000000e+00,  0.00000000e+00],\n",
       "       [ 0.00000000e+00,  0.00000000e+00,  0.00000000e+00, ...,\n",
       "         0.00000000e+00,  4.07975778e-04,  0.00000000e+00],\n",
       "       [ 0.00000000e+00,  0.00000000e+00,  0.00000000e+00, ...,\n",
       "         0.00000000e+00,  0.00000000e+00,  4.07975778e-04]])"
      ]
     },
     "execution_count": 150,
     "metadata": {},
     "output_type": "execute_result"
    }
   ],
   "source": [
    "nystrom_precond3"
   ]
  },
  {
   "cell_type": "code",
   "execution_count": 151,
   "metadata": {},
   "outputs": [
    {
     "data": {
      "text/plain": [
       "array([[ 5.55132415e-02, -4.54464930e-05,  8.27830042e-04, ...,\n",
       "         0.00000000e+00,  0.00000000e+00,  0.00000000e+00],\n",
       "       [-4.54464860e-05,  1.89566389e-01, -4.22365138e-04, ...,\n",
       "         0.00000000e+00,  0.00000000e+00,  0.00000000e+00],\n",
       "       [ 8.27830024e-04, -4.22365121e-04,  3.96841639e-03, ...,\n",
       "         0.00000000e+00,  0.00000000e+00,  0.00000000e+00],\n",
       "       ...,\n",
       "       [ 0.00000000e+00,  0.00000000e+00,  0.00000000e+00, ...,\n",
       "         4.07975778e-04,  0.00000000e+00,  0.00000000e+00],\n",
       "       [ 0.00000000e+00,  0.00000000e+00,  0.00000000e+00, ...,\n",
       "         0.00000000e+00,  4.07975778e-04,  0.00000000e+00],\n",
       "       [ 0.00000000e+00,  0.00000000e+00,  0.00000000e+00, ...,\n",
       "         0.00000000e+00,  0.00000000e+00,  4.07975778e-04]])"
      ]
     },
     "execution_count": 151,
     "metadata": {},
     "output_type": "execute_result"
    }
   ],
   "source": [
    "nystrom_precond2"
   ]
  },
  {
   "cell_type": "code",
   "execution_count": null,
   "metadata": {},
   "outputs": [],
   "source": []
  },
  {
   "cell_type": "code",
   "execution_count": 152,
   "metadata": {
    "scrolled": true
   },
   "outputs": [
    {
     "name": "stdout",
     "output_type": "stream",
     "text": [
      "1.1932051357473519\n",
      "8724.423999772474\n"
     ]
    }
   ],
   "source": [
    "precond_sqrt = osp.linalg.sqrtm(nystrom_precond3)\n",
    "precond_hess = np.dot(precond_sqrt, np.dot(hess, precond_sqrt))\n",
    "evals = np.linalg.eigvals(precond_hess)\n",
    "print(evals.max())\n",
    "print(evals.max() / evals.min())"
   ]
  },
  {
   "cell_type": "code",
   "execution_count": 153,
   "metadata": {},
   "outputs": [
    {
     "data": {
      "image/png": "[encoded data removed]",
      "text/plain": [
       "<Figure size 864x216 with 1 Axes>"
      ]
     },
     "metadata": {
      "needs_background": "light"
     },
     "output_type": "display_data"
    }
   ],
   "source": [
    "f, axarr = plt.subplots(1, 1, figsize=(12, 3))\n",
    "axarr.boxplot(evals, vert=False);\n",
    "axarr.set_yticks([]);\n",
    "axarr.set_title('eigenvalues of M'); "
   ]
  },
  {
   "cell_type": "code",
   "execution_count": null,
   "metadata": {},
   "outputs": [],
   "source": []
  },
  {
   "cell_type": "code",
   "execution_count": 154,
   "metadata": {},
   "outputs": [
    {
     "name": "stdout",
     "output_type": "stream",
     "text": [
      "solver time: 4.87sec\n"
     ]
    }
   ],
   "source": [
    "cg_callback = CGCallback(mat_times_vec, b)\n",
    "solver = vittles.solver_lib.get_cg_solver(mat_times_vec, \n",
    "                                            dim = len(vb_opt), \n",
    "                                            cg_opts={'M':nystrom_precond3, \n",
    "                                                     'callback':cg_callback.record_residuals, \n",
    "                                                    'x0':x0})\n",
    "    \n",
    "t0 = time.time()\n",
    "_ = -solver(b)\n",
    "print('solver time: {:0.3}sec'.format(time.time() - t0))\n",
    "path5 = cg_callback.return_path()"
   ]
  },
  {
   "cell_type": "code",
   "execution_count": 155,
   "metadata": {},
   "outputs": [
    {
     "data": {
      "text/plain": [
       "Text(0, 0.5, 'log10 residual')"
      ]
     },
     "execution_count": 155,
     "metadata": {},
     "output_type": "execute_result"
    },
    {
     "data": {
      "image/png": "[encoded data removed]",
      "text/plain": [
       "<Figure size 432x288 with 1 Axes>"
      ]
     },
     "metadata": {
      "needs_background": "light"
     },
     "output_type": "display_data"
    }
   ],
   "source": [
    "plt.plot(np.log10(path1), color = 'red', label = 'cg')\n",
    "plt.plot(np.log10(path2), color = 'blue', label = 'cg-precond-mean_field')\n",
    "plt.plot(np.log10(path3), color = 'orange', label = 'cg-precond-nystrom_wood')\n",
    "plt.plot(np.log10(path4), color = 'green', label = 'cg-precond-nystrom_wood2')\n",
    "plt.plot(np.log10(path5), color = 'cyan', label = 'cg-precond-nystrom_wood3')\n",
    "\n",
    "plt.legend()\n",
    "\n",
    "plt.xlabel('iter')\n",
    "plt.ylabel('log10 residual')"
   ]
  },
  {
   "cell_type": "code",
   "execution_count": null,
   "metadata": {},
   "outputs": [],
   "source": []
  },
  {
   "cell_type": "code",
   "execution_count": null,
   "metadata": {},
   "outputs": [],
   "source": []
  },
  {
   "cell_type": "code",
   "execution_count": null,
   "metadata": {},
   "outputs": [],
   "source": []
  },
  {
   "cell_type": "code",
   "execution_count": null,
   "metadata": {},
   "outputs": [],
   "source": []
  },
  {
   "cell_type": "code",
   "execution_count": null,
   "metadata": {},
   "outputs": [],
   "source": []
  },
  {
   "cell_type": "code",
   "execution_count": null,
   "metadata": {},
   "outputs": [],
   "source": []
  }
 ],
 "metadata": {
  "kernelspec": {
   "display_name": "bnp_sensitivity",
   "language": "python",
   "name": "bnp_sensitivity"
  },
  "language_info": {
   "codemirror_mode": {
    "name": "ipython",
    "version": 3
   },
   "file_extension": ".py",
   "mimetype": "text/x-python",
   "name": "python",
   "nbconvert_exporter": "python",
   "pygments_lexer": "ipython3",
   "version": "3.8.0"
  }
 },
 "nbformat": 4,
 "nbformat_minor": 2
}
