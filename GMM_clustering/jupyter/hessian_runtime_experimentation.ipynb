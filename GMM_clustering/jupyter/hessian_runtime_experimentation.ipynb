{
 "cells": [
  {
   "cell_type": "code",
   "execution_count": 1,
   "metadata": {},
   "outputs": [
    {
     "name": "stderr",
     "output_type": "stream",
     "text": [
      "/home/rliu/anaconda3/envs/bnp_sensitivity/lib/python3.8/site-packages/autograd/core.py:290: UserWarning: \n",
      "The defvjp method is deprecated. See the update guide and tutorial:\n",
      "https://github.com/HIPS/autograd/blob/master/docs/updateguide.md\n",
      "https://github.com/HIPS/autograd/blob/master/docs/tutorial.md\n",
      "  warnings.warn(deprecation_msg)\n"
     ]
    }
   ],
   "source": [
    "import autograd\n",
    "from autograd import numpy as np\n",
    "from autograd import scipy as sp\n",
    "\n",
    "import scipy as osp\n",
    "\n",
    "from numpy.polynomial.hermite import hermgauss\n",
    "\n",
    "np.random.seed(453453)\n",
    "\n",
    "import paragami\n",
    "\n",
    "# BNP sensitivity libraries\n",
    "import sys\n",
    "\n",
    "import bnpgmm_runjingdev.gmm_clustering_lib as gmm_lib\n",
    "import bnpgmm_runjingdev.utils_lib as utils_lib\n",
    "import bnpgmm_runjingdev.gmm_cavi_lib as cavi_lib\n",
    "import bnpgmm_runjingdev.gmm_preconditioner_lib as preconditioner_lib\n",
    "\n",
    "import bnpmodeling_runjingdev.modeling_lib as modeling_lib \n",
    "import bnpmodeling_runjingdev.cluster_quantities_lib as cluster_lib\n",
    "import bnpmodeling_runjingdev.optimization_lib as optimization_lib\n",
    "\n",
    "\n",
    "import matplotlib.pyplot as plt\n",
    "%matplotlib inline\n",
    "import matplotlib.cm as cm\n",
    "\n",
    "from sklearn.decomposition import PCA\n",
    "\n",
    "from copy import deepcopy\n",
    "\n",
    "import vittles\n",
    "\n",
    "import time \n",
    "\n",
    "import json \n",
    "\n",
    "import scipy as osp"
   ]
  },
  {
   "cell_type": "code",
   "execution_count": 2,
   "metadata": {},
   "outputs": [],
   "source": [
    "np.random.seed(53453)"
   ]
  },
  {
   "cell_type": "markdown",
   "metadata": {
    "collapsed": true
   },
   "source": [
    "# Load data"
   ]
  },
  {
   "cell_type": "code",
   "execution_count": 3,
   "metadata": {},
   "outputs": [],
   "source": [
    "# load iris data\n",
    "dataset_name = 'iris'\n",
    "features, iris_species = utils_lib.load_data()\n",
    "dim = features.shape[1]\n",
    "n_obs = len(iris_species)    "
   ]
  },
  {
   "cell_type": "code",
   "execution_count": 4,
   "metadata": {},
   "outputs": [
    {
     "data": {
      "text/plain": [
       "Text(0, 0.5, 'PC2')"
      ]
     },
     "execution_count": 4,
     "metadata": {},
     "output_type": "execute_result"
    },
    {
     "data": {
      "image/png": "[encoded data removed]",
      "text/plain": [
       "<Figure size 432x288 with 1 Axes>"
      ]
     },
     "metadata": {
      "needs_background": "light"
     },
     "output_type": "display_data"
    }
   ],
   "source": [
    "# run PCA\n",
    "pca_fit = PCA()\n",
    "pca_fit.fit(features)\n",
    "pc_features = pca_fit.transform(features)\n",
    "\n",
    "# plot\n",
    "cmap = cm.get_cmap(name='gist_rainbow')\n",
    "colors1 = [cmap(k * 50) for k in range(30)]\n",
    "\n",
    "fig1 = plt.figure(1)\n",
    "fig = fig1.add_subplot(111)\n",
    "utils_lib.plot_clusters(pc_features[:, 0], pc_features[:, 1], iris_species, colors1, fig)\n",
    "fig.set_xlabel('PC1')\n",
    "fig.set_ylabel('PC2')\n"
   ]
  },
  {
   "cell_type": "markdown",
   "metadata": {},
   "source": [
    "# Get prior"
   ]
  },
  {
   "cell_type": "code",
   "execution_count": 5,
   "metadata": {},
   "outputs": [
    {
     "name": "stdout",
     "output_type": "stream",
     "text": [
      "{'alpha': array([3.]), 'prior_centroid_mean': array([0.]), 'prior_lambda': array([1.]), 'prior_wishart_df': array([10.]), 'prior_wishart_rate': array([[1., 0., 0., 0.],\n",
      "       [0., 1., 0., 0.],\n",
      "       [0., 0., 1., 0.],\n",
      "       [0., 0., 0., 1.]])}\n"
     ]
    }
   ],
   "source": [
    "prior_params_dict, prior_params_paragami = gmm_lib.get_default_prior_params(dim)\n",
    "prior_params_dict['alpha'] = np.array([3.0])\n",
    "print(prior_params_dict)\n",
    "\n",
    "prior_params_free = prior_params_paragami.flatten(prior_params_dict, free = True)"
   ]
  },
  {
   "cell_type": "markdown",
   "metadata": {},
   "source": [
    "# Get VB params "
   ]
  },
  {
   "cell_type": "code",
   "execution_count": 6,
   "metadata": {},
   "outputs": [],
   "source": [
    "k_approx = 30"
   ]
  },
  {
   "cell_type": "code",
   "execution_count": 7,
   "metadata": {},
   "outputs": [],
   "source": [
    "gh_deg = 8\n",
    "gh_loc, gh_weights = hermgauss(gh_deg)"
   ]
  },
  {
   "cell_type": "code",
   "execution_count": 8,
   "metadata": {
    "scrolled": true
   },
   "outputs": [],
   "source": [
    "# get vb parameters\n",
    "vb_params_dict, vb_params_paragami = gmm_lib.get_vb_params_paragami_object(dim, k_approx)"
   ]
  },
  {
   "cell_type": "code",
   "execution_count": 9,
   "metadata": {},
   "outputs": [
    {
     "data": {
      "text/plain": [
       "1459.0115663552124"
      ]
     },
     "execution_count": 9,
     "metadata": {},
     "output_type": "execute_result"
    }
   ],
   "source": [
    "# the objective \n",
    "gmm_lib.get_kl(features, vb_params_dict, prior_params_dict, gh_loc, gh_weights)"
   ]
  },
  {
   "cell_type": "markdown",
   "metadata": {},
   "source": [
    "## Initialize "
   ]
  },
  {
   "cell_type": "code",
   "execution_count": 10,
   "metadata": {},
   "outputs": [
    {
     "name": "stdout",
     "output_type": "stream",
     "text": [
      "initial kl: \n",
      "6580.095037059639\n"
     ]
    }
   ],
   "source": [
    "# run a kmeans init\n",
    "n_kmeans_init = 10\n",
    "init_vb_free_params, init_vb_params_dict, init_ez = \\\n",
    "    utils_lib.cluster_and_get_k_means_inits(features, vb_params_paragami, \n",
    "                                                n_kmeans_init = n_kmeans_init, \n",
    "                                                seed = 3445)\n",
    "                                                \n",
    "print('initial kl: ')\n",
    "print(gmm_lib.get_kl(features, init_vb_params_dict, prior_params_dict, gh_loc, gh_weights))"
   ]
  },
  {
   "cell_type": "code",
   "execution_count": 11,
   "metadata": {},
   "outputs": [],
   "source": [
    "def plot_results_from_vb_params_dict(pca_fit, vb_params_dict, e_z, fig): \n",
    "    # we plot in PCA space\n",
    "    bnp_centroids_pc, bnp_cluster_covs_pc = \\\n",
    "        utils_lib.transform_params_to_pc_space(pca_fit, vb_params_dict['cluster_params']['centroids'], \n",
    "                                               np.linalg.inv(vb_params_dict['cluster_params']['cluster_info']))\n",
    "    \n",
    "    bnp_clusters = np.argmax(e_z, axis = 1)\n",
    "    \n",
    "    cmap = cm.get_cmap(name='gist_rainbow')\n",
    "    colors1 = [cmap(k * 50) for k in range(30)]\n",
    "\n",
    "    utils_lib.plot_clusters(pc_features[:, 0], pc_features[:, 1], bnp_clusters, \\\n",
    "                  colors1, fig, \\\n",
    "                  centroids = bnp_centroids_pc[:, np.unique(bnp_clusters)], \n",
    "                cov = bnp_cluster_covs_pc[np.unique(bnp_clusters)])\n"
   ]
  },
  {
   "cell_type": "code",
   "execution_count": 12,
   "metadata": {},
   "outputs": [
    {
     "data": {
      "text/plain": [
       "Text(0, 0.5, 'PC2')"
      ]
     },
     "execution_count": 12,
     "metadata": {},
     "output_type": "execute_result"
    },
    {
     "data": {
      "image/png": "[encoded data removed]",
      "text/plain": [
       "<Figure size 432x288 with 1 Axes>"
      ]
     },
     "metadata": {
      "needs_background": "light"
     },
     "output_type": "display_data"
    }
   ],
   "source": [
    "fig1 = plt.figure(1)\n",
    "fig = fig1.add_subplot(111)\n",
    "\n",
    "plot_results_from_vb_params_dict(pca_fit, init_vb_params_dict, init_ez, fig)\n",
    "fig.set_xlabel('PC1', fontsize = 18)\n",
    "fig.set_ylabel('PC2', fontsize = 18)\n"
   ]
  },
  {
   "cell_type": "code",
   "execution_count": null,
   "metadata": {},
   "outputs": [],
   "source": []
  },
  {
   "cell_type": "markdown",
   "metadata": {},
   "source": [
    "# Run CAVI"
   ]
  },
  {
   "cell_type": "code",
   "execution_count": 13,
   "metadata": {
    "scrolled": true
   },
   "outputs": [
    {
     "name": "stdout",
     "output_type": "stream",
     "text": [
      "done. num iterations = 266\n",
      "stick_time: 1.52sec\n",
      "cluster_time: 0.144sec\n",
      "e_z_time: 0.382sec\n",
      "**TOTAL time: 4.607sec**\n"
     ]
    }
   ],
   "source": [
    "vb_opt_dict, e_z_cavi = cavi_lib.run_cavi(features, vb_params_dict,\n",
    "                                            vb_params_paragami, prior_params_dict,\n",
    "                                            gh_loc, gh_weights,\n",
    "                                            debug = False)"
   ]
  },
  {
   "cell_type": "code",
   "execution_count": 14,
   "metadata": {},
   "outputs": [],
   "source": [
    "vb_opt = vb_params_paragami.flatten(vb_opt_dict, free = True)"
   ]
  },
  {
   "cell_type": "markdown",
   "metadata": {},
   "source": [
    "# Define objective"
   ]
  },
  {
   "cell_type": "code",
   "execution_count": 15,
   "metadata": {},
   "outputs": [],
   "source": [
    "# get loss as a function of vb parameters\n",
    "get_vb_params_loss = paragami.FlattenFunctionInput(\n",
    "                                original_fun=gmm_lib.get_kl, \n",
    "                                patterns = [vb_params_paragami, prior_params_paragami],\n",
    "                                free = True,\n",
    "                                argnums = [1, 2])\n",
    "\n",
    "objective_fun = lambda x, y : get_vb_params_loss(features, x, y, gh_loc, gh_weights)\n"
   ]
  },
  {
   "cell_type": "code",
   "execution_count": 16,
   "metadata": {},
   "outputs": [],
   "source": [
    "# get derivative functions\n",
    "obj_fun_grad = autograd.grad(objective_fun, argnum=0)\n",
    "obj_fun_hessian = autograd.hessian(objective_fun, argnum=0)\n",
    "obj_fun_hvp = autograd.hessian_vector_product(\n",
    "            objective_fun, argnum=0)"
   ]
  },
  {
   "cell_type": "markdown",
   "metadata": {},
   "source": [
    "# Derivative times"
   ]
  },
  {
   "cell_type": "code",
   "execution_count": 17,
   "metadata": {},
   "outputs": [
    {
     "name": "stdout",
     "output_type": "stream",
     "text": [
      "function time: 0.00919sec\n"
     ]
    }
   ],
   "source": [
    "t0 = time.time()\n",
    "loss = objective_fun(vb_opt, prior_params_free)\n",
    "print('function time: {:0.3}sec'.format(time.time() - t0))"
   ]
  },
  {
   "cell_type": "code",
   "execution_count": 18,
   "metadata": {},
   "outputs": [
    {
     "name": "stdout",
     "output_type": "stream",
     "text": [
      "gradient time: 0.059sec\n"
     ]
    }
   ],
   "source": [
    "t0 = time.time()\n",
    "grad = obj_fun_grad(vb_opt, prior_params_free)\n",
    "print('gradient time: {:0.3}sec'.format(time.time() - t0))"
   ]
  },
  {
   "cell_type": "code",
   "execution_count": 19,
   "metadata": {},
   "outputs": [],
   "source": [
    "# if its impossible, don't run the hessian\n",
    "run_hessian = True"
   ]
  },
  {
   "cell_type": "code",
   "execution_count": 20,
   "metadata": {},
   "outputs": [
    {
     "name": "stdout",
     "output_type": "stream",
     "text": [
      "hessian time: 14.0sec\n"
     ]
    }
   ],
   "source": [
    "if run_hessian: \n",
    "    t0 = time.time()\n",
    "    hess = obj_fun_hessian(vb_opt, prior_params_free)\n",
    "    print('hessian time: {:0.3}sec'.format(time.time() - t0))"
   ]
  },
  {
   "cell_type": "code",
   "execution_count": 21,
   "metadata": {},
   "outputs": [
    {
     "name": "stdout",
     "output_type": "stream",
     "text": [
      "hvp time: 0.115sec\n"
     ]
    }
   ],
   "source": [
    "t0 = time.time()\n",
    "\n",
    "x = np.zeros(len(vb_opt))# vb_opt\n",
    "x[0] = 1\n",
    "hvp = obj_fun_hvp(vb_opt, prior_params_free, x)\n",
    "print('hvp time: {:0.3}sec'.format(time.time() - t0))"
   ]
  },
  {
   "cell_type": "code",
   "execution_count": null,
   "metadata": {},
   "outputs": [],
   "source": []
  },
  {
   "cell_type": "code",
   "execution_count": 22,
   "metadata": {},
   "outputs": [],
   "source": [
    "# cross hessian \n",
    "hyper_obj_fun_grad = \\\n",
    "            autograd.grad(objective_fun, argnum=0)\n",
    "hyper_obj_cross_hess = autograd.jacobian(hyper_obj_fun_grad, argnum=1)"
   ]
  },
  {
   "cell_type": "code",
   "execution_count": 23,
   "metadata": {},
   "outputs": [
    {
     "name": "stdout",
     "output_type": "stream",
     "text": [
      "cross-hessian time: 4.34sec\n"
     ]
    }
   ],
   "source": [
    "t0 = time.time()\n",
    "cross_hess = hyper_obj_cross_hess(vb_opt, prior_params_free)\n",
    "print('cross-hessian time: {:0.3}sec'.format(time.time() - t0))"
   ]
  },
  {
   "cell_type": "markdown",
   "metadata": {},
   "source": [
    "# Solver times"
   ]
  },
  {
   "cell_type": "code",
   "execution_count": 24,
   "metadata": {},
   "outputs": [
    {
     "name": "stdout",
     "output_type": "stream",
     "text": [
      "solver time: 0.00151sec\n"
     ]
    }
   ],
   "source": [
    "if run_hessian: \n",
    "    chol_solver = vittles.solver_lib.get_cholesky_solver(hess)\n",
    "    \n",
    "    t0 = time.time()\n",
    "    dinput_dhyper = -chol_solver(cross_hess)\n",
    "    \n",
    "    print('solver time: {:0.3}sec'.format(time.time() - t0))"
   ]
  },
  {
   "cell_type": "code",
   "execution_count": 25,
   "metadata": {},
   "outputs": [
    {
     "name": "stdout",
     "output_type": "stream",
     "text": [
      "solver time: 9.15sec\n"
     ]
    }
   ],
   "source": [
    "cg_solver = vittles.solver_lib.get_cg_solver(lambda x : obj_fun_hvp(vb_opt, prior_params_free, x), \n",
    "                                            dim = len(vb_opt))\n",
    "    \n",
    "t0 = time.time()\n",
    "dinput_dhyper2 = -cg_solver(cross_hess[:, 0])\n",
    "    \n",
    "print('solver time: {:0.3}sec'.format(time.time() - t0))"
   ]
  },
  {
   "cell_type": "code",
   "execution_count": 26,
   "metadata": {},
   "outputs": [],
   "source": [
    "mfvb_preconditioner = preconditioner_lib.get_gmm_preconditioner(vb_opt, vb_params_paragami)"
   ]
  },
  {
   "cell_type": "code",
   "execution_count": 27,
   "metadata": {},
   "outputs": [
    {
     "name": "stdout",
     "output_type": "stream",
     "text": [
      "preconditioned solver time: 4.92sec\n"
     ]
    }
   ],
   "source": [
    "cg_solver_mfvb_precond = vittles.solver_lib.get_cg_solver(lambda x : obj_fun_hvp(vb_opt, prior_params_free, x), \n",
    "                                            dim = len(vb_opt), \n",
    "                                            cg_opts={'M':mfvb_preconditioner})\n",
    "    \n",
    "t0 = time.time()\n",
    "dinput_dhyper3 = -cg_solver_mfvb_precond(cross_hess[:, 0])\n",
    "    \n",
    "print('preconditioned solver time: {:0.3}sec'.format(time.time() - t0))"
   ]
  },
  {
   "cell_type": "code",
   "execution_count": null,
   "metadata": {},
   "outputs": [],
   "source": []
  },
  {
   "cell_type": "markdown",
   "metadata": {},
   "source": [
    "# Lets look at the CG solver in more detail "
   ]
  },
  {
   "cell_type": "markdown",
   "metadata": {},
   "source": [
    "### Check out eigenvalues"
   ]
  },
  {
   "cell_type": "code",
   "execution_count": 28,
   "metadata": {},
   "outputs": [],
   "source": [
    "hess_ev = np.linalg.eigvals(hess)"
   ]
  },
  {
   "cell_type": "code",
   "execution_count": 29,
   "metadata": {},
   "outputs": [
    {
     "data": {
      "image/png": "[encoded data removed]",
      "text/plain": [
       "<Figure size 432x288 with 1 Axes>"
      ]
     },
     "metadata": {
      "needs_background": "light"
     },
     "output_type": "display_data"
    }
   ],
   "source": [
    "plt.hist(hess_ev - hess_ev.min(), bins = 100);"
   ]
  },
  {
   "cell_type": "code",
   "execution_count": 30,
   "metadata": {},
   "outputs": [
    {
     "data": {
      "text/plain": [
       "3.567538391042636e-14"
      ]
     },
     "execution_count": 30,
     "metadata": {},
     "output_type": "execute_result"
    }
   ],
   "source": [
    "precond_sqrt = osp.linalg.sqrtm(mfvb_preconditioner.toarray())\n",
    "np.abs(precond_sqrt - precond_sqrt.transpose()).max()"
   ]
  },
  {
   "cell_type": "code",
   "execution_count": 31,
   "metadata": {},
   "outputs": [
    {
     "name": "stderr",
     "output_type": "stream",
     "text": [
      "/home/rliu/anaconda3/envs/bnp_sensitivity/lib/python3.8/site-packages/numpy/lib/histograms.py:854: ComplexWarning: Casting complex values to real discards the imaginary part\n",
      "  indices = f_indices.astype(np.intp)\n",
      "/home/rliu/anaconda3/envs/bnp_sensitivity/lib/python3.8/site-packages/matplotlib/transforms.py:796: ComplexWarning: Casting complex values to real discards the imaginary part\n",
      "  points = np.array(args, dtype=float).reshape(2, 2)\n",
      "/home/rliu/anaconda3/envs/bnp_sensitivity/lib/python3.8/site-packages/matplotlib/transforms.py:1959: ComplexWarning: Casting complex values to real discards the imaginary part\n",
      "  x, y = float(x), float(y)\n"
     ]
    },
    {
     "data": {
      "image/png": "[encoded data removed]",
      "text/plain": [
       "<Figure size 432x288 with 1 Axes>"
      ]
     },
     "metadata": {
      "needs_background": "light"
     },
     "output_type": "display_data"
    }
   ],
   "source": [
    "precond_hess = np.dot(precond_sqrt, np.dot(hess, precond_sqrt))\n",
    "precon_hess_ev = np.linalg.eigvals(precond_hess)\n",
    "plt.hist(precon_hess_ev - precon_hess_ev.min(), bins = 100);"
   ]
  },
  {
   "cell_type": "code",
   "execution_count": 32,
   "metadata": {},
   "outputs": [],
   "source": [
    "dim = len(vb_opt)\n",
    "mat_times_vec = lambda x : obj_fun_hvp(vb_opt, prior_params_free, x)\n",
    "linop = osp.sparse.linalg.LinearOperator((dim, dim), mat_times_vec)\n",
    "\n",
    "b = cross_hess[:, 0]"
   ]
  },
  {
   "cell_type": "markdown",
   "metadata": {},
   "source": [
    "### Check out optimization path"
   ]
  },
  {
   "cell_type": "code",
   "execution_count": 33,
   "metadata": {},
   "outputs": [],
   "source": [
    "class CGCallback(): \n",
    "    def __init__(self, mat_times_vec, b): \n",
    "        self.mat_times_vec = mat_times_vec\n",
    "        self.b = b\n",
    "        \n",
    "        self.residuals = []\n",
    "        \n",
    "    def record_residuals(self, x): \n",
    "#         e_z = gmm_lib.get_optimal_z_from_vb_params_dict(features, \n",
    "#                                        vb_params_paragami.fold(x, free = True), \n",
    "#                                        gh_loc, gh_weights)\n",
    "        \n",
    "#         e_num_clust = cluster_lib.get_e_num_clusters_from_ez(e_z)\n",
    "        \n",
    "#         self.residuals.append(e_num_clust)\n",
    "        \n",
    "#         self.residuals.append(np.linalg.norm(b - self.mat_times_vec(x)))\n",
    "\n",
    "        self.residuals.append(np.linalg.norm(-x - dinput_dhyper[:, 0]))\n",
    "        \n",
    "    def return_path(self): \n",
    "        return np.array(self.residuals)"
   ]
  },
  {
   "cell_type": "code",
   "execution_count": 34,
   "metadata": {},
   "outputs": [],
   "source": [
    "mat_times_vec = lambda x : obj_fun_hvp(vb_opt, prior_params_free, x)\n",
    "b = cross_hess[:, 0]\n",
    "cg_callback = CGCallback(mat_times_vec, b)\n",
    "\n",
    "x0 = mfvb_preconditioner.dot(b)"
   ]
  },
  {
   "cell_type": "code",
   "execution_count": 35,
   "metadata": {},
   "outputs": [
    {
     "name": "stdout",
     "output_type": "stream",
     "text": [
      "solver time: 9.63sec\n"
     ]
    }
   ],
   "source": [
    "cg_callback = CGCallback(mat_times_vec, b)\n",
    "solver = vittles.solver_lib.get_cg_solver(mat_times_vec, \n",
    "                                            dim = len(vb_opt), \n",
    "                                            cg_opts={'callback':cg_callback.record_residuals, \n",
    "                                                    'x0':x0})\n",
    "    \n",
    "t0 = time.time()\n",
    "_ = -solver(b)\n",
    "print('solver time: {:0.3}sec'.format(time.time() - t0))\n",
    "path1 = cg_callback.return_path()"
   ]
  },
  {
   "cell_type": "code",
   "execution_count": 36,
   "metadata": {},
   "outputs": [
    {
     "name": "stdout",
     "output_type": "stream",
     "text": [
      "solver time: 4.73sec\n"
     ]
    }
   ],
   "source": [
    "cg_callback = CGCallback(mat_times_vec, b)\n",
    "solver = vittles.solver_lib.get_cg_solver(mat_times_vec, \n",
    "                                            dim = len(vb_opt), \n",
    "                                            cg_opts={'M':mfvb_preconditioner, \n",
    "                                                     'callback':cg_callback.record_residuals, \n",
    "                                                    'x0':x0})\n",
    "    \n",
    "t0 = time.time()\n",
    "_ = -solver(b)\n",
    "print('solver time: {:0.3}sec'.format(time.time() - t0))\n",
    "path2 = cg_callback.return_path()"
   ]
  },
  {
   "cell_type": "code",
   "execution_count": 37,
   "metadata": {},
   "outputs": [
    {
     "data": {
      "text/plain": [
       "Text(0, 0.5, 'log10 residual')"
      ]
     },
     "execution_count": 37,
     "metadata": {},
     "output_type": "execute_result"
    },
    {
     "data": {
      "image/png": "[encoded data removed]",
      "text/plain": [
       "<Figure size 432x288 with 1 Axes>"
      ]
     },
     "metadata": {
      "needs_background": "light"
     },
     "output_type": "display_data"
    }
   ],
   "source": [
    "plt.plot(np.log10(path1), color = 'red', label = 'cg')\n",
    "plt.plot(np.log10(path2), color = 'blue', label = 'cg-precond')\n",
    "plt.legend()\n",
    "\n",
    "plt.xlabel('iter')\n",
    "plt.ylabel('log10 residual')"
   ]
  },
  {
   "cell_type": "code",
   "execution_count": null,
   "metadata": {},
   "outputs": [],
   "source": []
  },
  {
   "cell_type": "markdown",
   "metadata": {},
   "source": [
    "# Try nystrom"
   ]
  },
  {
   "cell_type": "code",
   "execution_count": 38,
   "metadata": {},
   "outputs": [],
   "source": [
    "def taylor_expand_matrix_inverse(mat_vec, v, max_eval, max_iter):\n",
    "    \n",
    "    t_power = deepcopy(v)\n",
    "    x_inv_v = deepcopy(v)\n",
    "    \n",
    "    for i in range(max_iter): \n",
    "        t_power = t_power - mat_vec(t_power) / (max_eval + 1)\n",
    "        x_inv_v += t_power\n",
    "    \n",
    "    return x_inv_v / (max_eval + 1)"
   ]
  },
  {
   "cell_type": "code",
   "execution_count": 39,
   "metadata": {},
   "outputs": [
    {
     "name": "stdout",
     "output_type": "stream",
     "text": [
      "[0.99998116 0.99998158 0.99998168]\n"
     ]
    }
   ],
   "source": [
    "# a quick test \n",
    "dim = 3\n",
    "_a = np.random.randn(dim, dim)\n",
    "a = np.dot(_a, _a.transpose())\n",
    "\n",
    "mat_vec = lambda x: np.dot(a, x)\n",
    "\n",
    "max_eval = np.linalg.eigvals(a).max()\n",
    "\n",
    "v = np.random.randn(dim)\n",
    "\n",
    "foo = taylor_expand_matrix_inverse(mat_vec, v, max_eval, max_iter = 1000)\n",
    "\n",
    "true = np.linalg.solve(a, v)\n",
    "\n",
    "print(foo / true)"
   ]
  },
  {
   "cell_type": "code",
   "execution_count": 40,
   "metadata": {},
   "outputs": [],
   "source": [
    "def get_nystrom_woodbury_approx(A, indx): \n",
    "    C = A[:, indx]\n",
    "    W_inv = np.linalg.inv(A[indx][:, indx])\n",
    "    \n",
    "    inv_term = np.linalg.inv(np.eye(C.shape[1]) - np.dot(W_inv, np.dot(C.transpose(), C)))\n",
    "    \n",
    "    woodb_inv = np.eye(C.shape[0]) + np.dot(np.dot(C, inv_term), np.dot(W_inv, C.transpose()))\n",
    "    \n",
    "    return woodb_inv, C, W_inv"
   ]
  },
  {
   "cell_type": "code",
   "execution_count": 41,
   "metadata": {},
   "outputs": [
    {
     "data": {
      "text/plain": [
       "4.440892098500626e-16"
      ]
     },
     "execution_count": 41,
     "metadata": {},
     "output_type": "execute_result"
    }
   ],
   "source": [
    "# another quick test \n",
    "a = np.random.randn(3, 3)\n",
    "A = np.eye(3) + np.dot(a, a.transpose())\n",
    "\n",
    "woodb_inv, C, W_inv = get_nystrom_woodbury_approx(A, indx = np.array([0, 1]))\n",
    "\n",
    "A_tilde = np.dot(np.dot(C, W_inv), C.transpose())\n",
    "\n",
    "np.abs(np.linalg.inv(np.eye(3) - A_tilde) - woodb_inv).max()"
   ]
  },
  {
   "cell_type": "code",
   "execution_count": null,
   "metadata": {},
   "outputs": [],
   "source": []
  },
  {
   "cell_type": "markdown",
   "metadata": {},
   "source": [
    "## Get large clusters"
   ]
  },
  {
   "cell_type": "code",
   "execution_count": 42,
   "metadata": {},
   "outputs": [],
   "source": [
    "e_z_opt = gmm_lib.get_optimal_z_from_vb_params_dict(features, \n",
    "                                       vb_params_paragami.fold(vb_opt, free = True), \n",
    "                                       gh_loc, gh_weights)"
   ]
  },
  {
   "cell_type": "code",
   "execution_count": 43,
   "metadata": {},
   "outputs": [],
   "source": [
    "k_large = 5\n",
    "which_k = np.argsort(-e_z_opt.mean(0))[0:k_large]"
   ]
  },
  {
   "cell_type": "code",
   "execution_count": 44,
   "metadata": {
    "scrolled": true
   },
   "outputs": [
    {
     "data": {
      "text/plain": [
       "array([2, 4, 0, 1, 3])"
      ]
     },
     "execution_count": 44,
     "metadata": {},
     "output_type": "execute_result"
    }
   ],
   "source": [
    "which_k"
   ]
  },
  {
   "cell_type": "code",
   "execution_count": 45,
   "metadata": {},
   "outputs": [
    {
     "data": {
      "text/plain": [
       "array([2, 4, 0, 1, 3])"
      ]
     },
     "execution_count": 45,
     "metadata": {},
     "output_type": "execute_result"
    }
   ],
   "source": [
    "import bnpmodeling_runjingdev.modeling_lib as modeling_lib\n",
    "log_probs = modeling_lib.get_e_log_cluster_probabilities(vb_params_dict['stick_params']['stick_propn_mean'],\n",
    "                                            vb_params_dict['stick_params']['stick_propn_info'], \n",
    "                                            gh_loc, gh_weights)\n",
    "np.argsort(-log_probs)[0:k_large]"
   ]
  },
  {
   "cell_type": "code",
   "execution_count": null,
   "metadata": {},
   "outputs": [],
   "source": []
  },
  {
   "cell_type": "code",
   "execution_count": 46,
   "metadata": {},
   "outputs": [],
   "source": [
    "bool_dict = vb_params_paragami.empty_bool(False)\n",
    "bool_dict['cluster_params']['centroids'][:, which_k] = True\n",
    "bool_dict['cluster_params']['cluster_info'][which_k] = True\n",
    "\n",
    "_which_k = which_k\n",
    "_which_k = _which_k[_which_k != (k_approx - 1)]\n",
    "bool_dict['stick_params']['stick_propn_mean'][_which_k] = True\n",
    "bool_dict['stick_params']['stick_propn_info'][_which_k] = True"
   ]
  },
  {
   "cell_type": "code",
   "execution_count": 47,
   "metadata": {},
   "outputs": [],
   "source": [
    "indx = vb_params_paragami.flat_indices(bool_dict, free = True)"
   ]
  },
  {
   "cell_type": "code",
   "execution_count": 48,
   "metadata": {},
   "outputs": [
    {
     "data": {
      "text/plain": [
       "80"
      ]
     },
     "execution_count": 48,
     "metadata": {},
     "output_type": "execute_result"
    }
   ],
   "source": [
    "len(indx)"
   ]
  },
  {
   "cell_type": "code",
   "execution_count": 49,
   "metadata": {},
   "outputs": [],
   "source": [
    "est_lambda_max = np.max(np.linalg.eigvals(hess)) \n",
    "# est_lambda_max = np.abs(hess).sum(0).max() * 100.\n",
    "\n",
    "A = np.eye(hess.shape[0]) - hess / est_lambda_max"
   ]
  },
  {
   "cell_type": "code",
   "execution_count": 50,
   "metadata": {},
   "outputs": [
    {
     "name": "stdout",
     "output_type": "stream",
     "text": [
      "est lambda_max:  2451.1259105527097\n",
      "true lambda_max:  2451.1259105527097\n"
     ]
    }
   ],
   "source": [
    "print('est lambda_max: ', est_lambda_max)\n",
    "print('true lambda_max: ', np.max(np.linalg.eigvals(hess)))"
   ]
  },
  {
   "cell_type": "code",
   "execution_count": 51,
   "metadata": {},
   "outputs": [
    {
     "data": {
      "image/png": "[encoded data removed]",
      "text/plain": [
       "<Figure size 864x216 with 1 Axes>"
      ]
     },
     "metadata": {
      "needs_background": "light"
     },
     "output_type": "display_data"
    }
   ],
   "source": [
    "f, axarr = plt.subplots(1, 1, figsize=(12, 3))\n",
    "axarr.boxplot(np.linalg.eigvals(A), vert=False);\n",
    "axarr.set_yticks([]);\n",
    "axarr.set_title('eigenvalues of A = I - H/$\\lambda_{max}$'); "
   ]
  },
  {
   "cell_type": "code",
   "execution_count": 52,
   "metadata": {},
   "outputs": [],
   "source": [
    "# get woodbury-nystrom preconditioner\n",
    "woodb_inv, C, W_inv = get_nystrom_woodbury_approx(A, indx)\n",
    "nystrom_precond = woodb_inv/est_lambda_max"
   ]
  },
  {
   "cell_type": "code",
   "execution_count": null,
   "metadata": {},
   "outputs": [],
   "source": []
  },
  {
   "cell_type": "code",
   "execution_count": 53,
   "metadata": {},
   "outputs": [
    {
     "name": "stderr",
     "output_type": "stream",
     "text": [
      "/home/rliu/anaconda3/envs/bnp_sensitivity/lib/python3.8/site-packages/numpy/core/_asarray.py:85: ComplexWarning: Casting complex values to real discards the imaginary part\n",
      "  return array(a, dtype, copy=False, order=order)\n"
     ]
    },
    {
     "data": {
      "image/png": "[encoded data removed]",
      "text/plain": [
       "<Figure size 432x288 with 1 Axes>"
      ]
     },
     "metadata": {
      "needs_background": "light"
     },
     "output_type": "display_data"
    }
   ],
   "source": [
    "woodb_inv_sqrt = osp.linalg.sqrtm(woodb_inv)\n",
    "m = np.dot(woodb_inv_sqrt, np.dot(np.eye(len(A)) - A, woodb_inv_sqrt))\n",
    "plt.boxplot(np.linalg.eigvals(m), vert=False);\n",
    "# plt.hist(np.linalg.eigvals(m))"
   ]
  },
  {
   "cell_type": "code",
   "execution_count": 54,
   "metadata": {},
   "outputs": [
    {
     "name": "stdout",
     "output_type": "stream",
     "text": [
      "(1.0000007367698922-1.377410568111461e-17j)\n",
      "(7523.440067052681-1.733777059761098e-12j)\n"
     ]
    }
   ],
   "source": [
    "precond_sqrt = osp.linalg.sqrtm(nystrom_precond)\n",
    "precond_hess = np.dot(precond_sqrt, np.dot(hess, precond_sqrt))\n",
    "evals = np.linalg.eigvals(precond_hess)\n",
    "print(evals.max())\n",
    "print(evals.max() / evals.min())"
   ]
  },
  {
   "cell_type": "code",
   "execution_count": 55,
   "metadata": {
    "scrolled": false
   },
   "outputs": [
    {
     "name": "stderr",
     "output_type": "stream",
     "text": [
      "/home/rliu/anaconda3/envs/bnp_sensitivity/lib/python3.8/site-packages/numpy/core/_asarray.py:85: ComplexWarning: Casting complex values to real discards the imaginary part\n",
      "  return array(a, dtype, copy=False, order=order)\n"
     ]
    },
    {
     "data": {
      "image/png": "[encoded data removed]",
      "text/plain": [
       "<Figure size 864x216 with 1 Axes>"
      ]
     },
     "metadata": {
      "needs_background": "light"
     },
     "output_type": "display_data"
    }
   ],
   "source": [
    "f, axarr = plt.subplots(1, 1, figsize=(12, 3))\n",
    "axarr.boxplot(evals, vert=False);\n",
    "axarr.set_yticks([]);\n",
    "axarr.set_title('eigenvalues of M'); "
   ]
  },
  {
   "cell_type": "code",
   "execution_count": 56,
   "metadata": {},
   "outputs": [
    {
     "name": "stdout",
     "output_type": "stream",
     "text": [
      "solver time: 3.64sec\n"
     ]
    }
   ],
   "source": [
    "cg_callback = CGCallback(mat_times_vec, b)\n",
    "solver = vittles.solver_lib.get_cg_solver(mat_times_vec, \n",
    "                                            dim = len(vb_opt), \n",
    "                                            cg_opts={'M':nystrom_precond, \n",
    "                                                     'callback':cg_callback.record_residuals, \n",
    "                                                    'x0':x0})\n",
    "    \n",
    "t0 = time.time()\n",
    "_ = -solver(b)\n",
    "print('solver time: {:0.3}sec'.format(time.time() - t0))\n",
    "path3 = cg_callback.return_path()"
   ]
  },
  {
   "cell_type": "code",
   "execution_count": 57,
   "metadata": {},
   "outputs": [
    {
     "data": {
      "text/plain": [
       "Text(0, 0.5, 'log10 residual')"
      ]
     },
     "execution_count": 57,
     "metadata": {},
     "output_type": "execute_result"
    },
    {
     "data": {
      "image/png": "[encoded data removed]",
      "text/plain": [
       "<Figure size 432x288 with 1 Axes>"
      ]
     },
     "metadata": {
      "needs_background": "light"
     },
     "output_type": "display_data"
    }
   ],
   "source": [
    "plt.plot(np.log10(path1), color = 'red', label = 'cg')\n",
    "plt.plot(np.log10(path2), color = 'blue', label = 'cg-precond-mean_field')\n",
    "plt.plot(np.log10(path3), color = 'orange', label = 'cg-precond-nystrom_wood')\n",
    "\n",
    "plt.legend()\n",
    "\n",
    "plt.xlabel('iter')\n",
    "plt.ylabel('log10 residual')"
   ]
  },
  {
   "cell_type": "code",
   "execution_count": null,
   "metadata": {},
   "outputs": [],
   "source": []
  },
  {
   "cell_type": "code",
   "execution_count": null,
   "metadata": {},
   "outputs": [],
   "source": []
  },
  {
   "cell_type": "markdown",
   "metadata": {},
   "source": [
    "# Crazy idea ... use only one block"
   ]
  },
  {
   "cell_type": "code",
   "execution_count": 58,
   "metadata": {},
   "outputs": [],
   "source": [
    "bin_mat1 = np.zeros(hess.shape)\n",
    "bin_mat1[indx] = 1.0\n",
    "\n",
    "bin_mat2 = np.zeros(hess.shape)\n",
    "bin_mat2[:, indx] = 1.0\n",
    "\n",
    "bin_mat = bin_mat1 * bin_mat2"
   ]
  },
  {
   "cell_type": "code",
   "execution_count": 59,
   "metadata": {},
   "outputs": [],
   "source": [
    "assert np.all(bin_mat[indx][:, indx] == 1)\n",
    "assert np.all(bin_mat * (1 - bin_mat) == 0)"
   ]
  },
  {
   "cell_type": "code",
   "execution_count": 60,
   "metadata": {},
   "outputs": [],
   "source": [
    "# set some blocks to zero\n",
    "A2 = np.eye(hess.shape[0]) - hess * bin_mat / est_lambda_max"
   ]
  },
  {
   "cell_type": "code",
   "execution_count": 61,
   "metadata": {},
   "outputs": [
    {
     "data": {
      "text/plain": [
       "10.142413366623114"
      ]
     },
     "execution_count": 61,
     "metadata": {},
     "output_type": "execute_result"
    }
   ],
   "source": [
    "(hess - hess * bin_mat).max()"
   ]
  },
  {
   "cell_type": "code",
   "execution_count": 62,
   "metadata": {},
   "outputs": [
    {
     "data": {
      "text/plain": [
       "1725.7477546185044"
      ]
     },
     "execution_count": 62,
     "metadata": {},
     "output_type": "execute_result"
    }
   ],
   "source": [
    "(hess - hess * (1 - bin_mat)).max()"
   ]
  },
  {
   "cell_type": "code",
   "execution_count": 63,
   "metadata": {},
   "outputs": [
    {
     "data": {
      "text/plain": [
       "0.0002355968833660157"
      ]
     },
     "execution_count": 63,
     "metadata": {},
     "output_type": "execute_result"
    }
   ],
   "source": [
    "(A - A2).max()"
   ]
  },
  {
   "cell_type": "code",
   "execution_count": null,
   "metadata": {},
   "outputs": [],
   "source": []
  },
  {
   "cell_type": "code",
   "execution_count": 64,
   "metadata": {},
   "outputs": [],
   "source": [
    "# get woodbury-nystrom preconditioner\n",
    "woodb_inv, C, W_inv = get_nystrom_woodbury_approx(A2, indx)\n",
    "nystrom_precond2 = woodb_inv/est_lambda_max"
   ]
  },
  {
   "cell_type": "code",
   "execution_count": 65,
   "metadata": {},
   "outputs": [
    {
     "data": {
      "text/plain": [
       "0.07432392550546005"
      ]
     },
     "execution_count": 65,
     "metadata": {},
     "output_type": "execute_result"
    }
   ],
   "source": [
    "np.abs(nystrom_precond2 - nystrom_precond).max()"
   ]
  },
  {
   "cell_type": "code",
   "execution_count": 66,
   "metadata": {
    "scrolled": true
   },
   "outputs": [
    {
     "name": "stdout",
     "output_type": "stream",
     "text": [
      "(0.00013289791134470083+0j)\n",
      "(1.0000195307597624+0j)\n"
     ]
    }
   ],
   "source": [
    "precond_sqrt = osp.linalg.sqrtm(nystrom_precond2)\n",
    "precond_hess = np.dot(precond_sqrt, np.dot(hess, precond_sqrt))\n",
    "evals = np.linalg.eigvals(precond_hess)\n",
    "print(evals.min())\n",
    "print(evals.max())"
   ]
  },
  {
   "cell_type": "code",
   "execution_count": 67,
   "metadata": {},
   "outputs": [
    {
     "name": "stderr",
     "output_type": "stream",
     "text": [
      "/home/rliu/anaconda3/envs/bnp_sensitivity/lib/python3.8/site-packages/numpy/core/_asarray.py:85: ComplexWarning: Casting complex values to real discards the imaginary part\n",
      "  return array(a, dtype, copy=False, order=order)\n"
     ]
    },
    {
     "data": {
      "image/png": "[encoded data removed]",
      "text/plain": [
       "<Figure size 864x216 with 1 Axes>"
      ]
     },
     "metadata": {
      "needs_background": "light"
     },
     "output_type": "display_data"
    }
   ],
   "source": [
    "f, axarr = plt.subplots(1, 1, figsize=(12, 3))\n",
    "axarr.boxplot(evals, vert=False);\n",
    "axarr.set_yticks([]);\n",
    "axarr.set_title('eigenvalues of M'); "
   ]
  },
  {
   "cell_type": "code",
   "execution_count": 68,
   "metadata": {},
   "outputs": [
    {
     "name": "stdout",
     "output_type": "stream",
     "text": [
      "solver time: 3.67sec\n"
     ]
    }
   ],
   "source": [
    "cg_callback = CGCallback(mat_times_vec, b)\n",
    "solver = vittles.solver_lib.get_cg_solver(mat_times_vec, \n",
    "                                            dim = len(vb_opt), \n",
    "                                            cg_opts={'M':nystrom_precond2, \n",
    "                                                     'callback':cg_callback.record_residuals, \n",
    "                                                    'x0':x0})\n",
    "    \n",
    "t0 = time.time()\n",
    "_ = -solver(b)\n",
    "print('solver time: {:0.3}sec'.format(time.time() - t0))\n",
    "path4 = cg_callback.return_path()"
   ]
  },
  {
   "cell_type": "code",
   "execution_count": 69,
   "metadata": {
    "scrolled": true
   },
   "outputs": [
    {
     "data": {
      "text/plain": [
       "Text(0, 0.5, 'log10 residual')"
      ]
     },
     "execution_count": 69,
     "metadata": {},
     "output_type": "execute_result"
    },
    {
     "data": {
      "image/png": "[encoded data removed]",
      "text/plain": [
       "<Figure size 432x288 with 1 Axes>"
      ]
     },
     "metadata": {
      "needs_background": "light"
     },
     "output_type": "display_data"
    }
   ],
   "source": [
    "plt.plot(np.log10(path1), color = 'red', label = 'cg')\n",
    "plt.plot(np.log10(path2), color = 'blue', label = 'cg-precond-mean_field')\n",
    "plt.plot(np.log10(path3), color = 'orange', label = 'cg-precond-nystrom_wood')\n",
    "plt.plot(np.log10(path4), color = 'green', label = 'cg-precond-nystrom_wood2')\n",
    "\n",
    "plt.legend()\n",
    "\n",
    "plt.xlabel('iter')\n",
    "plt.ylabel('log10 residual')"
   ]
  },
  {
   "cell_type": "code",
   "execution_count": null,
   "metadata": {},
   "outputs": [],
   "source": []
  },
  {
   "cell_type": "code",
   "execution_count": null,
   "metadata": {},
   "outputs": [],
   "source": []
  },
  {
   "cell_type": "markdown",
   "metadata": {},
   "source": [
    "# Can we try to estimate that upper block?"
   ]
  },
  {
   "cell_type": "code",
   "execution_count": 70,
   "metadata": {},
   "outputs": [],
   "source": [
    "from bnpgmm_runjingdev.gmm_clustering_lib import get_optimal_z_from_vb_params_dict, get_z_nat_params"
   ]
  },
  {
   "cell_type": "code",
   "execution_count": 71,
   "metadata": {},
   "outputs": [],
   "source": [
    "# break down the components of the Hessian \n",
    "kl_objective = lambda x, y : gmm_lib.get_kl(features, x, prior_params_dict, \n",
    "                                            gh_loc, gh_weights, e_z = y, \n",
    "                                            use_bnp_prior=use_bnp_prior)"
   ]
  },
  {
   "cell_type": "code",
   "execution_count": 72,
   "metadata": {},
   "outputs": [],
   "source": [
    "def get_kl_from_ez_nat(vb_params_dict, z_nat_param): \n",
    "    e_z = convert_nat_param_to_ez(z_nat_param)\n",
    "    return kl_objective(vb_params_dict, e_z)"
   ]
  },
  {
   "cell_type": "code",
   "execution_count": 73,
   "metadata": {},
   "outputs": [],
   "source": [
    "def convert_nat_param_to_ez(z_nat_param): \n",
    "    log_const = sp.special.logsumexp(z_nat_param, axis=1)\n",
    "    return np.exp(z_nat_param - log_const[:, None])"
   ]
  },
  {
   "cell_type": "code",
   "execution_count": 74,
   "metadata": {},
   "outputs": [],
   "source": [
    "def get_ez_nat(y, vb_params_dict, use_bnp_prior): \n",
    "    stick_propn_mean = vb_params_dict['stick_params']['stick_propn_mean']\n",
    "    stick_propn_info = vb_params_dict['stick_params']['stick_propn_info']\n",
    "    centroids = vb_params_dict['cluster_params']['centroids']\n",
    "    cluster_info = vb_params_dict['cluster_params']['cluster_info']\n",
    "\n",
    "    return get_z_nat_params(y, stick_propn_mean, stick_propn_info, centroids, cluster_info,\n",
    "                        gh_loc, gh_weights,\n",
    "                        use_bnp_prior = use_bnp_prior)[0]"
   ]
  },
  {
   "cell_type": "code",
   "execution_count": 75,
   "metadata": {},
   "outputs": [],
   "source": [
    "use_bnp_prior = True"
   ]
  },
  {
   "cell_type": "code",
   "execution_count": 110,
   "metadata": {},
   "outputs": [],
   "source": [
    "def get_hessian_components(vb_params_dict, vb_params_paragami): \n",
    "    vb_opt = vb_params_paragami.flatten(vb_params_dict, free = True)\n",
    "    \n",
    "    e_z_opt = get_optimal_z_from_vb_params_dict(features, vb_params_dict, \n",
    "                                                gh_loc, gh_weights, \n",
    "                                                use_bnp_prior=use_bnp_prior)\n",
    "    e_z_nat = get_ez_nat(features, vb_params_dict, use_bnp_prior)\n",
    "    \n",
    "    \n",
    "    # kl_theta_theta\n",
    "    get_kl_flat = paragami.FlattenFunctionInput(\n",
    "                                original_fun=kl_objective, \n",
    "                                patterns = vb_params_paragami,\n",
    "                                free = True,\n",
    "                                argnums = 0)\n",
    "\n",
    "\n",
    "    get_kl_thetatheta = autograd.hessian(get_kl_flat, argnum = 0)\n",
    "    t0 = time.time()\n",
    "    kl_thetatheta = get_kl_thetatheta(vb_opt, e_z_opt)\n",
    "    print('kl_thetatheta time: ', time.time() - t0)\n",
    "    \n",
    "    # e_z_theta\n",
    "    get_ez_nat_flat = paragami.FlattenFunctionInput(\n",
    "                                original_fun=get_ez_nat, \n",
    "                                patterns = vb_params_paragami,\n",
    "                                free = True,\n",
    "                                argnums = 1)\n",
    "\n",
    "    get_ez_grad = autograd.jacobian(lambda x : get_ez_nat_flat(features, x, \n",
    "                                                                use_bnp_prior = use_bnp_prior))\n",
    "\n",
    "    t0 = time.time()\n",
    "    ez_grad = get_ez_grad(vb_opt)\n",
    "    print('ez_grad time: ', time.time() - t0)\n",
    "    \n",
    "    get_kl_flat_from_ez = paragami.FlattenFunctionInput(\n",
    "                                original_fun=get_kl_from_ez_nat, \n",
    "                                patterns = vb_params_paragami,\n",
    "                                free = True,\n",
    "                                argnums = 0)\n",
    "    \n",
    "    t0 = time.time()\n",
    "    get_kl_theta = autograd.grad(get_kl_flat_from_ez, argnum = 0)\n",
    "    get_kl_thetaez = autograd.jacobian(get_kl_theta, argnum = 1)\n",
    "\n",
    "    kl_thetaez  = get_kl_thetaez(vb_opt, e_z_nat)\n",
    "    print('kl_thetaez time: ', time.time() - t0)\n",
    "    \n",
    "    return kl_thetatheta, ez_grad, kl_thetaez"
   ]
  },
  {
   "cell_type": "code",
   "execution_count": null,
   "metadata": {},
   "outputs": [
    {
     "name": "stdout",
     "output_type": "stream",
     "text": [
      "kl_thetatheta time:  7.872802495956421\n"
     ]
    }
   ],
   "source": [
    "vb_params_dict = vb_params_paragami.fold(vb_opt, free = True)\n",
    "kl_thetatheta, ez_grad, kl_thetaez = \\\n",
    "    get_hessian_components(vb_params_dict, vb_params_paragami)"
   ]
  },
  {
   "cell_type": "code",
   "execution_count": null,
   "metadata": {},
   "outputs": [],
   "source": [
    "est = np.einsum('ijk, jkl -> il', kl_thetaez, ez_grad) + kl_thetatheta"
   ]
  },
  {
   "cell_type": "code",
   "execution_count": null,
   "metadata": {},
   "outputs": [],
   "source": [
    "np.abs(est - hess).max()"
   ]
  },
  {
   "cell_type": "code",
   "execution_count": null,
   "metadata": {},
   "outputs": [],
   "source": []
  },
  {
   "cell_type": "code",
   "execution_count": null,
   "metadata": {},
   "outputs": [],
   "source": []
  },
  {
   "cell_type": "code",
   "execution_count": 70,
   "metadata": {},
   "outputs": [],
   "source": []
  },
  {
   "cell_type": "code",
   "execution_count": 71,
   "metadata": {},
   "outputs": [],
   "source": [
    "bool_dict = vb_params_paragami.empty_bool(False)\n",
    "bool_dict['cluster_params']['centroids'][:, which_k] = True\n",
    "bool_dict['cluster_params']['cluster_info'][which_k] = True\n",
    "\n",
    "_which_k = which_k[:-1]\n",
    "_which_k = _which_k[_which_k != (k_approx - 1)]\n",
    "bool_dict['stick_params']['stick_propn_mean'][_which_k] = True\n",
    "bool_dict['stick_params']['stick_propn_info'][_which_k] = True"
   ]
  },
  {
   "cell_type": "code",
   "execution_count": 72,
   "metadata": {},
   "outputs": [],
   "source": [
    "indx2 = vb_params_paragami.flat_indices(bool_dict, free = True)"
   ]
  },
  {
   "cell_type": "code",
   "execution_count": 73,
   "metadata": {},
   "outputs": [],
   "source": [
    "def convert_nat_param_to_ez(z_nat_param): \n",
    "    log_const = sp.special.logsumexp(z_nat_param, axis=1)\n",
    "    return np.exp(z_nat_param - log_const[:, None])"
   ]
  },
  {
   "cell_type": "code",
   "execution_count": 74,
   "metadata": {},
   "outputs": [],
   "source": [
    "def get_ez_nat(y, vb_params_dict, use_bnp_prior): \n",
    "    stick_propn_mean = vb_params_dict['stick_params']['stick_propn_mean']\n",
    "    stick_propn_info = vb_params_dict['stick_params']['stick_propn_info']\n",
    "    centroids = vb_params_dict['cluster_params']['centroids']\n",
    "    cluster_info = vb_params_dict['cluster_params']['cluster_info']\n",
    "\n",
    "    return get_z_nat_params(y, stick_propn_mean, stick_propn_info, centroids, cluster_info,\n",
    "                        gh_loc, gh_weights,\n",
    "                        use_bnp_prior = use_bnp_prior)[0]"
   ]
  },
  {
   "cell_type": "code",
   "execution_count": 82,
   "metadata": {},
   "outputs": [],
   "source": [
    "def get_subhess_estimate(): \n",
    "    \n",
    "    use_bnp_prior = True\n",
    "\n",
    "    # get original vb parameters \n",
    "    vb_params_dict = vb_params_paragami.fold(vb_opt, free = True)\n",
    "    \n",
    "    # get e_z\n",
    "    e_z_opt = get_optimal_z_from_vb_params_dict(features, vb_params_dict, \n",
    "                                                gh_loc, gh_weights, \n",
    "                                                use_bnp_prior=use_bnp_prior)\n",
    "    \n",
    "#     k_approx = vb_params_dict['cluster_params']['centroids'].shape[1]\n",
    "    \n",
    "#     # get vb parameters for the sub-problem\n",
    "#     sub_vb_params_dict, sub_vb_params_paragami = \\\n",
    "#         gmm_lib.get_vb_params_paragami_object(features.shape[1], len(which_k))\n",
    "    \n",
    "#     which_k_sorted = np.sort(which_k)\n",
    "#     _which_k = which_k[:-1]\n",
    "#     _which_k_sorted = np.sort(_which_k)\n",
    "    \n",
    "#     sub_vb_params_dict['cluster_params']['centroids'] = \\\n",
    "#         vb_params_dict['cluster_params']['centroids'][:, which_k_sorted]\n",
    "#     sub_vb_params_dict['cluster_params']['cluster_info'] = \\\n",
    "#         vb_params_dict['cluster_params']['cluster_info'][which_k_sorted]\n",
    "\n",
    "#     sub_vb_params_dict['stick_params']['stick_propn_mean'] = \\\n",
    "#         vb_params_dict['stick_params']['stick_propn_mean'][_which_k_sorted]\n",
    "#     sub_vb_params_dict['stick_params']['stick_propn_info'] = \\\n",
    "#         vb_params_dict['stick_params']['stick_propn_info'][_which_k_sorted]\n",
    "\n",
    "#     sub_vb_params_free = sub_vb_params_paragami.flatten(sub_vb_params_dict, free = True)\n",
    "    \n",
    "    sub_vb_params_paragami = vb_params_paragami\n",
    "    sub_vb_params_free = vb_opt\n",
    "    \n",
    "    # break down the components of the Hessian \n",
    "    kl_objective = lambda x, y : gmm_lib.get_kl(features, x, prior_params_dict, \n",
    "                                                gh_loc, gh_weights, e_z = y, \n",
    "                                                use_bnp_prior=use_bnp_prior)\n",
    "    \n",
    "    # the e_z on the subproblem \n",
    "#     _sub_e_z_opt = e_z_opt[:, which_k_sorted]\n",
    "    _sub_e_z_opt = e_z_opt\n",
    "    \n",
    "    # kl_theta_theta\n",
    "    sub_get_kl_flat = paragami.FlattenFunctionInput(\n",
    "                                original_fun=kl_objective, \n",
    "                                patterns = sub_vb_params_paragami,\n",
    "                                free = True,\n",
    "                                argnums = 0)\n",
    "\n",
    "\n",
    "    get_sub_kl_thetatheta = autograd.hessian(sub_get_kl_flat, argnum = 0)\n",
    "    t0 = time.time()\n",
    "    sub_kl_thetatheta = get_sub_kl_thetatheta(sub_vb_params_free, _sub_e_z_opt)\n",
    "    print('sub_kl_thetatheta time: ', time.time() - t0)\n",
    "    \n",
    "    # e_z_theta\n",
    "    get_sub_ez_nat_flat = paragami.FlattenFunctionInput(\n",
    "                                original_fun=get_ez_nat, \n",
    "                                patterns = sub_vb_params_paragami,\n",
    "                                free = True,\n",
    "                                argnums = 1)\n",
    "\n",
    "    t0 = time.time()\n",
    "    get_sub_ez_grad = autograd.jacobian(lambda x : get_sub_ez_nat_flat(features, x, \n",
    "                                                                        use_bnp_prior = use_bnp_prior))\n",
    "    sub_ez_grad = get_sub_ez_grad(sub_vb_params_free)\n",
    "    print('sub_ez_grad time: ', time.time() - t0)\n",
    "    \n",
    "    # grad kl_ez_theta\n",
    "    def get_kl_from_ez_nat(vb_params_dict, z_nat_param): \n",
    "        e_z = convert_nat_param_to_ez(z_nat_param)\n",
    "        return kl_objective(vb_params_dict, e_z)\n",
    "    \n",
    "    get_kl_flat_from_ez = paragami.FlattenFunctionInput(\n",
    "                                original_fun=get_kl_from_ez_nat, \n",
    "                                patterns = vb_params_paragami,\n",
    "                                free = True,\n",
    "                                argnums = 0)\n",
    "\n",
    "    t0 = time.time()\n",
    "    get_kl_theta = autograd.grad(get_kl_flat_from_ez, argnum = 0)\n",
    "    get_kl_thetaez = autograd.jacobian(get_kl_theta, argnum = 1)\n",
    "    \n",
    "    e_z_nat = get_ez_nat(features, vb_params_dict, use_bnp_prior)\n",
    "    kl_thetaez  = get_kl_thetaez(vb_opt, e_z_nat)\n",
    "    print('kl_thetaez time: ', time.time() - t0)\n",
    "    \n",
    "    # construct estimates\n",
    "#     _kl_thetatheta = np.zeros((len(vb_opt), len(vb_opt)))\n",
    "#     for i in range(len(sub_kl_thetatheta)): \n",
    "#         for j in range(len(sub_kl_thetatheta)): \n",
    "#             _kl_thetatheta[indx2[i], indx2[j]] = sub_kl_thetatheta[i, j]\n",
    "\n",
    "#     assert (_kl_thetatheta[indx2][:, indx2] == sub_kl_thetatheta).all()\n",
    "\n",
    "#     _ez_grad = np.zeros((e_z_opt.shape[0], e_z_opt.shape[1], len(vb_opt)))\n",
    "#     for i in range(len(which_k_sorted)): \n",
    "#         _ez_grad[:, which_k_sorted[i], indx2] = sub_ez_grad[:, i, :]\n",
    "\n",
    "#     assert np.all(sub_ez_grad == _ez_grad[:, which_k_sorted, :][:, :, indx2])\n",
    "    \n",
    "    _ez_grad = sub_ez_grad\n",
    "    _kl_thetatheta = sub_kl_thetatheta\n",
    "    est = np.einsum('ijk, jkl -> il', kl_thetaez, _ez_grad) + _kl_thetatheta\n",
    "    \n",
    "    return est"
   ]
  },
  {
   "cell_type": "code",
   "execution_count": 83,
   "metadata": {},
   "outputs": [
    {
     "name": "stdout",
     "output_type": "stream",
     "text": [
      "sub_kl_thetatheta time:  7.003047466278076\n",
      "sub_ez_grad time:  49.43728518486023\n",
      "kl_thetaez time:  3.9601149559020996\n"
     ]
    }
   ],
   "source": [
    "hess2 = get_subhess_estimate() "
   ]
  },
  {
   "cell_type": "code",
   "execution_count": null,
   "metadata": {},
   "outputs": [],
   "source": []
  },
  {
   "cell_type": "code",
   "execution_count": 84,
   "metadata": {},
   "outputs": [],
   "source": [
    "A3 = np.eye(hess.shape[0]) - hess2 / est_lambda_max"
   ]
  },
  {
   "cell_type": "code",
   "execution_count": 85,
   "metadata": {},
   "outputs": [],
   "source": [
    "# get woodbury-nystrom preconditioner\n",
    "woodb_inv, C, W_inv = get_nystrom_woodbury_approx(A3, indx2)\n",
    "nystrom_precond3 = woodb_inv/est_lambda_max"
   ]
  },
  {
   "cell_type": "code",
   "execution_count": 86,
   "metadata": {},
   "outputs": [
    {
     "data": {
      "text/plain": [
       "array([[ 5.55129836e-02, -4.54020481e-05,  8.28266845e-04, ...,\n",
       "        -1.05704571e-10, -8.14195196e-11, -6.40325096e-11],\n",
       "       [-4.54020480e-05,  1.89566347e-01, -4.22665278e-04, ...,\n",
       "         3.80931477e-11,  2.93414564e-11,  2.30756383e-11],\n",
       "       [ 8.28266838e-04, -4.22665277e-04,  3.96548627e-03, ...,\n",
       "         3.20610562e-10,  2.46952328e-10,  1.94216468e-10],\n",
       "       ...,\n",
       "       [-1.05781735e-10,  3.81100069e-11,  3.20400606e-10, ...,\n",
       "         4.07975783e-04,  3.79440859e-12,  2.98410875e-12],\n",
       "       [-8.14789554e-11,  2.93544422e-11,  2.46790609e-10, ...,\n",
       "         3.79440859e-12,  4.07975781e-04,  2.29852163e-12],\n",
       "       [-6.40792528e-11,  2.30858510e-11,  1.94089284e-10, ...,\n",
       "         2.98410875e-12,  2.29852163e-12,  4.07975780e-04]])"
      ]
     },
     "execution_count": 86,
     "metadata": {},
     "output_type": "execute_result"
    }
   ],
   "source": [
    "nystrom_precond3"
   ]
  },
  {
   "cell_type": "code",
   "execution_count": 87,
   "metadata": {},
   "outputs": [
    {
     "data": {
      "text/plain": [
       "array([[ 5.55130326e-02, -4.54322956e-05,  8.28005448e-04, ...,\n",
       "         0.00000000e+00,  0.00000000e+00,  0.00000000e+00],\n",
       "       [-4.54322948e-05,  1.89566371e-01, -4.22501016e-04, ...,\n",
       "         0.00000000e+00,  0.00000000e+00,  0.00000000e+00],\n",
       "       [ 8.28005441e-04, -4.22501016e-04,  3.96690516e-03, ...,\n",
       "         0.00000000e+00,  0.00000000e+00,  0.00000000e+00],\n",
       "       ...,\n",
       "       [ 0.00000000e+00,  0.00000000e+00,  0.00000000e+00, ...,\n",
       "         4.07975778e-04,  0.00000000e+00,  0.00000000e+00],\n",
       "       [ 0.00000000e+00,  0.00000000e+00,  0.00000000e+00, ...,\n",
       "         0.00000000e+00,  4.07975778e-04,  0.00000000e+00],\n",
       "       [ 0.00000000e+00,  0.00000000e+00,  0.00000000e+00, ...,\n",
       "         0.00000000e+00,  0.00000000e+00,  4.07975778e-04]])"
      ]
     },
     "execution_count": 87,
     "metadata": {},
     "output_type": "execute_result"
    }
   ],
   "source": [
    "nystrom_precond2"
   ]
  },
  {
   "cell_type": "code",
   "execution_count": null,
   "metadata": {},
   "outputs": [],
   "source": []
  },
  {
   "cell_type": "code",
   "execution_count": 88,
   "metadata": {
    "scrolled": true
   },
   "outputs": [
    {
     "name": "stdout",
     "output_type": "stream",
     "text": [
      "(1.0000008816547834+7.23910139656509e-24j)\n",
      "(7614.166980149702-4.131347431236187e-14j)\n"
     ]
    }
   ],
   "source": [
    "precond_sqrt = osp.linalg.sqrtm(nystrom_precond3)\n",
    "precond_hess = np.dot(precond_sqrt, np.dot(hess, precond_sqrt))\n",
    "evals = np.linalg.eigvals(precond_hess)\n",
    "print(evals.max())\n",
    "print(evals.max() / evals.min())"
   ]
  },
  {
   "cell_type": "code",
   "execution_count": 89,
   "metadata": {},
   "outputs": [
    {
     "name": "stderr",
     "output_type": "stream",
     "text": [
      "/home/rliu/anaconda3/envs/bnp_sensitivity/lib/python3.8/site-packages/numpy/core/_asarray.py:85: ComplexWarning: Casting complex values to real discards the imaginary part\n",
      "  return array(a, dtype, copy=False, order=order)\n"
     ]
    },
    {
     "data": {
      "image/png": "[encoded data removed]",
      "text/plain": [
       "<Figure size 864x216 with 1 Axes>"
      ]
     },
     "metadata": {
      "needs_background": "light"
     },
     "output_type": "display_data"
    }
   ],
   "source": [
    "f, axarr = plt.subplots(1, 1, figsize=(12, 3))\n",
    "axarr.boxplot(evals, vert=False);\n",
    "axarr.set_yticks([]);\n",
    "axarr.set_title('eigenvalues of M'); "
   ]
  },
  {
   "cell_type": "code",
   "execution_count": 90,
   "metadata": {},
   "outputs": [
    {
     "name": "stdout",
     "output_type": "stream",
     "text": [
      "solver time: 5.1sec\n"
     ]
    }
   ],
   "source": [
    "cg_callback = CGCallback(mat_times_vec, b)\n",
    "solver = vittles.solver_lib.get_cg_solver(mat_times_vec, \n",
    "                                            dim = len(vb_opt), \n",
    "                                            cg_opts={'M':nystrom_precond3, \n",
    "                                                     'callback':cg_callback.record_residuals, \n",
    "                                                    'x0':x0})\n",
    "    \n",
    "t0 = time.time()\n",
    "_ = -solver(b)\n",
    "print('solver time: {:0.3}sec'.format(time.time() - t0))\n",
    "path5 = cg_callback.return_path()"
   ]
  },
  {
   "cell_type": "code",
   "execution_count": 91,
   "metadata": {},
   "outputs": [
    {
     "data": {
      "text/plain": [
       "Text(0, 0.5, 'log10 residual')"
      ]
     },
     "execution_count": 91,
     "metadata": {},
     "output_type": "execute_result"
    },
    {
     "data": {
      "image/png": "[encoded data removed]",
      "text/plain": [
       "<Figure size 432x288 with 1 Axes>"
      ]
     },
     "metadata": {
      "needs_background": "light"
     },
     "output_type": "display_data"
    }
   ],
   "source": [
    "plt.plot(np.log10(path1), color = 'red', label = 'cg')\n",
    "plt.plot(np.log10(path2), color = 'blue', label = 'cg-precond-mean_field')\n",
    "plt.plot(np.log10(path3), color = 'orange', label = 'cg-precond-nystrom_wood')\n",
    "plt.plot(np.log10(path4), color = 'green', label = 'cg-precond-nystrom_wood2')\n",
    "plt.plot(np.log10(path5), color = 'cyan', label = 'cg-precond-nystrom_wood3')\n",
    "\n",
    "plt.legend()\n",
    "\n",
    "plt.xlabel('iter')\n",
    "plt.ylabel('log10 residual')"
   ]
  },
  {
   "cell_type": "code",
   "execution_count": null,
   "metadata": {},
   "outputs": [],
   "source": []
  },
  {
   "cell_type": "code",
   "execution_count": null,
   "metadata": {},
   "outputs": [],
   "source": []
  },
  {
   "cell_type": "code",
   "execution_count": null,
   "metadata": {},
   "outputs": [],
   "source": []
  },
  {
   "cell_type": "code",
   "execution_count": null,
   "metadata": {},
   "outputs": [],
   "source": []
  },
  {
   "cell_type": "code",
   "execution_count": null,
   "metadata": {},
   "outputs": [],
   "source": []
  },
  {
   "cell_type": "code",
   "execution_count": null,
   "metadata": {},
   "outputs": [],
   "source": []
  }
 ],
 "metadata": {
  "kernelspec": {
   "display_name": "bnp_sensitivity",
   "language": "python",
   "name": "bnp_sensitivity"
  },
  "language_info": {
   "codemirror_mode": {
    "name": "ipython",
    "version": 3
   },
   "file_extension": ".py",
   "mimetype": "text/x-python",
   "name": "python",
   "nbconvert_exporter": "python",
   "pygments_lexer": "ipython3",
   "version": "3.8.0"
  }
 },
 "nbformat": 4,
 "nbformat_minor": 2
}
