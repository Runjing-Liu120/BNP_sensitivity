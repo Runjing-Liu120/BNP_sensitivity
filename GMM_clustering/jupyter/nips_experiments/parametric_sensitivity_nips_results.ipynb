{
 "cells": [
  {
   "cell_type": "markdown",
   "metadata": {},
   "source": [
    "This notebook reproduces the parametric sensitivity results in the paper\n",
    "\n",
    "\"Evaluating Sensitivity to the Stick Breaking Prior in Bayesian Nonparametrics\"\n",
    "https://arxiv.org/abs/1810.06587\n",
    "\n",
    "\n",
    "It loads the model fits from './iris_fits/', so make sure to run the notebook `fit_base_model.ipynb` first. "
   ]
  },
  {
   "cell_type": "code",
   "execution_count": 1,
   "metadata": {},
   "outputs": [
    {
     "name": "stderr",
     "output_type": "stream",
     "text": [
      "/home/rgiordan/Documents/git_repos/BNP_sensitivity/GMM_clustering/venv/lib/python3.5/site-packages/autograd/core.py:290: UserWarning: \n",
      "The defvjp method is deprecated. See the update guide and tutorial:\n",
      "https://github.com/HIPS/autograd/blob/master/docs/updateguide.md\n",
      "https://github.com/HIPS/autograd/blob/master/docs/tutorial.md\n",
      "  warnings.warn(deprecation_msg)\n"
     ]
    }
   ],
   "source": [
    "import autograd\n",
    "from autograd import numpy as np\n",
    "from autograd import scipy as sp\n",
    "\n",
    "from numpy.polynomial.hermite import hermgauss\n",
    "\n",
    "np.random.seed(453453)\n",
    "\n",
    "import paragami\n",
    "import vittles \n",
    "\n",
    "# GMM clustering libraries\n",
    "# import sys\n",
    "# sys.path.insert(0, '../../libraries/')\n",
    "\n",
    "from bnpgmm_runjingdev import gmm_clustering_lib as gmm_lib\n",
    "from bnpgmm_runjingdev import utils_lib\n",
    "\n",
    "# BNP libraries: these are pip installed\n",
    "from bnpmodeling_runjingdev import cluster_quantities_lib as cluster_lib\n",
    "from bnpmodeling_runjingdev import optimization_lib as optimization_lib\n",
    "from bnpmodeling_runjingdev import modeling_lib as modeling_lib\n",
    "\n",
    "import matplotlib.pyplot as plt\n",
    "%matplotlib inline\n",
    "import matplotlib.cm as cm\n",
    "\n",
    "from sklearn.decomposition import PCA\n",
    "\n",
    "from copy import deepcopy\n",
    "\n",
    "import json \n",
    "\n",
    "from tqdm import tqdm\n",
    "\n",
    "import time"
   ]
  },
  {
   "cell_type": "markdown",
   "metadata": {},
   "source": [
    "# Load data"
   ]
  },
  {
   "cell_type": "markdown",
   "metadata": {},
   "source": [
    "We load and plot the iris dataset"
   ]
  },
  {
   "cell_type": "code",
   "execution_count": 2,
   "metadata": {
    "collapsed": true
   },
   "outputs": [],
   "source": [
    "# load iris data\n",
    "dataset_name = 'iris'\n",
    "features, iris_species = utils_lib.load_data()\n",
    "dim = features.shape[1]\n",
    "n_obs = len(iris_species)    "
   ]
  },
  {
   "cell_type": "code",
   "execution_count": 3,
   "metadata": {},
   "outputs": [
    {
     "data": {
      "text/plain": [
       "Text(0, 0.5, 'PC2')"
      ]
     },
     "execution_count": 3,
     "metadata": {},
     "output_type": "execute_result"
    },
    {
     "data": {
      "image/png": "[encoded data removed]",
      "text/plain": [
       "<Figure size 432x288 with 1 Axes>"
      ]
     },
     "metadata": {
      "needs_background": "light"
     },
     "output_type": "display_data"
    }
   ],
   "source": [
    "# run PCA\n",
    "pca_fit = PCA()\n",
    "pca_fit.fit(features)\n",
    "pc_features = pca_fit.transform(features)\n",
    "\n",
    "# plot\n",
    "cmap = cm.get_cmap(name='gist_rainbow')\n",
    "colors1 = [cmap(k * 50) for k in range(30)]\n",
    "\n",
    "fig1 = plt.figure(1)\n",
    "fig = fig1.add_subplot(111)\n",
    "utils_lib.plot_clusters(pc_features[:, 0], pc_features[:, 1], iris_species, colors1, fig)\n",
    "fig.set_xlabel('PC1')\n",
    "fig.set_ylabel('PC2')\n"
   ]
  },
  {
   "cell_type": "markdown",
   "metadata": {},
   "source": [
    "# Load model"
   ]
  },
  {
   "cell_type": "code",
   "execution_count": 4,
   "metadata": {
    "collapsed": true
   },
   "outputs": [],
   "source": [
    "def assert_optimizer(features, vb_opt_dict, vb_params_paragami, prior_params_dict, gh_loc, gh_weights): \n",
    "    # this function checks that vb_opt_dict are at a kl optimum for the given \n",
    "    # prior parameters\n",
    "    get_vb_params_loss = paragami.FlattenFunctionInput(\n",
    "                                    original_fun=gmm_lib.get_kl,\n",
    "                                    patterns = vb_params_paragami,\n",
    "                                    free = True,\n",
    "                                    argnums = 1)\n",
    "    \n",
    "    get_loss = \\\n",
    "        lambda x : get_vb_params_loss(features,\n",
    "                                    x, prior_params_dict,\n",
    "                                     gh_loc, gh_weights)\n",
    "\n",
    "    grad_get_loss = autograd.grad(get_loss)\n",
    "    linf_grad = np.max(np.abs(grad_get_loss(vb_params_paragami.flatten(vb_opt_dict, free = True))))\n",
    "    \n",
    "    assert  linf_grad < 1e-5, 'error: {}'.format(linf_grad)\n"
   ]
  },
  {
   "cell_type": "code",
   "execution_count": 5,
   "metadata": {},
   "outputs": [],
   "source": [
    "def get_linear_sensitivity_results(init_alpha, alpha_list, threshold = 0, insample = True):\n",
    "\n",
    "    \"\"\"\n",
    "    Returns the data necessary to recreate the parametric sensitivity figures\n",
    "    \n",
    "    Parameters\n",
    "    ----------\n",
    "    init_alpha : float\n",
    "        The alpha parameter at which to compute the linear response\n",
    "    alpha_list : vector\n",
    "        Vector of the alphas to which we will extrapolate\n",
    "    threshold : int\n",
    "        Miniumum number of observations for a cluster to be counted.\n",
    "        and returns the gradient of get_loss.\n",
    "    insample : boolean\n",
    "        Whether to compute the in-sample quantity or the predictive quantity \n",
    "\n",
    "    Returns\n",
    "    -------\n",
    "    lr_e_num_clusters_vec : vec\n",
    "        Vector of expected number of clusters computed by the linear approximation at the alphas in alpha_list\n",
    "    refit_e_num_clusters_vec : vec\n",
    "        Vector of expected number of clusters computed by the refitting at the alphas in alpha_list\n",
    "    \"\"\"\n",
    "\n",
    "    \n",
    "    # load optimal vb parameters at init_alpha\n",
    "    vb_opt_dict, vb_params_paragami, data =\\\n",
    "        paragami.load_folded('./iris_fits/iris_fits_alpha{}.npz'.format(init_alpha))\n",
    "    \n",
    "    # free optimal vb_parameters\n",
    "    vb_opt = vb_params_paragami.flatten(vb_opt_dict, free = True)\n",
    "    \n",
    "    # load prior parameters\n",
    "    prior_params_dict, prior_params_paragami = \\\n",
    "        gmm_lib.get_default_prior_params(dim = vb_opt_dict['centroids'].shape[0])\n",
    "    prior_params_dict['alpha'] = data['alpha']\n",
    "    \n",
    "    \n",
    "    # other parameters\n",
    "    gh_deg = int(data['gh_deg'])\n",
    "    gh_loc, gh_weights = hermgauss(gh_deg)\n",
    "    \n",
    "    # assert we are at an optimum \n",
    "    assert_optimizer(features, vb_opt_dict, vb_params_paragami, prior_params_dict, gh_loc, gh_weights)\n",
    "    \n",
    "    # get linear sensitivity \n",
    "    \n",
    "    print('computing linear approximation at alpha = {}'.format(init_alpha))\n",
    "    get_kl_from_vb_free_prior_free = \\\n",
    "        paragami.FlattenFunctionInput(original_fun=gmm_lib.get_kl,\n",
    "                        patterns = [vb_params_paragami, prior_params_paragami],\n",
    "                        free = True,\n",
    "                        argnums = [1, 2])\n",
    "    \n",
    "    get_prior_vb_loss = lambda x, y: \\\n",
    "        get_kl_from_vb_free_prior_free(features, x, y, gh_loc, gh_weights)\n",
    "    \n",
    "    prior_free_params = prior_params_paragami.flatten(prior_params_dict, free = True)\n",
    "    \n",
    "    t0 = time.time()\n",
    "    vb_sens = \\\n",
    "        vittles.HyperparameterSensitivityLinearApproximation(\n",
    "                                objective_fun = get_prior_vb_loss,\n",
    "                                opt_par_value = vb_opt,\n",
    "                                hyper_par_value = prior_free_params)\n",
    "        \n",
    "    print('linear response time: {:.03f} secs'.format(time.time() - t0))\n",
    "    \n",
    "    lr_e_num_clusters_vec = np.zeros(len(alpha_list))\n",
    "    refit_e_num_clusters_vec = np.zeros(len(alpha_list))\n",
    "    \n",
    "    print('extrapolating ...')\n",
    "    \n",
    "    n_samples = 100000\n",
    "    unif_samples = np.random.random((n_obs, n_samples))\n",
    "    \n",
    "    refit_time = 0.\n",
    "    \n",
    "    for i in tqdm(range(len(alpha_list))):\n",
    "    \n",
    "        # set alpha \n",
    "        new_alpha = np.array([alpha_list[i]])\n",
    "        prior_params_pert_dict = deepcopy(prior_params_dict)\n",
    "        prior_params_pert_dict['alpha'] = new_alpha\n",
    "\n",
    "        # get linear response\n",
    "        lr_free_params = vb_sens.predict_opt_par_from_hyper_par(\\\n",
    "                                prior_params_paragami.flatten(prior_params_pert_dict, free = True))\n",
    "        \n",
    "        # get re-optimization results \n",
    "        vb_pert_opt_dict, vb_params_paragami, data = \\\n",
    "            paragami.load_folded('./iris_fits/iris_fits_alpha{}.npz'.format(alpha_list[i]))\n",
    "        assert data['alpha'] == new_alpha\n",
    "        assert_optimizer(features, vb_pert_opt_dict, vb_params_paragami, \n",
    "                         prior_params_pert_dict, gh_loc, gh_weights)\n",
    "        \n",
    "        # get e number of clusters from linear response \n",
    "        # this function is rather slow! \n",
    "        lr_e_num_clusters_vec[i], _ = \\\n",
    "            gmm_lib.get_e_num_clusters_from_free_par(features, vb_params_paragami, \n",
    "                                    lr_free_params,\n",
    "                                    gh_loc, gh_weights,\n",
    "                                    threshold = threshold,\n",
    "                                    n_samples = None, \n",
    "                                    unif_samples = unif_samples)\n",
    "    \n",
    "        # get e number clusters from refit \n",
    "        refit_e_num_clusters_vec[i] , _ = \\\n",
    "            gmm_lib.get_e_num_clusters_from_free_par(features, vb_params_paragami, \n",
    "                                    vb_params_paragami.flatten(vb_pert_opt_dict, free = True),\n",
    "                                    gh_loc, gh_weights,\n",
    "                                    threshold = threshold,\n",
    "                                    n_samples = None, \n",
    "                                    unif_samples = unif_samples)\n",
    "        \n",
    "        # get timing results for refits \n",
    "        refit_time += data['refit_time']\n",
    "        \n",
    "    print('total refit time: {:.03f} secs'.format(refit_time))\n",
    "    \n",
    "    return lr_e_num_clusters_vec, refit_e_num_clusters_vec"
   ]
  },
  {
   "cell_type": "code",
   "execution_count": 6,
   "metadata": {},
   "outputs": [],
   "source": [
    "alpha_list = np.arange(start=0.5, stop=16, step=0.5) "
   ]
  },
  {
   "cell_type": "markdown",
   "metadata": {},
   "source": [
    "# Get figure 1 from the paper"
   ]
  },
  {
   "cell_type": "code",
   "execution_count": 7,
   "metadata": {},
   "outputs": [
    {
     "name": "stdout",
     "output_type": "stream",
     "text": [
      "computing linear approximation at alpha = 3.0\n"
     ]
    },
    {
     "name": "stderr",
     "output_type": "stream",
     "text": [
      "\r",
      "  0%|          | 0/31 [00:00<?, ?it/s]"
     ]
    },
    {
     "name": "stdout",
     "output_type": "stream",
     "text": [
      "linear response time: 12.517 secs\n",
      "extrapolating ...\n"
     ]
    },
    {
     "name": "stderr",
     "output_type": "stream",
     "text": [
      "100%|██████████| 31/31 [01:27<00:00,  2.75s/it]"
     ]
    },
    {
     "name": "stdout",
     "output_type": "stream",
     "text": [
      "total refit time: 571.309 secs\n"
     ]
    },
    {
     "name": "stderr",
     "output_type": "stream",
     "text": [
      "\n"
     ]
    }
   ],
   "source": [
    "lr_e_num_clusters_vec_init3, refit_e_num_clusters_vec_init3 = get_linear_sensitivity_results(3.0, alpha_list)"
   ]
  },
  {
   "cell_type": "code",
   "execution_count": 8,
   "metadata": {
    "scrolled": true
   },
   "outputs": [
    {
     "name": "stdout",
     "output_type": "stream",
     "text": [
      "computing linear approximation at alpha = 8.0\n"
     ]
    },
    {
     "name": "stderr",
     "output_type": "stream",
     "text": [
      "\r",
      "  0%|          | 0/31 [00:00<?, ?it/s]"
     ]
    },
    {
     "name": "stdout",
     "output_type": "stream",
     "text": [
      "linear response time: 12.110 secs\n",
      "extrapolating ...\n"
     ]
    },
    {
     "name": "stderr",
     "output_type": "stream",
     "text": [
      "100%|██████████| 31/31 [01:22<00:00,  2.72s/it]"
     ]
    },
    {
     "name": "stdout",
     "output_type": "stream",
     "text": [
      "total refit time: 571.309 secs\n"
     ]
    },
    {
     "name": "stderr",
     "output_type": "stream",
     "text": [
      "\n"
     ]
    }
   ],
   "source": [
    "lr_e_num_clusters_vec_init8, refit_e_num_clusters_vec_init8 = get_linear_sensitivity_results(8.0, alpha_list)"
   ]
  },
  {
   "cell_type": "code",
   "execution_count": 9,
   "metadata": {},
   "outputs": [
    {
     "name": "stdout",
     "output_type": "stream",
     "text": [
      "computing linear approximation at alpha = 13.0\n"
     ]
    },
    {
     "name": "stderr",
     "output_type": "stream",
     "text": [
      "\r",
      "  0%|          | 0/31 [00:00<?, ?it/s]"
     ]
    },
    {
     "name": "stdout",
     "output_type": "stream",
     "text": [
      "linear response time: 12.084 secs\n",
      "extrapolating ...\n"
     ]
    },
    {
     "name": "stderr",
     "output_type": "stream",
     "text": [
      "100%|██████████| 31/31 [01:18<00:00,  2.54s/it]"
     ]
    },
    {
     "name": "stdout",
     "output_type": "stream",
     "text": [
      "total refit time: 571.309 secs\n"
     ]
    },
    {
     "name": "stderr",
     "output_type": "stream",
     "text": [
      "\n"
     ]
    }
   ],
   "source": [
    "lr_e_num_clusters_vec_init13, refit_e_num_clusters_vec_init13 = get_linear_sensitivity_results(13.0, alpha_list)"
   ]
  },
  {
   "cell_type": "code",
   "execution_count": 10,
   "metadata": {},
   "outputs": [
    {
     "data": {
      "text/plain": [
       "<matplotlib.lines.Line2D at 0x7f51007aafd0>"
      ]
     },
     "execution_count": 10,
     "metadata": {},
     "output_type": "execute_result"
    },
    {
     "data": {
      "image/png": "[encoded data removed]",
      "text/plain": [
       "<Figure size 1080x288 with 3 Axes>"
      ]
     },
     "metadata": {
      "needs_background": "light"
     },
     "output_type": "display_data"
    }
   ],
   "source": [
    "f, axarr = plt.subplots(1, 3, figsize = (15, 4))\n",
    "\n",
    "axarr[0].plot(alpha_list, refit_e_num_clusters_vec_init3, '+-')\n",
    "axarr[0].plot(alpha_list, lr_e_num_clusters_vec_init3, '+-')\n",
    "axarr[0].set(xlabel='alpha', ylabel='e num clusters')\n",
    "axarr[0].legend(('refitted', 'linear approx'))\n",
    "axarr[0].axvline(3.0, color = 'red', linestyle = 'dashed')\n",
    "\n",
    "axarr[1].plot(alpha_list, refit_e_num_clusters_vec_init8, '+-')\n",
    "axarr[1].plot(alpha_list, lr_e_num_clusters_vec_init8, '+-')\n",
    "axarr[1].set(xlabel='alpha', ylabel='e num clusters')\n",
    "axarr[1].legend(('refitted', 'linear approx'))\n",
    "axarr[1].axvline(8.0, color = 'red', linestyle = 'dashed')\n",
    "\n",
    "axarr[2].plot(alpha_list, refit_e_num_clusters_vec_init13, '+-')\n",
    "axarr[2].plot(alpha_list, lr_e_num_clusters_vec_init13, '+-')\n",
    "axarr[2].set(xlabel='alpha', ylabel='e num clusters')\n",
    "axarr[2].legend(('refitted', 'linear approx'))\n",
    "axarr[2].axvline(13.0, color = 'red', linestyle = 'dashed')"
   ]
  },
  {
   "cell_type": "markdown",
   "metadata": {
    "collapsed": true
   },
   "source": [
    "For other parametric sensitivty figures, set `threshold` and/or `insample` flag accordingly. "
   ]
  },
  {
   "cell_type": "code",
   "execution_count": null,
   "metadata": {
    "collapsed": true
   },
   "outputs": [],
   "source": []
  },
  {
   "cell_type": "code",
   "execution_count": null,
   "metadata": {
    "collapsed": true
   },
   "outputs": [],
   "source": []
  },
  {
   "cell_type": "code",
   "execution_count": null,
   "metadata": {
    "collapsed": true
   },
   "outputs": [],
   "source": []
  }
 ],
 "metadata": {
  "kernelspec": {
   "display_name": "bnpgmm_runjingdev",
   "language": "python",
   "name": "bnpgmm_runjingdev"
  },
  "language_info": {
   "codemirror_mode": {
    "name": "ipython",
    "version": 3
   },
   "file_extension": ".py",
   "mimetype": "text/x-python",
   "name": "python",
   "nbconvert_exporter": "python",
   "pygments_lexer": "ipython3",
   "version": "3.5.2"
  }
 },
 "nbformat": 4,
 "nbformat_minor": 2
}
