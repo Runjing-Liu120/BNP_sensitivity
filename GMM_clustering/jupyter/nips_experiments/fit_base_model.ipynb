{
 "cells": [
  {
   "cell_type": "code",
   "execution_count": 16,
   "metadata": {
    "collapsed": true
   },
   "outputs": [],
   "source": [
    "# This notebook fits an initial model at alpha0\n",
    "# then it refits alternative models for different alpha's"
   ]
  },
  {
   "cell_type": "code",
   "execution_count": 17,
   "metadata": {
    "collapsed": false
   },
   "outputs": [],
   "source": [
    "git_repo = '../../../../'\n",
    "\n",
    "import sys\n",
    "import os\n",
    "\n",
    "sys.path.insert(0, os.path.join(git_repo, 'BNP_sensitivity/GMM_clustering/'))\n",
    "sys.path.insert(0, '../../../../LinearResponseVariationalBayes.py')\n",
    "\n",
    "# Linear response libraries\n",
    "import LinearResponseVariationalBayes as vb\n",
    "import LinearResponseVariationalBayes.SparseObjectives as obj_lib\n",
    "\n",
    "# My libraries\n",
    "import gmm_clustering_lib as gmm_utils\n",
    "import modeling_lib \n",
    "import functional_sensitivity_lib as fun_sens_lib \n",
    "import utils_lib\n",
    "import simulation_lib\n",
    "\n",
    "from scipy import spatial\n",
    "import scipy.cluster.hierarchy as sch\n",
    "\n",
    "import matplotlib.pyplot as plt\n",
    "%matplotlib inline\n",
    "\n",
    "import time\n",
    "from tqdm import tqdm\n",
    "\n",
    "from copy import deepcopy\n",
    "\n",
    "import numpy as np\n",
    "import scipy as sp\n",
    "\n",
    "np.random.seed(453453)\n",
    "\n",
    "import json \n",
    "\n",
    "from sklearn.cluster import KMeans\n",
    "from sklearn.decomposition import PCA\n"
   ]
  },
  {
   "cell_type": "code",
   "execution_count": 3,
   "metadata": {
    "collapsed": true
   },
   "outputs": [],
   "source": [
    "# colors for plotting\n",
    "import matplotlib.cm as cm\n",
    "\n",
    "cmap = cm.get_cmap(name='gist_rainbow')\n",
    "colors1 = [cmap(k * 50) for k in range(12)]\n",
    "colors2 = [cmap(k * 25) for k in range(12)]"
   ]
  },
  {
   "cell_type": "code",
   "execution_count": 4,
   "metadata": {
    "collapsed": false
   },
   "outputs": [
    {
     "data": {
      "image/png": "[encoded data removed]",
      "text/plain": [
       "<matplotlib.figure.Figure at 0x7fcd49a19be0>"
      ]
     },
     "metadata": {},
     "output_type": "display_data"
    }
   ],
   "source": [
    "# load (or simulate) data\n",
    "simulate = False\n",
    "if not simulate:\n",
    "    # load iris data\n",
    "    dataset_name = 'iris'\n",
    "    features, iris_species = utils_lib.load_data()\n",
    "    dim = features.shape[1]\n",
    "    \n",
    "    # run PCA\n",
    "    pca_fit = PCA()\n",
    "    pca_fit.fit(features)\n",
    "    pc_features = pca_fit.transform(features)\n",
    "    \n",
    "    # plot\n",
    "    fig1 = plt.figure(1)\n",
    "    fig = fig1.add_subplot(111)\n",
    "    utils_lib.plot_clusters(pc_features[:, 0], pc_features[:, 1], iris_species, colors1, fig)\n",
    "    fig.set_xlabel('PC1')\n",
    "    fig.set_ylabel('PC2')\n",
    "    \n",
    "    \n",
    "else:\n",
    "    # Simulate data\n",
    "    dataset_name = 'simulation'\n",
    "\n",
    "    n_obs = 1000\n",
    "    dim = 2\n",
    "    true_k = 3\n",
    "    features, true_z, true_components, true_centroids, true_covs, true_probs = \\\n",
    "        simulation_lib.simulate_data(n_obs, dim, true_k, separation=0.4)\n",
    "\n",
    "    for k in range(true_k):\n",
    "        plt.plot(features[true_components == k, 0], features[true_components == k, 1], '.')"
   ]
  },
  {
   "cell_type": "markdown",
   "metadata": {},
   "source": [
    "# Set up the model"
   ]
  },
  {
   "cell_type": "code",
   "execution_count": 5,
   "metadata": {
    "collapsed": true
   },
   "outputs": [],
   "source": [
    "prior_params = gmm_utils.get_default_prior_params(dim)\n",
    "prior_params['alpha'].set(3.5)\n",
    "\n",
    "prior_params['prior_gamma_df'].set(8)\n",
    "prior_params['prior_gamma_inv_scale'].set(np.eye(dim) * 0.62)"
   ]
  },
  {
   "cell_type": "code",
   "execution_count": 6,
   "metadata": {
    "collapsed": true
   },
   "outputs": [],
   "source": [
    "k_approx = 12\n",
    "gh_deg = 8\n",
    "model = gmm_utils.DPGaussianMixture(\n",
    "    features, k_approx, prior_params, gh_deg, use_logitnormal_sticks=True)"
   ]
  },
  {
   "cell_type": "code",
   "execution_count": 7,
   "metadata": {
    "collapsed": true
   },
   "outputs": [],
   "source": [
    "# run k-means init\n",
    "n_kmeans_init = 50\n",
    "init_global_free_param = model.cluster_and_set_inits(n_kmeans_init = n_kmeans_init)"
   ]
  },
  {
   "cell_type": "code",
   "execution_count": 8,
   "metadata": {
    "collapsed": false,
    "scrolled": true
   },
   "outputs": [
    {
     "name": "stdout",
     "output_type": "stream",
     "text": [
      "Iter: 0\t RMSE: 5.561691210660702\t Objective: 10870.81219254104\n",
      "Iter: 50\t RMSE: 26.022491793847735\t Objective: 191.7290169868345\n",
      "Iter: 100\t RMSE: 12.286143139502276\t Objective: -276.0660272405754\n",
      "Iter: 150\t RMSE: 11.227178010565243\t Objective: -296.81035592144536\n",
      "Iter: 200\t RMSE: 11.244825282589344\t Objective: -302.6339992040039\n",
      "Iter: 250\t RMSE: 11.201855521561946\t Objective: -303.9962560949981\n",
      "Iter: 300\t RMSE: 11.19347114499125\t Objective: -304.5516832992632\n",
      "Iter: 350\t RMSE: 11.205506432728294\t Objective: -304.94682221593894\n",
      "Iter: 400\t RMSE: 11.210963998262477\t Objective: -305.3721130815602\n",
      "Iter: 450\t RMSE: 11.215515067234827\t Objective: -305.5063152032766\n",
      "Iter: 500\t RMSE: 11.213104218491223\t Objective: -305.51375242774554\n",
      "Warning: Maximum number of iterations has been exceeded.\n",
      "         Current function value: -305.514051\n",
      "         Iterations: 500\n",
      "         Function evaluations: 523\n",
      "         Gradient evaluations: 523\n",
      "Iter: 523\t RMSE: 11.213220678852293\t Objective: -305.5140514650583\n",
      "Iter: 524\t RMSE: 11.213345096507107\t Objective: -305.5141182330752\n",
      "Iter: 525\t RMSE: 11.213295944851442\t Objective: -305.5141186446681\n",
      "Iter: 526\t RMSE: 11.213295585134356\t Objective: -305.514118644734\n",
      "Optimization terminated successfully.\n",
      "         Current function value: -305.514119\n",
      "         Iterations: 3\n",
      "         Function evaluations: 4\n",
      "         Gradient evaluations: 4\n",
      "         Hessian evaluations: 0\n",
      "Optimization terminated successfully.\n",
      "Iter: 527\t RMSE: 11.213295585134356\t Objective: -305.5141186447348\n",
      "         Current function value: -305.514119\n",
      "         Iterations: 0\n",
      "         Function evaluations: 1\n",
      "         Gradient evaluations: 1\n",
      "         Hessian evaluations: 0\n",
      "Done. Converged:  True\n"
     ]
    }
   ],
   "source": [
    "t0 = time.time()\n",
    "best_param, converged, x_conv, f_conv, grad_conv, obj_opt, opt_results = \\\n",
    "    model.optimize_full(init_global_free_param)\n",
    "t_newton = time.time() - t0\n",
    "\n",
    "assert converged\n",
    "print('Done. Converged: ', converged)"
   ]
  },
  {
   "cell_type": "code",
   "execution_count": 9,
   "metadata": {
    "collapsed": true
   },
   "outputs": [],
   "source": [
    "kl_hessian = model.objective.fun_free_hessian(best_param)"
   ]
  },
  {
   "cell_type": "code",
   "execution_count": 10,
   "metadata": {
    "collapsed": false
   },
   "outputs": [],
   "source": [
    "# look at results\n",
    "bnp_clusters = np.argmax(model.e_z, axis = 1)\n",
    "bnp_centroids = model.vb_params['global']['centroids'].get()\n",
    "\n",
    "bnp_cluster_infos = model.vb_params['global']['gamma'].get()\n",
    "bnp_cluster_covs = np.linalg.inv(bnp_cluster_infos)"
   ]
  },
  {
   "cell_type": "code",
   "execution_count": 11,
   "metadata": {
    "collapsed": false
   },
   "outputs": [],
   "source": [
    "# we plot in PCA space\n",
    "bnp_centroids_pc, bnp_cluster_covs_pc = \\\n",
    "    utils_lib.transform_params_to_pc_space(pca_fit, bnp_centroids, bnp_cluster_covs)"
   ]
  },
  {
   "cell_type": "code",
   "execution_count": 12,
   "metadata": {
    "collapsed": false,
    "scrolled": true
   },
   "outputs": [
    {
     "data": {
      "text/plain": [
       "<matplotlib.text.Text at 0x7fcd462e6b00>"
      ]
     },
     "execution_count": 12,
     "metadata": {},
     "output_type": "execute_result"
    },
    {
     "data": {
      "image/png": "[encoded data removed]",
      "text/plain": [
       "<matplotlib.figure.Figure at 0x7fcd462c8e80>"
      ]
     },
     "metadata": {},
     "output_type": "display_data"
    }
   ],
   "source": [
    "# plot results\n",
    "\n",
    "fig1 = plt.figure(1)\n",
    "fig = fig1.add_subplot(111)\n",
    "\n",
    "colors1_ = deepcopy(colors1)\n",
    "# colors1_[0] = colors1[2]\n",
    "# colors1_[1] = colors1[0]\n",
    "# colors1_[2] = colors1[1]\n",
    "\n",
    "utils_lib.plot_clusters(pc_features[:, 0], pc_features[:, 1], bnp_clusters, \\\n",
    "              colors1_, fig, \\\n",
    "              centroids = bnp_centroids_pc[:, np.unique(bnp_clusters)], \\\n",
    "              cov = bnp_cluster_covs_pc[np.unique(bnp_clusters)])\n",
    "\n",
    "fig.set_xlabel('PC1')\n",
    "fig.set_ylabel('PC2')"
   ]
  },
  {
   "cell_type": "code",
   "execution_count": 13,
   "metadata": {
    "collapsed": false
   },
   "outputs": [
    {
     "name": "stdout",
     "output_type": "stream",
     "text": [
      "saving fit dict to  ./iris_fits_for_nips/bnp_full_data_fit_alpha3.5_iris.json\n"
     ]
    }
   ],
   "source": [
    "# save model\n",
    "\n",
    "fit_dict = gmm_utils.get_checkpoint_dictionary(model, kl_hessian, seed=453453)\n",
    "base_alpha = model.prior_params['alpha'].get()\n",
    "filename = 'bnp_full_data_fit_alpha{}_{}.json'.format(base_alpha, dataset_name)\n",
    "json_output_file = os.path.join(\n",
    "    './iris_fits_for_nips/',\n",
    "    filename)\n",
    "print('saving fit dict to ', json_output_file)\n",
    "with open(json_output_file, 'w') as outfile:\n",
    "    json.dump(fit_dict, outfile)\n"
   ]
  },
  {
   "cell_type": "markdown",
   "metadata": {},
   "source": [
    "# Fit multiple models and save them: "
   ]
  },
  {
   "cell_type": "code",
   "execution_count": 21,
   "metadata": {
    "collapsed": true
   },
   "outputs": [],
   "source": [
    "# we use the original model as an initialization and refit for a range of alphas"
   ]
  },
  {
   "cell_type": "code",
   "execution_count": 14,
   "metadata": {
    "collapsed": false
   },
   "outputs": [
    {
     "name": "stdout",
     "output_type": "stream",
     "text": [
      "[0.5 1.  1.5 2.  2.5 3.  3.5 4.  4.5 5.  5.5 6.  6.5]\n"
     ]
    }
   ],
   "source": [
    "alpha_vec = np.arange(1, 14) * 0.5\n",
    "# alpha_vec = np.array([1.0])\n",
    "print(alpha_vec)"
   ]
  },
  {
   "cell_type": "code",
   "execution_count": 15,
   "metadata": {
    "collapsed": false
   },
   "outputs": [
    {
     "name": "stdout",
     "output_type": "stream",
     "text": [
      "321.4709673641978\n",
      "Iter: 0\t RMSE: 11.213295585134356\t Objective: -308.3613750630773\n",
      "Iter: 50\t RMSE: 11.165363876549174\t Objective: -308.45760819326955\n",
      "Optimization terminated successfully.\n",
      "         Current function value: -308.457687\n",
      "         Iterations: 68\n",
      "         Function evaluations: 84\n",
      "         Gradient evaluations: 84\n",
      "Iter: 84\t RMSE: 11.165205063682857\t Objective: -308.45768717775735\n",
      "Iter: 85\t RMSE: 11.16520514847055\t Objective: -308.4576871778969\n",
      "Optimization terminated successfully.\n",
      "         Current function value: -308.457687\n",
      "         Iterations: 1\n",
      "         Function evaluations: 2\n",
      "         Gradient evaluations: 2\n",
      "         Hessian evaluations: 0\n",
      "Done. Converged:  True\n",
      "saving fit dict to  ./iris_fits_for_nips/bnp_full_data_fit_alpha0.5_iris.json\n",
      "321.4709673641978\n",
      "Iter: 0\t RMSE: 11.213295585134356\t Objective: -307.8868323266869\n",
      "Iter: 50\t RMSE: 11.17123318845411\t Objective: -307.95318538949755\n",
      "Optimization terminated successfully.\n",
      "         Current function value: -307.953256\n",
      "         Iterations: 67\n",
      "         Function evaluations: 85\n",
      "         Gradient evaluations: 85\n",
      "Iter: 85\t RMSE: 11.171057711049542\t Objective: -307.953256304666\n",
      "Iter: 86\t RMSE: 11.171058166180709\t Objective: -307.9532563048074\n",
      "Optimization terminated successfully.\n",
      "         Current function value: -307.953256\n",
      "         Iterations: 1\n",
      "         Function evaluations: 2\n",
      "         Gradient evaluations: 2\n",
      "         Hessian evaluations: 0\n",
      "Done. Converged:  True\n",
      "saving fit dict to  ./iris_fits_for_nips/bnp_full_data_fit_alpha1.0_iris.json\n",
      "321.4709673641978\n",
      "Iter: 0\t RMSE: 11.213295585134356\t Objective: -307.41228959029644\n",
      "Iter: 50\t RMSE: 11.178232092487086\t Objective: -307.4543955825233\n",
      "Optimization terminated successfully.\n",
      "         Current function value: -307.454425\n",
      "         Iterations: 68\n",
      "         Function evaluations: 83\n",
      "         Gradient evaluations: 83\n",
      "Iter: 83\t RMSE: 11.178061405134141\t Objective: -307.45442473992716\n",
      "Iter: 84\t RMSE: 11.178061371794051\t Objective: -307.4544247399696\n",
      "Optimization terminated successfully.\n",
      "         Current function value: -307.454425\n",
      "         Iterations: 1\n",
      "         Function evaluations: 2\n",
      "         Gradient evaluations: 2\n",
      "         Hessian evaluations: 0\n",
      "Done. Converged:  True\n",
      "saving fit dict to  ./iris_fits_for_nips/bnp_full_data_fit_alpha1.5_iris.json\n",
      "321.4709673641978\n",
      "Iter: 0\t RMSE: 11.213295585134356\t Objective: -306.93774685390605\n",
      "Iter: 50\t RMSE: 11.186498949253153\t Objective: -306.9611570879928\n",
      "Optimization terminated successfully.\n",
      "         Current function value: -306.961171\n",
      "         Iterations: 64\n",
      "         Function evaluations: 79\n",
      "         Gradient evaluations: 79\n",
      "Iter: 79\t RMSE: 11.18647830058128\t Objective: -306.9611709259244\n",
      "Iter: 80\t RMSE: 11.186478620669368\t Objective: -306.9611709260326\n",
      "Optimization terminated successfully.\n",
      "         Current function value: -306.961171\n",
      "         Iterations: 1\n",
      "         Function evaluations: 2\n",
      "         Gradient evaluations: 2\n",
      "         Hessian evaluations: 0\n",
      "Done. Converged:  True\n",
      "saving fit dict to  ./iris_fits_for_nips/bnp_full_data_fit_alpha2.0_iris.json\n",
      "321.4709673641978\n",
      "Iter: 0\t RMSE: 11.213295585134356\t Objective: -306.46320411751566\n",
      "Iter: 50\t RMSE: 11.195961610138626\t Objective: -306.47346048138417\n",
      "Optimization terminated successfully.\n",
      "         Current function value: -306.473465\n",
      "         Iterations: 65\n",
      "         Function evaluations: 79\n",
      "         Gradient evaluations: 79\n",
      "Iter: 79\t RMSE: 11.195931233847492\t Objective: -306.4734653709499\n",
      "Iter: 80\t RMSE: 11.19593192226093\t Objective: -306.4734653710328\n",
      "Optimization terminated successfully.\n",
      "         Current function value: -306.473465\n",
      "         Iterations: 1\n",
      "         Function evaluations: 2\n",
      "         Gradient evaluations: 2\n",
      "         Hessian evaluations: 0\n",
      "Done. Converged:  True\n",
      "saving fit dict to  ./iris_fits_for_nips/bnp_full_data_fit_alpha2.5_iris.json\n",
      "321.4709673641978\n",
      "Iter: 0\t RMSE: 11.213295585134356\t Objective: -305.9886613811252\n",
      "Iter: 50\t RMSE: 11.205183004547713\t Objective: -305.99118603078375\n",
      "Optimization terminated successfully.\n",
      "         Current function value: -305.991187\n",
      "         Iterations: 66\n",
      "         Function evaluations: 76\n",
      "         Gradient evaluations: 76\n",
      "Iter: 76\t RMSE: 11.205146328753552\t Objective: -305.99118737904365\n",
      "Iter: 77\t RMSE: 11.205146601331585\t Objective: -305.99118737910527\n",
      "Optimization terminated successfully.\n",
      "         Current function value: -305.991187\n",
      "         Iterations: 1\n",
      "         Function evaluations: 2\n",
      "         Gradient evaluations: 2\n",
      "         Hessian evaluations: 0\n",
      "Done. Converged:  True\n",
      "saving fit dict to  ./iris_fits_for_nips/bnp_full_data_fit_alpha3.0_iris.json\n",
      "321.4709673641978\n",
      "Iter: 0\t RMSE: 11.213295585134356\t Objective: -305.5141186447348\n",
      "Optimization terminated successfully.\n",
      "         Current function value: -305.514119\n",
      "         Iterations: 0\n",
      "         Function evaluations: 1\n",
      "         Gradient evaluations: 1\n",
      "Optimization terminated successfully.\n",
      "Iter: 1\t RMSE: 11.213295585134354\t Objective: -305.5141186447349\n",
      "         Current function value: -305.514119\n",
      "         Iterations: 0\n",
      "         Function evaluations: 1\n",
      "         Gradient evaluations: 1\n",
      "         Hessian evaluations: 0\n",
      "Done. Converged:  True\n",
      "saving fit dict to  ./iris_fits_for_nips/bnp_full_data_fit_alpha3.5_iris.json\n",
      "321.4709673641978\n",
      "Iter: 0\t RMSE: 11.213295585134356\t Objective: -305.03957590834443\n",
      "Iter: 50\t RMSE: 11.220311867254832\t Objective: -305.04202874284755\n",
      "Optimization terminated successfully.\n",
      "         Current function value: -305.042031\n",
      "         Iterations: 62\n",
      "         Function evaluations: 77\n",
      "         Gradient evaluations: 77\n",
      "Iter: 77\t RMSE: 11.220396174065229\t Objective: -305.04203081612565\n",
      "Iter: 78\t RMSE: 11.220396520584636\t Objective: -305.04203081620227\n",
      "Optimization terminated successfully.\n",
      "         Current function value: -305.042031\n",
      "         Iterations: 1\n",
      "         Function evaluations: 2\n",
      "         Gradient evaluations: 2\n",
      "         Hessian evaluations: 0\n",
      "Done. Converged:  True\n",
      "saving fit dict to  ./iris_fits_for_nips/bnp_full_data_fit_alpha4.0_iris.json\n",
      "321.4709673641978\n",
      "Iter: 0\t RMSE: 11.213295585134356\t Objective: -304.565033171954\n",
      "Iter: 50\t RMSE: 11.226485869848766\t Objective: -304.5747116226304\n",
      "Optimization terminated successfully.\n",
      "         Current function value: -304.574729\n",
      "         Iterations: 68\n",
      "         Function evaluations: 84\n",
      "         Gradient evaluations: 84\n",
      "Iter: 84\t RMSE: 11.226690268915656\t Objective: -304.5747294575775\n",
      "Iter: 85\t RMSE: 11.226690238199632\t Objective: -304.5747294576283\n",
      "Optimization terminated successfully.\n",
      "         Current function value: -304.574729\n",
      "         Iterations: 1\n",
      "         Function evaluations: 2\n",
      "         Gradient evaluations: 2\n",
      "         Hessian evaluations: 0\n",
      "Done. Converged:  True\n",
      "saving fit dict to  ./iris_fits_for_nips/bnp_full_data_fit_alpha4.5_iris.json\n",
      "321.4709673641978\n",
      "Iter: 0\t RMSE: 11.213295585134356\t Objective: -304.0904904355636\n",
      "Iter: 50\t RMSE: 11.231981934100657\t Objective: -304.1119445837635\n",
      "Optimization terminated successfully.\n",
      "         Current function value: -304.112052\n",
      "         Iterations: 67\n",
      "         Function evaluations: 87\n",
      "         Gradient evaluations: 87\n",
      "Iter: 87\t RMSE: 11.232376624901324\t Objective: -304.11205214679933\n",
      "Iter: 88\t RMSE: 11.232376769270171\t Objective: -304.11205214718217\n",
      "Optimization terminated successfully.\n",
      "         Current function value: -304.112052\n",
      "         Iterations: 1\n",
      "         Function evaluations: 2\n",
      "         Gradient evaluations: 2\n",
      "         Hessian evaluations: 0\n",
      "Done. Converged:  True\n",
      "saving fit dict to  ./iris_fits_for_nips/bnp_full_data_fit_alpha5.0_iris.json\n",
      "321.4709673641978\n",
      "Iter: 0\t RMSE: 11.213295585134356\t Objective: -303.61594769917315\n",
      "Iter: 50\t RMSE: 11.23698298946949\t Objective: -303.65363756438455\n",
      "Optimization terminated successfully.\n",
      "         Current function value: -303.653858\n",
      "         Iterations: 67\n",
      "         Function evaluations: 85\n",
      "         Gradient evaluations: 85\n",
      "Iter: 85\t RMSE: 11.23758670665158\t Objective: -303.6538580712814\n",
      "Iter: 86\t RMSE: 11.237587393136792\t Objective: -303.6538580736982\n",
      "Optimization terminated successfully.\n",
      "         Current function value: -303.653858\n",
      "         Iterations: 1\n",
      "         Function evaluations: 2\n",
      "         Gradient evaluations: 2\n",
      "         Hessian evaluations: 0\n",
      "Done. Converged:  True\n",
      "saving fit dict to  ./iris_fits_for_nips/bnp_full_data_fit_alpha5.5_iris.json\n",
      "321.4709673641978\n",
      "Iter: 0\t RMSE: 11.213295585134356\t Objective: -303.14140496278276\n",
      "Iter: 50\t RMSE: 11.2412008102186\t Objective: -303.1997298517222\n",
      "Optimization terminated successfully.\n",
      "         Current function value: -303.200019\n",
      "         Iterations: 74\n",
      "         Function evaluations: 92\n",
      "         Gradient evaluations: 92\n",
      "Iter: 92\t RMSE: 11.242396558659419\t Objective: -303.2000190345983\n",
      "Iter: 93\t RMSE: 11.242396794221577\t Objective: -303.2000190347947\n",
      "Optimization terminated successfully.\n",
      "         Current function value: -303.200019\n",
      "         Iterations: 1\n",
      "         Function evaluations: 2\n",
      "         Gradient evaluations: 2\n",
      "         Hessian evaluations: 0\n",
      "Done. Converged:  True\n",
      "saving fit dict to  ./iris_fits_for_nips/bnp_full_data_fit_alpha6.0_iris.json\n",
      "321.4709673641978\n",
      "Iter: 0\t RMSE: 11.213295585134356\t Objective: -302.66686222639237\n",
      "Iter: 50\t RMSE: 11.245596819642728\t Objective: -302.75008808238596\n",
      "Optimization terminated successfully.\n",
      "         Current function value: -302.750412\n",
      "         Iterations: 79\n",
      "         Function evaluations: 96\n",
      "         Gradient evaluations: 96\n",
      "Iter: 96\t RMSE: 11.246830345578385\t Objective: -302.75041160166086\n",
      "Iter: 97\t RMSE: 11.246830440126104\t Objective: -302.7504116018602\n",
      "Optimization terminated successfully.\n",
      "         Current function value: -302.750412\n",
      "         Iterations: 1\n",
      "         Function evaluations: 2\n",
      "         Gradient evaluations: 2\n",
      "         Hessian evaluations: 0\n",
      "Done. Converged:  True\n",
      "saving fit dict to  ./iris_fits_for_nips/bnp_full_data_fit_alpha6.5_iris.json\n"
     ]
    }
   ],
   "source": [
    "\n",
    "for i in range(len(alpha_vec)): \n",
    "       \n",
    "    # define prior\n",
    "    prior_params = gmm_utils.get_default_prior_params(dim)\n",
    "    prior_params['alpha'].set(alpha_vec[i])\n",
    "\n",
    "    prior_params['prior_gamma_df'].set(8)\n",
    "    prior_params['prior_gamma_inv_scale'].set(np.eye(dim) * 0.62)\n",
    "\n",
    "    # define model \n",
    "    k_approx = 12\n",
    "    gh_deg = 8\n",
    "    model_refit = gmm_utils.DPGaussianMixture(\n",
    "        features, k_approx, prior_params, gh_deg, use_logitnormal_sticks=True)\n",
    "\n",
    "    # initialize from the original model \n",
    "    init_global_free_param = deepcopy(best_param)\n",
    "    # fit model\n",
    "    t0 = time.time()\n",
    "    best_param_refit, converged, x_conv, f_conv, grad_conv, obj_opt, opt_results = \\\n",
    "        model_refit.optimize_full(init_global_free_param)\n",
    "    t_newton = time.time() - t0\n",
    "\n",
    "    assert converged\n",
    "    print('Done. Converged: ', converged)\n",
    "\n",
    "    # get KL\n",
    "    kl_hessian = model_refit.objective.fun_free_hessian(best_param_refit)\n",
    "\n",
    "    # save model\n",
    "    fit_dict = gmm_utils.get_checkpoint_dictionary(model_refit, kl_hessian, seed=453453)\n",
    "    alpha = model_refit.prior_params['alpha'].get()\n",
    "    filename = 'bnp_full_data_fit_alpha{}_{}.json'.format(alpha, dataset_name)\n",
    "    json_output_file = os.path.join(\n",
    "        './iris_fits_for_nips/',\n",
    "        filename)\n",
    "    print('saving fit dict to ', json_output_file)\n",
    "    with open(json_output_file, 'w') as outfile:\n",
    "        json.dump(fit_dict, outfile)\n"
   ]
  },
  {
   "cell_type": "code",
   "execution_count": null,
   "metadata": {
    "collapsed": true
   },
   "outputs": [],
   "source": []
  },
  {
   "cell_type": "code",
   "execution_count": null,
   "metadata": {
    "collapsed": true
   },
   "outputs": [],
   "source": []
  },
  {
   "cell_type": "code",
   "execution_count": null,
   "metadata": {
    "collapsed": true
   },
   "outputs": [],
   "source": []
  }
 ],
 "metadata": {
  "kernelspec": {
   "display_name": "Python 3",
   "language": "python",
   "name": "python3"
  },
  "language_info": {
   "codemirror_mode": {
    "name": "ipython",
    "version": 3
   },
   "file_extension": ".py",
   "mimetype": "text/x-python",
   "name": "python",
   "nbconvert_exporter": "python",
   "pygments_lexer": "ipython3",
   "version": "3.6.0"
  }
 },
 "nbformat": 4,
 "nbformat_minor": 2
}
