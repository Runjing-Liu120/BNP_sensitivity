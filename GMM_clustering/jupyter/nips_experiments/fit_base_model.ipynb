{
 "cells": [
  {
   "cell_type": "code",
   "execution_count": 1,
   "metadata": {
    "collapsed": true
   },
   "outputs": [],
   "source": [
    "# This notebook fits an initial model at alpha0\n",
    "# then it refits alternative models for different alpha's"
   ]
  },
  {
   "cell_type": "code",
   "execution_count": 2,
   "metadata": {},
   "outputs": [],
   "source": [
    "git_repo = '../../../../'\n",
    "\n",
    "import sys\n",
    "import os\n",
    "\n",
    "sys.path.insert(0, os.path.join(git_repo, 'BNP_sensitivity/GMM_clustering/'))\n",
    "sys.path.insert(0, '../../../../LinearResponseVariationalBayes.py')\n",
    "\n",
    "# Linear response libraries\n",
    "import LinearResponseVariationalBayes as vb\n",
    "import LinearResponseVariationalBayes.SparseObjectives as obj_lib\n",
    "\n",
    "# My libraries\n",
    "import gmm_clustering_lib as gmm_utils\n",
    "import modeling_lib \n",
    "import functional_sensitivity_lib as fun_sens_lib \n",
    "import utils_lib\n",
    "import simulation_lib\n",
    "\n",
    "from scipy import spatial\n",
    "import scipy.cluster.hierarchy as sch\n",
    "\n",
    "import matplotlib.pyplot as plt\n",
    "%matplotlib inline\n",
    "\n",
    "import time\n",
    "from tqdm import tqdm\n",
    "\n",
    "from copy import deepcopy\n",
    "\n",
    "import numpy as np\n",
    "import scipy as sp\n",
    "\n",
    "np.random.seed(453453)\n",
    "\n",
    "import json \n",
    "\n",
    "from sklearn.cluster import KMeans\n",
    "from sklearn.decomposition import PCA\n"
   ]
  },
  {
   "cell_type": "code",
   "execution_count": 3,
   "metadata": {
    "collapsed": true
   },
   "outputs": [],
   "source": [
    "# colors for plotting\n",
    "import matplotlib.cm as cm\n",
    "\n",
    "cmap = cm.get_cmap(name='gist_rainbow')\n",
    "colors1 = [cmap(k * 50) for k in range(12)]\n",
    "colors2 = [cmap(k * 25) for k in range(12)]"
   ]
  },
  {
   "cell_type": "code",
   "execution_count": 4,
   "metadata": {},
   "outputs": [
    {
     "data": {
      "image/png": "[encoded data removed]",
      "text/plain": [
       "<matplotlib.figure.Figure at 0x7ff4a6bb3550>"
      ]
     },
     "metadata": {},
     "output_type": "display_data"
    }
   ],
   "source": [
    "# load (or simulate) data\n",
    "simulate = False\n",
    "if not simulate:\n",
    "    # load iris data\n",
    "    dataset_name = 'iris'\n",
    "    features, iris_species = utils_lib.load_data()\n",
    "    dim = features.shape[1]\n",
    "    \n",
    "    # run PCA\n",
    "    pca_fit = PCA()\n",
    "    pca_fit.fit(features)\n",
    "    pc_features = pca_fit.transform(features)\n",
    "    \n",
    "    # plot\n",
    "    fig1 = plt.figure(1)\n",
    "    fig = fig1.add_subplot(111)\n",
    "    utils_lib.plot_clusters(pc_features[:, 0], pc_features[:, 1], iris_species, colors1, fig)\n",
    "    fig.set_xlabel('PC1')\n",
    "    fig.set_ylabel('PC2')\n",
    "    \n",
    "    \n",
    "else:\n",
    "    # Simulate data\n",
    "    dataset_name = 'simulation'\n",
    "\n",
    "    n_obs = 1000\n",
    "    dim = 2\n",
    "    true_k = 3\n",
    "    features, true_z, true_components, true_centroids, true_covs, true_probs = \\\n",
    "        simulation_lib.simulate_data(n_obs, dim, true_k, separation=0.4)\n",
    "\n",
    "    for k in range(true_k):\n",
    "        plt.plot(features[true_components == k, 0], features[true_components == k, 1], '.')"
   ]
  },
  {
   "cell_type": "markdown",
   "metadata": {},
   "source": [
    "# Set up the model"
   ]
  },
  {
   "cell_type": "code",
   "execution_count": 5,
   "metadata": {
    "collapsed": true
   },
   "outputs": [],
   "source": [
    "prior_params = gmm_utils.get_default_prior_params(dim)\n",
    "prior_params['alpha'].set(3.5)\n",
    "\n",
    "prior_params['prior_gamma_df'].set(8)\n",
    "prior_params['prior_gamma_inv_scale'].set(np.eye(dim) * 0.62)"
   ]
  },
  {
   "cell_type": "code",
   "execution_count": 6,
   "metadata": {
    "collapsed": true
   },
   "outputs": [],
   "source": [
    "k_approx = 12\n",
    "gh_deg = 8\n",
    "model = gmm_utils.DPGaussianMixture(\n",
    "    features, k_approx, prior_params, gh_deg, use_logitnormal_sticks=True)"
   ]
  },
  {
   "cell_type": "code",
   "execution_count": 7,
   "metadata": {
    "collapsed": true
   },
   "outputs": [],
   "source": [
    "# run k-means init\n",
    "n_kmeans_init = 50\n",
    "init_global_free_param = model.cluster_and_set_inits(n_kmeans_init = n_kmeans_init)"
   ]
  },
  {
   "cell_type": "code",
   "execution_count": 8,
   "metadata": {
    "scrolled": false
   },
   "outputs": [
    {
     "name": "stdout",
     "output_type": "stream",
     "text": [
      "Iter: 0\t RMSE: 5.4171664084976205\t Objective: 4857.435222221535\n",
      "Iter: 50\t RMSE: 12.464872877033219\t Objective: -265.56272342103364\n",
      "Iter: 100\t RMSE: 12.410315037661984\t Objective: -312.5194192916855\n",
      "Iter: 150\t RMSE: 12.377074453310142\t Objective: -314.12012675083236\n",
      "Iter: 200\t RMSE: 12.36289713120869\t Objective: -315.2039700857494\n",
      "Iter: 250\t RMSE: 12.365613785533624\t Objective: -315.3425858309618\n",
      "Iter: 300\t RMSE: 11.258220895627954\t Objective: -321.4255099633979\n",
      "Iter: 350\t RMSE: 11.27336697847958\t Objective: -321.93255326411185\n",
      "Iter: 400\t RMSE: 11.255414442834365\t Objective: -322.04360375886193\n",
      "Optimization terminated successfully.\n",
      "         Current function value: -322.072625\n",
      "         Iterations: 406\n",
      "         Function evaluations: 425\n",
      "         Gradient evaluations: 425\n",
      "Iter: 425\t RMSE: 11.270059354447453\t Objective: -322.07262513291744\n",
      "Iter: 426\t RMSE: 11.270059435185319\t Objective: -322.07262513291823\n",
      "Optimization terminated successfully.\n",
      "         Current function value: -322.072625\n",
      "         Iterations: 1\n",
      "         Function evaluations: 2\n",
      "         Gradient evaluations: 2\n",
      "         Hessian evaluations: 0\n",
      "Done. Converged:  True\n"
     ]
    }
   ],
   "source": [
    "t0 = time.time()\n",
    "best_param, converged, x_conv, f_conv, grad_conv, obj_opt, opt_results = \\\n",
    "    model.optimize_full(init_global_free_param)\n",
    "t_newton = time.time() - t0\n",
    "\n",
    "assert converged\n",
    "print('Done. Converged: ', converged)"
   ]
  },
  {
   "cell_type": "code",
   "execution_count": 9,
   "metadata": {
    "collapsed": true
   },
   "outputs": [],
   "source": [
    "kl_hessian = model.objective.fun_free_hessian(best_param)"
   ]
  },
  {
   "cell_type": "code",
   "execution_count": 10,
   "metadata": {},
   "outputs": [],
   "source": [
    "# look at results\n",
    "bnp_clusters = np.argmax(model.e_z, axis = 1)\n",
    "bnp_centroids = model.vb_params['global']['centroids'].get()\n",
    "\n",
    "bnp_cluster_infos = model.vb_params['global']['gamma'].get()\n",
    "bnp_cluster_covs = np.linalg.inv(bnp_cluster_infos)"
   ]
  },
  {
   "cell_type": "code",
   "execution_count": 11,
   "metadata": {},
   "outputs": [],
   "source": [
    "# we plot in PCA space\n",
    "bnp_centroids_pc, bnp_cluster_covs_pc = \\\n",
    "    utils_lib.transform_params_to_pc_space(pca_fit, bnp_centroids, bnp_cluster_covs)"
   ]
  },
  {
   "cell_type": "code",
   "execution_count": 12,
   "metadata": {
    "scrolled": true
   },
   "outputs": [
    {
     "data": {
      "text/plain": [
       "Text(0,0.5,'PC2')"
      ]
     },
     "execution_count": 12,
     "metadata": {},
     "output_type": "execute_result"
    },
    {
     "data": {
      "image/png": "[encoded data removed]",
      "text/plain": [
       "<matplotlib.figure.Figure at 0x7ff4a4737898>"
      ]
     },
     "metadata": {},
     "output_type": "display_data"
    }
   ],
   "source": [
    "# plot results\n",
    "\n",
    "fig1 = plt.figure(1)\n",
    "fig = fig1.add_subplot(111)\n",
    "\n",
    "colors1_ = deepcopy(colors1)\n",
    "# colors1_[0] = colors1[2]\n",
    "# colors1_[1] = colors1[0]\n",
    "# colors1_[2] = colors1[1]\n",
    "\n",
    "utils_lib.plot_clusters(pc_features[:, 0], pc_features[:, 1], bnp_clusters, \\\n",
    "              colors1_, fig, \\\n",
    "              centroids = bnp_centroids_pc[:, np.unique(bnp_clusters)], \\\n",
    "              cov = bnp_cluster_covs_pc[np.unique(bnp_clusters)])\n",
    "\n",
    "fig.set_xlabel('PC1')\n",
    "fig.set_ylabel('PC2')"
   ]
  },
  {
   "cell_type": "code",
   "execution_count": 15,
   "metadata": {},
   "outputs": [
    {
     "name": "stdout",
     "output_type": "stream",
     "text": [
      "saving fit dict to  ./iris_fits_for_nips/bnp_full_data_fit_alpha3.5_iris.json\n"
     ]
    }
   ],
   "source": [
    "# save model\n",
    "\n",
    "fit_dict = gmm_utils.get_checkpoint_dictionary(model, kl_hessian, seed=453453)\n",
    "base_alpha = model.prior_params['alpha'].get()\n",
    "filename = 'bnp_full_data_fit_alpha{}_{}.json'.format(base_alpha, dataset_name)\n",
    "json_output_file = os.path.join(\n",
    "    './iris_fits_for_nips/',\n",
    "    filename)\n",
    "print('saving fit dict to ', json_output_file)\n",
    "with open(json_output_file, 'w') as outfile:\n",
    "    json.dump(fit_dict, outfile)\n"
   ]
  },
  {
   "cell_type": "markdown",
   "metadata": {},
   "source": [
    "# Fit multiple models and save them: "
   ]
  },
  {
   "cell_type": "code",
   "execution_count": 16,
   "metadata": {
    "collapsed": true
   },
   "outputs": [],
   "source": [
    "# we use the original model as an initialization and refit for a range of alphas"
   ]
  },
  {
   "cell_type": "code",
   "execution_count": null,
   "metadata": {},
   "outputs": [
    {
     "name": "stdout",
     "output_type": "stream",
     "text": [
      "[0.5 1.  1.5 2.  2.5 3.  3.5 4.  4.5 5.  5.5 6.  6.5]\n"
     ]
    }
   ],
   "source": [
    "alpha_vec = np.arange(1, 14) * 0.5\n",
    "# alpha_vec = np.array([1.0])\n",
    "print(alpha_vec)"
   ]
  },
  {
   "cell_type": "code",
   "execution_count": null,
   "metadata": {
    "scrolled": false
   },
   "outputs": [
    {
     "name": "stdout",
     "output_type": "stream",
     "text": [
      "Iter: 0\t RMSE: 11.270059435185319\t Objective: -339.5683418547663\n",
      "Iter: 50\t RMSE: 11.407517532450214\t Objective: -351.036607754096\n",
      "Optimization terminated successfully.\n",
      "         Current function value: -351.062475\n",
      "         Iterations: 68\n",
      "         Function evaluations: 84\n",
      "         Gradient evaluations: 84\n",
      "Iter: 84\t RMSE: 11.407515182176729\t Objective: -351.06247501664853\n",
      "Iter: 85\t RMSE: 11.407515186879618\t Objective: -351.062475016765\n",
      "Optimization terminated successfully.\n",
      "         Current function value: -351.062475\n",
      "         Iterations: 1\n",
      "         Function evaluations: 2\n",
      "         Gradient evaluations: 2\n",
      "         Hessian evaluations: 0\n",
      "Done. Converged:  True\n",
      "saving fit dict to  ./iris_fits_for_nips/bnp_full_data_fit_alpha0.5_iris.json\n",
      "Iter: 0\t RMSE: 11.270059435185319\t Objective: -336.6523890677916\n",
      "Iter: 50\t RMSE: 11.40574767492167\t Objective: -342.69880650781374\n",
      "Optimization terminated successfully.\n",
      "         Current function value: -342.741404\n",
      "         Iterations: 76\n",
      "         Function evaluations: 92\n",
      "         Gradient evaluations: 92\n",
      "Iter: 92\t RMSE: 11.40214850683581\t Objective: -342.74140406597274\n",
      "Iter: 93\t RMSE: 11.402148364359093\t Objective: -342.74140406602345\n",
      "Optimization terminated successfully.\n",
      "         Current function value: -342.741404\n",
      "         Iterations: 1\n",
      "         Function evaluations: 2\n",
      "         Gradient evaluations: 2\n",
      "         Hessian evaluations: 0\n",
      "Done. Converged:  True\n",
      "saving fit dict to  ./iris_fits_for_nips/bnp_full_data_fit_alpha1.0_iris.json\n",
      "Iter: 0\t RMSE: 11.270059435185319\t Objective: -333.7364362808169\n",
      "Iter: 50\t RMSE: 11.385083894617662\t Objective: -336.9483580075267\n",
      "Iter: 100\t RMSE: 11.379643603703343\t Objective: -337.1337980947589\n",
      "Optimization terminated successfully.\n",
      "         Current function value: -337.133798\n",
      "         Iterations: 95\n",
      "         Function evaluations: 113\n",
      "         Gradient evaluations: 113\n",
      "Iter: 113\t RMSE: 11.379644703873948\t Objective: -337.13379813944283\n",
      "Iter: 114\t RMSE: 11.379644696953118\t Objective: -337.1337981394969\n",
      "Optimization terminated successfully.\n",
      "         Current function value: -337.133798\n",
      "         Iterations: 1\n",
      "         Function evaluations: 2\n",
      "         Gradient evaluations: 2\n",
      "         Hessian evaluations: 0\n",
      "Done. Converged:  True\n",
      "saving fit dict to  ./iris_fits_for_nips/bnp_full_data_fit_alpha1.5_iris.json\n",
      "Iter: 0\t RMSE: 11.270059435185319\t Objective: -330.82048349384223\n",
      "Iter: 50\t RMSE: 11.324736515294253\t Objective: -332.3980354604139\n",
      "Iter: 100\t RMSE: 11.373116519297218\t Objective: -332.5759026638046\n",
      "Optimization terminated successfully.\n",
      "         Current function value: -332.576880\n",
      "         Iterations: 106\n",
      "         Function evaluations: 127\n",
      "         Gradient evaluations: 127\n",
      "Iter: 127\t RMSE: 11.371893362842298\t Objective: -332.57688015158794\n",
      "Iter: 128\t RMSE: 11.371893357163568\t Objective: -332.57688015168674\n",
      "Optimization terminated successfully.\n",
      "         Current function value: -332.576880\n",
      "         Iterations: 1\n",
      "         Function evaluations: 2\n",
      "         Gradient evaluations: 2\n",
      "         Hessian evaluations: 0\n",
      "Done. Converged:  True\n",
      "saving fit dict to  ./iris_fits_for_nips/bnp_full_data_fit_alpha2.0_iris.json\n",
      "Iter: 0\t RMSE: 11.270059435185319\t Objective: -327.9045307068676\n",
      "Iter: 50\t RMSE: 11.30325759061881\t Objective: -328.53533831613936\n",
      "Optimization terminated successfully.\n",
      "         Current function value: -328.537405\n",
      "         Iterations: 72\n",
      "         Function evaluations: 87\n",
      "         Gradient evaluations: 87\n",
      "Iter: 87\t RMSE: 11.30467848121645\t Objective: -328.5374054160088\n",
      "Iter: 88\t RMSE: 11.304679037770724\t Objective: -328.53740541609227\n",
      "Optimization terminated successfully.\n",
      "         Current function value: -328.537405\n",
      "         Iterations: 1\n",
      "         Function evaluations: 2\n",
      "         Gradient evaluations: 2\n",
      "         Hessian evaluations: 0\n",
      "Done. Converged:  True\n",
      "saving fit dict to  ./iris_fits_for_nips/bnp_full_data_fit_alpha2.5_iris.json\n",
      "Iter: 0\t RMSE: 11.270059435185319\t Objective: -324.9885779198929\n",
      "Iter: 50\t RMSE: 11.282736962730914\t Objective: -325.1330933087102\n",
      "Optimization terminated successfully.\n",
      "         Current function value: -325.133152\n",
      "         Iterations: 68\n",
      "         Function evaluations: 79\n",
      "         Gradient evaluations: 79\n",
      "Iter: 79\t RMSE: 11.282541731031671\t Objective: -325.13315212446315\n",
      "Iter: 80\t RMSE: 11.282543728098911\t Objective: -325.13315212498526\n",
      "Optimization terminated successfully.\n",
      "         Current function value: -325.133152\n",
      "         Iterations: 1\n",
      "         Function evaluations: 2\n",
      "         Gradient evaluations: 2\n",
      "         Hessian evaluations: 0\n",
      "Done. Converged:  True\n",
      "saving fit dict to  ./iris_fits_for_nips/bnp_full_data_fit_alpha3.0_iris.json\n",
      "Iter: 0\t RMSE: 11.270059435185319\t Objective: -322.07262513291823\n",
      "Optimization terminated successfully.\n",
      "         Current function value: -322.072625\n",
      "         Iterations: 0\n",
      "         Function evaluations: 1\n",
      "         Gradient evaluations: 1\n",
      "Iter: 1\t RMSE: 11.270059435185319\t Objective: -322.0726251329194\n",
      "Iter: 2\t RMSE: 11.270059435127322\t Objective: -322.07262513291863\n",
      "Warning: A bad approximation caused failure to predict improvement.\n",
      "         Current function value: -322.072625\n",
      "         Iterations: 0\n",
      "         Function evaluations: 2\n",
      "         Gradient evaluations: 1\n",
      "         Hessian evaluations: 0\n",
      "Done. Converged:  True\n",
      "saving fit dict to  ./iris_fits_for_nips/bnp_full_data_fit_alpha3.5_iris.json\n",
      "Iter: 0\t RMSE: 11.270059435185319\t Objective: -319.15667234594355\n",
      "Iter: 50\t RMSE: 11.271621290115856\t Objective: -319.298067075195\n",
      "Optimization terminated successfully.\n",
      "         Current function value: -319.313836\n",
      "         Iterations: 82\n",
      "         Function evaluations: 98\n",
      "         Gradient evaluations: 98\n",
      "Iter: 98\t RMSE: 11.267590850931983\t Objective: -319.3138364518072\n",
      "Iter: 99\t RMSE: 11.267590739346158\t Objective: -319.31383645208166\n",
      "Optimization terminated successfully.\n",
      "         Current function value: -319.313836\n",
      "         Iterations: 1\n",
      "         Function evaluations: 2\n",
      "         Gradient evaluations: 2\n",
      "         Hessian evaluations: 0\n",
      "Done. Converged:  True\n",
      "saving fit dict to  ./iris_fits_for_nips/bnp_full_data_fit_alpha4.0_iris.json\n",
      "Iter: 0\t RMSE: 11.270059435185319\t Objective: -316.24071955896886\n",
      "Iter: 50\t RMSE: 11.263807604546189\t Objective: -316.7586134864157\n",
      "Iter: 100\t RMSE: 11.26148093604397\t Objective: -316.8066090464037\n",
      "Optimization terminated successfully.\n",
      "         Current function value: -316.806609\n",
      "         Iterations: 91\n",
      "         Function evaluations: 108\n",
      "         Gradient evaluations: 108\n",
      "Iter: 108\t RMSE: 11.261478632380845\t Objective: -316.806609048297\n",
      "Iter: 109\t RMSE: 11.261478768726402\t Objective: -316.8066090483965\n",
      "Optimization terminated successfully.\n",
      "         Current function value: -316.806609\n",
      "         Iterations: 1\n",
      "         Function evaluations: 2\n",
      "         Gradient evaluations: 2\n",
      "         Hessian evaluations: 0\n",
      "Done. Converged:  True\n",
      "saving fit dict to  ./iris_fits_for_nips/bnp_full_data_fit_alpha4.5_iris.json\n",
      "Iter: 0\t RMSE: 11.270059435185319\t Objective: -313.32476677199423\n",
      "Iter: 50\t RMSE: 11.255277021269979\t Objective: -314.4663041819016\n",
      "Iter: 100\t RMSE: 11.255718586083006\t Objective: -314.48533071067806\n",
      "Optimization terminated successfully.\n",
      "         Current function value: -314.485331\n",
      "         Iterations: 82\n",
      "         Function evaluations: 103\n",
      "         Gradient evaluations: 103\n",
      "Iter: 103\t RMSE: 11.255718532019738\t Objective: -314.48533071090765\n",
      "Iter: 104\t RMSE: 11.255718477848777\t Objective: -314.4853307110118\n",
      "Optimization terminated successfully.\n",
      "         Current function value: -314.485331\n",
      "         Iterations: 1\n",
      "         Function evaluations: 2\n",
      "         Gradient evaluations: 2\n",
      "         Hessian evaluations: 0\n",
      "Done. Converged:  True\n",
      "saving fit dict to  ./iris_fits_for_nips/bnp_full_data_fit_alpha5.0_iris.json\n",
      "Iter: 0\t RMSE: 11.270059435185319\t Objective: -310.40881398501955\n",
      "Iter: 50\t RMSE: 11.250969061101195\t Objective: -312.2956529155295\n"
     ]
    }
   ],
   "source": [
    "\n",
    "for i in range(len(alpha_vec)): \n",
    "       \n",
    "    # define prior\n",
    "    prior_params = gmm_utils.get_default_prior_params(dim)\n",
    "    prior_params['alpha'].set(alpha_vec[i])\n",
    "\n",
    "    prior_params['prior_gamma_df'].set(8)\n",
    "    prior_params['prior_gamma_inv_scale'].set(np.eye(dim) * 0.62)\n",
    "\n",
    "    # define model \n",
    "    k_approx = 12\n",
    "    gh_deg = 8\n",
    "    model_refit = gmm_utils.DPGaussianMixture(\n",
    "        features, k_approx, prior_params, gh_deg, use_logitnormal_sticks=True)\n",
    "\n",
    "    # initialize from the original model \n",
    "    init_global_free_param = deepcopy(best_param)\n",
    "    # fit model\n",
    "    t0 = time.time()\n",
    "    best_param_refit, converged, x_conv, f_conv, grad_conv, obj_opt, opt_results = \\\n",
    "        model_refit.optimize_full(init_global_free_param)\n",
    "    t_newton = time.time() - t0\n",
    "\n",
    "    assert converged\n",
    "    print('Done. Converged: ', converged)\n",
    "\n",
    "    # get KL\n",
    "    kl_hessian = model_refit.objective.fun_free_hessian(best_param_refit)\n",
    "\n",
    "    # save model\n",
    "    fit_dict = gmm_utils.get_checkpoint_dictionary(model_refit, kl_hessian, seed=453453)\n",
    "    alpha = model_refit.prior_params['alpha'].get()\n",
    "    filename = 'bnp_full_data_fit_alpha{}_{}.json'.format(alpha, dataset_name)\n",
    "    json_output_file = os.path.join(\n",
    "        './iris_fits_for_nips/',\n",
    "        filename)\n",
    "    print('saving fit dict to ', json_output_file)\n",
    "    with open(json_output_file, 'w') as outfile:\n",
    "        json.dump(fit_dict, outfile)\n"
   ]
  },
  {
   "cell_type": "code",
   "execution_count": null,
   "metadata": {
    "collapsed": true
   },
   "outputs": [],
   "source": [
    "print('Done.')"
   ]
  },
  {
   "cell_type": "code",
   "execution_count": null,
   "metadata": {
    "collapsed": true
   },
   "outputs": [],
   "source": []
  },
  {
   "cell_type": "code",
   "execution_count": null,
   "metadata": {
    "collapsed": true
   },
   "outputs": [],
   "source": []
  }
 ],
 "metadata": {
  "kernelspec": {
   "display_name": "Python 3",
   "language": "python",
   "name": "python3"
  },
  "language_info": {
   "codemirror_mode": {
    "name": "ipython",
    "version": 3
   },
   "file_extension": ".py",
   "mimetype": "text/x-python",
   "name": "python",
   "nbconvert_exporter": "python",
   "pygments_lexer": "ipython3",
   "version": "3.5.2"
  }
 },
 "nbformat": 4,
 "nbformat_minor": 2
}
