{
 "cells": [
  {
   "cell_type": "code",
   "execution_count": 3,
   "metadata": {},
   "outputs": [],
   "source": [
    "from autograd import numpy as np\n",
    "from autograd import scipy as sp\n",
    "\n",
    "from numpy.polynomial.hermite import hermgauss\n",
    "\n",
    "np.random.seed(453453)\n",
    "\n",
    "import paragami\n",
    "\n",
    "# GMM clustering libraries\n",
    "# import sys\n",
    "# sys.path.insert(0, '../../libraries/')\n",
    "\n",
    "import bnpgmm_runjingdev.gmm_clustering_lib as gmm_lib\n",
    "from bnpgmm_runjingdev import utils_lib\n",
    "\n",
    "# BNP libraries: these are pip installed\n",
    "import bnpmodeling_runjingdev.cluster_quantities_lib as cluster_lib\n",
    "import bnpmodeling_runjingdev.optimization_lib as optimization_lib\n",
    "import bnpmodeling_runjingdev.modeling_lib as modeling_lib\n",
    "\n",
    "import matplotlib.pyplot as plt\n",
    "%matplotlib inline\n",
    "import matplotlib.cm as cm\n",
    "\n",
    "from sklearn.decomposition import PCA\n",
    "\n",
    "from copy import deepcopy\n",
    "\n",
    "import json \n",
    "\n",
    "import time"
   ]
  },
  {
   "cell_type": "markdown",
   "metadata": {},
   "source": [
    "# Load data"
   ]
  },
  {
   "cell_type": "markdown",
   "metadata": {},
   "source": [
    "We load and plot the iris dataset"
   ]
  },
  {
   "cell_type": "code",
   "execution_count": 4,
   "metadata": {
    "collapsed": true
   },
   "outputs": [],
   "source": [
    "# load iris data\n",
    "dataset_name = 'iris'\n",
    "features, iris_species = utils_lib.load_data()\n",
    "dim = features.shape[1]\n",
    "n_obs = len(iris_species)    "
   ]
  },
  {
   "cell_type": "code",
   "execution_count": 5,
   "metadata": {},
   "outputs": [
    {
     "data": {
      "text/plain": [
       "Text(0, 0.5, 'PC2')"
      ]
     },
     "execution_count": 5,
     "metadata": {},
     "output_type": "execute_result"
    },
    {
     "data": {
      "image/png": "[encoded data removed]",
      "text/plain": [
       "<Figure size 432x288 with 1 Axes>"
      ]
     },
     "metadata": {
      "needs_background": "light"
     },
     "output_type": "display_data"
    }
   ],
   "source": [
    "# run PCA\n",
    "pca_fit = PCA()\n",
    "pca_fit.fit(features)\n",
    "pc_features = pca_fit.transform(features)\n",
    "\n",
    "# plot\n",
    "cmap = cm.get_cmap(name='gist_rainbow')\n",
    "colors1 = [cmap(k * 50) for k in range(30)]\n",
    "\n",
    "fig1 = plt.figure(1)\n",
    "fig = fig1.add_subplot(111)\n",
    "utils_lib.plot_clusters(pc_features[:, 0], pc_features[:, 1], iris_species, colors1, fig)\n",
    "fig.set_xlabel('PC1')\n",
    "fig.set_ylabel('PC2')\n"
   ]
  },
  {
   "cell_type": "markdown",
   "metadata": {},
   "source": [
    "# Set up model"
   ]
  },
  {
   "cell_type": "markdown",
   "metadata": {},
   "source": [
    "### Prior parameters"
   ]
  },
  {
   "cell_type": "code",
   "execution_count": 7,
   "metadata": {},
   "outputs": [
    {
     "name": "stdout",
     "output_type": "stream",
     "text": [
      "{'alpha': 3.5, 'prior_gamma_df': array([8.]), 'prior_centroid_info': array([0.1]), 'prior_centroid_mean': array([0.]), 'prior_gamma_inv_scale': array([[0.62, 0.  , 0.  , 0.  ],\n",
      "       [0.  , 0.62, 0.  , 0.  ],\n",
      "       [0.  , 0.  , 0.62, 0.  ],\n",
      "       [0.  , 0.  , 0.  , 0.62]])}\n"
     ]
    }
   ],
   "source": [
    "# Get priors\n",
    "prior_params_dict, prior_params_paragami = gmm_lib.get_default_prior_params(dim)\n",
    "prior_params_dict['alpha'] = 3.5\n",
    "print(prior_params_dict)"
   ]
  },
  {
   "cell_type": "markdown",
   "metadata": {},
   "source": [
    "### Variational parameters"
   ]
  },
  {
   "cell_type": "code",
   "execution_count": 8,
   "metadata": {
    "collapsed": true
   },
   "outputs": [],
   "source": [
    "# number of clusters in variational distribution \n",
    "k_approx = 30"
   ]
  },
  {
   "cell_type": "code",
   "execution_count": 9,
   "metadata": {},
   "outputs": [],
   "source": [
    "# Gauss-Hermite points for integrating logitnormal stick-breaking prior\n",
    "gh_deg = 8\n",
    "gh_loc, gh_weights = hermgauss(gh_deg)"
   ]
  },
  {
   "cell_type": "code",
   "execution_count": 10,
   "metadata": {},
   "outputs": [],
   "source": [
    "# get vb parameters\n",
    "vb_params_dict, vb_params_paragami = gmm_lib.get_vb_params_paragami_object(dim, k_approx)"
   ]
  },
  {
   "cell_type": "code",
   "execution_count": 11,
   "metadata": {},
   "outputs": [
    {
     "data": {
      "text/plain": [
       "1460.205125758913"
      ]
     },
     "execution_count": 11,
     "metadata": {},
     "output_type": "execute_result"
    }
   ],
   "source": [
    "# the objective \n",
    "gmm_lib.get_kl(features, vb_params_dict, prior_params_dict, gh_loc, gh_weights)"
   ]
  },
  {
   "cell_type": "markdown",
   "metadata": {},
   "source": [
    "# Optimize the KL objective"
   ]
  },
  {
   "cell_type": "markdown",
   "metadata": {},
   "source": [
    "### Initialize with k-means"
   ]
  },
  {
   "cell_type": "code",
   "execution_count": 12,
   "metadata": {},
   "outputs": [
    {
     "data": {
      "text/plain": [
       "450.9718947107098"
      ]
     },
     "execution_count": 12,
     "metadata": {},
     "output_type": "execute_result"
    }
   ],
   "source": [
    "# run a kmeans init\n",
    "n_kmeans_init = 50\n",
    "init_vb_free_params, init_vb_params_dict, init_ez = \\\n",
    "    utils_lib.cluster_and_get_k_means_inits(features, vb_params_paragami, \n",
    "                                                n_kmeans_init = n_kmeans_init, \n",
    "                                                  seed = 453453)\n",
    "\n",
    "gmm_lib.get_kl(features, init_vb_params_dict, prior_params_dict, gh_loc, gh_weights)"
   ]
  },
  {
   "cell_type": "markdown",
   "metadata": {},
   "source": [
    "### Set up KL objective "
   ]
  },
  {
   "cell_type": "code",
   "execution_count": 13,
   "metadata": {
    "collapsed": true
   },
   "outputs": [],
   "source": [
    "get_vb_params_loss = paragami.FlattenFunctionInput(\n",
    "                                original_fun=gmm_lib.get_kl,\n",
    "                                patterns = vb_params_paragami,\n",
    "                                free = True,\n",
    "                                argnums = 1)\n",
    "\n",
    "get_loss = \\\n",
    "    lambda x : get_vb_params_loss(features,\n",
    "                                x, prior_params_dict,\n",
    "                                 gh_loc, gh_weights)\n"
   ]
  },
  {
   "cell_type": "code",
   "execution_count": 14,
   "metadata": {},
   "outputs": [],
   "source": [
    "# # get loss as a function of vb parameters\n",
    "# get_vb_params_loss = paragami.Functor(original_fun=gmm_lib.get_kl, argnums=1)\n",
    "# get_vb_params_loss.cache_args(features, None, prior_params_dict,\n",
    "#                                 gh_loc, gh_weights)\n",
    "\n",
    "# # Get loss as a function vb_free_params\n",
    "# get_loss = paragami.FlattenedFunction(original_fun=get_vb_params_loss,\n",
    "#                                         patterns=vb_params_paragami,\n",
    "#                                         free=True)\n"
   ]
  },
  {
   "cell_type": "code",
   "execution_count": 15,
   "metadata": {},
   "outputs": [
    {
     "name": "stdout",
     "output_type": "stream",
     "text": [
      "running bfgs ... \n",
      "Iter 0: f = 450.97189471\n",
      "Iter 1: f = 288.42252948\n",
      "Iter 2: f = 132.82724910\n",
      "Iter 3: f = 849.69522338\n",
      "Iter 4: f = 102.95800124\n",
      "Iter 5: f = 69.15077895\n",
      "Iter 6: f = 35.10598280\n",
      "Iter 7: f = 149.86270237\n",
      "Iter 8: f = 27.90810015\n",
      "Iter 9: f = 15.66532676\n",
      "Iter 10: f = -4.96037757\n",
      "Iter 11: f = -35.63242473\n",
      "Iter 12: f = -69.57876702\n",
      "Iter 13: f = -106.48627732\n",
      "Iter 14: f = -109.56137218\n",
      "Iter 15: f = -129.49640794\n",
      "Iter 16: f = -148.49222218\n",
      "Iter 17: f = -180.42498864\n",
      "Iter 18: f = -183.90475287\n",
      "Iter 19: f = -197.82029664\n",
      "Iter 20: f = -223.21611941\n",
      "Iter 21: f = -210.67850230\n",
      "Iter 22: f = -233.90999359\n",
      "Iter 23: f = -248.01428698\n",
      "Iter 24: f = -266.50049101\n",
      "Iter 25: f = -275.43483870\n",
      "Iter 26: f = -288.85589805\n",
      "Iter 27: f = -294.21119573\n",
      "Iter 28: f = -301.02567169\n",
      "Iter 29: f = -309.37688825\n",
      "Iter 30: f = -321.41152123\n",
      "Iter 31: f = -317.57546051\n",
      "Iter 32: f = -326.55252540\n",
      "Iter 33: f = -332.95619469\n",
      "Iter 34: f = -339.92264168\n",
      "Iter 35: f = -342.52883975\n",
      "Iter 36: f = -346.68395276\n",
      "Iter 37: f = -350.75684611\n",
      "Iter 38: f = -352.57523099\n",
      "Iter 39: f = -353.53276812\n",
      "Iter 40: f = -355.19020276\n",
      "Iter 41: f = -357.41563954\n",
      "Iter 42: f = -360.11712531\n",
      "Iter 43: f = -360.28432755\n",
      "Iter 44: f = -361.65123527\n",
      "Iter 45: f = -362.84789902\n",
      "Iter 46: f = -364.65549981\n",
      "Iter 47: f = -365.58670247\n",
      "Iter 48: f = -366.11426312\n",
      "Iter 49: f = -366.87512539\n",
      "Iter 50: f = -367.77034542\n",
      "Iter 51: f = -368.42136448\n",
      "Iter 52: f = -368.76226459\n",
      "Iter 53: f = -369.17953011\n",
      "Iter 54: f = -369.50667211\n",
      "Iter 55: f = -369.72398771\n",
      "Iter 56: f = -370.01192096\n",
      "Iter 57: f = -370.17129978\n",
      "Iter 58: f = -370.36611171\n",
      "Iter 59: f = -370.49712580\n",
      "Iter 60: f = -370.66428659\n",
      "Iter 61: f = -370.81982936\n",
      "Iter 62: f = -370.88387584\n",
      "Iter 63: f = -370.97162379\n",
      "Iter 64: f = -371.05120055\n",
      "Iter 65: f = -371.07521138\n",
      "Iter 66: f = -371.10784111\n",
      "Iter 67: f = -371.14022825\n",
      "Iter 68: f = -371.15357778\n",
      "Iter 69: f = -371.16944287\n",
      "Iter 70: f = -371.19325523\n",
      "Iter 71: f = -371.22367365\n",
      "Iter 72: f = -371.25748126\n",
      "Iter 73: f = -371.27206997\n",
      "Iter 74: f = -371.29805374\n",
      "Iter 75: f = -371.34002527\n",
      "Iter 76: f = -371.40249739\n",
      "Iter 77: f = -371.19145540\n",
      "Iter 78: f = -371.41845841\n",
      "Iter 79: f = -371.43797585\n",
      "Iter 80: f = -371.46384883\n",
      "Iter 81: f = -371.49759438\n",
      "Iter 82: f = -371.52441954\n",
      "Iter 83: f = -371.54416963\n",
      "Iter 84: f = -371.56370244\n",
      "Iter 85: f = -371.56773419\n",
      "Iter 86: f = -371.57425103\n",
      "Iter 87: f = -371.58117459\n",
      "Iter 88: f = -371.58189523\n",
      "Iter 89: f = -371.58320225\n",
      "Iter 90: f = -371.58545608\n",
      "Iter 91: f = -371.58809986\n",
      "Iter 92: f = -371.58993731\n",
      "Iter 93: f = -371.59067724\n",
      "Iter 94: f = -371.59174795\n",
      "Iter 95: f = -371.59336080\n",
      "Iter 96: f = -371.59502429\n",
      "Iter 97: f = -371.59702601\n",
      "Iter 98: f = -371.59867821\n",
      "Iter 99: f = -371.60073189\n",
      "Iter 100: f = -371.60376949\n",
      "Iter 101: f = -371.60661674\n",
      "Iter 102: f = -371.61178171\n",
      "Iter 103: f = -371.62088956\n",
      "Iter 104: f = -371.63040016\n",
      "Iter 105: f = -371.64412673\n",
      "Iter 106: f = -371.66702592\n",
      "Iter 107: f = -371.70286871\n",
      "Iter 108: f = -371.74176280\n",
      "Iter 109: f = -371.78774698\n",
      "Iter 110: f = -371.79656833\n",
      "Iter 111: f = -371.81205878\n",
      "Iter 112: f = -371.83707544\n",
      "Iter 113: f = -371.85195328\n",
      "Iter 114: f = -371.86647537\n",
      "Iter 115: f = -371.87291836\n",
      "Iter 116: f = -371.88119765\n",
      "Iter 117: f = -371.88549605\n",
      "Iter 118: f = -371.89178817\n",
      "Iter 119: f = -371.89722259\n",
      "Iter 120: f = -371.89965840\n",
      "Iter 121: f = -371.90138196\n",
      "Iter 122: f = -371.90408528\n",
      "Iter 123: f = -371.90788422\n",
      "Iter 124: f = -371.90808967\n",
      "Iter 125: f = -371.90986842\n",
      "Iter 126: f = -371.91128533\n",
      "Iter 127: f = -371.91302102\n",
      "Iter 128: f = -371.91395720\n",
      "Iter 129: f = -371.91407603\n",
      "Iter 130: f = -371.91429758\n",
      "Iter 131: f = -371.91467452\n",
      "Iter 132: f = -371.91490795\n",
      "Iter 133: f = -371.91512304\n",
      "Iter 134: f = -371.91518296\n",
      "Iter 135: f = -371.91522076\n",
      "Iter 136: f = -371.91521405\n",
      "Iter 137: f = -371.91523831\n",
      "Iter 138: f = -371.91526125\n",
      "Iter 139: f = -371.91526990\n",
      "Iter 140: f = -371.91525891\n",
      "Iter 141: f = -371.91527252\n",
      "Iter 142: f = -371.91527641\n",
      "Iter 143: f = -371.91528117\n",
      "Iter 144: f = -371.91527519\n",
      "Iter 145: f = -371.91528198\n",
      "Iter 146: f = -371.91528298\n",
      "Iter 147: f = -371.91528338\n",
      "Iter 148: f = -371.91528345\n",
      "Iter 149: f = -371.91528353\n",
      "Iter 150: f = -371.91528360\n",
      "Iter 151: f = -371.91528362\n",
      "Iter 152: f = -371.91528363\n",
      "Iter 153: f = -371.91528363\n",
      "Iter 154: f = -371.91528365\n",
      "Iter 155: f = -371.91528365\n",
      "Iter 156: f = -371.91528365\n",
      "Iter 157: f = -371.91528366\n",
      "Iter 158: f = -371.91528366\n",
      "Iter 159: f = -371.91528366\n",
      "Iter 160: f = -371.91528366\n",
      "Iter 161: f = -371.91528366\n",
      "Iter 162: f = -371.91528366\n",
      "Iter 163: f = -371.91528366\n",
      "Iter 164: f = -371.91528366\n",
      "Iter 165: f = -371.91528366\n",
      "Iter 166: f = -371.91528366\n",
      "Iter 167: f = -371.91528366\n",
      "Iter 168: f = -371.91528366\n",
      "Iter 169: f = -371.91528366\n",
      "Iter 170: f = -371.91528366\n",
      "Iter 171: f = -371.91528366\n",
      "Iter 172: f = -371.91528366\n",
      "Iter 173: f = -371.91528366\n",
      "Iter 174: f = -371.91528366\n",
      "Iter 175: f = -371.91528366\n",
      "Warning: Desired error not necessarily achieved due to precision loss.\n",
      "         Current function value: -371.915284\n",
      "         Iterations: 158\n",
      "         Function evaluations: 176\n",
      "         Gradient evaluations: 175\n",
      "\n",
      " running preconditioned newton; iter =  0\n",
      "Computing Hessian to set preconditioner\n",
      "preconditioning time: 16.05\n",
      "running newton steps\n",
      "Iter 0: f = -371.91528366\n",
      "Iter 1: f = -371.91528366\n",
      "Optimization terminated successfully.\n",
      "         Current function value: -371.915284\n",
      "         Iterations: 1\n",
      "         Function evaluations: 2\n",
      "         Gradient evaluations: 2\n",
      "         Hessian evaluations: 2\n",
      "Iter 0: x_diff = 2.908895334398203e-05, f_diff = 1.2505552149377763e-12, grad_l1 = 1.7603020153571473e-10\n",
      "done. \n"
     ]
    }
   ],
   "source": [
    "t0 = time.time()\n",
    "vb_opt = optimization_lib.optimize_full(get_loss, init_vb_free_params,\n",
    "                    bfgs_max_iter = 500, netwon_max_iter = 50,\n",
    "                    max_precondition_iter = 10,\n",
    "                    gtol=1e-8, ftol=1e-8, xtol=1e-8)\n",
    "\n",
    "refit_time = time.time() - t0"
   ]
  },
  {
   "cell_type": "code",
   "execution_count": 16,
   "metadata": {},
   "outputs": [],
   "source": [
    "vb_opt_dict = vb_params_paragami.fold(vb_opt, free = True)\n",
    "e_z_opt = gmm_lib.get_optimal_z_from_vb_params_dict(features, vb_opt_dict, gh_loc, gh_weights)"
   ]
  },
  {
   "cell_type": "code",
   "execution_count": 17,
   "metadata": {
    "collapsed": true
   },
   "outputs": [],
   "source": [
    "# plot check results\n",
    "def plot_results_from_vb_params_dict(pca_fit, vb_params_dict, e_z, fig): \n",
    "    # we plot in PCA space\n",
    "    bnp_centroids_pc, bnp_cluster_covs_pc = \\\n",
    "        utils_lib.transform_params_to_pc_space(pca_fit, vb_params_dict['centroids'], \n",
    "                                               np.linalg.inv(vb_params_dict['gamma']))\n",
    "    \n",
    "    bnp_clusters = np.argmax(e_z, axis = 1)\n",
    "    \n",
    "    cmap = cm.get_cmap(name='gist_rainbow')\n",
    "    colors1 = [cmap(k * 50) for k in range(30)]\n",
    "\n",
    "    utils_lib.plot_clusters(pc_features[:, 0], pc_features[:, 1], bnp_clusters, \\\n",
    "                  colors1, fig, \\\n",
    "                  centroids = bnp_centroids_pc[:, np.unique(bnp_clusters)], \n",
    "                cov = bnp_cluster_covs_pc[np.unique(bnp_clusters)])\n"
   ]
  },
  {
   "cell_type": "code",
   "execution_count": 18,
   "metadata": {},
   "outputs": [
    {
     "data": {
      "text/plain": [
       "Text(0, 0.5, 'PC2')"
      ]
     },
     "execution_count": 18,
     "metadata": {},
     "output_type": "execute_result"
    },
    {
     "data": {
      "image/png": "[encoded data removed]",
      "text/plain": [
       "<Figure size 432x288 with 1 Axes>"
      ]
     },
     "metadata": {
      "needs_background": "light"
     },
     "output_type": "display_data"
    }
   ],
   "source": [
    "# Newton results\n",
    "fig1 = plt.figure(1)\n",
    "fig = fig1.add_subplot(111)\n",
    "\n",
    "plot_results_from_vb_params_dict(pca_fit, vb_opt_dict, e_z_opt, fig)\n",
    "fig.set_xlabel('PC1', fontsize = 18)\n",
    "fig.set_ylabel('PC2', fontsize = 18)\n"
   ]
  },
  {
   "cell_type": "code",
   "execution_count": 22,
   "metadata": {
    "scrolled": false
   },
   "outputs": [],
   "source": [
    "paragami.save_folded('./iris_fits/iris_fits_alpha{}'.format(prior_params_dict['alpha']), \n",
    "                     vb_opt_dict,\n",
    "                     vb_params_paragami, \n",
    "                     alpha = prior_params_dict['alpha'], \n",
    "                    gh_deg = gh_deg, \n",
    "                    refit_time = refit_time)"
   ]
  },
  {
   "cell_type": "markdown",
   "metadata": {
    "collapsed": true
   },
   "source": [
    "# Fit for a range of alpha "
   ]
  },
  {
   "cell_type": "code",
   "execution_count": null,
   "metadata": {},
   "outputs": [],
   "source": [
    "alpha_list = np.arange(start=0.5, stop=16, step=0.5)\n",
    "\n",
    "print(alpha_list)"
   ]
  },
  {
   "cell_type": "code",
   "execution_count": null,
   "metadata": {
    "collapsed": true
   },
   "outputs": [],
   "source": [
    "def refit_with_alpha(alpha, vb_opt): \n",
    "    new_alpha = np.array([alpha])\n",
    "\n",
    "    prior_params_pert_dict = deepcopy(prior_params_dict)\n",
    "    prior_params_pert_dict['alpha'] = new_alpha\n",
    "    \n",
    "    # set up new objective, witht the prior changed\n",
    "#     get_vb_params_loss.cache_args(features, None, prior_params_pert_dict, gh_loc, gh_weights)\n",
    "#     get_pert_loss = paragami.FlattenedFunction(original_fun=get_vb_params_loss,\n",
    "#                                             patterns=vb_params_paragami,\n",
    "#                                             free=True)\n",
    "\n",
    "    get_vb_params_loss = paragami.FlattenFunctionInput(\n",
    "                                    original_fun=gmm_lib.get_kl,\n",
    "                                    patterns = vb_params_paragami,\n",
    "                                    free = True,\n",
    "                                    argnums = 1)\n",
    "\n",
    "    get_pert_loss = \\\n",
    "        lambda x : get_vb_params_loss(features,\n",
    "                                    x, prior_params_pert_dict,\n",
    "                                     gh_loc, gh_weights)\n",
    "\n",
    "    vb_opt_pert = optimization_lib.optimize_full(get_pert_loss,deepcopy(vb_opt),\n",
    "                    bfgs_max_iter = 500, netwon_max_iter = 50,\n",
    "                    max_precondition_iter = 10,\n",
    "                    gtol=1e-8, ftol=1e-8, xtol=1e-8)\n",
    "    \n",
    "    return vb_opt_pert"
   ]
  },
  {
   "cell_type": "code",
   "execution_count": null,
   "metadata": {
    "scrolled": true
   },
   "outputs": [],
   "source": [
    "for alpha in alpha_list: \n",
    "    print('######################')\n",
    "    print('re-optimzing with alpha = ', alpha)\n",
    "    print('######################')\n",
    "    \n",
    "    t0 = time.time() \n",
    "    \n",
    "    vb_opt_pert = refit_with_alpha(alpha, vb_opt)\n",
    "    \n",
    "    vb_pert_dict = vb_params_paragami.fold(vb_opt_pert, free = True)\n",
    "    \n",
    "    refit_time = time.time() - t0\n",
    "    print('refit time: {:.03f}sec'.format(refit_time))\n",
    "    \n",
    "    filename = './iris_fits/iris_fits_alpha{}'.format(alpha)\n",
    "    print('saving results to ', filename)\n",
    "    paragami.save_folded(filename, \n",
    "                     vb_pert_dict,\n",
    "                     vb_params_paragami, \n",
    "                     alpha = alpha, \n",
    "                    gh_deg = gh_deg, \n",
    "                    refit_time = refit_time)\n",
    "    \n"
   ]
  },
  {
   "cell_type": "code",
   "execution_count": null,
   "metadata": {
    "collapsed": true
   },
   "outputs": [],
   "source": []
  },
  {
   "cell_type": "code",
   "execution_count": null,
   "metadata": {
    "collapsed": true
   },
   "outputs": [],
   "source": []
  }
 ],
 "metadata": {
  "kernelspec": {
   "display_name": "bnpgmm_runjingdev",
   "language": "python",
   "name": "bnpgmm_runjingdev"
  },
  "language_info": {
   "codemirror_mode": {
    "name": "ipython",
    "version": 3
   },
   "file_extension": ".py",
   "mimetype": "text/x-python",
   "name": "python",
   "nbconvert_exporter": "python",
   "pygments_lexer": "ipython3",
   "version": "3.5.2"
  }
 },
 "nbformat": 4,
 "nbformat_minor": 2
}
