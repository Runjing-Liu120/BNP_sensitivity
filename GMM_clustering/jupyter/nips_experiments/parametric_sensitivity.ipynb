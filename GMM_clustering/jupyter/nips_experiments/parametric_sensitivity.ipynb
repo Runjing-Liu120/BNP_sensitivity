{
 "cells": [
  {
   "cell_type": "code",
   "execution_count": 1,
   "metadata": {
    "collapsed": true
   },
   "outputs": [],
   "source": [
    "git_repo = '../../../../'\n",
    "\n",
    "import sys\n",
    "import os\n",
    "import glob\n",
    "\n",
    "sys.path.insert(0, os.path.join(git_repo, 'BNP_sensitivity/GMM_clustering/'))\n",
    "sys.path.insert(0, '../../../../LinearResponseVariationalBayes.py/')\n",
    "\n",
    "# Linear response libraries\n",
    "import LinearResponseVariationalBayes as vb\n",
    "import LinearResponseVariationalBayes.SparseObjectives as obj_lib\n",
    "import LinearResponseVariationalBayes.OptimizationUtils as opt_lib\n",
    "\n",
    "import LinearResponseVariationalBayes.ModelSensitivity as model_sens\n",
    "\n",
    "# Local libraries\n",
    "import gmm_clustering_lib as gmm_utils\n",
    "import modeling_lib \n",
    "import functional_sensitivity_lib as fun_sens_lib \n",
    "import utils_lib\n",
    "\n",
    "import matplotlib.pyplot as plt\n",
    "%matplotlib inline\n",
    "\n",
    "from copy import deepcopy\n",
    "\n",
    "from autograd import numpy as np\n",
    "from autograd import scipy as sp\n",
    "\n",
    "# import numpy as np\n",
    "# import scipy as sp\n",
    "\n",
    "np.random.seed(453453)\n",
    "\n",
    "import json "
   ]
  },
  {
   "cell_type": "markdown",
   "metadata": {},
   "source": [
    "# Load original model"
   ]
  },
  {
   "cell_type": "code",
   "execution_count": 2,
   "metadata": {
    "collapsed": true
   },
   "outputs": [],
   "source": [
    "fit_dir = './iris_fits_for_nips/'"
   ]
  },
  {
   "cell_type": "code",
   "execution_count": 42,
   "metadata": {},
   "outputs": [],
   "source": [
    "json_input_file = os.path.join(fit_dir, 'bnp_full_data_fit_alpha10_iris.json')\n",
    "\n",
    "with open(json_input_file, 'r') as fp:\n",
    "    fit_dict = json.load(fp)\n",
    "    model = gmm_utils.get_model_from_checkpoint(fit_dict)\n",
    "    model_ = gmm_utils.get_model_from_checkpoint(fit_dict)\n",
    "    best_param = model.global_vb_params.get_free()\n",
    "    kl_hessian = gmm_utils.get_kl_hessian_from_checkpoint(fit_dict)\n",
    "    prior_param_vec0 = model.prior_params.get_vector()\n",
    "    \n",
    "moment_model = gmm_utils.InterestingMoments(model)\n"
   ]
  },
  {
   "cell_type": "code",
   "execution_count": 43,
   "metadata": {},
   "outputs": [
    {
     "name": "stdout",
     "output_type": "stream",
     "text": [
      "[10.]\n"
     ]
    }
   ],
   "source": [
    "alpha0 = model.prior_params['alpha'].get()\n",
    "print(alpha0)"
   ]
  },
  {
   "cell_type": "markdown",
   "metadata": {},
   "source": [
    "# Set up linear sensitivity class"
   ]
  },
  {
   "cell_type": "code",
   "execution_count": 44,
   "metadata": {},
   "outputs": [
    {
     "name": "stderr",
     "output_type": "stream",
     "text": [
      "/home/rgiordan/Documents/git_repos/autograd/autograd/numpy/numpy_vjps.py:269: RuntimeWarning: invalid value encountered in true_divide\n",
      "  return g_repeated / x\n"
     ]
    }
   ],
   "source": [
    "# this is analagous to the moment model, but for expected number of clusters\n",
    "e_num_clusters_class = gmm_utils.ExpectedNumClustersFromZ(model)\n",
    "e_num_clusters_class.set_e_num_clusters_from_free_param(best_param)\n",
    "\n",
    "linear_sensitivity = \\\n",
    "    obj_lib.ParametricSensitivity(\\\n",
    "        objective_fun =             model.set_z_get_kl,\\\n",
    "        input_par =                 model.global_vb_params,\\\n",
    "        output_par =                e_num_clusters_class.e_num_clusters,\\\n",
    "        hyper_par =                 model.prior_params,\\\n",
    "        input_to_output_converter = e_num_clusters_class.set_e_num_clusters,\\\n",
    "        optimal_input_par =         best_param,\\\n",
    "        objective_hessian =         kl_hessian)\n",
    "\n",
    "\n",
    "# linear_sensitivity = \\\n",
    "#     model_sens.ParametricSensitivityTaylorExpansion(\\\n",
    "#         objective_functor =         model.set_z_get_kl,\\\n",
    "#         input_par =                 model.global_vb_params,\\\n",
    "#         hyper_par =                 model.prior_params,\\\n",
    "#         input_val0 = best_param, \n",
    "#         hyper_val0 = prior_param_vec0, \n",
    "#         order = 2, \n",
    "#         hess0 = kl_hessian)\n"
   ]
  },
  {
   "cell_type": "markdown",
   "metadata": {},
   "source": [
    "# Load refitted models and get linear approximations "
   ]
  },
  {
   "cell_type": "code",
   "execution_count": 45,
   "metadata": {},
   "outputs": [],
   "source": [
    "files = glob.glob(fit_dir +  '/bnp_full_data_fit_alpha*_iris.json')"
   ]
  },
  {
   "cell_type": "code",
   "execution_count": 46,
   "metadata": {},
   "outputs": [],
   "source": [
    "free_par_refit_list = []\n",
    "free_par_lr_list = []\n",
    "\n",
    "out_par_lr_list = []\n",
    "out_par_refit_list = []\n",
    "\n",
    "alpha_vec = np.zeros(len(files))\n",
    "\n",
    "for i in range(len(files)): \n",
    "    \n",
    "    # load perturbed model \n",
    "    #json_input_file = os.path.join(fit_dir, files[i])\n",
    "    json_input_file = os.path.join(files[i])\n",
    "\n",
    "    with open(json_input_file, 'r') as fp:\n",
    "        fit_dict = json.load(fp)\n",
    "        model_refit = gmm_utils.get_model_from_checkpoint(fit_dict)\n",
    "    \n",
    "    # prior parameters from refitted model\n",
    "    alpha_vec[i] = model_refit.prior_params['alpha'].get()\n",
    "    prior_param_vec_pert = model_refit.prior_params.get_vector() \n",
    "\n",
    "    # get free parameters from the refitted model \n",
    "    free_par_refit = model_refit.global_vb_params.get_free()\n",
    "    free_par_refit_list.append(free_par_refit)\n",
    "    \n",
    "    # linear approximation for free params\n",
    "    free_par_lr = linear_sensitivity.predict_input_par_from_hyperparameters(prior_param_vec_pert) \n",
    "    free_par_lr_list.append(free_par_lr)\n",
    "    \n",
    "    # linear approximation for num clusters\n",
    "    out_par_lr = linear_sensitivity.predict_output_par_from_hyperparameters(prior_param_vec_pert, linear = False)\n",
    "    out_par_lr_list.append(out_par_lr)\n",
    "    \n",
    "    # refitted num clusters\n",
    "    model_refit.set_optimal_z()\n",
    "    out_par_refit = modeling_lib.get_e_number_clusters_from_ez(model_refit.e_z)\n",
    "    out_par_refit_list.append(out_par_refit)\n"
   ]
  },
  {
   "cell_type": "code",
   "execution_count": 47,
   "metadata": {
    "scrolled": false
   },
   "outputs": [
    {
     "data": {
      "text/plain": [
       "array([ 2. ,  1. ,  4. , 20. , 26. , 16. , 22. ,  4.5, 28. ,  5.5,  1.5,\n",
       "        5. , 18. ,  2.5,  3.5,  6. , 12. ,  2. ,  3. ,  4. ,  6. , 24. ,\n",
       "        8. ,  0.5,  6.5, 14. , 10. ])"
      ]
     },
     "execution_count": 47,
     "metadata": {},
     "output_type": "execute_result"
    }
   ],
   "source": [
    "alpha_vec"
   ]
  },
  {
   "cell_type": "markdown",
   "metadata": {},
   "source": [
    "### Check the free parameters"
   ]
  },
  {
   "cell_type": "code",
   "execution_count": 48,
   "metadata": {
    "scrolled": false
   },
   "outputs": [],
   "source": [
    "# for i in range(len(free_par_refit_list)): \n",
    "#     plt.figure()\n",
    "#     plt.plot(free_par_lr_list[i]- best_param, free_par_refit_list[i] - best_param, '+')\n",
    "#     plt.plot(free_par_lr_list[i]- best_param, free_par_lr_list[i]- best_param, '-')\n",
    "#     plt.title('alpha = {}'.format(alpha_vec[i]))"
   ]
  },
  {
   "cell_type": "markdown",
   "metadata": {},
   "source": [
    "# Plot results on expected number of clusters"
   ]
  },
  {
   "cell_type": "code",
   "execution_count": 49,
   "metadata": {
    "scrolled": false
   },
   "outputs": [
    {
     "data": {
      "text/plain": [
       "<matplotlib.legend.Legend at 0x7f4fea323be0>"
      ]
     },
     "execution_count": 49,
     "metadata": {},
     "output_type": "execute_result"
    },
    {
     "data": {
      "image/png": "[encoded data removed]",
      "text/plain": [
       "<matplotlib.figure.Figure at 0x7f4fea070470>"
      ]
     },
     "metadata": {},
     "output_type": "display_data"
    }
   ],
   "source": [
    "plt.plot(alpha_vec, out_par_lr_list, '+')\n",
    "plt.plot(alpha_vec, out_par_refit_list, 'x')\n",
    "\n",
    "plt.axvline(x=alpha0, linestyle = '--', color = 'red')\n",
    "\n",
    "plt.xlabel('alpha')\n",
    "plt.ylabel('expected number of clusters')\n",
    "\n",
    "plt.legend(('lr', 'refit'))"
   ]
  },
  {
   "cell_type": "code",
   "execution_count": 50,
   "metadata": {},
   "outputs": [
    {
     "name": "stdout",
     "output_type": "stream",
     "text": [
      "Done.\n"
     ]
    }
   ],
   "source": [
    "print('Done.')"
   ]
  }
 ],
 "metadata": {
  "kernelspec": {
   "display_name": "Python 3",
   "language": "python",
   "name": "python3"
  },
  "language_info": {
   "codemirror_mode": {
    "name": "ipython",
    "version": 3
   },
   "file_extension": ".py",
   "mimetype": "text/x-python",
   "name": "python",
   "nbconvert_exporter": "python",
   "pygments_lexer": "ipython3",
   "version": "3.5.2"
  }
 },
 "nbformat": 4,
 "nbformat_minor": 2
}
