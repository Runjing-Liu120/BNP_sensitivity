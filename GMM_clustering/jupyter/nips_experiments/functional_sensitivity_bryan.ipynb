{
 "cells": [
  {
   "cell_type": "code",
   "execution_count": 1,
   "metadata": {
    "collapsed": true
   },
   "outputs": [],
   "source": [
    "git_repo = '../../../../'\n",
    "\n",
    "import sys\n",
    "import os\n",
    "\n",
    "sys.path.insert(0, os.path.join(git_repo, 'BNP_sensitivity/GMM_clustering/'))\n",
    "sys.path.insert(0, '../../../../LinearResponseVariationalBayes.py/')\n",
    "\n",
    "# Linear response libraries\n",
    "import LinearResponseVariationalBayes as vb\n",
    "import LinearResponseVariationalBayes.SparseObjectives as obj_lib\n",
    "import LinearResponseVariationalBayes.OptimizationUtils as opt_lib\n",
    "import LinearResponseVariationalBayes.ModelSensitivity as sens_lib\n",
    "\n",
    "# Local libraries\n",
    "import gmm_clustering_lib as gmm_utils\n",
    "import modeling_lib \n",
    "import functional_sensitivity_lib as fun_sens_lib \n",
    "import utils_lib\n",
    "\n",
    "import matplotlib.pyplot as plt\n",
    "%matplotlib inline\n",
    "\n",
    "from copy import deepcopy\n",
    "\n",
    "from autograd import numpy as np\n",
    "from autograd import scipy as sp\n",
    "\n",
    "# import numpy as np\n",
    "# import scipy as sp\n",
    "\n",
    "np.random.seed(453453)\n",
    "\n",
    "import json "
   ]
  },
  {
   "cell_type": "markdown",
   "metadata": {},
   "source": [
    "# Load results from previous fit."
   ]
  },
  {
   "cell_type": "code",
   "execution_count": 2,
   "metadata": {
    "collapsed": true
   },
   "outputs": [],
   "source": [
    "json_input_file = os.path.join('./iris_fits_for_nips/bnp_full_data_fit_alpha8.0_iris.json')\n",
    "\n",
    "with open(json_input_file, 'r') as fp:\n",
    "    fit_dict = json.load(fp)\n",
    "    model = gmm_utils.get_model_from_checkpoint(fit_dict)\n",
    "    best_param_saved = model.global_vb_params.get_free()\n",
    "    kl_hessian_saved = gmm_utils.get_kl_hessian_from_checkpoint(fit_dict)"
   ]
  },
  {
   "cell_type": "code",
   "execution_count": 3,
   "metadata": {
    "collapsed": true
   },
   "outputs": [],
   "source": [
    "#moment_model = gmm_utils.InterestingMoments(model)\n",
    "#dg_deta = moment_model.get_moment_jacobian(best_param)\n",
    "#linear_sens = gmm_utils.LinearSensitivity(model, moment_model, kl_hessian)"
   ]
  },
  {
   "cell_type": "code",
   "execution_count": 4,
   "metadata": {
    "collapsed": true
   },
   "outputs": [],
   "source": [
    "# moment_model.set_moments_from_free_par(best_param)\n",
    "# print(moment_model.moment_params)"
   ]
  },
  {
   "cell_type": "code",
   "execution_count": 5,
   "metadata": {
    "collapsed": false,
    "scrolled": false
   },
   "outputs": [
    {
     "name": "stdout",
     "output_type": "stream",
     "text": [
      "prior_params:\n",
      "\talpha: [8.]\n",
      "\tprior_centroid_mean: [0.]\n",
      "\tprior_centroid_info: [0.1]\n",
      "\tprior_gamma_df: [8.]\n",
      "\tprior_gamma_inv_scale:\n",
      "[[0.62 0.   0.   0.  ]\n",
      " [0.   0.62 0.   0.  ]\n",
      " [0.   0.   0.62 0.  ]\n",
      " [0.   0.   0.   0.62]]\n",
      "Iter: 0\t RMSE: 7.714893743176455\t Objective: -337.20752722456876\n",
      "Optimization terminated successfully.\n",
      "         Current function value: -337.207527\n",
      "         Iterations: 0\n",
      "         Function evaluations: 1\n",
      "         Gradient evaluations: 1\n",
      "Optimization terminated successfully.\n",
      "         Current function value: -337.207527\n",
      "         Iterations: 0\n",
      "         Function evaluations: 1\n",
      "         Gradient evaluations: 1\n",
      "         Hessian evaluations: 0\n"
     ]
    }
   ],
   "source": [
    "model.prior_params['alpha'].set(np.array([8.0]))\n",
    "print(model.prior_params)\n",
    "model.objective.logger.print_every = 10\n",
    "best_param, converged, x_conv, f_conv, grad_conv, obj_opt, opt_results = \\\n",
    "    model.optimize_full(best_param_saved)\n",
    "kl_hessian = model.objective.fun_free_hessian(best_param)\n"
   ]
  },
  {
   "cell_type": "code",
   "execution_count": 6,
   "metadata": {
    "collapsed": false
   },
   "outputs": [
    {
     "name": "stdout",
     "output_type": "stream",
     "text": [
      "8.0\n"
     ]
    }
   ],
   "source": [
    "alpha0 = model.prior_params['alpha'].get()[0]\n",
    "print(alpha0)"
   ]
  },
  {
   "cell_type": "markdown",
   "metadata": {},
   "source": [
    "# Define a perturbation in the logit v space."
   ]
  },
  {
   "cell_type": "code",
   "execution_count": 7,
   "metadata": {
    "collapsed": false
   },
   "outputs": [
    {
     "name": "stdout",
     "output_type": "stream",
     "text": [
      "0.6931471805599453\n"
     ]
    }
   ],
   "source": [
    "# def log_phi(logit_v):\n",
    "#     return - logit_v - np.log1p(np.exp(-logit_v))\n",
    "\n",
    "# def phi(logit_v):\n",
    "#     return np.exp(log_phi(logit_v))\n",
    "\n",
    "# Define a perturbation in the logit v space.\n",
    "\n",
    "phi_center = 2\n",
    "#phi_log_rescale = stick_sens.get_log_p0_logit_stick(phi_center)\n",
    "phi_log_rescale = -np.log(0.5)\n",
    "print(phi_log_rescale)\n",
    "# def log_phi(logit_v):\n",
    "#     return(-0.5 * (logit_v - phi_center) ** 2 - phi_log_rescale)\n",
    "\n",
    "def log_phi(logit_v):\n",
    "    return(sp.special.expit(logit_v))\n",
    "\n",
    "def phi(logit_v):\n",
    "    return np.exp(log_phi(logit_v))\n",
    "\n"
   ]
  },
  {
   "cell_type": "markdown",
   "metadata": {},
   "source": [
    "This perturbation class is based on the contamination model\n",
    "\n",
    "$$\n",
    "p_c(\\theta | \\epsilon, \\phi) =  p_0(\\theta) \\left(1 + \\epsilon \\phi(\\theta) \\right)\n",
    "$$\n",
    "\n",
    "This corresponds to Gustafson's linear model.  One big problem is that you must take $\\epsilon \\rightarrow \\infty$.  Another is that, even if you set it up as a normalized mixture, the scale of the perturbation determines the derivative.  I think it is worth experimenting with the model\n",
    "\n",
    "\\begin{align}\n",
    "p_c(\\theta | \\epsilon, \\phi) &= p_0(\\theta)^{1 - \\epsilon} p_1(\\theta)^\\epsilon \\\\\n",
    "& = p_0(\\theta) \\left(\\frac{p_1(\\theta)}{p_0(\\theta)}\\right)^\\epsilon \\\\\n",
    "& =: p_0(\\theta) (C_1 \\phi(\\theta)) ^ \\epsilon\n",
    "\\end{align}\n",
    "\n",
    "because, among other things, it is invariant to the scaling $C_1$.\n"
   ]
  },
  {
   "cell_type": "code",
   "execution_count": 8,
   "metadata": {
    "collapsed": false
   },
   "outputs": [
    {
     "name": "stdout",
     "output_type": "stream",
     "text": [
      "phi max:  2.717370405124736\n",
      "log phi max:  0.9996646498695336\n"
     ]
    }
   ],
   "source": [
    "logit_v_grid = np.linspace(-8, 8, 200)\n",
    "\n",
    "v_grid = np.exp(logit_v_grid) / (1 + np.exp(logit_v_grid))\n",
    "\n",
    "print('phi max: ', np.max(phi(logit_v_grid)))\n",
    "log_phi_max = np.max(np.abs(np.log(phi(logit_v_grid))))\n",
    "print('log phi max: ', log_phi_max)\n",
    "\n",
    "def rescaled_log_phi(logit_v):\n",
    "    return 10 * log_phi(logit_v) / log_phi_max\n"
   ]
  },
  {
   "cell_type": "code",
   "execution_count": 9,
   "metadata": {
    "collapsed": true
   },
   "outputs": [],
   "source": [
    "quad_maxiter = 200"
   ]
  },
  {
   "cell_type": "code",
   "execution_count": 10,
   "metadata": {
    "collapsed": false
   },
   "outputs": [
    {
     "name": "stdout",
     "output_type": "stream",
     "text": [
      "-2.079441541679836 1.936236507197625 -2.0821248162554524 1.9385325300641851\n"
     ]
    }
   ],
   "source": [
    "prior_perturbation = fun_sens_lib.PriorPerturbation(\n",
    "    model, rescaled_log_phi, logit_v_ub=8, logit_v_lb = -8, quad_maxiter = quad_maxiter)\n",
    "print(\n",
    "    prior_perturbation.log_norm_p0,\n",
    "    prior_perturbation.log_norm_pc,\n",
    "    prior_perturbation.log_norm_p0_logit,\n",
    "    prior_perturbation.log_norm_pc_logit)\n",
    "prior_perturbation.objective.logger.print_every = 10"
   ]
  },
  {
   "cell_type": "code",
   "execution_count": 11,
   "metadata": {
    "collapsed": false,
    "scrolled": true
   },
   "outputs": [
    {
     "data": {
      "text/plain": [
       "[<matplotlib.lines.Line2D at 0x7fe275314cc0>]"
      ]
     },
     "execution_count": 11,
     "metadata": {},
     "output_type": "execute_result"
    },
    {
     "data": {
      "image/png": "[encoded data removed]",
      "text/plain": [
       "<matplotlib.figure.Figure at 0x7fe275690940>"
      ]
     },
     "metadata": {},
     "output_type": "display_data"
    }
   ],
   "source": [
    "plt.plot(logit_v_grid, np.exp(log_phi(logit_v_grid)))"
   ]
  },
  {
   "cell_type": "code",
   "execution_count": 12,
   "metadata": {
    "collapsed": false
   },
   "outputs": [
    {
     "data": {
      "text/plain": [
       "[<matplotlib.lines.Line2D at 0x7fe27562ff28>]"
      ]
     },
     "execution_count": 12,
     "metadata": {},
     "output_type": "execute_result"
    },
    {
     "data": {
      "image/png": "[encoded data removed]",
      "text/plain": [
       "<matplotlib.figure.Figure at 0x7fe275690e48>"
      ]
     },
     "metadata": {},
     "output_type": "display_data"
    }
   ],
   "source": [
    "plt.plot(logit_v_grid, np.exp(prior_perturbation.get_log_pc_logit(logit_v_grid)))"
   ]
  },
  {
   "cell_type": "code",
   "execution_count": 13,
   "metadata": {
    "collapsed": false
   },
   "outputs": [
    {
     "data": {
      "text/plain": [
       "<matplotlib.text.Text at 0x7fe2754a1908>"
      ]
     },
     "execution_count": 13,
     "metadata": {},
     "output_type": "execute_result"
    },
    {
     "data": {
      "image/png": "[encoded data removed]",
      "text/plain": [
       "<matplotlib.figure.Figure at 0x7fe27566ab00>"
      ]
     },
     "metadata": {},
     "output_type": "display_data"
    }
   ],
   "source": [
    "prior_perturbation.set_epsilon(1.0)\n",
    "\n",
    "plt.figure(1, figsize=(18, 5))\n",
    "\n",
    "#plt.plot(v_grid, phi(logit_v_grid))\n",
    "plt.subplot(141)\n",
    "plt.plot(logit_v_grid, prior_perturbation.get_log_p0_logit(logit_v_grid))\n",
    "plt.plot(logit_v_grid, prior_perturbation.get_log_pc_logit(logit_v_grid))\n",
    "plt.title('Log priors in logit space')\n",
    "\n",
    "plt.subplot(142)\n",
    "plt.plot(logit_v_grid, prior_perturbation.log_phi(logit_v_grid))\n",
    "plt.title('log phi in logit space')\n",
    "\n",
    "plt.subplot(143)\n",
    "plt.plot(v_grid, np.exp(prior_perturbation.get_log_p0(v_grid)))\n",
    "plt.plot(v_grid, np.exp(prior_perturbation.get_log_pc(v_grid)))\n",
    "plt.title('Priors in stick space')\n",
    "\n",
    "plt.subplot(144)\n",
    "plt.plot(logit_v_grid, np.exp(prior_perturbation.get_log_p0_logit(logit_v_grid)))\n",
    "plt.plot(logit_v_grid, np.exp(prior_perturbation.get_log_pc_logit(logit_v_grid)))\n",
    "plt.title('Priors in logit space')\n"
   ]
  },
  {
   "cell_type": "code",
   "execution_count": 14,
   "metadata": {
    "collapsed": false
   },
   "outputs": [
    {
     "data": {
      "text/plain": [
       "<matplotlib.legend.Legend at 0x7fe27535ed68>"
      ]
     },
     "execution_count": 14,
     "metadata": {},
     "output_type": "execute_result"
    },
    {
     "data": {
      "image/png": "[encoded data removed]",
      "text/plain": [
       "<matplotlib.figure.Figure at 0x7fe2756068d0>"
      ]
     },
     "metadata": {},
     "output_type": "display_data"
    }
   ],
   "source": [
    "prior_perturbation.set_epsilon(1.0)\n",
    "plt.plot(v_grid, np.exp(prior_perturbation.get_log_p0(v_grid)), color = 'purple')\n",
    "plt.plot(v_grid, np.exp(prior_perturbation.get_log_pc(v_grid)), color = 'red')\n",
    "# plt.plot(v_grid, sp.stats.beta.pdf(v_grid, 1, 13), 'k--')\n",
    "\n",
    "plt.ylabel('$P(\\\\nu_k)$')\n",
    "plt.xlabel('$\\\\nu_k$')\n",
    "plt.legend(('original prior', 'perturbed prior'))\n",
    "\n",
    "# plt.savefig('../../../writing/NIPS_2018_BNP_workshop/functional_sens_results/perturbed_prior1_init3_5.png')"
   ]
  },
  {
   "cell_type": "code",
   "execution_count": 15,
   "metadata": {
    "collapsed": true
   },
   "outputs": [],
   "source": [
    "prior_plot_array = np.array([v_grid, \n",
    "                            np.exp(prior_perturbation.get_log_p0(v_grid)), \n",
    "                            np.exp(prior_perturbation.get_log_pc(v_grid))])"
   ]
  },
  {
   "cell_type": "code",
   "execution_count": 16,
   "metadata": {
    "collapsed": true
   },
   "outputs": [],
   "source": [
    "# np.savetxt('../../../writing/NIPS_2018_BNP_workshop/data_for_figures/prior_pert1.csv', \n",
    "#           prior_plot_array, delimiter = ',')"
   ]
  },
  {
   "cell_type": "markdown",
   "metadata": {},
   "source": [
    "# Choose the number of GH points."
   ]
  },
  {
   "cell_type": "code",
   "execution_count": 17,
   "metadata": {
    "collapsed": false
   },
   "outputs": [
    {
     "name": "stdout",
     "output_type": "stream",
     "text": [
      "[-3.19735565 -4.27427267 -6.58469451 -0.41087037 -0.55233363 -4.8926834\n",
      " -1.25929633 -0.9095254  -0.88194453 -0.85902237 -0.83950095 -0.8225166\n",
      " -0.80745349 -0.79389803 -0.78169019 -0.77098316 -0.76197276 -0.75455785\n",
      " -0.74851958 -0.74368134 -0.73987291 -0.73690609 -0.73459714 -0.73279085\n",
      " -0.73136702 -0.7302358  -0.72933039 -0.7286007  -0.7280088 ]\n",
      "[-3.20870957 -4.28096385 -6.55965111 -0.57037267 -0.71820901 -4.89773405\n",
      " -1.53978934 -1.21981641 -1.20193139 -1.18736077 -1.1750185  -1.16417758\n",
      " -1.15433505 -1.14517355 -1.13662029 -1.12891766 -1.12235865 -1.11693788\n",
      " -1.11252073 -1.10900247 -1.10627353 -1.10419517 -1.10262257 -1.10143067\n",
      " -1.1005226  -1.0998267  -1.0992905  -1.09887533 -1.09855241]\n",
      "[-3.20862258 -4.28088452 -6.56013301 -0.57777346 -0.72171868 -4.89745513\n",
      " -1.52546743 -1.20952378 -1.19155312 -1.17693363 -1.16458155 -1.15377187\n",
      " -1.14400304 -1.13495701 -1.12655351 -1.11901535 -1.11261296 -1.10733116\n",
      " -1.10303293 -1.09961173 -1.09695796 -1.09493542 -1.0934032  -1.09224007\n",
      " -1.09135225 -1.09067042 -1.09014378 -1.08973491 -1.08941595]\n"
     ]
    }
   ],
   "source": [
    "# Sanity check the perturbation\n",
    "\n",
    "# gmm_utils.set_gauss_hermite_points(\n",
    "#     prior_perturbation.model.vb_params, gh_deg=10)\n",
    "#\n",
    "# prior_perturbation.set_epsilon(1.0)\n",
    "# print(prior_perturbation.get_e_log_perturbation(sum_vector=False))\n",
    "#\n",
    "# prior_perturbation.set_epsilon(0.5)\n",
    "# print(prior_perturbation.get_e_log_perturbation(sum_vector=False))\n",
    "\n",
    "prior_perturbation.set_epsilon(1.0)\n",
    "\n",
    "gmm_utils.set_gauss_hermite_points(\n",
    "    prior_perturbation.model.vb_params, gh_deg=1)\n",
    "print(prior_perturbation.get_e_log_perturbation(sum_vector=False))\n",
    "\n",
    "gmm_utils.set_gauss_hermite_points(\n",
    "    prior_perturbation.model.vb_params, gh_deg=2)\n",
    "print(prior_perturbation.get_e_log_perturbation(sum_vector=False))\n",
    "\n",
    "gmm_utils.set_gauss_hermite_points(\n",
    "    prior_perturbation.model.vb_params, gh_deg=10)\n",
    "print(prior_perturbation.get_e_log_perturbation(sum_vector=False))"
   ]
  },
  {
   "cell_type": "code",
   "execution_count": 18,
   "metadata": {
    "collapsed": false
   },
   "outputs": [
    {
     "name": "stdout",
     "output_type": "stream",
     "text": [
      "[-3.20862181 -4.28088333 -6.56014419 -0.57965744 -0.72320918 -4.89743505\n",
      " -1.52621733 -1.21258776 -1.19506002 -1.18085629 -1.16889274 -1.15844494\n",
      " -1.14901239 -1.14027789 -1.13216017 -1.12487751 -1.11869581 -1.11360057\n",
      " -1.1094581  -1.10616508 -1.10361536 -1.10167668 -1.10021207 -1.0991037\n",
      " -1.0982605  -1.09761527 -1.09711884 -1.09673503 -1.09643698]\n",
      "[-3.20862259 -4.28088455 -6.56013272 -0.5777613  -0.72163392 -4.89745684\n",
      " -1.52501913 -1.20856292 -1.19044961 -1.17569417 -1.1632141  -1.15228531\n",
      " -1.14240682 -1.13326095 -1.12476787 -1.11715109 -1.11068138 -1.10534286\n",
      " -1.10099729 -1.09753697 -1.09485109 -1.09280225 -1.09124844 -1.09006751\n",
      " -1.08916493 -1.08847077 -1.0879338  -1.08751623 -1.08718989]\n",
      "[8.50550858e-03 2.32602805e-03 2.30334156e-04 1.06571831e-04\n",
      " 7.54203241e-05 2.72504590e-05 5.40528556e-06 8.36654613e-07\n",
      " 1.49083544e-06 9.08754727e-07 3.84123941e-07 1.07936841e-07\n",
      " 1.89115868e-09 2.39151123e-08 2.11205540e-08 1.26661847e-08\n",
      " 5.93974436e-09 2.05828945e-09 2.73909897e-10 3.36966318e-10\n",
      " 4.16691551e-10 3.15961439e-10 1.91624073e-10 9.67790606e-11\n",
      " 3.85346269e-11 8.42490190e-12 4.18564861e-12 7.54888331e-12\n",
      " 6.86567849e-12 4.94059809e-12 3.04975946e-12 1.62831841e-12\n",
      " 7.14796927e-13 2.02393313e-13 4.49277642e-14 1.30648654e-13\n",
      " 1.38393816e-13 1.12916310e-13 7.96936408e-14 5.01397331e-14\n",
      " 2.79233473e-14 1.28406634e-14 4.28022112e-15 6.01567525e-16\n",
      " 2.44584064e-15 3.05730080e-15 2.64966069e-15 1.83438048e-15\n",
      " 1.42420901e-15 1.22256237e-15 6.11281185e-16 5.65991501e-16\n",
      " 2.91117019e-16 4.05585230e-16 2.07475493e-16 4.01045016e-16\n",
      " 3.62710256e-16 5.71994676e-16 6.03911673e-16 4.06916859e-16\n",
      " 4.06153587e-16 2.03820053e-16 6.10375289e-16 1.01910027e-15\n",
      " 2.07475493e-16 6.11460160e-16 4.07520790e-16 4.07520790e-16\n",
      " 3.84902467e-16 6.11460160e-16 4.14950986e-16 4.14950986e-16\n",
      " 3.81329784e-16 4.07520790e-16 4.07520790e-16 2.76809963e-16\n",
      " 4.15214944e-16 4.14950986e-16 6.07256133e-16 5.98711764e-16\n",
      " 6.10756866e-16 4.07171244e-16 5.44065384e-16 4.07520790e-16\n",
      " 3.91283237e-16 4.61491949e-16 4.03860402e-16 3.81329784e-16\n",
      " 3.96857513e-16 4.07520790e-16 4.14950986e-16 4.14950986e-16\n",
      " 2.03820053e-16 2.03760395e-16 4.04837422e-16 2.03760395e-16]\n",
      "Chosen gh_dg = 20, learned threshold = 9, checked_points = 96\n"
     ]
    }
   ],
   "source": [
    "import LinearResponseVariationalBayes.ExponentialFamilies as ef\n",
    "model.global_vb_params.set_free(best_param)\n",
    "vb_params = deepcopy(model.vb_params)\n",
    "\n",
    "prior_perturbation.set_epsilon(1.0)\n",
    "\n",
    "expected_perturbations_list = []\n",
    "gh_deg_list = np.arange(3, 100, 1)\n",
    "for gh_deg in gh_deg_list:\n",
    "    gmm_utils.set_gauss_hermite_points(\n",
    "        prior_perturbation.model.vb_params, gh_deg=gh_deg)\n",
    "    expected_perturbations_list.append(\n",
    "        prior_perturbation.get_e_log_perturbation(sum_vector=False))\n",
    "\n",
    "print(expected_perturbations_list[0])\n",
    "print(expected_perturbations_list[1])\n",
    "expected_perturbations_list = np.array(expected_perturbations_list)\n",
    "#print(expected_perturbations_list.shape)\n",
    "diffs = (expected_perturbations_list[1:, :] - \\\n",
    "         expected_perturbations_list[:-1, :]) / \\\n",
    "        np.abs(expected_perturbations_list[1:, :] + 1e-6)\n",
    "#print(np.max(diffs, axis=1))\n",
    "max_diffs = np.max(np.abs(diffs), axis=1)\n",
    "print(max_diffs)\n",
    "gh_deg_threshold = np.argmax(max_diffs < 1e-5)\n",
    "gh_deg = max(20, gh_deg_list[gh_deg_threshold])\n",
    "print('Chosen gh_dg = {}, learned threshold = {}, checked_points = {}'\n",
    "      .format(gh_deg, gh_deg_list[gh_deg_threshold], len(max_diffs)))"
   ]
  },
  {
   "cell_type": "code",
   "execution_count": 19,
   "metadata": {
    "collapsed": false,
    "scrolled": true
   },
   "outputs": [
    {
     "name": "stdout",
     "output_type": "stream",
     "text": [
      "Iter: 0\t RMSE: 7.71489372333978\t Objective: -337.2075482609857\n",
      "Optimization terminated successfully.\n",
      "         Current function value: -337.207548\n",
      "         Iterations: 1\n",
      "         Function evaluations: 2\n",
      "         Gradient evaluations: 2\n",
      "         Hessian evaluations: 0\n",
      "Optimization terminated successfully.\n",
      "         Current function value: -337.207548\n",
      "         Iterations: 0\n",
      "         Function evaluations: 1\n",
      "         Gradient evaluations: 1\n",
      "         Hessian evaluations: 0\n",
      "Done. \n"
     ]
    }
   ],
   "source": [
    "# First fit with no perturbation but the increased number of gh points.\n",
    "\n",
    "model.objective.logger.print_every = 10\n",
    "gmm_utils.set_gauss_hermite_points(model.vb_params, gh_deg=gh_deg)\n",
    "model.objective.logger.initialize()\n",
    "\n",
    "best_param_0, converged, x_conv, f_conv, grad_conv, obj_opt, opt_results = \\\n",
    "    opt_lib.repeatedly_optimize(\n",
    "        objective=prior_perturbation.objective,\n",
    "        optimization_fun=lambda x: gmm_utils.precondition_and_optimize(model.objective, x),\n",
    "        init_x=best_param,\n",
    "        initial_optimization_fun=None,\n",
    "        max_iter=100,\n",
    "        gtol=1e-8, ftol=1e-8, xtol=1e-8, disp=False,\n",
    "        keep_intermediate_optimizations=True)\n",
    "\n",
    "kl_hessian_0 = model.objective.fun_free_hessian(best_param_0)\n",
    "    \n",
    "print('Done. ')"
   ]
  },
  {
   "cell_type": "markdown",
   "metadata": {},
   "source": [
    "# Examine Fit "
   ]
  },
  {
   "cell_type": "code",
   "execution_count": 20,
   "metadata": {
    "collapsed": true
   },
   "outputs": [],
   "source": [
    "pca_fit, pc_features, colors1, colors2 = utils_lib.get_plot_data(model.y)"
   ]
  },
  {
   "cell_type": "code",
   "execution_count": 21,
   "metadata": {
    "collapsed": true
   },
   "outputs": [],
   "source": [
    "# look at results\n",
    "bnp_clusters = np.argmax(model.e_z, axis = 1)\n",
    "bnp_centroids = model.vb_params['global']['centroids'].get()\n",
    "\n",
    "bnp_cluster_infos = model.vb_params['global']['gamma'].get()\n",
    "bnp_cluster_covs = np.linalg.inv(bnp_cluster_infos)"
   ]
  },
  {
   "cell_type": "code",
   "execution_count": 22,
   "metadata": {
    "collapsed": true
   },
   "outputs": [],
   "source": [
    "# we plot in PCA space\n",
    "bnp_centroids_pc, bnp_cluster_covs_pc = \\\n",
    "    utils_lib.transform_params_to_pc_space(\n",
    "        pca_fit, bnp_centroids, bnp_cluster_covs)"
   ]
  },
  {
   "cell_type": "code",
   "execution_count": 23,
   "metadata": {
    "collapsed": false,
    "scrolled": true
   },
   "outputs": [
    {
     "data": {
      "text/plain": [
       "<matplotlib.text.Text at 0x7fe2b82c0c50>"
      ]
     },
     "execution_count": 23,
     "metadata": {},
     "output_type": "execute_result"
    },
    {
     "data": {
      "image/png": "[encoded data removed]",
      "text/plain": [
       "<matplotlib.figure.Figure at 0x7fe2756dc2e8>"
      ]
     },
     "metadata": {},
     "output_type": "display_data"
    }
   ],
   "source": [
    "# plot results\n",
    "\n",
    "fig1 = plt.figure(1)\n",
    "fig = fig1.add_subplot(111)\n",
    "\n",
    "colors1_ = deepcopy(colors1)\n",
    "# colors1_[0] = colors1[2]\n",
    "# colors1_[1] = colors1[0]\n",
    "# colors1_[2] = colors1[1]\n",
    "\n",
    "utils_lib.plot_clusters(pc_features[:, 0], pc_features[:, 1], bnp_clusters, \\\n",
    "              colors1_, fig, \\\n",
    "              centroids = bnp_centroids_pc[:, np.unique(bnp_clusters)], \\\n",
    "              cov = bnp_cluster_covs_pc[np.unique(bnp_clusters)])\n",
    "\n",
    "fig.set_xlabel('PC1')\n",
    "fig.set_ylabel('PC2')\n",
    "\n",
    "# plt.savefig('../../../writing/functional_sensitivity_writing/parametric_sens_results/init_fit_alph8.0.png')"
   ]
  },
  {
   "cell_type": "markdown",
   "metadata": {
    "collapsed": true
   },
   "source": [
    "# Define prior perturbation"
   ]
  },
  {
   "cell_type": "code",
   "execution_count": 25,
   "metadata": {
    "collapsed": false,
    "scrolled": true
   },
   "outputs": [],
   "source": [
    "# This expects the hyperparameter to be at its optimal value.\n",
    "prior_perturbation.set_epsilon(0.0)\n",
    "# epsilon_sensitivity = \\\n",
    "#     sens_lib.ParametricSensitivityLinearApproximation(\n",
    "#         objective_functor=prior_perturbation.get_perturbed_kl,\n",
    "#         input_par=prior_perturbation.model.global_vb_params,\n",
    "#         hyper_par=prior_perturbation.epsilon_param,\n",
    "#         input_val0=best_param_0,\n",
    "#         hyper_val0=np.array([0.0]),\n",
    "#         input_is_free=True,\n",
    "#         hyper_is_free=False,\n",
    "#         hyper_par_objective_functor=prior_perturbation.get_e_log_perturbation)\n",
    "\n",
    "epsilon_sensitivity = sens_lib.ParametricSensitivityTaylorExpansion(\n",
    "                        objective_functor = prior_perturbation.get_perturbed_kl, \n",
    "                        input_par = prior_perturbation.model.global_vb_params, \n",
    "                        hyper_par = prior_perturbation.epsilon_param,\n",
    "                        input_val0 = best_param_0, \n",
    "                        hyper_val0 = np.array([0.0]), \n",
    "                        order = 2,\n",
    "                        input_is_free=True, \n",
    "                        hyper_is_free=False,\n",
    "                        hyper_par_objective_functor=prior_perturbation.get_e_log_perturbation)\n"
   ]
  },
  {
   "cell_type": "code",
   "execution_count": 27,
   "metadata": {
    "collapsed": false
   },
   "outputs": [
    {
     "name": "stdout",
     "output_type": "stream",
     "text": [
      "-0.0\n",
      "-46.4448387985173\n"
     ]
    }
   ],
   "source": [
    "prior_perturbation.set_epsilon(0.0)\n",
    "print(prior_perturbation.get_e_log_perturbation())\n",
    "\n",
    "prior_perturbation.set_epsilon(1.0)\n",
    "print(prior_perturbation.get_e_log_perturbation())\n",
    "\n",
    "# print(np.linalg.norm(epsilon_sensitivity.get_dinput_dhyper()))"
   ]
  },
  {
   "cell_type": "markdown",
   "metadata": {},
   "source": [
    "## Fit with perturbation"
   ]
  },
  {
   "cell_type": "code",
   "execution_count": 32,
   "metadata": {
    "collapsed": false
   },
   "outputs": [
    {
     "name": "stdout",
     "output_type": "stream",
     "text": [
      "Epsilon:  1.0\n"
     ]
    },
    {
     "name": "stderr",
     "output_type": "stream",
     "text": [
      "/home/runjing_liu/Documents/BNP/autograd/autograd/tracer.py:14: UserWarning: Output seems independent of input.\n",
      "  warnings.warn(\"Output seems independent of input.\")\n"
     ]
    },
    {
     "ename": "NotImplementedError",
     "evalue": "JVP of expit wrt argnums (0,) not defined",
     "output_type": "error",
     "traceback": [
      "\u001b[0;31m---------------------------------------------------------------------------\u001b[0m",
      "\u001b[0;31mKeyError\u001b[0m                                  Traceback (most recent call last)",
      "\u001b[0;32m/home/runjing_liu/Documents/BNP/autograd/autograd/core.py\u001b[0m in \u001b[0;36m__init__\u001b[0;34m(self, value, fun, args, kwargs, parent_argnums, parents)\u001b[0m\n\u001b[1;32m    109\u001b[0m         \u001b[0;32mtry\u001b[0m\u001b[0;34m:\u001b[0m\u001b[0;34m\u001b[0m\u001b[0m\n\u001b[0;32m--> 110\u001b[0;31m             \u001b[0mjvpmaker\u001b[0m \u001b[0;34m=\u001b[0m \u001b[0mprimitive_jvps\u001b[0m\u001b[0;34m[\u001b[0m\u001b[0mfun\u001b[0m\u001b[0;34m]\u001b[0m\u001b[0;34m\u001b[0m\u001b[0m\n\u001b[0m\u001b[1;32m    111\u001b[0m         \u001b[0;32mexcept\u001b[0m \u001b[0mKeyError\u001b[0m\u001b[0;34m:\u001b[0m\u001b[0;34m\u001b[0m\u001b[0m\n",
      "\u001b[0;31mKeyError\u001b[0m: <function primitive.<locals>.f_wrapped at 0x7fe282ee5b70>",
      "\nDuring handling of the above exception, another exception occurred:\n",
      "\u001b[0;31mNotImplementedError\u001b[0m                       Traceback (most recent call last)",
      "\u001b[0;32m<ipython-input-32-efda304bc0b6>\u001b[0m in \u001b[0;36m<module>\u001b[0;34m()\u001b[0m\n\u001b[1;32m      4\u001b[0m \u001b[0;31m# best_param_phi_pred = \\\u001b[0m\u001b[0;34m\u001b[0m\u001b[0;34m\u001b[0m\u001b[0m\n\u001b[1;32m      5\u001b[0m \u001b[0;31m#     epsilon_sensitivity.predict_input_par_from_hyperparameters(epsilon)\u001b[0m\u001b[0;34m\u001b[0m\u001b[0;34m\u001b[0m\u001b[0m\n\u001b[0;32m----> 6\u001b[0;31m \u001b[0mbest_param_phi_pred\u001b[0m \u001b[0;34m=\u001b[0m     \u001b[0mepsilon_sensitivity\u001b[0m\u001b[0;34m.\u001b[0m\u001b[0mevaluate_taylor_series\u001b[0m\u001b[0;34m(\u001b[0m\u001b[0mepsilon\u001b[0m\u001b[0;34m,\u001b[0m \u001b[0;36m1\u001b[0m\u001b[0;34m)\u001b[0m\u001b[0;34m\u001b[0m\u001b[0m\n\u001b[0m\u001b[1;32m      7\u001b[0m \u001b[0;34m\u001b[0m\u001b[0m\n\u001b[1;32m      8\u001b[0m \u001b[0mprint\u001b[0m\u001b[0;34m(\u001b[0m\u001b[0;34m'Predicted differences: '\u001b[0m\u001b[0;34m,\u001b[0m \u001b[0mnp\u001b[0m\u001b[0;34m.\u001b[0m\u001b[0mlinalg\u001b[0m\u001b[0;34m.\u001b[0m\u001b[0mnorm\u001b[0m\u001b[0;34m(\u001b[0m\u001b[0mbest_param_phi_pred\u001b[0m \u001b[0;34m-\u001b[0m \u001b[0mbest_param_0\u001b[0m\u001b[0;34m)\u001b[0m\u001b[0;34m)\u001b[0m\u001b[0;34m\u001b[0m\u001b[0m\n",
      "\u001b[0;32m/home/runjing_liu/Documents/BNP/LinearResponseVariationalBayes.py/LinearResponseVariationalBayes/ModelSensitivity.py\u001b[0m in \u001b[0;36mevaluate_taylor_series\u001b[0;34m(self, dhyper, add_offset, max_order, *argv, **argk)\u001b[0m\n\u001b[1;32m    497\u001b[0m         \u001b[0mdinput\u001b[0m \u001b[0;34m=\u001b[0m \u001b[0mself\u001b[0m\u001b[0;34m.\u001b[0m\u001b[0mevaluate_dkinput_dhyperk\u001b[0m\u001b[0;34m(\u001b[0m\u001b[0mdhyper\u001b[0m\u001b[0;34m,\u001b[0m \u001b[0;36m1\u001b[0m\u001b[0;34m,\u001b[0m \u001b[0;34m*\u001b[0m\u001b[0margv\u001b[0m\u001b[0;34m,\u001b[0m  \u001b[0;34m**\u001b[0m\u001b[0margk\u001b[0m\u001b[0;34m)\u001b[0m\u001b[0;34m\u001b[0m\u001b[0m\n\u001b[1;32m    498\u001b[0m         \u001b[0;32mfor\u001b[0m \u001b[0mk\u001b[0m \u001b[0;32min\u001b[0m \u001b[0mrange\u001b[0m\u001b[0;34m(\u001b[0m\u001b[0;36m2\u001b[0m\u001b[0;34m,\u001b[0m \u001b[0mmax_order\u001b[0m \u001b[0;34m+\u001b[0m \u001b[0;36m1\u001b[0m\u001b[0;34m)\u001b[0m\u001b[0;34m:\u001b[0m\u001b[0;34m\u001b[0m\u001b[0m\n\u001b[0;32m--> 499\u001b[0;31m             \u001b[0mdinput\u001b[0m \u001b[0;34m+=\u001b[0m \u001b[0mself\u001b[0m\u001b[0;34m.\u001b[0m\u001b[0mevaluate_dkinput_dhyperk\u001b[0m\u001b[0;34m(\u001b[0m\u001b[0mdhyper\u001b[0m\u001b[0;34m,\u001b[0m \u001b[0mk\u001b[0m\u001b[0;34m)\u001b[0m \u001b[0;34m/\u001b[0m\u001b[0;31m \u001b[0m\u001b[0;31m\\\u001b[0m\u001b[0;34m\u001b[0m\u001b[0m\n\u001b[0m\u001b[1;32m    500\u001b[0m                 \u001b[0mfloat\u001b[0m\u001b[0;34m(\u001b[0m\u001b[0mmath\u001b[0m\u001b[0;34m.\u001b[0m\u001b[0mfactorial\u001b[0m\u001b[0;34m(\u001b[0m\u001b[0mk\u001b[0m\u001b[0;34m)\u001b[0m\u001b[0;34m)\u001b[0m\u001b[0;34m\u001b[0m\u001b[0m\n\u001b[1;32m    501\u001b[0m \u001b[0;34m\u001b[0m\u001b[0m\n",
      "\u001b[0;32m/home/runjing_liu/Documents/BNP/LinearResponseVariationalBayes.py/LinearResponseVariationalBayes/ModelSensitivity.py\u001b[0m in \u001b[0;36mevaluate_dkinput_dhyperk\u001b[0;34m(self, dhyper, k, *argv, **argk)\u001b[0m\n\u001b[1;32m    482\u001b[0m         \u001b[0mderiv_fun\u001b[0m \u001b[0;34m=\u001b[0m \u001b[0mself\u001b[0m\u001b[0;34m.\u001b[0m\u001b[0mdkinput_dhyperk_list\u001b[0m\u001b[0;34m[\u001b[0m\u001b[0mk\u001b[0m \u001b[0;34m-\u001b[0m \u001b[0;36m1\u001b[0m\u001b[0;34m]\u001b[0m\u001b[0;34m\u001b[0m\u001b[0m\n\u001b[1;32m    483\u001b[0m         return self.cache_and_eval(\n\u001b[0;32m--> 484\u001b[0;31m             deriv_fun, self.input_val0, self.hyper_val0, dhyper, *argv, **argk)\n\u001b[0m\u001b[1;32m    485\u001b[0m \u001b[0;34m\u001b[0m\u001b[0m\n\u001b[1;32m    486\u001b[0m     def evaluate_taylor_series(\n",
      "\u001b[0;32m/home/runjing_liu/Documents/BNP/LinearResponseVariationalBayes.py/LinearResponseVariationalBayes/ModelSensitivity.py\u001b[0m in \u001b[0;36mcache_and_eval\u001b[0;34m(self, diff_fun, *argv, **argk)\u001b[0m\n\u001b[1;32m    411\u001b[0m \u001b[0;34m\u001b[0m\u001b[0m\n\u001b[1;32m    412\u001b[0m     \u001b[0;32mdef\u001b[0m \u001b[0mcache_and_eval\u001b[0m\u001b[0;34m(\u001b[0m\u001b[0mself\u001b[0m\u001b[0;34m,\u001b[0m \u001b[0mdiff_fun\u001b[0m\u001b[0;34m,\u001b[0m \u001b[0;34m*\u001b[0m\u001b[0margv\u001b[0m\u001b[0;34m,\u001b[0m \u001b[0;34m**\u001b[0m\u001b[0margk\u001b[0m\u001b[0;34m)\u001b[0m\u001b[0;34m:\u001b[0m\u001b[0;34m\u001b[0m\u001b[0m\n\u001b[0;32m--> 413\u001b[0;31m         \u001b[0mresult\u001b[0m \u001b[0;34m=\u001b[0m \u001b[0mdiff_fun\u001b[0m\u001b[0;34m(\u001b[0m\u001b[0;34m*\u001b[0m\u001b[0margv\u001b[0m\u001b[0;34m,\u001b[0m \u001b[0;34m**\u001b[0m\u001b[0margk\u001b[0m\u001b[0;34m)\u001b[0m\u001b[0;34m\u001b[0m\u001b[0m\n\u001b[0m\u001b[1;32m    414\u001b[0m         \u001b[0mself\u001b[0m\u001b[0;34m.\u001b[0m\u001b[0mset_par_to_base_values\u001b[0m\u001b[0;34m(\u001b[0m\u001b[0;34m)\u001b[0m\u001b[0;34m\u001b[0m\u001b[0m\n\u001b[1;32m    415\u001b[0m         \u001b[0;32mreturn\u001b[0m \u001b[0mresult\u001b[0m\u001b[0;34m\u001b[0m\u001b[0m\n",
      "\u001b[0;32m/home/runjing_liu/Documents/BNP/LinearResponseVariationalBayes.py/LinearResponseVariationalBayes/ModelSensitivity.py\u001b[0m in \u001b[0;36mdkinput_dhyperk\u001b[0;34m(input_val, hyper_val, dhyper, tolerance)\u001b[0m\n\u001b[1;32m    441\u001b[0m                 \u001b[0;32massert\u001b[0m \u001b[0mnp\u001b[0m\u001b[0;34m.\u001b[0m\u001b[0mmax\u001b[0m\u001b[0;34m(\u001b[0m\u001b[0mnp\u001b[0m\u001b[0;34m.\u001b[0m\u001b[0mabs\u001b[0m\u001b[0;34m(\u001b[0m\u001b[0mhyper_val\u001b[0m \u001b[0;34m-\u001b[0m \u001b[0mself\u001b[0m\u001b[0;34m.\u001b[0m\u001b[0mhyper_val0\u001b[0m\u001b[0;34m)\u001b[0m\u001b[0;34m)\u001b[0m \u001b[0;34m<=\u001b[0m \u001b[0mtolerance\u001b[0m\u001b[0;34m\u001b[0m\u001b[0m\n\u001b[1;32m    442\u001b[0m             return evaluate_dketa_depsk(\n\u001b[0;32m--> 443\u001b[0;31m                 self.hess0, dterms, self.input_val0, self.hyper_val0, dhyper)\n\u001b[0m\u001b[1;32m    444\u001b[0m         \u001b[0;32mreturn\u001b[0m \u001b[0mdkinput_dhyperk\u001b[0m\u001b[0;34m\u001b[0m\u001b[0m\n\u001b[1;32m    445\u001b[0m \u001b[0;34m\u001b[0m\u001b[0m\n",
      "\u001b[0;32m/home/runjing_liu/Documents/BNP/LinearResponseVariationalBayes.py/LinearResponseVariationalBayes/ModelSensitivity.py\u001b[0m in \u001b[0;36mevaluate_dketa_depsk\u001b[0;34m(hess0, dterms, eta0, eps0, deps)\u001b[0m\n\u001b[1;32m    312\u001b[0m \u001b[0;32mdef\u001b[0m \u001b[0mevaluate_dketa_depsk\u001b[0m\u001b[0;34m(\u001b[0m\u001b[0mhess0\u001b[0m\u001b[0;34m,\u001b[0m \u001b[0mdterms\u001b[0m\u001b[0;34m,\u001b[0m \u001b[0meta0\u001b[0m\u001b[0;34m,\u001b[0m \u001b[0meps0\u001b[0m\u001b[0;34m,\u001b[0m \u001b[0mdeps\u001b[0m\u001b[0;34m)\u001b[0m\u001b[0;34m:\u001b[0m\u001b[0;34m\u001b[0m\u001b[0m\n\u001b[1;32m    313\u001b[0m     vec = evaluate_terms(\n\u001b[0;32m--> 314\u001b[0;31m         dterms, eta0, eps0, deps, include_highest_eta_order=False)\n\u001b[0m\u001b[1;32m    315\u001b[0m     \u001b[0;32massert\u001b[0m \u001b[0mvec\u001b[0m \u001b[0;32mis\u001b[0m \u001b[0;32mnot\u001b[0m \u001b[0;32mNone\u001b[0m\u001b[0;34m\u001b[0m\u001b[0m\n\u001b[1;32m    316\u001b[0m     \u001b[0;32mreturn\u001b[0m \u001b[0;34m-\u001b[0m\u001b[0;36m1\u001b[0m \u001b[0;34m*\u001b[0m \u001b[0mnp\u001b[0m\u001b[0;34m.\u001b[0m\u001b[0mlinalg\u001b[0m\u001b[0;34m.\u001b[0m\u001b[0msolve\u001b[0m\u001b[0;34m(\u001b[0m\u001b[0mhess0\u001b[0m\u001b[0;34m,\u001b[0m \u001b[0mvec\u001b[0m\u001b[0;34m)\u001b[0m\u001b[0;34m\u001b[0m\u001b[0m\n",
      "\u001b[0;32m/home/runjing_liu/Documents/BNP/LinearResponseVariationalBayes.py/LinearResponseVariationalBayes/ModelSensitivity.py\u001b[0m in \u001b[0;36mevaluate_terms\u001b[0;34m(dterms, eta0, eps0, deps, include_highest_eta_order)\u001b[0m\n\u001b[1;32m    279\u001b[0m                 \u001b[0mvec\u001b[0m \u001b[0;34m=\u001b[0m \u001b[0mterm\u001b[0m\u001b[0;34m.\u001b[0m\u001b[0mevaluate\u001b[0m\u001b[0;34m(\u001b[0m\u001b[0meta0\u001b[0m\u001b[0;34m,\u001b[0m \u001b[0meps0\u001b[0m\u001b[0;34m,\u001b[0m \u001b[0mdeps\u001b[0m\u001b[0;34m)\u001b[0m\u001b[0;34m\u001b[0m\u001b[0m\n\u001b[1;32m    280\u001b[0m             \u001b[0;32melse\u001b[0m\u001b[0;34m:\u001b[0m\u001b[0;34m\u001b[0m\u001b[0m\n\u001b[0;32m--> 281\u001b[0;31m                 \u001b[0mvec\u001b[0m \u001b[0;34m+=\u001b[0m \u001b[0mterm\u001b[0m\u001b[0;34m.\u001b[0m\u001b[0mevaluate\u001b[0m\u001b[0;34m(\u001b[0m\u001b[0meta0\u001b[0m\u001b[0;34m,\u001b[0m \u001b[0meps0\u001b[0m\u001b[0;34m,\u001b[0m \u001b[0mdeps\u001b[0m\u001b[0;34m)\u001b[0m\u001b[0;34m\u001b[0m\u001b[0m\n\u001b[0m\u001b[1;32m    282\u001b[0m     \u001b[0;32mreturn\u001b[0m \u001b[0mvec\u001b[0m\u001b[0;34m\u001b[0m\u001b[0m\n\u001b[1;32m    283\u001b[0m \u001b[0;34m\u001b[0m\u001b[0m\n",
      "\u001b[0;32m/home/runjing_liu/Documents/BNP/LinearResponseVariationalBayes.py/LinearResponseVariationalBayes/ModelSensitivity.py\u001b[0m in \u001b[0;36mevaluate\u001b[0;34m(self, eta0, eps0, deps)\u001b[0m\n\u001b[1;32m    137\u001b[0m             \u001b[0mvec_args\u001b[0m\u001b[0;34m.\u001b[0m\u001b[0mappend\u001b[0m\u001b[0;34m(\u001b[0m\u001b[0mdeps\u001b[0m\u001b[0;34m)\u001b[0m\u001b[0;34m\u001b[0m\u001b[0m\n\u001b[1;32m    138\u001b[0m \u001b[0;34m\u001b[0m\u001b[0m\n\u001b[0;32m--> 139\u001b[0;31m         \u001b[0;32mreturn\u001b[0m \u001b[0mself\u001b[0m\u001b[0;34m.\u001b[0m\u001b[0mprefactor\u001b[0m \u001b[0;34m*\u001b[0m \u001b[0mself\u001b[0m\u001b[0;34m.\u001b[0m\u001b[0meval_g_deriv\u001b[0m\u001b[0;34m(\u001b[0m\u001b[0meta0\u001b[0m\u001b[0;34m,\u001b[0m \u001b[0meps0\u001b[0m\u001b[0;34m,\u001b[0m \u001b[0;34m*\u001b[0m\u001b[0mvec_args\u001b[0m\u001b[0;34m)\u001b[0m\u001b[0;34m\u001b[0m\u001b[0m\n\u001b[0m\u001b[1;32m    140\u001b[0m \u001b[0;34m\u001b[0m\u001b[0m\n\u001b[1;32m    141\u001b[0m     \u001b[0;32mdef\u001b[0m \u001b[0mdifferentiate\u001b[0m\u001b[0;34m(\u001b[0m\u001b[0mself\u001b[0m\u001b[0;34m,\u001b[0m \u001b[0meval_next_eta_deriv\u001b[0m\u001b[0;34m)\u001b[0m\u001b[0;34m:\u001b[0m\u001b[0;34m\u001b[0m\u001b[0m\n",
      "\u001b[0;32m/home/runjing_liu/Documents/BNP/LinearResponseVariationalBayes.py/LinearResponseVariationalBayes/ModelSensitivity.py\u001b[0m in \u001b[0;36mobj_jvp_wrapper\u001b[0;34m(*argv)\u001b[0m\n\u001b[1;32m     56\u001b[0m             \u001b[0;31m# list.\u001b[0m\u001b[0;34m\u001b[0m\u001b[0;34m\u001b[0m\u001b[0m\n\u001b[1;32m     57\u001b[0m             \u001b[0mold_vec_args\u001b[0m \u001b[0;34m=\u001b[0m \u001b[0mvec_args\u001b[0m\u001b[0;34m[\u001b[0m\u001b[0;34m:\u001b[0m\u001b[0;34m-\u001b[0m\u001b[0;36m1\u001b[0m\u001b[0;34m]\u001b[0m\u001b[0;34m\u001b[0m\u001b[0m\n\u001b[0;32m---> 58\u001b[0;31m             \u001b[0;32mreturn\u001b[0m \u001b[0mfun_jvp\u001b[0m\u001b[0;34m(\u001b[0m\u001b[0;34m*\u001b[0m\u001b[0mbase_args\u001b[0m\u001b[0;34m,\u001b[0m \u001b[0;34m*\u001b[0m\u001b[0mold_vec_args\u001b[0m\u001b[0;34m)\u001b[0m\u001b[0;34m(\u001b[0m\u001b[0mvec_args\u001b[0m\u001b[0;34m[\u001b[0m\u001b[0;34m-\u001b[0m\u001b[0;36m1\u001b[0m\u001b[0;34m]\u001b[0m\u001b[0;34m)\u001b[0m\u001b[0;34m[\u001b[0m\u001b[0;36m1\u001b[0m\u001b[0;34m]\u001b[0m\u001b[0;34m\u001b[0m\u001b[0m\n\u001b[0m\u001b[1;32m     59\u001b[0m         \u001b[0;32melse\u001b[0m\u001b[0;34m:\u001b[0m\u001b[0;34m\u001b[0m\u001b[0m\n\u001b[1;32m     60\u001b[0m             \u001b[0;32mreturn\u001b[0m \u001b[0mfun_jvp\u001b[0m\u001b[0;34m(\u001b[0m\u001b[0;34m*\u001b[0m\u001b[0mbase_args\u001b[0m\u001b[0;34m)\u001b[0m\u001b[0;34m(\u001b[0m\u001b[0;34m*\u001b[0m\u001b[0mvec_args\u001b[0m\u001b[0;34m)\u001b[0m\u001b[0;34m[\u001b[0m\u001b[0;36m1\u001b[0m\u001b[0;34m]\u001b[0m\u001b[0;34m\u001b[0m\u001b[0m\n",
      "\u001b[0;32m/home/runjing_liu/Documents/BNP/autograd/autograd/core.py\u001b[0m in \u001b[0;36mjvp\u001b[0;34m(g)\u001b[0m\n\u001b[1;32m     96\u001b[0m     \u001b[0;32mdef\u001b[0m \u001b[0mjvp\u001b[0m\u001b[0;34m(\u001b[0m\u001b[0mg\u001b[0m\u001b[0;34m)\u001b[0m\u001b[0;34m:\u001b[0m\u001b[0;34m\u001b[0m\u001b[0m\n\u001b[1;32m     97\u001b[0m         \u001b[0mstart_node\u001b[0m \u001b[0;34m=\u001b[0m \u001b[0mJVPNode\u001b[0m\u001b[0;34m.\u001b[0m\u001b[0mnew_root\u001b[0m\u001b[0;34m(\u001b[0m\u001b[0mg\u001b[0m\u001b[0;34m)\u001b[0m\u001b[0;34m\u001b[0m\u001b[0m\n\u001b[0;32m---> 98\u001b[0;31m         \u001b[0mend_value\u001b[0m\u001b[0;34m,\u001b[0m \u001b[0mend_node\u001b[0m \u001b[0;34m=\u001b[0m \u001b[0mtrace\u001b[0m\u001b[0;34m(\u001b[0m\u001b[0mstart_node\u001b[0m\u001b[0;34m,\u001b[0m \u001b[0mfun\u001b[0m\u001b[0;34m,\u001b[0m \u001b[0mx\u001b[0m\u001b[0;34m)\u001b[0m\u001b[0;34m\u001b[0m\u001b[0m\n\u001b[0m\u001b[1;32m     99\u001b[0m         \u001b[0;32mif\u001b[0m \u001b[0mend_node\u001b[0m \u001b[0;32mis\u001b[0m \u001b[0;32mNone\u001b[0m\u001b[0;34m:\u001b[0m\u001b[0;34m\u001b[0m\u001b[0m\n\u001b[1;32m    100\u001b[0m             \u001b[0;32mreturn\u001b[0m \u001b[0mend_value\u001b[0m\u001b[0;34m,\u001b[0m \u001b[0mvspace\u001b[0m\u001b[0;34m(\u001b[0m\u001b[0mend_value\u001b[0m\u001b[0;34m)\u001b[0m\u001b[0;34m.\u001b[0m\u001b[0mzeros\u001b[0m\u001b[0;34m(\u001b[0m\u001b[0;34m)\u001b[0m\u001b[0;34m\u001b[0m\u001b[0m\n",
      "\u001b[0;32m/home/runjing_liu/Documents/BNP/autograd/autograd/tracer.py\u001b[0m in \u001b[0;36mtrace\u001b[0;34m(start_node, fun, x)\u001b[0m\n\u001b[1;32m      8\u001b[0m     \u001b[0;32mwith\u001b[0m \u001b[0mtrace_stack\u001b[0m\u001b[0;34m.\u001b[0m\u001b[0mnew_trace\u001b[0m\u001b[0;34m(\u001b[0m\u001b[0;34m)\u001b[0m \u001b[0;32mas\u001b[0m \u001b[0mt\u001b[0m\u001b[0;34m:\u001b[0m\u001b[0;34m\u001b[0m\u001b[0m\n\u001b[1;32m      9\u001b[0m         \u001b[0mstart_box\u001b[0m \u001b[0;34m=\u001b[0m \u001b[0mnew_box\u001b[0m\u001b[0;34m(\u001b[0m\u001b[0mx\u001b[0m\u001b[0;34m,\u001b[0m \u001b[0mt\u001b[0m\u001b[0;34m,\u001b[0m \u001b[0mstart_node\u001b[0m\u001b[0;34m)\u001b[0m\u001b[0;34m\u001b[0m\u001b[0m\n\u001b[0;32m---> 10\u001b[0;31m         \u001b[0mend_box\u001b[0m \u001b[0;34m=\u001b[0m \u001b[0mfun\u001b[0m\u001b[0;34m(\u001b[0m\u001b[0mstart_box\u001b[0m\u001b[0;34m)\u001b[0m\u001b[0;34m\u001b[0m\u001b[0m\n\u001b[0m\u001b[1;32m     11\u001b[0m         \u001b[0;32mif\u001b[0m \u001b[0misbox\u001b[0m\u001b[0;34m(\u001b[0m\u001b[0mend_box\u001b[0m\u001b[0;34m)\u001b[0m \u001b[0;32mand\u001b[0m \u001b[0mend_box\u001b[0m\u001b[0;34m.\u001b[0m\u001b[0m_trace\u001b[0m \u001b[0;34m==\u001b[0m \u001b[0mstart_box\u001b[0m\u001b[0;34m.\u001b[0m\u001b[0m_trace\u001b[0m\u001b[0;34m:\u001b[0m\u001b[0;34m\u001b[0m\u001b[0m\n\u001b[1;32m     12\u001b[0m             \u001b[0;32mreturn\u001b[0m \u001b[0mend_box\u001b[0m\u001b[0;34m.\u001b[0m\u001b[0m_value\u001b[0m\u001b[0;34m,\u001b[0m \u001b[0mend_box\u001b[0m\u001b[0;34m.\u001b[0m\u001b[0m_node\u001b[0m\u001b[0;34m\u001b[0m\u001b[0m\n",
      "\u001b[0;32m/home/runjing_liu/Documents/BNP/autograd/autograd/wrap_util.py\u001b[0m in \u001b[0;36munary_f\u001b[0;34m(x)\u001b[0m\n\u001b[1;32m     13\u001b[0m                 \u001b[0;32melse\u001b[0m\u001b[0;34m:\u001b[0m\u001b[0;34m\u001b[0m\u001b[0m\n\u001b[1;32m     14\u001b[0m                     \u001b[0msubargs\u001b[0m \u001b[0;34m=\u001b[0m \u001b[0msubvals\u001b[0m\u001b[0;34m(\u001b[0m\u001b[0margs\u001b[0m\u001b[0;34m,\u001b[0m \u001b[0mzip\u001b[0m\u001b[0;34m(\u001b[0m\u001b[0margnum\u001b[0m\u001b[0;34m,\u001b[0m \u001b[0mx\u001b[0m\u001b[0;34m)\u001b[0m\u001b[0;34m)\u001b[0m\u001b[0;34m\u001b[0m\u001b[0m\n\u001b[0;32m---> 15\u001b[0;31m                 \u001b[0;32mreturn\u001b[0m \u001b[0mfun\u001b[0m\u001b[0;34m(\u001b[0m\u001b[0;34m*\u001b[0m\u001b[0msubargs\u001b[0m\u001b[0;34m,\u001b[0m \u001b[0;34m**\u001b[0m\u001b[0mkwargs\u001b[0m\u001b[0;34m)\u001b[0m\u001b[0;34m\u001b[0m\u001b[0m\n\u001b[0m\u001b[1;32m     16\u001b[0m             \u001b[0;32mif\u001b[0m \u001b[0misinstance\u001b[0m\u001b[0;34m(\u001b[0m\u001b[0margnum\u001b[0m\u001b[0;34m,\u001b[0m \u001b[0mint\u001b[0m\u001b[0;34m)\u001b[0m\u001b[0;34m:\u001b[0m\u001b[0;34m\u001b[0m\u001b[0m\n\u001b[1;32m     17\u001b[0m                 \u001b[0mx\u001b[0m \u001b[0;34m=\u001b[0m \u001b[0margs\u001b[0m\u001b[0;34m[\u001b[0m\u001b[0margnum\u001b[0m\u001b[0;34m]\u001b[0m\u001b[0;34m\u001b[0m\u001b[0m\n",
      "\u001b[0;32m/home/runjing_liu/Documents/BNP/LinearResponseVariationalBayes.py/LinearResponseVariationalBayes/ModelSensitivity.py\u001b[0m in \u001b[0;36mobj_jvp_wrapper\u001b[0;34m(*argv)\u001b[0m\n\u001b[1;32m     58\u001b[0m             \u001b[0;32mreturn\u001b[0m \u001b[0mfun_jvp\u001b[0m\u001b[0;34m(\u001b[0m\u001b[0;34m*\u001b[0m\u001b[0mbase_args\u001b[0m\u001b[0;34m,\u001b[0m \u001b[0;34m*\u001b[0m\u001b[0mold_vec_args\u001b[0m\u001b[0;34m)\u001b[0m\u001b[0;34m(\u001b[0m\u001b[0mvec_args\u001b[0m\u001b[0;34m[\u001b[0m\u001b[0;34m-\u001b[0m\u001b[0;36m1\u001b[0m\u001b[0;34m]\u001b[0m\u001b[0;34m)\u001b[0m\u001b[0;34m[\u001b[0m\u001b[0;36m1\u001b[0m\u001b[0;34m]\u001b[0m\u001b[0;34m\u001b[0m\u001b[0m\n\u001b[1;32m     59\u001b[0m         \u001b[0;32melse\u001b[0m\u001b[0;34m:\u001b[0m\u001b[0;34m\u001b[0m\u001b[0m\n\u001b[0;32m---> 60\u001b[0;31m             \u001b[0;32mreturn\u001b[0m \u001b[0mfun_jvp\u001b[0m\u001b[0;34m(\u001b[0m\u001b[0;34m*\u001b[0m\u001b[0mbase_args\u001b[0m\u001b[0;34m)\u001b[0m\u001b[0;34m(\u001b[0m\u001b[0;34m*\u001b[0m\u001b[0mvec_args\u001b[0m\u001b[0;34m)\u001b[0m\u001b[0;34m[\u001b[0m\u001b[0;36m1\u001b[0m\u001b[0;34m]\u001b[0m\u001b[0;34m\u001b[0m\u001b[0m\n\u001b[0m\u001b[1;32m     61\u001b[0m \u001b[0;34m\u001b[0m\u001b[0m\n\u001b[1;32m     62\u001b[0m     \u001b[0;32mreturn\u001b[0m \u001b[0mobj_jvp_wrapper\u001b[0m\u001b[0;34m\u001b[0m\u001b[0m\n",
      "\u001b[0;32m/home/runjing_liu/Documents/BNP/autograd/autograd/core.py\u001b[0m in \u001b[0;36mjvp\u001b[0;34m(g)\u001b[0m\n\u001b[1;32m     96\u001b[0m     \u001b[0;32mdef\u001b[0m \u001b[0mjvp\u001b[0m\u001b[0;34m(\u001b[0m\u001b[0mg\u001b[0m\u001b[0;34m)\u001b[0m\u001b[0;34m:\u001b[0m\u001b[0;34m\u001b[0m\u001b[0m\n\u001b[1;32m     97\u001b[0m         \u001b[0mstart_node\u001b[0m \u001b[0;34m=\u001b[0m \u001b[0mJVPNode\u001b[0m\u001b[0;34m.\u001b[0m\u001b[0mnew_root\u001b[0m\u001b[0;34m(\u001b[0m\u001b[0mg\u001b[0m\u001b[0;34m)\u001b[0m\u001b[0;34m\u001b[0m\u001b[0m\n\u001b[0;32m---> 98\u001b[0;31m         \u001b[0mend_value\u001b[0m\u001b[0;34m,\u001b[0m \u001b[0mend_node\u001b[0m \u001b[0;34m=\u001b[0m \u001b[0mtrace\u001b[0m\u001b[0;34m(\u001b[0m\u001b[0mstart_node\u001b[0m\u001b[0;34m,\u001b[0m \u001b[0mfun\u001b[0m\u001b[0;34m,\u001b[0m \u001b[0mx\u001b[0m\u001b[0;34m)\u001b[0m\u001b[0;34m\u001b[0m\u001b[0m\n\u001b[0m\u001b[1;32m     99\u001b[0m         \u001b[0;32mif\u001b[0m \u001b[0mend_node\u001b[0m \u001b[0;32mis\u001b[0m \u001b[0;32mNone\u001b[0m\u001b[0;34m:\u001b[0m\u001b[0;34m\u001b[0m\u001b[0m\n\u001b[1;32m    100\u001b[0m             \u001b[0;32mreturn\u001b[0m \u001b[0mend_value\u001b[0m\u001b[0;34m,\u001b[0m \u001b[0mvspace\u001b[0m\u001b[0;34m(\u001b[0m\u001b[0mend_value\u001b[0m\u001b[0;34m)\u001b[0m\u001b[0;34m.\u001b[0m\u001b[0mzeros\u001b[0m\u001b[0;34m(\u001b[0m\u001b[0;34m)\u001b[0m\u001b[0;34m\u001b[0m\u001b[0m\n",
      "\u001b[0;32m/home/runjing_liu/Documents/BNP/autograd/autograd/tracer.py\u001b[0m in \u001b[0;36mtrace\u001b[0;34m(start_node, fun, x)\u001b[0m\n\u001b[1;32m      8\u001b[0m     \u001b[0;32mwith\u001b[0m \u001b[0mtrace_stack\u001b[0m\u001b[0;34m.\u001b[0m\u001b[0mnew_trace\u001b[0m\u001b[0;34m(\u001b[0m\u001b[0;34m)\u001b[0m \u001b[0;32mas\u001b[0m \u001b[0mt\u001b[0m\u001b[0;34m:\u001b[0m\u001b[0;34m\u001b[0m\u001b[0m\n\u001b[1;32m      9\u001b[0m         \u001b[0mstart_box\u001b[0m \u001b[0;34m=\u001b[0m \u001b[0mnew_box\u001b[0m\u001b[0;34m(\u001b[0m\u001b[0mx\u001b[0m\u001b[0;34m,\u001b[0m \u001b[0mt\u001b[0m\u001b[0;34m,\u001b[0m \u001b[0mstart_node\u001b[0m\u001b[0;34m)\u001b[0m\u001b[0;34m\u001b[0m\u001b[0m\n\u001b[0;32m---> 10\u001b[0;31m         \u001b[0mend_box\u001b[0m \u001b[0;34m=\u001b[0m \u001b[0mfun\u001b[0m\u001b[0;34m(\u001b[0m\u001b[0mstart_box\u001b[0m\u001b[0;34m)\u001b[0m\u001b[0;34m\u001b[0m\u001b[0m\n\u001b[0m\u001b[1;32m     11\u001b[0m         \u001b[0;32mif\u001b[0m \u001b[0misbox\u001b[0m\u001b[0;34m(\u001b[0m\u001b[0mend_box\u001b[0m\u001b[0;34m)\u001b[0m \u001b[0;32mand\u001b[0m \u001b[0mend_box\u001b[0m\u001b[0;34m.\u001b[0m\u001b[0m_trace\u001b[0m \u001b[0;34m==\u001b[0m \u001b[0mstart_box\u001b[0m\u001b[0;34m.\u001b[0m\u001b[0m_trace\u001b[0m\u001b[0;34m:\u001b[0m\u001b[0;34m\u001b[0m\u001b[0m\n\u001b[1;32m     12\u001b[0m             \u001b[0;32mreturn\u001b[0m \u001b[0mend_box\u001b[0m\u001b[0;34m.\u001b[0m\u001b[0m_value\u001b[0m\u001b[0;34m,\u001b[0m \u001b[0mend_box\u001b[0m\u001b[0;34m.\u001b[0m\u001b[0m_node\u001b[0m\u001b[0;34m\u001b[0m\u001b[0m\n",
      "\u001b[0;32m/home/runjing_liu/Documents/BNP/autograd/autograd/wrap_util.py\u001b[0m in \u001b[0;36munary_f\u001b[0;34m(x)\u001b[0m\n\u001b[1;32m     13\u001b[0m                 \u001b[0;32melse\u001b[0m\u001b[0;34m:\u001b[0m\u001b[0;34m\u001b[0m\u001b[0m\n\u001b[1;32m     14\u001b[0m                     \u001b[0msubargs\u001b[0m \u001b[0;34m=\u001b[0m \u001b[0msubvals\u001b[0m\u001b[0;34m(\u001b[0m\u001b[0margs\u001b[0m\u001b[0;34m,\u001b[0m \u001b[0mzip\u001b[0m\u001b[0;34m(\u001b[0m\u001b[0margnum\u001b[0m\u001b[0;34m,\u001b[0m \u001b[0mx\u001b[0m\u001b[0;34m)\u001b[0m\u001b[0;34m)\u001b[0m\u001b[0;34m\u001b[0m\u001b[0m\n\u001b[0;32m---> 15\u001b[0;31m                 \u001b[0;32mreturn\u001b[0m \u001b[0mfun\u001b[0m\u001b[0;34m(\u001b[0m\u001b[0;34m*\u001b[0m\u001b[0msubargs\u001b[0m\u001b[0;34m,\u001b[0m \u001b[0;34m**\u001b[0m\u001b[0mkwargs\u001b[0m\u001b[0;34m)\u001b[0m\u001b[0;34m\u001b[0m\u001b[0m\n\u001b[0m\u001b[1;32m     16\u001b[0m             \u001b[0;32mif\u001b[0m \u001b[0misinstance\u001b[0m\u001b[0;34m(\u001b[0m\u001b[0margnum\u001b[0m\u001b[0;34m,\u001b[0m \u001b[0mint\u001b[0m\u001b[0;34m)\u001b[0m\u001b[0;34m:\u001b[0m\u001b[0;34m\u001b[0m\u001b[0m\n\u001b[1;32m     17\u001b[0m                 \u001b[0mx\u001b[0m \u001b[0;34m=\u001b[0m \u001b[0margs\u001b[0m\u001b[0;34m[\u001b[0m\u001b[0margnum\u001b[0m\u001b[0;34m]\u001b[0m\u001b[0;34m\u001b[0m\u001b[0m\n",
      "\u001b[0;32m/home/runjing_liu/Documents/BNP/LinearResponseVariationalBayes.py/LinearResponseVariationalBayes/ModelSensitivity.py\u001b[0m in \u001b[0;36mobjective_gradient\u001b[0;34m(self, input_val, hyper_val, *argv, **argk)\u001b[0m\n\u001b[1;32m    431\u001b[0m         return self.joint_objective.fun_grad1(\n\u001b[1;32m    432\u001b[0m             \u001b[0minput_val\u001b[0m\u001b[0;34m,\u001b[0m \u001b[0mhyper_val\u001b[0m\u001b[0;34m,\u001b[0m \u001b[0mself\u001b[0m\u001b[0;34m.\u001b[0m\u001b[0minput_is_free\u001b[0m\u001b[0;34m,\u001b[0m \u001b[0mself\u001b[0m\u001b[0;34m.\u001b[0m\u001b[0mhyper_is_free\u001b[0m\u001b[0;34m,\u001b[0m\u001b[0;34m\u001b[0m\u001b[0m\n\u001b[0;32m--> 433\u001b[0;31m             *argv, **argk)\n\u001b[0m\u001b[1;32m    434\u001b[0m \u001b[0;34m\u001b[0m\u001b[0m\n\u001b[1;32m    435\u001b[0m     \u001b[0;31m# Get a function returning the next derivative from the Taylor terms dterms.\u001b[0m\u001b[0;34m\u001b[0m\u001b[0;34m\u001b[0m\u001b[0m\n",
      "\u001b[0;32m/home/runjing_liu/Documents/BNP/LinearResponseVariationalBayes.py/LinearResponseVariationalBayes/SparseObjectives.py\u001b[0m in \u001b[0;36mfun_grad1\u001b[0;34m(self, val1, val2, val1_is_free, val2_is_free, *argv, **argk)\u001b[0m\n\u001b[1;32m    377\u001b[0m             \u001b[0mval1\u001b[0m\u001b[0;34m,\u001b[0m \u001b[0mval2\u001b[0m\u001b[0;34m,\u001b[0m\u001b[0;34m\u001b[0m\u001b[0m\n\u001b[1;32m    378\u001b[0m             \u001b[0mval1_is_free\u001b[0m\u001b[0;34m,\u001b[0m \u001b[0mval2_is_free\u001b[0m\u001b[0;34m,\u001b[0m\u001b[0;34m\u001b[0m\u001b[0m\n\u001b[0;32m--> 379\u001b[0;31m             *argv, **argk)\n\u001b[0m\u001b[1;32m    380\u001b[0m \u001b[0;34m\u001b[0m\u001b[0m\n\u001b[1;32m    381\u001b[0m     def fun_grad2(\n",
      "\u001b[0;32m/home/runjing_liu/Documents/BNP/LinearResponseVariationalBayes.py/LinearResponseVariationalBayes/SparseObjectives.py\u001b[0m in \u001b[0;36mcache_and_eval\u001b[0;34m(self, autograd_fun, val1, val2, val1_is_free, val2_is_free, *argv, **argk)\u001b[0m\n\u001b[1;32m    344\u001b[0m \u001b[0;34m\u001b[0m\u001b[0m\n\u001b[1;32m    345\u001b[0m         result = autograd_fun(\n\u001b[0;32m--> 346\u001b[0;31m             val1, val2, val1_is_free, val2_is_free, *argv, **argk)\n\u001b[0m\u001b[1;32m    347\u001b[0m \u001b[0;34m\u001b[0m\u001b[0m\n\u001b[1;32m    348\u001b[0m         \u001b[0mset_par\u001b[0m\u001b[0;34m(\u001b[0m\u001b[0mself\u001b[0m\u001b[0;34m.\u001b[0m\u001b[0mpar1\u001b[0m\u001b[0;34m,\u001b[0m \u001b[0mval1\u001b[0m\u001b[0;34m,\u001b[0m \u001b[0mval1_is_free\u001b[0m\u001b[0;34m)\u001b[0m\u001b[0;34m\u001b[0m\u001b[0m\n",
      "\u001b[0;32m/home/runjing_liu/Documents/BNP/autograd/autograd/wrap_util.py\u001b[0m in \u001b[0;36mnary_f\u001b[0;34m(*args, **kwargs)\u001b[0m\n\u001b[1;32m     18\u001b[0m             \u001b[0;32melse\u001b[0m\u001b[0;34m:\u001b[0m\u001b[0;34m\u001b[0m\u001b[0m\n\u001b[1;32m     19\u001b[0m                 \u001b[0mx\u001b[0m \u001b[0;34m=\u001b[0m \u001b[0mtuple\u001b[0m\u001b[0;34m(\u001b[0m\u001b[0margs\u001b[0m\u001b[0;34m[\u001b[0m\u001b[0mi\u001b[0m\u001b[0;34m]\u001b[0m \u001b[0;32mfor\u001b[0m \u001b[0mi\u001b[0m \u001b[0;32min\u001b[0m \u001b[0margnum\u001b[0m\u001b[0;34m)\u001b[0m\u001b[0;34m\u001b[0m\u001b[0m\n\u001b[0;32m---> 20\u001b[0;31m             \u001b[0;32mreturn\u001b[0m \u001b[0munary_operator\u001b[0m\u001b[0;34m(\u001b[0m\u001b[0munary_f\u001b[0m\u001b[0;34m,\u001b[0m \u001b[0mx\u001b[0m\u001b[0;34m,\u001b[0m \u001b[0;34m*\u001b[0m\u001b[0mnary_op_args\u001b[0m\u001b[0;34m,\u001b[0m \u001b[0;34m**\u001b[0m\u001b[0mnary_op_kwargs\u001b[0m\u001b[0;34m)\u001b[0m\u001b[0;34m\u001b[0m\u001b[0m\n\u001b[0m\u001b[1;32m     21\u001b[0m         \u001b[0;32mreturn\u001b[0m \u001b[0mnary_f\u001b[0m\u001b[0;34m\u001b[0m\u001b[0m\n\u001b[1;32m     22\u001b[0m     \u001b[0;32mreturn\u001b[0m \u001b[0mnary_operator\u001b[0m\u001b[0;34m\u001b[0m\u001b[0m\n",
      "\u001b[0;32m/home/runjing_liu/Documents/BNP/autograd/autograd/differential_operators.py\u001b[0m in \u001b[0;36mgrad\u001b[0;34m(fun, x)\u001b[0m\n\u001b[1;32m     23\u001b[0m     \u001b[0marguments\u001b[0m \u001b[0;32mas\u001b[0m\u001b[0;31m \u001b[0m\u001b[0;31m`\u001b[0m\u001b[0mfun\u001b[0m\u001b[0;31m`\u001b[0m\u001b[0;34m,\u001b[0m \u001b[0mbut\u001b[0m \u001b[0mreturns\u001b[0m \u001b[0mthe\u001b[0m \u001b[0mgradient\u001b[0m \u001b[0minstead\u001b[0m\u001b[0;34m.\u001b[0m \u001b[0mThe\u001b[0m \u001b[0mfunction\u001b[0m\u001b[0;31m \u001b[0m\u001b[0;31m`\u001b[0m\u001b[0mfun\u001b[0m\u001b[0;31m`\u001b[0m\u001b[0;34m\u001b[0m\u001b[0m\n\u001b[1;32m     24\u001b[0m     should be scalar-valued. The gradient has the same type as the argument.\"\"\"\n\u001b[0;32m---> 25\u001b[0;31m     \u001b[0mvjp\u001b[0m\u001b[0;34m,\u001b[0m \u001b[0mans\u001b[0m \u001b[0;34m=\u001b[0m \u001b[0m_make_vjp\u001b[0m\u001b[0;34m(\u001b[0m\u001b[0mfun\u001b[0m\u001b[0;34m,\u001b[0m \u001b[0mx\u001b[0m\u001b[0;34m)\u001b[0m\u001b[0;34m\u001b[0m\u001b[0m\n\u001b[0m\u001b[1;32m     26\u001b[0m     \u001b[0;32mif\u001b[0m \u001b[0;32mnot\u001b[0m \u001b[0mvspace\u001b[0m\u001b[0;34m(\u001b[0m\u001b[0mans\u001b[0m\u001b[0;34m)\u001b[0m\u001b[0;34m.\u001b[0m\u001b[0msize\u001b[0m \u001b[0;34m==\u001b[0m \u001b[0;36m1\u001b[0m\u001b[0;34m:\u001b[0m\u001b[0;34m\u001b[0m\u001b[0m\n\u001b[1;32m     27\u001b[0m         raise TypeError(\"Grad only applies to real scalar-output functions. \"\n",
      "\u001b[0;32m/home/runjing_liu/Documents/BNP/autograd/autograd/core.py\u001b[0m in \u001b[0;36mmake_vjp\u001b[0;34m(fun, x)\u001b[0m\n\u001b[1;32m      8\u001b[0m \u001b[0;32mdef\u001b[0m \u001b[0mmake_vjp\u001b[0m\u001b[0;34m(\u001b[0m\u001b[0mfun\u001b[0m\u001b[0;34m,\u001b[0m \u001b[0mx\u001b[0m\u001b[0;34m)\u001b[0m\u001b[0;34m:\u001b[0m\u001b[0;34m\u001b[0m\u001b[0m\n\u001b[1;32m      9\u001b[0m     \u001b[0mstart_node\u001b[0m \u001b[0;34m=\u001b[0m \u001b[0mVJPNode\u001b[0m\u001b[0;34m.\u001b[0m\u001b[0mnew_root\u001b[0m\u001b[0;34m(\u001b[0m\u001b[0;34m)\u001b[0m\u001b[0;34m\u001b[0m\u001b[0m\n\u001b[0;32m---> 10\u001b[0;31m     \u001b[0mend_value\u001b[0m\u001b[0;34m,\u001b[0m \u001b[0mend_node\u001b[0m \u001b[0;34m=\u001b[0m  \u001b[0mtrace\u001b[0m\u001b[0;34m(\u001b[0m\u001b[0mstart_node\u001b[0m\u001b[0;34m,\u001b[0m \u001b[0mfun\u001b[0m\u001b[0;34m,\u001b[0m \u001b[0mx\u001b[0m\u001b[0;34m)\u001b[0m\u001b[0;34m\u001b[0m\u001b[0m\n\u001b[0m\u001b[1;32m     11\u001b[0m     \u001b[0;32mif\u001b[0m \u001b[0mend_node\u001b[0m \u001b[0;32mis\u001b[0m \u001b[0;32mNone\u001b[0m\u001b[0;34m:\u001b[0m\u001b[0;34m\u001b[0m\u001b[0m\n\u001b[1;32m     12\u001b[0m         \u001b[0;32mdef\u001b[0m \u001b[0mvjp\u001b[0m\u001b[0;34m(\u001b[0m\u001b[0mg\u001b[0m\u001b[0;34m)\u001b[0m\u001b[0;34m:\u001b[0m \u001b[0;32mreturn\u001b[0m \u001b[0mvspace\u001b[0m\u001b[0;34m(\u001b[0m\u001b[0mx\u001b[0m\u001b[0;34m)\u001b[0m\u001b[0;34m.\u001b[0m\u001b[0mzeros\u001b[0m\u001b[0;34m(\u001b[0m\u001b[0;34m)\u001b[0m\u001b[0;34m\u001b[0m\u001b[0m\n",
      "\u001b[0;32m/home/runjing_liu/Documents/BNP/autograd/autograd/tracer.py\u001b[0m in \u001b[0;36mtrace\u001b[0;34m(start_node, fun, x)\u001b[0m\n\u001b[1;32m      8\u001b[0m     \u001b[0;32mwith\u001b[0m \u001b[0mtrace_stack\u001b[0m\u001b[0;34m.\u001b[0m\u001b[0mnew_trace\u001b[0m\u001b[0;34m(\u001b[0m\u001b[0;34m)\u001b[0m \u001b[0;32mas\u001b[0m \u001b[0mt\u001b[0m\u001b[0;34m:\u001b[0m\u001b[0;34m\u001b[0m\u001b[0m\n\u001b[1;32m      9\u001b[0m         \u001b[0mstart_box\u001b[0m \u001b[0;34m=\u001b[0m \u001b[0mnew_box\u001b[0m\u001b[0;34m(\u001b[0m\u001b[0mx\u001b[0m\u001b[0;34m,\u001b[0m \u001b[0mt\u001b[0m\u001b[0;34m,\u001b[0m \u001b[0mstart_node\u001b[0m\u001b[0;34m)\u001b[0m\u001b[0;34m\u001b[0m\u001b[0m\n\u001b[0;32m---> 10\u001b[0;31m         \u001b[0mend_box\u001b[0m \u001b[0;34m=\u001b[0m \u001b[0mfun\u001b[0m\u001b[0;34m(\u001b[0m\u001b[0mstart_box\u001b[0m\u001b[0;34m)\u001b[0m\u001b[0;34m\u001b[0m\u001b[0m\n\u001b[0m\u001b[1;32m     11\u001b[0m         \u001b[0;32mif\u001b[0m \u001b[0misbox\u001b[0m\u001b[0;34m(\u001b[0m\u001b[0mend_box\u001b[0m\u001b[0;34m)\u001b[0m \u001b[0;32mand\u001b[0m \u001b[0mend_box\u001b[0m\u001b[0;34m.\u001b[0m\u001b[0m_trace\u001b[0m \u001b[0;34m==\u001b[0m \u001b[0mstart_box\u001b[0m\u001b[0;34m.\u001b[0m\u001b[0m_trace\u001b[0m\u001b[0;34m:\u001b[0m\u001b[0;34m\u001b[0m\u001b[0m\n\u001b[1;32m     12\u001b[0m             \u001b[0;32mreturn\u001b[0m \u001b[0mend_box\u001b[0m\u001b[0;34m.\u001b[0m\u001b[0m_value\u001b[0m\u001b[0;34m,\u001b[0m \u001b[0mend_box\u001b[0m\u001b[0;34m.\u001b[0m\u001b[0m_node\u001b[0m\u001b[0;34m\u001b[0m\u001b[0m\n",
      "\u001b[0;32m/home/runjing_liu/Documents/BNP/autograd/autograd/wrap_util.py\u001b[0m in \u001b[0;36munary_f\u001b[0;34m(x)\u001b[0m\n\u001b[1;32m     13\u001b[0m                 \u001b[0;32melse\u001b[0m\u001b[0;34m:\u001b[0m\u001b[0;34m\u001b[0m\u001b[0m\n\u001b[1;32m     14\u001b[0m                     \u001b[0msubargs\u001b[0m \u001b[0;34m=\u001b[0m \u001b[0msubvals\u001b[0m\u001b[0;34m(\u001b[0m\u001b[0margs\u001b[0m\u001b[0;34m,\u001b[0m \u001b[0mzip\u001b[0m\u001b[0;34m(\u001b[0m\u001b[0margnum\u001b[0m\u001b[0;34m,\u001b[0m \u001b[0mx\u001b[0m\u001b[0;34m)\u001b[0m\u001b[0;34m)\u001b[0m\u001b[0;34m\u001b[0m\u001b[0m\n\u001b[0;32m---> 15\u001b[0;31m                 \u001b[0;32mreturn\u001b[0m \u001b[0mfun\u001b[0m\u001b[0;34m(\u001b[0m\u001b[0;34m*\u001b[0m\u001b[0msubargs\u001b[0m\u001b[0;34m,\u001b[0m \u001b[0;34m**\u001b[0m\u001b[0mkwargs\u001b[0m\u001b[0;34m)\u001b[0m\u001b[0;34m\u001b[0m\u001b[0m\n\u001b[0m\u001b[1;32m     16\u001b[0m             \u001b[0;32mif\u001b[0m \u001b[0misinstance\u001b[0m\u001b[0;34m(\u001b[0m\u001b[0margnum\u001b[0m\u001b[0;34m,\u001b[0m \u001b[0mint\u001b[0m\u001b[0;34m)\u001b[0m\u001b[0;34m:\u001b[0m\u001b[0;34m\u001b[0m\u001b[0m\n\u001b[1;32m     17\u001b[0m                 \u001b[0mx\u001b[0m \u001b[0;34m=\u001b[0m \u001b[0margs\u001b[0m\u001b[0;34m[\u001b[0m\u001b[0margnum\u001b[0m\u001b[0;34m]\u001b[0m\u001b[0;34m\u001b[0m\u001b[0m\n",
      "\u001b[0;32m/home/runjing_liu/Documents/BNP/LinearResponseVariationalBayes.py/LinearResponseVariationalBayes/SparseObjectives.py\u001b[0m in \u001b[0;36meval_fun\u001b[0;34m(self, val1, val2, val1_is_free, val2_is_free, *argv, **argk)\u001b[0m\n\u001b[1;32m    357\u001b[0m         \u001b[0mset_par\u001b[0m\u001b[0;34m(\u001b[0m\u001b[0mself\u001b[0m\u001b[0;34m.\u001b[0m\u001b[0mpar1\u001b[0m\u001b[0;34m,\u001b[0m \u001b[0mval1\u001b[0m\u001b[0;34m,\u001b[0m \u001b[0mval1_is_free\u001b[0m\u001b[0;34m)\u001b[0m\u001b[0;34m\u001b[0m\u001b[0m\n\u001b[1;32m    358\u001b[0m         \u001b[0mset_par\u001b[0m\u001b[0;34m(\u001b[0m\u001b[0mself\u001b[0m\u001b[0;34m.\u001b[0m\u001b[0mpar2\u001b[0m\u001b[0;34m,\u001b[0m \u001b[0mval2\u001b[0m\u001b[0;34m,\u001b[0m \u001b[0mval2_is_free\u001b[0m\u001b[0;34m)\u001b[0m\u001b[0;34m\u001b[0m\u001b[0m\n\u001b[0;32m--> 359\u001b[0;31m         \u001b[0;32mreturn\u001b[0m \u001b[0mself\u001b[0m\u001b[0;34m.\u001b[0m\u001b[0mfun\u001b[0m\u001b[0;34m(\u001b[0m\u001b[0;34m*\u001b[0m\u001b[0margv\u001b[0m\u001b[0;34m,\u001b[0m \u001b[0;34m**\u001b[0m\u001b[0margk\u001b[0m\u001b[0;34m)\u001b[0m\u001b[0;34m\u001b[0m\u001b[0m\n\u001b[0m\u001b[1;32m    360\u001b[0m \u001b[0;34m\u001b[0m\u001b[0m\n\u001b[1;32m    361\u001b[0m     \u001b[0;32mdef\u001b[0m \u001b[0mfun_free\u001b[0m\u001b[0;34m(\u001b[0m\u001b[0mself\u001b[0m\u001b[0;34m,\u001b[0m \u001b[0mfree_val1\u001b[0m\u001b[0;34m,\u001b[0m \u001b[0mfree_val2\u001b[0m\u001b[0;34m,\u001b[0m \u001b[0;34m*\u001b[0m\u001b[0margv\u001b[0m\u001b[0;34m,\u001b[0m \u001b[0;34m**\u001b[0m\u001b[0margk\u001b[0m\u001b[0;34m)\u001b[0m\u001b[0;34m:\u001b[0m\u001b[0;34m\u001b[0m\u001b[0m\n",
      "\u001b[0;32m/home/runjing_liu/Documents/BNP/BNP_sensitivity/GMM_clustering/functional_sensitivity_lib.py\u001b[0m in \u001b[0;36mget_e_log_perturbation\u001b[0;34m(self, sum_vector)\u001b[0m\n\u001b[1;32m     56\u001b[0m \u001b[0;34m\u001b[0m\u001b[0m\n\u001b[1;32m     57\u001b[0m         e_perturbation_vec = gmm_utils.get_e_func_logit_stick_vec(\n\u001b[0;32m---> 58\u001b[0;31m             self.model.vb_params, perturbation_fun)\n\u001b[0m\u001b[1;32m     59\u001b[0m \u001b[0;34m\u001b[0m\u001b[0m\n\u001b[1;32m     60\u001b[0m         \u001b[0;32mif\u001b[0m \u001b[0msum_vector\u001b[0m\u001b[0;34m:\u001b[0m\u001b[0;34m\u001b[0m\u001b[0m\n",
      "\u001b[0;32m/home/runjing_liu/Documents/BNP/BNP_sensitivity/GMM_clustering/gmm_clustering_lib.py\u001b[0m in \u001b[0;36mget_e_func_logit_stick_vec\u001b[0;34m(vb_params, func)\u001b[0m\n\u001b[1;32m    175\u001b[0m             \u001b[0mlognorm_means\u001b[0m\u001b[0;34m[\u001b[0m\u001b[0mk\u001b[0m\u001b[0;34m]\u001b[0m\u001b[0;34m,\u001b[0m \u001b[0mlognorm_infos\u001b[0m\u001b[0;34m[\u001b[0m\u001b[0mk\u001b[0m\u001b[0;34m]\u001b[0m\u001b[0;34m,\u001b[0m\u001b[0;31m \u001b[0m\u001b[0;31m\\\u001b[0m\u001b[0;34m\u001b[0m\u001b[0m\n\u001b[1;32m    176\u001b[0m             gh_loc, gh_weights, func)\n\u001b[0;32m--> 177\u001b[0;31m         \u001b[0;32mfor\u001b[0m \u001b[0mk\u001b[0m \u001b[0;32min\u001b[0m \u001b[0mrange\u001b[0m\u001b[0;34m(\u001b[0m\u001b[0mlen\u001b[0m\u001b[0;34m(\u001b[0m\u001b[0mlognorm_means\u001b[0m\u001b[0;34m)\u001b[0m\u001b[0;34m)\u001b[0m\u001b[0;34m\u001b[0m\u001b[0m\n\u001b[0m\u001b[1;32m    178\u001b[0m     ])\n\u001b[1;32m    179\u001b[0m \u001b[0;34m\u001b[0m\u001b[0m\n",
      "\u001b[0;32m/home/runjing_liu/Documents/BNP/BNP_sensitivity/GMM_clustering/gmm_clustering_lib.py\u001b[0m in \u001b[0;36m<listcomp>\u001b[0;34m(.0)\u001b[0m\n\u001b[1;32m    175\u001b[0m             \u001b[0mlognorm_means\u001b[0m\u001b[0;34m[\u001b[0m\u001b[0mk\u001b[0m\u001b[0;34m]\u001b[0m\u001b[0;34m,\u001b[0m \u001b[0mlognorm_infos\u001b[0m\u001b[0;34m[\u001b[0m\u001b[0mk\u001b[0m\u001b[0;34m]\u001b[0m\u001b[0;34m,\u001b[0m\u001b[0;31m \u001b[0m\u001b[0;31m\\\u001b[0m\u001b[0;34m\u001b[0m\u001b[0m\n\u001b[1;32m    176\u001b[0m             gh_loc, gh_weights, func)\n\u001b[0;32m--> 177\u001b[0;31m         \u001b[0;32mfor\u001b[0m \u001b[0mk\u001b[0m \u001b[0;32min\u001b[0m \u001b[0mrange\u001b[0m\u001b[0;34m(\u001b[0m\u001b[0mlen\u001b[0m\u001b[0;34m(\u001b[0m\u001b[0mlognorm_means\u001b[0m\u001b[0;34m)\u001b[0m\u001b[0;34m)\u001b[0m\u001b[0;34m\u001b[0m\u001b[0m\n\u001b[0m\u001b[1;32m    178\u001b[0m     ])\n\u001b[1;32m    179\u001b[0m \u001b[0;34m\u001b[0m\u001b[0m\n",
      "\u001b[0;32m/home/runjing_liu/Documents/BNP/LinearResponseVariationalBayes.py/LinearResponseVariationalBayes/ExponentialFamilies.py\u001b[0m in \u001b[0;36mget_e_fun_normal\u001b[0;34m(means, infos, gh_loc, gh_weights, fun)\u001b[0m\n\u001b[1;32m    139\u001b[0m                 \u001b[0mnp\u001b[0m\u001b[0;34m.\u001b[0m\u001b[0mexpand_dims\u001b[0m\u001b[0;34m(\u001b[0m\u001b[0mmeans\u001b[0m\u001b[0;34m,\u001b[0m \u001b[0maxis\u001b[0m \u001b[0;34m=\u001b[0m \u001b[0mdraws_axis\u001b[0m\u001b[0;34m)\u001b[0m\u001b[0;34m\u001b[0m\u001b[0m\n\u001b[1;32m    140\u001b[0m \u001b[0;34m\u001b[0m\u001b[0m\n\u001b[0;32m--> 141\u001b[0;31m     \u001b[0mintegrand\u001b[0m \u001b[0;34m=\u001b[0m \u001b[0mfun\u001b[0m\u001b[0;34m(\u001b[0m\u001b[0mchange_of_vars\u001b[0m\u001b[0;34m)\u001b[0m\u001b[0;34m\u001b[0m\u001b[0m\n\u001b[0m\u001b[1;32m    142\u001b[0m \u001b[0;34m\u001b[0m\u001b[0m\n\u001b[1;32m    143\u001b[0m     \u001b[0;32mreturn\u001b[0m \u001b[0mnp\u001b[0m\u001b[0;34m.\u001b[0m\u001b[0msum\u001b[0m\u001b[0;34m(\u001b[0m\u001b[0;36m1\u001b[0m\u001b[0;34m/\u001b[0m\u001b[0mnp\u001b[0m\u001b[0;34m.\u001b[0m\u001b[0msqrt\u001b[0m\u001b[0;34m(\u001b[0m\u001b[0mnp\u001b[0m\u001b[0;34m.\u001b[0m\u001b[0mpi\u001b[0m\u001b[0;34m)\u001b[0m \u001b[0;34m*\u001b[0m \u001b[0mgh_weights\u001b[0m \u001b[0;34m*\u001b[0m \u001b[0mintegrand\u001b[0m\u001b[0;34m,\u001b[0m \u001b[0maxis\u001b[0m \u001b[0;34m=\u001b[0m \u001b[0mdraws_axis\u001b[0m\u001b[0;34m)\u001b[0m\u001b[0;34m\u001b[0m\u001b[0m\n",
      "\u001b[0;32m/home/runjing_liu/Documents/BNP/BNP_sensitivity/GMM_clustering/functional_sensitivity_lib.py\u001b[0m in \u001b[0;36m<lambda>\u001b[0;34m(logit_v)\u001b[0m\n\u001b[1;32m     53\u001b[0m         \u001b[0;32melse\u001b[0m\u001b[0;34m:\u001b[0m\u001b[0;34m\u001b[0m\u001b[0m\n\u001b[1;32m     54\u001b[0m             \u001b[0mperturbation_fun\u001b[0m \u001b[0;34m=\u001b[0m\u001b[0;31m \u001b[0m\u001b[0;31m\\\u001b[0m\u001b[0;34m\u001b[0m\u001b[0m\n\u001b[0;32m---> 55\u001b[0;31m                 \u001b[0;32mlambda\u001b[0m \u001b[0mlogit_v\u001b[0m\u001b[0;34m:\u001b[0m \u001b[0mself\u001b[0m\u001b[0;34m.\u001b[0m\u001b[0mlog_phi\u001b[0m\u001b[0;34m(\u001b[0m\u001b[0mlogit_v\u001b[0m\u001b[0;34m)\u001b[0m \u001b[0;34m*\u001b[0m \u001b[0mself\u001b[0m\u001b[0;34m.\u001b[0m\u001b[0mepsilon_param\u001b[0m\u001b[0;34m.\u001b[0m\u001b[0mget\u001b[0m\u001b[0;34m(\u001b[0m\u001b[0;34m)\u001b[0m\u001b[0;34m\u001b[0m\u001b[0m\n\u001b[0m\u001b[1;32m     56\u001b[0m \u001b[0;34m\u001b[0m\u001b[0m\n\u001b[1;32m     57\u001b[0m         e_perturbation_vec = gmm_utils.get_e_func_logit_stick_vec(\n",
      "\u001b[0;32m<ipython-input-8-9218675472a1>\u001b[0m in \u001b[0;36mrescaled_log_phi\u001b[0;34m(logit_v)\u001b[0m\n\u001b[1;32m      8\u001b[0m \u001b[0;34m\u001b[0m\u001b[0m\n\u001b[1;32m      9\u001b[0m \u001b[0;32mdef\u001b[0m \u001b[0mrescaled_log_phi\u001b[0m\u001b[0;34m(\u001b[0m\u001b[0mlogit_v\u001b[0m\u001b[0;34m)\u001b[0m\u001b[0;34m:\u001b[0m\u001b[0;34m\u001b[0m\u001b[0m\n\u001b[0;32m---> 10\u001b[0;31m     \u001b[0;32mreturn\u001b[0m \u001b[0;36m10\u001b[0m \u001b[0;34m*\u001b[0m \u001b[0mlog_phi\u001b[0m\u001b[0;34m(\u001b[0m\u001b[0mlogit_v\u001b[0m\u001b[0;34m)\u001b[0m \u001b[0;34m/\u001b[0m \u001b[0mlog_phi_max\u001b[0m\u001b[0;34m\u001b[0m\u001b[0m\n\u001b[0m",
      "\u001b[0;32m<ipython-input-7-d0de839c2861>\u001b[0m in \u001b[0;36mlog_phi\u001b[0;34m(logit_v)\u001b[0m\n\u001b[1;32m     15\u001b[0m \u001b[0;34m\u001b[0m\u001b[0m\n\u001b[1;32m     16\u001b[0m \u001b[0;32mdef\u001b[0m \u001b[0mlog_phi\u001b[0m\u001b[0;34m(\u001b[0m\u001b[0mlogit_v\u001b[0m\u001b[0;34m)\u001b[0m\u001b[0;34m:\u001b[0m\u001b[0;34m\u001b[0m\u001b[0m\n\u001b[0;32m---> 17\u001b[0;31m     \u001b[0;32mreturn\u001b[0m\u001b[0;34m(\u001b[0m\u001b[0msp\u001b[0m\u001b[0;34m.\u001b[0m\u001b[0mspecial\u001b[0m\u001b[0;34m.\u001b[0m\u001b[0mexpit\u001b[0m\u001b[0;34m(\u001b[0m\u001b[0mlogit_v\u001b[0m\u001b[0;34m)\u001b[0m\u001b[0;34m)\u001b[0m\u001b[0;34m\u001b[0m\u001b[0m\n\u001b[0m\u001b[1;32m     18\u001b[0m \u001b[0;34m\u001b[0m\u001b[0m\n\u001b[1;32m     19\u001b[0m \u001b[0;32mdef\u001b[0m \u001b[0mphi\u001b[0m\u001b[0;34m(\u001b[0m\u001b[0mlogit_v\u001b[0m\u001b[0;34m)\u001b[0m\u001b[0;34m:\u001b[0m\u001b[0;34m\u001b[0m\u001b[0m\n",
      "\u001b[0;32m/home/runjing_liu/Documents/BNP/autograd/autograd/tracer.py\u001b[0m in \u001b[0;36mf_wrapped\u001b[0;34m(*args, **kwargs)\u001b[0m\n\u001b[1;32m     42\u001b[0m             \u001b[0mparents\u001b[0m \u001b[0;34m=\u001b[0m \u001b[0mtuple\u001b[0m\u001b[0;34m(\u001b[0m\u001b[0mbox\u001b[0m\u001b[0;34m.\u001b[0m\u001b[0m_node\u001b[0m \u001b[0;32mfor\u001b[0m \u001b[0m_\u001b[0m     \u001b[0;34m,\u001b[0m \u001b[0mbox\u001b[0m \u001b[0;32min\u001b[0m \u001b[0mboxed_args\u001b[0m\u001b[0;34m)\u001b[0m\u001b[0;34m\u001b[0m\u001b[0m\n\u001b[1;32m     43\u001b[0m             \u001b[0margnums\u001b[0m \u001b[0;34m=\u001b[0m \u001b[0mtuple\u001b[0m\u001b[0;34m(\u001b[0m\u001b[0margnum\u001b[0m    \u001b[0;32mfor\u001b[0m \u001b[0margnum\u001b[0m\u001b[0;34m,\u001b[0m \u001b[0m_\u001b[0m   \u001b[0;32min\u001b[0m \u001b[0mboxed_args\u001b[0m\u001b[0;34m)\u001b[0m\u001b[0;34m\u001b[0m\u001b[0m\n\u001b[0;32m---> 44\u001b[0;31m             \u001b[0mans\u001b[0m \u001b[0;34m=\u001b[0m \u001b[0mf_wrapped\u001b[0m\u001b[0;34m(\u001b[0m\u001b[0;34m*\u001b[0m\u001b[0margvals\u001b[0m\u001b[0;34m,\u001b[0m \u001b[0;34m**\u001b[0m\u001b[0mkwargs\u001b[0m\u001b[0;34m)\u001b[0m\u001b[0;34m\u001b[0m\u001b[0m\n\u001b[0m\u001b[1;32m     45\u001b[0m             \u001b[0mnode\u001b[0m \u001b[0;34m=\u001b[0m \u001b[0mnode_constructor\u001b[0m\u001b[0;34m(\u001b[0m\u001b[0mans\u001b[0m\u001b[0;34m,\u001b[0m \u001b[0mf_wrapped\u001b[0m\u001b[0;34m,\u001b[0m \u001b[0margvals\u001b[0m\u001b[0;34m,\u001b[0m \u001b[0mkwargs\u001b[0m\u001b[0;34m,\u001b[0m \u001b[0margnums\u001b[0m\u001b[0;34m,\u001b[0m \u001b[0mparents\u001b[0m\u001b[0;34m)\u001b[0m\u001b[0;34m\u001b[0m\u001b[0m\n\u001b[1;32m     46\u001b[0m             \u001b[0;32mreturn\u001b[0m \u001b[0mnew_box\u001b[0m\u001b[0;34m(\u001b[0m\u001b[0mans\u001b[0m\u001b[0;34m,\u001b[0m \u001b[0mtrace\u001b[0m\u001b[0;34m,\u001b[0m \u001b[0mnode\u001b[0m\u001b[0;34m)\u001b[0m\u001b[0;34m\u001b[0m\u001b[0m\n",
      "\u001b[0;32m/home/runjing_liu/Documents/BNP/autograd/autograd/tracer.py\u001b[0m in \u001b[0;36mf_wrapped\u001b[0;34m(*args, **kwargs)\u001b[0m\n\u001b[1;32m     43\u001b[0m             \u001b[0margnums\u001b[0m \u001b[0;34m=\u001b[0m \u001b[0mtuple\u001b[0m\u001b[0;34m(\u001b[0m\u001b[0margnum\u001b[0m    \u001b[0;32mfor\u001b[0m \u001b[0margnum\u001b[0m\u001b[0;34m,\u001b[0m \u001b[0m_\u001b[0m   \u001b[0;32min\u001b[0m \u001b[0mboxed_args\u001b[0m\u001b[0;34m)\u001b[0m\u001b[0;34m\u001b[0m\u001b[0m\n\u001b[1;32m     44\u001b[0m             \u001b[0mans\u001b[0m \u001b[0;34m=\u001b[0m \u001b[0mf_wrapped\u001b[0m\u001b[0;34m(\u001b[0m\u001b[0;34m*\u001b[0m\u001b[0margvals\u001b[0m\u001b[0;34m,\u001b[0m \u001b[0;34m**\u001b[0m\u001b[0mkwargs\u001b[0m\u001b[0;34m)\u001b[0m\u001b[0;34m\u001b[0m\u001b[0m\n\u001b[0;32m---> 45\u001b[0;31m             \u001b[0mnode\u001b[0m \u001b[0;34m=\u001b[0m \u001b[0mnode_constructor\u001b[0m\u001b[0;34m(\u001b[0m\u001b[0mans\u001b[0m\u001b[0;34m,\u001b[0m \u001b[0mf_wrapped\u001b[0m\u001b[0;34m,\u001b[0m \u001b[0margvals\u001b[0m\u001b[0;34m,\u001b[0m \u001b[0mkwargs\u001b[0m\u001b[0;34m,\u001b[0m \u001b[0margnums\u001b[0m\u001b[0;34m,\u001b[0m \u001b[0mparents\u001b[0m\u001b[0;34m)\u001b[0m\u001b[0;34m\u001b[0m\u001b[0m\n\u001b[0m\u001b[1;32m     46\u001b[0m             \u001b[0;32mreturn\u001b[0m \u001b[0mnew_box\u001b[0m\u001b[0;34m(\u001b[0m\u001b[0mans\u001b[0m\u001b[0;34m,\u001b[0m \u001b[0mtrace\u001b[0m\u001b[0;34m,\u001b[0m \u001b[0mnode\u001b[0m\u001b[0;34m)\u001b[0m\u001b[0;34m\u001b[0m\u001b[0m\n\u001b[1;32m     47\u001b[0m         \u001b[0;32melse\u001b[0m\u001b[0;34m:\u001b[0m\u001b[0;34m\u001b[0m\u001b[0m\n",
      "\u001b[0;32m/home/runjing_liu/Documents/BNP/autograd/autograd/core.py\u001b[0m in \u001b[0;36m__init__\u001b[0;34m(self, value, fun, args, kwargs, parent_argnums, parents)\u001b[0m\n\u001b[1;32m    112\u001b[0m             \u001b[0mname\u001b[0m \u001b[0;34m=\u001b[0m \u001b[0mgetattr\u001b[0m\u001b[0;34m(\u001b[0m\u001b[0mfun\u001b[0m\u001b[0;34m,\u001b[0m \u001b[0;34m'__name__'\u001b[0m\u001b[0;34m,\u001b[0m \u001b[0mfun\u001b[0m\u001b[0;34m)\u001b[0m\u001b[0;34m\u001b[0m\u001b[0m\n\u001b[1;32m    113\u001b[0m             raise NotImplementedError(\"JVP of {} wrt argnums {} not defined\"\n\u001b[0;32m--> 114\u001b[0;31m                                       .format(name, parent_argnums))\n\u001b[0m\u001b[1;32m    115\u001b[0m         \u001b[0mself\u001b[0m\u001b[0;34m.\u001b[0m\u001b[0mg\u001b[0m \u001b[0;34m=\u001b[0m \u001b[0mjvpmaker\u001b[0m\u001b[0;34m(\u001b[0m\u001b[0mparent_argnums\u001b[0m\u001b[0;34m,\u001b[0m \u001b[0mparent_gs\u001b[0m\u001b[0;34m,\u001b[0m \u001b[0mvalue\u001b[0m\u001b[0;34m,\u001b[0m \u001b[0margs\u001b[0m\u001b[0;34m,\u001b[0m \u001b[0mkwargs\u001b[0m\u001b[0;34m)\u001b[0m\u001b[0;34m\u001b[0m\u001b[0m\n\u001b[1;32m    116\u001b[0m \u001b[0;34m\u001b[0m\u001b[0m\n",
      "\u001b[0;31mNotImplementedError\u001b[0m: JVP of expit wrt argnums (0,) not defined"
     ]
    }
   ],
   "source": [
    "epsilon = 1.0 # prior_perturbation.epsilon_param.get()\n",
    "print('Epsilon: ', epsilon)\n",
    "\n",
    "# best_param_phi_pred = \\\n",
    "#     epsilon_sensitivity.predict_input_par_from_hyperparameters(epsilon)\n",
    "best_param_phi_pred = \\\n",
    "    epsilon_sensitivity.evaluate_taylor_series(epsilon, 1)\n",
    "\n",
    "print('Predicted differences: ', np.linalg.norm(best_param_phi_pred - best_param_0))"
   ]
  },
  {
   "cell_type": "code",
   "execution_count": 27,
   "metadata": {
    "collapsed": false,
    "scrolled": false
   },
   "outputs": [
    {
     "name": "stdout",
     "output_type": "stream",
     "text": [
      "epsilon: 1.0\n",
      "Iter  0  value:  -402.8133563138003\n",
      "Optimization terminated successfully.\n",
      "         Current function value: -404.768417\n",
      "         Iterations: 8\n",
      "         Function evaluations: 9\n",
      "         Gradient evaluations: 9\n",
      "         Hessian evaluations: 0\n",
      "Optimization terminated successfully.\n",
      "         Current function value: -404.768417\n",
      "         Iterations: 0\n",
      "         Function evaluations: 1\n",
      "         Gradient evaluations: 1\n",
      "         Hessian evaluations: 0\n",
      "Done. Converged:  True\n",
      "This is nonzero if phi did anything: 8.237861904625534\n"
     ]
    }
   ],
   "source": [
    "# Then fit with the perturbation.\n",
    "prior_perturbation.set_epsilon(epsilon)\n",
    "print(prior_perturbation.epsilon_param)\n",
    "\n",
    "\n",
    "best_param_phi, converged, x_conv, f_conv, grad_conv, obj_opt, opt_results = \\\n",
    "    opt_lib.repeatedly_optimize(\n",
    "        objective=prior_perturbation.objective,\n",
    "        optimization_fun=\n",
    "            lambda x: gmm_utils.precondition_and_optimize(\n",
    "                prior_perturbation.objective, x),\n",
    "        init_x=best_param_phi_pred,\n",
    "        initial_optimization_fun=None,\n",
    "        keep_intermediate_optimizations=True)\n",
    "\n",
    "# output_phi = moment_model.set_and_get_moments_from_free_par(best_param_phi)\n",
    "# output_0 = moment_model.set_and_get_moments_from_free_par(best_param_0)\n",
    "\n",
    "print('Done. Converged: ', converged)\n",
    "\n",
    "print('This is nonzero if phi did anything:', np.linalg.norm(best_param_phi - best_param_0))"
   ]
  },
  {
   "cell_type": "code",
   "execution_count": 28,
   "metadata": {
    "collapsed": false
   },
   "outputs": [
    {
     "name": "stdout",
     "output_type": "stream",
     "text": [
      "Epsilon: 1.0\n"
     ]
    },
    {
     "data": {
      "text/plain": [
       "[<matplotlib.lines.Line2D at 0x7ffa28be0390>]"
      ]
     },
     "execution_count": 28,
     "metadata": {},
     "output_type": "execute_result"
    },
    {
     "data": {
      "image/png": "[encoded data removed]",
      "text/plain": [
       "<matplotlib.figure.Figure at 0x7ffa2c1f0780>"
      ]
     },
     "metadata": {},
     "output_type": "display_data"
    }
   ],
   "source": [
    "print('Epsilon:', epsilon)\n",
    "\n",
    "plt.figure()\n",
    "plt.subplot(1, 2, 1)\n",
    "plt.plot(best_param_phi - best_param_0, best_param_phi_pred - best_param_0, 'k.')\n",
    "plt.plot(best_param_phi - best_param_0, best_param_phi - best_param_0, 'r')\n",
    "\n",
    "# plt.subplot(1, 2, 2)\n",
    "# plt.plot(output_phi - output_0, output_phi_pred - output_0, 'k.')\n",
    "# plt.plot(output_phi - output_0, output_phi - output_0, 'r')"
   ]
  },
  {
   "cell_type": "code",
   "execution_count": 29,
   "metadata": {
    "collapsed": false
   },
   "outputs": [
    {
     "name": "stdout",
     "output_type": "stream",
     "text": [
      "original expected number of clusters:  11.004715673911797\n",
      "perturbed expected number of clusters:  8.422602070700913\n",
      "predicted expected number of clusters:  8.218380958348769\n"
     ]
    }
   ],
   "source": [
    "print('original expected number of clusters: ',\n",
    "      gmm_utils.get_e_num_pred_clusters_from_free_par(best_param_0, model))\n",
    "\n",
    "print('perturbed expected number of clusters: ',\n",
    "      gmm_utils.get_e_num_pred_clusters_from_free_par(best_param_phi, model))\n",
    "\n",
    "print('predicted expected number of clusters: ',\n",
    "      gmm_utils.get_e_num_pred_clusters_from_free_par(best_param_phi_pred, model))"
   ]
  },
  {
   "cell_type": "code",
   "execution_count": 30,
   "metadata": {
    "collapsed": true
   },
   "outputs": [],
   "source": [
    "def get_stick_result(free_par, model):\n",
    "    model.global_vb_params.set_free(free_par)\n",
    "    return np.vstack(\n",
    "        [1 / np.sqrt(model.global_vb_params['v_sticks']['info'].get()), \\\n",
    "         model.global_vb_params['v_sticks']['mean'].get() ])\n"
   ]
  },
  {
   "cell_type": "code",
   "execution_count": 31,
   "metadata": {
    "collapsed": false
   },
   "outputs": [],
   "source": [
    "og_stick_means = get_stick_result(best_param_0, model)[0]\n",
    "pert_stick_means = get_stick_result(best_param_phi, model)[0]\n",
    "lr_stick_means = get_stick_result(best_param_phi_pred, model)[0]"
   ]
  },
  {
   "cell_type": "code",
   "execution_count": 32,
   "metadata": {
    "collapsed": false
   },
   "outputs": [
    {
     "data": {
      "text/plain": [
       "[<matplotlib.lines.Line2D at 0x7ffa28af5f28>]"
      ]
     },
     "execution_count": 32,
     "metadata": {},
     "output_type": "execute_result"
    },
    {
     "data": {
      "image/png": "[encoded data removed]",
      "text/plain": [
       "<matplotlib.figure.Figure at 0x7ffa28af56d8>"
      ]
     },
     "metadata": {},
     "output_type": "display_data"
    }
   ],
   "source": [
    "plt.plot(lr_stick_means - og_stick_means, pert_stick_means - og_stick_means, '+')\n",
    "plt.plot(lr_stick_means - og_stick_means, lr_stick_means - og_stick_means, '-')\n"
   ]
  },
  {
   "cell_type": "code",
   "execution_count": 33,
   "metadata": {
    "collapsed": true
   },
   "outputs": [],
   "source": [
    "og_stick_vars = get_stick_result(best_param_0, model)[1]\n",
    "pert_stick_vars = get_stick_result(best_param_phi, model)[1]\n",
    "lr_stick_vars = get_stick_result(best_param_phi_pred, model)[1]"
   ]
  },
  {
   "cell_type": "code",
   "execution_count": 34,
   "metadata": {
    "collapsed": false
   },
   "outputs": [
    {
     "data": {
      "text/plain": [
       "[<matplotlib.lines.Line2D at 0x7ffa2be5a1d0>]"
      ]
     },
     "execution_count": 34,
     "metadata": {},
     "output_type": "execute_result"
    },
    {
     "data": {
      "image/png": "[encoded data removed]",
      "text/plain": [
       "<matplotlib.figure.Figure at 0x7ffa2be5ae48>"
      ]
     },
     "metadata": {},
     "output_type": "display_data"
    }
   ],
   "source": [
    "plt.plot(lr_stick_vars, pert_stick_vars, '+')\n",
    "plt.plot(lr_stick_vars, lr_stick_vars, '-')"
   ]
  },
  {
   "cell_type": "markdown",
   "metadata": {
    "collapsed": true
   },
   "source": [
    "# Predict for a range of perturbations"
   ]
  },
  {
   "cell_type": "code",
   "execution_count": 35,
   "metadata": {
    "collapsed": false
   },
   "outputs": [
    {
     "name": "stdout",
     "output_type": "stream",
     "text": [
      "[0.   0.01 0.04 0.09 0.16 0.25 0.36 0.49 0.64 0.81 1.  ]\n"
     ]
    }
   ],
   "source": [
    "#epsilon_vec = np.append(np.linspace(0, 0.1, 6), np.linspace(0.2, 1.0, 6))\n",
    "epsilon_vec = np.linspace(0, 1, 11) ** 2 # Square to get more points close to 0\n",
    "# epsilon_vec = -np.linspace(0, 10, 11)\n",
    "print(epsilon_vec)"
   ]
  },
  {
   "cell_type": "code",
   "execution_count": 36,
   "metadata": {
    "collapsed": false,
    "scrolled": false
   },
   "outputs": [
    {
     "name": "stdout",
     "output_type": "stream",
     "text": [
      "\n",
      "\n",
      "Epsilon:  0.0\n",
      "Predicted differences:  0.0\n",
      "epsilon: 0.0\n",
      "Optimization terminated successfully.\n",
      "Iter  0  value:  -337.20754826806717\n",
      "         Current function value: -337.207548\n",
      "         Iterations: 0\n",
      "         Function evaluations: 1\n",
      "         Gradient evaluations: 1\n",
      "         Hessian evaluations: 0\n",
      "Done. Converged:  True\n",
      "Predicted differences:  0.0\n",
      "Actual differences: (This is nonzero if phi did anything): 1.2654753550255434e-14\n",
      "\n",
      "\n",
      "Epsilon:  0.010000000000000002\n",
      "Predicted differences:  0.06189662874977398\n",
      "epsilon: 0.010000000000000002\n",
      "Iter  0  value:  -337.6733881702504\n",
      "Optimization terminated successfully.\n",
      "         Current function value: -337.673388\n",
      "         Iterations: 1\n",
      "         Function evaluations: 2\n",
      "         Gradient evaluations: 2\n",
      "         Hessian evaluations: 0\n",
      "Optimization terminated successfully.\n",
      "         Current function value: -337.673388\n",
      "         Iterations: 0\n",
      "         Function evaluations: 1\n",
      "         Gradient evaluations: 1\n",
      "         Hessian evaluations: 0\n",
      "Done. Converged:  True\n",
      "Predicted differences:  0.06189662874977398\n",
      "Actual differences: (This is nonzero if phi did anything): 0.0621032603940128\n",
      "\n",
      "\n",
      "Epsilon:  0.04000000000000001\n",
      "Predicted differences:  0.2475865149990956\n",
      "epsilon: 0.04000000000000001\n",
      "Iter  0  value:  -339.0878506033736\n",
      "Optimization terminated successfully.\n",
      "         Current function value: -339.087857\n",
      "         Iterations: 3\n",
      "         Function evaluations: 4\n",
      "         Gradient evaluations: 4\n",
      "         Hessian evaluations: 0\n",
      "Optimization terminated successfully.\n",
      "         Current function value: -339.087857\n",
      "         Iterations: 0\n",
      "         Function evaluations: 1\n",
      "         Gradient evaluations: 1\n",
      "         Hessian evaluations: 0\n",
      "Done. Converged:  True\n",
      "Predicted differences:  0.2475865149990956\n",
      "Actual differences: (This is nonzero if phi did anything): 0.25096209645064504\n",
      "\n",
      "\n",
      "Epsilon:  0.09000000000000002\n",
      "Predicted differences:  0.5570696587479649\n",
      "epsilon: 0.09000000000000002\n",
      "Iter  0  value:  -341.50359446878633\n",
      "Optimization terminated successfully.\n",
      "         Current function value: -341.503751\n",
      "         Iterations: 3\n",
      "         Function evaluations: 4\n",
      "         Gradient evaluations: 4\n",
      "         Hessian evaluations: 0\n",
      "Optimization terminated successfully.\n",
      "         Current function value: -341.503751\n",
      "         Iterations: 0\n",
      "         Function evaluations: 1\n",
      "         Gradient evaluations: 1\n",
      "         Hessian evaluations: 0\n",
      "Done. Converged:  True\n",
      "Predicted differences:  0.5570696587479649\n",
      "Actual differences: (This is nonzero if phi did anything): 0.5750745110923065\n",
      "\n",
      "\n",
      "Epsilon:  0.16000000000000003\n",
      "Predicted differences:  0.9903460599963817\n",
      "epsilon: 0.16000000000000003\n",
      "Iter  0  value:  -345.0144917894911\n",
      "Optimization terminated successfully.\n",
      "         Current function value: -345.016053\n",
      "         Iterations: 4\n",
      "         Function evaluations: 5\n",
      "         Gradient evaluations: 5\n",
      "         Hessian evaluations: 0\n",
      "Optimization terminated successfully.\n",
      "         Current function value: -345.016053\n",
      "         Iterations: 0\n",
      "         Function evaluations: 1\n",
      "         Gradient evaluations: 1\n",
      "         Hessian evaluations: 0\n",
      "Done. Converged:  True\n",
      "Predicted differences:  0.9903460599963817\n",
      "Actual differences: (This is nonzero if phi did anything): 1.0529848050944703\n",
      "\n",
      "\n",
      "Epsilon:  0.25\n",
      "Predicted differences:  1.5474157187443465\n",
      "epsilon: 0.25\n",
      "Iter  0  value:  -349.764933638726\n",
      "Optimization terminated successfully.\n",
      "         Current function value: -349.773888\n",
      "         Iterations: 4\n",
      "         Function evaluations: 5\n",
      "         Gradient evaluations: 5\n",
      "         Hessian evaluations: 0\n",
      "Optimization terminated successfully.\n",
      "         Current function value: -349.773888\n",
      "         Iterations: 0\n",
      "         Function evaluations: 1\n",
      "         Gradient evaluations: 1\n",
      "         Hessian evaluations: 0\n",
      "Done. Converged:  True\n",
      "Predicted differences:  1.5474157187443465\n",
      "Actual differences: (This is nonzero if phi did anything): 1.7159573686116034\n",
      "\n",
      "\n",
      "Epsilon:  0.3600000000000001\n",
      "Predicted differences:  2.228278634991859\n",
      "epsilon: 0.3600000000000001\n",
      "Iter  0  value:  -355.96346644962404\n",
      "Optimization terminated successfully.\n",
      "         Current function value: -355.997641\n",
      "         Iterations: 5\n",
      "         Function evaluations: 6\n",
      "         Gradient evaluations: 6\n",
      "         Hessian evaluations: 0\n",
      "Optimization terminated successfully.\n",
      "         Current function value: -355.997641\n",
      "         Iterations: 0\n",
      "         Function evaluations: 1\n",
      "         Gradient evaluations: 1\n",
      "         Hessian evaluations: 0\n",
      "Done. Converged:  True\n",
      "Predicted differences:  2.228278634991859\n",
      "Actual differences: (This is nonzero if phi did anything): 2.5560640486907737\n",
      "\n",
      "\n",
      "Epsilon:  0.4900000000000001\n",
      "Predicted differences:  3.0329348087389194\n",
      "epsilon: 0.4900000000000001\n",
      "Iter  0  value:  -363.901553092389\n",
      "Optimization terminated successfully.\n",
      "         Current function value: -364.007912\n",
      "         Iterations: 6\n",
      "         Function evaluations: 7\n",
      "         Gradient evaluations: 7\n",
      "         Hessian evaluations: 0\n",
      "Optimization terminated successfully.\n",
      "         Current function value: -364.007912\n",
      "         Iterations: 0\n",
      "         Function evaluations: 1\n",
      "         Gradient evaluations: 1\n",
      "         Hessian evaluations: 0\n",
      "Done. Converged:  True\n",
      "Predicted differences:  3.0329348087389194\n",
      "Actual differences: (This is nonzero if phi did anything): 3.565175111511372\n",
      "\n",
      "\n",
      "Epsilon:  0.6400000000000001\n",
      "Predicted differences:  3.961384239985527\n",
      "epsilon: 0.6400000000000001\n",
      "Iter  0  value:  -373.9773599493074\n",
      "Optimization terminated successfully.\n",
      "         Current function value: -374.283255\n",
      "         Iterations: 6\n",
      "         Function evaluations: 7\n",
      "         Gradient evaluations: 7\n",
      "         Hessian evaluations: 0\n",
      "Optimization terminated successfully.\n",
      "         Current function value: -374.283255\n",
      "         Iterations: 0\n",
      "         Function evaluations: 1\n",
      "         Gradient evaluations: 1\n",
      "         Hessian evaluations: 0\n",
      "Done. Converged:  True\n",
      "Predicted differences:  3.961384239985527\n",
      "Actual differences: (This is nonzero if phi did anything): 4.814511507416657\n",
      "\n",
      "\n",
      "Epsilon:  0.81\n",
      "Predicted differences:  5.013626928731683\n",
      "epsilon: 0.81\n",
      "Iter  0  value:  -386.7211463559724\n",
      "Optimization terminated successfully.\n",
      "         Current function value: -387.535423\n",
      "         Iterations: 7\n",
      "         Function evaluations: 8\n",
      "         Gradient evaluations: 8\n",
      "         Hessian evaluations: 0\n",
      "Optimization terminated successfully.\n",
      "         Current function value: -387.535423\n",
      "         Iterations: 0\n",
      "         Function evaluations: 1\n",
      "         Gradient evaluations: 1\n",
      "         Hessian evaluations: 0\n",
      "Done. Converged:  True\n",
      "Predicted differences:  5.013626928731683\n",
      "Actual differences: (This is nonzero if phi did anything): 6.369664613178032\n",
      "\n",
      "\n",
      "Epsilon:  1.0\n",
      "Predicted differences:  6.189662874977386\n",
      "epsilon: 1.0\n",
      "Iter  0  value:  -402.8133563138003\n",
      "Optimization terminated successfully.\n",
      "         Current function value: -404.768417\n",
      "         Iterations: 8\n",
      "         Function evaluations: 9\n",
      "         Gradient evaluations: 9\n",
      "         Hessian evaluations: 0\n",
      "Optimization terminated successfully.\n",
      "         Current function value: -404.768417\n",
      "         Iterations: 0\n",
      "         Function evaluations: 1\n",
      "         Gradient evaluations: 1\n",
      "         Hessian evaluations: 0\n",
      "Done. Converged:  True\n",
      "Predicted differences:  6.189662874977386\n",
      "Actual differences: (This is nonzero if phi did anything): 8.237861904625534\n"
     ]
    }
   ],
   "source": [
    "best_param_phi_array = []\n",
    "best_param_phi_pred_array = []\n",
    "\n",
    "output_phi_array = []\n",
    "output_phi_pred_array = []\n",
    "\n",
    "prior_perturbation.objective.logger.print_every = 10\n",
    "\n",
    "for i in range(len(epsilon_vec)): \n",
    "    epsilon = epsilon_vec[i]\n",
    "    print('\\n\\nEpsilon: ', epsilon)\n",
    "    \n",
    "    # get linear predictions\n",
    "    best_param_phi_pred = \\\n",
    "        epsilon_sensitivity.predict_input_par_from_hyperparameters(epsilon)\n",
    "    output_phi_pred = \\\n",
    "        gmm_utils.get_e_num_pred_clusters_from_free_par(best_param_phi_pred, model)\n",
    "    \n",
    "#     epsilon_sensitivity.predict_output_par_from_hyperparameters(\n",
    "#         epsilon, linear=True)\n",
    "\n",
    "    print('Predicted differences: ', np.linalg.norm(best_param_phi_pred - best_param_0))\n",
    "    \n",
    "    # Then fit with the perturbation.\n",
    "    prior_perturbation.objective.logger.initialize()\n",
    "    prior_perturbation.set_epsilon(epsilon_vec[i])\n",
    "    print(prior_perturbation.epsilon_param)\n",
    "    best_param_phi, converged, x_conv, f_conv, grad_conv, obj_opt, opt_results = \\\n",
    "        opt_lib.repeatedly_optimize(\n",
    "            objective=prior_perturbation.objective,\n",
    "            optimization_fun=\n",
    "                lambda x: gmm_utils.precondition_and_optimize(\n",
    "                    prior_perturbation.objective, x),\n",
    "            init_x=best_param_phi_pred,\n",
    "            initial_optimization_fun=None,\n",
    "            keep_intermediate_optimizations=True)\n",
    "\n",
    "#     output_phi = moment_model.set_and_get_moments_from_free_par(best_param_phi)\n",
    "    output_phi = \\\n",
    "        gmm_utils.get_e_num_pred_clusters_from_free_par(best_param_phi, model)\n",
    "\n",
    "    print('Done. Converged: ', converged)\n",
    "\n",
    "    print('Predicted differences: ', np.linalg.norm(best_param_phi_pred - best_param_0))\n",
    "    print('Actual differences: (This is nonzero if phi did anything):',\n",
    "          np.linalg.norm(best_param_phi - best_param_0))\n",
    "    \n",
    "    # save results: \n",
    "    best_param_phi_array.append(best_param_phi)\n",
    "    best_param_phi_pred_array.append(best_param_phi_pred)\n",
    "    \n",
    "    output_phi_array.append(output_phi)\n",
    "    output_phi_pred_array.append(output_phi_pred)\n",
    "    "
   ]
  },
  {
   "cell_type": "code",
   "execution_count": 42,
   "metadata": {
    "collapsed": true
   },
   "outputs": [],
   "source": [
    "# np.save('best_param_phi_array', best_param_phi_array)"
   ]
  },
  {
   "cell_type": "code",
   "execution_count": 43,
   "metadata": {
    "collapsed": true
   },
   "outputs": [],
   "source": [
    "# output_0 = moment_model.set_and_get_moments_from_free_par(best_param_0)\n",
    "output_0 = \\\n",
    "    gmm_utils.get_e_num_pred_clusters_from_free_par(best_param_0, model)\n"
   ]
  },
  {
   "cell_type": "code",
   "execution_count": 44,
   "metadata": {
    "collapsed": true,
    "scrolled": false
   },
   "outputs": [],
   "source": [
    "# for i in range(len(epsilon_vec)): \n",
    "#     plt.figure(figsize=(8, 4))\n",
    "#     plt.subplot(1, 2, 1)\n",
    "#     plt.plot(best_param_phi_array[i] - best_param_0, \n",
    "#              best_param_phi_pred_array[i] - best_param_0, 'k.')\n",
    "#     plt.plot(best_param_phi_array[i] - best_param_0, \n",
    "#              best_param_phi_array[i] - best_param_0, 'r')\n",
    "#     plt.xlabel('true diff global free params')\n",
    "#     plt.ylabel('pred diff global free params')\n",
    "#     plt.title('epsilon = {}'.format(epsilon_vec[i]))\n",
    "\n",
    "#     plt.subplot(1, 2, 2)\n",
    "#     plt.plot(output_phi_array[i] - output_0, \n",
    "#              output_phi_pred_array[i] - output_0, 'k.')\n",
    "#     plt.plot(output_phi_array[i] - output_0, \n",
    "#              output_phi_array[i] - output_0, 'r')\n",
    "#     plt.xlabel('true diff moment params')\n",
    "#     plt.ylabel('pred diff moment params')\n",
    "#     plt.title('epsilon = {}'.format(epsilon_vec[i]))\n",
    "    \n",
    "#     plt.tight_layout()\n",
    "\n",
    "    "
   ]
  },
  {
   "cell_type": "markdown",
   "metadata": {},
   "source": [
    "# Lets also look at the expected number of clusters"
   ]
  },
  {
   "cell_type": "code",
   "execution_count": 45,
   "metadata": {
    "collapsed": true
   },
   "outputs": [],
   "source": [
    "# # This expects the hyperparameter to be at its optimal value.\n",
    "# #e_num_clusters_class = gmm_utils.ExpectedNumClustersFromZ(model)\n",
    "# #e_num_clusters_class = gmm_utils.ExpectedNumClustersFromLogitSticks(model)\n",
    "# e_num_clusters_class.set_e_num_clusters_from_free_param(best_param_0)\n",
    "\n",
    "# prior_perturbation.set_epsilon(0.0)\n",
    "# cluster_sensitivity = \\\n",
    "#     obj_lib.ParametricSensitivity(\n",
    "#         objective_fun=model.set_z_get_kl,\n",
    "#         input_par=e_num_clusters_class.model.global_vb_params,\n",
    "#         output_par=e_num_clusters_class.e_num_clusters,\n",
    "#         hyper_par=prior_perturbation.epsilon_param,\n",
    "#         input_to_output_converter=e_num_clusters_class.set_e_num_clusters,\n",
    "#         optimal_input_par=best_param_0,\n",
    "#         objective_hessian=kl_hessian_0,\n",
    "#         hyper_par_objective_fun=prior_perturbation.get_e_log_perturbation)"
   ]
  },
  {
   "cell_type": "code",
   "execution_count": 46,
   "metadata": {
    "collapsed": true
   },
   "outputs": [],
   "source": [
    "e_num_heavy_clusters_class = gmm_utils.ExpectedNumClustersFromZ(model)\n",
    "e_num_pred_heavy_clusters_class = gmm_utils.ExpectedPredNumClusters(model)"
   ]
  },
  {
   "cell_type": "code",
   "execution_count": 47,
   "metadata": {
    "collapsed": true
   },
   "outputs": [],
   "source": [
    "from tqdm import tqdm"
   ]
  },
  {
   "cell_type": "code",
   "execution_count": 72,
   "metadata": {
    "collapsed": true
   },
   "outputs": [],
   "source": [
    "threshold = 3"
   ]
  },
  {
   "cell_type": "code",
   "execution_count": 73,
   "metadata": {
    "collapsed": false
   },
   "outputs": [
    {
     "name": "stderr",
     "output_type": "stream",
     "text": [
      "100%|██████████| 11/11 [00:04<00:00,  2.64it/s]\n"
     ]
    }
   ],
   "source": [
    "e_num_clusters_pred = []\n",
    "e_num_clusters_true = []\n",
    "\n",
    "e_num_clusters_true_var = []\n",
    "e_num_clusters_pred_var = []\n",
    "\n",
    "for i in tqdm(range(len(epsilon_vec))):\n",
    "    # predicted quantities\n",
    "    pred_mean, pred_var = e_num_heavy_clusters_class.get_e_num_heavy_clusters_from_free_par(\n",
    "            best_param_phi_pred_array[i], threshold = threshold)\n",
    "    \n",
    "    # refitted quantities\n",
    "    refit_mean, refit_var = e_num_heavy_clusters_class.get_e_num_heavy_clusters_from_free_par(\n",
    "            best_param_phi_array[i], threshold = threshold)\n",
    "    \n",
    "    e_num_clusters_pred.append(pred_mean)\n",
    "    e_num_clusters_true.append(refit_mean)\n",
    "    \n",
    "    e_num_clusters_pred_var.append(pred_var)\n",
    "    e_num_clusters_true_var.append(refit_var)\n",
    "\n",
    "    "
   ]
  },
  {
   "cell_type": "code",
   "execution_count": 74,
   "metadata": {
    "collapsed": false
   },
   "outputs": [
    {
     "name": "stderr",
     "output_type": "stream",
     "text": [
      "100%|██████████| 11/11 [00:02<00:00,  4.67it/s]\n"
     ]
    }
   ],
   "source": [
    "e_num_post_pred_clusters_pred = []\n",
    "e_num_post_pred_clusters_true = []\n",
    "for i in tqdm(range(len(epsilon_vec))):\n",
    "    e_num_post_pred_clusters_pred.append(\n",
    "        e_num_pred_heavy_clusters_class.get_e_num_pred_heavy_clusters_from_free_par(\n",
    "            best_param_phi_pred_array[i], threshold = threshold))\n",
    "    e_num_post_pred_clusters_true.append(\n",
    "        e_num_pred_heavy_clusters_class.get_e_num_pred_heavy_clusters_from_free_par(\n",
    "            best_param_phi_array[i], threshold = threshold))"
   ]
  },
  {
   "cell_type": "code",
   "execution_count": 75,
   "metadata": {
    "collapsed": false
   },
   "outputs": [
    {
     "data": {
      "text/plain": [
       "<matplotlib.legend.Legend at 0x7ffa2414def0>"
      ]
     },
     "execution_count": 75,
     "metadata": {},
     "output_type": "execute_result"
    },
    {
     "data": {
      "image/png": "[encoded data removed]",
      "text/plain": [
       "<matplotlib.figure.Figure at 0x7ffa2422ea58>"
      ]
     },
     "metadata": {},
     "output_type": "display_data"
    }
   ],
   "source": [
    "plt.figure(figsize=(17, 7))\n",
    "\n",
    "plt.subplot(121)\n",
    "plt.plot(epsilon_vec, e_num_clusters_true, '+-')\n",
    "plt.plot(epsilon_vec, e_num_clusters_pred, '+-')\n",
    "plt.xlabel('epsilon')\n",
    "plt.title('expected number of clusters')\n",
    "plt.legend(('computed', 'linear approximation'))\n",
    "\n",
    "plt.subplot(122)\n",
    "plt.plot(epsilon_vec, e_num_post_pred_clusters_true, '+-')\n",
    "plt.plot(epsilon_vec, e_num_post_pred_clusters_pred, '+-')\n",
    "plt.xlabel('epsilon')\n",
    "plt.title('expected number of posterior predictive clusters')\n",
    "plt.legend(('computed', 'linear approximation'))\n",
    "\n",
    "# plt.savefig('../../../writing/NIPS_2018_BNP_workshop/functional_sens_results/pred_num_clusters1_init3_5.png')"
   ]
  },
  {
   "cell_type": "code",
   "execution_count": 76,
   "metadata": {
    "collapsed": true
   },
   "outputs": [],
   "source": [
    "func_sens_results_array = np.array([epsilon_vec, \n",
    "                                   np.array(e_num_clusters_true).squeeze(), \n",
    "                                   np.array(e_num_clusters_pred).squeeze()])\n",
    "\n",
    "# np.savetxt('../../../writing/NIPS_2018_BNP_workshop/data_for_figures/' + \n",
    "#            'prior_pert1_enum_clust_results_thresh{}.csv'.format(threshold), \n",
    "#         func_sens_results_array, \n",
    "#           delimiter = ',')"
   ]
  },
  {
   "cell_type": "code",
   "execution_count": 77,
   "metadata": {
    "collapsed": true
   },
   "outputs": [],
   "source": [
    "func_sens_pred_results_array = np.array([epsilon_vec, \n",
    "                                   np.array(e_num_post_pred_clusters_true).squeeze(), \n",
    "                                   np.array(e_num_post_pred_clusters_pred).squeeze()])\n",
    "\n",
    "# np.savetxt('../../../writing/NIPS_2018_BNP_workshop/data_for_figures/' + \n",
    "#            'prior_pert1_enum_clust_results_pred_thresh{}.csv'.format(threshold), \n",
    "#         func_sens_pred_results_array, \n",
    "#         delimiter = ',')"
   ]
  },
  {
   "cell_type": "code",
   "execution_count": 78,
   "metadata": {
    "collapsed": false
   },
   "outputs": [
    {
     "data": {
      "text/plain": [
       "3"
      ]
     },
     "execution_count": 78,
     "metadata": {},
     "output_type": "execute_result"
    }
   ],
   "source": [
    "threshold"
   ]
  },
  {
   "cell_type": "code",
   "execution_count": null,
   "metadata": {
    "collapsed": true
   },
   "outputs": [],
   "source": []
  },
  {
   "cell_type": "raw",
   "metadata": {
    "collapsed": false
   },
   "source": [
    "plt.figure(figsize=(17, 7))\n",
    "\n",
    "plt.subplot(121)\n",
    "plt.errorbar(epsilon_vec, e_num_clusters_true, yerr=3 * np.sqrt(e_num_clusters_true_var) / np.sqrt(10000), fmt = 'x-')\n",
    "plt.errorbar(epsilon_vec + 0.01, e_num_clusters_pred, yerr= 3 * np.sqrt(e_num_clusters_pred_var) / np.sqrt(10000), \n",
    "             fmt = 'x-')\n",
    "plt.xlabel('epsilon')\n",
    "plt.title('expected number of clusters')\n",
    "plt.legend(('computed', 'linear approximation'))\n",
    "\n",
    "plt.subplot(122)\n",
    "plt.plot(epsilon_vec, e_num_post_pred_clusters_true, '+-')\n",
    "plt.plot(epsilon_vec, e_num_post_pred_clusters_pred, '+-')\n",
    "plt.xlabel('epsilon')\n",
    "plt.title('expected number of posterior predictive clusters')\n",
    "plt.legend(('computed', 'linear approximation'))\n",
    "\n",
    "# plt.savefig('../../../writing/NIPS_2018_BNP_workshop/functional_sens_results/pred_num_clusters1_init3_5.png')"
   ]
  },
  {
   "cell_type": "raw",
   "metadata": {
    "collapsed": true
   },
   "source": []
  },
  {
   "cell_type": "raw",
   "metadata": {
    "collapsed": true
   },
   "source": []
  },
  {
   "cell_type": "raw",
   "metadata": {
    "collapsed": false,
    "scrolled": false
   },
   "source": [
    "# Look at stick quantities.\n",
    "\n",
    "cluster_probs = model.get_e_cluster_probabilities()\n",
    "\n",
    "def get_stick_result(free_par, model):\n",
    "    model.global_vb_params.set_free(free_par)\n",
    "    return np.vstack(\n",
    "        [1 / np.sqrt(model.global_vb_params['v_sticks']['info'].get()), \\\n",
    "         model.global_vb_params['v_sticks']['mean'].get() ])\n",
    "\n",
    "sticks_true = np.array([ get_stick_result(free_par, model) for free_par in best_param_phi_array ])\n",
    "sticks_pred = np.array([ get_stick_result(free_par, model) for free_par in best_param_phi_pred_array ])\n",
    "\n",
    "plt.figure(figsize=(15, 40))\n",
    "print(sticks_true.shape)\n",
    "for k in range(model.k_approx - 20):\n",
    "    plt.subplot(model.k_approx - 1, 2, 2 * k + 1)\n",
    "    plt.plot(epsilon_vec, sticks_true[:, 0, k], '+-')\n",
    "    plt.plot(epsilon_vec, sticks_pred[:, 0, k], '+-')\n",
    "    #plt.xlabel('epsilon')\n",
    "    plt.ylabel('result')\n",
    "    plt.title('Mean cluster {0} Ez = {1:0.3f}'.format(k, cluster_probs[k]))\n",
    "    plt.legend(('true', 'linear approximation'))\n",
    "\n",
    "    plt.subplot(model.k_approx - 1, 2, 2 * k + 2)\n",
    "    plt.plot(epsilon_vec, sticks_true[:, 1, k], '+-')\n",
    "    plt.plot(epsilon_vec, sticks_pred[:, 1, k], '+-')\n",
    "    #plt.xlabel('epsilon')\n",
    "    plt.ylabel('result')\n",
    "    plt.title('Sd cluster {0} Ez = {1:0.3f}'.format(k, cluster_probs[k]))\n",
    "    plt.legend(('true', 'linear approximation'))\n",
    "\n",
    "# k = 1\n",
    "# plt.plot(epsilon_vec, sticks_true[:, k, 0], '+-')\n",
    "# plt.plot(epsilon_vec, sticks_pred[:, k, 0], '+-')\n",
    "# plt.xlabel('epsilon')\n",
    "# plt.ylabel('result')\n",
    "# plt.legend(('true', 'linear approximation'))\n"
   ]
  },
  {
   "cell_type": "raw",
   "metadata": {
    "collapsed": false
   },
   "source": [
    "# Look at generic quantities.\n",
    "\n",
    "\n",
    "model.global_vb_params.set_free(best_param_0)\n",
    "print(model.get_e_cluster_probabilities())\n",
    "\n",
    "stick_ind = 5\n",
    "def get_result(free_par, model):\n",
    "    model.global_vb_params.set_free(free_par)\n",
    "    return 1 / np.sqrt(model.global_vb_params['v_sticks']['info'].get()[stick_ind])\n",
    "    #return model.global_vb_params['v_sticks']['mean'].get()[stick_ind]\n",
    "\n",
    "result_pred = []\n",
    "result_true = []\n",
    "for i in range(len(epsilon_vec)):\n",
    "    result_pred.append(get_result(best_param_phi_pred_array[i], model))\n",
    "    result_true.append(get_result(best_param_phi_array[i], model))\n",
    "\n",
    "    \n",
    "plt.plot(epsilon_vec, result_true, '+-')\n",
    "plt.plot(epsilon_vec, result_pred, '+-')\n",
    "plt.xlabel('epsilon')\n",
    "plt.ylabel('result')\n",
    "plt.legend(('true', 'linear approximation'))\n"
   ]
  },
  {
   "cell_type": "raw",
   "metadata": {
    "collapsed": false
   },
   "source": [
    "np.array(e_num_clusters_true)"
   ]
  },
  {
   "cell_type": "raw",
   "metadata": {
    "collapsed": true
   },
   "source": [
    "func_sens_results_array = np.array([epsilon_vec, \n",
    "                                   np.array(e_num_clusters_true).squeeze(), \n",
    "                                   np.array(e_num_clusters_pred).squeeze()])\n",
    "\n",
    "# np.savetxt('../../../writing/NIPS_2018_BNP_workshop/data_for_figures/prior_pert2_enum_clust_results.csv', \n",
    "#         func_sens_results_array, \n",
    "#           delimiter = ',')"
   ]
  },
  {
   "cell_type": "raw",
   "metadata": {
    "collapsed": true
   },
   "source": [
    "def plot_results_from_free_params(model, global_free_params, fig): \n",
    "    # look at results\n",
    "    model.global_vb_params.set_free(global_free_params)\n",
    "    model.set_optimal_z()\n",
    "\n",
    "    bnp_clusters = np.argmax(model.e_z, axis = 1)\n",
    "    bnp_centroids = model.vb_params['global']['centroids'].get()\n",
    "\n",
    "    bnp_cluster_infos = model.vb_params['global']['gamma'].get()\n",
    "    bnp_cluster_covs = np.linalg.inv(bnp_cluster_infos)\n",
    "    \n",
    "    pca_fit, pc_features, colors1, colors2 = utils_lib.get_plot_data(model.y)\n",
    "    \n",
    "    # we plot in PCA space\n",
    "    bnp_centroids_pc, bnp_cluster_covs_pc = \\\n",
    "        utils_lib.transform_params_to_pc_space(pca_fit, bnp_centroids, bnp_cluster_covs)\n",
    "        \n",
    "    utils_lib.plot_clusters(pc_features[:, 0], pc_features[:, 1], bnp_clusters, \\\n",
    "              colors1_, fig, \\\n",
    "              centroids = bnp_centroids_pc[:, np.unique(bnp_clusters)], \\\n",
    "              cov = bnp_cluster_covs_pc[np.unique(bnp_clusters)])\n",
    "\n",
    "    fig.set_xlabel('PC1')\n",
    "    fig.set_ylabel('PC2')\n"
   ]
  },
  {
   "cell_type": "raw",
   "metadata": {
    "collapsed": false,
    "scrolled": false
   },
   "source": [
    "f, axarr = plt.subplots(len(epsilon_vec), 2, figsize = (15, 50))\n",
    "\n",
    "for i in range(len(epsilon_vec)): \n",
    "    plot_results_from_free_params(model, best_param_phi_array[i], axarr[i, 0])\n",
    "    plot_results_from_free_params(model, best_param_phi_pred_array[i], axarr[i, 1])\n",
    "\n",
    "f.tight_layout()"
   ]
  },
  {
   "cell_type": "raw",
   "metadata": {
    "collapsed": true
   },
   "source": []
  }
 ],
 "metadata": {
  "kernelspec": {
   "display_name": "Python 3",
   "language": "python",
   "name": "python3"
  },
  "language_info": {
   "codemirror_mode": {
    "name": "ipython",
    "version": 3
   },
   "file_extension": ".py",
   "mimetype": "text/x-python",
   "name": "python",
   "nbconvert_exporter": "python",
   "pygments_lexer": "ipython3",
   "version": "3.6.0"
  }
 },
 "nbformat": 4,
 "nbformat_minor": 2
}
