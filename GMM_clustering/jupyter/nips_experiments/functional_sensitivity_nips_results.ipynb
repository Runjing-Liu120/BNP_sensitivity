{
 "cells": [
  {
   "cell_type": "markdown",
   "metadata": {},
   "source": [
    "This notebook reproduces the functional sensitivity results in the paper\n",
    "\n",
    "\"Evaluating Sensitivity to the Stick Breaking Prior in Bayesian Nonparametrics\"\n",
    "https://arxiv.org/abs/1810.06587\n",
    "\n",
    "\n",
    "It loads the model fits from './iris_fits/', so make sure to run the notebook `fit_base_model.ipynb` first. "
   ]
  },
  {
   "cell_type": "code",
   "execution_count": 23,
   "metadata": {
    "collapsed": true
   },
   "outputs": [],
   "source": [
    "import autograd\n",
    "from autograd import numpy as np\n",
    "from autograd import scipy as sp\n",
    "\n",
    "from numpy.polynomial.hermite import hermgauss\n",
    "\n",
    "np.random.seed(453453)\n",
    "\n",
    "import paragami\n",
    "import vittles\n",
    "\n",
    "from bnpgmm_runjingdev import gmm_clustering_lib as gmm_lib\n",
    "from bnpmodeling_runjingdev import modeling_lib \n",
    "from bnpgmm_runjingdev import utils_lib\n",
    "from bnpmodeling_runjingdev import cluster_quantities_lib as cluster_lib\n",
    "from bnpmodeling_runjingdev import optimization_lib\n",
    "from bnpgmm_runjingdev import functional_sensitivity_lib as fun_sens_lib \n",
    "\n",
    "\n",
    "import matplotlib.pyplot as plt\n",
    "%matplotlib inline\n",
    "import matplotlib.cm as cm\n",
    "\n",
    "from sklearn.decomposition import PCA\n",
    "\n",
    "from copy import deepcopy\n",
    "\n",
    "import json \n",
    "\n",
    "from tqdm import tqdm"
   ]
  },
  {
   "cell_type": "markdown",
   "metadata": {},
   "source": [
    "# Load data"
   ]
  },
  {
   "cell_type": "code",
   "execution_count": 2,
   "metadata": {
    "collapsed": true
   },
   "outputs": [],
   "source": [
    "# load iris data\n",
    "dataset_name = 'iris'\n",
    "features, iris_species = utils_lib.load_data()\n",
    "dim = features.shape[1]\n",
    "n_obs = len(iris_species)    "
   ]
  },
  {
   "cell_type": "code",
   "execution_count": 3,
   "metadata": {},
   "outputs": [
    {
     "data": {
      "text/plain": [
       "Text(0, 0.5, 'PC2')"
      ]
     },
     "execution_count": 3,
     "metadata": {},
     "output_type": "execute_result"
    },
    {
     "data": {
      "image/png": "[encoded data removed]",
      "text/plain": [
       "<Figure size 432x288 with 1 Axes>"
      ]
     },
     "metadata": {
      "needs_background": "light"
     },
     "output_type": "display_data"
    }
   ],
   "source": [
    "# run PCA\n",
    "pca_fit = PCA()\n",
    "pca_fit.fit(features)\n",
    "pc_features = pca_fit.transform(features)\n",
    "\n",
    "# plot\n",
    "cmap = cm.get_cmap(name='gist_rainbow')\n",
    "colors1 = [cmap(k * 50) for k in range(30)]\n",
    "\n",
    "fig1 = plt.figure(1)\n",
    "fig = fig1.add_subplot(111)\n",
    "utils_lib.plot_clusters(pc_features[:, 0], pc_features[:, 1], iris_species, colors1, fig)\n",
    "fig.set_xlabel('PC1')\n",
    "fig.set_ylabel('PC2')\n"
   ]
  },
  {
   "cell_type": "markdown",
   "metadata": {},
   "source": [
    "# Load results from previous fit."
   ]
  },
  {
   "cell_type": "markdown",
   "metadata": {},
   "source": [
    "It loads the model fits from './iris_fits/', so make sure to run the notebook `fit_base_model.ipynb` first. "
   ]
  },
  {
   "cell_type": "code",
   "execution_count": 10,
   "metadata": {
    "collapsed": true
   },
   "outputs": [],
   "source": [
    "def assert_optimizer(features, vb_opt_dict, vb_params_paragami, prior_params_dict, gh_loc, gh_weights): \n",
    "    # this function checks that vb_opt_dict are at a kl optimum for the given \n",
    "    # prior parameters\n",
    "    \n",
    "#     get_vb_params_loss = paragami.Functor(original_fun=gmm_lib.get_kl, argnums=1)\n",
    "#     get_vb_params_loss.cache_args(features, None, prior_params_dict,\n",
    "#                                     gh_loc, gh_weights)\n",
    "    get_loss = paragami.FlattenFunctionInput(\n",
    "        original_fun=lambda par: gmm_lib.get_kl(\n",
    "            features, par, prior_params_dict,\n",
    "            gh_loc, gh_weights),\n",
    "        patterns=vb_params_paragami,\n",
    "        free=True)\n",
    "    grad_get_loss = autograd.grad(get_loss)\n",
    "    linf_grad = np.max(np.abs(grad_get_loss(\n",
    "        vb_params_paragami.flatten(vb_opt_dict, free = True))))\n",
    "    \n",
    "    assert  linf_grad < 1e-5, 'error: {}'.format(linf_grad)\n"
   ]
  },
  {
   "cell_type": "code",
   "execution_count": 11,
   "metadata": {},
   "outputs": [],
   "source": [
    "init_alpha = 8.0\n",
    "\n",
    "# load optimal vb parameters at init_alpha\n",
    "vb_opt_dict, vb_params_paragami, data =\\\n",
    "    paragami.load_folded('./iris_fits/iris_fits_alpha{}.npz'.format(init_alpha))\n",
    "\n",
    "# free optimal vb_parameters\n",
    "vb_opt = vb_params_paragami.flatten(vb_opt_dict, free = True)\n",
    "\n",
    "# load prior parameters\n",
    "prior_params_dict, prior_params_paragami = \\\n",
    "    gmm_lib.get_default_prior_params(dim = vb_opt_dict['centroids'].shape[0])\n",
    "prior_params_dict['alpha'] = data['alpha']\n",
    "\n",
    "# other parameters\n",
    "gh_deg = int(data['gh_deg'])\n",
    "gh_loc, gh_weights = hermgauss(gh_deg)\n",
    "\n",
    "# optimal e_z\n",
    "e_z_opt = gmm_lib.get_optimal_z_from_vb_params_dict(features, vb_opt_dict, gh_loc, gh_weights)\n",
    "\n",
    "# assert we are at an optimum \n",
    "assert_optimizer(features, vb_opt_dict, vb_params_paragami, prior_params_dict, gh_loc, gh_weights)"
   ]
  },
  {
   "cell_type": "markdown",
   "metadata": {},
   "source": [
    "### Plot results"
   ]
  },
  {
   "cell_type": "code",
   "execution_count": 12,
   "metadata": {
    "collapsed": true
   },
   "outputs": [],
   "source": [
    "def plot_results_from_vb_params_dict(pca_fit, vb_params_dict, e_z, fig): \n",
    "    # we plot in PCA space\n",
    "    bnp_centroids_pc, bnp_cluster_covs_pc = \\\n",
    "        utils_lib.transform_params_to_pc_space(pca_fit, vb_params_dict['centroids'], \n",
    "                                               np.linalg.inv(vb_params_dict['gamma']))\n",
    "    \n",
    "    bnp_clusters = np.argmax(e_z, axis = 1)\n",
    "    \n",
    "    cmap = cm.get_cmap(name='gist_rainbow')\n",
    "    colors1 = [cmap(k * 50) for k in range(30)]\n",
    "\n",
    "    utils_lib.plot_clusters(pc_features[:, 0], pc_features[:, 1], bnp_clusters, \\\n",
    "                  colors1, fig, \\\n",
    "                  centroids = bnp_centroids_pc[:, np.unique(bnp_clusters)], \n",
    "                cov = bnp_cluster_covs_pc[np.unique(bnp_clusters)])\n"
   ]
  },
  {
   "cell_type": "code",
   "execution_count": 13,
   "metadata": {},
   "outputs": [
    {
     "data": {
      "text/plain": [
       "Text(0, 0.5, 'PC2')"
      ]
     },
     "execution_count": 13,
     "metadata": {},
     "output_type": "execute_result"
    },
    {
     "data": {
      "image/png": "[encoded data removed]",
      "text/plain": [
       "<Figure size 432x288 with 1 Axes>"
      ]
     },
     "metadata": {
      "needs_background": "light"
     },
     "output_type": "display_data"
    }
   ],
   "source": [
    "# Newton results\n",
    "fig1 = plt.figure(1)\n",
    "fig = fig1.add_subplot(111)\n",
    "\n",
    "plot_results_from_vb_params_dict(pca_fit, vb_opt_dict, e_z_opt, fig)\n",
    "fig.set_xlabel('PC1', fontsize = 18)\n",
    "fig.set_ylabel('PC2', fontsize = 18)\n"
   ]
  },
  {
   "cell_type": "markdown",
   "metadata": {},
   "source": [
    "# Define a prior perturbation"
   ]
  },
  {
   "cell_type": "code",
   "execution_count": 14,
   "metadata": {
    "collapsed": true
   },
   "outputs": [],
   "source": [
    "# this is the phi chosen in figure 2 of the paper\n",
    "\n",
    "def log_phi(logit_v):\n",
    "    return(sp.special.expit(logit_v))\n",
    "\n",
    "def phi(logit_v):\n",
    "    return np.exp(log_phi(logit_v))\n"
   ]
  },
  {
   "cell_type": "code",
   "execution_count": 15,
   "metadata": {},
   "outputs": [
    {
     "name": "stdout",
     "output_type": "stream",
     "text": [
      "phi max:  2.717370405124736\n",
      "log phi max:  0.9996646498695336\n"
     ]
    }
   ],
   "source": [
    "logit_v_grid = np.linspace(-8, 8, 200)\n",
    "\n",
    "v_grid = np.exp(logit_v_grid) / (1 + np.exp(logit_v_grid))\n",
    "\n",
    "print('phi max: ', np.max(phi(logit_v_grid)))\n",
    "log_phi_max = np.max(np.abs(np.log(phi(logit_v_grid))))\n",
    "print('log phi max: ', log_phi_max)\n",
    "\n",
    "def rescaled_log_phi(logit_v):\n",
    "    return 10 * log_phi(logit_v) / log_phi_max\n"
   ]
  },
  {
   "cell_type": "code",
   "execution_count": 16,
   "metadata": {},
   "outputs": [
    {
     "name": "stdout",
     "output_type": "stream",
     "text": [
      "-2.079441541679836 1.936236507197625 -2.0821248162554524 1.9385325300641851\n"
     ]
    }
   ],
   "source": [
    "prior_perturbation = fun_sens_lib.PriorPerturbation(\n",
    "    vb_params_dict = vb_opt_dict, \n",
    "    alpha0 = prior_params_dict['alpha'],\n",
    "    gh_loc = gh_loc, \n",
    "    gh_weights = gh_weights, \n",
    "    log_phi = rescaled_log_phi, logit_v_ub=8, logit_v_lb = -8)\n",
    "print(\n",
    "    prior_perturbation.log_norm_p0,\n",
    "    prior_perturbation.log_norm_pc,\n",
    "    prior_perturbation.log_norm_p0_logit,\n",
    "    prior_perturbation.log_norm_pc_logit)"
   ]
  },
  {
   "cell_type": "code",
   "execution_count": 17,
   "metadata": {},
   "outputs": [
    {
     "data": {
      "text/plain": [
       "Text(0.5, 1.0, 'Priors in logit space')"
      ]
     },
     "execution_count": 17,
     "metadata": {},
     "output_type": "execute_result"
    },
    {
     "data": {
      "image/png": "[encoded data removed]",
      "text/plain": [
       "<Figure size 1296x360 with 4 Axes>"
      ]
     },
     "metadata": {
      "needs_background": "light"
     },
     "output_type": "display_data"
    }
   ],
   "source": [
    "prior_perturbation.set_epsilon(1.0)\n",
    "\n",
    "plt.figure(1, figsize=(18, 5))\n",
    "\n",
    "plt.subplot(141)\n",
    "plt.plot(logit_v_grid, prior_perturbation.get_log_p0_logit(logit_v_grid))\n",
    "plt.plot(logit_v_grid, prior_perturbation.get_log_pc_logit(logit_v_grid))\n",
    "plt.title('Log priors in logit space')\n",
    "\n",
    "plt.subplot(142)\n",
    "plt.plot(logit_v_grid, prior_perturbation.log_phi(logit_v_grid))\n",
    "plt.title('log phi in logit space')\n",
    "\n",
    "plt.subplot(143)\n",
    "plt.plot(v_grid, np.exp(prior_perturbation.get_log_p0(v_grid)))\n",
    "plt.plot(v_grid, np.exp(prior_perturbation.get_log_pc(v_grid)))\n",
    "plt.title('Priors in stick space')\n",
    "\n",
    "plt.subplot(144)\n",
    "plt.plot(logit_v_grid, np.exp(prior_perturbation.get_log_p0_logit(logit_v_grid)))\n",
    "plt.plot(logit_v_grid, np.exp(prior_perturbation.get_log_pc_logit(logit_v_grid)))\n",
    "plt.title('Priors in logit space')\n"
   ]
  },
  {
   "cell_type": "markdown",
   "metadata": {},
   "source": [
    "# Increase number of Gauss-hermite points."
   ]
  },
  {
   "cell_type": "code",
   "execution_count": 18,
   "metadata": {
    "scrolled": true
   },
   "outputs": [
    {
     "name": "stdout",
     "output_type": "stream",
     "text": [
      "Computing Hessian to set preconditioner\n",
      "preconditioning time: 11.04\n",
      "running newton steps\n",
      "Iter 0: f = -337.20754826\n",
      "Iter 1: f = -337.20754827\n",
      "Optimization terminated successfully.\n",
      "         Current function value: -337.207548\n",
      "         Iterations: 1\n",
      "         Function evaluations: 2\n",
      "         Gradient evaluations: 2\n",
      "         Hessian evaluations: 0\n",
      "Done. \n"
     ]
    }
   ],
   "source": [
    "# First fit with no perturbation but the increased number of gh points.\n",
    "\n",
    "gh_loc, gh_weights = hermgauss(20)\n",
    "\n",
    "# get loss as a function of vb parameters\n",
    "# get_vb_params_loss = paragami.Functor(original_fun=gmm_lib.get_kl, argnums=1)\n",
    "# get_vb_params_loss.cache_args(features, None, prior_params_dict,\n",
    "#                                 gh_loc, gh_weights)\n",
    "\n",
    "# # Get loss as a function vb_free_params\n",
    "# get_loss = paragami.FlattenedFunction(original_fun=get_vb_params_loss,\n",
    "#                                         patterns=vb_params_paragami,\n",
    "#                                         free=True)\n",
    "\n",
    "get_loss = paragami.FlattenFunctionInput(\n",
    "    lambda param: gmm_lib.get_kl(features, param, prior_params_dict,\n",
    "                                gh_loc, gh_weights),\n",
    "    patterns=vb_params_paragami, free=True)\n",
    "\n",
    "init_vb_free_params = deepcopy(vb_opt)\n",
    "vb_opt, _ = optimization_lib.precondition_and_optimize(get_loss, init_vb_free_params,\n",
    "                    maxiter = 50, gtol=1e-8)\n",
    "\n",
    "print('Done. ')"
   ]
  },
  {
   "cell_type": "code",
   "execution_count": 19,
   "metadata": {
    "collapsed": true,
    "scrolled": true
   },
   "outputs": [],
   "source": [
    "vb_opt_dict = vb_params_paragami.fold(vb_opt, free = True)\n",
    "e_z_opt = gmm_lib.get_optimal_z_from_vb_params_dict(features, vb_opt_dict, gh_loc, gh_weights)"
   ]
  },
  {
   "cell_type": "code",
   "execution_count": 20,
   "metadata": {},
   "outputs": [
    {
     "data": {
      "text/plain": [
       "Text(0, 0.5, 'PC2')"
      ]
     },
     "execution_count": 20,
     "metadata": {},
     "output_type": "execute_result"
    },
    {
     "data": {
      "image/png": "[encoded data removed]",
      "text/plain": [
       "<Figure size 432x288 with 1 Axes>"
      ]
     },
     "metadata": {
      "needs_background": "light"
     },
     "output_type": "display_data"
    }
   ],
   "source": [
    "# plot results\n",
    "fig1 = plt.figure(1)\n",
    "fig = fig1.add_subplot(111)\n",
    "\n",
    "plot_results_from_vb_params_dict(pca_fit, vb_opt_dict, e_z_opt, fig)\n",
    "fig.set_xlabel('PC1', fontsize = 18)\n",
    "fig.set_ylabel('PC2', fontsize = 18)\n"
   ]
  },
  {
   "cell_type": "markdown",
   "metadata": {
    "collapsed": true
   },
   "source": [
    "# Define linear approximation class"
   ]
  },
  {
   "cell_type": "code",
   "execution_count": 24,
   "metadata": {
    "collapsed": true
   },
   "outputs": [],
   "source": [
    "# we will use this for the sensitivity class\n",
    "# get_epsilon_vb_loss = paragami.Functor(\n",
    "#     original_fun=fun_sens_lib.get_perturbed_kl, argnums=[1, 2])\n",
    "\n",
    "# get_epsilon_vb_loss.cache_args(features, None, None, rescaled_log_phi, \n",
    "#                      prior_params_dict, gh_loc, gh_weights)\n",
    "\n",
    "get_epsilon_vb_loss = paragami.FlattenFunctionInput(\n",
    "    lambda param, epsilon: fun_sens_lib.get_perturbed_kl(\n",
    "        features, param, epsilon, rescaled_log_phi, \n",
    "                     prior_params_dict, gh_loc, gh_weights),\n",
    "    patterns=vb_params_paragami, free=True)\n",
    "\n",
    "hyper_par_objective_fun = paragami.FlattenFunctionInput(\n",
    "    lambda param, epsilon: fun_sens_lib.get_e_log_perturbation(\n",
    "        rescaled_log_phi, param, epsilon, gh_loc, gh_weights),\n",
    "    patterns=vb_params_paragami, free=True)"
   ]
  },
  {
   "cell_type": "code",
   "execution_count": null,
   "metadata": {
    "collapsed": true
   },
   "outputs": [],
   "source": [
    "# # the only part of the kl that depends on epsilon\n",
    "# hyper_par_objective_fun = \\\n",
    "#     paragami.Functor(fun_sens_lib.get_e_log_perturbation, argnums = [1, 2])\n",
    "\n",
    "# # the kl as a function of both the vb parameters and the hyperparameter\n",
    "# hyper_par_objective_fun.cache_args(rescaled_log_phi, None, None, \n",
    "#                            gh_loc, gh_weights)"
   ]
  },
  {
   "cell_type": "code",
   "execution_count": 25,
   "metadata": {},
   "outputs": [
    {
     "name": "stderr",
     "output_type": "stream",
     "text": [
      "/home/rgiordan/Documents/git_repos/BNP_sensitivity/RegressionClustering/venv/lib/python3.5/site-packages/vittles/sensitivity_lib.py:857: UserWarning: The ParametricSensitivityTaylorExpansion is experimental.\n",
      "  'The ParametricSensitivityTaylorExpansion is experimental.')\n"
     ]
    }
   ],
   "source": [
    "# Compute hyper sensitivity object\n",
    "# epsilon_sens = \\\n",
    "#     paragami.HyperparameterSensitivityLinearApproximation(\n",
    "#         objective_fun=           get_epsilon_vb_loss,\n",
    "#         opt_par_pattern=         vb_params_paragami,\n",
    "#         hyper_par_pattern=       epsilon_param_paragami,\n",
    "#         opt_par_folded_value=    vb_params_paragami.fold(vb_opt, free = True),\n",
    "#         hyper_par_folded_value=  epsilon_param_paragami.fold(0.0, free = False),\n",
    "#         opt_par_is_free=         True,\n",
    "#         hyper_par_is_free=       False,\n",
    "#         hyper_par_objective_fun = hyper_par_objective_fun,\n",
    "#         grad_tol=                1e-5)\n",
    "epsilon_sens = \\\n",
    "    vittles.ParametricSensitivityTaylorExpansion(\n",
    "        objective_function =               get_epsilon_vb_loss,\n",
    "        hyper_par_objective_function =     hyper_par_objective_fun,\n",
    "        input_val0 = vb_opt,\n",
    "        hyper_val0 = np.array([0]),\n",
    "        order = 1)"
   ]
  },
  {
   "cell_type": "markdown",
   "metadata": {},
   "source": [
    "## Fit with perturbation"
   ]
  },
  {
   "cell_type": "code",
   "execution_count": 26,
   "metadata": {},
   "outputs": [
    {
     "name": "stdout",
     "output_type": "stream",
     "text": [
      "Epsilon:  1.0\n",
      "Predicted differences:  6.189662015677288\n"
     ]
    }
   ],
   "source": [
    "epsilon = 1.0 \n",
    "print('Epsilon: ', epsilon)\n",
    "\n",
    "vb_pert_pred = \\\n",
    "    epsilon_sens.evaluate_taylor_series(epsilon)\n",
    "\n",
    "print('Predicted differences: ', np.linalg.norm(vb_pert_pred - vb_opt))"
   ]
  },
  {
   "cell_type": "code",
   "execution_count": 27,
   "metadata": {
    "collapsed": true
   },
   "outputs": [],
   "source": [
    "vb_pert_pred_dict = vb_params_paragami.fold(vb_pert_pred, free = True)\n",
    "e_z_pert_pred = gmm_lib.get_optimal_z_from_vb_params_dict(features, vb_pert_pred_dict, gh_loc, gh_weights)"
   ]
  },
  {
   "cell_type": "code",
   "execution_count": 28,
   "metadata": {
    "collapsed": true
   },
   "outputs": [],
   "source": [
    "# get flattened perturbed KL\n",
    "def get_loss_for_epsilon(epsilon):\n",
    "    get_perturbed_vb_loss_flattened = paragami.FlattenFunctionInput(\n",
    "        lambda params: \n",
    "            fun_sens_lib.get_perturbed_kl(\n",
    "                features, params, epsilon, rescaled_log_phi, \n",
    "                 prior_params_dict, gh_loc, gh_weights),\n",
    "        argnums=0,\n",
    "        patterns=vb_params_paragami,\n",
    "        free=True)\n",
    "    return get_perturbed_vb_loss_flattened\n",
    "\n",
    "get_perturbed_vb_loss_flattened = get_loss_for_epsilon(epsilon)\n",
    "\n",
    "# get_perturbed_vb_loss = paragami.Functor(\n",
    "#     original_fun=fun_sens_lib.get_perturbed_kl, argnums=[1])\n",
    "\n",
    "# get_perturbed_vb_loss.cache_args(features, None, epsilon_param_dict, rescaled_log_phi, \n",
    "#                      prior_params_dict, gh_loc, gh_weights)\n",
    "\n",
    "# get_perturbed_vb_loss_flattened = \\\n",
    "#     paragami.FlattenedFunction(original_fun=get_perturbed_vb_loss,\n",
    "#                                 patterns=vb_params_paragami,\n",
    "#                                 free=True)\n"
   ]
  },
  {
   "cell_type": "code",
   "execution_count": 29,
   "metadata": {
    "scrolled": true
   },
   "outputs": [
    {
     "name": "stdout",
     "output_type": "stream",
     "text": [
      "running bfgs ... \n",
      "Iter 0: f = -383.65238730\n",
      "Iter 1: f = -385.75516985\n",
      "Iter 2: f = -365.28142402\n",
      "Iter 3: f = -385.93951728\n",
      "Iter 4: f = -386.25320345\n",
      "Iter 5: f = -386.85406950\n",
      "Iter 6: f = -387.73406387\n",
      "Iter 7: f = -388.26813170\n",
      "Iter 8: f = -389.17672633\n",
      "Iter 9: f = -390.11938738\n",
      "Iter 10: f = -391.48505956\n",
      "Iter 11: f = -391.44573233\n",
      "Iter 12: f = -392.16595690\n",
      "Iter 13: f = -393.12974436\n",
      "Iter 14: f = -394.51197051\n",
      "Iter 15: f = -393.05881868\n",
      "Iter 16: f = -394.97001726\n",
      "Iter 17: f = -395.79919315\n",
      "Iter 18: f = -396.68673781\n",
      "Iter 19: f = -397.89572846\n",
      "Iter 20: f = -397.63660756\n",
      "Iter 21: f = -398.45663580\n",
      "Iter 22: f = -399.43057865\n",
      "Iter 23: f = -398.27611600\n",
      "Iter 24: f = -399.73894426\n",
      "Iter 25: f = -399.90177357\n",
      "Iter 26: f = -400.14616553\n",
      "Iter 27: f = -400.59007934\n",
      "Iter 28: f = -401.36741688\n",
      "Iter 29: f = -401.72829449\n",
      "Iter 30: f = -401.92654570\n",
      "Iter 31: f = -402.04508422\n",
      "Iter 32: f = -402.26162826\n",
      "Iter 33: f = -402.60660274\n",
      "Iter 34: f = -402.99542754\n",
      "Iter 35: f = -403.24947682\n",
      "Iter 36: f = -403.47324468\n",
      "Iter 37: f = -403.83569489\n",
      "Iter 38: f = -402.81369929\n",
      "Iter 39: f = -403.91281281\n",
      "Iter 40: f = -404.01788738\n",
      "Iter 41: f = -404.11789002\n",
      "Iter 42: f = -404.28002770\n",
      "Iter 43: f = -404.34144018\n",
      "Iter 44: f = -404.43869329\n",
      "Iter 45: f = -404.40847891\n",
      "Iter 46: f = -404.48215689\n",
      "Iter 47: f = -404.49933044\n",
      "Iter 48: f = -404.53072144\n",
      "Iter 49: f = -404.56305345\n",
      "Iter 50: f = -404.61738301\n",
      "Iter 51: f = -404.61549222\n",
      "Iter 52: f = -404.64383389\n",
      "Iter 53: f = -404.68272818\n",
      "Iter 54: f = -404.71087258\n",
      "Iter 55: f = -404.70744908\n",
      "Iter 56: f = -404.72457838\n",
      "Iter 57: f = -404.72877375\n",
      "Iter 58: f = -404.73552074\n",
      "Iter 59: f = -404.74294375\n",
      "Iter 60: f = -404.75168976\n",
      "Iter 61: f = -404.74516616\n",
      "Iter 62: f = -404.75492099\n",
      "Iter 63: f = -404.75950526\n",
      "Iter 64: f = -404.76355646\n",
      "Iter 65: f = -404.76509739\n",
      "Iter 66: f = -404.76684056\n",
      "Iter 67: f = -404.76577948\n",
      "Iter 68: f = -404.76751460\n",
      "Iter 69: f = -404.76771239\n",
      "Iter 70: f = -404.76794331\n",
      "Iter 71: f = -404.76814761\n",
      "Iter 72: f = -404.76786929\n",
      "Iter 73: f = -404.76820924\n",
      "Iter 74: f = -404.76824757\n",
      "Iter 75: f = -404.76828888\n",
      "Iter 76: f = -404.76832633\n",
      "Iter 77: f = -404.76833840\n",
      "Iter 78: f = -404.76835750\n",
      "Iter 79: f = -404.76837963\n",
      "Iter 80: f = -404.76838030\n",
      "Iter 81: f = -404.76839098\n",
      "Iter 82: f = -404.76839767\n",
      "Iter 83: f = -404.76840207\n",
      "Iter 84: f = -404.76840704\n",
      "Iter 85: f = -404.76840872\n",
      "Iter 86: f = -404.76841118\n",
      "Iter 87: f = -404.76841419\n",
      "Iter 88: f = -404.76841241\n",
      "Iter 89: f = -404.76841537\n",
      "Iter 90: f = -404.76841551\n",
      "Iter 91: f = -404.76841577\n",
      "Iter 92: f = -404.76841619\n",
      "Iter 93: f = -404.76841668\n",
      "Iter 94: f = -404.76841649\n",
      "Iter 95: f = -404.76841688\n",
      "Iter 96: f = -404.76841683\n",
      "Iter 97: f = -404.76841696\n",
      "Iter 98: f = -404.76841690\n",
      "Iter 99: f = -404.76841699\n",
      "Iter 100: f = -404.76841703\n",
      "Iter 101: f = -404.76841706\n",
      "Iter 102: f = -404.76841710\n",
      "Iter 103: f = -404.76841710\n",
      "Iter 104: f = -404.76841712\n",
      "Iter 105: f = -404.76841713\n",
      "Iter 106: f = -404.76841714\n",
      "Iter 107: f = -404.76841715\n",
      "Iter 108: f = -404.76841715\n",
      "Iter 109: f = -404.76841716\n",
      "Iter 110: f = -404.76841716\n",
      "Iter 111: f = -404.76841716\n",
      "Iter 112: f = -404.76841716\n",
      "Iter 113: f = -404.76841716\n",
      "Iter 114: f = -404.76841716\n",
      "Iter 115: f = -404.76841716\n",
      "Iter 116: f = -404.76841716\n",
      "Iter 117: f = -404.76841716\n",
      "Iter 118: f = -404.76841716\n",
      "Iter 119: f = -404.76841716\n",
      "Iter 120: f = -404.76841716\n",
      "Iter 121: f = -404.76841716\n",
      "Iter 122: f = -404.76841716\n",
      "Iter 123: f = -404.76841716\n",
      "Iter 124: f = -404.76841716\n",
      "Iter 125: f = -404.76841716\n",
      "Iter 126: f = -404.76841716\n",
      "Iter 127: f = -404.76841716\n",
      "Iter 128: f = -404.76841716\n",
      "Iter 129: f = -404.76841716\n",
      "Iter 130: f = -404.76841716\n",
      "Iter 131: f = -404.76841716\n",
      "Iter 132: f = -404.76841716\n",
      "Warning: Desired error not necessarily achieved due to precision loss.\n",
      "         Current function value: -404.768417\n",
      "         Iterations: 108\n",
      "         Function evaluations: 133\n",
      "         Gradient evaluations: 132\n",
      "\n",
      " running preconditioned newton; iter =  0\n",
      "Computing Hessian to set preconditioner\n",
      "preconditioning time: 16.76\n",
      "running newton steps\n",
      "Iter 0: f = -404.76841716\n",
      "Iter 1: f = -404.76841716\n",
      "Optimization terminated successfully.\n",
      "         Current function value: -404.768417\n",
      "         Iterations: 1\n",
      "         Function evaluations: 2\n",
      "         Gradient evaluations: 2\n",
      "         Hessian evaluations: 0\n",
      "Iter 0: x_diff = 4.276816836442157e-05, f_diff = 3.922195901395753e-12, grad_l1 = 1.596045264473915e-10\n",
      "done. \n"
     ]
    }
   ],
   "source": [
    "vb_pert_opt = optimization_lib.optimize_full(get_perturbed_vb_loss_flattened, deepcopy(vb_opt),\n",
    "                    bfgs_max_iter = 500, netwon_max_iter = 50,\n",
    "                    max_precondition_iter = 10,\n",
    "                    gtol=1e-8, ftol=1e-8, xtol=1e-8)"
   ]
  },
  {
   "cell_type": "code",
   "execution_count": 30,
   "metadata": {
    "collapsed": true
   },
   "outputs": [],
   "source": [
    "vb_pert_opt_dict = vb_params_paragami.fold(vb_pert_opt, free = True)\n",
    "e_z_pert_opt = gmm_lib.get_optimal_z_from_vb_params_dict(features, vb_pert_opt_dict, gh_loc, gh_weights)"
   ]
  },
  {
   "cell_type": "code",
   "execution_count": 31,
   "metadata": {},
   "outputs": [
    {
     "name": "stdout",
     "output_type": "stream",
     "text": [
      "Epsilon: 1.0\n"
     ]
    },
    {
     "data": {
      "text/plain": [
       "[<matplotlib.lines.Line2D at 0x7f8117b1dc18>]"
      ]
     },
     "execution_count": 31,
     "metadata": {},
     "output_type": "execute_result"
    },
    {
     "data": {
      "image/png": "[encoded data removed]",
      "text/plain": [
       "<Figure size 432x288 with 1 Axes>"
      ]
     },
     "metadata": {
      "needs_background": "light"
     },
     "output_type": "display_data"
    }
   ],
   "source": [
    "print('Epsilon:', epsilon)\n",
    "\n",
    "plt.figure()\n",
    "plt.subplot(1, 2, 1)\n",
    "plt.plot(vb_pert_opt - vb_opt, vb_pert_pred - vb_opt, 'k.')\n",
    "plt.plot(vb_pert_opt - vb_opt, vb_pert_opt - vb_opt, 'r')\n"
   ]
  },
  {
   "cell_type": "code",
   "execution_count": 32,
   "metadata": {},
   "outputs": [
    {
     "name": "stdout",
     "output_type": "stream",
     "text": [
      "original expected number of clusters:  11.02529438826174\n",
      "perturbed expected number of clusters:  8.41720310339044\n",
      "predicted expected number of clusters:  8.217579434199974\n"
     ]
    }
   ],
   "source": [
    "print('original expected number of clusters: ',\n",
    "    cluster_lib.get_e_number_clusters_from_logit_sticks(vb_opt_dict['stick_propn_mean'], \n",
    "                                                        vb_opt_dict['stick_propn_info'], \n",
    "                                                        n_obs = 150, \n",
    "                                                        n_samples = 10000))\n",
    "\n",
    "print('perturbed expected number of clusters: ',\n",
    "    cluster_lib.get_e_number_clusters_from_logit_sticks(vb_pert_opt_dict['stick_propn_mean'], \n",
    "                                                        vb_pert_opt_dict['stick_propn_info'], \n",
    "                                                        n_obs = 150, \n",
    "                                                        n_samples = 10000))\n",
    "\n",
    "print('predicted expected number of clusters: ',\n",
    "    cluster_lib.get_e_number_clusters_from_logit_sticks(vb_pert_pred_dict['stick_propn_mean'], \n",
    "                                                        vb_pert_pred_dict['stick_propn_info'], \n",
    "                                                        n_obs = 150, \n",
    "                                                        n_samples = 10000))\n",
    "\n",
    "\n",
    "      "
   ]
  },
  {
   "cell_type": "markdown",
   "metadata": {
    "collapsed": true
   },
   "source": [
    "# Predict for a range of perturbations"
   ]
  },
  {
   "cell_type": "code",
   "execution_count": 33,
   "metadata": {},
   "outputs": [
    {
     "name": "stdout",
     "output_type": "stream",
     "text": [
      "[0.   0.01 0.04 0.09 0.16 0.25 0.36 0.49 0.64 0.81 1.  ]\n"
     ]
    }
   ],
   "source": [
    "# The range of epsilons we shall consider\n",
    "epsilon_vec = np.linspace(0, 1, 11) ** 2 # Square to get more points close to 0\n",
    "print(epsilon_vec)"
   ]
  },
  {
   "cell_type": "code",
   "execution_count": 34,
   "metadata": {
    "collapsed": true
   },
   "outputs": [],
   "source": [
    "def refit_with_epsilon(epsilon, init_vb_opt):\n",
    "    # sets new epsilon, returns new vb optimum\n",
    "    \n",
    "    get_perturbed_vb_loss_flattened = get_loss_for_epsilon(epsilon)\n",
    "\n",
    "#     # set up new objective, with the prior changed\n",
    "#     get_perturbed_vb_loss = paragami.Functor(\n",
    "#         original_fun=fun_sens_lib.get_perturbed_kl, argnums=[1])\n",
    "    \n",
    "#     get_perturbed_vb_loss.cache_args(features, None, epsilon_param_dict, rescaled_log_phi, \n",
    "#                          prior_params_dict, gh_loc, gh_weights)\n",
    "\n",
    "#     get_perturbed_vb_loss_flattened = \\\n",
    "#         paragami.FlattenedFunction(original_fun=get_perturbed_vb_loss,\n",
    "#                                     patterns=vb_params_paragami,\n",
    "#                                     free=True)\n",
    "    \n",
    "    # optimize\n",
    "    vb_opt_pert = optimization_lib.optimize_full(\n",
    "        get_perturbed_vb_loss_flattened, deepcopy(init_vb_opt),\n",
    "        bfgs_max_iter = 0, netwon_max_iter = 50,\n",
    "        max_precondition_iter = 10,\n",
    "        gtol=1e-8, ftol=1e-8, xtol=1e-8)\n",
    "    \n",
    "    return vb_opt_pert"
   ]
  },
  {
   "cell_type": "code",
   "execution_count": 35,
   "metadata": {
    "scrolled": false
   },
   "outputs": [
    {
     "name": "stdout",
     "output_type": "stream",
     "text": [
      "\n",
      "\n",
      "Epsilon:  0.0\n",
      "Predicted differences:  0.0\n",
      "\n",
      " running preconditioned newton; iter =  0\n",
      "Computing Hessian to set preconditioner\n",
      "preconditioning time: 17.19\n",
      "running newton steps\n",
      "Iter 0: f = -337.20754827\n",
      "Iter 1: f = -337.20754827\n",
      "Warning: A bad approximation caused failure to predict improvement.\n",
      "         Current function value: -337.207548\n",
      "         Iterations: 0\n",
      "         Function evaluations: 2\n",
      "         Gradient evaluations: 1\n",
      "         Hessian evaluations: 0\n",
      "Iter 0: x_diff = 1.205294165255305e-12, f_diff = 2.7284841053187847e-12, grad_l1 = 1.5685369631377905e-08\n",
      "done. \n",
      "Done. \n",
      "Predicted differences:  0.0\n",
      "Actual differences: (This is nonzero if phi did anything): 1.2776111616926088e-13\n",
      "\n",
      "\n",
      "Epsilon:  0.010000000000000002\n",
      "Predicted differences:  0.061896620156772726\n",
      "\n",
      " running preconditioned newton; iter =  0\n",
      "Computing Hessian to set preconditioner\n",
      "preconditioning time: 15.46\n",
      "running newton steps\n",
      "Iter 0: f = -337.67199666\n",
      "Iter 1: f = -337.67338815\n",
      "Iter 2: f = -337.67338819\n",
      "Iter 3: f = -337.67338819\n",
      "Warning: A bad approximation caused failure to predict improvement.\n",
      "         Current function value: -337.673388\n",
      "         Iterations: 2\n",
      "         Function evaluations: 4\n",
      "         Gradient evaluations: 3\n",
      "         Hessian evaluations: 0\n",
      "Iter 0: x_diff = 0.5104709516607279, f_diff = 0.0013915356406073442, grad_l1 = 8.448214989782133e-07\n",
      "\n",
      " running preconditioned newton; iter =  1\n",
      "Computing Hessian to set preconditioner\n",
      "preconditioning time: 17.42\n",
      "running newton steps\n",
      "Iter 0: f = -337.67338819\n",
      "Iter 1: f = -337.67338819\n",
      "Warning: A bad approximation caused failure to predict improvement.\n",
      "         Current function value: -337.673388\n",
      "         Iterations: 0\n",
      "         Function evaluations: 2\n",
      "         Gradient evaluations: 1\n",
      "         Hessian evaluations: 0\n",
      "Iter 1: x_diff = 1.1853657703835008e-12, f_diff = 5.684341886080801e-13, grad_l1 = 8.450159485358227e-07\n",
      "done. \n",
      "Done. \n",
      "Predicted differences:  0.061896620156772726\n",
      "Actual differences: (This is nonzero if phi did anything): 0.062102078801318565\n",
      "\n",
      "\n",
      "Epsilon:  0.04000000000000001\n",
      "Predicted differences:  0.24758648062709157\n",
      "\n",
      " running preconditioned newton; iter =  0\n",
      "Computing Hessian to set preconditioner\n",
      "preconditioning time: 16.64\n",
      "running newton steps\n",
      "Iter 0: f = -339.06534183\n",
      "Iter 1: f = -339.08784519\n",
      "Iter 2: f = -339.08785671\n",
      "Iter 3: f = -339.08785671\n",
      "Iter 4: f = -339.08785671\n",
      "Warning: A bad approximation caused failure to predict improvement.\n",
      "         Current function value: -339.087857\n",
      "         Iterations: 3\n",
      "         Function evaluations: 5\n",
      "         Gradient evaluations: 4\n",
      "         Hessian evaluations: 0\n",
      "Iter 0: x_diff = 2.0557105084595717, f_diff = 0.022514882611972098, grad_l1 = 1.4930617897442634e-07\n",
      "\n",
      " running preconditioned newton; iter =  1\n",
      "Computing Hessian to set preconditioner\n",
      "preconditioning time: 16.10\n",
      "running newton steps\n",
      "Iter 0: f = -339.08785671\n",
      "Iter 1: f = -339.08785671\n",
      "Warning: A bad approximation caused failure to predict improvement.\n",
      "         Current function value: -339.087857\n",
      "         Iterations: 0\n",
      "         Function evaluations: 2\n",
      "         Gradient evaluations: 1\n",
      "         Hessian evaluations: 0\n",
      "Iter 1: x_diff = 1.3684930467473821e-12, f_diff = 1.8189894035458565e-12, grad_l1 = 1.4950969820516994e-07\n",
      "done. \n",
      "Done. \n",
      "Predicted differences:  0.24758648062709157\n",
      "Actual differences: (This is nonzero if phi did anything): 0.2509612113318279\n",
      "\n",
      "\n",
      "Epsilon:  0.09000000000000002\n",
      "Predicted differences:  0.5570695814109561\n",
      "\n",
      " running preconditioned newton; iter =  0\n",
      "Computing Hessian to set preconditioner\n",
      "preconditioning time: 15.96\n",
      "running newton steps\n",
      "Iter 0: f = -341.38758378\n",
      "Iter 1: f = -341.50342072\n",
      "Iter 2: f = -341.50374190\n",
      "Iter 3: f = -341.50375098\n",
      "Iter 4: f = -341.50375099\n",
      "Iter 5: f = -341.50375099\n",
      "Optimization terminated successfully.\n",
      "         Current function value: -341.503751\n",
      "         Iterations: 5\n",
      "         Function evaluations: 6\n",
      "         Gradient evaluations: 6\n",
      "         Hessian evaluations: 0\n",
      "Iter 0: x_diff = 4.681803699198881, f_diff = 0.1161672072124702, grad_l1 = 1.156854548343606e-09\n",
      "done. \n",
      "Done. \n",
      "Predicted differences:  0.5570695814109561\n",
      "Actual differences: (This is nonzero if phi did anything): 0.575073666881207\n",
      "\n",
      "\n",
      "Epsilon:  0.16000000000000003\n",
      "Predicted differences:  0.9903459225083662\n",
      "\n",
      " running preconditioned newton; iter =  0\n",
      "Computing Hessian to set preconditioner\n",
      "preconditioning time: 16.91\n",
      "running newton steps\n",
      "Iter 0: f = -344.63872251\n",
      "Iter 1: f = -345.01215565\n",
      "Iter 2: f = -345.01583370\n",
      "Iter 3: f = -345.01604955\n",
      "Iter 4: f = -345.01605336\n",
      "Iter 5: f = -345.01605336\n",
      "Iter 6: f = -345.01605336\n",
      "Warning: A bad approximation caused failure to predict improvement.\n",
      "         Current function value: -345.016053\n",
      "         Iterations: 5\n",
      "         Function evaluations: 7\n",
      "         Gradient evaluations: 6\n",
      "         Hessian evaluations: 0\n",
      "Iter 0: x_diff = 8.48995682930442, f_diff = 0.37733084392152705, grad_l1 = 1.1302785647467902e-06\n",
      "\n",
      " running preconditioned newton; iter =  1\n",
      "Computing Hessian to set preconditioner\n",
      "preconditioning time: 16.69\n",
      "running newton steps\n",
      "Iter 0: f = -345.01605336\n",
      "Iter 1: f = -345.01605336\n",
      "Warning: A bad approximation caused failure to predict improvement.\n",
      "         Current function value: -345.016053\n",
      "         Iterations: 0\n",
      "         Function evaluations: 2\n",
      "         Gradient evaluations: 1\n",
      "         Hessian evaluations: 0\n",
      "Iter 1: x_diff = 1.3077008687066918e-12, f_diff = 1.0800249583553523e-12, grad_l1 = 1.1306369274088495e-06\n",
      "done. \n",
      "Done. \n",
      "Predicted differences:  0.9903459225083662\n",
      "Actual differences: (This is nonzero if phi did anything): 1.052984131346732\n",
      "\n",
      "\n",
      "Epsilon:  0.25\n",
      "Predicted differences:  1.5474155039193223\n",
      "\n",
      " running preconditioned newton; iter =  0\n",
      "Computing Hessian to set preconditioner\n",
      "preconditioning time: 17.24\n",
      "running newton steps\n",
      "Iter 0: f = -348.81875803\n",
      "Iter 1: f = -349.72549522\n",
      "Iter 2: f = -349.77123375\n",
      "Iter 3: f = -349.77382437\n",
      "Iter 4: f = -349.77388811\n",
      "Iter 5: f = -349.77388815\n",
      "Iter 6: f = -349.77388815\n",
      "Optimization terminated successfully.\n",
      "         Current function value: -349.773888\n",
      "         Iterations: 6\n",
      "         Function evaluations: 7\n",
      "         Gradient evaluations: 7\n",
      "         Hessian evaluations: 0\n",
      "Iter 0: x_diff = 13.616904861354929, f_diff = 0.9551301224094004, grad_l1 = 1.4165944458753257e-08\n",
      "done. \n",
      "Done. \n",
      "Predicted differences:  1.5474155039193223\n",
      "Actual differences: (This is nonzero if phi did anything): 1.7159566171192517\n",
      "\n",
      "\n",
      "Epsilon:  0.3600000000000001\n",
      "Predicted differences:  2.228278325643824\n",
      "\n",
      " running preconditioned newton; iter =  0\n",
      "Computing Hessian to set preconditioner\n",
      "preconditioning time: 16.81\n",
      "running newton steps\n",
      "Iter 0: f = -353.92769032\n",
      "Iter 1: f = -355.57074887\n",
      "Iter 2: f = -355.98048229\n",
      "Iter 3: f = -355.99247469\n",
      "Iter 4: f = -355.99751641\n",
      "Iter 5: f = -355.99764091\n",
      "Iter 6: f = -355.99764105\n",
      "Iter 7: f = -355.99764105\n",
      "Optimization terminated successfully.\n",
      "         Current function value: -355.997641\n",
      "         Iterations: 7\n",
      "         Function evaluations: 8\n",
      "         Gradient evaluations: 8\n",
      "         Hessian evaluations: 0\n",
      "Iter 0: x_diff = 19.98570273906461, f_diff = 2.0699507337417344, grad_l1 = 1.4667049408893377e-07\n",
      "done. \n",
      "Done. \n",
      "Predicted differences:  2.228278325643824\n",
      "Actual differences: (This is nonzero if phi did anything): 2.5560636253186906\n",
      "\n",
      "\n",
      "Epsilon:  0.4900000000000001\n",
      "Predicted differences:  3.032934387681872\n",
      "\n",
      " running preconditioned newton; iter =  0\n",
      "Computing Hessian to set preconditioner\n",
      "preconditioning time: 17.59\n",
      "running newton steps\n",
      "Iter 0: f = -359.96551940\n",
      "Iter 1: f = -362.60314530\n",
      "Iter 2: f = -363.90322139\n",
      "Iter 3: f = -363.99332989\n",
      "Iter 4: f = -364.00454078\n",
      "Iter 5: f = -364.00785393\n",
      "Iter 6: f = -364.00791171\n",
      "Iter 7: f = -364.00791184\n",
      "Iter 8: f = -364.00791184\n",
      "Optimization terminated successfully.\n",
      "         Current function value: -364.007912\n",
      "         Iterations: 8\n",
      "         Function evaluations: 9\n",
      "         Gradient evaluations: 9\n",
      "         Hessian evaluations: 0\n",
      "Iter 0: x_diff = 27.69454468851011, f_diff = 4.042392448915621, grad_l1 = 7.091401099517718e-08\n",
      "done. \n",
      "Done. \n",
      "Predicted differences:  3.032934387681872\n",
      "Actual differences: (This is nonzero if phi did anything): 3.565174750937054\n",
      "\n",
      "\n",
      "Epsilon:  0.6400000000000001\n",
      "Predicted differences:  3.9613836900334642\n",
      "\n",
      " running preconditioned newton; iter =  0\n",
      "Computing Hessian to set preconditioner\n"
     ]
    },
    {
     "name": "stdout",
     "output_type": "stream",
     "text": [
      "preconditioning time: 14.68\n",
      "running newton steps\n",
      "Iter 0: f = -366.93224525\n",
      "Iter 1: f = -370.97658288\n",
      "Iter 2: f = -373.90471233\n",
      "Iter 3: f = -374.19625531\n",
      "Iter 4: f = -374.25594948\n",
      "Iter 5: f = -374.27759336\n",
      "Iter 6: f = -374.28271107\n",
      "Iter 7: f = -374.28325036\n",
      "Iter 8: f = -374.28325460\n",
      "Iter 9: f = -374.28325461\n",
      "Iter 10: f = -374.28325461\n",
      "Iter 11: f = -374.28325461\n",
      "Iter 12: f = -374.28325461\n",
      "Iter 13: f = -374.28325461\n",
      "Iter 14: f = -374.28325461\n",
      "Iter 15: f = -374.28325461\n",
      "Iter 16: f = -374.28325461\n",
      "Iter 17: f = -374.28325461\n",
      "Iter 18: f = -374.28325461\n",
      "Iter 19: f = -374.28325461\n",
      "Iter 20: f = -374.28325461\n",
      "Iter 21: f = -374.28325461\n",
      "Iter 22: f = -374.28325461\n",
      "Iter 23: f = -374.28325461\n",
      "Optimization terminated successfully.\n",
      "         Current function value: -374.283255\n",
      "         Iterations: 23\n",
      "         Function evaluations: 24\n",
      "         Gradient evaluations: 13\n",
      "         Hessian evaluations: 0\n",
      "Iter 0: x_diff = 37.55523193456464, f_diff = 7.351009358003921, grad_l1 = 7.767245148078777e-10\n",
      "done. \n",
      "Done. \n",
      "Predicted differences:  3.9613836900334642\n",
      "Actual differences: (This is nonzero if phi did anything): 4.814511263150206\n",
      "\n",
      "\n",
      "Epsilon:  0.81\n",
      "Predicted differences:  5.013626232698605\n",
      "\n",
      " running preconditioned newton; iter =  0\n",
      "Computing Hessian to set preconditioner\n",
      "preconditioning time: 14.19\n",
      "running newton steps\n",
      "Iter 0: f = -374.82786789\n",
      "Iter 1: f = -381.12760094\n",
      "Iter 2: f = -386.23573907\n",
      "Iter 3: f = -386.94313256\n",
      "Iter 4: f = -387.45890338\n",
      "Iter 5: f = -387.50296334\n",
      "Iter 6: f = -387.52906110\n",
      "Iter 7: f = -387.53470535\n",
      "Iter 8: f = -387.53540994\n",
      "Iter 9: f = -387.53542261\n",
      "Iter 10: f = -387.53542264\n",
      "Iter 11: f = -387.53542264\n",
      "Optimization terminated successfully.\n",
      "         Current function value: -387.535423\n",
      "         Iterations: 11\n",
      "         Function evaluations: 12\n",
      "         Gradient evaluations: 12\n",
      "         Hessian evaluations: 0\n",
      "Iter 0: x_diff = 50.04112639469998, f_diff = 12.707554751344105, grad_l1 = 7.965915367794991e-08\n",
      "done. \n",
      "Done. \n",
      "Predicted differences:  5.013626232698605\n",
      "Actual differences: (This is nonzero if phi did anything): 6.369664509617867\n",
      "\n",
      "\n",
      "Epsilon:  1.0\n",
      "Predicted differences:  6.189662015677288\n",
      "\n",
      " running preconditioned newton; iter =  0\n",
      "Computing Hessian to set preconditioner\n",
      "preconditioning time: 21.31\n",
      "running newton steps\n",
      "Iter 0: f = -383.65238730\n"
     ]
    },
    {
     "name": "stderr",
     "output_type": "stream",
     "text": [
      "/home/rgiordan/Documents/git_repos/BNP_sensitivity/RegressionClustering/venv/lib/python3.5/site-packages/autograd/tracer.py:48: RuntimeWarning: overflow encountered in exp\n",
      "  return f_raw(*args, **kwargs)\n"
     ]
    },
    {
     "name": "stdout",
     "output_type": "stream",
     "text": [
      "Iter 1: f = 1426.22447195\n",
      "Iter 2: f = -191.75890240\n",
      "Iter 3: f = -382.65461058\n",
      "Iter 4: f = -384.56714096\n",
      "Iter 5: f = -384.99987021\n",
      "Iter 6: f = -385.44358605\n",
      "Iter 7: f = -385.59296590\n",
      "Iter 8: f = -385.81767919\n",
      "Iter 9: f = -386.13848148\n",
      "Iter 10: f = -385.88050239\n",
      "Iter 11: f = -386.27032361\n",
      "Iter 12: f = -386.60535953\n",
      "Iter 13: f = -386.55054170\n",
      "Iter 14: f = -386.74639666\n",
      "Iter 15: f = -387.08285508\n",
      "Iter 16: f = -387.59022784\n",
      "Iter 17: f = -387.81569460\n",
      "Iter 18: f = -388.95899705\n",
      "Iter 19: f = -389.01307790\n",
      "Iter 20: f = -389.01307790\n",
      "Iter 21: f = -389.17540641\n",
      "Iter 22: f = -389.26945789\n",
      "Iter 23: f = -389.37565783\n",
      "Iter 24: f = -389.61825894\n",
      "Iter 25: f = -389.74317992\n",
      "Iter 26: f = -389.82544745\n",
      "Iter 27: f = -390.37948275\n",
      "Iter 28: f = -390.50124947\n",
      "Iter 29: f = -391.42245481\n",
      "Iter 30: f = -391.74449647\n",
      "Iter 31: f = -393.95717024\n",
      "Iter 32: f = -394.15480063\n",
      "Iter 33: f = -394.28268716\n",
      "Iter 34: f = -397.65601798\n",
      "Iter 35: f = -398.05030761\n",
      "Iter 36: f = -398.12943999\n",
      "Iter 37: f = -398.27223167\n",
      "Iter 38: f = -402.09783942\n",
      "Iter 39: f = -402.16859706\n",
      "Iter 40: f = -403.85301678\n",
      "Iter 41: f = -404.47557256\n",
      "Iter 42: f = -404.62154790\n",
      "Iter 43: f = -404.74661101\n",
      "Iter 44: f = -404.75750122\n",
      "Iter 45: f = -404.76743241\n",
      "Iter 46: f = -404.76834091\n",
      "Iter 47: f = -404.76841687\n",
      "Iter 48: f = -404.76841716\n",
      "Iter 49: f = -404.76841716\n",
      "Iter 50: f = -404.76841716\n",
      "Warning: A bad approximation caused failure to predict improvement.\n",
      "         Current function value: -404.768417\n",
      "         Iterations: 49\n",
      "         Function evaluations: 51\n",
      "         Gradient evaluations: 43\n",
      "         Hessian evaluations: 0\n",
      "Iter 0: x_diff = 65.39519701455049, f_diff = 21.11602985809924, grad_l1 = 2.377529788042381e-06\n",
      "\n",
      " running preconditioned newton; iter =  1\n",
      "Computing Hessian to set preconditioner\n",
      "preconditioning time: 16.97\n",
      "running newton steps\n",
      "Iter 0: f = -404.76841716\n",
      "Iter 1: f = -404.76841716\n",
      "Warning: A bad approximation caused failure to predict improvement.\n",
      "         Current function value: -404.768417\n",
      "         Iterations: 0\n",
      "         Function evaluations: 2\n",
      "         Gradient evaluations: 1\n",
      "         Hessian evaluations: 0\n",
      "Iter 1: x_diff = 1.181028648317838e-12, f_diff = 1.7053025658242404e-13, grad_l1 = 2.377612962640578e-06\n",
      "done. \n",
      "Done. \n",
      "Predicted differences:  6.189662015677288\n",
      "Actual differences: (This is nonzero if phi did anything): 8.237861945626745\n"
     ]
    }
   ],
   "source": [
    "vb_pert_opt_array = []\n",
    "vb_pert_pred_array = []\n",
    "\n",
    "\n",
    "for i in range(len(epsilon_vec)): \n",
    "    epsilon = epsilon_vec[i]\n",
    "    print('\\n\\nEpsilon: ', epsilon)\n",
    "    \n",
    "    # get linear predictions\n",
    "    vb_pert_pred = \\\n",
    "        epsilon_sens.evaluate_taylor_series(epsilon)\n",
    "\n",
    "    print('Predicted differences: ', np.linalg.norm(vb_pert_pred - vb_opt))\n",
    "    \n",
    "    # Then fit with the perturbation.\n",
    "    vb_pert_opt = refit_with_epsilon(epsilon, vb_opt)\n",
    "    \n",
    "    print('Done. ')\n",
    "\n",
    "    print('Predicted differences: ', np.linalg.norm(vb_pert_pred - vb_opt))\n",
    "    print('Actual differences: (This is nonzero if phi did anything):',\n",
    "          np.linalg.norm(vb_pert_opt - vb_opt))\n",
    "    \n",
    "    # save results: \n",
    "    vb_pert_opt_array.append(vb_pert_opt)\n",
    "    vb_pert_pred_array.append(vb_pert_pred)\n",
    "    \n"
   ]
  },
  {
   "cell_type": "markdown",
   "metadata": {},
   "source": [
    "# Lets look at the expected number of clusters"
   ]
  },
  {
   "cell_type": "markdown",
   "metadata": {},
   "source": [
    "### Number of in sample clusters"
   ]
  },
  {
   "cell_type": "code",
   "execution_count": 37,
   "metadata": {},
   "outputs": [
    {
     "name": "stderr",
     "output_type": "stream",
     "text": [
      "100%|██████████| 11/11 [00:00<00:00, 24.40it/s]\n"
     ]
    }
   ],
   "source": [
    "threshold = 0\n",
    "\n",
    "lr_e_num_clusters_vec = np.zeros(len(epsilon_vec))\n",
    "refit_e_num_clusters_vec = np.zeros(len(epsilon_vec))\n",
    "\n",
    "for i in tqdm(range(len(epsilon_vec))): \n",
    "    # number of clusters as predicted by linear response\n",
    "    lr_e_num_clusters, _ = gmm_lib.get_e_num_clusters_from_free_par(features, vb_params_paragami, \n",
    "                                    vb_pert_pred_array[i],\n",
    "                                    gh_loc, gh_weights,\n",
    "                                    threshold = threshold,\n",
    "                                    n_samples = 1000)\n",
    "    \n",
    "    lr_e_num_clusters_vec[i] = lr_e_num_clusters\n",
    "    \n",
    "    # number of clusters after refitting \n",
    "    refit_e_num_clusters, _ = gmm_lib.get_e_num_clusters_from_free_par(features, vb_params_paragami, \n",
    "                                    vb_pert_opt_array[i],\n",
    "                                    gh_loc, gh_weights,\n",
    "                                    threshold = threshold,\n",
    "                                    n_samples = 1000)\n",
    "    \n",
    "    refit_e_num_clusters_vec[i] = refit_e_num_clusters\n",
    "    \n"
   ]
  },
  {
   "cell_type": "code",
   "execution_count": 38,
   "metadata": {},
   "outputs": [
    {
     "data": {
      "text/plain": [
       "<matplotlib.legend.Legend at 0x7f8117a1ae48>"
      ]
     },
     "execution_count": 38,
     "metadata": {},
     "output_type": "execute_result"
    },
    {
     "data": {
      "image/png": "[encoded data removed]",
      "text/plain": [
       "<Figure size 432x288 with 1 Axes>"
      ]
     },
     "metadata": {
      "needs_background": "light"
     },
     "output_type": "display_data"
    }
   ],
   "source": [
    "plt.plot(epsilon_vec, lr_e_num_clusters_vec, '+--')\n",
    "plt.plot(epsilon_vec, refit_e_num_clusters_vec, '+-')\n",
    "\n",
    "plt.xlabel('alpha')\n",
    "plt.ylabel('num posterior clusters')\n",
    "plt.legend(('lr', 'refit'))\n"
   ]
  },
  {
   "cell_type": "markdown",
   "metadata": {},
   "source": [
    "### Number of predicted clusters"
   ]
  },
  {
   "cell_type": "code",
   "execution_count": 39,
   "metadata": {},
   "outputs": [
    {
     "name": "stderr",
     "output_type": "stream",
     "text": [
      "100%|██████████| 11/11 [00:00<00:00, 57.38it/s]\n"
     ]
    }
   ],
   "source": [
    "threshold = 0\n",
    "\n",
    "lr_e_num_pred_clusters_vec = np.zeros(len(epsilon_vec))\n",
    "refit_e_num_pred_clusters_vec = np.zeros(len(epsilon_vec))\n",
    "\n",
    "for i in tqdm(range(len(epsilon_vec))): \n",
    "     # number of clusters as predicted by linear response\n",
    "    lr_e_num_pred_clusters = gmm_lib.get_e_num_pred_clusters_from_vb_free_params(vb_params_paragami, \n",
    "                                    vb_pert_pred_array[i],\n",
    "                                    n_obs = np.shape(features)[0], \n",
    "                                    threshold = threshold,\n",
    "                                    n_samples = 1000)\n",
    "    \n",
    "    lr_e_num_pred_clusters_vec[i] = lr_e_num_pred_clusters\n",
    "    \n",
    "    # number of clusters after refitting \n",
    "    refit_e_num_pred_clusters = gmm_lib.get_e_num_pred_clusters_from_vb_free_params(vb_params_paragami, \n",
    "                                    vb_pert_opt_array[i],\n",
    "                                    n_obs = np.shape(features)[0], \n",
    "                                    threshold = threshold,\n",
    "                                    n_samples = 1000)\n",
    "    \n",
    "    refit_e_num_pred_clusters_vec[i] = refit_e_num_pred_clusters\n",
    "    \n"
   ]
  },
  {
   "cell_type": "code",
   "execution_count": 40,
   "metadata": {},
   "outputs": [
    {
     "data": {
      "text/plain": [
       "<matplotlib.legend.Legend at 0x7f8117c854e0>"
      ]
     },
     "execution_count": 40,
     "metadata": {},
     "output_type": "execute_result"
    },
    {
     "data": {
      "image/png": "[encoded data removed]",
      "text/plain": [
       "<Figure size 432x288 with 1 Axes>"
      ]
     },
     "metadata": {
      "needs_background": "light"
     },
     "output_type": "display_data"
    }
   ],
   "source": [
    "plt.plot(epsilon_vec, lr_e_num_pred_clusters_vec, '+--')\n",
    "plt.plot(epsilon_vec, refit_e_num_pred_clusters_vec, '+-')\n",
    "\n",
    "plt.xlabel('balpha')\n",
    "plt.ylabel('num posterior clusters')\n",
    "plt.legend(('lr', 'refit'))"
   ]
  }
 ],
 "metadata": {
  "kernelspec": {
   "display_name": "bnpgmm_runjingdev",
   "language": "python",
   "name": "bnpgmm_runjingdev"
  },
  "language_info": {
   "codemirror_mode": {
    "name": "ipython",
    "version": 3
   },
   "file_extension": ".py",
   "mimetype": "text/x-python",
   "name": "python",
   "nbconvert_exporter": "python",
   "pygments_lexer": "ipython3",
   "version": "3.5.2"
  }
 },
 "nbformat": 4,
 "nbformat_minor": 2
}
