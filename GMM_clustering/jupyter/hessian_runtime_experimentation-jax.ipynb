{
 "cells": [
  {
   "cell_type": "code",
   "execution_count": 1,
   "metadata": {},
   "outputs": [
    {
     "name": "stderr",
     "output_type": "stream",
     "text": [
      "/home/rliu/anaconda3/envs/bnp_sensitivity_jax/lib/python3.8/site-packages/jax/lib/xla_bridge.py:130: UserWarning: No GPU/TPU found, falling back to CPU.\n",
      "  warnings.warn('No GPU/TPU found, falling back to CPU.')\n"
     ]
    }
   ],
   "source": [
    "import jax\n",
    "from jax import numpy as np\n",
    "from jax import scipy as sp\n",
    "\n",
    "import scipy as osp\n",
    "\n",
    "from numpy.polynomial.hermite import hermgauss\n",
    "\n",
    "import paragami\n",
    "\n",
    "# BNP sensitivity libraries\n",
    "import bnpgmm_runjingdev.gmm_clustering_lib as gmm_lib\n",
    "import bnpgmm_runjingdev.utils_lib as utils_lib\n",
    "import bnpgmm_runjingdev.gmm_cavi_lib as cavi_lib\n",
    "import bnpgmm_runjingdev.gmm_preconditioner_lib as preconditioner_lib\n",
    "import bnpgmm_runjingdev.hessian_lib as hessian_lib\n",
    "\n",
    "import bnpmodeling_runjingdev.modeling_lib as modeling_lib \n",
    "import bnpmodeling_runjingdev.cluster_quantities_lib as cluster_lib\n",
    "import bnpmodeling_runjingdev.optimization_lib as optimization_lib\n",
    "\n",
    "\n",
    "import matplotlib.pyplot as plt\n",
    "%matplotlib inline\n",
    "import matplotlib.cm as cm\n",
    "\n",
    "from sklearn.decomposition import PCA\n",
    "\n",
    "from copy import deepcopy\n",
    "\n",
    "import vittles\n",
    "\n",
    "import time \n",
    "\n",
    "import json \n",
    "\n",
    "import scipy as osp"
   ]
  },
  {
   "cell_type": "code",
   "execution_count": null,
   "metadata": {},
   "outputs": [],
   "source": []
  },
  {
   "cell_type": "markdown",
   "metadata": {
    "collapsed": true
   },
   "source": [
    "# Load data"
   ]
  },
  {
   "cell_type": "code",
   "execution_count": 2,
   "metadata": {},
   "outputs": [],
   "source": [
    "# load iris data\n",
    "dataset_name = 'iris'\n",
    "features, iris_species = utils_lib.load_data()\n",
    "dim = features.shape[1]\n",
    "n_obs = len(iris_species)    "
   ]
  },
  {
   "cell_type": "code",
   "execution_count": 3,
   "metadata": {},
   "outputs": [
    {
     "data": {
      "text/plain": [
       "Text(0, 0.5, 'PC2')"
      ]
     },
     "execution_count": 3,
     "metadata": {},
     "output_type": "execute_result"
    },
    {
     "data": {
      "image/png": "[encoded data removed]",
      "text/plain": [
       "<Figure size 432x288 with 1 Axes>"
      ]
     },
     "metadata": {
      "needs_background": "light"
     },
     "output_type": "display_data"
    }
   ],
   "source": [
    "# run PCA\n",
    "pca_fit = PCA()\n",
    "pca_fit.fit(features)\n",
    "pc_features = pca_fit.transform(features)\n",
    "\n",
    "# plot\n",
    "cmap = cm.get_cmap(name='gist_rainbow')\n",
    "colors1 = [cmap(k * 50) for k in range(30)]\n",
    "\n",
    "fig1 = plt.figure(1)\n",
    "fig = fig1.add_subplot(111)\n",
    "utils_lib.plot_clusters(pc_features[:, 0], pc_features[:, 1], iris_species, colors1, fig)\n",
    "fig.set_xlabel('PC1')\n",
    "fig.set_ylabel('PC2')\n"
   ]
  },
  {
   "cell_type": "markdown",
   "metadata": {},
   "source": [
    "# Get prior"
   ]
  },
  {
   "cell_type": "code",
   "execution_count": 4,
   "metadata": {},
   "outputs": [
    {
     "name": "stdout",
     "output_type": "stream",
     "text": [
      "{'alpha': DeviceArray([3.], dtype=float64), 'prior_centroid_mean': DeviceArray([0.], dtype=float64), 'prior_lambda': DeviceArray([1.], dtype=float64), 'prior_wishart_df': DeviceArray([10.], dtype=float64), 'prior_wishart_rate': DeviceArray([[1., 0., 0., 0.],\n",
      "             [0., 1., 0., 0.],\n",
      "             [0., 0., 1., 0.],\n",
      "             [0., 0., 0., 1.]], dtype=float64)}\n"
     ]
    }
   ],
   "source": [
    "prior_params_dict, prior_params_paragami = gmm_lib.get_default_prior_params(dim)\n",
    "prior_params_dict['alpha'] = np.array([3.0])\n",
    "print(prior_params_dict)\n",
    "\n",
    "prior_params_free = prior_params_paragami.flatten(prior_params_dict, free = True)"
   ]
  },
  {
   "cell_type": "markdown",
   "metadata": {},
   "source": [
    "# Get VB params "
   ]
  },
  {
   "cell_type": "code",
   "execution_count": 5,
   "metadata": {},
   "outputs": [],
   "source": [
    "k_approx = 30"
   ]
  },
  {
   "cell_type": "code",
   "execution_count": 6,
   "metadata": {},
   "outputs": [],
   "source": [
    "gh_deg = 8\n",
    "gh_loc, gh_weights = hermgauss(gh_deg)"
   ]
  },
  {
   "cell_type": "code",
   "execution_count": 7,
   "metadata": {
    "scrolled": true
   },
   "outputs": [],
   "source": [
    "# get vb parameters\n",
    "vb_params_dict, vb_params_paragami = gmm_lib.get_vb_params_paragami_object(dim, k_approx)"
   ]
  },
  {
   "cell_type": "code",
   "execution_count": 8,
   "metadata": {},
   "outputs": [
    {
     "data": {
      "text/plain": [
       "DeviceArray([1624.52172355], dtype=float64)"
      ]
     },
     "execution_count": 8,
     "metadata": {},
     "output_type": "execute_result"
    }
   ],
   "source": [
    "# the objective \n",
    "gmm_lib.get_kl(features, vb_params_dict, prior_params_dict, gh_loc, gh_weights)"
   ]
  },
  {
   "cell_type": "code",
   "execution_count": null,
   "metadata": {},
   "outputs": [],
   "source": []
  },
  {
   "cell_type": "markdown",
   "metadata": {},
   "source": [
    "## Initialize "
   ]
  },
  {
   "cell_type": "code",
   "execution_count": 9,
   "metadata": {},
   "outputs": [
    {
     "name": "stdout",
     "output_type": "stream",
     "text": [
      "initial kl: \n",
      "[6580.09503706]\n"
     ]
    }
   ],
   "source": [
    "# run a kmeans init\n",
    "n_kmeans_init = 10\n",
    "init_vb_free_params, init_vb_params_dict, init_ez = \\\n",
    "    utils_lib.cluster_and_get_k_means_inits(features, vb_params_paragami, \n",
    "                                                n_kmeans_init = n_kmeans_init, \n",
    "                                                seed = 3445)\n",
    "                                                \n",
    "print('initial kl: ')\n",
    "print(gmm_lib.get_kl(features, init_vb_params_dict, prior_params_dict, gh_loc, gh_weights))"
   ]
  },
  {
   "cell_type": "code",
   "execution_count": 10,
   "metadata": {},
   "outputs": [],
   "source": [
    "def plot_results_from_vb_params_dict(pca_fit, vb_params_dict, e_z, fig): \n",
    "    # we plot in PCA space\n",
    "    bnp_centroids_pc, bnp_cluster_covs_pc = \\\n",
    "        utils_lib.transform_params_to_pc_space(pca_fit, vb_params_dict['cluster_params']['centroids'], \n",
    "                                               np.linalg.inv(vb_params_dict['cluster_params']['cluster_info']))\n",
    "    \n",
    "    bnp_clusters = np.argmax(e_z, axis = 1)\n",
    "    \n",
    "    cmap = cm.get_cmap(name='gist_rainbow')\n",
    "    colors1 = [cmap(k * 50) for k in range(30)]\n",
    "\n",
    "    utils_lib.plot_clusters(pc_features[:, 0], pc_features[:, 1], bnp_clusters, \\\n",
    "                  colors1, fig, \\\n",
    "                  centroids = bnp_centroids_pc[:, np.unique(bnp_clusters)], \n",
    "                cov = bnp_cluster_covs_pc[np.unique(bnp_clusters), :, :])\n"
   ]
  },
  {
   "cell_type": "code",
   "execution_count": 11,
   "metadata": {},
   "outputs": [
    {
     "data": {
      "text/plain": [
       "Text(0, 0.5, 'PC2')"
      ]
     },
     "execution_count": 11,
     "metadata": {},
     "output_type": "execute_result"
    },
    {
     "data": {
      "image/png": "[encoded data removed]",
      "text/plain": [
       "<Figure size 432x288 with 1 Axes>"
      ]
     },
     "metadata": {
      "needs_background": "light"
     },
     "output_type": "display_data"
    }
   ],
   "source": [
    "fig1 = plt.figure(1)\n",
    "fig = fig1.add_subplot(111)\n",
    "\n",
    "plot_results_from_vb_params_dict(pca_fit, init_vb_params_dict, init_ez, fig)\n",
    "fig.set_xlabel('PC1', fontsize = 18)\n",
    "fig.set_ylabel('PC2', fontsize = 18)\n"
   ]
  },
  {
   "cell_type": "code",
   "execution_count": null,
   "metadata": {},
   "outputs": [],
   "source": []
  },
  {
   "cell_type": "markdown",
   "metadata": {},
   "source": [
    "# Run CAVI"
   ]
  },
  {
   "cell_type": "code",
   "execution_count": 12,
   "metadata": {},
   "outputs": [],
   "source": [
    "vb_params_dict = deepcopy(init_vb_params_dict)"
   ]
  },
  {
   "cell_type": "code",
   "execution_count": 13,
   "metadata": {
    "scrolled": true
   },
   "outputs": [
    {
     "name": "stdout",
     "output_type": "stream",
     "text": [
      "done. num iterations = 100\n",
      "stick_time: 2.542sec\n",
      "cluster_time: 1.017sec\n",
      "e_z_time: 0.626sec\n",
      "**TOTAL time: 7.747sec**\n"
     ]
    }
   ],
   "source": [
    "vb_opt_dict, e_z_opt = cavi_lib.run_cavi(features, vb_params_dict,\n",
    "                                            vb_params_paragami, prior_params_dict,\n",
    "                                            gh_loc, gh_weights,\n",
    "                                            debug = False)"
   ]
  },
  {
   "cell_type": "code",
   "execution_count": 14,
   "metadata": {},
   "outputs": [],
   "source": [
    "vb_opt = vb_params_paragami.flatten(vb_opt_dict, free = True)"
   ]
  },
  {
   "cell_type": "code",
   "execution_count": 15,
   "metadata": {},
   "outputs": [
    {
     "data": {
      "text/plain": [
       "DeviceArray(0.45070642, dtype=float64)"
      ]
     },
     "execution_count": 15,
     "metadata": {},
     "output_type": "execute_result"
    }
   ],
   "source": [
    "(vb_opt**2).mean()"
   ]
  },
  {
   "cell_type": "code",
   "execution_count": 16,
   "metadata": {},
   "outputs": [
    {
     "name": "stdout",
     "output_type": "stream",
     "text": [
      "optimized kl: \n",
      "[-388.28035483]\n"
     ]
    }
   ],
   "source": [
    "print('optimized kl: ')\n",
    "print(gmm_lib.get_kl(features, vb_opt_dict, prior_params_dict, gh_loc, gh_weights))"
   ]
  },
  {
   "cell_type": "code",
   "execution_count": null,
   "metadata": {},
   "outputs": [],
   "source": []
  },
  {
   "cell_type": "markdown",
   "metadata": {},
   "source": [
    "# Define objective"
   ]
  },
  {
   "cell_type": "code",
   "execution_count": 18,
   "metadata": {},
   "outputs": [],
   "source": [
    "# get loss as a function of vb parameters\n",
    "get_vb_params_loss = paragami.FlattenFunctionInput(\n",
    "                                original_fun=gmm_lib.get_kl, \n",
    "                                patterns = [vb_params_paragami, prior_params_paragami],\n",
    "                                free = True,\n",
    "                                argnums = [1, 2])\n",
    "\n",
    "\n",
    "objective_fun = lambda x, y : get_vb_params_loss(features, x, y, gh_loc, gh_weights).squeeze()\n"
   ]
  },
  {
   "cell_type": "code",
   "execution_count": 21,
   "metadata": {},
   "outputs": [],
   "source": [
    "def get_jac_hvp_fun(f):\n",
    "    def hvp(x, v):\n",
    "        return jax.jvp(jax.grad(f), (x, ), (v, ))[1]\n",
    "    return hvp"
   ]
  },
  {
   "cell_type": "code",
   "execution_count": 22,
   "metadata": {},
   "outputs": [],
   "source": [
    "# get derivative functions\n",
    "obj_fun_grad = jax.jit(jax.grad(objective_fun, argnums = 0))\n",
    "obj_fun_hessian = jax.jit(jax.hessian(objective_fun, argnums = 0))\n",
    "\n",
    "obj_fun_hvp = jax.jit(get_jac_hvp_fun(lambda x : objective_fun(x, prior_params_free)))"
   ]
  },
  {
   "cell_type": "code",
   "execution_count": null,
   "metadata": {},
   "outputs": [],
   "source": []
  },
  {
   "cell_type": "markdown",
   "metadata": {},
   "source": [
    "# Derivative times"
   ]
  },
  {
   "cell_type": "code",
   "execution_count": 23,
   "metadata": {},
   "outputs": [
    {
     "name": "stdout",
     "output_type": "stream",
     "text": [
      "function time: 0.605sec\n"
     ]
    }
   ],
   "source": [
    "t0 = time.time()\n",
    "loss = objective_fun(vb_opt, prior_params_free)\n",
    "print('function time: {:0.3}sec'.format(time.time() - t0))"
   ]
  },
  {
   "cell_type": "code",
   "execution_count": 24,
   "metadata": {},
   "outputs": [
    {
     "name": "stdout",
     "output_type": "stream",
     "text": [
      "gradient time: 8.68sec\n"
     ]
    }
   ],
   "source": [
    "t0 = time.time()\n",
    "grad = obj_fun_grad(vb_opt, prior_params_free)\n",
    "print('gradient time: {:0.3}sec'.format(time.time() - t0))"
   ]
  },
  {
   "cell_type": "code",
   "execution_count": 25,
   "metadata": {},
   "outputs": [
    {
     "name": "stdout",
     "output_type": "stream",
     "text": [
      "627 µs ± 38.9 µs per loop (mean ± std. dev. of 7 runs, 1000 loops each)\n"
     ]
    }
   ],
   "source": [
    "%timeit obj_fun_grad(vb_opt, prior_params_free)"
   ]
  },
  {
   "cell_type": "code",
   "execution_count": null,
   "metadata": {},
   "outputs": [],
   "source": []
  },
  {
   "cell_type": "code",
   "execution_count": 27,
   "metadata": {},
   "outputs": [],
   "source": [
    "# if its impossible, don't run the hessian\n",
    "run_hessian = True"
   ]
  },
  {
   "cell_type": "code",
   "execution_count": 28,
   "metadata": {},
   "outputs": [
    {
     "name": "stdout",
     "output_type": "stream",
     "text": [
      "hessian time: 22.6sec\n"
     ]
    }
   ],
   "source": [
    "if run_hessian: \n",
    "    t0 = time.time()\n",
    "    hess = obj_fun_hessian(vb_opt, prior_params_free)\n",
    "    print('hessian compile time: {:0.3}sec'.format(time.time() - t0))"
   ]
  },
  {
   "cell_type": "code",
   "execution_count": 34,
   "metadata": {},
   "outputs": [],
   "source": [
    "# after compiling, hessian time should be fast ... \n",
    "# %timeit obj_fun_hessian(vb_opt, prior_params_free)"
   ]
  },
  {
   "cell_type": "code",
   "execution_count": 35,
   "metadata": {},
   "outputs": [
    {
     "name": "stdout",
     "output_type": "stream",
     "text": [
      "hvp compile time: 33.0sec\n"
     ]
    }
   ],
   "source": [
    "t0 = time.time()\n",
    "x = vb_opt\n",
    "hvp = obj_fun_hvp(vb_opt, x)\n",
    "print('hvp compile time: {:0.3}sec'.format(time.time() - t0))"
   ]
  },
  {
   "cell_type": "code",
   "execution_count": 36,
   "metadata": {},
   "outputs": [
    {
     "name": "stdout",
     "output_type": "stream",
     "text": [
      "1.26 ms ± 28.7 µs per loop (mean ± std. dev. of 7 runs, 1000 loops each)\n"
     ]
    }
   ],
   "source": [
    "%timeit obj_fun_hvp(vb_opt, x)"
   ]
  },
  {
   "cell_type": "code",
   "execution_count": 41,
   "metadata": {},
   "outputs": [],
   "source": [
    "# cross hessian \n",
    "hyper_obj_fun_grad = jax.jit(jax.jacobian(objective_fun, argnums=1))\n",
    "hyper_obj_cross_hess = jax.jit(jax.jacobian(hyper_obj_fun_grad, argnums=0))"
   ]
  },
  {
   "cell_type": "code",
   "execution_count": 45,
   "metadata": {},
   "outputs": [
    {
     "name": "stdout",
     "output_type": "stream",
     "text": [
      "cross-hessian compile time: 0.000534sec\n"
     ]
    }
   ],
   "source": [
    "t0 = time.time()\n",
    "cross_hess = hyper_obj_cross_hess(vb_opt, prior_params_free)\n",
    "print('cross-hessian compile time: {:0.3}sec'.format(time.time() - t0))"
   ]
  },
  {
   "cell_type": "code",
   "execution_count": 46,
   "metadata": {},
   "outputs": [
    {
     "name": "stdout",
     "output_type": "stream",
     "text": [
      "387 µs ± 31 µs per loop (mean ± std. dev. of 7 runs, 1000 loops each)\n"
     ]
    }
   ],
   "source": [
    "%timeit hyper_obj_cross_hess(vb_opt, prior_params_free)"
   ]
  },
  {
   "cell_type": "code",
   "execution_count": 53,
   "metadata": {},
   "outputs": [],
   "source": [
    "cross_hess = cross_hess.transpose()"
   ]
  },
  {
   "cell_type": "code",
   "execution_count": null,
   "metadata": {},
   "outputs": [],
   "source": []
  },
  {
   "cell_type": "markdown",
   "metadata": {},
   "source": [
    "# Solver times"
   ]
  },
  {
   "cell_type": "markdown",
   "metadata": {},
   "source": [
    "### Solver without preconditioning"
   ]
  },
  {
   "cell_type": "code",
   "execution_count": 68,
   "metadata": {},
   "outputs": [
    {
     "name": "stdout",
     "output_type": "stream",
     "text": [
      "solver time: 0.0011sec\n"
     ]
    }
   ],
   "source": [
    "if run_hessian: \n",
    "    chol_solver = vittles.solver_lib.get_cholesky_solver(hess)\n",
    "    \n",
    "    t0 = time.time()\n",
    "    dinput_dhyper = -chol_solver(cross_hess)\n",
    "    \n",
    "    print('solver time: {:0.3}sec'.format(time.time() - t0))"
   ]
  },
  {
   "cell_type": "code",
   "execution_count": 69,
   "metadata": {},
   "outputs": [
    {
     "name": "stdout",
     "output_type": "stream",
     "text": [
      "solver time: 0.131sec\n"
     ]
    }
   ],
   "source": [
    "cg_solver = vittles.solver_lib.get_cg_solver(lambda x : obj_fun_hvp(vb_opt, x), \n",
    "                                            dim = len(vb_opt))\n",
    "    \n",
    "t0 = time.time()\n",
    "cg_out = -cg_solver(cross_hess[:, 0])\n",
    "    \n",
    "print('solver time: {:0.3}sec'.format(time.time() - t0))"
   ]
  },
  {
   "cell_type": "code",
   "execution_count": 74,
   "metadata": {},
   "outputs": [
    {
     "data": {
      "text/plain": [
       "DeviceArray(4.85739029e-06, dtype=float64)"
      ]
     },
     "execution_count": 74,
     "metadata": {},
     "output_type": "execute_result"
    }
   ],
   "source": [
    "np.abs(dinput_dhyper[:, 0] -  cg_out).max()"
   ]
  },
  {
   "cell_type": "code",
   "execution_count": null,
   "metadata": {},
   "outputs": [],
   "source": []
  },
  {
   "cell_type": "code",
   "execution_count": null,
   "metadata": {},
   "outputs": [],
   "source": []
  },
  {
   "cell_type": "code",
   "execution_count": null,
   "metadata": {},
   "outputs": [],
   "source": []
  },
  {
   "cell_type": "raw",
   "metadata": {},
   "source": [
    "### Solver with mfvb preconditioner"
   ]
  },
  {
   "cell_type": "raw",
   "metadata": {
    "scrolled": true
   },
   "source": [
    "t0 = time.time()\n",
    "mfvb_preconditioner = preconditioner_lib.get_gmm_preconditioner(vb_opt, vb_params_paragami)\n",
    "print('precond. time: {:0.3}sec'.format(time.time() - t0))"
   ]
  },
  {
   "cell_type": "raw",
   "metadata": {},
   "source": [
    "cg_solver_mfvb_precond = vittles.solver_lib.get_cg_solver(lambda x : obj_fun_hvp(vb_opt, prior_params_free, x), \n",
    "                                            dim = len(vb_opt), \n",
    "                                            cg_opts={'M':mfvb_preconditioner})\n",
    "    \n",
    "t0 = time.time()\n",
    "_ = -cg_solver_mfvb_precond(cross_hess[:, 0])\n",
    "    \n",
    "print('preconditioned solver time: {:0.3}sec'.format(time.time() - t0))"
   ]
  },
  {
   "cell_type": "raw",
   "metadata": {},
   "source": [
    "### Nystrom woodbury preconditioner"
   ]
  },
  {
   "cell_type": "raw",
   "metadata": {},
   "source": [
    "# nystrom woodbury preconditioner : compute with block hessian\n",
    "# get k - largest clusters\n",
    "\n",
    "t0 = time.time()\n",
    "k_large = 5\n",
    "which_k = np.argsort(-e_z_opt.mean(0))[0:k_large]\n",
    "\n",
    "sub_block_hess, indx = hessian_lib.get_large_clusters_hessian(features, which_k, vb_opt, vb_params_paragami, \n",
    "                                                                  prior_params_dict, gh_loc, gh_weights)\n",
    "\n",
    "est_lambda_max = np.abs(sub_block_hess).sum(1).max()\n",
    "nystrom_precond = preconditioner_lib.get_nystrom_woodbury_precon(sub_block_hess, indx, est_lambda_max)\n",
    "\n",
    "print('nystrom precontime time: ', time.time() - t0)"
   ]
  },
  {
   "cell_type": "raw",
   "metadata": {},
   "source": [
    "cg_solver_nystrom_precond = \\\n",
    "    vittles.solver_lib.get_cg_solver(lambda x : obj_fun_hvp(vb_opt, prior_params_free, x), \n",
    "                                            dim = len(vb_opt), \n",
    "                                            cg_opts={'M':nystrom_precond})\n",
    "    \n",
    "t0 = time.time()\n",
    "_ = -cg_solver_nystrom_precond(cross_hess[:, 0])\n",
    "    \n",
    "print('preconditioned solver time: {:0.3}sec'.format(time.time() - t0))"
   ]
  },
  {
   "cell_type": "raw",
   "metadata": {},
   "source": [
    "# get woodbury-nystrom preconditioner : use full Hessian \n",
    "lambda_max = np.max(np.linalg.eigvals(hess)) \n",
    "print(lambda_max)\n",
    "print(est_lambda_max)\n",
    "\n",
    "nystrom_precond2 = preconditioner_lib.get_nystrom_woodbury_precon(hess, indx, est_lambda_max)\n"
   ]
  },
  {
   "cell_type": "raw",
   "metadata": {},
   "source": [
    "cg_solver_nystrom_precond2 = \\\n",
    "    vittles.solver_lib.get_cg_solver(lambda x : obj_fun_hvp(vb_opt, prior_params_free, x), \n",
    "                                            dim = len(vb_opt), \n",
    "                                            cg_opts={'M':nystrom_precond2})\n",
    "    \n",
    "t0 = time.time()\n",
    "_ = -cg_solver_nystrom_precond2(cross_hess[:, 0])\n",
    "    \n",
    "print('preconditioned solver time: {:0.3}sec'.format(time.time() - t0))"
   ]
  },
  {
   "cell_type": "raw",
   "metadata": {},
   "source": []
  },
  {
   "cell_type": "raw",
   "metadata": {},
   "source": []
  },
  {
   "cell_type": "raw",
   "metadata": {},
   "source": [
    "# Lets look at the CG solver in more detail "
   ]
  },
  {
   "cell_type": "raw",
   "metadata": {},
   "source": [
    "### Check out optimization path"
   ]
  },
  {
   "cell_type": "raw",
   "metadata": {},
   "source": [
    "class CGCallback(): \n",
    "    def __init__(self, mat_times_vec, b): \n",
    "        self.mat_times_vec = mat_times_vec\n",
    "        self.b = b\n",
    "        \n",
    "        self.residuals = []\n",
    "        \n",
    "    def record_residuals(self, x): \n",
    "        self.residuals.append(np.linalg.norm(-x - dinput_dhyper[:, 0]))\n",
    "        \n",
    "    def return_path(self): \n",
    "        return np.array(self.residuals)"
   ]
  },
  {
   "cell_type": "raw",
   "metadata": {},
   "source": [
    "mat_times_vec = lambda x : obj_fun_hvp(vb_opt, prior_params_free, x)\n",
    "b = cross_hess[:, 0]\n",
    "cg_callback = CGCallback(mat_times_vec, b)\n",
    "\n",
    "x0 = mfvb_preconditioner.dot(b)"
   ]
  },
  {
   "cell_type": "raw",
   "metadata": {},
   "source": [
    "# no preconditioner\n",
    "cg_callback = CGCallback(mat_times_vec, b)\n",
    "solver = vittles.solver_lib.get_cg_solver(mat_times_vec, \n",
    "                                            dim = len(vb_opt), \n",
    "                                            cg_opts={'callback':cg_callback.record_residuals, \n",
    "                                                    'x0':x0})\n",
    "    \n",
    "t0 = time.time()\n",
    "_ = -solver(b)\n",
    "print('solver time: {:0.3}sec'.format(time.time() - t0))\n",
    "path1 = cg_callback.return_path()"
   ]
  },
  {
   "cell_type": "raw",
   "metadata": {},
   "source": [
    "# mfvb preconditioner\n",
    "cg_callback = CGCallback(mat_times_vec, b)\n",
    "solver = vittles.solver_lib.get_cg_solver(mat_times_vec, \n",
    "                                            dim = len(vb_opt), \n",
    "                                            cg_opts={'M':mfvb_preconditioner, \n",
    "                                                     'callback':cg_callback.record_residuals, \n",
    "                                                    'x0':x0})\n",
    "    \n",
    "t0 = time.time()\n",
    "_ = -solver(b)\n",
    "print('solver time: {:0.3}sec'.format(time.time() - t0))\n",
    "path2 = cg_callback.return_path()"
   ]
  },
  {
   "cell_type": "raw",
   "metadata": {},
   "source": [
    "# nystrom with block hessian\n",
    "cg_callback = CGCallback(mat_times_vec, b)\n",
    "solver = vittles.solver_lib.get_cg_solver(mat_times_vec, \n",
    "                                            dim = len(vb_opt), \n",
    "                                            cg_opts={'M':nystrom_precond, \n",
    "                                                     'callback':cg_callback.record_residuals, \n",
    "                                                    'x0':x0})\n",
    "    \n",
    "t0 = time.time()\n",
    "_ = -solver(b)\n",
    "print('solver time: {:0.3}sec'.format(time.time() - t0))\n",
    "path3 = cg_callback.return_path()"
   ]
  },
  {
   "cell_type": "raw",
   "metadata": {},
   "source": [
    "# nystrom with full hessian\n",
    "cg_callback = CGCallback(mat_times_vec, b)\n",
    "solver = vittles.solver_lib.get_cg_solver(mat_times_vec, \n",
    "                                            dim = len(vb_opt), \n",
    "                                            cg_opts={'M':nystrom_precond2, \n",
    "                                                     'callback':cg_callback.record_residuals, \n",
    "                                                    'x0':x0})\n",
    "    \n",
    "t0 = time.time()\n",
    "_ = -solver(b)\n",
    "print('solver time: {:0.3}sec'.format(time.time() - t0))\n",
    "path4 = cg_callback.return_path()"
   ]
  },
  {
   "cell_type": "raw",
   "metadata": {},
   "source": []
  },
  {
   "cell_type": "raw",
   "metadata": {},
   "source": [
    "plt.plot(np.log10(path1), color = 'red', label = 'cg')\n",
    "plt.plot(np.log10(path2), color = 'blue', label = 'cg-precond-mean_field')\n",
    "plt.plot(np.log10(path3), color = 'orange', label = 'cg-precond-nystrom_wood')\n",
    "plt.plot(np.log10(path4), color = 'green', linestyle = '--', label = 'cg-precond-nystrom_wood2')\n",
    "\n",
    "plt.legend()\n",
    "\n",
    "plt.xlabel('iter')\n",
    "plt.ylabel('log10 residual')"
   ]
  },
  {
   "cell_type": "raw",
   "metadata": {},
   "source": []
  },
  {
   "cell_type": "raw",
   "metadata": {},
   "source": []
  },
  {
   "cell_type": "raw",
   "metadata": {},
   "source": []
  },
  {
   "cell_type": "raw",
   "metadata": {},
   "source": []
  },
  {
   "cell_type": "raw",
   "metadata": {},
   "source": []
  },
  {
   "cell_type": "raw",
   "metadata": {},
   "source": []
  },
  {
   "cell_type": "raw",
   "metadata": {},
   "source": []
  }
 ],
 "metadata": {
  "kernelspec": {
   "display_name": "bnp_sensitivity_jax",
   "language": "python",
   "name": "bnp_sensitivity_jax"
  },
  "language_info": {
   "codemirror_mode": {
    "name": "ipython",
    "version": 3
   },
   "file_extension": ".py",
   "mimetype": "text/x-python",
   "name": "python",
   "nbconvert_exporter": "python",
   "pygments_lexer": "ipython3",
   "version": "3.8.0"
  }
 },
 "nbformat": 4,
 "nbformat_minor": 2
}
