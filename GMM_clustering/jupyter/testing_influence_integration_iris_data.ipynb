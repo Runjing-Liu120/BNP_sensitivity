{
 "cells": [
  {
   "cell_type": "code",
   "execution_count": 1,
   "metadata": {
    "collapsed": false
   },
   "outputs": [],
   "source": [
    "import numpy as np\n",
    "import scipy as sp\n",
    "\n",
    "import autograd\n",
    "\n",
    "import sys\n",
    "sys.path.insert(0, './../../LinearResponseVariationalBayes.py')\n",
    "sys.path.insert(0, './../src/vb_modeling/')\n",
    "\n",
    "import LinearResponseVariationalBayes as vb\n",
    "import LinearResponseVariationalBayes.ExponentialFamilies as ef\n",
    "\n",
    "from numpy.polynomial.hermite import hermgauss\n",
    "\n",
    "import gmm_clustering_lib as gmm_utils\n",
    "from shift_only_lib import LinearSensitivity\n",
    "import functional_sensitivity_lib as fun_sens_lib\n",
    "\n",
    "from scipy import spatial\n",
    "import scipy.cluster.hierarchy as sch\n",
    "\n",
    "import matplotlib.pyplot as plt\n",
    "%matplotlib inline\n",
    "\n",
    "import time\n",
    "from tqdm import tqdm\n",
    "\n",
    "from copy import deepcopy\n",
    "\n",
    "np.random.seed(453453)\n",
    "\n"
   ]
  },
  {
   "cell_type": "markdown",
   "metadata": {},
   "source": [
    "# Load data"
   ]
  },
  {
   "cell_type": "code",
   "execution_count": 2,
   "metadata": {
    "collapsed": false
   },
   "outputs": [],
   "source": [
    "# load iris dataset \n",
    "\n",
    "from sklearn import datasets\n",
    "\n",
    "iris = datasets.load_iris(return_X_y= True)\n",
    "\n",
    "iris_features = iris[0]\n",
    "iris_species = iris[1]\n",
    "\n",
    "dim = iris_features.shape[1]"
   ]
  },
  {
   "cell_type": "markdown",
   "metadata": {},
   "source": [
    "# Set prior params"
   ]
  },
  {
   "cell_type": "code",
   "execution_count": 3,
   "metadata": {
    "collapsed": false
   },
   "outputs": [],
   "source": [
    "prior_params = gmm_utils.get_default_prior_params(dim)\n",
    "prior_params['alpha'].set(4.0)\n",
    "prior_params['prior_gamma_df'].set(8)\n",
    "prior_params['prior_gamma_inv_scale'].set(np.eye(dim) * 0.62)"
   ]
  },
  {
   "cell_type": "code",
   "execution_count": 4,
   "metadata": {
    "collapsed": false
   },
   "outputs": [
    {
     "name": "stdout",
     "output_type": "stream",
     "text": [
      "prior_params:\n",
      "\talpha: 4.0\n",
      "\tprior_centroid_mean: 0.0\n",
      "\tprior_centroid_info: 0.1\n",
      "\tprior_gamma_df: 8\n",
      "\tprior_gamma_inv_scale:\n",
      "[[0.62 0.   0.   0.  ]\n",
      " [0.   0.62 0.   0.  ]\n",
      " [0.   0.   0.62 0.  ]\n",
      " [0.   0.   0.   0.62]]\n"
     ]
    }
   ],
   "source": [
    "print(prior_params)"
   ]
  },
  {
   "cell_type": "markdown",
   "metadata": {},
   "source": [
    "# Set up model"
   ]
  },
  {
   "cell_type": "code",
   "execution_count": 5,
   "metadata": {
    "collapsed": false
   },
   "outputs": [],
   "source": [
    "k_approx = 12\n",
    "gh_deg = 8\n",
    "model = gmm_utils.DPGaussianMixture(iris_features, k_approx, prior_params, gh_deg, use_logitnormal_sticks=True)"
   ]
  },
  {
   "cell_type": "code",
   "execution_count": 6,
   "metadata": {
    "collapsed": false
   },
   "outputs": [],
   "source": [
    "# print(model.vb_params)"
   ]
  },
  {
   "cell_type": "markdown",
   "metadata": {},
   "source": [
    "# Set inits"
   ]
  },
  {
   "cell_type": "code",
   "execution_count": 7,
   "metadata": {
    "collapsed": false
   },
   "outputs": [],
   "source": [
    "n_kmeans_init = 10\n",
    "init_global_free_param = model.cluster_and_set_inits(n_kmeans_init = n_kmeans_init)"
   ]
  },
  {
   "cell_type": "code",
   "execution_count": 8,
   "metadata": {
    "collapsed": true
   },
   "outputs": [],
   "source": [
    "init_clusters = np.argmax(model.vb_params['e_z'].get(), axis = 1)\n",
    "init_centroids = model.vb_params['global']['centroids'].get()"
   ]
  },
  {
   "cell_type": "markdown",
   "metadata": {
    "collapsed": true
   },
   "source": [
    "# Optimize!"
   ]
  },
  {
   "cell_type": "code",
   "execution_count": 9,
   "metadata": {
    "collapsed": false
   },
   "outputs": [
    {
     "name": "stdout",
     "output_type": "stream",
     "text": [
      "Iter: 0\t RMSE: 5.542288625883365\t Objective: 5610.49484202776\n",
      "Iter: 10\t RMSE: 9.605433006405969\t Objective: 3699.6999716194764\n",
      "Iter: 20\t RMSE: 10.728858038655394\t Objective: 1620.8361392473348\n",
      "Iter: 30\t RMSE: 9.731621277938128\t Objective: 147.13206312763612\n",
      "Iter: 40\t RMSE: 9.381685017909854\t Objective: -88.7633466199066\n",
      "Iter: 50\t RMSE: 9.278433846022235\t Objective: -218.9999328819035\n",
      "Iter: 60\t RMSE: 9.224364732514404\t Objective: -263.066867945217\n",
      "Iter: 70\t RMSE: 9.183707357680204\t Objective: -275.3955956678366\n",
      "Iter: 80\t RMSE: 9.217833940865729\t Objective: -283.721887875261\n",
      "Iter: 90\t RMSE: 9.159710030564899\t Objective: -288.44087676881065\n",
      "Iter: 100\t RMSE: 9.170809163824112\t Objective: -291.3208476121377\n",
      "Warning: Maximum number of iterations has been exceeded.\n",
      "         Current function value: -292.618810\n",
      "         Iterations: 100\n",
      "         Function evaluations: 107\n",
      "         Gradient evaluations: 107\n",
      "Iter: 110\t RMSE: 9.207484441365306\t Objective: -298.07271557631475\n",
      "Optimization terminated successfully.\n",
      "         Current function value: -299.474309\n",
      "         Iterations: 9\n",
      "         Function evaluations: 10\n",
      "         Gradient evaluations: 10\n",
      "         Hessian evaluations: 0\n",
      "Iter 1: x_diff = 45.750869597193194, f_diff = 6.855499563227454\n",
      "Warning: A bad approximation caused failure to predict improvement.\n",
      "         Current function value: -299.474309\n",
      "         Iterations: 0\n",
      "         Function evaluations: 2\n",
      "         Gradient evaluations: 1\n",
      "         Hessian evaluations: 0\n",
      "Iter 2: x_diff = 3.156502836911598e-14, f_diff = 2.6147972675971687e-12\n"
     ]
    }
   ],
   "source": [
    "t0 = time.time()\n",
    "best_param, kl_hessian, kl_hessian_corrected, \\\n",
    "init_opt_time, newton_time, x_conv, f_conv, vb_opt = \\\n",
    "model.optimize_full(init_global_free_param,\n",
    "    init_max_iter=100,\n",
    "    final_max_iter=500)\n",
    "t_newton = time.time() - t0\n"
   ]
  },
  {
   "cell_type": "code",
   "execution_count": 10,
   "metadata": {
    "collapsed": false
   },
   "outputs": [],
   "source": [
    "newton_results = deepcopy(model)"
   ]
  },
  {
   "cell_type": "markdown",
   "metadata": {},
   "source": [
    "# Get sensitivity operators"
   ]
  },
  {
   "cell_type": "code",
   "execution_count": 11,
   "metadata": {
    "collapsed": false
   },
   "outputs": [
    {
     "name": "stdout",
     "output_type": "stream",
     "text": [
      "KL Hessian:\n",
      "Prior Hessian...\n",
      "Data Hessian...\n",
      "Linear systems...\n",
      "Done.\n"
     ]
    }
   ],
   "source": [
    "best_param = newton_results.global_vb_params.get_free()\n",
    "prior_free_params = newton_results.prior_params.get_free()\n",
    "\n",
    "model.set_from_global_free_par(best_param)\n",
    "\n",
    "moment_model = gmm_utils.InterestingMoments(deepcopy(model))\n",
    "linear_sens = LinearSensitivity(model, moment_model)"
   ]
  },
  {
   "cell_type": "code",
   "execution_count": 12,
   "metadata": {
    "collapsed": false
   },
   "outputs": [],
   "source": [
    "model.set_from_global_free_par(best_param)\n",
    "model.prior_params.set_free(prior_free_params)\n"
   ]
  },
  {
   "cell_type": "code",
   "execution_count": 13,
   "metadata": {
    "collapsed": false
   },
   "outputs": [
    {
     "name": "stdout",
     "output_type": "stream",
     "text": [
      "(0.09999999999989616+0j) (2452.4205477400733+0j)\n"
     ]
    }
   ],
   "source": [
    "kl_hess_ev, kl_hess_evec = np.linalg.eig(linear_sens.kl_hessian)\n",
    "print(np.min(kl_hess_ev), np.max(kl_hess_ev))\n"
   ]
  },
  {
   "cell_type": "code",
   "execution_count": 14,
   "metadata": {
    "collapsed": false
   },
   "outputs": [],
   "source": [
    "# Check my manually implemented jacobian: "
   ]
  },
  {
   "cell_type": "code",
   "execution_count": 15,
   "metadata": {
    "collapsed": false
   },
   "outputs": [],
   "source": [
    "x = np.linspace(0.01, 0.99, 100)\n",
    "get_true_log_q_pi_jac = autograd.jacobian(linear_sens.get_log_q_pi, 0)"
   ]
  },
  {
   "cell_type": "code",
   "execution_count": 16,
   "metadata": {
    "collapsed": true
   },
   "outputs": [],
   "source": [
    "for k in range(k_approx - 1): \n",
    "    my_jac = linear_sens.log_q_pi_jac(linear_sens.optimal_global_free_params, x, k = k)\n",
    "    true_jac = get_true_log_q_pi_jac(linear_sens.optimal_global_free_params, x, k = k)\n",
    "    assert np.max(np.abs(my_jac - true_jac)) < 1e-12"
   ]
  },
  {
   "cell_type": "markdown",
   "metadata": {},
   "source": [
    "# Functional Sensitivty"
   ]
  },
  {
   "cell_type": "code",
   "execution_count": 17,
   "metadata": {
    "collapsed": false
   },
   "outputs": [],
   "source": [
    "# we examine the influence on the posterior stick lengths\n",
    "def get_stick_length_from_free_param(model, free_par): \n",
    "    model.set_from_global_free_par(free_par)\n",
    "    return ef.get_e_logitnormal(lognorm_means = model.vb_params['global']['v_sticks']['mean'].get(),\n",
    "                lognorm_infos = model.vb_params['global']['v_sticks']['info'].get(),\n",
    "                gh_loc = model.vb_params.gh_loc,\n",
    "                gh_weights = model.vb_params.gh_weights)\n",
    "\n",
    "get_g_eta = autograd.jacobian(get_stick_length_from_free_param, argnum = 1)\n",
    "g_eta = get_g_eta(model, best_param)\n"
   ]
  },
  {
   "cell_type": "code",
   "execution_count": 18,
   "metadata": {
    "collapsed": false
   },
   "outputs": [],
   "source": [
    "# get total influence\n",
    "theta = np.linspace(0.01, 0.99, 100)\n",
    "total_influence_sticks = np.zeros((k_approx - 1, len(theta)))\n",
    "for k in range(k_approx - 1): \n",
    "    total_influence_sticks += np.dot(g_eta, linear_sens.influence_function(theta, k))\n"
   ]
  },
  {
   "cell_type": "code",
   "execution_count": 19,
   "metadata": {
    "collapsed": false
   },
   "outputs": [],
   "source": [
    "total_influence_sticks2 = np.dot(g_eta, linear_sens.total_influence_function(theta))"
   ]
  },
  {
   "cell_type": "code",
   "execution_count": 20,
   "metadata": {
    "collapsed": false
   },
   "outputs": [
    {
     "data": {
      "text/plain": [
       "2.7284841053187847e-12"
      ]
     },
     "execution_count": 20,
     "metadata": {},
     "output_type": "execute_result"
    }
   ],
   "source": [
    "np.max(np.abs(total_influence_sticks - total_influence_sticks2)) "
   ]
  },
  {
   "cell_type": "code",
   "execution_count": 21,
   "metadata": {
    "collapsed": false
   },
   "outputs": [],
   "source": [
    "assert np.max(np.abs(total_influence_sticks - total_influence_sticks2)) < 1e-8"
   ]
  },
  {
   "cell_type": "code",
   "execution_count": 21,
   "metadata": {
    "collapsed": false,
    "scrolled": false
   },
   "outputs": [
    {
     "data": {
      "image/png": "[encoded data removed]",
      "text/plain": [
       "<matplotlib.figure.Figure at 0x7fd4b37d6240>"
      ]
     },
     "metadata": {},
     "output_type": "display_data"
    }
   ],
   "source": [
    "f, axarr = plt.subplots(6, 2, figsize=(12, 25))\n",
    "\n",
    "for k in range(k_approx - 1): \n",
    "    \n",
    "    indx1 = int(np.floor(k / 2))\n",
    "    indx2 = k % 2\n",
    "    axarr[indx1, indx2].plot(theta, total_influence_sticks[k, :])\n",
    "    axarr[indx1, indx2].set_ylim([-20.0, 20.0])\n",
    "    axarr[indx1, indx2].set_title('total influence on {}th stick'.format(k))\n",
    "    # axarr[indx1, indx2].set_title('epsilon = {}'.format(epsilons[i]))\n",
    "\n",
    "#     plt.plot(theta, total_influence[k, :])\n",
    "\n",
    "f.delaxes(axarr[5][1])\n",
    "\n",
    "f.tight_layout()\n"
   ]
  },
  {
   "cell_type": "code",
   "execution_count": 22,
   "metadata": {
    "collapsed": true
   },
   "outputs": [],
   "source": [
    "model.set_from_global_free_par(best_param)\n",
    "model.prior_params.set_free(prior_free_params)"
   ]
  },
  {
   "cell_type": "code",
   "execution_count": 23,
   "metadata": {
    "collapsed": false
   },
   "outputs": [],
   "source": [
    "# we examine the influence on the posterior stick lengths\n",
    "def get_centroid_from_free_param(model, free_par): \n",
    "    model.set_from_global_free_par(free_par)\n",
    "    return model.global_vb_params['centroids'].get().T.flatten()\n",
    "\n",
    "get_g_eta_for_centroids= autograd.jacobian(get_centroid_from_free_param, argnum = 1)\n",
    "g_eta_for_centroids = get_g_eta_for_centroids(model, best_param)\n"
   ]
  },
  {
   "cell_type": "code",
   "execution_count": 24,
   "metadata": {
    "collapsed": false
   },
   "outputs": [],
   "source": [
    "# get total influence\n",
    "theta = np.linspace(0.01, 0.99, 100)\n",
    "total_influence_centroids = np.zeros((np.shape(g_eta_for_centroids)[0], len(theta)))\n",
    "for k in range(k_approx - 1): \n",
    "    total_influence_centroids += np.dot(g_eta_for_centroids, linear_sens.influence_function(theta, k))\n"
   ]
  },
  {
   "cell_type": "code",
   "execution_count": 25,
   "metadata": {
    "collapsed": false,
    "scrolled": true
   },
   "outputs": [
    {
     "data": {
      "image/png": "[encoded data removed]",
      "text/plain": [
       "<matplotlib.figure.Figure at 0x7fd4af65a4e0>"
      ]
     },
     "metadata": {},
     "output_type": "display_data"
    }
   ],
   "source": [
    "f, axarr = plt.subplots(6, 2, figsize=(12, 25))\n",
    "\n",
    "for k in range(k_approx - 1): \n",
    "    \n",
    "    indx1 = int(np.floor(k / 2))\n",
    "    indx2 = k % 2\n",
    "    axarr[indx1, indx2].plot(theta, total_influence_centroids[k, :])\n",
    "    axarr[indx1, indx2].set_ylim([-1.1, 1.1])\n",
    "    axarr[indx1, indx2].set_title('total influence on {}th centroid'.format(k))\n",
    "    # axarr[indx1, indx2].set_title('epsilon = {}'.format(epsilons[i]))\n",
    "\n",
    "#     plt.plot(theta, total_influence[k, :])\n",
    "\n",
    "f.delaxes(axarr[5][1])\n",
    "\n"
   ]
  },
  {
   "cell_type": "code",
   "execution_count": 26,
   "metadata": {
    "collapsed": true
   },
   "outputs": [],
   "source": [
    "u = lambda x : 1.0 - x"
   ]
  },
  {
   "cell_type": "code",
   "execution_count": 27,
   "metadata": {
    "collapsed": true
   },
   "outputs": [],
   "source": [
    "# this is E_q(u(x) / p_0(x))\n",
    "gh_integration = linear_sens.influence_integration(linear_sens.optimal_global_free_params, u)"
   ]
  },
  {
   "cell_type": "code",
   "execution_count": 28,
   "metadata": {
    "collapsed": false
   },
   "outputs": [
    {
     "data": {
      "text/plain": [
       "array([ 0.25331254,  0.56071247,  0.25495298,  0.25495298,  0.95639595,\n",
       "        0.25973011,  0.25973011, 98.67130548,  0.59060873,  0.59060873,\n",
       "        0.59060873])"
      ]
     },
     "execution_count": 28,
     "metadata": {},
     "output_type": "execute_result"
    }
   ],
   "source": [
    "gh_integration"
   ]
  },
  {
   "cell_type": "code",
   "execution_count": 29,
   "metadata": {
    "collapsed": true
   },
   "outputs": [],
   "source": [
    "n_grid = 10000000\n",
    "x = np.linspace(0.01, 0.99, n_grid)\n"
   ]
  },
  {
   "cell_type": "code",
   "execution_count": 30,
   "metadata": {
    "collapsed": false
   },
   "outputs": [
    {
     "name": "stderr",
     "output_type": "stream",
     "text": [
      "100%|██████████| 11/11 [00:20<00:00,  1.86s/it]\n"
     ]
    }
   ],
   "source": [
    "alpha = model.prior_params['alpha'].get()\n",
    "integrand = np.zeros((k_approx - 1, n_grid))\n",
    "for k in tqdm(range(k_approx - 1)): \n",
    "    # influence_density_logratio is u(x) / p_0(x)\n",
    "    # get_log_q_pi returns the variational density\n",
    "    integrand[k, :] = np.exp(linear_sens.get_log_q_pi(best_param, x, k) + \n",
    "        linear_sens.influence_density_logratio(x, alpha, u))\n"
   ]
  },
  {
   "cell_type": "code",
   "execution_count": 31,
   "metadata": {
    "collapsed": false
   },
   "outputs": [
    {
     "data": {
      "text/plain": [
       "array([4.66549992e-02, 5.72155526e-01, 7.87160384e-02, 7.87160384e-02,\n",
       "       9.75914133e-01, 1.46702946e-01, 1.46702946e-01, 1.00280604e+02,\n",
       "       5.99196184e-01, 5.99196184e-01, 5.99196184e-01])"
      ]
     },
     "execution_count": 31,
     "metadata": {},
     "output_type": "execute_result"
    }
   ],
   "source": [
    "grid_integration = np.mean(integrand, axis = 1)\n",
    "grid_integration"
   ]
  },
  {
   "cell_type": "code",
   "execution_count": 32,
   "metadata": {
    "collapsed": false
   },
   "outputs": [
    {
     "name": "stderr",
     "output_type": "stream",
     "text": [
      "100%|██████████| 11/11 [00:05<00:00,  2.13it/s]\n"
     ]
    }
   ],
   "source": [
    "sp_integration = np.zeros(k_approx - 1)\n",
    "for k in tqdm(range(k_approx - 1)):\n",
    "    fun_integrand = lambda x : np.exp(linear_sens.get_log_q_pi(best_param, x, k) + \n",
    "        linear_sens.influence_density_logratio(x, alpha, u))\n",
    "    \n",
    "    sp_integration[k] = sp.integrate.quad(fun_integrand, 0, 1)[0]\n"
   ]
  },
  {
   "cell_type": "code",
   "execution_count": 33,
   "metadata": {
    "collapsed": false,
    "scrolled": true
   },
   "outputs": [
    {
     "data": {
      "text/plain": [
       "array([ 0.25331254,  0.56071247,  0.25495298,  0.25495298,  0.95639595,\n",
       "        0.25973013,  0.25973013, 98.67130576,  0.59073378,  0.59073378,\n",
       "        0.59073378])"
      ]
     },
     "execution_count": 33,
     "metadata": {},
     "output_type": "execute_result"
    }
   ],
   "source": [
    "sp_integration"
   ]
  },
  {
   "cell_type": "code",
   "execution_count": 34,
   "metadata": {
    "collapsed": false
   },
   "outputs": [
    {
     "name": "stderr",
     "output_type": "stream",
     "text": [
      "100%|██████████| 11/11 [00:03<00:00,  2.80it/s]\n"
     ]
    }
   ],
   "source": [
    "# importance sampling\n",
    "\n",
    "imp_sampling_integration = np.zeros(k_approx - 1)\n",
    "n_samples = int(1e6)\n",
    "\n",
    "for k in tqdm(range(k_approx - 1)):\n",
    "\n",
    "    mean = newton_results.vb_params['global']['v_sticks']['mean'].get()[k]\n",
    "    info = newton_results.vb_params['global']['v_sticks']['info'].get()[k]\n",
    "    \n",
    "    # sample from variational distribution with twice the standard deviation\n",
    "    x = np.random.normal(mean, 1/np.sqrt(0.5 * info), size = n_samples)\n",
    "    x = sp.special.expit(x)\n",
    "\n",
    "    # divide the integrand by the density of the variational distribution \n",
    "    # with twice the standard deviation\n",
    "    log_integrand = linear_sens.influence_density_logratio(x, alpha, u) + \\\n",
    "            linear_sens.get_log_q_pi(linear_sens.optimal_global_free_params, x, k) - \\\n",
    "            fun_sens_lib.get_log_logitnormal_density(x, mean, 0.5 * info)\n",
    "    \n",
    "    imp_sampling_integration[k] = np.mean(np.exp(log_integrand))\n"
   ]
  },
  {
   "cell_type": "code",
   "execution_count": 35,
   "metadata": {
    "collapsed": false
   },
   "outputs": [
    {
     "data": {
      "text/plain": [
       "array([ 0.25320351,  0.56043452,  0.25501733,  0.25498716,  0.95660242,\n",
       "        0.25971351,  0.25981455, 98.5951367 ,  0.5911673 ,  0.59060547,\n",
       "        0.59103701])"
      ]
     },
     "execution_count": 35,
     "metadata": {},
     "output_type": "execute_result"
    }
   ],
   "source": [
    "imp_sampling_integration"
   ]
  },
  {
   "cell_type": "code",
   "execution_count": 36,
   "metadata": {
    "collapsed": false
   },
   "outputs": [
    {
     "data": {
      "text/plain": [
       "<matplotlib.text.Text at 0x7fd4acc43588>"
      ]
     },
     "execution_count": 36,
     "metadata": {},
     "output_type": "execute_result"
    },
    {
     "data": {
      "image/png": "[encoded data removed]",
      "text/plain": [
       "<matplotlib.figure.Figure at 0x7fd4b38aae80>"
      ]
     },
     "metadata": {},
     "output_type": "display_data"
    }
   ],
   "source": [
    "plt.plot(gh_integration, imp_sampling_integration, '+')\n",
    "plt.xlabel('gauss-hermite integral')\n",
    "plt.ylabel('importance sampled integral')\n"
   ]
  },
  {
   "cell_type": "code",
   "execution_count": 37,
   "metadata": {
    "collapsed": false
   },
   "outputs": [
    {
     "data": {
      "text/plain": [
       "<matplotlib.text.Text at 0x7fd4ac3ab940>"
      ]
     },
     "execution_count": 37,
     "metadata": {},
     "output_type": "execute_result"
    },
    {
     "data": {
      "image/png": "[encoded data removed]",
      "text/plain": [
       "<matplotlib.figure.Figure at 0x7fd4acc4e048>"
      ]
     },
     "metadata": {},
     "output_type": "display_data"
    }
   ],
   "source": [
    "plt.plot(gh_integration, sp_integration, '+')\n",
    "plt.xlabel('gauss-hermite integral')\n",
    "plt.ylabel('scipy default integrator')\n"
   ]
  },
  {
   "cell_type": "code",
   "execution_count": 38,
   "metadata": {
    "collapsed": false
   },
   "outputs": [
    {
     "data": {
      "text/plain": [
       "0.00021168847516938623"
      ]
     },
     "execution_count": 38,
     "metadata": {},
     "output_type": "execute_result"
    }
   ],
   "source": [
    "np.max(np.abs((gh_integration - sp_integration) / sp_integration))"
   ]
  },
  {
   "cell_type": "code",
   "execution_count": 39,
   "metadata": {
    "collapsed": false
   },
   "outputs": [
    {
     "data": {
      "text/plain": [
       "0.0009448644242725547"
      ]
     },
     "execution_count": 39,
     "metadata": {},
     "output_type": "execute_result"
    }
   ],
   "source": [
    "np.max(np.abs((gh_integration - imp_sampling_integration) / imp_sampling_integration))"
   ]
  },
  {
   "cell_type": "markdown",
   "metadata": {
    "collapsed": true
   },
   "source": [
    "# Lets look at the worst case functional integration"
   ]
  },
  {
   "cell_type": "code",
   "execution_count": 22,
   "metadata": {
    "collapsed": true
   },
   "outputs": [],
   "source": [
    "import common_modeling_lib"
   ]
  },
  {
   "cell_type": "code",
   "execution_count": 23,
   "metadata": {
    "collapsed": true
   },
   "outputs": [],
   "source": [
    "def get_e_number_clusters_from_free_par(model, global_free_params, samples = 10000): \n",
    "    model.global_vb_params.set_free(global_free_params)\n",
    "    return common_modeling_lib.get_e_number_clusters_from_logit_sticks_diffble(model.vb_params, samples = samples)"
   ]
  },
  {
   "cell_type": "code",
   "execution_count": 24,
   "metadata": {
    "collapsed": false
   },
   "outputs": [],
   "source": [
    "get_g_eta_nclust = autograd.jacobian(get_e_number_clusters_from_free_par, argnum = 1)\n",
    "g_eta_nclust = get_g_eta_nclust(model, best_param)"
   ]
  },
  {
   "cell_type": "code",
   "execution_count": 25,
   "metadata": {
    "collapsed": false
   },
   "outputs": [],
   "source": [
    "total_influnce_nclust = np.dot(g_eta_nclust, linear_sens.total_influence_function(theta))"
   ]
  },
  {
   "cell_type": "code",
   "execution_count": 26,
   "metadata": {
    "collapsed": true
   },
   "outputs": [],
   "source": [
    "alpha = prior_params['alpha'].get()"
   ]
  },
  {
   "cell_type": "code",
   "execution_count": null,
   "metadata": {
    "collapsed": false
   },
   "outputs": [],
   "source": [
    "integrand1 = lambda x : np.maximum(np.dot(g_eta_nclust, linear_sens.total_influence_function(x)), 0) ** 2 * \\\n",
    "           sp.stats.beta.pdf(x, 1, alpha)\n",
    "\n",
    "\n",
    "integrand2 = lambda x : np.maximum(-np.dot(g_eta_nclust, linear_sens.total_influence_function(x)), 0) ** 2 * \\\n",
    "           sp.stats.beta.pdf(x, 1, alpha)\n",
    "\n",
    "wc_sp_integration1 = sp.integrate.quad(integrand1, 0, 1)\n",
    "wc_sp_integration2 = sp.integrate.quad(integrand2, 0, 1)\n"
   ]
  },
  {
   "cell_type": "code",
   "execution_count": null,
   "metadata": {
    "collapsed": false
   },
   "outputs": [],
   "source": [
    "wc_sp_integration1"
   ]
  },
  {
   "cell_type": "code",
   "execution_count": null,
   "metadata": {
    "collapsed": false
   },
   "outputs": [],
   "source": [
    "wc_sp_integration2"
   ]
  },
  {
   "cell_type": "code",
   "execution_count": null,
   "metadata": {
    "collapsed": true
   },
   "outputs": [],
   "source": [
    "n_samples = int(1e5)"
   ]
  },
  {
   "cell_type": "code",
   "execution_count": null,
   "metadata": {
    "collapsed": false
   },
   "outputs": [],
   "source": [
    "np.mean(integrand1(np.random.rand(n_samples)))"
   ]
  },
  {
   "cell_type": "code",
   "execution_count": null,
   "metadata": {
    "collapsed": false
   },
   "outputs": [],
   "source": [
    "np.mean(integrand2(np.random.rand(n_samples)))"
   ]
  },
  {
   "cell_type": "code",
   "execution_count": null,
   "metadata": {
    "collapsed": true
   },
   "outputs": [],
   "source": []
  },
  {
   "cell_type": "code",
   "execution_count": null,
   "metadata": {
    "collapsed": true
   },
   "outputs": [],
   "source": []
  },
  {
   "cell_type": "code",
   "execution_count": 86,
   "metadata": {
    "collapsed": false
   },
   "outputs": [
    {
     "data": {
      "text/plain": [
       "[<matplotlib.lines.Line2D at 0x7f70c15acb00>]"
      ]
     },
     "execution_count": 86,
     "metadata": {},
     "output_type": "execute_result"
    },
    {
     "data": {
      "image/png": "[encoded data removed]",
      "text/plain": [
       "<matplotlib.figure.Figure at 0x7f70c173a7f0>"
      ]
     },
     "metadata": {},
     "output_type": "display_data"
    }
   ],
   "source": [
    "plt.plot(theta, total_influnce_nclust *  sp.stats.beta.pdf(theta, 1, 4))"
   ]
  },
  {
   "cell_type": "code",
   "execution_count": 83,
   "metadata": {
    "collapsed": false
   },
   "outputs": [
    {
     "data": {
      "text/plain": [
       "[<matplotlib.lines.Line2D at 0x7f70c17270f0>]"
      ]
     },
     "execution_count": 83,
     "metadata": {},
     "output_type": "execute_result"
    },
    {
     "data": {
      "image/png": "[encoded data removed]",
      "text/plain": [
       "<matplotlib.figure.Figure at 0x7f70c19b7b00>"
      ]
     },
     "metadata": {},
     "output_type": "display_data"
    }
   ],
   "source": [
    "plt.plot(theta, sp.stats.beta.pdf(theta, 2, 4))"
   ]
  },
  {
   "cell_type": "code",
   "execution_count": 45,
   "metadata": {
    "collapsed": false
   },
   "outputs": [
    {
     "data": {
      "text/plain": [
       "190"
      ]
     },
     "execution_count": 45,
     "metadata": {},
     "output_type": "execute_result"
    }
   ],
   "source": [
    "wc_sp_integration1 = np.zeros(k_approx)\n",
    "wc_sp_integration2 = np.zeros(k_approx)\n",
    "\n",
    "for k in tqdm(range(k_approx - 1)): \n",
    "    \n",
    "    integrand1 = lambda x : np.maximum(np.dot(g_eta, linear_sens.total_influence_function(x)), 0)[k] ** 2 * \\\n",
    "        np.exp(2 * linear_sens.get_log_q_pi(linear_sens.optimal_global_free_params, x, k) - \\\n",
    "               sp.stats.beta.logpdf(x, 1, alpha))\n",
    "\n",
    "\n",
    "    integrand2 = lambda x : np.maximum(-np.dot(g_eta, linear_sens.get_influence_operator(x, k)), 0)[k] ** 2 * \\\n",
    "        np.exp(2 * linear_sens.get_log_q_pi(linear_sens.optimal_global_free_params, x, k) - \\\n",
    "               sp.stats.beta.logpdf(x, 1, alpha))\n",
    "        \n",
    "    wc_sp_integration1[k] = sp.integrate.quad(integrand1, 0, 1)[0]\n",
    "    wc_sp_integration2[k] = sp.integrate.quad(integrand2, 0, 1)[0]\n"
   ]
  },
  {
   "cell_type": "code",
   "execution_count": null,
   "metadata": {
    "collapsed": true
   },
   "outputs": [],
   "source": []
  },
  {
   "cell_type": "code",
   "execution_count": null,
   "metadata": {
    "collapsed": true
   },
   "outputs": [],
   "source": []
  },
  {
   "cell_type": "code",
   "execution_count": null,
   "metadata": {
    "collapsed": false
   },
   "outputs": [],
   "source": [
    "linear_sens.get_worse_case_influence(g_eta, k)"
   ]
  },
  {
   "cell_type": "code",
   "execution_count": null,
   "metadata": {
    "collapsed": true
   },
   "outputs": [],
   "source": [
    "wc_gh_integration1 = np.zeros(k_approx)\n",
    "wc_gh_integration2 = np.zeros(k_approx)\n",
    "\n",
    "for k in range(k_approx - 1): \n",
    "    wc_gh_integration1_, wc_gh_integration2_ = linear_sens.worse_case_integration(g_eta, k)\n",
    "    wc_gh_integration1[k], wc_gh_integration2[k] = wc_gh_integration1_[k], wc_gh_integration2_[k]\n"
   ]
  },
  {
   "cell_type": "code",
   "execution_count": null,
   "metadata": {
    "collapsed": false,
    "scrolled": true
   },
   "outputs": [],
   "source": [
    "wc_sp_integration1 = np.zeros(k_approx)\n",
    "wc_sp_integration2 = np.zeros(k_approx)\n",
    "\n",
    "for k in tqdm(range(k_approx - 1)): \n",
    "    \n",
    "    integrand1 = lambda x : np.maximum(np.dot(g_eta, linear_sens.get_influence_operator(x, k)), 0)[k] ** 2 * \\\n",
    "        np.exp(2 * linear_sens.get_log_q_pi(linear_sens.optimal_global_free_params, x, k) - \\\n",
    "               sp.stats.beta.logpdf(x, 1, alpha))\n",
    "\n",
    "\n",
    "    integrand2 = lambda x : np.maximum(-np.dot(g_eta, linear_sens.get_influence_operator(x, k)), 0)[k] ** 2 * \\\n",
    "        np.exp(2 * linear_sens.get_log_q_pi(linear_sens.optimal_global_free_params, x, k) - \\\n",
    "               sp.stats.beta.logpdf(x, 1, alpha))\n",
    "        \n",
    "    wc_sp_integration1[k] = sp.integrate.quad(integrand1, 0, 1)[0]\n",
    "    wc_sp_integration2[k] = sp.integrate.quad(integrand2, 0, 1)[0]\n"
   ]
  },
  {
   "cell_type": "code",
   "execution_count": null,
   "metadata": {
    "collapsed": false
   },
   "outputs": [],
   "source": [
    "wc_sp_integration2"
   ]
  },
  {
   "cell_type": "code",
   "execution_count": null,
   "metadata": {
    "collapsed": false,
    "scrolled": true
   },
   "outputs": [],
   "source": [
    "wc_gh_integration2"
   ]
  },
  {
   "cell_type": "code",
   "execution_count": null,
   "metadata": {
    "collapsed": false,
    "scrolled": true
   },
   "outputs": [],
   "source": [
    "n_samples = int(1e5)\n",
    "\n",
    "wc_imp_integration1 = np.zeros(k_approx)\n",
    "wc_imp_integration2 = np.zeros(k_approx)\n",
    "\n",
    "for k in tqdm(range(k_approx - 1)): \n",
    "    mean = newton_results.vb_params['global']['v_sticks']['mean'].get()[k]\n",
    "    info = newton_results.vb_params['global']['v_sticks']['info'].get()[k]\n",
    "    \n",
    "    ratio = lambda x : np.exp(2 * linear_sens.get_log_q_pi(linear_sens.optimal_global_free_params, x, k) - \\\n",
    "                sp.stats.beta.logpdf(x, 1, alpha) - \n",
    "                       fun_sens_lib.get_log_logitnormal_density(x, mean, 0.5 * info))\n",
    "    \n",
    "    inf_op_pos = lambda x : np.maximum(np.dot(g_eta, linear_sens.get_influence_operator(x, k)), 0)[k] ** 2 \n",
    "    inf_op_neg = lambda x : np.maximum(-np.dot(g_eta, linear_sens.get_influence_operator(x, k)), 0)[k] ** 2 \n",
    "    \n",
    "    integrand1 = lambda x : inf_op_pos(x) * ratio(x)\n",
    "    integrand2 = lambda x : inf_op_neg(x) * ratio(x)\n",
    "    \n",
    "    # sample from variational distribution \n",
    "    x = np.random.normal(mean, 1/np.sqrt(0.5 * info), size = n_samples)\n",
    "    x = sp.special.expit(x)\n",
    "    \n",
    "    wc_imp_integration1[k] = np.mean(integrand1(x))\n",
    "    wc_imp_integration2[k] = np.mean(integrand2(x))\n"
   ]
  },
  {
   "cell_type": "code",
   "execution_count": null,
   "metadata": {
    "collapsed": false
   },
   "outputs": [],
   "source": [
    "wc_imp_integration2"
   ]
  },
  {
   "cell_type": "code",
   "execution_count": null,
   "metadata": {
    "collapsed": false
   },
   "outputs": [],
   "source": [
    "wc_sp_integration2"
   ]
  },
  {
   "cell_type": "code",
   "execution_count": null,
   "metadata": {
    "collapsed": false
   },
   "outputs": [],
   "source": [
    "wc_imp_integration1"
   ]
  },
  {
   "cell_type": "code",
   "execution_count": null,
   "metadata": {
    "collapsed": false
   },
   "outputs": [],
   "source": [
    "wc_sp_integration1"
   ]
  },
  {
   "cell_type": "code",
   "execution_count": null,
   "metadata": {
    "collapsed": true
   },
   "outputs": [],
   "source": []
  }
 ],
 "metadata": {
  "kernelspec": {
   "display_name": "Python 3",
   "language": "python",
   "name": "python3"
  },
  "language_info": {
   "codemirror_mode": {
    "name": "ipython",
    "version": 3
   },
   "file_extension": ".py",
   "mimetype": "text/x-python",
   "name": "python",
   "nbconvert_exporter": "python",
   "pygments_lexer": "ipython3",
   "version": "3.6.0"
  }
 },
 "nbformat": 4,
 "nbformat_minor": 2
}
