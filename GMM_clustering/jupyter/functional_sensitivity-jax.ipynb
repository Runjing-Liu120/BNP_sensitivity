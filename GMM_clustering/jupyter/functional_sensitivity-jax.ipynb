{
 "cells": [
  {
   "cell_type": "markdown",
   "metadata": {},
   "source": [
    "This notebook demonstrates use of our linear approximation for a multiplicative functional perturbation "
   ]
  },
  {
   "cell_type": "code",
   "execution_count": 1,
   "metadata": {},
   "outputs": [
    {
     "name": "stderr",
     "output_type": "stream",
     "text": [
      "/home/rliu/anaconda3/envs/bnp_sensitivity_jax/lib/python3.8/site-packages/jax/lib/xla_bridge.py:130: UserWarning: No GPU/TPU found, falling back to CPU.\n",
      "  warnings.warn('No GPU/TPU found, falling back to CPU.')\n"
     ]
    }
   ],
   "source": [
    "import jax\n",
    "from jax import numpy as np\n",
    "from jax import scipy as sp\n",
    "\n",
    "from numpy.polynomial.hermite import hermgauss\n",
    "\n",
    "import paragami\n",
    "\n",
    "# BNP sensitivity libraries\n",
    "import bnpgmm_runjingdev.gmm_clustering_lib as gmm_lib\n",
    "import bnpgmm_runjingdev.gmm_cavi_lib as cavi_lib\n",
    "from bnpgmm_runjingdev import utils_lib\n",
    "\n",
    "from bnpmodeling_runjingdev.sensitivity_lib import HyperparameterSensitivityLinearApproximation\n",
    "import bnpmodeling_runjingdev.functional_sensitivity_lib as func_sens_lib \n",
    "from bnpmodeling_runjingdev import cluster_quantities_lib as cluster_lib\n",
    "\n",
    "\n",
    "import matplotlib.pyplot as plt\n",
    "%matplotlib inline\n",
    "\n",
    "from sklearn.decomposition import PCA\n",
    "\n",
    "from copy import deepcopy\n",
    "\n",
    "import vittles\n",
    "from tqdm import tqdm\n",
    "\n",
    "import json "
   ]
  },
  {
   "cell_type": "code",
   "execution_count": 2,
   "metadata": {},
   "outputs": [],
   "source": [
    "# colors for plotting\n",
    "import matplotlib.cm as cm\n",
    "\n",
    "cmap = cm.get_cmap(name='gist_rainbow')\n",
    "colors1 = [cmap(k * 50) for k in range(12)]\n",
    "colors2 = [cmap(k * 25) for k in range(12)]"
   ]
  },
  {
   "cell_type": "markdown",
   "metadata": {},
   "source": [
    "# Load data"
   ]
  },
  {
   "cell_type": "markdown",
   "metadata": {},
   "source": [
    "We load and plot the iris dataset"
   ]
  },
  {
   "cell_type": "code",
   "execution_count": 3,
   "metadata": {},
   "outputs": [],
   "source": [
    "# load iris data\n",
    "dataset_name = 'iris'\n",
    "features, iris_species = utils_lib.load_data()\n",
    "dim = features.shape[1]\n",
    "n_obs = len(iris_species)    "
   ]
  },
  {
   "cell_type": "code",
   "execution_count": 4,
   "metadata": {},
   "outputs": [
    {
     "data": {
      "text/plain": [
       "Text(0, 0.5, 'PC2')"
      ]
     },
     "execution_count": 4,
     "metadata": {},
     "output_type": "execute_result"
    },
    {
     "data": {
      "image/png": "[encoded data removed]",
      "text/plain": [
       "<Figure size 432x288 with 1 Axes>"
      ]
     },
     "metadata": {
      "needs_background": "light"
     },
     "output_type": "display_data"
    }
   ],
   "source": [
    "# run PCA\n",
    "pca_fit = PCA()\n",
    "pca_fit.fit(features)\n",
    "pc_features = pca_fit.transform(features)\n",
    "\n",
    "# plot\n",
    "cmap = cm.get_cmap(name='gist_rainbow')\n",
    "colors1 = [cmap(k * 50) for k in range(30)]\n",
    "\n",
    "fig1 = plt.figure(1)\n",
    "fig = fig1.add_subplot(111)\n",
    "utils_lib.plot_clusters(pc_features[:, 0], pc_features[:, 1], iris_species, colors1, fig)\n",
    "fig.set_xlabel('PC1')\n",
    "fig.set_ylabel('PC2')\n"
   ]
  },
  {
   "cell_type": "markdown",
   "metadata": {},
   "source": [
    "# Load model"
   ]
  },
  {
   "cell_type": "markdown",
   "metadata": {},
   "source": [
    "### Get prior "
   ]
  },
  {
   "cell_type": "code",
   "execution_count": 5,
   "metadata": {},
   "outputs": [],
   "source": [
    "prior_params_dict, prior_params_paragami = gmm_lib.get_default_prior_params(dim)"
   ]
  },
  {
   "cell_type": "code",
   "execution_count": 6,
   "metadata": {},
   "outputs": [
    {
     "name": "stdout",
     "output_type": "stream",
     "text": [
      "{'alpha': DeviceArray([3.], dtype=float64), 'prior_centroid_mean': DeviceArray([0.], dtype=float64), 'prior_lambda': DeviceArray([1.], dtype=float64), 'prior_wishart_df': DeviceArray([10.], dtype=float64), 'prior_wishart_rate': DeviceArray([[1., 0., 0., 0.],\n",
      "             [0., 1., 0., 0.],\n",
      "             [0., 0., 1., 0.],\n",
      "             [0., 0., 0., 1.]], dtype=float64)}\n"
     ]
    }
   ],
   "source": [
    "print(prior_params_dict)"
   ]
  },
  {
   "cell_type": "code",
   "execution_count": 7,
   "metadata": {},
   "outputs": [],
   "source": [
    "# DP prior parameter \n",
    "prior_params_dict['alpha'] = 12"
   ]
  },
  {
   "cell_type": "markdown",
   "metadata": {},
   "source": [
    "### Variational parameters"
   ]
  },
  {
   "cell_type": "code",
   "execution_count": 8,
   "metadata": {},
   "outputs": [],
   "source": [
    "k_approx = 30"
   ]
  },
  {
   "cell_type": "code",
   "execution_count": 9,
   "metadata": {},
   "outputs": [],
   "source": [
    "# Gauss-Hermite points\n",
    "gh_deg = 20\n",
    "gh_loc, gh_weights = hermgauss(gh_deg)\n"
   ]
  },
  {
   "cell_type": "code",
   "execution_count": 10,
   "metadata": {},
   "outputs": [],
   "source": [
    "# get vb parameters\n",
    "vb_params_dict, vb_params_paragami = gmm_lib.get_vb_params_paragami_object(dim, k_approx)"
   ]
  },
  {
   "cell_type": "code",
   "execution_count": 11,
   "metadata": {},
   "outputs": [
    {
     "data": {
      "text/plain": [
       "DeviceArray(1889.86954163, dtype=float64)"
      ]
     },
     "execution_count": 11,
     "metadata": {},
     "output_type": "execute_result"
    }
   ],
   "source": [
    "# the objective \n",
    "gmm_lib.get_kl(features, vb_params_dict, prior_params_dict, gh_loc, gh_weights)"
   ]
  },
  {
   "cell_type": "code",
   "execution_count": null,
   "metadata": {},
   "outputs": [],
   "source": []
  },
  {
   "cell_type": "markdown",
   "metadata": {},
   "source": [
    "# Optimize"
   ]
  },
  {
   "cell_type": "markdown",
   "metadata": {},
   "source": [
    "### Kmeans"
   ]
  },
  {
   "cell_type": "code",
   "execution_count": 12,
   "metadata": {},
   "outputs": [],
   "source": [
    "n_kmeans_init = 50\n",
    "init_vb_free_params, init_vb_params_dict, init_ez = \\\n",
    "    utils_lib.cluster_and_get_k_means_inits(features, vb_params_paragami, \n",
    "                                                n_kmeans_init = n_kmeans_init, \n",
    "                                                seed = 32423)"
   ]
  },
  {
   "cell_type": "markdown",
   "metadata": {},
   "source": [
    "### Run CAVI"
   ]
  },
  {
   "cell_type": "code",
   "execution_count": 13,
   "metadata": {},
   "outputs": [],
   "source": [
    "vb_params_dict = deepcopy(init_vb_params_dict)"
   ]
  },
  {
   "cell_type": "code",
   "execution_count": 14,
   "metadata": {},
   "outputs": [
    {
     "name": "stdout",
     "output_type": "stream",
     "text": [
      "Compiling CAVI update functions ... \n",
      "CAVI compile time: 3.99sec\n",
      "\n",
      "Running CAVI ... \n",
      "done. num iterations = 140\n",
      "stick_time: 1.14sec\n",
      "cluster_time: 0.659sec\n",
      "e_z_time: 0.0276sec\n",
      "**CAVI time: 1.95sec**\n"
     ]
    }
   ],
   "source": [
    "vb_opt_dict, e_z_opt = cavi_lib.run_cavi(features, vb_params_dict,\n",
    "                                            vb_params_paragami, prior_params_dict,\n",
    "                                            gh_loc, gh_weights,\n",
    "                                            debug = False, \n",
    "                                            x_tol = 1e-3)"
   ]
  },
  {
   "cell_type": "code",
   "execution_count": 15,
   "metadata": {},
   "outputs": [],
   "source": [
    "vb_opt = vb_params_paragami.flatten(vb_opt_dict, free = True)"
   ]
  },
  {
   "cell_type": "code",
   "execution_count": 16,
   "metadata": {},
   "outputs": [
    {
     "data": {
      "text/plain": [
       "DeviceArray([ 4.26203147e-01, -8.20905166e-01, -1.45877238e-02,\n",
       "             -1.32393435e-02, -1.20077646e-02, -1.09774619e-02,\n",
       "             -1.00167763e-02, -9.14001239e-03, -8.35771306e-03,\n",
       "             -7.64859518e-03, -7.00370767e-03, -6.41643447e-03,\n",
       "             -5.88100156e-03, -5.39232775e-03, -4.94594951e-03,\n",
       "             -4.53790266e-03, -4.16465218e-03, -3.82303388e-03,\n",
       "             -3.51020677e-03, -3.22361345e-03, -2.96094660e-03,\n",
       "             -2.72012042e-03, -2.49924604e-03, -2.29661034e-03,\n",
       "             -2.11065742e-03, -1.93997242e-03, -1.78326737e-03,\n",
       "             -1.63936862e-03, -1.50720574e-03, -2.75233557e-02,\n",
       "             -1.80408707e-01,  3.63417572e-01, -5.06579687e-02,\n",
       "             -4.57954937e-02, -4.13919361e-02, -3.77345063e-02,\n",
       "             -3.43445316e-02, -3.12671881e-02, -2.85342522e-02,\n",
       "             -2.60670793e-02, -2.38314811e-02, -2.18021559e-02,\n",
       "             -1.99572780e-02, -1.82778447e-02, -1.67473161e-02,\n",
       "             -1.53511302e-02, -1.40764048e-02, -1.29116922e-02,\n",
       "             -1.18467815e-02, -1.08725366e-02, -9.98075923e-03,\n",
       "             -9.16407547e-03, -8.41583778e-03, -7.73004205e-03,\n",
       "             -7.10125584e-03, -6.52455629e-03, -5.99547610e-03,\n",
       "             -5.50995623e-03, -5.06430448e-03, -1.00268679e-01,\n",
       "              1.15587240e+00, -2.25097367e+00,  4.84587067e-02,\n",
       "              4.36528214e-02,  3.93313669e-02,  3.57640279e-02,\n",
       "              3.24745560e-02,  2.95023620e-02,  2.68737282e-02,\n",
       "              2.45093644e-02,  2.23739034e-02,  2.04411420e-02,\n",
       "              1.86886733e-02,  1.70971480e-02,  1.56498447e-02,\n",
       "              1.43321442e-02,  1.31311966e-02,  1.20356511e-02,\n",
       "              1.10354392e-02,  1.01215976e-02,  9.28612120e-03,\n",
       "              8.52184063e-03,  7.82231872e-03,  7.18176261e-03,\n",
       "              6.59494876e-03,  6.05715834e-03,  5.56412146e-03,\n",
       "              5.11196876e-03,  4.69718905e-03,  9.98721670e-02,\n",
       "              4.81445397e-01, -9.34639542e-01,  9.62484708e-03,\n",
       "              8.67045366e-03,  7.81331380e-03,  7.10626861e-03,\n",
       "              6.45452951e-03,  5.86572068e-03,  5.34493613e-03,\n",
       "              4.87641187e-03,  4.45311927e-03,  4.06986479e-03,\n",
       "              3.72221789e-03,  3.40635956e-03,  3.11899376e-03,\n",
       "              2.85724134e-03,  2.61857289e-03,  2.40075452e-03,\n",
       "              2.20180468e-03,  2.01995890e-03,  1.85364082e-03,\n",
       "              1.70143792e-03,  1.56208124e-03,  1.43442812e-03,\n",
       "              1.31744750e-03,  1.21020733e-03,  1.11186363e-03,\n",
       "              1.02165103e-03,  9.38874576e-04,  2.00194416e-02,\n",
       "              1.04281975e+00, -1.19825421e+00,  1.24744092e+00,\n",
       "             -2.12647052e+00, -2.77306874e-01,  7.05517067e-01,\n",
       "              1.24126874e+00, -1.00827648e+00, -3.07107186e+00,\n",
       "              8.53980641e-01,  1.29538665e+00, -2.06257399e+00,\n",
       "              9.55078166e-01, -1.12674221e+00,  1.85616146e-01,\n",
       "              1.17985195e+00, -7.10018951e-01, -3.02689526e-01,\n",
       "             -3.26481402e+00,  1.55862578e+00,  8.11850659e-01,\n",
       "             -1.92795261e-02,  8.07771174e-01, -1.22892650e-02,\n",
       "              1.86283057e-02,  8.04117420e-01, -1.09613898e-03,\n",
       "             -5.61223301e-03, -2.39679491e-02,  8.19736499e-01,\n",
       "              8.11101288e-01, -1.74137644e-02,  8.07389585e-01,\n",
       "             -1.09882793e-02,  1.68061371e-02,  8.04139767e-01,\n",
       "             -1.03450861e-03, -4.97463101e-03, -2.13546769e-02,\n",
       "              8.18147820e-01,  8.10435423e-01, -1.57260095e-02,\n",
       "              8.07062483e-01, -9.83567514e-03,  1.51611456e-02,\n",
       "              8.04167480e-01, -9.69350583e-04, -4.41677617e-03,\n",
       "             -1.90529982e-02,  8.16738682e-01,  8.09891344e-01,\n",
       "             -1.43256893e-02,  8.06803512e-01, -8.89577391e-03,\n",
       "              1.37992994e-02,  8.04195554e-01, -9.08722396e-04,\n",
       "             -3.96707528e-03, -1.71864099e-02,  8.15588968e-01,\n",
       "              8.09394218e-01, -1.30292699e-02,  8.06573492e-01,\n",
       "             -8.03840879e-03,  1.25403076e-02,  8.04225626e-01,\n",
       "             -8.47586568e-04, -3.56122095e-03, -1.54914400e-02,\n",
       "              8.14539707e-01,  8.08948788e-01, -1.18537305e-02,\n",
       "              8.06372738e-01, -7.27115219e-03,  1.14003677e-02,\n",
       "              8.04256155e-01, -7.88115678e-04, -3.20171861e-03,\n",
       "             -1.39811381e-02,  8.13600520e-01,  8.08557794e-01,\n",
       "             -1.08108644e-02,  8.06200676e-01, -6.59826026e-03,\n",
       "              1.03904999e-02,  8.04285749e-01, -7.32234726e-04,\n",
       "             -2.88943101e-03, -1.26618521e-02,  8.12776833e-01,\n",
       "              8.08208477e-01, -9.87037270e-03,  8.06050251e-01,\n",
       "             -5.99749351e-03,  9.48087371e-03,  8.04314420e-01,\n",
       "             -6.79401735e-04, -2.61307990e-03, -1.14881613e-02,\n",
       "              8.12041487e-01,  8.07894905e-01, -9.01898477e-03,\n",
       "              8.05917871e-01, -5.45846277e-03,  8.65833543e-03,\n",
       "              8.04341960e-01, -6.29633279e-04, -2.36717302e-03,\n",
       "             -1.04384890e-02,  8.11381807e-01,  8.07612672e-01,\n",
       "             -8.24686069e-03,  8.05800868e-01, -4.97346895e-03,\n",
       "              7.91312762e-03,  8.04368214e-01, -5.82941273e-04,\n",
       "             -2.14762175e-03, -9.49683570e-03,  8.10788383e-01,\n",
       "              8.07358060e-01, -7.54552093e-03,  8.05697061e-01,\n",
       "             -4.53603669e-03,  7.23686171e-03,  8.04393096e-01,\n",
       "             -5.39273995e-04, -1.95102261e-03, -8.64982084e-03,\n",
       "              8.10253286e-01,  8.07127894e-01, -6.90759198e-03,\n",
       "              8.05604649e-01, -4.14066099e-03,  6.62226014e-03,\n",
       "              8.04416569e-01, -4.98537164e-04, -1.77451320e-03,\n",
       "             -7.88613257e-03,  8.09769769e-01,  8.06919464e-01,\n",
       "             -6.32666359e-03,  8.05522133e-01, -3.78264919e-03,\n",
       "              6.06300913e-03,  8.04438632e-01, -4.60612064e-04,\n",
       "             -1.61567826e-03, -7.19617760e-03,  8.09332071e-01,\n",
       "              8.06730426e-01, -5.79710021e-03,  8.05448255e-01,\n",
       "             -3.45795282e-03,  5.55356949e-03,  8.04459307e-01,\n",
       "             -4.25363755e-04, -1.47245660e-03, -6.57172241e-03,\n",
       "              8.08935222e-01,  8.06558741e-01, -5.31392353e-03,\n",
       "              8.05381953e-01, -3.16305684e-03,  5.08905767e-03,\n",
       "              8.04478634e-01, -3.92648591e-04, -1.34307790e-03,\n",
       "             -6.00565405e-03,  8.08574903e-01,  8.06402625e-01,\n",
       "             -4.87271616e-03,  8.05322318e-01, -2.89489146e-03,\n",
       "              4.66514853e-03,  8.04496663e-01, -3.62319423e-04,\n",
       "             -1.22601259e-03, -5.49179024e-03,  8.08247340e-01,\n",
       "              8.06260512e-01, -4.46954389e-03,  8.05268577e-01,\n",
       "             -2.65076217e-03,  4.27799685e-03,  8.04513453e-01,\n",
       "             -3.34229305e-04, -1.11993224e-03, -5.02472933e-03,\n",
       "              8.07949223e-01,  8.06131019e-01, -4.10089153e-03,\n",
       "              8.05220058e-01, -2.42829342e-03,  3.92417271e-03,\n",
       "              8.04529067e-01, -3.08234065e-04, -1.02367769e-03,\n",
       "             -4.59972970e-03,  8.07677633e-01,  8.06012922e-01,\n",
       "             -3.76360938e-03,  8.05176184e-01, -2.22538255e-03,\n",
       "              3.60060768e-03,  8.04543568e-01, -2.84194056e-04,\n",
       "             -9.36233162e-04, -4.21261168e-03,  8.07429984e-01,\n",
       "              8.05905131e-01, -3.45486818e-03,  8.05136452e-01,\n",
       "             -2.04016185e-03,  3.30454958e-03,  8.04557023e-01,\n",
       "             -2.61975298e-04, -8.56705125e-04, -3.85967711e-03,\n",
       "              8.07203984e-01,  8.05806677e-01, -3.17212078e-03,\n",
       "              8.05100422e-01, -1.87096707e-03,  3.03352409e-03,\n",
       "              8.04569494e-01, -2.41450192e-04, -7.84304770e-04,\n",
       "             -3.53764275e-03,  8.06997589e-01,  8.05716693e-01,\n",
       "             -2.91306946e-03,  8.05067710e-01, -1.71631101e-03,\n",
       "              2.78530208e-03,  8.04581045e-01, -2.22497901e-04,\n",
       "             -7.18333491e-04, -3.24358471e-03,  8.06808972e-01,\n",
       "              8.05634402e-01, -2.67563775e-03,  8.05037976e-01,\n",
       "             -1.57486123e-03,  2.55787153e-03,  8.04591737e-01,\n",
       "             -2.05004516e-04, -6.58170726e-04, -2.97489184e-03,\n",
       "              8.06636499e-01,  8.05559105e-01, -2.45794607e-03,\n",
       "              8.05010922e-01, -1.44542116e-03,  2.34941326e-03,\n",
       "              8.04601627e-01, -1.88863044e-04, -6.03263725e-04,\n",
       "             -2.72922640e-03,  8.06478701e-01,  8.05490175e-01,\n",
       "             -2.25829061e-03,  8.04986284e-01, -1.32691399e-03,\n",
       "              2.15827994e-03,  8.04610770e-01, -1.73973290e-04,\n",
       "             -5.53118901e-04, -2.50449053e-03,  8.06334260e-01,\n",
       "              8.05427046e-01, -2.07512485e-03,  8.04963826e-01,\n",
       "             -1.21836878e-03,  1.98297780e-03,  8.04619219e-01,\n",
       "             -1.60241653e-04, -5.07294467e-04, -2.29879771e-03,\n",
       "              8.06201984e-01,  8.05369206e-01, -1.90704333e-03,\n",
       "              8.04943340e-01, -1.11890858e-03,  1.82215056e-03,\n",
       "              8.04627024e-01, -1.47580865e-04, -4.65394155e-04,\n",
       "             -2.11044815e-03,  8.06080800e-01,  8.20455628e-01,\n",
       "             -3.83336318e-02,  8.13168598e-01, -2.77093834e-02,\n",
       "              3.74445581e-02,  8.04506495e-01, -9.49309587e-04,\n",
       "             -1.36137249e-02, -5.59209357e-02,  8.38239674e-01,\n",
       "              4.31032354e-01,  1.29810720e+00, -2.85275970e+00,\n",
       "             -2.86708813e+00, -2.88183632e+00, -2.88857144e+00,\n",
       "             -2.89697200e+00, -2.90529956e+00, -2.91149116e+00,\n",
       "             -2.91683031e+00, -2.92156013e+00, -2.92576691e+00,\n",
       "             -2.92952239e+00, -2.93288851e+00, -2.93591362e+00,\n",
       "             -2.93863853e+00, -2.94109788e+00, -2.94332141e+00,\n",
       "             -2.94533483e+00, -2.94716051e+00, -2.94881803e+00,\n",
       "             -2.95032455e+00, -2.95169522e+00, -2.95294345e+00,\n",
       "             -2.95408112e+00, -2.95511881e+00, -2.95606598e+00,\n",
       "             -2.95693106e+00, -2.95772164e+00,  3.65535262e+00,\n",
       "              2.39711823e+00,  2.55447902e-02,  4.03904266e-03,\n",
       "             -1.81282299e-02, -2.93410219e-02, -4.28761302e-02,\n",
       "             -5.62793420e-02, -6.66765601e-02, -7.58334331e-02,\n",
       "             -8.40749005e-02, -9.15128986e-02, -9.82426019e-02,\n",
       "             -1.04348096e-01, -1.09896399e-01, -1.14945405e-01,\n",
       "             -1.19545376e-01, -1.23740408e-01, -1.27569455e-01,\n",
       "             -1.31067098e-01, -1.34264166e-01, -1.37188232e-01,\n",
       "             -1.39864034e-01, -1.42313819e-01, -1.44557640e-01,\n",
       "             -1.46613607e-01, -1.48498104e-01, -1.50225976e-01,\n",
       "             -1.51810693e-01], dtype=float64)"
      ]
     },
     "execution_count": 16,
     "metadata": {},
     "output_type": "execute_result"
    }
   ],
   "source": [
    "vb_opt"
   ]
  },
  {
   "cell_type": "code",
   "execution_count": 17,
   "metadata": {},
   "outputs": [],
   "source": [
    "def plot_results_from_vb_params_dict(pca_fit, vb_params_dict, e_z, fig): \n",
    "    # we plot in PCA space\n",
    "    bnp_centroids_pc, bnp_cluster_covs_pc = \\\n",
    "        utils_lib.transform_params_to_pc_space(pca_fit, vb_params_dict['cluster_params']['centroids'], \n",
    "                                               np.linalg.inv(vb_params_dict['cluster_params']['cluster_info']))\n",
    "    \n",
    "    bnp_clusters = np.argmax(e_z, axis = 1)\n",
    "    \n",
    "    cmap = cm.get_cmap(name='gist_rainbow')\n",
    "    colors1 = [cmap(k * 50) for k in range(30)]\n",
    "\n",
    "    utils_lib.plot_clusters(pc_features[:, 0], pc_features[:, 1], bnp_clusters, \\\n",
    "                  colors1, fig, \\\n",
    "                  centroids = bnp_centroids_pc[:, np.unique(bnp_clusters)], \n",
    "                cov = bnp_cluster_covs_pc[np.unique(bnp_clusters), :, :])\n"
   ]
  },
  {
   "cell_type": "code",
   "execution_count": 18,
   "metadata": {},
   "outputs": [
    {
     "data": {
      "image/png": "[encoded data removed]",
      "text/plain": [
       "<Figure size 432x288 with 1 Axes>"
      ]
     },
     "metadata": {
      "needs_background": "light"
     },
     "output_type": "display_data"
    }
   ],
   "source": [
    "# results\n",
    "fig1 = plt.figure(1)\n",
    "fig = fig1.add_subplot(111)\n",
    "\n",
    "plot_results_from_vb_params_dict(pca_fit, vb_opt_dict, e_z_opt, fig)"
   ]
  },
  {
   "cell_type": "markdown",
   "metadata": {},
   "source": [
    "# Define a perturbation in the logit v space."
   ]
  },
  {
   "cell_type": "code",
   "execution_count": 19,
   "metadata": {},
   "outputs": [],
   "source": [
    "def log_phi(logit_v):\n",
    "    return(sp.special.expit(logit_v))\n",
    "\n",
    "def phi(logit_v):\n",
    "    return np.exp(log_phi(logit_v))\n"
   ]
  },
  {
   "cell_type": "code",
   "execution_count": 20,
   "metadata": {},
   "outputs": [
    {
     "name": "stdout",
     "output_type": "stream",
     "text": [
      "phi max:  2.717370405124736\n",
      "log phi max:  0.9996646498695336\n"
     ]
    }
   ],
   "source": [
    "logit_v_grid = np.linspace(-8, 8, 200)\n",
    "\n",
    "v_grid = np.exp(logit_v_grid) / (1 + np.exp(logit_v_grid))\n",
    "\n",
    "print('phi max: ', np.max(phi(logit_v_grid)))\n",
    "log_phi_max = np.max(np.abs(np.log(phi(logit_v_grid))))\n",
    "print('log phi max: ', log_phi_max)\n",
    "\n",
    "def rescaled_log_phi(logit_v):\n",
    "    return 10 * log_phi(logit_v) / log_phi_max\n"
   ]
  },
  {
   "cell_type": "code",
   "execution_count": 21,
   "metadata": {},
   "outputs": [
    {
     "name": "stdout",
     "output_type": "stream",
     "text": [
      "-2.4849066497879995 1.1634968823127931 -2.4889315240780148 1.1662640532746475\n"
     ]
    }
   ],
   "source": [
    "prior_perturbation = func_sens_lib.PriorPerturbation(\n",
    "                                alpha0 = prior_params_dict['alpha'],\n",
    "                                log_phi = rescaled_log_phi, \n",
    "                                logit_v_ub=8, logit_v_lb = -8)\n",
    "\n",
    "print(\n",
    "    prior_perturbation.log_norm_p0,\n",
    "    prior_perturbation.log_norm_pc,\n",
    "    prior_perturbation.log_norm_p0_logit,\n",
    "    prior_perturbation.log_norm_pc_logit)"
   ]
  },
  {
   "cell_type": "code",
   "execution_count": 22,
   "metadata": {},
   "outputs": [
    {
     "data": {
      "text/plain": [
       "Text(0.5, 1.0, 'Priors in logit space')"
      ]
     },
     "execution_count": 22,
     "metadata": {},
     "output_type": "execute_result"
    },
    {
     "data": {
      "image/png": "[encoded data removed]",
      "text/plain": [
       "<Figure size 1296x360 with 4 Axes>"
      ]
     },
     "metadata": {
      "needs_background": "light"
     },
     "output_type": "display_data"
    }
   ],
   "source": [
    "prior_perturbation.set_epsilon(1.0)\n",
    "\n",
    "plt.figure(1, figsize=(18, 5))\n",
    "\n",
    "plt.subplot(141)\n",
    "plt.plot(logit_v_grid, prior_perturbation.get_log_p0_logit(logit_v_grid))\n",
    "plt.plot(logit_v_grid, prior_perturbation.get_log_pc_logit(logit_v_grid))\n",
    "plt.title('Log priors in logit space')\n",
    "\n",
    "plt.subplot(142)\n",
    "plt.plot(logit_v_grid, prior_perturbation.log_phi(logit_v_grid))\n",
    "plt.title('log phi in logit space')\n",
    "\n",
    "plt.subplot(143)\n",
    "plt.plot(v_grid, np.exp(prior_perturbation.get_log_p0(v_grid)))\n",
    "plt.plot(v_grid, np.exp(prior_perturbation.get_log_pc(v_grid)))\n",
    "plt.title('Priors in stick space')\n",
    "\n",
    "plt.subplot(144)\n",
    "plt.plot(logit_v_grid, np.exp(prior_perturbation.get_log_p0_logit(logit_v_grid)))\n",
    "plt.plot(logit_v_grid, np.exp(prior_perturbation.get_log_pc_logit(logit_v_grid)))\n",
    "plt.title('Priors in logit space')\n"
   ]
  },
  {
   "cell_type": "code",
   "execution_count": null,
   "metadata": {},
   "outputs": [],
   "source": []
  },
  {
   "cell_type": "code",
   "execution_count": 23,
   "metadata": {},
   "outputs": [],
   "source": [
    "log_prior_pert = lambda logit_v : rescaled_log_phi(logit_v) - prior_perturbation.log_norm_pc_logit"
   ]
  },
  {
   "cell_type": "markdown",
   "metadata": {
    "collapsed": true
   },
   "source": [
    "# Define prior perturbation"
   ]
  },
  {
   "cell_type": "code",
   "execution_count": 24,
   "metadata": {},
   "outputs": [],
   "source": [
    "# we will use this for the sensitivity class\n",
    "get_epsilon_vb_loss = paragami.FlattenFunctionInput(\n",
    "    lambda params, epsilon: gmm_lib.get_perturbed_kl(\n",
    "                                                        features, \n",
    "                                                        params,\n",
    "                                                        epsilon,\n",
    "                                                        log_prior_pert,\n",
    "                                                        prior_params_dict, \n",
    "                                                        gh_loc, gh_weights),\n",
    "    argnums=0, patterns=vb_params_paragami, free=True)\n",
    "\n",
    "def get_e_log_perturbation(log_phi, vb_params_dict, epsilon, gh_loc, gh_weights): \n",
    "    return func_sens_lib.get_e_log_perturbation(log_phi,\n",
    "                            vb_params_dict['stick_params']['stick_propn_mean'],\n",
    "                            vb_params_dict['stick_params']['stick_propn_info'],\n",
    "                            epsilon, gh_loc, gh_weights, sum_vector=True)\n",
    "\n",
    "\n",
    "hyper_par_objective_fun = paragami.FlattenFunctionInput(\n",
    "    lambda params, epsilon: get_e_log_perturbation(log_prior_pert, \n",
    "                                                    params,\n",
    "                                                    epsilon,\n",
    "                                                    gh_loc, gh_weights),\n",
    "    argnums=0, patterns=vb_params_paragami, free=True)"
   ]
  },
  {
   "cell_type": "code",
   "execution_count": 25,
   "metadata": {},
   "outputs": [],
   "source": [
    "epsilon0 = np.array([0.])"
   ]
  },
  {
   "cell_type": "code",
   "execution_count": 26,
   "metadata": {},
   "outputs": [
    {
     "name": "stdout",
     "output_type": "stream",
     "text": [
      "Compiling objective function derivatives ... \n",
      "Compile time: 19.2sec\n",
      "\n",
      "Objective function derivative time: 0.000888sec\n",
      "\n",
      "Linear system compile time: 0.905sec\n",
      "Linear system time: 0.00177sec\n"
     ]
    }
   ],
   "source": [
    "epsilon_sens = \\\n",
    "    HyperparameterSensitivityLinearApproximation(\n",
    "        objective_fun = get_epsilon_vb_loss, \n",
    "        opt_par_value = vb_opt, \n",
    "        hyper_par_value0 = epsilon0, \n",
    "        hyper_par_objective_fun = hyper_par_objective_fun)"
   ]
  },
  {
   "cell_type": "code",
   "execution_count": null,
   "metadata": {},
   "outputs": [],
   "source": []
  },
  {
   "cell_type": "markdown",
   "metadata": {},
   "source": [
    "## Fit with perturbation"
   ]
  },
  {
   "cell_type": "code",
   "execution_count": 27,
   "metadata": {},
   "outputs": [
    {
     "name": "stdout",
     "output_type": "stream",
     "text": [
      "Epsilon:  1.0\n",
      "Predicted differences:  4.287180477837873\n"
     ]
    }
   ],
   "source": [
    "epsilon = 1.0 \n",
    "print('Epsilon: ', epsilon)\n",
    "\n",
    "vb_pert_pred = epsilon_sens.predict_opt_par_from_hyper_par(epsilon)\n",
    "\n",
    "print('Predicted differences: ', np.linalg.norm(vb_pert_pred - vb_opt))"
   ]
  },
  {
   "cell_type": "code",
   "execution_count": 28,
   "metadata": {
    "scrolled": true
   },
   "outputs": [],
   "source": [
    "vb_pert_pred_dict = vb_params_paragami.fold(vb_pert_pred, free = True)\n",
    "e_z_pert_pred = gmm_lib.get_optimal_z_from_vb_params_dict(\n",
    "    features, vb_pert_pred_dict, gh_loc, gh_weights)"
   ]
  },
  {
   "cell_type": "code",
   "execution_count": 29,
   "metadata": {},
   "outputs": [],
   "source": [
    "new_init_dict = deepcopy(vb_opt_dict)\n",
    "new_init_free = vb_params_paragami.flatten(new_init_dict, free = True)"
   ]
  },
  {
   "cell_type": "code",
   "execution_count": 30,
   "metadata": {
    "scrolled": false
   },
   "outputs": [
    {
     "name": "stdout",
     "output_type": "stream",
     "text": [
      "Compiling CAVI update functions ... \n",
      "CAVI compile time: 4.12sec\n",
      "\n",
      "Running CAVI ... \n",
      "done. num iterations = 132\n",
      "stick_time: 1.08sec\n",
      "cluster_time: 0.0506sec\n",
      "e_z_time: 0.0281sec\n",
      "**CAVI time: 1.23sec**\n"
     ]
    }
   ],
   "source": [
    "vb_pert_dict, e_z_pert = cavi_lib.run_cavi(features, deepcopy(new_init_dict),\n",
    "                                        vb_params_paragami, prior_params_dict,\n",
    "                                        gh_loc, gh_weights,\n",
    "                                        log_phi = rescaled_log_phi, epsilon = epsilon, \n",
    "                                       debug = False)\n",
    "\n",
    "vb_pert_opt = vb_params_paragami.flatten(vb_pert_dict, free = True)"
   ]
  },
  {
   "cell_type": "code",
   "execution_count": 31,
   "metadata": {},
   "outputs": [],
   "source": [
    "vb_pert_opt_dict = vb_params_paragami.fold(vb_pert_opt, free = True)\n",
    "e_z_pert_opt = gmm_lib.get_optimal_z_from_vb_params_dict(features, vb_pert_opt_dict, gh_loc, gh_weights)"
   ]
  },
  {
   "cell_type": "code",
   "execution_count": 32,
   "metadata": {},
   "outputs": [
    {
     "name": "stdout",
     "output_type": "stream",
     "text": [
      "Epsilon: 1.0\n"
     ]
    },
    {
     "data": {
      "text/plain": [
       "[<matplotlib.lines.Line2D at 0x7f343d15a9d0>]"
      ]
     },
     "execution_count": 32,
     "metadata": {},
     "output_type": "execute_result"
    },
    {
     "data": {
      "image/png": "[encoded data removed]",
      "text/plain": [
       "<Figure size 432x288 with 1 Axes>"
      ]
     },
     "metadata": {
      "needs_background": "light"
     },
     "output_type": "display_data"
    }
   ],
   "source": [
    "print('Epsilon:', epsilon)\n",
    "\n",
    "plt.figure()\n",
    "plt.subplot(1, 2, 1)\n",
    "plt.plot(vb_pert_opt - vb_opt, vb_pert_pred - vb_opt, 'k.')\n",
    "plt.plot(vb_pert_opt - vb_opt, vb_pert_opt - vb_opt, 'r')\n"
   ]
  },
  {
   "cell_type": "code",
   "execution_count": 33,
   "metadata": {},
   "outputs": [
    {
     "name": "stdout",
     "output_type": "stream",
     "text": [
      "original expected number of clusters:  10.071207494317575\n",
      "perturbed expected number of clusters:  8.089758934517596\n",
      "predicted expected number of clusters:  8.11537317295857\n"
     ]
    }
   ],
   "source": [
    "print('original expected number of clusters: ',\n",
    "    cluster_lib.get_e_number_clusters_from_logit_sticks(vb_opt_dict['stick_params']['stick_propn_mean'], \n",
    "                                                        vb_opt_dict['stick_params']['stick_propn_info'], \n",
    "                                                        n_obs = 150, \n",
    "                                                        n_samples = 10000, \n",
    "                                                        rng_key = jax.random.PRNGKey(1)))\n",
    "\n",
    "print('perturbed expected number of clusters: ',\n",
    "    cluster_lib.get_e_number_clusters_from_logit_sticks(vb_pert_opt_dict['stick_params']['stick_propn_mean'], \n",
    "                                                        vb_pert_opt_dict['stick_params']['stick_propn_info'], \n",
    "                                                        n_obs = 150, \n",
    "                                                        n_samples = 10000, \n",
    "                                                        rng_key = jax.random.PRNGKey(1)))\n",
    "\n",
    "print('predicted expected number of clusters: ',\n",
    "    cluster_lib.get_e_number_clusters_from_logit_sticks(vb_pert_pred_dict['stick_params']['stick_propn_mean'], \n",
    "                                                        vb_pert_pred_dict['stick_params']['stick_propn_info'], \n",
    "                                                        n_obs = 150, \n",
    "                                                        n_samples = 10000, \n",
    "                                                        rng_key = jax.random.PRNGKey(1)))\n",
    "\n",
    "\n",
    "      "
   ]
  },
  {
   "cell_type": "code",
   "execution_count": null,
   "metadata": {},
   "outputs": [],
   "source": []
  },
  {
   "cell_type": "markdown",
   "metadata": {
    "collapsed": true
   },
   "source": [
    "# Predict for a range of perturbations"
   ]
  },
  {
   "cell_type": "code",
   "execution_count": 34,
   "metadata": {},
   "outputs": [
    {
     "name": "stdout",
     "output_type": "stream",
     "text": [
      "[0.         0.00826446 0.03305785 0.07438017 0.1322314  0.20661157\n",
      " 0.29752066 0.40495868 0.52892562 0.66942149 0.82644628 1.        ]\n"
     ]
    }
   ],
   "source": [
    "# The range of epsilons we shall consider\n",
    "epsilon_vec = np.linspace(0, 1, 12) ** 2 # Square to get more points close to 0\n",
    "print(epsilon_vec)"
   ]
  },
  {
   "cell_type": "code",
   "execution_count": 35,
   "metadata": {},
   "outputs": [],
   "source": [
    "def refit_with_epsilon(epsilon, new_init_dict):\n",
    "    # sets new epsilon, returns new vb optimum\n",
    "\n",
    "    vb_pert_dict, e_z_pert = cavi_lib.run_cavi(features, deepcopy(new_init_dict),\n",
    "                                        vb_params_paragami, prior_params_dict,\n",
    "                                        gh_loc, gh_weights,\n",
    "                                        log_phi = rescaled_log_phi, epsilon = epsilon, \n",
    "                                       debug = False)\n",
    "    \n",
    "    return vb_params_paragami.flatten(vb_pert_dict, free = True)"
   ]
  },
  {
   "cell_type": "code",
   "execution_count": 36,
   "metadata": {},
   "outputs": [],
   "source": [
    "best_param_phi_array = []\n",
    "best_param_phi_pred_array = []"
   ]
  },
  {
   "cell_type": "code",
   "execution_count": 37,
   "metadata": {
    "scrolled": false
   },
   "outputs": [
    {
     "name": "stdout",
     "output_type": "stream",
     "text": [
      "\n",
      "\n",
      "Epsilon:  0.0\n",
      "Predicted differences:  0.0\n",
      "Compiling CAVI update functions ... \n",
      "CAVI compile time: 3.62sec\n",
      "\n",
      "Running CAVI ... \n",
      "done. num iterations = 4\n",
      "stick_time: 0.0424sec\n",
      "cluster_time: 0.00198sec\n",
      "e_z_time: 0.00146sec\n",
      "**CAVI time: 0.049sec**\n",
      "Done. \n",
      "Predicted differences:  0.0\n",
      "Actual differences: (This is nonzero if phi did anything): 0.006709452769298135\n",
      "\n",
      "\n",
      "Epsilon:  0.008264462809917356\n",
      "Predicted differences:  0.03543124361849492\n",
      "Compiling CAVI update functions ... \n",
      "CAVI compile time: 3.64sec\n",
      "\n",
      "Running CAVI ... \n",
      "done. num iterations = 13\n",
      "stick_time: 0.118sec\n",
      "cluster_time: 0.00549sec\n",
      "e_z_time: 0.00331sec\n",
      "**CAVI time: 0.135sec**\n",
      "Done. \n",
      "Predicted differences:  0.03543124361849492\n",
      "Actual differences: (This is nonzero if phi did anything): 0.023401735288387786\n",
      "\n",
      "\n",
      "Epsilon:  0.03305785123966942\n",
      "Predicted differences:  0.1417249744739792\n",
      "Compiling CAVI update functions ... \n",
      "CAVI compile time: 3.96sec\n",
      "\n",
      "Running CAVI ... \n",
      "done. num iterations = 22\n",
      "stick_time: 0.195sec\n",
      "cluster_time: 0.00947sec\n",
      "e_z_time: 0.00565sec\n",
      "**CAVI time: 0.227sec**\n",
      "Done. \n",
      "Predicted differences:  0.1417249744739792\n",
      "Actual differences: (This is nonzero if phi did anything): 0.1082374855403937\n",
      "\n",
      "\n",
      "Epsilon:  0.07438016528925619\n",
      "Predicted differences:  0.3188811925664534\n",
      "Compiling CAVI update functions ... \n",
      "CAVI compile time: 3.81sec\n",
      "\n",
      "Running CAVI ... \n",
      "done. num iterations = 42\n",
      "stick_time: 0.353sec\n",
      "cluster_time: 0.018sec\n",
      "e_z_time: 0.00958sec\n",
      "**CAVI time: 0.404sec**\n",
      "Done. \n",
      "Predicted differences:  0.3188811925664534\n",
      "Actual differences: (This is nonzero if phi did anything): 0.2866807464339546\n",
      "\n",
      "\n",
      "Epsilon:  0.1322314049586777\n",
      "Predicted differences:  0.566899897895917\n",
      "Compiling CAVI update functions ... \n",
      "CAVI compile time: 3.63sec\n",
      "\n",
      "Running CAVI ... \n",
      "done. num iterations = 55\n",
      "stick_time: 0.476sec\n",
      "cluster_time: 0.0249sec\n",
      "e_z_time: 0.0131sec\n",
      "**CAVI time: 0.546sec**\n",
      "Done. \n",
      "Predicted differences:  0.566899897895917\n",
      "Actual differences: (This is nonzero if phi did anything): 0.5427748567733733\n",
      "\n",
      "\n",
      "Epsilon:  0.20661157024793386\n",
      "Predicted differences:  0.8857810904623702\n",
      "Compiling CAVI update functions ... \n",
      "CAVI compile time: 3.7sec\n",
      "\n",
      "Running CAVI ... \n",
      "done. num iterations = 70\n",
      "stick_time: 0.557sec\n",
      "cluster_time: 0.0263sec\n",
      "e_z_time: 0.0146sec\n",
      "**CAVI time: 0.635sec**\n",
      "Done. \n",
      "Predicted differences:  0.8857810904623702\n",
      "Actual differences: (This is nonzero if phi did anything): 0.8895398183674782\n",
      "\n",
      "\n",
      "Epsilon:  0.29752066115702475\n",
      "Predicted differences:  1.275524770265813\n",
      "Compiling CAVI update functions ... \n",
      "CAVI compile time: 3.89sec\n",
      "\n",
      "Running CAVI ... \n",
      "done. num iterations = 79\n",
      "stick_time: 0.625sec\n",
      "cluster_time: 0.0302sec\n",
      "e_z_time: 0.0166sec\n",
      "**CAVI time: 0.713sec**\n",
      "Done. \n",
      "Predicted differences:  1.275524770265813\n",
      "Actual differences: (This is nonzero if phi did anything): 1.3314824218162324\n",
      "\n",
      "\n",
      "Epsilon:  0.4049586776859504\n",
      "Predicted differences:  1.7361309373062452\n",
      "Compiling CAVI update functions ... \n",
      "CAVI compile time: 3.72sec\n",
      "\n",
      "Running CAVI ... \n",
      "done. num iterations = 92\n",
      "stick_time: 0.739sec\n",
      "cluster_time: 0.0357sec\n",
      "e_z_time: 0.0197sec\n",
      "**CAVI time: 0.843sec**\n",
      "Done. \n",
      "Predicted differences:  1.7361309373062452\n",
      "Actual differences: (This is nonzero if phi did anything): 1.891450529858625\n",
      "\n",
      "\n",
      "Epsilon:  0.5289256198347108\n",
      "Predicted differences:  2.2675995915836675\n",
      "Compiling CAVI update functions ... \n",
      "CAVI compile time: 3.62sec\n",
      "\n",
      "Running CAVI ... \n",
      "done. num iterations = 102\n",
      "stick_time: 0.842sec\n",
      "cluster_time: 0.0416sec\n",
      "e_z_time: 0.0223sec\n",
      "**CAVI time: 0.961sec**\n",
      "Done. \n",
      "Predicted differences:  2.2675995915836675\n",
      "Actual differences: (This is nonzero if phi did anything): 2.5791772021908095\n",
      "\n",
      "\n",
      "Epsilon:  0.6694214876033059\n",
      "Predicted differences:  2.8699307330980797\n",
      "Compiling CAVI update functions ... \n",
      "CAVI compile time: 3.59sec\n",
      "\n",
      "Running CAVI ... \n",
      "done. num iterations = 110\n",
      "stick_time: 0.869sec\n",
      "cluster_time: 0.0429sec\n",
      "e_z_time: 0.0229sec\n",
      "**CAVI time: 0.992sec**\n",
      "Done. \n",
      "Predicted differences:  2.8699307330980797\n",
      "Actual differences: (This is nonzero if phi did anything): 3.4338083882600965\n",
      "\n",
      "\n",
      "Epsilon:  0.8264462809917354\n",
      "Predicted differences:  3.5431243618494808\n",
      "Compiling CAVI update functions ... \n",
      "CAVI compile time: 3.84sec\n",
      "\n",
      "Running CAVI ... \n",
      "done. num iterations = 123\n",
      "stick_time: 1.01sec\n",
      "cluster_time: 0.0496sec\n",
      "e_z_time: 0.0275sec\n",
      "**CAVI time: 1.16sec**\n",
      "Done. \n",
      "Predicted differences:  3.5431243618494808\n",
      "Actual differences: (This is nonzero if phi did anything): 4.492158588307192\n",
      "\n",
      "\n",
      "Epsilon:  1.0\n",
      "Predicted differences:  4.287180477837873\n",
      "Compiling CAVI update functions ... \n",
      "CAVI compile time: 3.63sec\n",
      "\n",
      "Running CAVI ... \n",
      "done. num iterations = 132\n",
      "stick_time: 1.05sec\n",
      "cluster_time: 0.0495sec\n",
      "e_z_time: 0.0273sec\n",
      "**CAVI time: 1.2sec**\n",
      "Done. \n",
      "Predicted differences:  4.287180477837873\n",
      "Actual differences: (This is nonzero if phi did anything): 5.795089324957598\n"
     ]
    }
   ],
   "source": [
    "vb_pert_opt_array = []\n",
    "vb_pert_pred_array = []\n",
    "\n",
    "\n",
    "for i in range(len(epsilon_vec)): \n",
    "    epsilon = epsilon_vec[i]\n",
    "    print('\\n\\nEpsilon: ', epsilon)\n",
    "    \n",
    "    # get linear predictions\n",
    "    vb_pert_pred = \\\n",
    "        epsilon_sens.predict_opt_par_from_hyper_par(epsilon)\n",
    "\n",
    "    print('Predicted differences: ', np.linalg.norm(vb_pert_pred - vb_opt))\n",
    "    \n",
    "    # Then fit with the perturbation.\n",
    "    vb_pert_opt = refit_with_epsilon(epsilon, new_init_dict)\n",
    "    \n",
    "    print('Done. ')\n",
    "\n",
    "    print('Predicted differences: ', np.linalg.norm(vb_pert_pred - vb_opt))\n",
    "    print('Actual differences: (This is nonzero if phi did anything):',\n",
    "          np.linalg.norm(vb_pert_opt - vb_opt))\n",
    "    \n",
    "    # save results: \n",
    "    vb_pert_opt_array.append(vb_pert_opt)\n",
    "    vb_pert_pred_array.append(vb_pert_pred)\n",
    "    \n"
   ]
  },
  {
   "cell_type": "markdown",
   "metadata": {},
   "source": [
    "# Lets look at the expected number of clusters"
   ]
  },
  {
   "cell_type": "markdown",
   "metadata": {},
   "source": [
    "### Number of in sample clusters"
   ]
  },
  {
   "cell_type": "code",
   "execution_count": 39,
   "metadata": {},
   "outputs": [],
   "source": [
    "import numpy as onp"
   ]
  },
  {
   "cell_type": "code",
   "execution_count": 40,
   "metadata": {},
   "outputs": [
    {
     "name": "stderr",
     "output_type": "stream",
     "text": [
      "100%|██████████| 12/12 [00:12<00:00,  1.02s/it]\n"
     ]
    }
   ],
   "source": [
    "threshold = 0\n",
    "\n",
    "lr_e_num_clusters_vec = onp.zeros(len(epsilon_vec))\n",
    "refit_e_num_clusters_vec = onp.zeros(len(epsilon_vec))\n",
    "\n",
    "for i in tqdm(range(len(epsilon_vec))): \n",
    "    # number of clusters as predicted by linear response\n",
    "    lr_e_num_clusters, _ = gmm_lib.get_e_num_clusters_from_free_par(\n",
    "        features, vb_params_paragami, \n",
    "        vb_pert_pred_array[i],\n",
    "        gh_loc, gh_weights,\n",
    "        threshold = threshold,\n",
    "        n_samples = 10000, \n",
    "        rng_key = jax.random.PRNGKey(12))\n",
    "    \n",
    "    lr_e_num_clusters_vec[i] = lr_e_num_clusters\n",
    "    \n",
    "    # number of clusters after refitting \n",
    "    refit_e_num_clusters, _ = gmm_lib.get_e_num_clusters_from_free_par(\n",
    "        features, vb_params_paragami, \n",
    "        vb_pert_opt_array[i],\n",
    "        gh_loc, gh_weights,\n",
    "        threshold = threshold,\n",
    "        n_samples = 10000, \n",
    "        rng_key = jax.random.PRNGKey(12))\n",
    "    \n",
    "    refit_e_num_clusters_vec[i] = refit_e_num_clusters\n",
    "    \n"
   ]
  },
  {
   "cell_type": "code",
   "execution_count": 41,
   "metadata": {},
   "outputs": [
    {
     "data": {
      "text/plain": [
       "<matplotlib.legend.Legend at 0x7f3437ec9dc0>"
      ]
     },
     "execution_count": 41,
     "metadata": {},
     "output_type": "execute_result"
    },
    {
     "data": {
      "image/png": "[encoded data removed]",
      "text/plain": [
       "<Figure size 432x288 with 1 Axes>"
      ]
     },
     "metadata": {
      "needs_background": "light"
     },
     "output_type": "display_data"
    }
   ],
   "source": [
    "plt.plot(epsilon_vec, lr_e_num_clusters_vec, '+--')\n",
    "plt.plot(epsilon_vec, refit_e_num_clusters_vec, '+-')\n",
    "\n",
    "plt.xlabel('epsilon')\n",
    "plt.ylabel('num posterior clusters')\n",
    "plt.legend(('lr', 'refit'))\n"
   ]
  },
  {
   "cell_type": "markdown",
   "metadata": {},
   "source": [
    "### Number of predicted clusters"
   ]
  },
  {
   "cell_type": "code",
   "execution_count": 42,
   "metadata": {},
   "outputs": [
    {
     "name": "stderr",
     "output_type": "stream",
     "text": [
      "100%|██████████| 12/12 [00:03<00:00,  3.25it/s]\n"
     ]
    }
   ],
   "source": [
    "threshold = 0\n",
    "\n",
    "lr_e_num_pred_clusters_vec = onp.zeros(len(epsilon_vec))\n",
    "refit_e_num_pred_clusters_vec = onp.zeros(len(epsilon_vec))\n",
    "\n",
    "for i in tqdm(range(len(epsilon_vec))): \n",
    "     # number of clusters as predicted by linear response\n",
    "    lr_e_num_pred_clusters = gmm_lib.get_e_num_pred_clusters_from_vb_free_params(\n",
    "        vb_params_paragami, \n",
    "        vb_pert_pred_array[i],\n",
    "        n_obs = np.shape(features)[0], \n",
    "        threshold = threshold,\n",
    "        n_samples = 10000, \n",
    "        rng_key = jax.random.PRNGKey(12))\n",
    "    \n",
    "    lr_e_num_pred_clusters_vec[i] = lr_e_num_pred_clusters\n",
    "    \n",
    "    # number of clusters after refitting \n",
    "    refit_e_num_pred_clusters = gmm_lib.get_e_num_pred_clusters_from_vb_free_params(\n",
    "        vb_params_paragami, \n",
    "        vb_pert_opt_array[i],\n",
    "        n_obs = np.shape(features)[0], \n",
    "        threshold = threshold,\n",
    "        n_samples = 10000, \n",
    "        rng_key = jax.random.PRNGKey(12))\n",
    "    \n",
    "    refit_e_num_pred_clusters_vec[i] = refit_e_num_pred_clusters\n",
    "    \n"
   ]
  },
  {
   "cell_type": "code",
   "execution_count": 43,
   "metadata": {},
   "outputs": [
    {
     "data": {
      "text/plain": [
       "<matplotlib.legend.Legend at 0x7f3437c859a0>"
      ]
     },
     "execution_count": 43,
     "metadata": {},
     "output_type": "execute_result"
    },
    {
     "data": {
      "image/png": "[encoded data removed]",
      "text/plain": [
       "<Figure size 432x288 with 1 Axes>"
      ]
     },
     "metadata": {
      "needs_background": "light"
     },
     "output_type": "display_data"
    }
   ],
   "source": [
    "plt.plot(epsilon_vec, lr_e_num_pred_clusters_vec, '+--')\n",
    "plt.plot(epsilon_vec, refit_e_num_pred_clusters_vec, '+-')\n",
    "\n",
    "plt.xlabel('alpha')\n",
    "plt.ylabel('num posterior clusters')\n",
    "plt.legend(('lr', 'refit'))"
   ]
  },
  {
   "cell_type": "code",
   "execution_count": null,
   "metadata": {},
   "outputs": [],
   "source": []
  },
  {
   "cell_type": "code",
   "execution_count": null,
   "metadata": {},
   "outputs": [],
   "source": []
  },
  {
   "cell_type": "code",
   "execution_count": null,
   "metadata": {},
   "outputs": [],
   "source": []
  }
 ],
 "metadata": {
  "kernelspec": {
   "display_name": "bnp_sensitivity_jax",
   "language": "python",
   "name": "bnp_sensitivity_jax"
  },
  "language_info": {
   "codemirror_mode": {
    "name": "ipython",
    "version": 3
   },
   "file_extension": ".py",
   "mimetype": "text/x-python",
   "name": "python",
   "nbconvert_exporter": "python",
   "pygments_lexer": "ipython3",
   "version": "3.8.0"
  }
 },
 "nbformat": 4,
 "nbformat_minor": 2
}
