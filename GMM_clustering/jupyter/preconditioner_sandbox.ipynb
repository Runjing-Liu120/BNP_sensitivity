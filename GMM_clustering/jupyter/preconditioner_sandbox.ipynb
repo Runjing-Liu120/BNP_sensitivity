{
 "cells": [
  {
   "cell_type": "code",
   "execution_count": 1,
   "metadata": {},
   "outputs": [
    {
     "name": "stderr",
     "output_type": "stream",
     "text": [
      "/home/rliu/anaconda3/envs/bnp_sensitivity/lib/python3.8/site-packages/autograd/core.py:290: UserWarning: \n",
      "The defvjp method is deprecated. See the update guide and tutorial:\n",
      "https://github.com/HIPS/autograd/blob/master/docs/updateguide.md\n",
      "https://github.com/HIPS/autograd/blob/master/docs/tutorial.md\n",
      "  warnings.warn(deprecation_msg)\n"
     ]
    }
   ],
   "source": [
    "import autograd\n",
    "\n",
    "import autograd.numpy as np\n",
    "\n",
    "import autograd.scipy as sp\n",
    "\n",
    "from bnpmodeling_runjingdev.modeling_lib import my_slogdet3d\n",
    "import bnpgmm_runjingdev.gmm_clustering_lib as gmm_lib\n",
    "\n",
    "from copy import deepcopy\n",
    "\n",
    "import paragami"
   ]
  },
  {
   "cell_type": "code",
   "execution_count": 2,
   "metadata": {},
   "outputs": [],
   "source": [
    "n = 100\n",
    "k_approx = 30 \n",
    "dim = 4"
   ]
  },
  {
   "cell_type": "code",
   "execution_count": 3,
   "metadata": {},
   "outputs": [],
   "source": [
    "_, vb_params_paragami = gmm_lib.get_vb_params_paragami_object(dim, k_approx)\n",
    "vb_params_dict = vb_params_paragami.random()"
   ]
  },
  {
   "cell_type": "code",
   "execution_count": 4,
   "metadata": {},
   "outputs": [],
   "source": [
    "from bnpgmm_runjingdev.gmm_preconditioner_lib import *"
   ]
  },
  {
   "cell_type": "markdown",
   "metadata": {},
   "source": [
    "# Check log-partition function"
   ]
  },
  {
   "cell_type": "code",
   "execution_count": 5,
   "metadata": {},
   "outputs": [],
   "source": [
    "mean = vb_params_dict['cluster_params']['centroids'].transpose()\n",
    "info = vb_params_dict['cluster_params']['cluster_info']"
   ]
  },
  {
   "cell_type": "code",
   "execution_count": 6,
   "metadata": {},
   "outputs": [],
   "source": [
    "# get paragami objects\n",
    "mvn_params_paragami, mvn_nat_params_paragami = \\\n",
    "    get_mvn_paragami_objects(k_approx, dim)"
   ]
  },
  {
   "cell_type": "code",
   "execution_count": 7,
   "metadata": {},
   "outputs": [],
   "source": [
    "# dictionary of parameters\n",
    "mvn_params_dict = mvn_params_paragami.random()\n",
    "mvn_params_dict['mean'] = mean\n",
    "mvn_params_dict['info'] = info"
   ]
  },
  {
   "cell_type": "code",
   "execution_count": 8,
   "metadata": {},
   "outputs": [],
   "source": [
    "# vector of canonical parameters\n",
    "param_vec = mvn_params_paragami.flatten(mvn_params_dict, free = True)\n",
    "\n",
    "# vector of natural parameters\n",
    "nat_vec = get_nat_vec(param_vec, mvn_params_paragami, mvn_nat_params_paragami)"
   ]
  },
  {
   "cell_type": "code",
   "execution_count": 9,
   "metadata": {},
   "outputs": [],
   "source": [
    "# get gradient of log partition function\n",
    "get_grad_log_part = autograd.grad(get_mvn_log_partition)\n",
    "grad_log_part = get_grad_log_part(nat_vec, mvn_nat_params_paragami)"
   ]
  },
  {
   "cell_type": "code",
   "execution_count": 11,
   "metadata": {},
   "outputs": [],
   "source": [
    "# fold gradient into dictionary\n",
    "grad_log_part_folded = mvn_params_paragami.fold(grad_log_part, free = False, validate_value = False)"
   ]
  },
  {
   "cell_type": "code",
   "execution_count": 12,
   "metadata": {},
   "outputs": [],
   "source": [
    "# get expectations of sufficient statistics\n",
    "e_x = mean\n",
    "e_x2 = np.linalg.inv(info) + np.einsum('ki, kj -> kij', mean, mean)"
   ]
  },
  {
   "cell_type": "code",
   "execution_count": 13,
   "metadata": {
    "scrolled": true
   },
   "outputs": [
    {
     "data": {
      "text/plain": [
       "7.771561172376096e-16"
      ]
     },
     "execution_count": 13,
     "metadata": {},
     "output_type": "execute_result"
    }
   ],
   "source": [
    "# check they match with gradient of log partition\n",
    "np.abs(e_x - grad_log_part_folded['mean']).max()"
   ]
  },
  {
   "cell_type": "code",
   "execution_count": 18,
   "metadata": {},
   "outputs": [
    {
     "data": {
      "text/plain": [
       "3.9968028886505635e-15"
      ]
     },
     "execution_count": 18,
     "metadata": {},
     "output_type": "execute_result"
    }
   ],
   "source": [
    "np.abs(e_x2 - -grad_log_part_folded['info']).max()"
   ]
  },
  {
   "cell_type": "markdown",
   "metadata": {},
   "source": [
    "# Check Fisher information"
   ]
  },
  {
   "cell_type": "code",
   "execution_count": 19,
   "metadata": {},
   "outputs": [],
   "source": [
    "get_hess_nat_param = autograd.jacobian(get_jac_term, 0)"
   ]
  },
  {
   "cell_type": "code",
   "execution_count": null,
   "metadata": {},
   "outputs": [],
   "source": [
    "hess_nat_param = get_hess_nat_param(param_vec, mvn_params_paragami, mvn_nat_params_paragami)"
   ]
  },
  {
   "cell_type": "code",
   "execution_count": null,
   "metadata": {},
   "outputs": [],
   "source": [
    "hess_nat_param.shape"
   ]
  },
  {
   "cell_type": "code",
   "execution_count": null,
   "metadata": {},
   "outputs": [],
   "source": []
  },
  {
   "cell_type": "code",
   "execution_count": null,
   "metadata": {},
   "outputs": [],
   "source": []
  },
  {
   "cell_type": "code",
   "execution_count": null,
   "metadata": {},
   "outputs": [],
   "source": []
  },
  {
   "cell_type": "code",
   "execution_count": null,
   "metadata": {},
   "outputs": [],
   "source": [
    "def get_log_q(vb_free_params, vb_params_paragami): \n",
    "    vb_params_dict = vb_free_params\n",
    "    "
   ]
  },
  {
   "cell_type": "code",
   "execution_count": null,
   "metadata": {},
   "outputs": [],
   "source": []
  },
  {
   "cell_type": "code",
   "execution_count": null,
   "metadata": {},
   "outputs": [],
   "source": []
  },
  {
   "cell_type": "code",
   "execution_count": null,
   "metadata": {},
   "outputs": [],
   "source": []
  },
  {
   "cell_type": "code",
   "execution_count": 12,
   "metadata": {},
   "outputs": [],
   "source": [
    "k_approx = mean.shape[0]\n",
    "dim = mean.shape[1]\n",
    "\n",
    "# get paragami objects\n",
    "mvn_params_paragami, mvn_nat_params_paragami = \\\n",
    "    get_mvn_paragami_objects(k_approx, dim)\n",
    "\n",
    "# dictionary of parameters\n",
    "mvn_params_dict = mvn_params_paragami.random()\n",
    "mvn_params_dict['mean'] = mean\n",
    "mvn_params_dict['info'] = info\n",
    "\n",
    "# vector of parameters\n",
    "param_vec = mvn_params_paragami.flatten(mvn_params_dict, free = True)\n",
    "nat_vec = get_nat_vec(param_vec, mvn_params_paragami, mvn_nat_params_paragami)\n",
    "\n",
    "fishers_info = get_log_part_hess(nat_vec, mvn_nat_params_paragami)\n",
    "\n",
    "jac_term = get_jac_term(param_vec, mvn_params_paragami, mvn_nat_params_paragami)\n"
   ]
  },
  {
   "cell_type": "code",
   "execution_count": 13,
   "metadata": {},
   "outputs": [
    {
     "data": {
      "text/plain": [
       "(600, 600)"
      ]
     },
     "execution_count": 13,
     "metadata": {},
     "output_type": "execute_result"
    }
   ],
   "source": [
    "fishers_info.shape"
   ]
  },
  {
   "cell_type": "code",
   "execution_count": 14,
   "metadata": {},
   "outputs": [
    {
     "data": {
      "text/plain": [
       "(600, 420)"
      ]
     },
     "execution_count": 14,
     "metadata": {},
     "output_type": "execute_result"
    }
   ],
   "source": [
    "jac_term.shape"
   ]
  },
  {
   "cell_type": "code",
   "execution_count": null,
   "metadata": {},
   "outputs": [],
   "source": []
  },
  {
   "cell_type": "code",
   "execution_count": null,
   "metadata": {},
   "outputs": [],
   "source": []
  },
  {
   "cell_type": "code",
   "execution_count": null,
   "metadata": {},
   "outputs": [],
   "source": []
  },
  {
   "cell_type": "code",
   "execution_count": 4,
   "metadata": {},
   "outputs": [],
   "source": [
    "def get_nat_vec(param_vec, mvn_params_paragami, mvn_nat_params_paragami): \n",
    "    \n",
    "    nat_params_dict = {}\n",
    "    \n",
    "    mvn_param_dict = mvn_params_paragami.fold(param_vec, free = False)\n",
    "    \n",
    "    mean = mvn_param_dict['mean']\n",
    "    info = mvn_param_dict['info']\n",
    "        \n",
    "    nat_params_dict['nat1'] = np.einsum('kij, kj -> ki', info, mean)\n",
    "    nat_params_dict['neg_nat2'] = 0.5 * info\n",
    "    \n",
    "    return mvn_nat_params_paragami.flatten(nat_params_dict, free = False)"
   ]
  },
  {
   "cell_type": "code",
   "execution_count": 5,
   "metadata": {},
   "outputs": [],
   "source": [
    "def get_mvn_log_partition(nat_vec, mvn_nat_params_paragami): \n",
    "    \n",
    "    nat_params_dict = mvn_nat_params_paragami.fold(nat_vec, free = False)\n",
    "    \n",
    "    nat1 = nat_params_dict['nat1']\n",
    "    neg_nat2 = nat_params_dict['neg_nat2']\n",
    "    \n",
    "    nat2_inv = np.linalg.inv(-neg_nat2)\n",
    "\n",
    "    nat2_inv_nat1 = np.einsum('kij, kj -> ki', nat2_inv, nat1)\n",
    "    squared_term = np.einsum('ki, ki -> k', nat1, nat2_inv_nat1)\n",
    "\n",
    "    return (- 0.25 * squared_term - 0.5 * my_slogdet3d(2 * neg_nat2)[1]).sum()"
   ]
  },
  {
   "cell_type": "code",
   "execution_count": 6,
   "metadata": {},
   "outputs": [],
   "source": [
    "get_jac_term = autograd.jacobian(get_nat_vec, 0)\n",
    "get_log_part_hess = autograd.hessian(get_mvn_log_partition, 0)"
   ]
  },
  {
   "cell_type": "code",
   "execution_count": 7,
   "metadata": {},
   "outputs": [],
   "source": [
    "def get_mvn_paragami_objects(k_approx, dim):\n",
    "    mvn_nat_params_paragami = paragami.PatternDict()\n",
    "    mvn_nat_params_paragami['nat1'] = \\\n",
    "        paragami.NumericArrayPattern(shape=(k_approx, dim))\n",
    "    mvn_nat_params_paragami['neg_nat2'] = \\\n",
    "        paragami.pattern_containers.PatternArray(array_shape = (k_approx, ), \\\n",
    "                    base_pattern = paragami.PSDSymmetricMatrixPattern(size=dim))\n",
    "    \n",
    "    mvn_params_paragami = paragami.PatternDict()\n",
    "    mvn_params_paragami['mean'] = \\\n",
    "        paragami.NumericArrayPattern(shape=(k_approx, dim))\n",
    "    mvn_params_paragami['info'] = \\\n",
    "        paragami.pattern_containers.PatternArray(array_shape = (k_approx, ), \\\n",
    "                    base_pattern = paragami.PSDSymmetricMatrixPattern(size=dim))\n",
    "    \n",
    "    return mvn_params_paragami, mvn_nat_params_paragami"
   ]
  },
  {
   "cell_type": "code",
   "execution_count": 16,
   "metadata": {},
   "outputs": [],
   "source": [
    "def get_fishers_info(mean, info): \n",
    "    assert mean.shape[0] == info.shape[0]\n",
    "    assert mean.shape[1] == info.shape[1]\n",
    "    \n",
    "    k_approx = mean.shape[0]\n",
    "    dim = mean.shape[1]\n",
    "    \n",
    "    # get paragami objects \n",
    "    mvn_params_paragami, mvn_nat_params_paragami = \\\n",
    "        get_mvn_paragami_objects(k_approx, dim)\n",
    "    \n",
    "    # dictionary of parameters \n",
    "    mvn_params_dict = mvn_params_paragami.random()\n",
    "    mvn_params_dict['mean'] = mean\n",
    "    mvn_params_dict['info'] = info\n",
    "    \n",
    "    # vector of parameters \n",
    "    param_vec = mvn_params_paragami.flatten(mvn_params_dict, free = False)\n",
    "    nat_vec = get_nat_vec(param_vec, mvn_params_paragami, mvn_nat_params_paragami)\n",
    "    \n",
    "    fishers_info = get_log_part_hess(nat_vec, mvn_nat_params_paragami)\n",
    "    \n",
    "    jac_term = get_jac_term(nat_vec, mvn_params_paragami, mvn_nat_params_paragami)\n",
    "    \n",
    "    return np.dot(jac_term, np.dot(fishers_info, jac_term))"
   ]
  },
  {
   "cell_type": "code",
   "execution_count": 17,
   "metadata": {},
   "outputs": [],
   "source": [
    "foo = get_fishers_info(vb_params_dict['cluster_params']['centroids'].transpose(), \n",
    "                vb_params_dict['cluster_params']['cluster_info'])"
   ]
  },
  {
   "cell_type": "code",
   "execution_count": 20,
   "metadata": {},
   "outputs": [
    {
     "data": {
      "text/plain": [
       "array([[0.0885786 , 0.        , 0.        , ..., 0.        , 0.        ,\n",
       "        0.        ],\n",
       "       [0.        , 0.61676455, 0.        , ..., 0.        , 0.        ,\n",
       "        0.        ],\n",
       "       [0.        , 0.        , 0.57337277, ..., 0.        , 0.        ,\n",
       "        0.        ],\n",
       "       ...,\n",
       "       [0.        , 0.        , 0.        , ..., 0.33031977, 0.        ,\n",
       "        0.        ],\n",
       "       [0.        , 0.        , 0.        , ..., 0.        , 0.20479928,\n",
       "        0.        ],\n",
       "       [0.        , 0.        , 0.        , ..., 0.        , 0.        ,\n",
       "        0.01039804]])"
      ]
     },
     "execution_count": 20,
     "metadata": {},
     "output_type": "execute_result"
    }
   ],
   "source": [
    "get_fishers_info(vb_params_dict['stick_params']['stick_propn_mean'][:, None], \n",
    "                    vb_params_dict['stick_params']['stick_propn_info'][:, None, None])"
   ]
  },
  {
   "cell_type": "code",
   "execution_count": null,
   "metadata": {},
   "outputs": [],
   "source": []
  },
  {
   "cell_type": "code",
   "execution_count": null,
   "metadata": {},
   "outputs": [],
   "source": []
  },
  {
   "cell_type": "code",
   "execution_count": 8,
   "metadata": {},
   "outputs": [],
   "source": [
    "def get_mvn_log_partition(mean, info): \n",
    "    info_mean = np.einsum('kij, kj -> ki', info, mean)\n",
    "    mean_info_mean = np.einsum('ki, kj -> k', mean, info_mean)\n",
    "    \n",
    "    return (0.5 * mean_info_mean + 0.5 * my_slogdet3d(info)[1]).mean()"
   ]
  },
  {
   "cell_type": "code",
   "execution_count": 9,
   "metadata": {},
   "outputs": [],
   "source": [
    "def get_log_partition_free(vb_params_free, vb_params_paragami, use_logitnormal_sticks = True): \n",
    "    vb_params_dict = vb_params_paragami.fold(vb_params_free, free = True)\n",
    "    \n",
    "    cluster_log_part = get_mvn_log_partition(vb_params_dict['cluster_params']['centroids'].transpose(), \n",
    "                                            vb_params_dict['cluster_params']['cluster_info'])\n",
    "    \n",
    "    if use_logitnormal_sticks: \n",
    "        stick_log_part = get_mvn_log_partition(vb_params_dict['stick_params']['stick_propn_mean'][:, None], \n",
    "                                            vb_params_dict['stick_params']['stick_propn_info'][:, None, None])\n",
    "    \n",
    "    else: \n",
    "        raise NotImplementedError()\n",
    "    \n",
    "    return cluster_log_part + stick_log_part"
   ]
  },
  {
   "cell_type": "code",
   "execution_count": 10,
   "metadata": {},
   "outputs": [],
   "source": [
    "get_fishers_info = autograd.hessian(get_log_partition_free, 0)"
   ]
  },
  {
   "cell_type": "code",
   "execution_count": 11,
   "metadata": {},
   "outputs": [],
   "source": [
    "vb_params_free = vb_params_paragami.flatten(vb_params_dict, free = True)"
   ]
  },
  {
   "cell_type": "code",
   "execution_count": 12,
   "metadata": {},
   "outputs": [
    {
     "data": {
      "text/plain": [
       "17.78567716300717"
      ]
     },
     "execution_count": 12,
     "metadata": {},
     "output_type": "execute_result"
    }
   ],
   "source": [
    "get_log_partition_free(vb_params_free, vb_params_paragami)"
   ]
  },
  {
   "cell_type": "code",
   "execution_count": null,
   "metadata": {},
   "outputs": [],
   "source": [
    "get_fishers_info = autograd.hessian(get_mvn_log_partition_free, 0)"
   ]
  },
  {
   "cell_type": "code",
   "execution_count": 13,
   "metadata": {},
   "outputs": [
    {
     "data": {
      "text/plain": [
       "array([[0.17462724, 0.        , 0.        , ..., 0.        , 0.        ,\n",
       "        0.        ],\n",
       "       [0.        , 0.15158418, 0.        , ..., 0.        , 0.        ,\n",
       "        0.        ],\n",
       "       [0.        , 0.        , 0.08535172, ..., 0.        , 0.        ,\n",
       "        0.        ],\n",
       "       ...,\n",
       "       [0.        , 0.        , 0.        , ..., 0.00089329, 0.        ,\n",
       "        0.        ],\n",
       "       [0.        , 0.        , 0.        , ..., 0.        , 0.00042449,\n",
       "        0.        ],\n",
       "       [0.        , 0.        , 0.        , ..., 0.        , 0.        ,\n",
       "        0.00985399]])"
      ]
     },
     "execution_count": 13,
     "metadata": {},
     "output_type": "execute_result"
    }
   ],
   "source": [
    "get_fishers_info(vb_params_free, vb_params_paragami)"
   ]
  },
  {
   "cell_type": "code",
   "execution_count": null,
   "metadata": {},
   "outputs": [],
   "source": []
  },
  {
   "cell_type": "code",
   "execution_count": null,
   "metadata": {},
   "outputs": [],
   "source": []
  },
  {
   "cell_type": "code",
   "execution_count": 61,
   "metadata": {
    "scrolled": true
   },
   "outputs": [
    {
     "data": {
      "text/plain": [
       "NotImplementedError()"
      ]
     },
     "execution_count": 61,
     "metadata": {},
     "output_type": "execute_result"
    }
   ],
   "source": [
    "NotImplementedError()"
   ]
  },
  {
   "cell_type": "code",
   "execution_count": null,
   "metadata": {},
   "outputs": [],
   "source": []
  },
  {
   "cell_type": "code",
   "execution_count": null,
   "metadata": {},
   "outputs": [],
   "source": []
  },
  {
   "cell_type": "code",
   "execution_count": 55,
   "metadata": {},
   "outputs": [],
   "source": [
    "cluster_params_paragami = vb_params_paragami['cluster_params']\n",
    "cluster_params_free = cluster_params_paragami.flatten(vb_params_dict['cluster_params'], free = True)"
   ]
  },
  {
   "cell_type": "code",
   "execution_count": 56,
   "metadata": {},
   "outputs": [
    {
     "data": {
      "text/plain": [
       "15.191874266798116"
      ]
     },
     "execution_count": 56,
     "metadata": {},
     "output_type": "execute_result"
    }
   ],
   "source": [
    "get_mvn_log_partition_free(cluster_params_free, cluster_params_paragami)"
   ]
  },
  {
   "cell_type": "code",
   "execution_count": 58,
   "metadata": {},
   "outputs": [],
   "source": [
    "get_fishers_info = autograd.hessian(get_mvn_log_partition_free, 0)"
   ]
  },
  {
   "cell_type": "code",
   "execution_count": 59,
   "metadata": {},
   "outputs": [
    {
     "data": {
      "text/plain": [
       "array([[ 1.01438486e-01,  0.00000000e+00,  0.00000000e+00, ...,\n",
       "         0.00000000e+00,  0.00000000e+00,  0.00000000e+00],\n",
       "       [ 0.00000000e+00,  3.85757948e-01,  0.00000000e+00, ...,\n",
       "         0.00000000e+00,  0.00000000e+00,  0.00000000e+00],\n",
       "       [ 0.00000000e+00,  0.00000000e+00,  1.17817376e-01, ...,\n",
       "         0.00000000e+00,  0.00000000e+00,  0.00000000e+00],\n",
       "       ...,\n",
       "       [ 0.00000000e+00,  0.00000000e+00,  0.00000000e+00, ...,\n",
       "         1.05045462e-02, -8.36064380e-20,  0.00000000e+00],\n",
       "       [ 0.00000000e+00,  0.00000000e+00,  0.00000000e+00, ...,\n",
       "        -1.96279143e-19,  1.05045462e-02, -9.24498931e-19],\n",
       "       [ 0.00000000e+00,  0.00000000e+00,  0.00000000e+00, ...,\n",
       "        -3.33375462e-19, -1.11030716e-18,  8.95722405e-02]])"
      ]
     },
     "execution_count": 59,
     "metadata": {},
     "output_type": "execute_result"
    }
   ],
   "source": [
    "get_fishers_info(cluster_params_free, cluster_params_paragami)"
   ]
  },
  {
   "cell_type": "code",
   "execution_count": null,
   "metadata": {},
   "outputs": [],
   "source": []
  },
  {
   "cell_type": "code",
   "execution_count": null,
   "metadata": {},
   "outputs": [],
   "source": []
  }
 ],
 "metadata": {
  "kernelspec": {
   "display_name": "bnp_sensitivity",
   "language": "python",
   "name": "bnp_sensitivity"
  },
  "language_info": {
   "codemirror_mode": {
    "name": "ipython",
    "version": 3
   },
   "file_extension": ".py",
   "mimetype": "text/x-python",
   "name": "python",
   "nbconvert_exporter": "python",
   "pygments_lexer": "ipython3",
   "version": "3.8.0"
  }
 },
 "nbformat": 4,
 "nbformat_minor": 2
}
