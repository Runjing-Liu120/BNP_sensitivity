{
 "cells": [
  {
   "cell_type": "code",
   "execution_count": 2,
   "metadata": {
    "collapsed": false
   },
   "outputs": [],
   "source": [
    "git_repo = '../../../..'\n",
    "\n",
    "import sys\n",
    "import os\n",
    "\n",
    "sys.path.insert(0, os.path.join(git_repo, 'BNP_sensitivity/GMM_clustering/'))\n",
    "sys.path.insert(0, '../../../../LinearResponseVariationalBayes.py/')\n",
    "\n",
    "# Linear response libraries\n",
    "import LinearResponseVariationalBayes as vb\n",
    "import LinearResponseVariationalBayes.SparseObjectives as obj_lib\n",
    "\n",
    "# My libraries\n",
    "import gmm_clustering_lib as gmm_utils\n",
    "import modeling_lib \n",
    "import functional_sensitivity_lib as fun_sens_lib \n",
    "import utils_lib\n",
    "\n",
    "import matplotlib.pyplot as plt\n",
    "%matplotlib inline\n",
    "\n",
    "from copy import deepcopy\n",
    "\n",
    "import numpy as np\n",
    "import scipy as sp\n",
    "\n",
    "np.random.seed(453453)\n",
    "\n",
    "import json "
   ]
  },
  {
   "cell_type": "code",
   "execution_count": 4,
   "metadata": {
    "collapsed": false
   },
   "outputs": [],
   "source": [
    "# Load results from previous fit.\n",
    "json_input_file = os.path.join(\n",
    "    git_repo, 'BNP_sensitivity/GMM_clustering/iris_fits/bnp_full_data_fit_alpha8.0_iris.json')\n",
    "\n",
    "with open(json_input_file, 'r') as fp:\n",
    "    fit_dict = json.load(fp)\n",
    "    model = gmm_utils.get_model_from_checkpoint(fit_dict)\n",
    "    model_ = gmm_utils.get_model_from_checkpoint(fit_dict)\n",
    "    best_param = model.global_vb_params.get_free()\n",
    "    kl_hessian = gmm_utils.get_kl_hessian_from_checkpoint(fit_dict)"
   ]
  },
  {
   "cell_type": "code",
   "execution_count": 5,
   "metadata": {
    "collapsed": true
   },
   "outputs": [],
   "source": [
    "dim = 4\n",
    "n_obs = 10\n",
    "probs = np.random.random((n_obs, dim))\n",
    "probs = probs / np.sum(probs, axis=1)[:, np.newaxis]\n",
    "\n",
    "#print(probs)\n",
    "#print(np.cumsum(probs, axis=1))\n",
    "\n",
    "\n",
    "def draw_components(probs, u):\n",
    "    selection = (u <= np.cumsum(probs, axis=1))\n",
    "    components = np.argmax(selection, axis=1)\n",
    "    indicator_mat = np.zeros_like(probs)\n",
    "    indicator_mat[range(n_obs), components] = 1\n",
    "    return components, indicator_mat\n",
    "\n",
    "def count_components(components, dim):\n",
    "    return np.array([ np.sum(components == k) for k in range(dim) ])\n",
    "\n"
   ]
  },
  {
   "cell_type": "code",
   "execution_count": 6,
   "metadata": {
    "collapsed": true
   },
   "outputs": [],
   "source": [
    "u = np.random.random((n_obs, 1))\n",
    "components, indicator_mat = draw_components(probs, u)"
   ]
  },
  {
   "cell_type": "code",
   "execution_count": 10,
   "metadata": {
    "collapsed": false
   },
   "outputs": [
    {
     "data": {
      "text/plain": [
       "array([[0., 1., 0., 0.],\n",
       "       [0., 0., 1., 0.],\n",
       "       [0., 0., 1., 0.],\n",
       "       [0., 0., 0., 1.],\n",
       "       [0., 0., 1., 0.],\n",
       "       [0., 0., 0., 1.],\n",
       "       [0., 1., 0., 0.],\n",
       "       [0., 1., 0., 0.],\n",
       "       [1., 0., 0., 0.],\n",
       "       [0., 0., 1., 0.]])"
      ]
     },
     "execution_count": 10,
     "metadata": {},
     "output_type": "execute_result"
    }
   ],
   "source": [
    "indicator_mat"
   ]
  },
  {
   "cell_type": "code",
   "execution_count": 7,
   "metadata": {
    "collapsed": false
   },
   "outputs": [
    {
     "name": "stdout",
     "output_type": "stream",
     "text": [
      "[[0.368 0.092 0.183 0.357]\n",
      " [0.331 0.359 0.187 0.123]\n",
      " [0.071 0.309 0.436 0.184]\n",
      " [0.243 0.03  0.143 0.584]\n",
      " [0.313 0.284 0.383 0.02 ]\n",
      " [0.065 0.195 0.344 0.396]\n",
      " [0.434 0.124 0.401 0.041]\n",
      " [0.392 0.413 0.151 0.044]\n",
      " [0.652 0.082 0.139 0.127]\n",
      " [0.025 0.438 0.395 0.142]]\n",
      "[[0.3792684  0.08335252 0.18281882 0.35456025]\n",
      " [0.34258998 0.34410085 0.17983593 0.13347324]\n",
      " [0.07593617 0.2848943  0.47136448 0.16780504]\n",
      " [0.25025919 0.03298179 0.1253027  0.59145632]\n",
      " [0.31972712 0.28430706 0.3812427  0.01472312]\n",
      " [0.07543681 0.20106077 0.31761793 0.40588448]\n",
      " [0.44622776 0.12291491 0.38842502 0.04243231]\n",
      " [0.38733532 0.40677271 0.1492101  0.05668188]\n",
      " [0.62396806 0.09523552 0.15690112 0.12389531]\n",
      " [0.04136744 0.42839802 0.38545759 0.14477695]]\n"
     ]
    },
    {
     "data": {
      "text/plain": [
       "[<matplotlib.lines.Line2D at 0x7fad02225630>,\n",
       " <matplotlib.lines.Line2D at 0x7fad022257b8>,\n",
       " <matplotlib.lines.Line2D at 0x7fad022259e8>,\n",
       " <matplotlib.lines.Line2D at 0x7fad02225ba8>]"
      ]
     },
     "execution_count": 7,
     "metadata": {},
     "output_type": "execute_result"
    },
    {
     "data": {
      "image/png": "[encoded data removed]",
      "text/plain": [
       "<matplotlib.figure.Figure at 0x7fad02270c50>"
      ]
     },
     "metadata": {},
     "output_type": "display_data"
    }
   ],
   "source": [
    "dim = 4\n",
    "n_obs = 10\n",
    "probs = np.random.random((n_obs, dim))\n",
    "probs = probs / np.sum(probs, axis=1)[:, np.newaxis]\n",
    "\n",
    "n_sims = 1000\n",
    "count_mat = np.zeros_like(probs)\n",
    "for sim in range(n_sims):\n",
    "    u = np.random.random((n_obs, 1))\n",
    "    components, indicator_mat = draw_components(probs, u)\n",
    "    count_mat += indicator_mat\n",
    "    \n",
    "print(count_mat / n_sims)\n",
    "print(probs)\n",
    "plt.plot(count_mat / n_sims, probs, 'k.')"
   ]
  },
  {
   "cell_type": "code",
   "execution_count": 8,
   "metadata": {
    "collapsed": false
   },
   "outputs": [
    {
     "data": {
      "text/plain": [
       "array([1, 3, 4, 2])"
      ]
     },
     "execution_count": 8,
     "metadata": {},
     "output_type": "execute_result"
    }
   ],
   "source": [
    "\n",
    "u = np.random.random((n_obs, 1))\n",
    "components, indicator_mat = draw_components(probs, u)\n",
    "\n",
    "count_components(components, dim)"
   ]
  },
  {
   "cell_type": "code",
   "execution_count": null,
   "metadata": {
    "collapsed": true
   },
   "outputs": [],
   "source": []
  }
 ],
 "metadata": {
  "kernelspec": {
   "display_name": "Python 3",
   "language": "python",
   "name": "python3"
  },
  "language_info": {
   "codemirror_mode": {
    "name": "ipython",
    "version": 3
   },
   "file_extension": ".py",
   "mimetype": "text/x-python",
   "name": "python",
   "nbconvert_exporter": "python",
   "pygments_lexer": "ipython3",
   "version": "3.6.0"
  }
 },
 "nbformat": 4,
 "nbformat_minor": 2
}
