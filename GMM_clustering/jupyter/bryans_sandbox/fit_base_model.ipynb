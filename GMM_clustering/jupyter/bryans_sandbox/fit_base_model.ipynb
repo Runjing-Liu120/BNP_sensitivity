{
 "cells": [
  {
   "cell_type": "code",
   "execution_count": 1,
   "metadata": {
    "collapsed": false
   },
   "outputs": [],
   "source": [
    "git_repo = '../../../../'\n",
    "\n",
    "import sys\n",
    "import os\n",
    "\n",
    "sys.path.insert(0, os.path.join(git_repo, 'BNP_sensitivity/GMM_clustering/'))\n",
    "sys.path.insert(0, '../../../../LinearResponseVariationalBayes.py')\n",
    "\n",
    "# Linear response libraries\n",
    "import LinearResponseVariationalBayes as vb\n",
    "import LinearResponseVariationalBayes.SparseObjectives as obj_lib\n",
    "\n",
    "# My libraries\n",
    "import gmm_clustering_lib as gmm_utils\n",
    "import modeling_lib \n",
    "import functional_sensitivity_lib as fun_sens_lib \n",
    "import utils_lib\n",
    "import simulation_lib\n",
    "\n",
    "from scipy import spatial\n",
    "import scipy.cluster.hierarchy as sch\n",
    "\n",
    "import matplotlib.pyplot as plt\n",
    "%matplotlib inline\n",
    "\n",
    "import time\n",
    "from tqdm import tqdm\n",
    "\n",
    "from copy import deepcopy\n",
    "\n",
    "import numpy as np\n",
    "import scipy as sp\n",
    "\n",
    "np.random.seed(453453)\n",
    "\n",
    "import json \n",
    "\n",
    "from sklearn.cluster import KMeans\n",
    "from sklearn.decomposition import PCA\n"
   ]
  },
  {
   "cell_type": "code",
   "execution_count": 2,
   "metadata": {
    "collapsed": true
   },
   "outputs": [],
   "source": [
    "# colors for plotting\n",
    "import matplotlib.cm as cm\n",
    "\n",
    "cmap = cm.get_cmap(name='gist_rainbow')\n",
    "colors1 = [cmap(k * 50) for k in range(12)]\n",
    "colors2 = [cmap(k * 25) for k in range(12)]"
   ]
  },
  {
   "cell_type": "code",
   "execution_count": 3,
   "metadata": {
    "collapsed": false
   },
   "outputs": [
    {
     "data": {
      "image/png": "[encoded data removed]",
      "text/plain": [
       "<matplotlib.figure.Figure at 0x7f3f2b88ae48>"
      ]
     },
     "metadata": {},
     "output_type": "display_data"
    }
   ],
   "source": [
    "# load (or simulate) data\n",
    "simulate = False\n",
    "if not simulate:\n",
    "    # load iris data\n",
    "    dataset_name = 'iris'\n",
    "    features, iris_species = utils_lib.load_data()\n",
    "    dim = features.shape[1]\n",
    "    \n",
    "    # run PCA\n",
    "    pca_fit = PCA()\n",
    "    pca_fit.fit(features)\n",
    "    pc_features = pca_fit.transform(features)\n",
    "    \n",
    "    # plot\n",
    "    fig1 = plt.figure(1)\n",
    "    fig = fig1.add_subplot(111)\n",
    "    utils_lib.plot_clusters(pc_features[:, 0], pc_features[:, 1], iris_species, colors1, fig)\n",
    "    fig.set_xlabel('PC1')\n",
    "    fig.set_ylabel('PC2')\n",
    "    \n",
    "    \n",
    "else:\n",
    "    # Simulate data\n",
    "    dataset_name = 'simulation'\n",
    "\n",
    "    n_obs = 1000\n",
    "    dim = 2\n",
    "    true_k = 3\n",
    "    features, true_z, true_components, true_centroids, true_covs, true_probs = \\\n",
    "        simulation_lib.simulate_data(n_obs, dim, true_k, separation=0.4)\n",
    "\n",
    "    for k in range(true_k):\n",
    "        plt.plot(features[true_components == k, 0], features[true_components == k, 1], '.')"
   ]
  },
  {
   "cell_type": "markdown",
   "metadata": {},
   "source": [
    "# Set up the model"
   ]
  },
  {
   "cell_type": "code",
   "execution_count": 4,
   "metadata": {
    "collapsed": true
   },
   "outputs": [],
   "source": [
    "prior_params = gmm_utils.get_default_prior_params(dim)\n",
    "prior_params['alpha'].set(2.0)\n",
    "#prior_params['alpha'].set(2.0)\n",
    "#prior_params['alpha'].set(1.0)\n",
    "\n",
    "prior_params['prior_gamma_df'].set(8)\n",
    "prior_params['prior_gamma_inv_scale'].set(np.eye(dim) * 0.62)"
   ]
  },
  {
   "cell_type": "code",
   "execution_count": 5,
   "metadata": {
    "collapsed": true
   },
   "outputs": [],
   "source": [
    "k_approx = 12\n",
    "gh_deg = 8\n",
    "model = gmm_utils.DPGaussianMixture(\n",
    "    features, k_approx, prior_params, gh_deg, use_logitnormal_sticks=True)"
   ]
  },
  {
   "cell_type": "code",
   "execution_count": 6,
   "metadata": {
    "collapsed": true
   },
   "outputs": [],
   "source": [
    "# run k-means init\n",
    "n_kmeans_init = 50\n",
    "init_global_free_param = model.cluster_and_set_inits(n_kmeans_init = n_kmeans_init)"
   ]
  },
  {
   "cell_type": "code",
   "execution_count": 7,
   "metadata": {
    "collapsed": false,
    "scrolled": false
   },
   "outputs": [
    {
     "name": "stdout",
     "output_type": "stream",
     "text": [
      "Iter: 0\t RMSE: 5.4171664084976205\t Objective: 4834.222105876296\n",
      "Iter: 50\t RMSE: 12.419820246774433\t Objective: -303.3394988457725\n",
      "Iter: 100\t RMSE: 12.414977545760493\t Objective: -324.9777296376489\n",
      "Iter: 150\t RMSE: 12.415510840283805\t Objective: -325.6558327124899\n",
      "Iter: 200\t RMSE: 12.39831132345162\t Objective: -326.25328642359455\n",
      "Iter: 250\t RMSE: 12.408615025580568\t Objective: -326.2743626124641\n",
      "Iter: 300\t RMSE: 12.387215970485899\t Objective: -326.32718894128743\n",
      "Optimization terminated successfully.\n",
      "         Current function value: -326.337936\n",
      "         Iterations: 310\n",
      "         Function evaluations: 336\n",
      "         Gradient evaluations: 336\n",
      "Iter: 336\t RMSE: 12.390811041892476\t Objective: -326.3379360561102\n",
      "Iter: 337\t RMSE: 12.390811053938076\t Objective: -326.3379360561126\n",
      "Optimization terminated successfully.\n",
      "         Current function value: -326.337936\n",
      "         Iterations: 1\n",
      "         Function evaluations: 2\n",
      "         Gradient evaluations: 2\n",
      "         Hessian evaluations: 0\n",
      "Done. Converged:  True\n"
     ]
    }
   ],
   "source": [
    "t0 = time.time()\n",
    "best_param, converged, x_conv, f_conv, grad_conv, obj_opt, opt_results = \\\n",
    "    model.optimize_full(init_global_free_param)\n",
    "t_newton = time.time() - t0\n",
    "\n",
    "assert converged\n",
    "print('Done. Converged: ', converged)"
   ]
  },
  {
   "cell_type": "code",
   "execution_count": 8,
   "metadata": {
    "collapsed": true
   },
   "outputs": [],
   "source": [
    "kl_hessian = model.objective.fun_free_hessian(best_param)"
   ]
  },
  {
   "cell_type": "code",
   "execution_count": 9,
   "metadata": {
    "collapsed": false
   },
   "outputs": [],
   "source": [
    "# look at results\n",
    "bnp_clusters = np.argmax(model.e_z, axis = 1)\n",
    "bnp_centroids = model.vb_params['global']['centroids'].get()\n",
    "\n",
    "bnp_cluster_infos = model.vb_params['global']['gamma'].get()\n",
    "bnp_cluster_covs = np.linalg.inv(bnp_cluster_infos)"
   ]
  },
  {
   "cell_type": "code",
   "execution_count": 10,
   "metadata": {
    "collapsed": false
   },
   "outputs": [],
   "source": [
    "# we plot in PCA space\n",
    "bnp_centroids_pc, bnp_cluster_covs_pc = \\\n",
    "    utils_lib.transform_params_to_pc_space(pca_fit, bnp_centroids, bnp_cluster_covs)"
   ]
  },
  {
   "cell_type": "code",
   "execution_count": 11,
   "metadata": {
    "collapsed": false
   },
   "outputs": [
    {
     "data": {
      "text/plain": [
       "<matplotlib.text.Text at 0x7f3f20c4f898>"
      ]
     },
     "execution_count": 11,
     "metadata": {},
     "output_type": "execute_result"
    },
    {
     "data": {
      "image/png": "[encoded data removed]",
      "text/plain": [
       "<matplotlib.figure.Figure at 0x7f3f20c33748>"
      ]
     },
     "metadata": {},
     "output_type": "display_data"
    }
   ],
   "source": [
    "# plot results\n",
    "\n",
    "fig1 = plt.figure(1)\n",
    "fig = fig1.add_subplot(111)\n",
    "\n",
    "colors1_ = deepcopy(colors1)\n",
    "# colors1_[0] = colors1[2]\n",
    "# colors1_[1] = colors1[0]\n",
    "# colors1_[2] = colors1[1]\n",
    "\n",
    "utils_lib.plot_clusters(pc_features[:, 0], pc_features[:, 1], bnp_clusters, \\\n",
    "              colors1_, fig, \\\n",
    "              centroids = bnp_centroids_pc[:, np.unique(bnp_clusters)], \\\n",
    "              cov = bnp_cluster_covs_pc[np.unique(bnp_clusters)])\n",
    "\n",
    "fig.set_xlabel('PC1')\n",
    "fig.set_ylabel('PC2')"
   ]
  },
  {
   "cell_type": "code",
   "execution_count": 14,
   "metadata": {
    "collapsed": false
   },
   "outputs": [
    {
     "name": "stdout",
     "output_type": "stream",
     "text": [
      "saving fit dict to  ../../../../BNP_sensitivity/GMM_clustering/iris_fits/bnp_full_data_fit_alpha2.0_iris_.json\n"
     ]
    }
   ],
   "source": [
    "# save model\n",
    "\n",
    "fit_dict = gmm_utils.get_checkpoint_dictionary(model, kl_hessian, seed=453453)\n",
    "base_alpha = model.prior_params['alpha'].get()\n",
    "filename = 'bnp_full_data_fit_alpha{}_{}_.json'.format(base_alpha, dataset_name)\n",
    "json_output_file = os.path.join(\n",
    "    git_repo,\n",
    "    'BNP_sensitivity/GMM_clustering/iris_fits/',\n",
    "    filename)\n",
    "print('saving fit dict to ', json_output_file)\n",
    "with open(json_output_file, 'w') as outfile:\n",
    "    json.dump(fit_dict, outfile)\n"
   ]
  },
  {
   "cell_type": "code",
   "execution_count": null,
   "metadata": {
    "collapsed": true
   },
   "outputs": [],
   "source": []
  },
  {
   "cell_type": "code",
   "execution_count": 15,
   "metadata": {
    "collapsed": false
   },
   "outputs": [
    {
     "name": "stdout",
     "output_type": "stream",
     "text": [
      "[3.5]\n"
     ]
    }
   ],
   "source": [
    "# alpha_vec = np.arange()\n",
    "alpha_vec = np.array([3.5])\n",
    "print(alpha_vec)"
   ]
  },
  {
   "cell_type": "code",
   "execution_count": 16,
   "metadata": {
    "collapsed": false
   },
   "outputs": [
    {
     "name": "stdout",
     "output_type": "stream",
     "text": [
      "Iter: 0\t RMSE: 11.265426497938217\t Objective: -319.4464262327703\n",
      "Iter: 50\t RMSE: 11.278566238863462\t Objective: -320.35524499827136\n",
      "Iter: 100\t RMSE: 11.277199624545311\t Objective: -320.3713331679355\n",
      "Optimization terminated successfully.\n",
      "         Current function value: -320.371335\n",
      "         Iterations: 95\n",
      "         Function evaluations: 115\n",
      "         Gradient evaluations: 115\n",
      "Iter: 115\t RMSE: 11.277174468698764\t Objective: -320.3713348148305\n",
      "Iter: 116\t RMSE: 11.27717426956299\t Objective: -320.371334815834\n",
      "Optimization terminated successfully.\n",
      "         Current function value: -320.371335\n",
      "         Iterations: 1\n",
      "         Function evaluations: 2\n",
      "         Gradient evaluations: 2\n",
      "         Hessian evaluations: 0\n",
      "Done. Converged:  True\n",
      "saving fit dict to  ../../../../BNP_sensitivity/GMM_clustering/iris_fits/bnp_full_data_fit_alpha3.5_iris.json\n"
     ]
    }
   ],
   "source": [
    "# Fit multiple models and save them: \n",
    "\n",
    "for i in range(len(alpha_vec)): \n",
    "    if alpha_vec[i] == 8.0: \n",
    "        continue \n",
    "        \n",
    "    # define prior\n",
    "    prior_params = gmm_utils.get_default_prior_params(dim)\n",
    "    prior_params['alpha'].set(alpha_vec[i])\n",
    "    #prior_params['alpha'].set(2.0)\n",
    "    #prior_params['alpha'].set(1.0)\n",
    "\n",
    "    prior_params['prior_gamma_df'].set(8)\n",
    "    prior_params['prior_gamma_inv_scale'].set(np.eye(dim) * 0.62)\n",
    "\n",
    "    # define model \n",
    "    k_approx = 12\n",
    "    gh_deg = 8\n",
    "    model = gmm_utils.DPGaussianMixture(\n",
    "        features, k_approx, prior_params, gh_deg, use_logitnormal_sticks=True)\n",
    "\n",
    "    # run k-means init\n",
    "#     n_kmeans_init = 50\n",
    "#     init_global_free_param = model.cluster_and_set_inits(n_kmeans_init = n_kmeans_init)\n",
    "    init_global_free_param = deepcopy(best_param)\n",
    "\n",
    "    # fit model\n",
    "    t0 = time.time()\n",
    "    best_param, converged, x_conv, f_conv, grad_conv, obj_opt, opt_results = \\\n",
    "        model.optimize_full(init_global_free_param)\n",
    "    t_newton = time.time() - t0\n",
    "\n",
    "    assert converged\n",
    "    print('Done. Converged: ', converged)\n",
    "\n",
    "    # get KL\n",
    "    kl_hessian = model.objective.fun_free_hessian(best_param)\n",
    "\n",
    "    # save model\n",
    "    fit_dict = gmm_utils.get_checkpoint_dictionary(model, kl_hessian, seed=453453)\n",
    "    base_alpha = model.prior_params['alpha'].get()\n",
    "    filename = 'bnp_full_data_fit_alpha{}_{}.json'.format(base_alpha, dataset_name)\n",
    "    json_output_file = os.path.join(\n",
    "        git_repo,\n",
    "        'BNP_sensitivity/GMM_clustering/iris_fits/',\n",
    "        filename)\n",
    "    print('saving fit dict to ', json_output_file)\n",
    "    with open(json_output_file, 'w') as outfile:\n",
    "        json.dump(fit_dict, outfile)\n"
   ]
  },
  {
   "cell_type": "code",
   "execution_count": 15,
   "metadata": {
    "collapsed": false
   },
   "outputs": [
    {
     "data": {
      "text/plain": [
       "12"
      ]
     },
     "execution_count": 15,
     "metadata": {},
     "output_type": "execute_result"
    }
   ],
   "source": [
    "model.k_approx"
   ]
  },
  {
   "cell_type": "code",
   "execution_count": 19,
   "metadata": {
    "collapsed": false
   },
   "outputs": [],
   "source": [
    "json_input_file = os.path.join(\n",
    "    git_repo, 'BNP_sensitivity/GMM_clustering/iris_fits/bnp_full_data_fit_alpha20.0_iris.json')\n",
    "# json_input_file = os.path.join(\n",
    "#     git_repo,\n",
    "#    'BNP_sensitivity/GMM_clustering/iris_fits/',\n",
    "#    filename)\n",
    "\n",
    "with open(json_input_file, 'r') as fp:\n",
    "    fit_dict = json.load(fp)\n",
    "    model = gmm_utils.get_model_from_checkpoint(fit_dict)\n",
    "    model_ = gmm_utils.get_model_from_checkpoint(fit_dict)\n",
    "    best_param = model.global_vb_params.get_free()\n",
    "    kl_hessian = gmm_utils.get_kl_hessian_from_checkpoint(fit_dict)\n",
    "\n",
    "moment_model = gmm_utils.InterestingMoments(model)\n"
   ]
  },
  {
   "cell_type": "code",
   "execution_count": 20,
   "metadata": {
    "collapsed": false
   },
   "outputs": [
    {
     "name": "stdout",
     "output_type": "stream",
     "text": [
      "predicted expected number of clusters:  9.016361547371204\n"
     ]
    }
   ],
   "source": [
    "print('predicted expected number of clusters: ', modeling_lib.get_e_number_clusters_from_logit_sticks(model))"
   ]
  }
 ],
 "metadata": {
  "kernelspec": {
   "display_name": "Python 3",
   "language": "python",
   "name": "python3"
  },
  "language_info": {
   "codemirror_mode": {
    "name": "ipython",
    "version": 3
   },
   "file_extension": ".py",
   "mimetype": "text/x-python",
   "name": "python",
   "nbconvert_exporter": "python",
   "pygments_lexer": "ipython3",
   "version": "3.6.0"
  }
 },
 "nbformat": 4,
 "nbformat_minor": 2
}
