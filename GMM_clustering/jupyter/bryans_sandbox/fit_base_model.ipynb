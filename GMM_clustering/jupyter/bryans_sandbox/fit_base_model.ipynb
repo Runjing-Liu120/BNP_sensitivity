{
 "cells": [
  {
   "cell_type": "code",
   "execution_count": 1,
   "metadata": {
    "collapsed": false
   },
   "outputs": [],
   "source": [
    "git_repo = '../../../../'\n",
    "\n",
    "import sys\n",
    "import os\n",
    "\n",
    "sys.path.insert(0, os.path.join(git_repo, 'BNP_sensitivity/GMM_clustering/'))\n",
    "sys.path.insert(0, '../../../../LinearResponseVariationalBayes.py')\n",
    "\n",
    "# Linear response libraries\n",
    "import LinearResponseVariationalBayes as vb\n",
    "import LinearResponseVariationalBayes.SparseObjectives as obj_lib\n",
    "\n",
    "# My libraries\n",
    "import gmm_clustering_lib as gmm_utils\n",
    "import modeling_lib \n",
    "import functional_sensitivity_lib as fun_sens_lib \n",
    "import utils_lib\n",
    "import simulation_lib\n",
    "\n",
    "from scipy import spatial\n",
    "import scipy.cluster.hierarchy as sch\n",
    "\n",
    "import matplotlib.pyplot as plt\n",
    "%matplotlib inline\n",
    "\n",
    "import time\n",
    "from tqdm import tqdm\n",
    "\n",
    "from copy import deepcopy\n",
    "\n",
    "import numpy as np\n",
    "import scipy as sp\n",
    "\n",
    "np.random.seed(453453)\n",
    "\n",
    "import json \n",
    "\n",
    "from sklearn.cluster import KMeans\n",
    "from sklearn.decomposition import PCA\n"
   ]
  },
  {
   "cell_type": "code",
   "execution_count": 2,
   "metadata": {
    "collapsed": true
   },
   "outputs": [],
   "source": [
    "# colors for plotting\n",
    "import matplotlib.cm as cm\n",
    "\n",
    "cmap = cm.get_cmap(name='gist_rainbow')\n",
    "colors1 = [cmap(k * 50) for k in range(12)]\n",
    "colors2 = [cmap(k * 25) for k in range(12)]"
   ]
  },
  {
   "cell_type": "code",
   "execution_count": 3,
   "metadata": {
    "collapsed": false
   },
   "outputs": [
    {
     "data": {
      "image/png": "[encoded data removed]",
      "text/plain": [
       "<matplotlib.figure.Figure at 0x7fa7c4e1fe48>"
      ]
     },
     "metadata": {},
     "output_type": "display_data"
    }
   ],
   "source": [
    "# load (or simulate) data\n",
    "simulate = False\n",
    "if not simulate:\n",
    "    # load iris data\n",
    "    dataset_name = 'iris'\n",
    "    features, iris_species = utils_lib.load_data()\n",
    "    dim = features.shape[1]\n",
    "    \n",
    "    # run PCA\n",
    "    pca_fit = PCA()\n",
    "    pca_fit.fit(features)\n",
    "    pc_features = pca_fit.transform(features)\n",
    "    \n",
    "    # plot\n",
    "    fig1 = plt.figure(1)\n",
    "    fig = fig1.add_subplot(111)\n",
    "    utils_lib.plot_clusters(pc_features[:, 0], pc_features[:, 1], iris_species, colors1, fig)\n",
    "    fig.set_xlabel('PC1')\n",
    "    fig.set_ylabel('PC2')\n",
    "    \n",
    "    \n",
    "else:\n",
    "    # Simulate data\n",
    "    dataset_name = 'simulation'\n",
    "\n",
    "    n_obs = 1000\n",
    "    dim = 2\n",
    "    true_k = 3\n",
    "    features, true_z, true_components, true_centroids, true_covs, true_probs = \\\n",
    "        simulation_lib.simulate_data(n_obs, dim, true_k, separation=0.4)\n",
    "\n",
    "    for k in range(true_k):\n",
    "        plt.plot(features[true_components == k, 0], features[true_components == k, 1], '.')"
   ]
  },
  {
   "cell_type": "markdown",
   "metadata": {},
   "source": [
    "# Set up the model"
   ]
  },
  {
   "cell_type": "code",
   "execution_count": 4,
   "metadata": {
    "collapsed": true
   },
   "outputs": [],
   "source": [
    "prior_params = gmm_utils.get_default_prior_params(dim)\n",
    "prior_params['alpha'].set(8.0)\n",
    "#prior_params['alpha'].set(2.0)\n",
    "#prior_params['alpha'].set(1.0)\n",
    "\n",
    "prior_params['prior_gamma_df'].set(8)\n",
    "prior_params['prior_gamma_inv_scale'].set(np.eye(dim) * 0.62)"
   ]
  },
  {
   "cell_type": "code",
   "execution_count": 5,
   "metadata": {
    "collapsed": true
   },
   "outputs": [],
   "source": [
    "k_approx = 12\n",
    "gh_deg = 8\n",
    "model = gmm_utils.DPGaussianMixture(\n",
    "    features, k_approx, prior_params, gh_deg, use_logitnormal_sticks=True)"
   ]
  },
  {
   "cell_type": "code",
   "execution_count": 6,
   "metadata": {
    "collapsed": true
   },
   "outputs": [],
   "source": [
    "# run k-means init\n",
    "n_kmeans_init = 50\n",
    "init_global_free_param = model.cluster_and_set_inits(n_kmeans_init = n_kmeans_init)"
   ]
  },
  {
   "cell_type": "code",
   "execution_count": 7,
   "metadata": {
    "collapsed": false,
    "scrolled": false
   },
   "outputs": [
    {
     "name": "stdout",
     "output_type": "stream",
     "text": [
      "Iter: 0\t RMSE: 5.4171664084976205\t Objective: 4927.074571257251\n",
      "Iter: 50\t RMSE: 12.153510030067023\t Objective: -265.90519162778986\n",
      "Iter: 100\t RMSE: 11.270952699883642\t Objective: -301.5500887790729\n",
      "Iter: 150\t RMSE: 11.21445548115826\t Objective: -304.321330716317\n",
      "Iter: 200\t RMSE: 11.23276530289082\t Objective: -305.00925984845725\n",
      "Iter: 250\t RMSE: 11.223852960388461\t Objective: -305.0730836475249\n",
      "Iter: 300\t RMSE: 11.249681764414532\t Objective: -305.34984275329083\n",
      "Optimization terminated successfully.\n",
      "         Current function value: -305.358330\n",
      "         Iterations: 313\n",
      "         Function evaluations: 327\n",
      "         Gradient evaluations: 327\n",
      "Iter: 327\t RMSE: 11.252659792138301\t Objective: -305.3583295430059\n",
      "Iter: 328\t RMSE: 11.252659820356056\t Objective: -305.3583295430101\n",
      "Optimization terminated successfully.\n",
      "         Current function value: -305.358330\n",
      "         Iterations: 1\n",
      "         Function evaluations: 2\n",
      "         Gradient evaluations: 2\n",
      "         Hessian evaluations: 0\n",
      "Done. Converged:  True\n"
     ]
    }
   ],
   "source": [
    "t0 = time.time()\n",
    "best_param, converged, x_conv, f_conv, grad_conv, obj_opt, opt_results = \\\n",
    "    model.optimize_full(init_global_free_param)\n",
    "t_newton = time.time() - t0\n",
    "\n",
    "assert converged\n",
    "print('Done. Converged: ', converged)"
   ]
  },
  {
   "cell_type": "code",
   "execution_count": 8,
   "metadata": {
    "collapsed": true
   },
   "outputs": [],
   "source": [
    "kl_hessian = model.objective.fun_free_hessian(best_param)"
   ]
  },
  {
   "cell_type": "code",
   "execution_count": 9,
   "metadata": {
    "collapsed": false
   },
   "outputs": [],
   "source": [
    "# look at results\n",
    "bnp_clusters = np.argmax(model.e_z, axis = 1)\n",
    "bnp_centroids = model.vb_params['global']['centroids'].get()\n",
    "\n",
    "bnp_cluster_infos = model.vb_params['global']['gamma'].get()\n",
    "bnp_cluster_covs = np.linalg.inv(bnp_cluster_infos)"
   ]
  },
  {
   "cell_type": "code",
   "execution_count": 10,
   "metadata": {
    "collapsed": false
   },
   "outputs": [],
   "source": [
    "# we plot in PCA space\n",
    "bnp_centroids_pc, bnp_cluster_covs_pc = \\\n",
    "    utils_lib.transform_params_to_pc_space(pca_fit, bnp_centroids, bnp_cluster_covs)"
   ]
  },
  {
   "cell_type": "code",
   "execution_count": 11,
   "metadata": {
    "collapsed": false
   },
   "outputs": [
    {
     "data": {
      "text/plain": [
       "<matplotlib.text.Text at 0x7fa78d95aa58>"
      ]
     },
     "execution_count": 11,
     "metadata": {},
     "output_type": "execute_result"
    },
    {
     "data": {
      "image/png": "[encoded data removed]",
      "text/plain": [
       "<matplotlib.figure.Figure at 0x7fa78d833438>"
      ]
     },
     "metadata": {},
     "output_type": "display_data"
    }
   ],
   "source": [
    "# plot results\n",
    "\n",
    "fig1 = plt.figure(1)\n",
    "fig = fig1.add_subplot(111)\n",
    "\n",
    "colors1_ = deepcopy(colors1)\n",
    "# colors1_[0] = colors1[2]\n",
    "# colors1_[1] = colors1[0]\n",
    "# colors1_[2] = colors1[1]\n",
    "\n",
    "utils_lib.plot_clusters(pc_features[:, 0], pc_features[:, 1], bnp_clusters, \\\n",
    "              colors1_, fig, \\\n",
    "              centroids = bnp_centroids_pc[:, np.unique(bnp_clusters)], \\\n",
    "              cov = bnp_cluster_covs_pc[np.unique(bnp_clusters)])\n",
    "\n",
    "fig.set_xlabel('PC1')\n",
    "fig.set_ylabel('PC2')"
   ]
  },
  {
   "cell_type": "code",
   "execution_count": 12,
   "metadata": {
    "collapsed": false
   },
   "outputs": [
    {
     "name": "stdout",
     "output_type": "stream",
     "text": [
      "saving fit dict to  ../../../../BNP_sensitivity/GMM_clustering/iris_fits/bnp_full_data_fit_alpha8.0_iris.json\n"
     ]
    }
   ],
   "source": [
    "# save model\n",
    "\n",
    "fit_dict = gmm_utils.get_checkpoint_dictionary(model, kl_hessian, seed=453453)\n",
    "base_alpha = model.prior_params['alpha'].get()\n",
    "filename = 'bnp_full_data_fit_alpha{}_{}.json'.format(base_alpha, dataset_name)\n",
    "json_output_file = os.path.join(\n",
    "    git_repo,\n",
    "    'BNP_sensitivity/GMM_clustering/iris_fits/',\n",
    "    filename)\n",
    "print('saving fit dict to ', json_output_file)\n",
    "with open(json_output_file, 'w') as outfile:\n",
    "    json.dump(fit_dict, outfile)\n"
   ]
  },
  {
   "cell_type": "code",
   "execution_count": null,
   "metadata": {
    "collapsed": true
   },
   "outputs": [],
   "source": []
  },
  {
   "cell_type": "code",
   "execution_count": 14,
   "metadata": {
    "collapsed": false
   },
   "outputs": [
    {
     "name": "stdout",
     "output_type": "stream",
     "text": [
      "[ 3.  4.  5.  6.  7.  8.  9. 10. 11. 12. 13. 14. 15.]\n"
     ]
    }
   ],
   "source": [
    "alpha_vec = np.arange(3., 16.)\n",
    "print(alpha_vec)"
   ]
  },
  {
   "cell_type": "code",
   "execution_count": 16,
   "metadata": {
    "collapsed": false
   },
   "outputs": [
    {
     "name": "stdout",
     "output_type": "stream",
     "text": [
      "Iter: 0\t RMSE: 11.252659820356056\t Objective: -313.845865766875\n",
      "Iter: 50\t RMSE: 11.318150494000994\t Objective: -314.7960063313121\n",
      "Iter: 100\t RMSE: 11.641208421051655\t Objective: -315.7499169845477\n",
      "Iter: 150\t RMSE: 11.532963925571082\t Objective: -315.78213347996393\n",
      "Optimization terminated successfully.\n",
      "         Current function value: -315.782133\n",
      "         Iterations: 127\n",
      "         Function evaluations: 156\n",
      "         Gradient evaluations: 156\n",
      "Iter: 156\t RMSE: 11.532965753079493\t Objective: -315.7821334801223\n",
      "Iter: 157\t RMSE: 11.532965656461677\t Objective: -315.78213348013577\n",
      "Optimization terminated successfully.\n",
      "         Current function value: -315.782133\n",
      "         Iterations: 1\n",
      "         Function evaluations: 2\n",
      "         Gradient evaluations: 2\n",
      "         Hessian evaluations: 0\n",
      "Done. Converged:  True\n",
      "saving fit dict to  ../../../../BNP_sensitivity/GMM_clustering/iris_fits/bnp_full_data_fit_alpha3.0_iris.json\n",
      "Iter: 0\t RMSE: 11.532965656461677\t Objective: -312.84290505635914\n",
      "Iter: 50\t RMSE: 11.141824553825593\t Objective: -313.1823566946653\n",
      "Iter: 100\t RMSE: 11.133004971429708\t Objective: -313.1872860085646\n",
      "Optimization terminated successfully.\n",
      "         Current function value: -313.187286\n",
      "         Iterations: 87\n",
      "         Function evaluations: 103\n",
      "         Gradient evaluations: 103\n",
      "Iter: 103\t RMSE: 11.133004710570932\t Objective: -313.1872860086082\n",
      "Iter: 104\t RMSE: 11.13300471923928\t Objective: -313.1872860086149\n",
      "Optimization terminated successfully.\n",
      "         Current function value: -313.187286\n",
      "         Iterations: 1\n",
      "         Function evaluations: 2\n",
      "         Gradient evaluations: 2\n",
      "         Hessian evaluations: 0\n",
      "Done. Converged:  True\n",
      "saving fit dict to  ../../../../BNP_sensitivity/GMM_clustering/iris_fits/bnp_full_data_fit_alpha4.0_iris.json\n",
      "Iter: 0\t RMSE: 11.13300471923928\t Objective: -310.79302798757186\n",
      "Iter: 50\t RMSE: 11.089635404377386\t Objective: -310.8569388712928\n",
      "Optimization terminated successfully.\n",
      "         Current function value: -310.857161\n",
      "         Iterations: 72\n",
      "         Function evaluations: 82\n",
      "         Gradient evaluations: 82\n",
      "Iter: 82\t RMSE: 11.086948704508206\t Objective: -310.8571614000362\n",
      "Iter: 83\t RMSE: 11.086948971431804\t Objective: -310.8571614009537\n",
      "Optimization terminated successfully.\n",
      "         Current function value: -310.857161\n",
      "         Iterations: 1\n",
      "         Function evaluations: 2\n",
      "         Gradient evaluations: 2\n",
      "         Hessian evaluations: 0\n",
      "Done. Converged:  True\n",
      "saving fit dict to  ../../../../BNP_sensitivity/GMM_clustering/iris_fits/bnp_full_data_fit_alpha5.0_iris.json\n",
      "Iter: 0\t RMSE: 11.086948971431804\t Objective: -308.5844128124189\n",
      "Iter: 50\t RMSE: 11.05976023129477\t Objective: -308.63276911814836\n",
      "Optimization terminated successfully.\n",
      "         Current function value: -308.632963\n",
      "         Iterations: 74\n",
      "         Function evaluations: 90\n",
      "         Gradient evaluations: 90\n",
      "Iter: 90\t RMSE: 11.057171659659106\t Objective: -308.63296254291186\n",
      "Iter: 91\t RMSE: 11.057171380743991\t Objective: -308.6329625430064\n",
      "Optimization terminated successfully.\n",
      "         Current function value: -308.632963\n",
      "         Iterations: 1\n",
      "         Function evaluations: 2\n",
      "         Gradient evaluations: 2\n",
      "         Hessian evaluations: 0\n",
      "Done. Converged:  True\n",
      "saving fit dict to  ../../../../BNP_sensitivity/GMM_clustering/iris_fits/bnp_full_data_fit_alpha6.0_iris.json\n",
      "Iter: 0\t RMSE: 11.057171380743991\t Objective: -306.4542587561375\n",
      "Iter: 50\t RMSE: 11.037969077122307\t Objective: -306.4949453074397\n",
      "Optimization terminated successfully.\n",
      "         Current function value: -306.495115\n",
      "         Iterations: 71\n",
      "         Function evaluations: 84\n",
      "         Gradient evaluations: 84\n",
      "Iter: 84\t RMSE: 11.03556173109596\t Objective: -306.49511527707443\n",
      "Iter: 85\t RMSE: 11.035561861098387\t Objective: -306.4951152779374\n",
      "Optimization terminated successfully.\n",
      "         Current function value: -306.495115\n",
      "         Iterations: 1\n",
      "         Function evaluations: 2\n",
      "         Gradient evaluations: 2\n",
      "         Hessian evaluations: 0\n",
      "Done. Converged:  True\n",
      "saving fit dict to  ../../../../BNP_sensitivity/GMM_clustering/iris_fits/bnp_full_data_fit_alpha7.0_iris.json\n",
      "Iter: 0\t RMSE: 11.035561861098387\t Objective: -302.2975911969112\n",
      "Iter: 50\t RMSE: 11.010892220759155\t Objective: -302.43935390031857\n",
      "Optimization terminated successfully.\n",
      "         Current function value: -302.439646\n",
      "         Iterations: 73\n",
      "         Function evaluations: 87\n",
      "         Gradient evaluations: 87\n",
      "Iter: 87\t RMSE: 11.008145952348244\t Objective: -302.4396463729954\n",
      "Iter: 88\t RMSE: 11.008145951544703\t Objective: -302.43964637323904\n",
      "Optimization terminated successfully.\n",
      "         Current function value: -302.439646\n",
      "         Iterations: 1\n",
      "         Function evaluations: 2\n",
      "         Gradient evaluations: 2\n",
      "         Hessian evaluations: 0\n",
      "Done. Converged:  True\n",
      "saving fit dict to  ../../../../BNP_sensitivity/GMM_clustering/iris_fits/bnp_full_data_fit_alpha9.0_iris.json\n",
      "Iter: 0\t RMSE: 11.008145951544703\t Objective: -300.48048251318846\n",
      "Iter: 50\t RMSE: 11.00624782166417\t Objective: -300.516720190251\n",
      "Optimization terminated successfully.\n",
      "         Current function value: -300.516850\n",
      "         Iterations: 75\n",
      "         Function evaluations: 90\n",
      "         Gradient evaluations: 90\n",
      "Iter: 90\t RMSE: 11.008811435559842\t Objective: -300.5168502820703\n",
      "Iter: 91\t RMSE: 11.008811234034766\t Objective: -300.5168502821274\n",
      "Optimization terminated successfully.\n",
      "         Current function value: -300.516850\n",
      "         Iterations: 1\n",
      "         Function evaluations: 2\n",
      "         Gradient evaluations: 2\n",
      "         Hessian evaluations: 0\n",
      "Done. Converged:  True\n",
      "saving fit dict to  ../../../../BNP_sensitivity/GMM_clustering/iris_fits/bnp_full_data_fit_alpha10.0_iris.json\n",
      "Iter: 0\t RMSE: 11.008811234034766\t Objective: -298.63963518615753\n",
      "Iter: 50\t RMSE: 11.24430884428187\t Objective: -300.3184473485495\n",
      "Iter: 100\t RMSE: 11.272716056585933\t Objective: -300.53676851490167\n",
      "Optimization terminated successfully.\n",
      "         Current function value: -300.536769\n",
      "         Iterations: 102\n",
      "         Function evaluations: 122\n",
      "         Gradient evaluations: 122\n",
      "Iter: 122\t RMSE: 11.272750874562815\t Objective: -300.5367685413363\n",
      "Iter: 123\t RMSE: 11.272750941701345\t Objective: -300.53676854134693\n",
      "Optimization terminated successfully.\n",
      "         Current function value: -300.536769\n",
      "         Iterations: 1\n",
      "         Function evaluations: 2\n",
      "         Gradient evaluations: 2\n",
      "         Hessian evaluations: 0\n",
      "Done. Converged:  True\n",
      "saving fit dict to  ../../../../BNP_sensitivity/GMM_clustering/iris_fits/bnp_full_data_fit_alpha11.0_iris.json\n",
      "Iter: 0\t RMSE: 11.272750941701345\t Objective: -299.0241667234722\n",
      "Iter: 50\t RMSE: 11.273232579516623\t Objective: -299.0415618768078\n",
      "Optimization terminated successfully.\n",
      "         Current function value: -299.041571\n",
      "         Iterations: 69\n",
      "         Function evaluations: 86\n",
      "         Gradient evaluations: 86\n",
      "Iter: 86\t RMSE: 11.273041844483773\t Objective: -299.04157051427285\n",
      "Iter: 87\t RMSE: 11.273041635755414\t Objective: -299.0415705143016\n",
      "Optimization terminated successfully.\n",
      "         Current function value: -299.041571\n",
      "         Iterations: 1\n",
      "         Function evaluations: 2\n",
      "         Gradient evaluations: 2\n",
      "         Hessian evaluations: 0\n",
      "Done. Converged:  True\n",
      "saving fit dict to  ../../../../BNP_sensitivity/GMM_clustering/iris_fits/bnp_full_data_fit_alpha12.0_iris.json\n",
      "Iter: 0\t RMSE: 11.273041635755414\t Objective: -297.56330720027773\n",
      "Iter: 50\t RMSE: 11.273512939134173\t Objective: -297.5794133437672\n",
      "Optimization terminated successfully.\n",
      "         Current function value: -297.579416\n",
      "         Iterations: 64\n",
      "         Function evaluations: 77\n",
      "         Gradient evaluations: 77\n",
      "Iter: 77\t RMSE: 11.273327978379056\t Objective: -297.579415860046\n",
      "Iter: 78\t RMSE: 11.273327060132479\t Objective: -297.5794158601309\n",
      "Optimization terminated successfully.\n",
      "         Current function value: -297.579416\n",
      "         Iterations: 1\n",
      "         Function evaluations: 2\n",
      "         Gradient evaluations: 2\n",
      "         Hessian evaluations: 0\n",
      "Done. Converged:  True\n",
      "saving fit dict to  ../../../../BNP_sensitivity/GMM_clustering/iris_fits/bnp_full_data_fit_alpha13.0_iris.json\n",
      "Iter: 0\t RMSE: 11.273327060132479\t Objective: -296.13300201671495\n",
      "Iter: 50\t RMSE: 11.274274302525349\t Objective: -296.1480765439347\n",
      "Optimization terminated successfully.\n",
      "         Current function value: -296.148078\n",
      "         Iterations: 60\n",
      "         Function evaluations: 75\n",
      "         Gradient evaluations: 75\n",
      "Iter: 75\t RMSE: 11.274063095827314\t Objective: -296.14807810433837\n",
      "Iter: 76\t RMSE: 11.274064188458706\t Objective: -296.1480781044339\n",
      "Optimization terminated successfully.\n",
      "         Current function value: -296.148078\n",
      "         Iterations: 1\n",
      "         Function evaluations: 2\n",
      "         Gradient evaluations: 2\n",
      "         Hessian evaluations: 0\n",
      "Done. Converged:  True\n",
      "saving fit dict to  ../../../../BNP_sensitivity/GMM_clustering/iris_fits/bnp_full_data_fit_alpha14.0_iris.json\n",
      "Iter: 0\t RMSE: 11.274064188458706\t Objective: -294.7315154401668\n",
      "Iter: 50\t RMSE: 11.275562036499348\t Objective: -294.74574129139086\n",
      "Optimization terminated successfully.\n",
      "         Current function value: -294.745742\n",
      "         Iterations: 61\n",
      "         Function evaluations: 74\n",
      "         Gradient evaluations: 74\n",
      "Iter: 74\t RMSE: 11.275437467446366\t Objective: -294.74574248458924\n",
      "Iter: 75\t RMSE: 11.275438118559709\t Objective: -294.74574248464415\n",
      "Optimization terminated successfully.\n",
      "         Current function value: -294.745742\n",
      "         Iterations: 1\n",
      "         Function evaluations: 2\n",
      "         Gradient evaluations: 2\n",
      "         Hessian evaluations: 0\n",
      "Done. Converged:  True\n",
      "saving fit dict to  ../../../../BNP_sensitivity/GMM_clustering/iris_fits/bnp_full_data_fit_alpha15.0_iris.json\n"
     ]
    }
   ],
   "source": [
    "# Fit multiple models and save them: \n",
    "\n",
    "for i in range(len(alpha_vec)): \n",
    "    if alpha_vec[i] == 8.0: \n",
    "        continue \n",
    "        \n",
    "    # define prior\n",
    "    prior_params = gmm_utils.get_default_prior_params(dim)\n",
    "    prior_params['alpha'].set(alpha_vec[i])\n",
    "    #prior_params['alpha'].set(2.0)\n",
    "    #prior_params['alpha'].set(1.0)\n",
    "\n",
    "    prior_params['prior_gamma_df'].set(8)\n",
    "    prior_params['prior_gamma_inv_scale'].set(np.eye(dim) * 0.62)\n",
    "\n",
    "    # define model \n",
    "    k_approx = 12\n",
    "    gh_deg = 8\n",
    "    model = gmm_utils.DPGaussianMixture(\n",
    "        features, k_approx, prior_params, gh_deg, use_logitnormal_sticks=True)\n",
    "\n",
    "    # run k-means init\n",
    "#     n_kmeans_init = 50\n",
    "#     init_global_free_param = model.cluster_and_set_inits(n_kmeans_init = n_kmeans_init)\n",
    "    init_global_free_param = best_param\n",
    "\n",
    "    # fit model\n",
    "    t0 = time.time()\n",
    "    best_param, converged, x_conv, f_conv, grad_conv, obj_opt, opt_results = \\\n",
    "        model.optimize_full(init_global_free_param)\n",
    "    t_newton = time.time() - t0\n",
    "\n",
    "    assert converged\n",
    "    print('Done. Converged: ', converged)\n",
    "\n",
    "    # get KL\n",
    "    kl_hessian = model.objective.fun_free_hessian(best_param)\n",
    "\n",
    "    # save model\n",
    "    fit_dict = gmm_utils.get_checkpoint_dictionary(model, kl_hessian, seed=453453)\n",
    "    base_alpha = model.prior_params['alpha'].get()\n",
    "    filename = 'bnp_full_data_fit_alpha{}_{}.json'.format(base_alpha, dataset_name)\n",
    "    json_output_file = os.path.join(\n",
    "        git_repo,\n",
    "        'BNP_sensitivity/GMM_clustering/iris_fits/',\n",
    "        filename)\n",
    "    print('saving fit dict to ', json_output_file)\n",
    "    with open(json_output_file, 'w') as outfile:\n",
    "        json.dump(fit_dict, outfile)\n"
   ]
  },
  {
   "cell_type": "code",
   "execution_count": 17,
   "metadata": {
    "collapsed": false
   },
   "outputs": [
    {
     "data": {
      "text/plain": [
       "12"
      ]
     },
     "execution_count": 17,
     "metadata": {},
     "output_type": "execute_result"
    }
   ],
   "source": [
    "model.k_approx"
   ]
  },
  {
   "cell_type": "code",
   "execution_count": null,
   "metadata": {
    "collapsed": true
   },
   "outputs": [],
   "source": []
  }
 ],
 "metadata": {
  "kernelspec": {
   "display_name": "Python 3",
   "language": "python",
   "name": "python3"
  },
  "language_info": {
   "codemirror_mode": {
    "name": "ipython",
    "version": 3
   },
   "file_extension": ".py",
   "mimetype": "text/x-python",
   "name": "python",
   "nbconvert_exporter": "python",
   "pygments_lexer": "ipython3",
   "version": "3.6.0"
  }
 },
 "nbformat": 4,
 "nbformat_minor": 2
}
