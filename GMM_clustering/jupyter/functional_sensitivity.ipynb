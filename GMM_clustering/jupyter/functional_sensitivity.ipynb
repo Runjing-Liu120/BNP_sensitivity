{
 "cells": [
  {
   "cell_type": "markdown",
   "metadata": {},
   "source": [
    "This notebook demonstrates use of our linear approximation for a multiplicative functional perturbation "
   ]
  },
  {
   "cell_type": "code",
   "execution_count": 1,
   "metadata": {},
   "outputs": [
    {
     "name": "stderr",
     "output_type": "stream",
     "text": [
      "/home/rliu/anaconda3/envs/bnp_sensitivity/lib/python3.8/site-packages/autograd/core.py:290: UserWarning: \n",
      "The defvjp method is deprecated. See the update guide and tutorial:\n",
      "https://github.com/HIPS/autograd/blob/master/docs/updateguide.md\n",
      "https://github.com/HIPS/autograd/blob/master/docs/tutorial.md\n",
      "  warnings.warn(deprecation_msg)\n"
     ]
    }
   ],
   "source": [
    "from autograd import numpy as np\n",
    "from autograd import scipy as sp\n",
    "\n",
    "from numpy.polynomial.hermite import hermgauss\n",
    "\n",
    "np.random.seed(453453)\n",
    "\n",
    "import paragami\n",
    "\n",
    "# BNP sensitivity libraries\n",
    "import sys\n",
    "import bnpgmm_runjingdev.gmm_clustering_lib as gmm_lib\n",
    "from bnpmodeling_runjingdev import modeling_lib \n",
    "import bnpgmm_runjingdev.functional_sensitivity_lib as fun_sens_lib \n",
    "from bnpgmm_runjingdev import utils_lib\n",
    "from bnpmodeling_runjingdev import optimization_lib \n",
    "from bnpmodeling_runjingdev import cluster_quantities_lib as cluster_lib\n",
    "\n",
    "\n",
    "import matplotlib.pyplot as plt\n",
    "%matplotlib inline\n",
    "\n",
    "from sklearn.decomposition import PCA\n",
    "\n",
    "from copy import deepcopy\n",
    "\n",
    "import vittles\n",
    "from tqdm import tqdm\n",
    "\n",
    "import json "
   ]
  },
  {
   "cell_type": "code",
   "execution_count": 2,
   "metadata": {},
   "outputs": [],
   "source": [
    "# colors for plotting\n",
    "import matplotlib.cm as cm\n",
    "\n",
    "cmap = cm.get_cmap(name='gist_rainbow')\n",
    "colors1 = [cmap(k * 50) for k in range(12)]\n",
    "colors2 = [cmap(k * 25) for k in range(12)]"
   ]
  },
  {
   "cell_type": "markdown",
   "metadata": {},
   "source": [
    "# Load data"
   ]
  },
  {
   "cell_type": "markdown",
   "metadata": {},
   "source": [
    "We load and plot the iris dataset"
   ]
  },
  {
   "cell_type": "code",
   "execution_count": 3,
   "metadata": {},
   "outputs": [],
   "source": [
    "# load iris data\n",
    "dataset_name = 'iris'\n",
    "features, iris_species = utils_lib.load_data()\n",
    "dim = features.shape[1]\n",
    "n_obs = len(iris_species)    "
   ]
  },
  {
   "cell_type": "code",
   "execution_count": 4,
   "metadata": {},
   "outputs": [
    {
     "data": {
      "text/plain": [
       "Text(0, 0.5, 'PC2')"
      ]
     },
     "execution_count": 4,
     "metadata": {},
     "output_type": "execute_result"
    },
    {
     "data": {
      "image/png": "[encoded data removed]",
      "text/plain": [
       "<Figure size 432x288 with 1 Axes>"
      ]
     },
     "metadata": {
      "needs_background": "light"
     },
     "output_type": "display_data"
    }
   ],
   "source": [
    "# run PCA\n",
    "pca_fit = PCA()\n",
    "pca_fit.fit(features)\n",
    "pc_features = pca_fit.transform(features)\n",
    "\n",
    "# plot\n",
    "cmap = cm.get_cmap(name='gist_rainbow')\n",
    "colors1 = [cmap(k * 50) for k in range(30)]\n",
    "\n",
    "fig1 = plt.figure(1)\n",
    "fig = fig1.add_subplot(111)\n",
    "utils_lib.plot_clusters(pc_features[:, 0], pc_features[:, 1], iris_species, colors1, fig)\n",
    "fig.set_xlabel('PC1')\n",
    "fig.set_ylabel('PC2')\n"
   ]
  },
  {
   "cell_type": "markdown",
   "metadata": {},
   "source": [
    "# Load model"
   ]
  },
  {
   "cell_type": "markdown",
   "metadata": {},
   "source": [
    "### Get prior "
   ]
  },
  {
   "cell_type": "code",
   "execution_count": 5,
   "metadata": {},
   "outputs": [],
   "source": [
    "prior_params_dict, prior_params_paragami = gmm_lib.get_default_prior_params(dim)"
   ]
  },
  {
   "cell_type": "code",
   "execution_count": 6,
   "metadata": {},
   "outputs": [
    {
     "name": "stdout",
     "output_type": "stream",
     "text": [
      "{'alpha': array([3.]), 'prior_centroid_mean': array([0.]), 'prior_lambda': array([1.]), 'prior_wishart_df': array([10.]), 'prior_wishart_rate': array([[1., 0., 0., 0.],\n",
      "       [0., 1., 0., 0.],\n",
      "       [0., 0., 1., 0.],\n",
      "       [0., 0., 0., 1.]])}\n"
     ]
    }
   ],
   "source": [
    "print(prior_params_dict)"
   ]
  },
  {
   "cell_type": "code",
   "execution_count": 7,
   "metadata": {},
   "outputs": [],
   "source": [
    "# DP prior parameter \n",
    "prior_params_dict['alpha'] = 12"
   ]
  },
  {
   "cell_type": "markdown",
   "metadata": {},
   "source": [
    "### Variational parameters"
   ]
  },
  {
   "cell_type": "code",
   "execution_count": 8,
   "metadata": {},
   "outputs": [],
   "source": [
    "k_approx = 30"
   ]
  },
  {
   "cell_type": "code",
   "execution_count": 9,
   "metadata": {},
   "outputs": [],
   "source": [
    "# Gauss-Hermite points\n",
    "gh_deg = 20\n",
    "gh_loc, gh_weights = hermgauss(gh_deg)\n"
   ]
  },
  {
   "cell_type": "code",
   "execution_count": 10,
   "metadata": {},
   "outputs": [],
   "source": [
    "# get vb parameters\n",
    "vb_params_dict, vb_params_paragami = gmm_lib.get_vb_params_paragami_object(dim, k_approx)"
   ]
  },
  {
   "cell_type": "code",
   "execution_count": 11,
   "metadata": {},
   "outputs": [
    {
     "data": {
      "text/plain": [
       "2009.3998815516827"
      ]
     },
     "execution_count": 11,
     "metadata": {},
     "output_type": "execute_result"
    }
   ],
   "source": [
    "# the objective \n",
    "gmm_lib.get_kl(features, vb_params_dict, prior_params_dict, gh_loc, gh_weights)"
   ]
  },
  {
   "cell_type": "markdown",
   "metadata": {},
   "source": [
    "# Optimize"
   ]
  },
  {
   "cell_type": "markdown",
   "metadata": {},
   "source": [
    "### Kmeans"
   ]
  },
  {
   "cell_type": "code",
   "execution_count": 12,
   "metadata": {},
   "outputs": [],
   "source": [
    "n_kmeans_init = 50\n",
    "init_vb_free_params, init_vb_params_dict, init_ez = \\\n",
    "    utils_lib.cluster_and_get_k_means_inits(features, vb_params_paragami, \n",
    "                                                n_kmeans_init = n_kmeans_init, \n",
    "                                                seed = 32423)"
   ]
  },
  {
   "cell_type": "markdown",
   "metadata": {},
   "source": [
    "### Newton"
   ]
  },
  {
   "cell_type": "markdown",
   "metadata": {},
   "source": [
    "### Set up KL objective as a function of unconstrained VB parameters"
   ]
  },
  {
   "cell_type": "code",
   "execution_count": 13,
   "metadata": {},
   "outputs": [],
   "source": [
    "# get loss as a function of vb parameters\n",
    "def get_vb_params_loss(params):\n",
    "    return gmm_lib.get_kl(features, params, prior_params_dict,\n",
    "                                gh_loc, gh_weights)\n",
    "\n",
    "# Get loss as a function vb_free_params\n",
    "get_loss = paragami.FlattenFunctionInput(original_fun=get_vb_params_loss,\n",
    "                                        patterns=vb_params_paragami,\n",
    "                                        free=True)\n"
   ]
  },
  {
   "cell_type": "code",
   "execution_count": 14,
   "metadata": {},
   "outputs": [
    {
     "name": "stdout",
     "output_type": "stream",
     "text": [
      "running bfgs ... \n",
      "Iter 0: f = 764.09420271\n",
      "Iter 1: f = 597.19796043\n",
      "Iter 2: f = 466.21787197\n",
      "Iter 3: f = 1087.06177347\n",
      "Iter 4: f = 419.49158187\n",
      "Iter 5: f = 369.96099757\n",
      "Iter 6: f = 324.50284029\n",
      "Iter 7: f = 269.56811060\n",
      "Iter 8: f = 254.00028219\n",
      "Iter 9: f = 227.43781552\n",
      "Iter 10: f = 185.58440500\n",
      "Iter 11: f = 134.25668549\n",
      "Iter 12: f = 68.22861692\n",
      "Iter 13: f = 56.10407209\n",
      "Iter 14: f = 33.56616221\n",
      "Iter 15: f = -4.96369633\n",
      "Iter 16: f = -52.80849166\n",
      "Iter 17: f = -89.47795655\n",
      "Iter 18: f = -9.47163148\n",
      "Iter 19: f = -97.92520728\n",
      "Iter 20: f = -111.21669822\n",
      "Iter 21: f = -119.51435034\n",
      "Iter 22: f = -132.59262491\n",
      "Iter 23: f = -147.24832894\n",
      "Iter 24: f = -166.02791237\n",
      "Iter 25: f = -172.64290487\n",
      "Iter 26: f = -180.60253201\n",
      "Iter 27: f = -189.86811024\n",
      "Iter 28: f = -202.48716343\n",
      "Iter 29: f = -214.25160522\n",
      "Iter 30: f = -217.07327299\n",
      "Iter 31: f = -221.94554797\n",
      "Iter 32: f = -229.16574069\n",
      "Iter 33: f = -236.18675817\n",
      "Iter 34: f = -239.24620710\n",
      "Iter 35: f = -243.07006727\n",
      "Iter 36: f = -247.45893047\n",
      "Iter 37: f = -252.49350129\n",
      "Iter 38: f = -258.82928556\n",
      "Iter 39: f = -263.03481598\n",
      "Iter 40: f = -267.54847043\n",
      "Iter 41: f = -263.73831389\n",
      "Iter 42: f = -269.16322649\n",
      "Iter 43: f = -271.66626305\n",
      "Iter 44: f = -272.43651343\n",
      "Iter 45: f = -273.71781631\n",
      "Iter 46: f = -274.41497377\n",
      "Iter 47: f = -275.63195982\n",
      "Iter 48: f = -277.50781056\n",
      "Iter 49: f = -278.77331679\n",
      "Iter 50: f = -280.65742367\n",
      "Iter 51: f = -281.48972052\n",
      "Iter 52: f = -282.80772230\n",
      "Iter 53: f = -284.20420734\n",
      "Iter 54: f = -285.79628449\n",
      "Iter 55: f = -287.95407549\n",
      "Iter 56: f = -290.16449514\n",
      "Iter 57: f = -291.96344715\n",
      "Iter 58: f = -292.70257288\n",
      "Iter 59: f = -293.80780958\n",
      "Iter 60: f = -295.21025829\n",
      "Iter 61: f = -297.08123288\n",
      "Iter 62: f = -299.27814757\n",
      "Iter 63: f = -301.24166517\n",
      "Iter 64: f = -302.21127018\n",
      "Iter 65: f = -303.14139097\n",
      "Iter 66: f = -304.16571296\n",
      "Iter 67: f = -304.85335657\n",
      "Iter 68: f = -305.55331009\n",
      "Iter 69: f = -306.12168820\n",
      "Iter 70: f = -306.36356710\n",
      "Iter 71: f = -306.72440335\n",
      "Iter 72: f = -307.16847347\n",
      "Iter 73: f = -307.25910693\n",
      "Iter 74: f = -307.41614668\n",
      "Iter 75: f = -307.65155462\n",
      "Iter 76: f = -307.92217389\n",
      "Iter 77: f = -308.04229572\n",
      "Iter 78: f = -308.18604435\n",
      "Iter 79: f = -308.30349244\n",
      "Iter 80: f = -308.39307509\n",
      "Iter 81: f = -308.45515740\n",
      "Iter 82: f = -308.52434323\n",
      "Iter 83: f = -308.59972029\n",
      "Iter 84: f = -308.65484172\n",
      "Iter 85: f = -308.69809976\n",
      "Iter 86: f = -308.73926213\n",
      "Iter 87: f = -308.77404958\n",
      "Iter 88: f = -308.82120140\n",
      "Iter 89: f = -308.87767616\n",
      "Iter 90: f = -308.92527966\n",
      "Iter 91: f = -308.99195841\n",
      "Iter 92: f = -309.08860168\n",
      "Iter 93: f = -309.16715017\n",
      "Iter 94: f = -309.21267168\n",
      "Iter 95: f = -309.26478066\n",
      "Iter 96: f = -309.28229190\n",
      "Iter 97: f = -309.30856827\n",
      "Iter 98: f = -309.33748046\n",
      "Iter 99: f = -309.35861847\n",
      "Iter 100: f = -309.36850862\n",
      "Iter 101: f = -309.38381268\n",
      "Iter 102: f = -309.40041877\n",
      "Iter 103: f = -309.41114105\n",
      "Iter 104: f = -309.41938022\n",
      "Iter 105: f = -309.42955803\n",
      "Iter 106: f = -309.44082431\n",
      "Iter 107: f = -309.45538307\n",
      "Iter 108: f = -309.46647117\n",
      "Iter 109: f = -309.48054704\n",
      "Iter 110: f = -309.48786127\n",
      "Iter 111: f = -309.49700481\n",
      "Iter 112: f = -309.50711236\n",
      "Iter 113: f = -309.51415978\n",
      "Iter 114: f = -309.52196630\n",
      "Iter 115: f = -309.52937591\n",
      "Iter 116: f = -309.53256777\n",
      "Iter 117: f = -309.53690615\n",
      "Iter 118: f = -309.54022075\n",
      "Iter 119: f = -309.54336927\n",
      "Iter 120: f = -309.54414248\n",
      "Iter 121: f = -309.54552088\n",
      "Iter 122: f = -309.54777298\n",
      "Iter 123: f = -309.54951833\n",
      "Iter 124: f = -309.55114658\n",
      "Iter 125: f = -309.54989485\n",
      "Iter 126: f = -309.55167957\n",
      "Iter 127: f = -309.55237168\n",
      "Iter 128: f = -309.55336603\n",
      "Iter 129: f = -309.55462537\n",
      "Iter 130: f = -309.55591958\n",
      "Iter 131: f = -309.55703928\n",
      "Iter 132: f = -309.55811268\n",
      "Iter 133: f = -309.55965191\n",
      "Iter 134: f = -309.56078467\n",
      "Iter 135: f = -309.56239961\n",
      "Iter 136: f = -309.56413873\n",
      "Iter 137: f = -309.56593887\n",
      "Iter 138: f = -309.56839743\n",
      "Iter 139: f = -309.56982758\n",
      "Iter 140: f = -309.57192940\n",
      "Iter 141: f = -309.57350809\n",
      "Iter 142: f = -309.57383419\n",
      "Iter 143: f = -309.57444290\n",
      "Iter 144: f = -309.57551517\n",
      "Iter 145: f = -309.57720966\n",
      "Iter 146: f = -309.57969363\n",
      "Iter 147: f = -309.58027633\n",
      "Iter 148: f = -309.58134012\n",
      "Iter 149: f = -309.58326078\n",
      "Iter 150: f = -309.58611521\n",
      "Iter 151: f = -309.59012124\n",
      "Iter 152: f = -309.59461766\n",
      "Iter 153: f = -309.59615927\n",
      "Iter 154: f = -309.59905705\n",
      "Iter 155: f = -309.60450500\n",
      "Iter 156: f = -309.61445635\n",
      "Iter 157: f = -309.63249351\n",
      "Iter 158: f = -309.63354546\n",
      "Iter 159: f = -309.64341924\n",
      "Iter 160: f = -309.66385871\n",
      "Iter 161: f = -309.69686748\n",
      "Iter 162: f = -309.71172401\n",
      "Iter 163: f = -309.73035858\n",
      "Iter 164: f = -309.76209248\n",
      "Iter 165: f = -309.81110621\n",
      "Iter 166: f = -309.88286298\n",
      "Iter 167: f = -309.96752389\n",
      "Iter 168: f = -309.78600805\n",
      "Iter 169: f = -309.98628928\n",
      "Iter 170: f = -310.01065601\n",
      "Iter 171: f = -309.98972862\n",
      "Iter 172: f = -310.01940275\n",
      "Iter 173: f = -310.03191487\n",
      "Iter 174: f = -310.03378438\n",
      "Iter 175: f = -310.03734729\n",
      "Iter 176: f = -310.04357147\n",
      "Iter 177: f = -310.05240546\n",
      "Iter 178: f = -310.05930787\n",
      "Iter 179: f = -310.05095193\n",
      "Iter 180: f = -310.06130518\n",
      "Iter 181: f = -310.06317446\n",
      "Iter 182: f = -310.06564254\n",
      "Iter 183: f = -310.06849144\n",
      "Iter 184: f = -310.06550496\n",
      "Iter 185: f = -310.06943461\n",
      "Iter 186: f = -310.07056552\n",
      "Iter 187: f = -310.07107903\n",
      "Iter 188: f = -310.07178038\n",
      "Iter 189: f = -310.07262325\n",
      "Iter 190: f = -310.07231294\n",
      "Iter 191: f = -310.07291638\n",
      "Iter 192: f = -310.07335450\n",
      "Iter 193: f = -310.07395119\n",
      "Iter 194: f = -310.07384466\n",
      "Iter 195: f = -310.07422804\n",
      "Iter 196: f = -310.07466248\n",
      "Iter 197: f = -310.07528637\n",
      "Iter 198: f = -310.07556666\n",
      "Iter 199: f = -310.07605265\n",
      "Iter 200: f = -310.07680844\n",
      "Iter 201: f = -310.07709896\n",
      "Iter 202: f = -310.07758986\n",
      "Iter 203: f = -310.07825568\n",
      "Iter 204: f = -310.07755810\n",
      "Iter 205: f = -310.07847726\n",
      "Iter 206: f = -310.07880160\n",
      "Iter 207: f = -310.07905161\n",
      "Iter 208: f = -310.07925210\n",
      "Iter 209: f = -310.07943179\n",
      "Iter 210: f = -310.07942558\n",
      "Iter 211: f = -310.07949015\n",
      "Iter 212: f = -310.07956613\n",
      "Iter 213: f = -310.07963329\n",
      "Iter 214: f = -310.07960673\n",
      "Iter 215: f = -310.07966118\n",
      "Iter 216: f = -310.07970351\n",
      "Iter 217: f = -310.07976067\n",
      "Iter 218: f = -310.07972343\n",
      "Iter 219: f = -310.07978150\n",
      "Iter 220: f = -310.07981641\n",
      "Iter 221: f = -310.07987329\n",
      "Iter 222: f = -310.07992450\n",
      "Iter 223: f = -310.08000484\n",
      "Iter 224: f = -310.08013111\n",
      "Iter 225: f = -310.08025258\n",
      "Iter 226: f = -310.08045214\n",
      "Iter 227: f = -310.08077447\n",
      "Iter 228: f = -310.08108270\n",
      "Iter 229: f = -310.08156593\n",
      "Iter 230: f = -310.08231016\n",
      "Iter 231: f = -310.08288051\n",
      "Iter 232: f = -310.08383281\n",
      "Iter 233: f = -310.08532378\n",
      "Iter 234: f = -310.08576494\n",
      "Iter 235: f = -310.08655051\n",
      "Iter 236: f = -310.08777149\n",
      "Iter 237: f = -310.08696440\n",
      "Iter 238: f = -310.08823532\n",
      "Iter 239: f = -310.08883988\n",
      "Iter 240: f = -310.08915840\n",
      "Iter 241: f = -310.08921644\n",
      "Iter 242: f = -310.08932481\n",
      "Iter 243: f = -310.08951060\n",
      "Iter 244: f = -310.08960075\n",
      "Iter 245: f = -310.08973131\n",
      "Iter 246: f = -310.08979779\n",
      "Iter 247: f = -310.08971588\n",
      "Iter 248: f = -310.08980973\n",
      "Iter 249: f = -310.08983036\n",
      "Iter 250: f = -310.08985923\n",
      "Iter 251: f = -310.08982573\n",
      "Iter 252: f = -310.08986850\n",
      "Iter 253: f = -310.08987832\n",
      "Iter 254: f = -310.08988420\n",
      "Iter 255: f = -310.08989284\n",
      "Iter 256: f = -310.08990558\n",
      "Iter 257: f = -310.08991556\n",
      "Iter 258: f = -310.08992593\n",
      "Iter 259: f = -310.08994492\n",
      "Iter 260: f = -310.08997782\n",
      "Iter 261: f = -310.09003197\n",
      "Iter 262: f = -310.09011448\n",
      "Iter 263: f = -310.09017895\n",
      "Iter 264: f = -310.09024774\n",
      "Iter 265: f = -310.09035780\n",
      "Iter 266: f = -310.09054071\n",
      "Iter 267: f = -310.09081192\n",
      "Iter 268: f = -310.09111851\n",
      "Iter 269: f = -310.09124385\n",
      "Iter 270: f = -310.09145262\n",
      "Iter 271: f = -310.09178448\n",
      "Iter 272: f = -310.09184766\n",
      "Iter 273: f = -310.09195403\n",
      "Iter 274: f = -310.09209747\n",
      "Iter 275: f = -310.09211120\n",
      "Iter 276: f = -310.09213318\n",
      "Iter 277: f = -310.09216297\n",
      "Iter 278: f = -310.09216980\n",
      "Iter 279: f = -310.09217940\n",
      "Iter 280: f = -310.09218751\n",
      "Iter 281: f = -310.09218989\n",
      "Iter 282: f = -310.09219324\n",
      "Iter 283: f = -310.09219795\n",
      "Iter 284: f = -310.09220398\n",
      "Iter 285: f = -310.09221090\n",
      "Iter 286: f = -310.09222085\n",
      "Iter 287: f = -310.09223568\n",
      "Iter 288: f = -310.09225867\n",
      "Iter 289: f = -310.09229432\n",
      "Iter 290: f = -310.09234192\n",
      "Iter 291: f = -310.09238920\n",
      "Iter 292: f = -310.09247552\n",
      "Iter 293: f = -310.09263143\n",
      "Iter 294: f = -310.09286072\n",
      "Iter 295: f = -310.09323042\n",
      "Iter 296: f = -310.09381535\n",
      "Iter 297: f = -310.09441033\n"
     ]
    },
    {
     "name": "stdout",
     "output_type": "stream",
     "text": [
      "Iter 298: f = -310.09557526\n",
      "Iter 299: f = -310.10127450\n",
      "Iter 300: f = -310.04961219\n",
      "Iter 301: f = -310.10855871\n",
      "Iter 302: f = -310.10990171\n",
      "Iter 303: f = -309.78443207\n",
      "Iter 304: f = -310.11091218\n",
      "Iter 305: f = -310.11296422\n",
      "Iter 306: f = -310.12121948\n",
      "Iter 307: f = -310.13847998\n",
      "Iter 308: f = -310.18821426\n",
      "Iter 309: f = -310.27336410\n",
      "Iter 310: f = -310.30032358\n",
      "Iter 311: f = -310.34293039\n",
      "Iter 312: f = -310.34357576\n",
      "Iter 313: f = -310.36459848\n",
      "Iter 314: f = -310.38071514\n",
      "Iter 315: f = -310.37869778\n",
      "Iter 316: f = -310.38752034\n",
      "Iter 317: f = -310.39475051\n",
      "Iter 318: f = -310.40298071\n",
      "Iter 319: f = -310.39813575\n",
      "Iter 320: f = -310.40518969\n",
      "Iter 321: f = -310.40807932\n",
      "Iter 322: f = -310.40936398\n",
      "Iter 323: f = -310.40967816\n",
      "Iter 324: f = -310.41011895\n",
      "Iter 325: f = -310.41068355\n",
      "Iter 326: f = -310.41089015\n",
      "Iter 327: f = -310.41058745\n",
      "Iter 328: f = -310.41094386\n",
      "Iter 329: f = -310.41103109\n",
      "Iter 330: f = -310.41114619\n",
      "Iter 331: f = -310.41105665\n",
      "Iter 332: f = -310.41117258\n",
      "Iter 333: f = -310.41121783\n",
      "Iter 334: f = -310.41129612\n",
      "Iter 335: f = -310.41142458\n",
      "Iter 336: f = -310.41173095\n",
      "Iter 337: f = -310.41457949\n",
      "Iter 338: f = -310.34797540\n",
      "Iter 339: f = -310.41628249\n",
      "Iter 340: f = -310.41657610\n",
      "Iter 341: f = -309.57480345\n",
      "Iter 342: f = -310.41662470\n",
      "Iter 343: f = -310.41672264\n",
      "Iter 344: f = -310.41710973\n",
      "Iter 345: f = -310.41857680\n",
      "Iter 346: f = -310.42225715\n",
      "Iter 347: f = -310.42909729\n",
      "Iter 348: f = -310.44068474\n",
      "Iter 349: f = -310.45295237\n",
      "Iter 350: f = -310.45334792\n",
      "Iter 351: f = -310.45924701\n",
      "Iter 352: f = -310.46704178\n",
      "Iter 353: f = -310.47789116\n",
      "Iter 354: f = -310.47957620\n",
      "Iter 355: f = -310.48169546\n",
      "Iter 356: f = -310.48295306\n",
      "Iter 357: f = -310.48332652\n",
      "Iter 358: f = -310.48376482\n",
      "Iter 359: f = -310.48400430\n",
      "Iter 360: f = -310.48407623\n",
      "Iter 361: f = -310.48401878\n",
      "Iter 362: f = -310.48410227\n",
      "Iter 363: f = -310.48413005\n",
      "Iter 364: f = -310.48415444\n",
      "Iter 365: f = -310.48410835\n",
      "Iter 366: f = -310.48416081\n",
      "Iter 367: f = -310.48416999\n",
      "Iter 368: f = -310.48418451\n",
      "Iter 369: f = -310.48418743\n",
      "Iter 370: f = -310.48419294\n",
      "Iter 371: f = -310.48420323\n",
      "Iter 372: f = -310.48422138\n",
      "Iter 373: f = -310.48424282\n",
      "Iter 374: f = -310.48427327\n",
      "Iter 375: f = -310.48430744\n",
      "Iter 376: f = -310.48435872\n",
      "Iter 377: f = -310.48442565\n",
      "Iter 378: f = -310.48453036\n",
      "Iter 379: f = -310.48468479\n",
      "Iter 380: f = -310.48471361\n",
      "Iter 381: f = -310.48476857\n",
      "Iter 382: f = -310.48487279\n",
      "Iter 383: f = -310.48506327\n",
      "Iter 384: f = -310.48533472\n",
      "Iter 385: f = -310.48563816\n",
      "Iter 386: f = -310.48581780\n",
      "Iter 387: f = -310.48602940\n",
      "Iter 388: f = -310.48594402\n",
      "Iter 389: f = -310.48611848\n",
      "Iter 390: f = -310.48619761\n",
      "Iter 391: f = -310.48624066\n",
      "Iter 392: f = -310.48623201\n",
      "Iter 393: f = -310.48624714\n",
      "Iter 394: f = -310.48625786\n",
      "Iter 395: f = -310.48627101\n",
      "Iter 396: f = -310.48627304\n",
      "Iter 397: f = -310.48627472\n",
      "Iter 398: f = -310.48627644\n",
      "Iter 399: f = -310.48627800\n",
      "Iter 400: f = -310.48627490\n",
      "Iter 401: f = -310.48627824\n",
      "Iter 402: f = -310.48627844\n",
      "Iter 403: f = -310.48627866\n",
      "Iter 404: f = -310.48627859\n",
      "Iter 405: f = -310.48627867\n",
      "Iter 406: f = -310.48627868\n",
      "Iter 407: f = -310.48627869\n",
      "Iter 408: f = -310.48627869\n",
      "Iter 409: f = -310.48627869\n",
      "Iter 410: f = -310.48627870\n",
      "Iter 411: f = -310.48627870\n",
      "Iter 412: f = -310.48627870\n",
      "Iter 413: f = -310.48627870\n",
      "Iter 414: f = -310.48627870\n",
      "Iter 415: f = -310.48627870\n",
      "Iter 416: f = -310.48627870\n",
      "Iter 417: f = -310.48627870\n",
      "Iter 418: f = -310.48627870\n",
      "Iter 419: f = -310.48627870\n",
      "Iter 420: f = -310.48627870\n",
      "Iter 421: f = -310.48627870\n",
      "Iter 422: f = -310.48627870\n",
      "Iter 423: f = -310.48627870\n",
      "Iter 424: f = -310.48627870\n",
      "Iter 425: f = -310.48627870\n",
      "Iter 426: f = -310.48627870\n",
      "Iter 427: f = -310.48627870\n",
      "Iter 428: f = -310.48627870\n",
      "Iter 429: f = -310.48627870\n",
      "Iter 430: f = -310.48627870\n",
      "Iter 431: f = -310.48627870\n",
      "Iter 432: f = -310.48627870\n",
      "Iter 433: f = -310.48627870\n",
      "Iter 434: f = -310.48627870\n",
      "Iter 435: f = -310.48627870\n",
      "Iter 436: f = -310.48627870\n",
      "Iter 437: f = -310.48627870\n",
      "Iter 438: f = -310.48627870\n",
      "Iter 439: f = -310.48627870\n",
      "Iter 440: f = -310.48627870\n",
      "Iter 441: f = -310.48627870\n",
      "Iter 442: f = -310.48627870\n",
      "Iter 443: f = -310.48627870\n",
      "Iter 444: f = -310.48627870\n",
      "Iter 445: f = -310.48627870\n",
      "Iter 446: f = -310.48627870\n",
      "Iter 447: f = -310.48627870\n",
      "Iter 448: f = -310.48627870\n",
      "Iter 449: f = -310.48627870\n",
      "Iter 450: f = -310.48627870\n",
      "Iter 451: f = -310.48627870\n",
      "Iter 452: f = -310.48627870\n",
      "Iter 453: f = -310.48627870\n",
      "Iter 454: f = -310.48627870\n",
      "Iter 455: f = -310.48627870\n",
      "Iter 456: f = -310.48627870\n",
      "Iter 457: f = -310.48627870\n",
      "Iter 458: f = -310.48627870\n",
      "Iter 459: f = -310.48627870\n",
      "Iter 460: f = -310.48627870\n",
      "Iter 461: f = -310.48627870\n",
      "Iter 462: f = -310.48627870\n",
      "Iter 463: f = -310.48627870\n",
      "Iter 464: f = -310.48627870\n",
      "Iter 465: f = -310.48627870\n",
      "Iter 466: f = -310.48627870\n",
      "Iter 467: f = -310.48627870\n",
      "Iter 468: f = -310.48627870\n",
      "Iter 469: f = -310.48627870\n",
      "Iter 470: f = -310.48627870\n",
      "Iter 471: f = -310.48627870\n",
      "Iter 472: f = -310.48627870\n",
      "Iter 473: f = -310.48627870\n",
      "Iter 474: f = -310.48627870\n",
      "Iter 475: f = -310.48627870\n",
      "Iter 476: f = -310.48627870\n",
      "Iter 477: f = -310.48627870\n",
      "Iter 478: f = -310.48627870\n",
      "Iter 479: f = -310.48627870\n",
      "Iter 480: f = -310.48627870\n",
      "Iter 481: f = -310.48627870\n",
      "Iter 482: f = -310.48627870\n",
      "Iter 483: f = -310.48627870\n",
      "Warning: Desired error not necessarily achieved due to precision loss.\n",
      "         Current function value: -310.486279\n",
      "         Iterations: 376\n",
      "         Function evaluations: 484\n",
      "         Gradient evaluations: 473\n",
      "\n",
      " running preconditioned newton; iter =  0\n",
      "Computing Hessian to set preconditioner\n",
      "preconditioning time: 10.92\n",
      "running newton steps\n",
      "Iter 0: f = -310.48627870\n",
      "Iter 1: f = -310.48627870\n",
      "Optimization terminated successfully.\n",
      "         Current function value: -310.486279\n",
      "         Iterations: 1\n",
      "         Function evaluations: 2\n",
      "         Gradient evaluations: 2\n",
      "         Hessian evaluations: 2\n",
      "Iter 0: x_diff = 2.554709286930909e-05, f_diff = 7.389644451905042e-13, grad_l1 = 1.5437898723364725e-10\n",
      "done. \n"
     ]
    }
   ],
   "source": [
    "vb_opt = optimization_lib.optimize_full(get_loss, init_vb_free_params,\n",
    "                    bfgs_max_iter = 500, netwon_max_iter = 50,\n",
    "                    max_precondition_iter = 10,\n",
    "                    gtol=1e-8, ftol=1e-8, xtol=1e-8)"
   ]
  },
  {
   "cell_type": "code",
   "execution_count": 15,
   "metadata": {
    "collapsed": true
   },
   "outputs": [],
   "source": [
    "def plot_results_from_vb_params_dict(pca_fit, vb_params_dict, e_z, fig): \n",
    "    # we plot in PCA space\n",
    "    bnp_centroids_pc, bnp_cluster_covs_pc = \\\n",
    "        utils_lib.transform_params_to_pc_space(pca_fit, vb_params_dict['centroids'], \n",
    "                                               np.linalg.inv(vb_params_dict['gamma']))\n",
    "    \n",
    "    bnp_clusters = np.argmax(e_z, axis = 1)\n",
    "\n",
    "    utils_lib.plot_clusters(pc_features[:, 0], pc_features[:, 1], bnp_clusters, \\\n",
    "                  colors1, fig, \\\n",
    "                  centroids = bnp_centroids_pc[:, np.unique(bnp_clusters)], \n",
    "                cov = bnp_cluster_covs_pc[np.unique(bnp_clusters)])\n"
   ]
  },
  {
   "cell_type": "code",
   "execution_count": 16,
   "metadata": {
    "collapsed": true
   },
   "outputs": [],
   "source": [
    "vb_opt_dict = vb_params_paragami.fold(vb_opt, free = True)\n",
    "e_z_opt = gmm_lib.get_optimal_z_from_vb_params_dict(features, vb_opt_dict, gh_loc, gh_weights)"
   ]
  },
  {
   "cell_type": "code",
   "execution_count": 17,
   "metadata": {},
   "outputs": [
    {
     "data": {
      "image/png": "[encoded data removed]",
      "text/plain": [
       "<Figure size 432x288 with 1 Axes>"
      ]
     },
     "metadata": {
      "needs_background": "light"
     },
     "output_type": "display_data"
    }
   ],
   "source": [
    "# Newton results\n",
    "fig1 = plt.figure(1)\n",
    "fig = fig1.add_subplot(111)\n",
    "\n",
    "plot_results_from_vb_params_dict(pca_fit, vb_opt_dict, e_z_opt, fig)"
   ]
  },
  {
   "cell_type": "markdown",
   "metadata": {},
   "source": [
    "# Define a perturbation in the logit v space."
   ]
  },
  {
   "cell_type": "code",
   "execution_count": 18,
   "metadata": {},
   "outputs": [],
   "source": [
    "def log_phi(logit_v):\n",
    "    return(sp.special.expit(logit_v))\n",
    "\n",
    "def phi(logit_v):\n",
    "    return np.exp(log_phi(logit_v))\n"
   ]
  },
  {
   "cell_type": "code",
   "execution_count": 19,
   "metadata": {},
   "outputs": [
    {
     "name": "stdout",
     "output_type": "stream",
     "text": [
      "phi max:  2.717370405124736\n",
      "log phi max:  0.9996646498695336\n"
     ]
    }
   ],
   "source": [
    "logit_v_grid = np.linspace(-8, 8, 200)\n",
    "\n",
    "v_grid = np.exp(logit_v_grid) / (1 + np.exp(logit_v_grid))\n",
    "\n",
    "print('phi max: ', np.max(phi(logit_v_grid)))\n",
    "log_phi_max = np.max(np.abs(np.log(phi(logit_v_grid))))\n",
    "print('log phi max: ', log_phi_max)\n",
    "\n",
    "def rescaled_log_phi(logit_v):\n",
    "    return 10 * log_phi(logit_v) / log_phi_max\n"
   ]
  },
  {
   "cell_type": "code",
   "execution_count": 20,
   "metadata": {},
   "outputs": [
    {
     "name": "stdout",
     "output_type": "stream",
     "text": [
      "-2.4849066497879995 1.1634968823127927 -2.4889315240780148 1.1662640532746475\n"
     ]
    }
   ],
   "source": [
    "prior_perturbation = fun_sens_lib.PriorPerturbation(\n",
    "    vb_params_dict = vb_opt_dict, \n",
    "    alpha0 = prior_params_dict['alpha'],\n",
    "    gh_loc = gh_loc, \n",
    "    gh_weights = gh_weights, \n",
    "    log_phi = rescaled_log_phi, logit_v_ub=8, logit_v_lb = -8)\n",
    "\n",
    "print(\n",
    "    prior_perturbation.log_norm_p0,\n",
    "    prior_perturbation.log_norm_pc,\n",
    "    prior_perturbation.log_norm_p0_logit,\n",
    "    prior_perturbation.log_norm_pc_logit)"
   ]
  },
  {
   "cell_type": "code",
   "execution_count": 21,
   "metadata": {},
   "outputs": [
    {
     "data": {
      "text/plain": [
       "Text(0.5, 1.0, 'Priors in logit space')"
      ]
     },
     "execution_count": 21,
     "metadata": {},
     "output_type": "execute_result"
    },
    {
     "data": {
      "image/png": "[encoded data removed]",
      "text/plain": [
       "<Figure size 1296x360 with 4 Axes>"
      ]
     },
     "metadata": {
      "needs_background": "light"
     },
     "output_type": "display_data"
    }
   ],
   "source": [
    "prior_perturbation.set_epsilon(1.0)\n",
    "\n",
    "plt.figure(1, figsize=(18, 5))\n",
    "\n",
    "plt.subplot(141)\n",
    "plt.plot(logit_v_grid, prior_perturbation.get_log_p0_logit(logit_v_grid))\n",
    "plt.plot(logit_v_grid, prior_perturbation.get_log_pc_logit(logit_v_grid))\n",
    "plt.title('Log priors in logit space')\n",
    "\n",
    "plt.subplot(142)\n",
    "plt.plot(logit_v_grid, prior_perturbation.log_phi(logit_v_grid))\n",
    "plt.title('log phi in logit space')\n",
    "\n",
    "plt.subplot(143)\n",
    "plt.plot(v_grid, np.exp(prior_perturbation.get_log_p0(v_grid)))\n",
    "plt.plot(v_grid, np.exp(prior_perturbation.get_log_pc(v_grid)))\n",
    "plt.title('Priors in stick space')\n",
    "\n",
    "plt.subplot(144)\n",
    "plt.plot(logit_v_grid, np.exp(prior_perturbation.get_log_p0_logit(logit_v_grid)))\n",
    "plt.plot(logit_v_grid, np.exp(prior_perturbation.get_log_pc_logit(logit_v_grid)))\n",
    "plt.title('Priors in logit space')\n"
   ]
  },
  {
   "cell_type": "markdown",
   "metadata": {
    "collapsed": true
   },
   "source": [
    "# Define prior perturbation"
   ]
  },
  {
   "cell_type": "code",
   "execution_count": 23,
   "metadata": {},
   "outputs": [],
   "source": [
    "# we will use this for the sensitivity class\n",
    "get_epsilon_vb_loss = paragami.FlattenFunctionInput(\n",
    "    lambda params, epsilon: fun_sens_lib.get_perturbed_kl(\n",
    "        features, params, epsilon, rescaled_log_phi, \n",
    "        prior_params_dict, gh_loc, gh_weights),\n",
    "    argnums=0, patterns=vb_params_paragami, free=True)\n",
    "    \n",
    "hyper_par_objective_fun = paragami.FlattenFunctionInput(\n",
    "    lambda params, epsilon: fun_sens_lib.get_e_log_perturbation(\n",
    "        rescaled_log_phi, params, epsilon, gh_loc, gh_weights),\n",
    "    argnums=0, patterns=vb_params_paragami, free=True)"
   ]
  },
  {
   "cell_type": "code",
   "execution_count": 24,
   "metadata": {
    "code_folding": [],
    "scrolled": false
   },
   "outputs": [
    {
     "name": "stderr",
     "output_type": "stream",
     "text": [
      "/home/rgiordan/Documents/git_repos/BNP_sensitivity/GMM_clustering/venv/lib/python3.5/site-packages/vittles/sensitivity_lib.py:857: UserWarning: The ParametricSensitivityTaylorExpansion is experimental.\n",
      "  'The ParametricSensitivityTaylorExpansion is experimental.')\n"
     ]
    }
   ],
   "source": [
    "epsilon_sens = \\\n",
    "    vittles.ParametricSensitivityTaylorExpansion(\n",
    "        objective_function =               get_epsilon_vb_loss,\n",
    "        hyper_par_objective_function =     hyper_par_objective_fun,\n",
    "        input_val0 = vb_opt,\n",
    "        hyper_val0 = np.array([0]),\n",
    "        order = 1)"
   ]
  },
  {
   "cell_type": "markdown",
   "metadata": {},
   "source": [
    "## Fit with perturbation"
   ]
  },
  {
   "cell_type": "code",
   "execution_count": 27,
   "metadata": {},
   "outputs": [
    {
     "name": "stdout",
     "output_type": "stream",
     "text": [
      "Epsilon:  1.0\n",
      "Predicted differences:  3.7833885423010343\n"
     ]
    }
   ],
   "source": [
    "epsilon = 1.0 \n",
    "print('Epsilon: ', epsilon)\n",
    "\n",
    "vb_pert_pred = epsilon_sens.evaluate_taylor_series(epsilon)\n",
    "\n",
    "print('Predicted differences: ', np.linalg.norm(vb_pert_pred - vb_opt))"
   ]
  },
  {
   "cell_type": "code",
   "execution_count": 28,
   "metadata": {
    "scrolled": true
   },
   "outputs": [],
   "source": [
    "vb_pert_pred_dict = vb_params_paragami.fold(vb_pert_pred, free = True)\n",
    "e_z_pert_pred = gmm_lib.get_optimal_z_from_vb_params_dict(\n",
    "    features, vb_pert_pred_dict, gh_loc, gh_weights)"
   ]
  },
  {
   "cell_type": "code",
   "execution_count": 46,
   "metadata": {},
   "outputs": [],
   "source": [
    "# get flattened perturbed KL\n",
    "def get_loss_for_epsilon(epsilon):\n",
    "    get_perturbed_vb_loss_flattened = paragami.FlattenFunctionInput(\n",
    "        lambda params: \n",
    "            fun_sens_lib.get_perturbed_kl(\n",
    "                features, params, epsilon, rescaled_log_phi, \n",
    "                 prior_params_dict, gh_loc, gh_weights),\n",
    "        argnums=0,\n",
    "        patterns=vb_params_paragami,\n",
    "        free=True)\n",
    "    return get_perturbed_vb_loss_flattened\n",
    "\n",
    "get_perturbed_vb_loss_flattened = get_loss_for_epsilon(epsilon)"
   ]
  },
  {
   "cell_type": "code",
   "execution_count": 36,
   "metadata": {
    "scrolled": false
   },
   "outputs": [
    {
     "name": "stdout",
     "output_type": "stream",
     "text": [
      "running bfgs ... \n",
      "Iter 0: f = -344.63255894\n",
      "Iter 1: f = -344.89526832\n",
      "Iter 2: f = -346.13126161\n",
      "Iter 3: f = -326.19366675\n",
      "Iter 4: f = -346.23045953\n",
      "Iter 5: f = -346.39670228\n",
      "Iter 6: f = -346.69606106\n",
      "Iter 7: f = -347.07719821\n",
      "Iter 8: f = -347.47084396\n",
      "Iter 9: f = -347.64468061\n",
      "Iter 10: f = -347.94000533\n",
      "Iter 11: f = -348.29422929\n",
      "Iter 12: f = -348.32188375\n",
      "Iter 13: f = -348.48110045\n",
      "Iter 14: f = -348.81473289\n",
      "Iter 15: f = -349.21650230\n",
      "Iter 16: f = -349.57933815\n",
      "Iter 17: f = -350.08524499\n",
      "Iter 18: f = -350.32878250\n",
      "Iter 19: f = -350.73826395\n",
      "Iter 20: f = -351.34476969\n",
      "Iter 21: f = -351.67681088\n",
      "Iter 22: f = -352.05474054\n",
      "Iter 23: f = -351.73329457\n",
      "Iter 24: f = -352.18850215\n",
      "Iter 25: f = -352.34376506\n",
      "Iter 26: f = -352.55022697\n",
      "Iter 27: f = -352.81909118\n",
      "Iter 28: f = -353.16792166\n",
      "Iter 29: f = -351.97473367\n",
      "Iter 30: f = -353.23377368\n",
      "Iter 31: f = -353.30295717\n",
      "Iter 32: f = -353.41696363\n",
      "Iter 33: f = -353.38897435\n",
      "Iter 34: f = -353.46810541\n",
      "Iter 35: f = -353.54141712\n",
      "Iter 36: f = -353.57844780\n",
      "Iter 37: f = -353.63811016\n",
      "Iter 38: f = -353.66578710\n",
      "Iter 39: f = -353.70891712\n",
      "Iter 40: f = -353.70580820\n",
      "Iter 41: f = -353.72987863\n",
      "Iter 42: f = -353.76754622\n",
      "Iter 43: f = -353.78668869\n",
      "Iter 44: f = -353.81912481\n",
      "Iter 45: f = -353.85694210\n",
      "Iter 46: f = -353.85460748\n",
      "Iter 47: f = -353.87548129\n",
      "Iter 48: f = -353.89880109\n",
      "Iter 49: f = -353.93239687\n",
      "Iter 50: f = -353.96796610\n",
      "Iter 51: f = -353.68360160\n",
      "Iter 52: f = -353.97148802\n",
      "Iter 53: f = -353.97796523\n",
      "Iter 54: f = -353.98703832\n",
      "Iter 55: f = -354.00289637\n",
      "Iter 56: f = -354.02663848\n",
      "Iter 57: f = -354.03917583\n",
      "Iter 58: f = -354.05666916\n",
      "Iter 59: f = -354.07502376\n",
      "Iter 60: f = -354.08870963\n",
      "Iter 61: f = -354.09723986\n",
      "Iter 62: f = -354.10775803\n",
      "Iter 63: f = -354.12425779\n",
      "Iter 64: f = -354.14612332\n",
      "Iter 65: f = -354.17713390\n",
      "Iter 66: f = -354.13222169\n",
      "Iter 67: f = -354.18917215\n",
      "Iter 68: f = -354.20679371\n",
      "Iter 69: f = -354.22957854\n",
      "Iter 70: f = -354.24975746\n",
      "Iter 71: f = -354.24262305\n",
      "Iter 72: f = -354.25857267\n",
      "Iter 73: f = -354.25911964\n",
      "Iter 74: f = -354.26316096\n",
      "Iter 75: f = -354.26244669\n",
      "Iter 76: f = -354.26531447\n",
      "Iter 77: f = -354.26532961\n",
      "Iter 78: f = -354.26640314\n",
      "Iter 79: f = -354.26694136\n",
      "Iter 80: f = -354.26735251\n",
      "Iter 81: f = -354.26780553\n",
      "Iter 82: f = -354.26767299\n",
      "Iter 83: f = -354.26790191\n",
      "Iter 84: f = -354.26800661\n",
      "Iter 85: f = -354.26790920\n",
      "Iter 86: f = -354.26804287\n",
      "Iter 87: f = -354.26805864\n",
      "Iter 88: f = -354.26807363\n",
      "Iter 89: f = -354.26806749\n",
      "Iter 90: f = -354.26807992\n",
      "Iter 91: f = -354.26807875\n",
      "Iter 92: f = -354.26808283\n",
      "Iter 93: f = -354.26808375\n",
      "Iter 94: f = -354.26808521\n",
      "Iter 95: f = -354.26808733\n",
      "Iter 96: f = -354.26808918\n",
      "Iter 97: f = -354.26809019\n",
      "Iter 98: f = -354.26809115\n",
      "Iter 99: f = -354.26809196\n",
      "Iter 100: f = -354.26809165\n",
      "Iter 101: f = -354.26809231\n",
      "Iter 102: f = -354.26809263\n",
      "Iter 103: f = -354.26809250\n",
      "Iter 104: f = -354.26809272\n",
      "Iter 105: f = -354.26809283\n",
      "Iter 106: f = -354.26809283\n",
      "Iter 107: f = -354.26809287\n",
      "Iter 108: f = -354.26809291\n",
      "Iter 109: f = -354.26809294\n",
      "Iter 110: f = -354.26809295\n",
      "Iter 111: f = -354.26809297\n",
      "Iter 112: f = -354.26809298\n",
      "Iter 113: f = -354.26809298\n",
      "Iter 114: f = -354.26809299\n",
      "Iter 115: f = -354.26809299\n",
      "Iter 116: f = -354.26809300\n",
      "Iter 117: f = -354.26809300\n",
      "Iter 118: f = -354.26809300\n",
      "Iter 119: f = -354.26809300\n",
      "Iter 120: f = -354.26809300\n",
      "Iter 121: f = -354.26809300\n",
      "Iter 122: f = -354.26809300\n",
      "Iter 123: f = -354.26809300\n",
      "Iter 124: f = -354.26809300\n",
      "Iter 125: f = -354.26809300\n",
      "Iter 126: f = -354.26809300\n",
      "Iter 127: f = -354.26809300\n",
      "Iter 128: f = -354.26809300\n",
      "Iter 129: f = -354.26809300\n",
      "Iter 130: f = -354.26809300\n",
      "Iter 131: f = -354.26809300\n",
      "Iter 132: f = -354.26809300\n",
      "Iter 133: f = -354.26809300\n",
      "Iter 134: f = -354.26809300\n",
      "Iter 135: f = -354.26809300\n",
      "Iter 136: f = -354.26809300\n",
      "Iter 137: f = -354.26809300\n",
      "Iter 138: f = -354.26809300\n",
      "Iter 139: f = -354.26809300\n",
      "Iter 140: f = -354.26809300\n",
      "Iter 141: f = -354.26809300\n",
      "Iter 142: f = -354.26809300\n",
      "Iter 143: f = -354.26809300\n",
      "Iter 144: f = -354.26809300\n",
      "Iter 145: f = -354.26809300\n",
      "Iter 146: f = -354.26809300\n",
      "Iter 147: f = -354.26809300\n",
      "Iter 148: f = -354.26809300\n",
      "Iter 149: f = -354.26809300\n",
      "Iter 150: f = -354.26809300\n",
      "Iter 151: f = -354.26809300\n",
      "Iter 152: f = -354.26809300\n",
      "Iter 153: f = -354.26809300\n",
      "Iter 154: f = -354.26809300\n",
      "Iter 155: f = -354.26809300\n",
      "Iter 156: f = -354.26809300\n",
      "Iter 157: f = -354.26809300\n",
      "Iter 158: f = -354.26809300\n",
      "Iter 159: f = -354.26809300\n",
      "Iter 160: f = -354.26809300\n",
      "Iter 161: f = -354.26809300\n",
      "Iter 162: f = -354.26809300\n",
      "Iter 163: f = -354.26809300\n",
      "Iter 164: f = -354.26809300\n",
      "Iter 165: f = -354.26809300\n",
      "Iter 166: f = -354.26809300\n",
      "Iter 167: f = -354.26809300\n",
      "Iter 168: f = -354.26809300\n",
      "Iter 169: f = -354.26809300\n",
      "Iter 170: f = -354.26809300\n",
      "Iter 171: f = -354.26809300\n",
      "Iter 172: f = -354.26809300\n",
      "Iter 173: f = -354.26809300\n",
      "Iter 174: f = -354.26809300\n",
      "Iter 175: f = -354.26809300\n",
      "Iter 176: f = -354.26809300\n",
      "Iter 177: f = -354.26809300\n",
      "Iter 178: f = -354.26809300\n",
      "Iter 179: f = -354.26809300\n",
      "Iter 180: f = -354.26809300\n",
      "Iter 181: f = -354.26809300\n",
      "Iter 182: f = -354.26809300\n",
      "Iter 183: f = -354.26809300\n",
      "Iter 184: f = -354.26809300\n",
      "Iter 185: f = -354.26809300\n",
      "Iter 186: f = -354.26809300\n",
      "Iter 187: f = -354.26809300\n",
      "Iter 188: f = -354.26809300\n",
      "Iter 189: f = -354.26809300\n",
      "Iter 190: f = -354.26809300\n",
      "Iter 191: f = -354.26809300\n",
      "Iter 192: f = -354.26809300\n",
      "Iter 193: f = -354.26809300\n",
      "Iter 194: f = -354.26809300\n",
      "Warning: Desired error not necessarily achieved due to precision loss.\n",
      "         Current function value: -354.268093\n",
      "         Iterations: 116\n",
      "         Function evaluations: 195\n",
      "         Gradient evaluations: 183\n",
      "\n",
      " running preconditioned newton; iter =  0\n",
      "Computing Hessian to set preconditioner\n",
      "preconditioning time: 14.87\n",
      "running newton steps\n",
      "Iter 0: f = -354.26809300\n",
      "Iter 1: f = -354.26809300\n",
      "Optimization terminated successfully.\n",
      "         Current function value: -354.268093\n",
      "         Iterations: 1\n",
      "         Function evaluations: 2\n",
      "         Gradient evaluations: 2\n",
      "         Hessian evaluations: 2\n",
      "Iter 0: x_diff = 2.9772106744930748e-05, f_diff = 2.2737367544323206e-13, grad_l1 = 1.534573508285382e-10\n",
      "done. \n"
     ]
    }
   ],
   "source": [
    "vb_pert_opt = optimization_lib.optimize_full(\n",
    "    get_perturbed_vb_loss_flattened,\n",
    "    deepcopy(vb_opt),\n",
    "    bfgs_max_iter = 500, netwon_max_iter = 50,\n",
    "    max_precondition_iter = 10,\n",
    "    gtol=1e-8, ftol=1e-8, xtol=1e-8)"
   ]
  },
  {
   "cell_type": "code",
   "execution_count": 37,
   "metadata": {
    "collapsed": true
   },
   "outputs": [],
   "source": [
    "vb_pert_opt_dict = vb_params_paragami.fold(vb_pert_opt, free = True)\n",
    "e_z_pert_opt = gmm_lib.get_optimal_z_from_vb_params_dict(features, vb_pert_opt_dict, gh_loc, gh_weights)"
   ]
  },
  {
   "cell_type": "code",
   "execution_count": 38,
   "metadata": {},
   "outputs": [
    {
     "name": "stdout",
     "output_type": "stream",
     "text": [
      "Epsilon: 1.0\n"
     ]
    },
    {
     "data": {
      "text/plain": [
       "[<matplotlib.lines.Line2D at 0x7fb045d27358>]"
      ]
     },
     "execution_count": 38,
     "metadata": {},
     "output_type": "execute_result"
    },
    {
     "data": {
      "image/png": "[encoded data removed]",
      "text/plain": [
       "<Figure size 432x288 with 1 Axes>"
      ]
     },
     "metadata": {
      "needs_background": "light"
     },
     "output_type": "display_data"
    }
   ],
   "source": [
    "print('Epsilon:', epsilon)\n",
    "\n",
    "plt.figure()\n",
    "plt.subplot(1, 2, 1)\n",
    "plt.plot(vb_pert_opt - vb_opt, vb_pert_pred - vb_opt, 'k.')\n",
    "plt.plot(vb_pert_opt - vb_opt, vb_pert_opt - vb_opt, 'r')\n"
   ]
  },
  {
   "cell_type": "code",
   "execution_count": 39,
   "metadata": {},
   "outputs": [
    {
     "name": "stdout",
     "output_type": "stream",
     "text": [
      "original expected number of clusters:  14.647020994660052\n",
      "perturbed expected number of clusters:  12.759733585453187\n",
      "predicted expected number of clusters:  12.6119488775268\n"
     ]
    }
   ],
   "source": [
    "print('original expected number of clusters: ',\n",
    "    cluster_lib.get_e_number_clusters_from_logit_sticks(vb_opt_dict['stick_propn_mean'], \n",
    "                                                        vb_opt_dict['stick_propn_info'], \n",
    "                                                        n_obs = 150, \n",
    "                                                        n_samples = 10000))\n",
    "\n",
    "print('perturbed expected number of clusters: ',\n",
    "    cluster_lib.get_e_number_clusters_from_logit_sticks(vb_pert_opt_dict['stick_propn_mean'], \n",
    "                                                        vb_pert_opt_dict['stick_propn_info'], \n",
    "                                                        n_obs = 150, \n",
    "                                                        n_samples = 10000))\n",
    "\n",
    "print('predicted expected number of clusters: ',\n",
    "    cluster_lib.get_e_number_clusters_from_logit_sticks(vb_pert_pred_dict['stick_propn_mean'], \n",
    "                                                        vb_pert_pred_dict['stick_propn_info'], \n",
    "                                                        n_obs = 150, \n",
    "                                                        n_samples = 10000))\n",
    "\n",
    "\n",
    "      "
   ]
  },
  {
   "cell_type": "markdown",
   "metadata": {
    "collapsed": true
   },
   "source": [
    "# Predict for a range of perturbations"
   ]
  },
  {
   "cell_type": "code",
   "execution_count": 40,
   "metadata": {},
   "outputs": [
    {
     "name": "stdout",
     "output_type": "stream",
     "text": [
      "[0.   0.04 0.16 0.36 0.64 1.  ]\n"
     ]
    }
   ],
   "source": [
    "# The range of epsilons we shall consider\n",
    "epsilon_vec = np.linspace(0, 1, 6) ** 2 # Square to get more points close to 0\n",
    "print(epsilon_vec)"
   ]
  },
  {
   "cell_type": "code",
   "execution_count": 47,
   "metadata": {
    "collapsed": true
   },
   "outputs": [],
   "source": [
    "def refit_with_epsilon(epsilon, init_vb_opt):\n",
    "    # sets new epsilon, returns new vb optimum\n",
    "\n",
    "    get_perturbed_vb_loss_flattened = get_loss_for_epsilon(epsilon)\n",
    "\n",
    "    # optimize\n",
    "    vb_opt_pert = optimization_lib.optimize_full(\n",
    "        get_perturbed_vb_loss_flattened, deepcopy(init_vb_opt),\n",
    "        bfgs_max_iter = 0, netwon_max_iter = 50,\n",
    "        max_precondition_iter = 10,\n",
    "        gtol=1e-8, ftol=1e-8, xtol=1e-8)\n",
    "    \n",
    "    return vb_opt_pert"
   ]
  },
  {
   "cell_type": "code",
   "execution_count": 48,
   "metadata": {
    "collapsed": true
   },
   "outputs": [],
   "source": [
    "best_param_phi_array = []\n",
    "best_param_phi_pred_array = []"
   ]
  },
  {
   "cell_type": "code",
   "execution_count": 50,
   "metadata": {
    "scrolled": false
   },
   "outputs": [
    {
     "name": "stdout",
     "output_type": "stream",
     "text": [
      "\n",
      "\n",
      "Epsilon:  0.0\n",
      "Predicted differences:  0.0\n",
      "\n",
      " running preconditioned newton; iter =  0\n",
      "Computing Hessian to set preconditioner\n",
      "preconditioning time: 14.81\n",
      "running newton steps\n",
      "Optimization terminated successfully.\n",
      "Iter 0: f = -310.48627870\n",
      "         Current function value: -310.486279\n",
      "         Iterations: 0\n",
      "         Function evaluations: 1\n",
      "         Gradient evaluations: 1\n",
      "         Hessian evaluations: 0\n",
      "Iter 0: x_diff = 1.1633554362899812e-12, f_diff = 2.2168933355715126e-12, grad_l1 = 1.8138492378154736e-10\n",
      "done. \n",
      "Done. \n",
      "Predicted differences:  0.0\n",
      "Actual differences: (This is nonzero if phi did anything): 1.2005722984450163e-13\n",
      "\n",
      "\n",
      "Epsilon:  0.04000000000000001\n",
      "Predicted differences:  0.15133554169204133\n",
      "\n",
      " running preconditioned newton; iter =  0\n",
      "Computing Hessian to set preconditioner\n",
      "preconditioning time: 14.98\n",
      "running newton steps\n",
      "Iter 0: f = -311.85212991\n",
      "Iter 1: f = -311.86273959\n",
      "Iter 2: f = -311.86274167\n",
      "Iter 3: f = -311.86274167\n",
      "Iter 4: f = -311.86274167\n",
      "Warning: A bad approximation caused failure to predict improvement.\n",
      "         Current function value: -311.862742\n",
      "         Iterations: 3\n",
      "         Function evaluations: 5\n",
      "         Gradient evaluations: 4\n",
      "         Hessian evaluations: 11\n",
      "Iter 0: x_diff = 1.2065897716410883, f_diff = 0.010611761965549249, grad_l1 = 1.3363559612417344e-06\n",
      "\n",
      " running preconditioned newton; iter =  1\n",
      "Computing Hessian to set preconditioner\n",
      "preconditioning time: 15.35\n",
      "running newton steps\n",
      "Iter 0: f = -311.86274167\n",
      "Iter 1: f = -311.86274167\n",
      "Warning: A bad approximation caused failure to predict improvement.\n",
      "         Current function value: -311.862742\n",
      "         Iterations: 0\n",
      "         Function evaluations: 2\n",
      "         Gradient evaluations: 1\n",
      "         Hessian evaluations: 2\n",
      "Iter 1: x_diff = 1.1081296470705215e-12, f_diff = 1.4779288903810084e-12, grad_l1 = 1.3364464825806172e-06\n",
      "done. \n",
      "Done. \n",
      "Predicted differences:  0.15133554169204133\n",
      "Actual differences: (This is nonzero if phi did anything): 0.15304947874642158\n",
      "\n",
      "\n",
      "Epsilon:  0.16000000000000003\n",
      "Predicted differences:  0.6053421667681658\n",
      "\n",
      " running preconditioned newton; iter =  0\n",
      "Computing Hessian to set preconditioner\n",
      "preconditioning time: 14.74\n",
      "running newton steps\n",
      "Iter 0: f = -315.94968354\n",
      "Iter 1: f = -316.12511167\n",
      "Iter 2: f = -316.12575895\n",
      "Iter 3: f = -316.12576786\n",
      "Iter 4: f = -316.12576786\n",
      "Iter 5: f = -316.12576786\n",
      "Warning: A bad approximation caused failure to predict improvement.\n",
      "         Current function value: -316.125768\n",
      "         Iterations: 4\n",
      "         Function evaluations: 6\n",
      "         Gradient evaluations: 5\n",
      "         Hessian evaluations: 16\n",
      "Iter 0: x_diff = 4.986081574448827, f_diff = 0.17608432413516084, grad_l1 = 5.203830456441412e-06\n",
      "\n",
      " running preconditioned newton; iter =  1\n",
      "Computing Hessian to set preconditioner\n",
      "preconditioning time: 15.17\n",
      "running newton steps\n",
      "Iter 0: f = -316.12576786\n",
      "Iter 1: f = -316.12576786\n",
      "Warning: A bad approximation caused failure to predict improvement.\n",
      "         Current function value: -316.125768\n",
      "         Iterations: 0\n",
      "         Function evaluations: 2\n",
      "         Gradient evaluations: 1\n",
      "         Hessian evaluations: 2\n",
      "Iter 1: x_diff = 1.0495172439450862e-12, f_diff = 2.8421709430404007e-13, grad_l1 = 5.2036440887628085e-06\n",
      "done. \n",
      "Done. \n",
      "Predicted differences:  0.6053421667681658\n",
      "Actual differences: (This is nonzero if phi did anything): 0.6339962985748462\n",
      "\n",
      "\n",
      "Epsilon:  0.3600000000000001\n",
      "Predicted differences:  1.3620198752283728\n",
      "\n",
      " running preconditioned newton; iter =  0\n",
      "Computing Hessian to set preconditioner\n",
      "preconditioning time: 15.60\n",
      "running newton steps\n",
      "Iter 0: f = -322.77893958\n",
      "Iter 1: f = -323.67996392\n",
      "Iter 2: f = -323.72813621\n",
      "Iter 3: f = -323.73026501\n",
      "Iter 4: f = -323.73035416\n",
      "Iter 5: f = -323.73035444\n",
      "Iter 6: f = -323.73035444\n",
      "Iter 7: f = -323.73035444\n",
      "Warning: A bad approximation caused failure to predict improvement.\n",
      "         Current function value: -323.730354\n",
      "         Iterations: 6\n",
      "         Function evaluations: 8\n",
      "         Gradient evaluations: 7\n",
      "         Hessian evaluations: 33\n",
      "Iter 0: x_diff = 11.883549598552717, f_diff = 0.9514148586063698, grad_l1 = 2.6612721660665476e-07\n",
      "\n",
      " running preconditioned newton; iter =  1\n",
      "Computing Hessian to set preconditioner\n",
      "preconditioning time: 15.14\n",
      "running newton steps\n",
      "Iter 0: f = -323.73035444\n",
      "Iter 1: f = -323.73035444\n",
      "Warning: A bad approximation caused failure to predict improvement.\n",
      "         Current function value: -323.730354\n",
      "         Iterations: 0\n",
      "         Function evaluations: 2\n",
      "         Gradient evaluations: 1\n",
      "         Hessian evaluations: 2\n",
      "Iter 1: x_diff = 1.151217792969006e-12, f_diff = 9.094947017729282e-13, grad_l1 = 2.6605833329850206e-07\n",
      "done. \n",
      "Done. \n",
      "Predicted differences:  1.3620198752283728\n",
      "Actual differences: (This is nonzero if phi did anything): 1.5202659113151826\n",
      "\n",
      "\n",
      "Epsilon:  0.6400000000000001\n",
      "Predicted differences:  2.421368667072662\n",
      "\n",
      " running preconditioned newton; iter =  0\n",
      "Computing Hessian to set preconditioner\n",
      "preconditioning time: 14.73\n",
      "running newton steps\n",
      "Iter 0: f = -332.33989805\n",
      "Iter 1: f = -334.61077286\n",
      "Iter 2: f = -335.57947506\n",
      "Iter 3: f = -335.64266746\n",
      "Iter 4: f = -335.67464402\n",
      "Iter 5: f = -335.76970778\n",
      "Iter 6: f = -334.51912509\n",
      "Iter 7: f = -335.88106635\n",
      "Iter 8: f = -335.91633550\n",
      "Iter 9: f = -335.92577709\n",
      "Iter 10: f = -335.92262015\n",
      "Iter 11: f = -335.92573336\n",
      "Iter 12: f = -335.92666451\n",
      "Iter 13: f = -335.92704027\n",
      "Iter 14: f = -335.92717356\n",
      "Iter 15: f = -335.92717461\n",
      "Iter 16: f = -335.92717461\n",
      "Iter 17: f = -335.92717461\n",
      "Warning: A bad approximation caused failure to predict improvement.\n",
      "         Current function value: -335.927175\n",
      "         Iterations: 16\n",
      "         Function evaluations: 18\n",
      "         Gradient evaluations: 14\n",
      "         Hessian evaluations: 92\n",
      "Iter 0: x_diff = 25.206395763250185, f_diff = 3.587276557991231, grad_l1 = 1.9754730756475785e-06\n",
      "\n",
      " running preconditioned newton; iter =  1\n",
      "Computing Hessian to set preconditioner\n",
      "preconditioning time: 27.06\n",
      "running newton steps\n",
      "Iter 0: f = -335.92717461\n",
      "Iter 1: f = -335.92717461\n",
      "Warning: A bad approximation caused failure to predict improvement.\n",
      "         Current function value: -335.927175\n",
      "         Iterations: 0\n",
      "         Function evaluations: 2\n",
      "         Gradient evaluations: 1\n",
      "         Hessian evaluations: 2\n",
      "Iter 1: x_diff = 1.2895650801543479e-12, f_diff = 1.7053025658242404e-13, grad_l1 = 1.9753975315032903e-06\n",
      "done. \n",
      "Done. \n",
      "Predicted differences:  2.421368667072662\n",
      "Actual differences: (This is nonzero if phi did anything): 3.6046399562604\n",
      "\n",
      "\n",
      "Epsilon:  1.0\n",
      "Predicted differences:  3.7833885423010343\n",
      "\n",
      " running preconditioned newton; iter =  0\n",
      "Computing Hessian to set preconditioner\n",
      "preconditioning time: 17.64\n",
      "running newton steps\n",
      "Iter 0: f = -344.63255894\n",
      "Iter 1: f = -349.39047614\n",
      "Iter 2: f = -353.08268553\n",
      "Iter 3: f = -353.60750302\n",
      "Iter 4: f = -353.86701446\n",
      "Iter 5: f = -354.07121819\n",
      "Iter 6: f = -351.09453439\n",
      "Iter 7: f = -354.12685522\n",
      "Iter 8: f = -354.21823082\n",
      "Iter 9: f = -354.23732794\n",
      "Iter 10: f = -354.25599160\n",
      "Iter 11: f = -354.26739065\n",
      "Iter 12: f = -354.26808242\n",
      "Iter 13: f = -354.26809293\n",
      "Iter 14: f = -354.26809300\n",
      "Iter 15: f = -354.26809300\n",
      "Optimization terminated successfully.\n",
      "         Current function value: -354.268093\n",
      "         Iterations: 15\n",
      "         Function evaluations: 16\n",
      "         Gradient evaluations: 15\n",
      "         Hessian evaluations: 154\n",
      "Iter 0: x_diff = 45.57710579444011, f_diff = 9.635534066628907, grad_l1 = 4.5571520661582725e-08\n",
      "done. \n",
      "Done. \n",
      "Predicted differences:  3.7833885423010343\n",
      "Actual differences: (This is nonzero if phi did anything): 5.929848492623585\n"
     ]
    }
   ],
   "source": [
    "vb_pert_opt_array = []\n",
    "vb_pert_pred_array = []\n",
    "\n",
    "\n",
    "for i in range(len(epsilon_vec)): \n",
    "    epsilon = epsilon_vec[i]\n",
    "    print('\\n\\nEpsilon: ', epsilon)\n",
    "    \n",
    "    # get linear predictions\n",
    "    vb_pert_pred = \\\n",
    "        epsilon_sens.evaluate_taylor_series(epsilon)\n",
    "\n",
    "    print('Predicted differences: ', np.linalg.norm(vb_pert_pred - vb_opt))\n",
    "    \n",
    "    # Then fit with the perturbation.\n",
    "    vb_pert_opt = refit_with_epsilon(epsilon, vb_opt)\n",
    "    \n",
    "    print('Done. ')\n",
    "\n",
    "    print('Predicted differences: ', np.linalg.norm(vb_pert_pred - vb_opt))\n",
    "    print('Actual differences: (This is nonzero if phi did anything):',\n",
    "          np.linalg.norm(vb_pert_opt - vb_opt))\n",
    "    \n",
    "    # save results: \n",
    "    vb_pert_opt_array.append(vb_pert_opt)\n",
    "    vb_pert_pred_array.append(vb_pert_pred)\n",
    "    \n"
   ]
  },
  {
   "cell_type": "markdown",
   "metadata": {},
   "source": [
    "# Lets look at the expected number of clusters"
   ]
  },
  {
   "cell_type": "markdown",
   "metadata": {},
   "source": [
    "### Number of in sample clusters"
   ]
  },
  {
   "cell_type": "code",
   "execution_count": 51,
   "metadata": {},
   "outputs": [
    {
     "name": "stderr",
     "output_type": "stream",
     "text": [
      "100%|██████████| 6/6 [00:17<00:00,  2.98s/it]\n"
     ]
    }
   ],
   "source": [
    "threshold = 0\n",
    "\n",
    "lr_e_num_clusters_vec = np.zeros(len(epsilon_vec))\n",
    "refit_e_num_clusters_vec = np.zeros(len(epsilon_vec))\n",
    "\n",
    "for i in tqdm(range(len(epsilon_vec))): \n",
    "    # number of clusters as predicted by linear response\n",
    "    lr_e_num_clusters, _ = gmm_lib.get_e_num_clusters_from_free_par(\n",
    "        features, vb_params_paragami, \n",
    "        vb_pert_pred_array[i],\n",
    "        gh_loc, gh_weights,\n",
    "        threshold = threshold,\n",
    "        n_samples = 100000)\n",
    "    \n",
    "    lr_e_num_clusters_vec[i] = lr_e_num_clusters\n",
    "    \n",
    "    # number of clusters after refitting \n",
    "    refit_e_num_clusters, _ = gmm_lib.get_e_num_clusters_from_free_par(\n",
    "        features, vb_params_paragami, \n",
    "        vb_pert_opt_array[i],\n",
    "        gh_loc, gh_weights,\n",
    "        threshold = threshold,\n",
    "        n_samples = 100000)\n",
    "    \n",
    "    refit_e_num_clusters_vec[i] = refit_e_num_clusters\n",
    "    \n"
   ]
  },
  {
   "cell_type": "code",
   "execution_count": 52,
   "metadata": {},
   "outputs": [
    {
     "data": {
      "text/plain": [
       "<matplotlib.legend.Legend at 0x7fb045675550>"
      ]
     },
     "execution_count": 52,
     "metadata": {},
     "output_type": "execute_result"
    },
    {
     "data": {
      "image/png": "[encoded data removed]",
      "text/plain": [
       "<Figure size 432x288 with 1 Axes>"
      ]
     },
     "metadata": {
      "needs_background": "light"
     },
     "output_type": "display_data"
    }
   ],
   "source": [
    "plt.plot(epsilon_vec, lr_e_num_clusters_vec, '+--')\n",
    "plt.plot(epsilon_vec, refit_e_num_clusters_vec, '+-')\n",
    "\n",
    "plt.xlabel('epsilon')\n",
    "plt.ylabel('num posterior clusters')\n",
    "plt.legend(('lr', 'refit'))\n"
   ]
  },
  {
   "cell_type": "markdown",
   "metadata": {},
   "source": [
    "### Number of predicted clusters"
   ]
  },
  {
   "cell_type": "code",
   "execution_count": 53,
   "metadata": {},
   "outputs": [
    {
     "name": "stderr",
     "output_type": "stream",
     "text": [
      "100%|██████████| 6/6 [00:06<00:00,  1.12s/it]\n"
     ]
    }
   ],
   "source": [
    "threshold = 0\n",
    "\n",
    "lr_e_num_pred_clusters_vec = np.zeros(len(epsilon_vec))\n",
    "refit_e_num_pred_clusters_vec = np.zeros(len(epsilon_vec))\n",
    "\n",
    "for i in tqdm(range(len(epsilon_vec))): \n",
    "     # number of clusters as predicted by linear response\n",
    "    lr_e_num_pred_clusters = gmm_lib.get_e_num_pred_clusters_from_vb_free_params(\n",
    "        vb_params_paragami, \n",
    "        vb_pert_pred_array[i],\n",
    "        n_obs = np.shape(features)[0], \n",
    "        threshold = threshold,\n",
    "        n_samples = 100000)\n",
    "    \n",
    "    lr_e_num_pred_clusters_vec[i] = lr_e_num_pred_clusters\n",
    "    \n",
    "    # number of clusters after refitting \n",
    "    refit_e_num_pred_clusters = gmm_lib.get_e_num_pred_clusters_from_vb_free_params(\n",
    "        vb_params_paragami, \n",
    "        vb_pert_opt_array[i],\n",
    "        n_obs = np.shape(features)[0], \n",
    "        threshold = threshold,\n",
    "        n_samples = 100000)\n",
    "    \n",
    "    refit_e_num_pred_clusters_vec[i] = refit_e_num_pred_clusters\n",
    "    \n"
   ]
  },
  {
   "cell_type": "code",
   "execution_count": 54,
   "metadata": {},
   "outputs": [
    {
     "data": {
      "text/plain": [
       "<matplotlib.legend.Legend at 0x7fb0457970f0>"
      ]
     },
     "execution_count": 54,
     "metadata": {},
     "output_type": "execute_result"
    },
    {
     "data": {
      "image/png": "[encoded data removed]",
      "text/plain": [
       "<Figure size 432x288 with 1 Axes>"
      ]
     },
     "metadata": {
      "needs_background": "light"
     },
     "output_type": "display_data"
    }
   ],
   "source": [
    "plt.plot(epsilon_vec, lr_e_num_pred_clusters_vec, '+--')\n",
    "plt.plot(epsilon_vec, refit_e_num_pred_clusters_vec, '+-')\n",
    "\n",
    "plt.xlabel('alpha')\n",
    "plt.ylabel('num posterior clusters')\n",
    "plt.legend(('lr', 'refit'))"
   ]
  }
 ],
 "metadata": {
  "kernelspec": {
   "display_name": "bnp_sensitivity",
   "language": "python",
   "name": "bnp_sensitivity"
  },
  "language_info": {
   "codemirror_mode": {
    "name": "ipython",
    "version": 3
   },
   "file_extension": ".py",
   "mimetype": "text/x-python",
   "name": "python",
   "nbconvert_exporter": "python",
   "pygments_lexer": "ipython3",
   "version": "3.8.0"
  }
 },
 "nbformat": 4,
 "nbformat_minor": 2
}
