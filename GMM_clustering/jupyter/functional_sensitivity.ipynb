{
 "cells": [
  {
   "cell_type": "markdown",
   "metadata": {},
   "source": [
    "This notebook demonstrates use of our linear approximation for a multiplicative functional perturbation "
   ]
  },
  {
   "cell_type": "code",
   "execution_count": 1,
   "metadata": {},
   "outputs": [
    {
     "name": "stderr",
     "output_type": "stream",
     "text": [
      "/home/rliu/anaconda3/envs/bnp_sensitivity/lib/python3.8/site-packages/autograd/core.py:290: UserWarning: \n",
      "The defvjp method is deprecated. See the update guide and tutorial:\n",
      "https://github.com/HIPS/autograd/blob/master/docs/updateguide.md\n",
      "https://github.com/HIPS/autograd/blob/master/docs/tutorial.md\n",
      "  warnings.warn(deprecation_msg)\n"
     ]
    }
   ],
   "source": [
    "from autograd import numpy as np\n",
    "from autograd import scipy as sp\n",
    "\n",
    "from numpy.polynomial.hermite import hermgauss\n",
    "\n",
    "np.random.seed(453453)\n",
    "\n",
    "import paragami\n",
    "\n",
    "# BNP sensitivity libraries\n",
    "import bnpgmm_runjingdev.gmm_clustering_lib as gmm_lib\n",
    "from bnpgmm_runjingdev import hessian_lib\n",
    "import bnpgmm_runjingdev.gmm_cavi_lib as cavi_lib\n",
    "import bnpgmm_runjingdev.gmm_preconditioner_lib as preconditioner_lib\n",
    "import bnpgmm_runjingdev.functional_sensitivity_lib as fun_sens_lib \n",
    "from bnpgmm_runjingdev import utils_lib\n",
    "\n",
    "from bnpmodeling_runjingdev import modeling_lib \n",
    "from bnpmodeling_runjingdev import optimization_lib \n",
    "from bnpmodeling_runjingdev import cluster_quantities_lib as cluster_lib\n",
    "\n",
    "\n",
    "import matplotlib.pyplot as plt\n",
    "%matplotlib inline\n",
    "\n",
    "from sklearn.decomposition import PCA\n",
    "\n",
    "from copy import deepcopy\n",
    "\n",
    "import vittles\n",
    "from tqdm import tqdm\n",
    "\n",
    "import json "
   ]
  },
  {
   "cell_type": "code",
   "execution_count": 2,
   "metadata": {},
   "outputs": [],
   "source": [
    "# colors for plotting\n",
    "import matplotlib.cm as cm\n",
    "\n",
    "cmap = cm.get_cmap(name='gist_rainbow')\n",
    "colors1 = [cmap(k * 50) for k in range(12)]\n",
    "colors2 = [cmap(k * 25) for k in range(12)]"
   ]
  },
  {
   "cell_type": "markdown",
   "metadata": {},
   "source": [
    "# Load data"
   ]
  },
  {
   "cell_type": "markdown",
   "metadata": {},
   "source": [
    "We load and plot the iris dataset"
   ]
  },
  {
   "cell_type": "code",
   "execution_count": 3,
   "metadata": {},
   "outputs": [],
   "source": [
    "# load iris data\n",
    "dataset_name = 'iris'\n",
    "features, iris_species = utils_lib.load_data()\n",
    "dim = features.shape[1]\n",
    "n_obs = len(iris_species)    "
   ]
  },
  {
   "cell_type": "code",
   "execution_count": 4,
   "metadata": {},
   "outputs": [
    {
     "data": {
      "text/plain": [
       "Text(0, 0.5, 'PC2')"
      ]
     },
     "execution_count": 4,
     "metadata": {},
     "output_type": "execute_result"
    },
    {
     "data": {
      "image/png": "[encoded data removed]",
      "text/plain": [
       "<Figure size 432x288 with 1 Axes>"
      ]
     },
     "metadata": {
      "needs_background": "light"
     },
     "output_type": "display_data"
    }
   ],
   "source": [
    "# run PCA\n",
    "pca_fit = PCA()\n",
    "pca_fit.fit(features)\n",
    "pc_features = pca_fit.transform(features)\n",
    "\n",
    "# plot\n",
    "cmap = cm.get_cmap(name='gist_rainbow')\n",
    "colors1 = [cmap(k * 50) for k in range(30)]\n",
    "\n",
    "fig1 = plt.figure(1)\n",
    "fig = fig1.add_subplot(111)\n",
    "utils_lib.plot_clusters(pc_features[:, 0], pc_features[:, 1], iris_species, colors1, fig)\n",
    "fig.set_xlabel('PC1')\n",
    "fig.set_ylabel('PC2')\n"
   ]
  },
  {
   "cell_type": "markdown",
   "metadata": {},
   "source": [
    "# Load model"
   ]
  },
  {
   "cell_type": "markdown",
   "metadata": {},
   "source": [
    "### Get prior "
   ]
  },
  {
   "cell_type": "code",
   "execution_count": 5,
   "metadata": {},
   "outputs": [],
   "source": [
    "prior_params_dict, prior_params_paragami = gmm_lib.get_default_prior_params(dim)"
   ]
  },
  {
   "cell_type": "code",
   "execution_count": 6,
   "metadata": {},
   "outputs": [
    {
     "name": "stdout",
     "output_type": "stream",
     "text": [
      "{'alpha': array([3.]), 'prior_centroid_mean': array([0.]), 'prior_lambda': array([1.]), 'prior_wishart_df': array([10.]), 'prior_wishart_rate': array([[1., 0., 0., 0.],\n",
      "       [0., 1., 0., 0.],\n",
      "       [0., 0., 1., 0.],\n",
      "       [0., 0., 0., 1.]])}\n"
     ]
    }
   ],
   "source": [
    "print(prior_params_dict)"
   ]
  },
  {
   "cell_type": "code",
   "execution_count": 7,
   "metadata": {},
   "outputs": [],
   "source": [
    "# DP prior parameter \n",
    "prior_params_dict['alpha'] = 12"
   ]
  },
  {
   "cell_type": "markdown",
   "metadata": {},
   "source": [
    "### Variational parameters"
   ]
  },
  {
   "cell_type": "code",
   "execution_count": 8,
   "metadata": {},
   "outputs": [],
   "source": [
    "k_approx = 30"
   ]
  },
  {
   "cell_type": "code",
   "execution_count": 9,
   "metadata": {},
   "outputs": [],
   "source": [
    "# Gauss-Hermite points\n",
    "gh_deg = 20\n",
    "gh_loc, gh_weights = hermgauss(gh_deg)\n"
   ]
  },
  {
   "cell_type": "code",
   "execution_count": 10,
   "metadata": {},
   "outputs": [],
   "source": [
    "# get vb parameters\n",
    "vb_params_dict, vb_params_paragami = gmm_lib.get_vb_params_paragami_object(dim, k_approx)"
   ]
  },
  {
   "cell_type": "code",
   "execution_count": 11,
   "metadata": {},
   "outputs": [
    {
     "data": {
      "text/plain": [
       "2009.3998815516827"
      ]
     },
     "execution_count": 11,
     "metadata": {},
     "output_type": "execute_result"
    }
   ],
   "source": [
    "# the objective \n",
    "gmm_lib.get_kl(features, vb_params_dict, prior_params_dict, gh_loc, gh_weights)"
   ]
  },
  {
   "cell_type": "markdown",
   "metadata": {},
   "source": [
    "# Optimize"
   ]
  },
  {
   "cell_type": "markdown",
   "metadata": {},
   "source": [
    "### Kmeans"
   ]
  },
  {
   "cell_type": "code",
   "execution_count": 12,
   "metadata": {},
   "outputs": [],
   "source": [
    "n_kmeans_init = 50\n",
    "init_vb_free_params, init_vb_params_dict, init_ez = \\\n",
    "    utils_lib.cluster_and_get_k_means_inits(features, vb_params_paragami, \n",
    "                                                n_kmeans_init = n_kmeans_init, \n",
    "                                                seed = 32423)"
   ]
  },
  {
   "cell_type": "markdown",
   "metadata": {},
   "source": [
    "### Run CAVI"
   ]
  },
  {
   "cell_type": "code",
   "execution_count": 13,
   "metadata": {},
   "outputs": [
    {
     "name": "stdout",
     "output_type": "stream",
     "text": [
      "done. num iterations = 112\n",
      "stick_time: 0.632sec\n",
      "cluster_time: 0.053sec\n",
      "e_z_time: 0.151sec\n",
      "**TOTAL time: 1.853sec**\n"
     ]
    }
   ],
   "source": [
    "vb_opt_dict, e_z_opt = cavi_lib.run_cavi(features, vb_params_dict,\n",
    "                                            vb_params_paragami, prior_params_dict,\n",
    "                                            gh_loc, gh_weights,\n",
    "                                            debug = False, \n",
    "                                            x_tol = 1E-3)"
   ]
  },
  {
   "cell_type": "code",
   "execution_count": 14,
   "metadata": {},
   "outputs": [],
   "source": [
    "vb_opt = vb_params_paragami.flatten(vb_opt_dict, free = True)"
   ]
  },
  {
   "cell_type": "code",
   "execution_count": 15,
   "metadata": {},
   "outputs": [],
   "source": [
    "def plot_results_from_vb_params_dict(pca_fit, vb_params_dict, e_z, fig): \n",
    "    # we plot in PCA space\n",
    "    bnp_centroids_pc, bnp_cluster_covs_pc = \\\n",
    "        utils_lib.transform_params_to_pc_space(pca_fit, vb_params_dict['cluster_params']['centroids'], \n",
    "                                               np.linalg.inv(vb_params_dict['cluster_params']['cluster_info']))\n",
    "    \n",
    "    bnp_clusters = np.argmax(e_z, axis = 1)\n",
    "    \n",
    "    cmap = cm.get_cmap(name='gist_rainbow')\n",
    "    colors1 = [cmap(k * 50) for k in range(30)]\n",
    "\n",
    "    utils_lib.plot_clusters(pc_features[:, 0], pc_features[:, 1], bnp_clusters, \\\n",
    "                  colors1, fig, \\\n",
    "                  centroids = bnp_centroids_pc[:, np.unique(bnp_clusters)], \n",
    "                cov = bnp_cluster_covs_pc[np.unique(bnp_clusters)])\n"
   ]
  },
  {
   "cell_type": "code",
   "execution_count": 16,
   "metadata": {},
   "outputs": [
    {
     "data": {
      "image/png": "[encoded data removed]",
      "text/plain": [
       "<Figure size 432x288 with 1 Axes>"
      ]
     },
     "metadata": {
      "needs_background": "light"
     },
     "output_type": "display_data"
    }
   ],
   "source": [
    "# results\n",
    "fig1 = plt.figure(1)\n",
    "fig = fig1.add_subplot(111)\n",
    "\n",
    "plot_results_from_vb_params_dict(pca_fit, vb_opt_dict, e_z_opt, fig)"
   ]
  },
  {
   "cell_type": "markdown",
   "metadata": {},
   "source": [
    "# Define a perturbation in the logit v space."
   ]
  },
  {
   "cell_type": "code",
   "execution_count": 17,
   "metadata": {},
   "outputs": [],
   "source": [
    "def log_phi(logit_v):\n",
    "    return(sp.special.expit(logit_v))\n",
    "\n",
    "def phi(logit_v):\n",
    "    return np.exp(log_phi(logit_v))\n"
   ]
  },
  {
   "cell_type": "code",
   "execution_count": 18,
   "metadata": {},
   "outputs": [
    {
     "name": "stdout",
     "output_type": "stream",
     "text": [
      "phi max:  2.717370405124736\n",
      "log phi max:  0.9996646498695336\n"
     ]
    }
   ],
   "source": [
    "logit_v_grid = np.linspace(-8, 8, 200)\n",
    "\n",
    "v_grid = np.exp(logit_v_grid) / (1 + np.exp(logit_v_grid))\n",
    "\n",
    "print('phi max: ', np.max(phi(logit_v_grid)))\n",
    "log_phi_max = np.max(np.abs(np.log(phi(logit_v_grid))))\n",
    "print('log phi max: ', log_phi_max)\n",
    "\n",
    "def rescaled_log_phi(logit_v):\n",
    "    return 10 * log_phi(logit_v) / log_phi_max\n"
   ]
  },
  {
   "cell_type": "code",
   "execution_count": 19,
   "metadata": {},
   "outputs": [
    {
     "name": "stdout",
     "output_type": "stream",
     "text": [
      "-2.4849066497879995 1.1634968823127927 -2.4889315240780148 1.1662640532746475\n"
     ]
    }
   ],
   "source": [
    "prior_perturbation = fun_sens_lib.PriorPerturbation(\n",
    "                                alpha0 = prior_params_dict['alpha'],\n",
    "                                log_phi = rescaled_log_phi, \n",
    "                                logit_v_ub=8, logit_v_lb = -8)\n",
    "\n",
    "print(\n",
    "    prior_perturbation.log_norm_p0,\n",
    "    prior_perturbation.log_norm_pc,\n",
    "    prior_perturbation.log_norm_p0_logit,\n",
    "    prior_perturbation.log_norm_pc_logit)"
   ]
  },
  {
   "cell_type": "code",
   "execution_count": 20,
   "metadata": {},
   "outputs": [
    {
     "data": {
      "text/plain": [
       "Text(0.5, 1.0, 'Priors in logit space')"
      ]
     },
     "execution_count": 20,
     "metadata": {},
     "output_type": "execute_result"
    },
    {
     "data": {
      "image/png": "[encoded data removed]",
      "text/plain": [
       "<Figure size 1296x360 with 4 Axes>"
      ]
     },
     "metadata": {
      "needs_background": "light"
     },
     "output_type": "display_data"
    }
   ],
   "source": [
    "prior_perturbation.set_epsilon(1.0)\n",
    "\n",
    "plt.figure(1, figsize=(18, 5))\n",
    "\n",
    "plt.subplot(141)\n",
    "plt.plot(logit_v_grid, prior_perturbation.get_log_p0_logit(logit_v_grid))\n",
    "plt.plot(logit_v_grid, prior_perturbation.get_log_pc_logit(logit_v_grid))\n",
    "plt.title('Log priors in logit space')\n",
    "\n",
    "plt.subplot(142)\n",
    "plt.plot(logit_v_grid, prior_perturbation.log_phi(logit_v_grid))\n",
    "plt.title('log phi in logit space')\n",
    "\n",
    "plt.subplot(143)\n",
    "plt.plot(v_grid, np.exp(prior_perturbation.get_log_p0(v_grid)))\n",
    "plt.plot(v_grid, np.exp(prior_perturbation.get_log_pc(v_grid)))\n",
    "plt.title('Priors in stick space')\n",
    "\n",
    "plt.subplot(144)\n",
    "plt.plot(logit_v_grid, np.exp(prior_perturbation.get_log_p0_logit(logit_v_grid)))\n",
    "plt.plot(logit_v_grid, np.exp(prior_perturbation.get_log_pc_logit(logit_v_grid)))\n",
    "plt.title('Priors in logit space')\n"
   ]
  },
  {
   "cell_type": "markdown",
   "metadata": {
    "collapsed": true
   },
   "source": [
    "# Define prior perturbation"
   ]
  },
  {
   "cell_type": "code",
   "execution_count": 21,
   "metadata": {},
   "outputs": [],
   "source": [
    "# we will use this for the sensitivity class\n",
    "get_epsilon_vb_loss = paragami.FlattenFunctionInput(\n",
    "    lambda params, epsilon: fun_sens_lib.get_perturbed_kl(\n",
    "                                                        features, \n",
    "                                                        params,\n",
    "                                                        epsilon,\n",
    "                                                        rescaled_log_phi,\n",
    "                                                        prior_params_dict, \n",
    "                                                        gh_loc, gh_weights),\n",
    "    argnums=0, patterns=vb_params_paragami, free=True)\n",
    "    \n",
    "hyper_par_objective_fun = paragami.FlattenFunctionInput(\n",
    "    lambda params, epsilon: fun_sens_lib.get_e_log_perturbation(\n",
    "                                                                rescaled_log_phi, \n",
    "                                                                params,\n",
    "                                                                epsilon,\n",
    "                                                                gh_loc, gh_weights),\n",
    "    argnums=0, patterns=vb_params_paragami, free=True)"
   ]
  },
  {
   "cell_type": "code",
   "execution_count": 22,
   "metadata": {},
   "outputs": [],
   "source": [
    "epsilon0 = np.array([0.])"
   ]
  },
  {
   "cell_type": "code",
   "execution_count": 23,
   "metadata": {},
   "outputs": [],
   "source": [
    "# get preconditioner \n",
    "k_large = 5\n",
    "which_k = np.argsort(-e_z_opt.mean(0))[0:k_large]\n",
    "\n",
    "sub_block_hess, indx = hessian_lib.get_large_clusters_hessian(features, which_k, vb_opt, vb_params_paragami, \n",
    "                                                                  prior_params_dict, gh_loc, gh_weights)\n",
    "\n",
    "est_lambda_max = np.abs(sub_block_hess).sum(1).max()\n",
    "nystrom_precond = preconditioner_lib.get_nystrom_woodbury_precon(sub_block_hess, indx, est_lambda_max)\n"
   ]
  },
  {
   "cell_type": "code",
   "execution_count": 24,
   "metadata": {},
   "outputs": [],
   "source": [
    "import autograd\n",
    "import time"
   ]
  },
  {
   "cell_type": "code",
   "execution_count": 25,
   "metadata": {},
   "outputs": [
    {
     "name": "stdout",
     "output_type": "stream",
     "text": [
      "derivative time: 7.055sec\n"
     ]
    }
   ],
   "source": [
    "obj_fun_hvp = autograd.hessian_vector_product(get_epsilon_vb_loss, argnum = 0)\n",
    "\n",
    "hess_solver = vittles.solver_lib.get_cg_solver(lambda x : obj_fun_hvp(vb_opt, epsilon0, x), \n",
    "                                                        dim = len(vb_opt), \n",
    "                                                        cg_opts={'M':nystrom_precond})\n",
    "\n",
    "    \n",
    "t0 = time.time()\n",
    "epsilon_sens = \\\n",
    "    vittles.HyperparameterSensitivityLinearApproximation(\n",
    "        objective_fun = get_epsilon_vb_loss, \n",
    "        opt_par_value = vb_opt, \n",
    "        hyper_par_value = epsilon0, \n",
    "        hess_solver = hess_solver, \n",
    "        hyper_par_objective_fun = hyper_par_objective_fun)\n",
    "\n",
    "print('derivative time: {}sec'.format(np.round(time.time() - t0, 3)))"
   ]
  },
  {
   "cell_type": "code",
   "execution_count": null,
   "metadata": {},
   "outputs": [],
   "source": []
  },
  {
   "cell_type": "markdown",
   "metadata": {},
   "source": [
    "## Fit with perturbation"
   ]
  },
  {
   "cell_type": "code",
   "execution_count": 26,
   "metadata": {},
   "outputs": [
    {
     "name": "stdout",
     "output_type": "stream",
     "text": [
      "Epsilon:  1.0\n",
      "Predicted differences:  4.042864862598715\n"
     ]
    }
   ],
   "source": [
    "epsilon = 1.0 \n",
    "print('Epsilon: ', epsilon)\n",
    "\n",
    "vb_pert_pred = epsilon_sens.predict_opt_par_from_hyper_par(epsilon)\n",
    "\n",
    "print('Predicted differences: ', np.linalg.norm(vb_pert_pred - vb_opt))"
   ]
  },
  {
   "cell_type": "code",
   "execution_count": 27,
   "metadata": {
    "scrolled": true
   },
   "outputs": [],
   "source": [
    "vb_pert_pred_dict = vb_params_paragami.fold(vb_pert_pred, free = True)\n",
    "e_z_pert_pred = gmm_lib.get_optimal_z_from_vb_params_dict(\n",
    "    features, vb_pert_pred_dict, gh_loc, gh_weights)"
   ]
  },
  {
   "cell_type": "code",
   "execution_count": 28,
   "metadata": {},
   "outputs": [],
   "source": [
    "# get flattened perturbed KL\n",
    "def get_loss_for_epsilon(epsilon):\n",
    "    get_perturbed_vb_loss_flattened = paragami.FlattenFunctionInput(\n",
    "        lambda params: \n",
    "            fun_sens_lib.get_perturbed_kl(\n",
    "                features, params, epsilon, rescaled_log_phi, \n",
    "                 prior_params_dict, gh_loc, gh_weights),\n",
    "        argnums=0,\n",
    "        patterns=vb_params_paragami,\n",
    "        free=True)\n",
    "    return get_perturbed_vb_loss_flattened\n",
    "\n",
    "get_perturbed_vb_loss_flattened = get_loss_for_epsilon(epsilon)"
   ]
  },
  {
   "cell_type": "code",
   "execution_count": 29,
   "metadata": {},
   "outputs": [],
   "source": [
    "new_init_dict = deepcopy(vb_opt_dict)\n",
    "new_init_free = vb_params_paragami.flatten(new_init_dict, free = True)"
   ]
  },
  {
   "cell_type": "code",
   "execution_count": 30,
   "metadata": {
    "scrolled": false
   },
   "outputs": [
    {
     "name": "stdout",
     "output_type": "stream",
     "text": [
      "done. num iterations = 101\n",
      "stick_time: 2.413sec\n",
      "cluster_time: 0.048sec\n",
      "e_z_time: 0.136sec\n",
      "**TOTAL time: 3.528sec**\n"
     ]
    }
   ],
   "source": [
    "vb_pert_dict, e_z_pert = cavi_lib.run_cavi(features, deepcopy(new_init_dict),\n",
    "                                        vb_params_paragami, prior_params_dict,\n",
    "                                        gh_loc, gh_weights,\n",
    "                                        log_phi = rescaled_log_phi, epsilon = epsilon, \n",
    "                                       debug = False)\n",
    "\n",
    "vb_pert_opt = vb_params_paragami.flatten(vb_pert_dict, free = True)"
   ]
  },
  {
   "cell_type": "code",
   "execution_count": 31,
   "metadata": {},
   "outputs": [],
   "source": [
    "vb_pert_opt_dict = vb_params_paragami.fold(vb_pert_opt, free = True)\n",
    "e_z_pert_opt = gmm_lib.get_optimal_z_from_vb_params_dict(features, vb_pert_opt_dict, gh_loc, gh_weights)"
   ]
  },
  {
   "cell_type": "code",
   "execution_count": 32,
   "metadata": {},
   "outputs": [
    {
     "name": "stdout",
     "output_type": "stream",
     "text": [
      "Epsilon: 1.0\n"
     ]
    },
    {
     "data": {
      "text/plain": [
       "[<matplotlib.lines.Line2D at 0x7f7b784b3220>]"
      ]
     },
     "execution_count": 32,
     "metadata": {},
     "output_type": "execute_result"
    },
    {
     "data": {
      "image/png": "[encoded data removed]",
      "text/plain": [
       "<Figure size 432x288 with 1 Axes>"
      ]
     },
     "metadata": {
      "needs_background": "light"
     },
     "output_type": "display_data"
    }
   ],
   "source": [
    "print('Epsilon:', epsilon)\n",
    "\n",
    "plt.figure()\n",
    "plt.subplot(1, 2, 1)\n",
    "plt.plot(vb_pert_opt - vb_opt, vb_pert_pred - vb_opt, 'k.')\n",
    "plt.plot(vb_pert_opt - vb_opt, vb_pert_opt - vb_opt, 'r')\n"
   ]
  },
  {
   "cell_type": "code",
   "execution_count": 33,
   "metadata": {},
   "outputs": [
    {
     "name": "stdout",
     "output_type": "stream",
     "text": [
      "original expected number of clusters:  11.48696832835835\n",
      "perturbed expected number of clusters:  9.804688704753342\n",
      "predicted expected number of clusters:  9.826841529326256\n"
     ]
    }
   ],
   "source": [
    "print('original expected number of clusters: ',\n",
    "    cluster_lib.get_e_number_clusters_from_logit_sticks(vb_opt_dict['stick_params']['stick_propn_mean'], \n",
    "                                                        vb_opt_dict['stick_params']['stick_propn_info'], \n",
    "                                                        n_obs = 150, \n",
    "                                                        n_samples = 10000))\n",
    "\n",
    "print('perturbed expected number of clusters: ',\n",
    "    cluster_lib.get_e_number_clusters_from_logit_sticks(vb_pert_opt_dict['stick_params']['stick_propn_mean'], \n",
    "                                                        vb_pert_opt_dict['stick_params']['stick_propn_info'], \n",
    "                                                        n_obs = 150, \n",
    "                                                        n_samples = 10000))\n",
    "\n",
    "print('predicted expected number of clusters: ',\n",
    "    cluster_lib.get_e_number_clusters_from_logit_sticks(vb_pert_pred_dict['stick_params']['stick_propn_mean'], \n",
    "                                                        vb_pert_pred_dict['stick_params']['stick_propn_info'], \n",
    "                                                        n_obs = 150, \n",
    "                                                        n_samples = 10000))\n",
    "\n",
    "\n",
    "      "
   ]
  },
  {
   "cell_type": "markdown",
   "metadata": {
    "collapsed": true
   },
   "source": [
    "# Predict for a range of perturbations"
   ]
  },
  {
   "cell_type": "code",
   "execution_count": 34,
   "metadata": {},
   "outputs": [
    {
     "name": "stdout",
     "output_type": "stream",
     "text": [
      "[0.         0.00826446 0.03305785 0.07438017 0.1322314  0.20661157\n",
      " 0.29752066 0.40495868 0.52892562 0.66942149 0.82644628 1.        ]\n"
     ]
    }
   ],
   "source": [
    "# The range of epsilons we shall consider\n",
    "epsilon_vec = np.linspace(0, 1, 12) ** 2 # Square to get more points close to 0\n",
    "print(epsilon_vec)"
   ]
  },
  {
   "cell_type": "code",
   "execution_count": 35,
   "metadata": {},
   "outputs": [],
   "source": [
    "def refit_with_epsilon(epsilon, new_init_dict):\n",
    "    # sets new epsilon, returns new vb optimum\n",
    "\n",
    "    vb_pert_dict, e_z_pert = cavi_lib.run_cavi(features, deepcopy(new_init_dict),\n",
    "                                        vb_params_paragami, prior_params_dict,\n",
    "                                        gh_loc, gh_weights,\n",
    "                                        log_phi = rescaled_log_phi, epsilon = epsilon, \n",
    "                                       debug = False)\n",
    "    \n",
    "    return vb_params_paragami.flatten(vb_pert_dict, free = True)"
   ]
  },
  {
   "cell_type": "code",
   "execution_count": 36,
   "metadata": {},
   "outputs": [],
   "source": [
    "best_param_phi_array = []\n",
    "best_param_phi_pred_array = []"
   ]
  },
  {
   "cell_type": "code",
   "execution_count": 37,
   "metadata": {
    "scrolled": false
   },
   "outputs": [
    {
     "name": "stdout",
     "output_type": "stream",
     "text": [
      "\n",
      "\n",
      "Epsilon:  0.0\n",
      "Predicted differences:  0.0\n",
      "done. num iterations = 3\n",
      "stick_time: 0.146sec\n",
      "cluster_time: 0.004sec\n",
      "e_z_time: 0.007sec\n",
      "**TOTAL time: 0.195sec**\n",
      "Done. \n",
      "Predicted differences:  0.0\n",
      "Actual differences: (This is nonzero if phi did anything): 0.008007478545388191\n",
      "\n",
      "\n",
      "Epsilon:  0.008264462809917356\n",
      "Predicted differences:  0.033412106302468804\n",
      "done. num iterations = 10\n",
      "stick_time: 0.246sec\n",
      "cluster_time: 0.005sec\n",
      "e_z_time: 0.016sec\n",
      "**TOTAL time: 0.364sec**\n",
      "Done. \n",
      "Predicted differences:  0.033412106302468804\n",
      "Actual differences: (This is nonzero if phi did anything): 0.024253739256433187\n",
      "\n",
      "\n",
      "Epsilon:  0.03305785123966942\n",
      "Predicted differences:  0.13364842520987472\n",
      "done. num iterations = 18\n",
      "stick_time: 0.46sec\n",
      "cluster_time: 0.009sec\n",
      "e_z_time: 0.026sec\n",
      "**TOTAL time: 0.667sec**\n",
      "Done. \n",
      "Predicted differences:  0.13364842520987472\n",
      "Actual differences: (This is nonzero if phi did anything): 0.10908084949443404\n",
      "\n",
      "\n",
      "Epsilon:  0.07438016528925619\n",
      "Predicted differences:  0.3007089567222186\n",
      "done. num iterations = 26\n",
      "stick_time: 0.637sec\n",
      "cluster_time: 0.014sec\n",
      "e_z_time: 0.036sec\n",
      "**TOTAL time: 0.934sec**\n",
      "Done. \n",
      "Predicted differences:  0.3007089567222186\n",
      "Actual differences: (This is nonzero if phi did anything): 0.273561995198716\n",
      "\n",
      "\n",
      "Epsilon:  0.1322314049586777\n",
      "Predicted differences:  0.5345937008394998\n",
      "done. num iterations = 37\n",
      "stick_time: 0.901sec\n",
      "cluster_time: 0.018sec\n",
      "e_z_time: 0.051sec\n",
      "**TOTAL time: 1.313sec**\n",
      "Done. \n",
      "Predicted differences:  0.5345937008394998\n",
      "Actual differences: (This is nonzero if phi did anything): 0.5134055678380876\n",
      "\n",
      "\n",
      "Epsilon:  0.20661157024793392\n",
      "Predicted differences:  0.8353026575617184\n",
      "done. num iterations = 53\n",
      "stick_time: 1.287sec\n",
      "cluster_time: 0.025sec\n",
      "e_z_time: 0.073sec\n",
      "**TOTAL time: 1.877sec**\n",
      "Done. \n",
      "Predicted differences:  0.8353026575617184\n",
      "Actual differences: (This is nonzero if phi did anything): 0.8468027094725958\n",
      "\n",
      "\n",
      "Epsilon:  0.29752066115702475\n",
      "Predicted differences:  1.2028358268888737\n",
      "done. num iterations = 59\n",
      "stick_time: 1.42sec\n",
      "cluster_time: 0.028sec\n",
      "e_z_time: 0.08sec\n",
      "**TOTAL time: 2.075sec**\n",
      "Done. \n",
      "Predicted differences:  1.2028358268888737\n",
      "Actual differences: (This is nonzero if phi did anything): 1.2618536220027134\n",
      "\n",
      "\n",
      "Epsilon:  0.4049586776859504\n",
      "Predicted differences:  1.6371932088209675\n",
      "done. num iterations = 72\n",
      "stick_time: 1.715sec\n",
      "cluster_time: 0.034sec\n",
      "e_z_time: 0.098sec\n",
      "**TOTAL time: 2.511sec**\n",
      "Done. \n",
      "Predicted differences:  1.6371932088209675\n",
      "Actual differences: (This is nonzero if phi did anything): 1.7867963317560676\n",
      "\n",
      "\n",
      "Epsilon:  0.5289256198347108\n",
      "Predicted differences:  2.138374803357998\n",
      "done. num iterations = 75\n",
      "stick_time: 2.0sec\n",
      "cluster_time: 0.039sec\n",
      "e_z_time: 0.113sec\n",
      "**TOTAL time: 2.926sec**\n",
      "Done. \n",
      "Predicted differences:  2.138374803357998\n",
      "Actual differences: (This is nonzero if phi did anything): 2.4438708990340183\n",
      "\n",
      "\n",
      "Epsilon:  0.6694214876033059\n",
      "Predicted differences:  2.706380610499967\n",
      "done. num iterations = 81\n",
      "stick_time: 2.219sec\n",
      "cluster_time: 0.045sec\n",
      "e_z_time: 0.124sec\n",
      "**TOTAL time: 3.251sec**\n",
      "Done. \n",
      "Predicted differences:  2.706380610499967\n",
      "Actual differences: (This is nonzero if phi did anything): 3.2456573799908908\n",
      "\n",
      "\n",
      "Epsilon:  0.8264462809917357\n",
      "Predicted differences:  3.3412106302468727\n",
      "done. num iterations = 80\n",
      "stick_time: 2.287sec\n",
      "cluster_time: 0.045sec\n",
      "e_z_time: 0.128sec\n",
      "**TOTAL time: 3.343sec**\n",
      "Done. \n",
      "Predicted differences:  3.3412106302468727\n",
      "Actual differences: (This is nonzero if phi did anything): 4.2312998441984595\n",
      "\n",
      "\n",
      "Epsilon:  1.0\n",
      "Predicted differences:  4.042864862598715\n",
      "done. num iterations = 101\n",
      "stick_time: 2.825sec\n",
      "cluster_time: 0.057sec\n",
      "e_z_time: 0.161sec\n",
      "**TOTAL time: 4.14sec**\n",
      "Done. \n",
      "Predicted differences:  4.042864862598715\n",
      "Actual differences: (This is nonzero if phi did anything): 5.460121835742198\n"
     ]
    }
   ],
   "source": [
    "vb_pert_opt_array = []\n",
    "vb_pert_pred_array = []\n",
    "\n",
    "\n",
    "for i in range(len(epsilon_vec)): \n",
    "    epsilon = epsilon_vec[i]\n",
    "    print('\\n\\nEpsilon: ', epsilon)\n",
    "    \n",
    "    # get linear predictions\n",
    "    vb_pert_pred = \\\n",
    "        epsilon_sens.predict_opt_par_from_hyper_par(epsilon)\n",
    "\n",
    "    print('Predicted differences: ', np.linalg.norm(vb_pert_pred - vb_opt))\n",
    "    \n",
    "    # Then fit with the perturbation.\n",
    "    vb_pert_opt = refit_with_epsilon(epsilon, new_init_dict)\n",
    "    \n",
    "    print('Done. ')\n",
    "\n",
    "    print('Predicted differences: ', np.linalg.norm(vb_pert_pred - vb_opt))\n",
    "    print('Actual differences: (This is nonzero if phi did anything):',\n",
    "          np.linalg.norm(vb_pert_opt - vb_opt))\n",
    "    \n",
    "    # save results: \n",
    "    vb_pert_opt_array.append(vb_pert_opt)\n",
    "    vb_pert_pred_array.append(vb_pert_pred)\n",
    "    \n"
   ]
  },
  {
   "cell_type": "markdown",
   "metadata": {},
   "source": [
    "# Lets look at the expected number of clusters"
   ]
  },
  {
   "cell_type": "markdown",
   "metadata": {},
   "source": [
    "### Number of in sample clusters"
   ]
  },
  {
   "cell_type": "code",
   "execution_count": 38,
   "metadata": {},
   "outputs": [
    {
     "name": "stderr",
     "output_type": "stream",
     "text": [
      "100%|██████████| 12/12 [00:27<00:00,  2.33s/it]\n"
     ]
    }
   ],
   "source": [
    "threshold = 0\n",
    "\n",
    "lr_e_num_clusters_vec = np.zeros(len(epsilon_vec))\n",
    "refit_e_num_clusters_vec = np.zeros(len(epsilon_vec))\n",
    "\n",
    "for i in tqdm(range(len(epsilon_vec))): \n",
    "    # number of clusters as predicted by linear response\n",
    "    lr_e_num_clusters, _ = gmm_lib.get_e_num_clusters_from_free_par(\n",
    "        features, vb_params_paragami, \n",
    "        vb_pert_pred_array[i],\n",
    "        gh_loc, gh_weights,\n",
    "        threshold = threshold,\n",
    "        n_samples = 100000)\n",
    "    \n",
    "    lr_e_num_clusters_vec[i] = lr_e_num_clusters\n",
    "    \n",
    "    # number of clusters after refitting \n",
    "    refit_e_num_clusters, _ = gmm_lib.get_e_num_clusters_from_free_par(\n",
    "        features, vb_params_paragami, \n",
    "        vb_pert_opt_array[i],\n",
    "        gh_loc, gh_weights,\n",
    "        threshold = threshold,\n",
    "        n_samples = 100000)\n",
    "    \n",
    "    refit_e_num_clusters_vec[i] = refit_e_num_clusters\n",
    "    \n"
   ]
  },
  {
   "cell_type": "code",
   "execution_count": 39,
   "metadata": {},
   "outputs": [
    {
     "data": {
      "text/plain": [
       "<matplotlib.legend.Legend at 0x7f7b787450a0>"
      ]
     },
     "execution_count": 39,
     "metadata": {},
     "output_type": "execute_result"
    },
    {
     "data": {
      "image/png": "[encoded data removed]",
      "text/plain": [
       "<Figure size 432x288 with 1 Axes>"
      ]
     },
     "metadata": {
      "needs_background": "light"
     },
     "output_type": "display_data"
    }
   ],
   "source": [
    "plt.plot(epsilon_vec, lr_e_num_clusters_vec, '+--')\n",
    "plt.plot(epsilon_vec, refit_e_num_clusters_vec, '+-')\n",
    "\n",
    "plt.xlabel('epsilon')\n",
    "plt.ylabel('num posterior clusters')\n",
    "plt.legend(('lr', 'refit'))\n"
   ]
  },
  {
   "cell_type": "markdown",
   "metadata": {},
   "source": [
    "### Number of predicted clusters"
   ]
  },
  {
   "cell_type": "code",
   "execution_count": 40,
   "metadata": {},
   "outputs": [
    {
     "name": "stderr",
     "output_type": "stream",
     "text": [
      "100%|██████████| 12/12 [00:05<00:00,  2.04it/s]\n"
     ]
    }
   ],
   "source": [
    "threshold = 0\n",
    "\n",
    "lr_e_num_pred_clusters_vec = np.zeros(len(epsilon_vec))\n",
    "refit_e_num_pred_clusters_vec = np.zeros(len(epsilon_vec))\n",
    "\n",
    "for i in tqdm(range(len(epsilon_vec))): \n",
    "     # number of clusters as predicted by linear response\n",
    "    lr_e_num_pred_clusters = gmm_lib.get_e_num_pred_clusters_from_vb_free_params(\n",
    "        vb_params_paragami, \n",
    "        vb_pert_pred_array[i],\n",
    "        n_obs = np.shape(features)[0], \n",
    "        threshold = threshold,\n",
    "        n_samples = 100000)\n",
    "    \n",
    "    lr_e_num_pred_clusters_vec[i] = lr_e_num_pred_clusters\n",
    "    \n",
    "    # number of clusters after refitting \n",
    "    refit_e_num_pred_clusters = gmm_lib.get_e_num_pred_clusters_from_vb_free_params(\n",
    "        vb_params_paragami, \n",
    "        vb_pert_opt_array[i],\n",
    "        n_obs = np.shape(features)[0], \n",
    "        threshold = threshold,\n",
    "        n_samples = 100000)\n",
    "    \n",
    "    refit_e_num_pred_clusters_vec[i] = refit_e_num_pred_clusters\n",
    "    \n"
   ]
  },
  {
   "cell_type": "code",
   "execution_count": 41,
   "metadata": {},
   "outputs": [
    {
     "data": {
      "text/plain": [
       "<matplotlib.legend.Legend at 0x7f7b7873e9d0>"
      ]
     },
     "execution_count": 41,
     "metadata": {},
     "output_type": "execute_result"
    },
    {
     "data": {
      "image/png": "[encoded data removed]",
      "text/plain": [
       "<Figure size 432x288 with 1 Axes>"
      ]
     },
     "metadata": {
      "needs_background": "light"
     },
     "output_type": "display_data"
    }
   ],
   "source": [
    "plt.plot(epsilon_vec, lr_e_num_pred_clusters_vec, '+--')\n",
    "plt.plot(epsilon_vec, refit_e_num_pred_clusters_vec, '+-')\n",
    "\n",
    "plt.xlabel('alpha')\n",
    "plt.ylabel('num posterior clusters')\n",
    "plt.legend(('lr', 'refit'))"
   ]
  },
  {
   "cell_type": "code",
   "execution_count": null,
   "metadata": {},
   "outputs": [],
   "source": []
  }
 ],
 "metadata": {
  "kernelspec": {
   "display_name": "bnp_sensitivity",
   "language": "python",
   "name": "bnp_sensitivity"
  },
  "language_info": {
   "codemirror_mode": {
    "name": "ipython",
    "version": 3
   },
   "file_extension": ".py",
   "mimetype": "text/x-python",
   "name": "python",
   "nbconvert_exporter": "python",
   "pygments_lexer": "ipython3",
   "version": "3.8.0"
  }
 },
 "nbformat": 4,
 "nbformat_minor": 2
}
