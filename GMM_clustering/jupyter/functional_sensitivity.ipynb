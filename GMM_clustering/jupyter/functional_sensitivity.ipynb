{
 "cells": [
  {
   "cell_type": "markdown",
   "metadata": {},
   "source": [
    "This notebook demonstrates use of our linear approximation for a multiplicative functional perturbation "
   ]
  },
  {
   "cell_type": "code",
   "execution_count": 1,
   "metadata": {},
   "outputs": [
    {
     "name": "stderr",
     "output_type": "stream",
     "text": [
      "/home/rliu/anaconda3/envs/bnp_sensitivity_jax/lib/python3.8/site-packages/jax/lib/xla_bridge.py:130: UserWarning: No GPU/TPU found, falling back to CPU.\n",
      "  warnings.warn('No GPU/TPU found, falling back to CPU.')\n"
     ]
    }
   ],
   "source": [
    "import jax\n",
    "from jax import numpy as np\n",
    "from jax import scipy as sp\n",
    "\n",
    "from numpy.polynomial.hermite import hermgauss\n",
    "\n",
    "import paragami\n",
    "\n",
    "# BNP sensitivity libraries\n",
    "import bnpgmm_runjingdev.gmm_clustering_lib as gmm_lib\n",
    "import bnpgmm_runjingdev.gmm_cavi_lib as cavi_lib\n",
    "from bnpgmm_runjingdev import utils_lib\n",
    "\n",
    "from bnpmodeling_runjingdev.sensitivity_lib import HyperparameterSensitivityLinearApproximation\n",
    "import bnpmodeling_runjingdev.functional_sensitivity_lib as func_sens_lib \n",
    "from bnpmodeling_runjingdev import cluster_quantities_lib as cluster_lib\n",
    "\n",
    "\n",
    "import matplotlib.pyplot as plt\n",
    "%matplotlib inline\n",
    "\n",
    "from sklearn.decomposition import PCA\n",
    "\n",
    "from copy import deepcopy\n",
    "\n",
    "import vittles\n",
    "from tqdm import tqdm\n",
    "\n",
    "import json "
   ]
  },
  {
   "cell_type": "code",
   "execution_count": 2,
   "metadata": {},
   "outputs": [],
   "source": [
    "# colors for plotting\n",
    "import matplotlib.cm as cm\n",
    "\n",
    "cmap = cm.get_cmap(name='gist_rainbow')\n",
    "colors1 = [cmap(k * 50) for k in range(12)]\n",
    "colors2 = [cmap(k * 25) for k in range(12)]"
   ]
  },
  {
   "cell_type": "markdown",
   "metadata": {},
   "source": [
    "# Load data"
   ]
  },
  {
   "cell_type": "markdown",
   "metadata": {},
   "source": [
    "We load and plot the iris dataset"
   ]
  },
  {
   "cell_type": "code",
   "execution_count": 3,
   "metadata": {},
   "outputs": [],
   "source": [
    "# load iris data\n",
    "dataset_name = 'iris'\n",
    "features, iris_species = utils_lib.load_data()\n",
    "dim = features.shape[1]\n",
    "n_obs = len(iris_species)    "
   ]
  },
  {
   "cell_type": "code",
   "execution_count": 4,
   "metadata": {},
   "outputs": [
    {
     "data": {
      "text/plain": [
       "Text(0, 0.5, 'PC2')"
      ]
     },
     "execution_count": 4,
     "metadata": {},
     "output_type": "execute_result"
    },
    {
     "data": {
      "image/png": "[encoded data removed]",
      "text/plain": [
       "<Figure size 432x288 with 1 Axes>"
      ]
     },
     "metadata": {
      "needs_background": "light"
     },
     "output_type": "display_data"
    }
   ],
   "source": [
    "# run PCA\n",
    "pca_fit = PCA()\n",
    "pca_fit.fit(features)\n",
    "pc_features = pca_fit.transform(features)\n",
    "\n",
    "# plot\n",
    "cmap = cm.get_cmap(name='gist_rainbow')\n",
    "colors1 = [cmap(k * 50) for k in range(30)]\n",
    "\n",
    "fig1 = plt.figure(1)\n",
    "fig = fig1.add_subplot(111)\n",
    "utils_lib.plot_clusters(pc_features[:, 0], pc_features[:, 1], iris_species, colors1, fig)\n",
    "fig.set_xlabel('PC1')\n",
    "fig.set_ylabel('PC2')\n"
   ]
  },
  {
   "cell_type": "markdown",
   "metadata": {},
   "source": [
    "# Load model"
   ]
  },
  {
   "cell_type": "markdown",
   "metadata": {},
   "source": [
    "### Get prior "
   ]
  },
  {
   "cell_type": "code",
   "execution_count": 5,
   "metadata": {},
   "outputs": [],
   "source": [
    "prior_params_dict, prior_params_paragami = gmm_lib.get_default_prior_params(dim)"
   ]
  },
  {
   "cell_type": "code",
   "execution_count": 6,
   "metadata": {},
   "outputs": [
    {
     "name": "stdout",
     "output_type": "stream",
     "text": [
      "{'alpha': DeviceArray([3.], dtype=float64), 'prior_centroid_mean': DeviceArray([0.], dtype=float64), 'prior_lambda': DeviceArray([1.], dtype=float64), 'prior_wishart_df': DeviceArray([10.], dtype=float64), 'prior_wishart_rate': DeviceArray([[1., 0., 0., 0.],\n",
      "             [0., 1., 0., 0.],\n",
      "             [0., 0., 1., 0.],\n",
      "             [0., 0., 0., 1.]], dtype=float64)}\n"
     ]
    }
   ],
   "source": [
    "print(prior_params_dict)"
   ]
  },
  {
   "cell_type": "code",
   "execution_count": 7,
   "metadata": {},
   "outputs": [],
   "source": [
    "# DP prior parameter \n",
    "prior_params_dict['alpha'] = 12"
   ]
  },
  {
   "cell_type": "markdown",
   "metadata": {},
   "source": [
    "### Variational parameters"
   ]
  },
  {
   "cell_type": "code",
   "execution_count": 8,
   "metadata": {},
   "outputs": [],
   "source": [
    "k_approx = 30"
   ]
  },
  {
   "cell_type": "code",
   "execution_count": 9,
   "metadata": {},
   "outputs": [],
   "source": [
    "# Gauss-Hermite points\n",
    "gh_deg = 20\n",
    "gh_loc, gh_weights = hermgauss(gh_deg)\n"
   ]
  },
  {
   "cell_type": "code",
   "execution_count": 10,
   "metadata": {},
   "outputs": [],
   "source": [
    "# get vb parameters\n",
    "vb_params_dict, vb_params_paragami = gmm_lib.get_vb_params_paragami_object(dim, k_approx)"
   ]
  },
  {
   "cell_type": "code",
   "execution_count": 11,
   "metadata": {},
   "outputs": [
    {
     "data": {
      "text/plain": [
       "DeviceArray(1889.86954163, dtype=float64)"
      ]
     },
     "execution_count": 11,
     "metadata": {},
     "output_type": "execute_result"
    }
   ],
   "source": [
    "# the objective \n",
    "gmm_lib.get_kl(features, vb_params_dict, prior_params_dict, gh_loc, gh_weights)"
   ]
  },
  {
   "cell_type": "code",
   "execution_count": null,
   "metadata": {},
   "outputs": [],
   "source": []
  },
  {
   "cell_type": "markdown",
   "metadata": {},
   "source": [
    "# Optimize"
   ]
  },
  {
   "cell_type": "markdown",
   "metadata": {},
   "source": [
    "### Kmeans"
   ]
  },
  {
   "cell_type": "code",
   "execution_count": 18,
   "metadata": {},
   "outputs": [],
   "source": [
    "n_kmeans_init = 50\n",
    "init_vb_free_params, init_vb_params_dict, init_ez = \\\n",
    "    utils_lib.cluster_and_get_k_means_inits(features, vb_params_paragami, \n",
    "                                                n_kmeans_init = n_kmeans_init, \n",
    "                                                seed = 2391)\n",
    "                                                # seed = 32423)"
   ]
  },
  {
   "cell_type": "markdown",
   "metadata": {},
   "source": [
    "### Run CAVI"
   ]
  },
  {
   "cell_type": "code",
   "execution_count": 19,
   "metadata": {},
   "outputs": [],
   "source": [
    "vb_params_dict = deepcopy(init_vb_params_dict)"
   ]
  },
  {
   "cell_type": "code",
   "execution_count": 20,
   "metadata": {},
   "outputs": [
    {
     "name": "stdout",
     "output_type": "stream",
     "text": [
      "Compiling CAVI update functions ... \n",
      "CAVI compile time: 2.62sec\n",
      "\n",
      "Running CAVI ... \n",
      "done. num iterations = 90\n",
      "stick_time: 0.696sec\n",
      "cluster_time: 0.0308sec\n",
      "e_z_time: 0.0164sec\n",
      "**CAVI time: 0.788sec**\n"
     ]
    }
   ],
   "source": [
    "vb_opt_dict, e_z_opt = cavi_lib.run_cavi(features, vb_params_dict,\n",
    "                                            vb_params_paragami, prior_params_dict,\n",
    "                                            gh_loc, gh_weights,\n",
    "                                            debug = False, \n",
    "                                            x_tol = 1e-3)"
   ]
  },
  {
   "cell_type": "code",
   "execution_count": 21,
   "metadata": {},
   "outputs": [],
   "source": [
    "vb_opt = vb_params_paragami.flatten(vb_opt_dict, free = True)"
   ]
  },
  {
   "cell_type": "code",
   "execution_count": 22,
   "metadata": {},
   "outputs": [],
   "source": [
    "def plot_results_from_vb_params_dict(pca_fit, vb_params_dict, e_z, fig): \n",
    "    # we plot in PCA space\n",
    "    bnp_centroids_pc, bnp_cluster_covs_pc = \\\n",
    "        utils_lib.transform_params_to_pc_space(pca_fit, vb_params_dict['cluster_params']['centroids'], \n",
    "                                               np.linalg.inv(vb_params_dict['cluster_params']['cluster_info']))\n",
    "    \n",
    "    bnp_clusters = np.argmax(e_z, axis = 1)\n",
    "    \n",
    "    cmap = cm.get_cmap(name='gist_rainbow')\n",
    "    colors1 = [cmap(k * 50) for k in range(30)]\n",
    "\n",
    "    utils_lib.plot_clusters(pc_features[:, 0], pc_features[:, 1], bnp_clusters, \\\n",
    "                  colors1, fig, \\\n",
    "                  centroids = bnp_centroids_pc[:, np.unique(bnp_clusters)], \n",
    "                cov = bnp_cluster_covs_pc[np.unique(bnp_clusters), :, :])\n"
   ]
  },
  {
   "cell_type": "code",
   "execution_count": 23,
   "metadata": {},
   "outputs": [
    {
     "data": {
      "image/png": "[encoded data removed]",
      "text/plain": [
       "<Figure size 432x288 with 1 Axes>"
      ]
     },
     "metadata": {
      "needs_background": "light"
     },
     "output_type": "display_data"
    }
   ],
   "source": [
    "# results\n",
    "fig1 = plt.figure(1)\n",
    "fig = fig1.add_subplot(111)\n",
    "\n",
    "plot_results_from_vb_params_dict(pca_fit, vb_opt_dict, e_z_opt, fig)"
   ]
  },
  {
   "cell_type": "markdown",
   "metadata": {},
   "source": [
    "# Define a perturbation in the logit v space."
   ]
  },
  {
   "cell_type": "code",
   "execution_count": 24,
   "metadata": {},
   "outputs": [],
   "source": [
    "def log_phi(logit_v):\n",
    "    return(sp.special.expit(logit_v))\n",
    "\n",
    "def phi(logit_v):\n",
    "    return np.exp(log_phi(logit_v))\n"
   ]
  },
  {
   "cell_type": "code",
   "execution_count": null,
   "metadata": {},
   "outputs": [],
   "source": []
  },
  {
   "cell_type": "code",
   "execution_count": 25,
   "metadata": {},
   "outputs": [
    {
     "name": "stdout",
     "output_type": "stream",
     "text": [
      "phi max:  2.717370405124736\n",
      "log phi max:  0.9996646498695336\n"
     ]
    }
   ],
   "source": [
    "logit_v_grid = np.linspace(-8, 8, 200)\n",
    "\n",
    "v_grid = np.exp(logit_v_grid) / (1 + np.exp(logit_v_grid))\n",
    "\n",
    "print('phi max: ', np.max(phi(logit_v_grid)))\n",
    "log_phi_max = np.max(np.abs(np.log(phi(logit_v_grid))))\n",
    "print('log phi max: ', log_phi_max)\n",
    "\n",
    "def rescaled_log_phi(logit_v):\n",
    "    return 10 * log_phi(logit_v) / log_phi_max\n"
   ]
  },
  {
   "cell_type": "code",
   "execution_count": 26,
   "metadata": {},
   "outputs": [
    {
     "name": "stdout",
     "output_type": "stream",
     "text": [
      "-2.4849066497879995 1.1634968823127931 -2.4889315240780148 1.1662640532746475\n"
     ]
    }
   ],
   "source": [
    "prior_perturbation = func_sens_lib.PriorPerturbation(\n",
    "                                alpha0 = prior_params_dict['alpha'],\n",
    "                                log_phi = rescaled_log_phi, \n",
    "                                logit_v_ub=8, logit_v_lb = -8)\n",
    "\n",
    "print(\n",
    "    prior_perturbation.log_norm_p0,\n",
    "    prior_perturbation.log_norm_pc,\n",
    "    prior_perturbation.log_norm_p0_logit,\n",
    "    prior_perturbation.log_norm_pc_logit)"
   ]
  },
  {
   "cell_type": "code",
   "execution_count": 27,
   "metadata": {},
   "outputs": [
    {
     "data": {
      "text/plain": [
       "Text(0.5, 1.0, 'Priors in logit space')"
      ]
     },
     "execution_count": 27,
     "metadata": {},
     "output_type": "execute_result"
    },
    {
     "data": {
      "image/png": "[encoded data removed]",
      "text/plain": [
       "<Figure size 1296x360 with 4 Axes>"
      ]
     },
     "metadata": {
      "needs_background": "light"
     },
     "output_type": "display_data"
    }
   ],
   "source": [
    "prior_perturbation.set_epsilon(1.0)\n",
    "\n",
    "plt.figure(1, figsize=(18, 5))\n",
    "\n",
    "plt.subplot(141)\n",
    "plt.plot(logit_v_grid, prior_perturbation.get_log_p0_logit(logit_v_grid))\n",
    "plt.plot(logit_v_grid, prior_perturbation.get_log_pc_logit(logit_v_grid))\n",
    "plt.title('Log priors in logit space')\n",
    "\n",
    "plt.subplot(142)\n",
    "plt.plot(logit_v_grid, prior_perturbation.log_phi(logit_v_grid))\n",
    "plt.title('log phi in logit space')\n",
    "\n",
    "plt.subplot(143)\n",
    "plt.plot(v_grid, np.exp(prior_perturbation.get_log_p0(v_grid)))\n",
    "plt.plot(v_grid, np.exp(prior_perturbation.get_log_pc(v_grid)))\n",
    "plt.title('Priors in stick space')\n",
    "\n",
    "plt.subplot(144)\n",
    "plt.plot(logit_v_grid, np.exp(prior_perturbation.get_log_p0_logit(logit_v_grid)))\n",
    "plt.plot(logit_v_grid, np.exp(prior_perturbation.get_log_pc_logit(logit_v_grid)))\n",
    "plt.title('Priors in logit space')\n"
   ]
  },
  {
   "cell_type": "code",
   "execution_count": null,
   "metadata": {},
   "outputs": [],
   "source": []
  },
  {
   "cell_type": "code",
   "execution_count": 28,
   "metadata": {},
   "outputs": [],
   "source": [
    "log_prior_pert = lambda logit_v : rescaled_log_phi(logit_v) - prior_perturbation.log_norm_pc_logit"
   ]
  },
  {
   "cell_type": "markdown",
   "metadata": {
    "collapsed": true
   },
   "source": [
    "# Define prior perturbation"
   ]
  },
  {
   "cell_type": "code",
   "execution_count": 29,
   "metadata": {},
   "outputs": [],
   "source": [
    "# we will use this for the sensitivity class\n",
    "get_epsilon_vb_loss = paragami.FlattenFunctionInput(\n",
    "    lambda params, epsilon: gmm_lib.get_perturbed_kl(\n",
    "                                                        features, \n",
    "                                                        params,\n",
    "                                                        epsilon,\n",
    "                                                        log_prior_pert,\n",
    "                                                        prior_params_dict, \n",
    "                                                        gh_loc, gh_weights),\n",
    "    argnums=0, patterns=vb_params_paragami, free=True)\n",
    "\n",
    "def get_e_log_perturbation(log_phi, vb_params_dict, epsilon, gh_loc, gh_weights): \n",
    "    return func_sens_lib.get_e_log_perturbation(log_phi,\n",
    "                            vb_params_dict['stick_params']['stick_propn_mean'],\n",
    "                            vb_params_dict['stick_params']['stick_propn_info'],\n",
    "                            epsilon, gh_loc, gh_weights, sum_vector=True)\n",
    "\n",
    "\n",
    "hyper_par_objective_fun = paragami.FlattenFunctionInput(\n",
    "    lambda params, epsilon: get_e_log_perturbation(log_prior_pert, \n",
    "                                                    params,\n",
    "                                                    epsilon,\n",
    "                                                    gh_loc, gh_weights),\n",
    "    argnums=0, patterns=vb_params_paragami, free=True)"
   ]
  },
  {
   "cell_type": "code",
   "execution_count": 30,
   "metadata": {},
   "outputs": [],
   "source": [
    "epsilon0 = np.array([0.])"
   ]
  },
  {
   "cell_type": "code",
   "execution_count": 31,
   "metadata": {},
   "outputs": [
    {
     "name": "stdout",
     "output_type": "stream",
     "text": [
      "Compiling objective function derivatives ... \n",
      "Compile time: 14.7sec\n",
      "\n",
      "Objective function derivative time: 0.000787sec\n",
      "\n",
      "Linear system compile time: 0.862sec\n",
      "Linear system time: 0.000454sec\n"
     ]
    }
   ],
   "source": [
    "epsilon_sens = \\\n",
    "    HyperparameterSensitivityLinearApproximation(\n",
    "        objective_fun = get_epsilon_vb_loss, \n",
    "        opt_par_value = vb_opt, \n",
    "        hyper_par_value0 = epsilon0, \n",
    "        hyper_par_objective_fun = hyper_par_objective_fun, \n",
    "        )"
   ]
  },
  {
   "cell_type": "code",
   "execution_count": null,
   "metadata": {},
   "outputs": [],
   "source": []
  },
  {
   "cell_type": "markdown",
   "metadata": {},
   "source": [
    "## Fit with perturbation"
   ]
  },
  {
   "cell_type": "code",
   "execution_count": 32,
   "metadata": {},
   "outputs": [
    {
     "name": "stdout",
     "output_type": "stream",
     "text": [
      "Epsilon:  1.0\n",
      "Predicted differences:  3.993494478325832\n"
     ]
    }
   ],
   "source": [
    "epsilon = 1.0 \n",
    "print('Epsilon: ', epsilon)\n",
    "\n",
    "vb_pert_pred = epsilon_sens.predict_opt_par_from_hyper_par(epsilon)\n",
    "\n",
    "print('Predicted differences: ', np.linalg.norm(vb_pert_pred - vb_opt))"
   ]
  },
  {
   "cell_type": "code",
   "execution_count": 33,
   "metadata": {
    "scrolled": true
   },
   "outputs": [],
   "source": [
    "vb_pert_pred_dict = vb_params_paragami.fold(vb_pert_pred, free = True)\n",
    "e_z_pert_pred = gmm_lib.get_optimal_z_from_vb_params_dict(\n",
    "    features, vb_pert_pred_dict, gh_loc, gh_weights)"
   ]
  },
  {
   "cell_type": "code",
   "execution_count": 34,
   "metadata": {},
   "outputs": [],
   "source": [
    "new_init_dict = deepcopy(vb_opt_dict)\n",
    "new_init_free = vb_params_paragami.flatten(new_init_dict, free = True)"
   ]
  },
  {
   "cell_type": "code",
   "execution_count": 35,
   "metadata": {
    "scrolled": false
   },
   "outputs": [
    {
     "name": "stdout",
     "output_type": "stream",
     "text": [
      "Compiling CAVI update functions ... \n",
      "CAVI compile time: 2.76sec\n",
      "\n",
      "Running CAVI ... \n",
      "done. num iterations = 84\n",
      "stick_time: 0.634sec\n",
      "cluster_time: 0.0293sec\n",
      "e_z_time: 0.0161sec\n",
      "**CAVI time: 0.721sec**\n"
     ]
    }
   ],
   "source": [
    "vb_pert_dict, e_z_pert = cavi_lib.run_cavi(features, deepcopy(new_init_dict),\n",
    "                                        vb_params_paragami, prior_params_dict,\n",
    "                                        gh_loc, gh_weights,\n",
    "                                        log_phi = rescaled_log_phi, epsilon = epsilon, \n",
    "                                       debug = False)\n",
    "\n",
    "vb_pert_opt = vb_params_paragami.flatten(vb_pert_dict, free = True)"
   ]
  },
  {
   "cell_type": "code",
   "execution_count": 36,
   "metadata": {},
   "outputs": [],
   "source": [
    "vb_pert_opt_dict = vb_params_paragami.fold(vb_pert_opt, free = True)\n",
    "e_z_pert_opt = gmm_lib.get_optimal_z_from_vb_params_dict(features, vb_pert_opt_dict, gh_loc, gh_weights)"
   ]
  },
  {
   "cell_type": "code",
   "execution_count": 37,
   "metadata": {},
   "outputs": [
    {
     "name": "stdout",
     "output_type": "stream",
     "text": [
      "Epsilon: 1.0\n"
     ]
    },
    {
     "data": {
      "text/plain": [
       "[<matplotlib.lines.Line2D at 0x7fb63cb4eac0>]"
      ]
     },
     "execution_count": 37,
     "metadata": {},
     "output_type": "execute_result"
    },
    {
     "data": {
      "image/png": "[encoded data removed]",
      "text/plain": [
       "<Figure size 432x288 with 1 Axes>"
      ]
     },
     "metadata": {
      "needs_background": "light"
     },
     "output_type": "display_data"
    }
   ],
   "source": [
    "print('Epsilon:', epsilon)\n",
    "\n",
    "plt.figure()\n",
    "plt.subplot(1, 2, 1)\n",
    "plt.plot(vb_pert_opt - vb_opt, vb_pert_pred - vb_opt, 'k.')\n",
    "plt.plot(vb_pert_opt - vb_opt, vb_pert_opt - vb_opt, 'r')\n"
   ]
  },
  {
   "cell_type": "code",
   "execution_count": 38,
   "metadata": {},
   "outputs": [
    {
     "name": "stdout",
     "output_type": "stream",
     "text": [
      "original expected number of clusters:  11.886850337989527\n",
      "perturbed expected number of clusters:  10.309336992663326\n",
      "predicted expected number of clusters:  10.295907604303007\n"
     ]
    }
   ],
   "source": [
    "print('original expected number of clusters: ',\n",
    "    cluster_lib.get_e_number_clusters_from_logit_sticks(vb_opt_dict['stick_params']['stick_propn_mean'], \n",
    "                                                        vb_opt_dict['stick_params']['stick_propn_info'], \n",
    "                                                        n_obs = 150, \n",
    "                                                        n_samples = 10000, \n",
    "                                                        rng_key = jax.random.PRNGKey(1)))\n",
    "\n",
    "print('perturbed expected number of clusters: ',\n",
    "    cluster_lib.get_e_number_clusters_from_logit_sticks(vb_pert_opt_dict['stick_params']['stick_propn_mean'], \n",
    "                                                        vb_pert_opt_dict['stick_params']['stick_propn_info'], \n",
    "                                                        n_obs = 150, \n",
    "                                                        n_samples = 10000, \n",
    "                                                        rng_key = jax.random.PRNGKey(1)))\n",
    "\n",
    "print('predicted expected number of clusters: ',\n",
    "    cluster_lib.get_e_number_clusters_from_logit_sticks(vb_pert_pred_dict['stick_params']['stick_propn_mean'], \n",
    "                                                        vb_pert_pred_dict['stick_params']['stick_propn_info'], \n",
    "                                                        n_obs = 150, \n",
    "                                                        n_samples = 10000, \n",
    "                                                        rng_key = jax.random.PRNGKey(1)))\n",
    "\n",
    "\n",
    "      "
   ]
  },
  {
   "cell_type": "code",
   "execution_count": null,
   "metadata": {},
   "outputs": [],
   "source": []
  },
  {
   "cell_type": "markdown",
   "metadata": {
    "collapsed": true
   },
   "source": [
    "# Predict for a range of perturbations"
   ]
  },
  {
   "cell_type": "code",
   "execution_count": 39,
   "metadata": {},
   "outputs": [
    {
     "name": "stdout",
     "output_type": "stream",
     "text": [
      "[0.         0.00826446 0.03305785 0.07438017 0.1322314  0.20661157\n",
      " 0.29752066 0.40495868 0.52892562 0.66942149 0.82644628 1.        ]\n"
     ]
    }
   ],
   "source": [
    "# The range of epsilons we shall consider\n",
    "epsilon_vec = np.linspace(0, 1, 12) ** 2 # Square to get more points close to 0\n",
    "print(epsilon_vec)"
   ]
  },
  {
   "cell_type": "code",
   "execution_count": 40,
   "metadata": {},
   "outputs": [],
   "source": [
    "def refit_with_epsilon(epsilon, new_init_dict):\n",
    "    # sets new epsilon, returns new vb optimum\n",
    "\n",
    "    vb_pert_dict, e_z_pert = cavi_lib.run_cavi(features, deepcopy(new_init_dict),\n",
    "                                        vb_params_paragami, prior_params_dict,\n",
    "                                        gh_loc, gh_weights,\n",
    "                                        log_phi = rescaled_log_phi, epsilon = epsilon, \n",
    "                                       debug = False)\n",
    "    \n",
    "    return vb_params_paragami.flatten(vb_pert_dict, free = True)"
   ]
  },
  {
   "cell_type": "code",
   "execution_count": 41,
   "metadata": {},
   "outputs": [],
   "source": [
    "best_param_phi_array = []\n",
    "best_param_phi_pred_array = []"
   ]
  },
  {
   "cell_type": "code",
   "execution_count": 42,
   "metadata": {
    "scrolled": false
   },
   "outputs": [
    {
     "name": "stdout",
     "output_type": "stream",
     "text": [
      "\n",
      "\n",
      "Epsilon:  0.0\n",
      "Predicted differences:  0.0\n",
      "Compiling CAVI update functions ... \n",
      "CAVI compile time: 2.81sec\n",
      "\n",
      "Running CAVI ... \n",
      "done. num iterations = 3\n",
      "stick_time: 0.0336sec\n",
      "cluster_time: 0.0014sec\n",
      "e_z_time: 0.00102sec\n",
      "**CAVI time: 0.0384sec**\n",
      "Done. \n",
      "Predicted differences:  0.0\n",
      "Actual differences: (This is nonzero if phi did anything): 0.003347526264107196\n",
      "\n",
      "\n",
      "Epsilon:  0.008264462809917356\n",
      "Predicted differences:  0.033004086597734156\n",
      "Compiling CAVI update functions ... \n",
      "CAVI compile time: 2.79sec\n",
      "\n",
      "Running CAVI ... \n",
      "done. num iterations = 5\n",
      "stick_time: 0.0452sec\n",
      "cluster_time: 0.00207sec\n",
      "e_z_time: 0.00138sec\n",
      "**CAVI time: 0.0519sec**\n",
      "Done. \n",
      "Predicted differences:  0.033004086597734156\n",
      "Actual differences: (This is nonzero if phi did anything): 0.019348249232552364\n",
      "\n",
      "\n",
      "Epsilon:  0.03305785123966942\n",
      "Predicted differences:  0.13201634639093676\n",
      "Compiling CAVI update functions ... \n",
      "CAVI compile time: 3.21sec\n",
      "\n",
      "Running CAVI ... \n",
      "done. num iterations = 17\n",
      "stick_time: 0.134sec\n",
      "cluster_time: 0.00588sec\n",
      "e_z_time: 0.00358sec\n",
      "**CAVI time: 0.152sec**\n",
      "Done. \n",
      "Predicted differences:  0.13201634639093676\n",
      "Actual differences: (This is nonzero if phi did anything): 0.11066884288215785\n",
      "\n",
      "\n",
      "Epsilon:  0.07438016528925619\n",
      "Predicted differences:  0.29703677937960726\n",
      "Compiling CAVI update functions ... \n",
      "CAVI compile time: 2.93sec\n",
      "\n",
      "Running CAVI ... \n",
      "done. num iterations = 33\n",
      "stick_time: 0.273sec\n",
      "cluster_time: 0.0119sec\n",
      "e_z_time: 0.00651sec\n",
      "**CAVI time: 0.31sec**\n",
      "Done. \n",
      "Predicted differences:  0.29703677937960726\n",
      "Actual differences: (This is nonzero if phi did anything): 0.2797461891991635\n",
      "\n",
      "\n",
      "Epsilon:  0.1322314049586777\n",
      "Predicted differences:  0.5280653855637464\n",
      "Compiling CAVI update functions ... \n",
      "CAVI compile time: 2.91sec\n",
      "\n",
      "Running CAVI ... \n",
      "done. num iterations = 44\n",
      "stick_time: 0.372sec\n",
      "cluster_time: 0.0188sec\n",
      "e_z_time: 0.00968sec\n",
      "**CAVI time: 0.426sec**\n",
      "Done. \n",
      "Predicted differences:  0.5280653855637464\n",
      "Actual differences: (This is nonzero if phi did anything): 0.5222551839916422\n",
      "\n",
      "\n",
      "Epsilon:  0.20661157024793386\n",
      "Predicted differences:  0.8251021649433533\n",
      "Compiling CAVI update functions ... \n",
      "CAVI compile time: 3.44sec\n",
      "\n",
      "Running CAVI ... \n",
      "done. num iterations = 52\n",
      "stick_time: 0.59sec\n",
      "cluster_time: 0.0261sec\n",
      "e_z_time: 0.0143sec\n",
      "**CAVI time: 0.669sec**\n",
      "Done. \n",
      "Predicted differences:  0.8251021649433533\n",
      "Actual differences: (This is nonzero if phi did anything): 0.8444837957132033\n",
      "\n",
      "\n",
      "Epsilon:  0.29752066115702475\n",
      "Predicted differences:  1.188147117518429\n",
      "Compiling CAVI update functions ... \n",
      "CAVI compile time: 3.29sec\n",
      "\n",
      "Running CAVI ... \n",
      "done. num iterations = 50\n",
      "stick_time: 0.506sec\n",
      "cluster_time: 0.0231sec\n",
      "e_z_time: 0.0126sec\n",
      "**CAVI time: 0.575sec**\n",
      "Done. \n",
      "Predicted differences:  1.188147117518429\n",
      "Actual differences: (This is nonzero if phi did anything): 1.2510223951707495\n",
      "\n",
      "\n",
      "Epsilon:  0.4049586776859504\n",
      "Predicted differences:  1.6172002432889732\n",
      "Compiling CAVI update functions ... \n",
      "CAVI compile time: 3.56sec\n",
      "\n",
      "Running CAVI ... \n",
      "done. num iterations = 67\n",
      "stick_time: 0.667sec\n",
      "cluster_time: 0.0303sec\n",
      "e_z_time: 0.0167sec\n",
      "**CAVI time: 0.758sec**\n",
      "Done. \n",
      "Predicted differences:  1.6172002432889732\n",
      "Actual differences: (This is nonzero if phi did anything): 1.7713786046612423\n",
      "\n",
      "\n",
      "Epsilon:  0.5289256198347108\n",
      "Predicted differences:  2.1122615422549855\n",
      "Compiling CAVI update functions ... \n",
      "CAVI compile time: 3.6sec\n",
      "\n",
      "Running CAVI ... \n",
      "done. num iterations = 65\n",
      "stick_time: 0.643sec\n",
      "cluster_time: 0.0291sec\n",
      "e_z_time: 0.016sec\n",
      "**CAVI time: 0.731sec**\n",
      "Done. \n",
      "Predicted differences:  2.1122615422549855\n",
      "Actual differences: (This is nonzero if phi did anything): 2.407878784996036\n",
      "\n",
      "\n",
      "Epsilon:  0.6694214876033059\n",
      "Predicted differences:  2.6733310144164664\n",
      "Compiling CAVI update functions ... \n",
      "CAVI compile time: 3.45sec\n",
      "\n",
      "Running CAVI ... \n",
      "done. num iterations = 85\n",
      "stick_time: 0.841sec\n",
      "cluster_time: 0.037sec\n",
      "e_z_time: 0.0205sec\n",
      "**CAVI time: 0.954sec**\n",
      "Done. \n",
      "Predicted differences:  2.6733310144164664\n",
      "Actual differences: (This is nonzero if phi did anything): 3.2013982894019244\n",
      "\n",
      "\n",
      "Epsilon:  0.8264462809917354\n",
      "Predicted differences:  3.300408659773414\n",
      "Compiling CAVI update functions ... \n",
      "CAVI compile time: 3.24sec\n",
      "\n",
      "Running CAVI ... \n",
      "done. num iterations = 76\n",
      "stick_time: 0.751sec\n",
      "cluster_time: 0.0358sec\n",
      "e_z_time: 0.0187sec\n",
      "**CAVI time: 0.855sec**\n",
      "Done. \n",
      "Predicted differences:  3.300408659773414\n",
      "Actual differences: (This is nonzero if phi did anything): 4.175988377429207\n",
      "\n",
      "\n",
      "Epsilon:  1.0\n",
      "Predicted differences:  3.993494478325832\n",
      "Compiling CAVI update functions ... \n",
      "CAVI compile time: 3.24sec\n",
      "\n",
      "Running CAVI ... \n",
      "done. num iterations = 84\n",
      "stick_time: 0.825sec\n",
      "cluster_time: 0.0375sec\n",
      "e_z_time: 0.0206sec\n",
      "**CAVI time: 0.938sec**\n",
      "Done. \n",
      "Predicted differences:  3.993494478325832\n",
      "Actual differences: (This is nonzero if phi did anything): 5.3685248665058\n"
     ]
    }
   ],
   "source": [
    "vb_pert_opt_array = []\n",
    "vb_pert_pred_array = []\n",
    "\n",
    "\n",
    "for i in range(len(epsilon_vec)): \n",
    "    epsilon = epsilon_vec[i]\n",
    "    print('\\n\\nEpsilon: ', epsilon)\n",
    "    \n",
    "    # get linear predictions\n",
    "    vb_pert_pred = \\\n",
    "        epsilon_sens.predict_opt_par_from_hyper_par(epsilon)\n",
    "\n",
    "    print('Predicted differences: ', np.linalg.norm(vb_pert_pred - vb_opt))\n",
    "    \n",
    "    # Then fit with the perturbation.\n",
    "    vb_pert_opt = refit_with_epsilon(epsilon, new_init_dict)\n",
    "    \n",
    "    print('Done. ')\n",
    "\n",
    "    print('Predicted differences: ', np.linalg.norm(vb_pert_pred - vb_opt))\n",
    "    print('Actual differences:',\n",
    "          np.linalg.norm(vb_pert_opt - vb_opt))\n",
    "    \n",
    "    # save results: \n",
    "    vb_pert_opt_array.append(vb_pert_opt)\n",
    "    vb_pert_pred_array.append(vb_pert_pred)\n",
    "    \n"
   ]
  },
  {
   "cell_type": "markdown",
   "metadata": {},
   "source": [
    "# Lets look at the expected number of clusters"
   ]
  },
  {
   "cell_type": "markdown",
   "metadata": {},
   "source": [
    "### Number of in sample clusters"
   ]
  },
  {
   "cell_type": "code",
   "execution_count": 48,
   "metadata": {},
   "outputs": [],
   "source": [
    "import numpy as onp"
   ]
  },
  {
   "cell_type": "code",
   "execution_count": 49,
   "metadata": {},
   "outputs": [
    {
     "name": "stderr",
     "output_type": "stream",
     "text": [
      "100%|██████████| 12/12 [00:20<00:00,  1.71s/it]\n"
     ]
    }
   ],
   "source": [
    "threshold = 0\n",
    "\n",
    "lr_e_num_clusters_vec = onp.zeros(len(epsilon_vec))\n",
    "refit_e_num_clusters_vec = onp.zeros(len(epsilon_vec))\n",
    "\n",
    "for i in tqdm(range(len(epsilon_vec))): \n",
    "    # number of clusters as predicted by linear response\n",
    "    lr_e_num_clusters, _ = gmm_lib.get_e_num_clusters_from_free_par(\n",
    "        features, vb_params_paragami, \n",
    "        vb_pert_pred_array[i],\n",
    "        gh_loc, gh_weights,\n",
    "        threshold = threshold,\n",
    "        n_samples = 10000, \n",
    "        rng_key = jax.random.PRNGKey(12))\n",
    "    \n",
    "    lr_e_num_clusters_vec[i] = lr_e_num_clusters\n",
    "    \n",
    "    # number of clusters after refitting \n",
    "    refit_e_num_clusters, _ = gmm_lib.get_e_num_clusters_from_free_par(\n",
    "        features, vb_params_paragami, \n",
    "        vb_pert_opt_array[i],\n",
    "        gh_loc, gh_weights,\n",
    "        threshold = threshold,\n",
    "        n_samples = 10000, \n",
    "        rng_key = jax.random.PRNGKey(12))\n",
    "    \n",
    "    refit_e_num_clusters_vec[i] = refit_e_num_clusters\n",
    "    \n"
   ]
  },
  {
   "cell_type": "code",
   "execution_count": 50,
   "metadata": {},
   "outputs": [
    {
     "data": {
      "text/plain": [
       "<matplotlib.legend.Legend at 0x7fb636eeed30>"
      ]
     },
     "execution_count": 50,
     "metadata": {},
     "output_type": "execute_result"
    },
    {
     "data": {
      "image/png": "[encoded data removed]",
      "text/plain": [
       "<Figure size 432x288 with 1 Axes>"
      ]
     },
     "metadata": {
      "needs_background": "light"
     },
     "output_type": "display_data"
    }
   ],
   "source": [
    "plt.plot(epsilon_vec, lr_e_num_clusters_vec, '+--')\n",
    "plt.plot(epsilon_vec, refit_e_num_clusters_vec, '+-')\n",
    "\n",
    "plt.xlabel('epsilon')\n",
    "plt.ylabel('num posterior clusters')\n",
    "plt.legend(('lr', 'refit'))\n"
   ]
  },
  {
   "cell_type": "markdown",
   "metadata": {},
   "source": [
    "### Number of predicted clusters"
   ]
  },
  {
   "cell_type": "code",
   "execution_count": 51,
   "metadata": {},
   "outputs": [
    {
     "name": "stderr",
     "output_type": "stream",
     "text": [
      "100%|██████████| 12/12 [00:04<00:00,  2.56it/s]\n"
     ]
    }
   ],
   "source": [
    "threshold = 0\n",
    "\n",
    "lr_e_num_pred_clusters_vec = onp.zeros(len(epsilon_vec))\n",
    "refit_e_num_pred_clusters_vec = onp.zeros(len(epsilon_vec))\n",
    "\n",
    "for i in tqdm(range(len(epsilon_vec))): \n",
    "     # number of clusters as predicted by linear response\n",
    "    lr_e_num_pred_clusters = gmm_lib.get_e_num_pred_clusters_from_vb_free_params(\n",
    "        vb_params_paragami, \n",
    "        vb_pert_pred_array[i],\n",
    "        n_obs = np.shape(features)[0], \n",
    "        threshold = threshold,\n",
    "        n_samples = 10000, \n",
    "        rng_key = jax.random.PRNGKey(12))\n",
    "    \n",
    "    lr_e_num_pred_clusters_vec[i] = lr_e_num_pred_clusters\n",
    "    \n",
    "    # number of clusters after refitting \n",
    "    refit_e_num_pred_clusters = gmm_lib.get_e_num_pred_clusters_from_vb_free_params(\n",
    "        vb_params_paragami, \n",
    "        vb_pert_opt_array[i],\n",
    "        n_obs = np.shape(features)[0], \n",
    "        threshold = threshold,\n",
    "        n_samples = 10000, \n",
    "        rng_key = jax.random.PRNGKey(12))\n",
    "    \n",
    "    refit_e_num_pred_clusters_vec[i] = refit_e_num_pred_clusters\n",
    "    \n"
   ]
  },
  {
   "cell_type": "code",
   "execution_count": 52,
   "metadata": {},
   "outputs": [
    {
     "data": {
      "text/plain": [
       "<matplotlib.legend.Legend at 0x7fb636c2a820>"
      ]
     },
     "execution_count": 52,
     "metadata": {},
     "output_type": "execute_result"
    },
    {
     "data": {
      "image/png": "[encoded data removed]",
      "text/plain": [
       "<Figure size 432x288 with 1 Axes>"
      ]
     },
     "metadata": {
      "needs_background": "light"
     },
     "output_type": "display_data"
    }
   ],
   "source": [
    "plt.plot(epsilon_vec, lr_e_num_pred_clusters_vec, '+--')\n",
    "plt.plot(epsilon_vec, refit_e_num_pred_clusters_vec, '+-')\n",
    "\n",
    "plt.xlabel('alpha')\n",
    "plt.ylabel('num posterior clusters')\n",
    "plt.legend(('lr', 'refit'))"
   ]
  },
  {
   "cell_type": "code",
   "execution_count": null,
   "metadata": {},
   "outputs": [],
   "source": []
  },
  {
   "cell_type": "code",
   "execution_count": null,
   "metadata": {},
   "outputs": [],
   "source": []
  },
  {
   "cell_type": "code",
   "execution_count": null,
   "metadata": {},
   "outputs": [],
   "source": []
  }
 ],
 "metadata": {
  "kernelspec": {
   "display_name": "bnp_sensitivity_jax",
   "language": "python",
   "name": "bnp_sensitivity_jax"
  },
  "language_info": {
   "codemirror_mode": {
    "name": "ipython",
    "version": 3
   },
   "file_extension": ".py",
   "mimetype": "text/x-python",
   "name": "python",
   "nbconvert_exporter": "python",
   "pygments_lexer": "ipython3",
   "version": "3.8.0"
  }
 },
 "nbformat": 4,
 "nbformat_minor": 2
}
