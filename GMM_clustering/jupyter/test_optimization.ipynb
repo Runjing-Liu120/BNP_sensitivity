{
 "cells": [
  {
   "cell_type": "code",
   "execution_count": 1,
   "metadata": {},
   "outputs": [
    {
     "name": "stderr",
     "output_type": "stream",
     "text": [
      "/home/rliu/anaconda3/envs/bnp_sensitivity/lib/python3.8/site-packages/autograd/core.py:290: UserWarning: \n",
      "The defvjp method is deprecated. See the update guide and tutorial:\n",
      "https://github.com/HIPS/autograd/blob/master/docs/updateguide.md\n",
      "https://github.com/HIPS/autograd/blob/master/docs/tutorial.md\n",
      "  warnings.warn(deprecation_msg)\n"
     ]
    }
   ],
   "source": [
    "import autograd\n",
    "from autograd import numpy as np\n",
    "from autograd import scipy as sp\n",
    "\n",
    "from numpy.polynomial.hermite import hermgauss\n",
    "\n",
    "np.random.seed(453453)\n",
    "\n",
    "import paragami\n",
    "\n",
    "# BNP sensitivity libraries\n",
    "import sys\n",
    "# sys.path.insert(0, '../libraries/')\n",
    "# sys.path.insert(0, '../../BNP_modeling/')\n",
    "\n",
    "import bnpgmm_runjingdev.gmm_clustering_lib as gmm_lib\n",
    "import bnpgmm_runjingdev.utils_lib as utils_lib\n",
    "import bnpgmm_runjingdev.gmm_cavi_lib as cavi_lib\n",
    "import bnpgmm_runjingdev.simulation_lib as simulation_lib\n",
    "\n",
    "\n",
    "import bnpmodeling_runjingdev.modeling_lib as modeling_lib \n",
    "import bnpmodeling_runjingdev.cluster_quantities_lib as cluster_lib\n",
    "import bnpmodeling_runjingdev.optimization_lib as optimization_lib\n",
    "\n",
    "import matplotlib.pyplot as plt\n",
    "%matplotlib inline\n",
    "import matplotlib.cm as cm\n",
    "\n",
    "from sklearn.decomposition import PCA\n",
    "\n",
    "from copy import deepcopy\n",
    "\n",
    "import vittles\n",
    "\n",
    "import json "
   ]
  },
  {
   "cell_type": "markdown",
   "metadata": {},
   "source": [
    "# Load data"
   ]
  },
  {
   "cell_type": "markdown",
   "metadata": {},
   "source": [
    "We load and plot the iris dataset"
   ]
  },
  {
   "cell_type": "code",
   "execution_count": 2,
   "metadata": {},
   "outputs": [],
   "source": [
    "use_iris_data = True"
   ]
  },
  {
   "cell_type": "code",
   "execution_count": 3,
   "metadata": {},
   "outputs": [],
   "source": [
    "if use_iris_data: \n",
    "    # load iris data\n",
    "    dataset_name = 'iris'\n",
    "    features, iris_species = utils_lib.load_data()\n",
    "    dim = features.shape[1]\n",
    "    n_obs = len(iris_species)    \n",
    "else: \n",
    "    dim = 4\n",
    "    n_obs = 500\n",
    "    true_k = 4\n",
    "    features, true_z = simulation_lib.simulate_data(n_obs, dim,\n",
    "                true_k, separation=0.2)[0:2]\n",
    "    \n",
    "    iris_species = np.argmax(true_z, 1)"
   ]
  },
  {
   "cell_type": "code",
   "execution_count": 4,
   "metadata": {},
   "outputs": [
    {
     "data": {
      "text/plain": [
       "Text(0, 0.5, 'PC2')"
      ]
     },
     "execution_count": 4,
     "metadata": {},
     "output_type": "execute_result"
    },
    {
     "data": {
      "image/png": "[encoded data removed]",
      "text/plain": [
       "<Figure size 432x288 with 1 Axes>"
      ]
     },
     "metadata": {
      "needs_background": "light"
     },
     "output_type": "display_data"
    }
   ],
   "source": [
    "# run PCA\n",
    "pca_fit = PCA()\n",
    "pca_fit.fit(features)\n",
    "pc_features = pca_fit.transform(features)\n",
    "\n",
    "# plot\n",
    "cmap = cm.get_cmap(name='gist_rainbow')\n",
    "colors1 = [cmap(k * 50) for k in range(30)]\n",
    "\n",
    "fig1 = plt.figure(1)\n",
    "fig = fig1.add_subplot(111)\n",
    "utils_lib.plot_clusters(pc_features[:, 0], pc_features[:, 1], iris_species, colors1, fig)\n",
    "fig.set_xlabel('PC1')\n",
    "fig.set_ylabel('PC2')\n"
   ]
  },
  {
   "cell_type": "markdown",
   "metadata": {},
   "source": [
    "# Set up model"
   ]
  },
  {
   "cell_type": "markdown",
   "metadata": {},
   "source": [
    "### Prior parameters"
   ]
  },
  {
   "cell_type": "code",
   "execution_count": 5,
   "metadata": {},
   "outputs": [
    {
     "name": "stdout",
     "output_type": "stream",
     "text": [
      "{'alpha': array([3.]), 'prior_centroid_mean': array([0.]), 'prior_lambda': array([1.]), 'prior_wishart_df': array([10.]), 'prior_wishart_rate': array([[1., 0., 0., 0.],\n",
      "       [0., 1., 0., 0.],\n",
      "       [0., 0., 1., 0.],\n",
      "       [0., 0., 0., 1.]])}\n"
     ]
    }
   ],
   "source": [
    "# Get priors\n",
    "prior_params_dict, prior_params_paragami = gmm_lib.get_default_prior_params(dim)\n",
    "\n",
    "print(prior_params_dict)"
   ]
  },
  {
   "cell_type": "markdown",
   "metadata": {},
   "source": [
    "### Variational parameters"
   ]
  },
  {
   "cell_type": "code",
   "execution_count": 6,
   "metadata": {},
   "outputs": [],
   "source": [
    "# number of clusters in variational distribution \n",
    "k_approx = 30"
   ]
  },
  {
   "cell_type": "code",
   "execution_count": 7,
   "metadata": {},
   "outputs": [],
   "source": [
    "# Gauss-Hermite points for integrating logitnormal stick-breaking prior\n",
    "gh_deg = 8\n",
    "gh_loc, gh_weights = hermgauss(gh_deg)"
   ]
  },
  {
   "cell_type": "code",
   "execution_count": 8,
   "metadata": {},
   "outputs": [],
   "source": [
    "# get vb parameters\n",
    "vb_params_dict, vb_params_paragami = gmm_lib.get_vb_params_paragami_object(dim, k_approx)"
   ]
  },
  {
   "cell_type": "code",
   "execution_count": 9,
   "metadata": {},
   "outputs": [
    {
     "data": {
      "text/plain": [
       "1731.7713604176683"
      ]
     },
     "execution_count": 9,
     "metadata": {},
     "output_type": "execute_result"
    }
   ],
   "source": [
    "# the objective \n",
    "gmm_lib.get_kl(features, vb_params_dict, prior_params_dict, gh_loc, gh_weights)"
   ]
  },
  {
   "cell_type": "code",
   "execution_count": null,
   "metadata": {},
   "outputs": [],
   "source": []
  },
  {
   "cell_type": "markdown",
   "metadata": {},
   "source": [
    "# Optimize the KL objective"
   ]
  },
  {
   "cell_type": "markdown",
   "metadata": {},
   "source": [
    "### Initialize with k-means"
   ]
  },
  {
   "cell_type": "code",
   "execution_count": 10,
   "metadata": {},
   "outputs": [],
   "source": [
    "run_kmeans_init = True"
   ]
  },
  {
   "cell_type": "code",
   "execution_count": 11,
   "metadata": {},
   "outputs": [],
   "source": [
    "if run_kmeans_init: \n",
    "    # run a kmeans init\n",
    "    n_kmeans_init = 50\n",
    "    init_vb_free_params, init_vb_params_dict, init_ez = \\\n",
    "        utils_lib.cluster_and_get_k_means_inits(features, vb_params_paragami, \n",
    "                                                    n_kmeans_init = n_kmeans_init, \n",
    "                                                  seed = 769)\n",
    "else: \n",
    "    init_vb_params_dict = vb_params_paragami.random()\n",
    "    init_vb_free_params = vb_params_paragami.flatten(init_vb_params_dict, free = True)"
   ]
  },
  {
   "cell_type": "code",
   "execution_count": null,
   "metadata": {},
   "outputs": [],
   "source": []
  },
  {
   "cell_type": "code",
   "execution_count": 12,
   "metadata": {},
   "outputs": [
    {
     "name": "stdout",
     "output_type": "stream",
     "text": [
      "initial kl: \n",
      "4378.381543848545\n"
     ]
    }
   ],
   "source": [
    "print('initial kl: ')\n",
    "print(gmm_lib.get_kl(features, init_vb_params_dict, prior_params_dict, gh_loc, gh_weights))"
   ]
  },
  {
   "cell_type": "code",
   "execution_count": 13,
   "metadata": {},
   "outputs": [],
   "source": [
    "vb_params_dict = deepcopy(init_vb_params_dict)"
   ]
  },
  {
   "cell_type": "code",
   "execution_count": null,
   "metadata": {},
   "outputs": [],
   "source": []
  },
  {
   "cell_type": "code",
   "execution_count": 14,
   "metadata": {},
   "outputs": [],
   "source": [
    "# get loss as a function of vb parameters\n",
    "get_vb_params_loss = paragami.FlattenFunctionInput(\n",
    "                                original_fun=gmm_lib.get_kl, \n",
    "                                patterns = vb_params_paragami,\n",
    "                                free = True,\n",
    "                                argnums = 1)\n",
    "\n",
    "get_loss = lambda x : get_vb_params_loss(features, x, prior_params_dict,\n",
    "                                         gh_loc, gh_weights)\n"
   ]
  },
  {
   "cell_type": "markdown",
   "metadata": {},
   "source": [
    "### Optimize using Newton"
   ]
  },
  {
   "cell_type": "code",
   "execution_count": 15,
   "metadata": {
    "scrolled": true
   },
   "outputs": [
    {
     "name": "stdout",
     "output_type": "stream",
     "text": [
      "running bfgs ... \n",
      "Iter 0: f = 4378.38154385\n",
      "Iter 1: f = 3365.58433172\n",
      "Iter 2: f = 2832.74414196\n",
      "Iter 3: f = 2336.94017954\n",
      "Iter 4: f = 2705.58118073\n",
      "Iter 5: f = 2163.29979508\n",
      "Iter 6: f = 1906.13872299\n",
      "Iter 7: f = 1825.01870253\n",
      "Iter 8: f = 1696.73403083\n",
      "Iter 9: f = 1547.92462599\n",
      "Iter 10: f = 1400.49575152\n",
      "Iter 11: f = 1296.03747810\n",
      "Iter 12: f = 1187.45549631\n",
      "Iter 13: f = 1087.81177744\n",
      "Iter 14: f = 946.84289745\n",
      "Iter 15: f = 939.95456547\n",
      "Iter 16: f = 867.00075911\n",
      "Iter 17: f = 802.63260161\n",
      "Iter 18: f = 742.94677997\n",
      "Iter 19: f = 666.13147305\n",
      "Iter 20: f = 623.46087149\n",
      "Iter 21: f = 559.79243750\n",
      "Iter 22: f = 477.92908762\n",
      "Iter 23: f = 398.33644686\n",
      "Iter 24: f = 383.72700425\n",
      "Iter 25: f = 351.26042390\n",
      "Iter 26: f = 293.39585806\n",
      "Iter 27: f = 206.43733047\n",
      "Iter 28: f = 142.96867924\n",
      "Iter 29: f = 94.88517654\n",
      "Iter 30: f = 47.32046082\n",
      "Iter 31: f = 11.43592700\n",
      "Iter 32: f = -26.80431669\n",
      "Iter 33: f = -70.27719965\n",
      "Iter 34: f = -118.31929486\n",
      "Iter 35: f = -147.14921368\n",
      "Iter 36: f = -167.71942139\n",
      "Iter 37: f = -193.58177070\n",
      "Iter 38: f = -201.54953082\n",
      "Iter 39: f = -210.86975758\n",
      "Iter 40: f = -219.89475784\n",
      "Iter 41: f = -231.92106959\n",
      "Iter 42: f = -241.97348151\n",
      "Iter 43: f = -246.87259617\n",
      "Iter 44: f = -254.02362757\n",
      "Iter 45: f = -261.31695086\n",
      "Iter 46: f = -271.69584674\n",
      "Iter 47: f = -274.32743310\n",
      "Iter 48: f = -278.28848775\n",
      "Iter 49: f = -283.43086922\n",
      "Iter 50: f = -290.28869192\n",
      "Iter 51: f = -298.45986378\n",
      "Iter 52: f = -299.85419406\n",
      "Iter 53: f = -302.27168942\n",
      "Iter 54: f = -305.63965967\n",
      "Iter 55: f = -309.55202904\n",
      "Iter 56: f = -313.62457330\n",
      "Iter 57: f = -315.30608361\n",
      "Iter 58: f = -317.44391402\n",
      "Iter 59: f = -319.80461824\n",
      "Iter 60: f = -322.33419933\n",
      "Iter 61: f = -324.66817253\n",
      "Iter 62: f = -326.07414641\n",
      "Iter 63: f = -327.82006990\n",
      "Iter 64: f = -329.98126860\n",
      "Iter 65: f = -331.85319991\n",
      "Iter 66: f = -333.10441243\n",
      "Iter 67: f = -333.94065911\n",
      "Iter 68: f = -335.05233506\n",
      "Iter 69: f = -335.89254178\n",
      "Iter 70: f = -336.47191101\n",
      "Iter 71: f = -337.09843748\n",
      "Iter 72: f = -337.79086154\n",
      "Iter 73: f = -338.12757006\n",
      "Iter 74: f = -338.48187772\n",
      "Iter 75: f = -338.87838500\n",
      "Iter 76: f = -339.32891601\n",
      "Iter 77: f = -339.57374785\n",
      "Iter 78: f = -339.91849096\n",
      "Iter 79: f = -340.34307934\n",
      "Iter 80: f = -340.80491076\n",
      "Iter 81: f = -341.29904746\n",
      "Iter 82: f = -341.81839056\n",
      "Iter 83: f = -342.23400189\n",
      "Iter 84: f = -342.85966641\n",
      "Iter 85: f = -343.76203622\n",
      "Iter 86: f = -345.42386567\n",
      "Iter 87: f = -300.49681600\n",
      "Iter 88: f = -345.84317893\n",
      "Iter 89: f = -346.43721685\n",
      "Iter 90: f = -347.02121873\n",
      "Iter 91: f = -347.69375276\n",
      "Iter 92: f = -348.16468198\n",
      "Iter 93: f = -348.53133194\n",
      "Iter 94: f = -348.95001166\n",
      "Iter 95: f = -348.98071276\n",
      "Iter 96: f = -349.17196025\n",
      "Iter 97: f = -349.31990849\n",
      "Iter 98: f = -349.46846299\n",
      "Iter 99: f = -349.63472801\n",
      "Iter 100: f = -349.79651289\n",
      "Iter 101: f = -349.91652993\n",
      "Iter 102: f = -350.08694667\n",
      "Iter 103: f = -350.30602485\n",
      "Iter 104: f = -350.50934511\n",
      "Iter 105: f = -350.68888749\n",
      "Iter 106: f = -350.87659270\n",
      "Iter 107: f = -351.02334703\n",
      "Iter 108: f = -351.15857201\n",
      "Iter 109: f = -351.31512478\n",
      "Iter 110: f = -351.44540352\n",
      "Iter 111: f = -351.54296034\n",
      "Iter 112: f = -351.68255636\n",
      "Iter 113: f = -351.84154164\n",
      "Iter 114: f = -352.01576928\n",
      "Iter 115: f = -352.21827793\n",
      "Iter 116: f = -352.37244286\n",
      "Iter 117: f = -352.59432662\n",
      "Iter 118: f = -352.86288870\n",
      "Iter 119: f = -353.12645074\n",
      "Iter 120: f = -353.40917152\n",
      "Iter 121: f = -353.70773000\n",
      "Iter 122: f = -354.11930831\n",
      "Iter 123: f = -354.70421334\n",
      "Iter 124: f = -355.51511516\n",
      "Iter 125: f = -356.33297486\n",
      "Iter 126: f = -356.76378596\n",
      "Iter 127: f = -357.41508419\n",
      "Iter 128: f = -358.29881336\n",
      "Iter 129: f = -359.22868955\n",
      "Iter 130: f = -359.90883743\n",
      "Iter 131: f = -360.35206712\n",
      "Iter 132: f = -360.78286841\n",
      "Iter 133: f = -361.32424667\n",
      "Iter 134: f = -361.56905247\n",
      "Iter 135: f = -361.90432763\n",
      "Iter 136: f = -362.24486339\n",
      "Iter 137: f = -362.42116293\n",
      "Iter 138: f = -362.59206087\n",
      "Iter 139: f = -362.77335544\n",
      "Iter 140: f = -362.97676825\n",
      "Iter 141: f = -363.03460723\n",
      "Iter 142: f = -363.13770701\n",
      "Iter 143: f = -363.31122802\n",
      "Iter 144: f = -363.56039745\n",
      "Iter 145: f = -363.71708712\n",
      "Iter 146: f = -363.86201592\n",
      "Iter 147: f = -363.98367475\n",
      "Iter 148: f = -364.07447422\n",
      "Iter 149: f = -364.15808767\n",
      "Iter 150: f = -364.28677605\n",
      "Iter 151: f = -364.44397781\n",
      "Iter 152: f = -364.50826801\n",
      "Iter 153: f = -364.61701637\n",
      "Iter 154: f = -364.78246956\n",
      "Iter 155: f = -364.95772577\n",
      "Iter 156: f = -365.09414823\n",
      "Iter 157: f = -365.28877764\n",
      "Iter 158: f = -365.44343985\n",
      "Iter 159: f = -365.63943713\n",
      "Iter 160: f = -365.74576570\n",
      "Iter 161: f = -365.87753555\n",
      "Iter 162: f = -365.96037802\n",
      "Iter 163: f = -366.07887350\n",
      "Iter 164: f = -366.03150189\n",
      "Iter 165: f = -366.12847978\n",
      "Iter 166: f = -366.18510746\n",
      "Iter 167: f = -366.25634328\n",
      "Iter 168: f = -366.24905073\n",
      "Iter 169: f = -366.28558814\n",
      "Iter 170: f = -366.31959022\n",
      "Iter 171: f = -366.36098419\n",
      "Iter 172: f = -366.39609559\n",
      "Iter 173: f = -366.42918090\n",
      "Iter 174: f = -366.46073050\n",
      "Iter 175: f = -366.50689935\n",
      "Iter 176: f = -366.55906229\n",
      "Iter 177: f = -366.59040219\n",
      "Iter 178: f = -366.61483580\n",
      "Iter 179: f = -366.65722791\n",
      "Iter 180: f = -366.71087409\n",
      "Iter 181: f = -366.78141019\n",
      "Iter 182: f = -366.79615686\n",
      "Iter 183: f = -366.82367051\n",
      "Iter 184: f = -366.86512884\n",
      "Iter 185: f = -366.92088609\n",
      "Iter 186: f = -366.96173409\n",
      "Iter 187: f = -367.00005666\n",
      "Iter 188: f = -366.98431692\n",
      "Iter 189: f = -367.01612807\n",
      "Iter 190: f = -367.03435300\n",
      "Iter 191: f = -367.06456229\n",
      "Iter 192: f = -367.10690468\n",
      "Iter 193: f = -367.11574499\n",
      "Iter 194: f = -367.13088148\n",
      "Iter 195: f = -367.15716228\n",
      "Iter 196: f = -367.18772111\n",
      "Iter 197: f = -367.22765620\n",
      "Iter 198: f = -367.21623500\n",
      "Iter 199: f = -367.24533386\n",
      "Iter 200: f = -367.27560458\n",
      "Iter 201: f = -367.30469235\n",
      "Iter 202: f = -367.35232995\n",
      "Iter 203: f = -367.40079003\n",
      "Iter 204: f = -367.44326482\n",
      "Iter 205: f = -367.50440930\n",
      "Iter 206: f = -367.60521043\n",
      "Iter 207: f = -367.71313631\n",
      "Iter 208: f = -367.84982644\n",
      "Iter 209: f = -368.02369165\n",
      "Iter 210: f = -367.74566689\n",
      "Iter 211: f = -368.07257017\n",
      "Iter 212: f = -368.15969804\n",
      "Iter 213: f = -368.28114058\n",
      "Iter 214: f = -368.41718571\n",
      "Iter 215: f = -368.56928777\n",
      "Iter 216: f = -368.74949849\n",
      "Iter 217: f = -369.01856332\n",
      "Iter 218: f = -369.04929496\n",
      "Iter 219: f = -369.17192372\n",
      "Iter 220: f = -369.43150510\n",
      "Iter 221: f = -369.76711895\n",
      "Iter 222: f = -369.72320432\n",
      "Iter 223: f = -369.92756248\n",
      "Iter 224: f = -370.01715099\n",
      "Iter 225: f = -370.16356245\n",
      "Iter 226: f = -370.35706966\n",
      "Iter 227: f = -370.45388149\n",
      "Iter 228: f = -370.60526310\n",
      "Iter 229: f = -370.76408802\n",
      "Iter 230: f = -370.92069105\n",
      "Iter 231: f = -370.80954302\n",
      "Iter 232: f = -370.98095647\n",
      "Iter 233: f = -371.08882863\n",
      "Iter 234: f = -371.25558176\n",
      "Iter 235: f = -371.42874719\n",
      "Iter 236: f = -371.61422355\n",
      "Iter 237: f = -371.77223075\n",
      "Iter 238: f = -371.82314445\n",
      "Iter 239: f = -371.91355775\n",
      "Iter 240: f = -372.06323144\n",
      "Iter 241: f = -372.26059407\n",
      "Iter 242: f = -372.24438591\n",
      "Iter 243: f = -372.35706395\n",
      "Iter 244: f = -372.46785480\n",
      "Iter 245: f = -372.51530790\n",
      "Iter 246: f = -372.58686633\n",
      "Iter 247: f = -372.69632233\n",
      "Iter 248: f = -372.84520044\n",
      "Iter 249: f = -372.75175282\n",
      "Iter 250: f = -372.90346497\n",
      "Iter 251: f = -372.99026497\n",
      "Iter 252: f = -373.09699009\n",
      "Iter 253: f = -373.22780998\n",
      "Iter 254: f = -373.29703504\n",
      "Iter 255: f = -373.41663602\n",
      "Iter 256: f = -373.53821067\n",
      "Iter 257: f = -373.68068877\n",
      "Iter 258: f = -373.72740111\n",
      "Iter 259: f = -373.80991960\n",
      "Iter 260: f = -373.91060582\n",
      "Iter 261: f = -374.07280702\n",
      "Iter 262: f = -374.21720533\n",
      "Iter 263: f = -374.35135860\n",
      "Iter 264: f = -374.51443520\n",
      "Iter 265: f = -374.71670020\n",
      "Iter 266: f = -374.80702884\n",
      "Iter 267: f = -374.94758584\n",
      "Iter 268: f = -375.08921511\n",
      "Iter 269: f = -375.05361511\n",
      "Iter 270: f = -375.15205316\n",
      "Iter 271: f = -375.20053885\n",
      "Iter 272: f = -375.26911255\n",
      "Iter 273: f = -375.36060011\n",
      "Iter 274: f = -375.47807804\n",
      "Iter 275: f = -375.47437930\n",
      "Iter 276: f = -375.53677363\n",
      "Iter 277: f = -375.63269554\n",
      "Iter 278: f = -375.73030008\n",
      "Iter 279: f = -375.79151171\n",
      "Iter 280: f = -375.82727176\n",
      "Iter 281: f = -375.88963645\n",
      "Iter 282: f = -375.96540815\n",
      "Iter 283: f = -376.05788220\n",
      "Iter 284: f = -376.09934845\n",
      "Iter 285: f = -376.15120147\n",
      "Iter 286: f = -376.16879614\n",
      "Iter 287: f = -376.20104053\n",
      "Iter 288: f = -376.25597807\n",
      "Iter 289: f = -376.29454912\n",
      "Iter 290: f = -376.34678593\n",
      "Iter 291: f = -376.38764255\n",
      "Iter 292: f = -376.41949527\n",
      "Iter 293: f = -376.46443872\n",
      "Iter 294: f = -376.52861234\n",
      "Iter 295: f = -376.55358144\n",
      "Iter 296: f = -376.58475566\n",
      "Iter 297: f = -376.63227930\n",
      "Iter 298: f = -376.66743576\n"
     ]
    },
    {
     "name": "stdout",
     "output_type": "stream",
     "text": [
      "Iter 299: f = -376.70451159\n",
      "Iter 300: f = -376.74310836\n",
      "Iter 301: f = -376.77164250\n",
      "Iter 302: f = -376.78093184\n",
      "Iter 303: f = -376.79762338\n",
      "Iter 304: f = -376.82442960\n",
      "Iter 305: f = -376.83098047\n",
      "Iter 306: f = -376.84291000\n",
      "Iter 307: f = -376.86076350\n",
      "Iter 308: f = -376.88117264\n",
      "Iter 309: f = -376.88907432\n",
      "Iter 310: f = -376.90325759\n",
      "Iter 311: f = -376.92665315\n",
      "Iter 312: f = -376.95962493\n",
      "Iter 313: f = -376.99505757\n",
      "Iter 314: f = -377.05140879\n",
      "Iter 315: f = -377.10988834\n",
      "Iter 316: f = -377.19779761\n",
      "Iter 317: f = -377.30733730\n",
      "Iter 318: f = -377.29604997\n",
      "Iter 319: f = -377.36011247\n",
      "Iter 320: f = -377.38831567\n",
      "Iter 321: f = -377.43523551\n",
      "Iter 322: f = -377.47311001\n",
      "Iter 323: f = -377.52438612\n",
      "Iter 324: f = -377.55853332\n",
      "Iter 325: f = -377.59949890\n",
      "Iter 326: f = -377.62874844\n",
      "Iter 327: f = -377.68206683\n",
      "Iter 328: f = -377.75853932\n",
      "Iter 329: f = -377.86596185\n",
      "Iter 330: f = -377.85693797\n",
      "Iter 331: f = -377.91835298\n",
      "Iter 332: f = -377.98878836\n",
      "Iter 333: f = -377.99266882\n",
      "Iter 334: f = -378.02545638\n",
      "Iter 335: f = -378.08511031\n",
      "Iter 336: f = -378.09118277\n",
      "Iter 337: f = -378.11700493\n",
      "Iter 338: f = -378.15589583\n",
      "Iter 339: f = -378.15477629\n",
      "Iter 340: f = -378.17527549\n",
      "Iter 341: f = -378.20506362\n",
      "Iter 342: f = -378.22649763\n",
      "Iter 343: f = -378.26084671\n",
      "Iter 344: f = -378.30415831\n",
      "Iter 345: f = -378.30776327\n",
      "Iter 346: f = -378.32686670\n",
      "Iter 347: f = -378.32419444\n",
      "Iter 348: f = -378.33777694\n",
      "Iter 349: f = -378.35578057\n",
      "Iter 350: f = -378.38382180\n",
      "Iter 351: f = -378.36362954\n",
      "Iter 352: f = -378.39422505\n",
      "Iter 353: f = -378.40932725\n",
      "Iter 354: f = -378.41911903\n",
      "Iter 355: f = -378.43306580\n",
      "Iter 356: f = -378.41654132\n",
      "Iter 357: f = -378.43752634\n",
      "Iter 358: f = -378.44536447\n",
      "Iter 359: f = -378.45739223\n",
      "Iter 360: f = -378.45397395\n",
      "Iter 361: f = -378.46271941\n",
      "Iter 362: f = -378.46530071\n",
      "Iter 363: f = -378.46942035\n",
      "Iter 364: f = -378.47499748\n",
      "Iter 365: f = -378.47575855\n",
      "Iter 366: f = -378.47709777\n",
      "Iter 367: f = -378.47920234\n",
      "Iter 368: f = -378.48196435\n",
      "Iter 369: f = -378.47996680\n",
      "Iter 370: f = -378.48288544\n",
      "Iter 371: f = -378.48436023\n",
      "Iter 372: f = -378.48685975\n",
      "Iter 373: f = -378.49047753\n",
      "Iter 374: f = -378.49454034\n",
      "Iter 375: f = -378.49664121\n",
      "Iter 376: f = -378.50055257\n",
      "Iter 377: f = -378.50752118\n",
      "Iter 378: f = -378.51655708\n",
      "Iter 379: f = -378.52925301\n",
      "Iter 380: f = -378.52240702\n",
      "Iter 381: f = -378.53374013\n",
      "Iter 382: f = -378.53965893\n",
      "Iter 383: f = -378.53804938\n",
      "Iter 384: f = -378.54229272\n",
      "Iter 385: f = -378.54639882\n",
      "Iter 386: f = -378.54826615\n",
      "Iter 387: f = -378.54850408\n",
      "Iter 388: f = -378.54890284\n",
      "Iter 389: f = -378.54959241\n",
      "Iter 390: f = -378.55055821\n",
      "Iter 391: f = -378.54740616\n",
      "Iter 392: f = -378.55074553\n",
      "Iter 393: f = -378.55107206\n",
      "Iter 394: f = -378.55154954\n",
      "Iter 395: f = -378.55228009\n",
      "Iter 396: f = -378.55322277\n",
      "Iter 397: f = -378.55179378\n",
      "Iter 398: f = -378.55349518\n",
      "Iter 399: f = -378.55394169\n",
      "Iter 400: f = -378.55419777\n",
      "Iter 401: f = -378.55438557\n",
      "Iter 402: f = -378.55408708\n",
      "Iter 403: f = -378.55443865\n",
      "Iter 404: f = -378.55450925\n",
      "Iter 405: f = -378.55454931\n",
      "Iter 406: f = -378.55454035\n",
      "Iter 407: f = -378.55456752\n",
      "Iter 408: f = -378.55459652\n",
      "Iter 409: f = -378.55463589\n",
      "Iter 410: f = -378.55470196\n",
      "Iter 411: f = -378.55481246\n",
      "Iter 412: f = -378.55484457\n",
      "Iter 413: f = -378.55490361\n",
      "Iter 414: f = -378.55499987\n",
      "Iter 415: f = -378.55508951\n",
      "Iter 416: f = -378.55513845\n",
      "Iter 417: f = -378.55498072\n",
      "Iter 418: f = -378.55514276\n",
      "Iter 419: f = -378.55515040\n",
      "Iter 420: f = -378.55516033\n",
      "Iter 421: f = -378.55515843\n",
      "Iter 422: f = -378.55516492\n",
      "Iter 423: f = -378.55516783\n",
      "Iter 424: f = -378.55516871\n",
      "Iter 425: f = -378.55517039\n",
      "Iter 426: f = -378.55517357\n",
      "Iter 427: f = -378.55517913\n",
      "Iter 428: f = -378.55518878\n",
      "Iter 429: f = -378.55520188\n",
      "Iter 430: f = -378.55521394\n",
      "Iter 431: f = -378.55522995\n",
      "Iter 432: f = -378.55525486\n",
      "Iter 433: f = -378.55528040\n",
      "Iter 434: f = -378.55529524\n",
      "Iter 435: f = -378.55529766\n",
      "Iter 436: f = -378.55529732\n",
      "Iter 437: f = -378.55529797\n",
      "Iter 438: f = -378.55529834\n",
      "Iter 439: f = -378.55529853\n",
      "Iter 440: f = -378.55529888\n",
      "Iter 441: f = -378.55529936\n",
      "Iter 442: f = -378.55530008\n",
      "Iter 443: f = -378.55530127\n",
      "Iter 444: f = -378.55530332\n",
      "Iter 445: f = -378.55530627\n",
      "Iter 446: f = -378.55530929\n",
      "Iter 447: f = -378.55531165\n",
      "Iter 448: f = -378.55531270\n",
      "Iter 449: f = -378.55531251\n",
      "Iter 450: f = -378.55531275\n",
      "Iter 451: f = -378.55531281\n",
      "Iter 452: f = -378.55531282\n",
      "Iter 453: f = -378.55531284\n",
      "Iter 454: f = -378.55531286\n",
      "Iter 455: f = -378.55531290\n",
      "Iter 456: f = -378.55531297\n",
      "Iter 457: f = -378.55531309\n",
      "Iter 458: f = -378.55531328\n",
      "Iter 459: f = -378.55531355\n",
      "Iter 460: f = -378.55531384\n",
      "Iter 461: f = -378.55531397\n",
      "Iter 462: f = -378.55531398\n",
      "Iter 463: f = -378.55531400\n",
      "Iter 464: f = -378.55531402\n",
      "Iter 465: f = -378.55531402\n",
      "Iter 466: f = -378.55531402\n",
      "Iter 467: f = -378.55531402\n",
      "Iter 468: f = -378.55531402\n",
      "Iter 469: f = -378.55531402\n",
      "Iter 470: f = -378.55531402\n",
      "Iter 471: f = -378.55531402\n",
      "Iter 472: f = -378.55531402\n",
      "Iter 473: f = -378.55531402\n",
      "Iter 474: f = -378.55531403\n",
      "Iter 475: f = -378.55531403\n",
      "Iter 476: f = -378.55531403\n",
      "Iter 477: f = -378.55531404\n",
      "Iter 478: f = -378.55531404\n",
      "Iter 479: f = -378.55531404\n",
      "Iter 480: f = -378.55531404\n",
      "Iter 481: f = -378.55531404\n",
      "Iter 482: f = -378.55531404\n",
      "Iter 483: f = -378.55531404\n",
      "Iter 484: f = -378.55531404\n",
      "Iter 485: f = -378.55531404\n",
      "Iter 486: f = -378.55531404\n",
      "Iter 487: f = -378.55531404\n",
      "Iter 488: f = -378.55531404\n",
      "Iter 489: f = -378.55531404\n",
      "Iter 490: f = -378.55531404\n",
      "Iter 491: f = -378.55531404\n",
      "Iter 492: f = -378.55531404\n",
      "Iter 493: f = -378.55531404\n",
      "Iter 494: f = -378.55531404\n",
      "Iter 495: f = -378.55531404\n",
      "Iter 496: f = -378.55531404\n",
      "Iter 497: f = -378.55531404\n",
      "Iter 498: f = -378.55531404\n",
      "Iter 499: f = -378.55531404\n",
      "Iter 500: f = -378.55531404\n",
      "Iter 501: f = -378.55531404\n",
      "Iter 502: f = -378.55531404\n",
      "Iter 503: f = -378.55531404\n",
      "Iter 504: f = -378.55531404\n",
      "Iter 505: f = -378.55531404\n",
      "Iter 506: f = -378.55531404\n",
      "Iter 507: f = -378.55531404\n",
      "Iter 508: f = -378.55531404\n",
      "Iter 509: f = -378.55531404\n",
      "Iter 510: f = -378.55531404\n",
      "Warning: Desired error not necessarily achieved due to precision loss.\n",
      "         Current function value: -378.555314\n",
      "         Iterations: 444\n",
      "         Function evaluations: 511\n",
      "         Gradient evaluations: 500\n",
      "\n",
      " running preconditioned newton; iter =  0\n",
      "Computing Hessian to set preconditioner\n",
      "preconditioning time: 11.18\n",
      "running newton steps\n",
      "Iter 0: f = -378.55531404\n",
      "Iter 1: f = -378.55531404\n",
      "Warning: A bad approximation caused failure to predict improvement.\n",
      "         Current function value: -378.555314\n",
      "         Iterations: 0\n",
      "         Function evaluations: 2\n",
      "         Gradient evaluations: 1\n",
      "         Hessian evaluations: 2\n",
      "Iter 0: x_diff = 6.1891087966217e-13, f_diff = 1.7053025658242404e-13, grad_l1 = 6.935193626711956e-06\n",
      "done. \n"
     ]
    }
   ],
   "source": [
    "vb_opt = optimization_lib.optimize_full(get_loss, init_vb_free_params,\n",
    "                    bfgs_max_iter = 500, netwon_max_iter = 50,\n",
    "                    max_precondition_iter = 10,\n",
    "                    gtol=1e-8, ftol=1e-8, xtol=1e-8)"
   ]
  },
  {
   "cell_type": "code",
   "execution_count": 16,
   "metadata": {},
   "outputs": [],
   "source": [
    "vb_opt_dict = vb_params_paragami.fold(vb_opt, free = True)"
   ]
  },
  {
   "cell_type": "code",
   "execution_count": 17,
   "metadata": {},
   "outputs": [],
   "source": [
    "e_z_opt = gmm_lib.get_optimal_z_from_vb_params_dict(features, vb_opt_dict,\n",
    "                                                    gh_loc, gh_weights)"
   ]
  },
  {
   "cell_type": "code",
   "execution_count": null,
   "metadata": {},
   "outputs": [],
   "source": []
  },
  {
   "cell_type": "markdown",
   "metadata": {},
   "source": [
    "# Check out results from Newton"
   ]
  },
  {
   "cell_type": "code",
   "execution_count": 18,
   "metadata": {},
   "outputs": [],
   "source": [
    "def plot_results_from_vb_params_dict(pca_fit, vb_params_dict, e_z, fig): \n",
    "    # we plot in PCA space\n",
    "    bnp_centroids_pc, bnp_cluster_covs_pc = \\\n",
    "        utils_lib.transform_params_to_pc_space(pca_fit, \n",
    "                        vb_params_dict['cluster_params']['centroids'], \n",
    "                        np.linalg.inv(vb_params_dict['cluster_params']['cluster_info']))\n",
    "\n",
    "    bnp_clusters = np.argmax(e_z, axis = 1)\n",
    "    \n",
    "    cmap = cm.get_cmap(name='gist_rainbow')\n",
    "    colors1 = [cmap(k * 50) for k in range(30)]\n",
    "\n",
    "    utils_lib.plot_clusters(pc_features[:, 0], pc_features[:, 1], bnp_clusters, \\\n",
    "                  colors1, fig, \\\n",
    "                  centroids = bnp_centroids_pc[:, np.unique(bnp_clusters)], \n",
    "                cov = bnp_cluster_covs_pc[np.unique(bnp_clusters)])\n"
   ]
  },
  {
   "cell_type": "code",
   "execution_count": 19,
   "metadata": {},
   "outputs": [
    {
     "data": {
      "text/plain": [
       "Text(0, 0.5, 'PC2')"
      ]
     },
     "execution_count": 19,
     "metadata": {},
     "output_type": "execute_result"
    },
    {
     "data": {
      "image/png": "[encoded data removed]",
      "text/plain": [
       "<Figure size 432x288 with 1 Axes>"
      ]
     },
     "metadata": {
      "needs_background": "light"
     },
     "output_type": "display_data"
    }
   ],
   "source": [
    "fig1 = plt.figure(1)\n",
    "fig = fig1.add_subplot(111)\n",
    "\n",
    "plot_results_from_vb_params_dict(pca_fit, vb_opt_dict, e_z_opt, fig)\n",
    "fig.set_xlabel('PC1', fontsize = 18)\n",
    "fig.set_ylabel('PC2', fontsize = 18)\n"
   ]
  },
  {
   "cell_type": "code",
   "execution_count": null,
   "metadata": {},
   "outputs": [],
   "source": []
  },
  {
   "cell_type": "markdown",
   "metadata": {},
   "source": [
    "# Check out CAVI optimizer"
   ]
  },
  {
   "cell_type": "code",
   "execution_count": 20,
   "metadata": {},
   "outputs": [],
   "source": [
    "vb_params_dict = deepcopy(init_vb_params_dict)\n",
    "\n",
    "# vb_params_dict = vb_params_paragami.random()"
   ]
  },
  {
   "cell_type": "code",
   "execution_count": 21,
   "metadata": {},
   "outputs": [
    {
     "data": {
      "text/plain": [
       "Text(0, 0.5, 'PC2')"
      ]
     },
     "execution_count": 21,
     "metadata": {},
     "output_type": "execute_result"
    },
    {
     "data": {
      "image/png": "[encoded data removed]",
      "text/plain": [
       "<Figure size 432x288 with 1 Axes>"
      ]
     },
     "metadata": {
      "needs_background": "light"
     },
     "output_type": "display_data"
    }
   ],
   "source": [
    "fig1 = plt.figure(1)\n",
    "fig = fig1.add_subplot(111)\n",
    "\n",
    "plot_results_from_vb_params_dict(pca_fit, init_vb_params_dict, init_ez, fig)\n",
    "fig.set_xlabel('PC1', fontsize = 18)\n",
    "fig.set_ylabel('PC2', fontsize = 18)\n"
   ]
  },
  {
   "cell_type": "code",
   "execution_count": 22,
   "metadata": {},
   "outputs": [],
   "source": [
    "import time"
   ]
  },
  {
   "cell_type": "code",
   "execution_count": 23,
   "metadata": {},
   "outputs": [
    {
     "name": "stdout",
     "output_type": "stream",
     "text": [
      "stick_time: 0.59\n",
      "cluster_time: 0.051\n",
      "e_z_time: 0.098\n",
      "**TOTAL time: 0.904**\n"
     ]
    }
   ],
   "source": [
    "vb_cavi_dict, e_z_cavi, kl_vec = \\\n",
    "    cavi_lib.run_cavi(features, vb_params_dict,\n",
    "                vb_params_paragami,\n",
    "                prior_params_dict,\n",
    "                gh_loc, gh_weights,\n",
    "                max_iter = 100,\n",
    "                tol = 1e-8,\n",
    "                debug = False)"
   ]
  },
  {
   "cell_type": "code",
   "execution_count": 24,
   "metadata": {},
   "outputs": [
    {
     "data": {
      "text/plain": [
       "Text(0, 0.5, 'PC2')"
      ]
     },
     "execution_count": 24,
     "metadata": {},
     "output_type": "execute_result"
    },
    {
     "data": {
      "image/png": "[encoded data removed]",
      "text/plain": [
       "<Figure size 432x288 with 1 Axes>"
      ]
     },
     "metadata": {
      "needs_background": "light"
     },
     "output_type": "display_data"
    }
   ],
   "source": [
    "fig1 = plt.figure(1)\n",
    "fig = fig1.add_subplot(111)\n",
    "\n",
    "plot_results_from_vb_params_dict(pca_fit, vb_cavi_dict, e_z_cavi, fig)\n",
    "fig.set_xlabel('PC1', fontsize = 18)\n",
    "fig.set_ylabel('PC2', fontsize = 18)\n"
   ]
  },
  {
   "cell_type": "code",
   "execution_count": null,
   "metadata": {},
   "outputs": [],
   "source": []
  },
  {
   "cell_type": "code",
   "execution_count": 25,
   "metadata": {},
   "outputs": [
    {
     "data": {
      "text/plain": [
       "-384.1399902986592"
      ]
     },
     "execution_count": 25,
     "metadata": {},
     "output_type": "execute_result"
    }
   ],
   "source": [
    "get_loss(vb_params_paragami.flatten(vb_cavi_dict, free = True))"
   ]
  },
  {
   "cell_type": "code",
   "execution_count": 26,
   "metadata": {},
   "outputs": [
    {
     "data": {
      "text/plain": [
       "-378.5553140395278"
      ]
     },
     "execution_count": 26,
     "metadata": {},
     "output_type": "execute_result"
    }
   ],
   "source": [
    "get_loss(vb_params_paragami.flatten(vb_opt_dict, free = True))"
   ]
  },
  {
   "cell_type": "code",
   "execution_count": null,
   "metadata": {},
   "outputs": [],
   "source": []
  },
  {
   "cell_type": "markdown",
   "metadata": {},
   "source": [
    "# Run newton after CAVI"
   ]
  },
  {
   "cell_type": "code",
   "execution_count": 27,
   "metadata": {},
   "outputs": [
    {
     "name": "stdout",
     "output_type": "stream",
     "text": [
      "running bfgs ... \n",
      "Iter 0: f = -384.13999030\n",
      "Iter 1: f = -384.12038536\n",
      "Iter 2: f = -384.14001110\n",
      "Iter 3: f = -384.13956250\n",
      "Iter 4: f = -384.14001200\n",
      "Iter 5: f = -384.14001365\n",
      "Iter 6: f = -384.14001688\n",
      "Iter 7: f = -384.14002818\n",
      "Iter 8: f = -384.14005064\n",
      "Iter 9: f = -384.14008333\n",
      "Iter 10: f = -384.14004732\n",
      "Iter 11: f = -384.14009401\n",
      "Iter 12: f = -384.14006281\n",
      "Iter 13: f = -384.14009622\n",
      "Iter 14: f = -384.14009484\n",
      "Iter 15: f = -384.14009707\n",
      "Iter 16: f = -384.14009686\n",
      "Iter 17: f = -384.14009745\n",
      "Iter 18: f = -384.14009817\n",
      "Iter 19: f = -384.14009959\n",
      "Iter 20: f = -384.14010476\n",
      "Iter 21: f = -384.14011378\n",
      "Iter 22: f = -384.14009492\n",
      "Iter 23: f = -384.14011602\n",
      "Iter 24: f = -384.14011570\n",
      "Iter 25: f = -384.14011707\n",
      "Iter 26: f = -384.14011880\n",
      "Iter 27: f = -384.14012150\n",
      "Iter 28: f = -384.14012389\n",
      "Iter 29: f = -384.14012398\n",
      "Iter 30: f = -384.14012512\n",
      "Iter 31: f = -384.14012622\n",
      "Iter 32: f = -384.14012781\n",
      "Iter 33: f = -384.14012990\n",
      "Iter 34: f = -384.14012961\n",
      "Iter 35: f = -384.14013089\n",
      "Iter 36: f = -384.14013226\n",
      "Iter 37: f = -384.14012966\n",
      "Iter 38: f = -384.14013262\n",
      "Iter 39: f = -384.14013302\n",
      "Iter 40: f = -384.14012965\n",
      "Iter 41: f = -384.14013305\n",
      "Iter 42: f = -384.14013313\n",
      "Iter 43: f = -384.14013321\n",
      "Iter 44: f = -384.14013335\n",
      "Iter 45: f = -384.14013358\n",
      "Iter 46: f = -384.14013354\n",
      "Iter 47: f = -384.14013368\n",
      "Iter 48: f = -384.14013380\n",
      "Iter 49: f = -384.14013396\n",
      "Iter 50: f = -384.14013255\n",
      "Iter 51: f = -384.14013397\n",
      "Iter 52: f = -384.14013399\n",
      "Iter 53: f = -384.14013398\n",
      "Iter 54: f = -384.14013400\n",
      "Iter 55: f = -384.14013400\n",
      "Iter 56: f = -384.14013400\n",
      "Iter 57: f = -384.14013400\n",
      "Iter 58: f = -384.14013400\n",
      "Iter 59: f = -384.14013400\n",
      "Iter 60: f = -384.14013400\n",
      "Iter 61: f = -384.14013400\n",
      "Iter 62: f = -384.14013400\n",
      "Iter 63: f = -384.14013400\n",
      "Iter 64: f = -384.14013400\n",
      "Iter 65: f = -384.14013400\n",
      "Iter 66: f = -384.14013400\n",
      "Iter 67: f = -384.14013400\n",
      "Iter 68: f = -384.14013400\n",
      "Iter 69: f = -384.14013400\n",
      "Iter 70: f = -384.14013400\n",
      "Iter 71: f = -384.14013400\n",
      "Iter 72: f = -384.14013400\n",
      "Iter 73: f = -384.14013400\n",
      "Iter 74: f = -384.14013400\n",
      "Iter 75: f = -384.14013400\n",
      "Iter 76: f = -384.14013400\n",
      "Warning: Desired error not necessarily achieved due to precision loss.\n",
      "         Current function value: -384.140134\n",
      "         Iterations: 52\n",
      "         Function evaluations: 77\n",
      "         Gradient evaluations: 76\n",
      "\n",
      " running preconditioned newton; iter =  0\n",
      "Computing Hessian to set preconditioner\n",
      "preconditioning time: 11.25\n",
      "running newton steps\n",
      "Iter 0: f = -384.14013400\n",
      "Iter 1: f = -384.14013400\n",
      "Iter 2: f = -384.14013400\n",
      "Iter 3: f = -384.14013400\n",
      "Iter 4: f = -384.14013400\n",
      "Iter 5: f = -384.14013400\n",
      "Iter 6: f = -384.14013400\n",
      "Iter 7: f = -384.14013400\n",
      "Iter 8: f = -384.14013400\n",
      "Iter 9: f = -384.14013400\n",
      "Iter 10: f = -384.14013400\n",
      "Iter 11: f = -384.14013400\n",
      "Iter 12: f = -384.14013400\n",
      "Warning: A bad approximation caused failure to predict improvement.\n",
      "         Current function value: -384.140134\n",
      "         Iterations: 11\n",
      "         Function evaluations: 13\n",
      "         Gradient evaluations: 1\n",
      "         Hessian evaluations: 24\n",
      "Iter 0: x_diff = 8.196008033080559e-13, f_diff = 1.1368683772161603e-13, grad_l1 = 4.281461450013643e-06\n",
      "done. \n"
     ]
    }
   ],
   "source": [
    "vb_opt2 = optimization_lib.optimize_full(get_loss, \n",
    "                    vb_params_paragami.flatten(deepcopy(vb_cavi_dict), free = True),\n",
    "                    bfgs_max_iter = 500, netwon_max_iter = 50,\n",
    "                    max_precondition_iter = 10,\n",
    "                    gtol=1e-8, ftol=1e-8, xtol=1e-8)"
   ]
  },
  {
   "cell_type": "code",
   "execution_count": null,
   "metadata": {},
   "outputs": [],
   "source": []
  },
  {
   "cell_type": "code",
   "execution_count": null,
   "metadata": {},
   "outputs": [],
   "source": []
  },
  {
   "cell_type": "code",
   "execution_count": 28,
   "metadata": {},
   "outputs": [
    {
     "data": {
      "text/plain": [
       "0.010272908743338527"
      ]
     },
     "execution_count": 28,
     "metadata": {},
     "output_type": "execute_result"
    }
   ],
   "source": [
    "np.abs(vb_opt2 - vb_params_paragami.flatten(vb_cavi_dict, free = True)).max()"
   ]
  },
  {
   "cell_type": "code",
   "execution_count": null,
   "metadata": {},
   "outputs": [],
   "source": []
  }
 ],
 "metadata": {
  "kernelspec": {
   "display_name": "bnp_sensitivity",
   "language": "python",
   "name": "bnp_sensitivity"
  },
  "language_info": {
   "codemirror_mode": {
    "name": "ipython",
    "version": 3
   },
   "file_extension": ".py",
   "mimetype": "text/x-python",
   "name": "python",
   "nbconvert_exporter": "python",
   "pygments_lexer": "ipython3",
   "version": "3.8.0"
  }
 },
 "nbformat": 4,
 "nbformat_minor": 2
}
