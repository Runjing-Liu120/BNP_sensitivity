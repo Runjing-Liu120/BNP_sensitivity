{
 "cells": [
  {
   "cell_type": "code",
   "execution_count": 1,
   "metadata": {},
   "outputs": [
    {
     "name": "stderr",
     "output_type": "stream",
     "text": [
      "/home/rliu/anaconda3/envs/bnp_sensitivity/lib/python3.8/site-packages/autograd/core.py:290: UserWarning: \n",
      "The defvjp method is deprecated. See the update guide and tutorial:\n",
      "https://github.com/HIPS/autograd/blob/master/docs/updateguide.md\n",
      "https://github.com/HIPS/autograd/blob/master/docs/tutorial.md\n",
      "  warnings.warn(deprecation_msg)\n"
     ]
    }
   ],
   "source": [
    "import autograd\n",
    "from autograd import numpy as np\n",
    "from autograd import scipy as sp\n",
    "\n",
    "from numpy.polynomial.hermite import hermgauss\n",
    "\n",
    "np.random.seed(453453)\n",
    "\n",
    "import paragami\n",
    "\n",
    "# BNP sensitivity libraries\n",
    "import sys\n",
    "# sys.path.insert(0, '../libraries/')\n",
    "# sys.path.insert(0, '../../BNP_modeling/')\n",
    "\n",
    "import bnpgmm_runjingdev.gmm_clustering_lib as gmm_lib\n",
    "import bnpgmm_runjingdev.utils_lib as utils_lib\n",
    "import bnpgmm_runjingdev.gmm_cavi_lib as cavi_lib\n",
    "import bnpgmm_runjingdev.simulation_lib as simulation_lib\n",
    "\n",
    "\n",
    "import bnpmodeling_runjingdev.modeling_lib as modeling_lib \n",
    "import bnpmodeling_runjingdev.cluster_quantities_lib as cluster_lib\n",
    "import bnpmodeling_runjingdev.optimization_lib as optimization_lib\n",
    "\n",
    "import matplotlib.pyplot as plt\n",
    "%matplotlib inline\n",
    "import matplotlib.cm as cm\n",
    "\n",
    "from sklearn.decomposition import PCA\n",
    "\n",
    "from copy import deepcopy\n",
    "\n",
    "import vittles\n",
    "\n",
    "import json "
   ]
  },
  {
   "cell_type": "markdown",
   "metadata": {},
   "source": [
    "# Load data"
   ]
  },
  {
   "cell_type": "markdown",
   "metadata": {},
   "source": [
    "We load and plot the iris dataset"
   ]
  },
  {
   "cell_type": "code",
   "execution_count": 2,
   "metadata": {},
   "outputs": [],
   "source": [
    "use_iris_data = True"
   ]
  },
  {
   "cell_type": "code",
   "execution_count": 3,
   "metadata": {},
   "outputs": [],
   "source": [
    "if use_iris_data: \n",
    "    # load iris data\n",
    "    dataset_name = 'iris'\n",
    "    features, iris_species = utils_lib.load_data()\n",
    "    dim = features.shape[1]\n",
    "    n_obs = len(iris_species)    \n",
    "else: \n",
    "    dim = 4\n",
    "    n_obs = 500\n",
    "    true_k = 4\n",
    "    features, true_z = simulation_lib.simulate_data(n_obs, dim,\n",
    "                true_k, separation=0.2)[0:2]\n",
    "    \n",
    "    iris_species = np.argmax(true_z, 1)"
   ]
  },
  {
   "cell_type": "code",
   "execution_count": 4,
   "metadata": {},
   "outputs": [
    {
     "data": {
      "text/plain": [
       "Text(0, 0.5, 'PC2')"
      ]
     },
     "execution_count": 4,
     "metadata": {},
     "output_type": "execute_result"
    },
    {
     "data": {
      "image/png": "[encoded data removed]",
      "text/plain": [
       "<Figure size 432x288 with 1 Axes>"
      ]
     },
     "metadata": {
      "needs_background": "light"
     },
     "output_type": "display_data"
    }
   ],
   "source": [
    "# run PCA\n",
    "pca_fit = PCA()\n",
    "pca_fit.fit(features)\n",
    "pc_features = pca_fit.transform(features)\n",
    "\n",
    "# plot\n",
    "cmap = cm.get_cmap(name='gist_rainbow')\n",
    "colors1 = [cmap(k * 50) for k in range(30)]\n",
    "\n",
    "fig1 = plt.figure(1)\n",
    "fig = fig1.add_subplot(111)\n",
    "utils_lib.plot_clusters(pc_features[:, 0], pc_features[:, 1], iris_species, colors1, fig)\n",
    "fig.set_xlabel('PC1')\n",
    "fig.set_ylabel('PC2')\n"
   ]
  },
  {
   "cell_type": "markdown",
   "metadata": {},
   "source": [
    "# Set up model"
   ]
  },
  {
   "cell_type": "markdown",
   "metadata": {},
   "source": [
    "### Prior parameters"
   ]
  },
  {
   "cell_type": "code",
   "execution_count": 5,
   "metadata": {},
   "outputs": [
    {
     "name": "stdout",
     "output_type": "stream",
     "text": [
      "{'alpha': array([3.]), 'prior_centroid_mean': array([0.]), 'prior_lambda': array([1.]), 'prior_wishart_df': array([10.]), 'prior_wishart_rate': array([[1., 0., 0., 0.],\n",
      "       [0., 1., 0., 0.],\n",
      "       [0., 0., 1., 0.],\n",
      "       [0., 0., 0., 1.]])}\n"
     ]
    }
   ],
   "source": [
    "# Get priors\n",
    "prior_params_dict, prior_params_paragami = gmm_lib.get_default_prior_params(dim)\n",
    "\n",
    "print(prior_params_dict)"
   ]
  },
  {
   "cell_type": "markdown",
   "metadata": {},
   "source": [
    "### Variational parameters"
   ]
  },
  {
   "cell_type": "code",
   "execution_count": 6,
   "metadata": {},
   "outputs": [],
   "source": [
    "# number of clusters in variational distribution \n",
    "k_approx = 30"
   ]
  },
  {
   "cell_type": "code",
   "execution_count": 7,
   "metadata": {},
   "outputs": [],
   "source": [
    "# Gauss-Hermite points for integrating logitnormal stick-breaking prior\n",
    "gh_deg = 8\n",
    "gh_loc, gh_weights = hermgauss(gh_deg)"
   ]
  },
  {
   "cell_type": "code",
   "execution_count": 8,
   "metadata": {},
   "outputs": [],
   "source": [
    "# get vb parameters\n",
    "vb_params_dict, vb_params_paragami = gmm_lib.get_vb_params_paragami_object(dim, k_approx)"
   ]
  },
  {
   "cell_type": "code",
   "execution_count": 9,
   "metadata": {},
   "outputs": [
    {
     "data": {
      "text/plain": [
       "1731.7713604176683"
      ]
     },
     "execution_count": 9,
     "metadata": {},
     "output_type": "execute_result"
    }
   ],
   "source": [
    "# the objective \n",
    "gmm_lib.get_kl(features, vb_params_dict, prior_params_dict, gh_loc, gh_weights)"
   ]
  },
  {
   "cell_type": "code",
   "execution_count": null,
   "metadata": {},
   "outputs": [],
   "source": []
  },
  {
   "cell_type": "markdown",
   "metadata": {},
   "source": [
    "# Optimize the KL objective"
   ]
  },
  {
   "cell_type": "markdown",
   "metadata": {},
   "source": [
    "### Initialize with k-means"
   ]
  },
  {
   "cell_type": "code",
   "execution_count": 10,
   "metadata": {},
   "outputs": [],
   "source": [
    "run_kmeans_init = True"
   ]
  },
  {
   "cell_type": "code",
   "execution_count": 11,
   "metadata": {},
   "outputs": [],
   "source": [
    "if run_kmeans_init: \n",
    "    # run a kmeans init\n",
    "    n_kmeans_init = 10\n",
    "    init_vb_free_params, init_vb_params_dict, init_ez = \\\n",
    "        utils_lib.cluster_and_get_k_means_inits(features, vb_params_paragami, \n",
    "                                                    n_kmeans_init = n_kmeans_init, \n",
    "                                                  seed = 344353)\n",
    "else: \n",
    "    init_vb_params_dict = vb_params_paragami.random()\n",
    "    init_vb_free_params = vb_params_paragami.flatten(init_vb_params_dict, free = True)"
   ]
  },
  {
   "cell_type": "code",
   "execution_count": null,
   "metadata": {},
   "outputs": [],
   "source": []
  },
  {
   "cell_type": "code",
   "execution_count": 12,
   "metadata": {},
   "outputs": [
    {
     "name": "stdout",
     "output_type": "stream",
     "text": [
      "initial kl: \n",
      "8171.585100596154\n"
     ]
    }
   ],
   "source": [
    "print('initial kl: ')\n",
    "print(gmm_lib.get_kl(features, init_vb_params_dict, prior_params_dict, gh_loc, gh_weights))"
   ]
  },
  {
   "cell_type": "code",
   "execution_count": 13,
   "metadata": {},
   "outputs": [],
   "source": [
    "vb_params_dict = deepcopy(init_vb_params_dict)"
   ]
  },
  {
   "cell_type": "code",
   "execution_count": null,
   "metadata": {},
   "outputs": [],
   "source": []
  },
  {
   "cell_type": "code",
   "execution_count": 14,
   "metadata": {},
   "outputs": [],
   "source": [
    "# get loss as a function of vb parameters\n",
    "get_vb_params_loss = paragami.FlattenFunctionInput(\n",
    "                                original_fun=gmm_lib.get_kl, \n",
    "                                patterns = vb_params_paragami,\n",
    "                                free = True,\n",
    "                                argnums = 1)\n",
    "\n",
    "get_loss = lambda x : get_vb_params_loss(features, x, prior_params_dict,\n",
    "                                         gh_loc, gh_weights)\n"
   ]
  },
  {
   "cell_type": "markdown",
   "metadata": {},
   "source": [
    "### Optimize using Newton"
   ]
  },
  {
   "cell_type": "code",
   "execution_count": 15,
   "metadata": {},
   "outputs": [
    {
     "name": "stdout",
     "output_type": "stream",
     "text": [
      "running bfgs ... \n",
      "Iter 0: f = 8171.58510060\n",
      "Iter 1: f = 6581.63639852\n",
      "Iter 2: f = 5376.95556216\n",
      "Iter 3: f = 4572.68192908\n",
      "Iter 4: f = 4179.85777135\n",
      "Iter 5: f = 3842.43843338\n",
      "Iter 6: f = 3934.22127474\n",
      "Iter 7: f = 3717.66487829\n",
      "Iter 8: f = 3536.87328304\n",
      "Iter 9: f = 3377.87156472\n",
      "Iter 10: f = 3286.57717255\n",
      "Iter 11: f = 3134.29627817\n",
      "Iter 12: f = 2949.47392038\n",
      "Iter 13: f = 2678.26536356\n",
      "Iter 14: f = 2329.14325291\n",
      "Iter 15: f = 2044.59657786\n",
      "Iter 16: f = 1763.69919621\n",
      "Iter 17: f = 1465.98270130\n",
      "Iter 18: f = 1732.47163211\n",
      "Iter 19: f = 1385.06588967\n",
      "Iter 20: f = 1246.72346594\n",
      "Iter 21: f = 1079.22610965\n",
      "Iter 22: f = 821.76693225\n",
      "Iter 23: f = 653.45191998\n",
      "Iter 24: f = 553.33351819\n",
      "Iter 25: f = 679.40808397\n",
      "Iter 26: f = 519.05372453\n",
      "Iter 27: f = 460.28742084\n",
      "Iter 28: f = 375.19119530\n",
      "Iter 29: f = 338.84808749\n",
      "Iter 30: f = 283.51755234\n",
      "Iter 31: f = 224.91390078\n",
      "Iter 32: f = 149.88012193\n",
      "Iter 33: f = 90.42852145\n",
      "Iter 34: f = 126.07830962\n",
      "Iter 35: f = 66.64940290\n",
      "Iter 36: f = 36.73684234\n",
      "Iter 37: f = 2.21315862\n",
      "Iter 38: f = -8.18231756\n",
      "Iter 39: f = -26.48122307\n",
      "Iter 40: f = -48.38717574\n",
      "Iter 41: f = -66.80315927\n",
      "Iter 42: f = -80.52988989\n",
      "Iter 43: f = -90.95830159\n",
      "Iter 44: f = -107.18364154\n",
      "Iter 45: f = -126.54578956\n",
      "Iter 46: f = -142.69433632\n",
      "Iter 47: f = -162.02230932\n",
      "Iter 48: f = -181.60170703\n",
      "Iter 49: f = -183.15137629\n",
      "Iter 50: f = -186.03464258\n",
      "Iter 51: f = -190.99305785\n",
      "Iter 52: f = -198.58621887\n",
      "Iter 53: f = -209.44892587\n",
      "Iter 54: f = -217.29241976\n",
      "Iter 55: f = -228.00071022\n",
      "Iter 56: f = -240.41052126\n",
      "Iter 57: f = -239.24779415\n",
      "Iter 58: f = -246.39056023\n",
      "Iter 59: f = -252.84110896\n",
      "Iter 60: f = -253.14178034\n",
      "Iter 61: f = -256.16820340\n",
      "Iter 62: f = -258.89647000\n",
      "Iter 63: f = -262.45440722\n",
      "Iter 64: f = -265.98108616\n",
      "Iter 65: f = -269.69900302\n",
      "Iter 66: f = -273.18337725\n",
      "Iter 67: f = -274.20653192\n",
      "Iter 68: f = -275.66074311\n",
      "Iter 69: f = -277.68532505\n",
      "Iter 70: f = -280.05911150\n",
      "Iter 71: f = -281.35948434\n",
      "Iter 72: f = -282.49480867\n",
      "Iter 73: f = -283.80289520\n",
      "Iter 74: f = -285.37970308\n",
      "Iter 75: f = -286.31152191\n",
      "Iter 76: f = -287.40445903\n",
      "Iter 77: f = -288.95114834\n",
      "Iter 78: f = -290.54078852\n",
      "Iter 79: f = -292.79036810\n",
      "Iter 80: f = -295.91438489\n",
      "Iter 81: f = -299.73350543\n",
      "Iter 82: f = -304.37742523\n",
      "Iter 83: f = -309.35445823\n",
      "Iter 84: f = -313.03002047\n",
      "Iter 85: f = -317.19971599\n",
      "Iter 86: f = -322.38546131\n",
      "Iter 87: f = -326.43930278\n",
      "Iter 88: f = -330.11250365\n",
      "Iter 89: f = -332.67028418\n",
      "Iter 90: f = -334.61413483\n",
      "Iter 91: f = -336.16262271\n",
      "Iter 92: f = -338.00299389\n",
      "Iter 93: f = -339.00895267\n",
      "Iter 94: f = -340.35451170\n",
      "Iter 95: f = -342.09436305\n",
      "Iter 96: f = -343.61947043\n",
      "Iter 97: f = -345.36762700\n",
      "Iter 98: f = -347.59565844\n",
      "Iter 99: f = -349.37633685\n",
      "Iter 100: f = -351.53536202\n",
      "Iter 101: f = -353.61673060\n",
      "Iter 102: f = -355.49597050\n",
      "Iter 103: f = -356.05702983\n",
      "Iter 104: f = -356.91618390\n",
      "Iter 105: f = -358.11239504\n",
      "Iter 106: f = -359.08585805\n",
      "Iter 107: f = -359.50139379\n",
      "Iter 108: f = -360.01615959\n",
      "Iter 109: f = -360.53903490\n",
      "Iter 110: f = -360.75674190\n",
      "Iter 111: f = -361.04398169\n",
      "Iter 112: f = -361.38402455\n",
      "Iter 113: f = -361.59310985\n",
      "Iter 114: f = -361.80879395\n",
      "Iter 115: f = -361.99430041\n",
      "Iter 116: f = -362.17052133\n",
      "Iter 117: f = -362.31785368\n",
      "Iter 118: f = -362.49179138\n",
      "Iter 119: f = -362.66437173\n",
      "Iter 120: f = -362.84116372\n",
      "Iter 121: f = -362.97918341\n",
      "Iter 122: f = -363.13344966\n",
      "Iter 123: f = -363.30941904\n",
      "Iter 124: f = -363.45341745\n",
      "Iter 125: f = -363.63714277\n",
      "Iter 126: f = -363.83172140\n",
      "Iter 127: f = -363.97378598\n",
      "Iter 128: f = -364.13944219\n",
      "Iter 129: f = -364.25022512\n",
      "Iter 130: f = -364.36105033\n",
      "Iter 131: f = -364.46391395\n",
      "Iter 132: f = -364.47896412\n",
      "Iter 133: f = -364.50742472\n",
      "Iter 134: f = -364.56006203\n",
      "Iter 135: f = -364.64727567\n",
      "Iter 136: f = -364.75008978\n",
      "Iter 137: f = -364.85364455\n",
      "Iter 138: f = -364.83545804\n",
      "Iter 139: f = -364.90169463\n",
      "Iter 140: f = -364.92964264\n",
      "Iter 141: f = -364.97259217\n",
      "Iter 142: f = -365.04357092\n",
      "Iter 143: f = -365.13705370\n",
      "Iter 144: f = -365.20008917\n",
      "Iter 145: f = -365.27126667\n",
      "Iter 146: f = -365.32087305\n",
      "Iter 147: f = -365.37021052\n",
      "Iter 148: f = -365.42222675\n",
      "Iter 149: f = -365.48775845\n",
      "Iter 150: f = -365.51753734\n",
      "Iter 151: f = -365.55299493\n",
      "Iter 152: f = -365.59671212\n",
      "Iter 153: f = -365.63405094\n",
      "Iter 154: f = -365.64339411\n",
      "Iter 155: f = -365.65976086\n",
      "Iter 156: f = -365.68742292\n",
      "Iter 157: f = -365.72709410\n",
      "Iter 158: f = -365.71398317\n",
      "Iter 159: f = -365.74435612\n",
      "Iter 160: f = -365.76447128\n",
      "Iter 161: f = -365.78270578\n",
      "Iter 162: f = -365.80919404\n",
      "Iter 163: f = -365.82657426\n",
      "Iter 164: f = -365.85447081\n",
      "Iter 165: f = -365.88492876\n",
      "Iter 166: f = -365.89981239\n",
      "Iter 167: f = -365.91245302\n",
      "Iter 168: f = -365.93137271\n",
      "Iter 169: f = -365.95169035\n",
      "Iter 170: f = -365.96562687\n",
      "Iter 171: f = -365.98061662\n",
      "Iter 172: f = -366.00337712\n",
      "Iter 173: f = -366.02667141\n",
      "Iter 174: f = -366.04365745\n",
      "Iter 175: f = -366.06263502\n",
      "Iter 176: f = -366.09041191\n",
      "Iter 177: f = -366.12903721\n",
      "Iter 178: f = -366.17014048\n",
      "Iter 179: f = -366.22499415\n",
      "Iter 180: f = -366.28612591\n",
      "Iter 181: f = -366.33691756\n",
      "Iter 182: f = -366.37617719\n",
      "Iter 183: f = -366.44430270\n",
      "Iter 184: f = -366.54386064\n",
      "Iter 185: f = -366.60346099\n",
      "Iter 186: f = -366.67069207\n",
      "Iter 187: f = -366.74832020\n",
      "Iter 188: f = -366.80618326\n",
      "Iter 189: f = -366.88988135\n",
      "Iter 190: f = -367.02773476\n",
      "Iter 191: f = -367.21497087\n",
      "Iter 192: f = -367.27567596\n",
      "Iter 193: f = -367.38348485\n",
      "Iter 194: f = -367.50636158\n",
      "Iter 195: f = -367.64707682\n",
      "Iter 196: f = -367.57182467\n",
      "Iter 197: f = -367.70422224\n",
      "Iter 198: f = -367.74230065\n",
      "Iter 199: f = -367.80885040\n",
      "Iter 200: f = -367.90763225\n",
      "Iter 201: f = -368.03630688\n",
      "Iter 202: f = -368.20479658\n",
      "Iter 203: f = -368.38728328\n",
      "Iter 204: f = -368.60453363\n",
      "Iter 205: f = -368.95444760\n",
      "Iter 206: f = -369.37091450\n",
      "Iter 207: f = -369.95620400\n",
      "Iter 208: f = -370.73225233\n",
      "Iter 209: f = -371.07102574\n",
      "Iter 210: f = -371.56186153\n",
      "Iter 211: f = -372.07363021\n",
      "Iter 212: f = -372.30511333\n",
      "Iter 213: f = -372.57921574\n",
      "Iter 214: f = -372.90607720\n",
      "Iter 215: f = -372.88117086\n",
      "Iter 216: f = -373.06318986\n",
      "Iter 217: f = -373.15149359\n",
      "Iter 218: f = -373.29307632\n",
      "Iter 219: f = -373.35810681\n",
      "Iter 220: f = -373.46561733\n",
      "Iter 221: f = -373.59602049\n",
      "Iter 222: f = -373.64828369\n",
      "Iter 223: f = -373.71679102\n",
      "Iter 224: f = -373.82565758\n",
      "Iter 225: f = -373.90693768\n",
      "Iter 226: f = -374.03393948\n",
      "Iter 227: f = -374.13707245\n",
      "Iter 228: f = -374.25626294\n",
      "Iter 229: f = -374.33367089\n",
      "Iter 230: f = -374.45147217\n",
      "Iter 231: f = -374.43760722\n",
      "Iter 232: f = -374.50761735\n",
      "Iter 233: f = -374.58998011\n",
      "Iter 234: f = -374.66947989\n",
      "Iter 235: f = -374.64964303\n",
      "Iter 236: f = -374.70527800\n",
      "Iter 237: f = -374.76891545\n",
      "Iter 238: f = -374.87623607\n",
      "Iter 239: f = -374.96869712\n",
      "Iter 240: f = -375.06962069\n",
      "Iter 241: f = -375.16636083\n",
      "Iter 242: f = -375.17489313\n",
      "Iter 243: f = -375.19179064\n",
      "Iter 244: f = -375.25262888\n",
      "Iter 245: f = -375.36726843\n",
      "Iter 246: f = -375.46487474\n",
      "Iter 247: f = -375.46694552\n",
      "Iter 248: f = -375.51479534\n",
      "Iter 249: f = -375.58725262\n",
      "Iter 250: f = -375.55958571\n",
      "Iter 251: f = -375.61786267\n",
      "Iter 252: f = -375.67124249\n",
      "Iter 253: f = -375.74715410\n",
      "Iter 254: f = -375.83754419\n",
      "Iter 255: f = -375.83202755\n",
      "Iter 256: f = -375.88215712\n",
      "Iter 257: f = -375.94919062\n",
      "Iter 258: f = -375.96696059\n",
      "Iter 259: f = -375.99878926\n",
      "Iter 260: f = -376.04746936\n",
      "Iter 261: f = -376.10198947\n",
      "Iter 262: f = -375.97059459\n",
      "Iter 263: f = -376.11450584\n",
      "Iter 264: f = -376.13353089\n",
      "Iter 265: f = -376.15101882\n",
      "Iter 266: f = -376.16447657\n",
      "Iter 267: f = -376.17081946\n",
      "Iter 268: f = -376.18206469\n",
      "Iter 269: f = -376.19821933\n",
      "Iter 270: f = -376.21250446\n",
      "Iter 271: f = -376.21846822\n",
      "Iter 272: f = -376.22870585\n",
      "Iter 273: f = -376.24515892\n",
      "Iter 274: f = -376.24769980\n",
      "Iter 275: f = -376.25251937\n",
      "Iter 276: f = -376.26093805\n",
      "Iter 277: f = -376.27461010\n",
      "Iter 278: f = -376.27742216\n",
      "Iter 279: f = -376.28272421\n",
      "Iter 280: f = -376.29213288\n",
      "Iter 281: f = -376.30256165\n",
      "Iter 282: f = -376.31455150\n",
      "Iter 283: f = -376.32736783\n",
      "Iter 284: f = -376.33878507\n",
      "Iter 285: f = -376.35927381\n",
      "Iter 286: f = -376.38949257\n",
      "Iter 287: f = -376.39573986\n",
      "Iter 288: f = -376.40391782\n",
      "Iter 289: f = -376.41682021\n",
      "Iter 290: f = -376.42688532\n",
      "Iter 291: f = -376.43518443\n",
      "Iter 292: f = -376.44753595\n",
      "Iter 293: f = -376.46540576\n",
      "Iter 294: f = -376.47443805\n",
      "Iter 295: f = -376.48805843\n",
      "Iter 296: f = -376.49937258\n"
     ]
    },
    {
     "name": "stdout",
     "output_type": "stream",
     "text": [
      "Iter 297: f = -376.48307001\n",
      "Iter 298: f = -376.50070713\n",
      "Iter 299: f = -376.50312056\n",
      "Iter 300: f = -376.50730725\n",
      "Iter 301: f = -376.51443122\n",
      "Iter 302: f = -376.52089033\n",
      "Iter 303: f = -376.52753727\n",
      "Iter 304: f = -376.53168162\n",
      "Iter 305: f = -376.53788132\n",
      "Iter 306: f = -376.53973913\n",
      "Iter 307: f = -376.54310994\n",
      "Iter 308: f = -376.54878481\n",
      "Iter 309: f = -376.54943927\n",
      "Iter 310: f = -376.55068705\n",
      "Iter 311: f = -376.55290140\n",
      "Iter 312: f = -376.55655164\n",
      "Iter 313: f = -376.55733777\n",
      "Iter 314: f = -376.55878986\n",
      "Iter 315: f = -376.56135690\n",
      "Iter 316: f = -376.56427497\n",
      "Iter 317: f = -376.56673759\n",
      "Iter 318: f = -376.56760984\n",
      "Iter 319: f = -376.56926604\n",
      "Iter 320: f = -376.57223607\n",
      "Iter 321: f = -376.57744126\n",
      "Iter 322: f = -376.58634411\n",
      "Iter 323: f = -376.59697426\n",
      "Iter 324: f = -376.60468640\n",
      "Iter 325: f = -376.61499346\n",
      "Iter 326: f = -376.63267597\n",
      "Iter 327: f = -376.64831633\n",
      "Iter 328: f = -376.67255139\n",
      "Iter 329: f = -376.68450166\n",
      "Iter 330: f = -376.70210089\n",
      "Iter 331: f = -376.71436219\n",
      "Iter 332: f = -376.73401492\n",
      "Iter 333: f = -376.74916555\n",
      "Iter 334: f = -376.77009362\n",
      "Iter 335: f = -376.78511951\n",
      "Iter 336: f = -376.81098873\n",
      "Iter 337: f = -376.83319741\n",
      "Iter 338: f = -376.87057472\n",
      "Iter 339: f = -376.90798373\n",
      "Iter 340: f = -376.94019643\n",
      "Iter 341: f = -376.94718442\n",
      "Iter 342: f = -376.96034484\n",
      "Iter 343: f = -376.98146736\n",
      "Iter 344: f = -377.01181222\n",
      "Iter 345: f = -377.01089020\n",
      "Iter 346: f = -377.02688434\n",
      "Iter 347: f = -377.04298743\n",
      "Iter 348: f = -376.99062333\n",
      "Iter 349: f = -377.04555277\n",
      "Iter 350: f = -377.05046812\n",
      "Iter 351: f = -377.05940488\n",
      "Iter 352: f = -377.07099685\n",
      "Iter 353: f = -377.08413432\n",
      "Iter 354: f = -377.09411737\n",
      "Iter 355: f = -377.10280177\n",
      "Iter 356: f = -377.11530575\n",
      "Iter 357: f = -377.13444699\n",
      "Iter 358: f = -377.14196161\n",
      "Iter 359: f = -377.15180535\n",
      "Iter 360: f = -377.16249001\n",
      "Iter 361: f = -377.17160154\n",
      "Iter 362: f = -377.17803879\n",
      "Iter 363: f = -377.18707682\n",
      "Iter 364: f = -377.19610755\n",
      "Iter 365: f = -377.20027455\n",
      "Iter 366: f = -377.20376350\n",
      "Iter 367: f = -377.20932077\n",
      "Iter 368: f = -377.21742955\n",
      "Iter 369: f = -377.20950778\n",
      "Iter 370: f = -377.21968060\n",
      "Iter 371: f = -377.22331073\n",
      "Iter 372: f = -377.22640026\n",
      "Iter 373: f = -377.23058595\n",
      "Iter 374: f = -377.23257605\n",
      "Iter 375: f = -377.23547831\n",
      "Iter 376: f = -377.23951303\n",
      "Iter 377: f = -377.24127176\n",
      "Iter 378: f = -377.24311368\n",
      "Iter 379: f = -377.24589607\n",
      "Iter 380: f = -377.24848859\n",
      "Iter 381: f = -377.24110884\n",
      "Iter 382: f = -377.24882444\n",
      "Iter 383: f = -377.24937555\n",
      "Iter 384: f = -377.24995364\n",
      "Iter 385: f = -377.25048828\n",
      "Iter 386: f = -377.25065910\n",
      "Iter 387: f = -377.25086668\n",
      "Iter 388: f = -377.25107608\n",
      "Iter 389: f = -377.25110252\n",
      "Iter 390: f = -377.25115304\n",
      "Iter 391: f = -377.25122989\n",
      "Iter 392: f = -377.25136066\n",
      "Iter 393: f = -377.25153114\n",
      "Iter 394: f = -377.25158141\n",
      "Iter 395: f = -377.25163724\n",
      "Iter 396: f = -377.25167269\n",
      "Iter 397: f = -377.25173833\n",
      "Iter 398: f = -377.25185139\n",
      "Iter 399: f = -377.25194210\n",
      "Iter 400: f = -377.25202176\n",
      "Iter 401: f = -377.25202175\n",
      "Iter 402: f = -377.25204697\n",
      "Iter 403: f = -377.25209292\n",
      "Iter 404: f = -377.25217261\n",
      "Iter 405: f = -377.25216866\n",
      "Iter 406: f = -377.25221188\n",
      "Iter 407: f = -377.25227270\n",
      "Iter 408: f = -377.25230401\n",
      "Iter 409: f = -377.25230402\n",
      "Iter 410: f = -377.25231982\n",
      "Iter 411: f = -377.25233725\n",
      "Iter 412: f = -377.25235741\n",
      "Iter 413: f = -377.25238941\n",
      "Iter 414: f = -377.25241982\n",
      "Iter 415: f = -377.25241738\n",
      "Iter 416: f = -377.25243459\n",
      "Iter 417: f = -377.25245813\n",
      "Iter 418: f = -377.25247411\n",
      "Iter 419: f = -377.25249701\n",
      "Iter 420: f = -377.25250468\n",
      "Iter 421: f = -377.25249714\n",
      "Iter 422: f = -377.25250699\n",
      "Iter 423: f = -377.25251048\n",
      "Iter 424: f = -377.25251636\n",
      "Iter 425: f = -377.25252546\n",
      "Iter 426: f = -377.25253126\n",
      "Iter 427: f = -377.25252795\n",
      "Iter 428: f = -377.25253217\n",
      "Iter 429: f = -377.25253366\n",
      "Iter 430: f = -377.25253508\n",
      "Iter 431: f = -377.25253519\n",
      "Iter 432: f = -377.25253534\n",
      "Iter 433: f = -377.25253553\n",
      "Iter 434: f = -377.25253571\n",
      "Iter 435: f = -377.25253589\n",
      "Iter 436: f = -377.25253605\n",
      "Iter 437: f = -377.25253625\n",
      "Iter 438: f = -377.25253652\n",
      "Iter 439: f = -377.25253661\n",
      "Iter 440: f = -377.25253671\n",
      "Iter 441: f = -377.25253684\n",
      "Iter 442: f = -377.25253703\n",
      "Iter 443: f = -377.25253719\n",
      "Iter 444: f = -377.25253717\n",
      "Iter 445: f = -377.25253726\n",
      "Iter 446: f = -377.25253737\n",
      "Iter 447: f = -377.25253756\n",
      "Iter 448: f = -377.25253778\n",
      "Iter 449: f = -377.25253771\n",
      "Iter 450: f = -377.25253788\n",
      "Iter 451: f = -377.25253804\n",
      "Iter 452: f = -377.25253833\n",
      "Iter 453: f = -377.25253860\n",
      "Iter 454: f = -377.25253825\n",
      "Iter 455: f = -377.25253866\n",
      "Iter 456: f = -377.25253870\n",
      "Iter 457: f = -377.25253877\n",
      "Iter 458: f = -377.25253887\n",
      "Iter 459: f = -377.25253891\n",
      "Iter 460: f = -377.25253897\n",
      "Iter 461: f = -377.25253906\n",
      "Iter 462: f = -377.25253917\n",
      "Iter 463: f = -377.25253919\n",
      "Iter 464: f = -377.25253923\n",
      "Iter 465: f = -377.25253927\n",
      "Iter 466: f = -377.25253927\n",
      "Iter 467: f = -377.25253927\n",
      "Iter 468: f = -377.25253927\n",
      "Iter 469: f = -377.25253928\n",
      "Iter 470: f = -377.25253928\n",
      "Iter 471: f = -377.25253928\n",
      "Iter 472: f = -377.25253928\n",
      "Iter 473: f = -377.25253928\n",
      "Iter 474: f = -377.25253928\n",
      "Iter 475: f = -377.25253928\n",
      "Iter 476: f = -377.25253928\n",
      "Iter 477: f = -377.25253928\n",
      "Iter 478: f = -377.25253928\n",
      "Iter 479: f = -377.25253928\n",
      "Warning: Desired error not necessarily achieved due to precision loss.\n",
      "         Current function value: -377.252539\n",
      "         Iterations: 445\n",
      "         Function evaluations: 480\n",
      "         Gradient evaluations: 479\n",
      "\n",
      " running preconditioned newton; iter =  0\n",
      "Computing Hessian to set preconditioner\n",
      "preconditioning time: 26.77\n",
      "running newton steps\n",
      "Iter 0: f = -377.25253928\n",
      "Iter 1: f = -377.25253928\n",
      "Optimization terminated successfully.\n",
      "         Current function value: -377.252539\n",
      "         Iterations: 1\n",
      "         Function evaluations: 2\n",
      "         Gradient evaluations: 2\n",
      "         Hessian evaluations: 2\n",
      "Iter 0: x_diff = 5.278348449511627e-06, f_diff = 3.410605131648481e-13, grad_l1 = 4.498200961532075e-11\n",
      "done. \n"
     ]
    }
   ],
   "source": [
    "vb_opt = optimization_lib.optimize_full(get_loss, init_vb_free_params,\n",
    "                    bfgs_max_iter = 500, netwon_max_iter = 50,\n",
    "                    max_precondition_iter = 10,\n",
    "                    gtol=1e-8, ftol=1e-8, xtol=1e-8)"
   ]
  },
  {
   "cell_type": "code",
   "execution_count": 16,
   "metadata": {},
   "outputs": [],
   "source": [
    "vb_opt_dict = vb_params_paragami.fold(vb_opt, free = True)"
   ]
  },
  {
   "cell_type": "code",
   "execution_count": 17,
   "metadata": {},
   "outputs": [],
   "source": [
    "e_z_opt = gmm_lib.get_optimal_z_from_vb_params_dict(features, vb_opt_dict,\n",
    "                                                    gh_loc, gh_weights)"
   ]
  },
  {
   "cell_type": "code",
   "execution_count": null,
   "metadata": {},
   "outputs": [],
   "source": []
  },
  {
   "cell_type": "markdown",
   "metadata": {},
   "source": [
    "# Check out results from Newton"
   ]
  },
  {
   "cell_type": "code",
   "execution_count": 18,
   "metadata": {},
   "outputs": [],
   "source": [
    "def plot_results_from_vb_params_dict(pca_fit, vb_params_dict, e_z, fig): \n",
    "    # we plot in PCA space\n",
    "    bnp_centroids_pc, bnp_cluster_covs_pc = \\\n",
    "        utils_lib.transform_params_to_pc_space(pca_fit, \n",
    "                        vb_params_dict['cluster_params']['centroids'], \n",
    "                        np.linalg.inv(vb_params_dict['cluster_params']['cluster_info']))\n",
    "\n",
    "    bnp_clusters = np.argmax(e_z, axis = 1)\n",
    "    \n",
    "    cmap = cm.get_cmap(name='gist_rainbow')\n",
    "    colors1 = [cmap(k * 50) for k in range(30)]\n",
    "\n",
    "    utils_lib.plot_clusters(pc_features[:, 0], pc_features[:, 1], bnp_clusters, \\\n",
    "                  colors1, fig, \\\n",
    "                  centroids = bnp_centroids_pc[:, np.unique(bnp_clusters)], \n",
    "                cov = bnp_cluster_covs_pc[np.unique(bnp_clusters)])\n"
   ]
  },
  {
   "cell_type": "code",
   "execution_count": 19,
   "metadata": {},
   "outputs": [
    {
     "data": {
      "text/plain": [
       "Text(0, 0.5, 'PC2')"
      ]
     },
     "execution_count": 19,
     "metadata": {},
     "output_type": "execute_result"
    },
    {
     "data": {
      "image/png": "[encoded data removed]",
      "text/plain": [
       "<Figure size 432x288 with 1 Axes>"
      ]
     },
     "metadata": {
      "needs_background": "light"
     },
     "output_type": "display_data"
    }
   ],
   "source": [
    "fig1 = plt.figure(1)\n",
    "fig = fig1.add_subplot(111)\n",
    "\n",
    "plot_results_from_vb_params_dict(pca_fit, vb_opt_dict, e_z_opt, fig)\n",
    "fig.set_xlabel('PC1', fontsize = 18)\n",
    "fig.set_ylabel('PC2', fontsize = 18)\n"
   ]
  },
  {
   "cell_type": "code",
   "execution_count": null,
   "metadata": {},
   "outputs": [],
   "source": []
  },
  {
   "cell_type": "markdown",
   "metadata": {},
   "source": [
    "# Check out CAVI optimizer"
   ]
  },
  {
   "cell_type": "code",
   "execution_count": 20,
   "metadata": {},
   "outputs": [],
   "source": [
    "vb_params_dict = deepcopy(init_vb_params_dict)\n",
    "\n",
    "# vb_params_dict = vb_params_paragami.random()"
   ]
  },
  {
   "cell_type": "code",
   "execution_count": 21,
   "metadata": {},
   "outputs": [
    {
     "data": {
      "text/plain": [
       "Text(0, 0.5, 'PC2')"
      ]
     },
     "execution_count": 21,
     "metadata": {},
     "output_type": "execute_result"
    },
    {
     "data": {
      "image/png": "[encoded data removed]",
      "text/plain": [
       "<Figure size 432x288 with 1 Axes>"
      ]
     },
     "metadata": {
      "needs_background": "light"
     },
     "output_type": "display_data"
    }
   ],
   "source": [
    "fig1 = plt.figure(1)\n",
    "fig = fig1.add_subplot(111)\n",
    "\n",
    "plot_results_from_vb_params_dict(pca_fit, init_vb_params_dict, init_ez, fig)\n",
    "fig.set_xlabel('PC1', fontsize = 18)\n",
    "fig.set_ylabel('PC2', fontsize = 18)\n"
   ]
  },
  {
   "cell_type": "code",
   "execution_count": 22,
   "metadata": {},
   "outputs": [],
   "source": [
    "import time"
   ]
  },
  {
   "cell_type": "code",
   "execution_count": 23,
   "metadata": {},
   "outputs": [
    {
     "name": "stdout",
     "output_type": "stream",
     "text": [
      "done. num iterations = 124\n",
      "stick_time: 1.203sec\n",
      "cluster_time: 0.114sec\n",
      "e_z_time: 0.343sec\n",
      "**TOTAL time: 2.235sec**\n"
     ]
    }
   ],
   "source": [
    "vb_cavi_dict, e_z_cavi, kl_vec = \\\n",
    "    cavi_lib.run_cavi(features, vb_params_dict,\n",
    "                vb_params_paragami,\n",
    "                prior_params_dict,\n",
    "                gh_loc, gh_weights,\n",
    "                max_iter = 1000,\n",
    "                tol = 1e-8,\n",
    "                debug = False)"
   ]
  },
  {
   "cell_type": "code",
   "execution_count": 24,
   "metadata": {},
   "outputs": [
    {
     "data": {
      "text/plain": [
       "[<matplotlib.lines.Line2D at 0x7f0d402f8ee0>]"
      ]
     },
     "execution_count": 24,
     "metadata": {},
     "output_type": "execute_result"
    },
    {
     "data": {
      "image/png": "[encoded data removed]",
      "text/plain": [
       "<Figure size 432x288 with 1 Axes>"
      ]
     },
     "metadata": {
      "needs_background": "light"
     },
     "output_type": "display_data"
    }
   ],
   "source": [
    "plt.plot(kl_vec)"
   ]
  },
  {
   "cell_type": "code",
   "execution_count": 25,
   "metadata": {},
   "outputs": [
    {
     "data": {
      "text/plain": [
       "-370.2307398981513"
      ]
     },
     "execution_count": 25,
     "metadata": {},
     "output_type": "execute_result"
    }
   ],
   "source": [
    "kl_vec.mean()"
   ]
  },
  {
   "cell_type": "code",
   "execution_count": 26,
   "metadata": {},
   "outputs": [
    {
     "data": {
      "text/plain": [
       "Text(0, 0.5, 'PC2')"
      ]
     },
     "execution_count": 26,
     "metadata": {},
     "output_type": "execute_result"
    },
    {
     "data": {
      "image/png": "[encoded data removed]",
      "text/plain": [
       "<Figure size 432x288 with 1 Axes>"
      ]
     },
     "metadata": {
      "needs_background": "light"
     },
     "output_type": "display_data"
    }
   ],
   "source": [
    "fig1 = plt.figure(1)\n",
    "fig = fig1.add_subplot(111)\n",
    "\n",
    "plot_results_from_vb_params_dict(pca_fit, vb_cavi_dict, e_z_cavi, fig)\n",
    "fig.set_xlabel('PC1', fontsize = 18)\n",
    "fig.set_ylabel('PC2', fontsize = 18)\n"
   ]
  },
  {
   "cell_type": "code",
   "execution_count": null,
   "metadata": {},
   "outputs": [],
   "source": []
  },
  {
   "cell_type": "code",
   "execution_count": 27,
   "metadata": {},
   "outputs": [
    {
     "data": {
      "text/plain": [
       "-377.7428353718093"
      ]
     },
     "execution_count": 27,
     "metadata": {},
     "output_type": "execute_result"
    }
   ],
   "source": [
    "get_loss(vb_params_paragami.flatten(vb_cavi_dict, free = True))"
   ]
  },
  {
   "cell_type": "code",
   "execution_count": 28,
   "metadata": {},
   "outputs": [
    {
     "data": {
      "text/plain": [
       "-377.25253927654353"
      ]
     },
     "execution_count": 28,
     "metadata": {},
     "output_type": "execute_result"
    }
   ],
   "source": [
    "get_loss(vb_params_paragami.flatten(vb_opt_dict, free = True))"
   ]
  },
  {
   "cell_type": "code",
   "execution_count": null,
   "metadata": {},
   "outputs": [],
   "source": []
  },
  {
   "cell_type": "markdown",
   "metadata": {},
   "source": [
    "# Run newton after CAVI"
   ]
  },
  {
   "cell_type": "code",
   "execution_count": 29,
   "metadata": {},
   "outputs": [
    {
     "name": "stdout",
     "output_type": "stream",
     "text": [
      "running bfgs ... \n",
      "Iter 0: f = -377.74283537\n",
      "Iter 1: f = -377.74247339\n",
      "Iter 2: f = -377.74283538\n",
      "Iter 3: f = -377.74283538\n",
      "Iter 4: f = -377.74283539\n",
      "Iter 5: f = -377.74283540\n",
      "Iter 6: f = -377.74283540\n",
      "Iter 7: f = -377.74283540\n",
      "Iter 8: f = -377.74283540\n",
      "Iter 9: f = -377.74283540\n",
      "Iter 10: f = -377.74283541\n",
      "Iter 11: f = -377.74283542\n",
      "Iter 12: f = -377.74283543\n",
      "Iter 13: f = -377.74283548\n",
      "Iter 14: f = -377.74283557\n",
      "Iter 15: f = -377.74283564\n",
      "Iter 16: f = -377.74283569\n",
      "Iter 17: f = -377.74283512\n",
      "Iter 18: f = -377.74283570\n",
      "Iter 19: f = -377.74283571\n",
      "Iter 20: f = -377.74283571\n",
      "Iter 21: f = -377.74283572\n",
      "Iter 22: f = -377.74283573\n",
      "Iter 23: f = -377.74283575\n",
      "Iter 24: f = -377.74283575\n",
      "Iter 25: f = -377.74283576\n",
      "Iter 26: f = -377.74283577\n",
      "Iter 27: f = -377.74283577\n",
      "Iter 28: f = -377.74283577\n",
      "Iter 29: f = -377.74283578\n",
      "Iter 30: f = -377.74283578\n",
      "Iter 31: f = -377.74283578\n",
      "Iter 32: f = -377.74283578\n",
      "Iter 33: f = -377.74283578\n",
      "Iter 34: f = -377.74283579\n",
      "Iter 35: f = -377.74283579\n",
      "Iter 36: f = -377.74283579\n",
      "Iter 37: f = -377.74283579\n",
      "Iter 38: f = -377.74283579\n",
      "Iter 39: f = -377.74283579\n",
      "Iter 40: f = -377.74283579\n",
      "Iter 41: f = -377.74283579\n",
      "Iter 42: f = -377.74283579\n",
      "Iter 43: f = -377.74283579\n",
      "Iter 44: f = -377.74283579\n",
      "Iter 45: f = -377.74283579\n",
      "Iter 46: f = -377.74283579\n",
      "Iter 47: f = -377.74283579\n",
      "Iter 48: f = -377.74283579\n",
      "Iter 49: f = -377.74283579\n",
      "Iter 50: f = -377.74283579\n",
      "Iter 51: f = -377.74283579\n",
      "Iter 52: f = -377.74283579\n",
      "Iter 53: f = -377.74283579\n",
      "Iter 54: f = -377.74283579\n",
      "Iter 55: f = -377.74283579\n",
      "Iter 56: f = -377.74283579\n",
      "Iter 57: f = -377.74283579\n",
      "Iter 58: f = -377.74283579\n",
      "Iter 59: f = -377.74283579\n",
      "Iter 60: f = -377.74283579\n",
      "Iter 61: f = -377.74283579\n",
      "Iter 62: f = -377.74283579\n",
      "Iter 63: f = -377.74283579\n",
      "Iter 64: f = -377.74283579\n",
      "Iter 65: f = -377.74283579\n",
      "Iter 66: f = -377.74283579\n",
      "Iter 67: f = -377.74283579\n",
      "Iter 68: f = -377.74283579\n",
      "Iter 69: f = -377.74283579\n",
      "Iter 70: f = -377.74283579\n",
      "Iter 71: f = -377.74283579\n",
      "Iter 72: f = -377.74283579\n",
      "Iter 73: f = -377.74283579\n",
      "Iter 74: f = -377.74283579\n",
      "Iter 75: f = -377.74283579\n",
      "Iter 76: f = -377.74283579\n",
      "Iter 77: f = -377.74283579\n",
      "Iter 78: f = -377.74283579\n",
      "Iter 79: f = -377.74283579\n",
      "Iter 80: f = -377.74283579\n",
      "Iter 81: f = -377.74283579\n",
      "Iter 82: f = -377.74283579\n",
      "Iter 83: f = -377.74283579\n",
      "Iter 84: f = -377.74283579\n",
      "Iter 85: f = -377.74283579\n",
      "Iter 86: f = -377.74283579\n",
      "Iter 87: f = -377.74283579\n",
      "Iter 88: f = -377.74283579\n",
      "Iter 89: f = -377.74283579\n",
      "Iter 90: f = -377.74283579\n",
      "Iter 91: f = -377.74283579\n",
      "Iter 92: f = -377.74283579\n",
      "Iter 93: f = -377.74283579\n",
      "Iter 94: f = -377.74283579\n",
      "Iter 95: f = -377.74283579\n",
      "Iter 96: f = -377.74283579\n",
      "Iter 97: f = -377.74283579\n",
      "Iter 98: f = -377.74283579\n",
      "Iter 99: f = -377.74283579\n",
      "Iter 100: f = -377.74283579\n",
      "Iter 101: f = -377.74283579\n",
      "Iter 102: f = -377.74283579\n",
      "Iter 103: f = -377.74283579\n",
      "Iter 104: f = -377.74283579\n",
      "Iter 105: f = -377.74283579\n",
      "Iter 106: f = -377.74283579\n",
      "Iter 107: f = -377.74283579\n",
      "Iter 108: f = -377.74283579\n",
      "Iter 109: f = -377.74283579\n",
      "Iter 110: f = -377.74283579\n",
      "Iter 111: f = -377.74283579\n",
      "Iter 112: f = -377.74283579\n",
      "Warning: Desired error not necessarily achieved due to precision loss.\n",
      "         Current function value: -377.742836\n",
      "         Iterations: 44\n",
      "         Function evaluations: 113\n",
      "         Gradient evaluations: 101\n",
      "\n",
      " running preconditioned newton; iter =  0\n",
      "Computing Hessian to set preconditioner\n",
      "preconditioning time: 27.62\n",
      "running newton steps\n",
      "Iter 0: f = -377.74283579\n",
      "Iter 1: f = -377.74283579\n",
      "Optimization terminated successfully.\n",
      "         Current function value: -377.742836\n",
      "         Iterations: 1\n",
      "         Function evaluations: 2\n",
      "         Gradient evaluations: 2\n",
      "         Hessian evaluations: 2\n",
      "Iter 0: x_diff = 8.729982253880757e-06, f_diff = 5.684341886080802e-14, grad_l1 = 4.0164206769969866e-11\n",
      "done. \n"
     ]
    }
   ],
   "source": [
    "vb_opt2 = optimization_lib.optimize_full(get_loss, \n",
    "                    vb_params_paragami.flatten(deepcopy(vb_cavi_dict), free = True),\n",
    "                    bfgs_max_iter = 500, netwon_max_iter = 50,\n",
    "                    max_precondition_iter = 10,\n",
    "                    gtol=1e-8, ftol=1e-8, xtol=1e-8)"
   ]
  },
  {
   "cell_type": "code",
   "execution_count": null,
   "metadata": {},
   "outputs": [],
   "source": []
  },
  {
   "cell_type": "code",
   "execution_count": null,
   "metadata": {},
   "outputs": [],
   "source": []
  },
  {
   "cell_type": "code",
   "execution_count": 30,
   "metadata": {},
   "outputs": [
    {
     "data": {
      "text/plain": [
       "0.0010668305255198962"
      ]
     },
     "execution_count": 30,
     "metadata": {},
     "output_type": "execute_result"
    }
   ],
   "source": [
    "np.abs(vb_opt2 - vb_params_paragami.flatten(vb_cavi_dict, free = True)).max()"
   ]
  },
  {
   "cell_type": "code",
   "execution_count": null,
   "metadata": {},
   "outputs": [],
   "source": []
  },
  {
   "cell_type": "code",
   "execution_count": null,
   "metadata": {},
   "outputs": [],
   "source": []
  }
 ],
 "metadata": {
  "kernelspec": {
   "display_name": "bnp_sensitivity",
   "language": "python",
   "name": "bnp_sensitivity"
  },
  "language_info": {
   "codemirror_mode": {
    "name": "ipython",
    "version": 3
   },
   "file_extension": ".py",
   "mimetype": "text/x-python",
   "name": "python",
   "nbconvert_exporter": "python",
   "pygments_lexer": "ipython3",
   "version": "3.8.0"
  }
 },
 "nbformat": 4,
 "nbformat_minor": 2
}
