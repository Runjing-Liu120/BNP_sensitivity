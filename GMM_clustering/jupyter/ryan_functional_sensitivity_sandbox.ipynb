{
 "cells": [
  {
   "cell_type": "code",
   "execution_count": 1,
   "metadata": {
    "collapsed": true
   },
   "outputs": [],
   "source": [
    "git_repo = '../../..'\n",
    "\n",
    "import sys\n",
    "import os\n",
    "\n",
    "sys.path.insert(0, os.path.join(git_repo, 'BNP_sensitivity/GMM_clustering/'))\n",
    "\n",
    "# Linear response libraries\n",
    "import LinearResponseVariationalBayes as vb\n",
    "import LinearResponseVariationalBayes.SparseObjectives as obj_lib\n",
    "import LinearResponseVariationalBayes.OptimizationUtils as opt_lib\n",
    "\n",
    "# Local libraries\n",
    "import gmm_clustering_lib as gmm_utils\n",
    "import modeling_lib \n",
    "import functional_sensitivity_lib as fun_sens_lib \n",
    "import utils_lib\n",
    "\n",
    "import matplotlib.pyplot as plt\n",
    "%matplotlib inline\n",
    "\n",
    "from copy import deepcopy\n",
    "\n",
    "from autograd import numpy as np\n",
    "from autograd import scipy as sp\n",
    "\n",
    "# import numpy as np\n",
    "# import scipy as sp\n",
    "\n",
    "np.random.seed(453453)\n",
    "\n",
    "import json "
   ]
  },
  {
   "cell_type": "code",
   "execution_count": 2,
   "metadata": {
    "collapsed": true
   },
   "outputs": [],
   "source": [
    "# Load results from previous fit.\n",
    "#filename = 'ryan_iris_bnp_full_data_fit_alpha8.0.json'\n",
    "#filename = 'ryan_simulation_bnp_full_data_fit_alpha1.0.json'\n",
    "filename = 'ryan_simulation_bnp_full_data_fit_alpha1.0.json'\n",
    "json_input_file = os.path.join(\n",
    "    git_repo,\n",
    "    'BNP_sensitivity/GMM_clustering/iris_fits/',\n",
    "    filename)\n",
    "\n",
    "with open(json_input_file, 'r') as fp:\n",
    "    fit_dict = json.load(fp)\n",
    "    model = gmm_utils.get_model_from_checkpoint(fit_dict)\n",
    "    model_ = gmm_utils.get_model_from_checkpoint(fit_dict)\n",
    "    best_param = model.global_vb_params.get_free()\n",
    "    kl_hessian = gmm_utils.get_kl_hessian_from_checkpoint(fit_dict)"
   ]
  },
  {
   "cell_type": "code",
   "execution_count": 3,
   "metadata": {},
   "outputs": [],
   "source": [
    "moment_model = gmm_utils.InterestingMoments(model)\n",
    "dg_deta = moment_model.get_moment_jacobian(best_param)\n",
    "#linear_sens = gmm_utils.LinearSensitivity(model, moment_model, kl_hessian)"
   ]
  },
  {
   "cell_type": "code",
   "execution_count": 4,
   "metadata": {},
   "outputs": [
    {
     "name": "stdout",
     "output_type": "stream",
     "text": [
      "Moment parameters:\n",
      "\tcentroids:\n",
      "[[ 4.94219872e-01 -5.02553164e-01 -1.50129262e+00  1.44611002e+00\n",
      "  -8.60116511e-02  2.99899606e-01 -8.21160897e-03 -2.33951169e-03\n",
      "  -7.96009427e-04 -2.89341340e-04 -1.09959456e-04 -1.09959541e-04]\n",
      " [ 5.37078601e-01 -5.21003176e-01 -1.51280097e+00  6.86712711e-01\n",
      "   2.86816504e-01 -1.15191164e-01  1.02012193e-02  3.20581680e-03\n",
      "   1.12390469e-03  4.04996467e-04  1.44889140e-04  1.44888721e-04]]\n",
      "\tcluster_weights:\n",
      "[4.16828681e-01 3.30799689e-01 2.48023110e-01 3.04000227e-03\n",
      " 7.06084748e-04 3.09783619e-04 1.47655640e-04 7.27298364e-05\n",
      " 3.61711229e-05 1.80519646e-05 9.02074734e-06 9.02074734e-06]\n",
      "\tv_sticks:\n",
      "[-3.36147171e-01  2.71078276e-01  4.15580988e+00  1.02169943e+00\n",
      "  2.22352577e-01  8.42543592e-02  2.75574502e-02  9.80599206e-03\n",
      "  3.29468528e-03  8.90324866e-04  4.76839732e-11]\n"
     ]
    }
   ],
   "source": [
    "moment_model.set_moments_from_free_par(best_param)\n",
    "print(moment_model.moment_params)"
   ]
  },
  {
   "cell_type": "code",
   "execution_count": 5,
   "metadata": {},
   "outputs": [
    {
     "name": "stdout",
     "output_type": "stream",
     "text": [
      "prior_params:\n",
      "\talpha: [1.]\n",
      "\tprior_centroid_mean: [0.]\n",
      "\tprior_centroid_info: [0.1]\n",
      "\tprior_gamma_df: [8.]\n",
      "\tprior_gamma_inv_scale:\n",
      "[[0.62 0.  ]\n",
      " [0.   0.62]]\n"
     ]
    }
   ],
   "source": [
    "print(model.prior_params)"
   ]
  },
  {
   "cell_type": "code",
   "execution_count": 6,
   "metadata": {},
   "outputs": [
    {
     "name": "stdout",
     "output_type": "stream",
     "text": [
      "0.6931471805599453\n"
     ]
    }
   ],
   "source": [
    "# Define a perturbation in the logit v space.\n",
    "\n",
    "phi_center = 0.\n",
    "#phi_log_rescale = stick_sens.get_log_p0_logit_stick(phi_center)\n",
    "phi_log_rescale = -np.log(0.5)\n",
    "print(phi_log_rescale)\n",
    "def log_phi(logit_v):\n",
    "    return(-0.5 * (logit_v - phi_center) ** 2 - phi_log_rescale)\n",
    "\n",
    "def phi(logit_v):\n",
    "    return np.exp(log_phi(logit_v))"
   ]
  },
  {
   "cell_type": "code",
   "execution_count": 37,
   "metadata": {},
   "outputs": [
    {
     "name": "stdout",
     "output_type": "stream",
     "text": [
      "0.0 -1.3510778981832263 -0.03663537377491137 -1.314446956474002\n"
     ]
    }
   ],
   "source": [
    "import scipy as osp\n",
    "\n",
    "class PriorPerturbation(object):\n",
    "    def __init__(self, model, log_phi, epsilon=1.0):\n",
    "        self.logit_v_lb = -4\n",
    "        self.logit_v_ub = 4\n",
    "        \n",
    "        self.model = model\n",
    "        \n",
    "        self.epsilon_param = vb.ScalarParam('epsilon', lb=0.0)\n",
    "        self.epsilon_param.set(epsilon)\n",
    "\n",
    "        self.set_log_phi(log_phi)\n",
    "        \n",
    "        if not model.vb_params.use_logitnormal_sticks:\n",
    "            raise NotImplementedError(\n",
    "                'functional sensitivty only computed with logitnormal sticks')\n",
    "        self.model = model\n",
    "        \n",
    "        self.objective = obj_lib.Objective(\n",
    "            self.model.global_vb_params, self.get_perturbed_kl)\n",
    "        \n",
    "    def get_epsilon_phi(self, x):\n",
    "        # You need to differentiate this at epsilon = 0, so don't take the log.\n",
    "        #return np.exp(self.log_phi(x) + np.log(self.epsilon_param.get()))\n",
    "        return np.exp(self.log_phi(x)) * self.epsilon_param.get()\n",
    "        \n",
    "    def get_e_log_perturbation(self):\n",
    "        return \\\n",
    "            -1 * np.sum(gmm_utils.get_e_log_perturbation_vec(\n",
    "                    self.model.vb_params, self.get_epsilon_phi))\n",
    "\n",
    "    def get_perturbed_kl(self):\n",
    "        return self.get_e_log_perturbation() + self.model.set_z_get_kl()\n",
    "        \n",
    "    # The log variational density of stick k at logit_v\n",
    "    # in the logit_stick space.\n",
    "    def get_log_q_logit_stick(self, logit_v, k):\n",
    "        mean = self.model.global_vb_params['v_sticks']['mean'].get()[k]\n",
    "        info = self.model.global_vb_params['v_sticks']['info'].get()[k]\n",
    "        return -0.5 * (info * (logit_v - mean) ** 2 - np.log(info))\n",
    "\n",
    "    # Return a vector of log variational densities for all sticks at logit_v\n",
    "    # in the logit stick space.\n",
    "    def get_log_q_logit_all_sticks(self, logit_v):\n",
    "        mean = self.model.global_vb_params['v_sticks']['mean'].get()\n",
    "        info = self.model.global_vb_params['v_sticks']['info'].get()\n",
    "        return -0.5 * (info * (logit_v - mean) ** 2 - np.log(info))\n",
    "\n",
    "    def get_log_p0(self, v):\n",
    "        alpha = self.model.prior_params['alpha'].get()\n",
    "        return (alpha - 1) * np.log1p(v) - self.log_norm_p0\n",
    "\n",
    "    def get_log_p0_logit(self, logit_v):\n",
    "        alpha = self.model.prior_params['alpha'].get()\n",
    "        return \\\n",
    "            logit_v - (alpha + 1) * np.log1p(np.exp(logit_v)) - \\\n",
    "            self.log_norm_p0_logit\n",
    "\n",
    "    def get_log_pc(self, v):\n",
    "        logit_v = np.log(v) - np.log(1 - v)\n",
    "        epsilon = self.epsilon_param.get()\n",
    "        if np.abs(epsilon) < 1e-8:\n",
    "            return self.get_log_p0(v)            \n",
    "        else:\n",
    "            log_epsilon = np.log(epsilon)\n",
    "            return \\\n",
    "                self.get_log_p0(v) + \\\n",
    "                self.log_phi(logit_v) + \\\n",
    "                log_epsilon - \\\n",
    "                self.log_norm_pc\n",
    "\n",
    "    def get_log_pc_logit(self, logit_v):\n",
    "        epsilon = self.epsilon_param.get()\n",
    "        if np.abs(epsilon) < 1e-8:\n",
    "            return self.get_log_p0_logit(logit_v)            \n",
    "        else:\n",
    "            log_epsilon = np.log(epsilon)\n",
    "            return \\\n",
    "                self.get_log_p0_logit(logit_v) + \\\n",
    "                self.log_phi(logit_v) + \\\n",
    "                log_epsilon - \\\n",
    "                self.log_norm_pc_logit\n",
    "\n",
    "    # Setting functions for initialization\n",
    "    def set_epsilon(self, epsilon):\n",
    "        self.epsilon_param.set(epsilon)\n",
    "        self.set_log_phi(self.log_phi)\n",
    "        \n",
    "    def set_log_phi(self, log_phi):\n",
    "        # Set attributes derived from phi and epsilon\n",
    "        \n",
    "        # Initial values for the log normalzing constants which will be set below.\n",
    "        self.log_norm_p0 = 0\n",
    "        self.log_norm_pc = 0\n",
    "        self.log_norm_p0_logit = 0\n",
    "        self.log_norm_pc_logit = 0\n",
    "\n",
    "        self.log_phi = log_phi\n",
    "        \n",
    "        norm_p0, _ = osp.integrate.quadrature(\n",
    "            lambda v: np.exp(self.get_log_p0(v)), 0, 1)\n",
    "        assert norm_p0 > 0 \n",
    "        self.log_norm_p0 = np.log(norm_p0)\n",
    "\n",
    "        norm_pc, _ = osp.integrate.quadrature(\n",
    "            lambda v: np.exp(self.get_log_pc(v)),\n",
    "            0, 1)\n",
    "        assert norm_pc > 0 \n",
    "        self.log_norm_pc = np.log(norm_pc)\n",
    "        \n",
    "        norm_p0_logit, _ = osp.integrate.quadrature(\n",
    "            lambda logit_v: np.exp(self.get_log_p0_logit(logit_v)),\n",
    "            self.logit_v_lb, self.logit_v_ub)\n",
    "        assert norm_p0_logit > 0 \n",
    "        self.log_norm_p0_logit = np.log(norm_p0_logit)\n",
    "\n",
    "        norm_pc_logit, _ = osp.integrate.quadrature(\n",
    "            lambda logit_v: np.exp(self.get_log_pc_logit(logit_v)),\n",
    "            self.logit_v_lb, self.logit_v_ub)\n",
    "        assert norm_pc_logit > 0 \n",
    "        self.log_norm_pc_logit = np.log(norm_pc_logit)\n",
    "        \n",
    "\n",
    "prior_perturbation = PriorPerturbation(model, log_phi)\n",
    "print(\n",
    "    prior_perturbation.log_norm_p0,\n",
    "    prior_perturbation.log_norm_pc,\n",
    "    prior_perturbation.log_norm_p0_logit,\n",
    "    prior_perturbation.log_norm_pc_logit)"
   ]
  },
  {
   "cell_type": "code",
   "execution_count": 38,
   "metadata": {},
   "outputs": [
    {
     "name": "stdout",
     "output_type": "stream",
     "text": [
      "phi max:  0.49989900265152387\n"
     ]
    },
    {
     "data": {
      "text/plain": [
       "Text(0.5,1,'Priors in logit space')"
      ]
     },
     "execution_count": 38,
     "metadata": {},
     "output_type": "execute_result"
    },
    {
     "data": {
      "image/png": "[encoded data removed]",
      "text/plain": [
       "<matplotlib.figure.Figure at 0x7f5bd437ada0>"
      ]
     },
     "metadata": {},
     "output_type": "display_data"
    }
   ],
   "source": [
    "prior_perturbation.set_epsilon(1.0)\n",
    "\n",
    "logit_v_grid = np.linspace(-4, 4, 200)\n",
    "v_grid = np.exp(logit_v_grid) / (1 + np.exp(logit_v_grid))\n",
    "\n",
    "print('phi max: ', np.max(phi(logit_v_grid)))\n",
    "\n",
    "plt.figure(1, figsize=(18, 5))\n",
    "\n",
    "#plt.plot(v_grid, phi(logit_v_grid))\n",
    "plt.subplot(141)\n",
    "plt.plot(logit_v_grid, prior_perturbation.get_log_p0_logit(logit_v_grid))\n",
    "plt.plot(logit_v_grid, prior_perturbation.get_log_pc_logit(logit_v_grid))\n",
    "plt.title('Log priors in logit space')\n",
    "\n",
    "plt.subplot(142)\n",
    "plt.plot(logit_v_grid, np.exp(prior_perturbation.log_phi(logit_v_grid)))\n",
    "plt.title('phi in logit space')\n",
    "\n",
    "plt.subplot(143)\n",
    "plt.plot(v_grid, np.exp(prior_perturbation.get_log_p0(v_grid)))\n",
    "plt.plot(v_grid, np.exp(prior_perturbation.get_log_pc(v_grid)))\n",
    "plt.title('Priors in stick space')\n",
    "\n",
    "plt.subplot(144)\n",
    "plt.plot(logit_v_grid, np.exp(prior_perturbation.get_log_p0_logit(logit_v_grid)))\n",
    "plt.plot(logit_v_grid, np.exp(prior_perturbation.get_log_pc_logit(logit_v_grid)))\n",
    "plt.title('Priors in logit space')\n"
   ]
  },
  {
   "cell_type": "code",
   "execution_count": 34,
   "metadata": {
    "scrolled": false
   },
   "outputs": [
    {
     "name": "stdout",
     "output_type": "stream",
     "text": [
      "33 33 96\n"
     ]
    }
   ],
   "source": [
    "# Choose the number of GH points.\n",
    "import LinearResponseVariationalBayes.ExponentialFamilies as ef\n",
    "model.global_vb_params.set_free(best_param)\n",
    "vb_params = deepcopy(model.vb_params)\n",
    "\n",
    "perturbed_log_density = lambda x : np.log(1.0 + phi(x))\n",
    "\n",
    "expected_perturbations_list = []\n",
    "gh_deg_list = np.arange(3, 100, 1)\n",
    "for gh_deg in gh_deg_list:\n",
    "    gmm_utils.set_gauss_hermite_points(vb_params, gh_deg=gh_deg)\n",
    "    expected_perturbations_list.append(\n",
    "        gmm_utils.get_e_log_perturbation_vec(vb_params, phi))\n",
    "\n",
    "expected_perturbations_list = np.array(expected_perturbations_list)\n",
    "#print(expected_perturbations_list.shape)\n",
    "diffs = (expected_perturbations_list[1:, :] - \\\n",
    "         expected_perturbations_list[:-1, :]) / \\\n",
    "        np.abs(expected_perturbations_list[1:, :] + 1e-6)\n",
    "#print(np.max(diffs, axis=1))\n",
    "max_diffs = np.max(np.abs(diffs), axis=1) \n",
    "gh_deg_threshold = np.argmax(max_diffs < 1e-5)\n",
    "gh_deg = max(20, gh_deg_threshold)\n",
    "print(gh_deg, gh_deg_threshold, len(max_diffs))"
   ]
  },
  {
   "cell_type": "code",
   "execution_count": 11,
   "metadata": {
    "scrolled": false
   },
   "outputs": [
    {
     "name": "stdout",
     "output_type": "stream",
     "text": [
      "Iter: 0\t RMSE: 14.107183366096095\t Objective: -273.64843782554385\n",
      "Iter: 1\t RMSE: 14.107208149949187\t Objective: -273.6484460627952\n",
      "Iter: 2\t RMSE: 14.107234145079005\t Objective: -273.6484460886525\n",
      "Optimization terminated successfully.\n",
      "         Current function value: -273.648446\n",
      "         Iterations: 2\n",
      "         Function evaluations: 3\n",
      "         Gradient evaluations: 3\n",
      "         Hessian evaluations: 0\n",
      "Iter: 3\t RMSE: 14.107234145079005\t Objective: -273.64844608865553\n",
      "Iter: 4\t RMSE: 14.10723429527361\t Objective: -273.64844608865815\n",
      "Optimization terminated successfully.\n",
      "         Current function value: -273.648446\n",
      "         Iterations: 1\n",
      "         Function evaluations: 2\n",
      "         Gradient evaluations: 2\n",
      "         Hessian evaluations: 0\n",
      "Iter: 5\t RMSE: 14.107234295273608\t Objective: -273.64844608865855\n",
      "Iter: 6\t RMSE: 14.10723429531769\t Objective: -273.64844608865724\n",
      "Warning: A bad approximation caused failure to predict improvement.\n",
      "         Current function value: -273.648446\n",
      "         Iterations: 0\n",
      "         Function evaluations: 2\n",
      "         Gradient evaluations: 1\n",
      "         Hessian evaluations: 0\n",
      "Done. \n"
     ]
    }
   ],
   "source": [
    "# First fit with no perturbation but the increased number of gh points.\n",
    "gmm_utils.set_gauss_hermite_points(model.vb_params, gh_deg=gh_deg)\n",
    "\n",
    "best_param_0, converged, x_conv, f_conv, grad_conv, obj_opt, opt_results = \\\n",
    "    opt_lib.repeatedly_optimize(\n",
    "        objective=prior_perturbation.objective,\n",
    "        optimization_fun=lambda x: gmm_utils.precondition_and_optimize(model.objective, x),\n",
    "        init_x=best_param,\n",
    "        initial_optimization_fun=None,\n",
    "        max_iter=100,\n",
    "        gtol=1e-8, ftol=1e-8, xtol=1e-8, disp=False,\n",
    "        keep_intermediate_optimizations=True)\n",
    "\n",
    "kl_hessian_0 = model.objective.fun_free_hessian(best_param_0)\n",
    "    \n",
    "print('Done. ')"
   ]
  },
  {
   "cell_type": "code",
   "execution_count": 39,
   "metadata": {},
   "outputs": [],
   "source": [
    "# This expects the hyperparameter to be at its optimal value.\n",
    "prior_perturbation.set_epsilon(0.0)\n",
    "epsilon_sensitivity = \\\n",
    "    obj_lib.ParametricSensitivity(\n",
    "        objective_fun=model.set_z_get_kl,\n",
    "        input_par=prior_perturbation.model.global_vb_params,\n",
    "        output_par=moment_model.moment_params,\n",
    "        hyper_par=prior_perturbation.epsilon_param,\n",
    "        input_to_output_converter=moment_model.set_moments,\n",
    "        optimal_input_par=best_param_0,\n",
    "        objective_hessian=kl_hessian_0,\n",
    "        hyper_par_objective_fun=prior_perturbation.get_e_log_perturbation)"
   ]
  },
  {
   "cell_type": "code",
   "execution_count": 40,
   "metadata": {},
   "outputs": [
    {
     "data": {
      "text/plain": [
       "1.1072243533720212"
      ]
     },
     "execution_count": 40,
     "metadata": {},
     "output_type": "execute_result"
    }
   ],
   "source": [
    "prior_perturbation.get_e_log_perturbation()\n",
    "np.linalg.norm(epsilon_sensitivity.get_dinput_dhyper())"
   ]
  },
  {
   "cell_type": "markdown",
   "metadata": {},
   "source": [
    "## Fit with perturbation"
   ]
  },
  {
   "cell_type": "code",
   "execution_count": 41,
   "metadata": {},
   "outputs": [
    {
     "name": "stdout",
     "output_type": "stream",
     "text": [
      "epsilon: [0.]\n"
     ]
    }
   ],
   "source": []
  },
  {
   "cell_type": "code",
   "execution_count": 42,
   "metadata": {
    "scrolled": false
   },
   "outputs": [
    {
     "name": "stdout",
     "output_type": "stream",
     "text": [
      "epsilon: 1.0\n",
      "Iter  0  value:  -276.1785857653942\n",
      "Iter  1  value:  -276.26869908214434\n",
      "Iter  2  value:  -276.09845305344913\n",
      "Iter  3  value:  -276.27478411889234\n",
      "Iter  4  value:  -276.2749677293017\n",
      "Iter  5  value:  -276.2753976789561\n",
      "Iter  6  value:  -276.2754182601624\n",
      "Iter  7  value:  -276.27541833415455\n",
      "Iter  8  value:  -276.2754183341593\n",
      "Optimization terminated successfully.\n",
      "         Current function value: -276.275418\n",
      "         Iterations: 8\n",
      "         Function evaluations: 9\n",
      "         Gradient evaluations: 8\n",
      "         Hessian evaluations: 0\n",
      "Iter  9  value:  -276.2754183341588\n",
      "Iter  10  value:  -276.2754183341572\n",
      "Warning: A bad approximation caused failure to predict improvement.\n",
      "         Current function value: -276.275418\n",
      "         Iterations: 0\n",
      "         Function evaluations: 2\n",
      "         Gradient evaluations: 1\n",
      "         Hessian evaluations: 0\n",
      "Done. \n",
      "This is nonzero if phi did anything: 0.8750158504090774\n"
     ]
    }
   ],
   "source": [
    "# Then fit with the perturbation.\n",
    "prior_perturbation.set_epsilon(1.0)\n",
    "print(prior_perturbation.epsilon_param)\n",
    "best_param_phi, converged, x_conv, f_conv, grad_conv, obj_opt, opt_results = \\\n",
    "    opt_lib.repeatedly_optimize(\n",
    "        objective=prior_perturbation.objective,\n",
    "        optimization_fun=\n",
    "            lambda x: gmm_utils.precondition_and_optimize(\n",
    "                prior_perturbation.objective, x),\n",
    "        init_x=best_param_0,\n",
    "        initial_optimization_fun=None,\n",
    "        keep_intermediate_optimizations=True)\n",
    "\n",
    "# best_param_phi, kl_hessian_phi, kl_hessian_corrected_phi, \\\n",
    "#     init_opt_time, newton_time, x_conv, f_conv, vb_opt = \\\n",
    "#     model.optimize_full(\n",
    "#         best_param_0,\n",
    "#         init_max_iter=100,\n",
    "#         final_max_iter=500)\n",
    "\n",
    "print('Done. ')\n",
    "\n",
    "print('This is nonzero if phi did anything:', np.linalg.norm(best_param_phi - best_param_0))"
   ]
  },
  {
   "cell_type": "code",
   "execution_count": 43,
   "metadata": {},
   "outputs": [
    {
     "name": "stdout",
     "output_type": "stream",
     "text": [
      "Epsilon:  1.0\n",
      "Predicted differences:  1.1072243533720214\n"
     ]
    }
   ],
   "source": [
    "epsilon = prior_perturbation.epsilon_param.get()\n",
    "print('Epsilon: ', epsilon)\n",
    "\n",
    "best_param_phi_pred = \\\n",
    "    epsilon_sensitivity.predict_input_par_from_hyperparameters(epsilon)\n",
    "output_phi_pred = epsilon_sensitivity.predict_output_par_from_hyperparameters(\n",
    "    epsilon, linear=True)\n",
    "\n",
    "output_phi = moment_model.set_and_get_moments_from_free_par(best_param_phi)\n",
    "output_0 = moment_model.set_and_get_moments_from_free_par(best_param_0)\n",
    "\n",
    "print('Predicted differences: ', np.linalg.norm(best_param_phi_pred - best_param_0))"
   ]
  },
  {
   "cell_type": "code",
   "execution_count": 44,
   "metadata": {},
   "outputs": [
    {
     "name": "stdout",
     "output_type": "stream",
     "text": [
      "Epsilon: 1.0\n"
     ]
    },
    {
     "data": {
      "text/plain": [
       "[<matplotlib.lines.Line2D at 0x7f5bd4053898>]"
      ]
     },
     "execution_count": 44,
     "metadata": {},
     "output_type": "execute_result"
    },
    {
     "data": {
      "image/png": "[encoded data removed]",
      "text/plain": [
       "<matplotlib.figure.Figure at 0x7f5bd4227cc0>"
      ]
     },
     "metadata": {},
     "output_type": "display_data"
    }
   ],
   "source": [
    "print('Epsilon:', epsilon)\n",
    "\n",
    "plt.figure()\n",
    "plt.subplot(1, 2, 1)\n",
    "plt.plot(best_param_phi - best_param_0, best_param_phi_pred - best_param_0, 'k.')\n",
    "plt.plot(best_param_phi - best_param_0, best_param_phi - best_param_0, 'r')\n",
    "\n",
    "plt.subplot(1, 2, 2)\n",
    "plt.plot(output_phi - output_0, output_phi_pred - output_0, 'k.')\n",
    "plt.plot(output_phi - output_0, output_phi - output_0, 'r')"
   ]
  },
  {
   "cell_type": "markdown",
   "metadata": {},
   "source": [
    "## Influence function stuff  -- outdated"
   ]
  },
  {
   "cell_type": "code",
   "execution_count": null,
   "metadata": {
    "collapsed": true
   },
   "outputs": [],
   "source": [
    "stick_sens = fun_sens_lib.StickSensitivity(model, best_param, kl_hessian, dg_deta.T)"
   ]
  },
  {
   "cell_type": "code",
   "execution_count": null,
   "metadata": {
    "collapsed": true
   },
   "outputs": [],
   "source": [
    "influence_vals = np.array([\n",
    "    stick_sens.get_all_stick_influence(logit_v) for logit_v in logit_v_grid ])"
   ]
  },
  {
   "cell_type": "code",
   "execution_count": null,
   "metadata": {
    "collapsed": true
   },
   "outputs": [],
   "source": [
    "def get_log_q_grad_vec(self, logit_v):\n",
    "    log_q_grad_vec = np.array([\n",
    "        self.log_q_logit_stick_obj.fun_free_grad(\n",
    "            self.best_param, logit_v=logit_v, k=k)\n",
    "        for k in range(self.model.k_approx - 1) ])\n",
    "    return log_q_grad_vec\n",
    "log_q_grads = np.array([ get_log_q_grad_vec(stick_sens, logit_v) for logit_v in logit_v_grid ])"
   ]
  },
  {
   "cell_type": "code",
   "execution_count": null,
   "metadata": {},
   "outputs": [],
   "source": [
    "log_p0 = stick_sens.get_log_p0_logit_stick(logit_v_grid)\n",
    "log_q_vec = np.array([\n",
    "    stick_sens.get_log_q_logit_all_sticks(logit_v) \\\n",
    "    for logit_v in logit_v_grid ])\n",
    "\n",
    "print(log_q_grads.shape)\n",
    "print(log_p0.shape)\n",
    "print(log_q_vec.shape)\n"
   ]
  },
  {
   "cell_type": "code",
   "execution_count": null,
   "metadata": {
    "collapsed": true
   },
   "outputs": [],
   "source": [
    "def get_all_stick_influence_times_phi(self, logit_v_grid, log_q_grads, log_phi, log_epsilon=0):\n",
    "    # The prior is the same for every stick.\n",
    "    log_p0 = stick_sens.get_log_p0_logit_stick(logit_v_grid)[:, np.newaxis]\n",
    "    log_perturbation = log_phi(logit_v_grid)[:, np.newaxis] + log_epsilon\n",
    "    log_q_vec = np.array([\n",
    "        stick_sens.get_log_q_logit_all_sticks(logit_v) \\\n",
    "        for logit_v in logit_v_grid ])\n",
    "\n",
    "    #print(log_q_vec.shape)\n",
    "    #print(log_p0.shape)\n",
    "    #print(log_perturbation.shape)\n",
    "    \n",
    "    #dens_ratios = np.exp(log_q_vec - log_p0 + log_perturbation)\n",
    "    dens_ratios = np.exp(log_q_vec + log_perturbation)\n",
    "    #print(self.lr_mat.shape)\n",
    "    #print(log_q_grads.shape)\n",
    "    #print(dens_ratios.shape)\n",
    "    \n",
    "    # d indexes the free parameters\n",
    "    # g indexes the moments of interest\n",
    "    # n indexes the grid points in logit_v_grid\n",
    "    # k indexes the stick\n",
    "    return(np.einsum('dg,nkd,nk->ng', self.lr_mat, log_q_grads, dens_ratios))\n",
    "\n",
    "influence_phi_vals = \\\n",
    "    get_all_stick_influence_times_phi(\n",
    "        stick_sens, logit_v_grid, log_q_grads, log_phi, log_epsilon=log_epsilon)"
   ]
  },
  {
   "cell_type": "code",
   "execution_count": null,
   "metadata": {},
   "outputs": [],
   "source": [
    "#plt.plot(logit_v_grid, influence_phi_vals[:, 0]);\n",
    "plt.plot(logit_v_grid[1:], (np.diff(logit_v_grid)[:, np.newaxis] * influence_phi_vals[1:,0]).T);"
   ]
  },
  {
   "cell_type": "code",
   "execution_count": null,
   "metadata": {},
   "outputs": [],
   "source": [
    "def get_moments(free_par, moment_model):\n",
    "    moment_model_copy = deepcopy(moment_model)\n",
    "    moment_model_copy.set_moments_from_free_par(free_par)\n",
    "    return moment_model.moment_params.get_vector()\n",
    "\n",
    "pred_influence = np.sum(\n",
    "    np.diff(logit_v_grid)[:, np.newaxis] * influence_phi_vals[1:,:], axis=0)\n",
    "print(pred_influence.shape)\n",
    "\n",
    "true_moment_diff = get_moments(best_param_phi, moment_model) - get_moments(best_param_0, moment_model)"
   ]
  },
  {
   "cell_type": "code",
   "execution_count": null,
   "metadata": {
    "collapsed": true
   },
   "outputs": [],
   "source": [
    "plt.plot(pred_influence, true_moment_diff, 'k.')\n",
    "plt.plot(true_moment_diff, true_moment_diff, 'r')"
   ]
  }
 ],
 "metadata": {
  "kernelspec": {
   "display_name": "Python 3",
   "language": "python",
   "name": "python3"
  },
  "language_info": {
   "codemirror_mode": {
    "name": "ipython",
    "version": 3
   },
   "file_extension": ".py",
   "mimetype": "text/x-python",
   "name": "python",
   "nbconvert_exporter": "python",
   "pygments_lexer": "ipython3",
   "version": "3.5.2"
  }
 },
 "nbformat": 4,
 "nbformat_minor": 2
}
