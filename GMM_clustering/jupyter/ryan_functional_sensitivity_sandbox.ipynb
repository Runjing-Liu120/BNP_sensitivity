{
 "cells": [
  {
   "cell_type": "code",
   "execution_count": 1,
   "metadata": {},
   "outputs": [],
   "source": [
    "git_repo = '../../..'\n",
    "\n",
    "import sys\n",
    "import os\n",
    "\n",
    "sys.path.insert(0, os.path.join(git_repo, 'BNP_sensitivity/GMM_clustering/'))\n",
    "\n",
    "# Linear response libraries\n",
    "import LinearResponseVariationalBayes as vb\n",
    "import LinearResponseVariationalBayes.SparseObjectives as obj_lib\n",
    "import LinearResponseVariationalBayes.OptimizationUtils as opt_lib\n",
    "import LinearResponseVariationalBayes.ModelSensitivity as sens_lib\n",
    "\n",
    "# Local libraries\n",
    "import gmm_clustering_lib as gmm_utils\n",
    "import modeling_lib \n",
    "import functional_sensitivity_lib as fun_sens_lib \n",
    "import utils_lib\n",
    "\n",
    "import matplotlib.pyplot as plt\n",
    "%matplotlib inline\n",
    "\n",
    "from copy import deepcopy\n",
    "\n",
    "from autograd import numpy as np\n",
    "from autograd import scipy as sp\n",
    "\n",
    "# import numpy as np\n",
    "# import scipy as sp\n",
    "\n",
    "np.random.seed(453453)\n",
    "\n",
    "import json "
   ]
  },
  {
   "cell_type": "code",
   "execution_count": 2,
   "metadata": {},
   "outputs": [
    {
     "data": {
      "text/plain": [
       "'/usr/local/lib/python3.5/dist-packages/checkpoints/__init__.py'"
      ]
     },
     "execution_count": 2,
     "metadata": {},
     "output_type": "execute_result"
    }
   ],
   "source": [
    "import checkpoints\n",
    "checkpoints.__file__"
   ]
  },
  {
   "cell_type": "code",
   "execution_count": 3,
   "metadata": {},
   "outputs": [],
   "source": [
    "# Load results from previous fit.\n",
    "filename = 'ryan_iris_bnp_full_data_fit_alpha8.0.json'\n",
    "#filename = 'ryan_simulation_bnp_full_data_fit_alpha1.0.json'\n",
    "#filename = 'ryan_simulation_bnp_full_data_fit_alpha1.0.json'\n",
    "json_input_file = os.path.join(\n",
    "    git_repo,\n",
    "    'BNP_sensitivity/GMM_clustering/iris_fits/',\n",
    "    filename)\n",
    "\n",
    "with open(json_input_file, 'r') as fp:\n",
    "    fit_dict = json.load(fp)\n",
    "    model = gmm_utils.get_model_from_checkpoint(fit_dict)\n",
    "    model_ = gmm_utils.get_model_from_checkpoint(fit_dict)\n",
    "    best_param = model.global_vb_params.get_free()\n",
    "    kl_hessian = gmm_utils.get_kl_hessian_from_checkpoint(fit_dict)"
   ]
  },
  {
   "cell_type": "code",
   "execution_count": 4,
   "metadata": {},
   "outputs": [],
   "source": [
    "moment_model = gmm_utils.InterestingMoments(model)\n",
    "dg_deta = moment_model.get_moment_jacobian(best_param)\n",
    "#linear_sens = gmm_utils.LinearSensitivity(model, moment_model, kl_hessian)"
   ]
  },
  {
   "cell_type": "code",
   "execution_count": 5,
   "metadata": {},
   "outputs": [
    {
     "name": "stdout",
     "output_type": "stream",
     "text": [
      "Moment parameters:\n",
      "\tcentroids:\n",
      "[[ 0.38666612 -0.83707578  0.26621971 -0.76655108  0.16580191  0.14542863\n",
      "   0.12573002  0.10581364  0.0854393   0.06483547  0.04464156  0.56483837]\n",
      " [-0.23790379  0.36417584 -0.36832691 -0.47140487 -0.24397179 -0.2386567\n",
      "  -0.2358718  -0.23474327 -0.23489075 -0.23605722 -0.23796877 -0.0348946 ]\n",
      " [ 0.93725828 -2.29444968  1.50922881  0.70397795  1.00485126  0.95974494\n",
      "   0.92240272  0.88913282  0.85849963  0.83006033  0.80391681  1.63376004]\n",
      " [ 0.28262994 -0.95459406  0.37664286  0.43212211  0.37784028  0.36344441\n",
      "   0.3502652   0.33775649  0.32573857  0.31424943  0.30346891  0.92716892]]\n",
      "\tcluster_weights:\n",
      "[0.41680693 0.31731646 0.01236364 0.01148978 0.00924401 0.00877311\n",
      " 0.00835093 0.00796464 0.0076076  0.0072757  0.0069661  0.1858411 ]\n",
      "\tv_sticks:\n",
      "[-0.33804775  0.17876426 -3.25503707 -3.29425403 -3.5280073  -3.55056991\n",
      " -3.56974917 -3.58676344 -3.60214176 -3.61613863 -3.62888088]\n"
     ]
    }
   ],
   "source": [
    "moment_model.set_moments_from_free_par(best_param)\n",
    "print(moment_model.moment_params)"
   ]
  },
  {
   "cell_type": "code",
   "execution_count": 6,
   "metadata": {},
   "outputs": [
    {
     "name": "stdout",
     "output_type": "stream",
     "text": [
      "prior_params:\n",
      "\talpha: [8.]\n",
      "\tprior_centroid_mean: [0.]\n",
      "\tprior_centroid_info: [0.1]\n",
      "\tprior_gamma_df: [8.]\n",
      "\tprior_gamma_inv_scale:\n",
      "[[0.62 0.   0.   0.  ]\n",
      " [0.   0.62 0.   0.  ]\n",
      " [0.   0.   0.62 0.  ]\n",
      " [0.   0.   0.   0.62]]\n"
     ]
    }
   ],
   "source": [
    "print(model.prior_params)"
   ]
  },
  {
   "cell_type": "code",
   "execution_count": 7,
   "metadata": {},
   "outputs": [
    {
     "name": "stdout",
     "output_type": "stream",
     "text": [
      "0.6931471805599453\n"
     ]
    }
   ],
   "source": [
    "# Define a perturbation in the logit v space.\n",
    "\n",
    "phi_center = -2\n",
    "#phi_log_rescale = stick_sens.get_log_p0_logit_stick(phi_center)\n",
    "phi_log_rescale = -np.log(0.5)\n",
    "print(phi_log_rescale)\n",
    "def log_phi(logit_v):\n",
    "    return(-0.5 * (logit_v - phi_center) ** 2 - phi_log_rescale)\n",
    "\n",
    "def phi(logit_v):\n",
    "    return np.exp(log_phi(logit_v))"
   ]
  },
  {
   "cell_type": "markdown",
   "metadata": {},
   "source": [
    "This perturbation class is based on the contamination model\n",
    "\n",
    "$$\n",
    "p_c(\\theta | \\epsilon, \\phi) =  p_0(\\theta) \\left(1 + \\epsilon \\phi(\\theta) \\right)\n",
    "$$\n",
    "\n",
    "This corresponds to Gustafson's linear model.  One big problem is that you must take $\\epsilon \\rightarrow \\infty$.  Another is that, even if you set it up as a normalized mixture, the scale of the perturbation determines the derivative.  I think it is worth experimenting with the model\n",
    "\n",
    "\\begin{align}\n",
    "p_c(\\theta | \\epsilon, \\phi) &= p_0(\\theta)^{1 - \\epsilon} p_1(\\theta)^\\epsilon \\\\\n",
    "& = p_0(\\theta) \\left(\\frac{p_1(\\theta)}{p_0(\\theta)}\\right)^\\epsilon \\\\\n",
    "& =: p_0(\\theta) (C_1 \\phi(\\theta)) ^ \\epsilon\n",
    "\\end{align}\n",
    "\n",
    "because, among other things, it is invariant to the scaling $C_1$.\n"
   ]
  },
  {
   "cell_type": "code",
   "execution_count": 8,
   "metadata": {},
   "outputs": [
    {
     "name": "stdout",
     "output_type": "stream",
     "text": [
      "3.4618220034785896 -3.6937667578411086 -2.2246409632880852 -1.0222582344004703\n"
     ]
    }
   ],
   "source": [
    "prior_perturbation = fun_sens_lib.PriorPerturbation(model, log_phi)\n",
    "print(\n",
    "    prior_perturbation.log_norm_p0,\n",
    "    prior_perturbation.log_norm_pc,\n",
    "    prior_perturbation.log_norm_p0_logit,\n",
    "    prior_perturbation.log_norm_pc_logit)"
   ]
  },
  {
   "cell_type": "code",
   "execution_count": 9,
   "metadata": {},
   "outputs": [
    {
     "name": "stdout",
     "output_type": "stream",
     "text": [
      "phi max:  0.49997474875006853\n"
     ]
    },
    {
     "data": {
      "text/plain": [
       "Text(0.5,1,'Priors in logit space')"
      ]
     },
     "execution_count": 9,
     "metadata": {},
     "output_type": "execute_result"
    },
    {
     "data": {
      "image/png": "[encoded data removed]",
      "text/plain": [
       "<matplotlib.figure.Figure at 0x7f291821a080>"
      ]
     },
     "metadata": {},
     "output_type": "display_data"
    }
   ],
   "source": [
    "prior_perturbation.set_epsilon(1.0)\n",
    "\n",
    "logit_v_grid = np.linspace(-4, 4, 200)\n",
    "v_grid = np.exp(logit_v_grid) / (1 + np.exp(logit_v_grid))\n",
    "\n",
    "print('phi max: ', np.max(phi(logit_v_grid)))\n",
    "\n",
    "plt.figure(1, figsize=(18, 5))\n",
    "\n",
    "#plt.plot(v_grid, phi(logit_v_grid))\n",
    "plt.subplot(141)\n",
    "plt.plot(logit_v_grid, prior_perturbation.get_log_p0_logit(logit_v_grid))\n",
    "plt.plot(logit_v_grid, prior_perturbation.get_log_pc_logit(logit_v_grid))\n",
    "plt.title('Log priors in logit space')\n",
    "\n",
    "plt.subplot(142)\n",
    "plt.plot(logit_v_grid, np.exp(prior_perturbation.log_phi(logit_v_grid)))\n",
    "plt.title('phi in logit space')\n",
    "\n",
    "plt.subplot(143)\n",
    "plt.plot(v_grid, np.exp(prior_perturbation.get_log_p0(v_grid)))\n",
    "plt.plot(v_grid, np.exp(prior_perturbation.get_log_pc(v_grid)))\n",
    "plt.title('Priors in stick space')\n",
    "\n",
    "plt.subplot(144)\n",
    "plt.plot(logit_v_grid, np.exp(prior_perturbation.get_log_p0_logit(logit_v_grid)))\n",
    "plt.plot(logit_v_grid, np.exp(prior_perturbation.get_log_pc_logit(logit_v_grid)))\n",
    "plt.title('Priors in logit space')\n"
   ]
  },
  {
   "cell_type": "code",
   "execution_count": 10,
   "metadata": {
    "scrolled": false
   },
   "outputs": [
    {
     "name": "stdout",
     "output_type": "stream",
     "text": [
      "[2.08720797 3.08838927 1.74574207 1.80912471 2.19652354 2.24073044\n",
      " 2.27924813 2.31409619 2.34613173 2.37574582 2.40311219]\n",
      "[3.69594917e-16 2.02178124e-16 6.06534372e-16 9.74200680e-16\n",
      " 3.89680272e-16 2.87586200e-16 3.83812064e-16 5.75718096e-16\n",
      " 3.96378791e-16 4.90943451e-16 2.45471725e-16 4.31379300e-16\n",
      " 3.96378791e-16 3.89680272e-16 3.89680272e-16 2.45471725e-16\n",
      " 3.69594917e-16 4.04356248e-16 6.06534372e-16 5.84520408e-16\n",
      " 3.89680272e-16 3.73852303e-16 3.89680272e-16 4.31379300e-16\n",
      " 3.83812064e-16 5.75718096e-16 2.12767009e-16 5.08768121e-16\n",
      " 2.54384060e-16 2.87586200e-16 1.86926152e-16 3.96378791e-16\n",
      " 3.78571259e-16 3.78571259e-16 3.83812064e-16 4.25534018e-16\n",
      " 2.54384060e-16 2.12767009e-16 2.12767009e-16 3.73852303e-16\n",
      " 3.89680272e-16 2.02178124e-16 4.31379300e-16 2.54384060e-16\n",
      " 3.81576091e-16 3.96378791e-16 4.31379300e-16 2.02178124e-16\n",
      " 3.96378791e-16 4.04356248e-16 2.02178124e-16 3.96378791e-16\n",
      " 2.87586200e-16 3.96378791e-16 2.02178124e-16 2.12767009e-16\n",
      " 3.69594917e-16 5.54392375e-16 4.04356248e-16 3.73852303e-16\n",
      " 3.89680272e-16 2.12767009e-16 4.04356248e-16 7.67624128e-16\n",
      " 3.83812064e-16 5.75172399e-16 4.31379300e-16 4.25534018e-16\n",
      " 2.54384060e-16 4.25534018e-16 3.78571259e-16 4.25534018e-16\n",
      " 2.45471725e-16 3.96378791e-16 1.94840136e-16 1.98189396e-16\n",
      " 3.81576091e-16 1.91906032e-16 3.89680272e-16 3.89680272e-16\n",
      " 3.96378791e-16 3.83812064e-16 3.96378791e-16 4.04356248e-16\n",
      " 3.89680272e-16 4.04356248e-16 4.04356248e-16 3.78571259e-16\n",
      " 4.25534018e-16 4.31379300e-16 4.25534018e-16 4.25534018e-16\n",
      " 3.96378791e-16 3.96378791e-16 3.96378791e-16 2.45471725e-16]\n",
      "20 0 96\n"
     ]
    }
   ],
   "source": [
    "# Choose the number of GH points.\n",
    "import LinearResponseVariationalBayes.ExponentialFamilies as ef\n",
    "model.global_vb_params.set_free(best_param)\n",
    "vb_params = deepcopy(model.vb_params)\n",
    "\n",
    "prior_perturbation.set_epsilon(1.0)\n",
    "\n",
    "expected_perturbations_list = []\n",
    "gh_deg_list = np.arange(3, 100, 1)\n",
    "for gh_deg in gh_deg_list:\n",
    "    gmm_utils.set_gauss_hermite_points(\n",
    "        prior_perturbation.model.vb_params, gh_deg=gh_deg)\n",
    "    expected_perturbations_list.append(\n",
    "        prior_perturbation.get_e_log_perturbation(sum_vector=False))\n",
    "\n",
    "print(expected_perturbations_list[0])\n",
    "expected_perturbations_list = np.array(expected_perturbations_list)\n",
    "#print(expected_perturbations_list.shape)\n",
    "diffs = (expected_perturbations_list[1:, :] - \\\n",
    "         expected_perturbations_list[:-1, :]) / \\\n",
    "        np.abs(expected_perturbations_list[1:, :] + 1e-6)\n",
    "#print(np.max(diffs, axis=1))\n",
    "max_diffs = np.max(np.abs(diffs), axis=1)\n",
    "print(max_diffs)\n",
    "gh_deg_threshold = np.argmax(max_diffs < 1e-5)\n",
    "gh_deg = max(20, gh_deg_threshold)\n",
    "print(gh_deg, gh_deg_threshold, len(max_diffs))"
   ]
  },
  {
   "cell_type": "code",
   "execution_count": 11,
   "metadata": {
    "scrolled": false
   },
   "outputs": [
    {
     "name": "stdout",
     "output_type": "stream",
     "text": [
      "Iter: 0\t RMSE: 11.252659818984101\t Objective: -305.35833030090714\n",
      "Iter: 1\t RMSE: 11.252659791489648\t Objective: -305.3583303009109\n",
      "Optimization terminated successfully.\n",
      "         Current function value: -305.358330\n",
      "         Iterations: 1\n",
      "         Function evaluations: 2\n",
      "         Gradient evaluations: 2\n",
      "         Hessian evaluations: 0\n",
      "Iter: 2\t RMSE: 11.252659791489647\t Objective: -305.35833030091004\n",
      "Iter: 3\t RMSE: 11.252659791498788\t Objective: -305.35833030091015\n",
      "Warning: A bad approximation caused failure to predict improvement.\n",
      "         Current function value: -305.358330\n",
      "         Iterations: 0\n",
      "         Function evaluations: 2\n",
      "         Gradient evaluations: 1\n",
      "         Hessian evaluations: 0\n",
      "Done. \n"
     ]
    }
   ],
   "source": [
    "# First fit with no perturbation but the increased number of gh points.\n",
    "\n",
    "model.objective.logger.print_every = 10\n",
    "gmm_utils.set_gauss_hermite_points(model.vb_params, gh_deg=gh_deg)\n",
    "\n",
    "best_param_0, converged, x_conv, f_conv, grad_conv, obj_opt, opt_results = \\\n",
    "    opt_lib.repeatedly_optimize(\n",
    "        objective=prior_perturbation.objective,\n",
    "        optimization_fun=lambda x: gmm_utils.precondition_and_optimize(model.objective, x),\n",
    "        init_x=best_param,\n",
    "        initial_optimization_fun=None,\n",
    "        max_iter=100,\n",
    "        gtol=1e-8, ftol=1e-8, xtol=1e-8, disp=False,\n",
    "        keep_intermediate_optimizations=True)\n",
    "\n",
    "kl_hessian_0 = model.objective.fun_free_hessian(best_param_0)\n",
    "    \n",
    "print('Done. ')"
   ]
  },
  {
   "cell_type": "code",
   "execution_count": 12,
   "metadata": {},
   "outputs": [],
   "source": [
    "# This expects the hyperparameter to be at its optimal value.\n",
    "prior_perturbation.set_epsilon(0.0)\n",
    "epsilon_sensitivity = \\\n",
    "    obj_lib.ParametricSensitivity(\n",
    "        objective_fun=model.set_z_get_kl,\n",
    "        input_par=prior_perturbation.model.global_vb_params,\n",
    "        output_par=moment_model.moment_params,\n",
    "        hyper_par=prior_perturbation.epsilon_param,\n",
    "        input_to_output_converter=moment_model.set_moments,\n",
    "        optimal_input_par=best_param_0,\n",
    "        objective_hessian=kl_hessian_0,\n",
    "        hyper_par_objective_fun=prior_perturbation.get_e_log_perturbation)\n",
    "    "
   ]
  },
  {
   "cell_type": "code",
   "execution_count": 13,
   "metadata": {},
   "outputs": [
    {
     "data": {
      "text/plain": [
       "14.025327992773335"
      ]
     },
     "execution_count": 13,
     "metadata": {},
     "output_type": "execute_result"
    }
   ],
   "source": [
    "prior_perturbation.get_e_log_perturbation()\n",
    "np.linalg.norm(epsilon_sensitivity.get_dinput_dhyper())"
   ]
  },
  {
   "cell_type": "markdown",
   "metadata": {},
   "source": [
    "## Fit with perturbation"
   ]
  },
  {
   "cell_type": "code",
   "execution_count": 14,
   "metadata": {},
   "outputs": [
    {
     "name": "stdout",
     "output_type": "stream",
     "text": [
      "Epsilon:  1.0\n",
      "Predicted differences:  14.025327992773335\n"
     ]
    }
   ],
   "source": [
    "epsilon = 1.0\n",
    "print('Epsilon: ', epsilon)\n",
    "\n",
    "best_param_phi_pred = \\\n",
    "    epsilon_sensitivity.predict_input_par_from_hyperparameters(epsilon)\n",
    "output_phi_pred = epsilon_sensitivity.predict_output_par_from_hyperparameters(\n",
    "    epsilon, linear=True)\n",
    "\n",
    "print('Predicted differences: ', np.linalg.norm(best_param_phi_pred - best_param_0))"
   ]
  },
  {
   "cell_type": "code",
   "execution_count": 15,
   "metadata": {
    "scrolled": false
   },
   "outputs": [
    {
     "name": "stdout",
     "output_type": "stream",
     "text": [
      "epsilon: 1.0\n",
      "Iter  0  value:  -188.63523625348486\n",
      "Iter  1  value:  -207.47847864331524\n",
      "Iter  2  value:  -204.25714137352975\n",
      "Iter  3  value:  -216.74283558613476\n",
      "Iter  4  value:  -230.67657273566994\n",
      "Iter  5  value:  -238.1730059030385\n",
      "Iter  6  value:  -229.07837749465645\n",
      "Iter  7  value:  -244.98476123987345\n",
      "Iter  8  value:  -250.22687350518572\n",
      "Iter  9  value:  -257.42871470120804\n",
      "Iter  10  value:  -264.4658134567257\n",
      "Iter  11  value:  -268.24262306791525\n",
      "Iter  12  value:  -276.8375576313614\n",
      "Iter  13  value:  -229.36731543307158\n",
      "Iter  14  value:  -272.2911754885233\n",
      "Iter  15  value:  -280.1554832718453\n",
      "Iter  16  value:  -282.25284151929054\n",
      "Iter  17  value:  -283.627258207013\n",
      "Iter  18  value:  -285.51701658756787\n",
      "Iter  19  value:  -287.02723321692514\n",
      "Iter  20  value:  -288.3249904534298\n",
      "Iter  21  value:  -289.5793551585741\n",
      "Iter  22  value:  -290.3417230385077\n",
      "Iter  23  value:  -291.88295241470763\n",
      "Iter  24  value:  -293.0861111416293\n",
      "Iter  25  value:  -293.1511330079705\n",
      "Iter  26  value:  -294.88653768485284\n",
      "Iter  27  value:  -296.40226317623365\n",
      "Iter  28  value:  -295.0519752533262\n",
      "Iter  29  value:  -297.14865643434973\n",
      "Iter  30  value:  -297.48002909897207\n",
      "Iter  31  value:  -295.79478783456756\n",
      "Iter  32  value:  -298.1708767395479\n",
      "Iter  33  value:  -298.41045573958064\n",
      "Iter  34  value:  -298.6870801939647\n",
      "Iter  35  value:  -299.12688767656226\n",
      "Iter  36  value:  -299.44133868844534\n",
      "Iter  37  value:  -299.89924949829657\n",
      "Iter  38  value:  -300.15947794434123\n",
      "Iter  39  value:  -300.22028112078476\n",
      "Iter  40  value:  -300.3305846715134\n",
      "Iter  41  value:  -300.5203824158927\n",
      "Iter  42  value:  -300.6475731926757\n",
      "Iter  43  value:  -300.7983136018636\n",
      "Iter  44  value:  -300.8666698271124\n",
      "Iter  45  value:  -300.9407778809119\n",
      "Iter  46  value:  -301.0662196052652\n",
      "Iter  47  value:  -301.1345960605131\n",
      "Iter  48  value:  -301.151040714785\n",
      "Iter  49  value:  -301.15557777456695\n",
      "Iter  50  value:  -301.15728626376074\n",
      "Warning: Maximum number of iterations has been exceeded.\n",
      "         Current function value: -301.157286\n",
      "         Iterations: 50\n",
      "         Function evaluations: 51\n",
      "         Gradient evaluations: 44\n",
      "         Hessian evaluations: 0\n",
      "Iter  51  value:  -301.1572862637594\n",
      "Iter  52  value:  -301.1580854916793\n",
      "Iter  53  value:  -300.76814103787916\n",
      "Iter  54  value:  -301.1685530451644\n",
      "Iter  55  value:  -301.19841951094924\n",
      "Iter  56  value:  -301.24261762495206\n",
      "Iter  57  value:  -301.3091713761289\n",
      "Iter  58  value:  -301.3177255962322\n",
      "Iter  59  value:  -301.3173796986773\n",
      "Iter  60  value:  -301.34983865593347\n",
      "Iter  61  value:  -301.3984828114343\n",
      "Iter  62  value:  -301.4167420854965\n",
      "Iter  63  value:  -301.4663909985687\n",
      "Iter  64  value:  -301.5387224317091\n",
      "Iter  65  value:  -301.59525865695036\n",
      "Iter  66  value:  -301.64236694428524\n",
      "Iter  67  value:  -301.67632090664284\n",
      "Iter  68  value:  -301.6917331840272\n",
      "Iter  69  value:  -301.69375973216574\n",
      "Iter  70  value:  -301.69382107740427\n",
      "Iter  71  value:  -301.6938240566528\n",
      "Iter  72  value:  -301.6938240570316\n",
      "Optimization terminated successfully.\n",
      "         Current function value: -301.693824\n",
      "         Iterations: 21\n",
      "         Function evaluations: 22\n",
      "         Gradient evaluations: 20\n",
      "         Hessian evaluations: 0\n",
      "Iter  73  value:  -301.6938240570314\n",
      "Iter  74  value:  -301.6938240570306\n",
      "Warning: A bad approximation caused failure to predict improvement.\n",
      "         Current function value: -301.693824\n",
      "         Iterations: 0\n",
      "         Function evaluations: 2\n",
      "         Gradient evaluations: 1\n",
      "         Hessian evaluations: 0\n",
      "Done. Converged:  True\n",
      "This is nonzero if phi did anything: 8.473349189367468\n"
     ]
    }
   ],
   "source": [
    "# Then fit with the perturbation.\n",
    "prior_perturbation.set_epsilon(epsilon)\n",
    "print(prior_perturbation.epsilon_param)\n",
    "best_param_phi, converged, x_conv, f_conv, grad_conv, obj_opt, opt_results = \\\n",
    "    opt_lib.repeatedly_optimize(\n",
    "        objective=prior_perturbation.objective,\n",
    "        optimization_fun=\n",
    "            lambda x: gmm_utils.precondition_and_optimize(\n",
    "                prior_perturbation.objective, x),\n",
    "        init_x=best_param_phi_pred,\n",
    "        initial_optimization_fun=None,\n",
    "        keep_intermediate_optimizations=True)\n",
    "\n",
    "output_phi = moment_model.set_and_get_moments_from_free_par(best_param_phi)\n",
    "output_0 = moment_model.set_and_get_moments_from_free_par(best_param_0)\n",
    "\n",
    "print('Done. Converged: ', converged)\n",
    "\n",
    "print('This is nonzero if phi did anything:', np.linalg.norm(best_param_phi - best_param_0))"
   ]
  },
  {
   "cell_type": "code",
   "execution_count": 16,
   "metadata": {},
   "outputs": [
    {
     "name": "stdout",
     "output_type": "stream",
     "text": [
      "Epsilon: 1.0\n"
     ]
    },
    {
     "data": {
      "text/plain": [
       "[<matplotlib.lines.Line2D at 0x7f2915fd6e80>]"
      ]
     },
     "execution_count": 16,
     "metadata": {},
     "output_type": "execute_result"
    },
    {
     "data": {
      "image/png": "[encoded data removed]",
      "text/plain": [
       "<matplotlib.figure.Figure at 0x7f2915f44048>"
      ]
     },
     "metadata": {},
     "output_type": "display_data"
    }
   ],
   "source": [
    "print('Epsilon:', epsilon)\n",
    "\n",
    "plt.figure()\n",
    "plt.subplot(1, 2, 1)\n",
    "plt.plot(best_param_phi - best_param_0, best_param_phi_pred - best_param_0, 'k.')\n",
    "plt.plot(best_param_phi - best_param_0, best_param_phi - best_param_0, 'r')\n",
    "\n",
    "plt.subplot(1, 2, 2)\n",
    "plt.plot(output_phi - output_0, output_phi_pred - output_0, 'k.')\n",
    "plt.plot(output_phi - output_0, output_phi - output_0, 'r')"
   ]
  },
  {
   "cell_type": "code",
   "execution_count": 30,
   "metadata": {
    "collapsed": true
   },
   "outputs": [],
   "source": [
    "taylor_expansion = \\\n",
    "    sens_lib.ParametricSensitivityTaylorExpansion(\n",
    "        objective_functor=model.set_z_get_kl,\n",
    "        input_par=prior_perturbation.model.global_vb_params,\n",
    "        hyper_par=prior_perturbation.epsilon_param,\n",
    "        input_val0=best_param_0,\n",
    "        hyper_val0=0.0,\n",
    "        order=4,\n",
    "        input_is_free=True,\n",
    "        hyper_is_free=False,\n",
    "        hyper_par_objective_functor=prior_perturbation.get_e_log_perturbation,\n",
    "        hess0=kl_hessian_0)\n"
   ]
  },
  {
   "cell_type": "code",
   "execution_count": 31,
   "metadata": {},
   "outputs": [
    {
     "name": "stdout",
     "output_type": "stream",
     "text": [
      "Epsilon: 1.0\n"
     ]
    },
    {
     "data": {
      "text/plain": [
       "[<matplotlib.lines.Line2D at 0x7f2915fb9400>]"
      ]
     },
     "execution_count": 31,
     "metadata": {},
     "output_type": "execute_result"
    },
    {
     "data": {
      "image/png": "[encoded data removed]",
      "text/plain": [
       "<matplotlib.figure.Figure at 0x7f29154e6c88>"
      ]
     },
     "metadata": {},
     "output_type": "display_data"
    }
   ],
   "source": [
    "taylor_phi_pred = taylor_expansion.evaluate_dkinput_dhyperk(\n",
    "    dhyper=epsilon - 0, k=1)\n",
    "\n",
    "print('Epsilon:', epsilon)\n",
    "\n",
    "plt.figure()\n",
    "plt.subplot(1, 2, 1)\n",
    "plt.plot(best_param_phi - best_param_0, taylor_phi_pred, 'k.')\n",
    "plt.plot(best_param_phi - best_param_0, best_param_phi - best_param_0, 'r')\n",
    "\n",
    "plt.subplot(1, 2, 2)\n",
    "best_param_phi_pred\n",
    "plt.plot(best_param_phi_pred - best_param_0, taylor_phi_pred, 'k.')\n",
    "plt.plot(best_param_phi_pred - best_param_0, best_param_phi_pred - best_param_0, 'r')\n"
   ]
  },
  {
   "cell_type": "code",
   "execution_count": 35,
   "metadata": {},
   "outputs": [
    {
     "name": "stderr",
     "output_type": "stream",
     "text": [
      "/home/rgiordan/Documents/git_repos/autograd/autograd/tracer.py:14: UserWarning: Output seems independent of input.\n",
      "  warnings.warn(\"Output seems independent of input.\")\n"
     ]
    }
   ],
   "source": [
    "taylor_phi_pred = taylor_expansion.evaluate_taylor_series(\n",
    "    dhyper=epsilon - 0, max_order=4)"
   ]
  },
  {
   "cell_type": "code",
   "execution_count": 36,
   "metadata": {
    "scrolled": false
   },
   "outputs": [
    {
     "name": "stdout",
     "output_type": "stream",
     "text": [
      "Epsilon: 1.0\n"
     ]
    },
    {
     "data": {
      "text/plain": [
       "[<matplotlib.lines.Line2D at 0x7f2915fed2e8>]"
      ]
     },
     "execution_count": 36,
     "metadata": {},
     "output_type": "execute_result"
    },
    {
     "data": {
      "image/png": "[encoded data removed]",
      "text/plain": [
       "<matplotlib.figure.Figure at 0x7f2916086b00>"
      ]
     },
     "metadata": {},
     "output_type": "display_data"
    }
   ],
   "source": [
    "print('Epsilon:', epsilon)\n",
    "\n",
    "plt.figure()\n",
    "plt.subplot(1, 2, 1)\n",
    "plt.plot(best_param_phi - best_param_0, -(taylor_phi_pred - best_param_0), 'k.')\n",
    "plt.plot(best_param_phi - best_param_0, best_param_phi - best_param_0, 'r')\n",
    "\n",
    "plt.subplot(1, 2, 2)\n",
    "best_param_phi_pred\n",
    "plt.plot(best_param_phi_pred - best_param_0, -(taylor_phi_pred - best_param_0), 'k.')\n",
    "plt.plot(best_param_phi_pred - best_param_0, best_param_phi_pred - best_param_0, 'r')\n"
   ]
  }
 ],
 "metadata": {
  "kernelspec": {
   "display_name": "Python 3",
   "language": "python",
   "name": "python3"
  },
  "language_info": {
   "codemirror_mode": {
    "name": "ipython",
    "version": 3
   },
   "file_extension": ".py",
   "mimetype": "text/x-python",
   "name": "python",
   "nbconvert_exporter": "python",
   "pygments_lexer": "ipython3",
   "version": "3.5.2"
  }
 },
 "nbformat": 4,
 "nbformat_minor": 2
}
