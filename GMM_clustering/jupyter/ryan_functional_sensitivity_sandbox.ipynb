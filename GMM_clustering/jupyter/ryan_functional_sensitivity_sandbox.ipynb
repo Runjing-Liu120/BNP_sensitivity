{
 "cells": [
  {
   "cell_type": "code",
   "execution_count": 1,
   "metadata": {
    "collapsed": true
   },
   "outputs": [],
   "source": [
    "git_repo = '../../..'\n",
    "\n",
    "import sys\n",
    "import os\n",
    "\n",
    "sys.path.insert(0, os.path.join(git_repo, 'BNP_sensitivity/GMM_clustering/'))\n",
    "\n",
    "# Linear response libraries\n",
    "import LinearResponseVariationalBayes as vb\n",
    "import LinearResponseVariationalBayes.SparseObjectives as obj_lib\n",
    "\n",
    "# Local libraries\n",
    "import gmm_clustering_lib as gmm_utils\n",
    "import modeling_lib \n",
    "import functional_sensitivity_lib as fun_sens_lib \n",
    "import utils_lib\n",
    "\n",
    "import matplotlib.pyplot as plt\n",
    "%matplotlib inline\n",
    "\n",
    "from copy import deepcopy\n",
    "\n",
    "from autograd import numpy as np\n",
    "from autograd import scipy as sp\n",
    "\n",
    "# import numpy as np\n",
    "# import scipy as sp\n",
    "\n",
    "np.random.seed(453453)\n",
    "\n",
    "import json "
   ]
  },
  {
   "cell_type": "code",
   "execution_count": 2,
   "metadata": {
    "collapsed": true
   },
   "outputs": [],
   "source": [
    "# Load results from previous fit.\n",
    "#filename = 'ryan_iris_bnp_full_data_fit_alpha8.0.json'\n",
    "#filename = 'ryan_simulation_bnp_full_data_fit_alpha1.0.json'\n",
    "filename = 'ryan_simulation_bnp_full_data_fit_alpha1.0.json'\n",
    "json_input_file = os.path.join(\n",
    "    git_repo,\n",
    "    'BNP_sensitivity/GMM_clustering/iris_fits/',\n",
    "    filename)\n",
    "\n",
    "with open(json_input_file, 'r') as fp:\n",
    "    fit_dict = json.load(fp)\n",
    "    model = gmm_utils.get_model_from_checkpoint(fit_dict)\n",
    "    model_ = gmm_utils.get_model_from_checkpoint(fit_dict)\n",
    "    best_param = model.global_vb_params.get_free()\n",
    "    kl_hessian = gmm_utils.get_kl_hessian_from_checkpoint(fit_dict)"
   ]
  },
  {
   "cell_type": "code",
   "execution_count": 4,
   "metadata": {},
   "outputs": [],
   "source": [
    "moment_model = gmm_utils.InterestingMoments(model)\n",
    "dg_deta = moment_model.get_moment_jacobian(best_param)\n",
    "#linear_sens = gmm_utils.LinearSensitivity(model, moment_model, kl_hessian)"
   ]
  },
  {
   "cell_type": "code",
   "execution_count": 5,
   "metadata": {},
   "outputs": [
    {
     "name": "stdout",
     "output_type": "stream",
     "text": [
      "Moment parameters:\n",
      "\tcentroids:\n",
      "[[ 4.94273451e-01 -5.02554747e-01 -1.50129169e+00  1.44670941e+00\n",
      "  -8.63777580e-02 -4.75925809e-02 -7.80983834e-03 -2.22837438e-03\n",
      "  -7.58740505e-04 -2.76012007e-04 -1.05072586e-04 -1.05077633e-04]\n",
      " [ 5.36981139e-01 -5.21053456e-01 -1.51280086e+00  6.86874390e-01\n",
      "   2.84497078e-01  4.77473956e-02  9.78624352e-03  3.08008383e-03\n",
      "   1.08023919e-03  3.89189553e-04  1.39096276e-04  1.39077593e-04]]\n",
      "\tcluster_weights:\n",
      "[4.16877319e-01 3.30770581e-01 2.48023382e-01 3.03104942e-03\n",
      " 7.01473082e-04 3.05755038e-04 1.46524504e-04 7.21861626e-05\n",
      " 3.59030775e-05 1.79185948e-05 8.95416388e-06 8.95416388e-06]\n",
      "\tv_sticks:\n",
      "[-3.35946874e-01  2.71067689e-01  4.16089736e+00  1.02917122e+00\n",
      "  2.28090290e-01  7.61896645e-02  2.72197023e-02  9.68699798e-03\n",
      "  3.25483616e-03  8.79573586e-04  2.63788888e-10]\n"
     ]
    }
   ],
   "source": [
    "moment_model.set_moments_from_free_par(best_param)\n",
    "print(moment_model.moment_params)"
   ]
  },
  {
   "cell_type": "code",
   "execution_count": 6,
   "metadata": {
    "collapsed": true
   },
   "outputs": [],
   "source": [
    "import functional_sensitivity_lib as fun_sens_lib\n",
    "stick_sens = fun_sens_lib.StickSensitivity(model, best_param, kl_hessian, dg_deta.T)"
   ]
  },
  {
   "cell_type": "code",
   "execution_count": 7,
   "metadata": {},
   "outputs": [
    {
     "name": "stdout",
     "output_type": "stream",
     "text": [
      "prior_params:\n",
      "\talpha: [1.]\n",
      "\tprior_centroid_mean: [0.]\n",
      "\tprior_centroid_info: [0.1]\n",
      "\tprior_gamma_df: [8.]\n",
      "\tprior_gamma_inv_scale:\n",
      "[[0.62 0.  ]\n",
      " [0.   0.62]]\n"
     ]
    }
   ],
   "source": [
    "print(model.prior_params)"
   ]
  },
  {
   "cell_type": "code",
   "execution_count": 8,
   "metadata": {},
   "outputs": [
    {
     "name": "stdout",
     "output_type": "stream",
     "text": [
      "0.6931471805599453\n"
     ]
    }
   ],
   "source": [
    "# Define a perturbation in the logit v space.\n",
    "\n",
    "phi_center = 0.\n",
    "#phi_log_rescale = stick_sens.get_log_p0_logit_stick(phi_center)\n",
    "phi_log_rescale = -np.log(0.5)\n",
    "print(phi_log_rescale)\n",
    "def log_phi(logit_v):\n",
    "    return(-0.5 * (logit_v - phi_center) ** 2 - phi_log_rescale)\n",
    "\n",
    "def phi(logit_v):\n",
    "    return np.exp(log_phi(logit_v))"
   ]
  },
  {
   "cell_type": "code",
   "execution_count": 82,
   "metadata": {},
   "outputs": [
    {
     "name": "stdout",
     "output_type": "stream",
     "text": [
      "0.0 -1.3510778981832263 -0.03663537377491137 -1.314446956474002\n"
     ]
    }
   ],
   "source": [
    "import scipy as osp\n",
    "val, err = osp.integrate.quadrature(phi, -4, 4)\n",
    "\n",
    "class PriorPerturbation(object):\n",
    "    def __init__(self, stick_sens, log_phi, log_epsilon=0.0):\n",
    "        self.stick_sens = stick_sens\n",
    "        self.logit_v_lb = -4\n",
    "        self.logit_v_ub = 4\n",
    "        self.set_phi(log_phi, log_epsilon)\n",
    "        \n",
    "    def get_log_p0(self, v):\n",
    "        return \\\n",
    "            self.stick_sens.get_log_p0_stick(v) - \\\n",
    "            self.log_norm_p0\n",
    "\n",
    "    def get_log_p0_logit(self, logit_v):\n",
    "        return \\\n",
    "            self.stick_sens.get_log_p0_logit_stick(logit_v) - \\\n",
    "            self.log_norm_p0_logit\n",
    "\n",
    "    def get_log_pc(self, v):\n",
    "        logit_v = np.log(v) - np.log(1 - v)\n",
    "        return \\\n",
    "            self.get_log_p0(v) + \\\n",
    "            self.log_phi(logit_v) + \\\n",
    "            self.log_epsilon - \\\n",
    "            self.log_norm_pc\n",
    "\n",
    "    def get_log_pc_logit(self, logit_v):\n",
    "        return \\\n",
    "            self.get_log_p0_logit(logit_v) + \\\n",
    "            self.log_phi(logit_v) + \\\n",
    "            self.log_epsilon - \\\n",
    "            self.log_norm_pc_logit\n",
    "\n",
    "    def set_log_epsilon(self, log_epsilon):\n",
    "        self.set_phi(self.log_phi, log_epsilon)\n",
    "        \n",
    "    def set_phi(self, log_phi, log_epsilon):\n",
    "        # Set attributes derived from phi and epsilon\n",
    "        \n",
    "        # Initial values for the log normalzing constants which will be\n",
    "        # set in set_phi.\n",
    "        self.log_norm_p0 = 0\n",
    "        self.log_norm_pc = 0\n",
    "        self.log_norm_p0_logit = 0\n",
    "        self.log_norm_pc_logit = 0\n",
    "\n",
    "        self.log_phi = log_phi\n",
    "        self.log_epsilon = log_epsilon\n",
    "        \n",
    "        norm_p0, _ = osp.integrate.quadrature(\n",
    "            lambda v: np.exp(self.get_log_p0(v)), 0, 1)\n",
    "        assert norm_p0 > 0 \n",
    "        self.log_norm_p0 = np.log(norm_p0)\n",
    "\n",
    "        norm_pc, _ = osp.integrate.quadrature(\n",
    "            lambda v: np.exp(self.get_log_pc(v)),\n",
    "            0, 1)\n",
    "        assert norm_pc > 0 \n",
    "        self.log_norm_pc = np.log(norm_pc)\n",
    "        \n",
    "        norm_p0_logit, _ = osp.integrate.quadrature(\n",
    "            lambda logit_v: np.exp(self.get_log_p0_logit(logit_v)),\n",
    "            self.logit_v_lb, self.logit_v_ub)\n",
    "        assert norm_p0_logit > 0 \n",
    "        self.log_norm_p0_logit = np.log(norm_p0_logit)\n",
    "\n",
    "        norm_pc_logit, _ = osp.integrate.quadrature(\n",
    "            lambda logit_v: np.exp(self.get_log_pc_logit(logit_v)),\n",
    "            self.logit_v_lb, self.logit_v_ub)\n",
    "        assert norm_pc_logit > 0 \n",
    "        self.log_norm_pc_logit = np.log(norm_pc_logit)\n",
    "        \n",
    "\n",
    "prior_perturbation = PriorPerturbation(stick_sens, log_phi)\n",
    "print(\n",
    "    prior_perturbation.log_norm_p0,\n",
    "    prior_perturbation.log_norm_pc,\n",
    "    prior_perturbation.log_norm_p0_logit,\n",
    "    prior_perturbation.log_norm_pc_logit)"
   ]
  },
  {
   "cell_type": "code",
   "execution_count": 84,
   "metadata": {},
   "outputs": [
    {
     "name": "stdout",
     "output_type": "stream",
     "text": [
      "phi max:  0.49989900265152387\n"
     ]
    },
    {
     "data": {
      "text/plain": [
       "Text(0.5,1,'Priors in logit space')"
      ]
     },
     "execution_count": 84,
     "metadata": {},
     "output_type": "execute_result"
    },
    {
     "data": {
      "image/png": "[encoded data removed]",
      "text/plain": [
       "<matplotlib.figure.Figure at 0x7f10a0327898>"
      ]
     },
     "metadata": {},
     "output_type": "display_data"
    }
   ],
   "source": [
    "prior_perturbation.set_log_epsilon(np.log(100))\n",
    "\n",
    "logit_v_grid = np.linspace(-4, 4, 200)\n",
    "v_grid = np.exp(logit_v_grid) / (1 + np.exp(logit_v_grid))\n",
    "\n",
    "print('phi max: ', np.max(phi(logit_v_grid)))\n",
    "\n",
    "plt.figure(1, figsize=(18, 5))\n",
    "\n",
    "#plt.plot(v_grid, phi(logit_v_grid))\n",
    "plt.subplot(141)\n",
    "plt.plot(logit_v_grid, prior_perturbation.get_log_p0_logit(logit_v_grid))\n",
    "plt.plot(logit_v_grid, prior_perturbation.get_log_pc_logit(logit_v_grid))\n",
    "plt.title('Log priors in logit space')\n",
    "\n",
    "plt.subplot(142)\n",
    "plt.plot(logit_v_grid, np.exp(prior_perturbation.log_phi(logit_v_grid)))\n",
    "plt.title('phi in logit space')\n",
    "\n",
    "plt.subplot(143)\n",
    "plt.plot(v_grid, np.exp(prior_perturbation.get_log_p0(v_grid)))\n",
    "plt.plot(v_grid, np.exp(prior_perturbation.get_log_pc(v_grid)))\n",
    "plt.title('Priors in stick space')\n",
    "\n",
    "plt.subplot(144)\n",
    "plt.plot(logit_v_grid, np.exp(prior_perturbation.get_log_p0_logit(logit_v_grid)))\n",
    "plt.plot(logit_v_grid, np.exp(prior_perturbation.get_log_pc_logit(logit_v_grid)))\n",
    "plt.title('Priors in logit space')\n"
   ]
  },
  {
   "cell_type": "code",
   "execution_count": 85,
   "metadata": {
    "scrolled": false
   },
   "outputs": [
    {
     "name": "stdout",
     "output_type": "stream",
     "text": [
      "33 33 96\n"
     ]
    }
   ],
   "source": [
    "# Choose the number of GH points.\n",
    "import LinearResponseVariationalBayes.ExponentialFamilies as ef\n",
    "model.global_vb_params.set_free(best_param)\n",
    "vb_params = deepcopy(model.vb_params)\n",
    "\n",
    "perturbed_log_density = lambda x : np.log(1.0 + phi(x))\n",
    "\n",
    "expected_perturbations_list = []\n",
    "gh_deg_list = np.arange(3, 100, 1)\n",
    "for gh_deg in gh_deg_list:\n",
    "    gmm_utils.set_gauss_hermite_points(vb_params, gh_deg=gh_deg)\n",
    "    expected_perturbations_list.append(\n",
    "        gmm_utils.get_e_log_perturbation_vec(vb_params, phi))\n",
    "\n",
    "expected_perturbations_list = np.array(expected_perturbations_list)\n",
    "#print(expected_perturbations_list.shape)\n",
    "diffs = (expected_perturbations_list[1:, :] - \\\n",
    "         expected_perturbations_list[:-1, :]) / \\\n",
    "        np.abs(expected_perturbations_list[1:, :] + 1e-6)\n",
    "#print(np.max(diffs, axis=1))\n",
    "max_diffs = np.max(np.abs(diffs), axis=1) \n",
    "gh_deg_threshold = np.argmax(max_diffs < 1e-5)\n",
    "gh_deg = max(20, gh_deg_threshold)\n",
    "print(gh_deg, gh_deg_threshold, len(max_diffs))"
   ]
  },
  {
   "cell_type": "code",
   "execution_count": 86,
   "metadata": {},
   "outputs": [
    {
     "data": {
      "text/plain": [
       "-0.0"
      ]
     },
     "execution_count": 86,
     "metadata": {},
     "output_type": "execute_result"
    }
   ],
   "source": [
    "# TODO: combine this with the other class\n",
    "class PerturbedPrior(object):\n",
    "    def __init__(self, model, phi, epsilon=0.0):\n",
    "        self.phi = phi\n",
    "        self.model = model\n",
    "        self.epsilon_param = vb.ScalarParam('epsilon', lb=0.0)\n",
    "        self.epsilon_param.set(epsilon)\n",
    "        \n",
    "    def epsilon_phi(self, x):\n",
    "        return self.phi(x) * self.epsilon_param.get()\n",
    "        \n",
    "    def get_e_log_prior_for_kl(self):\n",
    "        return -1 * np.sum(gmm_utils.get_e_log_perturbation_vec(\n",
    "            self.model.vb_params, self.epsilon_phi))\n",
    "        \n",
    "perturbed_prior = PerturbedPrior(model, phi)\n",
    "perturbed_prior.get_e_log_prior_for_kl()"
   ]
  },
  {
   "cell_type": "code",
   "execution_count": 87,
   "metadata": {},
   "outputs": [
    {
     "name": "stdout",
     "output_type": "stream",
     "text": [
      "BGFS\n",
      "Iter: 0\t RMSE: 14.108646587387742\t Objective: -273.6488454239062\n",
      "Iter: 10\t RMSE: 14.10861438010126\t Objective: -273.6488500661245\n",
      "Iter: 20\t RMSE: 14.108644185293304\t Objective: -273.64885220505107\n",
      "Iter: 30\t RMSE: 14.108691910235365\t Objective: -273.64885357388835\n",
      "Iter: 40\t RMSE: 14.10867591787594\t Objective: -273.64885369661806\n",
      "Iter: 50\t RMSE: 14.108688665726133\t Objective: -273.64885370186164\n",
      "Optimization terminated successfully.\n",
      "         Current function value: -273.648854\n",
      "         Iterations: 43\n",
      "         Function evaluations: 57\n",
      "         Gradient evaluations: 57\n",
      "Conditioned Newton:\n",
      "i =  0\n",
      "Optimization terminated successfully.\n",
      "         Current function value: -273.648854\n",
      "         Iterations: 1\n",
      "         Function evaluations: 2\n",
      "         Gradient evaluations: 2\n",
      "         Hessian evaluations: 0\n",
      "Iter 1: x_diff = 5.0614487816042796e-05, f_diff = 1.0231815394945443e-11\n",
      "Done. \n"
     ]
    }
   ],
   "source": [
    "# First fit with no perturbation but the increased number of gh points.\n",
    "model.phi = None\n",
    "gmm_utils.set_gauss_hermite_points(model.vb_params, gh_deg=gh_deg)\n",
    "\n",
    "# best_param_0, vb_opt_0, opt_time_0, \\\n",
    "# kl_hessian_0, kl_hessian_corrected_0 = \\\n",
    "#     model.precondition_and_optimize(\n",
    "#         best_param, kl_hessian=kl_hessian)\n",
    "\n",
    "best_param_0, kl_hessian_0, kl_hessian_corrected, \\\n",
    "init_opt_time, newton_time, x_conv, f_conv, vb_opt = \\\n",
    "    model.optimize_full(\n",
    "        best_param,\n",
    "        init_max_iter=100,\n",
    "        final_max_iter=500)\n",
    "\n",
    "print('Done. ')"
   ]
  },
  {
   "cell_type": "code",
   "execution_count": 88,
   "metadata": {
    "collapsed": true
   },
   "outputs": [],
   "source": [
    "epsilon_sensitivity = obj_lib.ParametricSensitivity(\n",
    "    objective_fun=model.set_z_get_kl,\n",
    "    input_par=model.global_vb_params,\n",
    "    output_par=moment_model.moment_params,\n",
    "    hyper_par=perturbed_prior.epsilon_param,\n",
    "    input_to_output_converter=moment_model.set_moments,\n",
    "    optimal_input_par=best_param_0,\n",
    "    objective_hessian=kl_hessian_0,\n",
    "    hyper_par_objective_fun=perturbed_prior.get_e_log_prior_for_kl)"
   ]
  },
  {
   "cell_type": "markdown",
   "metadata": {},
   "source": [
    "## Fit with perturbation"
   ]
  },
  {
   "cell_type": "code",
   "execution_count": 74,
   "metadata": {
    "scrolled": false
   },
   "outputs": [
    {
     "name": "stdout",
     "output_type": "stream",
     "text": [
      "BGFS\n",
      "Iter: 0\t RMSE: 14.108686178541399\t Objective: -286.0569663451207\n",
      "Iter: 10\t RMSE: 14.118893312317677\t Objective: -286.90873903453235\n",
      "Iter: 20\t RMSE: 14.127311637077414\t Objective: -287.3118033190964\n",
      "Iter: 30\t RMSE: 14.087081013739258\t Objective: -287.62728588460794\n",
      "Iter: 40\t RMSE: 14.057474812039853\t Objective: -287.7109590078303\n",
      "Iter: 50\t RMSE: 14.059265608625834\t Objective: -287.7136340329086\n",
      "Iter: 60\t RMSE: 14.057840038109306\t Objective: -287.7142002599557\n",
      "Iter: 70\t RMSE: 14.058096924970013\t Objective: -287.7142305594293\n",
      "Iter: 80\t RMSE: 14.05809195364865\t Objective: -287.71423082323406\n",
      "Optimization terminated successfully.\n",
      "         Current function value: -287.714231\n",
      "         Iterations: 72\n",
      "         Function evaluations: 90\n",
      "         Gradient evaluations: 90\n",
      "Conditioned Newton:\n",
      "i =  0\n",
      "Iter: 90\t RMSE: 14.058092986974213\t Objective: -287.7142308246548\n",
      "Optimization terminated successfully.\n",
      "         Current function value: -287.714231\n",
      "         Iterations: 1\n",
      "         Function evaluations: 2\n",
      "         Gradient evaluations: 2\n",
      "         Hessian evaluations: 0\n",
      "Iter 1: x_diff = 8.006512776544675e-05, f_diff = 2.8137492336099967e-11\n",
      "Done. \n",
      "This is nonzero if phi did anything: 3.291358596581665\n"
     ]
    }
   ],
   "source": [
    "# Then fit with the perturbation.\n",
    "log_epsilon = np.log(10)\n",
    "epsilon = np.exp(log_epsilon)\n",
    "\n",
    "def phi_eps(x):\n",
    "    return np.exp(np.log(phi(x)) + log_epsilon)\n",
    "\n",
    "model.phi = phi_eps\n",
    "\n",
    "# best_param_phi, vb_opt_phi, opt_time_phi, \\\n",
    "# kl_hessian_phi, kl_hessian_corrected_phi = \\\n",
    "#     model.precondition_and_optimize(\n",
    "#         best_param_0, kl_hessian=kl_hessian_0)\n",
    "\n",
    "best_param_phi, kl_hessian_phi, kl_hessian_corrected_phi, \\\n",
    "    init_opt_time, newton_time, x_conv, f_conv, vb_opt = \\\n",
    "    model.optimize_full(\n",
    "        best_param_0,\n",
    "        init_max_iter=100,\n",
    "        final_max_iter=500)\n",
    "\n",
    "print('Done. ')\n",
    "\n",
    "print('This is nonzero if phi did anything:', np.linalg.norm(best_param_phi - best_param_0))"
   ]
  },
  {
   "cell_type": "code",
   "execution_count": 89,
   "metadata": {},
   "outputs": [
    {
     "name": "stdout",
     "output_type": "stream",
     "text": [
      "Predicted differences:  9.865927966964353\n"
     ]
    }
   ],
   "source": [
    "best_param_phi_pred = epsilon_sensitivity.predict_input_par_from_hyperparameters(epsilon)\n",
    "output_phi_pred = epsilon_sensitivity.predict_output_par_from_hyperparameters(epsilon, linear=True)\n",
    "\n",
    "output_phi = moment_model.set_and_get_moments_from_free_par(best_param_phi)\n",
    "output_0 = moment_model.set_and_get_moments_from_free_par(best_param_0)\n",
    "\n",
    "print('Predicted differences: ', np.linalg.norm(best_param_phi_pred - best_param_0))"
   ]
  },
  {
   "cell_type": "code",
   "execution_count": 90,
   "metadata": {},
   "outputs": [
    {
     "name": "stdout",
     "output_type": "stream",
     "text": [
      "Epsilon: 10.000000000000002\n"
     ]
    },
    {
     "data": {
      "text/plain": [
       "[<matplotlib.lines.Line2D at 0x7f10a0207780>]"
      ]
     },
     "execution_count": 90,
     "metadata": {},
     "output_type": "execute_result"
    },
    {
     "data": {
      "image/png": "[encoded data removed]",
      "text/plain": [
       "<matplotlib.figure.Figure at 0x7f10a02b9d30>"
      ]
     },
     "metadata": {},
     "output_type": "display_data"
    }
   ],
   "source": [
    "print('Epsilon:', epsilon)\n",
    "\n",
    "plt.figure()\n",
    "plt.subplot(1, 2, 1)\n",
    "plt.plot(best_param_phi - best_param_0, best_param_phi_pred - best_param_0, 'k.')\n",
    "plt.plot(best_param_phi - best_param_0, best_param_phi - best_param_0, 'r')\n",
    "\n",
    "plt.subplot(1, 2, 2)\n",
    "plt.plot(output_phi - output_0, output_phi_pred - output_0, 'k.')\n",
    "plt.plot(output_phi - output_0, output_phi - output_0, 'r')"
   ]
  },
  {
   "cell_type": "markdown",
   "metadata": {},
   "source": [
    "## Influence function stuff"
   ]
  },
  {
   "cell_type": "code",
   "execution_count": null,
   "metadata": {
    "collapsed": true
   },
   "outputs": [],
   "source": [
    "stick_sens = fun_sens_lib.StickSensitivity(model, best_param, kl_hessian, dg_deta.T)"
   ]
  },
  {
   "cell_type": "code",
   "execution_count": null,
   "metadata": {
    "collapsed": true
   },
   "outputs": [],
   "source": [
    "influence_vals = np.array([\n",
    "    stick_sens.get_all_stick_influence(logit_v) for logit_v in logit_v_grid ])"
   ]
  },
  {
   "cell_type": "code",
   "execution_count": null,
   "metadata": {
    "collapsed": true
   },
   "outputs": [],
   "source": [
    "def get_log_q_grad_vec(self, logit_v):\n",
    "    log_q_grad_vec = np.array([\n",
    "        self.log_q_logit_stick_obj.fun_free_grad(\n",
    "            self.best_param, logit_v=logit_v, k=k)\n",
    "        for k in range(self.model.k_approx - 1) ])\n",
    "    return log_q_grad_vec\n",
    "log_q_grads = np.array([ get_log_q_grad_vec(stick_sens, logit_v) for logit_v in logit_v_grid ])"
   ]
  },
  {
   "cell_type": "code",
   "execution_count": null,
   "metadata": {},
   "outputs": [],
   "source": [
    "log_p0 = stick_sens.get_log_p0_logit_stick(logit_v_grid)\n",
    "log_q_vec = np.array([\n",
    "    stick_sens.get_log_q_logit_all_sticks(logit_v) \\\n",
    "    for logit_v in logit_v_grid ])\n",
    "\n",
    "print(log_q_grads.shape)\n",
    "print(log_p0.shape)\n",
    "print(log_q_vec.shape)\n"
   ]
  },
  {
   "cell_type": "code",
   "execution_count": null,
   "metadata": {
    "collapsed": true
   },
   "outputs": [],
   "source": [
    "def get_all_stick_influence_times_phi(self, logit_v_grid, log_q_grads, log_phi, log_epsilon=0):\n",
    "    # The prior is the same for every stick.\n",
    "    log_p0 = stick_sens.get_log_p0_logit_stick(logit_v_grid)[:, np.newaxis]\n",
    "    log_perturbation = log_phi(logit_v_grid)[:, np.newaxis] + log_epsilon\n",
    "    log_q_vec = np.array([\n",
    "        stick_sens.get_log_q_logit_all_sticks(logit_v) \\\n",
    "        for logit_v in logit_v_grid ])\n",
    "\n",
    "    #print(log_q_vec.shape)\n",
    "    #print(log_p0.shape)\n",
    "    #print(log_perturbation.shape)\n",
    "    \n",
    "    #dens_ratios = np.exp(log_q_vec - log_p0 + log_perturbation)\n",
    "    dens_ratios = np.exp(log_q_vec + log_perturbation)\n",
    "    #print(self.lr_mat.shape)\n",
    "    #print(log_q_grads.shape)\n",
    "    #print(dens_ratios.shape)\n",
    "    \n",
    "    # d indexes the free parameters\n",
    "    # g indexes the moments of interest\n",
    "    # n indexes the grid points in logit_v_grid\n",
    "    # k indexes the stick\n",
    "    return(np.einsum('dg,nkd,nk->ng', self.lr_mat, log_q_grads, dens_ratios))\n",
    "\n",
    "influence_phi_vals = \\\n",
    "    get_all_stick_influence_times_phi(\n",
    "        stick_sens, logit_v_grid, log_q_grads, log_phi, log_epsilon=log_epsilon)"
   ]
  },
  {
   "cell_type": "code",
   "execution_count": null,
   "metadata": {},
   "outputs": [],
   "source": [
    "#plt.plot(logit_v_grid, influence_phi_vals[:, 0]);\n",
    "plt.plot(logit_v_grid[1:], (np.diff(logit_v_grid)[:, np.newaxis] * influence_phi_vals[1:,0]).T);"
   ]
  },
  {
   "cell_type": "code",
   "execution_count": null,
   "metadata": {},
   "outputs": [],
   "source": [
    "def get_moments(free_par, moment_model):\n",
    "    moment_model_copy = deepcopy(moment_model)\n",
    "    moment_model_copy.set_moments_from_free_par(free_par)\n",
    "    return moment_model.moment_params.get_vector()\n",
    "\n",
    "pred_influence = np.sum(\n",
    "    np.diff(logit_v_grid)[:, np.newaxis] * influence_phi_vals[1:,:], axis=0)\n",
    "print(pred_influence.shape)\n",
    "\n",
    "true_moment_diff = get_moments(best_param_phi, moment_model) - get_moments(best_param_0, moment_model)"
   ]
  },
  {
   "cell_type": "code",
   "execution_count": null,
   "metadata": {
    "collapsed": true
   },
   "outputs": [],
   "source": [
    "plt.plot(pred_influence, true_moment_diff, 'k.')\n",
    "plt.plot(true_moment_diff, true_moment_diff, 'r')"
   ]
  }
 ],
 "metadata": {
  "kernelspec": {
   "display_name": "Python 3",
   "language": "python",
   "name": "python3"
  },
  "language_info": {
   "codemirror_mode": {
    "name": "ipython",
    "version": 3
   },
   "file_extension": ".py",
   "mimetype": "text/x-python",
   "name": "python",
   "nbconvert_exporter": "python",
   "pygments_lexer": "ipython3",
   "version": "3.5.2"
  }
 },
 "nbformat": 4,
 "nbformat_minor": 2
}
