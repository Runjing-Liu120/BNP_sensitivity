{
 "cells": [
  {
   "cell_type": "code",
   "execution_count": 1,
   "metadata": {
    "collapsed": true
   },
   "outputs": [],
   "source": [
    "git_repo = '../../..'\n",
    "\n",
    "import sys\n",
    "import os\n",
    "\n",
    "sys.path.insert(0, os.path.join(git_repo, 'BNP_sensitivity/GMM_clustering/'))\n",
    "\n",
    "# Linear response libraries\n",
    "import LinearResponseVariationalBayes as vb\n",
    "import LinearResponseVariationalBayes.SparseObjectives as obj_lib\n",
    "import LinearResponseVariationalBayes.OptimizationUtils as opt_lib\n",
    "\n",
    "# Local libraries\n",
    "import gmm_clustering_lib as gmm_utils\n",
    "import modeling_lib \n",
    "import functional_sensitivity_lib as fun_sens_lib \n",
    "import utils_lib\n",
    "\n",
    "import matplotlib.pyplot as plt\n",
    "%matplotlib inline\n",
    "\n",
    "from copy import deepcopy\n",
    "\n",
    "from autograd import numpy as np\n",
    "from autograd import scipy as sp\n",
    "\n",
    "# import numpy as np\n",
    "# import scipy as sp\n",
    "\n",
    "np.random.seed(453453)\n",
    "\n",
    "import json "
   ]
  },
  {
   "cell_type": "code",
   "execution_count": 2,
   "metadata": {
    "collapsed": true
   },
   "outputs": [],
   "source": [
    "# Load results from previous fit.\n",
    "#filename = 'ryan_iris_bnp_full_data_fit_alpha8.0.json'\n",
    "#filename = 'ryan_simulation_bnp_full_data_fit_alpha1.0.json'\n",
    "filename = 'ryan_simulation_bnp_full_data_fit_alpha1.0.json'\n",
    "json_input_file = os.path.join(\n",
    "    git_repo,\n",
    "    'BNP_sensitivity/GMM_clustering/iris_fits/',\n",
    "    filename)\n",
    "\n",
    "with open(json_input_file, 'r') as fp:\n",
    "    fit_dict = json.load(fp)\n",
    "    model = gmm_utils.get_model_from_checkpoint(fit_dict)\n",
    "    model_ = gmm_utils.get_model_from_checkpoint(fit_dict)\n",
    "    best_param = model.global_vb_params.get_free()\n",
    "    kl_hessian = gmm_utils.get_kl_hessian_from_checkpoint(fit_dict)"
   ]
  },
  {
   "cell_type": "code",
   "execution_count": 3,
   "metadata": {},
   "outputs": [],
   "source": [
    "moment_model = gmm_utils.InterestingMoments(model)\n",
    "dg_deta = moment_model.get_moment_jacobian(best_param)\n",
    "#linear_sens = gmm_utils.LinearSensitivity(model, moment_model, kl_hessian)"
   ]
  },
  {
   "cell_type": "code",
   "execution_count": 4,
   "metadata": {},
   "outputs": [
    {
     "name": "stdout",
     "output_type": "stream",
     "text": [
      "Moment parameters:\n",
      "\tcentroids:\n",
      "[[ 4.94219872e-01 -5.02553164e-01 -1.50129262e+00  1.44611002e+00\n",
      "  -8.60116511e-02  2.99899606e-01 -8.21160897e-03 -2.33951169e-03\n",
      "  -7.96009427e-04 -2.89341340e-04 -1.09959456e-04 -1.09959541e-04]\n",
      " [ 5.37078601e-01 -5.21003176e-01 -1.51280097e+00  6.86712711e-01\n",
      "   2.86816504e-01 -1.15191164e-01  1.02012193e-02  3.20581680e-03\n",
      "   1.12390469e-03  4.04996467e-04  1.44889140e-04  1.44888721e-04]]\n",
      "\tcluster_weights:\n",
      "[4.16828681e-01 3.30799689e-01 2.48023110e-01 3.04000227e-03\n",
      " 7.06084748e-04 3.09783619e-04 1.47655640e-04 7.27298364e-05\n",
      " 3.61711229e-05 1.80519646e-05 9.02074734e-06 9.02074734e-06]\n",
      "\tv_sticks:\n",
      "[-3.36147171e-01  2.71078276e-01  4.15580988e+00  1.02169943e+00\n",
      "  2.22352577e-01  8.42543592e-02  2.75574502e-02  9.80599206e-03\n",
      "  3.29468528e-03  8.90324866e-04  4.76839732e-11]\n"
     ]
    }
   ],
   "source": [
    "moment_model.set_moments_from_free_par(best_param)\n",
    "print(moment_model.moment_params)"
   ]
  },
  {
   "cell_type": "code",
   "execution_count": 5,
   "metadata": {},
   "outputs": [
    {
     "name": "stdout",
     "output_type": "stream",
     "text": [
      "prior_params:\n",
      "\talpha: [1.]\n",
      "\tprior_centroid_mean: [0.]\n",
      "\tprior_centroid_info: [0.1]\n",
      "\tprior_gamma_df: [8.]\n",
      "\tprior_gamma_inv_scale:\n",
      "[[0.62 0.  ]\n",
      " [0.   0.62]]\n"
     ]
    }
   ],
   "source": [
    "print(model.prior_params)"
   ]
  },
  {
   "cell_type": "code",
   "execution_count": 30,
   "metadata": {},
   "outputs": [
    {
     "name": "stdout",
     "output_type": "stream",
     "text": [
      "0.6931471805599453\n"
     ]
    }
   ],
   "source": [
    "# Define a perturbation in the logit v space.\n",
    "\n",
    "phi_center = -2\n",
    "#phi_log_rescale = stick_sens.get_log_p0_logit_stick(phi_center)\n",
    "phi_log_rescale = -np.log(0.5)\n",
    "print(phi_log_rescale)\n",
    "def log_phi(logit_v):\n",
    "    return(-0.5 * (logit_v - phi_center) ** 2 - phi_log_rescale)\n",
    "\n",
    "def phi(logit_v):\n",
    "    return np.exp(log_phi(logit_v))"
   ]
  },
  {
   "cell_type": "markdown",
   "metadata": {},
   "source": [
    "This perturbation class is based on the contamination model\n",
    "\n",
    "$$\n",
    "p_c(\\theta | \\epsilon, \\phi) =  p_0(\\theta) \\left(1 + \\epsilon \\phi(\\theta) \\right)\n",
    "$$\n",
    "\n",
    "This corresponds to Gustafson's linear model.  One big problem is that you must take $\\epsilon \\rightarrow \\infty$.  Another is that, even if you set it up as a normalized mixture, the scale of the perturbation determines the derivative.  I think it is worth experimenting with the model\n",
    "\n",
    "\\begin{align}\n",
    "p_c(\\theta | \\epsilon, \\phi) &= p_0(\\theta)^{1 - \\epsilon} p_1(\\theta)^\\epsilon \\\\\n",
    "& = p_0(\\theta) \\left(\\frac{p_1(\\theta)}{p_0(\\theta)}\\right)^\\epsilon \\\\\n",
    "& =: p_0(\\theta) (C_1 \\phi(\\theta)) ^ \\epsilon\n",
    "\\end{align}\n",
    "\n",
    "because, among other things, it is invariant to the scaling $C_1$.\n"
   ]
  },
  {
   "cell_type": "code",
   "execution_count": 31,
   "metadata": {},
   "outputs": [
    {
     "name": "stdout",
     "output_type": "stream",
     "text": [
      "0.0 -1.930463414006729 -0.03663537377491137 -1.896359677595842\n"
     ]
    }
   ],
   "source": [
    "import scipy as osp\n",
    "\n",
    "class PriorPerturbation(object):\n",
    "    def __init__(self, model, log_phi, epsilon=1.0):\n",
    "        self.logit_v_lb = -4\n",
    "        self.logit_v_ub = 4\n",
    "        \n",
    "        self.gustafson_style = False\n",
    "        \n",
    "        self.model = model\n",
    "        \n",
    "        self.epsilon_param = vb.ScalarParam('epsilon', lb=0.0)\n",
    "        self.epsilon_param.set(epsilon)\n",
    "\n",
    "        self.set_log_phi(log_phi)\n",
    "        \n",
    "        if not model.vb_params.use_logitnormal_sticks:\n",
    "            raise NotImplementedError(\n",
    "                'functional sensitivty only computed with logitnormal sticks')\n",
    "        self.model = model\n",
    "        \n",
    "        self.objective = obj_lib.Objective(\n",
    "            self.model.global_vb_params, self.get_perturbed_kl)\n",
    "    \n",
    "    #################\n",
    "    # Functions that are used for optimization and sensitivity.\n",
    "        \n",
    "    def get_e_log_perturbation(self):\n",
    "        if self.gustafson_style:\n",
    "            perturbation_fun = \\\n",
    "                lambda logit_v: \\\n",
    "                    (1 + self.epsilon_param.get() * np.exp(self.log_phi(logit_v)))\n",
    "        else:\n",
    "            perturbation_fun = \\\n",
    "                lambda logit_v: self.log_phi(logit_v) * self.epsilon_param.get()\n",
    "\n",
    "        e_perturbation_vec = gmm_utils.get_e_func_logit_stick_vec(\n",
    "            self.model.vb_params, perturbation_fun)\n",
    "        return -1 * np.sum(e_perturbation_vec)\n",
    "                \n",
    "    def get_perturbed_kl(self):\n",
    "        return self.get_e_log_perturbation() + self.model.set_z_get_kl()\n",
    "\n",
    "    #################\n",
    "    # Functions that are used for graphing and the influence function.\n",
    "\n",
    "    # The log variational density of stick k at logit_v\n",
    "    # in the logit_stick space.\n",
    "    def get_log_q_logit_stick(self, logit_v, k):\n",
    "        mean = self.model.global_vb_params['v_sticks']['mean'].get()[k]\n",
    "        info = self.model.global_vb_params['v_sticks']['info'].get()[k]\n",
    "        return -0.5 * (info * (logit_v - mean) ** 2 - np.log(info))\n",
    "\n",
    "    # Return a vector of log variational densities for all sticks at logit_v\n",
    "    # in the logit stick space.\n",
    "    def get_log_q_logit_all_sticks(self, logit_v):\n",
    "        mean = self.model.global_vb_params['v_sticks']['mean'].get()\n",
    "        info = self.model.global_vb_params['v_sticks']['info'].get()\n",
    "        return -0.5 * (info * (logit_v - mean) ** 2 - np.log(info))\n",
    "\n",
    "    def get_log_p0(self, v):\n",
    "        alpha = self.model.prior_params['alpha'].get()\n",
    "        return (alpha - 1) * np.log1p(v) - self.log_norm_p0\n",
    "\n",
    "    def get_log_p0_logit(self, logit_v):\n",
    "        alpha = self.model.prior_params['alpha'].get()\n",
    "        return \\\n",
    "            logit_v - (alpha + 1) * np.log1p(np.exp(logit_v)) - \\\n",
    "            self.log_norm_p0_logit\n",
    "\n",
    "    def get_log_pc(self, v):\n",
    "        logit_v = np.log(v) - np.log(1 - v)\n",
    "        epsilon = self.epsilon_param.get()\n",
    "        if np.abs(epsilon) < 1e-8:\n",
    "            return self.get_log_p0(v)            \n",
    "\n",
    "        if self.gustafson_style:\n",
    "            log_epsilon = np.log(epsilon)\n",
    "            return \\\n",
    "                self.get_log_p0(v) + \\\n",
    "                self.log_phi(logit_v) + \\\n",
    "                log_epsilon - \\\n",
    "                self.log_norm_pc\n",
    "        else:\n",
    "            assert epsilon <= 1\n",
    "            return \\\n",
    "                self.get_log_p0(v) + \\\n",
    "                epsilon * self.log_phi(logit_v) - \\\n",
    "                self.log_norm_pc\n",
    "\n",
    "    def get_log_pc_logit(self, logit_v):\n",
    "        epsilon = self.epsilon_param.get()\n",
    "        if np.abs(epsilon) < 1e-8:\n",
    "            return self.get_log_p0_logit(logit_v)            \n",
    "\n",
    "        if self.gustafson_style:\n",
    "            log_epsilon = np.log(epsilon)\n",
    "            return \\\n",
    "                self.get_log_p0_logit(logit_v) + \\\n",
    "                self.log_phi(logit_v) + \\\n",
    "                log_epsilon - \\\n",
    "                self.log_norm_pc_logit\n",
    "        else:\n",
    "            assert epsilon <= 1\n",
    "            return \\\n",
    "                self.get_log_p0_logit(logit_v) + \\\n",
    "                epsilon * self.log_phi(logit_v) - \\\n",
    "                self.log_norm_pc_logit\n",
    "\n",
    "    ###################################\n",
    "    # Setting functions for initialization\n",
    "\n",
    "    def set_epsilon(self, epsilon):\n",
    "        self.epsilon_param.set(epsilon)\n",
    "        self.set_log_phi(self.log_phi)\n",
    "        \n",
    "    def set_log_phi(self, log_phi):\n",
    "        # Set attributes derived from phi and epsilon\n",
    "        \n",
    "        # Initial values for the log normalzing constants which will be set below.\n",
    "        self.log_norm_p0 = 0\n",
    "        self.log_norm_pc = 0\n",
    "        self.log_norm_p0_logit = 0\n",
    "        self.log_norm_pc_logit = 0\n",
    "\n",
    "        self.log_phi = log_phi\n",
    "        \n",
    "        norm_p0, _ = osp.integrate.quadrature(\n",
    "            lambda v: np.exp(self.get_log_p0(v)), 0, 1)\n",
    "        assert norm_p0 > 0 \n",
    "        self.log_norm_p0 = np.log(norm_p0)\n",
    "\n",
    "        norm_pc, _ = osp.integrate.quadrature(\n",
    "            lambda v: np.exp(self.get_log_pc(v)),\n",
    "            0, 1)\n",
    "        assert norm_pc > 0 \n",
    "        self.log_norm_pc = np.log(norm_pc)\n",
    "        \n",
    "        norm_p0_logit, _ = osp.integrate.quadrature(\n",
    "            lambda logit_v: np.exp(self.get_log_p0_logit(logit_v)),\n",
    "            self.logit_v_lb, self.logit_v_ub)\n",
    "        assert norm_p0_logit > 0 \n",
    "        self.log_norm_p0_logit = np.log(norm_p0_logit)\n",
    "\n",
    "        norm_pc_logit, _ = osp.integrate.quadrature(\n",
    "            lambda logit_v: np.exp(self.get_log_pc_logit(logit_v)),\n",
    "            self.logit_v_lb, self.logit_v_ub)\n",
    "        assert norm_pc_logit > 0 \n",
    "        self.log_norm_pc_logit = np.log(norm_pc_logit)\n",
    "        \n",
    "\n",
    "prior_perturbation = PriorPerturbation(model, log_phi)\n",
    "print(\n",
    "    prior_perturbation.log_norm_p0,\n",
    "    prior_perturbation.log_norm_pc,\n",
    "    prior_perturbation.log_norm_p0_logit,\n",
    "    prior_perturbation.log_norm_pc_logit)"
   ]
  },
  {
   "cell_type": "code",
   "execution_count": 32,
   "metadata": {},
   "outputs": [
    {
     "name": "stdout",
     "output_type": "stream",
     "text": [
      "phi max:  0.49997474875006853\n"
     ]
    },
    {
     "data": {
      "text/plain": [
       "Text(0.5,1,'Priors in logit space')"
      ]
     },
     "execution_count": 32,
     "metadata": {},
     "output_type": "execute_result"
    },
    {
     "data": {
      "image/png": "[encoded data removed]",
      "text/plain": [
       "<matplotlib.figure.Figure at 0x7f2ab28b9860>"
      ]
     },
     "metadata": {},
     "output_type": "display_data"
    }
   ],
   "source": [
    "prior_perturbation.set_epsilon(1.0)\n",
    "\n",
    "logit_v_grid = np.linspace(-4, 4, 200)\n",
    "v_grid = np.exp(logit_v_grid) / (1 + np.exp(logit_v_grid))\n",
    "\n",
    "print('phi max: ', np.max(phi(logit_v_grid)))\n",
    "\n",
    "plt.figure(1, figsize=(18, 5))\n",
    "\n",
    "#plt.plot(v_grid, phi(logit_v_grid))\n",
    "plt.subplot(141)\n",
    "plt.plot(logit_v_grid, prior_perturbation.get_log_p0_logit(logit_v_grid))\n",
    "plt.plot(logit_v_grid, prior_perturbation.get_log_pc_logit(logit_v_grid))\n",
    "plt.title('Log priors in logit space')\n",
    "\n",
    "plt.subplot(142)\n",
    "plt.plot(logit_v_grid, np.exp(prior_perturbation.log_phi(logit_v_grid)))\n",
    "plt.title('phi in logit space')\n",
    "\n",
    "plt.subplot(143)\n",
    "plt.plot(v_grid, np.exp(prior_perturbation.get_log_p0(v_grid)))\n",
    "plt.plot(v_grid, np.exp(prior_perturbation.get_log_pc(v_grid)))\n",
    "plt.title('Priors in stick space')\n",
    "\n",
    "plt.subplot(144)\n",
    "plt.plot(logit_v_grid, np.exp(prior_perturbation.get_log_p0_logit(logit_v_grid)))\n",
    "plt.plot(logit_v_grid, np.exp(prior_perturbation.get_log_pc_logit(logit_v_grid)))\n",
    "plt.title('Priors in logit space')\n"
   ]
  },
  {
   "cell_type": "code",
   "execution_count": 33,
   "metadata": {
    "scrolled": false
   },
   "outputs": [
    {
     "name": "stdout",
     "output_type": "stream",
     "text": [
      "35 35 96\n"
     ]
    }
   ],
   "source": [
    "# Choose the number of GH points.\n",
    "import LinearResponseVariationalBayes.ExponentialFamilies as ef\n",
    "model.global_vb_params.set_free(best_param)\n",
    "vb_params = deepcopy(model.vb_params)\n",
    "\n",
    "perturbed_log_density = lambda x : np.log(1.0 + phi(x))\n",
    "\n",
    "expected_perturbations_list = []\n",
    "gh_deg_list = np.arange(3, 100, 1)\n",
    "for gh_deg in gh_deg_list:\n",
    "    gmm_utils.set_gauss_hermite_points(vb_params, gh_deg=gh_deg)\n",
    "    expected_perturbations_list.append(\n",
    "        gmm_utils.get_e_log_perturbation_vec(vb_params, phi))\n",
    "\n",
    "expected_perturbations_list = np.array(expected_perturbations_list)\n",
    "#print(expected_perturbations_list.shape)\n",
    "diffs = (expected_perturbations_list[1:, :] - \\\n",
    "         expected_perturbations_list[:-1, :]) / \\\n",
    "        np.abs(expected_perturbations_list[1:, :] + 1e-6)\n",
    "#print(np.max(diffs, axis=1))\n",
    "max_diffs = np.max(np.abs(diffs), axis=1) \n",
    "gh_deg_threshold = np.argmax(max_diffs < 1e-5)\n",
    "gh_deg = max(20, gh_deg_threshold)\n",
    "print(gh_deg, gh_deg_threshold, len(max_diffs))"
   ]
  },
  {
   "cell_type": "code",
   "execution_count": 34,
   "metadata": {
    "scrolled": false
   },
   "outputs": [
    {
     "name": "stdout",
     "output_type": "stream",
     "text": [
      "Iter: 7\t RMSE: 14.10718336609823\t Objective: -273.64843781584386\n",
      "Iter: 8\t RMSE: 14.107208149739574\t Objective: -273.6484460528608\n",
      "Iter: 9\t RMSE: 14.107234144648078\t Objective: -273.64844607871737\n",
      "Optimization terminated successfully.\n",
      "         Current function value: -273.648446\n",
      "         Iterations: 2\n",
      "         Function evaluations: 3\n",
      "         Gradient evaluations: 3\n",
      "         Hessian evaluations: 0\n",
      "Iter: 10\t RMSE: 14.107234144648078\t Objective: -273.6484460787178\n",
      "Iter: 11\t RMSE: 14.107234294840994\t Objective: -273.6484460787216\n",
      "Optimization terminated successfully.\n",
      "         Current function value: -273.648446\n",
      "         Iterations: 1\n",
      "         Function evaluations: 2\n",
      "         Gradient evaluations: 2\n",
      "         Hessian evaluations: 0\n",
      "Iter: 12\t RMSE: 14.107234294840994\t Objective: -273.6484460787198\n",
      "Iter: 13\t RMSE: 14.107234294885039\t Objective: -273.648446078721\n",
      "Warning: A bad approximation caused failure to predict improvement.\n",
      "         Current function value: -273.648446\n",
      "         Iterations: 0\n",
      "         Function evaluations: 2\n",
      "         Gradient evaluations: 1\n",
      "         Hessian evaluations: 0\n",
      "Done. \n"
     ]
    }
   ],
   "source": [
    "# First fit with no perturbation but the increased number of gh points.\n",
    "\n",
    "model.objective.logger.print_every = 10\n",
    "gmm_utils.set_gauss_hermite_points(model.vb_params, gh_deg=gh_deg)\n",
    "\n",
    "best_param_0, converged, x_conv, f_conv, grad_conv, obj_opt, opt_results = \\\n",
    "    opt_lib.repeatedly_optimize(\n",
    "        objective=prior_perturbation.objective,\n",
    "        optimization_fun=lambda x: gmm_utils.precondition_and_optimize(model.objective, x),\n",
    "        init_x=best_param,\n",
    "        initial_optimization_fun=None,\n",
    "        max_iter=100,\n",
    "        gtol=1e-8, ftol=1e-8, xtol=1e-8, disp=False,\n",
    "        keep_intermediate_optimizations=True)\n",
    "\n",
    "kl_hessian_0 = model.objective.fun_free_hessian(best_param_0)\n",
    "    \n",
    "print('Done. ')"
   ]
  },
  {
   "cell_type": "code",
   "execution_count": 35,
   "metadata": {},
   "outputs": [],
   "source": [
    "# This expects the hyperparameter to be at its optimal value.\n",
    "prior_perturbation.set_epsilon(0.0)\n",
    "epsilon_sensitivity = \\\n",
    "    obj_lib.ParametricSensitivity(\n",
    "        objective_fun=model.set_z_get_kl,\n",
    "        input_par=prior_perturbation.model.global_vb_params,\n",
    "        output_par=moment_model.moment_params,\n",
    "        hyper_par=prior_perturbation.epsilon_param,\n",
    "        input_to_output_converter=moment_model.set_moments,\n",
    "        optimal_input_par=best_param_0,\n",
    "        objective_hessian=kl_hessian_0,\n",
    "        hyper_par_objective_fun=prior_perturbation.get_e_log_perturbation)"
   ]
  },
  {
   "cell_type": "code",
   "execution_count": 36,
   "metadata": {},
   "outputs": [
    {
     "data": {
      "text/plain": [
       "32.37760537809062"
      ]
     },
     "execution_count": 36,
     "metadata": {},
     "output_type": "execute_result"
    }
   ],
   "source": [
    "prior_perturbation.get_e_log_perturbation()\n",
    "np.linalg.norm(epsilon_sensitivity.get_dinput_dhyper())"
   ]
  },
  {
   "cell_type": "markdown",
   "metadata": {},
   "source": [
    "## Fit with perturbation"
   ]
  },
  {
   "cell_type": "code",
   "execution_count": 44,
   "metadata": {},
   "outputs": [
    {
     "name": "stdout",
     "output_type": "stream",
     "text": [
      "Epsilon:  1.0\n",
      "Predicted differences:  32.37760537809062\n"
     ]
    }
   ],
   "source": [
    "epsilon = prior_perturbation.epsilon_param.get()\n",
    "print('Epsilon: ', epsilon)\n",
    "\n",
    "best_param_phi_pred = \\\n",
    "    epsilon_sensitivity.predict_input_par_from_hyperparameters(epsilon)\n",
    "output_phi_pred = epsilon_sensitivity.predict_output_par_from_hyperparameters(\n",
    "    epsilon, linear=True)\n",
    "\n",
    "output_phi = moment_model.set_and_get_moments_from_free_par(best_param_phi)\n",
    "output_0 = moment_model.set_and_get_moments_from_free_par(best_param_0)\n",
    "\n",
    "print('Predicted differences: ', np.linalg.norm(best_param_phi_pred - best_param_0))"
   ]
  },
  {
   "cell_type": "code",
   "execution_count": 45,
   "metadata": {
    "scrolled": false
   },
   "outputs": [
    {
     "name": "stdout",
     "output_type": "stream",
     "text": [
      "epsilon: 1.0\n",
      "Iter  109  value:  1470.5083966461364\n",
      "Iter  110  value:  343.02900637104403\n",
      "Iter  111  value:  220.51615974044154\n",
      "Iter  112  value:  199.31239703503576\n",
      "Iter  113  value:  171.4937697784359\n",
      "Iter  114  value:  155.50108577873664\n",
      "Iter  115  value:  140.0817862480324\n",
      "Iter  116  value:  111.55728865910598\n",
      "Iter  117  value:  101.83801154144192\n",
      "Iter  118  value:  161.57164440525267\n",
      "Iter  119  value:  90.38367887561844\n",
      "Iter  120  value:  79.19697323808586\n",
      "Iter  121  value:  70.4432076772982\n",
      "Iter  122  value:  60.9548081621978\n",
      "Iter  123  value:  62.433874257947096\n",
      "Iter  124  value:  56.45784545056003\n",
      "Iter  125  value:  54.64558802387225\n",
      "Iter  126  value:  49.30962298429792\n",
      "Iter  127  value:  40.49629446891744\n",
      "Iter  128  value:  36.03193027147934\n",
      "Iter  129  value:  27.127316233709436\n",
      "Iter  130  value:  44.61113799272555\n",
      "Iter  131  value:  21.76255379011485\n",
      "Iter  132  value:  16.490120630516003\n",
      "Iter  133  value:  11.512583862298058\n",
      "Iter  134  value:  10.627267948190351\n",
      "Iter  135  value:  8.05075701327577\n",
      "Iter  136  value:  -0.4920711647656262\n",
      "Iter  137  value:  -10.622404881280488\n",
      "Iter  138  value:  111.28492652436327\n",
      "Iter  139  value:  -10.484818564368023\n",
      "Iter  140  value:  -14.304268639050186\n",
      "Iter  141  value:  -15.86176209065287\n",
      "Iter  142  value:  -19.149896260812596\n",
      "Iter  143  value:  -21.411816560601498\n",
      "Iter  144  value:  -23.668840933754915\n",
      "Iter  145  value:  -26.476323522805398\n",
      "Iter  146  value:  -32.34206937652027\n",
      "Iter  147  value:  -44.51846694247038\n",
      "Iter  148  value:  -61.122148488465236\n",
      "Iter  149  value:  -64.99732891525497\n",
      "Iter  150  value:  -54.79330189016815\n",
      "Iter  151  value:  -71.08685903690076\n",
      "Iter  152  value:  -73.4252513881603\n",
      "Iter  153  value:  -76.81389579531212\n",
      "Iter  154  value:  -86.12348213542354\n",
      "Iter  155  value:  -87.38402864418087\n",
      "Iter  156  value:  60.7728950670494\n",
      "Iter  157  value:  -80.32536124193379\n",
      "Iter  158  value:  -88.52771089511776\n",
      "Iter  159  value:  -89.97845356366204\n",
      "Warning: Maximum number of iterations has been exceeded.\n",
      "         Current function value: -89.978454\n",
      "         Iterations: 50\n",
      "         Function evaluations: 51\n",
      "         Gradient evaluations: 43\n",
      "         Hessian evaluations: 0\n",
      "Iter  160  value:  -89.97845356366193\n",
      "Iter  161  value:  -144.5138054836351\n",
      "Iter  162  value:  -146.5735069134874\n",
      "Iter  163  value:  -154.30378291008984\n",
      "Iter  164  value:  -155.84451943151515\n",
      "Iter  165  value:  -171.4145421578166\n",
      "Iter  166  value:  -191.87287107374192\n",
      "Iter  167  value:  -194.2430711908696\n",
      "Iter  168  value:  -167.6039414864498\n",
      "Iter  169  value:  -200.42796142680012\n",
      "Iter  170  value:  -202.81593193347115\n",
      "Iter  171  value:  -211.18416832165707\n",
      "Iter  172  value:  -212.573651130803\n",
      "Iter  173  value:  1822.8325893189094\n",
      "Iter  174  value:  -78.7347877291088\n",
      "Iter  175  value:  -212.07303786040916\n",
      "Iter  176  value:  -212.93067992350313\n",
      "Iter  177  value:  -213.29653063571752\n",
      "Iter  178  value:  -213.85932359162857\n",
      "Iter  179  value:  -214.14229101083504\n",
      "Iter  180  value:  -214.72635498707206\n",
      "Iter  181  value:  -215.37025822413798\n",
      "Iter  182  value:  -215.5183342457881\n",
      "Iter  183  value:  -216.77572785961462\n",
      "Iter  184  value:  -217.0946323154615\n",
      "Iter  185  value:  -219.2375765613926\n",
      "Iter  186  value:  -219.75621161676153\n",
      "Iter  187  value:  -224.92119850742753\n",
      "Iter  188  value:  -226.3480056459884\n",
      "Iter  189  value:  -226.78937642591524\n",
      "Iter  190  value:  -230.17981777286172\n",
      "Iter  191  value:  -230.74825420039858\n",
      "Iter  192  value:  -233.15708611194\n",
      "Iter  193  value:  -174.84915433283325\n",
      "Iter  194  value:  -234.06525120595495\n",
      "Iter  195  value:  -235.1572137585748\n",
      "Iter  196  value:  -237.166293890924\n",
      "Iter  197  value:  -237.54655461283758\n",
      "Iter  198  value:  -238.78951090303846\n",
      "Iter  199  value:  -240.3661230099441\n",
      "Iter  200  value:  -240.9579172095648\n",
      "Iter  201  value:  -237.6626458467771\n",
      "Iter  202  value:  -241.4892942652824\n",
      "Iter  203  value:  -241.69853780831957\n",
      "Iter  204  value:  -242.3459920555982\n",
      "Iter  205  value:  -242.53286180652384\n",
      "Iter  206  value:  -242.54185585958786\n",
      "Iter  207  value:  -243.04070576557982\n",
      "Iter  208  value:  -243.40100960672234\n",
      "Iter  209  value:  -243.5900436745373\n",
      "Iter  210  value:  -243.85659762802825\n",
      "Warning: Maximum number of iterations has been exceeded.\n",
      "         Current function value: -243.856598\n",
      "         Iterations: 50\n",
      "         Function evaluations: 51\n",
      "         Gradient evaluations: 44\n",
      "         Hessian evaluations: 0\n",
      "Iter  211  value:  -243.8565976280278\n",
      "Iter  212  value:  -231.85355939583602\n",
      "Iter  213  value:  -244.1333593373373\n",
      "Iter  214  value:  -244.39158569264964\n",
      "Iter  215  value:  -244.66851773418443\n",
      "Iter  216  value:  -244.6956184136437\n",
      "Iter  217  value:  -244.75379648432997\n",
      "Iter  218  value:  -244.90085477445677\n",
      "Iter  219  value:  -244.97320652978433\n",
      "Iter  220  value:  -245.0044324519001\n",
      "Iter  221  value:  -245.0352419314798\n",
      "Iter  222  value:  -245.05800790658265\n",
      "Iter  223  value:  -245.05829372622972\n",
      "Iter  224  value:  -245.05942622028576\n",
      "Iter  225  value:  -245.05963813990437\n",
      "Iter  226  value:  -245.05963988942926\n",
      "Iter  227  value:  -245.05963989460403\n",
      "Optimization terminated successfully.\n",
      "         Current function value: -245.059640\n",
      "         Iterations: 16\n",
      "         Function evaluations: 17\n",
      "         Gradient evaluations: 16\n",
      "         Hessian evaluations: 0\n",
      "Iter  228  value:  -245.05963989460585\n",
      "Iter  229  value:  -245.05963989460756\n",
      "Optimization terminated successfully.\n",
      "         Current function value: -245.059640\n",
      "         Iterations: 1\n",
      "         Function evaluations: 2\n",
      "         Gradient evaluations: 2\n",
      "         Hessian evaluations: 0\n",
      "Done. Converged:  True\n",
      "This is nonzero if phi did anything: 16.79566487136881\n"
     ]
    }
   ],
   "source": [
    "# Then fit with the perturbation.\n",
    "prior_perturbation.set_epsilon(1.0)\n",
    "print(prior_perturbation.epsilon_param)\n",
    "best_param_phi, converged, x_conv, f_conv, grad_conv, obj_opt, opt_results = \\\n",
    "    opt_lib.repeatedly_optimize(\n",
    "        objective=prior_perturbation.objective,\n",
    "        optimization_fun=\n",
    "            lambda x: gmm_utils.precondition_and_optimize(\n",
    "                prior_perturbation.objective, x),\n",
    "        init_x=best_param_phi_pred,\n",
    "        initial_optimization_fun=None,\n",
    "        keep_intermediate_optimizations=True)\n",
    "\n",
    "print('Done. Converged: ', converged)\n",
    "\n",
    "print('This is nonzero if phi did anything:', np.linalg.norm(best_param_phi - best_param_0))"
   ]
  },
  {
   "cell_type": "code",
   "execution_count": 46,
   "metadata": {},
   "outputs": [
    {
     "name": "stdout",
     "output_type": "stream",
     "text": [
      "Epsilon: 1.0\n"
     ]
    },
    {
     "data": {
      "text/plain": [
       "[<matplotlib.lines.Line2D at 0x7f2ab24ec048>]"
      ]
     },
     "execution_count": 46,
     "metadata": {},
     "output_type": "execute_result"
    },
    {
     "data": {
      "image/png": "[encoded data removed]",
      "text/plain": [
       "<matplotlib.figure.Figure at 0x7f2ab24dfb38>"
      ]
     },
     "metadata": {},
     "output_type": "display_data"
    }
   ],
   "source": [
    "print('Epsilon:', epsilon)\n",
    "\n",
    "plt.figure()\n",
    "plt.subplot(1, 2, 1)\n",
    "plt.plot(best_param_phi - best_param_0, best_param_phi_pred - best_param_0, 'k.')\n",
    "plt.plot(best_param_phi - best_param_0, best_param_phi - best_param_0, 'r')\n",
    "\n",
    "plt.subplot(1, 2, 2)\n",
    "plt.plot(output_phi - output_0, output_phi_pred - output_0, 'k.')\n",
    "plt.plot(output_phi - output_0, output_phi - output_0, 'r')"
   ]
  }
 ],
 "metadata": {
  "kernelspec": {
   "display_name": "Python 3",
   "language": "python",
   "name": "python3"
  },
  "language_info": {
   "codemirror_mode": {
    "name": "ipython",
    "version": 3
   },
   "file_extension": ".py",
   "mimetype": "text/x-python",
   "name": "python",
   "nbconvert_exporter": "python",
   "pygments_lexer": "ipython3",
   "version": "3.5.2"
  }
 },
 "nbformat": 4,
 "nbformat_minor": 2
}
