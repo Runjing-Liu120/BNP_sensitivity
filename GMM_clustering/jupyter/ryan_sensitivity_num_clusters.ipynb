{
 "cells": [
  {
   "cell_type": "code",
   "execution_count": 1,
   "metadata": {
    "collapsed": true
   },
   "outputs": [],
   "source": [
    "git_repo = '../../..'\n",
    "\n",
    "import sys\n",
    "import os\n",
    "\n",
    "sys.path.insert(0, os.path.join(git_repo, 'BNP_sensitivity/GMM_clustering/'))\n",
    "\n",
    "# Linear response libraries\n",
    "import LinearResponseVariationalBayes as vb\n",
    "import LinearResponseVariationalBayes.SparseObjectives as obj_lib\n",
    "\n",
    "# My libraries\n",
    "import gmm_clustering_lib as gmm_utils\n",
    "import modeling_lib \n",
    "import functional_sensitivity_lib as fun_sens_lib \n",
    "import utils_lib\n",
    "\n",
    "import matplotlib.pyplot as plt\n",
    "%matplotlib inline\n",
    "\n",
    "from copy import deepcopy\n",
    "\n",
    "import numpy as np\n",
    "import scipy as sp\n",
    "\n",
    "np.random.seed(453453)\n",
    "\n",
    "import json "
   ]
  },
  {
   "cell_type": "code",
   "execution_count": 2,
   "metadata": {
    "collapsed": true
   },
   "outputs": [],
   "source": [
    "# Load results from previous fit.\n",
    "json_input_file = os.path.join(\n",
    "    git_repo, 'BNP_sensitivity/GMM_clustering/iris_fits/ryan_iris_bnp_full_data_fit.json')\n",
    "\n",
    "with open(json_input_file, 'r') as fp:\n",
    "    fit_dict = json.load(fp)\n",
    "    model = gmm_utils.get_model_from_checkpoint(fit_dict)\n",
    "    model_ = gmm_utils.get_model_from_checkpoint(fit_dict)\n",
    "    best_param = model.global_vb_params.get_free()\n",
    "    kl_hessian = gmm_utils.get_kl_hessian_from_checkpoint(fit_dict)"
   ]
  },
  {
   "cell_type": "code",
   "execution_count": 89,
   "metadata": {},
   "outputs": [],
   "source": [
    "dim = 4\n",
    "n_obs = 10\n",
    "probs = np.random.random((n_obs, dim))\n",
    "probs = probs / np.sum(probs, axis=1)[:, np.newaxis]\n",
    "\n",
    "#print(probs)\n",
    "#print(np.cumsum(probs, axis=1))\n",
    "\n",
    "\n",
    "def draw_components(probs, u):\n",
    "    selection = (u <= np.cumsum(probs, axis=1))\n",
    "    components = np.argmax(selection, axis=1)\n",
    "    indicator_mat = np.zeros_like(probs)\n",
    "    indicator_mat[range(n_obs), components] = 1\n",
    "    return components, indicator_mat\n",
    "\n",
    "def count_components(components, dim):\n",
    "    return np.array([ np.sum(components == k) for k in range(dim) ])\n",
    "\n"
   ]
  },
  {
   "cell_type": "code",
   "execution_count": 90,
   "metadata": {},
   "outputs": [],
   "source": [
    "u = np.random.random((n_obs, 1))\n",
    "components, indicator_mat = draw_components(probs, u)"
   ]
  },
  {
   "cell_type": "code",
   "execution_count": 94,
   "metadata": {},
   "outputs": [
    {
     "name": "stdout",
     "output_type": "stream",
     "text": [
      "[[0.052 0.318 0.33  0.3  ]\n",
      " [0.047 0.437 0.059 0.457]\n",
      " [0.555 0.246 0.101 0.098]\n",
      " [0.03  0.58  0.023 0.367]\n",
      " [0.196 0.116 0.423 0.265]\n",
      " [0.06  0.447 0.278 0.215]\n",
      " [0.503 0.236 0.134 0.127]\n",
      " [0.097 0.572 0.305 0.026]\n",
      " [0.163 0.245 0.202 0.39 ]\n",
      " [0.077 0.277 0.181 0.465]]\n",
      "[[0.05030985 0.32787631 0.35275188 0.26906196]\n",
      " [0.0536186  0.45128039 0.0514264  0.44367461]\n",
      " [0.55932518 0.24027518 0.10209657 0.09830308]\n",
      " [0.02806222 0.57244671 0.02314887 0.3763422 ]\n",
      " [0.22343547 0.09422307 0.42724036 0.2551011 ]\n",
      " [0.06324845 0.43783044 0.30359361 0.1953275 ]\n",
      " [0.47930542 0.23882295 0.13523234 0.14663929]\n",
      " [0.1004542  0.56931354 0.30339231 0.02683996]\n",
      " [0.16130998 0.25199827 0.19411201 0.39257974]\n",
      " [0.07325228 0.28248428 0.17809716 0.46616628]]\n"
     ]
    },
    {
     "data": {
      "text/plain": [
       "[<matplotlib.lines.Line2D at 0x7fc718f63668>,\n",
       " <matplotlib.lines.Line2D at 0x7fc718f63518>,\n",
       " <matplotlib.lines.Line2D at 0x7fc718f634a8>,\n",
       " <matplotlib.lines.Line2D at 0x7fc718f4aba8>]"
      ]
     },
     "execution_count": 94,
     "metadata": {},
     "output_type": "execute_result"
    },
    {
     "data": {
      "image/png": "[encoded data removed]",
      "text/plain": [
       "<matplotlib.figure.Figure at 0x7fc719067518>"
      ]
     },
     "metadata": {},
     "output_type": "display_data"
    }
   ],
   "source": [
    "dim = 4\n",
    "n_obs = 10\n",
    "probs = np.random.random((n_obs, dim))\n",
    "probs = probs / np.sum(probs, axis=1)[:, np.newaxis]\n",
    "\n",
    "n_sims = 1000\n",
    "count_mat = np.zeros_like(probs)\n",
    "for sim in range(n_sims):\n",
    "    u = np.random.random((n_obs, 1))\n",
    "    components, indicator_mat = draw_components(probs, u)\n",
    "    count_mat += indicator_mat\n",
    "    \n",
    "print(count_mat / n_sims)\n",
    "print(probs)\n",
    "plt.plot(count_mat / n_sims, probs, 'k.')"
   ]
  },
  {
   "cell_type": "code",
   "execution_count": 100,
   "metadata": {},
   "outputs": [
    {
     "data": {
      "text/plain": [
       "array([0, 6, 2, 2])"
      ]
     },
     "execution_count": 100,
     "metadata": {},
     "output_type": "execute_result"
    }
   ],
   "source": [
    "\n",
    "u = np.random.random((n_obs, 1))\n",
    "components, indicator_mat = draw_components(probs, u)\n",
    "\n",
    "count_components(components, dim)"
   ]
  }
 ],
 "metadata": {
  "kernelspec": {
   "display_name": "Python 3",
   "language": "python",
   "name": "python3"
  },
  "language_info": {
   "codemirror_mode": {
    "name": "ipython",
    "version": 3
   },
   "file_extension": ".py",
   "mimetype": "text/x-python",
   "name": "python",
   "nbconvert_exporter": "python",
   "pygments_lexer": "ipython3",
   "version": "3.5.2"
  }
 },
 "nbformat": 4,
 "nbformat_minor": 2
}
