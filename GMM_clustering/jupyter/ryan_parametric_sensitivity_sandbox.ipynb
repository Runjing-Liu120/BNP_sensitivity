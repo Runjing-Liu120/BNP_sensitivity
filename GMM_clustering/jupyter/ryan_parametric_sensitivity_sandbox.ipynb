{
 "cells": [
  {
   "cell_type": "code",
   "execution_count": 1,
   "metadata": {
    "collapsed": true
   },
   "outputs": [],
   "source": [
    "git_repo = '../../..'\n",
    "\n",
    "import sys\n",
    "import os\n",
    "\n",
    "sys.path.insert(0, os.path.join(git_repo, 'BNP_sensitivity/GMM_clustering/'))\n",
    "\n",
    "# Linear response libraries\n",
    "import LinearResponseVariationalBayes as vb\n",
    "import LinearResponseVariationalBayes.SparseObjectives as obj_lib\n",
    "\n",
    "# Local libraries\n",
    "import gmm_clustering_lib as gmm_utils\n",
    "import modeling_lib \n",
    "import functional_sensitivity_lib as fun_sens_lib \n",
    "import utils_lib\n",
    "\n",
    "import matplotlib.pyplot as plt\n",
    "%matplotlib inline\n",
    "\n",
    "from copy import deepcopy\n",
    "\n",
    "import numpy as np\n",
    "import scipy as sp\n",
    "\n",
    "np.random.seed(453453)\n",
    "\n",
    "import json "
   ]
  },
  {
   "cell_type": "code",
   "execution_count": 2,
   "metadata": {
    "collapsed": true
   },
   "outputs": [],
   "source": [
    "# Load results from previous fit.\n",
    "json_input_file = os.path.join(\n",
    "    git_repo, 'BNP_sensitivity/GMM_clustering/iris_fits/ryan_iris_bnp_full_data_fit.json')\n",
    "\n",
    "with open(json_input_file, 'r') as fp:\n",
    "    fit_dict = json.load(fp)\n",
    "    model = gmm_utils.get_model_from_checkpoint(fit_dict)\n",
    "    model_ = gmm_utils.get_model_from_checkpoint(fit_dict)\n",
    "    best_param = model.global_vb_params.get_free()\n",
    "    kl_hessian = gmm_utils.get_kl_hessian_from_checkpoint(fit_dict)"
   ]
  },
  {
   "cell_type": "code",
   "execution_count": 3,
   "metadata": {},
   "outputs": [
    {
     "name": "stdout",
     "output_type": "stream",
     "text": [
      "Prior Hessian...\n",
      "Data Hessian...\n",
      "Linear systems...\n",
      "Done.\n"
     ]
    }
   ],
   "source": [
    "moment_model = gmm_utils.InterestingMoments(model)\n",
    "dg_deta = moment_model.get_moment_jacobian(best_param)\n",
    "linear_sens = gmm_utils.LinearSensitivity(model, moment_model, kl_hessian)"
   ]
  },
  {
   "cell_type": "code",
   "execution_count": 4,
   "metadata": {},
   "outputs": [
    {
     "name": "stdout",
     "output_type": "stream",
     "text": [
      "prior_params:\n",
      "\talpha: [8.]\n",
      "\tprior_centroid_mean: [0.]\n",
      "\tprior_centroid_info: [0.1]\n",
      "\tprior_gamma_df: [8.]\n",
      "\tprior_gamma_inv_scale:\n",
      "[[0.62 0.   0.   0.  ]\n",
      " [0.   0.62 0.   0.  ]\n",
      " [0.   0.   0.62 0.  ]\n",
      " [0.   0.   0.   0.62]]\n"
     ]
    }
   ],
   "source": [
    "model_refit = deepcopy(model)\n",
    "print(model.prior_params)"
   ]
  },
  {
   "cell_type": "code",
   "execution_count": 5,
   "metadata": {
    "collapsed": true
   },
   "outputs": [],
   "source": [
    "def refit_with_alpha(new_alpha, model, linear_sens):\n",
    "    model_refit = deepcopy(model)\n",
    "    model_refit.prior_params['alpha'].set(new_alpha)\n",
    "    free_par_refit = linear_sens.predict_from_prior_params(\n",
    "        model_refit.prior_params.get_free())\n",
    "    model_refit.optimize_full(free_par_refit,\n",
    "        init_max_iter=100,\n",
    "        final_max_iter=500)\n",
    "    return free_par_refit, model_refit.global_vb_params.get_free()\n"
   ]
  },
  {
   "cell_type": "code",
   "execution_count": null,
   "metadata": {
    "scrolled": false
   },
   "outputs": [
    {
     "name": "stdout",
     "output_type": "stream",
     "text": [
      "[1. 2. 3. 4. 5. 6. 7.]\n",
      "alpha:  1.0\n",
      "BGFS\n",
      "Iter: 0\t RMSE: 11.273748064624897\t Objective: -307.08800593595265\n",
      "Iter: 10\t RMSE: 11.27341170499429\t Objective: -307.08802435798697\n",
      "Iter: 20\t RMSE: 11.27348956362151\t Objective: -307.0880277717437\n",
      "Iter: 30\t RMSE: 11.273489565194856\t Objective: -307.0880277717453\n",
      "Iter: 40\t RMSE: 11.273489565195295\t Objective: -307.0880277717463\n",
      "Iter: 50\t RMSE: 11.273489565195295\t Objective: -307.0880277717463\n",
      "Iter: 60\t RMSE: 11.27352718598674\t Objective: -307.08802701318314\n",
      "Iter: 70\t RMSE: 11.273476173711932\t Objective: -307.08802766306934\n",
      "Warning: Desired error not necessarily achieved due to precision loss.\n",
      "         Current function value: -307.088017\n",
      "         Iterations: 1\n",
      "         Function evaluations: 73\n",
      "         Gradient evaluations: 62\n",
      "Conditioned Newton:\n",
      "i =  0\n",
      "Iter: 80\t RMSE: 11.273618903061408\t Objective: -307.08802036663417\n",
      "Iter: 90\t RMSE: 11.273629513567565\t Objective: -307.08801700868327\n",
      "Iter: 100\t RMSE: 11.273629513576992\t Objective: -307.08801700868173\n",
      "Warning: A bad approximation caused failure to predict improvement.\n",
      "         Current function value: -307.088017\n",
      "         Iterations: 27\n",
      "         Function evaluations: 29\n",
      "         Gradient evaluations: 5\n",
      "         Hessian evaluations: 0\n",
      "Iter 1: x_diff = 7.483490823551042e-11, f_diff = 1.2505552149377763e-12\n",
      "alpha:  2.0\n",
      "BGFS\n",
      "Iter: 0\t RMSE: 11.273748064624897\t Objective: -307.08800593595265\n",
      "Iter: 10\t RMSE: 11.27341170499429\t Objective: -307.08802435798697\n",
      "Iter: 20\t RMSE: 11.27348956362151\t Objective: -307.0880277717437\n",
      "Iter: 30\t RMSE: 11.273489565194856\t Objective: -307.0880277717453\n",
      "Iter: 40\t RMSE: 11.273489565195295\t Objective: -307.0880277717463\n",
      "Iter: 50\t RMSE: 11.273489565195295\t Objective: -307.0880277717463\n",
      "Iter: 60\t RMSE: 11.27352718598674\t Objective: -307.08802701318314\n",
      "Iter: 70\t RMSE: 11.273476173711932\t Objective: -307.08802766306934\n",
      "Warning: Desired error not necessarily achieved due to precision loss.\n",
      "         Current function value: -307.088017\n",
      "         Iterations: 1\n",
      "         Function evaluations: 73\n",
      "         Gradient evaluations: 62\n",
      "Conditioned Newton:\n",
      "i =  0\n",
      "Iter: 80\t RMSE: 11.273618903061408\t Objective: -307.08802036663417\n",
      "Iter: 90\t RMSE: 11.273629513567565\t Objective: -307.08801700868327\n",
      "Iter: 100\t RMSE: 11.273629513576992\t Objective: -307.08801700868173\n",
      "Warning: A bad approximation caused failure to predict improvement.\n",
      "         Current function value: -307.088017\n",
      "         Iterations: 27\n",
      "         Function evaluations: 29\n",
      "         Gradient evaluations: 5\n",
      "         Hessian evaluations: 0\n",
      "Iter 1: x_diff = 7.483490823551042e-11, f_diff = 1.2505552149377763e-12\n",
      "alpha:  3.0\n",
      "BGFS\n",
      "Iter: 0\t RMSE: 11.273748064624897\t Objective: -307.08800593595265\n",
      "Iter: 10\t RMSE: 11.27341170499429\t Objective: -307.08802435798697\n",
      "Iter: 20\t RMSE: 11.27348956362151\t Objective: -307.0880277717437\n",
      "Iter: 30\t RMSE: 11.273489565194856\t Objective: -307.0880277717453\n",
      "Iter: 40\t RMSE: 11.273489565195295\t Objective: -307.0880277717463\n",
      "Iter: 50\t RMSE: 11.273489565195295\t Objective: -307.0880277717463\n",
      "Iter: 60\t RMSE: 11.27352718598674\t Objective: -307.08802701318314\n",
      "Iter: 70\t RMSE: 11.273476173711932\t Objective: -307.08802766306934\n",
      "Warning: Desired error not necessarily achieved due to precision loss.\n",
      "         Current function value: -307.088017\n",
      "         Iterations: 1\n",
      "         Function evaluations: 73\n",
      "         Gradient evaluations: 62\n",
      "Conditioned Newton:\n",
      "i =  0\n"
     ]
    }
   ],
   "source": [
    "alpha_vec = np.linspace(1, 7, num=7)\n",
    "print(alpha_vec)\n",
    "free_par_refit_list = []\n",
    "free_par_refit_lr_list = []\n",
    "for alpha in alpha_vec:\n",
    "    print('\\n\\nalpha: ', alpha)\n",
    "    free_par_refit, free_par_refit_lr = refit_with_alpha(7.0, model, linear_sens)\n",
    "    free_par_refit_list.append(free_par_refit)\n",
    "    free_par_refit_lr_list.append(free_par_refit_lr)\n",
    "        "
   ]
  },
  {
   "cell_type": "code",
   "execution_count": 9,
   "metadata": {},
   "outputs": [
    {
     "data": {
      "text/plain": [
       "[<matplotlib.lines.Line2D at 0x7f709d2c5550>]"
      ]
     },
     "execution_count": 9,
     "metadata": {},
     "output_type": "execute_result"
    },
    {
     "data": {
      "image/png": "[encoded data removed]",
      "text/plain": [
       "<matplotlib.figure.Figure at 0x7f709ccbc4a8>"
      ]
     },
     "metadata": {},
     "output_type": "display_data"
    }
   ],
   "source": [
    "plt.plot(free_par_refit - best_param, free_par_refit_lr - best_param, 'k.')\n",
    "plt.plot(free_par_refit - best_param, free_par_refit - best_param, 'r')"
   ]
  }
 ],
 "metadata": {
  "kernelspec": {
   "display_name": "Python 3",
   "language": "python",
   "name": "python3"
  },
  "language_info": {
   "codemirror_mode": {
    "name": "ipython",
    "version": 3
   },
   "file_extension": ".py",
   "mimetype": "text/x-python",
   "name": "python",
   "nbconvert_exporter": "python",
   "pygments_lexer": "ipython3",
   "version": "3.5.2"
  }
 },
 "nbformat": 4,
 "nbformat_minor": 2
}
