{
 "cells": [
  {
   "cell_type": "code",
   "execution_count": 1,
   "metadata": {},
   "outputs": [],
   "source": [
    "import numpy as np\n",
    "import scipy as sp\n",
    "\n",
    "import os\n",
    "\n",
    "import autograd\n",
    "\n",
    "import sys\n",
    "\n",
    "git_repo_path = './../../..'\n",
    "\n",
    "#sys.path.insert(0, './../../LinearResponseVariationalBayes.py')\n",
    "#sys.path.insert(0, './../src/vb_modeling/')\n",
    "sys.path.insert(0, './../')\n",
    "\n",
    "import LinearResponseVariationalBayes as vb\n",
    "import LinearResponseVariationalBayes.ExponentialFamilies as ef\n",
    "\n",
    "from numpy.polynomial.hermite import hermgauss\n",
    "\n",
    "import gmm_clustering_lib as gmm_utils\n",
    "\n",
    "# The path to the genomic_time_series_bnp repo.\n",
    "sys.path.insert(0, os.path.join(git_repo_path, 'genomic_time_series_bnp/src/vb_modeling/'))\n",
    "from shift_only_lib import LinearSensitivity\n",
    "import common_modeling_lib \n",
    "\n",
    "from scipy import spatial\n",
    "import scipy.cluster.hierarchy as sch\n",
    "\n",
    "import matplotlib.pyplot as plt\n",
    "%matplotlib inline\n",
    "\n",
    "import time\n",
    "from tqdm import tqdm\n",
    "\n",
    "from copy import deepcopy\n",
    "\n",
    "from matplotlib.patches import Ellipse\n",
    "import matplotlib.cm as cm\n",
    "\n",
    "np.random.seed(453453)\n",
    "\n"
   ]
  },
  {
   "cell_type": "markdown",
   "metadata": {},
   "source": [
    "# Load data"
   ]
  },
  {
   "cell_type": "code",
   "execution_count": 2,
   "metadata": {
    "collapsed": true
   },
   "outputs": [],
   "source": [
    "# set up R chunks \n",
    "# %load_ext rpy2.ipython\n",
    "# %R require(ggplot2)"
   ]
  },
  {
   "cell_type": "code",
   "execution_count": 3,
   "metadata": {
    "collapsed": true
   },
   "outputs": [],
   "source": [
    "# load iris dataset \n",
    "\n",
    "from sklearn import datasets\n",
    "from sklearn.cluster import KMeans\n",
    "from sklearn.decomposition import PCA\n",
    "\n",
    "iris = datasets.load_iris(return_X_y= True)\n",
    "\n",
    "iris_features = iris[0]\n",
    "\n",
    "demean = True\n",
    "if demean: \n",
    "    iris_features -= np.mean(iris_features, axis = 0)[None, :]\n",
    "\n",
    "iris_species = iris[1]\n",
    "\n",
    "dim = iris_features.shape[1]"
   ]
  },
  {
   "cell_type": "code",
   "execution_count": 4,
   "metadata": {
    "collapsed": true
   },
   "outputs": [],
   "source": [
    "# define colors that will be used for plotting later\n",
    "# colors = ['red', 'blue', 'green', 'orange', 'purple', 'yellow', 'cyan', 'magenta']\n",
    "# colors += colors\n",
    "\n",
    "cmap = cm.get_cmap(name='gist_rainbow')\n",
    "colors1 = [cmap(k * 50) for k in range(12)]\n",
    "colors2 = [cmap(k * 25) for k in range(12)]"
   ]
  },
  {
   "cell_type": "code",
   "execution_count": 5,
   "metadata": {
    "collapsed": true
   },
   "outputs": [],
   "source": [
    "# run PCA\n",
    "pca_fit = PCA()\n",
    "pca_fit.fit(iris_features)\n",
    "pc_features = pca_fit.transform(iris_features)"
   ]
  },
  {
   "cell_type": "code",
   "execution_count": 6,
   "metadata": {
    "collapsed": true
   },
   "outputs": [],
   "source": [
    "def plot_clusters(x, y, cluster_labels, colors, fig, centroids = None, cov = None): \n",
    "    if np.all(cov != None): \n",
    "        assert len(np.unique(cluster_labels)) == np.shape(cov)[0]\n",
    "    if np.all(centroids != None): \n",
    "        assert len(np.unique(cluster_labels)) == np.shape(centroids)[1] \n",
    "    \n",
    "    unique_cluster_labels = np.unique(cluster_labels)\n",
    "    n_clusters = len(unique_cluster_labels)\n",
    "        \n",
    "    # this would be so much easier if \n",
    "    # python lists supported logical indexing ... \n",
    "    cluster_labels_color = [colors[k] for n in range(len(x)) \\\n",
    "                            for k in range(n_clusters) \\\n",
    "                            if cluster_labels[n] == unique_cluster_labels[k]]\n",
    "            \n",
    "    # plot datapoints\n",
    "    fig.scatter(x, y, c=cluster_labels_color, marker = '.')\n",
    "    \n",
    "    if np.all(centroids != None): \n",
    "        for k in range(n_clusters): \n",
    "            fig.scatter(centroids[0, k], centroids[1, k], marker = '+', color = 'black')\n",
    "    \n",
    "    if np.all(cov != None): \n",
    "        for k in range(n_clusters):  \n",
    "            eig, v = np.linalg.eig(cov[k, :, :])\n",
    "            ell = Ellipse(xy=(centroids[0, k], centroids[1, k]),\n",
    "                  width=np.sqrt(eig[0]) * 6, height=np.sqrt(eig[1]) * 6,\n",
    "                  angle=np.rad2deg(np.arctan(v[1, 0] / v[0, 0])))\n",
    "            ell.set_facecolor('none')\n",
    "            ell.set_edgecolor(colors[k])\n",
    "            fig.add_artist(ell)\n",
    "                "
   ]
  },
  {
   "cell_type": "code",
   "execution_count": 7,
   "metadata": {},
   "outputs": [
    {
     "data": {
      "image/png": "[encoded data removed]",
      "text/plain": [
       "<matplotlib.figure.Figure at 0x7f3e6c481668>"
      ]
     },
     "metadata": {},
     "output_type": "display_data"
    }
   ],
   "source": [
    "fig1 = plt.figure(1)\n",
    "fig = fig1.add_subplot(111)\n",
    "plot_clusters(pc_features[:, 0], pc_features[:, 1], iris_species, colors1, fig)"
   ]
  },
  {
   "cell_type": "code",
   "execution_count": 8,
   "metadata": {
    "collapsed": true
   },
   "outputs": [],
   "source": [
    "# experiment with plotting ellipses\n",
    "# this will be useful later when we learn the \n",
    "# covariances for each cluster\n",
    "\n",
    "centroids = np.zeros((dim, 3))\n",
    "cov = np.zeros((3, dim, dim))\n",
    "for k in range(3): \n",
    "    # get data from this feature\n",
    "    iris_features_k = iris_features[iris_species == k, :]\n",
    "    \n",
    "    # get centroid\n",
    "    centroids[:, k] = np.mean(iris_features_k, axis = 0)\n",
    "    \n",
    "    # get covariance\n",
    "    cov[k, :, :] = np.cov(iris_features_k.T)\n"
   ]
  },
  {
   "cell_type": "code",
   "execution_count": 9,
   "metadata": {
    "collapsed": true
   },
   "outputs": [],
   "source": [
    "def transform_params_to_pc_space(pca_fit, centroids, cov):\n",
    "    # centroids is dim x k_approx\n",
    "    # infos is k_approx x dim x dim\n",
    "\n",
    "    assert pca_fit.components_.shape[1] == centroids.shape[0]\n",
    "    \n",
    "    centroids_pc = pca_fit.transform(centroids.T)\n",
    "    \n",
    "    cov_pc = np.zeros(cov.shape)\n",
    "    for k in range(cov.shape[0]):\n",
    "        cov_pc[k, :, :] = np.dot(np.dot(pca_fit.components_, cov[k]), pca_fit.components_.T)\n",
    "        \n",
    "    # cov_pc = np.einsum('di, kij, ej -> kde', pca_fit.components_, cov, pca_fit.components_)\n",
    "    \n",
    "    \n",
    "    return centroids_pc.T, cov_pc"
   ]
  },
  {
   "cell_type": "code",
   "execution_count": 10,
   "metadata": {
    "collapsed": true
   },
   "outputs": [],
   "source": [
    "centroids_pc, cov_pc = transform_params_to_pc_space(pca_fit, centroids, cov)"
   ]
  },
  {
   "cell_type": "code",
   "execution_count": 11,
   "metadata": {},
   "outputs": [
    {
     "data": {
      "text/plain": [
       "<matplotlib.collections.PathCollection at 0x7f3e6a156780>"
      ]
     },
     "execution_count": 11,
     "metadata": {},
     "output_type": "execute_result"
    },
    {
     "data": {
      "image/png": "[encoded data removed]",
      "text/plain": [
       "<matplotlib.figure.Figure at 0x7f3e6a1b0f98>"
      ]
     },
     "metadata": {},
     "output_type": "display_data"
    }
   ],
   "source": [
    "fig1 = plt.figure(1)\n",
    "fig = fig1.add_subplot(111)\n",
    "\n",
    "plot_clusters(pc_features[:, 0], pc_features[:, 1], iris_species, colors1, fig, \\\n",
    "              centroids_pc, cov_pc)\n",
    "\n",
    "k = 1\n",
    "samples = np.random.multivariate_normal(centroids[:, k], cov[k], size = 1000)\n",
    "# samples_pc = pca_fit.transform(samples)\n",
    "samples_pc = np.random.multivariate_normal(centroids_pc[:, k], cov_pc[k], size = 1000)\n",
    "fig.scatter(samples_pc[:, 0], samples_pc[:, 1])"
   ]
  },
  {
   "cell_type": "markdown",
   "metadata": {},
   "source": [
    "# Set prior params"
   ]
  },
  {
   "cell_type": "code",
   "execution_count": 12,
   "metadata": {
    "collapsed": true
   },
   "outputs": [],
   "source": [
    "prior_params = gmm_utils.get_default_prior_params(dim)\n",
    "prior_params['alpha'].set(4.0)\n",
    "prior_params['prior_gamma_df'].set(8)\n",
    "prior_params['prior_gamma_inv_scale'].set(np.eye(dim))"
   ]
  },
  {
   "cell_type": "code",
   "execution_count": 13,
   "metadata": {},
   "outputs": [
    {
     "name": "stdout",
     "output_type": "stream",
     "text": [
      "prior_params:\n",
      "\talpha: 4.0\n",
      "\tprior_centroid_mean: 0.0\n",
      "\tprior_centroid_info: 0.1\n",
      "\tprior_gamma_df: 8\n",
      "\tprior_gamma_inv_scale:\n",
      "[[1. 0. 0. 0.]\n",
      " [0. 1. 0. 0.]\n",
      " [0. 0. 1. 0.]\n",
      " [0. 0. 0. 1.]]\n"
     ]
    }
   ],
   "source": [
    "print(prior_params)"
   ]
  },
  {
   "cell_type": "markdown",
   "metadata": {},
   "source": [
    "# Set up model"
   ]
  },
  {
   "cell_type": "code",
   "execution_count": 14,
   "metadata": {
    "collapsed": true
   },
   "outputs": [],
   "source": [
    "k_approx = 12\n",
    "gh_deg = 8\n",
    "model = gmm_utils.DPGaussianMixture(iris_features, k_approx, prior_params, gh_deg, use_logitnormal_sticks=True)"
   ]
  },
  {
   "cell_type": "markdown",
   "metadata": {},
   "source": [
    "# Set inits"
   ]
  },
  {
   "cell_type": "code",
   "execution_count": 15,
   "metadata": {
    "collapsed": true
   },
   "outputs": [],
   "source": [
    "set_truth = False"
   ]
  },
  {
   "cell_type": "code",
   "execution_count": 16,
   "metadata": {
    "collapsed": true
   },
   "outputs": [],
   "source": [
    "if set_truth: \n",
    "    # set to the true centroids: \n",
    "    centroid_init = np.zeros((dim, k_approx))\n",
    "    info_init = np.zeros((k_approx, dim, dim))\n",
    "    for k in range(k_approx): \n",
    "        if k < 3: \n",
    "            k_indx = np.argwhere(iris_species == k).flatten()\n",
    "            centroid_k = np.mean(model.y[k_indx, :], axis = 0)\n",
    "\n",
    "            resid_k = model.y[k_indx, :] - centroid_k\n",
    "\n",
    "            cov_init = np.dot(resid_k.T, resid_k)\n",
    "\n",
    "            info_init[k, :, :] = np.linalg.inv(cov_init)\n",
    "            centroid_init[:, k] = centroid_k\n",
    "        else: \n",
    "            info_init[k, :, :] = np.eye(dim)\n",
    "    \n",
    "    model.vb_params['global']['centroids'].set(centroid_init)\n",
    "    model.vb_params['global']['gamma'].set(info_init)\n",
    "    \n",
    "    model.set_optimal_z()\n",
    "    \n",
    "    init_global_free_param = model.global_vb_params.get_free()\n",
    "    \n",
    "        \n",
    "    \n",
    "else: \n",
    "    # run k-means init\n",
    "    n_kmeans_init = 50\n",
    "    init_global_free_param = model.cluster_and_set_inits(n_kmeans_init = n_kmeans_init)\n"
   ]
  },
  {
   "cell_type": "markdown",
   "metadata": {
    "collapsed": true
   },
   "source": [
    "# look at initializations"
   ]
  },
  {
   "cell_type": "code",
   "execution_count": 17,
   "metadata": {
    "collapsed": true
   },
   "outputs": [],
   "source": [
    "init_clusters = np.argmax(model.vb_params['e_z'].get(), axis = 1)\n",
    "init_centroids = model.vb_params['global']['centroids'].get()\n",
    "init_cov = np.linalg.inv(model.vb_params['global']['gamma'].get())"
   ]
  },
  {
   "cell_type": "code",
   "execution_count": 18,
   "metadata": {},
   "outputs": [
    {
     "data": {
      "image/png": "[encoded data removed]",
      "text/plain": [
       "<matplotlib.figure.Figure at 0x7f3e6a1b0c50>"
      ]
     },
     "metadata": {},
     "output_type": "display_data"
    }
   ],
   "source": [
    "init_centroids_pc, init_cov_pc = transform_params_to_pc_space(pca_fit, init_centroids, init_cov)\n",
    "\n",
    "fig1 = plt.figure(1)\n",
    "fig = fig1.add_subplot(111)\n",
    "\n",
    "plot_clusters(pc_features[:, 0], pc_features[:, 1], init_clusters, \\\n",
    "            colors2, fig, \\\n",
    "             centroids = init_centroids_pc, cov = init_cov_pc)"
   ]
  },
  {
   "cell_type": "code",
   "execution_count": 19,
   "metadata": {},
   "outputs": [
    {
     "name": "stdout",
     "output_type": "stream",
     "text": [
      "10409.879713358841\n"
     ]
    }
   ],
   "source": [
    "print(np.linalg.norm(model.vb_params['global']['gamma'].get()))"
   ]
  },
  {
   "cell_type": "code",
   "execution_count": 20,
   "metadata": {
    "collapsed": true
   },
   "outputs": [],
   "source": [
    "# %%R -i init_clusters -i init_centroids -w 4 -h 3 --units in -r 200\n",
    "#     k_approx <- dim(init_centroids)[2]\n",
    "#     pca_centroids_init <- as.data.frame(predict(pca_results, t(init_centroids)))\n",
    "#     pca_centroids_init$cluster <- as.factor(seq(1, k_approx, by = 1))\n",
    "#     # TODO: plot the centroids too \n",
    "\n",
    "#     # add our initial clusterings to the dataframe\n",
    "#     df_pca$init_clusters <- as.factor(init_clusters)\n",
    "    \n",
    "#     # plot\n",
    "#     ggplot() + geom_point(data = df_pca, aes(x = PC1, y = PC2, color = init_clusters), size = 0.5) + \n",
    "#         theme(legend.position=\"none\") "
   ]
  },
  {
   "cell_type": "markdown",
   "metadata": {
    "collapsed": true
   },
   "source": [
    "# Optimize!"
   ]
  },
  {
   "cell_type": "code",
   "execution_count": 21,
   "metadata": {
    "scrolled": false
   },
   "outputs": [
    {
     "name": "stdout",
     "output_type": "stream",
     "text": [
      "Iter: 0\t RMSE: 5.4171664084976205\t Objective: 7847.62430637586\n",
      "Iter: 10\t RMSE: 12.979178597164944\t Objective: 4936.7687434297795\n",
      "Iter: 20\t RMSE: 13.04905122507649\t Objective: 2374.67017203691\n",
      "Iter: 30\t RMSE: 28.801949578319242\t Objective: 741.3398291330069\n",
      "Iter: 40\t RMSE: 14.636955669100661\t Objective: 126.19445254571819\n",
      "Iter: 50\t RMSE: 12.763388852880636\t Objective: -140.48472943939885\n",
      "Iter: 60\t RMSE: 12.45324357914632\t Objective: -204.72820775301116\n",
      "Iter: 70\t RMSE: 12.42569932176502\t Objective: -222.48551080706517\n",
      "Iter: 80\t RMSE: 12.404717387036083\t Objective: -231.0063626628884\n",
      "Iter: 90\t RMSE: 12.39843186863714\t Objective: -236.17197317291948\n",
      "Iter: 100\t RMSE: 12.40428188631273\t Objective: -238.98086885280048\n",
      "Warning: Maximum number of iterations has been exceeded.\n",
      "         Current function value: -240.085097\n",
      "         Iterations: 100\n",
      "         Function evaluations: 108\n",
      "         Gradient evaluations: 108\n",
      "gamma Autograd ArrayBox with value [[[nan nan nan nan]\n",
      "  [nan nan nan nan]\n",
      "  [nan nan nan nan]\n",
      "  [nan nan nan nan]]\n",
      "\n",
      " [[nan nan nan nan]\n",
      "  [nan nan nan nan]\n",
      "  [nan nan nan nan]\n",
      "  [nan nan nan nan]]\n",
      "\n",
      " [[nan nan nan nan]\n",
      "  [nan nan nan nan]\n",
      "  [nan nan nan nan]\n",
      "  [nan nan nan nan]]\n",
      "\n",
      " [[nan nan nan nan]\n",
      "  [nan nan nan nan]\n",
      "  [nan nan nan nan]\n",
      "  [nan nan nan nan]]\n",
      "\n",
      " [[nan nan nan nan]\n",
      "  [nan nan nan nan]\n",
      "  [nan nan nan nan]\n",
      "  [nan nan nan nan]]\n",
      "\n",
      " [[nan nan nan nan]\n",
      "  [nan nan nan nan]\n",
      "  [nan nan nan nan]\n",
      "  [nan nan nan nan]]\n",
      "\n",
      " [[nan nan nan nan]\n",
      "  [nan nan nan nan]\n",
      "  [nan nan nan nan]\n",
      "  [nan nan nan nan]]\n",
      "\n",
      " [[nan nan nan nan]\n",
      "  [nan nan nan nan]\n",
      "  [nan nan nan nan]\n",
      "  [nan nan nan nan]]\n",
      "\n",
      " [[nan nan nan nan]\n",
      "  [nan nan nan nan]\n",
      "  [nan nan nan nan]\n",
      "  [nan nan nan nan]]\n",
      "\n",
      " [[nan nan nan nan]\n",
      "  [nan nan nan nan]\n",
      "  [nan nan nan nan]\n",
      "  [nan nan nan nan]]\n",
      "\n",
      " [[nan nan nan nan]\n",
      "  [nan nan nan nan]\n",
      "  [nan nan nan nan]\n",
      "  [nan nan nan nan]]\n",
      "\n",
      " [[nan nan nan nan]\n",
      "  [nan nan nan nan]\n",
      "  [nan nan nan nan]\n",
      "  [nan nan nan nan]]]\n",
      "det gamma Autograd ArrayBox with value [nan nan nan nan nan nan nan nan nan nan nan nan]\n",
      "cluster weights Autograd ArrayBox with value [nan nan nan nan nan nan nan nan nan nan nan nan]\n"
     ]
    },
    {
     "name": "stderr",
     "output_type": "stream",
     "text": [
      "/usr/local/lib/python3.5/dist-packages/autograd/tracer.py:48: RuntimeWarning: invalid value encountered in sqrt\n",
      "  return f_raw(*args, **kwargs)\n",
      "/usr/local/lib/python3.5/dist-packages/numpy/linalg/linalg.py:1817: RuntimeWarning: invalid value encountered in slogdet\n",
      "  sign, logdet = _umath_linalg.slogdet(a, signature=signature)\n",
      "/usr/local/lib/python3.5/dist-packages/autograd/tracer.py:48: RuntimeWarning: invalid value encountered in greater\n",
      "  return f_raw(*args, **kwargs)\n",
      "/usr/local/lib/python3.5/dist-packages/autograd/tracer.py:48: RuntimeWarning: invalid value encountered in less_equal\n",
      "  return f_raw(*args, **kwargs)\n",
      "/usr/local/lib/python3.5/dist-packages/numpy/core/_methods.py:26: RuntimeWarning: invalid value encountered in reduce\n",
      "  return umr_maximum(a, axis, None, out, keepdims)\n"
     ]
    },
    {
     "ename": "AssertionError",
     "evalue": "",
     "output_type": "error",
     "traceback": [
      "\u001b[0;31m---------------------------------------------------------------------------\u001b[0m",
      "\u001b[0;31mAssertionError\u001b[0m                            Traceback (most recent call last)",
      "\u001b[0;32m<ipython-input-21-1ae753f19700>\u001b[0m in \u001b[0;36m<module>\u001b[0;34m()\u001b[0m\n\u001b[1;32m      2\u001b[0m best_param, kl_hessian, kl_hessian_corrected, init_opt_time, newton_time, x_conv, f_conv, vb_opt = model.optimize_full(init_global_free_param,\n\u001b[1;32m      3\u001b[0m     \u001b[0minit_max_iter\u001b[0m\u001b[0;34m=\u001b[0m\u001b[0;36m100\u001b[0m\u001b[0;34m,\u001b[0m\u001b[0;34m\u001b[0m\u001b[0m\n\u001b[0;32m----> 4\u001b[0;31m     final_max_iter=500)\n\u001b[0m\u001b[1;32m      5\u001b[0m \u001b[0mt_newton\u001b[0m \u001b[0;34m=\u001b[0m \u001b[0mtime\u001b[0m\u001b[0;34m.\u001b[0m\u001b[0mtime\u001b[0m\u001b[0;34m(\u001b[0m\u001b[0;34m)\u001b[0m \u001b[0;34m-\u001b[0m \u001b[0mt0\u001b[0m\u001b[0;34m\u001b[0m\u001b[0m\n\u001b[1;32m      6\u001b[0m \u001b[0;34m\u001b[0m\u001b[0m\n",
      "\u001b[0;32m~/Documents/git_repos/BNP_sensitivity/GMM_clustering/gmm_clustering_lib.py\u001b[0m in \u001b[0;36moptimize_full\u001b[0;34m(self, init_free_par, do_second_bfgs, init_max_iter, final_max_iter, gtol, ftol, xtol, max_condition_iter, disp)\u001b[0m\n\u001b[1;32m    664\u001b[0m             \u001b[0mnew_init_x\u001b[0m\u001b[0;34m,\u001b[0m \u001b[0mvb_opt\u001b[0m\u001b[0;34m,\u001b[0m \u001b[0mopt_time\u001b[0m\u001b[0;34m,\u001b[0m \u001b[0mkl_hessian\u001b[0m\u001b[0;34m,\u001b[0m \u001b[0mkl_hessian_corrected\u001b[0m \u001b[0;34m=\u001b[0m\u001b[0;31m \u001b[0m\u001b[0;31m\\\u001b[0m\u001b[0;34m\u001b[0m\u001b[0m\n\u001b[1;32m    665\u001b[0m                 self.precondition_and_optimize(\n\u001b[0;32m--> 666\u001b[0;31m                     init_x, gtol=gtol, maxiter=final_max_iter, disp=disp)\n\u001b[0m\u001b[1;32m    667\u001b[0m             \u001b[0mnew_f_val\u001b[0m \u001b[0;34m=\u001b[0m \u001b[0mself\u001b[0m\u001b[0;34m.\u001b[0m\u001b[0mobjective\u001b[0m\u001b[0;34m.\u001b[0m\u001b[0mfun_free\u001b[0m\u001b[0;34m(\u001b[0m\u001b[0mnew_init_x\u001b[0m\u001b[0;34m)\u001b[0m\u001b[0;34m\u001b[0m\u001b[0m\n\u001b[1;32m    668\u001b[0m \u001b[0;34m\u001b[0m\u001b[0m\n",
      "\u001b[0;32m~/Documents/git_repos/BNP_sensitivity/GMM_clustering/gmm_clustering_lib.py\u001b[0m in \u001b[0;36mprecondition_and_optimize\u001b[0;34m(self, init_x, gtol, maxiter, disp, print_every_n)\u001b[0m\n\u001b[1;32m    634\u001b[0m             \u001b[0minit_x\u001b[0m \u001b[0;34m=\u001b[0m \u001b[0minit_x\u001b[0m\u001b[0;34m,\u001b[0m\u001b[0;34m\u001b[0m\u001b[0m\n\u001b[1;32m    635\u001b[0m             \u001b[0mmaxiter\u001b[0m \u001b[0;34m=\u001b[0m \u001b[0mmaxiter\u001b[0m\u001b[0;34m,\u001b[0m \u001b[0mgtol\u001b[0m \u001b[0;34m=\u001b[0m \u001b[0mgtol\u001b[0m\u001b[0;34m,\u001b[0m \u001b[0mdisp\u001b[0m \u001b[0;34m=\u001b[0m \u001b[0mdisp\u001b[0m\u001b[0;34m,\u001b[0m\u001b[0;34m\u001b[0m\u001b[0m\n\u001b[0;32m--> 636\u001b[0;31m             print_every=print_every_n, init_logger = False)\n\u001b[0m\u001b[1;32m    637\u001b[0m         \u001b[0;32mreturn\u001b[0m \u001b[0mself\u001b[0m\u001b[0;34m.\u001b[0m\u001b[0mobjective\u001b[0m\u001b[0;34m.\u001b[0m\u001b[0muncondition_x\u001b[0m\u001b[0;34m(\u001b[0m\u001b[0mvb_opt\u001b[0m\u001b[0;34m.\u001b[0m\u001b[0mx\u001b[0m\u001b[0;34m)\u001b[0m\u001b[0;34m,\u001b[0m \u001b[0mvb_opt\u001b[0m\u001b[0;34m,\u001b[0m \u001b[0mopt_time\u001b[0m\u001b[0;34m,\u001b[0m\u001b[0;31m \u001b[0m\u001b[0;31m\\\u001b[0m\u001b[0;34m\u001b[0m\u001b[0m\n\u001b[1;32m    638\u001b[0m                \u001b[0mkl_hessian\u001b[0m\u001b[0;34m,\u001b[0m \u001b[0mkl_hessian_corrected\u001b[0m\u001b[0;34m\u001b[0m\u001b[0m\n",
      "\u001b[0;32m~/Documents/git_repos/BNP_sensitivity/GMM_clustering/gmm_clustering_lib.py\u001b[0m in \u001b[0;36mminimize_kl_newton\u001b[0;34m(self, init_x, precondition, maxiter, gtol, disp, print_every, init_logger)\u001b[0m\n\u001b[1;32m    584\u001b[0m                 \u001b[0mhessp\u001b[0m\u001b[0;34m=\u001b[0m\u001b[0mself\u001b[0m\u001b[0;34m.\u001b[0m\u001b[0mobjective\u001b[0m\u001b[0;34m.\u001b[0m\u001b[0mfun_free_hvp_cond\u001b[0m\u001b[0;34m,\u001b[0m\u001b[0;34m\u001b[0m\u001b[0m\n\u001b[1;32m    585\u001b[0m                 \u001b[0mmethod\u001b[0m\u001b[0;34m=\u001b[0m\u001b[0;34m'trust-ncg'\u001b[0m\u001b[0;34m,\u001b[0m\u001b[0;34m\u001b[0m\u001b[0m\n\u001b[0;32m--> 586\u001b[0;31m                 options={'maxiter': maxiter, 'gtol': gtol, 'disp': disp})\n\u001b[0m\u001b[1;32m    587\u001b[0m         \u001b[0;32melse\u001b[0m\u001b[0;34m:\u001b[0m\u001b[0;34m\u001b[0m\u001b[0m\n\u001b[1;32m    588\u001b[0m             vb_opt = optimize.minimize(\n",
      "\u001b[0;32m/usr/local/lib/python3.5/dist-packages/scipy/optimize/_minimize.py\u001b[0m in \u001b[0;36mminimize\u001b[0;34m(fun, x0, args, method, jac, hess, hessp, bounds, constraints, tol, callback, options)\u001b[0m\n\u001b[1;32m    499\u001b[0m     \u001b[0;32melif\u001b[0m \u001b[0mmeth\u001b[0m \u001b[0;34m==\u001b[0m \u001b[0;34m'trust-ncg'\u001b[0m\u001b[0;34m:\u001b[0m\u001b[0;34m\u001b[0m\u001b[0m\n\u001b[1;32m    500\u001b[0m         return _minimize_trust_ncg(fun, x0, args, jac, hess, hessp,\n\u001b[0;32m--> 501\u001b[0;31m                                    callback=callback, **options)\n\u001b[0m\u001b[1;32m    502\u001b[0m     \u001b[0;32melif\u001b[0m \u001b[0mmeth\u001b[0m \u001b[0;34m==\u001b[0m \u001b[0;34m'trust-krylov'\u001b[0m\u001b[0;34m:\u001b[0m\u001b[0;34m\u001b[0m\u001b[0m\n\u001b[1;32m    503\u001b[0m         return _minimize_trust_krylov(fun, x0, args, jac, hess, hessp,\n",
      "\u001b[0;32m/usr/local/lib/python3.5/dist-packages/scipy/optimize/_trustregion_ncg.py\u001b[0m in \u001b[0;36m_minimize_trust_ncg\u001b[0;34m(fun, x0, args, jac, hess, hessp, **trust_region_options)\u001b[0m\n\u001b[1;32m     39\u001b[0m     return _minimize_trust_region(fun, x0, args=args, jac=jac, hess=hess,\n\u001b[1;32m     40\u001b[0m                                   \u001b[0mhessp\u001b[0m\u001b[0;34m=\u001b[0m\u001b[0mhessp\u001b[0m\u001b[0;34m,\u001b[0m \u001b[0msubproblem\u001b[0m\u001b[0;34m=\u001b[0m\u001b[0mCGSteihaugSubproblem\u001b[0m\u001b[0;34m,\u001b[0m\u001b[0;34m\u001b[0m\u001b[0m\n\u001b[0;32m---> 41\u001b[0;31m                                   **trust_region_options)\n\u001b[0m\u001b[1;32m     42\u001b[0m \u001b[0;34m\u001b[0m\u001b[0m\n\u001b[1;32m     43\u001b[0m \u001b[0;34m\u001b[0m\u001b[0m\n",
      "\u001b[0;32m/usr/local/lib/python3.5/dist-packages/scipy/optimize/_trustregion.py\u001b[0m in \u001b[0;36m_minimize_trust_region\u001b[0;34m(fun, x0, args, jac, hess, hessp, subproblem, initial_trust_radius, max_trust_radius, eta, gtol, maxiter, disp, return_all, callback, inexact, **unknown_options)\u001b[0m\n\u001b[1;32m    186\u001b[0m         \u001b[0;31m# has reached the trust region boundary or not.\u001b[0m\u001b[0;34m\u001b[0m\u001b[0;34m\u001b[0m\u001b[0m\n\u001b[1;32m    187\u001b[0m         \u001b[0;32mtry\u001b[0m\u001b[0;34m:\u001b[0m\u001b[0;34m\u001b[0m\u001b[0m\n\u001b[0;32m--> 188\u001b[0;31m             \u001b[0mp\u001b[0m\u001b[0;34m,\u001b[0m \u001b[0mhits_boundary\u001b[0m \u001b[0;34m=\u001b[0m \u001b[0mm\u001b[0m\u001b[0;34m.\u001b[0m\u001b[0msolve\u001b[0m\u001b[0;34m(\u001b[0m\u001b[0mtrust_radius\u001b[0m\u001b[0;34m)\u001b[0m\u001b[0;34m\u001b[0m\u001b[0m\n\u001b[0m\u001b[1;32m    189\u001b[0m         \u001b[0;32mexcept\u001b[0m \u001b[0mnp\u001b[0m\u001b[0;34m.\u001b[0m\u001b[0mlinalg\u001b[0m\u001b[0;34m.\u001b[0m\u001b[0mlinalg\u001b[0m\u001b[0;34m.\u001b[0m\u001b[0mLinAlgError\u001b[0m \u001b[0;32mas\u001b[0m \u001b[0me\u001b[0m\u001b[0;34m:\u001b[0m\u001b[0;34m\u001b[0m\u001b[0m\n\u001b[1;32m    190\u001b[0m             \u001b[0mwarnflag\u001b[0m \u001b[0;34m=\u001b[0m \u001b[0;36m3\u001b[0m\u001b[0;34m\u001b[0m\u001b[0m\n",
      "\u001b[0;32m/usr/local/lib/python3.5/dist-packages/scipy/optimize/_trustregion_ncg.py\u001b[0m in \u001b[0;36msolve\u001b[0;34m(self, trust_radius)\u001b[0m\n\u001b[1;32m     69\u001b[0m \u001b[0;34m\u001b[0m\u001b[0m\n\u001b[1;32m     70\u001b[0m         \u001b[0;31m# get the norm of jacobian and define the origin\u001b[0m\u001b[0;34m\u001b[0m\u001b[0;34m\u001b[0m\u001b[0m\n\u001b[0;32m---> 71\u001b[0;31m         \u001b[0mp_origin\u001b[0m \u001b[0;34m=\u001b[0m \u001b[0mnp\u001b[0m\u001b[0;34m.\u001b[0m\u001b[0mzeros_like\u001b[0m\u001b[0;34m(\u001b[0m\u001b[0mself\u001b[0m\u001b[0;34m.\u001b[0m\u001b[0mjac\u001b[0m\u001b[0;34m)\u001b[0m\u001b[0;34m\u001b[0m\u001b[0m\n\u001b[0m\u001b[1;32m     72\u001b[0m \u001b[0;34m\u001b[0m\u001b[0m\n\u001b[1;32m     73\u001b[0m         \u001b[0;31m# define a default tolerance\u001b[0m\u001b[0;34m\u001b[0m\u001b[0;34m\u001b[0m\u001b[0m\n",
      "\u001b[0;32m/usr/local/lib/python3.5/dist-packages/scipy/optimize/_trustregion.py\u001b[0m in \u001b[0;36mjac\u001b[0;34m(self)\u001b[0m\n\u001b[1;32m     49\u001b[0m         \u001b[0;34m\"\"\"Value of jacobian of objective function at current iteration.\"\"\"\u001b[0m\u001b[0;34m\u001b[0m\u001b[0m\n\u001b[1;32m     50\u001b[0m         \u001b[0;32mif\u001b[0m \u001b[0mself\u001b[0m\u001b[0;34m.\u001b[0m\u001b[0m_g\u001b[0m \u001b[0;32mis\u001b[0m \u001b[0;32mNone\u001b[0m\u001b[0;34m:\u001b[0m\u001b[0;34m\u001b[0m\u001b[0m\n\u001b[0;32m---> 51\u001b[0;31m             \u001b[0mself\u001b[0m\u001b[0;34m.\u001b[0m\u001b[0m_g\u001b[0m \u001b[0;34m=\u001b[0m \u001b[0mself\u001b[0m\u001b[0;34m.\u001b[0m\u001b[0m_jac\u001b[0m\u001b[0;34m(\u001b[0m\u001b[0mself\u001b[0m\u001b[0;34m.\u001b[0m\u001b[0m_x\u001b[0m\u001b[0;34m)\u001b[0m\u001b[0;34m\u001b[0m\u001b[0m\n\u001b[0m\u001b[1;32m     52\u001b[0m         \u001b[0;32mreturn\u001b[0m \u001b[0mself\u001b[0m\u001b[0;34m.\u001b[0m\u001b[0m_g\u001b[0m\u001b[0;34m\u001b[0m\u001b[0m\n\u001b[1;32m     53\u001b[0m \u001b[0;34m\u001b[0m\u001b[0m\n",
      "\u001b[0;32m/usr/local/lib/python3.5/dist-packages/scipy/optimize/optimize.py\u001b[0m in \u001b[0;36mfunction_wrapper\u001b[0;34m(*wrapper_args)\u001b[0m\n\u001b[1;32m    290\u001b[0m     \u001b[0;32mdef\u001b[0m \u001b[0mfunction_wrapper\u001b[0m\u001b[0;34m(\u001b[0m\u001b[0;34m*\u001b[0m\u001b[0mwrapper_args\u001b[0m\u001b[0;34m)\u001b[0m\u001b[0;34m:\u001b[0m\u001b[0;34m\u001b[0m\u001b[0m\n\u001b[1;32m    291\u001b[0m         \u001b[0mncalls\u001b[0m\u001b[0;34m[\u001b[0m\u001b[0;36m0\u001b[0m\u001b[0;34m]\u001b[0m \u001b[0;34m+=\u001b[0m \u001b[0;36m1\u001b[0m\u001b[0;34m\u001b[0m\u001b[0m\n\u001b[0;32m--> 292\u001b[0;31m         \u001b[0;32mreturn\u001b[0m \u001b[0mfunction\u001b[0m\u001b[0;34m(\u001b[0m\u001b[0;34m*\u001b[0m\u001b[0;34m(\u001b[0m\u001b[0mwrapper_args\u001b[0m \u001b[0;34m+\u001b[0m \u001b[0margs\u001b[0m\u001b[0;34m)\u001b[0m\u001b[0;34m)\u001b[0m\u001b[0;34m\u001b[0m\u001b[0m\n\u001b[0m\u001b[1;32m    293\u001b[0m \u001b[0;34m\u001b[0m\u001b[0m\n\u001b[1;32m    294\u001b[0m     \u001b[0;32mreturn\u001b[0m \u001b[0mncalls\u001b[0m\u001b[0;34m,\u001b[0m \u001b[0mfunction_wrapper\u001b[0m\u001b[0;34m\u001b[0m\u001b[0m\n",
      "\u001b[0;32m~/Documents/git_repos/LinearResponseVariationalBayes.py/LinearResponseVariationalBayes/SparseObjectives.py\u001b[0m in \u001b[0;36mfun_free_grad_cond\u001b[0;34m(self, free_val)\u001b[0m\n\u001b[1;32m    188\u001b[0m         \u001b[0;32massert\u001b[0m \u001b[0mself\u001b[0m\u001b[0;34m.\u001b[0m\u001b[0mpreconditioner\u001b[0m \u001b[0;32mis\u001b[0m \u001b[0;32mnot\u001b[0m \u001b[0;32mNone\u001b[0m\u001b[0;34m\u001b[0m\u001b[0m\n\u001b[1;32m    189\u001b[0m         \u001b[0my\u001b[0m \u001b[0;34m=\u001b[0m \u001b[0mself\u001b[0m\u001b[0;34m.\u001b[0m\u001b[0mget_conditioned_x\u001b[0m\u001b[0;34m(\u001b[0m\u001b[0mfree_val\u001b[0m\u001b[0;34m)\u001b[0m\u001b[0;34m\u001b[0m\u001b[0m\n\u001b[0;32m--> 190\u001b[0;31m         \u001b[0mgrad\u001b[0m \u001b[0;34m=\u001b[0m \u001b[0mself\u001b[0m\u001b[0;34m.\u001b[0m\u001b[0mfun_free_grad\u001b[0m\u001b[0;34m(\u001b[0m\u001b[0my\u001b[0m\u001b[0;34m)\u001b[0m\u001b[0;34m\u001b[0m\u001b[0m\n\u001b[0m\u001b[1;32m    191\u001b[0m         \u001b[0;32mreturn\u001b[0m \u001b[0msafe_matmul\u001b[0m\u001b[0;34m(\u001b[0m\u001b[0mself\u001b[0m\u001b[0;34m.\u001b[0m\u001b[0mpreconditioner\u001b[0m\u001b[0;34m.\u001b[0m\u001b[0mT\u001b[0m\u001b[0;34m,\u001b[0m \u001b[0mgrad\u001b[0m\u001b[0;34m)\u001b[0m\u001b[0;34m\u001b[0m\u001b[0m\n\u001b[1;32m    192\u001b[0m \u001b[0;34m\u001b[0m\u001b[0m\n",
      "\u001b[0;32m~/Documents/git_repos/LinearResponseVariationalBayes.py/LinearResponseVariationalBayes/SparseObjectives.py\u001b[0m in \u001b[0;36mfun_free_grad\u001b[0;34m(self, free_val)\u001b[0m\n\u001b[1;32m    142\u001b[0m \u001b[0;34m\u001b[0m\u001b[0m\n\u001b[1;32m    143\u001b[0m     \u001b[0;32mdef\u001b[0m \u001b[0mfun_free_grad\u001b[0m\u001b[0;34m(\u001b[0m\u001b[0mself\u001b[0m\u001b[0;34m,\u001b[0m \u001b[0mfree_val\u001b[0m\u001b[0;34m)\u001b[0m\u001b[0;34m:\u001b[0m\u001b[0;34m\u001b[0m\u001b[0m\n\u001b[0;32m--> 144\u001b[0;31m         \u001b[0;32mreturn\u001b[0m \u001b[0mself\u001b[0m\u001b[0;34m.\u001b[0m\u001b[0mcache_free_and_eval\u001b[0m\u001b[0;34m(\u001b[0m\u001b[0mself\u001b[0m\u001b[0;34m.\u001b[0m\u001b[0mag_fun_free_grad\u001b[0m\u001b[0;34m,\u001b[0m \u001b[0mfree_val\u001b[0m\u001b[0;34m)\u001b[0m\u001b[0;34m\u001b[0m\u001b[0m\n\u001b[0m\u001b[1;32m    145\u001b[0m \u001b[0;34m\u001b[0m\u001b[0m\n\u001b[1;32m    146\u001b[0m     \u001b[0;32mdef\u001b[0m \u001b[0mfun_free_hessian\u001b[0m\u001b[0;34m(\u001b[0m\u001b[0mself\u001b[0m\u001b[0;34m,\u001b[0m \u001b[0mfree_val\u001b[0m\u001b[0;34m)\u001b[0m\u001b[0;34m:\u001b[0m\u001b[0;34m\u001b[0m\u001b[0m\n",
      "\u001b[0;32m~/Documents/git_repos/LinearResponseVariationalBayes.py/LinearResponseVariationalBayes/SparseObjectives.py\u001b[0m in \u001b[0;36mcache_free_and_eval\u001b[0;34m(self, autograd_fun, free_val)\u001b[0m\n\u001b[1;32m    132\u001b[0m \u001b[0;34m\u001b[0m\u001b[0m\n\u001b[1;32m    133\u001b[0m     \u001b[0;32mdef\u001b[0m \u001b[0mcache_free_and_eval\u001b[0m\u001b[0;34m(\u001b[0m\u001b[0mself\u001b[0m\u001b[0;34m,\u001b[0m \u001b[0mautograd_fun\u001b[0m\u001b[0;34m,\u001b[0m \u001b[0mfree_val\u001b[0m\u001b[0;34m)\u001b[0m\u001b[0;34m:\u001b[0m\u001b[0;34m\u001b[0m\u001b[0m\n\u001b[0;32m--> 134\u001b[0;31m         \u001b[0mresult\u001b[0m \u001b[0;34m=\u001b[0m \u001b[0mautograd_fun\u001b[0m\u001b[0;34m(\u001b[0m\u001b[0mfree_val\u001b[0m\u001b[0;34m)\u001b[0m\u001b[0;34m\u001b[0m\u001b[0m\n\u001b[0m\u001b[1;32m    135\u001b[0m         \u001b[0mself\u001b[0m\u001b[0;34m.\u001b[0m\u001b[0mpar\u001b[0m\u001b[0;34m.\u001b[0m\u001b[0mset_free\u001b[0m\u001b[0;34m(\u001b[0m\u001b[0mfree_val\u001b[0m\u001b[0;34m)\u001b[0m\u001b[0;34m\u001b[0m\u001b[0m\n\u001b[1;32m    136\u001b[0m         \u001b[0;32mreturn\u001b[0m \u001b[0mresult\u001b[0m\u001b[0;34m\u001b[0m\u001b[0m\n",
      "\u001b[0;32m/usr/local/lib/python3.5/dist-packages/autograd/wrap_util.py\u001b[0m in \u001b[0;36mnary_f\u001b[0;34m(*args, **kwargs)\u001b[0m\n\u001b[1;32m     18\u001b[0m             \u001b[0;32melse\u001b[0m\u001b[0;34m:\u001b[0m\u001b[0;34m\u001b[0m\u001b[0m\n\u001b[1;32m     19\u001b[0m                 \u001b[0mx\u001b[0m \u001b[0;34m=\u001b[0m \u001b[0mtuple\u001b[0m\u001b[0;34m(\u001b[0m\u001b[0margs\u001b[0m\u001b[0;34m[\u001b[0m\u001b[0mi\u001b[0m\u001b[0;34m]\u001b[0m \u001b[0;32mfor\u001b[0m \u001b[0mi\u001b[0m \u001b[0;32min\u001b[0m \u001b[0margnum\u001b[0m\u001b[0;34m)\u001b[0m\u001b[0;34m\u001b[0m\u001b[0m\n\u001b[0;32m---> 20\u001b[0;31m             \u001b[0;32mreturn\u001b[0m \u001b[0munary_operator\u001b[0m\u001b[0;34m(\u001b[0m\u001b[0munary_f\u001b[0m\u001b[0;34m,\u001b[0m \u001b[0mx\u001b[0m\u001b[0;34m,\u001b[0m \u001b[0;34m*\u001b[0m\u001b[0mnary_op_args\u001b[0m\u001b[0;34m,\u001b[0m \u001b[0;34m**\u001b[0m\u001b[0mnary_op_kwargs\u001b[0m\u001b[0;34m)\u001b[0m\u001b[0;34m\u001b[0m\u001b[0m\n\u001b[0m\u001b[1;32m     21\u001b[0m         \u001b[0;32mreturn\u001b[0m \u001b[0mnary_f\u001b[0m\u001b[0;34m\u001b[0m\u001b[0m\n\u001b[1;32m     22\u001b[0m     \u001b[0;32mreturn\u001b[0m \u001b[0mnary_operator\u001b[0m\u001b[0;34m\u001b[0m\u001b[0m\n",
      "\u001b[0;32m/usr/local/lib/python3.5/dist-packages/autograd/differential_operators.py\u001b[0m in \u001b[0;36mgrad\u001b[0;34m(fun, x)\u001b[0m\n\u001b[1;32m     22\u001b[0m     \u001b[0marguments\u001b[0m \u001b[0;32mas\u001b[0m\u001b[0;31m \u001b[0m\u001b[0;31m`\u001b[0m\u001b[0mfun\u001b[0m\u001b[0;31m`\u001b[0m\u001b[0;34m,\u001b[0m \u001b[0mbut\u001b[0m \u001b[0mreturns\u001b[0m \u001b[0mthe\u001b[0m \u001b[0mgradient\u001b[0m \u001b[0minstead\u001b[0m\u001b[0;34m.\u001b[0m \u001b[0mThe\u001b[0m \u001b[0mfunction\u001b[0m\u001b[0;31m \u001b[0m\u001b[0;31m`\u001b[0m\u001b[0mfun\u001b[0m\u001b[0;31m`\u001b[0m\u001b[0;34m\u001b[0m\u001b[0m\n\u001b[1;32m     23\u001b[0m     should be scalar-valued. The gradient has the same type as the argument.\"\"\"\n\u001b[0;32m---> 24\u001b[0;31m     \u001b[0mvjp\u001b[0m\u001b[0;34m,\u001b[0m \u001b[0mans\u001b[0m \u001b[0;34m=\u001b[0m \u001b[0m_make_vjp\u001b[0m\u001b[0;34m(\u001b[0m\u001b[0mfun\u001b[0m\u001b[0;34m,\u001b[0m \u001b[0mx\u001b[0m\u001b[0;34m)\u001b[0m\u001b[0;34m\u001b[0m\u001b[0m\n\u001b[0m\u001b[1;32m     25\u001b[0m     \u001b[0;32mif\u001b[0m \u001b[0;32mnot\u001b[0m \u001b[0mvspace\u001b[0m\u001b[0;34m(\u001b[0m\u001b[0mans\u001b[0m\u001b[0;34m)\u001b[0m\u001b[0;34m.\u001b[0m\u001b[0msize\u001b[0m \u001b[0;34m==\u001b[0m \u001b[0;36m1\u001b[0m\u001b[0;34m:\u001b[0m\u001b[0;34m\u001b[0m\u001b[0m\n\u001b[1;32m     26\u001b[0m         raise TypeError(\"Grad only applies to real scalar-output functions. \"\n",
      "\u001b[0;32m/usr/local/lib/python3.5/dist-packages/autograd/core.py\u001b[0m in \u001b[0;36mmake_vjp\u001b[0;34m(fun, x)\u001b[0m\n\u001b[1;32m      8\u001b[0m \u001b[0;32mdef\u001b[0m \u001b[0mmake_vjp\u001b[0m\u001b[0;34m(\u001b[0m\u001b[0mfun\u001b[0m\u001b[0;34m,\u001b[0m \u001b[0mx\u001b[0m\u001b[0;34m)\u001b[0m\u001b[0;34m:\u001b[0m\u001b[0;34m\u001b[0m\u001b[0m\n\u001b[1;32m      9\u001b[0m     \u001b[0mstart_node\u001b[0m \u001b[0;34m=\u001b[0m \u001b[0mVJPNode\u001b[0m\u001b[0;34m.\u001b[0m\u001b[0mnew_root\u001b[0m\u001b[0;34m(\u001b[0m\u001b[0mx\u001b[0m\u001b[0;34m)\u001b[0m\u001b[0;34m\u001b[0m\u001b[0m\n\u001b[0;32m---> 10\u001b[0;31m     \u001b[0mend_value\u001b[0m\u001b[0;34m,\u001b[0m \u001b[0mend_node\u001b[0m \u001b[0;34m=\u001b[0m  \u001b[0mtrace\u001b[0m\u001b[0;34m(\u001b[0m\u001b[0mstart_node\u001b[0m\u001b[0;34m,\u001b[0m \u001b[0mfun\u001b[0m\u001b[0;34m,\u001b[0m \u001b[0mx\u001b[0m\u001b[0;34m)\u001b[0m\u001b[0;34m\u001b[0m\u001b[0m\n\u001b[0m\u001b[1;32m     11\u001b[0m     \u001b[0;32mif\u001b[0m \u001b[0mend_node\u001b[0m \u001b[0;32mis\u001b[0m \u001b[0;32mNone\u001b[0m\u001b[0;34m:\u001b[0m\u001b[0;34m\u001b[0m\u001b[0m\n\u001b[1;32m     12\u001b[0m         \u001b[0;32mdef\u001b[0m \u001b[0mvjp\u001b[0m\u001b[0;34m(\u001b[0m\u001b[0mg\u001b[0m\u001b[0;34m)\u001b[0m\u001b[0;34m:\u001b[0m \u001b[0;32mreturn\u001b[0m \u001b[0mvspace\u001b[0m\u001b[0;34m(\u001b[0m\u001b[0mx\u001b[0m\u001b[0;34m)\u001b[0m\u001b[0;34m.\u001b[0m\u001b[0mzeros\u001b[0m\u001b[0;34m(\u001b[0m\u001b[0;34m)\u001b[0m\u001b[0;34m\u001b[0m\u001b[0m\n",
      "\u001b[0;32m/usr/local/lib/python3.5/dist-packages/autograd/tracer.py\u001b[0m in \u001b[0;36mtrace\u001b[0;34m(start_node, fun, x)\u001b[0m\n\u001b[1;32m      8\u001b[0m     \u001b[0;32mwith\u001b[0m \u001b[0mtrace_stack\u001b[0m\u001b[0;34m.\u001b[0m\u001b[0mnew_trace\u001b[0m\u001b[0;34m(\u001b[0m\u001b[0;34m)\u001b[0m \u001b[0;32mas\u001b[0m \u001b[0mt\u001b[0m\u001b[0;34m:\u001b[0m\u001b[0;34m\u001b[0m\u001b[0m\n\u001b[1;32m      9\u001b[0m         \u001b[0mstart_box\u001b[0m \u001b[0;34m=\u001b[0m \u001b[0mnew_box\u001b[0m\u001b[0;34m(\u001b[0m\u001b[0mx\u001b[0m\u001b[0;34m,\u001b[0m \u001b[0mt\u001b[0m\u001b[0;34m,\u001b[0m \u001b[0mstart_node\u001b[0m\u001b[0;34m)\u001b[0m\u001b[0;34m\u001b[0m\u001b[0m\n\u001b[0;32m---> 10\u001b[0;31m         \u001b[0mend_box\u001b[0m \u001b[0;34m=\u001b[0m \u001b[0mfun\u001b[0m\u001b[0;34m(\u001b[0m\u001b[0mstart_box\u001b[0m\u001b[0;34m)\u001b[0m\u001b[0;34m\u001b[0m\u001b[0m\n\u001b[0m\u001b[1;32m     11\u001b[0m         \u001b[0;32mif\u001b[0m \u001b[0misbox\u001b[0m\u001b[0;34m(\u001b[0m\u001b[0mend_box\u001b[0m\u001b[0;34m)\u001b[0m \u001b[0;32mand\u001b[0m \u001b[0mend_box\u001b[0m\u001b[0;34m.\u001b[0m\u001b[0m_trace\u001b[0m \u001b[0;34m==\u001b[0m \u001b[0mstart_box\u001b[0m\u001b[0;34m.\u001b[0m\u001b[0m_trace\u001b[0m\u001b[0;34m:\u001b[0m\u001b[0;34m\u001b[0m\u001b[0m\n\u001b[1;32m     12\u001b[0m             \u001b[0;32mreturn\u001b[0m \u001b[0mend_box\u001b[0m\u001b[0;34m.\u001b[0m\u001b[0m_value\u001b[0m\u001b[0;34m,\u001b[0m \u001b[0mend_box\u001b[0m\u001b[0;34m.\u001b[0m\u001b[0m_node\u001b[0m\u001b[0;34m\u001b[0m\u001b[0m\n",
      "\u001b[0;32m/usr/local/lib/python3.5/dist-packages/autograd/wrap_util.py\u001b[0m in \u001b[0;36munary_f\u001b[0;34m(x)\u001b[0m\n\u001b[1;32m     13\u001b[0m                 \u001b[0;32melse\u001b[0m\u001b[0;34m:\u001b[0m\u001b[0;34m\u001b[0m\u001b[0m\n\u001b[1;32m     14\u001b[0m                     \u001b[0msubargs\u001b[0m \u001b[0;34m=\u001b[0m \u001b[0msubvals\u001b[0m\u001b[0;34m(\u001b[0m\u001b[0margs\u001b[0m\u001b[0;34m,\u001b[0m \u001b[0mzip\u001b[0m\u001b[0;34m(\u001b[0m\u001b[0margnum\u001b[0m\u001b[0;34m,\u001b[0m \u001b[0mx\u001b[0m\u001b[0;34m)\u001b[0m\u001b[0;34m)\u001b[0m\u001b[0;34m\u001b[0m\u001b[0m\n\u001b[0;32m---> 15\u001b[0;31m                 \u001b[0;32mreturn\u001b[0m \u001b[0mfun\u001b[0m\u001b[0;34m(\u001b[0m\u001b[0;34m*\u001b[0m\u001b[0msubargs\u001b[0m\u001b[0;34m,\u001b[0m \u001b[0;34m**\u001b[0m\u001b[0mkwargs\u001b[0m\u001b[0;34m)\u001b[0m\u001b[0;34m\u001b[0m\u001b[0m\n\u001b[0m\u001b[1;32m     16\u001b[0m             \u001b[0;32mif\u001b[0m \u001b[0misinstance\u001b[0m\u001b[0;34m(\u001b[0m\u001b[0margnum\u001b[0m\u001b[0;34m,\u001b[0m \u001b[0mint\u001b[0m\u001b[0;34m)\u001b[0m\u001b[0;34m:\u001b[0m\u001b[0;34m\u001b[0m\u001b[0m\n\u001b[1;32m     17\u001b[0m                 \u001b[0mx\u001b[0m \u001b[0;34m=\u001b[0m \u001b[0margs\u001b[0m\u001b[0;34m[\u001b[0m\u001b[0margnum\u001b[0m\u001b[0;34m]\u001b[0m\u001b[0;34m\u001b[0m\u001b[0m\n",
      "\u001b[0;32m~/Documents/git_repos/LinearResponseVariationalBayes.py/LinearResponseVariationalBayes/SparseObjectives.py\u001b[0m in \u001b[0;36mfun_free\u001b[0;34m(self, free_val, verbose)\u001b[0m\n\u001b[1;32m    111\u001b[0m     \u001b[0;32mdef\u001b[0m \u001b[0mfun_free\u001b[0m\u001b[0;34m(\u001b[0m\u001b[0mself\u001b[0m\u001b[0;34m,\u001b[0m \u001b[0mfree_val\u001b[0m\u001b[0;34m,\u001b[0m \u001b[0mverbose\u001b[0m\u001b[0;34m=\u001b[0m\u001b[0;32mFalse\u001b[0m\u001b[0;34m)\u001b[0m\u001b[0;34m:\u001b[0m\u001b[0;34m\u001b[0m\u001b[0m\n\u001b[1;32m    112\u001b[0m         \u001b[0mself\u001b[0m\u001b[0;34m.\u001b[0m\u001b[0mpar\u001b[0m\u001b[0;34m.\u001b[0m\u001b[0mset_free\u001b[0m\u001b[0;34m(\u001b[0m\u001b[0mfree_val\u001b[0m\u001b[0;34m)\u001b[0m\u001b[0;34m\u001b[0m\u001b[0m\n\u001b[0;32m--> 113\u001b[0;31m         \u001b[0mval\u001b[0m \u001b[0;34m=\u001b[0m \u001b[0mself\u001b[0m\u001b[0;34m.\u001b[0m\u001b[0mfun\u001b[0m\u001b[0;34m(\u001b[0m\u001b[0;34m)\u001b[0m\u001b[0;34m\u001b[0m\u001b[0m\n\u001b[0m\u001b[1;32m    114\u001b[0m         \u001b[0;32mif\u001b[0m \u001b[0mverbose\u001b[0m\u001b[0;34m:\u001b[0m\u001b[0;34m\u001b[0m\u001b[0m\n\u001b[1;32m    115\u001b[0m             \u001b[0mself\u001b[0m\u001b[0;34m.\u001b[0m\u001b[0mlogger\u001b[0m\u001b[0;34m.\u001b[0m\u001b[0mlog\u001b[0m\u001b[0;34m(\u001b[0m\u001b[0mval\u001b[0m\u001b[0;34m,\u001b[0m \u001b[0mfree_val\u001b[0m\u001b[0;34m)\u001b[0m\u001b[0;34m\u001b[0m\u001b[0m\n",
      "\u001b[0;32m~/Documents/git_repos/BNP_sensitivity/GMM_clustering/gmm_clustering_lib.py\u001b[0m in \u001b[0;36mset_z_get_kl\u001b[0;34m(self)\u001b[0m\n\u001b[1;32m    385\u001b[0m             \u001b[0;31m# print('e_loglik_ind', e_loglik_ind)\u001b[0m\u001b[0;34m\u001b[0m\u001b[0;34m\u001b[0m\u001b[0m\n\u001b[1;32m    386\u001b[0m \u001b[0;34m\u001b[0m\u001b[0m\n\u001b[0;32m--> 387\u001b[0;31m         \u001b[0;32massert\u001b[0m\u001b[0;34m(\u001b[0m\u001b[0mnp\u001b[0m\u001b[0;34m.\u001b[0m\u001b[0misfinite\u001b[0m\u001b[0;34m(\u001b[0m\u001b[0me_loglik\u001b[0m\u001b[0;34m)\u001b[0m\u001b[0;34m)\u001b[0m\u001b[0;34m\u001b[0m\u001b[0m\n\u001b[0m\u001b[1;32m    388\u001b[0m \u001b[0;34m\u001b[0m\u001b[0m\n\u001b[1;32m    389\u001b[0m         \u001b[0mentropy\u001b[0m \u001b[0;34m=\u001b[0m \u001b[0mnp\u001b[0m\u001b[0;34m.\u001b[0m\u001b[0msqueeze\u001b[0m\u001b[0;34m(\u001b[0m\u001b[0mget_entropy\u001b[0m\u001b[0;34m(\u001b[0m\u001b[0mself\u001b[0m\u001b[0;34m.\u001b[0m\u001b[0mvb_params\u001b[0m\u001b[0;34m)\u001b[0m\u001b[0;34m)\u001b[0m\u001b[0;34m\u001b[0m\u001b[0m\n",
      "\u001b[0;31mAssertionError\u001b[0m: "
     ]
    }
   ],
   "source": [
    "t0 = time.time()\n",
    "best_param, kl_hessian, kl_hessian_corrected, \\\n",
    "init_opt_time, newton_time, x_conv, f_conv, vb_opt = \\\n",
    "model.optimize_full(init_global_free_param,\n",
    "    init_max_iter=100,\n",
    "    final_max_iter=500)\n",
    "t_newton = time.time() - t0\n",
    "\n",
    "print('done. ')"
   ]
  },
  {
   "cell_type": "code",
   "execution_count": null,
   "metadata": {
    "collapsed": true
   },
   "outputs": [],
   "source": [
    "newton_results = deepcopy(model)"
   ]
  },
  {
   "cell_type": "code",
   "execution_count": null,
   "metadata": {
    "scrolled": true
   },
   "outputs": [],
   "source": [
    "print(prior_params)"
   ]
  },
  {
   "cell_type": "code",
   "execution_count": null,
   "metadata": {
    "collapsed": true
   },
   "outputs": [],
   "source": [
    "bnp_clusters = np.argmax(newton_results.vb_params['e_z'].get(), axis = 1)\n",
    "bnp_centroids = newton_results.vb_params['global']['centroids'].get()\n",
    "\n",
    "bnp_cluster_infos = newton_results.vb_params['global']['gamma'].get()\n",
    "bnp_cluster_covs = np.linalg.inv(bnp_cluster_infos)"
   ]
  },
  {
   "cell_type": "markdown",
   "metadata": {
    "collapsed": true
   },
   "source": [
    "### look at bnp clusters"
   ]
  },
  {
   "cell_type": "code",
   "execution_count": null,
   "metadata": {
    "collapsed": true
   },
   "outputs": [],
   "source": [
    "bnp_centroids_pc, bnp_cluster_covs_pc = \\\n",
    "    transform_params_to_pc_space(pca_fit, bnp_centroids, bnp_cluster_covs)"
   ]
  },
  {
   "cell_type": "code",
   "execution_count": null,
   "metadata": {},
   "outputs": [],
   "source": [
    "fig1 = plt.figure(1)\n",
    "fig = fig1.add_subplot(111)\n",
    "\n",
    "plot_clusters(pc_features[:, 0], pc_features[:, 1], bnp_clusters, \\\n",
    "              colors1, fig, \\\n",
    "              centroids = bnp_centroids_pc[:, np.unique(bnp_clusters)], \\\n",
    "              cov = bnp_cluster_covs_pc[np.unique(bnp_clusters)])"
   ]
  },
  {
   "cell_type": "code",
   "execution_count": null,
   "metadata": {
    "collapsed": true
   },
   "outputs": [],
   "source": [
    "# %%R -i bnp_clusters -i bnp_centroids -w 4 -h 3 --units in -r 200\n",
    "# #     pca_centroids_init <- as.data.frame(predict(pca_results, t(init_centroids)))\n",
    "# #     pca_centroids_init$cluster <- as.factor(seq(1, 10, by = 1))\n",
    "# # TODO: plot the centroids too \n",
    "\n",
    "# # add our bnp clusterings to the dataframe\n",
    "# df_pca$bnp_clusters <- as.factor(bnp_clusters)\n",
    "\n",
    "# # plot\n",
    "# ggplot() + geom_point(data = df_pca, aes(x = PC1, y = PC2, color = bnp_clusters), size = 0.5) + \n",
    "#     theme(legend.position=\"none\") "
   ]
  },
  {
   "cell_type": "code",
   "execution_count": null,
   "metadata": {},
   "outputs": [],
   "source": [
    "cluster_weights = np.sum(newton_results.vb_params['e_z'].get(), axis = 0) / np.shape(model.y)[0]\n",
    "plt.bar(np.arange(len(cluster_weights)), cluster_weights); "
   ]
  },
  {
   "cell_type": "code",
   "execution_count": null,
   "metadata": {},
   "outputs": [],
   "source": [
    "posterior_weights = model.get_e_cluster_probabilities()\n",
    "plt.bar(np.arange(len(posterior_weights)), posterior_weights); "
   ]
  },
  {
   "cell_type": "code",
   "execution_count": null,
   "metadata": {},
   "outputs": [],
   "source": [
    "plt.hist(np.max(model.vb_params['e_z'].get(), axis = 1))"
   ]
  },
  {
   "cell_type": "markdown",
   "metadata": {
    "collapsed": true
   },
   "source": [
    "# Lets look at a few random restarts, see how results chage"
   ]
  },
  {
   "cell_type": "code",
   "execution_count": null,
   "metadata": {
    "scrolled": true
   },
   "outputs": [],
   "source": [
    "n_restarts = 6\n",
    "init_global_free_param_array = []\n",
    "global_free_param_array = []\n",
    "\n",
    "for i in tqdm(range(n_restarts)):\n",
    "    init_global_free_param = model.cluster_and_set_inits(n_kmeans_init = n_kmeans_init)\n",
    "    best_param, kl_hessian, kl_hessian_corrected, \\\n",
    "    init_opt_time, newton_time, x_conv, f_conv, vb_opt = \\\n",
    "        model.optimize_full(init_global_free_param,\n",
    "            init_max_iter=100,\n",
    "            final_max_iter=500, disp=True)\n",
    "    \n",
    "    init_global_free_param_array.append(init_global_free_param)\n",
    "    global_free_param_array.append(best_param)\n",
    "\n"
   ]
  },
  {
   "cell_type": "code",
   "execution_count": null,
   "metadata": {},
   "outputs": [],
   "source": [
    "print(prior_params)"
   ]
  },
  {
   "cell_type": "code",
   "execution_count": null,
   "metadata": {},
   "outputs": [],
   "source": [
    "# get cluster assignments\n",
    "cluster_assignments_array = []\n",
    "bnp_centroids_pc_array = []\n",
    "bnp_cluster_covs_pc_array = []\n",
    "\n",
    "for i in range(n_restarts): \n",
    "    model.set_from_global_free_par(global_free_param_array[i])\n",
    "    bnp_centroids_pc_, bnp_cluster_covs_pc_ = \\\n",
    "        transform_params_to_pc_space(pca_fit, \\\n",
    "                                     model.vb_params['global']['centroids'].get(),\\\n",
    "                                     np.linalg.inv(model.vb_params['global']['gamma'].get()))\n",
    "        \n",
    "    bnp_centroids_pc_array.append(bnp_centroids_pc_)\n",
    "    bnp_cluster_covs_pc_array.append(bnp_cluster_covs_pc_)\n",
    "    \n",
    "    cluster_assignments_array.append(np.argmax(model.vb_params['e_z'].get(), axis = 1))\n",
    "    \n",
    "    print('final objective val, restart {}: '.format(i), model.set_z_get_kl())"
   ]
  },
  {
   "cell_type": "code",
   "execution_count": null,
   "metadata": {},
   "outputs": [],
   "source": [
    "f, axarr = plt.subplots(3, 2, figsize = (15, 12))\n",
    "\n",
    "for i in range(n_restarts): \n",
    "    axarr_indx1 = int(np.floor(i / 2))\n",
    "    axarr_indx2 = i % 2\n",
    "    plot_clusters(pc_features[:, 0], pc_features[:, 1], cluster_assignments_array[i], \\\n",
    "                  colors1, axarr[axarr_indx1, axarr_indx2], \n",
    "                 centroids = bnp_centroids_pc_array[i][:, np.unique(cluster_assignments_array[i])], \\\n",
    "                 cov = bnp_cluster_covs_pc_array[i][np.unique(cluster_assignments_array[i])])"
   ]
  },
  {
   "cell_type": "code",
   "execution_count": null,
   "metadata": {
    "collapsed": true
   },
   "outputs": [],
   "source": [
    "# %%R\n",
    "# # an R multiplot function\n",
    "# multiplot <- function(..., plotlist=NULL, file, cols=1, layout=NULL) {\n",
    "#   library(grid)\n",
    "\n",
    "#   # Make a list from the ... arguments and plotlist\n",
    "#   plots <- c(list(...), plotlist)\n",
    "\n",
    "#   numPlots = length(plots)\n",
    "\n",
    "#   # If layout is NULL, then use 'cols' to determine layout\n",
    "#   if (is.null(layout)) {\n",
    "#     # Make the panel\n",
    "#     # ncol: Number of columns of plots\n",
    "#     # nrow: Number of rows needed, calculated from # of cols\n",
    "#     layout <- matrix(seq(1, cols * ceiling(numPlots/cols)),\n",
    "#                     ncol = cols, nrow = ceiling(numPlots/cols))\n",
    "#   }\n",
    "\n",
    "#  if (numPlots==1) {\n",
    "#     print(plots[[1]])\n",
    "\n",
    "#   } else {\n",
    "#     # Set up the page\n",
    "#     grid.newpage()\n",
    "#     pushViewport(viewport(layout = grid.layout(nrow(layout), ncol(layout))))\n",
    "\n",
    "#     # Make each plot, in the correct location\n",
    "#     for (i in 1:numPlots) {\n",
    "#       # Get the i,j matrix positions of the regions that contain this subplot\n",
    "#       matchidx <- as.data.frame(which(layout == i, arr.ind = TRUE))\n",
    "\n",
    "#       print(plots[[i]], vp = viewport(layout.pos.row = matchidx$row,\n",
    "#                                       layout.pos.col = matchidx$col))\n",
    "#     }\n",
    "#   }\n",
    "# }\n"
   ]
  },
  {
   "cell_type": "code",
   "execution_count": null,
   "metadata": {
    "collapsed": true,
    "scrolled": false
   },
   "outputs": [],
   "source": [
    "# %%R -i cluster_assignments_array -i n_restarts -w 5 -h 8 --units in -r 200\n",
    "# # pca_centroids_init <- as.data.frame(predict(pca_results, t(init_centroids)))\n",
    "# # pca_centroids_init$cluster <- as.factor(seq(1, 10, by = 1))\n",
    "# # TODO: plot the centroids too \n",
    "\n",
    "# plot_list <- list()\n",
    "# for(i in 1:n_restarts){\n",
    "#     # add our bnp clusterings to the dataframe\n",
    "#     # print(cluster_assignments_array[, i])\n",
    "#     df_pca$bnp_clusters <- as.factor(cluster_assignments_array[, i])\n",
    "    \n",
    "#     plot <- ggplot() + geom_point(data = df_pca, aes(x = PC1, y = PC2, color = bnp_clusters), size = 0.5) + \n",
    "#      theme(legend.position=\"none\") \n",
    "    \n",
    "#     plot_list[[i]] <- plot\n",
    "# }\n",
    "\n",
    "# # plot_list[[1]]\n",
    "\n",
    "# multiplot(plotlist = plot_list, cols = 2)"
   ]
  },
  {
   "cell_type": "code",
   "execution_count": null,
   "metadata": {},
   "outputs": [],
   "source": [
    "f, axarr = plt.subplots(3, 2, figsize=(10, 12))\n",
    "\n",
    "for i in range(n_restarts): \n",
    "    model.set_from_global_free_par(global_free_param_array[i])\n",
    "    e_z = model.vb_params['e_z'].get()\n",
    "    co_cluster_mat = np.dot(e_z, e_z.T)\n",
    "    \n",
    "    if i == 0: \n",
    "        dis = (co_cluster_mat + 1) ** (-1)\n",
    "        dis[np.diag_indices_from(dis)] = 0\n",
    "        dis = spatial.distance.squareform(dis, checks=False)\n",
    "        y = sch.linkage(dis, method='average')\n",
    "        indx = sch.dendrogram(y, no_plot=True)[\"leaves\"]\n",
    "    \n",
    "    co_cluster_mat = co_cluster_mat[indx][:, indx]\n",
    "    \n",
    "    fig_indx1 = int(np.floor(i / 2))\n",
    "    fig_indx2 = int(i % 2)\n",
    "    axarr[fig_indx1, fig_indx2].matshow(co_cluster_mat)\n",
    "    "
   ]
  },
  {
   "cell_type": "markdown",
   "metadata": {},
   "source": [
    "# Parametric sensitivity"
   ]
  },
  {
   "cell_type": "code",
   "execution_count": null,
   "metadata": {},
   "outputs": [],
   "source": [
    "best_param = newton_results.global_vb_params.get_free()\n",
    "prior_free_params = newton_results.prior_params.get_free()\n",
    "\n",
    "model.set_from_global_free_par(best_param)\n",
    "\n",
    "moment_model = gmm_utils.InterestingMoments(deepcopy(model))\n",
    "linear_sens = LinearSensitivity(model, moment_model)"
   ]
  },
  {
   "cell_type": "code",
   "execution_count": null,
   "metadata": {
    "collapsed": true
   },
   "outputs": [],
   "source": [
    "model.set_from_global_free_par(best_param)\n",
    "model.prior_params.set_free(prior_free_params)\n"
   ]
  },
  {
   "cell_type": "code",
   "execution_count": null,
   "metadata": {
    "collapsed": true
   },
   "outputs": [],
   "source": [
    "kl_hess_ev, kl_hess_evec = np.linalg.eig(linear_sens.kl_hessian)\n",
    "print(np.min(kl_hess_ev), np.max(kl_hess_ev))\n"
   ]
  },
  {
   "cell_type": "code",
   "execution_count": null,
   "metadata": {
    "collapsed": true
   },
   "outputs": [],
   "source": [
    "# sensitivity to data\n",
    "plt.plot(linear_sens.data_sens_mat.T, '.');\n"
   ]
  },
  {
   "cell_type": "code",
   "execution_count": null,
   "metadata": {
    "collapsed": true
   },
   "outputs": [],
   "source": [
    "# Choose a prior parameter and check the sensitivity\n",
    "print('prior indices')\n",
    "print(model.prior_indices)\n",
    "\n",
    "prior_ind = 0 # this is the alpha, the parameter for the dp prior\n",
    "\n",
    "epsilon = 0.5\n"
   ]
  },
  {
   "cell_type": "code",
   "execution_count": null,
   "metadata": {
    "collapsed": true
   },
   "outputs": [],
   "source": [
    "model_perturbed = gmm_utils.DPGaussianMixture(\n",
    "    model.y, model.k_approx, model.prior_params, gh_deg = 8, \\\n",
    "    use_bnp_prior = model.vb_params.use_bnp_prior, \\\n",
    "    use_logitnormal_sticks = model.vb_params.use_logitnormal_sticks)\n",
    "\n",
    "perturb_vec = np.zeros(model_perturbed.prior_params.vector_size())\n",
    "perturb_vec[prior_ind] = epsilon\n",
    "\n",
    "model_perturbed.prior_params.set_vector(\n",
    "    model_perturbed.prior_params.get_vector() + perturb_vec)\n",
    "\n",
    "pert_opt_free_param = \\\n",
    "    model_perturbed.optimize_full(best_param, init_max_iter=100, final_max_iter=500)[0]\n"
   ]
  },
  {
   "cell_type": "code",
   "execution_count": null,
   "metadata": {
    "collapsed": true
   },
   "outputs": [],
   "source": [
    "free_perturb_vec = model_perturbed.prior_params.get_free() - model.prior_params.get_free()\n",
    "lr_free_param_diff_vec = np.matmul(linear_sens.prior_sens_mat, free_perturb_vec)\n",
    "\n",
    "diff_vec = pert_opt_free_param - best_param\n",
    "lr_diff_vec = deepcopy(lr_free_param_diff_vec)\n",
    "plt.plot(diff_vec, lr_diff_vec, 'r+')\n",
    "plt.plot(diff_vec, diff_vec, 'k')    \n",
    "plt.xlabel('true diff')\n",
    "plt.ylabel('lr diff')\n",
    "plt.title('global free parameters')\n"
   ]
  },
  {
   "cell_type": "code",
   "execution_count": null,
   "metadata": {
    "collapsed": true
   },
   "outputs": [],
   "source": [
    "## check e_z sensitivity\n",
    "\n",
    "linear_sens.moment_model.set_moments_from_free_par(best_param)\n",
    "e_z_orig = linear_sens.moment_model.moment_params['e_z'].get()\n",
    "cluster_weights_orig = np.mean(e_z_orig, axis = 0)\n",
    "\n",
    "linear_sens.moment_model.set_moments_from_free_par(pert_opt_free_param)\n",
    "e_z_pert = linear_sens.moment_model.moment_params['e_z'].get()\n",
    "cluster_weights_pert = np.mean(e_z_pert, axis = 0)\n",
    "\n",
    "linear_sens.moment_model.set_moments_from_free_par(lr_free_param_diff_vec + best_param)\n",
    "e_z_lr = linear_sens.moment_model.moment_params['e_z'].get()\n",
    "cluster_weights_lr = np.mean(e_z_lr, axis = 0)\n",
    "\n",
    "diff_vec = (e_z_pert - e_z_orig).flatten()\n",
    "lr_diff_vec = (e_z_lr - e_z_orig).flatten()\n",
    "\n",
    "plt.title('E_z sensitivity')\n",
    "plt.plot(diff_vec, lr_diff_vec, 'r+')\n",
    "plt.plot(diff_vec, diff_vec, 'k')    \n",
    "plt.xlabel('true diff')\n",
    "plt.ylabel('lr diff')\n"
   ]
  },
  {
   "cell_type": "code",
   "execution_count": null,
   "metadata": {
    "collapsed": true
   },
   "outputs": [],
   "source": [
    "# check sensitivity of cluster weights\n",
    "\n",
    "diff_vec = (np.sort(cluster_weights_pert) - np.sort(cluster_weights_orig)).flatten()\n",
    "lr_diff_vec = (np.sort(cluster_weights_lr) - np.sort(cluster_weights_orig)).flatten()\n",
    "\n",
    "plt.title('cluster weight sensitivity')\n",
    "plt.plot(diff_vec, lr_diff_vec, 'r+')\n",
    "plt.plot(diff_vec, diff_vec, 'k')    \n",
    "plt.xlabel('true diff')\n",
    "plt.ylabel('lr diff')\n"
   ]
  },
  {
   "cell_type": "code",
   "execution_count": null,
   "metadata": {
    "collapsed": true,
    "scrolled": true
   },
   "outputs": [],
   "source": [
    "# check co-clustering sensitivity\n",
    "coclustering_orig = np.matmul(e_z_orig, e_z_orig.T)\n",
    "coclustering_pert = np.matmul(e_z_pert, e_z_pert.T)\n",
    "coclustering_lr = np.matmul(e_z_lr, e_z_lr.T)\n",
    "\n",
    "diff_vec = (coclustering_pert - coclustering_orig).flatten()\n",
    "lr_diff_vec = (coclustering_lr - coclustering_orig).flatten()\n",
    "\n",
    "\n",
    "plt.title('co-clustering sensitivity')\n",
    "plt.plot(diff_vec, lr_diff_vec, 'r+')\n",
    "plt.plot(diff_vec, diff_vec, 'k')    \n",
    "plt.xlabel('true diff')\n",
    "plt.ylabel('lr diff')\n"
   ]
  },
  {
   "cell_type": "code",
   "execution_count": null,
   "metadata": {
    "collapsed": true
   },
   "outputs": [],
   "source": [
    "linear_sens.moment_model.set_moments_from_free_par(best_param)\n",
    "e_beta_orig = linear_sens.moment_model.moment_params['centroids'].get()\n",
    "\n",
    "linear_sens.moment_model.set_moments_from_free_par(pert_opt_free_param)\n",
    "e_beta_pert = linear_sens.moment_model.moment_params['centroids'].get()\n",
    "\n",
    "linear_sens.moment_model.set_moments_from_free_par(lr_free_param_diff_vec + best_param)\n",
    "e_beta_lr = linear_sens.moment_model.moment_params['centroids'].get()\n",
    "\n",
    "diff_vec = (e_beta_pert - e_beta_orig).flatten()\n",
    "lr_diff_vec = (e_beta_lr - e_beta_orig).flatten()\n",
    "\n",
    "plt.title('Centroids sensitivity')\n",
    "plt.plot(diff_vec, lr_diff_vec, 'r+')\n",
    "plt.plot(diff_vec, diff_vec, 'k')    \n",
    "plt.xlabel('true diff')\n",
    "plt.ylabel('lr diff')\n"
   ]
  },
  {
   "cell_type": "code",
   "execution_count": null,
   "metadata": {
    "collapsed": true
   },
   "outputs": [],
   "source": [
    "def get_mixture_weights_array(stick_lengths):\n",
    "    # computes mixture weights from an array of stick lengths\n",
    "    k_approx = np.shape(stick_lengths)[1]\n",
    "    n_sticks = np.shape(stick_lengths)[0]\n",
    "    \n",
    "    stick_lengths_1m = 1 - stick_lengths\n",
    "    stick_remain = np.hstack((np.ones((n_sticks, 1)),\n",
    "                                np.cumprod(stick_lengths_1m, axis = 1)))\n",
    "    stick_add = np.hstack((stick_lengths, \n",
    "                                np.ones((n_sticks, 1))))\n",
    "\n",
    "    return stick_remain * stick_add\n"
   ]
  },
  {
   "cell_type": "code",
   "execution_count": null,
   "metadata": {
    "collapsed": true
   },
   "outputs": [],
   "source": [
    "def get_e_number_clusters_from_logit_sticks(vb_params, threshold, samples = 100000): \n",
    "    \n",
    "    # get logitnormal params\n",
    "    mu = vb_params['global']['v_sticks']['mean'].get()\n",
    "    sigma = vb_params['global']['v_sticks']['info'].get()\n",
    "    k_approx = len(mu)\n",
    "    \n",
    "    # sample from univariate normal\n",
    "    unv_norm_samples = np.random.normal(0, 1, size = (samples, k_approx))\n",
    "    \n",
    "    # sample sticks from variational distribution\n",
    "    stick_samples = sp.special.expit(unv_norm_samples / np.sqrt(sigma) + mu)\n",
    "    \n",
    "    # get posterior weights\n",
    "    weight_samples = get_mixture_weights_array(stick_samples)\n",
    "    # number of observations in the dataset\n",
    "    n_obs = vb_params['e_z'].shape()[0]\n",
    "    \n",
    "#     print(np.mean(weight_samples, axis = 0))\n",
    "#     print(np.mean(vb_params['e_z'].get(), axis = 0))\n",
    "    \n",
    "    return np.mean(np.sum(1 - (1 - weight_samples)**n_obs, axis = 1))\n",
    "    \n",
    "#     # get fraction above threshold\n",
    "#     # and sum to get expected number of clusters\n",
    "#     return np.sum(np.mean(weight_samples > threshold, axis = 0))"
   ]
  },
  {
   "cell_type": "code",
   "execution_count": null,
   "metadata": {
    "collapsed": true
   },
   "outputs": [],
   "source": [
    "def get_e_number_clusters_from_free_par(model, global_free_params, threshold, samples = 100000): \n",
    "    model.global_vb_params.set_free(global_free_params)\n",
    "    return get_e_number_clusters_from_logit_sticks(model.vb_params, threshold, samples)"
   ]
  },
  {
   "cell_type": "code",
   "execution_count": null,
   "metadata": {
    "collapsed": true
   },
   "outputs": [],
   "source": [
    "get_e_number_clusters_from_logit_sticks(newton_results.vb_params, threshold=1/k_approx)"
   ]
  },
  {
   "cell_type": "code",
   "execution_count": null,
   "metadata": {
    "collapsed": true
   },
   "outputs": [],
   "source": [
    "get_e_number_clusters_from_free_par(model, newton_results.global_vb_params.get_free(), threshold = 1 / k_approx)"
   ]
  },
  {
   "cell_type": "markdown",
   "metadata": {},
   "source": [
    "# check how well the linear approximation holds over a range of epsilons"
   ]
  },
  {
   "cell_type": "code",
   "execution_count": null,
   "metadata": {
    "collapsed": true
   },
   "outputs": [],
   "source": [
    "epsilons = [-3, -2, -1.5, -1, -0.5, 0.5, 1, 2, 4, 6]\n",
    "pert_opt_free_param_list = []\n",
    "pert_prior_free_params_list = []\n",
    "\n",
    "# re-optimize for each epsilon\n",
    "for i in range(len(epsilons)): \n",
    "    print('optimizing when epsilon = {}'.format(epsilons[i]))\n",
    "    \n",
    "    perturb_vec = np.zeros(model_perturbed.prior_params.vector_size())\n",
    "    perturb_vec[prior_ind] = epsilons[i]\n",
    "\n",
    "    model_perturbed.prior_params.set_vector(\n",
    "        newton_results.prior_params.get_vector() + perturb_vec)\n",
    "    # print(model_perturbed.prior_params.get_vector())\n",
    "    \n",
    "    pert_prior_free_params_list.append(model_perturbed.prior_params.get_free())\n",
    "    \n",
    "    pert_opt_free_param_list.append(\n",
    "        model_perturbed.optimize_full(best_param, init_max_iter=100, final_max_iter=500, disp = False)[0])\n"
   ]
  },
  {
   "cell_type": "code",
   "execution_count": null,
   "metadata": {
    "collapsed": true,
    "scrolled": true
   },
   "outputs": [],
   "source": [
    "# check global params\n",
    "\n",
    "linear_sens.moment_model.set_moments_from_free_par(best_param)\n",
    "\n",
    "\n",
    "f, axarr = plt.subplots(5, 2, figsize=(10, 15))\n",
    "blah = f.suptitle('Global params sensitivity')\n",
    "\n",
    "for i in range(len(epsilons)): \n",
    "    \n",
    "    # diff in prior free params\n",
    "    free_perturb_vec = pert_prior_free_params_list[i] - model.prior_params.get_free()\n",
    "    \n",
    "    # get linear response global free params\n",
    "    lr_free_param_diff_vec = np.matmul(linear_sens.prior_sens_mat, free_perturb_vec)\n",
    "    \n",
    "    # diff in original global free params\n",
    "    diff_vec = (pert_opt_free_param_list[i] - best_param).flatten()\n",
    "    lr_diff_vec = (lr_free_param_diff_vec).flatten()\n",
    "    \n",
    "    indx1 = int(np.floor(i / 2))\n",
    "    indx2 = i % 2\n",
    "    axarr[indx1, indx2].plot(diff_vec, lr_diff_vec, 'r+')\n",
    "    axarr[indx1, indx2].plot(diff_vec, diff_vec, 'k')    \n",
    "    axarr[indx1, indx2].set_title('epsilon = {}'.format(epsilons[i]))\n",
    "    axarr[indx1, indx2].set_xlabel('true diff')\n",
    "    axarr[indx1, indx2].set_ylabel('lr diff')\n",
    "    \n",
    "f.tight_layout()\n",
    "blah.set_y(1.01)\n",
    "\n",
    "# f.savefig('../writing/Bryan_writing/parametric_sens_figures/beta_sens_range.png', bbox_inches='tight')\n"
   ]
  },
  {
   "cell_type": "code",
   "execution_count": null,
   "metadata": {
    "collapsed": true,
    "scrolled": true
   },
   "outputs": [],
   "source": [
    "# check e_z's \n",
    "\n",
    "linear_sens.moment_model.set_moments_from_free_par(best_param)\n",
    "e_z_orig = linear_sens.moment_model.moment_params['e_z'].get()\n",
    "co_cluster_og = np.matmul(e_z_orig, e_z_orig.T)\n",
    "\n",
    "f, axarr = plt.subplots(5, 2, figsize=(10, 15))\n",
    "blah = f.suptitle('Co-clustering sensitivity')\n",
    "\n",
    "for i in range(len(epsilons)): \n",
    "    \n",
    "    free_perturb_vec = pert_prior_free_params_list[i] - model.prior_params.get_free()\n",
    "    lr_free_param_diff_vec = np.matmul(linear_sens.prior_sens_mat, free_perturb_vec)\n",
    "\n",
    "    linear_sens.moment_model.set_moments_from_free_par(pert_opt_free_param_list[i])\n",
    "    e_z_pert = linear_sens.moment_model.moment_params['e_z'].get()\n",
    "    co_cluster_pert = np.matmul(e_z_pert, e_z_pert.T)\n",
    "    \n",
    "    linear_sens.moment_model.set_moments_from_free_par(lr_free_param_diff_vec + best_param)\n",
    "    e_z_lr = linear_sens.moment_model.moment_params['e_z'].get()\n",
    "    co_cluster_lr = np.matmul(e_z_lr, e_z_lr.T)\n",
    "    \n",
    "#     diff_vec = (e_z_pert - e_z_orig).flatten()\n",
    "#     lr_diff_vec = (e_z_lr - e_z_orig).flatten()\n",
    "\n",
    "    diff_vec = (co_cluster_pert - co_cluster_og).flatten()\n",
    "    lr_diff_vec = (co_cluster_lr - co_cluster_og).flatten()\n",
    "\n",
    "    indx1 = int(np.floor(i / 2))\n",
    "    indx2 = i % 2\n",
    "    axarr[indx1, indx2].plot(diff_vec, lr_diff_vec, 'r+', alpha = 0.1)\n",
    "    axarr[indx1, indx2].plot(diff_vec, diff_vec, 'k')    \n",
    "    axarr[indx1, indx2].set_title('epsilon = {}'.format(epsilons[i]))\n",
    "    axarr[indx1, indx2].set_xlabel('true diff')\n",
    "    axarr[indx1, indx2].set_ylabel('lr diff')\n",
    "    # axarr[indx1, indx2].set_xlim([-0.06, 0.06])\n",
    "    \n",
    "f.tight_layout()\n",
    "blah.set_y(1.01)\n"
   ]
  },
  {
   "cell_type": "raw",
   "metadata": {},
   "source": [
    "linear_sens.moment_model.set_moments_from_free_par(pert_opt_free_param_list[len(epsilons) - 1])\n",
    "e_z_pert = linear_sens.moment_model.moment_params['e_z'].get()\n",
    "co_cluster_pert = np.matmul(e_z_pert, e_z_pert.T)\n",
    "\n",
    "dis = (co_cluster_pert + 1) ** (-1)\n",
    "dis[np.diag_indices_from(dis)] = 0\n",
    "dis = spatial.distance.squareform(dis, checks=False)\n",
    "y = sch.linkage(dis, method='average')\n",
    "indx = sch.dendrogram(y, no_plot=True)[\"leaves\"]\n",
    "\n",
    "co_cluster_pert = co_cluster_pert[indx][:, indx]\n",
    "plt.matshow(co_cluster_pert)"
   ]
  },
  {
   "cell_type": "raw",
   "metadata": {},
   "source": [
    "linear_sens.moment_model.set_moments_from_free_par(newton_results.global_vb_params.get_free())\n",
    "e_z_pert = linear_sens.moment_model.moment_params['e_z'].get()\n",
    "co_cluster_pert = np.matmul(e_z_pert, e_z_pert.T)\n",
    "\n",
    "dis = (co_cluster_pert + 1) ** (-1)\n",
    "dis[np.diag_indices_from(dis)] = 0\n",
    "dis = spatial.distance.squareform(dis, checks=False)\n",
    "y = sch.linkage(dis, method='average')\n",
    "indx = sch.dendrogram(y, no_plot=True)[\"leaves\"]\n",
    "\n",
    "co_cluster_pert = co_cluster_pert[indx][:, indx]\n",
    "plt.matshow(co_cluster_pert)"
   ]
  },
  {
   "cell_type": "raw",
   "metadata": {},
   "source": [
    "f, axarr = plt.subplots(5, 2, figsize=(15, 18))\n",
    "\n",
    "for i in range(len(epsilons)): \n",
    "    linear_sens.moment_model.set_moments_from_free_par(pert_opt_free_param_list[i])\n",
    "    e_z_pert = linear_sens.moment_model.moment_params['e_z'].get()\n",
    "    co_cluster_pert = np.matmul(e_z_pert, e_z_pert.T)\n",
    "    \n",
    "    if i == i: \n",
    "        dis = (co_cluster_pert + 1) ** (-1)\n",
    "        dis[np.diag_indices_from(dis)] = 0\n",
    "        dis = spatial.distance.squareform(dis, checks=False)\n",
    "        y = sch.linkage(dis, method='average')\n",
    "        indx = sch.dendrogram(y, no_plot=True)[\"leaves\"]\n",
    "    \n",
    "    co_cluster_pert = co_cluster_pert[indx][:, indx]\n",
    "    fig_indx1 = int(np.floor(i / 2))\n",
    "    fig_indx2 = int(i % 2)\n",
    "    axarr[fig_indx1, fig_indx2].matshow(co_cluster_pert)\n",
    "    "
   ]
  },
  {
   "cell_type": "code",
   "execution_count": null,
   "metadata": {
    "collapsed": true
   },
   "outputs": [],
   "source": [
    "linear_sens.moment_model.set_moments_from_free_par(best_param)\n",
    "e_beta_orig = linear_sens.moment_model.moment_params['centroids'].get()\n",
    "\n",
    "e_n_clusters = np.zeros(len(epsilons))\n",
    "e_n_clusters_lr = np.zeros(len(epsilons))\n",
    "for i in range(len(epsilons)): \n",
    "    e_n_clusters[i] = get_e_number_clusters_from_free_par(model, pert_opt_free_param_list[i], \\\n",
    "                                                        threshold = 0.5 / k_approx)\n",
    "    \n",
    "    free_perturb_vec = pert_prior_free_params_list[i] - model.prior_params.get_free()\n",
    "    lr_free_param_diff_vec = np.matmul(linear_sens.prior_sens_mat, free_perturb_vec)\n",
    "    \n",
    "    e_n_clusters_lr[i] = get_e_number_clusters_from_free_par(model, lr_free_param_diff_vec + best_param, \\\n",
    "                                                        threshold = 0.5 / k_approx)\n",
    "\n",
    "\n",
    "plt.scatter(epsilons, e_n_clusters, marker = '^')\n",
    "plt.scatter(epsilons, e_n_clusters_lr, marker = '+')\n",
    "plt.xlabel('epsilon')\n",
    "plt.ylabel('expected number of clusters')"
   ]
  },
  {
   "cell_type": "markdown",
   "metadata": {},
   "source": [
    "### Lets actually look at the results"
   ]
  },
  {
   "cell_type": "code",
   "execution_count": null,
   "metadata": {
    "collapsed": true
   },
   "outputs": [],
   "source": [
    "# check e_z's \n",
    "f, axarr = plt.subplots(int(len(epsilons)/2), 2, figsize = (8, 12))\n",
    "\n",
    "for i in range(len(epsilons)): \n",
    "    \n",
    "    linear_sens.moment_model.set_moments_from_free_par(pert_opt_free_param_list[i])\n",
    "    e_z_pert = linear_sens.moment_model.moment_params['e_z'].get()\n",
    "    cluster_assignments = np.argmax(e_z_pert, axis = 1)\n",
    "    \n",
    "    centroids = linear_sens.moment_model.moment_params['centroids'].get()\n",
    "    covs = np.linalg.inv(linear_sens.moment_model.model.vb_params['global']['gamma'].get())\n",
    "\n",
    "    pc_centroids, pc_covs = transform_params_to_pc_space(pca_fit, centroids, covs)\n",
    "    \n",
    "    axarr_indx1 = int(np.floor(i / 2))\n",
    "    axarr_indx2 = i % 2\n",
    "\n",
    "    plot_clusters(pc_features[:, 0], pc_features[:, 1], cluster_assignments, \\\n",
    "                  colors1, axarr[axarr_indx1, axarr_indx2], \n",
    "                 centroids = pc_centroids[:, np.unique(cluster_assignments)], \\\n",
    "                 cov = pc_covs[np.unique(cluster_assignments)])\n",
    "    axarr[axarr_indx1, axarr_indx2].set_title('epsilon = {}'.format(epsilons[i]))\n",
    "    \n",
    "f.tight_layout()\n"
   ]
  },
  {
   "cell_type": "code",
   "execution_count": null,
   "metadata": {
    "collapsed": true
   },
   "outputs": [],
   "source": []
  },
  {
   "cell_type": "markdown",
   "metadata": {},
   "source": [
    "### what if we perturb and start from a different initialization "
   ]
  },
  {
   "cell_type": "code",
   "execution_count": null,
   "metadata": {
    "collapsed": true,
    "scrolled": true
   },
   "outputs": [],
   "source": [
    "model_perturbed2 = gmm_utils.DPGaussianMixture(\n",
    "    model.y, model.k_approx, model.prior_params, gh_deg = 8, \\\n",
    "    use_bnp_prior = model.vb_params.use_bnp_prior, \\\n",
    "    use_logitnormal_sticks = model.vb_params.use_logitnormal_sticks)\n",
    "\n",
    "perturb_vec = np.zeros(model_perturbed.prior_params.vector_size())\n",
    "perturb_vec[prior_ind] = 0.5\n",
    "\n",
    "model_perturbed2.prior_params.set_vector(\n",
    "    model.prior_params.get_vector() + perturb_vec)\n",
    "\n",
    "print(model_perturbed2.prior_params.get_vector())\n",
    "print(model_perturbed2.prior_indices)\n",
    "\n",
    "\n",
    "print('k-means initialization ...')\n",
    "t0 = time.time()\n",
    "init_global_free_param = model_perturbed2.cluster_and_set_inits(n_kmeans_init = n_kmeans_init)\n",
    "t_kmeans = time.time() - t0\n",
    "\n",
    "pert_opt_free_param2 = \\\n",
    "    model_perturbed2.optimize_full(init_global_free_param, init_max_iter=100, final_max_iter=500)[0]\n"
   ]
  },
  {
   "cell_type": "code",
   "execution_count": null,
   "metadata": {
    "collapsed": true
   },
   "outputs": [],
   "source": [
    "lr_free_param_diff_vec = np.matmul(linear_sens.prior_sens_mat, model_perturbed2.prior_params.get_free() - \n",
    "                                         newton_results.prior_params.get_free())"
   ]
  },
  {
   "cell_type": "code",
   "execution_count": null,
   "metadata": {
    "collapsed": true
   },
   "outputs": [],
   "source": [
    "linear_sens.moment_model.set_moments_from_free_par(best_param)\n",
    "e_z_orig = linear_sens.moment_model.moment_params['e_z'].get()\n",
    "co_cluster_og = np.matmul(e_z_orig, e_z_orig.T)\n",
    "\n",
    "# results when starting from original optimum\n",
    "linear_sens.moment_model.set_moments_from_free_par(pert_opt_free_param)\n",
    "e_z_pert = linear_sens.moment_model.moment_params['e_z'].get()\n",
    "co_cluster_pert = np.matmul(e_z_pert, e_z_pert.T)\n",
    "\n",
    "# results when starting from random new optimum\n",
    "linear_sens.moment_model.set_moments_from_free_par(pert_opt_free_param2)\n",
    "e_z_pert2 = linear_sens.moment_model.moment_params['e_z'].get()\n",
    "co_cluster_pert2 = np.matmul(e_z_pert2, e_z_pert2.T)\n",
    "\n",
    "linear_sens.moment_model.set_moments_from_free_par(lr_free_param_diff_vec + best_param)\n",
    "e_z_lr = linear_sens.moment_model.moment_params['e_z'].get()\n",
    "co_cluster_lr = np.matmul(e_z_lr, e_z_lr.T)\n",
    "\n",
    "diff_vec = (co_cluster_pert2 - co_cluster_og).flatten()\n",
    "lr_diff_vec = (co_cluster_lr - co_cluster_og).flatten()\n"
   ]
  },
  {
   "cell_type": "code",
   "execution_count": null,
   "metadata": {
    "collapsed": true
   },
   "outputs": [],
   "source": [
    "#indx = np.abs(diff_vec) < 0.008\n",
    "plt.title('Co-clustering sensitivity')\n",
    "plt.plot(diff_vec, lr_diff_vec, 'r+', markersize = 5, alpha = 0.1)\n",
    "plt.plot(lr_diff_vec, lr_diff_vec, 'k')    \n",
    "plt.xlabel('true diff')\n",
    "plt.ylabel('lr diff')\n"
   ]
  },
  {
   "cell_type": "code",
   "execution_count": null,
   "metadata": {
    "collapsed": true
   },
   "outputs": [],
   "source": [
    "# Lets look at co-clustering again, but subsetting to \n",
    "# those with confident cluster belonings\n",
    "\n",
    "linear_sens.moment_model.set_moments_from_free_par(best_param)\n",
    "e_z_orig = linear_sens.moment_model.moment_params['e_z'].get()\n",
    "\n",
    "sure_indx = np.argwhere(np.max(e_z_orig, axis = 1) > 0.9).flatten()\n",
    "\n",
    "co_cluster_sure_og = np.matmul(e_z_orig[sure_indx, :], e_z_orig[sure_indx, :].T)\n",
    "co_cluster_sure_pert2 = np.matmul(e_z_pert2[sure_indx, :], e_z_pert2[sure_indx, :].T)\n",
    "co_cluster_sure_lr = np.matmul(e_z_lr[sure_indx, :], e_z_lr[sure_indx, :].T)\n",
    "\n",
    "diff_vec = (co_cluster_sure_pert2 - co_cluster_sure_og).flatten()\n",
    "lr_diff_vec = (co_cluster_sure_lr - co_cluster_sure_og).flatten()\n",
    "\n",
    "plt.title('Co-clustering sensitivity')\n",
    "plt.plot(diff_vec, lr_diff_vec, 'r+', markersize = 5, alpha = 0.1)\n",
    "plt.plot(lr_diff_vec, lr_diff_vec, 'k')    \n",
    "plt.xlabel('true diff')\n",
    "plt.ylabel('lr diff')\n"
   ]
  },
  {
   "cell_type": "markdown",
   "metadata": {},
   "source": [
    "# Functional Sensitivty"
   ]
  },
  {
   "cell_type": "code",
   "execution_count": null,
   "metadata": {
    "collapsed": true
   },
   "outputs": [],
   "source": [
    "# we examine the influence on the posterior stick lengths\n",
    "def get_stick_length_from_free_param(model, free_par): \n",
    "    model.set_from_global_free_par(free_par)\n",
    "    return ef.get_e_logitnormal(lognorm_means = model.vb_params['global']['v_sticks']['mean'].get(),\n",
    "                lognorm_infos = model.vb_params['global']['v_sticks']['info'].get(),\n",
    "                gh_loc = model.vb_params.gh_loc,\n",
    "                gh_weights = model.vb_params.gh_weights)\n",
    "\n",
    "get_g_eta = autograd.jacobian(get_stick_length_from_free_param, argnum = 1)\n",
    "g_eta = get_g_eta(model, best_param)\n"
   ]
  },
  {
   "cell_type": "code",
   "execution_count": null,
   "metadata": {
    "collapsed": true
   },
   "outputs": [],
   "source": [
    "# get total influence\n",
    "theta = np.linspace(0.01, 0.99, 100)\n",
    "total_influence_sticks = np.zeros((k_approx - 1, len(theta)))\n",
    "for k in range(k_approx - 1): \n",
    "    total_influence_sticks += np.dot(g_eta, linear_sens.influence_function(theta, k))\n"
   ]
  },
  {
   "cell_type": "code",
   "execution_count": null,
   "metadata": {
    "collapsed": true,
    "scrolled": true
   },
   "outputs": [],
   "source": [
    "f, axarr = plt.subplots(6, 2, figsize=(12, 25))\n",
    "\n",
    "for k in range(k_approx - 1): \n",
    "    \n",
    "    indx1 = int(np.floor(k / 2))\n",
    "    indx2 = k % 2\n",
    "    axarr[indx1, indx2].plot(theta, total_influence_sticks[k, :])\n",
    "    axarr[indx1, indx2].set_ylim([-1.0, 1.0])\n",
    "    axarr[indx1, indx2].set_title('total influence on {}th stick'.format(k))\n",
    "    # axarr[indx1, indx2].set_title('epsilon = {}'.format(epsilons[i]))\n",
    "\n",
    "#     plt.plot(theta, total_influence[k, :])\n",
    "\n",
    "f.delaxes(axarr[5][1])\n",
    "\n",
    "f.tight_layout()\n"
   ]
  },
  {
   "cell_type": "code",
   "execution_count": null,
   "metadata": {
    "collapsed": true
   },
   "outputs": [],
   "source": [
    "model.set_from_global_free_par(best_param)\n",
    "model.prior_params.set_free(prior_free_params)"
   ]
  },
  {
   "cell_type": "code",
   "execution_count": null,
   "metadata": {
    "collapsed": true
   },
   "outputs": [],
   "source": [
    "# we examine the influence on the posterior stick lengths\n",
    "def get_centroid_from_free_param(model, free_par): \n",
    "    model.set_from_global_free_par(free_par)\n",
    "    return model.global_vb_params['centroids'].get().T.flatten()\n",
    "\n",
    "get_g_eta_for_centroids= autograd.jacobian(get_centroid_from_free_param, argnum = 1)\n",
    "g_eta_for_centroids = get_g_eta_for_centroids(model, best_param)\n"
   ]
  },
  {
   "cell_type": "code",
   "execution_count": null,
   "metadata": {
    "collapsed": true
   },
   "outputs": [],
   "source": [
    "# get total influence\n",
    "theta = np.linspace(0.01, 0.99, 100)\n",
    "total_influence_centroids = np.zeros((np.shape(g_eta_for_centroids)[0], len(theta)))\n",
    "for k in range(k_approx - 1): \n",
    "    total_influence_centroids += np.dot(g_eta_for_centroids, linear_sens.influence_function(theta, k))\n"
   ]
  },
  {
   "cell_type": "code",
   "execution_count": null,
   "metadata": {
    "collapsed": true
   },
   "outputs": [],
   "source": [
    "print(prior_params)"
   ]
  },
  {
   "cell_type": "code",
   "execution_count": null,
   "metadata": {
    "collapsed": true
   },
   "outputs": [],
   "source": [
    "f, axarr = plt.subplots(6, 2, figsize=(12, 25))\n",
    "\n",
    "for k in range(k_approx - 1): \n",
    "    \n",
    "    indx1 = int(np.floor(k / 2))\n",
    "    indx2 = k % 2\n",
    "    axarr[indx1, indx2].plot(theta, total_influence_centroids[k, :])\n",
    "    axarr[indx1, indx2].set_ylim([-1.1, 1.1])\n",
    "    axarr[indx1, indx2].set_title('total influence on {}th centroid'.format(k))\n",
    "    # axarr[indx1, indx2].set_title('epsilon = {}'.format(epsilons[i]))\n",
    "\n",
    "#     plt.plot(theta, total_influence[k, :])\n",
    "\n",
    "f.delaxes(axarr[5][1])\n",
    "\n"
   ]
  },
  {
   "cell_type": "code",
   "execution_count": null,
   "metadata": {
    "collapsed": true
   },
   "outputs": [],
   "source": [
    "# lets choose a perturbation \n",
    "\n",
    "u = lambda x : 1.0 - x\n",
    "\n",
    "plt.plot(theta, u(theta))"
   ]
  },
  {
   "cell_type": "code",
   "execution_count": null,
   "metadata": {
    "collapsed": true,
    "scrolled": true
   },
   "outputs": [],
   "source": [
    "# get functional sensitivity\n",
    "fun_sens_mat = linear_sens.get_functional_sensitivity(u)"
   ]
  },
  {
   "cell_type": "code",
   "execution_count": null,
   "metadata": {
    "collapsed": true
   },
   "outputs": [],
   "source": [
    "model.set_from_global_free_par(best_param)\n",
    "model.prior_params.set_free(prior_free_params)"
   ]
  },
  {
   "cell_type": "code",
   "execution_count": null,
   "metadata": {
    "collapsed": true
   },
   "outputs": [],
   "source": [
    "# Perturb and re-optimize\n",
    "model_u_pert = gmm_utils.DPGaussianMixture(\n",
    "    model.y, model.k_approx, model.prior_params, gh_deg = 8, \\\n",
    "    use_bnp_prior = model.vb_params.use_bnp_prior, \\\n",
    "    use_logitnormal_sticks = model.vb_params.use_logitnormal_sticks, \\\n",
    "    u = u)\n",
    "\n",
    "pert_u_opt_free_param = \\\n",
    "    model_u_pert.optimize_full(best_param, init_max_iter=100, final_max_iter=500)[0]\n"
   ]
  },
  {
   "cell_type": "code",
   "execution_count": null,
   "metadata": {
    "collapsed": true
   },
   "outputs": [],
   "source": [
    "lr_free_param_diff_vec = np.matmul(fun_sens_mat, np.ones(k_approx - 1))\n",
    "\n",
    "diff_vec = pert_u_opt_free_param - best_param\n",
    "lr_diff_vec = deepcopy(lr_free_param_diff_vec)\n",
    "plt.plot(diff_vec, lr_diff_vec, 'r+')\n",
    "plt.plot(diff_vec, diff_vec, 'k')    \n",
    "plt.xlabel('true diff')\n",
    "plt.ylabel('lr diff')\n"
   ]
  },
  {
   "cell_type": "code",
   "execution_count": null,
   "metadata": {
    "collapsed": true
   },
   "outputs": [],
   "source": [
    "linear_sens.moment_model.set_moments_from_free_par(best_param)\n",
    "e_z_orig = linear_sens.moment_model.moment_params['e_z'].get()\n",
    "co_clustering_og = np.matmul(e_z_orig, e_z_orig.T)\n",
    "\n",
    "linear_sens.moment_model.set_moments_from_free_par(pert_u_opt_free_param)\n",
    "e_z_pert = linear_sens.moment_model.moment_params['e_z'].get()\n",
    "co_clustering_pert = np.matmul(e_z_pert, e_z_pert.T)\n",
    "\n",
    "linear_sens.moment_model.set_moments_from_free_par(lr_free_param_diff_vec + best_param)\n",
    "e_z_lr = linear_sens.moment_model.moment_params['e_z'].get()\n",
    "co_clustering_lrvb = np.matmul(e_z_lr, e_z_lr.T)\n",
    "\n",
    "diff_vec = (co_clustering_pert - co_clustering_og).flatten()\n",
    "lr_diff_vec = (co_clustering_lrvb - co_clustering_og).flatten()\n",
    "\n",
    "plt.title('co-clustering sensitivity')\n",
    "plt.plot(diff_vec, lr_diff_vec, 'r^', alpha = 0.01)\n",
    "plt.plot(diff_vec, diff_vec, 'k')    \n",
    "plt.xlabel('true diff')\n",
    "plt.ylabel('lr diff')\n"
   ]
  },
  {
   "cell_type": "code",
   "execution_count": null,
   "metadata": {
    "collapsed": true
   },
   "outputs": [],
   "source": [
    "linear_sens.moment_model.set_moments_from_free_par(best_param)\n",
    "v_sticks_orig = linear_sens.moment_model.moment_params['v_sticks'].get()\n",
    "\n",
    "linear_sens.moment_model.set_moments_from_free_par(pert_u_opt_free_param)\n",
    "v_sticks_pert = linear_sens.moment_model.moment_params['v_sticks'].get()\n",
    "\n",
    "linear_sens.moment_model.set_moments_from_free_par(lr_free_param_diff_vec + best_param)\n",
    "v_sticks_lr = linear_sens.moment_model.moment_params['v_sticks'].get()\n",
    "\n",
    "diff_vec = (v_sticks_pert - v_sticks_orig).flatten()\n",
    "lr_diff_vec = (v_sticks_lr - v_sticks_orig).flatten()\n",
    "\n",
    "plt.title('v_sticks sensitivity')\n",
    "plt.plot(diff_vec, lr_diff_vec, 'r^', markersize = 10)\n",
    "plt.plot(diff_vec, diff_vec, 'k')    \n",
    "plt.xlabel('true diff')\n",
    "plt.ylabel('lr diff')\n"
   ]
  },
  {
   "cell_type": "code",
   "execution_count": null,
   "metadata": {
    "collapsed": true
   },
   "outputs": [],
   "source": [
    "linear_sens.moment_model.set_moments_from_free_par(best_param)\n",
    "beta_og = linear_sens.moment_model.moment_params['centroids'].get()\n",
    "\n",
    "linear_sens.moment_model.set_moments_from_free_par(pert_u_opt_free_param)\n",
    "beta_pert = linear_sens.moment_model.moment_params['centroids'].get()\n",
    "\n",
    "linear_sens.moment_model.set_moments_from_free_par(lr_free_param_diff_vec + best_param)\n",
    "beta_lrvb = linear_sens.moment_model.moment_params['centroids'].get()\n",
    "\n",
    "diff_vec1 = (beta_pert - beta_og).flatten()\n",
    "lr_diff_vec1 = (beta_lrvb - beta_og).flatten()\n",
    "\n",
    "plt.title('Centroid sensitivity')\n",
    "plt.plot(diff_vec1, lr_diff_vec1, 'r^', markersize = 10)\n",
    "plt.plot(diff_vec1, diff_vec1, 'k') \n",
    "\n",
    "plt.xlabel('true diff')\n",
    "plt.ylabel('lr diff')\n"
   ]
  },
  {
   "cell_type": "code",
   "execution_count": null,
   "metadata": {
    "collapsed": true
   },
   "outputs": [],
   "source": []
  }
 ],
 "metadata": {
  "kernelspec": {
   "display_name": "Python 3",
   "language": "python",
   "name": "python3"
  },
  "language_info": {
   "codemirror_mode": {
    "name": "ipython",
    "version": 3
   },
   "file_extension": ".py",
   "mimetype": "text/x-python",
   "name": "python",
   "nbconvert_exporter": "python",
   "pygments_lexer": "ipython3",
   "version": "3.5.2"
  }
 },
 "nbformat": 4,
 "nbformat_minor": 2
}
