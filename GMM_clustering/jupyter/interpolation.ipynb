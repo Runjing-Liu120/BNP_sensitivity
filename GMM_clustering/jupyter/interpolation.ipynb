{
 "cells": [
  {
   "cell_type": "code",
   "execution_count": 181,
   "metadata": {
    "collapsed": true
   },
   "outputs": [],
   "source": [
    "import numpy as np\n",
    "\n",
    "\n",
    "import matplotlib.pyplot as plt\n",
    "%matplotlib inline\n"
   ]
  },
  {
   "cell_type": "code",
   "execution_count": 20,
   "metadata": {
    "collapsed": false
   },
   "outputs": [],
   "source": [
    "class Foo(): \n",
    "    def __init__(self):\n",
    "        x = 1 \n",
    "        \n",
    "    def prod(self, p): \n",
    "        if p == 1: \n",
    "            return 1.0\n",
    "        else: \n",
    "            blah = self.prod(p - 1)\n",
    "        \n",
    "        return blah * p\n",
    "        \n",
    "        "
   ]
  },
  {
   "cell_type": "code",
   "execution_count": 156,
   "metadata": {
    "collapsed": false
   },
   "outputs": [],
   "source": [
    "class Bspline():\n",
    "    # Implementing 1D B-splines with Cox-de Boor recursion formula\n",
    "\n",
    "    def __init__(self, knot_vector, order):\n",
    "        self.knot_vector = knot_vector\n",
    "        self.order = order \n",
    "        self.n_basis = len(knot_vector) - order - 1\n",
    "\n",
    "    def _get_zeroth_basis(self, x):\n",
    "        # returns the a matrix of size n_basis x len(x)\n",
    "        # where each row is the nth basis evaluated at x\n",
    "        \n",
    "        # if u_0, ..., u_{n_knots}, are the knots \n",
    "        # then the are the Nth basis is 1 if x \\in (u_)\n",
    "        \n",
    "        zeroth_basis = np.zeros((len(self.knot_vector) - 1, len(x)))\n",
    "        pos_basis_indx = np.searchsorted(self.knot_vector, x) - 1\n",
    "        zeroth_basis[pos_basis_indx, np.arange(len(x))] = 1.0\n",
    "        \n",
    "        return zeroth_basis\n",
    "\n",
    "    def _get_pth_order_basis(self, x, p, compute_derivatives=False):\n",
    "        \"\"\"Recursive Cox - de Boor function (for internal use).\n",
    "        \"\"\"\n",
    "        assert len(np.shape(x)) == 1 # x should be a vector\n",
    "\n",
    "        if p == 0:\n",
    "            return self._get_zeroth_basis(x)\n",
    "        else:\n",
    "            basis_p_minus_1 = self._get_pth_order_basis(x, p - 1)\n",
    "            \n",
    "        \n",
    "        print(p)        \n",
    "        \n",
    "        first_term_numerator = x[np.newaxis, :] - self.knot_vector[:-p][:, np.newaxis]\n",
    "        first_term_denominator = self.knot_vector[p:] - self.knot_vector[:-p]\n",
    "\n",
    "        second_term_numerator = self.knot_vector[(p + 1):][:, np.newaxis] - x[np.newaxis, :]\n",
    "        second_term_denominator = (self.knot_vector[(p + 1):] -\n",
    "                                   self.knot_vector[1:-p])\n",
    "        \n",
    "        first_term = first_term_numerator / first_term_denominator[:, np.newaxis]\n",
    "        \n",
    "        second_term = second_term_numerator / second_term_denominator[:, np.newaxis]\n",
    "\n",
    "\n",
    "        return  (first_term[:-1] * basis_p_minus_1[:-1] +\n",
    "                 second_term * basis_p_minus_1[1:])\n"
   ]
  },
  {
   "cell_type": "code",
   "execution_count": 174,
   "metadata": {
    "collapsed": true
   },
   "outputs": [],
   "source": [
    "knot_vector = np.linspace(0, 1, 10)"
   ]
  },
  {
   "cell_type": "code",
   "execution_count": 191,
   "metadata": {
    "collapsed": false
   },
   "outputs": [],
   "source": [
    "x = np.linspace(0.01, 0.99, 100)"
   ]
  },
  {
   "cell_type": "code",
   "execution_count": 192,
   "metadata": {
    "collapsed": false
   },
   "outputs": [],
   "source": [
    "basis_class = Bspline(knot_vector, 3)"
   ]
  },
  {
   "cell_type": "code",
   "execution_count": 193,
   "metadata": {
    "collapsed": false,
    "scrolled": true
   },
   "outputs": [
    {
     "data": {
      "text/plain": [
       "array([[1., 1., 1., 1., 1., 1., 1., 1., 1., 1., 1., 0., 0., 0., 0., 0.,\n",
       "        0., 0., 0., 0., 0., 0., 0., 0., 0., 0., 0., 0., 0., 0., 0., 0.,\n",
       "        0., 0., 0., 0., 0., 0., 0., 0., 0., 0., 0., 0., 0., 0., 0., 0.,\n",
       "        0., 0., 0., 0., 0., 0., 0., 0., 0., 0., 0., 0., 0., 0., 0., 0.,\n",
       "        0., 0., 0., 0., 0., 0., 0., 0., 0., 0., 0., 0., 0., 0., 0., 0.,\n",
       "        0., 0., 0., 0., 0., 0., 0., 0., 0., 0., 0., 0., 0., 0., 0., 0.,\n",
       "        0., 0., 0., 0.],\n",
       "       [0., 0., 0., 0., 0., 0., 0., 0., 0., 0., 0., 1., 1., 1., 1., 1.,\n",
       "        1., 1., 1., 1., 1., 1., 0., 0., 0., 0., 0., 0., 0., 0., 0., 0.,\n",
       "        0., 0., 0., 0., 0., 0., 0., 0., 0., 0., 0., 0., 0., 0., 0., 0.,\n",
       "        0., 0., 0., 0., 0., 0., 0., 0., 0., 0., 0., 0., 0., 0., 0., 0.,\n",
       "        0., 0., 0., 0., 0., 0., 0., 0., 0., 0., 0., 0., 0., 0., 0., 0.,\n",
       "        0., 0., 0., 0., 0., 0., 0., 0., 0., 0., 0., 0., 0., 0., 0., 0.,\n",
       "        0., 0., 0., 0.],\n",
       "       [0., 0., 0., 0., 0., 0., 0., 0., 0., 0., 0., 0., 0., 0., 0., 0.,\n",
       "        0., 0., 0., 0., 0., 0., 1., 1., 1., 1., 1., 1., 1., 1., 1., 1.,\n",
       "        1., 0., 0., 0., 0., 0., 0., 0., 0., 0., 0., 0., 0., 0., 0., 0.,\n",
       "        0., 0., 0., 0., 0., 0., 0., 0., 0., 0., 0., 0., 0., 0., 0., 0.,\n",
       "        0., 0., 0., 0., 0., 0., 0., 0., 0., 0., 0., 0., 0., 0., 0., 0.,\n",
       "        0., 0., 0., 0., 0., 0., 0., 0., 0., 0., 0., 0., 0., 0., 0., 0.,\n",
       "        0., 0., 0., 0.],\n",
       "       [0., 0., 0., 0., 0., 0., 0., 0., 0., 0., 0., 0., 0., 0., 0., 0.,\n",
       "        0., 0., 0., 0., 0., 0., 0., 0., 0., 0., 0., 0., 0., 0., 0., 0.,\n",
       "        0., 1., 1., 1., 1., 1., 1., 1., 1., 1., 1., 1., 0., 0., 0., 0.,\n",
       "        0., 0., 0., 0., 0., 0., 0., 0., 0., 0., 0., 0., 0., 0., 0., 0.,\n",
       "        0., 0., 0., 0., 0., 0., 0., 0., 0., 0., 0., 0., 0., 0., 0., 0.,\n",
       "        0., 0., 0., 0., 0., 0., 0., 0., 0., 0., 0., 0., 0., 0., 0., 0.,\n",
       "        0., 0., 0., 0.],\n",
       "       [0., 0., 0., 0., 0., 0., 0., 0., 0., 0., 0., 0., 0., 0., 0., 0.,\n",
       "        0., 0., 0., 0., 0., 0., 0., 0., 0., 0., 0., 0., 0., 0., 0., 0.,\n",
       "        0., 0., 0., 0., 0., 0., 0., 0., 0., 0., 0., 0., 1., 1., 1., 1.,\n",
       "        1., 1., 1., 1., 1., 1., 1., 1., 0., 0., 0., 0., 0., 0., 0., 0.,\n",
       "        0., 0., 0., 0., 0., 0., 0., 0., 0., 0., 0., 0., 0., 0., 0., 0.,\n",
       "        0., 0., 0., 0., 0., 0., 0., 0., 0., 0., 0., 0., 0., 0., 0., 0.,\n",
       "        0., 0., 0., 0.],\n",
       "       [0., 0., 0., 0., 0., 0., 0., 0., 0., 0., 0., 0., 0., 0., 0., 0.,\n",
       "        0., 0., 0., 0., 0., 0., 0., 0., 0., 0., 0., 0., 0., 0., 0., 0.,\n",
       "        0., 0., 0., 0., 0., 0., 0., 0., 0., 0., 0., 0., 0., 0., 0., 0.,\n",
       "        0., 0., 0., 0., 0., 0., 0., 0., 1., 1., 1., 1., 1., 1., 1., 1.,\n",
       "        1., 1., 1., 0., 0., 0., 0., 0., 0., 0., 0., 0., 0., 0., 0., 0.,\n",
       "        0., 0., 0., 0., 0., 0., 0., 0., 0., 0., 0., 0., 0., 0., 0., 0.,\n",
       "        0., 0., 0., 0.],\n",
       "       [0., 0., 0., 0., 0., 0., 0., 0., 0., 0., 0., 0., 0., 0., 0., 0.,\n",
       "        0., 0., 0., 0., 0., 0., 0., 0., 0., 0., 0., 0., 0., 0., 0., 0.,\n",
       "        0., 0., 0., 0., 0., 0., 0., 0., 0., 0., 0., 0., 0., 0., 0., 0.,\n",
       "        0., 0., 0., 0., 0., 0., 0., 0., 0., 0., 0., 0., 0., 0., 0., 0.,\n",
       "        0., 0., 0., 1., 1., 1., 1., 1., 1., 1., 1., 1., 1., 1., 0., 0.,\n",
       "        0., 0., 0., 0., 0., 0., 0., 0., 0., 0., 0., 0., 0., 0., 0., 0.,\n",
       "        0., 0., 0., 0.],\n",
       "       [0., 0., 0., 0., 0., 0., 0., 0., 0., 0., 0., 0., 0., 0., 0., 0.,\n",
       "        0., 0., 0., 0., 0., 0., 0., 0., 0., 0., 0., 0., 0., 0., 0., 0.,\n",
       "        0., 0., 0., 0., 0., 0., 0., 0., 0., 0., 0., 0., 0., 0., 0., 0.,\n",
       "        0., 0., 0., 0., 0., 0., 0., 0., 0., 0., 0., 0., 0., 0., 0., 0.,\n",
       "        0., 0., 0., 0., 0., 0., 0., 0., 0., 0., 0., 0., 0., 0., 1., 1.,\n",
       "        1., 1., 1., 1., 1., 1., 1., 1., 1., 0., 0., 0., 0., 0., 0., 0.,\n",
       "        0., 0., 0., 0.],\n",
       "       [0., 0., 0., 0., 0., 0., 0., 0., 0., 0., 0., 0., 0., 0., 0., 0.,\n",
       "        0., 0., 0., 0., 0., 0., 0., 0., 0., 0., 0., 0., 0., 0., 0., 0.,\n",
       "        0., 0., 0., 0., 0., 0., 0., 0., 0., 0., 0., 0., 0., 0., 0., 0.,\n",
       "        0., 0., 0., 0., 0., 0., 0., 0., 0., 0., 0., 0., 0., 0., 0., 0.,\n",
       "        0., 0., 0., 0., 0., 0., 0., 0., 0., 0., 0., 0., 0., 0., 0., 0.,\n",
       "        0., 0., 0., 0., 0., 0., 0., 0., 0., 1., 1., 1., 1., 1., 1., 1.,\n",
       "        1., 1., 1., 1.]])"
      ]
     },
     "execution_count": 193,
     "metadata": {},
     "output_type": "execute_result"
    }
   ],
   "source": [
    "basis_class._get_pth_order_basis(x, 0)"
   ]
  },
  {
   "cell_type": "code",
   "execution_count": 194,
   "metadata": {
    "collapsed": false
   },
   "outputs": [
    {
     "name": "stdout",
     "output_type": "stream",
     "text": [
      "1\n",
      "2\n",
      "3\n"
     ]
    }
   ],
   "source": [
    "bspline_basis = basis_class._get_pth_order_basis(x, 3)"
   ]
  },
  {
   "cell_type": "code",
   "execution_count": 195,
   "metadata": {
    "collapsed": false
   },
   "outputs": [
    {
     "data": {
      "text/plain": [
       "array([[1.21500000e-04, 9.57346982e-04, 3.21467255e-03, 7.60060819e-03,\n",
       "        1.48222854e-02, 2.55868356e-02, 4.06013903e-02, 6.05730810e-02,\n",
       "        8.62090392e-02, 1.18216396e-01, 1.57302284e-01, 2.03945167e-01,\n",
       "        2.56853791e-01, 3.13911401e-01, 3.72996602e-01, 4.31988001e-01,\n",
       "        4.88764201e-01, 5.41203810e-01, 5.87185432e-01, 6.24587673e-01,\n",
       "        6.51289139e-01, 6.65168435e-01, 6.64229167e-01, 6.48665832e-01,\n",
       "        6.20540089e-01, 5.81973334e-01, 5.35086961e-01, 4.82002364e-01,\n",
       "        4.24840937e-01, 3.65724075e-01, 3.06773173e-01, 2.50109624e-01,\n",
       "        1.97854824e-01, 1.52112167e-01, 1.13931030e-01, 8.27418371e-02,\n",
       "        5.78374552e-02, 3.85107532e-02, 2.40545997e-02, 1.37618631e-02,\n",
       "        6.92541210e-03, 2.83811508e-03, 7.92840596e-04, 8.24571751e-05,\n",
       "        0.00000000e+00, 0.00000000e+00, 0.00000000e+00, 0.00000000e+00,\n",
       "        0.00000000e+00, 0.00000000e+00, 0.00000000e+00, 0.00000000e+00,\n",
       "        0.00000000e+00, 0.00000000e+00, 0.00000000e+00, 0.00000000e+00,\n",
       "        0.00000000e+00, 0.00000000e+00, 0.00000000e+00, 0.00000000e+00,\n",
       "        0.00000000e+00, 0.00000000e+00, 0.00000000e+00, 0.00000000e+00,\n",
       "        0.00000000e+00, 0.00000000e+00, 0.00000000e+00, 0.00000000e+00,\n",
       "        0.00000000e+00, 0.00000000e+00, 0.00000000e+00, 0.00000000e+00,\n",
       "        0.00000000e+00, 0.00000000e+00, 0.00000000e+00, 0.00000000e+00,\n",
       "        0.00000000e+00, 0.00000000e+00, 0.00000000e+00, 0.00000000e+00,\n",
       "        0.00000000e+00, 0.00000000e+00, 0.00000000e+00, 0.00000000e+00,\n",
       "        0.00000000e+00, 0.00000000e+00, 0.00000000e+00, 0.00000000e+00,\n",
       "        0.00000000e+00, 0.00000000e+00, 0.00000000e+00, 0.00000000e+00,\n",
       "        0.00000000e+00, 0.00000000e+00, 0.00000000e+00, 0.00000000e+00,\n",
       "        0.00000000e+00, 0.00000000e+00, 0.00000000e+00, 0.00000000e+00],\n",
       "       [0.00000000e+00, 0.00000000e+00, 0.00000000e+00, 0.00000000e+00,\n",
       "        0.00000000e+00, 0.00000000e+00, 0.00000000e+00, 0.00000000e+00,\n",
       "        0.00000000e+00, 0.00000000e+00, 0.00000000e+00, 5.71666667e-05,\n",
       "        6.71096294e-04, 2.54776071e-03, 6.39429138e-03, 1.29178198e-02,\n",
       "        2.28254775e-02, 3.68243958e-02, 5.56217064e-02, 7.99245406e-02,\n",
       "        1.10440030e-01, 1.47875306e-01, 1.92854167e-01, 2.44539816e-01,\n",
       "        3.00850682e-01, 3.59665371e-01, 4.18862488e-01, 4.76320639e-01,\n",
       "        5.29918430e-01, 5.77534465e-01, 6.17047351e-01, 6.46335693e-01,\n",
       "        6.63278096e-01, 6.65780167e-01, 6.53328534e-01, 6.27838263e-01,\n",
       "        5.91430747e-01, 5.46227382e-01, 4.94349562e-01, 4.37918681e-01,\n",
       "        3.79056133e-01, 3.19883313e-01, 2.62521616e-01, 2.09092436e-01,\n",
       "        1.61716500e-01, 1.21868554e-01, 8.91712944e-02, 6.29175902e-02,\n",
       "        4.24003097e-02, 2.69123214e-02, 1.57464940e-02, 8.19569584e-03,\n",
       "        3.55279552e-03, 1.11066153e-03, 1.62162409e-04, 1.66666667e-07,\n",
       "        0.00000000e+00, 0.00000000e+00, 0.00000000e+00, 0.00000000e+00,\n",
       "        0.00000000e+00, 0.00000000e+00, 0.00000000e+00, 0.00000000e+00,\n",
       "        0.00000000e+00, 0.00000000e+00, 0.00000000e+00, 0.00000000e+00,\n",
       "        0.00000000e+00, 0.00000000e+00, 0.00000000e+00, 0.00000000e+00,\n",
       "        0.00000000e+00, 0.00000000e+00, 0.00000000e+00, 0.00000000e+00,\n",
       "        0.00000000e+00, 0.00000000e+00, 0.00000000e+00, 0.00000000e+00,\n",
       "        0.00000000e+00, 0.00000000e+00, 0.00000000e+00, 0.00000000e+00,\n",
       "        0.00000000e+00, 0.00000000e+00, 0.00000000e+00, 0.00000000e+00,\n",
       "        0.00000000e+00, 0.00000000e+00, 0.00000000e+00, 0.00000000e+00,\n",
       "        0.00000000e+00, 0.00000000e+00, 0.00000000e+00, 0.00000000e+00,\n",
       "        0.00000000e+00, 0.00000000e+00, 0.00000000e+00, 0.00000000e+00],\n",
       "       [0.00000000e+00, 0.00000000e+00, 0.00000000e+00, 0.00000000e+00,\n",
       "        0.00000000e+00, 0.00000000e+00, 0.00000000e+00, 0.00000000e+00,\n",
       "        0.00000000e+00, 0.00000000e+00, 0.00000000e+00, 0.00000000e+00,\n",
       "        0.00000000e+00, 0.00000000e+00, 0.00000000e+00, 0.00000000e+00,\n",
       "        0.00000000e+00, 0.00000000e+00, 0.00000000e+00, 0.00000000e+00,\n",
       "        0.00000000e+00, 0.00000000e+00, 2.08333333e-05, 4.48481968e-04,\n",
       "        1.98012159e-03, 5.32288367e-03, 1.11838997e-02, 2.02703012e-02,\n",
       "        3.32892195e-02, 5.09477863e-02, 7.39531329e-02, 1.03012391e-01,\n",
       "        1.38832692e-01, 1.82103167e-01, 2.32458932e-01, 2.87916145e-01,\n",
       "        3.46353412e-01, 4.05649339e-01, 4.63682532e-01, 5.18331595e-01,\n",
       "        5.67475134e-01, 6.08991756e-01, 6.40760064e-01, 6.60658666e-01,\n",
       "        6.66567167e-01, 6.57334146e-01, 6.34586255e-01, 6.00444888e-01,\n",
       "        5.57031440e-01, 5.06467306e-01, 4.50873879e-01, 3.92372554e-01,\n",
       "        3.33084726e-01, 2.75131790e-01, 2.20635138e-01, 1.71716167e-01,\n",
       "        1.30166441e-01, 9.59254790e-02, 6.82868161e-02, 4.65433207e-02,\n",
       "        2.99878614e-02, 1.79133067e-02, 9.61252504e-03, 4.37838505e-03,\n",
       "        1.50375520e-03, 2.81504007e-04, 4.50000000e-06, 0.00000000e+00,\n",
       "        0.00000000e+00, 0.00000000e+00, 0.00000000e+00, 0.00000000e+00,\n",
       "        0.00000000e+00, 0.00000000e+00, 0.00000000e+00, 0.00000000e+00,\n",
       "        0.00000000e+00, 0.00000000e+00, 0.00000000e+00, 0.00000000e+00,\n",
       "        0.00000000e+00, 0.00000000e+00, 0.00000000e+00, 0.00000000e+00,\n",
       "        0.00000000e+00, 0.00000000e+00, 0.00000000e+00, 0.00000000e+00,\n",
       "        0.00000000e+00, 0.00000000e+00, 0.00000000e+00, 0.00000000e+00,\n",
       "        0.00000000e+00, 0.00000000e+00, 0.00000000e+00, 0.00000000e+00,\n",
       "        0.00000000e+00, 0.00000000e+00, 0.00000000e+00, 0.00000000e+00],\n",
       "       [0.00000000e+00, 0.00000000e+00, 0.00000000e+00, 0.00000000e+00,\n",
       "        0.00000000e+00, 0.00000000e+00, 0.00000000e+00, 0.00000000e+00,\n",
       "        0.00000000e+00, 0.00000000e+00, 0.00000000e+00, 0.00000000e+00,\n",
       "        0.00000000e+00, 0.00000000e+00, 0.00000000e+00, 0.00000000e+00,\n",
       "        0.00000000e+00, 0.00000000e+00, 0.00000000e+00, 0.00000000e+00,\n",
       "        0.00000000e+00, 0.00000000e+00, 0.00000000e+00, 0.00000000e+00,\n",
       "        0.00000000e+00, 0.00000000e+00, 0.00000000e+00, 0.00000000e+00,\n",
       "        0.00000000e+00, 0.00000000e+00, 0.00000000e+00, 0.00000000e+00,\n",
       "        0.00000000e+00, 4.50000000e-06, 2.81504007e-04, 1.50375520e-03,\n",
       "        4.37838505e-03, 9.61252504e-03, 1.79133067e-02, 2.99878614e-02,\n",
       "        4.65433207e-02, 6.82868161e-02, 9.59254790e-02, 1.30166441e-01,\n",
       "        1.71716167e-01, 2.20635138e-01, 2.75131790e-01, 3.33084726e-01,\n",
       "        3.92372554e-01, 4.50873879e-01, 5.06467306e-01, 5.57031440e-01,\n",
       "        6.00444888e-01, 6.34586255e-01, 6.57334146e-01, 6.66567167e-01,\n",
       "        6.60658666e-01, 6.40760064e-01, 6.08991756e-01, 5.67475134e-01,\n",
       "        5.18331595e-01, 4.63682532e-01, 4.05649339e-01, 3.46353412e-01,\n",
       "        2.87916145e-01, 2.32458932e-01, 1.82103167e-01, 1.38832692e-01,\n",
       "        1.03012391e-01, 7.39531329e-02, 5.09477863e-02, 3.32892195e-02,\n",
       "        2.02703012e-02, 1.11838997e-02, 5.32288367e-03, 1.98012159e-03,\n",
       "        4.48481968e-04, 2.08333333e-05, 0.00000000e+00, 0.00000000e+00,\n",
       "        0.00000000e+00, 0.00000000e+00, 0.00000000e+00, 0.00000000e+00,\n",
       "        0.00000000e+00, 0.00000000e+00, 0.00000000e+00, 0.00000000e+00,\n",
       "        0.00000000e+00, 0.00000000e+00, 0.00000000e+00, 0.00000000e+00,\n",
       "        0.00000000e+00, 0.00000000e+00, 0.00000000e+00, 0.00000000e+00,\n",
       "        0.00000000e+00, 0.00000000e+00, 0.00000000e+00, 0.00000000e+00],\n",
       "       [0.00000000e+00, 0.00000000e+00, 0.00000000e+00, 0.00000000e+00,\n",
       "        0.00000000e+00, 0.00000000e+00, 0.00000000e+00, 0.00000000e+00,\n",
       "        0.00000000e+00, 0.00000000e+00, 0.00000000e+00, 0.00000000e+00,\n",
       "        0.00000000e+00, 0.00000000e+00, 0.00000000e+00, 0.00000000e+00,\n",
       "        0.00000000e+00, 0.00000000e+00, 0.00000000e+00, 0.00000000e+00,\n",
       "        0.00000000e+00, 0.00000000e+00, 0.00000000e+00, 0.00000000e+00,\n",
       "        0.00000000e+00, 0.00000000e+00, 0.00000000e+00, 0.00000000e+00,\n",
       "        0.00000000e+00, 0.00000000e+00, 0.00000000e+00, 0.00000000e+00,\n",
       "        0.00000000e+00, 0.00000000e+00, 0.00000000e+00, 0.00000000e+00,\n",
       "        0.00000000e+00, 0.00000000e+00, 0.00000000e+00, 0.00000000e+00,\n",
       "        0.00000000e+00, 0.00000000e+00, 0.00000000e+00, 0.00000000e+00,\n",
       "        1.66666667e-07, 1.62162409e-04, 1.11066153e-03, 3.55279552e-03,\n",
       "        8.19569584e-03, 1.57464940e-02, 2.69123214e-02, 4.24003097e-02,\n",
       "        6.29175902e-02, 8.91712944e-02, 1.21868554e-01, 1.61716500e-01,\n",
       "        2.09092436e-01, 2.62521616e-01, 3.19883313e-01, 3.79056133e-01,\n",
       "        4.37918681e-01, 4.94349562e-01, 5.46227382e-01, 5.91430747e-01,\n",
       "        6.27838263e-01, 6.53328534e-01, 6.65780167e-01, 6.63278096e-01,\n",
       "        6.46335693e-01, 6.17047351e-01, 5.77534465e-01, 5.29918430e-01,\n",
       "        4.76320639e-01, 4.18862488e-01, 3.59665371e-01, 3.00850682e-01,\n",
       "        2.44539816e-01, 1.92854167e-01, 1.47875306e-01, 1.10440030e-01,\n",
       "        7.99245406e-02, 5.56217064e-02, 3.68243958e-02, 2.28254775e-02,\n",
       "        1.29178198e-02, 6.39429138e-03, 2.54776071e-03, 6.71096294e-04,\n",
       "        5.71666667e-05, 0.00000000e+00, 0.00000000e+00, 0.00000000e+00,\n",
       "        0.00000000e+00, 0.00000000e+00, 0.00000000e+00, 0.00000000e+00,\n",
       "        0.00000000e+00, 0.00000000e+00, 0.00000000e+00, 0.00000000e+00],\n",
       "       [0.00000000e+00, 0.00000000e+00, 0.00000000e+00, 0.00000000e+00,\n",
       "        0.00000000e+00, 0.00000000e+00, 0.00000000e+00, 0.00000000e+00,\n",
       "        0.00000000e+00, 0.00000000e+00, 0.00000000e+00, 0.00000000e+00,\n",
       "        0.00000000e+00, 0.00000000e+00, 0.00000000e+00, 0.00000000e+00,\n",
       "        0.00000000e+00, 0.00000000e+00, 0.00000000e+00, 0.00000000e+00,\n",
       "        0.00000000e+00, 0.00000000e+00, 0.00000000e+00, 0.00000000e+00,\n",
       "        0.00000000e+00, 0.00000000e+00, 0.00000000e+00, 0.00000000e+00,\n",
       "        0.00000000e+00, 0.00000000e+00, 0.00000000e+00, 0.00000000e+00,\n",
       "        0.00000000e+00, 0.00000000e+00, 0.00000000e+00, 0.00000000e+00,\n",
       "        0.00000000e+00, 0.00000000e+00, 0.00000000e+00, 0.00000000e+00,\n",
       "        0.00000000e+00, 0.00000000e+00, 0.00000000e+00, 0.00000000e+00,\n",
       "        0.00000000e+00, 0.00000000e+00, 0.00000000e+00, 0.00000000e+00,\n",
       "        0.00000000e+00, 0.00000000e+00, 0.00000000e+00, 0.00000000e+00,\n",
       "        0.00000000e+00, 0.00000000e+00, 0.00000000e+00, 0.00000000e+00,\n",
       "        8.24571751e-05, 7.92840596e-04, 2.83811508e-03, 6.92541210e-03,\n",
       "        1.37618631e-02, 2.40545997e-02, 3.85107532e-02, 5.78374552e-02,\n",
       "        8.27418371e-02, 1.13931030e-01, 1.52112167e-01, 1.97854824e-01,\n",
       "        2.50109624e-01, 3.06773173e-01, 3.65724075e-01, 4.24840937e-01,\n",
       "        4.82002364e-01, 5.35086961e-01, 5.81973334e-01, 6.20540089e-01,\n",
       "        6.48665832e-01, 6.64229167e-01, 6.65168435e-01, 6.51289139e-01,\n",
       "        6.24587673e-01, 5.87185432e-01, 5.41203810e-01, 4.88764201e-01,\n",
       "        4.31988001e-01, 3.72996602e-01, 3.13911401e-01, 2.56853791e-01,\n",
       "        2.03945167e-01, 1.57302284e-01, 1.18216396e-01, 8.62090392e-02,\n",
       "        6.05730810e-02, 4.06013903e-02, 2.55868356e-02, 1.48222854e-02,\n",
       "        7.60060819e-03, 3.21467255e-03, 9.57346982e-04, 1.21500000e-04]])"
      ]
     },
     "execution_count": 195,
     "metadata": {},
     "output_type": "execute_result"
    }
   ],
   "source": [
    "bspline_basis"
   ]
  },
  {
   "cell_type": "code",
   "execution_count": 196,
   "metadata": {
    "collapsed": false
   },
   "outputs": [
    {
     "data": {
      "text/plain": [
       "[<matplotlib.lines.Line2D at 0x7f95cb3effd0>,\n",
       " <matplotlib.lines.Line2D at 0x7f95cb225400>,\n",
       " <matplotlib.lines.Line2D at 0x7f95cb225860>,\n",
       " <matplotlib.lines.Line2D at 0x7f95cb225ef0>,\n",
       " <matplotlib.lines.Line2D at 0x7f95cb225d30>,\n",
       " <matplotlib.lines.Line2D at 0x7f95cb1acd30>]"
      ]
     },
     "execution_count": 196,
     "metadata": {},
     "output_type": "execute_result"
    },
    {
     "data": {
      "image/png": "[encoded data removed]",
      "text/plain": [
       "<matplotlib.figure.Figure at 0x7f95cb2728d0>"
      ]
     },
     "metadata": {},
     "output_type": "display_data"
    }
   ],
   "source": [
    "plt.plot(x, bspline_basis.T)"
   ]
  },
  {
   "cell_type": "code",
   "execution_count": 170,
   "metadata": {
    "collapsed": false
   },
   "outputs": [
    {
     "data": {
      "text/plain": [
       "array([0.  , 0.25, 0.5 , 0.75, 1.  ])"
      ]
     },
     "execution_count": 170,
     "metadata": {},
     "output_type": "execute_result"
    }
   ],
   "source": [
    "knot_vector"
   ]
  },
  {
   "cell_type": "code",
   "execution_count": 171,
   "metadata": {
    "collapsed": false
   },
   "outputs": [
    {
     "data": {
      "text/plain": [
       "array([0.        , 0.01010101, 0.02020202, 0.03030303, 0.04040404,\n",
       "       0.05050505, 0.06060606, 0.07070707, 0.08080808, 0.09090909,\n",
       "       0.1010101 , 0.11111111, 0.12121212, 0.13131313, 0.14141414,\n",
       "       0.15151515, 0.16161616, 0.17171717, 0.18181818, 0.19191919,\n",
       "       0.2020202 , 0.21212121, 0.22222222, 0.23232323, 0.24242424,\n",
       "       0.25252525, 0.26262626, 0.27272727, 0.28282828, 0.29292929,\n",
       "       0.3030303 , 0.31313131, 0.32323232, 0.33333333, 0.34343434,\n",
       "       0.35353535, 0.36363636, 0.37373737, 0.38383838, 0.39393939,\n",
       "       0.4040404 , 0.41414141, 0.42424242, 0.43434343, 0.44444444,\n",
       "       0.45454545, 0.46464646, 0.47474747, 0.48484848, 0.49494949,\n",
       "       0.50505051, 0.51515152, 0.52525253, 0.53535354, 0.54545455,\n",
       "       0.55555556, 0.56565657, 0.57575758, 0.58585859, 0.5959596 ,\n",
       "       0.60606061, 0.61616162, 0.62626263, 0.63636364, 0.64646465,\n",
       "       0.65656566, 0.66666667, 0.67676768, 0.68686869, 0.6969697 ,\n",
       "       0.70707071, 0.71717172, 0.72727273, 0.73737374, 0.74747475,\n",
       "       0.75757576, 0.76767677, 0.77777778, 0.78787879, 0.7979798 ,\n",
       "       0.80808081, 0.81818182, 0.82828283, 0.83838384, 0.84848485,\n",
       "       0.85858586, 0.86868687, 0.87878788, 0.88888889, 0.8989899 ,\n",
       "       0.90909091, 0.91919192, 0.92929293, 0.93939394, 0.94949495,\n",
       "       0.95959596, 0.96969697, 0.97979798, 0.98989899, 1.        ])"
      ]
     },
     "execution_count": 171,
     "metadata": {},
     "output_type": "execute_result"
    }
   ],
   "source": [
    "x"
   ]
  },
  {
   "cell_type": "code",
   "execution_count": null,
   "metadata": {
    "collapsed": true
   },
   "outputs": [],
   "source": []
  }
 ],
 "metadata": {
  "kernelspec": {
   "display_name": "Python 3",
   "language": "python",
   "name": "python3"
  },
  "language_info": {
   "codemirror_mode": {
    "name": "ipython",
    "version": 3
   },
   "file_extension": ".py",
   "mimetype": "text/x-python",
   "name": "python",
   "nbconvert_exporter": "python",
   "pygments_lexer": "ipython3",
   "version": "3.6.0"
  }
 },
 "nbformat": 4,
 "nbformat_minor": 2
}
