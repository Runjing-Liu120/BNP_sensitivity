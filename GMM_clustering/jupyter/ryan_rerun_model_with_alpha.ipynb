{
 "cells": [
  {
   "cell_type": "code",
   "execution_count": 1,
   "metadata": {
    "collapsed": true
   },
   "outputs": [],
   "source": [
    "git_repo = '../../..'\n",
    "\n",
    "import sys\n",
    "import os\n",
    "\n",
    "sys.path.insert(0, os.path.join(git_repo, 'BNP_sensitivity/GMM_clustering/'))\n",
    "\n",
    "# Linear response libraries\n",
    "import LinearResponseVariationalBayes as vb\n",
    "import LinearResponseVariationalBayes.SparseObjectives as obj_lib\n",
    "\n",
    "# Local libraries\n",
    "import gmm_clustering_lib as gmm_utils\n",
    "import modeling_lib \n",
    "import functional_sensitivity_lib as fun_sens_lib \n",
    "import utils_lib\n",
    "\n",
    "import matplotlib.pyplot as plt\n",
    "%matplotlib inline\n",
    "\n",
    "from copy import deepcopy\n",
    "\n",
    "import numpy as np\n",
    "import scipy as sp\n",
    "\n",
    "np.random.seed(453453)\n",
    "\n",
    "import json "
   ]
  },
  {
   "cell_type": "code",
   "execution_count": 2,
   "metadata": {},
   "outputs": [
    {
     "ename": "ValueError",
     "evalue": "Wrong size for parameter prior_params.  Expected 15, got 14",
     "output_type": "error",
     "traceback": [
      "\u001b[0;31m---------------------------------------------------------------------------\u001b[0m",
      "\u001b[0;31mValueError\u001b[0m                                Traceback (most recent call last)",
      "\u001b[0;32m<ipython-input-2-389ded120b1d>\u001b[0m in \u001b[0;36m<module>\u001b[0;34m()\u001b[0m\n\u001b[1;32m      6\u001b[0m \u001b[0;32mwith\u001b[0m \u001b[0mopen\u001b[0m\u001b[0;34m(\u001b[0m\u001b[0mjson_input_file\u001b[0m\u001b[0;34m,\u001b[0m \u001b[0;34m'r'\u001b[0m\u001b[0;34m)\u001b[0m \u001b[0;32mas\u001b[0m \u001b[0mfp\u001b[0m\u001b[0;34m:\u001b[0m\u001b[0;34m\u001b[0m\u001b[0m\n\u001b[1;32m      7\u001b[0m     \u001b[0mfit_dict\u001b[0m \u001b[0;34m=\u001b[0m \u001b[0mjson\u001b[0m\u001b[0;34m.\u001b[0m\u001b[0mload\u001b[0m\u001b[0;34m(\u001b[0m\u001b[0mfp\u001b[0m\u001b[0;34m)\u001b[0m\u001b[0;34m\u001b[0m\u001b[0m\n\u001b[0;32m----> 8\u001b[0;31m     \u001b[0mmodel\u001b[0m \u001b[0;34m=\u001b[0m \u001b[0mgmm_utils\u001b[0m\u001b[0;34m.\u001b[0m\u001b[0mget_model_from_checkpoint\u001b[0m\u001b[0;34m(\u001b[0m\u001b[0mfit_dict\u001b[0m\u001b[0;34m)\u001b[0m\u001b[0;34m\u001b[0m\u001b[0m\n\u001b[0m\u001b[1;32m      9\u001b[0m     \u001b[0mmodel_\u001b[0m \u001b[0;34m=\u001b[0m \u001b[0mgmm_utils\u001b[0m\u001b[0;34m.\u001b[0m\u001b[0mget_model_from_checkpoint\u001b[0m\u001b[0;34m(\u001b[0m\u001b[0mfit_dict\u001b[0m\u001b[0;34m)\u001b[0m\u001b[0;34m\u001b[0m\u001b[0m\n\u001b[1;32m     10\u001b[0m     \u001b[0mbest_param\u001b[0m \u001b[0;34m=\u001b[0m \u001b[0mmodel\u001b[0m\u001b[0;34m.\u001b[0m\u001b[0mglobal_vb_params\u001b[0m\u001b[0;34m.\u001b[0m\u001b[0mget_free\u001b[0m\u001b[0;34m(\u001b[0m\u001b[0;34m)\u001b[0m\u001b[0;34m\u001b[0m\u001b[0m\n",
      "\u001b[0;32m~/Documents/git_repos/BNP_sensitivity/GMM_clustering/gmm_clustering_lib.py\u001b[0m in \u001b[0;36mget_model_from_checkpoint\u001b[0;34m(fit_dict)\u001b[0m\n\u001b[1;32m    659\u001b[0m     prior_params_vec = json_tricks.loads(\n\u001b[1;32m    660\u001b[0m         fit_dict['prior_params_vec' + np_string])\n\u001b[0;32m--> 661\u001b[0;31m     \u001b[0mprior_params\u001b[0m\u001b[0;34m.\u001b[0m\u001b[0mset_vector\u001b[0m\u001b[0;34m(\u001b[0m\u001b[0mprior_params_vec\u001b[0m\u001b[0;34m)\u001b[0m\u001b[0;34m\u001b[0m\u001b[0m\n\u001b[0m\u001b[1;32m    662\u001b[0m \u001b[0;34m\u001b[0m\u001b[0m\n\u001b[1;32m    663\u001b[0m     \u001b[0;31m# define gmm\u001b[0m\u001b[0;34m\u001b[0m\u001b[0;34m\u001b[0m\u001b[0m\n",
      "\u001b[0;32m~/Documents/git_repos/LinearResponseVariationalBayes.py/LinearResponseVariationalBayes/ParameterDictionary.py\u001b[0m in \u001b[0;36mset_vector\u001b[0;34m(self, vec)\u001b[0m\n\u001b[1;32m     91\u001b[0m                 'Wrong size for parameter {}.  Expected {}, got {}'.format(\n\u001b[1;32m     92\u001b[0m                     self.name, str(self.__vector_size), str(vec.size))\n\u001b[0;32m---> 93\u001b[0;31m             \u001b[0;32mraise\u001b[0m \u001b[0mValueError\u001b[0m\u001b[0;34m(\u001b[0m\u001b[0merror_string\u001b[0m\u001b[0;34m)\u001b[0m\u001b[0;34m\u001b[0m\u001b[0m\n\u001b[0m\u001b[1;32m     94\u001b[0m         \u001b[0moffset\u001b[0m \u001b[0;34m=\u001b[0m \u001b[0;36m0\u001b[0m\u001b[0;34m\u001b[0m\u001b[0m\n\u001b[1;32m     95\u001b[0m         \u001b[0;32mfor\u001b[0m \u001b[0mparam\u001b[0m \u001b[0;32min\u001b[0m \u001b[0mself\u001b[0m\u001b[0;34m.\u001b[0m\u001b[0mparam_dict\u001b[0m\u001b[0;34m.\u001b[0m\u001b[0mvalues\u001b[0m\u001b[0;34m(\u001b[0m\u001b[0;34m)\u001b[0m\u001b[0;34m:\u001b[0m\u001b[0;34m\u001b[0m\u001b[0m\n",
      "\u001b[0;31mValueError\u001b[0m: Wrong size for parameter prior_params.  Expected 15, got 14"
     ]
    }
   ],
   "source": [
    "# Load results from previous fit.\n",
    "base_filename = 'ryan_iris_bnp_full_data_fit_alpha8.0.json'\n",
    "json_input_file = os.path.join(\n",
    "    git_repo, 'BNP_sensitivity/GMM_clustering/iris_fits/', base_filename)\n",
    "\n",
    "with open(json_input_file, 'r') as fp:\n",
    "    fit_dict = json.load(fp)\n",
    "    model = gmm_utils.get_model_from_checkpoint(fit_dict)\n",
    "    model_ = gmm_utils.get_model_from_checkpoint(fit_dict)\n",
    "    best_param = model.global_vb_params.get_free()\n",
    "    kl_hessian = gmm_utils.get_kl_hessian_from_checkpoint(fit_dict)"
   ]
  },
  {
   "cell_type": "code",
   "execution_count": null,
   "metadata": {},
   "outputs": [],
   "source": [
    "moment_model = gmm_utils.InterestingMoments(model)\n",
    "dg_deta = moment_model.get_moment_jacobian(best_param)\n",
    "linear_sens = gmm_utils.LinearSensitivity(model, moment_model, kl_hessian)"
   ]
  },
  {
   "cell_type": "code",
   "execution_count": null,
   "metadata": {},
   "outputs": [],
   "source": [
    "model_refit = deepcopy(model)\n",
    "print(model.prior_params)"
   ]
  },
  {
   "cell_type": "code",
   "execution_count": null,
   "metadata": {
    "collapsed": true
   },
   "outputs": [],
   "source": [
    "def refit_with_alpha(new_alpha, model, linear_sens):\n",
    "    model_refit = deepcopy(model)\n",
    "    model_refit.prior_params['alpha'].set(new_alpha)\n",
    "    free_par_refit = linear_sens.predict_from_prior_params(\n",
    "        model_refit.prior_params.get_free())\n",
    "    model_refit.optimize_full(free_par_refit,\n",
    "        init_max_iter=100,\n",
    "        final_max_iter=500)\n",
    "    return free_par_refit, model_refit.global_vb_params.get_free()\n"
   ]
  },
  {
   "cell_type": "code",
   "execution_count": null,
   "metadata": {
    "scrolled": false
   },
   "outputs": [],
   "source": [
    "alpha_vec = np.linspace(1, 14, num=14)\n",
    "print(alpha_vec)\n",
    "free_par_refit_list = []\n",
    "free_par_refit_lr_list = []\n",
    "for alpha in alpha_vec:\n",
    "    print('\\n\\nalpha: ', alpha)\n",
    "    free_par_refit, free_par_refit_lr = refit_with_alpha(alpha, model, linear_sens)\n",
    "    free_par_refit_list.append(free_par_refit)\n",
    "    free_par_refit_lr_list.append(free_par_refit_lr)\n",
    "        "
   ]
  },
  {
   "cell_type": "code",
   "execution_count": null,
   "metadata": {
    "collapsed": true
   },
   "outputs": [],
   "source": [
    "# fit_dict = gmm_utils.get_checkpoint_dictionary(model, kl_hessian, seed=453453)\n",
    "# base_alpha = model.prior_params['alpha'].get()\n",
    "# filename = 'ryan_iris_bnp_full_data_fit_alpha{}.json'.format(base_alpha)\n",
    "# json_output_file = os.path.join(\n",
    "#     git_repo,\n",
    "#     'BNP_sensitivity/GMM_clustering/iris_fits/',\n",
    "#     filename)\n",
    "# print('saving fit dict to ', json_output_file)\n",
    "# with open(json_output_file, 'w') as outfile:\n",
    "#     json.dump(fit_dict, outfile)\n"
   ]
  },
  {
   "cell_type": "code",
   "execution_count": null,
   "metadata": {},
   "outputs": [],
   "source": [
    "i = 5\n",
    "print(np.linalg.norm(free_par_refit_list[i]))\n",
    "plt.plot(free_par_refit_list[i] - best_param, free_par_refit_lr_list[i] - best_param, 'k.')\n",
    "plt.plot(free_par_refit_list[i] - best_param, free_par_refit_list[i] - best_param, 'r')"
   ]
  },
  {
   "cell_type": "code",
   "execution_count": null,
   "metadata": {},
   "outputs": [],
   "source": [
    "import json\n",
    "import json_tricks\n",
    "import checkpoints\n",
    "import re\n",
    "\n",
    "np_string = checkpoints.np_string\n",
    "fit_dict = {}\n",
    "fit_dict['free_par_refit_list' + np_string] = json_tricks.dumps(free_par_refit_list)\n",
    "fit_dict['free_par_refit_lr_list' + np_string] = json_tricks.dumps(free_par_refit_lr_list)\n",
    "fit_dict['alpha_vec' + np_string] = json_tricks.dumps(alpha_vec)\n",
    "fit_dict['json_input_file'] = json_input_file\n",
    "\n",
    "output_filename = re.sub('\\.json$', '', base_filename) + '_alpha_refit.json'\n",
    "json_output_file = os.path.join(\n",
    "    git_repo, 'BNP_sensitivity/GMM_clustering/iris_fits/',\n",
    "    output_filename)\n",
    "print(json_output_file)\n",
    "print('saving fit dict to ', json_output_file)\n",
    "with open(json_output_file, 'w') as outfile:\n",
    "    json.dump(fit_dict, outfile)\n"
   ]
  }
 ],
 "metadata": {
  "kernelspec": {
   "display_name": "Python 3",
   "language": "python",
   "name": "python3"
  },
  "language_info": {
   "codemirror_mode": {
    "name": "ipython",
    "version": 3
   },
   "file_extension": ".py",
   "mimetype": "text/x-python",
   "name": "python",
   "nbconvert_exporter": "python",
   "pygments_lexer": "ipython3",
   "version": "3.5.2"
  }
 },
 "nbformat": 4,
 "nbformat_minor": 2
}
