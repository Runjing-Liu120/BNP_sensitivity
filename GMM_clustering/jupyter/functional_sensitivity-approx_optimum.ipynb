{
 "cells": [
  {
   "cell_type": "markdown",
   "metadata": {},
   "source": [
    "This notebook demonstrates use of our linear approximation for a multiplicative functional perturbation "
   ]
  },
  {
   "cell_type": "code",
   "execution_count": 1,
   "metadata": {},
   "outputs": [
    {
     "name": "stderr",
     "output_type": "stream",
     "text": [
      "/home/rliu/anaconda3/envs/bnp_sensitivity/lib/python3.8/site-packages/autograd/core.py:290: UserWarning: \n",
      "The defvjp method is deprecated. See the update guide and tutorial:\n",
      "https://github.com/HIPS/autograd/blob/master/docs/updateguide.md\n",
      "https://github.com/HIPS/autograd/blob/master/docs/tutorial.md\n",
      "  warnings.warn(deprecation_msg)\n"
     ]
    }
   ],
   "source": [
    "import autograd \n",
    "from autograd import numpy as np\n",
    "from autograd import scipy as sp\n",
    "\n",
    "import scipy as osp\n",
    "\n",
    "from numpy.polynomial.hermite import hermgauss\n",
    "\n",
    "np.random.seed(453453)\n",
    "\n",
    "import paragami\n",
    "\n",
    "# BNP sensitivity libraries\n",
    "import sys\n",
    "import bnpgmm_runjingdev.gmm_clustering_lib as gmm_lib\n",
    "from bnpmodeling_runjingdev import modeling_lib \n",
    "import bnpgmm_runjingdev.gmm_preconditioner_lib as precond_lib\n",
    "import bnpgmm_runjingdev.gmm_cavi_lib as cavi_lib\n",
    "\n",
    "import bnpgmm_runjingdev.functional_sensitivity_lib as fun_sens_lib \n",
    "from bnpgmm_runjingdev import utils_lib\n",
    "\n",
    "\n",
    "from bnpmodeling_runjingdev import optimization_lib \n",
    "from bnpmodeling_runjingdev import cluster_quantities_lib as cluster_lib\n",
    "\n",
    "import matplotlib.pyplot as plt\n",
    "%matplotlib inline\n",
    "\n",
    "from sklearn.decomposition import PCA\n",
    "\n",
    "from copy import deepcopy\n",
    "\n",
    "import vittles\n",
    "from tqdm import tqdm\n",
    "\n",
    "import json \n",
    "import time"
   ]
  },
  {
   "cell_type": "code",
   "execution_count": 2,
   "metadata": {},
   "outputs": [],
   "source": [
    "# colors for plotting\n",
    "import matplotlib.cm as cm\n",
    "\n",
    "cmap = cm.get_cmap(name='gist_rainbow')\n",
    "colors1 = [cmap(k * 50) for k in range(12)]\n",
    "colors2 = [cmap(k * 25) for k in range(12)]"
   ]
  },
  {
   "cell_type": "markdown",
   "metadata": {},
   "source": [
    "# Load data"
   ]
  },
  {
   "cell_type": "markdown",
   "metadata": {},
   "source": [
    "We load and plot the iris dataset"
   ]
  },
  {
   "cell_type": "code",
   "execution_count": 3,
   "metadata": {},
   "outputs": [],
   "source": [
    "# load iris data\n",
    "dataset_name = 'iris'\n",
    "features, iris_species = utils_lib.load_data()\n",
    "dim = features.shape[1]\n",
    "n_obs = len(iris_species)    "
   ]
  },
  {
   "cell_type": "code",
   "execution_count": 4,
   "metadata": {},
   "outputs": [
    {
     "data": {
      "text/plain": [
       "Text(0, 0.5, 'PC2')"
      ]
     },
     "execution_count": 4,
     "metadata": {},
     "output_type": "execute_result"
    },
    {
     "data": {
      "image/png": "[encoded data removed]",
      "text/plain": [
       "<Figure size 432x288 with 1 Axes>"
      ]
     },
     "metadata": {
      "needs_background": "light"
     },
     "output_type": "display_data"
    }
   ],
   "source": [
    "# run PCA\n",
    "pca_fit = PCA()\n",
    "pca_fit.fit(features)\n",
    "pc_features = pca_fit.transform(features)\n",
    "\n",
    "# plot\n",
    "cmap = cm.get_cmap(name='gist_rainbow')\n",
    "colors1 = [cmap(k * 50) for k in range(30)]\n",
    "\n",
    "fig1 = plt.figure(1)\n",
    "fig = fig1.add_subplot(111)\n",
    "utils_lib.plot_clusters(pc_features[:, 0], pc_features[:, 1], iris_species, colors1, fig)\n",
    "fig.set_xlabel('PC1')\n",
    "fig.set_ylabel('PC2')\n"
   ]
  },
  {
   "cell_type": "markdown",
   "metadata": {},
   "source": [
    "# Load model"
   ]
  },
  {
   "cell_type": "markdown",
   "metadata": {},
   "source": [
    "### Get prior "
   ]
  },
  {
   "cell_type": "code",
   "execution_count": 5,
   "metadata": {},
   "outputs": [],
   "source": [
    "prior_params_dict, prior_params_paragami = gmm_lib.get_default_prior_params(dim)"
   ]
  },
  {
   "cell_type": "code",
   "execution_count": 6,
   "metadata": {},
   "outputs": [
    {
     "name": "stdout",
     "output_type": "stream",
     "text": [
      "{'alpha': array([3.]), 'prior_centroid_mean': array([0.]), 'prior_lambda': array([1.]), 'prior_wishart_df': array([10.]), 'prior_wishart_rate': array([[1., 0., 0., 0.],\n",
      "       [0., 1., 0., 0.],\n",
      "       [0., 0., 1., 0.],\n",
      "       [0., 0., 0., 1.]])}\n"
     ]
    }
   ],
   "source": [
    "print(prior_params_dict)"
   ]
  },
  {
   "cell_type": "code",
   "execution_count": 7,
   "metadata": {},
   "outputs": [],
   "source": [
    "# DP prior parameter \n",
    "prior_params_dict['alpha'] = 12."
   ]
  },
  {
   "cell_type": "markdown",
   "metadata": {},
   "source": [
    "### Variational parameters"
   ]
  },
  {
   "cell_type": "code",
   "execution_count": 8,
   "metadata": {},
   "outputs": [],
   "source": [
    "k_approx = 30"
   ]
  },
  {
   "cell_type": "code",
   "execution_count": 9,
   "metadata": {},
   "outputs": [],
   "source": [
    "# Gauss-Hermite points\n",
    "gh_deg = 20\n",
    "gh_loc, gh_weights = hermgauss(gh_deg)"
   ]
  },
  {
   "cell_type": "code",
   "execution_count": 10,
   "metadata": {},
   "outputs": [],
   "source": [
    "# get vb parameters\n",
    "vb_params_dict, vb_params_paragami = gmm_lib.get_vb_params_paragami_object(dim, k_approx)"
   ]
  },
  {
   "cell_type": "code",
   "execution_count": 11,
   "metadata": {},
   "outputs": [
    {
     "data": {
      "text/plain": [
       "2009.3998815516827"
      ]
     },
     "execution_count": 11,
     "metadata": {},
     "output_type": "execute_result"
    }
   ],
   "source": [
    "# the objective \n",
    "gmm_lib.get_kl(features, vb_params_dict, prior_params_dict, gh_loc, gh_weights)"
   ]
  },
  {
   "cell_type": "markdown",
   "metadata": {},
   "source": [
    "# Optimize"
   ]
  },
  {
   "cell_type": "markdown",
   "metadata": {},
   "source": [
    "### Kmeans"
   ]
  },
  {
   "cell_type": "code",
   "execution_count": 12,
   "metadata": {},
   "outputs": [
    {
     "name": "stdout",
     "output_type": "stream",
     "text": [
      "initial kl: \n",
      "6947.284936070855\n"
     ]
    }
   ],
   "source": [
    "# run a kmeans init\n",
    "n_kmeans_init = 10\n",
    "init_vb_free_params, init_vb_params_dict, init_ez = \\\n",
    "    utils_lib.cluster_and_get_k_means_inits(features, vb_params_paragami, \n",
    "                                                n_kmeans_init = n_kmeans_init, \n",
    "                                                seed = 3445)\n",
    "                                                \n",
    "print('initial kl: ')\n",
    "print(gmm_lib.get_kl(features, init_vb_params_dict, prior_params_dict, gh_loc, gh_weights))"
   ]
  },
  {
   "cell_type": "markdown",
   "metadata": {},
   "source": [
    "## Run CAVI"
   ]
  },
  {
   "cell_type": "code",
   "execution_count": 13,
   "metadata": {},
   "outputs": [],
   "source": [
    "x_tol = 1e-3"
   ]
  },
  {
   "cell_type": "code",
   "execution_count": 14,
   "metadata": {},
   "outputs": [],
   "source": [
    "vb_params_dict = deepcopy(init_vb_params_dict)"
   ]
  },
  {
   "cell_type": "code",
   "execution_count": 15,
   "metadata": {},
   "outputs": [
    {
     "name": "stdout",
     "output_type": "stream",
     "text": [
      "done. num iterations = 119\n",
      "stick_time: 0.661sec\n",
      "cluster_time: 0.061sec\n",
      "e_z_time: 0.162sec\n",
      "**TOTAL time: 1.972sec**\n"
     ]
    }
   ],
   "source": [
    "vb_cavi_dict, ez_cavi = cavi_lib.run_cavi(features, vb_params_dict,\n",
    "                                            vb_params_paragami, prior_params_dict,\n",
    "                                            gh_loc, gh_weights,\n",
    "                                            debug = False, \n",
    "                                         x_tol = x_tol)"
   ]
  },
  {
   "cell_type": "code",
   "execution_count": 16,
   "metadata": {},
   "outputs": [],
   "source": [
    "def plot_results_from_vb_params_dict(pca_fit, vb_params_dict, e_z, fig): \n",
    "    # we plot in PCA space\n",
    "    bnp_centroids_pc, bnp_cluster_covs_pc = \\\n",
    "        utils_lib.transform_params_to_pc_space(pca_fit, vb_params_dict['cluster_params']['centroids'], \n",
    "                                               np.linalg.inv(vb_params_dict['cluster_params']['cluster_info']))\n",
    "    \n",
    "    bnp_clusters = np.argmax(e_z, axis = 1)\n",
    "    \n",
    "    cmap = cm.get_cmap(name='gist_rainbow')\n",
    "    colors1 = [cmap(k * 50) for k in range(30)]\n",
    "\n",
    "    utils_lib.plot_clusters(pc_features[:, 0], pc_features[:, 1], bnp_clusters, \\\n",
    "                  colors1, fig, \\\n",
    "                  centroids = bnp_centroids_pc[:, np.unique(bnp_clusters)], \n",
    "                cov = bnp_cluster_covs_pc[np.unique(bnp_clusters)])\n"
   ]
  },
  {
   "cell_type": "code",
   "execution_count": 17,
   "metadata": {},
   "outputs": [
    {
     "data": {
      "text/plain": [
       "Text(0, 0.5, 'PC2')"
      ]
     },
     "execution_count": 17,
     "metadata": {},
     "output_type": "execute_result"
    },
    {
     "data": {
      "image/png": "[encoded data removed]",
      "text/plain": [
       "<Figure size 432x288 with 1 Axes>"
      ]
     },
     "metadata": {
      "needs_background": "light"
     },
     "output_type": "display_data"
    }
   ],
   "source": [
    "fig1 = plt.figure(1)\n",
    "fig = fig1.add_subplot(111)\n",
    "\n",
    "plot_results_from_vb_params_dict(pca_fit, vb_cavi_dict, ez_cavi, fig)\n",
    "fig.set_xlabel('PC1', fontsize = 18)\n",
    "fig.set_ylabel('PC2', fontsize = 18)\n"
   ]
  },
  {
   "cell_type": "code",
   "execution_count": 18,
   "metadata": {},
   "outputs": [],
   "source": [
    "vb_cavi_free = vb_params_paragami.flatten(vb_cavi_dict, free = True)"
   ]
  },
  {
   "cell_type": "markdown",
   "metadata": {},
   "source": [
    "## A few more Newton steps; for comparison later"
   ]
  },
  {
   "cell_type": "code",
   "execution_count": 19,
   "metadata": {},
   "outputs": [],
   "source": [
    "continue_with_newton = True"
   ]
  },
  {
   "cell_type": "code",
   "execution_count": 20,
   "metadata": {},
   "outputs": [
    {
     "name": "stdout",
     "output_type": "stream",
     "text": [
      "Iter 0: f = -318.52251934\n",
      "Iter 1: f = -318.52264234\n",
      "Iter 2: f = -318.52264239\n",
      "Optimization terminated successfully.\n",
      "         Current function value: -318.522642\n",
      "         Iterations: 2\n",
      "         Function evaluations: 3\n",
      "         Gradient evaluations: 3\n",
      "         Hessian evaluations: 82\n",
      "\n",
      "linf diff in vb_params:  0.020896004879003005\n"
     ]
    }
   ],
   "source": [
    "if continue_with_newton: \n",
    "    \n",
    "    get_vb_params_loss = paragami.FlattenFunctionInput(\n",
    "                                original_fun=gmm_lib.get_kl, \n",
    "                                patterns = vb_params_paragami,\n",
    "                                free = True,\n",
    "                                argnums = 1)\n",
    "\n",
    "    get_loss_objective = \\\n",
    "        paragami.OptimizationObjective(lambda x : \\\n",
    "                                       get_vb_params_loss(features, x, prior_params_dict, gh_loc, gh_weights))\n",
    "    \n",
    "    res = osp.optimize.minimize(\n",
    "                fun=get_loss_objective.f,\n",
    "                jac=get_loss_objective.grad,\n",
    "                hessp=get_loss_objective.hessian_vector_product,\n",
    "                x0=deepcopy(vb_cavi_free), \n",
    "                method='trust-ncg', options={'disp':True})\n",
    "    \n",
    "    \n",
    "    print('\\nlinf diff in vb_params: ', np.abs(res.x - vb_cavi_free).max())\n",
    "    \n",
    "    vb_newton_free = deepcopy(res.x)\n",
    "    vb_newton_dict = vb_params_paragami.fold(vb_newton_free, free = True)\n",
    "    ez_newton = gmm_lib.get_optimal_z_from_vb_params_dict(features, vb_newton_dict,\n",
    "                                                        gh_loc, gh_weights)\n"
   ]
  },
  {
   "cell_type": "markdown",
   "metadata": {},
   "source": [
    "# Define a perturbation in the logit v space."
   ]
  },
  {
   "cell_type": "code",
   "execution_count": 21,
   "metadata": {},
   "outputs": [],
   "source": [
    "def log_phi(logit_v):\n",
    "    return(sp.special.expit(logit_v))\n",
    "\n",
    "def phi(logit_v):\n",
    "    return np.exp(log_phi(logit_v))\n"
   ]
  },
  {
   "cell_type": "code",
   "execution_count": 22,
   "metadata": {},
   "outputs": [
    {
     "name": "stdout",
     "output_type": "stream",
     "text": [
      "phi max:  2.717370405124736\n",
      "log phi max:  0.9996646498695336\n"
     ]
    }
   ],
   "source": [
    "logit_v_grid = np.linspace(-8, 8, 200)\n",
    "\n",
    "v_grid = np.exp(logit_v_grid) / (1 + np.exp(logit_v_grid))\n",
    "\n",
    "print('phi max: ', np.max(phi(logit_v_grid)))\n",
    "log_phi_max = np.max(np.abs(np.log(phi(logit_v_grid))))\n",
    "print('log phi max: ', log_phi_max)\n",
    "\n",
    "def rescaled_log_phi(logit_v):\n",
    "    return 10 * log_phi(logit_v) / log_phi_max\n"
   ]
  },
  {
   "cell_type": "code",
   "execution_count": 23,
   "metadata": {},
   "outputs": [
    {
     "name": "stdout",
     "output_type": "stream",
     "text": [
      "-2.4849066497879995 1.1634968823127927 -2.4889315240780148 1.1662640532746475\n"
     ]
    }
   ],
   "source": [
    "prior_perturbation = fun_sens_lib.PriorPerturbation(\n",
    "                                alpha0 = prior_params_dict['alpha'],\n",
    "                                log_phi = rescaled_log_phi, \n",
    "                                logit_v_ub=8, logit_v_lb = -8)\n",
    "\n",
    "print(\n",
    "    prior_perturbation.log_norm_p0,\n",
    "    prior_perturbation.log_norm_pc,\n",
    "    prior_perturbation.log_norm_p0_logit,\n",
    "    prior_perturbation.log_norm_pc_logit)"
   ]
  },
  {
   "cell_type": "code",
   "execution_count": 24,
   "metadata": {},
   "outputs": [
    {
     "data": {
      "text/plain": [
       "Text(0.5, 1.0, 'Priors in logit space')"
      ]
     },
     "execution_count": 24,
     "metadata": {},
     "output_type": "execute_result"
    },
    {
     "data": {
      "image/png": "[encoded data removed]",
      "text/plain": [
       "<Figure size 1296x360 with 4 Axes>"
      ]
     },
     "metadata": {
      "needs_background": "light"
     },
     "output_type": "display_data"
    }
   ],
   "source": [
    "prior_perturbation.set_epsilon(1.0)\n",
    "\n",
    "plt.figure(1, figsize=(18, 5))\n",
    "\n",
    "plt.subplot(141)\n",
    "plt.plot(logit_v_grid, prior_perturbation.get_log_p0_logit(logit_v_grid))\n",
    "plt.plot(logit_v_grid, prior_perturbation.get_log_pc_logit(logit_v_grid))\n",
    "plt.title('Log priors in logit space')\n",
    "\n",
    "plt.subplot(142)\n",
    "plt.plot(logit_v_grid, prior_perturbation.log_phi(logit_v_grid))\n",
    "plt.title('log phi in logit space')\n",
    "\n",
    "plt.subplot(143)\n",
    "plt.plot(v_grid, np.exp(prior_perturbation.get_log_p0(v_grid)))\n",
    "plt.plot(v_grid, np.exp(prior_perturbation.get_log_pc(v_grid)))\n",
    "plt.title('Priors in stick space')\n",
    "\n",
    "plt.subplot(144)\n",
    "plt.plot(logit_v_grid, np.exp(prior_perturbation.get_log_p0_logit(logit_v_grid)))\n",
    "plt.plot(logit_v_grid, np.exp(prior_perturbation.get_log_pc_logit(logit_v_grid)))\n",
    "plt.title('Priors in logit space')\n"
   ]
  },
  {
   "cell_type": "code",
   "execution_count": 45,
   "metadata": {},
   "outputs": [
    {
     "data": {
      "text/plain": [
       "<matplotlib.legend.Legend at 0x7f7dbfa55850>"
      ]
     },
     "execution_count": 45,
     "metadata": {},
     "output_type": "execute_result"
    },
    {
     "data": {
      "image/png": "[encoded data removed]",
      "text/plain": [
       "<Figure size 432x288 with 1 Axes>"
      ]
     },
     "metadata": {
      "needs_background": "light"
     },
     "output_type": "display_data"
    }
   ],
   "source": [
    "plt.plot(logit_v_grid, np.exp(prior_perturbation.get_log_p0_logit(logit_v_grid)), label = 'p0')\n",
    "plt.plot(logit_v_grid, np.exp(prior_perturbation.get_log_pc_logit(logit_v_grid)), label = 'p1')\n",
    "plt.xlabel('logit stick')\n",
    "plt.legend()"
   ]
  },
  {
   "cell_type": "markdown",
   "metadata": {
    "collapsed": true
   },
   "source": [
    "# Define prior perturbation"
   ]
  },
  {
   "cell_type": "code",
   "execution_count": 25,
   "metadata": {},
   "outputs": [],
   "source": [
    "# we will use this for the sensitivity class\n",
    "get_epsilon_vb_loss = paragami.FlattenFunctionInput(\n",
    "    lambda params, epsilon: fun_sens_lib.get_perturbed_kl(\n",
    "                                                        features, \n",
    "                                                        params,\n",
    "                                                        epsilon,\n",
    "                                                        rescaled_log_phi,\n",
    "                                                        prior_params_dict, \n",
    "                                                        gh_loc, gh_weights),\n",
    "    argnums=0, patterns=vb_params_paragami, free=True)\n",
    "    \n",
    "hyper_par_objective_fun = paragami.FlattenFunctionInput(\n",
    "    lambda params, epsilon: fun_sens_lib.get_e_log_perturbation(\n",
    "                                                                rescaled_log_phi, \n",
    "                                                                params,\n",
    "                                                                epsilon,\n",
    "                                                                gh_loc, gh_weights),\n",
    "    argnums=0, patterns=vb_params_paragami, free=True)"
   ]
  },
  {
   "cell_type": "code",
   "execution_count": 26,
   "metadata": {},
   "outputs": [],
   "source": [
    "epsilon0 = np.array([0.])"
   ]
  },
  {
   "cell_type": "code",
   "execution_count": 27,
   "metadata": {},
   "outputs": [
    {
     "name": "stdout",
     "output_type": "stream",
     "text": [
      "derivative time: 9.623sec\n"
     ]
    }
   ],
   "source": [
    "get_full_hessian = False \n",
    "\n",
    "if get_full_hessian:\n",
    "    hess_solver = None\n",
    "else: \n",
    "    # get cg solver \n",
    "    preconditioner = precond_lib.get_gmm_preconditioner(vb_cavi_free, vb_params_paragami)\n",
    "    obj_fun_hvp = autograd.hessian_vector_product(get_epsilon_vb_loss, argnum = 0)\n",
    "    \n",
    "    hess_solver = vittles.solver_lib.get_cg_solver(lambda x : obj_fun_hvp(vb_cavi_free, epsilon0, x), \n",
    "                                                            dim = len(vb_cavi_free), \n",
    "                                                            cg_opts={'M':preconditioner})\n",
    "    \n",
    "    \n",
    "t0 = time.time()\n",
    "epsilon_sens = \\\n",
    "    vittles.HyperparameterSensitivityLinearApproximation(\n",
    "        objective_fun = get_epsilon_vb_loss, \n",
    "        opt_par_value = vb_cavi_free, \n",
    "        hyper_par_value = epsilon0, \n",
    "        hess_solver = hess_solver, \n",
    "        hyper_par_objective_fun = hyper_par_objective_fun)\n",
    "\n",
    "print('derivative time: {}sec'.format(np.round(time.time() - t0, 3)))"
   ]
  },
  {
   "cell_type": "code",
   "execution_count": 28,
   "metadata": {},
   "outputs": [
    {
     "name": "stdout",
     "output_type": "stream",
     "text": [
      "derivative time: 9.966sec\n"
     ]
    }
   ],
   "source": [
    "if continue_with_newton: \n",
    "    \n",
    "    if get_full_hessian:\n",
    "        hess_solver = None\n",
    "    else: \n",
    "        # get cg solver \n",
    "        preconditioner = precond_lib.get_gmm_preconditioner(vb_newton_free, vb_params_paragami)\n",
    "\n",
    "        newton_hess_solver = vittles.solver_lib.get_cg_solver(lambda x : obj_fun_hvp(vb_newton_free, \n",
    "                                                                              epsilon0, x), \n",
    "                                                                dim = len(vb_cavi_free), \n",
    "                                                                cg_opts={'M':preconditioner})\n",
    "    \n",
    "\n",
    "    t0 = time.time()\n",
    "    epsilon_sens_newton = \\\n",
    "        vittles.HyperparameterSensitivityLinearApproximation(\n",
    "            objective_fun = get_epsilon_vb_loss, \n",
    "            opt_par_value = vb_newton_free, \n",
    "            hyper_par_value = epsilon0, \n",
    "            hess_solver = newton_hess_solver, \n",
    "            hyper_par_objective_fun = hyper_par_objective_fun)\n",
    "\n",
    "    print('derivative time: {}sec'.format(np.round(time.time() - t0, 3)))"
   ]
  },
  {
   "cell_type": "markdown",
   "metadata": {},
   "source": [
    "## Get predicted perturbation"
   ]
  },
  {
   "cell_type": "code",
   "execution_count": 29,
   "metadata": {},
   "outputs": [
    {
     "name": "stdout",
     "output_type": "stream",
     "text": [
      "Epsilon:  0.1\n",
      "Predicted differences:  0.40616254092931126\n"
     ]
    }
   ],
   "source": [
    "epsilon = 0.1\n",
    "print('Epsilon: ', epsilon)\n",
    "\n",
    "vb_pert_pred = epsilon_sens.predict_opt_par_from_hyper_par(epsilon)\n",
    "\n",
    "if continue_with_newton: \n",
    "    vb_pert_pred_newton = epsilon_sens_newton.predict_opt_par_from_hyper_par(epsilon)\n",
    "\n",
    "print('Predicted differences: ', np.linalg.norm(vb_pert_pred - vb_cavi_free))"
   ]
  },
  {
   "cell_type": "markdown",
   "metadata": {},
   "source": [
    "## Fit with perturbation"
   ]
  },
  {
   "cell_type": "code",
   "execution_count": 30,
   "metadata": {},
   "outputs": [],
   "source": [
    "new_init_dict = deepcopy(vb_cavi_dict)\n",
    "# new_init_dict = deepcopy(init_vb_params_dict)\n",
    "new_init_free = vb_params_paragami.flatten(new_init_dict, free = True)"
   ]
  },
  {
   "cell_type": "code",
   "execution_count": 31,
   "metadata": {},
   "outputs": [
    {
     "name": "stdout",
     "output_type": "stream",
     "text": [
      "done. num iterations = 34\n",
      "stick_time: 0.958sec\n",
      "cluster_time: 0.022sec\n",
      "e_z_time: 0.055sec\n",
      "**TOTAL time: 1.398sec**\n"
     ]
    }
   ],
   "source": [
    "vb_pert_dict, e_z_pert = cavi_lib.run_cavi(features, deepcopy(new_init_dict),\n",
    "                                        vb_params_paragami, prior_params_dict,\n",
    "                                        gh_loc, gh_weights,\n",
    "                                        log_phi = rescaled_log_phi, epsilon = epsilon, \n",
    "                                       debug = False)\n",
    "\n",
    "vb_pert_opt = vb_params_paragami.flatten(vb_pert_dict, free = True)"
   ]
  },
  {
   "cell_type": "markdown",
   "metadata": {},
   "source": [
    "## Compare LR with refitting "
   ]
  },
  {
   "cell_type": "code",
   "execution_count": 32,
   "metadata": {},
   "outputs": [],
   "source": [
    "def print_diff_plot(lr_vb_free_params, vb_pert_opt, vb_opt): \n",
    "    plt.plot(lr_vb_free_params - vb_opt, \n",
    "             vb_pert_opt - vb_opt, \n",
    "             '+', color = 'red')\n",
    "\n",
    "    plt.plot(lr_vb_free_params - vb_opt, \n",
    "            lr_vb_free_params - vb_opt, \n",
    "             '-', color = 'blue')\n",
    "\n",
    "    plt.xlabel('lr')\n",
    "    plt.ylabel('re-optimized')"
   ]
  },
  {
   "cell_type": "code",
   "execution_count": 33,
   "metadata": {},
   "outputs": [
    {
     "data": {
      "image/png": "[encoded data removed]",
      "text/plain": [
       "<Figure size 432x288 with 1 Axes>"
      ]
     },
     "metadata": {
      "needs_background": "light"
     },
     "output_type": "display_data"
    }
   ],
   "source": [
    "print_diff_plot(vb_pert_pred, vb_pert_opt, new_init_free)"
   ]
  },
  {
   "cell_type": "code",
   "execution_count": 34,
   "metadata": {},
   "outputs": [
    {
     "data": {
      "image/png": "[encoded data removed]",
      "text/plain": [
       "<Figure size 432x288 with 1 Axes>"
      ]
     },
     "metadata": {
      "needs_background": "light"
     },
     "output_type": "display_data"
    }
   ],
   "source": [
    "if continue_with_newton: \n",
    "    print_diff_plot(vb_pert_pred_newton, vb_pert_opt, new_init_free)"
   ]
  },
  {
   "cell_type": "code",
   "execution_count": 35,
   "metadata": {},
   "outputs": [
    {
     "name": "stdout",
     "output_type": "stream",
     "text": [
      "original expected number of clusters:  5.235524721671624\n",
      "perturbed expected number of clusters:  5.169437827136701\n",
      "predicted expected number of clusters:  5.1731021957248515\n",
      "predicted expected number of clusters (newton):  5.169485854646144\n"
     ]
    }
   ],
   "source": [
    "print('original expected number of clusters: ',\n",
    "    cluster_lib.get_e_num_clusters_from_ez(ez_cavi))\n",
    "\n",
    "\n",
    "ez_pert = gmm_lib.get_optimal_z_from_vb_params_dict(features, \n",
    "                                                   vb_params_paragami.fold(vb_pert_opt, free = True), \n",
    "                                                   gh_loc, gh_weights)\n",
    "print('perturbed expected number of clusters: ',\n",
    "    cluster_lib.get_e_num_clusters_from_ez(ez_pert))\n",
    "\n",
    "ez_pert_pred = gmm_lib.get_optimal_z_from_vb_params_dict(features, \n",
    "                                                   vb_params_paragami.fold(vb_pert_pred, free = True), \n",
    "                                                   gh_loc, gh_weights)\n",
    "print('predicted expected number of clusters: ',\n",
    "    cluster_lib.get_e_num_clusters_from_ez(ez_pert_pred))\n",
    "\n",
    "if continue_with_newton: \n",
    "    ez_pert_pred_newton = gmm_lib.get_optimal_z_from_vb_params_dict(features, \n",
    "                                                       vb_params_paragami.fold(vb_pert_pred_newton, free = True), \n",
    "                                                       gh_loc, gh_weights)\n",
    "    print('predicted expected number of clusters (newton): ',\n",
    "        cluster_lib.get_e_num_clusters_from_ez(ez_pert_pred_newton))"
   ]
  },
  {
   "cell_type": "code",
   "execution_count": null,
   "metadata": {},
   "outputs": [],
   "source": []
  },
  {
   "cell_type": "markdown",
   "metadata": {
    "collapsed": true
   },
   "source": [
    "# Predict for a range of perturbations"
   ]
  },
  {
   "cell_type": "code",
   "execution_count": 36,
   "metadata": {},
   "outputs": [
    {
     "name": "stdout",
     "output_type": "stream",
     "text": [
      "[0.         0.00510204 0.02040816 0.04591837 0.08163265 0.12755102\n",
      " 0.18367347 0.25       0.32653061 0.41326531 0.51020408 0.61734694\n",
      " 0.73469388 0.8622449  1.        ]\n"
     ]
    }
   ],
   "source": [
    "# The range of epsilons we shall consider\n",
    "epsilon_vec = np.linspace(0, 1, 15) ** 2 # Square to get more points close to 0\n",
    "print(epsilon_vec)"
   ]
  },
  {
   "cell_type": "code",
   "execution_count": 37,
   "metadata": {},
   "outputs": [],
   "source": [
    "def refit_with_epsilon(epsilon, new_init_dict):\n",
    "    # sets new epsilon, returns new vb optimum\n",
    "\n",
    "    vb_pert_dict, e_z_pert = cavi_lib.run_cavi(features, deepcopy(new_init_dict),\n",
    "                                        vb_params_paragami, prior_params_dict,\n",
    "                                        gh_loc, gh_weights,\n",
    "                                        log_phi = rescaled_log_phi, epsilon = epsilon, \n",
    "                                       debug = False)\n",
    "    \n",
    "    return vb_params_paragami.flatten(vb_pert_dict, free = True)"
   ]
  },
  {
   "cell_type": "code",
   "execution_count": 38,
   "metadata": {
    "scrolled": false
   },
   "outputs": [
    {
     "name": "stdout",
     "output_type": "stream",
     "text": [
      "\n",
      "\n",
      "Epsilon:  0.0\n",
      "done. num iterations = 2\n",
      "stick_time: 0.092sec\n",
      "cluster_time: 0.002sec\n",
      "e_z_time: 0.005sec\n",
      "**TOTAL time: 0.135sec**\n",
      "Predicted differences:  0.0\n",
      "Actual differences: (This is nonzero if phi did anything): 0.005208619721216611\n",
      "\n",
      "\n",
      "Epsilon:  0.00510204081632653\n",
      "done. num iterations = 11\n",
      "stick_time: 0.405sec\n",
      "cluster_time: 0.009sec\n",
      "e_z_time: 0.023sec\n",
      "**TOTAL time: 0.582sec**\n",
      "Predicted differences:  0.020722578618842337\n",
      "Actual differences: (This is nonzero if phi did anything): 0.01959886603898237\n",
      "\n",
      "\n",
      "Epsilon:  0.02040816326530612\n",
      "done. num iterations = 14\n",
      "stick_time: 0.478sec\n",
      "cluster_time: 0.011sec\n",
      "e_z_time: 0.028sec\n",
      "**TOTAL time: 0.706sec**\n",
      "Predicted differences:  0.08289031447536943\n",
      "Actual differences: (This is nonzero if phi did anything): 0.0715879679313786\n",
      "\n",
      "\n",
      "Epsilon:  0.04591836734693877\n",
      "done. num iterations = 21\n",
      "stick_time: 0.576sec\n",
      "cluster_time: 0.012sec\n",
      "e_z_time: 0.034sec\n",
      "**TOTAL time: 0.838sec**\n",
      "Predicted differences:  0.18650320756958158\n",
      "Actual differences: (This is nonzero if phi did anything): 0.1766905925913627\n",
      "\n",
      "\n",
      "Epsilon:  0.08163265306122448\n",
      "done. num iterations = 26\n",
      "stick_time: 0.715sec\n",
      "cluster_time: 0.014sec\n",
      "e_z_time: 0.038sec\n",
      "**TOTAL time: 1.03sec**\n",
      "Predicted differences:  0.33156125790147845\n",
      "Actual differences: (This is nonzero if phi did anything): 0.31844061426671044\n",
      "\n",
      "\n",
      "Epsilon:  0.12755102040816324\n",
      "done. num iterations = 37\n",
      "stick_time: 1.14sec\n",
      "cluster_time: 0.023sec\n",
      "e_z_time: 0.064sec\n",
      "**TOTAL time: 1.664sec**\n",
      "Predicted differences:  0.5180644654710601\n",
      "Actual differences: (This is nonzero if phi did anything): 0.5171882602311946\n",
      "\n",
      "\n",
      "Epsilon:  0.18367346938775508\n",
      "done. num iterations = 44\n",
      "stick_time: 1.22sec\n",
      "cluster_time: 0.024sec\n",
      "e_z_time: 0.07sec\n",
      "**TOTAL time: 1.788sec**\n",
      "Predicted differences:  0.746012830278327\n",
      "Actual differences: (This is nonzero if phi did anything): 0.7674048896633596\n",
      "\n",
      "\n",
      "Epsilon:  0.25\n",
      "done. num iterations = 43\n",
      "stick_time: 1.225sec\n",
      "cluster_time: 0.024sec\n",
      "e_z_time: 0.069sec\n",
      "**TOTAL time: 1.792sec**\n",
      "Predicted differences:  1.0154063523232784\n",
      "Actual differences: (This is nonzero if phi did anything): 1.0651726326159638\n",
      "\n",
      "\n",
      "Epsilon:  0.32653061224489793\n",
      "done. num iterations = 49\n",
      "stick_time: 1.469sec\n",
      "cluster_time: 0.03sec\n",
      "e_z_time: 0.083sec\n",
      "**TOTAL time: 2.153sec**\n",
      "Predicted differences:  1.3262450316059147\n",
      "Actual differences: (This is nonzero if phi did anything): 1.4239923772055532\n",
      "\n",
      "\n",
      "Epsilon:  0.4132653061224489\n",
      "done. num iterations = 49\n",
      "stick_time: 1.403sec\n",
      "cluster_time: 0.028sec\n",
      "e_z_time: 0.078sec\n",
      "**TOTAL time: 2.042sec**\n",
      "Predicted differences:  1.6785288681262354\n",
      "Actual differences: (This is nonzero if phi did anything): 1.8541584496030035\n",
      "\n",
      "\n",
      "Epsilon:  0.510204081632653\n",
      "done. num iterations = 51\n",
      "stick_time: 1.521sec\n",
      "cluster_time: 0.034sec\n",
      "e_z_time: 0.091sec\n",
      "**TOTAL time: 2.224sec**\n",
      "Predicted differences:  2.0722578618842413\n",
      "Actual differences: (This is nonzero if phi did anything): 2.3595040928114277\n",
      "\n",
      "\n",
      "Epsilon:  0.6173469387755102\n",
      "done. num iterations = 53\n",
      "stick_time: 1.614sec\n",
      "cluster_time: 0.033sec\n",
      "e_z_time: 0.089sec\n",
      "**TOTAL time: 2.348sec**\n",
      "Predicted differences:  2.5074320128799323\n",
      "Actual differences: (This is nonzero if phi did anything): 2.9665380229594196\n",
      "\n",
      "\n",
      "Epsilon:  0.7346938775510203\n",
      "done. num iterations = 61\n",
      "stick_time: 1.701sec\n",
      "cluster_time: 0.034sec\n",
      "e_z_time: 0.095sec\n",
      "**TOTAL time: 2.474sec**\n",
      "Predicted differences:  2.984051321113308\n",
      "Actual differences: (This is nonzero if phi did anything): 3.6786584548584984\n",
      "\n",
      "\n",
      "Epsilon:  0.8622448979591836\n",
      "done. num iterations = 69\n",
      "stick_time: 2.057sec\n",
      "cluster_time: 0.042sec\n",
      "e_z_time: 0.117sec\n",
      "**TOTAL time: 3.019sec**\n",
      "Predicted differences:  3.502115786584368\n",
      "Actual differences: (This is nonzero if phi did anything): 4.51718497052219\n",
      "\n",
      "\n",
      "Epsilon:  1.0\n",
      "done. num iterations = 73\n",
      "stick_time: 2.094sec\n",
      "cluster_time: 0.041sec\n",
      "e_z_time: 0.119sec\n",
      "**TOTAL time: 3.052sec**\n",
      "Predicted differences:  4.061625409293113\n",
      "Actual differences: (This is nonzero if phi did anything): 5.498147319900958\n"
     ]
    }
   ],
   "source": [
    "vb_pert_opt_array = []\n",
    "vb_pert_pred_array = []\n",
    "vb_pert_pred_array_newton = []\n",
    "\n",
    "for i in range(len(epsilon_vec)): \n",
    "    epsilon = epsilon_vec[i]\n",
    "    print('\\n\\nEpsilon: ', epsilon)\n",
    "    \n",
    "    # get linear predictions\n",
    "    vb_pert_pred = \\\n",
    "        epsilon_sens.predict_opt_par_from_hyper_par(epsilon)\n",
    "    if continue_with_newton: \n",
    "        vb_pert_pred_newton = \\\n",
    "            epsilon_sens_newton.predict_opt_par_from_hyper_par(epsilon)\n",
    "    \n",
    "    # Then fit with the perturbation.\n",
    "    vb_pert_opt = refit_with_epsilon(epsilon, new_init_dict)\n",
    "    \n",
    "    print('Predicted differences: ', np.linalg.norm(vb_pert_pred - new_init_free))\n",
    "    print('Actual differences: (This is nonzero if phi did anything):',\n",
    "          np.linalg.norm(vb_pert_opt - new_init_free))\n",
    "    \n",
    "    # save results: \n",
    "    vb_pert_opt_array.append(vb_pert_opt)\n",
    "    vb_pert_pred_array.append(vb_pert_pred)\n",
    "    if continue_with_newton: \n",
    "        vb_pert_pred_array_newton.append(vb_pert_pred_newton)\n"
   ]
  },
  {
   "cell_type": "markdown",
   "metadata": {},
   "source": [
    "# Lets look at the expected number of clusters"
   ]
  },
  {
   "cell_type": "markdown",
   "metadata": {},
   "source": [
    "### Number of in sample clusters"
   ]
  },
  {
   "cell_type": "code",
   "execution_count": 39,
   "metadata": {},
   "outputs": [],
   "source": [
    "lr_e_num_clusters_vec = np.zeros(len(epsilon_vec))\n",
    "refit_e_num_clusters_vec = np.zeros(len(epsilon_vec))\n",
    "\n",
    "for i in range(len(epsilon_vec)): \n",
    "    # number of clusters as predicted by linear response\n",
    "    e_z_lr = gmm_lib.get_optimal_z_from_vb_params_dict(features, \n",
    "                                                       vb_params_paragami.fold(vb_pert_pred_array[i], \n",
    "                                                                               free = True), \n",
    "                                                       gh_loc, gh_weights)\n",
    "    lr_e_num_clusters_vec[i] = cluster_lib.get_e_num_clusters_from_ez(e_z_lr)\n",
    "            \n",
    "    # number of clusters after refitting \n",
    "    e_z_refit = gmm_lib.get_optimal_z_from_vb_params_dict(features, \n",
    "                                                           vb_params_paragami.fold(vb_pert_opt_array[i], \n",
    "                                                                                   free = True), \n",
    "                                                           gh_loc, gh_weights)\n",
    "    refit_e_num_clusters_vec[i] = cluster_lib.get_e_num_clusters_from_ez(e_z_refit)\n",
    "    \n"
   ]
  },
  {
   "cell_type": "code",
   "execution_count": 40,
   "metadata": {},
   "outputs": [
    {
     "data": {
      "text/plain": [
       "<matplotlib.legend.Legend at 0x7f7dc5575520>"
      ]
     },
     "execution_count": 40,
     "metadata": {},
     "output_type": "execute_result"
    },
    {
     "data": {
      "image/png": "[encoded data removed]",
      "text/plain": [
       "<Figure size 432x288 with 1 Axes>"
      ]
     },
     "metadata": {
      "needs_background": "light"
     },
     "output_type": "display_data"
    }
   ],
   "source": [
    "plt.plot(epsilon_vec, lr_e_num_clusters_vec, '+--')\n",
    "plt.plot(epsilon_vec, refit_e_num_clusters_vec, '+-')\n",
    "\n",
    "plt.xlabel('alpha')\n",
    "plt.ylabel('num posterior clusters')\n",
    "plt.legend(('lr', 'refit'))\n"
   ]
  },
  {
   "cell_type": "code",
   "execution_count": null,
   "metadata": {},
   "outputs": [],
   "source": []
  },
  {
   "cell_type": "markdown",
   "metadata": {},
   "source": [
    "### Number of predicted clusters"
   ]
  },
  {
   "cell_type": "code",
   "execution_count": 41,
   "metadata": {},
   "outputs": [
    {
     "name": "stderr",
     "output_type": "stream",
     "text": [
      "100%|██████████| 15/15 [00:07<00:00,  1.90it/s]\n"
     ]
    }
   ],
   "source": [
    "threshold = 0\n",
    "\n",
    "lr_e_num_pred_clusters_vec = np.zeros(len(epsilon_vec))\n",
    "refit_e_num_pred_clusters_vec = np.zeros(len(epsilon_vec))\n",
    "\n",
    "for i in tqdm(range(len(epsilon_vec))): \n",
    "     # number of clusters as predicted by linear response\n",
    "    lr_e_num_pred_clusters = gmm_lib.get_e_num_pred_clusters_from_vb_free_params(\n",
    "        vb_params_paragami, \n",
    "        vb_pert_pred_array[i],\n",
    "        n_obs = np.shape(features)[0], \n",
    "        threshold = threshold,\n",
    "        n_samples = 100000)\n",
    "    \n",
    "    lr_e_num_pred_clusters_vec[i] = lr_e_num_pred_clusters\n",
    "    \n",
    "    # number of clusters after refitting \n",
    "    refit_e_num_pred_clusters = gmm_lib.get_e_num_pred_clusters_from_vb_free_params(\n",
    "        vb_params_paragami, \n",
    "        vb_pert_opt_array[i],\n",
    "        n_obs = np.shape(features)[0], \n",
    "        threshold = threshold,\n",
    "        n_samples = 100000)\n",
    "    \n",
    "    refit_e_num_pred_clusters_vec[i] = refit_e_num_pred_clusters\n",
    "    \n"
   ]
  },
  {
   "cell_type": "code",
   "execution_count": 42,
   "metadata": {},
   "outputs": [
    {
     "data": {
      "text/plain": [
       "<matplotlib.legend.Legend at 0x7f7dc55b37f0>"
      ]
     },
     "execution_count": 42,
     "metadata": {},
     "output_type": "execute_result"
    },
    {
     "data": {
      "image/png": "[encoded data removed]",
      "text/plain": [
       "<Figure size 432x288 with 1 Axes>"
      ]
     },
     "metadata": {
      "needs_background": "light"
     },
     "output_type": "display_data"
    }
   ],
   "source": [
    "plt.plot(epsilon_vec, lr_e_num_pred_clusters_vec, '+--')\n",
    "plt.plot(epsilon_vec, refit_e_num_pred_clusters_vec, '+-')\n",
    "\n",
    "plt.xlabel('alpha')\n",
    "plt.ylabel('num posterior clusters')\n",
    "plt.legend(('lr', 'refit'))"
   ]
  },
  {
   "cell_type": "code",
   "execution_count": null,
   "metadata": {},
   "outputs": [],
   "source": []
  },
  {
   "cell_type": "code",
   "execution_count": null,
   "metadata": {},
   "outputs": [],
   "source": []
  }
 ],
 "metadata": {
  "kernelspec": {
   "display_name": "bnp_sensitivity",
   "language": "python",
   "name": "bnp_sensitivity"
  },
  "language_info": {
   "codemirror_mode": {
    "name": "ipython",
    "version": 3
   },
   "file_extension": ".py",
   "mimetype": "text/x-python",
   "name": "python",
   "nbconvert_exporter": "python",
   "pygments_lexer": "ipython3",
   "version": "3.8.0"
  }
 },
 "nbformat": 4,
 "nbformat_minor": 2
}
