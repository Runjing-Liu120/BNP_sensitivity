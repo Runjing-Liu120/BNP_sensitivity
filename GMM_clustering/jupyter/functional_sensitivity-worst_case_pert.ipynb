{
 "cells": [
  {
   "cell_type": "markdown",
   "metadata": {},
   "source": [
    "This notebook demonstrates use of our linear approximation for a multiplicative functional perturbation "
   ]
  },
  {
   "cell_type": "code",
   "execution_count": 1,
   "metadata": {},
   "outputs": [
    {
     "name": "stderr",
     "output_type": "stream",
     "text": [
      "/accounts/grad/runjing_liu/.conda/envs/bnp_sensitivity_jax/lib/python3.9/site-packages/jax/lib/xla_bridge.py:130: UserWarning: No GPU/TPU found, falling back to CPU.\n",
      "  warnings.warn('No GPU/TPU found, falling back to CPU.')\n"
     ]
    }
   ],
   "source": [
    "import jax\n",
    "from jax import numpy as np\n",
    "from jax import scipy as sp\n",
    "\n",
    "from numpy.polynomial.hermite import hermgauss\n",
    "\n",
    "import paragami\n",
    "\n",
    "# BNP sensitivity libraries\n",
    "import bnpgmm_runjingdev.gmm_clustering_lib as gmm_lib\n",
    "import bnpgmm_runjingdev.gmm_cavi_lib as cavi_lib\n",
    "from bnpgmm_runjingdev import utils_lib\n",
    "\n",
    "from bnpmodeling_runjingdev.sensitivity_lib import HyperparameterSensitivityLinearApproximation\n",
    "import bnpmodeling_runjingdev.functional_sensitivity_lib as func_sens_lib \n",
    "import bnpmodeling_runjingdev.influence_lib as influence_lib\n",
    "from bnpmodeling_runjingdev import cluster_quantities_lib as cluster_lib\n",
    "\n",
    "import matplotlib.pyplot as plt\n",
    "%matplotlib inline\n",
    "\n",
    "from sklearn.decomposition import PCA\n",
    "\n",
    "from copy import deepcopy\n",
    "\n",
    "import json "
   ]
  },
  {
   "cell_type": "code",
   "execution_count": 2,
   "metadata": {},
   "outputs": [],
   "source": [
    "# colors for plotting\n",
    "import matplotlib.cm as cm\n",
    "\n",
    "cmap = cm.get_cmap(name='gist_rainbow')\n",
    "colors1 = [cmap(k * 50) for k in range(12)]\n",
    "colors2 = [cmap(k * 25) for k in range(12)]"
   ]
  },
  {
   "cell_type": "markdown",
   "metadata": {},
   "source": [
    "# Load data"
   ]
  },
  {
   "cell_type": "markdown",
   "metadata": {},
   "source": [
    "We load and plot the iris dataset"
   ]
  },
  {
   "cell_type": "code",
   "execution_count": 3,
   "metadata": {},
   "outputs": [],
   "source": [
    "# load iris data\n",
    "dataset_name = 'iris'\n",
    "features, iris_species = utils_lib.load_data()\n",
    "dim = features.shape[1]\n",
    "n_obs = len(iris_species)    "
   ]
  },
  {
   "cell_type": "code",
   "execution_count": 4,
   "metadata": {},
   "outputs": [
    {
     "data": {
      "text/plain": [
       "Text(0, 0.5, 'PC2')"
      ]
     },
     "execution_count": 4,
     "metadata": {},
     "output_type": "execute_result"
    },
    {
     "data": {
      "image/png": "[encoded data removed]",
      "text/plain": [
       "<Figure size 432x288 with 1 Axes>"
      ]
     },
     "metadata": {
      "needs_background": "light"
     },
     "output_type": "display_data"
    }
   ],
   "source": [
    "# run PCA\n",
    "pca_fit = PCA()\n",
    "pca_fit.fit(features)\n",
    "pc_features = pca_fit.transform(features)\n",
    "\n",
    "# plot\n",
    "cmap = cm.get_cmap(name='gist_rainbow')\n",
    "colors1 = [cmap(k * 50) for k in range(30)]\n",
    "\n",
    "fig1 = plt.figure(1)\n",
    "fig = fig1.add_subplot(111)\n",
    "utils_lib.plot_clusters(pc_features[:, 0], pc_features[:, 1], iris_species, colors1, fig)\n",
    "fig.set_xlabel('PC1')\n",
    "fig.set_ylabel('PC2')\n"
   ]
  },
  {
   "cell_type": "markdown",
   "metadata": {},
   "source": [
    "# Load model"
   ]
  },
  {
   "cell_type": "markdown",
   "metadata": {},
   "source": [
    "### Get prior "
   ]
  },
  {
   "cell_type": "code",
   "execution_count": 5,
   "metadata": {},
   "outputs": [],
   "source": [
    "prior_params_dict, prior_params_paragami = gmm_lib.get_default_prior_params(dim)"
   ]
  },
  {
   "cell_type": "code",
   "execution_count": 6,
   "metadata": {},
   "outputs": [
    {
     "name": "stdout",
     "output_type": "stream",
     "text": [
      "{'alpha': DeviceArray([3.], dtype=float64), 'prior_centroid_mean': DeviceArray([0.], dtype=float64), 'prior_lambda': DeviceArray([1.], dtype=float64), 'prior_wishart_df': DeviceArray([10.], dtype=float64), 'prior_wishart_rate': DeviceArray([[1., 0., 0., 0.],\n",
      "             [0., 1., 0., 0.],\n",
      "             [0., 0., 1., 0.],\n",
      "             [0., 0., 0., 1.]], dtype=float64)}\n"
     ]
    }
   ],
   "source": [
    "print(prior_params_dict)"
   ]
  },
  {
   "cell_type": "code",
   "execution_count": null,
   "metadata": {},
   "outputs": [],
   "source": []
  },
  {
   "cell_type": "markdown",
   "metadata": {},
   "source": [
    "### Variational parameters"
   ]
  },
  {
   "cell_type": "code",
   "execution_count": 7,
   "metadata": {},
   "outputs": [],
   "source": [
    "k_approx = 30"
   ]
  },
  {
   "cell_type": "code",
   "execution_count": 8,
   "metadata": {},
   "outputs": [],
   "source": [
    "# Gauss-Hermite points\n",
    "gh_deg = 20\n",
    "gh_loc, gh_weights = hermgauss(gh_deg)\n"
   ]
  },
  {
   "cell_type": "code",
   "execution_count": 9,
   "metadata": {},
   "outputs": [
    {
     "name": "stdout",
     "output_type": "stream",
     "text": [
      "OrderedDict:\n",
      "\t[cluster_params] = OrderedDict:\n",
      "\t[centroids] = NumericArrayPattern (4, 30) (lb=-inf, ub=inf)\n",
      "\t[cluster_info] = PatternArray (30,) of PDMatrix 4x4 (diag_lb = 0.0)\n",
      "\t[stick_params] = OrderedDict:\n",
      "\t[stick_means] = NumericArrayPattern (29,) (lb=-inf, ub=inf)\n",
      "\t[stick_infos] = NumericArrayPattern (29,) (lb=0.0001, ub=inf)\n"
     ]
    }
   ],
   "source": [
    "# get vb parameters\n",
    "vb_params_dict, vb_params_paragami = gmm_lib.get_vb_params_paragami_object(dim, k_approx)\n",
    "\n",
    "print(vb_params_paragami)"
   ]
  },
  {
   "cell_type": "code",
   "execution_count": 10,
   "metadata": {},
   "outputs": [
    {
     "data": {
      "text/plain": [
       "DeviceArray(1624.52171584, dtype=float64)"
      ]
     },
     "execution_count": 10,
     "metadata": {},
     "output_type": "execute_result"
    }
   ],
   "source": [
    "# the objective \n",
    "gmm_lib.get_kl(features, vb_params_dict, prior_params_dict, gh_loc, gh_weights)"
   ]
  },
  {
   "cell_type": "code",
   "execution_count": null,
   "metadata": {},
   "outputs": [],
   "source": []
  },
  {
   "cell_type": "markdown",
   "metadata": {},
   "source": [
    "# Optimize"
   ]
  },
  {
   "cell_type": "markdown",
   "metadata": {},
   "source": [
    "### Kmeans"
   ]
  },
  {
   "cell_type": "code",
   "execution_count": 11,
   "metadata": {},
   "outputs": [],
   "source": [
    "n_kmeans_init = 50\n",
    "init_vb_free_params, init_vb_params_dict, init_ez = \\\n",
    "    utils_lib.cluster_and_get_k_means_inits(features, vb_params_paragami, \n",
    "                                                n_kmeans_init = n_kmeans_init, \n",
    "                                                seed = 2391)\n",
    "                                                # seed = 32423)"
   ]
  },
  {
   "cell_type": "markdown",
   "metadata": {},
   "source": [
    "### Run CAVI"
   ]
  },
  {
   "cell_type": "code",
   "execution_count": 12,
   "metadata": {},
   "outputs": [],
   "source": [
    "vb_params_dict = deepcopy(init_vb_params_dict)"
   ]
  },
  {
   "cell_type": "code",
   "execution_count": 13,
   "metadata": {},
   "outputs": [
    {
     "name": "stdout",
     "output_type": "stream",
     "text": [
      "Compiling CAVI update functions ... \n",
      "CAVI compile time: 6.85sec\n",
      "\n",
      "Running CAVI ... \n",
      "done. num iterations = 84\n",
      "stick_time: 1.32sec\n",
      "cluster_time: 1.1sec\n",
      "e_z_time: 0.766sec\n",
      "**CAVI time: 7.63sec**\n"
     ]
    }
   ],
   "source": [
    "vb_opt_dict, e_z_opt = cavi_lib.run_cavi(features, vb_params_dict,\n",
    "                                            vb_params_paragami, prior_params_dict,\n",
    "                                            gh_loc, gh_weights,\n",
    "                                            debug = False, \n",
    "                                            x_tol = 1e-3)"
   ]
  },
  {
   "cell_type": "code",
   "execution_count": null,
   "metadata": {},
   "outputs": [],
   "source": []
  },
  {
   "cell_type": "code",
   "execution_count": 14,
   "metadata": {},
   "outputs": [],
   "source": [
    "vb_opt = vb_params_paragami.flatten(vb_opt_dict, free = True)"
   ]
  },
  {
   "cell_type": "code",
   "execution_count": 15,
   "metadata": {},
   "outputs": [],
   "source": [
    "def plot_results_from_vb_params_dict(pca_fit, vb_params_dict, e_z, fig): \n",
    "    # we plot in PCA space\n",
    "    bnp_centroids_pc, bnp_cluster_covs_pc = \\\n",
    "        utils_lib.transform_params_to_pc_space(pca_fit, vb_params_dict['cluster_params']['centroids'], \n",
    "                                               np.linalg.inv(vb_params_dict['cluster_params']['cluster_info']))\n",
    "    \n",
    "    bnp_clusters = np.argmax(e_z, axis = 1)\n",
    "    \n",
    "    cmap = cm.get_cmap(name='gist_rainbow')\n",
    "    colors1 = [cmap(k * 50) for k in range(30)]\n",
    "\n",
    "    utils_lib.plot_clusters(pc_features[:, 0], pc_features[:, 1], bnp_clusters, \\\n",
    "                  colors1, fig, \\\n",
    "                  centroids = bnp_centroids_pc[:, np.unique(bnp_clusters)], \n",
    "                cov = bnp_cluster_covs_pc[np.unique(bnp_clusters), :, :])\n"
   ]
  },
  {
   "cell_type": "code",
   "execution_count": 16,
   "metadata": {},
   "outputs": [
    {
     "data": {
      "image/png": "[encoded data removed]",
      "text/plain": [
       "<Figure size 432x288 with 1 Axes>"
      ]
     },
     "metadata": {
      "needs_background": "light"
     },
     "output_type": "display_data"
    }
   ],
   "source": [
    "# results\n",
    "fig1 = plt.figure(1)\n",
    "fig = fig1.add_subplot(111)\n",
    "\n",
    "plot_results_from_vb_params_dict(pca_fit, vb_opt_dict, e_z_opt, fig)"
   ]
  },
  {
   "cell_type": "code",
   "execution_count": null,
   "metadata": {},
   "outputs": [],
   "source": []
  },
  {
   "cell_type": "markdown",
   "metadata": {},
   "source": [
    "# Set up linear response derivatives"
   ]
  },
  {
   "cell_type": "code",
   "execution_count": 17,
   "metadata": {},
   "outputs": [],
   "source": [
    "# set up objective functions\n",
    "\n",
    "# this just returns the KL at epsilon = 0 \n",
    "# (no perturbation)\n",
    "# NOTE this function doesn't actually depend on epsilon\n",
    "# we can do this and set log_phi later because \n",
    "# the perturbation is multiplicative \n",
    "# (so the hessian at epsilon = 0 does not depend on the perturbation)\n",
    "get_vb_loss = paragami.FlattenFunctionInput(\n",
    "    lambda params, epsilon: gmm_lib.get_kl(features, \n",
    "                                            params,\n",
    "                                            prior_params_dict, \n",
    "                                            gh_loc,\n",
    "                                            gh_weights),\n",
    "    argnums=0, patterns=vb_params_paragami, free=True)\n",
    "\n",
    "\n",
    "# this is just a place holder for a null perturbation\n",
    "# will set this properly later\n",
    "hyper_par_objective_fun = lambda params, epsilon: 0."
   ]
  },
  {
   "cell_type": "code",
   "execution_count": 18,
   "metadata": {},
   "outputs": [
    {
     "name": "stdout",
     "output_type": "stream",
     "text": [
      "Compiling hessian solver ...\n",
      "Hessian solver compile time: 73.9652sec\n",
      "\n",
      "Compiling cross hessian...\n",
      "Cross-hessian compile time: 0.0526342sec\n",
      "\n",
      "LR sensitivity time: 0.0210874sec\n",
      "\n"
     ]
    }
   ],
   "source": [
    "# set up linear approximation class\n",
    "epsilon0 = np.array([0.])\n",
    "\n",
    "epsilon_sens = \\\n",
    "    HyperparameterSensitivityLinearApproximation(\n",
    "        objective_fun = get_vb_loss, \n",
    "        opt_par_value = vb_opt, \n",
    "        hyper_par_value0 = epsilon0, \n",
    "        hyper_par_objective_fun = hyper_par_objective_fun)"
   ]
  },
  {
   "cell_type": "code",
   "execution_count": null,
   "metadata": {},
   "outputs": [],
   "source": []
  },
  {
   "cell_type": "markdown",
   "metadata": {},
   "source": [
    "# Compute influence function"
   ]
  },
  {
   "cell_type": "code",
   "execution_count": 19,
   "metadata": {},
   "outputs": [],
   "source": [
    "influence_operator = influence_lib.InfluenceOperator(vb_opt, \n",
    "                                                     vb_params_paragami, \n",
    "                                                     epsilon_sens.hessian_solver,\n",
    "                                                     prior_params_dict['alpha'])"
   ]
  },
  {
   "cell_type": "code",
   "execution_count": 20,
   "metadata": {},
   "outputs": [],
   "source": [
    "def g(vb_free_params, vb_params_paragami): \n",
    "    e_z = gmm_lib.get_optimal_z_from_vb_params_dict(features, \n",
    "                                      vb_params_paragami.fold(vb_free_params, free = True), \n",
    "                                      gh_loc, gh_weights)\n",
    "    \n",
    "    return cluster_lib.get_e_num_clusters_from_ez(e_z)"
   ]
  },
  {
   "cell_type": "code",
   "execution_count": 21,
   "metadata": {},
   "outputs": [],
   "source": [
    "get_grad_g = jax.jacobian(g, argnums = 0)\n",
    "grad_g = get_grad_g(vb_opt, vb_params_paragami)"
   ]
  },
  {
   "cell_type": "code",
   "execution_count": 22,
   "metadata": {},
   "outputs": [],
   "source": [
    "logit_v_grid = np.linspace(-10, 10, 200)\n",
    "v_grid = sp.special.expit(logit_v_grid)\n",
    "\n",
    "influence = influence_operator.get_influence(logit_v_grid, grad_g)"
   ]
  },
  {
   "cell_type": "code",
   "execution_count": 23,
   "metadata": {},
   "outputs": [
    {
     "data": {
      "image/png": "[encoded data removed]",
      "text/plain": [
       "<Figure size 1080x288 with 3 Axes>"
      ]
     },
     "metadata": {
      "needs_background": "light"
     },
     "output_type": "display_data"
    }
   ],
   "source": [
    "fig, ax = plt.subplots(1, 3, figsize = (15, 4)) \n",
    "ax[0].plot(logit_v_grid, influence)\n",
    "ax[0].set_xlabel('logit v')\n",
    "ax[0].set_ylabel('Influence')\n",
    "\n",
    "ax[1].plot(v_grid, influence)\n",
    "ax[1].set_xlabel('v')\n",
    "ax[1].set_ylabel('Influence')\n",
    "\n",
    "ax[2].plot(logit_v_grid, np.sign(influence))\n",
    "ax[2].set_xlabel('logit v')\n",
    "ax[2].set_ylabel('sign(Influence)')\n",
    "\n",
    "fig.tight_layout()"
   ]
  },
  {
   "cell_type": "code",
   "execution_count": null,
   "metadata": {},
   "outputs": [],
   "source": []
  },
  {
   "cell_type": "raw",
   "metadata": {},
   "source": [
    "log_qk = influence_operator.get_log_qk(logit_v_grid, influence_operator.vb_opt)"
   ]
  },
  {
   "cell_type": "raw",
   "metadata": {},
   "source": [
    "log_prior = influence_lib.get_log_logitstick_prior(logit_v_grid, prior_params_dict['alpha'])"
   ]
  },
  {
   "cell_type": "raw",
   "metadata": {},
   "source": [
    "fig, ax = plt.subplots(6, 5, figsize = (30, 15)) \n",
    "\n",
    "for k in range(k_approx - 1): \n",
    "    ax[k // 5, k % 5].plot(logit_v_grid, np.exp(log_qk[k, :]), color = 'red')\n",
    "    ax[k // 5, k % 5].plot(logit_v_grid, np.exp(log_prior), color = 'blue')"
   ]
  },
  {
   "cell_type": "raw",
   "metadata": {},
   "source": [
    "fig, ax = plt.subplots(6, 5, figsize = (30, 15)) \n",
    "\n",
    "for k in range(k_approx - 1): \n",
    "    ax[k // 5, k % 5].plot(logit_v_grid, log_qk[k, :], color = 'red')\n",
    "    ax[k // 5, k % 5].plot(logit_v_grid, log_prior, color = 'blue')"
   ]
  },
  {
   "cell_type": "code",
   "execution_count": null,
   "metadata": {},
   "outputs": [],
   "source": []
  },
  {
   "cell_type": "markdown",
   "metadata": {},
   "source": [
    "# Compute worst case influence"
   ]
  },
  {
   "cell_type": "code",
   "execution_count": 24,
   "metadata": {},
   "outputs": [],
   "source": [
    "# just for plotting only! \n",
    "# saves some time in computing the influence function\n",
    "# by doing a setp function interpolation\n",
    "def influence_fun_interp(logit_v): \n",
    "    # find index of logit_v_grid \n",
    "    # closest (on the left) to logit_v\n",
    "    indx = np.searchsorted(logit_v_grid, logit_v)\n",
    "    \n",
    "    # return the influence function at those points\n",
    "    return influence[indx]"
   ]
  },
  {
   "cell_type": "code",
   "execution_count": 25,
   "metadata": {},
   "outputs": [],
   "source": [
    "# define log phi\n",
    "def log_phi(logit_v):\n",
    "    return(np.sign(influence_fun_interp(logit_v)))"
   ]
  },
  {
   "cell_type": "code",
   "execution_count": 26,
   "metadata": {},
   "outputs": [
    {
     "name": "stderr",
     "output_type": "stream",
     "text": [
      "/accounts/grad/runjing_liu/.conda/envs/bnp_sensitivity_jax/lib/python3.9/site-packages/scipy/integrate/_quadrature.py:259: AccuracyWarning: maxiter (50) exceeded. Latest difference = 1.576629e-02\n",
      "  warnings.warn(\n",
      "/accounts/grad/runjing_liu/.conda/envs/bnp_sensitivity_jax/lib/python3.9/site-packages/scipy/integrate/_quadrature.py:259: AccuracyWarning: maxiter (50) exceeded. Latest difference = 5.176244e-02\n",
      "  warnings.warn(\n"
     ]
    }
   ],
   "source": [
    "prior_perturbation = func_sens_lib.PriorPerturbation(\n",
    "                                alpha0 = prior_params_dict['alpha'],\n",
    "                                log_phi = log_phi, \n",
    "                                logit_v_ub = 6, \n",
    "                                logit_v_lb = -6)"
   ]
  },
  {
   "cell_type": "code",
   "execution_count": 27,
   "metadata": {},
   "outputs": [
    {
     "data": {
      "text/plain": [
       "Text(0.5, 1.0, 'Priors in logit space')"
      ]
     },
     "execution_count": 27,
     "metadata": {},
     "output_type": "execute_result"
    },
    {
     "data": {
      "image/png": "[encoded data removed]",
      "text/plain": [
       "<Figure size 1296x360 with 4 Axes>"
      ]
     },
     "metadata": {
      "needs_background": "light"
     },
     "output_type": "display_data"
    }
   ],
   "source": [
    "prior_perturbation.set_epsilon(1.0)\n",
    "v_grid = sp.special.expit(logit_v_grid)\n",
    "\n",
    "plt.figure(1, figsize=(18, 5))\n",
    "\n",
    "plt.subplot(141)\n",
    "plt.plot(logit_v_grid, prior_perturbation.get_log_p0_logit(logit_v_grid))\n",
    "plt.plot(logit_v_grid, prior_perturbation.get_log_pc_logit(logit_v_grid))\n",
    "plt.title('Log priors in logit space')\n",
    "\n",
    "plt.subplot(142)\n",
    "plt.plot(logit_v_grid, prior_perturbation.log_phi(logit_v_grid))\n",
    "plt.title('log phi in logit space')\n",
    "\n",
    "plt.subplot(143)\n",
    "plt.plot(v_grid, np.exp(prior_perturbation.get_log_p0(v_grid)))\n",
    "plt.plot(v_grid, np.exp(prior_perturbation.get_log_pc(v_grid)))\n",
    "plt.title('Priors in stick space')\n",
    "\n",
    "plt.subplot(144)\n",
    "plt.plot(logit_v_grid, np.exp(prior_perturbation.get_log_p0_logit(logit_v_grid)))\n",
    "plt.plot(logit_v_grid, np.exp(prior_perturbation.get_log_pc_logit(logit_v_grid)))\n",
    "plt.title('Priors in logit space')\n"
   ]
  },
  {
   "cell_type": "code",
   "execution_count": null,
   "metadata": {},
   "outputs": [],
   "source": []
  },
  {
   "cell_type": "markdown",
   "metadata": {},
   "source": [
    "# Set up prior perturbation"
   ]
  },
  {
   "cell_type": "code",
   "execution_count": 28,
   "metadata": {},
   "outputs": [],
   "source": [
    "influence_lib.WorstCasePerturbation?"
   ]
  },
  {
   "cell_type": "code",
   "execution_count": 29,
   "metadata": {},
   "outputs": [],
   "source": [
    "worst_case_pert = influence_lib.WorstCasePerturbation(\\\n",
    "                            lambda logit_v : influence_operator.get_influence(logit_v, grad_g), \n",
    "                            logit_v_grid)"
   ]
  },
  {
   "cell_type": "code",
   "execution_count": 30,
   "metadata": {},
   "outputs": [],
   "source": [
    "def get_e_log_perturbation(means, infos, epsilon): \n",
    "    return epsilon * worst_case_pert.get_e_log_linf_perturbation(means, infos)"
   ]
  },
  {
   "cell_type": "code",
   "execution_count": 31,
   "metadata": {},
   "outputs": [],
   "source": [
    "def _hyper_par_objective_fun(params, epsilon): \n",
    "    \n",
    "    means = params['stick_params']['stick_means']\n",
    "    infos = params['stick_params']['stick_infos']\n",
    "    \n",
    "    return - get_e_log_perturbation(means, infos, epsilon)\n",
    "\n",
    "# the terms of the KL objective that depend on epsilon \n",
    "hyper_par_objective_fun = paragami.FlattenFunctionInput(_hyper_par_objective_fun,\n",
    "                                                        argnums=0, \n",
    "                                                        patterns=vb_params_paragami,\n",
    "                                                        free=True)"
   ]
  },
  {
   "cell_type": "code",
   "execution_count": null,
   "metadata": {},
   "outputs": [],
   "source": []
  },
  {
   "cell_type": "markdown",
   "metadata": {},
   "source": [
    "# get derivative for prior perturbation"
   ]
  },
  {
   "cell_type": "code",
   "execution_count": 32,
   "metadata": {},
   "outputs": [
    {
     "name": "stdout",
     "output_type": "stream",
     "text": [
      "Compiling cross hessian...\n",
      "Cross-hessian compile time: 1.96289sec\n",
      "\n",
      "LR sensitivity time: 0.0259507sec\n",
      "\n"
     ]
    }
   ],
   "source": [
    "epsilon_sens._set_cross_hess_and_solve(hyper_par_objective_fun)"
   ]
  },
  {
   "cell_type": "code",
   "execution_count": 33,
   "metadata": {},
   "outputs": [
    {
     "name": "stdout",
     "output_type": "stream",
     "text": [
      "Epsilon:  1.0\n",
      "Predicted differences:  4.769107545075075\n"
     ]
    }
   ],
   "source": [
    "epsilon = 1.0 \n",
    "print('Epsilon: ', epsilon)\n",
    "\n",
    "vb_pert_pred = epsilon_sens.predict_opt_par_from_hyper_par(epsilon)\n",
    "\n",
    "print('Predicted differences: ', np.linalg.norm(vb_pert_pred - vb_opt))"
   ]
  },
  {
   "cell_type": "code",
   "execution_count": 34,
   "metadata": {},
   "outputs": [],
   "source": [
    "vb_pert_pred_dict = vb_params_paragami.fold(vb_pert_pred, free = True)\n",
    "e_z_pert_pred = gmm_lib.get_optimal_z_from_vb_params_dict(\n",
    "    features, vb_pert_pred_dict, gh_loc, gh_weights)"
   ]
  },
  {
   "cell_type": "code",
   "execution_count": null,
   "metadata": {},
   "outputs": [],
   "source": []
  },
  {
   "cell_type": "markdown",
   "metadata": {},
   "source": [
    "# Fit with perturbation"
   ]
  },
  {
   "cell_type": "code",
   "execution_count": 35,
   "metadata": {},
   "outputs": [],
   "source": [
    "new_init_dict = deepcopy(vb_opt_dict)\n",
    "new_init_free = vb_params_paragami.flatten(new_init_dict, free = True)"
   ]
  },
  {
   "cell_type": "code",
   "execution_count": 36,
   "metadata": {},
   "outputs": [
    {
     "name": "stdout",
     "output_type": "stream",
     "text": [
      "Compiling CAVI update functions ... \n",
      "CAVI compile time: 5.89sec\n",
      "\n",
      "Running CAVI ... \n",
      "done. num iterations = 622\n",
      "stick_time: 9.41sec\n",
      "cluster_time: 0.447sec\n",
      "e_z_time: 0.294sec\n",
      "**CAVI time: 11sec**\n"
     ]
    }
   ],
   "source": [
    "vb_pert_dict, e_z_pert = cavi_lib.run_cavi(\n",
    "                            features, deepcopy(new_init_dict),\n",
    "                            vb_params_paragami, prior_params_dict,\n",
    "                            gh_loc, gh_weights,\n",
    "                            e_log_phi = lambda means, infos : \\\n",
    "                                           worst_case_pert.get_e_log_linf_perturbation(means, infos) * \\\n",
    "                                           epsilon, \n",
    "                            debug = False)\n",
    "\n",
    "vb_pert_opt = vb_params_paragami.flatten(vb_pert_dict, free = True)"
   ]
  },
  {
   "cell_type": "code",
   "execution_count": 37,
   "metadata": {},
   "outputs": [],
   "source": [
    "vb_pert_opt_dict = vb_params_paragami.fold(vb_pert_opt, free = True)\n",
    "e_z_pert_opt = gmm_lib.get_optimal_z_from_vb_params_dict(features, vb_pert_opt_dict, gh_loc, gh_weights)"
   ]
  },
  {
   "cell_type": "code",
   "execution_count": 38,
   "metadata": {},
   "outputs": [
    {
     "name": "stdout",
     "output_type": "stream",
     "text": [
      "Epsilon: 1.0\n"
     ]
    },
    {
     "data": {
      "text/plain": [
       "[<matplotlib.lines.Line2D at 0x7f829a798bb0>]"
      ]
     },
     "execution_count": 38,
     "metadata": {},
     "output_type": "execute_result"
    },
    {
     "data": {
      "image/png": "[encoded data removed]",
      "text/plain": [
       "<Figure size 432x288 with 1 Axes>"
      ]
     },
     "metadata": {
      "needs_background": "light"
     },
     "output_type": "display_data"
    }
   ],
   "source": [
    "print('Epsilon:', epsilon)\n",
    "\n",
    "plt.figure()\n",
    "plt.subplot(1, 2, 1)\n",
    "plt.plot(vb_pert_opt - vb_opt, vb_pert_pred - vb_opt, 'k.')\n",
    "plt.plot(vb_pert_opt - vb_opt, vb_pert_opt - vb_opt, 'r')\n"
   ]
  },
  {
   "cell_type": "code",
   "execution_count": 39,
   "metadata": {},
   "outputs": [
    {
     "name": "stdout",
     "output_type": "stream",
     "text": [
      "original expected number of clusters:  3.2754898115263806\n",
      "perturbed expected number of clusters:  2.458814652127458\n",
      "predicted expected number of clusters:  2.288176381392173\n"
     ]
    }
   ],
   "source": [
    "print('original expected number of clusters: ',\n",
    "    g(vb_opt, vb_params_paragami))\n",
    "\n",
    "print('perturbed expected number of clusters: ',\n",
    "    g(vb_pert_opt, vb_params_paragami))\n",
    "\n",
    "print('predicted expected number of clusters: ',\n",
    "    g(vb_pert_pred, vb_params_paragami))"
   ]
  },
  {
   "cell_type": "code",
   "execution_count": null,
   "metadata": {},
   "outputs": [],
   "source": []
  },
  {
   "cell_type": "markdown",
   "metadata": {},
   "source": [
    "# Predict for a range of perturbation"
   ]
  },
  {
   "cell_type": "code",
   "execution_count": 40,
   "metadata": {},
   "outputs": [
    {
     "name": "stdout",
     "output_type": "stream",
     "text": [
      "[0.         0.00826446 0.03305785 0.07438017 0.1322314  0.20661157\n",
      " 0.29752066 0.40495868 0.52892562 0.66942149 0.82644628 1.        ]\n"
     ]
    }
   ],
   "source": [
    "# The range of epsilons we shall consider\n",
    "epsilon_vec = np.linspace(0, 1, 12) ** 2 # Square to get more points close to 0\n",
    "print(epsilon_vec)"
   ]
  },
  {
   "cell_type": "code",
   "execution_count": 41,
   "metadata": {},
   "outputs": [],
   "source": [
    "def refit_with_epsilon(epsilon, new_init_dict):\n",
    "    # sets new epsilon, returns new vb optimum\n",
    "\n",
    "    vb_pert_dict, e_z_pert = cavi_lib.run_cavi(features, deepcopy(new_init_dict),\n",
    "                                        vb_params_paragami, prior_params_dict,\n",
    "                                        gh_loc, gh_weights,\n",
    "                                        e_log_phi = lambda means, infos : \\\n",
    "                                           worst_case_pert.get_e_log_linf_perturbation(means, infos) * \\\n",
    "                                           epsilon, \n",
    "                                       debug = False)\n",
    "    \n",
    "    return vb_params_paragami.flatten(vb_pert_dict, free = True)"
   ]
  },
  {
   "cell_type": "code",
   "execution_count": 42,
   "metadata": {},
   "outputs": [],
   "source": [
    "best_param_phi_array = []\n",
    "best_param_phi_pred_array = []"
   ]
  },
  {
   "cell_type": "code",
   "execution_count": 43,
   "metadata": {},
   "outputs": [
    {
     "name": "stdout",
     "output_type": "stream",
     "text": [
      "\n",
      "\n",
      "Epsilon:  0.0\n",
      "Predicted differences:  0.0\n",
      "Compiling CAVI update functions ... \n",
      "CAVI compile time: 6.09sec\n",
      "\n",
      "Running CAVI ... \n",
      "done. num iterations = 4\n",
      "stick_time: 0.071sec\n",
      "cluster_time: 0.00389sec\n",
      "e_z_time: 0.00334sec\n",
      "**CAVI time: 0.0868sec**\n",
      "Done. \n",
      "Predicted differences:  0.0\n",
      "Actual differences: 0.011510709020452321\n",
      "\n",
      "\n",
      "Epsilon:  0.008264462809917356\n",
      "Predicted differences:  0.03941411194276918\n",
      "Compiling CAVI update functions ... \n",
      "CAVI compile time: 5.81sec\n",
      "\n",
      "Running CAVI ... \n",
      "done. num iterations = 15\n",
      "stick_time: 0.221sec\n",
      "cluster_time: 0.0122sec\n",
      "e_z_time: 0.00856sec\n",
      "**CAVI time: 0.266sec**\n",
      "Done. \n",
      "Predicted differences:  0.03941411194276918\n",
      "Actual differences: 0.04377344246201329\n",
      "\n",
      "\n",
      "Epsilon:  0.03305785123966942\n",
      "Predicted differences:  0.15765644777107715\n",
      "Compiling CAVI update functions ... \n",
      "CAVI compile time: 5.83sec\n",
      "\n",
      "Running CAVI ... \n",
      "done. num iterations = 27\n",
      "stick_time: 0.389sec\n",
      "cluster_time: 0.0216sec\n",
      "e_z_time: 0.0142sec\n",
      "**CAVI time: 0.465sec**\n",
      "Done. \n",
      "Predicted differences:  0.15765644777107715\n",
      "Actual differences: 0.14969515710303286\n",
      "\n",
      "\n",
      "Epsilon:  0.07438016528925619\n",
      "Predicted differences:  0.35472700748492286\n",
      "Compiling CAVI update functions ... \n",
      "CAVI compile time: 5.85sec\n",
      "\n",
      "Running CAVI ... \n",
      "done. num iterations = 37\n",
      "stick_time: 0.543sec\n",
      "cluster_time: 0.0294sec\n",
      "e_z_time: 0.0193sec\n",
      "**CAVI time: 0.649sec**\n",
      "Done. \n",
      "Predicted differences:  0.35472700748492286\n",
      "Actual differences: 0.33770193465863857\n",
      "\n",
      "\n",
      "Epsilon:  0.1322314049586777\n",
      "Predicted differences:  0.6306257910843074\n",
      "Compiling CAVI update functions ... \n",
      "CAVI compile time: 5.84sec\n",
      "\n",
      "Running CAVI ... \n",
      "done. num iterations = 55\n",
      "stick_time: 0.811sec\n",
      "cluster_time: 0.0422sec\n",
      "e_z_time: 0.0275sec\n",
      "**CAVI time: 0.961sec**\n",
      "Done. \n",
      "Predicted differences:  0.6306257910843074\n",
      "Actual differences: 0.5857451099563405\n",
      "\n",
      "\n",
      "Epsilon:  0.20661157024793386\n",
      "Predicted differences:  0.9853527985692303\n",
      "Compiling CAVI update functions ... \n",
      "CAVI compile time: 5.84sec\n",
      "\n",
      "Running CAVI ... \n",
      "done. num iterations = 79\n",
      "stick_time: 1.15sec\n",
      "cluster_time: 0.0599sec\n",
      "e_z_time: 0.0396sec\n",
      "**CAVI time: 1.36sec**\n",
      "Done. \n",
      "Predicted differences:  0.9853527985692303\n",
      "Actual differences: 0.8801222467371305\n",
      "\n",
      "\n",
      "Epsilon:  0.29752066115702475\n",
      "Predicted differences:  1.418908029939692\n",
      "Compiling CAVI update functions ... \n",
      "CAVI compile time: 5.79sec\n",
      "\n",
      "Running CAVI ... \n",
      "done. num iterations = 101\n",
      "stick_time: 1.47sec\n",
      "cluster_time: 0.0758sec\n",
      "e_z_time: 0.0494sec\n",
      "**CAVI time: 1.74sec**\n",
      "Done. \n",
      "Predicted differences:  1.418908029939692\n",
      "Actual differences: 1.21803605680547\n",
      "\n",
      "\n",
      "Epsilon:  0.4049586776859504\n",
      "Predicted differences:  1.9312914851956915\n",
      "Compiling CAVI update functions ... \n",
      "CAVI compile time: 5.82sec\n",
      "\n",
      "Running CAVI ... \n",
      "done. num iterations = 143\n",
      "stick_time: 2.09sec\n",
      "cluster_time: 0.105sec\n",
      "e_z_time: 0.0693sec\n",
      "**CAVI time: 2.45sec**\n",
      "Done. \n",
      "Predicted differences:  1.9312914851956915\n",
      "Actual differences: 1.5944017454664414\n",
      "\n",
      "\n",
      "Epsilon:  0.5289256198347108\n",
      "Predicted differences:  2.52250316433723\n",
      "Compiling CAVI update functions ... \n",
      "CAVI compile time: 5.85sec\n",
      "\n",
      "Running CAVI ... \n",
      "done. num iterations = 177\n",
      "stick_time: 2.66sec\n",
      "cluster_time: 0.134sec\n",
      "e_z_time: 0.0862sec\n",
      "**CAVI time: 3.11sec**\n",
      "Done. \n",
      "Predicted differences:  2.52250316433723\n",
      "Actual differences: 1.987573792107398\n",
      "\n",
      "\n",
      "Epsilon:  0.6694214876033059\n",
      "Predicted differences:  3.192543067364307\n",
      "Compiling CAVI update functions ... \n",
      "CAVI compile time: 5.85sec\n",
      "\n",
      "Running CAVI ... \n",
      "done. num iterations = 245\n",
      "stick_time: 3.6sec\n",
      "cluster_time: 0.183sec\n",
      "e_z_time: 0.114sec\n",
      "**CAVI time: 4.22sec**\n",
      "Done. \n",
      "Predicted differences:  3.192543067364307\n",
      "Actual differences: 2.4207623653434442\n",
      "\n",
      "\n",
      "Epsilon:  0.8264462809917354\n",
      "Predicted differences:  3.9414111942769217\n",
      "Compiling CAVI update functions ... \n",
      "CAVI compile time: 5.78sec\n",
      "\n",
      "Running CAVI ... \n",
      "done. num iterations = 348\n",
      "stick_time: 5.23sec\n",
      "cluster_time: 0.253sec\n",
      "e_z_time: 0.161sec\n",
      "**CAVI time: 6.09sec**\n",
      "Done. \n",
      "Predicted differences:  3.9414111942769217\n",
      "Actual differences: 2.913592921993733\n",
      "\n",
      "\n",
      "Epsilon:  1.0\n",
      "Predicted differences:  4.769107545075075\n",
      "Compiling CAVI update functions ... \n",
      "CAVI compile time: 5.85sec\n",
      "\n",
      "Running CAVI ... \n",
      "done. num iterations = 622\n",
      "stick_time: 9.72sec\n",
      "cluster_time: 0.47sec\n",
      "e_z_time: 0.305sec\n",
      "**CAVI time: 11.3sec**\n",
      "Done. \n",
      "Predicted differences:  4.769107545075075\n",
      "Actual differences: 3.65755401824628\n"
     ]
    }
   ],
   "source": [
    "vb_pert_opt_array = []\n",
    "vb_pert_pred_array = []\n",
    "\n",
    "\n",
    "for i in range(len(epsilon_vec)): \n",
    "    epsilon = epsilon_vec[i]\n",
    "    print('\\n\\nEpsilon: ', epsilon)\n",
    "    \n",
    "    # get linear predictions\n",
    "    vb_pert_pred = \\\n",
    "        epsilon_sens.predict_opt_par_from_hyper_par(epsilon)\n",
    "\n",
    "    print('Predicted differences: ', np.linalg.norm(vb_pert_pred - vb_opt))\n",
    "    \n",
    "    # Then fit with the perturbation.\n",
    "    vb_pert_opt = refit_with_epsilon(epsilon, new_init_dict)\n",
    "    \n",
    "    print('Done. ')\n",
    "\n",
    "    print('Predicted differences: ', np.linalg.norm(vb_pert_pred - vb_opt))\n",
    "    print('Actual differences:',\n",
    "          np.linalg.norm(vb_pert_opt - vb_opt))\n",
    "    \n",
    "    # save results: \n",
    "    vb_pert_opt_array.append(vb_pert_opt)\n",
    "    vb_pert_pred_array.append(vb_pert_pred)\n",
    "    \n"
   ]
  },
  {
   "cell_type": "code",
   "execution_count": null,
   "metadata": {},
   "outputs": [],
   "source": []
  },
  {
   "cell_type": "markdown",
   "metadata": {},
   "source": [
    "# Expected number of clusters"
   ]
  },
  {
   "cell_type": "code",
   "execution_count": 47,
   "metadata": {},
   "outputs": [],
   "source": [
    "import numpy as onp"
   ]
  },
  {
   "cell_type": "code",
   "execution_count": 48,
   "metadata": {},
   "outputs": [],
   "source": [
    "lr_e_num_clusters_vec = onp.zeros(len(epsilon_vec))\n",
    "refit_e_num_clusters_vec = onp.zeros(len(epsilon_vec))\n",
    "\n",
    "for i in range(len(epsilon_vec)): \n",
    "    # number of clusters as predicted by linear response\n",
    "    lr_e_num_clusters_vec[i] = g(vb_pert_pred_array[i],\n",
    "                                 vb_params_paragami)\n",
    "    \n",
    "    # number of clusters after refitting \n",
    "    refit_e_num_clusters_vec[i] = g(vb_pert_opt_array[i],\n",
    "                                    vb_params_paragami)\n",
    "    \n"
   ]
  },
  {
   "cell_type": "code",
   "execution_count": 49,
   "metadata": {},
   "outputs": [
    {
     "data": {
      "text/plain": [
       "<matplotlib.legend.Legend at 0x7f8299d9be20>"
      ]
     },
     "execution_count": 49,
     "metadata": {},
     "output_type": "execute_result"
    },
    {
     "data": {
      "image/png": "[encoded data removed]",
      "text/plain": [
       "<Figure size 432x288 with 1 Axes>"
      ]
     },
     "metadata": {
      "needs_background": "light"
     },
     "output_type": "display_data"
    }
   ],
   "source": [
    "plt.plot(epsilon_vec, lr_e_num_clusters_vec, '+--', label = 'lr')\n",
    "plt.plot(epsilon_vec, refit_e_num_clusters_vec, '+-', label = 'refit')\n",
    "\n",
    "plt.xlabel('epsilon')\n",
    "plt.ylabel('num posterior clusters')\n",
    "plt.legend()"
   ]
  },
  {
   "cell_type": "code",
   "execution_count": null,
   "metadata": {},
   "outputs": [],
   "source": []
  },
  {
   "cell_type": "code",
   "execution_count": null,
   "metadata": {},
   "outputs": [],
   "source": []
  },
  {
   "cell_type": "raw",
   "metadata": {},
   "source": [
    "# Define prior perturbation"
   ]
  },
  {
   "cell_type": "raw",
   "metadata": {},
   "source": [
    "class WorstCasePerturbation(object): \n",
    "    def __init__(self, influence_fun, logit_v_lb = -8, logit_v_ub = 8, n_logit_v = 200): \n",
    "        self.logit_v_grid = np.linspace(logit_v_lb, logit_v_ub, n_logit_v)\n",
    "        self.v_grid = sp.special.expit(self.logit_v_grid)\n",
    "        \n",
    "        self.influence_fun = influence_fun\n",
    "        self.influence_grid = self.influence_fun(self.logit_v_grid)\n",
    "        self.len_grid = len(self.influence_grid)\n",
    "        \n",
    "        self._set_linf_worst_case()\n",
    "        \n",
    "    def _set_linf_worst_case(self): \n",
    "        # the points at which the influence changes sign\n",
    "        \n",
    "        s_influence1 = np.sign(self.influence_grid)[1:self.len_grid]\n",
    "        s_influence2 = np.sign(self.influence_grid)[0:(self.len_grid - 1)]\n",
    "        self._sign_diffs = - s_influence1 + s_influence2\n",
    "        \n",
    "        # the points at which the influence changes sign\n",
    "        self.change_bool = self._sign_diffs != 0\n",
    "        self.change_points = logit_v_grid[self.change_bool] \n",
    "        \n",
    "        # the signs\n",
    "        self.signs = s_influence2[self.change_bool]\n",
    "        self.signs = np.concatenate((self.signs, self.signs[-1][None] * -1))\n",
    "        self.sign_diffs = self._sign_diffs[self.change_bool]\n",
    "    \n",
    "    def get_e_log_linf_perturbation(self, means, infos): \n",
    "        x = np.expand_dims(self.change_points, axis = 0)\n",
    "        loc = np.expand_dims(means, axis = 1)\n",
    "        scale = np.expand_dims(1 / np.sqrt(infos), axis = 1)\n",
    "        \n",
    "        cdf = sp.stats.norm.cdf(x, loc, scale)\n",
    "        \n",
    "        e_log_pert = (cdf * np.expand_dims(self.sign_diffs, 0)).sum()\n",
    "        \n",
    "        # extra term doenst matter, just for unittesting\n",
    "        # so constants match\n",
    "        return  e_log_pert + self.signs[-1] * len(means) "
   ]
  },
  {
   "cell_type": "raw",
   "metadata": {},
   "source": [
    "worst_case_pert = WorstCasePerturbation(\\\n",
    "                            lambda logit_v : np.dot(grad_g,\n",
    "                                                    influence_operator.get_influence(logit_v)))"
   ]
  },
  {
   "cell_type": "raw",
   "metadata": {},
   "source": [
    "means = np.array([0.])\n",
    "infos = np.array([1.])"
   ]
  },
  {
   "cell_type": "raw",
   "metadata": {},
   "source": [
    "worst_case_pert.get_e_log_linf_perturbation(means, infos)"
   ]
  },
  {
   "cell_type": "raw",
   "metadata": {},
   "source": [
    "out = sp.stats.norm.cdf(worst_case_pert.change_points[0], \n",
    "                  loc = means,\n",
    "                  scale = 1 / np.sqrt(infos)) * worst_case_pert.signs[0]\n",
    "\n",
    "for i in range(1, len(worst_case_pert.change_points)): \n",
    "    cdf1 = sp.stats.norm.cdf(worst_case_pert.change_points[i], \n",
    "                      loc = means,\n",
    "                      scale = 1 / np.sqrt(infos))\n",
    "    cdf2 = sp.stats.norm.cdf(worst_case_pert.change_points[i-1], \n",
    "                      loc = means,\n",
    "                      scale = 1 / np.sqrt(infos))\n",
    "    \n",
    "    out += (cdf1 - cdf2) * worst_case_pert.signs[i]\n",
    "    \n",
    "out += (1 - cdf1) * worst_case_pert.signs[-1]"
   ]
  },
  {
   "cell_type": "raw",
   "metadata": {},
   "source": [
    "out "
   ]
  },
  {
   "cell_type": "raw",
   "metadata": {},
   "source": []
  },
  {
   "cell_type": "raw",
   "metadata": {},
   "source": []
  },
  {
   "cell_type": "raw",
   "metadata": {},
   "source": []
  },
  {
   "cell_type": "raw",
   "metadata": {},
   "source": [
    "worst_case_pert.change_points"
   ]
  },
  {
   "cell_type": "raw",
   "metadata": {},
   "source": [
    "worst_case_pert.sign_diffs"
   ]
  },
  {
   "cell_type": "raw",
   "metadata": {},
   "source": [
    "x0 = np.sign(worst_case_pert.sign_diffs[0])[None]\n",
    "signs = np.concatenate((x0, -worst_case_pert.sign_diffs))\n",
    "signs = np.cumsum(signs)"
   ]
  },
  {
   "cell_type": "raw",
   "metadata": {},
   "source": [
    "signs"
   ]
  },
  {
   "cell_type": "raw",
   "metadata": {},
   "source": []
  },
  {
   "cell_type": "raw",
   "metadata": {},
   "source": [
    "# for worst case L-inf perturbation, \n",
    "# only the points where signs change matter\n",
    "# we compute the normal CDF at these points\n",
    "sign_diffs = \\\n",
    "    np.sign(influence)[1:len(influence)] - np.sign(influence)[0:(len(influence) - 1)] \n",
    "change_bool = sign_diffs != 0\n",
    "\n",
    "change_points = logit_v_grid[change_bool] "
   ]
  },
  {
   "cell_type": "raw",
   "metadata": {},
   "source": [
    "def get_e_log_perturbation(vb_params_dict, epsilon): \n",
    "    means = vb_params_dict['stick_params']['stick_propn_mean']\n",
    "    infos = vb_params_dict['stick_params']['stick_propn_info']\n",
    "    \n",
    "    x = np.expand_dims(change_points, axis = 0)\n",
    "    loc = np.expand_dims(means, axis = 1)\n",
    "    scale = np.expand_dims(1 / np.sqrt(infos), axis = 1)\n",
    "    \n",
    "    cdf = sp.stats.norm.cdf(x, loc, scale)\n",
    "\n",
    "    return epsilon * (-cdf * np.expand_dims(change_points, 0)).sum()"
   ]
  },
  {
   "cell_type": "raw",
   "metadata": {},
   "source": [
    "get_e_log_perturbation(vb_params_dict, epsilon = 1.)"
   ]
  },
  {
   "cell_type": "raw",
   "metadata": {},
   "source": [
    "hyper_par_objective_fun = paragami.FlattenFunctionInput(\n",
    "                                        get_e_log_perturbation, \n",
    "                                        argnums=0, \n",
    "                                        patterns=vb_params_paragami,\n",
    "                                        free=True)"
   ]
  },
  {
   "cell_type": "raw",
   "metadata": {},
   "source": [
    "# get linear sensitivity \n",
    "epsilon_sens._set_cross_hess_and_solve(hyper_par_objective_fun)"
   ]
  },
  {
   "cell_type": "raw",
   "metadata": {},
   "source": []
  },
  {
   "cell_type": "raw",
   "metadata": {},
   "source": [
    "### Fit with perturbation"
   ]
  },
  {
   "cell_type": "raw",
   "metadata": {},
   "source": [
    "epsilon = 1.0 \n",
    "print('Epsilon: ', epsilon)\n",
    "\n",
    "vb_pert_pred = epsilon_sens.predict_opt_par_from_hyper_par(epsilon)\n",
    "\n",
    "print('Predicted differences: ', np.linalg.norm(vb_pert_pred - vb_opt))"
   ]
  },
  {
   "cell_type": "raw",
   "metadata": {},
   "source": [
    "vb_pert_pred_dict = vb_params_paragami.fold(vb_pert_pred, free = True)\n",
    "e_z_pert_pred = gmm_lib.get_optimal_z_from_vb_params_dict(\n",
    "    features, vb_pert_pred_dict, gh_loc, gh_weights)"
   ]
  },
  {
   "cell_type": "raw",
   "metadata": {},
   "source": [
    "new_init_dict = deepcopy(vb_opt_dict)\n",
    "new_init_free = vb_params_paragami.flatten(new_init_dict, free = True)"
   ]
  },
  {
   "cell_type": "raw",
   "metadata": {},
   "source": []
  },
  {
   "cell_type": "raw",
   "metadata": {},
   "source": []
  },
  {
   "cell_type": "raw",
   "metadata": {},
   "source": []
  },
  {
   "cell_type": "raw",
   "metadata": {},
   "source": [
    "vb_pert_dict, e_z_pert = cavi_lib.run_cavi(features, deepcopy(new_init_dict),\n",
    "                                        vb_params_paragami, prior_params_dict,\n",
    "                                        gh_loc, gh_weights,\n",
    "                                        log_phi = rescaled_log_phi,\n",
    "                                        epsilon = epsilon, \n",
    "                                        debug = False)\n",
    "\n",
    "vb_pert_opt = vb_params_paragami.flatten(vb_pert_dict, free = True)"
   ]
  },
  {
   "cell_type": "raw",
   "metadata": {},
   "source": []
  },
  {
   "cell_type": "raw",
   "metadata": {},
   "source": [
    "means = vb_params_dict['stick_params']['stick_propn_mean']\n",
    "infos = vb_params_dict['stick_params']['stick_propn_info']\n",
    "\n",
    "cdf = lambda x : sp.stats.norm.cdf(x, loc = means, scale = 1 / np.sqrt(infos))"
   ]
  },
  {
   "cell_type": "raw",
   "metadata": {},
   "source": [
    "term1 = cdf(worst_case_pert.change_points[0]) \n",
    "\n",
    "term2 = (cdf(worst_case_pert.change_points[1]) - \\\n",
    "            cdf(worst_case_pert.change_points[0])) * -1\n",
    "\n",
    "term3 = (cdf(worst_case_pert.change_points[2]) - \\\n",
    "            cdf(worst_case_pert.change_points[1])) \n",
    "\n",
    "term4 = (cdf(worst_case_pert.change_points[3]) - \\\n",
    "            cdf(worst_case_pert.change_points[2])) * -1\n",
    "\n",
    "term5 = 1 - cdf(worst_case_pert.change_points[3])"
   ]
  },
  {
   "cell_type": "raw",
   "metadata": {},
   "source": [
    "(term1 + term2 + term3 + term4 + term5).sum()"
   ]
  },
  {
   "cell_type": "raw",
   "metadata": {},
   "source": [
    "worst_case_pert.get_e_log_linf_perturbation(means, infos)"
   ]
  },
  {
   "cell_type": "raw",
   "metadata": {},
   "source": [
    "# test my e log perturbation\n",
    "means = vb_params_dict['stick_params']['stick_propn_mean']\n",
    "infos = vb_params_dict['stick_params']['stick_propn_info']\n",
    "\n",
    "get_e_log_perturbation(means, infos, epsilon = 1)"
   ]
  },
  {
   "cell_type": "code",
   "execution_count": null,
   "metadata": {},
   "outputs": [],
   "source": []
  },
  {
   "cell_type": "raw",
   "metadata": {},
   "source": [
    "import numpy as onp"
   ]
  },
  {
   "cell_type": "raw",
   "metadata": {
    "scrolled": true
   },
   "source": [
    "n_samples = 100000\n",
    "\n",
    "_infos = infos[:, None]\n",
    "_means = means[:, None]\n",
    "normal_samples = onp.random.randn(len(means), n_samples) * 1 / np.sqrt(_infos) + _means\n",
    "\n",
    "np.sign(influence_fun_interp(normal_samples)).mean(1).sum()"
   ]
  },
  {
   "cell_type": "raw",
   "metadata": {},
   "source": [
    "normal_samples.min()"
   ]
  },
  {
   "cell_type": "raw",
   "metadata": {},
   "source": []
  }
 ],
 "metadata": {
  "kernelspec": {
   "display_name": "bnp_sensitivity_jax",
   "language": "python",
   "name": "bnp_sensitivity_jax"
  },
  "language_info": {
   "codemirror_mode": {
    "name": "ipython",
    "version": 3
   },
   "file_extension": ".py",
   "mimetype": "text/x-python",
   "name": "python",
   "nbconvert_exporter": "python",
   "pygments_lexer": "ipython3",
   "version": "3.9.1"
  }
 },
 "nbformat": 4,
 "nbformat_minor": 2
}
