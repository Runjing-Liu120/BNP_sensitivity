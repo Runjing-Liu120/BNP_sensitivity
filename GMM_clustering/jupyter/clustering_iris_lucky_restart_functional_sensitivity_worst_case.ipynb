{
 "cells": [
  {
   "cell_type": "code",
   "execution_count": 1,
   "metadata": {
    "collapsed": false
   },
   "outputs": [],
   "source": [
    "import autograd.numpy as np\n",
    "import autograd.scipy as sp\n",
    "\n",
    "import autograd\n",
    "\n",
    "import sys\n",
    "sys.path.insert(0, './../../../LinearResponseVariationalBayes.py')\n",
    "sys.path.insert(0, './../')\n",
    "\n",
    "# Linear response libraries\n",
    "import LinearResponseVariationalBayes as vb\n",
    "import LinearResponseVariationalBayes.ExponentialFamilies as ef\n",
    "\n",
    "# My libraries\n",
    "import gmm_clustering_lib as gmm_utils\n",
    "import modeling_lib \n",
    "\n",
    "import functional_sensitivity_lib as fun_sens_lib\n",
    " \n",
    "\n",
    "from scipy import spatial\n",
    "import scipy.cluster.hierarchy as sch\n",
    "\n",
    "import matplotlib.pyplot as plt\n",
    "%matplotlib inline\n",
    "\n",
    "import time\n",
    "from tqdm import tqdm\n",
    "\n",
    "from copy import deepcopy\n",
    "\n",
    "from matplotlib.patches import Ellipse\n",
    "import matplotlib.cm as cm\n",
    "\n",
    "np.random.seed(453453)\n",
    "\n",
    "import json \n"
   ]
  },
  {
   "cell_type": "markdown",
   "metadata": {},
   "source": [
    "# Load data"
   ]
  },
  {
   "cell_type": "code",
   "execution_count": 2,
   "metadata": {
    "collapsed": false
   },
   "outputs": [],
   "source": [
    "# set up R chunks \n",
    "# %load_ext rpy2.ipython\n",
    "# %R require(ggplot2)"
   ]
  },
  {
   "cell_type": "code",
   "execution_count": 3,
   "metadata": {
    "collapsed": false
   },
   "outputs": [],
   "source": [
    "# load iris dataset \n",
    "\n",
    "from sklearn import datasets\n",
    "from sklearn.cluster import KMeans\n",
    "from sklearn.decomposition import PCA\n",
    "\n",
    "iris = datasets.load_iris(return_X_y= True)\n",
    "\n",
    "iris_features = iris[0]\n",
    "\n",
    "demean = True\n",
    "if demean: \n",
    "    iris_features -= np.mean(iris_features, axis = 0)[None, :]\n",
    "\n",
    "iris_species = iris[1]\n",
    "\n",
    "dim = iris_features.shape[1]"
   ]
  },
  {
   "cell_type": "code",
   "execution_count": 4,
   "metadata": {
    "collapsed": false
   },
   "outputs": [],
   "source": [
    "# define colors that will be used for plotting later\n",
    "# colors = ['red', 'blue', 'green', 'orange', 'purple', 'yellow', 'cyan', 'magenta']\n",
    "# colors += colors\n",
    "\n",
    "cmap = cm.get_cmap(name='gist_rainbow')\n",
    "colors1 = [cmap(k * 50) for k in range(12)]\n",
    "colors2 = [cmap(k * 25) for k in range(12)]"
   ]
  },
  {
   "cell_type": "code",
   "execution_count": 5,
   "metadata": {
    "collapsed": false
   },
   "outputs": [],
   "source": [
    "# run PCA\n",
    "pca_fit = PCA()\n",
    "pca_fit.fit(iris_features)\n",
    "pc_features = pca_fit.transform(iris_features)"
   ]
  },
  {
   "cell_type": "code",
   "execution_count": 6,
   "metadata": {
    "collapsed": false
   },
   "outputs": [],
   "source": [
    "def plot_clusters(x, y, cluster_labels, colors, fig, centroids = None, cov = None): \n",
    "    if np.all(cov != None): \n",
    "        assert len(np.unique(cluster_labels)) == np.shape(cov)[0]\n",
    "    if np.all(centroids != None): \n",
    "        assert len(np.unique(cluster_labels)) == np.shape(centroids)[1] \n",
    "    \n",
    "    unique_cluster_labels = np.unique(cluster_labels)\n",
    "    n_clusters = len(unique_cluster_labels)\n",
    "        \n",
    "    # this would be so much easier if \n",
    "    # python lists supported logical indexing ... \n",
    "    cluster_labels_color = [colors[k] for n in range(len(x)) \\\n",
    "                            for k in range(n_clusters) \\\n",
    "                            if cluster_labels[n] == unique_cluster_labels[k]]\n",
    "            \n",
    "    # plot datapoints\n",
    "    fig.scatter(x, y, c=cluster_labels_color, marker = '.')\n",
    "    \n",
    "    if np.all(centroids != None): \n",
    "        for k in range(n_clusters): \n",
    "            fig.scatter(centroids[0, k], centroids[1, k], marker = '+', color = 'black')\n",
    "    \n",
    "    if np.all(cov != None): \n",
    "        for k in range(n_clusters):  \n",
    "            eig, v = np.linalg.eig(cov[k, :, :])\n",
    "            ell = Ellipse(xy=(centroids[0, k], centroids[1, k]),\n",
    "                  width=np.sqrt(eig[0]) * 6, height=np.sqrt(eig[1]) * 6,\n",
    "                  angle=np.rad2deg(np.arctan(v[1, 0] / v[0, 0])))\n",
    "            ell.set_facecolor('none')\n",
    "            ell.set_edgecolor(colors[k])\n",
    "            fig.add_artist(ell)\n",
    "                "
   ]
  },
  {
   "cell_type": "code",
   "execution_count": 7,
   "metadata": {
    "collapsed": false
   },
   "outputs": [
    {
     "data": {
      "text/plain": [
       "<matplotlib.text.Text at 0x7ff02f7a8d68>"
      ]
     },
     "execution_count": 7,
     "metadata": {},
     "output_type": "execute_result"
    },
    {
     "data": {
      "image/png": "[encoded data removed]",
      "text/plain": [
       "<matplotlib.figure.Figure at 0x7ff0682a4ba8>"
      ]
     },
     "metadata": {},
     "output_type": "display_data"
    }
   ],
   "source": [
    "fig1 = plt.figure(1)\n",
    "fig = fig1.add_subplot(111)\n",
    "plot_clusters(pc_features[:, 0], pc_features[:, 1], iris_species, colors1, fig)\n",
    "fig.set_xlabel('PC1')\n",
    "fig.set_ylabel('PC2')"
   ]
  },
  {
   "cell_type": "code",
   "execution_count": 8,
   "metadata": {
    "collapsed": false
   },
   "outputs": [
    {
     "data": {
      "text/plain": [
       "<matplotlib.text.Text at 0x7ff02f711198>"
      ]
     },
     "execution_count": 8,
     "metadata": {},
     "output_type": "execute_result"
    },
    {
     "data": {
      "image/png": "[encoded data removed]",
      "text/plain": [
       "<matplotlib.figure.Figure at 0x7ff02f738d30>"
      ]
     },
     "metadata": {},
     "output_type": "display_data"
    }
   ],
   "source": [
    "fig1 = plt.figure(1)\n",
    "fig = fig1.add_subplot(111)\n",
    "plot_clusters(iris_features[:, 0], iris_features[:, 1], iris_species, colors1, fig)\n",
    "fig.set_xlabel('Sepal length')\n",
    "fig.set_ylabel('Sepal width')"
   ]
  },
  {
   "cell_type": "code",
   "execution_count": 9,
   "metadata": {
    "collapsed": false
   },
   "outputs": [],
   "source": [
    "def transform_params_to_pc_space(pca_fit, centroids, cov):\n",
    "    # centroids is dim x k_approx\n",
    "    # infos is k_approx x dim x dim\n",
    "\n",
    "    assert pca_fit.components_.shape[1] == centroids.shape[0]\n",
    "    \n",
    "    centroids_pc = pca_fit.transform(centroids.T)\n",
    "    \n",
    "    cov_pc = np.zeros(cov.shape)\n",
    "    for k in range(cov.shape[0]):\n",
    "        cov_pc[k, :, :] = np.dot(np.dot(pca_fit.components_, cov[k]), pca_fit.components_.T)\n",
    "        \n",
    "    # cov_pc = np.einsum('di, kij, ej -> kde', pca_fit.components_, cov, pca_fit.components_)\n",
    "    \n",
    "    \n",
    "    return centroids_pc.T, cov_pc"
   ]
  },
  {
   "cell_type": "markdown",
   "metadata": {},
   "source": [
    "# Set prior params"
   ]
  },
  {
   "cell_type": "code",
   "execution_count": 10,
   "metadata": {
    "collapsed": false
   },
   "outputs": [],
   "source": [
    "prior_params = gmm_utils.get_default_prior_params(dim)\n",
    "prior_params['alpha'].set(4.0)\n",
    "prior_params['prior_gamma_df'].set(8)\n",
    "prior_params['prior_gamma_inv_scale'].set(np.eye(dim) * 0.62)"
   ]
  },
  {
   "cell_type": "code",
   "execution_count": 11,
   "metadata": {
    "collapsed": false,
    "scrolled": true
   },
   "outputs": [
    {
     "name": "stdout",
     "output_type": "stream",
     "text": [
      "prior_params:\n",
      "\talpha: 4.0\n",
      "\tprior_centroid_mean: 0.0\n",
      "\tprior_centroid_info: 0.1\n",
      "\tprior_gamma_df: 8\n",
      "\tprior_gamma_inv_scale:\n",
      "[[0.62 0.   0.   0.  ]\n",
      " [0.   0.62 0.   0.  ]\n",
      " [0.   0.   0.62 0.  ]\n",
      " [0.   0.   0.   0.62]]\n"
     ]
    }
   ],
   "source": [
    "print(prior_params)"
   ]
  },
  {
   "cell_type": "markdown",
   "metadata": {},
   "source": [
    "# Set up model"
   ]
  },
  {
   "cell_type": "code",
   "execution_count": 12,
   "metadata": {
    "collapsed": false
   },
   "outputs": [],
   "source": [
    "k_approx = 12\n",
    "gh_deg = 8\n",
    "model = gmm_utils.DPGaussianMixture(iris_features, k_approx, prior_params, gh_deg, use_logitnormal_sticks=True)"
   ]
  },
  {
   "cell_type": "markdown",
   "metadata": {},
   "source": [
    "# Set inits"
   ]
  },
  {
   "cell_type": "code",
   "execution_count": 13,
   "metadata": {
    "collapsed": true
   },
   "outputs": [],
   "source": [
    "set_truth = False"
   ]
  },
  {
   "cell_type": "code",
   "execution_count": 14,
   "metadata": {
    "collapsed": false
   },
   "outputs": [],
   "source": [
    "if set_truth: \n",
    "    # set to the true centroids: \n",
    "    centroid_init = np.zeros((dim, k_approx))\n",
    "    info_init = np.zeros((k_approx, dim, dim))\n",
    "    for k in range(k_approx): \n",
    "        if k < 3: \n",
    "            k_indx = np.argwhere(iris_species == k).flatten()\n",
    "            centroid_k = np.mean(model.y[k_indx, :], axis = 0)\n",
    "\n",
    "            resid_k = model.y[k_indx, :] - centroid_k\n",
    "\n",
    "            cov_init = np.dot(resid_k.T, resid_k)\n",
    "\n",
    "            info_init[k, :, :] = np.linalg.inv(cov_init)\n",
    "            centroid_init[:, k] = centroid_k\n",
    "        else: \n",
    "            info_init[k, :, :] = np.eye(dim)\n",
    "    \n",
    "    model.vb_params['global']['centroids'].set(centroid_init)\n",
    "    model.vb_params['global']['gamma'].set(info_init)\n",
    "    \n",
    "    model.set_optimal_z()\n",
    "    \n",
    "    init_global_free_param = model.global_vb_params.get_free()\n",
    "    \n",
    "        \n",
    "    \n",
    "else: \n",
    "    # run k-means init\n",
    "    n_kmeans_init = 50\n",
    "    init_global_free_param = model.cluster_and_set_inits(n_kmeans_init = n_kmeans_init)\n"
   ]
  },
  {
   "cell_type": "markdown",
   "metadata": {
    "collapsed": true
   },
   "source": [
    "# look at initializations"
   ]
  },
  {
   "cell_type": "code",
   "execution_count": 15,
   "metadata": {
    "collapsed": true
   },
   "outputs": [],
   "source": [
    "init_clusters = np.argmax(model.vb_params['e_z'].get(), axis = 1)\n",
    "init_centroids = model.vb_params['global']['centroids'].get()\n",
    "init_cov = np.linalg.inv(model.vb_params['global']['gamma'].get())"
   ]
  },
  {
   "cell_type": "code",
   "execution_count": 16,
   "metadata": {
    "collapsed": false
   },
   "outputs": [
    {
     "data": {
      "image/png": "[encoded data removed]",
      "text/plain": [
       "<matplotlib.figure.Figure at 0x7ff02f667c88>"
      ]
     },
     "metadata": {},
     "output_type": "display_data"
    }
   ],
   "source": [
    "init_centroids_pc, init_cov_pc = transform_params_to_pc_space(pca_fit, init_centroids, init_cov)\n",
    "\n",
    "fig1 = plt.figure(1)\n",
    "fig = fig1.add_subplot(111)\n",
    "\n",
    "plot_clusters(pc_features[:, 0], pc_features[:, 1], init_clusters, \\\n",
    "            colors2, fig, \\\n",
    "             centroids = init_centroids_pc, cov = init_cov_pc)"
   ]
  },
  {
   "cell_type": "code",
   "execution_count": 17,
   "metadata": {
    "collapsed": false
   },
   "outputs": [
    {
     "name": "stdout",
     "output_type": "stream",
     "text": [
      "10409.879713358841\n"
     ]
    }
   ],
   "source": [
    "print(np.linalg.norm(model.vb_params['global']['gamma'].get()))"
   ]
  },
  {
   "cell_type": "markdown",
   "metadata": {
    "collapsed": true
   },
   "source": [
    "# Optimize!"
   ]
  },
  {
   "cell_type": "code",
   "execution_count": 18,
   "metadata": {
    "collapsed": true
   },
   "outputs": [],
   "source": [
    "load_from_disc = True"
   ]
  },
  {
   "cell_type": "code",
   "execution_count": 19,
   "metadata": {
    "collapsed": false,
    "scrolled": false
   },
   "outputs": [],
   "source": [
    "if not load_from_disc: \n",
    "    t0 = time.time()\n",
    "    best_param, kl_hessian, kl_hessian_corrected, \\\n",
    "    init_opt_time, newton_time, x_conv, f_conv, vb_opt = \\\n",
    "        model.optimize_full(init_global_free_param,\n",
    "            init_max_iter=100,\n",
    "            final_max_iter=500)\n",
    "    t_newton = time.time() - t0\n",
    "\n",
    "    print('done. ')\n",
    "    \n",
    "else: \n",
    "\n",
    "    full_data_fit_file = '../iris_fits/full_data_fits/iris_bnp_full_data_fit.json'\n",
    "    with open(full_data_fit_file, 'r') as fp:\n",
    "        fit_dict = json.load(fp)\n",
    "\n",
    "    model = gmm_utils.get_model_from_checkpoint(fit_dict)\n",
    "    model_ = gmm_utils.get_model_from_checkpoint(fit_dict)\n",
    "\n",
    "    best_param = model.global_vb_params.get_free()"
   ]
  },
  {
   "cell_type": "code",
   "execution_count": 20,
   "metadata": {
    "collapsed": false
   },
   "outputs": [],
   "source": [
    "newton_results = deepcopy(model)"
   ]
  },
  {
   "cell_type": "code",
   "execution_count": 21,
   "metadata": {
    "collapsed": false,
    "scrolled": true
   },
   "outputs": [
    {
     "name": "stdout",
     "output_type": "stream",
     "text": [
      "prior_params:\n",
      "\talpha: 4.0\n",
      "\tprior_centroid_mean: 0.0\n",
      "\tprior_centroid_info: 0.1\n",
      "\tprior_gamma_df: 8\n",
      "\tprior_gamma_inv_scale:\n",
      "[[0.62 0.   0.   0.  ]\n",
      " [0.   0.62 0.   0.  ]\n",
      " [0.   0.   0.62 0.  ]\n",
      " [0.   0.   0.   0.62]]\n"
     ]
    }
   ],
   "source": [
    "print(prior_params)"
   ]
  },
  {
   "cell_type": "code",
   "execution_count": 22,
   "metadata": {
    "collapsed": true
   },
   "outputs": [],
   "source": [
    "bnp_clusters = np.argmax(newton_results.vb_params['e_z'].get(), axis = 1)\n",
    "bnp_centroids = newton_results.vb_params['global']['centroids'].get()\n",
    "\n",
    "bnp_cluster_infos = newton_results.vb_params['global']['gamma'].get()\n",
    "bnp_cluster_covs = np.linalg.inv(bnp_cluster_infos)"
   ]
  },
  {
   "cell_type": "markdown",
   "metadata": {
    "collapsed": true
   },
   "source": [
    "### look at bnp clusters"
   ]
  },
  {
   "cell_type": "code",
   "execution_count": 23,
   "metadata": {
    "collapsed": true
   },
   "outputs": [],
   "source": [
    "bnp_centroids_pc, bnp_cluster_covs_pc = \\\n",
    "    transform_params_to_pc_space(pca_fit, bnp_centroids, bnp_cluster_covs)"
   ]
  },
  {
   "cell_type": "code",
   "execution_count": 24,
   "metadata": {
    "collapsed": false
   },
   "outputs": [
    {
     "data": {
      "text/plain": [
       "<matplotlib.text.Text at 0x7ff02f546780>"
      ]
     },
     "execution_count": 24,
     "metadata": {},
     "output_type": "execute_result"
    },
    {
     "data": {
      "image/png": "[encoded data removed]",
      "text/plain": [
       "<matplotlib.figure.Figure at 0x7ff02f5372e8>"
      ]
     },
     "metadata": {},
     "output_type": "display_data"
    }
   ],
   "source": [
    "fig1 = plt.figure(1)\n",
    "fig = fig1.add_subplot(111)\n",
    "\n",
    "colors1_ = deepcopy(colors1)\n",
    "colors1_[0] = colors1[2]\n",
    "colors1_[1] = colors1[0]\n",
    "colors1_[2] = colors1[1]\n",
    "\n",
    "plot_clusters(pc_features[:, 0], pc_features[:, 1], bnp_clusters, \\\n",
    "              colors1_, fig, \\\n",
    "              centroids = bnp_centroids_pc[:, np.unique(bnp_clusters)], \\\n",
    "              cov = bnp_cluster_covs_pc[np.unique(bnp_clusters)])\n",
    "fig.set_xlabel('PC1')\n",
    "fig.set_ylabel('PC2')"
   ]
  },
  {
   "cell_type": "code",
   "execution_count": 25,
   "metadata": {
    "collapsed": false
   },
   "outputs": [],
   "source": [
    "# plt.scatter(pc_features[bnp_clusters == 0, 0], pc_features[bnp_clusters == 0, 1])"
   ]
  },
  {
   "cell_type": "code",
   "execution_count": 26,
   "metadata": {
    "collapsed": false
   },
   "outputs": [
    {
     "data": {
      "image/png": "[encoded data removed]",
      "text/plain": [
       "<matplotlib.figure.Figure at 0x7ff02f4e4470>"
      ]
     },
     "metadata": {},
     "output_type": "display_data"
    }
   ],
   "source": [
    "# recall true clustering\n",
    "fig1 = plt.figure(1)\n",
    "fig = fig1.add_subplot(111)\n",
    "plot_clusters(pc_features[:, 0], pc_features[:, 1], iris_species, colors1, fig)"
   ]
  },
  {
   "cell_type": "code",
   "execution_count": 27,
   "metadata": {
    "collapsed": false
   },
   "outputs": [
    {
     "data": {
      "text/plain": [
       "<matplotlib.image.AxesImage at 0x7ff02f3cf1d0>"
      ]
     },
     "execution_count": 27,
     "metadata": {},
     "output_type": "execute_result"
    },
    {
     "data": {
      "image/png": "[encoded data removed]",
      "text/plain": [
       "<matplotlib.figure.Figure at 0x7ff03a2bcdd8>"
      ]
     },
     "metadata": {},
     "output_type": "display_data"
    }
   ],
   "source": [
    "model.set_from_global_free_par(newton_results.global_vb_params.get_free())\n",
    "e_z = model.vb_params['e_z'].get()\n",
    "co_cluster_mat = np.dot(e_z, e_z.T)\n",
    "\n",
    "dis = (co_cluster_mat + 1) ** (-1)\n",
    "dis[np.diag_indices_from(dis)] = 0\n",
    "dis = spatial.distance.squareform(dis, checks=False)\n",
    "y = sch.linkage(dis, method='average')\n",
    "indx_best = sch.dendrogram(y, no_plot=True)[\"leaves\"]\n",
    "\n",
    "co_cluster_mat = co_cluster_mat[indx_best][:, indx_best]\n",
    "\n",
    "plt.matshow(co_cluster_mat)\n"
   ]
  },
  {
   "cell_type": "code",
   "execution_count": 28,
   "metadata": {
    "collapsed": false
   },
   "outputs": [],
   "source": [
    "# %%R -i bnp_clusters -i bnp_centroids -w 4 -h 3 --units in -r 200\n",
    "# #     pca_centroids_init <- as.data.frame(predict(pca_results, t(init_centroids)))\n",
    "# #     pca_centroids_init$cluster <- as.factor(seq(1, 10, by = 1))\n",
    "# # TODO: plot the centroids too \n",
    "\n",
    "# # add our bnp clusterings to the dataframe\n",
    "# df_pca$bnp_clusters <- as.factor(bnp_clusters)\n",
    "\n",
    "# # plot\n",
    "# ggplot() + geom_point(data = df_pca, aes(x = PC1, y = PC2, color = bnp_clusters), size = 0.5) + \n",
    "#     theme(legend.position=\"none\") "
   ]
  },
  {
   "cell_type": "code",
   "execution_count": 29,
   "metadata": {
    "collapsed": false
   },
   "outputs": [
    {
     "data": {
      "image/png": "[encoded data removed]",
      "text/plain": [
       "<matplotlib.figure.Figure at 0x7ff02f537128>"
      ]
     },
     "metadata": {},
     "output_type": "display_data"
    }
   ],
   "source": [
    "cluster_weights = np.sum(newton_results.vb_params['e_z'].get(), axis = 0) / np.shape(model.y)[0]\n",
    "plt.bar(np.arange(len(cluster_weights)), cluster_weights); "
   ]
  },
  {
   "cell_type": "code",
   "execution_count": 30,
   "metadata": {
    "collapsed": false
   },
   "outputs": [
    {
     "data": {
      "image/png": "[encoded data removed]",
      "text/plain": [
       "<matplotlib.figure.Figure at 0x7ff02f560630>"
      ]
     },
     "metadata": {},
     "output_type": "display_data"
    }
   ],
   "source": [
    "posterior_weights = model.get_e_cluster_probabilities()\n",
    "plt.bar(np.arange(len(posterior_weights)), posterior_weights); "
   ]
  },
  {
   "cell_type": "code",
   "execution_count": 31,
   "metadata": {
    "collapsed": false
   },
   "outputs": [
    {
     "data": {
      "text/plain": [
       "(array([  2.,   0.,   1.,   1.,   1.,   5.,   2.,   2.,   6., 130.]),\n",
       " array([0.44352936, 0.49917643, 0.55482349, 0.61047055, 0.66611762,\n",
       "        0.72176468, 0.77741174, 0.83305881, 0.88870587, 0.94435294,\n",
       "        1.        ]),\n",
       " <a list of 10 Patch objects>)"
      ]
     },
     "execution_count": 31,
     "metadata": {},
     "output_type": "execute_result"
    },
    {
     "data": {
      "image/png": "[encoded data removed]",
      "text/plain": [
       "<matplotlib.figure.Figure at 0x7ff02f38c7f0>"
      ]
     },
     "metadata": {},
     "output_type": "display_data"
    }
   ],
   "source": [
    "plt.hist(np.max(model.vb_params['e_z'].get(), axis = 1))"
   ]
  },
  {
   "cell_type": "markdown",
   "metadata": {},
   "source": [
    "# Functional sensitivity"
   ]
  },
  {
   "cell_type": "code",
   "execution_count": 32,
   "metadata": {
    "collapsed": false,
    "scrolled": true
   },
   "outputs": [
    {
     "name": "stdout",
     "output_type": "stream",
     "text": [
      "KL Hessian:\n",
      "Prior Hessian...\n",
      "Data Hessian...\n",
      "Linear systems...\n",
      "Done.\n"
     ]
    }
   ],
   "source": [
    "best_param = newton_results.global_vb_params.get_free()\n",
    "prior_free_params = newton_results.prior_params.get_free()\n",
    "\n",
    "model.set_from_global_free_par(best_param)\n",
    "\n",
    "moment_model = gmm_utils.InterestingMoments(deepcopy(model))\n",
    "linear_sens = gmm_utils.LinearSensitivity(deepcopy(model), moment_model)"
   ]
  },
  {
   "cell_type": "code",
   "execution_count": 33,
   "metadata": {
    "collapsed": true
   },
   "outputs": [],
   "source": [
    "model.set_from_global_free_par(best_param)\n",
    "model.prior_params.set_free(prior_free_params)"
   ]
  },
  {
   "cell_type": "code",
   "execution_count": 34,
   "metadata": {
    "collapsed": false
   },
   "outputs": [
    {
     "name": "stdout",
     "output_type": "stream",
     "text": [
      "0.07230487288465379 2452.4187642002653\n"
     ]
    }
   ],
   "source": [
    "kl_hess_ev, kl_hess_evec = np.linalg.eig(linear_sens.kl_hessian)\n",
    "print(np.min(kl_hess_ev), np.max(kl_hess_ev))"
   ]
  },
  {
   "cell_type": "code",
   "execution_count": 35,
   "metadata": {
    "collapsed": true
   },
   "outputs": [],
   "source": [
    "def get_e_number_clusters_from_free_par(model, global_free_params, samples = 10000): \n",
    "    model.global_vb_params.set_free(global_free_params)\n",
    "    return modeling_lib.get_e_number_clusters_from_logit_sticks_diffble(model.vb_params, samples = samples)"
   ]
  },
  {
   "cell_type": "code",
   "execution_count": 36,
   "metadata": {
    "collapsed": false
   },
   "outputs": [],
   "source": [
    "# we examine the influence on the posterior stick lengths\n",
    "def get_stick_length_from_free_param(model, free_par): \n",
    "    model.set_from_global_free_par(free_par)\n",
    "    return ef.get_e_logitnormal(lognorm_means = model.vb_params['global']['v_sticks']['mean'].get(),\n",
    "                lognorm_infos = model.vb_params['global']['v_sticks']['info'].get(),\n",
    "                gh_loc = model.vb_params.gh_loc,\n",
    "                gh_weights = model.vb_params.gh_weights)\n",
    "\n",
    "\n",
    "# lets look at weights instead \n",
    "def get_kth_weight_from_free_param(model, free_par, k): \n",
    "    model.set_from_global_free_par(free_par)\n",
    "    e_sticks = ef.get_e_logitnormal(lognorm_means = model.vb_params['global']['v_sticks']['mean'].get(),\n",
    "                lognorm_infos = model.vb_params['global']['v_sticks']['info'].get(),\n",
    "                gh_loc = model.vb_params.gh_loc,\n",
    "                gh_weights = model.vb_params.gh_weights)\n",
    "    \n",
    "    return modeling_lib.get_kth_weight_from_sticks(np.array([e_sticks]), k)\n",
    "\n",
    "g_eta = np.zeros((k_approx, model.global_vb_params.free_size()))\n",
    "for k in range(k_approx): \n",
    "    get_g_eta = autograd.jacobian(get_kth_weight_from_free_param, argnum = 1)\n",
    "    g_eta[k, :] = get_g_eta(model, best_param, k)"
   ]
  },
  {
   "cell_type": "code",
   "execution_count": 37,
   "metadata": {
    "collapsed": false
   },
   "outputs": [],
   "source": [
    "get_g_eta_nclust = autograd.jacobian(get_e_number_clusters_from_free_par, argnum = 1)\n",
    "g_eta_nclust = get_g_eta_nclust(model, best_param)"
   ]
  },
  {
   "cell_type": "markdown",
   "metadata": {
    "collapsed": true
   },
   "source": [
    "# Worst case influence"
   ]
  },
  {
   "cell_type": "code",
   "execution_count": 38,
   "metadata": {
    "collapsed": false
   },
   "outputs": [],
   "source": [
    "worst_case_neg = lambda x : linear_sens.get_worst_case_perturbation_unscaled(g_eta = g_eta_nclust, \\\n",
    "                                                                      theta = x, \\\n",
    "                                                                      sign = -1)\n",
    "\n",
    "worst_case_pos = lambda x : linear_sens.get_worst_case_perturbation_unscaled(g_eta = g_eta_nclust, \\\n",
    "                                                                      theta = x, \\\n",
    "                                                                      sign = 1)"
   ]
  },
  {
   "cell_type": "code",
   "execution_count": 39,
   "metadata": {
    "collapsed": true
   },
   "outputs": [],
   "source": [
    "theta = np.linspace(0.01, 0.99, 100)"
   ]
  },
  {
   "cell_type": "code",
   "execution_count": 40,
   "metadata": {
    "collapsed": true
   },
   "outputs": [],
   "source": [
    "epsilon = 0.01"
   ]
  },
  {
   "cell_type": "code",
   "execution_count": 41,
   "metadata": {
    "collapsed": false
   },
   "outputs": [
    {
     "data": {
      "text/plain": [
       "<matplotlib.text.Text at 0x7f864b1957b8>"
      ]
     },
     "execution_count": 41,
     "metadata": {},
     "output_type": "execute_result"
    },
    {
     "data": {
      "image/png": "[encoded data removed]",
      "text/plain": [
       "<matplotlib.figure.Figure at 0x7f864b170278>"
      ]
     },
     "metadata": {},
     "output_type": "display_data"
    }
   ],
   "source": [
    "plt.plot(theta, np.dot(g_eta_nclust, linear_sens.total_influence_function(theta)), 'b--')\n",
    "plt.plot(theta, worst_case_neg(theta).flatten() * epsilon, 'red')\n",
    "plt.xlabel('x')\n",
    "plt.ylabel('u(x)')\n",
    "# plt.title('total influence on n_clusters')"
   ]
  },
  {
   "cell_type": "code",
   "execution_count": 42,
   "metadata": {
    "collapsed": false
   },
   "outputs": [
    {
     "data": {
      "text/plain": [
       "<matplotlib.text.Text at 0x7f864b2bea58>"
      ]
     },
     "execution_count": 42,
     "metadata": {},
     "output_type": "execute_result"
    },
    {
     "data": {
      "image/png": "[encoded data removed]",
      "text/plain": [
       "<matplotlib.figure.Figure at 0x7f864b08bef0>"
      ]
     },
     "metadata": {},
     "output_type": "display_data"
    }
   ],
   "source": [
    "plt.plot(theta, np.dot(g_eta_nclust, linear_sens.total_influence_function(theta)), 'b--')\n",
    "plt.plot(theta, worst_case_pos(theta).flatten(), 'red')\n",
    "plt.xlabel('x')\n",
    "plt.ylabel('u(x)')\n",
    "# plt.title('total influence on n_clusters')"
   ]
  },
  {
   "cell_type": "code",
   "execution_count": 43,
   "metadata": {
    "collapsed": true
   },
   "outputs": [],
   "source": [
    "def eval_linear_interpolation(x, int_points_x, int_points_y): \n",
    "    # x are the values at which we want to evaluate the function\n",
    "    # int_point_y are the true values of the function at int_point_x \n",
    "    \n",
    "    # get the indices where x falls in int_points_x\n",
    "    x_indices = np.searchsorted(int_points_x, x)\n",
    "    x_indices = x_indices.clip(1, len(int_points_x)-1).astype(int)\n",
    "\n",
    "    lo = x_indices - 1\n",
    "    hi = x_indices\n",
    "\n",
    "    # The actual points between which the x falls\n",
    "    x_lo = int_points_x[lo]\n",
    "    x_hi = int_points_x[hi]\n",
    "    # the y values at those points\n",
    "    y_lo = int_points_y[lo]\n",
    "    y_hi = int_points_y[hi]\n",
    "                      \n",
    "    # get slope\n",
    "    slope = (y_hi - y_lo) / (x_hi - x_lo)\n",
    "    \n",
    "    # return interplated value\n",
    "    return slope*(x - x_lo) + y_lo"
   ]
  },
  {
   "cell_type": "code",
   "execution_count": 44,
   "metadata": {
    "collapsed": false
   },
   "outputs": [],
   "source": [
    "# Get interpolating points\n",
    "n_int_points = 10000\n",
    "int_points_x_ = np.linspace(0.0, 1.0, n_int_points)\n",
    "int_points_x = np.sort((1 - (np.power(10, int_points_x_) - 1) / 9) * (1 - 0.6e-6) + 0.5e-6)"
   ]
  },
  {
   "cell_type": "code",
   "execution_count": 45,
   "metadata": {
    "collapsed": false
   },
   "outputs": [
    {
     "data": {
      "image/png": "[encoded data removed]",
      "text/plain": [
       "<matplotlib.figure.Figure at 0x7f864b568518>"
      ]
     },
     "metadata": {},
     "output_type": "display_data"
    }
   ],
   "source": [
    "# plt.plot(int_points_x, np.zeros(len(int_points_x)), '.', alpha = 0.005)\n",
    "plt.hist(int_points_x, bins = 100); "
   ]
  },
  {
   "cell_type": "code",
   "execution_count": 46,
   "metadata": {
    "collapsed": false
   },
   "outputs": [
    {
     "data": {
      "text/plain": [
       "array([5.00000000e-07, 2.56338763e-04, 5.12118617e-04, ...,\n",
       "       9.99948715e-01, 9.99974310e-01, 9.99999900e-01])"
      ]
     },
     "execution_count": 46,
     "metadata": {},
     "output_type": "execute_result"
    }
   ],
   "source": [
    "int_points_x"
   ]
  },
  {
   "cell_type": "code",
   "execution_count": 47,
   "metadata": {
    "collapsed": false
   },
   "outputs": [
    {
     "data": {
      "text/plain": [
       "0.9999998999999999"
      ]
     },
     "execution_count": 47,
     "metadata": {},
     "output_type": "execute_result"
    }
   ],
   "source": [
    "np.max(int_points_x)"
   ]
  },
  {
   "cell_type": "code",
   "execution_count": 48,
   "metadata": {
    "collapsed": false
   },
   "outputs": [
    {
     "data": {
      "text/plain": [
       "5e-07"
      ]
     },
     "execution_count": 48,
     "metadata": {},
     "output_type": "execute_result"
    }
   ],
   "source": [
    "np.min(int_points_x)"
   ]
  },
  {
   "cell_type": "code",
   "execution_count": 103,
   "metadata": {
    "collapsed": false
   },
   "outputs": [],
   "source": [
    "worst_case_pos_int_points = \\\n",
    "    linear_sens.get_worst_case_perturbation_unscaled(g_eta = g_eta_nclust, \\\n",
    "                                                      theta = int_points_x, \\\n",
    "                                                      diffble = False, \\\n",
    "                                                      sign = 1).flatten()\n",
    "worst_case_neg_int_points = \\\n",
    "    linear_sens.get_worst_case_perturbation_unscaled(g_eta = g_eta_nclust, \\\n",
    "                                                      theta = int_points_x, \\\n",
    "                                                      diffble = False, \\\n",
    "                                                      sign = -1).flatten()"
   ]
  },
  {
   "cell_type": "code",
   "execution_count": 104,
   "metadata": {
    "collapsed": false
   },
   "outputs": [],
   "source": [
    "# plt.plot(int_points_x, worst_case_neg_int_points, 'blue')\n",
    "# plt.plot(theta, worst_case_neg(theta).flatten(), 'red')"
   ]
  },
  {
   "cell_type": "code",
   "execution_count": 105,
   "metadata": {
    "collapsed": true
   },
   "outputs": [],
   "source": [
    "worst_case_pos_interpolated = lambda x : eval_linear_interpolation(x, int_points_x, worst_case_pos_int_points)\n",
    "worst_case_neg_interpolated = lambda x : eval_linear_interpolation(x, int_points_x, worst_case_neg_int_points)"
   ]
  },
  {
   "cell_type": "code",
   "execution_count": 107,
   "metadata": {
    "collapsed": false
   },
   "outputs": [
    {
     "name": "stdout",
     "output_type": "stream",
     "text": [
      "absolute diff\n",
      "0.0038590104986724327\n",
      "0.33200340961741404\n"
     ]
    }
   ],
   "source": [
    "x = np.random.random((100))\n",
    "\n",
    "print('absolute diff')\n",
    "print(np.max(np.abs(worst_case_pos_interpolated(x) - worst_case_pos(x))))\n",
    "print(np.max(np.abs(worst_case_neg_interpolated(x) - worst_case_neg(x))))\n",
    "\n",
    "# print('\\n relative diff')\n",
    "# print(np.max(np.abs(worst_case_pos_interpolated(x) - worst_case_pos(x) / worst_case_pos(x))))\n",
    "# print(np.max(np.abs(worst_case_neg_interpolated(x) - worst_case_neg(x) / worst_case_neg(x))))"
   ]
  },
  {
   "cell_type": "code",
   "execution_count": 108,
   "metadata": {
    "collapsed": false
   },
   "outputs": [
    {
     "data": {
      "text/plain": [
       "[<matplotlib.lines.Line2D at 0x7fede7d370f0>]"
      ]
     },
     "execution_count": 108,
     "metadata": {},
     "output_type": "execute_result"
    },
    {
     "data": {
      "image/png": "[encoded data removed]",
      "text/plain": [
       "<matplotlib.figure.Figure at 0x7fede7e6a438>"
      ]
     },
     "metadata": {},
     "output_type": "display_data"
    }
   ],
   "source": [
    "plt.plot(theta, worst_case_pos(theta).flatten(), 'red')\n",
    "plt.plot(theta, worst_case_pos_interpolated(theta).flatten(), color = 'blue', marker = 'x')\n",
    "plt.plot(theta, np.dot(g_eta_nclust, linear_sens.total_influence_function(theta)), \n",
    "         color = 'orange')\n"
   ]
  },
  {
   "cell_type": "code",
   "execution_count": 109,
   "metadata": {
    "collapsed": false
   },
   "outputs": [
    {
     "data": {
      "text/plain": [
       "[<matplotlib.lines.Line2D at 0x7fede7cb6588>]"
      ]
     },
     "execution_count": 109,
     "metadata": {},
     "output_type": "execute_result"
    },
    {
     "data": {
      "image/png": "[encoded data removed]",
      "text/plain": [
       "<matplotlib.figure.Figure at 0x7fede7e7aa20>"
      ]
     },
     "metadata": {},
     "output_type": "display_data"
    }
   ],
   "source": [
    "plt.plot(theta, worst_case_pos(theta).flatten() - worst_case_pos_interpolated(theta).flatten())"
   ]
  },
  {
   "cell_type": "code",
   "execution_count": 110,
   "metadata": {
    "collapsed": false
   },
   "outputs": [
    {
     "data": {
      "text/plain": [
       "[<matplotlib.lines.Line2D at 0x7fede7dcd390>]"
      ]
     },
     "execution_count": 110,
     "metadata": {},
     "output_type": "execute_result"
    },
    {
     "data": {
      "image/png": "[encoded data removed]",
      "text/plain": [
       "<matplotlib.figure.Figure at 0x7fede7d42048>"
      ]
     },
     "metadata": {},
     "output_type": "display_data"
    }
   ],
   "source": [
    "plt.plot(theta, worst_case_neg(theta).flatten(), 'red')\n",
    "plt.plot(theta, worst_case_neg_interpolated(theta).flatten(), color = 'blue', marker = 'x')\n",
    "\n",
    "plt.plot(theta, np.dot(g_eta_nclust, linear_sens.total_influence_function(theta)), \n",
    "         color = 'orange')\n"
   ]
  },
  {
   "cell_type": "code",
   "execution_count": 111,
   "metadata": {
    "collapsed": false
   },
   "outputs": [
    {
     "data": {
      "text/plain": [
       "[<matplotlib.lines.Line2D at 0x7fede7bb3d30>]"
      ]
     },
     "execution_count": 111,
     "metadata": {},
     "output_type": "execute_result"
    },
    {
     "data": {
      "image/png": "[encoded data removed]",
      "text/plain": [
       "<matplotlib.figure.Figure at 0x7fede7cd6c18>"
      ]
     },
     "metadata": {},
     "output_type": "display_data"
    }
   ],
   "source": [
    "plt.plot(theta, worst_case_neg(theta).flatten() - worst_case_neg_interpolated(theta).flatten())"
   ]
  },
  {
   "cell_type": "code",
   "execution_count": 112,
   "metadata": {
    "collapsed": true
   },
   "outputs": [],
   "source": [
    "# worst_case_neg_ = lambda x : linear_sens.get_worst_case_perturbation(g_eta = g_eta_nclust, \\\n",
    "#                                                                       theta = x, \\\n",
    "#                                                                       sign = -1, \n",
    "#                                                                     diffble = False) / np.sqrt(norm_neg)\n",
    "\n",
    "# worst_case_pos_ = lambda x : linear_sens.get_worst_case_perturbation(g_eta = g_eta_nclust, \\\n",
    "#                                                                       theta = x, \\\n",
    "#                                                                       sign = 1, \n",
    "#                                                                    diffble = False) / np.sqrt(norm_pos)\n",
    "\n",
    "# worst_case_fun_sens_mat_pos = np.zeros((len(best_param), k_approx - 1))\n",
    "# worst_case_fun_sens_mat_neg = np.zeros((len(best_param), k_approx - 1))\n",
    "# for k in range(k_approx - 1): \n",
    "#     worst_case_fun_sens_mat_pos[:, k] = \\\n",
    "#         linear_sens.get_functional_sensitivity(lambda x : worst_case_pos_(x), k)\n",
    "    \n",
    "#     worst_case_fun_sens_mat_neg[:, k] = \\\n",
    "#         linear_sens.get_functional_sensitivity(lambda x : worst_case_neg_(x), k)\n",
    "    "
   ]
  },
  {
   "cell_type": "code",
   "execution_count": 113,
   "metadata": {
    "collapsed": false,
    "scrolled": true
   },
   "outputs": [],
   "source": [
    "# get functional sensitivity\n",
    "worst_case_fun_sens_mat_pos, worst_case_fun_sens_mat_neg = \\\n",
    "    linear_sens.get_worst_case_fun_sens(g_eta_nclust)"
   ]
  },
  {
   "cell_type": "code",
   "execution_count": 114,
   "metadata": {
    "collapsed": false
   },
   "outputs": [],
   "source": [
    "worst_case_fun_sens_mat_pos_ = np.zeros((len(best_param), k_approx - 1))\n",
    "worst_case_fun_sens_mat_neg_ = np.zeros((len(best_param), k_approx - 1))\n",
    "for k in range(k_approx - 1): \n",
    "    worst_case_fun_sens_mat_pos_[:, k] = \\\n",
    "        linear_sens.get_functional_sensitivity(lambda x : np.abs(worst_case_pos_interpolated(x)), k)\n",
    "    worst_case_fun_sens_mat_neg_[:, k] = \\\n",
    "        linear_sens.get_functional_sensitivity(lambda x : np.abs(worst_case_neg_interpolated(x)), k)"
   ]
  },
  {
   "cell_type": "code",
   "execution_count": 115,
   "metadata": {
    "collapsed": false
   },
   "outputs": [
    {
     "data": {
      "text/plain": [
       "7385.504170454864"
      ]
     },
     "execution_count": 115,
     "metadata": {},
     "output_type": "execute_result"
    }
   ],
   "source": [
    "np.max(np.abs(worst_case_fun_sens_mat_pos - worst_case_fun_sens_mat_pos_))"
   ]
  },
  {
   "cell_type": "code",
   "execution_count": 116,
   "metadata": {
    "collapsed": false
   },
   "outputs": [
    {
     "data": {
      "text/plain": [
       "1805411.3892280012"
      ]
     },
     "execution_count": 116,
     "metadata": {},
     "output_type": "execute_result"
    }
   ],
   "source": [
    "np.max(np.abs(worst_case_fun_sens_mat_neg - worst_case_fun_sens_mat_neg_))"
   ]
  },
  {
   "cell_type": "code",
   "execution_count": 117,
   "metadata": {
    "collapsed": false,
    "scrolled": false
   },
   "outputs": [
    {
     "data": {
      "text/plain": [
       "(array([182]), array([3]))"
      ]
     },
     "execution_count": 117,
     "metadata": {},
     "output_type": "execute_result"
    }
   ],
   "source": [
    "np.where(np.abs(worst_case_fun_sens_mat_pos - worst_case_fun_sens_mat_pos_) == \n",
    "        np.max(np.abs(worst_case_fun_sens_mat_pos - worst_case_fun_sens_mat_pos_)))"
   ]
  },
  {
   "cell_type": "code",
   "execution_count": 118,
   "metadata": {
    "collapsed": false
   },
   "outputs": [
    {
     "data": {
      "text/plain": [
       "(array([182]), array([3]))"
      ]
     },
     "execution_count": 118,
     "metadata": {},
     "output_type": "execute_result"
    }
   ],
   "source": [
    "np.where(np.abs(worst_case_fun_sens_mat_neg - worst_case_fun_sens_mat_neg_) == \n",
    "        np.max(np.abs(worst_case_fun_sens_mat_neg - worst_case_fun_sens_mat_neg_)))"
   ]
  },
  {
   "cell_type": "code",
   "execution_count": 119,
   "metadata": {
    "collapsed": true
   },
   "outputs": [],
   "source": [
    "worst_case_neg = lambda x : \\\n",
    "                linear_sens.get_worst_case_perturbation_unscaled(\n",
    "                                        g_eta = g_eta_nclust, \\\n",
    "                                        theta = x, \\\n",
    "                                        sign = -1,\n",
    "                                        diffble = False)"
   ]
  },
  {
   "cell_type": "code",
   "execution_count": 120,
   "metadata": {
    "collapsed": true
   },
   "outputs": [],
   "source": [
    "k = 3"
   ]
  },
  {
   "cell_type": "code",
   "execution_count": 121,
   "metadata": {
    "collapsed": true
   },
   "outputs": [],
   "source": [
    "# importance sample\n",
    "linear_sens.model.global_vb_params.set_free(linear_sens.optimal_global_free_params)\n",
    "mean_sample = linear_sens.model.vb_params['global']['v_sticks']['mean'].get()[k]\n",
    "info_sample = (1 / 4.0) * \\\n",
    "        linear_sens.model.vb_params['global']['v_sticks']['info'].get()[k]\n",
    "\n",
    "samples = sp.special.expit(np.random.randn(1000) * 1 / np.sqrt(info_sample) + \\\n",
    "                mean_sample)\n",
    "\n"
   ]
  },
  {
   "cell_type": "code",
   "execution_count": 122,
   "metadata": {
    "collapsed": false
   },
   "outputs": [
    {
     "data": {
      "text/plain": [
       "0.15065954290912487"
      ]
     },
     "execution_count": 122,
     "metadata": {},
     "output_type": "execute_result"
    }
   ],
   "source": [
    "np.max(np.abs(worst_case_neg(samples) - worst_case_neg_interpolated(samples)))"
   ]
  },
  {
   "cell_type": "code",
   "execution_count": 123,
   "metadata": {
    "collapsed": false
   },
   "outputs": [],
   "source": [
    "imp_sample_integrand = lambda x : np.exp(\\\n",
    "            linear_sens.get_q_prior_log_ratio(x, k) + \\\n",
    "            np.log(worst_case_neg(x) + 1e-16) -\n",
    "            fun_sens_lib.get_log_logitnormal_density(x, mean_sample, info_sample)) * \\\n",
    "            linear_sens.get_influence_operator(x, k, diffble = False)\n",
    "    \n",
    "integrand = imp_sample_integrand(samples)"
   ]
  },
  {
   "cell_type": "code",
   "execution_count": 124,
   "metadata": {
    "collapsed": true
   },
   "outputs": [],
   "source": [
    "imp_sample_integrand_ = lambda x : np.exp(\\\n",
    "            linear_sens.get_q_prior_log_ratio(x, k) + \\\n",
    "            np.log(worst_case_neg_interpolated(x) + 1e-16) -\n",
    "            fun_sens_lib.get_log_logitnormal_density(x, mean_sample, info_sample)) * \\\n",
    "            linear_sens.get_influence_operator(x, k, diffble = False)\n",
    "    \n",
    "integrand_ = imp_sample_integrand_(samples)"
   ]
  },
  {
   "cell_type": "code",
   "execution_count": 125,
   "metadata": {
    "collapsed": false
   },
   "outputs": [
    {
     "data": {
      "text/plain": [
       "470.23135912418365"
      ]
     },
     "execution_count": 125,
     "metadata": {},
     "output_type": "execute_result"
    }
   ],
   "source": [
    "np.max(np.abs(integrand - integrand_))"
   ]
  },
  {
   "cell_type": "code",
   "execution_count": 126,
   "metadata": {
    "collapsed": false
   },
   "outputs": [
    {
     "data": {
      "text/plain": [
       "(array([  1.,   1.,   2.,   2.,   3.,   3.,   2.,   3.,   5.,   3.,   5.,\n",
       "          8.,  11.,  15.,  12.,  12.,  22.,  25.,  27.,  38.,  47.,  45.,\n",
       "         63.,  57.,  96., 115., 127., 134.,  87.,  29.]),\n",
       " array([0.40158341, 0.42130762, 0.44103182, 0.46075603, 0.48048024,\n",
       "        0.50020444, 0.51992865, 0.53965286, 0.55937706, 0.57910127,\n",
       "        0.59882548, 0.61854968, 0.63827389, 0.6579981 , 0.6777223 ,\n",
       "        0.69744651, 0.71717071, 0.73689492, 0.75661913, 0.77634333,\n",
       "        0.79606754, 0.81579175, 0.83551595, 0.85524016, 0.87496437,\n",
       "        0.89468857, 0.91441278, 0.93413699, 0.95386119, 0.9735854 ,\n",
       "        0.99330961]),\n",
       " <a list of 30 Patch objects>)"
      ]
     },
     "execution_count": 126,
     "metadata": {},
     "output_type": "execute_result"
    },
    {
     "data": {
      "image/png": "[encoded data removed]",
      "text/plain": [
       "<matplotlib.figure.Figure at 0x7fede7d2dd30>"
      ]
     },
     "metadata": {},
     "output_type": "display_data"
    }
   ],
   "source": [
    "plt.hist(samples, bins = 30)"
   ]
  },
  {
   "cell_type": "code",
   "execution_count": 127,
   "metadata": {
    "collapsed": false
   },
   "outputs": [
    {
     "name": "stdout",
     "output_type": "stream",
     "text": [
      "Iter: 0\t RMSE: 9.028010849889903\t Objective: -338.15500089298826\n",
      "Iter: 10\t RMSE: 9.030845346216667\t Objective: -338.1602170897701\n",
      "Iter: 20\t RMSE: 9.031150136037972\t Objective: -338.1611712885188\n",
      "Iter: 30\t RMSE: 9.033122777003292\t Objective: -338.1619606572304\n",
      "Iter: 40\t RMSE: 9.033065705289307\t Objective: -338.1621165604331\n",
      "Iter: 50\t RMSE: 9.033467118921923\t Objective: -338.1622262715321\n",
      "Iter: 60\t RMSE: 9.033463049718396\t Objective: -338.1622404202482\n",
      "Iter: 70\t RMSE: 9.033462685056165\t Objective: -338.16224104636336\n",
      "Iter: 80\t RMSE: 9.033463048388326\t Objective: -338.1622410722018\n",
      "Iter: 90\t RMSE: 9.033463349369736\t Objective: -338.16224107261036\n",
      "Warning: Desired error not necessarily achieved due to precision loss.\n",
      "         Current function value: -338.162241\n",
      "         Iterations: 77\n",
      "         Function evaluations: 97\n",
      "         Gradient evaluations: 96\n",
      "Iter: 100\t RMSE: 9.033484485686124\t Objective: -338.1622407209489\n",
      "Iter: 110\t RMSE: 9.033463361367795\t Objective: -338.16224107256204\n",
      "Warning: A bad approximation caused failure to predict improvement.\n",
      "         Current function value: -338.162241\n",
      "         Iterations: 19\n",
      "         Function evaluations: 21\n",
      "         Gradient evaluations: 2\n",
      "         Hessian evaluations: 0\n",
      "Iter 1: x_diff = 2.4323448827453208e-09, f_diff = 1.0231815394945443e-12\n"
     ]
    }
   ],
   "source": [
    "# Perturb and re-optimize with positive perturbation\n",
    "epsilon = 0.000001\n",
    "\n",
    "model_worst_case_pos_pert = gmm_utils.DPGaussianMixture(\n",
    "    model.y, model.k_approx, model.prior_params, gh_deg = 8, \\\n",
    "    use_bnp_prior = model.vb_params.use_bnp_prior, \\\n",
    "    use_logitnormal_sticks = model.vb_params.use_logitnormal_sticks, \\\n",
    "    u = lambda x : worst_case_pos_interpolated(x) * epsilon)\n",
    "\n",
    "pos_pert_worst_case_opt_free_param = \\\n",
    "    model_worst_case_pos_pert.optimize_full(best_param, init_max_iter=100, final_max_iter=500)[0]\n"
   ]
  },
  {
   "cell_type": "code",
   "execution_count": 128,
   "metadata": {
    "collapsed": false
   },
   "outputs": [
    {
     "data": {
      "text/plain": [
       "<matplotlib.text.Text at 0x7fede7dcdb70>"
      ]
     },
     "execution_count": 128,
     "metadata": {},
     "output_type": "execute_result"
    },
    {
     "data": {
      "image/png": "[encoded data removed]",
      "text/plain": [
       "<matplotlib.figure.Figure at 0x7fede7d24748>"
      ]
     },
     "metadata": {},
     "output_type": "display_data"
    }
   ],
   "source": [
    "lr_free_param_diff_vec = np.matmul(worst_case_fun_sens_mat_pos_, epsilon * np.ones(k_approx - 1))\n",
    "\n",
    "diff_vec = pos_pert_worst_case_opt_free_param - best_param\n",
    "lr_diff_vec = deepcopy(lr_free_param_diff_vec)\n",
    "plt.plot(diff_vec, lr_diff_vec, 'r+')\n",
    "plt.plot(diff_vec, diff_vec, 'k')\n",
    "plt.xlabel('true diff')\n",
    "plt.ylabel('lr diff')\n"
   ]
  },
  {
   "cell_type": "code",
   "execution_count": 129,
   "metadata": {
    "collapsed": false
   },
   "outputs": [
    {
     "data": {
      "text/plain": [
       "6.300661929005294"
      ]
     },
     "execution_count": 129,
     "metadata": {},
     "output_type": "execute_result"
    }
   ],
   "source": [
    "get_e_number_clusters_from_free_par(model, best_param)"
   ]
  },
  {
   "cell_type": "code",
   "execution_count": 130,
   "metadata": {
    "collapsed": false
   },
   "outputs": [
    {
     "name": "stdout",
     "output_type": "stream",
     "text": [
      "perturbed e_number_clusters: 6.229138060731086\n"
     ]
    }
   ],
   "source": [
    "print('perturbed e_number_clusters:', \n",
    "get_e_number_clusters_from_free_par(model, pos_pert_worst_case_opt_free_param))"
   ]
  },
  {
   "cell_type": "code",
   "execution_count": 131,
   "metadata": {
    "collapsed": false
   },
   "outputs": [
    {
     "name": "stdout",
     "output_type": "stream",
     "text": [
      "linear response e_number_clusters: 6.360948886401148\n"
     ]
    }
   ],
   "source": [
    "print('linear response e_number_clusters:', \n",
    "      get_e_number_clusters_from_free_par(model, lr_free_param_diff_vec + best_param))"
   ]
  },
  {
   "cell_type": "raw",
   "metadata": {},
   "source": []
  },
  {
   "cell_type": "code",
   "execution_count": 162,
   "metadata": {
    "collapsed": false
   },
   "outputs": [
    {
     "name": "stdout",
     "output_type": "stream",
     "text": [
      "Iter: 0\t RMSE: 9.028010849889903\t Objective: -341.4776148647817\n",
      "Iter: 10\t RMSE: 9.097383685517556\t Objective: -345.52582359537803\n",
      "Iter: 20\t RMSE: 9.076516071327474\t Objective: -345.91705700622134\n",
      "Iter: 30\t RMSE: 9.07392377319231\t Objective: -346.30895921338686\n",
      "Iter: 40\t RMSE: 9.08114108152806\t Objective: -346.4464920552056\n",
      "Iter: 50\t RMSE: 9.09150757946484\t Objective: -346.4821320603227\n",
      "Iter: 60\t RMSE: 9.093381642132066\t Objective: -346.50850880172027\n",
      "Iter: 70\t RMSE: 9.093607545693326\t Objective: -346.53969127273615\n",
      "Iter: 80\t RMSE: 9.09434508715545\t Objective: -346.5409452010162\n",
      "Iter: 90\t RMSE: 9.094288949107376\t Objective: -346.5409712429351\n",
      "Iter: 100\t RMSE: 9.094290086995771\t Objective: -346.54097226737946\n",
      "Iter: 110\t RMSE: 9.094295424910241\t Objective: -346.5409726912013\n",
      "Iter: 120\t RMSE: 9.09429414185895\t Objective: -346.54097270414735\n",
      "Iter: 130\t RMSE: 9.09429417808301\t Objective: -346.54097270439513\n",
      "Iter: 140\t RMSE: 9.094294177974138\t Objective: -346.5409727043965\n",
      "Iter: 150\t RMSE: 9.094294177974138\t Objective: -346.5409727043965\n",
      "Iter: 160\t RMSE: 9.094294177974138\t Objective: -346.54097270439655\n",
      "Iter: 170\t RMSE: 9.094294177974138\t Objective: -346.54097270439655\n",
      "Iter: 180\t RMSE: 9.094294178040615\t Objective: -346.5409727043964\n",
      "Warning: Desired error not necessarily achieved due to precision loss.\n",
      "         Current function value: -346.540973\n",
      "         Iterations: 98\n",
      "         Function evaluations: 185\n",
      "         Gradient evaluations: 177\n",
      "Iter: 190\t RMSE: 9.09429042930325\t Objective: -346.54097173552657\n",
      "Iter: 200\t RMSE: 9.094294166560852\t Objective: -346.54097270435386\n",
      "Iter: 210\t RMSE: 9.094294166549671\t Objective: -346.54097270435494\n",
      "Warning: A bad approximation caused failure to predict improvement.\n",
      "         Current function value: -346.540973\n",
      "         Iterations: 25\n",
      "         Function evaluations: 27\n",
      "         Gradient evaluations: 7\n",
      "         Hessian evaluations: 0\n",
      "Iter 1: x_diff = 8.347217088222608e-08, f_diff = 4.058620106661692e-11\n"
     ]
    }
   ],
   "source": [
    "# Perturb and re-optimize with positive perturbation\n",
    "epsilon = 0.0001\n",
    "\n",
    "model_worst_case_neg_pert = gmm_utils.DPGaussianMixture(\n",
    "    model.y, model.k_approx, model.prior_params, gh_deg = 8, \\\n",
    "    use_bnp_prior = model.vb_params.use_bnp_prior, \\\n",
    "    use_logitnormal_sticks = model.vb_params.use_logitnormal_sticks, \\\n",
    "    u = lambda x : worst_case_neg_interpolated(x) * epsilon)\n",
    "\n",
    "neg_pert_worst_case_opt_free_param = \\\n",
    "    model_worst_case_neg_pert.optimize_full(best_param, init_max_iter=100, final_max_iter=500)[0]\n"
   ]
  },
  {
   "cell_type": "code",
   "execution_count": 165,
   "metadata": {
    "collapsed": false
   },
   "outputs": [
    {
     "data": {
      "text/plain": [
       "<matplotlib.text.Text at 0x7f24d47c8f28>"
      ]
     },
     "execution_count": 165,
     "metadata": {},
     "output_type": "execute_result"
    },
    {
     "data": {
      "image/png": "[encoded data removed]",
      "text/plain": [
       "<matplotlib.figure.Figure at 0x7f24d4a5acc0>"
      ]
     },
     "metadata": {},
     "output_type": "display_data"
    }
   ],
   "source": [
    "lr_free_param_diff_vec = np.matmul(worst_case_fun_sens_mat_neg, epsilon * np.ones(k_approx - 1))\n",
    "\n",
    "diff_vec = pos_pert_worst_case_opt_free_param - best_param\n",
    "lr_diff_vec = deepcopy(lr_free_param_diff_vec)\n",
    "plt.plot(diff_vec, lr_diff_vec, 'r+')\n",
    "plt.plot(diff_vec, diff_vec, 'k')\n",
    "plt.xlabel('true diff')\n",
    "plt.ylabel('lr diff')\n"
   ]
  },
  {
   "cell_type": "code",
   "execution_count": 166,
   "metadata": {
    "collapsed": false
   },
   "outputs": [
    {
     "data": {
      "text/plain": [
       "6.283018970345778"
      ]
     },
     "execution_count": 166,
     "metadata": {},
     "output_type": "execute_result"
    }
   ],
   "source": [
    "get_e_number_clusters_from_free_par(model, best_param)"
   ]
  },
  {
   "cell_type": "code",
   "execution_count": 167,
   "metadata": {
    "collapsed": false
   },
   "outputs": [
    {
     "name": "stdout",
     "output_type": "stream",
     "text": [
      "perturbed e_number_clusters: 5.203433921262517\n"
     ]
    }
   ],
   "source": [
    "print('perturbed e_number_clusters:', \n",
    "get_e_number_clusters_from_free_par(model, neg_pert_worst_case_opt_free_param))"
   ]
  },
  {
   "cell_type": "code",
   "execution_count": 168,
   "metadata": {
    "collapsed": false
   },
   "outputs": [
    {
     "name": "stdout",
     "output_type": "stream",
     "text": [
      "linear response e_number_clusters: 1.0\n"
     ]
    }
   ],
   "source": [
    "print('linear response e_number_clusters:', \n",
    "      get_e_number_clusters_from_free_par(model, lr_free_param_diff_vec + best_param))"
   ]
  },
  {
   "cell_type": "code",
   "execution_count": null,
   "metadata": {
    "collapsed": true
   },
   "outputs": [],
   "source": []
  },
  {
   "cell_type": "code",
   "execution_count": null,
   "metadata": {
    "collapsed": true
   },
   "outputs": [],
   "source": []
  },
  {
   "cell_type": "code",
   "execution_count": null,
   "metadata": {
    "collapsed": true
   },
   "outputs": [],
   "source": []
  }
 ],
 "metadata": {
  "kernelspec": {
   "display_name": "Python 3",
   "language": "python",
   "name": "python3"
  },
  "language_info": {
   "codemirror_mode": {
    "name": "ipython",
    "version": 3
   },
   "file_extension": ".py",
   "mimetype": "text/x-python",
   "name": "python",
   "nbconvert_exporter": "python",
   "pygments_lexer": "ipython3",
   "version": "3.6.0"
  }
 },
 "nbformat": 4,
 "nbformat_minor": 2
}
