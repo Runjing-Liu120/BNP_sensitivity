{
 "cells": [
  {
   "cell_type": "code",
   "execution_count": 1,
   "metadata": {},
   "outputs": [
    {
     "name": "stderr",
     "output_type": "stream",
     "text": [
      "/home/rliu/anaconda3/envs/bnp_sensitivity/lib/python3.8/site-packages/autograd/core.py:290: UserWarning: \n",
      "The defvjp method is deprecated. See the update guide and tutorial:\n",
      "https://github.com/HIPS/autograd/blob/master/docs/updateguide.md\n",
      "https://github.com/HIPS/autograd/blob/master/docs/tutorial.md\n",
      "  warnings.warn(deprecation_msg)\n"
     ]
    }
   ],
   "source": [
    "import autograd\n",
    "from autograd import numpy as np\n",
    "from autograd import scipy as sp\n",
    "\n",
    "from numpy.polynomial.hermite import hermgauss\n",
    "\n",
    "np.random.seed(453453)\n",
    "\n",
    "import paragami\n",
    "\n",
    "# BNP sensitivity libraries\n",
    "import sys\n",
    "# sys.path.insert(0, '../libraries/')\n",
    "# sys.path.insert(0, '../../BNP_modeling/')\n",
    "\n",
    "import bnpgmm_runjingdev.gmm_clustering_lib as gmm_lib\n",
    "import bnpgmm_runjingdev.utils_lib as utils_lib\n",
    "import bnpgmm_runjingdev.gmm_cavi_lib as cavi_lib\n",
    "import bnpgmm_runjingdev.simulation_lib as simulation_lib\n",
    "\n",
    "\n",
    "import bnpmodeling_runjingdev.modeling_lib as modeling_lib \n",
    "import bnpmodeling_runjingdev.cluster_quantities_lib as cluster_lib\n",
    "import bnpmodeling_runjingdev.optimization_lib as optimization_lib\n",
    "\n",
    "import matplotlib.pyplot as plt\n",
    "%matplotlib inline\n",
    "import matplotlib.cm as cm\n",
    "\n",
    "from sklearn.decomposition import PCA\n",
    "\n",
    "from copy import deepcopy\n",
    "\n",
    "import vittles\n",
    "\n",
    "import json "
   ]
  },
  {
   "cell_type": "markdown",
   "metadata": {},
   "source": [
    "# Load data"
   ]
  },
  {
   "cell_type": "markdown",
   "metadata": {},
   "source": [
    "We load and plot the iris dataset"
   ]
  },
  {
   "cell_type": "code",
   "execution_count": 2,
   "metadata": {},
   "outputs": [],
   "source": [
    "use_iris_data = False"
   ]
  },
  {
   "cell_type": "code",
   "execution_count": 3,
   "metadata": {},
   "outputs": [],
   "source": [
    "if use_iris_data: \n",
    "    # load iris data\n",
    "    dataset_name = 'iris'\n",
    "    features, iris_species = utils_lib.load_data()\n",
    "    dim = features.shape[1]\n",
    "    n_obs = len(iris_species)    \n",
    "else: \n",
    "    dim = 4\n",
    "    n_obs = 500\n",
    "    true_k = 4\n",
    "    features, true_z = simulation_lib.simulate_data(n_obs, dim,\n",
    "                true_k, separation=0.2)[0:2]\n",
    "    \n",
    "    iris_species = np.argmax(true_z, 1)"
   ]
  },
  {
   "cell_type": "code",
   "execution_count": 4,
   "metadata": {},
   "outputs": [
    {
     "data": {
      "text/plain": [
       "Text(0, 0.5, 'PC2')"
      ]
     },
     "execution_count": 4,
     "metadata": {},
     "output_type": "execute_result"
    },
    {
     "data": {
      "image/png": "[encoded data removed]",
      "text/plain": [
       "<Figure size 432x288 with 1 Axes>"
      ]
     },
     "metadata": {
      "needs_background": "light"
     },
     "output_type": "display_data"
    }
   ],
   "source": [
    "# run PCA\n",
    "pca_fit = PCA()\n",
    "pca_fit.fit(features)\n",
    "pc_features = pca_fit.transform(features)\n",
    "\n",
    "# plot\n",
    "cmap = cm.get_cmap(name='gist_rainbow')\n",
    "colors1 = [cmap(k * 50) for k in range(30)]\n",
    "\n",
    "fig1 = plt.figure(1)\n",
    "fig = fig1.add_subplot(111)\n",
    "utils_lib.plot_clusters(pc_features[:, 0], pc_features[:, 1], iris_species, colors1, fig)\n",
    "fig.set_xlabel('PC1')\n",
    "fig.set_ylabel('PC2')\n"
   ]
  },
  {
   "cell_type": "markdown",
   "metadata": {},
   "source": [
    "# Set up model"
   ]
  },
  {
   "cell_type": "markdown",
   "metadata": {},
   "source": [
    "### Prior parameters"
   ]
  },
  {
   "cell_type": "code",
   "execution_count": 5,
   "metadata": {},
   "outputs": [
    {
     "name": "stdout",
     "output_type": "stream",
     "text": [
      "{'alpha': array([3.]), 'prior_centroid_mean': array([0.]), 'prior_lambda': array([1.]), 'prior_wishart_df': array([10.]), 'prior_wishart_rate': array([[1., 0., 0., 0.],\n",
      "       [0., 1., 0., 0.],\n",
      "       [0., 0., 1., 0.],\n",
      "       [0., 0., 0., 1.]])}\n"
     ]
    }
   ],
   "source": [
    "# Get priors\n",
    "prior_params_dict, prior_params_paragami = gmm_lib.get_default_prior_params(dim)\n",
    "\n",
    "print(prior_params_dict)"
   ]
  },
  {
   "cell_type": "markdown",
   "metadata": {},
   "source": [
    "### Variational parameters"
   ]
  },
  {
   "cell_type": "code",
   "execution_count": 6,
   "metadata": {},
   "outputs": [],
   "source": [
    "# number of clusters in variational distribution \n",
    "k_approx = 8"
   ]
  },
  {
   "cell_type": "code",
   "execution_count": 7,
   "metadata": {},
   "outputs": [],
   "source": [
    "# Gauss-Hermite points for integrating logitnormal stick-breaking prior\n",
    "gh_deg = 8\n",
    "gh_loc, gh_weights = hermgauss(gh_deg)"
   ]
  },
  {
   "cell_type": "code",
   "execution_count": 8,
   "metadata": {},
   "outputs": [],
   "source": [
    "# get vb parameters\n",
    "vb_params_dict, vb_params_paragami = gmm_lib.get_vb_params_paragami_object(dim, k_approx)"
   ]
  },
  {
   "cell_type": "code",
   "execution_count": 9,
   "metadata": {},
   "outputs": [
    {
     "data": {
      "text/plain": [
       "7746.96702217853"
      ]
     },
     "execution_count": 9,
     "metadata": {},
     "output_type": "execute_result"
    }
   ],
   "source": [
    "# the objective \n",
    "gmm_lib.get_kl(features, vb_params_dict, prior_params_dict, gh_loc, gh_weights)"
   ]
  },
  {
   "cell_type": "code",
   "execution_count": null,
   "metadata": {},
   "outputs": [],
   "source": []
  },
  {
   "cell_type": "markdown",
   "metadata": {},
   "source": [
    "# Optimize the KL objective"
   ]
  },
  {
   "cell_type": "markdown",
   "metadata": {},
   "source": [
    "### Initialize with k-means"
   ]
  },
  {
   "cell_type": "code",
   "execution_count": 10,
   "metadata": {},
   "outputs": [],
   "source": [
    "run_kmeans_init = True"
   ]
  },
  {
   "cell_type": "code",
   "execution_count": 11,
   "metadata": {},
   "outputs": [],
   "source": [
    "if run_kmeans_init: \n",
    "    # run a kmeans init\n",
    "    n_kmeans_init = 50\n",
    "    init_vb_free_params, init_vb_params_dict, init_ez = \\\n",
    "        utils_lib.cluster_and_get_k_means_inits(features, vb_params_paragami, \n",
    "                                                    n_kmeans_init = n_kmeans_init, \n",
    "                                                  seed = 45345)\n",
    "else: \n",
    "    init_vb_params_dict = vb_params_paragami.random()\n",
    "    init_vb_free_params = vb_params_paragami.flatten(init_vb_params_dict, free = True)"
   ]
  },
  {
   "cell_type": "code",
   "execution_count": 12,
   "metadata": {},
   "outputs": [
    {
     "name": "stdout",
     "output_type": "stream",
     "text": [
      "initial kl: \n",
      "900.7086518406195\n"
     ]
    }
   ],
   "source": [
    "print('initial kl: ')\n",
    "print(gmm_lib.get_kl(features, init_vb_params_dict, prior_params_dict, gh_loc, gh_weights))"
   ]
  },
  {
   "cell_type": "code",
   "execution_count": 13,
   "metadata": {},
   "outputs": [],
   "source": [
    "vb_params_dict = deepcopy(init_vb_params_dict)"
   ]
  },
  {
   "cell_type": "code",
   "execution_count": null,
   "metadata": {},
   "outputs": [],
   "source": []
  },
  {
   "cell_type": "code",
   "execution_count": 14,
   "metadata": {},
   "outputs": [],
   "source": [
    "# get loss as a function of vb parameters\n",
    "get_vb_params_loss = paragami.FlattenFunctionInput(\n",
    "                                original_fun=gmm_lib.get_kl, \n",
    "                                patterns = vb_params_paragami,\n",
    "                                free = True,\n",
    "                                argnums = 1)\n",
    "\n",
    "get_loss = lambda x : get_vb_params_loss(features, x, prior_params_dict,\n",
    "                                         gh_loc, gh_weights)\n"
   ]
  },
  {
   "cell_type": "markdown",
   "metadata": {},
   "source": [
    "### Optimize using Newton"
   ]
  },
  {
   "cell_type": "code",
   "execution_count": 15,
   "metadata": {
    "scrolled": true
   },
   "outputs": [
    {
     "name": "stdout",
     "output_type": "stream",
     "text": [
      "running bfgs ... \n",
      "Iter 0: f = 900.70865184\n",
      "Iter 1: f = 399.32104206\n",
      "Iter 2: f = -264.41061238\n",
      "Iter 3: f = 1718.63370110\n",
      "Iter 4: f = -437.59245576\n",
      "Iter 5: f = -663.14252852\n",
      "Iter 6: f = -815.49419424\n",
      "Iter 7: f = -717.07837668\n",
      "Iter 8: f = -887.53907552\n",
      "Iter 9: f = -955.63155260\n",
      "Iter 10: f = -1016.89644413\n",
      "Iter 11: f = -930.09262505\n",
      "Iter 12: f = -1034.85876745\n",
      "Iter 13: f = -1057.51862971\n",
      "Iter 14: f = -1054.52557939\n",
      "Iter 15: f = -1068.55383077\n",
      "Iter 16: f = -1081.53435367\n",
      "Iter 17: f = -1098.00424673\n",
      "Iter 18: f = -1117.40794323\n",
      "Iter 19: f = -1071.42606358\n",
      "Iter 20: f = -1121.70519899\n",
      "Iter 21: f = -1129.05650213\n",
      "Iter 22: f = -1139.74971888\n",
      "Iter 23: f = -1159.84334819\n",
      "Iter 24: f = -1190.19220333\n",
      "Iter 25: f = -1181.24302092\n",
      "Iter 26: f = -1204.72402777\n",
      "Iter 27: f = -1226.02297378\n",
      "Iter 28: f = -1240.47497006\n",
      "Iter 29: f = -1249.90200526\n",
      "Iter 30: f = -1245.95066904\n",
      "Iter 31: f = -1253.75273390\n",
      "Iter 32: f = -1258.74801082\n",
      "Iter 33: f = -1266.57913593\n",
      "Iter 34: f = -1271.62760688\n",
      "Iter 35: f = -1277.00803763\n",
      "Iter 36: f = -1275.38488943\n",
      "Iter 37: f = -1279.40653441\n",
      "Iter 38: f = -1281.83826976\n",
      "Iter 39: f = -1284.58936468\n",
      "Iter 40: f = -1287.44977071\n",
      "Iter 41: f = -1288.26816801\n",
      "Iter 42: f = -1289.63020179\n",
      "Iter 43: f = -1291.26778783\n",
      "Iter 44: f = -1292.49393091\n",
      "Iter 45: f = -1293.96123175\n",
      "Iter 46: f = -1294.76384247\n",
      "Iter 47: f = -1295.66092273\n",
      "Iter 48: f = -1295.94649516\n",
      "Iter 49: f = -1296.44091961\n",
      "Iter 50: f = -1297.18230187\n",
      "Iter 51: f = -1297.96224768\n",
      "Iter 52: f = -1298.64812981\n",
      "Iter 53: f = -1298.28921535\n",
      "Iter 54: f = -1298.93427475\n",
      "Iter 55: f = -1299.26763353\n",
      "Iter 56: f = -1299.54547382\n",
      "Iter 57: f = -1299.85545525\n",
      "Iter 58: f = -1299.75918501\n",
      "Iter 59: f = -1299.99003477\n",
      "Iter 60: f = -1300.09923623\n",
      "Iter 61: f = -1300.23001762\n",
      "Iter 62: f = -1300.33540848\n",
      "Iter 63: f = -1300.42493069\n",
      "Iter 64: f = -1300.55607386\n",
      "Iter 65: f = -1300.65321895\n",
      "Iter 66: f = -1300.71416666\n",
      "Iter 67: f = -1300.81185325\n",
      "Iter 68: f = -1300.90268314\n",
      "Iter 69: f = -1301.03126281\n",
      "Iter 70: f = -1301.12915504\n",
      "Iter 71: f = -1301.27690797\n",
      "Iter 72: f = -1301.48311526\n",
      "Iter 73: f = -1301.69868823\n",
      "Iter 74: f = -1302.04788113\n",
      "Iter 75: f = -1302.40774471\n",
      "Iter 76: f = -1302.69547221\n",
      "Iter 77: f = -1303.09015288\n",
      "Iter 78: f = -1303.55791717\n",
      "Iter 79: f = -1303.96245308\n",
      "Iter 80: f = -1304.24371589\n",
      "Iter 81: f = -1304.51247504\n",
      "Iter 82: f = -1304.63455804\n",
      "Iter 83: f = -1304.70271822\n",
      "Iter 84: f = -1304.80044468\n",
      "Iter 85: f = -1304.84805327\n",
      "Iter 86: f = -1304.90640243\n",
      "Iter 87: f = -1304.96051209\n",
      "Iter 88: f = -1304.97005407\n",
      "Iter 89: f = -1304.98801668\n",
      "Iter 90: f = -1305.01827501\n",
      "Iter 91: f = -1305.06667600\n",
      "Iter 92: f = -1305.11195273\n",
      "Iter 93: f = -1305.14479952\n",
      "Iter 94: f = -1305.11364184\n",
      "Iter 95: f = -1305.15617895\n",
      "Iter 96: f = -1305.16839885\n",
      "Iter 97: f = -1305.18737483\n",
      "Iter 98: f = -1305.20610595\n",
      "Iter 99: f = -1305.23243901\n",
      "Iter 100: f = -1305.24093433\n",
      "Iter 101: f = -1305.25648698\n",
      "Iter 102: f = -1305.28071002\n",
      "Iter 103: f = -1305.31664810\n",
      "Iter 104: f = -1305.34175237\n",
      "Iter 105: f = -1305.37134597\n",
      "Iter 106: f = -1305.40282907\n",
      "Iter 107: f = -1305.35933671\n",
      "Iter 108: f = -1305.41161360\n",
      "Iter 109: f = -1305.42662011\n",
      "Iter 110: f = -1305.44199758\n",
      "Iter 111: f = -1305.45285400\n",
      "Iter 112: f = -1305.40638070\n",
      "Iter 113: f = -1305.45458907\n",
      "Iter 114: f = -1305.45735210\n",
      "Iter 115: f = -1305.46130250\n",
      "Iter 116: f = -1305.46712674\n",
      "Iter 117: f = -1305.47111874\n",
      "Iter 118: f = -1305.47653547\n",
      "Iter 119: f = -1305.47465997\n",
      "Iter 120: f = -1305.47779936\n",
      "Iter 121: f = -1305.47951634\n",
      "Iter 122: f = -1305.48054651\n",
      "Iter 123: f = -1305.48128825\n",
      "Iter 124: f = -1305.48250992\n",
      "Iter 125: f = -1305.48399321\n",
      "Iter 126: f = -1305.48556401\n",
      "Iter 127: f = -1305.48666753\n",
      "Iter 128: f = -1305.48811857\n",
      "Iter 129: f = -1305.48872442\n",
      "Iter 130: f = -1305.48870147\n",
      "Iter 131: f = -1305.48902472\n",
      "Iter 132: f = -1305.48952309\n",
      "Iter 133: f = -1305.49034449\n",
      "Iter 134: f = -1305.49152204\n",
      "Iter 135: f = -1305.49227667\n",
      "Iter 136: f = -1305.49263714\n",
      "Iter 137: f = -1305.49274702\n",
      "Iter 138: f = -1305.49279341\n",
      "Iter 139: f = -1305.49286815\n",
      "Iter 140: f = -1305.49298744\n",
      "Iter 141: f = -1305.49315336\n",
      "Iter 142: f = -1305.49324551\n",
      "Iter 143: f = -1305.49327777\n",
      "Iter 144: f = -1305.49328301\n",
      "Iter 145: f = -1305.49328605\n",
      "Iter 146: f = -1305.49329115\n",
      "Iter 147: f = -1305.49329961\n",
      "Iter 148: f = -1305.49331237\n",
      "Iter 149: f = -1305.49332347\n",
      "Iter 150: f = -1305.49332896\n",
      "Iter 151: f = -1305.49333085\n",
      "Iter 152: f = -1305.49333110\n",
      "Iter 153: f = -1305.49333115\n",
      "Iter 154: f = -1305.49333117\n",
      "Iter 155: f = -1305.49333117\n",
      "Iter 156: f = -1305.49333118\n",
      "Iter 157: f = -1305.49333120\n",
      "Iter 158: f = -1305.49333122\n",
      "Iter 159: f = -1305.49333127\n",
      "Iter 160: f = -1305.49333133\n",
      "Iter 161: f = -1305.49333136\n",
      "Iter 162: f = -1305.49333138\n",
      "Iter 163: f = -1305.49333138\n",
      "Iter 164: f = -1305.49333138\n",
      "Iter 165: f = -1305.49333138\n",
      "Iter 166: f = -1305.49333138\n",
      "Iter 167: f = -1305.49333138\n",
      "Iter 168: f = -1305.49333138\n",
      "Iter 169: f = -1305.49333138\n",
      "Iter 170: f = -1305.49333138\n",
      "Iter 171: f = -1305.49333138\n",
      "Iter 172: f = -1305.49333138\n",
      "Iter 173: f = -1305.49333138\n",
      "Iter 174: f = -1305.49333138\n",
      "Iter 175: f = -1305.49333138\n",
      "Iter 176: f = -1305.49333138\n",
      "Iter 177: f = -1305.49333138\n",
      "Iter 178: f = -1305.49333138\n",
      "Iter 179: f = -1305.49333138\n",
      "Iter 180: f = -1305.49333138\n",
      "Iter 181: f = -1305.49333138\n",
      "Iter 182: f = -1305.49333138\n",
      "Iter 183: f = -1305.49333138\n",
      "Iter 184: f = -1305.49333138\n",
      "Iter 185: f = -1305.49333138\n",
      "Iter 186: f = -1305.49333138\n",
      "Iter 187: f = -1305.49333138\n",
      "Iter 188: f = -1305.49333138\n",
      "Iter 189: f = -1305.49333138\n",
      "Iter 190: f = -1305.49333138\n",
      "Iter 191: f = -1305.49333138\n",
      "Iter 192: f = -1305.49333138\n",
      "Iter 193: f = -1305.49333138\n",
      "Iter 194: f = -1305.49333138\n",
      "Iter 195: f = -1305.49333138\n",
      "Iter 196: f = -1305.49333138\n",
      "Iter 197: f = -1305.49333138\n",
      "Iter 198: f = -1305.49333138\n",
      "Iter 199: f = -1305.49333138\n",
      "Iter 200: f = -1305.49333138\n",
      "Iter 201: f = -1305.49333138\n",
      "Iter 202: f = -1305.49333138\n",
      "Iter 203: f = -1305.49333138\n",
      "Iter 204: f = -1305.49333138\n",
      "Iter 205: f = -1305.49333138\n",
      "Iter 206: f = -1305.49333138\n",
      "Iter 207: f = -1305.49333138\n",
      "Iter 208: f = -1305.49333138\n",
      "Iter 209: f = -1305.49333138\n",
      "Iter 210: f = -1305.49333138\n",
      "Iter 211: f = -1305.49333138\n",
      "Iter 212: f = -1305.49333138\n",
      "Iter 213: f = -1305.49333138\n",
      "Iter 214: f = -1305.49333138\n",
      "Iter 215: f = -1305.49333138\n",
      "Iter 216: f = -1305.49333138\n",
      "Iter 217: f = -1305.49333138\n",
      "Iter 218: f = -1305.49333138\n",
      "Iter 219: f = -1305.49333138\n",
      "Iter 220: f = -1305.49333138\n",
      "Iter 221: f = -1305.49333138\n",
      "Iter 222: f = -1305.49333138\n",
      "Iter 223: f = -1305.49333138\n",
      "Iter 224: f = -1305.49333138\n",
      "Iter 225: f = -1305.49333138\n",
      "Iter 226: f = -1305.49333138\n",
      "Iter 227: f = -1305.49333138\n",
      "Iter 228: f = -1305.49333138\n",
      "Iter 229: f = -1305.49333138\n",
      "Iter 230: f = -1305.49333138\n",
      "Iter 231: f = -1305.49333138\n",
      "Iter 232: f = -1305.49333138\n",
      "Iter 233: f = -1305.49333138\n",
      "Iter 234: f = -1305.49333138\n",
      "Iter 235: f = -1305.49333138\n",
      "Iter 236: f = -1305.49333138\n",
      "Iter 237: f = -1305.49333138\n",
      "Iter 238: f = -1305.49333138\n",
      "Iter 239: f = -1305.49333138\n",
      "Warning: Desired error not necessarily achieved due to precision loss.\n",
      "         Current function value: -1305.493331\n",
      "         Iterations: 153\n",
      "         Function evaluations: 240\n",
      "         Gradient evaluations: 229\n",
      "\n",
      " running preconditioned newton; iter =  0\n",
      "Computing Hessian to set preconditioner\n",
      "preconditioning time: 1.54\n",
      "running newton steps\n",
      "Iter 0: f = -1305.49333138\n",
      "Iter 1: f = -1305.49333138\n",
      "Warning: A bad approximation caused failure to predict improvement.\n",
      "         Current function value: -1305.493331\n",
      "         Iterations: 0\n",
      "         Function evaluations: 2\n",
      "         Gradient evaluations: 1\n",
      "         Hessian evaluations: 2\n",
      "Iter 0: x_diff = 1.0488579812615792e-12, f_diff = 1.5916157281026244e-12, grad_l1 = 1.3405112188621018e-05\n",
      "done. \n"
     ]
    }
   ],
   "source": [
    "vb_opt = optimization_lib.optimize_full(get_loss, init_vb_free_params,\n",
    "                    bfgs_max_iter = 500, netwon_max_iter = 50,\n",
    "                    max_precondition_iter = 10,\n",
    "                    gtol=1e-8, ftol=1e-8, xtol=1e-8)"
   ]
  },
  {
   "cell_type": "code",
   "execution_count": 16,
   "metadata": {},
   "outputs": [],
   "source": [
    "vb_opt_dict = vb_params_paragami.fold(vb_opt, free = True)"
   ]
  },
  {
   "cell_type": "code",
   "execution_count": 17,
   "metadata": {},
   "outputs": [],
   "source": [
    "e_z_opt = gmm_lib.get_optimal_z_from_vb_params_dict(features, vb_opt_dict,\n",
    "                                                    gh_loc, gh_weights)"
   ]
  },
  {
   "cell_type": "markdown",
   "metadata": {},
   "source": [
    "# Check out results from Newton"
   ]
  },
  {
   "cell_type": "code",
   "execution_count": 18,
   "metadata": {},
   "outputs": [],
   "source": [
    "def plot_results_from_vb_params_dict(pca_fit, vb_params_dict, e_z, fig): \n",
    "    # we plot in PCA space\n",
    "    bnp_centroids_pc, bnp_cluster_covs_pc = \\\n",
    "        utils_lib.transform_params_to_pc_space(pca_fit, \n",
    "                        vb_params_dict['cluster_params']['centroids'], \n",
    "                        np.linalg.inv(vb_params_dict['cluster_params']['cluster_info']))\n",
    "\n",
    "    bnp_clusters = np.argmax(e_z, axis = 1)\n",
    "    \n",
    "    cmap = cm.get_cmap(name='gist_rainbow')\n",
    "    colors1 = [cmap(k * 50) for k in range(30)]\n",
    "\n",
    "    utils_lib.plot_clusters(pc_features[:, 0], pc_features[:, 1], bnp_clusters, \\\n",
    "                  colors1, fig, \\\n",
    "                  centroids = bnp_centroids_pc[:, np.unique(bnp_clusters)], \n",
    "                cov = bnp_cluster_covs_pc[np.unique(bnp_clusters)])\n"
   ]
  },
  {
   "cell_type": "code",
   "execution_count": 19,
   "metadata": {},
   "outputs": [
    {
     "data": {
      "text/plain": [
       "Text(0, 0.5, 'PC2')"
      ]
     },
     "execution_count": 19,
     "metadata": {},
     "output_type": "execute_result"
    },
    {
     "data": {
      "image/png": "[encoded data removed]",
      "text/plain": [
       "<Figure size 432x288 with 1 Axes>"
      ]
     },
     "metadata": {
      "needs_background": "light"
     },
     "output_type": "display_data"
    }
   ],
   "source": [
    "fig1 = plt.figure(1)\n",
    "fig = fig1.add_subplot(111)\n",
    "\n",
    "plot_results_from_vb_params_dict(pca_fit, vb_opt_dict, e_z_opt, fig)\n",
    "fig.set_xlabel('PC1', fontsize = 18)\n",
    "fig.set_ylabel('PC2', fontsize = 18)\n"
   ]
  },
  {
   "cell_type": "code",
   "execution_count": null,
   "metadata": {},
   "outputs": [],
   "source": []
  },
  {
   "cell_type": "markdown",
   "metadata": {},
   "source": [
    "# Check out CAVI optimizer"
   ]
  },
  {
   "cell_type": "code",
   "execution_count": 20,
   "metadata": {},
   "outputs": [],
   "source": [
    "vb_params_dict = deepcopy(init_vb_params_dict)\n",
    "\n",
    "# vb_params_dict = vb_params_paragami.random()"
   ]
  },
  {
   "cell_type": "code",
   "execution_count": 21,
   "metadata": {},
   "outputs": [
    {
     "data": {
      "text/plain": [
       "Text(0, 0.5, 'PC2')"
      ]
     },
     "execution_count": 21,
     "metadata": {},
     "output_type": "execute_result"
    },
    {
     "data": {
      "image/png": "[encoded data removed]",
      "text/plain": [
       "<Figure size 432x288 with 1 Axes>"
      ]
     },
     "metadata": {
      "needs_background": "light"
     },
     "output_type": "display_data"
    }
   ],
   "source": [
    "fig1 = plt.figure(1)\n",
    "fig = fig1.add_subplot(111)\n",
    "\n",
    "plot_results_from_vb_params_dict(pca_fit, vb_params_dict, e_z_opt, fig)\n",
    "fig.set_xlabel('PC1', fontsize = 18)\n",
    "fig.set_ylabel('PC2', fontsize = 18)\n"
   ]
  },
  {
   "cell_type": "code",
   "execution_count": 22,
   "metadata": {},
   "outputs": [
    {
     "name": "stdout",
     "output_type": "stream",
     "text": [
      "done. num iterations = 15\n"
     ]
    }
   ],
   "source": [
    "vb_cavi_dict, e_z_cavi, kl_vec = \\\n",
    "    cavi_lib.run_cavi(features, vb_params_dict,\n",
    "                vb_params_paragami,\n",
    "                prior_params_dict,\n",
    "                gh_loc, gh_weights,\n",
    "                max_iter = 100,\n",
    "                tol = 1e-8,\n",
    "                debug = False)\n"
   ]
  },
  {
   "cell_type": "code",
   "execution_count": 23,
   "metadata": {},
   "outputs": [
    {
     "data": {
      "text/plain": [
       "Text(0, 0.5, 'PC2')"
      ]
     },
     "execution_count": 23,
     "metadata": {},
     "output_type": "execute_result"
    },
    {
     "data": {
      "image/png": "[encoded data removed]",
      "text/plain": [
       "<Figure size 432x288 with 1 Axes>"
      ]
     },
     "metadata": {
      "needs_background": "light"
     },
     "output_type": "display_data"
    }
   ],
   "source": [
    "fig1 = plt.figure(1)\n",
    "fig = fig1.add_subplot(111)\n",
    "\n",
    "plot_results_from_vb_params_dict(pca_fit, vb_cavi_dict, e_z_cavi, fig)\n",
    "fig.set_xlabel('PC1', fontsize = 18)\n",
    "fig.set_ylabel('PC2', fontsize = 18)\n"
   ]
  },
  {
   "cell_type": "code",
   "execution_count": null,
   "metadata": {},
   "outputs": [],
   "source": []
  },
  {
   "cell_type": "code",
   "execution_count": null,
   "metadata": {},
   "outputs": [],
   "source": []
  }
 ],
 "metadata": {
  "kernelspec": {
   "display_name": "bnp_sensitivity",
   "language": "python",
   "name": "bnp_sensitivity"
  },
  "language_info": {
   "codemirror_mode": {
    "name": "ipython",
    "version": 3
   },
   "file_extension": ".py",
   "mimetype": "text/x-python",
   "name": "python",
   "nbconvert_exporter": "python",
   "pygments_lexer": "ipython3",
   "version": "3.8.0"
  }
 },
 "nbformat": 4,
 "nbformat_minor": 2
}
