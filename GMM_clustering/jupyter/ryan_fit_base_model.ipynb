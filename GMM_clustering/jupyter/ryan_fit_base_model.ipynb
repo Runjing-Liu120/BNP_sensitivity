{
 "cells": [
  {
   "cell_type": "code",
   "execution_count": 1,
   "metadata": {
    "collapsed": true
   },
   "outputs": [],
   "source": [
    "git_repo = '../../..'\n",
    "\n",
    "import sys\n",
    "import os\n",
    "\n",
    "sys.path.insert(0, os.path.join(git_repo, 'BNP_sensitivity/GMM_clustering/'))\n",
    "\n",
    "# Linear response libraries\n",
    "import LinearResponseVariationalBayes as vb\n",
    "import LinearResponseVariationalBayes.SparseObjectives as obj_lib\n",
    "\n",
    "# My libraries\n",
    "import gmm_clustering_lib as gmm_utils\n",
    "import modeling_lib \n",
    "import functional_sensitivity_lib as fun_sens_lib \n",
    "import utils_lib\n",
    "import simulation_lib\n",
    "\n",
    "from scipy import spatial\n",
    "import scipy.cluster.hierarchy as sch\n",
    "\n",
    "import matplotlib.pyplot as plt\n",
    "%matplotlib inline\n",
    "\n",
    "import time\n",
    "from tqdm import tqdm\n",
    "\n",
    "from copy import deepcopy\n",
    "\n",
    "import numpy as np\n",
    "import scipy as sp\n",
    "\n",
    "np.random.seed(453453)\n",
    "\n",
    "import json \n"
   ]
  },
  {
   "cell_type": "code",
   "execution_count": 30,
   "metadata": {},
   "outputs": [
    {
     "data": {
      "image/png": "[encoded data removed]",
      "text/plain": [
       "<matplotlib.figure.Figure at 0x7f5cbb672c88>"
      ]
     },
     "metadata": {},
     "output_type": "display_data"
    }
   ],
   "source": [
    "simulate = True\n",
    "if not simulate:\n",
    "    dataset_name = 'iris'\n",
    "    features, iris_species = utils_lib.load_data()\n",
    "    dim = features.shape[1]\n",
    "else:\n",
    "    # Simulate data\n",
    "    dataset_name = 'simulation'\n",
    "\n",
    "    n_obs = 1000\n",
    "    dim = 2\n",
    "    true_k = 3\n",
    "    features, true_z, true_components, true_centroids, true_covs, true_probs = \\\n",
    "        simulation_lib.simulate_data(n_obs, dim, true_k, separation=0.4)\n",
    "\n",
    "    for k in range(true_k):\n",
    "        plt.plot(features[components == k, 0], features[components == k, 1], '.')"
   ]
  },
  {
   "cell_type": "markdown",
   "metadata": {},
   "source": [
    "# Set up the model"
   ]
  },
  {
   "cell_type": "code",
   "execution_count": 31,
   "metadata": {
    "collapsed": true
   },
   "outputs": [],
   "source": [
    "prior_params = gmm_utils.get_default_prior_params(dim)\n",
    "prior_params['alpha'].set(8.0)\n",
    "#prior_params['alpha'].set(2.0)\n",
    "\n",
    "prior_params['prior_gamma_df'].set(8)\n",
    "prior_params['prior_gamma_inv_scale'].set(np.eye(dim) * 0.62)"
   ]
  },
  {
   "cell_type": "code",
   "execution_count": 27,
   "metadata": {},
   "outputs": [],
   "source": [
    "k_approx = 12\n",
    "gh_deg = 8\n",
    "model = gmm_utils.DPGaussianMixture(\n",
    "    features, k_approx, prior_params, gh_deg, use_logitnormal_sticks=True)"
   ]
  },
  {
   "cell_type": "code",
   "execution_count": 28,
   "metadata": {},
   "outputs": [],
   "source": [
    "# run k-means init\n",
    "n_kmeans_init = 50\n",
    "init_global_free_param = model.cluster_and_set_inits(n_kmeans_init = n_kmeans_init)"
   ]
  },
  {
   "cell_type": "code",
   "execution_count": 32,
   "metadata": {
    "scrolled": false
   },
   "outputs": [
    {
     "name": "stdout",
     "output_type": "stream",
     "text": [
      "BGFS\n",
      "Iter: 0\t RMSE: 18.759132357664818\t Objective: 3655.846666455907\n",
      "Iter: 10\t RMSE: 26.854948011003966\t Objective: 805.7320020167473\n",
      "Iter: 20\t RMSE: 25.86303044952227\t Objective: 552.1514352036347\n",
      "Iter: 30\t RMSE: 23.66155407082491\t Objective: 480.6960392510877\n",
      "Iter: 40\t RMSE: 20.185992361180713\t Objective: 462.53047100040817\n",
      "Iter: 50\t RMSE: 20.421266839425844\t Objective: 455.2988561716145\n",
      "Iter: 60\t RMSE: 19.325725575407553\t Objective: 451.2992330346285\n",
      "Iter: 70\t RMSE: 18.285872442081246\t Objective: 447.8923411981816\n",
      "Iter: 80\t RMSE: 17.30945840158952\t Objective: 444.0980566497599\n",
      "Iter: 90\t RMSE: 15.42272690295364\t Objective: 438.3937262312819\n",
      "Iter: 100\t RMSE: 14.203491865182622\t Objective: 433.80339465070415\n",
      "Warning: Maximum number of iterations has been exceeded.\n",
      "         Current function value: 432.082294\n",
      "         Iterations: 100\n",
      "         Function evaluations: 109\n",
      "         Gradient evaluations: 109\n",
      "Conditioned Newton:\n",
      "i =  0\n",
      "Iter: 110\t RMSE: 12.930158970229435\t Objective: 430.93563862183953\n",
      "Iter: 120\t RMSE: 12.471283056723452\t Objective: 425.96531675986137\n",
      "Iter: 130\t RMSE: 11.902240400817417\t Objective: 424.86296185780316\n",
      "Iter: 140\t RMSE: 11.833076374446755\t Objective: 424.50741671750234\n",
      "Optimization terminated successfully.\n",
      "         Current function value: 424.479546\n",
      "         Iterations: 40\n",
      "         Function evaluations: 41\n",
      "         Gradient evaluations: 37\n",
      "         Hessian evaluations: 0\n",
      "Iter 1: x_diff = 28.839594182166774, f_diff = 7.602747779396509\n",
      "i =  1\n",
      "Iter: 150\t RMSE: 11.859820226630783\t Objective: 424.4795462494168\n",
      "Warning: A bad approximation caused failure to predict improvement.\n",
      "         Current function value: 424.479546\n",
      "         Iterations: 0\n",
      "         Function evaluations: 2\n",
      "         Gradient evaluations: 1\n",
      "         Hessian evaluations: 0\n",
      "Iter 2: x_diff = 3.9881292712706795e-14, f_diff = 7.958078640513122e-13\n",
      "Done. \n"
     ]
    }
   ],
   "source": [
    "t0 = time.time()\n",
    "best_param, kl_hessian, kl_hessian_corrected, \\\n",
    "init_opt_time, newton_time, x_conv, f_conv, vb_opt = \\\n",
    "model.optimize_full(init_global_free_param,\n",
    "    init_max_iter=100,\n",
    "    final_max_iter=500)\n",
    "t_newton = time.time() - t0\n",
    "\n",
    "print('Done. ')"
   ]
  },
  {
   "cell_type": "code",
   "execution_count": 33,
   "metadata": {
    "collapsed": true
   },
   "outputs": [],
   "source": [
    "kl_hessian = model.objective.fun_free_hessian(best_param)"
   ]
  },
  {
   "cell_type": "code",
   "execution_count": 34,
   "metadata": {},
   "outputs": [
    {
     "name": "stdout",
     "output_type": "stream",
     "text": [
      "saving fit dict to  ../../../BNP_sensitivity/GMM_clustering/iris_fits/ryan_simulation_bnp_full_data_fit_alpha8.0.json\n"
     ]
    }
   ],
   "source": [
    "fit_dict = gmm_utils.get_checkpoint_dictionary(model, kl_hessian, seed=453453)\n",
    "base_alpha = model.prior_params['alpha'].get()\n",
    "filename = 'ryan_{}_bnp_full_data_fit_alpha{}.json'.format(dataset_name, base_alpha)\n",
    "json_output_file = os.path.join(\n",
    "    git_repo,\n",
    "    'BNP_sensitivity/GMM_clustering/iris_fits/',\n",
    "    filename)\n",
    "print('saving fit dict to ', json_output_file)\n",
    "with open(json_output_file, 'w') as outfile:\n",
    "    json.dump(fit_dict, outfile)\n"
   ]
  }
 ],
 "metadata": {
  "kernelspec": {
   "display_name": "Python 3",
   "language": "python",
   "name": "python3"
  },
  "language_info": {
   "codemirror_mode": {
    "name": "ipython",
    "version": 3
   },
   "file_extension": ".py",
   "mimetype": "text/x-python",
   "name": "python",
   "nbconvert_exporter": "python",
   "pygments_lexer": "ipython3",
   "version": "3.5.2"
  }
 },
 "nbformat": 4,
 "nbformat_minor": 2
}
