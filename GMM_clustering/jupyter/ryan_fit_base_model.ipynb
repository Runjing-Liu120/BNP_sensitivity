{
 "cells": [
  {
   "cell_type": "code",
   "execution_count": 1,
   "metadata": {
    "collapsed": true
   },
   "outputs": [],
   "source": [
    "git_repo = '../../..'\n",
    "\n",
    "import sys\n",
    "import os\n",
    "\n",
    "sys.path.insert(0, os.path.join(git_repo, 'BNP_sensitivity/GMM_clustering/'))\n",
    "\n",
    "# Linear response libraries\n",
    "import LinearResponseVariationalBayes as vb\n",
    "import LinearResponseVariationalBayes.SparseObjectives as obj_lib\n",
    "\n",
    "# My libraries\n",
    "import gmm_clustering_lib as gmm_utils\n",
    "import modeling_lib \n",
    "import functional_sensitivity_lib as fun_sens_lib \n",
    "import utils_lib\n",
    "\n",
    "from scipy import spatial\n",
    "import scipy.cluster.hierarchy as sch\n",
    "\n",
    "import matplotlib.pyplot as plt\n",
    "%matplotlib inline\n",
    "\n",
    "import time\n",
    "from tqdm import tqdm\n",
    "\n",
    "from copy import deepcopy\n",
    "\n",
    "import numpy as np\n",
    "import scipy as sp\n",
    "\n",
    "np.random.seed(453453)\n",
    "\n",
    "import json "
   ]
  },
  {
   "cell_type": "code",
   "execution_count": 2,
   "metadata": {
    "collapsed": true
   },
   "outputs": [],
   "source": [
    "iris_features, iris_species = utils_lib.load_data()\n",
    "dim = iris_features.shape[1]\n",
    "\n",
    "# Get some things that will be useful for plotting.\n",
    "pca_fit, pc_features, colors1, colors2 = utils_lib.get_plot_data(iris_features)"
   ]
  },
  {
   "cell_type": "markdown",
   "metadata": {},
   "source": [
    "# Set up the model"
   ]
  },
  {
   "cell_type": "code",
   "execution_count": 11,
   "metadata": {
    "collapsed": true
   },
   "outputs": [],
   "source": [
    "prior_params = gmm_utils.get_default_prior_params(dim)\n",
    "prior_params['alpha'].set(2.0)\n",
    "prior_params['prior_gamma_df'].set(8)\n",
    "prior_params['prior_gamma_inv_scale'].set(np.eye(dim) * 0.62)"
   ]
  },
  {
   "cell_type": "code",
   "execution_count": 12,
   "metadata": {
    "collapsed": true
   },
   "outputs": [],
   "source": [
    "k_approx = 12\n",
    "gh_deg = 8\n",
    "model = gmm_utils.DPGaussianMixture(\n",
    "    iris_features, k_approx, prior_params, gh_deg, use_logitnormal_sticks=True)"
   ]
  },
  {
   "cell_type": "code",
   "execution_count": 13,
   "metadata": {
    "collapsed": true
   },
   "outputs": [],
   "source": [
    "# run k-means init\n",
    "n_kmeans_init = 50\n",
    "init_global_free_param = model.cluster_and_set_inits(n_kmeans_init = n_kmeans_init)"
   ]
  },
  {
   "cell_type": "code",
   "execution_count": 14,
   "metadata": {},
   "outputs": [
    {
     "name": "stdout",
     "output_type": "stream",
     "text": [
      "BGFS\n",
      "Iter: 0\t RMSE: 5.598913912817113\t Objective: 10587.24484399661\n",
      "Iter: 10\t RMSE: 10.580191662649106\t Objective: 5325.241489122262\n",
      "Iter: 20\t RMSE: 24.122420879851944\t Objective: 2764.8473663626346\n",
      "Iter: 30\t RMSE: 26.31181090190182\t Objective: 1018.9572743180508\n",
      "Iter: 40\t RMSE: 30.211493259136123\t Objective: 281.4059316034918\n",
      "Iter: 50\t RMSE: 26.1257867533292\t Objective: -15.752772025032755\n",
      "Iter: 60\t RMSE: 26.093139641081134\t Objective: -119.48658006434388\n",
      "Iter: 70\t RMSE: 26.093234864761\t Objective: -149.6159590447715\n",
      "Iter: 80\t RMSE: 26.092148923203577\t Objective: -162.46559578194814\n",
      "Iter: 90\t RMSE: 26.059904885890386\t Objective: -165.17435513041048\n",
      "Iter: 100\t RMSE: 25.798599095847084\t Objective: -169.02909031643236\n",
      "Warning: Maximum number of iterations has been exceeded.\n",
      "         Current function value: -170.103061\n",
      "         Iterations: 100\n",
      "         Function evaluations: 109\n",
      "         Gradient evaluations: 109\n",
      "Conditioned Newton:\n",
      "i =  0\n",
      "Iter: 110\t RMSE: 25.446316107159536\t Objective: -171.99671013525816\n",
      "Iter: 120\t RMSE: 17.56219773731265\t Objective: -216.6428709704125\n",
      "Iter: 130\t RMSE: 11.837063017958553\t Objective: -280.7908398115146\n",
      "Iter: 140\t RMSE: 11.460858105017504\t Objective: -317.5165416300255\n",
      "Iter: 150\t RMSE: 11.360555455895359\t Objective: -320.17898287938385\n",
      "Iter: 160\t RMSE: 11.188403643343477\t Objective: -321.33513920239676\n",
      "Iter: 170\t RMSE: 11.120927454761636\t Objective: -321.5262276022869\n",
      "Warning: A bad approximation caused failure to predict improvement.\n",
      "         Current function value: -321.526228\n",
      "         Iterations: 60\n",
      "         Function evaluations: 62\n",
      "         Gradient evaluations: 56\n",
      "         Hessian evaluations: 0\n",
      "Iter 1: x_diff = 101.10840515219607, f_diff = 151.42316638222158\n",
      "i =  1\n",
      "Warning: A bad approximation caused failure to predict improvement.\n",
      "         Current function value: -321.526228\n",
      "         Iterations: 0\n",
      "         Function evaluations: 2\n",
      "         Gradient evaluations: 1\n",
      "         Hessian evaluations: 0\n",
      "Iter 2: x_diff = 4.9302575910736834e-14, f_diff = 1.3073986337985843e-12\n",
      "Done. \n"
     ]
    }
   ],
   "source": [
    "t0 = time.time()\n",
    "best_param, kl_hessian, kl_hessian_corrected, \\\n",
    "init_opt_time, newton_time, x_conv, f_conv, vb_opt = \\\n",
    "model.optimize_full(init_global_free_param,\n",
    "    init_max_iter=100,\n",
    "    final_max_iter=500)\n",
    "t_newton = time.time() - t0\n",
    "\n",
    "print('Done. ')"
   ]
  },
  {
   "cell_type": "code",
   "execution_count": 15,
   "metadata": {
    "collapsed": true
   },
   "outputs": [],
   "source": [
    "kl_hessian = model.objective.fun_free_hessian(best_param)"
   ]
  },
  {
   "cell_type": "code",
   "execution_count": 16,
   "metadata": {},
   "outputs": [
    {
     "name": "stdout",
     "output_type": "stream",
     "text": [
      "saving fit dict to  ../../../BNP_sensitivity/GMM_clustering/iris_fits/ryan_iris_bnp_full_data_fit_alpha2.0.json\n"
     ]
    }
   ],
   "source": [
    "fit_dict = gmm_utils.get_checkpoint_dictionary(model, kl_hessian, seed=453453)\n",
    "base_alpha = model.prior_params['alpha'].get()\n",
    "filename = 'ryan_iris_bnp_full_data_fit_alpha{}.json'.format(base_alpha)\n",
    "json_output_file = os.path.join(\n",
    "    git_repo,\n",
    "    'BNP_sensitivity/GMM_clustering/iris_fits/',\n",
    "    filename)\n",
    "print('saving fit dict to ', json_output_file)\n",
    "with open(json_output_file, 'w') as outfile:\n",
    "    json.dump(fit_dict, outfile)\n"
   ]
  }
 ],
 "metadata": {
  "kernelspec": {
   "display_name": "Python 3",
   "language": "python",
   "name": "python3"
  },
  "language_info": {
   "codemirror_mode": {
    "name": "ipython",
    "version": 3
   },
   "file_extension": ".py",
   "mimetype": "text/x-python",
   "name": "python",
   "nbconvert_exporter": "python",
   "pygments_lexer": "ipython3",
   "version": "3.5.2"
  }
 },
 "nbformat": 4,
 "nbformat_minor": 2
}
