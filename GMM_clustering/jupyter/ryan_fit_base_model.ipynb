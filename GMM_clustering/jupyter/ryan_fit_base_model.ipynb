{
 "cells": [
  {
   "cell_type": "code",
   "execution_count": 1,
   "metadata": {},
   "outputs": [],
   "source": [
    "git_repo = '../../..'\n",
    "\n",
    "import sys\n",
    "import os\n",
    "\n",
    "sys.path.insert(0, os.path.join(git_repo, 'BNP_sensitivity/GMM_clustering/'))\n",
    "\n",
    "# Linear response libraries\n",
    "import LinearResponseVariationalBayes as vb\n",
    "import LinearResponseVariationalBayes.SparseObjectives as obj_lib\n",
    "\n",
    "# My libraries\n",
    "import gmm_clustering_lib as gmm_utils\n",
    "import modeling_lib \n",
    "import functional_sensitivity_lib as fun_sens_lib \n",
    "import utils_lib\n",
    "import simulation_lib\n",
    "\n",
    "from scipy import spatial\n",
    "import scipy.cluster.hierarchy as sch\n",
    "\n",
    "import matplotlib.pyplot as plt\n",
    "%matplotlib inline\n",
    "\n",
    "import time\n",
    "from tqdm import tqdm\n",
    "\n",
    "from copy import deepcopy\n",
    "\n",
    "import numpy as np\n",
    "import scipy as sp\n",
    "\n",
    "np.random.seed(453453)\n",
    "\n",
    "import json \n"
   ]
  },
  {
   "cell_type": "code",
   "execution_count": 2,
   "metadata": {},
   "outputs": [],
   "source": [
    "simulate = True\n",
    "if not simulate:\n",
    "    dataset_name = 'iris'\n",
    "    features, iris_species = utils_lib.load_data()\n",
    "    dim = features.shape[1]\n",
    "else:\n",
    "    # Simulate data\n",
    "    dataset_name = 'simulation'\n",
    "\n",
    "    n_obs = 1000\n",
    "    dim = 2\n",
    "    true_k = 3\n",
    "    features, true_z, true_components, true_centroids, true_covs, true_probs = \\\n",
    "        simulation_lib.simulate_data(n_obs, dim, true_k, separation=0.4)\n",
    "\n",
    "    for k in range(true_k):\n",
    "        plt.plot(features[true_components == k, 0], features[true_components == k, 1], '.')"
   ]
  },
  {
   "cell_type": "markdown",
   "metadata": {},
   "source": [
    "# Set up the model"
   ]
  },
  {
   "cell_type": "code",
   "execution_count": 3,
   "metadata": {
    "collapsed": true
   },
   "outputs": [],
   "source": [
    "prior_params = gmm_utils.get_default_prior_params(dim)\n",
    "prior_params['alpha'].set(8.0)\n",
    "#prior_params['alpha'].set(2.0)\n",
    "#prior_params['alpha'].set(1.0)\n",
    "\n",
    "prior_params['prior_gamma_df'].set(8)\n",
    "prior_params['prior_gamma_inv_scale'].set(np.eye(dim) * 0.62)"
   ]
  },
  {
   "cell_type": "code",
   "execution_count": 4,
   "metadata": {
    "collapsed": true
   },
   "outputs": [],
   "source": [
    "k_approx = 12\n",
    "gh_deg = 8\n",
    "model = gmm_utils.DPGaussianMixture(\n",
    "    features, k_approx, prior_params, gh_deg, use_logitnormal_sticks=True)"
   ]
  },
  {
   "cell_type": "code",
   "execution_count": 5,
   "metadata": {
    "collapsed": true
   },
   "outputs": [],
   "source": [
    "# run k-means init\n",
    "n_kmeans_init = 50\n",
    "init_global_free_param = model.cluster_and_set_inits(n_kmeans_init = n_kmeans_init)"
   ]
  },
  {
   "cell_type": "code",
   "execution_count": 6,
   "metadata": {
    "scrolled": false
   },
   "outputs": [
    {
     "name": "stdout",
     "output_type": "stream",
     "text": [
      "Iter: 0\t RMSE: 5.4171664084976205\t Objective: 4927.074571257251\n",
      "Iter: 50\t RMSE: 12.153510031465627\t Objective: -265.9051915783531\n",
      "Iter: 100\t RMSE: 11.270952653637949\t Objective: -301.5500897148094\n",
      "Iter: 150\t RMSE: 11.214443142864607\t Objective: -304.3213285867706\n",
      "Iter: 200\t RMSE: 11.232797509212972\t Objective: -305.0089265560499\n",
      "Iter: 250\t RMSE: 11.222264045019932\t Objective: -305.0691512394305\n",
      "Iter: 300\t RMSE: 11.24909264096273\t Objective: -305.3508499795255\n",
      "Optimization terminated successfully.\n",
      "         Current function value: -305.358330\n",
      "         Iterations: 310\n",
      "         Function evaluations: 325\n",
      "         Gradient evaluations: 325\n",
      "Iter: 325\t RMSE: 11.252659858562609\t Objective: -305.3583295430071\n",
      "Iter: 326\t RMSE: 11.252659820227127\t Objective: -305.358329543011\n",
      "Optimization terminated successfully.\n",
      "         Current function value: -305.358330\n",
      "         Iterations: 1\n",
      "         Function evaluations: 2\n",
      "         Gradient evaluations: 2\n",
      "         Hessian evaluations: 0\n",
      "Done. Converged:  True\n"
     ]
    }
   ],
   "source": [
    "t0 = time.time()\n",
    "best_param, converged, x_conv, f_conv, grad_conv, obj_opt, opt_results = \\\n",
    "    model.optimize_full(init_global_free_param)\n",
    "t_newton = time.time() - t0\n",
    "\n",
    "assert converged\n",
    "print('Done. Converged: ', converged)"
   ]
  },
  {
   "cell_type": "code",
   "execution_count": 7,
   "metadata": {},
   "outputs": [],
   "source": [
    "kl_hessian = model.objective.fun_free_hessian(best_param)"
   ]
  },
  {
   "cell_type": "code",
   "execution_count": 8,
   "metadata": {},
   "outputs": [
    {
     "name": "stdout",
     "output_type": "stream",
     "text": [
      "saving fit dict to  ../../../BNP_sensitivity/GMM_clustering/iris_fits/ryan_iris_bnp_full_data_fit_alpha8.0.json\n"
     ]
    }
   ],
   "source": [
    "fit_dict = gmm_utils.get_checkpoint_dictionary(model, kl_hessian, seed=453453)\n",
    "base_alpha = model.prior_params['alpha'].get()\n",
    "filename = 'ryan_{}_bnp_full_data_fit_alpha{}.json'.format(dataset_name, base_alpha)\n",
    "json_output_file = os.path.join(\n",
    "    git_repo,\n",
    "    'BNP_sensitivity/GMM_clustering/iris_fits/',\n",
    "    filename)\n",
    "print('saving fit dict to ', json_output_file)\n",
    "with open(json_output_file, 'w') as outfile:\n",
    "    json.dump(fit_dict, outfile)\n"
   ]
  }
 ],
 "metadata": {
  "kernelspec": {
   "display_name": "Python 3",
   "language": "python",
   "name": "python3"
  },
  "language_info": {
   "codemirror_mode": {
    "name": "ipython",
    "version": 3
   },
   "file_extension": ".py",
   "mimetype": "text/x-python",
   "name": "python",
   "nbconvert_exporter": "python",
   "pygments_lexer": "ipython3",
   "version": "3.5.2"
  }
 },
 "nbformat": 4,
 "nbformat_minor": 2
}
