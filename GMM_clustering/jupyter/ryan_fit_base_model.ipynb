{
 "cells": [
  {
   "cell_type": "code",
   "execution_count": 1,
   "metadata": {
    "collapsed": true
   },
   "outputs": [],
   "source": [
    "git_repo = '../../..'\n",
    "\n",
    "import sys\n",
    "import os\n",
    "\n",
    "sys.path.insert(0, os.path.join(git_repo, 'BNP_sensitivity/GMM_clustering/'))\n",
    "\n",
    "# Linear response libraries\n",
    "import LinearResponseVariationalBayes as vb\n",
    "import LinearResponseVariationalBayes.SparseObjectives as obj_lib\n",
    "\n",
    "# My libraries\n",
    "import gmm_clustering_lib as gmm_utils\n",
    "import modeling_lib \n",
    "import functional_sensitivity_lib as fun_sens_lib \n",
    "import utils_lib\n",
    "\n",
    "from scipy import spatial\n",
    "import scipy.cluster.hierarchy as sch\n",
    "\n",
    "import matplotlib.pyplot as plt\n",
    "%matplotlib inline\n",
    "\n",
    "import time\n",
    "from tqdm import tqdm\n",
    "\n",
    "from copy import deepcopy\n",
    "\n",
    "import numpy as np\n",
    "import scipy as sp\n",
    "\n",
    "np.random.seed(453453)\n",
    "\n",
    "import json "
   ]
  },
  {
   "cell_type": "code",
   "execution_count": 2,
   "metadata": {
    "collapsed": true
   },
   "outputs": [],
   "source": [
    "iris_features, iris_species = utils_lib.load_data()\n",
    "dim = iris_features.shape[1]\n",
    "\n",
    "# Get some things that will be useful for plotting.\n",
    "pca_fit, pc_features, colors1, colors2 = utils_lib.get_plot_data(iris_features)"
   ]
  },
  {
   "cell_type": "markdown",
   "metadata": {},
   "source": [
    "# Set up the model"
   ]
  },
  {
   "cell_type": "code",
   "execution_count": 10,
   "metadata": {
    "collapsed": true
   },
   "outputs": [],
   "source": [
    "prior_params = gmm_utils.get_default_prior_params(dim)\n",
    "prior_params['alpha'].set(8.0)\n",
    "#prior_params['alpha'].set(2.0)\n",
    "\n",
    "prior_params['prior_gamma_df'].set(8)\n",
    "prior_params['prior_gamma_inv_scale'].set(np.eye(dim) * 0.62)"
   ]
  },
  {
   "cell_type": "code",
   "execution_count": 11,
   "metadata": {},
   "outputs": [],
   "source": [
    "k_approx = 12\n",
    "gh_deg = 8\n",
    "model = gmm_utils.DPGaussianMixture(\n",
    "    iris_features, k_approx, prior_params, gh_deg, use_logitnormal_sticks=True)"
   ]
  },
  {
   "cell_type": "code",
   "execution_count": 12,
   "metadata": {},
   "outputs": [],
   "source": [
    "# run k-means init\n",
    "n_kmeans_init = 50\n",
    "init_global_free_param = model.cluster_and_set_inits(n_kmeans_init = n_kmeans_init)"
   ]
  },
  {
   "cell_type": "code",
   "execution_count": 13,
   "metadata": {
    "scrolled": false
   },
   "outputs": [
    {
     "name": "stdout",
     "output_type": "stream",
     "text": [
      "BGFS\n",
      "Iter: 0\t RMSE: 5.598913912817113\t Objective: 10680.097309377563\n",
      "Iter: 10\t RMSE: 9.119126130758264\t Objective: 5244.437407378447\n",
      "Iter: 20\t RMSE: 14.737482539977746\t Objective: 2778.207262523336\n",
      "Iter: 30\t RMSE: 14.66761471824847\t Objective: 781.0942196363477\n",
      "Iter: 40\t RMSE: 13.658840034830863\t Objective: 239.58905623217495\n",
      "Iter: 50\t RMSE: 13.615208588067171\t Objective: -40.19379236559351\n",
      "Iter: 60\t RMSE: 12.261653482597634\t Objective: -140.48515991283696\n",
      "Iter: 70\t RMSE: 10.444682871579207\t Objective: -217.78218408737231\n",
      "Iter: 80\t RMSE: 10.263578187279222\t Objective: -260.9743124666259\n",
      "Iter: 90\t RMSE: 8.844982327391621\t Objective: -280.0767033664889\n",
      "Iter: 100\t RMSE: 7.650099073742574\t Objective: -293.4546446203265\n",
      "Warning: Maximum number of iterations has been exceeded.\n",
      "         Current function value: -295.878420\n",
      "         Iterations: 100\n",
      "         Function evaluations: 104\n",
      "         Gradient evaluations: 104\n",
      "Conditioned Newton:\n",
      "i =  0\n",
      "Iter: 110\t RMSE: 7.970653849972609\t Objective: -307.83190679068065\n",
      "Iter: 120\t RMSE: 7.764030430627749\t Objective: -314.09414476708486\n",
      "Iter: 130\t RMSE: 7.651372739082845\t Objective: -315.09162351368934\n",
      "Warning: A bad approximation caused failure to predict improvement.\n",
      "         Current function value: -315.108603\n",
      "         Iterations: 31\n",
      "         Function evaluations: 33\n",
      "         Gradient evaluations: 27\n",
      "         Hessian evaluations: 0\n",
      "Iter 1: x_diff = 75.36721210939382, f_diff = 19.230182985645285\n",
      "i =  1\n",
      "Warning: A bad approximation caused failure to predict improvement.\n",
      "         Current function value: -315.108603\n",
      "         Iterations: 0\n",
      "         Function evaluations: 2\n",
      "         Gradient evaluations: 1\n",
      "         Hessian evaluations: 0\n",
      "Iter 2: x_diff = 6.171322133874391e-14, f_diff = 7.389644451905042e-13\n",
      "Done. \n"
     ]
    }
   ],
   "source": [
    "t0 = time.time()\n",
    "best_param, kl_hessian, kl_hessian_corrected, \\\n",
    "init_opt_time, newton_time, x_conv, f_conv, vb_opt = \\\n",
    "model.optimize_full(init_global_free_param,\n",
    "    init_max_iter=100,\n",
    "    final_max_iter=500)\n",
    "t_newton = time.time() - t0\n",
    "\n",
    "print('Done. ')"
   ]
  },
  {
   "cell_type": "code",
   "execution_count": 14,
   "metadata": {
    "collapsed": true
   },
   "outputs": [],
   "source": [
    "kl_hessian = model.objective.fun_free_hessian(best_param)"
   ]
  },
  {
   "cell_type": "code",
   "execution_count": 15,
   "metadata": {},
   "outputs": [
    {
     "name": "stdout",
     "output_type": "stream",
     "text": [
      "saving fit dict to  ../../../BNP_sensitivity/GMM_clustering/iris_fits/ryan_iris_bnp_full_data_fit_alpha8.0.json\n"
     ]
    }
   ],
   "source": [
    "fit_dict = gmm_utils.get_checkpoint_dictionary(model, kl_hessian, seed=453453)\n",
    "base_alpha = model.prior_params['alpha'].get()\n",
    "filename = 'ryan_iris_bnp_full_data_fit_alpha{}.json'.format(base_alpha)\n",
    "json_output_file = os.path.join(\n",
    "    git_repo,\n",
    "    'BNP_sensitivity/GMM_clustering/iris_fits/',\n",
    "    filename)\n",
    "print('saving fit dict to ', json_output_file)\n",
    "with open(json_output_file, 'w') as outfile:\n",
    "    json.dump(fit_dict, outfile)\n"
   ]
  }
 ],
 "metadata": {
  "kernelspec": {
   "display_name": "Python 3",
   "language": "python",
   "name": "python3"
  },
  "language_info": {
   "codemirror_mode": {
    "name": "ipython",
    "version": 3
   },
   "file_extension": ".py",
   "mimetype": "text/x-python",
   "name": "python",
   "nbconvert_exporter": "python",
   "pygments_lexer": "ipython3",
   "version": "3.5.2"
  }
 },
 "nbformat": 4,
 "nbformat_minor": 2
}
