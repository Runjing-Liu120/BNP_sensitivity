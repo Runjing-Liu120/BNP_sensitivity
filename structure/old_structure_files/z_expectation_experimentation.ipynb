{
 "cells": [
  {
   "cell_type": "markdown",
   "metadata": {},
   "source": [
    "Experiment with efficient ways to calculate the expected indicators, $\\mathbb{E}[Z_{nlk}]$ for structure.\n",
    "\n",
    "$$\n",
    "\\begin{align}\n",
    "\\log f & \\left(P_{k},Q_{n},Z_{n}^{a},Z_{n}^{b}\\vert G_{n}\\right)\t= &\\\\\n",
    "& \\sum_{k=1}^{K}\\sum_{l=1}^{L}\\left(a_{kl}\\log P_{lk}+b_{kl}\\log\\left(1-P_{lk}\\right)\\right)\n",
    "    &\\textrm{ (prior on allele frequencies)}+ \\\\\n",
    "& \\sum_{n=1}^{N}\\sum_{k=1}^{K}\\alpha_{k}\\log Q_{nk}\n",
    "    &\\textrm{ (individuals' populations)}+ \\\\\n",
    "& \\sum_{n=1}^{N}\\sum_{l=1}^{L}\\sum_{k=1}^{K}\\left(Z_{nlk}^{a}+Z_{nlk}^{b}\\right)\\log Q_{nk}\n",
    "    &\\textrm{ (loci latent populations)}+ \\\\\n",
    "& \\sum_{n=1}^{N}\\sum_{l=1}^{L}\\sum_{k=1}^{K}\\left(G_{nl0}\\log\\left(1-P_{lk}\\right) + \\left(G_{nl1}+G_{nl2}\\right)\\log\\left(P_{lk}\\right)\\right)Z_{nlk}^{a} + \\\\\n",
    "& \\sum_{n=1}^{N}\\sum_{l=1}^{L}\\sum_{k=1}^{K}\\left(\\left(G_{nl0}+G_{nl1}\\right)\\log\\left(1-P_{lk}\\right)+G_{nl2}\\log\\left(P_{lk}\\right)\\right)Z_{nlk}^{b}+\n",
    "\t\t\\textrm{constant}\n",
    "\\end{align}\n",
    "$$\n",
    "\n",
    "Note that $\\sum_k \\mathbb{E}[Z_{nlk}]$, and that $Z_{n'l'k'}$ and $Z_{nlk}$ are independent for $n \\ne n'$ or $l \\ne l'$."
   ]
  },
  {
   "cell_type": "code",
   "execution_count": 1,
   "metadata": {
    "collapsed": true
   },
   "outputs": [],
   "source": [
    "import autograd\n",
    "import autograd.numpy as np\n",
    "import autograd.scipy as sp"
   ]
  },
  {
   "cell_type": "code",
   "execution_count": 15,
   "metadata": {},
   "outputs": [],
   "source": [
    "n_num = 100 # individuals\n",
    "l_num = 15 # loci\n",
    "k_num = 6 # populations\n",
    "\n",
    "# Data of the right shape (even if senseless).\n",
    "e_log_q = np.random.random((n_num, k_num)) # P(individual n is from population k)\n",
    "e_log_p = np.random.random((l_num, k_num)) # P(gene l is drawn in population k)\n",
    "e_log_1mp = np.random.random((l_num, k_num)) # P(gene l is not drawn in population k)\n",
    "g = np.random.choice([0, 1, 2], (n_num, l_num)) # Actual gene counts"
   ]
  },
  {
   "cell_type": "code",
   "execution_count": null,
   "metadata": {
    "collapsed": true
   },
   "outputs": [],
   "source": []
  }
 ],
 "metadata": {
  "kernelspec": {
   "display_name": "Python 3",
   "language": "python",
   "name": "python3"
  },
  "language_info": {
   "codemirror_mode": {
    "name": "ipython",
    "version": 3
   },
   "file_extension": ".py",
   "mimetype": "text/x-python",
   "name": "python",
   "nbconvert_exporter": "python",
   "pygments_lexer": "ipython3",
   "version": "3.5.2"
  }
 },
 "nbformat": 4,
 "nbformat_minor": 2
}
