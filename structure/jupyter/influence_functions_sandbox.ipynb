{
 "cells": [
  {
   "cell_type": "code",
   "execution_count": 1,
   "metadata": {},
   "outputs": [
    {
     "name": "stderr",
     "output_type": "stream",
     "text": [
      "/accounts/grad/runjing_liu/.conda/envs/bnp_sensitivity_jax/lib/python3.9/site-packages/jax/lib/xla_bridge.py:130: UserWarning: No GPU/TPU found, falling back to CPU.\n",
      "  warnings.warn('No GPU/TPU found, falling back to CPU.')\n"
     ]
    }
   ],
   "source": [
    "import jax\n",
    "\n",
    "import jax.numpy as np\n",
    "import jax.scipy as sp\n",
    "\n",
    "import scipy as osp\n",
    "from scipy.stats import kde\n",
    "\n",
    "import paragami\n",
    "\n",
    "import matplotlib.pyplot as plt\n",
    "%matplotlib inline\n",
    "\n",
    "from bnpmodeling_runjingdev import log_phi_lib, cluster_quantities_lib, influence_lib\n",
    "import bnpmodeling_runjingdev.functional_sensitivity_lib as func_sens_lib\n",
    "from bnpmodeling_runjingdev.sensitivity_lib import \\\n",
    "        HyperparameterSensitivityLinearApproximation\n",
    "\n",
    "from structure_vb_lib import structure_model_lib, posterior_quantities_lib\n",
    "from structure_vb_lib.data_utils import cluster_admix_get_indx\n",
    "from structure_vb_lib.preconditioner_lib import get_mfvb_cov_matmul\n",
    "\n",
    "import structure_vb_lib.structure_optimization_lib as s_optim_lib\n",
    "\n",
    "import re\n",
    "import copy"
   ]
  },
  {
   "cell_type": "code",
   "execution_count": 2,
   "metadata": {},
   "outputs": [],
   "source": [
    "import numpy as onp \n",
    "onp.random.seed(53453)"
   ]
  },
  {
   "cell_type": "code",
   "execution_count": null,
   "metadata": {},
   "outputs": [],
   "source": []
  },
  {
   "cell_type": "markdown",
   "metadata": {},
   "source": [
    "# File paths"
   ]
  },
  {
   "cell_type": "code",
   "execution_count": 3,
   "metadata": {},
   "outputs": [],
   "source": [
    "# data_file='../data/phased_HGDP+India+Africa_2810SNPs-regions1to36.npz'\n",
    "# out_filename='huang2011_fit'\n",
    "# out_folder='../fits/hgdp_fits/'\n",
    "\n",
    "data_file = '../data/huang2011_sub_nobs25_nloci75.npz'\n",
    "out_filename = 'huang2011_fit_sub'\n",
    "out_folder = '../fits/tmp/'\n"
   ]
  },
  {
   "cell_type": "code",
   "execution_count": 4,
   "metadata": {},
   "outputs": [],
   "source": [
    "alpha0 = 6.0\n",
    "\n",
    "init_fit_file = out_folder + out_filename + '_alpha' + str(alpha0) + '.npz'\n",
    "lr_file = out_folder + out_filename + '_alpha' + str(alpha0) + '_lrderivatives.npz'"
   ]
  },
  {
   "cell_type": "code",
   "execution_count": null,
   "metadata": {},
   "outputs": [],
   "source": []
  },
  {
   "cell_type": "markdown",
   "metadata": {},
   "source": [
    "# Load data"
   ]
  },
  {
   "cell_type": "code",
   "execution_count": 5,
   "metadata": {},
   "outputs": [
    {
     "name": "stdout",
     "output_type": "stream",
     "text": [
      "../data/huang2011_sub_nobs25_nloci75.npz\n"
     ]
    }
   ],
   "source": [
    "print(data_file)"
   ]
  },
  {
   "cell_type": "code",
   "execution_count": 6,
   "metadata": {},
   "outputs": [],
   "source": [
    "data = np.load(data_file)\n",
    "g_obs = np.array(data['g_obs'], dtype = int)"
   ]
  },
  {
   "cell_type": "code",
   "execution_count": 7,
   "metadata": {},
   "outputs": [
    {
     "data": {
      "text/plain": [
       "(25, 75, 3)"
      ]
     },
     "execution_count": 7,
     "metadata": {},
     "output_type": "execute_result"
    }
   ],
   "source": [
    "g_obs.shape"
   ]
  },
  {
   "cell_type": "markdown",
   "metadata": {},
   "source": [
    "# Load initial fit"
   ]
  },
  {
   "cell_type": "code",
   "execution_count": 8,
   "metadata": {},
   "outputs": [
    {
     "name": "stdout",
     "output_type": "stream",
     "text": [
      "../fits/tmp/huang2011_fit_sub_alpha6.0.npz\n"
     ]
    }
   ],
   "source": [
    "print(init_fit_file)"
   ]
  },
  {
   "cell_type": "code",
   "execution_count": 9,
   "metadata": {},
   "outputs": [],
   "source": [
    "vb_init_dict, vb_params_paragami, \\\n",
    "    prior_params_dict, prior_params_paragami, \\\n",
    "        gh_loc, gh_weights, init_fit_meta_data = \\\n",
    "            structure_model_lib.load_structure_fit(init_fit_file)"
   ]
  },
  {
   "cell_type": "code",
   "execution_count": 10,
   "metadata": {},
   "outputs": [],
   "source": [
    "vb_init_free = vb_params_paragami.flatten(vb_init_dict, free = True)"
   ]
  },
  {
   "cell_type": "code",
   "execution_count": null,
   "metadata": {},
   "outputs": [],
   "source": []
  },
  {
   "cell_type": "markdown",
   "metadata": {},
   "source": [
    "# Define vb sensitivity "
   ]
  },
  {
   "cell_type": "markdown",
   "metadata": {},
   "source": [
    "We need the hessian solver ... "
   ]
  },
  {
   "cell_type": "code",
   "execution_count": 11,
   "metadata": {},
   "outputs": [],
   "source": [
    "stru_objective = s_optim_lib.StructureObjective(g_obs, \n",
    "                                                vb_params_paragami,\n",
    "                                                prior_params_dict, \n",
    "                                                gh_loc, gh_weights, \n",
    "                                                jit_functions = False)"
   ]
  },
  {
   "cell_type": "code",
   "execution_count": 12,
   "metadata": {},
   "outputs": [],
   "source": [
    "cg_precond = lambda v : get_mfvb_cov_matmul(v, vb_init_dict,\n",
    "                                            vb_params_paragami,\n",
    "                                            return_sqrt = False, \n",
    "                                            return_info = True)\n"
   ]
  },
  {
   "cell_type": "code",
   "execution_count": 13,
   "metadata": {},
   "outputs": [
    {
     "name": "stdout",
     "output_type": "stream",
     "text": [
      "NOTE: using custom hvp\n",
      "Compiling hessian solver ...\n",
      "Hessian solver compile time: 96.9905sec\n",
      "\n",
      "Compiling cross hessian...\n",
      "Cross-hessian compile time: 0.0527782sec\n",
      "\n",
      "LR sensitivity time: 0.0345674sec\n",
      "\n"
     ]
    }
   ],
   "source": [
    "vb_sens = HyperparameterSensitivityLinearApproximation(\n",
    "                    objective_fun = stru_objective.f, \n",
    "                    opt_par_value = vb_init_free, \n",
    "                    hyper_par_value0 = np.array([0.]), \n",
    "                    obj_fun_hvp = stru_objective.hvp, \n",
    "                    # doens't matter for now; we just want the hessian solver\n",
    "                    hyper_par_objective_fun = lambda x, y : 0., \n",
    "                    cg_precond = cg_precond, \n",
    "                    cg_tol = 1e-8,\n",
    "                    cg_maxiter = None)"
   ]
  },
  {
   "cell_type": "code",
   "execution_count": null,
   "metadata": {},
   "outputs": [],
   "source": []
  },
  {
   "cell_type": "markdown",
   "metadata": {},
   "source": [
    "# Influence functions"
   ]
  },
  {
   "cell_type": "code",
   "execution_count": 14,
   "metadata": {},
   "outputs": [],
   "source": [
    "logit_v_grid = np.linspace(-10, 10, 200)"
   ]
  },
  {
   "cell_type": "code",
   "execution_count": 15,
   "metadata": {},
   "outputs": [],
   "source": [
    "def get_influence(g, grad_g = None): \n",
    "    if grad_g is None: \n",
    "        print('computing gradient')\n",
    "        get_grad_g = jax.jacobian(g, argnums = 0)\n",
    "        grad_g = get_grad_g(vb_init_free)\n",
    "\n",
    "    # get influence function\n",
    "    influence_operator = influence_lib.InfluenceOperator(vb_init_free, \n",
    "                               vb_params_paragami, \n",
    "                               vb_sens.hessian_solver,\n",
    "                               prior_params_dict['dp_prior_alpha'], \n",
    "                               stick_key = 'ind_admix_params')\n",
    "    \n",
    "    influence_grid, grad_g_hess_inv = influence_operator.get_influence(logit_v_grid, \n",
    "                                                                       grad_g)\n",
    "\n",
    "    return influence_grid, grad_g_hess_inv"
   ]
  },
  {
   "cell_type": "markdown",
   "metadata": {},
   "source": [
    "### Influence function for expected number of obs per cluster"
   ]
  },
  {
   "cell_type": "code",
   "execution_count": 16,
   "metadata": {},
   "outputs": [],
   "source": [
    "def get_e_num_ind(vb_free, k = 0): \n",
    "    vb_params_dict = vb_params_paragami.fold(vb_free, free = True)\n",
    "    \n",
    "    stick_means = vb_params_dict['ind_admix_params']['stick_means']\n",
    "    stick_infos = vb_params_dict['ind_admix_params']['stick_infos']\n",
    "    \n",
    "    e_ind_admix = cluster_quantities_lib.get_e_cluster_probabilities(stick_means, \n",
    "                                                                     stick_infos, \n",
    "                                                                     gh_loc, \n",
    "                                                                     gh_weights)\n",
    "    \n",
    "    # select a 'k' before summing ... otherwise throws a memory error\n",
    "    # this is probably more efficient\n",
    "    return e_ind_admix[:, k].sum()\n",
    "\n",
    "    # return posterior_quantities_lib.get_e_num_ind_per_cluster(vb_params_dict, gh_loc, gh_weights)[k]\n",
    "\n",
    "# def get_e_num_loci(vb_free, k = 0): \n",
    "#     vb_params_dict = vb_params_paragami.fold(vb_free, free = True)\n",
    "#     return posterior_quantities_lib.get_e_num_loci_per_cluster(g_obs, vb_params_dict, gh_loc, gh_weights)[k]"
   ]
  },
  {
   "cell_type": "code",
   "execution_count": 17,
   "metadata": {},
   "outputs": [
    {
     "name": "stdout",
     "output_type": "stream",
     "text": [
      "computing gradient\n",
      "computing gradient\n",
      "computing gradient\n"
     ]
    }
   ],
   "source": [
    "influence_grid_e_num_ind0, ghess_e_num_ind0 = get_influence(lambda x : get_e_num_ind(x, k = 0))\n",
    "influence_grid_e_num_ind1, ghess_e_num_ind1 = get_influence(lambda x : get_e_num_ind(x, k = 1))\n",
    "influence_grid_e_num_ind2, ghess_e_num_ind2 = get_influence(lambda x : get_e_num_ind(x, k = 2))"
   ]
  },
  {
   "cell_type": "code",
   "execution_count": 18,
   "metadata": {},
   "outputs": [],
   "source": [
    "influence_results = dict(ghess_e_num_ind0 = ghess_e_num_ind0, \n",
    "                         ghess_e_num_ind1 = ghess_e_num_ind1, \n",
    "                         ghess_e_num_ind2 = ghess_e_num_ind2)"
   ]
  },
  {
   "cell_type": "code",
   "execution_count": 19,
   "metadata": {},
   "outputs": [
    {
     "data": {
      "image/png": "[encoded data removed]",
      "text/plain": [
       "<Figure size 864x216 with 3 Axes>"
      ]
     },
     "metadata": {
      "needs_background": "light"
     },
     "output_type": "display_data"
    }
   ],
   "source": [
    "fig, ax = plt.subplots(1, 3, figsize = (12, 3)) \n",
    "ax[0].plot(logit_v_grid, influence_grid_e_num_ind0)\n",
    "ax[1].plot(logit_v_grid, influence_grid_e_num_ind1)\n",
    "ax[2].plot(logit_v_grid, influence_grid_e_num_ind2)\n",
    "fig.tight_layout();\n",
    "\n",
    "for a in ax: \n",
    "    a.set_xlabel('logit-stick')"
   ]
  },
  {
   "cell_type": "code",
   "execution_count": null,
   "metadata": {},
   "outputs": [],
   "source": []
  },
  {
   "cell_type": "code",
   "execution_count": null,
   "metadata": {},
   "outputs": [],
   "source": []
  },
  {
   "cell_type": "markdown",
   "metadata": {},
   "source": [
    "### Influence function on expected deviations in co-clustering"
   ]
  },
  {
   "cell_type": "code",
   "execution_count": 144,
   "metadata": {},
   "outputs": [],
   "source": [
    "def get_coclustering_matr(vb_free): \n",
    "    vb_params_dict = vb_params_paragami.fold(vb_free, free = True)\n",
    "    \n",
    "    # get individual admixtures\n",
    "    stick_means = vb_params_dict['ind_admix_params']['stick_means']\n",
    "    stick_infos = vb_params_dict['ind_admix_params']['stick_infos']\n",
    "    \n",
    "    e_ind_admix = cluster_quantities_lib.get_e_cluster_probabilities(stick_means, \n",
    "                                                                     stick_infos, \n",
    "                                                                     gh_loc, \n",
    "                                                                     gh_weights)\n",
    "    \n",
    "    # return co-clusteirng\n",
    "    return np.dot(e_ind_admix, e_ind_admix.transpose()).flatten()"
   ]
  },
  {
   "cell_type": "code",
   "execution_count": 1,
   "metadata": {},
   "outputs": [
    {
     "ename": "NameError",
     "evalue": "name 'jax' is not defined",
     "output_type": "error",
     "traceback": [
      "\u001b[0;31m---------------------------------------------------------------------------\u001b[0m",
      "\u001b[0;31mNameError\u001b[0m                                 Traceback (most recent call last)",
      "\u001b[0;32m<ipython-input-1-98009423d82a>\u001b[0m in \u001b[0;36m<module>\u001b[0;34m\u001b[0m\n\u001b[0;32m----> 1\u001b[0;31m \u001b[0mgrad_coclustering_matr\u001b[0m \u001b[0;34m=\u001b[0m \u001b[0mjax\u001b[0m\u001b[0;34m.\u001b[0m\u001b[0mjacobian\u001b[0m\u001b[0;34m(\u001b[0m\u001b[0mget_coclustering_matr\u001b[0m\u001b[0;34m)\u001b[0m\u001b[0;34m(\u001b[0m\u001b[0mvb_init_free\u001b[0m\u001b[0;34m)\u001b[0m\u001b[0;34m\u001b[0m\u001b[0;34m\u001b[0m\u001b[0m\n\u001b[0m\u001b[1;32m      2\u001b[0m \u001b[0msigns\u001b[0m \u001b[0;34m=\u001b[0m \u001b[0mnp\u001b[0m\u001b[0;34m.\u001b[0m\u001b[0msign\u001b[0m\u001b[0;34m(\u001b[0m\u001b[0mgrad_coclustering_matr\u001b[0m\u001b[0;34m)\u001b[0m\u001b[0;34m\u001b[0m\u001b[0;34m\u001b[0m\u001b[0m\n\u001b[1;32m      3\u001b[0m \u001b[0;34m\u001b[0m\u001b[0m\n\u001b[1;32m      4\u001b[0m \u001b[0msubgrad_coclust_diffs\u001b[0m \u001b[0;34m=\u001b[0m \u001b[0;34m(\u001b[0m\u001b[0mgrad_coclustering_matr\u001b[0m \u001b[0;34m*\u001b[0m \u001b[0msigns\u001b[0m\u001b[0;34m)\u001b[0m\u001b[0;34m.\u001b[0m\u001b[0msum\u001b[0m\u001b[0;34m(\u001b[0m\u001b[0;36m0\u001b[0m\u001b[0;34m)\u001b[0m\u001b[0;34m\u001b[0m\u001b[0;34m\u001b[0m\u001b[0m\n",
      "\u001b[0;31mNameError\u001b[0m: name 'jax' is not defined"
     ]
    }
   ],
   "source": [
    "grad_coclustering_matr = jax.jacobian(get_coclustering_matr)(vb_init_free)\n",
    "signs = np.sign(grad_coclustering_matr)\n",
    "\n",
    "subgrad_coclust_diffs = (grad_coclustering_matr * signs).sum(0)"
   ]
  },
  {
   "cell_type": "code",
   "execution_count": null,
   "metadata": {},
   "outputs": [],
   "source": [
    "influence_grid_coclust_diffs, ghess_coclust_diffs = get_influence(None, \n",
    "                                                                  subgrad_coclust_diffs)\n",
    "\n",
    "# influence_grid_coclust_diffs, ghess_coclust_diffs = get_influence(lambda x : get_coclustering_matr(x).sum(), \n",
    "#                                                                   subgrad_coclust_diffs)"
   ]
  },
  {
   "cell_type": "code",
   "execution_count": 147,
   "metadata": {},
   "outputs": [
    {
     "data": {
      "text/plain": [
       "[<matplotlib.lines.Line2D at 0x7f75570c5520>]"
      ]
     },
     "execution_count": 147,
     "metadata": {},
     "output_type": "execute_result"
    },
    {
     "data": {
      "image/png": "[encoded data removed]",
      "text/plain": [
       "<Figure size 288x216 with 1 Axes>"
      ]
     },
     "metadata": {
      "needs_background": "light"
     },
     "output_type": "display_data"
    }
   ],
   "source": [
    "fig, ax = plt.subplots(1, 1, figsize = (4, 3)) \n",
    "ax.plot(logit_v_grid, influence_grid_coclust_diffs)"
   ]
  },
  {
   "cell_type": "code",
   "execution_count": null,
   "metadata": {},
   "outputs": [],
   "source": []
  },
  {
   "cell_type": "markdown",
   "metadata": {},
   "source": [
    "# Function to plot a perturbation"
   ]
  },
  {
   "cell_type": "code",
   "execution_count": 148,
   "metadata": {},
   "outputs": [],
   "source": [
    "def plot_perturbation(perturbation, delta): \n",
    "        \n",
    "    # need the bare minimum to make plots\n",
    "    f_obj_all = log_phi_lib.LogPhiPerturbations(vb_params_paragami = vb_params_paragami, \n",
    "                                                 alpha0 = alpha0,\n",
    "                                                 gh_loc = gh_loc, \n",
    "                                                 gh_weights = gh_weights,\n",
    "                                                 logit_v_grid = None, \n",
    "                                                 influence_grid = None, \n",
    "                                                 delta = delta,\n",
    "                                                 stick_key = 'ind_admix_params')\n",
    "\n",
    "    f_obj = getattr(f_obj_all, 'f_obj_' + perturbation)\n",
    "    \n",
    "    # compute the prior perturbations\n",
    "    prior_perturbation = func_sens_lib.PriorPerturbation(\n",
    "                                    alpha0 = alpha0,\n",
    "                                    log_phi = f_obj.log_phi, \n",
    "                                    logit_v_ub = 10, \n",
    "                                    logit_v_lb = -10)\n",
    "    \n",
    "    prior_perturbation.plot_perturbation();\n",
    "    \n",
    "    return prior_perturbation, f_obj"
   ]
  },
  {
   "cell_type": "code",
   "execution_count": null,
   "metadata": {},
   "outputs": [],
   "source": []
  },
  {
   "cell_type": "markdown",
   "metadata": {},
   "source": [
    "# Function to load vb parameters"
   ]
  },
  {
   "cell_type": "code",
   "execution_count": 149,
   "metadata": {},
   "outputs": [],
   "source": [
    "def load_refitted_free_params(perturbation, delta):     \n",
    "        \n",
    "    # get all files for that particular perturbation\n",
    "    match_crit = out_filename + '_' + perturbation + '_delta{}_eps'.format(delta) + '\\d+.npz'\n",
    "    refit_files = [f for f in os.listdir(out_folder) if re.match(match_crit, f)]\n",
    "    \n",
    "    assert len(refit_files) > 0, 'no refit files found'\n",
    "    \n",
    "    # load files\n",
    "    optim_time_vec = [init_fit_meta_data['optim_time']]\n",
    "    epsilon_vec = [0.]\n",
    "    vb_refit_list = [vb_init_free]\n",
    "    delta_vec = []\n",
    "\n",
    "    for i in range(len(refit_files)): \n",
    "\n",
    "        # print('loading fit from: ', refit_files[i])\n",
    "        vb_params_dict, vb_params_paragami, meta_data = \\\n",
    "            paragami.load_folded(out_folder + refit_files[i])\n",
    "        \n",
    "        optim_time_vec.append(meta_data['optim_time'])\n",
    "        epsilon_vec.append(meta_data['epsilon'])\n",
    "        vb_refit_list.append(vb_params_paragami.flatten(vb_params_dict, free = True))\n",
    "        delta_vec.append(meta_data['delta'])\n",
    "    \n",
    "    delta = np.unique(np.array(delta_vec))\n",
    "    # print('perturbation scaling (delta): ', delta)\n",
    "    assert len(delta) == 1\n",
    "    \n",
    "    optim_time_vec = np.array(optim_time_vec)\n",
    "    epsilon_vec = np.array(epsilon_vec)\n",
    "    vb_refit_list = np.array(vb_refit_list)\n",
    "    \n",
    "    # sort the epsilons \n",
    "    _indx = np.argsort(epsilon_vec)\n",
    "    optim_time_vec = optim_time_vec[_indx]\n",
    "    epsilon_vec = epsilon_vec[_indx]\n",
    "    vb_refit_list = vb_refit_list[_indx]\n",
    "    \n",
    "    print('Optim time at epsilon = 1: {:.3f}secs'.format(optim_time_vec[-1]))\n",
    "\n",
    "    return vb_refit_list, epsilon_vec, delta"
   ]
  },
  {
   "cell_type": "code",
   "execution_count": null,
   "metadata": {},
   "outputs": [],
   "source": []
  },
  {
   "cell_type": "code",
   "execution_count": 150,
   "metadata": {},
   "outputs": [],
   "source": [
    "def plot_post_stats(g, vb_list, epsilon_vec, ax, label = '', color = 'red'): \n",
    "    \n",
    "    # plots the posterior quantity as a function of epsilon\n",
    "    \n",
    "    post_vec = onp.zeros(len(epsilon_vec))\n",
    "    \n",
    "    for i in range(len(epsilon_vec)): \n",
    "        post_vec[i] = g(vb_list[i])\n",
    "\n",
    "    # plot\n",
    "    ax.plot(epsilon_vec,\n",
    "            post_vec, \n",
    "            'o-', \n",
    "            color = color,\n",
    "            label = label)\n",
    "    \n",
    "    return post_vec"
   ]
  },
  {
   "cell_type": "code",
   "execution_count": 151,
   "metadata": {},
   "outputs": [],
   "source": [
    "def plot_results_for_refit_and_lr(g, vb_refit_list, lr_list, epsilon_vec, ax): \n",
    "    \n",
    "    post_vec_refit = plot_post_stats(g,\n",
    "                                     vb_refit_list,\n",
    "                                     epsilon_vec, \n",
    "                                     ax,\n",
    "                                     label = 'refit', \n",
    "                                     color = '#1b9e77')\n",
    "    \n",
    "    post_vec_lr = plot_post_stats(g,\n",
    "                                  lr_list,\n",
    "                                  epsilon_vec,\n",
    "                                  ax,\n",
    "                                  label = 'lr', \n",
    "                                  color = '#d95f02')\n",
    "    \n",
    "    return post_vec_refit, post_vec_lr"
   ]
  },
  {
   "cell_type": "markdown",
   "metadata": {},
   "source": [
    "# Plot results"
   ]
  },
  {
   "cell_type": "code",
   "execution_count": 169,
   "metadata": {},
   "outputs": [
    {
     "name": "stderr",
     "output_type": "stream",
     "text": [
      "/accounts/grad/runjing_liu/.conda/envs/bnp_sensitivity_jax/lib/python3.9/site-packages/scipy/integrate/_quadrature.py:259: AccuracyWarning: maxiter (50) exceeded. Latest difference = 7.412626e-07\n",
      "  warnings.warn(\n"
     ]
    },
    {
     "name": "stdout",
     "output_type": "stream",
     "text": [
      "Optim time at epsilon = 1: 5.434secs\n",
      "Compiling cross hessian...\n",
      "Cross-hessian compile time: 0.0529611sec\n",
      "\n",
      "LR sensitivity time: 0.704801sec\n",
      "\n"
     ]
    },
    {
     "data": {
      "image/png": "[encoded data removed]",
      "text/plain": [
       "<Figure size 1008x252 with 4 Axes>"
      ]
     },
     "metadata": {
      "needs_background": "light"
     },
     "output_type": "display_data"
    }
   ],
   "source": [
    "perturbation = 'gauss_pert2'\n",
    "delta = 1\n",
    "\n",
    "prior_perturbation, f_obj = plot_perturbation(perturbation, delta)\n",
    "\n",
    "##############\n",
    "# Load refit results\n",
    "##############\n",
    "vb_refit_list, epsilon_vec, delta = \\\n",
    "    load_refitted_free_params(perturbation, delta)\n",
    "\n",
    "##############\n",
    "# get linear response results\n",
    "##############\n",
    "vb_sens._set_cross_hess_and_solve(f_obj.hyper_par_objective_fun)\n",
    "\n",
    "lr_list = []\n",
    "for epsilon in epsilon_vec: \n",
    "    # get linear response\n",
    "    lr_list.append(vb_init_free + vb_sens.dinput_dhyper * epsilon * delta)\n",
    "lr_list = np.array(lr_list)"
   ]
  },
  {
   "cell_type": "code",
   "execution_count": null,
   "metadata": {},
   "outputs": [],
   "source": []
  },
  {
   "cell_type": "markdown",
   "metadata": {},
   "source": [
    "### Plot results for expected cluster belongings"
   ]
  },
  {
   "cell_type": "code",
   "execution_count": 170,
   "metadata": {},
   "outputs": [
    {
     "data": {
      "text/plain": [
       "<matplotlib.legend.Legend at 0x7f75563e5e20>"
      ]
     },
     "execution_count": 170,
     "metadata": {},
     "output_type": "execute_result"
    },
    {
     "data": {
      "image/png": "[encoded data removed]",
      "text/plain": [
       "<Figure size 864x216 with 3 Axes>"
      ]
     },
     "metadata": {
      "needs_background": "light"
     },
     "output_type": "display_data"
    }
   ],
   "source": [
    "fig, ax = plt.subplots(1, 3, figsize = (12, 3)) \n",
    "\n",
    "for k in range(3): \n",
    "    # plot linear response results\n",
    "    post_vec_refit, post_vec_lr = \\\n",
    "        plot_results_for_refit_and_lr(lambda x : get_e_num_ind(x, k = k), \n",
    "                                      vb_refit_list,\n",
    "                                      lr_list,\n",
    "                                      epsilon_vec = epsilon_vec, \n",
    "                                      ax = ax[k])\n",
    "\n",
    "    ##############\n",
    "    # get linear response with influence operator\n",
    "    ##############\n",
    "    dg_dhyper = np.dot(influence_results['ghess_e_num_ind{}'.format(k)],\n",
    "                       vb_sens.cross_hess.squeeze())\n",
    "    lr2_vec = post_vec_refit[0] + dg_dhyper * epsilon_vec\n",
    "\n",
    "    ax[k].plot(epsilon_vec,\n",
    "                lr2_vec,\n",
    "                'o-', \n",
    "                color = '#7570b3',\n",
    "                label = 'lr-infl')\n",
    "\n",
    "ax[0].legend()\n"
   ]
  },
  {
   "cell_type": "markdown",
   "metadata": {},
   "source": [
    "### Results on deviation from co-clustering"
   ]
  },
  {
   "cell_type": "code",
   "execution_count": 171,
   "metadata": {},
   "outputs": [],
   "source": [
    "def get_coclust_diffs(vb_free): \n",
    "    return np.abs(get_coclustering_matr(vb_free) - \\\n",
    "                  get_coclustering_matr(vb_init_free)).sum()"
   ]
  },
  {
   "cell_type": "code",
   "execution_count": 175,
   "metadata": {},
   "outputs": [
    {
     "data": {
      "text/plain": [
       "<matplotlib.legend.Legend at 0x7f75569a6a60>"
      ]
     },
     "execution_count": 175,
     "metadata": {},
     "output_type": "execute_result"
    },
    {
     "data": {
      "image/png": "[encoded data removed]",
      "text/plain": [
       "<Figure size 432x324 with 1 Axes>"
      ]
     },
     "metadata": {
      "needs_background": "light"
     },
     "output_type": "display_data"
    }
   ],
   "source": [
    "fig, ax = plt.subplots(1, 1, figsize = (6, 4.5)) \n",
    "post_vec_refit, post_vec_lr = \\\n",
    "    plot_results_for_refit_and_lr(get_coclust_diffs, \n",
    "                                  vb_refit_list,\n",
    "                                  lr_list,\n",
    "                                  epsilon_vec = epsilon_vec, \n",
    "                                  ax = ax)\n",
    "\n",
    "##############\n",
    "# get linear response with influence operator\n",
    "##############\n",
    "dg_dhyper = np.dot(ghess_coclust_diffs,\n",
    "                   vb_sens.cross_hess.squeeze())\n",
    "lr2_vec = post_vec_refit[0] + dg_dhyper * epsilon_vec\n",
    "\n",
    "ax.plot(epsilon_vec,\n",
    "            lr2_vec,\n",
    "            'o-', \n",
    "            color = '#7570b3',\n",
    "            label = 'lr-infl')\n",
    "\n",
    "ax.legend()"
   ]
  },
  {
   "cell_type": "code",
   "execution_count": null,
   "metadata": {},
   "outputs": [],
   "source": []
  },
  {
   "cell_type": "code",
   "execution_count": null,
   "metadata": {},
   "outputs": [],
   "source": []
  },
  {
   "cell_type": "code",
   "execution_count": null,
   "metadata": {},
   "outputs": [],
   "source": []
  },
  {
   "cell_type": "code",
   "execution_count": null,
   "metadata": {},
   "outputs": [],
   "source": []
  },
  {
   "cell_type": "code",
   "execution_count": null,
   "metadata": {},
   "outputs": [],
   "source": []
  },
  {
   "cell_type": "code",
   "execution_count": null,
   "metadata": {},
   "outputs": [],
   "source": []
  },
  {
   "cell_type": "code",
   "execution_count": null,
   "metadata": {},
   "outputs": [],
   "source": []
  }
 ],
 "metadata": {
  "kernelspec": {
   "display_name": "bnp_sensitivity_jax",
   "language": "python",
   "name": "bnp_sensitivity_jax"
  },
  "language_info": {
   "codemirror_mode": {
    "name": "ipython",
    "version": 3
   },
   "file_extension": ".py",
   "mimetype": "text/x-python",
   "name": "python",
   "nbconvert_exporter": "python",
   "pygments_lexer": "ipython3",
   "version": "3.9.1"
  }
 },
 "nbformat": 4,
 "nbformat_minor": 4
}
