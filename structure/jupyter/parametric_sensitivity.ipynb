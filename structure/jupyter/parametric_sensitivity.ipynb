{
 "cells": [
  {
   "cell_type": "markdown",
   "metadata": {},
   "source": [
    "Here, we examine parametric sensitivity of the structure model on a small simulated dataset"
   ]
  },
  {
   "cell_type": "code",
   "execution_count": 1,
   "metadata": {},
   "outputs": [
    {
     "name": "stderr",
     "output_type": "stream",
     "text": [
      "/accounts/grad/runjing_liu/.conda/envs/bnp_sensitivity_jax/lib/python3.8/site-packages/jax/lib/xla_bridge.py:130: UserWarning: No GPU/TPU found, falling back to CPU.\n",
      "  warnings.warn('No GPU/TPU found, falling back to CPU.')\n"
     ]
    }
   ],
   "source": [
    "import jax\n",
    "import jax.numpy as np\n",
    "\n",
    "from numpy.polynomial.hermite import hermgauss\n",
    "\n",
    "from vb_lib import structure_model_lib, data_utils, cavi_lib, plotting_utils\n",
    "import vb_lib.structure_optimization_lib as s_optim_lib\n",
    "\n",
    "from vb_lib.preconditioner_lib import get_mfvb_cov_matmul\n",
    "from bnpmodeling_runjingdev.sensitivity_lib import HyperparameterSensitivityLinearApproximation\n",
    "\n",
    "import paragami\n",
    "\n",
    "from copy import deepcopy\n",
    "\n",
    "import time\n",
    "\n",
    "import matplotlib.pyplot as plt\n",
    "%matplotlib inline  "
   ]
  },
  {
   "cell_type": "code",
   "execution_count": 2,
   "metadata": {},
   "outputs": [],
   "source": [
    "import numpy as onp\n",
    "onp.random.seed(53453)"
   ]
  },
  {
   "cell_type": "markdown",
   "metadata": {},
   "source": [
    "# Draw data"
   ]
  },
  {
   "cell_type": "code",
   "execution_count": 3,
   "metadata": {},
   "outputs": [],
   "source": [
    "n_obs = 20\n",
    "n_loci = 50\n",
    "n_pop = 3\n",
    "g_obs, true_pop_allele_freq, true_ind_admix_propn = \\\n",
    "    data_utils.draw_data(n_obs, n_loci, n_pop)"
   ]
  },
  {
   "cell_type": "code",
   "execution_count": 4,
   "metadata": {},
   "outputs": [
    {
     "data": {
      "image/png": "[encoded data removed]",
      "text/plain": [
       "<Figure size 432x288 with 1 Axes>"
      ]
     },
     "metadata": {},
     "output_type": "display_data"
    }
   ],
   "source": [
    "# truth \n",
    "fig, axarr = plt.subplots(1, 1)\n",
    "plotting_utils.plot_admixture(true_ind_admix_propn, axarr);"
   ]
  },
  {
   "cell_type": "code",
   "execution_count": 5,
   "metadata": {
    "scrolled": true
   },
   "outputs": [
    {
     "data": {
      "text/plain": [
       "(20, 50, 3)"
      ]
     },
     "execution_count": 5,
     "metadata": {},
     "output_type": "execute_result"
    }
   ],
   "source": [
    "g_obs.shape"
   ]
  },
  {
   "cell_type": "markdown",
   "metadata": {},
   "source": [
    "# Get prior"
   ]
  },
  {
   "cell_type": "code",
   "execution_count": 6,
   "metadata": {},
   "outputs": [
    {
     "name": "stdout",
     "output_type": "stream",
     "text": [
      "{'dp_prior_alpha': DeviceArray([3.], dtype=float64), 'allele_prior_alpha': DeviceArray([1.], dtype=float64), 'allele_prior_beta': DeviceArray([1.], dtype=float64)}\n"
     ]
    }
   ],
   "source": [
    "prior_params_dict, prior_params_paragami = \\\n",
    "    structure_model_lib.get_default_prior_params()\n",
    "\n",
    "print(prior_params_dict)\n",
    "\n",
    "prior_params_free = prior_params_paragami.flatten(prior_params_dict, free = True)"
   ]
  },
  {
   "cell_type": "code",
   "execution_count": null,
   "metadata": {},
   "outputs": [],
   "source": []
  },
  {
   "cell_type": "markdown",
   "metadata": {},
   "source": [
    "# Get VB params "
   ]
  },
  {
   "cell_type": "code",
   "execution_count": 7,
   "metadata": {},
   "outputs": [],
   "source": [
    "k_approx = 10"
   ]
  },
  {
   "cell_type": "code",
   "execution_count": 8,
   "metadata": {},
   "outputs": [],
   "source": [
    "gh_deg = 8\n",
    "gh_loc, gh_weights = hermgauss(8)"
   ]
  },
  {
   "cell_type": "code",
   "execution_count": 9,
   "metadata": {
    "scrolled": true
   },
   "outputs": [
    {
     "name": "stdout",
     "output_type": "stream",
     "text": [
      "OrderedDict:\n",
      "\t[pop_freq_beta_params] = NumericArrayPattern (50, 10, 2) (lb=0.0, ub=inf)\n",
      "\t[ind_admix_params] = OrderedDict:\n",
      "\t[stick_means] = NumericArrayPattern (20, 9) (lb=-inf, ub=inf)\n",
      "\t[stick_infos] = NumericArrayPattern (20, 9) (lb=0.0, ub=inf)\n"
     ]
    }
   ],
   "source": [
    "_, vb_params_paragami = \\\n",
    "    structure_model_lib.get_vb_params_paragami_object(n_obs, n_loci, k_approx,\n",
    "                                                      use_logitnormal_sticks = True)\n",
    "    \n",
    "print(vb_params_paragami)"
   ]
  },
  {
   "cell_type": "markdown",
   "metadata": {},
   "source": [
    "## Initialize with CAVI"
   ]
  },
  {
   "cell_type": "code",
   "execution_count": 10,
   "metadata": {},
   "outputs": [
    {
     "name": "stdout",
     "output_type": "stream",
     "text": [
      "Compiling cavi functions ...\n",
      "CAVI compile time: 5.81sec\n",
      "\n",
      " running CAVI ...\n",
      "iteration [20]; kl:1677.872067; elapsed: 0.1759secs\n",
      "iteration [40]; kl:1670.252011; elapsed: 0.1444secs\n",
      "iteration [60]; kl:1669.97143; elapsed: 0.0607secs\n",
      "iteration [80]; kl:1669.948415; elapsed: 0.059secs\n",
      "CAVI done.\n",
      "final KL: 1669.945824\n",
      "Elapsed: 98 steps in 0.49 seconds\n",
      "Stick conversion time: 1.788secs\n"
     ]
    }
   ],
   "source": [
    "vb_params_dict, cavi_init_time = \\\n",
    "    s_optim_lib.initialize_with_cavi(g_obs, \n",
    "                                     vb_params_paragami, \n",
    "                                     prior_params_dict, \n",
    "                                     gh_loc, gh_weights, \n",
    "                                     max_iter = 200,\n",
    "                                     print_every = 20, \n",
    "                                     seed = 14352)"
   ]
  },
  {
   "cell_type": "code",
   "execution_count": null,
   "metadata": {},
   "outputs": [],
   "source": []
  },
  {
   "cell_type": "markdown",
   "metadata": {},
   "source": [
    "# Optimize"
   ]
  },
  {
   "cell_type": "code",
   "execution_count": 11,
   "metadata": {},
   "outputs": [
    {
     "name": "stdout",
     "output_type": "stream",
     "text": [
      "compiling preconditioned objective ... \n",
      "done. Elasped: 29.6127\n",
      "init kl: 1673.195335\n",
      "iteration [15]; kl:1673.073626; elapsed: 0.326secs\n",
      "lbfgs converged successfully\n",
      "done. Elapsed 0.967\n"
     ]
    }
   ],
   "source": [
    "vb_opt_dict, vb_opt, out, precond_objective, lbfgs_time = \\\n",
    "    s_optim_lib.run_preconditioned_lbfgs(g_obs, \n",
    "                        vb_params_dict, \n",
    "                        vb_params_paragami,\n",
    "                        prior_params_dict,\n",
    "                        gh_loc, gh_weights)"
   ]
  },
  {
   "cell_type": "code",
   "execution_count": null,
   "metadata": {},
   "outputs": [],
   "source": []
  },
  {
   "cell_type": "markdown",
   "metadata": {},
   "source": [
    "# Check out the fit"
   ]
  },
  {
   "cell_type": "code",
   "execution_count": 12,
   "metadata": {},
   "outputs": [
    {
     "data": {
      "image/png": "[encoded data removed]",
      "text/plain": [
       "<Figure size 432x288 with 1 Axes>"
      ]
     },
     "metadata": {},
     "output_type": "display_data"
    }
   ],
   "source": [
    "# truth \n",
    "fig, axarr = plt.subplots(1, 1)\n",
    "plotting_utils.plot_admixture(true_ind_admix_propn, axarr);"
   ]
  },
  {
   "cell_type": "code",
   "execution_count": 13,
   "metadata": {},
   "outputs": [
    {
     "data": {
      "text/plain": [
       "Text(0.5, 0, 'individual')"
      ]
     },
     "execution_count": 13,
     "metadata": {},
     "output_type": "execute_result"
    },
    {
     "data": {
      "image/png": "[encoded data removed]",
      "text/plain": [
       "<Figure size 432x288 with 1 Axes>"
      ]
     },
     "metadata": {},
     "output_type": "display_data"
    }
   ],
   "source": [
    "# estimated \n",
    "e_ind_admix = plotting_utils.get_vb_expectations(vb_opt_dict, gh_loc, gh_weights)[0]\n",
    "\n",
    "fig, axarr = plt.subplots(1, 1)\n",
    "plotting_utils.plot_top_clusters(e_ind_admix, axarr, n_top_clusters = 4);\n",
    "\n",
    "plt.ylabel('population')\n",
    "plt.xlabel('individual')"
   ]
  },
  {
   "cell_type": "code",
   "execution_count": null,
   "metadata": {},
   "outputs": [],
   "source": []
  },
  {
   "cell_type": "code",
   "execution_count": null,
   "metadata": {},
   "outputs": [],
   "source": []
  },
  {
   "cell_type": "markdown",
   "metadata": {},
   "source": [
    "# Define sensitivity object"
   ]
  },
  {
   "cell_type": "code",
   "execution_count": 14,
   "metadata": {},
   "outputs": [],
   "source": [
    "# initial prior alpha\n",
    "use_free_alpha = False\n",
    "prior_alpha0 = prior_params_paragami['dp_prior_alpha'].flatten(prior_params_dict['dp_prior_alpha'], \n",
    "                                                              free = use_free_alpha)"
   ]
  },
  {
   "cell_type": "code",
   "execution_count": 15,
   "metadata": {},
   "outputs": [],
   "source": [
    "# set up objective as function of vb params and prior param \n",
    "\n",
    "_hyper_par_objective_fun = lambda vb_params, prior_params : \\\n",
    "    structure_model_lib.alpha_objective_fun(vb_params, \n",
    "                                            prior_params, \n",
    "                                            gh_loc, \n",
    "                                            gh_weights)\n",
    "    \n",
    "hyper_par_objective_fun = paragami.FlattenFunctionInput(\n",
    "                                original_fun=_hyper_par_objective_fun, \n",
    "                                patterns = [vb_params_paragami, prior_params_paragami['dp_prior_alpha']],\n",
    "                                free = [True, use_free_alpha],\n",
    "                                argnums = [0, 1])"
   ]
  },
  {
   "cell_type": "code",
   "execution_count": null,
   "metadata": {},
   "outputs": [],
   "source": []
  },
  {
   "cell_type": "markdown",
   "metadata": {},
   "source": [
    "### Set up hessian solver"
   ]
  },
  {
   "cell_type": "code",
   "execution_count": 16,
   "metadata": {},
   "outputs": [],
   "source": [
    "# define preconditioner\n",
    "cg_precond = lambda v : get_mfvb_cov_matmul(v, vb_opt_dict,\n",
    "                                            vb_params_paragami,\n",
    "                                            return_info = True)"
   ]
  },
  {
   "cell_type": "code",
   "execution_count": 17,
   "metadata": {},
   "outputs": [
    {
     "name": "stdout",
     "output_type": "stream",
     "text": [
      "NOTE: using custom hvp\n",
      "Compiling hessian solver ...\n",
      "Hessian solver compile time: 97.0669sec\n",
      "\n",
      "Compiling cross hessian...\n",
      "Cross-hessian compile time: 1.06161sec\n",
      "\n",
      "LR sensitivity time: 0.0955093sec\n",
      "\n"
     ]
    }
   ],
   "source": [
    "alpha0 = prior_params_dict['dp_prior_alpha']\n",
    "alpha_free = prior_params_paragami['dp_prior_alpha'].flatten(alpha0, \n",
    "                                                              free = use_free_alpha)\n",
    "\n",
    "vb_sens = HyperparameterSensitivityLinearApproximation(\n",
    "                    # since we use our custom HVP, \n",
    "                    # objective_fun doesn't matter\n",
    "                    objective_fun = lambda x, y : 0.,\n",
    "                    opt_par_value = vb_opt, \n",
    "                    hyper_par_value0 = alpha_free, \n",
    "                    obj_fun_hvp = precond_objective.hvp, \n",
    "                    hyper_par_objective_fun = hyper_par_objective_fun, \n",
    "                    cg_precond = cg_precond)"
   ]
  },
  {
   "cell_type": "code",
   "execution_count": null,
   "metadata": {},
   "outputs": [],
   "source": []
  },
  {
   "cell_type": "markdown",
   "metadata": {},
   "source": [
    "# Perturb alpha. Check results"
   ]
  },
  {
   "cell_type": "code",
   "execution_count": 18,
   "metadata": {},
   "outputs": [],
   "source": [
    "# set new alpha \n",
    "new_alpha = prior_params_dict['dp_prior_alpha'] + 0.1 # np.array([5.])\n",
    "\n",
    "prior_params_pert_dict = deepcopy(prior_params_dict)\n",
    "prior_params_pert_dict['dp_prior_alpha'] = new_alpha\n"
   ]
  },
  {
   "cell_type": "code",
   "execution_count": 19,
   "metadata": {},
   "outputs": [
    {
     "name": "stdout",
     "output_type": "stream",
     "text": [
      "initial alpha,  [3.]\n",
      "perturbed alpha,  [3.1]\n"
     ]
    }
   ],
   "source": [
    "print('initial alpha, ', prior_params_dict['dp_prior_alpha'])\n",
    "print('perturbed alpha, ', prior_params_pert_dict['dp_prior_alpha'])\n"
   ]
  },
  {
   "cell_type": "code",
   "execution_count": 20,
   "metadata": {},
   "outputs": [
    {
     "name": "stdout",
     "output_type": "stream",
     "text": [
      "l_inf diff:  0.05042690595130983\n"
     ]
    }
   ],
   "source": [
    "# linear response prediction \n",
    "lr_vb_free_params = \\\n",
    "    vb_sens.predict_opt_par_from_hyper_par(\n",
    "        prior_params_paragami['dp_prior_alpha'].flatten(prior_params_pert_dict['dp_prior_alpha'], \n",
    "                                                        free = use_free_alpha))\n",
    "\n",
    "print('l_inf diff: ', np.max(np.abs(lr_vb_free_params - vb_opt)))\n"
   ]
  },
  {
   "cell_type": "code",
   "execution_count": 21,
   "metadata": {},
   "outputs": [
    {
     "data": {
      "text/plain": [
       "DeviceArray(1.18442297, dtype=float64)"
      ]
     },
     "execution_count": 21,
     "metadata": {},
     "output_type": "execute_result"
    }
   ],
   "source": [
    "(lr_vb_free_params**2).mean()"
   ]
  },
  {
   "cell_type": "code",
   "execution_count": null,
   "metadata": {},
   "outputs": [],
   "source": []
  },
  {
   "cell_type": "code",
   "execution_count": null,
   "metadata": {},
   "outputs": [],
   "source": []
  },
  {
   "cell_type": "markdown",
   "metadata": {},
   "source": [
    "### reoptimize"
   ]
  },
  {
   "cell_type": "code",
   "execution_count": 22,
   "metadata": {},
   "outputs": [],
   "source": [
    "new_init_dict = deepcopy(vb_opt_dict)"
   ]
  },
  {
   "cell_type": "code",
   "execution_count": 23,
   "metadata": {},
   "outputs": [
    {
     "name": "stdout",
     "output_type": "stream",
     "text": [
      "compiling preconditioned objective ... \n",
      "done. Elasped: 23.1375\n",
      "init kl: 1683.964242\n",
      "iteration [14]; kl:1683.830341; elapsed: 0.302secs\n",
      "lbfgs converged successfully\n",
      "done. Elapsed 0.8709\n"
     ]
    }
   ],
   "source": [
    "vb_pert_dict, vb_opt_pert = \\\n",
    "    s_optim_lib.run_preconditioned_lbfgs(g_obs, \n",
    "                        new_init_dict, \n",
    "                        vb_params_paragami,\n",
    "                        prior_params_pert_dict,\n",
    "                        gh_loc, gh_weights)[0:2]"
   ]
  },
  {
   "cell_type": "code",
   "execution_count": null,
   "metadata": {},
   "outputs": [],
   "source": []
  },
  {
   "cell_type": "markdown",
   "metadata": {},
   "source": [
    "### compare"
   ]
  },
  {
   "cell_type": "code",
   "execution_count": 24,
   "metadata": {},
   "outputs": [],
   "source": [
    "def print_diff_plot(lr_vb_free_params, vb_opt_pert, vb_opt): \n",
    "    plt.plot(lr_vb_free_params - vb_opt, \n",
    "             vb_opt_pert - vb_opt, \n",
    "             '+', color = 'red')\n",
    "\n",
    "    plt.plot(lr_vb_free_params - vb_opt, \n",
    "            lr_vb_free_params - vb_opt, \n",
    "             '-', color = 'blue')\n",
    "\n",
    "    plt.xlabel('lr')\n",
    "    plt.ylabel('re-optimized')\n"
   ]
  },
  {
   "cell_type": "code",
   "execution_count": 25,
   "metadata": {},
   "outputs": [
    {
     "data": {
      "image/png": "[encoded data removed]",
      "text/plain": [
       "<Figure size 432x288 with 1 Axes>"
      ]
     },
     "metadata": {
      "needs_background": "light"
     },
     "output_type": "display_data"
    }
   ],
   "source": [
    "# compare free parameters\n",
    "print_diff_plot(lr_vb_free_params, vb_opt_pert, vb_opt)"
   ]
  },
  {
   "cell_type": "code",
   "execution_count": 26,
   "metadata": {},
   "outputs": [],
   "source": [
    "key = jax.random.PRNGKey(1)\n",
    "\n",
    "def get_e_num_pred_clusters(vb_params_dict): \n",
    "    \n",
    "    stick_means = vb_params_dict['ind_admix_params']['stick_means']\n",
    "    stick_infos = vb_params_dict['ind_admix_params']['stick_infos']\n",
    "    \n",
    "    return structure_model_lib.get_e_num_pred_clusters(stick_means, \n",
    "                                                       stick_infos, \n",
    "                                                       gh_loc,\n",
    "                                                       gh_weights, \n",
    "                                                       key = key,\n",
    "                                                       n_samples = 100)"
   ]
  },
  {
   "cell_type": "code",
   "execution_count": 27,
   "metadata": {
    "scrolled": true
   },
   "outputs": [
    {
     "name": "stdout",
     "output_type": "stream",
     "text": [
      "init number of cluster:  2.923074568423803\n",
      "pert number of cluster:  2.9634509084840794\n",
      "lr number of cluster:  2.963986051281206\n"
     ]
    }
   ],
   "source": [
    "print('init number of cluster: ', get_e_num_pred_clusters(vb_opt_dict))\n",
    "print('pert number of cluster: ', get_e_num_pred_clusters(vb_pert_dict))\n",
    "print('lr number of cluster: ', get_e_num_pred_clusters(vb_params_paragami.fold(lr_vb_free_params, \n",
    "                                                                                free = True)))"
   ]
  },
  {
   "cell_type": "code",
   "execution_count": null,
   "metadata": {},
   "outputs": [],
   "source": []
  },
  {
   "cell_type": "code",
   "execution_count": null,
   "metadata": {},
   "outputs": [],
   "source": []
  },
  {
   "cell_type": "markdown",
   "metadata": {},
   "source": [
    "# Fit for a range of alpha"
   ]
  },
  {
   "cell_type": "code",
   "execution_count": 28,
   "metadata": {},
   "outputs": [],
   "source": [
    "alpha_list = np.arange(1, 8)"
   ]
  },
  {
   "cell_type": "code",
   "execution_count": 29,
   "metadata": {},
   "outputs": [],
   "source": [
    "def refit_with_alpha(alpha, new_init_dict):\n",
    "    # sets new alpha, returns new vb optimum\n",
    "    \n",
    "    # set new prior\n",
    "    new_alpha = np.array([alpha])\n",
    "\n",
    "    prior_params_pert_dict = deepcopy(prior_params_dict)\n",
    "    prior_params_pert_dict['dp_prior_alpha'] = new_alpha\n",
    "    \n",
    "    # set new objective \n",
    "    vb_opt_pert = \\\n",
    "        s_optim_lib.run_preconditioned_lbfgs(g_obs, \n",
    "                        new_init_dict, \n",
    "                        vb_params_paragami,\n",
    "                        prior_params_pert_dict,\n",
    "                        gh_loc, gh_weights)[1]\n",
    "        \n",
    "    return vb_opt_pert\n"
   ]
  },
  {
   "cell_type": "code",
   "execution_count": 30,
   "metadata": {},
   "outputs": [
    {
     "name": "stdout",
     "output_type": "stream",
     "text": [
      "alphas:  [1 2 3 4 5 6 7]\n"
     ]
    }
   ],
   "source": [
    "print('alphas: ', alpha_list)"
   ]
  },
  {
   "cell_type": "code",
   "execution_count": 31,
   "metadata": {},
   "outputs": [
    {
     "name": "stdout",
     "output_type": "stream",
     "text": [
      "\n",
      " re-optimzing with alpha =  1\n",
      "compiling preconditioned objective ... \n",
      "done. Elasped: 22.8365\n",
      "init kl: 1455.261314\n",
      "iteration [20]; kl:1364.438803; elapsed: 0.388secs\n",
      "iteration [40]; kl:1364.426810; elapsed: 0.402secs\n",
      "iteration [41]; kl:1364.426809; elapsed: 0.057secs\n",
      "lbfgs converged successfully\n",
      "done. Elapsed 1.4388\n",
      "\n",
      " re-optimzing with alpha =  2\n",
      "compiling preconditioned objective ... \n",
      "done. Elasped: 22.9106\n",
      "init kl: 1564.167470\n",
      "iteration [20]; kl:1547.578184; elapsed: 0.384secs\n",
      "iteration [23]; kl:1547.578172; elapsed: 0.093secs\n",
      "lbfgs converged successfully\n",
      "done. Elapsed 1.0569\n",
      "\n",
      " re-optimzing with alpha =  3\n",
      "compiling preconditioned objective ... \n",
      "done. Elasped: 22.6447\n",
      "init kl: 1673.073626\n",
      "iteration [1]; kl:1673.073626; elapsed: 0.058secs\n",
      "lbfgs converged successfully\n",
      "done. Elapsed 0.6409\n",
      "\n",
      " re-optimzing with alpha =  4\n",
      "compiling preconditioned objective ... \n",
      "done. Elasped: 22.9517\n",
      "init kl: 1781.979782\n",
      "iteration [20]; kl:1770.176402; elapsed: 0.390secs\n",
      "iteration [21]; kl:1770.176401; elapsed: 0.057secs\n",
      "lbfgs converged successfully\n",
      "done. Elapsed 1.0296\n",
      "\n",
      " re-optimzing with alpha =  5\n",
      "compiling preconditioned objective ... \n",
      "done. Elasped: 22.5894\n",
      "init kl: 1890.885938\n",
      "iteration [20]; kl:1848.470591; elapsed: 0.398secs\n",
      "iteration [21]; kl:1848.470587; elapsed: 0.058secs\n",
      "lbfgs converged successfully\n",
      "done. Elapsed 1.0337\n",
      "\n",
      " re-optimzing with alpha =  6\n",
      "compiling preconditioned objective ... \n",
      "done. Elasped: 22.9203\n",
      "init kl: 1999.792095\n",
      "iteration [20]; kl:1905.245769; elapsed: 0.379secs\n",
      "iteration [40]; kl:1896.578459; elapsed: 0.398secs\n",
      "iteration [60]; kl:1895.001061; elapsed: 0.379secs\n",
      "iteration [68]; kl:1895.000794; elapsed: 0.190secs\n",
      "lbfgs converged successfully\n",
      "done. Elapsed 1.9308\n",
      "\n",
      " re-optimzing with alpha =  7\n",
      "compiling preconditioned objective ... \n",
      "done. Elasped: 22.69\n",
      "init kl: 2108.698251\n",
      "iteration [20]; kl:1935.759150; elapsed: 0.433secs\n",
      "iteration [40]; kl:1927.667302; elapsed: 0.375secs\n",
      "iteration [51]; kl:1927.664603; elapsed: 0.251secs\n",
      "lbfgs converged successfully\n",
      "done. Elapsed 1.6448\n"
     ]
    }
   ],
   "source": [
    "vb_pert_list = []\n",
    "for alpha in alpha_list: \n",
    "    print('\\n re-optimzing with alpha = ', alpha)\n",
    "    \n",
    "    vb_pert_list.append(refit_with_alpha(alpha, new_init_dict))\n"
   ]
  },
  {
   "cell_type": "markdown",
   "metadata": {},
   "source": [
    "# Check free parameters"
   ]
  },
  {
   "cell_type": "code",
   "execution_count": 32,
   "metadata": {},
   "outputs": [],
   "source": [
    "lr_list = []\n",
    "\n",
    "for alpha in alpha_list: \n",
    "    \n",
    "    # set alpha \n",
    "    new_alpha = np.array([alpha])\n",
    "    prior_params_pert_dict = deepcopy(prior_params_dict)\n",
    "    prior_params_pert_dict['dp_prior_alpha'] = new_alpha\n",
    "    \n",
    "    # get linear response\n",
    "    lr_list.append(vb_sens.predict_opt_par_from_hyper_par(\n",
    "        prior_params_paragami['dp_prior_alpha'].flatten(prior_params_pert_dict['dp_prior_alpha'], \n",
    "                                                        free = use_free_alpha)))\n"
   ]
  },
  {
   "cell_type": "code",
   "execution_count": 33,
   "metadata": {},
   "outputs": [
    {
     "data": {
      "image/png": "[encoded data removed]",
      "text/plain": [
       "<Figure size 432x288 with 1 Axes>"
      ]
     },
     "metadata": {
      "needs_background": "light"
     },
     "output_type": "display_data"
    },
    {
     "data": {
      "image/png": "[encoded data removed]",
      "text/plain": [
       "<Figure size 432x288 with 1 Axes>"
      ]
     },
     "metadata": {
      "needs_background": "light"
     },
     "output_type": "display_data"
    },
    {
     "data": {
      "image/png": "[encoded data removed]",
      "text/plain": [
       "<Figure size 432x288 with 1 Axes>"
      ]
     },
     "metadata": {
      "needs_background": "light"
     },
     "output_type": "display_data"
    },
    {
     "data": {
      "image/png": "[encoded data removed]",
      "text/plain": [
       "<Figure size 432x288 with 1 Axes>"
      ]
     },
     "metadata": {
      "needs_background": "light"
     },
     "output_type": "display_data"
    },
    {
     "data": {
      "image/png": "[encoded data removed]",
      "text/plain": [
       "<Figure size 432x288 with 1 Axes>"
      ]
     },
     "metadata": {
      "needs_background": "light"
     },
     "output_type": "display_data"
    },
    {
     "data": {
      "image/png": "[encoded data removed]",
      "text/plain": [
       "<Figure size 432x288 with 1 Axes>"
      ]
     },
     "metadata": {
      "needs_background": "light"
     },
     "output_type": "display_data"
    },
    {
     "data": {
      "image/png": "[encoded data removed]",
      "text/plain": [
       "<Figure size 432x288 with 1 Axes>"
      ]
     },
     "metadata": {
      "needs_background": "light"
     },
     "output_type": "display_data"
    }
   ],
   "source": [
    "for i in range(len(alpha_list)): \n",
    "    plt.figure()\n",
    "    print_diff_plot(lr_list[i], vb_pert_list[i], vb_opt)\n",
    "    \n",
    "    plt.title('alpha = {}'.format(alpha_list[i]))\n"
   ]
  },
  {
   "cell_type": "markdown",
   "metadata": {},
   "source": [
    "# Number of clusters"
   ]
  },
  {
   "cell_type": "code",
   "execution_count": 34,
   "metadata": {},
   "outputs": [],
   "source": [
    "import numpy as onp"
   ]
  },
  {
   "cell_type": "code",
   "execution_count": 35,
   "metadata": {},
   "outputs": [],
   "source": [
    "lr_e_num_clusters_vec = onp.zeros(len(alpha_list))\n",
    "refit_e_num_clusters_vec = onp.zeros(len(alpha_list))\n",
    "\n",
    "for i in range(len(alpha_list)): \n",
    "    \n",
    "    # get dictionaries\n",
    "    pert_dict = vb_params_paragami.fold(vb_pert_list[i], free = True)\n",
    "    lr_dict = vb_params_paragami.fold(lr_list[i], free = True)\n",
    "        \n",
    "    # get number of clusters\n",
    "    refit_e_num_clusters_vec[i] = get_e_num_pred_clusters(pert_dict)\n",
    "    lr_e_num_clusters_vec[i] = get_e_num_pred_clusters(lr_dict)\n"
   ]
  },
  {
   "cell_type": "code",
   "execution_count": 36,
   "metadata": {},
   "outputs": [
    {
     "data": {
      "text/plain": [
       "<matplotlib.lines.Line2D at 0x7f7a08336160>"
      ]
     },
     "execution_count": 36,
     "metadata": {},
     "output_type": "execute_result"
    },
    {
     "data": {
      "image/png": "[encoded data removed]",
      "text/plain": [
       "<Figure size 432x288 with 1 Axes>"
      ]
     },
     "metadata": {
      "needs_background": "light"
     },
     "output_type": "display_data"
    }
   ],
   "source": [
    "plt.plot(alpha_list, lr_e_num_clusters_vec, '+--')\n",
    "plt.plot(alpha_list, refit_e_num_clusters_vec, '+-')\n",
    "\n",
    "plt.xlabel('alpha')\n",
    "plt.ylabel('num posterior clusters')\n",
    "plt.legend(('lr', 'refit'))\n",
    "\n",
    "plt.axvline(prior_params_dict['dp_prior_alpha'], color = 'red', linestyle = 'dashed')"
   ]
  },
  {
   "cell_type": "code",
   "execution_count": 37,
   "metadata": {},
   "outputs": [
    {
     "data": {
      "text/plain": [
       "array([2.21753315, 2.54521506, 2.92307567, 3.34749943, 3.81723276,\n",
       "       4.88001585, 5.00584393])"
      ]
     },
     "execution_count": 37,
     "metadata": {},
     "output_type": "execute_result"
    }
   ],
   "source": [
    "refit_e_num_clusters_vec"
   ]
  },
  {
   "cell_type": "code",
   "execution_count": null,
   "metadata": {},
   "outputs": [],
   "source": []
  },
  {
   "cell_type": "code",
   "execution_count": 38,
   "metadata": {},
   "outputs": [],
   "source": [
    "def alpha_obj_fun(vb_params_free, epsilon): \n",
    "    \n",
    "    # fold free parameters\n",
    "    vb_params_dict = vb_params_paragami.fold(vb_params_free, \n",
    "                                                free = True)\n",
    "    \n",
    "    alpha = prior_params_paragami['dp_prior_alpha'].fold(alpha_free + epsilon, \n",
    "                                                         free = True)\n",
    "    \n",
    "    # return objective\n",
    "    return structure_model_lib.alpha_objective_fun(vb_params_dict, \n",
    "                                                    alpha, \n",
    "                                                    gh_loc, \n",
    "                                                    gh_weights)\n"
   ]
  },
  {
   "cell_type": "code",
   "execution_count": 39,
   "metadata": {},
   "outputs": [],
   "source": [
    "foo = alpha_free + np.array([0.])"
   ]
  },
  {
   "cell_type": "code",
   "execution_count": 40,
   "metadata": {},
   "outputs": [
    {
     "data": {
      "text/plain": [
       "DeviceArray([20.08553692], dtype=float64)"
      ]
     },
     "execution_count": 40,
     "metadata": {},
     "output_type": "execute_result"
    }
   ],
   "source": [
    "prior_params_paragami['dp_prior_alpha'].fold(foo, free = True)"
   ]
  },
  {
   "cell_type": "code",
   "execution_count": 41,
   "metadata": {},
   "outputs": [
    {
     "data": {
      "text/plain": [
       "DeviceArray([ 2.76676995,  2.52654983,  2.02222042, ..., -0.31027937,\n",
       "             -0.36603684, -0.406241  ], dtype=float64)"
      ]
     },
     "execution_count": 41,
     "metadata": {},
     "output_type": "execute_result"
    }
   ],
   "source": [
    "vb_opt"
   ]
  },
  {
   "cell_type": "code",
   "execution_count": 42,
   "metadata": {},
   "outputs": [
    {
     "data": {
      "text/plain": [
       "DeviceArray([2078.53246607], dtype=float64)"
      ]
     },
     "execution_count": 42,
     "metadata": {},
     "output_type": "execute_result"
    }
   ],
   "source": [
    "alpha_obj_fun(vb_opt, epsilon = 0.)"
   ]
  },
  {
   "cell_type": "code",
   "execution_count": null,
   "metadata": {},
   "outputs": [],
   "source": []
  }
 ],
 "metadata": {
  "kernelspec": {
   "display_name": "bnp_sensitivity_jax",
   "language": "python",
   "name": "bnp_sensitivity_jax"
  },
  "language_info": {
   "codemirror_mode": {
    "name": "ipython",
    "version": 3
   },
   "file_extension": ".py",
   "mimetype": "text/x-python",
   "name": "python",
   "nbconvert_exporter": "python",
   "pygments_lexer": "ipython3",
   "version": "3.8.0"
  }
 },
 "nbformat": 4,
 "nbformat_minor": 4
}
