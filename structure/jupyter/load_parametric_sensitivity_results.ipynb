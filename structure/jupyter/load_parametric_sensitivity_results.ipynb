{
 "cells": [
  {
   "cell_type": "code",
   "execution_count": 1,
   "metadata": {},
   "outputs": [
    {
     "name": "stderr",
     "output_type": "stream",
     "text": [
      "/accounts/grad/runjing_liu/.conda/envs/bnp_sensitivity_jax/lib/python3.8/site-packages/jax/lib/xla_bridge.py:130: UserWarning: No GPU/TPU found, falling back to CPU.\n",
      "  warnings.warn('No GPU/TPU found, falling back to CPU.')\n"
     ]
    }
   ],
   "source": [
    "import jax\n",
    "\n",
    "import jax.numpy as np\n",
    "import jax.scipy as sp\n",
    "\n",
    "import numpy as onp\n",
    "\n",
    "import paragami \n",
    "\n",
    "from vb_lib import structure_model_lib, data_utils, plotting_utils\n",
    "\n",
    "import time\n",
    "\n",
    "import matplotlib.pyplot as plt\n",
    "%matplotlib inline  \n"
   ]
  },
  {
   "cell_type": "code",
   "execution_count": null,
   "metadata": {},
   "outputs": [],
   "source": []
  },
  {
   "cell_type": "markdown",
   "metadata": {},
   "source": [
    "# Files"
   ]
  },
  {
   "cell_type": "code",
   "execution_count": 2,
   "metadata": {},
   "outputs": [],
   "source": [
    "# data_file = '../data/phased_HGDP+India+Africa_2810SNPs-regions1to36.npz'\n",
    "# out_filename = 'huang2011_fit'\n",
    "# out_folder = '../fits/hgdp_fits/'\n",
    "\n",
    "data_file = '../simulated_data/simulated_structure_data_nobs20_nloci50_npop4.npz' # file with the data\n",
    "out_filename = 'simulated_fit' # name of fit\n",
    "out_folder = '../fits/tmp/' # folder where fits are located"
   ]
  },
  {
   "cell_type": "markdown",
   "metadata": {},
   "source": [
    "# Load data"
   ]
  },
  {
   "cell_type": "code",
   "execution_count": 3,
   "metadata": {},
   "outputs": [],
   "source": [
    "data = np.load(data_file)\n",
    "g_obs = np.array(data['g_obs'], dtype = int)"
   ]
  },
  {
   "cell_type": "code",
   "execution_count": 4,
   "metadata": {},
   "outputs": [],
   "source": [
    "n_obs = g_obs.shape[0]\n",
    "n_loci = g_obs.shape[1]"
   ]
  },
  {
   "cell_type": "code",
   "execution_count": 5,
   "metadata": {},
   "outputs": [
    {
     "name": "stdout",
     "output_type": "stream",
     "text": [
      "20\n",
      "50\n"
     ]
    }
   ],
   "source": [
    "print(n_obs)\n",
    "print(n_loci)"
   ]
  },
  {
   "cell_type": "markdown",
   "metadata": {},
   "source": [
    "# Load fits"
   ]
  },
  {
   "cell_type": "code",
   "execution_count": 6,
   "metadata": {},
   "outputs": [],
   "source": [
    "import os\n",
    "import re"
   ]
  },
  {
   "cell_type": "code",
   "execution_count": 7,
   "metadata": {},
   "outputs": [],
   "source": [
    "filenames = out_filename + '_alpha\\d.'"
   ]
  },
  {
   "cell_type": "code",
   "execution_count": 8,
   "metadata": {},
   "outputs": [],
   "source": [
    "files = [f for f in os.listdir(out_folder) if (re.match(filenames, f) and not f.endswith('lrderivatives.npz'))]"
   ]
  },
  {
   "cell_type": "code",
   "execution_count": 9,
   "metadata": {},
   "outputs": [
    {
     "data": {
      "text/plain": [
       "['simulated_fit_alpha1.5.npz',\n",
       " 'simulated_fit_alpha8.0.npz',\n",
       " 'simulated_fit_alpha4.0.npz',\n",
       " 'simulated_fit_alpha9.0.npz',\n",
       " 'simulated_fit_alpha5.0.npz',\n",
       " 'simulated_fit_alpha10.5.npz',\n",
       " 'simulated_fit_alpha3.5.npz',\n",
       " 'simulated_fit_alpha6.0.npz',\n",
       " 'simulated_fit_alpha2.5.npz',\n",
       " 'simulated_fit_alpha7.0.npz',\n",
       " 'simulated_fit_alpha10.0.npz',\n",
       " 'simulated_fit_alpha5.5.npz',\n",
       " 'simulated_fit_alpha9.5.npz',\n",
       " 'simulated_fit_alpha4.5.npz',\n",
       " 'simulated_fit_alpha11.0.npz',\n",
       " 'simulated_fit_alpha8.5.npz',\n",
       " 'simulated_fit_alpha1.0.npz',\n",
       " 'simulated_fit_alpha7.5.npz',\n",
       " 'simulated_fit_alpha2.0.npz',\n",
       " 'simulated_fit_alpha6.5.npz',\n",
       " 'simulated_fit_alpha3.0.npz']"
      ]
     },
     "execution_count": 9,
     "metadata": {},
     "output_type": "execute_result"
    }
   ],
   "source": [
    "files"
   ]
  },
  {
   "cell_type": "code",
   "execution_count": null,
   "metadata": {},
   "outputs": [],
   "source": []
  },
  {
   "cell_type": "markdown",
   "metadata": {},
   "source": [
    "### load first fit to get metadata"
   ]
  },
  {
   "cell_type": "code",
   "execution_count": 10,
   "metadata": {},
   "outputs": [],
   "source": [
    "_, vb_params_paragami, \\\n",
    "    prior_params_dict, prior_params_paragami, \\\n",
    "        gh_loc, gh_weights, meta_data = \\\n",
    "            structure_model_lib.load_structure_fit(out_folder + files[0])"
   ]
  },
  {
   "cell_type": "code",
   "execution_count": null,
   "metadata": {},
   "outputs": [],
   "source": []
  },
  {
   "cell_type": "markdown",
   "metadata": {},
   "source": [
    "### load all fits"
   ]
  },
  {
   "cell_type": "code",
   "execution_count": 11,
   "metadata": {},
   "outputs": [],
   "source": [
    "get_kl = jax.jit(lambda vb_params_dict, prior_params_dict : \n",
    "                     structure_model_lib.get_kl(g_obs, \n",
    "                                                vb_params_dict,\n",
    "                                                prior_params_dict, \n",
    "                                                gh_loc, gh_weights))"
   ]
  },
  {
   "cell_type": "code",
   "execution_count": 12,
   "metadata": {},
   "outputs": [
    {
     "name": "stdout",
     "output_type": "stream",
     "text": [
      "loading fit from:  simulated_fit_alpha1.5.npz\n",
      "loading fit from:  simulated_fit_alpha8.0.npz\n",
      "loading fit from:  simulated_fit_alpha4.0.npz\n",
      "loading fit from:  simulated_fit_alpha9.0.npz\n",
      "loading fit from:  simulated_fit_alpha5.0.npz\n",
      "loading fit from:  simulated_fit_alpha10.5.npz\n",
      "loading fit from:  simulated_fit_alpha3.5.npz\n",
      "loading fit from:  simulated_fit_alpha6.0.npz\n",
      "loading fit from:  simulated_fit_alpha2.5.npz\n",
      "loading fit from:  simulated_fit_alpha7.0.npz\n",
      "loading fit from:  simulated_fit_alpha10.0.npz\n",
      "loading fit from:  simulated_fit_alpha5.5.npz\n",
      "loading fit from:  simulated_fit_alpha9.5.npz\n",
      "loading fit from:  simulated_fit_alpha4.5.npz\n",
      "loading fit from:  simulated_fit_alpha11.0.npz\n",
      "loading fit from:  simulated_fit_alpha8.5.npz\n",
      "loading fit from:  simulated_fit_alpha1.0.npz\n",
      "loading fit from:  simulated_fit_alpha7.5.npz\n",
      "loading fit from:  simulated_fit_alpha2.0.npz\n",
      "loading fit from:  simulated_fit_alpha6.5.npz\n",
      "loading fit from:  simulated_fit_alpha3.0.npz\n"
     ]
    }
   ],
   "source": [
    "vb_refit_list = []\n",
    "alpha_vec = onp.zeros(len(files))\n",
    "refit_times = []\n",
    "\n",
    "for i in range(len(files)): \n",
    "    \n",
    "    print('loading fit from: ', files[i])\n",
    "    \n",
    "    # load fit\n",
    "    vb_params_dict, vb_params_paragami, meta_data = \\\n",
    "        paragami.load_folded(out_folder + files[i])\n",
    "    \n",
    "    # check KL\n",
    "    prior_params_dict['dp_prior_alpha'] = np.array(meta_data['dp_prior_alpha'])\n",
    "    \n",
    "    kl = get_kl(vb_params_dict, prior_params_dict)\n",
    "    \n",
    "    assert np.abs(kl - meta_data['final_kl']) < 1e-8\n",
    "    \n",
    "    # save alpha and fitted parametrs\n",
    "    alpha_vec[i] = meta_data['dp_prior_alpha']\n",
    "    vb_refit_list.append(vb_params_paragami.flatten(vb_params_dict, free = True))\n",
    "    \n",
    "    # save refit timing \n",
    "    refit_times.append(meta_data['optim_time'])\n",
    "    \n",
    "alpha_vec = np.array(alpha_vec)\n",
    "vb_refit_list = np.array(vb_refit_list)\n",
    "refit_times = np.array(refit_times)"
   ]
  },
  {
   "cell_type": "code",
   "execution_count": 13,
   "metadata": {},
   "outputs": [],
   "source": [
    "# for convencience, sort the alphas \n",
    "_indx = np.argsort(alpha_vec)\n",
    "alpha_vec = alpha_vec[_indx]\n",
    "vb_refit_list = vb_refit_list[_indx]\n",
    "refit_times = refit_times[_indx]"
   ]
  },
  {
   "cell_type": "code",
   "execution_count": 14,
   "metadata": {},
   "outputs": [
    {
     "data": {
      "text/plain": [
       "DeviceArray([ 1. ,  1.5,  2. ,  2.5,  3. ,  3.5,  4. ,  4.5,  5. ,  5.5,\n",
       "              6. ,  6.5,  7. ,  7.5,  8. ,  8.5,  9. ,  9.5, 10. , 10.5,\n",
       "             11. ], dtype=float64)"
      ]
     },
     "execution_count": 14,
     "metadata": {},
     "output_type": "execute_result"
    }
   ],
   "source": [
    "alpha_vec"
   ]
  },
  {
   "cell_type": "code",
   "execution_count": 15,
   "metadata": {
    "scrolled": true
   },
   "outputs": [
    {
     "data": {
      "text/plain": [
       "DeviceArray(True, dtype=bool)"
      ]
     },
     "execution_count": 15,
     "metadata": {},
     "output_type": "execute_result"
    }
   ],
   "source": [
    "# no gaps \n",
    "np.all(np.diff(alpha_vec) == 0.5)"
   ]
  },
  {
   "cell_type": "code",
   "execution_count": null,
   "metadata": {},
   "outputs": [],
   "source": []
  },
  {
   "cell_type": "markdown",
   "metadata": {},
   "source": [
    "# Expected number of clusters"
   ]
  },
  {
   "cell_type": "code",
   "execution_count": 16,
   "metadata": {},
   "outputs": [],
   "source": [
    "seed = 2342\n",
    "key = jax.random.PRNGKey(seed)\n",
    "\n",
    "@jax.jit\n",
    "def get_e_num_clusters(vb_params_dict): \n",
    "    # TODO this is super slow ...\n",
    "    return 0.\n",
    "#     return structure_model_lib.get_e_num_clusters(g_obs, vb_params_dict, gh_loc, gh_weights, \n",
    "#                                                    n_samples = 1000,\n",
    "#                                                    threshold = n_obs * n_loci * 0.001,\n",
    "#                                                    seed = seed)\n",
    "\n",
    "@jax.jit\n",
    "def get_e_num_pred_clusters(vb_params_dict): \n",
    "    \n",
    "    stick_means = vb_params_dict['ind_admix_params']['stick_means']\n",
    "    stick_infos = vb_params_dict['ind_admix_params']['stick_infos']\n",
    "    \n",
    "    return structure_model_lib.get_e_num_pred_clusters(stick_means, stick_infos, gh_loc, gh_weights, \n",
    "                                                            key = key, n_samples = 100)"
   ]
  },
  {
   "cell_type": "code",
   "execution_count": 17,
   "metadata": {},
   "outputs": [],
   "source": [
    "def get_num_clusters_vec(vb_free_params_list, cluster_fun): \n",
    "    # vb_free_params_list contains an array of \n",
    "    # vb free parameters, where each row contains \n",
    "    # parameters from a different refit (or lr prediction)\n",
    "    \n",
    "    # cluster fun takes input a vb parameter dictionary \n",
    "    # and returns the posterior expectation of interest\n",
    "    \n",
    "    n_refit = len(vb_free_params_list)\n",
    "    n_clusters_vec = onp.zeros(n_refit)\n",
    "    \n",
    "    for i in range(n_refit): \n",
    "        # print(i)\n",
    "        # fold \n",
    "        vb_dict = vb_params_paragami.fold(vb_free_params_list[i], \n",
    "                                          free = True)\n",
    "\n",
    "        # get number of clusters\n",
    "        n_clusters_vec[i] = cluster_fun(vb_dict)\n",
    "    \n",
    "    return n_clusters_vec"
   ]
  },
  {
   "cell_type": "code",
   "execution_count": 18,
   "metadata": {},
   "outputs": [],
   "source": [
    "refit_n_clusters_vec = get_num_clusters_vec(vb_refit_list, get_e_num_clusters)\n",
    "refit_n_pred_clusters_vec = get_num_clusters_vec(vb_refit_list, get_e_num_pred_clusters)"
   ]
  },
  {
   "cell_type": "code",
   "execution_count": 19,
   "metadata": {},
   "outputs": [
    {
     "data": {
      "text/plain": [
       "Text(0, 0.5, 'num posterior pred clusters')"
      ]
     },
     "execution_count": 19,
     "metadata": {},
     "output_type": "execute_result"
    },
    {
     "data": {
      "image/png": "[encoded data removed]",
      "text/plain": [
       "<Figure size 720x288 with 2 Axes>"
      ]
     },
     "metadata": {
      "needs_background": "light"
     },
     "output_type": "display_data"
    }
   ],
   "source": [
    "fig, axarr = plt.subplots(1, 2, figsize = (10, 4))\n",
    "\n",
    "# plot in-sample results\n",
    "axarr[0].plot(alpha_vec, refit_n_clusters_vec, '+-')\n",
    "\n",
    "axarr[0].set_xlabel('alpha')\n",
    "axarr[0].set_ylabel('num posterior clusters')\n",
    "\n",
    "# plot posterior-predictive results\n",
    "axarr[1].plot(alpha_vec, refit_n_pred_clusters_vec, '+-')\n",
    "\n",
    "axarr[1].set_xlabel('alpha')\n",
    "axarr[1].set_ylabel('num posterior pred clusters')"
   ]
  },
  {
   "cell_type": "code",
   "execution_count": null,
   "metadata": {},
   "outputs": [],
   "source": []
  },
  {
   "cell_type": "markdown",
   "metadata": {},
   "source": [
    "# Define the initial fit"
   ]
  },
  {
   "cell_type": "code",
   "execution_count": 37,
   "metadata": {},
   "outputs": [],
   "source": [
    "alpha0 = 3.\n",
    "\n",
    "which_fit = (alpha_vec == alpha0)\n",
    "\n",
    "vb_opt = vb_refit_list[which_fit].squeeze()\n",
    "vb_opt_dict = vb_params_paragami.fold(vb_opt,\n",
    "                                      free = True)\n",
    "prior_params_dict['dp_prior_alpha'] = alpha0"
   ]
  },
  {
   "cell_type": "markdown",
   "metadata": {},
   "source": [
    "### Plot initial fit"
   ]
  },
  {
   "cell_type": "code",
   "execution_count": 38,
   "metadata": {},
   "outputs": [
    {
     "data": {
      "text/plain": [
       "Text(0.5, 0, 'Individuals')"
      ]
     },
     "execution_count": 38,
     "metadata": {},
     "output_type": "execute_result"
    },
    {
     "data": {
      "image/png": "[encoded data removed]",
      "text/plain": [
       "<Figure size 648x288 with 1 Axes>"
      ]
     },
     "metadata": {},
     "output_type": "display_data"
    }
   ],
   "source": [
    "e_ind_admix = plotting_utils.get_vb_expectations(vb_params_dict, gh_loc, gh_weights)[0]\n",
    "# re-order individuals for better plotting\n",
    "indx = data_utils.cluster_admix_get_indx(e_ind_admix)\n",
    "\n",
    "f, axarr = plt.subplots(1, 1, figsize=(9, 4))\n",
    "e_ind_admix = plotting_utils.plot_top_clusters(e_ind_admix[indx], axarr, \n",
    "                                               n_top_clusters = 3)\n",
    "\n",
    "axarr.set_ylabel('Mixture proportions', fontsize = 20)\n",
    "axarr.set_xlabel('Individuals', fontsize = 20)"
   ]
  },
  {
   "cell_type": "markdown",
   "metadata": {},
   "source": [
    "### Define linear response for initial fit"
   ]
  },
  {
   "cell_type": "code",
   "execution_count": 39,
   "metadata": {},
   "outputs": [
    {
     "name": "stdout",
     "output_type": "stream",
     "text": [
      "lr file:  ../fits/tmp/simulated_fit_alpha3.0_lrderivatives.npz\n",
      "derivative time: 0.138secs\n"
     ]
    }
   ],
   "source": [
    "lr_file = [f for f in os.listdir(out_folder) \\\n",
    "           if (re.match(filenames, f) and f.endswith(str(alpha0) + '_lrderivatives.npz'))][0]\n",
    "\n",
    "print('lr file: ', out_folder + lr_file)\n",
    "\n",
    "lr_data = np.load(out_folder + lr_file)\n",
    "assert lr_data['alpha0'] == alpha0\n",
    "assert np.abs(lr_data['vb_opt'] - vb_opt).max() < 1e-12\n",
    "\n",
    "print('derivative time: {:.3f}secs'.format(lr_data['lr_time_alpha']))"
   ]
  },
  {
   "cell_type": "code",
   "execution_count": null,
   "metadata": {},
   "outputs": [],
   "source": []
  },
  {
   "cell_type": "code",
   "execution_count": 40,
   "metadata": {},
   "outputs": [],
   "source": [
    "alpha0_free = prior_params_paragami['dp_prior_alpha'].\\\n",
    "                flatten(prior_params_dict['dp_prior_alpha'], free = True)\n",
    "\n",
    "def predict_opt_par_from_hyper_par(alpha_pert): \n",
    "    alpha_pert_free = prior_params_paragami['dp_prior_alpha'].\\\n",
    "                flatten(alpha_pert, free = True)\n",
    "    \n",
    "    delta = alpha_pert_free - alpha0_free\n",
    "        \n",
    "    return vb_opt + lr_data['dinput_dalpha'] * delta"
   ]
  },
  {
   "cell_type": "code",
   "execution_count": 41,
   "metadata": {},
   "outputs": [
    {
     "name": "stdout",
     "output_type": "stream",
     "text": [
      "lr time: 0.074615secs\n"
     ]
    }
   ],
   "source": [
    "t0 = time.time()\n",
    "lr_free_params_list = []\n",
    "for i in range(len(alpha_vec)): \n",
    "\n",
    "    lr_free_params_list.append(predict_opt_par_from_hyper_par(alpha_vec[i]))\n",
    "\n",
    "# computing the vb parameters are fast!\n",
    "print('lr time: {:03f}secs'.format(time.time() - t0))"
   ]
  },
  {
   "cell_type": "markdown",
   "metadata": {},
   "source": [
    "### Get linear reponse predictions"
   ]
  },
  {
   "cell_type": "code",
   "execution_count": 42,
   "metadata": {},
   "outputs": [],
   "source": [
    "lr_n_clusters_vec = get_num_clusters_vec(lr_free_params_list, get_e_num_clusters)\n",
    "lr_n_pred_clusters_vec = get_num_clusters_vec(lr_free_params_list, get_e_num_pred_clusters)\n",
    "\n",
    "# at alpha zero, the lr should match exactly the refit \n",
    "indx = np.where(alpha_vec == alpha0)\n",
    "assert lr_n_clusters_vec[indx] == \\\n",
    "        lr_n_clusters_vec[indx]\n",
    "\n",
    "assert lr_n_pred_clusters_vec[indx] == \\\n",
    "        refit_n_pred_clusters_vec[indx]"
   ]
  },
  {
   "cell_type": "code",
   "execution_count": null,
   "metadata": {},
   "outputs": [],
   "source": []
  },
  {
   "cell_type": "markdown",
   "metadata": {},
   "source": [
    "# compare against refit results"
   ]
  },
  {
   "cell_type": "code",
   "execution_count": 43,
   "metadata": {},
   "outputs": [
    {
     "data": {
      "text/plain": [
       "<matplotlib.lines.Line2D at 0x7fd97bf54f70>"
      ]
     },
     "execution_count": 43,
     "metadata": {},
     "output_type": "execute_result"
    },
    {
     "data": {
      "image/png": "[encoded data removed]",
      "text/plain": [
       "<Figure size 720x288 with 2 Axes>"
      ]
     },
     "metadata": {
      "needs_background": "light"
     },
     "output_type": "display_data"
    }
   ],
   "source": [
    "fig, axarr = plt.subplots(1, 2, figsize = (10, 4))\n",
    "\n",
    "# plot in-sample results\n",
    "axarr[0].plot(alpha_vec, lr_n_clusters_vec, '+--')\n",
    "axarr[0].plot(alpha_vec, refit_n_clusters_vec, '+-')\n",
    "\n",
    "axarr[0].set_xlabel('alpha')\n",
    "axarr[0].set_ylabel('num posterior clusters')\n",
    "axarr[0].legend(('lr', 'refit'))\n",
    "\n",
    "# plot posterior-predictive results\n",
    "axarr[1].plot(alpha_vec, lr_n_pred_clusters_vec, '+--')\n",
    "axarr[1].plot(alpha_vec, refit_n_pred_clusters_vec, '+-')\n",
    "\n",
    "axarr[1].set_xlabel('alpha')\n",
    "axarr[1].set_ylabel('num posterior pred clusters')\n",
    "\n",
    "plt.axvline(alpha0, color = 'red', linestyle = 'dashed')"
   ]
  },
  {
   "cell_type": "code",
   "execution_count": null,
   "metadata": {},
   "outputs": [],
   "source": []
  },
  {
   "cell_type": "code",
   "execution_count": null,
   "metadata": {},
   "outputs": [],
   "source": []
  },
  {
   "cell_type": "markdown",
   "metadata": {},
   "source": [
    "# Print refit times"
   ]
  },
  {
   "cell_type": "code",
   "execution_count": 44,
   "metadata": {},
   "outputs": [
    {
     "name": "stdout",
     "output_type": "stream",
     "text": [
      "derivative time: 0.138secs\n"
     ]
    }
   ],
   "source": [
    "# recal LR time\n",
    "print('derivative time: {:.3f}secs'.format(lr_data['lr_time_alpha']))"
   ]
  },
  {
   "cell_type": "code",
   "execution_count": 45,
   "metadata": {},
   "outputs": [],
   "source": [
    "import pandas as pd"
   ]
  },
  {
   "cell_type": "code",
   "execution_count": 46,
   "metadata": {},
   "outputs": [
    {
     "data": {
      "text/html": [
       "<div>\n",
       "<style scoped>\n",
       "    .dataframe tbody tr th:only-of-type {\n",
       "        vertical-align: middle;\n",
       "    }\n",
       "\n",
       "    .dataframe tbody tr th {\n",
       "        vertical-align: top;\n",
       "    }\n",
       "\n",
       "    .dataframe thead th {\n",
       "        text-align: right;\n",
       "    }\n",
       "</style>\n",
       "<table border=\"1\" class=\"dataframe\">\n",
       "  <thead>\n",
       "    <tr style=\"text-align: right;\">\n",
       "      <th></th>\n",
       "      <th>refit times (sec)</th>\n",
       "      <th>alpha</th>\n",
       "    </tr>\n",
       "  </thead>\n",
       "  <tbody>\n",
       "    <tr>\n",
       "      <th>1.0</th>\n",
       "      <td>7.225737</td>\n",
       "      <td>1.0</td>\n",
       "    </tr>\n",
       "    <tr>\n",
       "      <th>1.5</th>\n",
       "      <td>6.783316</td>\n",
       "      <td>1.5</td>\n",
       "    </tr>\n",
       "    <tr>\n",
       "      <th>2.0</th>\n",
       "      <td>6.806950</td>\n",
       "      <td>2.0</td>\n",
       "    </tr>\n",
       "    <tr>\n",
       "      <th>2.5</th>\n",
       "      <td>6.486637</td>\n",
       "      <td>2.5</td>\n",
       "    </tr>\n",
       "    <tr>\n",
       "      <th>3.0</th>\n",
       "      <td>5.236905</td>\n",
       "      <td>3.0</td>\n",
       "    </tr>\n",
       "    <tr>\n",
       "      <th>3.5</th>\n",
       "      <td>4.829775</td>\n",
       "      <td>3.5</td>\n",
       "    </tr>\n",
       "    <tr>\n",
       "      <th>4.0</th>\n",
       "      <td>5.986432</td>\n",
       "      <td>4.0</td>\n",
       "    </tr>\n",
       "    <tr>\n",
       "      <th>4.5</th>\n",
       "      <td>5.876862</td>\n",
       "      <td>4.5</td>\n",
       "    </tr>\n",
       "    <tr>\n",
       "      <th>5.0</th>\n",
       "      <td>5.787759</td>\n",
       "      <td>5.0</td>\n",
       "    </tr>\n",
       "    <tr>\n",
       "      <th>5.5</th>\n",
       "      <td>5.170860</td>\n",
       "      <td>5.5</td>\n",
       "    </tr>\n",
       "    <tr>\n",
       "      <th>6.0</th>\n",
       "      <td>5.531020</td>\n",
       "      <td>6.0</td>\n",
       "    </tr>\n",
       "    <tr>\n",
       "      <th>6.5</th>\n",
       "      <td>5.270689</td>\n",
       "      <td>6.5</td>\n",
       "    </tr>\n",
       "    <tr>\n",
       "      <th>7.0</th>\n",
       "      <td>5.647121</td>\n",
       "      <td>7.0</td>\n",
       "    </tr>\n",
       "    <tr>\n",
       "      <th>7.5</th>\n",
       "      <td>5.948357</td>\n",
       "      <td>7.5</td>\n",
       "    </tr>\n",
       "    <tr>\n",
       "      <th>8.0</th>\n",
       "      <td>5.985698</td>\n",
       "      <td>8.0</td>\n",
       "    </tr>\n",
       "    <tr>\n",
       "      <th>8.5</th>\n",
       "      <td>6.324262</td>\n",
       "      <td>8.5</td>\n",
       "    </tr>\n",
       "    <tr>\n",
       "      <th>9.0</th>\n",
       "      <td>6.330148</td>\n",
       "      <td>9.0</td>\n",
       "    </tr>\n",
       "    <tr>\n",
       "      <th>9.5</th>\n",
       "      <td>6.193369</td>\n",
       "      <td>9.5</td>\n",
       "    </tr>\n",
       "    <tr>\n",
       "      <th>10.0</th>\n",
       "      <td>6.392193</td>\n",
       "      <td>10.0</td>\n",
       "    </tr>\n",
       "    <tr>\n",
       "      <th>10.5</th>\n",
       "      <td>6.499598</td>\n",
       "      <td>10.5</td>\n",
       "    </tr>\n",
       "    <tr>\n",
       "      <th>11.0</th>\n",
       "      <td>6.850537</td>\n",
       "      <td>11.0</td>\n",
       "    </tr>\n",
       "  </tbody>\n",
       "</table>\n",
       "</div>"
      ],
      "text/plain": [
       "      refit times (sec)  alpha\n",
       "1.0            7.225737    1.0\n",
       "1.5            6.783316    1.5\n",
       "2.0            6.806950    2.0\n",
       "2.5            6.486637    2.5\n",
       "3.0            5.236905    3.0\n",
       "3.5            4.829775    3.5\n",
       "4.0            5.986432    4.0\n",
       "4.5            5.876862    4.5\n",
       "5.0            5.787759    5.0\n",
       "5.5            5.170860    5.5\n",
       "6.0            5.531020    6.0\n",
       "6.5            5.270689    6.5\n",
       "7.0            5.647121    7.0\n",
       "7.5            5.948357    7.5\n",
       "8.0            5.985698    8.0\n",
       "8.5            6.324262    8.5\n",
       "9.0            6.330148    9.0\n",
       "9.5            6.193369    9.5\n",
       "10.0           6.392193   10.0\n",
       "10.5           6.499598   10.5\n",
       "11.0           6.850537   11.0"
      ]
     },
     "execution_count": 46,
     "metadata": {},
     "output_type": "execute_result"
    }
   ],
   "source": [
    "pd.DataFrame(data = {'refit times (sec)': refit_times, \n",
    "                     'alpha': alpha_vec}, \n",
    "            index = alpha_vec).sort_values('alpha')"
   ]
  },
  {
   "cell_type": "code",
   "execution_count": null,
   "metadata": {},
   "outputs": [],
   "source": []
  },
  {
   "cell_type": "code",
   "execution_count": null,
   "metadata": {},
   "outputs": [],
   "source": []
  }
 ],
 "metadata": {
  "kernelspec": {
   "display_name": "bnp_sensitivity_jax",
   "language": "python",
   "name": "bnp_sensitivity_jax"
  },
  "language_info": {
   "codemirror_mode": {
    "name": "ipython",
    "version": 3
   },
   "file_extension": ".py",
   "mimetype": "text/x-python",
   "name": "python",
   "nbconvert_exporter": "python",
   "pygments_lexer": "ipython3",
   "version": "3.8.0"
  }
 },
 "nbformat": 4,
 "nbformat_minor": 4
}
