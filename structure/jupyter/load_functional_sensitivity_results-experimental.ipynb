{
 "cells": [
  {
   "cell_type": "code",
   "execution_count": 5,
   "metadata": {},
   "outputs": [],
   "source": [
    "import jax\n",
    "\n",
    "import jax.numpy as np\n",
    "import jax.scipy as sp\n",
    "\n",
    "import numpy as onp\n",
    "import os\n",
    "import paragami\n",
    "\n",
    "import matplotlib.pyplot as plt\n",
    "%matplotlib inline\n",
    "\n",
    "from bnpmodeling_runjingdev import log_phi_lib, cluster_quantities_lib\n",
    "import bnpmodeling_runjingdev.functional_sensitivity_lib as func_sens_lib\n",
    "import bnpmodeling_runjingdev.exponential_families as ef\n",
    "\n",
    "from structure_vb_lib import structure_model_lib, plotting_utils\n",
    "from structure_vb_lib import structure_optimization_lib as s_optim_lib\n",
    "from structure_vb_lib.data_utils import cluster_admix_get_indx\n",
    "\n",
    "import re\n"
   ]
  },
  {
   "cell_type": "code",
   "execution_count": 2,
   "metadata": {},
   "outputs": [],
   "source": [
    "import numpy as onp \n",
    "onp.random.seed(53453)"
   ]
  },
  {
   "cell_type": "code",
   "execution_count": null,
   "metadata": {},
   "outputs": [],
   "source": []
  },
  {
   "cell_type": "markdown",
   "metadata": {},
   "source": [
    "# File paths"
   ]
  },
  {
   "cell_type": "code",
   "execution_count": 7,
   "metadata": {},
   "outputs": [],
   "source": [
    "# scratch_dir = '/scratch/users/genomic_times_series_bnp/structure/' # scratch directory\n",
    "# out_folder = scratch_dir + 'hgdp_fits/' # folder where fits are found\n",
    "\n",
    "# out_filename = 'huang2011_fit' # name of fit\n",
    "\n",
    "data_file='../data/phased_HGDP+India+Africa_2810SNPs-regions1to36.bed'\n",
    "out_filename='huang2011_fit'\n",
    "out_folder='../fits/hgdp_fits/'"
   ]
  },
  {
   "cell_type": "code",
   "execution_count": 9,
   "metadata": {},
   "outputs": [
    {
     "name": "stdout",
     "output_type": "stream",
     "text": [
      "../fits/hgdp_fits/huang2011_fit_alpha6.0.npz\n",
      "../fits/hgdp_fits/huang2011_fit_alpha6.0_lrderivatives.npz\n"
     ]
    },
    {
     "ename": "AssertionError",
     "evalue": "",
     "output_type": "error",
     "traceback": [
      "\u001b[0;31m---------------------------------------------------------------------------\u001b[0m",
      "\u001b[0;31mAssertionError\u001b[0m                            Traceback (most recent call last)",
      "\u001b[0;32m<ipython-input-9-c9b7239e95a8>\u001b[0m in \u001b[0;36m<module>\u001b[0;34m\u001b[0m\n\u001b[1;32m      9\u001b[0m \u001b[0;34m\u001b[0m\u001b[0m\n\u001b[1;32m     10\u001b[0m \u001b[0;31m# check paths exist\u001b[0m\u001b[0;34m\u001b[0m\u001b[0;34m\u001b[0m\u001b[0;34m\u001b[0m\u001b[0m\n\u001b[0;32m---> 11\u001b[0;31m \u001b[0;32massert\u001b[0m \u001b[0mos\u001b[0m\u001b[0;34m.\u001b[0m\u001b[0mpath\u001b[0m\u001b[0;34m.\u001b[0m\u001b[0misfile\u001b[0m\u001b[0;34m(\u001b[0m\u001b[0minit_fit_file\u001b[0m\u001b[0;34m)\u001b[0m\u001b[0;34m\u001b[0m\u001b[0;34m\u001b[0m\u001b[0m\n\u001b[0m\u001b[1;32m     12\u001b[0m \u001b[0;32massert\u001b[0m \u001b[0mos\u001b[0m\u001b[0;34m.\u001b[0m\u001b[0mpath\u001b[0m\u001b[0;34m.\u001b[0m\u001b[0misfile\u001b[0m\u001b[0;34m(\u001b[0m\u001b[0mlr_file\u001b[0m\u001b[0;34m)\u001b[0m\u001b[0;34m\u001b[0m\u001b[0;34m\u001b[0m\u001b[0m\n",
      "\u001b[0;31mAssertionError\u001b[0m: "
     ]
    }
   ],
   "source": [
    "# initial fit and linear response derivatives\n",
    "alpha0 = 6.0\n",
    "\n",
    "init_fit_file = out_folder + out_filename + '_alpha' + str(alpha0) + '.npz'\n",
    "lr_file = out_folder + out_filename + '_alpha' + str(alpha0) + '_lrderivatives.npz'\n",
    "\n",
    "print(init_fit_file)\n",
    "print(lr_file)\n",
    "\n",
    "# check paths exist\n",
    "assert os.path.isfile(init_fit_file)\n",
    "assert os.path.isfile(lr_file)"
   ]
  },
  {
   "cell_type": "code",
   "execution_count": null,
   "metadata": {},
   "outputs": [],
   "source": []
  },
  {
   "cell_type": "markdown",
   "metadata": {},
   "source": [
    "# Load initial fit and meta data"
   ]
  },
  {
   "cell_type": "code",
   "execution_count": null,
   "metadata": {},
   "outputs": [],
   "source": [
    "print('initial fit file: ', init_fit_file)\n",
    "\n",
    "vb_opt_dict, vb_params_paragami, \\\n",
    "        prior_params_dict, prior_params_paragami, \\\n",
    "            gh_loc, gh_weights, init_fit_meta_data = \\\n",
    "                structure_model_lib.load_structure_fit(init_fit_file)\n",
    "\n",
    "alpha0 = prior_params_dict['dp_prior_alpha']\n",
    "\n",
    "# the initial free parameters\n",
    "vb_opt = vb_params_paragami.flatten(vb_opt_dict, free = True)\n",
    "\n",
    "print('Init optim time: {:.3f}secs'.format(init_fit_meta_data['optim_time']))"
   ]
  },
  {
   "cell_type": "markdown",
   "metadata": {},
   "source": [
    "`vb_opt_dict` contains the parameters at the initial ($\\epsilon = 0)$ fit. \n",
    "\n",
    "The parameter dictionary contains two keys: \n",
    "- `pop_freq_beta_params`: a (`n_loci` x `k_approx` x 2) array of Beta parameters that describe the approximate posterior on population allele frequencies. (these are the \"cluster centroids\").\n",
    "- `ind_admix_params`: contain the logit-normal parameters on the stick-breaking proportions. This is yet another dictionary with two keys, `stick_means` and `stick_infos`. Each are (`n_obs` x `k_approx - 1`). "
   ]
  },
  {
   "cell_type": "code",
   "execution_count": null,
   "metadata": {},
   "outputs": [],
   "source": [
    "print(vb_params_paragami)"
   ]
  },
  {
   "cell_type": "markdown",
   "metadata": {},
   "source": [
    "The `ind_admix_params` are of particular importance, as they define inferred admixture proportions. "
   ]
  },
  {
   "cell_type": "markdown",
   "metadata": {},
   "source": [
    "The expected individual mixture proportions is an array of shape `n_obs x k_approx`, where the $(n,k)$-th entry is the posterior probability of individual $n$ belonging to cluster $k$. "
   ]
  },
  {
   "cell_type": "code",
   "execution_count": null,
   "metadata": {},
   "outputs": [],
   "source": [
    "def get_e_ind_admix(vb_free_params): \n",
    "    \n",
    "    # this returns the expected individual mixture proportions. \n",
    "        \n",
    "    vb_params_dict = vb_params_paragami.fold(vb_free_params, free = True)\n",
    "    \n",
    "    stick_means = vb_params_dict['ind_admix_params']['stick_means']\n",
    "    stick_infos = vb_params_dict['ind_admix_params']['stick_infos']\n",
    "    \n",
    "    e_ind_admix = cluster_quantities_lib.get_e_cluster_probabilities(stick_means, \n",
    "                                                                     stick_infos, \n",
    "                                                                     gh_loc, \n",
    "                                                                     gh_weights)\n",
    "    \n",
    "    return e_ind_admix\n",
    "    \n"
   ]
  },
  {
   "cell_type": "code",
   "execution_count": null,
   "metadata": {},
   "outputs": [],
   "source": [
    "e_ind_admix0 = get_e_ind_admix(vb_opt)\n",
    "\n",
    "print(e_ind_admix0.shape)"
   ]
  },
  {
   "cell_type": "code",
   "execution_count": null,
   "metadata": {},
   "outputs": [],
   "source": [
    "# plot expected mixture proportions\n",
    "\n",
    "fig, ax = plt.subplots(1, 1, figsize = (6, 3))\n",
    "\n",
    "# top 6 clusters are colored ... remaining clusters are grey\n",
    "# height of bar represents mixture proportions\n",
    "plotting_utils.plot_top_clusters(e_ind_admix0, ax, n_top_clusters = 6); "
   ]
  },
  {
   "cell_type": "code",
   "execution_count": null,
   "metadata": {},
   "outputs": [],
   "source": []
  },
  {
   "cell_type": "markdown",
   "metadata": {},
   "source": [
    "# Define perturbation"
   ]
  },
  {
   "cell_type": "markdown",
   "metadata": {},
   "source": [
    "This class contains a collection of perturbations. "
   ]
  },
  {
   "cell_type": "code",
   "execution_count": null,
   "metadata": {},
   "outputs": [],
   "source": [
    "f_obj_all = log_phi_lib.LogPhiPerturbations(vb_params_paragami, \n",
    "                                            prior_params_dict['dp_prior_alpha'],\n",
    "                                            gh_loc, \n",
    "                                            gh_weights,\n",
    "                                            stick_key = 'ind_admix_params')"
   ]
  },
  {
   "cell_type": "markdown",
   "metadata": {},
   "source": [
    "Choose a perturbation. Available perturbations are: \n",
    "\n",
    "- 'worst-case', the worst-case L-inf perturbation\n",
    "- 'sigmoidal', the perturbation where log-phi is a sigmoid function\n",
    "- 'sigmoidal_neg', the perturbation where log-phi is the negative sigmoid function\n",
    "- 'alpha_pert_pos', the multiplicative functional perturbation to move the DP alpha parameter by +5\n",
    "- 'alpha_pert_neg', the multiplicative functional perturbation to move the DP alpha parameter by -5\n",
    "- 'alpha_pert_pos_xflip', same as alpha_pert_pos but reflected about x = 0\n",
    "- 'alpha_pert_neg_xflip', same as alpha_pert_neg but reflected about x = 0\n",
    "- 'gauss_pert1_pos', a positive gaussian bump at logit_v = 0\n",
    "- 'gauss_pert2_pos', a positive gaussian bump at logit_v = -3\n",
    "- 'gauss_pert1_neg', a negative gaussian bump at logit_v = 0\n",
    "- 'gauss_pert2_neg', a negative gaussian bump at logit_v = -3"
   ]
  },
  {
   "cell_type": "code",
   "execution_count": null,
   "metadata": {},
   "outputs": [],
   "source": [
    "# choose a perturbation\n",
    "perturbation = 'alpha_pert_pos'\n",
    "f_obj = getattr(f_obj_all, 'f_obj_' + perturbation)"
   ]
  },
  {
   "cell_type": "markdown",
   "metadata": {},
   "source": [
    "`f_obj` contains a few important methods for fitting and computing the linear response. For this notebook, the important one (really just for plotting) is the `log_phi` method, which returns log multiplicative perturbation. \n",
    "\n",
    "(other methods include expecations of log-phi). "
   ]
  },
  {
   "cell_type": "code",
   "execution_count": null,
   "metadata": {},
   "outputs": [],
   "source": [
    "log_phi = f_obj.log_phi"
   ]
  },
  {
   "cell_type": "code",
   "execution_count": null,
   "metadata": {},
   "outputs": [],
   "source": [
    "# The log-phi\n",
    "# (we will plot the effect on the prior later)\n",
    "logit_v_grid = np.linspace(-8, 8, 100)\n",
    "plt.plot(logit_v_grid, log_phi(logit_v_grid))"
   ]
  },
  {
   "cell_type": "code",
   "execution_count": null,
   "metadata": {},
   "outputs": [],
   "source": []
  },
  {
   "cell_type": "markdown",
   "metadata": {},
   "source": [
    "# Define linear sensitivity"
   ]
  },
  {
   "cell_type": "code",
   "execution_count": null,
   "metadata": {},
   "outputs": [],
   "source": [
    "print('loading derivatives from: ', lr_file)\n",
    "lr_data = np.load(lr_file)\n",
    "\n",
    "# check some stuff: make sure it matches the intial fit\n",
    "assert lr_data['alpha0'] == alpha0 # check alphas match\n",
    "assert np.abs(lr_data['vb_opt'] - vb_opt).max() < 1e-12 # check optimum match\n",
    "assert np.abs(lr_data['kl'] - init_fit_meta_data['final_kl']) < 1e-8 # check KL's match"
   ]
  },
  {
   "cell_type": "code",
   "execution_count": null,
   "metadata": {},
   "outputs": [],
   "source": [
    "dinput_dfun = lr_data['dinput_dfun_' + perturbation]"
   ]
  },
  {
   "cell_type": "code",
   "execution_count": null,
   "metadata": {},
   "outputs": [],
   "source": [
    "print('Derivative time: {:.02f} secs'.format(lr_data['lr_time_' + perturbation]))\n",
    "print('CG tolerance: ', lr_data['cg_tol'])"
   ]
  },
  {
   "cell_type": "code",
   "execution_count": null,
   "metadata": {},
   "outputs": [],
   "source": []
  },
  {
   "cell_type": "markdown",
   "metadata": {},
   "source": [
    "# Load refits"
   ]
  },
  {
   "cell_type": "code",
   "execution_count": null,
   "metadata": {},
   "outputs": [],
   "source": [
    "match_crit = out_filename + '_' + perturbation + '\\d+.npz'\n",
    "refit_files = [f for f in os.listdir(out_folder) if re.match(match_crit, f)]\n",
    "    \n",
    "assert len(refit_files) > 0, 'no refit files found'"
   ]
  },
  {
   "cell_type": "code",
   "execution_count": null,
   "metadata": {},
   "outputs": [],
   "source": [
    "def load_refit_files(refit_files): \n",
    "    \n",
    "    # load files\n",
    "    optim_time_vec = [init_fit_meta_data['optim_time']]\n",
    "    epsilon_vec = [0.]\n",
    "    vb_refit_list = [vb_opt]\n",
    "    delta = []\n",
    "    \n",
    "    for i in range(len(refit_files)): \n",
    "\n",
    "        print('loading fit from: ', refit_files[i])\n",
    "        vb_params_dict, vb_params_paragami, meta_data = \\\n",
    "            paragami.load_folded(out_folder + refit_files[i])\n",
    "        \n",
    "        vb_free = vb_params_paragami.flatten(vb_params_dict, free = True)\n",
    "                \n",
    "        # save the metadata we need\n",
    "        optim_time_vec.append(meta_data['optim_time'])\n",
    "        epsilon_vec.append(meta_data['epsilon'])\n",
    "        vb_refit_list.append(vb_free)\n",
    "        \n",
    "        # for the sigmoidal perturbation, we scaled the original function \n",
    "        # by a factor delta.\n",
    "        # Save this delta\n",
    "        delta.append(meta_data['delta'])\n",
    "        \n",
    "    optim_time_vec = np.array(optim_time_vec)\n",
    "    epsilon_vec = np.array(epsilon_vec)\n",
    "    vb_refit_list = np.array(vb_refit_list)\n",
    "    \n",
    "    # all the delta's should be the same ... \n",
    "    delta = np.unique(np.array(delta))\n",
    "    print('delta = ', delta)\n",
    "    assert len(delta) == 1\n",
    "    \n",
    "    # sort the epsilons \n",
    "    _indx = np.argsort(epsilon_vec)\n",
    "    optim_time_vec = optim_time_vec[_indx]\n",
    "    epsilon_vec = epsilon_vec[_indx]\n",
    "    vb_refit_list = vb_refit_list[_indx]\n",
    "    \n",
    "    return vb_refit_list, epsilon_vec, optim_time_vec, delta"
   ]
  },
  {
   "cell_type": "code",
   "execution_count": null,
   "metadata": {},
   "outputs": [],
   "source": [
    "vb_refit_list, epsilon_vec, optim_time_vec, delta = \\\n",
    "    load_refit_files(refit_files)"
   ]
  },
  {
   "cell_type": "markdown",
   "metadata": {},
   "source": [
    "`vb_refit_list` contains the free parameters from each refit. \n",
    "\n",
    "`vb_refit_list[i]` corresponds to the refit with `epsilon = epsilon_vec[i]`. "
   ]
  },
  {
   "cell_type": "code",
   "execution_count": null,
   "metadata": {},
   "outputs": [],
   "source": []
  },
  {
   "cell_type": "markdown",
   "metadata": {},
   "source": [
    "# Get linear approximation to the refits"
   ]
  },
  {
   "cell_type": "code",
   "execution_count": null,
   "metadata": {},
   "outputs": [],
   "source": [
    "def predict_opt_par_from_hyper_par(epsilon): \n",
    "    return vb_opt + dinput_dfun * epsilon * delta\n",
    "\n",
    "lr_list = []\n",
    "for epsilon in epsilon_vec: \n",
    "    # get linear response\n",
    "    lr_list.append(predict_opt_par_from_hyper_par(epsilon))\n"
   ]
  },
  {
   "cell_type": "markdown",
   "metadata": {},
   "source": [
    "`lr_list` contains the free parameters from the linear approximation. \n",
    "\n",
    "`lr_list[i]` corresponds to the predicted free parameters for `epsilon = epsilon_vec[i]`. "
   ]
  },
  {
   "cell_type": "code",
   "execution_count": null,
   "metadata": {},
   "outputs": [],
   "source": []
  },
  {
   "cell_type": "markdown",
   "metadata": {},
   "source": [
    "# Plot priors "
   ]
  },
  {
   "cell_type": "code",
   "execution_count": null,
   "metadata": {},
   "outputs": [],
   "source": [
    "prior_perturbation = func_sens_lib.PriorPerturbation(\n",
    "                                    alpha0 = alpha0,\n",
    "                                    log_phi = lambda x : f_obj.log_phi(x) * delta, \n",
    "                                    logit_v_ub = 10, \n",
    "                                    logit_v_lb = -10)\n",
    "\n",
    "prior_perturbation.plot_perturbation();"
   ]
  },
  {
   "cell_type": "markdown",
   "metadata": {},
   "source": [
    "# Plot vb free parameters"
   ]
  },
  {
   "cell_type": "code",
   "execution_count": null,
   "metadata": {},
   "outputs": [],
   "source": [
    "def print_diff_plot(x, y, x0, ax, color = 'red', alpha = 1.): \n",
    "    ax.plot(x - x0, y - x0, '+', color = color, alpha = alpha)\n",
    "    ax.plot(x - x0, x - x0, '-', color = 'blue', alpha = alpha)"
   ]
  },
  {
   "cell_type": "code",
   "execution_count": null,
   "metadata": {},
   "outputs": [],
   "source": [
    "def plot_params_diff_plot(refit_free_params, lr_free_params, init_free_params): \n",
    "    \n",
    "    # store the free parameters into dictionaries\n",
    "    # free = False means that we are plotting the free parameters (we don't constrain them)\n",
    "    init_free_param_dict = vb_params_paragami.fold(init_free_params, free = False)\n",
    "    lr_free_param_dict = vb_params_paragami.fold(lr_free_params, free = False)\n",
    "    refit_free_param_dict = vb_params_paragami.fold(refit_free_params, free = False)\n",
    "    \n",
    "    fig, ax = plt.subplots(1, 3, figsize = (12, 3))\n",
    "\n",
    "    ax[0].set_title('pop freq. parameters')\n",
    "    print_diff_plot(lr_free_param_dict['pop_freq_beta_params'].flatten(),\n",
    "                    refit_free_param_dict['pop_freq_beta_params'].flatten(), \n",
    "                    init_free_param_dict['pop_freq_beta_params'].flatten(), \n",
    "                    ax[0])\n",
    "\n",
    "\n",
    "    ax[1].set_title('stick means')\n",
    "    print_diff_plot(lr_free_param_dict['ind_admix_params']['stick_means'].flatten(),\n",
    "                    refit_free_param_dict['ind_admix_params']['stick_means'].flatten(), \n",
    "                    init_free_param_dict['ind_admix_params']['stick_means'].flatten(), \n",
    "                    ax[1])\n",
    "\n",
    "    ax[2].set_title('stick infos')\n",
    "    print_diff_plot(lr_free_param_dict['ind_admix_params']['stick_infos'].flatten(),\n",
    "                    refit_free_param_dict['ind_admix_params']['stick_infos'].flatten(), \n",
    "                    init_free_param_dict['ind_admix_params']['stick_infos'].flatten(), \n",
    "                    ax[2])\n",
    "    \n",
    "    for i in range(3): \n",
    "        ax[i].set_xlabel('lr - init')\n",
    "        ax[i].set_ylabel('refit - init')\n",
    "        \n",
    "    fig.tight_layout()"
   ]
  },
  {
   "cell_type": "markdown",
   "metadata": {},
   "source": [
    "### At smallest epsilon"
   ]
  },
  {
   "cell_type": "code",
   "execution_count": null,
   "metadata": {},
   "outputs": [],
   "source": [
    "# the smallest epsilon\n",
    "epsilon_vec[1]"
   ]
  },
  {
   "cell_type": "code",
   "execution_count": null,
   "metadata": {},
   "outputs": [],
   "source": [
    "plot_params_diff_plot(vb_refit_list[1], lr_list[1], vb_refit_list[0])"
   ]
  },
  {
   "cell_type": "code",
   "execution_count": null,
   "metadata": {},
   "outputs": [],
   "source": []
  },
  {
   "cell_type": "markdown",
   "metadata": {},
   "source": [
    "### at epsilon = 1"
   ]
  },
  {
   "cell_type": "code",
   "execution_count": null,
   "metadata": {},
   "outputs": [],
   "source": [
    "# if all the refits completed, \n",
    "# last epsilon shoudl be epsilon = 1\n",
    "epsilon_vec[-1]"
   ]
  },
  {
   "cell_type": "code",
   "execution_count": null,
   "metadata": {},
   "outputs": [],
   "source": [
    "plot_params_diff_plot(vb_refit_list[-1], lr_list[-1], vb_refit_list[0])"
   ]
  },
  {
   "cell_type": "code",
   "execution_count": null,
   "metadata": {},
   "outputs": [],
   "source": []
  },
  {
   "cell_type": "code",
   "execution_count": null,
   "metadata": {},
   "outputs": [],
   "source": []
  },
  {
   "cell_type": "markdown",
   "metadata": {},
   "source": [
    "# Expected number of clusters"
   ]
  },
  {
   "cell_type": "code",
   "execution_count": null,
   "metadata": {},
   "outputs": [],
   "source": [
    "def get_e_num_clusters(vb_free_params): \n",
    "\n",
    "    # get expected mixture proportions\n",
    "    e_ind_admix = get_e_ind_admix(vb_free_params)\n",
    "    \n",
    "    # get number of clusters from expected mixture proportions\n",
    "    e_ind_admix = e_ind_admix\n",
    "    return cluster_quantities_lib.get_e_num_clusters_from_ez(e_ind_admix)"
   ]
  },
  {
   "cell_type": "code",
   "execution_count": null,
   "metadata": {},
   "outputs": [],
   "source": [
    "def get_all_stats(param_list, get_stat): \n",
    "    \n",
    "    stat_vec = []\n",
    "    \n",
    "    for i in range(len(param_list)): \n",
    "        stat_vec.append(get_stat(param_list[i]))\n",
    "        \n",
    "    return np.array(stat_vec)"
   ]
  },
  {
   "cell_type": "code",
   "execution_count": null,
   "metadata": {},
   "outputs": [],
   "source": [
    "refit_color = '#d95f02'\n",
    "lr_color = '#1b9e77'"
   ]
  },
  {
   "cell_type": "code",
   "execution_count": null,
   "metadata": {},
   "outputs": [],
   "source": [
    "refit_e_num_clusters_vec = get_all_stats(vb_refit_list, get_e_num_clusters)\n",
    "lr_e_num_clusters_vec = get_all_stats(lr_list, get_e_num_clusters)\n",
    "    \n",
    "# plot\n",
    "plt.plot(epsilon_vec, \n",
    "         refit_e_num_clusters_vec, \n",
    "         'o-', \n",
    "         color = refit_color, \n",
    "         label = 'refit')\n",
    "\n",
    "plt.plot(epsilon_vec,\n",
    "         lr_e_num_clusters_vec, \n",
    "         'o-',\n",
    "         color = lr_color, \n",
    "         label = 'linear approx.')\n",
    "\n",
    "plt.legend()\n",
    "\n",
    "plt.xlabel('Epsilon')\n",
    "plt.ylabel('Expected n. clusters')"
   ]
  },
  {
   "cell_type": "code",
   "execution_count": null,
   "metadata": {},
   "outputs": [],
   "source": []
  },
  {
   "cell_type": "markdown",
   "metadata": {},
   "source": [
    "# Plot inferred admixtures"
   ]
  },
  {
   "cell_type": "code",
   "execution_count": null,
   "metadata": {},
   "outputs": [],
   "source": [
    "n_obs = e_ind_admix0.shape[0]\n",
    "k_approx = e_ind_admix0.shape[1] "
   ]
  },
  {
   "cell_type": "code",
   "execution_count": null,
   "metadata": {},
   "outputs": [],
   "source": [
    "# plot expected mixture proportions\n",
    "\n",
    "fig, ax = plt.subplots(3, 1, figsize = (6, 9))\n",
    "\n",
    "# if full data, subsample \n",
    "if n_obs > 25: \n",
    "    n_indx = onp.random.choice(n_obs, 25)\n",
    "    n_indx = np.sort(n_indx)\n",
    "else: \n",
    "    n_indx = np.arange(25)\n",
    "\n",
    "# top 6 clusters are colored ... remaining clusters are grey\n",
    "# height of bar represents mixture proportions\n",
    "ax[0].set_title('initial fit')\n",
    "plotting_utils.plot_top_clusters(e_ind_admix0[n_indx], ax[0], n_top_clusters = 6);\n",
    "\n",
    "ax[1].set_title('refit at epsilon = 1')\n",
    "e_ind_admix_refit = get_e_ind_admix(vb_refit_list[-1])\n",
    "plotting_utils.plot_top_clusters(e_ind_admix_refit[n_indx], ax[1], n_top_clusters = 6);\n",
    "\n",
    "ax[2].set_title('LR at epsilon = 1')\n",
    "e_ind_admix_lr = get_e_ind_admix(lr_list[-1])\n",
    "plotting_utils.plot_top_clusters(e_ind_admix_lr[n_indx], ax[2], n_top_clusters = 6);\n",
    "\n",
    "fig.tight_layout()\n"
   ]
  },
  {
   "cell_type": "code",
   "execution_count": null,
   "metadata": {},
   "outputs": [],
   "source": []
  },
  {
   "cell_type": "markdown",
   "metadata": {},
   "source": [
    "### Trace plots for some subsampled individuals"
   ]
  },
  {
   "cell_type": "code",
   "execution_count": null,
   "metadata": {},
   "outputs": [],
   "source": [
    "def make_admix_trace_plots(stick_fun, n_indx, k_indx, ylab = ''): \n",
    "    # stick_fun is a function that takes in vb_free parameters \n",
    "    # and returns a n_obs x k_approx array of summary statistics \n",
    "    # (e.g. stick means or mixture proportions)\n",
    "    \n",
    "    lr_array = get_all_stats(lr_list, stick_fun)\n",
    "    refit_array = get_all_stats(vb_refit_list, stick_fun)\n",
    "\n",
    "    for n in n_indx: \n",
    "        fig, ax = plt.subplots(1, len(k_indx), figsize = (18, 3))\n",
    "\n",
    "        for k in k_indx: \n",
    "            ax[k].plot(epsilon_vec, lr_array[:, n, k], '-x', color = lr_color, label = 'lr')\n",
    "            ax[k].plot(epsilon_vec, refit_array[:, n, k], '-x', color = refit_color, label = 'refit')\n",
    "            \n",
    "            ax[k].set_title('n = {}; k = {}'.format(n,k))\n",
    "\n",
    "            if k == 0: \n",
    "                ax[k].legend()\n",
    "                ax[k].set_ylabel(ylab)\n",
    "                \n",
    "            if n == (n_indx[-1]): \n",
    "                ax[k].set_xlabel('epsilon')\n",
    "            else: \n",
    "                ax[k].set_xticklabels([])\n",
    "        \n",
    "        fig.tight_layout()"
   ]
  },
  {
   "cell_type": "code",
   "execution_count": null,
   "metadata": {},
   "outputs": [],
   "source": [
    "# subsample a few individuals\n",
    "n_obs = e_ind_admix0.shape[0]\n",
    "n_indx = onp.random.choice(n_obs, 5)\n",
    "k_indx = np.arange(6)\n",
    "\n",
    "make_admix_trace_plots(get_e_ind_admix, n_indx, k_indx)"
   ]
  },
  {
   "cell_type": "code",
   "execution_count": null,
   "metadata": {},
   "outputs": [],
   "source": [
    "# refit vs. lr difference in individual admixtures\n",
    "fig, ax = plt.subplots(1, 2, figsize = (8, 3))\n",
    "fig.tight_layout(); \n",
    "\n",
    "# at smallest epsilon\n",
    "e_ind_admix_refit = get_e_ind_admix(vb_refit_list[1])\n",
    "e_ind_admix_lr = get_e_ind_admix(lr_list[1])\n",
    "\n",
    "print_diff_plot(e_ind_admix_lr, \n",
    "                e_ind_admix_refit, \n",
    "                e_ind_admix0, \n",
    "                ax[0])\n",
    "\n",
    "ax[0].set_title('Epsilon = {:.05f}'.format(epsilon_vec[1]))\n",
    "\n",
    "\n",
    "# at epsilon = 1\n",
    "e_ind_admix_refit = get_e_ind_admix(vb_refit_list[-1])\n",
    "e_ind_admix_lr = get_e_ind_admix(lr_list[-1])\n",
    "\n",
    "print_diff_plot(e_ind_admix_lr, \n",
    "                e_ind_admix_refit, \n",
    "                e_ind_admix0, \n",
    "                ax[1])\n",
    "\n",
    "ax[1].set_title('Epsilon = {:.05f}'.format(epsilon_vec[-1]))"
   ]
  },
  {
   "cell_type": "code",
   "execution_count": null,
   "metadata": {},
   "outputs": [],
   "source": []
  },
  {
   "cell_type": "markdown",
   "metadata": {},
   "source": [
    "# Plot cluster weights"
   ]
  },
  {
   "cell_type": "code",
   "execution_count": null,
   "metadata": {},
   "outputs": [],
   "source": [
    "# this is len(epsilon_vec) x n_obs x k_approx\n",
    "e_ind_admix_lr_array = get_all_stats(lr_list, get_e_ind_admix)\n",
    "e_ind_admix_refit_array = get_all_stats(vb_refit_list, get_e_ind_admix)\n",
    "\n",
    "cluster_weights_lr = e_ind_admix_lr_array.sum(1)\n",
    "cluster_weights_refit = e_ind_admix_refit_array.sum(1)"
   ]
  },
  {
   "cell_type": "code",
   "execution_count": null,
   "metadata": {},
   "outputs": [],
   "source": [
    "fig, ax = plt.subplots(5, 4,\n",
    "                       figsize = (18, 15),\n",
    "                       sharex = True)\n",
    "\n",
    "k_approx = e_ind_admix0.shape[1]\n",
    "\n",
    "for k in range(k_approx): \n",
    "    x0 = k // 4\n",
    "    x1 = k % 4\n",
    "    ax[x0, x1].plot(epsilon_vec,\n",
    "                    cluster_weights_lr[:, k],\n",
    "                    '-x', \n",
    "                    color = refit_color, \n",
    "                    label = 'refit')\n",
    "    \n",
    "    ax[x0, x1].plot(epsilon_vec,\n",
    "                    cluster_weights_refit[:, k],\n",
    "                    '-x', \n",
    "                    color = lr_color, \n",
    "                    label = 'lr')\n",
    "    ax[x0, x1].set_title('k = {}'.format(k))\n",
    "    if x0 == 4: \n",
    "        ax[x0, x1].set_xlabel('epsilon')\n",
    "    if x1 == 0: \n",
    "        ax[x0, x1].set_ylabel('Expected n.ind')\n",
    "        \n",
    "    if k == 0: \n",
    "        ax[x0, x1].legend()\n",
    "\n",
    "fig.tight_layout()"
   ]
  },
  {
   "cell_type": "code",
   "execution_count": null,
   "metadata": {},
   "outputs": [],
   "source": []
  },
  {
   "cell_type": "markdown",
   "metadata": {},
   "source": [
    "# Check out co-clustering"
   ]
  },
  {
   "cell_type": "code",
   "execution_count": null,
   "metadata": {},
   "outputs": [],
   "source": [
    "# sort based on initial fit\n",
    "indx = cluster_admix_get_indx(e_ind_admix0)\n",
    "\n",
    "def get_co_clustering_mat(ind_admix): \n",
    "    ind_admix_sorted = ind_admix[indx]\n",
    "    \n",
    "    return np.dot(ind_admix_sorted, ind_admix_sorted.transpose())\n",
    "\n",
    "\n",
    "def plot_co_clustering_mat(coclust_mat, ax, fig): \n",
    "    \n",
    "    im = ax.matshow(coclust_mat, vmax = 1, vmin = 0, cmap = plt.get_cmap('Blues'))\n",
    "    fig.colorbar(im, ax = ax)\n",
    "    ax.set_xticks([])\n",
    "    ax.set_yticks([])"
   ]
  },
  {
   "cell_type": "markdown",
   "metadata": {},
   "source": [
    "### Plot co-clustering"
   ]
  },
  {
   "cell_type": "code",
   "execution_count": null,
   "metadata": {},
   "outputs": [],
   "source": [
    "fig, ax = plt.subplots(1, 3, figsize = (12, 3))\n",
    "fig.tight_layout()\n",
    "\n",
    "ax[0].set_title('init')\n",
    "coclust_mat0 = get_co_clustering_mat(e_ind_admix0)\n",
    "plot_co_clustering_mat(coclust_mat0, ax[0], fig)\n",
    "\n",
    "ax[1].set_title('refit')\n",
    "e_ind_admix_refit = get_e_ind_admix(vb_refit_list[-1])\n",
    "coclust_mat_refit = get_co_clustering_mat(e_ind_admix_refit)\n",
    "plot_co_clustering_mat(coclust_mat_refit, ax[1], fig)\n",
    "\n",
    "ax[2].set_title('lr')\n",
    "e_ind_admix_lr = get_e_ind_admix(lr_list[-1])\n",
    "coclust_mat_lr = get_co_clustering_mat(e_ind_admix_lr)\n",
    "plot_co_clustering_mat(coclust_mat_lr, ax[2], fig)"
   ]
  },
  {
   "cell_type": "code",
   "execution_count": null,
   "metadata": {},
   "outputs": [],
   "source": []
  },
  {
   "cell_type": "markdown",
   "metadata": {},
   "source": [
    "### Print differences in co-clustering"
   ]
  },
  {
   "cell_type": "code",
   "execution_count": null,
   "metadata": {
    "scrolled": true
   },
   "outputs": [],
   "source": [
    "fig, ax = plt.subplots(1, 2, figsize = (8, 3))\n",
    "fig.tight_layout()\n",
    "\n",
    "vmax = 0.1\n",
    "\n",
    "ax[0].set_title('refit - init')\n",
    "im0 = ax[0].matshow(coclust_mat_refit - coclust_mat0, \n",
    "              cmap = plt.get_cmap('bwr'), \n",
    "              vmax = vmax, vmin = -vmax)\n",
    "fig.colorbar(im0, ax = ax[0])\n",
    "\n",
    "\n",
    "ax[1].set_title('lr - init')\n",
    "im0 = ax[1].matshow(coclust_mat_lr - coclust_mat0, \n",
    "              cmap = plt.get_cmap('bwr'), \n",
    "              vmax = vmax, vmin = -vmax)\n",
    "fig.colorbar(im0, ax = ax[1])"
   ]
  },
  {
   "cell_type": "code",
   "execution_count": null,
   "metadata": {},
   "outputs": [],
   "source": [
    "fig, ax = plt.subplots(1, 1, figsize = (4, 3))\n",
    "fig.tight_layout(); \n",
    "\n",
    "print_diff_plot(coclust_mat_lr.flatten(), \n",
    "                coclust_mat_refit.flatten(), \n",
    "                coclust_mat0.flatten(), \n",
    "                ax = ax)"
   ]
  },
  {
   "cell_type": "code",
   "execution_count": null,
   "metadata": {},
   "outputs": [],
   "source": []
  },
  {
   "cell_type": "code",
   "execution_count": null,
   "metadata": {},
   "outputs": [],
   "source": []
  },
  {
   "cell_type": "markdown",
   "metadata": {},
   "source": [
    "# Study the population frequencies"
   ]
  },
  {
   "cell_type": "code",
   "execution_count": null,
   "metadata": {},
   "outputs": [],
   "source": [
    "def get_e_pop_freq(vb_free_params): \n",
    "    vb_params_dict = vb_params_paragami.fold(vb_free_params, free = True)\n",
    "    \n",
    "    beta_params = vb_params_dict['pop_freq_beta_params']\n",
    "    \n",
    "    return beta_params[:, :, 0] / (beta_params[:, :, 0] + beta_params[:, :, 1])"
   ]
  },
  {
   "cell_type": "code",
   "execution_count": null,
   "metadata": {},
   "outputs": [],
   "source": [
    "# inferred population frequency at initial fit\n",
    "e_pop_freq0 = get_e_pop_freq(vb_refit_list[0])"
   ]
  },
  {
   "cell_type": "code",
   "execution_count": null,
   "metadata": {},
   "outputs": [],
   "source": [
    "# refit vs. lr difference in individual admixtures\n",
    "fig, ax = plt.subplots(1, 2, figsize = (8, 3))\n",
    "fig.tight_layout(); \n",
    "\n",
    "# at smallest epsilon\n",
    "e_pop_freq_refit = get_e_pop_freq(vb_refit_list[1])\n",
    "e_pop_freq_lr = get_e_pop_freq(lr_list[1])\n",
    "\n",
    "print_diff_plot(e_pop_freq_lr, \n",
    "                e_pop_freq_refit, \n",
    "                e_pop_freq0, \n",
    "                ax[0])\n",
    "\n",
    "ax[0].set_title('Epsilon = {:.05f}'.format(epsilon_vec[1]))\n",
    "\n",
    "\n",
    "# at epsilon = 1\n",
    "e_pop_freq_refit = get_e_pop_freq(vb_refit_list[-1])\n",
    "e_pop_freq_lr = get_e_pop_freq(lr_list[-1])\n",
    "\n",
    "print_diff_plot(e_pop_freq_lr, \n",
    "                e_pop_freq_refit, \n",
    "                e_pop_freq0, \n",
    "                ax[1])\n",
    "\n",
    "ax[1].set_title('Epsilon = {:.05f}'.format(epsilon_vec[-1]))\n",
    "\n"
   ]
  },
  {
   "cell_type": "code",
   "execution_count": null,
   "metadata": {},
   "outputs": [],
   "source": []
  },
  {
   "cell_type": "code",
   "execution_count": null,
   "metadata": {},
   "outputs": [],
   "source": []
  },
  {
   "cell_type": "markdown",
   "metadata": {},
   "source": [
    "### For plotting centroids,  run PCA on population frequencies"
   ]
  },
  {
   "cell_type": "code",
   "execution_count": null,
   "metadata": {},
   "outputs": [],
   "source": [
    "import sklearn\n",
    "pca_model = sklearn.decomposition.PCA(n_components = 2)\n",
    "pca_model.fit(e_pop_freq0.transpose())"
   ]
  },
  {
   "cell_type": "code",
   "execution_count": null,
   "metadata": {},
   "outputs": [],
   "source": [
    "# Plot initial centroids\n",
    "e_pop_freq0_transformed = pca_model.transform(e_pop_freq0.transpose())\n",
    "plt.scatter(e_pop_freq0_transformed[:, 0], \n",
    "            e_pop_freq0_transformed[:, 1])"
   ]
  },
  {
   "cell_type": "code",
   "execution_count": null,
   "metadata": {},
   "outputs": [],
   "source": [
    "e_pop_freq0_transformed.shape"
   ]
  },
  {
   "cell_type": "code",
   "execution_count": null,
   "metadata": {},
   "outputs": [],
   "source": []
  },
  {
   "cell_type": "markdown",
   "metadata": {},
   "source": [
    "### Plot centroids across epsilon"
   ]
  },
  {
   "cell_type": "code",
   "execution_count": null,
   "metadata": {},
   "outputs": [],
   "source": [
    "def get_pca_centroids_from_free(vb_free):\n",
    "    \n",
    "    # get expected population frequencies \n",
    "    e_pop_freq = get_e_pop_freq(vb_free)\n",
    "    \n",
    "    # return pca centroids\n",
    "    return pca_model.transform(e_pop_freq.transpose())"
   ]
  },
  {
   "cell_type": "code",
   "execution_count": null,
   "metadata": {},
   "outputs": [],
   "source": [
    "# this is len(epsilon_vec) x k_approx x n_pca_components\n",
    "centroids_refit_array = get_all_stats(vb_refit_list, get_pca_centroids_from_free)\n",
    "centroids_lr_array = get_all_stats(lr_list, get_pca_centroids_from_free)"
   ]
  },
  {
   "cell_type": "code",
   "execution_count": null,
   "metadata": {},
   "outputs": [],
   "source": [
    "fig, ax = plt.subplots(5, 4,\n",
    "                       figsize = (18, 15))\n",
    "\n",
    "k_approx = e_ind_admix0.shape[1]\n",
    "\n",
    "for k in range(k_approx): \n",
    "    x0 = k // 4\n",
    "    x1 = k % 4\n",
    "    \n",
    "    ax[x0, x1].plot(centroids_refit_array[:, k, 0], \n",
    "                    centroids_refit_array[:, k, 1], \n",
    "                    '-x', \n",
    "                    color = refit_color, \n",
    "                    label = 'refit')\n",
    "    \n",
    "    ax[x0, x1].plot(centroids_lr_array[:, k, 0], \n",
    "                    centroids_lr_array[:, k, 1], \n",
    "                    '-x', \n",
    "                    color = lr_color, \n",
    "                    label = 'lr')\n",
    "    \n",
    "    ax[x0, x1].set_title('k = {}'.format(k))\n",
    "    ax[x0, x1].set_ylabel('PC2')\n",
    "    ax[x0, x1].set_xlabel('PC1')\n",
    "\n",
    "ax[0, 0].legend()\n",
    "fig.tight_layout(); "
   ]
  },
  {
   "cell_type": "code",
   "execution_count": null,
   "metadata": {},
   "outputs": [],
   "source": []
  },
  {
   "cell_type": "code",
   "execution_count": null,
   "metadata": {},
   "outputs": [],
   "source": [
    "def get_cosine_sim_from_vb_free(vb_free): \n",
    "    \n",
    "    # get expected population frequencies \n",
    "    e_pop_freq = get_e_pop_freq(vb_free)\n",
    "    \n",
    "    # compute cosine similarity\n",
    "    norm_const = np.sqrt(np.sum(e_pop_freq**2, axis = 0, keepdims = True))\n",
    "    \n",
    "    e_pop_freq = (e_pop_freq / norm_const)\n",
    "    \n",
    "    return np.dot(e_pop_freq.transpose(), e_pop_freq)"
   ]
  },
  {
   "cell_type": "code",
   "execution_count": null,
   "metadata": {},
   "outputs": [],
   "source": [
    "fig, ax = plt.subplots(1, 3, figsize = (12, 3))\n",
    "fig.tight_layout()\n",
    "\n",
    "ax[0].set_title('init')\n",
    "plot_co_clustering_mat(get_cosine_sim_from_vb_free(vb_refit_list[0]), ax[0], fig)\n",
    "\n",
    "ax[1].set_title('refit')\n",
    "plot_co_clustering_mat(get_cosine_sim_from_vb_free(vb_refit_list[-1]), ax[1], fig)\n",
    "\n",
    "\n",
    "ax[2].set_title('lr')\n",
    "e_pop_freq_lr = get_e_pop_freq(lr_list[-1])\n",
    "plot_co_clustering_mat(get_cosine_sim_from_vb_free(lr_list[-1]), ax[2], fig)\n"
   ]
  },
  {
   "cell_type": "markdown",
   "metadata": {},
   "source": [
    "### Trace plot of how first row of this similarity matrix changes across epsilon"
   ]
  },
  {
   "cell_type": "code",
   "execution_count": null,
   "metadata": {},
   "outputs": [],
   "source": [
    "# first dimension is of length epsilon_vec\n",
    "cos_sim_refit_array = get_all_stats(vb_refit_list, get_cosine_sim_from_vb_free)\n",
    "cos_sim_lr_array = get_all_stats(lr_list, get_cosine_sim_from_vb_free)"
   ]
  },
  {
   "cell_type": "code",
   "execution_count": null,
   "metadata": {},
   "outputs": [],
   "source": [
    "coclust_row = 0"
   ]
  },
  {
   "cell_type": "code",
   "execution_count": null,
   "metadata": {},
   "outputs": [],
   "source": [
    "fig, ax = plt.subplots(5, 4, figsize = (18, 15))\n",
    "\n",
    "k_approx = e_ind_admix0.shape[1]\n",
    "\n",
    "for k in range(k_approx): \n",
    "    x0 = k // 4\n",
    "    x1 = k % 4\n",
    "    \n",
    "    ax[x0, x1].plot(epsilon_vec, \n",
    "                    cos_sim_refit_array[:, k, coclust_row], \n",
    "                    '-x', \n",
    "                    color = refit_color, \n",
    "                    label = 'refit')\n",
    "    \n",
    "    ax[x0, x1].plot(epsilon_vec, \n",
    "                    cos_sim_lr_array[:, k, coclust_row], \n",
    "                    '-x', \n",
    "                    color = lr_color, \n",
    "                    label = 'lr')\n",
    "    ax[x0, x1].set_title('k = {}'.format(k))\n",
    "    if x0 == 4: \n",
    "        ax[x0, x1].set_xlabel('epsilon')\n",
    "    if x1 == 0: \n",
    "        ax[x0, x1].set_ylabel('Expected n.ind')\n",
    "        \n",
    "    if k == 0: \n",
    "        ax[x0, x1].legend()\n",
    "\n",
    "ax[0, 0].legend()\n",
    "fig.tight_layout(); "
   ]
  },
  {
   "cell_type": "code",
   "execution_count": null,
   "metadata": {},
   "outputs": [],
   "source": []
  },
  {
   "cell_type": "code",
   "execution_count": null,
   "metadata": {},
   "outputs": [],
   "source": []
  }
 ],
 "metadata": {
  "kernelspec": {
   "display_name": "bnp_sensitivity_jax",
   "language": "python",
   "name": "bnp_sensitivity_jax"
  },
  "language_info": {
   "codemirror_mode": {
    "name": "ipython",
    "version": 3
   },
   "file_extension": ".py",
   "mimetype": "text/x-python",
   "name": "python",
   "nbconvert_exporter": "python",
   "pygments_lexer": "ipython3",
   "version": "3.8.5"
  }
 },
 "nbformat": 4,
 "nbformat_minor": 4
}
