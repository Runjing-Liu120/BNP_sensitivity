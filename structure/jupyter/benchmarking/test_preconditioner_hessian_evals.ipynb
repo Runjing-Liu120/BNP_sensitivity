{
 "cells": [
  {
   "cell_type": "code",
   "execution_count": 1,
   "metadata": {},
   "outputs": [
    {
     "name": "stderr",
     "output_type": "stream",
     "text": [
      "/accounts/grad/runjing_liu/.conda/envs/bnp_sensitivity_jax/lib/python3.8/site-packages/jax/lib/xla_bridge.py:130: UserWarning: No GPU/TPU found, falling back to CPU.\n",
      "  warnings.warn('No GPU/TPU found, falling back to CPU.')\n"
     ]
    }
   ],
   "source": [
    "import jax\n",
    "\n",
    "import jax.numpy as np\n",
    "import jax.scipy as sp\n",
    "\n",
    "from numpy.polynomial.hermite import hermgauss\n",
    "import scipy as osp\n",
    "\n",
    "from vb_lib import structure_model_lib, data_utils\n",
    "import vb_lib.structure_optimization_lib as s_optim_lib\n",
    "from vb_lib.preconditioner_lib import get_mfvb_cov_matmul\n",
    "\n",
    "import paragami\n",
    "\n",
    "from copy import deepcopy\n",
    "\n",
    "import time\n",
    "\n",
    "import matplotlib.pyplot as plt\n",
    "%matplotlib inline  \n",
    "\n",
    "from bnpmodeling_runjingdev import cluster_quantities_lib, modeling_lib\n",
    "from bnpmodeling_runjingdev.optimization_lib import run_lbfgs\n"
   ]
  },
  {
   "cell_type": "code",
   "execution_count": 2,
   "metadata": {},
   "outputs": [],
   "source": [
    "import numpy as onp\n",
    "onp.random.seed(53453)"
   ]
  },
  {
   "cell_type": "markdown",
   "metadata": {},
   "source": [
    "# Load data"
   ]
  },
  {
   "cell_type": "code",
   "execution_count": 3,
   "metadata": {},
   "outputs": [],
   "source": [
    "data = np.load('../../simulated_data/simulated_structure_data_nobs20_nloci50_npop4.npz')\n",
    "g_obs = np.array(data['g_obs'], dtype = int)"
   ]
  },
  {
   "cell_type": "code",
   "execution_count": 4,
   "metadata": {},
   "outputs": [],
   "source": [
    "# data_dir = '../../../../fastStructure/hgdp_data/huang2011_plink_files/'\n",
    "# filenamebase = 'phased_HGDP+India+Africa_2810SNPs-regions1to36'\n",
    "# filename = data_dir + filenamebase + '.npz'\n",
    "# data = np.load(filename)\n",
    "\n",
    "# g_obs = np.array(data['g_obs'], dtype = int)\n",
    "# g_obs_raw = np.array(data['g_obs_raw'])\n",
    "\n",
    "# # just checking ... \n",
    "# which_missing = (g_obs_raw == 3)\n",
    "# (g_obs.argmax(-1) == g_obs_raw)[~which_missing].all()\n",
    "# (g_obs[which_missing] == 0).all()"
   ]
  },
  {
   "cell_type": "code",
   "execution_count": 5,
   "metadata": {},
   "outputs": [],
   "source": [
    "n_obs = g_obs.shape[0]\n",
    "n_loci = g_obs.shape[1]"
   ]
  },
  {
   "cell_type": "code",
   "execution_count": 6,
   "metadata": {},
   "outputs": [
    {
     "name": "stdout",
     "output_type": "stream",
     "text": [
      "20\n",
      "50\n"
     ]
    }
   ],
   "source": [
    "print(n_obs)\n",
    "print(n_loci)"
   ]
  },
  {
   "cell_type": "markdown",
   "metadata": {},
   "source": [
    "# Get prior"
   ]
  },
  {
   "cell_type": "code",
   "execution_count": 7,
   "metadata": {},
   "outputs": [
    {
     "name": "stdout",
     "output_type": "stream",
     "text": [
      "OrderedDict:\n",
      "\t[dp_prior_alpha] = NumericArrayPattern (1,) (lb=0.0, ub=inf)\n",
      "\t[allele_prior_alpha] = NumericArrayPattern (1,) (lb=0.0, ub=inf)\n",
      "\t[allele_prior_beta] = NumericArrayPattern (1,) (lb=0.0, ub=inf)\n"
     ]
    }
   ],
   "source": [
    "_, prior_params_paragami = \\\n",
    "    structure_model_lib.get_default_prior_params()\n",
    "\n",
    "prior_params_dict = prior_params_paragami.random(key=jax.random.PRNGKey(41))\n",
    "\n",
    "print(prior_params_paragami)\n",
    "\n",
    "prior_params_free = prior_params_paragami.flatten(prior_params_dict, free = True)"
   ]
  },
  {
   "cell_type": "markdown",
   "metadata": {},
   "source": [
    "# Get VB params "
   ]
  },
  {
   "cell_type": "code",
   "execution_count": 8,
   "metadata": {},
   "outputs": [],
   "source": [
    "k_approx = 8"
   ]
  },
  {
   "cell_type": "code",
   "execution_count": 9,
   "metadata": {},
   "outputs": [],
   "source": [
    "gh_deg = 8\n",
    "gh_loc, gh_weights = hermgauss(8)"
   ]
  },
  {
   "cell_type": "code",
   "execution_count": 10,
   "metadata": {
    "scrolled": true
   },
   "outputs": [
    {
     "name": "stdout",
     "output_type": "stream",
     "text": [
      "OrderedDict:\n",
      "\t[pop_freq_beta_params] = NumericArrayPattern (50, 8, 2) (lb=0.0, ub=inf)\n",
      "\t[ind_admix_params] = OrderedDict:\n",
      "\t[stick_means] = NumericArrayPattern (20, 7) (lb=-inf, ub=inf)\n",
      "\t[stick_infos] = NumericArrayPattern (20, 7) (lb=0.0001, ub=inf)\n"
     ]
    }
   ],
   "source": [
    "use_logitnormal_sticks = True\n",
    "\n",
    "vb_params_dict, vb_params_paragami = \\\n",
    "    structure_model_lib.get_vb_params_paragami_object(n_obs, n_loci, k_approx,\n",
    "                                    use_logitnormal_sticks = use_logitnormal_sticks)\n",
    "    \n",
    "print(vb_params_paragami)"
   ]
  },
  {
   "cell_type": "code",
   "execution_count": 11,
   "metadata": {},
   "outputs": [],
   "source": [
    "vb_params_dict = vb_params_paragami.random(key=jax.random.PRNGKey(41))"
   ]
  },
  {
   "cell_type": "code",
   "execution_count": null,
   "metadata": {},
   "outputs": [],
   "source": []
  },
  {
   "cell_type": "markdown",
   "metadata": {},
   "source": [
    "# Optimize"
   ]
  },
  {
   "cell_type": "code",
   "execution_count": 12,
   "metadata": {},
   "outputs": [],
   "source": [
    "vb_init_dict = deepcopy(vb_params_dict)"
   ]
  },
  {
   "cell_type": "code",
   "execution_count": 13,
   "metadata": {},
   "outputs": [
    {
     "name": "stdout",
     "output_type": "stream",
     "text": [
      "Compiling objective ...\n",
      "Iter 0: f = 2416.47883971\n",
      "Compiling grad ...\n",
      "Compile time: 12.2373secs\n",
      "\n",
      "Running L-BFGS-B ... \n",
      "Iter 0: f = 2416.47883971\n",
      "Iter 1: f = 2339.59615087\n",
      "Iter 2: f = 2042.15460109\n",
      "Iter 3: f = 1964.48538994\n",
      "Iter 4: f = 1842.40209008\n",
      "Iter 5: f = 1829.80247881\n",
      "Iter 6: f = 1793.34241428\n",
      "Iter 7: f = 1786.48851044\n",
      "Iter 8: f = 1781.15586307\n",
      "Iter 9: f = 1773.07413016\n",
      "Iter 10: f = 1767.90596295\n",
      "Iter 11: f = 1764.01683626\n",
      "Iter 12: f = 1759.00108553\n",
      "Iter 13: f = 1752.62770974\n",
      "Iter 14: f = 1749.18441085\n",
      "Iter 15: f = 1745.41599705\n",
      "Iter 16: f = 1743.92272235\n",
      "Iter 17: f = 1742.78820299\n",
      "Iter 18: f = 1741.51612383\n",
      "Iter 19: f = 1740.86902367\n",
      "Iter 20: f = 1740.29480466\n",
      "Iter 21: f = 1739.70705386\n",
      "Iter 22: f = 1738.66142237\n",
      "Iter 23: f = 1737.90358634\n",
      "Iter 24: f = 1737.11893275\n",
      "Iter 25: f = 1736.22924315\n",
      "Iter 26: f = 1735.90258736\n",
      "Iter 27: f = 1735.58752357\n",
      "Iter 28: f = 1735.30538673\n",
      "Iter 29: f = 1735.03437414\n",
      "Iter 30: f = 1734.74637446\n",
      "Iter 31: f = 1734.18640722\n",
      "Iter 32: f = 1733.46884095\n",
      "Iter 33: f = 1733.37025032\n",
      "Iter 34: f = 1738.19264185\n",
      "Iter 35: f = 1732.83484748\n",
      "Iter 36: f = 1731.61790083\n",
      "Iter 37: f = 1729.32281563\n",
      "Iter 38: f = 1726.29104689\n",
      "Iter 39: f = 1724.41918651\n",
      "Iter 40: f = 1722.50206030\n",
      "Iter 41: f = 1720.60629769\n",
      "Iter 42: f = 1718.24387877\n",
      "Iter 43: f = 1716.23815737\n",
      "Iter 44: f = 1714.56455229\n",
      "Iter 45: f = 1713.65008206\n",
      "Iter 46: f = 1712.93451616\n",
      "Iter 47: f = 1712.45738469\n",
      "Iter 48: f = 1711.98191038\n",
      "Iter 49: f = 1711.77554836\n",
      "Iter 50: f = 1711.34525013\n",
      "Iter 51: f = 1710.81874774\n",
      "Iter 52: f = 1710.52292305\n",
      "Iter 53: f = 1710.00439485\n",
      "Iter 54: f = 1709.75434348\n",
      "Iter 55: f = 1709.60082013\n",
      "Iter 56: f = 1709.46259066\n",
      "Iter 57: f = 1709.37496151\n",
      "Iter 58: f = 1709.33584210\n",
      "Iter 59: f = 1709.28579844\n",
      "Iter 60: f = 1709.25536148\n",
      "Iter 61: f = 1709.23545510\n",
      "Iter 62: f = 1709.22753029\n",
      "Iter 63: f = 1709.21901710\n",
      "Iter 64: f = 1709.20981191\n",
      "Iter 65: f = 1709.20182807\n",
      "Iter 66: f = 1709.19691370\n",
      "Iter 67: f = 1709.19422711\n",
      "Iter 68: f = 1709.19295281\n",
      "Iter 69: f = 1709.19190942\n",
      "Iter 70: f = 1709.19132664\n",
      "Iter 71: f = 1709.19089876\n",
      "Iter 72: f = 1709.19050928\n",
      "Iter 73: f = 1709.19019558\n",
      "Iter 74: f = 1709.19002304\n",
      "Iter 75: f = 1709.18993806\n",
      "Iter 76: f = 1709.18988853\n",
      "Iter 77: f = 1709.18985249\n",
      "Iter 78: f = 1709.18984807\n",
      "Iter 79: f = 1709.18981599\n",
      "Iter 80: f = 1709.18981081\n",
      "Iter 81: f = 1709.18980242\n",
      "Iter 82: f = 1709.18980080\n",
      "done. Elapsed 1.00216secs\n",
      "Iter 83: f = 1709.18980080\n",
      "objective value:  1709.1898007967425\n"
     ]
    }
   ],
   "source": [
    "# get optimization objective \n",
    "optim_objective, init_vb_free = \\\n",
    "    s_optim_lib.define_structure_objective(g_obs, vb_init_dict,\n",
    "                        vb_params_paragami,\n",
    "                        prior_params_dict,\n",
    "                        gh_loc = gh_loc,\n",
    "                        gh_weights = gh_weights)\n",
    "\n",
    "out = run_lbfgs(optim_objective, init_vb_free)\n",
    "\n",
    "vb_opt = out.x\n",
    "vb_opt_dict = vb_params_paragami.fold(vb_opt, free = True)\n"
   ]
  },
  {
   "cell_type": "code",
   "execution_count": null,
   "metadata": {},
   "outputs": [],
   "source": []
  },
  {
   "cell_type": "markdown",
   "metadata": {},
   "source": [
    "# Compute Hessian"
   ]
  },
  {
   "cell_type": "code",
   "execution_count": 14,
   "metadata": {},
   "outputs": [],
   "source": [
    "get_kl_hess = jax.hessian(optim_objective._objective_fun)"
   ]
  },
  {
   "cell_type": "code",
   "execution_count": 15,
   "metadata": {},
   "outputs": [],
   "source": [
    "kl_hess = get_kl_hess(vb_opt)"
   ]
  },
  {
   "cell_type": "code",
   "execution_count": 16,
   "metadata": {},
   "outputs": [],
   "source": [
    "kl_hess = 0.5 * (kl_hess + kl_hess.transpose())"
   ]
  },
  {
   "cell_type": "code",
   "execution_count": 17,
   "metadata": {},
   "outputs": [
    {
     "name": "stdout",
     "output_type": "stream",
     "text": [
      "(DeviceArray(10.98057129+0.j, dtype=complex128), DeviceArray(0.1086444+0.j, dtype=complex128))\n",
      "CN:  (101.0689081069877+0j)\n"
     ]
    }
   ],
   "source": [
    "# check condition number \n",
    "\n",
    "kl_hess_evals = np.linalg.eigvals(kl_hess)\n",
    "\n",
    "print((kl_hess_evals.max(), \n",
    "       kl_hess_evals.min()))\n",
    "\n",
    "print('CN: ', kl_hess_evals.max() / kl_hess_evals.min())"
   ]
  },
  {
   "cell_type": "code",
   "execution_count": null,
   "metadata": {},
   "outputs": [],
   "source": []
  },
  {
   "cell_type": "markdown",
   "metadata": {},
   "source": [
    "# Get preconditioner"
   ]
  },
  {
   "cell_type": "code",
   "execution_count": 18,
   "metadata": {
    "scrolled": true
   },
   "outputs": [
    {
     "name": "stdout",
     "output_type": "stream",
     "text": [
      "compiling ... \n",
      "done\n"
     ]
    }
   ],
   "source": [
    "# this approximates the inverse hessian square root\n",
    "# this is \"a\" in PreconditionedFunction\n",
    "_info_inv_sqrt_op = lambda v : \\\n",
    "                        get_mfvb_cov_matmul(v, vb_params_dict,\n",
    "                                                vb_params_paragami,\n",
    "                                                return_info = True, \n",
    "                                                return_sqrt = True)\n",
    "    \n",
    "info_inv_sqrt_op = jax.jit(_info_inv_sqrt_op)\n",
    "\n",
    "print('compiling ... ')\n",
    "_ = info_inv_sqrt_op(vb_opt).block_until_ready()\n",
    "print('done')"
   ]
  },
  {
   "cell_type": "code",
   "execution_count": 19,
   "metadata": {},
   "outputs": [
    {
     "name": "stdout",
     "output_type": "stream",
     "text": [
      "compiling ... \n",
      "done\n"
     ]
    }
   ],
   "source": [
    "# this approximates the hessian square root\n",
    "# this is \"a_inv\" in PreconditionedFunction\n",
    "\n",
    "_cov_inv_sqrt_op = lambda v : \\\n",
    "                        get_mfvb_cov_matmul(v, vb_params_dict,\n",
    "                                                vb_params_paragami,\n",
    "                                                return_info = False,\n",
    "                                                return_sqrt = True)\n",
    "    \n",
    "cov_inv_sqrt_op = jax.jit(_cov_inv_sqrt_op)\n",
    "\n",
    "print('compiling ... ')\n",
    "_ = cov_inv_sqrt_op(vb_opt).block_until_ready()\n",
    "print('done')"
   ]
  },
  {
   "cell_type": "code",
   "execution_count": null,
   "metadata": {},
   "outputs": [],
   "source": []
  },
  {
   "cell_type": "markdown",
   "metadata": {},
   "source": [
    "# Check condition number after preconditioning"
   ]
  },
  {
   "cell_type": "code",
   "execution_count": 20,
   "metadata": {},
   "outputs": [],
   "source": [
    "basis_vecs = np.eye(kl_hess.shape[0])"
   ]
  },
  {
   "cell_type": "code",
   "execution_count": 21,
   "metadata": {},
   "outputs": [],
   "source": [
    "info_inv_sqrt = jax.lax.map(info_inv_sqrt_op, basis_vecs)\n",
    "\n",
    "# symmetrize\n",
    "info_inv_sqrt = 0.5 * (info_inv_sqrt + info_inv_sqrt.transpose())"
   ]
  },
  {
   "cell_type": "code",
   "execution_count": 22,
   "metadata": {},
   "outputs": [],
   "source": [
    "precond_hess = np.dot(np.dot(info_inv_sqrt, kl_hess), info_inv_sqrt)"
   ]
  },
  {
   "cell_type": "code",
   "execution_count": 23,
   "metadata": {},
   "outputs": [
    {
     "name": "stdout",
     "output_type": "stream",
     "text": [
      "(DeviceArray(5.41147702+0.j, dtype=complex128), DeviceArray(0.10539556+0.j, dtype=complex128))\n",
      "CN:  (51.34444892804844+0j)\n"
     ]
    }
   ],
   "source": [
    "# check condition after pre-conditioning\n",
    "\n",
    "kl_precond_hess_evals = np.linalg.eigvals(precond_hess)\n",
    "\n",
    "print((kl_precond_hess_evals.max(), \n",
    "       kl_precond_hess_evals.min()))\n",
    "\n",
    "print('CN: ', kl_precond_hess_evals.max() / kl_precond_hess_evals.min())"
   ]
  },
  {
   "cell_type": "code",
   "execution_count": null,
   "metadata": {},
   "outputs": [],
   "source": []
  },
  {
   "cell_type": "code",
   "execution_count": null,
   "metadata": {},
   "outputs": [],
   "source": []
  }
 ],
 "metadata": {
  "kernelspec": {
   "display_name": "bnp_sensitivity_jax",
   "language": "python",
   "name": "bnp_sensitivity_jax"
  },
  "language_info": {
   "codemirror_mode": {
    "name": "ipython",
    "version": 3
   },
   "file_extension": ".py",
   "mimetype": "text/x-python",
   "name": "python",
   "nbconvert_exporter": "python",
   "pygments_lexer": "ipython3",
   "version": "3.8.0"
  }
 },
 "nbformat": 4,
 "nbformat_minor": 4
}
