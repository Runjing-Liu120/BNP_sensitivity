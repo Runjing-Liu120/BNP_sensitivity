{
 "cells": [
  {
   "cell_type": "code",
   "execution_count": 1,
   "metadata": {
    "scrolled": true
   },
   "outputs": [
    {
     "name": "stderr",
     "output_type": "stream",
     "text": [
      "/accounts/grad/runjing_liu/.conda/envs/bnp_sensitivity_jax/lib/python3.8/site-packages/jax/lib/xla_bridge.py:130: UserWarning: No GPU/TPU found, falling back to CPU.\n",
      "  warnings.warn('No GPU/TPU found, falling back to CPU.')\n"
     ]
    }
   ],
   "source": [
    "import jax\n",
    "\n",
    "import jax.numpy as np\n",
    "import jax.scipy as sp\n",
    "\n",
    "from numpy.polynomial.hermite import hermgauss\n",
    "import scipy as osp\n",
    "\n",
    "from vb_lib import structure_model_lib, data_utils, cavi_lib\n",
    "import vb_lib.structure_optimization_lib as s_optim_lib\n",
    "from vb_lib.preconditioner_lib import get_mfvb_cov_matmul\n",
    "\n",
    "import paragami\n",
    "import vittles\n",
    "\n",
    "from copy import deepcopy\n",
    "\n",
    "import time\n",
    "\n",
    "import matplotlib.pyplot as plt\n",
    "%matplotlib inline  \n",
    "\n",
    "from bnpmodeling_runjingdev import cluster_quantities_lib, modeling_lib\n",
    "from bnpmodeling_runjingdev.sensitivity_lib import get_jac_hvp_fun"
   ]
  },
  {
   "cell_type": "code",
   "execution_count": 2,
   "metadata": {},
   "outputs": [],
   "source": [
    "autograd_results = np.load('./tmp.npz')"
   ]
  },
  {
   "cell_type": "code",
   "execution_count": 3,
   "metadata": {},
   "outputs": [],
   "source": [
    "import numpy as onp\n",
    "onp.random.seed(53453)"
   ]
  },
  {
   "cell_type": "markdown",
   "metadata": {},
   "source": [
    "# Draw data"
   ]
  },
  {
   "cell_type": "code",
   "execution_count": 4,
   "metadata": {},
   "outputs": [],
   "source": [
    "n_obs = 5\n",
    "n_loci = 10\n",
    "n_pop = 4"
   ]
  },
  {
   "cell_type": "code",
   "execution_count": 5,
   "metadata": {},
   "outputs": [],
   "source": [
    "g_obs, true_pop_allele_freq, true_ind_admix_propn = \\\n",
    "    data_utils.draw_data(n_obs, n_loci, n_pop)"
   ]
  },
  {
   "cell_type": "code",
   "execution_count": 6,
   "metadata": {
    "scrolled": true
   },
   "outputs": [
    {
     "data": {
      "text/plain": [
       "<matplotlib.image.AxesImage at 0x7f1e14507340>"
      ]
     },
     "execution_count": 6,
     "metadata": {},
     "output_type": "execute_result"
    },
    {
     "data": {
      "image/png": "[encoded data removed]",
      "text/plain": [
       "<Figure size 360x288 with 1 Axes>"
      ]
     },
     "metadata": {
      "needs_background": "light"
     },
     "output_type": "display_data"
    }
   ],
   "source": [
    "plt.matshow(true_ind_admix_propn.T)"
   ]
  },
  {
   "cell_type": "code",
   "execution_count": 7,
   "metadata": {},
   "outputs": [],
   "source": [
    "g_obs = np.array(g_obs)"
   ]
  },
  {
   "cell_type": "code",
   "execution_count": 8,
   "metadata": {},
   "outputs": [],
   "source": [
    "assert np.all(g_obs  == autograd_results['g_obs'])"
   ]
  },
  {
   "cell_type": "code",
   "execution_count": null,
   "metadata": {},
   "outputs": [],
   "source": []
  },
  {
   "cell_type": "markdown",
   "metadata": {},
   "source": [
    "# Get prior"
   ]
  },
  {
   "cell_type": "code",
   "execution_count": 9,
   "metadata": {},
   "outputs": [
    {
     "name": "stdout",
     "output_type": "stream",
     "text": [
      "{'dp_prior_alpha': DeviceArray([3.], dtype=float64), 'allele_prior_alpha': DeviceArray([1.], dtype=float64), 'allele_prior_beta': DeviceArray([1.], dtype=float64)}\n"
     ]
    }
   ],
   "source": [
    "prior_params_dict, prior_params_paragami = \\\n",
    "    structure_model_lib.get_default_prior_params()\n",
    "\n",
    "print(prior_params_dict)\n",
    "\n",
    "prior_params_free = prior_params_paragami.flatten(prior_params_dict, free = True)"
   ]
  },
  {
   "cell_type": "code",
   "execution_count": null,
   "metadata": {},
   "outputs": [],
   "source": []
  },
  {
   "cell_type": "markdown",
   "metadata": {},
   "source": [
    "# Get VB params "
   ]
  },
  {
   "cell_type": "code",
   "execution_count": 10,
   "metadata": {},
   "outputs": [],
   "source": [
    "k_approx = 8"
   ]
  },
  {
   "cell_type": "code",
   "execution_count": 11,
   "metadata": {},
   "outputs": [],
   "source": [
    "gh_deg = 8\n",
    "gh_loc, gh_weights = hermgauss(8)"
   ]
  },
  {
   "cell_type": "code",
   "execution_count": 12,
   "metadata": {
    "scrolled": true
   },
   "outputs": [
    {
     "name": "stdout",
     "output_type": "stream",
     "text": [
      "OrderedDict:\n",
      "\t[pop_freq_beta_params] = NumericArrayPattern (10, 8, 2) (lb=0.0, ub=inf)\n",
      "\t[ind_admix_params] = OrderedDict:\n",
      "\t[stick_means] = NumericArrayPattern (5, 7) (lb=-inf, ub=inf)\n",
      "\t[stick_infos] = NumericArrayPattern (5, 7) (lb=0.0, ub=inf)\n"
     ]
    }
   ],
   "source": [
    "use_logitnormal_sticks = True\n",
    "\n",
    "_, vb_params_paragami = \\\n",
    "    structure_model_lib.get_vb_params_paragami_object(n_obs, n_loci, k_approx,\n",
    "                                    use_logitnormal_sticks = use_logitnormal_sticks)\n",
    "    \n",
    "print(vb_params_paragami)"
   ]
  },
  {
   "cell_type": "code",
   "execution_count": 13,
   "metadata": {},
   "outputs": [],
   "source": [
    "vb_params_free = autograd_results['vb_params_free']\n",
    "vb_params_dict = vb_params_paragami.fold(vb_params_free, free = True)\n",
    "\n",
    "assert np.all(vb_params_paragami.flatten(vb_params_dict, free = False) == \\\n",
    "              autograd_results['vb_params_flattened'])"
   ]
  },
  {
   "cell_type": "code",
   "execution_count": null,
   "metadata": {},
   "outputs": [],
   "source": []
  },
  {
   "cell_type": "code",
   "execution_count": null,
   "metadata": {},
   "outputs": [],
   "source": []
  },
  {
   "cell_type": "markdown",
   "metadata": {},
   "source": [
    "# Define objective"
   ]
  },
  {
   "cell_type": "code",
   "execution_count": 14,
   "metadata": {},
   "outputs": [
    {
     "name": "stdout",
     "output_type": "stream",
     "text": [
      "compiling objective ... \n",
      "done. Elasped: 80.6734\n"
     ]
    }
   ],
   "source": [
    "stru_objective = s_optim_lib.StructureObjective(g_obs, \n",
    "                                                 vb_params_paragami,\n",
    "                                                 prior_params_dict, \n",
    "                                                 gh_loc, gh_weights)"
   ]
  },
  {
   "cell_type": "code",
   "execution_count": null,
   "metadata": {},
   "outputs": [],
   "source": []
  },
  {
   "cell_type": "markdown",
   "metadata": {},
   "source": [
    "# Check gradients are the same as autograd"
   ]
  },
  {
   "cell_type": "code",
   "execution_count": 17,
   "metadata": {},
   "outputs": [],
   "source": [
    "assert np.abs(stru_objective.f(vb_params_free) - \\\n",
    "              autograd_results['kl']) < 1e-8"
   ]
  },
  {
   "cell_type": "code",
   "execution_count": 18,
   "metadata": {},
   "outputs": [],
   "source": [
    "assert np.abs(stru_objective.grad(vb_params_free) - \\\n",
    "              autograd_results['kl_grad']).max() < 1e-8"
   ]
  },
  {
   "cell_type": "code",
   "execution_count": 19,
   "metadata": {},
   "outputs": [],
   "source": [
    "kl_hess = autograd_results['kl_hess']\n",
    "\n",
    "for i in range(kl_hess.shape[0]): \n",
    "    \n",
    "    e_i = onp.zeros(kl_hess.shape[0])\n",
    "    e_i[i] = 1\n",
    "    \n",
    "    hvp1 = stru_objective.hvp(vb_params_free, e_i)\n",
    "    hvp2 = np.dot(kl_hess, e_i)\n",
    "    \n",
    "    assert np.abs(hvp1 - hvp2).max() < 1e-8"
   ]
  },
  {
   "cell_type": "code",
   "execution_count": 20,
   "metadata": {},
   "outputs": [
    {
     "name": "stdout",
     "output_type": "stream",
     "text": [
      "    def _kl_z2(self, vb_free_params, v): \n",
      "        \n",
      "        # let \"theta\" be the vb free parameters\n",
      "        # \"moments\" are the sufficient statistics of the vb params\n",
      "        # \"zeta\" are **unconstrained** cluster belongings\n",
      "        # \"z\" are **constrained** cluster belongings\n",
      "        \n",
      "        # \"f_zz\" is the hessian wrt to the z's\n",
      "        \n",
      "        # this method returns the second term of the schur complement: \n",
      "        # [dmoments/dtheta]^T[dzeta/dmoments]^T[dz/dzeta]^T ... \n",
      "        # [f_zz][dz/dzeta][dzeta/dmoments][dmoments/dtheta]\n",
      "        \n",
      "        \n",
      "        # returns [dmoments/dtheta] v\n",
      "        moments_tuple, moments_jvp = jax.jvp(self._get_moments_from_vb_free_params, \\\n",
      "                                             (vb_free_params, ), (v, ))\n",
      "        \n",
      "        # function that returns [dmoments/dtheta]^T v\n",
      "        moments_vjp = jax.vjp(self._get_moments_from_vb_free_params, \n",
      "                              vb_free_params)[1]\n",
      "        \n",
      "        def scan_fun(val, x): \n",
      "            # x[0] is g_obs[:, l]\n",
      "            # x[1] is e_log_pop\n",
      "            # x[2] is e_log_pop jvp\n",
      "\n",
      "            fun = lambda clust_probs, pop_freq : \\\n",
      "                    self._get_ez_free_from_moments(x[0], clust_probs, pop_freq)\n",
      "            \n",
      "            # multiply by [dzeta/dmoments] \n",
      "            ez_free, zeta_jvp = jax.jvp(fun, \n",
      "                            (moments_tuple[0], x[1]), \n",
      "                            (moments_jvp[0], x[2]))\n",
      "            \n",
      "            ez = jax.nn.softmax(ez_free, 1)\n",
      "            \n",
      "            # multiply by [dz/dzeta]\n",
      "            dz_jvp = self._constrain_ez_free_jvp(ez, zeta_jvp)\n",
      "            \n",
      "            # mutliply by f_zz\n",
      "            fzz_jvp = dz_jvp / ez\n",
      "            \n",
      "            # multiply by [dz/dzeta]^T (same bc it is symmetric)     \n",
      "            ez_vjp = self._constrain_ez_free_jvp(ez, fzz_jvp)\n",
      "            \n",
      "            # multiply by [dzeta/dmoments]^T\n",
      "            _zeta_vjp = jax.vjp(fun, *(moments_tuple[0], x[1]))[1](ez_vjp)\n",
      "\n",
      "            return _zeta_vjp[0] + val, _zeta_vjp[1]\n",
      "        \n",
      "        zeta_vjp = jax.lax.scan(scan_fun,\n",
      "                             init = np.zeros(moments_tuple[0].shape), \n",
      "                             xs = (self.g_obs.transpose((1, 0, 2)), \n",
      "                                   moments_tuple[1], \n",
      "                                   moments_jvp[1]))\n",
      "        \n",
      "        # finally return [dmoments/dtheta]^T\n",
      "        return moments_vjp(zeta_vjp)[0]\n",
      "\n"
     ]
    }
   ],
   "source": [
    "import inspect\n",
    "lines = inspect.getsource(stru_objective._kl_z2)\n",
    "print(lines)"
   ]
  },
  {
   "cell_type": "code",
   "execution_count": null,
   "metadata": {},
   "outputs": [],
   "source": []
  },
  {
   "cell_type": "code",
   "execution_count": null,
   "metadata": {},
   "outputs": [],
   "source": []
  },
  {
   "cell_type": "code",
   "execution_count": null,
   "metadata": {},
   "outputs": [],
   "source": []
  }
 ],
 "metadata": {
  "kernelspec": {
   "display_name": "bnp_sensitivity_jax",
   "language": "python",
   "name": "bnp_sensitivity_jax"
  },
  "language_info": {
   "codemirror_mode": {
    "name": "ipython",
    "version": 3
   },
   "file_extension": ".py",
   "mimetype": "text/x-python",
   "name": "python",
   "nbconvert_exporter": "python",
   "pygments_lexer": "ipython3",
   "version": "3.8.0"
  }
 },
 "nbformat": 4,
 "nbformat_minor": 4
}
