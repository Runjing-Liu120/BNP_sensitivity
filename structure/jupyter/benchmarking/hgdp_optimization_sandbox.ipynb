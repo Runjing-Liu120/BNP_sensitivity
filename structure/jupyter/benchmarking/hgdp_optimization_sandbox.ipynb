{
 "cells": [
  {
   "cell_type": "code",
   "execution_count": 1,
   "metadata": {},
   "outputs": [
    {
     "name": "stderr",
     "output_type": "stream",
     "text": [
      "/accounts/grad/runjing_liu/.conda/envs/bnp_sensitivity_jax/lib/python3.8/site-packages/jax/lib/xla_bridge.py:130: UserWarning: No GPU/TPU found, falling back to CPU.\n",
      "  warnings.warn('No GPU/TPU found, falling back to CPU.')\n"
     ]
    }
   ],
   "source": [
    "import jax\n",
    "\n",
    "import jax.numpy as np\n",
    "import jax.scipy as sp\n",
    "\n",
    "import numpy as onp\n",
    "from numpy.polynomial.hermite import hermgauss\n",
    "\n",
    "import vb_lib.structure_model_lib as structure_model_lib\n",
    "import vb_lib.cavi_lib as cavi_lib\n",
    "import vb_lib.structure_optimization_lib as s_optim_lib\n",
    "\n",
    "import paragami\n",
    "\n",
    "from copy import deepcopy\n",
    "\n",
    "import time"
   ]
  },
  {
   "cell_type": "markdown",
   "metadata": {},
   "source": [
    "# Load data"
   ]
  },
  {
   "cell_type": "code",
   "execution_count": 2,
   "metadata": {},
   "outputs": [],
   "source": [
    "# data_file = '../../../../../fastStructure/hgdp_data/huang2011_plink_files/' + \\\n",
    "#                 'phased_HGDP+India+Africa_2810SNPs-regions1to36.npz'\n",
    "\n",
    "data_file = '../../../../../fastStructure/test/testdata.npz'\n",
    "\n",
    "data = np.load(data_file)\n",
    "g_obs = np.array(data['g_obs'], dtype = int)"
   ]
  },
  {
   "cell_type": "code",
   "execution_count": 3,
   "metadata": {},
   "outputs": [
    {
     "name": "stdout",
     "output_type": "stream",
     "text": [
      "200\n",
      "500\n"
     ]
    }
   ],
   "source": [
    "n_obs = g_obs.shape[0]\n",
    "n_loci = g_obs.shape[1]\n",
    "\n",
    "print(n_obs)\n",
    "print(n_loci)"
   ]
  },
  {
   "cell_type": "markdown",
   "metadata": {},
   "source": [
    "# Get prior"
   ]
  },
  {
   "cell_type": "code",
   "execution_count": 4,
   "metadata": {},
   "outputs": [
    {
     "name": "stdout",
     "output_type": "stream",
     "text": [
      "prior params: \n",
      "{'dp_prior_alpha': DeviceArray([3.], dtype=float64), 'allele_prior_alpha': DeviceArray([1.], dtype=float64), 'allele_prior_beta': DeviceArray([1.], dtype=float64)}\n"
     ]
    }
   ],
   "source": [
    "prior_params_dict, prior_params_paragami = \\\n",
    "    structure_model_lib.get_default_prior_params()\n",
    "\n",
    "print('prior params: ')\n",
    "print(prior_params_dict)"
   ]
  },
  {
   "cell_type": "markdown",
   "metadata": {},
   "source": [
    "# VB parameters"
   ]
  },
  {
   "cell_type": "code",
   "execution_count": 5,
   "metadata": {},
   "outputs": [],
   "source": [
    "k_approx = 25"
   ]
  },
  {
   "cell_type": "code",
   "execution_count": 6,
   "metadata": {},
   "outputs": [],
   "source": [
    "gh_deg = 8\n",
    "gh_loc, gh_weights = hermgauss(8)"
   ]
  },
  {
   "cell_type": "code",
   "execution_count": 7,
   "metadata": {},
   "outputs": [],
   "source": [
    "_, vb_params_paragami = \\\n",
    "    structure_model_lib.get_vb_params_paragami_object(n_obs, n_loci, k_approx,\n",
    "                                                      use_logitnormal_sticks = True)"
   ]
  },
  {
   "cell_type": "code",
   "execution_count": 8,
   "metadata": {},
   "outputs": [
    {
     "name": "stdout",
     "output_type": "stream",
     "text": [
      "Compiling cavi functions ...\n",
      "CAVI compile time: 6.48sec\n",
      "\n",
      " running CAVI ...\n",
      "Done. Warning, max iterations reached. \n",
      "Elapsed: 4 steps in 1.76 seconds\n",
      "Stick conversion time: 9.703secs\n"
     ]
    },
    {
     "data": {
      "text/plain": [
       "OrderedDict([('pop_freq_beta_params',\n",
       "              DeviceArray([[[228.88026858,   9.80768462],\n",
       "                            [ 96.99842558,   2.93687052],\n",
       "                            [ 42.63319623,   2.2728181 ],\n",
       "                            ...,\n",
       "                            [  1.00043277,   1.00037146],\n",
       "                            [  1.00031006,   1.00026613],\n",
       "                            [  1.0013906 ,   1.00119324]],\n",
       "              \n",
       "                           [[200.2334416 ,  38.65548463],\n",
       "                            [ 69.58227946,  29.93137388],\n",
       "                            [ 36.01004063,   8.72610057],\n",
       "                            ...,\n",
       "                            [  1.00043271,   1.0004195 ],\n",
       "                            [  1.00031001,   1.00030055],\n",
       "                            [  1.00139027,   1.00134774]],\n",
       "              \n",
       "                           [[ 77.40217414, 161.3065884 ],\n",
       "                            [ 37.63954449,  61.9639784 ],\n",
       "                            [ 13.40488309,  31.46864595],\n",
       "                            ...,\n",
       "                            [  1.00042191,   1.00043441],\n",
       "                            [  1.00030228,   1.00031123],\n",
       "                            [  1.0013555 ,   1.00139573]],\n",
       "              \n",
       "                           ...,\n",
       "              \n",
       "                           [[225.81323955,  13.00515554],\n",
       "                            [ 93.05765618,   6.43051793],\n",
       "                            [ 42.0094426 ,   2.91066345],\n",
       "                            ...,\n",
       "                            [  1.00043284,   1.0003938 ],\n",
       "                            [  1.00031011,   1.00028214],\n",
       "                            [  1.00139075,   1.00126511]],\n",
       "              \n",
       "                           [[198.31052806,  39.93283039],\n",
       "                            [ 93.63803757,   6.76497339],\n",
       "                            [ 36.86231766,   7.86280256],\n",
       "                            ...,\n",
       "                            [  1.00043248,   1.00040951],\n",
       "                            [  1.00030985,   1.0002934 ],\n",
       "                            [  1.00138955,   1.00131563]],\n",
       "              \n",
       "                           [[ 42.97828951, 195.72859052],\n",
       "                            [ 15.12762412,  84.79167347],\n",
       "                            [ 14.6996918 ,  29.59852935],\n",
       "                            ...,\n",
       "                            [  1.00042062,   1.00043293],\n",
       "                            [  1.00030136,   1.00031017],\n",
       "                            [  1.00135135,   1.00139099]]], dtype=float64)),\n",
       "             ('ind_admix_params',\n",
       "              OrderedDict([('stick_means',\n",
       "                            array([[-0.04489664,  0.38583863,  0.24383576, ..., -1.49896756,\n",
       "                                    -1.49972436, -1.50026646],\n",
       "                                   [ 1.40168007,  0.12133841,  1.42910063, ..., -1.49946578,\n",
       "                                    -1.49985728, -1.50013788],\n",
       "                                   [ 0.1995077 ,  0.59801058, -0.51091943, ..., -1.4991871 ,\n",
       "                                    -1.49978291, -1.50020974],\n",
       "                                   ...,\n",
       "                                   [ 0.53360906,  0.54499377,  0.94452375, ..., -1.49930686,\n",
       "                                    -1.49981483, -1.50017898],\n",
       "                                   [ 0.36210022,  0.63219108,  0.56819669, ..., -1.4994891 ,\n",
       "                                    -1.49986351, -1.5001317 ],\n",
       "                                   [ 0.14934495, -0.41391303,  1.60998899, ..., -1.49915308,\n",
       "                                    -1.49977381, -1.50021852]])),\n",
       "                           ('stick_infos',\n",
       "                            DeviceArray([[244.17363495, 122.89264555,  51.27805015, ...,\n",
       "                                            0.5641058 ,   0.56330859,   0.56273756],\n",
       "                                         [148.55220827,  49.48966351,  14.74845841, ...,\n",
       "                                            0.5626158 ,   0.56220343,   0.56190869],\n",
       "                                         [241.6404092 , 103.00917318,  37.68996577, ...,\n",
       "                                            0.56344872,   0.56282153,   0.56237208],\n",
       "                                         ...,\n",
       "                                         [226.03885703,  86.46457055,  27.64487945, ...,\n",
       "                                            0.56309088,   0.56255571,   0.56217362],\n",
       "                                         [235.66110182,  93.29255397,  33.17346625, ...,\n",
       "                                            0.56254691,   0.56215223,   0.56186918],\n",
       "                                         [242.80917139, 110.74944404,  39.06955707, ...,\n",
       "                                            0.56355097,   0.56289708,   0.5624288 ]], dtype=float64))]))])"
      ]
     },
     "execution_count": 8,
     "metadata": {},
     "output_type": "execute_result"
    }
   ],
   "source": [
    "s_optim_lib.initialize_with_cavi(g_obs, \n",
    "                                 vb_params_paragami, \n",
    "                                 prior_params_dict, \n",
    "                                 gh_loc, gh_weights, \n",
    "                                 max_iter=5)"
   ]
  },
  {
   "cell_type": "code",
   "execution_count": null,
   "metadata": {},
   "outputs": [],
   "source": []
  },
  {
   "cell_type": "code",
   "execution_count": 13,
   "metadata": {},
   "outputs": [
    {
     "name": "stdout",
     "output_type": "stream",
     "text": [
      "odict_keys(['pop_freq_beta_params', 'ind_admix_params'])\n"
     ]
    }
   ],
   "source": [
    "print(vb_params_dict.keys())"
   ]
  },
  {
   "cell_type": "code",
   "execution_count": 14,
   "metadata": {},
   "outputs": [],
   "source": [
    "vb_params_dict['pop_freq_beta_params'] = vb_params_dict_beta['pop_freq_beta_params']\n",
    "\n",
    "stick_betas = vb_params_dict_beta['ind_admix_params']['stick_beta']\n",
    "logitnorm_stick_params_dict = vb_params_dict['ind_admix_params']\n",
    "logitnorm_stick_params_paragami = vb_params_paragami['ind_admix_params']"
   ]
  },
  {
   "cell_type": "code",
   "execution_count": 15,
   "metadata": {},
   "outputs": [
    {
     "name": "stdout",
     "output_type": "stream",
     "text": [
      "Stick conversion time: 26.292secs\n"
     ]
    }
   ],
   "source": [
    "t0 = time.time()\n",
    "stick_params_dict, out = s_optim_lib.convert_beta_sticks_to_logitnormal(stick_betas, \n",
    "                                       logitnorm_stick_params_dict,\n",
    "                                       logitnorm_stick_params_paragami, \n",
    "                                       gh_loc, gh_weights)\n",
    "print('Stick conversion time: {:.3f}secs'.format(time.time() - t0))"
   ]
  },
  {
   "cell_type": "code",
   "execution_count": 16,
   "metadata": {},
   "outputs": [],
   "source": [
    "vb_params_dict['ind_admix_params'] = stick_params_dict"
   ]
  },
  {
   "cell_type": "code",
   "execution_count": 17,
   "metadata": {},
   "outputs": [
    {
     "data": {
      "text/plain": [
       "DeviceArray(3238135.06908368, dtype=float64)"
      ]
     },
     "execution_count": 17,
     "metadata": {},
     "output_type": "execute_result"
    }
   ],
   "source": [
    "structure_model_lib.get_kl(g_obs, vb_params_dict, prior_params_dict, \n",
    "                           gh_loc = gh_loc, gh_weights = gh_weights)"
   ]
  },
  {
   "cell_type": "code",
   "execution_count": null,
   "metadata": {},
   "outputs": [],
   "source": []
  },
  {
   "cell_type": "code",
   "execution_count": 23,
   "metadata": {},
   "outputs": [
    {
     "data": {
      "text/plain": [
       "(2810, 30, 2)"
      ]
     },
     "execution_count": 23,
     "metadata": {},
     "output_type": "execute_result"
    }
   ],
   "source": [
    "vb_params_dict['pop_freq_beta_params'].shape"
   ]
  },
  {
   "cell_type": "code",
   "execution_count": null,
   "metadata": {},
   "outputs": [],
   "source": []
  },
  {
   "cell_type": "code",
   "execution_count": null,
   "metadata": {},
   "outputs": [],
   "source": []
  },
  {
   "cell_type": "code",
   "execution_count": null,
   "metadata": {},
   "outputs": [],
   "source": []
  },
  {
   "cell_type": "markdown",
   "metadata": {},
   "source": [
    "# Run Newton"
   ]
  },
  {
   "cell_type": "code",
   "execution_count": 21,
   "metadata": {},
   "outputs": [],
   "source": [
    "paragami.load_folded?"
   ]
  },
  {
   "cell_type": "code",
   "execution_count": 18,
   "metadata": {},
   "outputs": [
    {
     "ename": "NameError",
     "evalue": "name 'sp_optim_lib' is not defined",
     "output_type": "error",
     "traceback": [
      "\u001b[0;31m---------------------------------------------------------------------------\u001b[0m",
      "\u001b[0;31mNameError\u001b[0m                                 Traceback (most recent call last)",
      "\u001b[0;32m<ipython-input-18-3b548a39c1f3>\u001b[0m in \u001b[0;36m<module>\u001b[0;34m\u001b[0m\n\u001b[0;32m----> 1\u001b[0;31m precond_objective = sp_optim_lib.StructurePrecondObjective(g_obs, \n\u001b[0m\u001b[1;32m      2\u001b[0m                                                            \u001b[0mvb_params_paragami\u001b[0m\u001b[0;34m,\u001b[0m\u001b[0;34m\u001b[0m\u001b[0;34m\u001b[0m\u001b[0m\n\u001b[1;32m      3\u001b[0m                                                            \u001b[0mprior_params_dict\u001b[0m\u001b[0;34m,\u001b[0m\u001b[0;34m\u001b[0m\u001b[0;34m\u001b[0m\u001b[0m\n\u001b[1;32m      4\u001b[0m                                                            gh_loc, gh_weights)\n",
      "\u001b[0;31mNameError\u001b[0m: name 'sp_optim_lib' is not defined"
     ]
    }
   ],
   "source": [
    "precond_objective = sp_optim_lib.StructurePrecondObjective(g_obs, \n",
    "                                                           vb_params_paragami, \n",
    "                                                           prior_params_dict, \n",
    "                                                           gh_loc, gh_weights)"
   ]
  },
  {
   "cell_type": "code",
   "execution_count": null,
   "metadata": {},
   "outputs": [],
   "source": []
  },
  {
   "cell_type": "code",
   "execution_count": 18,
   "metadata": {},
   "outputs": [
    {
     "ename": "NameError",
     "evalue": "name 'optimize' is not defined",
     "output_type": "error",
     "traceback": [
      "\u001b[0;31m---------------------------------------------------------------------------\u001b[0m",
      "\u001b[0;31mNameError\u001b[0m                                 Traceback (most recent call last)",
      "\u001b[0;32m<ipython-input-18-b08456fd8c16>\u001b[0m in \u001b[0;36m<module>\u001b[0;34m\u001b[0m\n\u001b[0;32m----> 1\u001b[0;31m out = optimize.minimize(optim_objective.f_np,\n\u001b[0m\u001b[1;32m      2\u001b[0m                         \u001b[0mx0\u001b[0m \u001b[0;34m=\u001b[0m \u001b[0monp\u001b[0m\u001b[0;34m.\u001b[0m\u001b[0marray\u001b[0m\u001b[0;34m(\u001b[0m\u001b[0minit_vb_free\u001b[0m\u001b[0;34m)\u001b[0m\u001b[0;34m,\u001b[0m\u001b[0;34m\u001b[0m\u001b[0;34m\u001b[0m\u001b[0m\n\u001b[1;32m      3\u001b[0m                         \u001b[0mjac\u001b[0m \u001b[0;34m=\u001b[0m \u001b[0moptim_objective\u001b[0m\u001b[0;34m.\u001b[0m\u001b[0mgrad_np\u001b[0m\u001b[0;34m,\u001b[0m\u001b[0;34m\u001b[0m\u001b[0;34m\u001b[0m\u001b[0m\n\u001b[1;32m      4\u001b[0m                         \u001b[0mmethod\u001b[0m\u001b[0;34m=\u001b[0m\u001b[0;34m'L-BFGS-B'\u001b[0m\u001b[0;34m,\u001b[0m\u001b[0;34m\u001b[0m\u001b[0;34m\u001b[0m\u001b[0m\n\u001b[1;32m      5\u001b[0m                         options = {'maxiter': 5})\n",
      "\u001b[0;31mNameError\u001b[0m: name 'optimize' is not defined"
     ]
    }
   ],
   "source": [
    "out = optimize.minimize(optim_objective.f_np,\n",
    "                        x0 = onp.array(init_vb_free),\n",
    "                        jac = optim_objective.grad_np,\n",
    "                        method='L-BFGS-B', \n",
    "                        options = {'maxiter': 5})"
   ]
  },
  {
   "cell_type": "code",
   "execution_count": null,
   "metadata": {},
   "outputs": [],
   "source": []
  },
  {
   "cell_type": "raw",
   "metadata": {},
   "source": [
    "precond_objective = sp_optim_lib.StructurePrecondObjective(g_obs, \n",
    "                                                           vb_params_paragami, \n",
    "                                                           prior_params_dict, \n",
    "                                                           gh_loc, gh_weights, \n",
    "                                                           identity_precond = True)"
   ]
  },
  {
   "cell_type": "raw",
   "metadata": {},
   "source": [
    "vb_params_free = vb_params_paragami.flatten(vb_params_dict, free = True)"
   ]
  },
  {
   "cell_type": "raw",
   "metadata": {},
   "source": [
    "x0 = vb_params_free\n",
    "x0_c = precon_objective.precondition(x0, vb_params_free)"
   ]
  },
  {
   "cell_type": "raw",
   "metadata": {},
   "source": [
    "optimization_logger = OptimizationObjective(lambda x : precond_objective.f_precond(x_c, vb_params_free))"
   ]
  },
  {
   "cell_type": "raw",
   "metadata": {},
   "source": [
    "out = optimize.minimize(lambda x : onp.array(optimization_logger.f(x)),\n",
    "                        x0 = onp.array(x0_c),\n",
    "                        jac = lambda x : onp.array(precon_objective.grad_precond(x, vb_params_free)),\n",
    "                        hessp = lambda x, v: onp.array(precon_objective.hvp_precond(x, vb_param_free, v)),\n",
    "                        method='L-BFGS-B', \n",
    "                        options = {'maxiter': precondition_every})"
   ]
  },
  {
   "cell_type": "code",
   "execution_count": null,
   "metadata": {},
   "outputs": [],
   "source": []
  }
 ],
 "metadata": {
  "kernelspec": {
   "display_name": "bnp_sensitivity_jax",
   "language": "python",
   "name": "bnp_sensitivity_jax"
  },
  "language_info": {
   "codemirror_mode": {
    "name": "ipython",
    "version": 3
   },
   "file_extension": ".py",
   "mimetype": "text/x-python",
   "name": "python",
   "nbconvert_exporter": "python",
   "pygments_lexer": "ipython3",
   "version": "3.8.0"
  }
 },
 "nbformat": 4,
 "nbformat_minor": 2
}
