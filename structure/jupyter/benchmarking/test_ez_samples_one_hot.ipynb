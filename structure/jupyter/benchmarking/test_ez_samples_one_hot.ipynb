{
 "cells": [
  {
   "cell_type": "code",
   "execution_count": 1,
   "metadata": {},
   "outputs": [],
   "source": [
    "import jax\n",
    "\n",
    "import jax.numpy as np\n",
    "import jax.scipy as sp\n",
    "\n",
    "import numpy as onp\n",
    "\n",
    "from bnpmodeling_runjingdev import cluster_quantities_lib\n"
   ]
  },
  {
   "cell_type": "code",
   "execution_count": null,
   "metadata": {},
   "outputs": [],
   "source": []
  },
  {
   "cell_type": "code",
   "execution_count": 51,
   "metadata": {},
   "outputs": [],
   "source": [
    "def _get_onehot_clusters_from_ez_and_unif_samples(e_z, unif_samples):\n",
    "    # e_z is n_obs x k\n",
    "    # unif_sample should be a matrix of shape n_samples x n_obs\n",
    "    \n",
    "    # returns a n_samples x n_obs x k matrix encoding sampled \n",
    "    # cluster belongings\n",
    "    \n",
    "    n_obs = e_z.shape[0]\n",
    "    k_approx = e_z.shape[1]\n",
    "    \n",
    "    e_z_cumsum = e_z.cumsum(1)\n",
    "    e_z_cumsum0 = np.hstack((np.zeros((n_obs, 1)),\n",
    "                             e_z_cumsum[:, 0:(k_approx-1)]))\n",
    "    \n",
    "    n_obs = e_z_cumsum.shape[0]\n",
    "\n",
    "    assert len(unif_samples.shape) == 2\n",
    "    assert unif_samples.shape[1] == n_obs\n",
    "\n",
    "    # get which cluster the sample belongs to\n",
    "    z_sample = (e_z_cumsum[None, :, :] > unif_samples[:, :, None]) & \\\n",
    "                (e_z_cumsum0[None, :, :] < unif_samples[:, :, None])\n",
    "\n",
    "    return z_sample"
   ]
  },
  {
   "cell_type": "code",
   "execution_count": 65,
   "metadata": {},
   "outputs": [],
   "source": [
    "n_obs = 2\n",
    "n_samples = 100000\n",
    "k_approx = 4"
   ]
  },
  {
   "cell_type": "code",
   "execution_count": 66,
   "metadata": {},
   "outputs": [],
   "source": [
    "e_z = jax.nn.softmax(np.array(onp.random.randn(n_obs, k_approx)), 1)\n",
    "unif_samples = np.array(onp.random.rand(n_samples, n_obs))"
   ]
  },
  {
   "cell_type": "code",
   "execution_count": 67,
   "metadata": {},
   "outputs": [],
   "source": [
    "z_samples = _get_onehot_clusters_from_ez_and_unif_samples(e_z, unif_samples)"
   ]
  },
  {
   "cell_type": "code",
   "execution_count": 68,
   "metadata": {},
   "outputs": [
    {
     "data": {
      "text/plain": [
       "DeviceArray([[0.27441, 0.388  , 0.26477, 0.07282],\n",
       "             [0.20574, 0.28461, 0.43644, 0.07321]], dtype=float32)"
      ]
     },
     "execution_count": 68,
     "metadata": {},
     "output_type": "execute_result"
    }
   ],
   "source": [
    "z_samples.mean(0)"
   ]
  },
  {
   "cell_type": "code",
   "execution_count": 69,
   "metadata": {},
   "outputs": [
    {
     "data": {
      "text/plain": [
       "DeviceArray([[0.27271885, 0.3874878 , 0.26578054, 0.07401287],\n",
       "             [0.20606819, 0.2837512 , 0.4358235 , 0.07435703]],            dtype=float32)"
      ]
     },
     "execution_count": 69,
     "metadata": {},
     "output_type": "execute_result"
    }
   ],
   "source": [
    "e_z"
   ]
  },
  {
   "cell_type": "code",
   "execution_count": null,
   "metadata": {},
   "outputs": [],
   "source": []
  },
  {
   "cell_type": "code",
   "execution_count": null,
   "metadata": {},
   "outputs": [],
   "source": []
  }
 ],
 "metadata": {
  "kernelspec": {
   "display_name": "bnp_sensitivity_jax",
   "language": "python",
   "name": "bnp_sensitivity_jax"
  },
  "language_info": {
   "codemirror_mode": {
    "name": "ipython",
    "version": 3
   },
   "file_extension": ".py",
   "mimetype": "text/x-python",
   "name": "python",
   "nbconvert_exporter": "python",
   "pygments_lexer": "ipython3",
   "version": "3.8.0"
  }
 },
 "nbformat": 4,
 "nbformat_minor": 2
}
