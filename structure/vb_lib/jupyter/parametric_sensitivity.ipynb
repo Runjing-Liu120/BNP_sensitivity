{
 "cells": [
  {
   "cell_type": "markdown",
   "metadata": {},
   "source": [
    "Here, we examine parametric sensitivity of the structure model on a small simulated dataset"
   ]
  },
  {
   "cell_type": "code",
   "execution_count": 1,
   "metadata": {},
   "outputs": [
    {
     "name": "stderr",
     "output_type": "stream",
     "text": [
      "/home/rliu/anaconda3/envs/bnp_sensitivity_jax/lib/python3.8/site-packages/jax/lib/xla_bridge.py:130: UserWarning: No GPU/TPU found, falling back to CPU.\n",
      "  warnings.warn('No GPU/TPU found, falling back to CPU.')\n"
     ]
    }
   ],
   "source": [
    "import jax\n",
    "\n",
    "import jax.numpy as np\n",
    "import jax.scipy as sp\n",
    "from numpy.polynomial.hermite import hermgauss\n",
    "\n",
    "from vb_lib import structure_model_lib, data_utils, cavi_lib\n",
    "from vb_lib.preconditioner_lib import get_mfvb_cov\n",
    "from bnpmodeling_runjingdev.sensitivity_lib import HyperparameterSensitivityLinearApproximation\n",
    "\n",
    "import paragami\n",
    "\n",
    "from copy import deepcopy\n",
    "\n",
    "import time\n",
    "\n",
    "import matplotlib.pyplot as plt\n",
    "%matplotlib inline  \n",
    "\n",
    "from bnpmodeling_runjingdev import cluster_quantities_lib, modeling_lib\n"
   ]
  },
  {
   "cell_type": "code",
   "execution_count": 2,
   "metadata": {},
   "outputs": [],
   "source": [
    "import numpy as onp\n",
    "onp.random.seed(53453)"
   ]
  },
  {
   "cell_type": "markdown",
   "metadata": {
    "collapsed": true
   },
   "source": [
    "# Draw data"
   ]
  },
  {
   "cell_type": "code",
   "execution_count": 3,
   "metadata": {},
   "outputs": [],
   "source": [
    "n_obs = 50\n",
    "n_loci = 100\n",
    "n_pop = 4"
   ]
  },
  {
   "cell_type": "code",
   "execution_count": 4,
   "metadata": {},
   "outputs": [],
   "source": [
    "g_obs, true_pop_allele_freq, true_ind_admix_propn = \\\n",
    "    data_utils.draw_data(n_obs, n_loci, n_pop)"
   ]
  },
  {
   "cell_type": "code",
   "execution_count": 5,
   "metadata": {
    "scrolled": true
   },
   "outputs": [
    {
     "data": {
      "text/plain": [
       "Text(0.5, 0, 'individual')"
      ]
     },
     "execution_count": 5,
     "metadata": {},
     "output_type": "execute_result"
    },
    {
     "data": {
      "image/png": "[encoded data removed]",
      "text/plain": [
       "<Figure size 1152x144 with 1 Axes>"
      ]
     },
     "metadata": {
      "needs_background": "light"
     },
     "output_type": "display_data"
    }
   ],
   "source": [
    "plt.matshow(true_ind_admix_propn.T)\n",
    "plt.ylabel('population')\n",
    "plt.xlabel('individual')"
   ]
  },
  {
   "cell_type": "code",
   "execution_count": 6,
   "metadata": {
    "scrolled": true
   },
   "outputs": [
    {
     "data": {
      "text/plain": [
       "(50, 100, 3)"
      ]
     },
     "execution_count": 6,
     "metadata": {},
     "output_type": "execute_result"
    }
   ],
   "source": [
    "g_obs.shape"
   ]
  },
  {
   "cell_type": "markdown",
   "metadata": {},
   "source": [
    "# Get prior"
   ]
  },
  {
   "cell_type": "code",
   "execution_count": 7,
   "metadata": {},
   "outputs": [
    {
     "name": "stdout",
     "output_type": "stream",
     "text": [
      "OrderedDict:\n",
      "\t[dp_prior_alpha] = NumericArrayPattern (1,) (lb=0.0, ub=inf)\n",
      "\t[allele_prior_alpha] = NumericArrayPattern (1,) (lb=0.0, ub=inf)\n",
      "\t[allele_prior_beta] = NumericArrayPattern (1,) (lb=0.0, ub=inf)\n"
     ]
    }
   ],
   "source": [
    "prior_params_dict, prior_params_paragami = \\\n",
    "    structure_model_lib.get_default_prior_params()\n",
    "\n",
    "print(prior_params_paragami)\n",
    "\n",
    "prior_params_free = prior_params_paragami.flatten(prior_params_dict, free = True)"
   ]
  },
  {
   "cell_type": "markdown",
   "metadata": {},
   "source": [
    "# Get VB params "
   ]
  },
  {
   "cell_type": "code",
   "execution_count": 8,
   "metadata": {},
   "outputs": [],
   "source": [
    "k_approx = 8"
   ]
  },
  {
   "cell_type": "code",
   "execution_count": 9,
   "metadata": {},
   "outputs": [],
   "source": [
    "gh_deg = 8\n",
    "gh_loc, gh_weights = hermgauss(8)"
   ]
  },
  {
   "cell_type": "code",
   "execution_count": 10,
   "metadata": {
    "scrolled": true
   },
   "outputs": [
    {
     "name": "stdout",
     "output_type": "stream",
     "text": [
      "OrderedDict:\n",
      "\t[pop_freq_beta_params] = NumericArrayPattern (100, 8, 2) (lb=0.0, ub=inf)\n",
      "\t[ind_mix_stick_propn_mean] = NumericArrayPattern (50, 7) (lb=-inf, ub=inf)\n",
      "\t[ind_mix_stick_propn_info] = NumericArrayPattern (50, 7) (lb=0.0001, ub=inf)\n"
     ]
    }
   ],
   "source": [
    "use_logitnormal_sticks = True\n",
    "\n",
    "vb_params_dict, vb_params_paragami = \\\n",
    "    structure_model_lib.get_vb_params_paragami_object(n_obs, n_loci, k_approx,\n",
    "                                    use_logitnormal_sticks = use_logitnormal_sticks)\n",
    "    \n",
    "print(vb_params_paragami)"
   ]
  },
  {
   "cell_type": "markdown",
   "metadata": {},
   "source": [
    "## Initialize "
   ]
  },
  {
   "cell_type": "code",
   "execution_count": 11,
   "metadata": {},
   "outputs": [],
   "source": [
    "vb_params_dict = \\\n",
    "        structure_model_lib.set_init_vb_params(g_obs, k_approx, vb_params_dict,\n",
    "                                                seed = 34221)"
   ]
  },
  {
   "cell_type": "code",
   "execution_count": 12,
   "metadata": {},
   "outputs": [
    {
     "data": {
      "text/plain": [
       "odict_keys(['pop_freq_beta_params', 'ind_mix_stick_propn_mean', 'ind_mix_stick_propn_info'])"
      ]
     },
     "execution_count": 12,
     "metadata": {},
     "output_type": "execute_result"
    }
   ],
   "source": [
    "vb_params_dict.keys()"
   ]
  },
  {
   "cell_type": "code",
   "execution_count": 13,
   "metadata": {},
   "outputs": [],
   "source": [
    "def get_vb_expectations(vb_params_dict, use_logitnormal_sticks): \n",
    "    if use_logitnormal_sticks: \n",
    "        e_ind_admix = cluster_quantities_lib.get_e_cluster_probabilities(\n",
    "                            vb_params_dict['ind_mix_stick_propn_mean'], \n",
    "                            vb_params_dict['ind_mix_stick_propn_info'],\n",
    "                            gh_loc, gh_weights)\n",
    "\n",
    "    else: \n",
    "        ind_mix_stick_beta_params = vb_params_dict['ind_mix_stick_beta_params']\n",
    "        e_stick_lengths = \\\n",
    "                modeling_lib.get_e_beta(ind_mix_stick_beta_params)\n",
    "        e_ind_admix = cluster_quantities_lib.get_mixture_weights_from_stick_break_propns(e_stick_lengths)\n",
    "\n",
    "    e_pop_freq = modeling_lib.get_e_beta(vb_params_dict['pop_freq_beta_params'])\n",
    "    \n",
    "    return e_ind_admix, e_pop_freq"
   ]
  },
  {
   "cell_type": "code",
   "execution_count": 14,
   "metadata": {},
   "outputs": [
    {
     "data": {
      "text/plain": [
       "Text(0.5, 0, 'individual')"
      ]
     },
     "execution_count": 14,
     "metadata": {},
     "output_type": "execute_result"
    },
    {
     "data": {
      "image/png": "[encoded data removed]",
      "text/plain": [
       "<Figure size 1152x184.32 with 1 Axes>"
      ]
     },
     "metadata": {
      "needs_background": "light"
     },
     "output_type": "display_data"
    }
   ],
   "source": [
    "plt.matshow(get_vb_expectations(vb_params_dict, use_logitnormal_sticks)[0].transpose())\n",
    "plt.ylabel('population')\n",
    "plt.xlabel('individual')"
   ]
  },
  {
   "cell_type": "code",
   "execution_count": null,
   "metadata": {},
   "outputs": [],
   "source": []
  },
  {
   "cell_type": "markdown",
   "metadata": {},
   "source": [
    "# Run CAVI"
   ]
  },
  {
   "cell_type": "code",
   "execution_count": 15,
   "metadata": {
    "scrolled": false
   },
   "outputs": [
    {
     "name": "stdout",
     "output_type": "stream",
     "text": [
      "CAVI compile time: 2.95sec\n",
      "\n",
      " running CAVI ...\n",
      "iteration [20]; kl:7569.486015; elapsed: 0.3072secs\n",
      "iteration [40]; kl:7523.255849; elapsed: 0.1888secs\n",
      "iteration [60]; kl:7501.677268; elapsed: 0.1683secs\n",
      "iteration [80]; kl:7498.590973; elapsed: 0.2437secs\n",
      "iteration [100]; kl:7492.391143; elapsed: 0.1802secs\n",
      "iteration [120]; kl:7477.893815; elapsed: 0.1668secs\n",
      "iteration [140]; kl:7477.302714; elapsed: 0.1478secs\n",
      "iteration [160]; kl:7477.110602; elapsed: 0.1575secs\n",
      "iteration [180]; kl:7477.037184; elapsed: 0.1508secs\n",
      "iteration [200]; kl:7477.009621; elapsed: 0.1728secs\n",
      "iteration [220]; kl:7476.990716; elapsed: 0.1579secs\n",
      "iteration [240]; kl:7476.977235; elapsed: 0.1749secs\n",
      "iteration [260]; kl:7476.967303; elapsed: 0.1701secs\n",
      "iteration [280]; kl:7476.95978; elapsed: 0.1753secs\n",
      "iteration [300]; kl:7476.953951; elapsed: 0.1578secs\n",
      "iteration [320]; kl:7476.949354; elapsed: 0.1809secs\n",
      "iteration [340]; kl:7476.94568; elapsed: 0.1676secs\n",
      "iteration [360]; kl:7476.942717; elapsed: 0.171secs\n",
      "iteration [380]; kl:7476.940316; elapsed: 0.1541secs\n",
      "iteration [400]; kl:7476.938363; elapsed: 0.1714secs\n",
      "iteration [420]; kl:7476.936776; elapsed: 0.1587secs\n",
      "iteration [440]; kl:7476.935489; elapsed: 0.1731secs\n",
      "CAVI done.\n",
      "Elapsed: 448 steps in 3.96 seconds\n"
     ]
    }
   ],
   "source": [
    "# get beta parameters for sticks and populations\n",
    "vb_opt_dict, vb_opt, ez_opt, kl_path, time_vec = \\\n",
    "    cavi_lib.run_cavi(g_obs, vb_params_dict, \n",
    "                        vb_params_paragami, \n",
    "                        prior_params_dict,\n",
    "                        gh_loc = gh_loc, gh_weights = gh_weights,\n",
    "                        max_iter = 1000,\n",
    "                        x_tol = 1e-3, \n",
    "                        print_every = 20)\n"
   ]
  },
  {
   "cell_type": "code",
   "execution_count": 16,
   "metadata": {},
   "outputs": [
    {
     "data": {
      "text/plain": [
       "DeviceArray(3.81495955, dtype=float64)"
      ]
     },
     "execution_count": 16,
     "metadata": {},
     "output_type": "execute_result"
    }
   ],
   "source": [
    "(vb_opt**2).mean()"
   ]
  },
  {
   "cell_type": "code",
   "execution_count": 17,
   "metadata": {},
   "outputs": [
    {
     "data": {
      "text/plain": [
       "DeviceArray(0.07810916, dtype=float64)"
      ]
     },
     "execution_count": 17,
     "metadata": {},
     "output_type": "execute_result"
    }
   ],
   "source": [
    "(ez_opt**2).mean()"
   ]
  },
  {
   "cell_type": "code",
   "execution_count": null,
   "metadata": {},
   "outputs": [],
   "source": []
  },
  {
   "cell_type": "markdown",
   "metadata": {},
   "source": [
    "# Check out the fit"
   ]
  },
  {
   "cell_type": "code",
   "execution_count": 18,
   "metadata": {},
   "outputs": [
    {
     "data": {
      "text/plain": [
       "<matplotlib.image.AxesImage at 0x7fc2921c0af0>"
      ]
     },
     "execution_count": 18,
     "metadata": {},
     "output_type": "execute_result"
    },
    {
     "data": {
      "image/png": "[encoded data removed]",
      "text/plain": [
       "<Figure size 1152x144 with 1 Axes>"
      ]
     },
     "metadata": {
      "needs_background": "light"
     },
     "output_type": "display_data"
    }
   ],
   "source": [
    "# truth\n",
    "plt.matshow(true_ind_admix_propn.T)"
   ]
  },
  {
   "cell_type": "code",
   "execution_count": 19,
   "metadata": {},
   "outputs": [
    {
     "data": {
      "text/plain": [
       "<matplotlib.image.AxesImage at 0x7fc29218da00>"
      ]
     },
     "execution_count": 19,
     "metadata": {},
     "output_type": "execute_result"
    },
    {
     "data": {
      "image/png": "[encoded data removed]",
      "text/plain": [
       "<Figure size 1152x184.32 with 1 Axes>"
      ]
     },
     "metadata": {
      "needs_background": "light"
     },
     "output_type": "display_data"
    }
   ],
   "source": [
    "# fitted\n",
    "e_ind_admix = get_vb_expectations(vb_opt_dict, use_logitnormal_sticks)[0]\n",
    "plt.matshow(e_ind_admix.T)"
   ]
  },
  {
   "cell_type": "markdown",
   "metadata": {},
   "source": [
    "# Define sensitivity object"
   ]
  },
  {
   "cell_type": "code",
   "execution_count": 20,
   "metadata": {},
   "outputs": [],
   "source": [
    "# initial prior alpha\n",
    "use_free_alpha = True\n",
    "prior_alpha0 = prior_params_paragami['dp_prior_alpha'].flatten(prior_params_dict['dp_prior_alpha'], \n",
    "                                                              free = use_free_alpha)"
   ]
  },
  {
   "cell_type": "code",
   "execution_count": 21,
   "metadata": {},
   "outputs": [],
   "source": [
    "# set up objective as function of vb params and prior param \n",
    "\n",
    "def objective_fun(vb_params_dict, alpha): \n",
    "    \n",
    "    _prior_params_dict = deepcopy(prior_params_dict)\n",
    "    _prior_params_dict['dp_prior_alpha'] = alpha\n",
    "    \n",
    "    return structure_model_lib.get_kl(g_obs, vb_params_dict, _prior_params_dict,\n",
    "                    gh_loc = gh_loc, gh_weights = gh_weights)\n",
    "\n",
    "\n",
    "objective_fun_free = paragami.FlattenFunctionInput(\n",
    "                                original_fun=objective_fun, \n",
    "                                patterns = [vb_params_paragami, prior_params_paragami['dp_prior_alpha']],\n",
    "                                free = [True, use_free_alpha],\n",
    "                                argnums = [0, 1])\n"
   ]
  },
  {
   "cell_type": "code",
   "execution_count": 22,
   "metadata": {},
   "outputs": [
    {
     "data": {
      "text/plain": [
       "DeviceArray(7476.93500793, dtype=float64)"
      ]
     },
     "execution_count": 22,
     "metadata": {},
     "output_type": "execute_result"
    }
   ],
   "source": [
    "objective_fun_free(vb_opt, prior_alpha0)"
   ]
  },
  {
   "cell_type": "markdown",
   "metadata": {},
   "source": [
    "### Set up hessian solver"
   ]
  },
  {
   "cell_type": "code",
   "execution_count": 23,
   "metadata": {},
   "outputs": [
    {
     "name": "stdout",
     "output_type": "stream",
     "text": [
      "preconditioner time: 0.3sec\n"
     ]
    }
   ],
   "source": [
    "t0 = time.time()\n",
    "mfvb_preconditioner = \\\n",
    "    get_mfvb_cov(vb_opt_dict, vb_params_paragami, use_logitnormal_sticks, return_info = True)\n",
    "\n",
    "print('preconditioner time: {:0.3}sec'.format(time.time() - t0))"
   ]
  },
  {
   "cell_type": "code",
   "execution_count": 24,
   "metadata": {},
   "outputs": [],
   "source": [
    "import vittles"
   ]
  },
  {
   "cell_type": "code",
   "execution_count": 25,
   "metadata": {},
   "outputs": [],
   "source": [
    "# get hessian-vector product\n",
    "def get_jac_hvp_fun(f):\n",
    "    def hvp(x, v):\n",
    "        return jax.jvp(jax.grad(f), (x, ), (v, ))[1]\n",
    "    return hvp"
   ]
  },
  {
   "cell_type": "code",
   "execution_count": 26,
   "metadata": {},
   "outputs": [],
   "source": [
    "obj_fun_hvp = jax.jit(get_jac_hvp_fun(lambda x : objective_fun_free(x, prior_alpha0)))"
   ]
  },
  {
   "cell_type": "code",
   "execution_count": 27,
   "metadata": {},
   "outputs": [],
   "source": [
    "cg_solver = vittles.solver_lib.get_cg_solver(lambda x : obj_fun_hvp(vb_opt, x), \n",
    "                                            dim = len(vb_opt), \n",
    "                                            cg_opts = {'M': mfvb_preconditioner})\n"
   ]
  },
  {
   "cell_type": "code",
   "execution_count": 28,
   "metadata": {},
   "outputs": [
    {
     "name": "stdout",
     "output_type": "stream",
     "text": [
      "Compiling objective function derivatives ... \n",
      "Compile time: 0.307sec\n",
      "\n",
      "Objective function derivative time: 0.000162sec\n",
      "\n",
      "Linear system compile time: 1.61sec\n",
      "Linear system time: 1.62sec\n"
     ]
    }
   ],
   "source": [
    "vb_sens = HyperparameterSensitivityLinearApproximation(objective_fun_free,\n",
    "                                                        vb_opt,\n",
    "                                                        prior_alpha0, \n",
    "                                                        hess_solver = cg_solver)\n"
   ]
  },
  {
   "cell_type": "code",
   "execution_count": null,
   "metadata": {},
   "outputs": [],
   "source": []
  },
  {
   "cell_type": "code",
   "execution_count": null,
   "metadata": {},
   "outputs": [],
   "source": []
  },
  {
   "cell_type": "markdown",
   "metadata": {},
   "source": [
    "# Perturb alpha. Check results"
   ]
  },
  {
   "cell_type": "code",
   "execution_count": 51,
   "metadata": {},
   "outputs": [],
   "source": [
    "# set new alpha \n",
    "new_alpha = np.array([5.])\n",
    "\n",
    "prior_params_pert_dict = deepcopy(prior_params_dict)\n",
    "prior_params_pert_dict['dp_prior_alpha'] = new_alpha\n"
   ]
  },
  {
   "cell_type": "code",
   "execution_count": 52,
   "metadata": {},
   "outputs": [
    {
     "name": "stdout",
     "output_type": "stream",
     "text": [
      "initial alpha,  [3.]\n",
      "perturbed alpha,  [5.]\n"
     ]
    }
   ],
   "source": [
    "print('initial alpha, ', prior_params_dict['dp_prior_alpha'])\n",
    "print('perturbed alpha, ', prior_params_pert_dict['dp_prior_alpha'])\n"
   ]
  },
  {
   "cell_type": "code",
   "execution_count": 53,
   "metadata": {},
   "outputs": [
    {
     "name": "stdout",
     "output_type": "stream",
     "text": [
      "l_inf diff:  9.237904359152814\n"
     ]
    }
   ],
   "source": [
    "# linear response prediction \n",
    "lr_vb_free_params = \\\n",
    "    vb_sens.predict_opt_par_from_hyper_par(\n",
    "        prior_params_paragami['dp_prior_alpha'].flatten(prior_params_pert_dict['dp_prior_alpha'], \n",
    "                                                        free = use_free_alpha))\n",
    "\n",
    "print('l_inf diff: ', np.max(np.abs(lr_vb_free_params - vb_opt)))\n"
   ]
  },
  {
   "cell_type": "code",
   "execution_count": 54,
   "metadata": {},
   "outputs": [
    {
     "data": {
      "text/plain": [
       "DeviceArray(4.48941641, dtype=float64)"
      ]
     },
     "execution_count": 54,
     "metadata": {},
     "output_type": "execute_result"
    }
   ],
   "source": [
    "(lr_vb_free_params**2).mean()"
   ]
  },
  {
   "cell_type": "code",
   "execution_count": null,
   "metadata": {},
   "outputs": [],
   "source": []
  },
  {
   "cell_type": "markdown",
   "metadata": {},
   "source": [
    "### reoptimize"
   ]
  },
  {
   "cell_type": "code",
   "execution_count": 32,
   "metadata": {},
   "outputs": [],
   "source": [
    "new_init_dict = deepcopy(vb_opt_dict)\n",
    "new_init_free = vb_params_paragami.flatten(new_init_dict, free = True)"
   ]
  },
  {
   "cell_type": "code",
   "execution_count": 33,
   "metadata": {},
   "outputs": [
    {
     "name": "stdout",
     "output_type": "stream",
     "text": [
      "CAVI compile time: 1.85sec\n",
      "\n",
      " running CAVI ...\n",
      "iteration [20]; kl:7709.586826; elapsed: 0.1756secs\n",
      "iteration [40]; kl:7707.715974; elapsed: 0.1915secs\n",
      "iteration [60]; kl:7707.304743; elapsed: 0.1719secs\n",
      "iteration [80]; kl:7707.221713; elapsed: 0.2545secs\n",
      "iteration [100]; kl:7707.203374; elapsed: 0.1876secs\n",
      "iteration [120]; kl:7707.19896; elapsed: 0.2026secs\n",
      "iteration [140]; kl:7707.197829; elapsed: 0.172secs\n",
      "iteration [160]; kl:7707.197546; elapsed: 0.1822secs\n",
      "iteration [180]; kl:7707.197472; elapsed: 0.1721secs\n",
      "iteration [200]; kl:7707.197451; elapsed: 0.1891secs\n",
      "CAVI done.\n",
      "Elapsed: 203 steps in 1.93 seconds\n"
     ]
    }
   ],
   "source": [
    "vb_pert_dict, vb_opt_pert, e_z_pert = \\\n",
    "    cavi_lib.run_cavi(g_obs, deepcopy(new_init_dict), \n",
    "                                            vb_params_paragami,\n",
    "                                            prior_params_pert_dict,\n",
    "                                            gh_loc = gh_loc, gh_weights = gh_weights,\n",
    "                                            max_iter = 1000,\n",
    "                                            x_tol = 1e-4, \n",
    "                                            print_every = 20)[0:3]"
   ]
  },
  {
   "cell_type": "markdown",
   "metadata": {},
   "source": [
    "### compare"
   ]
  },
  {
   "cell_type": "code",
   "execution_count": 34,
   "metadata": {},
   "outputs": [],
   "source": [
    "def print_diff_plot(lr_vb_free_params, vb_opt_pert, vb_opt): \n",
    "    plt.plot(lr_vb_free_params - vb_opt, \n",
    "             vb_opt_pert - vb_opt, \n",
    "             '+', color = 'red')\n",
    "\n",
    "    plt.plot(lr_vb_free_params - vb_opt, \n",
    "            lr_vb_free_params - vb_opt, \n",
    "             '-', color = 'blue')\n",
    "\n",
    "    plt.xlabel('lr')\n",
    "    plt.ylabel('re-optimized')\n"
   ]
  },
  {
   "cell_type": "code",
   "execution_count": 35,
   "metadata": {},
   "outputs": [
    {
     "data": {
      "image/png": "[encoded data removed]",
      "text/plain": [
       "<Figure size 432x288 with 1 Axes>"
      ]
     },
     "metadata": {
      "needs_background": "light"
     },
     "output_type": "display_data"
    }
   ],
   "source": [
    "# compare free parameters\n",
    "print_diff_plot(lr_vb_free_params, vb_opt_pert, vb_opt)"
   ]
  },
  {
   "cell_type": "code",
   "execution_count": 36,
   "metadata": {},
   "outputs": [],
   "source": [
    "# compare expectations\n",
    "init_e_ind_admix, init_e_pop_freq = get_vb_expectations(vb_opt_dict, use_logitnormal_sticks)\n",
    "pert_e_ind_admix, pert_e_pop_freq = get_vb_expectations(vb_pert_dict, use_logitnormal_sticks)\n",
    "lr_e_ind_admix, lr_e_pop_freq = get_vb_expectations(vb_params_paragami.fold(lr_vb_free_params, free = True), \n",
    "                                                    use_logitnormal_sticks)"
   ]
  },
  {
   "cell_type": "code",
   "execution_count": 37,
   "metadata": {},
   "outputs": [
    {
     "data": {
      "image/png": "[encoded data removed]",
      "text/plain": [
       "<Figure size 432x288 with 1 Axes>"
      ]
     },
     "metadata": {
      "needs_background": "light"
     },
     "output_type": "display_data"
    }
   ],
   "source": [
    "print_diff_plot(lr_e_ind_admix, pert_e_ind_admix, init_e_ind_admix)"
   ]
  },
  {
   "cell_type": "code",
   "execution_count": 38,
   "metadata": {},
   "outputs": [
    {
     "data": {
      "image/png": "[encoded data removed]",
      "text/plain": [
       "<Figure size 432x288 with 1 Axes>"
      ]
     },
     "metadata": {
      "needs_background": "light"
     },
     "output_type": "display_data"
    }
   ],
   "source": [
    "print_diff_plot(lr_e_pop_freq, pert_e_pop_freq, init_e_pop_freq)"
   ]
  },
  {
   "cell_type": "code",
   "execution_count": 39,
   "metadata": {},
   "outputs": [
    {
     "name": "stdout",
     "output_type": "stream",
     "text": [
      "init number of cluster:  6.6575153691676645\n",
      "pert number of cluster:  6.791736719834658\n",
      "lr number of cluster:  6.715959560279319\n"
     ]
    }
   ],
   "source": [
    "print('init number of cluster: ', cluster_quantities_lib.get_e_num_clusters_from_ez(init_e_ind_admix))\n",
    "\n",
    "print('pert number of cluster: ', cluster_quantities_lib.get_e_num_clusters_from_ez(pert_e_ind_admix))\n",
    "print('lr number of cluster: ', cluster_quantities_lib.get_e_num_clusters_from_ez(lr_e_ind_admix))"
   ]
  },
  {
   "cell_type": "code",
   "execution_count": null,
   "metadata": {},
   "outputs": [],
   "source": []
  },
  {
   "cell_type": "markdown",
   "metadata": {},
   "source": [
    "# Fit for a range of alpha"
   ]
  },
  {
   "cell_type": "code",
   "execution_count": 40,
   "metadata": {},
   "outputs": [],
   "source": [
    "alpha_list = np.arange(1, 8)"
   ]
  },
  {
   "cell_type": "code",
   "execution_count": 41,
   "metadata": {},
   "outputs": [],
   "source": [
    "def refit_with_alpha(alpha, new_init_dict):\n",
    "    # sets new alpha, returns new vb optimum\n",
    "    \n",
    "    # set new prior\n",
    "    new_alpha = np.array([alpha])\n",
    "\n",
    "    prior_params_pert_dict = deepcopy(prior_params_dict)\n",
    "    prior_params_pert_dict['dp_prior_alpha'] = new_alpha\n",
    "    \n",
    "    vb_opt_pert = cavi_lib.run_cavi(g_obs, deepcopy(new_init_dict), \n",
    "                                    vb_params_paragami,\n",
    "                                    prior_params_pert_dict,\n",
    "                                    gh_loc = gh_loc, gh_weights = gh_weights, \n",
    "                                    max_iter = 1000,\n",
    "                                    x_tol = 1e-3, \n",
    "                                    print_every = 20)[1]\n",
    "\n",
    "        \n",
    "    return vb_opt_pert\n"
   ]
  },
  {
   "cell_type": "code",
   "execution_count": 42,
   "metadata": {},
   "outputs": [
    {
     "name": "stdout",
     "output_type": "stream",
     "text": [
      "alphas:  [1 2 3 4 5 6 7]\n"
     ]
    }
   ],
   "source": [
    "print('alphas: ', alpha_list)"
   ]
  },
  {
   "cell_type": "code",
   "execution_count": 43,
   "metadata": {
    "scrolled": false
   },
   "outputs": [
    {
     "name": "stdout",
     "output_type": "stream",
     "text": [
      "\n",
      " re-optimzing with alpha =  1\n",
      "CAVI compile time: 2.46sec\n",
      "\n",
      " running CAVI ...\n",
      "iteration [20]; kl:7020.702091; elapsed: 0.1636secs\n",
      "iteration [40]; kl:7007.286488; elapsed: 0.1889secs\n",
      "iteration [60]; kl:7001.145095; elapsed: 0.1833secs\n",
      "iteration [80]; kl:6997.283711; elapsed: 0.2099secs\n",
      "iteration [100]; kl:6995.522633; elapsed: 0.1863secs\n",
      "iteration [120]; kl:6994.17346; elapsed: 0.1926secs\n",
      "iteration [140]; kl:6992.982878; elapsed: 0.1927secs\n",
      "iteration [160]; kl:6992.76356; elapsed: 0.3238secs\n",
      "iteration [180]; kl:6992.709417; elapsed: 0.1985secs\n",
      "iteration [200]; kl:6992.676544; elapsed: 0.3327secs\n",
      "iteration [220]; kl:6992.642335; elapsed: 0.2221secs\n",
      "iteration [240]; kl:6992.596735; elapsed: 0.2213secs\n",
      "iteration [260]; kl:6992.528885; elapsed: 0.2233secs\n",
      "iteration [280]; kl:6992.418417; elapsed: 0.2255secs\n",
      "iteration [300]; kl:6992.137848; elapsed: 0.224secs\n",
      "iteration [320]; kl:6991.285953; elapsed: 0.2102secs\n",
      "iteration [340]; kl:6988.898545; elapsed: 0.1962secs\n",
      "iteration [360]; kl:6987.228784; elapsed: 0.201secs\n",
      "iteration [380]; kl:6986.839003; elapsed: 0.2169secs\n",
      "iteration [400]; kl:6986.485045; elapsed: 0.2448secs\n",
      "iteration [420]; kl:6985.893156; elapsed: 0.2499secs\n",
      "iteration [440]; kl:6984.825453; elapsed: 0.237secs\n",
      "iteration [460]; kl:6982.093736; elapsed: 0.2057secs\n",
      "iteration [480]; kl:6977.769195; elapsed: 0.2316secs\n",
      "iteration [500]; kl:6971.969952; elapsed: 0.2115secs\n",
      "iteration [520]; kl:6965.111582; elapsed: 0.2445secs\n",
      "iteration [540]; kl:6955.573013; elapsed: 0.2442secs\n",
      "iteration [560]; kl:6945.74787; elapsed: 0.2182secs\n",
      "iteration [580]; kl:6930.228765; elapsed: 0.2336secs\n",
      "iteration [600]; kl:6927.60625; elapsed: 0.1845secs\n",
      "iteration [620]; kl:6926.379285; elapsed: 0.2059secs\n",
      "iteration [640]; kl:6925.19499; elapsed: 0.2125secs\n",
      "iteration [660]; kl:6924.886249; elapsed: 0.2094secs\n",
      "iteration [680]; kl:6924.749109; elapsed: 0.2525secs\n",
      "iteration [700]; kl:6924.623803; elapsed: 0.2331secs\n",
      "iteration [720]; kl:6924.365111; elapsed: 0.2362secs\n",
      "iteration [740]; kl:6923.705341; elapsed: 0.248secs\n",
      "iteration [760]; kl:6920.881226; elapsed: 0.2452secs\n",
      "iteration [780]; kl:6910.587662; elapsed: 0.1864secs\n",
      "iteration [800]; kl:6909.145064; elapsed: 0.1933secs\n",
      "iteration [820]; kl:6908.835476; elapsed: 0.1962secs\n",
      "iteration [840]; kl:6908.225489; elapsed: 0.2092secs\n",
      "iteration [860]; kl:6907.747726; elapsed: 0.2033secs\n",
      "iteration [880]; kl:6907.638202; elapsed: 0.2028secs\n",
      "iteration [900]; kl:6907.618919; elapsed: 0.1961secs\n",
      "iteration [920]; kl:6907.615708; elapsed: 0.2171secs\n",
      "CAVI done.\n",
      "Elapsed: 933 steps in 10.19 seconds\n",
      "\n",
      " re-optimzing with alpha =  2\n",
      "CAVI compile time: 1.81sec\n",
      "\n",
      " running CAVI ...\n",
      "iteration [20]; kl:7298.65104; elapsed: 0.1703secs\n",
      "iteration [40]; kl:7295.540588; elapsed: 0.198secs\n",
      "iteration [60]; kl:7294.093539; elapsed: 0.1934secs\n",
      "iteration [80]; kl:7292.548009; elapsed: 0.213secs\n",
      "iteration [100]; kl:7290.706479; elapsed: 0.1935secs\n",
      "iteration [120]; kl:7288.813867; elapsed: 0.2084secs\n",
      "iteration [140]; kl:7285.768136; elapsed: 0.178secs\n",
      "iteration [160]; kl:7284.392297; elapsed: 0.1967secs\n",
      "iteration [180]; kl:7283.957342; elapsed: 0.1895secs\n",
      "iteration [200]; kl:7283.606115; elapsed: 0.2104secs\n",
      "iteration [220]; kl:7282.863936; elapsed: 0.1931secs\n",
      "iteration [240]; kl:7282.625834; elapsed: 0.2083secs\n",
      "iteration [260]; kl:7282.568686; elapsed: 0.1919secs\n",
      "iteration [280]; kl:7282.537296; elapsed: 0.2171secs\n",
      "iteration [300]; kl:7282.518478; elapsed: 0.2063secs\n",
      "iteration [320]; kl:7282.502243; elapsed: 0.2352secs\n",
      "iteration [340]; kl:7282.483681; elapsed: 0.2237secs\n",
      "iteration [360]; kl:7282.460756; elapsed: 0.2237secs\n",
      "iteration [380]; kl:7282.430234; elapsed: 0.2301secs\n",
      "iteration [400]; kl:7282.386606; elapsed: 0.2415secs\n",
      "iteration [420]; kl:7282.320374; elapsed: 0.2261secs\n",
      "iteration [440]; kl:7282.206347; elapsed: 0.2306secs\n",
      "iteration [460]; kl:7281.827041; elapsed: 0.204secs\n",
      "iteration [480]; kl:7281.216862; elapsed: 0.2081secs\n",
      "iteration [500]; kl:7280.560521; elapsed: 0.2105secs\n",
      "iteration [520]; kl:7279.935489; elapsed: 0.2233secs\n",
      "iteration [540]; kl:7279.363022; elapsed: 0.1989secs\n",
      "iteration [560]; kl:7278.848202; elapsed: 0.2245secs\n",
      "iteration [580]; kl:7278.414855; elapsed: 0.2186secs\n",
      "iteration [600]; kl:7277.704648; elapsed: 0.2549secs\n",
      "iteration [620]; kl:7276.425815; elapsed: 0.2112secs\n",
      "iteration [640]; kl:7273.420796; elapsed: 0.2144secs\n",
      "iteration [660]; kl:7268.624136; elapsed: 0.2078secs\n",
      "iteration [680]; kl:7262.878943; elapsed: 0.2179secs\n",
      "iteration [700]; kl:7253.736491; elapsed: 0.254secs\n",
      "iteration [720]; kl:7243.091503; elapsed: 0.2185secs\n",
      "iteration [740]; kl:7233.790688; elapsed: 0.2255secs\n",
      "iteration [760]; kl:7224.556538; elapsed: 0.208secs\n",
      "iteration [780]; kl:7224.003998; elapsed: 0.2408secs\n",
      "iteration [800]; kl:7223.958764; elapsed: 0.228secs\n",
      "iteration [820]; kl:7223.946202; elapsed: 0.1938secs\n",
      "iteration [840]; kl:7223.942273; elapsed: 0.2162secs\n",
      "iteration [860]; kl:7223.939605; elapsed: 0.2072secs\n",
      "iteration [880]; kl:7223.937688; elapsed: 0.2119secs\n",
      "iteration [900]; kl:7223.936235; elapsed: 0.2259secs\n",
      "iteration [920]; kl:7223.935079; elapsed: 0.2047secs\n",
      "iteration [940]; kl:7223.934113; elapsed: 0.2262secs\n",
      "iteration [960]; kl:7223.933267; elapsed: 0.2292secs\n",
      "iteration [980]; kl:7223.932488; elapsed: 0.2268secs\n",
      "Done. Warning, max iterations reached. \n",
      "Elapsed: 999 steps in 10.73 seconds\n",
      "\n",
      " re-optimzing with alpha =  3\n",
      "CAVI compile time: 2.15sec\n",
      "\n",
      " running CAVI ...\n",
      "CAVI done.\n",
      "Elapsed: 2 steps in 0.02 seconds\n",
      "\n",
      " re-optimzing with alpha =  4\n",
      "CAVI compile time: 1.86sec\n",
      "\n",
      " running CAVI ...\n",
      "iteration [20]; kl:7606.874537; elapsed: 0.2071secs\n",
      "iteration [40]; kl:7606.206167; elapsed: 0.2432secs\n",
      "iteration [60]; kl:7606.045193; elapsed: 0.2441secs\n",
      "iteration [80]; kl:7605.99175; elapsed: 0.254secs\n",
      "iteration [100]; kl:7605.952226; elapsed: 0.26secs\n",
      "iteration [120]; kl:7605.92109; elapsed: 0.2565secs\n",
      "iteration [140]; kl:7605.896378; elapsed: 0.2638secs\n",
      "iteration [160]; kl:7605.877552; elapsed: 0.2275secs\n",
      "iteration [180]; kl:7605.864173; elapsed: 0.2117secs\n",
      "iteration [200]; kl:7605.855332; elapsed: 0.2333secs\n",
      "iteration [220]; kl:7605.849818; elapsed: 0.2089secs\n",
      "iteration [240]; kl:7605.846508; elapsed: 0.2116secs\n",
      "iteration [260]; kl:7605.844561; elapsed: 0.2118secs\n",
      "iteration [280]; kl:7605.843428; elapsed: 0.2112secs\n",
      "CAVI done.\n",
      "Elapsed: 288 steps in 3.34 seconds\n",
      "\n",
      " re-optimzing with alpha =  5\n",
      "CAVI compile time: 2.08sec\n",
      "\n",
      " running CAVI ...\n",
      "iteration [20]; kl:7709.586826; elapsed: 0.2117secs\n",
      "iteration [40]; kl:7707.715974; elapsed: 0.258secs\n",
      "iteration [60]; kl:7707.304743; elapsed: 0.1979secs\n",
      "iteration [80]; kl:7707.221713; elapsed: 0.2021secs\n",
      "iteration [100]; kl:7707.203374; elapsed: 0.1818secs\n",
      "CAVI done.\n",
      "Elapsed: 119 steps in 1.24 seconds\n",
      "\n",
      " re-optimzing with alpha =  6\n",
      "CAVI compile time: 1.9sec\n",
      "\n",
      " running CAVI ...\n",
      "iteration [20]; kl:7794.841075; elapsed: 0.2126secs\n",
      "iteration [40]; kl:7792.153344; elapsed: 0.2426secs\n",
      "iteration [60]; kl:7791.76885; elapsed: 0.2302secs\n",
      "iteration [80]; kl:7791.698662; elapsed: 0.2418secs\n",
      "iteration [100]; kl:7791.684028; elapsed: 0.2825secs\n",
      "CAVI done.\n",
      "Elapsed: 111 steps in 1.34 seconds\n",
      "\n",
      " re-optimzing with alpha =  7\n",
      "CAVI compile time: 1.87sec\n",
      "\n",
      " running CAVI ...\n",
      "iteration [20]; kl:7868.937053; elapsed: 0.1777secs\n",
      "iteration [40]; kl:7865.053088; elapsed: 0.2078secs\n",
      "iteration [60]; kl:7864.552624; elapsed: 0.2068secs\n",
      "iteration [80]; kl:7864.456917; elapsed: 0.2517secs\n",
      "iteration [100]; kl:7864.436366; elapsed: 0.2437secs\n",
      "CAVI done.\n",
      "Elapsed: 110 steps in 1.2 seconds\n"
     ]
    }
   ],
   "source": [
    "vb_pert_list = []\n",
    "for alpha in alpha_list: \n",
    "    print('\\n re-optimzing with alpha = ', alpha)\n",
    "    \n",
    "    vb_pert_list.append(refit_with_alpha(alpha, new_init_dict))\n"
   ]
  },
  {
   "cell_type": "markdown",
   "metadata": {},
   "source": [
    "# Check free parameters"
   ]
  },
  {
   "cell_type": "code",
   "execution_count": 44,
   "metadata": {},
   "outputs": [],
   "source": [
    "lr_list = []\n",
    "\n",
    "for alpha in alpha_list: \n",
    "    \n",
    "    # set alpha \n",
    "    new_alpha = np.array([alpha])\n",
    "    prior_params_pert_dict = deepcopy(prior_params_dict)\n",
    "    prior_params_pert_dict['dp_prior_alpha'] = new_alpha\n",
    "    \n",
    "    # get linear response\n",
    "    lr_list.append(vb_sens.predict_opt_par_from_hyper_par(\n",
    "        prior_params_paragami['dp_prior_alpha'].flatten(prior_params_pert_dict['dp_prior_alpha'], \n",
    "                                                        free = use_free_alpha)))\n"
   ]
  },
  {
   "cell_type": "code",
   "execution_count": 45,
   "metadata": {
    "scrolled": false
   },
   "outputs": [
    {
     "data": {
      "image/png": "[encoded data removed]",
      "text/plain": [
       "<Figure size 432x288 with 1 Axes>"
      ]
     },
     "metadata": {
      "needs_background": "light"
     },
     "output_type": "display_data"
    },
    {
     "data": {
      "image/png": "[encoded data removed]",
      "text/plain": [
       "<Figure size 432x288 with 1 Axes>"
      ]
     },
     "metadata": {
      "needs_background": "light"
     },
     "output_type": "display_data"
    },
    {
     "data": {
      "image/png": "[encoded data removed]",
      "text/plain": [
       "<Figure size 432x288 with 1 Axes>"
      ]
     },
     "metadata": {
      "needs_background": "light"
     },
     "output_type": "display_data"
    },
    {
     "data": {
      "image/png": "[encoded data removed]",
      "text/plain": [
       "<Figure size 432x288 with 1 Axes>"
      ]
     },
     "metadata": {
      "needs_background": "light"
     },
     "output_type": "display_data"
    },
    {
     "data": {
      "image/png": "[encoded data removed]",
      "text/plain": [
       "<Figure size 432x288 with 1 Axes>"
      ]
     },
     "metadata": {
      "needs_background": "light"
     },
     "output_type": "display_data"
    },
    {
     "data": {
      "image/png": "[encoded data removed]",
      "text/plain": [
       "<Figure size 432x288 with 1 Axes>"
      ]
     },
     "metadata": {
      "needs_background": "light"
     },
     "output_type": "display_data"
    },
    {
     "data": {
      "image/png": "[encoded data removed]",
      "text/plain": [
       "<Figure size 432x288 with 1 Axes>"
      ]
     },
     "metadata": {
      "needs_background": "light"
     },
     "output_type": "display_data"
    }
   ],
   "source": [
    "for i in range(len(alpha_list)): \n",
    "    plt.figure()\n",
    "    print_diff_plot(lr_list[i], vb_pert_list[i], vb_opt)\n",
    "    \n",
    "    plt.title('alpha = {}'.format(alpha_list[i]))\n"
   ]
  },
  {
   "cell_type": "markdown",
   "metadata": {},
   "source": [
    "# Number of clusters"
   ]
  },
  {
   "cell_type": "code",
   "execution_count": 47,
   "metadata": {},
   "outputs": [],
   "source": [
    "import numpy as onp"
   ]
  },
  {
   "cell_type": "code",
   "execution_count": 48,
   "metadata": {},
   "outputs": [],
   "source": [
    "lr_e_num_clusters_vec = onp.zeros(len(alpha_list))\n",
    "refit_e_num_clusters_vec = onp.zeros(len(alpha_list))\n",
    "\n",
    "for i in range(len(alpha_list)): \n",
    "    \n",
    "    # get dictionaries\n",
    "    pert_dict = vb_params_paragami.fold(vb_pert_list[i], free = True)\n",
    "    lr_dict = vb_params_paragami.fold(lr_list[i], free = True)\n",
    "    \n",
    "    # get posterior expectations\n",
    "    pert_e_ind_admix, pert_e_pop_freq = get_vb_expectations(pert_dict, use_logitnormal_sticks)\n",
    "    lr_e_ind_admix, lr_e_pop_freq = get_vb_expectations(lr_dict, use_logitnormal_sticks)\n",
    "    \n",
    "    # get number of clusters\n",
    "    refit_e_num_clusters_vec[i] = cluster_quantities_lib.get_e_num_clusters_from_ez(pert_e_ind_admix)\n",
    "    lr_e_num_clusters_vec[i] = cluster_quantities_lib.get_e_num_clusters_from_ez(lr_e_ind_admix)\n"
   ]
  },
  {
   "cell_type": "code",
   "execution_count": 49,
   "metadata": {},
   "outputs": [
    {
     "data": {
      "text/plain": [
       "<matplotlib.lines.Line2D at 0x7fc291e94430>"
      ]
     },
     "execution_count": 49,
     "metadata": {},
     "output_type": "execute_result"
    },
    {
     "data": {
      "image/png": "[encoded data removed]",
      "text/plain": [
       "<Figure size 432x288 with 1 Axes>"
      ]
     },
     "metadata": {
      "needs_background": "light"
     },
     "output_type": "display_data"
    }
   ],
   "source": [
    "plt.plot(alpha_list, lr_e_num_clusters_vec, '+--')\n",
    "plt.plot(alpha_list, refit_e_num_clusters_vec, '+-')\n",
    "\n",
    "plt.xlabel('alpha')\n",
    "plt.ylabel('num posterior clusters')\n",
    "plt.legend(('lr', 'refit'))\n",
    "\n",
    "plt.axvline(prior_params_dict['dp_prior_alpha'], color = 'red', linestyle = 'dashed')"
   ]
  },
  {
   "cell_type": "code",
   "execution_count": null,
   "metadata": {},
   "outputs": [],
   "source": []
  },
  {
   "cell_type": "code",
   "execution_count": null,
   "metadata": {},
   "outputs": [],
   "source": []
  }
 ],
 "metadata": {
  "kernelspec": {
   "display_name": "bnp_sensitivity_jax",
   "language": "python",
   "name": "bnp_sensitivity_jax"
  },
  "language_info": {
   "codemirror_mode": {
    "name": "ipython",
    "version": 3
   },
   "file_extension": ".py",
   "mimetype": "text/x-python",
   "name": "python",
   "nbconvert_exporter": "python",
   "pygments_lexer": "ipython3",
   "version": "3.8.0"
  }
 },
 "nbformat": 4,
 "nbformat_minor": 2
}
