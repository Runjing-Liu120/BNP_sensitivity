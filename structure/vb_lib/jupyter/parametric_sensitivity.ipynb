{
 "cells": [
  {
   "cell_type": "markdown",
   "metadata": {},
   "source": [
    "Here, we examine parametric sensitivity of the structure model on a small simulated dataset"
   ]
  },
  {
   "cell_type": "code",
   "execution_count": 26,
   "metadata": {},
   "outputs": [],
   "source": [
    "import jax\n",
    "\n",
    "import jax.numpy as np\n",
    "import jax.scipy as sp\n",
    "\n",
    "from numpy.polynomial.hermite import hermgauss\n",
    "import scipy as osp\n",
    "\n",
    "from vb_lib import structure_model_lib, data_utils, cavi_lib\n",
    "from vb_lib.preconditioner_lib import get_mfvb_cov_matmul\n",
    "from bnpmodeling_runjingdev.sensitivity_lib import HyperparameterSensitivityLinearApproximation, get_jac_hvp_fun\n",
    "\n",
    "import paragami\n",
    "\n",
    "from copy import deepcopy\n",
    "\n",
    "import time\n",
    "\n",
    "import matplotlib.pyplot as plt\n",
    "%matplotlib inline  \n",
    "\n",
    "from bnpmodeling_runjingdev import cluster_quantities_lib, modeling_lib\n"
   ]
  },
  {
   "cell_type": "code",
   "execution_count": 3,
   "metadata": {},
   "outputs": [],
   "source": [
    "import numpy as onp\n",
    "onp.random.seed(53453)"
   ]
  },
  {
   "cell_type": "markdown",
   "metadata": {
    "collapsed": true
   },
   "source": [
    "# Draw data"
   ]
  },
  {
   "cell_type": "code",
   "execution_count": 4,
   "metadata": {},
   "outputs": [],
   "source": [
    "n_obs = 50\n",
    "n_loci = 100\n",
    "n_pop = 4"
   ]
  },
  {
   "cell_type": "code",
   "execution_count": 5,
   "metadata": {},
   "outputs": [],
   "source": [
    "g_obs, true_pop_allele_freq, true_ind_admix_propn = \\\n",
    "    data_utils.draw_data(n_obs, n_loci, n_pop)"
   ]
  },
  {
   "cell_type": "code",
   "execution_count": 6,
   "metadata": {
    "scrolled": true
   },
   "outputs": [
    {
     "data": {
      "text/plain": [
       "Text(0.5, 0, 'individual')"
      ]
     },
     "execution_count": 6,
     "metadata": {},
     "output_type": "execute_result"
    },
    {
     "data": {
      "image/png": "[encoded data removed]",
      "text/plain": [
       "<Figure size 1152x144 with 1 Axes>"
      ]
     },
     "metadata": {
      "needs_background": "light"
     },
     "output_type": "display_data"
    }
   ],
   "source": [
    "plt.matshow(true_ind_admix_propn.T)\n",
    "plt.ylabel('population')\n",
    "plt.xlabel('individual')"
   ]
  },
  {
   "cell_type": "code",
   "execution_count": 7,
   "metadata": {
    "scrolled": true
   },
   "outputs": [
    {
     "data": {
      "text/plain": [
       "(50, 100, 3)"
      ]
     },
     "execution_count": 7,
     "metadata": {},
     "output_type": "execute_result"
    }
   ],
   "source": [
    "g_obs.shape"
   ]
  },
  {
   "cell_type": "markdown",
   "metadata": {},
   "source": [
    "# Get prior"
   ]
  },
  {
   "cell_type": "code",
   "execution_count": 8,
   "metadata": {},
   "outputs": [
    {
     "name": "stdout",
     "output_type": "stream",
     "text": [
      "OrderedDict:\n",
      "\t[dp_prior_alpha] = NumericArrayPattern (1,) (lb=0.0, ub=inf)\n",
      "\t[allele_prior_alpha] = NumericArrayPattern (1,) (lb=0.0, ub=inf)\n",
      "\t[allele_prior_beta] = NumericArrayPattern (1,) (lb=0.0, ub=inf)\n"
     ]
    }
   ],
   "source": [
    "prior_params_dict, prior_params_paragami = \\\n",
    "    structure_model_lib.get_default_prior_params()\n",
    "\n",
    "print(prior_params_paragami)\n",
    "\n",
    "prior_params_free = prior_params_paragami.flatten(prior_params_dict, free = True)"
   ]
  },
  {
   "cell_type": "markdown",
   "metadata": {},
   "source": [
    "# Get VB params "
   ]
  },
  {
   "cell_type": "code",
   "execution_count": 9,
   "metadata": {},
   "outputs": [],
   "source": [
    "k_approx = 8"
   ]
  },
  {
   "cell_type": "code",
   "execution_count": 10,
   "metadata": {},
   "outputs": [],
   "source": [
    "gh_deg = 8\n",
    "gh_loc, gh_weights = hermgauss(8)"
   ]
  },
  {
   "cell_type": "code",
   "execution_count": 11,
   "metadata": {
    "scrolled": true
   },
   "outputs": [
    {
     "name": "stdout",
     "output_type": "stream",
     "text": [
      "OrderedDict:\n",
      "\t[pop_freq_beta_params] = NumericArrayPattern (100, 8, 2) (lb=0.0, ub=inf)\n",
      "\t[ind_mix_stick_propn_mean] = NumericArrayPattern (50, 7) (lb=-inf, ub=inf)\n",
      "\t[ind_mix_stick_propn_info] = NumericArrayPattern (50, 7) (lb=0.0001, ub=inf)\n"
     ]
    }
   ],
   "source": [
    "use_logitnormal_sticks = True\n",
    "\n",
    "vb_params_dict, vb_params_paragami = \\\n",
    "    structure_model_lib.get_vb_params_paragami_object(n_obs, n_loci, k_approx,\n",
    "                                    use_logitnormal_sticks = use_logitnormal_sticks)\n",
    "    \n",
    "print(vb_params_paragami)"
   ]
  },
  {
   "cell_type": "markdown",
   "metadata": {},
   "source": [
    "## Initialize "
   ]
  },
  {
   "cell_type": "code",
   "execution_count": 12,
   "metadata": {},
   "outputs": [],
   "source": [
    "vb_params_dict = \\\n",
    "        structure_model_lib.set_init_vb_params(g_obs, k_approx, vb_params_dict,\n",
    "                                                seed = 34221)"
   ]
  },
  {
   "cell_type": "code",
   "execution_count": 13,
   "metadata": {},
   "outputs": [
    {
     "data": {
      "text/plain": [
       "odict_keys(['pop_freq_beta_params', 'ind_mix_stick_propn_mean', 'ind_mix_stick_propn_info'])"
      ]
     },
     "execution_count": 13,
     "metadata": {},
     "output_type": "execute_result"
    }
   ],
   "source": [
    "vb_params_dict.keys()"
   ]
  },
  {
   "cell_type": "code",
   "execution_count": 14,
   "metadata": {},
   "outputs": [],
   "source": [
    "def get_vb_expectations(vb_params_dict, use_logitnormal_sticks): \n",
    "    if use_logitnormal_sticks: \n",
    "        e_ind_admix = cluster_quantities_lib.get_e_cluster_probabilities(\n",
    "                            vb_params_dict['ind_mix_stick_propn_mean'], \n",
    "                            vb_params_dict['ind_mix_stick_propn_info'],\n",
    "                            gh_loc, gh_weights)\n",
    "\n",
    "    else: \n",
    "        ind_mix_stick_beta_params = vb_params_dict['ind_mix_stick_beta_params']\n",
    "        e_stick_lengths = \\\n",
    "                modeling_lib.get_e_beta(ind_mix_stick_beta_params)\n",
    "        e_ind_admix = cluster_quantities_lib.get_mixture_weights_from_stick_break_propns(e_stick_lengths)\n",
    "\n",
    "    e_pop_freq = modeling_lib.get_e_beta(vb_params_dict['pop_freq_beta_params'])\n",
    "    \n",
    "    return e_ind_admix, e_pop_freq"
   ]
  },
  {
   "cell_type": "code",
   "execution_count": 15,
   "metadata": {},
   "outputs": [
    {
     "data": {
      "text/plain": [
       "Text(0.5, 0, 'individual')"
      ]
     },
     "execution_count": 15,
     "metadata": {},
     "output_type": "execute_result"
    },
    {
     "data": {
      "image/png": "[encoded data removed]",
      "text/plain": [
       "<Figure size 1152x184.32 with 1 Axes>"
      ]
     },
     "metadata": {
      "needs_background": "light"
     },
     "output_type": "display_data"
    }
   ],
   "source": [
    "plt.matshow(get_vb_expectations(vb_params_dict, use_logitnormal_sticks)[0].transpose())\n",
    "plt.ylabel('population')\n",
    "plt.xlabel('individual')"
   ]
  },
  {
   "cell_type": "code",
   "execution_count": null,
   "metadata": {},
   "outputs": [],
   "source": []
  },
  {
   "cell_type": "markdown",
   "metadata": {},
   "source": [
    "# Run CAVI"
   ]
  },
  {
   "cell_type": "code",
   "execution_count": 16,
   "metadata": {
    "scrolled": false
   },
   "outputs": [
    {
     "name": "stdout",
     "output_type": "stream",
     "text": [
      "CAVI compile time: 7.09sec\n",
      "\n",
      " running CAVI ...\n",
      "iteration [20]; kl:7505.064954; elapsed: 0.5953secs\n",
      "iteration [40]; kl:7477.873913; elapsed: 0.5719secs\n",
      "iteration [60]; kl:7476.999381; elapsed: 0.4457secs\n",
      "iteration [80]; kl:7476.948125; elapsed: 0.4452secs\n",
      "iteration [100]; kl:7476.937485; elapsed: 0.4422secs\n",
      "iteration [120]; kl:7476.933594; elapsed: 0.5664secs\n",
      "iteration [140]; kl:7476.931896; elapsed: 0.5233secs\n",
      "iteration [160]; kl:7476.931109; elapsed: 0.4407secs\n",
      "iteration [180]; kl:7476.930734; elapsed: 0.4859secs\n",
      "iteration [200]; kl:7476.930554; elapsed: 0.469secs\n",
      "CAVI done.\n",
      "Elapsed: 208 steps in 5.17 seconds\n"
     ]
    }
   ],
   "source": [
    "# get beta parameters for sticks and populations\n",
    "vb_opt_dict, vb_opt, kl_path, time_vec = \\\n",
    "    cavi_lib.run_cavi(g_obs, vb_params_dict, \n",
    "                        vb_params_paragami, \n",
    "                        prior_params_dict,\n",
    "                        gh_loc = gh_loc, gh_weights = gh_weights,\n",
    "                        max_iter = 1000,\n",
    "                        x_tol = 1e-3, \n",
    "                        print_every = 20)\n"
   ]
  },
  {
   "cell_type": "code",
   "execution_count": 17,
   "metadata": {},
   "outputs": [
    {
     "data": {
      "text/plain": [
       "DeviceArray(3.81604597, dtype=float64)"
      ]
     },
     "execution_count": 17,
     "metadata": {},
     "output_type": "execute_result"
    }
   ],
   "source": [
    "(vb_opt**2).mean()"
   ]
  },
  {
   "cell_type": "code",
   "execution_count": null,
   "metadata": {},
   "outputs": [],
   "source": []
  },
  {
   "cell_type": "markdown",
   "metadata": {},
   "source": [
    "# Check out the fit"
   ]
  },
  {
   "cell_type": "code",
   "execution_count": 18,
   "metadata": {},
   "outputs": [
    {
     "data": {
      "text/plain": [
       "<matplotlib.image.AxesImage at 0x7f4910a0b700>"
      ]
     },
     "execution_count": 18,
     "metadata": {},
     "output_type": "execute_result"
    },
    {
     "data": {
      "image/png": "[encoded data removed]",
      "text/plain": [
       "<Figure size 1152x144 with 1 Axes>"
      ]
     },
     "metadata": {
      "needs_background": "light"
     },
     "output_type": "display_data"
    }
   ],
   "source": [
    "# truth\n",
    "plt.matshow(true_ind_admix_propn.T)"
   ]
  },
  {
   "cell_type": "code",
   "execution_count": 19,
   "metadata": {},
   "outputs": [
    {
     "data": {
      "text/plain": [
       "<matplotlib.image.AxesImage at 0x7f49109808b0>"
      ]
     },
     "execution_count": 19,
     "metadata": {},
     "output_type": "execute_result"
    },
    {
     "data": {
      "image/png": "[encoded data removed]",
      "text/plain": [
       "<Figure size 1152x184.32 with 1 Axes>"
      ]
     },
     "metadata": {
      "needs_background": "light"
     },
     "output_type": "display_data"
    }
   ],
   "source": [
    "# fitted\n",
    "e_ind_admix = get_vb_expectations(vb_opt_dict, use_logitnormal_sticks)[0]\n",
    "plt.matshow(e_ind_admix.T)"
   ]
  },
  {
   "cell_type": "markdown",
   "metadata": {},
   "source": [
    "# Define sensitivity object"
   ]
  },
  {
   "cell_type": "code",
   "execution_count": 20,
   "metadata": {},
   "outputs": [],
   "source": [
    "# initial prior alpha\n",
    "use_free_alpha = True\n",
    "prior_alpha0 = prior_params_paragami['dp_prior_alpha'].flatten(prior_params_dict['dp_prior_alpha'], \n",
    "                                                              free = use_free_alpha)"
   ]
  },
  {
   "cell_type": "code",
   "execution_count": 21,
   "metadata": {},
   "outputs": [],
   "source": [
    "# set up objective as function of vb params and prior param \n",
    "\n",
    "def objective_fun(vb_params_dict, alpha): \n",
    "    \n",
    "    _prior_params_dict = deepcopy(prior_params_dict)\n",
    "    _prior_params_dict['dp_prior_alpha'] = alpha\n",
    "    \n",
    "    return structure_model_lib.get_kl(g_obs, vb_params_dict, _prior_params_dict,\n",
    "                    gh_loc = gh_loc, gh_weights = gh_weights)\n",
    "\n",
    "\n",
    "objective_fun_free = paragami.FlattenFunctionInput(\n",
    "                                original_fun=objective_fun, \n",
    "                                patterns = [vb_params_paragami, prior_params_paragami['dp_prior_alpha']],\n",
    "                                free = [True, use_free_alpha],\n",
    "                                argnums = [0, 1])\n"
   ]
  },
  {
   "cell_type": "code",
   "execution_count": 22,
   "metadata": {},
   "outputs": [
    {
     "data": {
      "text/plain": [
       "DeviceArray(7476.9305112, dtype=float64)"
      ]
     },
     "execution_count": 22,
     "metadata": {},
     "output_type": "execute_result"
    }
   ],
   "source": [
    "objective_fun_free(vb_opt, prior_alpha0)"
   ]
  },
  {
   "cell_type": "markdown",
   "metadata": {},
   "source": [
    "### Set up hessian solver"
   ]
  },
  {
   "cell_type": "code",
   "execution_count": 24,
   "metadata": {},
   "outputs": [
    {
     "name": "stdout",
     "output_type": "stream",
     "text": [
      "preconditioner compile time: 0.796sec\n"
     ]
    }
   ],
   "source": [
    "# define preconditioner\n",
    "precon_fun = jax.jit(lambda v : get_mfvb_cov_matmul(v, vb_opt_dict,\n",
    "                                            vb_params_paragami,\n",
    "                                            return_info = True))\n",
    "t0 = time.time()\n",
    "_ = precon_fun(vb_opt)\n",
    "print('preconditioner compile time: {:0.3}sec'.format(time.time() - t0))"
   ]
  },
  {
   "cell_type": "code",
   "execution_count": 28,
   "metadata": {},
   "outputs": [
    {
     "name": "stdout",
     "output_type": "stream",
     "text": [
      "1.7 ms ± 85.4 µs per loop (mean ± std. dev. of 7 runs, 100 loops each)\n"
     ]
    }
   ],
   "source": [
    "M_op = osp.sparse.linalg.LinearOperator((len(vb_opt), len(vb_opt)), precon_fun)\n",
    "\n",
    "# actual preconditioner time\n",
    "%timeit M_op(vb_opt)"
   ]
  },
  {
   "cell_type": "code",
   "execution_count": 29,
   "metadata": {},
   "outputs": [],
   "source": [
    "from vittles import solver_lib"
   ]
  },
  {
   "cell_type": "code",
   "execution_count": 30,
   "metadata": {},
   "outputs": [],
   "source": [
    "obj_fun_hvp = jax.jit(get_jac_hvp_fun(lambda x : objective_fun_free(x, prior_alpha0)))"
   ]
  },
  {
   "cell_type": "code",
   "execution_count": 31,
   "metadata": {},
   "outputs": [],
   "source": [
    "cg_solver = solver_lib.get_cg_solver(lambda x : obj_fun_hvp(vb_opt, x), \n",
    "                                            dim = len(vb_opt), \n",
    "                                            cg_opts = {'M': M_op})"
   ]
  },
  {
   "cell_type": "code",
   "execution_count": 32,
   "metadata": {},
   "outputs": [
    {
     "name": "stdout",
     "output_type": "stream",
     "text": [
      "Compiling objective function derivatives ... \n",
      "Compile time: 0.419sec\n",
      "\n",
      "Objective function derivative time: 0.000347sec\n",
      "\n",
      "Linear system compile time: 1.15sec\n",
      "Linear system time: 1.05sec\n"
     ]
    }
   ],
   "source": [
    "vb_sens = HyperparameterSensitivityLinearApproximation(objective_fun_free,\n",
    "                                                        vb_opt,\n",
    "                                                        prior_alpha0, \n",
    "                                                        hess_solver = cg_solver)\n"
   ]
  },
  {
   "cell_type": "code",
   "execution_count": 33,
   "metadata": {},
   "outputs": [
    {
     "data": {
      "text/plain": [
       "array([-0.43841765, -0.15982636, -1.35231118, ...,  1.05641498,\n",
       "        0.96902297,  1.05375975])"
      ]
     },
     "execution_count": 33,
     "metadata": {},
     "output_type": "execute_result"
    }
   ],
   "source": [
    "vb_sens.dinput_dhyper"
   ]
  },
  {
   "cell_type": "code",
   "execution_count": 34,
   "metadata": {},
   "outputs": [],
   "source": [
    "?np.save"
   ]
  },
  {
   "cell_type": "markdown",
   "metadata": {},
   "source": [
    "# Perturb alpha. Check results"
   ]
  },
  {
   "cell_type": "code",
   "execution_count": 28,
   "metadata": {},
   "outputs": [],
   "source": [
    "# set new alpha \n",
    "new_alpha = np.array([5.])\n",
    "\n",
    "prior_params_pert_dict = deepcopy(prior_params_dict)\n",
    "prior_params_pert_dict['dp_prior_alpha'] = new_alpha\n"
   ]
  },
  {
   "cell_type": "code",
   "execution_count": 29,
   "metadata": {},
   "outputs": [
    {
     "name": "stdout",
     "output_type": "stream",
     "text": [
      "initial alpha,  [3.]\n",
      "perturbed alpha,  [5.]\n"
     ]
    }
   ],
   "source": [
    "print('initial alpha, ', prior_params_dict['dp_prior_alpha'])\n",
    "print('perturbed alpha, ', prior_params_pert_dict['dp_prior_alpha'])\n"
   ]
  },
  {
   "cell_type": "code",
   "execution_count": 30,
   "metadata": {},
   "outputs": [
    {
     "name": "stdout",
     "output_type": "stream",
     "text": [
      "l_inf diff:  5.982956163391248\n"
     ]
    }
   ],
   "source": [
    "# linear response prediction \n",
    "lr_vb_free_params = \\\n",
    "    vb_sens.predict_opt_par_from_hyper_par(\n",
    "        prior_params_paragami['dp_prior_alpha'].flatten(prior_params_pert_dict['dp_prior_alpha'], \n",
    "                                                        free = use_free_alpha))\n",
    "\n",
    "print('l_inf diff: ', np.max(np.abs(lr_vb_free_params - vb_opt)))\n"
   ]
  },
  {
   "cell_type": "code",
   "execution_count": 31,
   "metadata": {},
   "outputs": [
    {
     "data": {
      "text/plain": [
       "DeviceArray(4.35921903, dtype=float64)"
      ]
     },
     "execution_count": 31,
     "metadata": {},
     "output_type": "execute_result"
    }
   ],
   "source": [
    "(lr_vb_free_params**2).mean()"
   ]
  },
  {
   "cell_type": "code",
   "execution_count": null,
   "metadata": {},
   "outputs": [],
   "source": []
  },
  {
   "cell_type": "markdown",
   "metadata": {},
   "source": [
    "### reoptimize"
   ]
  },
  {
   "cell_type": "code",
   "execution_count": 34,
   "metadata": {},
   "outputs": [],
   "source": [
    "new_init_dict = deepcopy(vb_opt_dict)\n",
    "new_init_free = vb_params_paragami.flatten(new_init_dict, free = True)"
   ]
  },
  {
   "cell_type": "code",
   "execution_count": 35,
   "metadata": {},
   "outputs": [
    {
     "name": "stdout",
     "output_type": "stream",
     "text": [
      "CAVI compile time: 4.74sec\n",
      "\n",
      " running CAVI ...\n",
      "iteration [20]; kl:7708.307462; elapsed: 0.6485secs\n",
      "iteration [40]; kl:7707.346545; elapsed: 0.6392secs\n",
      "iteration [60]; kl:7707.220739; elapsed: 0.6876secs\n",
      "iteration [80]; kl:7707.201189; elapsed: 0.7242secs\n",
      "iteration [100]; kl:7707.198108; elapsed: 0.6773secs\n",
      "iteration [120]; kl:7707.197569; elapsed: 0.6464secs\n",
      "iteration [140]; kl:7707.197467; elapsed: 0.6339secs\n",
      "iteration [160]; kl:7707.197448; elapsed: 0.5893secs\n",
      "iteration [180]; kl:7707.197444; elapsed: 0.5985secs\n",
      "CAVI done.\n",
      "Elapsed: 184 steps in 5.95 seconds\n"
     ]
    }
   ],
   "source": [
    "vb_pert_dict, vb_opt_pert = \\\n",
    "    cavi_lib.run_cavi(g_obs, \n",
    "                        deepcopy(new_init_dict), \n",
    "                        vb_params_paragami,\n",
    "                        prior_params_pert_dict,\n",
    "                        gh_loc = gh_loc, gh_weights = gh_weights,\n",
    "                        max_iter = 1000,\n",
    "                        x_tol = 1e-4, \n",
    "                        print_every = 20)[0:2]"
   ]
  },
  {
   "cell_type": "markdown",
   "metadata": {},
   "source": [
    "### compare"
   ]
  },
  {
   "cell_type": "code",
   "execution_count": 36,
   "metadata": {},
   "outputs": [],
   "source": [
    "def print_diff_plot(lr_vb_free_params, vb_opt_pert, vb_opt): \n",
    "    plt.plot(lr_vb_free_params - vb_opt, \n",
    "             vb_opt_pert - vb_opt, \n",
    "             '+', color = 'red')\n",
    "\n",
    "    plt.plot(lr_vb_free_params - vb_opt, \n",
    "            lr_vb_free_params - vb_opt, \n",
    "             '-', color = 'blue')\n",
    "\n",
    "    plt.xlabel('lr')\n",
    "    plt.ylabel('re-optimized')\n"
   ]
  },
  {
   "cell_type": "code",
   "execution_count": 37,
   "metadata": {},
   "outputs": [
    {
     "data": {
      "image/png": "[encoded data removed]",
      "text/plain": [
       "<Figure size 432x288 with 1 Axes>"
      ]
     },
     "metadata": {
      "needs_background": "light"
     },
     "output_type": "display_data"
    }
   ],
   "source": [
    "# compare free parameters\n",
    "print_diff_plot(lr_vb_free_params, vb_opt_pert, vb_opt)"
   ]
  },
  {
   "cell_type": "code",
   "execution_count": 38,
   "metadata": {},
   "outputs": [],
   "source": [
    "# compare expectations\n",
    "init_e_ind_admix, init_e_pop_freq = get_vb_expectations(vb_opt_dict, use_logitnormal_sticks)\n",
    "pert_e_ind_admix, pert_e_pop_freq = get_vb_expectations(vb_pert_dict, use_logitnormal_sticks)\n",
    "lr_e_ind_admix, lr_e_pop_freq = get_vb_expectations(vb_params_paragami.fold(lr_vb_free_params, free = True), \n",
    "                                                    use_logitnormal_sticks)"
   ]
  },
  {
   "cell_type": "code",
   "execution_count": 39,
   "metadata": {},
   "outputs": [
    {
     "data": {
      "image/png": "[encoded data removed]",
      "text/plain": [
       "<Figure size 432x288 with 1 Axes>"
      ]
     },
     "metadata": {
      "needs_background": "light"
     },
     "output_type": "display_data"
    }
   ],
   "source": [
    "print_diff_plot(lr_e_ind_admix, pert_e_ind_admix, init_e_ind_admix)"
   ]
  },
  {
   "cell_type": "code",
   "execution_count": 40,
   "metadata": {},
   "outputs": [
    {
     "data": {
      "image/png": "[encoded data removed]",
      "text/plain": [
       "<Figure size 432x288 with 1 Axes>"
      ]
     },
     "metadata": {
      "needs_background": "light"
     },
     "output_type": "display_data"
    }
   ],
   "source": [
    "print_diff_plot(lr_e_pop_freq, pert_e_pop_freq, init_e_pop_freq)"
   ]
  },
  {
   "cell_type": "code",
   "execution_count": 41,
   "metadata": {},
   "outputs": [
    {
     "name": "stdout",
     "output_type": "stream",
     "text": [
      "init number of cluster:  6.65776582905321\n",
      "pert number of cluster:  6.791738845303077\n",
      "lr number of cluster:  6.723031807178104\n"
     ]
    }
   ],
   "source": [
    "print('init number of cluster: ', cluster_quantities_lib.get_e_num_clusters_from_ez(init_e_ind_admix))\n",
    "\n",
    "print('pert number of cluster: ', cluster_quantities_lib.get_e_num_clusters_from_ez(pert_e_ind_admix))\n",
    "print('lr number of cluster: ', cluster_quantities_lib.get_e_num_clusters_from_ez(lr_e_ind_admix))"
   ]
  },
  {
   "cell_type": "code",
   "execution_count": null,
   "metadata": {},
   "outputs": [],
   "source": []
  },
  {
   "cell_type": "markdown",
   "metadata": {},
   "source": [
    "# Fit for a range of alpha"
   ]
  },
  {
   "cell_type": "code",
   "execution_count": 42,
   "metadata": {},
   "outputs": [],
   "source": [
    "alpha_list = np.arange(1, 8)"
   ]
  },
  {
   "cell_type": "code",
   "execution_count": 43,
   "metadata": {},
   "outputs": [],
   "source": [
    "def refit_with_alpha(alpha, new_init_dict):\n",
    "    # sets new alpha, returns new vb optimum\n",
    "    \n",
    "    # set new prior\n",
    "    new_alpha = np.array([alpha])\n",
    "\n",
    "    prior_params_pert_dict = deepcopy(prior_params_dict)\n",
    "    prior_params_pert_dict['dp_prior_alpha'] = new_alpha\n",
    "    \n",
    "    vb_opt_pert = cavi_lib.run_cavi(g_obs, deepcopy(new_init_dict), \n",
    "                                    vb_params_paragami,\n",
    "                                    prior_params_pert_dict,\n",
    "                                    gh_loc = gh_loc, gh_weights = gh_weights, \n",
    "                                    max_iter = 1000,\n",
    "                                    x_tol = 1e-3, \n",
    "                                    print_every = 20)[1]\n",
    "\n",
    "        \n",
    "    return vb_opt_pert\n"
   ]
  },
  {
   "cell_type": "code",
   "execution_count": 44,
   "metadata": {},
   "outputs": [
    {
     "name": "stdout",
     "output_type": "stream",
     "text": [
      "alphas:  [1 2 3 4 5 6 7]\n"
     ]
    }
   ],
   "source": [
    "print('alphas: ', alpha_list)"
   ]
  },
  {
   "cell_type": "code",
   "execution_count": 45,
   "metadata": {
    "scrolled": false
   },
   "outputs": [
    {
     "name": "stdout",
     "output_type": "stream",
     "text": [
      "\n",
      " re-optimzing with alpha =  1\n",
      "CAVI compile time: 5.76sec\n",
      "\n",
      " running CAVI ...\n",
      "iteration [20]; kl:7012.237113; elapsed: 0.4597secs\n",
      "iteration [40]; kl:7000.074061; elapsed: 0.4656secs\n",
      "iteration [60]; kl:6995.938736; elapsed: 0.4743secs\n",
      "iteration [80]; kl:6993.884495; elapsed: 0.4798secs\n",
      "iteration [100]; kl:6992.846712; elapsed: 0.4768secs\n",
      "iteration [120]; kl:6992.639513; elapsed: 0.4769secs\n",
      "iteration [140]; kl:6991.90916; elapsed: 0.4732secs\n",
      "iteration [160]; kl:6988.564449; elapsed: 0.4681secs\n",
      "iteration [180]; kl:6986.620524; elapsed: 0.4763secs\n",
      "iteration [200]; kl:6978.792987; elapsed: 0.4708secs\n",
      "iteration [220]; kl:6935.596398; elapsed: 0.4492secs\n",
      "iteration [240]; kl:6928.03663; elapsed: 0.4869secs\n",
      "iteration [260]; kl:6925.235767; elapsed: 0.4692secs\n",
      "iteration [280]; kl:6923.53601; elapsed: 0.4651secs\n",
      "iteration [300]; kl:6909.178034; elapsed: 0.459secs\n",
      "iteration [320]; kl:6908.013152; elapsed: 0.4648secs\n",
      "iteration [340]; kl:6907.621642; elapsed: 0.4691secs\n",
      "iteration [360]; kl:6907.614009; elapsed: 0.4622secs\n",
      "iteration [380]; kl:6907.61294; elapsed: 0.4608secs\n",
      "iteration [400]; kl:6907.612594; elapsed: 0.4571secs\n",
      "CAVI done.\n",
      "Elapsed: 404 steps in 9.46 seconds\n",
      "\n",
      " re-optimzing with alpha =  2\n",
      "CAVI compile time: 4.01sec\n",
      "\n",
      " running CAVI ...\n",
      "iteration [20]; kl:7296.926973; elapsed: 0.6615secs\n",
      "iteration [40]; kl:7293.181114; elapsed: 0.4985secs\n",
      "iteration [60]; kl:7288.682252; elapsed: 0.4882secs\n",
      "iteration [80]; kl:7285.299508; elapsed: 0.4985secs\n",
      "iteration [100]; kl:7284.050899; elapsed: 0.4929secs\n",
      "iteration [120]; kl:7283.189404; elapsed: 0.4887secs\n",
      "iteration [140]; kl:7282.662496; elapsed: 0.4886secs\n",
      "iteration [160]; kl:7282.538914; elapsed: 0.4909secs\n",
      "iteration [180]; kl:7282.460932; elapsed: 0.4921secs\n",
      "iteration [200]; kl:7282.191498; elapsed: 0.4918secs\n",
      "iteration [220]; kl:7280.946126; elapsed: 0.4821secs\n",
      "iteration [240]; kl:7279.506264; elapsed: 0.4845secs\n",
      "iteration [260]; kl:7277.656967; elapsed: 0.4799secs\n",
      "iteration [280]; kl:7267.963902; elapsed: 0.4915secs\n",
      "iteration [300]; kl:7231.50579; elapsed: 0.4768secs\n",
      "iteration [320]; kl:7224.253638; elapsed: 0.4966secs\n",
      "iteration [340]; kl:7223.978338; elapsed: 0.4899secs\n",
      "iteration [360]; kl:7223.946507; elapsed: 0.5351secs\n",
      "iteration [380]; kl:7223.938258; elapsed: 0.6374secs\n",
      "iteration [400]; kl:7223.93462; elapsed: 0.4834secs\n",
      "iteration [420]; kl:7223.9323; elapsed: 0.4865secs\n",
      "iteration [440]; kl:7223.930086; elapsed: 0.6531secs\n",
      "iteration [460]; kl:7223.926662; elapsed: 0.6283secs\n",
      "iteration [480]; kl:7223.914112; elapsed: 0.6059secs\n",
      "iteration [500]; kl:7222.589378; elapsed: 0.5408secs\n",
      "iteration [520]; kl:7213.142368; elapsed: 0.6245secs\n",
      "iteration [540]; kl:7212.933937; elapsed: 0.5659secs\n",
      "iteration [560]; kl:7212.901324; elapsed: 0.5621secs\n",
      "iteration [580]; kl:7212.882507; elapsed: 0.5496secs\n",
      "iteration [600]; kl:7212.874713; elapsed: 0.6262secs\n",
      "iteration [620]; kl:7212.872493; elapsed: 0.609secs\n",
      "iteration [640]; kl:7212.871976; elapsed: 0.6618secs\n",
      "iteration [660]; kl:7212.871855; elapsed: 0.5801secs\n",
      "CAVI done.\n",
      "Elapsed: 666 steps in 17.98 seconds\n",
      "\n",
      " re-optimzing with alpha =  3\n",
      "CAVI compile time: 4.06sec\n",
      "\n",
      " running CAVI ...\n",
      "CAVI done.\n",
      "Elapsed: 11 steps in 0.28 seconds\n",
      "\n",
      " re-optimzing with alpha =  4\n",
      "CAVI compile time: 3.97sec\n",
      "\n",
      " running CAVI ...\n",
      "iteration [20]; kl:7606.403901; elapsed: 0.4722secs\n",
      "iteration [40]; kl:7606.038677; elapsed: 0.4704secs\n",
      "iteration [60]; kl:7605.926976; elapsed: 0.4804secs\n",
      "iteration [80]; kl:7605.870484; elapsed: 0.4915secs\n",
      "iteration [100]; kl:7605.848998; elapsed: 0.4869secs\n",
      "iteration [120]; kl:7605.84351; elapsed: 0.4808secs\n",
      "iteration [140]; kl:7605.842237; elapsed: 0.4757secs\n",
      "iteration [160]; kl:7605.841939; elapsed: 0.4796secs\n",
      "CAVI done.\n",
      "Elapsed: 168 steps in 4.03 seconds\n",
      "\n",
      " re-optimzing with alpha =  5\n",
      "CAVI compile time: 4.05sec\n",
      "\n",
      " running CAVI ...\n",
      "iteration [20]; kl:7708.307462; elapsed: 0.4886secs\n",
      "iteration [40]; kl:7707.346545; elapsed: 0.4831secs\n",
      "iteration [60]; kl:7707.220739; elapsed: 0.5007secs\n",
      "iteration [80]; kl:7707.201189; elapsed: 0.5152secs\n",
      "iteration [100]; kl:7707.198108; elapsed: 0.5149secs\n",
      "iteration [120]; kl:7707.197569; elapsed: 0.5083secs\n",
      "CAVI done.\n",
      "Elapsed: 124 steps in 3.11 seconds\n",
      "\n",
      " re-optimzing with alpha =  6\n",
      "CAVI compile time: 4.1sec\n",
      "\n",
      " running CAVI ...\n",
      "iteration [20]; kl:7793.247916; elapsed: 0.4818secs\n",
      "iteration [40]; kl:7791.889407; elapsed: 0.5037secs\n",
      "iteration [60]; kl:7791.714514; elapsed: 0.4988secs\n",
      "iteration [80]; kl:7791.686281; elapsed: 0.4921secs\n",
      "iteration [100]; kl:7791.68103; elapsed: 0.4934secs\n",
      "iteration [120]; kl:7791.68011; elapsed: 0.4908secs\n",
      "CAVI done.\n",
      "Elapsed: 139 steps in 3.43 seconds\n",
      "\n",
      " re-optimzing with alpha =  7\n",
      "CAVI compile time: 3.94sec\n",
      "\n",
      " running CAVI ...\n",
      "iteration [20]; kl:7866.664125; elapsed: 0.4985secs\n",
      "iteration [40]; kl:7864.483018; elapsed: 0.4725secs\n",
      "iteration [60]; kl:7864.433413; elapsed: 0.4719secs\n",
      "iteration [80]; kl:7864.429569; elapsed: 0.4923secs\n",
      "iteration [100]; kl:7864.429118; elapsed: 0.4772secs\n",
      "CAVI done.\n",
      "Elapsed: 116 steps in 2.81 seconds\n"
     ]
    }
   ],
   "source": [
    "vb_pert_list = []\n",
    "for alpha in alpha_list: \n",
    "    print('\\n re-optimzing with alpha = ', alpha)\n",
    "    \n",
    "    vb_pert_list.append(refit_with_alpha(alpha, new_init_dict))\n"
   ]
  },
  {
   "cell_type": "markdown",
   "metadata": {},
   "source": [
    "# Check free parameters"
   ]
  },
  {
   "cell_type": "code",
   "execution_count": 47,
   "metadata": {},
   "outputs": [],
   "source": [
    "lr_list = []\n",
    "\n",
    "for alpha in alpha_list: \n",
    "    \n",
    "    # set alpha \n",
    "    new_alpha = np.array([alpha])\n",
    "    prior_params_pert_dict = deepcopy(prior_params_dict)\n",
    "    prior_params_pert_dict['dp_prior_alpha'] = new_alpha\n",
    "    \n",
    "    # get linear response\n",
    "    lr_list.append(vb_sens.predict_opt_par_from_hyper_par(\n",
    "        prior_params_paragami['dp_prior_alpha'].flatten(prior_params_pert_dict['dp_prior_alpha'], \n",
    "                                                        free = use_free_alpha)))\n"
   ]
  },
  {
   "cell_type": "code",
   "execution_count": 48,
   "metadata": {
    "scrolled": false
   },
   "outputs": [
    {
     "data": {
      "image/png": "[encoded data removed]",
      "text/plain": [
       "<Figure size 432x288 with 1 Axes>"
      ]
     },
     "metadata": {
      "needs_background": "light"
     },
     "output_type": "display_data"
    },
    {
     "data": {
      "image/png": "[encoded data removed]",
      "text/plain": [
       "<Figure size 432x288 with 1 Axes>"
      ]
     },
     "metadata": {
      "needs_background": "light"
     },
     "output_type": "display_data"
    },
    {
     "data": {
      "image/png": "[encoded data removed]",
      "text/plain": [
       "<Figure size 432x288 with 1 Axes>"
      ]
     },
     "metadata": {
      "needs_background": "light"
     },
     "output_type": "display_data"
    },
    {
     "data": {
      "image/png": "[encoded data removed]",
      "text/plain": [
       "<Figure size 432x288 with 1 Axes>"
      ]
     },
     "metadata": {
      "needs_background": "light"
     },
     "output_type": "display_data"
    },
    {
     "data": {
      "image/png": "[encoded data removed]",
      "text/plain": [
       "<Figure size 432x288 with 1 Axes>"
      ]
     },
     "metadata": {
      "needs_background": "light"
     },
     "output_type": "display_data"
    },
    {
     "data": {
      "image/png": "[encoded data removed]",
      "text/plain": [
       "<Figure size 432x288 with 1 Axes>"
      ]
     },
     "metadata": {
      "needs_background": "light"
     },
     "output_type": "display_data"
    },
    {
     "data": {
      "image/png": "[encoded data removed]",
      "text/plain": [
       "<Figure size 432x288 with 1 Axes>"
      ]
     },
     "metadata": {
      "needs_background": "light"
     },
     "output_type": "display_data"
    }
   ],
   "source": [
    "for i in range(len(alpha_list)): \n",
    "    plt.figure()\n",
    "    print_diff_plot(lr_list[i], vb_pert_list[i], vb_opt)\n",
    "    \n",
    "    plt.title('alpha = {}'.format(alpha_list[i]))\n"
   ]
  },
  {
   "cell_type": "markdown",
   "metadata": {},
   "source": [
    "# Number of clusters"
   ]
  },
  {
   "cell_type": "code",
   "execution_count": 49,
   "metadata": {},
   "outputs": [],
   "source": [
    "import numpy as onp"
   ]
  },
  {
   "cell_type": "code",
   "execution_count": 50,
   "metadata": {},
   "outputs": [],
   "source": [
    "lr_e_num_clusters_vec = onp.zeros(len(alpha_list))\n",
    "refit_e_num_clusters_vec = onp.zeros(len(alpha_list))\n",
    "\n",
    "for i in range(len(alpha_list)): \n",
    "    \n",
    "    # get dictionaries\n",
    "    pert_dict = vb_params_paragami.fold(vb_pert_list[i], free = True)\n",
    "    lr_dict = vb_params_paragami.fold(lr_list[i], free = True)\n",
    "    \n",
    "    # get posterior expectations\n",
    "    pert_e_ind_admix, pert_e_pop_freq = get_vb_expectations(pert_dict, use_logitnormal_sticks)\n",
    "    lr_e_ind_admix, lr_e_pop_freq = get_vb_expectations(lr_dict, use_logitnormal_sticks)\n",
    "    \n",
    "    # get number of clusters\n",
    "    refit_e_num_clusters_vec[i] = cluster_quantities_lib.get_e_num_clusters_from_ez(pert_e_ind_admix)\n",
    "    lr_e_num_clusters_vec[i] = cluster_quantities_lib.get_e_num_clusters_from_ez(lr_e_ind_admix)\n"
   ]
  },
  {
   "cell_type": "code",
   "execution_count": 51,
   "metadata": {},
   "outputs": [
    {
     "data": {
      "text/plain": [
       "<matplotlib.lines.Line2D at 0x7f99572f1250>"
      ]
     },
     "execution_count": 51,
     "metadata": {},
     "output_type": "execute_result"
    },
    {
     "data": {
      "image/png": "[encoded data removed]",
      "text/plain": [
       "<Figure size 432x288 with 1 Axes>"
      ]
     },
     "metadata": {
      "needs_background": "light"
     },
     "output_type": "display_data"
    }
   ],
   "source": [
    "plt.plot(alpha_list, lr_e_num_clusters_vec, '+--')\n",
    "plt.plot(alpha_list, refit_e_num_clusters_vec, '+-')\n",
    "\n",
    "plt.xlabel('alpha')\n",
    "plt.ylabel('num posterior clusters')\n",
    "plt.legend(('lr', 'refit'))\n",
    "\n",
    "plt.axvline(prior_params_dict['dp_prior_alpha'], color = 'red', linestyle = 'dashed')"
   ]
  },
  {
   "cell_type": "code",
   "execution_count": null,
   "metadata": {},
   "outputs": [],
   "source": []
  },
  {
   "cell_type": "code",
   "execution_count": null,
   "metadata": {},
   "outputs": [],
   "source": []
  }
 ],
 "metadata": {
  "kernelspec": {
   "display_name": "bnp_sensitivity_jax",
   "language": "python",
   "name": "bnp_sensitivity_jax"
  },
  "language_info": {
   "codemirror_mode": {
    "name": "ipython",
    "version": 3
   },
   "file_extension": ".py",
   "mimetype": "text/x-python",
   "name": "python",
   "nbconvert_exporter": "python",
   "pygments_lexer": "ipython3",
   "version": "3.8.0"
  }
 },
 "nbformat": 4,
 "nbformat_minor": 2
}
