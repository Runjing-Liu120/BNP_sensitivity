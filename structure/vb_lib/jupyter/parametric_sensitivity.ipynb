{
 "cells": [
  {
   "cell_type": "markdown",
   "metadata": {},
   "source": [
    "Here, we examine parametric sensitivity of the structure model on a small simulated dataset"
   ]
  },
  {
   "cell_type": "code",
   "execution_count": 1,
   "metadata": {},
   "outputs": [
    {
     "name": "stderr",
     "output_type": "stream",
     "text": [
      "/accounts/grad/runjing_liu/.conda/envs/bnp_sensitivity_jax/lib/python3.8/site-packages/jax/lib/xla_bridge.py:130: UserWarning: No GPU/TPU found, falling back to CPU.\n",
      "  warnings.warn('No GPU/TPU found, falling back to CPU.')\n"
     ]
    }
   ],
   "source": [
    "import jax\n",
    "\n",
    "import jax.numpy as np\n",
    "import jax.scipy as sp\n",
    "\n",
    "from numpy.polynomial.hermite import hermgauss\n",
    "import scipy as osp\n",
    "\n",
    "from vb_lib import structure_model_lib, data_utils, cavi_lib, plotting_utils\n",
    "import vb_lib.structure_optimization_lib as s_optim_lib\n",
    "\n",
    "from vb_lib.preconditioner_lib import get_mfvb_cov_matmul\n",
    "from bnpmodeling_runjingdev.sensitivity_lib import HyperparameterSensitivityLinearApproximation\n",
    "\n",
    "import paragami\n",
    "\n",
    "from copy import deepcopy\n",
    "\n",
    "import time\n",
    "\n",
    "import matplotlib.pyplot as plt\n",
    "%matplotlib inline  \n",
    "\n",
    "from bnpmodeling_runjingdev import cluster_quantities_lib, modeling_lib\n"
   ]
  },
  {
   "cell_type": "code",
   "execution_count": 2,
   "metadata": {},
   "outputs": [],
   "source": [
    "import numpy as onp\n",
    "onp.random.seed(53453)"
   ]
  },
  {
   "cell_type": "markdown",
   "metadata": {},
   "source": [
    "# Draw data"
   ]
  },
  {
   "cell_type": "code",
   "execution_count": 3,
   "metadata": {},
   "outputs": [],
   "source": [
    "data_file = '../simulated_data/simulated_structure_data_nobs20_nloci50_npop4.npz'\n",
    "data = np.load(data_file)\n",
    "\n",
    "# the observations\n",
    "g_obs = np.array(data['g_obs'], dtype = int)\n",
    "\n",
    "n_obs = g_obs.shape[0]\n",
    "n_loci = g_obs.shape[1]\n",
    "\n",
    "# the ground truth \n",
    "true_ind_admix_propn = data['true_ind_admix_propn']"
   ]
  },
  {
   "cell_type": "code",
   "execution_count": 4,
   "metadata": {},
   "outputs": [
    {
     "data": {
      "image/png": "[encoded data removed]",
      "text/plain": [
       "<Figure size 432x288 with 1 Axes>"
      ]
     },
     "metadata": {},
     "output_type": "display_data"
    }
   ],
   "source": [
    "fig, axarr = plt.subplots(1, 1)\n",
    "plotting_utils.plot_admixture(true_ind_admix_propn, axarr);"
   ]
  },
  {
   "cell_type": "code",
   "execution_count": 5,
   "metadata": {
    "scrolled": true
   },
   "outputs": [
    {
     "data": {
      "text/plain": [
       "(20, 50, 3)"
      ]
     },
     "execution_count": 5,
     "metadata": {},
     "output_type": "execute_result"
    }
   ],
   "source": [
    "g_obs.shape"
   ]
  },
  {
   "cell_type": "code",
   "execution_count": 6,
   "metadata": {
    "scrolled": true
   },
   "outputs": [
    {
     "data": {
      "text/plain": [
       "Text(0.5, 0, 'individual')"
      ]
     },
     "execution_count": 6,
     "metadata": {},
     "output_type": "execute_result"
    },
    {
     "data": {
      "image/png": "[encoded data removed]",
      "text/plain": [
       "<Figure size 1152x230.4 with 1 Axes>"
      ]
     },
     "metadata": {
      "needs_background": "light"
     },
     "output_type": "display_data"
    }
   ],
   "source": [
    "plt.matshow(true_ind_admix_propn.T)\n",
    "plt.ylabel('population')\n",
    "plt.xlabel('individual')"
   ]
  },
  {
   "cell_type": "markdown",
   "metadata": {},
   "source": [
    "# Get prior"
   ]
  },
  {
   "cell_type": "code",
   "execution_count": 7,
   "metadata": {},
   "outputs": [
    {
     "name": "stdout",
     "output_type": "stream",
     "text": [
      "OrderedDict:\n",
      "\t[dp_prior_alpha] = NumericArrayPattern (1,) (lb=0.0, ub=inf)\n",
      "\t[allele_prior_alpha] = NumericArrayPattern (1,) (lb=0.0, ub=inf)\n",
      "\t[allele_prior_beta] = NumericArrayPattern (1,) (lb=0.0, ub=inf)\n"
     ]
    }
   ],
   "source": [
    "prior_params_dict, prior_params_paragami = \\\n",
    "    structure_model_lib.get_default_prior_params()\n",
    "\n",
    "print(prior_params_paragami)\n",
    "\n",
    "prior_params_free = prior_params_paragami.flatten(prior_params_dict, free = True)"
   ]
  },
  {
   "cell_type": "markdown",
   "metadata": {},
   "source": [
    "# Get VB params "
   ]
  },
  {
   "cell_type": "code",
   "execution_count": 8,
   "metadata": {},
   "outputs": [],
   "source": [
    "k_approx = 15"
   ]
  },
  {
   "cell_type": "code",
   "execution_count": 9,
   "metadata": {},
   "outputs": [],
   "source": [
    "gh_deg = 8\n",
    "gh_loc, gh_weights = hermgauss(8)"
   ]
  },
  {
   "cell_type": "code",
   "execution_count": 10,
   "metadata": {
    "scrolled": true
   },
   "outputs": [
    {
     "name": "stdout",
     "output_type": "stream",
     "text": [
      "OrderedDict:\n",
      "\t[pop_freq_beta_params] = NumericArrayPattern (50, 15, 2) (lb=0.0, ub=inf)\n",
      "\t[ind_admix_params] = OrderedDict:\n",
      "\t[stick_means] = NumericArrayPattern (20, 14) (lb=-inf, ub=inf)\n",
      "\t[stick_infos] = NumericArrayPattern (20, 14) (lb=0.0001, ub=inf)\n"
     ]
    }
   ],
   "source": [
    "use_logitnormal_sticks = True\n",
    "\n",
    "vb_params_dict, vb_params_paragami = \\\n",
    "    structure_model_lib.get_vb_params_paragami_object(n_obs, n_loci, k_approx,\n",
    "                                    use_logitnormal_sticks = use_logitnormal_sticks)\n",
    "    \n",
    "print(vb_params_paragami)"
   ]
  },
  {
   "cell_type": "markdown",
   "metadata": {},
   "source": [
    "## Initialize "
   ]
  },
  {
   "cell_type": "code",
   "execution_count": 11,
   "metadata": {},
   "outputs": [
    {
     "name": "stdout",
     "output_type": "stream",
     "text": [
      "running NMF ...\n",
      "running a few cavi steps for pop beta ...\n",
      "done. Elapsed: 6.32253\n"
     ]
    }
   ],
   "source": [
    "vb_params_dict = \\\n",
    "        s_optim_lib.set_init_vb_params(g_obs, k_approx, vb_params_dict,\n",
    "                                       prior_params_dict, \n",
    "                                       gh_loc, gh_weights,\n",
    "                                       seed = 34221)"
   ]
  },
  {
   "cell_type": "code",
   "execution_count": 12,
   "metadata": {},
   "outputs": [
    {
     "data": {
      "text/plain": [
       "Text(0.5, 0, 'individual')"
      ]
     },
     "execution_count": 12,
     "metadata": {},
     "output_type": "execute_result"
    },
    {
     "data": {
      "image/png": "[encoded data removed]",
      "text/plain": [
       "<Figure size 432x288 with 1 Axes>"
      ]
     },
     "metadata": {},
     "output_type": "display_data"
    }
   ],
   "source": [
    "e_ind_admix = plotting_utils.get_vb_expectations(vb_params_dict, gh_loc, gh_weights)[0]\n",
    "\n",
    "fig, axarr = plt.subplots(1, 1)\n",
    "plotting_utils.plot_admixture(e_ind_admix, axarr);\n",
    "\n",
    "plt.ylabel('population')\n",
    "plt.xlabel('individual')"
   ]
  },
  {
   "cell_type": "code",
   "execution_count": null,
   "metadata": {},
   "outputs": [],
   "source": []
  },
  {
   "cell_type": "markdown",
   "metadata": {},
   "source": [
    "# Optimize"
   ]
  },
  {
   "cell_type": "code",
   "execution_count": 13,
   "metadata": {},
   "outputs": [],
   "source": [
    "from vb_lib.structure_preconditioned_optimization_lib import optimize_structure"
   ]
  },
  {
   "cell_type": "code",
   "execution_count": 14,
   "metadata": {},
   "outputs": [
    {
     "name": "stdout",
     "output_type": "stream",
     "text": [
      "compiling objectives ... \n",
      "done. Elasped: 12.9325\n",
      "compiling preconditioned objective ... \n",
      "done. Elasped: 18.9806\n",
      "Run a few iterations without preconditioning ... \n",
      "iteration [20]; kl:1872.535429; elapsed: 0.5843secs\n",
      "iteration [40]; kl:1834.515061; elapsed: 0.9546secs\n",
      "iteration [60]; kl:1830.238731; elapsed: 0.8743secs\n",
      "iteration [80]; kl:1830.096832; elapsed: 0.9049secs\n",
      "iteration [84]; kl:1830.096807; elapsed: 0.2431secs\n",
      "lbfgs converged successfully\n",
      "done. Elapsed 3.6734\n"
     ]
    }
   ],
   "source": [
    "vb_opt_dict, vb_opt, out, precond_objective = \\\n",
    "    optimize_structure(g_obs, \n",
    "                        vb_params_dict, \n",
    "                        vb_params_paragami,\n",
    "                        prior_params_dict,\n",
    "                        gh_loc, gh_weights)\n"
   ]
  },
  {
   "cell_type": "code",
   "execution_count": null,
   "metadata": {},
   "outputs": [],
   "source": []
  },
  {
   "cell_type": "markdown",
   "metadata": {},
   "source": [
    "# Check out the fit"
   ]
  },
  {
   "cell_type": "code",
   "execution_count": 15,
   "metadata": {},
   "outputs": [
    {
     "data": {
      "image/png": "[encoded data removed]",
      "text/plain": [
       "<Figure size 432x288 with 1 Axes>"
      ]
     },
     "metadata": {},
     "output_type": "display_data"
    }
   ],
   "source": [
    "# truth \n",
    "\n",
    "fig, axarr = plt.subplots(1, 1)\n",
    "plotting_utils.plot_admixture(true_ind_admix_propn, axarr);"
   ]
  },
  {
   "cell_type": "code",
   "execution_count": 16,
   "metadata": {},
   "outputs": [
    {
     "data": {
      "text/plain": [
       "Text(0.5, 0, 'individual')"
      ]
     },
     "execution_count": 16,
     "metadata": {},
     "output_type": "execute_result"
    },
    {
     "data": {
      "image/png": "[encoded data removed]",
      "text/plain": [
       "<Figure size 432x288 with 1 Axes>"
      ]
     },
     "metadata": {},
     "output_type": "display_data"
    }
   ],
   "source": [
    "# estimated \n",
    "\n",
    "e_ind_admix = plotting_utils.get_vb_expectations(vb_opt_dict, gh_loc, gh_weights)[0]\n",
    "\n",
    "fig, axarr = plt.subplots(1, 1)\n",
    "plotting_utils.plot_admixture(e_ind_admix, axarr);\n",
    "\n",
    "plt.ylabel('population')\n",
    "plt.xlabel('individual')"
   ]
  },
  {
   "cell_type": "code",
   "execution_count": null,
   "metadata": {},
   "outputs": [],
   "source": []
  },
  {
   "cell_type": "markdown",
   "metadata": {},
   "source": [
    "# Define sensitivity object"
   ]
  },
  {
   "cell_type": "code",
   "execution_count": 17,
   "metadata": {},
   "outputs": [],
   "source": [
    "# initial prior alpha\n",
    "use_free_alpha = True\n",
    "prior_alpha0 = prior_params_paragami['dp_prior_alpha'].flatten(prior_params_dict['dp_prior_alpha'], \n",
    "                                                              free = use_free_alpha)"
   ]
  },
  {
   "cell_type": "code",
   "execution_count": 18,
   "metadata": {},
   "outputs": [],
   "source": [
    "# set up objective as function of vb params and prior param \n",
    "\n",
    "def objective_fun(vb_params_dict, alpha): \n",
    "    \n",
    "    _prior_params_dict = deepcopy(prior_params_dict)\n",
    "    _prior_params_dict['dp_prior_alpha'] = alpha\n",
    "    \n",
    "    return structure_model_lib.get_kl(g_obs, vb_params_dict, _prior_params_dict,\n",
    "                    gh_loc = gh_loc, gh_weights = gh_weights)\n",
    "\n",
    "\n",
    "objective_fun_free = paragami.FlattenFunctionInput(\n",
    "                                original_fun=objective_fun, \n",
    "                                patterns = [vb_params_paragami, prior_params_paragami['dp_prior_alpha']],\n",
    "                                free = [True, use_free_alpha],\n",
    "                                argnums = [0, 1])\n"
   ]
  },
  {
   "cell_type": "code",
   "execution_count": 19,
   "metadata": {},
   "outputs": [
    {
     "data": {
      "text/plain": [
       "DeviceArray(1830.09680684, dtype=float64)"
      ]
     },
     "execution_count": 19,
     "metadata": {},
     "output_type": "execute_result"
    }
   ],
   "source": [
    "objective_fun_free(vb_opt, prior_alpha0)"
   ]
  },
  {
   "cell_type": "markdown",
   "metadata": {},
   "source": [
    "### Set up hessian solver"
   ]
  },
  {
   "cell_type": "code",
   "execution_count": 20,
   "metadata": {},
   "outputs": [
    {
     "name": "stdout",
     "output_type": "stream",
     "text": [
      "preconditioner time: 1.36sec\n"
     ]
    }
   ],
   "source": [
    "# define preconditioner\n",
    "cg_precond = lambda v : get_mfvb_cov_matmul(v, vb_opt_dict,\n",
    "                                            vb_params_paragami,\n",
    "                                            return_info = True)"
   ]
  },
  {
   "cell_type": "code",
   "execution_count": 21,
   "metadata": {},
   "outputs": [
    {
     "name": "stdout",
     "output_type": "stream",
     "text": [
      "Compiling ...\n",
      "Compile time: 96.8635sec\n",
      "\n"
     ]
    }
   ],
   "source": [
    "vb_sens = HyperparameterSensitivityLinearApproximation(objective_fun_free,\n",
    "                                                        vb_opt,\n",
    "                                                        prior_alpha0, \n",
    "                                                        cg_precond=cg_precond)\n"
   ]
  },
  {
   "cell_type": "code",
   "execution_count": null,
   "metadata": {},
   "outputs": [],
   "source": []
  },
  {
   "cell_type": "markdown",
   "metadata": {},
   "source": [
    "# Perturb alpha. Check results"
   ]
  },
  {
   "cell_type": "code",
   "execution_count": 22,
   "metadata": {},
   "outputs": [],
   "source": [
    "# set new alpha \n",
    "new_alpha = np.array([5.])\n",
    "\n",
    "prior_params_pert_dict = deepcopy(prior_params_dict)\n",
    "prior_params_pert_dict['dp_prior_alpha'] = new_alpha\n"
   ]
  },
  {
   "cell_type": "code",
   "execution_count": 23,
   "metadata": {},
   "outputs": [
    {
     "name": "stdout",
     "output_type": "stream",
     "text": [
      "initial alpha,  [3.]\n",
      "perturbed alpha,  [5.]\n"
     ]
    }
   ],
   "source": [
    "print('initial alpha, ', prior_params_dict['dp_prior_alpha'])\n",
    "print('perturbed alpha, ', prior_params_pert_dict['dp_prior_alpha'])\n"
   ]
  },
  {
   "cell_type": "code",
   "execution_count": 24,
   "metadata": {},
   "outputs": [
    {
     "name": "stdout",
     "output_type": "stream",
     "text": [
      "l_inf diff:  0.9439231844131095\n"
     ]
    }
   ],
   "source": [
    "# linear response prediction \n",
    "lr_vb_free_params = \\\n",
    "    vb_sens.predict_opt_par_from_hyper_par(\n",
    "        prior_params_paragami['dp_prior_alpha'].flatten(prior_params_pert_dict['dp_prior_alpha'], \n",
    "                                                        free = use_free_alpha))\n",
    "\n",
    "print('l_inf diff: ', np.max(np.abs(lr_vb_free_params - vb_opt)))\n"
   ]
  },
  {
   "cell_type": "code",
   "execution_count": 25,
   "metadata": {},
   "outputs": [
    {
     "data": {
      "text/plain": [
       "DeviceArray(1.14784954, dtype=float64)"
      ]
     },
     "execution_count": 25,
     "metadata": {},
     "output_type": "execute_result"
    }
   ],
   "source": [
    "(lr_vb_free_params**2).mean()"
   ]
  },
  {
   "cell_type": "code",
   "execution_count": null,
   "metadata": {},
   "outputs": [],
   "source": []
  },
  {
   "cell_type": "markdown",
   "metadata": {},
   "source": [
    "### reoptimize"
   ]
  },
  {
   "cell_type": "code",
   "execution_count": 26,
   "metadata": {},
   "outputs": [],
   "source": [
    "new_init_dict = deepcopy(vb_opt_dict)\n",
    "new_init_free = vb_params_paragami.flatten(new_init_dict, free = True)"
   ]
  },
  {
   "cell_type": "code",
   "execution_count": 27,
   "metadata": {},
   "outputs": [
    {
     "name": "stdout",
     "output_type": "stream",
     "text": [
      "compiling objectives ... \n",
      "done. Elasped: 11.9577\n",
      "compiling preconditioned objective ... \n",
      "done. Elasped: 19.9263\n",
      "Run a few iterations without preconditioning ... \n",
      "iteration [20]; kl:2062.024901; elapsed: 0.477secs\n",
      "iteration [37]; kl:2062.020843; elapsed: 0.7556secs\n",
      "lbfgs converged successfully\n",
      "done. Elapsed 1.2483\n"
     ]
    }
   ],
   "source": [
    "vb_pert_dict, vb_opt_pert, _, _ = \\\n",
    "    optimize_structure(g_obs, \n",
    "                        new_init_dict, \n",
    "                        vb_params_paragami,\n",
    "                        prior_params_pert_dict,\n",
    "                        gh_loc, gh_weights)\n"
   ]
  },
  {
   "cell_type": "markdown",
   "metadata": {},
   "source": [
    "### compare"
   ]
  },
  {
   "cell_type": "code",
   "execution_count": 28,
   "metadata": {},
   "outputs": [],
   "source": [
    "def print_diff_plot(lr_vb_free_params, vb_opt_pert, vb_opt): \n",
    "    plt.plot(lr_vb_free_params - vb_opt, \n",
    "             vb_opt_pert - vb_opt, \n",
    "             '+', color = 'red')\n",
    "\n",
    "    plt.plot(lr_vb_free_params - vb_opt, \n",
    "            lr_vb_free_params - vb_opt, \n",
    "             '-', color = 'blue')\n",
    "\n",
    "    plt.xlabel('lr')\n",
    "    plt.ylabel('re-optimized')\n"
   ]
  },
  {
   "cell_type": "code",
   "execution_count": 29,
   "metadata": {},
   "outputs": [
    {
     "data": {
      "image/png": "[encoded data removed]",
      "text/plain": [
       "<Figure size 432x288 with 1 Axes>"
      ]
     },
     "metadata": {
      "needs_background": "light"
     },
     "output_type": "display_data"
    }
   ],
   "source": [
    "# compare free parameters\n",
    "print_diff_plot(lr_vb_free_params, vb_opt_pert, vb_opt)"
   ]
  },
  {
   "cell_type": "code",
   "execution_count": 30,
   "metadata": {},
   "outputs": [],
   "source": [
    "key = jax.random.PRNGKey(1)\n",
    "\n",
    "def get_e_num_pred_clusters(vb_params_dict): \n",
    "    \n",
    "    stick_means = vb_params_dict['ind_admix_params']['stick_means']\n",
    "    stick_infos = vb_params_dict['ind_admix_params']['stick_infos']\n",
    "    \n",
    "    return structure_model_lib.get_e_num_pred_clusters(stick_means, stick_infos, gh_loc, gh_weights, \n",
    "                                                            key, n_samples = 10000)"
   ]
  },
  {
   "cell_type": "code",
   "execution_count": 31,
   "metadata": {
    "scrolled": true
   },
   "outputs": [
    {
     "name": "stdout",
     "output_type": "stream",
     "text": [
      "init number of cluster:  3.7416292673731193\n",
      "pert number of cluster:  4.462091623857604\n",
      "lr number of cluster:  4.441936192878204\n"
     ]
    }
   ],
   "source": [
    "print('init number of cluster: ', get_e_num_pred_clusters(vb_opt_dict))\n",
    "print('pert number of cluster: ', get_e_num_pred_clusters(vb_pert_dict))\n",
    "print('lr number of cluster: ', get_e_num_pred_clusters(vb_params_paragami.fold(lr_vb_free_params, \n",
    "                                                                                free = True)))"
   ]
  },
  {
   "cell_type": "code",
   "execution_count": null,
   "metadata": {},
   "outputs": [],
   "source": []
  },
  {
   "cell_type": "markdown",
   "metadata": {},
   "source": [
    "# Fit for a range of alpha"
   ]
  },
  {
   "cell_type": "code",
   "execution_count": 32,
   "metadata": {},
   "outputs": [],
   "source": [
    "alpha_list = np.arange(1, 8)"
   ]
  },
  {
   "cell_type": "code",
   "execution_count": 33,
   "metadata": {},
   "outputs": [],
   "source": [
    "def refit_with_alpha(alpha, new_init_dict):\n",
    "    # sets new alpha, returns new vb optimum\n",
    "    \n",
    "    # set new prior\n",
    "    new_alpha = np.array([alpha])\n",
    "\n",
    "    prior_params_pert_dict = deepcopy(prior_params_dict)\n",
    "    prior_params_pert_dict['dp_prior_alpha'] = new_alpha\n",
    "    \n",
    "    # set new objective \n",
    "    _, vb_opt_pert, _, _ = \\\n",
    "        optimize_structure(g_obs, \n",
    "                            new_init_dict, \n",
    "                            vb_params_paragami,\n",
    "                            prior_params_pert_dict,\n",
    "                            gh_loc, gh_weights)\n",
    "\n",
    "        \n",
    "    return vb_opt_pert\n"
   ]
  },
  {
   "cell_type": "code",
   "execution_count": 34,
   "metadata": {},
   "outputs": [
    {
     "name": "stdout",
     "output_type": "stream",
     "text": [
      "alphas:  [1 2 3 4 5 6 7]\n"
     ]
    }
   ],
   "source": [
    "print('alphas: ', alpha_list)"
   ]
  },
  {
   "cell_type": "code",
   "execution_count": 35,
   "metadata": {},
   "outputs": [
    {
     "name": "stdout",
     "output_type": "stream",
     "text": [
      "\n",
      " re-optimzing with alpha =  1\n",
      "compiling objectives ... \n",
      "done. Elasped: 11.6849\n",
      "compiling preconditioned objective ... \n",
      "done. Elasped: 19.4557\n",
      "Run a few iterations without preconditioning ... \n",
      "iteration [20]; kl:1417.091422; elapsed: 0.5039secs\n",
      "iteration [37]; kl:1417.058983; elapsed: 0.7767secs\n",
      "lbfgs converged successfully\n",
      "done. Elapsed 1.2959\n",
      "\n",
      " re-optimzing with alpha =  2\n",
      "compiling objectives ... \n",
      "done. Elasped: 11.5289\n",
      "compiling preconditioned objective ... \n",
      "done. Elasped: 18.9484\n",
      "Run a few iterations without preconditioning ... \n",
      "iteration [20]; kl:1664.905909; elapsed: 0.5043secs\n",
      "iteration [34]; kl:1664.902439; elapsed: 0.6742secs\n",
      "lbfgs converged successfully\n",
      "done. Elapsed 1.1941\n",
      "\n",
      " re-optimzing with alpha =  3\n",
      "compiling objectives ... \n",
      "done. Elasped: 12.3101\n",
      "compiling preconditioned objective ... \n",
      "done. Elasped: 19.3447\n",
      "Run a few iterations without preconditioning ... \n",
      "iteration [1]; kl:1830.096804; elapsed: 0.0708secs\n",
      "iteration [2]; kl:1830.096802; elapsed: 0.1263secs\n",
      "lbfgs converged successfully\n",
      "done. Elapsed 0.2128\n",
      "\n",
      " re-optimzing with alpha =  4\n",
      "compiling objectives ... \n",
      "done. Elasped: 11.5979\n",
      "compiling preconditioned objective ... \n",
      "done. Elasped: 19.7287\n",
      "Run a few iterations without preconditioning ... \n",
      "iteration [20]; kl:1957.528705; elapsed: 0.4466secs\n",
      "iteration [33]; kl:1957.527288; elapsed: 0.6241secs\n",
      "lbfgs converged successfully\n",
      "done. Elapsed 1.0863\n",
      "\n",
      " re-optimzing with alpha =  5\n",
      "compiling objectives ... \n",
      "done. Elasped: 11.6579\n",
      "compiling preconditioned objective ... \n",
      "done. Elasped: 19.1245\n",
      "Run a few iterations without preconditioning ... \n",
      "iteration [20]; kl:2062.024901; elapsed: 0.4697secs\n",
      "iteration [37]; kl:2062.020843; elapsed: 0.7505secs\n",
      "lbfgs converged successfully\n",
      "done. Elapsed 1.2359\n",
      "\n",
      " re-optimzing with alpha =  6\n",
      "compiling objectives ... \n",
      "done. Elasped: 12.3901\n",
      "compiling preconditioned objective ... \n",
      "done. Elasped: 19.6503\n",
      "Run a few iterations without preconditioning ... \n",
      "iteration [20]; kl:2150.345651; elapsed: 0.4628secs\n",
      "iteration [37]; kl:2150.340938; elapsed: 0.7942secs\n",
      "lbfgs converged successfully\n",
      "done. Elapsed 1.2735\n",
      "\n",
      " re-optimzing with alpha =  7\n",
      "compiling objectives ... \n",
      "done. Elasped: 11.6258\n",
      "compiling preconditioned objective ... \n",
      "done. Elasped: 20.114\n",
      "Run a few iterations without preconditioning ... \n",
      "iteration [20]; kl:2226.017781; elapsed: 0.4743secs\n",
      "iteration [38]; kl:2226.010954; elapsed: 0.8329secs\n",
      "lbfgs converged successfully\n",
      "done. Elapsed 1.3229\n"
     ]
    }
   ],
   "source": [
    "vb_pert_list = []\n",
    "for alpha in alpha_list: \n",
    "    print('\\n re-optimzing with alpha = ', alpha)\n",
    "    \n",
    "    vb_pert_list.append(refit_with_alpha(alpha, new_init_dict))\n"
   ]
  },
  {
   "cell_type": "markdown",
   "metadata": {},
   "source": [
    "# Check free parameters"
   ]
  },
  {
   "cell_type": "code",
   "execution_count": 36,
   "metadata": {},
   "outputs": [],
   "source": [
    "lr_list = []\n",
    "\n",
    "for alpha in alpha_list: \n",
    "    \n",
    "    # set alpha \n",
    "    new_alpha = np.array([alpha])\n",
    "    prior_params_pert_dict = deepcopy(prior_params_dict)\n",
    "    prior_params_pert_dict['dp_prior_alpha'] = new_alpha\n",
    "    \n",
    "    # get linear response\n",
    "    lr_list.append(vb_sens.predict_opt_par_from_hyper_par(\n",
    "        prior_params_paragami['dp_prior_alpha'].flatten(prior_params_pert_dict['dp_prior_alpha'], \n",
    "                                                        free = use_free_alpha)))\n"
   ]
  },
  {
   "cell_type": "code",
   "execution_count": 37,
   "metadata": {},
   "outputs": [
    {
     "data": {
      "image/png": "[encoded data removed]",
      "text/plain": [
       "<Figure size 432x288 with 1 Axes>"
      ]
     },
     "metadata": {
      "needs_background": "light"
     },
     "output_type": "display_data"
    },
    {
     "data": {
      "image/png": "[encoded data removed]",
      "text/plain": [
       "<Figure size 432x288 with 1 Axes>"
      ]
     },
     "metadata": {
      "needs_background": "light"
     },
     "output_type": "display_data"
    },
    {
     "data": {
      "image/png": "[encoded data removed]",
      "text/plain": [
       "<Figure size 432x288 with 1 Axes>"
      ]
     },
     "metadata": {
      "needs_background": "light"
     },
     "output_type": "display_data"
    },
    {
     "data": {
      "image/png": "[encoded data removed]",
      "text/plain": [
       "<Figure size 432x288 with 1 Axes>"
      ]
     },
     "metadata": {
      "needs_background": "light"
     },
     "output_type": "display_data"
    },
    {
     "data": {
      "image/png": "[encoded data removed]",
      "text/plain": [
       "<Figure size 432x288 with 1 Axes>"
      ]
     },
     "metadata": {
      "needs_background": "light"
     },
     "output_type": "display_data"
    },
    {
     "data": {
      "image/png": "[encoded data removed]",
      "text/plain": [
       "<Figure size 432x288 with 1 Axes>"
      ]
     },
     "metadata": {
      "needs_background": "light"
     },
     "output_type": "display_data"
    },
    {
     "data": {
      "image/png": "[encoded data removed]",
      "text/plain": [
       "<Figure size 432x288 with 1 Axes>"
      ]
     },
     "metadata": {
      "needs_background": "light"
     },
     "output_type": "display_data"
    }
   ],
   "source": [
    "for i in range(len(alpha_list)): \n",
    "    plt.figure()\n",
    "    print_diff_plot(lr_list[i], vb_pert_list[i], vb_opt)\n",
    "    \n",
    "    plt.title('alpha = {}'.format(alpha_list[i]))\n"
   ]
  },
  {
   "cell_type": "markdown",
   "metadata": {},
   "source": [
    "# Number of clusters"
   ]
  },
  {
   "cell_type": "code",
   "execution_count": 38,
   "metadata": {},
   "outputs": [],
   "source": [
    "import numpy as onp"
   ]
  },
  {
   "cell_type": "code",
   "execution_count": 39,
   "metadata": {},
   "outputs": [],
   "source": [
    "lr_e_num_clusters_vec = onp.zeros(len(alpha_list))\n",
    "refit_e_num_clusters_vec = onp.zeros(len(alpha_list))\n",
    "\n",
    "for i in range(len(alpha_list)): \n",
    "    \n",
    "    # get dictionaries\n",
    "    pert_dict = vb_params_paragami.fold(vb_pert_list[i], free = True)\n",
    "    lr_dict = vb_params_paragami.fold(lr_list[i], free = True)\n",
    "    \n",
    "    # get posterior expectations\n",
    "    pert_e_ind_admix, pert_e_pop_freq = plotting_utils.get_vb_expectations(pert_dict, gh_loc, gh_weights)\n",
    "    lr_e_ind_admix, lr_e_pop_freq = plotting_utils.get_vb_expectations(lr_dict, gh_loc, gh_weights)\n",
    "    \n",
    "    # get number of clusters\n",
    "    refit_e_num_clusters_vec[i] = cluster_quantities_lib.get_e_num_clusters_from_ez(pert_e_ind_admix)\n",
    "    lr_e_num_clusters_vec[i] = cluster_quantities_lib.get_e_num_clusters_from_ez(lr_e_ind_admix)\n"
   ]
  },
  {
   "cell_type": "code",
   "execution_count": 40,
   "metadata": {},
   "outputs": [
    {
     "data": {
      "text/plain": [
       "<matplotlib.lines.Line2D at 0x7f7fe38605e0>"
      ]
     },
     "execution_count": 40,
     "metadata": {},
     "output_type": "execute_result"
    },
    {
     "data": {
      "image/png": "[encoded data removed]",
      "text/plain": [
       "<Figure size 432x288 with 1 Axes>"
      ]
     },
     "metadata": {
      "needs_background": "light"
     },
     "output_type": "display_data"
    }
   ],
   "source": [
    "plt.plot(alpha_list, lr_e_num_clusters_vec, '+--')\n",
    "plt.plot(alpha_list, refit_e_num_clusters_vec, '+-')\n",
    "\n",
    "plt.xlabel('alpha')\n",
    "plt.ylabel('num posterior clusters')\n",
    "plt.legend(('lr', 'refit'))\n",
    "\n",
    "plt.axvline(prior_params_dict['dp_prior_alpha'], color = 'red', linestyle = 'dashed')"
   ]
  },
  {
   "cell_type": "code",
   "execution_count": null,
   "metadata": {},
   "outputs": [],
   "source": []
  },
  {
   "cell_type": "code",
   "execution_count": null,
   "metadata": {},
   "outputs": [],
   "source": []
  }
 ],
 "metadata": {
  "kernelspec": {
   "display_name": "bnp_sensitivity_jax",
   "language": "python",
   "name": "bnp_sensitivity_jax"
  },
  "language_info": {
   "codemirror_mode": {
    "name": "ipython",
    "version": 3
   },
   "file_extension": ".py",
   "mimetype": "text/x-python",
   "name": "python",
   "nbconvert_exporter": "python",
   "pygments_lexer": "ipython3",
   "version": "3.8.0"
  }
 },
 "nbformat": 4,
 "nbformat_minor": 4
}
