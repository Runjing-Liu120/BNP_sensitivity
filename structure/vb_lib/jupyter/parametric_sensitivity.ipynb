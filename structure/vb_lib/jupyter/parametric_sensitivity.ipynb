{
 "cells": [
  {
   "cell_type": "markdown",
   "metadata": {},
   "source": [
    "Here, we examine parametric sensitivity of the structure model on a small simulated dataset"
   ]
  },
  {
   "cell_type": "code",
   "execution_count": 1,
   "metadata": {},
   "outputs": [
    {
     "name": "stderr",
     "output_type": "stream",
     "text": [
      "/home/rliu/anaconda3/envs/bnp_sensitivity/lib/python3.8/site-packages/autograd/core.py:290: UserWarning: \n",
      "The defvjp method is deprecated. See the update guide and tutorial:\n",
      "https://github.com/HIPS/autograd/blob/master/docs/updateguide.md\n",
      "https://github.com/HIPS/autograd/blob/master/docs/tutorial.md\n",
      "  warnings.warn(deprecation_msg)\n"
     ]
    }
   ],
   "source": [
    "import autograd\n",
    "\n",
    "import autograd.numpy as np\n",
    "import autograd.scipy as sp\n",
    "from numpy.polynomial.hermite import hermgauss\n",
    "\n",
    "from vb_lib import structure_model_lib, data_utils, cavi_lib\n",
    "import vb_lib.structure_optimization_lib as str_opt_lib\n",
    "from vb_lib.preconditioner_lib import get_mfvb_cov\n",
    "\n",
    "import paragami\n",
    "import vittles\n",
    "\n",
    "from copy import deepcopy\n",
    "\n",
    "import argparse\n",
    "import distutils.util\n",
    "\n",
    "import os\n",
    "\n",
    "import time\n",
    "\n",
    "import matplotlib.pyplot as plt\n",
    "%matplotlib inline  \n",
    "\n",
    "from bnpmodeling_runjingdev import cluster_quantities_lib, modeling_lib\n"
   ]
  },
  {
   "cell_type": "code",
   "execution_count": 2,
   "metadata": {},
   "outputs": [],
   "source": [
    "np.random.seed(53453)"
   ]
  },
  {
   "cell_type": "markdown",
   "metadata": {
    "collapsed": true
   },
   "source": [
    "# Draw data"
   ]
  },
  {
   "cell_type": "code",
   "execution_count": 3,
   "metadata": {},
   "outputs": [],
   "source": [
    "n_obs = 50\n",
    "n_loci = 100\n",
    "n_pop = 4"
   ]
  },
  {
   "cell_type": "code",
   "execution_count": 4,
   "metadata": {},
   "outputs": [],
   "source": [
    "g_obs, true_pop_allele_freq, true_ind_admix_propn = \\\n",
    "    data_utils.draw_data(n_obs, n_loci, n_pop)"
   ]
  },
  {
   "cell_type": "code",
   "execution_count": 5,
   "metadata": {
    "scrolled": true
   },
   "outputs": [
    {
     "data": {
      "text/plain": [
       "Text(0.5, 0, 'individual')"
      ]
     },
     "execution_count": 5,
     "metadata": {},
     "output_type": "execute_result"
    },
    {
     "data": {
      "image/png": "[encoded data removed]",
      "text/plain": [
       "<Figure size 1152x144 with 1 Axes>"
      ]
     },
     "metadata": {
      "needs_background": "light"
     },
     "output_type": "display_data"
    }
   ],
   "source": [
    "plt.matshow(true_ind_admix_propn.T)\n",
    "plt.ylabel('population')\n",
    "plt.xlabel('individual')"
   ]
  },
  {
   "cell_type": "code",
   "execution_count": 6,
   "metadata": {
    "scrolled": true
   },
   "outputs": [
    {
     "data": {
      "text/plain": [
       "(50, 100, 3)"
      ]
     },
     "execution_count": 6,
     "metadata": {},
     "output_type": "execute_result"
    }
   ],
   "source": [
    "g_obs.shape"
   ]
  },
  {
   "cell_type": "markdown",
   "metadata": {},
   "source": [
    "# Get prior"
   ]
  },
  {
   "cell_type": "code",
   "execution_count": 7,
   "metadata": {},
   "outputs": [
    {
     "name": "stdout",
     "output_type": "stream",
     "text": [
      "OrderedDict:\n",
      "\t[dp_prior_alpha] = NumericArrayPattern (1,) (lb=0.0, ub=inf)\n",
      "\t[allele_prior_alpha] = NumericArrayPattern (1,) (lb=0.0, ub=inf)\n",
      "\t[allele_prior_beta] = NumericArrayPattern (1,) (lb=0.0, ub=inf)\n"
     ]
    }
   ],
   "source": [
    "prior_params_dict, prior_params_paragami = \\\n",
    "    structure_model_lib.get_default_prior_params()\n",
    "\n",
    "print(prior_params_paragami)\n",
    "\n",
    "prior_params_free = prior_params_paragami.flatten(prior_params_dict, free = True)"
   ]
  },
  {
   "cell_type": "markdown",
   "metadata": {},
   "source": [
    "# Get VB params "
   ]
  },
  {
   "cell_type": "code",
   "execution_count": 8,
   "metadata": {},
   "outputs": [],
   "source": [
    "k_approx = 8"
   ]
  },
  {
   "cell_type": "code",
   "execution_count": 9,
   "metadata": {},
   "outputs": [],
   "source": [
    "gh_deg = 8\n",
    "gh_loc, gh_weights = hermgauss(8)"
   ]
  },
  {
   "cell_type": "code",
   "execution_count": 10,
   "metadata": {
    "scrolled": true
   },
   "outputs": [
    {
     "name": "stdout",
     "output_type": "stream",
     "text": [
      "OrderedDict:\n",
      "\t[pop_freq_beta_params] = NumericArrayPattern (100, 8, 2) (lb=0.0, ub=inf)\n",
      "\t[ind_mix_stick_propn_mean] = NumericArrayPattern (50, 7) (lb=-inf, ub=inf)\n",
      "\t[ind_mix_stick_propn_info] = NumericArrayPattern (50, 7) (lb=0.0001, ub=inf)\n"
     ]
    }
   ],
   "source": [
    "use_logitnormal_sticks = True\n",
    "\n",
    "vb_params_dict, vb_params_paragami = \\\n",
    "    structure_model_lib.get_vb_params_paragami_object(n_obs, n_loci, k_approx,\n",
    "                                    use_logitnormal_sticks = use_logitnormal_sticks)\n",
    "    \n",
    "print(vb_params_paragami)"
   ]
  },
  {
   "cell_type": "markdown",
   "metadata": {},
   "source": [
    "## Initialize "
   ]
  },
  {
   "cell_type": "code",
   "execution_count": 11,
   "metadata": {},
   "outputs": [],
   "source": [
    "vb_params_dict = \\\n",
    "        structure_model_lib.set_init_vb_params(g_obs, k_approx, vb_params_dict,\n",
    "                                                use_logitnormal_sticks)"
   ]
  },
  {
   "cell_type": "code",
   "execution_count": 12,
   "metadata": {},
   "outputs": [],
   "source": [
    "def get_vb_expectations(vb_params_dict, use_logitnormal_sticks): \n",
    "    if use_logitnormal_sticks: \n",
    "        e_ind_admix = cluster_quantities_lib.get_e_cluster_probabilities(\n",
    "                            vb_params_dict['ind_mix_stick_propn_mean'], \n",
    "                            vb_params_dict['ind_mix_stick_propn_info'],\n",
    "                            gh_loc, gh_weights)\n",
    "\n",
    "    else: \n",
    "        ind_mix_stick_beta_params = vb_params_dict['ind_mix_stick_beta_params']\n",
    "        e_stick_lengths = \\\n",
    "                modeling_lib.get_e_beta(ind_mix_stick_beta_params)\n",
    "        e_ind_admix = cluster_quantities_lib.get_mixture_weights_from_stick_break_propns(e_stick_lengths)\n",
    "\n",
    "    e_pop_freq = modeling_lib.get_e_beta(vb_params_dict['pop_freq_beta_params'])\n",
    "    \n",
    "    return e_ind_admix, e_pop_freq"
   ]
  },
  {
   "cell_type": "code",
   "execution_count": 13,
   "metadata": {},
   "outputs": [
    {
     "data": {
      "text/plain": [
       "Text(0.5, 0, 'individual')"
      ]
     },
     "execution_count": 13,
     "metadata": {},
     "output_type": "execute_result"
    },
    {
     "data": {
      "image/png": "[encoded data removed]",
      "text/plain": [
       "<Figure size 1152x184.32 with 1 Axes>"
      ]
     },
     "metadata": {
      "needs_background": "light"
     },
     "output_type": "display_data"
    }
   ],
   "source": [
    "plt.matshow(get_vb_expectations(vb_params_dict, use_logitnormal_sticks)[0].transpose())\n",
    "plt.ylabel('population')\n",
    "plt.xlabel('individual')"
   ]
  },
  {
   "cell_type": "code",
   "execution_count": null,
   "metadata": {},
   "outputs": [],
   "source": []
  },
  {
   "cell_type": "markdown",
   "metadata": {},
   "source": [
    "# Run CAVI"
   ]
  },
  {
   "cell_type": "code",
   "execution_count": 14,
   "metadata": {
    "scrolled": false
   },
   "outputs": [
    {
     "name": "stdout",
     "output_type": "stream",
     "text": [
      "iteration [20]; kl:7602.104705; elapsed: 0.5248secs\n",
      "iteration [40]; kl:7564.639784; elapsed: 0.5136secs\n",
      "iteration [60]; kl:7541.840946; elapsed: 0.6116secs\n",
      "iteration [80]; kl:7529.606602; elapsed: 0.5126secs\n",
      "iteration [100]; kl:7521.16576; elapsed: 0.5451secs\n",
      "iteration [120]; kl:7498.451598; elapsed: 0.4958secs\n",
      "iteration [140]; kl:7494.317148; elapsed: 0.5008secs\n",
      "iteration [160]; kl:7492.981089; elapsed: 0.6385secs\n",
      "iteration [180]; kl:7491.628808; elapsed: 0.5079secs\n",
      "iteration [200]; kl:7488.434971; elapsed: 0.5894secs\n",
      "iteration [220]; kl:7483.683139; elapsed: 0.542secs\n",
      "iteration [240]; kl:7477.437709; elapsed: 0.6166secs\n",
      "iteration [260]; kl:7461.148045; elapsed: 0.5612secs\n",
      "iteration [280]; kl:7434.763537; elapsed: 0.5917secs\n",
      "iteration [300]; kl:7432.352247; elapsed: 0.5132secs\n",
      "iteration [320]; kl:7428.580407; elapsed: 0.4995secs\n",
      "iteration [340]; kl:7417.048586; elapsed: 0.5139secs\n",
      "iteration [360]; kl:7401.451989; elapsed: 0.4923secs\n",
      "iteration [380]; kl:7394.069221; elapsed: 0.4948secs\n",
      "iteration [400]; kl:7386.154048; elapsed: 0.4885secs\n",
      "iteration [420]; kl:7382.529103; elapsed: 0.4741secs\n",
      "iteration [440]; kl:7382.334751; elapsed: 0.4757secs\n",
      "iteration [460]; kl:7382.318231; elapsed: 0.4765secs\n",
      "iteration [480]; kl:7382.313401; elapsed: 0.4743secs\n",
      "CAVI done. Termination after 493 steps in 12.97 seconds\n"
     ]
    }
   ],
   "source": [
    "# get beta parameters for sticks and populations\n",
    "vb_opt_dict, vb_opt, ez_opt, kl_path, time_vec = \\\n",
    "    cavi_lib.run_cavi(g_obs, vb_params_dict, \n",
    "                        vb_params_paragami, \n",
    "                        prior_params_dict,\n",
    "                        use_logitnormal_sticks, \n",
    "                        gh_loc = gh_loc, gh_weights = gh_weights,\n",
    "                        max_iter = 1000,\n",
    "                        x_tol = 1e-3, \n",
    "                        print_every = 20)\n"
   ]
  },
  {
   "cell_type": "code",
   "execution_count": null,
   "metadata": {},
   "outputs": [],
   "source": []
  },
  {
   "cell_type": "markdown",
   "metadata": {},
   "source": [
    "# Check out the fit"
   ]
  },
  {
   "cell_type": "code",
   "execution_count": 17,
   "metadata": {},
   "outputs": [
    {
     "data": {
      "text/plain": [
       "<matplotlib.image.AxesImage at 0x7f16fe11ab50>"
      ]
     },
     "execution_count": 17,
     "metadata": {},
     "output_type": "execute_result"
    },
    {
     "data": {
      "image/png": "[encoded data removed]",
      "text/plain": [
       "<Figure size 1152x144 with 1 Axes>"
      ]
     },
     "metadata": {
      "needs_background": "light"
     },
     "output_type": "display_data"
    }
   ],
   "source": [
    "# truth\n",
    "plt.matshow(true_ind_admix_propn.T)"
   ]
  },
  {
   "cell_type": "code",
   "execution_count": 18,
   "metadata": {},
   "outputs": [
    {
     "data": {
      "text/plain": [
       "<matplotlib.image.AxesImage at 0x7f16fdfaebe0>"
      ]
     },
     "execution_count": 18,
     "metadata": {},
     "output_type": "execute_result"
    },
    {
     "data": {
      "image/png": "[encoded data removed]",
      "text/plain": [
       "<Figure size 1152x184.32 with 1 Axes>"
      ]
     },
     "metadata": {
      "needs_background": "light"
     },
     "output_type": "display_data"
    }
   ],
   "source": [
    "# fitted\n",
    "e_ind_admix = get_vb_expectations(vb_opt_dict, use_logitnormal_sticks)[0]\n",
    "plt.matshow(e_ind_admix.T)"
   ]
  },
  {
   "cell_type": "markdown",
   "metadata": {},
   "source": [
    "# Define sensitivity object"
   ]
  },
  {
   "cell_type": "code",
   "execution_count": 19,
   "metadata": {},
   "outputs": [],
   "source": [
    "# initial prior alpha\n",
    "use_free_alpha = True\n",
    "prior_alpha0 = prior_params_paragami['dp_prior_alpha'].flatten(prior_params_dict['dp_prior_alpha'], \n",
    "                                                              free = use_free_alpha)"
   ]
  },
  {
   "cell_type": "code",
   "execution_count": 20,
   "metadata": {},
   "outputs": [],
   "source": [
    "# set up objective as function of vb params and prior param \n",
    "\n",
    "def objective_fun(vb_params_dict, alpha): \n",
    "    \n",
    "    _prior_params_dict = deepcopy(prior_params_dict)\n",
    "    _prior_params_dict['dp_prior_alpha'] = alpha\n",
    "    \n",
    "    return structure_model_lib.get_kl(g_obs, vb_params_dict, _prior_params_dict,\n",
    "                    use_logitnormal_sticks,\n",
    "                    gh_loc = gh_loc, gh_weights = gh_weights)\n",
    "\n",
    "\n",
    "objective_fun_free = paragami.FlattenFunctionInput(\n",
    "                                original_fun=objective_fun, \n",
    "                                patterns = [vb_params_paragami, prior_params_paragami['dp_prior_alpha']],\n",
    "                                free = [True, use_free_alpha],\n",
    "                                argnums = [0, 1])\n"
   ]
  },
  {
   "cell_type": "code",
   "execution_count": 21,
   "metadata": {},
   "outputs": [
    {
     "name": "stdout",
     "output_type": "stream",
     "text": [
      "preconditioner time: 0.223sec\n"
     ]
    }
   ],
   "source": [
    "# get preconditioner \n",
    "t0 = time.time()\n",
    "mfvb_preconditioner = \\\n",
    "    get_mfvb_cov(vb_opt_dict, vb_params_paragami, use_logitnormal_sticks, return_info = True)\n",
    "\n",
    "print('preconditioner time: {:0.3}sec'.format(time.time() - t0))"
   ]
  },
  {
   "cell_type": "code",
   "execution_count": 22,
   "metadata": {},
   "outputs": [],
   "source": [
    "# get solver \n",
    "obj_fun_hvp = autograd.hessian_vector_product(objective_fun_free, argnum = 0)\n",
    "\n",
    "hess_solver = vittles.solver_lib.get_cg_solver(lambda x : obj_fun_hvp(vb_opt, prior_alpha0, x), \n",
    "                                                        dim = len(vb_opt), \n",
    "                                                        cg_opts={'M':mfvb_preconditioner})\n"
   ]
  },
  {
   "cell_type": "code",
   "execution_count": 24,
   "metadata": {},
   "outputs": [
    {
     "name": "stdout",
     "output_type": "stream",
     "text": [
      "cross hess time:  0.9082562923431396\n",
      "solver time:  3.4165666103363037\n",
      "Total time:  4.325208425521851\n"
     ]
    }
   ],
   "source": [
    "t0 = time.time()\n",
    "vb_sens = \\\n",
    "    vittles.HyperparameterSensitivityLinearApproximation(\n",
    "        objective_fun = objective_fun_free, \n",
    "        opt_par_value = vb_opt, \n",
    "        hyper_par_value = prior_alpha0, \n",
    "        hess_solver = hess_solver)\n",
    "\n",
    "print('Total time: ', time.time() - t0)\n"
   ]
  },
  {
   "cell_type": "code",
   "execution_count": null,
   "metadata": {},
   "outputs": [],
   "source": []
  },
  {
   "cell_type": "markdown",
   "metadata": {},
   "source": [
    "# Perturb alpha. Check results"
   ]
  },
  {
   "cell_type": "code",
   "execution_count": 25,
   "metadata": {},
   "outputs": [],
   "source": [
    "# set new alpha \n",
    "new_alpha = np.array([5.])\n",
    "\n",
    "prior_params_pert_dict = deepcopy(prior_params_dict)\n",
    "prior_params_pert_dict['dp_prior_alpha'] = new_alpha\n"
   ]
  },
  {
   "cell_type": "code",
   "execution_count": 26,
   "metadata": {},
   "outputs": [
    {
     "name": "stdout",
     "output_type": "stream",
     "text": [
      "initial alpha,  [3.]\n",
      "perturbed alpha,  [5.]\n"
     ]
    }
   ],
   "source": [
    "print('initial alpha, ', prior_params_dict['dp_prior_alpha'])\n",
    "print('perturbed alpha, ', prior_params_pert_dict['dp_prior_alpha'])\n"
   ]
  },
  {
   "cell_type": "code",
   "execution_count": 27,
   "metadata": {},
   "outputs": [
    {
     "name": "stdout",
     "output_type": "stream",
     "text": [
      "l_inf diff:  5.972801469928095\n"
     ]
    }
   ],
   "source": [
    "# linear response prediction \n",
    "lr_vb_free_params = \\\n",
    "    vb_sens.predict_opt_par_from_hyper_par(\n",
    "        prior_params_paragami['dp_prior_alpha'].flatten(prior_params_pert_dict['dp_prior_alpha'], \n",
    "                                                        free = use_free_alpha))\n",
    "\n",
    "print('l_inf diff: ', np.max(np.abs(lr_vb_free_params - vb_opt)))\n"
   ]
  },
  {
   "cell_type": "markdown",
   "metadata": {},
   "source": [
    "### reoptimize"
   ]
  },
  {
   "cell_type": "code",
   "execution_count": 28,
   "metadata": {},
   "outputs": [],
   "source": [
    "new_init_dict = deepcopy(vb_opt_dict)\n",
    "new_init_free = vb_params_paragami.flatten(new_init_dict, free = True)"
   ]
  },
  {
   "cell_type": "code",
   "execution_count": 29,
   "metadata": {},
   "outputs": [
    {
     "name": "stdout",
     "output_type": "stream",
     "text": [
      "iteration [20]; kl:7622.157409; elapsed: 0.4964secs\n",
      "iteration [40]; kl:7620.744635; elapsed: 0.6508secs\n",
      "iteration [60]; kl:7620.684627; elapsed: 0.4969secs\n",
      "iteration [80]; kl:7620.675271; elapsed: 0.4827secs\n",
      "iteration [100]; kl:7620.673049; elapsed: 0.4852secs\n",
      "iteration [120]; kl:7620.672429; elapsed: 0.5454secs\n",
      "iteration [140]; kl:7620.672258; elapsed: 0.4879secs\n",
      "iteration [160]; kl:7620.672205; elapsed: 0.4762secs\n",
      "CAVI done. Termination after 163 steps in 4.19 seconds\n"
     ]
    }
   ],
   "source": [
    "vb_pert_dict, vb_opt_pert, e_z_pert = \\\n",
    "    cavi_lib.run_cavi(g_obs, deepcopy(new_init_dict), \n",
    "                                            vb_params_paragami,\n",
    "                                            prior_params_pert_dict,\n",
    "                                            use_logitnormal_sticks, \n",
    "                                            gh_loc = gh_loc, gh_weights = gh_weights,\n",
    "                                            max_iter = 1000,\n",
    "                                            x_tol = 1e-4, \n",
    "                                            print_every = 20)[0:3]"
   ]
  },
  {
   "cell_type": "markdown",
   "metadata": {},
   "source": [
    "### compare"
   ]
  },
  {
   "cell_type": "code",
   "execution_count": 30,
   "metadata": {},
   "outputs": [],
   "source": [
    "def print_diff_plot(lr_vb_free_params, vb_opt_pert, vb_opt): \n",
    "    plt.plot(lr_vb_free_params - vb_opt, \n",
    "             vb_opt_pert - vb_opt, \n",
    "             '+', color = 'red')\n",
    "\n",
    "    plt.plot(lr_vb_free_params - vb_opt, \n",
    "            lr_vb_free_params - vb_opt, \n",
    "             '-', color = 'blue')\n",
    "\n",
    "    plt.xlabel('lr')\n",
    "    plt.ylabel('re-optimized')\n"
   ]
  },
  {
   "cell_type": "code",
   "execution_count": 31,
   "metadata": {},
   "outputs": [
    {
     "data": {
      "image/png": "[encoded data removed]",
      "text/plain": [
       "<Figure size 432x288 with 1 Axes>"
      ]
     },
     "metadata": {
      "needs_background": "light"
     },
     "output_type": "display_data"
    }
   ],
   "source": [
    "# compare free parameters\n",
    "print_diff_plot(lr_vb_free_params, vb_opt_pert, vb_opt)"
   ]
  },
  {
   "cell_type": "code",
   "execution_count": 32,
   "metadata": {},
   "outputs": [],
   "source": [
    "# compare expectations\n",
    "init_e_ind_admix, init_e_pop_freq = get_vb_expectations(vb_opt_dict, use_logitnormal_sticks)\n",
    "pert_e_ind_admix, pert_e_pop_freq = get_vb_expectations(vb_pert_dict, use_logitnormal_sticks)\n",
    "lr_e_ind_admix, lr_e_pop_freq = get_vb_expectations(vb_params_paragami.fold(lr_vb_free_params, free = True), \n",
    "                                                    use_logitnormal_sticks)"
   ]
  },
  {
   "cell_type": "code",
   "execution_count": 33,
   "metadata": {},
   "outputs": [
    {
     "data": {
      "image/png": "[encoded data removed]",
      "text/plain": [
       "<Figure size 432x288 with 1 Axes>"
      ]
     },
     "metadata": {
      "needs_background": "light"
     },
     "output_type": "display_data"
    }
   ],
   "source": [
    "print_diff_plot(lr_e_ind_admix, pert_e_ind_admix, init_e_ind_admix)"
   ]
  },
  {
   "cell_type": "code",
   "execution_count": 34,
   "metadata": {},
   "outputs": [
    {
     "data": {
      "image/png": "[encoded data removed]",
      "text/plain": [
       "<Figure size 432x288 with 1 Axes>"
      ]
     },
     "metadata": {
      "needs_background": "light"
     },
     "output_type": "display_data"
    }
   ],
   "source": [
    "print_diff_plot(lr_e_pop_freq, pert_e_pop_freq, init_e_pop_freq)"
   ]
  },
  {
   "cell_type": "code",
   "execution_count": 35,
   "metadata": {},
   "outputs": [
    {
     "name": "stdout",
     "output_type": "stream",
     "text": [
      "init number of cluster:  5.901201976367991\n",
      "pert number of cluster:  6.162381695605512\n",
      "lr number of cluster:  6.064266382168583\n"
     ]
    }
   ],
   "source": [
    "print('init number of cluster: ', cluster_quantities_lib.get_e_num_clusters_from_ez(init_e_ind_admix))\n",
    "\n",
    "print('pert number of cluster: ', cluster_quantities_lib.get_e_num_clusters_from_ez(pert_e_ind_admix))\n",
    "print('lr number of cluster: ', cluster_quantities_lib.get_e_num_clusters_from_ez(lr_e_ind_admix))"
   ]
  },
  {
   "cell_type": "code",
   "execution_count": 36,
   "metadata": {},
   "outputs": [],
   "source": [
    "# ez_init = cavi_lib.get_ez_from_vb_params_dict(g_obs, vb_opt_dict, use_logitnormal_sticks)\n",
    "# ez_pert = cavi_lib.get_ez_from_vb_params_dict(g_obs, vb_pert_dict, use_logitnormal_sticks)\n",
    "# ez_lr = cavi_lib.get_ez_from_vb_params_dict(g_obs, vb_params_paragami.fold(lr_vb_free_params, free = True), \n",
    "#                                                     use_logitnormal_sticks)\n",
    "\n",
    "\n",
    "# _ez_init = ez_init.transpose(0, 1, 3, 2).reshape(-1, 8)\n",
    "# _ez_pert = ez_pert.transpose(0, 1, 3, 2).reshape(-1, 8)\n",
    "# _ez_lr = ez_lr.transpose(0, 1, 3, 2).reshape(-1, 8)\n",
    "\n",
    "# print('init number of cluster: ', cluster_quantities_lib.get_e_num_clusters_from_ez(_ez_init))\n",
    "# print('pert number of cluster: ', cluster_quantities_lib.get_e_num_clusters_from_ez(_ez_pert))\n",
    "# print('lr number of cluster: ', cluster_quantities_lib.get_e_num_clusters_from_ez(_ez_lr))"
   ]
  },
  {
   "cell_type": "code",
   "execution_count": null,
   "metadata": {},
   "outputs": [],
   "source": []
  },
  {
   "cell_type": "markdown",
   "metadata": {},
   "source": [
    "# Fit for a range of alpha"
   ]
  },
  {
   "cell_type": "code",
   "execution_count": 37,
   "metadata": {},
   "outputs": [],
   "source": [
    "alpha_list = np.arange(1, 8)"
   ]
  },
  {
   "cell_type": "code",
   "execution_count": 38,
   "metadata": {},
   "outputs": [],
   "source": [
    "def refit_with_alpha(alpha, new_init_dict):\n",
    "    # sets new alpha, returns new vb optimum\n",
    "    \n",
    "    # set new prior\n",
    "    new_alpha = np.array([alpha])\n",
    "\n",
    "    prior_params_pert_dict = deepcopy(prior_params_dict)\n",
    "    prior_params_pert_dict['dp_prior_alpha'] = new_alpha\n",
    "    \n",
    "    vb_opt_pert = cavi_lib.run_cavi(g_obs, deepcopy(new_init_dict), \n",
    "                                    vb_params_paragami,\n",
    "                                    prior_params_pert_dict,\n",
    "                                    use_logitnormal_sticks, \n",
    "                                    gh_loc = gh_loc, gh_weights = gh_weights, \n",
    "                                    max_iter = 1000,\n",
    "                                    x_tol = 1e-3, \n",
    "                                    print_every = 20)[1]\n",
    "\n",
    "        \n",
    "    return vb_opt_pert\n"
   ]
  },
  {
   "cell_type": "code",
   "execution_count": 39,
   "metadata": {},
   "outputs": [
    {
     "name": "stdout",
     "output_type": "stream",
     "text": [
      "alphas:  [1 2 3 4 5 6 7]\n"
     ]
    }
   ],
   "source": [
    "print('alphas: ', alpha_list)"
   ]
  },
  {
   "cell_type": "code",
   "execution_count": 40,
   "metadata": {
    "scrolled": false
   },
   "outputs": [
    {
     "name": "stdout",
     "output_type": "stream",
     "text": [
      "\n",
      " re-optimzing with alpha =  1\n",
      "iteration [20]; kl:6910.095022; elapsed: 0.5106secs\n",
      "iteration [40]; kl:6904.37878; elapsed: 0.5782secs\n",
      "iteration [60]; kl:6902.768595; elapsed: 0.4843secs\n",
      "iteration [80]; kl:6899.148759; elapsed: 0.4818secs\n",
      "iteration [100]; kl:6898.696712; elapsed: 0.4672secs\n",
      "iteration [120]; kl:6898.662387; elapsed: 0.5509secs\n",
      "iteration [140]; kl:6898.64552; elapsed: 0.4744secs\n",
      "iteration [160]; kl:6898.633098; elapsed: 0.4818secs\n",
      "iteration [180]; kl:6898.61876; elapsed: 0.6111secs\n",
      "iteration [200]; kl:6898.598054; elapsed: 0.4745secs\n",
      "iteration [220]; kl:6898.573183; elapsed: 0.6663secs\n",
      "iteration [240]; kl:6898.548237; elapsed: 0.6161secs\n",
      "iteration [260]; kl:6898.527651; elapsed: 0.532secs\n",
      "iteration [280]; kl:6898.514103; elapsed: 0.6191secs\n",
      "CAVI done. Termination after 299 steps in 8.01 seconds\n",
      "\n",
      " re-optimzing with alpha =  2\n",
      "iteration [20]; kl:7191.349952; elapsed: 0.4766secs\n",
      "iteration [40]; kl:7190.177116; elapsed: 0.4776secs\n",
      "iteration [60]; kl:7189.985079; elapsed: 0.4774secs\n",
      "iteration [80]; kl:7189.854465; elapsed: 0.4767secs\n",
      "iteration [100]; kl:7189.749494; elapsed: 0.4831secs\n",
      "iteration [120]; kl:7189.687579; elapsed: 0.4888secs\n",
      "iteration [140]; kl:7189.661866; elapsed: 0.4861secs\n",
      "iteration [160]; kl:7189.64661; elapsed: 0.4899secs\n",
      "iteration [180]; kl:7189.634695; elapsed: 0.4927secs\n",
      "iteration [200]; kl:7189.625116; elapsed: 0.5396secs\n",
      "iteration [220]; kl:7189.617258; elapsed: 0.5847secs\n",
      "iteration [240]; kl:7189.610726; elapsed: 0.5779secs\n",
      "iteration [260]; kl:7189.605241; elapsed: 0.6353secs\n",
      "iteration [280]; kl:7189.600601; elapsed: 0.4891secs\n",
      "iteration [300]; kl:7189.596645; elapsed: 0.5467secs\n",
      "iteration [320]; kl:7189.593249; elapsed: 0.5621secs\n",
      "iteration [340]; kl:7189.59031; elapsed: 0.658secs\n",
      "iteration [360]; kl:7189.587745; elapsed: 0.5959secs\n",
      "iteration [380]; kl:7189.585489; elapsed: 0.5748secs\n",
      "CAVI done. Termination after 397 steps in 10.63 seconds\n",
      "\n",
      " re-optimzing with alpha =  3\n",
      "CAVI done. Termination after 6 steps in 0.23 seconds\n",
      "\n",
      " re-optimzing with alpha =  4\n",
      "iteration [20]; kl:7518.032857; elapsed: 0.59secs\n",
      "iteration [40]; kl:7517.003352; elapsed: 0.5271secs\n",
      "iteration [60]; kl:7516.920167; elapsed: 0.6057secs\n",
      "iteration [80]; kl:7516.908614; elapsed: 0.4814secs\n",
      "iteration [100]; kl:7516.906497; elapsed: 0.4761secs\n",
      "iteration [120]; kl:7516.905954; elapsed: 0.4764secs\n",
      "CAVI done. Termination after 120 steps in 3.16 seconds\n",
      "\n",
      " re-optimzing with alpha =  5\n",
      "iteration [20]; kl:7622.157409; elapsed: 0.4829secs\n",
      "iteration [40]; kl:7620.744635; elapsed: 0.4794secs\n",
      "iteration [60]; kl:7620.684627; elapsed: 0.579secs\n",
      "iteration [80]; kl:7620.675271; elapsed: 0.5073secs\n",
      "CAVI done. Termination after 89 steps in 2.26 seconds\n",
      "\n",
      " re-optimzing with alpha =  6\n",
      "iteration [20]; kl:7708.003436; elapsed: 0.4956secs\n",
      "iteration [40]; kl:7706.854949; elapsed: 0.4771secs\n",
      "iteration [60]; kl:7706.765772; elapsed: 0.4811secs\n",
      "iteration [80]; kl:7706.749122; elapsed: 0.4802secs\n",
      "CAVI done. Termination after 97 steps in 2.34 seconds\n",
      "\n",
      " re-optimzing with alpha =  7\n",
      "iteration [20]; kl:7782.842984; elapsed: 0.4824secs\n",
      "iteration [40]; kl:7781.343329; elapsed: 0.488secs\n",
      "iteration [60]; kl:7781.169504; elapsed: 0.4799secs\n",
      "iteration [80]; kl:7781.133521; elapsed: 0.5687secs\n",
      "iteration [100]; kl:7781.122265; elapsed: 0.6143secs\n",
      "iteration [120]; kl:7781.116972; elapsed: 0.5786secs\n",
      "iteration [140]; kl:7781.114471; elapsed: 0.5736secs\n",
      "iteration [160]; kl:7781.112515; elapsed: 0.5027secs\n",
      "iteration [180]; kl:7781.110914; elapsed: 0.4902secs\n",
      "iteration [200]; kl:7781.109555; elapsed: 0.4892secs\n",
      "iteration [220]; kl:7781.108366; elapsed: 0.4853secs\n",
      "iteration [240]; kl:7781.107293; elapsed: 0.4957secs\n",
      "iteration [260]; kl:7781.106297; elapsed: 0.4867secs\n",
      "iteration [280]; kl:7781.105342; elapsed: 0.4915secs\n",
      "iteration [300]; kl:7781.104399; elapsed: 0.4893secs\n",
      "iteration [320]; kl:7781.103435; elapsed: 0.4877secs\n",
      "iteration [340]; kl:7781.102415; elapsed: 0.4936secs\n",
      "iteration [360]; kl:7781.101294; elapsed: 0.494secs\n",
      "iteration [380]; kl:7781.100009; elapsed: 0.4882secs\n",
      "iteration [400]; kl:7781.098463; elapsed: 0.4893secs\n",
      "iteration [420]; kl:7781.096496; elapsed: 0.4924secs\n",
      "iteration [440]; kl:7781.093864; elapsed: 0.4911secs\n",
      "iteration [460]; kl:7781.091882; elapsed: 0.4991secs\n",
      "iteration [480]; kl:7781.089341; elapsed: 0.501secs\n",
      "iteration [500]; kl:7781.085955; elapsed: 0.5064secs\n",
      "iteration [520]; kl:7781.081231; elapsed: 0.4996secs\n",
      "iteration [540]; kl:7781.074269; elapsed: 0.4988secs\n",
      "iteration [560]; kl:7781.063267; elapsed: 0.5096secs\n",
      "iteration [580]; kl:7781.044277; elapsed: 0.5036secs\n",
      "iteration [600]; kl:7781.007608; elapsed: 0.5028secs\n",
      "iteration [620]; kl:7780.926822; elapsed: 0.5001secs\n",
      "iteration [640]; kl:7780.731345; elapsed: 0.5003secs\n",
      "iteration [660]; kl:7780.334668; elapsed: 0.5053secs\n",
      "iteration [680]; kl:7779.927135; elapsed: 0.505secs\n",
      "iteration [700]; kl:7779.554866; elapsed: 0.4881secs\n",
      "iteration [720]; kl:7779.452291; elapsed: 0.4781secs\n",
      "iteration [740]; kl:7779.42996; elapsed: 0.4802secs\n",
      "iteration [760]; kl:7779.426019; elapsed: 0.488secs\n",
      "CAVI done. Termination after 770 steps in 19.36 seconds\n"
     ]
    }
   ],
   "source": [
    "vb_pert_list = []\n",
    "for alpha in alpha_list: \n",
    "    print('\\n re-optimzing with alpha = ', alpha)\n",
    "    \n",
    "    vb_pert_list.append(refit_with_alpha(alpha, new_init_dict))\n"
   ]
  },
  {
   "cell_type": "markdown",
   "metadata": {},
   "source": [
    "# Check free parameters"
   ]
  },
  {
   "cell_type": "code",
   "execution_count": 41,
   "metadata": {},
   "outputs": [],
   "source": [
    "lr_list = []\n",
    "\n",
    "for alpha in alpha_list: \n",
    "    \n",
    "    # set alpha \n",
    "    new_alpha = np.array([alpha])\n",
    "    prior_params_pert_dict = deepcopy(prior_params_dict)\n",
    "    prior_params_pert_dict['dp_prior_alpha'] = new_alpha\n",
    "    \n",
    "    # get linear response\n",
    "    lr_list.append(vb_sens.predict_opt_par_from_hyper_par(\n",
    "        prior_params_paragami['dp_prior_alpha'].flatten(prior_params_pert_dict['dp_prior_alpha'], \n",
    "                                                        free = use_free_alpha)))\n"
   ]
  },
  {
   "cell_type": "code",
   "execution_count": 42,
   "metadata": {
    "scrolled": false
   },
   "outputs": [
    {
     "data": {
      "image/png": "[encoded data removed]",
      "text/plain": [
       "<Figure size 432x288 with 1 Axes>"
      ]
     },
     "metadata": {
      "needs_background": "light"
     },
     "output_type": "display_data"
    },
    {
     "data": {
      "image/png": "[encoded data removed]",
      "text/plain": [
       "<Figure size 432x288 with 1 Axes>"
      ]
     },
     "metadata": {
      "needs_background": "light"
     },
     "output_type": "display_data"
    },
    {
     "data": {
      "image/png": "[encoded data removed]",
      "text/plain": [
       "<Figure size 432x288 with 1 Axes>"
      ]
     },
     "metadata": {
      "needs_background": "light"
     },
     "output_type": "display_data"
    },
    {
     "data": {
      "image/png": "[encoded data removed]",
      "text/plain": [
       "<Figure size 432x288 with 1 Axes>"
      ]
     },
     "metadata": {
      "needs_background": "light"
     },
     "output_type": "display_data"
    },
    {
     "data": {
      "image/png": "[encoded data removed]",
      "text/plain": [
       "<Figure size 432x288 with 1 Axes>"
      ]
     },
     "metadata": {
      "needs_background": "light"
     },
     "output_type": "display_data"
    },
    {
     "data": {
      "image/png": "[encoded data removed]",
      "text/plain": [
       "<Figure size 432x288 with 1 Axes>"
      ]
     },
     "metadata": {
      "needs_background": "light"
     },
     "output_type": "display_data"
    },
    {
     "data": {
      "image/png": "[encoded data removed]",
      "text/plain": [
       "<Figure size 432x288 with 1 Axes>"
      ]
     },
     "metadata": {
      "needs_background": "light"
     },
     "output_type": "display_data"
    }
   ],
   "source": [
    "for i in range(len(alpha_list)): \n",
    "    plt.figure()\n",
    "    print_diff_plot(lr_list[i], vb_pert_list[i], vb_opt)\n",
    "    \n",
    "    plt.title('alpha = {}'.format(alpha_list[i]))\n"
   ]
  },
  {
   "cell_type": "markdown",
   "metadata": {},
   "source": [
    "# Number of clusters"
   ]
  },
  {
   "cell_type": "code",
   "execution_count": 43,
   "metadata": {},
   "outputs": [],
   "source": [
    "lr_e_num_clusters_vec = np.zeros(len(alpha_list))\n",
    "refit_e_num_clusters_vec = np.zeros(len(alpha_list))\n",
    "\n",
    "for i in range(len(alpha_list)): \n",
    "    \n",
    "    # get dictionaries\n",
    "    pert_dict = vb_params_paragami.fold(vb_pert_list[i], free = True)\n",
    "    lr_dict = vb_params_paragami.fold(lr_list[i], free = True)\n",
    "    \n",
    "    # get posterior expectations\n",
    "    pert_e_ind_admix, pert_e_pop_freq = get_vb_expectations(pert_dict, use_logitnormal_sticks)\n",
    "    lr_e_ind_admix, lr_e_pop_freq = get_vb_expectations(lr_dict, use_logitnormal_sticks)\n",
    "    \n",
    "    # get number of clusters\n",
    "    refit_e_num_clusters_vec[i] = cluster_quantities_lib.get_e_num_clusters_from_ez(pert_e_ind_admix)\n",
    "    lr_e_num_clusters_vec[i] = cluster_quantities_lib.get_e_num_clusters_from_ez(lr_e_ind_admix)\n"
   ]
  },
  {
   "cell_type": "code",
   "execution_count": 44,
   "metadata": {},
   "outputs": [
    {
     "data": {
      "text/plain": [
       "<matplotlib.lines.Line2D at 0x7f16fdc045b0>"
      ]
     },
     "execution_count": 44,
     "metadata": {},
     "output_type": "execute_result"
    },
    {
     "data": {
      "image/png": "[encoded data removed]",
      "text/plain": [
       "<Figure size 432x288 with 1 Axes>"
      ]
     },
     "metadata": {
      "needs_background": "light"
     },
     "output_type": "display_data"
    }
   ],
   "source": [
    "plt.plot(alpha_list, lr_e_num_clusters_vec, '+--')\n",
    "plt.plot(alpha_list, refit_e_num_clusters_vec, '+-')\n",
    "\n",
    "plt.xlabel('alpha')\n",
    "plt.ylabel('num posterior clusters')\n",
    "plt.legend(('lr', 'refit'))\n",
    "\n",
    "plt.axvline(prior_params_dict['dp_prior_alpha'], color = 'red', linestyle = 'dashed')"
   ]
  },
  {
   "cell_type": "code",
   "execution_count": null,
   "metadata": {},
   "outputs": [],
   "source": []
  },
  {
   "cell_type": "code",
   "execution_count": null,
   "metadata": {},
   "outputs": [],
   "source": []
  }
 ],
 "metadata": {
  "kernelspec": {
   "display_name": "bnp_sensitivity",
   "language": "python",
   "name": "bnp_sensitivity"
  },
  "language_info": {
   "codemirror_mode": {
    "name": "ipython",
    "version": 3
   },
   "file_extension": ".py",
   "mimetype": "text/x-python",
   "name": "python",
   "nbconvert_exporter": "python",
   "pygments_lexer": "ipython3",
   "version": "3.8.0"
  }
 },
 "nbformat": 4,
 "nbformat_minor": 2
}
