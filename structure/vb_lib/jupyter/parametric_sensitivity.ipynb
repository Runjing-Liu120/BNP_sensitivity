{
 "cells": [
  {
   "cell_type": "markdown",
   "metadata": {},
   "source": [
    "Here, we examine parametric sensitivity of the structure model on a small simulated dataset"
   ]
  },
  {
   "cell_type": "code",
   "execution_count": 1,
   "metadata": {},
   "outputs": [
    {
     "name": "stderr",
     "output_type": "stream",
     "text": [
      "/accounts/grad/runjing_liu/.conda/envs/bnp_sensitivity_jax/lib/python3.8/site-packages/jax/lib/xla_bridge.py:130: UserWarning: No GPU/TPU found, falling back to CPU.\n",
      "  warnings.warn('No GPU/TPU found, falling back to CPU.')\n"
     ]
    }
   ],
   "source": [
    "import jax\n",
    "\n",
    "import jax.numpy as np\n",
    "import jax.scipy as sp\n",
    "\n",
    "from numpy.polynomial.hermite import hermgauss\n",
    "import scipy as osp\n",
    "\n",
    "from vb_lib import structure_model_lib, data_utils, cavi_lib, plotting_utils\n",
    "import vb_lib.structure_optimization_lib as s_optim_lib\n",
    "\n",
    "from vb_lib.preconditioner_lib import get_mfvb_cov_matmul\n",
    "from bnpmodeling_runjingdev.sensitivity_lib import HyperparameterSensitivityLinearApproximation\n",
    "\n",
    "import paragami\n",
    "\n",
    "from copy import deepcopy\n",
    "\n",
    "import time\n",
    "\n",
    "import matplotlib.pyplot as plt\n",
    "%matplotlib inline  \n",
    "\n",
    "from bnpmodeling_runjingdev import cluster_quantities_lib, modeling_lib\n"
   ]
  },
  {
   "cell_type": "code",
   "execution_count": 2,
   "metadata": {},
   "outputs": [],
   "source": [
    "import numpy as onp\n",
    "onp.random.seed(53453)"
   ]
  },
  {
   "cell_type": "markdown",
   "metadata": {},
   "source": [
    "# Draw data"
   ]
  },
  {
   "cell_type": "code",
   "execution_count": 3,
   "metadata": {},
   "outputs": [],
   "source": [
    "data_file = '../simulated_data/simulated_structure_data_nobs20_nloci50_npop4.npz'\n",
    "data = np.load(data_file)\n",
    "\n",
    "# the observations\n",
    "g_obs = np.array(data['g_obs'], dtype = int)\n",
    "\n",
    "n_obs = g_obs.shape[0]\n",
    "n_loci = g_obs.shape[1]\n",
    "\n",
    "# the ground truth \n",
    "true_ind_admix_propn = data['true_ind_admix_propn']"
   ]
  },
  {
   "cell_type": "code",
   "execution_count": 4,
   "metadata": {},
   "outputs": [
    {
     "data": {
      "image/png": "[encoded data removed]",
      "text/plain": [
       "<Figure size 432x288 with 1 Axes>"
      ]
     },
     "metadata": {},
     "output_type": "display_data"
    }
   ],
   "source": [
    "fig, axarr = plt.subplots(1, 1)\n",
    "plotting_utils.plot_admixture(true_ind_admix_propn, axarr);"
   ]
  },
  {
   "cell_type": "code",
   "execution_count": 5,
   "metadata": {
    "scrolled": true
   },
   "outputs": [
    {
     "data": {
      "text/plain": [
       "(20, 50, 3)"
      ]
     },
     "execution_count": 5,
     "metadata": {},
     "output_type": "execute_result"
    }
   ],
   "source": [
    "g_obs.shape"
   ]
  },
  {
   "cell_type": "code",
   "execution_count": 6,
   "metadata": {
    "scrolled": true
   },
   "outputs": [
    {
     "data": {
      "text/plain": [
       "Text(0.5, 0, 'individual')"
      ]
     },
     "execution_count": 6,
     "metadata": {},
     "output_type": "execute_result"
    },
    {
     "data": {
      "image/png": "[encoded data removed]",
      "text/plain": [
       "<Figure size 1152x230.4 with 1 Axes>"
      ]
     },
     "metadata": {
      "needs_background": "light"
     },
     "output_type": "display_data"
    }
   ],
   "source": [
    "plt.matshow(true_ind_admix_propn.T)\n",
    "plt.ylabel('population')\n",
    "plt.xlabel('individual')"
   ]
  },
  {
   "cell_type": "markdown",
   "metadata": {},
   "source": [
    "# Get prior"
   ]
  },
  {
   "cell_type": "code",
   "execution_count": 7,
   "metadata": {},
   "outputs": [
    {
     "name": "stdout",
     "output_type": "stream",
     "text": [
      "OrderedDict:\n",
      "\t[dp_prior_alpha] = NumericArrayPattern (1,) (lb=0.0, ub=inf)\n",
      "\t[allele_prior_alpha] = NumericArrayPattern (1,) (lb=0.0, ub=inf)\n",
      "\t[allele_prior_beta] = NumericArrayPattern (1,) (lb=0.0, ub=inf)\n"
     ]
    }
   ],
   "source": [
    "prior_params_dict, prior_params_paragami = \\\n",
    "    structure_model_lib.get_default_prior_params()\n",
    "\n",
    "print(prior_params_paragami)\n",
    "\n",
    "prior_params_free = prior_params_paragami.flatten(prior_params_dict, free = True)"
   ]
  },
  {
   "cell_type": "markdown",
   "metadata": {},
   "source": [
    "# Get VB params "
   ]
  },
  {
   "cell_type": "code",
   "execution_count": 8,
   "metadata": {},
   "outputs": [],
   "source": [
    "k_approx = 15"
   ]
  },
  {
   "cell_type": "code",
   "execution_count": 9,
   "metadata": {},
   "outputs": [],
   "source": [
    "gh_deg = 8\n",
    "gh_loc, gh_weights = hermgauss(8)"
   ]
  },
  {
   "cell_type": "code",
   "execution_count": 10,
   "metadata": {
    "scrolled": true
   },
   "outputs": [
    {
     "name": "stdout",
     "output_type": "stream",
     "text": [
      "OrderedDict:\n",
      "\t[pop_freq_beta_params] = NumericArrayPattern (50, 15, 2) (lb=0.0, ub=inf)\n",
      "\t[ind_admix_params] = OrderedDict:\n",
      "\t[stick_means] = NumericArrayPattern (20, 14) (lb=-inf, ub=inf)\n",
      "\t[stick_infos] = NumericArrayPattern (20, 14) (lb=0.0001, ub=inf)\n"
     ]
    }
   ],
   "source": [
    "use_logitnormal_sticks = True\n",
    "\n",
    "vb_params_dict, vb_params_paragami = \\\n",
    "    structure_model_lib.get_vb_params_paragami_object(n_obs, n_loci, k_approx,\n",
    "                                    use_logitnormal_sticks = use_logitnormal_sticks)\n",
    "    \n",
    "print(vb_params_paragami)"
   ]
  },
  {
   "cell_type": "markdown",
   "metadata": {},
   "source": [
    "## Initialize "
   ]
  },
  {
   "cell_type": "code",
   "execution_count": 11,
   "metadata": {},
   "outputs": [
    {
     "name": "stdout",
     "output_type": "stream",
     "text": [
      "running NMF ...\n",
      "running a few cavi steps for pop beta ...\n",
      "done. Elapsed: 6.3613\n"
     ]
    }
   ],
   "source": [
    "vb_params_dict = \\\n",
    "        s_optim_lib.set_init_vb_params(g_obs, k_approx, vb_params_dict,\n",
    "                                       prior_params_dict, \n",
    "                                       gh_loc, gh_weights,\n",
    "                                       seed = 34221)"
   ]
  },
  {
   "cell_type": "code",
   "execution_count": 38,
   "metadata": {},
   "outputs": [
    {
     "data": {
      "text/plain": [
       "Text(0.5, 0, 'individual')"
      ]
     },
     "execution_count": 38,
     "metadata": {},
     "output_type": "execute_result"
    },
    {
     "data": {
      "image/png": "[encoded data removed]",
      "text/plain": [
       "<Figure size 432x288 with 1 Axes>"
      ]
     },
     "metadata": {},
     "output_type": "display_data"
    }
   ],
   "source": [
    "e_ind_admix = plotting_utils.get_vb_expectations(vb_params_dict, gh_loc, gh_weights)[0]\n",
    "\n",
    "fig, axarr = plt.subplots(1, 1)\n",
    "plotting_utils.plot_admixture(e_ind_admix, axarr);\n",
    "\n",
    "plt.ylabel('population')\n",
    "plt.xlabel('individual')"
   ]
  },
  {
   "cell_type": "code",
   "execution_count": null,
   "metadata": {},
   "outputs": [],
   "source": []
  },
  {
   "cell_type": "markdown",
   "metadata": {},
   "source": [
    "# Optimize"
   ]
  },
  {
   "cell_type": "code",
   "execution_count": 13,
   "metadata": {},
   "outputs": [],
   "source": [
    "from vb_lib.structure_optimization_lib import define_structure_objective\n",
    "from bnpmodeling_runjingdev.optimization_lib import run_lbfgs"
   ]
  },
  {
   "cell_type": "code",
   "execution_count": 14,
   "metadata": {},
   "outputs": [
    {
     "name": "stdout",
     "output_type": "stream",
     "text": [
      "Compiling objective ...\n",
      "Iter 0: f = 2649.80027944\n",
      "Compiling grad ...\n",
      "Compile time: 12.9354secs\n"
     ]
    }
   ],
   "source": [
    "optim_objective, init_vb_free = \\\n",
    "    define_structure_objective(g_obs, vb_params_dict,\n",
    "                        vb_params_paragami,\n",
    "                        prior_params_dict,\n",
    "                        gh_loc = gh_loc,\n",
    "                        gh_weights = gh_weights, \n",
    "                        compile_hvp=False)\n"
   ]
  },
  {
   "cell_type": "code",
   "execution_count": 15,
   "metadata": {},
   "outputs": [
    {
     "name": "stdout",
     "output_type": "stream",
     "text": [
      "\n",
      "Running L-BFGS-B ... \n",
      "Iter 0: f = 2649.80027944\n",
      "Iter 1: f = 2598.72662706\n",
      "Iter 2: f = 2429.98449137\n",
      "Iter 3: f = 2215.09446543\n",
      "Iter 4: f = 2172.51855120\n",
      "Iter 5: f = 2128.22542216\n",
      "Iter 6: f = 2109.04048577\n",
      "Iter 7: f = 2097.68655302\n",
      "Iter 8: f = 2084.22580864\n",
      "Iter 9: f = 2062.57361836\n",
      "Iter 10: f = 3118.52269311\n",
      "Iter 11: f = 2055.83801356\n",
      "Iter 12: f = 2038.38357807\n",
      "Iter 13: f = 2019.12416478\n",
      "Iter 14: f = 1981.92884239\n",
      "Iter 15: f = 1950.52627517\n",
      "Iter 16: f = 1932.19338483\n",
      "Iter 17: f = 1917.96007706\n",
      "Iter 18: f = 1908.09165508\n",
      "Iter 19: f = 1898.29864704\n",
      "Iter 20: f = 1887.97459621\n",
      "Iter 21: f = 1880.04413778\n",
      "Iter 22: f = 1872.53542887\n",
      "Iter 23: f = 1868.79083225\n",
      "Iter 24: f = 1864.02600484\n",
      "Iter 25: f = 1860.06376122\n",
      "Iter 26: f = 1853.29145336\n",
      "Iter 27: f = 1848.12843031\n",
      "Iter 28: f = 1845.52800570\n",
      "Iter 29: f = 1843.39777796\n",
      "Iter 30: f = 1842.52447319\n",
      "Iter 31: f = 1841.95575664\n",
      "Iter 32: f = 1841.60306624\n",
      "Iter 33: f = 1841.31770810\n",
      "Iter 34: f = 1841.05169490\n",
      "Iter 35: f = 1840.85032325\n",
      "Iter 36: f = 1840.70323362\n",
      "Iter 37: f = 1840.59417749\n",
      "Iter 38: f = 1840.34031375\n",
      "Iter 39: f = 1839.90683768\n",
      "Iter 40: f = 1839.00959150\n",
      "Iter 41: f = 1844.46971202\n",
      "Iter 42: f = 1836.87776149\n",
      "Iter 43: f = 1840.18132754\n",
      "Iter 44: f = 1835.89830714\n",
      "Iter 45: f = 1834.83309016\n",
      "Iter 46: f = 1834.77581886\n",
      "Iter 47: f = 1834.02057215\n",
      "Iter 48: f = 1833.17771822\n",
      "Iter 49: f = 1832.59468150\n",
      "Iter 50: f = 1832.24395950\n",
      "Iter 51: f = 1831.93942518\n",
      "Iter 52: f = 1831.79340510\n",
      "Iter 53: f = 1831.60337924\n",
      "Iter 54: f = 1831.53947328\n",
      "Iter 55: f = 1831.33810404\n",
      "Iter 56: f = 1831.23883267\n",
      "Iter 57: f = 1831.09826363\n",
      "Iter 58: f = 1830.93352935\n",
      "Iter 59: f = 1830.89736134\n",
      "Iter 60: f = 1830.82954500\n",
      "Iter 61: f = 1830.67575156\n",
      "Iter 62: f = 1830.60858542\n",
      "Iter 63: f = 1830.50971770\n",
      "Iter 64: f = 1830.43086330\n",
      "Iter 65: f = 1830.34898725\n",
      "Iter 66: f = 1830.31586087\n",
      "Iter 67: f = 1830.25355357\n",
      "Iter 68: f = 1830.22058826\n",
      "Iter 69: f = 1830.19408021\n",
      "Iter 70: f = 1830.18172185\n",
      "Iter 71: f = 1830.14756079\n",
      "Iter 72: f = 1830.13837784\n",
      "Iter 73: f = 1830.12623197\n",
      "Iter 74: f = 1830.11998282\n",
      "Iter 75: f = 1830.11156739\n",
      "Iter 76: f = 1830.10874610\n",
      "Iter 77: f = 1830.10586716\n",
      "Iter 78: f = 1830.10219203\n",
      "Iter 79: f = 1830.10411722\n",
      "Iter 80: f = 1830.10078103\n",
      "Iter 81: f = 1830.09967647\n",
      "Iter 82: f = 1830.09902870\n",
      "Iter 83: f = 1830.09833829\n",
      "Iter 84: f = 1830.09801463\n",
      "Iter 85: f = 1830.09745104\n",
      "Iter 86: f = 1830.09727669\n",
      "Iter 87: f = 1830.09711417\n",
      "Iter 88: f = 1830.09702089\n",
      "Iter 89: f = 1830.09690102\n",
      "Iter 90: f = 1830.09687686\n",
      "Iter 91: f = 1830.09684407\n",
      "Iter 92: f = 1830.09684474\n",
      "Iter 93: f = 1830.09683144\n",
      "Iter 94: f = 1830.09681818\n",
      "Iter 95: f = 1830.09681109\n",
      "Iter 96: f = 1830.09680649\n",
      "Iter 97: f = 1830.09680291\n",
      "done. Elapsed 2.06892secs\n",
      "Iter 98: f = 1830.09680291\n",
      "objective value:  1830.0968029056937\n"
     ]
    }
   ],
   "source": [
    "out = run_lbfgs(optim_objective, init_vb_free)\n",
    "\n",
    "vb_opt = out.x\n",
    "vb_opt_dict = vb_params_paragami.fold(vb_opt, free = True)\n"
   ]
  },
  {
   "cell_type": "code",
   "execution_count": null,
   "metadata": {},
   "outputs": [],
   "source": []
  },
  {
   "cell_type": "markdown",
   "metadata": {},
   "source": [
    "# Check out the fit"
   ]
  },
  {
   "cell_type": "code",
   "execution_count": 16,
   "metadata": {},
   "outputs": [
    {
     "data": {
      "image/png": "[encoded data removed]",
      "text/plain": [
       "<Figure size 432x288 with 1 Axes>"
      ]
     },
     "metadata": {},
     "output_type": "display_data"
    }
   ],
   "source": [
    "# truth \n",
    "\n",
    "fig, axarr = plt.subplots(1, 1)\n",
    "plotting_utils.plot_admixture(true_ind_admix_propn, axarr);"
   ]
  },
  {
   "cell_type": "code",
   "execution_count": 17,
   "metadata": {},
   "outputs": [
    {
     "data": {
      "text/plain": [
       "Text(0.5, 0, 'individual')"
      ]
     },
     "execution_count": 17,
     "metadata": {},
     "output_type": "execute_result"
    },
    {
     "data": {
      "image/png": "[encoded data removed]",
      "text/plain": [
       "<Figure size 432x288 with 1 Axes>"
      ]
     },
     "metadata": {},
     "output_type": "display_data"
    }
   ],
   "source": [
    "# estimated \n",
    "\n",
    "e_ind_admix = plotting_utils.get_vb_expectations(vb_opt_dict, gh_loc, gh_weights)[0]\n",
    "\n",
    "fig, axarr = plt.subplots(1, 1)\n",
    "plotting_utils.plot_admixture(e_ind_admix, axarr);\n",
    "\n",
    "plt.ylabel('population')\n",
    "plt.xlabel('individual')"
   ]
  },
  {
   "cell_type": "code",
   "execution_count": null,
   "metadata": {},
   "outputs": [],
   "source": []
  },
  {
   "cell_type": "markdown",
   "metadata": {},
   "source": [
    "# Define sensitivity object"
   ]
  },
  {
   "cell_type": "code",
   "execution_count": 19,
   "metadata": {},
   "outputs": [],
   "source": [
    "# initial prior alpha\n",
    "use_free_alpha = True\n",
    "prior_alpha0 = prior_params_paragami['dp_prior_alpha'].flatten(prior_params_dict['dp_prior_alpha'], \n",
    "                                                              free = use_free_alpha)"
   ]
  },
  {
   "cell_type": "code",
   "execution_count": 20,
   "metadata": {},
   "outputs": [],
   "source": [
    "# set up objective as function of vb params and prior param \n",
    "\n",
    "def objective_fun(vb_params_dict, alpha): \n",
    "    \n",
    "    _prior_params_dict = deepcopy(prior_params_dict)\n",
    "    _prior_params_dict['dp_prior_alpha'] = alpha\n",
    "    \n",
    "    return structure_model_lib.get_kl(g_obs, vb_params_dict, _prior_params_dict,\n",
    "                    gh_loc = gh_loc, gh_weights = gh_weights)\n",
    "\n",
    "\n",
    "objective_fun_free = paragami.FlattenFunctionInput(\n",
    "                                original_fun=objective_fun, \n",
    "                                patterns = [vb_params_paragami, prior_params_paragami['dp_prior_alpha']],\n",
    "                                free = [True, use_free_alpha],\n",
    "                                argnums = [0, 1])\n"
   ]
  },
  {
   "cell_type": "code",
   "execution_count": 21,
   "metadata": {},
   "outputs": [
    {
     "data": {
      "text/plain": [
       "DeviceArray(1830.09680291, dtype=float64)"
      ]
     },
     "execution_count": 21,
     "metadata": {},
     "output_type": "execute_result"
    }
   ],
   "source": [
    "objective_fun_free(vb_opt, prior_alpha0)"
   ]
  },
  {
   "cell_type": "markdown",
   "metadata": {},
   "source": [
    "### Set up hessian solver"
   ]
  },
  {
   "cell_type": "code",
   "execution_count": 22,
   "metadata": {},
   "outputs": [
    {
     "name": "stdout",
     "output_type": "stream",
     "text": [
      "preconditioner time: 1.28sec\n"
     ]
    }
   ],
   "source": [
    "# define preconditioner\n",
    "cg_precond = lambda v : get_mfvb_cov_matmul(v, vb_opt_dict,\n",
    "                                            vb_params_paragami,\n",
    "                                            return_info = True)\n",
    "t0 = time.time()\n",
    "_ = cg_precond(vb_opt)\n",
    "print('preconditioner time: {:0.3}sec'.format(time.time() - t0))"
   ]
  },
  {
   "cell_type": "code",
   "execution_count": 23,
   "metadata": {},
   "outputs": [
    {
     "name": "stdout",
     "output_type": "stream",
     "text": [
      "Compiling ...\n",
      "Compile time: 96.5009sec\n",
      "\n"
     ]
    }
   ],
   "source": [
    "vb_sens = HyperparameterSensitivityLinearApproximation(objective_fun_free,\n",
    "                                                        vb_opt,\n",
    "                                                        prior_alpha0, \n",
    "                                                        cg_precond=cg_precond)\n"
   ]
  },
  {
   "cell_type": "code",
   "execution_count": null,
   "metadata": {},
   "outputs": [],
   "source": []
  },
  {
   "cell_type": "markdown",
   "metadata": {},
   "source": [
    "# Perturb alpha. Check results"
   ]
  },
  {
   "cell_type": "code",
   "execution_count": 24,
   "metadata": {},
   "outputs": [],
   "source": [
    "# set new alpha \n",
    "new_alpha = np.array([5.])\n",
    "\n",
    "prior_params_pert_dict = deepcopy(prior_params_dict)\n",
    "prior_params_pert_dict['dp_prior_alpha'] = new_alpha\n"
   ]
  },
  {
   "cell_type": "code",
   "execution_count": 25,
   "metadata": {},
   "outputs": [
    {
     "name": "stdout",
     "output_type": "stream",
     "text": [
      "initial alpha,  [3.]\n",
      "perturbed alpha,  [5.]\n"
     ]
    }
   ],
   "source": [
    "print('initial alpha, ', prior_params_dict['dp_prior_alpha'])\n",
    "print('perturbed alpha, ', prior_params_pert_dict['dp_prior_alpha'])\n"
   ]
  },
  {
   "cell_type": "code",
   "execution_count": 26,
   "metadata": {},
   "outputs": [
    {
     "name": "stdout",
     "output_type": "stream",
     "text": [
      "l_inf diff:  0.9428052070353536\n"
     ]
    }
   ],
   "source": [
    "# linear response prediction \n",
    "lr_vb_free_params = \\\n",
    "    vb_sens.predict_opt_par_from_hyper_par(\n",
    "        prior_params_paragami['dp_prior_alpha'].flatten(prior_params_pert_dict['dp_prior_alpha'], \n",
    "                                                        free = use_free_alpha))\n",
    "\n",
    "print('l_inf diff: ', np.max(np.abs(lr_vb_free_params - vb_opt)))\n"
   ]
  },
  {
   "cell_type": "code",
   "execution_count": 27,
   "metadata": {},
   "outputs": [
    {
     "data": {
      "text/plain": [
       "DeviceArray(1.14782174, dtype=float64)"
      ]
     },
     "execution_count": 27,
     "metadata": {},
     "output_type": "execute_result"
    }
   ],
   "source": [
    "(lr_vb_free_params**2).mean()"
   ]
  },
  {
   "cell_type": "code",
   "execution_count": null,
   "metadata": {},
   "outputs": [],
   "source": []
  },
  {
   "cell_type": "markdown",
   "metadata": {},
   "source": [
    "### reoptimize"
   ]
  },
  {
   "cell_type": "code",
   "execution_count": 28,
   "metadata": {},
   "outputs": [],
   "source": [
    "new_init_dict = deepcopy(vb_opt_dict)\n",
    "new_init_free = vb_params_paragami.flatten(new_init_dict, free = True)"
   ]
  },
  {
   "cell_type": "code",
   "execution_count": 29,
   "metadata": {},
   "outputs": [
    {
     "name": "stdout",
     "output_type": "stream",
     "text": [
      "Compiling objective ...\n",
      "Iter 0: f = 2115.44799865\n",
      "Compiling grad ...\n",
      "Compile time: 12.126secs\n"
     ]
    }
   ],
   "source": [
    "optim_objective_pert, _ = \\\n",
    "    define_structure_objective(g_obs, new_init_dict,\n",
    "                        vb_params_paragami,\n",
    "                        prior_params_pert_dict,\n",
    "                        gh_loc = gh_loc,\n",
    "                        gh_weights = gh_weights, \n",
    "                        compile_hvp=False)\n"
   ]
  },
  {
   "cell_type": "code",
   "execution_count": 30,
   "metadata": {},
   "outputs": [
    {
     "name": "stdout",
     "output_type": "stream",
     "text": [
      "\n",
      "Running L-BFGS-B ... \n",
      "Iter 0: f = 2115.44799865\n",
      "Iter 1: f = 2104.14880262\n",
      "Iter 2: f = 2073.47853355\n",
      "Iter 3: f = 2067.68100677\n",
      "Iter 4: f = 2063.28170527\n",
      "Iter 5: f = 2062.69251538\n",
      "Iter 6: f = 2062.54864924\n",
      "Iter 7: f = 2062.40393249\n",
      "Iter 8: f = 2062.28681491\n",
      "Iter 9: f = 2062.14343250\n",
      "Iter 10: f = 2062.11122890\n",
      "Iter 11: f = 2062.09129766\n",
      "Iter 12: f = 2062.08030972\n",
      "Iter 13: f = 2062.06392153\n",
      "Iter 14: f = 2062.05459805\n",
      "Iter 15: f = 2062.04619292\n",
      "Iter 16: f = 2062.03606676\n",
      "Iter 17: f = 2062.04002996\n",
      "Iter 18: f = 2062.03249309\n",
      "Iter 19: f = 2062.03019611\n",
      "Iter 20: f = 2062.02759933\n",
      "Iter 21: f = 2062.02490481\n",
      "Iter 22: f = 2062.02596072\n",
      "Iter 23: f = 2062.02372549\n",
      "Iter 24: f = 2062.02251645\n",
      "Iter 25: f = 2062.02206069\n",
      "Iter 26: f = 2062.02171998\n",
      "Iter 27: f = 2062.02143219\n",
      "Iter 28: f = 2062.02119790\n",
      "Iter 29: f = 2062.02110327\n",
      "Iter 30: f = 2062.02102016\n",
      "Iter 31: f = 2062.02094946\n",
      "Iter 32: f = 2062.02089940\n",
      "Iter 33: f = 2062.02088141\n",
      "Iter 34: f = 2062.02087086\n",
      "Iter 35: f = 2062.02085962\n",
      "Iter 36: f = 2062.02085281\n",
      "Iter 37: f = 2062.02084944\n",
      "done. Elapsed 0.80881secs\n",
      "Iter 38: f = 2062.02084944\n",
      "objective value:  2062.0208494427675\n"
     ]
    }
   ],
   "source": [
    "out = run_lbfgs(optim_objective_pert, new_init_free)\n",
    "\n",
    "vb_opt_pert = out.x\n",
    "vb_pert_dict = vb_params_paragami.fold(vb_opt_pert, free = True)"
   ]
  },
  {
   "cell_type": "markdown",
   "metadata": {},
   "source": [
    "### compare"
   ]
  },
  {
   "cell_type": "code",
   "execution_count": 31,
   "metadata": {},
   "outputs": [],
   "source": [
    "def print_diff_plot(lr_vb_free_params, vb_opt_pert, vb_opt): \n",
    "    plt.plot(lr_vb_free_params - vb_opt, \n",
    "             vb_opt_pert - vb_opt, \n",
    "             '+', color = 'red')\n",
    "\n",
    "    plt.plot(lr_vb_free_params - vb_opt, \n",
    "            lr_vb_free_params - vb_opt, \n",
    "             '-', color = 'blue')\n",
    "\n",
    "    plt.xlabel('lr')\n",
    "    plt.ylabel('re-optimized')\n"
   ]
  },
  {
   "cell_type": "code",
   "execution_count": 32,
   "metadata": {},
   "outputs": [
    {
     "data": {
      "image/png": "[encoded data removed]",
      "text/plain": [
       "<Figure size 432x288 with 1 Axes>"
      ]
     },
     "metadata": {
      "needs_background": "light"
     },
     "output_type": "display_data"
    }
   ],
   "source": [
    "# compare free parameters\n",
    "print_diff_plot(lr_vb_free_params, vb_opt_pert, vb_opt)"
   ]
  },
  {
   "cell_type": "code",
   "execution_count": 33,
   "metadata": {},
   "outputs": [],
   "source": [
    "key = jax.random.PRNGKey(1)\n",
    "\n",
    "def get_e_num_pred_clusters(vb_params_dict): \n",
    "    \n",
    "    stick_means = vb_params_dict['ind_admix_params']['stick_means']\n",
    "    stick_infos = vb_params_dict['ind_admix_params']['stick_infos']\n",
    "    \n",
    "    return structure_model_lib.get_e_num_pred_clusters(stick_means, stick_infos, gh_loc, gh_weights, \n",
    "                                                            key, n_samples = 10000)"
   ]
  },
  {
   "cell_type": "code",
   "execution_count": 34,
   "metadata": {
    "scrolled": true
   },
   "outputs": [
    {
     "name": "stdout",
     "output_type": "stream",
     "text": [
      "init number of cluster:  3.741626053282419\n",
      "pert number of cluster:  4.462039570549483\n",
      "lr number of cluster:  4.441917962805207\n"
     ]
    }
   ],
   "source": [
    "print('init number of cluster: ', get_e_num_pred_clusters(vb_opt_dict))\n",
    "print('pert number of cluster: ', get_e_num_pred_clusters(vb_pert_dict))\n",
    "print('lr number of cluster: ', get_e_num_pred_clusters(vb_params_paragami.fold(lr_vb_free_params, \n",
    "                                                                                free = True)))"
   ]
  },
  {
   "cell_type": "code",
   "execution_count": null,
   "metadata": {},
   "outputs": [],
   "source": []
  },
  {
   "cell_type": "markdown",
   "metadata": {},
   "source": [
    "# Fit for a range of alpha"
   ]
  },
  {
   "cell_type": "code",
   "execution_count": 35,
   "metadata": {},
   "outputs": [],
   "source": [
    "alpha_list = np.arange(1, 8)"
   ]
  },
  {
   "cell_type": "code",
   "execution_count": 36,
   "metadata": {},
   "outputs": [],
   "source": [
    "def refit_with_alpha(alpha, new_init_dict):\n",
    "    # sets new alpha, returns new vb optimum\n",
    "    \n",
    "    # set new prior\n",
    "    new_alpha = np.array([alpha])\n",
    "\n",
    "    prior_params_pert_dict = deepcopy(prior_params_dict)\n",
    "    prior_params_pert_dict['dp_prior_alpha'] = new_alpha\n",
    "    \n",
    "    # set new objective \n",
    "    optim_objective_pert, new_init_free = \\\n",
    "        define_structure_objective(g_obs, new_init_dict,\n",
    "                            vb_params_paragami,\n",
    "                            prior_params_pert_dict,\n",
    "                            gh_loc = gh_loc,\n",
    "                            gh_weights = gh_weights, \n",
    "                            compile_hvp=False)\n",
    "\n",
    "    out = run_lbfgs(optim_objective_pert, new_init_free)\n",
    "        \n",
    "    return out.x\n"
   ]
  },
  {
   "cell_type": "code",
   "execution_count": 37,
   "metadata": {},
   "outputs": [
    {
     "name": "stdout",
     "output_type": "stream",
     "text": [
      "alphas:  [1 2 3 4 5 6 7]\n"
     ]
    }
   ],
   "source": [
    "print('alphas: ', alpha_list)"
   ]
  },
  {
   "cell_type": "code",
   "execution_count": 38,
   "metadata": {},
   "outputs": [
    {
     "name": "stdout",
     "output_type": "stream",
     "text": [
      "\n",
      " re-optimzing with alpha =  1\n",
      "Compiling objective ...\n",
      "Iter 0: f = 1544.74560716\n",
      "Compiling grad ...\n",
      "Compile time: 11.8011secs\n",
      "\n",
      "Running L-BFGS-B ... \n",
      "Iter 0: f = 1544.74560716\n",
      "Iter 1: f = 1533.11537388\n",
      "Iter 2: f = 1463.28414154\n",
      "Iter 3: f = 1484.32179298\n",
      "Iter 4: f = 1440.61617755\n",
      "Iter 5: f = 1431.78350653\n",
      "Iter 6: f = 1427.14033788\n",
      "Iter 7: f = 1422.69873379\n",
      "Iter 8: f = 1418.97014838\n",
      "Iter 9: f = 1419.84462896\n",
      "Iter 10: f = 1418.21987180\n",
      "Iter 11: f = 1417.73364550\n",
      "Iter 12: f = 1417.64418529\n",
      "Iter 13: f = 1417.48536980\n",
      "Iter 14: f = 1417.44620095\n",
      "Iter 15: f = 1417.32443186\n",
      "Iter 16: f = 1417.28603798\n",
      "Iter 17: f = 1417.22674004\n",
      "Iter 18: f = 1417.16937221\n",
      "Iter 19: f = 1417.23046525\n",
      "Iter 20: f = 1417.14878681\n",
      "Iter 21: f = 1417.12475738\n",
      "Iter 22: f = 1417.11044127\n",
      "Iter 23: f = 1417.09142571\n",
      "Iter 24: f = 1417.09780747\n",
      "Iter 25: f = 1417.08365859\n",
      "Iter 26: f = 1417.07503977\n",
      "Iter 27: f = 1417.07004484\n",
      "Iter 28: f = 1417.06665231\n",
      "Iter 29: f = 1417.06429429\n",
      "Iter 30: f = 1417.06250422\n",
      "Iter 31: f = 1417.06155615\n",
      "Iter 32: f = 1417.06090628\n",
      "Iter 33: f = 1417.06062748\n",
      "Iter 34: f = 1417.05983750\n",
      "Iter 35: f = 1417.05966578\n",
      "Iter 36: f = 1417.05943289\n",
      "Iter 37: f = 1417.05951111\n",
      "Iter 38: f = 1417.05933062\n",
      "Iter 39: f = 1417.05920862\n",
      "Iter 40: f = 1417.05913023\n",
      "Iter 41: f = 1417.05908404\n",
      "Iter 42: f = 1417.05904738\n",
      "Iter 43: f = 1417.05902554\n",
      "Iter 44: f = 1417.05900931\n",
      "Iter 45: f = 1417.05899911\n",
      "Iter 46: f = 1417.05898989\n",
      "Iter 47: f = 1417.05898581\n",
      "Iter 48: f = 1417.05898269\n",
      "done. Elapsed 1.03552secs\n",
      "Iter 49: f = 1417.05898269\n",
      "objective value:  1417.0589826860055\n",
      "\n",
      " re-optimzing with alpha =  2\n",
      "Compiling objective ...\n",
      "Iter 0: f = 1687.42120503\n",
      "Compiling grad ...\n",
      "Compile time: 12.1052secs\n",
      "\n",
      "Running L-BFGS-B ... \n",
      "Iter 0: f = 1687.42120503\n",
      "Iter 1: f = 1682.07956148\n",
      "Iter 2: f = 1671.16734857\n",
      "Iter 3: f = 1672.19641235\n",
      "Iter 4: f = 1667.98993293\n",
      "Iter 5: f = 1666.75684861\n",
      "Iter 6: f = 1665.28061422\n",
      "Iter 7: f = 1665.40913631\n",
      "Iter 8: f = 1665.15605973\n",
      "Iter 9: f = 1665.11273384\n",
      "Iter 10: f = 1665.08294062\n",
      "Iter 11: f = 1665.01275646\n",
      "Iter 12: f = 1664.97656528\n",
      "Iter 13: f = 1664.95017487\n",
      "Iter 14: f = 1664.93672109\n",
      "Iter 15: f = 1664.93111660\n",
      "Iter 16: f = 1664.92536677\n",
      "Iter 17: f = 1664.91972658\n",
      "Iter 18: f = 1664.91694953\n",
      "Iter 19: f = 1664.91220372\n",
      "Iter 20: f = 1664.91250828\n",
      "Iter 21: f = 1664.90995130\n",
      "Iter 22: f = 1664.90740294\n",
      "Iter 23: f = 1664.90591549\n",
      "Iter 24: f = 1664.90509822\n",
      "Iter 25: f = 1664.90427832\n",
      "Iter 26: f = 1664.90362305\n",
      "Iter 27: f = 1664.90326442\n",
      "Iter 28: f = 1664.90308354\n",
      "Iter 29: f = 1664.90284836\n",
      "Iter 30: f = 1664.90272480\n",
      "Iter 31: f = 1664.90261254\n",
      "Iter 32: f = 1664.90255779\n",
      "Iter 33: f = 1664.90252647\n",
      "Iter 34: f = 1664.90249780\n",
      "Iter 35: f = 1664.90247094\n",
      "Iter 36: f = 1664.90246311\n",
      "Iter 37: f = 1664.90245400\n",
      "Iter 38: f = 1664.90245016\n",
      "Iter 39: f = 1664.90244307\n",
      "Iter 40: f = 1664.90244100\n",
      "done. Elapsed 0.879027secs\n",
      "Iter 41: f = 1664.90244100\n",
      "objective value:  1664.9024409981848\n",
      "\n",
      " re-optimzing with alpha =  3\n",
      "Compiling objective ...\n",
      "Iter 0: f = 1830.09680291\n",
      "Compiling grad ...\n",
      "Compile time: 11.7705secs\n",
      "\n",
      "Running L-BFGS-B ... \n",
      "Iter 0: f = 1830.09680291\n",
      "Iter 1: f = 1832.47363604\n",
      "Iter 2: f = 1830.09680172\n",
      "done. Elapsed 0.0782959secs\n",
      "Iter 3: f = 1830.09680172\n",
      "objective value:  1830.0968017205576\n",
      "\n",
      " re-optimzing with alpha =  4\n",
      "Compiling objective ...\n",
      "Iter 0: f = 1972.77240078\n",
      "Compiling grad ...\n",
      "Compile time: 11.7421secs\n",
      "\n",
      "Running L-BFGS-B ... \n",
      "Iter 0: f = 1972.77240078\n",
      "Iter 1: f = 1967.62270114\n",
      "Iter 2: f = 1960.82165113\n",
      "Iter 3: f = 1959.65134647\n",
      "Iter 4: f = 1957.92796069\n",
      "Iter 5: f = 1957.71752319\n",
      "Iter 6: f = 1957.67279223\n",
      "Iter 7: f = 1957.63761964\n",
      "Iter 8: f = 1957.60303225\n",
      "Iter 9: f = 1957.56435925\n",
      "Iter 10: f = 1957.55599694\n",
      "Iter 11: f = 1957.54885733\n",
      "Iter 12: f = 1957.54568060\n",
      "Iter 13: f = 1957.54180904\n",
      "Iter 14: f = 1957.53809951\n",
      "Iter 15: f = 1957.53540089\n",
      "Iter 16: f = 1957.53285048\n",
      "Iter 17: f = 1957.53116520\n",
      "Iter 18: f = 1957.53041569\n",
      "Iter 19: f = 1957.52976050\n",
      "Iter 20: f = 1957.52868974\n",
      "Iter 21: f = 1957.52877904\n",
      "Iter 22: f = 1957.52827724\n",
      "Iter 23: f = 1957.52785880\n",
      "Iter 24: f = 1957.52766663\n",
      "Iter 25: f = 1957.52755849\n",
      "Iter 26: f = 1957.52745843\n",
      "Iter 27: f = 1957.52738664\n",
      "Iter 28: f = 1957.52735653\n",
      "Iter 29: f = 1957.52733634\n",
      "Iter 30: f = 1957.52731871\n",
      "Iter 31: f = 1957.52730271\n",
      "Iter 32: f = 1957.52730921\n",
      "Iter 33: f = 1957.52729714\n",
      "Iter 34: f = 1957.52729157\n",
      "Iter 35: f = 1957.52728912\n",
      "done. Elapsed 0.790136secs\n",
      "Iter 36: f = 1957.52728912\n",
      "objective value:  1957.5272891190828\n",
      "\n",
      " re-optimzing with alpha =  5\n",
      "Compiling objective ...\n",
      "Iter 0: f = 2115.44799865\n",
      "Compiling grad ...\n",
      "Compile time: 11.7088secs\n",
      "\n",
      "Running L-BFGS-B ... \n",
      "Iter 0: f = 2115.44799865\n",
      "Iter 1: f = 2104.14880262\n",
      "Iter 2: f = 2073.47853355\n",
      "Iter 3: f = 2067.68100677\n",
      "Iter 4: f = 2063.28170527\n",
      "Iter 5: f = 2062.69251538\n",
      "Iter 6: f = 2062.54864924\n",
      "Iter 7: f = 2062.40393249\n",
      "Iter 8: f = 2062.28681491\n",
      "Iter 9: f = 2062.14343250\n",
      "Iter 10: f = 2062.11122890\n",
      "Iter 11: f = 2062.09129766\n",
      "Iter 12: f = 2062.08030972\n",
      "Iter 13: f = 2062.06392153\n",
      "Iter 14: f = 2062.05459805\n",
      "Iter 15: f = 2062.04619292\n",
      "Iter 16: f = 2062.03606676\n",
      "Iter 17: f = 2062.04002996\n",
      "Iter 18: f = 2062.03249309\n",
      "Iter 19: f = 2062.03019611\n",
      "Iter 20: f = 2062.02759933\n",
      "Iter 21: f = 2062.02490481\n",
      "Iter 22: f = 2062.02596072\n",
      "Iter 23: f = 2062.02372549\n",
      "Iter 24: f = 2062.02251645\n",
      "Iter 25: f = 2062.02206069\n",
      "Iter 26: f = 2062.02171998\n",
      "Iter 27: f = 2062.02143219\n",
      "Iter 28: f = 2062.02119790\n",
      "Iter 29: f = 2062.02110327\n",
      "Iter 30: f = 2062.02102016\n",
      "Iter 31: f = 2062.02094946\n",
      "Iter 32: f = 2062.02089940\n",
      "Iter 33: f = 2062.02088141\n",
      "Iter 34: f = 2062.02087086\n",
      "Iter 35: f = 2062.02085962\n",
      "Iter 36: f = 2062.02085281\n",
      "Iter 37: f = 2062.02084944\n",
      "done. Elapsed 0.841362secs\n",
      "Iter 38: f = 2062.02084944\n",
      "objective value:  2062.0208494427675\n",
      "\n",
      " re-optimzing with alpha =  6\n",
      "Compiling objective ...\n",
      "Iter 0: f = 2258.12359653\n",
      "Compiling grad ...\n",
      "Compile time: 11.9702secs\n",
      "\n",
      "Running L-BFGS-B ... \n",
      "Iter 0: f = 2258.12359653\n",
      "Iter 1: f = 2240.67487116\n",
      "Iter 2: f = 2173.88798046\n",
      "Iter 3: f = 2158.89891541\n",
      "Iter 4: f = 2152.79528919\n",
      "Iter 5: f = 2151.85445307\n",
      "Iter 6: f = 2151.52592462\n",
      "Iter 7: f = 2151.09120124\n",
      "Iter 8: f = 2150.75037613\n",
      "Iter 9: f = 2150.55728744\n",
      "Iter 10: f = 2150.48579565\n",
      "Iter 11: f = 2150.46155472\n",
      "Iter 12: f = 2150.43535108\n",
      "Iter 13: f = 2150.40234469\n",
      "Iter 14: f = 2150.38816071\n",
      "Iter 15: f = 2150.37222057\n",
      "Iter 16: f = 2150.36354840\n",
      "Iter 17: f = 2150.35730708\n",
      "Iter 18: f = 2150.35288604\n",
      "Iter 19: f = 2150.34683196\n",
      "Iter 20: f = 2150.34557935\n",
      "Iter 21: f = 2150.34373688\n",
      "Iter 22: f = 2150.34315486\n",
      "Iter 23: f = 2150.34251358\n",
      "Iter 24: f = 2150.34184463\n",
      "Iter 25: f = 2150.34213750\n",
      "Iter 26: f = 2150.34160704\n",
      "Iter 27: f = 2150.34138491\n",
      "Iter 28: f = 2150.34125451\n",
      "Iter 29: f = 2150.34110697\n",
      "Iter 30: f = 2150.34107475\n",
      "Iter 31: f = 2150.34100063\n",
      "Iter 32: f = 2150.34098687\n",
      "Iter 33: f = 2150.34097206\n",
      "Iter 34: f = 2150.34095686\n",
      "Iter 35: f = 2150.34095219\n",
      "done. Elapsed 0.790201secs\n",
      "Iter 36: f = 2150.34095219\n",
      "objective value:  2150.3409521857975\n",
      "\n",
      " re-optimzing with alpha =  7\n",
      "Compiling objective ...\n",
      "Iter 0: f = 2400.79919440\n",
      "Compiling grad ...\n",
      "Compile time: 11.6585secs\n",
      "\n",
      "Running L-BFGS-B ... \n",
      "Iter 0: f = 2400.79919440\n",
      "Iter 1: f = 2377.20093143\n",
      "Iter 2: f = 2265.51226410\n",
      "Iter 3: f = 2238.40425157\n",
      "Iter 4: f = 2230.63932903\n",
      "Iter 5: f = 2229.05790212\n",
      "Iter 6: f = 2228.33793242\n",
      "Iter 7: f = 2227.54644510\n",
      "Iter 8: f = 2226.57421967\n",
      "Iter 9: f = 2226.35259609\n",
      "Iter 10: f = 2226.22034266\n",
      "Iter 11: f = 2226.21240874\n",
      "Iter 12: f = 2226.17224531\n",
      "Iter 13: f = 2226.13965142\n",
      "Iter 14: f = 2226.09353861\n",
      "Iter 15: f = 2226.07774680\n",
      "Iter 16: f = 2226.06041300\n",
      "Iter 17: f = 2226.04603462\n",
      "Iter 18: f = 2226.03903813\n",
      "Iter 19: f = 2226.03186601\n",
      "Iter 20: f = 2226.02064110\n",
      "Iter 21: f = 2226.01779976\n",
      "Iter 22: f = 2226.01470716\n",
      "Iter 23: f = 2226.01559372\n",
      "Iter 24: f = 2226.01369408\n",
      "Iter 25: f = 2226.01292521\n",
      "Iter 26: f = 2226.01217727\n",
      "Iter 27: f = 2226.01183578\n",
      "Iter 28: f = 2226.01152045\n",
      "Iter 29: f = 2226.01129533\n",
      "Iter 30: f = 2226.01116007\n",
      "Iter 31: f = 2226.01107810\n",
      "Iter 32: f = 2226.01101973\n",
      "Iter 33: f = 2226.01100123\n",
      "Iter 34: f = 2226.01098178\n",
      "Iter 35: f = 2226.01097813\n",
      "done. Elapsed 0.781319secs\n",
      "Iter 36: f = 2226.01097813\n",
      "objective value:  2226.0109781299284\n"
     ]
    }
   ],
   "source": [
    "vb_pert_list = []\n",
    "for alpha in alpha_list: \n",
    "    print('\\n re-optimzing with alpha = ', alpha)\n",
    "    \n",
    "    vb_pert_list.append(refit_with_alpha(alpha, new_init_dict))\n"
   ]
  },
  {
   "cell_type": "markdown",
   "metadata": {},
   "source": [
    "# Check free parameters"
   ]
  },
  {
   "cell_type": "code",
   "execution_count": 39,
   "metadata": {},
   "outputs": [],
   "source": [
    "lr_list = []\n",
    "\n",
    "for alpha in alpha_list: \n",
    "    \n",
    "    # set alpha \n",
    "    new_alpha = np.array([alpha])\n",
    "    prior_params_pert_dict = deepcopy(prior_params_dict)\n",
    "    prior_params_pert_dict['dp_prior_alpha'] = new_alpha\n",
    "    \n",
    "    # get linear response\n",
    "    lr_list.append(vb_sens.predict_opt_par_from_hyper_par(\n",
    "        prior_params_paragami['dp_prior_alpha'].flatten(prior_params_pert_dict['dp_prior_alpha'], \n",
    "                                                        free = use_free_alpha)))\n"
   ]
  },
  {
   "cell_type": "code",
   "execution_count": 40,
   "metadata": {},
   "outputs": [
    {
     "data": {
      "image/png": "[encoded data removed]",
      "text/plain": [
       "<Figure size 432x288 with 1 Axes>"
      ]
     },
     "metadata": {
      "needs_background": "light"
     },
     "output_type": "display_data"
    },
    {
     "data": {
      "image/png": "[encoded data removed]",
      "text/plain": [
       "<Figure size 432x288 with 1 Axes>"
      ]
     },
     "metadata": {
      "needs_background": "light"
     },
     "output_type": "display_data"
    },
    {
     "data": {
      "image/png": "[encoded data removed]",
      "text/plain": [
       "<Figure size 432x288 with 1 Axes>"
      ]
     },
     "metadata": {
      "needs_background": "light"
     },
     "output_type": "display_data"
    },
    {
     "data": {
      "image/png": "[encoded data removed]",
      "text/plain": [
       "<Figure size 432x288 with 1 Axes>"
      ]
     },
     "metadata": {
      "needs_background": "light"
     },
     "output_type": "display_data"
    },
    {
     "data": {
      "image/png": "[encoded data removed]",
      "text/plain": [
       "<Figure size 432x288 with 1 Axes>"
      ]
     },
     "metadata": {
      "needs_background": "light"
     },
     "output_type": "display_data"
    },
    {
     "data": {
      "image/png": "[encoded data removed]",
      "text/plain": [
       "<Figure size 432x288 with 1 Axes>"
      ]
     },
     "metadata": {
      "needs_background": "light"
     },
     "output_type": "display_data"
    },
    {
     "data": {
      "image/png": "[encoded data removed]",
      "text/plain": [
       "<Figure size 432x288 with 1 Axes>"
      ]
     },
     "metadata": {
      "needs_background": "light"
     },
     "output_type": "display_data"
    }
   ],
   "source": [
    "for i in range(len(alpha_list)): \n",
    "    plt.figure()\n",
    "    print_diff_plot(lr_list[i], vb_pert_list[i], vb_opt)\n",
    "    \n",
    "    plt.title('alpha = {}'.format(alpha_list[i]))\n"
   ]
  },
  {
   "cell_type": "markdown",
   "metadata": {},
   "source": [
    "# Number of clusters"
   ]
  },
  {
   "cell_type": "code",
   "execution_count": 41,
   "metadata": {},
   "outputs": [],
   "source": [
    "import numpy as onp"
   ]
  },
  {
   "cell_type": "code",
   "execution_count": 42,
   "metadata": {},
   "outputs": [],
   "source": [
    "lr_e_num_clusters_vec = onp.zeros(len(alpha_list))\n",
    "refit_e_num_clusters_vec = onp.zeros(len(alpha_list))\n",
    "\n",
    "for i in range(len(alpha_list)): \n",
    "    \n",
    "    # get dictionaries\n",
    "    pert_dict = vb_params_paragami.fold(vb_pert_list[i], free = True)\n",
    "    lr_dict = vb_params_paragami.fold(lr_list[i], free = True)\n",
    "    \n",
    "    # get posterior expectations\n",
    "    pert_e_ind_admix, pert_e_pop_freq = plotting_utils.get_vb_expectations(pert_dict, gh_loc, gh_weights)\n",
    "    lr_e_ind_admix, lr_e_pop_freq = plotting_utils.get_vb_expectations(lr_dict, gh_loc, gh_weights)\n",
    "    \n",
    "    # get number of clusters\n",
    "    refit_e_num_clusters_vec[i] = cluster_quantities_lib.get_e_num_clusters_from_ez(pert_e_ind_admix)\n",
    "    lr_e_num_clusters_vec[i] = cluster_quantities_lib.get_e_num_clusters_from_ez(lr_e_ind_admix)\n"
   ]
  },
  {
   "cell_type": "code",
   "execution_count": 43,
   "metadata": {},
   "outputs": [
    {
     "data": {
      "text/plain": [
       "<matplotlib.lines.Line2D at 0x7f0352e8f310>"
      ]
     },
     "execution_count": 43,
     "metadata": {},
     "output_type": "execute_result"
    },
    {
     "data": {
      "image/png": "[encoded data removed]",
      "text/plain": [
       "<Figure size 432x288 with 1 Axes>"
      ]
     },
     "metadata": {
      "needs_background": "light"
     },
     "output_type": "display_data"
    }
   ],
   "source": [
    "plt.plot(alpha_list, lr_e_num_clusters_vec, '+--')\n",
    "plt.plot(alpha_list, refit_e_num_clusters_vec, '+-')\n",
    "\n",
    "plt.xlabel('alpha')\n",
    "plt.ylabel('num posterior clusters')\n",
    "plt.legend(('lr', 'refit'))\n",
    "\n",
    "plt.axvline(prior_params_dict['dp_prior_alpha'], color = 'red', linestyle = 'dashed')"
   ]
  },
  {
   "cell_type": "code",
   "execution_count": null,
   "metadata": {},
   "outputs": [],
   "source": []
  },
  {
   "cell_type": "code",
   "execution_count": null,
   "metadata": {},
   "outputs": [],
   "source": []
  }
 ],
 "metadata": {
  "kernelspec": {
   "display_name": "bnp_sensitivity_jax",
   "language": "python",
   "name": "bnp_sensitivity_jax"
  },
  "language_info": {
   "codemirror_mode": {
    "name": "ipython",
    "version": 3
   },
   "file_extension": ".py",
   "mimetype": "text/x-python",
   "name": "python",
   "nbconvert_exporter": "python",
   "pygments_lexer": "ipython3",
   "version": "3.8.0"
  }
 },
 "nbformat": 4,
 "nbformat_minor": 4
}
