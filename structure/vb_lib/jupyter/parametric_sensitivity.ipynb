{
 "cells": [
  {
   "cell_type": "markdown",
   "metadata": {},
   "source": [
    "Here, we examine parametric sensitivity of the structure model on a small simulated dataset"
   ]
  },
  {
   "cell_type": "code",
   "execution_count": 1,
   "metadata": {},
   "outputs": [
    {
     "name": "stderr",
     "output_type": "stream",
     "text": [
      "/accounts/grad/runjing_liu/.conda/envs/bnp_sensitivity_jax/lib/python3.8/site-packages/jax/lib/xla_bridge.py:130: UserWarning: No GPU/TPU found, falling back to CPU.\n",
      "  warnings.warn('No GPU/TPU found, falling back to CPU.')\n"
     ]
    }
   ],
   "source": [
    "import jax\n",
    "\n",
    "import jax.numpy as np\n",
    "import jax.scipy as sp\n",
    "\n",
    "from numpy.polynomial.hermite import hermgauss\n",
    "import scipy as osp\n",
    "\n",
    "from vb_lib import structure_model_lib, data_utils, cavi_lib, plotting_utils\n",
    "from vb_lib.preconditioner_lib import get_mfvb_cov_matmul\n",
    "from bnpmodeling_runjingdev.sensitivity_lib import HyperparameterSensitivityLinearApproximation, get_jac_hvp_fun\n",
    "\n",
    "import paragami\n",
    "\n",
    "from copy import deepcopy\n",
    "\n",
    "import time\n",
    "\n",
    "import matplotlib.pyplot as plt\n",
    "%matplotlib inline  \n",
    "\n",
    "from bnpmodeling_runjingdev import cluster_quantities_lib, modeling_lib\n"
   ]
  },
  {
   "cell_type": "code",
   "execution_count": 2,
   "metadata": {},
   "outputs": [],
   "source": [
    "import numpy as onp\n",
    "onp.random.seed(53453)"
   ]
  },
  {
   "cell_type": "markdown",
   "metadata": {},
   "source": [
    "# Draw data"
   ]
  },
  {
   "cell_type": "code",
   "execution_count": 3,
   "metadata": {},
   "outputs": [],
   "source": [
    "n_obs = 50\n",
    "n_loci = 100\n",
    "n_pop = 4"
   ]
  },
  {
   "cell_type": "code",
   "execution_count": 4,
   "metadata": {},
   "outputs": [
    {
     "name": "stdout",
     "output_type": "stream",
     "text": [
      "Generating datapoints  0  to  50\n"
     ]
    }
   ],
   "source": [
    "g_obs, true_pop_allele_freq, true_ind_admix_propn = \\\n",
    "    data_utils.draw_data(n_obs, n_loci, n_pop)"
   ]
  },
  {
   "cell_type": "code",
   "execution_count": 5,
   "metadata": {},
   "outputs": [],
   "source": [
    "g_obs = np.array(g_obs)"
   ]
  },
  {
   "cell_type": "code",
   "execution_count": 6,
   "metadata": {
    "scrolled": true
   },
   "outputs": [
    {
     "data": {
      "text/plain": [
       "Text(0.5, 0, 'individual')"
      ]
     },
     "execution_count": 6,
     "metadata": {},
     "output_type": "execute_result"
    },
    {
     "data": {
      "image/png": "[encoded data removed]",
      "text/plain": [
       "<Figure size 1152x144 with 1 Axes>"
      ]
     },
     "metadata": {
      "needs_background": "light"
     },
     "output_type": "display_data"
    }
   ],
   "source": [
    "plt.matshow(true_ind_admix_propn.T)\n",
    "plt.ylabel('population')\n",
    "plt.xlabel('individual')"
   ]
  },
  {
   "cell_type": "code",
   "execution_count": 7,
   "metadata": {
    "scrolled": true
   },
   "outputs": [
    {
     "data": {
      "text/plain": [
       "(50, 100, 3)"
      ]
     },
     "execution_count": 7,
     "metadata": {},
     "output_type": "execute_result"
    }
   ],
   "source": [
    "g_obs.shape"
   ]
  },
  {
   "cell_type": "markdown",
   "metadata": {},
   "source": [
    "# Get prior"
   ]
  },
  {
   "cell_type": "code",
   "execution_count": 8,
   "metadata": {},
   "outputs": [
    {
     "name": "stdout",
     "output_type": "stream",
     "text": [
      "OrderedDict:\n",
      "\t[dp_prior_alpha] = NumericArrayPattern (1,) (lb=0.0, ub=inf)\n",
      "\t[allele_prior_alpha] = NumericArrayPattern (1,) (lb=0.0, ub=inf)\n",
      "\t[allele_prior_beta] = NumericArrayPattern (1,) (lb=0.0, ub=inf)\n"
     ]
    }
   ],
   "source": [
    "prior_params_dict, prior_params_paragami = \\\n",
    "    structure_model_lib.get_default_prior_params()\n",
    "\n",
    "print(prior_params_paragami)\n",
    "\n",
    "prior_params_free = prior_params_paragami.flatten(prior_params_dict, free = True)"
   ]
  },
  {
   "cell_type": "markdown",
   "metadata": {},
   "source": [
    "# Get VB params "
   ]
  },
  {
   "cell_type": "code",
   "execution_count": 9,
   "metadata": {},
   "outputs": [],
   "source": [
    "k_approx = 8"
   ]
  },
  {
   "cell_type": "code",
   "execution_count": 10,
   "metadata": {},
   "outputs": [],
   "source": [
    "gh_deg = 8\n",
    "gh_loc, gh_weights = hermgauss(8)"
   ]
  },
  {
   "cell_type": "code",
   "execution_count": 11,
   "metadata": {
    "scrolled": true
   },
   "outputs": [
    {
     "name": "stdout",
     "output_type": "stream",
     "text": [
      "OrderedDict:\n",
      "\t[pop_freq_beta_params] = NumericArrayPattern (100, 8, 2) (lb=0.0, ub=inf)\n",
      "\t[ind_admix_params] = OrderedDict:\n",
      "\t[stick_beta] = NumericArrayPattern (50, 7, 2) (lb=0.0, ub=inf)\n"
     ]
    }
   ],
   "source": [
    "use_logitnormal_sticks = False\n",
    "\n",
    "vb_params_dict, vb_params_paragami = \\\n",
    "    structure_model_lib.get_vb_params_paragami_object(n_obs, n_loci, k_approx,\n",
    "                                    use_logitnormal_sticks = use_logitnormal_sticks)\n",
    "    \n",
    "print(vb_params_paragami)"
   ]
  },
  {
   "cell_type": "markdown",
   "metadata": {},
   "source": [
    "## Initialize "
   ]
  },
  {
   "cell_type": "code",
   "execution_count": 12,
   "metadata": {},
   "outputs": [],
   "source": [
    "vb_params_dict = \\\n",
    "        structure_model_lib.set_init_vb_params(g_obs, k_approx, vb_params_dict,\n",
    "                                                seed = 34221)"
   ]
  },
  {
   "cell_type": "code",
   "execution_count": 13,
   "metadata": {},
   "outputs": [
    {
     "data": {
      "text/plain": [
       "Text(0.5, 0, 'individual')"
      ]
     },
     "execution_count": 13,
     "metadata": {},
     "output_type": "execute_result"
    },
    {
     "data": {
      "image/png": "[encoded data removed]",
      "text/plain": [
       "<Figure size 1152x184.32 with 1 Axes>"
      ]
     },
     "metadata": {
      "needs_background": "light"
     },
     "output_type": "display_data"
    }
   ],
   "source": [
    "plt.matshow(plotting_utils.get_vb_expectations(vb_params_dict)[0].transpose())\n",
    "plt.ylabel('population')\n",
    "plt.xlabel('individual')"
   ]
  },
  {
   "cell_type": "code",
   "execution_count": null,
   "metadata": {},
   "outputs": [],
   "source": []
  },
  {
   "cell_type": "markdown",
   "metadata": {},
   "source": [
    "# Optimize"
   ]
  },
  {
   "cell_type": "code",
   "execution_count": 15,
   "metadata": {},
   "outputs": [],
   "source": [
    "from vb_lib.structure_optimization_lib import define_structure_objective\n",
    "from bnpmodeling_runjingdev.optimization_lib import run_lbfgs"
   ]
  },
  {
   "cell_type": "code",
   "execution_count": 16,
   "metadata": {},
   "outputs": [
    {
     "name": "stdout",
     "output_type": "stream",
     "text": [
      "Compiling objective ...\n",
      "Iter 0: f = 19762.69009578\n",
      "Compiling grad ...\n",
      "Compile time: 19.2203secs\n"
     ]
    }
   ],
   "source": [
    "optim_objective, init_vb_free = \\\n",
    "    define_structure_objective(g_obs, vb_params_dict,\n",
    "                        vb_params_paragami,\n",
    "                        prior_params_dict,\n",
    "                        gh_loc = gh_loc,\n",
    "                        gh_weights = gh_weights, \n",
    "                        compile_hvp=False)\n"
   ]
  },
  {
   "cell_type": "code",
   "execution_count": 17,
   "metadata": {},
   "outputs": [
    {
     "name": "stdout",
     "output_type": "stream",
     "text": [
      "\n",
      "Running L-BFGS-B ... \n",
      "Iter 0: f = 19762.69009578\n",
      "Iter 1: f = 19241.52676286\n",
      "Iter 2: f = 17469.07435517\n",
      "Iter 3: f = 12415.25917376\n",
      "Iter 4: f = 10481.76491931\n",
      "Iter 5: f = 9103.77630776\n",
      "Iter 6: f = 8384.99219370\n",
      "Iter 7: f = 8059.67286661\n",
      "Iter 8: f = 7857.29939386\n",
      "Iter 9: f = 7704.48692361\n",
      "Iter 10: f = 7636.23657752\n",
      "Iter 11: f = 7596.27180605\n",
      "Iter 12: f = 7572.48722471\n",
      "Iter 13: f = 7556.88395892\n",
      "Iter 14: f = 7544.80884353\n",
      "Iter 15: f = 7535.55426703\n",
      "Iter 16: f = 7527.13195103\n",
      "Iter 17: f = 7518.04657179\n",
      "Iter 18: f = 7512.14305219\n",
      "Iter 19: f = 7507.72469602\n",
      "Iter 20: f = 7505.09083515\n",
      "Iter 21: f = 7502.72411137\n",
      "Iter 22: f = 7499.44307993\n",
      "Iter 23: f = 7497.17355864\n",
      "Iter 24: f = 7494.91003964\n",
      "Iter 25: f = 7490.63313276\n",
      "Iter 26: f = 7487.06774649\n",
      "Iter 27: f = 7482.04249984\n",
      "Iter 28: f = 7479.20450220\n",
      "Iter 29: f = 7477.48422882\n",
      "Iter 30: f = 7476.91603185\n",
      "Iter 31: f = 7476.27228241\n",
      "Iter 32: f = 7475.47808369\n",
      "Iter 33: f = 7474.87552865\n",
      "Iter 34: f = 7474.19431876\n",
      "Iter 35: f = 7473.78464749\n",
      "Iter 36: f = 7473.29987190\n",
      "Iter 37: f = 7473.14952152\n",
      "Iter 38: f = 7473.00681122\n",
      "Iter 39: f = 7472.95245596\n",
      "Iter 40: f = 7472.83211209\n",
      "Iter 41: f = 7472.78162829\n",
      "Iter 42: f = 7472.71066216\n",
      "Iter 43: f = 7472.60688801\n",
      "Iter 44: f = 7472.82691380\n",
      "Iter 45: f = 7472.57488614\n",
      "Iter 46: f = 7472.51915014\n",
      "Iter 47: f = 7472.49668285\n",
      "Iter 48: f = 7472.48331455\n",
      "Iter 49: f = 7472.47743298\n",
      "Iter 50: f = 7472.47268654\n",
      "Iter 51: f = 7472.46869229\n",
      "Iter 52: f = 7472.46508177\n",
      "Iter 53: f = 7472.46097256\n",
      "Iter 54: f = 7472.45519675\n",
      "Iter 55: f = 7472.45319306\n",
      "Iter 56: f = 7472.45072389\n",
      "Iter 57: f = 7472.44885775\n",
      "Iter 58: f = 7472.44668942\n",
      "Iter 59: f = 7472.44479884\n",
      "Iter 60: f = 7472.44326169\n",
      "Iter 61: f = 7472.44132765\n",
      "Iter 62: f = 7472.43920272\n",
      "Iter 63: f = 7472.43672104\n",
      "Iter 64: f = 7472.43481920\n",
      "Iter 65: f = 7472.43312538\n",
      "Iter 66: f = 7472.43126581\n",
      "Iter 67: f = 7472.42968332\n",
      "Iter 68: f = 7472.42890518\n",
      "Iter 69: f = 7472.42777835\n",
      "Iter 70: f = 7472.42754126\n",
      "Iter 71: f = 7472.42689673\n",
      "Iter 72: f = 7472.42663502\n",
      "Iter 73: f = 7472.42634226\n",
      "Iter 74: f = 7472.42595954\n",
      "Iter 75: f = 7472.42621445\n",
      "Iter 76: f = 7472.42580042\n",
      "Iter 77: f = 7472.42564750\n",
      "Iter 78: f = 7472.42555337\n",
      "Iter 79: f = 7472.42546123\n",
      "Iter 80: f = 7472.42538895\n",
      "Iter 81: f = 7472.42534674\n",
      "Iter 82: f = 7472.42528567\n",
      "Iter 83: f = 7472.42524700\n",
      "Iter 84: f = 7472.42520624\n",
      "Iter 85: f = 7472.42517570\n",
      "Iter 86: f = 7472.42515184\n",
      "Iter 87: f = 7472.42513623\n",
      "done. Elapsed 3.32107secs\n",
      "Iter 88: f = 7472.42513623\n",
      "objective value:  7472.425136233996\n"
     ]
    }
   ],
   "source": [
    "out = run_lbfgs(optim_objective, init_vb_free)\n",
    "\n",
    "vb_opt = out.x\n",
    "vb_opt_dict = vb_params_paragami.fold(vb_opt, free = True)\n"
   ]
  },
  {
   "cell_type": "code",
   "execution_count": null,
   "metadata": {},
   "outputs": [],
   "source": []
  },
  {
   "cell_type": "markdown",
   "metadata": {},
   "source": [
    "# Check out the fit"
   ]
  },
  {
   "cell_type": "code",
   "execution_count": 18,
   "metadata": {},
   "outputs": [
    {
     "data": {
      "text/plain": [
       "<matplotlib.image.AxesImage at 0x7f7904a28fd0>"
      ]
     },
     "execution_count": 18,
     "metadata": {},
     "output_type": "execute_result"
    },
    {
     "data": {
      "image/png": "[encoded data removed]",
      "text/plain": [
       "<Figure size 1152x144 with 1 Axes>"
      ]
     },
     "metadata": {
      "needs_background": "light"
     },
     "output_type": "display_data"
    }
   ],
   "source": [
    "# truth\n",
    "plt.matshow(true_ind_admix_propn.T)"
   ]
  },
  {
   "cell_type": "code",
   "execution_count": 19,
   "metadata": {},
   "outputs": [
    {
     "data": {
      "text/plain": [
       "<matplotlib.image.AxesImage at 0x7f7904b65250>"
      ]
     },
     "execution_count": 19,
     "metadata": {},
     "output_type": "execute_result"
    },
    {
     "data": {
      "image/png": "[encoded data removed]",
      "text/plain": [
       "<Figure size 1152x184.32 with 1 Axes>"
      ]
     },
     "metadata": {
      "needs_background": "light"
     },
     "output_type": "display_data"
    }
   ],
   "source": [
    "# fitted\n",
    "e_ind_admix = plotting_utils.get_vb_expectations(vb_opt_dict)[0]\n",
    "plt.matshow(e_ind_admix.T)"
   ]
  },
  {
   "cell_type": "markdown",
   "metadata": {},
   "source": [
    "# Define sensitivity object"
   ]
  },
  {
   "cell_type": "code",
   "execution_count": 20,
   "metadata": {},
   "outputs": [],
   "source": [
    "# initial prior alpha\n",
    "use_free_alpha = True\n",
    "prior_alpha0 = prior_params_paragami['dp_prior_alpha'].flatten(prior_params_dict['dp_prior_alpha'], \n",
    "                                                              free = use_free_alpha)"
   ]
  },
  {
   "cell_type": "code",
   "execution_count": 21,
   "metadata": {},
   "outputs": [],
   "source": [
    "# set up objective as function of vb params and prior param \n",
    "\n",
    "def objective_fun(vb_params_dict, alpha): \n",
    "    \n",
    "    _prior_params_dict = deepcopy(prior_params_dict)\n",
    "    _prior_params_dict['dp_prior_alpha'] = alpha\n",
    "    \n",
    "    return structure_model_lib.get_kl(g_obs, vb_params_dict, _prior_params_dict,\n",
    "                    gh_loc = gh_loc, gh_weights = gh_weights)\n",
    "\n",
    "\n",
    "objective_fun_free = paragami.FlattenFunctionInput(\n",
    "                                original_fun=objective_fun, \n",
    "                                patterns = [vb_params_paragami, prior_params_paragami['dp_prior_alpha']],\n",
    "                                free = [True, use_free_alpha],\n",
    "                                argnums = [0, 1])\n"
   ]
  },
  {
   "cell_type": "code",
   "execution_count": 22,
   "metadata": {},
   "outputs": [
    {
     "data": {
      "text/plain": [
       "DeviceArray(7472.42513623, dtype=float64)"
      ]
     },
     "execution_count": 22,
     "metadata": {},
     "output_type": "execute_result"
    }
   ],
   "source": [
    "objective_fun_free(vb_opt, prior_alpha0)"
   ]
  },
  {
   "cell_type": "markdown",
   "metadata": {},
   "source": [
    "### Set up hessian solver"
   ]
  },
  {
   "cell_type": "code",
   "execution_count": 23,
   "metadata": {},
   "outputs": [
    {
     "name": "stdout",
     "output_type": "stream",
     "text": [
      "preconditioner time: 2.56sec\n"
     ]
    }
   ],
   "source": [
    "# define preconditioner\n",
    "cg_precond = lambda v : get_mfvb_cov_matmul(v, vb_opt_dict,\n",
    "                                            vb_params_paragami,\n",
    "                                            return_info = True)\n",
    "t0 = time.time()\n",
    "_ = cg_precond(vb_opt)\n",
    "print('preconditioner time: {:0.3}sec'.format(time.time() - t0))"
   ]
  },
  {
   "cell_type": "code",
   "execution_count": 24,
   "metadata": {},
   "outputs": [
    {
     "name": "stdout",
     "output_type": "stream",
     "text": [
      "Compiling hessian solver ...\n",
      "Hessian solver compile time: 131.782sec\n",
      "\n",
      "Compiling cross hessian...\n",
      "Cross-hessian compile time: 3.11377sec\n",
      "\n",
      "LR sensitivity time: 0.987273sec\n",
      "\n"
     ]
    }
   ],
   "source": [
    "vb_sens = HyperparameterSensitivityLinearApproximation(objective_fun_free,\n",
    "                                                        vb_opt,\n",
    "                                                        prior_alpha0, \n",
    "                                                        cg_precond=cg_precond)\n"
   ]
  },
  {
   "cell_type": "code",
   "execution_count": null,
   "metadata": {},
   "outputs": [],
   "source": []
  },
  {
   "cell_type": "markdown",
   "metadata": {},
   "source": [
    "# Perturb alpha. Check results"
   ]
  },
  {
   "cell_type": "code",
   "execution_count": 27,
   "metadata": {},
   "outputs": [],
   "source": [
    "# set new alpha \n",
    "new_alpha = np.array([5.])\n",
    "\n",
    "prior_params_pert_dict = deepcopy(prior_params_dict)\n",
    "prior_params_pert_dict['dp_prior_alpha'] = new_alpha\n"
   ]
  },
  {
   "cell_type": "code",
   "execution_count": 28,
   "metadata": {},
   "outputs": [
    {
     "name": "stdout",
     "output_type": "stream",
     "text": [
      "initial alpha,  [3.]\n",
      "perturbed alpha,  [5.]\n"
     ]
    }
   ],
   "source": [
    "print('initial alpha, ', prior_params_dict['dp_prior_alpha'])\n",
    "print('perturbed alpha, ', prior_params_pert_dict['dp_prior_alpha'])\n"
   ]
  },
  {
   "cell_type": "code",
   "execution_count": 29,
   "metadata": {},
   "outputs": [
    {
     "name": "stdout",
     "output_type": "stream",
     "text": [
      "l_inf diff:  4.401820609830777\n"
     ]
    }
   ],
   "source": [
    "# linear response prediction \n",
    "lr_vb_free_params = \\\n",
    "    vb_sens.predict_opt_par_from_hyper_par(\n",
    "        prior_params_paragami['dp_prior_alpha'].flatten(prior_params_pert_dict['dp_prior_alpha'], \n",
    "                                                        free = use_free_alpha))\n",
    "\n",
    "print('l_inf diff: ', np.max(np.abs(lr_vb_free_params - vb_opt)))\n"
   ]
  },
  {
   "cell_type": "code",
   "execution_count": 30,
   "metadata": {},
   "outputs": [
    {
     "data": {
      "text/plain": [
       "DeviceArray(6.28532857, dtype=float64)"
      ]
     },
     "execution_count": 30,
     "metadata": {},
     "output_type": "execute_result"
    }
   ],
   "source": [
    "(lr_vb_free_params**2).mean()"
   ]
  },
  {
   "cell_type": "code",
   "execution_count": null,
   "metadata": {},
   "outputs": [],
   "source": []
  },
  {
   "cell_type": "markdown",
   "metadata": {},
   "source": [
    "### reoptimize"
   ]
  },
  {
   "cell_type": "code",
   "execution_count": 31,
   "metadata": {},
   "outputs": [],
   "source": [
    "new_init_dict = deepcopy(vb_opt_dict)\n",
    "new_init_free = vb_params_paragami.flatten(new_init_dict, free = True)"
   ]
  },
  {
   "cell_type": "code",
   "execution_count": 32,
   "metadata": {},
   "outputs": [
    {
     "name": "stdout",
     "output_type": "stream",
     "text": [
      "Compiling objective ...\n",
      "Iter 0: f = 7768.77385913\n",
      "Compiling grad ...\n",
      "Compile time: 17.5284secs\n"
     ]
    }
   ],
   "source": [
    "optim_objective_pert, _ = \\\n",
    "    define_structure_objective(g_obs, new_init_dict,\n",
    "                        vb_params_paragami,\n",
    "                        prior_params_pert_dict,\n",
    "                        gh_loc = gh_loc,\n",
    "                        gh_weights = gh_weights, \n",
    "                        compile_hvp=False)\n"
   ]
  },
  {
   "cell_type": "code",
   "execution_count": 33,
   "metadata": {},
   "outputs": [
    {
     "name": "stdout",
     "output_type": "stream",
     "text": [
      "\n",
      "Running L-BFGS-B ... \n",
      "Iter 0: f = 7768.77385913\n",
      "Iter 1: f = 7752.85757062\n",
      "Iter 2: f = 7733.98390624\n",
      "Iter 3: f = 7726.81663864\n",
      "Iter 4: f = 7720.95840170\n",
      "Iter 5: f = 7716.72375083\n",
      "Iter 6: f = 7715.78459166\n",
      "Iter 7: f = 7713.18515594\n",
      "Iter 8: f = 7711.10994680\n",
      "Iter 9: f = 7708.49179511\n",
      "Iter 10: f = 7705.54145292\n",
      "Iter 11: f = 7705.89831817\n",
      "Iter 12: f = 7704.27500734\n",
      "Iter 13: f = 7703.72161455\n",
      "Iter 14: f = 7703.31350823\n",
      "Iter 15: f = 7703.00615831\n",
      "Iter 16: f = 7702.96416524\n",
      "Iter 17: f = 7702.67194766\n",
      "Iter 18: f = 7702.61628359\n",
      "Iter 19: f = 7702.49086853\n",
      "Iter 20: f = 7702.31427250\n",
      "Iter 21: f = 7702.36884255\n",
      "Iter 22: f = 7702.20482897\n",
      "Iter 23: f = 7702.03488551\n",
      "Iter 24: f = 7701.97026963\n",
      "Iter 25: f = 7701.93791038\n",
      "Iter 26: f = 7701.91948310\n",
      "Iter 27: f = 7701.90272851\n",
      "Iter 28: f = 7701.88838020\n",
      "Iter 29: f = 7701.88181221\n",
      "Iter 30: f = 7701.87476883\n",
      "Iter 31: f = 7701.86754605\n",
      "Iter 32: f = 7701.86213282\n",
      "Iter 33: f = 7701.85970383\n",
      "Iter 34: f = 7701.85571374\n",
      "Iter 35: f = 7701.85444455\n",
      "Iter 36: f = 7701.85279777\n",
      "Iter 37: f = 7701.85179069\n",
      "Iter 38: f = 7701.85113846\n",
      "Iter 39: f = 7701.85046550\n",
      "Iter 40: f = 7701.85001565\n",
      "Iter 41: f = 7701.84978367\n",
      "Iter 42: f = 7701.84953295\n",
      "Iter 43: f = 7701.84926863\n",
      "Iter 44: f = 7701.84901755\n",
      "Iter 45: f = 7701.84886774\n",
      "Iter 46: f = 7701.84870699\n",
      "Iter 47: f = 7701.84865366\n",
      "Iter 48: f = 7701.84858668\n",
      "Iter 49: f = 7701.84855535\n",
      "Iter 50: f = 7701.84853262\n",
      "Iter 51: f = 7701.84849950\n",
      "Iter 52: f = 7701.84848772\n",
      "done. Elapsed 1.98314secs\n",
      "Iter 53: f = 7701.84848772\n",
      "objective value:  7701.848487718982\n"
     ]
    }
   ],
   "source": [
    "out = run_lbfgs(optim_objective_pert, new_init_free)\n",
    "\n",
    "vb_opt_pert = out.x\n",
    "vb_pert_dict = vb_params_paragami.fold(vb_opt_pert, free = True)"
   ]
  },
  {
   "cell_type": "markdown",
   "metadata": {},
   "source": [
    "### compare"
   ]
  },
  {
   "cell_type": "code",
   "execution_count": 34,
   "metadata": {},
   "outputs": [],
   "source": [
    "def print_diff_plot(lr_vb_free_params, vb_opt_pert, vb_opt): \n",
    "    plt.plot(lr_vb_free_params - vb_opt, \n",
    "             vb_opt_pert - vb_opt, \n",
    "             '+', color = 'red')\n",
    "\n",
    "    plt.plot(lr_vb_free_params - vb_opt, \n",
    "            lr_vb_free_params - vb_opt, \n",
    "             '-', color = 'blue')\n",
    "\n",
    "    plt.xlabel('lr')\n",
    "    plt.ylabel('re-optimized')\n"
   ]
  },
  {
   "cell_type": "code",
   "execution_count": 35,
   "metadata": {},
   "outputs": [
    {
     "data": {
      "image/png": "[encoded data removed]",
      "text/plain": [
       "<Figure size 432x288 with 1 Axes>"
      ]
     },
     "metadata": {
      "needs_background": "light"
     },
     "output_type": "display_data"
    }
   ],
   "source": [
    "# compare free parameters\n",
    "print_diff_plot(lr_vb_free_params, vb_opt_pert, vb_opt)"
   ]
  },
  {
   "cell_type": "code",
   "execution_count": 36,
   "metadata": {},
   "outputs": [],
   "source": [
    "# compare expectations\n",
    "init_e_ind_admix, init_e_pop_freq = plotting_utils.get_vb_expectations(vb_opt_dict)\n",
    "pert_e_ind_admix, pert_e_pop_freq = plotting_utils.get_vb_expectations(vb_pert_dict)\n",
    "lr_e_ind_admix, lr_e_pop_freq = plotting_utils.get_vb_expectations(\n",
    "    vb_params_paragami.fold(lr_vb_free_params, free = True))"
   ]
  },
  {
   "cell_type": "code",
   "execution_count": 37,
   "metadata": {},
   "outputs": [
    {
     "data": {
      "image/png": "[encoded data removed]",
      "text/plain": [
       "<Figure size 432x288 with 1 Axes>"
      ]
     },
     "metadata": {
      "needs_background": "light"
     },
     "output_type": "display_data"
    }
   ],
   "source": [
    "print_diff_plot(lr_e_ind_admix, pert_e_ind_admix, init_e_ind_admix)"
   ]
  },
  {
   "cell_type": "code",
   "execution_count": 38,
   "metadata": {},
   "outputs": [
    {
     "data": {
      "image/png": "[encoded data removed]",
      "text/plain": [
       "<Figure size 432x288 with 1 Axes>"
      ]
     },
     "metadata": {
      "needs_background": "light"
     },
     "output_type": "display_data"
    }
   ],
   "source": [
    "print_diff_plot(lr_e_pop_freq, pert_e_pop_freq, init_e_pop_freq)"
   ]
  },
  {
   "cell_type": "code",
   "execution_count": 39,
   "metadata": {},
   "outputs": [
    {
     "name": "stdout",
     "output_type": "stream",
     "text": [
      "init number of cluster:  6.642728515603663\n",
      "pert number of cluster:  6.771263263106791\n",
      "lr number of cluster:  6.711280110979436\n"
     ]
    }
   ],
   "source": [
    "print('init number of cluster: ', cluster_quantities_lib.get_e_num_clusters_from_ez(init_e_ind_admix))\n",
    "\n",
    "print('pert number of cluster: ', cluster_quantities_lib.get_e_num_clusters_from_ez(pert_e_ind_admix))\n",
    "print('lr number of cluster: ', cluster_quantities_lib.get_e_num_clusters_from_ez(lr_e_ind_admix))"
   ]
  },
  {
   "cell_type": "code",
   "execution_count": null,
   "metadata": {},
   "outputs": [],
   "source": []
  },
  {
   "cell_type": "markdown",
   "metadata": {},
   "source": [
    "# Fit for a range of alpha"
   ]
  },
  {
   "cell_type": "code",
   "execution_count": 40,
   "metadata": {},
   "outputs": [],
   "source": [
    "alpha_list = np.arange(1, 8)"
   ]
  },
  {
   "cell_type": "code",
   "execution_count": 41,
   "metadata": {},
   "outputs": [],
   "source": [
    "def refit_with_alpha(alpha, new_init_dict):\n",
    "    # sets new alpha, returns new vb optimum\n",
    "    \n",
    "    # set new prior\n",
    "    new_alpha = np.array([alpha])\n",
    "\n",
    "    prior_params_pert_dict = deepcopy(prior_params_dict)\n",
    "    prior_params_pert_dict['dp_prior_alpha'] = new_alpha\n",
    "    \n",
    "    # set new objective \n",
    "    optim_objective_pert, new_init_free = \\\n",
    "        define_structure_objective(g_obs, new_init_dict,\n",
    "                            vb_params_paragami,\n",
    "                            prior_params_pert_dict,\n",
    "                            gh_loc = gh_loc,\n",
    "                            gh_weights = gh_weights, \n",
    "                            compile_hvp=False)\n",
    "\n",
    "    out = run_lbfgs(optim_objective_pert, new_init_free)\n",
    "        \n",
    "    return out.x\n"
   ]
  },
  {
   "cell_type": "code",
   "execution_count": 42,
   "metadata": {},
   "outputs": [
    {
     "name": "stdout",
     "output_type": "stream",
     "text": [
      "alphas:  [1 2 3 4 5 6 7]\n"
     ]
    }
   ],
   "source": [
    "print('alphas: ', alpha_list)"
   ]
  },
  {
   "cell_type": "code",
   "execution_count": 43,
   "metadata": {},
   "outputs": [
    {
     "name": "stdout",
     "output_type": "stream",
     "text": [
      "\n",
      " re-optimzing with alpha =  1\n",
      "Compiling objective ...\n",
      "Iter 0: f = 7176.07641334\n",
      "Compiling grad ...\n",
      "Compile time: 17.7983secs\n",
      "\n",
      "Running L-BFGS-B ... \n",
      "Iter 0: f = 7176.07641334\n",
      "Iter 1: f = 7159.42012596\n",
      "Iter 2: f = 7110.75571929\n",
      "Iter 3: f = 7101.02399723\n",
      "Iter 4: f = 7082.21546708\n",
      "Iter 5: f = 7077.22597410\n",
      "Iter 6: f = 7068.00842462\n",
      "Iter 7: f = 7057.24932087\n",
      "Iter 8: f = 7053.68605052\n",
      "Iter 9: f = 7039.85428371\n",
      "Iter 10: f = 7034.81051996\n",
      "Iter 11: f = 7027.77138315\n",
      "Iter 12: f = 7021.37641457\n",
      "Iter 13: f = 7018.03845243\n",
      "Iter 14: f = 7013.45599045\n",
      "Iter 15: f = 7011.35718597\n",
      "Iter 16: f = 7009.12562431\n",
      "Iter 17: f = 7007.26298709\n",
      "Iter 18: f = 7005.69988042\n",
      "Iter 19: f = 7004.53768594\n",
      "Iter 20: f = 7002.94228305\n",
      "Iter 21: f = 7001.14914488\n",
      "Iter 22: f = 6999.20623894\n",
      "Iter 23: f = 6997.99354542\n",
      "Iter 24: f = 6996.67927630\n",
      "Iter 25: f = 6995.63543766\n",
      "Iter 26: f = 6994.70455378\n",
      "Iter 27: f = 6993.95056717\n",
      "Iter 28: f = 6993.41098637\n",
      "Iter 29: f = 6992.84219518\n",
      "Iter 30: f = 6992.37284801\n",
      "Iter 31: f = 6992.05784731\n",
      "Iter 32: f = 6991.71061135\n",
      "Iter 33: f = 6991.25556929\n",
      "Iter 34: f = 6990.86786104\n",
      "Iter 35: f = 6990.45739350\n",
      "Iter 36: f = 6990.02434542\n",
      "Iter 37: f = 6989.79927720\n",
      "Iter 38: f = 6989.53613430\n",
      "Iter 39: f = 6989.31342171\n",
      "Iter 40: f = 6989.14384524\n",
      "Iter 41: f = 6988.96167307\n",
      "Iter 42: f = 6988.79007395\n",
      "Iter 43: f = 6988.69936768\n",
      "Iter 44: f = 6988.57529655\n",
      "Iter 45: f = 6988.50309624\n",
      "Iter 46: f = 6988.40641011\n",
      "Iter 47: f = 6988.32847804\n",
      "Iter 48: f = 6988.24837962\n",
      "Iter 49: f = 6988.18664176\n",
      "Iter 50: f = 6988.13423632\n",
      "Iter 51: f = 6988.10992938\n",
      "Iter 52: f = 6988.09016805\n",
      "Iter 53: f = 6988.04321843\n",
      "Iter 54: f = 6987.92772483\n",
      "Iter 55: f = 6989.78727281\n",
      "Iter 56: f = 6987.83205293\n",
      "Iter 57: f = 6987.82013571\n",
      "Iter 58: f = 6987.72253672\n",
      "Iter 59: f = 6987.41703070\n",
      "Iter 60: f = 6986.78580383\n",
      "Iter 61: f = 6985.60396410\n",
      "Iter 62: f = 6985.03050690\n",
      "Iter 63: f = 6984.43935409\n",
      "Iter 64: f = 6984.08541148\n",
      "Iter 65: f = 6983.77961113\n",
      "Iter 66: f = 6983.39948866\n",
      "Iter 67: f = 6983.05117689\n",
      "Iter 68: f = 6982.57232293\n",
      "Iter 69: f = 6981.89920572\n",
      "Iter 70: f = 6981.22947026\n",
      "Iter 71: f = 6980.42783819\n",
      "Iter 72: f = 6979.34841795\n",
      "Iter 73: f = 6978.39573701\n",
      "Iter 74: f = 6976.82819184\n",
      "Iter 75: f = 6975.14268527\n",
      "Iter 76: f = 6973.97772180\n",
      "Iter 77: f = 6971.87246888\n",
      "Iter 78: f = 6969.93782578\n",
      "Iter 79: f = 6967.73863461\n",
      "Iter 80: f = 6964.54871798\n",
      "Iter 81: f = 6961.09014345\n",
      "Iter 82: f = 6959.14723220\n",
      "Iter 83: f = 6955.41539321\n",
      "Iter 84: f = 6953.39551034\n",
      "Iter 85: f = 6951.51275355\n",
      "Iter 86: f = 6947.95697062\n",
      "Iter 87: f = 6944.46841764\n",
      "Iter 88: f = 6939.97650496\n",
      "Iter 89: f = 6936.49293377\n",
      "Iter 90: f = 6933.41303197\n",
      "Iter 91: f = 6930.58418097\n",
      "Iter 92: f = 6928.51123642\n",
      "Iter 93: f = 6926.89630016\n",
      "Iter 94: f = 6925.30393684\n",
      "Iter 95: f = 6924.43342094\n",
      "Iter 96: f = 6923.71629606\n",
      "Iter 97: f = 6923.08828861\n",
      "Iter 98: f = 6922.68513182\n",
      "Iter 99: f = 6922.03881634\n",
      "Iter 100: f = 6921.43326490\n",
      "Iter 101: f = 6921.05145651\n",
      "Iter 102: f = 6920.62878950\n",
      "Iter 103: f = 6920.35055347\n",
      "Iter 104: f = 6920.13566560\n",
      "Iter 105: f = 6919.82319913\n",
      "Iter 106: f = 6919.54822908\n",
      "Iter 107: f = 6919.41591256\n",
      "Iter 108: f = 6919.27859400\n",
      "Iter 109: f = 6918.91528446\n",
      "Iter 110: f = 6918.43678842\n",
      "Iter 111: f = 6917.78967013\n",
      "Iter 112: f = 6916.68967977\n",
      "Iter 113: f = 6915.07788231\n",
      "Iter 114: f = 6912.13344629\n",
      "Iter 115: f = 6915.14525970\n",
      "Iter 116: f = 6910.62175812\n",
      "Iter 117: f = 6908.86878680\n",
      "Iter 118: f = 6907.47245157\n",
      "Iter 119: f = 6906.49382124\n",
      "Iter 120: f = 6905.59246443\n",
      "Iter 121: f = 6905.00911912\n",
      "Iter 122: f = 6904.40111871\n",
      "Iter 123: f = 6903.96499297\n",
      "Iter 124: f = 6903.63717947\n",
      "Iter 125: f = 6903.41018366\n",
      "Iter 126: f = 6903.24364630\n",
      "Iter 127: f = 6903.14343829\n",
      "Iter 128: f = 6903.07379661\n",
      "Iter 129: f = 6903.02648664\n",
      "Iter 130: f = 6902.98151280\n",
      "Iter 131: f = 6902.95013570\n",
      "Iter 132: f = 6902.91963608\n",
      "Iter 133: f = 6902.88722731\n",
      "Iter 134: f = 6902.86619889\n",
      "Iter 135: f = 6902.84645702\n",
      "Iter 136: f = 6902.83649903\n",
      "Iter 137: f = 6902.83238313\n",
      "Iter 138: f = 6902.82908545\n",
      "Iter 139: f = 6902.82396634\n",
      "Iter 140: f = 6902.81821633\n",
      "Iter 141: f = 6902.81068158\n",
      "Iter 142: f = 6902.79089192\n",
      "Iter 143: f = 6902.77013787\n",
      "Iter 144: f = 6902.73899157\n",
      "Iter 145: f = 6902.69709190\n",
      "Iter 146: f = 6902.68116135\n",
      "Iter 147: f = 6902.66934910\n",
      "Iter 148: f = 6902.65680891\n",
      "Iter 149: f = 6902.65398772\n",
      "Iter 150: f = 6902.64365158\n",
      "Iter 151: f = 6902.63503532\n",
      "Iter 152: f = 6902.63224969\n",
      "Iter 153: f = 6902.62834590\n",
      "Iter 154: f = 6902.62786441\n",
      "Iter 155: f = 6902.62354419\n",
      "Iter 156: f = 6902.62299620\n",
      "Iter 157: f = 6902.62235075\n",
      "Iter 158: f = 6902.62174784\n",
      "Iter 159: f = 6902.62140311\n",
      "Iter 160: f = 6902.62123598\n",
      "Iter 161: f = 6902.62114822\n",
      "Iter 162: f = 6902.62107389\n",
      "Iter 163: f = 6902.62102111\n",
      "Iter 164: f = 6902.62098025\n",
      "Iter 165: f = 6902.62095895\n",
      "Iter 166: f = 6902.62093561\n",
      "Iter 167: f = 6902.62093356\n",
      "Iter 168: f = 6902.62092217\n",
      "done. Elapsed 6.26664secs\n",
      "Iter 169: f = 6902.62092217\n",
      "objective value:  6902.620922173987\n",
      "\n",
      " re-optimzing with alpha =  2\n",
      "Compiling objective ...\n",
      "Iter 0: f = 7324.25077479\n",
      "Compiling grad ...\n",
      "Compile time: 17.6724secs\n",
      "\n",
      "Running L-BFGS-B ... \n",
      "Iter 0: f = 7324.25077479\n",
      "Iter 1: f = 7317.14359956\n",
      "Iter 2: f = 7310.66789041\n",
      "Iter 3: f = 7308.11058243\n",
      "Iter 4: f = 7306.05357421\n",
      "Iter 5: f = 7303.44775984\n",
      "Iter 6: f = 7302.32749445\n",
      "Iter 7: f = 7300.86685810\n",
      "Iter 8: f = 7299.12634363\n",
      "Iter 9: f = 7297.47013659\n",
      "Iter 10: f = 7295.58149158\n",
      "Iter 11: f = 7295.37604353\n",
      "Iter 12: f = 7294.07030147\n",
      "Iter 13: f = 7293.61487709\n",
      "Iter 14: f = 7292.91789572\n",
      "Iter 15: f = 7292.33123563\n",
      "Iter 16: f = 7291.72349526\n",
      "Iter 17: f = 7291.24444429\n",
      "Iter 18: f = 7290.38495004\n",
      "Iter 19: f = 7289.66751261\n",
      "Iter 20: f = 7288.68745149\n",
      "Iter 21: f = 7287.65502941\n",
      "Iter 22: f = 7286.97482827\n",
      "Iter 23: f = 7286.48289189\n",
      "Iter 24: f = 7285.82960442\n",
      "Iter 25: f = 7285.50814897\n",
      "Iter 26: f = 7285.08804632\n",
      "Iter 27: f = 7284.65283613\n",
      "Iter 28: f = 7284.07646791\n",
      "Iter 29: f = 7283.26647141\n",
      "Iter 30: f = 7282.98028480\n",
      "Iter 31: f = 7281.97532555\n",
      "Iter 32: f = 7281.69616839\n",
      "Iter 33: f = 7281.44535503\n",
      "Iter 34: f = 7281.21789723\n",
      "Iter 35: f = 7281.01222091\n",
      "Iter 36: f = 7280.85284254\n",
      "Iter 37: f = 7280.62389264\n",
      "Iter 38: f = 7280.34745059\n",
      "Iter 39: f = 7280.08355642\n",
      "Iter 40: f = 7279.87247781\n",
      "Iter 41: f = 7279.69697105\n",
      "Iter 42: f = 7279.57250764\n",
      "Iter 43: f = 7279.44262943\n",
      "Iter 44: f = 7279.33512798\n",
      "Iter 45: f = 7279.24169888\n",
      "Iter 46: f = 7279.14799996\n",
      "Iter 47: f = 7279.06030070\n",
      "Iter 48: f = 7279.00313658\n",
      "Iter 49: f = 7278.95424984\n",
      "Iter 50: f = 7278.89392633\n",
      "Iter 51: f = 7278.86257485\n",
      "Iter 52: f = 7278.83741199\n",
      "Iter 53: f = 7278.82302380\n",
      "Iter 54: f = 7278.81083879\n",
      "Iter 55: f = 7278.79055531\n",
      "Iter 56: f = 7278.76298575\n",
      "Iter 57: f = 7278.70705791\n",
      "Iter 58: f = 7278.67981836\n",
      "Iter 59: f = 7278.64350031\n",
      "Iter 60: f = 7280.11594044\n",
      "Iter 61: f = 7278.57689604\n",
      "Iter 62: f = 7278.47321885\n",
      "Iter 63: f = 7278.20775484\n",
      "Iter 64: f = 7277.80304848\n",
      "Iter 65: f = 7278.35380782\n",
      "Iter 66: f = 7277.41869071\n",
      "Iter 67: f = 7276.82924542\n",
      "Iter 68: f = 7276.53793183\n",
      "Iter 69: f = 7276.12982679\n",
      "Iter 70: f = 7275.75209324\n",
      "Iter 71: f = 7275.27739401\n",
      "Iter 72: f = 7274.22249147\n",
      "Iter 73: f = 7273.89827342\n",
      "Iter 74: f = 7273.48188526\n",
      "Iter 75: f = 7272.26424945\n",
      "Iter 76: f = 7270.61666072\n",
      "Iter 77: f = 7268.84963007\n",
      "Iter 78: f = 7270.89348624\n",
      "Iter 79: f = 7267.56241018\n",
      "Iter 80: f = 7265.90884191\n",
      "Iter 81: f = 7263.23963792\n",
      "Iter 82: f = 7260.04402395\n",
      "Iter 83: f = 7255.48067461\n",
      "Iter 84: f = 7251.60977359\n",
      "Iter 85: f = 7252.55364090\n",
      "Iter 86: f = 7249.32650965\n",
      "Iter 87: f = 7247.65263685\n",
      "Iter 88: f = 7243.06353270\n",
      "Iter 89: f = 7241.35564588\n",
      "Iter 90: f = 7238.16987485\n",
      "Iter 91: f = 7235.69182570\n",
      "Iter 92: f = 7232.46396896\n",
      "Iter 93: f = 7230.01752313\n",
      "Iter 94: f = 7227.93932706\n",
      "Iter 95: f = 7226.02240702\n",
      "Iter 96: f = 7224.95052156\n",
      "Iter 97: f = 7223.60451846\n",
      "Iter 98: f = 7222.93634542\n",
      "Iter 99: f = 7222.35230311\n",
      "Iter 100: f = 7221.88814400\n",
      "Iter 101: f = 7221.40727491\n",
      "Iter 102: f = 7221.21066909\n",
      "Iter 103: f = 7220.89588117\n",
      "Iter 104: f = 7220.67439579\n",
      "Iter 105: f = 7220.46972726\n",
      "Iter 106: f = 7220.37875341\n",
      "Iter 107: f = 7220.26643590\n",
      "Iter 108: f = 7220.25015175\n",
      "Iter 109: f = 7220.16263961\n",
      "Iter 110: f = 7220.13699968\n",
      "Iter 111: f = 7220.09873362\n",
      "Iter 112: f = 7220.05641757\n",
      "Iter 113: f = 7220.10853692\n",
      "Iter 114: f = 7220.04251250\n",
      "Iter 115: f = 7220.02389725\n",
      "Iter 116: f = 7220.01686513\n",
      "Iter 117: f = 7220.00943473\n",
      "Iter 118: f = 7220.00912218\n",
      "Iter 119: f = 7220.00638954\n",
      "Iter 120: f = 7220.00334746\n",
      "Iter 121: f = 7219.99986747\n",
      "Iter 122: f = 7219.99703538\n",
      "Iter 123: f = 7219.99340122\n",
      "Iter 124: f = 7219.98866054\n",
      "Iter 125: f = 7219.98761681\n",
      "Iter 126: f = 7219.98368149\n",
      "Iter 127: f = 7219.98169685\n",
      "Iter 128: f = 7219.97705483\n",
      "Iter 129: f = 7219.96581535\n",
      "Iter 130: f = 7220.88345909\n",
      "Iter 131: f = 7219.92703642\n",
      "Iter 132: f = 7219.90081676\n",
      "Iter 133: f = 7471.23630268\n",
      "Iter 134: f = 7220.32486151\n",
      "Iter 135: f = 7219.89360093\n",
      "Iter 136: f = 7219.87177415\n",
      "Iter 137: f = 7219.81087891\n",
      "Iter 138: f = 7219.66010063\n",
      "Iter 139: f = 7218.69472544\n",
      "Iter 140: f = 7288.98165374\n",
      "Iter 141: f = 7218.05256773\n",
      "Iter 142: f = 7217.46097915\n",
      "Iter 143: f = 7216.58318602\n",
      "Iter 144: f = 7215.14636667\n",
      "Iter 145: f = 7212.92975134\n",
      "Iter 146: f = 7215.80285950\n",
      "Iter 147: f = 7211.93193220\n",
      "Iter 148: f = 7214.00503629\n",
      "Iter 149: f = 7210.87675843\n",
      "Iter 150: f = 7211.49954623\n",
      "Iter 151: f = 7210.40777167\n",
      "Iter 152: f = 7210.10745241\n",
      "Iter 153: f = 7209.96105566\n",
      "Iter 154: f = 7209.71170731\n",
      "Iter 155: f = 7209.49351634\n",
      "Iter 156: f = 7209.25024196\n",
      "Iter 157: f = 7209.03465271\n",
      "Iter 158: f = 7208.93251592\n",
      "Iter 159: f = 7208.82268898\n",
      "Iter 160: f = 7208.77759663\n",
      "Iter 161: f = 7208.75284344\n",
      "Iter 162: f = 7208.74189871\n",
      "Iter 163: f = 7208.72249116\n",
      "Iter 164: f = 7208.71346448\n",
      "Iter 165: f = 7208.69989431\n",
      "Iter 166: f = 7208.69125649\n",
      "Iter 167: f = 7208.68526817\n",
      "Iter 168: f = 7208.68095213\n",
      "Iter 169: f = 7208.67644128\n",
      "Iter 170: f = 7208.67563439\n",
      "Iter 171: f = 7208.67438967\n",
      "Iter 172: f = 7208.67408256\n",
      "Iter 173: f = 7208.67299778\n",
      "Iter 174: f = 7208.67273382\n",
      "Iter 175: f = 7208.67236958\n",
      "Iter 176: f = 7208.67197486\n",
      "Iter 177: f = 7208.67191798\n",
      "Iter 178: f = 7208.67154779\n",
      "Iter 179: f = 7208.67144583\n",
      "Iter 180: f = 7208.67122772\n",
      "Iter 181: f = 7208.67116459\n",
      "Iter 182: f = 7208.67094827\n",
      "Iter 183: f = 7208.67088206\n",
      "Iter 184: f = 7208.67082033\n",
      "Iter 185: f = 7208.67074261\n",
      "Iter 186: f = 7208.67077500\n",
      "Iter 187: f = 7208.67070856\n",
      "Iter 188: f = 7208.67065614\n",
      "Iter 189: f = 7208.67061629\n",
      "Iter 190: f = 7208.67056549\n",
      "Iter 191: f = 7208.67053107\n",
      "Iter 192: f = 7208.67051169\n",
      "Iter 193: f = 7208.67049863\n",
      "done. Elapsed 7.2264secs\n",
      "Iter 194: f = 7208.67049863\n",
      "objective value:  7208.6704986260465\n",
      "\n",
      " re-optimzing with alpha =  3\n",
      "Compiling objective ...\n",
      "Iter 0: f = 7472.42513623\n",
      "Compiling grad ...\n",
      "Compile time: 17.7332secs\n",
      "\n",
      "Running L-BFGS-B ... \n",
      "Iter 0: f = 7472.42513623\n",
      "Iter 1: f = 7475.29914971\n",
      "Iter 2: f = 7472.42513047\n",
      "done. Elapsed 0.136938secs\n",
      "Iter 3: f = 7472.42513047\n",
      "objective value:  7472.42513046804\n",
      "\n",
      " re-optimzing with alpha =  4\n",
      "Compiling objective ...\n",
      "Iter 0: f = 7620.59949768\n",
      "Compiling grad ...\n",
      "Compile time: 17.4879secs\n",
      "\n",
      "Running L-BFGS-B ... \n",
      "Iter 0: f = 7620.59949768\n",
      "Iter 1: f = 7613.97687685\n",
      "Iter 2: f = 7610.58818597\n",
      "Iter 3: f = 7608.43050078\n",
      "Iter 4: f = 7606.45052855\n",
      "Iter 5: f = 7605.64222421\n",
      "Iter 6: f = 7604.94838118\n",
      "Iter 7: f = 7604.28957920\n",
      "Iter 8: f = 7603.00975498\n",
      "Iter 9: f = 7602.62946946\n",
      "Iter 10: f = 7602.01798039\n",
      "Iter 11: f = 7601.83238290\n",
      "Iter 12: f = 7601.60755278\n",
      "Iter 13: f = 7601.41764401\n",
      "Iter 14: f = 7601.42867558\n",
      "Iter 15: f = 7601.34490997\n",
      "Iter 16: f = 7601.31253279\n",
      "Iter 17: f = 7601.27646058\n",
      "Iter 18: f = 7601.22749530\n",
      "Iter 19: f = 7601.16392526\n",
      "Iter 20: f = 7601.09878022\n",
      "Iter 21: f = 7601.05010908\n",
      "Iter 22: f = 7601.01624752\n",
      "Iter 23: f = 7600.98774263\n",
      "Iter 24: f = 7600.96547785\n",
      "Iter 25: f = 7600.94773120\n",
      "Iter 26: f = 7600.93676761\n",
      "Iter 27: f = 7600.91800094\n",
      "Iter 28: f = 7600.90253427\n",
      "Iter 29: f = 7600.88348098\n",
      "Iter 30: f = 7600.87115811\n",
      "Iter 31: f = 7600.86138119\n",
      "Iter 32: f = 7600.85562118\n",
      "Iter 33: f = 7600.85160320\n",
      "Iter 34: f = 7600.84897004\n",
      "Iter 35: f = 7600.84652233\n",
      "Iter 36: f = 7600.84449839\n",
      "Iter 37: f = 7600.84276511\n",
      "Iter 38: f = 7600.84178712\n",
      "Iter 39: f = 7600.84060555\n",
      "Iter 40: f = 7600.84056289\n",
      "Iter 41: f = 7600.83987941\n",
      "Iter 42: f = 7600.83912574\n",
      "Iter 43: f = 7600.83869377\n",
      "Iter 44: f = 7600.83828174\n",
      "Iter 45: f = 7600.83809184\n",
      "Iter 46: f = 7600.83789957\n",
      "Iter 47: f = 7600.83781719\n",
      "Iter 48: f = 7600.83772752\n",
      "Iter 49: f = 7600.83768355\n",
      "Iter 50: f = 7600.83757739\n",
      "Iter 51: f = 7600.83754721\n",
      "Iter 52: f = 7600.83750512\n",
      "Iter 53: f = 7600.83745694\n",
      "Iter 54: f = 7600.83746934\n",
      "Iter 55: f = 7600.83743285\n",
      "Iter 56: f = 7600.83741121\n",
      "Iter 57: f = 7600.83740005\n",
      "done. Elapsed 2.15878secs\n",
      "Iter 58: f = 7600.83740005\n",
      "objective value:  7600.837400048592\n",
      "\n",
      " re-optimzing with alpha =  5\n",
      "Compiling objective ...\n",
      "Iter 0: f = 7768.77385913\n",
      "Compiling grad ...\n",
      "Compile time: 17.5395secs\n",
      "\n",
      "Running L-BFGS-B ... \n",
      "Iter 0: f = 7768.77385913\n",
      "Iter 1: f = 7752.85757062\n",
      "Iter 2: f = 7733.98390624\n",
      "Iter 3: f = 7726.81663864\n",
      "Iter 4: f = 7720.95840170\n",
      "Iter 5: f = 7716.72375083\n",
      "Iter 6: f = 7715.78459166\n",
      "Iter 7: f = 7713.18515594\n",
      "Iter 8: f = 7711.10994680\n",
      "Iter 9: f = 7708.49179511\n",
      "Iter 10: f = 7705.54145292\n",
      "Iter 11: f = 7705.89831817\n",
      "Iter 12: f = 7704.27500734\n",
      "Iter 13: f = 7703.72161455\n",
      "Iter 14: f = 7703.31350823\n",
      "Iter 15: f = 7703.00615831\n",
      "Iter 16: f = 7702.96416524\n",
      "Iter 17: f = 7702.67194766\n",
      "Iter 18: f = 7702.61628359\n",
      "Iter 19: f = 7702.49086853\n",
      "Iter 20: f = 7702.31427250\n",
      "Iter 21: f = 7702.36884255\n",
      "Iter 22: f = 7702.20482897\n",
      "Iter 23: f = 7702.03488551\n",
      "Iter 24: f = 7701.97026963\n",
      "Iter 25: f = 7701.93791038\n",
      "Iter 26: f = 7701.91948310\n",
      "Iter 27: f = 7701.90272851\n",
      "Iter 28: f = 7701.88838020\n",
      "Iter 29: f = 7701.88181221\n",
      "Iter 30: f = 7701.87476883\n",
      "Iter 31: f = 7701.86754605\n",
      "Iter 32: f = 7701.86213282\n",
      "Iter 33: f = 7701.85970383\n",
      "Iter 34: f = 7701.85571374\n",
      "Iter 35: f = 7701.85444455\n",
      "Iter 36: f = 7701.85279777\n",
      "Iter 37: f = 7701.85179069\n",
      "Iter 38: f = 7701.85113846\n",
      "Iter 39: f = 7701.85046550\n",
      "Iter 40: f = 7701.85001565\n",
      "Iter 41: f = 7701.84978367\n",
      "Iter 42: f = 7701.84953295\n",
      "Iter 43: f = 7701.84926863\n",
      "Iter 44: f = 7701.84901755\n",
      "Iter 45: f = 7701.84886774\n",
      "Iter 46: f = 7701.84870699\n",
      "Iter 47: f = 7701.84865366\n",
      "Iter 48: f = 7701.84858668\n",
      "Iter 49: f = 7701.84855535\n",
      "Iter 50: f = 7701.84853262\n",
      "Iter 51: f = 7701.84849950\n",
      "Iter 52: f = 7701.84848772\n",
      "done. Elapsed 1.97465secs\n",
      "Iter 53: f = 7701.84848772\n",
      "objective value:  7701.848487718982\n",
      "\n",
      " re-optimzing with alpha =  6\n",
      "Compiling objective ...\n",
      "Iter 0: f = 7916.94822058\n",
      "Compiling grad ...\n",
      "Compile time: 17.7102secs\n",
      "\n",
      "Running L-BFGS-B ... \n",
      "Iter 0: f = 7916.94822058\n",
      "Iter 1: f = 7891.73796131\n",
      "Iter 2: f = 7849.06453042\n",
      "Iter 3: f = 7832.89861383\n",
      "Iter 4: f = 7823.54695455\n",
      "Iter 5: f = 7813.00067371\n",
      "Iter 6: f = 7815.38795572\n",
      "Iter 7: f = 7810.14587413\n",
      "Iter 8: f = 7807.08693768\n",
      "Iter 9: f = 7801.71958565\n",
      "Iter 10: f = 7796.67433073\n",
      "Iter 11: f = 7792.22031157\n",
      "Iter 12: f = 7789.84903622\n",
      "Iter 13: f = 7788.90066481\n",
      "Iter 14: f = 7788.20740315\n",
      "Iter 15: f = 7787.57345692\n",
      "Iter 16: f = 7787.27640753\n",
      "Iter 17: f = 7787.13206981\n",
      "Iter 18: f = 7786.97955932\n",
      "Iter 19: f = 7786.78707280\n",
      "Iter 20: f = 7786.61051540\n",
      "Iter 21: f = 7786.38530974\n",
      "Iter 22: f = 7786.26983435\n",
      "Iter 23: f = 7786.18581523\n",
      "Iter 24: f = 7786.15911150\n",
      "Iter 25: f = 7786.11740685\n",
      "Iter 26: f = 7786.10313924\n",
      "Iter 27: f = 7786.09118100\n",
      "Iter 28: f = 7786.07916488\n",
      "Iter 29: f = 7786.06972376\n",
      "Iter 30: f = 7786.06525142\n",
      "Iter 31: f = 7786.05711493\n",
      "Iter 32: f = 7786.05446778\n",
      "Iter 33: f = 7786.04865614\n",
      "Iter 34: f = 7786.04610140\n",
      "Iter 35: f = 7786.04432589\n",
      "Iter 36: f = 7786.04220526\n",
      "Iter 37: f = 7786.04338759\n",
      "Iter 38: f = 7786.04168124\n",
      "Iter 39: f = 7786.04140716\n",
      "Iter 40: f = 7786.04121340\n",
      "Iter 41: f = 7786.04098042\n",
      "Iter 42: f = 7786.04094867\n",
      "Iter 43: f = 7786.04071900\n",
      "Iter 44: f = 7786.04064829\n",
      "Iter 45: f = 7786.04053481\n",
      "Iter 46: f = 7786.04040952\n",
      "Iter 47: f = 7786.04056864\n",
      "Iter 48: f = 7786.04036531\n",
      "Iter 49: f = 7786.04030693\n",
      "Iter 50: f = 7786.04028314\n",
      "Iter 51: f = 7786.04026285\n",
      "Iter 52: f = 7786.04025477\n",
      "done. Elapsed 1.97607secs\n",
      "Iter 53: f = 7786.04025477\n",
      "objective value:  7786.040254765879\n",
      "\n",
      " re-optimzing with alpha =  7\n",
      "Compiling objective ...\n",
      "Iter 0: f = 8065.12258203\n",
      "Compiling grad ...\n",
      "Compile time: 17.5607secs\n",
      "\n",
      "Running L-BFGS-B ... \n",
      "Iter 0: f = 8065.12258203\n",
      "Iter 1: f = 8030.61827623\n",
      "Iter 2: f = 7960.66474697\n",
      "Iter 3: f = 7930.29742017\n",
      "Iter 4: f = 7918.08933581\n",
      "Iter 5: f = 7897.48706939\n",
      "Iter 6: f = 7907.18574798\n",
      "Iter 7: f = 7892.62268714\n",
      "Iter 8: f = 7889.26865028\n",
      "Iter 9: f = 7881.54243220\n",
      "Iter 10: f = 7874.55665945\n",
      "Iter 11: f = 7867.78893562\n",
      "Iter 12: f = 7864.19482217\n",
      "Iter 13: f = 7862.74347565\n",
      "Iter 14: f = 7861.68019631\n",
      "Iter 15: f = 7860.84421489\n",
      "Iter 16: f = 7860.28643385\n",
      "Iter 17: f = 7860.10237778\n",
      "Iter 18: f = 7859.85881863\n",
      "Iter 19: f = 7859.61939528\n",
      "Iter 20: f = 7859.33721298\n",
      "Iter 21: f = 7859.08243376\n",
      "Iter 22: f = 7858.85535369\n",
      "Iter 23: f = 7858.74193794\n",
      "Iter 24: f = 7858.66435256\n",
      "Iter 25: f = 7858.62169061\n",
      "Iter 26: f = 7858.60066263\n",
      "Iter 27: f = 7858.58273847\n",
      "Iter 28: f = 7858.57122383\n",
      "Iter 29: f = 7858.56323713\n",
      "Iter 30: f = 7858.55535459\n",
      "Iter 31: f = 7858.54611277\n",
      "Iter 32: f = 7858.53854794\n",
      "Iter 33: f = 7858.53166975\n",
      "Iter 34: f = 7858.52791139\n",
      "Iter 35: f = 7858.52530508\n",
      "Iter 36: f = 7858.52370207\n",
      "Iter 37: f = 7858.52283463\n",
      "Iter 38: f = 7858.52215337\n",
      "Iter 39: f = 7858.52180944\n",
      "Iter 40: f = 7858.52151756\n",
      "Iter 41: f = 7858.52106723\n",
      "Iter 42: f = 7858.52083730\n",
      "Iter 43: f = 7858.52037187\n",
      "Iter 44: f = 7858.52013738\n",
      "Iter 45: f = 7858.51987270\n",
      "Iter 46: f = 7858.51965700\n",
      "Iter 47: f = 7858.51941991\n",
      "Iter 48: f = 7858.51934406\n",
      "Iter 49: f = 7858.51925218\n",
      "Iter 50: f = 7858.51921605\n",
      "Iter 51: f = 7858.51913536\n",
      "Iter 52: f = 7858.51909174\n",
      "Iter 53: f = 7858.51904775\n",
      "Iter 54: f = 7858.51897235\n",
      "Iter 55: f = 7858.51909687\n",
      "Iter 56: f = 7858.51894097\n",
      "Iter 57: f = 7858.51888816\n",
      "Iter 58: f = 7858.51886126\n",
      "Iter 59: f = 7858.51883836\n",
      "Iter 60: f = 7858.51882278\n",
      "done. Elapsed 2.2681secs\n",
      "Iter 61: f = 7858.51882278\n",
      "objective value:  7858.518822775032\n"
     ]
    }
   ],
   "source": [
    "vb_pert_list = []\n",
    "for alpha in alpha_list: \n",
    "    print('\\n re-optimzing with alpha = ', alpha)\n",
    "    \n",
    "    vb_pert_list.append(refit_with_alpha(alpha, new_init_dict))\n"
   ]
  },
  {
   "cell_type": "markdown",
   "metadata": {},
   "source": [
    "# Check free parameters"
   ]
  },
  {
   "cell_type": "code",
   "execution_count": 44,
   "metadata": {},
   "outputs": [],
   "source": [
    "lr_list = []\n",
    "\n",
    "for alpha in alpha_list: \n",
    "    \n",
    "    # set alpha \n",
    "    new_alpha = np.array([alpha])\n",
    "    prior_params_pert_dict = deepcopy(prior_params_dict)\n",
    "    prior_params_pert_dict['dp_prior_alpha'] = new_alpha\n",
    "    \n",
    "    # get linear response\n",
    "    lr_list.append(vb_sens.predict_opt_par_from_hyper_par(\n",
    "        prior_params_paragami['dp_prior_alpha'].flatten(prior_params_pert_dict['dp_prior_alpha'], \n",
    "                                                        free = use_free_alpha)))\n"
   ]
  },
  {
   "cell_type": "code",
   "execution_count": 45,
   "metadata": {},
   "outputs": [
    {
     "data": {
      "image/png": "[encoded data removed]",
      "text/plain": [
       "<Figure size 432x288 with 1 Axes>"
      ]
     },
     "metadata": {
      "needs_background": "light"
     },
     "output_type": "display_data"
    },
    {
     "data": {
      "image/png": "[encoded data removed]",
      "text/plain": [
       "<Figure size 432x288 with 1 Axes>"
      ]
     },
     "metadata": {
      "needs_background": "light"
     },
     "output_type": "display_data"
    },
    {
     "data": {
      "image/png": "[encoded data removed]",
      "text/plain": [
       "<Figure size 432x288 with 1 Axes>"
      ]
     },
     "metadata": {
      "needs_background": "light"
     },
     "output_type": "display_data"
    },
    {
     "data": {
      "image/png": "[encoded data removed]",
      "text/plain": [
       "<Figure size 432x288 with 1 Axes>"
      ]
     },
     "metadata": {
      "needs_background": "light"
     },
     "output_type": "display_data"
    },
    {
     "data": {
      "image/png": "[encoded data removed]",
      "text/plain": [
       "<Figure size 432x288 with 1 Axes>"
      ]
     },
     "metadata": {
      "needs_background": "light"
     },
     "output_type": "display_data"
    },
    {
     "data": {
      "image/png": "[encoded data removed]",
      "text/plain": [
       "<Figure size 432x288 with 1 Axes>"
      ]
     },
     "metadata": {
      "needs_background": "light"
     },
     "output_type": "display_data"
    },
    {
     "data": {
      "image/png": "[encoded data removed]",
      "text/plain": [
       "<Figure size 432x288 with 1 Axes>"
      ]
     },
     "metadata": {
      "needs_background": "light"
     },
     "output_type": "display_data"
    }
   ],
   "source": [
    "for i in range(len(alpha_list)): \n",
    "    plt.figure()\n",
    "    print_diff_plot(lr_list[i], vb_pert_list[i], vb_opt)\n",
    "    \n",
    "    plt.title('alpha = {}'.format(alpha_list[i]))\n"
   ]
  },
  {
   "cell_type": "markdown",
   "metadata": {},
   "source": [
    "# Number of clusters"
   ]
  },
  {
   "cell_type": "code",
   "execution_count": 46,
   "metadata": {},
   "outputs": [],
   "source": [
    "import numpy as onp"
   ]
  },
  {
   "cell_type": "code",
   "execution_count": 47,
   "metadata": {},
   "outputs": [],
   "source": [
    "lr_e_num_clusters_vec = onp.zeros(len(alpha_list))\n",
    "refit_e_num_clusters_vec = onp.zeros(len(alpha_list))\n",
    "\n",
    "for i in range(len(alpha_list)): \n",
    "    \n",
    "    # get dictionaries\n",
    "    pert_dict = vb_params_paragami.fold(vb_pert_list[i], free = True)\n",
    "    lr_dict = vb_params_paragami.fold(lr_list[i], free = True)\n",
    "    \n",
    "    # get posterior expectations\n",
    "    pert_e_ind_admix, pert_e_pop_freq = plotting_utils.get_vb_expectations(pert_dict)\n",
    "    lr_e_ind_admix, lr_e_pop_freq = plotting_utils.get_vb_expectations(lr_dict)\n",
    "    \n",
    "    # get number of clusters\n",
    "    refit_e_num_clusters_vec[i] = cluster_quantities_lib.get_e_num_clusters_from_ez(pert_e_ind_admix)\n",
    "    lr_e_num_clusters_vec[i] = cluster_quantities_lib.get_e_num_clusters_from_ez(lr_e_ind_admix)\n"
   ]
  },
  {
   "cell_type": "code",
   "execution_count": 48,
   "metadata": {},
   "outputs": [
    {
     "data": {
      "text/plain": [
       "<matplotlib.lines.Line2D at 0x7f78fa1680a0>"
      ]
     },
     "execution_count": 48,
     "metadata": {},
     "output_type": "execute_result"
    },
    {
     "data": {
      "image/png": "[encoded data removed]",
      "text/plain": [
       "<Figure size 432x288 with 1 Axes>"
      ]
     },
     "metadata": {
      "needs_background": "light"
     },
     "output_type": "display_data"
    }
   ],
   "source": [
    "plt.plot(alpha_list, lr_e_num_clusters_vec, '+--')\n",
    "plt.plot(alpha_list, refit_e_num_clusters_vec, '+-')\n",
    "\n",
    "plt.xlabel('alpha')\n",
    "plt.ylabel('num posterior clusters')\n",
    "plt.legend(('lr', 'refit'))\n",
    "\n",
    "plt.axvline(prior_params_dict['dp_prior_alpha'], color = 'red', linestyle = 'dashed')"
   ]
  },
  {
   "cell_type": "code",
   "execution_count": null,
   "metadata": {},
   "outputs": [],
   "source": []
  },
  {
   "cell_type": "code",
   "execution_count": null,
   "metadata": {},
   "outputs": [],
   "source": []
  },
  {
   "cell_type": "code",
   "execution_count": null,
   "metadata": {},
   "outputs": [],
   "source": []
  }
 ],
 "metadata": {
  "kernelspec": {
   "display_name": "bnp_sensitivity_jax",
   "language": "python",
   "name": "bnp_sensitivity_jax"
  },
  "language_info": {
   "codemirror_mode": {
    "name": "ipython",
    "version": 3
   },
   "file_extension": ".py",
   "mimetype": "text/x-python",
   "name": "python",
   "nbconvert_exporter": "python",
   "pygments_lexer": "ipython3",
   "version": "3.8.0"
  }
 },
 "nbformat": 4,
 "nbformat_minor": 4
}
