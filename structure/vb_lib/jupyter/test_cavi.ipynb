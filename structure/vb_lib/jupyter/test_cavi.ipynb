{
 "cells": [
  {
   "cell_type": "code",
   "execution_count": 1,
   "metadata": {},
   "outputs": [
    {
     "name": "stderr",
     "output_type": "stream",
     "text": [
      "/accounts/grad/runjing_liu/.conda/envs/bnp_sensitivity_jax/lib/python3.8/site-packages/jax/lib/xla_bridge.py:130: UserWarning: No GPU/TPU found, falling back to CPU.\n",
      "  warnings.warn('No GPU/TPU found, falling back to CPU.')\n"
     ]
    }
   ],
   "source": [
    "import jax\n",
    "\n",
    "import jax.numpy as np\n",
    "import jax.scipy as sp\n",
    "\n",
    "from numpy.polynomial.hermite import hermgauss\n",
    "import scipy as osp\n",
    "\n",
    "from vb_lib import structure_model_lib, data_utils, cavi_lib\n",
    "from vb_lib.preconditioner_lib import get_mfvb_cov_matmul\n",
    "from bnpmodeling_runjingdev.sensitivity_lib import HyperparameterSensitivityLinearApproximation, get_jac_hvp_fun\n",
    "\n",
    "import paragami\n",
    "\n",
    "from copy import deepcopy\n",
    "\n",
    "import time\n",
    "\n",
    "import matplotlib.pyplot as plt\n",
    "%matplotlib inline  \n",
    "\n",
    "from bnpmodeling_runjingdev import cluster_quantities_lib, modeling_lib\n"
   ]
  },
  {
   "cell_type": "code",
   "execution_count": 2,
   "metadata": {},
   "outputs": [],
   "source": [
    "import numpy as onp\n",
    "onp.random.seed(53453)"
   ]
  },
  {
   "cell_type": "markdown",
   "metadata": {},
   "source": [
    "# Load data"
   ]
  },
  {
   "cell_type": "code",
   "execution_count": 3,
   "metadata": {},
   "outputs": [],
   "source": [
    "use_simulated = True\n",
    "\n",
    "if use_simulated: \n",
    "    data = np.load('../simulated_data/simulated_structure_data_nobs20_nloci50_npop4.npz')\n",
    "    g_obs = np.array(data['g_obs'])\n",
    "else: \n",
    "    data_dir = '../../../../fastStructure/hgdp_data/huang2011_plink_files/'\n",
    "    filenamebase = 'phased_HGDP+India+Africa_2810SNPs-regions1to36'\n",
    "    filename = data_dir + filenamebase + '.npz'\n",
    "    data = np.load(filename)\n",
    "\n",
    "    g_obs = np.array(data['g_obs'])\n",
    "    g_obs_raw = np.array(data['g_obs_raw'])\n",
    "\n",
    "    # just checking ... \n",
    "    which_missing = (g_obs_raw == 3)\n",
    "    (g_obs.argmax(-1) == g_obs_raw)[~which_missing].all()\n",
    "    (g_obs[which_missing] == 0).all()"
   ]
  },
  {
   "cell_type": "code",
   "execution_count": 4,
   "metadata": {},
   "outputs": [],
   "source": [
    "n_obs = g_obs.shape[0]\n",
    "n_loci = g_obs.shape[1]"
   ]
  },
  {
   "cell_type": "code",
   "execution_count": 5,
   "metadata": {},
   "outputs": [
    {
     "name": "stdout",
     "output_type": "stream",
     "text": [
      "20\n",
      "50\n"
     ]
    }
   ],
   "source": [
    "print(n_obs)\n",
    "print(n_loci)"
   ]
  },
  {
   "cell_type": "markdown",
   "metadata": {},
   "source": [
    "# Get prior"
   ]
  },
  {
   "cell_type": "code",
   "execution_count": 6,
   "metadata": {},
   "outputs": [
    {
     "name": "stdout",
     "output_type": "stream",
     "text": [
      "OrderedDict([('dp_prior_alpha', DeviceArray([2.59776136], dtype=float64)), ('allele_prior_alpha', DeviceArray([1.15564526], dtype=float64)), ('allele_prior_beta', DeviceArray([1.0515046], dtype=float64))])\n"
     ]
    }
   ],
   "source": [
    "_, prior_params_paragami = \\\n",
    "    structure_model_lib.get_default_prior_params()\n",
    "\n",
    "prior_params_dict = prior_params_paragami.random(key=jax.random.PRNGKey(41))\n",
    "prior_params_free = prior_params_paragami.flatten(prior_params_dict, free = True)\n",
    "\n",
    "print(prior_params_dict)"
   ]
  },
  {
   "cell_type": "markdown",
   "metadata": {},
   "source": [
    "# Get VB params "
   ]
  },
  {
   "cell_type": "code",
   "execution_count": 7,
   "metadata": {},
   "outputs": [],
   "source": [
    "k_approx = 15"
   ]
  },
  {
   "cell_type": "code",
   "execution_count": 8,
   "metadata": {},
   "outputs": [],
   "source": [
    "gh_deg = 8\n",
    "gh_loc, gh_weights = hermgauss(8)"
   ]
  },
  {
   "cell_type": "code",
   "execution_count": 9,
   "metadata": {
    "scrolled": true
   },
   "outputs": [
    {
     "name": "stdout",
     "output_type": "stream",
     "text": [
      "OrderedDict:\n",
      "\t[pop_freq_beta_params] = NumericArrayPattern (50, 15, 2) (lb=0.0, ub=inf)\n",
      "\t[ind_admix_params] = OrderedDict:\n",
      "\t[stick_beta] = NumericArrayPattern (20, 14, 2) (lb=0.0, ub=inf)\n"
     ]
    }
   ],
   "source": [
    "use_logitnormal_sticks = False\n",
    "\n",
    "_, vb_params_paragami = \\\n",
    "    structure_model_lib.get_vb_params_paragami_object(n_obs, n_loci, k_approx,\n",
    "                                    use_logitnormal_sticks = use_logitnormal_sticks)\n",
    "    \n",
    "print(vb_params_paragami)"
   ]
  },
  {
   "cell_type": "code",
   "execution_count": 10,
   "metadata": {},
   "outputs": [],
   "source": [
    "vb_params_dict = vb_params_paragami.random(key=jax.random.PRNGKey(41))"
   ]
  },
  {
   "cell_type": "markdown",
   "metadata": {},
   "source": [
    "# Get moments from vb parameters"
   ]
  },
  {
   "cell_type": "code",
   "execution_count": 11,
   "metadata": {},
   "outputs": [],
   "source": [
    "dp_prior_alpha = prior_params_dict['dp_prior_alpha']\n",
    "allele_prior_alpha = prior_params_dict['allele_prior_alpha']\n",
    "allele_prior_beta = prior_params_dict['allele_prior_beta']\n",
    "\n",
    "# get initial moments from vb_params\n",
    "e_log_sticks, e_log_1m_sticks, \\\n",
    "    e_log_pop_freq, e_log_1m_pop_freq = \\\n",
    "        structure_model_lib.get_moments_from_vb_params_dict(\n",
    "            vb_params_dict, gh_loc, gh_weights)\n",
    "\n",
    "e_log_cluster_probs = \\\n",
    "        modeling_lib.get_e_log_cluster_probabilities_from_e_log_stick(\n",
    "            e_log_sticks, e_log_1m_sticks)"
   ]
  },
  {
   "cell_type": "markdown",
   "metadata": {},
   "source": [
    "# Population beta update"
   ]
  },
  {
   "cell_type": "code",
   "execution_count": 12,
   "metadata": {},
   "outputs": [],
   "source": [
    "update_pop_beta = jax.jit(cavi_lib.update_pop_beta)"
   ]
  },
  {
   "cell_type": "code",
   "execution_count": 13,
   "metadata": {},
   "outputs": [],
   "source": [
    "beta_param_update = update_pop_beta(g_obs, e_log_pop_freq, e_log_1m_pop_freq, \n",
    "                                        e_log_cluster_probs, prior_params_dict)"
   ]
  },
  {
   "cell_type": "markdown",
   "metadata": {},
   "source": [
    "### check against autograd"
   ]
  },
  {
   "cell_type": "code",
   "execution_count": 14,
   "metadata": {},
   "outputs": [],
   "source": [
    "get_pop_beta_update1_ag = jax.jit(cavi_lib.get_pop_beta_update1_ag)\n",
    "get_pop_beta_update2_ag = jax.jit(cavi_lib.get_pop_beta_update2_ag)"
   ]
  },
  {
   "cell_type": "code",
   "execution_count": 15,
   "metadata": {},
   "outputs": [],
   "source": [
    "beta_update1 = get_pop_beta_update1_ag(g_obs,\n",
    "                                    e_log_pop_freq, e_log_1m_pop_freq,\n",
    "                                    e_log_sticks, e_log_1m_sticks,\n",
    "                                    dp_prior_alpha, allele_prior_alpha,\n",
    "                                    allele_prior_beta).block_until_ready()"
   ]
  },
  {
   "cell_type": "code",
   "execution_count": 16,
   "metadata": {},
   "outputs": [],
   "source": [
    "beta_update2 = get_pop_beta_update2_ag(g_obs,\n",
    "                                    e_log_pop_freq, e_log_1m_pop_freq,\n",
    "                                    e_log_sticks, e_log_1m_sticks,\n",
    "                                    dp_prior_alpha, allele_prior_alpha,\n",
    "                                    allele_prior_beta).block_until_ready()"
   ]
  },
  {
   "cell_type": "code",
   "execution_count": 17,
   "metadata": {
    "scrolled": true
   },
   "outputs": [
    {
     "data": {
      "text/plain": [
       "DeviceArray(7.10542736e-15, dtype=float64)"
      ]
     },
     "execution_count": 17,
     "metadata": {},
     "output_type": "execute_result"
    }
   ],
   "source": [
    "np.abs(beta_param_update[0][:, :, 0] - 1 - beta_update1).max()"
   ]
  },
  {
   "cell_type": "code",
   "execution_count": 18,
   "metadata": {},
   "outputs": [
    {
     "data": {
      "text/plain": [
       "DeviceArray(7.10542736e-15, dtype=float64)"
      ]
     },
     "execution_count": 18,
     "metadata": {},
     "output_type": "execute_result"
    }
   ],
   "source": [
    "np.abs(beta_param_update[0][:, :, 1] - 1 - beta_update2).max()"
   ]
  },
  {
   "cell_type": "markdown",
   "metadata": {},
   "source": [
    "### Timing\n",
    "\n",
    "It should be faster than the autograd updates ... otherwise why not just use autograd updates"
   ]
  },
  {
   "cell_type": "code",
   "execution_count": 19,
   "metadata": {},
   "outputs": [
    {
     "name": "stdout",
     "output_type": "stream",
     "text": [
      "0.010199785232543945\n"
     ]
    }
   ],
   "source": [
    "t0 = time.time() \n",
    "\n",
    "_ = get_pop_beta_update1_ag(g_obs,\n",
    "                            e_log_pop_freq, e_log_1m_pop_freq,\n",
    "                            e_log_sticks, e_log_1m_sticks,\n",
    "                            dp_prior_alpha, allele_prior_alpha,\n",
    "                            allele_prior_beta).block_until_ready()\n",
    "\n",
    "_ = get_pop_beta_update2_ag(g_obs,\n",
    "                            e_log_pop_freq, e_log_1m_pop_freq,\n",
    "                            e_log_sticks, e_log_1m_sticks,\n",
    "                            dp_prior_alpha, allele_prior_alpha,\n",
    "                            allele_prior_beta).block_until_ready()\n",
    "\n",
    "print(time.time() - t0)"
   ]
  },
  {
   "cell_type": "code",
   "execution_count": 20,
   "metadata": {},
   "outputs": [
    {
     "name": "stdout",
     "output_type": "stream",
     "text": [
      "0.0029418468475341797\n"
     ]
    }
   ],
   "source": [
    "t0 = time.time() \n",
    "\n",
    "out = update_pop_beta(g_obs, e_log_pop_freq, e_log_1m_pop_freq, \n",
    "                        e_log_cluster_probs, prior_params_dict)\n",
    "\n",
    "out[0].block_until_ready()\n",
    "print(time.time() - t0)"
   ]
  },
  {
   "cell_type": "code",
   "execution_count": null,
   "metadata": {},
   "outputs": [],
   "source": []
  },
  {
   "cell_type": "markdown",
   "metadata": {},
   "source": [
    "# Admixture stick updates"
   ]
  },
  {
   "cell_type": "code",
   "execution_count": 21,
   "metadata": {},
   "outputs": [],
   "source": [
    "update_ind_admix_beta = jax.jit(cavi_lib.update_ind_admix_beta)"
   ]
  },
  {
   "cell_type": "code",
   "execution_count": 22,
   "metadata": {},
   "outputs": [],
   "source": [
    "ind_admix_beta_update = update_ind_admix_beta(g_obs, e_log_pop_freq, e_log_1m_pop_freq, \n",
    "                            e_log_cluster_probs, prior_params_dict)"
   ]
  },
  {
   "cell_type": "code",
   "execution_count": 23,
   "metadata": {},
   "outputs": [],
   "source": [
    "get_stick_update1_ag = jax.jit(cavi_lib.get_stick_update1_ag)\n",
    "get_stick_update2_ag = jax.jit(cavi_lib.get_stick_update2_ag)"
   ]
  },
  {
   "cell_type": "code",
   "execution_count": 24,
   "metadata": {},
   "outputs": [],
   "source": [
    "stick_update1 = get_stick_update1_ag(g_obs,\n",
    "                        e_log_pop_freq, e_log_1m_pop_freq,\n",
    "                        e_log_sticks, e_log_1m_sticks,\n",
    "                        dp_prior_alpha, allele_prior_alpha,\n",
    "                        allele_prior_beta)\n",
    "\n",
    "stick_update2 = get_stick_update2_ag(g_obs,\n",
    "                        e_log_pop_freq, e_log_1m_pop_freq,\n",
    "                        e_log_sticks, e_log_1m_sticks,\n",
    "                        dp_prior_alpha, allele_prior_alpha,\n",
    "                        allele_prior_beta)"
   ]
  },
  {
   "cell_type": "code",
   "execution_count": 25,
   "metadata": {},
   "outputs": [
    {
     "data": {
      "text/plain": [
       "DeviceArray(5.68434189e-14, dtype=float64)"
      ]
     },
     "execution_count": 25,
     "metadata": {},
     "output_type": "execute_result"
    }
   ],
   "source": [
    "np.abs(stick_update1 + 1 -  ind_admix_beta_update[0][:, :, 0]).max()"
   ]
  },
  {
   "cell_type": "code",
   "execution_count": 26,
   "metadata": {},
   "outputs": [
    {
     "data": {
      "text/plain": [
       "DeviceArray(1.42108547e-14, dtype=float64)"
      ]
     },
     "execution_count": 26,
     "metadata": {},
     "output_type": "execute_result"
    }
   ],
   "source": [
    "np.abs(stick_update2 + 1 - ind_admix_beta_update[0][:, :, 1]).max()"
   ]
  },
  {
   "cell_type": "markdown",
   "metadata": {},
   "source": [
    "### Timing\n",
    "\n",
    "It should be faster than the autograd updates ... otherwise why not just use autograd updates"
   ]
  },
  {
   "cell_type": "code",
   "execution_count": 27,
   "metadata": {},
   "outputs": [
    {
     "name": "stdout",
     "output_type": "stream",
     "text": [
      "0.010127544403076172\n"
     ]
    }
   ],
   "source": [
    "t0 = time.time() \n",
    "\n",
    "_ = get_stick_update1_ag(g_obs,\n",
    "                        e_log_pop_freq, e_log_1m_pop_freq,\n",
    "                        e_log_sticks, e_log_1m_sticks,\n",
    "                        dp_prior_alpha, allele_prior_alpha,\n",
    "                        allele_prior_beta).block_until_ready()\n",
    "\n",
    "_ = get_stick_update2_ag(g_obs,\n",
    "                        e_log_pop_freq, e_log_1m_pop_freq,\n",
    "                        e_log_sticks, e_log_1m_sticks,\n",
    "                        dp_prior_alpha, allele_prior_alpha,\n",
    "                        allele_prior_beta).block_until_ready()\n",
    "print(time.time() - t0)"
   ]
  },
  {
   "cell_type": "code",
   "execution_count": 28,
   "metadata": {},
   "outputs": [
    {
     "name": "stdout",
     "output_type": "stream",
     "text": [
      "0.0032122135162353516\n"
     ]
    }
   ],
   "source": [
    "t0 = time.time() \n",
    "\n",
    "out = update_ind_admix_beta(g_obs, e_log_pop_freq, e_log_1m_pop_freq, \n",
    "                            e_log_cluster_probs, prior_params_dict)\n",
    "out[0].block_until_ready()\n",
    "\n",
    "print(time.time() - t0)"
   ]
  },
  {
   "cell_type": "code",
   "execution_count": null,
   "metadata": {},
   "outputs": [],
   "source": []
  },
  {
   "cell_type": "code",
   "execution_count": 29,
   "metadata": {},
   "outputs": [
    {
     "name": "stdout",
     "output_type": "stream",
     "text": [
      "CAVI compile time: 2.69sec\n",
      "\n",
      " running CAVI ...\n",
      "iteration [1]; kl:2036.442476; elapsed: 0.0343secs\n",
      "iteration [2]; kl:2022.359559; elapsed: 0.192secs\n",
      "iteration [3]; kl:2013.471353; elapsed: 0.039secs\n",
      "iteration [4]; kl:2006.331928; elapsed: 0.0228secs\n",
      "iteration [5]; kl:2000.120481; elapsed: 0.0195secs\n",
      "iteration [6]; kl:1994.438231; elapsed: 0.0183secs\n",
      "iteration [7]; kl:1989.037013; elapsed: 0.0183secs\n",
      "iteration [8]; kl:1983.768687; elapsed: 0.0196secs\n",
      "iteration [9]; kl:1978.57033; elapsed: 0.0183secs\n",
      "iteration [10]; kl:1973.449046; elapsed: 0.0191secs\n",
      "iteration [11]; kl:1968.459106; elapsed: 0.0187secs\n",
      "iteration [12]; kl:1963.673786; elapsed: 0.0196secs\n",
      "iteration [13]; kl:1959.159472; elapsed: 0.0197secs\n",
      "iteration [14]; kl:1954.959799; elapsed: 0.0194secs\n",
      "iteration [15]; kl:1951.092835; elapsed: 0.0187secs\n",
      "iteration [16]; kl:1947.557926; elapsed: 0.0192secs\n",
      "iteration [17]; kl:1944.345364; elapsed: 0.0197secs\n",
      "iteration [18]; kl:1941.443241; elapsed: 0.0187secs\n",
      "iteration [19]; kl:1938.839679; elapsed: 0.0197secs\n",
      "iteration [20]; kl:1936.521794; elapsed: 0.0194secs\n",
      "iteration [21]; kl:1934.473763; elapsed: 0.0189secs\n",
      "iteration [22]; kl:1932.675678; elapsed: 0.0178secs\n",
      "iteration [23]; kl:1931.10378; elapsed: 0.0224secs\n",
      "iteration [24]; kl:1929.731828; elapsed: 0.0198secs\n",
      "iteration [25]; kl:1928.532982; elapsed: 0.0224secs\n",
      "iteration [26]; kl:1927.481561; elapsed: 0.0194secs\n",
      "iteration [27]; kl:1926.554287; elapsed: 0.0192secs\n",
      "iteration [28]; kl:1925.730901; elapsed: 0.017secs\n",
      "iteration [29]; kl:1924.994288; elapsed: 0.0182secs\n",
      "iteration [30]; kl:1924.330291; elapsed: 0.017secs\n",
      "iteration [31]; kl:1923.727397; elapsed: 0.0173secs\n",
      "iteration [32]; kl:1923.176361; elapsed: 0.0173secs\n",
      "iteration [33]; kl:1922.669836; elapsed: 0.0185secs\n",
      "iteration [34]; kl:1922.202016; elapsed: 0.0185secs\n",
      "iteration [35]; kl:1921.768319; elapsed: 0.0192secs\n",
      "iteration [36]; kl:1921.3651; elapsed: 0.0173secs\n",
      "iteration [37]; kl:1920.989415; elapsed: 0.0185secs\n",
      "iteration [38]; kl:1920.638831; elapsed: 0.0173secs\n",
      "iteration [39]; kl:1920.311279; elapsed: 0.0186secs\n",
      "iteration [40]; kl:1920.004954; elapsed: 0.0165secs\n",
      "iteration [41]; kl:1919.71824; elapsed: 0.0192secs\n",
      "iteration [42]; kl:1919.449666; elapsed: 0.0191secs\n",
      "iteration [43]; kl:1919.197882; elapsed: 0.018secs\n",
      "iteration [44]; kl:1918.961639; elapsed: 0.0179secs\n",
      "iteration [45]; kl:1918.739784; elapsed: 0.0175secs\n",
      "iteration [46]; kl:1918.531255; elapsed: 0.0179secs\n",
      "iteration [47]; kl:1918.335074; elapsed: 0.0178secs\n",
      "iteration [48]; kl:1918.150346; elapsed: 0.0187secs\n",
      "iteration [49]; kl:1917.976257; elapsed: 0.0177secs\n",
      "iteration [50]; kl:1917.812062; elapsed: 0.0182secs\n",
      "iteration [51]; kl:1917.657085; elapsed: 0.018secs\n",
      "iteration [52]; kl:1917.510712; elapsed: 0.0179secs\n",
      "iteration [53]; kl:1917.372382; elapsed: 0.0185secs\n",
      "iteration [54]; kl:1917.241584; elapsed: 0.018secs\n",
      "iteration [55]; kl:1917.117849; elapsed: 0.0172secs\n",
      "iteration [56]; kl:1917.000745; elapsed: 0.0197secs\n",
      "iteration [57]; kl:1916.889874; elapsed: 0.0198secs\n",
      "iteration [58]; kl:1916.784866; elapsed: 0.0207secs\n",
      "iteration [59]; kl:1916.685378; elapsed: 0.0195secs\n",
      "iteration [60]; kl:1916.591086; elapsed: 0.0187secs\n",
      "iteration [61]; kl:1916.501689; elapsed: 0.0198secs\n",
      "iteration [62]; kl:1916.416901; elapsed: 0.0189secs\n",
      "iteration [63]; kl:1916.336454; elapsed: 0.0199secs\n",
      "iteration [64]; kl:1916.260093; elapsed: 0.0188secs\n",
      "iteration [65]; kl:1916.187579; elapsed: 0.0191secs\n",
      "iteration [66]; kl:1916.118683; elapsed: 0.0225secs\n",
      "iteration [67]; kl:1916.053189; elapsed: 0.0198secs\n",
      "iteration [68]; kl:1915.990894; elapsed: 0.0195secs\n",
      "iteration [69]; kl:1915.931605; elapsed: 0.0191secs\n",
      "iteration [70]; kl:1915.875138; elapsed: 0.0188secs\n",
      "iteration [71]; kl:1915.821322; elapsed: 0.0195secs\n",
      "iteration [72]; kl:1915.769995; elapsed: 0.018secs\n",
      "iteration [73]; kl:1915.721004; elapsed: 0.0225secs\n",
      "iteration [74]; kl:1915.674207; elapsed: 0.02secs\n",
      "iteration [75]; kl:1915.62947; elapsed: 0.018secs\n",
      "iteration [76]; kl:1915.586668; elapsed: 0.0196secs\n",
      "iteration [77]; kl:1915.545685; elapsed: 0.0188secs\n",
      "iteration [78]; kl:1915.506415; elapsed: 0.0222secs\n",
      "iteration [79]; kl:1915.468757; elapsed: 0.0186secs\n",
      "iteration [80]; kl:1915.432621; elapsed: 0.0189secs\n",
      "iteration [81]; kl:1915.397921; elapsed: 0.0183secs\n",
      "iteration [82]; kl:1915.364581; elapsed: 0.0183secs\n",
      "iteration [83]; kl:1915.332531; elapsed: 0.02secs\n",
      "iteration [84]; kl:1915.301705; elapsed: 0.019secs\n",
      "iteration [85]; kl:1915.272045; elapsed: 0.0201secs\n",
      "iteration [86]; kl:1915.243498; elapsed: 0.0224secs\n",
      "iteration [87]; kl:1915.216016; elapsed: 0.0192secs\n",
      "iteration [88]; kl:1915.189553; elapsed: 0.0192secs\n",
      "iteration [89]; kl:1915.164071; elapsed: 0.0201secs\n",
      "iteration [90]; kl:1915.139533; elapsed: 0.0198secs\n",
      "iteration [91]; kl:1915.115906; elapsed: 0.0196secs\n",
      "iteration [92]; kl:1915.093158; elapsed: 0.0203secs\n",
      "iteration [93]; kl:1915.071262; elapsed: 0.0192secs\n",
      "iteration [94]; kl:1915.050191; elapsed: 0.0225secs\n",
      "iteration [95]; kl:1915.029921; elapsed: 0.0197secs\n",
      "iteration [96]; kl:1915.010429; elapsed: 0.0188secs\n",
      "iteration [97]; kl:1914.991693; elapsed: 0.02secs\n",
      "iteration [98]; kl:1914.973691; elapsed: 0.0198secs\n",
      "iteration [99]; kl:1914.956403; elapsed: 0.0197secs\n",
      "iteration [100]; kl:1914.93981; elapsed: 0.0178secs\n",
      "iteration [101]; kl:1914.923892; elapsed: 0.0191secs\n",
      "iteration [102]; kl:1914.908629; elapsed: 0.0188secs\n",
      "iteration [103]; kl:1914.894004; elapsed: 0.02secs\n",
      "iteration [104]; kl:1914.879997; elapsed: 0.0198secs\n",
      "iteration [105]; kl:1914.86659; elapsed: 0.0177secs\n",
      "iteration [106]; kl:1914.853763; elapsed: 0.023secs\n",
      "iteration [107]; kl:1914.8415; elapsed: 0.0197secs\n",
      "iteration [108]; kl:1914.829781; elapsed: 0.0198secs\n",
      "iteration [109]; kl:1914.818588; elapsed: 0.0198secs\n",
      "iteration [110]; kl:1914.807903; elapsed: 0.0185secs\n",
      "iteration [111]; kl:1914.797708; elapsed: 0.0192secs\n",
      "iteration [112]; kl:1914.787985; elapsed: 0.018secs\n",
      "iteration [113]; kl:1914.778717; elapsed: 0.02secs\n",
      "iteration [114]; kl:1914.769886; elapsed: 0.0183secs\n",
      "iteration [115]; kl:1914.761475; elapsed: 0.0195secs\n",
      "iteration [116]; kl:1914.753468; elapsed: 0.0187secs\n",
      "iteration [117]; kl:1914.745848; elapsed: 0.0202secs\n",
      "iteration [118]; kl:1914.738598; elapsed: 0.0195secs\n",
      "iteration [119]; kl:1914.731704; elapsed: 0.0195secs\n",
      "iteration [120]; kl:1914.72515; elapsed: 0.0184secs\n",
      "iteration [121]; kl:1914.71892; elapsed: 0.0194secs\n",
      "iteration [122]; kl:1914.713001; elapsed: 0.0193secs\n",
      "iteration [123]; kl:1914.707379; elapsed: 0.0182secs\n",
      "iteration [124]; kl:1914.70204; elapsed: 0.0198secs\n",
      "iteration [125]; kl:1914.69697; elapsed: 0.0188secs\n",
      "iteration [126]; kl:1914.692158; elapsed: 0.018secs\n",
      "iteration [127]; kl:1914.687591; elapsed: 0.022secs\n",
      "iteration [128]; kl:1914.683257; elapsed: 0.0184secs\n",
      "iteration [129]; kl:1914.679146; elapsed: 0.0188secs\n",
      "iteration [130]; kl:1914.675246; elapsed: 0.0178secs\n",
      "iteration [131]; kl:1914.671547; elapsed: 0.0194secs\n",
      "iteration [132]; kl:1914.668039; elapsed: 0.0188secs\n",
      "iteration [133]; kl:1914.664713; elapsed: 0.0184secs\n",
      "iteration [134]; kl:1914.66156; elapsed: 0.0195secs\n",
      "iteration [135]; kl:1914.65857; elapsed: 0.0195secs\n",
      "iteration [136]; kl:1914.655737; elapsed: 0.0194secs\n",
      "iteration [137]; kl:1914.653051; elapsed: 0.0192secs\n",
      "iteration [138]; kl:1914.650505; elapsed: 0.0189secs\n",
      "iteration [139]; kl:1914.648092; elapsed: 0.0189secs\n",
      "iteration [140]; kl:1914.645806; elapsed: 0.0193secs\n",
      "iteration [141]; kl:1914.643639; elapsed: 0.0192secs\n",
      "iteration [142]; kl:1914.641586; elapsed: 0.0192secs\n",
      "iteration [143]; kl:1914.639641; elapsed: 0.0193secs\n",
      "iteration [144]; kl:1914.637798; elapsed: 0.0185secs\n",
      "iteration [145]; kl:1914.636052; elapsed: 0.0226secs\n",
      "iteration [146]; kl:1914.634398; elapsed: 0.0191secs\n",
      "iteration [147]; kl:1914.63283; elapsed: 0.0196secs\n",
      "iteration [148]; kl:1914.631345; elapsed: 0.0184secs\n",
      "iteration [149]; kl:1914.629938; elapsed: 0.0198secs\n",
      "iteration [150]; kl:1914.628606; elapsed: 0.0192secs\n",
      "iteration [151]; kl:1914.627343; elapsed: 0.0186secs\n",
      "iteration [152]; kl:1914.626147; elapsed: 0.0198secs\n",
      "iteration [153]; kl:1914.625013; elapsed: 0.0193secs\n",
      "iteration [154]; kl:1914.62394; elapsed: 0.0231secs\n",
      "iteration [155]; kl:1914.622922; elapsed: 0.0223secs\n",
      "iteration [156]; kl:1914.621959; elapsed: 0.0197secs\n",
      "iteration [157]; kl:1914.621046; elapsed: 0.0194secs\n",
      "iteration [158]; kl:1914.620181; elapsed: 0.0187secs\n",
      "iteration [159]; kl:1914.619361; elapsed: 0.0194secs\n",
      "iteration [160]; kl:1914.618585; elapsed: 0.0177secs\n",
      "iteration [161]; kl:1914.617849; elapsed: 0.0178secs\n",
      "iteration [162]; kl:1914.617152; elapsed: 0.0179secs\n",
      "iteration [163]; kl:1914.616492; elapsed: 0.0172secs\n",
      "iteration [164]; kl:1914.615866; elapsed: 0.0172secs\n",
      "iteration [165]; kl:1914.615273; elapsed: 0.0197secs\n",
      "iteration [166]; kl:1914.614711; elapsed: 0.0178secs\n",
      "iteration [167]; kl:1914.614179; elapsed: 0.0172secs\n"
     ]
    },
    {
     "name": "stdout",
     "output_type": "stream",
     "text": [
      "iteration [168]; kl:1914.613674; elapsed: 0.0173secs\n",
      "iteration [169]; kl:1914.613196; elapsed: 0.0174secs\n",
      "iteration [170]; kl:1914.612743; elapsed: 0.0173secs\n",
      "iteration [171]; kl:1914.612314; elapsed: 0.0168secs\n",
      "iteration [172]; kl:1914.611907; elapsed: 0.0174secs\n",
      "iteration [173]; kl:1914.611521; elapsed: 0.0196secs\n",
      "iteration [174]; kl:1914.611155; elapsed: 0.0193secs\n",
      "iteration [175]; kl:1914.610809; elapsed: 0.0188secs\n",
      "iteration [176]; kl:1914.61048; elapsed: 0.019secs\n",
      "iteration [177]; kl:1914.610169; elapsed: 0.0193secs\n",
      "iteration [178]; kl:1914.609874; elapsed: 0.0181secs\n",
      "iteration [179]; kl:1914.609594; elapsed: 0.0194secs\n",
      "iteration [180]; kl:1914.609329; elapsed: 0.0197secs\n",
      "iteration [181]; kl:1914.609078; elapsed: 0.0191secs\n",
      "iteration [182]; kl:1914.608839; elapsed: 0.0179secs\n",
      "iteration [183]; kl:1914.608613; elapsed: 0.019secs\n",
      "iteration [184]; kl:1914.608399; elapsed: 0.0191secs\n",
      "iteration [185]; kl:1914.608196; elapsed: 0.0181secs\n",
      "iteration [186]; kl:1914.608003; elapsed: 0.0193secs\n",
      "iteration [187]; kl:1914.60782; elapsed: 0.0188secs\n",
      "iteration [188]; kl:1914.607647; elapsed: 0.0197secs\n",
      "iteration [189]; kl:1914.607483; elapsed: 0.0196secs\n",
      "iteration [190]; kl:1914.607327; elapsed: 0.0194secs\n",
      "iteration [191]; kl:1914.60718; elapsed: 0.0194secs\n",
      "iteration [192]; kl:1914.607039; elapsed: 0.0193secs\n",
      "iteration [193]; kl:1914.606907; elapsed: 0.0184secs\n",
      "iteration [194]; kl:1914.60678; elapsed: 0.0191secs\n",
      "iteration [195]; kl:1914.606661; elapsed: 0.0185secs\n",
      "iteration [196]; kl:1914.606548; elapsed: 0.0182secs\n",
      "iteration [197]; kl:1914.60644; elapsed: 0.0188secs\n",
      "iteration [198]; kl:1914.606338; elapsed: 0.019secs\n",
      "iteration [199]; kl:1914.606241; elapsed: 0.0183secs\n",
      "iteration [200]; kl:1914.606149; elapsed: 0.0179secs\n",
      "iteration [201]; kl:1914.606062; elapsed: 0.0193secs\n",
      "iteration [202]; kl:1914.60598; elapsed: 0.0188secs\n",
      "iteration [203]; kl:1914.605901; elapsed: 0.0192secs\n",
      "iteration [204]; kl:1914.605827; elapsed: 0.0189secs\n",
      "iteration [205]; kl:1914.605756; elapsed: 0.0188secs\n",
      "iteration [206]; kl:1914.605689; elapsed: 0.0196secs\n",
      "iteration [207]; kl:1914.605626; elapsed: 0.0194secs\n",
      "iteration [208]; kl:1914.605565; elapsed: 0.0192secs\n",
      "iteration [209]; kl:1914.605508; elapsed: 0.0185secs\n",
      "iteration [210]; kl:1914.605454; elapsed: 0.0182secs\n",
      "iteration [211]; kl:1914.605402; elapsed: 0.0194secs\n",
      "iteration [212]; kl:1914.605353; elapsed: 0.0177secs\n",
      "CAVI done.\n",
      "Elapsed: 212 steps in 4.26 seconds\n"
     ]
    },
    {
     "data": {
      "text/plain": [
       "(OrderedDict([('pop_freq_beta_params',\n",
       "               DeviceArray([[[18.02754992,  2.48862109],\n",
       "                             [ 5.82430939, 17.22473896],\n",
       "                             [ 1.33488308,  1.20352748],\n",
       "                             ...,\n",
       "                             [ 1.15801348,  1.05351108],\n",
       "                             [ 1.15725565,  1.05286904],\n",
       "                             [ 1.16173061,  1.05665971]],\n",
       "               \n",
       "                            [[ 5.60392194, 15.8088414 ],\n",
       "                             [ 9.2665638 , 12.88052435],\n",
       "                             [ 1.3260009 ,  1.21260054],\n",
       "                             ...,\n",
       "                             [ 1.15794576,  1.05364128],\n",
       "                             [ 1.15720968,  1.05295753],\n",
       "                             [ 1.16155539,  1.05699554]],\n",
       "               \n",
       "                            [[ 8.65526164, 12.09400826],\n",
       "                             [ 5.21946547, 17.59198312],\n",
       "                             [ 1.32477334,  1.21398128],\n",
       "                             ...,\n",
       "                             [ 1.1579168 ,  1.05365678],\n",
       "                             [ 1.15718999,  1.05296805],\n",
       "                             [ 1.16148074,  1.05703564]],\n",
       "               \n",
       "                            ...,\n",
       "               \n",
       "                            [[ 6.01682581, 15.40742694],\n",
       "                             [15.83163047,  6.30196876],\n",
       "                             [ 1.33572014,  1.20363419],\n",
       "                             ...,\n",
       "                             [ 1.15803903,  1.05355861],\n",
       "                             [ 1.15727303,  1.05290137],\n",
       "                             [ 1.16179617,  1.05678194]],\n",
       "               \n",
       "                            [[ 3.51147552, 17.73419667],\n",
       "                             [ 5.37153127, 16.95625645],\n",
       "                             [ 1.32280972,  1.21182389],\n",
       "                             ...,\n",
       "                             [ 1.15785208,  1.05364025],\n",
       "                             [ 1.15714597,  1.0529568 ],\n",
       "                             [ 1.16131421,  1.0569933 ]],\n",
       "               \n",
       "                            [[14.96546578,  6.12905984],\n",
       "                             [ 6.89266834, 15.56083434],\n",
       "                             [ 1.33106131,  1.21263243],\n",
       "                             ...,\n",
       "                             [ 1.15800536,  1.0536335 ],\n",
       "                             [ 1.15725019,  1.05295224],\n",
       "                             [ 1.16170897,  1.05697523]]], dtype=float64)),\n",
       "              ('ind_admix_params',\n",
       "               OrderedDict([('stick_beta',\n",
       "                             DeviceArray([[[11.04338429, 92.55437707],\n",
       "                                           [88.43881142,  5.11556565],\n",
       "                                           [ 2.00189272,  4.11367293],\n",
       "                                           [ 1.54833837,  3.56533456],\n",
       "                                           [ 1.33102483,  3.23430973],\n",
       "                                           [ 1.20962448,  3.02468525],\n",
       "                                           [ 1.13637929,  2.88830596],\n",
       "                                           [ 1.09019218,  2.79811379],\n",
       "                                           [ 1.06026817,  2.73784562],\n",
       "                                           [ 1.04054392,  2.69730169],\n",
       "                                           [ 1.02739609,  2.66990561],\n",
       "                                           [ 1.01856671,  2.6513389 ],\n",
       "                                           [ 1.01260792,  2.63873098],\n",
       "                                           [ 1.00857302,  2.63015796]],\n",
       "                             \n",
       "                                          [[ 4.06830252, 99.52945885],\n",
       "                                           [95.68830639,  4.84115246],\n",
       "                                           [ 1.87148706,  3.9696654 ],\n",
       "                                           [ 1.49003597,  3.47962943],\n",
       "                                           [ 1.29948134,  3.18014809],\n",
       "                                           [ 1.19091866,  2.98922943],\n",
       "                                           [ 1.12469814,  2.86453129],\n",
       "                                           [ 1.08266542,  2.78186586],\n",
       "                                           [ 1.05532122,  2.72654465],\n",
       "                                           [ 1.03725048,  2.68929416],\n",
       "                                           [ 1.02518481,  2.66410935],\n",
       "                                           [ 1.01707361,  2.64703574],\n",
       "                                           [ 1.01159592,  2.63543982],\n",
       "                                           [ 1.00788534,  2.62755448]],\n",
       "                             \n",
       "                                          [[24.73808749, 78.85967387],\n",
       "                                           [74.85104956,  5.00862431],\n",
       "                                           [ 1.95398603,  4.05463828],\n",
       "                                           [ 1.52511822,  3.52952006],\n",
       "                                           [ 1.31805129,  3.21146877],\n",
       "                                           [ 1.20180965,  3.00965912],\n",
       "                                           [ 1.13145739,  2.87820173],\n",
       "                                           [ 1.08700481,  2.79119692],\n",
       "                                           [ 1.05816677,  2.73303015],\n",
       "                                           [ 1.03914212,  2.69388803],\n",
       "                                           [ 1.02645365,  2.66743438],\n",
       "                                           [ 1.01792979,  2.64950459],\n",
       "                                           [ 1.01217596,  2.63732863],\n",
       "                                           [ 1.00827936,  2.62904927]],\n",
       "                             \n",
       "                                          [[10.41016382, 93.18759754],\n",
       "                                           [89.07467382,  5.11292372],\n",
       "                                           [ 2.00013991,  4.11278381],\n",
       "                                           [ 1.54790722,  3.5648766 ],\n",
       "                                           [ 1.33084103,  3.23403556],\n",
       "                                           [ 1.20952568,  3.02450988],\n",
       "                                           [ 1.13632023,  2.88818965],\n",
       "                                           [ 1.09015491,  2.79803473],\n",
       "                                           [ 1.06024394,  2.73779079],\n",
       "                                           [ 1.04052789,  2.6972629 ],\n",
       "                                           [ 1.02738536,  2.66987753],\n",
       "                                           [ 1.01855948,  2.65131805],\n",
       "                                           [ 1.01260302,  2.63871503],\n",
       "                                           [ 1.00856969,  2.63014533]],\n",
       "                             \n",
       "                                          [[16.20105316, 87.3967082 ],\n",
       "                                           [83.66275905,  4.73394915],\n",
       "                                           [ 1.82491367,  3.90903548],\n",
       "                                           [ 1.46664901,  3.44238647],\n",
       "                                           [ 1.28615933,  3.15622714],\n",
       "                                           [ 1.18280092,  2.97342622],\n",
       "                                           [ 1.11954891,  2.85387731],\n",
       "                                           [ 1.07931586,  2.77456145],\n",
       "                                           [ 1.05310662,  2.72145483],\n",
       "                                           [ 1.03577055,  2.68568428],\n",
       "                                           [ 1.02418878,  2.6614955 ],\n",
       "                                           [ 1.01640005,  2.64509544],\n",
       "                                           [ 1.01113897,  2.63395648],\n",
       "                                           [ 1.00757467,  2.62638181]],\n",
       "                             \n",
       "                                          [[21.57808855, 82.01967281],\n",
       "                                           [78.45748322,  4.56218959],\n",
       "                                           [ 1.74983784,  3.81235174],\n",
       "                                           [ 1.42921998,  3.38313176],\n",
       "                                           [ 1.26492307,  3.11820869],\n",
       "                                           [ 1.16988525,  2.94832344],\n",
       "                                           [ 1.1113642 ,  2.83695924],\n",
       "                                           [ 1.07399467,  2.76296458],\n",
       "                                           [ 1.04958974,  2.71337484],\n",
       "                                           [ 1.033421  ,  2.67995384],\n",
       "                                           [ 1.02260783,  2.65734601],\n",
       "                                           [ 1.01533117,  2.64201485],\n",
       "                                           [ 1.01041396,  2.63160088],\n",
       "                                           [ 1.00708184,  2.62451905]],\n",
       "                             \n",
       "                                          [[19.22423407, 84.3735273 ],\n",
       "                                           [80.21586364,  5.15766366],\n",
       "                                           [ 2.02270949,  4.13495417],\n",
       "                                           [ 1.5571901 ,  3.57776407],\n",
       "                                           [ 1.33568016,  3.24208391],\n",
       "                                           [ 1.21233993,  3.02974398],\n",
       "                                           [ 1.1380581 ,  2.89168588],\n",
       "                                           [ 1.09126719,  2.80041869],\n",
       "                                           [ 1.06097193,  2.73944676],\n",
       "                                           [ 1.04101127,  2.69843549],\n",
       "                                           [ 1.02770937,  2.67072612],\n",
       "                                           [ 1.01877803,  2.65194809],\n",
       "                                           [ 1.01275106,  2.63919703],\n",
       "                                           [ 1.00867025,  2.63052678]],\n",
       "                             \n",
       "                                          [[27.24659438, 76.35116699],\n",
       "                                           [71.95546809,  5.3956989 ],\n",
       "                                           [ 2.13459742,  4.26110148],\n",
       "                                           [ 1.60796366,  3.65313782],\n",
       "                                           [ 1.36334184,  3.28979598],\n",
       "                                           [ 1.22879339,  3.06100258],\n",
       "                                           [ 1.1483473 ,  2.91265528],\n",
       "                                           [ 1.0979021 ,  2.81475318],\n",
       "                                           [ 1.06533488,  2.7494183 ],\n",
       "                                           [ 1.04391703,  2.70550127],\n",
       "                                           [ 1.02966102,  2.67584025],\n",
       "                                           [ 1.02009625,  2.65574399],\n",
       "                                           [ 1.01364482,  2.64209917],\n",
       "                                           [ 1.00927777,  2.6328214 ]],\n",
       "                             \n",
       "                                          [[24.4284607 , 79.16930066],\n",
       "                                           [75.38346528,  4.78583538],\n",
       "                                           [ 1.8507185 ,  3.93511688],\n",
       "                                           [ 1.47744572,  3.45767116],\n",
       "                                           [ 1.29185077,  3.16582038],\n",
       "                                           [ 1.18613606,  2.97968432],\n",
       "                                           [ 1.12161885,  2.85806547],\n",
       "                                           [ 1.08064501,  2.77742046],\n",
       "                                           [ 1.05397836,  2.72344211],\n",
       "                                           [ 1.0363501 ,  2.687092  ],\n",
       "                                           [ 1.02457753,  2.66251448],\n",
       "                                           [ 1.01666235,  2.64585212],\n",
       "                                           [ 1.01131665,  2.63453547],\n",
       "                                           [ 1.00769535,  2.62684012]],\n",
       "                             \n",
       "                                          [[41.86249929, 61.73526207],\n",
       "                                           [57.75639317,  4.9788689 ],\n",
       "                                           [ 1.94001586,  4.03885304],\n",
       "                                           [ 1.51873256,  3.52012049],\n",
       "                                           [ 1.31458781,  3.20553267],\n",
       "                                           [ 1.19975692,  3.00577575],\n",
       "                                           [ 1.13017672,  2.87559903],\n",
       "                                           [ 1.08618025,  2.78941878],\n",
       "                                           [ 1.05762514,  2.73179364],\n",
       "                                           [ 1.03878168,  2.69301197],\n",
       "                                           [ 1.02621171,  2.66680026],\n",
       "                                           [ 1.01776645,  2.6490338 ],\n",
       "                                           [ 1.01206526,  2.63696854],\n",
       "                                           [ 1.00820415,  2.62876439]],\n",
       "                             \n",
       "                                          [[13.92843328, 89.66932809],\n",
       "                                           [85.99243074,  4.67689735],\n",
       "                                           [ 1.8021121 ,  3.87478525],\n",
       "                                           [ 1.45381484,  3.42097041],\n",
       "                                           [ 1.27860358,  3.14236683],\n",
       "                                           [ 1.17813264,  2.96423419],\n",
       "                                           [ 1.11656701,  2.84766718],\n",
       "                                           [ 1.07736858,  2.77029859],\n",
       "                                           [ 1.05181621,  2.71848239],\n",
       "                                           [ 1.03490701,  2.68357538],\n",
       "                                           [ 1.02360709,  2.65996829],\n",
       "                                           [ 1.01600649,  2.6439618 ],\n",
       "                                           [ 1.01087188,  2.63308992],\n",
       "                                           [ 1.00739305,  2.62569687]],\n",
       "                             \n",
       "                                          [[96.17965476,  7.4181066 ],\n",
       "                                           [ 4.24493337,  4.17317323],\n",
       "                                           [ 1.58446487,  3.58870837],\n",
       "                                           [ 1.34429761,  3.24441076],\n",
       "                                           [ 1.21584168,  3.02856907],\n",
       "                                           [ 1.13968869,  2.88888038],\n",
       "                                           [ 1.09208873,  2.79679165],\n",
       "                                           [ 1.06140479,  2.73538686],\n",
       "                                           [ 1.04124438,  2.69414249],\n",
       "                                           [ 1.0278354 ,  2.66630709],\n",
       "                                           [ 1.01884528,  2.64746181],\n",
       "                                           [ 1.01278574,  2.63467607],\n",
       "                                           [ 1.00868694,  2.62598913],\n",
       "                                           [ 1.0059078 ,  2.62008134]],\n",
       "                             \n",
       "                                          [[62.42535837, 41.172403  ],\n",
       "                                           [37.38850814,  4.78389486],\n",
       "                                           [ 1.85058633,  3.93330853],\n",
       "                                           [ 1.47681417,  3.45649436],\n",
       "                                           [ 1.29143405,  3.16506031],\n",
       "                                           [ 1.18587621,  2.9791841 ],\n",
       "                                           [ 1.1214543 ,  2.8577298 ],\n",
       "                                           [ 1.08053864,  2.77719116],\n",
       "                                           [ 1.05390845,  2.72328271],\n",
       "                                           [ 1.03630361,  2.6869791 ],\n",
       "                                           [ 1.02454634,  2.66243275],\n",
       "                                           [ 1.01664132,  2.64579143],\n",
       "                                           [ 1.01130241,  2.63448903],\n",
       "                                           [ 1.00768568,  2.62680335]],\n",
       "                             \n",
       "                                          [[52.68410843, 50.91365294],\n",
       "                                           [47.08948643,  4.82416651],\n",
       "                                           [ 1.86879387,  3.95537264],\n",
       "                                           [ 1.48551165,  3.46986099],\n",
       "                                           [ 1.29627706,  3.17358393],\n",
       "                                           [ 1.18879178,  2.98479214],\n",
       "                                           [ 1.12329078,  2.86150137],\n",
       "                                           [ 1.08172816,  2.7797732 ],\n",
       "                                           [ 1.0546928 ,  2.7250804 ],\n",
       "                                           [ 1.03682685,  2.68825355],\n",
       "                                           [ 1.0248981 ,  2.66335546],\n",
       "                                           [ 1.01687901,  2.64647645],\n",
       "                                           [ 1.01146358,  2.63501287],\n",
       "                                           [ 1.00779522,  2.62721765]],\n",
       "                             \n",
       "                                          [[99.25954165,  4.33821971],\n",
       "                                           [ 1.62388692,  3.71433279],\n",
       "                                           [ 1.39669149,  3.3176413 ],\n",
       "                                           [ 1.24406431,  3.073577  ],\n",
       "                                           [ 1.15646499,  2.91711201],\n",
       "                                           [ 1.102581  ,  2.81453101],\n",
       "                                           [ 1.06816289,  2.74636812],\n",
       "                                           [ 1.04567684,  2.70069128],\n",
       "                                           [ 1.03077632,  2.66991495],\n",
       "                                           [ 1.02081134,  2.64910362],\n",
       "                                           [ 1.01410665,  2.63499697],\n",
       "                                           [ 1.00957737,  2.6254196 ],\n",
       "                                           [ 1.00650937,  2.61891023],\n",
       "                                           [ 1.00442742,  2.6144828 ]],\n",
       "                             \n",
       "                                          [[98.79294704,  4.80481432],\n",
       "                                           [ 1.84389352,  3.9609208 ],\n",
       "                                           [ 1.49374425,  3.46717656],\n",
       "                                           [ 1.29825212,  3.16892443],\n",
       "                                           [ 1.18921721,  2.97970722],\n",
       "                                           [ 1.123271  ,  2.85643622],\n",
       "                                           [ 1.0815871 ,  2.77484911],\n",
       "                                           [ 1.05453533,  2.72031378],\n",
       "                                           [ 1.03668645,  2.68362733],\n",
       "                                           [ 1.02478306,  2.65884427],\n",
       "                                           [ 1.01678864,  2.64205563],\n",
       "                                           [ 1.01139432,  2.63066132],\n",
       "                                           [ 1.00774299,  2.62291833],\n",
       "                                           [ 1.00526622,  2.61765211]],\n",
       "                             \n",
       "                                          [[98.02497698,  5.57278439],\n",
       "                                           [ 2.62364327,  3.94914111],\n",
       "                                           [ 1.49090517,  3.45823594],\n",
       "                                           [ 1.29548374,  3.1627522 ],\n",
       "                                           [ 1.18725286,  2.97549934],\n",
       "                                           [ 1.12193842,  2.85356092],\n",
       "                                           [ 1.08068935,  2.77287157],\n",
       "                                           [ 1.05392986,  2.71894171],\n",
       "                                           [ 1.03627706,  2.68266465],\n",
       "                                           [ 1.02450558,  2.65815907],\n",
       "                                           [ 1.01660022,  2.64155885],\n",
       "                                           [ 1.01126619,  2.63029265],\n",
       "                                           [ 1.00765578,  2.62263688],\n",
       "                                           [ 1.00520682,  2.61743006]],\n",
       "                             \n",
       "                                          [[69.7895597 , 33.80820167],\n",
       "                                           [29.81867783,  4.98952383],\n",
       "                                           [ 1.94332168,  4.04620215],\n",
       "                                           [ 1.52132909,  3.52487306],\n",
       "                                           [ 1.3162246 ,  3.20864846],\n",
       "                                           [ 1.20079372,  3.00785475],\n",
       "                                           [ 1.13084659,  2.87700815],\n",
       "                                           [ 1.08662034,  2.79038781],\n",
       "                                           [ 1.0579178 ,  2.73247001],\n",
       "                                           [ 1.03897796,  2.69349206],\n",
       "                                           [ 1.02634412,  2.66714793],\n",
       "                                           [ 1.01785614,  2.64929179],\n",
       "                                           [ 1.01212618,  2.63716562],\n",
       "                                           [ 1.0082456 ,  2.62892002]],\n",
       "                             \n",
       "                                          [[75.95600815, 27.64175321],\n",
       "                                           [23.81832365,  4.82342956],\n",
       "                                           [ 1.86893262,  3.95449694],\n",
       "                                           [ 1.48529801,  3.46919893],\n",
       "                                           [ 1.29608125,  3.17311768],\n",
       "                                           [ 1.1886488 ,  2.98446887],\n",
       "                                           [ 1.12319151,  2.86127737],\n",
       "                                           [ 1.08166022,  2.77961715],\n",
       "                                           [ 1.05464648,  2.72497067],\n",
       "                                           [ 1.03679529,  2.68817537],\n",
       "                                           [ 1.02487659,  2.66329878],\n",
       "                                           [ 1.01686435,  2.64643443],\n",
       "                                           [ 1.01145358,  2.63498085],\n",
       "                                           [ 1.0077884 ,  2.62719245]],\n",
       "                             \n",
       "                                          [[93.06493664, 10.53282472],\n",
       "                                           [ 7.10803344,  4.42479128],\n",
       "                                           [ 1.69096466,  3.73382661],\n",
       "                                           [ 1.3991929 ,  3.33463372],\n",
       "                                           [ 1.24767671,  3.08695701],\n",
       "                                           [ 1.15932115,  2.92763585],\n",
       "                                           [ 1.10464051,  2.82299535],\n",
       "                                           [ 1.06961146,  2.75338388],\n",
       "                                           [ 1.04668786,  2.70669602],\n",
       "                                           [ 1.03148025,  2.67521577],\n",
       "                                           [ 1.02130112,  2.65391465],\n",
       "                                           [ 1.01444738,  2.63946727],\n",
       "                                           [ 1.0098144 ,  2.62965287],\n",
       "                                           [ 1.00667426,  2.62297861]]], dtype=float64))]))]),\n",
       " DeviceArray([2.89190114, 0.91172878, 1.76204043, ..., 0.96685185,\n",
       "              0.00665208, 0.96431055], dtype=float64),\n",
       " DeviceArray([2036.44247567, 2022.35955875, 2013.47135291, 2006.3319277 ,\n",
       "              2000.12048094, 1994.43823106, 1989.03701278, 1983.76868696,\n",
       "              1978.57033012, 1973.44904594, 1968.45910628, 1963.67378623,\n",
       "              1959.15947154, 1954.95979911, 1951.09283509, 1947.55792557,\n",
       "              1944.34536364, 1941.44324124, 1938.83967908, 1936.52179422,\n",
       "              1934.47376292, 1932.67567757, 1931.10377976, 1929.73182838,\n",
       "              1928.53298191, 1927.48156092, 1926.55428702, 1925.73090146,\n",
       "              1924.99428753, 1924.3302909 , 1923.72739717, 1923.17636146,\n",
       "              1922.66983583, 1922.20201601, 1921.76831896, 1921.36510002,\n",
       "              1920.98941524, 1920.63883103, 1920.31127949, 1920.00495425,\n",
       "              1919.71823975, 1919.44966608, 1919.19788185, 1918.96163901,\n",
       "              1918.7397844 , 1918.53125489, 1918.33507362, 1918.1503463 ,\n",
       "              1917.97625674, 1917.81206173, 1917.65708522, 1917.51071221,\n",
       "              1917.3723824 , 1917.24158414, 1917.11784862, 1917.0007446 ,\n",
       "              1916.88987372, 1916.78486631, 1916.68537792, 1916.59108631,\n",
       "              1916.50168898, 1916.4169011 , 1916.3364539 , 1916.26009328,\n",
       "              1916.18757876, 1916.11868262, 1916.05318918, 1915.99089427,\n",
       "              1915.93160474, 1915.87513813, 1915.82132228, 1915.7699951 ,\n",
       "              1915.72100425, 1915.67420692, 1915.62946955, 1915.58666757,\n",
       "              1915.54568513, 1915.50641477, 1915.46875715, 1915.43262066,\n",
       "              1915.39792111, 1915.3645813 , 1915.33253066, 1915.30170478,\n",
       "              1915.27204504, 1915.24349812, 1915.21601557, 1915.18955337,\n",
       "              1915.16407148, 1915.13953343, 1915.11590585, 1915.09315813,\n",
       "              1915.07126204, 1915.05019133, 1915.02992146, 1915.01042928,\n",
       "              1914.99169279, 1914.97369091, 1914.95640326, 1914.93981001,\n",
       "              1914.92389176, 1914.90862941, 1914.89400406, 1914.87999699,\n",
       "              1914.8665896 , 1914.85376336, 1914.84149985, 1914.82978072,\n",
       "              1914.81858772, 1914.80790273, 1914.79770777, 1914.78798503,\n",
       "              1914.77871692, 1914.76988608, 1914.76147543, 1914.75346818,\n",
       "              1914.74584789, 1914.73859847, 1914.7317042 , 1914.7251498 ,\n",
       "              1914.71892038, 1914.71300149, 1914.70737913, 1914.70203976,\n",
       "              1914.6969703 , 1914.69215813, 1914.68759108, 1914.68325748,\n",
       "              1914.67914606, 1914.67524606, 1914.67154713, 1914.66803937,\n",
       "              1914.66471329, 1914.66155983, 1914.65857032, 1914.65573651,\n",
       "              1914.65305051, 1914.65050479, 1914.64809218, 1914.64580587,\n",
       "              1914.64363935, 1914.64158644, 1914.63964126, 1914.63779823,\n",
       "              1914.63605203, 1914.63439761, 1914.63283019, 1914.63134521,\n",
       "              1914.62993835, 1914.62860552, 1914.62734282, 1914.62614658,\n",
       "              1914.62501329, 1914.62393963, 1914.62292246, 1914.6219588 ,\n",
       "              1914.62104582, 1914.62018085, 1914.61936135, 1914.61858492,\n",
       "              1914.61784928, 1914.61715227, 1914.61649185, 1914.61586609,\n",
       "              1914.61527314, 1914.61471128, 1914.61417887, 1914.61367433,\n",
       "              1914.61319621, 1914.6127431 , 1914.61231369, 1914.61190672,\n",
       "              1914.611521  , 1914.61115542, 1914.61080891, 1914.61048046,\n",
       "              1914.61016913, 1914.60987401, 1914.60959425, 1914.60932904,\n",
       "              1914.60907761, 1914.60883924, 1914.60861324, 1914.60839897,\n",
       "              1914.6081958 , 1914.60800316, 1914.60782049, 1914.60764727,\n",
       "              1914.60748301, 1914.60732723, 1914.6071795 , 1914.60703939,\n",
       "              1914.60690651, 1914.60678047, 1914.60666092, 1914.60654753,\n",
       "              1914.60643997, 1914.60633794, 1914.60624114, 1914.60614932,\n",
       "              1914.60606221, 1914.60597956, 1914.60590115, 1914.60582676,\n",
       "              1914.60575617, 1914.60568919, 1914.60562563, 1914.60556533,\n",
       "              1914.6055081 , 1914.60545379, 1914.60540225, 1914.60535333],            dtype=float64),\n",
       " DeviceArray([0.        , 0.03425145, 0.22625852, 0.26522756, 0.2880168 ,\n",
       "              0.30751872, 0.32577562, 0.34409857, 0.36366892, 0.38198304,\n",
       "              0.40112638, 0.41983867, 0.4394412 , 0.45916247, 0.47859979,\n",
       "              0.49728632, 0.51651192, 0.53616214, 0.55485559, 0.57459497,\n",
       "              0.59400749, 0.61291051, 0.63073778, 0.65315032, 0.67299914,\n",
       "              0.69538903, 0.71476746, 0.73393393, 0.75093293, 0.76913238,\n",
       "              0.78608632, 0.80333972, 0.82065964, 0.83919668, 0.85766244,\n",
       "              0.87688923, 0.89415169, 0.9126575 , 0.92995024, 0.9485209 ,\n",
       "              0.96504092, 0.98419714, 1.00330162, 1.02127671, 1.0392065 ,\n",
       "              1.0567162 , 1.07459641, 1.09244251, 1.1111443 , 1.12884974,\n",
       "              1.14701629, 1.16506243, 1.18299794, 1.20151591, 1.21954846,\n",
       "              1.23675251, 1.25648093, 1.27629375, 1.29700017, 1.31654477,\n",
       "              1.33529043, 1.3551178 , 1.37402105, 1.39391828, 1.41271996,\n",
       "              1.43177772, 1.45427942, 1.47406769, 1.49361205, 1.51272106,\n",
       "              1.53151846, 1.55106473, 1.56906486, 1.59151793, 1.61153102,\n",
       "              1.62954354, 1.64918351, 1.66794181, 1.69012427, 1.70870709,\n",
       "              1.72757626, 1.74592257, 1.76419663, 1.78422403, 1.80320716,\n",
       "              1.82325959, 1.84566736, 1.86484265, 1.88405871, 1.90416121,\n",
       "              1.92399621, 1.94357824, 1.96384931, 1.98303556, 2.00557399,\n",
       "              2.02525353, 2.04406142, 2.06408358, 2.08389783, 2.10362816,\n",
       "              2.12143445, 2.14050579, 2.15931606, 2.17927909, 2.19907594,\n",
       "              2.21677113, 2.23981047, 2.25950027, 2.27925467, 2.29902577,\n",
       "              2.31752968, 2.33675623, 2.35480452, 2.37476945, 2.39310241,\n",
       "              2.41255569, 2.43126202, 2.4515059 , 2.4710238 , 2.49054956,\n",
       "              2.50894499, 2.52833104, 2.54765606, 2.56587863, 2.58566666,\n",
       "              2.6044898 , 2.62252855, 2.64452028, 2.66296887, 2.68179274,\n",
       "              2.69956088, 2.71894622, 2.73774624, 2.75610328, 2.77561927,\n",
       "              2.79513597, 2.81457496, 2.83376312, 2.85265684, 2.87153101,\n",
       "              2.89081383, 2.91001654, 2.92926192, 2.94861078, 2.96710849,\n",
       "              2.98971343, 3.00884533, 3.02844095, 3.04685593, 3.06663299,\n",
       "              3.085814  , 3.10443139, 3.12421179, 3.14353728, 3.16663241,\n",
       "              3.18895316, 3.20862627, 3.22807574, 3.24682283, 3.26627064,\n",
       "              3.28392243, 3.30173969, 3.31960154, 3.33681512, 3.35396576,\n",
       "              3.3736167 , 3.39144325, 3.4086287 , 3.42591834, 3.44327688,\n",
       "              3.46055555, 3.47737885, 3.49475288, 3.51438761, 3.53366399,\n",
       "              3.55242419, 3.57137632, 3.59070086, 3.60876632, 3.62816858,\n",
       "              3.64788413, 3.66694808, 3.68482614, 3.70377755, 3.72284126,\n",
       "              3.7409234 , 3.76017427, 3.77900124, 3.79867887, 3.81830978,\n",
       "              3.83772969, 3.85712481, 3.87638426, 3.89482045, 3.91390729,\n",
       "              3.93239617, 3.95063663, 3.96942472, 3.98837662, 4.00667095,\n",
       "              4.02454185, 4.04384756, 4.062644  , 4.08187819, 4.10081816,\n",
       "              4.11964774, 4.13922262, 4.15857363, 4.1778028 , 4.19629216,\n",
       "              4.21451998, 4.23390412, 4.25156593], dtype=float64))"
      ]
     },
     "execution_count": 29,
     "metadata": {},
     "output_type": "execute_result"
    }
   ],
   "source": [
    "cavi_lib.run_cavi(g_obs, vb_params_dict,\n",
    "                vb_params_paragami,\n",
    "                prior_params_dict, \n",
    "                debug = True)"
   ]
  },
  {
   "cell_type": "code",
   "execution_count": null,
   "metadata": {},
   "outputs": [],
   "source": []
  },
  {
   "cell_type": "code",
   "execution_count": null,
   "metadata": {},
   "outputs": [],
   "source": []
  },
  {
   "cell_type": "code",
   "execution_count": null,
   "metadata": {},
   "outputs": [],
   "source": []
  }
 ],
 "metadata": {
  "kernelspec": {
   "display_name": "bnp_sensitivity_jax",
   "language": "python",
   "name": "bnp_sensitivity_jax"
  },
  "language_info": {
   "codemirror_mode": {
    "name": "ipython",
    "version": 3
   },
   "file_extension": ".py",
   "mimetype": "text/x-python",
   "name": "python",
   "nbconvert_exporter": "python",
   "pygments_lexer": "ipython3",
   "version": "3.8.0"
  }
 },
 "nbformat": 4,
 "nbformat_minor": 4
}
