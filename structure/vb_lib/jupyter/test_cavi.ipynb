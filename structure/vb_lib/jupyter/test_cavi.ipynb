{
 "cells": [
  {
   "cell_type": "code",
   "execution_count": 1,
   "metadata": {},
   "outputs": [
    {
     "name": "stderr",
     "output_type": "stream",
     "text": [
      "/accounts/grad/runjing_liu/.conda/envs/bnp_sensitivity_jax/lib/python3.8/site-packages/jax/lib/xla_bridge.py:130: UserWarning: No GPU/TPU found, falling back to CPU.\n",
      "  warnings.warn('No GPU/TPU found, falling back to CPU.')\n"
     ]
    }
   ],
   "source": [
    "import jax\n",
    "\n",
    "import jax.numpy as np\n",
    "import jax.scipy as sp\n",
    "\n",
    "from numpy.polynomial.hermite import hermgauss\n",
    "import scipy as osp\n",
    "\n",
    "from vb_lib import structure_model_lib, data_utils, cavi_lib\n",
    "from vb_lib.preconditioner_lib import get_mfvb_cov_matmul\n",
    "from bnpmodeling_runjingdev.sensitivity_lib import HyperparameterSensitivityLinearApproximation, get_jac_hvp_fun\n",
    "\n",
    "import paragami\n",
    "\n",
    "from copy import deepcopy\n",
    "\n",
    "import time\n",
    "\n",
    "import matplotlib.pyplot as plt\n",
    "%matplotlib inline  \n",
    "\n",
    "from bnpmodeling_runjingdev import cluster_quantities_lib, modeling_lib\n"
   ]
  },
  {
   "cell_type": "code",
   "execution_count": 2,
   "metadata": {},
   "outputs": [],
   "source": [
    "import numpy as onp\n",
    "onp.random.seed(53453)"
   ]
  },
  {
   "cell_type": "markdown",
   "metadata": {},
   "source": [
    "# Load data"
   ]
  },
  {
   "cell_type": "code",
   "execution_count": 3,
   "metadata": {},
   "outputs": [],
   "source": [
    "use_simulated = True\n",
    "\n",
    "if use_simulated: \n",
    "    data = np.load('../simulated_data/simulated_structure_data_nobs20_nloci50_npop4.npz')\n",
    "    g_obs = np.array(data['g_obs'])\n",
    "else: \n",
    "    data_dir = '../../../../fastStructure/hgdp_data/huang2011_plink_files/'\n",
    "    filenamebase = 'phased_HGDP+India+Africa_2810SNPs-regions1to36'\n",
    "    filename = data_dir + filenamebase + '.npz'\n",
    "    data = np.load(filename)\n",
    "\n",
    "    g_obs = np.array(data['g_obs'])\n",
    "    g_obs_raw = np.array(data['g_obs_raw'])\n",
    "\n",
    "    # just checking ... \n",
    "    which_missing = (g_obs_raw == 3)\n",
    "    (g_obs.argmax(-1) == g_obs_raw)[~which_missing].all()\n",
    "    (g_obs[which_missing] == 0).all()"
   ]
  },
  {
   "cell_type": "code",
   "execution_count": 4,
   "metadata": {},
   "outputs": [],
   "source": [
    "n_obs = g_obs.shape[0]\n",
    "n_loci = g_obs.shape[1]"
   ]
  },
  {
   "cell_type": "code",
   "execution_count": 5,
   "metadata": {},
   "outputs": [
    {
     "name": "stdout",
     "output_type": "stream",
     "text": [
      "20\n",
      "50\n"
     ]
    }
   ],
   "source": [
    "print(n_obs)\n",
    "print(n_loci)"
   ]
  },
  {
   "cell_type": "markdown",
   "metadata": {},
   "source": [
    "# Get prior"
   ]
  },
  {
   "cell_type": "code",
   "execution_count": 6,
   "metadata": {},
   "outputs": [],
   "source": [
    "use_bnp_prior = False"
   ]
  },
  {
   "cell_type": "code",
   "execution_count": 7,
   "metadata": {},
   "outputs": [
    {
     "name": "stdout",
     "output_type": "stream",
     "text": [
      "OrderedDict([('dp_prior_alpha', DeviceArray([2.59776136], dtype=float64)), ('allele_prior_alpha', DeviceArray([1.15564526], dtype=float64)), ('allele_prior_beta', DeviceArray([1.0515046], dtype=float64))])\n"
     ]
    }
   ],
   "source": [
    "_, prior_params_paragami = \\\n",
    "    structure_model_lib.get_default_prior_params()\n",
    "\n",
    "prior_params_dict = prior_params_paragami.random(key=jax.random.PRNGKey(41))\n",
    "prior_params_free = prior_params_paragami.flatten(prior_params_dict, free = True)\n",
    "\n",
    "print(prior_params_dict)"
   ]
  },
  {
   "cell_type": "markdown",
   "metadata": {},
   "source": [
    "# Get VB params "
   ]
  },
  {
   "cell_type": "code",
   "execution_count": 40,
   "metadata": {},
   "outputs": [],
   "source": [
    "k_approx = 3"
   ]
  },
  {
   "cell_type": "code",
   "execution_count": 41,
   "metadata": {},
   "outputs": [],
   "source": [
    "gh_deg = 8\n",
    "gh_loc, gh_weights = hermgauss(8)"
   ]
  },
  {
   "cell_type": "code",
   "execution_count": 42,
   "metadata": {
    "scrolled": true
   },
   "outputs": [
    {
     "name": "stdout",
     "output_type": "stream",
     "text": [
      "OrderedDict:\n",
      "\t[pop_freq_beta_params] = NumericArrayPattern (50, 3, 2) (lb=0.0, ub=inf)\n",
      "\t[ind_admix_params] = OrderedDict:\n",
      "\t[stick_beta] = NumericArrayPattern (20, 2, 2) (lb=0.0, ub=inf)\n"
     ]
    }
   ],
   "source": [
    "use_logitnormal_sticks = False\n",
    "\n",
    "_, vb_params_paragami = \\\n",
    "    structure_model_lib.get_vb_params_paragami_object(n_obs, n_loci, k_approx,\n",
    "                                    use_logitnormal_sticks = use_logitnormal_sticks)\n",
    "    \n",
    "print(vb_params_paragami)"
   ]
  },
  {
   "cell_type": "code",
   "execution_count": 43,
   "metadata": {},
   "outputs": [],
   "source": [
    "vb_params_dict = vb_params_paragami.random(key=jax.random.PRNGKey(41))"
   ]
  },
  {
   "cell_type": "code",
   "execution_count": 44,
   "metadata": {},
   "outputs": [
    {
     "name": "stdout",
     "output_type": "stream",
     "text": [
      "dirch prior!\n"
     ]
    },
    {
     "data": {
      "text/plain": [
       "DeviceArray(2258.61086696, dtype=float64)"
      ]
     },
     "execution_count": 44,
     "metadata": {},
     "output_type": "execute_result"
    }
   ],
   "source": [
    "structure_model_lib.get_kl(g_obs, vb_params_dict, prior_params_dict, use_bnp_prior)"
   ]
  },
  {
   "cell_type": "code",
   "execution_count": null,
   "metadata": {},
   "outputs": [],
   "source": []
  },
  {
   "cell_type": "markdown",
   "metadata": {},
   "source": [
    "# Get moments from vb parameters"
   ]
  },
  {
   "cell_type": "code",
   "execution_count": 45,
   "metadata": {},
   "outputs": [],
   "source": [
    "dp_prior_alpha = prior_params_dict['dp_prior_alpha']\n",
    "allele_prior_alpha = prior_params_dict['allele_prior_alpha']\n",
    "allele_prior_beta = prior_params_dict['allele_prior_beta']\n",
    "\n",
    "# get initial moments from vb_params\n",
    "e_log_sticks, e_log_1m_sticks, \\\n",
    "    e_log_pop_freq, e_log_1m_pop_freq = \\\n",
    "        structure_model_lib.get_moments_from_vb_params_dict(\n",
    "            vb_params_dict, gh_loc, gh_weights)\n",
    "\n",
    "e_log_cluster_probs = \\\n",
    "        modeling_lib.get_e_log_cluster_probabilities_from_e_log_stick(\n",
    "            e_log_sticks, e_log_1m_sticks)"
   ]
  },
  {
   "cell_type": "markdown",
   "metadata": {},
   "source": [
    "# Population beta update"
   ]
  },
  {
   "cell_type": "code",
   "execution_count": 46,
   "metadata": {},
   "outputs": [],
   "source": [
    "update_pop_beta = jax.jit(cavi_lib.update_pop_beta)"
   ]
  },
  {
   "cell_type": "code",
   "execution_count": 47,
   "metadata": {},
   "outputs": [],
   "source": [
    "beta_param_update = update_pop_beta(g_obs, e_log_pop_freq, e_log_1m_pop_freq, \n",
    "                                        e_log_cluster_probs, prior_params_dict)"
   ]
  },
  {
   "cell_type": "markdown",
   "metadata": {},
   "source": [
    "### check against autograd"
   ]
  },
  {
   "cell_type": "code",
   "execution_count": 48,
   "metadata": {},
   "outputs": [],
   "source": [
    "joint_loglik = lambda *x : structure_model_lib.\\\n",
    "                    get_e_joint_loglik_from_nat_params(*x,\n",
    "                                                       use_bnp_prior=use_bnp_prior, \n",
    "                                                       detach_ez=True)[0]"
   ]
  },
  {
   "cell_type": "code",
   "execution_count": 49,
   "metadata": {},
   "outputs": [],
   "source": [
    "get_pop_beta_update1_ag = jax.jit(jax.jacobian(joint_loglik, argnums=1))\n",
    "get_pop_beta_update2_ag = jax.jit(jax.jacobian(joint_loglik, argnums=2))"
   ]
  },
  {
   "cell_type": "code",
   "execution_count": 50,
   "metadata": {},
   "outputs": [
    {
     "name": "stdout",
     "output_type": "stream",
     "text": [
      "dirch prior!\n"
     ]
    }
   ],
   "source": [
    "beta_update1 = get_pop_beta_update1_ag(g_obs,\n",
    "                                    e_log_pop_freq, e_log_1m_pop_freq,\n",
    "                                    e_log_sticks, e_log_1m_sticks,\n",
    "                                    dp_prior_alpha, allele_prior_alpha,\n",
    "                                    allele_prior_beta).block_until_ready()"
   ]
  },
  {
   "cell_type": "code",
   "execution_count": 51,
   "metadata": {},
   "outputs": [
    {
     "name": "stdout",
     "output_type": "stream",
     "text": [
      "dirch prior!\n"
     ]
    }
   ],
   "source": [
    "beta_update2 = get_pop_beta_update2_ag(g_obs,\n",
    "                                    e_log_pop_freq, e_log_1m_pop_freq,\n",
    "                                    e_log_sticks, e_log_1m_sticks,\n",
    "                                    dp_prior_alpha, allele_prior_alpha,\n",
    "                                    allele_prior_beta).block_until_ready()"
   ]
  },
  {
   "cell_type": "code",
   "execution_count": 52,
   "metadata": {
    "scrolled": true
   },
   "outputs": [
    {
     "data": {
      "text/plain": [
       "DeviceArray(7.10542736e-15, dtype=float64)"
      ]
     },
     "execution_count": 52,
     "metadata": {},
     "output_type": "execute_result"
    }
   ],
   "source": [
    "np.abs(beta_param_update[0][:, :, 0] - 1 - beta_update1).max()"
   ]
  },
  {
   "cell_type": "code",
   "execution_count": 53,
   "metadata": {},
   "outputs": [
    {
     "data": {
      "text/plain": [
       "DeviceArray(7.10542736e-15, dtype=float64)"
      ]
     },
     "execution_count": 53,
     "metadata": {},
     "output_type": "execute_result"
    }
   ],
   "source": [
    "np.abs(beta_param_update[0][:, :, 1] - 1 - beta_update2).max()"
   ]
  },
  {
   "cell_type": "markdown",
   "metadata": {},
   "source": [
    "### Timing\n",
    "\n",
    "It should be faster than the autograd updates ... otherwise why not just use autograd updates"
   ]
  },
  {
   "cell_type": "code",
   "execution_count": 54,
   "metadata": {},
   "outputs": [
    {
     "name": "stdout",
     "output_type": "stream",
     "text": [
      "0.002935171127319336\n"
     ]
    }
   ],
   "source": [
    "t0 = time.time() \n",
    "\n",
    "_ = get_pop_beta_update1_ag(g_obs,\n",
    "                            e_log_pop_freq, e_log_1m_pop_freq,\n",
    "                            e_log_sticks, e_log_1m_sticks,\n",
    "                            dp_prior_alpha, allele_prior_alpha,\n",
    "                            allele_prior_beta).block_until_ready()\n",
    "\n",
    "_ = get_pop_beta_update2_ag(g_obs,\n",
    "                            e_log_pop_freq, e_log_1m_pop_freq,\n",
    "                            e_log_sticks, e_log_1m_sticks,\n",
    "                            dp_prior_alpha, allele_prior_alpha,\n",
    "                            allele_prior_beta).block_until_ready()\n",
    "\n",
    "print(time.time() - t0)"
   ]
  },
  {
   "cell_type": "code",
   "execution_count": 55,
   "metadata": {},
   "outputs": [
    {
     "name": "stdout",
     "output_type": "stream",
     "text": [
      "0.0010650157928466797\n"
     ]
    }
   ],
   "source": [
    "t0 = time.time() \n",
    "\n",
    "out = update_pop_beta(g_obs, e_log_pop_freq, e_log_1m_pop_freq, \n",
    "                        e_log_cluster_probs, prior_params_dict)\n",
    "\n",
    "out[0].block_until_ready()\n",
    "print(time.time() - t0)"
   ]
  },
  {
   "cell_type": "code",
   "execution_count": null,
   "metadata": {},
   "outputs": [],
   "source": []
  },
  {
   "cell_type": "markdown",
   "metadata": {},
   "source": [
    "# Admixture stick updates"
   ]
  },
  {
   "cell_type": "code",
   "execution_count": 56,
   "metadata": {},
   "outputs": [],
   "source": [
    "update_ind_admix_beta = jax.jit(lambda *x : cavi_lib.update_ind_admix_beta(*x, use_bnp_prior = use_bnp_prior))"
   ]
  },
  {
   "cell_type": "code",
   "execution_count": 57,
   "metadata": {},
   "outputs": [
    {
     "name": "stdout",
     "output_type": "stream",
     "text": [
      "dirch prior\n"
     ]
    }
   ],
   "source": [
    "ind_admix_beta_update = update_ind_admix_beta(g_obs, e_log_pop_freq, e_log_1m_pop_freq, \n",
    "                            e_log_cluster_probs, prior_params_dict)"
   ]
  },
  {
   "cell_type": "code",
   "execution_count": 58,
   "metadata": {},
   "outputs": [],
   "source": [
    "get_stick_update1_ag = jax.jit(jax.jacobian(joint_loglik, argnums=3))\n",
    "get_stick_update2_ag = jax.jit(jax.jacobian(joint_loglik, argnums=4))"
   ]
  },
  {
   "cell_type": "code",
   "execution_count": 59,
   "metadata": {},
   "outputs": [
    {
     "name": "stdout",
     "output_type": "stream",
     "text": [
      "dirch prior!\n",
      "dirch prior!\n"
     ]
    }
   ],
   "source": [
    "stick_update1 = get_stick_update1_ag(g_obs,\n",
    "                        e_log_pop_freq, e_log_1m_pop_freq,\n",
    "                        e_log_sticks, e_log_1m_sticks,\n",
    "                        dp_prior_alpha, allele_prior_alpha,\n",
    "                        allele_prior_beta)\n",
    "\n",
    "stick_update2 = get_stick_update2_ag(g_obs,\n",
    "                        e_log_pop_freq, e_log_1m_pop_freq,\n",
    "                        e_log_sticks, e_log_1m_sticks,\n",
    "                        dp_prior_alpha, allele_prior_alpha,\n",
    "                        allele_prior_beta)"
   ]
  },
  {
   "cell_type": "code",
   "execution_count": 60,
   "metadata": {},
   "outputs": [
    {
     "data": {
      "text/plain": [
       "DeviceArray(3.55271368e-14, dtype=float64)"
      ]
     },
     "execution_count": 60,
     "metadata": {},
     "output_type": "execute_result"
    }
   ],
   "source": [
    "np.abs(stick_update1 + 1 -  ind_admix_beta_update[0][:, :, 0]).max()"
   ]
  },
  {
   "cell_type": "code",
   "execution_count": 61,
   "metadata": {},
   "outputs": [
    {
     "data": {
      "text/plain": [
       "DeviceArray(2.84217094e-14, dtype=float64)"
      ]
     },
     "execution_count": 61,
     "metadata": {},
     "output_type": "execute_result"
    }
   ],
   "source": [
    "np.abs(stick_update2 + 1 - ind_admix_beta_update[0][:, :, 1]).max()"
   ]
  },
  {
   "cell_type": "markdown",
   "metadata": {},
   "source": [
    "### Timing\n",
    "\n",
    "It should be faster than the autograd updates ... otherwise why not just use autograd updates"
   ]
  },
  {
   "cell_type": "code",
   "execution_count": 62,
   "metadata": {},
   "outputs": [
    {
     "name": "stdout",
     "output_type": "stream",
     "text": [
      "0.0035614967346191406\n"
     ]
    }
   ],
   "source": [
    "t0 = time.time() \n",
    "\n",
    "_ = get_stick_update1_ag(g_obs,\n",
    "                        e_log_pop_freq, e_log_1m_pop_freq,\n",
    "                        e_log_sticks, e_log_1m_sticks,\n",
    "                        dp_prior_alpha, allele_prior_alpha,\n",
    "                        allele_prior_beta).block_until_ready()\n",
    "\n",
    "_ = get_stick_update2_ag(g_obs,\n",
    "                        e_log_pop_freq, e_log_1m_pop_freq,\n",
    "                        e_log_sticks, e_log_1m_sticks,\n",
    "                        dp_prior_alpha, allele_prior_alpha,\n",
    "                        allele_prior_beta).block_until_ready()\n",
    "print(time.time() - t0)"
   ]
  },
  {
   "cell_type": "code",
   "execution_count": 63,
   "metadata": {},
   "outputs": [
    {
     "name": "stdout",
     "output_type": "stream",
     "text": [
      "0.0012943744659423828\n"
     ]
    }
   ],
   "source": [
    "t0 = time.time() \n",
    "\n",
    "out = update_ind_admix_beta(g_obs, e_log_pop_freq, e_log_1m_pop_freq, \n",
    "                            e_log_cluster_probs, prior_params_dict)\n",
    "out[0].block_until_ready()\n",
    "\n",
    "print(time.time() - t0)"
   ]
  },
  {
   "cell_type": "code",
   "execution_count": null,
   "metadata": {},
   "outputs": [],
   "source": []
  },
  {
   "cell_type": "code",
   "execution_count": 64,
   "metadata": {},
   "outputs": [
    {
     "name": "stdout",
     "output_type": "stream",
     "text": [
      "Compiling cavi functions ...\n",
      "dirch prior\n",
      "dirch prior!\n",
      "CAVI compile time: 2.9sec\n",
      "\n",
      " running CAVI ...\n",
      "iteration [1]; kl:1488.189139; elapsed: 0.0023secs\n",
      "iteration [2]; kl:1480.661813; elapsed: 0.1008secs\n",
      "iteration [3]; kl:1474.236004; elapsed: 0.0236secs\n",
      "iteration [4]; kl:1467.614735; elapsed: 0.0062secs\n",
      "iteration [5]; kl:1460.231436; elapsed: 0.0061secs\n",
      "iteration [6]; kl:1451.723197; elapsed: 0.0054secs\n",
      "iteration [7]; kl:1441.962349; elapsed: 0.005secs\n",
      "iteration [8]; kl:1431.117438; elapsed: 0.0049secs\n",
      "iteration [9]; kl:1419.621032; elapsed: 0.0049secs\n",
      "iteration [10]; kl:1407.996618; elapsed: 0.0051secs\n",
      "iteration [11]; kl:1396.617434; elapsed: 0.005secs\n",
      "iteration [12]; kl:1385.465296; elapsed: 0.0048secs\n",
      "iteration [13]; kl:1372.859612; elapsed: 0.005secs\n",
      "iteration [14]; kl:1363.901708; elapsed: 0.005secs\n",
      "iteration [15]; kl:1355.687501; elapsed: 0.0048secs\n",
      "iteration [16]; kl:260.700177; elapsed: 0.005secs\n",
      "iteration [17]; kl:1362.587706; elapsed: 0.005secs\n",
      "iteration [18]; kl:1351.750909; elapsed: 0.0058secs\n",
      "iteration [19]; kl:1308.72895; elapsed: 0.0052secs\n",
      "iteration [20]; kl:1318.705313; elapsed: 0.0054secs\n",
      "iteration [21]; kl:1152.40276; elapsed: 0.0052secs\n",
      "iteration [22]; kl:1356.824153; elapsed: 0.0052secs\n",
      "iteration [23]; kl:1346.160023; elapsed: 0.0048secs\n",
      "iteration [24]; kl:-25973.276453; elapsed: 0.0049secs\n",
      "iteration [25]; kl:1350.92696; elapsed: 0.0049secs\n",
      "iteration [26]; kl:1239.091601; elapsed: 0.0048secs\n",
      "iteration [27]; kl:1348.451284; elapsed: 0.0048secs\n",
      "iteration [28]; kl:1345.952073; elapsed: 0.005secs\n",
      "iteration [29]; kl:1338.35894; elapsed: 0.005secs\n",
      "iteration [30]; kl:-24145.186076; elapsed: 0.005secs\n",
      "iteration [31]; kl:1338.433257; elapsed: 0.0052secs\n",
      "iteration [32]; kl:1348.963243; elapsed: 0.0053secs\n",
      "iteration [33]; kl:1009.677471; elapsed: 0.0053secs\n",
      "iteration [34]; kl:-1332.504707; elapsed: 0.0052secs\n",
      "iteration [35]; kl:1360.822002; elapsed: 0.0054secs\n",
      "iteration [36]; kl:1355.19346; elapsed: 0.005secs\n",
      "iteration [37]; kl:1350.937445; elapsed: 0.0053secs\n",
      "iteration [38]; kl:1343.08574; elapsed: 0.0054secs\n",
      "iteration [39]; kl:1302.274154; elapsed: 0.0052secs\n",
      "iteration [40]; kl:1352.884954; elapsed: 0.0052secs\n",
      "iteration [41]; kl:1333.762751; elapsed: 0.0049secs\n",
      "iteration [42]; kl:1339.817942; elapsed: 0.0049secs\n",
      "iteration [43]; kl:1352.605149; elapsed: 0.0052secs\n",
      "iteration [44]; kl:1357.01786; elapsed: 0.0053secs\n",
      "iteration [45]; kl:1350.973287; elapsed: 0.0053secs\n",
      "iteration [46]; kl:1343.430876; elapsed: 0.0051secs\n",
      "iteration [47]; kl:1355.222969; elapsed: 0.0048secs\n",
      "iteration [48]; kl:1352.124925; elapsed: 0.0053secs\n",
      "iteration [49]; kl:1347.817066; elapsed: 0.0055secs\n",
      "iteration [50]; kl:1303.989891; elapsed: 0.0051secs\n",
      "iteration [51]; kl:985.505948; elapsed: 0.0054secs\n",
      "iteration [52]; kl:1350.64206; elapsed: 0.0085secs\n",
      "iteration [53]; kl:1343.247377; elapsed: 0.0054secs\n",
      "iteration [54]; kl:1346.890763; elapsed: 0.0054secs\n",
      "iteration [55]; kl:1348.213208; elapsed: 0.0056secs\n",
      "iteration [56]; kl:1342.657016; elapsed: 0.0052secs\n",
      "iteration [57]; kl:1315.817425; elapsed: 0.0055secs\n",
      "iteration [58]; kl:1347.181671; elapsed: 0.0055secs\n",
      "iteration [59]; kl:1345.730945; elapsed: 0.0049secs\n",
      "iteration [60]; kl:1346.88175; elapsed: 0.0048secs\n",
      "iteration [61]; kl:1336.867335; elapsed: 0.0049secs\n",
      "iteration [62]; kl:1350.61324; elapsed: 0.0052secs\n",
      "iteration [63]; kl:1338.720423; elapsed: 0.0053secs\n",
      "iteration [64]; kl:1342.105493; elapsed: 0.0048secs\n",
      "iteration [65]; kl:1338.563851; elapsed: 0.005secs\n",
      "iteration [66]; kl:1332.280203; elapsed: 0.0053secs\n",
      "iteration [67]; kl:1344.115436; elapsed: 0.0052secs\n",
      "iteration [68]; kl:1343.208664; elapsed: 0.0053secs\n",
      "iteration [69]; kl:1337.105219; elapsed: 0.0051secs\n",
      "iteration [70]; kl:1307.237598; elapsed: 0.0049secs\n",
      "iteration [71]; kl:1348.278983; elapsed: 0.0049secs\n",
      "iteration [72]; kl:1343.233393; elapsed: 0.0049secs\n",
      "iteration [73]; kl:1340.974721; elapsed: 0.005secs\n",
      "iteration [74]; kl:1340.288619; elapsed: 0.005secs\n",
      "iteration [75]; kl:1302.915712; elapsed: 0.005secs\n",
      "iteration [76]; kl:-57408.676823; elapsed: 0.005secs\n",
      "iteration [77]; kl:1339.990965; elapsed: 0.005secs\n",
      "iteration [78]; kl:1362.929023; elapsed: 0.005secs\n",
      "iteration [79]; kl:1361.265807; elapsed: 0.005secs\n",
      "iteration [80]; kl:1359.505327; elapsed: 0.0049secs\n",
      "iteration [81]; kl:1357.242915; elapsed: 0.0049secs\n",
      "iteration [82]; kl:-770.982873; elapsed: 0.0049secs\n",
      "iteration [83]; kl:1355.41752; elapsed: 0.005secs\n",
      "iteration [84]; kl:1353.253132; elapsed: 0.005secs\n",
      "iteration [85]; kl:1351.279975; elapsed: 0.0049secs\n",
      "iteration [86]; kl:1349.313016; elapsed: 0.005secs\n",
      "iteration [87]; kl:1347.180957; elapsed: 0.0049secs\n",
      "iteration [88]; kl:1344.504365; elapsed: 0.0047secs\n",
      "iteration [89]; kl:1339.244038; elapsed: 0.0049secs\n",
      "iteration [90]; kl:1333.200952; elapsed: 0.0048secs\n",
      "iteration [91]; kl:1345.474568; elapsed: 0.0048secs\n",
      "iteration [92]; kl:1343.135515; elapsed: 0.0048secs\n",
      "iteration [93]; kl:1335.050193; elapsed: 0.0049secs\n",
      "iteration [94]; kl:1337.756181; elapsed: 0.0048secs\n",
      "iteration [95]; kl:1319.068239; elapsed: 0.0048secs\n",
      "iteration [96]; kl:1334.719423; elapsed: 0.0048secs\n",
      "iteration [97]; kl:1336.296342; elapsed: 0.0048secs\n",
      "iteration [98]; kl:1336.616348; elapsed: 0.0051secs\n",
      "iteration [99]; kl:1334.827169; elapsed: 0.0054secs\n",
      "iteration [100]; kl:491.891089; elapsed: 0.005secs\n",
      "iteration [101]; kl:1345.433902; elapsed: 0.0049secs\n",
      "iteration [102]; kl:1339.008437; elapsed: 0.0049secs\n",
      "iteration [103]; kl:1346.629425; elapsed: 0.0048secs\n",
      "iteration [104]; kl:168.230383; elapsed: 0.005secs\n",
      "iteration [105]; kl:1347.876421; elapsed: 0.0051secs\n",
      "iteration [106]; kl:1345.337356; elapsed: 0.005secs\n",
      "iteration [107]; kl:1339.873822; elapsed: 0.0051secs\n",
      "iteration [108]; kl:1333.211884; elapsed: 0.0049secs\n",
      "iteration [109]; kl:1346.623017; elapsed: 0.0049secs\n",
      "iteration [110]; kl:1344.009008; elapsed: 0.0049secs\n",
      "iteration [111]; kl:1299.615906; elapsed: 0.0049secs\n",
      "iteration [112]; kl:1347.87135; elapsed: 0.0049secs\n",
      "iteration [113]; kl:1346.026471; elapsed: 0.0048secs\n",
      "iteration [114]; kl:1335.613849; elapsed: 0.0049secs\n",
      "iteration [115]; kl:1342.714846; elapsed: 0.005secs\n",
      "iteration [116]; kl:1344.67057; elapsed: 0.005secs\n",
      "iteration [117]; kl:1340.714088; elapsed: 0.0049secs\n",
      "iteration [118]; kl:1339.5838; elapsed: 0.005secs\n",
      "iteration [119]; kl:1313.627981; elapsed: 0.0049secs\n",
      "iteration [120]; kl:1338.270387; elapsed: 0.0048secs\n",
      "iteration [121]; kl:1336.918488; elapsed: 0.005secs\n",
      "iteration [122]; kl:1341.189307; elapsed: 0.0049secs\n",
      "iteration [123]; kl:1340.964147; elapsed: 0.005secs\n",
      "iteration [124]; kl:1342.879908; elapsed: 0.0048secs\n",
      "iteration [125]; kl:1338.44784; elapsed: 0.005secs\n",
      "iteration [126]; kl:1316.562754; elapsed: 0.005secs\n",
      "iteration [127]; kl:1347.688776; elapsed: 0.0049secs\n",
      "iteration [128]; kl:1346.024513; elapsed: 0.005secs\n",
      "iteration [129]; kl:1339.453302; elapsed: 0.0051secs\n",
      "iteration [130]; kl:1342.991885; elapsed: 0.0049secs\n",
      "iteration [131]; kl:1345.179103; elapsed: 0.0049secs\n",
      "iteration [132]; kl:1341.394925; elapsed: 0.0049secs\n",
      "iteration [133]; kl:1341.623618; elapsed: 0.005secs\n",
      "iteration [134]; kl:1344.04554; elapsed: 0.005secs\n",
      "iteration [135]; kl:1340.903646; elapsed: 0.0048secs\n",
      "iteration [136]; kl:1339.341585; elapsed: 0.0049secs\n",
      "iteration [137]; kl:1342.833; elapsed: 0.0049secs\n",
      "iteration [138]; kl:1340.454048; elapsed: 0.0049secs\n",
      "iteration [139]; kl:-4528.535452; elapsed: 0.005secs\n",
      "iteration [140]; kl:784.642486; elapsed: 0.0059secs\n",
      "iteration [141]; kl:1355.556; elapsed: 0.005secs\n",
      "iteration [142]; kl:1355.068084; elapsed: 0.005secs\n",
      "iteration [143]; kl:1354.535792; elapsed: 0.0049secs\n",
      "iteration [144]; kl:1353.862599; elapsed: 0.0049secs\n",
      "iteration [145]; kl:1352.872145; elapsed: 0.005secs\n",
      "iteration [146]; kl:1350.591908; elapsed: 0.0051secs\n",
      "iteration [147]; kl:1347.957286; elapsed: 0.0047secs\n",
      "iteration [148]; kl:1354.033177; elapsed: 0.0049secs\n",
      "iteration [149]; kl:1353.291338; elapsed: 0.0049secs\n",
      "iteration [150]; kl:1352.068021; elapsed: 0.0048secs\n",
      "iteration [151]; kl:1346.406573; elapsed: 0.0049secs\n",
      "iteration [152]; kl:1349.610856; elapsed: 0.0049secs\n",
      "iteration [153]; kl:1352.339559; elapsed: 0.0047secs\n",
      "iteration [154]; kl:1349.864375; elapsed: 0.0049secs\n",
      "iteration [155]; kl:1348.272708; elapsed: 0.0051secs\n",
      "iteration [156]; kl:1353.158145; elapsed: 0.0048secs\n",
      "iteration [157]; kl:1352.184012; elapsed: 0.0051secs\n",
      "iteration [158]; kl:1349.866172; elapsed: 0.0049secs\n",
      "iteration [159]; kl:1347.523546; elapsed: 0.0053secs\n",
      "iteration [160]; kl:1353.307879; elapsed: 0.0048secs\n",
      "iteration [161]; kl:1352.552997; elapsed: 0.0051secs\n",
      "iteration [162]; kl:1351.207024; elapsed: 0.005secs\n",
      "iteration [163]; kl:-4830.973263; elapsed: 0.0049secs\n",
      "iteration [164]; kl:1349.204458; elapsed: 0.0048secs\n",
      "iteration [165]; kl:1348.948393; elapsed: 0.0051secs\n",
      "iteration [166]; kl:1348.726137; elapsed: 0.005secs\n",
      "iteration [167]; kl:1348.506373; elapsed: 0.0049secs\n",
      "iteration [168]; kl:1348.286012; elapsed: 0.0048secs\n",
      "iteration [169]; kl:1348.064652; elapsed: 0.0048secs\n",
      "iteration [170]; kl:1347.842666; elapsed: 0.005secs\n",
      "iteration [171]; kl:1347.621133; elapsed: 0.005secs\n",
      "iteration [172]; kl:1347.401629; elapsed: 0.0048secs\n",
      "iteration [173]; kl:1347.185346; elapsed: 0.0048secs\n",
      "iteration [174]; kl:1346.971761; elapsed: 0.0049secs\n",
      "iteration [175]; kl:1346.758163; elapsed: 0.0049secs\n",
      "iteration [176]; kl:1346.5409; elapsed: 0.0049secs\n",
      "iteration [177]; kl:1346.316886; elapsed: 0.0049secs\n",
      "iteration [178]; kl:1346.08393; elapsed: 0.0051secs\n",
      "iteration [179]; kl:1345.840208; elapsed: 0.005secs\n"
     ]
    },
    {
     "name": "stdout",
     "output_type": "stream",
     "text": [
      "iteration [180]; kl:1345.583685; elapsed: 0.0051secs\n",
      "iteration [181]; kl:1345.311622; elapsed: 0.0061secs\n",
      "iteration [182]; kl:1345.020051; elapsed: 0.005secs\n",
      "iteration [183]; kl:1344.70296; elapsed: 0.005secs\n",
      "iteration [184]; kl:1344.350766; elapsed: 0.0049secs\n",
      "iteration [185]; kl:1343.947126; elapsed: 0.005secs\n",
      "iteration [186]; kl:1343.461186; elapsed: 0.0051secs\n",
      "iteration [187]; kl:1342.824412; elapsed: 0.0052secs\n",
      "iteration [188]; kl:1341.831007; elapsed: 0.0049secs\n",
      "iteration [189]; kl:1338.986226; elapsed: 0.005secs\n",
      "iteration [190]; kl:1338.852599; elapsed: 0.0047secs\n",
      "iteration [191]; kl:1342.244887; elapsed: 0.0048secs\n",
      "iteration [192]; kl:1340.250649; elapsed: 0.0049secs\n",
      "iteration [193]; kl:1332.461445; elapsed: 0.005secs\n",
      "iteration [194]; kl:1345.021087; elapsed: 0.0049secs\n",
      "iteration [195]; kl:1344.555344; elapsed: 0.005secs\n",
      "iteration [196]; kl:1344.016908; elapsed: 0.0049secs\n",
      "iteration [197]; kl:1343.355823; elapsed: 0.0049secs\n",
      "iteration [198]; kl:1342.449244; elapsed: 0.0049secs\n",
      "iteration [199]; kl:1340.814828; elapsed: 0.005secs\n",
      "iteration [200]; kl:1182.041988; elapsed: 0.005secs\n",
      "iteration [201]; kl:1348.8267; elapsed: 0.0049secs\n",
      "iteration [202]; kl:1348.659239; elapsed: 0.0048secs\n",
      "iteration [203]; kl:1348.470979; elapsed: 0.005secs\n",
      "iteration [204]; kl:1348.262987; elapsed: 0.0052secs\n",
      "iteration [205]; kl:1348.037289; elapsed: 0.0054secs\n",
      "iteration [206]; kl:1347.796905; elapsed: 0.005secs\n",
      "iteration [207]; kl:1347.54619; elapsed: 0.005secs\n",
      "iteration [208]; kl:1347.290673; elapsed: 0.005secs\n",
      "iteration [209]; kl:1347.036568; elapsed: 0.005secs\n",
      "iteration [210]; kl:1346.790081; elapsed: 0.0049secs\n",
      "iteration [211]; kl:1346.556655; elapsed: 0.0051secs\n",
      "iteration [212]; kl:1346.340384; elapsed: 0.0051secs\n",
      "iteration [213]; kl:1346.143718; elapsed: 0.0048secs\n",
      "iteration [214]; kl:1345.967537; elapsed: 0.005secs\n",
      "iteration [215]; kl:1345.811551; elapsed: 0.0049secs\n",
      "iteration [216]; kl:1345.674942; elapsed: 0.0056secs\n",
      "iteration [217]; kl:1345.557235; elapsed: 0.0052secs\n",
      "iteration [218]; kl:1345.459304; elapsed: 0.0056secs\n",
      "iteration [219]; kl:1345.383891; elapsed: 0.0052secs\n",
      "iteration [220]; kl:1345.333934; elapsed: 0.0053secs\n",
      "iteration [221]; kl:1345.30792; elapsed: 0.0058secs\n",
      "iteration [222]; kl:1345.297894; elapsed: 0.005secs\n",
      "iteration [223]; kl:1345.29497; elapsed: 0.005secs\n",
      "iteration [224]; kl:1345.294242; elapsed: 0.0049secs\n",
      "iteration [225]; kl:1345.294044; elapsed: 0.005secs\n",
      "iteration [226]; kl:1345.29396; elapsed: 0.0049secs\n",
      "iteration [227]; kl:1345.293903; elapsed: 0.0048secs\n",
      "iteration [228]; kl:1345.293853; elapsed: 0.0049secs\n",
      "iteration [229]; kl:1345.293809; elapsed: 0.005secs\n",
      "iteration [230]; kl:1345.293768; elapsed: 0.0051secs\n",
      "iteration [231]; kl:1345.29373; elapsed: 0.0049secs\n",
      "iteration [232]; kl:1345.293695; elapsed: 0.0049secs\n",
      "iteration [233]; kl:1345.293662; elapsed: 0.0049secs\n",
      "iteration [234]; kl:1345.293632; elapsed: 0.0049secs\n",
      "iteration [235]; kl:1345.293604; elapsed: 0.0049secs\n",
      "iteration [236]; kl:1345.293578; elapsed: 0.0049secs\n",
      "iteration [237]; kl:1345.293554; elapsed: 0.0049secs\n",
      "iteration [238]; kl:1345.293531; elapsed: 0.0049secs\n",
      "iteration [239]; kl:1345.293509; elapsed: 0.0051secs\n",
      "iteration [240]; kl:1345.293489; elapsed: 0.0049secs\n",
      "iteration [241]; kl:1345.293471; elapsed: 0.0049secs\n",
      "iteration [242]; kl:1345.293453; elapsed: 0.0049secs\n",
      "iteration [243]; kl:1345.293436; elapsed: 0.005secs\n",
      "iteration [244]; kl:1345.293421; elapsed: 0.0048secs\n",
      "iteration [245]; kl:1345.293406; elapsed: 0.005secs\n",
      "iteration [246]; kl:1345.293392; elapsed: 0.0051secs\n",
      "CAVI done.\n",
      "Elapsed: 246 steps in 1.35 seconds\n"
     ]
    }
   ],
   "source": [
    "foo = cavi_lib.run_cavi(g_obs, vb_params_dict,\n",
    "                vb_params_paragami,\n",
    "                prior_params_dict, \n",
    "                use_bnp_prior = use_bnp_prior,\n",
    "                debug = True)"
   ]
  },
  {
   "cell_type": "code",
   "execution_count": 65,
   "metadata": {},
   "outputs": [],
   "source": [
    "import vb_lib.plotting_utils as plotting_utils"
   ]
  },
  {
   "cell_type": "code",
   "execution_count": 66,
   "metadata": {},
   "outputs": [],
   "source": [
    "b = plotting_utils.get_vb_expectations(foo[0])[1]"
   ]
  },
  {
   "cell_type": "code",
   "execution_count": 67,
   "metadata": {},
   "outputs": [
    {
     "data": {
      "image/png": "[encoded data removed]",
      "text/plain": [
       "<Figure size 360x216 with 1 Axes>"
      ]
     },
     "metadata": {
      "needs_background": "light"
     },
     "output_type": "display_data"
    }
   ],
   "source": [
    "plotting_utils.plot_admixture(b, 'foo')"
   ]
  },
  {
   "cell_type": "code",
   "execution_count": 68,
   "metadata": {},
   "outputs": [
    {
     "data": {
      "text/plain": [
       "DeviceArray([[0.52406918, 0.88914432, 0.38220915],\n",
       "             [0.52359033, 0.30355204, 0.36687398],\n",
       "             [0.52358061, 0.49119477, 0.23230164],\n",
       "             [0.52459251, 0.93795644, 0.37148539],\n",
       "             [0.52372199, 0.37037886, 0.63831945],\n",
       "             [0.52390001, 0.56699148, 0.84657135],\n",
       "             [0.52358612, 0.17279981, 0.72272331],\n",
       "             [0.52357399, 0.35144265, 0.3410362 ],\n",
       "             [0.52340731, 0.45949359, 0.15047138],\n",
       "             [0.52367858, 0.53912765, 0.37737804],\n",
       "             [0.52364572, 0.30160439, 0.53605435],\n",
       "             [0.52508783, 0.93201406, 0.92925276],\n",
       "             [0.52405472, 0.26965934, 0.91341434],\n",
       "             [0.52395073, 0.82970029, 0.6728091 ],\n",
       "             [0.52375347, 0.36175896, 0.78194177],\n",
       "             [0.52380956, 0.7805416 , 0.44967549],\n",
       "             [0.52362662, 0.55722529, 0.3352773 ],\n",
       "             [0.52383146, 0.76900779, 0.60562019],\n",
       "             [0.52370685, 0.70971747, 0.35072283],\n",
       "             [0.52371472, 0.67392273, 0.34509165],\n",
       "             [0.52349246, 0.35240499, 0.23652365],\n",
       "             [0.52358967, 0.45228304, 0.39125573],\n",
       "             [0.52338834, 0.11732025, 0.70596884],\n",
       "             [0.52370869, 0.25090408, 0.79754283],\n",
       "             [0.52386185, 0.81601953, 0.47239827],\n",
       "             [0.52376046, 0.82036384, 0.26397602],\n",
       "             [0.5238537 , 0.75132836, 0.54431174],\n",
       "             [0.52346726, 0.14802508, 0.64781544],\n",
       "             [0.52378053, 0.71017899, 0.52751348],\n",
       "             [0.5237417 , 0.2952191 , 0.73770975],\n",
       "             [0.52347458, 0.17501545, 0.43606203],\n",
       "             [0.52385817, 0.40786923, 0.83412566],\n",
       "             [0.52361678, 0.46019077, 0.35280546],\n",
       "             [0.52378827, 0.66693994, 0.65633405],\n",
       "             [0.52362585, 0.67604382, 0.24689558],\n",
       "             [0.52384954, 0.64543363, 0.7367676 ],\n",
       "             [0.52438516, 0.92385289, 0.44132845],\n",
       "             [0.52422923, 0.91166688, 0.49421384],\n",
       "             [0.52372633, 0.82308131, 0.22832239],\n",
       "             [0.52367865, 0.28941414, 0.62590139],\n",
       "             [0.52346395, 0.42002006, 0.16624169],\n",
       "             [0.52370199, 0.3413463 , 0.61998736],\n",
       "             [0.52372285, 0.52142847, 0.56120728],\n",
       "             [0.52372402, 0.42175387, 0.68426667],\n",
       "             [0.52344756, 0.19476876, 0.32128361],\n",
       "             [0.52366965, 0.3449986 , 0.58381072],\n",
       "             [0.52332495, 0.23851666, 0.15970577],\n",
       "             [0.5236611 , 0.27397082, 0.62843806],\n",
       "             [0.52342984, 0.20363883, 0.21264704],\n",
       "             [0.52372205, 0.71191297, 0.3888072 ]], dtype=float64)"
      ]
     },
     "execution_count": 68,
     "metadata": {},
     "output_type": "execute_result"
    }
   ],
   "source": [
    "b"
   ]
  },
  {
   "cell_type": "code",
   "execution_count": null,
   "metadata": {},
   "outputs": [],
   "source": []
  }
 ],
 "metadata": {
  "kernelspec": {
   "display_name": "bnp_sensitivity_jax",
   "language": "python",
   "name": "bnp_sensitivity_jax"
  },
  "language_info": {
   "codemirror_mode": {
    "name": "ipython",
    "version": 3
   },
   "file_extension": ".py",
   "mimetype": "text/x-python",
   "name": "python",
   "nbconvert_exporter": "python",
   "pygments_lexer": "ipython3",
   "version": "3.8.0"
  }
 },
 "nbformat": 4,
 "nbformat_minor": 4
}
