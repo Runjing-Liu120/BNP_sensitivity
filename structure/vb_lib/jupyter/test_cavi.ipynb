{
 "cells": [
  {
   "cell_type": "code",
   "execution_count": 1,
   "metadata": {},
   "outputs": [
    {
     "name": "stderr",
     "output_type": "stream",
     "text": [
      "/accounts/grad/runjing_liu/.conda/envs/bnp_sensitivity_jax/lib/python3.8/site-packages/jax/lib/xla_bridge.py:130: UserWarning: No GPU/TPU found, falling back to CPU.\n",
      "  warnings.warn('No GPU/TPU found, falling back to CPU.')\n"
     ]
    }
   ],
   "source": [
    "import jax\n",
    "\n",
    "import jax.numpy as np\n",
    "import jax.scipy as sp\n",
    "\n",
    "from numpy.polynomial.hermite import hermgauss\n",
    "import scipy as osp\n",
    "\n",
    "from vb_lib import structure_model_lib, data_utils, cavi_lib\n",
    "from vb_lib.preconditioner_lib import get_mfvb_cov_matmul\n",
    "from bnpmodeling_runjingdev.sensitivity_lib import HyperparameterSensitivityLinearApproximation, get_jac_hvp_fun\n",
    "\n",
    "import paragami\n",
    "\n",
    "from copy import deepcopy\n",
    "\n",
    "import time\n",
    "\n",
    "import matplotlib.pyplot as plt\n",
    "%matplotlib inline  \n",
    "\n",
    "from bnpmodeling_runjingdev import cluster_quantities_lib, modeling_lib\n"
   ]
  },
  {
   "cell_type": "code",
   "execution_count": 2,
   "metadata": {},
   "outputs": [],
   "source": [
    "import numpy as onp\n",
    "onp.random.seed(53453)"
   ]
  },
  {
   "cell_type": "markdown",
   "metadata": {},
   "source": [
    "# Load data"
   ]
  },
  {
   "cell_type": "code",
   "execution_count": 3,
   "metadata": {},
   "outputs": [],
   "source": [
    "use_simulated = True\n",
    "\n",
    "if use_simulated: \n",
    "    data = np.load('../simulated_data/simulated_structure_data_nobs20_nloci50_npop4.npz')\n",
    "    g_obs = np.array(data['g_obs'])\n",
    "else: \n",
    "    data_dir = '../../../../fastStructure/hgdp_data/huang2011_plink_files/'\n",
    "    filenamebase = 'phased_HGDP+India+Africa_2810SNPs-regions1to36'\n",
    "    filename = data_dir + filenamebase + '.npz'\n",
    "    data = np.load(filename)\n",
    "\n",
    "    g_obs = np.array(data['g_obs'])\n",
    "    g_obs_raw = np.array(data['g_obs_raw'])\n",
    "\n",
    "    # just checking ... \n",
    "    which_missing = (g_obs_raw == 3)\n",
    "    (g_obs.argmax(-1) == g_obs_raw)[~which_missing].all()\n",
    "    (g_obs[which_missing] == 0).all()"
   ]
  },
  {
   "cell_type": "code",
   "execution_count": 4,
   "metadata": {},
   "outputs": [],
   "source": [
    "n_obs = g_obs.shape[0]\n",
    "n_loci = g_obs.shape[1]"
   ]
  },
  {
   "cell_type": "code",
   "execution_count": 5,
   "metadata": {},
   "outputs": [
    {
     "name": "stdout",
     "output_type": "stream",
     "text": [
      "20\n",
      "50\n"
     ]
    }
   ],
   "source": [
    "print(n_obs)\n",
    "print(n_loci)"
   ]
  },
  {
   "cell_type": "markdown",
   "metadata": {},
   "source": [
    "# Get prior"
   ]
  },
  {
   "cell_type": "code",
   "execution_count": 6,
   "metadata": {},
   "outputs": [
    {
     "name": "stdout",
     "output_type": "stream",
     "text": [
      "OrderedDict([('dp_prior_alpha', DeviceArray([2.59776136], dtype=float64)), ('allele_prior_alpha', DeviceArray([1.15564526], dtype=float64)), ('allele_prior_beta', DeviceArray([1.0515046], dtype=float64))])\n"
     ]
    }
   ],
   "source": [
    "_, prior_params_paragami = \\\n",
    "    structure_model_lib.get_default_prior_params()\n",
    "\n",
    "prior_params_dict = prior_params_paragami.random(key=jax.random.PRNGKey(41))\n",
    "prior_params_free = prior_params_paragami.flatten(prior_params_dict, free = True)\n",
    "\n",
    "print(prior_params_dict)"
   ]
  },
  {
   "cell_type": "markdown",
   "metadata": {},
   "source": [
    "# Get VB params "
   ]
  },
  {
   "cell_type": "code",
   "execution_count": 7,
   "metadata": {},
   "outputs": [],
   "source": [
    "k_approx = 15"
   ]
  },
  {
   "cell_type": "code",
   "execution_count": 8,
   "metadata": {},
   "outputs": [],
   "source": [
    "gh_deg = 8\n",
    "gh_loc, gh_weights = hermgauss(8)"
   ]
  },
  {
   "cell_type": "code",
   "execution_count": 9,
   "metadata": {
    "scrolled": true
   },
   "outputs": [
    {
     "name": "stdout",
     "output_type": "stream",
     "text": [
      "OrderedDict:\n",
      "\t[pop_freq_beta_params] = NumericArrayPattern (50, 15, 2) (lb=0.0, ub=inf)\n",
      "\t[ind_admix_params] = OrderedDict:\n",
      "\t[stick_beta] = NumericArrayPattern (20, 14, 2) (lb=0.0, ub=inf)\n"
     ]
    }
   ],
   "source": [
    "use_logitnormal_sticks = False\n",
    "\n",
    "_, vb_params_paragami = \\\n",
    "    structure_model_lib.get_vb_params_paragami_object(n_obs, n_loci, k_approx,\n",
    "                                    use_logitnormal_sticks = use_logitnormal_sticks)\n",
    "    \n",
    "print(vb_params_paragami)"
   ]
  },
  {
   "cell_type": "code",
   "execution_count": 10,
   "metadata": {},
   "outputs": [],
   "source": [
    "vb_params_dict = vb_params_paragami.random(key=jax.random.PRNGKey(41))"
   ]
  },
  {
   "cell_type": "markdown",
   "metadata": {},
   "source": [
    "# Get moments from vb parameters"
   ]
  },
  {
   "cell_type": "code",
   "execution_count": 11,
   "metadata": {},
   "outputs": [],
   "source": [
    "dp_prior_alpha = prior_params_dict['dp_prior_alpha']\n",
    "allele_prior_alpha = prior_params_dict['allele_prior_alpha']\n",
    "allele_prior_beta = prior_params_dict['allele_prior_beta']\n",
    "\n",
    "# get initial moments from vb_params\n",
    "e_log_sticks, e_log_1m_sticks, \\\n",
    "    e_log_pop_freq, e_log_1m_pop_freq = \\\n",
    "        structure_model_lib.get_moments_from_vb_params_dict(\n",
    "            vb_params_dict, gh_loc, gh_weights)\n",
    "\n",
    "e_log_cluster_probs = \\\n",
    "        modeling_lib.get_e_log_cluster_probabilities_from_e_log_stick(\n",
    "            e_log_sticks, e_log_1m_sticks)"
   ]
  },
  {
   "cell_type": "markdown",
   "metadata": {},
   "source": [
    "# Population beta update"
   ]
  },
  {
   "cell_type": "code",
   "execution_count": 12,
   "metadata": {},
   "outputs": [],
   "source": [
    "update_pop_beta = jax.jit(cavi_lib.update_pop_beta)"
   ]
  },
  {
   "cell_type": "code",
   "execution_count": 13,
   "metadata": {},
   "outputs": [],
   "source": [
    "beta_param_update = update_pop_beta(g_obs, e_log_pop_freq, e_log_1m_pop_freq, \n",
    "                                        e_log_cluster_probs, prior_params_dict)"
   ]
  },
  {
   "cell_type": "markdown",
   "metadata": {},
   "source": [
    "### check against autograd"
   ]
  },
  {
   "cell_type": "code",
   "execution_count": 14,
   "metadata": {},
   "outputs": [],
   "source": [
    "get_pop_beta_update1_ag = jax.jit(cavi_lib.get_pop_beta_update1_ag)\n",
    "get_pop_beta_update2_ag = jax.jit(cavi_lib.get_pop_beta_update2_ag)"
   ]
  },
  {
   "cell_type": "code",
   "execution_count": 15,
   "metadata": {},
   "outputs": [],
   "source": [
    "beta_update1 = get_pop_beta_update1_ag(g_obs,\n",
    "                                    e_log_pop_freq, e_log_1m_pop_freq,\n",
    "                                    e_log_sticks, e_log_1m_sticks,\n",
    "                                    dp_prior_alpha, allele_prior_alpha,\n",
    "                                    allele_prior_beta).block_until_ready()"
   ]
  },
  {
   "cell_type": "code",
   "execution_count": 16,
   "metadata": {},
   "outputs": [],
   "source": [
    "beta_update2 = get_pop_beta_update2_ag(g_obs,\n",
    "                                    e_log_pop_freq, e_log_1m_pop_freq,\n",
    "                                    e_log_sticks, e_log_1m_sticks,\n",
    "                                    dp_prior_alpha, allele_prior_alpha,\n",
    "                                    allele_prior_beta).block_until_ready()"
   ]
  },
  {
   "cell_type": "code",
   "execution_count": 17,
   "metadata": {
    "scrolled": true
   },
   "outputs": [
    {
     "data": {
      "text/plain": [
       "DeviceArray(7.10542736e-15, dtype=float64)"
      ]
     },
     "execution_count": 17,
     "metadata": {},
     "output_type": "execute_result"
    }
   ],
   "source": [
    "np.abs(beta_param_update[0][:, :, 0] - 1 - beta_update1).max()"
   ]
  },
  {
   "cell_type": "code",
   "execution_count": 18,
   "metadata": {},
   "outputs": [
    {
     "data": {
      "text/plain": [
       "DeviceArray(7.10542736e-15, dtype=float64)"
      ]
     },
     "execution_count": 18,
     "metadata": {},
     "output_type": "execute_result"
    }
   ],
   "source": [
    "np.abs(beta_param_update[0][:, :, 1] - 1 - beta_update2).max()"
   ]
  },
  {
   "cell_type": "markdown",
   "metadata": {},
   "source": [
    "### Timing\n",
    "\n",
    "It should be faster than the autograd updates ... otherwise why not just use autograd updates"
   ]
  },
  {
   "cell_type": "code",
   "execution_count": 19,
   "metadata": {},
   "outputs": [
    {
     "name": "stdout",
     "output_type": "stream",
     "text": [
      "0.006921052932739258\n"
     ]
    }
   ],
   "source": [
    "t0 = time.time() \n",
    "\n",
    "_ = get_pop_beta_update1_ag(g_obs,\n",
    "                            e_log_pop_freq, e_log_1m_pop_freq,\n",
    "                            e_log_sticks, e_log_1m_sticks,\n",
    "                            dp_prior_alpha, allele_prior_alpha,\n",
    "                            allele_prior_beta).block_until_ready()\n",
    "\n",
    "_ = get_pop_beta_update2_ag(g_obs,\n",
    "                            e_log_pop_freq, e_log_1m_pop_freq,\n",
    "                            e_log_sticks, e_log_1m_sticks,\n",
    "                            dp_prior_alpha, allele_prior_alpha,\n",
    "                            allele_prior_beta).block_until_ready()\n",
    "\n",
    "print(time.time() - t0)"
   ]
  },
  {
   "cell_type": "code",
   "execution_count": 20,
   "metadata": {},
   "outputs": [
    {
     "name": "stdout",
     "output_type": "stream",
     "text": [
      "0.0025556087493896484\n"
     ]
    }
   ],
   "source": [
    "t0 = time.time() \n",
    "\n",
    "out = update_pop_beta(g_obs, e_log_pop_freq, e_log_1m_pop_freq, \n",
    "                        e_log_cluster_probs, prior_params_dict)\n",
    "\n",
    "out[0].block_until_ready()\n",
    "print(time.time() - t0)"
   ]
  },
  {
   "cell_type": "code",
   "execution_count": null,
   "metadata": {},
   "outputs": [],
   "source": []
  },
  {
   "cell_type": "markdown",
   "metadata": {},
   "source": [
    "# Admixture stick updates"
   ]
  },
  {
   "cell_type": "code",
   "execution_count": 21,
   "metadata": {},
   "outputs": [],
   "source": [
    "update_ind_admix_beta = jax.jit(cavi_lib.update_ind_admix_beta)"
   ]
  },
  {
   "cell_type": "code",
   "execution_count": 22,
   "metadata": {},
   "outputs": [],
   "source": [
    "ind_admix_beta_update = update_ind_admix_beta(g_obs, e_log_pop_freq, e_log_1m_pop_freq, \n",
    "                            e_log_cluster_probs, prior_params_dict)"
   ]
  },
  {
   "cell_type": "code",
   "execution_count": 23,
   "metadata": {},
   "outputs": [],
   "source": [
    "get_stick_update1_ag = jax.jit(cavi_lib.get_stick_update1_ag)\n",
    "get_stick_update2_ag = jax.jit(cavi_lib.get_stick_update2_ag)"
   ]
  },
  {
   "cell_type": "code",
   "execution_count": 24,
   "metadata": {},
   "outputs": [],
   "source": [
    "stick_update1 = get_stick_update1_ag(g_obs,\n",
    "                        e_log_pop_freq, e_log_1m_pop_freq,\n",
    "                        e_log_sticks, e_log_1m_sticks,\n",
    "                        dp_prior_alpha, allele_prior_alpha,\n",
    "                        allele_prior_beta)\n",
    "\n",
    "stick_update2 = get_stick_update2_ag(g_obs,\n",
    "                        e_log_pop_freq, e_log_1m_pop_freq,\n",
    "                        e_log_sticks, e_log_1m_sticks,\n",
    "                        dp_prior_alpha, allele_prior_alpha,\n",
    "                        allele_prior_beta)"
   ]
  },
  {
   "cell_type": "code",
   "execution_count": 25,
   "metadata": {},
   "outputs": [
    {
     "data": {
      "text/plain": [
       "DeviceArray(5.68434189e-14, dtype=float64)"
      ]
     },
     "execution_count": 25,
     "metadata": {},
     "output_type": "execute_result"
    }
   ],
   "source": [
    "np.abs(stick_update1 + 1 -  ind_admix_beta_update[0][:, :, 0]).max()"
   ]
  },
  {
   "cell_type": "code",
   "execution_count": 26,
   "metadata": {},
   "outputs": [
    {
     "data": {
      "text/plain": [
       "DeviceArray(1.42108547e-14, dtype=float64)"
      ]
     },
     "execution_count": 26,
     "metadata": {},
     "output_type": "execute_result"
    }
   ],
   "source": [
    "np.abs(stick_update2 + 1 - ind_admix_beta_update[0][:, :, 1]).max()"
   ]
  },
  {
   "cell_type": "markdown",
   "metadata": {},
   "source": [
    "### Timing\n",
    "\n",
    "It should be faster than the autograd updates ... otherwise why not just use autograd updates"
   ]
  },
  {
   "cell_type": "code",
   "execution_count": 27,
   "metadata": {},
   "outputs": [
    {
     "name": "stdout",
     "output_type": "stream",
     "text": [
      "0.008769750595092773\n"
     ]
    }
   ],
   "source": [
    "t0 = time.time() \n",
    "\n",
    "_ = get_stick_update1_ag(g_obs,\n",
    "                        e_log_pop_freq, e_log_1m_pop_freq,\n",
    "                        e_log_sticks, e_log_1m_sticks,\n",
    "                        dp_prior_alpha, allele_prior_alpha,\n",
    "                        allele_prior_beta).block_until_ready()\n",
    "\n",
    "_ = get_stick_update2_ag(g_obs,\n",
    "                        e_log_pop_freq, e_log_1m_pop_freq,\n",
    "                        e_log_sticks, e_log_1m_sticks,\n",
    "                        dp_prior_alpha, allele_prior_alpha,\n",
    "                        allele_prior_beta).block_until_ready()\n",
    "print(time.time() - t0)"
   ]
  },
  {
   "cell_type": "code",
   "execution_count": 28,
   "metadata": {},
   "outputs": [
    {
     "name": "stdout",
     "output_type": "stream",
     "text": [
      "0.0034830570220947266\n"
     ]
    }
   ],
   "source": [
    "t0 = time.time() \n",
    "\n",
    "out = update_ind_admix_beta(g_obs, e_log_pop_freq, e_log_1m_pop_freq, \n",
    "                            e_log_cluster_probs, prior_params_dict)\n",
    "out[0].block_until_ready()\n",
    "\n",
    "print(time.time() - t0)"
   ]
  },
  {
   "cell_type": "code",
   "execution_count": null,
   "metadata": {},
   "outputs": [],
   "source": []
  },
  {
   "cell_type": "code",
   "execution_count": 29,
   "metadata": {},
   "outputs": [
    {
     "name": "stdout",
     "output_type": "stream",
     "text": [
      "CAVI compile time: 2.67sec\n",
      "\n",
      " running CAVI ...\n",
      "iteration [1]; kl:2036.442476; elapsed: 0.0308secs\n"
     ]
    },
    {
     "ename": "NameError",
     "evalue": "name 'x_tol' is not defined",
     "output_type": "error",
     "traceback": [
      "\u001b[0;31m---------------------------------------------------------------------------\u001b[0m",
      "\u001b[0;31mNameError\u001b[0m                                 Traceback (most recent call last)",
      "\u001b[0;32m<ipython-input-29-0956283bb31e>\u001b[0m in \u001b[0;36m<module>\u001b[0;34m\u001b[0m\n\u001b[0;32m----> 1\u001b[0;31m cavi_lib.run_cavi(g_obs, vb_params_dict,\n\u001b[0m\u001b[1;32m      2\u001b[0m                 \u001b[0mvb_params_paragami\u001b[0m\u001b[0;34m,\u001b[0m\u001b[0;34m\u001b[0m\u001b[0;34m\u001b[0m\u001b[0m\n\u001b[1;32m      3\u001b[0m                 \u001b[0mprior_params_dict\u001b[0m\u001b[0;34m,\u001b[0m\u001b[0;34m\u001b[0m\u001b[0;34m\u001b[0m\u001b[0m\n\u001b[1;32m      4\u001b[0m                 debug = True)\n",
      "\u001b[0;32m~/.conda/envs/bnp_sensitivity_jax/lib/python3.8/site-packages/vb_lib/cavi_lib.py\u001b[0m in \u001b[0;36mrun_cavi\u001b[0;34m(g_obs, vb_params_dict, vb_params_paragami, prior_params_dict, f_tol, max_iter, print_every, debug)\u001b[0m\n\u001b[1;32m    228\u001b[0m         \u001b[0mx_diff\u001b[0m \u001b[0;34m=\u001b[0m \u001b[0mflatten_vb_params\u001b[0m\u001b[0;34m(\u001b[0m\u001b[0mvb_params_dict\u001b[0m\u001b[0;34m)\u001b[0m \u001b[0;34m-\u001b[0m \u001b[0mx_old\u001b[0m\u001b[0;34m\u001b[0m\u001b[0;34m\u001b[0m\u001b[0m\n\u001b[1;32m    229\u001b[0m \u001b[0;34m\u001b[0m\u001b[0m\n\u001b[0;32m--> 230\u001b[0;31m         \u001b[0;32mif\u001b[0m \u001b[0mnp\u001b[0m\u001b[0;34m.\u001b[0m\u001b[0mabs\u001b[0m\u001b[0;34m(\u001b[0m\u001b[0mx_diff\u001b[0m\u001b[0;34m)\u001b[0m\u001b[0;34m.\u001b[0m\u001b[0mmax\u001b[0m\u001b[0;34m(\u001b[0m\u001b[0;34m)\u001b[0m \u001b[0;34m<\u001b[0m \u001b[0mx_tol\u001b[0m\u001b[0;34m:\u001b[0m\u001b[0;34m\u001b[0m\u001b[0;34m\u001b[0m\u001b[0m\n\u001b[0m\u001b[1;32m    231\u001b[0m             \u001b[0mprint\u001b[0m\u001b[0;34m(\u001b[0m\u001b[0;34m'CAVI done.'\u001b[0m\u001b[0;34m)\u001b[0m\u001b[0;34m\u001b[0m\u001b[0;34m\u001b[0m\u001b[0m\n\u001b[1;32m    232\u001b[0m             \u001b[0;32mbreak\u001b[0m\u001b[0;34m\u001b[0m\u001b[0;34m\u001b[0m\u001b[0m\n",
      "\u001b[0;31mNameError\u001b[0m: name 'x_tol' is not defined"
     ]
    }
   ],
   "source": [
    "cavi_lib.run_cavi(g_obs, vb_params_dict,\n",
    "                vb_params_paragami,\n",
    "                prior_params_dict, \n",
    "                debug = True)"
   ]
  },
  {
   "cell_type": "code",
   "execution_count": null,
   "metadata": {},
   "outputs": [],
   "source": []
  },
  {
   "cell_type": "code",
   "execution_count": null,
   "metadata": {},
   "outputs": [],
   "source": []
  },
  {
   "cell_type": "code",
   "execution_count": null,
   "metadata": {},
   "outputs": [],
   "source": []
  }
 ],
 "metadata": {
  "kernelspec": {
   "display_name": "bnp_sensitivity_jax",
   "language": "python",
   "name": "bnp_sensitivity_jax"
  },
  "language_info": {
   "codemirror_mode": {
    "name": "ipython",
    "version": 3
   },
   "file_extension": ".py",
   "mimetype": "text/x-python",
   "name": "python",
   "nbconvert_exporter": "python",
   "pygments_lexer": "ipython3",
   "version": "3.8.0"
  }
 },
 "nbformat": 4,
 "nbformat_minor": 4
}
