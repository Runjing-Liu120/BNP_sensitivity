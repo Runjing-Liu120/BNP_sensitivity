{
 "cells": [
  {
   "cell_type": "code",
   "execution_count": 1,
   "metadata": {},
   "outputs": [
    {
     "name": "stderr",
     "output_type": "stream",
     "text": [
      "/accounts/grad/runjing_liu/.conda/envs/bnp_sensitivity_jax/lib/python3.8/site-packages/jax/lib/xla_bridge.py:130: UserWarning: No GPU/TPU found, falling back to CPU.\n",
      "  warnings.warn('No GPU/TPU found, falling back to CPU.')\n"
     ]
    }
   ],
   "source": [
    "import jax\n",
    "\n",
    "import jax.numpy as np\n",
    "import jax.scipy as sp\n",
    "\n",
    "from numpy.polynomial.hermite import hermgauss\n",
    "import scipy as osp\n",
    "\n",
    "from vb_lib import structure_model_lib, data_utils, cavi_lib\n",
    "from vb_lib.preconditioner_lib import get_mfvb_cov_matmul\n",
    "from bnpmodeling_runjingdev.sensitivity_lib import HyperparameterSensitivityLinearApproximation, get_jac_hvp_fun\n",
    "\n",
    "import paragami\n",
    "\n",
    "from copy import deepcopy\n",
    "\n",
    "import time\n",
    "\n",
    "import matplotlib.pyplot as plt\n",
    "%matplotlib inline  \n",
    "\n",
    "from bnpmodeling_runjingdev import cluster_quantities_lib, modeling_lib\n"
   ]
  },
  {
   "cell_type": "code",
   "execution_count": 2,
   "metadata": {},
   "outputs": [],
   "source": [
    "import numpy as onp\n",
    "onp.random.seed(53453)"
   ]
  },
  {
   "cell_type": "markdown",
   "metadata": {},
   "source": [
    "# Load data"
   ]
  },
  {
   "cell_type": "code",
   "execution_count": 6,
   "metadata": {},
   "outputs": [],
   "source": [
    "data = np.load('../simulated_data/simulated_structure_data_nobs20_nloci50_npop4.npz')\n",
    "g_obs = np.array(data['g_obs'])"
   ]
  },
  {
   "cell_type": "code",
   "execution_count": 7,
   "metadata": {},
   "outputs": [],
   "source": [
    "# data_dir = '../../../../fastStructure/hgdp_data/huang2011_plink_files/'\n",
    "# filenamebase = 'phased_HGDP+India+Africa_2810SNPs-regions1to36'\n",
    "# filename = data_dir + filenamebase + '.npz'\n",
    "# data = np.load(filename)\n",
    "\n",
    "# g_obs = np.array(data['g_obs'])\n",
    "# g_obs_raw = np.array(data['g_obs_raw'])\n",
    "\n",
    "# # just checking ... \n",
    "# which_missing = (g_obs_raw == 3)\n",
    "# (g_obs.argmax(-1) == g_obs_raw)[~which_missing].all()\n",
    "# (g_obs[which_missing] == 0).all()"
   ]
  },
  {
   "cell_type": "code",
   "execution_count": 8,
   "metadata": {},
   "outputs": [],
   "source": [
    "n_obs = g_obs.shape[0]\n",
    "n_loci = g_obs.shape[1]"
   ]
  },
  {
   "cell_type": "code",
   "execution_count": 9,
   "metadata": {},
   "outputs": [
    {
     "name": "stdout",
     "output_type": "stream",
     "text": [
      "20\n",
      "50\n"
     ]
    }
   ],
   "source": [
    "print(n_obs)\n",
    "print(n_loci)"
   ]
  },
  {
   "cell_type": "markdown",
   "metadata": {},
   "source": [
    "# Get prior"
   ]
  },
  {
   "cell_type": "code",
   "execution_count": 10,
   "metadata": {},
   "outputs": [
    {
     "name": "stdout",
     "output_type": "stream",
     "text": [
      "OrderedDict:\n",
      "\t[dp_prior_alpha] = NumericArrayPattern (1,) (lb=0.0, ub=inf)\n",
      "\t[allele_prior_alpha] = NumericArrayPattern (1,) (lb=0.0, ub=inf)\n",
      "\t[allele_prior_beta] = NumericArrayPattern (1,) (lb=0.0, ub=inf)\n"
     ]
    }
   ],
   "source": [
    "prior_params_dict, prior_params_paragami = \\\n",
    "    structure_model_lib.get_default_prior_params()\n",
    "\n",
    "print(prior_params_paragami)\n",
    "\n",
    "prior_params_free = prior_params_paragami.flatten(prior_params_dict, free = True)"
   ]
  },
  {
   "cell_type": "markdown",
   "metadata": {},
   "source": [
    "# Get VB params "
   ]
  },
  {
   "cell_type": "code",
   "execution_count": 11,
   "metadata": {},
   "outputs": [],
   "source": [
    "k_approx = 15"
   ]
  },
  {
   "cell_type": "code",
   "execution_count": 12,
   "metadata": {},
   "outputs": [],
   "source": [
    "gh_deg = 8\n",
    "gh_loc, gh_weights = hermgauss(8)"
   ]
  },
  {
   "cell_type": "code",
   "execution_count": 13,
   "metadata": {
    "scrolled": true
   },
   "outputs": [
    {
     "name": "stdout",
     "output_type": "stream",
     "text": [
      "OrderedDict:\n",
      "\t[pop_freq_beta_params] = NumericArrayPattern (50, 15, 2) (lb=0.0, ub=inf)\n",
      "\t[ind_admix_params] = OrderedDict:\n",
      "\t[stick_means] = NumericArrayPattern (20, 14) (lb=-inf, ub=inf)\n",
      "\t[stick_infos] = NumericArrayPattern (20, 14) (lb=0.0001, ub=inf)\n"
     ]
    }
   ],
   "source": [
    "use_logitnormal_sticks = True\n",
    "\n",
    "vb_params_dict, vb_params_paragami = \\\n",
    "    structure_model_lib.get_vb_params_paragami_object(n_obs, n_loci, k_approx,\n",
    "                                    use_logitnormal_sticks = use_logitnormal_sticks)\n",
    "    \n",
    "print(vb_params_paragami)"
   ]
  },
  {
   "cell_type": "code",
   "execution_count": 14,
   "metadata": {},
   "outputs": [],
   "source": [
    "vb_params_dict = vb_params_paragami.random(key=jax.random.PRNGKey(41))"
   ]
  },
  {
   "cell_type": "code",
   "execution_count": 15,
   "metadata": {},
   "outputs": [
    {
     "data": {
      "text/plain": [
       "DeviceArray(2770.31681219, dtype=float64)"
      ]
     },
     "execution_count": 15,
     "metadata": {},
     "output_type": "execute_result"
    }
   ],
   "source": [
    "structure_model_lib.get_kl(g_obs, vb_params_dict, prior_params_dict,\n",
    "                                    gh_loc, gh_weights)"
   ]
  },
  {
   "cell_type": "code",
   "execution_count": null,
   "metadata": {},
   "outputs": [],
   "source": []
  },
  {
   "cell_type": "markdown",
   "metadata": {},
   "source": [
    "# Optimize"
   ]
  },
  {
   "cell_type": "code",
   "execution_count": 16,
   "metadata": {},
   "outputs": [],
   "source": [
    "dp_prior_alpha = prior_params_dict['dp_prior_alpha']\n",
    "allele_prior_alpha = prior_params_dict['allele_prior_alpha']\n",
    "allele_prior_beta = prior_params_dict['allele_prior_beta']\n",
    "\n",
    "# get initial moments from vb_params\n",
    "e_log_sticks, e_log_1m_sticks, \\\n",
    "    e_log_pop_freq, e_log_1m_pop_freq = \\\n",
    "        structure_model_lib.get_moments_from_vb_params_dict(\n",
    "            vb_params_dict, gh_loc, gh_weights)"
   ]
  },
  {
   "cell_type": "code",
   "execution_count": 17,
   "metadata": {},
   "outputs": [],
   "source": [
    "get_pop_beta_update1_ad = jax.jit(cavi_lib.get_pop_beta_update1_ad)"
   ]
  },
  {
   "cell_type": "code",
   "execution_count": 48,
   "metadata": {},
   "outputs": [
    {
     "name": "stdout",
     "output_type": "stream",
     "text": [
      "0.006339550018310547\n"
     ]
    }
   ],
   "source": [
    "t0 = time.time()\n",
    "foo = get_pop_beta_update1_ad(g_obs,\n",
    "                    e_log_pop_freq, e_log_1m_pop_freq,\n",
    "                    e_log_sticks, e_log_1m_sticks,\n",
    "                    dp_prior_alpha, allele_prior_alpha,\n",
    "                    allele_prior_beta)\n",
    "foo[0].block_until_ready()\n",
    "print(time.time() - t0)"
   ]
  },
  {
   "cell_type": "code",
   "execution_count": 49,
   "metadata": {},
   "outputs": [
    {
     "data": {
      "text/plain": [
       "(20, 50, 3)"
      ]
     },
     "execution_count": 49,
     "metadata": {},
     "output_type": "execute_result"
    }
   ],
   "source": [
    "g_obs.shape"
   ]
  },
  {
   "cell_type": "code",
   "execution_count": 50,
   "metadata": {},
   "outputs": [],
   "source": [
    "e_log_cluster_probs = \\\n",
    "    modeling_lib.get_e_log_cluster_probabilities_from_e_log_stick(\n",
    "                        e_log_sticks, e_log_1m_sticks)"
   ]
  },
  {
   "cell_type": "code",
   "execution_count": 74,
   "metadata": {},
   "outputs": [],
   "source": [
    "l = 0"
   ]
  },
  {
   "cell_type": "code",
   "execution_count": 75,
   "metadata": {},
   "outputs": [],
   "source": [
    "g_obs_l = g_obs[:, l, :]\n",
    "\n",
    "g_obs_l0 = g_obs_l[:, 0]\n",
    "g_obs_l1 = g_obs_l[:, 1]\n",
    "g_obs_l2 = g_obs_l[:, 2]\n",
    "\n",
    "e_log_pop_freq_l = e_log_pop_freq[l, :]\n",
    "e_log_1m_pop_freq_l = e_log_1m_pop_freq[l, :]"
   ]
  },
  {
   "cell_type": "code",
   "execution_count": 76,
   "metadata": {},
   "outputs": [],
   "source": [
    "_, e_z_l = structure_model_lib.get_optimal_ezl(g_obs_l, e_log_pop_freq_l, e_log_1m_pop_freq_l,\n",
    "                                    e_log_cluster_probs)"
   ]
  },
  {
   "cell_type": "code",
   "execution_count": 81,
   "metadata": {},
   "outputs": [],
   "source": [
    "blah = (e_z_l[:, :, 0] * np.expand_dims(g_obs_l1, axis = 1) + \n",
    "        e_z_l[:, :, 1] * (np.expand_dims(g_obs_l1, axis = 1) + np.expand_dims(g_obs_l2, axis = 1))).sum(0)"
   ]
  },
  {
   "cell_type": "code",
   "execution_count": 84,
   "metadata": {},
   "outputs": [
    {
     "data": {
      "text/plain": [
       "DeviceArray([[[7.09434355e-01, 7.09434355e-01],\n",
       "              [1.89339206e-01, 1.89339206e-01],\n",
       "              [6.51591252e-02, 6.51591252e-02],\n",
       "              [2.99934224e-02, 2.99934224e-02],\n",
       "              [3.74931726e-03, 3.74931726e-03],\n",
       "              [1.57685390e-03, 1.57685390e-03],\n",
       "              [5.37403243e-04, 5.37403243e-04],\n",
       "              [9.79775284e-05, 9.79775284e-05],\n",
       "              [7.23491341e-05, 7.23491341e-05],\n",
       "              [2.65358532e-05, 2.65358532e-05],\n",
       "              [8.91222448e-06, 8.91222448e-06],\n",
       "              [2.59208564e-06, 2.59208564e-06],\n",
       "              [1.44922581e-06, 1.44922581e-06],\n",
       "              [2.86555985e-07, 2.86555985e-07],\n",
       "              [2.13999164e-07, 2.13999164e-07]],\n",
       "\n",
       "             [[5.50612252e-01, 5.50612252e-01],\n",
       "              [2.99819515e-01, 2.99819515e-01],\n",
       "              [1.16484244e-01, 1.16484244e-01],\n",
       "              [2.62057663e-02, 2.62057663e-02],\n",
       "              [3.37502576e-03, 3.37502576e-03],\n",
       "              [2.76814172e-03, 2.76814172e-03],\n",
       "              [4.90338630e-04, 4.90338630e-04],\n",
       "              [9.65406962e-05, 9.65406962e-05],\n",
       "              [9.31413934e-05, 9.31413934e-05],\n",
       "              [3.29366724e-05, 3.29366724e-05],\n",
       "              [1.72647715e-05, 1.72647715e-05],\n",
       "              [2.57063315e-06, 2.57063315e-06],\n",
       "              [1.67772798e-06, 1.67772798e-06],\n",
       "              [4.48689805e-07, 4.48689805e-07],\n",
       "              [1.35875174e-07, 1.35875174e-07]],\n",
       "\n",
       "             [[6.57687712e-01, 5.97087797e-01],\n",
       "              [2.27351064e-01, 2.12845893e-01],\n",
       "              [4.95263560e-02, 1.20113911e-01],\n",
       "              [3.10833946e-02, 4.75752528e-02],\n",
       "              [2.37164339e-02, 1.00845051e-02],\n",
       "              [6.45298179e-03, 9.53368552e-03],\n",
       "              [2.84914938e-03, 2.26627907e-03],\n",
       "              [1.09583906e-03, 2.97670850e-04],\n",
       "              [1.51292624e-04, 9.92235245e-05],\n",
       "              [4.52429705e-05, 5.92732716e-05],\n",
       "              [2.48853283e-05, 2.52058739e-05],\n",
       "              [1.12880853e-05, 4.20941748e-06],\n",
       "              [2.09771263e-06, 4.06865365e-06],\n",
       "              [1.39896961e-06, 2.00592373e-06],\n",
       "              [8.62901272e-07, 1.01918108e-06]],\n",
       "\n",
       "             [[7.68754447e-01, 7.18489459e-01],\n",
       "              [1.77076375e-01, 1.70664502e-01],\n",
       "              [3.45798400e-02, 8.63364532e-02],\n",
       "              [1.26043237e-02, 1.98603320e-02],\n",
       "              [4.76670009e-03, 2.08659096e-03],\n",
       "              [1.27806231e-03, 1.94386769e-03],\n",
       "              [5.40975103e-04, 4.42985733e-04],\n",
       "              [2.80033978e-04, 7.83095186e-05],\n",
       "              [8.67308639e-05, 5.85578143e-05],\n",
       "              [2.07569754e-05, 2.79953661e-05],\n",
       "              [6.67627699e-06, 6.96156728e-06],\n",
       "              [3.60897577e-06, 1.38547909e-06],\n",
       "              [9.02475670e-07, 1.80199891e-06],\n",
       "              [4.11864613e-07, 6.07959863e-07],\n",
       "              [1.55297132e-07, 1.88828686e-07]],\n",
       "\n",
       "             [[6.41824790e-01, 6.41824790e-01],\n",
       "              [1.78981397e-01, 1.78981397e-01],\n",
       "              [1.14150215e-01, 1.14150215e-01],\n",
       "              [4.77097474e-02, 4.77097474e-02],\n",
       "              [7.89034787e-03, 7.89034787e-03],\n",
       "              [7.32727757e-03, 7.32727757e-03],\n",
       "              [1.41050546e-03, 1.41050546e-03],\n",
       "              [2.74304799e-04, 2.74304799e-04],\n",
       "              [1.96711941e-04, 1.96711941e-04],\n",
       "              [1.58696530e-04, 1.58696530e-04],\n",
       "              [4.54444941e-05, 4.54444941e-05],\n",
       "              [1.14642561e-05, 1.14642561e-05],\n",
       "              [1.27481895e-05, 1.27481895e-05],\n",
       "              [3.83027448e-06, 3.83027448e-06],\n",
       "              [2.51866142e-06, 2.51866142e-06]],\n",
       "\n",
       "             [[7.61290841e-01, 7.61290841e-01],\n",
       "              [1.55355720e-01, 1.55355720e-01],\n",
       "              [3.51328254e-02, 3.51328254e-02],\n",
       "              [2.64473047e-02, 2.64473047e-02],\n",
       "              [1.72030418e-02, 1.72030418e-02],\n",
       "              [2.68373598e-03, 2.68373598e-03],\n",
       "              [9.27459463e-04, 9.27459463e-04],\n",
       "              [7.51815137e-04, 7.51815137e-04],\n",
       "              [1.31270164e-04, 1.31270164e-04],\n",
       "              [4.33201431e-05, 4.33201431e-05],\n",
       "              [1.72116247e-05, 1.72116247e-05],\n",
       "              [1.10575086e-05, 1.10575086e-05],\n",
       "              [2.58892738e-06, 2.58892738e-06],\n",
       "              [1.12615551e-06, 1.12615551e-06],\n",
       "              [6.82478530e-07, 6.82478530e-07]],\n",
       "\n",
       "             [[7.31379075e-01, 7.31379075e-01],\n",
       "              [1.76746521e-01, 1.76746521e-01],\n",
       "              [4.44953944e-02, 4.44953944e-02],\n",
       "              [2.90783917e-02, 2.90783917e-02],\n",
       "              [1.36131961e-02, 1.36131961e-02],\n",
       "              [2.90142467e-03, 2.90142467e-03],\n",
       "              [1.14238160e-03, 1.14238160e-03],\n",
       "              [5.27466063e-04, 5.27466063e-04],\n",
       "              [8.05833643e-05, 8.05833643e-05],\n",
       "              [1.80942418e-05, 1.80942418e-05],\n",
       "              [1.20906843e-05, 1.20906843e-05],\n",
       "              [4.49809085e-06, 4.49809085e-06],\n",
       "              [4.20674972e-07, 4.20674972e-07],\n",
       "              [3.15973504e-07, 3.15973504e-07],\n",
       "              [1.46647234e-07, 1.46647234e-07]],\n",
       "\n",
       "             [[6.90996381e-01, 6.90996381e-01],\n",
       "              [2.39891886e-01, 2.39891886e-01],\n",
       "              [4.07331156e-02, 4.07331156e-02],\n",
       "              [1.86839771e-02, 1.86839771e-02],\n",
       "              [6.93312015e-03, 6.93312015e-03],\n",
       "              [1.75863493e-03, 1.75863493e-03],\n",
       "              [4.75346462e-04, 4.75346462e-04],\n",
       "              [3.81633241e-04, 3.81633241e-04],\n",
       "              [9.35703616e-05, 9.35703616e-05],\n",
       "              [2.35307218e-05, 2.35307218e-05],\n",
       "              [1.35748526e-05, 1.35748526e-05],\n",
       "              [1.28143862e-05, 1.28143862e-05],\n",
       "              [1.29261723e-06, 1.29261723e-06],\n",
       "              [8.08236331e-07, 8.08236331e-07],\n",
       "              [3.13830613e-07, 3.13830613e-07]],\n",
       "\n",
       "             [[6.56114253e-01, 6.56114253e-01],\n",
       "              [1.76500920e-01, 1.76500920e-01],\n",
       "              [1.04856460e-01, 1.04856460e-01],\n",
       "              [4.41990154e-02, 4.41990154e-02],\n",
       "              [1.01224637e-02, 1.01224637e-02],\n",
       "              [5.58760564e-03, 5.58760564e-03],\n",
       "              [1.97107229e-03, 1.97107229e-03],\n",
       "              [3.13316658e-04, 3.13316658e-04],\n",
       "              [2.20673806e-04, 2.20673806e-04],\n",
       "              [7.60111554e-05, 7.60111554e-05],\n",
       "              [2.75703511e-05, 2.75703511e-05],\n",
       "              [6.13116016e-06, 6.13116016e-06],\n",
       "              [2.45128258e-06, 2.45128258e-06],\n",
       "              [1.52579604e-06, 1.52579604e-06],\n",
       "              [5.29667334e-07, 5.29667334e-07]],\n",
       "\n",
       "             [[5.78411885e-01, 5.78411885e-01],\n",
       "              [2.96675105e-01, 2.96675105e-01],\n",
       "              [7.84435514e-02, 7.84435514e-02],\n",
       "              [2.99350217e-02, 2.99350217e-02],\n",
       "              [1.25629444e-02, 1.25629444e-02],\n",
       "              [1.91861567e-03, 1.91861567e-03],\n",
       "              [1.08767215e-03, 1.08767215e-03],\n",
       "              [7.78799259e-04, 7.78799259e-04],\n",
       "              [1.13523098e-04, 1.13523098e-04],\n",
       "              [4.85821300e-05, 4.85821300e-05],\n",
       "              [1.51621914e-05, 1.51621914e-05],\n",
       "              [7.11496916e-06, 7.11496916e-06],\n",
       "              [1.00928234e-06, 1.00928234e-06],\n",
       "              [5.89996010e-07, 5.89996010e-07],\n",
       "              [4.23535146e-07, 4.23535146e-07]],\n",
       "\n",
       "             [[6.32365541e-01, 6.32365541e-01],\n",
       "              [2.23113889e-01, 2.23113889e-01],\n",
       "              [1.01496547e-01, 1.01496547e-01],\n",
       "              [2.87984848e-02, 2.87984848e-02],\n",
       "              [7.48301177e-03, 7.48301177e-03],\n",
       "              [4.70260613e-03, 4.70260613e-03],\n",
       "              [1.56391761e-03, 1.56391761e-03],\n",
       "              [2.23415338e-04, 2.23415338e-04],\n",
       "              [1.25441922e-04, 1.25441922e-04],\n",
       "              [9.40567988e-05, 9.40567988e-05],\n",
       "              [2.32862797e-05, 2.32862797e-05],\n",
       "              [5.09970130e-06, 5.09970130e-06],\n",
       "              [3.25976903e-06, 3.25976903e-06],\n",
       "              [1.07473308e-06, 1.07473308e-06],\n",
       "              [3.68043148e-07, 3.68043148e-07]],\n",
       "\n",
       "             [[6.27444252e-01, 6.27444252e-01],\n",
       "              [2.35622510e-01, 2.35622510e-01],\n",
       "              [8.04220498e-02, 8.04220498e-02],\n",
       "              [3.34563654e-02, 3.34563654e-02],\n",
       "              [1.60224550e-02, 1.60224550e-02],\n",
       "              [4.34601401e-03, 4.34601401e-03],\n",
       "              [1.86342641e-03, 1.86342641e-03],\n",
       "              [5.66943670e-04, 5.66943670e-04],\n",
       "              [1.97747018e-04, 1.97747018e-04],\n",
       "              [3.74472700e-05, 3.74472700e-05],\n",
       "              [1.21439593e-05, 1.21439593e-05],\n",
       "              [7.30638213e-06, 7.30638213e-06],\n",
       "              [9.28087379e-07, 9.28087379e-07],\n",
       "              [2.08766083e-07, 2.08766083e-07],\n",
       "              [2.02348153e-07, 2.02348153e-07]],\n",
       "\n",
       "             [[5.02604555e-01, 5.02604555e-01],\n",
       "              [2.33757270e-01, 2.33757270e-01],\n",
       "              [1.95158934e-01, 1.95158934e-01],\n",
       "              [5.31472159e-02, 5.31472159e-02],\n",
       "              [9.81981660e-03, 9.81981660e-03],\n",
       "              [3.67418452e-03, 3.67418452e-03],\n",
       "              [1.32911154e-03, 1.32911154e-03],\n",
       "              [2.22504725e-04, 2.22504725e-04],\n",
       "              [1.81972302e-04, 1.81972302e-04],\n",
       "              [5.93080313e-05, 5.93080313e-05],\n",
       "              [3.12186290e-05, 3.12186290e-05],\n",
       "              [6.34045510e-06, 6.34045510e-06],\n",
       "              [4.41765726e-06, 4.41765726e-06],\n",
       "              [2.38476058e-06, 2.38476058e-06],\n",
       "              [7.66132256e-07, 7.66132256e-07]],\n",
       "\n",
       "             [[5.98528513e-01, 5.98528513e-01],\n",
       "              [2.09081113e-01, 2.09081113e-01],\n",
       "              [1.34942800e-01, 1.34942800e-01],\n",
       "              [3.71888479e-02, 3.71888479e-02],\n",
       "              [9.48078866e-03, 9.48078866e-03],\n",
       "              [8.33350464e-03, 8.33350464e-03],\n",
       "              [1.76284462e-03, 1.76284462e-03],\n",
       "              [3.14207507e-04, 3.14207507e-04],\n",
       "              [1.97888990e-04, 1.97888990e-04],\n",
       "              [1.03296598e-04, 1.03296598e-04],\n",
       "              [4.06901653e-05, 4.06901653e-05],\n",
       "              [9.94294568e-06, 9.94294568e-06],\n",
       "              [9.25400255e-06, 9.25400255e-06],\n",
       "              [4.63288939e-06, 4.63288939e-06],\n",
       "              [1.67455528e-06, 1.67455528e-06]],\n",
       "\n",
       "             [[7.62199631e-01, 7.62199631e-01],\n",
       "              [1.47063980e-01, 1.47063980e-01],\n",
       "              [4.53140817e-02, 4.53140817e-02],\n",
       "              [2.41081015e-02, 2.41081015e-02],\n",
       "              [1.58917472e-02, 1.58917472e-02],\n",
       "              [2.92880863e-03, 2.92880863e-03],\n",
       "              [1.54259403e-03, 1.54259403e-03],\n",
       "              [6.88075218e-04, 6.88075218e-04],\n",
       "              [1.85022906e-04, 1.85022906e-04],\n",
       "              [3.84194895e-05, 3.84194895e-05],\n",
       "              [1.96032321e-05, 1.96032321e-05],\n",
       "              [1.60990030e-05, 1.60990030e-05],\n",
       "              [2.17192789e-06, 2.17192789e-06],\n",
       "              [9.90695914e-07, 9.90695914e-07],\n",
       "              [6.73323716e-07, 6.73323716e-07]],\n",
       "\n",
       "             [[7.39949202e-01, 7.39949202e-01],\n",
       "              [1.67024956e-01, 1.67024956e-01],\n",
       "              [5.71412921e-02, 5.71412921e-02],\n",
       "              [1.74846612e-02, 1.74846612e-02],\n",
       "              [1.21898917e-02, 1.21898917e-02],\n",
       "              [3.29907971e-03, 3.29907971e-03],\n",
       "              [1.99329614e-03, 1.99329614e-03],\n",
       "              [7.40720210e-04, 7.40720210e-04],\n",
       "              [1.24899661e-04, 1.24899661e-04],\n",
       "              [2.51734542e-05, 2.51734542e-05],\n",
       "              [1.63197429e-05, 1.63197429e-05],\n",
       "              [8.74771117e-06, 8.74771117e-06],\n",
       "              [1.06321284e-06, 1.06321284e-06],\n",
       "              [3.92160422e-07, 3.92160422e-07],\n",
       "              [3.05172404e-07, 3.05172404e-07]],\n",
       "\n",
       "             [[6.60561148e-01, 6.60561148e-01],\n",
       "              [2.71783569e-01, 2.71783569e-01],\n",
       "              [3.98121274e-02, 3.98121274e-02],\n",
       "              [1.64967742e-02, 1.64967742e-02],\n",
       "              [7.84485444e-03, 7.84485444e-03],\n",
       "              [1.89820391e-03, 1.89820391e-03],\n",
       "              [8.60439438e-04, 8.60439438e-04],\n",
       "              [5.79999278e-04, 5.79999278e-04],\n",
       "              [1.11975318e-04, 1.11975318e-04],\n",
       "              [3.04311291e-05, 3.04311291e-05],\n",
       "              [1.19197717e-05, 1.19197717e-05],\n",
       "              [6.68899389e-06, 6.68899389e-06],\n",
       "              [9.97537470e-07, 9.97537470e-07],\n",
       "              [4.57049469e-07, 4.57049469e-07],\n",
       "              [4.14293982e-07, 4.14293982e-07]],\n",
       "\n",
       "             [[7.15919043e-01, 6.54673885e-01],\n",
       "              [1.74413584e-01, 1.64471716e-01],\n",
       "              [5.01436775e-02, 1.22494263e-01],\n",
       "              [2.60732397e-02, 4.01966902e-02],\n",
       "              [2.72550578e-02, 1.16733348e-02],\n",
       "              [2.76831844e-03, 4.11963807e-03],\n",
       "              [2.34819798e-03, 1.88137562e-03],\n",
       "              [7.08857205e-04, 1.93950509e-04],\n",
       "              [2.56753560e-04, 1.69611776e-04],\n",
       "              [5.27630825e-05, 6.96274648e-05],\n",
       "              [4.31285019e-05, 4.40012883e-05],\n",
       "              [1.30794659e-05, 4.91285970e-06],\n",
       "              [1.94991003e-06, 3.80944702e-06],\n",
       "              [1.52827590e-06, 2.20724497e-06],\n",
       "              [8.21211016e-07, 9.76984434e-07]],\n",
       "\n",
       "             [[7.04049314e-01, 6.52391028e-01],\n",
       "              [2.31444023e-01, 2.21156998e-01],\n",
       "              [4.03837705e-02, 9.99655201e-02],\n",
       "              [1.21413907e-02, 1.89673881e-02],\n",
       "              [7.88480443e-03, 3.42202013e-03],\n",
       "              [1.80229978e-03, 2.71777716e-03],\n",
       "              [1.06181811e-03, 8.62054511e-04],\n",
       "              [8.92951155e-04, 2.47573221e-04],\n",
       "              [2.43843147e-04, 1.63227707e-04],\n",
       "              [4.83230610e-05, 6.46172777e-05],\n",
       "              [2.79006337e-05, 2.88442258e-05],\n",
       "              [1.53514949e-05, 5.84303950e-06],\n",
       "              [2.30285351e-06, 4.55887278e-06],\n",
       "              [9.73536312e-07, 1.42476987e-06],\n",
       "              [9.33103539e-07, 1.12488082e-06]],\n",
       "\n",
       "             [[6.93819918e-01, 6.93819918e-01],\n",
       "              [1.84746863e-01, 1.84746863e-01],\n",
       "              [4.84861336e-02, 4.84861336e-02],\n",
       "              [3.94586986e-02, 3.94586986e-02],\n",
       "              [2.34198770e-02, 2.34198770e-02],\n",
       "              [5.97787466e-03, 5.97787466e-03],\n",
       "              [2.30032274e-03, 2.30032274e-03],\n",
       "              [1.40410113e-03, 1.40410113e-03],\n",
       "              [2.68800815e-04, 2.68800815e-04],\n",
       "              [7.36558784e-05, 7.36558784e-05],\n",
       "              [2.85958243e-05, 2.85958243e-05],\n",
       "              [1.14195403e-05, 1.14195403e-05],\n",
       "              [2.50672775e-06, 2.50672775e-06],\n",
       "              [7.26278345e-07, 7.26278345e-07],\n",
       "              [5.06438607e-07, 5.06438607e-07]]], dtype=float64)"
      ]
     },
     "execution_count": 84,
     "metadata": {},
     "output_type": "execute_result"
    }
   ],
   "source": [
    "e_z_l"
   ]
  },
  {
   "cell_type": "code",
   "execution_count": 82,
   "metadata": {},
   "outputs": [
    {
     "data": {
      "text/plain": [
       "DeviceArray([1.53385152e+01, 4.56010727e+00, 1.11459479e+00,\n",
       "             5.52200941e-01, 3.14985252e-01, 6.77264466e-02,\n",
       "             3.11860174e-02, 1.58167878e-02, 3.35340561e-03,\n",
       "             8.44395005e-04, 3.95834508e-04, 2.14821193e-04,\n",
       "             3.32109424e-05, 1.55432696e-05, 1.01086497e-05],            dtype=float64)"
      ]
     },
     "execution_count": 82,
     "metadata": {},
     "output_type": "execute_result"
    }
   ],
   "source": [
    "foo[0]"
   ]
  },
  {
   "cell_type": "code",
   "execution_count": 83,
   "metadata": {},
   "outputs": [
    {
     "data": {
      "text/plain": [
       "DeviceArray([1.17151050e+01, 3.45433527e+00, 1.07352436e+00,\n",
       "             4.43651308e-01, 2.16570575e-01, 5.83290229e-02,\n",
       "             2.44457739e-02, 1.02147387e-02, 2.53663372e-03,\n",
       "             7.27253928e-04, 3.54225580e-04, 1.45425403e-04,\n",
       "             3.44709195e-05, 1.61738565e-05, 9.75045636e-06],            dtype=float64)"
      ]
     },
     "execution_count": 83,
     "metadata": {},
     "output_type": "execute_result"
    }
   ],
   "source": [
    "blah"
   ]
  },
  {
   "cell_type": "code",
   "execution_count": null,
   "metadata": {},
   "outputs": [],
   "source": []
  },
  {
   "cell_type": "code",
   "execution_count": null,
   "metadata": {},
   "outputs": [],
   "source": []
  },
  {
   "cell_type": "code",
   "execution_count": null,
   "metadata": {},
   "outputs": [],
   "source": [
    "def update_pop_beta():\n",
    "    "
   ]
  },
  {
   "cell_type": "code",
   "execution_count": null,
   "metadata": {},
   "outputs": [],
   "source": []
  },
  {
   "cell_type": "code",
   "execution_count": null,
   "metadata": {},
   "outputs": [],
   "source": []
  },
  {
   "cell_type": "code",
   "execution_count": 17,
   "metadata": {},
   "outputs": [],
   "source": [
    "class StickObjective():\n",
    "    def __init__(self, g_obs, vb_params_paragami, prior_params_dict, \n",
    "                            gh_loc, gh_weights, log_phi, epsilon): \n",
    "        self.g_obs = g_obs\n",
    "        vb_params_paragami = vb_params_paragami\n",
    "        \n",
    "        self.prior_params_dict = prior_params_dict\n",
    "        self.gh_loc = gh_loc\n",
    "        self.gh_weights = gh_weights\n",
    "        \n",
    "        self.log_phi = log_phi\n",
    "        self.epsilon = epsilon\n",
    "        \n",
    "        self.stick_objective_fun = \\\n",
    "            paragami.FlattenFunctionInput(\n",
    "                original_fun =self._get_ind_admix_sticks_loss,\n",
    "                patterns = vb_params_paragami['ind_admix_params'],\n",
    "                free = True,\n",
    "                argnums = 0)\n",
    "        \n",
    "        # objective and gradients\n",
    "        self.f = jax.jit(self.stick_objective_fun)\n",
    "        self.grad = jax.jit(jax.grad(self.stick_objective_fun, argnums = 0))  \n",
    "        \n",
    "        # compile \n",
    "        print('compiling stick objective and gradients ...')\n",
    "        t0 = time.time()\n",
    "        param_dict = vb_params_paragami.random()\n",
    "        stick_free_params = vb_params_paragami['ind_admix_params'].flatten(\n",
    "                                param_dict['ind_admix_params'], free = True)\n",
    "        _ = self.f(stick_free_params, param_dict['pop_freq_beta_params'])\n",
    "        _ = self.grad(stick_free_params, param_dict['pop_freq_beta_params'])\n",
    "        print('compile time: {0:.3g}sec'.format(time.time() - t0))\n",
    "        \n",
    "    def _get_ind_admix_sticks_loss(self, \n",
    "                                ind_admix_params,\n",
    "                                pop_freq_beta_params):\n",
    "        \n",
    "        vb_params_dict = dict({'pop_freq_beta_params':pop_freq_beta_params,\n",
    "                          'ind_admix_params': ind_admix_params})\n",
    "\n",
    "        return structure_model_lib.get_kl(self.g_obs,\n",
    "                                            vb_params_dict,\n",
    "                                            self.prior_params_dict,\n",
    "                                            self.gh_loc, self.gh_weights,\n",
    "                                            self.log_phi,\n",
    "                                            self.epsilon,\n",
    "                                            detach_ez = False)\n",
    "    "
   ]
  },
  {
   "cell_type": "code",
   "execution_count": 18,
   "metadata": {},
   "outputs": [
    {
     "name": "stdout",
     "output_type": "stream",
     "text": [
      "compiling stick objective and gradients ...\n",
      "compile time: 23sec\n"
     ]
    }
   ],
   "source": [
    "stick_objective = StickObjective(g_obs, vb_params_paragami, prior_params_dict, \n",
    "                                 gh_loc, gh_weights, log_phi = None, epsilon = 0.)"
   ]
  },
  {
   "cell_type": "code",
   "execution_count": 19,
   "metadata": {},
   "outputs": [],
   "source": [
    "pop_freq_beta_params = vb_params_dict['pop_freq_beta_params']\n",
    "x = vb_params_paragami['ind_admix_params'].flatten(vb_params_dict['ind_admix_params'], free = True)"
   ]
  },
  {
   "cell_type": "code",
   "execution_count": 22,
   "metadata": {},
   "outputs": [
    {
     "name": "stdout",
     "output_type": "stream",
     "text": [
      "8.488821506500244\n"
     ]
    }
   ],
   "source": [
    "t0 = time.time()\n",
    "_ = stick_objective.f(x, pop_freq_beta_params).block_until_ready()\n",
    "print(time.time() - t0)"
   ]
  },
  {
   "cell_type": "code",
   "execution_count": null,
   "metadata": {},
   "outputs": [],
   "source": []
  },
  {
   "cell_type": "code",
   "execution_count": null,
   "metadata": {},
   "outputs": [],
   "source": []
  },
  {
   "cell_type": "code",
   "execution_count": null,
   "metadata": {},
   "outputs": [],
   "source": []
  },
  {
   "cell_type": "code",
   "execution_count": 28,
   "metadata": {},
   "outputs": [],
   "source": [
    "def _get_ind_admix_sticks_loss(g_obs,\n",
    "                                ind_admix_params,\n",
    "                                pop_freq_beta_params,\n",
    "                                prior_params_dict,\n",
    "                                gh_loc, gh_weights,\n",
    "                                log_phi, epsilon):\n",
    "\n",
    "    vb_params_dict = dict({'pop_freq_beta_params':pop_freq_beta_params,\n",
    "                          'ind_admix_params': ind_admix_params})\n",
    "\n",
    "    return structure_model_lib.get_kl(g_obs, vb_params_dict,\n",
    "                                        prior_params_dict,\n",
    "                                        gh_loc, gh_weights,\n",
    "                                        log_phi,\n",
    "                                        epsilon,\n",
    "                                        detach_ez = False)"
   ]
  },
  {
   "cell_type": "code",
   "execution_count": null,
   "metadata": {},
   "outputs": [],
   "source": []
  },
  {
   "cell_type": "code",
   "execution_count": null,
   "metadata": {},
   "outputs": [],
   "source": []
  },
  {
   "cell_type": "code",
   "execution_count": null,
   "metadata": {},
   "outputs": [],
   "source": []
  },
  {
   "cell_type": "code",
   "execution_count": null,
   "metadata": {},
   "outputs": [],
   "source": []
  },
  {
   "cell_type": "code",
   "execution_count": null,
   "metadata": {},
   "outputs": [],
   "source": []
  },
  {
   "cell_type": "code",
   "execution_count": 15,
   "metadata": {},
   "outputs": [],
   "source": [
    "from vb_lib.structure_optimization_lib import define_structure_objective\n",
    "from bnpmodeling_runjingdev.optimization_lib import run_lbfgs"
   ]
  },
  {
   "cell_type": "code",
   "execution_count": 84,
   "metadata": {},
   "outputs": [],
   "source": [
    "from scipy import optimize"
   ]
  },
  {
   "cell_type": "code",
   "execution_count": 16,
   "metadata": {},
   "outputs": [
    {
     "name": "stdout",
     "output_type": "stream",
     "text": [
      "Compiling objective ...\n",
      "Iter 0: f = 30594962.37881606\n",
      "Compiling grad ...\n",
      "Compiling hvp ...\n",
      "Compile time: 76.768secs\n"
     ]
    }
   ],
   "source": [
    "optim_objective, init_vb_free = \\\n",
    "    define_structure_objective(g_obs, vb_params_dict,\n",
    "                        vb_params_paragami,\n",
    "                        prior_params_dict,\n",
    "                        gh_loc = gh_loc,\n",
    "                        gh_weights = gh_weights, \n",
    "                        compile_hvp=True)"
   ]
  },
  {
   "cell_type": "code",
   "execution_count": 19,
   "metadata": {},
   "outputs": [
    {
     "data": {
      "text/plain": [
       "28.205904006958008"
      ]
     },
     "execution_count": 19,
     "metadata": {},
     "output_type": "execute_result"
    }
   ],
   "source": [
    "t0 = time.time()\n",
    "_ = optim_objective.hvp_np(init_vb_free, init_vb_free)\n",
    "time.time() - t0"
   ]
  },
  {
   "cell_type": "code",
   "execution_count": null,
   "metadata": {},
   "outputs": [],
   "source": []
  },
  {
   "cell_type": "code",
   "execution_count": null,
   "metadata": {},
   "outputs": [],
   "source": []
  },
  {
   "cell_type": "markdown",
   "metadata": {},
   "source": [
    "# Check out the fit"
   ]
  },
  {
   "cell_type": "code",
   "execution_count": null,
   "metadata": {},
   "outputs": [],
   "source": [
    "# fitted\n",
    "e_ind_admix = get_vb_expectations(vb_opt_dict, use_logitnormal_sticks)[0]\n",
    "plt.matshow(e_ind_admix.T)"
   ]
  },
  {
   "cell_type": "code",
   "execution_count": null,
   "metadata": {},
   "outputs": [],
   "source": []
  },
  {
   "cell_type": "code",
   "execution_count": null,
   "metadata": {},
   "outputs": [],
   "source": []
  },
  {
   "cell_type": "code",
   "execution_count": null,
   "metadata": {},
   "outputs": [],
   "source": []
  },
  {
   "cell_type": "code",
   "execution_count": null,
   "metadata": {},
   "outputs": [],
   "source": []
  }
 ],
 "metadata": {
  "kernelspec": {
   "display_name": "bnp_sensitivity_jax",
   "language": "python",
   "name": "bnp_sensitivity_jax"
  },
  "language_info": {
   "codemirror_mode": {
    "name": "ipython",
    "version": 3
   },
   "file_extension": ".py",
   "mimetype": "text/x-python",
   "name": "python",
   "nbconvert_exporter": "python",
   "pygments_lexer": "ipython3",
   "version": "3.8.0"
  }
 },
 "nbformat": 4,
 "nbformat_minor": 4
}
