{
 "cells": [
  {
   "cell_type": "code",
   "execution_count": 1,
   "metadata": {},
   "outputs": [],
   "source": [
    "import autograd \n",
    "\n",
    "import autograd.numpy as np\n",
    "import autograd.scipy as sp\n",
    "from numpy.polynomial.hermite import hermgauss\n",
    "\n",
    "from vb_lib import structure_model_lib, data_utils, \\\n",
    "                    preconditioner_lib, structure_optimization_lib\n",
    "\n",
    "import paragami\n",
    "\n",
    "import time"
   ]
  },
  {
   "cell_type": "code",
   "execution_count": 2,
   "metadata": {
    "collapsed": true
   },
   "outputs": [],
   "source": [
    "from BNP_modeling import cluster_quantities_lib, modeling_lib\n",
    "import BNP_modeling.optimization_lib as opt_lib\n",
    "\n",
    "from itertools import permutations\n",
    "\n",
    "import matplotlib.pyplot as plt\n",
    "%matplotlib inline  \n",
    "\n",
    "import vittles\n",
    "\n",
    "from copy import deepcopy\n",
    "\n",
    "import os\n"
   ]
  },
  {
   "cell_type": "code",
   "execution_count": 3,
   "metadata": {
    "collapsed": true
   },
   "outputs": [],
   "source": [
    "np.random.seed(534534)"
   ]
  },
  {
   "cell_type": "markdown",
   "metadata": {
    "collapsed": true
   },
   "source": [
    "# Draw data"
   ]
  },
  {
   "cell_type": "code",
   "execution_count": 4,
   "metadata": {},
   "outputs": [],
   "source": [
    "n_obs = 160\n",
    "n_loci = 5\n",
    "n_pop = 4\n",
    "\n",
    "# population allele frequencies\n",
    "p1 = 0.99\n",
    "p0 = 0.01\n",
    "true_pop_allele_freq = np.maximum(np.eye(n_loci, n_pop) * p1, p0)\n",
    "\n",
    "# individual admixtures\n",
    "scale = 10\n",
    "true_ind_admix_propn = np.random.choice(n_pop, n_obs)\n",
    "true_ind_admix_propn = scale * data_utils.get_one_hot(true_ind_admix_propn, nb_classes = n_pop)\n",
    "true_ind_admix_propn = np.exp(true_ind_admix_propn) / np.exp(true_ind_admix_propn).sum(axis = 1, keepdims=True)"
   ]
  },
  {
   "cell_type": "code",
   "execution_count": 5,
   "metadata": {},
   "outputs": [
    {
     "name": "stdout",
     "output_type": "stream",
     "text": [
      "[[0.99 0.01 0.01 0.01]\n",
      " [0.01 0.99 0.01 0.01]\n",
      " [0.01 0.01 0.99 0.01]\n",
      " [0.01 0.01 0.01 0.99]\n",
      " [0.01 0.01 0.01 0.01]]\n"
     ]
    }
   ],
   "source": [
    "print(true_pop_allele_freq)"
   ]
  },
  {
   "cell_type": "code",
   "execution_count": 6,
   "metadata": {},
   "outputs": [
    {
     "data": {
      "text/plain": [
       "array([[9.99863819e-01, 4.53937471e-05, 4.53937471e-05, 4.53937471e-05],\n",
       "       [9.99863819e-01, 4.53937471e-05, 4.53937471e-05, 4.53937471e-05],\n",
       "       [4.53937471e-05, 4.53937471e-05, 9.99863819e-01, 4.53937471e-05],\n",
       "       [9.99863819e-01, 4.53937471e-05, 4.53937471e-05, 4.53937471e-05],\n",
       "       [4.53937471e-05, 9.99863819e-01, 4.53937471e-05, 4.53937471e-05]])"
      ]
     },
     "execution_count": 6,
     "metadata": {},
     "output_type": "execute_result"
    }
   ],
   "source": [
    "true_ind_admix_propn[0:5, :]"
   ]
  },
  {
   "cell_type": "code",
   "execution_count": 7,
   "metadata": {},
   "outputs": [],
   "source": [
    "g_obs = data_utils.draw_data_from_popfreq_and_admix(true_pop_allele_freq, true_ind_admix_propn)"
   ]
  },
  {
   "cell_type": "markdown",
   "metadata": {},
   "source": [
    "# Get prior"
   ]
  },
  {
   "cell_type": "code",
   "execution_count": 8,
   "metadata": {},
   "outputs": [
    {
     "name": "stdout",
     "output_type": "stream",
     "text": [
      "OrderedDict:\n",
      "\t[dp_prior_alpha] = NumericArrayPattern (1,) (lb=0.0, ub=inf)\n",
      "\t[allele_prior_alpha] = NumericArrayPattern (1,) (lb=0.0, ub=inf)\n",
      "\t[allele_prior_beta] = NumericArrayPattern (1,) (lb=0.0, ub=inf)\n"
     ]
    }
   ],
   "source": [
    "prior_params_dict, prior_params_paragami = \\\n",
    "    structure_model_lib.get_default_prior_params()\n",
    "\n",
    "print(prior_params_paragami)"
   ]
  },
  {
   "cell_type": "markdown",
   "metadata": {},
   "source": [
    "# Get VB params "
   ]
  },
  {
   "cell_type": "code",
   "execution_count": 9,
   "metadata": {
    "collapsed": true
   },
   "outputs": [],
   "source": [
    "use_logitnormal_sticks = True"
   ]
  },
  {
   "cell_type": "code",
   "execution_count": 10,
   "metadata": {
    "scrolled": true
   },
   "outputs": [
    {
     "name": "stdout",
     "output_type": "stream",
     "text": [
      "OrderedDict:\n",
      "\t[pop_freq_beta_params] = NumericArrayPattern (5, 4, 2) (lb=0.0, ub=inf)\n",
      "\t[ind_mix_stick_propn_mean] = NumericArrayPattern (160, 3) (lb=-inf, ub=inf)\n",
      "\t[ind_mix_stick_propn_info] = NumericArrayPattern (160, 3) (lb=0.0001, ub=inf)\n"
     ]
    }
   ],
   "source": [
    "k_approx = n_pop\n",
    "vb_params_dict, vb_params_paragami = \\\n",
    "    structure_model_lib.get_vb_params_paragami_object(n_obs, n_loci, k_approx, use_logitnormal_sticks)\n",
    "    \n",
    "print(vb_params_paragami)"
   ]
  },
  {
   "cell_type": "code",
   "execution_count": 11,
   "metadata": {
    "collapsed": true
   },
   "outputs": [],
   "source": [
    "ind_mix_stick_propn_mean = vb_params_dict['ind_mix_stick_propn_mean']\n",
    "ind_mix_stick_propn_info = vb_params_dict['ind_mix_stick_propn_info']\n",
    "pop_freq_beta_params = vb_params_dict['pop_freq_beta_params']"
   ]
  },
  {
   "cell_type": "code",
   "execution_count": 12,
   "metadata": {},
   "outputs": [
    {
     "data": {
      "text/plain": [
       "(5, 4)"
      ]
     },
     "execution_count": 12,
     "metadata": {},
     "output_type": "execute_result"
    }
   ],
   "source": [
    "modeling_lib.get_e_log_beta(pop_freq_beta_params)[0].shape"
   ]
  },
  {
   "cell_type": "markdown",
   "metadata": {},
   "source": [
    "# Set up model"
   ]
  },
  {
   "cell_type": "code",
   "execution_count": 13,
   "metadata": {},
   "outputs": [],
   "source": [
    "gh_deg = 8\n",
    "gh_loc, gh_weights = hermgauss(8)"
   ]
  },
  {
   "cell_type": "code",
   "execution_count": 14,
   "metadata": {},
   "outputs": [],
   "source": [
    "# get loss as a function of vb parameters\n",
    "get_free_vb_params_loss = paragami.FlattenFunctionInput(\n",
    "                                original_fun=structure_model_lib.get_kl, \n",
    "                                patterns = vb_params_paragami,\n",
    "                                free = True,\n",
    "                                argnums = 1)\n",
    "\n",
    "get_free_vb_params_loss_cached = \\\n",
    "    lambda x : get_free_vb_params_loss(g_obs, x, prior_params_dict, \n",
    "                                       use_logitnormal_sticks, gh_loc, gh_weights)"
   ]
  },
  {
   "cell_type": "code",
   "execution_count": 15,
   "metadata": {
    "collapsed": true
   },
   "outputs": [],
   "source": [
    "init_vb_free_params = vb_params_paragami.flatten(vb_params_dict, free = True)"
   ]
  },
  {
   "cell_type": "code",
   "execution_count": 16,
   "metadata": {},
   "outputs": [
    {
     "data": {
      "text/plain": [
       "2695.7424932015747"
      ]
     },
     "execution_count": 16,
     "metadata": {},
     "output_type": "execute_result"
    }
   ],
   "source": [
    "structure_model_lib.get_kl(g_obs, vb_params_dict,\n",
    "                   prior_params_dict, \n",
    "                    use_logitnormal_sticks, \n",
    "                    gh_loc, gh_weights)"
   ]
  },
  {
   "cell_type": "code",
   "execution_count": 17,
   "metadata": {},
   "outputs": [
    {
     "data": {
      "text/plain": [
       "2695.7424932015747"
      ]
     },
     "execution_count": 17,
     "metadata": {},
     "output_type": "execute_result"
    }
   ],
   "source": [
    "get_free_vb_params_loss_cached(init_vb_free_params)"
   ]
  },
  {
   "cell_type": "code",
   "execution_count": 18,
   "metadata": {
    "scrolled": true
   },
   "outputs": [
    {
     "name": "stdout",
     "output_type": "stream",
     "text": [
      "running bfgs ... \n",
      "Iter 0: f = 2695.74249320\n",
      "Iter 1: f = 2485.41702413\n",
      "Iter 2: f = 2400.93040842\n",
      "Iter 3: f = 2333.73846688\n",
      "Iter 4: f = 2252.37495055\n",
      "Iter 5: f = 2101.94356879\n",
      "Iter 6: f = 1908.68223269\n",
      "Iter 7: f = 1678.32081880\n",
      "Iter 8: f = 1627.00351029\n",
      "Iter 9: f = 1579.44051065\n",
      "Iter 10: f = 1542.14648002\n",
      "Iter 11: f = 1542.86847625\n",
      "Iter 12: f = 1529.59678591\n",
      "Iter 13: f = 1511.14681564\n",
      "Iter 14: f = 1494.38397198\n",
      "Iter 15: f = 1490.13495097\n",
      "Iter 16: f = 1483.33497014\n",
      "Iter 17: f = 1478.19091800\n",
      "Iter 18: f = 1467.17033975\n",
      "Iter 19: f = 1520.14083955\n",
      "Iter 20: f = 1459.72185696\n",
      "Iter 21: f = 1505.67372309\n",
      "Iter 22: f = 1458.18081525\n",
      "Iter 23: f = 1455.29442850\n",
      "Iter 24: f = 1450.05524976\n",
      "Iter 25: f = 1441.68068839\n",
      "Iter 26: f = 1435.47876897\n",
      "Iter 27: f = 1433.64117713\n",
      "Iter 28: f = 1431.57390526\n",
      "Iter 29: f = 1431.46669191\n",
      "Iter 30: f = 1430.61112485\n",
      "Iter 31: f = 1429.22492394\n",
      "Iter 32: f = 1426.94396495\n",
      "Iter 33: f = 1421.14192567\n",
      "Iter 34: f = 1437.74020062\n",
      "Iter 35: f = 1411.87319507\n",
      "Iter 36: f = 3600.80325171\n",
      "Iter 37: f = 1421.89432363\n",
      "Iter 38: f = 1410.74005443\n",
      "Iter 39: f = 1408.63082931\n",
      "Iter 40: f = 1404.68651193\n",
      "Iter 41: f = 1397.77199058\n",
      "Iter 42: f = 1387.22522187\n",
      "Iter 43: f = 1379.37757281\n",
      "Iter 44: f = 1377.01031278\n",
      "Iter 45: f = 1375.84021458\n",
      "Iter 46: f = 1374.54158752\n",
      "Iter 47: f = 1373.12279063\n",
      "Iter 48: f = 1372.13606771\n",
      "Iter 49: f = 1371.27890946\n",
      "Iter 50: f = 1370.75498599\n",
      "Iter 51: f = 1370.27933365\n",
      "Iter 52: f = 1369.97760669\n",
      "Iter 53: f = 1369.76023272\n",
      "Iter 54: f = 1369.57926020\n",
      "Iter 55: f = 1369.45236036\n",
      "Iter 56: f = 1369.35862982\n",
      "Iter 57: f = 1369.29616786\n",
      "Iter 58: f = 1369.22789652\n",
      "Iter 59: f = 1369.13187606\n",
      "Warning: Maximum number of iterations has been exceeded.\n",
      "         Current function value: 1369.131876\n",
      "         Iterations: 50\n",
      "         Function evaluations: 60\n",
      "         Gradient evaluations: 60\n",
      "\n",
      " running preconditioned newton; iter =  0\n",
      "Computing Hessian to set preconditioner\n",
      "preconditioning time: 8.34\n",
      "running newton steps\n",
      "Iter 0: f = 1369.13187606\n",
      "Iter 1: f = 1368.91060115\n",
      "Iter 2: f = 1368.75211838\n",
      "Iter 3: f = 1368.73560744\n",
      "Iter 4: f = 1368.73392442\n",
      "Iter 5: f = 1368.73388563\n",
      "Iter 6: f = 1368.73388562\n",
      "Iter 7: f = 1368.73388562\n",
      "Optimization terminated successfully.\n",
      "         Current function value: 1368.733886\n",
      "         Iterations: 7\n",
      "         Function evaluations: 8\n",
      "         Gradient evaluations: 8\n",
      "         Hessian evaluations: 0\n",
      "Iter 0: x_diff = 13.49654562960555, f_diff = 0.39799044347091694, grad_l1 = 4.143356671898967e-09\n",
      "done. \n"
     ]
    }
   ],
   "source": [
    "vb_opt_free_params = opt_lib.optimize_full(get_free_vb_params_loss_cached, init_vb_free_params,\n",
    "                    bfgs_max_iter = 50, netwon_max_iter = 50,\n",
    "                    max_precondition_iter = 10,\n",
    "                    gtol=1e-8, ftol=1e-8, xtol=1e-8)"
   ]
  },
  {
   "cell_type": "code",
   "execution_count": 19,
   "metadata": {
    "collapsed": true
   },
   "outputs": [],
   "source": [
    "vb_opt_dict = vb_params_paragami.fold(vb_opt_free_params, free=True)"
   ]
  },
  {
   "cell_type": "code",
   "execution_count": 20,
   "metadata": {
    "collapsed": true
   },
   "outputs": [],
   "source": [
    "ind_mix_stick_propn_mean = vb_opt_dict['ind_mix_stick_propn_mean']\n",
    "ind_mix_stick_propn_info = vb_opt_dict['ind_mix_stick_propn_info']\n",
    "pop_freq_beta_params = vb_opt_dict['pop_freq_beta_params']"
   ]
  },
  {
   "cell_type": "code",
   "execution_count": 21,
   "metadata": {
    "collapsed": true
   },
   "outputs": [],
   "source": [
    "e_pop_allele_freq = pop_freq_beta_params[:, :, 0] / pop_freq_beta_params.sum(axis=2)"
   ]
  },
  {
   "cell_type": "code",
   "execution_count": 22,
   "metadata": {},
   "outputs": [],
   "source": [
    "def find_min_perm(x, y, axis = 0):\n",
    "    # perumutes array x along axis to find closest \n",
    "    # match to y\n",
    "        \n",
    "    perms = list(permutations(np.arange(x.shape[axis])))\n",
    "\n",
    "    i = 0\n",
    "    diff_best = np.Inf\n",
    "    for perm in perms: \n",
    "\n",
    "        x_perm = x.take(perm, axis)\n",
    "        \n",
    "        diff = np.sum((x_perm - y)**2)\n",
    "        \n",
    "        if diff < diff_best: \n",
    "            diff_best = diff\n",
    "            i_best = i\n",
    "        \n",
    "        i += 1\n",
    "\n",
    "    return perms[i_best]"
   ]
  },
  {
   "cell_type": "code",
   "execution_count": 23,
   "metadata": {},
   "outputs": [],
   "source": [
    "perm_best = find_min_perm(e_pop_allele_freq, true_pop_allele_freq, axis = 1)"
   ]
  },
  {
   "cell_type": "code",
   "execution_count": 24,
   "metadata": {
    "scrolled": true
   },
   "outputs": [
    {
     "data": {
      "text/plain": [
       "array([[0.92553933, 0.0110584 , 0.01560233, 0.01646585],\n",
       "       [0.00963405, 0.98609818, 0.01836387, 0.01945906],\n",
       "       [0.01089783, 0.01387308, 0.98260488, 0.02029114],\n",
       "       [0.01630353, 0.0152515 , 0.02121923, 0.98607813],\n",
       "       [0.0091834 , 0.02231597, 0.01778837, 0.03408285]])"
      ]
     },
     "execution_count": 24,
     "metadata": {},
     "output_type": "execute_result"
    }
   ],
   "source": [
    "e_pop_allele_freq[:, perm_best]"
   ]
  },
  {
   "cell_type": "code",
   "execution_count": 25,
   "metadata": {},
   "outputs": [
    {
     "data": {
      "text/plain": [
       "array([[0.99, 0.01, 0.01, 0.01],\n",
       "       [0.01, 0.99, 0.01, 0.01],\n",
       "       [0.01, 0.01, 0.99, 0.01],\n",
       "       [0.01, 0.01, 0.01, 0.99],\n",
       "       [0.01, 0.01, 0.01, 0.01]])"
      ]
     },
     "execution_count": 25,
     "metadata": {},
     "output_type": "execute_result"
    }
   ],
   "source": [
    "true_pop_allele_freq"
   ]
  },
  {
   "cell_type": "code",
   "execution_count": 26,
   "metadata": {},
   "outputs": [],
   "source": [
    "e_ind_admix = cluster_quantities_lib.get_e_cluster_probabilities(\n",
    "                        ind_mix_stick_propn_mean, ind_mix_stick_propn_info,\n",
    "                        gh_loc, gh_weights)[:, perm_best]"
   ]
  },
  {
   "cell_type": "code",
   "execution_count": 27,
   "metadata": {
    "scrolled": true
   },
   "outputs": [
    {
     "data": {
      "text/plain": [
       "array([0, 0, 2, 0, 1, 1, 0, 2, 2, 3, 1, 0, 2, 2, 3, 3, 3, 0, 1, 1, 2, 1,\n",
       "       0, 1, 3, 2, 0, 3, 1, 3, 2, 1, 1, 1, 3, 3, 1, 0, 0, 1, 3, 2, 3, 3,\n",
       "       1, 3, 3, 2, 2, 2, 3, 1, 3, 3, 0, 3, 1, 0, 3, 0, 0, 0, 1, 0, 1, 1,\n",
       "       2, 0, 1, 3, 3, 1, 3, 0, 2, 0, 0, 3, 0, 3, 3, 0, 0, 1, 2, 0, 2, 1,\n",
       "       3, 1, 1, 1, 3, 1, 0, 0, 3, 3, 3, 2, 2, 3, 0, 1, 2, 0, 2, 3, 1, 0,\n",
       "       2, 1, 2, 2, 0, 0, 0, 1, 2, 0, 2, 3, 1, 3, 0, 0, 0, 1, 3, 0, 0, 0,\n",
       "       0, 1, 0, 2, 1, 3, 2, 1, 2, 3, 2, 3, 1, 0, 2, 0, 2, 1, 1, 1, 2, 1,\n",
       "       2, 1, 0, 1, 1, 2])"
      ]
     },
     "execution_count": 27,
     "metadata": {},
     "output_type": "execute_result"
    }
   ],
   "source": [
    "e_ind_admix.argmax(axis=1)"
   ]
  },
  {
   "cell_type": "code",
   "execution_count": 28,
   "metadata": {},
   "outputs": [
    {
     "data": {
      "text/plain": [
       "array([0, 0, 2, 0, 1, 1, 0, 2, 2, 3, 1, 0, 2, 2, 3, 3, 3, 0, 2, 1, 2, 1,\n",
       "       0, 1, 3, 2, 0, 3, 1, 3, 2, 1, 1, 1, 3, 3, 1, 0, 0, 1, 3, 2, 3, 3,\n",
       "       1, 3, 3, 2, 2, 2, 3, 1, 3, 3, 3, 3, 1, 0, 3, 0, 0, 0, 1, 0, 1, 1,\n",
       "       2, 0, 1, 3, 3, 1, 3, 0, 2, 0, 0, 3, 0, 3, 3, 0, 0, 1, 2, 0, 2, 1,\n",
       "       3, 1, 1, 1, 3, 1, 0, 0, 3, 3, 3, 2, 2, 3, 0, 1, 2, 0, 2, 3, 1, 0,\n",
       "       2, 1, 2, 2, 0, 3, 0, 1, 2, 0, 2, 3, 1, 3, 0, 0, 0, 1, 3, 0, 0, 0,\n",
       "       0, 1, 0, 2, 1, 3, 2, 1, 2, 3, 2, 3, 1, 0, 2, 0, 2, 1, 1, 1, 2, 1,\n",
       "       2, 1, 0, 1, 1, 2])"
      ]
     },
     "execution_count": 28,
     "metadata": {},
     "output_type": "execute_result"
    }
   ],
   "source": [
    "true_ind_admix_propn.argmax(axis=1)"
   ]
  },
  {
   "cell_type": "code",
   "execution_count": 29,
   "metadata": {},
   "outputs": [
    {
     "data": {
      "text/plain": [
       "0.98125"
      ]
     },
     "execution_count": 29,
     "metadata": {},
     "output_type": "execute_result"
    }
   ],
   "source": [
    "np.mean(e_ind_admix.argmax(axis=1) == \\\n",
    "       true_ind_admix_propn.argmax(axis=1))"
   ]
  },
  {
   "cell_type": "code",
   "execution_count": null,
   "metadata": {
    "collapsed": true
   },
   "outputs": [],
   "source": []
  }
 ],
 "metadata": {
  "kernelspec": {
   "display_name": "Python 3",
   "language": "python",
   "name": "python3"
  },
  "language_info": {
   "codemirror_mode": {
    "name": "ipython",
    "version": 3
   },
   "file_extension": ".py",
   "mimetype": "text/x-python",
   "name": "python",
   "nbconvert_exporter": "python",
   "pygments_lexer": "ipython3",
   "version": "3.5.2"
  }
 },
 "nbformat": 4,
 "nbformat_minor": 2
}
