{
 "cells": [
  {
   "cell_type": "code",
   "execution_count": 1,
   "metadata": {
    "collapsed": false
   },
   "outputs": [],
   "source": [
    "import autograd \n",
    "\n",
    "import autograd.numpy as np\n",
    "import autograd.scipy as sp\n",
    "from numpy.polynomial.hermite import hermgauss\n",
    "\n",
    "from vb_lib import structure_model_lib, data_utils, \\\n",
    "                    preconditioner_lib, structure_optimization_lib, cavi_lib\n",
    "\n",
    "import paragami\n",
    "\n",
    "import LinearResponseVariationalBayes.ExponentialFamilies as ef"
   ]
  },
  {
   "cell_type": "code",
   "execution_count": 2,
   "metadata": {
    "collapsed": false
   },
   "outputs": [],
   "source": [
    "from BNP_modeling import cluster_quantities_lib, modeling_lib\n",
    "import BNP_modeling.optimization_lib as opt_lib\n",
    "\n",
    "from itertools import permutations\n",
    "\n",
    "import matplotlib.pyplot as plt\n",
    "%matplotlib inline  \n",
    "\n",
    "import vittles\n",
    "\n",
    "from copy import deepcopy"
   ]
  },
  {
   "cell_type": "code",
   "execution_count": 3,
   "metadata": {
    "collapsed": true
   },
   "outputs": [],
   "source": [
    "np.random.seed(53453)"
   ]
  },
  {
   "cell_type": "markdown",
   "metadata": {
    "collapsed": true
   },
   "source": [
    "# Draw data"
   ]
  },
  {
   "cell_type": "code",
   "execution_count": 4,
   "metadata": {
    "collapsed": false
   },
   "outputs": [],
   "source": [
    "n_obs = 40\n",
    "n_loci = 50\n",
    "n_pop = 4"
   ]
  },
  {
   "cell_type": "code",
   "execution_count": 5,
   "metadata": {
    "collapsed": false
   },
   "outputs": [],
   "source": [
    "g_obs, true_pop_allele_freq, true_ind_admix_propn = \\\n",
    "    data_utils.draw_data(n_obs, n_loci, n_pop)"
   ]
  },
  {
   "cell_type": "code",
   "execution_count": 6,
   "metadata": {
    "collapsed": false,
    "scrolled": true
   },
   "outputs": [
    {
     "data": {
      "text/plain": [
       "<matplotlib.image.AxesImage at 0x7f48c45b0278>"
      ]
     },
     "execution_count": 6,
     "metadata": {},
     "output_type": "execute_result"
    },
    {
     "data": {
      "image/png": "[encoded data removed]",
      "text/plain": [
       "<Figure size 1152x144 with 1 Axes>"
      ]
     },
     "metadata": {
      "needs_background": "light"
     },
     "output_type": "display_data"
    }
   ],
   "source": [
    "plt.matshow(true_ind_admix_propn.T)"
   ]
  },
  {
   "cell_type": "markdown",
   "metadata": {},
   "source": [
    "# Get prior"
   ]
  },
  {
   "cell_type": "code",
   "execution_count": 7,
   "metadata": {
    "collapsed": false
   },
   "outputs": [
    {
     "name": "stdout",
     "output_type": "stream",
     "text": [
      "OrderedDict:\n",
      "\t[dp_prior_alpha] = NumericArrayPattern (1,) (lb=0.0, ub=inf)\n",
      "\t[allele_prior_alpha] = NumericArrayPattern (1,) (lb=0.0, ub=inf)\n",
      "\t[allele_prior_beta] = NumericArrayPattern (1,) (lb=0.0, ub=inf)\n"
     ]
    }
   ],
   "source": [
    "prior_params_dict, prior_params_paragami = \\\n",
    "    structure_model_lib.get_default_prior_params()\n",
    "\n",
    "print(prior_params_paragami)\n",
    "\n",
    "prior_free_params = prior_params_paragami.flatten(prior_params_dict, free=True)"
   ]
  },
  {
   "cell_type": "markdown",
   "metadata": {},
   "source": [
    "# Get VB params "
   ]
  },
  {
   "cell_type": "code",
   "execution_count": 8,
   "metadata": {
    "collapsed": true
   },
   "outputs": [],
   "source": [
    "use_logitnormal_sticks = False"
   ]
  },
  {
   "cell_type": "code",
   "execution_count": 9,
   "metadata": {
    "collapsed": true
   },
   "outputs": [],
   "source": [
    "k_approx = 6"
   ]
  },
  {
   "cell_type": "code",
   "execution_count": 10,
   "metadata": {
    "collapsed": true
   },
   "outputs": [],
   "source": [
    "gh_deg = 8\n",
    "gh_loc, gh_weights = hermgauss(8)"
   ]
  },
  {
   "cell_type": "code",
   "execution_count": 11,
   "metadata": {
    "collapsed": false,
    "scrolled": true
   },
   "outputs": [
    {
     "name": "stdout",
     "output_type": "stream",
     "text": [
      "OrderedDict:\n",
      "\t[pop_freq_beta_params] = NumericArrayPattern (50, 6, 2) (lb=0.0, ub=inf)\n",
      "\t[ind_mix_stick_beta_params] = NumericArrayPattern (40, 5, 2) (lb=0.0, ub=inf)\n"
     ]
    }
   ],
   "source": [
    "vb_params_dict, vb_params_paragami = \\\n",
    "    structure_model_lib.get_vb_params_paragami_object(n_obs, n_loci, k_approx, use_logitnormal_sticks)\n",
    "    \n",
    "print(vb_params_paragami)"
   ]
  },
  {
   "cell_type": "markdown",
   "metadata": {},
   "source": [
    "## Initialize "
   ]
  },
  {
   "cell_type": "code",
   "execution_count": 12,
   "metadata": {
    "collapsed": false
   },
   "outputs": [],
   "source": [
    "vb_params_dict = structure_model_lib.set_init_vb_params(g_obs, k_approx, vb_params_dict, \n",
    "                                                        use_logitnormal_sticks)"
   ]
  },
  {
   "cell_type": "code",
   "execution_count": 13,
   "metadata": {
    "collapsed": false
   },
   "outputs": [],
   "source": [
    "# take a look at init \n",
    "if use_logitnormal_sticks: \n",
    "    e_ind_admix = cluster_quantities_lib.get_e_cluster_probabilities(\n",
    "                        vb_params_dict['ind_mix_stick_propn_mean'], \n",
    "                        vb_params_dict['ind_mix_stick_propn_info'],\n",
    "                        gh_loc, gh_weights)\n",
    "\n",
    "else: \n",
    "    # take a look at init \n",
    "    ind_mix_stick_beta_params = vb_params_dict['ind_mix_stick_beta_params']\n",
    "    e_stick_lengths = \\\n",
    "            modeling_lib.get_e_beta(ind_mix_stick_beta_params)\n",
    "    e_ind_admix = cluster_quantities_lib.get_mixture_weights_from_stick_break_propns(e_stick_lengths)\n",
    "\n",
    "e_pop_freq = modeling_lib.get_e_beta(vb_params_dict['pop_freq_beta_params'])"
   ]
  },
  {
   "cell_type": "code",
   "execution_count": 14,
   "metadata": {
    "collapsed": false
   },
   "outputs": [],
   "source": [
    "if k_approx < 6: \n",
    "    # find minimizing permutation \n",
    "    # only feasible if k_approx is small, \n",
    "    # else my computer freezes\n",
    "    perm = data_utils.find_min_perm(e_pop_freq, true_pop_allele_freq, axis = 1)\n",
    "else: \n",
    "    perm = np.arange(k_approx)\n",
    "    \n",
    "e_pop_freq = e_pop_freq[:, perm]\n",
    "e_ind_admix = e_ind_admix[:, perm]"
   ]
  },
  {
   "cell_type": "code",
   "execution_count": 15,
   "metadata": {
    "collapsed": false
   },
   "outputs": [
    {
     "data": {
      "image/png": "[encoded data removed]",
      "text/plain": [
       "<Figure size 1152x172.8 with 1 Axes>"
      ]
     },
     "metadata": {
      "needs_background": "light"
     },
     "output_type": "display_data"
    },
    {
     "data": {
      "image/png": "[encoded data removed]",
      "text/plain": [
       "<Figure size 1152x144 with 1 Axes>"
      ]
     },
     "metadata": {
      "needs_background": "light"
     },
     "output_type": "display_data"
    }
   ],
   "source": [
    "plt.matshow(e_ind_admix.T); \n",
    "plt.matshow(true_ind_admix_propn.T);"
   ]
  },
  {
   "cell_type": "markdown",
   "metadata": {},
   "source": [
    "# Run CAVI"
   ]
  },
  {
   "cell_type": "code",
   "execution_count": 16,
   "metadata": {
    "collapsed": false
   },
   "outputs": [],
   "source": [
    "e_log_sticks, e_log_1m_sticks, \\\n",
    "    e_log_pop_freq, e_log_1m_pop_freq = \\\n",
    "        structure_model_lib.get_moments_from_vb_params_dict(g_obs, vb_params_dict, use_logitnormal_sticks)"
   ]
  },
  {
   "cell_type": "code",
   "execution_count": 17,
   "metadata": {
    "collapsed": false,
    "scrolled": true
   },
   "outputs": [
    {
     "name": "stdout",
     "output_type": "stream",
     "text": [
      "iteration [0]; kl:3952.608162\n",
      "iteration [1]; kl:3392.455286\n",
      "iteration [2]; kl:3303.661196\n",
      "iteration [3]; kl:3277.030543\n",
      "iteration [4]; kl:3264.05157\n",
      "iteration [5]; kl:3255.748158\n",
      "iteration [6]; kl:3249.762555\n",
      "iteration [7]; kl:3245.140411\n",
      "iteration [8]; kl:3241.393956\n",
      "iteration [9]; kl:3238.246244\n",
      "iteration [10]; kl:3235.529129\n",
      "iteration [11]; kl:3233.134617\n",
      "iteration [12]; kl:3230.989707\n",
      "iteration [13]; kl:3229.04276\n",
      "iteration [14]; kl:3227.255823\n",
      "iteration [15]; kl:3225.600129\n",
      "iteration [16]; kl:3224.053327\n",
      "iteration [17]; kl:3222.597673\n",
      "iteration [18]; kl:3221.218805\n",
      "iteration [19]; kl:3219.90488\n",
      "iteration [20]; kl:3218.645959\n",
      "iteration [21]; kl:3217.433569\n",
      "iteration [22]; kl:3216.260393\n",
      "iteration [23]; kl:3215.120061\n",
      "iteration [24]; kl:3214.007007\n",
      "iteration [25]; kl:3212.916375\n",
      "iteration [26]; kl:3211.843963\n",
      "iteration [27]; kl:3210.786181\n",
      "iteration [28]; kl:3209.740023\n",
      "iteration [29]; kl:3208.703039\n",
      "iteration [30]; kl:3207.673314\n",
      "iteration [31]; kl:3206.649453\n",
      "iteration [32]; kl:3205.630569\n",
      "iteration [33]; kl:3204.616284\n",
      "iteration [34]; kl:3203.606734\n",
      "iteration [35]; kl:3202.602584\n",
      "iteration [36]; kl:3201.605036\n",
      "iteration [37]; kl:3200.615836\n",
      "iteration [38]; kl:3199.63727\n",
      "iteration [39]; kl:3198.672124\n",
      "iteration [40]; kl:3197.723619\n",
      "iteration [41]; kl:3196.795304\n",
      "iteration [42]; kl:3195.890898\n",
      "iteration [43]; kl:3195.014102\n",
      "iteration [44]; kl:3194.16839\n",
      "iteration [45]; kl:3193.35681\n",
      "iteration [46]; kl:3192.581816\n",
      "iteration [47]; kl:3191.845174\n",
      "iteration [48]; kl:3191.147927\n",
      "iteration [49]; kl:3190.490445\n",
      "iteration [50]; kl:3189.872518\n",
      "iteration [51]; kl:3189.293496\n",
      "iteration [52]; kl:3188.752427\n",
      "iteration [53]; kl:3188.24819\n",
      "iteration [54]; kl:3187.779589\n",
      "iteration [55]; kl:3187.345415\n",
      "iteration [56]; kl:3186.944467\n",
      "iteration [57]; kl:3186.575548\n",
      "iteration [58]; kl:3186.237429\n",
      "iteration [59]; kl:3185.928822\n",
      "iteration [60]; kl:3185.648342\n",
      "iteration [61]; kl:3185.39449\n",
      "iteration [62]; kl:3185.165645\n",
      "iteration [63]; kl:3184.960076\n",
      "iteration [64]; kl:3184.77596\n",
      "iteration [65]; kl:3184.611418\n",
      "iteration [66]; kl:3184.464557\n",
      "iteration [67]; kl:3184.333506\n",
      "iteration [68]; kl:3184.216459\n",
      "iteration [69]; kl:3184.111708\n",
      "iteration [70]; kl:3184.01767\n",
      "iteration [71]; kl:3183.932904\n",
      "iteration [72]; kl:3183.856122\n",
      "iteration [73]; kl:3183.786187\n",
      "iteration [74]; kl:3183.722111\n",
      "iteration [75]; kl:3183.663043\n",
      "iteration [76]; kl:3183.608256\n",
      "iteration [77]; kl:3183.557132\n",
      "iteration [78]; kl:3183.509149\n",
      "iteration [79]; kl:3183.463864\n",
      "iteration [80]; kl:3183.420903\n",
      "iteration [81]; kl:3183.379946\n",
      "iteration [82]; kl:3183.340722\n",
      "iteration [83]; kl:3183.302998\n",
      "iteration [84]; kl:3183.266574\n",
      "iteration [85]; kl:3183.231273\n",
      "iteration [86]; kl:3183.196945\n",
      "iteration [87]; kl:3183.163455\n",
      "iteration [88]; kl:3183.130685\n",
      "iteration [89]; kl:3183.09853\n",
      "iteration [90]; kl:3183.066895\n",
      "iteration [91]; kl:3183.035697\n",
      "iteration [92]; kl:3183.004861\n",
      "iteration [93]; kl:3182.974316\n",
      "iteration [94]; kl:3182.944\n",
      "iteration [95]; kl:3182.913857\n",
      "iteration [96]; kl:3182.883834\n",
      "iteration [97]; kl:3182.853882\n",
      "iteration [98]; kl:3182.823956\n",
      "iteration [99]; kl:3182.794016\n",
      "iteration [100]; kl:3182.764021\n",
      "iteration [101]; kl:3182.733934\n",
      "iteration [102]; kl:3182.703721\n",
      "iteration [103]; kl:3182.673348\n",
      "iteration [104]; kl:3182.642782\n",
      "iteration [105]; kl:3182.611991\n",
      "iteration [106]; kl:3182.580944\n",
      "iteration [107]; kl:3182.54961\n",
      "iteration [108]; kl:3182.517956\n",
      "iteration [109]; kl:3182.485951\n",
      "iteration [110]; kl:3182.453561\n",
      "iteration [111]; kl:3182.42075\n",
      "iteration [112]; kl:3182.387481\n",
      "iteration [113]; kl:3182.353714\n",
      "iteration [114]; kl:3182.319405\n",
      "iteration [115]; kl:3182.284505\n",
      "iteration [116]; kl:3182.248963\n",
      "iteration [117]; kl:3182.212719\n",
      "iteration [118]; kl:3182.175707\n",
      "iteration [119]; kl:3182.137853\n",
      "iteration [120]; kl:3182.099071\n",
      "iteration [121]; kl:3182.059266\n",
      "iteration [122]; kl:3182.018329\n",
      "iteration [123]; kl:3181.976133\n",
      "iteration [124]; kl:3181.932536\n",
      "iteration [125]; kl:3181.88737\n",
      "iteration [126]; kl:3181.840447\n",
      "iteration [127]; kl:3181.791544\n",
      "iteration [128]; kl:3181.740409\n",
      "iteration [129]; kl:3181.686746\n",
      "iteration [130]; kl:3181.630215\n",
      "iteration [131]; kl:3181.570422\n",
      "iteration [132]; kl:3181.506909\n",
      "iteration [133]; kl:3181.439147\n",
      "iteration [134]; kl:3181.366524\n",
      "iteration [135]; kl:3181.288332\n",
      "iteration [136]; kl:3181.203756\n",
      "iteration [137]; kl:3181.111858\n",
      "iteration [138]; kl:3181.011572\n",
      "iteration [139]; kl:3180.901684\n",
      "iteration [140]; kl:3180.780836\n",
      "iteration [141]; kl:3180.647527\n",
      "iteration [142]; kl:3180.500131\n",
      "iteration [143]; kl:3180.336939\n",
      "iteration [144]; kl:3180.156233\n",
      "iteration [145]; kl:3179.9564\n",
      "iteration [146]; kl:3179.736107\n",
      "iteration [147]; kl:3179.494539\n",
      "iteration [148]; kl:3179.231705\n",
      "iteration [149]; kl:3178.94879\n",
      "iteration [150]; kl:3178.648515\n",
      "iteration [151]; kl:3178.335419\n",
      "iteration [152]; kl:3178.015942\n",
      "iteration [153]; kl:3177.698192\n",
      "iteration [154]; kl:3177.391318\n",
      "iteration [155]; kl:3177.104493\n",
      "iteration [156]; kl:3176.8457\n",
      "iteration [157]; kl:3176.620613\n",
      "iteration [158]; kl:3176.431877\n",
      "iteration [159]; kl:3176.279009\n",
      "iteration [160]; kl:3176.158889\n",
      "iteration [161]; kl:3176.066663\n",
      "iteration [162]; kl:3175.996747\n",
      "iteration [163]; kl:3175.943703\n",
      "iteration [164]; kl:3175.902813\n",
      "iteration [165]; kl:3175.87034\n",
      "iteration [166]; kl:3175.843532\n",
      "iteration [167]; kl:3175.82048\n",
      "iteration [168]; kl:3175.799922\n",
      "iteration [169]; kl:3175.781049\n",
      "iteration [170]; kl:3175.763355\n",
      "iteration [171]; kl:3175.746527\n",
      "iteration [172]; kl:3175.730371\n",
      "iteration [173]; kl:3175.714763\n",
      "iteration [174]; kl:3175.699622\n",
      "iteration [175]; kl:3175.684896\n",
      "iteration [176]; kl:3175.670544\n",
      "iteration [177]; kl:3175.656539\n",
      "iteration [178]; kl:3175.642856\n",
      "iteration [179]; kl:3175.629477\n",
      "iteration [180]; kl:3175.616387\n",
      "iteration [181]; kl:3175.603571\n",
      "iteration [182]; kl:3175.591017\n",
      "iteration [183]; kl:3175.578715\n",
      "iteration [184]; kl:3175.566653\n",
      "iteration [185]; kl:3175.554823\n",
      "iteration [186]; kl:3175.543216\n",
      "iteration [187]; kl:3175.531825\n",
      "iteration [188]; kl:3175.520641\n",
      "iteration [189]; kl:3175.509659\n",
      "iteration [190]; kl:3175.498872\n",
      "iteration [191]; kl:3175.488274\n",
      "iteration [192]; kl:3175.477859\n",
      "iteration [193]; kl:3175.467622\n",
      "iteration [194]; kl:3175.457558\n",
      "iteration [195]; kl:3175.447663\n",
      "CAVI done. Termination after 195 steps in 3.52 seconds\n"
     ]
    }
   ],
   "source": [
    "e_z, stick_beta_params, pop_beta_params = \\\n",
    "    cavi_lib.run_cavi(g_obs, e_log_pop_freq, e_log_1m_pop_freq,\n",
    "                e_log_sticks, e_log_1m_sticks,\n",
    "                prior_params_dict, \n",
    "                max_iter = 2000, f_tol = 1e-2)"
   ]
  },
  {
   "cell_type": "code",
   "execution_count": 18,
   "metadata": {
    "collapsed": true
   },
   "outputs": [],
   "source": [
    "# check results after CAVI steps"
   ]
  },
  {
   "cell_type": "code",
   "execution_count": 19,
   "metadata": {
    "code_folding": [],
    "collapsed": false
   },
   "outputs": [],
   "source": [
    "# Set VB parameters\n",
    "if use_logitnormal_sticks: \n",
    "    # convert beta params to logitnormal\n",
    "    raise NotImplementedError()\n",
    "else: \n",
    "    vb_params_dict['pop_freq_beta_params'] = pop_beta_params\n",
    "    vb_params_dict['ind_mix_stick_beta_params'] = stick_beta_params"
   ]
  },
  {
   "cell_type": "code",
   "execution_count": 20,
   "metadata": {
    "collapsed": false
   },
   "outputs": [],
   "source": [
    "e_pop_allele_freq = modeling_lib.get_e_beta(pop_beta_params)"
   ]
  },
  {
   "cell_type": "code",
   "execution_count": 21,
   "metadata": {
    "collapsed": false
   },
   "outputs": [],
   "source": [
    "if k_approx < 6: \n",
    "    perm_best = data_utils.find_min_perm(e_pop_allele_freq, true_pop_allele_freq, axis = 1)\n",
    "else: \n",
    "    perm_best = perm"
   ]
  },
  {
   "cell_type": "code",
   "execution_count": 22,
   "metadata": {
    "collapsed": true
   },
   "outputs": [],
   "source": [
    "ind_mix_stick_beta_params = vb_params_dict['ind_mix_stick_beta_params']\n",
    "e_stick_lengths = \\\n",
    "        modeling_lib.get_e_beta(ind_mix_stick_beta_params)\n",
    "e_ind_admix = cluster_quantities_lib.get_mixture_weights_from_stick_break_propns(e_stick_lengths)[:, perm_best]"
   ]
  },
  {
   "cell_type": "code",
   "execution_count": 23,
   "metadata": {
    "collapsed": false
   },
   "outputs": [
    {
     "data": {
      "image/png": "[encoded data removed]",
      "text/plain": [
       "<Figure size 1152x172.8 with 1 Axes>"
      ]
     },
     "metadata": {
      "needs_background": "light"
     },
     "output_type": "display_data"
    },
    {
     "data": {
      "image/png": "[encoded data removed]",
      "text/plain": [
       "<Figure size 1152x144 with 1 Axes>"
      ]
     },
     "metadata": {
      "needs_background": "light"
     },
     "output_type": "display_data"
    }
   ],
   "source": [
    "plt.matshow(e_ind_admix.T); \n",
    "plt.matshow(true_ind_admix_propn.T);"
   ]
  },
  {
   "cell_type": "code",
   "execution_count": 24,
   "metadata": {
    "collapsed": true
   },
   "outputs": [],
   "source": [
    "vb_params_dict_cavi = deepcopy(vb_params_dict)"
   ]
  },
  {
   "cell_type": "markdown",
   "metadata": {},
   "source": [
    "# Check Hessian here?\n",
    "\n",
    "Would have checked at the init, but its not even PSD"
   ]
  },
  {
   "cell_type": "code",
   "execution_count": 25,
   "metadata": {
    "collapsed": true
   },
   "outputs": [],
   "source": [
    "get_kl_from_vb_free_prior_free = paragami.FlattenFunctionInput(original_fun=structure_model_lib.get_kl, \n",
    "                                    patterns = [vb_params_paragami, prior_params_paragami],\n",
    "                                    free = True,\n",
    "                                    argnums = [1, 2])"
   ]
  },
  {
   "cell_type": "code",
   "execution_count": 26,
   "metadata": {
    "collapsed": false
   },
   "outputs": [
    {
     "name": "stdout",
     "output_type": "stream",
     "text": [
      "computing hessian ... \n"
     ]
    },
    {
     "ename": "ValueError",
     "evalue": "The truth value of an array with more than one element is ambiguous. Use a.any() or a.all()",
     "output_type": "error",
     "traceback": [
      "\u001b[0;31m---------------------------------------------------------------------------\u001b[0m",
      "\u001b[0;31mValueError\u001b[0m                                Traceback (most recent call last)",
      "\u001b[0;32m<ipython-input-26-138d9daf6b6a>\u001b[0m in \u001b[0;36m<module>\u001b[0;34m()\u001b[0m\n\u001b[1;32m      9\u001b[0m             \u001b[0mfactorize_hessian\u001b[0m\u001b[0;34m=\u001b[0m\u001b[0;32mTrue\u001b[0m\u001b[0;34m,\u001b[0m\u001b[0;34m\u001b[0m\u001b[0m\n\u001b[1;32m     10\u001b[0m             \u001b[0mhyper_par_objective_fun\u001b[0m\u001b[0;34m=\u001b[0m\u001b[0;32mNone\u001b[0m\u001b[0;34m,\u001b[0m\u001b[0;34m\u001b[0m\u001b[0m\n\u001b[0;32m---> 11\u001b[0;31m             grad_tol=1e-8)\n\u001b[0m",
      "\u001b[0;32m~/anaconda3/envs/genomic_time_series_py35/lib/python3.5/site-packages/vittles/sensitivity_lib.py\u001b[0m in \u001b[0;36m__init__\u001b[0;34m(self, objective_fun, opt_par_value, hyper_par_value, validate_optimum, hessian_at_opt, cross_hess_at_opt, sens_mat, factorize_hessian, hyper_par_objective_fun, grad_tol, system_solver, compute_hess, cg_opts)\u001b[0m\n\u001b[1;32m    362\u001b[0m             \u001b[0msystem_solver\u001b[0m\u001b[0;34m=\u001b[0m\u001b[0msystem_solver\u001b[0m\u001b[0;34m,\u001b[0m\u001b[0;34m\u001b[0m\u001b[0m\n\u001b[1;32m    363\u001b[0m             \u001b[0mcompute_hess\u001b[0m\u001b[0;34m=\u001b[0m\u001b[0mcompute_hess\u001b[0m\u001b[0;34m,\u001b[0m\u001b[0;34m\u001b[0m\u001b[0m\n\u001b[0;32m--> 364\u001b[0;31m             cg_opts=cg_opts)\n\u001b[0m\u001b[1;32m    365\u001b[0m \u001b[0;34m\u001b[0m\u001b[0m\n\u001b[1;32m    366\u001b[0m     def set_base_values(self,\n",
      "\u001b[0;32m~/anaconda3/envs/genomic_time_series_py35/lib/python3.5/site-packages/vittles/sensitivity_lib.py\u001b[0m in \u001b[0;36mset_base_values\u001b[0;34m(self, opt_par_value, hyper_par_value, hessian_at_opt, cross_hess_at_opt, sens_mat, factorize_hessian, validate_optimum, grad_tol, system_solver, compute_hess, cg_opts)\u001b[0m\n\u001b[1;32m    379\u001b[0m             \u001b[0;32mif\u001b[0m \u001b[0mcompute_hess\u001b[0m \u001b[0;32mor\u001b[0m \u001b[0;34m(\u001b[0m\u001b[0msystem_solver\u001b[0m \u001b[0;32mis\u001b[0m \u001b[0;32mNone\u001b[0m\u001b[0;34m)\u001b[0m\u001b[0;34m:\u001b[0m\u001b[0;34m\u001b[0m\u001b[0m\n\u001b[1;32m    380\u001b[0m                 \u001b[0mprint\u001b[0m\u001b[0;34m(\u001b[0m\u001b[0;34m'computing hessian ... '\u001b[0m\u001b[0;34m)\u001b[0m\u001b[0;34m\u001b[0m\u001b[0m\n\u001b[0;32m--> 381\u001b[0;31m                 \u001b[0mself\u001b[0m\u001b[0;34m.\u001b[0m\u001b[0m_hess0\u001b[0m \u001b[0;34m=\u001b[0m \u001b[0mself\u001b[0m\u001b[0;34m.\u001b[0m\u001b[0m_obj_fun_hessian\u001b[0m\u001b[0;34m(\u001b[0m\u001b[0mself\u001b[0m\u001b[0;34m.\u001b[0m\u001b[0m_opt0\u001b[0m\u001b[0;34m,\u001b[0m \u001b[0mself\u001b[0m\u001b[0;34m.\u001b[0m\u001b[0m_hyper0\u001b[0m\u001b[0;34m)\u001b[0m\u001b[0;34m\u001b[0m\u001b[0m\n\u001b[0m\u001b[1;32m    382\u001b[0m             \u001b[0;32melse\u001b[0m\u001b[0;34m:\u001b[0m\u001b[0;34m\u001b[0m\u001b[0m\n\u001b[1;32m    383\u001b[0m                 \u001b[0mself\u001b[0m\u001b[0;34m.\u001b[0m\u001b[0m_hess0\u001b[0m \u001b[0;34m=\u001b[0m \u001b[0;32mNone\u001b[0m\u001b[0;34m\u001b[0m\u001b[0m\n",
      "\u001b[0;32m~/Documents/BNP/autograd/autograd/wrap_util.py\u001b[0m in \u001b[0;36mnary_f\u001b[0;34m(*args, **kwargs)\u001b[0m\n\u001b[1;32m     18\u001b[0m             \u001b[0;32melse\u001b[0m\u001b[0;34m:\u001b[0m\u001b[0;34m\u001b[0m\u001b[0m\n\u001b[1;32m     19\u001b[0m                 \u001b[0mx\u001b[0m \u001b[0;34m=\u001b[0m \u001b[0mtuple\u001b[0m\u001b[0;34m(\u001b[0m\u001b[0margs\u001b[0m\u001b[0;34m[\u001b[0m\u001b[0mi\u001b[0m\u001b[0;34m]\u001b[0m \u001b[0;32mfor\u001b[0m \u001b[0mi\u001b[0m \u001b[0;32min\u001b[0m \u001b[0margnum\u001b[0m\u001b[0;34m)\u001b[0m\u001b[0;34m\u001b[0m\u001b[0m\n\u001b[0;32m---> 20\u001b[0;31m             \u001b[0;32mreturn\u001b[0m \u001b[0munary_operator\u001b[0m\u001b[0;34m(\u001b[0m\u001b[0munary_f\u001b[0m\u001b[0;34m,\u001b[0m \u001b[0mx\u001b[0m\u001b[0;34m,\u001b[0m \u001b[0;34m*\u001b[0m\u001b[0mnary_op_args\u001b[0m\u001b[0;34m,\u001b[0m \u001b[0;34m**\u001b[0m\u001b[0mnary_op_kwargs\u001b[0m\u001b[0;34m)\u001b[0m\u001b[0;34m\u001b[0m\u001b[0m\n\u001b[0m\u001b[1;32m     21\u001b[0m         \u001b[0;32mreturn\u001b[0m \u001b[0mnary_f\u001b[0m\u001b[0;34m\u001b[0m\u001b[0m\n\u001b[1;32m     22\u001b[0m     \u001b[0;32mreturn\u001b[0m \u001b[0mnary_operator\u001b[0m\u001b[0;34m\u001b[0m\u001b[0m\n",
      "\u001b[0;32m~/Documents/BNP/autograd/autograd/differential_operators.py\u001b[0m in \u001b[0;36mhessian\u001b[0;34m(fun, x)\u001b[0m\n\u001b[1;32m     71\u001b[0m \u001b[0;32mdef\u001b[0m \u001b[0mhessian\u001b[0m\u001b[0;34m(\u001b[0m\u001b[0mfun\u001b[0m\u001b[0;34m,\u001b[0m \u001b[0mx\u001b[0m\u001b[0;34m)\u001b[0m\u001b[0;34m:\u001b[0m\u001b[0;34m\u001b[0m\u001b[0m\n\u001b[1;32m     72\u001b[0m     \u001b[0;34m\"Returns a function that computes the exact Hessian.\"\u001b[0m\u001b[0;34m\u001b[0m\u001b[0m\n\u001b[0;32m---> 73\u001b[0;31m     \u001b[0;32mreturn\u001b[0m \u001b[0mjacobian\u001b[0m\u001b[0;34m(\u001b[0m\u001b[0mjacobian\u001b[0m\u001b[0;34m(\u001b[0m\u001b[0mfun\u001b[0m\u001b[0;34m)\u001b[0m\u001b[0;34m)\u001b[0m\u001b[0;34m(\u001b[0m\u001b[0mx\u001b[0m\u001b[0;34m)\u001b[0m\u001b[0;34m\u001b[0m\u001b[0m\n\u001b[0m\u001b[1;32m     74\u001b[0m \u001b[0;34m\u001b[0m\u001b[0m\n\u001b[1;32m     75\u001b[0m \u001b[0;34m@\u001b[0m\u001b[0munary_to_nary\u001b[0m\u001b[0;34m\u001b[0m\u001b[0m\n",
      "\u001b[0;32m~/Documents/BNP/autograd/autograd/wrap_util.py\u001b[0m in \u001b[0;36mnary_f\u001b[0;34m(*args, **kwargs)\u001b[0m\n\u001b[1;32m     18\u001b[0m             \u001b[0;32melse\u001b[0m\u001b[0;34m:\u001b[0m\u001b[0;34m\u001b[0m\u001b[0m\n\u001b[1;32m     19\u001b[0m                 \u001b[0mx\u001b[0m \u001b[0;34m=\u001b[0m \u001b[0mtuple\u001b[0m\u001b[0;34m(\u001b[0m\u001b[0margs\u001b[0m\u001b[0;34m[\u001b[0m\u001b[0mi\u001b[0m\u001b[0;34m]\u001b[0m \u001b[0;32mfor\u001b[0m \u001b[0mi\u001b[0m \u001b[0;32min\u001b[0m \u001b[0margnum\u001b[0m\u001b[0;34m)\u001b[0m\u001b[0;34m\u001b[0m\u001b[0m\n\u001b[0;32m---> 20\u001b[0;31m             \u001b[0;32mreturn\u001b[0m \u001b[0munary_operator\u001b[0m\u001b[0;34m(\u001b[0m\u001b[0munary_f\u001b[0m\u001b[0;34m,\u001b[0m \u001b[0mx\u001b[0m\u001b[0;34m,\u001b[0m \u001b[0;34m*\u001b[0m\u001b[0mnary_op_args\u001b[0m\u001b[0;34m,\u001b[0m \u001b[0;34m**\u001b[0m\u001b[0mnary_op_kwargs\u001b[0m\u001b[0;34m)\u001b[0m\u001b[0;34m\u001b[0m\u001b[0m\n\u001b[0m\u001b[1;32m     21\u001b[0m         \u001b[0;32mreturn\u001b[0m \u001b[0mnary_f\u001b[0m\u001b[0;34m\u001b[0m\u001b[0m\n\u001b[1;32m     22\u001b[0m     \u001b[0;32mreturn\u001b[0m \u001b[0mnary_operator\u001b[0m\u001b[0;34m\u001b[0m\u001b[0m\n",
      "\u001b[0;32m~/Documents/BNP/autograd/autograd/differential_operators.py\u001b[0m in \u001b[0;36mjacobian\u001b[0;34m(fun, x)\u001b[0m\n\u001b[1;32m     50\u001b[0m     \u001b[0;34m(\u001b[0m\u001b[0mout1\u001b[0m\u001b[0;34m,\u001b[0m \u001b[0mout2\u001b[0m\u001b[0;34m,\u001b[0m \u001b[0;34m...\u001b[0m\u001b[0;34m)\u001b[0m \u001b[0mthen\u001b[0m \u001b[0mthe\u001b[0m \u001b[0mJacobian\u001b[0m \u001b[0mhas\u001b[0m \u001b[0mshape\u001b[0m \u001b[0;34m(\u001b[0m\u001b[0mout1\u001b[0m\u001b[0;34m,\u001b[0m \u001b[0mout2\u001b[0m\u001b[0;34m,\u001b[0m \u001b[0;34m...\u001b[0m\u001b[0;34m,\u001b[0m \u001b[0min1\u001b[0m\u001b[0;34m,\u001b[0m \u001b[0min2\u001b[0m\u001b[0;34m,\u001b[0m \u001b[0;34m...\u001b[0m\u001b[0;34m)\u001b[0m\u001b[0;34m.\u001b[0m\u001b[0;34m\u001b[0m\u001b[0m\n\u001b[1;32m     51\u001b[0m     \"\"\"\n\u001b[0;32m---> 52\u001b[0;31m     \u001b[0mvjp\u001b[0m\u001b[0;34m,\u001b[0m \u001b[0mans\u001b[0m \u001b[0;34m=\u001b[0m \u001b[0m_make_vjp\u001b[0m\u001b[0;34m(\u001b[0m\u001b[0mfun\u001b[0m\u001b[0;34m,\u001b[0m \u001b[0mx\u001b[0m\u001b[0;34m)\u001b[0m\u001b[0;34m\u001b[0m\u001b[0m\n\u001b[0m\u001b[1;32m     53\u001b[0m     \u001b[0mans_vspace\u001b[0m \u001b[0;34m=\u001b[0m \u001b[0mvspace\u001b[0m\u001b[0;34m(\u001b[0m\u001b[0mans\u001b[0m\u001b[0;34m)\u001b[0m\u001b[0;34m\u001b[0m\u001b[0m\n\u001b[1;32m     54\u001b[0m     \u001b[0mjacobian_shape\u001b[0m \u001b[0;34m=\u001b[0m \u001b[0mans_vspace\u001b[0m\u001b[0;34m.\u001b[0m\u001b[0mshape\u001b[0m \u001b[0;34m+\u001b[0m \u001b[0mvspace\u001b[0m\u001b[0;34m(\u001b[0m\u001b[0mx\u001b[0m\u001b[0;34m)\u001b[0m\u001b[0;34m.\u001b[0m\u001b[0mshape\u001b[0m\u001b[0;34m\u001b[0m\u001b[0m\n",
      "\u001b[0;32m~/Documents/BNP/autograd/autograd/core.py\u001b[0m in \u001b[0;36mmake_vjp\u001b[0;34m(fun, x)\u001b[0m\n\u001b[1;32m      8\u001b[0m \u001b[0;32mdef\u001b[0m \u001b[0mmake_vjp\u001b[0m\u001b[0;34m(\u001b[0m\u001b[0mfun\u001b[0m\u001b[0;34m,\u001b[0m \u001b[0mx\u001b[0m\u001b[0;34m)\u001b[0m\u001b[0;34m:\u001b[0m\u001b[0;34m\u001b[0m\u001b[0m\n\u001b[1;32m      9\u001b[0m     \u001b[0mstart_node\u001b[0m \u001b[0;34m=\u001b[0m \u001b[0mVJPNode\u001b[0m\u001b[0;34m.\u001b[0m\u001b[0mnew_root\u001b[0m\u001b[0;34m(\u001b[0m\u001b[0;34m)\u001b[0m\u001b[0;34m\u001b[0m\u001b[0m\n\u001b[0;32m---> 10\u001b[0;31m     \u001b[0mend_value\u001b[0m\u001b[0;34m,\u001b[0m \u001b[0mend_node\u001b[0m \u001b[0;34m=\u001b[0m  \u001b[0mtrace\u001b[0m\u001b[0;34m(\u001b[0m\u001b[0mstart_node\u001b[0m\u001b[0;34m,\u001b[0m \u001b[0mfun\u001b[0m\u001b[0;34m,\u001b[0m \u001b[0mx\u001b[0m\u001b[0;34m)\u001b[0m\u001b[0;34m\u001b[0m\u001b[0m\n\u001b[0m\u001b[1;32m     11\u001b[0m     \u001b[0;32mif\u001b[0m \u001b[0mend_node\u001b[0m \u001b[0;32mis\u001b[0m \u001b[0;32mNone\u001b[0m\u001b[0;34m:\u001b[0m\u001b[0;34m\u001b[0m\u001b[0m\n\u001b[1;32m     12\u001b[0m         \u001b[0;32mdef\u001b[0m \u001b[0mvjp\u001b[0m\u001b[0;34m(\u001b[0m\u001b[0mg\u001b[0m\u001b[0;34m)\u001b[0m\u001b[0;34m:\u001b[0m \u001b[0;32mreturn\u001b[0m \u001b[0mvspace\u001b[0m\u001b[0;34m(\u001b[0m\u001b[0mx\u001b[0m\u001b[0;34m)\u001b[0m\u001b[0;34m.\u001b[0m\u001b[0mzeros\u001b[0m\u001b[0;34m(\u001b[0m\u001b[0;34m)\u001b[0m\u001b[0;34m\u001b[0m\u001b[0m\n",
      "\u001b[0;32m~/Documents/BNP/autograd/autograd/tracer.py\u001b[0m in \u001b[0;36mtrace\u001b[0;34m(start_node, fun, x)\u001b[0m\n\u001b[1;32m      8\u001b[0m     \u001b[0;32mwith\u001b[0m \u001b[0mtrace_stack\u001b[0m\u001b[0;34m.\u001b[0m\u001b[0mnew_trace\u001b[0m\u001b[0;34m(\u001b[0m\u001b[0;34m)\u001b[0m \u001b[0;32mas\u001b[0m \u001b[0mt\u001b[0m\u001b[0;34m:\u001b[0m\u001b[0;34m\u001b[0m\u001b[0m\n\u001b[1;32m      9\u001b[0m         \u001b[0mstart_box\u001b[0m \u001b[0;34m=\u001b[0m \u001b[0mnew_box\u001b[0m\u001b[0;34m(\u001b[0m\u001b[0mx\u001b[0m\u001b[0;34m,\u001b[0m \u001b[0mt\u001b[0m\u001b[0;34m,\u001b[0m \u001b[0mstart_node\u001b[0m\u001b[0;34m)\u001b[0m\u001b[0;34m\u001b[0m\u001b[0m\n\u001b[0;32m---> 10\u001b[0;31m         \u001b[0mend_box\u001b[0m \u001b[0;34m=\u001b[0m \u001b[0mfun\u001b[0m\u001b[0;34m(\u001b[0m\u001b[0mstart_box\u001b[0m\u001b[0;34m)\u001b[0m\u001b[0;34m\u001b[0m\u001b[0m\n\u001b[0m\u001b[1;32m     11\u001b[0m         \u001b[0;32mif\u001b[0m \u001b[0misbox\u001b[0m\u001b[0;34m(\u001b[0m\u001b[0mend_box\u001b[0m\u001b[0;34m)\u001b[0m \u001b[0;32mand\u001b[0m \u001b[0mend_box\u001b[0m\u001b[0;34m.\u001b[0m\u001b[0m_trace\u001b[0m \u001b[0;34m==\u001b[0m \u001b[0mstart_box\u001b[0m\u001b[0;34m.\u001b[0m\u001b[0m_trace\u001b[0m\u001b[0;34m:\u001b[0m\u001b[0;34m\u001b[0m\u001b[0m\n\u001b[1;32m     12\u001b[0m             \u001b[0;32mreturn\u001b[0m \u001b[0mend_box\u001b[0m\u001b[0;34m.\u001b[0m\u001b[0m_value\u001b[0m\u001b[0;34m,\u001b[0m \u001b[0mend_box\u001b[0m\u001b[0;34m.\u001b[0m\u001b[0m_node\u001b[0m\u001b[0;34m\u001b[0m\u001b[0m\n",
      "\u001b[0;32m~/Documents/BNP/autograd/autograd/wrap_util.py\u001b[0m in \u001b[0;36munary_f\u001b[0;34m(x)\u001b[0m\n\u001b[1;32m     13\u001b[0m                 \u001b[0;32melse\u001b[0m\u001b[0;34m:\u001b[0m\u001b[0;34m\u001b[0m\u001b[0m\n\u001b[1;32m     14\u001b[0m                     \u001b[0msubargs\u001b[0m \u001b[0;34m=\u001b[0m \u001b[0msubvals\u001b[0m\u001b[0;34m(\u001b[0m\u001b[0margs\u001b[0m\u001b[0;34m,\u001b[0m \u001b[0mzip\u001b[0m\u001b[0;34m(\u001b[0m\u001b[0margnum\u001b[0m\u001b[0;34m,\u001b[0m \u001b[0mx\u001b[0m\u001b[0;34m)\u001b[0m\u001b[0;34m)\u001b[0m\u001b[0;34m\u001b[0m\u001b[0m\n\u001b[0;32m---> 15\u001b[0;31m                 \u001b[0;32mreturn\u001b[0m \u001b[0mfun\u001b[0m\u001b[0;34m(\u001b[0m\u001b[0;34m*\u001b[0m\u001b[0msubargs\u001b[0m\u001b[0;34m,\u001b[0m \u001b[0;34m**\u001b[0m\u001b[0mkwargs\u001b[0m\u001b[0;34m)\u001b[0m\u001b[0;34m\u001b[0m\u001b[0m\n\u001b[0m\u001b[1;32m     16\u001b[0m             \u001b[0;32mif\u001b[0m \u001b[0misinstance\u001b[0m\u001b[0;34m(\u001b[0m\u001b[0margnum\u001b[0m\u001b[0;34m,\u001b[0m \u001b[0mint\u001b[0m\u001b[0;34m)\u001b[0m\u001b[0;34m:\u001b[0m\u001b[0;34m\u001b[0m\u001b[0m\n\u001b[1;32m     17\u001b[0m                 \u001b[0mx\u001b[0m \u001b[0;34m=\u001b[0m \u001b[0margs\u001b[0m\u001b[0;34m[\u001b[0m\u001b[0margnum\u001b[0m\u001b[0;34m]\u001b[0m\u001b[0;34m\u001b[0m\u001b[0m\n",
      "\u001b[0;32m~/Documents/BNP/autograd/autograd/wrap_util.py\u001b[0m in \u001b[0;36mnary_f\u001b[0;34m(*args, **kwargs)\u001b[0m\n\u001b[1;32m     18\u001b[0m             \u001b[0;32melse\u001b[0m\u001b[0;34m:\u001b[0m\u001b[0;34m\u001b[0m\u001b[0m\n\u001b[1;32m     19\u001b[0m                 \u001b[0mx\u001b[0m \u001b[0;34m=\u001b[0m \u001b[0mtuple\u001b[0m\u001b[0;34m(\u001b[0m\u001b[0margs\u001b[0m\u001b[0;34m[\u001b[0m\u001b[0mi\u001b[0m\u001b[0;34m]\u001b[0m \u001b[0;32mfor\u001b[0m \u001b[0mi\u001b[0m \u001b[0;32min\u001b[0m \u001b[0margnum\u001b[0m\u001b[0;34m)\u001b[0m\u001b[0;34m\u001b[0m\u001b[0m\n\u001b[0;32m---> 20\u001b[0;31m             \u001b[0;32mreturn\u001b[0m \u001b[0munary_operator\u001b[0m\u001b[0;34m(\u001b[0m\u001b[0munary_f\u001b[0m\u001b[0;34m,\u001b[0m \u001b[0mx\u001b[0m\u001b[0;34m,\u001b[0m \u001b[0;34m*\u001b[0m\u001b[0mnary_op_args\u001b[0m\u001b[0;34m,\u001b[0m \u001b[0;34m**\u001b[0m\u001b[0mnary_op_kwargs\u001b[0m\u001b[0;34m)\u001b[0m\u001b[0;34m\u001b[0m\u001b[0m\n\u001b[0m\u001b[1;32m     21\u001b[0m         \u001b[0;32mreturn\u001b[0m \u001b[0mnary_f\u001b[0m\u001b[0;34m\u001b[0m\u001b[0m\n\u001b[1;32m     22\u001b[0m     \u001b[0;32mreturn\u001b[0m \u001b[0mnary_operator\u001b[0m\u001b[0;34m\u001b[0m\u001b[0m\n",
      "\u001b[0;32m~/Documents/BNP/autograd/autograd/differential_operators.py\u001b[0m in \u001b[0;36mjacobian\u001b[0;34m(fun, x)\u001b[0m\n\u001b[1;32m     50\u001b[0m     \u001b[0;34m(\u001b[0m\u001b[0mout1\u001b[0m\u001b[0;34m,\u001b[0m \u001b[0mout2\u001b[0m\u001b[0;34m,\u001b[0m \u001b[0;34m...\u001b[0m\u001b[0;34m)\u001b[0m \u001b[0mthen\u001b[0m \u001b[0mthe\u001b[0m \u001b[0mJacobian\u001b[0m \u001b[0mhas\u001b[0m \u001b[0mshape\u001b[0m \u001b[0;34m(\u001b[0m\u001b[0mout1\u001b[0m\u001b[0;34m,\u001b[0m \u001b[0mout2\u001b[0m\u001b[0;34m,\u001b[0m \u001b[0;34m...\u001b[0m\u001b[0;34m,\u001b[0m \u001b[0min1\u001b[0m\u001b[0;34m,\u001b[0m \u001b[0min2\u001b[0m\u001b[0;34m,\u001b[0m \u001b[0;34m...\u001b[0m\u001b[0;34m)\u001b[0m\u001b[0;34m.\u001b[0m\u001b[0;34m\u001b[0m\u001b[0m\n\u001b[1;32m     51\u001b[0m     \"\"\"\n\u001b[0;32m---> 52\u001b[0;31m     \u001b[0mvjp\u001b[0m\u001b[0;34m,\u001b[0m \u001b[0mans\u001b[0m \u001b[0;34m=\u001b[0m \u001b[0m_make_vjp\u001b[0m\u001b[0;34m(\u001b[0m\u001b[0mfun\u001b[0m\u001b[0;34m,\u001b[0m \u001b[0mx\u001b[0m\u001b[0;34m)\u001b[0m\u001b[0;34m\u001b[0m\u001b[0m\n\u001b[0m\u001b[1;32m     53\u001b[0m     \u001b[0mans_vspace\u001b[0m \u001b[0;34m=\u001b[0m \u001b[0mvspace\u001b[0m\u001b[0;34m(\u001b[0m\u001b[0mans\u001b[0m\u001b[0;34m)\u001b[0m\u001b[0;34m\u001b[0m\u001b[0m\n\u001b[1;32m     54\u001b[0m     \u001b[0mjacobian_shape\u001b[0m \u001b[0;34m=\u001b[0m \u001b[0mans_vspace\u001b[0m\u001b[0;34m.\u001b[0m\u001b[0mshape\u001b[0m \u001b[0;34m+\u001b[0m \u001b[0mvspace\u001b[0m\u001b[0;34m(\u001b[0m\u001b[0mx\u001b[0m\u001b[0;34m)\u001b[0m\u001b[0;34m.\u001b[0m\u001b[0mshape\u001b[0m\u001b[0;34m\u001b[0m\u001b[0m\n",
      "\u001b[0;32m~/Documents/BNP/autograd/autograd/core.py\u001b[0m in \u001b[0;36mmake_vjp\u001b[0;34m(fun, x)\u001b[0m\n\u001b[1;32m      8\u001b[0m \u001b[0;32mdef\u001b[0m \u001b[0mmake_vjp\u001b[0m\u001b[0;34m(\u001b[0m\u001b[0mfun\u001b[0m\u001b[0;34m,\u001b[0m \u001b[0mx\u001b[0m\u001b[0;34m)\u001b[0m\u001b[0;34m:\u001b[0m\u001b[0;34m\u001b[0m\u001b[0m\n\u001b[1;32m      9\u001b[0m     \u001b[0mstart_node\u001b[0m \u001b[0;34m=\u001b[0m \u001b[0mVJPNode\u001b[0m\u001b[0;34m.\u001b[0m\u001b[0mnew_root\u001b[0m\u001b[0;34m(\u001b[0m\u001b[0;34m)\u001b[0m\u001b[0;34m\u001b[0m\u001b[0m\n\u001b[0;32m---> 10\u001b[0;31m     \u001b[0mend_value\u001b[0m\u001b[0;34m,\u001b[0m \u001b[0mend_node\u001b[0m \u001b[0;34m=\u001b[0m  \u001b[0mtrace\u001b[0m\u001b[0;34m(\u001b[0m\u001b[0mstart_node\u001b[0m\u001b[0;34m,\u001b[0m \u001b[0mfun\u001b[0m\u001b[0;34m,\u001b[0m \u001b[0mx\u001b[0m\u001b[0;34m)\u001b[0m\u001b[0;34m\u001b[0m\u001b[0m\n\u001b[0m\u001b[1;32m     11\u001b[0m     \u001b[0;32mif\u001b[0m \u001b[0mend_node\u001b[0m \u001b[0;32mis\u001b[0m \u001b[0;32mNone\u001b[0m\u001b[0;34m:\u001b[0m\u001b[0;34m\u001b[0m\u001b[0m\n\u001b[1;32m     12\u001b[0m         \u001b[0;32mdef\u001b[0m \u001b[0mvjp\u001b[0m\u001b[0;34m(\u001b[0m\u001b[0mg\u001b[0m\u001b[0;34m)\u001b[0m\u001b[0;34m:\u001b[0m \u001b[0;32mreturn\u001b[0m \u001b[0mvspace\u001b[0m\u001b[0;34m(\u001b[0m\u001b[0mx\u001b[0m\u001b[0;34m)\u001b[0m\u001b[0;34m.\u001b[0m\u001b[0mzeros\u001b[0m\u001b[0;34m(\u001b[0m\u001b[0;34m)\u001b[0m\u001b[0;34m\u001b[0m\u001b[0m\n",
      "\u001b[0;32m~/Documents/BNP/autograd/autograd/tracer.py\u001b[0m in \u001b[0;36mtrace\u001b[0;34m(start_node, fun, x)\u001b[0m\n\u001b[1;32m      8\u001b[0m     \u001b[0;32mwith\u001b[0m \u001b[0mtrace_stack\u001b[0m\u001b[0;34m.\u001b[0m\u001b[0mnew_trace\u001b[0m\u001b[0;34m(\u001b[0m\u001b[0;34m)\u001b[0m \u001b[0;32mas\u001b[0m \u001b[0mt\u001b[0m\u001b[0;34m:\u001b[0m\u001b[0;34m\u001b[0m\u001b[0m\n\u001b[1;32m      9\u001b[0m         \u001b[0mstart_box\u001b[0m \u001b[0;34m=\u001b[0m \u001b[0mnew_box\u001b[0m\u001b[0;34m(\u001b[0m\u001b[0mx\u001b[0m\u001b[0;34m,\u001b[0m \u001b[0mt\u001b[0m\u001b[0;34m,\u001b[0m \u001b[0mstart_node\u001b[0m\u001b[0;34m)\u001b[0m\u001b[0;34m\u001b[0m\u001b[0m\n\u001b[0;32m---> 10\u001b[0;31m         \u001b[0mend_box\u001b[0m \u001b[0;34m=\u001b[0m \u001b[0mfun\u001b[0m\u001b[0;34m(\u001b[0m\u001b[0mstart_box\u001b[0m\u001b[0;34m)\u001b[0m\u001b[0;34m\u001b[0m\u001b[0m\n\u001b[0m\u001b[1;32m     11\u001b[0m         \u001b[0;32mif\u001b[0m \u001b[0misbox\u001b[0m\u001b[0;34m(\u001b[0m\u001b[0mend_box\u001b[0m\u001b[0;34m)\u001b[0m \u001b[0;32mand\u001b[0m \u001b[0mend_box\u001b[0m\u001b[0;34m.\u001b[0m\u001b[0m_trace\u001b[0m \u001b[0;34m==\u001b[0m \u001b[0mstart_box\u001b[0m\u001b[0;34m.\u001b[0m\u001b[0m_trace\u001b[0m\u001b[0;34m:\u001b[0m\u001b[0;34m\u001b[0m\u001b[0m\n\u001b[1;32m     12\u001b[0m             \u001b[0;32mreturn\u001b[0m \u001b[0mend_box\u001b[0m\u001b[0;34m.\u001b[0m\u001b[0m_value\u001b[0m\u001b[0;34m,\u001b[0m \u001b[0mend_box\u001b[0m\u001b[0;34m.\u001b[0m\u001b[0m_node\u001b[0m\u001b[0;34m\u001b[0m\u001b[0m\n",
      "\u001b[0;32m~/Documents/BNP/autograd/autograd/wrap_util.py\u001b[0m in \u001b[0;36munary_f\u001b[0;34m(x)\u001b[0m\n\u001b[1;32m     13\u001b[0m                 \u001b[0;32melse\u001b[0m\u001b[0;34m:\u001b[0m\u001b[0;34m\u001b[0m\u001b[0m\n\u001b[1;32m     14\u001b[0m                     \u001b[0msubargs\u001b[0m \u001b[0;34m=\u001b[0m \u001b[0msubvals\u001b[0m\u001b[0;34m(\u001b[0m\u001b[0margs\u001b[0m\u001b[0;34m,\u001b[0m \u001b[0mzip\u001b[0m\u001b[0;34m(\u001b[0m\u001b[0margnum\u001b[0m\u001b[0;34m,\u001b[0m \u001b[0mx\u001b[0m\u001b[0;34m)\u001b[0m\u001b[0;34m)\u001b[0m\u001b[0;34m\u001b[0m\u001b[0m\n\u001b[0;32m---> 15\u001b[0;31m                 \u001b[0;32mreturn\u001b[0m \u001b[0mfun\u001b[0m\u001b[0;34m(\u001b[0m\u001b[0;34m*\u001b[0m\u001b[0msubargs\u001b[0m\u001b[0;34m,\u001b[0m \u001b[0;34m**\u001b[0m\u001b[0mkwargs\u001b[0m\u001b[0;34m)\u001b[0m\u001b[0;34m\u001b[0m\u001b[0m\n\u001b[0m\u001b[1;32m     16\u001b[0m             \u001b[0;32mif\u001b[0m \u001b[0misinstance\u001b[0m\u001b[0;34m(\u001b[0m\u001b[0margnum\u001b[0m\u001b[0;34m,\u001b[0m \u001b[0mint\u001b[0m\u001b[0;34m)\u001b[0m\u001b[0;34m:\u001b[0m\u001b[0;34m\u001b[0m\u001b[0m\n\u001b[1;32m     17\u001b[0m                 \u001b[0mx\u001b[0m \u001b[0;34m=\u001b[0m \u001b[0margs\u001b[0m\u001b[0;34m[\u001b[0m\u001b[0margnum\u001b[0m\u001b[0;34m]\u001b[0m\u001b[0;34m\u001b[0m\u001b[0m\n",
      "\u001b[0;32m~/Documents/BNP/autograd/autograd/wrap_util.py\u001b[0m in \u001b[0;36munary_f\u001b[0;34m(x)\u001b[0m\n\u001b[1;32m     13\u001b[0m                 \u001b[0;32melse\u001b[0m\u001b[0;34m:\u001b[0m\u001b[0;34m\u001b[0m\u001b[0m\n\u001b[1;32m     14\u001b[0m                     \u001b[0msubargs\u001b[0m \u001b[0;34m=\u001b[0m \u001b[0msubvals\u001b[0m\u001b[0;34m(\u001b[0m\u001b[0margs\u001b[0m\u001b[0;34m,\u001b[0m \u001b[0mzip\u001b[0m\u001b[0;34m(\u001b[0m\u001b[0margnum\u001b[0m\u001b[0;34m,\u001b[0m \u001b[0mx\u001b[0m\u001b[0;34m)\u001b[0m\u001b[0;34m)\u001b[0m\u001b[0;34m\u001b[0m\u001b[0m\n\u001b[0;32m---> 15\u001b[0;31m                 \u001b[0;32mreturn\u001b[0m \u001b[0mfun\u001b[0m\u001b[0;34m(\u001b[0m\u001b[0;34m*\u001b[0m\u001b[0msubargs\u001b[0m\u001b[0;34m,\u001b[0m \u001b[0;34m**\u001b[0m\u001b[0mkwargs\u001b[0m\u001b[0;34m)\u001b[0m\u001b[0;34m\u001b[0m\u001b[0m\n\u001b[0m\u001b[1;32m     16\u001b[0m             \u001b[0;32mif\u001b[0m \u001b[0misinstance\u001b[0m\u001b[0;34m(\u001b[0m\u001b[0margnum\u001b[0m\u001b[0;34m,\u001b[0m \u001b[0mint\u001b[0m\u001b[0;34m)\u001b[0m\u001b[0;34m:\u001b[0m\u001b[0;34m\u001b[0m\u001b[0m\n\u001b[1;32m     17\u001b[0m                 \u001b[0mx\u001b[0m \u001b[0;34m=\u001b[0m \u001b[0margs\u001b[0m\u001b[0;34m[\u001b[0m\u001b[0margnum\u001b[0m\u001b[0;34m]\u001b[0m\u001b[0;34m\u001b[0m\u001b[0m\n",
      "\u001b[0;32m<ipython-input-26-138d9daf6b6a>\u001b[0m in \u001b[0;36m<lambda>\u001b[0;34m(x, y)\u001b[0m\n\u001b[1;32m      1\u001b[0m vb_sens_cavi =         vittles.HyperparameterSensitivityLinearApproximation(\n\u001b[1;32m      2\u001b[0m             objective_fun = lambda x, y: get_kl_from_vb_free_prior_free(g_obs, x, y, gh_loc, gh_weights, \n\u001b[0;32m----> 3\u001b[0;31m                                                                         use_logitnormal_sticks),\n\u001b[0m\u001b[1;32m      4\u001b[0m             \u001b[0mopt_par_value\u001b[0m \u001b[0;34m=\u001b[0m \u001b[0mvb_params_paragami\u001b[0m\u001b[0;34m.\u001b[0m\u001b[0mflatten\u001b[0m\u001b[0;34m(\u001b[0m\u001b[0mvb_params_dict_cavi\u001b[0m\u001b[0;34m,\u001b[0m \u001b[0mfree\u001b[0m \u001b[0;34m=\u001b[0m \u001b[0;32mTrue\u001b[0m\u001b[0;34m)\u001b[0m\u001b[0;34m,\u001b[0m\u001b[0;34m\u001b[0m\u001b[0m\n\u001b[1;32m      5\u001b[0m             \u001b[0mhyper_par_value\u001b[0m \u001b[0;34m=\u001b[0m \u001b[0mprior_free_params\u001b[0m\u001b[0;34m,\u001b[0m\u001b[0;34m\u001b[0m\u001b[0m\n",
      "\u001b[0;32m~/anaconda3/envs/genomic_time_series_py35/lib/python3.5/site-packages/paragami/function_patterns.py\u001b[0m in \u001b[0;36m__call__\u001b[0;34m(self, *args, **kwargs)\u001b[0m\n\u001b[1;32m    113\u001b[0m         \u001b[0mnew_args\u001b[0m \u001b[0;34m+=\u001b[0m \u001b[0margs\u001b[0m\u001b[0;34m[\u001b[0m\u001b[0mlast_argnum\u001b[0m\u001b[0;34m:\u001b[0m\u001b[0mlen\u001b[0m\u001b[0;34m(\u001b[0m\u001b[0margs\u001b[0m\u001b[0;34m)\u001b[0m\u001b[0;34m]\u001b[0m\u001b[0;34m\u001b[0m\u001b[0m\n\u001b[1;32m    114\u001b[0m \u001b[0;34m\u001b[0m\u001b[0m\n\u001b[0;32m--> 115\u001b[0;31m         \u001b[0;32mreturn\u001b[0m \u001b[0mself\u001b[0m\u001b[0;34m.\u001b[0m\u001b[0m_fun\u001b[0m\u001b[0;34m(\u001b[0m\u001b[0;34m*\u001b[0m\u001b[0mnew_args\u001b[0m\u001b[0;34m,\u001b[0m \u001b[0;34m**\u001b[0m\u001b[0mkwargs\u001b[0m\u001b[0;34m)\u001b[0m\u001b[0;34m\u001b[0m\u001b[0m\n\u001b[0m\u001b[1;32m    116\u001b[0m \u001b[0;34m\u001b[0m\u001b[0m\n\u001b[1;32m    117\u001b[0m \u001b[0;34m\u001b[0m\u001b[0m\n",
      "\u001b[0;32m~/anaconda3/envs/genomic_time_series_py35/lib/python3.5/site-packages/vb_lib/structure_model_lib.py\u001b[0m in \u001b[0;36mget_kl\u001b[0;34m(g_obs, vb_params_dict, prior_params_dict, use_logitnormal_sticks, gh_loc, gh_weights, e_z, obs_weights, loci_weights)\u001b[0m\n\u001b[1;32m    308\u001b[0m                                     \u001b[0muse_logitnormal_sticks\u001b[0m \u001b[0;34m=\u001b[0m \u001b[0muse_logitnormal_sticks\u001b[0m\u001b[0;34m,\u001b[0m\u001b[0;34m\u001b[0m\u001b[0m\n\u001b[1;32m    309\u001b[0m                                     \u001b[0mgh_loc\u001b[0m \u001b[0;34m=\u001b[0m \u001b[0mgh_loc\u001b[0m\u001b[0;34m,\u001b[0m\u001b[0;34m\u001b[0m\u001b[0m\n\u001b[0;32m--> 310\u001b[0;31m                                     gh_weights = gh_weights)\n\u001b[0m\u001b[1;32m    311\u001b[0m     \u001b[0;31m# joint log likelihood\u001b[0m\u001b[0;34m\u001b[0m\u001b[0;34m\u001b[0m\u001b[0m\n\u001b[1;32m    312\u001b[0m     log_lik, e_z = get_e_joint_loglik_from_nat_params(g_obs, e_z,\n",
      "\u001b[0;32m~/anaconda3/envs/genomic_time_series_py35/lib/python3.5/site-packages/vb_lib/structure_model_lib.py\u001b[0m in \u001b[0;36mget_moments_from_vb_params_dict\u001b[0;34m(g_obs, vb_params_dict, use_logitnormal_sticks, gh_loc, gh_weights)\u001b[0m\n\u001b[1;32m    346\u001b[0m                                     gh_weights = None):\n\u001b[1;32m    347\u001b[0m     \u001b[0;31m# get expected sticks\u001b[0m\u001b[0;34m\u001b[0m\u001b[0;34m\u001b[0m\u001b[0m\n\u001b[0;32m--> 348\u001b[0;31m     \u001b[0;32mif\u001b[0m \u001b[0muse_logitnormal_sticks\u001b[0m\u001b[0;34m:\u001b[0m\u001b[0;34m\u001b[0m\u001b[0m\n\u001b[0m\u001b[1;32m    349\u001b[0m         \u001b[0;32massert\u001b[0m \u001b[0mgh_loc\u001b[0m \u001b[0;32mis\u001b[0m \u001b[0;32mnot\u001b[0m \u001b[0;32mNone\u001b[0m\u001b[0;34m\u001b[0m\u001b[0m\n\u001b[1;32m    350\u001b[0m         \u001b[0;32massert\u001b[0m \u001b[0mgh_weights\u001b[0m \u001b[0;32mis\u001b[0m \u001b[0;32mnot\u001b[0m \u001b[0;32mNone\u001b[0m\u001b[0;34m\u001b[0m\u001b[0m\n",
      "\u001b[0;31mValueError\u001b[0m: The truth value of an array with more than one element is ambiguous. Use a.any() or a.all()"
     ]
    }
   ],
   "source": [
    "vb_sens_cavi = \\\n",
    "        vittles.HyperparameterSensitivityLinearApproximation(\n",
    "            objective_fun = lambda x, y: get_kl_from_vb_free_prior_free(g_obs, x, y, gh_loc, gh_weights, \n",
    "                                                                        use_logitnormal_sticks),\n",
    "            opt_par_value = vb_params_paragami.flatten(vb_params_dict_cavi, free = True), \n",
    "            hyper_par_value = prior_free_params,\n",
    "            validate_optimum=False,\n",
    "            hessian_at_opt=None,\n",
    "            cross_hess_at_opt=None,\n",
    "            factorize_hessian=True,\n",
    "            hyper_par_objective_fun=None,\n",
    "            grad_tol=1e-8)"
   ]
  },
  {
   "cell_type": "code",
   "execution_count": 27,
   "metadata": {
    "collapsed": false
   },
   "outputs": [
    {
     "ename": "NameError",
     "evalue": "name 'str_opt_lib' is not defined",
     "output_type": "error",
     "traceback": [
      "\u001b[0;31m---------------------------------------------------------------------------\u001b[0m",
      "\u001b[0;31mNameError\u001b[0m                                 Traceback (most recent call last)",
      "\u001b[0;32m<ipython-input-27-ef4405840007>\u001b[0m in \u001b[0;36m<module>\u001b[0;34m()\u001b[0m\n\u001b[1;32m      2\u001b[0m \u001b[0mwhich_prior\u001b[0m \u001b[0;34m=\u001b[0m \u001b[0mnp\u001b[0m\u001b[0;34m.\u001b[0m\u001b[0marray\u001b[0m\u001b[0;34m(\u001b[0m\u001b[0;34m[\u001b[0m\u001b[0;36m1.\u001b[0m\u001b[0;34m,\u001b[0m \u001b[0;36m0.\u001b[0m\u001b[0;34m,\u001b[0m \u001b[0;36m0.\u001b[0m\u001b[0;34m]\u001b[0m\u001b[0;34m)\u001b[0m\u001b[0;34m\u001b[0m\u001b[0m\n\u001b[1;32m      3\u001b[0m \u001b[0;34m\u001b[0m\u001b[0m\n\u001b[0;32m----> 4\u001b[0;31m \u001b[0mhessian_der\u001b[0m \u001b[0;34m=\u001b[0m \u001b[0mstr_opt_lib\u001b[0m\u001b[0;34m.\u001b[0m\u001b[0mcheck_hessian\u001b[0m\u001b[0;34m(\u001b[0m\u001b[0mvb_sens_cavi\u001b[0m\u001b[0;34m,\u001b[0m \u001b[0mwhich_prior\u001b[0m\u001b[0;34m)\u001b[0m\u001b[0;34m\u001b[0m\u001b[0m\n\u001b[0m",
      "\u001b[0;31mNameError\u001b[0m: name 'str_opt_lib' is not defined"
     ]
    }
   ],
   "source": [
    "vb_cavi_free_params = vb_params_paragami.flatten(vb_params_dict_cavi, free = True)\n",
    "which_prior = np.array([1., 0., 0.])\n",
    "\n",
    "hessian_der = str_opt_lib.check_hessian(vb_sens_cavi, which_prior)"
   ]
  },
  {
   "cell_type": "code",
   "execution_count": null,
   "metadata": {
    "collapsed": false
   },
   "outputs": [],
   "source": [
    "np.max(np.abs(hessian_der))"
   ]
  },
  {
   "cell_type": "code",
   "execution_count": null,
   "metadata": {
    "collapsed": true
   },
   "outputs": [],
   "source": [
    "# is this value meaningful? \n",
    "# lets compute the derivative using finite differences in the direction of the newton step"
   ]
  },
  {
   "cell_type": "code",
   "execution_count": null,
   "metadata": {
    "collapsed": false
   },
   "outputs": [],
   "source": [
    "# get newton step\n",
    "\n",
    "# gradient wrt to vb free parameters\n",
    "vb_grad = vb_sens_cavi._obj_fun_grad(vb_cavi_free_params, prior_free_params)\n",
    "\n",
    "# get the direction of the next Newton step\n",
    "step = - vb_sens_cavi.hess_solver.solve(vb_grad)\n",
    "step_mag = np.linalg.norm(step, 2)"
   ]
  },
  {
   "cell_type": "code",
   "execution_count": null,
   "metadata": {
    "collapsed": false
   },
   "outputs": [],
   "source": [
    "# get new sensitivities at new newton step\n",
    "h = 1e-4\n",
    "vb_cavi_free_params2 = vb_cavi_free_params + step * h / step_mag"
   ]
  },
  {
   "cell_type": "code",
   "execution_count": null,
   "metadata": {
    "collapsed": true
   },
   "outputs": [],
   "source": [
    "vb_sens_cavi2 = \\\n",
    "        vittles.HyperparameterSensitivityLinearApproximation(\n",
    "            objective_fun = lambda x, y: get_kl_from_vb_free_prior_free(g_obs, x, y, gh_loc, gh_weights, \n",
    "                                                                        use_logitnormal_sticks),\n",
    "            opt_par_value = vb_cavi_free_params2, \n",
    "            hyper_par_value = prior_free_params,\n",
    "            validate_optimum=False,\n",
    "            hessian_at_opt=None,\n",
    "            cross_hess_at_opt=None,\n",
    "            factorize_hessian=True,\n",
    "            hyper_par_objective_fun=None,\n",
    "            grad_tol=1e-8)"
   ]
  },
  {
   "cell_type": "code",
   "execution_count": null,
   "metadata": {
    "collapsed": false
   },
   "outputs": [],
   "source": [
    "# finite differenes\n",
    "sens_mat = np.dot(vb_sens_cavi._sens_mat, which_prior)\n",
    "sens_mat2 = np.dot(vb_sens_cavi2._sens_mat, which_prior)\n",
    "\n",
    "hessian_der_fd = (sens_mat2 - sens_mat) / h"
   ]
  },
  {
   "cell_type": "code",
   "execution_count": null,
   "metadata": {
    "collapsed": false
   },
   "outputs": [],
   "source": [
    "error = np.abs(hessian_der_fd - hessian_der / step_mag)\n",
    "print(np.max(error))"
   ]
  },
  {
   "cell_type": "code",
   "execution_count": null,
   "metadata": {
    "collapsed": true
   },
   "outputs": [],
   "source": []
  },
  {
   "cell_type": "markdown",
   "metadata": {
    "collapsed": true
   },
   "source": [
    "# run a few Netwon steps"
   ]
  },
  {
   "cell_type": "code",
   "execution_count": null,
   "metadata": {
    "collapsed": true
   },
   "outputs": [],
   "source": [
    "# get loss as a function of vb parameters\n",
    "get_free_vb_params_loss = paragami.FlattenFunctionInput(\n",
    "                                original_fun=structure_model_lib.get_kl, \n",
    "                                patterns = vb_params_paragami,\n",
    "                                free = True,\n",
    "                                argnums = 1)\n",
    "\n",
    "get_free_vb_params_loss_cached = \\\n",
    "    lambda x : get_free_vb_params_loss(g_obs, x, prior_params_dict, gh_loc, gh_weights, \n",
    "                                       use_logitnormal_sticks)"
   ]
  },
  {
   "cell_type": "code",
   "execution_count": null,
   "metadata": {
    "collapsed": true
   },
   "outputs": [],
   "source": [
    "init_vb_free_params = vb_params_paragami.flatten(vb_params_dict_cavi, free = True)"
   ]
  },
  {
   "cell_type": "code",
   "execution_count": null,
   "metadata": {
    "collapsed": false
   },
   "outputs": [],
   "source": [
    "get_free_vb_params_loss_cached(init_vb_free_params)"
   ]
  },
  {
   "cell_type": "code",
   "execution_count": null,
   "metadata": {
    "collapsed": false
   },
   "outputs": [],
   "source": [
    "vb_opt_free_params = opt_lib.optimize_full(get_free_vb_params_loss_cached, init_vb_free_params,\n",
    "                    bfgs_max_iter = 0, netwon_max_iter = 50,\n",
    "                    max_precondition_iter = 10,\n",
    "                    gtol=1e-8, ftol=1e-8, xtol=1e-8,\n",
    "                    init_hessian = None)"
   ]
  },
  {
   "cell_type": "code",
   "execution_count": null,
   "metadata": {
    "collapsed": false
   },
   "outputs": [],
   "source": [
    "vb_params_dict_newton = vb_params_paragami.fold(vb_opt_free_params, free = True)"
   ]
  },
  {
   "cell_type": "code",
   "execution_count": null,
   "metadata": {
    "collapsed": false
   },
   "outputs": [],
   "source": [
    "e_pop_allele_freq = modeling_lib.get_e_beta(vb_params_dict_newton['pop_freq_beta_params'])"
   ]
  },
  {
   "cell_type": "code",
   "execution_count": null,
   "metadata": {
    "collapsed": false
   },
   "outputs": [],
   "source": [
    "if k_approx < 6: \n",
    "    perm_best = data_utils.find_min_perm(e_pop_allele_freq, true_pop_allele_freq, axis = 1)\n",
    "else: \n",
    "    perm_best = perm"
   ]
  },
  {
   "cell_type": "code",
   "execution_count": null,
   "metadata": {
    "collapsed": true
   },
   "outputs": [],
   "source": [
    "ind_mix_stick_beta_params = vb_params_dict_newton['ind_mix_stick_beta_params']\n",
    "e_stick_lengths = \\\n",
    "        modeling_lib.get_e_beta(ind_mix_stick_beta_params)\n",
    "e_ind_admix = cluster_quantities_lib.get_mixture_weights_from_stick_break_propns(e_stick_lengths)[:, perm_best]"
   ]
  },
  {
   "cell_type": "code",
   "execution_count": null,
   "metadata": {
    "collapsed": false
   },
   "outputs": [],
   "source": [
    "plt.matshow(e_ind_admix.T); \n",
    "plt.matshow(true_ind_admix_propn.T);"
   ]
  },
  {
   "cell_type": "code",
   "execution_count": null,
   "metadata": {
    "collapsed": true
   },
   "outputs": [],
   "source": []
  },
  {
   "cell_type": "markdown",
   "metadata": {},
   "source": [
    "# Lets take a look at the hessian"
   ]
  },
  {
   "cell_type": "code",
   "execution_count": null,
   "metadata": {
    "collapsed": false
   },
   "outputs": [],
   "source": [
    "vb_sens = \\\n",
    "        vittles.HyperparameterSensitivityLinearApproximation(\n",
    "            objective_fun = lambda x, y: get_kl_from_vb_free_prior_free(g_obs, x, y, gh_loc, gh_weights, \n",
    "                                                                        use_logitnormal_sticks),\n",
    "            opt_par_value = vb_opt_free_params,\n",
    "            hyper_par_value = prior_free_params,\n",
    "            validate_optimum=False,\n",
    "            hessian_at_opt=None,\n",
    "            cross_hess_at_opt=None,\n",
    "            factorize_hessian=True,\n",
    "            hyper_par_objective_fun=None,\n",
    "            grad_tol=1e-8)"
   ]
  },
  {
   "cell_type": "code",
   "execution_count": null,
   "metadata": {
    "collapsed": false
   },
   "outputs": [],
   "source": [
    "hessian_dir = str_opt_lib.check_hessian(vb_sens, which_prior)"
   ]
  },
  {
   "cell_type": "code",
   "execution_count": null,
   "metadata": {
    "collapsed": false
   },
   "outputs": [],
   "source": [
    "np.max(np.abs(hessian_dir))"
   ]
  },
  {
   "cell_type": "code",
   "execution_count": null,
   "metadata": {
    "collapsed": true
   },
   "outputs": [],
   "source": []
  },
  {
   "cell_type": "code",
   "execution_count": null,
   "metadata": {
    "collapsed": true
   },
   "outputs": [],
   "source": []
  },
  {
   "cell_type": "raw",
   "metadata": {},
   "source": []
  },
  {
   "cell_type": "raw",
   "metadata": {},
   "source": [
    "hess_inverse = vb_sens.hess_solver.solve(np.eye(len(vb_opt_free_params)))\n",
    "\n",
    "def get_term2_objective(vb_sens, vb_opt_free_params, prior_free_params, which_prior):\n",
    "    cross_hess = vb_sens._hyper_obj_cross_hess(vb_opt_free_params, prior_free_params)\n",
    "\n",
    "    return -np.einsum('nj, ji -> ni', hess_inverse, cross_hess)\n",
    "\n",
    "get_term2_derivative = vittles.sensitivity_lib._append_jvp(get_term2_objective,\n",
    "                                                           num_base_args = 4,\n",
    "                                                           argnum = 1)"
   ]
  },
  {
   "cell_type": "raw",
   "metadata": {},
   "source": [
    "foo = np.random.rand(len(vb_opt_free_params))"
   ]
  },
  {
   "cell_type": "raw",
   "metadata": {},
   "source": [
    "term2_derivative = get_term2_derivative(vb_sens, vb_opt_free_params, prior_free_params, which_prior, foo)"
   ]
  },
  {
   "cell_type": "raw",
   "metadata": {},
   "source": [
    "def get_term3_objective(vb_sens, vb_opt_free_params, prior_free_params):\n",
    "        vb_grad = vb_sens._obj_fun_grad(vb_opt_free_params, prior_free_params)\n",
    "        return np.dot(hess_inverse, vb_grad)\n",
    "\n",
    "_get_term3_derivataive = vittles.sensitivity_lib._append_jvp(get_term3_objective,\n",
    "                               num_base_args = 3,\n",
    "                               argnum = 1)\n",
    "\n",
    "get_term3_derivative = vittles.sensitivity_lib._append_jvp(_get_term3_derivataive,\n",
    "                               num_base_args = 5,\n",
    "                               argnum = 1)"
   ]
  },
  {
   "cell_type": "raw",
   "metadata": {},
   "source": [
    "_get_term3_derivataive(vb_sens, vb_opt_free_params, prior_free_params, vb_sens._sens_mat)"
   ]
  },
  {
   "cell_type": "raw",
   "metadata": {},
   "source": []
  },
  {
   "cell_type": "raw",
   "metadata": {},
   "source": []
  },
  {
   "cell_type": "raw",
   "metadata": {},
   "source": [
    "get_kl_from_vb_free_prior_free = paragami.FlattenFunctionInput(original_fun=structure_model_lib.get_kl, \n",
    "                                    patterns = [vb_params_paragami, prior_params_paragami],\n",
    "                                    free = True,\n",
    "                                    argnums = [1, 2])"
   ]
  },
  {
   "cell_type": "raw",
   "metadata": {},
   "source": [
    "vb_sens = \\\n",
    "        vittles.HyperparameterSensitivityLinearApproximation(\n",
    "            objective_fun = lambda x, y: get_kl_from_vb_free_prior_free(g_obs, x, y, gh_loc, gh_weights, \n",
    "                                                                        use_logitnormal_sticks),\n",
    "            opt_par_value = vb_opt_free_params, \n",
    "            hyper_par_value = prior_params_paragami.flatten(prior_params_dict, free=True),\n",
    "            validate_optimum=False,\n",
    "            hessian_at_opt=None,\n",
    "            cross_hess_at_opt=None,\n",
    "            factorize_hessian=True,\n",
    "            hyper_par_objective_fun=None,\n",
    "            grad_tol=1e-8)"
   ]
  },
  {
   "cell_type": "raw",
   "metadata": {},
   "source": [
    "# this is the hessian\n",
    "vb_sens._hess0"
   ]
  },
  {
   "cell_type": "raw",
   "metadata": {},
   "source": [
    "term1 = "
   ]
  },
  {
   "cell_type": "raw",
   "metadata": {},
   "source": [
    "# this is G(\\theta, \\lambda)\n",
    "vb_grad = vb_sens._hyper_obj_fun_grad\n",
    "# this is the hessian^{-1} * S\n",
    "sens_mat = vb_sens._sens_mat.shape"
   ]
  },
  {
   "cell_type": "raw",
   "metadata": {},
   "source": [
    "vb_grad(vb_opt_free_params, \n",
    "        prior_params_paragami.flatten(prior_params_dict, free = True))"
   ]
  },
  {
   "cell_type": "raw",
   "metadata": {},
   "source": [
    "def check_hessian(vb_sens, vb_opt_free_params, prior_free_params, which_prior): \n",
    "    \n",
    "    # get hessian inverse \n",
    "    hess_inverse = vb_sens.hess_solver.solve(np.eye(len(vb_opt_free_params)))\n",
    "    \n",
    "    # gradient wrt to vb free parameters\n",
    "    vb_opt_grad = vb_sens._obj_fun_grad(vb_opt_free_params, prior_free_params)\n",
    "    \n",
    "    # get the direction of the next Newton step\n",
    "    step = - vb_sens.hess_solver.solve(vb_opt_grad)\n",
    "    \n",
    "    # This is the second term of the derivative\n",
    "    def get_term2_objective(vb_sens, vb_opt_free_params, prior_free_params, which_prior): \n",
    "        cross_hess = vb_sens._hyper_obj_cross_hess(vb_opt_free_params, prior_free_params)\n",
    "\n",
    "        cross_hess_prior = np.einsum('nj, j -> n', cross_hess, which_prior)\n",
    "\n",
    "        return -np.einsum('nj, j -> n', hess_inverse, cross_hess_prior)\n",
    "    \n",
    "    get_term2_derivative = vittles.sensitivity_lib._append_jvp(get_term2_objective, \n",
    "                                                               num_base_args = 4, \n",
    "                                                               argnum = 1)\n",
    "    \n",
    "    term2_derivative = get_term2(vb_sens, vb_opt_free_params, prior_free_params, which_prior, step)\n",
    "    \n",
    "    # this is the third term of the derivative \n",
    "    def get_term3_objective(vb_sens, vb_opt_free_params, prior_free_params, which_prior): \n",
    "        vb_grad = vb_sens._obj_fun_grad(vb_opt_free_params, prior_free_params)\n",
    "        return np.dot(hess_inverse, vb_grad)\n",
    "    \n",
    "    _get_term3 = vittles.sensitivity_lib._append_jvp(get_term3_objective, \n",
    "                                   num_base_args = 4, \n",
    "                                   argnum = 1)\n",
    "    \n",
    "    get_term3 = _get_term3 = vittles.sensitivity_lib._append_jvp(_get_term3, \n",
    "                                   num_base_args = 5, \n",
    "                                   argnum = 1)\n",
    "    sens_mat = np.einsum('nj, j -> n', vb_sens._sens_mat, which_prior)\n",
    "    \n",
    "    term3_derivative = get_term3(vb_sens, vb_opt_free_params, prior_free_params, which_prior, sens_mat, step)\n",
    "    \n",
    "    return term2_derivative + term3_derivative"
   ]
  },
  {
   "cell_type": "raw",
   "metadata": {},
   "source": [
    "h_dir = check_hessian(vb_sens, vb_opt_free_params, prior_free_params, which_prior)"
   ]
  },
  {
   "cell_type": "raw",
   "metadata": {},
   "source": [
    "h_dir"
   ]
  },
  {
   "cell_type": "raw",
   "metadata": {},
   "source": []
  },
  {
   "cell_type": "raw",
   "metadata": {},
   "source": []
  },
  {
   "cell_type": "raw",
   "metadata": {},
   "source": []
  },
  {
   "cell_type": "raw",
   "metadata": {},
   "source": [
    "vb_sens._sens_mat"
   ]
  },
  {
   "cell_type": "raw",
   "metadata": {},
   "source": [
    "S = vb_sens._hyper_obj_cross_hess(vb_opt_free_params, \n",
    "                             prior_params_paragami.flatten(prior_params_dict, free = True))"
   ]
  },
  {
   "cell_type": "raw",
   "metadata": {},
   "source": [
    "which_prior = np.array([1., 0., 0.])\n",
    "prior_free_params = prior_params_paragami.flatten(prior_params_dict, free = True)"
   ]
  },
  {
   "cell_type": "raw",
   "metadata": {},
   "source": [
    "def get_term2_objective(vb_sens, vb_opt_free_params, prior_free_params, which_prior): \n",
    "    cross_hess = vb_sens._hyper_obj_cross_hess(vb_opt_free_params, prior_free_params)\n",
    "    \n",
    "    cross_hess_prior = np.dot(cross_hess, which_prior)\n",
    "    \n",
    "    hess_inverse = vb_sens.hess_solver.solve(np.eye(len(vb_opt_free_params)))\n",
    "    return np.dot(hess_inverse, cross_hess_prior)"
   ]
  },
  {
   "cell_type": "raw",
   "metadata": {},
   "source": [
    "get_term2_objective(vb_sens, vb_opt_free_params, prior_free_params, which_prior)"
   ]
  },
  {
   "cell_type": "raw",
   "metadata": {},
   "source": [
    "get_term2 = vittles.sensitivity_lib._append_jvp(get_term2_objective, \n",
    "                                   num_base_args = 4, \n",
    "                                   argnum = 1)"
   ]
  },
  {
   "cell_type": "raw",
   "metadata": {},
   "source": [
    "t = np.ones(len(vb_opt_free_params))"
   ]
  },
  {
   "cell_type": "raw",
   "metadata": {},
   "source": [
    "get_term2(vb_sens, vb_opt_free_params, prior_free_params, which_prior, t)"
   ]
  },
  {
   "cell_type": "raw",
   "metadata": {},
   "source": [
    "def get_term3_objective(vb_sens, vb_opt_free_params, prior_free_params, which_prior): \n",
    "    vb_grad = vb_sens._obj_fun_grad(vb_opt_free_params, prior_free_params)\n",
    "    \n",
    "    hess_inverse = vb_sens.hess_solver.solve(np.eye(len(vb_opt_free_params)))\n",
    "    return np.dot(hess_inverse, vb_grad)"
   ]
  },
  {
   "cell_type": "raw",
   "metadata": {},
   "source": [
    "_get_term3 = vittles.sensitivity_lib._append_jvp(get_term3_objective, \n",
    "                                   num_base_args = 4, \n",
    "                                   argnum = 1)"
   ]
  },
  {
   "cell_type": "raw",
   "metadata": {},
   "source": [
    "get_term3 = _get_term3 = vittles.sensitivity_lib._append_jvp(_get_term3, \n",
    "                                   num_base_args = 5, \n",
    "                                   argnum = 1)"
   ]
  },
  {
   "cell_type": "raw",
   "metadata": {},
   "source": [
    "get_term3(vb_sens, vb_opt_free_params, prior_free_params, which_prior, foo, foo)"
   ]
  },
  {
   "cell_type": "raw",
   "metadata": {},
   "source": []
  },
  {
   "cell_type": "raw",
   "metadata": {},
   "source": []
  },
  {
   "cell_type": "raw",
   "metadata": {},
   "source": []
  },
  {
   "cell_type": "raw",
   "metadata": {},
   "source": [
    "foo = np.random.rand(len(vb_opt_free_params))"
   ]
  },
  {
   "cell_type": "raw",
   "metadata": {},
   "source": [
    "foo"
   ]
  },
  {
   "cell_type": "raw",
   "metadata": {},
   "source": [
    "foo2 = _get_term2(vb_sens, vb_opt_free_params, prior_free_params, which_prior, foo)"
   ]
  },
  {
   "cell_type": "raw",
   "metadata": {},
   "source": [
    "np.max(foo - foo2)"
   ]
  },
  {
   "cell_type": "raw",
   "metadata": {},
   "source": []
  }
 ],
 "metadata": {
  "kernelspec": {
   "display_name": "Python (genomics_bnp)",
   "language": "python",
   "name": "genomic_time_series_py35"
  },
  "language_info": {
   "codemirror_mode": {
    "name": "ipython",
    "version": 3
   },
   "file_extension": ".py",
   "mimetype": "text/x-python",
   "name": "python",
   "nbconvert_exporter": "python",
   "pygments_lexer": "ipython3",
   "version": "3.5.0"
  }
 },
 "nbformat": 4,
 "nbformat_minor": 2
}
