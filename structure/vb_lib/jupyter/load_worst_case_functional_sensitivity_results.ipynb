{
 "cells": [
  {
   "cell_type": "code",
   "execution_count": 1,
   "metadata": {},
   "outputs": [
    {
     "name": "stderr",
     "output_type": "stream",
     "text": [
      "/accounts/grad/runjing_liu/.conda/envs/bnp_sensitivity_jax/lib/python3.8/site-packages/jax/lib/xla_bridge.py:130: UserWarning: No GPU/TPU found, falling back to CPU.\n",
      "  warnings.warn('No GPU/TPU found, falling back to CPU.')\n"
     ]
    }
   ],
   "source": [
    "import jax\n",
    "\n",
    "import jax.numpy as np\n",
    "import jax.scipy as sp\n",
    "from numpy.polynomial.hermite import hermgauss\n",
    "\n",
    "import vb_lib.structure_optimization_lib as s_optim_lib\n",
    "from vb_lib import structure_model_lib, data_utils, cavi_lib, plotting_utils\n",
    "from vb_lib.preconditioner_lib import get_mfvb_cov_matmul\n",
    "\n",
    "\n",
    "from bnpmodeling_runjingdev import log_phi_lib\n",
    "from bnpmodeling_runjingdev.sensitivity_lib import HyperparameterSensitivityLinearApproximation\n",
    "\n",
    "import paragami\n",
    "\n",
    "from copy import deepcopy\n",
    "\n",
    "import time\n",
    "\n",
    "import matplotlib.pyplot as plt\n",
    "%matplotlib inline  \n",
    "\n",
    "from bnpmodeling_runjingdev import influence_lib, modeling_lib\n",
    "import bnpmodeling_runjingdev.functional_sensitivity_lib as func_sens_lib\n",
    "import bnpmodeling_runjingdev.influence_lib \n",
    "\n",
    "import re"
   ]
  },
  {
   "cell_type": "code",
   "execution_count": 2,
   "metadata": {},
   "outputs": [],
   "source": [
    "import numpy as onp \n",
    "onp.random.seed(53453)"
   ]
  },
  {
   "cell_type": "code",
   "execution_count": null,
   "metadata": {},
   "outputs": [],
   "source": []
  },
  {
   "cell_type": "markdown",
   "metadata": {},
   "source": [
    "# Load data"
   ]
  },
  {
   "cell_type": "code",
   "execution_count": 3,
   "metadata": {
    "scrolled": true
   },
   "outputs": [],
   "source": [
    "data_file = '../simulated_data/simulated_structure_data_nobs20_nloci50_npop4.npz'\n",
    "# data_file='/accounts/grad/runjing_liu/BNP/fastStructure/hgdp_data/' + \\\n",
    "#             'huang2011_plink_files/phased_HGDP+India+Africa_2810SNPs-regions1to36.npz'\n",
    "data = np.load(data_file)\n",
    "g_obs = np.array(data['g_obs'], dtype = int)"
   ]
  },
  {
   "cell_type": "code",
   "execution_count": 4,
   "metadata": {},
   "outputs": [],
   "source": [
    "n_obs = g_obs.shape[0]\n",
    "n_loci = g_obs.shape[1]"
   ]
  },
  {
   "cell_type": "code",
   "execution_count": 5,
   "metadata": {},
   "outputs": [
    {
     "name": "stdout",
     "output_type": "stream",
     "text": [
      "20\n",
      "50\n"
     ]
    }
   ],
   "source": [
    "print(n_obs)\n",
    "print(n_loci)"
   ]
  },
  {
   "cell_type": "code",
   "execution_count": null,
   "metadata": {},
   "outputs": [],
   "source": []
  },
  {
   "cell_type": "markdown",
   "metadata": {},
   "source": [
    "# file paths"
   ]
  },
  {
   "cell_type": "code",
   "execution_count": 6,
   "metadata": {},
   "outputs": [],
   "source": [
    "fits_dir = '../fits/tmp/' \n",
    "\n",
    "filenames = 'simulated_fit'\n",
    "alpha0 = 6.0\n",
    "\n",
    "init_fit_file = fits_dir + filenames + '_alpha' + str(alpha0) + '.npz'\n",
    "lr_file = fits_dir + filenames + '_alpha' + str(alpha0) + '_lrderivatives.npz'\n",
    "\n",
    "# fits_dir = '../fits/fits_20201122/'\n",
    "# filename = fits_dir + 'huang2011_fit_alpha6.0.npz'"
   ]
  },
  {
   "cell_type": "markdown",
   "metadata": {},
   "source": [
    "# Load initial fit for its metadata"
   ]
  },
  {
   "cell_type": "code",
   "execution_count": 7,
   "metadata": {},
   "outputs": [],
   "source": [
    "_, vb_params_paragami, \\\n",
    "        prior_params_dict, prior_params_paragami, \\\n",
    "            gh_loc, gh_weights, init_fit_meta_data = \\\n",
    "                structure_model_lib.load_structure_fit(init_fit_file)"
   ]
  },
  {
   "cell_type": "markdown",
   "metadata": {},
   "source": [
    "# Helper functions"
   ]
  },
  {
   "cell_type": "code",
   "execution_count": 23,
   "metadata": {},
   "outputs": [],
   "source": [
    "def get_free_params_from_lr_and_refit(perturbation): \n",
    "    \n",
    "    #################\n",
    "    # load initial fit\n",
    "    #################\n",
    "    print('loading initial fit from: ', init_fit_file)\n",
    "    vb_opt_dict, vb_params_paragami, \\\n",
    "        prior_params_dict, prior_params_paragami, \\\n",
    "            gh_loc, gh_weights, init_fit_meta_data = \\\n",
    "                structure_model_lib.load_structure_fit(init_fit_file)\n",
    "    \n",
    "    alpha0 = prior_params_dict['dp_prior_alpha']\n",
    "    vb_opt = vb_params_paragami.flatten(vb_opt_dict, free = True)\n",
    "    \n",
    "    #################\n",
    "    # load linear response derivatives\n",
    "    #################\n",
    "    print('loading derivatives from: ', lr_file)\n",
    "    lr_data = np.load(lr_file)\n",
    "    assert lr_data['alpha0'] == alpha0\n",
    "    assert np.all(lr_data['vb_opt'] == vb_opt)\n",
    "    assert np.abs(lr_data['kl'] - init_fit_meta_data['final_kl']) < 1e-8\n",
    "    \n",
    "    print('saved derivative time: {:.3f}secs'.format(lr_data['lr_time_alpha']))\n",
    "    \n",
    "    ##################\n",
    "    # load refit results\n",
    "    ##################\n",
    "    match_crit = filenames + '_' + perturbation + '\\d+.npz'\n",
    "    refit_files = [f for f in os.listdir(fits_dir) if re.match(match_crit, f)]\n",
    "    \n",
    "    assert len(refit_files) > 0, 'no refit files found'\n",
    "    \n",
    "    optim_time_vec = []\n",
    "    epsilon_vec = []\n",
    "    vb_refit_list = []\n",
    "\n",
    "    for i in range(len(refit_files)): \n",
    "\n",
    "        print('loading fit from: ', refit_files[i])\n",
    "        vb_params_dict, vb_params_paragami, meta_data = \\\n",
    "            paragami.load_folded(fits_dir + refit_files[i])\n",
    "        \n",
    "        optim_time_vec.append(meta_data['optim_time'])\n",
    "        epsilon_vec.append(meta_data['epsilon'])\n",
    "        vb_refit_list.append(vb_params_paragami.flatten(vb_params_dict, free = True))\n",
    "    \n",
    "    optim_time_vec = np.array(optim_time_vec)\n",
    "    epsilon_vec = np.array(epsilon_vec)\n",
    "    vb_refit_list = np.array(vb_refit_list)\n",
    "    \n",
    "    # sort the epsilons \n",
    "    _indx = np.argsort(epsilon_vec)\n",
    "    epsilon_vec = epsilon_vec[_indx]\n",
    "    vb_refit_list = vb_refit_list[_indx]\n",
    "    \n",
    "    ###############\n",
    "    # get linear response predictions \n",
    "    \n",
    "    def predict_opt_par_from_hyper_par(epsilon): \n",
    "        return vb_opt + lr_data['dinput_dfun_' + perturbation] * epsilon\n",
    "    \n",
    "    lr_list = []\n",
    "    for epsilon in epsilon_vec: \n",
    "        # get linear response\n",
    "        lr_list.append(predict_opt_par_from_hyper_par(epsilon))\n",
    "    \n",
    "    return vb_refit_list, np.array(lr_list), optim_time_vec, epsilon_vec"
   ]
  },
  {
   "cell_type": "markdown",
   "metadata": {},
   "source": [
    "# Define number of clusters"
   ]
  },
  {
   "cell_type": "code",
   "execution_count": 24,
   "metadata": {},
   "outputs": [],
   "source": [
    "def g(vb_free_params, vb_params_paragami): \n",
    "    \n",
    "    # key for random sampling. \n",
    "    # this is fixed! so all standard normal \n",
    "    # samples used in computing the posterior quantity \n",
    "    key = jax.random.PRNGKey(0)\n",
    "    \n",
    "    vb_params_dict = vb_params_paragami.fold(vb_free_params, free = True)\n",
    "    \n",
    "    stick_means = vb_params_dict['ind_admix_params']['stick_means']\n",
    "    stick_infos = vb_params_dict['ind_admix_params']['stick_infos']\n",
    "    \n",
    "    return structure_model_lib.get_e_num_pred_clusters(stick_means, stick_infos, gh_loc, gh_weights, \n",
    "                                                       key = key,\n",
    "                                                       n_samples = 1000)"
   ]
  },
  {
   "cell_type": "markdown",
   "metadata": {},
   "source": [
    "# Plot results"
   ]
  },
  {
   "cell_type": "code",
   "execution_count": 33,
   "metadata": {},
   "outputs": [],
   "source": [
    "def plot_lr_results(perturbation): \n",
    "    # get free parameters\n",
    "    vb_refit_list, lr_list, optim_time_vec, epsilon_vec = \\\n",
    "        get_free_params_from_lr_and_refit(perturbation)\n",
    "    \n",
    "    # get expected number of clusters\n",
    "    lr_e_num_clusters_vec = onp.zeros(len(epsilon_vec))\n",
    "    refit_e_num_clusters_vec = onp.zeros(len(epsilon_vec))\n",
    "\n",
    "    for i in range(len(epsilon_vec)): \n",
    "        print(i)\n",
    "        refit_e_num_clusters_vec[i] = g(vb_refit_list[i], vb_params_paragami)\n",
    "        lr_e_num_clusters_vec[i] = g(lr_list[i], vb_params_paragami)\n",
    "    \n",
    "    # plot\n",
    "    plt.plot(epsilon_vec, refit_e_num_clusters_vec, \n",
    "           'o-', color = '#d95f02', label = 'refit')\n",
    "\n",
    "    plt.plot(epsilon_vec, lr_e_num_clusters_vec, \n",
    "               'o-', color = '#1b9e77', \n",
    "               label = 'linear approx.')\n",
    "\n",
    "    plt.legend()"
   ]
  },
  {
   "cell_type": "code",
   "execution_count": 34,
   "metadata": {},
   "outputs": [
    {
     "name": "stdout",
     "output_type": "stream",
     "text": [
      "loading initial fit from:  ../fits/tmp/simulated_fit_alpha6.0.npz\n",
      "loading derivatives from:  ../fits/tmp/simulated_fit_alpha6.0_lrderivatives.npz\n",
      "saved derivative time: 0.432secs\n",
      "loading fit from:  simulated_fit_worst-case8.npz\n",
      "loading fit from:  simulated_fit_worst-case1.npz\n",
      "loading fit from:  simulated_fit_worst-case6.npz\n",
      "loading fit from:  simulated_fit_worst-case7.npz\n",
      "loading fit from:  simulated_fit_worst-case0.npz\n",
      "loading fit from:  simulated_fit_worst-case9.npz\n",
      "loading fit from:  simulated_fit_worst-case3.npz\n",
      "loading fit from:  simulated_fit_worst-case4.npz\n",
      "loading fit from:  simulated_fit_worst-case10.npz\n",
      "loading fit from:  simulated_fit_worst-case5.npz\n",
      "loading fit from:  simulated_fit_worst-case2.npz\n",
      "0\n",
      "1\n",
      "2\n",
      "3\n",
      "4\n",
      "5\n",
      "6\n",
      "7\n",
      "8\n",
      "9\n",
      "10\n"
     ]
    },
    {
     "data": {
      "image/png": "[encoded data removed]",
      "text/plain": [
       "<Figure size 432x288 with 1 Axes>"
      ]
     },
     "metadata": {
      "needs_background": "light"
     },
     "output_type": "display_data"
    }
   ],
   "source": [
    "plot_lr_results('worst-case')"
   ]
  },
  {
   "cell_type": "code",
   "execution_count": 35,
   "metadata": {},
   "outputs": [
    {
     "name": "stdout",
     "output_type": "stream",
     "text": [
      "loading initial fit from:  ../fits/tmp/simulated_fit_alpha6.0.npz\n",
      "loading derivatives from:  ../fits/tmp/simulated_fit_alpha6.0_lrderivatives.npz\n",
      "saved derivative time: 0.432secs\n",
      "loading fit from:  simulated_fit_sigmoidal3.npz\n",
      "loading fit from:  simulated_fit_sigmoidal4.npz\n",
      "loading fit from:  simulated_fit_sigmoidal5.npz\n",
      "loading fit from:  simulated_fit_sigmoidal2.npz\n",
      "loading fit from:  simulated_fit_sigmoidal10.npz\n",
      "loading fit from:  simulated_fit_sigmoidal8.npz\n",
      "loading fit from:  simulated_fit_sigmoidal1.npz\n",
      "loading fit from:  simulated_fit_sigmoidal6.npz\n",
      "loading fit from:  simulated_fit_sigmoidal7.npz\n",
      "loading fit from:  simulated_fit_sigmoidal0.npz\n",
      "loading fit from:  simulated_fit_sigmoidal9.npz\n",
      "0\n",
      "1\n",
      "2\n",
      "3\n",
      "4\n",
      "5\n",
      "6\n",
      "7\n",
      "8\n",
      "9\n",
      "10\n"
     ]
    },
    {
     "data": {
      "image/png": "[encoded data removed]",
      "text/plain": [
       "<Figure size 432x288 with 1 Axes>"
      ]
     },
     "metadata": {
      "needs_background": "light"
     },
     "output_type": "display_data"
    }
   ],
   "source": [
    "plot_lr_results('sigmoidal')"
   ]
  },
  {
   "cell_type": "code",
   "execution_count": 36,
   "metadata": {},
   "outputs": [
    {
     "name": "stdout",
     "output_type": "stream",
     "text": [
      "loading initial fit from:  ../fits/tmp/simulated_fit_alpha6.0.npz\n",
      "loading derivatives from:  ../fits/tmp/simulated_fit_alpha6.0_lrderivatives.npz\n",
      "saved derivative time: 0.432secs\n",
      "loading fit from:  simulated_fit_sigmoidal_neg4.npz\n",
      "loading fit from:  simulated_fit_sigmoidal_neg3.npz\n",
      "loading fit from:  simulated_fit_sigmoidal_neg10.npz\n",
      "loading fit from:  simulated_fit_sigmoidal_neg2.npz\n",
      "loading fit from:  simulated_fit_sigmoidal_neg5.npz\n",
      "loading fit from:  simulated_fit_sigmoidal_neg6.npz\n",
      "loading fit from:  simulated_fit_sigmoidal_neg1.npz\n",
      "loading fit from:  simulated_fit_sigmoidal_neg8.npz\n",
      "loading fit from:  simulated_fit_sigmoidal_neg9.npz\n",
      "loading fit from:  simulated_fit_sigmoidal_neg0.npz\n",
      "loading fit from:  simulated_fit_sigmoidal_neg7.npz\n",
      "0\n",
      "1\n",
      "2\n",
      "3\n",
      "4\n",
      "5\n",
      "6\n",
      "7\n",
      "8\n",
      "9\n",
      "10\n"
     ]
    },
    {
     "data": {
      "image/png": "[encoded data removed]",
      "text/plain": [
       "<Figure size 432x288 with 1 Axes>"
      ]
     },
     "metadata": {
      "needs_background": "light"
     },
     "output_type": "display_data"
    }
   ],
   "source": [
    "plot_lr_results('sigmoidal_neg')"
   ]
  },
  {
   "cell_type": "code",
   "execution_count": 37,
   "metadata": {},
   "outputs": [
    {
     "name": "stdout",
     "output_type": "stream",
     "text": [
      "loading initial fit from:  ../fits/tmp/simulated_fit_alpha6.0.npz\n",
      "loading derivatives from:  ../fits/tmp/simulated_fit_alpha6.0_lrderivatives.npz\n",
      "saved derivative time: 0.432secs\n",
      "loading fit from:  simulated_fit_alpha_pert_pos8.npz\n",
      "loading fit from:  simulated_fit_alpha_pert_pos6.npz\n",
      "loading fit from:  simulated_fit_alpha_pert_pos1.npz\n",
      "loading fit from:  simulated_fit_alpha_pert_pos0.npz\n",
      "loading fit from:  simulated_fit_alpha_pert_pos7.npz\n",
      "loading fit from:  simulated_fit_alpha_pert_pos9.npz\n",
      "loading fit from:  simulated_fit_alpha_pert_pos4.npz\n",
      "loading fit from:  simulated_fit_alpha_pert_pos10.npz\n",
      "loading fit from:  simulated_fit_alpha_pert_pos3.npz\n",
      "loading fit from:  simulated_fit_alpha_pert_pos2.npz\n",
      "loading fit from:  simulated_fit_alpha_pert_pos5.npz\n",
      "0\n",
      "1\n",
      "2\n",
      "3\n",
      "4\n",
      "5\n",
      "6\n",
      "7\n",
      "8\n",
      "9\n",
      "10\n"
     ]
    },
    {
     "data": {
      "image/png": "[encoded data removed]",
      "text/plain": [
       "<Figure size 432x288 with 1 Axes>"
      ]
     },
     "metadata": {
      "needs_background": "light"
     },
     "output_type": "display_data"
    }
   ],
   "source": [
    "plot_lr_results('alpha_pert_pos')"
   ]
  },
  {
   "cell_type": "code",
   "execution_count": 38,
   "metadata": {},
   "outputs": [
    {
     "name": "stdout",
     "output_type": "stream",
     "text": [
      "loading initial fit from:  ../fits/tmp/simulated_fit_alpha6.0.npz\n",
      "loading derivatives from:  ../fits/tmp/simulated_fit_alpha6.0_lrderivatives.npz\n",
      "saved derivative time: 0.432secs\n",
      "loading fit from:  simulated_fit_alpha_pert_neg5.npz\n",
      "loading fit from:  simulated_fit_alpha_pert_neg2.npz\n",
      "loading fit from:  simulated_fit_alpha_pert_neg3.npz\n",
      "loading fit from:  simulated_fit_alpha_pert_neg4.npz\n",
      "loading fit from:  simulated_fit_alpha_pert_neg9.npz\n",
      "loading fit from:  simulated_fit_alpha_pert_neg7.npz\n",
      "loading fit from:  simulated_fit_alpha_pert_neg0.npz\n",
      "loading fit from:  simulated_fit_alpha_pert_neg1.npz\n",
      "loading fit from:  simulated_fit_alpha_pert_neg6.npz\n",
      "loading fit from:  simulated_fit_alpha_pert_neg8.npz\n",
      "loading fit from:  simulated_fit_alpha_pert_neg10.npz\n",
      "0\n",
      "1\n",
      "2\n",
      "3\n",
      "4\n",
      "5\n",
      "6\n",
      "7\n",
      "8\n",
      "9\n",
      "10\n"
     ]
    },
    {
     "data": {
      "image/png": "[encoded data removed]",
      "text/plain": [
       "<Figure size 432x288 with 1 Axes>"
      ]
     },
     "metadata": {
      "needs_background": "light"
     },
     "output_type": "display_data"
    }
   ],
   "source": [
    "plot_lr_results('alpha_pert_neg')"
   ]
  },
  {
   "cell_type": "code",
   "execution_count": null,
   "metadata": {},
   "outputs": [],
   "source": []
  },
  {
   "cell_type": "code",
   "execution_count": null,
   "metadata": {},
   "outputs": [],
   "source": []
  },
  {
   "cell_type": "raw",
   "metadata": {},
   "source": []
  },
  {
   "cell_type": "code",
   "execution_count": null,
   "metadata": {},
   "outputs": [],
   "source": []
  },
  {
   "cell_type": "code",
   "execution_count": null,
   "metadata": {},
   "outputs": [],
   "source": []
  },
  {
   "cell_type": "code",
   "execution_count": null,
   "metadata": {},
   "outputs": [],
   "source": []
  },
  {
   "cell_type": "raw",
   "metadata": {},
   "source": [
    "vb_opt_dict, vb_params_paragami, \\\n",
    "    prior_params_dict, prior_params_paragami, \\\n",
    "        gh_loc, gh_weights, init_fit_meta_data = \\\n",
    "            structure_model_lib.load_structure_fit(filename)\n",
    "\n",
    "alpha0 = prior_params_dict['dp_prior_alpha']\n",
    "vb_opt = vb_params_paragami.flatten(vb_opt_dict, free = True)"
   ]
  },
  {
   "cell_type": "raw",
   "metadata": {},
   "source": [
    "# Check out the fit"
   ]
  },
  {
   "cell_type": "raw",
   "metadata": {},
   "source": [
    "e_ind_admix = plotting_utils.get_vb_expectations(vb_opt_dict, gh_loc, gh_weights)[0]\n",
    "# re-order individuals for better plotting\n",
    "indx = data_utils.cluster_admix_get_indx(e_ind_admix)\n",
    "\n",
    "f, axarr = plt.subplots(1, 1, figsize=(6, 3))\n",
    "e_ind_admix = plotting_utils.plot_top_clusters(e_ind_admix[indx], axarr, \n",
    "                                               n_top_clusters = 3)"
   ]
  },
  {
   "cell_type": "raw",
   "metadata": {},
   "source": [
    "# Load linear response derivatives and influence function"
   ]
  },
  {
   "cell_type": "raw",
   "metadata": {},
   "source": [
    "lr_file = 'simulated_fit_alpha{:.1f}_lrderivatives.npz'.format(alpha0[0])\n",
    "# lr_file = 'huang2011_fit_alpha{:.1f}_lrderivatives.npz'.format(alpha0[0])\n",
    "\n",
    "lr_data = np.load(fits_dir + lr_file)\n",
    "assert lr_data['alpha0'] == alpha0\n",
    "assert np.all(lr_data['vb_opt'] == vb_opt)\n",
    "assert np.abs(lr_data['kl'] - init_fit_meta_data['final_kl']) < 1e-8\n",
    "\n",
    "print('derivative time: {:.3f}secs'.format(lr_data['lr_time_alpha']))"
   ]
  },
  {
   "cell_type": "raw",
   "metadata": {},
   "source": [
    "lr_data['dinput_dfun_sigm']"
   ]
  },
  {
   "cell_type": "raw",
   "metadata": {},
   "source": [
    "np.abs(lr_data['dinput_dfun_sigm_neg'] - lr_data['dinput_dfun_falpha_pos']).max()"
   ]
  },
  {
   "cell_type": "raw",
   "metadata": {},
   "source": [
    "lr_data['dinput_dalpha']"
   ]
  },
  {
   "cell_type": "raw",
   "metadata": {},
   "source": [
    "lr_data['dinput_dfun_falpha_pos']"
   ]
  },
  {
   "cell_type": "raw",
   "metadata": {},
   "source": [
    "# Plot influence function"
   ]
  },
  {
   "cell_type": "raw",
   "metadata": {},
   "source": [
    "logit_v_grid = np.array(lr_data['logit_v_grid'])\n",
    "influence_grid = np.array(lr_data['influence_grid'])"
   ]
  },
  {
   "cell_type": "raw",
   "metadata": {},
   "source": [
    "# set up worst-case perturbation\n",
    "delta = 1.0\n",
    "worst_case_pert = influence_lib.WorstCasePerturbation(influence_fun = None, \n",
    "                                                      logit_v_grid = np.array(logit_v_grid), \n",
    "                                                      cached_influence_grid = np.array(influence_grid))"
   ]
  },
  {
   "cell_type": "raw",
   "metadata": {},
   "source": [
    "### Plot influence function"
   ]
  },
  {
   "cell_type": "raw",
   "metadata": {},
   "source": [
    "fig, ax = plt.subplots(1, 3, figsize = (15, 4)) \n",
    "ax[0].plot(worst_case_pert.logit_v_grid, worst_case_pert.influence_grid)\n",
    "ax[0].set_xlabel('logit v')\n",
    "ax[0].set_ylabel('Influence')\n",
    "\n",
    "ax[1].plot(worst_case_pert.v_grid, worst_case_pert.influence_grid)\n",
    "ax[1].set_xlabel('v')\n",
    "ax[1].set_ylabel('Influence')\n",
    "\n",
    "ax[2].plot(worst_case_pert.logit_v_grid, np.sign(worst_case_pert.influence_grid))\n",
    "ax[2].set_xlabel('logit v')\n",
    "ax[2].set_ylabel('sign(Influence)')\n",
    "\n",
    "fig.tight_layout()"
   ]
  },
  {
   "cell_type": "raw",
   "metadata": {},
   "source": []
  },
  {
   "cell_type": "raw",
   "metadata": {},
   "source": [
    "# Plot prior perturbation"
   ]
  },
  {
   "cell_type": "raw",
   "metadata": {},
   "source": [
    "# just for plotting only! \n",
    "# saves some time in computing the influence function\n",
    "# by doing a setp function interpolation\n",
    "def influence_fun_interp(logit_v): \n",
    "    # find index of logit_v_grid \n",
    "    # closest (on the left) to logit_v\n",
    "    indx = np.searchsorted(worst_case_pert.logit_v_grid, logit_v)\n",
    "    \n",
    "    # return the influence function at those points\n",
    "    return worst_case_pert.influence_grid[indx]\n",
    "\n",
    "# define log phi\n",
    "def log_phi(logit_v):\n",
    "    return(np.sign(influence_fun_interp(logit_v)) * worst_case_pert.delta)"
   ]
  },
  {
   "cell_type": "raw",
   "metadata": {},
   "source": [
    "prior_perturbation = func_sens_lib.PriorPerturbation(\n",
    "                                alpha0 = prior_params_dict['dp_prior_alpha'],\n",
    "                                log_phi = log_phi, \n",
    "                                logit_v_ub = 10, \n",
    "                                logit_v_lb = -10)"
   ]
  },
  {
   "cell_type": "raw",
   "metadata": {},
   "source": [
    "prior_perturbation.set_epsilon(1.0)\n",
    "\n",
    "logit_v_grid = worst_case_pert.logit_v_grid\n",
    "v_grid = sp.special.expit(logit_v_grid)\n",
    "\n",
    "plt.figure(1, figsize=(18, 5))\n",
    "\n",
    "plt.subplot(141)\n",
    "plt.plot(logit_v_grid, prior_perturbation.get_log_p0_logit(logit_v_grid))\n",
    "plt.plot(logit_v_grid, prior_perturbation.get_log_pc_logit(logit_v_grid))\n",
    "plt.title('Log priors in logit space')\n",
    "\n",
    "plt.subplot(142)\n",
    "plt.plot(logit_v_grid, prior_perturbation.log_phi(logit_v_grid))\n",
    "plt.title('log phi in logit space')\n",
    "\n",
    "plt.subplot(143)\n",
    "plt.plot(v_grid, np.exp(prior_perturbation.get_log_p0(v_grid)))\n",
    "plt.plot(v_grid, np.exp(prior_perturbation.get_log_pc(v_grid)))\n",
    "plt.title('Priors in stick space')\n",
    "\n",
    "plt.subplot(144)\n",
    "plt.plot(logit_v_grid, np.exp(prior_perturbation.get_log_p0_logit(logit_v_grid)))\n",
    "plt.plot(logit_v_grid, np.exp(prior_perturbation.get_log_pc_logit(logit_v_grid)))\n",
    "plt.title('Priors in logit space')\n"
   ]
  },
  {
   "cell_type": "raw",
   "metadata": {},
   "source": [
    "f_obj = fpert_lib.FunctionalPerturbationObjectives(worst_case_pert.get_e_log_linf_perturbation,\n",
    "                                                   vb_params_paragami)"
   ]
  },
  {
   "cell_type": "raw",
   "metadata": {},
   "source": [
    "# Load all epsilon fits"
   ]
  },
  {
   "cell_type": "raw",
   "metadata": {},
   "source": [
    "# filenames = 'simulated_fit_pertwc*'\n",
    "filenames = 'huang2011_fit_pertwc*'"
   ]
  },
  {
   "cell_type": "raw",
   "metadata": {},
   "source": [
    "import os \n",
    "import re"
   ]
  },
  {
   "cell_type": "raw",
   "metadata": {},
   "source": [
    "files = [f for f in os.listdir(fits_dir) if re.match(filenames, f)]"
   ]
  },
  {
   "cell_type": "raw",
   "metadata": {},
   "source": [
    "files"
   ]
  },
  {
   "cell_type": "raw",
   "metadata": {},
   "source": [
    "vb_refit_list = []\n",
    "epsilon_vec = onp.zeros(len(files))\n",
    "\n",
    "for i in range(len(files)): \n",
    "    \n",
    "    print('loading fit from: ', files[i])\n",
    "    \n",
    "    # load fit\n",
    "    vb_params_dict, vb_params_paragami, meta_data = \\\n",
    "        paragami.load_folded(fits_dir + files[i])\n",
    "        \n",
    "    kl = structure_model_lib.get_kl(g_obs, vb_params_dict, prior_params_dict,\n",
    "                                    gh_loc, gh_weights, \n",
    "                                    e_log_phi = lambda means, infos : \\\n",
    "                                                    f_obj.e_log_phi_epsilon(means, \n",
    "                                                                           infos, \n",
    "                                                                           meta_data['epsilon']))\n",
    "    \n",
    "    assert np.abs(kl - meta_data['final_kl']) < 1e-8\n",
    "    \n",
    "    # save alpha and fitted parametrs\n",
    "    epsilon_vec[i] = meta_data['epsilon']\n",
    "    vb_refit_list.append(vb_params_paragami.flatten(vb_params_dict, free = True))\n",
    "    \n",
    "epsilon_vec = np.array(epsilon_vec)\n",
    "vb_refit_list = np.array(vb_refit_list)"
   ]
  },
  {
   "cell_type": "raw",
   "metadata": {},
   "source": []
  },
  {
   "cell_type": "raw",
   "metadata": {},
   "source": [
    "# for convenience, sort the epsilons \n",
    "_indx = np.argsort(epsilon_vec)\n",
    "epsilon_vec = epsilon_vec[_indx]\n",
    "vb_refit_list = vb_refit_list[_indx]"
   ]
  },
  {
   "cell_type": "raw",
   "metadata": {
    "scrolled": true
   },
   "source": [
    "print('epsilons: ', epsilon_vec)"
   ]
  },
  {
   "cell_type": "raw",
   "metadata": {},
   "source": []
  },
  {
   "cell_type": "raw",
   "metadata": {},
   "source": [
    "# Check free parameters"
   ]
  },
  {
   "cell_type": "raw",
   "metadata": {},
   "source": [
    "def predict_opt_par_from_hyper_par(epsilon): \n",
    "    return vb_opt + lr_data['dinput_dfun_wc'] * epsilon"
   ]
  },
  {
   "cell_type": "raw",
   "metadata": {},
   "source": [
    "lr_list = []\n",
    "\n",
    "for epsilon in epsilon_vec: \n",
    "    \n",
    "    # get linear response\n",
    "    lr_list.append(predict_opt_par_from_hyper_par(epsilon))\n",
    "    "
   ]
  },
  {
   "cell_type": "raw",
   "metadata": {},
   "source": [
    "def print_diff_plot(lr_vb_free_params, vb_opt_pert, vb_opt): \n",
    "    plt.plot((lr_vb_free_params - vb_opt), \n",
    "             vb_opt_pert - vb_opt, \n",
    "             '+', color = 'red')\n",
    "\n",
    "    plt.plot(lr_vb_free_params - vb_opt, \n",
    "            lr_vb_free_params - vb_opt, \n",
    "             '-', color = 'blue')\n",
    "\n",
    "    plt.xlabel('lr')\n",
    "    plt.ylabel('re-optimized')\n",
    "    "
   ]
  },
  {
   "cell_type": "raw",
   "metadata": {},
   "source": [
    "for i in range(len(epsilon_vec)): \n",
    "    plt.figure()\n",
    "    print_diff_plot(lr_list[i], \n",
    "                    vb_refit_list[i], \n",
    "                    vb_opt)\n",
    "    plt.title('epsilon = {}'.format(epsilon_vec[i]))"
   ]
  },
  {
   "cell_type": "raw",
   "metadata": {},
   "source": []
  },
  {
   "cell_type": "raw",
   "metadata": {},
   "source": []
  },
  {
   "cell_type": "raw",
   "metadata": {},
   "source": [
    "# Number of clusters"
   ]
  },
  {
   "cell_type": "raw",
   "metadata": {},
   "source": [
    "def g(vb_free_params, vb_params_paragami): \n",
    "    \n",
    "    # key for random sampling. \n",
    "    # this is fixed! so all standard normal \n",
    "    # samples used in computing the posterior quantity \n",
    "    key = jax.random.PRNGKey(0)\n",
    "    \n",
    "    vb_params_dict = vb_params_paragami.fold(vb_free_params, free = True)\n",
    "    \n",
    "    stick_means = vb_params_dict['ind_admix_params']['stick_means']\n",
    "    stick_infos = vb_params_dict['ind_admix_params']['stick_infos']\n",
    "    \n",
    "    return structure_model_lib.get_e_num_pred_clusters(stick_means, stick_infos, gh_loc, gh_weights, \n",
    "                                                       key = key,\n",
    "                                                       n_samples = 1000)\n",
    "\n"
   ]
  },
  {
   "cell_type": "raw",
   "metadata": {},
   "source": [
    "lr_e_num_clusters_vec = onp.zeros(len(epsilon_vec))\n",
    "refit_e_num_clusters_vec = onp.zeros(len(epsilon_vec))\n",
    "\n",
    "for i in range(len(epsilon_vec)): \n",
    "    print(i)\n",
    "        \n",
    "    # get number of clusters\n",
    "    refit_e_num_clusters_vec[i] = g(vb_refit_list[i], vb_params_paragami)\n",
    "    lr_e_num_clusters_vec[i] = g(lr_list[i], vb_params_paragami)\n"
   ]
  },
  {
   "cell_type": "raw",
   "metadata": {},
   "source": []
  },
  {
   "cell_type": "raw",
   "metadata": {},
   "source": [
    "# Results"
   ]
  },
  {
   "cell_type": "raw",
   "metadata": {},
   "source": [
    "plt.plot(epsilon_vec, refit_e_num_clusters_vec, \n",
    "           'o-', color = '#d95f02', label = 'refit')\n",
    "\n",
    "plt.plot(epsilon_vec, lr_e_num_clusters_vec, \n",
    "           'o-', color = '#1b9e77', \n",
    "           label = 'linear approx.')\n",
    "\n",
    "plt.legend()"
   ]
  },
  {
   "cell_type": "raw",
   "metadata": {},
   "source": []
  },
  {
   "cell_type": "raw",
   "metadata": {},
   "source": []
  },
  {
   "cell_type": "raw",
   "metadata": {},
   "source": []
  }
 ],
 "metadata": {
  "kernelspec": {
   "display_name": "bnp_sensitivity_jax",
   "language": "python",
   "name": "bnp_sensitivity_jax"
  },
  "language_info": {
   "codemirror_mode": {
    "name": "ipython",
    "version": 3
   },
   "file_extension": ".py",
   "mimetype": "text/x-python",
   "name": "python",
   "nbconvert_exporter": "python",
   "pygments_lexer": "ipython3",
   "version": "3.8.0"
  }
 },
 "nbformat": 4,
 "nbformat_minor": 4
}
