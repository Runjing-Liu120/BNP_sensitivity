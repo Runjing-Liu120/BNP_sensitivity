{
 "cells": [
  {
   "cell_type": "code",
   "execution_count": 1,
   "metadata": {},
   "outputs": [
    {
     "name": "stderr",
     "output_type": "stream",
     "text": [
      "/accounts/grad/runjing_liu/.conda/envs/bnp_sensitivity_jax/lib/python3.8/site-packages/jax/lib/xla_bridge.py:130: UserWarning: No GPU/TPU found, falling back to CPU.\n",
      "  warnings.warn('No GPU/TPU found, falling back to CPU.')\n"
     ]
    }
   ],
   "source": [
    "import jax\n",
    "\n",
    "import jax.numpy as np\n",
    "import jax.scipy as sp\n",
    "from numpy.polynomial.hermite import hermgauss\n",
    "\n",
    "from vb_lib import structure_model_lib, data_utils, cavi_lib, plotting_utils\n",
    "import vb_lib.structure_optimization_lib as s_optim_lib\n",
    "from vb_lib.preconditioner_lib import get_mfvb_cov_matmul\n",
    "from bnpmodeling_runjingdev.sensitivity_lib import HyperparameterSensitivityLinearApproximation\n",
    "\n",
    "import paragami\n",
    "\n",
    "from copy import deepcopy\n",
    "\n",
    "import time\n",
    "\n",
    "import matplotlib.pyplot as plt\n",
    "%matplotlib inline  \n",
    "\n",
    "from bnpmodeling_runjingdev import influence_lib, modeling_lib\n",
    "import bnpmodeling_runjingdev.functional_sensitivity_lib as func_sens_lib\n",
    "import bnpmodeling_runjingdev.influence_lib "
   ]
  },
  {
   "cell_type": "code",
   "execution_count": 2,
   "metadata": {},
   "outputs": [],
   "source": [
    "import numpy as onp \n",
    "onp.random.seed(53453)"
   ]
  },
  {
   "cell_type": "code",
   "execution_count": null,
   "metadata": {},
   "outputs": [],
   "source": []
  },
  {
   "cell_type": "markdown",
   "metadata": {},
   "source": [
    "# Load data"
   ]
  },
  {
   "cell_type": "code",
   "execution_count": 3,
   "metadata": {
    "scrolled": true
   },
   "outputs": [],
   "source": [
    "data_file = '../data/huang2011_subsampled.npz'\n",
    "data = np.load(data_file)\n",
    "g_obs = np.array(data['g_obs'], dtype = int)"
   ]
  },
  {
   "cell_type": "code",
   "execution_count": 4,
   "metadata": {},
   "outputs": [],
   "source": [
    "n_obs = g_obs.shape[0]\n",
    "n_loci = g_obs.shape[1]"
   ]
  },
  {
   "cell_type": "code",
   "execution_count": 5,
   "metadata": {},
   "outputs": [
    {
     "name": "stdout",
     "output_type": "stream",
     "text": [
      "250\n",
      "600\n"
     ]
    }
   ],
   "source": [
    "print(n_obs)\n",
    "print(n_loci)"
   ]
  },
  {
   "cell_type": "markdown",
   "metadata": {},
   "source": [
    "# Load initial fit"
   ]
  },
  {
   "cell_type": "code",
   "execution_count": 6,
   "metadata": {},
   "outputs": [],
   "source": [
    "fits_dir = '../fits/fits_20201112/' \n",
    "filename = fits_dir + 'huang2011_sub_fit_alpha6.0.npz'"
   ]
  },
  {
   "cell_type": "code",
   "execution_count": 7,
   "metadata": {},
   "outputs": [],
   "source": [
    "vb_opt_dict, vb_params_paragami, meta_data = \\\n",
    "    paragami.load_folded(filename)\n",
    "\n",
    "vb_opt = vb_params_paragami.flatten(vb_opt_dict, free = True)\n",
    "\n",
    "# logitnormal parameters\n",
    "gh_deg = int(meta_data['gh_deg'])\n",
    "gh_loc, gh_weights = hermgauss(gh_deg)\n",
    "\n",
    "gh_loc = np.array(gh_loc)\n",
    "gh_weights = np.array(gh_weights)"
   ]
  },
  {
   "cell_type": "markdown",
   "metadata": {},
   "source": [
    "# Prior parameters "
   ]
  },
  {
   "cell_type": "code",
   "execution_count": 8,
   "metadata": {},
   "outputs": [],
   "source": [
    "prior_params_dict, prior_params_paragami = \\\n",
    "    structure_model_lib.get_default_prior_params()\n",
    "\n",
    "prior_params_dict['dp_prior_alpha'] = np.array(meta_data['dp_prior_alpha'])\n",
    "prior_params_dict['allele_prior_alpha'] = np.array(meta_data['allele_prior_alpha'])\n",
    "prior_params_dict['allele_prior_beta'] = np.array(meta_data['allele_prior_beta'])"
   ]
  },
  {
   "cell_type": "code",
   "execution_count": 9,
   "metadata": {},
   "outputs": [
    {
     "data": {
      "text/plain": [
       "{'dp_prior_alpha': DeviceArray([6.], dtype=float64),\n",
       " 'allele_prior_alpha': DeviceArray([1.], dtype=float64),\n",
       " 'allele_prior_beta': DeviceArray([1.], dtype=float64)}"
      ]
     },
     "execution_count": 9,
     "metadata": {},
     "output_type": "execute_result"
    }
   ],
   "source": [
    "prior_params_dict"
   ]
  },
  {
   "cell_type": "code",
   "execution_count": null,
   "metadata": {},
   "outputs": [],
   "source": []
  },
  {
   "cell_type": "markdown",
   "metadata": {},
   "source": [
    "# Check out the fit"
   ]
  },
  {
   "cell_type": "code",
   "execution_count": 10,
   "metadata": {},
   "outputs": [
    {
     "data": {
      "image/png": "[encoded data removed]",
      "text/plain": [
       "<Figure size 432x216 with 1 Axes>"
      ]
     },
     "metadata": {},
     "output_type": "display_data"
    }
   ],
   "source": [
    "e_ind_admix = plotting_utils.get_vb_expectations(vb_opt_dict, gh_loc, gh_weights)[0]\n",
    "# re-order individuals for better plotting\n",
    "indx = data_utils.cluster_admix_get_indx(e_ind_admix)\n",
    "\n",
    "f, axarr = plt.subplots(1, 1, figsize=(6, 3))\n",
    "e_ind_admix = plotting_utils.plot_top_clusters(e_ind_admix[indx], axarr, \n",
    "                                               n_top_clusters = 3)"
   ]
  },
  {
   "cell_type": "code",
   "execution_count": null,
   "metadata": {},
   "outputs": [],
   "source": []
  },
  {
   "cell_type": "markdown",
   "metadata": {},
   "source": [
    "# Set up linear response derivatives"
   ]
  },
  {
   "cell_type": "code",
   "execution_count": 11,
   "metadata": {},
   "outputs": [],
   "source": [
    "# set up objective functions\n",
    "\n",
    "# this just returns the KL at epsilon = 0 \n",
    "# (no perturbation)\n",
    "# NOTE this function doesn't actually depend on epsilon\n",
    "# we can do this and set log_phi later because \n",
    "# the perturbation is multiplicative \n",
    "# (so the hessian at epsilon = 0 does not depend on the perturbation)\n",
    "get_vb_loss = paragami.FlattenFunctionInput(\n",
    "    lambda params, epsilon: structure_model_lib.get_kl(g_obs, \n",
    "                                            params,\n",
    "                                            prior_params_dict, \n",
    "                                            gh_loc,\n",
    "                                            gh_weights),\n",
    "    argnums=0, patterns=vb_params_paragami, free=True)\n",
    "\n",
    "\n",
    "# this is just a place holder for a null perturbation\n",
    "# will set this properly later\n",
    "hyper_par_objective_fun = lambda params, epsilon: 0.\n"
   ]
  },
  {
   "cell_type": "code",
   "execution_count": 12,
   "metadata": {},
   "outputs": [
    {
     "name": "stdout",
     "output_type": "stream",
     "text": [
      "Compiling ...\n",
      "Compile time: 76.6917sec\n",
      "\n"
     ]
    }
   ],
   "source": [
    "# set up linear approximation class\n",
    "epsilon0 = np.array([0.])\n",
    "\n",
    "epsilon_sens = \\\n",
    "    HyperparameterSensitivityLinearApproximation(\n",
    "        objective_fun = get_vb_loss, \n",
    "        opt_par_value = vb_opt, \n",
    "        hyper_par_value0 = epsilon0, \n",
    "        hyper_par_objective_fun = hyper_par_objective_fun)\n"
   ]
  },
  {
   "cell_type": "code",
   "execution_count": null,
   "metadata": {},
   "outputs": [],
   "source": []
  },
  {
   "cell_type": "code",
   "execution_count": null,
   "metadata": {},
   "outputs": [],
   "source": []
  },
  {
   "cell_type": "markdown",
   "metadata": {},
   "source": [
    "# Compute influence function"
   ]
  },
  {
   "cell_type": "code",
   "execution_count": 13,
   "metadata": {},
   "outputs": [],
   "source": [
    "# the influence function\n",
    "influence_operator = influence_lib.InfluenceOperator(vb_opt, \n",
    "                           vb_params_paragami, \n",
    "                           epsilon_sens.hessian_solver,\n",
    "                           prior_params_dict['dp_prior_alpha'], \n",
    "                           stick_key = 'ind_admix_params')"
   ]
  },
  {
   "cell_type": "markdown",
   "metadata": {},
   "source": [
    "### Define posterior quantity of interest"
   ]
  },
  {
   "cell_type": "code",
   "execution_count": 14,
   "metadata": {},
   "outputs": [],
   "source": [
    "def g(vb_free_params, vb_params_paragami): \n",
    "    \n",
    "    # key for random sampling. \n",
    "    # this is fixed! so all standard normal \n",
    "    # samples used in computing the posterior quantity \n",
    "    key = jax.random.PRNGKey(4352)\n",
    "    \n",
    "    vb_params_dict = vb_params_paragami.fold(vb_free_params, free = True)\n",
    "    \n",
    "    stick_means = vb_params_dict['ind_admix_params']['stick_means']\n",
    "    stick_infos = vb_params_dict['ind_admix_params']['stick_infos']\n",
    "    \n",
    "    return structure_model_lib.get_e_num_pred_clusters(stick_means, stick_infos, gh_loc, gh_weights, \n",
    "                                                       key = key,\n",
    "                                                       n_samples = 1000)"
   ]
  },
  {
   "cell_type": "code",
   "execution_count": 15,
   "metadata": {},
   "outputs": [],
   "source": [
    "get_grad_g = jax.jacobian(g, argnums = 0)\n",
    "grad_g = get_grad_g(vb_opt, vb_params_paragami)"
   ]
  },
  {
   "cell_type": "markdown",
   "metadata": {},
   "source": [
    "### worst-case influence"
   ]
  },
  {
   "cell_type": "code",
   "execution_count": 16,
   "metadata": {},
   "outputs": [],
   "source": [
    "logit_v_grid = np.linspace(-10, 10, 200)"
   ]
  },
  {
   "cell_type": "code",
   "execution_count": 17,
   "metadata": {},
   "outputs": [
    {
     "name": "stdout",
     "output_type": "stream",
     "text": [
      "inverting hessian ...\n"
     ]
    }
   ],
   "source": [
    "influence_grid = influence_operator.get_influence(logit_v_grid, grad_g)"
   ]
  },
  {
   "cell_type": "code",
   "execution_count": 18,
   "metadata": {},
   "outputs": [],
   "source": [
    "delta = 0.25"
   ]
  },
  {
   "cell_type": "code",
   "execution_count": 19,
   "metadata": {},
   "outputs": [],
   "source": [
    "worst_case_pert = influence_lib.WorstCasePerturbation(influence_fun = None, \n",
    "                                                      logit_v_grid = logit_v_grid, \n",
    "                                                      cached_influence_grid = influence_grid, \n",
    "                                                      delta = delta)"
   ]
  },
  {
   "cell_type": "code",
   "execution_count": 20,
   "metadata": {},
   "outputs": [],
   "source": [
    "# np.savez('../scripts/influence_grid', \n",
    "#          logit_v_grid = logit_v_grid, \n",
    "#          influence_grid = influence_grid, \n",
    "#          alpha0 = prior_params_dict['dp_prior_alpha'], \n",
    "#          delta = delta)"
   ]
  },
  {
   "cell_type": "code",
   "execution_count": 21,
   "metadata": {},
   "outputs": [
    {
     "data": {
      "text/plain": [
       "DeviceArray([-2.56281407, -0.55276382,  0.65326633,  0.95477387,\n",
       "              1.05527638,  1.25628141,  1.35678392,  1.55778894,\n",
       "              1.65829146,  2.46231156,  2.66331658,  2.7638191 ,\n",
       "              3.36683417,  4.17085427], dtype=float64)"
      ]
     },
     "execution_count": 21,
     "metadata": {},
     "output_type": "execute_result"
    }
   ],
   "source": [
    "worst_case_pert.change_points"
   ]
  },
  {
   "cell_type": "markdown",
   "metadata": {},
   "source": [
    "### Plot influence function"
   ]
  },
  {
   "cell_type": "code",
   "execution_count": 22,
   "metadata": {},
   "outputs": [
    {
     "data": {
      "image/png": "[encoded data removed]",
      "text/plain": [
       "<Figure size 1080x288 with 3 Axes>"
      ]
     },
     "metadata": {
      "needs_background": "light"
     },
     "output_type": "display_data"
    }
   ],
   "source": [
    "fig, ax = plt.subplots(1, 3, figsize = (15, 4)) \n",
    "ax[0].plot(worst_case_pert.logit_v_grid, worst_case_pert.influence_grid)\n",
    "ax[0].set_xlabel('logit v')\n",
    "ax[0].set_ylabel('Influence')\n",
    "\n",
    "ax[1].plot(worst_case_pert.v_grid, worst_case_pert.influence_grid)\n",
    "ax[1].set_xlabel('v')\n",
    "ax[1].set_ylabel('Influence')\n",
    "\n",
    "ax[2].plot(worst_case_pert.logit_v_grid, np.sign(worst_case_pert.influence_grid))\n",
    "ax[2].set_xlabel('logit v')\n",
    "ax[2].set_ylabel('sign(Influence)')\n",
    "\n",
    "fig.tight_layout()"
   ]
  },
  {
   "cell_type": "code",
   "execution_count": null,
   "metadata": {},
   "outputs": [],
   "source": []
  },
  {
   "cell_type": "markdown",
   "metadata": {},
   "source": [
    "# Define prior perturbation"
   ]
  },
  {
   "cell_type": "code",
   "execution_count": 23,
   "metadata": {},
   "outputs": [],
   "source": [
    "# just for plotting only! \n",
    "# saves some time in computing the influence function\n",
    "# by doing a setp function interpolation\n",
    "def influence_fun_interp(logit_v): \n",
    "    # find index of logit_v_grid \n",
    "    # closest (on the left) to logit_v\n",
    "    indx = np.searchsorted(worst_case_pert.logit_v_grid, logit_v)\n",
    "    \n",
    "    # return the influence function at those points\n",
    "    return worst_case_pert.influence_grid[indx]\n",
    "\n",
    "# define log phi\n",
    "def log_phi(logit_v):\n",
    "    return(np.sign(influence_fun_interp(logit_v)) * worst_case_pert.delta)"
   ]
  },
  {
   "cell_type": "code",
   "execution_count": 24,
   "metadata": {},
   "outputs": [
    {
     "name": "stderr",
     "output_type": "stream",
     "text": [
      "/accounts/grad/runjing_liu/.conda/envs/bnp_sensitivity_jax/lib/python3.8/site-packages/scipy/integrate/quadrature.py:249: AccuracyWarning: maxiter (50) exceeded. Latest difference = 1.101448e-02\n",
      "  warnings.warn(\n",
      "/accounts/grad/runjing_liu/.conda/envs/bnp_sensitivity_jax/lib/python3.8/site-packages/scipy/integrate/quadrature.py:249: AccuracyWarning: maxiter (50) exceeded. Latest difference = 6.573960e-02\n",
      "  warnings.warn(\n"
     ]
    }
   ],
   "source": [
    "prior_perturbation = func_sens_lib.PriorPerturbation(\n",
    "                                alpha0 = prior_params_dict['dp_prior_alpha'],\n",
    "                                log_phi = log_phi, \n",
    "                                logit_v_ub = 10, \n",
    "                                logit_v_lb = -10)"
   ]
  },
  {
   "cell_type": "code",
   "execution_count": 113,
   "metadata": {},
   "outputs": [
    {
     "name": "stderr",
     "output_type": "stream",
     "text": [
      "/accounts/grad/runjing_liu/.conda/envs/bnp_sensitivity_jax/lib/python3.8/site-packages/scipy/integrate/quadrature.py:249: AccuracyWarning: maxiter (50) exceeded. Latest difference = 1.101448e-02\n",
      "  warnings.warn(\n",
      "/accounts/grad/runjing_liu/.conda/envs/bnp_sensitivity_jax/lib/python3.8/site-packages/scipy/integrate/quadrature.py:249: AccuracyWarning: maxiter (50) exceeded. Latest difference = 6.573960e-02\n",
      "  warnings.warn(\n"
     ]
    },
    {
     "data": {
      "text/plain": [
       "Text(0.5, 1.0, 'Priors in logit space')"
      ]
     },
     "execution_count": 113,
     "metadata": {},
     "output_type": "execute_result"
    },
    {
     "data": {
      "image/png": "[encoded data removed]",
      "text/plain": [
       "<Figure size 1296x360 with 4 Axes>"
      ]
     },
     "metadata": {
      "needs_background": "light"
     },
     "output_type": "display_data"
    }
   ],
   "source": [
    "prior_perturbation.set_epsilon(1.0)\n",
    "\n",
    "logit_v_grid = worst_case_pert.logit_v_grid\n",
    "v_grid = sp.special.expit(logit_v_grid)\n",
    "\n",
    "plt.figure(1, figsize=(18, 5))\n",
    "\n",
    "plt.subplot(141)\n",
    "plt.plot(logit_v_grid, prior_perturbation.get_log_p0_logit(logit_v_grid))\n",
    "plt.plot(logit_v_grid, prior_perturbation.get_log_pc_logit(logit_v_grid))\n",
    "plt.title('Log priors in logit space')\n",
    "\n",
    "plt.subplot(142)\n",
    "plt.plot(logit_v_grid, prior_perturbation.log_phi(logit_v_grid))\n",
    "plt.title('log phi in logit space')\n",
    "\n",
    "plt.subplot(143)\n",
    "plt.plot(v_grid, np.exp(prior_perturbation.get_log_p0(v_grid)))\n",
    "plt.plot(v_grid, np.exp(prior_perturbation.get_log_pc(v_grid)))\n",
    "plt.title('Priors in stick space')\n",
    "\n",
    "plt.subplot(144)\n",
    "plt.plot(logit_v_grid, np.exp(prior_perturbation.get_log_p0_logit(logit_v_grid)))\n",
    "plt.plot(logit_v_grid, np.exp(prior_perturbation.get_log_pc_logit(logit_v_grid)))\n",
    "plt.title('Priors in logit space')\n"
   ]
  },
  {
   "cell_type": "code",
   "execution_count": 26,
   "metadata": {},
   "outputs": [],
   "source": [
    "def get_e_log_perturbation(means, infos, epsilon): \n",
    "    return epsilon * worst_case_pert.get_e_log_linf_perturbation(means.flatten(), \n",
    "                                                                 infos.flatten())"
   ]
  },
  {
   "cell_type": "code",
   "execution_count": 27,
   "metadata": {},
   "outputs": [],
   "source": [
    "def _hyper_par_objective_fun(params, epsilon): \n",
    "    \n",
    "    means = params['ind_admix_params']['stick_means']\n",
    "    infos = params['ind_admix_params']['stick_infos']\n",
    "    \n",
    "    return - get_e_log_perturbation(means, infos, epsilon)\n",
    "\n",
    "# the terms of the KL objective that depend on epsilon \n",
    "hyper_par_objective_fun = paragami.FlattenFunctionInput(_hyper_par_objective_fun,\n",
    "                                                        argnums=0, \n",
    "                                                        patterns=vb_params_paragami,\n",
    "                                                        free = True)\n"
   ]
  },
  {
   "cell_type": "code",
   "execution_count": null,
   "metadata": {},
   "outputs": [],
   "source": []
  },
  {
   "cell_type": "code",
   "execution_count": null,
   "metadata": {},
   "outputs": [],
   "source": []
  },
  {
   "cell_type": "markdown",
   "metadata": {},
   "source": [
    "# Get derivative for prior perturbation"
   ]
  },
  {
   "cell_type": "code",
   "execution_count": 28,
   "metadata": {},
   "outputs": [],
   "source": [
    "epsilon_sens._set_cross_hess(hyper_par_objective_fun)\n",
    "epsilon_sens._set_dinput_dhyper()"
   ]
  },
  {
   "cell_type": "code",
   "execution_count": 29,
   "metadata": {},
   "outputs": [
    {
     "data": {
      "text/plain": [
       "DeviceArray(-0.40545399, dtype=float64)"
      ]
     },
     "execution_count": 29,
     "metadata": {},
     "output_type": "execute_result"
    }
   ],
   "source": [
    "np.dot(epsilon_sens.dinput_dhyper, \n",
    "       grad_g)"
   ]
  },
  {
   "cell_type": "code",
   "execution_count": null,
   "metadata": {},
   "outputs": [],
   "source": []
  },
  {
   "cell_type": "markdown",
   "metadata": {},
   "source": [
    "# Load all epsilon fits"
   ]
  },
  {
   "cell_type": "code",
   "execution_count": 30,
   "metadata": {},
   "outputs": [],
   "source": [
    "fits_dir = '../fits/fits_20201112/'\n",
    "filenames = 'huang2011_sub_fit_ws_indx*'"
   ]
  },
  {
   "cell_type": "code",
   "execution_count": 31,
   "metadata": {},
   "outputs": [],
   "source": [
    "import os \n",
    "import re"
   ]
  },
  {
   "cell_type": "code",
   "execution_count": 32,
   "metadata": {},
   "outputs": [],
   "source": [
    "files = [f for f in os.listdir(fits_dir) if re.match(filenames, f)]"
   ]
  },
  {
   "cell_type": "code",
   "execution_count": 33,
   "metadata": {},
   "outputs": [
    {
     "data": {
      "text/plain": [
       "['huang2011_sub_fit_ws_indx2.npz',\n",
       " 'huang2011_sub_fit_ws_indx5.npz',\n",
       " 'huang2011_sub_fit_ws_indx10.npz',\n",
       " 'huang2011_sub_fit_ws_indx4.npz',\n",
       " 'huang2011_sub_fit_ws_indx3.npz',\n",
       " 'huang2011_sub_fit_ws_indx0.npz',\n",
       " 'huang2011_sub_fit_ws_indx7.npz',\n",
       " 'huang2011_sub_fit_ws_indx9.npz',\n",
       " 'huang2011_sub_fit_ws_indx8.npz',\n",
       " 'huang2011_sub_fit_ws_indx6.npz',\n",
       " 'huang2011_sub_fit_ws_indx1.npz']"
      ]
     },
     "execution_count": 33,
     "metadata": {},
     "output_type": "execute_result"
    }
   ],
   "source": [
    "files"
   ]
  },
  {
   "cell_type": "code",
   "execution_count": 34,
   "metadata": {},
   "outputs": [
    {
     "name": "stdout",
     "output_type": "stream",
     "text": [
      "loading fit from:  huang2011_sub_fit_ws_indx2.npz\n",
      "loading fit from:  huang2011_sub_fit_ws_indx5.npz\n",
      "loading fit from:  huang2011_sub_fit_ws_indx10.npz\n",
      "loading fit from:  huang2011_sub_fit_ws_indx4.npz\n",
      "loading fit from:  huang2011_sub_fit_ws_indx3.npz\n",
      "loading fit from:  huang2011_sub_fit_ws_indx0.npz\n",
      "loading fit from:  huang2011_sub_fit_ws_indx7.npz\n",
      "loading fit from:  huang2011_sub_fit_ws_indx9.npz\n",
      "loading fit from:  huang2011_sub_fit_ws_indx8.npz\n",
      "loading fit from:  huang2011_sub_fit_ws_indx6.npz\n",
      "loading fit from:  huang2011_sub_fit_ws_indx1.npz\n"
     ]
    }
   ],
   "source": [
    "vb_refit_list = []\n",
    "epsilon_vec = onp.zeros(len(files))\n",
    "\n",
    "for i in range(len(files)): \n",
    "    \n",
    "    print('loading fit from: ', files[i])\n",
    "    \n",
    "    # load fit\n",
    "    vb_params_dict, vb_params_paragami, meta_data = \\\n",
    "        paragami.load_folded(fits_dir + files[i])\n",
    "        \n",
    "    kl = structure_model_lib.get_kl(g_obs, vb_params_dict, prior_params_dict,\n",
    "                                    gh_loc, gh_weights, \n",
    "                                    e_log_phi = lambda means, infos : \\\n",
    "                                                    get_e_log_perturbation(means, \n",
    "                                                                           infos, \n",
    "                                                                           meta_data['epsilon']))\n",
    "    \n",
    "    assert np.abs(kl - meta_data['final_kl']) < 1e-8\n",
    "    \n",
    "    # save alpha and fitted parametrs\n",
    "    epsilon_vec[i] = meta_data['epsilon']\n",
    "    vb_refit_list.append(vb_params_paragami.flatten(vb_params_dict, free = True))\n",
    "    \n",
    "epsilon_vec = np.array(epsilon_vec)\n",
    "vb_refit_list = np.array(vb_refit_list)"
   ]
  },
  {
   "cell_type": "code",
   "execution_count": 35,
   "metadata": {},
   "outputs": [],
   "source": [
    "# for convenience, sort the epsilons \n",
    "_indx = np.argsort(epsilon_vec)\n",
    "epsilon_vec = epsilon_vec[_indx]\n",
    "vb_refit_list = vb_refit_list[_indx]"
   ]
  },
  {
   "cell_type": "code",
   "execution_count": 36,
   "metadata": {
    "scrolled": true
   },
   "outputs": [
    {
     "name": "stdout",
     "output_type": "stream",
     "text": [
      "epsilons:  [0.00826446 0.03305785 0.07438017 0.1322314  0.20661157 0.29752066\n",
      " 0.40495868 0.52892562 0.66942149 0.82644628 1.        ]\n"
     ]
    }
   ],
   "source": [
    "print('epsilons: ', epsilon_vec)"
   ]
  },
  {
   "cell_type": "code",
   "execution_count": null,
   "metadata": {},
   "outputs": [],
   "source": []
  },
  {
   "cell_type": "markdown",
   "metadata": {},
   "source": [
    "# Check free parameters"
   ]
  },
  {
   "cell_type": "code",
   "execution_count": 37,
   "metadata": {},
   "outputs": [],
   "source": [
    "lr_list = []\n",
    "\n",
    "for epsilon in epsilon_vec: \n",
    "    \n",
    "    # get linear response\n",
    "    lr_list.append(epsilon_sens.predict_opt_par_from_hyper_par(epsilon))\n",
    "    "
   ]
  },
  {
   "cell_type": "code",
   "execution_count": null,
   "metadata": {},
   "outputs": [],
   "source": []
  },
  {
   "cell_type": "markdown",
   "metadata": {},
   "source": [
    "# Number of clusters"
   ]
  },
  {
   "cell_type": "code",
   "execution_count": 38,
   "metadata": {},
   "outputs": [
    {
     "name": "stdout",
     "output_type": "stream",
     "text": [
      "0\n",
      "1\n",
      "2\n",
      "3\n",
      "4\n",
      "5\n",
      "6\n",
      "7\n",
      "8\n",
      "9\n",
      "10\n"
     ]
    }
   ],
   "source": [
    "lr_e_num_clusters_vec = onp.zeros(len(epsilon_vec))\n",
    "refit_e_num_clusters_vec = onp.zeros(len(epsilon_vec))\n",
    "\n",
    "for i in range(len(epsilon_vec)): \n",
    "    print(i)\n",
    "        \n",
    "    # get number of clusters\n",
    "    refit_e_num_clusters_vec[i] = g(vb_refit_list[i], vb_params_paragami)\n",
    "    lr_e_num_clusters_vec[i] = g(lr_list[i], vb_params_paragami)\n"
   ]
  },
  {
   "cell_type": "markdown",
   "metadata": {},
   "source": [
    "# Figures for paper"
   ]
  },
  {
   "cell_type": "code",
   "execution_count": 125,
   "metadata": {},
   "outputs": [
    {
     "data": {
      "image/png": "[encoded data removed]",
      "text/plain": [
       "<Figure size 936x288 with 3 Axes>"
      ]
     },
     "metadata": {
      "needs_background": "light"
     },
     "output_type": "display_data"
    }
   ],
   "source": [
    "fig, ax = plt.subplots(1, 3, figsize = (13, 4)) \n",
    "\n",
    "ax_ticksize = 12\n",
    "ax_titlesize = 20\n",
    "legend_fontsize = 16\n",
    "\n",
    "##############\n",
    "# the perturbation\n",
    "ax[0].plot(logit_v_grid, prior_perturbation.log_phi(logit_v_grid), color = 'grey', \n",
    "           label = 'worst-case')\n",
    "ax[0].set_xlabel(r'$\\tilde \\nu_k$', fontsize = ax_titlesize)\n",
    "ax[0].set_ylabel(r'$\\phi(\\tilde \\nu_k)$', fontsize = ax_titlesize)\n",
    "ax[0].set_title('Worst-case', fontsize = ax_titlesize)\n",
    "ax[0].set_ylim(-delta * (1.1), delta * (1.1))\n",
    "\n",
    "##############\n",
    "# the priors\n",
    "ax[1].plot(logit_v_grid, np.exp(prior_perturbation.get_log_p0_logit(logit_v_grid)), \n",
    "           color = '#a6cee3', label = r'$p_0$')\n",
    "ax[1].plot(logit_v_grid, np.exp(prior_perturbation.get_log_pc_logit(logit_v_grid)), \n",
    "           color = '#1f78b4', label = r'$p_c$')\n",
    "ax[1].set_xlabel(r'$\\tilde \\nu_k$', fontsize = ax_titlesize)\n",
    "ax[1].set_ylabel(r'$p(\\tilde \\nu_k)$', fontsize = ax_titlesize)\n",
    "# ax[1].set_title('Priors', fontsize = ax_titlesize)\n",
    "# ax[1].legend(fontsize = legend_fontsize)\n",
    "\n",
    "##############\n",
    "# extrapolation results\n",
    "ax[2].plot(epsilon_vec, refit_e_num_clusters_vec, \n",
    "           'o-', color = '#d95f02', label = 'refit')\n",
    "\n",
    "ax[2].plot(epsilon_vec, lr_e_num_clusters_vec, \n",
    "           'o-', color = '#1b9e77', \n",
    "           label = 'linear approx.')\n",
    "\n",
    "# ax[2].legend(fontsize = legend_fontsize)\n",
    "ax[2].set_xlabel('epsilon', fontsize = ax_titlesize)\n",
    "ax[2].set_ylabel('E[num. clusters]', fontsize = ax_titlesize)\n",
    "ax[2].set_ylim(4.7, 5.21)\n",
    "\n",
    "for i in range(2):     \n",
    "    ax[i].tick_params(axis='both', which='major', labelsize=ax_ticksize)\n",
    "\n",
    "fig.tight_layout()"
   ]
  },
  {
   "cell_type": "code",
   "execution_count": 111,
   "metadata": {},
   "outputs": [],
   "source": [
    "logit_v_grid2 = np.linspace(-10, 2.5, 500)\n",
    "v_grid2 = sp.special.expit(logit_v_grid2)"
   ]
  },
  {
   "cell_type": "code",
   "execution_count": 130,
   "metadata": {},
   "outputs": [],
   "source": [
    "delta = 0.25"
   ]
  },
  {
   "cell_type": "code",
   "execution_count": 131,
   "metadata": {},
   "outputs": [
    {
     "data": {
      "image/png": "[encoded data removed]",
      "text/plain": [
       "<Figure size 648x288 with 2 Axes>"
      ]
     },
     "metadata": {
      "needs_background": "light"
     },
     "output_type": "display_data"
    }
   ],
   "source": [
    "fig, ax = plt.subplots(1, 2, figsize = (9, 4)) \n",
    "\n",
    "# Possible perturbations in stick-space\n",
    "ax[0].plot(v_grid2, \n",
    "         np.exp(prior_perturbation.get_log_p0(v_grid2)), \n",
    "           color = 'blue')\n",
    "\n",
    "ax[0].plot(v_grid2, \n",
    "         np.exp(prior_perturbation.get_log_p0(v_grid2) + delta), \n",
    "           color = 'skyblue', linestyle = '--')\n",
    "\n",
    "ax[0].plot(v_grid2, \n",
    "         np.exp(prior_perturbation.get_log_p0(v_grid2) - delta), \n",
    "           color = 'skyblue', linestyle = '--')\n",
    "ax[0].set_xlabel(r'$\\nu_k$', fontsize = ax_titlesize)\n",
    "ax[0].set_ylabel(r'$p(\\nu_k)$', fontsize = ax_titlesize)\n",
    "ax[0].set_title('Priors in stick space', fontsize = ax_titlesize)\n",
    "\n",
    "# possible perturbation in logit-stick space\n",
    "ax[1].plot(logit_v_grid2, \n",
    "         np.exp(prior_perturbation.get_log_p0_logit(logit_v_grid2)), \n",
    "           color = 'blue')\n",
    "ax[1].plot(logit_v_grid2, \n",
    "         np.exp(prior_perturbation.get_log_p0_logit(logit_v_grid2) + delta), \n",
    "           color = 'skyblue', linestyle = '--')\n",
    "ax[1].plot(logit_v_grid2, \n",
    "         np.exp(prior_perturbation.get_log_p0_logit(logit_v_grid2) - delta), \n",
    "           color = 'skyblue', linestyle = '--')\n",
    "ax[1].set_xlabel(r'$\\tilde \\nu_k$', fontsize = ax_titlesize)\n",
    "ax[1].set_ylabel(r'$p(\\tilde \\nu_k)$', fontsize = ax_titlesize)\n",
    "ax[1].set_title('Priors in logit-stick space', fontsize = ax_titlesize)\n",
    "\n",
    "fig.tight_layout()"
   ]
  },
  {
   "cell_type": "code",
   "execution_count": null,
   "metadata": {},
   "outputs": [],
   "source": []
  },
  {
   "cell_type": "code",
   "execution_count": null,
   "metadata": {},
   "outputs": [],
   "source": []
  },
  {
   "cell_type": "raw",
   "metadata": {},
   "source": [
    "stick_propn_mean = vb_params_dict['ind_mix_stick_propn_mean']\n",
    "stick_propn_info = vb_params_dict['ind_mix_stick_propn_info']"
   ]
  },
  {
   "cell_type": "raw",
   "metadata": {},
   "source": [
    "foo1 = modeling_lib.get_e_func_logit_stick_vec(\n",
    "        stick_propn_mean, stick_propn_info,\n",
    "        gh_loc, gh_weights, \n",
    "        log_prior_pert)"
   ]
  },
  {
   "cell_type": "raw",
   "metadata": {},
   "source": [
    "foo2 = func_sens_lib.get_e_log_perturbation(log_prior_pert, stick_propn_mean, stick_propn_info, 1,\n",
    "                                    gh_loc, gh_weights, sum_vector = False)"
   ]
  },
  {
   "cell_type": "raw",
   "metadata": {},
   "source": [
    "import LinearResponseVariationalBayes.ExponentialFamilies as ef\n"
   ]
  },
  {
   "cell_type": "raw",
   "metadata": {},
   "source": [
    "e_phi = np.array([\n",
    "        ef.get_e_fun_normal(\n",
    "            stick_propn_mean[k], stick_propn_info[k], \\\n",
    "            gh_loc, gh_weights, log_prior_pert)\n",
    "        for k in range(len(stick_propn_mean))\n",
    "    ])"
   ]
  },
  {
   "cell_type": "raw",
   "metadata": {},
   "source": [
    "assert np.all(e_phi == -foo2)\n",
    "assert np.all(foo1 == -foo2)"
   ]
  },
  {
   "cell_type": "raw",
   "metadata": {},
   "source": [
    "foo3 = ef.get_e_fun_normal(\n",
    "            stick_propn_mean, stick_propn_info, \\\n",
    "            gh_loc, gh_weights, log_prior_pert)"
   ]
  },
  {
   "cell_type": "raw",
   "metadata": {},
   "source": [
    "assert np.all(foo3 == foo1)"
   ]
  },
  {
   "cell_type": "raw",
   "metadata": {},
   "source": [
    "means = vb_opt_dict['ind_admix_params']['stick_means']\n",
    "infos = vb_opt_dict['ind_admix_params']['stick_infos']\n"
   ]
  },
  {
   "cell_type": "raw",
   "metadata": {},
   "source": [
    "loc = means\n",
    "scale = 1 / np.sqrt(infos)"
   ]
  },
  {
   "cell_type": "raw",
   "metadata": {},
   "source": [
    "cdf1 = sp.stats.norm.cdf(-0.55, loc, scale)\n",
    "cdf2 = sp.stats.norm.cdf(-2.56, loc, scale)"
   ]
  },
  {
   "cell_type": "raw",
   "metadata": {},
   "source": [
    "cdf1 - cdf2"
   ]
  }
 ],
 "metadata": {
  "kernelspec": {
   "display_name": "bnp_sensitivity_jax",
   "language": "python",
   "name": "bnp_sensitivity_jax"
  },
  "language_info": {
   "codemirror_mode": {
    "name": "ipython",
    "version": 3
   },
   "file_extension": ".py",
   "mimetype": "text/x-python",
   "name": "python",
   "nbconvert_exporter": "python",
   "pygments_lexer": "ipython3",
   "version": "3.8.0"
  }
 },
 "nbformat": 4,
 "nbformat_minor": 4
}
