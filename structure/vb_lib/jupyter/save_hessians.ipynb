{
 "cells": [
  {
   "cell_type": "code",
   "execution_count": 1,
   "metadata": {
    "collapsed": false
   },
   "outputs": [],
   "source": [
    "import autograd \n",
    "\n",
    "import autograd.numpy as np\n",
    "import autograd.scipy as sp\n",
    "from numpy.polynomial.hermite import hermgauss\n",
    "\n",
    "import sys\n",
    "sys.path.insert(0, '../')\n",
    "\n",
    "import structure_model_lib\n",
    "import data_utils\n",
    "import paragami"
   ]
  },
  {
   "cell_type": "code",
   "execution_count": 2,
   "metadata": {
    "collapsed": false
   },
   "outputs": [],
   "source": [
    "from BNP_modeling import cluster_quantities_lib, modeling_lib\n",
    "import BNP_modeling.optimization_lib as opt_lib\n",
    "\n",
    "from itertools import permutations\n",
    "\n",
    "import matplotlib.pyplot as plt\n",
    "%matplotlib inline  \n",
    "\n",
    "import vittles\n",
    "\n",
    "from copy import deepcopy"
   ]
  },
  {
   "cell_type": "code",
   "execution_count": 3,
   "metadata": {
    "collapsed": true
   },
   "outputs": [],
   "source": [
    "np.random.seed(53453)"
   ]
  },
  {
   "cell_type": "markdown",
   "metadata": {
    "collapsed": true
   },
   "source": [
    "# Load data"
   ]
  },
  {
   "cell_type": "code",
   "execution_count": 4,
   "metadata": {
    "collapsed": false
   },
   "outputs": [
    {
     "name": "stdout",
     "output_type": "stream",
     "text": [
      "true_number of populations:  4\n"
     ]
    }
   ],
   "source": [
    "# population allele frequencies\n",
    "true_pop_allele_freq = np.load('../data/true_pop_allele_freq.npy')\n",
    "\n",
    "# individual admixtures\n",
    "true_ind_admix_propn = np.load('../data/true_ind_admix_propn.npy')\n",
    "\n",
    "# observations \n",
    "g_obs = np.load('../data/simulated_genotypes.npy')\n",
    "\n",
    "n_obs = g_obs.shape[0]\n",
    "n_loci = g_obs.shape[1]\n",
    "n_pop = true_pop_allele_freq.shape[1]\n",
    "\n",
    "print('true_number of populations: ', n_pop)"
   ]
  },
  {
   "cell_type": "code",
   "execution_count": 5,
   "metadata": {
    "collapsed": false,
    "scrolled": true
   },
   "outputs": [
    {
     "data": {
      "text/plain": [
       "<matplotlib.image.AxesImage at 0x7f6947e040b8>"
      ]
     },
     "execution_count": 5,
     "metadata": {},
     "output_type": "execute_result"
    },
    {
     "data": {
      "image/png": "[encoded data removed]",
      "text/plain": [
       "<Figure size 1152x144 with 1 Axes>"
      ]
     },
     "metadata": {
      "needs_background": "light"
     },
     "output_type": "display_data"
    }
   ],
   "source": [
    "plt.matshow(true_ind_admix_propn.T)"
   ]
  },
  {
   "cell_type": "markdown",
   "metadata": {},
   "source": [
    "# Load initial fit"
   ]
  },
  {
   "cell_type": "code",
   "execution_count": 8,
   "metadata": {
    "collapsed": false,
    "scrolled": true
   },
   "outputs": [
    {
     "name": "stdout",
     "output_type": "stream",
     "text": [
      "getting lr object at alpha = 1\n",
      "getting lr object at alpha = 2\n",
      "getting lr object at alpha = 3\n",
      "getting lr object at alpha = 4\n",
      "getting lr object at alpha = 5\n",
      "getting lr object at alpha = 6\n",
      "getting lr object at alpha = 7\n",
      "getting lr object at alpha = 8\n",
      "getting lr object at alpha = 9\n"
     ]
    }
   ],
   "source": [
    "alpha_vec = np.arange(1, 10)\n",
    "for i in range(len(alpha_vec)): \n",
    "    init_alpha = alpha_vec[i]\n",
    "    # load optimal vb parameters at init_alpha\n",
    "    vb_opt_dict, vb_params_paragami, data =\\\n",
    "        paragami.load_folded('../fits/simulated_data_fit_alpha{}.npz'.format(init_alpha))\n",
    "\n",
    "    # free optimal vb_parameters\n",
    "    vb_opt_free_params = vb_params_paragami.flatten(vb_opt_dict, free = True)\n",
    "\n",
    "    # load prior parameters\n",
    "    prior_params_dict, prior_params_paragami = \\\n",
    "        structure_model_lib.get_default_prior_params()\n",
    "    prior_params_dict['dp_prior_alpha'] = data['alpha']\n",
    "\n",
    "    # other parameters\n",
    "    gh_deg = int(data['gh_deg'])\n",
    "    gh_loc, gh_weights = hermgauss(gh_deg)\n",
    "\n",
    "    # assert we are at an optimum \n",
    "    structure_model_lib.assert_optimizer(g_obs, vb_opt_dict, vb_params_paragami, \n",
    "                                         prior_params_dict, gh_loc, gh_weights)\n",
    "    \n",
    "    print('getting lr object at alpha = {}'.format(init_alpha))\n",
    "    \n",
    "    get_kl_from_vb_free_prior_free = paragami.FlattenFunctionInput(original_fun=structure_model_lib.get_kl, \n",
    "                                    patterns = [vb_params_paragami, prior_params_paragami],\n",
    "                                    free = True,\n",
    "                                    argnums = [1, 2])\n",
    "    \n",
    "    vb_sens = \\\n",
    "        vittles.HyperparameterSensitivityLinearApproximation(\n",
    "            objective_fun = lambda x, y: get_kl_from_vb_free_prior_free(g_obs, x, y, gh_loc, gh_weights),\n",
    "            opt_par_value = vb_opt_free_params, \n",
    "            hyper_par_value = prior_params_paragami.flatten(prior_params_dict, free=True),\n",
    "            validate_optimum=False,\n",
    "            hessian_at_opt=None,\n",
    "            cross_hess_at_opt=None,\n",
    "            factorize_hessian=True,\n",
    "            hyper_par_objective_fun=None,\n",
    "            grad_tol=1e-8)\n",
    "    \n",
    "    np.save('../fits/hessian_at_alpha{}'.format(init_alpha), vb_sens._hess0)"
   ]
  },
  {
   "cell_type": "code",
   "execution_count": null,
   "metadata": {
    "collapsed": true
   },
   "outputs": [],
   "source": []
  },
  {
   "cell_type": "code",
   "execution_count": null,
   "metadata": {
    "collapsed": true
   },
   "outputs": [],
   "source": []
  },
  {
   "cell_type": "code",
   "execution_count": null,
   "metadata": {
    "collapsed": true
   },
   "outputs": [],
   "source": []
  },
  {
   "cell_type": "code",
   "execution_count": null,
   "metadata": {
    "collapsed": true
   },
   "outputs": [],
   "source": []
  },
  {
   "cell_type": "code",
   "execution_count": null,
   "metadata": {
    "collapsed": true
   },
   "outputs": [],
   "source": []
  }
 ],
 "metadata": {
  "kernelspec": {
   "display_name": "Python (genomics_bnp)",
   "language": "python",
   "name": "genomic_time_series_py35"
  },
  "language_info": {
   "codemirror_mode": {
    "name": "ipython",
    "version": 3
   },
   "file_extension": ".py",
   "mimetype": "text/x-python",
   "name": "python",
   "nbconvert_exporter": "python",
   "pygments_lexer": "ipython3",
   "version": "3.5.0"
  }
 },
 "nbformat": 4,
 "nbformat_minor": 2
}
