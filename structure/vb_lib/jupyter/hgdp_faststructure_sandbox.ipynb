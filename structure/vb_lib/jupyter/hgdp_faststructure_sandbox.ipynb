{
 "cells": [
  {
   "cell_type": "code",
   "execution_count": 1,
   "metadata": {},
   "outputs": [
    {
     "name": "stderr",
     "output_type": "stream",
     "text": [
      "/accounts/grad/runjing_liu/.conda/envs/bnp_sensitivity_jax/lib/python3.8/site-packages/jax/lib/xla_bridge.py:130: UserWarning: No GPU/TPU found, falling back to CPU.\n",
      "  warnings.warn('No GPU/TPU found, falling back to CPU.')\n"
     ]
    }
   ],
   "source": [
    "import jax\n",
    "\n",
    "import jax.numpy as np\n",
    "import jax.scipy as sp\n",
    "\n",
    "from numpy.polynomial.hermite import hermgauss\n",
    "import scipy as osp\n",
    "\n",
    "from vb_lib import structure_model_lib, data_utils, cavi_lib, fast_structure_lib, plotting_utils\n",
    "\n",
    "import paragami\n",
    "\n",
    "from copy import deepcopy\n",
    "\n",
    "import time\n",
    "\n",
    "import matplotlib.pyplot as plt\n",
    "%matplotlib inline  \n",
    "\n",
    "from bnpmodeling_runjingdev import cluster_quantities_lib, modeling_lib\n"
   ]
  },
  {
   "cell_type": "code",
   "execution_count": 2,
   "metadata": {},
   "outputs": [],
   "source": [
    "import numpy as onp\n",
    "onp.random.seed(53453)"
   ]
  },
  {
   "cell_type": "markdown",
   "metadata": {},
   "source": [
    "# Load data"
   ]
  },
  {
   "cell_type": "code",
   "execution_count": 3,
   "metadata": {},
   "outputs": [
    {
     "data": {
      "text/plain": [
       "DeviceArray(True, dtype=bool)"
      ]
     },
     "execution_count": 3,
     "metadata": {},
     "output_type": "execute_result"
    }
   ],
   "source": [
    "data_file = '../../../../fastStructure/test/testdata.npz'\n",
    "data = np.load(data_file)\n",
    "g_obs = np.array(data['g_obs'])\n",
    "\n",
    "g_obs = np.array(data['g_obs'])\n",
    "g_obs_raw = np.array(data['g_obs_raw'])\n",
    "\n",
    "# just checking ... \n",
    "which_missing = (g_obs_raw == 3)\n",
    "(g_obs.argmax(-1) == g_obs_raw)[~which_missing].all()\n",
    "(g_obs[which_missing] == 0).all()"
   ]
  },
  {
   "cell_type": "code",
   "execution_count": 4,
   "metadata": {},
   "outputs": [],
   "source": [
    "n_obs = g_obs.shape[0]\n",
    "n_loci = g_obs.shape[1]"
   ]
  },
  {
   "cell_type": "markdown",
   "metadata": {},
   "source": [
    "# Load fastStructure fit"
   ]
  },
  {
   "cell_type": "code",
   "execution_count": 5,
   "metadata": {},
   "outputs": [],
   "source": [
    "filename = '../../../../fastStructure/fits/test/testoutput_simple.3'"
   ]
  },
  {
   "cell_type": "code",
   "execution_count": 6,
   "metadata": {},
   "outputs": [
    {
     "name": "stdout",
     "output_type": "stream",
     "text": [
      "OrderedDict:\n",
      "\t[pop_freq_beta_params] = NumericArrayPattern (500, 3, 2) (lb=0.0, ub=inf)\n",
      "\t[ind_admix_params] = OrderedDict:\n",
      "\t[stick_beta] = NumericArrayPattern (200, 2, 2) (lb=0.0, ub=inf)\n"
     ]
    }
   ],
   "source": [
    "vb_params_dict, vb_params_paragami = fast_structure_lib.load_fs_to_vb_params(filename)\n",
    "print(vb_params_paragami)"
   ]
  },
  {
   "cell_type": "code",
   "execution_count": 7,
   "metadata": {},
   "outputs": [],
   "source": [
    "e_ind_admix, e_pop_freq = plotting_utils.get_vb_expectations(vb_params_dict)"
   ]
  },
  {
   "cell_type": "markdown",
   "metadata": {},
   "source": [
    "### Check against fast-structure saved means"
   ]
  },
  {
   "cell_type": "code",
   "execution_count": 19,
   "metadata": {},
   "outputs": [],
   "source": [
    "e_ind_admix_fs, _, e_pop_freq_fs, _ = \\\n",
    "    fast_structure_lib.load_fs_means_vars(filename)"
   ]
  },
  {
   "cell_type": "code",
   "execution_count": 20,
   "metadata": {},
   "outputs": [
    {
     "data": {
      "text/plain": [
       "DeviceArray(5.01246185e-07, dtype=float64)"
      ]
     },
     "execution_count": 20,
     "metadata": {},
     "output_type": "execute_result"
    }
   ],
   "source": [
    "np.abs(e_pop_freq - e_pop_freq_fs).max()"
   ]
  },
  {
   "cell_type": "code",
   "execution_count": 21,
   "metadata": {},
   "outputs": [
    {
     "data": {
      "text/plain": [
       "DeviceArray(4.99500499e-07, dtype=float64)"
      ]
     },
     "execution_count": 21,
     "metadata": {},
     "output_type": "execute_result"
    }
   ],
   "source": [
    "np.abs(e_ind_admix - e_ind_admix_fs).max()"
   ]
  },
  {
   "cell_type": "code",
   "execution_count": 11,
   "metadata": {},
   "outputs": [
    {
     "data": {
      "image/png": "[encoded data removed]",
      "text/plain": [
       "<Figure size 360x216 with 1 Axes>"
      ]
     },
     "metadata": {
      "needs_background": "light"
     },
     "output_type": "display_data"
    }
   ],
   "source": [
    "plotting_utils.plot_admixture(e_ind_admix, 'fs fit')"
   ]
  },
  {
   "cell_type": "markdown",
   "metadata": {},
   "source": [
    "# Check against my fit"
   ]
  },
  {
   "cell_type": "code",
   "execution_count": 12,
   "metadata": {},
   "outputs": [],
   "source": [
    "prior_params_dict, prior_params_paragami = structure_model_lib.get_default_prior_params()"
   ]
  },
  {
   "cell_type": "code",
   "execution_count": 13,
   "metadata": {},
   "outputs": [],
   "source": [
    "prior_params_dict['dp_prior_alpha'] = 1.0"
   ]
  },
  {
   "cell_type": "code",
   "execution_count": 14,
   "metadata": {},
   "outputs": [
    {
     "name": "stdout",
     "output_type": "stream",
     "text": [
      "Compiling cavi functions ...\n",
      "CAVI compile time: 3.41sec\n",
      "\n",
      " running CAVI ...\n",
      "iteration [20]; kl:98210.808711; elapsed: 1.1099secs\n",
      "iteration [40]; kl:98145.083006; elapsed: 1.1407secs\n",
      "iteration [60]; kl:98110.784927; elapsed: 1.0618secs\n",
      "iteration [80]; kl:98089.034898; elapsed: 1.0623secs\n",
      "iteration [100]; kl:98074.175786; elapsed: 1.0732secs\n",
      "iteration [120]; kl:98063.689724; elapsed: 1.0685secs\n",
      "iteration [140]; kl:98056.171272; elapsed: 1.0748secs\n",
      "iteration [160]; kl:98050.726898; elapsed: 1.0662secs\n",
      "iteration [180]; kl:98046.749958; elapsed: 1.072secs\n",
      "iteration [200]; kl:98043.817031; elapsed: 1.0631secs\n",
      "iteration [220]; kl:98041.62982; elapsed: 1.0653secs\n",
      "iteration [240]; kl:98039.977647; elapsed: 1.0703secs\n",
      "iteration [260]; kl:98038.71158; elapsed: 1.0644secs\n",
      "iteration [280]; kl:98037.726253; elapsed: 1.0662secs\n",
      "iteration [300]; kl:98036.947072; elapsed: 1.0715secs\n",
      "iteration [320]; kl:98036.321212; elapsed: 1.0716secs\n",
      "iteration [340]; kl:98035.811245; elapsed: 1.0669secs\n",
      "iteration [360]; kl:98035.390593; elapsed: 1.0752secs\n",
      "iteration [380]; kl:98035.040261; elapsed: 1.072secs\n",
      "iteration [400]; kl:98034.746473; elapsed: 1.0687secs\n",
      "iteration [420]; kl:98034.498988; elapsed: 1.0685secs\n",
      "iteration [440]; kl:98034.289934; elapsed: 1.0634secs\n",
      "iteration [460]; kl:98034.113038; elapsed: 1.0617secs\n",
      "iteration [480]; kl:98033.963144; elapsed: 1.0657secs\n",
      "iteration [500]; kl:98033.835938; elapsed: 1.0671secs\n",
      "iteration [520]; kl:98033.727773; elapsed: 1.0653secs\n",
      "iteration [540]; kl:98033.635572; elapsed: 1.065secs\n",
      "iteration [560]; kl:98033.556747; elapsed: 1.067secs\n",
      "iteration [580]; kl:98033.489133; elapsed: 1.071secs\n",
      "iteration [600]; kl:98033.430932; elapsed: 1.0762secs\n",
      "iteration [620]; kl:98033.380649; elapsed: 1.0655secs\n",
      "iteration [640]; kl:98033.337046; elapsed: 1.0644secs\n",
      "iteration [660]; kl:98033.299097; elapsed: 1.0675secs\n",
      "iteration [680]; kl:98033.265947; elapsed: 1.0587secs\n",
      "iteration [700]; kl:98033.236886; elapsed: 1.0616secs\n",
      "iteration [720]; kl:98033.211322; elapsed: 1.0677secs\n",
      "iteration [740]; kl:98033.188759; elapsed: 1.063secs\n",
      "iteration [760]; kl:98033.16878; elapsed: 1.0697secs\n",
      "iteration [780]; kl:98033.151036; elapsed: 1.0705secs\n",
      "iteration [800]; kl:98033.135232; elapsed: 1.0662secs\n",
      "iteration [820]; kl:98033.12112; elapsed: 1.0738secs\n",
      "iteration [840]; kl:98033.108486; elapsed: 1.0653secs\n",
      "iteration [860]; kl:98033.097151; elapsed: 1.0751secs\n",
      "iteration [880]; kl:98033.086958; elapsed: 1.0706secs\n",
      "iteration [900]; kl:98033.077775; elapsed: 1.0735secs\n",
      "iteration [920]; kl:98033.069487; elapsed: 1.0635secs\n",
      "iteration [940]; kl:98033.061993; elapsed: 1.0693secs\n",
      "iteration [960]; kl:98033.055208; elapsed: 1.0647secs\n",
      "iteration [980]; kl:98033.049054; elapsed: 1.0627secs\n",
      "Done. Warning, max iterations reached. \n",
      "Elapsed: 999 steps in 53.38 seconds\n"
     ]
    }
   ],
   "source": [
    "vb_opt_dict, vb_opt, _, _  = \\\n",
    "    cavi_lib.run_cavi(g_obs, vb_params_dict,\n",
    "                vb_params_paragami,\n",
    "                prior_params_dict, \n",
    "                print_every = 20)"
   ]
  },
  {
   "cell_type": "code",
   "execution_count": 15,
   "metadata": {},
   "outputs": [],
   "source": [
    "e_ind_admix_bnp, e_pop_freq_bnp = plotting_utils.get_vb_expectations(vb_params_dict)"
   ]
  },
  {
   "cell_type": "code",
   "execution_count": 25,
   "metadata": {},
   "outputs": [
    {
     "data": {
      "image/png": "[encoded data removed]",
      "text/plain": [
       "<Figure size 360x216 with 1 Axes>"
      ]
     },
     "metadata": {
      "needs_background": "light"
     },
     "output_type": "display_data"
    }
   ],
   "source": [
    "plotting_utils.plot_admixture(e_ind_admix_bnp[0::5], 'fs bnp fit')"
   ]
  },
  {
   "cell_type": "code",
   "execution_count": 26,
   "metadata": {},
   "outputs": [
    {
     "data": {
      "image/png": "[encoded data removed]",
      "text/plain": [
       "<Figure size 360x216 with 1 Axes>"
      ]
     },
     "metadata": {
      "needs_background": "light"
     },
     "output_type": "display_data"
    }
   ],
   "source": [
    "plotting_utils.plot_admixture(e_ind_admix_fs[0::5], 'fs fit')"
   ]
  },
  {
   "cell_type": "code",
   "execution_count": null,
   "metadata": {},
   "outputs": [],
   "source": []
  }
 ],
 "metadata": {
  "kernelspec": {
   "display_name": "bnp_sensitivity_jax",
   "language": "python",
   "name": "bnp_sensitivity_jax"
  },
  "language_info": {
   "codemirror_mode": {
    "name": "ipython",
    "version": 3
   },
   "file_extension": ".py",
   "mimetype": "text/x-python",
   "name": "python",
   "nbconvert_exporter": "python",
   "pygments_lexer": "ipython3",
   "version": "3.8.0"
  }
 },
 "nbformat": 4,
 "nbformat_minor": 4
}
