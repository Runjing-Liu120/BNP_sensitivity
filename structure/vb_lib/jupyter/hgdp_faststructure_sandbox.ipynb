{
 "cells": [
  {
   "cell_type": "code",
   "execution_count": 3,
   "metadata": {},
   "outputs": [],
   "source": [
    "import jax\n",
    "\n",
    "import jax.numpy as np\n",
    "import jax.scipy as sp\n",
    "\n",
    "from numpy.polynomial.hermite import hermgauss\n",
    "import scipy as osp\n",
    "\n",
    "from vb_lib import structure_model_lib, structure_optimization_lib, \\\n",
    "                    data_utils, cavi_lib, \\\n",
    "                    fast_structure_lib, plotting_utils\n",
    "\n",
    "import paragami\n",
    "\n",
    "from copy import deepcopy\n",
    "\n",
    "import time\n",
    "\n",
    "import matplotlib.pyplot as plt\n",
    "%matplotlib inline  \n",
    "\n",
    "from bnpmodeling_runjingdev import cluster_quantities_lib, modeling_lib\n"
   ]
  },
  {
   "cell_type": "code",
   "execution_count": 4,
   "metadata": {},
   "outputs": [],
   "source": [
    "import numpy as onp\n",
    "onp.random.seed(53453)"
   ]
  },
  {
   "cell_type": "markdown",
   "metadata": {},
   "source": [
    "# Load data"
   ]
  },
  {
   "cell_type": "code",
   "execution_count": 5,
   "metadata": {},
   "outputs": [
    {
     "data": {
      "text/plain": [
       "DeviceArray(True, dtype=bool)"
      ]
     },
     "execution_count": 5,
     "metadata": {},
     "output_type": "execute_result"
    }
   ],
   "source": [
    "# data_file = '../../../../fastStructure/test/testdata.npz'\n",
    "data_file = '../../../../fastStructure/hgdp_data/huang2011_plink_files/' + \\\n",
    "            'phased_HGDP+India+Africa_2810SNPs-regions1to36.npz'\n",
    "\n",
    "data = np.load(data_file)\n",
    "g_obs = np.array(data['g_obs'])\n",
    "\n",
    "g_obs = np.array(data['g_obs'])\n",
    "g_obs_raw = np.array(data['g_obs_raw'])\n",
    "\n",
    "# just checking ... \n",
    "which_missing = (g_obs_raw == 3)\n",
    "(g_obs.argmax(-1) == g_obs_raw)[~which_missing].all()\n",
    "(g_obs[which_missing] == 0).all()"
   ]
  },
  {
   "cell_type": "code",
   "execution_count": 6,
   "metadata": {},
   "outputs": [],
   "source": [
    "n_obs = g_obs.shape[0]\n",
    "n_loci = g_obs.shape[1]"
   ]
  },
  {
   "cell_type": "markdown",
   "metadata": {},
   "source": [
    "# Load fastStructure fit"
   ]
  },
  {
   "cell_type": "code",
   "execution_count": 7,
   "metadata": {},
   "outputs": [],
   "source": [
    "filename = '../../../../fastStructure/fits/huang2011/phased_regions1to26.15'"
   ]
  },
  {
   "cell_type": "code",
   "execution_count": 8,
   "metadata": {},
   "outputs": [
    {
     "name": "stdout",
     "output_type": "stream",
     "text": [
      "OrderedDict:\n",
      "\t[pop_freq_beta_params] = NumericArrayPattern (2810, 15, 2) (lb=0.0, ub=inf)\n",
      "\t[ind_admix_params] = OrderedDict:\n",
      "\t[stick_beta] = NumericArrayPattern (1107, 14, 2) (lb=0.0, ub=inf)\n"
     ]
    }
   ],
   "source": [
    "vb_params_dict, vb_params_paragami = fast_structure_lib.load_fs_to_vb_params(filename)\n",
    "print(vb_params_paragami)"
   ]
  },
  {
   "cell_type": "code",
   "execution_count": 9,
   "metadata": {},
   "outputs": [],
   "source": [
    "e_ind_admix, e_pop_freq = plotting_utils.get_vb_expectations(vb_params_dict)"
   ]
  },
  {
   "cell_type": "markdown",
   "metadata": {},
   "source": [
    "### Check against fast-structure saved means"
   ]
  },
  {
   "cell_type": "code",
   "execution_count": 10,
   "metadata": {},
   "outputs": [],
   "source": [
    "fs_e_ind_admix, _, fs_e_pop_freq, _ = \\\n",
    "    fast_structure_lib.load_fs_means_vars(filename)"
   ]
  },
  {
   "cell_type": "code",
   "execution_count": 11,
   "metadata": {},
   "outputs": [
    {
     "data": {
      "text/plain": [
       "DeviceArray(5.16170648e-07, dtype=float64)"
      ]
     },
     "execution_count": 11,
     "metadata": {},
     "output_type": "execute_result"
    }
   ],
   "source": [
    "np.abs(e_pop_freq - fs_e_pop_freq).max()"
   ]
  },
  {
   "cell_type": "code",
   "execution_count": 12,
   "metadata": {},
   "outputs": [
    {
     "data": {
      "text/plain": [
       "DeviceArray(4.99777254e-07, dtype=float64)"
      ]
     },
     "execution_count": 12,
     "metadata": {},
     "output_type": "execute_result"
    }
   ],
   "source": [
    "np.abs(e_ind_admix - fs_e_ind_admix).max()"
   ]
  },
  {
   "cell_type": "code",
   "execution_count": 13,
   "metadata": {},
   "outputs": [
    {
     "data": {
      "image/png": "[encoded data removed]",
      "text/plain": [
       "<Figure size 360x216 with 1 Axes>"
      ]
     },
     "metadata": {
      "needs_background": "light"
     },
     "output_type": "display_data"
    }
   ],
   "source": [
    "plotting_utils.plot_admixture(e_ind_admix, 'fs fit')"
   ]
  },
  {
   "cell_type": "code",
   "execution_count": null,
   "metadata": {},
   "outputs": [],
   "source": []
  },
  {
   "cell_type": "markdown",
   "metadata": {},
   "source": [
    "# Check against my fit"
   ]
  },
  {
   "cell_type": "code",
   "execution_count": 14,
   "metadata": {},
   "outputs": [],
   "source": [
    "prior_params_dict, prior_params_paragami = structure_model_lib.get_default_prior_params()"
   ]
  },
  {
   "cell_type": "code",
   "execution_count": 15,
   "metadata": {},
   "outputs": [
    {
     "name": "stdout",
     "output_type": "stream",
     "text": [
      "Compiling cavi functions ...\n",
      "CAVI compile time: 3.43sec\n",
      "\n",
      " running CAVI ...\n",
      "iteration [20]; kl:98886.346642; elapsed: 1.1978secs\n",
      "iteration [40]; kl:98725.432302; elapsed: 1.2536secs\n",
      "iteration [60]; kl:98646.790622; elapsed: 1.1737secs\n",
      "iteration [80]; kl:98601.5986; elapsed: 1.167secs\n",
      "iteration [100]; kl:98574.037794; elapsed: 1.163secs\n",
      "iteration [120]; kl:98556.722378; elapsed: 1.1639secs\n",
      "iteration [140]; kl:98545.630701; elapsed: 1.1669secs\n",
      "iteration [160]; kl:98538.400796; elapsed: 1.1642secs\n",
      "iteration [180]; kl:98533.59304; elapsed: 1.1663secs\n",
      "iteration [200]; kl:98530.318735; elapsed: 1.1654secs\n",
      "iteration [220]; kl:98528.02825; elapsed: 1.1642secs\n",
      "iteration [240]; kl:98526.38108; elapsed: 1.1697secs\n",
      "iteration [260]; kl:98525.164838; elapsed: 1.1614secs\n",
      "iteration [280]; kl:98524.245265; elapsed: 1.1605secs\n",
      "iteration [300]; kl:98523.535817; elapsed: 1.162secs\n",
      "iteration [320]; kl:98522.979331; elapsed: 1.1671secs\n",
      "iteration [340]; kl:98522.537008; elapsed: 1.168secs\n",
      "iteration [360]; kl:98522.181748; elapsed: 1.1667secs\n",
      "iteration [380]; kl:98521.894096; elapsed: 1.162secs\n",
      "iteration [400]; kl:98521.659718; elapsed: 1.1669secs\n",
      "iteration [420]; kl:98521.467814; elapsed: 1.1637secs\n",
      "iteration [440]; kl:98521.310091; elapsed: 1.1625secs\n",
      "iteration [460]; kl:98521.180072; elapsed: 1.1596secs\n",
      "CAVI done.\n",
      "Elapsed: 463 steps in 27.09 seconds\n"
     ]
    }
   ],
   "source": [
    "vb_opt_dict, vb_opt, _, _  = \\\n",
    "    cavi_lib.run_cavi(g_obs, vb_params_dict,\n",
    "                vb_params_paragami,\n",
    "                prior_params_dict, \n",
    "                print_every = 20)"
   ]
  },
  {
   "cell_type": "code",
   "execution_count": 18,
   "metadata": {},
   "outputs": [],
   "source": [
    "e_ind_admix_bnp, e_pop_freq_bnp = plotting_utils.get_vb_expectations(vb_params_dict)"
   ]
  },
  {
   "cell_type": "code",
   "execution_count": 20,
   "metadata": {},
   "outputs": [
    {
     "data": {
      "image/png": "[encoded data removed]",
      "text/plain": [
       "<Figure size 360x216 with 1 Axes>"
      ]
     },
     "metadata": {
      "needs_background": "light"
     },
     "output_type": "display_data"
    }
   ],
   "source": [
    "plotting_utils.plot_admixture(e_ind_admix_bnp, 'fs bnp_fit')"
   ]
  },
  {
   "cell_type": "code",
   "execution_count": null,
   "metadata": {},
   "outputs": [],
   "source": []
  }
 ],
 "metadata": {
  "kernelspec": {
   "display_name": "bnp_sensitivity_jax",
   "language": "python",
   "name": "bnp_sensitivity_jax"
  },
  "language_info": {
   "codemirror_mode": {
    "name": "ipython",
    "version": 3
   },
   "file_extension": ".py",
   "mimetype": "text/x-python",
   "name": "python",
   "nbconvert_exporter": "python",
   "pygments_lexer": "ipython3",
   "version": "3.8.0"
  }
 },
 "nbformat": 4,
 "nbformat_minor": 4
}
