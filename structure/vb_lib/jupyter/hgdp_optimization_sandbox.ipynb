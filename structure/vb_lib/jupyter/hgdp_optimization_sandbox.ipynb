{
 "cells": [
  {
   "cell_type": "markdown",
   "metadata": {},
   "source": [
    "Here, we examine parametric sensitivity of the structure model on a small simulated dataset"
   ]
  },
  {
   "cell_type": "code",
   "execution_count": 1,
   "metadata": {},
   "outputs": [
    {
     "name": "stderr",
     "output_type": "stream",
     "text": [
      "/accounts/grad/runjing_liu/.conda/envs/bnp_sensitivity_jax/lib/python3.8/site-packages/jax/lib/xla_bridge.py:130: UserWarning: No GPU/TPU found, falling back to CPU.\n",
      "  warnings.warn('No GPU/TPU found, falling back to CPU.')\n"
     ]
    }
   ],
   "source": [
    "import jax\n",
    "\n",
    "import jax.numpy as np\n",
    "import jax.scipy as sp\n",
    "\n",
    "from numpy.polynomial.hermite import hermgauss\n",
    "import scipy as osp\n",
    "\n",
    "from vb_lib import structure_model_lib, data_utils, cavi_lib\n",
    "from vb_lib.preconditioner_lib import get_mfvb_cov_matmul\n",
    "from bnpmodeling_runjingdev.sensitivity_lib import HyperparameterSensitivityLinearApproximation, get_jac_hvp_fun\n",
    "\n",
    "import paragami\n",
    "\n",
    "from copy import deepcopy\n",
    "\n",
    "import time\n",
    "\n",
    "import matplotlib.pyplot as plt\n",
    "%matplotlib inline  \n",
    "\n",
    "from bnpmodeling_runjingdev import cluster_quantities_lib, modeling_lib\n"
   ]
  },
  {
   "cell_type": "code",
   "execution_count": 2,
   "metadata": {},
   "outputs": [],
   "source": [
    "import numpy as onp\n",
    "onp.random.seed(53453)"
   ]
  },
  {
   "cell_type": "markdown",
   "metadata": {},
   "source": [
    "# Load data"
   ]
  },
  {
   "cell_type": "code",
   "execution_count": 3,
   "metadata": {},
   "outputs": [],
   "source": [
    "# data = np.load('../simulated_data/simulated_structure_data_nobs20_nloci50_npop4.npz')\n",
    "# g_obs = np.array(data['g_obs'])"
   ]
  },
  {
   "cell_type": "code",
   "execution_count": 4,
   "metadata": {},
   "outputs": [
    {
     "data": {
      "text/plain": [
       "DeviceArray(True, dtype=bool)"
      ]
     },
     "execution_count": 4,
     "metadata": {},
     "output_type": "execute_result"
    }
   ],
   "source": [
    "data_dir = '../../../../fastStructure/hgdp_data/huang2011_plink_files/'\n",
    "filenamebase = 'phased_HGDP+India+Africa_2810SNPs-regions1to36'\n",
    "filename = data_dir + filenamebase + '.npz'\n",
    "data = np.load(filename)\n",
    "\n",
    "g_obs = np.array(data['g_obs'])\n",
    "g_obs_raw = np.array(data['g_obs_raw'])\n",
    "\n",
    "# just checking ... \n",
    "which_missing = (g_obs_raw == 3)\n",
    "(g_obs.argmax(-1) == g_obs_raw)[~which_missing].all()\n",
    "(g_obs[which_missing] == 0).all()"
   ]
  },
  {
   "cell_type": "code",
   "execution_count": 5,
   "metadata": {},
   "outputs": [],
   "source": [
    "n_obs = g_obs.shape[0]\n",
    "n_loci = g_obs.shape[1]"
   ]
  },
  {
   "cell_type": "markdown",
   "metadata": {},
   "source": [
    "# Get prior"
   ]
  },
  {
   "cell_type": "code",
   "execution_count": 6,
   "metadata": {},
   "outputs": [
    {
     "name": "stdout",
     "output_type": "stream",
     "text": [
      "OrderedDict:\n",
      "\t[dp_prior_alpha] = NumericArrayPattern (1,) (lb=0.0, ub=inf)\n",
      "\t[allele_prior_alpha] = NumericArrayPattern (1,) (lb=0.0, ub=inf)\n",
      "\t[allele_prior_beta] = NumericArrayPattern (1,) (lb=0.0, ub=inf)\n"
     ]
    }
   ],
   "source": [
    "prior_params_dict, prior_params_paragami = \\\n",
    "    structure_model_lib.get_default_prior_params()\n",
    "\n",
    "print(prior_params_paragami)\n",
    "\n",
    "prior_params_free = prior_params_paragami.flatten(prior_params_dict, free = True)"
   ]
  },
  {
   "cell_type": "markdown",
   "metadata": {},
   "source": [
    "# Get VB params "
   ]
  },
  {
   "cell_type": "code",
   "execution_count": 7,
   "metadata": {},
   "outputs": [],
   "source": [
    "k_approx = 15"
   ]
  },
  {
   "cell_type": "code",
   "execution_count": 8,
   "metadata": {},
   "outputs": [],
   "source": [
    "gh_deg = 8\n",
    "gh_loc, gh_weights = hermgauss(8)"
   ]
  },
  {
   "cell_type": "code",
   "execution_count": 33,
   "metadata": {
    "scrolled": true
   },
   "outputs": [
    {
     "name": "stdout",
     "output_type": "stream",
     "text": [
      "OrderedDict:\n",
      "\t[pop_freq_beta_params] = NumericArrayPattern (2810, 15, 2) (lb=0.0, ub=inf)\n",
      "\t[ind_mix_stick_propn_mean] = NumericArrayPattern (1107, 14) (lb=-inf, ub=inf)\n",
      "\t[ind_mix_stick_propn_info] = NumericArrayPattern (1107, 14) (lb=0.0001, ub=inf)\n"
     ]
    }
   ],
   "source": [
    "use_logitnormal_sticks = True\n",
    "\n",
    "vb_params_dict, vb_params_paragami = \\\n",
    "    structure_model_lib.get_vb_params_paragami_object(n_obs, n_loci, k_approx,\n",
    "                                    use_logitnormal_sticks = use_logitnormal_sticks)\n",
    "    \n",
    "print(vb_params_paragami)"
   ]
  },
  {
   "cell_type": "code",
   "execution_count": 46,
   "metadata": {},
   "outputs": [],
   "source": [
    "vb_params_dict = vb_params_paragami.random(key=jax.random.PRNGKey(41))"
   ]
  },
  {
   "cell_type": "code",
   "execution_count": 47,
   "metadata": {},
   "outputs": [
    {
     "data": {
      "text/plain": [
       "DeviceArray(5866337.80064644, dtype=float64)"
      ]
     },
     "execution_count": 47,
     "metadata": {},
     "output_type": "execute_result"
    }
   ],
   "source": [
    "structure_model_lib.get_kl(g_obs, vb_params_dict, prior_params_dict,\n",
    "                                    gh_loc, gh_weights)"
   ]
  },
  {
   "cell_type": "code",
   "execution_count": null,
   "metadata": {},
   "outputs": [],
   "source": []
  },
  {
   "cell_type": "markdown",
   "metadata": {},
   "source": [
    "## Initialize "
   ]
  },
  {
   "cell_type": "code",
   "execution_count": 48,
   "metadata": {},
   "outputs": [],
   "source": [
    "vb_params_dict = \\\n",
    "        structure_model_lib.set_init_vb_params(g_obs, k_approx, vb_params_dict,\n",
    "                                                seed = 34221)"
   ]
  },
  {
   "cell_type": "code",
   "execution_count": 50,
   "metadata": {},
   "outputs": [],
   "source": [
    "vb_params_dict['ind_mix_stick_propn_info'] = vb_params_dict['ind_mix_stick_propn_info'] * 2"
   ]
  },
  {
   "cell_type": "code",
   "execution_count": 51,
   "metadata": {},
   "outputs": [
    {
     "data": {
      "text/plain": [
       "DeviceArray(30594962.37881607, dtype=float64)"
      ]
     },
     "execution_count": 51,
     "metadata": {},
     "output_type": "execute_result"
    }
   ],
   "source": [
    "structure_model_lib.get_kl(g_obs, vb_params_dict, prior_params_dict,\n",
    "                                    gh_loc, gh_weights)"
   ]
  },
  {
   "cell_type": "code",
   "execution_count": 39,
   "metadata": {},
   "outputs": [],
   "source": [
    "# get initial moments from vb_params\n",
    "e_log_sticks, e_log_1m_sticks, \\\n",
    "    e_log_pop_freq, e_log_1m_pop_freq = \\\n",
    "        structure_model_lib.get_moments_from_vb_params_dict(\n",
    "            vb_params_dict, gh_loc, gh_weights)"
   ]
  },
  {
   "cell_type": "code",
   "execution_count": 40,
   "metadata": {},
   "outputs": [],
   "source": [
    "vb_params_dict['pop_freq_beta_params'] = \\\n",
    "    cavi_lib.update_pop_beta(g_obs,\n",
    "                    e_log_pop_freq, e_log_1m_pop_freq,\n",
    "                    e_log_sticks, e_log_1m_sticks,\n",
    "                    prior_params_dict['dp_prior_alpha'],\n",
    "                    prior_params_dict['allele_prior_alpha'],\n",
    "                    prior_params_dict['allele_prior_beta'])[2]"
   ]
  },
  {
   "cell_type": "code",
   "execution_count": 41,
   "metadata": {},
   "outputs": [
    {
     "data": {
      "text/plain": [
       "DeviceArray(8772160.85035737, dtype=float64)"
      ]
     },
     "execution_count": 41,
     "metadata": {},
     "output_type": "execute_result"
    }
   ],
   "source": [
    "structure_model_lib.get_kl(g_obs, vb_params_dict, prior_params_dict,\n",
    "                                    gh_loc, gh_weights)"
   ]
  },
  {
   "cell_type": "code",
   "execution_count": null,
   "metadata": {},
   "outputs": [],
   "source": []
  },
  {
   "cell_type": "code",
   "execution_count": null,
   "metadata": {},
   "outputs": [],
   "source": []
  },
  {
   "cell_type": "code",
   "execution_count": null,
   "metadata": {},
   "outputs": [],
   "source": []
  },
  {
   "cell_type": "markdown",
   "metadata": {},
   "source": [
    "# Optimize"
   ]
  },
  {
   "cell_type": "code",
   "execution_count": 80,
   "metadata": {},
   "outputs": [],
   "source": [
    "from vb_lib.structure_optimization_lib import define_structure_objective\n",
    "from bnpmodeling_runjingdev.optimization_lib import run_lbfgs"
   ]
  },
  {
   "cell_type": "code",
   "execution_count": null,
   "metadata": {},
   "outputs": [],
   "source": []
  },
  {
   "cell_type": "code",
   "execution_count": null,
   "metadata": {},
   "outputs": [],
   "source": []
  },
  {
   "cell_type": "code",
   "execution_count": 84,
   "metadata": {},
   "outputs": [],
   "source": [
    "from scipy import optimize"
   ]
  },
  {
   "cell_type": "code",
   "execution_count": null,
   "metadata": {},
   "outputs": [],
   "source": []
  },
  {
   "cell_type": "code",
   "execution_count": 74,
   "metadata": {},
   "outputs": [],
   "source": [
    "params = sub_vb_params_paragami.flatten(sub_vb_params_dict, free = True)"
   ]
  },
  {
   "cell_type": "code",
   "execution_count": 77,
   "metadata": {},
   "outputs": [
    {
     "data": {
      "text/plain": [
       "array(534238.29629317)"
      ]
     },
     "execution_count": 77,
     "metadata": {},
     "output_type": "execute_result"
    }
   ],
   "source": [
    "get_kl_np(g_obs_subsampled, params)"
   ]
  },
  {
   "cell_type": "code",
   "execution_count": null,
   "metadata": {},
   "outputs": [],
   "source": []
  },
  {
   "cell_type": "code",
   "execution_count": null,
   "metadata": {},
   "outputs": [],
   "source": []
  },
  {
   "cell_type": "code",
   "execution_count": null,
   "metadata": {},
   "outputs": [],
   "source": []
  },
  {
   "cell_type": "code",
   "execution_count": 21,
   "metadata": {},
   "outputs": [
    {
     "name": "stdout",
     "output_type": "stream",
     "text": [
      "Compiling objective ...\n",
      "Iter 0: f = 5841761.27007069\n",
      "Compiling grad ...\n",
      "Compiling hvp ...\n",
      "Compile time: 78.052secs\n"
     ]
    }
   ],
   "source": [
    "optim_objective, init_vb_free = \\\n",
    "    define_structure_objective(g_obs, vb_params_dict,\n",
    "                        vb_params_paragami,\n",
    "                        prior_params_dict,\n",
    "                        gh_loc = gh_loc,\n",
    "                        gh_weights = gh_weights, \n",
    "                        compile_hvp=True)"
   ]
  },
  {
   "cell_type": "code",
   "execution_count": 34,
   "metadata": {},
   "outputs": [
    {
     "data": {
      "text/plain": [
       "27.336929321289062"
      ]
     },
     "execution_count": 34,
     "metadata": {},
     "output_type": "execute_result"
    }
   ],
   "source": [
    "t0 = time.time()\n",
    "_ = optim_objective.hessian_vector_product(init_vb_free, init_vb_free).block_until_ready()\n",
    "time.time() - t0"
   ]
  },
  {
   "cell_type": "code",
   "execution_count": null,
   "metadata": {},
   "outputs": [],
   "source": []
  },
  {
   "cell_type": "code",
   "execution_count": 13,
   "metadata": {},
   "outputs": [
    {
     "name": "stdout",
     "output_type": "stream",
     "text": [
      "Iter 0: f = 5841761.27007069\n",
      "9.313225746154785e-10\n"
     ]
    }
   ],
   "source": [
    "kl1 = optim_objective.f_np(init_vb_free)\n",
    "kl2 = structure_model_lib.get_kl(g_obs, vb_params_dict, prior_params_dict,\n",
    "                                    gh_loc, gh_weights)\n",
    "\n",
    "print(kl1 - kl2)\n",
    "\n",
    "optim_objective.reset()"
   ]
  },
  {
   "cell_type": "code",
   "execution_count": 14,
   "metadata": {},
   "outputs": [
    {
     "name": "stdout",
     "output_type": "stream",
     "text": [
      "\n",
      "Running L-BFGS-B ... \n",
      "Iter 0: f = 5841761.27007069\n",
      "Iter 1: f = 5796107.78372170\n",
      "Iter 2: f = 5619834.29162614\n",
      "Iter 3: f = 5023949.80218303\n",
      "Iter 4: f = 3896302.37849859\n",
      "Iter 5: f = 3651757.32707991\n",
      "Iter 6: f = 3399301.58622861\n",
      "Iter 7: f = 3270805.62961326\n",
      "Iter 8: f = 3209808.54410049\n",
      "Iter 9: f = 3160924.92712628\n",
      "Iter 10: f = 3134901.41007459\n",
      "Iter 11: f = 3110473.11365059\n",
      "Iter 12: f = 3096498.20527866\n",
      "Iter 13: f = 3087583.01671213\n",
      "Iter 14: f = 3075292.14434937\n",
      "Iter 15: f = 3067292.52546304\n",
      "Iter 16: f = 3058673.63748094\n",
      "Iter 17: f = 3052149.68444698\n",
      "Iter 18: f = 3043506.80625176\n",
      "Iter 19: f = 3037895.90628880\n",
      "Iter 20: f = 3032464.63095157\n",
      "Iter 21: f = 3028222.76437575\n",
      "Iter 22: f = 3024704.57737861\n",
      "Iter 23: f = 3021182.01036253\n",
      "Iter 24: f = 3019238.16608886\n",
      "Iter 25: f = 3016539.89794494\n",
      "Iter 26: f = 3014768.26037245\n",
      "Iter 27: f = 3012826.41680009\n",
      "Iter 28: f = 3011375.18561922\n",
      "Iter 29: f = 3009783.97638679\n",
      "Iter 30: f = 3008476.71657809\n",
      "Iter 31: f = 3006524.66913905\n",
      "Iter 32: f = 3005481.35251492\n",
      "Iter 33: f = 3004346.59263496\n",
      "Iter 34: f = 3002576.83476734\n",
      "Iter 35: f = 3001887.77870954\n",
      "Iter 36: f = 3000366.90110944\n",
      "Iter 37: f = 2999545.96197489\n",
      "Iter 38: f = 2998532.34378206\n",
      "Iter 39: f = 2997403.68237327\n",
      "Iter 40: f = 2996201.58546740\n",
      "Iter 41: f = 2995379.41949678\n",
      "Iter 42: f = 2994625.29952233\n",
      "Iter 43: f = 2994045.16994828\n",
      "Iter 44: f = 2993268.77473351\n",
      "Iter 45: f = 2992694.31824857\n",
      "Iter 46: f = 2992098.34619285\n",
      "Iter 47: f = 2991390.77969125\n",
      "Iter 48: f = 2990534.77516411\n",
      "Iter 49: f = 2989967.21727940\n",
      "Iter 50: f = 2989020.00236454\n",
      "Iter 51: f = 2988219.11774010\n",
      "Iter 52: f = 2986999.09552664\n",
      "Iter 53: f = 2986050.53115668\n",
      "Iter 54: f = 2985333.36835263\n",
      "Iter 55: f = 2984425.08051821\n",
      "Iter 56: f = 2983483.53063514\n",
      "Iter 57: f = 2982693.61467351\n",
      "Iter 58: f = 2982028.76044155\n",
      "Iter 59: f = 2981264.71021123\n",
      "Iter 60: f = 2980625.23870127\n",
      "Iter 61: f = 2979976.02330924\n",
      "Iter 62: f = 2979306.70382485\n",
      "Iter 63: f = 2978305.33149002\n",
      "Iter 64: f = 2977511.59513296\n",
      "Iter 65: f = 2976701.60175863\n",
      "Iter 66: f = 2975135.28235883\n",
      "Iter 67: f = 2973726.86617190\n",
      "Iter 68: f = 2971689.40589300\n",
      "Iter 69: f = 2973821.94157020\n",
      "Iter 70: f = 2969244.53029672\n",
      "Iter 71: f = 2965769.59342389\n",
      "Iter 72: f = 2963270.27594325\n",
      "Iter 73: f = 2959254.11659155\n",
      "Iter 74: f = 2955953.95411146\n",
      "Iter 75: f = 2953243.54078007\n",
      "Iter 76: f = 2950993.68982824\n",
      "Iter 77: f = 2949250.09588085\n",
      "Iter 78: f = 2948094.56809848\n",
      "Iter 79: f = 2947074.78507107\n",
      "Iter 80: f = 2946285.86813527\n",
      "Iter 81: f = 2945563.68739024\n",
      "Iter 82: f = 2944980.42840970\n",
      "Iter 83: f = 2944225.26375109\n",
      "Iter 84: f = 2943720.48436331\n",
      "Iter 85: f = 2943112.04722688\n",
      "Iter 86: f = 2942642.94206021\n",
      "Iter 87: f = 2942058.81380031\n",
      "Iter 88: f = 2941582.84877161\n",
      "Iter 89: f = 2941182.93418312\n",
      "Iter 90: f = 2940721.01792794\n",
      "Iter 91: f = 2940261.30631943\n",
      "Iter 92: f = 2939897.44259424\n",
      "Iter 93: f = 2939461.83110071\n",
      "Iter 94: f = 2938960.04787092\n",
      "Iter 95: f = 2938579.69569495\n",
      "Iter 96: f = 2938138.71759939\n",
      "Iter 97: f = 2937806.24560998\n",
      "Iter 98: f = 2937482.51495398\n",
      "Iter 99: f = 2937089.42476775\n",
      "Iter 100: f = 2936769.23340436\n",
      "Iter 101: f = 2936479.67281665\n",
      "Iter 102: f = 2935975.43214017\n",
      "Iter 103: f = 2935665.66908990\n",
      "Iter 104: f = 2935286.11143293\n",
      "Iter 105: f = 2935007.59741554\n",
      "Iter 106: f = 2934689.40933781\n",
      "Iter 107: f = 2934421.82338079\n",
      "Iter 108: f = 2934025.37469830\n",
      "Iter 109: f = 2933686.47255732\n",
      "Iter 110: f = 2933463.06015208\n",
      "Iter 111: f = 2933187.37898249\n",
      "Iter 112: f = 2932909.89106975\n",
      "Iter 113: f = 2932730.16504448\n",
      "Iter 114: f = 2932447.83202315\n",
      "Iter 115: f = 2932294.44334270\n",
      "Iter 116: f = 2932095.66470970\n",
      "Iter 117: f = 2931853.92319923\n",
      "Iter 118: f = 2931628.92698385\n",
      "Iter 119: f = 2931451.80849918\n",
      "Iter 120: f = 2931154.40863383\n",
      "Iter 121: f = 2930919.04233705\n",
      "Iter 122: f = 2930685.86717690\n",
      "Iter 123: f = 2930491.13401053\n",
      "Iter 124: f = 2930243.12943733\n",
      "Iter 125: f = 2929994.08267625\n",
      "Iter 126: f = 2929731.76047721\n",
      "Iter 127: f = 2929407.03515513\n",
      "Iter 128: f = 2929094.99640054\n",
      "Iter 129: f = 2928784.12905911\n",
      "Iter 130: f = 2928544.04229341\n",
      "Iter 131: f = 2928300.12032332\n",
      "Iter 132: f = 2928119.08818566\n",
      "Iter 133: f = 2927959.89154848\n",
      "Iter 134: f = 2927757.85418538\n",
      "Iter 135: f = 2927620.90729932\n",
      "Iter 136: f = 2927399.74127166\n",
      "Iter 137: f = 2927215.19553736\n",
      "Iter 138: f = 2927082.89080953\n",
      "Iter 139: f = 2926928.43397315\n",
      "Iter 140: f = 2926737.19640905\n",
      "Iter 141: f = 2926470.87107194\n",
      "Iter 142: f = 2926247.02408433\n",
      "Iter 143: f = 2925888.82264701\n",
      "Iter 144: f = 2925630.46721219\n",
      "Iter 145: f = 2925308.95172661\n",
      "Iter 146: f = 2925071.38228160\n",
      "Iter 147: f = 2925145.28748340\n",
      "Iter 148: f = 2924840.86031013\n",
      "Iter 149: f = 2924624.73138766\n",
      "Iter 150: f = 2924376.26908422\n",
      "Iter 151: f = 2924114.57356444\n",
      "Iter 152: f = 2923888.31763443\n",
      "Iter 153: f = 2923684.00533111\n",
      "Iter 154: f = 2923501.44865160\n",
      "Iter 155: f = 2923366.75466149\n",
      "Iter 156: f = 2923228.60530539\n",
      "Iter 157: f = 2923046.39714926\n",
      "Iter 158: f = 2922837.33482619\n",
      "Iter 159: f = 2922669.90675928\n",
      "Iter 160: f = 2922504.41441239\n",
      "Iter 161: f = 2922384.90912428\n",
      "Iter 162: f = 2922278.36459067\n",
      "Iter 163: f = 2922220.30513624\n",
      "Iter 164: f = 2922106.16476834\n",
      "Iter 165: f = 2921931.48679788\n"
     ]
    },
    {
     "ename": "KeyboardInterrupt",
     "evalue": "",
     "output_type": "error",
     "traceback": [
      "\u001b[0;31m---------------------------------------------------------------------------\u001b[0m",
      "\u001b[0;31mKeyboardInterrupt\u001b[0m                         Traceback (most recent call last)",
      "\u001b[0;32m<ipython-input-14-e04c654f6889>\u001b[0m in \u001b[0;36m<module>\u001b[0;34m\u001b[0m\n\u001b[0;32m----> 1\u001b[0;31m \u001b[0mout\u001b[0m \u001b[0;34m=\u001b[0m \u001b[0mrun_lbfgs\u001b[0m\u001b[0;34m(\u001b[0m\u001b[0moptim_objective\u001b[0m\u001b[0;34m,\u001b[0m \u001b[0minit_vb_free\u001b[0m\u001b[0;34m)\u001b[0m\u001b[0;34m\u001b[0m\u001b[0;34m\u001b[0m\u001b[0m\n\u001b[0m",
      "\u001b[0;32m~/.conda/envs/bnp_sensitivity_jax/lib/python3.8/site-packages/bnpmodeling_runjingdev/optimization_lib.py\u001b[0m in \u001b[0;36mrun_lbfgs\u001b[0;34m(optim_objective, init_vb_free_params, maxiter)\u001b[0m\n\u001b[1;32m     57\u001b[0m     \u001b[0mt0\u001b[0m \u001b[0;34m=\u001b[0m \u001b[0mtime\u001b[0m\u001b[0;34m.\u001b[0m\u001b[0mtime\u001b[0m\u001b[0;34m(\u001b[0m\u001b[0;34m)\u001b[0m\u001b[0;34m\u001b[0m\u001b[0;34m\u001b[0m\u001b[0m\n\u001b[1;32m     58\u001b[0m     \u001b[0mprint\u001b[0m\u001b[0;34m(\u001b[0m\u001b[0;34m'\\nRunning L-BFGS-B ... '\u001b[0m\u001b[0;34m)\u001b[0m\u001b[0;34m\u001b[0m\u001b[0;34m\u001b[0m\u001b[0m\n\u001b[0;32m---> 59\u001b[0;31m     out = optimize.minimize(optim_objective.f_np,\n\u001b[0m\u001b[1;32m     60\u001b[0m                         \u001b[0mx0\u001b[0m \u001b[0;34m=\u001b[0m \u001b[0monp\u001b[0m\u001b[0;34m.\u001b[0m\u001b[0marray\u001b[0m\u001b[0;34m(\u001b[0m\u001b[0minit_vb_free_params\u001b[0m\u001b[0;34m)\u001b[0m\u001b[0;34m,\u001b[0m\u001b[0;34m\u001b[0m\u001b[0;34m\u001b[0m\u001b[0m\n\u001b[1;32m     61\u001b[0m                         \u001b[0mjac\u001b[0m \u001b[0;34m=\u001b[0m \u001b[0moptim_objective\u001b[0m\u001b[0;34m.\u001b[0m\u001b[0mgrad_np\u001b[0m\u001b[0;34m,\u001b[0m\u001b[0;34m\u001b[0m\u001b[0;34m\u001b[0m\u001b[0m\n",
      "\u001b[0;32m~/.conda/envs/bnp_sensitivity_jax/lib/python3.8/site-packages/scipy/optimize/_minimize.py\u001b[0m in \u001b[0;36mminimize\u001b[0;34m(fun, x0, args, method, jac, hess, hessp, bounds, constraints, tol, callback, options)\u001b[0m\n\u001b[1;32m    607\u001b[0m                                   **options)\n\u001b[1;32m    608\u001b[0m     \u001b[0;32melif\u001b[0m \u001b[0mmeth\u001b[0m \u001b[0;34m==\u001b[0m \u001b[0;34m'l-bfgs-b'\u001b[0m\u001b[0;34m:\u001b[0m\u001b[0;34m\u001b[0m\u001b[0;34m\u001b[0m\u001b[0m\n\u001b[0;32m--> 609\u001b[0;31m         return _minimize_lbfgsb(fun, x0, args, jac, bounds,\n\u001b[0m\u001b[1;32m    610\u001b[0m                                 callback=callback, **options)\n\u001b[1;32m    611\u001b[0m     \u001b[0;32melif\u001b[0m \u001b[0mmeth\u001b[0m \u001b[0;34m==\u001b[0m \u001b[0;34m'tnc'\u001b[0m\u001b[0;34m:\u001b[0m\u001b[0;34m\u001b[0m\u001b[0;34m\u001b[0m\u001b[0m\n",
      "\u001b[0;32m~/.conda/envs/bnp_sensitivity_jax/lib/python3.8/site-packages/scipy/optimize/lbfgsb.py\u001b[0m in \u001b[0;36m_minimize_lbfgsb\u001b[0;34m(fun, x0, args, jac, bounds, disp, maxcor, ftol, gtol, eps, maxfun, maxiter, iprint, callback, maxls, **unknown_options)\u001b[0m\n\u001b[1;32m    343\u001b[0m             \u001b[0;31m# until the completion of the current minimization iteration.\u001b[0m\u001b[0;34m\u001b[0m\u001b[0;34m\u001b[0m\u001b[0;34m\u001b[0m\u001b[0m\n\u001b[1;32m    344\u001b[0m             \u001b[0;31m# Overwrite f and g:\u001b[0m\u001b[0;34m\u001b[0m\u001b[0;34m\u001b[0m\u001b[0;34m\u001b[0m\u001b[0m\n\u001b[0;32m--> 345\u001b[0;31m             \u001b[0mf\u001b[0m\u001b[0;34m,\u001b[0m \u001b[0mg\u001b[0m \u001b[0;34m=\u001b[0m \u001b[0mfunc_and_grad\u001b[0m\u001b[0;34m(\u001b[0m\u001b[0mx\u001b[0m\u001b[0;34m)\u001b[0m\u001b[0;34m\u001b[0m\u001b[0;34m\u001b[0m\u001b[0m\n\u001b[0m\u001b[1;32m    346\u001b[0m         \u001b[0;32melif\u001b[0m \u001b[0mtask_str\u001b[0m\u001b[0;34m.\u001b[0m\u001b[0mstartswith\u001b[0m\u001b[0;34m(\u001b[0m\u001b[0;34mb'NEW_X'\u001b[0m\u001b[0;34m)\u001b[0m\u001b[0;34m:\u001b[0m\u001b[0;34m\u001b[0m\u001b[0;34m\u001b[0m\u001b[0m\n\u001b[1;32m    347\u001b[0m             \u001b[0;31m# new iteration\u001b[0m\u001b[0;34m\u001b[0m\u001b[0;34m\u001b[0m\u001b[0;34m\u001b[0m\u001b[0m\n",
      "\u001b[0;32m~/.conda/envs/bnp_sensitivity_jax/lib/python3.8/site-packages/scipy/optimize/lbfgsb.py\u001b[0m in \u001b[0;36mfunc_and_grad\u001b[0;34m(x)\u001b[0m\n\u001b[1;32m    294\u001b[0m         \u001b[0;32mdef\u001b[0m \u001b[0mfunc_and_grad\u001b[0m\u001b[0;34m(\u001b[0m\u001b[0mx\u001b[0m\u001b[0;34m)\u001b[0m\u001b[0;34m:\u001b[0m\u001b[0;34m\u001b[0m\u001b[0;34m\u001b[0m\u001b[0m\n\u001b[1;32m    295\u001b[0m             \u001b[0mf\u001b[0m \u001b[0;34m=\u001b[0m \u001b[0mfun\u001b[0m\u001b[0;34m(\u001b[0m\u001b[0mx\u001b[0m\u001b[0;34m,\u001b[0m \u001b[0;34m*\u001b[0m\u001b[0margs\u001b[0m\u001b[0;34m)\u001b[0m\u001b[0;34m\u001b[0m\u001b[0;34m\u001b[0m\u001b[0m\n\u001b[0;32m--> 296\u001b[0;31m             \u001b[0mg\u001b[0m \u001b[0;34m=\u001b[0m \u001b[0mjac\u001b[0m\u001b[0;34m(\u001b[0m\u001b[0mx\u001b[0m\u001b[0;34m,\u001b[0m \u001b[0;34m*\u001b[0m\u001b[0margs\u001b[0m\u001b[0;34m)\u001b[0m\u001b[0;34m\u001b[0m\u001b[0;34m\u001b[0m\u001b[0m\n\u001b[0m\u001b[1;32m    297\u001b[0m             \u001b[0;32mreturn\u001b[0m \u001b[0mf\u001b[0m\u001b[0;34m,\u001b[0m \u001b[0mg\u001b[0m\u001b[0;34m\u001b[0m\u001b[0;34m\u001b[0m\u001b[0m\n\u001b[1;32m    298\u001b[0m \u001b[0;34m\u001b[0m\u001b[0m\n",
      "\u001b[0;32m~/.conda/envs/bnp_sensitivity_jax/lib/python3.8/site-packages/bnpmodeling_runjingdev/optimization_lib.py\u001b[0m in \u001b[0;36mgrad_np\u001b[0;34m(self, x)\u001b[0m\n\u001b[1;32m     46\u001b[0m \u001b[0;34m\u001b[0m\u001b[0m\n\u001b[1;32m     47\u001b[0m     \u001b[0;32mdef\u001b[0m \u001b[0mgrad_np\u001b[0m\u001b[0;34m(\u001b[0m\u001b[0mself\u001b[0m\u001b[0;34m,\u001b[0m \u001b[0mx\u001b[0m\u001b[0;34m)\u001b[0m\u001b[0;34m:\u001b[0m\u001b[0;34m\u001b[0m\u001b[0;34m\u001b[0m\u001b[0m\n\u001b[0;32m---> 48\u001b[0;31m         \u001b[0;32mreturn\u001b[0m \u001b[0monp\u001b[0m\u001b[0;34m.\u001b[0m\u001b[0marray\u001b[0m\u001b[0;34m(\u001b[0m\u001b[0mself\u001b[0m\u001b[0;34m.\u001b[0m\u001b[0mgrad\u001b[0m\u001b[0;34m(\u001b[0m\u001b[0mx\u001b[0m\u001b[0;34m)\u001b[0m\u001b[0;34m)\u001b[0m\u001b[0;34m\u001b[0m\u001b[0;34m\u001b[0m\u001b[0m\n\u001b[0m\u001b[1;32m     49\u001b[0m \u001b[0;34m\u001b[0m\u001b[0m\n\u001b[1;32m     50\u001b[0m     \u001b[0;32mdef\u001b[0m \u001b[0mhvp_np\u001b[0m\u001b[0;34m(\u001b[0m\u001b[0mself\u001b[0m\u001b[0;34m,\u001b[0m \u001b[0mx\u001b[0m\u001b[0;34m,\u001b[0m \u001b[0mv\u001b[0m\u001b[0;34m)\u001b[0m\u001b[0;34m:\u001b[0m\u001b[0;34m\u001b[0m\u001b[0;34m\u001b[0m\u001b[0m\n",
      "\u001b[0;32m~/.conda/envs/bnp_sensitivity_jax/lib/python3.8/site-packages/jax/interpreters/xla.py\u001b[0m in \u001b[0;36m__array__\u001b[0;34m(self, dtype, context)\u001b[0m\n\u001b[1;32m   1078\u001b[0m \u001b[0;34m\u001b[0m\u001b[0m\n\u001b[1;32m   1079\u001b[0m   \u001b[0;32mdef\u001b[0m \u001b[0m__array__\u001b[0m\u001b[0;34m(\u001b[0m\u001b[0mself\u001b[0m\u001b[0;34m,\u001b[0m \u001b[0mdtype\u001b[0m\u001b[0;34m=\u001b[0m\u001b[0;32mNone\u001b[0m\u001b[0;34m,\u001b[0m \u001b[0mcontext\u001b[0m\u001b[0;34m=\u001b[0m\u001b[0;32mNone\u001b[0m\u001b[0;34m)\u001b[0m\u001b[0;34m:\u001b[0m\u001b[0;34m\u001b[0m\u001b[0;34m\u001b[0m\u001b[0m\n\u001b[0;32m-> 1080\u001b[0;31m     \u001b[0;32mreturn\u001b[0m \u001b[0mnp\u001b[0m\u001b[0;34m.\u001b[0m\u001b[0masarray\u001b[0m\u001b[0;34m(\u001b[0m\u001b[0mself\u001b[0m\u001b[0;34m.\u001b[0m\u001b[0m_value\u001b[0m\u001b[0;34m,\u001b[0m \u001b[0mdtype\u001b[0m\u001b[0;34m=\u001b[0m\u001b[0mdtype\u001b[0m\u001b[0;34m)\u001b[0m\u001b[0;34m\u001b[0m\u001b[0;34m\u001b[0m\u001b[0m\n\u001b[0m\u001b[1;32m   1081\u001b[0m \u001b[0;34m\u001b[0m\u001b[0m\n\u001b[1;32m   1082\u001b[0m   \u001b[0;34m@\u001b[0m\u001b[0mproperty\u001b[0m\u001b[0;34m\u001b[0m\u001b[0;34m\u001b[0m\u001b[0m\n",
      "\u001b[0;32m~/.conda/envs/bnp_sensitivity_jax/lib/python3.8/site-packages/jax/interpreters/xla.py\u001b[0m in \u001b[0;36m_value\u001b[0;34m(self)\u001b[0m\n\u001b[1;32m    983\u001b[0m         \u001b[0mself\u001b[0m\u001b[0;34m.\u001b[0m\u001b[0m_npy_value\u001b[0m \u001b[0;34m=\u001b[0m \u001b[0mlazy\u001b[0m\u001b[0;34m.\u001b[0m\u001b[0meval_lexpr\u001b[0m\u001b[0;34m(\u001b[0m\u001b[0mself\u001b[0m\u001b[0;34m.\u001b[0m\u001b[0m_lazy_expr\u001b[0m\u001b[0;34m,\u001b[0m \u001b[0;32mNone\u001b[0m\u001b[0;34m)\u001b[0m\u001b[0;34m\u001b[0m\u001b[0;34m\u001b[0m\u001b[0m\n\u001b[1;32m    984\u001b[0m       \u001b[0;32melse\u001b[0m\u001b[0;34m:\u001b[0m\u001b[0;34m\u001b[0m\u001b[0;34m\u001b[0m\u001b[0m\n\u001b[0;32m--> 985\u001b[0;31m         \u001b[0mself\u001b[0m\u001b[0;34m.\u001b[0m\u001b[0m_npy_value\u001b[0m \u001b[0;34m=\u001b[0m \u001b[0m_force\u001b[0m\u001b[0;34m(\u001b[0m\u001b[0mself\u001b[0m\u001b[0;34m)\u001b[0m\u001b[0;34m.\u001b[0m\u001b[0mdevice_buffer\u001b[0m\u001b[0;34m.\u001b[0m\u001b[0mto_py\u001b[0m\u001b[0;34m(\u001b[0m\u001b[0;34m)\u001b[0m\u001b[0;34m\u001b[0m\u001b[0;34m\u001b[0m\u001b[0m\n\u001b[0m\u001b[1;32m    986\u001b[0m       \u001b[0mself\u001b[0m\u001b[0;34m.\u001b[0m\u001b[0m_npy_value\u001b[0m\u001b[0;34m.\u001b[0m\u001b[0mflags\u001b[0m\u001b[0;34m.\u001b[0m\u001b[0mwriteable\u001b[0m \u001b[0;34m=\u001b[0m \u001b[0;32mFalse\u001b[0m\u001b[0;34m\u001b[0m\u001b[0;34m\u001b[0m\u001b[0m\n\u001b[1;32m    987\u001b[0m     \u001b[0;32mreturn\u001b[0m \u001b[0mself\u001b[0m\u001b[0;34m.\u001b[0m\u001b[0m_npy_value\u001b[0m\u001b[0;34m\u001b[0m\u001b[0;34m\u001b[0m\u001b[0m\n",
      "\u001b[0;31mKeyboardInterrupt\u001b[0m: "
     ]
    }
   ],
   "source": [
    "out = run_lbfgs(optim_objective, init_vb_free)"
   ]
  },
  {
   "cell_type": "code",
   "execution_count": null,
   "metadata": {},
   "outputs": [],
   "source": []
  },
  {
   "cell_type": "code",
   "execution_count": null,
   "metadata": {},
   "outputs": [],
   "source": []
  },
  {
   "cell_type": "code",
   "execution_count": 82,
   "metadata": {},
   "outputs": [],
   "source": [
    "vb_opt = out.x"
   ]
  },
  {
   "cell_type": "code",
   "execution_count": 83,
   "metadata": {},
   "outputs": [
    {
     "name": "stdout",
     "output_type": "stream",
     "text": [
      "Iter 55: f = -39613911251944964744892383232.00000000\n"
     ]
    },
    {
     "data": {
      "text/plain": [
       "array(-3.96139113e+28)"
      ]
     },
     "execution_count": 83,
     "metadata": {},
     "output_type": "execute_result"
    }
   ],
   "source": [
    "optim_objective.f_np(vb_opt)"
   ]
  },
  {
   "cell_type": "code",
   "execution_count": 84,
   "metadata": {},
   "outputs": [],
   "source": [
    "vb_opt_dict = vb_params_paragami.fold(vb_opt, free = True)"
   ]
  },
  {
   "cell_type": "code",
   "execution_count": 110,
   "metadata": {},
   "outputs": [
    {
     "data": {
      "text/plain": [
       "DeviceArray(2.13204905e+08, dtype=float64)"
      ]
     },
     "execution_count": 110,
     "metadata": {},
     "output_type": "execute_result"
    }
   ],
   "source": [
    "structure_model_lib.get_kl(g_obs, vb_opt_dict, prior_params_dict,\n",
    "                            gh_loc, gh_weights, \n",
    "                            log_phi = None, epsilon = 0.)"
   ]
  },
  {
   "cell_type": "code",
   "execution_count": 111,
   "metadata": {},
   "outputs": [],
   "source": [
    "stick_entropy = \\\n",
    "            modeling_lib.get_stick_breaking_entropy(\n",
    "                                    vb_opt_dict['ind_mix_stick_propn_mean'],\n",
    "                                    vb_opt_dict['ind_mix_stick_propn_info'],\n",
    "                                    gh_loc, gh_weights)"
   ]
  },
  {
   "cell_type": "code",
   "execution_count": 112,
   "metadata": {},
   "outputs": [
    {
     "data": {
      "text/plain": [
       "DeviceArray(-106793.63149807, dtype=float64)"
      ]
     },
     "execution_count": 112,
     "metadata": {},
     "output_type": "execute_result"
    }
   ],
   "source": [
    "stick_entropy"
   ]
  },
  {
   "cell_type": "code",
   "execution_count": 113,
   "metadata": {},
   "outputs": [
    {
     "data": {
      "text/plain": [
       "DeviceArray(-2.08260724e+08, dtype=float64)"
      ]
     },
     "execution_count": 113,
     "metadata": {},
     "output_type": "execute_result"
    }
   ],
   "source": [
    "structure_model_lib.get_entropy(vb_opt_dict, gh_loc, gh_weights)"
   ]
  },
  {
   "cell_type": "code",
   "execution_count": 115,
   "metadata": {},
   "outputs": [],
   "source": [
    "from bnpmodeling_runjingdev import exponential_families as ef"
   ]
  },
  {
   "cell_type": "code",
   "execution_count": 116,
   "metadata": {},
   "outputs": [],
   "source": [
    "# beta entropy term\n",
    "pop_freq_beta_params = vb_opt_dict['pop_freq_beta_params']\n",
    "lk = pop_freq_beta_params.shape[0] * pop_freq_beta_params.shape[1]\n",
    "beta_entropy = ef.beta_entropy(tau = pop_freq_beta_params.reshape((lk, 2)))\n"
   ]
  },
  {
   "cell_type": "code",
   "execution_count": 117,
   "metadata": {},
   "outputs": [
    {
     "data": {
      "text/plain": [
       "DeviceArray(-2.0815393e+08, dtype=float64)"
      ]
     },
     "execution_count": 117,
     "metadata": {},
     "output_type": "execute_result"
    }
   ],
   "source": [
    "beta_entropy"
   ]
  },
  {
   "cell_type": "code",
   "execution_count": 118,
   "metadata": {},
   "outputs": [
    {
     "data": {
      "text/plain": [
       "DeviceArray([[[1.87047580e+00, 6.79665324e-01],\n",
       "              [1.86103167e+00, 6.63560490e-01],\n",
       "              [5.34263030e+02, 9.63100759e-01],\n",
       "              ...,\n",
       "              [1.85587377e+00, 6.63984916e-01],\n",
       "              [1.35427347e+00, 7.18684571e-01],\n",
       "              [1.61582538e+02, 3.29681448e-02]],\n",
       "\n",
       "             [[1.88271333e+00, 7.12465697e-01],\n",
       "              [1.85667785e+00, 6.96534507e-01],\n",
       "              [1.93067564e-01, 2.11307462e+01],\n",
       "              ...,\n",
       "              [1.84591506e+00, 6.92819824e-01],\n",
       "              [1.84784200e+00, 7.65969630e-01],\n",
       "              [1.12279194e+02, 2.24290522e-01]],\n",
       "\n",
       "             [[1.62126944e+00, 1.42571931e+00],\n",
       "              [1.72837243e+00, 1.27728199e+00],\n",
       "              [3.38823901e+02, 3.49384973e-01],\n",
       "              ...,\n",
       "              [1.57199561e+00, 1.16508668e+00],\n",
       "              [1.21305538e+00, 1.79800999e+00],\n",
       "              [9.94449703e-02, 1.63357778e+02]],\n",
       "\n",
       "             ...,\n",
       "\n",
       "             [[1.98137725e+00, 6.45915993e-01],\n",
       "              [1.89796634e+00, 6.51233937e-01],\n",
       "              [4.14926815e+00, 2.83009349e+00],\n",
       "              ...,\n",
       "              [1.03184327e+02, 2.01681984e-01],\n",
       "              [2.12286091e+00, 6.49080834e-01],\n",
       "              [6.09325083e+00, 1.98050391e+00]],\n",
       "\n",
       "             [[1.98003178e+00, 6.47409734e-01],\n",
       "              [1.89714246e+00, 6.52731362e-01],\n",
       "              [3.50673742e+00, 3.08304554e+00],\n",
       "              ...,\n",
       "              [1.06748656e+02, 1.99668120e-01],\n",
       "              [2.12699835e+00, 6.48638146e-01],\n",
       "              [4.91455738e+00, 2.22725694e+00]],\n",
       "\n",
       "             [[1.97544888e+00, 6.39928671e-01],\n",
       "              [1.90031245e+00, 6.43313561e-01],\n",
       "              [1.18541759e+01, 1.64406816e+00],\n",
       "              ...,\n",
       "              [1.74297041e+02, 1.53853665e-01],\n",
       "              [2.12533510e+00, 6.35192221e-01],\n",
       "              [1.85286795e+02, 2.91305254e-01]]], dtype=float64)"
      ]
     },
     "execution_count": 118,
     "metadata": {},
     "output_type": "execute_result"
    }
   ],
   "source": [
    "pop_freq_beta_params"
   ]
  },
  {
   "cell_type": "code",
   "execution_count": null,
   "metadata": {},
   "outputs": [],
   "source": []
  },
  {
   "cell_type": "code",
   "execution_count": null,
   "metadata": {},
   "outputs": [],
   "source": []
  },
  {
   "cell_type": "code",
   "execution_count": null,
   "metadata": {},
   "outputs": [],
   "source": []
  },
  {
   "cell_type": "code",
   "execution_count": null,
   "metadata": {},
   "outputs": [],
   "source": []
  },
  {
   "cell_type": "raw",
   "metadata": {},
   "source": [
    "_kl_fun_free = paragami.FlattenFunctionInput(\n",
    "                                original_fun=structure_model_lib.get_kl,\n",
    "                                patterns = vb_params_paragami,\n",
    "                                free = True,\n",
    "                                argnums = 1)\n",
    "\n",
    "kl_fun_free = lambda x : _kl_fun_free(g_obs, x, prior_params_dict,\n",
    "                                         gh_loc, gh_weights,\n",
    "                                         log_phi = None, epsilon = 0.)"
   ]
  },
  {
   "cell_type": "raw",
   "metadata": {},
   "source": [
    "kl_fun_free(vb_opt)"
   ]
  },
  {
   "cell_type": "raw",
   "metadata": {},
   "source": [
    "foo = jax.jit(kl_fun_free)"
   ]
  },
  {
   "cell_type": "raw",
   "metadata": {},
   "source": [
    "foo(vb_opt)"
   ]
  },
  {
   "cell_type": "raw",
   "metadata": {},
   "source": []
  },
  {
   "cell_type": "raw",
   "metadata": {},
   "source": [
    "optim_objective._objective_fun(vb_opt)"
   ]
  },
  {
   "cell_type": "raw",
   "metadata": {},
   "source": [
    "import vb_lib.structure_optimization_lib as str_optim_lib"
   ]
  },
  {
   "cell_type": "raw",
   "metadata": {},
   "source": [
    "optim_objective2 = paragami.optimization_lib.OptimizationObjective(kl_fun_free)"
   ]
  },
  {
   "cell_type": "raw",
   "metadata": {},
   "source": [
    "optim_objective2._objective_fun(vb_opt)"
   ]
  },
  {
   "cell_type": "raw",
   "metadata": {},
   "source": [
    "foo = jax.jit(optim_objective2._objective_fun)"
   ]
  },
  {
   "cell_type": "raw",
   "metadata": {},
   "source": [
    "foo(vb_opt)"
   ]
  },
  {
   "cell_type": "raw",
   "metadata": {},
   "source": []
  },
  {
   "cell_type": "code",
   "execution_count": null,
   "metadata": {},
   "outputs": [],
   "source": []
  },
  {
   "cell_type": "raw",
   "metadata": {},
   "source": [
    "iter_indx = 0\n",
    "vb_opt = optim_objective.optimization_log[iter_indx][1]\n",
    "\n",
    "optim_objective.optimization_log[iter_indx][2]"
   ]
  },
  {
   "cell_type": "raw",
   "metadata": {},
   "source": [
    "vb_opt_dict = vb_params_paragami.fold(vb_opt, free = True)"
   ]
  },
  {
   "cell_type": "raw",
   "metadata": {},
   "source": [
    "structure_model_lib.get_kl(g_obs, vb_opt_dict, prior_params_dict,\n",
    "                            gh_loc, gh_weights)"
   ]
  },
  {
   "cell_type": "raw",
   "metadata": {},
   "source": [
    "optim_objective.f_np(vb_opt)"
   ]
  },
  {
   "cell_type": "raw",
   "metadata": {},
   "source": [
    "for i in range(10): \n",
    "    print((optim_objective.optimization_log[i][1]**2).mean())\n",
    "    assert (optim_objective.optimization_log[i][1]**2).mean() == (optim_objective.optimization_log[i-1][1]**2).mean()"
   ]
  },
  {
   "cell_type": "code",
   "execution_count": null,
   "metadata": {},
   "outputs": [],
   "source": []
  },
  {
   "cell_type": "markdown",
   "metadata": {},
   "source": [
    "# Check out the fit"
   ]
  },
  {
   "cell_type": "code",
   "execution_count": null,
   "metadata": {},
   "outputs": [],
   "source": [
    "# fitted\n",
    "e_ind_admix = get_vb_expectations(vb_opt_dict, use_logitnormal_sticks)[0]\n",
    "plt.matshow(e_ind_admix.T)"
   ]
  },
  {
   "cell_type": "code",
   "execution_count": null,
   "metadata": {},
   "outputs": [],
   "source": []
  },
  {
   "cell_type": "code",
   "execution_count": null,
   "metadata": {},
   "outputs": [],
   "source": []
  },
  {
   "cell_type": "code",
   "execution_count": null,
   "metadata": {},
   "outputs": [],
   "source": []
  },
  {
   "cell_type": "code",
   "execution_count": null,
   "metadata": {},
   "outputs": [],
   "source": []
  }
 ],
 "metadata": {
  "kernelspec": {
   "display_name": "bnp_sensitivity_jax",
   "language": "python",
   "name": "bnp_sensitivity_jax"
  },
  "language_info": {
   "codemirror_mode": {
    "name": "ipython",
    "version": 3
   },
   "file_extension": ".py",
   "mimetype": "text/x-python",
   "name": "python",
   "nbconvert_exporter": "python",
   "pygments_lexer": "ipython3",
   "version": "3.8.0"
  }
 },
 "nbformat": 4,
 "nbformat_minor": 4
}
