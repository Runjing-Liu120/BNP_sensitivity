{
 "cells": [
  {
   "cell_type": "code",
   "execution_count": 1,
   "metadata": {},
   "outputs": [
    {
     "name": "stderr",
     "output_type": "stream",
     "text": [
      "/accounts/grad/runjing_liu/.conda/envs/bnp_sensitivity_jax/lib/python3.8/site-packages/jax/lib/xla_bridge.py:130: UserWarning: No GPU/TPU found, falling back to CPU.\n",
      "  warnings.warn('No GPU/TPU found, falling back to CPU.')\n"
     ]
    }
   ],
   "source": [
    "import jax\n",
    "\n",
    "import jax.numpy as np\n",
    "import jax.scipy as sp\n",
    "\n",
    "from numpy.polynomial.hermite import hermgauss\n",
    "import scipy as osp\n",
    "\n",
    "from vb_lib import structure_model_lib, data_utils, cavi_lib\n",
    "from vb_lib.preconditioner_lib import get_mfvb_cov_matmul\n",
    "import vb_lib.structure_optimization_lib as s_optim_lib\n",
    "\n",
    "from bnpmodeling_runjingdev.sensitivity_lib import HyperparameterSensitivityLinearApproximation, get_jac_hvp_fun\n",
    "\n",
    "import paragami\n",
    "\n",
    "from copy import deepcopy\n",
    "\n",
    "import time\n",
    "\n",
    "import matplotlib.pyplot as plt\n",
    "%matplotlib inline  \n",
    "\n",
    "from bnpmodeling_runjingdev import cluster_quantities_lib, modeling_lib\n"
   ]
  },
  {
   "cell_type": "code",
   "execution_count": 2,
   "metadata": {},
   "outputs": [],
   "source": [
    "import numpy as onp\n",
    "onp.random.seed(53453)"
   ]
  },
  {
   "cell_type": "markdown",
   "metadata": {},
   "source": [
    "# Load data"
   ]
  },
  {
   "cell_type": "code",
   "execution_count": 3,
   "metadata": {},
   "outputs": [],
   "source": [
    "# data = np.load('../simulated_data/simulated_structure_data_nobs20_nloci50_npop4.npz')\n",
    "# g_obs = np.array(data['g_obs'], dtype = int)"
   ]
  },
  {
   "cell_type": "code",
   "execution_count": 4,
   "metadata": {},
   "outputs": [
    {
     "data": {
      "text/plain": [
       "DeviceArray(True, dtype=bool)"
      ]
     },
     "execution_count": 4,
     "metadata": {},
     "output_type": "execute_result"
    }
   ],
   "source": [
    "data_dir = '../../../../fastStructure/hgdp_data/huang2011_plink_files/'\n",
    "filenamebase = 'phased_HGDP+India+Africa_2810SNPs-regions1to36'\n",
    "filename = data_dir + filenamebase + '.npz'\n",
    "data = np.load(filename)\n",
    "\n",
    "g_obs = np.array(data['g_obs'], dtype = int)\n",
    "g_obs_raw = np.array(data['g_obs_raw'])\n",
    "\n",
    "# just checking ... \n",
    "which_missing = (g_obs_raw == 3)\n",
    "(g_obs.argmax(-1) == g_obs_raw)[~which_missing].all()\n",
    "(g_obs[which_missing] == 0).all()"
   ]
  },
  {
   "cell_type": "code",
   "execution_count": 5,
   "metadata": {},
   "outputs": [],
   "source": [
    "n_obs = g_obs.shape[0]\n",
    "n_loci = g_obs.shape[1]"
   ]
  },
  {
   "cell_type": "code",
   "execution_count": 6,
   "metadata": {},
   "outputs": [
    {
     "name": "stdout",
     "output_type": "stream",
     "text": [
      "1107\n",
      "2810\n"
     ]
    }
   ],
   "source": [
    "print(n_obs)\n",
    "print(n_loci)"
   ]
  },
  {
   "cell_type": "markdown",
   "metadata": {},
   "source": [
    "# Get prior"
   ]
  },
  {
   "cell_type": "code",
   "execution_count": 7,
   "metadata": {},
   "outputs": [
    {
     "name": "stdout",
     "output_type": "stream",
     "text": [
      "OrderedDict:\n",
      "\t[dp_prior_alpha] = NumericArrayPattern (1,) (lb=0.0, ub=inf)\n",
      "\t[allele_prior_alpha] = NumericArrayPattern (1,) (lb=0.0, ub=inf)\n",
      "\t[allele_prior_beta] = NumericArrayPattern (1,) (lb=0.0, ub=inf)\n"
     ]
    }
   ],
   "source": [
    "prior_params_dict, prior_params_paragami = \\\n",
    "    structure_model_lib.get_default_prior_params()\n",
    "\n",
    "print(prior_params_paragami)\n",
    "\n",
    "prior_params_free = prior_params_paragami.flatten(prior_params_dict, free = True)"
   ]
  },
  {
   "cell_type": "markdown",
   "metadata": {},
   "source": [
    "# Get VB params "
   ]
  },
  {
   "cell_type": "code",
   "execution_count": 8,
   "metadata": {},
   "outputs": [],
   "source": [
    "k_approx = 15"
   ]
  },
  {
   "cell_type": "code",
   "execution_count": 9,
   "metadata": {},
   "outputs": [],
   "source": [
    "gh_deg = 8\n",
    "gh_loc, gh_weights = hermgauss(8)"
   ]
  },
  {
   "cell_type": "code",
   "execution_count": 10,
   "metadata": {
    "scrolled": true
   },
   "outputs": [
    {
     "name": "stdout",
     "output_type": "stream",
     "text": [
      "OrderedDict:\n",
      "\t[pop_freq_beta_params] = NumericArrayPattern (2810, 15, 2) (lb=0.0, ub=inf)\n",
      "\t[ind_admix_params] = OrderedDict:\n",
      "\t[stick_means] = NumericArrayPattern (1107, 14) (lb=-inf, ub=inf)\n",
      "\t[stick_infos] = NumericArrayPattern (1107, 14) (lb=0.0001, ub=inf)\n"
     ]
    }
   ],
   "source": [
    "use_logitnormal_sticks = True\n",
    "\n",
    "vb_params_dict, vb_params_paragami = \\\n",
    "    structure_model_lib.get_vb_params_paragami_object(n_obs, n_loci, k_approx,\n",
    "                                    use_logitnormal_sticks = use_logitnormal_sticks)\n",
    "    \n",
    "print(vb_params_paragami)"
   ]
  },
  {
   "cell_type": "code",
   "execution_count": 11,
   "metadata": {},
   "outputs": [],
   "source": [
    "vb_params_dict = vb_params_paragami.random(key=jax.random.PRNGKey(41))"
   ]
  },
  {
   "cell_type": "code",
   "execution_count": 12,
   "metadata": {},
   "outputs": [
    {
     "data": {
      "text/plain": [
       "DeviceArray(5866337.80064644, dtype=float64)"
      ]
     },
     "execution_count": 12,
     "metadata": {},
     "output_type": "execute_result"
    }
   ],
   "source": [
    "structure_model_lib.get_kl(g_obs, vb_params_dict, prior_params_dict,\n",
    "                                    gh_loc, gh_weights)"
   ]
  },
  {
   "cell_type": "code",
   "execution_count": null,
   "metadata": {},
   "outputs": [],
   "source": []
  },
  {
   "cell_type": "markdown",
   "metadata": {},
   "source": [
    "# Timing results"
   ]
  },
  {
   "cell_type": "markdown",
   "metadata": {},
   "source": [
    "## set init"
   ]
  },
  {
   "cell_type": "code",
   "execution_count": 13,
   "metadata": {},
   "outputs": [
    {
     "name": "stdout",
     "output_type": "stream",
     "text": [
      "running NMF ...\n",
      "running a few cavi steps for pop beta ...\n",
      "done. Elapsed: 32.3909\n"
     ]
    }
   ],
   "source": [
    "vb_params_dict = \\\n",
    "        s_optim_lib.set_init_vb_params(g_obs, k_approx, vb_params_dict,\n",
    "                                                      prior_params_dict,\n",
    "                                                      gh_loc, gh_weights,\n",
    "                                                      seed = 3421)"
   ]
  },
  {
   "cell_type": "code",
   "execution_count": 14,
   "metadata": {},
   "outputs": [
    {
     "data": {
      "text/plain": [
       "DeviceArray(5198875.61385809, dtype=float64)"
      ]
     },
     "execution_count": 14,
     "metadata": {},
     "output_type": "execute_result"
    }
   ],
   "source": [
    "structure_model_lib.get_kl(g_obs, vb_params_dict, prior_params_dict,\n",
    "                                    gh_loc, gh_weights)"
   ]
  },
  {
   "cell_type": "markdown",
   "metadata": {},
   "source": [
    "## update population betas"
   ]
  },
  {
   "cell_type": "code",
   "execution_count": 15,
   "metadata": {},
   "outputs": [],
   "source": [
    "dp_prior_alpha = prior_params_dict['dp_prior_alpha']\n",
    "allele_prior_alpha = prior_params_dict['allele_prior_alpha']\n",
    "allele_prior_beta = prior_params_dict['allele_prior_beta']\n",
    "\n",
    "# get initial moments from vb_params\n",
    "e_log_sticks, e_log_1m_sticks, \\\n",
    "    e_log_pop_freq, e_log_1m_pop_freq = \\\n",
    "        structure_model_lib.get_moments_from_vb_params_dict(\n",
    "            vb_params_dict, gh_loc, gh_weights)\n",
    "\n",
    "e_log_cluster_probs = \\\n",
    "    modeling_lib.get_e_log_cluster_probabilities_from_e_log_stick(\n",
    "                        e_log_sticks, e_log_1m_sticks)"
   ]
  },
  {
   "cell_type": "code",
   "execution_count": 16,
   "metadata": {},
   "outputs": [],
   "source": [
    "update_pop_beta = jax.jit(cavi_lib.update_pop_beta)"
   ]
  },
  {
   "cell_type": "code",
   "execution_count": 17,
   "metadata": {},
   "outputs": [],
   "source": [
    "# compile update\n",
    "out = update_pop_beta(g_obs, e_log_pop_freq, e_log_1m_pop_freq, \n",
    "                       e_log_cluster_probs, prior_params_dict)\n",
    "_ = out[0].block_until_ready()"
   ]
  },
  {
   "cell_type": "code",
   "execution_count": 18,
   "metadata": {},
   "outputs": [
    {
     "name": "stdout",
     "output_type": "stream",
     "text": [
      "4.152426242828369\n"
     ]
    }
   ],
   "source": [
    "# timeit!\n",
    "t0 = time.time() \n",
    "\n",
    "_ = update_pop_beta(g_obs, e_log_pop_freq, e_log_1m_pop_freq, \\\n",
    "                       e_log_cluster_probs, prior_params_dict)[0].block_until_ready()\n",
    "\n",
    "print(time.time() - t0)"
   ]
  },
  {
   "cell_type": "code",
   "execution_count": null,
   "metadata": {},
   "outputs": [],
   "source": []
  },
  {
   "cell_type": "markdown",
   "metadata": {},
   "source": [
    "## gradients of admixture stick ps-loss"
   ]
  },
  {
   "cell_type": "code",
   "execution_count": 19,
   "metadata": {},
   "outputs": [
    {
     "name": "stdout",
     "output_type": "stream",
     "text": [
      "compiling stick objective and gradients ...\n",
      "compile time: 21.2sec\n"
     ]
    }
   ],
   "source": [
    "stick_objective = s_optim_lib.StickObjective(g_obs, \n",
    "                                             vb_params_paragami,\n",
    "                                             prior_params_dict,\n",
    "                                             gh_loc, gh_weights)"
   ]
  },
  {
   "cell_type": "code",
   "execution_count": 20,
   "metadata": {},
   "outputs": [],
   "source": [
    "ind_admix_params_free = vb_params_paragami['ind_admix_params'].flatten(\n",
    "                            vb_params_dict['ind_admix_params'], free = True)"
   ]
  },
  {
   "cell_type": "code",
   "execution_count": 21,
   "metadata": {},
   "outputs": [
    {
     "name": "stdout",
     "output_type": "stream",
     "text": [
      "4.1950438022613525\n"
     ]
    }
   ],
   "source": [
    "t0 = time.time() \n",
    "_ = stick_objective.f(g_obs, ind_admix_params_free, e_log_pop_freq, e_log_1m_pop_freq).block_until_ready()\n",
    "print(time.time() - t0)"
   ]
  },
  {
   "cell_type": "code",
   "execution_count": 22,
   "metadata": {},
   "outputs": [
    {
     "name": "stdout",
     "output_type": "stream",
     "text": [
      "4.7713096141815186\n"
     ]
    }
   ],
   "source": [
    "t0 = time.time() \n",
    "_ = stick_objective.grad(g_obs, ind_admix_params_free, e_log_pop_freq, e_log_1m_pop_freq).block_until_ready()\n",
    "print(time.time() - t0)"
   ]
  },
  {
   "cell_type": "code",
   "execution_count": 23,
   "metadata": {},
   "outputs": [
    {
     "name": "stdout",
     "output_type": "stream",
     "text": [
      "6.440979719161987\n"
     ]
    }
   ],
   "source": [
    "t0 = time.time() \n",
    "_ = stick_objective.hvp(g_obs, ind_admix_params_free, e_log_pop_freq, e_log_1m_pop_freq, \n",
    "                        ind_admix_params_free).block_until_ready()\n",
    "print(time.time() - t0)"
   ]
  },
  {
   "cell_type": "code",
   "execution_count": null,
   "metadata": {},
   "outputs": [],
   "source": []
  },
  {
   "cell_type": "markdown",
   "metadata": {},
   "source": [
    "# Subsample?"
   ]
  },
  {
   "cell_type": "code",
   "execution_count": 56,
   "metadata": {},
   "outputs": [],
   "source": [
    "batchsize = 1\n",
    "\n",
    "vb_params_dict_sub, vb_params_paragami_sub = \\\n",
    "    structure_model_lib.get_vb_params_paragami_object(batchsize,\n",
    "                                                      n_loci,\n",
    "                                                      k_approx,\n",
    "                                                      use_logitnormal_sticks = use_logitnormal_sticks)\n",
    "\n",
    "x = vb_params_paragami_sub['ind_admix_params'].flatten(\n",
    "                            vb_params_dict_sub['ind_admix_params'], free = True)\n",
    "\n",
    "g_obs_sub = g_obs[0:batchsize]"
   ]
  },
  {
   "cell_type": "code",
   "execution_count": 57,
   "metadata": {},
   "outputs": [
    {
     "name": "stdout",
     "output_type": "stream",
     "text": [
      "compiling stick objective and gradients ...\n",
      "compile time: 7.71sec\n"
     ]
    }
   ],
   "source": [
    "stick_objective_sub = s_optim_lib.StickObjective(g_obs_sub, vb_params_paragami_sub, prior_params_dict,\n",
    "                                                 gh_loc, gh_weights, \n",
    "                                                 compute_hess = True)"
   ]
  },
  {
   "cell_type": "code",
   "execution_count": 58,
   "metadata": {},
   "outputs": [],
   "source": [
    "indx = onp.random.choice(n_obs - batchsize)"
   ]
  },
  {
   "cell_type": "code",
   "execution_count": 59,
   "metadata": {},
   "outputs": [
    {
     "name": "stdout",
     "output_type": "stream",
     "text": [
      "0.00915670394897461\n"
     ]
    }
   ],
   "source": [
    "t0 = time.time() \n",
    "_ = stick_objective_sub.f(g_obs[indx:(indx+batchsize)], \n",
    "                          x,\n",
    "                          e_log_pop_freq, e_log_1m_pop_freq).block_until_ready()\n",
    "print(time.time() - t0)"
   ]
  },
  {
   "cell_type": "code",
   "execution_count": 60,
   "metadata": {},
   "outputs": [
    {
     "name": "stdout",
     "output_type": "stream",
     "text": [
      "0.00901341438293457\n"
     ]
    }
   ],
   "source": [
    "t0 = time.time() \n",
    "_ = stick_objective_sub.grad(g_obs[indx:(indx+batchsize)], x, \n",
    "                             e_log_pop_freq, e_log_1m_pop_freq).block_until_ready()\n",
    "print(time.time() - t0)"
   ]
  },
  {
   "cell_type": "code",
   "execution_count": 61,
   "metadata": {},
   "outputs": [
    {
     "name": "stdout",
     "output_type": "stream",
     "text": [
      "0.010412454605102539\n"
     ]
    }
   ],
   "source": [
    "t0 = time.time() \n",
    "_ = stick_objective_sub.hvp(g_obs[indx:(indx+batchsize)], x, e_log_pop_freq, e_log_1m_pop_freq, \n",
    "                            x).block_until_ready()\n",
    "print(time.time() - t0)"
   ]
  },
  {
   "cell_type": "code",
   "execution_count": 62,
   "metadata": {},
   "outputs": [
    {
     "name": "stdout",
     "output_type": "stream",
     "text": [
      "0.030073165893554688\n"
     ]
    }
   ],
   "source": [
    "t0 = time.time() \n",
    "hess = stick_objective_sub.hess(g_obs[indx:(indx+batchsize)], x,\n",
    "                             e_log_pop_freq, e_log_1m_pop_freq).block_until_ready()\n",
    "print(time.time() - t0)"
   ]
  },
  {
   "cell_type": "markdown",
   "metadata": {},
   "source": [
    "# Optimize one stick parameter"
   ]
  },
  {
   "cell_type": "code",
   "execution_count": 63,
   "metadata": {},
   "outputs": [
    {
     "name": "stdout",
     "output_type": "stream",
     "text": [
      "0.09354281425476074\n"
     ]
    }
   ],
   "source": [
    "t0 = time.time()\n",
    "stick_updates, out = stick_objective_sub.optimize_sticks(g_obs[indx:(indx+batchsize)], \n",
    "                                    vb_params_dict_sub['ind_admix_params'],\n",
    "                                    e_log_pop_freq, e_log_1m_pop_freq)\n",
    "\n",
    "print(time.time() - t0)"
   ]
  },
  {
   "cell_type": "code",
   "execution_count": 64,
   "metadata": {},
   "outputs": [
    {
     "data": {
      "text/plain": [
       "DeviceArray(7517.81766931, dtype=float64)"
      ]
     },
     "execution_count": 64,
     "metadata": {},
     "output_type": "execute_result"
    }
   ],
   "source": [
    "stick_objective_sub.f(g_obs[indx:(indx+batchsize)], \n",
    "                        x,\n",
    "                        e_log_pop_freq, e_log_1m_pop_freq)"
   ]
  },
  {
   "cell_type": "code",
   "execution_count": 65,
   "metadata": {},
   "outputs": [
    {
     "data": {
      "text/plain": [
       "DeviceArray(7261.2916878, dtype=float64)"
      ]
     },
     "execution_count": 65,
     "metadata": {},
     "output_type": "execute_result"
    }
   ],
   "source": [
    "stick_objective_sub.f(g_obs[indx:(indx+batchsize)], \n",
    "                        out.x,\n",
    "                        e_log_pop_freq, e_log_1m_pop_freq)"
   ]
  },
  {
   "cell_type": "code",
   "execution_count": null,
   "metadata": {},
   "outputs": [],
   "source": []
  },
  {
   "cell_type": "code",
   "execution_count": null,
   "metadata": {},
   "outputs": [],
   "source": []
  },
  {
   "cell_type": "raw",
   "metadata": {},
   "source": [
    "get_hess = jax.jit(jax.hessian(stick_objective_sub.f, argnums = 1))"
   ]
  },
  {
   "cell_type": "raw",
   "metadata": {},
   "source": [
    "hess = get_hess(g_obs_sub, x, e_log_pop_freq, e_log_1m_pop_freq).block_until_ready()"
   ]
  },
  {
   "cell_type": "raw",
   "metadata": {},
   "source": [
    "t0 = time.time()\n",
    "hess = get_hess(g_obs_sub, x, e_log_pop_freq, e_log_1m_pop_freq)\n",
    "print(time.time() - t0)"
   ]
  },
  {
   "cell_type": "raw",
   "metadata": {},
   "source": []
  },
  {
   "cell_type": "raw",
   "metadata": {},
   "source": []
  },
  {
   "cell_type": "raw",
   "metadata": {},
   "source": []
  },
  {
   "cell_type": "raw",
   "metadata": {},
   "source": [
    "if subsample: \n",
    "    \n",
    "else: \n",
    "    vb_params_paragami_tmp = vb_params_paragami['ind_admix_params']\n",
    "    vb_params_dict_tmp = vb_params_dict['ind_admix_params']"
   ]
  },
  {
   "cell_type": "raw",
   "metadata": {},
   "source": [
    "_ind_admix_ps_obj = paragami.FlattenFunctionInput(\n",
    "                                original_fun=lambda *x :\n",
    "                                                  s_optim_lib.get_ind_admix_params_psloss(*x, \n",
    "                                                                                          detach_ez = True),\n",
    "                                patterns = vb_params_paragami['ind_admix_params'],\n",
    "                                free = True,\n",
    "                                argnums = 1)\n",
    "\n",
    "ind_admix_ps_obj = jax.jit(_ind_admix_ps_obj)"
   ]
  },
  {
   "cell_type": "raw",
   "metadata": {},
   "source": [
    "ind_admix_grad = jax.jit(jax.grad(_ind_admix_ps_obj, argnums = 1))\n",
    "\n",
    "# define a custom HVP function \n",
    "# so that we can jit all the inputs\n",
    "def _ind_admix_hvp(g_obs, \n",
    "                    ind_admix_params_free, \n",
    "                    e_log_pop_freq, e_log_1m_pop_freq, \n",
    "                    prior_params_dict, \n",
    "                    gh_loc, gh_weights, \n",
    "                    v): \n",
    "    \n",
    "    loss = lambda x : ind_admix_ps_obj(g_obs, \n",
    "                                        x, \n",
    "                                        e_log_pop_freq, e_log_1m_pop_freq, \n",
    "                                        prior_params_dict, \n",
    "                                        gh_loc, gh_weights)\n",
    "    \n",
    "    return jax.jvp(jax.grad(loss), (ind_admix_params_free, ), (v, ))[1]\n",
    "\n",
    "ind_admix_hvp = jax.jit(_ind_admix_hvp)"
   ]
  },
  {
   "cell_type": "raw",
   "metadata": {},
   "source": [
    "ind_admix_params_free = vb_params_paragami['ind_admix_params'].flatten(\n",
    "                            vb_params_dict['ind_admix_params'], free = True)"
   ]
  },
  {
   "cell_type": "raw",
   "metadata": {},
   "source": [
    "# compile everything\n",
    "print('compiling objective ...')\n",
    "_ = ind_admix_ps_obj(g_obs, \n",
    "                    ind_admix_params_free, \n",
    "                    e_log_pop_freq, e_log_1m_pop_freq, \n",
    "                    prior_params_dict, \n",
    "                    gh_loc, gh_weights)\n",
    "\n",
    "print('compiling gradient ...')\n",
    "_ = ind_admix_grad(g_obs, \n",
    "                    ind_admix_params_free, \n",
    "                    e_log_pop_freq, e_log_1m_pop_freq, \n",
    "                    prior_params_dict, \n",
    "                    gh_loc, gh_weights)\n",
    "\n",
    "print('compiling hvp ... ')\n",
    "_ = _ind_admix_hvp(g_obs, \n",
    "                    ind_admix_params_free, \n",
    "                    e_log_pop_freq, e_log_1m_pop_freq, \n",
    "                    prior_params_dict, \n",
    "                    gh_loc, gh_weights, \n",
    "                    ind_admix_params_free)"
   ]
  },
  {
   "cell_type": "raw",
   "metadata": {},
   "source": [
    "t0 = time.time()\n",
    "_ = ind_admix_ps_obj(g_obs, \n",
    "                    ind_admix_params_free, \n",
    "                    e_log_pop_freq, e_log_1m_pop_freq, \n",
    "                    prior_params_dict, \n",
    "                    gh_loc, gh_weights).block_until_ready()\n",
    "print(time.time() - t0)"
   ]
  },
  {
   "cell_type": "raw",
   "metadata": {},
   "source": [
    "t0 = time.time()\n",
    "_ = ind_admix_grad(g_obs, \n",
    "                    ind_admix_params_free, \n",
    "                    e_log_pop_freq, e_log_1m_pop_freq, \n",
    "                    prior_params_dict, \n",
    "                    gh_loc, gh_weights).block_until_ready()\n",
    "print(time.time() - t0)"
   ]
  },
  {
   "cell_type": "raw",
   "metadata": {},
   "source": [
    "t0 = time.time()\n",
    "_ = _ind_admix_hvp(g_obs, \n",
    "                    ind_admix_params_free, \n",
    "                    e_log_pop_freq, e_log_1m_pop_freq, \n",
    "                    prior_params_dict, \n",
    "                    gh_loc, gh_weights, \n",
    "                    ind_admix_params_free).block_until_ready()\n",
    "print(time.time() - t0)"
   ]
  },
  {
   "cell_type": "raw",
   "metadata": {},
   "source": []
  },
  {
   "cell_type": "raw",
   "metadata": {},
   "source": []
  },
  {
   "cell_type": "raw",
   "metadata": {},
   "source": []
  },
  {
   "cell_type": "raw",
   "metadata": {},
   "source": []
  },
  {
   "cell_type": "raw",
   "metadata": {},
   "source": []
  },
  {
   "cell_type": "raw",
   "metadata": {},
   "source": [
    "structure_optimization_lib.get_ind_admix_params_psloss(g_obs, vb_params_dict['ind_admix_params'], \n",
    "                                                        e_log_pop_freq, e_log_1m_pop_freq, \n",
    "                                                        prior_params_dict, \n",
    "                                                        gh_loc, gh_weights)"
   ]
  },
  {
   "cell_type": "raw",
   "metadata": {},
   "source": []
  },
  {
   "cell_type": "raw",
   "metadata": {},
   "source": []
  },
  {
   "cell_type": "raw",
   "metadata": {},
   "source": []
  },
  {
   "cell_type": "raw",
   "metadata": {},
   "source": []
  },
  {
   "cell_type": "raw",
   "metadata": {},
   "source": []
  },
  {
   "cell_type": "raw",
   "metadata": {},
   "source": []
  },
  {
   "cell_type": "raw",
   "metadata": {},
   "source": [
    "stick_objective = StickObjective(g_obs, vb_params_paragami, prior_params_dict, \n",
    "                                 gh_loc, gh_weights, log_phi = None, epsilon = 0.)"
   ]
  },
  {
   "cell_type": "raw",
   "metadata": {},
   "source": [
    "pop_freq_beta_params = vb_params_dict['pop_freq_beta_params']\n",
    "x = vb_params_paragami['ind_admix_params'].flatten(vb_params_dict['ind_admix_params'], free = True)"
   ]
  },
  {
   "cell_type": "raw",
   "metadata": {},
   "source": [
    "t0 = time.time()\n",
    "_ = stick_objective.f(x, pop_freq_beta_params).block_until_ready()\n",
    "print(time.time() - t0)"
   ]
  },
  {
   "cell_type": "raw",
   "metadata": {},
   "source": []
  },
  {
   "cell_type": "raw",
   "metadata": {},
   "source": []
  },
  {
   "cell_type": "raw",
   "metadata": {},
   "source": []
  },
  {
   "cell_type": "raw",
   "metadata": {},
   "source": [
    "def _get_ind_admix_sticks_loss(g_obs,\n",
    "                                ind_admix_params,\n",
    "                                pop_freq_beta_params,\n",
    "                                prior_params_dict,\n",
    "                                gh_loc, gh_weights,\n",
    "                                log_phi, epsilon):\n",
    "\n",
    "    vb_params_dict = dict({'pop_freq_beta_params':pop_freq_beta_params,\n",
    "                          'ind_admix_params': ind_admix_params})\n",
    "\n",
    "    return structure_model_lib.get_kl(g_obs, vb_params_dict,\n",
    "                                        prior_params_dict,\n",
    "                                        gh_loc, gh_weights,\n",
    "                                        log_phi,\n",
    "                                        epsilon,\n",
    "                                        detach_ez = False)"
   ]
  },
  {
   "cell_type": "raw",
   "metadata": {},
   "source": []
  },
  {
   "cell_type": "raw",
   "metadata": {},
   "source": []
  },
  {
   "cell_type": "raw",
   "metadata": {},
   "source": []
  },
  {
   "cell_type": "raw",
   "metadata": {},
   "source": []
  },
  {
   "cell_type": "raw",
   "metadata": {},
   "source": []
  },
  {
   "cell_type": "raw",
   "metadata": {},
   "source": [
    "from vb_lib.structure_optimization_lib import define_structure_objective\n",
    "from bnpmodeling_runjingdev.optimization_lib import run_lbfgs"
   ]
  },
  {
   "cell_type": "raw",
   "metadata": {},
   "source": [
    "from scipy import optimize"
   ]
  },
  {
   "cell_type": "raw",
   "metadata": {},
   "source": [
    "optim_objective, init_vb_free = \\\n",
    "    define_structure_objective(g_obs, vb_params_dict,\n",
    "                        vb_params_paragami,\n",
    "                        prior_params_dict,\n",
    "                        gh_loc = gh_loc,\n",
    "                        gh_weights = gh_weights, \n",
    "                        compile_hvp=True)"
   ]
  },
  {
   "cell_type": "raw",
   "metadata": {},
   "source": [
    "t0 = time.time()\n",
    "_ = optim_objective.hvp_np(init_vb_free, init_vb_free)\n",
    "time.time() - t0"
   ]
  },
  {
   "cell_type": "raw",
   "metadata": {},
   "source": []
  },
  {
   "cell_type": "raw",
   "metadata": {},
   "source": []
  },
  {
   "cell_type": "raw",
   "metadata": {},
   "source": [
    "# Check out the fit"
   ]
  },
  {
   "cell_type": "raw",
   "metadata": {},
   "source": [
    "# fitted\n",
    "e_ind_admix = get_vb_expectations(vb_opt_dict, use_logitnormal_sticks)[0]\n",
    "plt.matshow(e_ind_admix.T)"
   ]
  },
  {
   "cell_type": "raw",
   "metadata": {},
   "source": []
  },
  {
   "cell_type": "raw",
   "metadata": {},
   "source": []
  },
  {
   "cell_type": "raw",
   "metadata": {},
   "source": []
  },
  {
   "cell_type": "raw",
   "metadata": {},
   "source": []
  }
 ],
 "metadata": {
  "kernelspec": {
   "display_name": "bnp_sensitivity_jax",
   "language": "python",
   "name": "bnp_sensitivity_jax"
  },
  "language_info": {
   "codemirror_mode": {
    "name": "ipython",
    "version": 3
   },
   "file_extension": ".py",
   "mimetype": "text/x-python",
   "name": "python",
   "nbconvert_exporter": "python",
   "pygments_lexer": "ipython3",
   "version": "3.8.0"
  }
 },
 "nbformat": 4,
 "nbformat_minor": 4
}
