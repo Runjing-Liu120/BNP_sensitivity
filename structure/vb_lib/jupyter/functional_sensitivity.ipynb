{
 "cells": [
  {
   "cell_type": "markdown",
   "metadata": {},
   "source": [
    "Here, we examine functional sensitivity of the structure model on a small simulated dataset"
   ]
  },
  {
   "cell_type": "code",
   "execution_count": 1,
   "metadata": {},
   "outputs": [
    {
     "name": "stderr",
     "output_type": "stream",
     "text": [
      "/accounts/grad/runjing_liu/.conda/envs/bnp_sensitivity_jax/lib/python3.8/site-packages/jax/lib/xla_bridge.py:130: UserWarning: No GPU/TPU found, falling back to CPU.\n",
      "  warnings.warn('No GPU/TPU found, falling back to CPU.')\n"
     ]
    }
   ],
   "source": [
    "import jax\n",
    "\n",
    "import jax.numpy as np\n",
    "import jax.scipy as sp\n",
    "from numpy.polynomial.hermite import hermgauss\n",
    "\n",
    "from vb_lib import structure_model_lib, data_utils, cavi_lib, plotting_utils\n",
    "from vb_lib.preconditioner_lib import get_mfvb_cov_matmul\n",
    "from bnpmodeling_runjingdev.sensitivity_lib import HyperparameterSensitivityLinearApproximation\n",
    "\n",
    "import paragami\n",
    "\n",
    "from copy import deepcopy\n",
    "\n",
    "import time\n",
    "\n",
    "import matplotlib.pyplot as plt\n",
    "%matplotlib inline  \n",
    "\n",
    "from bnpmodeling_runjingdev import cluster_quantities_lib, modeling_lib\n"
   ]
  },
  {
   "cell_type": "code",
   "execution_count": 2,
   "metadata": {},
   "outputs": [],
   "source": [
    "import numpy as onp \n",
    "onp.random.seed(53453)"
   ]
  },
  {
   "cell_type": "markdown",
   "metadata": {},
   "source": [
    "# Draw data"
   ]
  },
  {
   "cell_type": "code",
   "execution_count": 3,
   "metadata": {},
   "outputs": [],
   "source": [
    "n_obs = 50\n",
    "n_loci = 100\n",
    "n_pop = 4"
   ]
  },
  {
   "cell_type": "code",
   "execution_count": 4,
   "metadata": {},
   "outputs": [
    {
     "name": "stdout",
     "output_type": "stream",
     "text": [
      "Generating datapoints  0  to  50\n"
     ]
    }
   ],
   "source": [
    "g_obs, true_pop_allele_freq, true_ind_admix_propn = \\\n",
    "    data_utils.draw_data(n_obs, n_loci, n_pop)\n",
    "\n",
    "g_obs = np.array(g_obs)"
   ]
  },
  {
   "cell_type": "code",
   "execution_count": 5,
   "metadata": {
    "scrolled": true
   },
   "outputs": [
    {
     "data": {
      "text/plain": [
       "Text(0.5, 0, 'individual')"
      ]
     },
     "execution_count": 5,
     "metadata": {},
     "output_type": "execute_result"
    },
    {
     "data": {
      "image/png": "[encoded data removed]",
      "text/plain": [
       "<Figure size 1152x144 with 1 Axes>"
      ]
     },
     "metadata": {
      "needs_background": "light"
     },
     "output_type": "display_data"
    }
   ],
   "source": [
    "plt.matshow(true_ind_admix_propn.T)\n",
    "plt.ylabel('population')\n",
    "plt.xlabel('individual')"
   ]
  },
  {
   "cell_type": "code",
   "execution_count": 6,
   "metadata": {
    "scrolled": true
   },
   "outputs": [
    {
     "data": {
      "text/plain": [
       "(50, 100, 3)"
      ]
     },
     "execution_count": 6,
     "metadata": {},
     "output_type": "execute_result"
    }
   ],
   "source": [
    "g_obs.shape"
   ]
  },
  {
   "cell_type": "markdown",
   "metadata": {},
   "source": [
    "# Get prior"
   ]
  },
  {
   "cell_type": "code",
   "execution_count": 7,
   "metadata": {},
   "outputs": [
    {
     "name": "stdout",
     "output_type": "stream",
     "text": [
      "OrderedDict:\n",
      "\t[dp_prior_alpha] = NumericArrayPattern (1,) (lb=0.0, ub=inf)\n",
      "\t[allele_prior_alpha] = NumericArrayPattern (1,) (lb=0.0, ub=inf)\n",
      "\t[allele_prior_beta] = NumericArrayPattern (1,) (lb=0.0, ub=inf)\n"
     ]
    }
   ],
   "source": [
    "prior_params_dict, prior_params_paragami = \\\n",
    "    structure_model_lib.get_default_prior_params()\n",
    "\n",
    "print(prior_params_paragami)\n",
    "\n",
    "prior_params_free = prior_params_paragami.flatten(prior_params_dict, free = True)"
   ]
  },
  {
   "cell_type": "code",
   "execution_count": 8,
   "metadata": {},
   "outputs": [
    {
     "name": "stdout",
     "output_type": "stream",
     "text": [
      "{'dp_prior_alpha': DeviceArray([3.], dtype=float64), 'allele_prior_alpha': DeviceArray([1.], dtype=float64), 'allele_prior_beta': DeviceArray([1.], dtype=float64)}\n"
     ]
    }
   ],
   "source": [
    "print(prior_params_dict)"
   ]
  },
  {
   "cell_type": "code",
   "execution_count": null,
   "metadata": {},
   "outputs": [],
   "source": []
  },
  {
   "cell_type": "markdown",
   "metadata": {},
   "source": [
    "# Get VB params "
   ]
  },
  {
   "cell_type": "code",
   "execution_count": 9,
   "metadata": {},
   "outputs": [],
   "source": [
    "k_approx = 12"
   ]
  },
  {
   "cell_type": "code",
   "execution_count": 10,
   "metadata": {},
   "outputs": [],
   "source": [
    "gh_deg = 8\n",
    "gh_loc, gh_weights = hermgauss(8)"
   ]
  },
  {
   "cell_type": "code",
   "execution_count": 11,
   "metadata": {
    "scrolled": true
   },
   "outputs": [
    {
     "name": "stdout",
     "output_type": "stream",
     "text": [
      "OrderedDict:\n",
      "\t[pop_freq_beta_params] = NumericArrayPattern (100, 12, 2) (lb=0.0, ub=inf)\n",
      "\t[ind_admix_params] = OrderedDict:\n",
      "\t[stick_means] = NumericArrayPattern (50, 11) (lb=-inf, ub=inf)\n",
      "\t[stick_infos] = NumericArrayPattern (50, 11) (lb=0.0001, ub=inf)\n"
     ]
    }
   ],
   "source": [
    "use_logitnormal_sticks = True\n",
    "\n",
    "vb_params_dict, vb_params_paragami = \\\n",
    "    structure_model_lib.get_vb_params_paragami_object(n_obs, n_loci, k_approx,\n",
    "                                    use_logitnormal_sticks = use_logitnormal_sticks)\n",
    "    \n",
    "print(vb_params_paragami)"
   ]
  },
  {
   "cell_type": "markdown",
   "metadata": {},
   "source": [
    "## Initialize "
   ]
  },
  {
   "cell_type": "code",
   "execution_count": 12,
   "metadata": {},
   "outputs": [],
   "source": [
    "vb_params_dict = \\\n",
    "        structure_model_lib.set_init_vb_params(g_obs, k_approx, vb_params_dict,\n",
    "                                                seed = 412)"
   ]
  },
  {
   "cell_type": "code",
   "execution_count": 13,
   "metadata": {},
   "outputs": [
    {
     "data": {
      "text/plain": [
       "Text(0.5, 0, 'individual')"
      ]
     },
     "execution_count": 13,
     "metadata": {},
     "output_type": "execute_result"
    },
    {
     "data": {
      "image/png": "[encoded data removed]",
      "text/plain": [
       "<Figure size 1152x276.48 with 1 Axes>"
      ]
     },
     "metadata": {
      "needs_background": "light"
     },
     "output_type": "display_data"
    }
   ],
   "source": [
    "plt.matshow(plotting_utils.get_vb_expectations(vb_params_dict, gh_loc, gh_weights)[0].transpose())\n",
    "plt.ylabel('population')\n",
    "plt.xlabel('individual')"
   ]
  },
  {
   "cell_type": "code",
   "execution_count": null,
   "metadata": {},
   "outputs": [],
   "source": []
  },
  {
   "cell_type": "code",
   "execution_count": null,
   "metadata": {},
   "outputs": [],
   "source": []
  },
  {
   "cell_type": "markdown",
   "metadata": {},
   "source": [
    "# Optimize"
   ]
  },
  {
   "cell_type": "code",
   "execution_count": 14,
   "metadata": {},
   "outputs": [],
   "source": [
    "from vb_lib.structure_optimization_lib import define_structure_objective\n",
    "from bnpmodeling_runjingdev.optimization_lib import run_lbfgs"
   ]
  },
  {
   "cell_type": "code",
   "execution_count": 15,
   "metadata": {},
   "outputs": [
    {
     "name": "stdout",
     "output_type": "stream",
     "text": [
      "Compiling objective ...\n",
      "Iter 0: f = 24736.73403702\n",
      "Compiling grad ...\n",
      "Compile time: 13.7598secs\n"
     ]
    }
   ],
   "source": [
    "optim_objective, init_vb_free = \\\n",
    "    define_structure_objective(g_obs, vb_params_dict,\n",
    "                        vb_params_paragami,\n",
    "                        prior_params_dict,\n",
    "                        gh_loc = gh_loc,\n",
    "                        gh_weights = gh_weights, \n",
    "                        compile_hvp=False)\n"
   ]
  },
  {
   "cell_type": "code",
   "execution_count": 16,
   "metadata": {},
   "outputs": [
    {
     "name": "stdout",
     "output_type": "stream",
     "text": [
      "\n",
      "Running L-BFGS-B ... \n",
      "Iter 0: f = 24736.73403702\n",
      "Iter 1: f = 24212.24771224\n",
      "Iter 2: f = 22279.25067619\n",
      "Iter 3: f = 13395.28862434\n",
      "Iter 4: f = 11284.19601086\n",
      "Iter 5: f = 9465.51542940\n",
      "Iter 6: f = 8839.73687140\n",
      "Iter 7: f = 8534.98787819\n",
      "Iter 8: f = 8414.33320181\n",
      "Iter 9: f = 8332.73361941\n",
      "Iter 10: f = 8276.12788903\n",
      "Iter 11: f = 8214.36824638\n",
      "Iter 12: f = 8157.15615512\n",
      "Iter 13: f = 8109.13835357\n",
      "Iter 14: f = 8043.31754647\n",
      "Iter 15: f = 8007.45961650\n",
      "Iter 16: f = 7966.38937010\n",
      "Iter 17: f = 7930.11321766\n",
      "Iter 18: f = 7906.79158355\n",
      "Iter 19: f = 7884.26972353\n",
      "Iter 20: f = 7860.15420362\n",
      "Iter 21: f = 7847.07830189\n",
      "Iter 22: f = 7833.57188568\n",
      "Iter 23: f = 7822.29281647\n",
      "Iter 24: f = 7815.69771715\n",
      "Iter 25: f = 7807.06442374\n",
      "Iter 26: f = 7798.54155658\n",
      "Iter 27: f = 7792.42944019\n",
      "Iter 28: f = 7786.05027929\n",
      "Iter 29: f = 7779.36362173\n",
      "Iter 30: f = 7772.67196105\n",
      "Iter 31: f = 7765.89897161\n",
      "Iter 32: f = 7759.92786323\n",
      "Iter 33: f = 7754.08883074\n",
      "Iter 34: f = 7750.15411281\n",
      "Iter 35: f = 7748.20992766\n",
      "Iter 36: f = 7745.56307256\n",
      "Iter 37: f = 7744.11399064\n",
      "Iter 38: f = 7741.91071529\n",
      "Iter 39: f = 7739.74229714\n",
      "Iter 40: f = 7736.48986732\n",
      "Iter 41: f = 7730.92716804\n",
      "Iter 42: f = 7724.02862264\n",
      "Iter 43: f = 7716.27818841\n",
      "Iter 44: f = 7706.59104646\n",
      "Iter 45: f = 7703.96493427\n",
      "Iter 46: f = 7691.38949975\n",
      "Iter 47: f = 7682.73576369\n",
      "Iter 48: f = 7673.85620570\n",
      "Iter 49: f = 7662.23182647\n",
      "Iter 50: f = 7651.89211667\n",
      "Iter 51: f = 7639.48473170\n",
      "Iter 52: f = 7624.74730915\n",
      "Iter 53: f = 7613.22591196\n",
      "Iter 54: f = 7598.45305497\n",
      "Iter 55: f = 7585.89146977\n",
      "Iter 56: f = 7577.12857505\n",
      "Iter 57: f = 7569.66163912\n",
      "Iter 58: f = 7564.25499101\n",
      "Iter 59: f = 7560.77676039\n",
      "Iter 60: f = 7557.69790052\n",
      "Iter 61: f = 7555.73931575\n",
      "Iter 62: f = 7554.34132444\n",
      "Iter 63: f = 7553.36230371\n",
      "Iter 64: f = 7552.71516966\n",
      "Iter 65: f = 7552.34331752\n",
      "Iter 66: f = 7552.14219530\n",
      "Iter 67: f = 7552.00360550\n",
      "Iter 68: f = 7551.92118550\n",
      "Iter 69: f = 7551.86684158\n",
      "Iter 70: f = 7551.84874715\n",
      "Iter 71: f = 7551.83621124\n",
      "Iter 72: f = 7551.82721517\n",
      "Iter 73: f = 7551.81964125\n",
      "Iter 74: f = 7551.81592934\n",
      "Iter 75: f = 7551.81232571\n",
      "Iter 76: f = 7551.81073620\n",
      "Iter 77: f = 7551.80835431\n",
      "Iter 78: f = 7551.80761444\n",
      "Iter 79: f = 7551.80692110\n",
      "Iter 80: f = 7551.80625789\n",
      "Iter 81: f = 7551.80574420\n",
      "Iter 82: f = 7551.80557460\n",
      "Iter 83: f = 7551.80537748\n",
      "Iter 84: f = 7551.80529303\n",
      "Iter 85: f = 7551.80516388\n",
      "Iter 86: f = 7551.80509870\n",
      "Iter 87: f = 7551.80504865\n",
      "Iter 88: f = 7551.80495327\n",
      "Iter 89: f = 7551.80506042\n",
      "Iter 90: f = 7551.80491913\n",
      "Iter 91: f = 7551.80487080\n",
      "Iter 92: f = 7551.80484145\n",
      "Iter 93: f = 7551.80482102\n",
      "Iter 94: f = 7551.80480376\n",
      "Iter 95: f = 7551.80479680\n",
      "done. Elapsed 4.59583secs\n",
      "Iter 96: f = 7551.80479680\n",
      "objective value:  7551.80479679529\n"
     ]
    }
   ],
   "source": [
    "out = run_lbfgs(optim_objective, init_vb_free)\n",
    "\n",
    "vb_opt = out.x\n",
    "vb_opt_dict = vb_params_paragami.fold(vb_opt, free = True)\n"
   ]
  },
  {
   "cell_type": "markdown",
   "metadata": {},
   "source": [
    "# Check out the fit"
   ]
  },
  {
   "cell_type": "code",
   "execution_count": 17,
   "metadata": {},
   "outputs": [
    {
     "data": {
      "text/plain": [
       "<matplotlib.image.AxesImage at 0x7fb5ff16e8b0>"
      ]
     },
     "execution_count": 17,
     "metadata": {},
     "output_type": "execute_result"
    },
    {
     "data": {
      "image/png": "[encoded data removed]",
      "text/plain": [
       "<Figure size 1152x144 with 1 Axes>"
      ]
     },
     "metadata": {
      "needs_background": "light"
     },
     "output_type": "display_data"
    }
   ],
   "source": [
    "# truth\n",
    "plt.matshow(true_ind_admix_propn.T)"
   ]
  },
  {
   "cell_type": "code",
   "execution_count": 19,
   "metadata": {},
   "outputs": [
    {
     "data": {
      "text/plain": [
       "<matplotlib.image.AxesImage at 0x7fb5fd47a670>"
      ]
     },
     "execution_count": 19,
     "metadata": {},
     "output_type": "execute_result"
    },
    {
     "data": {
      "image/png": "[encoded data removed]",
      "text/plain": [
       "<Figure size 1152x276.48 with 1 Axes>"
      ]
     },
     "metadata": {
      "needs_background": "light"
     },
     "output_type": "display_data"
    }
   ],
   "source": [
    "# fitted\n",
    "e_ind_admix = plotting_utils.get_vb_expectations(vb_opt_dict, gh_loc, gh_weights)[0]\n",
    "plt.matshow(e_ind_admix.T)"
   ]
  },
  {
   "cell_type": "code",
   "execution_count": null,
   "metadata": {},
   "outputs": [],
   "source": []
  },
  {
   "cell_type": "code",
   "execution_count": null,
   "metadata": {},
   "outputs": [],
   "source": []
  },
  {
   "cell_type": "markdown",
   "metadata": {},
   "source": [
    "# Define prior perturbation"
   ]
  },
  {
   "cell_type": "code",
   "execution_count": 20,
   "metadata": {},
   "outputs": [],
   "source": [
    "import bnpmodeling_runjingdev.functional_sensitivity_lib as func_sens_lib"
   ]
  },
  {
   "cell_type": "code",
   "execution_count": 21,
   "metadata": {},
   "outputs": [],
   "source": [
    "def log_phi(logit_v):\n",
    "    return(sp.special.expit(logit_v))\n",
    "\n",
    "def phi(logit_v):\n",
    "    return np.exp(log_phi(logit_v))"
   ]
  },
  {
   "cell_type": "code",
   "execution_count": 22,
   "metadata": {},
   "outputs": [
    {
     "name": "stdout",
     "output_type": "stream",
     "text": [
      "phi max:  2.717370405124736\n",
      "log phi max:  0.9996646498695336\n"
     ]
    }
   ],
   "source": [
    "logit_v_grid = np.linspace(-8, 8, 200)\n",
    "\n",
    "v_grid = np.exp(logit_v_grid) / (1 + np.exp(logit_v_grid))\n",
    "\n",
    "print('phi max: ', np.max(phi(logit_v_grid)))\n",
    "log_phi_max = np.max(np.abs(np.log(phi(logit_v_grid))))\n",
    "print('log phi max: ', log_phi_max)\n",
    "\n",
    "def rescaled_log_phi(logit_v):\n",
    "    return 5 *  log_phi(logit_v) / log_phi_max\n"
   ]
  },
  {
   "cell_type": "code",
   "execution_count": 23,
   "metadata": {},
   "outputs": [
    {
     "name": "stdout",
     "output_type": "stream",
     "text": [
      "-1.0986122886681098 1.8311443398901506 -1.0996184973479006 1.8319892519619725\n"
     ]
    }
   ],
   "source": [
    "prior_perturbation = func_sens_lib.PriorPerturbation(\n",
    "                                alpha0 = prior_params_dict['dp_prior_alpha'],\n",
    "                                log_phi = rescaled_log_phi, \n",
    "                                logit_v_ub=8, logit_v_lb = -8)\n",
    "\n",
    "print(\n",
    "    prior_perturbation.log_norm_p0,\n",
    "    prior_perturbation.log_norm_pc,\n",
    "    prior_perturbation.log_norm_p0_logit,\n",
    "    prior_perturbation.log_norm_pc_logit)\n"
   ]
  },
  {
   "cell_type": "code",
   "execution_count": 24,
   "metadata": {},
   "outputs": [
    {
     "data": {
      "text/plain": [
       "Text(0.5, 1.0, 'Priors in logit space')"
      ]
     },
     "execution_count": 24,
     "metadata": {},
     "output_type": "execute_result"
    },
    {
     "data": {
      "image/png": "[encoded data removed]",
      "text/plain": [
       "<Figure size 1296x360 with 4 Axes>"
      ]
     },
     "metadata": {
      "needs_background": "light"
     },
     "output_type": "display_data"
    }
   ],
   "source": [
    "prior_perturbation.set_epsilon(1.0)\n",
    "\n",
    "plt.figure(1, figsize=(18, 5))\n",
    "\n",
    "plt.subplot(141)\n",
    "plt.plot(logit_v_grid, prior_perturbation.get_log_p0_logit(logit_v_grid))\n",
    "plt.plot(logit_v_grid, prior_perturbation.get_log_pc_logit(logit_v_grid))\n",
    "plt.title('Log priors in logit space')\n",
    "\n",
    "plt.subplot(142)\n",
    "plt.plot(logit_v_grid, prior_perturbation.log_phi(logit_v_grid))\n",
    "plt.title('log phi in logit space')\n",
    "\n",
    "plt.subplot(143)\n",
    "plt.plot(v_grid, np.exp(prior_perturbation.get_log_p0(v_grid)))\n",
    "plt.plot(v_grid, np.exp(prior_perturbation.get_log_pc(v_grid)))\n",
    "plt.title('Priors in stick space')\n",
    "\n",
    "plt.subplot(144)\n",
    "plt.plot(logit_v_grid, np.exp(prior_perturbation.get_log_p0_logit(logit_v_grid)))\n",
    "plt.plot(logit_v_grid, np.exp(prior_perturbation.get_log_pc_logit(logit_v_grid)))\n",
    "plt.title('Priors in logit space')\n"
   ]
  },
  {
   "cell_type": "code",
   "execution_count": 25,
   "metadata": {},
   "outputs": [],
   "source": [
    "log_prior_pert = lambda logit_v : rescaled_log_phi(logit_v) - prior_perturbation.log_norm_pc_logit"
   ]
  },
  {
   "cell_type": "code",
   "execution_count": 26,
   "metadata": {},
   "outputs": [
    {
     "data": {
      "text/plain": [
       "DeviceArray(1.83198925, dtype=float64)"
      ]
     },
     "execution_count": 26,
     "metadata": {},
     "output_type": "execute_result"
    }
   ],
   "source": [
    "prior_perturbation.log_norm_pc_logit"
   ]
  },
  {
   "cell_type": "code",
   "execution_count": 27,
   "metadata": {},
   "outputs": [],
   "source": [
    "# we will use theses for the sensitivity class\n",
    "get_epsilon_vb_loss = paragami.FlattenFunctionInput(\n",
    "    lambda params, epsilon: structure_model_lib.get_kl(\n",
    "                                                        g_obs, \n",
    "                                                        params,\n",
    "                                                        prior_params_dict,\n",
    "                                                        epsilon = epsilon,\n",
    "                                                        gh_loc = gh_loc,\n",
    "                                                        gh_weights = gh_weights,\n",
    "                                                        log_phi = log_prior_pert,\n",
    "                                                        ),\n",
    "    argnums=0, patterns=vb_params_paragami, free=True)\n",
    "    \n",
    "def get_e_log_perturbation(log_phi, vb_params_dict, epsilon, gh_loc, gh_weights): \n",
    "    return func_sens_lib.get_e_log_perturbation(log_phi,\n",
    "                            vb_params_dict['ind_admix_params']['stick_means'],\n",
    "                            vb_params_dict['ind_admix_params']['stick_infos'],\n",
    "                            epsilon, gh_loc, gh_weights, sum_vector=True)\n",
    "\n",
    "\n",
    "hyper_par_objective_fun = paragami.FlattenFunctionInput(\n",
    "    lambda params, epsilon: get_e_log_perturbation(log_prior_pert, \n",
    "                                                    params,\n",
    "                                                    epsilon,\n",
    "                                                    gh_loc, gh_weights),\n",
    "    argnums=0, patterns=vb_params_paragami, free=True)"
   ]
  },
  {
   "cell_type": "code",
   "execution_count": 28,
   "metadata": {},
   "outputs": [],
   "source": [
    "epsilon0 = np.array([0.])"
   ]
  },
  {
   "cell_type": "code",
   "execution_count": 29,
   "metadata": {},
   "outputs": [
    {
     "name": "stdout",
     "output_type": "stream",
     "text": [
      "preconditioner time: 1.37sec\n"
     ]
    }
   ],
   "source": [
    "# define preconditioner\n",
    "cg_precond = lambda v : get_mfvb_cov_matmul(v, vb_opt_dict,\n",
    "                                            vb_params_paragami,\n",
    "                                            return_info = True)\n",
    "t0 = time.time()\n",
    "_ = cg_precond(vb_opt)\n",
    "print('preconditioner time: {:0.3}sec'.format(time.time() - t0))"
   ]
  },
  {
   "cell_type": "code",
   "execution_count": 30,
   "metadata": {},
   "outputs": [
    {
     "name": "stdout",
     "output_type": "stream",
     "text": [
      "Compiling hessian solver ...\n",
      "Hessian solver compile time: 81.4011sec\n",
      "\n",
      "Compiling cross hessian...\n",
      "Cross-hessian compile time: 1.34551sec\n",
      "\n",
      "LR sensitivity time: 0.805721sec\n",
      "\n"
     ]
    }
   ],
   "source": [
    "epsilon_sens = HyperparameterSensitivityLinearApproximation(get_epsilon_vb_loss,\n",
    "                                                        vb_opt,\n",
    "                                                        epsilon0, \n",
    "                                                        hyper_par_objective_fun = hyper_par_objective_fun, \n",
    "                                                        cg_precond=cg_precond)\n"
   ]
  },
  {
   "cell_type": "code",
   "execution_count": null,
   "metadata": {},
   "outputs": [],
   "source": []
  },
  {
   "cell_type": "code",
   "execution_count": null,
   "metadata": {},
   "outputs": [],
   "source": []
  },
  {
   "cell_type": "markdown",
   "metadata": {},
   "source": [
    "# Fit with perturbation"
   ]
  },
  {
   "cell_type": "code",
   "execution_count": 31,
   "metadata": {},
   "outputs": [
    {
     "name": "stdout",
     "output_type": "stream",
     "text": [
      "Epsilon:  1.0\n",
      "Predicted differences:  31.58498778020348\n"
     ]
    }
   ],
   "source": [
    "epsilon = 1.0\n",
    "print('Epsilon: ', epsilon)\n",
    "\n",
    "lr_vb_free_params = epsilon_sens.predict_opt_par_from_hyper_par(epsilon)\n",
    "\n",
    "print('Predicted differences: ', np.linalg.norm(lr_vb_free_params - vb_opt))"
   ]
  },
  {
   "cell_type": "code",
   "execution_count": 32,
   "metadata": {},
   "outputs": [],
   "source": [
    "vb_pert_pred_dict = vb_params_paragami.fold(lr_vb_free_params, free = True)"
   ]
  },
  {
   "cell_type": "code",
   "execution_count": 33,
   "metadata": {},
   "outputs": [],
   "source": [
    "new_init_dict = deepcopy(vb_opt_dict)\n",
    "new_init_free = vb_params_paragami.flatten(new_init_dict, free = True)"
   ]
  },
  {
   "cell_type": "code",
   "execution_count": 34,
   "metadata": {},
   "outputs": [
    {
     "name": "stdout",
     "output_type": "stream",
     "text": [
      "Compiling objective ...\n",
      "Iter 0: f = 7433.79796657\n",
      "Compiling grad ...\n",
      "Compile time: 12.9736secs\n"
     ]
    }
   ],
   "source": [
    "optim_objective_pert, _ = \\\n",
    "    define_structure_objective(g_obs, new_init_dict,\n",
    "                        vb_params_paragami,\n",
    "                        prior_params_dict,\n",
    "                        gh_loc = gh_loc,\n",
    "                        gh_weights = gh_weights,\n",
    "                        log_phi = log_prior_pert, \n",
    "                        epsilon = epsilon, \n",
    "                        compile_hvp=False)\n"
   ]
  },
  {
   "cell_type": "code",
   "execution_count": 35,
   "metadata": {},
   "outputs": [
    {
     "name": "stdout",
     "output_type": "stream",
     "text": [
      "\n",
      "Running L-BFGS-B ... \n",
      "Iter 0: f = 7433.79796657\n",
      "Iter 1: f = 7416.08530178\n",
      "Iter 2: f = 7360.31339671\n",
      "Iter 3: f = 7283.41486114\n",
      "Iter 4: f = 7267.97888772\n",
      "Iter 5: f = 7247.46325403\n",
      "Iter 6: f = 7246.13648690\n",
      "Iter 7: f = 7243.67361098\n",
      "Iter 8: f = 7242.46173560\n",
      "Iter 9: f = 7240.93466513\n",
      "Iter 10: f = 7238.58219929\n",
      "Iter 11: f = 7237.75982090\n",
      "Iter 12: f = 7237.37548867\n",
      "Iter 13: f = 7236.98876573\n",
      "Iter 14: f = 7236.84120720\n",
      "Iter 15: f = 7236.61778833\n",
      "Iter 16: f = 7236.64848791\n",
      "Iter 17: f = 7236.51874087\n",
      "Iter 18: f = 7236.40456741\n",
      "Iter 19: f = 7236.31071046\n",
      "Iter 20: f = 7236.21694881\n",
      "Iter 21: f = 7236.14292742\n",
      "Iter 22: f = 7236.07774973\n",
      "Iter 23: f = 7236.03484895\n",
      "Iter 24: f = 7236.00987667\n",
      "Iter 25: f = 7235.98665878\n",
      "Iter 26: f = 7235.96907599\n",
      "Iter 27: f = 7235.96097082\n",
      "Iter 28: f = 7235.95160522\n",
      "Iter 29: f = 7235.94733823\n",
      "Iter 30: f = 7235.93671365\n",
      "Iter 31: f = 7235.93053991\n",
      "Iter 32: f = 7235.92284226\n",
      "Iter 33: f = 7235.91207196\n",
      "Iter 34: f = 7235.92580726\n",
      "Iter 35: f = 7235.90837986\n",
      "Iter 36: f = 7235.90412411\n",
      "Iter 37: f = 7235.90217476\n",
      "Iter 38: f = 7235.90028275\n",
      "Iter 39: f = 7235.89951039\n",
      "Iter 40: f = 7235.89826787\n",
      "Iter 41: f = 7235.89785404\n",
      "Iter 42: f = 7235.89748288\n",
      "Iter 43: f = 7235.89693970\n",
      "Iter 44: f = 7235.89755782\n",
      "Iter 45: f = 7235.89677926\n",
      "Iter 46: f = 7235.89659635\n",
      "Iter 47: f = 7235.89651515\n",
      "Iter 48: f = 7235.89644206\n",
      "Iter 49: f = 7235.89641865\n",
      "Iter 50: f = 7235.89637489\n",
      "Iter 51: f = 7235.89636017\n",
      "done. Elapsed 2.4903secs\n",
      "Iter 52: f = 7235.89636017\n",
      "objective value:  7235.896360168728\n"
     ]
    }
   ],
   "source": [
    "out = run_lbfgs(optim_objective_pert, new_init_free)\n",
    "\n",
    "vb_opt_pert = out.x\n",
    "vb_pert_dict = vb_params_paragami.fold(vb_opt_pert, free = True)"
   ]
  },
  {
   "cell_type": "code",
   "execution_count": 36,
   "metadata": {},
   "outputs": [
    {
     "data": {
      "text/plain": [
       "DeviceArray(25.49542812, dtype=float64)"
      ]
     },
     "execution_count": 36,
     "metadata": {},
     "output_type": "execute_result"
    }
   ],
   "source": [
    "np.linalg.norm(vb_opt_pert - vb_opt)"
   ]
  },
  {
   "cell_type": "code",
   "execution_count": null,
   "metadata": {},
   "outputs": [],
   "source": []
  },
  {
   "cell_type": "markdown",
   "metadata": {},
   "source": [
    "### compare"
   ]
  },
  {
   "cell_type": "code",
   "execution_count": 37,
   "metadata": {},
   "outputs": [],
   "source": [
    "def print_diff_plot(lr_vb_free_params, vb_opt_pert, vb_opt): \n",
    "    plt.plot((lr_vb_free_params - vb_opt), \n",
    "             vb_opt_pert - vb_opt, \n",
    "             '+', color = 'red')\n",
    "\n",
    "    plt.plot(lr_vb_free_params - vb_opt, \n",
    "            lr_vb_free_params - vb_opt, \n",
    "             '-', color = 'blue')\n",
    "\n",
    "    plt.xlabel('lr')\n",
    "    plt.ylabel('re-optimized')\n"
   ]
  },
  {
   "cell_type": "code",
   "execution_count": 38,
   "metadata": {},
   "outputs": [
    {
     "data": {
      "image/png": "[encoded data removed]",
      "text/plain": [
       "<Figure size 432x288 with 1 Axes>"
      ]
     },
     "metadata": {
      "needs_background": "light"
     },
     "output_type": "display_data"
    }
   ],
   "source": [
    "# compare free parameters\n",
    "print_diff_plot(lr_vb_free_params, vb_opt_pert, vb_opt)"
   ]
  },
  {
   "cell_type": "code",
   "execution_count": 39,
   "metadata": {},
   "outputs": [],
   "source": [
    "# compare expectations\n",
    "init_e_ind_admix, init_e_pop_freq = plotting_utils.get_vb_expectations(vb_opt_dict, gh_loc, gh_weights)\n",
    "pert_e_ind_admix, pert_e_pop_freq = plotting_utils.get_vb_expectations(vb_pert_dict, gh_loc, gh_weights)\n",
    "lr_e_ind_admix, lr_e_pop_freq = plotting_utils.get_vb_expectations(\n",
    "                                                    vb_params_paragami.fold(lr_vb_free_params, free = True), \n",
    "                                                    gh_loc, gh_weights)"
   ]
  },
  {
   "cell_type": "code",
   "execution_count": 40,
   "metadata": {},
   "outputs": [
    {
     "data": {
      "image/png": "[encoded data removed]",
      "text/plain": [
       "<Figure size 432x288 with 1 Axes>"
      ]
     },
     "metadata": {
      "needs_background": "light"
     },
     "output_type": "display_data"
    }
   ],
   "source": [
    "print_diff_plot(lr_e_ind_admix, pert_e_ind_admix, init_e_ind_admix)"
   ]
  },
  {
   "cell_type": "code",
   "execution_count": 41,
   "metadata": {},
   "outputs": [
    {
     "data": {
      "image/png": "[encoded data removed]",
      "text/plain": [
       "<Figure size 432x288 with 1 Axes>"
      ]
     },
     "metadata": {
      "needs_background": "light"
     },
     "output_type": "display_data"
    }
   ],
   "source": [
    "print_diff_plot(lr_e_pop_freq, pert_e_pop_freq, init_e_pop_freq)"
   ]
  },
  {
   "cell_type": "code",
   "execution_count": 42,
   "metadata": {},
   "outputs": [
    {
     "name": "stdout",
     "output_type": "stream",
     "text": [
      "init number of cluster:  5.577588359869459\n",
      "pert number of cluster:  6.044130783860375\n",
      "lr number of cluster:  5.6911500803824016\n"
     ]
    }
   ],
   "source": [
    "print('init number of cluster: ', cluster_quantities_lib.get_e_num_clusters_from_ez(init_e_ind_admix))\n",
    "\n",
    "print('pert number of cluster: ', cluster_quantities_lib.get_e_num_clusters_from_ez(pert_e_ind_admix))\n",
    "print('lr number of cluster: ', cluster_quantities_lib.get_e_num_clusters_from_ez(lr_e_ind_admix))"
   ]
  },
  {
   "cell_type": "code",
   "execution_count": null,
   "metadata": {},
   "outputs": [],
   "source": []
  },
  {
   "cell_type": "code",
   "execution_count": null,
   "metadata": {},
   "outputs": [],
   "source": []
  },
  {
   "cell_type": "code",
   "execution_count": null,
   "metadata": {},
   "outputs": [],
   "source": []
  },
  {
   "cell_type": "markdown",
   "metadata": {},
   "source": [
    "# Fit for a range of epsilon"
   ]
  },
  {
   "cell_type": "code",
   "execution_count": 44,
   "metadata": {},
   "outputs": [
    {
     "name": "stdout",
     "output_type": "stream",
     "text": [
      "[0.         0.02040816 0.08163265 0.18367347 0.32653061 0.51020408\n",
      " 0.73469388 1.        ]\n"
     ]
    }
   ],
   "source": [
    "epsilon_list = np.linspace(0, 1, 8) ** 2 # Square to get more points close to 0\n",
    "print(epsilon_list)"
   ]
  },
  {
   "cell_type": "code",
   "execution_count": 45,
   "metadata": {},
   "outputs": [],
   "source": [
    "def refit_with_epsilon(epsilon, new_init_dict):\n",
    "    # sets new epsilon, returns new vb optimum\n",
    "    \n",
    "    optim_objective_pert, new_init_free = \\\n",
    "        define_structure_objective(g_obs, new_init_dict,\n",
    "                            vb_params_paragami,\n",
    "                            prior_params_dict,\n",
    "                            gh_loc = gh_loc,\n",
    "                            gh_weights = gh_weights,\n",
    "                            log_phi = log_prior_pert, \n",
    "                            epsilon = epsilon, \n",
    "                            compile_hvp=False)\n",
    "    \n",
    "    out = run_lbfgs(optim_objective_pert, new_init_free)\n",
    "        \n",
    "    return out.x\n"
   ]
  },
  {
   "cell_type": "code",
   "execution_count": 46,
   "metadata": {},
   "outputs": [
    {
     "name": "stdout",
     "output_type": "stream",
     "text": [
      "epsilons:  [0.         0.02040816 0.08163265 0.18367347 0.32653061 0.51020408\n",
      " 0.73469388 1.        ]\n"
     ]
    }
   ],
   "source": [
    "print('epsilons: ', epsilon_list)"
   ]
  },
  {
   "cell_type": "code",
   "execution_count": 47,
   "metadata": {},
   "outputs": [
    {
     "name": "stdout",
     "output_type": "stream",
     "text": [
      "\n",
      " re-optimzing with epsilon =  0.0\n",
      "Compiling objective ...\n",
      "Iter 0: f = 7551.80479680\n",
      "Compiling grad ...\n",
      "Compile time: 12.7022secs\n",
      "\n",
      "Running L-BFGS-B ... \n",
      "Iter 0: f = 7551.80479680\n",
      "Iter 1: f = 7553.88601523\n",
      "Iter 2: f = 7551.80479229\n",
      "done. Elapsed 0.175316secs\n",
      "Iter 3: f = 7551.80479229\n",
      "objective value:  7551.804792288652\n",
      "\n",
      " re-optimzing with epsilon =  0.02040816326530612\n",
      "Compiling objective ...\n",
      "Iter 0: f = 7549.39649414\n",
      "Compiling grad ...\n",
      "Compile time: 12.9256secs\n",
      "\n",
      "Running L-BFGS-B ... \n",
      "Iter 0: f = 7549.39649414\n",
      "Iter 1: f = 7549.67796477\n",
      "Iter 2: f = 7549.34264582\n",
      "Iter 3: f = 7549.32078048\n",
      "Iter 4: f = 7549.30419307\n",
      "Iter 5: f = 7549.30010406\n",
      "Iter 6: f = 7549.29731387\n",
      "Iter 7: f = 7549.29665668\n",
      "Iter 8: f = 7549.29577172\n",
      "Iter 9: f = 7549.29511239\n",
      "Iter 10: f = 7549.29424768\n",
      "Iter 11: f = 7549.29309228\n",
      "Iter 12: f = 7549.29485639\n",
      "Iter 13: f = 7549.29279403\n",
      "Iter 14: f = 7549.29223970\n",
      "Iter 15: f = 7549.29206672\n",
      "Iter 16: f = 7549.29195310\n",
      "Iter 17: f = 7549.29191200\n",
      "Iter 18: f = 7549.29185531\n",
      "Iter 19: f = 7549.29182512\n",
      "Iter 20: f = 7549.29179769\n",
      "Iter 21: f = 7549.29174914\n",
      "Iter 22: f = 7549.29180155\n",
      "Iter 23: f = 7549.29173036\n",
      "Iter 24: f = 7549.29170865\n",
      "Iter 25: f = 7549.29169635\n",
      "done. Elapsed 1.25565secs\n",
      "Iter 26: f = 7549.29169635\n",
      "objective value:  7549.29169635239\n",
      "\n",
      " re-optimzing with epsilon =  0.08163265306122448\n",
      "Compiling objective ...\n",
      "Iter 0: f = 7542.17158616\n",
      "Compiling grad ...\n",
      "Compile time: 12.6062secs\n",
      "\n",
      "Running L-BFGS-B ... \n",
      "Iter 0: f = 7542.17158616\n",
      "Iter 1: f = 7541.32729056\n",
      "Iter 2: f = 7540.96243103\n",
      "Iter 3: f = 7540.69413560\n",
      "Iter 4: f = 7540.63961819\n",
      "Iter 5: f = 7540.59801669\n",
      "Iter 6: f = 7540.58831416\n",
      "Iter 7: f = 7540.57669768\n",
      "Iter 8: f = 7540.56415852\n",
      "Iter 9: f = 7540.55125160\n",
      "Iter 10: f = 7540.53188239\n",
      "Iter 11: f = 7540.56392260\n",
      "Iter 12: f = 7540.52742789\n",
      "Iter 13: f = 7540.51953693\n",
      "Iter 14: f = 7540.51682725\n",
      "Iter 15: f = 7540.51500138\n",
      "Iter 16: f = 7540.51408649\n",
      "Iter 17: f = 7540.51324684\n",
      "Iter 18: f = 7540.51264355\n",
      "Iter 19: f = 7540.51210006\n",
      "Iter 20: f = 7540.51138536\n",
      "Iter 21: f = 7540.51071330\n",
      "Iter 22: f = 7540.51048666\n",
      "Iter 23: f = 7540.51025611\n",
      "Iter 24: f = 7540.51009040\n",
      "Iter 25: f = 7540.50993393\n",
      "Iter 26: f = 7540.50983014\n",
      "Iter 27: f = 7540.50977541\n",
      "Iter 28: f = 7540.50970880\n",
      "Iter 29: f = 7540.50965907\n",
      "Iter 30: f = 7540.50961692\n",
      "Iter 31: f = 7540.50958923\n",
      "Iter 32: f = 7540.50954979\n",
      "Iter 33: f = 7540.50954358\n",
      "done. Elapsed 1.62008secs\n",
      "Iter 34: f = 7540.50954358\n",
      "objective value:  7540.509543576564\n",
      "\n",
      " re-optimzing with epsilon =  0.18367346938775508\n",
      "Compiling objective ...\n",
      "Iter 0: f = 7530.13007288\n",
      "Compiling grad ...\n",
      "Compile time: 12.6159secs\n",
      "\n",
      "Running L-BFGS-B ... \n",
      "Iter 0: f = 7530.13007288\n",
      "Iter 1: f = 7527.41136551\n",
      "Iter 2: f = 7524.11519371\n",
      "Iter 3: f = 7523.63505570\n",
      "Iter 4: f = 7522.50562228\n",
      "Iter 5: f = 7522.39765942\n",
      "Iter 6: f = 7522.26540867\n",
      "Iter 7: f = 7522.21491147\n",
      "Iter 8: f = 7522.14651628\n",
      "Iter 9: f = 7522.03199621\n",
      "Iter 10: f = 7521.98705015\n",
      "Iter 11: f = 7521.94670930\n",
      "Iter 12: f = 7521.92754122\n",
      "Iter 13: f = 7521.91320193\n",
      "Iter 14: f = 7521.90462925\n",
      "Iter 15: f = 7521.89887249\n",
      "Iter 16: f = 7521.89473274\n",
      "Iter 17: f = 7521.89100196\n",
      "Iter 18: f = 7521.88616694\n",
      "Iter 19: f = 7521.88122095\n",
      "Iter 20: f = 7521.87898105\n",
      "Iter 21: f = 7521.87635627\n",
      "Iter 22: f = 7521.87550976\n",
      "Iter 23: f = 7521.87358174\n",
      "Iter 24: f = 7521.87280442\n",
      "Iter 25: f = 7521.87207617\n",
      "Iter 26: f = 7521.87099543\n",
      "Iter 27: f = 7521.87187444\n",
      "Iter 28: f = 7521.87051769\n",
      "Iter 29: f = 7521.86986458\n",
      "Iter 30: f = 7521.86938605\n",
      "Iter 31: f = 7521.86873451\n",
      "Iter 32: f = 7521.86822894\n",
      "Iter 33: f = 7521.86773560\n",
      "Iter 34: f = 7521.86728613\n",
      "Iter 35: f = 7521.86696396\n",
      "Iter 36: f = 7521.86683095\n",
      "Iter 37: f = 7521.86622175\n",
      "Iter 38: f = 7521.86606594\n",
      "Iter 39: f = 7521.86574772\n",
      "Iter 40: f = 7521.86531220\n",
      "Iter 41: f = 7521.86474786\n",
      "Iter 42: f = 7521.86418505\n",
      "Iter 43: f = 7521.86356326\n",
      "Iter 44: f = 7521.86317414\n",
      "Iter 45: f = 7521.86291043\n",
      "Iter 46: f = 7521.86236689\n",
      "Iter 47: f = 7521.86212961\n",
      "Iter 48: f = 7521.86186962\n",
      "Iter 49: f = 7521.86141530\n",
      "Iter 50: f = 7521.86122190\n",
      "Iter 51: f = 7521.86086853\n",
      "Iter 52: f = 7521.86064231\n",
      "Iter 53: f = 7521.86039962\n",
      "Iter 54: f = 7521.86025683\n",
      "Iter 55: f = 7521.86013507\n",
      "Iter 56: f = 7521.86000424\n",
      "Iter 57: f = 7521.85988604\n",
      "Iter 58: f = 7521.85982639\n",
      "Iter 59: f = 7521.85977288\n",
      "Iter 60: f = 7521.85974847\n",
      "Iter 61: f = 7521.85970685\n",
      "Iter 62: f = 7521.85968987\n",
      "Iter 63: f = 7521.85966990\n",
      "Iter 64: f = 7521.85964128\n",
      "Iter 65: f = 7521.85963150\n",
      "done. Elapsed 3.14143secs\n",
      "Iter 66: f = 7521.85963150\n",
      "objective value:  7521.859631502502\n",
      "\n",
      " re-optimzing with epsilon =  0.32653061224489793\n",
      "Compiling objective ...\n",
      "Iter 0: f = 7513.27195427\n",
      "Compiling grad ...\n",
      "Compile time: 12.945secs\n",
      "\n",
      "Running L-BFGS-B ... \n",
      "Iter 0: f = 7513.27195427\n",
      "Iter 1: f = 7507.92926378\n",
      "Iter 2: f = 7494.79873897\n",
      "Iter 3: f = 7498.28342236\n",
      "Iter 4: f = 7490.71993367\n",
      "Iter 5: f = 7489.86029048\n",
      "Iter 6: f = 7489.36352045\n",
      "Iter 7: f = 7489.16156866\n",
      "Iter 8: f = 7488.99744082\n",
      "Iter 9: f = 7488.78365179\n",
      "Iter 10: f = 7488.55458281\n",
      "Iter 11: f = 7488.49492599\n",
      "Iter 12: f = 7488.22950775\n",
      "Iter 13: f = 7488.18700913\n",
      "Iter 14: f = 7488.14194402\n",
      "Iter 15: f = 7488.10243702\n",
      "Iter 16: f = 7488.07782161\n",
      "Iter 17: f = 7488.06044011\n",
      "Iter 18: f = 7488.04755187\n",
      "Iter 19: f = 7488.03102802\n",
      "Iter 20: f = 7488.02003555\n",
      "Iter 21: f = 7487.99294680\n",
      "Iter 22: f = 7487.98334488\n",
      "Iter 23: f = 7487.97329595\n",
      "Iter 24: f = 7487.95989363\n",
      "Iter 25: f = 7487.95353955\n",
      "Iter 26: f = 7487.94174118\n",
      "Iter 27: f = 7487.93633101\n",
      "Iter 28: f = 7487.92747301\n",
      "Iter 29: f = 7487.91831764\n",
      "Iter 30: f = 7487.90449716\n",
      "Iter 31: f = 7487.89466705\n",
      "Iter 32: f = 7487.88424748\n",
      "Iter 33: f = 7487.87294004\n",
      "Iter 34: f = 7487.86385050\n",
      "Iter 35: f = 7487.85853158\n",
      "Iter 36: f = 7487.85469061\n",
      "Iter 37: f = 7487.85170275\n",
      "Iter 38: f = 7487.84882236\n",
      "Iter 39: f = 7487.84711837\n",
      "Iter 40: f = 7487.84544610\n",
      "Iter 41: f = 7487.84381052\n",
      "Iter 42: f = 7487.84241945\n",
      "Iter 43: f = 7487.84154600\n",
      "Iter 44: f = 7487.84105527\n",
      "Iter 45: f = 7487.84052837\n",
      "Iter 46: f = 7487.84026131\n",
      "Iter 47: f = 7487.83992514\n",
      "Iter 48: f = 7487.83969783\n",
      "Iter 49: f = 7487.83950784\n",
      "Iter 50: f = 7487.83938308\n",
      "Iter 51: f = 7487.83914836\n",
      "Iter 52: f = 7487.83906470\n",
      "Iter 53: f = 7487.83895585\n",
      "Iter 54: f = 7487.83888273\n",
      "Iter 55: f = 7487.83876703\n",
      "Iter 56: f = 7487.83870767\n",
      "Iter 57: f = 7487.83865650\n",
      "Iter 58: f = 7487.83858311\n",
      "Iter 59: f = 7487.83859894\n",
      "Iter 60: f = 7487.83854877\n",
      "Iter 61: f = 7487.83852344\n",
      "Iter 62: f = 7487.83850640\n",
      "Iter 63: f = 7487.83848848\n",
      "Iter 64: f = 7487.83847355\n",
      "done. Elapsed 3.12344secs\n",
      "Iter 65: f = 7487.83847355\n",
      "objective value:  7487.838473554232\n",
      "\n",
      " re-optimzing with epsilon =  0.5102040816326531\n",
      "Compiling objective ...\n",
      "Iter 0: f = 7491.59723035\n",
      "Compiling grad ...\n",
      "Compile time: 12.6913secs\n",
      "\n",
      "Running L-BFGS-B ... \n",
      "Iter 0: f = 7491.59723035\n",
      "Iter 1: f = 7482.88089715\n",
      "Iter 2: f = 7448.35350232\n",
      "Iter 3: f = 7463.87850133\n",
      "Iter 4: f = 7438.53674087\n",
      "Iter 5: f = 7436.74632746\n",
      "Iter 6: f = 7435.76207804\n",
      "Iter 7: f = 7435.27351602\n",
      "Iter 8: f = 7434.86993757\n",
      "Iter 9: f = 7434.34766756\n",
      "Iter 10: f = 7433.78598016\n",
      "Iter 11: f = 7433.60320889\n",
      "Iter 12: f = 7433.21750954\n",
      "Iter 13: f = 7433.13603122\n",
      "Iter 14: f = 7433.03488828\n",
      "Iter 15: f = 7432.94746567\n",
      "Iter 16: f = 7432.86717908\n",
      "Iter 17: f = 7432.82893717\n",
      "Iter 18: f = 7432.77127105\n",
      "Iter 19: f = 7432.70109369\n",
      "Iter 20: f = 7432.61414116\n",
      "Iter 21: f = 7432.53306028\n",
      "Iter 22: f = 7432.48312421\n",
      "Iter 23: f = 7432.44809653\n",
      "Iter 24: f = 7432.41664327\n",
      "Iter 25: f = 7432.39024024\n",
      "Iter 26: f = 7432.37661913\n",
      "Iter 27: f = 7432.35712276\n",
      "Iter 28: f = 7432.34904663\n",
      "Iter 29: f = 7432.34114016\n",
      "Iter 30: f = 7432.33032598\n",
      "Iter 31: f = 7432.32385331\n",
      "Iter 32: f = 7432.31880690\n",
      "Iter 33: f = 7432.31653103\n",
      "Iter 34: f = 7432.31437757\n",
      "Iter 35: f = 7432.31425062\n",
      "Iter 36: f = 7432.31320084\n",
      "Iter 37: f = 7432.31242129\n",
      "Iter 38: f = 7432.31210726\n",
      "Iter 39: f = 7432.31184086\n",
      "Iter 40: f = 7432.31163748\n",
      "Iter 41: f = 7432.31150779\n",
      "Iter 42: f = 7432.31140383\n",
      "Iter 43: f = 7432.31130285\n",
      "Iter 44: f = 7432.31125183\n",
      "Iter 45: f = 7432.31118619\n",
      "Iter 46: f = 7432.31116670\n",
      "Iter 47: f = 7432.31114255\n",
      "Iter 48: f = 7432.31114217\n",
      "Iter 49: f = 7432.31112829\n",
      "done. Elapsed 2.40365secs\n",
      "Iter 50: f = 7432.31112829\n",
      "objective value:  7432.3111282920345\n",
      "\n",
      " re-optimzing with epsilon =  0.7346938775510203\n",
      "Compiling objective ...\n",
      "Iter 0: f = 7465.10590112\n",
      "Compiling grad ...\n",
      "Compile time: 12.7093secs\n",
      "\n",
      "Running L-BFGS-B ... \n",
      "Iter 0: f = 7465.10590112\n",
      "Iter 1: f = 7452.26624538\n",
      "Iter 2: f = 7380.42281924\n",
      "Iter 3: f = 7417.97955769\n",
      "Iter 4: f = 7360.67642834\n",
      "Iter 5: f = 7357.48387594\n",
      "Iter 6: f = 7355.93026018\n",
      "Iter 7: f = 7354.93710955\n",
      "Iter 8: f = 7354.07828551\n",
      "Iter 9: f = 7353.05653932\n",
      "Iter 10: f = 7352.01085414\n",
      "Iter 11: f = 7351.38549607\n",
      "Iter 12: f = 7351.08552103\n",
      "Iter 13: f = 7350.91578937\n",
      "Iter 14: f = 7350.72767760\n",
      "Iter 15: f = 7350.58826181\n",
      "Iter 16: f = 7350.42975284\n",
      "Iter 17: f = 7350.35375815\n",
      "Iter 18: f = 7350.24909361\n",
      "Iter 19: f = 7350.13423710\n",
      "Iter 20: f = 7350.02201331\n",
      "Iter 21: f = 7349.97233593\n",
      "Iter 22: f = 7349.93625634\n",
      "Iter 23: f = 7349.91746346\n",
      "Iter 24: f = 7349.89786458\n",
      "Iter 25: f = 7349.88630731\n",
      "Iter 26: f = 7349.88033900\n",
      "Iter 27: f = 7349.88240993\n",
      "Iter 28: f = 7349.87678793\n",
      "Iter 29: f = 7349.87294707\n",
      "Iter 30: f = 7349.87171952\n",
      "Iter 31: f = 7349.86996188\n",
      "Iter 32: f = 7349.86902419\n",
      "Iter 33: f = 7349.86832606\n",
      "Iter 34: f = 7349.86771287\n",
      "Iter 35: f = 7349.86737533\n",
      "Iter 36: f = 7349.86742186\n",
      "Iter 37: f = 7349.86711626\n",
      "Iter 38: f = 7349.86687128\n",
      "Iter 39: f = 7349.86680029\n",
      "Iter 40: f = 7349.86671175\n",
      "Iter 41: f = 7349.86666165\n",
      "Iter 42: f = 7349.86662160\n",
      "Iter 43: f = 7349.86658141\n",
      "Iter 44: f = 7349.86655714\n",
      "Iter 45: f = 7349.86653587\n",
      "Iter 46: f = 7349.86651553\n",
      "Iter 47: f = 7349.86650836\n",
      "done. Elapsed 2.32195secs\n",
      "Iter 48: f = 7349.86650836\n",
      "objective value:  7349.866508363796\n",
      "\n",
      " re-optimzing with epsilon =  1.0\n",
      "Compiling objective ...\n",
      "Iter 0: f = 7433.79796657\n",
      "Compiling grad ...\n",
      "Compile time: 12.6152secs\n",
      "\n",
      "Running L-BFGS-B ... \n",
      "Iter 0: f = 7433.79796657\n",
      "Iter 1: f = 7416.08530178\n",
      "Iter 2: f = 7360.31339671\n",
      "Iter 3: f = 7283.41486114\n",
      "Iter 4: f = 7267.97888772\n",
      "Iter 5: f = 7247.46325403\n",
      "Iter 6: f = 7246.13648690\n",
      "Iter 7: f = 7243.67361098\n",
      "Iter 8: f = 7242.46173560\n",
      "Iter 9: f = 7240.93466513\n",
      "Iter 10: f = 7238.58219929\n",
      "Iter 11: f = 7237.75982090\n",
      "Iter 12: f = 7237.37548867\n",
      "Iter 13: f = 7236.98876573\n",
      "Iter 14: f = 7236.84120720\n",
      "Iter 15: f = 7236.61778833\n",
      "Iter 16: f = 7236.64848791\n",
      "Iter 17: f = 7236.51874087\n",
      "Iter 18: f = 7236.40456741\n",
      "Iter 19: f = 7236.31071046\n",
      "Iter 20: f = 7236.21694881\n",
      "Iter 21: f = 7236.14292742\n",
      "Iter 22: f = 7236.07774973\n",
      "Iter 23: f = 7236.03484895\n",
      "Iter 24: f = 7236.00987667\n",
      "Iter 25: f = 7235.98665878\n",
      "Iter 26: f = 7235.96907599\n",
      "Iter 27: f = 7235.96097082\n",
      "Iter 28: f = 7235.95160522\n",
      "Iter 29: f = 7235.94733823\n",
      "Iter 30: f = 7235.93671365\n",
      "Iter 31: f = 7235.93053991\n",
      "Iter 32: f = 7235.92284226\n",
      "Iter 33: f = 7235.91207196\n",
      "Iter 34: f = 7235.92580726\n",
      "Iter 35: f = 7235.90837986\n",
      "Iter 36: f = 7235.90412411\n",
      "Iter 37: f = 7235.90217476\n",
      "Iter 38: f = 7235.90028275\n",
      "Iter 39: f = 7235.89951039\n",
      "Iter 40: f = 7235.89826787\n",
      "Iter 41: f = 7235.89785404\n",
      "Iter 42: f = 7235.89748288\n",
      "Iter 43: f = 7235.89693970\n",
      "Iter 44: f = 7235.89755782\n",
      "Iter 45: f = 7235.89677926\n",
      "Iter 46: f = 7235.89659635\n",
      "Iter 47: f = 7235.89651515\n",
      "Iter 48: f = 7235.89644206\n",
      "Iter 49: f = 7235.89641865\n",
      "Iter 50: f = 7235.89637489\n",
      "Iter 51: f = 7235.89636017\n",
      "done. Elapsed 2.49224secs\n",
      "Iter 52: f = 7235.89636017\n",
      "objective value:  7235.896360168728\n"
     ]
    }
   ],
   "source": [
    "vb_pert_list = []\n",
    "for epsilon in epsilon_list: \n",
    "    print('\\n re-optimzing with epsilon = ', epsilon)\n",
    "    \n",
    "    vb_pert_list.append(refit_with_epsilon(epsilon, new_init_dict))\n"
   ]
  },
  {
   "cell_type": "code",
   "execution_count": null,
   "metadata": {},
   "outputs": [],
   "source": []
  },
  {
   "cell_type": "markdown",
   "metadata": {},
   "source": [
    "# Check free parameters"
   ]
  },
  {
   "cell_type": "code",
   "execution_count": 48,
   "metadata": {},
   "outputs": [],
   "source": [
    "lr_list = []\n",
    "\n",
    "for epsilon in epsilon_list: \n",
    "    \n",
    "    # get linear response\n",
    "    lr_list.append(epsilon_sens.predict_opt_par_from_hyper_par(epsilon))\n"
   ]
  },
  {
   "cell_type": "code",
   "execution_count": 49,
   "metadata": {},
   "outputs": [
    {
     "data": {
      "image/png": "[encoded data removed]",
      "text/plain": [
       "<Figure size 432x288 with 1 Axes>"
      ]
     },
     "metadata": {
      "needs_background": "light"
     },
     "output_type": "display_data"
    },
    {
     "data": {
      "image/png": "[encoded data removed]",
      "text/plain": [
       "<Figure size 432x288 with 1 Axes>"
      ]
     },
     "metadata": {
      "needs_background": "light"
     },
     "output_type": "display_data"
    },
    {
     "data": {
      "image/png": "[encoded data removed]",
      "text/plain": [
       "<Figure size 432x288 with 1 Axes>"
      ]
     },
     "metadata": {
      "needs_background": "light"
     },
     "output_type": "display_data"
    },
    {
     "data": {
      "image/png": "[encoded data removed]",
      "text/plain": [
       "<Figure size 432x288 with 1 Axes>"
      ]
     },
     "metadata": {
      "needs_background": "light"
     },
     "output_type": "display_data"
    },
    {
     "data": {
      "image/png": "[encoded data removed]",
      "text/plain": [
       "<Figure size 432x288 with 1 Axes>"
      ]
     },
     "metadata": {
      "needs_background": "light"
     },
     "output_type": "display_data"
    },
    {
     "data": {
      "image/png": "[encoded data removed]",
      "text/plain": [
       "<Figure size 432x288 with 1 Axes>"
      ]
     },
     "metadata": {
      "needs_background": "light"
     },
     "output_type": "display_data"
    },
    {
     "data": {
      "image/png": "[encoded data removed]",
      "text/plain": [
       "<Figure size 432x288 with 1 Axes>"
      ]
     },
     "metadata": {
      "needs_background": "light"
     },
     "output_type": "display_data"
    },
    {
     "data": {
      "image/png": "[encoded data removed]",
      "text/plain": [
       "<Figure size 432x288 with 1 Axes>"
      ]
     },
     "metadata": {
      "needs_background": "light"
     },
     "output_type": "display_data"
    }
   ],
   "source": [
    "for i in range(len(epsilon_list)): \n",
    "    plt.figure()\n",
    "    print_diff_plot(lr_list[i], vb_pert_list[i], vb_opt)\n",
    "    \n",
    "    plt.title('epsilon = {}'.format(epsilon_list[i]))\n"
   ]
  },
  {
   "cell_type": "markdown",
   "metadata": {},
   "source": [
    "# Number of clusters"
   ]
  },
  {
   "cell_type": "code",
   "execution_count": 50,
   "metadata": {},
   "outputs": [],
   "source": [
    "lr_e_num_clusters_vec = onp.zeros(len(epsilon_list))\n",
    "refit_e_num_clusters_vec = onp.zeros(len(epsilon_list))\n",
    "\n",
    "for i in range(len(epsilon_list)): \n",
    "    \n",
    "    # get dictionaries\n",
    "    pert_dict = vb_params_paragami.fold(vb_pert_list[i], free = True)\n",
    "    lr_dict = vb_params_paragami.fold(lr_list[i], free = True)\n",
    "    \n",
    "    # get posterior expectations\n",
    "    pert_e_ind_admix, pert_e_pop_freq = plotting_utils.get_vb_expectations(pert_dict, gh_loc, gh_weights)\n",
    "    lr_e_ind_admix, lr_e_pop_freq = plotting_utils.get_vb_expectations(lr_dict, gh_loc, gh_weights)\n",
    "    \n",
    "    # get number of clusters\n",
    "    refit_e_num_clusters_vec[i] = cluster_quantities_lib.get_e_num_clusters_from_ez(pert_e_ind_admix)\n",
    "    lr_e_num_clusters_vec[i] = cluster_quantities_lib.get_e_num_clusters_from_ez(lr_e_ind_admix)\n"
   ]
  },
  {
   "cell_type": "code",
   "execution_count": 51,
   "metadata": {},
   "outputs": [
    {
     "data": {
      "text/plain": [
       "<matplotlib.legend.Legend at 0x7fb5f22cbac0>"
      ]
     },
     "execution_count": 51,
     "metadata": {},
     "output_type": "execute_result"
    },
    {
     "data": {
      "image/png": "[encoded data removed]",
      "text/plain": [
       "<Figure size 432x288 with 1 Axes>"
      ]
     },
     "metadata": {
      "needs_background": "light"
     },
     "output_type": "display_data"
    }
   ],
   "source": [
    "plt.plot(epsilon_list, lr_e_num_clusters_vec, '+--')\n",
    "plt.plot(epsilon_list, refit_e_num_clusters_vec, '+-')\n",
    "\n",
    "plt.xlabel('epsilon')\n",
    "plt.ylabel('num posterior clusters')\n",
    "plt.legend(('lr', 'refit'))\n"
   ]
  },
  {
   "cell_type": "code",
   "execution_count": null,
   "metadata": {},
   "outputs": [],
   "source": []
  },
  {
   "cell_type": "code",
   "execution_count": null,
   "metadata": {},
   "outputs": [],
   "source": []
  },
  {
   "cell_type": "code",
   "execution_count": null,
   "metadata": {},
   "outputs": [],
   "source": []
  },
  {
   "cell_type": "raw",
   "metadata": {},
   "source": [
    "stick_propn_mean = vb_params_dict['ind_mix_stick_propn_mean']\n",
    "stick_propn_info = vb_params_dict['ind_mix_stick_propn_info']"
   ]
  },
  {
   "cell_type": "raw",
   "metadata": {},
   "source": [
    "foo1 = modeling_lib.get_e_func_logit_stick_vec(\n",
    "        stick_propn_mean, stick_propn_info,\n",
    "        gh_loc, gh_weights, \n",
    "        log_prior_pert)"
   ]
  },
  {
   "cell_type": "raw",
   "metadata": {},
   "source": [
    "foo2 = func_sens_lib.get_e_log_perturbation(log_prior_pert, stick_propn_mean, stick_propn_info, 1,\n",
    "                                    gh_loc, gh_weights, sum_vector = False)"
   ]
  },
  {
   "cell_type": "raw",
   "metadata": {},
   "source": [
    "import LinearResponseVariationalBayes.ExponentialFamilies as ef\n"
   ]
  },
  {
   "cell_type": "raw",
   "metadata": {},
   "source": [
    "e_phi = np.array([\n",
    "        ef.get_e_fun_normal(\n",
    "            stick_propn_mean[k], stick_propn_info[k], \\\n",
    "            gh_loc, gh_weights, log_prior_pert)\n",
    "        for k in range(len(stick_propn_mean))\n",
    "    ])"
   ]
  },
  {
   "cell_type": "raw",
   "metadata": {},
   "source": [
    "assert np.all(e_phi == -foo2)\n",
    "assert np.all(foo1 == -foo2)"
   ]
  },
  {
   "cell_type": "raw",
   "metadata": {},
   "source": [
    "foo3 = ef.get_e_fun_normal(\n",
    "            stick_propn_mean, stick_propn_info, \\\n",
    "            gh_loc, gh_weights, log_prior_pert)"
   ]
  },
  {
   "cell_type": "raw",
   "metadata": {},
   "source": [
    "assert np.all(foo3 == foo1)"
   ]
  }
 ],
 "metadata": {
  "kernelspec": {
   "display_name": "bnp_sensitivity_jax",
   "language": "python",
   "name": "bnp_sensitivity_jax"
  },
  "language_info": {
   "codemirror_mode": {
    "name": "ipython",
    "version": 3
   },
   "file_extension": ".py",
   "mimetype": "text/x-python",
   "name": "python",
   "nbconvert_exporter": "python",
   "pygments_lexer": "ipython3",
   "version": "3.8.0"
  }
 },
 "nbformat": 4,
 "nbformat_minor": 4
}
