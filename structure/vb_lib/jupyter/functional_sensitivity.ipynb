{
 "cells": [
  {
   "cell_type": "markdown",
   "metadata": {},
   "source": [
    "Here, we examine the sensitivity to a functional perturbation on a small simulated dataset"
   ]
  },
  {
   "cell_type": "code",
   "execution_count": 1,
   "metadata": {},
   "outputs": [
    {
     "name": "stderr",
     "output_type": "stream",
     "text": [
      "/accounts/grad/runjing_liu/.conda/envs/bnp_sensitivity_jax/lib/python3.8/site-packages/jax/lib/xla_bridge.py:130: UserWarning: No GPU/TPU found, falling back to CPU.\n",
      "  warnings.warn('No GPU/TPU found, falling back to CPU.')\n"
     ]
    }
   ],
   "source": [
    "import jax\n",
    "\n",
    "import jax.numpy as np\n",
    "import jax.scipy as sp\n",
    "from numpy.polynomial.hermite import hermgauss\n",
    "\n",
    "from vb_lib import structure_model_lib, data_utils, cavi_lib, plotting_utils\n",
    "import vb_lib.structure_optimization_lib as s_optim_lib\n",
    "from vb_lib.preconditioner_lib import get_mfvb_cov_matmul\n",
    "from bnpmodeling_runjingdev.sensitivity_lib import HyperparameterSensitivityLinearApproximation\n",
    "\n",
    "import paragami\n",
    "\n",
    "from copy import deepcopy\n",
    "\n",
    "import time\n",
    "\n",
    "import matplotlib.pyplot as plt\n",
    "%matplotlib inline  \n",
    "\n",
    "from bnpmodeling_runjingdev import influence_lib, modeling_lib\n",
    "import bnpmodeling_runjingdev.functional_sensitivity_lib as func_sens_lib"
   ]
  },
  {
   "cell_type": "code",
   "execution_count": 3,
   "metadata": {},
   "outputs": [],
   "source": [
    "import numpy as onp \n",
    "onp.random.seed(53453)"
   ]
  },
  {
   "cell_type": "markdown",
   "metadata": {},
   "source": [
    "# Draw data"
   ]
  },
  {
   "cell_type": "code",
   "execution_count": 4,
   "metadata": {},
   "outputs": [],
   "source": [
    "data_file = '../simulated_data/simulated_structure_data_nobs20_nloci50_npop4.npz'\n",
    "data = np.load(data_file)\n",
    "\n",
    "# the observations\n",
    "g_obs = np.array(data['g_obs'], dtype = int)\n",
    "\n",
    "n_obs = g_obs.shape[0]\n",
    "n_loci = g_obs.shape[1]\n",
    "\n",
    "# the ground truth \n",
    "true_ind_admix_propn = data['true_ind_admix_propn']"
   ]
  },
  {
   "cell_type": "code",
   "execution_count": 5,
   "metadata": {
    "scrolled": true
   },
   "outputs": [
    {
     "data": {
      "image/png": "[encoded data removed]",
      "text/plain": [
       "<Figure size 432x288 with 1 Axes>"
      ]
     },
     "metadata": {},
     "output_type": "display_data"
    }
   ],
   "source": [
    "fig, axarr = plt.subplots(1, 1)\n",
    "plotting_utils.plot_admixture(true_ind_admix_propn, axarr);"
   ]
  },
  {
   "cell_type": "code",
   "execution_count": null,
   "metadata": {},
   "outputs": [],
   "source": []
  },
  {
   "cell_type": "markdown",
   "metadata": {},
   "source": [
    "# Get prior"
   ]
  },
  {
   "cell_type": "code",
   "execution_count": 6,
   "metadata": {},
   "outputs": [
    {
     "name": "stdout",
     "output_type": "stream",
     "text": [
      "{'dp_prior_alpha': DeviceArray([3.], dtype=float64), 'allele_prior_alpha': DeviceArray([1.], dtype=float64), 'allele_prior_beta': DeviceArray([1.], dtype=float64)}\n"
     ]
    }
   ],
   "source": [
    "prior_params_dict, prior_params_paragami = \\\n",
    "    structure_model_lib.get_default_prior_params()\n",
    "\n",
    "print(prior_params_dict)\n",
    "\n",
    "prior_params_free = prior_params_paragami.flatten(prior_params_dict, free = True)"
   ]
  },
  {
   "cell_type": "code",
   "execution_count": null,
   "metadata": {},
   "outputs": [],
   "source": []
  },
  {
   "cell_type": "markdown",
   "metadata": {},
   "source": [
    "# Get VB params "
   ]
  },
  {
   "cell_type": "code",
   "execution_count": 7,
   "metadata": {},
   "outputs": [],
   "source": [
    "k_approx = 10"
   ]
  },
  {
   "cell_type": "code",
   "execution_count": 8,
   "metadata": {},
   "outputs": [],
   "source": [
    "gh_deg = 8\n",
    "gh_loc, gh_weights = hermgauss(8)"
   ]
  },
  {
   "cell_type": "code",
   "execution_count": 9,
   "metadata": {
    "scrolled": true
   },
   "outputs": [
    {
     "name": "stdout",
     "output_type": "stream",
     "text": [
      "OrderedDict:\n",
      "\t[pop_freq_beta_params] = NumericArrayPattern (50, 10, 2) (lb=0.0, ub=inf)\n",
      "\t[ind_admix_params] = OrderedDict:\n",
      "\t[stick_means] = NumericArrayPattern (20, 9) (lb=-inf, ub=inf)\n",
      "\t[stick_infos] = NumericArrayPattern (20, 9) (lb=0.0001, ub=inf)\n"
     ]
    }
   ],
   "source": [
    "_, vb_params_paragami = \\\n",
    "    structure_model_lib.get_vb_params_paragami_object(n_obs, n_loci, k_approx,\n",
    "                                                      use_logitnormal_sticks = True)\n",
    "    \n",
    "print(vb_params_paragami)"
   ]
  },
  {
   "cell_type": "code",
   "execution_count": null,
   "metadata": {},
   "outputs": [],
   "source": []
  },
  {
   "cell_type": "markdown",
   "metadata": {},
   "source": [
    "# Optimize"
   ]
  },
  {
   "cell_type": "markdown",
   "metadata": {},
   "source": [
    "### Initialize with CAVI"
   ]
  },
  {
   "cell_type": "code",
   "execution_count": 10,
   "metadata": {},
   "outputs": [
    {
     "name": "stdout",
     "output_type": "stream",
     "text": [
      "Compiling cavi functions ...\n",
      "CAVI compile time: 5.37sec\n",
      "\n",
      " running CAVI ...\n",
      "iteration [20]; kl:1727.065955; elapsed: 0.1708secs\n",
      "iteration [40]; kl:1717.469716; elapsed: 0.152secs\n",
      "iteration [60]; kl:1716.170832; elapsed: 0.0777secs\n",
      "iteration [80]; kl:1715.925407; elapsed: 0.0785secs\n",
      "iteration [100]; kl:1715.87728; elapsed: 0.0781secs\n",
      "iteration [120]; kl:1715.863515; elapsed: 0.0798secs\n",
      "iteration [140]; kl:1715.858859; elapsed: 0.0776secs\n",
      "iteration [160]; kl:1715.857204; elapsed: 0.0784secs\n",
      "CAVI done.\n",
      "final KL: 1715.856959\n",
      "Elapsed: 166 steps in 0.82 seconds\n",
      "Stick conversion time: 1.772secs\n"
     ]
    }
   ],
   "source": [
    "vb_params_dict, cavi_init_time = \\\n",
    "            s_optim_lib.initialize_with_cavi(g_obs, \n",
    "                                 vb_params_paragami, \n",
    "                                 prior_params_dict, \n",
    "                                 gh_loc, gh_weights, \n",
    "                                 print_every = 20, \n",
    "                                 max_iter = 200, \n",
    "                                 seed = 1232)"
   ]
  },
  {
   "cell_type": "code",
   "execution_count": null,
   "metadata": {},
   "outputs": [],
   "source": []
  },
  {
   "cell_type": "markdown",
   "metadata": {},
   "source": [
    "# Optimize with preconditioned LBFGS"
   ]
  },
  {
   "cell_type": "code",
   "execution_count": 11,
   "metadata": {},
   "outputs": [
    {
     "name": "stdout",
     "output_type": "stream",
     "text": [
      "compiling preconditioned objective ... \n",
      "done. Elasped: 46.2251\n",
      "init kl: 1719.067655\n",
      "iteration [15]; kl:1718.946014; elapsed: 0.458secs\n",
      "lbfgs converged successfully\n",
      "done. Elapsed 2.165\n"
     ]
    }
   ],
   "source": [
    "vb_opt_dict, vb_opt, out, precond_objective, lbfgs_time = \\\n",
    "    s_optim_lib.run_preconditioned_lbfgs(g_obs, \n",
    "                        vb_params_dict, \n",
    "                        vb_params_paragami,\n",
    "                        prior_params_dict,\n",
    "                        gh_loc, gh_weights)"
   ]
  },
  {
   "cell_type": "code",
   "execution_count": null,
   "metadata": {},
   "outputs": [],
   "source": []
  },
  {
   "cell_type": "markdown",
   "metadata": {},
   "source": [
    "# Check out the fit"
   ]
  },
  {
   "cell_type": "code",
   "execution_count": 12,
   "metadata": {},
   "outputs": [
    {
     "data": {
      "image/png": "[encoded data removed]",
      "text/plain": [
       "<Figure size 432x288 with 1 Axes>"
      ]
     },
     "metadata": {},
     "output_type": "display_data"
    }
   ],
   "source": [
    "# truth\n",
    "fig, axarr = plt.subplots(1, 1)\n",
    "plotting_utils.plot_admixture(true_ind_admix_propn, axarr);"
   ]
  },
  {
   "cell_type": "code",
   "execution_count": 13,
   "metadata": {},
   "outputs": [
    {
     "data": {
      "text/plain": [
       "Text(0.5, 0, 'individual')"
      ]
     },
     "execution_count": 13,
     "metadata": {},
     "output_type": "execute_result"
    },
    {
     "data": {
      "image/png": "[encoded data removed]",
      "text/plain": [
       "<Figure size 432x288 with 1 Axes>"
      ]
     },
     "metadata": {},
     "output_type": "display_data"
    }
   ],
   "source": [
    "# estimated \n",
    "\n",
    "e_ind_admix = plotting_utils.get_vb_expectations(vb_opt_dict, gh_loc, gh_weights)[0]\n",
    "\n",
    "fig, axarr = plt.subplots(1, 1)\n",
    "plotting_utils.plot_top_clusters(e_ind_admix, axarr, n_top_clusters=4);\n",
    "\n",
    "plt.ylabel('population')\n",
    "plt.xlabel('individual')"
   ]
  },
  {
   "cell_type": "code",
   "execution_count": null,
   "metadata": {},
   "outputs": [],
   "source": []
  },
  {
   "cell_type": "markdown",
   "metadata": {},
   "source": [
    "# Set up linear response derivatives"
   ]
  },
  {
   "cell_type": "code",
   "execution_count": 14,
   "metadata": {},
   "outputs": [],
   "source": [
    "# this is just a place holder for a null perturbation\n",
    "# will set this properly later\n",
    "hyper_par_objective_fun = lambda params, epsilon: 0."
   ]
  },
  {
   "cell_type": "code",
   "execution_count": 15,
   "metadata": {},
   "outputs": [
    {
     "name": "stdout",
     "output_type": "stream",
     "text": [
      "NOTE: using custom hvp\n",
      "Compiling hessian solver ...\n",
      "Hessian solver compile time: 94.9524sec\n",
      "\n",
      "Compiling cross hessian...\n",
      "Cross-hessian compile time: 0.048636sec\n",
      "\n",
      "LR sensitivity time: 0.0216987sec\n",
      "\n"
     ]
    }
   ],
   "source": [
    "# set up linear approximation class\n",
    "epsilon0 = np.array([0.])\n",
    "\n",
    "epsilon_sens = \\\n",
    "    HyperparameterSensitivityLinearApproximation(\n",
    "        objective_fun = precond_objective.f, \n",
    "        opt_par_value = vb_opt, \n",
    "        hyper_par_value0 = epsilon0, \n",
    "        obj_fun_hvp = precond_objective.hvp, \n",
    "        hyper_par_objective_fun = hyper_par_objective_fun)\n"
   ]
  },
  {
   "cell_type": "code",
   "execution_count": null,
   "metadata": {},
   "outputs": [],
   "source": []
  },
  {
   "cell_type": "markdown",
   "metadata": {},
   "source": [
    "# Compute influence function"
   ]
  },
  {
   "cell_type": "markdown",
   "metadata": {},
   "source": [
    "### Define posterior quantity of interest"
   ]
  },
  {
   "cell_type": "code",
   "execution_count": 15,
   "metadata": {},
   "outputs": [],
   "source": [
    "def g(vb_free_params, vb_params_paragami): \n",
    "    \n",
    "    # key for random sampling. \n",
    "    # this is fixed! so all standard normal \n",
    "    # samples used in computing the posterior quantity \n",
    "    key = jax.random.PRNGKey(0)\n",
    "    \n",
    "    vb_params_dict = vb_params_paragami.fold(vb_free_params, free = True)\n",
    "    \n",
    "    stick_means = vb_params_dict['ind_admix_params']['stick_means']\n",
    "    stick_infos = vb_params_dict['ind_admix_params']['stick_infos']\n",
    "    \n",
    "    return structure_model_lib.get_e_num_pred_clusters(stick_means, stick_infos, gh_loc, gh_weights, \n",
    "                                                       key = key,\n",
    "                                                       n_samples = 100)"
   ]
  },
  {
   "cell_type": "code",
   "execution_count": 16,
   "metadata": {},
   "outputs": [],
   "source": [
    "get_grad_g = jax.jacobian(g, argnums = 0)\n",
    "grad_g = get_grad_g(vb_opt, vb_params_paragami)"
   ]
  },
  {
   "cell_type": "markdown",
   "metadata": {},
   "source": [
    "### the influence function"
   ]
  },
  {
   "cell_type": "code",
   "execution_count": 17,
   "metadata": {},
   "outputs": [],
   "source": [
    "influence_operator = influence_lib.InfluenceOperator(vb_opt, \n",
    "                           vb_params_paragami, \n",
    "                           epsilon_sens.hessian_solver,\n",
    "                           prior_params_dict['dp_prior_alpha'], \n",
    "                           stick_key = 'ind_admix_params')"
   ]
  },
  {
   "cell_type": "code",
   "execution_count": null,
   "metadata": {},
   "outputs": [],
   "source": []
  },
  {
   "cell_type": "markdown",
   "metadata": {},
   "source": [
    "### worst-case perturbation"
   ]
  },
  {
   "cell_type": "code",
   "execution_count": 18,
   "metadata": {},
   "outputs": [
    {
     "name": "stdout",
     "output_type": "stream",
     "text": [
      "inverting hessian ...\n"
     ]
    }
   ],
   "source": [
    "logit_v_grid = np.linspace(-10, 10, 200)\n",
    "influence_grid = influence_operator.get_influence(logit_v_grid, grad_g)"
   ]
  },
  {
   "cell_type": "code",
   "execution_count": 19,
   "metadata": {},
   "outputs": [],
   "source": [
    "worst_case_pert = influence_lib.WorstCasePerturbation(influence_fun = None, \n",
    "                                                      logit_v_grid = logit_v_grid, \n",
    "                                                      cached_influence_grid = influence_grid)"
   ]
  },
  {
   "cell_type": "code",
   "execution_count": null,
   "metadata": {},
   "outputs": [],
   "source": []
  },
  {
   "cell_type": "markdown",
   "metadata": {},
   "source": [
    "### Plot influence function"
   ]
  },
  {
   "cell_type": "code",
   "execution_count": 20,
   "metadata": {},
   "outputs": [
    {
     "data": {
      "image/png": "[encoded data removed]",
      "text/plain": [
       "<Figure size 1080x288 with 3 Axes>"
      ]
     },
     "metadata": {
      "needs_background": "light"
     },
     "output_type": "display_data"
    }
   ],
   "source": [
    "fig, ax = plt.subplots(1, 3, figsize = (15, 4)) \n",
    "\n",
    "ax[0].plot(worst_case_pert.logit_v_grid, np.sign(worst_case_pert.influence_grid))\n",
    "ax[0].set_xlabel('logit v')\n",
    "ax[0].set_ylabel('sign(Influence)')\n",
    "\n",
    "ax[1].plot(worst_case_pert.logit_v_grid, worst_case_pert.influence_grid)\n",
    "ax[1].set_xlabel('logit v')\n",
    "ax[1].set_ylabel('Influence')\n",
    "\n",
    "ax[2].plot(worst_case_pert.v_grid, worst_case_pert.influence_grid)\n",
    "ax[2].set_xlabel('v')\n",
    "ax[2].set_ylabel('Influence')\n",
    "\n",
    "\n",
    "\n",
    "fig.tight_layout()"
   ]
  },
  {
   "cell_type": "code",
   "execution_count": null,
   "metadata": {},
   "outputs": [],
   "source": []
  },
  {
   "cell_type": "markdown",
   "metadata": {},
   "source": [
    "# Define prior perturbation"
   ]
  },
  {
   "cell_type": "code",
   "execution_count": 21,
   "metadata": {},
   "outputs": [],
   "source": [
    "use_worst_case = False"
   ]
  },
  {
   "cell_type": "code",
   "execution_count": 164,
   "metadata": {},
   "outputs": [],
   "source": [
    "if use_worst_case: \n",
    "    # just for plotting only! \n",
    "    # saves some time in computing the influence function\n",
    "    # by doing a setp function interpolation\n",
    "    def influence_fun_interp(logit_v): \n",
    "        # find index of logit_v_grid \n",
    "        # closest (on the left) to logit_v\n",
    "        indx = np.searchsorted(worst_case_pert.logit_v_grid, logit_v)\n",
    "\n",
    "        # return the influence function at those points\n",
    "        return worst_case_pert.influence_grid[indx]\n",
    "\n",
    "    # define log phi\n",
    "    def log_phi(logit_v):\n",
    "        return(np.sign(influence_fun_interp(logit_v)))\n",
    "else: \n",
    "#     def log_phi(logit_v):\n",
    "#         v = sp.special.expit(logit_v)\n",
    "        \n",
    "#         beta0 = prior_params_dict['dp_prior_alpha']\n",
    "#         beta1 = beta0 + 5\n",
    "        \n",
    "#         return sp.stats.beta.logpdf(v, a = 1, b = beta1) - sp.stats.beta.logpdf(v, a = 1, b = beta0)\n",
    "    \n",
    "    def log_phi(logit_v): \n",
    "        return (sp.special.expit(-logit_v) * 2 - 1.) "
   ]
  },
  {
   "cell_type": "code",
   "execution_count": 165,
   "metadata": {},
   "outputs": [],
   "source": [
    "prior_perturbation = func_sens_lib.PriorPerturbation(\n",
    "                                alpha0 = prior_params_dict['dp_prior_alpha'],\n",
    "                                log_phi = log_phi, \n",
    "                                logit_v_ub = 10, \n",
    "                                logit_v_lb = -10)"
   ]
  },
  {
   "cell_type": "code",
   "execution_count": 166,
   "metadata": {},
   "outputs": [
    {
     "data": {
      "text/plain": [
       "<matplotlib.legend.Legend at 0x7f2c30f33e20>"
      ]
     },
     "execution_count": 166,
     "metadata": {},
     "output_type": "execute_result"
    },
    {
     "data": {
      "image/png": "[encoded data removed]",
      "text/plain": [
       "<Figure size 1296x360 with 4 Axes>"
      ]
     },
     "metadata": {
      "needs_background": "light"
     },
     "output_type": "display_data"
    }
   ],
   "source": [
    "prior_perturbation.set_epsilon(1.0)\n",
    "\n",
    "v_grid = sp.special.expit(logit_v_grid)\n",
    "\n",
    "plt.figure(1, figsize=(18, 5))\n",
    "\n",
    "plt.subplot(141)\n",
    "plt.plot(logit_v_grid, prior_perturbation.get_log_p0_logit(logit_v_grid))\n",
    "plt.plot(logit_v_grid, prior_perturbation.get_log_pc_logit(logit_v_grid))\n",
    "plt.title('Log priors in logit space')\n",
    "\n",
    "plt.subplot(142)\n",
    "plt.plot(logit_v_grid, prior_perturbation.log_phi(logit_v_grid))\n",
    "plt.title('log phi in logit space')\n",
    "\n",
    "plt.subplot(143)\n",
    "plt.plot(v_grid, np.exp(prior_perturbation.get_log_p0(v_grid)))\n",
    "plt.plot(v_grid, np.exp(prior_perturbation.get_log_pc(v_grid)))\n",
    "plt.title('Priors in stick space')\n",
    "\n",
    "plt.subplot(144)\n",
    "plt.plot(logit_v_grid, np.exp(prior_perturbation.get_log_p0_logit(logit_v_grid)),\n",
    "            label = 'p0')\n",
    "plt.plot(logit_v_grid, np.exp(prior_perturbation.get_log_pc_logit(logit_v_grid)),\n",
    "            label = 'p1')\n",
    "plt.title('Priors in logit space')\n",
    "plt.legend()\n"
   ]
  },
  {
   "cell_type": "code",
   "execution_count": 167,
   "metadata": {},
   "outputs": [],
   "source": [
    "import bnpmodeling_runjingdev.exponential_families as ef"
   ]
  },
  {
   "cell_type": "code",
   "execution_count": 168,
   "metadata": {},
   "outputs": [],
   "source": [
    "if use_worst_case: \n",
    "    print('returning worst case')\n",
    "    def get_e_log_perturbation(means, infos, epsilon): \n",
    "        return epsilon * worst_case_pert.get_e_log_linf_perturbation(means.flatten(), \n",
    "                                                                     infos.flatten())\n",
    "else: \n",
    "    def get_e_log_perturbation(means, infos, epsilon): \n",
    "        return func_sens_lib.get_e_log_perturbation(log_phi,\n",
    "                                                means, infos,\n",
    "                                                epsilon, \n",
    "                                                gh_loc, gh_weights, \n",
    "                                                sum_vector=True)\n",
    "    \n",
    "    "
   ]
  },
  {
   "cell_type": "code",
   "execution_count": 16,
   "metadata": {},
   "outputs": [],
   "source": [
    "func_sens_lib.get_e_log_perturbation?"
   ]
  },
  {
   "cell_type": "code",
   "execution_count": 169,
   "metadata": {},
   "outputs": [],
   "source": [
    "def _hyper_par_objective_fun(params, epsilon): \n",
    "    \n",
    "    means = params['ind_admix_params']['stick_means']\n",
    "    infos = params['ind_admix_params']['stick_infos']\n",
    "    \n",
    "    return - get_e_log_perturbation(means, infos, epsilon)\n",
    "\n",
    "# the terms of the KL objective that depend on epsilon \n",
    "hyper_par_objective_fun = paragami.FlattenFunctionInput(_hyper_par_objective_fun,\n",
    "                                                        argnums=0, \n",
    "                                                        patterns=vb_params_paragami,\n",
    "                                                        free = True)\n"
   ]
  },
  {
   "cell_type": "markdown",
   "metadata": {},
   "source": [
    "# Get derivative for prior perturbation"
   ]
  },
  {
   "cell_type": "code",
   "execution_count": 170,
   "metadata": {},
   "outputs": [
    {
     "name": "stdout",
     "output_type": "stream",
     "text": [
      "Compiling cross hessian...\n",
      "Cross-hessian compile time: 0.0602806sec\n",
      "\n",
      "LR sensitivity time: 0.0227726sec\n",
      "\n"
     ]
    }
   ],
   "source": [
    "epsilon_sens._set_cross_hess_and_solve(hyper_par_objective_fun)"
   ]
  },
  {
   "cell_type": "code",
   "execution_count": 171,
   "metadata": {},
   "outputs": [
    {
     "name": "stdout",
     "output_type": "stream",
     "text": [
      "Epsilon:  1.0\n",
      "init number of cluster:  2.9863734487798776\n",
      "lr number of cluster:  3.030059577837124\n"
     ]
    }
   ],
   "source": [
    "epsilon = 1.0\n",
    "print('Epsilon: ', epsilon)\n",
    "\n",
    "lr_vb_free_params = epsilon_sens.predict_opt_par_from_hyper_par(epsilon)\n",
    "\n",
    "print('init number of cluster: ', g(vb_opt, vb_params_paragami))\n",
    "print('lr number of cluster: ', g(lr_vb_free_params, vb_params_paragami))"
   ]
  },
  {
   "cell_type": "code",
   "execution_count": null,
   "metadata": {},
   "outputs": [],
   "source": []
  },
  {
   "cell_type": "code",
   "execution_count": 172,
   "metadata": {},
   "outputs": [],
   "source": [
    "vb_pert_pred_dict = vb_params_paragami.fold(lr_vb_free_params, free = True)"
   ]
  },
  {
   "cell_type": "markdown",
   "metadata": {},
   "source": [
    "# Re-optimize"
   ]
  },
  {
   "cell_type": "code",
   "execution_count": 173,
   "metadata": {},
   "outputs": [],
   "source": [
    "new_init_dict = deepcopy(vb_opt_dict)"
   ]
  },
  {
   "cell_type": "code",
   "execution_count": 174,
   "metadata": {},
   "outputs": [
    {
     "name": "stdout",
     "output_type": "stream",
     "text": [
      "compiling preconditioned objective ... \n",
      "done. Elasped: 45.6427\n",
      "init kl: 1659.953793\n",
      "iteration [20]; kl:1647.373529; elapsed: 0.574secs\n",
      "iteration [30]; kl:1647.373138; elapsed: 0.338secs\n",
      "lbfgs converged successfully\n",
      "done. Elapsed 1.4767\n"
     ]
    }
   ],
   "source": [
    "vb_pert_dict, vb_opt_pert = \\\n",
    "    s_optim_lib.run_preconditioned_lbfgs(g_obs, \n",
    "                                            new_init_dict,\n",
    "                                            vb_params_paragami,\n",
    "                                            prior_params_dict,\n",
    "                                            gh_loc = gh_loc,\n",
    "                                            gh_weights = gh_weights,\n",
    "                                            e_log_phi = lambda means, infos : \\\n",
    "                                                           get_e_log_perturbation(means, infos, epsilon))[0:2]\n"
   ]
  },
  {
   "cell_type": "code",
   "execution_count": 175,
   "metadata": {},
   "outputs": [
    {
     "data": {
      "text/plain": [
       "DeviceArray(6.89432747, dtype=float64)"
      ]
     },
     "execution_count": 175,
     "metadata": {},
     "output_type": "execute_result"
    }
   ],
   "source": [
    "np.linalg.norm(vb_opt_pert - vb_opt)"
   ]
  },
  {
   "cell_type": "code",
   "execution_count": null,
   "metadata": {},
   "outputs": [],
   "source": []
  },
  {
   "cell_type": "markdown",
   "metadata": {},
   "source": [
    "### compare"
   ]
  },
  {
   "cell_type": "code",
   "execution_count": 176,
   "metadata": {},
   "outputs": [],
   "source": [
    "def print_diff_plot(lr_vb_free_params, vb_opt_pert, vb_opt): \n",
    "    plt.plot((lr_vb_free_params - vb_opt), \n",
    "             vb_opt_pert - vb_opt, \n",
    "             '+', color = 'red')\n",
    "\n",
    "    plt.plot(lr_vb_free_params - vb_opt, \n",
    "            lr_vb_free_params - vb_opt, \n",
    "             '-', color = 'blue')\n",
    "\n",
    "    plt.xlabel('lr')\n",
    "    plt.ylabel('re-optimized')\n"
   ]
  },
  {
   "cell_type": "code",
   "execution_count": 177,
   "metadata": {},
   "outputs": [
    {
     "data": {
      "image/png": "[encoded data removed]",
      "text/plain": [
       "<Figure size 432x288 with 1 Axes>"
      ]
     },
     "metadata": {
      "needs_background": "light"
     },
     "output_type": "display_data"
    }
   ],
   "source": [
    "# compare free parameters\n",
    "print_diff_plot(lr_vb_free_params, vb_opt_pert, vb_opt)"
   ]
  },
  {
   "cell_type": "code",
   "execution_count": 178,
   "metadata": {},
   "outputs": [
    {
     "name": "stdout",
     "output_type": "stream",
     "text": [
      "init number of cluster:  2.9863734487798776\n",
      "pert number of cluster:  3.08615213015407\n",
      "lr number of cluster:  3.030059577837124\n"
     ]
    }
   ],
   "source": [
    "print('init number of cluster: ', g(vb_opt, vb_params_paragami))\n",
    "print('pert number of cluster: ', g(vb_opt_pert, vb_params_paragami))\n",
    "print('lr number of cluster: ', g(lr_vb_free_params, vb_params_paragami))"
   ]
  },
  {
   "cell_type": "code",
   "execution_count": null,
   "metadata": {},
   "outputs": [],
   "source": []
  },
  {
   "cell_type": "markdown",
   "metadata": {},
   "source": [
    "# Fit for a range of epsilon"
   ]
  },
  {
   "cell_type": "code",
   "execution_count": 179,
   "metadata": {},
   "outputs": [
    {
     "name": "stdout",
     "output_type": "stream",
     "text": [
      "[0.         0.02040816 0.08163265 0.18367347 0.32653061 0.51020408\n",
      " 0.73469388 1.        ]\n"
     ]
    }
   ],
   "source": [
    "epsilon_list = np.linspace(0, 1, 8) ** 2 # Square to get more points close to 0\n",
    "print(epsilon_list)"
   ]
  },
  {
   "cell_type": "code",
   "execution_count": 180,
   "metadata": {},
   "outputs": [],
   "source": [
    "def refit_with_epsilon(epsilon, new_init_dict):\n",
    "    # sets new epsilon, returns new vb optimum\n",
    "    \n",
    "    vb_opt = s_optim_lib.run_preconditioned_lbfgs(g_obs, \n",
    "                                         new_init_dict,\n",
    "                                        vb_params_paragami,\n",
    "                                        prior_params_dict,\n",
    "                                        gh_loc = gh_loc,\n",
    "                                        gh_weights = gh_weights,\n",
    "                                        e_log_phi = lambda means, infos : \\\n",
    "                                                           get_e_log_perturbation(means, infos, epsilon))[1]\n",
    "        \n",
    "    return vb_opt\n"
   ]
  },
  {
   "cell_type": "code",
   "execution_count": 181,
   "metadata": {},
   "outputs": [
    {
     "name": "stdout",
     "output_type": "stream",
     "text": [
      "epsilons:  [0.         0.02040816 0.08163265 0.18367347 0.32653061 0.51020408\n",
      " 0.73469388 1.        ]\n"
     ]
    }
   ],
   "source": [
    "print('epsilons: ', epsilon_list)"
   ]
  },
  {
   "cell_type": "code",
   "execution_count": 182,
   "metadata": {},
   "outputs": [
    {
     "name": "stdout",
     "output_type": "stream",
     "text": [
      "\n",
      " re-optimzing with epsilon =  0.0\n",
      "compiling preconditioned objective ... \n",
      "done. Elasped: 46.5101\n",
      "init kl: 1718.946014\n",
      "iteration [2]; kl:1718.946007; elapsed: 0.110secs\n",
      "lbfgs converged successfully\n",
      "done. Elapsed 0.6725\n",
      "\n",
      " re-optimzing with epsilon =  0.02040816326530612\n",
      "compiling preconditioned objective ... \n",
      "done. Elasped: 45.9823\n",
      "init kl: 1717.742091\n",
      "iteration [11]; kl:1717.736326; elapsed: 0.345secs\n",
      "lbfgs converged successfully\n",
      "done. Elapsed 0.9065\n",
      "\n",
      " re-optimzing with epsilon =  0.08163265306122448\n",
      "compiling preconditioned objective ... \n",
      "done. Elasped: 46.5124\n",
      "init kl: 1714.130323\n",
      "iteration [18]; kl:1714.038753; elapsed: 0.555secs\n",
      "lbfgs converged successfully\n",
      "done. Elapsed 1.1164\n",
      "\n",
      " re-optimzing with epsilon =  0.18367346938775508\n",
      "compiling preconditioned objective ... \n",
      "done. Elasped: 45.9083\n",
      "init kl: 1708.110708\n",
      "iteration [20]; kl:1707.651608; elapsed: 0.585secs\n",
      "iteration [21]; kl:1707.651606; elapsed: 0.085secs\n",
      "lbfgs converged successfully\n",
      "done. Elapsed 1.2375\n",
      "\n",
      " re-optimzing with epsilon =  0.32653061224489793\n",
      "compiling preconditioned objective ... \n",
      "done. Elasped: 46.2974\n",
      "init kl: 1699.683248\n",
      "iteration [20]; kl:1698.251542; elapsed: 0.586secs\n",
      "iteration [24]; kl:1698.251510; elapsed: 0.162secs\n",
      "lbfgs converged successfully\n",
      "done. Elapsed 1.3209\n",
      "\n",
      " re-optimzing with epsilon =  0.5102040816326531\n",
      "compiling preconditioned objective ... \n",
      "done. Elasped: 46.913\n",
      "init kl: 1688.847942\n",
      "iteration [20]; kl:1685.413736; elapsed: 0.557secs\n",
      "iteration [31]; kl:1685.413462; elapsed: 0.372secs\n",
      "lbfgs converged successfully\n",
      "done. Elapsed 1.5194\n",
      "\n",
      " re-optimzing with epsilon =  0.7346938775510203\n",
      "compiling preconditioned objective ... \n",
      "done. Elasped: 46.1547\n",
      "init kl: 1675.604791\n",
      "iteration [20]; kl:1668.637618; elapsed: 0.592secs\n",
      "iteration [22]; kl:1668.637608; elapsed: 0.112secs\n",
      "lbfgs converged successfully\n",
      "done. Elapsed 1.2723\n",
      "\n",
      " re-optimzing with epsilon =  1.0\n",
      "compiling preconditioned objective ... \n",
      "done. Elasped: 45.7879\n",
      "init kl: 1659.953793\n",
      "iteration [20]; kl:1647.373529; elapsed: 0.593secs\n",
      "iteration [30]; kl:1647.373138; elapsed: 0.351secs\n",
      "lbfgs converged successfully\n",
      "done. Elapsed 1.5157\n"
     ]
    }
   ],
   "source": [
    "vb_pert_list = []\n",
    "for epsilon in epsilon_list: \n",
    "    print('\\n re-optimzing with epsilon = ', epsilon)\n",
    "    \n",
    "    vb_pert_list.append(refit_with_epsilon(epsilon, new_init_dict))\n"
   ]
  },
  {
   "cell_type": "code",
   "execution_count": null,
   "metadata": {},
   "outputs": [],
   "source": []
  },
  {
   "cell_type": "markdown",
   "metadata": {},
   "source": [
    "# Check free parameters"
   ]
  },
  {
   "cell_type": "code",
   "execution_count": 183,
   "metadata": {},
   "outputs": [],
   "source": [
    "lr_list = []\n",
    "\n",
    "for epsilon in epsilon_list: \n",
    "    \n",
    "    # get linear response\n",
    "    lr_list.append(epsilon_sens.predict_opt_par_from_hyper_par(epsilon))\n"
   ]
  },
  {
   "cell_type": "code",
   "execution_count": 184,
   "metadata": {},
   "outputs": [
    {
     "data": {
      "image/png": "[encoded data removed]",
      "text/plain": [
       "<Figure size 432x288 with 1 Axes>"
      ]
     },
     "metadata": {
      "needs_background": "light"
     },
     "output_type": "display_data"
    },
    {
     "data": {
      "image/png": "[encoded data removed]",
      "text/plain": [
       "<Figure size 432x288 with 1 Axes>"
      ]
     },
     "metadata": {
      "needs_background": "light"
     },
     "output_type": "display_data"
    },
    {
     "data": {
      "image/png": "[encoded data removed]",
      "text/plain": [
       "<Figure size 432x288 with 1 Axes>"
      ]
     },
     "metadata": {
      "needs_background": "light"
     },
     "output_type": "display_data"
    },
    {
     "data": {
      "image/png": "[encoded data removed]",
      "text/plain": [
       "<Figure size 432x288 with 1 Axes>"
      ]
     },
     "metadata": {
      "needs_background": "light"
     },
     "output_type": "display_data"
    },
    {
     "data": {
      "image/png": "[encoded data removed]",
      "text/plain": [
       "<Figure size 432x288 with 1 Axes>"
      ]
     },
     "metadata": {
      "needs_background": "light"
     },
     "output_type": "display_data"
    },
    {
     "data": {
      "image/png": "[encoded data removed]",
      "text/plain": [
       "<Figure size 432x288 with 1 Axes>"
      ]
     },
     "metadata": {
      "needs_background": "light"
     },
     "output_type": "display_data"
    },
    {
     "data": {
      "image/png": "[encoded data removed]",
      "text/plain": [
       "<Figure size 432x288 with 1 Axes>"
      ]
     },
     "metadata": {
      "needs_background": "light"
     },
     "output_type": "display_data"
    },
    {
     "data": {
      "image/png": "[encoded data removed]",
      "text/plain": [
       "<Figure size 432x288 with 1 Axes>"
      ]
     },
     "metadata": {
      "needs_background": "light"
     },
     "output_type": "display_data"
    }
   ],
   "source": [
    "for i in range(len(epsilon_list)): \n",
    "    plt.figure()\n",
    "    print_diff_plot(lr_list[i], vb_pert_list[i], vb_opt)\n",
    "    \n",
    "    plt.title('epsilon = {}'.format(epsilon_list[i]))\n"
   ]
  },
  {
   "cell_type": "markdown",
   "metadata": {},
   "source": [
    "# Number of clusters"
   ]
  },
  {
   "cell_type": "code",
   "execution_count": 185,
   "metadata": {},
   "outputs": [],
   "source": [
    "lr_e_num_clusters_vec = onp.zeros(len(epsilon_list))\n",
    "refit_e_num_clusters_vec = onp.zeros(len(epsilon_list))\n",
    "\n",
    "for i in range(len(epsilon_list)): \n",
    "        \n",
    "    # get number of clusters\n",
    "    refit_e_num_clusters_vec[i] = g(vb_pert_list[i], vb_params_paragami)\n",
    "    lr_e_num_clusters_vec[i] = g(lr_list[i], vb_params_paragami)\n"
   ]
  },
  {
   "cell_type": "code",
   "execution_count": 186,
   "metadata": {
    "scrolled": true
   },
   "outputs": [
    {
     "data": {
      "text/plain": [
       "<matplotlib.legend.Legend at 0x7f2c2c8a5610>"
      ]
     },
     "execution_count": 186,
     "metadata": {},
     "output_type": "execute_result"
    },
    {
     "data": {
      "image/png": "[encoded data removed]",
      "text/plain": [
       "<Figure size 432x288 with 1 Axes>"
      ]
     },
     "metadata": {
      "needs_background": "light"
     },
     "output_type": "display_data"
    }
   ],
   "source": [
    "plt.plot(epsilon_list, lr_e_num_clusters_vec, '+--')\n",
    "plt.plot(epsilon_list, refit_e_num_clusters_vec, '+-')\n",
    "\n",
    "plt.xlabel('epsilon')\n",
    "plt.ylabel('num posterior clusters')\n",
    "plt.legend(('lr', 'refit'))\n"
   ]
  },
  {
   "cell_type": "code",
   "execution_count": 188,
   "metadata": {},
   "outputs": [
    {
     "data": {
      "text/plain": [
       "array([[-0.06542558],\n",
       "       [-0.2051718 ],\n",
       "       [ 0.21178276],\n",
       "       ...,\n",
       "       [ 0.1073795 ],\n",
       "       [ 0.10099795],\n",
       "       [ 0.09165508]])"
      ]
     },
     "execution_count": 188,
     "metadata": {},
     "output_type": "execute_result"
    }
   ],
   "source": [
    "deepcopy(epsilon_sens.dinput_dhyper)"
   ]
  },
  {
   "cell_type": "code",
   "execution_count": 189,
   "metadata": {},
   "outputs": [
    {
     "data": {
      "text/plain": [
       "DeviceArray([[-0.06542558],\n",
       "             [-0.2051718 ],\n",
       "             [ 0.21178276],\n",
       "             ...,\n",
       "             [ 0.1073795 ],\n",
       "             [ 0.10099795],\n",
       "             [ 0.09165508]], dtype=float64)"
      ]
     },
     "execution_count": 189,
     "metadata": {},
     "output_type": "execute_result"
    }
   ],
   "source": [
    "epsilon_sens.dinput_dhyper"
   ]
  },
  {
   "cell_type": "code",
   "execution_count": null,
   "metadata": {},
   "outputs": [],
   "source": []
  },
  {
   "cell_type": "code",
   "execution_count": null,
   "metadata": {},
   "outputs": [],
   "source": []
  },
  {
   "cell_type": "raw",
   "metadata": {},
   "source": [
    "stick_propn_mean = vb_params_dict['ind_mix_stick_propn_mean']\n",
    "stick_propn_info = vb_params_dict['ind_mix_stick_propn_info']"
   ]
  },
  {
   "cell_type": "raw",
   "metadata": {},
   "source": [
    "foo1 = modeling_lib.get_e_func_logit_stick_vec(\n",
    "        stick_propn_mean, stick_propn_info,\n",
    "        gh_loc, gh_weights, \n",
    "        log_prior_pert)"
   ]
  },
  {
   "cell_type": "raw",
   "metadata": {},
   "source": [
    "foo2 = func_sens_lib.get_e_log_perturbation(log_prior_pert, stick_propn_mean, stick_propn_info, 1,\n",
    "                                    gh_loc, gh_weights, sum_vector = False)"
   ]
  },
  {
   "cell_type": "raw",
   "metadata": {},
   "source": [
    "import LinearResponseVariationalBayes.ExponentialFamilies as ef\n"
   ]
  },
  {
   "cell_type": "raw",
   "metadata": {},
   "source": [
    "e_phi = np.array([\n",
    "        ef.get_e_fun_normal(\n",
    "            stick_propn_mean[k], stick_propn_info[k], \\\n",
    "            gh_loc, gh_weights, log_prior_pert)\n",
    "        for k in range(len(stick_propn_mean))\n",
    "    ])"
   ]
  },
  {
   "cell_type": "raw",
   "metadata": {},
   "source": [
    "assert np.all(e_phi == -foo2)\n",
    "assert np.all(foo1 == -foo2)"
   ]
  },
  {
   "cell_type": "raw",
   "metadata": {},
   "source": [
    "foo3 = ef.get_e_fun_normal(\n",
    "            stick_propn_mean, stick_propn_info, \\\n",
    "            gh_loc, gh_weights, log_prior_pert)"
   ]
  },
  {
   "cell_type": "raw",
   "metadata": {},
   "source": [
    "assert np.all(foo3 == foo1)"
   ]
  }
 ],
 "metadata": {
  "kernelspec": {
   "display_name": "bnp_sensitivity_jax",
   "language": "python",
   "name": "bnp_sensitivity_jax"
  },
  "language_info": {
   "codemirror_mode": {
    "name": "ipython",
    "version": 3
   },
   "file_extension": ".py",
   "mimetype": "text/x-python",
   "name": "python",
   "nbconvert_exporter": "python",
   "pygments_lexer": "ipython3",
   "version": "3.8.0"
  }
 },
 "nbformat": 4,
 "nbformat_minor": 4
}
