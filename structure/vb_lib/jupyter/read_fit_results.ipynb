{
 "cells": [
  {
   "cell_type": "code",
   "execution_count": 1,
   "metadata": {
    "collapsed": false
   },
   "outputs": [],
   "source": [
    "import autograd \n",
    "\n",
    "import autograd.numpy as np\n",
    "import autograd.scipy as sp\n",
    "from numpy.polynomial.hermite import hermgauss\n",
    "\n",
    "import sys\n",
    "sys.path.insert(0, '../')\n",
    "\n",
    "import structure_model_lib\n",
    "import data_utils\n",
    "import paragami\n",
    "import structure_optimization_lib"
   ]
  },
  {
   "cell_type": "code",
   "execution_count": 2,
   "metadata": {
    "collapsed": false
   },
   "outputs": [],
   "source": [
    "from BNP_modeling import cluster_quantities_lib, modeling_lib\n",
    "import BNP_modeling.optimization_lib as opt_lib\n",
    "\n",
    "from itertools import permutations\n",
    "\n",
    "import matplotlib.pyplot as plt\n",
    "%matplotlib inline  \n",
    "\n",
    "import vittles\n",
    "\n",
    "from copy import deepcopy"
   ]
  },
  {
   "cell_type": "code",
   "execution_count": 3,
   "metadata": {
    "collapsed": true
   },
   "outputs": [],
   "source": [
    "np.random.seed(53453)"
   ]
  },
  {
   "cell_type": "markdown",
   "metadata": {
    "collapsed": true
   },
   "source": [
    "# Load data"
   ]
  },
  {
   "cell_type": "code",
   "execution_count": 4,
   "metadata": {
    "collapsed": false
   },
   "outputs": [],
   "source": [
    "n_obs=40\n",
    "n_loci=50\n",
    "n_pop=4\n",
    "\n",
    "data = np.load('../simulated_data/simulated_structure_data_nobs{}_nloci{}_npop{}.npz'.format(\n",
    "                    n_obs, n_loci, n_pop))"
   ]
  },
  {
   "cell_type": "code",
   "execution_count": 5,
   "metadata": {
    "collapsed": false
   },
   "outputs": [
    {
     "name": "stdout",
     "output_type": "stream",
     "text": [
      "true_number of populations:  4\n"
     ]
    }
   ],
   "source": [
    "# population allele frequencies\n",
    "true_pop_allele_freq = data['true_pop_allele_freq']\n",
    "\n",
    "# individual admixtures\n",
    "true_ind_admix_propn = data['true_ind_admix_propn']\n",
    "\n",
    "# observations \n",
    "g_obs = data['g_obs']\n",
    "\n",
    "assert n_obs == g_obs.shape[0]\n",
    "assert n_loci == g_obs.shape[1]\n",
    "assert n_pop == true_pop_allele_freq.shape[1]\n",
    "\n",
    "print('true_number of populations: ', n_pop)"
   ]
  },
  {
   "cell_type": "code",
   "execution_count": 6,
   "metadata": {
    "collapsed": false,
    "scrolled": true
   },
   "outputs": [
    {
     "data": {
      "text/plain": [
       "<matplotlib.image.AxesImage at 0x7fe14c7abf28>"
      ]
     },
     "execution_count": 6,
     "metadata": {},
     "output_type": "execute_result"
    },
    {
     "data": {
      "image/png": "[encoded data removed]",
      "text/plain": [
       "<Figure size 1152x144 with 1 Axes>"
      ]
     },
     "metadata": {
      "needs_background": "light"
     },
     "output_type": "display_data"
    }
   ],
   "source": [
    "plt.matshow(true_ind_admix_propn.T)"
   ]
  },
  {
   "cell_type": "markdown",
   "metadata": {
    "collapsed": true
   },
   "source": [
    "# Load fit"
   ]
  },
  {
   "cell_type": "code",
   "execution_count": 8,
   "metadata": {
    "collapsed": false
   },
   "outputs": [],
   "source": [
    "vb_opt_dict, vb_params_paragami, fit_data =\\\n",
    "    paragami.load_folded('../fits/structure_fit_nobs40_nloci50_npop4_alpha5.0.npz')\n",
    "\n",
    "# free optimal vb_parameters\n",
    "vb_opt_free_params = vb_params_paragami.flatten(vb_opt_dict, free = True)\n",
    "\n",
    "# load prior parameters\n",
    "prior_params_dict, prior_params_paragami = \\\n",
    "    structure_model_lib.get_default_prior_params()\n",
    "prior_params_dict['dp_prior_alpha'] = fit_data['alpha']\n",
    "\n",
    "# other parameters\n",
    "use_logitnormal_sticks = fit_data['use_logitnormal_sticks']\n",
    "if use_logitnormal_sticks: \n",
    "    gh_deg = int(data['gh_deg'])\n",
    "    gh_loc, gh_weights = hermgauss(gh_deg)\n",
    "else: \n",
    "    gh_loc = None\n",
    "    gh_weights = None\n",
    "    \n",
    "# assert we are at an optimum \n",
    "structure_model_lib.assert_optimizer(g_obs, vb_opt_dict, vb_params_paragami, \n",
    "                                     prior_params_dict, gh_loc = gh_loc, gh_weights = gh_weights,\n",
    "                                    use_logitnormal_sticks = use_logitnormal_sticks)"
   ]
  },
  {
   "cell_type": "markdown",
   "metadata": {},
   "source": [
    "# check results"
   ]
  },
  {
   "cell_type": "code",
   "execution_count": 9,
   "metadata": {
    "collapsed": false
   },
   "outputs": [],
   "source": [
    "if use_logitnormal_sticks: \n",
    "    e_ind_admix = cluster_quantities_lib.get_e_cluster_probabilities(\n",
    "                        vb_opt_dict['ind_mix_stick_propn_mean'], \n",
    "                        vb_opt_dict['ind_mix_stick_propn_info'],\n",
    "                        gh_loc, gh_weights)\n",
    "\n",
    "else: \n",
    "    ind_mix_stick_beta_params = vb_opt_dict['ind_mix_stick_beta_params']\n",
    "    e_stick_lengths = \\\n",
    "            modeling_lib.get_e_beta(ind_mix_stick_beta_params)\n",
    "    e_ind_admix = cluster_quantities_lib.get_mixture_weights_from_stick_break_propns(e_stick_lengths)\n",
    "\n",
    "e_pop_freq = modeling_lib.get_e_beta(vb_opt_dict['pop_freq_beta_params'])"
   ]
  },
  {
   "cell_type": "code",
   "execution_count": 10,
   "metadata": {
    "collapsed": false
   },
   "outputs": [
    {
     "data": {
      "text/plain": [
       "<matplotlib.image.AxesImage at 0x7fe14a61a0b8>"
      ]
     },
     "execution_count": 10,
     "metadata": {},
     "output_type": "execute_result"
    },
    {
     "data": {
      "image/png": "[encoded data removed]",
      "text/plain": [
       "<Figure size 1152x144 with 1 Axes>"
      ]
     },
     "metadata": {
      "needs_background": "light"
     },
     "output_type": "display_data"
    }
   ],
   "source": [
    "plt.matshow(true_ind_admix_propn.T)"
   ]
  },
  {
   "cell_type": "code",
   "execution_count": 11,
   "metadata": {
    "collapsed": false
   },
   "outputs": [
    {
     "data": {
      "text/plain": [
       "<matplotlib.image.AxesImage at 0x7fe14a60dbe0>"
      ]
     },
     "execution_count": 11,
     "metadata": {},
     "output_type": "execute_result"
    },
    {
     "data": {
      "image/png": "[encoded data removed]",
      "text/plain": [
       "<Figure size 1152x288 with 1 Axes>"
      ]
     },
     "metadata": {
      "needs_background": "light"
     },
     "output_type": "display_data"
    }
   ],
   "source": [
    "plt.matshow(e_ind_admix.T)"
   ]
  },
  {
   "cell_type": "code",
   "execution_count": null,
   "metadata": {
    "collapsed": true
   },
   "outputs": [],
   "source": []
  },
  {
   "cell_type": "code",
   "execution_count": null,
   "metadata": {
    "collapsed": true
   },
   "outputs": [],
   "source": []
  },
  {
   "cell_type": "raw",
   "metadata": {
    "collapsed": true
   },
   "source": [
    "get_kl_from_vb_free_prior_free = paragami.FlattenFunctionInput(original_fun=structure_model_lib.get_kl, \n",
    "                                    patterns = [vb_params_paragami, prior_params_paragami],\n",
    "                                    free = True,\n",
    "                                    argnums = [1, 2])"
   ]
  },
  {
   "cell_type": "raw",
   "metadata": {},
   "source": [
    "vb_sens = \\\n",
    "    vittles.HyperparameterSensitivityLinearApproximation(\n",
    "        objective_fun = lambda x, y: get_kl_from_vb_free_prior_free(g_obs, x, y, use_logitnormal_sticks, \n",
    "                                                                    gh_loc, gh_weights),\n",
    "        opt_par_value = vb_opt_free_params, \n",
    "        hyper_par_value = prior_params_paragami.flatten(prior_params_dict, free=True),\n",
    "        validate_optimum=False,\n",
    "        factorize_hessian=True,\n",
    "        hyper_par_objective_fun=None,\n",
    "        grad_tol=1e-8)\n"
   ]
  },
  {
   "cell_type": "code",
   "execution_count": null,
   "metadata": {
    "collapsed": true
   },
   "outputs": [],
   "source": []
  },
  {
   "cell_type": "code",
   "execution_count": null,
   "metadata": {
    "collapsed": true
   },
   "outputs": [],
   "source": []
  },
  {
   "cell_type": "code",
   "execution_count": null,
   "metadata": {
    "collapsed": true
   },
   "outputs": [],
   "source": []
  },
  {
   "cell_type": "code",
   "execution_count": null,
   "metadata": {
    "collapsed": true
   },
   "outputs": [],
   "source": []
  }
 ],
 "metadata": {
  "kernelspec": {
   "display_name": "Python (genomics_bnp)",
   "language": "python",
   "name": "genomic_time_series_py35"
  },
  "language_info": {
   "codemirror_mode": {
    "name": "ipython",
    "version": 3
   },
   "file_extension": ".py",
   "mimetype": "text/x-python",
   "name": "python",
   "nbconvert_exporter": "python",
   "pygments_lexer": "ipython3",
   "version": "3.5.0"
  }
 },
 "nbformat": 4,
 "nbformat_minor": 2
}
