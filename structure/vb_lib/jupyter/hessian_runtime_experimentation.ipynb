{
 "cells": [
  {
   "cell_type": "code",
   "execution_count": 1,
   "metadata": {},
   "outputs": [
    {
     "name": "stderr",
     "output_type": "stream",
     "text": [
      "/home/rliu/anaconda3/envs/bnp_sensitivity/lib/python3.8/site-packages/autograd/core.py:290: UserWarning: \n",
      "The defvjp method is deprecated. See the update guide and tutorial:\n",
      "https://github.com/HIPS/autograd/blob/master/docs/updateguide.md\n",
      "https://github.com/HIPS/autograd/blob/master/docs/tutorial.md\n",
      "  warnings.warn(deprecation_msg)\n"
     ]
    }
   ],
   "source": [
    "import autograd\n",
    "\n",
    "import autograd.numpy as np\n",
    "import autograd.scipy as sp\n",
    "from numpy.polynomial.hermite import hermgauss\n",
    "\n",
    "from vb_lib import structure_model_lib, data_utils, cavi_lib\n",
    "import vb_lib.structure_optimization_lib as str_opt_lib\n",
    "from vb_lib.preconditioner_lib import get_mfvb_cov\n",
    "\n",
    "import paragami\n",
    "import vittles\n",
    "\n",
    "from copy import deepcopy\n",
    "\n",
    "import argparse\n",
    "import distutils.util\n",
    "\n",
    "import os\n",
    "\n",
    "import time\n",
    "\n",
    "import matplotlib.pyplot as plt\n",
    "%matplotlib inline  \n",
    "\n",
    "from bnpmodeling_runjingdev import cluster_quantities_lib, modeling_lib\n"
   ]
  },
  {
   "cell_type": "code",
   "execution_count": 2,
   "metadata": {},
   "outputs": [],
   "source": [
    "np.random.seed(53453)"
   ]
  },
  {
   "cell_type": "markdown",
   "metadata": {
    "collapsed": true
   },
   "source": [
    "# Draw data"
   ]
  },
  {
   "cell_type": "code",
   "execution_count": 3,
   "metadata": {},
   "outputs": [],
   "source": [
    "n_obs = 50\n",
    "n_loci = 100\n",
    "n_pop = 4"
   ]
  },
  {
   "cell_type": "code",
   "execution_count": 4,
   "metadata": {},
   "outputs": [],
   "source": [
    "g_obs, true_pop_allele_freq, true_ind_admix_propn = \\\n",
    "    data_utils.draw_data(n_obs, n_loci, n_pop)"
   ]
  },
  {
   "cell_type": "code",
   "execution_count": 5,
   "metadata": {
    "scrolled": true
   },
   "outputs": [
    {
     "data": {
      "text/plain": [
       "<matplotlib.image.AxesImage at 0x7f27580b3040>"
      ]
     },
     "execution_count": 5,
     "metadata": {},
     "output_type": "execute_result"
    },
    {
     "data": {
      "image/png": "[encoded data removed]",
      "text/plain": [
       "<Figure size 1152x144 with 1 Axes>"
      ]
     },
     "metadata": {
      "needs_background": "light"
     },
     "output_type": "display_data"
    }
   ],
   "source": [
    "plt.matshow(true_ind_admix_propn.T)"
   ]
  },
  {
   "cell_type": "code",
   "execution_count": 6,
   "metadata": {
    "scrolled": true
   },
   "outputs": [
    {
     "data": {
      "text/plain": [
       "(50, 100, 3)"
      ]
     },
     "execution_count": 6,
     "metadata": {},
     "output_type": "execute_result"
    }
   ],
   "source": [
    "g_obs.shape"
   ]
  },
  {
   "cell_type": "markdown",
   "metadata": {},
   "source": [
    "# Get prior"
   ]
  },
  {
   "cell_type": "code",
   "execution_count": 7,
   "metadata": {},
   "outputs": [
    {
     "name": "stdout",
     "output_type": "stream",
     "text": [
      "OrderedDict:\n",
      "\t[dp_prior_alpha] = NumericArrayPattern (1,) (lb=0.0, ub=inf)\n",
      "\t[allele_prior_alpha] = NumericArrayPattern (1,) (lb=0.0, ub=inf)\n",
      "\t[allele_prior_beta] = NumericArrayPattern (1,) (lb=0.0, ub=inf)\n"
     ]
    }
   ],
   "source": [
    "prior_params_dict, prior_params_paragami = \\\n",
    "    structure_model_lib.get_default_prior_params()\n",
    "\n",
    "print(prior_params_paragami)\n",
    "\n",
    "prior_params_free = prior_params_paragami.flatten(prior_params_dict, free = True)"
   ]
  },
  {
   "cell_type": "markdown",
   "metadata": {},
   "source": [
    "# Get VB params "
   ]
  },
  {
   "cell_type": "code",
   "execution_count": 8,
   "metadata": {},
   "outputs": [],
   "source": [
    "k_approx = 8"
   ]
  },
  {
   "cell_type": "code",
   "execution_count": 9,
   "metadata": {},
   "outputs": [],
   "source": [
    "gh_deg = 8\n",
    "gh_loc, gh_weights = hermgauss(8)"
   ]
  },
  {
   "cell_type": "code",
   "execution_count": 10,
   "metadata": {
    "scrolled": true
   },
   "outputs": [
    {
     "name": "stdout",
     "output_type": "stream",
     "text": [
      "OrderedDict:\n",
      "\t[pop_freq_beta_params] = NumericArrayPattern (100, 8, 2) (lb=0.0, ub=inf)\n",
      "\t[ind_mix_stick_propn_mean] = NumericArrayPattern (50, 7) (lb=-inf, ub=inf)\n",
      "\t[ind_mix_stick_propn_info] = NumericArrayPattern (50, 7) (lb=0.0001, ub=inf)\n"
     ]
    }
   ],
   "source": [
    "use_logitnormal_sticks = True\n",
    "\n",
    "vb_params_dict, vb_params_paragami = \\\n",
    "    structure_model_lib.get_vb_params_paragami_object(n_obs, n_loci, k_approx,\n",
    "                                    use_logitnormal_sticks = use_logitnormal_sticks)\n",
    "    \n",
    "print(vb_params_paragami)"
   ]
  },
  {
   "cell_type": "code",
   "execution_count": null,
   "metadata": {},
   "outputs": [],
   "source": []
  },
  {
   "cell_type": "markdown",
   "metadata": {},
   "source": [
    "## Initialize "
   ]
  },
  {
   "cell_type": "code",
   "execution_count": 11,
   "metadata": {},
   "outputs": [],
   "source": [
    "vb_params_dict = \\\n",
    "        structure_model_lib.set_init_vb_params(g_obs, k_approx, vb_params_dict,\n",
    "                                                use_logitnormal_sticks)"
   ]
  },
  {
   "cell_type": "code",
   "execution_count": 12,
   "metadata": {},
   "outputs": [
    {
     "data": {
      "text/plain": [
       "OrderedDict([('pop_freq_beta_params', array([[[ 0.06053432,  1.        ],\n",
       "                      [ 0.52922784,  1.        ],\n",
       "                      [ 0.05263158,  1.        ],\n",
       "                      ...,\n",
       "                      [ 0.05800091,  1.        ],\n",
       "                      [ 2.61144734,  1.        ],\n",
       "                      [ 0.29876258,  1.        ]],\n",
       "              \n",
       "                     [[ 0.05263158,  1.        ],\n",
       "                      [ 0.37860458,  1.        ],\n",
       "                      [ 0.05263158,  1.        ],\n",
       "                      ...,\n",
       "                      [ 0.05263158,  1.        ],\n",
       "                      [ 0.16367399,  1.        ],\n",
       "                      [ 0.05263158,  1.        ]],\n",
       "              \n",
       "                     [[ 0.16171585,  1.        ],\n",
       "                      [ 0.05263158,  1.        ],\n",
       "                      [ 1.90739189,  1.        ],\n",
       "                      ...,\n",
       "                      [ 0.84608801,  1.        ],\n",
       "                      [ 0.44408554,  1.        ],\n",
       "                      [ 0.40024149,  1.        ]],\n",
       "              \n",
       "                     ...,\n",
       "              \n",
       "                     [[ 0.05263158,  1.        ],\n",
       "                      [ 0.67328398,  1.        ],\n",
       "                      [ 0.05263158,  1.        ],\n",
       "                      ...,\n",
       "                      [ 0.05263158,  1.        ],\n",
       "                      [19.        ,  1.        ],\n",
       "                      [ 0.29270492,  1.        ]],\n",
       "              \n",
       "                     [[ 1.12514101,  1.        ],\n",
       "                      [ 0.29667326,  1.        ],\n",
       "                      [ 0.10658111,  1.        ],\n",
       "                      ...,\n",
       "                      [ 0.35394484,  1.        ],\n",
       "                      [ 0.99725275,  1.        ],\n",
       "                      [ 0.05263158,  1.        ]],\n",
       "              \n",
       "                     [[ 0.69446952,  1.        ],\n",
       "                      [ 0.4757888 ,  1.        ],\n",
       "                      [ 0.2554425 ,  1.        ],\n",
       "                      ...,\n",
       "                      [ 0.3709678 ,  1.        ],\n",
       "                      [ 0.05847588,  1.        ],\n",
       "                      [ 0.28400607,  1.        ]]])),\n",
       "             ('ind_mix_stick_propn_mean',\n",
       "              array([[-1.24719849e+00, -2.84235277e+00, -2.78229659e+00,\n",
       "                      -3.87863933e-01,  2.88369365e-01, -1.13895457e+00,\n",
       "                      -7.53066266e-01],\n",
       "                     [-3.10164104e+00, -2.60017870e+00, -1.19370867e-01,\n",
       "                      -1.98861023e-01,  8.69232353e-03, -6.93147181e-01,\n",
       "                      -1.66533454e-15],\n",
       "                     [-3.13549422e+00, -2.52124523e+00, -2.72968986e+00,\n",
       "                      -1.61481858e-01, -2.28215350e+00, -2.17449682e+00,\n",
       "                      -2.05383614e+00],\n",
       "                     [-2.02181970e+00, -2.96065354e+00, -1.20573890e+00,\n",
       "                       3.43559656e-01, -1.23890151e+00, -1.33002173e+00,\n",
       "                      -1.02285572e+00],\n",
       "                     [-3.13320997e+00, -3.08865426e+00, -6.43063305e-01,\n",
       "                       1.02352811e-02,  3.25915300e-01, -6.93147181e-01,\n",
       "                       2.22044605e-15],\n",
       "                     [-1.24675447e+00, -2.82569398e+00, -1.31666294e+00,\n",
       "                       6.73634644e-01, -1.25084316e+00, -9.13601965e-01,\n",
       "                      -4.00979805e-01],\n",
       "                     [-2.27773138e+00, -3.03343171e+00, -1.67184067e+00,\n",
       "                      -1.18011811e+00,  1.24070519e+00, -6.93147181e-01,\n",
       "                      -1.66533454e-15],\n",
       "                     [-1.79809744e+00, -2.94350800e+00, -2.24424284e+00,\n",
       "                      -5.06301653e-01,  9.43726240e-01, -6.93147181e-01,\n",
       "                       4.44089210e-16],\n",
       "                     [-3.14416166e+00, -3.10010209e+00, -6.17509808e-01,\n",
       "                       9.12824140e-01, -1.14132084e+00, -5.70132460e-01,\n",
       "                      -7.77156117e-16],\n",
       "                     [-1.53737432e+00, -2.84715636e+00, -8.08336620e-01,\n",
       "                      -6.99270790e-01,  2.07892232e-01, -9.44118670e-01,\n",
       "                      -4.51423889e-01],\n",
       "                     [-3.07924369e+00, -3.03215834e+00, -2.98274594e+00,\n",
       "                       2.37334108e-01, -1.66316016e+00, -5.11208008e-01,\n",
       "                      -1.27380443e+00],\n",
       "                     [-9.16871807e-01, -5.55133834e-01, -2.28266480e+00,\n",
       "                      -4.00784055e-01, -4.40763381e-02, -6.93147181e-01,\n",
       "                      -4.88498131e-15],\n",
       "                     [-3.16181670e+00, -1.11599305e-01, -2.43928637e+00,\n",
       "                      -2.34802261e+00, -1.38002708e-01,  5.85812717e-01,\n",
       "                      -1.88737914e-15],\n",
       "                     [-2.95172921e+00, -5.30321990e-01, -2.54638147e+00,\n",
       "                      -1.40967270e+00, -2.22527993e+00,  5.20898969e-01,\n",
       "                       8.95762331e-01],\n",
       "                     [-2.84945514e+00,  5.57120505e-01, -1.93883394e+00,\n",
       "                      -1.78349901e+00, -8.84654358e-01, -1.16682512e+00,\n",
       "                      -7.93797358e-01],\n",
       "                     [-1.56974016e+00, -2.48335816e-01, -2.35154384e+00,\n",
       "                      -2.25147812e+00, -2.14027440e+00, -2.01513902e+00,\n",
       "                      -1.87207448e+00],\n",
       "                     [-8.08217764e-01,  3.16151360e-01, -9.44060943e-01,\n",
       "                      -1.38629436e+00, -1.09861229e+00, -6.93147181e-01,\n",
       "                      -7.77156117e-16],\n",
       "                     [-1.68921076e+00, -9.25318670e-02, -3.40772505e-01,\n",
       "                      -1.62142692e+00, -1.40125829e+00, -1.11851484e+00,\n",
       "                      -7.22854417e-01],\n",
       "                     [-3.12232735e+00, -5.02626389e-01, -2.07989239e+00,\n",
       "                      -2.44862755e+00, -2.35825187e+00, -9.03184781e-01,\n",
       "                      -1.87539496e+00],\n",
       "                     [-2.48114282e+00, -8.43661772e-01, -5.48682916e-02,\n",
       "                      -1.93953399e+00, -1.78431666e+00, -1.60049987e+00,\n",
       "                      -1.37510926e+00],\n",
       "                     [-3.21887582e+00,  4.32694419e-01, -2.17895626e+00,\n",
       "                      -2.05886604e+00, -1.92236042e+00, -1.76423030e+00,\n",
       "                      -1.57631078e+00],\n",
       "                     [-1.94705717e+00, -2.95114718e+00, -2.89745132e+00,\n",
       "                      -3.96988345e-01, -8.83425490e-01,  6.08274666e-01,\n",
       "                      -5.32475031e-01],\n",
       "                     [-5.30307714e-01, -2.64683537e+00, -2.57332321e+00,\n",
       "                      -6.91788658e-01, -2.04583127e+00,  1.85838807e-02,\n",
       "                      -1.04093192e+00],\n",
       "                     [-3.14521902e+00, -3.10120705e+00, -3.05516850e+00,\n",
       "                      -1.84464458e+00, -2.20977130e+00,  1.98206020e+00,\n",
       "                       3.55271368e-15],\n",
       "                     [-1.96683573e+00, -2.95581169e+00, -1.29639254e+00,\n",
       "                      -2.64546241e+00, -2.57184544e+00,  1.33544897e+00,\n",
       "                      -5.45869109e-01],\n",
       "                     [-6.42715085e-01, -2.69620667e+00, -1.65528137e+00,\n",
       "                      -2.43762068e+00, -2.34619761e+00,  1.44051916e+00,\n",
       "                       4.44089210e-16],\n",
       "                     [ 7.33978092e-02, -1.25975893e+00, -5.64215886e-01,\n",
       "                      -1.55603287e+00, -1.31908021e+00, -1.00795054e+00,\n",
       "                       5.53873497e-01],\n",
       "                     [-5.21299021e-03, -1.08384305e+00, -2.07819303e+00,\n",
       "                      -1.94448315e+00, -1.79009444e+00,  6.25334271e-01,\n",
       "                       8.42823281e-02],\n",
       "                     [-8.24113730e-01, -2.65972759e+00, -2.58719208e+00,\n",
       "                      -2.11769342e+00, -1.95583102e+00,  2.46254511e-02,\n",
       "                       5.22034387e-01],\n",
       "                     [-1.16827836e+00, -2.85116930e+00, -2.79165630e+00,\n",
       "                      -2.72837611e+00, -1.04963203e+00,  1.04872028e+00,\n",
       "                       6.63751638e-01],\n",
       "                     [-3.12030523e+00, -3.07515754e+00, -1.00191205e+00,\n",
       "                      -2.69718891e+00, -2.62741569e+00, -5.84343357e-01,\n",
       "                       7.99082172e-01],\n",
       "                     [-3.12692357e+00, -1.68378252e+00, -2.90322017e+00,\n",
       "                      -2.84681243e+00, -7.35756956e-02, -2.07105863e+00,\n",
       "                       1.80100142e+00],\n",
       "                     [-3.12443531e+00, -3.07947795e+00, -3.03240390e+00,\n",
       "                      -1.64353206e+00, -2.79644779e+00, -1.68641024e+00,\n",
       "                       1.27608996e+00],\n",
       "                     [-3.09104245e+00, -2.37887934e+00, -1.97267848e+00,\n",
       "                      -1.31019386e+00, -2.55882777e+00, -2.47827323e+00,\n",
       "                       1.45625844e+00],\n",
       "                     [-3.13858402e+00, -9.92190918e-01, -2.76196337e+00,\n",
       "                      -2.69671246e+00, -1.30375780e+00, -2.36687405e+00,\n",
       "                       2.26840816e+00],\n",
       "                     [-3.13549422e+00, -3.09104245e+00, -2.29091801e+00,\n",
       "                      -2.94331654e+00, -6.63952152e-01, -1.62874082e+00,\n",
       "                       2.24854963e+00],\n",
       "                     [-2.21733161e+00, -2.20895000e+00, -2.91541351e+00,\n",
       "                      -2.85970879e+00, -1.52517223e+00, -2.59053886e+00,\n",
       "                       2.51259935e+00],\n",
       "                     [-1.51285724e+00, -1.96280267e+00, -1.90068374e+00,\n",
       "                      -2.59359188e+00, -1.15165032e+00, -2.21534472e+00,\n",
       "                       2.09980379e+00],\n",
       "                     [-3.12507194e+00, -1.57530043e+00, -2.88249597e+00,\n",
       "                      -2.82487234e+00, -1.38501915e+00, -2.15469140e+00,\n",
       "                       2.40538835e+00],\n",
       "                     [-1.91042323e+00, -1.12050286e+00, -2.60474234e+00,\n",
       "                      -8.39200163e-01, -2.13373749e+00,  5.62698931e-01,\n",
       "                       7.25317106e-01],\n",
       "                     [-3.08213498e+00, -2.51173451e+00, -2.95327737e+00,\n",
       "                      -2.89969888e+00, -6.81252810e-01, -7.80408818e-01,\n",
       "                       1.11534423e+00],\n",
       "                     [-3.09104245e+00, -9.71593988e-01, -1.33625790e+00,\n",
       "                      -2.45427588e+00, -1.28762243e+00, -2.09448050e+00,\n",
       "                       5.88352883e-01],\n",
       "                     [-3.09781627e+00, -1.34959086e+00, -2.80868654e+00,\n",
       "                      -2.50123667e+00, -2.66243962e+00, -2.59010784e+00,\n",
       "                      -1.08837466e+00],\n",
       "                     [-2.99573227e+00, -1.29560837e+00, -1.24974723e+00,\n",
       "                      -1.85175310e+00, -1.08344627e+00, -1.09717826e+00,\n",
       "                      -1.46989847e+00],\n",
       "                     [-3.20802342e+00, -3.16674667e+00, -3.12369253e+00,\n",
       "                      -3.07870100e+00, -6.08764136e-02, -2.32196506e+00,\n",
       "                      -2.21873487e+00],\n",
       "                     [-1.33428230e+00, -2.59471522e+00, -2.24297686e+00,\n",
       "                      -2.53620544e+00, -2.36818936e+00,  1.19575529e-01,\n",
       "                      -4.49750925e-01],\n",
       "                     [-1.01268186e+00, -2.73556055e+00, -5.01167784e-01,\n",
       "                      -1.12567564e+00, -3.16481348e-01, -1.16115602e+00,\n",
       "                       7.85554534e-01],\n",
       "                     [-3.09104245e+00, -3.04452244e+00, -2.16371309e+00,\n",
       "                      -1.22616126e+00, -1.88670864e+00, -2.45496857e+00,\n",
       "                       7.84562570e-02],\n",
       "                     [-3.09104245e+00, -3.04452244e+00, -2.63571114e+00,\n",
       "                      -1.56379267e+00, -9.97627948e-01, -2.38307596e+00,\n",
       "                      -1.34210735e+00],\n",
       "                     [-2.32217690e+00, -2.25644078e+00, -1.57811871e+00,\n",
       "                      -1.42216370e+00, -7.59012754e-01, -1.92791444e+00,\n",
       "                       2.19884896e-02]])),\n",
       "             ('ind_mix_stick_propn_info', array([[1., 1., 1., 1., 1., 1., 1.],\n",
       "                     [1., 1., 1., 1., 1., 1., 1.],\n",
       "                     [1., 1., 1., 1., 1., 1., 1.],\n",
       "                     [1., 1., 1., 1., 1., 1., 1.],\n",
       "                     [1., 1., 1., 1., 1., 1., 1.],\n",
       "                     [1., 1., 1., 1., 1., 1., 1.],\n",
       "                     [1., 1., 1., 1., 1., 1., 1.],\n",
       "                     [1., 1., 1., 1., 1., 1., 1.],\n",
       "                     [1., 1., 1., 1., 1., 1., 1.],\n",
       "                     [1., 1., 1., 1., 1., 1., 1.],\n",
       "                     [1., 1., 1., 1., 1., 1., 1.],\n",
       "                     [1., 1., 1., 1., 1., 1., 1.],\n",
       "                     [1., 1., 1., 1., 1., 1., 1.],\n",
       "                     [1., 1., 1., 1., 1., 1., 1.],\n",
       "                     [1., 1., 1., 1., 1., 1., 1.],\n",
       "                     [1., 1., 1., 1., 1., 1., 1.],\n",
       "                     [1., 1., 1., 1., 1., 1., 1.],\n",
       "                     [1., 1., 1., 1., 1., 1., 1.],\n",
       "                     [1., 1., 1., 1., 1., 1., 1.],\n",
       "                     [1., 1., 1., 1., 1., 1., 1.],\n",
       "                     [1., 1., 1., 1., 1., 1., 1.],\n",
       "                     [1., 1., 1., 1., 1., 1., 1.],\n",
       "                     [1., 1., 1., 1., 1., 1., 1.],\n",
       "                     [1., 1., 1., 1., 1., 1., 1.],\n",
       "                     [1., 1., 1., 1., 1., 1., 1.],\n",
       "                     [1., 1., 1., 1., 1., 1., 1.],\n",
       "                     [1., 1., 1., 1., 1., 1., 1.],\n",
       "                     [1., 1., 1., 1., 1., 1., 1.],\n",
       "                     [1., 1., 1., 1., 1., 1., 1.],\n",
       "                     [1., 1., 1., 1., 1., 1., 1.],\n",
       "                     [1., 1., 1., 1., 1., 1., 1.],\n",
       "                     [1., 1., 1., 1., 1., 1., 1.],\n",
       "                     [1., 1., 1., 1., 1., 1., 1.],\n",
       "                     [1., 1., 1., 1., 1., 1., 1.],\n",
       "                     [1., 1., 1., 1., 1., 1., 1.],\n",
       "                     [1., 1., 1., 1., 1., 1., 1.],\n",
       "                     [1., 1., 1., 1., 1., 1., 1.],\n",
       "                     [1., 1., 1., 1., 1., 1., 1.],\n",
       "                     [1., 1., 1., 1., 1., 1., 1.],\n",
       "                     [1., 1., 1., 1., 1., 1., 1.],\n",
       "                     [1., 1., 1., 1., 1., 1., 1.],\n",
       "                     [1., 1., 1., 1., 1., 1., 1.],\n",
       "                     [1., 1., 1., 1., 1., 1., 1.],\n",
       "                     [1., 1., 1., 1., 1., 1., 1.],\n",
       "                     [1., 1., 1., 1., 1., 1., 1.],\n",
       "                     [1., 1., 1., 1., 1., 1., 1.],\n",
       "                     [1., 1., 1., 1., 1., 1., 1.],\n",
       "                     [1., 1., 1., 1., 1., 1., 1.],\n",
       "                     [1., 1., 1., 1., 1., 1., 1.],\n",
       "                     [1., 1., 1., 1., 1., 1., 1.]]))])"
      ]
     },
     "execution_count": 12,
     "metadata": {},
     "output_type": "execute_result"
    }
   ],
   "source": [
    "vb_params_dict"
   ]
  },
  {
   "cell_type": "code",
   "execution_count": 12,
   "metadata": {},
   "outputs": [],
   "source": [
    "def get_vb_expectations(vb_params_dict, use_logitnormal_sticks): \n",
    "    if use_logitnormal_sticks: \n",
    "        e_ind_admix = cluster_quantities_lib.get_e_cluster_probabilities(\n",
    "                            vb_params_dict['ind_mix_stick_propn_mean'], \n",
    "                            vb_params_dict['ind_mix_stick_propn_info'],\n",
    "                            gh_loc, gh_weights)\n",
    "\n",
    "    else: \n",
    "        ind_mix_stick_beta_params = vb_params_dict['ind_mix_stick_beta_params']\n",
    "        e_stick_lengths = \\\n",
    "                modeling_lib.get_e_beta(ind_mix_stick_beta_params)\n",
    "        e_ind_admix = cluster_quantities_lib.get_mixture_weights_from_stick_break_propns(e_stick_lengths)\n",
    "\n",
    "    e_pop_freq = modeling_lib.get_e_beta(vb_params_dict['pop_freq_beta_params'])\n",
    "    \n",
    "    return e_ind_admix, e_pop_freq"
   ]
  },
  {
   "cell_type": "code",
   "execution_count": 13,
   "metadata": {},
   "outputs": [
    {
     "data": {
      "text/plain": [
       "<matplotlib.image.AxesImage at 0x7effc54bb2b0>"
      ]
     },
     "execution_count": 13,
     "metadata": {},
     "output_type": "execute_result"
    },
    {
     "data": {
      "image/png": "[encoded data removed]",
      "text/plain": [
       "<Figure size 1152x184.32 with 1 Axes>"
      ]
     },
     "metadata": {
      "needs_background": "light"
     },
     "output_type": "display_data"
    }
   ],
   "source": [
    "plt.matshow(get_vb_expectations(vb_params_dict, use_logitnormal_sticks)[0].transpose())"
   ]
  },
  {
   "cell_type": "code",
   "execution_count": null,
   "metadata": {},
   "outputs": [],
   "source": []
  },
  {
   "cell_type": "markdown",
   "metadata": {},
   "source": [
    "# Run CAVI"
   ]
  },
  {
   "cell_type": "code",
   "execution_count": 14,
   "metadata": {
    "scrolled": true
   },
   "outputs": [
    {
     "name": "stdout",
     "output_type": "stream",
     "text": [
      "iteration [20]; kl:7602.104705; elapsed: 0.5005secs\n",
      "iteration [40]; kl:7564.639784; elapsed: 0.4763secs\n",
      "iteration [60]; kl:7541.840946; elapsed: 0.4926secs\n",
      "iteration [80]; kl:7529.606602; elapsed: 0.4747secs\n",
      "iteration [100]; kl:7521.16576; elapsed: 0.4894secs\n",
      "iteration [120]; kl:7498.451598; elapsed: 0.5205secs\n",
      "iteration [140]; kl:7494.317148; elapsed: 0.4728secs\n",
      "iteration [160]; kl:7492.981089; elapsed: 0.4844secs\n",
      "iteration [180]; kl:7491.628808; elapsed: 0.4898secs\n",
      "iteration [200]; kl:7488.434971; elapsed: 0.497secs\n",
      "iteration [220]; kl:7483.683139; elapsed: 0.4867secs\n",
      "iteration [240]; kl:7477.437709; elapsed: 0.4988secs\n",
      "iteration [260]; kl:7461.148045; elapsed: 0.7123secs\n",
      "iteration [280]; kl:7434.763537; elapsed: 0.6168secs\n",
      "iteration [300]; kl:7432.352247; elapsed: 0.6484secs\n",
      "iteration [320]; kl:7428.580407; elapsed: 0.494secs\n",
      "iteration [340]; kl:7417.048586; elapsed: 0.5052secs\n",
      "iteration [360]; kl:7401.451989; elapsed: 0.4804secs\n",
      "iteration [380]; kl:7394.069221; elapsed: 0.4875secs\n",
      "iteration [400]; kl:7386.154048; elapsed: 0.4831secs\n",
      "iteration [420]; kl:7382.529103; elapsed: 0.468secs\n",
      "iteration [440]; kl:7382.334751; elapsed: 0.4848secs\n",
      "iteration [460]; kl:7382.318231; elapsed: 0.4618secs\n",
      "iteration [480]; kl:7382.313401; elapsed: 0.4618secs\n",
      "iteration [500]; kl:7382.311625; elapsed: 0.4737secs\n",
      "iteration [520]; kl:7382.310841; elapsed: 0.4788secs\n",
      "iteration [540]; kl:7382.310488; elapsed: 0.463secs\n",
      "iteration [560]; kl:7382.310319; elapsed: 0.4633secs\n",
      "iteration [580]; kl:7382.310232; elapsed: 0.4638secs\n",
      "iteration [600]; kl:7382.310194; elapsed: 0.4625secs\n",
      "CAVI done. Termination after 601 steps in 15.02 seconds\n"
     ]
    }
   ],
   "source": [
    "# get beta parameters for sticks and populations\n",
    "vb_opt_dict, vb_opt, ez_opt, _, _ = \\\n",
    "    cavi_lib.run_cavi(g_obs, vb_params_dict, \n",
    "                        vb_params_paragami,\n",
    "                        prior_params_dict,\n",
    "                        use_logitnormal_sticks, \n",
    "                        gh_loc = gh_loc, gh_weights = gh_weights, \n",
    "                        max_iter = 1000,\n",
    "                        x_tol = 1e-4, \n",
    "                     print_every = 20)\n"
   ]
  },
  {
   "cell_type": "code",
   "execution_count": 15,
   "metadata": {},
   "outputs": [
    {
     "name": "stderr",
     "output_type": "stream",
     "text": [
      "/home/rliu/anaconda3/envs/bnp_sensitivity/lib/python3.8/site-packages/vb_lib/structure_model_lib.py:470: UserWarning: l-inf gradient at optimum is : 0.0006167956672764619\n",
      "  warnings.warn('l-inf gradient at optimum is : {}'.format(linf_grad))\n"
     ]
    }
   ],
   "source": [
    "structure_model_lib.assert_optimizer(g_obs, vb_opt_dict, vb_params_paragami,\n",
    "                        prior_params_dict, gh_loc, gh_weights,\n",
    "                        use_logitnormal_sticks)\n"
   ]
  },
  {
   "cell_type": "code",
   "execution_count": null,
   "metadata": {},
   "outputs": [],
   "source": []
  },
  {
   "cell_type": "markdown",
   "metadata": {},
   "source": [
    "# Define objective"
   ]
  },
  {
   "cell_type": "code",
   "execution_count": 16,
   "metadata": {},
   "outputs": [],
   "source": [
    "objective = paragami.FlattenFunctionInput(original_fun=structure_model_lib.get_kl, \n",
    "                                    patterns = [vb_params_paragami, prior_params_paragami],\n",
    "                                    free = True,\n",
    "                                    argnums = [1, 2])\n",
    "\n",
    "objective_fun = lambda x, y: objective(g_obs, x, y, \n",
    "                                       use_logitnormal_sticks = use_logitnormal_sticks, \n",
    "                                    gh_loc = gh_loc, gh_weights = gh_weights)\n"
   ]
  },
  {
   "cell_type": "code",
   "execution_count": 17,
   "metadata": {},
   "outputs": [],
   "source": [
    "# get derivative functions\n",
    "obj_fun_grad = autograd.grad(objective_fun, argnum=0)\n",
    "obj_fun_hessian = autograd.hessian(objective_fun, argnum=0)\n",
    "obj_fun_hvp = autograd.hessian_vector_product(\n",
    "            objective_fun, argnum=0)"
   ]
  },
  {
   "cell_type": "markdown",
   "metadata": {},
   "source": [
    "# Derivative times"
   ]
  },
  {
   "cell_type": "code",
   "execution_count": 18,
   "metadata": {},
   "outputs": [
    {
     "name": "stdout",
     "output_type": "stream",
     "text": [
      "function time: 0.00928sec\n"
     ]
    }
   ],
   "source": [
    "t0 = time.time()\n",
    "loss = objective_fun(vb_opt, prior_params_free)\n",
    "print('function time: {:0.3}sec'.format(time.time() - t0))"
   ]
  },
  {
   "cell_type": "code",
   "execution_count": 19,
   "metadata": {},
   "outputs": [
    {
     "name": "stdout",
     "output_type": "stream",
     "text": [
      "gradient time: 0.0439sec\n"
     ]
    }
   ],
   "source": [
    "t0 = time.time()\n",
    "grad = obj_fun_grad(vb_opt, prior_params_free)\n",
    "print('gradient time: {:0.3}sec'.format(time.time() - t0))"
   ]
  },
  {
   "cell_type": "code",
   "execution_count": 20,
   "metadata": {},
   "outputs": [],
   "source": [
    "# if its impossible, don't run the hessian\n",
    "run_hessian = False"
   ]
  },
  {
   "cell_type": "code",
   "execution_count": 21,
   "metadata": {},
   "outputs": [],
   "source": [
    "if run_hessian: \n",
    "    t0 = time.time()\n",
    "    hess = obj_fun_hessian(vb_opt, prior_params_free)\n",
    "    print('hessian time: {:0.3}sec'.format(time.time() - t0))"
   ]
  },
  {
   "cell_type": "code",
   "execution_count": 22,
   "metadata": {},
   "outputs": [],
   "source": [
    "# cross hessian \n",
    "hyper_obj_fun_grad = \\\n",
    "            autograd.grad(objective_fun, argnum=0)\n",
    "hyper_obj_cross_hess = autograd.jacobian(hyper_obj_fun_grad, argnum=1)"
   ]
  },
  {
   "cell_type": "code",
   "execution_count": 23,
   "metadata": {},
   "outputs": [
    {
     "name": "stdout",
     "output_type": "stream",
     "text": [
      "cross-hessian time: 1.74sec\n"
     ]
    }
   ],
   "source": [
    "t0 = time.time()\n",
    "cross_hess = hyper_obj_cross_hess(vb_opt, prior_params_free)\n",
    "print('cross-hessian time: {:0.3}sec'.format(time.time() - t0))"
   ]
  },
  {
   "cell_type": "code",
   "execution_count": 24,
   "metadata": {},
   "outputs": [
    {
     "name": "stdout",
     "output_type": "stream",
     "text": [
      "hvp time: 0.0789sec\n"
     ]
    }
   ],
   "source": [
    "t0 = time.time()\n",
    "hvp = obj_fun_hvp(vb_opt, prior_params_free, vb_opt)\n",
    "print('hvp time: {:0.3}sec'.format(time.time() - t0))"
   ]
  },
  {
   "cell_type": "markdown",
   "metadata": {},
   "source": [
    "# Solver times"
   ]
  },
  {
   "cell_type": "code",
   "execution_count": 25,
   "metadata": {},
   "outputs": [],
   "source": [
    "if run_hessian: \n",
    "    chol_solver = vittles.solver_lib.get_cholesky_solver(hess)\n",
    "    \n",
    "    t0 = time.time()\n",
    "    dinput_dhyper = -chol_solver(cross_hess)\n",
    "    \n",
    "    print('solver time: {:0.3}sec'.format(time.time() - t0))\n",
    "    "
   ]
  },
  {
   "cell_type": "code",
   "execution_count": 26,
   "metadata": {},
   "outputs": [
    {
     "name": "stdout",
     "output_type": "stream",
     "text": [
      "solver time: 4.29sec\n"
     ]
    }
   ],
   "source": [
    "cg_solver = vittles.solver_lib.get_cg_solver(lambda x : obj_fun_hvp(vb_opt, prior_params_free, x), \n",
    "                                            dim = len(vb_opt))\n",
    "    \n",
    "t0 = time.time()\n",
    "dinput_dhyper2 = -cg_solver(cross_hess[:, 0])\n",
    "    \n",
    "print('solver time: {:0.3}sec'.format(time.time() - t0))"
   ]
  },
  {
   "cell_type": "code",
   "execution_count": 27,
   "metadata": {},
   "outputs": [
    {
     "name": "stdout",
     "output_type": "stream",
     "text": [
      "preconditioner time: 0.234sec\n"
     ]
    }
   ],
   "source": [
    "t0 = time.time()\n",
    "mfvb_preconditioner = \\\n",
    "    get_mfvb_cov(vb_opt_dict, vb_params_paragami, use_logitnormal_sticks, return_info = True)\n",
    "\n",
    "print('preconditioner time: {:0.3}sec'.format(time.time() - t0))"
   ]
  },
  {
   "cell_type": "code",
   "execution_count": 28,
   "metadata": {},
   "outputs": [
    {
     "name": "stdout",
     "output_type": "stream",
     "text": [
      "preconditioned solver time: 3.39sec\n"
     ]
    }
   ],
   "source": [
    "cg_solver_precond = vittles.solver_lib.get_cg_solver(lambda x : obj_fun_hvp(vb_opt, prior_params_free, x), \n",
    "                                            dim = len(vb_opt), \n",
    "                                            cg_opts = {'M': mfvb_preconditioner})\n",
    "    \n",
    "t0 = time.time()\n",
    "dinput_dhyper3 = -cg_solver_precond(cross_hess[:, 0])\n",
    "    \n",
    "print('preconditioned solver time: {:0.3}sec'.format(time.time() - t0))\n",
    "\n"
   ]
  },
  {
   "cell_type": "code",
   "execution_count": 29,
   "metadata": {},
   "outputs": [
    {
     "name": "stdout",
     "output_type": "stream",
     "text": [
      "0.000163679998843147\n"
     ]
    }
   ],
   "source": [
    "if run_hessian: \n",
    "    print(np.abs(dinput_dhyper[:, 0] - dinput_dhyper2).max())\n",
    "    \n",
    "print(np.abs(dinput_dhyper3 - dinput_dhyper2).max())"
   ]
  },
  {
   "cell_type": "code",
   "execution_count": null,
   "metadata": {},
   "outputs": [],
   "source": []
  },
  {
   "cell_type": "code",
   "execution_count": null,
   "metadata": {},
   "outputs": [],
   "source": []
  }
 ],
 "metadata": {
  "kernelspec": {
   "display_name": "bnp_sensitivity",
   "language": "python",
   "name": "bnp_sensitivity"
  },
  "language_info": {
   "codemirror_mode": {
    "name": "ipython",
    "version": 3
   },
   "file_extension": ".py",
   "mimetype": "text/x-python",
   "name": "python",
   "nbconvert_exporter": "python",
   "pygments_lexer": "ipython3",
   "version": "3.8.0"
  }
 },
 "nbformat": 4,
 "nbformat_minor": 2
}
