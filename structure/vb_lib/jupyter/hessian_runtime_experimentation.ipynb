{
 "cells": [
  {
   "cell_type": "code",
   "execution_count": 1,
   "metadata": {},
   "outputs": [
    {
     "name": "stderr",
     "output_type": "stream",
     "text": [
      "/home/rliu/anaconda3/envs/bnp_sensitivity/lib/python3.8/site-packages/autograd/core.py:290: UserWarning: \n",
      "The defvjp method is deprecated. See the update guide and tutorial:\n",
      "https://github.com/HIPS/autograd/blob/master/docs/updateguide.md\n",
      "https://github.com/HIPS/autograd/blob/master/docs/tutorial.md\n",
      "  warnings.warn(deprecation_msg)\n"
     ]
    }
   ],
   "source": [
    "import autograd\n",
    "\n",
    "import autograd.numpy as np\n",
    "import autograd.scipy as sp\n",
    "from numpy.polynomial.hermite import hermgauss\n",
    "\n",
    "from vb_lib import structure_model_lib, data_utils, cavi_lib\n",
    "import vb_lib.structure_optimization_lib as str_opt_lib\n",
    "from vb_lib.preconditioner_lib import get_mfvb_cov\n",
    "\n",
    "import paragami\n",
    "import vittles\n",
    "\n",
    "from copy import deepcopy\n",
    "\n",
    "import argparse\n",
    "import distutils.util\n",
    "\n",
    "import os\n",
    "\n",
    "import time\n",
    "\n",
    "import matplotlib.pyplot as plt\n",
    "%matplotlib inline  \n",
    "\n",
    "from bnpmodeling_runjingdev import cluster_quantities_lib, modeling_lib\n"
   ]
  },
  {
   "cell_type": "code",
   "execution_count": 2,
   "metadata": {},
   "outputs": [],
   "source": [
    "np.random.seed(53453)"
   ]
  },
  {
   "cell_type": "markdown",
   "metadata": {
    "collapsed": true
   },
   "source": [
    "# Draw data"
   ]
  },
  {
   "cell_type": "code",
   "execution_count": 3,
   "metadata": {},
   "outputs": [],
   "source": [
    "n_obs = 50\n",
    "n_loci = 40\n",
    "n_pop = 4"
   ]
  },
  {
   "cell_type": "code",
   "execution_count": 4,
   "metadata": {},
   "outputs": [],
   "source": [
    "g_obs, true_pop_allele_freq, true_ind_admix_propn = \\\n",
    "    data_utils.draw_data(n_obs, n_loci, n_pop)"
   ]
  },
  {
   "cell_type": "code",
   "execution_count": 5,
   "metadata": {
    "scrolled": true
   },
   "outputs": [
    {
     "data": {
      "text/plain": [
       "<matplotlib.image.AxesImage at 0x7fae9f443910>"
      ]
     },
     "execution_count": 5,
     "metadata": {},
     "output_type": "execute_result"
    },
    {
     "data": {
      "image/png": "[encoded data removed]",
      "text/plain": [
       "<Figure size 1152x144 with 1 Axes>"
      ]
     },
     "metadata": {
      "needs_background": "light"
     },
     "output_type": "display_data"
    }
   ],
   "source": [
    "plt.matshow(true_ind_admix_propn.T)"
   ]
  },
  {
   "cell_type": "code",
   "execution_count": 6,
   "metadata": {
    "scrolled": true
   },
   "outputs": [
    {
     "data": {
      "text/plain": [
       "(50, 40, 3)"
      ]
     },
     "execution_count": 6,
     "metadata": {},
     "output_type": "execute_result"
    }
   ],
   "source": [
    "g_obs.shape"
   ]
  },
  {
   "cell_type": "markdown",
   "metadata": {},
   "source": [
    "# Get prior"
   ]
  },
  {
   "cell_type": "code",
   "execution_count": 7,
   "metadata": {},
   "outputs": [
    {
     "name": "stdout",
     "output_type": "stream",
     "text": [
      "OrderedDict:\n",
      "\t[dp_prior_alpha] = NumericArrayPattern (1,) (lb=0.0, ub=inf)\n",
      "\t[allele_prior_alpha] = NumericArrayPattern (1,) (lb=0.0, ub=inf)\n",
      "\t[allele_prior_beta] = NumericArrayPattern (1,) (lb=0.0, ub=inf)\n"
     ]
    }
   ],
   "source": [
    "prior_params_dict, prior_params_paragami = \\\n",
    "    structure_model_lib.get_default_prior_params()\n",
    "\n",
    "print(prior_params_paragami)\n",
    "\n",
    "prior_params_free = prior_params_paragami.flatten(prior_params_dict, free = True)"
   ]
  },
  {
   "cell_type": "markdown",
   "metadata": {},
   "source": [
    "# Get VB params "
   ]
  },
  {
   "cell_type": "code",
   "execution_count": 8,
   "metadata": {},
   "outputs": [],
   "source": [
    "k_approx = 8"
   ]
  },
  {
   "cell_type": "code",
   "execution_count": 9,
   "metadata": {},
   "outputs": [],
   "source": [
    "gh_deg = 8\n",
    "gh_loc, gh_weights = hermgauss(8)"
   ]
  },
  {
   "cell_type": "code",
   "execution_count": 10,
   "metadata": {
    "scrolled": true
   },
   "outputs": [
    {
     "name": "stdout",
     "output_type": "stream",
     "text": [
      "OrderedDict:\n",
      "\t[pop_freq_beta_params] = NumericArrayPattern (40, 8, 2) (lb=0.0, ub=inf)\n",
      "\t[ind_mix_stick_beta_params] = NumericArrayPattern (50, 7, 2) (lb=0.0, ub=inf)\n"
     ]
    }
   ],
   "source": [
    "use_logitnormal_sticks = False\n",
    "\n",
    "vb_params_dict, vb_params_paragami = \\\n",
    "    structure_model_lib.get_vb_params_paragami_object(n_obs, n_loci, k_approx,\n",
    "                                    use_logitnormal_sticks = use_logitnormal_sticks)\n",
    "    \n",
    "print(vb_params_paragami)"
   ]
  },
  {
   "cell_type": "code",
   "execution_count": null,
   "metadata": {},
   "outputs": [],
   "source": []
  },
  {
   "cell_type": "markdown",
   "metadata": {},
   "source": [
    "## Initialize "
   ]
  },
  {
   "cell_type": "code",
   "execution_count": 11,
   "metadata": {},
   "outputs": [],
   "source": [
    "vb_params_dict = \\\n",
    "        structure_model_lib.set_init_vb_params(g_obs, k_approx, vb_params_dict,\n",
    "                                                use_logitnormal_sticks)"
   ]
  },
  {
   "cell_type": "code",
   "execution_count": 12,
   "metadata": {},
   "outputs": [],
   "source": [
    "def get_vb_expectations(vb_params_dict, use_logitnormal_sticks): \n",
    "    if use_logitnormal_sticks: \n",
    "        e_ind_admix = cluster_quantities_lib.get_e_cluster_probabilities(\n",
    "                            vb_opt_dict['ind_mix_stick_propn_mean'], \n",
    "                            vb_opt_dict['ind_mix_stick_propn_info'],\n",
    "                            gh_loc, gh_weights)\n",
    "\n",
    "    else: \n",
    "        ind_mix_stick_beta_params = vb_params_dict['ind_mix_stick_beta_params']\n",
    "        e_stick_lengths = \\\n",
    "                modeling_lib.get_e_beta(ind_mix_stick_beta_params)\n",
    "        e_ind_admix = cluster_quantities_lib.get_mixture_weights_from_stick_break_propns(e_stick_lengths)\n",
    "\n",
    "    e_pop_freq = modeling_lib.get_e_beta(vb_params_dict['pop_freq_beta_params'])\n",
    "    \n",
    "    return e_ind_admix, e_pop_freq"
   ]
  },
  {
   "cell_type": "code",
   "execution_count": 13,
   "metadata": {},
   "outputs": [
    {
     "data": {
      "text/plain": [
       "<matplotlib.image.AxesImage at 0x7fae9ef25070>"
      ]
     },
     "execution_count": 13,
     "metadata": {},
     "output_type": "execute_result"
    },
    {
     "data": {
      "image/png": "[encoded data removed]",
      "text/plain": [
       "<Figure size 1152x184.32 with 1 Axes>"
      ]
     },
     "metadata": {
      "needs_background": "light"
     },
     "output_type": "display_data"
    }
   ],
   "source": [
    "plt.matshow(get_vb_expectations(vb_params_dict, use_logitnormal_sticks)[0].transpose())"
   ]
  },
  {
   "cell_type": "code",
   "execution_count": null,
   "metadata": {},
   "outputs": [],
   "source": []
  },
  {
   "cell_type": "markdown",
   "metadata": {},
   "source": [
    "# Run CAVI"
   ]
  },
  {
   "cell_type": "code",
   "execution_count": 26,
   "metadata": {
    "scrolled": true
   },
   "outputs": [
    {
     "name": "stdout",
     "output_type": "stream",
     "text": [
      "iteration [1]; kl:3565.380166; elapsed: 0.0936secs\n",
      "iteration [2]; kl:3561.581867; elapsed: 0.0271secs\n",
      "iteration [3]; kl:3557.856543; elapsed: 0.0212secs\n",
      "iteration [4]; kl:3554.210767; elapsed: 0.0146secs\n",
      "iteration [5]; kl:3550.656565; elapsed: 0.0141secs\n",
      "iteration [6]; kl:3547.209401; elapsed: 0.0175secs\n",
      "iteration [7]; kl:3543.88581; elapsed: 0.0158secs\n",
      "iteration [8]; kl:3540.701012; elapsed: 0.0151secs\n",
      "iteration [9]; kl:3537.666957; elapsed: 0.0139secs\n",
      "iteration [10]; kl:3534.79117; elapsed: 0.0126secs\n",
      "iteration [11]; kl:3532.076608; elapsed: 0.0112secs\n",
      "iteration [12]; kl:3529.522319; elapsed: 0.0106secs\n",
      "iteration [13]; kl:3527.124361; elapsed: 0.0101secs\n",
      "iteration [14]; kl:3524.876363; elapsed: 0.0104secs\n",
      "iteration [15]; kl:3522.769444; elapsed: 0.0108secs\n",
      "iteration [16]; kl:3520.791749; elapsed: 0.0163secs\n",
      "iteration [17]; kl:3518.928218; elapsed: 0.0143secs\n",
      "iteration [18]; kl:3517.161115; elapsed: 0.0166secs\n",
      "iteration [19]; kl:3515.471296; elapsed: 0.0257secs\n",
      "iteration [20]; kl:3513.839638; elapsed: 0.0172secs\n",
      "iteration [21]; kl:3512.248027; elapsed: 0.0174secs\n",
      "iteration [22]; kl:3510.679743; elapsed: 0.016secs\n",
      "iteration [23]; kl:3509.119479; elapsed: 0.0128secs\n",
      "iteration [24]; kl:3507.553374; elapsed: 0.011secs\n",
      "iteration [25]; kl:3505.96926; elapsed: 0.0102secs\n",
      "iteration [26]; kl:3504.357209; elapsed: 0.0103secs\n",
      "iteration [27]; kl:3502.710387; elapsed: 0.0101secs\n",
      "iteration [28]; kl:3501.026106; elapsed: 0.01secs\n",
      "iteration [29]; kl:3499.306956; elapsed: 0.0112secs\n",
      "iteration [30]; kl:3497.561706; elapsed: 0.0147secs\n",
      "iteration [31]; kl:3495.805577; elapsed: 0.0164secs\n",
      "iteration [32]; kl:3494.05939; elapsed: 0.0223secs\n",
      "iteration [33]; kl:3492.347245; elapsed: 0.0151secs\n",
      "iteration [34]; kl:3490.692911; elapsed: 0.012secs\n",
      "iteration [35]; kl:3489.115846; elapsed: 0.0106secs\n",
      "iteration [36]; kl:3487.628416; elapsed: 0.01secs\n",
      "iteration [37]; kl:3486.235558; elapsed: 0.01secs\n",
      "iteration [38]; kl:3484.936976; elapsed: 0.01secs\n",
      "iteration [39]; kl:3483.730479; elapsed: 0.01secs\n",
      "iteration [40]; kl:3482.614589; elapsed: 0.01secs\n",
      "iteration [41]; kl:3481.589159; elapsed: 0.01secs\n",
      "iteration [42]; kl:3480.654031; elapsed: 0.01secs\n",
      "iteration [43]; kl:3479.806862; elapsed: 0.01secs\n",
      "iteration [44]; kl:3479.041595; elapsed: 0.0112secs\n",
      "iteration [45]; kl:3478.348543; elapsed: 0.0147secs\n",
      "iteration [46]; kl:3477.715957; elapsed: 0.0143secs\n",
      "iteration [47]; kl:3477.132109; elapsed: 0.0125secs\n",
      "iteration [48]; kl:3476.586878; elapsed: 0.0115secs\n",
      "iteration [49]; kl:3476.07239; elapsed: 0.0161secs\n",
      "iteration [50]; kl:3475.582908; elapsed: 0.0117secs\n",
      "iteration [51]; kl:3475.114384; elapsed: 0.0105secs\n",
      "iteration [52]; kl:3474.663977; elapsed: 0.01secs\n",
      "iteration [53]; kl:3474.22967; elapsed: 0.0099secs\n",
      "iteration [54]; kl:3473.809991; elapsed: 0.01secs\n",
      "iteration [55]; kl:3473.403815; elapsed: 0.01secs\n",
      "iteration [56]; kl:3473.010241; elapsed: 0.01secs\n",
      "iteration [57]; kl:3472.628498; elapsed: 0.01secs\n",
      "iteration [58]; kl:3472.257885; elapsed: 0.01secs\n",
      "iteration [59]; kl:3471.897734; elapsed: 0.0099secs\n",
      "iteration [60]; kl:3471.547379; elapsed: 0.01secs\n",
      "iteration [61]; kl:3471.206138; elapsed: 0.0098secs\n",
      "iteration [62]; kl:3470.873303; elapsed: 0.0099secs\n",
      "iteration [63]; kl:3470.548135; elapsed: 0.0098secs\n",
      "iteration [64]; kl:3470.229854; elapsed: 0.0098secs\n",
      "iteration [65]; kl:3469.917644; elapsed: 0.0098secs\n",
      "iteration [66]; kl:3469.610654; elapsed: 0.0099secs\n",
      "iteration [67]; kl:3469.308003; elapsed: 0.0134secs\n",
      "iteration [68]; kl:3469.008786; elapsed: 0.0128secs\n",
      "iteration [69]; kl:3468.712085; elapsed: 0.0102secs\n",
      "iteration [70]; kl:3468.416977; elapsed: 0.01secs\n",
      "iteration [71]; kl:3468.122549; elapsed: 0.01secs\n",
      "iteration [72]; kl:3467.82791; elapsed: 0.01secs\n",
      "iteration [73]; kl:3467.532204; elapsed: 0.01secs\n",
      "iteration [74]; kl:3467.234625; elapsed: 0.01secs\n",
      "iteration [75]; kl:3466.934437; elapsed: 0.0129secs\n",
      "iteration [76]; kl:3466.630986; elapsed: 0.0129secs\n",
      "iteration [77]; kl:3466.323727; elapsed: 0.0177secs\n",
      "iteration [78]; kl:3466.01224; elapsed: 0.0147secs\n",
      "iteration [79]; kl:3465.696261; elapsed: 0.0115secs\n",
      "iteration [80]; kl:3465.375706; elapsed: 0.0104secs\n",
      "iteration [81]; kl:3465.050699; elapsed: 0.01secs\n",
      "iteration [82]; kl:3464.721607; elapsed: 0.01secs\n",
      "iteration [83]; kl:3464.389059; elapsed: 0.01secs\n",
      "iteration [84]; kl:3464.053964; elapsed: 0.0099secs\n",
      "iteration [85]; kl:3463.717516; elapsed: 0.0106secs\n",
      "iteration [86]; kl:3463.381177; elapsed: 0.014secs\n",
      "iteration [87]; kl:3463.046628; elapsed: 0.0107secs\n",
      "iteration [88]; kl:3462.715696; elapsed: 0.0101secs\n",
      "iteration [89]; kl:3462.390245; elapsed: 0.01secs\n",
      "iteration [90]; kl:3462.072054; elapsed: 0.01secs\n",
      "iteration [91]; kl:3461.762682; elapsed: 0.01secs\n",
      "iteration [92]; kl:3461.463364; elapsed: 0.01secs\n",
      "iteration [93]; kl:3461.174952; elapsed: 0.01secs\n",
      "iteration [94]; kl:3460.897911; elapsed: 0.01secs\n",
      "iteration [95]; kl:3460.632378; elapsed: 0.0099secs\n",
      "iteration [96]; kl:3460.378253; elapsed: 0.01secs\n",
      "iteration [97]; kl:3460.135295; elapsed: 0.0136secs\n",
      "iteration [98]; kl:3459.903202; elapsed: 0.0111secs\n",
      "iteration [99]; kl:3459.681661; elapsed: 0.0101secs\n",
      "iteration [100]; kl:3459.470357; elapsed: 0.01secs\n",
      "iteration [101]; kl:3459.268967; elapsed: 0.01secs\n",
      "iteration [102]; kl:3459.077142; elapsed: 0.01secs\n",
      "iteration [103]; kl:3458.894482; elapsed: 0.0099secs\n",
      "iteration [104]; kl:3458.720524; elapsed: 0.01secs\n",
      "iteration [105]; kl:3458.554739; elapsed: 0.0126secs\n",
      "iteration [106]; kl:3458.396534; elapsed: 0.0125secs\n",
      "iteration [107]; kl:3458.245268; elapsed: 0.0101secs\n",
      "iteration [108]; kl:3458.100269; elapsed: 0.0106secs\n",
      "iteration [109]; kl:3457.960848; elapsed: 0.0108secs\n",
      "iteration [110]; kl:3457.826319; elapsed: 0.0139secs\n",
      "iteration [111]; kl:3457.696005; elapsed: 0.0134secs\n",
      "iteration [112]; kl:3457.569247; elapsed: 0.0114secs\n",
      "iteration [113]; kl:3457.445406; elapsed: 0.0101secs\n",
      "iteration [114]; kl:3457.32386; elapsed: 0.01secs\n",
      "iteration [115]; kl:3457.204; elapsed: 0.0102secs\n",
      "iteration [116]; kl:3457.085224; elapsed: 0.01secs\n",
      "iteration [117]; kl:3456.966932; elapsed: 0.01secs\n",
      "iteration [118]; kl:3456.848511; elapsed: 0.01secs\n",
      "iteration [119]; kl:3456.729329; elapsed: 0.01secs\n",
      "iteration [120]; kl:3456.608724; elapsed: 0.0102secs\n",
      "iteration [121]; kl:3456.485993; elapsed: 0.0101secs\n",
      "iteration [122]; kl:3456.360378; elapsed: 0.01secs\n",
      "iteration [123]; kl:3456.231051; elapsed: 0.01secs\n",
      "iteration [124]; kl:3456.097103; elapsed: 0.0107secs\n",
      "iteration [125]; kl:3455.957526; elapsed: 0.0144secs\n",
      "iteration [126]; kl:3455.811194; elapsed: 0.0133secs\n",
      "iteration [127]; kl:3455.656842; elapsed: 0.017secs\n",
      "iteration [128]; kl:3455.49305; elapsed: 0.0144secs\n",
      "iteration [129]; kl:3455.318212; elapsed: 0.0117secs\n",
      "iteration [130]; kl:3455.130518; elapsed: 0.0105secs\n",
      "iteration [131]; kl:3454.927931; elapsed: 0.01secs\n",
      "iteration [132]; kl:3454.708171; elapsed: 0.01secs\n",
      "iteration [133]; kl:3454.46871; elapsed: 0.0099secs\n",
      "iteration [134]; kl:3454.206786; elapsed: 0.01secs\n",
      "iteration [135]; kl:3453.919465; elapsed: 0.01secs\n",
      "iteration [136]; kl:3453.603749; elapsed: 0.0099secs\n",
      "iteration [137]; kl:3453.256793; elapsed: 0.01secs\n",
      "iteration [138]; kl:3452.876254; elapsed: 0.01secs\n",
      "iteration [139]; kl:3452.460837; elapsed: 0.01secs\n",
      "iteration [140]; kl:3452.01107; elapsed: 0.0107secs\n",
      "iteration [141]; kl:3451.530327; elapsed: 0.0108secs\n",
      "iteration [142]; kl:3451.025977; elapsed: 0.0168secs\n",
      "iteration [143]; kl:3450.5104; elapsed: 0.0174secs\n",
      "iteration [144]; kl:3450.001256; elapsed: 0.0121secs\n",
      "iteration [145]; kl:3449.52015; elapsed: 0.0109secs\n",
      "iteration [146]; kl:3449.088849; elapsed: 0.01secs\n",
      "iteration [147]; kl:3448.723226; elapsed: 0.01secs\n",
      "iteration [148]; kl:3448.427414; elapsed: 0.01secs\n",
      "iteration [149]; kl:3448.192461; elapsed: 0.0099secs\n",
      "iteration [150]; kl:3448.001325; elapsed: 0.01secs\n",
      "iteration [151]; kl:3447.836286; elapsed: 0.0099secs\n",
      "iteration [152]; kl:3447.683408; elapsed: 0.01secs\n",
      "iteration [153]; kl:3447.533078; elapsed: 0.0099secs\n",
      "iteration [154]; kl:3447.378753; elapsed: 0.0107secs\n",
      "iteration [155]; kl:3447.215589; elapsed: 0.0106secs\n",
      "iteration [156]; kl:3447.039449; elapsed: 0.0176secs\n",
      "iteration [157]; kl:3446.846277; elapsed: 0.0118secs\n",
      "iteration [158]; kl:3446.631685; elapsed: 0.0107secs\n",
      "iteration [159]; kl:3446.390662; elapsed: 0.01secs\n",
      "iteration [160]; kl:3446.117342; elapsed: 0.01secs\n"
     ]
    },
    {
     "name": "stdout",
     "output_type": "stream",
     "text": [
      "iteration [161]; kl:3445.804805; elapsed: 0.0132secs\n",
      "iteration [162]; kl:3445.444946; elapsed: 0.0118secs\n",
      "iteration [163]; kl:3445.028464; elapsed: 0.0102secs\n",
      "iteration [164]; kl:3444.545117; elapsed: 0.01secs\n",
      "iteration [165]; kl:3443.984444; elapsed: 0.01secs\n",
      "iteration [166]; kl:3443.337291; elapsed: 0.0107secs\n",
      "iteration [167]; kl:3442.598472; elapsed: 0.0107secs\n",
      "iteration [168]; kl:3441.770767; elapsed: 0.0163secs\n",
      "iteration [169]; kl:3440.869779; elapsed: 0.0123secs\n",
      "iteration [170]; kl:3439.927919; elapsed: 0.0109secs\n",
      "iteration [171]; kl:3438.994355; elapsed: 0.01secs\n",
      "iteration [172]; kl:3438.12767; elapsed: 0.0135secs\n",
      "iteration [173]; kl:3437.381149; elapsed: 0.01secs\n",
      "iteration [174]; kl:3436.786248; elapsed: 0.01secs\n",
      "iteration [175]; kl:3436.343404; elapsed: 0.0101secs\n",
      "iteration [176]; kl:3436.026372; elapsed: 0.0124secs\n",
      "iteration [177]; kl:3435.797612; elapsed: 0.0102secs\n",
      "iteration [178]; kl:3435.624067; elapsed: 0.0111secs\n",
      "iteration [179]; kl:3435.483889; elapsed: 0.0181secs\n",
      "iteration [180]; kl:3435.364788; elapsed: 0.0195secs\n",
      "iteration [181]; kl:3435.260084; elapsed: 0.0131secs\n",
      "iteration [182]; kl:3435.165917; elapsed: 0.0115secs\n",
      "iteration [183]; kl:3435.079805; elapsed: 0.01secs\n",
      "iteration [184]; kl:3434.999971; elapsed: 0.01secs\n",
      "iteration [185]; kl:3434.925036; elapsed: 0.0101secs\n",
      "iteration [186]; kl:3434.853897; elapsed: 0.01secs\n",
      "iteration [187]; kl:3434.785661; elapsed: 0.0099secs\n",
      "iteration [188]; kl:3434.719619; elapsed: 0.01secs\n",
      "iteration [189]; kl:3434.655218; elapsed: 0.01secs\n",
      "iteration [190]; kl:3434.592037; elapsed: 0.01secs\n",
      "iteration [191]; kl:3434.529758; elapsed: 0.01secs\n",
      "iteration [192]; kl:3434.468151; elapsed: 0.0099secs\n",
      "iteration [193]; kl:3434.40705; elapsed: 0.0099secs\n",
      "iteration [194]; kl:3434.346338; elapsed: 0.0099secs\n",
      "iteration [195]; kl:3434.285938; elapsed: 0.0099secs\n",
      "iteration [196]; kl:3434.225803; elapsed: 0.0099secs\n",
      "iteration [197]; kl:3434.16591; elapsed: 0.0099secs\n",
      "iteration [198]; kl:3434.106255; elapsed: 0.0109secs\n",
      "iteration [199]; kl:3434.046847; elapsed: 0.0145secs\n",
      "Done. Warning, max iterations reached. \n"
     ]
    }
   ],
   "source": [
    "# get beta parameters for sticks and populations\n",
    "ez_opt, vb_opt_dict, _, _ = \\\n",
    "    cavi_lib.run_cavi(g_obs, vb_params_dict, \n",
    "                        prior_params_dict,\n",
    "                        use_logitnormal_sticks, \n",
    "                        max_iter = 200,\n",
    "                        f_tol = 1e-4)\n"
   ]
  },
  {
   "cell_type": "code",
   "execution_count": 27,
   "metadata": {},
   "outputs": [],
   "source": [
    "vb_opt = vb_params_paragami.flatten(vb_opt_dict, free = True)"
   ]
  },
  {
   "cell_type": "markdown",
   "metadata": {},
   "source": [
    "# Define objective"
   ]
  },
  {
   "cell_type": "code",
   "execution_count": 28,
   "metadata": {},
   "outputs": [],
   "source": [
    "objective = paragami.FlattenFunctionInput(original_fun=structure_model_lib.get_kl, \n",
    "                                    patterns = [vb_params_paragami, prior_params_paragami],\n",
    "                                    free = True,\n",
    "                                    argnums = [1, 2])\n",
    "\n",
    "objective_fun = lambda x, y: objective(g_obs, x, y, use_logitnormal_sticks = False)\n"
   ]
  },
  {
   "cell_type": "code",
   "execution_count": 29,
   "metadata": {},
   "outputs": [],
   "source": [
    "# get derivative functions\n",
    "obj_fun_grad = autograd.grad(objective_fun, argnum=0)\n",
    "obj_fun_hessian = autograd.hessian(objective_fun, argnum=0)\n",
    "obj_fun_hvp = autograd.hessian_vector_product(\n",
    "            objective_fun, argnum=0)"
   ]
  },
  {
   "cell_type": "markdown",
   "metadata": {},
   "source": [
    "# Derivative times"
   ]
  },
  {
   "cell_type": "code",
   "execution_count": 30,
   "metadata": {},
   "outputs": [
    {
     "name": "stdout",
     "output_type": "stream",
     "text": [
      "function time: 0.00719sec\n"
     ]
    }
   ],
   "source": [
    "t0 = time.time()\n",
    "loss = objective_fun(vb_opt, prior_params_free)\n",
    "print('function time: {:0.3}sec'.format(time.time() - t0))"
   ]
  },
  {
   "cell_type": "code",
   "execution_count": 31,
   "metadata": {},
   "outputs": [
    {
     "name": "stdout",
     "output_type": "stream",
     "text": [
      "gradient time: 0.0221sec\n"
     ]
    }
   ],
   "source": [
    "t0 = time.time()\n",
    "grad = obj_fun_grad(vb_opt, prior_params_free)\n",
    "print('gradient time: {:0.3}sec'.format(time.time() - t0))"
   ]
  },
  {
   "cell_type": "code",
   "execution_count": 32,
   "metadata": {},
   "outputs": [],
   "source": [
    "# if its impossible, don't run the hessian\n",
    "run_hessian = True"
   ]
  },
  {
   "cell_type": "code",
   "execution_count": 33,
   "metadata": {},
   "outputs": [
    {
     "name": "stdout",
     "output_type": "stream",
     "text": [
      "hessian time: 19.8sec\n"
     ]
    }
   ],
   "source": [
    "if run_hessian: \n",
    "    t0 = time.time()\n",
    "    hess = obj_fun_hessian(vb_opt, prior_params_free)\n",
    "    print('hessian time: {:0.3}sec'.format(time.time() - t0))"
   ]
  },
  {
   "cell_type": "code",
   "execution_count": 34,
   "metadata": {},
   "outputs": [
    {
     "name": "stdout",
     "output_type": "stream",
     "text": [
      "hvp time: 0.0292sec\n"
     ]
    }
   ],
   "source": [
    "t0 = time.time()\n",
    "hvp = obj_fun_hvp(vb_opt, prior_params_free, vb_opt)\n",
    "print('hvp time: {:0.3}sec'.format(time.time() - t0))"
   ]
  },
  {
   "cell_type": "code",
   "execution_count": 35,
   "metadata": {},
   "outputs": [],
   "source": [
    "# cross hessian \n",
    "hyper_obj_fun_grad = \\\n",
    "            autograd.grad(objective_fun, argnum=0)\n",
    "hyper_obj_cross_hess = autograd.jacobian(hyper_obj_fun_grad, argnum=1)"
   ]
  },
  {
   "cell_type": "code",
   "execution_count": 36,
   "metadata": {},
   "outputs": [
    {
     "name": "stdout",
     "output_type": "stream",
     "text": [
      "cross-hessian time: 0.602sec\n"
     ]
    }
   ],
   "source": [
    "t0 = time.time()\n",
    "cross_hess = hyper_obj_cross_hess(vb_opt, prior_params_free)\n",
    "print('cross-hessian time: {:0.3}sec'.format(time.time() - t0))"
   ]
  },
  {
   "cell_type": "markdown",
   "metadata": {},
   "source": [
    "# Solver times"
   ]
  },
  {
   "cell_type": "code",
   "execution_count": 37,
   "metadata": {},
   "outputs": [
    {
     "ename": "LinAlgError",
     "evalue": "1303-th leading minor of the array is not positive definite",
     "output_type": "error",
     "traceback": [
      "\u001b[0;31m---------------------------------------------------------------------------\u001b[0m",
      "\u001b[0;31mLinAlgError\u001b[0m                               Traceback (most recent call last)",
      "\u001b[0;32m<ipython-input-37-614f3b14619e>\u001b[0m in \u001b[0;36m<module>\u001b[0;34m\u001b[0m\n\u001b[1;32m      1\u001b[0m \u001b[0;32mif\u001b[0m \u001b[0mrun_hessian\u001b[0m\u001b[0;34m:\u001b[0m\u001b[0;34m\u001b[0m\u001b[0;34m\u001b[0m\u001b[0m\n\u001b[0;32m----> 2\u001b[0;31m     \u001b[0mchol_solver\u001b[0m \u001b[0;34m=\u001b[0m \u001b[0mvittles\u001b[0m\u001b[0;34m.\u001b[0m\u001b[0msolver_lib\u001b[0m\u001b[0;34m.\u001b[0m\u001b[0mget_cholesky_solver\u001b[0m\u001b[0;34m(\u001b[0m\u001b[0mhess\u001b[0m\u001b[0;34m)\u001b[0m\u001b[0;34m\u001b[0m\u001b[0;34m\u001b[0m\u001b[0m\n\u001b[0m\u001b[1;32m      3\u001b[0m \u001b[0;34m\u001b[0m\u001b[0m\n\u001b[1;32m      4\u001b[0m     \u001b[0mt0\u001b[0m \u001b[0;34m=\u001b[0m \u001b[0mtime\u001b[0m\u001b[0;34m.\u001b[0m\u001b[0mtime\u001b[0m\u001b[0;34m(\u001b[0m\u001b[0;34m)\u001b[0m\u001b[0;34m\u001b[0m\u001b[0;34m\u001b[0m\u001b[0m\n\u001b[1;32m      5\u001b[0m     \u001b[0mdinput_dhyper\u001b[0m \u001b[0;34m=\u001b[0m \u001b[0;34m-\u001b[0m\u001b[0mchol_solver\u001b[0m\u001b[0;34m(\u001b[0m\u001b[0mcross_hess\u001b[0m\u001b[0;34m)\u001b[0m\u001b[0;34m\u001b[0m\u001b[0;34m\u001b[0m\u001b[0m\n",
      "\u001b[0;32m~/anaconda3/envs/bnp_sensitivity/lib/python3.8/site-packages/vittles/solver_lib.py\u001b[0m in \u001b[0;36mget_cholesky_solver\u001b[0;34m(h)\u001b[0m\n\u001b[1;32m     65\u001b[0m         \u001b[0;32mreturn\u001b[0m \u001b[0mget_sparse_cholesky_solver\u001b[0m\u001b[0;34m(\u001b[0m\u001b[0mh\u001b[0m\u001b[0;34m)\u001b[0m\u001b[0;34m\u001b[0m\u001b[0;34m\u001b[0m\u001b[0m\n\u001b[1;32m     66\u001b[0m     \u001b[0;32melse\u001b[0m\u001b[0;34m:\u001b[0m\u001b[0;34m\u001b[0m\u001b[0;34m\u001b[0m\u001b[0m\n\u001b[0;32m---> 67\u001b[0;31m         \u001b[0;32mreturn\u001b[0m \u001b[0mget_dense_cholesky_solver\u001b[0m\u001b[0;34m(\u001b[0m\u001b[0mh\u001b[0m\u001b[0;34m)\u001b[0m\u001b[0;34m\u001b[0m\u001b[0;34m\u001b[0m\u001b[0m\n\u001b[0m\u001b[1;32m     68\u001b[0m \u001b[0;34m\u001b[0m\u001b[0m\n\u001b[1;32m     69\u001b[0m \u001b[0;34m\u001b[0m\u001b[0m\n",
      "\u001b[0;32m~/anaconda3/envs/bnp_sensitivity/lib/python3.8/site-packages/vittles/solver_lib.py\u001b[0m in \u001b[0;36mget_dense_cholesky_solver\u001b[0;34m(h, h_chol)\u001b[0m\n\u001b[1;32m     25\u001b[0m     \"\"\"\n\u001b[1;32m     26\u001b[0m     \u001b[0;32mif\u001b[0m \u001b[0mh_chol\u001b[0m \u001b[0;32mis\u001b[0m \u001b[0;32mNone\u001b[0m\u001b[0;34m:\u001b[0m\u001b[0;34m\u001b[0m\u001b[0;34m\u001b[0m\u001b[0m\n\u001b[0;32m---> 27\u001b[0;31m         \u001b[0mh_chol\u001b[0m \u001b[0;34m=\u001b[0m \u001b[0msp\u001b[0m\u001b[0;34m.\u001b[0m\u001b[0mlinalg\u001b[0m\u001b[0;34m.\u001b[0m\u001b[0mcho_factor\u001b[0m\u001b[0;34m(\u001b[0m\u001b[0mh\u001b[0m\u001b[0;34m)\u001b[0m\u001b[0;34m\u001b[0m\u001b[0;34m\u001b[0m\u001b[0m\n\u001b[0m\u001b[1;32m     28\u001b[0m     \u001b[0;32mdef\u001b[0m \u001b[0msolve\u001b[0m\u001b[0;34m(\u001b[0m\u001b[0mv\u001b[0m\u001b[0;34m)\u001b[0m\u001b[0;34m:\u001b[0m\u001b[0;34m\u001b[0m\u001b[0;34m\u001b[0m\u001b[0m\n\u001b[1;32m     29\u001b[0m         \u001b[0;32mreturn\u001b[0m \u001b[0msp\u001b[0m\u001b[0;34m.\u001b[0m\u001b[0mlinalg\u001b[0m\u001b[0;34m.\u001b[0m\u001b[0mcho_solve\u001b[0m\u001b[0;34m(\u001b[0m\u001b[0mh_chol\u001b[0m\u001b[0;34m,\u001b[0m \u001b[0mv\u001b[0m\u001b[0;34m)\u001b[0m\u001b[0;34m\u001b[0m\u001b[0;34m\u001b[0m\u001b[0m\n",
      "\u001b[0;32m~/anaconda3/envs/bnp_sensitivity/lib/python3.8/site-packages/scipy/linalg/decomp_cholesky.py\u001b[0m in \u001b[0;36mcho_factor\u001b[0;34m(a, lower, overwrite_a, check_finite)\u001b[0m\n\u001b[1;32m    152\u001b[0m \u001b[0;34m\u001b[0m\u001b[0m\n\u001b[1;32m    153\u001b[0m     \"\"\"\n\u001b[0;32m--> 154\u001b[0;31m     c, lower = _cholesky(a, lower=lower, overwrite_a=overwrite_a, clean=False,\n\u001b[0m\u001b[1;32m    155\u001b[0m                          check_finite=check_finite)\n\u001b[1;32m    156\u001b[0m     \u001b[0;32mreturn\u001b[0m \u001b[0mc\u001b[0m\u001b[0;34m,\u001b[0m \u001b[0mlower\u001b[0m\u001b[0;34m\u001b[0m\u001b[0;34m\u001b[0m\u001b[0m\n",
      "\u001b[0;32m~/anaconda3/envs/bnp_sensitivity/lib/python3.8/site-packages/scipy/linalg/decomp_cholesky.py\u001b[0m in \u001b[0;36m_cholesky\u001b[0;34m(a, lower, overwrite_a, clean, check_finite)\u001b[0m\n\u001b[1;32m     37\u001b[0m     \u001b[0mc\u001b[0m\u001b[0;34m,\u001b[0m \u001b[0minfo\u001b[0m \u001b[0;34m=\u001b[0m \u001b[0mpotrf\u001b[0m\u001b[0;34m(\u001b[0m\u001b[0ma1\u001b[0m\u001b[0;34m,\u001b[0m \u001b[0mlower\u001b[0m\u001b[0;34m=\u001b[0m\u001b[0mlower\u001b[0m\u001b[0;34m,\u001b[0m \u001b[0moverwrite_a\u001b[0m\u001b[0;34m=\u001b[0m\u001b[0moverwrite_a\u001b[0m\u001b[0;34m,\u001b[0m \u001b[0mclean\u001b[0m\u001b[0;34m=\u001b[0m\u001b[0mclean\u001b[0m\u001b[0;34m)\u001b[0m\u001b[0;34m\u001b[0m\u001b[0;34m\u001b[0m\u001b[0m\n\u001b[1;32m     38\u001b[0m     \u001b[0;32mif\u001b[0m \u001b[0minfo\u001b[0m \u001b[0;34m>\u001b[0m \u001b[0;36m0\u001b[0m\u001b[0;34m:\u001b[0m\u001b[0;34m\u001b[0m\u001b[0;34m\u001b[0m\u001b[0m\n\u001b[0;32m---> 39\u001b[0;31m         raise LinAlgError(\"%d-th leading minor of the array is not positive \"\n\u001b[0m\u001b[1;32m     40\u001b[0m                           \"definite\" % info)\n\u001b[1;32m     41\u001b[0m     \u001b[0;32mif\u001b[0m \u001b[0minfo\u001b[0m \u001b[0;34m<\u001b[0m \u001b[0;36m0\u001b[0m\u001b[0;34m:\u001b[0m\u001b[0;34m\u001b[0m\u001b[0;34m\u001b[0m\u001b[0m\n",
      "\u001b[0;31mLinAlgError\u001b[0m: 1303-th leading minor of the array is not positive definite"
     ]
    }
   ],
   "source": [
    "if run_hessian: \n",
    "    chol_solver = vittles.solver_lib.get_cholesky_solver(hess)\n",
    "    \n",
    "    t0 = time.time()\n",
    "    dinput_dhyper = -chol_solver(cross_hess)\n",
    "    \n",
    "    print('solver time: {:0.3}sec'.format(time.time() - t0))"
   ]
  },
  {
   "cell_type": "code",
   "execution_count": null,
   "metadata": {},
   "outputs": [],
   "source": [
    "cg_solver = vittles.solver_lib.get_cg_solver(lambda x : obj_fun_hvp(vb_opt, prior_params_free, x), \n",
    "                                            dim = len(vb_opt))\n",
    "    \n",
    "t0 = time.time()\n",
    "dinput_dhyper2 = -cg_solver(cross_hess[:, 0])\n",
    "    \n",
    "print('solver time: {:0.3}sec'.format(time.time() - t0))"
   ]
  },
  {
   "cell_type": "code",
   "execution_count": null,
   "metadata": {},
   "outputs": [],
   "source": [
    "t0 = time.time()\n",
    "preconditioner = \\\n",
    "    get_mfvb_cov(vb_opt_dict, vb_params_paragami, use_logitnormal_sticks, return_info = True)\n",
    "\n",
    "print('preconditioner time: {:0.3}sec'.format(time.time() - t0))"
   ]
  },
  {
   "cell_type": "code",
   "execution_count": null,
   "metadata": {},
   "outputs": [],
   "source": [
    "cg_solver_precond = vittles.solver_lib.get_cg_solver(lambda x : obj_fun_hvp(vb_opt, prior_params_free, x), \n",
    "                                            dim = len(vb_opt), \n",
    "                                            cg_opts = {'M': preconditioner})\n",
    "    \n",
    "t0 = time.time()\n",
    "dinput_dhyper3 = -cg_solver_precond(cross_hess[:, 0])\n",
    "    \n",
    "print('preconditioned solver time: {:0.3}sec'.format(time.time() - t0))"
   ]
  },
  {
   "cell_type": "code",
   "execution_count": null,
   "metadata": {},
   "outputs": [],
   "source": []
  },
  {
   "cell_type": "code",
   "execution_count": null,
   "metadata": {},
   "outputs": [],
   "source": []
  },
  {
   "cell_type": "code",
   "execution_count": null,
   "metadata": {},
   "outputs": [],
   "source": []
  }
 ],
 "metadata": {
  "kernelspec": {
   "display_name": "bnp_sensitivity",
   "language": "python",
   "name": "bnp_sensitivity"
  },
  "language_info": {
   "codemirror_mode": {
    "name": "ipython",
    "version": 3
   },
   "file_extension": ".py",
   "mimetype": "text/x-python",
   "name": "python",
   "nbconvert_exporter": "python",
   "pygments_lexer": "ipython3",
   "version": "3.8.0"
  }
 },
 "nbformat": 4,
 "nbformat_minor": 2
}
