{
 "cells": [
  {
   "cell_type": "code",
   "execution_count": 1,
   "metadata": {
    "collapsed": false
   },
   "outputs": [],
   "source": [
    "import autograd \n",
    "\n",
    "import autograd.numpy as np\n",
    "import autograd.scipy as sp\n",
    "from numpy.polynomial.hermite import hermgauss\n",
    "\n",
    "import sys\n",
    "sys.path.insert(0, '../')\n",
    "\n",
    "import structure_model_lib\n",
    "import data_utils\n",
    "import paragami\n",
    "\n",
    "import structure_optimization_lib as str_opt_lib\n",
    "\n",
    "import LinearResponseVariationalBayes.ExponentialFamilies as ef"
   ]
  },
  {
   "cell_type": "code",
   "execution_count": 2,
   "metadata": {
    "collapsed": false
   },
   "outputs": [],
   "source": [
    "from BNP_modeling import cluster_quantities_lib, modeling_lib\n",
    "import BNP_modeling.optimization_lib as opt_lib\n",
    "import cavi_lib\n",
    "\n",
    "from itertools import permutations\n",
    "\n",
    "import matplotlib.pyplot as plt\n",
    "%matplotlib inline  \n",
    "\n",
    "import vittles\n",
    "\n",
    "from copy import deepcopy"
   ]
  },
  {
   "cell_type": "code",
   "execution_count": 3,
   "metadata": {
    "collapsed": true
   },
   "outputs": [],
   "source": [
    "np.random.seed(53453)"
   ]
  },
  {
   "cell_type": "markdown",
   "metadata": {
    "collapsed": true
   },
   "source": [
    "# Draw data"
   ]
  },
  {
   "cell_type": "code",
   "execution_count": 4,
   "metadata": {
    "collapsed": false
   },
   "outputs": [],
   "source": [
    "n_obs = 40\n",
    "n_loci = 50\n",
    "n_pop = 4\n",
    "\n",
    "# population allele frequencies\n",
    "true_pop_allele_freq = np.random.random((n_loci, n_pop))\n",
    "\n",
    "# individual admixtures\n",
    "true_ind_admix_propn = np.random.dirichlet(np.ones(n_pop) / n_pop, size = (n_obs))"
   ]
  },
  {
   "cell_type": "code",
   "execution_count": 5,
   "metadata": {
    "collapsed": false,
    "scrolled": true
   },
   "outputs": [],
   "source": [
    "clustering_indx = data_utils.cluster_admix_get_indx(true_ind_admix_propn)\n",
    "true_ind_admix_propn = true_ind_admix_propn[clustering_indx, :]"
   ]
  },
  {
   "cell_type": "code",
   "execution_count": 6,
   "metadata": {
    "collapsed": false,
    "scrolled": true
   },
   "outputs": [
    {
     "data": {
      "text/plain": [
       "<matplotlib.image.AxesImage at 0x7f3e7f0fee10>"
      ]
     },
     "execution_count": 6,
     "metadata": {},
     "output_type": "execute_result"
    },
    {
     "data": {
      "image/png": "[encoded data removed]",
      "text/plain": [
       "<Figure size 1152x144 with 1 Axes>"
      ]
     },
     "metadata": {
      "needs_background": "light"
     },
     "output_type": "display_data"
    }
   ],
   "source": [
    "plt.matshow(true_ind_admix_propn.T)"
   ]
  },
  {
   "cell_type": "code",
   "execution_count": 7,
   "metadata": {
    "collapsed": false
   },
   "outputs": [],
   "source": [
    "g_obs = data_utils.draw_data(true_pop_allele_freq, true_ind_admix_propn)"
   ]
  },
  {
   "cell_type": "code",
   "execution_count": 8,
   "metadata": {
    "collapsed": false,
    "scrolled": true
   },
   "outputs": [
    {
     "data": {
      "text/plain": [
       "(40, 50, 3)"
      ]
     },
     "execution_count": 8,
     "metadata": {},
     "output_type": "execute_result"
    }
   ],
   "source": [
    "g_obs.shape"
   ]
  },
  {
   "cell_type": "markdown",
   "metadata": {},
   "source": [
    "# Get prior"
   ]
  },
  {
   "cell_type": "code",
   "execution_count": 9,
   "metadata": {
    "collapsed": false
   },
   "outputs": [
    {
     "name": "stdout",
     "output_type": "stream",
     "text": [
      "OrderedDict:\n",
      "\t[dp_prior_alpha] = NumericArrayPattern (1,) (lb=0.0, ub=inf)\n",
      "\t[allele_prior_alpha] = NumericArrayPattern (1,) (lb=0.0, ub=inf)\n",
      "\t[allele_prior_beta] = NumericArrayPattern (1,) (lb=0.0, ub=inf)\n"
     ]
    }
   ],
   "source": [
    "prior_params_dict, prior_params_paragami = \\\n",
    "    structure_model_lib.get_default_prior_params()\n",
    "\n",
    "print(prior_params_paragami)\n",
    "\n",
    "prior_free_params = prior_params_paragami.flatten(prior_params_dict, free=True)"
   ]
  },
  {
   "cell_type": "markdown",
   "metadata": {},
   "source": [
    "# Get VB params "
   ]
  },
  {
   "cell_type": "code",
   "execution_count": 10,
   "metadata": {
    "collapsed": true
   },
   "outputs": [],
   "source": [
    "use_logitnormal_sticks = False"
   ]
  },
  {
   "cell_type": "code",
   "execution_count": 11,
   "metadata": {
    "collapsed": true
   },
   "outputs": [],
   "source": [
    "k_approx = 6"
   ]
  },
  {
   "cell_type": "code",
   "execution_count": 12,
   "metadata": {
    "collapsed": true
   },
   "outputs": [],
   "source": [
    "gh_deg = 8\n",
    "gh_loc, gh_weights = hermgauss(8)"
   ]
  },
  {
   "cell_type": "code",
   "execution_count": 13,
   "metadata": {
    "collapsed": false,
    "scrolled": true
   },
   "outputs": [
    {
     "name": "stdout",
     "output_type": "stream",
     "text": [
      "OrderedDict:\n",
      "\t[pop_freq_beta_params] = NumericArrayPattern (50, 6, 2) (lb=0.0, ub=inf)\n",
      "\t[ind_mix_stick_beta_params] = NumericArrayPattern (40, 5, 2) (lb=0.0, ub=inf)\n"
     ]
    }
   ],
   "source": [
    "vb_params_dict, vb_params_paragami = \\\n",
    "    structure_model_lib.get_vb_params_paragami_object(n_obs, n_loci, k_approx, use_logitnormal_sticks)\n",
    "    \n",
    "print(vb_params_paragami)"
   ]
  },
  {
   "cell_type": "markdown",
   "metadata": {},
   "source": [
    "## Initialize "
   ]
  },
  {
   "cell_type": "code",
   "execution_count": 14,
   "metadata": {
    "collapsed": false
   },
   "outputs": [],
   "source": [
    "vb_params_dict = structure_model_lib.set_init_vb_params(g_obs, k_approx, vb_params_dict, \n",
    "                                                        use_logitnormal_sticks)"
   ]
  },
  {
   "cell_type": "code",
   "execution_count": 15,
   "metadata": {
    "collapsed": false
   },
   "outputs": [],
   "source": [
    "# take a look at init \n",
    "if use_logitnormal_sticks: \n",
    "    e_ind_admix = cluster_quantities_lib.get_e_cluster_probabilities(\n",
    "                        vb_params_dict['ind_mix_stick_propn_mean'], \n",
    "                        vb_params_dict['ind_mix_stick_propn_info'],\n",
    "                        gh_loc, gh_weights)\n",
    "\n",
    "else: \n",
    "    # take a look at init \n",
    "    ind_mix_stick_beta_params = vb_params_dict['ind_mix_stick_beta_params']\n",
    "    e_stick_lengths = \\\n",
    "            modeling_lib.get_e_beta(ind_mix_stick_beta_params)\n",
    "    e_ind_admix = cluster_quantities_lib.get_mixture_weights_from_stick_break_propns(e_stick_lengths)\n",
    "\n",
    "e_pop_freq = modeling_lib.get_e_beta(vb_params_dict['pop_freq_beta_params'])"
   ]
  },
  {
   "cell_type": "code",
   "execution_count": 16,
   "metadata": {
    "collapsed": false
   },
   "outputs": [],
   "source": [
    "if k_approx < 6: \n",
    "    # find minimizing permutation \n",
    "    # only feasible if k_approx is small, \n",
    "    # else my computer freezes\n",
    "    perm = data_utils.find_min_perm(e_pop_freq, true_pop_allele_freq, axis = 1)\n",
    "else: \n",
    "    perm = np.arange(k_approx)\n",
    "    \n",
    "e_pop_freq = e_pop_freq[:, perm]\n",
    "e_ind_admix = e_ind_admix[:, perm]"
   ]
  },
  {
   "cell_type": "code",
   "execution_count": 17,
   "metadata": {
    "collapsed": false
   },
   "outputs": [
    {
     "data": {
      "image/png": "[encoded data removed]",
      "text/plain": [
       "<Figure size 1152x172.8 with 1 Axes>"
      ]
     },
     "metadata": {
      "needs_background": "light"
     },
     "output_type": "display_data"
    },
    {
     "data": {
      "image/png": "[encoded data removed]",
      "text/plain": [
       "<Figure size 1152x144 with 1 Axes>"
      ]
     },
     "metadata": {
      "needs_background": "light"
     },
     "output_type": "display_data"
    }
   ],
   "source": [
    "plt.matshow(e_ind_admix.T); \n",
    "plt.matshow(true_ind_admix_propn.T);"
   ]
  },
  {
   "cell_type": "code",
   "execution_count": 18,
   "metadata": {
    "collapsed": false
   },
   "outputs": [
    {
     "name": "stdout",
     "output_type": "stream",
     "text": [
      "iteration [0]; kl:3952.608162\n",
      "iteration [1]; kl:3392.455286\n",
      "iteration [2]; kl:3303.661196\n",
      "iteration [3]; kl:3277.030543\n",
      "iteration [4]; kl:3264.05157\n",
      "iteration [5]; kl:3255.748158\n",
      "iteration [6]; kl:3249.762555\n",
      "iteration [7]; kl:3245.140411\n",
      "iteration [8]; kl:3241.393956\n",
      "iteration [9]; kl:3238.246244\n",
      "iteration [10]; kl:3235.529129\n",
      "iteration [11]; kl:3233.134617\n",
      "iteration [12]; kl:3230.989707\n",
      "iteration [13]; kl:3229.04276\n",
      "iteration [14]; kl:3227.255823\n",
      "iteration [15]; kl:3225.600129\n",
      "iteration [16]; kl:3224.053327\n",
      "iteration [17]; kl:3222.597673\n",
      "iteration [18]; kl:3221.218805\n",
      "iteration [19]; kl:3219.90488\n",
      "iteration [20]; kl:3218.645959\n",
      "iteration [21]; kl:3217.433569\n",
      "iteration [22]; kl:3216.260393\n",
      "iteration [23]; kl:3215.120061\n",
      "iteration [24]; kl:3214.007007\n",
      "iteration [25]; kl:3212.916375\n",
      "iteration [26]; kl:3211.843963\n",
      "iteration [27]; kl:3210.786181\n",
      "iteration [28]; kl:3209.740023\n",
      "iteration [29]; kl:3208.703039\n",
      "iteration [30]; kl:3207.673314\n",
      "iteration [31]; kl:3206.649453\n",
      "iteration [32]; kl:3205.630569\n",
      "iteration [33]; kl:3204.616284\n",
      "iteration [34]; kl:3203.606734\n",
      "iteration [35]; kl:3202.602584\n",
      "iteration [36]; kl:3201.605036\n",
      "iteration [37]; kl:3200.615836\n",
      "iteration [38]; kl:3199.63727\n",
      "iteration [39]; kl:3198.672124\n",
      "iteration [40]; kl:3197.723619\n",
      "iteration [41]; kl:3196.795304\n",
      "iteration [42]; kl:3195.890898\n",
      "iteration [43]; kl:3195.014102\n",
      "iteration [44]; kl:3194.16839\n",
      "iteration [45]; kl:3193.35681\n",
      "iteration [46]; kl:3192.581816\n",
      "iteration [47]; kl:3191.845174\n",
      "iteration [48]; kl:3191.147927\n",
      "iteration [49]; kl:3190.490445\n",
      "iteration [50]; kl:3189.872518\n",
      "iteration [51]; kl:3189.293496\n",
      "iteration [52]; kl:3188.752427\n",
      "iteration [53]; kl:3188.24819\n",
      "iteration [54]; kl:3187.779589\n",
      "iteration [55]; kl:3187.345415\n",
      "iteration [56]; kl:3186.944467\n",
      "iteration [57]; kl:3186.575548\n",
      "iteration [58]; kl:3186.237429\n",
      "iteration [59]; kl:3185.928822\n",
      "iteration [60]; kl:3185.648342\n",
      "iteration [61]; kl:3185.39449\n",
      "iteration [62]; kl:3185.165645\n",
      "iteration [63]; kl:3184.960076\n",
      "iteration [64]; kl:3184.77596\n",
      "iteration [65]; kl:3184.611418\n",
      "iteration [66]; kl:3184.464557\n",
      "iteration [67]; kl:3184.333506\n",
      "iteration [68]; kl:3184.216459\n",
      "iteration [69]; kl:3184.111708\n",
      "iteration [70]; kl:3184.01767\n",
      "iteration [71]; kl:3183.932904\n",
      "iteration [72]; kl:3183.856122\n",
      "iteration [73]; kl:3183.786187\n",
      "iteration [74]; kl:3183.722111\n",
      "iteration [75]; kl:3183.663043\n",
      "iteration [76]; kl:3183.608256\n",
      "iteration [77]; kl:3183.557132\n",
      "iteration [78]; kl:3183.509149\n",
      "iteration [79]; kl:3183.463864\n",
      "iteration [80]; kl:3183.420903\n",
      "iteration [81]; kl:3183.379946\n",
      "iteration [82]; kl:3183.340722\n",
      "iteration [83]; kl:3183.302998\n",
      "iteration [84]; kl:3183.266574\n",
      "iteration [85]; kl:3183.231273\n",
      "iteration [86]; kl:3183.196945\n",
      "iteration [87]; kl:3183.163455\n",
      "iteration [88]; kl:3183.130685\n",
      "iteration [89]; kl:3183.09853\n",
      "iteration [90]; kl:3183.066895\n",
      "iteration [91]; kl:3183.035697\n",
      "iteration [92]; kl:3183.004861\n",
      "iteration [93]; kl:3182.974316\n",
      "iteration [94]; kl:3182.944\n",
      "iteration [95]; kl:3182.913857\n",
      "iteration [96]; kl:3182.883834\n",
      "iteration [97]; kl:3182.853882\n",
      "iteration [98]; kl:3182.823956\n",
      "iteration [99]; kl:3182.794016\n",
      "iteration [100]; kl:3182.764021\n",
      "iteration [101]; kl:3182.733934\n",
      "iteration [102]; kl:3182.703721\n",
      "iteration [103]; kl:3182.673348\n",
      "iteration [104]; kl:3182.642782\n",
      "iteration [105]; kl:3182.611991\n",
      "iteration [106]; kl:3182.580944\n",
      "iteration [107]; kl:3182.54961\n",
      "iteration [108]; kl:3182.517956\n",
      "iteration [109]; kl:3182.485951\n",
      "iteration [110]; kl:3182.453561\n",
      "iteration [111]; kl:3182.42075\n",
      "iteration [112]; kl:3182.387481\n",
      "iteration [113]; kl:3182.353714\n",
      "iteration [114]; kl:3182.319405\n",
      "iteration [115]; kl:3182.284505\n",
      "iteration [116]; kl:3182.248963\n",
      "iteration [117]; kl:3182.212719\n",
      "iteration [118]; kl:3182.175707\n",
      "iteration [119]; kl:3182.137853\n",
      "iteration [120]; kl:3182.099071\n",
      "iteration [121]; kl:3182.059266\n",
      "iteration [122]; kl:3182.018329\n",
      "iteration [123]; kl:3181.976133\n",
      "iteration [124]; kl:3181.932536\n",
      "iteration [125]; kl:3181.88737\n",
      "iteration [126]; kl:3181.840447\n",
      "iteration [127]; kl:3181.791544\n",
      "iteration [128]; kl:3181.740409\n",
      "iteration [129]; kl:3181.686746\n",
      "iteration [130]; kl:3181.630215\n",
      "iteration [131]; kl:3181.570422\n",
      "iteration [132]; kl:3181.506909\n",
      "iteration [133]; kl:3181.439147\n",
      "iteration [134]; kl:3181.366524\n",
      "iteration [135]; kl:3181.288332\n",
      "iteration [136]; kl:3181.203756\n",
      "iteration [137]; kl:3181.111858\n",
      "iteration [138]; kl:3181.011572\n",
      "iteration [139]; kl:3180.901684\n",
      "iteration [140]; kl:3180.780836\n",
      "iteration [141]; kl:3180.647527\n",
      "iteration [142]; kl:3180.500131\n",
      "iteration [143]; kl:3180.336939\n",
      "iteration [144]; kl:3180.156233\n",
      "iteration [145]; kl:3179.9564\n",
      "iteration [146]; kl:3179.736107\n",
      "iteration [147]; kl:3179.494539\n",
      "iteration [148]; kl:3179.231705\n",
      "iteration [149]; kl:3178.94879\n",
      "iteration [150]; kl:3178.648515\n",
      "iteration [151]; kl:3178.335419\n",
      "iteration [152]; kl:3178.015942\n",
      "iteration [153]; kl:3177.698192\n",
      "iteration [154]; kl:3177.391318\n",
      "iteration [155]; kl:3177.104493\n",
      "iteration [156]; kl:3176.8457\n",
      "iteration [157]; kl:3176.620613\n",
      "iteration [158]; kl:3176.431877\n",
      "iteration [159]; kl:3176.279009\n",
      "iteration [160]; kl:3176.158889\n",
      "iteration [161]; kl:3176.066663\n",
      "iteration [162]; kl:3175.996747\n",
      "iteration [163]; kl:3175.943703\n",
      "iteration [164]; kl:3175.902813\n",
      "iteration [165]; kl:3175.87034\n",
      "iteration [166]; kl:3175.843532\n",
      "iteration [167]; kl:3175.82048\n",
      "iteration [168]; kl:3175.799922\n",
      "iteration [169]; kl:3175.781049\n",
      "iteration [170]; kl:3175.763355\n",
      "iteration [171]; kl:3175.746527\n",
      "iteration [172]; kl:3175.730371\n",
      "iteration [173]; kl:3175.714763\n",
      "iteration [174]; kl:3175.699622\n",
      "iteration [175]; kl:3175.684896\n",
      "iteration [176]; kl:3175.670544\n",
      "iteration [177]; kl:3175.656539\n",
      "iteration [178]; kl:3175.642856\n",
      "iteration [179]; kl:3175.629477\n",
      "iteration [180]; kl:3175.616387\n",
      "iteration [181]; kl:3175.603571\n",
      "iteration [182]; kl:3175.591017\n",
      "iteration [183]; kl:3175.578715\n",
      "iteration [184]; kl:3175.566653\n",
      "iteration [185]; kl:3175.554823\n",
      "iteration [186]; kl:3175.543216\n",
      "iteration [187]; kl:3175.531825\n",
      "iteration [188]; kl:3175.520641\n",
      "iteration [189]; kl:3175.509659\n",
      "iteration [190]; kl:3175.498872\n",
      "iteration [191]; kl:3175.488274\n",
      "iteration [192]; kl:3175.477859\n",
      "iteration [193]; kl:3175.467622\n",
      "iteration [194]; kl:3175.457558\n",
      "iteration [195]; kl:3175.447663\n",
      "done. Termination after 195 steps in 3.59 seconds\n",
      "\n",
      " running preconditioned newton; iter =  0\n",
      "approximate preconditioner time: 2.499475 secs\n",
      "setting preconditioner with given Hessian: \n",
      "running newton steps\n",
      "Iter 0: f = 3175.44277669\n",
      "Iter 1: f = 3175.34852007\n",
      "Iter 2: f = 3175.18442241\n",
      "Iter 3: f = 3174.98968285\n",
      "Iter 4: f = 3174.93801573\n",
      "Iter 5: f = 3174.69840235\n",
      "Iter 6: f = 3174.64063078\n",
      "Iter 7: f = 3176.17556460\n",
      "Iter 8: f = 3174.50774828\n",
      "Iter 9: f = 3174.39878699\n",
      "Iter 10: f = 3174.19404004\n",
      "Iter 11: f = 3174.00548849\n",
      "Iter 12: f = 3173.86722912\n",
      "Iter 13: f = 3173.76232955\n",
      "Iter 14: f = 3173.67198395\n",
      "Iter 15: f = 3173.26700821\n",
      "Iter 16: f = 3171.15405839\n",
      "Iter 17: f = 3167.88867602\n",
      "Iter 18: f = 3165.77449068\n",
      "Iter 19: f = 3162.63645316\n",
      "Iter 20: f = 3162.53874566\n",
      "Iter 21: f = 3161.44041492\n",
      "Iter 22: f = 3160.65521916\n",
      "Iter 23: f = 3160.31149683\n",
      "Iter 24: f = 3160.29198433\n",
      "Iter 25: f = 3160.19653448\n",
      "Iter 26: f = 3160.07034405\n",
      "Iter 27: f = 3160.01913173\n",
      "Iter 28: f = 3159.90222296\n",
      "Iter 29: f = 3161.23911164\n",
      "Iter 30: f = 3159.41015718\n",
      "Iter 31: f = 3159.10584239\n",
      "Iter 32: f = 3158.14615217\n",
      "Iter 33: f = 3157.60271250\n",
      "Iter 34: f = 3157.59361927\n",
      "Iter 35: f = 3157.32860653\n",
      "Iter 36: f = 3157.08017905\n",
      "Iter 37: f = 3157.02444962\n",
      "Iter 38: f = 3156.97900220\n",
      "Iter 39: f = 3156.97001442\n",
      "Iter 40: f = 3156.96959198\n",
      "Iter 41: f = 3156.96954161\n",
      "Iter 42: f = 3156.96954156\n",
      "Iter 43: f = 3156.96954156\n",
      "Optimization terminated successfully.\n",
      "         Current function value: 3156.969542\n",
      "         Iterations: 43\n",
      "         Function evaluations: 44\n",
      "         Gradient evaluations: 39\n",
      "         Hessian evaluations: 0\n",
      "Iter 0: x_diff = 399.7036260875002, f_diff = 18.473235138972996, grad_l1 = 1.01254169791586e-07\n",
      "done. \n"
     ]
    },
    {
     "data": {
      "text/plain": [
       "array([1.54636412, 3.17695528, 2.98617091, 1.17333721, 0.88048866,\n",
       "       2.20963723, 1.3719535 , 0.63888827, 0.36176091, 0.35249458,\n",
       "       2.75397693, 1.47343307, 1.89546985, 3.09319531, 2.34315746,\n",
       "       2.45895111, 0.63675951, 2.35457854, 0.17771285, 1.59785563,\n",
       "       0.29820546, 0.40525971, 1.50363113, 2.72682237, 2.87325106,\n",
       "       2.36617215, 2.55256958, 2.24941557, 2.23287295, 0.89059867,\n",
       "       1.17799733, 0.97658425, 0.33832979, 0.39326483, 1.50149754,\n",
       "       2.7903989 , 1.56543395, 3.17645223, 1.63998398, 2.8749999 ,\n",
       "       1.64222303, 1.88609973, 0.2299269 , 1.59466737, 0.33559069,\n",
       "       0.38362089, 2.1085446 , 2.4270219 , 1.19644163, 3.17515408,\n",
       "       3.04506951, 0.82460487, 1.18032503, 2.12238619, 1.58660342,\n",
       "       0.19043062, 0.39127093, 0.29628743, 2.89363156, 1.05877794,\n",
       "       3.07501401, 1.85818693, 2.72399499, 2.01077206, 1.69499542,\n",
       "       1.90111503, 1.42654868, 0.61740837, 0.36569664, 0.36577586,\n",
       "       2.08645254, 2.49565826, 0.87935925, 3.25434679, 2.90213476,\n",
       "       1.49397131, 0.35852   , 2.40746921, 1.24353013, 0.88555291,\n",
       "       0.29263734, 0.3902337 , 0.76017949, 2.86989065, 0.58492394,\n",
       "       3.31367723, 3.04449024, 0.86683327, 1.69458832, 1.78550414,\n",
       "       1.56562243, 0.20973195, 0.36890012, 0.31099473, 2.74274927,\n",
       "       1.27365998, 3.12799039, 1.79292504, 2.60584548, 2.22204478,\n",
       "       0.4412674 , 2.38234421, 1.24379962, 0.85793043, 0.32445303,\n",
       "       0.36344965, 0.79865651, 2.84141529, 1.67717792, 3.12726168,\n",
       "       1.8792945 , 2.75817472, 2.2251748 , 1.28053233, 1.51757126,\n",
       "       0.53365852, 0.36868318, 0.35308169, 1.92258564, 2.54084418,\n",
       "       2.24229701, 2.92377291, 3.07550337, 0.50274745, 2.22965511,\n",
       "       1.0589463 , 1.08449234, 1.03841255, 0.36509104, 0.34837182,\n",
       "       2.22235532, 2.36184871, 3.22913031, 0.98536032, 0.72266468,\n",
       "       3.06127048, 1.88630918, 1.65027481, 1.43748262, 0.58862156,\n",
       "       0.33077475, 0.37908637, 1.86953667, 2.6023703 , 3.30227771,\n",
       "       0.54764916, 1.01644298, 2.96698837, 0.70127457, 2.35396593,\n",
       "       1.36824832, 0.67809191, 0.37499616, 0.32439256, 2.61464884,\n",
       "       1.78456177, 1.31719468, 3.25772217, 2.70463936, 2.05394571,\n",
       "       1.90156599, 1.58111525, 0.22973641, 1.58744239, 0.32517388,\n",
       "       0.37568143, 2.07684174, 2.3982171 , 3.17609635, 1.19246379,\n",
       "       3.10294688, 0.30484395, 1.37401717, 1.970318  , 0.70225743,\n",
       "       1.31076883, 0.28030698, 0.37302694, 0.39907125, 2.99644662,\n",
       "       1.96161311, 3.05073382, 1.42317439, 2.91521601, 1.36518319,\n",
       "       2.06698688, 0.1955138 , 1.53055173, 0.24887288, 0.41247898,\n",
       "       0.28064431, 2.96445279, 2.92124001, 2.29262605, 1.16456427,\n",
       "       2.9640192 , 2.26667403, 1.05785592, 1.1477263 , 1.00927649,\n",
       "       0.38818782, 0.33442852, 2.29843577, 2.27237946, 3.00936456,\n",
       "       2.08965245, 2.88312526, 1.56338156, 2.16820522, 1.18850872,\n",
       "       0.46620023, 1.59428135, 0.36643829, 0.34387787, 2.83769508,\n",
       "       0.92646905, 2.60625618, 2.64539079, 2.89522492, 1.44672164,\n",
       "       2.47744718, 0.40914649, 0.84077046, 1.19923664, 0.32707074,\n",
       "       0.35181643, 0.55865856, 2.91328097, 1.6999261 , 3.12337488,\n",
       "       2.15356126, 2.61117541, 2.41056944, 0.66552168, 1.11127955,\n",
       "       1.0497512 , 0.37356254, 0.35379704, 2.5079331 , 2.00621287,\n",
       "       3.07241644, 1.77112946, 2.46876563, 2.34520405, 1.0398315 ,\n",
       "       2.32730197, 0.86432396, 1.25465293, 0.37687927, 0.30529455,\n",
       "       2.94118355, 0.45312173, 1.74228114, 3.18032975, 2.99432711,\n",
       "       0.94490105, 1.93208664, 1.50598363, 1.16049297, 0.9415922 ,\n",
       "       0.35508841, 0.3617156 , 1.91633636, 2.55445754, 2.56038258,\n",
       "       2.76134077, 1.30373039, 2.94276521, 1.87404817, 1.69645878,\n",
       "       1.16352919, 0.98662832, 0.37200283, 0.36481666, 1.97543554,\n",
       "       2.53636872, 2.22977746, 2.93239769, 2.24130978, 2.58782539,\n",
       "       1.96951955, 1.60835019, 0.91839552, 1.22513686, 0.3793367 ,\n",
       "       0.35457221, 2.78270897, 1.4114331 , 2.71443388, 2.5522092 ,\n",
       "       3.0105908 , 0.89718355, 1.96097318, 1.6597765 , 1.13085315,\n",
       "       1.06067663, 0.37575197, 0.33882988, 2.88725164, 0.7710898 ,\n",
       "       2.11718399, 2.95876314, 2.46360011, 2.37368321, 1.51202016,\n",
       "       1.9411589 , 1.58311773, 0.18875324, 0.41690554, 0.26336304,\n",
       "       2.99683188, 0.41419667, 2.88581599, 2.35152992, 1.52771412,\n",
       "       2.92422969, 1.95126335, 1.5743465 , 0.47171449, 1.51539549,\n",
       "       0.34469501, 0.37252143, 2.59691847, 1.79977765, 1.63150289,\n",
       "       3.11259598, 2.10459941, 2.62958418, 2.59350515, 0.19313208,\n",
       "       1.17609364, 0.94976156, 0.37451073, 0.32220241, 2.15316711,\n",
       "       2.3489316 , 2.19844569, 2.92890665, 2.57403051, 2.12694304,\n",
       "       0.32860476, 2.39977547, 0.72842453, 1.29206795, 0.19824125,\n",
       "       0.44194595, 0.174215  , 3.02950123, 2.94013552, 2.19148201,\n",
       "       1.46127719, 2.88432944, 0.43060806, 2.4057263 , 1.57722974,\n",
       "       0.20596461, 0.37029849, 0.29171668, 2.94139452, 0.40949425,\n",
       "       3.25793481, 0.77882574, 2.34810846, 2.49701601, 2.26536064,\n",
       "       0.87120794, 1.03665469, 1.12022603, 0.34895257, 0.37971087,\n",
       "       2.15946515, 2.46450728, 2.61251011, 2.60495974, 2.85868346,\n",
       "       1.51016588, 2.18918181, 1.07833374, 1.47070592, 0.53418958,\n",
       "       0.26652361, 0.40476364, 0.29459887, 3.03481102, 2.67542605,\n",
       "       2.59460504, 3.06313168, 0.7117686 , 0.75739644, 2.32908662,\n",
       "       0.74592141, 1.29584517, 0.35139   , 0.35547301, 1.69099432,\n",
       "       2.65476295, 3.06336096, 1.6930482 , 1.43097365, 2.93688266,\n",
       "       0.56772101, 2.43144011, 1.68069453, 0.23121046, 0.34126957,\n",
       "       0.36814985, 1.58465603, 2.68283964, 3.28428002, 0.50241885,\n",
       "       0.82954018, 3.07763309, 2.36537989, 0.50537466, 0.61333049,\n",
       "       1.36120648, 0.33324973, 0.34343626, 1.63468142, 2.61535256,\n",
       "       2.29431845, 2.89860183, 2.92260101, 1.3922486 , 2.33875427,\n",
       "       0.91470631, 0.2573778 , 1.58672031, 0.37776001, 0.33792746,\n",
       "       1.99767419, 2.48836617, 3.05564225, 1.97668418, 2.73879952,\n",
       "       1.94959162, 2.28515061, 0.75595164, 0.82731179, 1.30296315,\n",
       "       0.39529818, 0.28858907, 2.9283963 , 0.47688565, 3.19133875,\n",
       "       1.46172633, 1.92080578, 2.75917332, 2.37982699, 0.46231038,\n",
       "       0.89203405, 1.21303064, 0.39269284, 0.29397142, 2.78058745,\n",
       "       1.28278401, 2.74030982, 2.53277267, 2.98301167, 1.13929468,\n",
       "       2.07239811, 1.34582163, 0.73873192, 1.41891136, 0.38154482,\n",
       "       0.33607645, 2.84835354, 1.06941296, 2.58063219, 2.72585456,\n",
       "       2.81333005, 1.78519755, 1.02820828, 2.22685242, 0.96576379,\n",
       "       1.17421732, 0.38983489, 0.3244751 , 2.84662954, 1.05787073,\n",
       "       2.8660542 , 2.35091847, 1.51026743, 2.90597281, 0.57694872,\n",
       "       2.40312511, 0.55711003, 1.49131096, 0.35243073, 0.34555415,\n",
       "       2.83060741, 0.83655745, 1.3656173 , 3.15911013, 3.1259158 ,\n",
       "       0.42997504, 1.77963898, 1.78491805, 1.22254913, 0.89268127,\n",
       "       0.30993841, 0.3479716 , 0.47885227, 2.89570192, 2.03466378,\n",
       "       2.99705991, 0.32245627, 3.11496272, 0.46463329, 2.37480061,\n",
       "       1.45426736, 0.56537763, 0.3194141 , 0.36399842, 2.54323125,\n",
       "       1.8706916 , 3.04505245, 2.00370314, 2.77586196, 1.87574154,\n",
       "       2.24414146, 1.02843633, 1.01153668, 1.14977148, 0.36327192,\n",
       "       0.37778516, 2.33371982, 2.26640482, 2.17268793, 3.03010635,\n",
       "       2.24816572, 2.57295864, 1.96931908, 1.51324619, 1.38400838,\n",
       "       0.65873413, 0.35586038, 0.36403844, 2.65068403, 1.66451379,\n",
       "       0.25357166, 3.35801109, 2.23014701, 2.51879781, 0.52277933,\n",
       "       2.31986134, 1.57256413, 0.23942935, 0.30191588, 0.3589635 ,\n",
       "       2.74418935, 1.38070764, 3.11171024, 1.7602997 , 0.80301454,\n",
       "       3.07650727, 2.27296372, 0.63159729, 1.5559444 , 0.21276197,\n",
       "       0.37339183, 0.2963468 , 2.85692833, 0.71326491, 2.66339273,\n",
       "       2.6506428 , 2.10921902, 2.65507448, 1.92945776, 1.68592704,\n",
       "       0.26674112, 1.54346736, 0.35282226, 0.36184777, 1.33467652,\n",
       "       2.77860744, 1.53055292, 3.19104047, 3.0222799 , 0.77730993,\n",
       "       1.70435162, 1.83698005, 1.406003  , 0.58106552, 0.36320334,\n",
       "       0.34689481, 2.47028709, 2.08324853, 2.30491569, 2.92576372,\n",
       "       2.43460364, 2.41968676, 2.3311267 , 0.68908733, 0.21833395,\n",
       "       1.5901458 , 0.34015432, 0.36834741, 1.53183888, 2.69242849,\n",
       "       4.54727748, 2.26435136, 1.23569282, 1.97187275, 0.74192286,\n",
       "       1.80568677, 0.54403187, 1.67918948, 0.33302255, 1.60262075,\n",
       "       4.42410104, 3.02345608, 1.54368705, 2.82615397, 1.19837132,\n",
       "       2.6786694 , 1.07238843, 2.53713125, 0.67945889, 2.45706758,\n",
       "       4.54182053, 2.31633789, 1.16361939, 2.07153262, 0.70497092,\n",
       "       1.93343124, 0.54310883, 1.82323237, 0.35688313, 1.75145324,\n",
       "       4.56368173, 2.08740467, 1.04233635, 1.82907525, 0.57701141,\n",
       "       1.69514134, 0.4257997 , 1.59261759, 0.26972585, 1.5275761 ,\n",
       "       3.60349561, 4.20876801, 2.95875816, 3.89181187, 3.42023858,\n",
       "       2.96645164, 1.30784326, 2.816886  , 0.86155374, 2.73162697,\n",
       "       4.49387366, 2.67639844, 1.16122062, 2.51275115, 1.47303638,\n",
       "       2.19459537, 0.58944697, 2.10088219, 0.43618349, 2.03164012,\n",
       "       4.1597874 , 3.68743084, 2.25708644, 3.44639024, 1.60236886,\n",
       "       3.31134959, 0.85811958, 3.26053157, 0.88216529, 3.20466583,\n",
       "       4.52731194, 2.4415158 , 1.00135443, 2.27916075, 1.28050812,\n",
       "       1.96990719, 0.61982405, 1.84235911, 0.38416798, 1.76524744,\n",
       "       4.26429002, 3.49303449, 2.61972272, 3.00338651, 1.85540913,\n",
       "       2.69187734, 1.09731486, 2.54656979, 0.68703124, 2.46601622,\n",
       "       1.25661686, 4.61002324, 4.0595695 , 3.77361407, 1.07383988,\n",
       "       3.72835329, 1.03749804, 3.68357501, 0.79610087, 3.65251376,\n",
       "       3.05317003, 4.41664076, 3.89450707, 3.54632992, 1.74968055,\n",
       "       3.3989622 , 1.5011926 , 3.27510425, 0.93488413, 3.21483021,\n",
       "       3.29454294, 4.34425874, 4.16505367, 2.61291684, 1.09590233,\n",
       "       2.45503952, 0.9429539 , 2.31048772, 0.63252955, 2.21887443,\n",
       "       1.94978292, 4.57443092, 4.2789417 , 3.25071589, 1.41243824,\n",
       "       3.12249069, 2.31332422, 2.60969362, 0.8177132 , 2.51200056,\n",
       "       2.42649238, 4.52916231, 4.31917258, 2.92070962, 1.37942847,\n",
       "       2.74610478, 0.79815633, 2.66447284, 0.61975246, 2.60283111,\n",
       "       0.87935559, 4.62095154, 4.55622168, 1.99709701, 0.73471516,\n",
       "       1.83780759, 0.44318609, 1.74485768, 0.31709894, 1.67746064,\n",
       "       2.21111602, 4.5525508 , 4.43872369, 2.41656473, 1.34139241,\n",
       "       2.12619728, 0.8944824 , 1.93684905, 0.46939952, 1.84653566,\n",
       "       3.2682271 , 4.35330904, 3.46448963, 3.84535149, 3.49503779,\n",
       "       2.69621979, 1.48980298, 2.43250467, 0.75186882, 2.3288772 ,\n",
       "       1.49228905, 4.60068751, 4.46482246, 2.61352974, 1.61059177,\n",
       "       2.26606261, 0.79027445, 2.13266981, 0.54337873, 2.04323756,\n",
       "       2.15691029, 4.55761319, 4.43241439, 2.50318096, 1.43875794,\n",
       "       2.19787447, 0.88620172, 2.025507  , 0.51174549, 1.93322323,\n",
       "       3.29674365, 4.34348726, 3.84755718, 3.4371145 , 1.56634993,\n",
       "       3.30717832, 1.55141206, 3.16081588, 0.83967026, 3.10343046,\n",
       "       2.90104829, 4.45209817, 4.12981464, 3.20438714, 1.77874113,\n",
       "       2.98153182, 0.97811373, 2.89361997, 0.7137062 , 2.83421398,\n",
       "       1.77980149, 4.58569498, 1.54336278, 4.54744592, 1.4807392 ,\n",
       "       4.51080262, 1.0620245 , 4.48978855, 0.83121292, 4.47513555,\n",
       "       1.5858696 , 4.59629556, 1.89565195, 4.53752901, 3.81930778,\n",
       "       3.88950999, 1.47957098, 3.81762143, 0.88580207, 3.78580051,\n",
       "       3.76638681, 4.10720143, 1.08673217, 4.07434289, 2.00313029,\n",
       "       3.95889896, 1.35432367, 3.90248688, 0.82684052, 3.87617561,\n",
       "       3.41062545, 4.30021744, 2.69149073, 4.09371382, 3.06342524,\n",
       "       3.67785473, 1.49720814, 3.58607785, 0.94248076, 3.54170973,\n",
       "       1.76079879, 4.58683225, 3.65439427, 4.10328468, 3.92061477,\n",
       "       2.4076091 , 0.8632791 , 2.2758766 , 0.60869382, 2.18587387,\n",
       "       1.62536094, 4.59430889, 1.21263211, 4.5701379 , 4.48518494,\n",
       "       2.18200629, 0.6796992 , 2.06569604, 0.46634051, 1.98741377,\n",
       "       2.68265771, 4.49285322, 1.69765936, 4.44165008, 4.20454226,\n",
       "       2.94048464, 0.96394903, 2.85087905, 0.7995472 , 2.77747999,\n",
       "       4.10396525, 3.77091954, 2.49462639, 3.4751529 , 2.74202545,\n",
       "       2.87832068, 1.10266854, 2.7582482 , 0.78723005, 2.6793    ,\n",
       "       3.92507645, 3.97674368, 1.87489508, 3.8675049 , 3.61305861,\n",
       "       2.46331041, 1.00992416, 2.30240815, 0.64111813, 2.20823355,\n",
       "       4.06551363, 3.82221114, 2.74702951, 3.43749468, 2.94462772,\n",
       "       2.5730195 , 1.14190074, 2.395403  , 0.65304661, 2.30769536,\n",
       "       3.4945587 , 4.2635844 , 3.83079152, 3.25675863, 1.30001589,\n",
       "       3.14827664, 1.04055523, 3.0664281 , 0.77613148, 3.01022894,\n",
       "       3.24884176, 4.35977482, 2.73743297, 4.15563145, 3.24306759,\n",
       "       3.66816806, 1.69624055, 3.54750762, 0.9924556 , 3.4973801 ,\n",
       "       1.58506041, 4.59633541, 1.94338589, 4.53408292, 1.12888515,\n",
       "       4.51136327, 4.11940049, 3.41849708, 0.83466719, 3.3748349 ,\n",
       "       3.19233716, 4.37770155, 1.41448537, 4.33781834, 1.39717217,\n",
       "       4.29723946, 1.16478073, 4.26677574, 0.87665271, 4.24690197,\n",
       "       1.20227129, 4.61187102, 1.00821267, 4.59442906, 1.05613154,\n",
       "       4.57529234, 0.88104339, 4.56062243, 0.6544158 , 4.55091434,\n",
       "       1.89544534, 4.57825611, 1.78482948, 4.52597464, 1.25892371,\n",
       "       4.4983007 , 1.38629184, 4.46434719, 0.92646214, 4.4466286 ,\n",
       "       4.03314383, 3.86203277, 1.27742772, 3.80609645, 1.04555187,\n",
       "       3.76420878, 1.48720721, 3.68147326, 0.80414745, 3.64988017,\n",
       "       3.12438078, 4.39758244, 1.34260521, 4.36214515, 1.84223461,\n",
       "       4.29202758, 1.46445713, 4.24548169, 0.97006141, 4.22172969,\n",
       "       2.28931919, 4.54469575, 1.53524396, 4.50523189, 1.36765542,\n",
       "       4.47236071, 4.0245668 , 3.48453088, 0.85251749, 3.44238995])"
      ]
     },
     "execution_count": 18,
     "metadata": {},
     "output_type": "execute_result"
    }
   ],
   "source": [
    "str_opt_lib.optimize_structure(g_obs, vb_params_dict, vb_params_paragami,\n",
    "                    prior_params_dict,\n",
    "                    gh_loc, gh_weights, use_logitnormal_sticks = False,\n",
    "                    run_cavi = True, cavi_max_iter = 1000, cavi_tol = 1e-2,\n",
    "                    netwon_max_iter = 50,\n",
    "                    max_precondition_iter = 10,\n",
    "                    gtol=1e-8, ftol=1e-8, xtol=1e-8,\n",
    "                    approximate_hessian = True)"
   ]
  },
  {
   "cell_type": "code",
   "execution_count": null,
   "metadata": {
    "collapsed": true
   },
   "outputs": [],
   "source": []
  },
  {
   "cell_type": "code",
   "execution_count": null,
   "metadata": {
    "collapsed": true
   },
   "outputs": [],
   "source": []
  },
  {
   "cell_type": "code",
   "execution_count": null,
   "metadata": {
    "collapsed": true
   },
   "outputs": [],
   "source": []
  },
  {
   "cell_type": "code",
   "execution_count": null,
   "metadata": {
    "collapsed": true
   },
   "outputs": [],
   "source": []
  }
 ],
 "metadata": {
  "kernelspec": {
   "display_name": "Python (genomics_bnp)",
   "language": "python",
   "name": "genomic_time_series_py35"
  },
  "language_info": {
   "codemirror_mode": {
    "name": "ipython",
    "version": 3
   },
   "file_extension": ".py",
   "mimetype": "text/x-python",
   "name": "python",
   "nbconvert_exporter": "python",
   "pygments_lexer": "ipython3",
   "version": "3.5.0"
  }
 },
 "nbformat": 4,
 "nbformat_minor": 2
}
