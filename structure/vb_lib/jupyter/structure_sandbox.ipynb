{
 "cells": [
  {
   "cell_type": "code",
   "execution_count": 1,
   "metadata": {
    "collapsed": false
   },
   "outputs": [],
   "source": [
    "import autograd \n",
    "\n",
    "import autograd.numpy as np\n",
    "import autograd.scipy as sp\n",
    "from numpy.polynomial.hermite import hermgauss\n",
    "\n",
    "import sys\n",
    "sys.path.insert(0, '../')\n",
    "\n",
    "import structure_model_lib\n",
    "import data_utils\n",
    "import paragami"
   ]
  },
  {
   "cell_type": "code",
   "execution_count": 2,
   "metadata": {
    "collapsed": false
   },
   "outputs": [],
   "source": [
    "from BNP_modeling import cluster_quantities_lib, modeling_lib\n",
    "import BNP_modeling.optimization_lib as opt_lib\n",
    "\n",
    "from itertools import permutations\n",
    "\n",
    "import matplotlib.pyplot as plt\n",
    "%matplotlib inline  \n",
    "\n",
    "import vittles\n",
    "\n",
    "from copy import deepcopy"
   ]
  },
  {
   "cell_type": "code",
   "execution_count": 3,
   "metadata": {
    "collapsed": true
   },
   "outputs": [],
   "source": [
    "np.random.seed(53453)"
   ]
  },
  {
   "cell_type": "markdown",
   "metadata": {
    "collapsed": true
   },
   "source": [
    "# Draw data"
   ]
  },
  {
   "cell_type": "code",
   "execution_count": 4,
   "metadata": {
    "collapsed": false
   },
   "outputs": [],
   "source": [
    "n_obs = 50\n",
    "n_loci = 40\n",
    "n_pop = 4\n",
    "\n",
    "# population allele frequencies\n",
    "true_pop_allele_freq = np.random.random((n_loci, n_pop))\n",
    "\n",
    "# individual admixtures\n",
    "true_ind_admix_propn = np.random.dirichlet(np.ones(n_pop) / n_pop, size = (n_obs))"
   ]
  },
  {
   "cell_type": "code",
   "execution_count": 5,
   "metadata": {
    "collapsed": false,
    "scrolled": true
   },
   "outputs": [],
   "source": [
    "clustering_indx = data_utils.cluster_admix_get_indx(true_ind_admix_propn)\n",
    "true_ind_admix_propn = true_ind_admix_propn[clustering_indx, :]"
   ]
  },
  {
   "cell_type": "code",
   "execution_count": 6,
   "metadata": {
    "collapsed": false,
    "scrolled": true
   },
   "outputs": [
    {
     "data": {
      "text/plain": [
       "<matplotlib.image.AxesImage at 0x7f4ba5153b00>"
      ]
     },
     "execution_count": 6,
     "metadata": {},
     "output_type": "execute_result"
    },
    {
     "data": {
      "image/png": "[encoded data removed]",
      "text/plain": [
       "<Figure size 1152x144 with 1 Axes>"
      ]
     },
     "metadata": {
      "needs_background": "light"
     },
     "output_type": "display_data"
    }
   ],
   "source": [
    "plt.matshow(true_ind_admix_propn.T)"
   ]
  },
  {
   "cell_type": "code",
   "execution_count": 7,
   "metadata": {
    "collapsed": false
   },
   "outputs": [],
   "source": [
    "g_obs = data_utils.draw_data(true_pop_allele_freq, true_ind_admix_propn)"
   ]
  },
  {
   "cell_type": "code",
   "execution_count": 8,
   "metadata": {
    "collapsed": true
   },
   "outputs": [],
   "source": [
    "# np.save('../data/true_ind_admix_propn', true_ind_admix_propn)\n",
    "# np.save('../data/true_pop_allele_freq', true_pop_allele_freq)\n",
    "# np.save('../data/simulated_genotypes', g_obs)"
   ]
  },
  {
   "cell_type": "code",
   "execution_count": 9,
   "metadata": {
    "collapsed": false,
    "scrolled": true
   },
   "outputs": [
    {
     "data": {
      "text/plain": [
       "(50, 40, 3)"
      ]
     },
     "execution_count": 9,
     "metadata": {},
     "output_type": "execute_result"
    }
   ],
   "source": [
    "g_obs.shape"
   ]
  },
  {
   "cell_type": "markdown",
   "metadata": {},
   "source": [
    "# Get prior"
   ]
  },
  {
   "cell_type": "code",
   "execution_count": 10,
   "metadata": {
    "collapsed": false
   },
   "outputs": [
    {
     "name": "stdout",
     "output_type": "stream",
     "text": [
      "OrderedDict:\n",
      "\t[dp_prior_alpha] = NumericArrayPattern (1,) (lb=0.0, ub=inf)\n",
      "\t[allele_prior_alpha] = NumericArrayPattern (1,) (lb=0.0, ub=inf)\n",
      "\t[allele_prior_beta] = NumericArrayPattern (1,) (lb=0.0, ub=inf)\n"
     ]
    }
   ],
   "source": [
    "prior_params_dict, prior_params_paragami = \\\n",
    "    structure_model_lib.get_default_prior_params()\n",
    "\n",
    "print(prior_params_paragami)"
   ]
  },
  {
   "cell_type": "markdown",
   "metadata": {},
   "source": [
    "# Get VB params "
   ]
  },
  {
   "cell_type": "code",
   "execution_count": 11,
   "metadata": {
    "collapsed": true
   },
   "outputs": [],
   "source": [
    "k_approx = 4\n"
   ]
  },
  {
   "cell_type": "code",
   "execution_count": 12,
   "metadata": {
    "collapsed": true
   },
   "outputs": [],
   "source": [
    "gh_deg = 8\n",
    "gh_loc, gh_weights = hermgauss(8)"
   ]
  },
  {
   "cell_type": "code",
   "execution_count": 13,
   "metadata": {
    "collapsed": false,
    "scrolled": true
   },
   "outputs": [
    {
     "name": "stdout",
     "output_type": "stream",
     "text": [
      "OrderedDict:\n",
      "\t[pop_freq_beta_params] = NumericArrayPattern (40, 4, 2) (lb=0.0, ub=inf)\n",
      "\t[ind_mix_stick_propn_mean] = NumericArrayPattern (50, 3) (lb=-inf, ub=inf)\n",
      "\t[ind_mix_stick_propn_info] = NumericArrayPattern (50, 3) (lb=0.0001, ub=inf)\n"
     ]
    }
   ],
   "source": [
    "vb_params_dict, vb_params_paragami = \\\n",
    "    structure_model_lib.get_vb_params_paragami_object(n_obs, n_loci, k_approx)\n",
    "    \n",
    "print(vb_params_paragami)"
   ]
  },
  {
   "cell_type": "markdown",
   "metadata": {},
   "source": [
    "## Initialize "
   ]
  },
  {
   "cell_type": "code",
   "execution_count": 14,
   "metadata": {
    "collapsed": false
   },
   "outputs": [],
   "source": [
    "vb_params_dict = structure_model_lib.set_init_vb_params(g_obs, k_approx, vb_params_dict)"
   ]
  },
  {
   "cell_type": "code",
   "execution_count": 15,
   "metadata": {
    "collapsed": false
   },
   "outputs": [],
   "source": [
    "# take a look at init \n",
    "e_ind_admix = cluster_quantities_lib.get_e_cluster_probabilities(\n",
    "                    vb_params_dict['ind_mix_stick_propn_mean'], \n",
    "                    vb_params_dict['ind_mix_stick_propn_info'],\n",
    "                    gh_loc, gh_weights)\n",
    "\n",
    "e_pop_freq = modeling_lib.get_e_beta(vb_params_dict['pop_freq_beta_params'])"
   ]
  },
  {
   "cell_type": "code",
   "execution_count": 16,
   "metadata": {
    "collapsed": true
   },
   "outputs": [],
   "source": [
    "if k_approx < 6: \n",
    "    # find minimizing permutation \n",
    "    # only feasible if k_approx is small, \n",
    "    # else my computer freezes\n",
    "    perm = data_utils.find_min_perm(e_pop_freq, true_pop_allele_freq, axis = 1)\n",
    "else: \n",
    "    perm = np.arange(k_approx)\n",
    "    \n",
    "e_pop_freq = e_pop_freq[:, perm]\n",
    "e_ind_admix = e_ind_admix[:, perm]"
   ]
  },
  {
   "cell_type": "code",
   "execution_count": 17,
   "metadata": {
    "collapsed": false
   },
   "outputs": [
    {
     "data": {
      "image/png": "[encoded data removed]",
      "text/plain": [
       "<Figure size 1152x144 with 1 Axes>"
      ]
     },
     "metadata": {
      "needs_background": "light"
     },
     "output_type": "display_data"
    },
    {
     "data": {
      "image/png": "[encoded data removed]",
      "text/plain": [
       "<Figure size 1152x144 with 1 Axes>"
      ]
     },
     "metadata": {
      "needs_background": "light"
     },
     "output_type": "display_data"
    }
   ],
   "source": [
    "plt.matshow(e_ind_admix.T); \n",
    "plt.matshow(true_ind_admix_propn.T);"
   ]
  },
  {
   "cell_type": "markdown",
   "metadata": {},
   "source": [
    "# Set up model"
   ]
  },
  {
   "cell_type": "code",
   "execution_count": 22,
   "metadata": {
    "collapsed": false
   },
   "outputs": [],
   "source": [
    "# get loss as a function of vb parameters\n",
    "get_free_vb_params_loss = paragami.FlattenFunctionInput(\n",
    "                                original_fun=structure_model_lib.get_kl, \n",
    "                                patterns = vb_params_paragami,\n",
    "                                free = True,\n",
    "                                argnums = 1)\n",
    "\n",
    "get_free_vb_params_loss_cached = \\\n",
    "    lambda x : get_free_vb_params_loss(g_obs, x, prior_params_dict, gh_loc, gh_weights)"
   ]
  },
  {
   "cell_type": "code",
   "execution_count": 23,
   "metadata": {
    "collapsed": true
   },
   "outputs": [],
   "source": [
    "init_vb_free_params = vb_params_paragami.flatten(vb_params_dict, free = True)"
   ]
  },
  {
   "cell_type": "code",
   "execution_count": 24,
   "metadata": {
    "collapsed": false
   },
   "outputs": [
    {
     "data": {
      "text/plain": [
       "5278.532804627065"
      ]
     },
     "execution_count": 24,
     "metadata": {},
     "output_type": "execute_result"
    }
   ],
   "source": [
    "structure_model_lib.get_kl(g_obs, vb_params_dict,\n",
    "                   prior_params_dict, gh_loc, gh_weights)"
   ]
  },
  {
   "cell_type": "code",
   "execution_count": 25,
   "metadata": {
    "collapsed": false
   },
   "outputs": [
    {
     "data": {
      "text/plain": [
       "5278.532804627065"
      ]
     },
     "execution_count": 25,
     "metadata": {},
     "output_type": "execute_result"
    }
   ],
   "source": [
    "get_free_vb_params_loss_cached(init_vb_free_params)"
   ]
  },
  {
   "cell_type": "code",
   "execution_count": 26,
   "metadata": {
    "collapsed": false,
    "scrolled": true
   },
   "outputs": [
    {
     "name": "stdout",
     "output_type": "stream",
     "text": [
      "running bfgs ... \n",
      "Iter 0: f = 5278.53280463\n",
      "Iter 1: f = 5090.16881964\n",
      "Iter 2: f = 4811.52285237\n",
      "Iter 3: f = 4371.95372216\n",
      "Iter 4: f = 3957.89086637\n",
      "Iter 5: f = 3686.31815002\n",
      "Iter 6: f = 3476.78734549\n",
      "Iter 7: f = 3398.62470542\n",
      "Iter 8: f = 3322.20253975\n",
      "Iter 9: f = 3279.05381061\n",
      "Iter 10: f = 3246.53826758\n",
      "Iter 11: f = 3212.94761217\n",
      "Iter 12: f = 3188.52480480\n",
      "Iter 13: f = 3169.61136071\n",
      "Iter 14: f = 3155.53109282\n",
      "Iter 15: f = 3142.20586439\n",
      "Iter 16: f = 3128.94434390\n",
      "Iter 17: f = 3121.70691619\n",
      "Iter 18: f = 3111.71138125\n",
      "Iter 19: f = 3099.97354110\n",
      "Iter 20: f = 3093.69187825\n",
      "Iter 21: f = 3085.82038099\n",
      "Iter 22: f = 3080.33573965\n",
      "Iter 23: f = 3072.11060255\n",
      "Iter 24: f = 3065.50159400\n",
      "Iter 25: f = 3064.53194997\n",
      "Iter 26: f = 3070.20880345\n",
      "Iter 27: f = 3061.67785425\n",
      "Iter 28: f = 3057.11513085\n",
      "Iter 29: f = 3052.46350880\n",
      "Iter 30: f = 3045.63949596\n",
      "Iter 31: f = 3045.82173274\n",
      "Iter 32: f = 3041.14156820\n",
      "Iter 33: f = 3043.15377946\n",
      "Iter 34: f = 3039.35572584\n",
      "Iter 35: f = 3036.78853572\n",
      "Iter 36: f = 3033.94995381\n",
      "Iter 37: f = 3030.58057966\n",
      "Iter 38: f = 3027.31330867\n",
      "Iter 39: f = 3024.65313074\n",
      "Iter 40: f = 3022.61294360\n",
      "Iter 41: f = 3020.15308664\n",
      "Iter 42: f = 3018.08953350\n",
      "Iter 43: f = 3017.15621544\n",
      "Iter 44: f = 3015.71879646\n",
      "Iter 45: f = 3014.54902619\n",
      "Iter 46: f = 3013.23531571\n",
      "Iter 47: f = 3012.73404952\n",
      "Iter 48: f = 3011.94220467\n",
      "Iter 49: f = 3010.74975508\n",
      "Iter 50: f = 3009.12439059\n",
      "Iter 51: f = 3007.29373693\n",
      "Iter 52: f = 3006.37453259\n",
      "Iter 53: f = 3006.02493802\n",
      "Iter 54: f = 3007.12295996\n",
      "Iter 55: f = 3005.26821929\n",
      "Iter 56: f = 3004.79983455\n",
      "Warning: Maximum number of iterations has been exceeded.\n",
      "         Current function value: 3004.799835\n",
      "         Iterations: 50\n",
      "         Function evaluations: 57\n",
      "         Gradient evaluations: 57\n",
      "\n",
      " running preconditioned newton; iter =  0\n",
      "computing preconditioner \n",
      "preconditioning time: 9.66\n",
      "running newton steps\n",
      "Iter 0: f = 3004.79983455\n",
      "Iter 1: f = 3001.75220989\n",
      "Iter 2: f = 2997.87316978\n",
      "Iter 3: f = 2993.64908583\n",
      "Iter 4: f = 2995.55707410\n",
      "Iter 5: f = 2992.43503938\n",
      "Iter 6: f = 2991.68825352\n",
      "Iter 7: f = 2991.63328939\n",
      "Iter 8: f = 2991.60842802\n",
      "Iter 9: f = 2991.60750612\n",
      "Iter 10: f = 2991.60749981\n",
      "Iter 11: f = 2991.60749977\n",
      "Iter 12: f = 2991.60749977\n",
      "Optimization terminated successfully.\n",
      "         Current function value: 2991.607500\n",
      "         Iterations: 12\n",
      "         Function evaluations: 13\n",
      "         Gradient evaluations: 12\n",
      "         Hessian evaluations: 0\n",
      "Iter 0: x_diff = 68.50733476226178, f_diff = 13.192334787760501, grad_l1 = 3.033949324153042e-08\n",
      "done. \n"
     ]
    }
   ],
   "source": [
    "vb_opt_free_params = opt_lib.optimize_full(get_free_vb_params_loss_cached, init_vb_free_params,\n",
    "                    bfgs_max_iter = 50, netwon_max_iter = 50,\n",
    "                    max_precondition_iter = 10,\n",
    "                    gtol=1e-8, ftol=1e-8, xtol=1e-8)"
   ]
  },
  {
   "cell_type": "code",
   "execution_count": 27,
   "metadata": {
    "collapsed": true
   },
   "outputs": [],
   "source": [
    "vb_opt_dict = vb_params_paragami.fold(vb_opt_free_params, free=True)"
   ]
  },
  {
   "cell_type": "code",
   "execution_count": 28,
   "metadata": {
    "collapsed": true
   },
   "outputs": [],
   "source": [
    "ind_mix_stick_propn_mean = vb_opt_dict['ind_mix_stick_propn_mean']\n",
    "ind_mix_stick_propn_info = vb_opt_dict['ind_mix_stick_propn_info']\n",
    "pop_freq_beta_params = vb_opt_dict['pop_freq_beta_params']"
   ]
  },
  {
   "cell_type": "code",
   "execution_count": 29,
   "metadata": {
    "collapsed": true
   },
   "outputs": [],
   "source": [
    "e_pop_allele_freq = pop_freq_beta_params[:, :, 0] / pop_freq_beta_params.sum(axis=2)"
   ]
  },
  {
   "cell_type": "code",
   "execution_count": 30,
   "metadata": {
    "collapsed": false
   },
   "outputs": [],
   "source": [
    "if k_approx < 6: \n",
    "    perm_best = data_utils.find_min_perm(e_pop_allele_freq, true_pop_allele_freq, axis = 1)\n",
    "else: \n",
    "    perm_best = perm"
   ]
  },
  {
   "cell_type": "code",
   "execution_count": 31,
   "metadata": {
    "collapsed": false
   },
   "outputs": [
    {
     "data": {
      "text/plain": [
       "([array([6., 4., 3., 6., 2., 5., 3., 0., 4., 7.]),\n",
       "  array([ 7.,  0.,  6.,  2.,  2.,  3.,  5.,  0.,  5., 10.]),\n",
       "  array([ 8.,  1.,  2.,  5.,  1.,  4.,  2.,  3.,  4., 10.]),\n",
       "  array([5., 2., 4., 5., 4., 5., 2., 2., 3., 8.])],\n",
       " array([0.04033442, 0.13150695, 0.22267948, 0.31385201, 0.40502454,\n",
       "        0.49619707, 0.5873696 , 0.67854213, 0.76971466, 0.86088719,\n",
       "        0.95205972]),\n",
       " <a list of 4 Lists of Patches objects>)"
      ]
     },
     "execution_count": 31,
     "metadata": {},
     "output_type": "execute_result"
    },
    {
     "data": {
      "image/png": "[encoded data removed]",
      "text/plain": [
       "<Figure size 432x288 with 1 Axes>"
      ]
     },
     "metadata": {
      "needs_background": "light"
     },
     "output_type": "display_data"
    }
   ],
   "source": [
    "plt.hist(e_pop_allele_freq)"
   ]
  },
  {
   "cell_type": "code",
   "execution_count": 32,
   "metadata": {
    "collapsed": false,
    "scrolled": false
   },
   "outputs": [
    {
     "data": {
      "text/plain": [
       "<matplotlib.image.AxesImage at 0x7f4ba2f42438>"
      ]
     },
     "execution_count": 32,
     "metadata": {},
     "output_type": "execute_result"
    },
    {
     "data": {
      "image/png": "[encoded data removed]",
      "text/plain": [
       "<Figure size 1152x144 with 1 Axes>"
      ]
     },
     "metadata": {
      "needs_background": "light"
     },
     "output_type": "display_data"
    }
   ],
   "source": [
    "plt.matshow(e_pop_allele_freq[:, perm_best].T)"
   ]
  },
  {
   "cell_type": "code",
   "execution_count": 33,
   "metadata": {
    "collapsed": false,
    "scrolled": true
   },
   "outputs": [
    {
     "data": {
      "text/plain": [
       "<matplotlib.image.AxesImage at 0x7f4ba2f02f60>"
      ]
     },
     "execution_count": 33,
     "metadata": {},
     "output_type": "execute_result"
    },
    {
     "data": {
      "image/png": "[encoded data removed]",
      "text/plain": [
       "<Figure size 1152x144 with 1 Axes>"
      ]
     },
     "metadata": {
      "needs_background": "light"
     },
     "output_type": "display_data"
    }
   ],
   "source": [
    "plt.matshow(true_pop_allele_freq.T)"
   ]
  },
  {
   "cell_type": "code",
   "execution_count": 34,
   "metadata": {
    "collapsed": false
   },
   "outputs": [],
   "source": [
    "e_ind_admix = cluster_quantities_lib.get_e_cluster_probabilities(\n",
    "                        ind_mix_stick_propn_mean, ind_mix_stick_propn_info,\n",
    "                        gh_loc, gh_weights)[:, perm_best]"
   ]
  },
  {
   "cell_type": "code",
   "execution_count": 35,
   "metadata": {
    "collapsed": false
   },
   "outputs": [
    {
     "data": {
      "text/plain": [
       "array([2, 2, 2, 2, 2, 2, 2, 2, 2, 2, 2, 2, 1, 2, 0, 0, 0, 0, 0, 0, 1, 0,\n",
       "       0, 1, 1, 1, 1, 1, 1, 1, 1, 1, 1, 2, 3, 3, 1, 3, 3, 3, 3, 3, 3, 3,\n",
       "       1, 3, 3, 1, 0, 0])"
      ]
     },
     "execution_count": 35,
     "metadata": {},
     "output_type": "execute_result"
    }
   ],
   "source": [
    "e_ind_admix.argmax(axis=1)"
   ]
  },
  {
   "cell_type": "code",
   "execution_count": 36,
   "metadata": {
    "collapsed": false
   },
   "outputs": [
    {
     "data": {
      "text/plain": [
       "array([2, 2, 2, 2, 2, 2, 2, 2, 2, 0, 2, 2, 2, 2, 0, 0, 0, 0, 0, 0, 0, 0,\n",
       "       0, 1, 1, 1, 1, 1, 1, 1, 1, 1, 2, 3, 3, 3, 3, 3, 3, 3, 3, 3, 3, 3,\n",
       "       0, 0, 3, 3, 0, 0])"
      ]
     },
     "execution_count": 36,
     "metadata": {},
     "output_type": "execute_result"
    }
   ],
   "source": [
    "true_ind_admix_propn.argmax(axis=1)"
   ]
  },
  {
   "cell_type": "code",
   "execution_count": 37,
   "metadata": {
    "collapsed": false
   },
   "outputs": [
    {
     "data": {
      "text/plain": [
       "0.82"
      ]
     },
     "execution_count": 37,
     "metadata": {},
     "output_type": "execute_result"
    }
   ],
   "source": [
    "np.mean(e_ind_admix.argmax(axis=1) == \\\n",
    "       true_ind_admix_propn.argmax(axis=1))"
   ]
  },
  {
   "cell_type": "code",
   "execution_count": 38,
   "metadata": {
    "collapsed": false
   },
   "outputs": [
    {
     "data": {
      "text/plain": [
       "<matplotlib.image.AxesImage at 0x7f4ba2ebadd8>"
      ]
     },
     "execution_count": 38,
     "metadata": {},
     "output_type": "execute_result"
    },
    {
     "data": {
      "image/png": "[encoded data removed]",
      "text/plain": [
       "<Figure size 1152x144 with 1 Axes>"
      ]
     },
     "metadata": {
      "needs_background": "light"
     },
     "output_type": "display_data"
    }
   ],
   "source": [
    "plt.matshow(true_ind_admix_propn.T)"
   ]
  },
  {
   "cell_type": "code",
   "execution_count": 39,
   "metadata": {
    "collapsed": false
   },
   "outputs": [
    {
     "data": {
      "text/plain": [
       "<matplotlib.image.AxesImage at 0x7f4ba2e6d9b0>"
      ]
     },
     "execution_count": 39,
     "metadata": {},
     "output_type": "execute_result"
    },
    {
     "data": {
      "image/png": "[encoded data removed]",
      "text/plain": [
       "<Figure size 1152x144 with 1 Axes>"
      ]
     },
     "metadata": {
      "needs_background": "light"
     },
     "output_type": "display_data"
    }
   ],
   "source": [
    "plt.matshow(e_ind_admix.T)"
   ]
  },
  {
   "cell_type": "code",
   "execution_count": null,
   "metadata": {
    "collapsed": true
   },
   "outputs": [],
   "source": []
  },
  {
   "cell_type": "code",
   "execution_count": null,
   "metadata": {
    "collapsed": true
   },
   "outputs": [],
   "source": []
  }
 ],
 "metadata": {
  "kernelspec": {
   "display_name": "Python (genomics_bnp)",
   "language": "python",
   "name": "genomic_time_series_py35"
  },
  "language_info": {
   "codemirror_mode": {
    "name": "ipython",
    "version": 3
   },
   "file_extension": ".py",
   "mimetype": "text/x-python",
   "name": "python",
   "nbconvert_exporter": "python",
   "pygments_lexer": "ipython3",
   "version": "3.5.0"
  }
 },
 "nbformat": 4,
 "nbformat_minor": 2
}
