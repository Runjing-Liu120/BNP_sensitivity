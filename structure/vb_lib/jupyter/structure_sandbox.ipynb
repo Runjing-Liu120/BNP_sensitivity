{
 "cells": [
  {
   "cell_type": "code",
   "execution_count": 1,
   "metadata": {
    "collapsed": false
   },
   "outputs": [],
   "source": [
    "import autograd\n",
    "\n",
    "import autograd.numpy as np\n",
    "import autograd.scipy as sp\n",
    "from numpy.polynomial.hermite import hermgauss\n",
    "\n",
    "from vb_lib import structure_model_lib, data_utils\n",
    "import vb_lib.structure_optimization_lib as str_opt_lib\n",
    "\n",
    "import paragami\n",
    "import vittles\n",
    "\n",
    "from copy import deepcopy\n",
    "\n",
    "import argparse\n",
    "import distutils.util\n",
    "\n",
    "import os\n",
    "\n",
    "import time\n",
    "\n",
    "import matplotlib.pyplot as plt\n",
    "%matplotlib inline  \n",
    "\n",
    "from BNP_modeling import cluster_quantities_lib, modeling_lib\n",
    "import BNP_modeling.optimization_lib as opt_lib\n"
   ]
  },
  {
   "cell_type": "code",
   "execution_count": 2,
   "metadata": {
    "collapsed": true
   },
   "outputs": [],
   "source": [
    "np.random.seed(53453)"
   ]
  },
  {
   "cell_type": "markdown",
   "metadata": {
    "collapsed": true
   },
   "source": [
    "# Draw data"
   ]
  },
  {
   "cell_type": "code",
   "execution_count": 3,
   "metadata": {
    "collapsed": true
   },
   "outputs": [],
   "source": [
    "n_obs = 50\n",
    "n_loci = 40\n",
    "n_pop = 4"
   ]
  },
  {
   "cell_type": "code",
   "execution_count": 4,
   "metadata": {
    "collapsed": false
   },
   "outputs": [],
   "source": [
    "g_obs, true_pop_allele_freq, true_ind_admix_propn = \\\n",
    "    data_utils.draw_data(n_obs, n_loci, n_pop)"
   ]
  },
  {
   "cell_type": "code",
   "execution_count": 5,
   "metadata": {
    "collapsed": false,
    "scrolled": true
   },
   "outputs": [
    {
     "data": {
      "text/plain": [
       "<matplotlib.image.AxesImage at 0x7fc063693dd8>"
      ]
     },
     "execution_count": 5,
     "metadata": {},
     "output_type": "execute_result"
    },
    {
     "data": {
      "image/png": "[encoded data removed]",
      "text/plain": [
       "<Figure size 1152x144 with 1 Axes>"
      ]
     },
     "metadata": {
      "needs_background": "light"
     },
     "output_type": "display_data"
    }
   ],
   "source": [
    "plt.matshow(true_ind_admix_propn.T)"
   ]
  },
  {
   "cell_type": "code",
   "execution_count": 6,
   "metadata": {
    "collapsed": false,
    "scrolled": true
   },
   "outputs": [
    {
     "data": {
      "text/plain": [
       "(50, 40, 3)"
      ]
     },
     "execution_count": 6,
     "metadata": {},
     "output_type": "execute_result"
    }
   ],
   "source": [
    "g_obs.shape"
   ]
  },
  {
   "cell_type": "markdown",
   "metadata": {},
   "source": [
    "# Get prior"
   ]
  },
  {
   "cell_type": "code",
   "execution_count": 7,
   "metadata": {
    "collapsed": false
   },
   "outputs": [
    {
     "name": "stdout",
     "output_type": "stream",
     "text": [
      "OrderedDict:\n",
      "\t[dp_prior_alpha] = NumericArrayPattern (1,) (lb=0.0, ub=inf)\n",
      "\t[allele_prior_alpha] = NumericArrayPattern (1,) (lb=0.0, ub=inf)\n",
      "\t[allele_prior_beta] = NumericArrayPattern (1,) (lb=0.0, ub=inf)\n"
     ]
    }
   ],
   "source": [
    "prior_params_dict, prior_params_paragami = \\\n",
    "    structure_model_lib.get_default_prior_params()\n",
    "\n",
    "print(prior_params_paragami)"
   ]
  },
  {
   "cell_type": "markdown",
   "metadata": {},
   "source": [
    "# Get VB params "
   ]
  },
  {
   "cell_type": "code",
   "execution_count": 8,
   "metadata": {
    "collapsed": true
   },
   "outputs": [],
   "source": [
    "k_approx = 4"
   ]
  },
  {
   "cell_type": "code",
   "execution_count": 9,
   "metadata": {
    "collapsed": true
   },
   "outputs": [],
   "source": [
    "gh_deg = 8\n",
    "gh_loc, gh_weights = hermgauss(8)"
   ]
  },
  {
   "cell_type": "code",
   "execution_count": 10,
   "metadata": {
    "collapsed": false,
    "scrolled": true
   },
   "outputs": [
    {
     "name": "stdout",
     "output_type": "stream",
     "text": [
      "OrderedDict:\n",
      "\t[pop_freq_beta_params] = NumericArrayPattern (40, 4, 2) (lb=0.0, ub=inf)\n",
      "\t[ind_mix_stick_beta_params] = NumericArrayPattern (50, 3, 2) (lb=0.0, ub=inf)\n"
     ]
    }
   ],
   "source": [
    "use_logitnormal_sticks = False\n",
    "\n",
    "vb_params_dict, vb_params_paragami = \\\n",
    "    structure_model_lib.get_vb_params_paragami_object(n_obs, n_loci, k_approx,\n",
    "                                    use_logitnormal_sticks = use_logitnormal_sticks)\n",
    "    \n",
    "print(vb_params_paragami)"
   ]
  },
  {
   "cell_type": "markdown",
   "metadata": {},
   "source": [
    "## Initialize "
   ]
  },
  {
   "cell_type": "code",
   "execution_count": 11,
   "metadata": {
    "collapsed": false
   },
   "outputs": [],
   "source": [
    "vb_params_dict = \\\n",
    "        structure_model_lib.set_init_vb_params(g_obs, k_approx, vb_params_dict,\n",
    "                                                use_logitnormal_sticks)"
   ]
  },
  {
   "cell_type": "markdown",
   "metadata": {},
   "source": [
    "# Optimize"
   ]
  },
  {
   "cell_type": "code",
   "execution_count": 12,
   "metadata": {
    "collapsed": false
   },
   "outputs": [
    {
     "name": "stdout",
     "output_type": "stream",
     "text": [
      "running CAVI. \n",
      "iteration [0]; kl:3369.100652\n",
      "iteration [1]; kl:3093.487351\n",
      "iteration [2]; kl:3042.477997\n",
      "iteration [3]; kl:3023.308631\n",
      "iteration [4]; kl:3013.636864\n",
      "iteration [5]; kl:3007.852735\n",
      "iteration [6]; kl:3004.006019\n",
      "iteration [7]; kl:3001.263703\n",
      "iteration [8]; kl:2999.216139\n",
      "iteration [9]; kl:2997.638612\n",
      "iteration [10]; kl:2996.396288\n",
      "iteration [11]; kl:2995.402195\n",
      "iteration [12]; kl:2994.596996\n",
      "iteration [13]; kl:2993.938464\n",
      "iteration [14]; kl:2993.395585\n",
      "iteration [15]; kl:2992.945026\n",
      "iteration [16]; kl:2992.568905\n",
      "iteration [17]; kl:2992.253308\n",
      "iteration [18]; kl:2991.987278\n",
      "iteration [19]; kl:2991.762096\n",
      "iteration [20]; kl:2991.570759\n",
      "iteration [21]; kl:2991.407604\n",
      "iteration [22]; kl:2991.268019\n",
      "iteration [23]; kl:2991.148224\n",
      "iteration [24]; kl:2991.045105\n",
      "iteration [25]; kl:2990.956089\n",
      "iteration [26]; kl:2990.879035\n",
      "iteration [27]; kl:2990.812157\n",
      "iteration [28]; kl:2990.753963\n",
      "iteration [29]; kl:2990.703197\n",
      "iteration [30]; kl:2990.658802\n",
      "iteration [31]; kl:2990.619886\n",
      "iteration [32]; kl:2990.585693\n",
      "iteration [33]; kl:2990.55558\n",
      "iteration [34]; kl:2990.529003\n",
      "iteration [35]; kl:2990.505494\n",
      "iteration [36]; kl:2990.484656\n",
      "iteration [37]; kl:2990.466146\n",
      "iteration [38]; kl:2990.449672\n",
      "iteration [39]; kl:2990.43498\n",
      "iteration [40]; kl:2990.421854\n",
      "iteration [41]; kl:2990.410104\n",
      "iteration [42]; kl:2990.399569\n",
      "iteration [43]; kl:2990.390105\n",
      "CAVI done. Termination after 43 steps in 1.06 seconds\n",
      "\n",
      " running preconditioned newton; iter =  0\n",
      "approximate preconditioner time: 0.353933 secs\n",
      "setting with given preconditioner: \n",
      "running newton steps\n",
      "Iter 0: f = 2990.38573650\n",
      "Iter 1: f = 2990.31991021\n",
      "Iter 2: f = 2990.29473823\n",
      "Iter 3: f = 2990.29442818\n",
      "Iter 4: f = 2990.29442684\n",
      "Iter 5: f = 2990.29442684\n",
      "Iter 6: f = 2990.29442684\n",
      "Warning: A bad approximation caused failure to predict improvement.\n",
      "         Current function value: 2990.294427\n",
      "         Iterations: 5\n",
      "         Function evaluations: 7\n",
      "         Gradient evaluations: 6\n",
      "         Hessian evaluations: 0\n",
      "Iter 0: x_diff = 10.435621657479269, f_diff = 0.09130965423901216, grad_l1 = 3.1902315884448314e-06\n",
      "\n",
      " running preconditioned newton; iter =  1\n",
      "approximate preconditioner time: 0.355337 secs\n",
      "setting with given preconditioner: \n",
      "running newton steps\n",
      "Iter 0: f = 2990.29442684\n",
      "Iter 1: f = 2990.29442684\n",
      "Warning: A bad approximation caused failure to predict improvement.\n",
      "         Current function value: 2990.294427\n",
      "         Iterations: 0\n",
      "         Function evaluations: 2\n",
      "         Gradient evaluations: 1\n",
      "         Hessian evaluations: 0\n",
      "Iter 1: x_diff = 4.758415883543421e-13, f_diff = 4.547473508864641e-13, grad_l1 = 3.190231359228651e-06\n",
      "done. \n"
     ]
    }
   ],
   "source": [
    "vb_opt_free_params = \\\n",
    "    str_opt_lib.optimize_structure(g_obs, vb_params_dict, vb_params_paragami,\n",
    "                                prior_params_dict,\n",
    "                                gh_loc, gh_weights,\n",
    "                                use_logitnormal_sticks = use_logitnormal_sticks,\n",
    "                                run_cavi = True,\n",
    "                                cavi_max_iter = 100,\n",
    "                                cavi_tol = 1e-2,\n",
    "                                netwon_max_iter = 20,\n",
    "                                max_precondition_iter = 25,\n",
    "                                gtol=1e-8, ftol=1e-8, xtol=1e-8,\n",
    "                                approximate_preconditioner = True)\n",
    "\n",
    "vb_opt_dict = vb_params_paragami.fold(vb_opt_free_params, free=True)"
   ]
  },
  {
   "cell_type": "code",
   "execution_count": 13,
   "metadata": {
    "collapsed": true
   },
   "outputs": [],
   "source": [
    "vb_params_dict = deepcopy(vb_opt_dict)"
   ]
  },
  {
   "cell_type": "code",
   "execution_count": null,
   "metadata": {
    "collapsed": true
   },
   "outputs": [],
   "source": []
  },
  {
   "cell_type": "markdown",
   "metadata": {},
   "source": [
    "# Check results"
   ]
  },
  {
   "cell_type": "code",
   "execution_count": 14,
   "metadata": {
    "collapsed": true
   },
   "outputs": [],
   "source": [
    "if use_logitnormal_sticks: \n",
    "    e_ind_admix = cluster_quantities_lib.get_e_cluster_probabilities(\n",
    "                        vb_opt_dict['ind_mix_stick_propn_mean'], \n",
    "                        vb_opt_dict['ind_mix_stick_propn_info'],\n",
    "                        gh_loc, gh_weights)\n",
    "\n",
    "else: \n",
    "    ind_mix_stick_beta_params = vb_opt_dict['ind_mix_stick_beta_params']\n",
    "    e_stick_lengths = \\\n",
    "            modeling_lib.get_e_beta(ind_mix_stick_beta_params)\n",
    "    e_ind_admix = cluster_quantities_lib.get_mixture_weights_from_stick_break_propns(e_stick_lengths)\n",
    "\n",
    "e_pop_freq = modeling_lib.get_e_beta(vb_opt_dict['pop_freq_beta_params'])"
   ]
  },
  {
   "cell_type": "code",
   "execution_count": 15,
   "metadata": {
    "collapsed": false
   },
   "outputs": [
    {
     "data": {
      "text/plain": [
       "<matplotlib.image.AxesImage at 0x7fc061594d68>"
      ]
     },
     "execution_count": 15,
     "metadata": {},
     "output_type": "execute_result"
    },
    {
     "data": {
      "image/png": "[encoded data removed]",
      "text/plain": [
       "<Figure size 1152x144 with 1 Axes>"
      ]
     },
     "metadata": {
      "needs_background": "light"
     },
     "output_type": "display_data"
    }
   ],
   "source": [
    "plt.matshow(true_ind_admix_propn.T)"
   ]
  },
  {
   "cell_type": "code",
   "execution_count": 16,
   "metadata": {
    "collapsed": false
   },
   "outputs": [
    {
     "data": {
      "text/plain": [
       "<matplotlib.image.AxesImage at 0x7fc061615b38>"
      ]
     },
     "execution_count": 16,
     "metadata": {},
     "output_type": "execute_result"
    },
    {
     "data": {
      "image/png": "[encoded data removed]",
      "text/plain": [
       "<Figure size 1152x144 with 1 Axes>"
      ]
     },
     "metadata": {
      "needs_background": "light"
     },
     "output_type": "display_data"
    }
   ],
   "source": [
    "plt.matshow(e_ind_admix.T)"
   ]
  },
  {
   "cell_type": "code",
   "execution_count": null,
   "metadata": {
    "collapsed": true
   },
   "outputs": [],
   "source": []
  },
  {
   "cell_type": "code",
   "execution_count": null,
   "metadata": {
    "collapsed": true
   },
   "outputs": [],
   "source": []
  }
 ],
 "metadata": {
  "kernelspec": {
   "display_name": "Python (genomics_bnp)",
   "language": "python",
   "name": "genomic_time_series_py35"
  },
  "language_info": {
   "codemirror_mode": {
    "name": "ipython",
    "version": 3
   },
   "file_extension": ".py",
   "mimetype": "text/x-python",
   "name": "python",
   "nbconvert_exporter": "python",
   "pygments_lexer": "ipython3",
   "version": "3.5.0"
  }
 },
 "nbformat": 4,
 "nbformat_minor": 2
}
