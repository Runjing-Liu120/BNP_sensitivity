{
 "cells": [
  {
   "cell_type": "code",
   "execution_count": 1,
   "metadata": {
    "scrolled": true
   },
   "outputs": [
    {
     "name": "stderr",
     "output_type": "stream",
     "text": [
      "/home/rliu/anaconda3/envs/bnp_sensitivity_jax/lib/python3.8/site-packages/jax/lib/xla_bridge.py:130: UserWarning: No GPU/TPU found, falling back to CPU.\n",
      "  warnings.warn('No GPU/TPU found, falling back to CPU.')\n"
     ]
    }
   ],
   "source": [
    "import jax\n",
    "\n",
    "import jax.numpy as np\n",
    "import jax.scipy as sp\n",
    "\n",
    "from numpy.polynomial.hermite import hermgauss\n",
    "import scipy as osp\n",
    "\n",
    "from vb_lib import structure_model_lib, data_utils, cavi_lib\n",
    "from vb_lib.preconditioner_lib import get_mfvb_cov_matmul\n",
    "\n",
    "import paragami\n",
    "import vittles\n",
    "\n",
    "from copy import deepcopy\n",
    "\n",
    "import time\n",
    "\n",
    "import matplotlib.pyplot as plt\n",
    "%matplotlib inline  \n",
    "\n",
    "from bnpmodeling_runjingdev import cluster_quantities_lib, modeling_lib\n"
   ]
  },
  {
   "cell_type": "code",
   "execution_count": 2,
   "metadata": {},
   "outputs": [],
   "source": [
    "import numpy as onp\n",
    "onp.random.seed(53453)"
   ]
  },
  {
   "cell_type": "markdown",
   "metadata": {
    "collapsed": true
   },
   "source": [
    "# Draw data"
   ]
  },
  {
   "cell_type": "code",
   "execution_count": 3,
   "metadata": {},
   "outputs": [],
   "source": [
    "n_obs = 40\n",
    "n_loci = 50\n",
    "n_pop = 4"
   ]
  },
  {
   "cell_type": "code",
   "execution_count": 4,
   "metadata": {},
   "outputs": [],
   "source": [
    "g_obs, true_pop_allele_freq, true_ind_admix_propn = \\\n",
    "    data_utils.draw_data(n_obs, n_loci, n_pop)"
   ]
  },
  {
   "cell_type": "code",
   "execution_count": 5,
   "metadata": {
    "scrolled": true
   },
   "outputs": [
    {
     "data": {
      "text/plain": [
       "<matplotlib.image.AxesImage at 0x7f2e91cd5970>"
      ]
     },
     "execution_count": 5,
     "metadata": {},
     "output_type": "execute_result"
    },
    {
     "data": {
      "image/png": "[encoded data removed]",
      "text/plain": [
       "<Figure size 1152x144 with 1 Axes>"
      ]
     },
     "metadata": {
      "needs_background": "light"
     },
     "output_type": "display_data"
    }
   ],
   "source": [
    "plt.matshow(true_ind_admix_propn.T)"
   ]
  },
  {
   "cell_type": "code",
   "execution_count": null,
   "metadata": {},
   "outputs": [],
   "source": []
  },
  {
   "cell_type": "code",
   "execution_count": 6,
   "metadata": {
    "scrolled": true
   },
   "outputs": [
    {
     "data": {
      "text/plain": [
       "(40, 50, 3)"
      ]
     },
     "execution_count": 6,
     "metadata": {},
     "output_type": "execute_result"
    }
   ],
   "source": [
    "g_obs.shape"
   ]
  },
  {
   "cell_type": "markdown",
   "metadata": {},
   "source": [
    "# Get prior"
   ]
  },
  {
   "cell_type": "code",
   "execution_count": 7,
   "metadata": {},
   "outputs": [
    {
     "name": "stdout",
     "output_type": "stream",
     "text": [
      "{'dp_prior_alpha': DeviceArray([3.], dtype=float64), 'allele_prior_alpha': DeviceArray([1.], dtype=float64), 'allele_prior_beta': DeviceArray([1.], dtype=float64)}\n"
     ]
    }
   ],
   "source": [
    "prior_params_dict, prior_params_paragami = \\\n",
    "    structure_model_lib.get_default_prior_params()\n",
    "\n",
    "print(prior_params_dict)\n",
    "\n",
    "prior_params_free = prior_params_paragami.flatten(prior_params_dict, free = True)"
   ]
  },
  {
   "cell_type": "code",
   "execution_count": null,
   "metadata": {},
   "outputs": [],
   "source": []
  },
  {
   "cell_type": "markdown",
   "metadata": {},
   "source": [
    "# Get VB params "
   ]
  },
  {
   "cell_type": "code",
   "execution_count": 8,
   "metadata": {},
   "outputs": [],
   "source": [
    "k_approx = 8"
   ]
  },
  {
   "cell_type": "code",
   "execution_count": 9,
   "metadata": {},
   "outputs": [],
   "source": [
    "gh_deg = 8\n",
    "gh_loc, gh_weights = hermgauss(8)"
   ]
  },
  {
   "cell_type": "code",
   "execution_count": 10,
   "metadata": {
    "scrolled": true
   },
   "outputs": [
    {
     "name": "stdout",
     "output_type": "stream",
     "text": [
      "OrderedDict:\n",
      "\t[pop_freq_beta_params] = NumericArrayPattern (50, 8, 2) (lb=0.0, ub=inf)\n",
      "\t[ind_mix_stick_beta_params] = NumericArrayPattern (40, 7, 2) (lb=0.0, ub=inf)\n"
     ]
    }
   ],
   "source": [
    "use_logitnormal_sticks = False\n",
    "\n",
    "vb_params_dict, vb_params_paragami = \\\n",
    "    structure_model_lib.get_vb_params_paragami_object(n_obs, n_loci, k_approx,\n",
    "                                    use_logitnormal_sticks = use_logitnormal_sticks)\n",
    "    \n",
    "print(vb_params_paragami)"
   ]
  },
  {
   "cell_type": "code",
   "execution_count": null,
   "metadata": {},
   "outputs": [],
   "source": []
  },
  {
   "cell_type": "markdown",
   "metadata": {},
   "source": [
    "## Initialize "
   ]
  },
  {
   "cell_type": "code",
   "execution_count": 11,
   "metadata": {},
   "outputs": [],
   "source": [
    "vb_params_dict = \\\n",
    "        structure_model_lib.set_init_vb_params(g_obs, k_approx, vb_params_dict,\n",
    "                                                seed = 143241)"
   ]
  },
  {
   "cell_type": "code",
   "execution_count": 12,
   "metadata": {},
   "outputs": [],
   "source": [
    "def get_vb_expectations(vb_params_dict, use_logitnormal_sticks): \n",
    "    if use_logitnormal_sticks: \n",
    "        e_ind_admix = cluster_quantities_lib.get_e_cluster_probabilities(\n",
    "                            vb_params_dict['ind_mix_stick_propn_mean'], \n",
    "                            vb_params_dict['ind_mix_stick_propn_info'],\n",
    "                            gh_loc, gh_weights)\n",
    "\n",
    "    else: \n",
    "        ind_mix_stick_beta_params = vb_params_dict['ind_mix_stick_beta_params']\n",
    "        e_stick_lengths = \\\n",
    "                modeling_lib.get_e_beta(ind_mix_stick_beta_params)\n",
    "        e_ind_admix = cluster_quantities_lib.get_mixture_weights_from_stick_break_propns(e_stick_lengths)\n",
    "\n",
    "    e_pop_freq = modeling_lib.get_e_beta(vb_params_dict['pop_freq_beta_params'])\n",
    "    \n",
    "    return e_ind_admix, e_pop_freq"
   ]
  },
  {
   "cell_type": "code",
   "execution_count": 13,
   "metadata": {},
   "outputs": [
    {
     "data": {
      "text/plain": [
       "<matplotlib.image.AxesImage at 0x7f2e90b10d30>"
      ]
     },
     "execution_count": 13,
     "metadata": {},
     "output_type": "execute_result"
    },
    {
     "data": {
      "image/png": "[encoded data removed]",
      "text/plain": [
       "<Figure size 1152x230.4 with 1 Axes>"
      ]
     },
     "metadata": {
      "needs_background": "light"
     },
     "output_type": "display_data"
    }
   ],
   "source": [
    "plt.matshow(get_vb_expectations(vb_params_dict, use_logitnormal_sticks)[0].transpose())"
   ]
  },
  {
   "cell_type": "code",
   "execution_count": 14,
   "metadata": {},
   "outputs": [
    {
     "data": {
      "text/plain": [
       "DeviceArray(11000.2193286, dtype=float64)"
      ]
     },
     "execution_count": 14,
     "metadata": {},
     "output_type": "execute_result"
    }
   ],
   "source": [
    "structure_model_lib.get_kl(g_obs, vb_params_dict, prior_params_dict,\n",
    "                            gh_loc, gh_weights)"
   ]
  },
  {
   "cell_type": "code",
   "execution_count": null,
   "metadata": {},
   "outputs": [],
   "source": []
  },
  {
   "cell_type": "code",
   "execution_count": null,
   "metadata": {},
   "outputs": [],
   "source": []
  },
  {
   "cell_type": "markdown",
   "metadata": {},
   "source": [
    "# Run CAVI"
   ]
  },
  {
   "cell_type": "code",
   "execution_count": 15,
   "metadata": {
    "scrolled": true
   },
   "outputs": [
    {
     "name": "stdout",
     "output_type": "stream",
     "text": [
      "CAVI compile time: 5.18sec\n",
      "\n",
      " running CAVI ...\n",
      "iteration [20]; kl:3463.662612; elapsed: 0.1178secs\n",
      "iteration [40]; kl:3423.774153; elapsed: 0.098secs\n",
      "iteration [60]; kl:3392.048777; elapsed: 0.0655secs\n",
      "iteration [80]; kl:3371.312255; elapsed: 0.0721secs\n",
      "iteration [100]; kl:3365.915427; elapsed: 0.0772secs\n",
      "iteration [120]; kl:3356.65813; elapsed: 0.1397secs\n",
      "iteration [140]; kl:3354.657188; elapsed: 0.185secs\n",
      "iteration [160]; kl:3354.379454; elapsed: 0.1633secs\n",
      "iteration [180]; kl:3354.252382; elapsed: 0.1495secs\n",
      "iteration [200]; kl:3354.17289; elapsed: 0.1267secs\n",
      "iteration [220]; kl:3354.111512; elapsed: 0.0742secs\n",
      "iteration [240]; kl:3354.054956; elapsed: 0.0682secs\n",
      "iteration [260]; kl:3353.994528; elapsed: 0.0686secs\n",
      "iteration [280]; kl:3353.921753; elapsed: 0.069secs\n",
      "iteration [300]; kl:3353.82472; elapsed: 0.0671secs\n",
      "iteration [320]; kl:3353.681961; elapsed: 0.0759secs\n",
      "iteration [340]; kl:3353.447996; elapsed: 0.0674secs\n",
      "iteration [360]; kl:3353.014127; elapsed: 0.0663secs\n",
      "iteration [380]; kl:3352.109258; elapsed: 0.0654secs\n",
      "iteration [400]; kl:3350.219714; elapsed: 0.0655secs\n",
      "iteration [420]; kl:3346.718488; elapsed: 0.0666secs\n",
      "iteration [440]; kl:3339.362802; elapsed: 0.0691secs\n",
      "iteration [460]; kl:3327.285371; elapsed: 0.0699secs\n",
      "iteration [480]; kl:3322.877533; elapsed: 0.0655secs\n",
      "iteration [500]; kl:3321.842212; elapsed: 0.0665secs\n",
      "iteration [520]; kl:3321.467837; elapsed: 0.0652secs\n",
      "iteration [540]; kl:3321.301776; elapsed: 0.0655secs\n",
      "iteration [560]; kl:3321.216036; elapsed: 0.0668secs\n",
      "iteration [580]; kl:3321.167538; elapsed: 0.0703secs\n",
      "iteration [600]; kl:3321.138489; elapsed: 0.0738secs\n",
      "iteration [620]; kl:3321.120175; elapsed: 0.0717secs\n",
      "iteration [640]; kl:3321.10765; elapsed: 0.0711secs\n",
      "iteration [660]; kl:3321.097659; elapsed: 0.0708secs\n",
      "iteration [680]; kl:3321.08742; elapsed: 0.1232secs\n",
      "iteration [700]; kl:3321.072976; elapsed: 0.0753secs\n",
      "iteration [720]; kl:3321.044121; elapsed: 0.0706secs\n",
      "iteration [740]; kl:3320.956099; elapsed: 0.0698secs\n",
      "iteration [760]; kl:3320.394862; elapsed: 0.0644secs\n",
      "iteration [780]; kl:3314.684781; elapsed: 0.0656secs\n",
      "iteration [800]; kl:3314.240486; elapsed: 0.0703secs\n",
      "iteration [820]; kl:3314.194476; elapsed: 0.0713secs\n",
      "iteration [840]; kl:3314.186279; elapsed: 0.0697secs\n",
      "iteration [860]; kl:3314.184242; elapsed: 0.0708secs\n",
      "iteration [880]; kl:3314.1831; elapsed: 0.0729secs\n",
      "iteration [900]; kl:3314.182101; elapsed: 0.0675secs\n",
      "iteration [920]; kl:3314.181056; elapsed: 0.0917secs\n",
      "iteration [940]; kl:3314.179857; elapsed: 0.077secs\n",
      "iteration [960]; kl:3314.178389; elapsed: 0.0659secs\n",
      "iteration [980]; kl:3314.176494; elapsed: 0.0665secs\n",
      "iteration [1000]; kl:3314.173917; elapsed: 0.0811secs\n",
      "iteration [1020]; kl:3314.170211; elapsed: 0.0779secs\n",
      "iteration [1040]; kl:3314.164543; elapsed: 0.0849secs\n",
      "iteration [1060]; kl:3314.15525; elapsed: 0.0854secs\n",
      "iteration [1080]; kl:3314.138766; elapsed: 0.0722secs\n",
      "iteration [1100]; kl:3314.106885; elapsed: 0.0657secs\n",
      "iteration [1120]; kl:3314.039732; elapsed: 0.0664secs\n",
      "iteration [1140]; kl:3313.889724; elapsed: 0.0653secs\n",
      "iteration [1160]; kl:3313.55786; elapsed: 0.0646secs\n",
      "iteration [1180]; kl:3312.887126; elapsed: 0.0663secs\n",
      "iteration [1200]; kl:3312.026495; elapsed: 0.0721secs\n",
      "iteration [1220]; kl:3311.833806; elapsed: 0.0641secs\n",
      "iteration [1240]; kl:3311.816521; elapsed: 0.0661secs\n",
      "iteration [1260]; kl:3311.811614; elapsed: 0.0654secs\n",
      "iteration [1280]; kl:3311.809766; elapsed: 0.0658secs\n",
      "iteration [1300]; kl:3311.808969; elapsed: 0.0702secs\n",
      "iteration [1320]; kl:3311.8086; elapsed: 0.0679secs\n",
      "iteration [1340]; kl:3311.808423; elapsed: 0.0709secs\n",
      "iteration [1360]; kl:3311.808336; elapsed: 0.0766secs\n",
      "iteration [1380]; kl:3311.808294; elapsed: 0.0694secs\n",
      "iteration [1400]; kl:3311.808273; elapsed: 0.0659secs\n",
      "iteration [1420]; kl:3311.808262; elapsed: 0.066secs\n",
      "CAVI done.\n",
      "Elapsed: 1430 steps in 5.55 seconds\n"
     ]
    }
   ],
   "source": [
    "vb_opt_dict, vb_opt, _, _ = \\\n",
    "    cavi_lib.run_cavi(g_obs, vb_params_dict, \n",
    "                        vb_params_paragami,\n",
    "                        prior_params_dict,\n",
    "                        gh_loc = gh_loc, gh_weights = gh_weights, \n",
    "                        max_iter = 2000,\n",
    "                        x_tol = 1e-4, \n",
    "                        print_every = 20)\n",
    "\n",
    "# vb_opt_dict = vb_params_dict\n",
    "# vb_opt = vb_params_paragami.flatten(vb_opt_dict, free = True)"
   ]
  },
  {
   "cell_type": "code",
   "execution_count": 16,
   "metadata": {},
   "outputs": [
    {
     "data": {
      "text/plain": [
       "DeviceArray(3.82190997, dtype=float64)"
      ]
     },
     "execution_count": 16,
     "metadata": {},
     "output_type": "execute_result"
    }
   ],
   "source": [
    "(vb_opt**2).mean()"
   ]
  },
  {
   "cell_type": "code",
   "execution_count": 17,
   "metadata": {},
   "outputs": [],
   "source": [
    "# structure_model_lib.assert_optimizer(g_obs, vb_opt_dict, vb_params_paragami,\n",
    "#                         prior_params_dict, gh_loc, gh_weights,\n",
    "#                         use_logitnormal_sticks)\n"
   ]
  },
  {
   "cell_type": "code",
   "execution_count": null,
   "metadata": {},
   "outputs": [],
   "source": []
  },
  {
   "cell_type": "markdown",
   "metadata": {},
   "source": [
    "# Define objective"
   ]
  },
  {
   "cell_type": "code",
   "execution_count": 18,
   "metadata": {},
   "outputs": [],
   "source": [
    "objective = paragami.FlattenFunctionInput(original_fun=structure_model_lib.get_kl, \n",
    "                                    patterns = [vb_params_paragami, prior_params_paragami],\n",
    "                                    free = True,\n",
    "                                    argnums = [1, 2])\n",
    "\n",
    "objective_fun = lambda x, y: objective(g_obs, x, y, \n",
    "                                    gh_loc = gh_loc,\n",
    "                                    gh_weights = gh_weights)\n",
    "\n",
    "objective_fun_jitted = jax.jit(objective_fun)"
   ]
  },
  {
   "cell_type": "code",
   "execution_count": 19,
   "metadata": {},
   "outputs": [],
   "source": [
    "def get_jac_hvp_fun(f):\n",
    "    def hvp(x, v):\n",
    "        return jax.jvp(jax.grad(f), (x, ), (v, ))[1]\n",
    "    return hvp"
   ]
  },
  {
   "cell_type": "code",
   "execution_count": 20,
   "metadata": {},
   "outputs": [],
   "source": [
    "# get derivative functions\n",
    "obj_fun_grad = jax.jit(jax.grad(objective_fun, argnums = 0))\n",
    "obj_fun_hessian = jax.jit(jax.hessian(objective_fun, argnums = 0))\n",
    "\n",
    "obj_fun_hvp = jax.jit(get_jac_hvp_fun(lambda x : objective_fun(x, prior_params_free)))\n"
   ]
  },
  {
   "cell_type": "code",
   "execution_count": null,
   "metadata": {},
   "outputs": [],
   "source": []
  },
  {
   "cell_type": "markdown",
   "metadata": {},
   "source": [
    "# Derivative times"
   ]
  },
  {
   "cell_type": "code",
   "execution_count": 21,
   "metadata": {},
   "outputs": [
    {
     "name": "stdout",
     "output_type": "stream",
     "text": [
      "function compile time: 1.14sec\n"
     ]
    }
   ],
   "source": [
    "t0 = time.time()\n",
    "loss = objective_fun_jitted(vb_opt, prior_params_free)\n",
    "print('function compile time: {:0.3}sec'.format(time.time() - t0))"
   ]
  },
  {
   "cell_type": "code",
   "execution_count": 22,
   "metadata": {},
   "outputs": [],
   "source": [
    "# function time\n",
    "# %timeit objective_fun_jitted(vb_opt, prior_params_free)"
   ]
  },
  {
   "cell_type": "code",
   "execution_count": 23,
   "metadata": {},
   "outputs": [
    {
     "name": "stdout",
     "output_type": "stream",
     "text": [
      "gradient compile time: 9.11sec\n"
     ]
    }
   ],
   "source": [
    "t0 = time.time()\n",
    "grad = obj_fun_grad(vb_opt, prior_params_free)\n",
    "print('gradient compile time: {:0.3}sec'.format(time.time() - t0))"
   ]
  },
  {
   "cell_type": "code",
   "execution_count": 24,
   "metadata": {},
   "outputs": [
    {
     "name": "stdout",
     "output_type": "stream",
     "text": [
      "gradient time: 0.00055sec\n"
     ]
    }
   ],
   "source": [
    "# gradient time\n",
    "# %timeit obj_fun_grad(vb_opt, prior_params_free)\n",
    "\n",
    "t0 = time.time()\n",
    "_ = obj_fun_grad(vb_opt, prior_params_free)\n",
    "print('gradient time: {:0.3}sec'.format(time.time() - t0))"
   ]
  },
  {
   "cell_type": "code",
   "execution_count": 25,
   "metadata": {},
   "outputs": [],
   "source": [
    "# if its impossible, don't run the hessian\n",
    "run_hessian = False"
   ]
  },
  {
   "cell_type": "code",
   "execution_count": 26,
   "metadata": {},
   "outputs": [],
   "source": [
    "if run_hessian: \n",
    "    t0 = time.time()\n",
    "    hess = obj_fun_hessian(vb_opt, prior_params_free)\n",
    "    print('hessian time: {:0.3}sec'.format(time.time() - t0))"
   ]
  },
  {
   "cell_type": "code",
   "execution_count": 27,
   "metadata": {},
   "outputs": [],
   "source": [
    "# cross hessian \n",
    "hyper_obj_fun_grad = jax.jit(jax.jacobian(objective_fun, argnums=1))\n",
    "hyper_obj_cross_hess = jax.jit(jax.jacobian(hyper_obj_fun_grad, argnums=0))\n"
   ]
  },
  {
   "cell_type": "code",
   "execution_count": 28,
   "metadata": {},
   "outputs": [
    {
     "name": "stdout",
     "output_type": "stream",
     "text": [
      "cross-hessian compile time: 2.3sec\n"
     ]
    }
   ],
   "source": [
    "t0 = time.time()\n",
    "cross_hess = hyper_obj_cross_hess(vb_opt, prior_params_free)\n",
    "print('cross-hessian compile time: {:0.3}sec'.format(time.time() - t0))\n",
    "\n",
    "cross_hess = cross_hess.transpose()"
   ]
  },
  {
   "cell_type": "code",
   "execution_count": 29,
   "metadata": {},
   "outputs": [
    {
     "name": "stdout",
     "output_type": "stream",
     "text": [
      "cross-hessian time: 0.000438sec\n"
     ]
    }
   ],
   "source": [
    "# %timeit hyper_obj_cross_hess(vb_opt, prior_params_free)\n",
    "\n",
    "t0 = time.time()\n",
    "_ = hyper_obj_cross_hess(vb_opt, prior_params_free)\n",
    "print('cross-hessian time: {:0.3}sec'.format(time.time() - t0))"
   ]
  },
  {
   "cell_type": "code",
   "execution_count": 30,
   "metadata": {},
   "outputs": [
    {
     "name": "stdout",
     "output_type": "stream",
     "text": [
      "hvp compile time: 17.5sec\n"
     ]
    }
   ],
   "source": [
    "# hessian-vector product time\n",
    "t0 = time.time()\n",
    "hvp = obj_fun_hvp(vb_opt, cross_hess[:, 0])\n",
    "print('hvp compile time: {:0.3}sec'.format(time.time() - t0))"
   ]
  },
  {
   "cell_type": "code",
   "execution_count": 31,
   "metadata": {},
   "outputs": [
    {
     "name": "stdout",
     "output_type": "stream",
     "text": [
      "hvp time: 0.00499sec\n"
     ]
    }
   ],
   "source": [
    "# %timeit obj_fun_hvp(vb_opt, cross_hess[:, 0])\n",
    "\n",
    "t0 = time.time()\n",
    "_ = obj_fun_hvp(vb_opt, cross_hess[:, 0])\n",
    "print('hvp time: {:0.3}sec'.format(time.time() - t0))"
   ]
  },
  {
   "cell_type": "code",
   "execution_count": null,
   "metadata": {},
   "outputs": [],
   "source": []
  },
  {
   "cell_type": "code",
   "execution_count": null,
   "metadata": {},
   "outputs": [],
   "source": []
  },
  {
   "cell_type": "markdown",
   "metadata": {},
   "source": [
    "# Solver times"
   ]
  },
  {
   "cell_type": "code",
   "execution_count": 32,
   "metadata": {},
   "outputs": [],
   "source": [
    "if run_hessian: \n",
    "    chol_solver = vittles.solver_lib.get_cholesky_solver(hess)\n",
    "    \n",
    "    t0 = time.time()\n",
    "    dinput_dhyper = -chol_solver(cross_hess)\n",
    "    \n",
    "    print('solver time: {:0.3}sec'.format(time.time() - t0))\n",
    "    "
   ]
  },
  {
   "cell_type": "code",
   "execution_count": 33,
   "metadata": {},
   "outputs": [],
   "source": [
    "cg_solver = vittles.solver_lib.get_cg_solver(lambda x : obj_fun_hvp(vb_opt, x), \n",
    "                                            dim = len(vb_opt))"
   ]
  },
  {
   "cell_type": "code",
   "execution_count": 34,
   "metadata": {},
   "outputs": [
    {
     "name": "stdout",
     "output_type": "stream",
     "text": [
      "solver time: 0.451sec\n"
     ]
    }
   ],
   "source": [
    "t0 = time.time()\n",
    "_ = -cg_solver(cross_hess[:, 0])\n",
    "print('solver time: {:0.3}sec'.format(time.time() - t0))"
   ]
  },
  {
   "cell_type": "code",
   "execution_count": 35,
   "metadata": {},
   "outputs": [
    {
     "name": "stdout",
     "output_type": "stream",
     "text": [
      "solver time: 0.451sec\n"
     ]
    }
   ],
   "source": [
    "# it seems like something is getting compiled, but \n",
    "# not sure what. Second time is faster\n",
    "t0 = time.time()\n",
    "dinput_dhyper2 = -cg_solver(cross_hess[:, 0])\n",
    "print('solver time: {:0.3}sec'.format(time.time() - t0))"
   ]
  },
  {
   "cell_type": "code",
   "execution_count": null,
   "metadata": {},
   "outputs": [],
   "source": []
  },
  {
   "cell_type": "code",
   "execution_count": 36,
   "metadata": {},
   "outputs": [
    {
     "name": "stdout",
     "output_type": "stream",
     "text": [
      "preconditioner compile time: 1.32sec\n"
     ]
    }
   ],
   "source": [
    "# define preconditioner\n",
    "precon_fun = jax.jit(lambda v : get_mfvb_cov_matmul(v, vb_opt_dict,\n",
    "                                            vb_params_paragami,\n",
    "                                            return_info = True))\n",
    "t0 = time.time()\n",
    "_ = precon_fun(cross_hess[:, 0])\n",
    "print('preconditioner compile time: {:0.3}sec'.format(time.time() - t0))"
   ]
  },
  {
   "cell_type": "code",
   "execution_count": 37,
   "metadata": {},
   "outputs": [
    {
     "name": "stdout",
     "output_type": "stream",
     "text": [
      "2.34 ms ± 272 µs per loop (mean ± std. dev. of 7 runs, 100 loops each)\n"
     ]
    }
   ],
   "source": [
    "M_op = osp.sparse.linalg.LinearOperator((len(vb_opt), len(vb_opt)), precon_fun)\n",
    "\n",
    "# actual preconditioner time\n",
    "%timeit M_op(cross_hess[:, 0])"
   ]
  },
  {
   "cell_type": "code",
   "execution_count": null,
   "metadata": {},
   "outputs": [],
   "source": []
  },
  {
   "cell_type": "code",
   "execution_count": 38,
   "metadata": {},
   "outputs": [
    {
     "name": "stdout",
     "output_type": "stream",
     "text": [
      "preconditioned solver time: 0.287sec\n"
     ]
    }
   ],
   "source": [
    "cg_solver_precond = vittles.solver_lib.get_cg_solver(lambda x : obj_fun_hvp(vb_opt, x), \n",
    "                                            dim = len(vb_opt), \n",
    "                                            cg_opts = {'M': M_op})\n",
    "    \n",
    "t0 = time.time()\n",
    "dinput_dhyper3 = -cg_solver_precond(cross_hess[:, 0])\n",
    "    \n",
    "print('preconditioned solver time: {:0.3}sec'.format(time.time() - t0))\n",
    "\n"
   ]
  },
  {
   "cell_type": "code",
   "execution_count": 39,
   "metadata": {},
   "outputs": [
    {
     "name": "stdout",
     "output_type": "stream",
     "text": [
      "0.00017442079268370492\n"
     ]
    }
   ],
   "source": [
    "if run_hessian: \n",
    "    print(np.abs(dinput_dhyper[:, 0] - dinput_dhyper2).max())\n",
    "    \n",
    "print(np.abs(dinput_dhyper3 - dinput_dhyper2).max())"
   ]
  },
  {
   "cell_type": "code",
   "execution_count": 40,
   "metadata": {},
   "outputs": [
    {
     "data": {
      "text/plain": [
       "1.1195294308214603"
      ]
     },
     "execution_count": 40,
     "metadata": {},
     "output_type": "execute_result"
    }
   ],
   "source": [
    "(dinput_dhyper2**2).mean()"
   ]
  },
  {
   "cell_type": "code",
   "execution_count": null,
   "metadata": {},
   "outputs": [],
   "source": []
  },
  {
   "cell_type": "code",
   "execution_count": null,
   "metadata": {},
   "outputs": [],
   "source": []
  },
  {
   "cell_type": "raw",
   "metadata": {},
   "source": [
    "from vb_lib.preconditioner_lib import _get_cov_for_all_beta_params"
   ]
  },
  {
   "cell_type": "raw",
   "metadata": {},
   "source": [
    "vb_params_pop_params = np.array(vb_params_paragami['pop_freq_beta_params'].flatten(\\\n",
    "                        vb_params_dict['pop_freq_beta_params'], free = False))"
   ]
  },
  {
   "cell_type": "raw",
   "metadata": {},
   "source": [
    "_get_cov_for_all_beta_params(vb_params_pop_params, return_info = True)"
   ]
  },
  {
   "cell_type": "raw",
   "metadata": {},
   "source": []
  }
 ],
 "metadata": {
  "kernelspec": {
   "display_name": "bnp_sensitivity_jax",
   "language": "python",
   "name": "bnp_sensitivity_jax"
  },
  "language_info": {
   "codemirror_mode": {
    "name": "ipython",
    "version": 3
   },
   "file_extension": ".py",
   "mimetype": "text/x-python",
   "name": "python",
   "nbconvert_exporter": "python",
   "pygments_lexer": "ipython3",
   "version": "3.8.0"
  }
 },
 "nbformat": 4,
 "nbformat_minor": 2
}
