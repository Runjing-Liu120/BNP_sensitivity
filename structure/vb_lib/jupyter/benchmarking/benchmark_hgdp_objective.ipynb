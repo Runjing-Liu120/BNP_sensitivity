{
 "cells": [
  {
   "cell_type": "code",
   "execution_count": 1,
   "metadata": {
    "scrolled": true
   },
   "outputs": [
    {
     "name": "stderr",
     "output_type": "stream",
     "text": [
      "/accounts/grad/runjing_liu/.conda/envs/bnp_sensitivity_jax/lib/python3.8/site-packages/jax/lib/xla_bridge.py:130: UserWarning: No GPU/TPU found, falling back to CPU.\n",
      "  warnings.warn('No GPU/TPU found, falling back to CPU.')\n"
     ]
    }
   ],
   "source": [
    "import jax\n",
    "\n",
    "import jax.numpy as np\n",
    "import jax.scipy as sp\n",
    "\n",
    "from numpy.polynomial.hermite import hermgauss\n",
    "import scipy as osp\n",
    "\n",
    "from vb_lib import structure_model_lib, data_utils, cavi_lib\n",
    "import vb_lib.structure_optimization_lib as s_optim_lib\n",
    "from vb_lib.preconditioner_lib import get_mfvb_cov_matmul\n",
    "\n",
    "import paragami\n",
    "import vittles\n",
    "\n",
    "from copy import deepcopy\n",
    "\n",
    "import time\n",
    "\n",
    "import matplotlib.pyplot as plt\n",
    "%matplotlib inline  \n",
    "\n",
    "from bnpmodeling_runjingdev import cluster_quantities_lib, modeling_lib\n",
    "from bnpmodeling_runjingdev.sensitivity_lib import get_jac_hvp_fun"
   ]
  },
  {
   "cell_type": "code",
   "execution_count": 2,
   "metadata": {},
   "outputs": [],
   "source": [
    "import numpy as onp\n",
    "onp.random.seed(53453)"
   ]
  },
  {
   "cell_type": "markdown",
   "metadata": {
    "collapsed": true
   },
   "source": [
    "# Load data"
   ]
  },
  {
   "cell_type": "code",
   "execution_count": 3,
   "metadata": {},
   "outputs": [],
   "source": [
    "data_file = '../../../../../fastStructure/hgdp_data/huang2011_plink_files/' + \\\n",
    "                'phased_HGDP+India+Africa_2810SNPs-regions1to36.npz'\n",
    "\n",
    "data = np.load(data_file)\n",
    "g_obs = np.array(data['g_obs'], dtype = int)"
   ]
  },
  {
   "cell_type": "code",
   "execution_count": 4,
   "metadata": {},
   "outputs": [
    {
     "name": "stdout",
     "output_type": "stream",
     "text": [
      "1107\n",
      "2810\n"
     ]
    }
   ],
   "source": [
    "n_obs = g_obs.shape[0]\n",
    "n_loci = g_obs.shape[1]\n",
    "\n",
    "print(n_obs)\n",
    "print(n_loci)"
   ]
  },
  {
   "cell_type": "code",
   "execution_count": null,
   "metadata": {},
   "outputs": [],
   "source": []
  },
  {
   "cell_type": "markdown",
   "metadata": {},
   "source": [
    "# Get prior"
   ]
  },
  {
   "cell_type": "code",
   "execution_count": 5,
   "metadata": {},
   "outputs": [
    {
     "name": "stdout",
     "output_type": "stream",
     "text": [
      "{'dp_prior_alpha': DeviceArray([3.], dtype=float64), 'allele_prior_alpha': DeviceArray([1.], dtype=float64), 'allele_prior_beta': DeviceArray([1.], dtype=float64)}\n"
     ]
    }
   ],
   "source": [
    "prior_params_dict, prior_params_paragami = \\\n",
    "    structure_model_lib.get_default_prior_params()\n",
    "\n",
    "print(prior_params_dict)\n",
    "\n",
    "prior_params_free = prior_params_paragami.flatten(prior_params_dict, free = True)"
   ]
  },
  {
   "cell_type": "code",
   "execution_count": null,
   "metadata": {},
   "outputs": [],
   "source": []
  },
  {
   "cell_type": "markdown",
   "metadata": {},
   "source": [
    "# Get VB params "
   ]
  },
  {
   "cell_type": "code",
   "execution_count": 6,
   "metadata": {},
   "outputs": [],
   "source": [
    "k_approx = 20"
   ]
  },
  {
   "cell_type": "code",
   "execution_count": 7,
   "metadata": {},
   "outputs": [],
   "source": [
    "gh_deg = 8\n",
    "gh_loc, gh_weights = hermgauss(8)"
   ]
  },
  {
   "cell_type": "code",
   "execution_count": 8,
   "metadata": {
    "scrolled": true
   },
   "outputs": [
    {
     "name": "stdout",
     "output_type": "stream",
     "text": [
      "OrderedDict:\n",
      "\t[pop_freq_beta_params] = NumericArrayPattern (2810, 20, 2) (lb=0.0, ub=inf)\n",
      "\t[ind_admix_params] = OrderedDict:\n",
      "\t[stick_means] = NumericArrayPattern (1107, 19) (lb=-inf, ub=inf)\n",
      "\t[stick_infos] = NumericArrayPattern (1107, 19) (lb=0.0001, ub=inf)\n"
     ]
    }
   ],
   "source": [
    "use_logitnormal_sticks = True\n",
    "\n",
    "vb_params_dict, vb_params_paragami = \\\n",
    "    structure_model_lib.get_vb_params_paragami_object(n_obs, n_loci, k_approx,\n",
    "                                    use_logitnormal_sticks = use_logitnormal_sticks)\n",
    "    \n",
    "print(vb_params_paragami)"
   ]
  },
  {
   "cell_type": "code",
   "execution_count": 23,
   "metadata": {},
   "outputs": [
    {
     "data": {
      "text/plain": [
       "1"
      ]
     },
     "execution_count": 23,
     "metadata": {},
     "output_type": "execute_result"
    }
   ],
   "source": [
    "1"
   ]
  },
  {
   "cell_type": "markdown",
   "metadata": {},
   "source": [
    "## Initialize "
   ]
  },
  {
   "cell_type": "code",
   "execution_count": 9,
   "metadata": {},
   "outputs": [],
   "source": [
    "vb_params_dict = \\\n",
    "        s_optim_lib.set_nmf_init_vb_params(g_obs, k_approx, vb_params_dict,\n",
    "                                                seed = 143241)"
   ]
  },
  {
   "cell_type": "code",
   "execution_count": 10,
   "metadata": {},
   "outputs": [
    {
     "data": {
      "text/plain": [
       "DeviceArray(37288025.69132794, dtype=float64)"
      ]
     },
     "execution_count": 10,
     "metadata": {},
     "output_type": "execute_result"
    }
   ],
   "source": [
    "structure_model_lib.get_kl(g_obs, vb_params_dict, prior_params_dict,\n",
    "                            gh_loc, gh_weights)"
   ]
  },
  {
   "cell_type": "code",
   "execution_count": 11,
   "metadata": {},
   "outputs": [],
   "source": [
    "vb_params_free = vb_params_paragami.flatten(vb_params_dict, free = True)"
   ]
  },
  {
   "cell_type": "code",
   "execution_count": null,
   "metadata": {},
   "outputs": [],
   "source": []
  },
  {
   "cell_type": "markdown",
   "metadata": {},
   "source": [
    "# Define objective"
   ]
  },
  {
   "cell_type": "code",
   "execution_count": 12,
   "metadata": {},
   "outputs": [
    {
     "name": "stdout",
     "output_type": "stream",
     "text": [
      "compiling objective ... \n",
      "done. Elasped: 91.4378\n"
     ]
    }
   ],
   "source": [
    "stru_objective = s_optim_lib.StructureObjective(g_obs, \n",
    "                                                 vb_params_paragami,\n",
    "                                                 prior_params_dict, \n",
    "                                                 gh_loc, gh_weights)"
   ]
  },
  {
   "cell_type": "markdown",
   "metadata": {},
   "source": [
    "# Derivative times"
   ]
  },
  {
   "cell_type": "code",
   "execution_count": 13,
   "metadata": {},
   "outputs": [
    {
     "name": "stdout",
     "output_type": "stream",
     "text": [
      "elapsed: 10.566sec\n"
     ]
    }
   ],
   "source": [
    "for i in range(1): \n",
    "    t0 = time.time() \n",
    "    _ = stru_objective.f(vb_params_free).block_until_ready()\n",
    "    print('elapsed: {:.3f}sec'.format(time.time() - t0))"
   ]
  },
  {
   "cell_type": "code",
   "execution_count": 14,
   "metadata": {},
   "outputs": [
    {
     "name": "stdout",
     "output_type": "stream",
     "text": [
      "elapsed: 12.758sec\n"
     ]
    }
   ],
   "source": [
    "for i in range(1): \n",
    "    t0 = time.time() \n",
    "    _ = stru_objective.grad(vb_params_free).block_until_ready()\n",
    "    print('elapsed: {:.3f}sec'.format(time.time() - t0))"
   ]
  },
  {
   "cell_type": "code",
   "execution_count": 15,
   "metadata": {},
   "outputs": [],
   "source": [
    "v = np.array(onp.random.randn(len(vb_params_free)))"
   ]
  },
  {
   "cell_type": "code",
   "execution_count": 16,
   "metadata": {},
   "outputs": [
    {
     "name": "stdout",
     "output_type": "stream",
     "text": [
      "elapsed: 29.497sec\n"
     ]
    }
   ],
   "source": [
    "for i in range(1): \n",
    "    t0 = time.time() \n",
    "    _ = stru_objective.hvp(vb_params_free, v).block_until_ready()\n",
    "    print('elapsed: {:.3f}sec'.format(time.time() - t0))"
   ]
  },
  {
   "cell_type": "code",
   "execution_count": null,
   "metadata": {},
   "outputs": [],
   "source": []
  },
  {
   "cell_type": "code",
   "execution_count": null,
   "metadata": {},
   "outputs": [],
   "source": []
  },
  {
   "cell_type": "code",
   "execution_count": null,
   "metadata": {},
   "outputs": [],
   "source": []
  },
  {
   "cell_type": "markdown",
   "metadata": {},
   "source": [
    "# Preconditioned objective"
   ]
  },
  {
   "cell_type": "code",
   "execution_count": 17,
   "metadata": {},
   "outputs": [
    {
     "name": "stdout",
     "output_type": "stream",
     "text": [
      "compiling preconditioned objective ... \n",
      "done. Elasped: 104.904\n"
     ]
    }
   ],
   "source": [
    "precond_objective = s_optim_lib.StructurePrecondObjective(g_obs, \n",
    "                                                           vb_params_paragami, \n",
    "                                                           prior_params_dict, \n",
    "                                                           gh_loc, gh_weights)"
   ]
  },
  {
   "cell_type": "code",
   "execution_count": 18,
   "metadata": {},
   "outputs": [
    {
     "name": "stdout",
     "output_type": "stream",
     "text": [
      "elapsed: 10.951sec\n"
     ]
    }
   ],
   "source": [
    "t0 = time.time() \n",
    "_ = np.array(precond_objective.f_precond(vb_params_free, vb_params_free))\n",
    "print('elapsed: {:.3f}sec'.format(time.time() - t0))"
   ]
  },
  {
   "cell_type": "code",
   "execution_count": 19,
   "metadata": {},
   "outputs": [
    {
     "name": "stdout",
     "output_type": "stream",
     "text": [
      "elapsed: 13.613sec\n"
     ]
    }
   ],
   "source": [
    "t0 = time.time() \n",
    "_ = np.array(precond_objective.grad_precond(vb_params_free, vb_params_free))\n",
    "print('elapsed: {:.3f}sec'.format(time.time() - t0))"
   ]
  },
  {
   "cell_type": "code",
   "execution_count": 20,
   "metadata": {},
   "outputs": [
    {
     "name": "stdout",
     "output_type": "stream",
     "text": [
      "elapsed: 31.005sec\n"
     ]
    }
   ],
   "source": [
    "t0 = time.time() \n",
    "_ = np.array(precond_objective.hvp_precond(vb_params_free, vb_params_free, v))\n",
    "print('elapsed: {:.3f}sec'.format(time.time() - t0))"
   ]
  },
  {
   "cell_type": "code",
   "execution_count": null,
   "metadata": {},
   "outputs": [],
   "source": []
  },
  {
   "cell_type": "code",
   "execution_count": 21,
   "metadata": {},
   "outputs": [
    {
     "name": "stdout",
     "output_type": "stream",
     "text": [
      "0.45597362518310547\n",
      "0.4495527744293213\n",
      "0.45159077644348145\n",
      "0.4499201774597168\n",
      "0.4490213394165039\n"
     ]
    }
   ],
   "source": [
    "for i in range(5): \n",
    "    t0 = time.time() \n",
    "    _ = precond_objective.unprecondition(vb_params_free, v).block_until_ready()\n",
    "    print(time.time() - t0)"
   ]
  },
  {
   "cell_type": "code",
   "execution_count": null,
   "metadata": {},
   "outputs": [],
   "source": []
  },
  {
   "cell_type": "code",
   "execution_count": 22,
   "metadata": {},
   "outputs": [
    {
     "name": "stdout",
     "output_type": "stream",
     "text": [
      "    def _kl_zz(self, vb_free_params, v): \n",
      "        \n",
      "        moments_tuple = \\\n",
      "            self._get_moments_from_vb_free_params(vb_free_params)\n",
      "        \n",
      "        moments_jvp = jax.jvp(self._get_moments_from_vb_free_params, \\\n",
      "                                      (vb_free_params, ), (v, ))[1]\n",
      "        \n",
      "        moments_vjp = jax.vjp(self._get_moments_from_vb_free_params, \n",
      "                             vb_free_params)[1]\n",
      "        \n",
      "        def inner_loop_over_l(g_obs_n, \n",
      "                               e_log_cluster_probs_n, \n",
      "                               e_log_cluster_probs_jvp_n):\n",
      "            \n",
      "            def scan_fun_inner_loop(val, x_n): \n",
      "                # x[0] is g_obs_n[l]\n",
      "                # x[1] is e_log_pop[l]\n",
      "                # x[2] is e_log_pop[l] jvp\n",
      "\n",
      "                fun = lambda clust_probs_n, pop_freq_l: \\\n",
      "                        self._ps_loss_zl(x_n[0], clust_probs_n, pop_freq_l)\n",
      "\n",
      "                jvp1 = jax.jvp(fun, \n",
      "                                (e_log_cluster_probs_n, x_n[1]), \n",
      "                                (e_log_cluster_probs_jvp_n, x_n[2]))[1]\n",
      "\n",
      "                vjp1 = jax.vjp(fun, *(e_log_cluster_probs_n, x_n[1]))[1](jvp1)\n",
      "                \n",
      "                # sum over cluster probs, stack pop_freq\n",
      "                return vjp1[0] + val, vjp1[1]\n",
      "            \n",
      "            vjp_cluster_probs_n, vjp_pop_freq = \\\n",
      "                jax.lax.scan(scan_fun_inner_loop,\n",
      "                             init = np.zeros(self.k_approx), \n",
      "                             xs = (g_obs_n, \n",
      "                                     moments_tuple[1], \n",
      "                                     moments_jvp[1]))\n",
      "            \n",
      "            return vjp_pop_freq, vjp_cluster_probs_n\n",
      "        \n",
      "        def scan_fun_outer_loop(val, x): \n",
      "            # x[0] is g_obs \n",
      "            # x[1] is e_log_cluster_probs \n",
      "            # x[2] is e_log_cluster_probs jvp\n",
      "            \n",
      "            vjp_pop_freq, vjp_cluster_probs_n = \\\n",
      "                inner_loop_over_l(x[0], x[1], x[2])\n",
      "            \n",
      "            # sum population frequencies, stack cluster probs\n",
      "            return vjp_pop_freq + val, vjp_cluster_probs_n\n",
      "        \n",
      "        vjp = jax.lax.scan(scan_fun_outer_loop,\n",
      "                           init = np.zeros(moments_tuple[1].shape), \n",
      "                           xs = (self.g_obs, \n",
      "                                 moments_tuple[0], \n",
      "                                 moments_jvp[0]))\n",
      "            \n",
      "        return moments_vjp((vjp[1], vjp[0]))[0]\n",
      "\n"
     ]
    }
   ],
   "source": [
    "import inspect\n",
    "lines = inspect.getsource(stru_objective._kl_zz)\n",
    "print(lines)"
   ]
  },
  {
   "cell_type": "code",
   "execution_count": null,
   "metadata": {},
   "outputs": [],
   "source": []
  }
 ],
 "metadata": {
  "kernelspec": {
   "display_name": "bnp_sensitivity_jax",
   "language": "python",
   "name": "bnp_sensitivity_jax"
  },
  "language_info": {
   "codemirror_mode": {
    "name": "ipython",
    "version": 3
   },
   "file_extension": ".py",
   "mimetype": "text/x-python",
   "name": "python",
   "nbconvert_exporter": "python",
   "pygments_lexer": "ipython3",
   "version": "3.8.0"
  }
 },
 "nbformat": 4,
 "nbformat_minor": 2
}
