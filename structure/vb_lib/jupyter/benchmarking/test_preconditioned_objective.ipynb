{
 "cells": [
  {
   "cell_type": "code",
   "execution_count": 1,
   "metadata": {},
   "outputs": [
    {
     "name": "stderr",
     "output_type": "stream",
     "text": [
      "/accounts/grad/runjing_liu/.conda/envs/bnp_sensitivity_jax/lib/python3.8/site-packages/jax/lib/xla_bridge.py:130: UserWarning: No GPU/TPU found, falling back to CPU.\n",
      "  warnings.warn('No GPU/TPU found, falling back to CPU.')\n"
     ]
    }
   ],
   "source": [
    "import jax\n",
    "\n",
    "import jax.numpy as np\n",
    "import jax.scipy as sp\n",
    "\n",
    "from numpy.polynomial.hermite import hermgauss\n",
    "import scipy as osp\n",
    "\n",
    "from vb_lib import structure_model_lib, data_utils\n",
    "import vb_lib.structure_optimization_lib as s_optim_lib\n",
    "import vb_lib.structure_preconditioned_optimization_lib as s_poptim_lib\n",
    "\n",
    "import paragami\n",
    "\n",
    "from copy import deepcopy\n",
    "\n",
    "import time\n",
    "\n",
    "import matplotlib.pyplot as plt\n",
    "%matplotlib inline  \n",
    "\n",
    "from bnpmodeling_runjingdev import cluster_quantities_lib, modeling_lib\n",
    "from bnpmodeling_runjingdev.optimization_lib import run_lbfgs\n"
   ]
  },
  {
   "cell_type": "code",
   "execution_count": 2,
   "metadata": {},
   "outputs": [],
   "source": [
    "import numpy as onp\n",
    "onp.random.seed(53453)"
   ]
  },
  {
   "cell_type": "markdown",
   "metadata": {},
   "source": [
    "# Load data"
   ]
  },
  {
   "cell_type": "code",
   "execution_count": 3,
   "metadata": {},
   "outputs": [],
   "source": [
    "data = np.load('../../simulated_data/simulated_structure_data_nobs20_nloci50_npop4.npz')\n",
    "g_obs = np.array(data['g_obs'], dtype = int)"
   ]
  },
  {
   "cell_type": "code",
   "execution_count": 4,
   "metadata": {},
   "outputs": [],
   "source": [
    "# data_dir = '../../../../../fastStructure/hgdp_data/huang2011_plink_files/'\n",
    "# filenamebase = 'phased_HGDP+India+Africa_2810SNPs-regions1to36'\n",
    "# filename = data_dir + filenamebase + '.npz'\n",
    "# data = np.load(filename)\n",
    "\n",
    "# g_obs = np.array(data['g_obs'], dtype = int)\n",
    "# g_obs_raw = np.array(data['g_obs_raw'])\n",
    "\n",
    "# # just checking ... \n",
    "# which_missing = (g_obs_raw == 3)\n",
    "# (g_obs.argmax(-1) == g_obs_raw)[~which_missing].all()\n",
    "# (g_obs[which_missing] == 0).all()"
   ]
  },
  {
   "cell_type": "code",
   "execution_count": 5,
   "metadata": {},
   "outputs": [],
   "source": [
    "n_obs = g_obs.shape[0]\n",
    "n_loci = g_obs.shape[1]"
   ]
  },
  {
   "cell_type": "code",
   "execution_count": 6,
   "metadata": {},
   "outputs": [
    {
     "name": "stdout",
     "output_type": "stream",
     "text": [
      "20\n",
      "50\n"
     ]
    }
   ],
   "source": [
    "print(n_obs)\n",
    "print(n_loci)"
   ]
  },
  {
   "cell_type": "markdown",
   "metadata": {},
   "source": [
    "# Get prior"
   ]
  },
  {
   "cell_type": "code",
   "execution_count": 7,
   "metadata": {},
   "outputs": [
    {
     "name": "stdout",
     "output_type": "stream",
     "text": [
      "OrderedDict:\n",
      "\t[dp_prior_alpha] = NumericArrayPattern (1,) (lb=0.0, ub=inf)\n",
      "\t[allele_prior_alpha] = NumericArrayPattern (1,) (lb=0.0, ub=inf)\n",
      "\t[allele_prior_beta] = NumericArrayPattern (1,) (lb=0.0, ub=inf)\n"
     ]
    }
   ],
   "source": [
    "_, prior_params_paragami = \\\n",
    "    structure_model_lib.get_default_prior_params()\n",
    "\n",
    "prior_params_dict = prior_params_paragami.random(key=jax.random.PRNGKey(41))\n",
    "\n",
    "print(prior_params_paragami)\n",
    "\n",
    "prior_params_free = prior_params_paragami.flatten(prior_params_dict, free = True)"
   ]
  },
  {
   "cell_type": "markdown",
   "metadata": {},
   "source": [
    "# Get VB params "
   ]
  },
  {
   "cell_type": "code",
   "execution_count": 8,
   "metadata": {},
   "outputs": [],
   "source": [
    "k_approx = 8"
   ]
  },
  {
   "cell_type": "code",
   "execution_count": 9,
   "metadata": {},
   "outputs": [],
   "source": [
    "gh_deg = 8\n",
    "gh_loc, gh_weights = hermgauss(8)"
   ]
  },
  {
   "cell_type": "code",
   "execution_count": 10,
   "metadata": {
    "scrolled": true
   },
   "outputs": [
    {
     "name": "stdout",
     "output_type": "stream",
     "text": [
      "OrderedDict:\n",
      "\t[pop_freq_beta_params] = NumericArrayPattern (50, 8, 2) (lb=0.0, ub=inf)\n",
      "\t[ind_admix_params] = OrderedDict:\n",
      "\t[stick_means] = NumericArrayPattern (20, 7) (lb=-inf, ub=inf)\n",
      "\t[stick_infos] = NumericArrayPattern (20, 7) (lb=0.0001, ub=inf)\n"
     ]
    }
   ],
   "source": [
    "use_logitnormal_sticks = True\n",
    "\n",
    "vb_params_dict, vb_params_paragami = \\\n",
    "    structure_model_lib.get_vb_params_paragami_object(n_obs, n_loci, k_approx,\n",
    "                                    use_logitnormal_sticks = use_logitnormal_sticks)\n",
    "    \n",
    "print(vb_params_paragami)"
   ]
  },
  {
   "cell_type": "code",
   "execution_count": 11,
   "metadata": {},
   "outputs": [],
   "source": [
    "vb_params_dict = vb_params_paragami.random(key=jax.random.PRNGKey(41))"
   ]
  },
  {
   "cell_type": "code",
   "execution_count": 12,
   "metadata": {},
   "outputs": [
    {
     "name": "stdout",
     "output_type": "stream",
     "text": [
      "2416.4788397129596\n"
     ]
    }
   ],
   "source": [
    "kl = structure_model_lib.get_kl(g_obs, \n",
    "                    vb_params_dict,\n",
    "                    prior_params_dict, \n",
    "                    gh_loc, gh_weights)\n",
    "\n",
    "print(kl)"
   ]
  },
  {
   "cell_type": "code",
   "execution_count": null,
   "metadata": {},
   "outputs": [],
   "source": []
  },
  {
   "cell_type": "markdown",
   "metadata": {},
   "source": [
    "# Define preconditioned objective"
   ]
  },
  {
   "cell_type": "code",
   "execution_count": 13,
   "metadata": {},
   "outputs": [
    {
     "name": "stdout",
     "output_type": "stream",
     "text": [
      "compiling preconditioned objective ... \n",
      "done. Elasped: 14.1929\n"
     ]
    }
   ],
   "source": [
    "# not preconditioned\n",
    "objective = s_poptim_lib.StructurePrecondObjective(g_obs, \n",
    "                            vb_params_paragami,\n",
    "                            prior_params_dict,\n",
    "                            gh_loc = gh_loc, gh_weights = gh_weights, \n",
    "                            use_preconditioning = False)"
   ]
  },
  {
   "cell_type": "code",
   "execution_count": 14,
   "metadata": {
    "scrolled": true
   },
   "outputs": [
    {
     "name": "stdout",
     "output_type": "stream",
     "text": [
      "compiling preconditioned objective ... \n",
      "done. Elasped: 18.4967\n"
     ]
    }
   ],
   "source": [
    "# preconditioned \n",
    "objective_precond = s_poptim_lib.StructurePrecondObjective(g_obs, \n",
    "                            vb_params_paragami,\n",
    "                            prior_params_dict,\n",
    "                            gh_loc = gh_loc, gh_weights = gh_weights)"
   ]
  },
  {
   "cell_type": "code",
   "execution_count": 15,
   "metadata": {},
   "outputs": [],
   "source": [
    "x = vb_params_paragami.flatten(vb_params_dict, free = True)\n",
    "precond_params = x\n",
    "\n",
    "x_c = objective_precond.precondition(x, x)"
   ]
  },
  {
   "cell_type": "code",
   "execution_count": 16,
   "metadata": {},
   "outputs": [
    {
     "data": {
      "text/plain": [
       "DeviceArray(1.36424205e-12, dtype=float64)"
      ]
     },
     "execution_count": 16,
     "metadata": {},
     "output_type": "execute_result"
    }
   ],
   "source": [
    "objective_precond.f_precond(x_c, precond_params) - kl"
   ]
  },
  {
   "cell_type": "code",
   "execution_count": 17,
   "metadata": {},
   "outputs": [
    {
     "data": {
      "text/plain": [
       "DeviceArray(0., dtype=float64)"
      ]
     },
     "execution_count": 17,
     "metadata": {},
     "output_type": "execute_result"
    }
   ],
   "source": [
    "objective.f_precond(x, None) - kl"
   ]
  },
  {
   "cell_type": "markdown",
   "metadata": {},
   "source": [
    "### Timing"
   ]
  },
  {
   "cell_type": "code",
   "execution_count": 18,
   "metadata": {},
   "outputs": [
    {
     "name": "stdout",
     "output_type": "stream",
     "text": [
      "0.00655364990234375\n",
      "0.006070375442504883\n",
      "0.006063222885131836\n",
      "0.006056785583496094\n",
      "0.006375789642333984\n"
     ]
    }
   ],
   "source": [
    "for i in range(5): \n",
    "    t0 = time.time() \n",
    "    _ = objective_precond.f_precond(x_c, precond_params).block_until_ready()\n",
    "    print(time.time() - t0)"
   ]
  },
  {
   "cell_type": "code",
   "execution_count": 19,
   "metadata": {},
   "outputs": [
    {
     "name": "stdout",
     "output_type": "stream",
     "text": [
      "0.0027022361755371094\n",
      "0.0040569305419921875\n",
      "0.0040433406829833984\n",
      "0.004189252853393555\n",
      "0.0027561187744140625\n"
     ]
    }
   ],
   "source": [
    "for i in range(5): \n",
    "    t0 = time.time() \n",
    "    _ = objective.f_precond(x, None).block_until_ready()\n",
    "    print(time.time() - t0)"
   ]
  },
  {
   "cell_type": "code",
   "execution_count": 20,
   "metadata": {},
   "outputs": [
    {
     "name": "stdout",
     "output_type": "stream",
     "text": [
      "0.015915393829345703\n",
      "0.01566314697265625\n",
      "0.015961408615112305\n",
      "0.016867637634277344\n",
      "0.01677107810974121\n"
     ]
    }
   ],
   "source": [
    "for i in range(5): \n",
    "    t0 = time.time() \n",
    "    _ = objective_precond.grad(x_c, precond_params).block_until_ready()\n",
    "    print(time.time() - t0)"
   ]
  },
  {
   "cell_type": "code",
   "execution_count": 21,
   "metadata": {},
   "outputs": [
    {
     "name": "stdout",
     "output_type": "stream",
     "text": [
      "9.329540014266968\n",
      "0.008954286575317383\n",
      "0.008554220199584961\n",
      "0.008484363555908203\n",
      "0.008470535278320312\n"
     ]
    }
   ],
   "source": [
    "for i in range(5): \n",
    "    t0 = time.time() \n",
    "    _ = objective.grad(x, None).block_until_ready()\n",
    "    print(time.time() - t0)"
   ]
  },
  {
   "cell_type": "code",
   "execution_count": null,
   "metadata": {},
   "outputs": [],
   "source": []
  },
  {
   "cell_type": "code",
   "execution_count": 24,
   "metadata": {},
   "outputs": [],
   "source": [
    "grad1_precond = objective_precond.grad(x_c, precond_params)\n",
    "grad1 = objective_precond.precondition(grad1_precond, precond_params)"
   ]
  },
  {
   "cell_type": "code",
   "execution_count": 25,
   "metadata": {},
   "outputs": [],
   "source": [
    "grad2 = objective.grad(x, None)"
   ]
  },
  {
   "cell_type": "code",
   "execution_count": 27,
   "metadata": {},
   "outputs": [
    {
     "data": {
      "text/plain": [
       "DeviceArray(1.42108547e-14, dtype=float64)"
      ]
     },
     "execution_count": 27,
     "metadata": {},
     "output_type": "execute_result"
    }
   ],
   "source": [
    "np.abs(grad1 - grad2).max()"
   ]
  },
  {
   "cell_type": "code",
   "execution_count": null,
   "metadata": {},
   "outputs": [],
   "source": []
  }
 ],
 "metadata": {
  "kernelspec": {
   "display_name": "bnp_sensitivity_jax",
   "language": "python",
   "name": "bnp_sensitivity_jax"
  },
  "language_info": {
   "codemirror_mode": {
    "name": "ipython",
    "version": 3
   },
   "file_extension": ".py",
   "mimetype": "text/x-python",
   "name": "python",
   "nbconvert_exporter": "python",
   "pygments_lexer": "ipython3",
   "version": "3.8.0"
  }
 },
 "nbformat": 4,
 "nbformat_minor": 4
}
