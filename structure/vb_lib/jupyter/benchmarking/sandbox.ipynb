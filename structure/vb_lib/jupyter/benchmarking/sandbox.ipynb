{
 "cells": [
  {
   "cell_type": "code",
   "execution_count": 1,
   "metadata": {
    "scrolled": true
   },
   "outputs": [
    {
     "name": "stderr",
     "output_type": "stream",
     "text": [
      "/accounts/grad/runjing_liu/.conda/envs/bnp_sensitivity_jax/lib/python3.8/site-packages/jax/lib/xla_bridge.py:130: UserWarning: No GPU/TPU found, falling back to CPU.\n",
      "  warnings.warn('No GPU/TPU found, falling back to CPU.')\n"
     ]
    }
   ],
   "source": [
    "import jax\n",
    "\n",
    "import jax.numpy as np\n",
    "import jax.scipy as sp\n",
    "\n",
    "from numpy.polynomial.hermite import hermgauss\n",
    "import scipy as osp\n",
    "\n",
    "from vb_lib import structure_model_lib, data_utils, cavi_lib, structure_optimization_lib\n",
    "from vb_lib.preconditioner_lib import get_mfvb_cov_matmul\n",
    "\n",
    "import paragami\n",
    "import vittles\n",
    "\n",
    "from copy import deepcopy\n",
    "\n",
    "import time\n",
    "\n",
    "import matplotlib.pyplot as plt\n",
    "%matplotlib inline  \n",
    "\n",
    "from bnpmodeling_runjingdev import cluster_quantities_lib, modeling_lib\n",
    "from bnpmodeling_runjingdev.sensitivity_lib import get_jac_hvp_fun"
   ]
  },
  {
   "cell_type": "code",
   "execution_count": 2,
   "metadata": {},
   "outputs": [],
   "source": [
    "import numpy as onp\n",
    "onp.random.seed(53453)"
   ]
  },
  {
   "cell_type": "markdown",
   "metadata": {},
   "source": [
    "# Draw data"
   ]
  },
  {
   "cell_type": "code",
   "execution_count": 3,
   "metadata": {},
   "outputs": [],
   "source": [
    "n_obs = 200\n",
    "n_loci = 500\n",
    "n_pop = 4"
   ]
  },
  {
   "cell_type": "code",
   "execution_count": 4,
   "metadata": {},
   "outputs": [
    {
     "name": "stdout",
     "output_type": "stream",
     "text": [
      "Generating datapoints  0  to  200\n"
     ]
    }
   ],
   "source": [
    "g_obs, true_pop_allele_freq, true_ind_admix_propn = \\\n",
    "    data_utils.draw_data(n_obs, n_loci, n_pop)"
   ]
  },
  {
   "cell_type": "code",
   "execution_count": 5,
   "metadata": {},
   "outputs": [],
   "source": [
    "g_obs = np.array(g_obs)"
   ]
  },
  {
   "cell_type": "code",
   "execution_count": 6,
   "metadata": {},
   "outputs": [
    {
     "data": {
      "text/plain": [
       "DeviceArray(0.1143092, dtype=float64)"
      ]
     },
     "execution_count": 6,
     "metadata": {},
     "output_type": "execute_result"
    }
   ],
   "source": [
    "(g_obs.mean(1)**2).mean()"
   ]
  },
  {
   "cell_type": "code",
   "execution_count": 7,
   "metadata": {
    "scrolled": true
   },
   "outputs": [
    {
     "data": {
      "text/plain": [
       "(200, 500, 3)"
      ]
     },
     "execution_count": 7,
     "metadata": {},
     "output_type": "execute_result"
    }
   ],
   "source": [
    "g_obs.shape"
   ]
  },
  {
   "cell_type": "markdown",
   "metadata": {},
   "source": [
    "# Get prior"
   ]
  },
  {
   "cell_type": "code",
   "execution_count": 8,
   "metadata": {},
   "outputs": [
    {
     "name": "stdout",
     "output_type": "stream",
     "text": [
      "{'dp_prior_alpha': DeviceArray([3.], dtype=float64), 'allele_prior_alpha': DeviceArray([1.], dtype=float64), 'allele_prior_beta': DeviceArray([1.], dtype=float64)}\n"
     ]
    }
   ],
   "source": [
    "prior_params_dict, prior_params_paragami = \\\n",
    "    structure_model_lib.get_default_prior_params()\n",
    "\n",
    "print(prior_params_dict)\n",
    "\n",
    "prior_params_free = prior_params_paragami.flatten(prior_params_dict, free = True)"
   ]
  },
  {
   "cell_type": "code",
   "execution_count": null,
   "metadata": {},
   "outputs": [],
   "source": []
  },
  {
   "cell_type": "markdown",
   "metadata": {},
   "source": [
    "# Get VB params "
   ]
  },
  {
   "cell_type": "code",
   "execution_count": 9,
   "metadata": {},
   "outputs": [],
   "source": [
    "k_approx = 15"
   ]
  },
  {
   "cell_type": "code",
   "execution_count": 10,
   "metadata": {},
   "outputs": [],
   "source": [
    "gh_deg = 8\n",
    "gh_loc, gh_weights = hermgauss(8)"
   ]
  },
  {
   "cell_type": "code",
   "execution_count": 11,
   "metadata": {
    "scrolled": true
   },
   "outputs": [
    {
     "name": "stdout",
     "output_type": "stream",
     "text": [
      "OrderedDict:\n",
      "\t[pop_freq_beta_params] = NumericArrayPattern (500, 15, 2) (lb=0.0, ub=inf)\n",
      "\t[ind_mix_stick_beta_params] = NumericArrayPattern (200, 14, 2) (lb=0.0, ub=inf)\n"
     ]
    }
   ],
   "source": [
    "use_logitnormal_sticks = False\n",
    "\n",
    "vb_params_dict, vb_params_paragami = \\\n",
    "    structure_model_lib.get_vb_params_paragami_object(n_obs, n_loci, k_approx,\n",
    "                                    use_logitnormal_sticks = use_logitnormal_sticks)\n",
    "    \n",
    "print(vb_params_paragami)"
   ]
  },
  {
   "cell_type": "code",
   "execution_count": null,
   "metadata": {},
   "outputs": [],
   "source": []
  },
  {
   "cell_type": "markdown",
   "metadata": {},
   "source": [
    "## Initialize "
   ]
  },
  {
   "cell_type": "code",
   "execution_count": 12,
   "metadata": {},
   "outputs": [],
   "source": [
    "vb_params_dict = \\\n",
    "        structure_model_lib.set_init_vb_params(g_obs, k_approx, vb_params_dict,\n",
    "                                                seed = 143241)"
   ]
  },
  {
   "cell_type": "code",
   "execution_count": 13,
   "metadata": {},
   "outputs": [
    {
     "data": {
      "text/plain": [
       "DeviceArray(482925.84029194, dtype=float64)"
      ]
     },
     "execution_count": 13,
     "metadata": {},
     "output_type": "execute_result"
    }
   ],
   "source": [
    "structure_model_lib.get_kl(g_obs, vb_params_dict, prior_params_dict,\n",
    "                            gh_loc, gh_weights)"
   ]
  },
  {
   "cell_type": "code",
   "execution_count": null,
   "metadata": {},
   "outputs": [],
   "source": []
  },
  {
   "cell_type": "code",
   "execution_count": null,
   "metadata": {},
   "outputs": [],
   "source": []
  },
  {
   "cell_type": "markdown",
   "metadata": {},
   "source": [
    "# Define objective"
   ]
  },
  {
   "cell_type": "code",
   "execution_count": 14,
   "metadata": {},
   "outputs": [
    {
     "name": "stdout",
     "output_type": "stream",
     "text": [
      "Compiling objective ...\n",
      "Iter 0: f = 482925.84029194\n",
      "Compiling grad ...\n",
      "Compiling hvp ...\n",
      "Compile time: 46.8943secs\n"
     ]
    }
   ],
   "source": [
    "optim_objective, vb_params_free = \\\n",
    "    structure_optimization_lib.define_structure_objective(g_obs,\n",
    "                                                        vb_params_dict,\n",
    "                                                        vb_params_paragami,\n",
    "                                                        prior_params_dict, \n",
    "                                                        compile_hvp = True)"
   ]
  },
  {
   "cell_type": "code",
   "execution_count": 15,
   "metadata": {},
   "outputs": [],
   "source": [
    "optim_objective.set_print_every(1000)"
   ]
  },
  {
   "cell_type": "code",
   "execution_count": 16,
   "metadata": {},
   "outputs": [
    {
     "name": "stdout",
     "output_type": "stream",
     "text": [
      "Iter 0: f = 482925.84029194\n",
      "0.2911083698272705\n",
      "0.2938210964202881\n",
      "0.28874850273132324\n",
      "0.29052257537841797\n",
      "0.28848767280578613\n",
      "0.28859543800354004\n",
      "0.28805994987487793\n",
      "0.29024744033813477\n",
      "0.28844332695007324\n",
      "0.29029107093811035\n"
     ]
    }
   ],
   "source": [
    "for i in range(10): \n",
    "    t0 = time.time()\n",
    "    kl = optim_objective.f_np(vb_params_free)\n",
    "    print(time.time() - t0)"
   ]
  },
  {
   "cell_type": "code",
   "execution_count": 17,
   "metadata": {},
   "outputs": [
    {
     "name": "stdout",
     "output_type": "stream",
     "text": [
      "0.41802096366882324\n",
      "0.4140028953552246\n",
      "0.4097018241882324\n",
      "0.41280031204223633\n",
      "0.4125094413757324\n",
      "0.4142568111419678\n",
      "0.41301798820495605\n",
      "0.41332364082336426\n",
      "0.41864633560180664\n",
      "0.4147317409515381\n"
     ]
    }
   ],
   "source": [
    "for i in range(10): \n",
    "    t0 = time.time()\n",
    "    kl_grad = optim_objective.grad_np(vb_params_free)\n",
    "    print(time.time() - t0)"
   ]
  },
  {
   "cell_type": "code",
   "execution_count": 18,
   "metadata": {},
   "outputs": [
    {
     "name": "stdout",
     "output_type": "stream",
     "text": [
      "0.6436164379119873\n",
      "0.6356630325317383\n",
      "0.6405189037322998\n",
      "0.6439821720123291\n",
      "0.6356256008148193\n",
      "0.6437315940856934\n",
      "0.6406965255737305\n",
      "0.6421606540679932\n",
      "0.6400279998779297\n",
      "0.6372144222259521\n"
     ]
    }
   ],
   "source": [
    "for i in range(10): \n",
    "    t0 = time.time()\n",
    "    kl_hvp = optim_objective.hvp_np(vb_params_free, vb_params_free)\n",
    "    print(time.time() - t0)"
   ]
  },
  {
   "cell_type": "code",
   "execution_count": null,
   "metadata": {},
   "outputs": [],
   "source": []
  },
  {
   "cell_type": "code",
   "execution_count": 20,
   "metadata": {},
   "outputs": [
    {
     "name": "stdout",
     "output_type": "stream",
     "text": [
      "def get_e_loglik(g_obs,\n",
      "                    e_log_pop_freq, e_log_1m_pop_freq, \\\n",
      "                    e_log_sticks, e_log_1m_sticks,\n",
      "                    detach_ez): \n",
      "\n",
      "    n_obs = g_obs.shape[0]\n",
      "    n_loci = g_obs.shape[1]\n",
      "    \n",
      "    e_log_cluster_probs = \\\n",
      "        modeling_lib.get_e_log_cluster_probabilities_from_e_log_stick(\n",
      "                            e_log_sticks, e_log_1m_sticks)\n",
      "    def body_fun(val, i): \n",
      "        n = i % n_obs \n",
      "        l = i // n_obs\n",
      "        return get_e_loglik_nl(g_obs[n, l], e_log_pop_freq[l], e_log_1m_pop_freq[l],\n",
      "                        e_log_cluster_probs[n], detach_ez) + val\n",
      "\n",
      "    scan_fun = lambda val, x : (body_fun(val, x), None)\n",
      "    \n",
      "    init_val = np.array([0., 0.])\n",
      "    out = jax.lax.scan(scan_fun, init_val,\n",
      "                        xs = np.arange(n_obs * n_loci))[0]\n",
      "\n",
      "    e_loglik = out[0]\n",
      "    z_entropy = out[1]\n",
      "    \n",
      "    return e_loglik, z_entropy \n",
      "\n"
     ]
    }
   ],
   "source": [
    "import inspect\n",
    "lines = inspect.getsource(structure_model_lib.get_e_loglik)\n",
    "print(lines)"
   ]
  },
  {
   "cell_type": "code",
   "execution_count": null,
   "metadata": {},
   "outputs": [],
   "source": []
  },
  {
   "cell_type": "code",
   "execution_count": null,
   "metadata": {},
   "outputs": [],
   "source": []
  }
 ],
 "metadata": {
  "kernelspec": {
   "display_name": "bnp_sensitivity_jax",
   "language": "python",
   "name": "bnp_sensitivity_jax"
  },
  "language_info": {
   "codemirror_mode": {
    "name": "ipython",
    "version": 3
   },
   "file_extension": ".py",
   "mimetype": "text/x-python",
   "name": "python",
   "nbconvert_exporter": "python",
   "pygments_lexer": "ipython3",
   "version": "3.8.0"
  }
 },
 "nbformat": 4,
 "nbformat_minor": 4
}
