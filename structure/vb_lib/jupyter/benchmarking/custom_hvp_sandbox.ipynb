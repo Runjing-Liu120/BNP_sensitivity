{
 "cells": [
  {
   "cell_type": "code",
   "execution_count": 1,
   "metadata": {
    "scrolled": true
   },
   "outputs": [
    {
     "name": "stderr",
     "output_type": "stream",
     "text": [
      "/accounts/grad/runjing_liu/.conda/envs/bnp_sensitivity_jax/lib/python3.8/site-packages/jax/lib/xla_bridge.py:130: UserWarning: No GPU/TPU found, falling back to CPU.\n",
      "  warnings.warn('No GPU/TPU found, falling back to CPU.')\n"
     ]
    }
   ],
   "source": [
    "import jax\n",
    "\n",
    "import jax.numpy as np\n",
    "import jax.scipy as sp\n",
    "\n",
    "from numpy.polynomial.hermite import hermgauss\n",
    "import scipy as osp\n",
    "\n",
    "from vb_lib import structure_model_lib, data_utils, cavi_lib\n",
    "import vb_lib.structure_optimization_lib as s_optim_lib\n",
    "from vb_lib.preconditioner_lib import get_mfvb_cov_matmul\n",
    "\n",
    "import paragami\n",
    "import vittles\n",
    "\n",
    "from copy import deepcopy\n",
    "\n",
    "import time\n",
    "\n",
    "import matplotlib.pyplot as plt\n",
    "%matplotlib inline  \n",
    "\n",
    "from bnpmodeling_runjingdev import cluster_quantities_lib, modeling_lib\n",
    "from bnpmodeling_runjingdev.sensitivity_lib import get_jac_hvp_fun"
   ]
  },
  {
   "cell_type": "code",
   "execution_count": 2,
   "metadata": {},
   "outputs": [],
   "source": [
    "import numpy as onp\n",
    "onp.random.seed(53453)"
   ]
  },
  {
   "cell_type": "markdown",
   "metadata": {
    "collapsed": true
   },
   "source": [
    "# Load data"
   ]
  },
  {
   "cell_type": "code",
   "execution_count": 3,
   "metadata": {},
   "outputs": [],
   "source": [
    "# data_file = '../../../../../fastStructure/hgdp_data/huang2011_plink_files/' + \\\n",
    "#                 'phased_HGDP+India+Africa_2810SNPs-regions1to36.npz'\n",
    "data_file = '../../simulated_data/simulated_structure_data_nobs20_nloci50_npop4.npz'\n",
    "\n",
    "data = np.load(data_file)\n",
    "g_obs = np.array(data['g_obs'], dtype = int)"
   ]
  },
  {
   "cell_type": "code",
   "execution_count": 4,
   "metadata": {},
   "outputs": [
    {
     "name": "stdout",
     "output_type": "stream",
     "text": [
      "20\n",
      "50\n"
     ]
    }
   ],
   "source": [
    "n_obs = g_obs.shape[0]\n",
    "n_loci = g_obs.shape[1]\n",
    "\n",
    "print(n_obs)\n",
    "print(n_loci)"
   ]
  },
  {
   "cell_type": "code",
   "execution_count": null,
   "metadata": {},
   "outputs": [],
   "source": []
  },
  {
   "cell_type": "markdown",
   "metadata": {},
   "source": [
    "# Get prior"
   ]
  },
  {
   "cell_type": "code",
   "execution_count": 5,
   "metadata": {},
   "outputs": [
    {
     "name": "stdout",
     "output_type": "stream",
     "text": [
      "{'dp_prior_alpha': DeviceArray([3.], dtype=float64), 'allele_prior_alpha': DeviceArray([1.], dtype=float64), 'allele_prior_beta': DeviceArray([1.], dtype=float64)}\n"
     ]
    }
   ],
   "source": [
    "prior_params_dict, prior_params_paragami = \\\n",
    "    structure_model_lib.get_default_prior_params()\n",
    "\n",
    "print(prior_params_dict)\n",
    "\n",
    "prior_params_free = prior_params_paragami.flatten(prior_params_dict, free = True)"
   ]
  },
  {
   "cell_type": "code",
   "execution_count": null,
   "metadata": {},
   "outputs": [],
   "source": []
  },
  {
   "cell_type": "markdown",
   "metadata": {},
   "source": [
    "# Get VB params "
   ]
  },
  {
   "cell_type": "code",
   "execution_count": 6,
   "metadata": {},
   "outputs": [],
   "source": [
    "k_approx = 8"
   ]
  },
  {
   "cell_type": "code",
   "execution_count": 7,
   "metadata": {},
   "outputs": [],
   "source": [
    "gh_deg = 8\n",
    "gh_loc, gh_weights = hermgauss(8)"
   ]
  },
  {
   "cell_type": "code",
   "execution_count": 8,
   "metadata": {
    "scrolled": true
   },
   "outputs": [
    {
     "name": "stdout",
     "output_type": "stream",
     "text": [
      "OrderedDict:\n",
      "\t[pop_freq_beta_params] = NumericArrayPattern (50, 8, 2) (lb=0.0, ub=inf)\n",
      "\t[ind_admix_params] = OrderedDict:\n",
      "\t[stick_means] = NumericArrayPattern (20, 7) (lb=-inf, ub=inf)\n",
      "\t[stick_infos] = NumericArrayPattern (20, 7) (lb=0.0001, ub=inf)\n"
     ]
    }
   ],
   "source": [
    "use_logitnormal_sticks = True\n",
    "\n",
    "vb_params_dict, vb_params_paragami = \\\n",
    "    structure_model_lib.get_vb_params_paragami_object(n_obs, n_loci, k_approx,\n",
    "                                    use_logitnormal_sticks = use_logitnormal_sticks)\n",
    "    \n",
    "print(vb_params_paragami)"
   ]
  },
  {
   "cell_type": "code",
   "execution_count": null,
   "metadata": {},
   "outputs": [],
   "source": []
  },
  {
   "cell_type": "markdown",
   "metadata": {},
   "source": [
    "## Initialize "
   ]
  },
  {
   "cell_type": "code",
   "execution_count": 9,
   "metadata": {},
   "outputs": [],
   "source": [
    "vb_params_dict = \\\n",
    "        s_optim_lib.set_nmf_init_vb_params(g_obs, k_approx, vb_params_dict,\n",
    "                                                seed = 143241)"
   ]
  },
  {
   "cell_type": "code",
   "execution_count": 10,
   "metadata": {},
   "outputs": [
    {
     "data": {
      "text/plain": [
       "DeviceArray(5396.53199239, dtype=float64)"
      ]
     },
     "execution_count": 10,
     "metadata": {},
     "output_type": "execute_result"
    }
   ],
   "source": [
    "structure_model_lib.get_kl(g_obs, vb_params_dict, prior_params_dict,\n",
    "                            gh_loc, gh_weights)"
   ]
  },
  {
   "cell_type": "code",
   "execution_count": 11,
   "metadata": {},
   "outputs": [],
   "source": [
    "vb_params_free = vb_params_paragami.flatten(vb_params_dict, free = True)"
   ]
  },
  {
   "cell_type": "code",
   "execution_count": null,
   "metadata": {},
   "outputs": [],
   "source": []
  },
  {
   "cell_type": "markdown",
   "metadata": {},
   "source": [
    "# Define objective"
   ]
  },
  {
   "cell_type": "code",
   "execution_count": 12,
   "metadata": {},
   "outputs": [
    {
     "name": "stdout",
     "output_type": "stream",
     "text": [
      "def get_e_loglik(g_obs, e_log_pop_freq, e_log_1m_pop_freq, \\\n",
      "                    e_log_sticks, e_log_1m_sticks,\n",
      "                    detach_ez, detach_vb_params):\n",
      "\n",
      "\n",
      "    e_log_cluster_probs = \\\n",
      "        modeling_lib.get_e_log_cluster_probabilities_from_e_log_stick(\n",
      "                            e_log_sticks, e_log_1m_sticks)\n",
      "    \n",
      "    body_fun = lambda val, x : get_e_loglik_l(x[0], x[1], x[2],\n",
      "                                             e_log_cluster_probs,\n",
      "                                             detach_ez, \n",
      "                                             detach_vb_params) + val\n",
      "    \n",
      "    scan_fun = lambda val, x : (body_fun(val, x), None)\n",
      "    \n",
      "    return jax.lax.scan(scan_fun,\n",
      "                        init = 0.,\n",
      "                        xs = (g_obs.transpose((1, 0, 2)),\n",
      "                              e_log_pop_freq, \n",
      "                              e_log_1m_pop_freq))[0]\n",
      "\n"
     ]
    }
   ],
   "source": [
    "import inspect\n",
    "lines = inspect.getsource(structure_model_lib.get_e_loglik)\n",
    "print(lines)"
   ]
  },
  {
   "cell_type": "code",
   "execution_count": 13,
   "metadata": {},
   "outputs": [],
   "source": [
    "_kl_fun_free = paragami.FlattenFunctionInput(\n",
    "                                original_fun=structure_model_lib.get_kl,\n",
    "                                patterns = vb_params_paragami,\n",
    "                                free = True,\n",
    "                                argnums = 1)\n",
    "\n",
    "kl_fun_free = lambda x : \\\n",
    "                _kl_fun_free(g_obs, x, prior_params_dict,\n",
    "                                gh_loc, gh_weights, \n",
    "                                detach_ez = False, \n",
    "                                detach_vb_params = False)\n",
    "\n",
    "\n",
    "\n",
    "get_kl_grad = jax.grad(kl_fun_free)\n",
    "get_kl_hessian = jax.hessian(kl_fun_free)"
   ]
  },
  {
   "cell_type": "code",
   "execution_count": 14,
   "metadata": {},
   "outputs": [
    {
     "data": {
      "text/plain": [
       "DeviceArray(5396.53199239, dtype=float64)"
      ]
     },
     "execution_count": 14,
     "metadata": {},
     "output_type": "execute_result"
    }
   ],
   "source": [
    "kl_fun_free(vb_params_free)"
   ]
  },
  {
   "cell_type": "code",
   "execution_count": 15,
   "metadata": {},
   "outputs": [],
   "source": [
    "kl_grad = get_kl_grad(vb_params_free)"
   ]
  },
  {
   "cell_type": "code",
   "execution_count": 16,
   "metadata": {},
   "outputs": [],
   "source": [
    "kl_hess = get_kl_hessian(vb_params_free)"
   ]
  },
  {
   "cell_type": "code",
   "execution_count": null,
   "metadata": {},
   "outputs": [],
   "source": []
  },
  {
   "cell_type": "markdown",
   "metadata": {},
   "source": [
    "# Custom hvp"
   ]
  },
  {
   "cell_type": "code",
   "execution_count": 17,
   "metadata": {},
   "outputs": [],
   "source": [
    "kl_fun_free_customized = lambda x, detach_ez, detach_vb_params: \\\n",
    "                _kl_fun_free(g_obs, x, prior_params_dict,\n",
    "                                gh_loc, gh_weights, \n",
    "                                detach_ez = detach_ez, \n",
    "                                detach_vb_params = detach_vb_params)"
   ]
  },
  {
   "cell_type": "code",
   "execution_count": 18,
   "metadata": {},
   "outputs": [],
   "source": [
    "# get_dkl_dtheta2_v = get_jac_hvp_fun(lambda x : kl_fun_free_customized(x, True, False))"
   ]
  },
  {
   "cell_type": "code",
   "execution_count": 19,
   "metadata": {},
   "outputs": [
    {
     "name": "stdout",
     "output_type": "stream",
     "text": [
      "detaching ez\n"
     ]
    }
   ],
   "source": [
    "term1 = jax.hessian(lambda x : kl_fun_free_customized(x, True, False))(vb_params_free)"
   ]
  },
  {
   "cell_type": "code",
   "execution_count": 20,
   "metadata": {},
   "outputs": [],
   "source": [
    "from vb_lib.structure_model_lib import *"
   ]
  },
  {
   "cell_type": "code",
   "execution_count": 21,
   "metadata": {},
   "outputs": [],
   "source": [
    "def ps_loss_z(vb_params_dict): \n",
    "    \n",
    "    e_log_sticks, e_log_1m_sticks, \\\n",
    "        e_log_pop_freq, e_log_1m_pop_freq = \\\n",
    "            get_moments_from_vb_params_dict(vb_params_dict,\n",
    "                                    gh_loc = gh_loc,\n",
    "                                    gh_weights = gh_weights)\n",
    "    \n",
    "    e_log_cluster_probs = \\\n",
    "        modeling_lib.get_e_log_cluster_probabilities_from_e_log_stick(\n",
    "                            e_log_sticks, e_log_1m_sticks)\n",
    "    \n",
    "    body_fun = lambda x : np.sqrt(get_optimal_ezl(x[0], x[1], x[2],\n",
    "                                             e_log_cluster_probs,\n",
    "                                             detach_ez = False)[1]).flatten()\n",
    "        \n",
    "    return jax.lax.map(body_fun,\n",
    "                        xs = (g_obs.transpose((1, 0, 2)),\n",
    "                              e_log_pop_freq, \n",
    "                              e_log_1m_pop_freq)).flatten()"
   ]
  },
  {
   "cell_type": "code",
   "execution_count": 22,
   "metadata": {},
   "outputs": [],
   "source": [
    "ps_loss_z_free = paragami.FlattenFunctionInput(\n",
    "                                original_fun=ps_loss_z,\n",
    "                                patterns = vb_params_paragami,\n",
    "                                free = True,\n",
    "                                argnums = 0)"
   ]
  },
  {
   "cell_type": "code",
   "execution_count": 24,
   "metadata": {},
   "outputs": [],
   "source": [
    "jax.jvp?"
   ]
  },
  {
   "cell_type": "code",
   "execution_count": 28,
   "metadata": {},
   "outputs": [],
   "source": [
    "grad_tmp = jax.jvp(ps_loss_z_free, (vb_params_free, ), (vb_params_free, ))[1]"
   ]
  },
  {
   "cell_type": "code",
   "execution_count": 43,
   "metadata": {},
   "outputs": [
    {
     "data": {
      "text/plain": [
       "DeviceArray([-0.26249259, -0.26249259, -0.28121894, ...,  0.00209781,\n",
       "              0.43190552,  0.43190552], dtype=float64)"
      ]
     },
     "execution_count": 43,
     "metadata": {},
     "output_type": "execute_result"
    }
   ],
   "source": [
    "grad_tmp"
   ]
  },
  {
   "cell_type": "code",
   "execution_count": 31,
   "metadata": {},
   "outputs": [],
   "source": [
    "y, vjp_fun = jax.vjp(ps_loss_z_free, vb_params_free)"
   ]
  },
  {
   "cell_type": "code",
   "execution_count": 35,
   "metadata": {
    "scrolled": false
   },
   "outputs": [
    {
     "data": {
      "text/plain": [
       "DeviceArray([ 0.15906895, -0.37978205, -0.06907311, ...,  0.3872382 ,\n",
       "              0.44535961,  0.47694177], dtype=float64)"
      ]
     },
     "execution_count": 35,
     "metadata": {},
     "output_type": "execute_result"
    }
   ],
   "source": []
  },
  {
   "cell_type": "code",
   "execution_count": 40,
   "metadata": {},
   "outputs": [
    {
     "data": {
      "text/plain": [
       "DeviceArray([ 2.25740299, -0.09683445, -5.82278243, ...,  0.69953368,\n",
       "             -0.01185289, -0.50171633], dtype=float64)"
      ]
     },
     "execution_count": 40,
     "metadata": {},
     "output_type": "execute_result"
    }
   ],
   "source": [
    "np.dot(term1, vb_params_free) - 4 * vjp_fun(grad_tmp)[0]"
   ]
  },
  {
   "cell_type": "code",
   "execution_count": 41,
   "metadata": {},
   "outputs": [
    {
     "data": {
      "text/plain": [
       "DeviceArray([ 2.25740299, -0.09683445, -5.82278243, ...,  0.69953368,\n",
       "             -0.01185289, -0.50171633], dtype=float64)"
      ]
     },
     "execution_count": 41,
     "metadata": {},
     "output_type": "execute_result"
    }
   ],
   "source": [
    "np.dot(kl_hess, vb_params_free)"
   ]
  },
  {
   "cell_type": "code",
   "execution_count": null,
   "metadata": {},
   "outputs": [],
   "source": []
  },
  {
   "cell_type": "code",
   "execution_count": null,
   "metadata": {},
   "outputs": [],
   "source": []
  },
  {
   "cell_type": "code",
   "execution_count": 26,
   "metadata": {},
   "outputs": [],
   "source": [
    "def ps_loss(x1, x2): \n",
    "    kl1 = kl_fun_free_customized(x1, True, False)\n",
    "    kl2 = kl_fun_free_customized(x2, False, True)\n",
    "    \n",
    "    return kl1 * kl2 / jax.lax.stop_gradient(kl1)"
   ]
  },
  {
   "cell_type": "code",
   "execution_count": 27,
   "metadata": {},
   "outputs": [],
   "source": [
    "get_dkl_dtheta = jax.grad(ps_loss, argnums = 0)"
   ]
  },
  {
   "cell_type": "code",
   "execution_count": 39,
   "metadata": {},
   "outputs": [
    {
     "name": "stdout",
     "output_type": "stream",
     "text": [
      "detaching ez\n",
      "detaching vb params\n"
     ]
    },
    {
     "data": {
      "text/plain": [
       "DeviceArray([-8.88178420e-16,  8.88178420e-16, -5.32907052e-15, ...,\n",
       "              0.00000000e+00,  4.44089210e-16,  0.00000000e+00],            dtype=float64)"
      ]
     },
     "execution_count": 39,
     "metadata": {},
     "output_type": "execute_result"
    }
   ],
   "source": [
    "get_dkl_dtheta(vb_params_free, vb_params_free) - kl_grad"
   ]
  },
  {
   "cell_type": "code",
   "execution_count": null,
   "metadata": {},
   "outputs": [],
   "source": []
  },
  {
   "cell_type": "code",
   "execution_count": 28,
   "metadata": {},
   "outputs": [
    {
     "name": "stdout",
     "output_type": "stream",
     "text": [
      "detaching ez\n",
      "detaching vb params\n"
     ]
    }
   ],
   "source": [
    "term3 = jax.jacobian(lambda x : get_dkl_dtheta(vb_params_free, x))(vb_params_free)\n",
    "\n",
    "# term2 = jax.hessian(lambda x : jax.grad(ps_loss, argnums = 1)(vb_params_free, x))(vb_params_free)"
   ]
  },
  {
   "cell_type": "code",
   "execution_count": 46,
   "metadata": {},
   "outputs": [
    {
     "data": {
      "text/plain": [
       "DeviceArray(5.48943093e-17, dtype=float64)"
      ]
     },
     "execution_count": 46,
     "metadata": {},
     "output_type": "execute_result"
    }
   ],
   "source": [
    "np.abs(term3).max()"
   ]
  },
  {
   "cell_type": "code",
   "execution_count": 40,
   "metadata": {},
   "outputs": [
    {
     "data": {
      "text/plain": [
       "DeviceArray([[ 4.84130351, -1.25762774,  0.74459675, ...,  1.00809741,\n",
       "               0.7334582 ,  0.33664258],\n",
       "             [-1.25762774,  0.96394136, -0.74131977, ..., -1.00366076,\n",
       "              -0.73023024, -0.33516101],\n",
       "             [ 0.74459675, -0.74131977,  9.84005946, ..., -0.22693199,\n",
       "              -0.16510818, -0.07578134],\n",
       "             ...,\n",
       "             [ 1.00809741, -1.00366076, -0.22693199, ...,  1.73172179,\n",
       "              -0.22353727, -0.10259912],\n",
       "             [ 0.7334582 , -0.73023024, -0.16510818, ..., -0.22353727,\n",
       "               1.62606697, -0.07464771],\n",
       "             [ 0.33664258, -0.33516101, -0.07578134, ..., -0.10259912,\n",
       "              -0.07464771,  1.60220803]], dtype=float64)"
      ]
     },
     "execution_count": 40,
     "metadata": {},
     "output_type": "execute_result"
    }
   ],
   "source": [
    "term1 - term2 + 2 * term3"
   ]
  },
  {
   "cell_type": "code",
   "execution_count": 41,
   "metadata": {},
   "outputs": [
    {
     "data": {
      "text/plain": [
       "DeviceArray([[ 5.96604554e+00, -2.74168502e+00,  1.86555298e+00, ...,\n",
       "               3.67664923e-06,  3.96854417e-06,  4.31185842e-06],\n",
       "             [-2.74168502e+00,  2.57629049e+00, -1.36591512e+00, ...,\n",
       "              -2.66603883e-06, -2.87769983e-06, -3.12664638e-06],\n",
       "             [ 1.86555298e+00, -1.36591512e+00,  2.18200337e+00, ...,\n",
       "               1.06604788e-06,  1.15068309e-06,  1.25022738e-06],\n",
       "             ...,\n",
       "             [ 3.67664923e-06, -2.66603883e-06,  1.06604788e-06, ...,\n",
       "               1.98575217e+00, -4.72202325e-02, -4.25869908e-02],\n",
       "             [ 3.96854417e-06, -2.87769983e-06,  1.15068309e-06, ...,\n",
       "              -4.72202325e-02,  1.73085000e+00, -5.16537938e-02],\n",
       "             [ 4.31185842e-06, -3.12664638e-06,  1.25022738e-06, ...,\n",
       "              -4.25869908e-02, -5.16537938e-02,  1.57707094e+00]],            dtype=float64)"
      ]
     },
     "execution_count": 41,
     "metadata": {},
     "output_type": "execute_result"
    }
   ],
   "source": [
    "kl_hess"
   ]
  },
  {
   "cell_type": "code",
   "execution_count": null,
   "metadata": {},
   "outputs": [],
   "source": []
  },
  {
   "cell_type": "code",
   "execution_count": null,
   "metadata": {},
   "outputs": [],
   "source": []
  },
  {
   "cell_type": "code",
   "execution_count": null,
   "metadata": {},
   "outputs": [],
   "source": [
    "foo3 = jax.hessian(ps_loss, argnums = 1)(vb_params_free, vb_params_free)"
   ]
  },
  {
   "cell_type": "code",
   "execution_count": 141,
   "metadata": {},
   "outputs": [
    {
     "data": {
      "text/plain": [
       "DeviceArray([-5.22529225, -0.07056143, -4.81493041, ..., -0.12960552,\n",
       "             -0.60288711, -1.12083729], dtype=float64)"
      ]
     },
     "execution_count": 141,
     "metadata": {},
     "output_type": "execute_result"
    }
   ],
   "source": [
    "hvp_true"
   ]
  },
  {
   "cell_type": "code",
   "execution_count": 151,
   "metadata": {},
   "outputs": [
    {
     "data": {
      "text/plain": [
       "DeviceArray([[ 7.98715958e+00, -5.28266157e-01,  4.62184693e-03, ...,\n",
       "              -1.05419961e-04, -7.86721146e-05, -5.90573576e-05],\n",
       "             [-5.28180217e-01,  1.87539284e-01, -7.62565287e-04, ...,\n",
       "               1.73933935e-05,  1.29802273e-05,  9.74395984e-06],\n",
       "             [ 4.49670019e-03, -8.30200420e-04,  8.16509627e+00, ...,\n",
       "              -1.08294410e-04, -8.08172401e-05, -6.06676542e-05],\n",
       "             ...,\n",
       "             [ 1.11415401e-04, -2.05699977e-05,  1.17638653e-04, ...,\n",
       "               6.13819331e-01, -2.00242062e-06, -1.50317138e-06],\n",
       "             [ 1.13075309e-04, -2.08764572e-05,  1.19391278e-04, ...,\n",
       "              -2.72320222e-06,  5.90889408e-01, -1.52556619e-06],\n",
       "             [ 9.91589920e-05, -1.83071660e-05,  1.04697647e-04, ...,\n",
       "              -2.38805437e-06, -1.78214151e-06,  5.55193807e-01]],            dtype=float64)"
      ]
     },
     "execution_count": 151,
     "metadata": {},
     "output_type": "execute_result"
    }
   ],
   "source": [
    "foo + 2 * foo2 + foo3"
   ]
  },
  {
   "cell_type": "code",
   "execution_count": 143,
   "metadata": {},
   "outputs": [
    {
     "data": {
      "text/plain": [
       "DeviceArray([[ 2.18867232e-03, -4.04082239e-04,  2.31092346e-03, ...,\n",
       "              -5.27099803e-05, -3.93360573e-05, -2.95286788e-05],\n",
       "             [-3.61112249e-04,  6.66701199e-05, -3.81282643e-04, ...,\n",
       "               8.69669677e-06,  6.49011365e-06,  4.87197992e-06],\n",
       "             [ 2.24835009e-03, -4.15100210e-04,  2.37393462e-03, ...,\n",
       "              -5.41472051e-05, -4.04086200e-05, -3.03338271e-05],\n",
       "             ...,\n",
       "             [ 5.57077004e-05, -1.02849989e-05,  5.88193265e-05, ...,\n",
       "              -1.34161325e-06, -1.00121031e-06, -7.51585688e-07],\n",
       "             [ 5.65376546e-05, -1.04382286e-05,  5.96956389e-05, ...,\n",
       "              -1.36160111e-06, -1.01612672e-06, -7.62783093e-07],\n",
       "             [ 4.95794960e-05, -9.15358300e-06,  5.23488233e-05, ...,\n",
       "              -1.19402719e-06, -8.91070754e-07, -6.68906441e-07]],            dtype=float64)"
      ]
     },
     "execution_count": 143,
     "metadata": {},
     "output_type": "execute_result"
    }
   ],
   "source": [
    "foo2 "
   ]
  },
  {
   "cell_type": "code",
   "execution_count": 145,
   "metadata": {},
   "outputs": [],
   "source": [
    "my_hess = (foo + foo2)"
   ]
  },
  {
   "cell_type": "code",
   "execution_count": null,
   "metadata": {},
   "outputs": [],
   "source": []
  },
  {
   "cell_type": "code",
   "execution_count": 148,
   "metadata": {},
   "outputs": [
    {
     "data": {
      "text/plain": [
       "DeviceArray(0.04655508, dtype=float64)"
      ]
     },
     "execution_count": 148,
     "metadata": {},
     "output_type": "execute_result"
    }
   ],
   "source": [
    "np.abs(my_hess - my_hess.transpose()).max()"
   ]
  },
  {
   "cell_type": "code",
   "execution_count": null,
   "metadata": {},
   "outputs": [],
   "source": []
  },
  {
   "cell_type": "code",
   "execution_count": 133,
   "metadata": {},
   "outputs": [
    {
     "data": {
      "text/plain": [
       "DeviceArray([-6.42836712,  1.1868332 , -6.78743194, ...,  0.15481491,\n",
       "              0.11553425,  0.08672892], dtype=float64)"
      ]
     },
     "execution_count": 133,
     "metadata": {},
     "output_type": "execute_result"
    }
   ],
   "source": [
    "jax.grad(ps_loss, argnums = 1)(vb_params_free, vb_params_free)"
   ]
  },
  {
   "cell_type": "code",
   "execution_count": 134,
   "metadata": {},
   "outputs": [
    {
     "data": {
      "text/plain": [
       "DeviceArray([-6.79433951,  1.12100802, -6.97959842, ..., -0.17293453,\n",
       "             -0.17551098, -0.15391063], dtype=float64)"
      ]
     },
     "execution_count": 134,
     "metadata": {},
     "output_type": "execute_result"
    }
   ],
   "source": [
    "grad_true"
   ]
  },
  {
   "cell_type": "code",
   "execution_count": null,
   "metadata": {},
   "outputs": [],
   "source": []
  },
  {
   "cell_type": "code",
   "execution_count": 66,
   "metadata": {},
   "outputs": [
    {
     "data": {
      "text/plain": [
       "3460"
      ]
     },
     "execution_count": 66,
     "metadata": {},
     "output_type": "execute_result"
    }
   ],
   "source": [
    "len(foo2)"
   ]
  },
  {
   "cell_type": "code",
   "execution_count": 67,
   "metadata": {},
   "outputs": [
    {
     "data": {
      "text/plain": [
       "3460"
      ]
     },
     "execution_count": 67,
     "metadata": {},
     "output_type": "execute_result"
    }
   ],
   "source": [
    "len(hvp_true)"
   ]
  },
  {
   "cell_type": "code",
   "execution_count": null,
   "metadata": {},
   "outputs": [],
   "source": []
  },
  {
   "cell_type": "code",
   "execution_count": null,
   "metadata": {},
   "outputs": [],
   "source": []
  },
  {
   "cell_type": "code",
   "execution_count": 24,
   "metadata": {},
   "outputs": [],
   "source": [
    "?jax.jvp"
   ]
  },
  {
   "cell_type": "code",
   "execution_count": null,
   "metadata": {},
   "outputs": [],
   "source": []
  },
  {
   "cell_type": "code",
   "execution_count": 23,
   "metadata": {},
   "outputs": [],
   "source": [
    "get_dkl_dtheta_through_ez = jax.grad(ps_loss, argnums = 1)"
   ]
  },
  {
   "cell_type": "code",
   "execution_count": null,
   "metadata": {},
   "outputs": [],
   "source": [
    "get_dkl_dtheta_through_ez(vb_params_free, \n",
    "                          vb_params_free)"
   ]
  },
  {
   "cell_type": "code",
   "execution_count": null,
   "metadata": {},
   "outputs": [],
   "source": [
    "get_dkl_dtheta_through_ez_jvp = lambda x1, x2 : np.dot(get_dkl_dtheta_through_ez, x1, x2)"
   ]
  },
  {
   "cell_type": "code",
   "execution_count": null,
   "metadata": {},
   "outputs": [],
   "source": []
  },
  {
   "cell_type": "code",
   "execution_count": null,
   "metadata": {},
   "outputs": [],
   "source": []
  }
 ],
 "metadata": {
  "kernelspec": {
   "display_name": "bnp_sensitivity_jax",
   "language": "python",
   "name": "bnp_sensitivity_jax"
  },
  "language_info": {
   "codemirror_mode": {
    "name": "ipython",
    "version": 3
   },
   "file_extension": ".py",
   "mimetype": "text/x-python",
   "name": "python",
   "nbconvert_exporter": "python",
   "pygments_lexer": "ipython3",
   "version": "3.8.0"
  }
 },
 "nbformat": 4,
 "nbformat_minor": 2
}
