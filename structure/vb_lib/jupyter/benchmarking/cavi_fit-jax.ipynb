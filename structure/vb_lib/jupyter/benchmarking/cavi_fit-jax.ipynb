{
 "cells": [
  {
   "cell_type": "markdown",
   "metadata": {},
   "source": [
    "Here, we examine functional sensitivity of the structure model on a small simulated dataset"
   ]
  },
  {
   "cell_type": "code",
   "execution_count": 1,
   "metadata": {},
   "outputs": [
    {
     "name": "stderr",
     "output_type": "stream",
     "text": [
      "/home/rliu/anaconda3/envs/bnp_sensitivity_jax/lib/python3.8/site-packages/jax/lib/xla_bridge.py:130: UserWarning: No GPU/TPU found, falling back to CPU.\n",
      "  warnings.warn('No GPU/TPU found, falling back to CPU.')\n"
     ]
    }
   ],
   "source": [
    "import jax\n",
    "\n",
    "import jax.numpy as np\n",
    "import jax.scipy as sp\n",
    "from numpy.polynomial.hermite import hermgauss\n",
    "\n",
    "from vb_lib import structure_model_lib, data_utils, cavi_lib\n",
    "from vb_lib.preconditioner_lib import get_mfvb_cov\n",
    "from bnpmodeling_runjingdev.sensitivity_lib import HyperparameterSensitivityLinearApproximation\n",
    "\n",
    "import paragami\n",
    "\n",
    "from copy import deepcopy\n",
    "\n",
    "import time\n",
    "\n",
    "import matplotlib.pyplot as plt\n",
    "%matplotlib inline  \n",
    "\n",
    "from bnpmodeling_runjingdev import cluster_quantities_lib, modeling_lib\n"
   ]
  },
  {
   "cell_type": "code",
   "execution_count": 2,
   "metadata": {},
   "outputs": [],
   "source": [
    "import numpy as onp \n",
    "onp.random.seed(53453)"
   ]
  },
  {
   "cell_type": "code",
   "execution_count": null,
   "metadata": {},
   "outputs": [],
   "source": []
  },
  {
   "cell_type": "code",
   "execution_count": null,
   "metadata": {},
   "outputs": [],
   "source": []
  },
  {
   "cell_type": "markdown",
   "metadata": {
    "collapsed": true
   },
   "source": [
    "# Draw data"
   ]
  },
  {
   "cell_type": "code",
   "execution_count": 3,
   "metadata": {},
   "outputs": [],
   "source": [
    "n_obs = 50\n",
    "n_loci = 100\n",
    "n_pop = 4"
   ]
  },
  {
   "cell_type": "code",
   "execution_count": 4,
   "metadata": {},
   "outputs": [],
   "source": [
    "g_obs, true_pop_allele_freq, true_ind_admix_propn = \\\n",
    "    data_utils.draw_data(n_obs, n_loci, n_pop)"
   ]
  },
  {
   "cell_type": "code",
   "execution_count": 5,
   "metadata": {
    "scrolled": true
   },
   "outputs": [
    {
     "data": {
      "text/plain": [
       "Text(0.5, 0, 'individual')"
      ]
     },
     "execution_count": 5,
     "metadata": {},
     "output_type": "execute_result"
    },
    {
     "data": {
      "image/png": "[encoded data removed]",
      "text/plain": [
       "<Figure size 1152x144 with 1 Axes>"
      ]
     },
     "metadata": {
      "needs_background": "light"
     },
     "output_type": "display_data"
    }
   ],
   "source": [
    "plt.matshow(true_ind_admix_propn.T)\n",
    "plt.ylabel('population')\n",
    "plt.xlabel('individual')"
   ]
  },
  {
   "cell_type": "code",
   "execution_count": 6,
   "metadata": {
    "scrolled": true
   },
   "outputs": [
    {
     "data": {
      "text/plain": [
       "(50, 100, 3)"
      ]
     },
     "execution_count": 6,
     "metadata": {},
     "output_type": "execute_result"
    }
   ],
   "source": [
    "g_obs.shape"
   ]
  },
  {
   "cell_type": "markdown",
   "metadata": {},
   "source": [
    "# Get prior"
   ]
  },
  {
   "cell_type": "code",
   "execution_count": 7,
   "metadata": {},
   "outputs": [
    {
     "name": "stdout",
     "output_type": "stream",
     "text": [
      "OrderedDict:\n",
      "\t[dp_prior_alpha] = NumericArrayPattern (1,) (lb=0.0, ub=inf)\n",
      "\t[allele_prior_alpha] = NumericArrayPattern (1,) (lb=0.0, ub=inf)\n",
      "\t[allele_prior_beta] = NumericArrayPattern (1,) (lb=0.0, ub=inf)\n"
     ]
    }
   ],
   "source": [
    "prior_params_dict, prior_params_paragami = \\\n",
    "    structure_model_lib.get_default_prior_params()\n",
    "\n",
    "print(prior_params_paragami)\n",
    "\n",
    "prior_params_free = prior_params_paragami.flatten(prior_params_dict, free = True)"
   ]
  },
  {
   "cell_type": "code",
   "execution_count": 8,
   "metadata": {},
   "outputs": [
    {
     "name": "stdout",
     "output_type": "stream",
     "text": [
      "{'dp_prior_alpha': DeviceArray([3.], dtype=float64), 'allele_prior_alpha': DeviceArray([1.], dtype=float64), 'allele_prior_beta': DeviceArray([1.], dtype=float64)}\n"
     ]
    }
   ],
   "source": [
    "print(prior_params_dict)"
   ]
  },
  {
   "cell_type": "code",
   "execution_count": null,
   "metadata": {},
   "outputs": [],
   "source": []
  },
  {
   "cell_type": "markdown",
   "metadata": {},
   "source": [
    "# Get VB params "
   ]
  },
  {
   "cell_type": "code",
   "execution_count": 9,
   "metadata": {},
   "outputs": [],
   "source": [
    "k_approx = 12"
   ]
  },
  {
   "cell_type": "code",
   "execution_count": 10,
   "metadata": {},
   "outputs": [],
   "source": [
    "gh_deg = 8\n",
    "gh_loc, gh_weights = hermgauss(8)"
   ]
  },
  {
   "cell_type": "code",
   "execution_count": 11,
   "metadata": {
    "scrolled": true
   },
   "outputs": [
    {
     "name": "stdout",
     "output_type": "stream",
     "text": [
      "OrderedDict:\n",
      "\t[pop_freq_beta_params] = NumericArrayPattern (100, 12, 2) (lb=0.0, ub=inf)\n",
      "\t[ind_mix_stick_beta_params] = NumericArrayPattern (50, 11, 2) (lb=0.0, ub=inf)\n"
     ]
    }
   ],
   "source": [
    "use_logitnormal_sticks = False\n",
    "\n",
    "vb_params_dict, vb_params_paragami = \\\n",
    "    structure_model_lib.get_vb_params_paragami_object(n_obs, n_loci, k_approx,\n",
    "                                    use_logitnormal_sticks = use_logitnormal_sticks)\n",
    "    \n",
    "print(vb_params_paragami)"
   ]
  },
  {
   "cell_type": "markdown",
   "metadata": {},
   "source": [
    "## Initialize "
   ]
  },
  {
   "cell_type": "code",
   "execution_count": 12,
   "metadata": {},
   "outputs": [],
   "source": [
    "vb_params_dict = \\\n",
    "        structure_model_lib.set_init_vb_params(g_obs, k_approx, vb_params_dict,\n",
    "                                                seed = 412)"
   ]
  },
  {
   "cell_type": "code",
   "execution_count": 13,
   "metadata": {},
   "outputs": [],
   "source": [
    "def get_vb_expectations(vb_params_dict, use_logitnormal_sticks): \n",
    "    if use_logitnormal_sticks: \n",
    "        e_ind_admix = cluster_quantities_lib.get_e_cluster_probabilities(\n",
    "                            vb_params_dict['ind_mix_stick_propn_mean'], \n",
    "                            vb_params_dict['ind_mix_stick_propn_info'],\n",
    "                            gh_loc, gh_weights)\n",
    "\n",
    "    else: \n",
    "        ind_mix_stick_beta_params = vb_params_dict['ind_mix_stick_beta_params']\n",
    "        e_stick_lengths = \\\n",
    "                modeling_lib.get_e_beta(ind_mix_stick_beta_params)\n",
    "        e_ind_admix = cluster_quantities_lib.get_mixture_weights_from_stick_break_propns(e_stick_lengths)\n",
    "\n",
    "    e_pop_freq = modeling_lib.get_e_beta(vb_params_dict['pop_freq_beta_params'])\n",
    "    \n",
    "    return e_ind_admix, e_pop_freq"
   ]
  },
  {
   "cell_type": "code",
   "execution_count": 14,
   "metadata": {},
   "outputs": [
    {
     "data": {
      "text/plain": [
       "Text(0.5, 0, 'individual')"
      ]
     },
     "execution_count": 14,
     "metadata": {},
     "output_type": "execute_result"
    },
    {
     "data": {
      "image/png": "[encoded data removed]",
      "text/plain": [
       "<Figure size 1152x276.48 with 1 Axes>"
      ]
     },
     "metadata": {
      "needs_background": "light"
     },
     "output_type": "display_data"
    }
   ],
   "source": [
    "plt.matshow(get_vb_expectations(vb_params_dict, use_logitnormal_sticks)[0].transpose())\n",
    "plt.ylabel('population')\n",
    "plt.xlabel('individual')"
   ]
  },
  {
   "cell_type": "code",
   "execution_count": null,
   "metadata": {},
   "outputs": [],
   "source": []
  },
  {
   "cell_type": "markdown",
   "metadata": {},
   "source": [
    "# Run CAVI"
   ]
  },
  {
   "cell_type": "code",
   "execution_count": 15,
   "metadata": {
    "scrolled": true
   },
   "outputs": [
    {
     "name": "stdout",
     "output_type": "stream",
     "text": [
      "CAVI compile time: 4.63sec\n",
      "\n",
      " running CAVI ...\n",
      "iteration [1]; kl:9474.043893; elapsed: 0.0196secs\n",
      "iteration [2]; kl:8821.931649; elapsed: 0.0988secs\n",
      "iteration [3]; kl:8670.202314; elapsed: 0.0258secs\n",
      "iteration [4]; kl:8603.955065; elapsed: 0.0155secs\n",
      "iteration [5]; kl:8559.609886; elapsed: 0.015secs\n",
      "iteration [6]; kl:8524.922383; elapsed: 0.0155secs\n",
      "iteration [7]; kl:8495.722988; elapsed: 0.0153secs\n",
      "iteration [8]; kl:8470.063419; elapsed: 0.0192secs\n",
      "iteration [9]; kl:8446.957519; elapsed: 0.02secs\n",
      "iteration [10]; kl:8425.899774; elapsed: 0.0163secs\n",
      "iteration [11]; kl:8406.613981; elapsed: 0.0151secs\n",
      "iteration [12]; kl:8388.910676; elapsed: 0.0154secs\n",
      "iteration [13]; kl:8372.614378; elapsed: 0.015secs\n",
      "iteration [14]; kl:8357.542789; elapsed: 0.0153secs\n",
      "iteration [15]; kl:8343.525096; elapsed: 0.0156secs\n",
      "iteration [16]; kl:8330.431833; elapsed: 0.0153secs\n",
      "iteration [17]; kl:8318.186573; elapsed: 0.0153secs\n",
      "iteration [18]; kl:8306.748463; elapsed: 0.015secs\n",
      "iteration [19]; kl:8296.057555; elapsed: 0.0154secs\n",
      "iteration [20]; kl:8285.966926; elapsed: 0.0154secs\n",
      "iteration [21]; kl:8276.245046; elapsed: 0.0216secs\n",
      "iteration [22]; kl:8266.659963; elapsed: 0.0165secs\n",
      "iteration [23]; kl:8257.032448; elapsed: 0.0152secs\n",
      "iteration [24]; kl:8247.239588; elapsed: 0.0152secs\n",
      "iteration [25]; kl:8237.214918; elapsed: 0.0153secs\n",
      "iteration [26]; kl:8226.95101; elapsed: 0.0152secs\n",
      "iteration [27]; kl:8216.48377; elapsed: 0.0153secs\n",
      "iteration [28]; kl:8205.843583; elapsed: 0.0154secs\n",
      "iteration [29]; kl:8195.019403; elapsed: 0.0151secs\n",
      "iteration [30]; kl:8183.997154; elapsed: 0.0153secs\n",
      "iteration [31]; kl:8172.809062; elapsed: 0.0153secs\n",
      "iteration [32]; kl:8161.532564; elapsed: 0.0153secs\n",
      "iteration [33]; kl:8150.267909; elapsed: 0.0157secs\n",
      "iteration [34]; kl:8139.116885; elapsed: 0.0189secs\n",
      "iteration [35]; kl:8128.163967; elapsed: 0.0187secs\n",
      "iteration [36]; kl:8117.463248; elapsed: 0.0166secs\n",
      "iteration [37]; kl:8107.046383; elapsed: 0.0162secs\n",
      "iteration [38]; kl:8096.951645; elapsed: 0.0159secs\n",
      "iteration [39]; kl:8087.228296; elapsed: 0.0155secs\n",
      "iteration [40]; kl:8077.881506; elapsed: 0.0155secs\n",
      "iteration [41]; kl:8068.81464; elapsed: 0.016secs\n",
      "iteration [42]; kl:8059.871384; elapsed: 0.0159secs\n",
      "iteration [43]; kl:8050.927879; elapsed: 0.0156secs\n",
      "iteration [44]; kl:8041.916719; elapsed: 0.0152secs\n",
      "iteration [45]; kl:8032.810573; elapsed: 0.0151secs\n",
      "iteration [46]; kl:8023.608503; elapsed: 0.0175secs\n",
      "iteration [47]; kl:8014.326879; elapsed: 0.0238secs\n",
      "iteration [48]; kl:8004.986361; elapsed: 0.0193secs\n",
      "iteration [49]; kl:7995.587978; elapsed: 0.0151secs\n",
      "iteration [50]; kl:7986.100894; elapsed: 0.0155secs\n",
      "iteration [51]; kl:7976.498463; elapsed: 0.0155secs\n",
      "iteration [52]; kl:7966.80687; elapsed: 0.0156secs\n",
      "iteration [53]; kl:7957.114469; elapsed: 0.0152secs\n",
      "iteration [54]; kl:7947.545935; elapsed: 0.0152secs\n",
      "iteration [55]; kl:7938.214521; elapsed: 0.0152secs\n",
      "iteration [56]; kl:7929.181003; elapsed: 0.0152secs\n",
      "iteration [57]; kl:7920.468453; elapsed: 0.0151secs\n",
      "iteration [58]; kl:7912.106471; elapsed: 0.0154secs\n",
      "iteration [59]; kl:7904.13228; elapsed: 0.017secs\n",
      "iteration [60]; kl:7896.569485; elapsed: 0.0178secs\n",
      "iteration [61]; kl:7889.450656; elapsed: 0.0184secs\n",
      "iteration [62]; kl:7882.861688; elapsed: 0.0158secs\n",
      "iteration [63]; kl:7876.912297; elapsed: 0.0151secs\n",
      "iteration [64]; kl:7871.657119; elapsed: 0.0155secs\n",
      "iteration [65]; kl:7867.05446; elapsed: 0.0153secs\n",
      "iteration [66]; kl:7862.976631; elapsed: 0.0149secs\n",
      "iteration [67]; kl:7859.232342; elapsed: 0.015secs\n",
      "iteration [68]; kl:7855.611691; elapsed: 0.0152secs\n",
      "iteration [69]; kl:7851.960211; elapsed: 0.0152secs\n",
      "iteration [70]; kl:7848.21143; elapsed: 0.0151secs\n",
      "iteration [71]; kl:7844.380172; elapsed: 0.0157secs\n",
      "iteration [72]; kl:7840.552636; elapsed: 0.0153secs\n",
      "iteration [73]; kl:7836.868721; elapsed: 0.0204secs\n",
      "iteration [74]; kl:7833.486607; elapsed: 0.0173secs\n",
      "iteration [75]; kl:7830.533587; elapsed: 0.0155secs\n",
      "iteration [76]; kl:7828.058063; elapsed: 0.0153secs\n",
      "iteration [77]; kl:7826.009048; elapsed: 0.0157secs\n",
      "iteration [78]; kl:7824.2733; elapsed: 0.0153secs\n",
      "iteration [79]; kl:7822.743816; elapsed: 0.0155secs\n",
      "iteration [80]; kl:7821.350918; elapsed: 0.0155secs\n",
      "iteration [81]; kl:7820.05263; elapsed: 0.0152secs\n",
      "iteration [82]; kl:7818.82072; elapsed: 0.0159secs\n",
      "iteration [83]; kl:7817.634386; elapsed: 0.0208secs\n",
      "iteration [84]; kl:7816.478118; elapsed: 0.0301secs\n",
      "iteration [85]; kl:7815.34063; elapsed: 0.0302secs\n",
      "iteration [86]; kl:7814.213918; elapsed: 0.0302secs\n",
      "iteration [87]; kl:7813.092375; elapsed: 0.0337secs\n",
      "iteration [88]; kl:7811.972053; elapsed: 0.0282secs\n",
      "iteration [89]; kl:7810.850163; elapsed: 0.0322secs\n",
      "iteration [90]; kl:7809.724797; elapsed: 0.029secs\n",
      "iteration [91]; kl:7808.594828; elapsed: 0.0272secs\n",
      "iteration [92]; kl:7807.459935; elapsed: 0.0299secs\n",
      "iteration [93]; kl:7806.320673; elapsed: 0.0214secs\n",
      "iteration [94]; kl:7805.178553; elapsed: 0.0171secs\n",
      "iteration [95]; kl:7804.036117; elapsed: 0.015secs\n",
      "iteration [96]; kl:7802.896962; elapsed: 0.0151secs\n",
      "iteration [97]; kl:7801.765726; elapsed: 0.0149secs\n",
      "iteration [98]; kl:7800.647968; elapsed: 0.0152secs\n",
      "iteration [99]; kl:7799.549925; elapsed: 0.0152secs\n",
      "iteration [100]; kl:7798.4781; elapsed: 0.0156secs\n",
      "iteration [101]; kl:7797.438629; elapsed: 0.0152secs\n",
      "iteration [102]; kl:7796.436397; elapsed: 0.0155secs\n",
      "iteration [103]; kl:7795.473945; elapsed: 0.0154secs\n",
      "iteration [104]; kl:7794.550328; elapsed: 0.0192secs\n",
      "iteration [105]; kl:7793.660306; elapsed: 0.0189secs\n",
      "iteration [106]; kl:7792.794345; elapsed: 0.0158secs\n",
      "iteration [107]; kl:7791.939679; elapsed: 0.0155secs\n",
      "iteration [108]; kl:7791.082079; elapsed: 0.0154secs\n",
      "iteration [109]; kl:7790.207439; elapsed: 0.0154secs\n",
      "iteration [110]; kl:7789.302392; elapsed: 0.0153secs\n",
      "iteration [111]; kl:7788.353913; elapsed: 0.0152secs\n",
      "iteration [112]; kl:7787.348436; elapsed: 0.0154secs\n",
      "iteration [113]; kl:7786.270974; elapsed: 0.0156secs\n",
      "iteration [114]; kl:7785.104516; elapsed: 0.0153secs\n",
      "iteration [115]; kl:7783.829736; elapsed: 0.0152secs\n",
      "iteration [116]; kl:7782.425128; elapsed: 0.0156secs\n",
      "iteration [117]; kl:7780.867769; elapsed: 0.0179secs\n",
      "iteration [118]; kl:7779.135176; elapsed: 0.0183secs\n",
      "iteration [119]; kl:7777.208867; elapsed: 0.0167secs\n",
      "iteration [120]; kl:7775.0803; elapsed: 0.0172secs\n",
      "iteration [121]; kl:7772.759364; elapsed: 0.0156secs\n",
      "iteration [122]; kl:7770.284325; elapsed: 0.0154secs\n",
      "iteration [123]; kl:7767.729572; elapsed: 0.0151secs\n",
      "iteration [124]; kl:7765.204626; elapsed: 0.0154secs\n",
      "iteration [125]; kl:7762.838111; elapsed: 0.0155secs\n",
      "iteration [126]; kl:7760.748171; elapsed: 0.0156secs\n",
      "iteration [127]; kl:7759.012055; elapsed: 0.0152secs\n",
      "iteration [128]; kl:7757.648364; elapsed: 0.0152secs\n",
      "iteration [129]; kl:7756.615798; elapsed: 0.0157secs\n",
      "iteration [130]; kl:7755.828992; elapsed: 0.0194secs\n",
      "iteration [131]; kl:7755.192341; elapsed: 0.0184secs\n",
      "iteration [132]; kl:7754.634488; elapsed: 0.0157secs\n",
      "iteration [133]; kl:7754.116973; elapsed: 0.0153secs\n",
      "iteration [134]; kl:7753.622152; elapsed: 0.0153secs\n",
      "iteration [135]; kl:7753.14154; elapsed: 0.0152secs\n",
      "iteration [136]; kl:7752.670489; elapsed: 0.0152secs\n",
      "iteration [137]; kl:7752.206272; elapsed: 0.0154secs\n",
      "iteration [138]; kl:7751.747286; elapsed: 0.0156secs\n",
      "iteration [139]; kl:7751.292627; elapsed: 0.0155secs\n",
      "iteration [140]; kl:7750.841824; elapsed: 0.0151secs\n",
      "iteration [141]; kl:7750.394675; elapsed: 0.015secs\n",
      "iteration [142]; kl:7749.95113; elapsed: 0.0151secs\n",
      "iteration [143]; kl:7749.511224; elapsed: 0.0194secs\n",
      "iteration [144]; kl:7749.075025; elapsed: 0.0175secs\n",
      "iteration [145]; kl:7748.642597; elapsed: 0.0156secs\n",
      "iteration [146]; kl:7748.213978; elapsed: 0.0153secs\n",
      "iteration [147]; kl:7747.789155; elapsed: 0.0178secs\n",
      "iteration [148]; kl:7747.368047; elapsed: 0.023secs\n",
      "iteration [149]; kl:7746.950488; elapsed: 0.0308secs\n",
      "iteration [150]; kl:7746.536211; elapsed: 0.0295secs\n",
      "iteration [151]; kl:7746.124837; elapsed: 0.0239secs\n",
      "iteration [152]; kl:7745.715865; elapsed: 0.0208secs\n",
      "iteration [153]; kl:7745.308664; elapsed: 0.0212secs\n",
      "iteration [154]; kl:7744.902475; elapsed: 0.0196secs\n",
      "iteration [155]; kl:7744.496415; elapsed: 0.0166secs\n",
      "iteration [156]; kl:7744.089501; elapsed: 0.015secs\n",
      "iteration [157]; kl:7743.680672; elapsed: 0.0149secs\n",
      "iteration [158]; kl:7743.268839; elapsed: 0.0178secs\n",
      "iteration [159]; kl:7742.85293; elapsed: 0.0205secs\n",
      "iteration [160]; kl:7742.431955; elapsed: 0.0262secs\n",
      "iteration [161]; kl:7742.005073; elapsed: 0.0237secs\n"
     ]
    },
    {
     "name": "stdout",
     "output_type": "stream",
     "text": [
      "iteration [162]; kl:7741.571657; elapsed: 0.0264secs\n",
      "iteration [163]; kl:7741.131351; elapsed: 0.0422secs\n",
      "iteration [164]; kl:7740.684122; elapsed: 0.0353secs\n",
      "iteration [165]; kl:7740.230276; elapsed: 0.0368secs\n",
      "iteration [166]; kl:7739.770462; elapsed: 0.0238secs\n",
      "iteration [167]; kl:7739.305624; elapsed: 0.0182secs\n",
      "iteration [168]; kl:7738.836912; elapsed: 0.0153secs\n",
      "iteration [169]; kl:7738.365536; elapsed: 0.015secs\n",
      "iteration [170]; kl:7737.892581; elapsed: 0.015secs\n",
      "iteration [171]; kl:7737.418797; elapsed: 0.0166secs\n",
      "iteration [172]; kl:7736.944414; elapsed: 0.0221secs\n",
      "iteration [173]; kl:7736.469037; elapsed: 0.0176secs\n",
      "iteration [174]; kl:7735.991647; elapsed: 0.0171secs\n",
      "iteration [175]; kl:7735.510751; elapsed: 0.0176secs\n",
      "iteration [176]; kl:7735.024612; elapsed: 0.0167secs\n",
      "iteration [177]; kl:7734.531509; elapsed: 0.0158secs\n",
      "iteration [178]; kl:7734.029964; elapsed: 0.0153secs\n",
      "iteration [179]; kl:7733.518885; elapsed: 0.0152secs\n",
      "iteration [180]; kl:7732.997636; elapsed: 0.0149secs\n",
      "iteration [181]; kl:7732.466049; elapsed: 0.015secs\n",
      "iteration [182]; kl:7731.92441; elapsed: 0.0151secs\n",
      "iteration [183]; kl:7731.37343; elapsed: 0.0152secs\n",
      "iteration [184]; kl:7730.814212; elapsed: 0.0201secs\n",
      "iteration [185]; kl:7730.248213; elapsed: 0.0183secs\n",
      "iteration [186]; kl:7729.67718; elapsed: 0.0158secs\n",
      "iteration [187]; kl:7729.103056; elapsed: 0.0154secs\n",
      "iteration [188]; kl:7728.52784; elapsed: 0.0159secs\n",
      "iteration [189]; kl:7727.953406; elapsed: 0.016secs\n",
      "iteration [190]; kl:7727.381287; elapsed: 0.0158secs\n",
      "iteration [191]; kl:7726.812461; elapsed: 0.0156secs\n",
      "iteration [192]; kl:7726.2472; elapsed: 0.0154secs\n",
      "iteration [193]; kl:7725.685027; elapsed: 0.0156secs\n",
      "iteration [194]; kl:7725.124808; elapsed: 0.0153secs\n",
      "iteration [195]; kl:7724.564972; elapsed: 0.0153secs\n",
      "iteration [196]; kl:7724.003783; elapsed: 0.0153secs\n",
      "iteration [197]; kl:7723.439581; elapsed: 0.0156secs\n",
      "iteration [198]; kl:7722.870946; elapsed: 0.0217secs\n",
      "iteration [199]; kl:7722.296751; elapsed: 0.019secs\n",
      "iteration [200]; kl:7721.716147; elapsed: 0.0155secs\n",
      "iteration [201]; kl:7721.128502; elapsed: 0.0156secs\n",
      "iteration [202]; kl:7720.533344; elapsed: 0.0173secs\n",
      "iteration [203]; kl:7719.93031; elapsed: 0.0191secs\n",
      "iteration [204]; kl:7719.319118; elapsed: 0.0269secs\n",
      "iteration [205]; kl:7718.699554; elapsed: 0.0251secs\n",
      "iteration [206]; kl:7718.071481; elapsed: 0.0217secs\n",
      "iteration [207]; kl:7717.434848; elapsed: 0.0211secs\n",
      "iteration [208]; kl:7716.789708; elapsed: 0.0173secs\n",
      "iteration [209]; kl:7716.13623; elapsed: 0.0202secs\n",
      "iteration [210]; kl:7715.47472; elapsed: 0.0193secs\n",
      "iteration [211]; kl:7714.805629; elapsed: 0.0163secs\n",
      "iteration [212]; kl:7714.129561; elapsed: 0.0154secs\n",
      "iteration [213]; kl:7713.447287; elapsed: 0.0151secs\n",
      "iteration [214]; kl:7712.759743; elapsed: 0.0154secs\n",
      "iteration [215]; kl:7712.068031; elapsed: 0.0153secs\n",
      "iteration [216]; kl:7711.373423; elapsed: 0.0153secs\n",
      "iteration [217]; kl:7710.677341; elapsed: 0.0153secs\n",
      "iteration [218]; kl:7709.981347; elapsed: 0.0156secs\n",
      "iteration [219]; kl:7709.287109; elapsed: 0.0152secs\n",
      "iteration [220]; kl:7708.596366; elapsed: 0.0166secs\n",
      "iteration [221]; kl:7707.910876; elapsed: 0.0224secs\n",
      "iteration [222]; kl:7707.232357; elapsed: 0.0168secs\n",
      "iteration [223]; kl:7706.562421; elapsed: 0.0229secs\n",
      "iteration [224]; kl:7705.902491; elapsed: 0.0283secs\n",
      "iteration [225]; kl:7705.253722; elapsed: 0.0222secs\n",
      "iteration [226]; kl:7704.616909; elapsed: 0.0183secs\n",
      "iteration [227]; kl:7703.992397; elapsed: 0.0162secs\n",
      "iteration [228]; kl:7703.379997; elapsed: 0.0156secs\n",
      "iteration [229]; kl:7702.778923; elapsed: 0.0154secs\n",
      "iteration [230]; kl:7702.187755; elapsed: 0.0151secs\n",
      "iteration [231]; kl:7701.604469; elapsed: 0.0155secs\n",
      "iteration [232]; kl:7701.026509; elapsed: 0.0198secs\n",
      "iteration [233]; kl:7700.450922; elapsed: 0.0169secs\n",
      "iteration [234]; kl:7699.874526; elapsed: 0.0154secs\n",
      "iteration [235]; kl:7699.294073; elapsed: 0.0152secs\n",
      "iteration [236]; kl:7698.706373; elapsed: 0.015secs\n",
      "iteration [237]; kl:7698.108365; elapsed: 0.0152secs\n",
      "iteration [238]; kl:7697.497112; elapsed: 0.0148secs\n",
      "iteration [239]; kl:7696.869756; elapsed: 0.0152secs\n",
      "iteration [240]; kl:7696.223432; elapsed: 0.0152secs\n",
      "iteration [241]; kl:7695.555184; elapsed: 0.0151secs\n",
      "iteration [242]; kl:7694.861888; elapsed: 0.0204secs\n",
      "iteration [243]; kl:7694.140192; elapsed: 0.0249secs\n",
      "iteration [244]; kl:7693.386485; elapsed: 0.0315secs\n",
      "iteration [245]; kl:7692.596859; elapsed: 0.0259secs\n",
      "iteration [246]; kl:7691.767075; elapsed: 0.0193secs\n",
      "iteration [247]; kl:7690.892475; elapsed: 0.0178secs\n",
      "iteration [248]; kl:7689.967826; elapsed: 0.0151secs\n",
      "iteration [249]; kl:7688.987072; elapsed: 0.0163secs\n",
      "iteration [250]; kl:7687.942997; elapsed: 0.0154secs\n",
      "iteration [251]; kl:7686.826855; elapsed: 0.0153secs\n",
      "iteration [252]; kl:7685.628121; elapsed: 0.0151secs\n",
      "iteration [253]; kl:7684.334527; elapsed: 0.0151secs\n",
      "iteration [254]; kl:7682.932621; elapsed: 0.0151secs\n",
      "iteration [255]; kl:7681.40902; elapsed: 0.0209secs\n",
      "iteration [256]; kl:7679.752462; elapsed: 0.0245secs\n",
      "iteration [257]; kl:7677.956667; elapsed: 0.0161secs\n",
      "iteration [258]; kl:7676.023879; elapsed: 0.0151secs\n",
      "iteration [259]; kl:7673.968641; elapsed: 0.015secs\n",
      "iteration [260]; kl:7671.820812; elapsed: 0.015secs\n",
      "iteration [261]; kl:7669.626164; elapsed: 0.015secs\n",
      "iteration [262]; kl:7667.442699; elapsed: 0.0173secs\n",
      "iteration [263]; kl:7665.331822; elapsed: 0.0214secs\n",
      "iteration [264]; kl:7663.345997; elapsed: 0.0181secs\n",
      "iteration [265]; kl:7661.517268; elapsed: 0.0213secs\n",
      "iteration [266]; kl:7659.851497; elapsed: 0.0202secs\n",
      "iteration [267]; kl:7658.330002; elapsed: 0.0231secs\n",
      "iteration [268]; kl:7656.916374; elapsed: 0.0201secs\n",
      "iteration [269]; kl:7655.565011; elapsed: 0.0158secs\n",
      "iteration [270]; kl:7654.229348; elapsed: 0.0149secs\n",
      "iteration [271]; kl:7652.868784; elapsed: 0.0149secs\n",
      "iteration [272]; kl:7651.453081; elapsed: 0.0221secs\n",
      "iteration [273]; kl:7649.963345; elapsed: 0.03secs\n",
      "iteration [274]; kl:7648.390341; elapsed: 0.0244secs\n",
      "iteration [275]; kl:7646.732062; elapsed: 0.0177secs\n",
      "iteration [276]; kl:7644.991962; elapsed: 0.0173secs\n",
      "iteration [277]; kl:7643.178189; elapsed: 0.0186secs\n",
      "iteration [278]; kl:7641.303538; elapsed: 0.0209secs\n",
      "iteration [279]; kl:7639.385714; elapsed: 0.0177secs\n",
      "iteration [280]; kl:7637.447519; elapsed: 0.026secs\n",
      "iteration [281]; kl:7635.516537; elapsed: 0.0316secs\n",
      "iteration [282]; kl:7633.623955; elapsed: 0.0242secs\n",
      "iteration [283]; kl:7631.802428; elapsed: 0.0207secs\n",
      "iteration [284]; kl:7630.083568; elapsed: 0.0166secs\n",
      "iteration [285]; kl:7628.496128; elapsed: 0.0148secs\n",
      "iteration [286]; kl:7627.065361; elapsed: 0.0151secs\n",
      "iteration [287]; kl:7625.812353; elapsed: 0.0154secs\n",
      "iteration [288]; kl:7624.751398; elapsed: 0.0189secs\n",
      "iteration [289]; kl:7623.885168; elapsed: 0.0189secs\n",
      "iteration [290]; kl:7623.199931; elapsed: 0.0157secs\n",
      "iteration [291]; kl:7622.665122; elapsed: 0.0149secs\n",
      "iteration [292]; kl:7622.240542; elapsed: 0.0149secs\n",
      "iteration [293]; kl:7621.887636; elapsed: 0.0152secs\n",
      "iteration [294]; kl:7621.576838; elapsed: 0.0155secs\n",
      "iteration [295]; kl:7621.288361; elapsed: 0.0151secs\n",
      "iteration [296]; kl:7621.009692; elapsed: 0.015secs\n",
      "iteration [297]; kl:7620.732847; elapsed: 0.015secs\n",
      "iteration [298]; kl:7620.452384; elapsed: 0.015secs\n",
      "iteration [299]; kl:7620.164184; elapsed: 0.015secs\n",
      "iteration [300]; kl:7619.864761; elapsed: 0.0192secs\n",
      "iteration [301]; kl:7619.550889; elapsed: 0.0227secs\n",
      "iteration [302]; kl:7619.219387; elapsed: 0.0304secs\n",
      "iteration [303]; kl:7618.866982; elapsed: 0.0346secs\n",
      "iteration [304]; kl:7618.490205; elapsed: 0.0244secs\n",
      "iteration [305]; kl:7618.085297; elapsed: 0.0258secs\n",
      "iteration [306]; kl:7617.64812; elapsed: 0.0178secs\n",
      "iteration [307]; kl:7617.174062; elapsed: 0.0152secs\n",
      "iteration [308]; kl:7616.657936; elapsed: 0.015secs\n",
      "iteration [309]; kl:7616.093875; elapsed: 0.0153secs\n",
      "iteration [310]; kl:7615.475214; elapsed: 0.0184secs\n",
      "iteration [311]; kl:7614.794361; elapsed: 0.0186secs\n",
      "iteration [312]; kl:7614.042661; elapsed: 0.0158secs\n",
      "iteration [313]; kl:7613.210251; elapsed: 0.0152secs\n",
      "iteration [314]; kl:7612.285898; elapsed: 0.0155secs\n",
      "iteration [315]; kl:7611.256845; elapsed: 0.0163secs\n",
      "iteration [316]; kl:7610.108646; elapsed: 0.0205secs\n",
      "iteration [317]; kl:7608.825018; elapsed: 0.0206secs\n",
      "iteration [318]; kl:7607.387721; elapsed: 0.0315secs\n",
      "iteration [319]; kl:7605.776499; elapsed: 0.0244secs\n"
     ]
    },
    {
     "name": "stdout",
     "output_type": "stream",
     "text": [
      "iteration [320]; kl:7603.969144; elapsed: 0.0204secs\n",
      "iteration [321]; kl:7601.941774; elapsed: 0.0233secs\n",
      "iteration [322]; kl:7599.669487; elapsed: 0.0167secs\n",
      "iteration [323]; kl:7597.127615; elapsed: 0.0148secs\n",
      "iteration [324]; kl:7594.293865; elapsed: 0.0152secs\n",
      "iteration [325]; kl:7591.151648; elapsed: 0.0155secs\n",
      "iteration [326]; kl:7587.694727; elapsed: 0.0151secs\n",
      "iteration [327]; kl:7583.932931; elapsed: 0.015secs\n",
      "iteration [328]; kl:7579.897893; elapsed: 0.0152secs\n",
      "iteration [329]; kl:7575.646383; elapsed: 0.015secs\n",
      "iteration [330]; kl:7571.257492; elapsed: 0.0153secs\n",
      "iteration [331]; kl:7566.822512; elapsed: 0.0154secs\n",
      "iteration [332]; kl:7562.439733; elapsed: 0.0152secs\n",
      "iteration [333]; kl:7558.235975; elapsed: 0.021secs\n",
      "iteration [334]; kl:7554.396875; elapsed: 0.0282secs\n",
      "iteration [335]; kl:7551.140728; elapsed: 0.0276secs\n",
      "iteration [336]; kl:7548.633385; elapsed: 0.0305secs\n",
      "iteration [337]; kl:7546.912158; elapsed: 0.0251secs\n",
      "iteration [338]; kl:7545.86747; elapsed: 0.0224secs\n",
      "iteration [339]; kl:7545.299644; elapsed: 0.0219secs\n",
      "iteration [340]; kl:7545.012296; elapsed: 0.0174secs\n",
      "iteration [341]; kl:7544.86648; elapsed: 0.0161secs\n",
      "iteration [342]; kl:7544.784293; elapsed: 0.0152secs\n",
      "iteration [343]; kl:7544.730165; elapsed: 0.0189secs\n",
      "iteration [344]; kl:7544.68995; elapsed: 0.0196secs\n",
      "iteration [345]; kl:7544.658048; elapsed: 0.0166secs\n",
      "iteration [346]; kl:7544.631926; elapsed: 0.015secs\n",
      "iteration [347]; kl:7544.610191; elapsed: 0.0148secs\n",
      "iteration [348]; kl:7544.591921; elapsed: 0.015secs\n",
      "iteration [349]; kl:7544.576438; elapsed: 0.0151secs\n",
      "iteration [350]; kl:7544.563211; elapsed: 0.015secs\n",
      "iteration [351]; kl:7544.551815; elapsed: 0.015secs\n",
      "iteration [352]; kl:7544.541908; elapsed: 0.0153secs\n",
      "iteration [353]; kl:7544.533214; elapsed: 0.0157secs\n",
      "iteration [354]; kl:7544.525514; elapsed: 0.0157secs\n",
      "iteration [355]; kl:7544.518634; elapsed: 0.0155secs\n",
      "iteration [356]; kl:7544.512435; elapsed: 0.0193secs\n",
      "iteration [357]; kl:7544.506809; elapsed: 0.0183secs\n",
      "iteration [358]; kl:7544.501669; elapsed: 0.0158secs\n",
      "iteration [359]; kl:7544.496946; elapsed: 0.0157secs\n",
      "iteration [360]; kl:7544.492586; elapsed: 0.0155secs\n",
      "iteration [361]; kl:7544.488544; elapsed: 0.0153secs\n",
      "iteration [362]; kl:7544.484786; elapsed: 0.0154secs\n",
      "iteration [363]; kl:7544.481282; elapsed: 0.0155secs\n",
      "iteration [364]; kl:7544.478006; elapsed: 0.0155secs\n",
      "iteration [365]; kl:7544.47494; elapsed: 0.0158secs\n",
      "iteration [366]; kl:7544.472064; elapsed: 0.0153secs\n",
      "iteration [367]; kl:7544.469363; elapsed: 0.0152secs\n",
      "iteration [368]; kl:7544.466825; elapsed: 0.0156secs\n",
      "iteration [369]; kl:7544.464437; elapsed: 0.0172secs\n",
      "iteration [370]; kl:7544.462188; elapsed: 0.019secs\n",
      "iteration [371]; kl:7544.46007; elapsed: 0.0166secs\n",
      "iteration [372]; kl:7544.458073; elapsed: 0.0154secs\n",
      "iteration [373]; kl:7544.456189; elapsed: 0.0152secs\n",
      "iteration [374]; kl:7544.454411; elapsed: 0.0154secs\n",
      "iteration [375]; kl:7544.452733; elapsed: 0.0153secs\n",
      "iteration [376]; kl:7544.451148; elapsed: 0.0156secs\n",
      "iteration [377]; kl:7544.449651; elapsed: 0.0157secs\n",
      "iteration [378]; kl:7544.448235; elapsed: 0.0156secs\n",
      "iteration [379]; kl:7544.446897; elapsed: 0.0154secs\n",
      "iteration [380]; kl:7544.445632; elapsed: 0.0153secs\n",
      "iteration [381]; kl:7544.444435; elapsed: 0.0154secs\n",
      "iteration [382]; kl:7544.443302; elapsed: 0.0192secs\n",
      "iteration [383]; kl:7544.44223; elapsed: 0.019secs\n",
      "iteration [384]; kl:7544.441215; elapsed: 0.0156secs\n",
      "iteration [385]; kl:7544.440253; elapsed: 0.0154secs\n",
      "iteration [386]; kl:7544.439343; elapsed: 0.0157secs\n",
      "iteration [387]; kl:7544.43848; elapsed: 0.0154secs\n",
      "iteration [388]; kl:7544.437662; elapsed: 0.0156secs\n",
      "iteration [389]; kl:7544.436886; elapsed: 0.0155secs\n",
      "iteration [390]; kl:7544.436151; elapsed: 0.0151secs\n",
      "iteration [391]; kl:7544.435454; elapsed: 0.0152secs\n",
      "iteration [392]; kl:7544.434792; elapsed: 0.0151secs\n",
      "iteration [393]; kl:7544.434164; elapsed: 0.0175secs\n",
      "iteration [394]; kl:7544.433568; elapsed: 0.0156secs\n",
      "iteration [395]; kl:7544.433003; elapsed: 0.0205secs\n",
      "iteration [396]; kl:7544.432465; elapsed: 0.02secs\n",
      "iteration [397]; kl:7544.431955; elapsed: 0.0167secs\n",
      "iteration [398]; kl:7544.43147; elapsed: 0.0152secs\n",
      "iteration [399]; kl:7544.43101; elapsed: 0.015secs\n",
      "iteration [400]; kl:7544.430572; elapsed: 0.015secs\n",
      "iteration [401]; kl:7544.430156; elapsed: 0.0151secs\n",
      "iteration [402]; kl:7544.42976; elapsed: 0.0153secs\n",
      "iteration [403]; kl:7544.429383; elapsed: 0.015secs\n",
      "iteration [404]; kl:7544.429025; elapsed: 0.0149secs\n",
      "iteration [405]; kl:7544.428685; elapsed: 0.0151secs\n",
      "iteration [406]; kl:7544.42836; elapsed: 0.0151secs\n",
      "iteration [407]; kl:7544.428052; elapsed: 0.0152secs\n",
      "iteration [408]; kl:7544.427758; elapsed: 0.0205secs\n",
      "iteration [409]; kl:7544.427478; elapsed: 0.0179secs\n",
      "iteration [410]; kl:7544.427211; elapsed: 0.0151secs\n",
      "iteration [411]; kl:7544.426957; elapsed: 0.0155secs\n",
      "iteration [412]; kl:7544.426715; elapsed: 0.0152secs\n",
      "iteration [413]; kl:7544.426484; elapsed: 0.0152secs\n",
      "iteration [414]; kl:7544.426264; elapsed: 0.0156secs\n",
      "iteration [415]; kl:7544.426054; elapsed: 0.0153secs\n",
      "iteration [416]; kl:7544.425854; elapsed: 0.0152secs\n",
      "iteration [417]; kl:7544.425663; elapsed: 0.0151secs\n",
      "iteration [418]; kl:7544.425481; elapsed: 0.0153secs\n",
      "iteration [419]; kl:7544.425308; elapsed: 0.0152secs\n",
      "iteration [420]; kl:7544.425142; elapsed: 0.0161secs\n",
      "iteration [421]; kl:7544.424983; elapsed: 0.019secs\n",
      "iteration [422]; kl:7544.424832; elapsed: 0.0196secs\n",
      "iteration [423]; kl:7544.424688; elapsed: 0.0165secs\n",
      "iteration [424]; kl:7544.42455; elapsed: 0.0154secs\n",
      "iteration [425]; kl:7544.424418; elapsed: 0.0154secs\n",
      "iteration [426]; kl:7544.424292; elapsed: 0.0155secs\n",
      "iteration [427]; kl:7544.424172; elapsed: 0.0158secs\n",
      "iteration [428]; kl:7544.424056; elapsed: 0.0156secs\n",
      "iteration [429]; kl:7544.423946; elapsed: 0.0154secs\n",
      "iteration [430]; kl:7544.423841; elapsed: 0.0155secs\n",
      "iteration [431]; kl:7544.42374; elapsed: 0.0155secs\n",
      "iteration [432]; kl:7544.423644; elapsed: 0.0151secs\n",
      "iteration [433]; kl:7544.423552; elapsed: 0.0154secs\n",
      "iteration [434]; kl:7544.423464; elapsed: 0.0223secs\n",
      "iteration [435]; kl:7544.423379; elapsed: 0.0165secs\n",
      "iteration [436]; kl:7544.423298; elapsed: 0.0149secs\n",
      "iteration [437]; kl:7544.423221; elapsed: 0.0153secs\n",
      "iteration [438]; kl:7544.423147; elapsed: 0.016secs\n",
      "iteration [439]; kl:7544.423076; elapsed: 0.0154secs\n",
      "iteration [440]; kl:7544.423008; elapsed: 0.0155secs\n",
      "iteration [441]; kl:7544.422943; elapsed: 0.0152secs\n",
      "iteration [442]; kl:7544.42288; elapsed: 0.0154secs\n",
      "iteration [443]; kl:7544.42282; elapsed: 0.0168secs\n",
      "iteration [444]; kl:7544.422763; elapsed: 0.0193secs\n",
      "iteration [445]; kl:7544.422708; elapsed: 0.0173secs\n",
      "iteration [446]; kl:7544.422655; elapsed: 0.0207secs\n",
      "iteration [447]; kl:7544.422604; elapsed: 0.0231secs\n",
      "iteration [448]; kl:7544.422556; elapsed: 0.0199secs\n",
      "iteration [449]; kl:7544.422509; elapsed: 0.0177secs\n",
      "iteration [450]; kl:7544.422465; elapsed: 0.0154secs\n",
      "CAVI done.\n",
      "Elapsed: 450 steps in 8.03 seconds\n"
     ]
    }
   ],
   "source": [
    "# get beta parameters for sticks and populations\n",
    "vb_opt_dict, vb_opt, kl_vec, _ = \\\n",
    "    cavi_lib.run_cavi(g_obs, vb_params_dict, \n",
    "                        vb_params_paragami, \n",
    "                        prior_params_dict,\n",
    "                        gh_loc = gh_loc, gh_weights = gh_weights,\n",
    "                        max_iter = 1000,\n",
    "                        x_tol = 1e-3, \n",
    "                        print_every = 1)\n"
   ]
  },
  {
   "cell_type": "code",
   "execution_count": null,
   "metadata": {},
   "outputs": [],
   "source": []
  },
  {
   "cell_type": "code",
   "execution_count": null,
   "metadata": {},
   "outputs": [],
   "source": []
  },
  {
   "cell_type": "markdown",
   "metadata": {},
   "source": [
    "# Check out the fit"
   ]
  },
  {
   "cell_type": "code",
   "execution_count": 16,
   "metadata": {},
   "outputs": [
    {
     "data": {
      "text/plain": [
       "<matplotlib.image.AxesImage at 0x7f64e8227a30>"
      ]
     },
     "execution_count": 16,
     "metadata": {},
     "output_type": "execute_result"
    },
    {
     "data": {
      "image/png": "[encoded data removed]",
      "text/plain": [
       "<Figure size 1152x144 with 1 Axes>"
      ]
     },
     "metadata": {
      "needs_background": "light"
     },
     "output_type": "display_data"
    }
   ],
   "source": [
    "# truth\n",
    "plt.matshow(true_ind_admix_propn.T)"
   ]
  },
  {
   "cell_type": "code",
   "execution_count": 17,
   "metadata": {},
   "outputs": [
    {
     "data": {
      "text/plain": [
       "<matplotlib.image.AxesImage at 0x7f64e81937f0>"
      ]
     },
     "execution_count": 17,
     "metadata": {},
     "output_type": "execute_result"
    },
    {
     "data": {
      "image/png": "[encoded data removed]",
      "text/plain": [
       "<Figure size 1152x276.48 with 1 Axes>"
      ]
     },
     "metadata": {
      "needs_background": "light"
     },
     "output_type": "display_data"
    }
   ],
   "source": [
    "# fitted\n",
    "e_ind_admix = get_vb_expectations(vb_opt_dict, use_logitnormal_sticks)[0]\n",
    "plt.matshow(e_ind_admix.T)"
   ]
  },
  {
   "cell_type": "code",
   "execution_count": null,
   "metadata": {},
   "outputs": [],
   "source": []
  },
  {
   "cell_type": "code",
   "execution_count": null,
   "metadata": {},
   "outputs": [],
   "source": []
  },
  {
   "cell_type": "code",
   "execution_count": null,
   "metadata": {},
   "outputs": [],
   "source": []
  },
  {
   "cell_type": "markdown",
   "metadata": {},
   "source": [
    "# Define prior perturbation"
   ]
  },
  {
   "cell_type": "code",
   "execution_count": 19,
   "metadata": {},
   "outputs": [],
   "source": [
    "import bnpmodeling_runjingdev.functional_sensitivity_lib as func_sens_lib"
   ]
  },
  {
   "cell_type": "code",
   "execution_count": 20,
   "metadata": {},
   "outputs": [],
   "source": [
    "def log_phi(logit_v):\n",
    "    return(sp.special.expit(-logit_v))\n",
    "\n",
    "def phi(logit_v):\n",
    "    return np.exp(log_phi(logit_v))\n"
   ]
  },
  {
   "cell_type": "code",
   "execution_count": 21,
   "metadata": {},
   "outputs": [],
   "source": [
    "logit_v_grid = np.linspace(-8, 8, 200)\n",
    "\n",
    "v_grid = np.exp(logit_v_grid) / (1 + np.exp(logit_v_grid))\n",
    "\n",
    "log_phi_max = np.max(np.abs(np.log(phi(logit_v_grid))))\n",
    "\n",
    "def rescaled_log_phi(logit_v):\n",
    "    return 2 * log_phi(logit_v) / log_phi_max\n"
   ]
  },
  {
   "cell_type": "code",
   "execution_count": 22,
   "metadata": {},
   "outputs": [
    {
     "name": "stdout",
     "output_type": "stream",
     "text": [
      "-1.0986122886681098 1.5674499614238597 -1.0996184973479006 1.5669044626347488\n"
     ]
    }
   ],
   "source": [
    "prior_perturbation = func_sens_lib.PriorPerturbation(\n",
    "                                alpha0 = prior_params_dict['dp_prior_alpha'],\n",
    "                                log_phi = rescaled_log_phi, \n",
    "                                logit_v_ub=8, logit_v_lb = -8)\n",
    "\n",
    "print(\n",
    "    prior_perturbation.log_norm_p0,\n",
    "    prior_perturbation.log_norm_pc,\n",
    "    prior_perturbation.log_norm_p0_logit,\n",
    "    prior_perturbation.log_norm_pc_logit)\n"
   ]
  },
  {
   "cell_type": "code",
   "execution_count": 23,
   "metadata": {},
   "outputs": [
    {
     "data": {
      "text/plain": [
       "Text(0.5, 1.0, 'Priors in logit space')"
      ]
     },
     "execution_count": 23,
     "metadata": {},
     "output_type": "execute_result"
    },
    {
     "data": {
      "image/png": "[encoded data removed]",
      "text/plain": [
       "<Figure size 1296x360 with 4 Axes>"
      ]
     },
     "metadata": {
      "needs_background": "light"
     },
     "output_type": "display_data"
    }
   ],
   "source": [
    "prior_perturbation.set_epsilon(1.0)\n",
    "\n",
    "plt.figure(1, figsize=(18, 5))\n",
    "\n",
    "plt.subplot(141)\n",
    "plt.plot(logit_v_grid, prior_perturbation.get_log_p0_logit(logit_v_grid))\n",
    "plt.plot(logit_v_grid, prior_perturbation.get_log_pc_logit(logit_v_grid))\n",
    "plt.title('Log priors in logit space')\n",
    "\n",
    "plt.subplot(142)\n",
    "plt.plot(logit_v_grid, prior_perturbation.log_phi(logit_v_grid))\n",
    "plt.title('log phi in logit space')\n",
    "\n",
    "plt.subplot(143)\n",
    "plt.plot(v_grid, np.exp(prior_perturbation.get_log_p0(v_grid)))\n",
    "plt.plot(v_grid, np.exp(prior_perturbation.get_log_pc(v_grid)))\n",
    "plt.title('Priors in stick space')\n",
    "\n",
    "plt.subplot(144)\n",
    "plt.plot(logit_v_grid, np.exp(prior_perturbation.get_log_p0_logit(logit_v_grid)))\n",
    "plt.plot(logit_v_grid, np.exp(prior_perturbation.get_log_pc_logit(logit_v_grid)))\n",
    "plt.title('Priors in logit space')\n"
   ]
  },
  {
   "cell_type": "code",
   "execution_count": 24,
   "metadata": {},
   "outputs": [],
   "source": [
    "log_prior_pert = lambda logit_v : rescaled_log_phi(logit_v) - prior_perturbation.log_norm_pc_logit"
   ]
  },
  {
   "cell_type": "code",
   "execution_count": 25,
   "metadata": {},
   "outputs": [
    {
     "data": {
      "text/plain": [
       "DeviceArray(1.56690446, dtype=float64)"
      ]
     },
     "execution_count": 25,
     "metadata": {},
     "output_type": "execute_result"
    }
   ],
   "source": [
    "prior_perturbation.log_norm_pc_logit"
   ]
  },
  {
   "cell_type": "code",
   "execution_count": 26,
   "metadata": {},
   "outputs": [],
   "source": [
    "# we will use theses for the sensitivity class\n",
    "get_epsilon_vb_loss = paragami.FlattenFunctionInput(\n",
    "    lambda params, epsilon: structure_model_lib.get_kl(\n",
    "                                                        g_obs, \n",
    "                                                        params,\n",
    "                                                        prior_params_dict,\n",
    "                                                        epsilon = epsilon,\n",
    "                                                        gh_loc = gh_loc,\n",
    "                                                        gh_weights = gh_weights,\n",
    "                                                        log_phi = log_prior_pert,\n",
    "                                                        ),\n",
    "    argnums=0, patterns=vb_params_paragami, free=True)\n",
    "    \n",
    "def get_e_log_perturbation(log_phi, vb_params_dict, epsilon, gh_loc, gh_weights): \n",
    "    return func_sens_lib.get_e_log_perturbation(log_phi,\n",
    "                            vb_params_dict['ind_mix_stick_propn_mean'],\n",
    "                            vb_params_dict['ind_mix_stick_propn_info'],\n",
    "                            epsilon, gh_loc, gh_weights, sum_vector=True)\n",
    "\n",
    "\n",
    "hyper_par_objective_fun = paragami.FlattenFunctionInput(\n",
    "    lambda params, epsilon: get_e_log_perturbation(log_prior_pert, \n",
    "                                                    params,\n",
    "                                                    epsilon,\n",
    "                                                    gh_loc, gh_weights),\n",
    "    argnums=0, patterns=vb_params_paragami, free=True)"
   ]
  },
  {
   "cell_type": "code",
   "execution_count": 27,
   "metadata": {},
   "outputs": [],
   "source": [
    "epsilon0 = np.array([0.])"
   ]
  },
  {
   "cell_type": "code",
   "execution_count": 28,
   "metadata": {},
   "outputs": [
    {
     "name": "stdout",
     "output_type": "stream",
     "text": [
      "preconditioner time: 0.468sec\n"
     ]
    }
   ],
   "source": [
    "t0 = time.time()\n",
    "mfvb_preconditioner = \\\n",
    "    get_mfvb_cov(vb_opt_dict, vb_params_paragami, use_logitnormal_sticks, return_info = True)\n",
    "\n",
    "print('preconditioner time: {:0.3}sec'.format(time.time() - t0))"
   ]
  },
  {
   "cell_type": "code",
   "execution_count": 29,
   "metadata": {},
   "outputs": [],
   "source": [
    "import vittles"
   ]
  },
  {
   "cell_type": "code",
   "execution_count": 30,
   "metadata": {},
   "outputs": [],
   "source": [
    "# get hessian-vector product\n",
    "def get_jac_hvp_fun(f):\n",
    "    def hvp(x, v):\n",
    "        return jax.jvp(jax.grad(f), (x, ), (v, ))[1]\n",
    "    return hvp"
   ]
  },
  {
   "cell_type": "code",
   "execution_count": 31,
   "metadata": {},
   "outputs": [],
   "source": [
    "obj_fun_hvp = jax.jit(get_jac_hvp_fun(lambda x : get_epsilon_vb_loss(x, epsilon0)))"
   ]
  },
  {
   "cell_type": "code",
   "execution_count": 32,
   "metadata": {},
   "outputs": [],
   "source": [
    "cg_solver = vittles.solver_lib.get_cg_solver(lambda x : obj_fun_hvp(vb_opt, x), \n",
    "                                            dim = len(vb_opt), \n",
    "                                            cg_opts = {'M': mfvb_preconditioner})\n"
   ]
  },
  {
   "cell_type": "code",
   "execution_count": 33,
   "metadata": {},
   "outputs": [
    {
     "name": "stdout",
     "output_type": "stream",
     "text": [
      "Compiling objective function derivatives ... \n",
      "Compile time: 0.26sec\n",
      "\n",
      "Objective function derivative time: 0.000413sec\n",
      "\n",
      "Linear system compile time: 1.61sec\n",
      "Linear system time: 2.11sec\n"
     ]
    }
   ],
   "source": [
    "epsilon_sens = HyperparameterSensitivityLinearApproximation(get_epsilon_vb_loss,\n",
    "                                                        vb_opt,\n",
    "                                                        epsilon0, \n",
    "                                                        hyper_par_objective_fun = hyper_par_objective_fun,\n",
    "                                                        hess_solver = cg_solver)\n"
   ]
  },
  {
   "cell_type": "code",
   "execution_count": null,
   "metadata": {},
   "outputs": [],
   "source": []
  },
  {
   "cell_type": "markdown",
   "metadata": {},
   "source": [
    "# Fit with perturbation"
   ]
  },
  {
   "cell_type": "code",
   "execution_count": 34,
   "metadata": {},
   "outputs": [
    {
     "name": "stdout",
     "output_type": "stream",
     "text": [
      "Epsilon:  1.0\n",
      "Predicted differences:  12.62270629884076\n"
     ]
    }
   ],
   "source": [
    "epsilon = 1.0\n",
    "print('Epsilon: ', epsilon)\n",
    "\n",
    "lr_vb_free_params = epsilon_sens.predict_opt_par_from_hyper_par(epsilon)\n",
    "\n",
    "print('Predicted differences: ', np.linalg.norm(lr_vb_free_params - vb_opt))"
   ]
  },
  {
   "cell_type": "code",
   "execution_count": 35,
   "metadata": {},
   "outputs": [],
   "source": [
    "vb_pert_pred_dict = vb_params_paragami.fold(lr_vb_free_params, free = True)"
   ]
  },
  {
   "cell_type": "code",
   "execution_count": 36,
   "metadata": {},
   "outputs": [],
   "source": [
    "new_init_dict = deepcopy(vb_opt_dict)\n",
    "new_init_free = vb_params_paragami.flatten(new_init_dict, free = True)"
   ]
  },
  {
   "cell_type": "code",
   "execution_count": 37,
   "metadata": {},
   "outputs": [
    {
     "name": "stdout",
     "output_type": "stream",
     "text": [
      "CAVI compile time: 2.99sec\n",
      "\n",
      " running CAVI ...\n",
      "iteration [20]; kl:7632.566749; elapsed: 0.4secs\n",
      "iteration [40]; kl:7631.90689; elapsed: 0.4279secs\n",
      "iteration [60]; kl:7631.753456; elapsed: 0.3041secs\n",
      "iteration [80]; kl:7631.656945; elapsed: 0.4778secs\n",
      "iteration [100]; kl:7631.586762; elapsed: 0.5147secs\n",
      "iteration [120]; kl:7631.559159; elapsed: 0.3094secs\n",
      "iteration [140]; kl:7631.552836; elapsed: 0.3057secs\n",
      "CAVI done.\n",
      "Elapsed: 152 steps in 2.92 seconds\n"
     ]
    }
   ],
   "source": [
    "vb_pert_dict, vb_opt_pert, e_z_pert, _, _ = \\\n",
    "    cavi_lib.run_cavi(g_obs, deepcopy(new_init_dict), \n",
    "                        vb_params_paragami, \n",
    "                        prior_params_dict,\n",
    "                        gh_loc = gh_loc, gh_weights = gh_weights,\n",
    "                        max_iter = 1000,\n",
    "                        x_tol = 1e-3, \n",
    "                        print_every = 20, \n",
    "                        epsilon = epsilon, log_phi = log_prior_pert)\n"
   ]
  },
  {
   "cell_type": "code",
   "execution_count": 38,
   "metadata": {},
   "outputs": [
    {
     "data": {
      "text/plain": [
       "DeviceArray(2.09742903, dtype=float64)"
      ]
     },
     "execution_count": 38,
     "metadata": {},
     "output_type": "execute_result"
    }
   ],
   "source": [
    "(vb_opt**2).mean()"
   ]
  },
  {
   "cell_type": "code",
   "execution_count": 39,
   "metadata": {},
   "outputs": [
    {
     "data": {
      "text/plain": [
       "DeviceArray(2.3064291, dtype=float64)"
      ]
     },
     "execution_count": 39,
     "metadata": {},
     "output_type": "execute_result"
    }
   ],
   "source": [
    "(lr_vb_free_params**2).mean()"
   ]
  },
  {
   "cell_type": "code",
   "execution_count": 40,
   "metadata": {},
   "outputs": [
    {
     "data": {
      "text/plain": [
       "DeviceArray(2.28252718, dtype=float64)"
      ]
     },
     "execution_count": 40,
     "metadata": {},
     "output_type": "execute_result"
    }
   ],
   "source": [
    "(vb_opt_pert**2).mean()"
   ]
  },
  {
   "cell_type": "code",
   "execution_count": null,
   "metadata": {},
   "outputs": [],
   "source": []
  }
 ],
 "metadata": {
  "kernelspec": {
   "display_name": "bnp_sensitivity_jax",
   "language": "python",
   "name": "bnp_sensitivity_jax"
  },
  "language_info": {
   "codemirror_mode": {
    "name": "ipython",
    "version": 3
   },
   "file_extension": ".py",
   "mimetype": "text/x-python",
   "name": "python",
   "nbconvert_exporter": "python",
   "pygments_lexer": "ipython3",
   "version": "3.8.0"
  }
 },
 "nbformat": 4,
 "nbformat_minor": 2
}
