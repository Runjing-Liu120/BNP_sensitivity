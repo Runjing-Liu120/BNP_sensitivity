{
 "cells": [
  {
   "cell_type": "code",
   "execution_count": 1,
   "metadata": {},
   "outputs": [
    {
     "name": "stderr",
     "output_type": "stream",
     "text": [
      "/home/rliu/anaconda3/envs/bnp_sensitivity_jax/lib/python3.8/site-packages/jax/lib/xla_bridge.py:130: UserWarning: No GPU/TPU found, falling back to CPU.\n",
      "  warnings.warn('No GPU/TPU found, falling back to CPU.')\n"
     ]
    }
   ],
   "source": [
    "import jax\n",
    "\n",
    "import jax.numpy as np\n",
    "import jax.scipy as sp\n",
    "from numpy.polynomial.hermite import hermgauss\n",
    "\n",
    "from vb_lib import structure_model_lib, data_utils, cavi_lib\n",
    "from vb_lib.preconditioner_lib import get_mfvb_cov\n",
    "from bnpmodeling_runjingdev.sensitivity_lib import HyperparameterSensitivityLinearApproximation\n",
    "\n",
    "import paragami\n",
    "\n",
    "from copy import deepcopy\n",
    "\n",
    "import time\n",
    "\n",
    "import matplotlib.pyplot as plt\n",
    "%matplotlib inline  \n",
    "\n",
    "from bnpmodeling_runjingdev import cluster_quantities_lib, modeling_lib\n"
   ]
  },
  {
   "cell_type": "code",
   "execution_count": 2,
   "metadata": {},
   "outputs": [],
   "source": [
    "import numpy as onp \n",
    "onp.random.seed(53453)"
   ]
  },
  {
   "cell_type": "code",
   "execution_count": null,
   "metadata": {},
   "outputs": [],
   "source": []
  },
  {
   "cell_type": "code",
   "execution_count": null,
   "metadata": {},
   "outputs": [],
   "source": []
  },
  {
   "cell_type": "markdown",
   "metadata": {
    "collapsed": true
   },
   "source": [
    "# Draw data"
   ]
  },
  {
   "cell_type": "code",
   "execution_count": 3,
   "metadata": {},
   "outputs": [],
   "source": [
    "n_obs = 50\n",
    "n_loci = 100\n",
    "n_pop = 4\n",
    "# n_obs = 100\n",
    "# n_loci = 1000\n",
    "# n_pop = 4"
   ]
  },
  {
   "cell_type": "code",
   "execution_count": 4,
   "metadata": {},
   "outputs": [],
   "source": [
    "g_obs, true_pop_allele_freq, true_ind_admix_propn = \\\n",
    "    data_utils.draw_data(n_obs, n_loci, n_pop)"
   ]
  },
  {
   "cell_type": "code",
   "execution_count": 5,
   "metadata": {
    "scrolled": true
   },
   "outputs": [
    {
     "data": {
      "text/plain": [
       "Text(0.5, 0, 'individual')"
      ]
     },
     "execution_count": 5,
     "metadata": {},
     "output_type": "execute_result"
    },
    {
     "data": {
      "image/png": "[encoded data removed]",
      "text/plain": [
       "<Figure size 1152x144 with 1 Axes>"
      ]
     },
     "metadata": {
      "needs_background": "light"
     },
     "output_type": "display_data"
    }
   ],
   "source": [
    "plt.matshow(true_ind_admix_propn.T)\n",
    "plt.ylabel('population')\n",
    "plt.xlabel('individual')"
   ]
  },
  {
   "cell_type": "code",
   "execution_count": 6,
   "metadata": {
    "scrolled": true
   },
   "outputs": [
    {
     "data": {
      "text/plain": [
       "(50, 100, 3)"
      ]
     },
     "execution_count": 6,
     "metadata": {},
     "output_type": "execute_result"
    }
   ],
   "source": [
    "g_obs.shape"
   ]
  },
  {
   "cell_type": "markdown",
   "metadata": {},
   "source": [
    "# Get prior"
   ]
  },
  {
   "cell_type": "code",
   "execution_count": 7,
   "metadata": {},
   "outputs": [
    {
     "name": "stdout",
     "output_type": "stream",
     "text": [
      "OrderedDict:\n",
      "\t[dp_prior_alpha] = NumericArrayPattern (1,) (lb=0.0, ub=inf)\n",
      "\t[allele_prior_alpha] = NumericArrayPattern (1,) (lb=0.0, ub=inf)\n",
      "\t[allele_prior_beta] = NumericArrayPattern (1,) (lb=0.0, ub=inf)\n"
     ]
    }
   ],
   "source": [
    "prior_params_dict, prior_params_paragami = \\\n",
    "    structure_model_lib.get_default_prior_params()\n",
    "\n",
    "print(prior_params_paragami)\n",
    "\n",
    "prior_params_free = prior_params_paragami.flatten(prior_params_dict, free = True)"
   ]
  },
  {
   "cell_type": "code",
   "execution_count": 8,
   "metadata": {},
   "outputs": [
    {
     "name": "stdout",
     "output_type": "stream",
     "text": [
      "{'dp_prior_alpha': DeviceArray([3.], dtype=float64), 'allele_prior_alpha': DeviceArray([1.], dtype=float64), 'allele_prior_beta': DeviceArray([1.], dtype=float64)}\n"
     ]
    }
   ],
   "source": [
    "print(prior_params_dict)"
   ]
  },
  {
   "cell_type": "code",
   "execution_count": null,
   "metadata": {},
   "outputs": [],
   "source": []
  },
  {
   "cell_type": "markdown",
   "metadata": {},
   "source": [
    "# Get VB params "
   ]
  },
  {
   "cell_type": "code",
   "execution_count": 9,
   "metadata": {},
   "outputs": [],
   "source": [
    "k_approx = 12"
   ]
  },
  {
   "cell_type": "code",
   "execution_count": 10,
   "metadata": {},
   "outputs": [],
   "source": [
    "gh_deg = 8\n",
    "gh_loc, gh_weights = hermgauss(8)"
   ]
  },
  {
   "cell_type": "code",
   "execution_count": 11,
   "metadata": {
    "scrolled": true
   },
   "outputs": [
    {
     "name": "stdout",
     "output_type": "stream",
     "text": [
      "OrderedDict:\n",
      "\t[pop_freq_beta_params] = NumericArrayPattern (100, 12, 2) (lb=0.0, ub=inf)\n",
      "\t[ind_mix_stick_propn_mean] = NumericArrayPattern (50, 11) (lb=-inf, ub=inf)\n",
      "\t[ind_mix_stick_propn_info] = NumericArrayPattern (50, 11) (lb=0.0001, ub=inf)\n"
     ]
    }
   ],
   "source": [
    "use_logitnormal_sticks = True\n",
    "\n",
    "vb_params_dict, vb_params_paragami = \\\n",
    "    structure_model_lib.get_vb_params_paragami_object(n_obs, n_loci, k_approx,\n",
    "                                    use_logitnormal_sticks = use_logitnormal_sticks)\n",
    "    \n",
    "print(vb_params_paragami)"
   ]
  },
  {
   "cell_type": "markdown",
   "metadata": {},
   "source": [
    "## Initialize "
   ]
  },
  {
   "cell_type": "code",
   "execution_count": 12,
   "metadata": {},
   "outputs": [],
   "source": [
    "vb_params_dict = \\\n",
    "        structure_model_lib.set_init_vb_params(g_obs, k_approx, vb_params_dict,\n",
    "                                                seed = 412)"
   ]
  },
  {
   "cell_type": "code",
   "execution_count": 13,
   "metadata": {},
   "outputs": [],
   "source": [
    "def get_vb_expectations(vb_params_dict, use_logitnormal_sticks): \n",
    "    if use_logitnormal_sticks: \n",
    "        e_ind_admix = cluster_quantities_lib.get_e_cluster_probabilities(\n",
    "                            vb_params_dict['ind_mix_stick_propn_mean'], \n",
    "                            vb_params_dict['ind_mix_stick_propn_info'],\n",
    "                            gh_loc, gh_weights)\n",
    "\n",
    "    else: \n",
    "        ind_mix_stick_beta_params = vb_params_dict['ind_mix_stick_beta_params']\n",
    "        e_stick_lengths = \\\n",
    "                modeling_lib.get_e_beta(ind_mix_stick_beta_params)\n",
    "        e_ind_admix = cluster_quantities_lib.get_mixture_weights_from_stick_break_propns(e_stick_lengths)\n",
    "\n",
    "    e_pop_freq = modeling_lib.get_e_beta(vb_params_dict['pop_freq_beta_params'])\n",
    "    \n",
    "    return e_ind_admix, e_pop_freq"
   ]
  },
  {
   "cell_type": "code",
   "execution_count": 14,
   "metadata": {},
   "outputs": [
    {
     "data": {
      "text/plain": [
       "Text(0.5, 0, 'individual')"
      ]
     },
     "execution_count": 14,
     "metadata": {},
     "output_type": "execute_result"
    },
    {
     "data": {
      "image/png": "[encoded data removed]",
      "text/plain": [
       "<Figure size 1152x276.48 with 1 Axes>"
      ]
     },
     "metadata": {
      "needs_background": "light"
     },
     "output_type": "display_data"
    }
   ],
   "source": [
    "plt.matshow(get_vb_expectations(vb_params_dict, use_logitnormal_sticks)[0].transpose())\n",
    "plt.ylabel('population')\n",
    "plt.xlabel('individual')"
   ]
  },
  {
   "cell_type": "code",
   "execution_count": null,
   "metadata": {},
   "outputs": [],
   "source": []
  },
  {
   "cell_type": "markdown",
   "metadata": {},
   "source": [
    "# Run CAVI"
   ]
  },
  {
   "cell_type": "code",
   "execution_count": 15,
   "metadata": {
    "scrolled": true
   },
   "outputs": [
    {
     "name": "stdout",
     "output_type": "stream",
     "text": [
      "CAVI compile time: 6.59sec\n",
      "\n",
      " running CAVI ...\n",
      "iteration [1]; kl:9990.039185; elapsed: 0.1143secs\n",
      "iteration [2]; kl:9103.160134; elapsed: 0.105secs\n",
      "iteration [3]; kl:8733.539237; elapsed: 0.0523secs\n",
      "iteration [4]; kl:8631.08062; elapsed: 0.0327secs\n",
      "iteration [5]; kl:8511.501328; elapsed: 0.0343secs\n",
      "iteration [6]; kl:8442.796909; elapsed: 0.0346secs\n",
      "iteration [7]; kl:8396.208841; elapsed: 0.0346secs\n",
      "iteration [8]; kl:8361.325242; elapsed: 0.0381secs\n",
      "iteration [9]; kl:8321.191899; elapsed: 0.0393secs\n",
      "iteration [10]; kl:8288.650241; elapsed: 0.0345secs\n",
      "iteration [11]; kl:8246.868694; elapsed: 0.0343secs\n",
      "iteration [12]; kl:8210.86248; elapsed: 0.0346secs\n",
      "iteration [13]; kl:8170.747245; elapsed: 0.0339secs\n",
      "iteration [14]; kl:8123.492624; elapsed: 0.0365secs\n",
      "iteration [15]; kl:8080.741064; elapsed: 0.0448secs\n",
      "iteration [16]; kl:8038.487769; elapsed: 0.035secs\n",
      "iteration [17]; kl:8014.796488; elapsed: 0.0349secs\n",
      "iteration [18]; kl:7973.497332; elapsed: 0.034secs\n",
      "iteration [19]; kl:7954.539357; elapsed: 0.0343secs\n",
      "iteration [20]; kl:7934.776146; elapsed: 0.0386secs\n",
      "iteration [21]; kl:7927.566235; elapsed: 0.0582secs\n",
      "iteration [22]; kl:7902.161935; elapsed: 0.0368secs\n",
      "iteration [23]; kl:7884.432055; elapsed: 0.0343secs\n",
      "iteration [24]; kl:7860.542028; elapsed: 0.0345secs\n",
      "iteration [25]; kl:7848.59812; elapsed: 0.0345secs\n",
      "iteration [26]; kl:7831.413077; elapsed: 0.0392secs\n",
      "iteration [27]; kl:7826.97155; elapsed: 0.0355secs\n",
      "iteration [28]; kl:7819.987471; elapsed: 0.0346secs\n",
      "iteration [29]; kl:7803.397237; elapsed: 0.0382secs\n",
      "iteration [30]; kl:7800.423803; elapsed: 0.0343secs\n",
      "iteration [31]; kl:7797.269471; elapsed: 0.0387secs\n",
      "iteration [32]; kl:7795.365532; elapsed: 0.0353secs\n",
      "iteration [33]; kl:7793.374325; elapsed: 0.0431secs\n",
      "iteration [34]; kl:7791.70218; elapsed: 0.0343secs\n",
      "iteration [35]; kl:7790.165404; elapsed: 0.0376secs\n",
      "iteration [36]; kl:7788.509608; elapsed: 0.034secs\n",
      "iteration [37]; kl:7787.658787; elapsed: 0.0333secs\n",
      "iteration [38]; kl:7785.442904; elapsed: 0.0389secs\n",
      "iteration [39]; kl:7784.00616; elapsed: 0.0361secs\n",
      "iteration [40]; kl:7781.781725; elapsed: 0.0385secs\n",
      "iteration [41]; kl:7780.919668; elapsed: 0.0347secs\n",
      "iteration [42]; kl:7780.092164; elapsed: 0.0375secs\n",
      "iteration [43]; kl:7779.334845; elapsed: 0.0334secs\n",
      "iteration [44]; kl:7779.012034; elapsed: 0.0362secs\n",
      "iteration [45]; kl:7778.170275; elapsed: 0.0407secs\n",
      "iteration [46]; kl:7777.895045; elapsed: 0.0341secs\n",
      "iteration [47]; kl:7777.174779; elapsed: 0.0371secs\n",
      "iteration [48]; kl:7776.923431; elapsed: 0.034secs\n",
      "iteration [49]; kl:7776.282088; elapsed: 0.0372secs\n",
      "iteration [50]; kl:7776.014543; elapsed: 0.0382secs\n",
      "iteration [51]; kl:7775.411254; elapsed: 0.0394secs\n",
      "iteration [52]; kl:7775.046005; elapsed: 0.034secs\n",
      "iteration [53]; kl:7774.387717; elapsed: 0.0376secs\n",
      "iteration [54]; kl:7773.611501; elapsed: 0.0338secs\n",
      "iteration [55]; kl:7772.503239; elapsed: 0.0369secs\n",
      "iteration [56]; kl:7769.867793; elapsed: 0.0349secs\n",
      "iteration [57]; kl:7766.477861; elapsed: 0.0418secs\n",
      "iteration [58]; kl:7763.512035; elapsed: 0.0405secs\n",
      "iteration [59]; kl:7761.182451; elapsed: 0.0348secs\n",
      "iteration [60]; kl:7759.143999; elapsed: 0.0372secs\n",
      "iteration [61]; kl:7758.247075; elapsed: 0.0338secs\n",
      "iteration [62]; kl:7756.494791; elapsed: 0.0401secs\n",
      "iteration [63]; kl:7755.412211; elapsed: 0.039secs\n",
      "iteration [64]; kl:7754.515603; elapsed: 0.0342secs\n",
      "iteration [65]; kl:7753.489853; elapsed: 0.0376secs\n",
      "iteration [66]; kl:7752.795319; elapsed: 0.0344secs\n",
      "iteration [67]; kl:7751.779913; elapsed: 0.0379secs\n",
      "iteration [68]; kl:7751.185931; elapsed: 0.0381secs\n",
      "iteration [69]; kl:7750.188158; elapsed: 0.0397secs\n",
      "iteration [70]; kl:7749.736822; elapsed: 0.0349secs\n",
      "iteration [71]; kl:7748.766687; elapsed: 0.0374secs\n",
      "iteration [72]; kl:7748.509506; elapsed: 0.0332secs\n",
      "iteration [73]; kl:7747.540402; elapsed: 0.0368secs\n",
      "iteration [74]; kl:7747.065391; elapsed: 0.0372secs\n",
      "iteration [75]; kl:7746.587229; elapsed: 0.0386secs\n",
      "iteration [76]; kl:7746.015947; elapsed: 0.0367secs\n",
      "iteration [77]; kl:7745.493724; elapsed: 0.0364secs\n",
      "iteration [78]; kl:7744.947447; elapsed: 0.0333secs\n",
      "iteration [79]; kl:7744.239942; elapsed: 0.0369secs\n",
      "iteration [80]; kl:7743.762674; elapsed: 0.0348secs\n",
      "iteration [81]; kl:7742.700966; elapsed: 0.0414secs\n",
      "iteration [82]; kl:7741.923965; elapsed: 0.0364secs\n",
      "iteration [83]; kl:7740.822283; elapsed: 0.0329secs\n",
      "iteration [84]; kl:7739.455395; elapsed: 0.0362secs\n",
      "iteration [85]; kl:7737.663974; elapsed: 0.0361secs\n",
      "iteration [86]; kl:7733.578329; elapsed: 0.0375secs\n",
      "iteration [87]; kl:7728.431268; elapsed: 0.042secs\n",
      "iteration [88]; kl:7722.259876; elapsed: 0.034secs\n",
      "iteration [89]; kl:7716.837057; elapsed: 0.0373secs\n",
      "iteration [90]; kl:7713.634061; elapsed: 0.0369secs\n",
      "iteration [91]; kl:7711.367444; elapsed: 0.0337secs\n",
      "iteration [92]; kl:7707.26852; elapsed: 0.0403secs\n",
      "iteration [93]; kl:7704.277411; elapsed: 0.0386secs\n",
      "iteration [94]; kl:7701.633256; elapsed: 0.0373secs\n",
      "iteration [95]; kl:7699.629801; elapsed: 0.0336secs\n",
      "iteration [96]; kl:7694.503406; elapsed: 0.037secs\n",
      "iteration [97]; kl:7690.185814; elapsed: 0.0371secs\n",
      "iteration [98]; kl:7685.6645; elapsed: 0.035secs\n",
      "iteration [99]; kl:7675.452862; elapsed: 0.0437secs\n",
      "iteration [100]; kl:7666.562052; elapsed: 0.0371secs\n",
      "iteration [101]; kl:7657.565928; elapsed: 0.0337secs\n",
      "iteration [102]; kl:7650.040216; elapsed: 0.0334secs\n",
      "iteration [103]; kl:7626.549635; elapsed: 0.0369secs\n",
      "iteration [104]; kl:7611.412058; elapsed: 0.0348secs\n",
      "iteration [105]; kl:7591.418032; elapsed: 0.0412secs\n",
      "iteration [106]; kl:7581.661388; elapsed: 0.037secs\n",
      "iteration [107]; kl:7575.945664; elapsed: 0.0373secs\n",
      "iteration [108]; kl:7571.193118; elapsed: 0.0376secs\n",
      "iteration [109]; kl:7567.910766; elapsed: 0.0374secs\n",
      "iteration [110]; kl:7565.042477; elapsed: 0.0409secs\n",
      "iteration [111]; kl:7563.13873; elapsed: 0.0399secs\n",
      "iteration [112]; kl:7561.325451; elapsed: 0.0415secs\n",
      "iteration [113]; kl:7560.249538; elapsed: 0.043secs\n",
      "iteration [114]; kl:7559.04061; elapsed: 0.0429secs\n",
      "iteration [115]; kl:7558.46836; elapsed: 0.0429secs\n",
      "iteration [116]; kl:7557.612877; elapsed: 0.0477secs\n",
      "iteration [117]; kl:7555.758205; elapsed: 0.0493secs\n",
      "iteration [118]; kl:7554.774719; elapsed: 0.0376secs\n",
      "iteration [119]; kl:7554.108336; elapsed: 0.0492secs\n",
      "iteration [120]; kl:7553.976217; elapsed: 0.0409secs\n",
      "iteration [121]; kl:7553.556655; elapsed: 0.05secs\n",
      "iteration [122]; kl:7553.483743; elapsed: 0.0426secs\n",
      "iteration [123]; kl:7553.454306; elapsed: 0.0469secs\n",
      "iteration [124]; kl:7553.362517; elapsed: 0.052secs\n",
      "iteration [125]; kl:7553.309421; elapsed: 0.0433secs\n",
      "iteration [126]; kl:7553.223888; elapsed: 0.0515secs\n",
      "iteration [127]; kl:7553.201565; elapsed: 0.0432secs\n",
      "iteration [128]; kl:7553.192775; elapsed: 0.0474secs\n",
      "iteration [129]; kl:7553.171337; elapsed: 0.0525secs\n",
      "iteration [130]; kl:7553.155112; elapsed: 0.044secs\n",
      "iteration [131]; kl:7553.131772; elapsed: 0.053secs\n",
      "iteration [132]; kl:7553.125892; elapsed: 0.0434secs\n",
      "iteration [133]; kl:7553.123732; elapsed: 0.0483secs\n",
      "iteration [134]; kl:7553.116052; elapsed: 0.0548secs\n",
      "iteration [135]; kl:7553.111797; elapsed: 0.0448secs\n",
      "iteration [136]; kl:7553.103808; elapsed: 0.0527secs\n",
      "iteration [137]; kl:7553.1018; elapsed: 0.0434secs\n",
      "iteration [138]; kl:7553.10098; elapsed: 0.0476secs\n",
      "iteration [139]; kl:7553.098602; elapsed: 0.0527secs\n",
      "iteration [140]; kl:7553.096965; elapsed: 0.0443secs\n",
      "iteration [141]; kl:7553.09431; elapsed: 0.0544secs\n",
      "iteration [142]; kl:7553.093548; elapsed: 0.0449secs\n",
      "iteration [143]; kl:7553.093239; elapsed: 0.0494secs\n",
      "iteration [144]; kl:7553.092342; elapsed: 0.0539secs\n",
      "iteration [145]; kl:7553.091598; elapsed: 0.0451secs\n",
      "iteration [146]; kl:7553.090631; elapsed: 0.0539secs\n",
      "iteration [147]; kl:7553.09045; elapsed: 0.0397secs\n",
      "iteration [148]; kl:7553.089571; elapsed: 0.0523secs\n",
      "iteration [149]; kl:7553.089368; elapsed: 0.049secs\n",
      "iteration [150]; kl:7553.089274; elapsed: 0.0489secs\n",
      "iteration [151]; kl:7553.089022; elapsed: 0.0537secs\n",
      "iteration [152]; kl:7553.088804; elapsed: 0.0393secs\n",
      "iteration [153]; kl:7553.088512; elapsed: 0.053secs\n",
      "iteration [154]; kl:7553.088453; elapsed: 0.0434secs\n",
      "iteration [155]; kl:7553.088168; elapsed: 0.057secs\n",
      "iteration [156]; kl:7553.088098; elapsed: 0.0449secs\n",
      "iteration [157]; kl:7553.088066; elapsed: 0.0491secs\n"
     ]
    },
    {
     "name": "stdout",
     "output_type": "stream",
     "text": [
      "iteration [158]; kl:7553.087978; elapsed: 0.0528secs\n",
      "iteration [159]; kl:7553.087893; elapsed: 0.0438secs\n",
      "iteration [160]; kl:7553.087793; elapsed: 0.0521secs\n",
      "iteration [161]; kl:7553.087757; elapsed: 0.0388secs\n",
      "iteration [162]; kl:7553.087663; elapsed: 0.0522secs\n",
      "iteration [163]; kl:7553.087649; elapsed: 0.0438secs\n",
      "iteration [164]; kl:7553.087568; elapsed: 0.0542secs\n",
      "iteration [165]; kl:7553.087547; elapsed: 0.0447secs\n",
      "iteration [166]; kl:7553.087537; elapsed: 0.0496secs\n",
      "iteration [167]; kl:7553.087513; elapsed: 0.0523secs\n",
      "iteration [168]; kl:7553.087486; elapsed: 0.0453secs\n",
      "iteration [169]; kl:7553.087458; elapsed: 0.0539secs\n",
      "iteration [170]; kl:7553.087445; elapsed: 0.0403secs\n",
      "iteration [171]; kl:7553.087418; elapsed: 0.0536secs\n",
      "iteration [172]; kl:7553.087412; elapsed: 0.0402secs\n",
      "iteration [173]; kl:7553.087388; elapsed: 0.0561secs\n",
      "iteration [174]; kl:7553.087381; elapsed: 0.0437secs\n",
      "iteration [175]; kl:7553.087378; elapsed: 0.0492secs\n",
      "iteration [176]; kl:7553.087376; elapsed: 0.0484secs\n",
      "iteration [177]; kl:7553.087366; elapsed: 0.0526secs\n",
      "iteration [178]; kl:7553.087359; elapsed: 0.0443secs\n",
      "iteration [179]; kl:7553.087349; elapsed: 0.0548secs\n",
      "iteration [180]; kl:7553.087345; elapsed: 0.0415secs\n",
      "iteration [181]; kl:7553.087336; elapsed: 0.054secs\n",
      "iteration [182]; kl:7553.087334; elapsed: 0.0401secs\n",
      "iteration [183]; kl:7553.087327; elapsed: 0.0562secs\n",
      "iteration [184]; kl:7553.087326; elapsed: 0.0404secs\n",
      "iteration [185]; kl:7553.087319; elapsed: 0.0523secs\n",
      "iteration [186]; kl:7553.087318; elapsed: 0.0439secs\n",
      "CAVI done.\n",
      "Elapsed: 186 steps in 7.83 seconds\n"
     ]
    }
   ],
   "source": [
    "# get beta parameters for sticks and populations\n",
    "debug = False\n",
    "vb_opt_dict, vb_opt, kl_vec, _ = \\\n",
    "    cavi_lib.run_cavi(g_obs, vb_params_dict, \n",
    "                        vb_params_paragami, \n",
    "                        prior_params_dict,\n",
    "                        gh_loc = gh_loc, gh_weights = gh_weights,\n",
    "                        max_iter = 1000,\n",
    "                        x_tol = 1e-3, \n",
    "                        print_every = 1, \n",
    "                        debug = debug)\n"
   ]
  },
  {
   "cell_type": "code",
   "execution_count": null,
   "metadata": {},
   "outputs": [],
   "source": []
  },
  {
   "cell_type": "code",
   "execution_count": null,
   "metadata": {},
   "outputs": [],
   "source": []
  },
  {
   "cell_type": "markdown",
   "metadata": {},
   "source": [
    "# Check out the fit"
   ]
  },
  {
   "cell_type": "code",
   "execution_count": 16,
   "metadata": {},
   "outputs": [
    {
     "data": {
      "text/plain": [
       "<matplotlib.image.AxesImage at 0x7faf0c46e460>"
      ]
     },
     "execution_count": 16,
     "metadata": {},
     "output_type": "execute_result"
    },
    {
     "data": {
      "image/png": "[encoded data removed]",
      "text/plain": [
       "<Figure size 1152x144 with 1 Axes>"
      ]
     },
     "metadata": {
      "needs_background": "light"
     },
     "output_type": "display_data"
    }
   ],
   "source": [
    "# truth\n",
    "plt.matshow(true_ind_admix_propn.T)"
   ]
  },
  {
   "cell_type": "code",
   "execution_count": 17,
   "metadata": {},
   "outputs": [
    {
     "data": {
      "text/plain": [
       "<matplotlib.image.AxesImage at 0x7faf0c3e83d0>"
      ]
     },
     "execution_count": 17,
     "metadata": {},
     "output_type": "execute_result"
    },
    {
     "data": {
      "image/png": "[encoded data removed]",
      "text/plain": [
       "<Figure size 1152x276.48 with 1 Axes>"
      ]
     },
     "metadata": {
      "needs_background": "light"
     },
     "output_type": "display_data"
    }
   ],
   "source": [
    "# fitted\n",
    "e_ind_admix = get_vb_expectations(vb_opt_dict, use_logitnormal_sticks)[0]\n",
    "plt.matshow(e_ind_admix.T)"
   ]
  },
  {
   "cell_type": "code",
   "execution_count": null,
   "metadata": {},
   "outputs": [],
   "source": []
  },
  {
   "cell_type": "code",
   "execution_count": null,
   "metadata": {},
   "outputs": [],
   "source": []
  },
  {
   "cell_type": "code",
   "execution_count": null,
   "metadata": {},
   "outputs": [],
   "source": []
  },
  {
   "cell_type": "markdown",
   "metadata": {},
   "source": [
    "# Define prior perturbation"
   ]
  },
  {
   "cell_type": "code",
   "execution_count": 18,
   "metadata": {},
   "outputs": [],
   "source": [
    "import bnpmodeling_runjingdev.functional_sensitivity_lib as func_sens_lib"
   ]
  },
  {
   "cell_type": "code",
   "execution_count": 19,
   "metadata": {},
   "outputs": [],
   "source": [
    "def log_phi(logit_v):\n",
    "    return(sp.special.expit(-logit_v))\n",
    "\n",
    "def phi(logit_v):\n",
    "    return np.exp(log_phi(logit_v))\n"
   ]
  },
  {
   "cell_type": "code",
   "execution_count": 20,
   "metadata": {},
   "outputs": [],
   "source": [
    "logit_v_grid = np.linspace(-8, 8, 200)\n",
    "\n",
    "v_grid = np.exp(logit_v_grid) / (1 + np.exp(logit_v_grid))\n",
    "\n",
    "log_phi_max = np.max(np.abs(np.log(phi(logit_v_grid))))\n",
    "\n",
    "def rescaled_log_phi(logit_v):\n",
    "    return 2 * log_phi(logit_v) / log_phi_max\n"
   ]
  },
  {
   "cell_type": "code",
   "execution_count": 21,
   "metadata": {},
   "outputs": [
    {
     "name": "stdout",
     "output_type": "stream",
     "text": [
      "-1.0986122886681098 1.5674499614238597 -1.0996184973479006 1.5669044626347488\n"
     ]
    }
   ],
   "source": [
    "prior_perturbation = func_sens_lib.PriorPerturbation(\n",
    "                                alpha0 = prior_params_dict['dp_prior_alpha'],\n",
    "                                log_phi = rescaled_log_phi, \n",
    "                                logit_v_ub=8, logit_v_lb = -8)\n",
    "\n",
    "print(\n",
    "    prior_perturbation.log_norm_p0,\n",
    "    prior_perturbation.log_norm_pc,\n",
    "    prior_perturbation.log_norm_p0_logit,\n",
    "    prior_perturbation.log_norm_pc_logit)\n"
   ]
  },
  {
   "cell_type": "code",
   "execution_count": 22,
   "metadata": {},
   "outputs": [
    {
     "data": {
      "text/plain": [
       "Text(0.5, 1.0, 'Priors in logit space')"
      ]
     },
     "execution_count": 22,
     "metadata": {},
     "output_type": "execute_result"
    },
    {
     "data": {
      "image/png": "[encoded data removed]",
      "text/plain": [
       "<Figure size 1296x360 with 4 Axes>"
      ]
     },
     "metadata": {
      "needs_background": "light"
     },
     "output_type": "display_data"
    }
   ],
   "source": [
    "prior_perturbation.set_epsilon(1.0)\n",
    "\n",
    "plt.figure(1, figsize=(18, 5))\n",
    "\n",
    "plt.subplot(141)\n",
    "plt.plot(logit_v_grid, prior_perturbation.get_log_p0_logit(logit_v_grid))\n",
    "plt.plot(logit_v_grid, prior_perturbation.get_log_pc_logit(logit_v_grid))\n",
    "plt.title('Log priors in logit space')\n",
    "\n",
    "plt.subplot(142)\n",
    "plt.plot(logit_v_grid, prior_perturbation.log_phi(logit_v_grid))\n",
    "plt.title('log phi in logit space')\n",
    "\n",
    "plt.subplot(143)\n",
    "plt.plot(v_grid, np.exp(prior_perturbation.get_log_p0(v_grid)))\n",
    "plt.plot(v_grid, np.exp(prior_perturbation.get_log_pc(v_grid)))\n",
    "plt.title('Priors in stick space')\n",
    "\n",
    "plt.subplot(144)\n",
    "plt.plot(logit_v_grid, np.exp(prior_perturbation.get_log_p0_logit(logit_v_grid)))\n",
    "plt.plot(logit_v_grid, np.exp(prior_perturbation.get_log_pc_logit(logit_v_grid)))\n",
    "plt.title('Priors in logit space')\n"
   ]
  },
  {
   "cell_type": "code",
   "execution_count": 23,
   "metadata": {},
   "outputs": [],
   "source": [
    "log_prior_pert = lambda logit_v : rescaled_log_phi(logit_v) - prior_perturbation.log_norm_pc_logit"
   ]
  },
  {
   "cell_type": "code",
   "execution_count": 24,
   "metadata": {},
   "outputs": [
    {
     "data": {
      "text/plain": [
       "DeviceArray(1.56690446, dtype=float64)"
      ]
     },
     "execution_count": 24,
     "metadata": {},
     "output_type": "execute_result"
    }
   ],
   "source": [
    "prior_perturbation.log_norm_pc_logit"
   ]
  },
  {
   "cell_type": "code",
   "execution_count": 25,
   "metadata": {},
   "outputs": [],
   "source": [
    "# we will use theses for the sensitivity class\n",
    "get_epsilon_vb_loss = paragami.FlattenFunctionInput(\n",
    "    lambda params, epsilon: structure_model_lib.get_kl(\n",
    "                                                        g_obs, \n",
    "                                                        params,\n",
    "                                                        prior_params_dict,\n",
    "                                                        epsilon = epsilon,\n",
    "                                                        gh_loc = gh_loc,\n",
    "                                                        gh_weights = gh_weights,\n",
    "                                                        log_phi = log_prior_pert,\n",
    "                                                        ),\n",
    "    argnums=0, patterns=vb_params_paragami, free=True)\n",
    "    \n",
    "def get_e_log_perturbation(log_phi, vb_params_dict, epsilon, gh_loc, gh_weights): \n",
    "    return func_sens_lib.get_e_log_perturbation(log_phi,\n",
    "                            vb_params_dict['ind_mix_stick_propn_mean'],\n",
    "                            vb_params_dict['ind_mix_stick_propn_info'],\n",
    "                            epsilon, gh_loc, gh_weights, sum_vector=True)\n",
    "\n",
    "\n",
    "hyper_par_objective_fun = paragami.FlattenFunctionInput(\n",
    "    lambda params, epsilon: get_e_log_perturbation(log_prior_pert, \n",
    "                                                    params,\n",
    "                                                    epsilon,\n",
    "                                                    gh_loc, gh_weights),\n",
    "    argnums=0, patterns=vb_params_paragami, free=True)"
   ]
  },
  {
   "cell_type": "code",
   "execution_count": 26,
   "metadata": {},
   "outputs": [],
   "source": [
    "epsilon0 = np.array([0.])"
   ]
  },
  {
   "cell_type": "code",
   "execution_count": 27,
   "metadata": {},
   "outputs": [
    {
     "name": "stdout",
     "output_type": "stream",
     "text": [
      "preconditioner time: 0.504sec\n"
     ]
    }
   ],
   "source": [
    "t0 = time.time()\n",
    "mfvb_preconditioner = \\\n",
    "    get_mfvb_cov(vb_opt_dict, vb_params_paragami, use_logitnormal_sticks, return_info = True)\n",
    "\n",
    "print('preconditioner time: {:0.3}sec'.format(time.time() - t0))"
   ]
  },
  {
   "cell_type": "code",
   "execution_count": 28,
   "metadata": {},
   "outputs": [],
   "source": [
    "import vittles"
   ]
  },
  {
   "cell_type": "code",
   "execution_count": 29,
   "metadata": {},
   "outputs": [],
   "source": [
    "# get hessian-vector product\n",
    "def get_jac_hvp_fun(f):\n",
    "    def hvp(x, v):\n",
    "        return jax.jvp(jax.grad(f), (x, ), (v, ))[1]\n",
    "    return hvp"
   ]
  },
  {
   "cell_type": "code",
   "execution_count": 30,
   "metadata": {},
   "outputs": [],
   "source": [
    "obj_fun_hvp = jax.jit(get_jac_hvp_fun(lambda x : get_epsilon_vb_loss(x, epsilon0)))"
   ]
  },
  {
   "cell_type": "code",
   "execution_count": 31,
   "metadata": {},
   "outputs": [],
   "source": [
    "cg_solver = vittles.solver_lib.get_cg_solver(lambda x : obj_fun_hvp(vb_opt, x), \n",
    "                                            dim = len(vb_opt), \n",
    "                                            cg_opts = {'M': mfvb_preconditioner})\n"
   ]
  },
  {
   "cell_type": "code",
   "execution_count": 32,
   "metadata": {},
   "outputs": [
    {
     "name": "stdout",
     "output_type": "stream",
     "text": [
      "Compiling objective function derivatives ... \n",
      "Compile time: 0.252sec\n",
      "\n",
      "Objective function derivative time: 0.000499sec\n",
      "\n",
      "Linear system compile time: 0.787sec\n",
      "Linear system time: 0.818sec\n"
     ]
    }
   ],
   "source": [
    "epsilon_sens = HyperparameterSensitivityLinearApproximation(get_epsilon_vb_loss,\n",
    "                                                        vb_opt,\n",
    "                                                        epsilon0, \n",
    "                                                        hyper_par_objective_fun = hyper_par_objective_fun,\n",
    "                                                        hess_solver = cg_solver)\n"
   ]
  },
  {
   "cell_type": "code",
   "execution_count": null,
   "metadata": {},
   "outputs": [],
   "source": []
  },
  {
   "cell_type": "markdown",
   "metadata": {},
   "source": [
    "# Fit with perturbation"
   ]
  },
  {
   "cell_type": "code",
   "execution_count": 33,
   "metadata": {},
   "outputs": [
    {
     "name": "stdout",
     "output_type": "stream",
     "text": [
      "Epsilon:  1.0\n",
      "Predicted differences:  12.638653799404272\n"
     ]
    }
   ],
   "source": [
    "epsilon = 1.0\n",
    "print('Epsilon: ', epsilon)\n",
    "\n",
    "lr_vb_free_params = epsilon_sens.predict_opt_par_from_hyper_par(epsilon)\n",
    "\n",
    "print('Predicted differences: ', np.linalg.norm(lr_vb_free_params - vb_opt))"
   ]
  },
  {
   "cell_type": "code",
   "execution_count": 34,
   "metadata": {},
   "outputs": [],
   "source": [
    "vb_pert_pred_dict = vb_params_paragami.fold(lr_vb_free_params, free = True)"
   ]
  },
  {
   "cell_type": "code",
   "execution_count": 35,
   "metadata": {},
   "outputs": [],
   "source": [
    "new_init_dict = deepcopy(vb_opt_dict)\n",
    "new_init_free = vb_params_paragami.flatten(new_init_dict, free = True)"
   ]
  },
  {
   "cell_type": "code",
   "execution_count": 36,
   "metadata": {},
   "outputs": [
    {
     "name": "stdout",
     "output_type": "stream",
     "text": [
      "CAVI compile time: 5.41sec\n",
      "\n",
      " running CAVI ...\n",
      "iteration [1]; kl:7650.923984; elapsed: 0.0391secs\n",
      "iteration [2]; kl:7641.540516; elapsed: 0.0445secs\n",
      "iteration [3]; kl:7639.379688; elapsed: 0.0447secs\n",
      "iteration [4]; kl:7638.406773; elapsed: 0.0445secs\n",
      "iteration [5]; kl:7637.839191; elapsed: 0.0491secs\n",
      "iteration [6]; kl:7637.353149; elapsed: 0.0499secs\n",
      "iteration [7]; kl:7635.955847; elapsed: 0.0535secs\n",
      "iteration [8]; kl:7635.575056; elapsed: 0.0386secs\n",
      "iteration [9]; kl:7634.973002; elapsed: 0.0514secs\n",
      "iteration [10]; kl:7634.918041; elapsed: 0.0447secs\n",
      "iteration [11]; kl:7634.593962; elapsed: 0.0523secs\n",
      "iteration [12]; kl:7634.571137; elapsed: 0.0385secs\n",
      "iteration [13]; kl:7634.383421; elapsed: 0.0539secs\n",
      "iteration [14]; kl:7634.372508; elapsed: 0.0397secs\n",
      "iteration [15]; kl:7634.24995; elapsed: 0.0599secs\n",
      "iteration [16]; kl:7634.218215; elapsed: 0.045secs\n",
      "iteration [17]; kl:7634.200461; elapsed: 0.0486secs\n",
      "iteration [18]; kl:7634.190068; elapsed: 0.0485secs\n",
      "iteration [19]; kl:7634.182418; elapsed: 0.0487secs\n",
      "iteration [20]; kl:7634.145442; elapsed: 0.0582secs\n",
      "iteration [21]; kl:7634.112563; elapsed: 0.0399secs\n",
      "iteration [22]; kl:7634.086261; elapsed: 0.053secs\n",
      "iteration [23]; kl:7634.058606; elapsed: 0.0398secs\n",
      "iteration [24]; kl:7634.053885; elapsed: 0.049secs\n",
      "iteration [25]; kl:7634.034985; elapsed: 0.0585secs\n",
      "iteration [26]; kl:7634.019956; elapsed: 0.0403secs\n",
      "iteration [27]; kl:7634.002951; elapsed: 0.0529secs\n",
      "iteration [28]; kl:7633.989013; elapsed: 0.0422secs\n",
      "iteration [29]; kl:7633.976461; elapsed: 0.0533secs\n",
      "iteration [30]; kl:7633.961807; elapsed: 0.0451secs\n",
      "iteration [31]; kl:7633.958801; elapsed: 0.0495secs\n",
      "iteration [32]; kl:7633.948474; elapsed: 0.0533secs\n",
      "iteration [33]; kl:7633.936376; elapsed: 0.0395secs\n",
      "iteration [34]; kl:7633.927317; elapsed: 0.0533secs\n",
      "iteration [35]; kl:7633.913367; elapsed: 0.0443secs\n",
      "iteration [36]; kl:7633.910134; elapsed: 0.0488secs\n",
      "iteration [37]; kl:7633.908164; elapsed: 0.0486secs\n",
      "iteration [38]; kl:7633.897906; elapsed: 0.0532secs\n",
      "iteration [39]; kl:7633.885579; elapsed: 0.0398secs\n",
      "iteration [40]; kl:7633.882951; elapsed: 0.0544secs\n",
      "iteration [41]; kl:7633.873248; elapsed: 0.0555secs\n",
      "iteration [42]; kl:7633.86228; elapsed: 0.0411secs\n",
      "iteration [43]; kl:7633.853308; elapsed: 0.054secs\n",
      "iteration [44]; kl:7633.840817; elapsed: 0.0394secs\n",
      "iteration [45]; kl:7633.838219; elapsed: 0.0541secs\n",
      "iteration [46]; kl:7633.829844; elapsed: 0.0541secs\n",
      "iteration [47]; kl:7633.819097; elapsed: 0.0401secs\n",
      "iteration [48]; kl:7633.817174; elapsed: 0.05secs\n",
      "iteration [49]; kl:7633.808184; elapsed: 0.056secs\n",
      "iteration [50]; kl:7633.80027; elapsed: 0.0459secs\n",
      "iteration [51]; kl:7633.792278; elapsed: 0.0548secs\n",
      "iteration [52]; kl:7633.784199; elapsed: 0.0408secs\n",
      "iteration [53]; kl:7633.778393; elapsed: 0.0548secs\n",
      "iteration [54]; kl:7633.770491; elapsed: 0.0395secs\n",
      "iteration [55]; kl:7633.769032; elapsed: 0.0545secs\n",
      "iteration [56]; kl:7633.764406; elapsed: 0.0556secs\n",
      "iteration [57]; kl:7633.759158; elapsed: 0.0435secs\n",
      "iteration [58]; kl:7633.755187; elapsed: 0.0609secs\n",
      "iteration [59]; kl:7633.750539; elapsed: 0.0412secs\n",
      "iteration [60]; kl:7633.749768; elapsed: 0.0558secs\n",
      "iteration [61]; kl:7633.746443; elapsed: 0.055secs\n",
      "iteration [62]; kl:7633.743883; elapsed: 0.0407secs\n",
      "iteration [63]; kl:7633.74095; elapsed: 0.0572secs\n",
      "iteration [64]; kl:7633.738778; elapsed: 0.045secs\n",
      "iteration [65]; kl:7633.736703; elapsed: 0.0548secs\n",
      "iteration [66]; kl:7633.734776; elapsed: 0.0409secs\n",
      "iteration [67]; kl:7633.733462; elapsed: 0.0563secs\n",
      "iteration [68]; kl:7633.731845; elapsed: 0.0462secs\n",
      "iteration [69]; kl:7633.731565; elapsed: 0.0514secs\n",
      "iteration [70]; kl:7633.73057; elapsed: 0.0547secs\n",
      "iteration [71]; kl:7633.729695; elapsed: 0.0406secs\n",
      "iteration [72]; kl:7633.728842; elapsed: 0.0549secs\n",
      "iteration [73]; kl:7633.728142; elapsed: 0.0471secs\n",
      "iteration [74]; kl:7633.72755; elapsed: 0.0568secs\n",
      "iteration [75]; kl:7633.726954; elapsed: 0.041secs\n",
      "iteration [76]; kl:7633.726847; elapsed: 0.0498secs\n",
      "iteration [77]; kl:7633.726419; elapsed: 0.0634secs\n",
      "iteration [78]; kl:7633.726134; elapsed: 0.0401secs\n",
      "iteration [79]; kl:7633.725751; elapsed: 0.053secs\n",
      "iteration [80]; kl:7633.725526; elapsed: 0.0401secs\n",
      "iteration [81]; kl:7633.725257; elapsed: 0.0535secs\n",
      "iteration [82]; kl:7633.725063; elapsed: 0.0473secs\n",
      "iteration [83]; kl:7633.724891; elapsed: 0.0532secs\n",
      "iteration [84]; kl:7633.724734; elapsed: 0.0394secs\n",
      "iteration [85]; kl:7633.724697; elapsed: 0.0491secs\n",
      "iteration [86]; kl:7633.724573; elapsed: 0.0535secs\n",
      "iteration [87]; kl:7633.724497; elapsed: 0.0476secs\n",
      "iteration [88]; kl:7633.724387; elapsed: 0.0541secs\n",
      "iteration [89]; kl:7633.724325; elapsed: 0.0423secs\n",
      "iteration [90]; kl:7633.724249; elapsed: 0.0529secs\n",
      "iteration [91]; kl:7633.724197; elapsed: 0.0397secs\n",
      "iteration [92]; kl:7633.724147; elapsed: 0.0578secs\n",
      "iteration [93]; kl:7633.724106; elapsed: 0.0395secs\n",
      "iteration [94]; kl:7633.724092; elapsed: 0.0481secs\n",
      "iteration [95]; kl:7633.724058; elapsed: 0.0527secs\n",
      "iteration [96]; kl:7633.724037; elapsed: 0.0393secs\n",
      "iteration [97]; kl:7633.724006; elapsed: 0.0583secs\n",
      "iteration [98]; kl:7633.72399; elapsed: 0.0429secs\n",
      "iteration [99]; kl:7633.723968; elapsed: 0.0559secs\n",
      "iteration [100]; kl:7633.723956; elapsed: 0.0414secs\n",
      "iteration [101]; kl:7633.72395; elapsed: 0.0485secs\n",
      "iteration [102]; kl:7633.723934; elapsed: 0.0615secs\n",
      "iteration [103]; kl:7633.723928; elapsed: 0.0399secs\n",
      "iteration [104]; kl:7633.723914; elapsed: 0.0533secs\n",
      "iteration [105]; kl:7633.72391; elapsed: 0.0396secs\n",
      "iteration [106]; kl:7633.723899; elapsed: 0.0532secs\n",
      "iteration [107]; kl:7633.723896; elapsed: 0.0435secs\n",
      "iteration [108]; kl:7633.723893; elapsed: 0.0503secs\n",
      "iteration [109]; kl:7633.723886; elapsed: 0.0539secs\n",
      "iteration [110]; kl:7633.723885; elapsed: 0.0403secs\n",
      "iteration [111]; kl:7633.723878; elapsed: 0.0534secs\n",
      "iteration [112]; kl:7633.723878; elapsed: 0.0502secs\n",
      "iteration [113]; kl:7633.723873; elapsed: 0.0564secs\n",
      "iteration [114]; kl:7633.723871; elapsed: 0.0456secs\n",
      "CAVI done.\n",
      "Elapsed: 114 steps in 5.55 seconds\n"
     ]
    }
   ],
   "source": [
    "vb_pert_dict, vb_opt_pert, _, _ = \\\n",
    "    cavi_lib.run_cavi(g_obs, deepcopy(new_init_dict), \n",
    "                        vb_params_paragami, \n",
    "                        prior_params_dict,\n",
    "                        gh_loc = gh_loc, gh_weights = gh_weights,\n",
    "                        max_iter = 1000,\n",
    "                        x_tol = 1e-3, \n",
    "                        print_every = 1, \n",
    "                        epsilon = epsilon, log_phi = log_prior_pert)\n"
   ]
  },
  {
   "cell_type": "code",
   "execution_count": 37,
   "metadata": {},
   "outputs": [
    {
     "data": {
      "text/plain": [
       "DeviceArray(2.09458171, dtype=float64)"
      ]
     },
     "execution_count": 37,
     "metadata": {},
     "output_type": "execute_result"
    }
   ],
   "source": [
    "(vb_opt**2).mean()"
   ]
  },
  {
   "cell_type": "code",
   "execution_count": 38,
   "metadata": {},
   "outputs": [
    {
     "data": {
      "text/plain": [
       "DeviceArray(2.30424174, dtype=float64)"
      ]
     },
     "execution_count": 38,
     "metadata": {},
     "output_type": "execute_result"
    }
   ],
   "source": [
    "(lr_vb_free_params**2).mean()"
   ]
  },
  {
   "cell_type": "code",
   "execution_count": 39,
   "metadata": {},
   "outputs": [
    {
     "data": {
      "text/plain": [
       "DeviceArray(2.28030856, dtype=float64)"
      ]
     },
     "execution_count": 39,
     "metadata": {},
     "output_type": "execute_result"
    }
   ],
   "source": [
    "(vb_opt_pert**2).mean()"
   ]
  },
  {
   "cell_type": "code",
   "execution_count": null,
   "metadata": {},
   "outputs": [],
   "source": []
  },
  {
   "cell_type": "code",
   "execution_count": null,
   "metadata": {},
   "outputs": [],
   "source": []
  }
 ],
 "metadata": {
  "kernelspec": {
   "display_name": "bnp_sensitivity_jax",
   "language": "python",
   "name": "bnp_sensitivity_jax"
  },
  "language_info": {
   "codemirror_mode": {
    "name": "ipython",
    "version": 3
   },
   "file_extension": ".py",
   "mimetype": "text/x-python",
   "name": "python",
   "nbconvert_exporter": "python",
   "pygments_lexer": "ipython3",
   "version": "3.8.0"
  }
 },
 "nbformat": 4,
 "nbformat_minor": 2
}
