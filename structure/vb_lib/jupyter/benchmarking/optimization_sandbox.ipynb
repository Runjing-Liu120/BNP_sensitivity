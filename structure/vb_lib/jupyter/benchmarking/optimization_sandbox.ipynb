{
 "cells": [
  {
   "cell_type": "code",
   "execution_count": 1,
   "metadata": {},
   "outputs": [
    {
     "name": "stderr",
     "output_type": "stream",
     "text": [
      "/accounts/grad/runjing_liu/.conda/envs/bnp_sensitivity_jax/lib/python3.8/site-packages/jax/lib/xla_bridge.py:130: UserWarning: No GPU/TPU found, falling back to CPU.\n",
      "  warnings.warn('No GPU/TPU found, falling back to CPU.')\n"
     ]
    }
   ],
   "source": [
    "import jax\n",
    "\n",
    "import jax.numpy as np\n",
    "import jax.scipy as sp\n",
    "\n",
    "from numpy.polynomial.hermite import hermgauss\n",
    "from scipy import optimize\n",
    "\n",
    "from vb_lib import structure_model_lib, data_utils, plotting_utils\n",
    "import vb_lib.structure_optimization_lib as s_optim_lib \n",
    "import vb_lib.structure_preconditioned_optimization_lib as s_poptim_lib \n",
    "\n",
    "import paragami\n",
    "\n",
    "from copy import deepcopy\n",
    "\n",
    "import time\n",
    "\n",
    "import matplotlib.pyplot as plt\n",
    "%matplotlib inline  \n",
    "\n",
    "from bnpmodeling_runjingdev import cluster_quantities_lib, modeling_lib\n"
   ]
  },
  {
   "cell_type": "code",
   "execution_count": 2,
   "metadata": {},
   "outputs": [],
   "source": [
    "import numpy as onp\n",
    "onp.random.seed(53453)"
   ]
  },
  {
   "cell_type": "markdown",
   "metadata": {},
   "source": [
    "# Draw data"
   ]
  },
  {
   "cell_type": "code",
   "execution_count": 3,
   "metadata": {},
   "outputs": [],
   "source": [
    "n_obs = 50\n",
    "n_loci = 100\n",
    "n_pop = 4"
   ]
  },
  {
   "cell_type": "code",
   "execution_count": 4,
   "metadata": {},
   "outputs": [
    {
     "name": "stdout",
     "output_type": "stream",
     "text": [
      "Generating datapoints  0  to  50\n"
     ]
    }
   ],
   "source": [
    "g_obs, true_pop_allele_freq, true_ind_admix_propn = \\\n",
    "    data_utils.draw_data(n_obs, n_loci, n_pop)"
   ]
  },
  {
   "cell_type": "code",
   "execution_count": 5,
   "metadata": {},
   "outputs": [],
   "source": [
    "g_obs = np.array(g_obs)"
   ]
  },
  {
   "cell_type": "code",
   "execution_count": 6,
   "metadata": {
    "scrolled": true
   },
   "outputs": [
    {
     "data": {
      "text/plain": [
       "Text(0.5, 0, 'individual')"
      ]
     },
     "execution_count": 6,
     "metadata": {},
     "output_type": "execute_result"
    },
    {
     "data": {
      "image/png": "[encoded data removed]",
      "text/plain": [
       "<Figure size 1152x144 with 1 Axes>"
      ]
     },
     "metadata": {
      "needs_background": "light"
     },
     "output_type": "display_data"
    }
   ],
   "source": [
    "plt.matshow(true_ind_admix_propn.T)\n",
    "plt.ylabel('population')\n",
    "plt.xlabel('individual')"
   ]
  },
  {
   "cell_type": "code",
   "execution_count": 7,
   "metadata": {
    "scrolled": true
   },
   "outputs": [
    {
     "data": {
      "text/plain": [
       "(50, 100, 3)"
      ]
     },
     "execution_count": 7,
     "metadata": {},
     "output_type": "execute_result"
    }
   ],
   "source": [
    "g_obs.shape"
   ]
  },
  {
   "cell_type": "markdown",
   "metadata": {},
   "source": [
    "# Get prior"
   ]
  },
  {
   "cell_type": "code",
   "execution_count": 8,
   "metadata": {},
   "outputs": [
    {
     "name": "stdout",
     "output_type": "stream",
     "text": [
      "OrderedDict:\n",
      "\t[dp_prior_alpha] = NumericArrayPattern (1,) (lb=0.0, ub=inf)\n",
      "\t[allele_prior_alpha] = NumericArrayPattern (1,) (lb=0.0, ub=inf)\n",
      "\t[allele_prior_beta] = NumericArrayPattern (1,) (lb=0.0, ub=inf)\n"
     ]
    }
   ],
   "source": [
    "prior_params_dict, prior_params_paragami = \\\n",
    "    structure_model_lib.get_default_prior_params()\n",
    "\n",
    "print(prior_params_paragami)\n",
    "\n",
    "prior_params_free = prior_params_paragami.flatten(prior_params_dict, free = True)"
   ]
  },
  {
   "cell_type": "markdown",
   "metadata": {},
   "source": [
    "# Get VB params "
   ]
  },
  {
   "cell_type": "code",
   "execution_count": 9,
   "metadata": {},
   "outputs": [],
   "source": [
    "k_approx = 8"
   ]
  },
  {
   "cell_type": "code",
   "execution_count": 10,
   "metadata": {},
   "outputs": [],
   "source": [
    "gh_deg = 8\n",
    "gh_loc, gh_weights = hermgauss(8)"
   ]
  },
  {
   "cell_type": "code",
   "execution_count": 11,
   "metadata": {
    "scrolled": true
   },
   "outputs": [
    {
     "name": "stdout",
     "output_type": "stream",
     "text": [
      "OrderedDict:\n",
      "\t[pop_freq_beta_params] = NumericArrayPattern (100, 8, 2) (lb=0.0, ub=inf)\n",
      "\t[ind_admix_params] = OrderedDict:\n",
      "\t[stick_means] = NumericArrayPattern (50, 7) (lb=-inf, ub=inf)\n",
      "\t[stick_infos] = NumericArrayPattern (50, 7) (lb=0.0001, ub=inf)\n"
     ]
    }
   ],
   "source": [
    "use_logitnormal_sticks = True\n",
    "\n",
    "vb_params_dict, vb_params_paragami = \\\n",
    "    structure_model_lib.get_vb_params_paragami_object(n_obs, n_loci, k_approx,\n",
    "                                    use_logitnormal_sticks = use_logitnormal_sticks)\n",
    "    \n",
    "print(vb_params_paragami)"
   ]
  },
  {
   "cell_type": "code",
   "execution_count": null,
   "metadata": {},
   "outputs": [],
   "source": []
  },
  {
   "cell_type": "markdown",
   "metadata": {},
   "source": [
    "## Initialize "
   ]
  },
  {
   "cell_type": "code",
   "execution_count": 12,
   "metadata": {},
   "outputs": [
    {
     "name": "stdout",
     "output_type": "stream",
     "text": [
      "running NMF ...\n",
      "running a few cavi steps for pop beta ...\n",
      "done. Elapsed: 5.44956\n"
     ]
    }
   ],
   "source": [
    "vb_params_dict = s_optim_lib.set_init_vb_params(g_obs, k_approx, vb_params_dict, prior_params_dict,\n",
    "                                                gh_loc, gh_weights,\n",
    "                                                seed = 34221)"
   ]
  },
  {
   "cell_type": "code",
   "execution_count": 13,
   "metadata": {},
   "outputs": [
    {
     "data": {
      "text/plain": [
       "Text(0.5, 0, 'individual')"
      ]
     },
     "execution_count": 13,
     "metadata": {},
     "output_type": "execute_result"
    },
    {
     "data": {
      "image/png": "[encoded data removed]",
      "text/plain": [
       "<Figure size 1152x184.32 with 1 Axes>"
      ]
     },
     "metadata": {
      "needs_background": "light"
     },
     "output_type": "display_data"
    }
   ],
   "source": [
    "plt.matshow(plotting_utils.get_vb_expectations(vb_params_dict, \n",
    "                                               gh_loc, gh_weights)[0].transpose())\n",
    "plt.ylabel('population')\n",
    "plt.xlabel('individual')"
   ]
  },
  {
   "cell_type": "code",
   "execution_count": null,
   "metadata": {},
   "outputs": [],
   "source": []
  },
  {
   "cell_type": "markdown",
   "metadata": {},
   "source": [
    "# Optimize"
   ]
  },
  {
   "cell_type": "code",
   "execution_count": 14,
   "metadata": {},
   "outputs": [
    {
     "name": "stdout",
     "output_type": "stream",
     "text": [
      "compiling objectives ... \n",
      "done. Elasped: 12.7426\n",
      "compiling preconditioned objective ... \n",
      "done. Elasped: 18.5666\n",
      "Run a few iterations without preconditioning ... \n",
      "iteration [20]; kl:7519.306626; elapsed: 0.8066secs\n",
      "iteration [40]; kl:7477.259322; elapsed: 1.3207secs\n",
      "iteration [60]; kl:7476.940168; elapsed: 1.2081secs\n",
      "iteration [80]; kl:7476.930865; elapsed: 1.2072secs\n",
      "iteration [88]; kl:7476.930544; elapsed: 0.5285secs\n",
      "done. Elapsed 5.0966\n"
     ]
    }
   ],
   "source": [
    "# optimize with preconditioner \n",
    "vb_opt_dict, vb_opt, out, precond_objective = \\\n",
    "    s_poptim_lib.optimize_structure(g_obs, \n",
    "                        vb_params_dict, \n",
    "                        vb_params_paragami,\n",
    "                        prior_params_dict,\n",
    "                        gh_loc, gh_weights)"
   ]
  },
  {
   "cell_type": "code",
   "execution_count": 15,
   "metadata": {},
   "outputs": [],
   "source": [
    "from bnpmodeling_runjingdev.optimization_lib import run_lbfgs"
   ]
  },
  {
   "cell_type": "code",
   "execution_count": 16,
   "metadata": {},
   "outputs": [
    {
     "name": "stdout",
     "output_type": "stream",
     "text": [
      "Compiling objective ...\n",
      "Iter 0: f = 9830.01885608\n",
      "Compiling grad ...\n",
      "Compile time: 11.6675secs\n",
      "\n",
      "Running L-BFGS-B ... \n",
      "Iter 0: f = 9830.01885608\n",
      "Iter 1: f = 9666.34118932\n",
      "Iter 2: f = 9111.13621191\n",
      "Iter 3: f = 8010.17403986\n",
      "Iter 4: f = 7794.36842748\n",
      "Iter 5: f = 7679.19162564\n",
      "Iter 6: f = 7639.50103001\n",
      "Iter 7: f = 7618.59194306\n",
      "Iter 8: f = 7601.75420066\n",
      "Iter 9: f = 7590.23718026\n",
      "Iter 10: f = 7582.18433136\n",
      "Iter 11: f = 7573.03821438\n",
      "Iter 12: f = 7567.94414988\n",
      "Iter 13: f = 7559.18726435\n",
      "Iter 14: f = 7554.58668243\n",
      "Iter 15: f = 7545.78523205\n",
      "Iter 16: f = 7540.58932682\n",
      "Iter 17: f = 7535.88195366\n",
      "Iter 18: f = 7530.71054985\n",
      "Iter 19: f = 7525.55484535\n",
      "Iter 20: f = 7522.02691036\n",
      "Iter 21: f = 7519.30662580\n",
      "Iter 22: f = 7514.58939957\n",
      "Iter 23: f = 7510.91689916\n",
      "Iter 24: f = 7504.57814103\n",
      "Iter 25: f = 7499.71001839\n",
      "Iter 26: f = 7496.12696437\n",
      "Iter 27: f = 7492.19695487\n",
      "Iter 28: f = 7488.57258305\n",
      "Iter 29: f = 7485.64851544\n",
      "Iter 30: f = 7481.78587771\n",
      "Iter 31: f = 7480.37054803\n",
      "Iter 32: f = 7479.46809798\n",
      "Iter 33: f = 7478.79284617\n",
      "Iter 34: f = 7478.30596258\n",
      "Iter 35: f = 7478.04449388\n",
      "Iter 36: f = 7477.71115861\n",
      "Iter 37: f = 7477.54293036\n",
      "Iter 38: f = 7477.36171435\n",
      "Iter 39: f = 7477.29280021\n",
      "Iter 40: f = 7477.24481555\n",
      "Iter 41: f = 7477.20878863\n",
      "Iter 42: f = 7477.16285864\n",
      "Iter 43: f = 7477.14208421\n",
      "Iter 44: f = 7477.10448370\n",
      "Iter 45: f = 7477.06967849\n",
      "Iter 46: f = 7477.04022419\n",
      "Iter 47: f = 7477.02650174\n",
      "Iter 48: f = 7477.01459207\n",
      "Iter 49: f = 7477.00381297\n",
      "Iter 50: f = 7476.98940119\n",
      "Iter 51: f = 7476.97670583\n",
      "Iter 52: f = 7476.96606893\n",
      "Iter 53: f = 7476.96174415\n",
      "Iter 54: f = 7476.95427312\n",
      "Iter 55: f = 7476.95083900\n",
      "Iter 56: f = 7476.94578812\n",
      "Iter 57: f = 7476.94248035\n",
      "Iter 58: f = 7476.93985232\n",
      "Iter 59: f = 7476.93646982\n",
      "Iter 60: f = 7476.93546727\n",
      "Iter 61: f = 7476.93374485\n",
      "Iter 62: f = 7476.93320570\n",
      "Iter 63: f = 7476.93228003\n",
      "Iter 64: f = 7476.93224514\n",
      "Iter 65: f = 7476.93187130\n",
      "Iter 66: f = 7476.93137423\n",
      "Iter 67: f = 7476.93113058\n",
      "Iter 68: f = 7476.93098290\n",
      "Iter 69: f = 7476.93086741\n",
      "Iter 70: f = 7476.93077528\n",
      "Iter 71: f = 7476.93069220\n",
      "Iter 72: f = 7476.93063504\n",
      "Iter 73: f = 7476.93059946\n",
      "Iter 74: f = 7476.93055228\n",
      "Iter 75: f = 7476.93054753\n",
      "done. Elapsed 2.50214secs\n",
      "Iter 76: f = 7476.93054753\n",
      "objective value:  7476.930547534443\n"
     ]
    }
   ],
   "source": [
    "# optimize without preconditioner: \n",
    "# this is old code\n",
    "\n",
    "optim_objective, init_vb_free = \\\n",
    "    s_optim_lib.define_structure_objective(g_obs, \n",
    "                        vb_params_dict,\n",
    "                        vb_params_paragami,\n",
    "                        prior_params_dict,\n",
    "                        gh_loc = gh_loc,\n",
    "                        gh_weights = gh_weights)\n",
    "\n",
    "out = run_lbfgs(optim_objective, init_vb_free)\n",
    "\n",
    "vb_opt2 = out.x\n",
    "vb_opt_dict2 = vb_params_paragami.fold(vb_opt, free = True)"
   ]
  },
  {
   "cell_type": "markdown",
   "metadata": {},
   "source": [
    "# Check out the fit"
   ]
  },
  {
   "cell_type": "code",
   "execution_count": 17,
   "metadata": {},
   "outputs": [
    {
     "data": {
      "text/plain": [
       "<matplotlib.image.AxesImage at 0x7f72aaac7c10>"
      ]
     },
     "execution_count": 17,
     "metadata": {},
     "output_type": "execute_result"
    },
    {
     "data": {
      "image/png": "[encoded data removed]",
      "text/plain": [
       "<Figure size 1152x144 with 1 Axes>"
      ]
     },
     "metadata": {
      "needs_background": "light"
     },
     "output_type": "display_data"
    }
   ],
   "source": [
    "# truth\n",
    "plt.matshow(true_ind_admix_propn.T)"
   ]
  },
  {
   "cell_type": "code",
   "execution_count": 23,
   "metadata": {},
   "outputs": [],
   "source": [
    "def find_min_perm(x, y):\n",
    "    # perumutes array x along first dimension \n",
    "    # match to y\n",
    "\n",
    "    perms = list(permutations(np.arange(x.shape[axis])))\n",
    "\n",
    "    i = 0\n",
    "    diff_best = np.Inf\n",
    "    for perm in perms:\n",
    "\n",
    "        x_perm = x[:, perm]\n",
    "        print(x_perm)\n",
    "\n",
    "#         diff = np.sum((x_perm - y)**2)\n",
    "\n",
    "#         if diff < diff_best:\n",
    "#             diff_best = diff\n",
    "#             i_best = i\n",
    "\n",
    "        i += 1\n",
    "\n",
    "    return perms[i_best]\n",
    "\n"
   ]
  },
  {
   "cell_type": "code",
   "execution_count": 24,
   "metadata": {},
   "outputs": [
    {
     "ename": "NameError",
     "evalue": "name 'permutations' is not defined",
     "output_type": "error",
     "traceback": [
      "\u001b[0;31m---------------------------------------------------------------------------\u001b[0m",
      "\u001b[0;31mNameError\u001b[0m                                 Traceback (most recent call last)",
      "\u001b[0;32m<ipython-input-24-b849fa231509>\u001b[0m in \u001b[0;36m<module>\u001b[0;34m\u001b[0m\n\u001b[0;32m----> 1\u001b[0;31m \u001b[0mfind_min_perm\u001b[0m\u001b[0;34m(\u001b[0m\u001b[0me_pop_allele_freq\u001b[0m\u001b[0;34m,\u001b[0m \u001b[0mtrue_ind_admix_propn\u001b[0m\u001b[0;34m)\u001b[0m\u001b[0;34m\u001b[0m\u001b[0;34m\u001b[0m\u001b[0m\n\u001b[0m",
      "\u001b[0;32m<ipython-input-23-4aa3c50b239d>\u001b[0m in \u001b[0;36mfind_min_perm\u001b[0;34m(x, y)\u001b[0m\n\u001b[1;32m      3\u001b[0m     \u001b[0;31m# match to y\u001b[0m\u001b[0;34m\u001b[0m\u001b[0;34m\u001b[0m\u001b[0;34m\u001b[0m\u001b[0m\n\u001b[1;32m      4\u001b[0m \u001b[0;34m\u001b[0m\u001b[0m\n\u001b[0;32m----> 5\u001b[0;31m     \u001b[0mperms\u001b[0m \u001b[0;34m=\u001b[0m \u001b[0mlist\u001b[0m\u001b[0;34m(\u001b[0m\u001b[0mpermutations\u001b[0m\u001b[0;34m(\u001b[0m\u001b[0mnp\u001b[0m\u001b[0;34m.\u001b[0m\u001b[0marange\u001b[0m\u001b[0;34m(\u001b[0m\u001b[0mx\u001b[0m\u001b[0;34m.\u001b[0m\u001b[0mshape\u001b[0m\u001b[0;34m[\u001b[0m\u001b[0maxis\u001b[0m\u001b[0;34m]\u001b[0m\u001b[0;34m)\u001b[0m\u001b[0;34m)\u001b[0m\u001b[0;34m)\u001b[0m\u001b[0;34m\u001b[0m\u001b[0;34m\u001b[0m\u001b[0m\n\u001b[0m\u001b[1;32m      6\u001b[0m \u001b[0;34m\u001b[0m\u001b[0m\n\u001b[1;32m      7\u001b[0m     \u001b[0mi\u001b[0m \u001b[0;34m=\u001b[0m \u001b[0;36m0\u001b[0m\u001b[0;34m\u001b[0m\u001b[0;34m\u001b[0m\u001b[0m\n",
      "\u001b[0;31mNameError\u001b[0m: name 'permutations' is not defined"
     ]
    }
   ],
   "source": [
    "find_min_perm(e_pop_allele_freq, true_ind_admix_propn)"
   ]
  },
  {
   "cell_type": "code",
   "execution_count": null,
   "metadata": {},
   "outputs": [],
   "source": []
  },
  {
   "cell_type": "code",
   "execution_count": 20,
   "metadata": {},
   "outputs": [
    {
     "data": {
      "text/plain": [
       "<matplotlib.image.AxesImage at 0x7f72aaa7ec10>"
      ]
     },
     "execution_count": 20,
     "metadata": {},
     "output_type": "execute_result"
    },
    {
     "data": {
      "image/png": "[encoded data removed]",
      "text/plain": [
       "<Figure size 1152x184.32 with 1 Axes>"
      ]
     },
     "metadata": {
      "needs_background": "light"
     },
     "output_type": "display_data"
    }
   ],
   "source": [
    "# fitted\n",
    "e_ind_admix, e_pop_allele_freq = plotting_utils.get_vb_expectations(vb_opt_dict, gh_loc, gh_weights)\n",
    "plt.matshow(e_ind_admix.T)"
   ]
  },
  {
   "cell_type": "code",
   "execution_count": 21,
   "metadata": {},
   "outputs": [
    {
     "data": {
      "text/plain": [
       "(100, 8)"
      ]
     },
     "execution_count": 21,
     "metadata": {},
     "output_type": "execute_result"
    }
   ],
   "source": [
    "e_pop_allele_freq.shape"
   ]
  },
  {
   "cell_type": "code",
   "execution_count": 22,
   "metadata": {},
   "outputs": [
    {
     "data": {
      "text/plain": [
       "<matplotlib.image.AxesImage at 0x7faeab2a4e80>"
      ]
     },
     "execution_count": 22,
     "metadata": {},
     "output_type": "execute_result"
    },
    {
     "data": {
      "image/png": "[encoded data removed]",
      "text/plain": [
       "<Figure size 1152x184.32 with 1 Axes>"
      ]
     },
     "metadata": {
      "needs_background": "light"
     },
     "output_type": "display_data"
    }
   ],
   "source": [
    "# fitted\n",
    "e_ind_admix = plotting_utils.get_vb_expectations(vb_opt_dict2, gh_loc, gh_weights)[0]\n",
    "plt.matshow(e_ind_admix.T)"
   ]
  },
  {
   "cell_type": "code",
   "execution_count": null,
   "metadata": {},
   "outputs": [],
   "source": []
  },
  {
   "cell_type": "code",
   "execution_count": 23,
   "metadata": {},
   "outputs": [
    {
     "data": {
      "text/plain": [
       "DeviceArray(0.02075902, dtype=float64)"
      ]
     },
     "execution_count": 23,
     "metadata": {},
     "output_type": "execute_result"
    }
   ],
   "source": [
    "np.abs(vb_opt - vb_opt2).max()"
   ]
  },
  {
   "cell_type": "code",
   "execution_count": 24,
   "metadata": {},
   "outputs": [
    {
     "data": {
      "text/plain": [
       "DeviceArray(0.00377146, dtype=float64)"
      ]
     },
     "execution_count": 24,
     "metadata": {},
     "output_type": "execute_result"
    }
   ],
   "source": [
    "np.abs(precond_objective.grad(vb_opt)).max()"
   ]
  },
  {
   "cell_type": "code",
   "execution_count": 25,
   "metadata": {},
   "outputs": [
    {
     "data": {
      "text/plain": [
       "DeviceArray(0.00767416, dtype=float64)"
      ]
     },
     "execution_count": 25,
     "metadata": {},
     "output_type": "execute_result"
    }
   ],
   "source": [
    "np.abs(precond_objective.grad(vb_opt2)).max()"
   ]
  },
  {
   "cell_type": "code",
   "execution_count": null,
   "metadata": {},
   "outputs": [],
   "source": []
  },
  {
   "cell_type": "code",
   "execution_count": null,
   "metadata": {},
   "outputs": [],
   "source": []
  }
 ],
 "metadata": {
  "kernelspec": {
   "display_name": "bnp_sensitivity_jax",
   "language": "python",
   "name": "bnp_sensitivity_jax"
  },
  "language_info": {
   "codemirror_mode": {
    "name": "ipython",
    "version": 3
   },
   "file_extension": ".py",
   "mimetype": "text/x-python",
   "name": "python",
   "nbconvert_exporter": "python",
   "pygments_lexer": "ipython3",
   "version": "3.8.0"
  }
 },
 "nbformat": 4,
 "nbformat_minor": 4
}
