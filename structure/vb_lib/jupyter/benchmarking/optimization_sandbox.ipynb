{
 "cells": [
  {
   "cell_type": "code",
   "execution_count": 1,
   "metadata": {},
   "outputs": [
    {
     "name": "stderr",
     "output_type": "stream",
     "text": [
      "/accounts/grad/runjing_liu/.conda/envs/bnp_sensitivity_jax/lib/python3.8/site-packages/jax/lib/xla_bridge.py:130: UserWarning: No GPU/TPU found, falling back to CPU.\n",
      "  warnings.warn('No GPU/TPU found, falling back to CPU.')\n"
     ]
    }
   ],
   "source": [
    "import jax\n",
    "\n",
    "import jax.numpy as np\n",
    "import jax.scipy as sp\n",
    "\n",
    "from numpy.polynomial.hermite import hermgauss\n",
    "from scipy import optimize\n",
    "\n",
    "from vb_lib import structure_model_lib, data_utils, plotting_utils\n",
    "import vb_lib.structure_optimization_lib as s_optim_lib \n",
    "import vb_lib.structure_preconditioned_optimization_lib as s_poptim_lib \n",
    "\n",
    "import paragami\n",
    "\n",
    "from copy import deepcopy\n",
    "\n",
    "import time\n",
    "\n",
    "import matplotlib.pyplot as plt\n",
    "%matplotlib inline  \n",
    "\n",
    "from bnpmodeling_runjingdev import cluster_quantities_lib, modeling_lib\n"
   ]
  },
  {
   "cell_type": "code",
   "execution_count": 2,
   "metadata": {},
   "outputs": [],
   "source": [
    "import numpy as onp\n",
    "onp.random.seed(53453)"
   ]
  },
  {
   "cell_type": "markdown",
   "metadata": {},
   "source": [
    "# Draw data"
   ]
  },
  {
   "cell_type": "code",
   "execution_count": 3,
   "metadata": {},
   "outputs": [],
   "source": [
    "n_obs = 50\n",
    "n_loci = 100\n",
    "n_pop = 4"
   ]
  },
  {
   "cell_type": "code",
   "execution_count": 4,
   "metadata": {},
   "outputs": [
    {
     "name": "stdout",
     "output_type": "stream",
     "text": [
      "Generating datapoints  0  to  50\n"
     ]
    }
   ],
   "source": [
    "g_obs, true_pop_allele_freq, true_ind_admix_propn = \\\n",
    "    data_utils.draw_data(n_obs, n_loci, n_pop)"
   ]
  },
  {
   "cell_type": "code",
   "execution_count": 5,
   "metadata": {},
   "outputs": [],
   "source": [
    "g_obs = np.array(g_obs)"
   ]
  },
  {
   "cell_type": "code",
   "execution_count": 6,
   "metadata": {
    "scrolled": true
   },
   "outputs": [
    {
     "data": {
      "text/plain": [
       "Text(0.5, 0, 'individual')"
      ]
     },
     "execution_count": 6,
     "metadata": {},
     "output_type": "execute_result"
    },
    {
     "data": {
      "image/png": "[encoded data removed]",
      "text/plain": [
       "<Figure size 1152x144 with 1 Axes>"
      ]
     },
     "metadata": {
      "needs_background": "light"
     },
     "output_type": "display_data"
    }
   ],
   "source": [
    "plt.matshow(true_ind_admix_propn.T)\n",
    "plt.ylabel('population')\n",
    "plt.xlabel('individual')"
   ]
  },
  {
   "cell_type": "code",
   "execution_count": 7,
   "metadata": {
    "scrolled": true
   },
   "outputs": [
    {
     "data": {
      "text/plain": [
       "(50, 100, 3)"
      ]
     },
     "execution_count": 7,
     "metadata": {},
     "output_type": "execute_result"
    }
   ],
   "source": [
    "g_obs.shape"
   ]
  },
  {
   "cell_type": "markdown",
   "metadata": {},
   "source": [
    "# Get prior"
   ]
  },
  {
   "cell_type": "code",
   "execution_count": 8,
   "metadata": {},
   "outputs": [
    {
     "name": "stdout",
     "output_type": "stream",
     "text": [
      "OrderedDict:\n",
      "\t[dp_prior_alpha] = NumericArrayPattern (1,) (lb=0.0, ub=inf)\n",
      "\t[allele_prior_alpha] = NumericArrayPattern (1,) (lb=0.0, ub=inf)\n",
      "\t[allele_prior_beta] = NumericArrayPattern (1,) (lb=0.0, ub=inf)\n"
     ]
    }
   ],
   "source": [
    "prior_params_dict, prior_params_paragami = \\\n",
    "    structure_model_lib.get_default_prior_params()\n",
    "\n",
    "print(prior_params_paragami)\n",
    "\n",
    "prior_params_free = prior_params_paragami.flatten(prior_params_dict, free = True)"
   ]
  },
  {
   "cell_type": "markdown",
   "metadata": {},
   "source": [
    "# Get VB params "
   ]
  },
  {
   "cell_type": "code",
   "execution_count": 9,
   "metadata": {},
   "outputs": [],
   "source": [
    "k_approx = 8"
   ]
  },
  {
   "cell_type": "code",
   "execution_count": 10,
   "metadata": {},
   "outputs": [],
   "source": [
    "gh_deg = 8\n",
    "gh_loc, gh_weights = hermgauss(8)"
   ]
  },
  {
   "cell_type": "code",
   "execution_count": 11,
   "metadata": {
    "scrolled": true
   },
   "outputs": [
    {
     "name": "stdout",
     "output_type": "stream",
     "text": [
      "OrderedDict:\n",
      "\t[pop_freq_beta_params] = NumericArrayPattern (100, 8, 2) (lb=0.0, ub=inf)\n",
      "\t[ind_admix_params] = OrderedDict:\n",
      "\t[stick_beta] = NumericArrayPattern (50, 7, 2) (lb=0.0, ub=inf)\n"
     ]
    }
   ],
   "source": [
    "use_logitnormal_sticks = False\n",
    "\n",
    "vb_params_dict, vb_params_paragami = \\\n",
    "    structure_model_lib.get_vb_params_paragami_object(n_obs, n_loci, k_approx,\n",
    "                                    use_logitnormal_sticks = use_logitnormal_sticks)\n",
    "    \n",
    "print(vb_params_paragami)"
   ]
  },
  {
   "cell_type": "code",
   "execution_count": null,
   "metadata": {},
   "outputs": [],
   "source": []
  },
  {
   "cell_type": "markdown",
   "metadata": {},
   "source": [
    "## Initialize "
   ]
  },
  {
   "cell_type": "code",
   "execution_count": 12,
   "metadata": {},
   "outputs": [
    {
     "name": "stdout",
     "output_type": "stream",
     "text": [
      "running NMF ...\n",
      "running a few cavi steps for pop beta ...\n",
      "done. Elapsed: 4.95741\n"
     ]
    }
   ],
   "source": [
    "vb_params_dict = s_optim_lib.set_init_vb_params(g_obs, k_approx, vb_params_dict, prior_params_dict,\n",
    "                                                seed = 34221)"
   ]
  },
  {
   "cell_type": "code",
   "execution_count": 13,
   "metadata": {},
   "outputs": [
    {
     "data": {
      "text/plain": [
       "Text(0.5, 0, 'individual')"
      ]
     },
     "execution_count": 13,
     "metadata": {},
     "output_type": "execute_result"
    },
    {
     "data": {
      "image/png": "[encoded data removed]",
      "text/plain": [
       "<Figure size 1152x184.32 with 1 Axes>"
      ]
     },
     "metadata": {
      "needs_background": "light"
     },
     "output_type": "display_data"
    }
   ],
   "source": [
    "plt.matshow(plotting_utils.get_vb_expectations(vb_params_dict)[0].transpose())\n",
    "plt.ylabel('population')\n",
    "plt.xlabel('individual')"
   ]
  },
  {
   "cell_type": "code",
   "execution_count": null,
   "metadata": {},
   "outputs": [],
   "source": []
  },
  {
   "cell_type": "markdown",
   "metadata": {},
   "source": [
    "# Optimize"
   ]
  },
  {
   "cell_type": "code",
   "execution_count": 14,
   "metadata": {},
   "outputs": [
    {
     "name": "stdout",
     "output_type": "stream",
     "text": [
      "compiling objectives ... \n",
      "done. Elasped: 19.2165\n",
      "compiling preconditioned objective ... \n",
      "done. Elasped: 32.4549\n",
      "Run a few iterations without preconditioning ... \n",
      "iteration [20]; kl:7528.559787; elapsed: 0.8843secs\n",
      "iteration [40]; kl:7477.122101; elapsed: 1.5182secs\n",
      "iteration [60]; kl:7472.873021; elapsed: 1.385secs\n",
      "iteration [80]; kl:7472.430534; elapsed: 1.5096secs\n",
      "iteration [98]; kl:7472.425202; elapsed: 1.3729secs\n",
      "done. Elapsed 6.7083\n"
     ]
    }
   ],
   "source": [
    "# optimize with preconditioner \n",
    "vb_opt_dict, vb_opt, out, precond_objective = \\\n",
    "    s_poptim_lib.optimize_structure(g_obs, \n",
    "                        vb_params_dict, \n",
    "                        vb_params_paragami,\n",
    "                        prior_params_dict,\n",
    "                        gh_loc, gh_weights)"
   ]
  },
  {
   "cell_type": "code",
   "execution_count": 16,
   "metadata": {},
   "outputs": [],
   "source": [
    "from bnpmodeling_runjingdev.optimization_lib import run_lbfgs"
   ]
  },
  {
   "cell_type": "code",
   "execution_count": 17,
   "metadata": {},
   "outputs": [
    {
     "name": "stdout",
     "output_type": "stream",
     "text": [
      "Compiling objective ...\n",
      "Iter 0: f = 11956.77972362\n",
      "Compiling grad ...\n",
      "Compile time: 17.6427secs\n",
      "\n",
      "Running L-BFGS-B ... \n",
      "Iter 0: f = 11956.77972362\n",
      "Iter 1: f = 11573.89810952\n",
      "Iter 2: f = 9422.95663599\n",
      "Iter 3: f = 8841.92112360\n",
      "Iter 4: f = 8138.34436641\n",
      "Iter 5: f = 7842.17416199\n",
      "Iter 6: f = 7728.43360874\n",
      "Iter 7: f = 7675.48906898\n",
      "Iter 8: f = 7630.58650222\n",
      "Iter 9: f = 7609.20794265\n",
      "Iter 10: f = 7591.88719462\n",
      "Iter 11: f = 7575.75263852\n",
      "Iter 12: f = 7564.62379921\n",
      "Iter 13: f = 7558.71093443\n",
      "Iter 14: f = 7551.31798501\n",
      "Iter 15: f = 7546.72540894\n",
      "Iter 16: f = 7540.10546099\n",
      "Iter 17: f = 7538.54357336\n",
      "Iter 18: f = 7533.00740859\n",
      "Iter 19: f = 7530.85751517\n",
      "Iter 20: f = 7528.55978672\n",
      "Iter 21: f = 7525.89445635\n",
      "Iter 22: f = 7523.05529332\n",
      "Iter 23: f = 7519.23808982\n",
      "Iter 24: f = 7528.48847157\n",
      "Iter 25: f = 7514.66422530\n",
      "Iter 26: f = 7509.41596425\n",
      "Iter 27: f = 7500.21336499\n",
      "Iter 28: f = 7492.12500834\n",
      "Iter 29: f = 7487.84282520\n",
      "Iter 30: f = 7485.36308101\n",
      "Iter 31: f = 7483.21002559\n",
      "Iter 32: f = 7481.46982558\n",
      "Iter 33: f = 7480.91236234\n",
      "Iter 34: f = 7480.11761190\n",
      "Iter 35: f = 7479.35792539\n",
      "Iter 36: f = 7478.37862682\n",
      "Iter 37: f = 7477.19776642\n",
      "Iter 38: f = 7476.47708801\n",
      "Iter 39: f = 7475.90122072\n",
      "Iter 40: f = 7475.66933488\n",
      "Iter 41: f = 7475.43915760\n",
      "Iter 42: f = 7475.25892208\n",
      "Iter 43: f = 7475.05724169\n",
      "Iter 44: f = 7474.85002936\n",
      "Iter 45: f = 7474.67534102\n",
      "Iter 46: f = 7474.53275522\n",
      "Iter 47: f = 7474.44330242\n",
      "Iter 48: f = 7474.38012381\n",
      "Iter 49: f = 7474.32381235\n",
      "Iter 50: f = 7474.26708036\n",
      "Iter 51: f = 7474.18824511\n",
      "Iter 52: f = 7474.05789792\n",
      "Iter 53: f = 7474.22209439\n",
      "Iter 54: f = 7473.95054613\n",
      "Iter 55: f = 7473.77827391\n",
      "Iter 56: f = 7473.48793395\n",
      "Iter 57: f = 7473.29220094\n",
      "Iter 58: f = 7473.19064342\n",
      "Iter 59: f = 7473.10519289\n",
      "Iter 60: f = 7473.02382396\n",
      "Iter 61: f = 7472.95605254\n",
      "Iter 62: f = 7472.91774790\n",
      "Iter 63: f = 7472.85467187\n",
      "Iter 64: f = 7472.82285550\n",
      "Iter 65: f = 7472.77368253\n",
      "Iter 66: f = 7472.74785943\n",
      "Iter 67: f = 7472.72282660\n",
      "Iter 68: f = 7472.68957081\n",
      "Iter 69: f = 7472.65680685\n",
      "Iter 70: f = 7472.63639569\n",
      "Iter 71: f = 7472.60888169\n",
      "Iter 72: f = 7472.59698013\n",
      "Iter 73: f = 7472.57885169\n",
      "Iter 74: f = 7472.56335324\n",
      "Iter 75: f = 7472.55278521\n",
      "Iter 76: f = 7472.53325749\n",
      "Iter 77: f = 7472.51266626\n",
      "Iter 78: f = 7472.49900472\n",
      "Iter 79: f = 7472.48009195\n",
      "Iter 80: f = 7472.47573336\n",
      "Iter 81: f = 7472.46285930\n",
      "Iter 82: f = 7472.45618302\n",
      "Iter 83: f = 7472.45101032\n",
      "Iter 84: f = 7472.44321501\n",
      "Iter 85: f = 7472.45091583\n",
      "Iter 86: f = 7472.43998344\n",
      "Iter 87: f = 7472.43510342\n",
      "Iter 88: f = 7472.43235450\n",
      "Iter 89: f = 7472.43035399\n",
      "Iter 90: f = 7472.42836996\n",
      "Iter 91: f = 7472.42776707\n",
      "Iter 92: f = 7472.42700602\n",
      "Iter 93: f = 7472.42651078\n",
      "Iter 94: f = 7472.42610332\n",
      "Iter 95: f = 7472.42589927\n",
      "Iter 96: f = 7472.42572595\n",
      "Iter 97: f = 7472.42558254\n",
      "Iter 98: f = 7472.42544267\n",
      "Iter 99: f = 7472.42538328\n",
      "Iter 100: f = 7472.42532984\n",
      "Iter 101: f = 7472.42529063\n",
      "Iter 102: f = 7472.42524417\n",
      "Iter 103: f = 7472.42522616\n",
      "Iter 104: f = 7472.42520631\n",
      "Iter 105: f = 7472.42517664\n",
      "Iter 106: f = 7472.42517661\n",
      "Iter 107: f = 7472.42515942\n",
      "Iter 108: f = 7472.42514158\n",
      "Iter 109: f = 7472.42512711\n",
      "done. Elapsed 4.11967secs\n",
      "Iter 110: f = 7472.42512711\n",
      "objective value:  7472.425127112754\n"
     ]
    }
   ],
   "source": [
    "# optimize without preconditioner: \n",
    "# this is old code\n",
    "\n",
    "optim_objective, init_vb_free = \\\n",
    "    s_optim_lib.define_structure_objective(g_obs, \n",
    "                        vb_params_dict,\n",
    "                        vb_params_paragami,\n",
    "                        prior_params_dict,\n",
    "                        gh_loc = gh_loc,\n",
    "                        gh_weights = gh_weights)\n",
    "\n",
    "out = run_lbfgs(optim_objective, init_vb_free)\n",
    "\n",
    "vb_opt2 = out.x\n",
    "vb_opt_dict2 = vb_params_paragami.fold(vb_opt, free = True)"
   ]
  },
  {
   "cell_type": "markdown",
   "metadata": {},
   "source": [
    "# Check out the fit"
   ]
  },
  {
   "cell_type": "code",
   "execution_count": 18,
   "metadata": {},
   "outputs": [
    {
     "data": {
      "text/plain": [
       "<matplotlib.image.AxesImage at 0x7f363d6fcf10>"
      ]
     },
     "execution_count": 18,
     "metadata": {},
     "output_type": "execute_result"
    },
    {
     "data": {
      "image/png": "[encoded data removed]",
      "text/plain": [
       "<Figure size 1152x144 with 1 Axes>"
      ]
     },
     "metadata": {
      "needs_background": "light"
     },
     "output_type": "display_data"
    }
   ],
   "source": [
    "# truth\n",
    "plt.matshow(true_ind_admix_propn.T)"
   ]
  },
  {
   "cell_type": "code",
   "execution_count": 19,
   "metadata": {},
   "outputs": [
    {
     "data": {
      "text/plain": [
       "<matplotlib.image.AxesImage at 0x7f363d66ebe0>"
      ]
     },
     "execution_count": 19,
     "metadata": {},
     "output_type": "execute_result"
    },
    {
     "data": {
      "image/png": "[encoded data removed]",
      "text/plain": [
       "<Figure size 1152x184.32 with 1 Axes>"
      ]
     },
     "metadata": {
      "needs_background": "light"
     },
     "output_type": "display_data"
    }
   ],
   "source": [
    "# fitted\n",
    "e_ind_admix = plotting_utils.get_vb_expectations(vb_opt_dict)[0]\n",
    "plt.matshow(e_ind_admix.T)"
   ]
  },
  {
   "cell_type": "code",
   "execution_count": 20,
   "metadata": {},
   "outputs": [
    {
     "data": {
      "text/plain": [
       "<matplotlib.image.AxesImage at 0x7f363d528220>"
      ]
     },
     "execution_count": 20,
     "metadata": {},
     "output_type": "execute_result"
    },
    {
     "data": {
      "image/png": "[encoded data removed]",
      "text/plain": [
       "<Figure size 1152x184.32 with 1 Axes>"
      ]
     },
     "metadata": {
      "needs_background": "light"
     },
     "output_type": "display_data"
    }
   ],
   "source": [
    "# fitted\n",
    "e_ind_admix = plotting_utils.get_vb_expectations(vb_opt_dict2)[0]\n",
    "plt.matshow(e_ind_admix.T)"
   ]
  },
  {
   "cell_type": "code",
   "execution_count": null,
   "metadata": {},
   "outputs": [],
   "source": []
  },
  {
   "cell_type": "code",
   "execution_count": 22,
   "metadata": {},
   "outputs": [
    {
     "data": {
      "text/plain": [
       "DeviceArray(0.01165038, dtype=float64)"
      ]
     },
     "execution_count": 22,
     "metadata": {},
     "output_type": "execute_result"
    }
   ],
   "source": [
    "np.abs(vb_opt - vb_opt2).max()"
   ]
  },
  {
   "cell_type": "code",
   "execution_count": 27,
   "metadata": {},
   "outputs": [
    {
     "data": {
      "text/plain": [
       "DeviceArray(0.00307669, dtype=float64)"
      ]
     },
     "execution_count": 27,
     "metadata": {},
     "output_type": "execute_result"
    }
   ],
   "source": [
    "np.abs(precond_objective.grad(vb_opt)).max()"
   ]
  },
  {
   "cell_type": "code",
   "execution_count": 28,
   "metadata": {},
   "outputs": [
    {
     "data": {
      "text/plain": [
       "DeviceArray(0.00198532, dtype=float64)"
      ]
     },
     "execution_count": 28,
     "metadata": {},
     "output_type": "execute_result"
    }
   ],
   "source": [
    "np.abs(precond_objective.grad(vb_opt2)).max()"
   ]
  },
  {
   "cell_type": "code",
   "execution_count": null,
   "metadata": {},
   "outputs": [],
   "source": []
  }
 ],
 "metadata": {
  "kernelspec": {
   "display_name": "bnp_sensitivity_jax",
   "language": "python",
   "name": "bnp_sensitivity_jax"
  },
  "language_info": {
   "codemirror_mode": {
    "name": "ipython",
    "version": 3
   },
   "file_extension": ".py",
   "mimetype": "text/x-python",
   "name": "python",
   "nbconvert_exporter": "python",
   "pygments_lexer": "ipython3",
   "version": "3.8.0"
  }
 },
 "nbformat": 4,
 "nbformat_minor": 4
}
