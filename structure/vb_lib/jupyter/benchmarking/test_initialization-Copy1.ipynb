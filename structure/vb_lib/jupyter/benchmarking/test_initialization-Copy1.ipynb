{
 "cells": [
  {
   "cell_type": "code",
   "execution_count": 1,
   "metadata": {},
   "outputs": [
    {
     "name": "stderr",
     "output_type": "stream",
     "text": [
      "/accounts/grad/runjing_liu/.conda/envs/bnp_sensitivity_jax/lib/python3.8/site-packages/jax/lib/xla_bridge.py:130: UserWarning: No GPU/TPU found, falling back to CPU.\n",
      "  warnings.warn('No GPU/TPU found, falling back to CPU.')\n"
     ]
    }
   ],
   "source": [
    "import jax\n",
    "\n",
    "import jax.numpy as np\n",
    "import jax.scipy as sp\n",
    "\n",
    "from numpy.polynomial.hermite import hermgauss\n",
    "import scipy as osp\n",
    "\n",
    "from vb_lib import structure_model_lib, data_utils, cavi_lib\n",
    "from vb_lib.preconditioner_lib import get_mfvb_cov_matmul\n",
    "from bnpmodeling_runjingdev.sensitivity_lib import HyperparameterSensitivityLinearApproximation, get_jac_hvp_fun\n",
    "\n",
    "import paragami\n",
    "\n",
    "from copy import deepcopy\n",
    "\n",
    "import time\n",
    "\n",
    "import matplotlib.pyplot as plt\n",
    "%matplotlib inline  \n",
    "\n",
    "from bnpmodeling_runjingdev import cluster_quantities_lib, modeling_lib\n"
   ]
  },
  {
   "cell_type": "code",
   "execution_count": 2,
   "metadata": {},
   "outputs": [],
   "source": [
    "import numpy as onp\n",
    "onp.random.seed(53453)"
   ]
  },
  {
   "cell_type": "markdown",
   "metadata": {},
   "source": [
    "# Load data"
   ]
  },
  {
   "cell_type": "code",
   "execution_count": 3,
   "metadata": {},
   "outputs": [],
   "source": [
    "data = np.load('../simulated_data/simulated_structure_data_nobs20_nloci50_npop4.npz')\n",
    "g_obs = np.array(data['g_obs'])"
   ]
  },
  {
   "cell_type": "code",
   "execution_count": 4,
   "metadata": {},
   "outputs": [],
   "source": [
    "n_obs = g_obs.shape[0]\n",
    "n_loci = g_obs.shape[1]"
   ]
  },
  {
   "cell_type": "markdown",
   "metadata": {},
   "source": [
    "# Get prior"
   ]
  },
  {
   "cell_type": "code",
   "execution_count": 5,
   "metadata": {},
   "outputs": [
    {
     "name": "stdout",
     "output_type": "stream",
     "text": [
      "OrderedDict:\n",
      "\t[dp_prior_alpha] = NumericArrayPattern (1,) (lb=0.0, ub=inf)\n",
      "\t[allele_prior_alpha] = NumericArrayPattern (1,) (lb=0.0, ub=inf)\n",
      "\t[allele_prior_beta] = NumericArrayPattern (1,) (lb=0.0, ub=inf)\n"
     ]
    }
   ],
   "source": [
    "prior_params_dict, prior_params_paragami = \\\n",
    "    structure_model_lib.get_default_prior_params()\n",
    "\n",
    "print(prior_params_paragami)\n",
    "\n",
    "prior_params_free = prior_params_paragami.flatten(prior_params_dict, free = True)"
   ]
  },
  {
   "cell_type": "markdown",
   "metadata": {},
   "source": [
    "# Get VB params "
   ]
  },
  {
   "cell_type": "code",
   "execution_count": 6,
   "metadata": {},
   "outputs": [],
   "source": [
    "k_approx = 4"
   ]
  },
  {
   "cell_type": "code",
   "execution_count": 7,
   "metadata": {},
   "outputs": [],
   "source": [
    "gh_deg = 8\n",
    "gh_loc, gh_weights = hermgauss(8)"
   ]
  },
  {
   "cell_type": "code",
   "execution_count": 8,
   "metadata": {
    "scrolled": true
   },
   "outputs": [
    {
     "name": "stdout",
     "output_type": "stream",
     "text": [
      "OrderedDict:\n",
      "\t[pop_freq_beta_params] = NumericArrayPattern (50, 4, 2) (lb=0.0, ub=inf)\n",
      "\t[ind_mix_stick_propn_mean] = NumericArrayPattern (20, 3) (lb=-inf, ub=inf)\n",
      "\t[ind_mix_stick_propn_info] = NumericArrayPattern (20, 3) (lb=0.0001, ub=inf)\n"
     ]
    }
   ],
   "source": [
    "use_logitnormal_sticks = True\n",
    "\n",
    "vb_params_dict, vb_params_paragami = \\\n",
    "    structure_model_lib.get_vb_params_paragami_object(n_obs, n_loci, k_approx,\n",
    "                                    use_logitnormal_sticks = use_logitnormal_sticks)\n",
    "    \n",
    "print(vb_params_paragami)"
   ]
  },
  {
   "cell_type": "code",
   "execution_count": 9,
   "metadata": {},
   "outputs": [],
   "source": [
    "vb_params_dict_random = vb_params_paragami.random(key=jax.random.PRNGKey(41))"
   ]
  },
  {
   "cell_type": "code",
   "execution_count": 10,
   "metadata": {},
   "outputs": [
    {
     "name": "stdout",
     "output_type": "stream",
     "text": [
      "-3917.219214555595\n",
      "1799.3901565010674\n"
     ]
    },
    {
     "data": {
      "text/plain": [
       "DeviceArray(2117.82905805, dtype=float64)"
      ]
     },
     "execution_count": 10,
     "metadata": {},
     "output_type": "execute_result"
    }
   ],
   "source": [
    "structure_model_lib.get_kl(g_obs, vb_params_dict_random, prior_params_dict,\n",
    "                                    gh_loc, gh_weights)"
   ]
  },
  {
   "cell_type": "code",
   "execution_count": null,
   "metadata": {},
   "outputs": [],
   "source": []
  },
  {
   "cell_type": "code",
   "execution_count": null,
   "metadata": {},
   "outputs": [],
   "source": []
  },
  {
   "cell_type": "code",
   "execution_count": 18,
   "metadata": {},
   "outputs": [],
   "source": [
    "vb_params_dict_nmf_init = \\\n",
    "        structure_model_lib.set_init_vb_params(g_obs, k_approx, vb_params_dict,\n",
    "                                                seed = 3421)"
   ]
  },
  {
   "cell_type": "code",
   "execution_count": 19,
   "metadata": {},
   "outputs": [
    {
     "name": "stdout",
     "output_type": "stream",
     "text": [
      "-3137.9288120976685\n",
      "1301.7496513457647\n"
     ]
    },
    {
     "data": {
      "text/plain": [
       "DeviceArray(1836.17916075, dtype=float64)"
      ]
     },
     "execution_count": 19,
     "metadata": {},
     "output_type": "execute_result"
    }
   ],
   "source": [
    "# get initial moments from vb_params\n",
    "e_log_sticks, e_log_1m_sticks, \\\n",
    "    e_log_pop_freq, e_log_1m_pop_freq = \\\n",
    "        structure_model_lib.get_moments_from_vb_params_dict(\n",
    "            vb_params_dict_nmf_init, gh_loc, gh_weights)\n",
    "\n",
    "vb_params_dict_nmf_init['pop_freq_beta_params'] = \\\n",
    "    cavi_lib.update_pop_beta(g_obs,\n",
    "                    e_log_pop_freq, e_log_1m_pop_freq,\n",
    "                    e_log_sticks, e_log_1m_sticks,\n",
    "                    prior_params_dict['dp_prior_alpha'],\n",
    "                    prior_params_dict['allele_prior_alpha'],\n",
    "                    prior_params_dict['allele_prior_beta'])[2]\n",
    "\n",
    "structure_model_lib.get_kl(g_obs, vb_params_dict_nmf_init, prior_params_dict,\n",
    "                                    gh_loc, gh_weights)"
   ]
  },
  {
   "cell_type": "code",
   "execution_count": 20,
   "metadata": {},
   "outputs": [
    {
     "name": "stdout",
     "output_type": "stream",
     "text": [
      "-3137.9288120976685\n",
      "1301.7496513457647\n"
     ]
    },
    {
     "data": {
      "text/plain": [
       "DeviceArray(1836.17916075, dtype=float64)"
      ]
     },
     "execution_count": 20,
     "metadata": {},
     "output_type": "execute_result"
    }
   ],
   "source": [
    "structure_model_lib.get_kl(g_obs, vb_params_dict_nmf_init, prior_params_dict,\n",
    "                                    gh_loc, gh_weights)"
   ]
  },
  {
   "cell_type": "code",
   "execution_count": null,
   "metadata": {},
   "outputs": [],
   "source": []
  },
  {
   "cell_type": "code",
   "execution_count": null,
   "metadata": {},
   "outputs": [],
   "source": []
  },
  {
   "cell_type": "code",
   "execution_count": null,
   "metadata": {},
   "outputs": [],
   "source": []
  }
 ],
 "metadata": {
  "kernelspec": {
   "display_name": "bnp_sensitivity_jax",
   "language": "python",
   "name": "bnp_sensitivity_jax"
  },
  "language_info": {
   "codemirror_mode": {
    "name": "ipython",
    "version": 3
   },
   "file_extension": ".py",
   "mimetype": "text/x-python",
   "name": "python",
   "nbconvert_exporter": "python",
   "pygments_lexer": "ipython3",
   "version": "3.8.0"
  }
 },
 "nbformat": 4,
 "nbformat_minor": 4
}
