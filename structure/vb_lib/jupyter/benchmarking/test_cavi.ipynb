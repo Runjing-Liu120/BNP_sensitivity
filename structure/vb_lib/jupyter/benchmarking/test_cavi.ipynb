{
 "cells": [
  {
   "cell_type": "code",
   "execution_count": 1,
   "metadata": {},
   "outputs": [
    {
     "name": "stderr",
     "output_type": "stream",
     "text": [
      "/accounts/grad/runjing_liu/.conda/envs/bnp_sensitivity_jax/lib/python3.8/site-packages/jax/lib/xla_bridge.py:130: UserWarning: No GPU/TPU found, falling back to CPU.\n",
      "  warnings.warn('No GPU/TPU found, falling back to CPU.')\n"
     ]
    }
   ],
   "source": [
    "import jax\n",
    "\n",
    "import jax.numpy as np\n",
    "import jax.scipy as sp\n",
    "\n",
    "from numpy.polynomial.hermite import hermgauss\n",
    "import scipy as osp\n",
    "\n",
    "from vb_lib import structure_model_lib, data_utils, cavi_lib\n",
    "from vb_lib.preconditioner_lib import get_mfvb_cov_matmul\n",
    "from bnpmodeling_runjingdev.sensitivity_lib import HyperparameterSensitivityLinearApproximation, get_jac_hvp_fun\n",
    "\n",
    "import paragami\n",
    "\n",
    "from copy import deepcopy\n",
    "\n",
    "import time\n",
    "\n",
    "import matplotlib.pyplot as plt\n",
    "%matplotlib inline  \n",
    "\n",
    "from bnpmodeling_runjingdev import cluster_quantities_lib, modeling_lib\n"
   ]
  },
  {
   "cell_type": "code",
   "execution_count": 2,
   "metadata": {},
   "outputs": [],
   "source": [
    "import numpy as onp\n",
    "onp.random.seed(53453)"
   ]
  },
  {
   "cell_type": "markdown",
   "metadata": {},
   "source": [
    "# Load data"
   ]
  },
  {
   "cell_type": "code",
   "execution_count": 3,
   "metadata": {},
   "outputs": [],
   "source": [
    "use_simulated = False\n",
    "\n",
    "if use_simulated: \n",
    "    data = np.load('../simulated_data/simulated_structure_data_nobs20_nloci50_npop4.npz')\n",
    "    g_obs = np.array(data['g_obs'])\n",
    "else: \n",
    "    data_dir = '../../../../fastStructure/hgdp_data/huang2011_plink_files/'\n",
    "    filenamebase = 'phased_HGDP+India+Africa_2810SNPs-regions1to36'\n",
    "    filename = data_dir + filenamebase + '.npz'\n",
    "    data = np.load(filename)\n",
    "\n",
    "    g_obs = np.array(data['g_obs'])\n",
    "    g_obs_raw = np.array(data['g_obs_raw'])\n",
    "\n",
    "    # just checking ... \n",
    "    which_missing = (g_obs_raw == 3)\n",
    "    (g_obs.argmax(-1) == g_obs_raw)[~which_missing].all()\n",
    "    (g_obs[which_missing] == 0).all()"
   ]
  },
  {
   "cell_type": "code",
   "execution_count": 4,
   "metadata": {},
   "outputs": [],
   "source": [
    "n_obs = g_obs.shape[0]\n",
    "n_loci = g_obs.shape[1]"
   ]
  },
  {
   "cell_type": "code",
   "execution_count": 5,
   "metadata": {},
   "outputs": [
    {
     "name": "stdout",
     "output_type": "stream",
     "text": [
      "1107\n",
      "2810\n"
     ]
    }
   ],
   "source": [
    "print(n_obs)\n",
    "print(n_loci)"
   ]
  },
  {
   "cell_type": "markdown",
   "metadata": {},
   "source": [
    "# Get prior"
   ]
  },
  {
   "cell_type": "code",
   "execution_count": 6,
   "metadata": {},
   "outputs": [
    {
     "name": "stdout",
     "output_type": "stream",
     "text": [
      "OrderedDict([('dp_prior_alpha', DeviceArray([2.59776136], dtype=float64)), ('allele_prior_alpha', DeviceArray([1.15564526], dtype=float64)), ('allele_prior_beta', DeviceArray([1.0515046], dtype=float64))])\n"
     ]
    }
   ],
   "source": [
    "_, prior_params_paragami = \\\n",
    "    structure_model_lib.get_default_prior_params()\n",
    "\n",
    "prior_params_dict = prior_params_paragami.random(key=jax.random.PRNGKey(41))\n",
    "prior_params_free = prior_params_paragami.flatten(prior_params_dict, free = True)\n",
    "\n",
    "print(prior_params_dict)"
   ]
  },
  {
   "cell_type": "markdown",
   "metadata": {},
   "source": [
    "# Get VB params "
   ]
  },
  {
   "cell_type": "code",
   "execution_count": 7,
   "metadata": {},
   "outputs": [],
   "source": [
    "k_approx = 15"
   ]
  },
  {
   "cell_type": "code",
   "execution_count": 8,
   "metadata": {},
   "outputs": [],
   "source": [
    "gh_deg = 8\n",
    "gh_loc, gh_weights = hermgauss(8)"
   ]
  },
  {
   "cell_type": "code",
   "execution_count": 9,
   "metadata": {
    "scrolled": true
   },
   "outputs": [
    {
     "name": "stdout",
     "output_type": "stream",
     "text": [
      "OrderedDict:\n",
      "\t[pop_freq_beta_params] = NumericArrayPattern (2810, 15, 2) (lb=0.0, ub=inf)\n",
      "\t[ind_admix_params] = OrderedDict:\n",
      "\t[stick_beta] = NumericArrayPattern (1107, 14, 2) (lb=0.0, ub=inf)\n"
     ]
    }
   ],
   "source": [
    "use_logitnormal_sticks = False\n",
    "\n",
    "_, vb_params_paragami = \\\n",
    "    structure_model_lib.get_vb_params_paragami_object(n_obs, n_loci, k_approx,\n",
    "                                    use_logitnormal_sticks = use_logitnormal_sticks)\n",
    "    \n",
    "print(vb_params_paragami)"
   ]
  },
  {
   "cell_type": "code",
   "execution_count": 10,
   "metadata": {},
   "outputs": [],
   "source": [
    "vb_params_dict = vb_params_paragami.random(key=jax.random.PRNGKey(41))"
   ]
  },
  {
   "cell_type": "markdown",
   "metadata": {},
   "source": [
    "# Get moments from vb parameters"
   ]
  },
  {
   "cell_type": "code",
   "execution_count": 11,
   "metadata": {},
   "outputs": [],
   "source": [
    "dp_prior_alpha = prior_params_dict['dp_prior_alpha']\n",
    "allele_prior_alpha = prior_params_dict['allele_prior_alpha']\n",
    "allele_prior_beta = prior_params_dict['allele_prior_beta']\n",
    "\n",
    "# get initial moments from vb_params\n",
    "e_log_sticks, e_log_1m_sticks, \\\n",
    "    e_log_pop_freq, e_log_1m_pop_freq = \\\n",
    "        structure_model_lib.get_moments_from_vb_params_dict(\n",
    "            vb_params_dict, gh_loc, gh_weights)\n",
    "\n",
    "e_log_cluster_probs = \\\n",
    "        modeling_lib.get_e_log_cluster_probabilities_from_e_log_stick(\n",
    "            e_log_sticks, e_log_1m_sticks)"
   ]
  },
  {
   "cell_type": "markdown",
   "metadata": {},
   "source": [
    "# Population beta update"
   ]
  },
  {
   "cell_type": "code",
   "execution_count": 12,
   "metadata": {},
   "outputs": [],
   "source": [
    "update_pop_beta = jax.jit(cavi_lib.update_pop_beta)"
   ]
  },
  {
   "cell_type": "code",
   "execution_count": 13,
   "metadata": {},
   "outputs": [],
   "source": [
    "beta_param_update = update_pop_beta(g_obs, e_log_pop_freq, e_log_1m_pop_freq, \n",
    "                                        e_log_cluster_probs, prior_params_dict)"
   ]
  },
  {
   "cell_type": "markdown",
   "metadata": {},
   "source": [
    "### check against autograd"
   ]
  },
  {
   "cell_type": "code",
   "execution_count": 14,
   "metadata": {},
   "outputs": [],
   "source": [
    "get_pop_beta_update1_ag = jax.jit(cavi_lib.get_pop_beta_update1_ag)\n",
    "get_pop_beta_update2_ag = jax.jit(cavi_lib.get_pop_beta_update2_ag)"
   ]
  },
  {
   "cell_type": "code",
   "execution_count": 15,
   "metadata": {},
   "outputs": [],
   "source": [
    "beta_update1 = get_pop_beta_update1_ag(g_obs,\n",
    "                                    e_log_pop_freq, e_log_1m_pop_freq,\n",
    "                                    e_log_sticks, e_log_1m_sticks,\n",
    "                                    dp_prior_alpha, allele_prior_alpha,\n",
    "                                    allele_prior_beta).block_until_ready()"
   ]
  },
  {
   "cell_type": "code",
   "execution_count": 16,
   "metadata": {},
   "outputs": [],
   "source": [
    "beta_update2 = get_pop_beta_update2_ag(g_obs,\n",
    "                                    e_log_pop_freq, e_log_1m_pop_freq,\n",
    "                                    e_log_sticks, e_log_1m_sticks,\n",
    "                                    dp_prior_alpha, allele_prior_alpha,\n",
    "                                    allele_prior_beta).block_until_ready()"
   ]
  },
  {
   "cell_type": "code",
   "execution_count": 17,
   "metadata": {
    "scrolled": true
   },
   "outputs": [
    {
     "data": {
      "text/plain": [
       "DeviceArray(3.41060513e-12, dtype=float64)"
      ]
     },
     "execution_count": 17,
     "metadata": {},
     "output_type": "execute_result"
    }
   ],
   "source": [
    "np.abs(beta_param_update[0][:, :, 0] - 1 - beta_update1).max()"
   ]
  },
  {
   "cell_type": "code",
   "execution_count": 18,
   "metadata": {},
   "outputs": [
    {
     "data": {
      "text/plain": [
       "DeviceArray(1.36424205e-12, dtype=float64)"
      ]
     },
     "execution_count": 18,
     "metadata": {},
     "output_type": "execute_result"
    }
   ],
   "source": [
    "np.abs(beta_param_update[0][:, :, 1] - 1 - beta_update2).max()"
   ]
  },
  {
   "cell_type": "markdown",
   "metadata": {},
   "source": [
    "### Timing\n",
    "\n",
    "It should be faster than the autograd updates ... otherwise why not just use autograd updates"
   ]
  },
  {
   "cell_type": "code",
   "execution_count": 19,
   "metadata": {},
   "outputs": [
    {
     "name": "stdout",
     "output_type": "stream",
     "text": [
      "17.36200714111328\n"
     ]
    }
   ],
   "source": [
    "t0 = time.time() \n",
    "\n",
    "_ = get_pop_beta_update1_ag(g_obs,\n",
    "                            e_log_pop_freq, e_log_1m_pop_freq,\n",
    "                            e_log_sticks, e_log_1m_sticks,\n",
    "                            dp_prior_alpha, allele_prior_alpha,\n",
    "                            allele_prior_beta).block_until_ready()\n",
    "\n",
    "_ = get_pop_beta_update2_ag(g_obs,\n",
    "                            e_log_pop_freq, e_log_1m_pop_freq,\n",
    "                            e_log_sticks, e_log_1m_sticks,\n",
    "                            dp_prior_alpha, allele_prior_alpha,\n",
    "                            allele_prior_beta).block_until_ready()\n",
    "\n",
    "print(time.time() - t0)"
   ]
  },
  {
   "cell_type": "code",
   "execution_count": 20,
   "metadata": {},
   "outputs": [
    {
     "name": "stdout",
     "output_type": "stream",
     "text": [
      "4.0859293937683105\n"
     ]
    }
   ],
   "source": [
    "t0 = time.time() \n",
    "\n",
    "out = update_pop_beta(g_obs, e_log_pop_freq, e_log_1m_pop_freq, \n",
    "                        e_log_cluster_probs, prior_params_dict)\n",
    "\n",
    "out[0].block_until_ready()\n",
    "print(time.time() - t0)"
   ]
  },
  {
   "cell_type": "code",
   "execution_count": null,
   "metadata": {},
   "outputs": [],
   "source": []
  },
  {
   "cell_type": "code",
   "execution_count": null,
   "metadata": {},
   "outputs": [],
   "source": []
  },
  {
   "cell_type": "markdown",
   "metadata": {},
   "source": [
    "# Admixture stick updates"
   ]
  },
  {
   "cell_type": "code",
   "execution_count": 21,
   "metadata": {},
   "outputs": [],
   "source": [
    "update_ind_admix_beta = jax.jit(cavi_lib.update_ind_admix_beta)"
   ]
  },
  {
   "cell_type": "code",
   "execution_count": 22,
   "metadata": {},
   "outputs": [],
   "source": [
    "ind_admix_beta_update = update_ind_admix_beta(g_obs, e_log_pop_freq, e_log_1m_pop_freq, \n",
    "                            e_log_cluster_probs, prior_params_dict)"
   ]
  },
  {
   "cell_type": "code",
   "execution_count": 23,
   "metadata": {},
   "outputs": [],
   "source": [
    "get_stick_update1_ag = jax.jit(cavi_lib.get_stick_update1_ag)\n",
    "get_stick_update2_ag = jax.jit(cavi_lib.get_stick_update2_ag)"
   ]
  },
  {
   "cell_type": "code",
   "execution_count": 24,
   "metadata": {},
   "outputs": [],
   "source": [
    "stick_update1 = get_stick_update1_ag(g_obs,\n",
    "                        e_log_pop_freq, e_log_1m_pop_freq,\n",
    "                        e_log_sticks, e_log_1m_sticks,\n",
    "                        dp_prior_alpha, allele_prior_alpha,\n",
    "                        allele_prior_beta)\n",
    "\n",
    "stick_update2 = get_stick_update2_ag(g_obs,\n",
    "                        e_log_pop_freq, e_log_1m_pop_freq,\n",
    "                        e_log_sticks, e_log_1m_sticks,\n",
    "                        dp_prior_alpha, allele_prior_alpha,\n",
    "                        allele_prior_beta)"
   ]
  },
  {
   "cell_type": "code",
   "execution_count": 25,
   "metadata": {},
   "outputs": [
    {
     "data": {
      "text/plain": [
       "DeviceArray(1.09139364e-10, dtype=float64)"
      ]
     },
     "execution_count": 25,
     "metadata": {},
     "output_type": "execute_result"
    }
   ],
   "source": [
    "np.abs(stick_update1 + 1 -  ind_admix_beta_update[0][:, :, 0]).max()"
   ]
  },
  {
   "cell_type": "code",
   "execution_count": 26,
   "metadata": {},
   "outputs": [
    {
     "data": {
      "text/plain": [
       "DeviceArray(7.23048288e-11, dtype=float64)"
      ]
     },
     "execution_count": 26,
     "metadata": {},
     "output_type": "execute_result"
    }
   ],
   "source": [
    "np.abs(stick_update2 + 1 - ind_admix_beta_update[0][:, :, 1]).max()"
   ]
  },
  {
   "cell_type": "markdown",
   "metadata": {},
   "source": [
    "### Timing\n",
    "\n",
    "It should be faster than the autograd updates ... otherwise why not just use autograd updates"
   ]
  },
  {
   "cell_type": "code",
   "execution_count": 27,
   "metadata": {},
   "outputs": [
    {
     "name": "stdout",
     "output_type": "stream",
     "text": [
      "17.013890981674194\n"
     ]
    }
   ],
   "source": [
    "t0 = time.time() \n",
    "\n",
    "_ = get_stick_update1_ag(g_obs,\n",
    "                        e_log_pop_freq, e_log_1m_pop_freq,\n",
    "                        e_log_sticks, e_log_1m_sticks,\n",
    "                        dp_prior_alpha, allele_prior_alpha,\n",
    "                        allele_prior_beta).block_until_ready()\n",
    "\n",
    "_ = get_stick_update2_ag(g_obs,\n",
    "                        e_log_pop_freq, e_log_1m_pop_freq,\n",
    "                        e_log_sticks, e_log_1m_sticks,\n",
    "                        dp_prior_alpha, allele_prior_alpha,\n",
    "                        allele_prior_beta).block_until_ready()\n",
    "print(time.time() - t0)"
   ]
  },
  {
   "cell_type": "code",
   "execution_count": 28,
   "metadata": {},
   "outputs": [
    {
     "name": "stdout",
     "output_type": "stream",
     "text": [
      "4.136917352676392\n"
     ]
    }
   ],
   "source": [
    "t0 = time.time() \n",
    "\n",
    "out = update_ind_admix_beta(g_obs, e_log_pop_freq, e_log_1m_pop_freq, \n",
    "                            e_log_cluster_probs, prior_params_dict)\n",
    "out[0].block_until_ready()\n",
    "\n",
    "print(time.time() - t0)"
   ]
  },
  {
   "cell_type": "code",
   "execution_count": null,
   "metadata": {},
   "outputs": [],
   "source": [
    "1"
   ]
  },
  {
   "cell_type": "code",
   "execution_count": null,
   "metadata": {},
   "outputs": [],
   "source": []
  },
  {
   "cell_type": "code",
   "execution_count": null,
   "metadata": {},
   "outputs": [],
   "source": [
    "_ = cavi_lib.run_cavi(g_obs, vb_params_dict,\n",
    "                vb_params_paragami,\n",
    "                prior_params_dict, \n",
    "                debug = True)"
   ]
  },
  {
   "cell_type": "code",
   "execution_count": null,
   "metadata": {},
   "outputs": [],
   "source": []
  },
  {
   "cell_type": "markdown",
   "metadata": {},
   "source": [
    "# check data weighting for pop beta"
   ]
  },
  {
   "cell_type": "code",
   "execution_count": 46,
   "metadata": {},
   "outputs": [],
   "source": [
    "beta_update1, e_log1, e_log2 = cavi_lib.update_pop_beta(g_obs, e_log_pop_freq, e_log_1m_pop_freq, \n",
    "                       e_log_cluster_probs, prior_params_dict, \n",
    "                       data_weight = 2)"
   ]
  },
  {
   "cell_type": "code",
   "execution_count": 47,
   "metadata": {},
   "outputs": [],
   "source": [
    "beta_update2, e_log12, e_log22 = cavi_lib.update_pop_beta(np.vstack((g_obs, g_obs)), \n",
    "                            e_log_pop_freq, e_log_1m_pop_freq, \n",
    "                            np.vstack((e_log_cluster_probs, e_log_cluster_probs)), \n",
    "                            prior_params_dict, \n",
    "                            data_weight = 1)"
   ]
  },
  {
   "cell_type": "code",
   "execution_count": 48,
   "metadata": {},
   "outputs": [
    {
     "data": {
      "text/plain": [
       "DeviceArray(2.13162821e-14, dtype=float64)"
      ]
     },
     "execution_count": 48,
     "metadata": {},
     "output_type": "execute_result"
    }
   ],
   "source": [
    "np.abs(beta_update1 - beta_update2).max()"
   ]
  },
  {
   "cell_type": "code",
   "execution_count": 49,
   "metadata": {},
   "outputs": [
    {
     "data": {
      "text/plain": [
       "DeviceArray(2.66453526e-15, dtype=float64)"
      ]
     },
     "execution_count": 49,
     "metadata": {},
     "output_type": "execute_result"
    }
   ],
   "source": [
    "np.abs(e_log1 - e_log12).max()"
   ]
  },
  {
   "cell_type": "code",
   "execution_count": 50,
   "metadata": {},
   "outputs": [
    {
     "data": {
      "text/plain": [
       "DeviceArray(2.44249065e-15, dtype=float64)"
      ]
     },
     "execution_count": 50,
     "metadata": {},
     "output_type": "execute_result"
    }
   ],
   "source": [
    "np.abs(e_log2 - e_log22).max()"
   ]
  },
  {
   "cell_type": "code",
   "execution_count": null,
   "metadata": {},
   "outputs": [],
   "source": []
  }
 ],
 "metadata": {
  "kernelspec": {
   "display_name": "bnp_sensitivity_jax",
   "language": "python",
   "name": "bnp_sensitivity_jax"
  },
  "language_info": {
   "codemirror_mode": {
    "name": "ipython",
    "version": 3
   },
   "file_extension": ".py",
   "mimetype": "text/x-python",
   "name": "python",
   "nbconvert_exporter": "python",
   "pygments_lexer": "ipython3",
   "version": "3.8.0"
  }
 },
 "nbformat": 4,
 "nbformat_minor": 4
}
