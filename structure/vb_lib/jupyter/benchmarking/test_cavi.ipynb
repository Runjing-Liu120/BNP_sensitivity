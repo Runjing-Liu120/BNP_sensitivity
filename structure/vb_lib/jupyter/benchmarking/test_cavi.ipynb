{
 "cells": [
  {
   "cell_type": "code",
   "execution_count": 1,
   "metadata": {},
   "outputs": [
    {
     "name": "stderr",
     "output_type": "stream",
     "text": [
      "/accounts/grad/runjing_liu/.conda/envs/bnp_sensitivity_jax/lib/python3.8/site-packages/jax/lib/xla_bridge.py:130: UserWarning: No GPU/TPU found, falling back to CPU.\n",
      "  warnings.warn('No GPU/TPU found, falling back to CPU.')\n"
     ]
    }
   ],
   "source": [
    "import jax\n",
    "\n",
    "import jax.numpy as np\n",
    "import jax.scipy as sp\n",
    "\n",
    "from numpy.polynomial.hermite import hermgauss\n",
    "import scipy as osp\n",
    "\n",
    "from vb_lib import structure_model_lib, data_utils, cavi_lib\n",
    "from vb_lib.preconditioner_lib import get_mfvb_cov_matmul\n",
    "from bnpmodeling_runjingdev.sensitivity_lib import HyperparameterSensitivityLinearApproximation, get_jac_hvp_fun\n",
    "\n",
    "import paragami\n",
    "\n",
    "from copy import deepcopy\n",
    "\n",
    "import time\n",
    "\n",
    "import matplotlib.pyplot as plt\n",
    "%matplotlib inline  \n",
    "\n",
    "from bnpmodeling_runjingdev import cluster_quantities_lib, modeling_lib\n"
   ]
  },
  {
   "cell_type": "code",
   "execution_count": 2,
   "metadata": {},
   "outputs": [],
   "source": [
    "import numpy as onp\n",
    "onp.random.seed(53453)"
   ]
  },
  {
   "cell_type": "markdown",
   "metadata": {},
   "source": [
    "# Load data"
   ]
  },
  {
   "cell_type": "code",
   "execution_count": 3,
   "metadata": {},
   "outputs": [],
   "source": [
    "use_simulated = True\n",
    "\n",
    "if use_simulated: \n",
    "    data = np.load('../../simulated_data/simulated_structure_data_nobs20_nloci50_npop4.npz')\n",
    "    g_obs = np.array(data['g_obs'])\n",
    "else: \n",
    "    data_dir = '../../../../fastStructure/hgdp_data/huang2011_plink_files/'\n",
    "    filenamebase = 'phased_HGDP+India+Africa_2810SNPs-regions1to36'\n",
    "    filename = data_dir + filenamebase + '.npz'\n",
    "    data = np.load(filename)\n",
    "\n",
    "    g_obs = np.array(data['g_obs'])\n",
    "    g_obs_raw = np.array(data['g_obs_raw'])\n",
    "\n",
    "    # just checking ... \n",
    "    which_missing = (g_obs_raw == 3)\n",
    "    (g_obs.argmax(-1) == g_obs_raw)[~which_missing].all()\n",
    "    (g_obs[which_missing] == 0).all()"
   ]
  },
  {
   "cell_type": "code",
   "execution_count": 4,
   "metadata": {},
   "outputs": [],
   "source": [
    "n_obs = g_obs.shape[0]\n",
    "n_loci = g_obs.shape[1]"
   ]
  },
  {
   "cell_type": "code",
   "execution_count": 5,
   "metadata": {},
   "outputs": [
    {
     "name": "stdout",
     "output_type": "stream",
     "text": [
      "20\n",
      "50\n"
     ]
    }
   ],
   "source": [
    "print(n_obs)\n",
    "print(n_loci)"
   ]
  },
  {
   "cell_type": "markdown",
   "metadata": {},
   "source": [
    "# Get prior"
   ]
  },
  {
   "cell_type": "code",
   "execution_count": 6,
   "metadata": {},
   "outputs": [
    {
     "name": "stdout",
     "output_type": "stream",
     "text": [
      "OrderedDict([('dp_prior_alpha', DeviceArray([2.59776136], dtype=float64)), ('allele_prior_alpha', DeviceArray([1.15564526], dtype=float64)), ('allele_prior_beta', DeviceArray([1.0515046], dtype=float64))])\n"
     ]
    }
   ],
   "source": [
    "_, prior_params_paragami = \\\n",
    "    structure_model_lib.get_default_prior_params()\n",
    "\n",
    "prior_params_dict = prior_params_paragami.random(key=jax.random.PRNGKey(41))\n",
    "prior_params_free = prior_params_paragami.flatten(prior_params_dict, free = True)\n",
    "\n",
    "print(prior_params_dict)"
   ]
  },
  {
   "cell_type": "markdown",
   "metadata": {},
   "source": [
    "# Get VB params "
   ]
  },
  {
   "cell_type": "code",
   "execution_count": 7,
   "metadata": {},
   "outputs": [],
   "source": [
    "k_approx = 15"
   ]
  },
  {
   "cell_type": "code",
   "execution_count": 8,
   "metadata": {},
   "outputs": [],
   "source": [
    "gh_deg = 8\n",
    "gh_loc, gh_weights = hermgauss(8)"
   ]
  },
  {
   "cell_type": "code",
   "execution_count": 9,
   "metadata": {
    "scrolled": true
   },
   "outputs": [
    {
     "name": "stdout",
     "output_type": "stream",
     "text": [
      "OrderedDict:\n",
      "\t[pop_freq_beta_params] = NumericArrayPattern (50, 15, 2) (lb=0.0, ub=inf)\n",
      "\t[ind_admix_params] = OrderedDict:\n",
      "\t[stick_beta] = NumericArrayPattern (20, 14, 2) (lb=0.0, ub=inf)\n"
     ]
    }
   ],
   "source": [
    "use_logitnormal_sticks = False\n",
    "\n",
    "_, vb_params_paragami = \\\n",
    "    structure_model_lib.get_vb_params_paragami_object(n_obs, n_loci, k_approx,\n",
    "                                    use_logitnormal_sticks = use_logitnormal_sticks)\n",
    "    \n",
    "print(vb_params_paragami)"
   ]
  },
  {
   "cell_type": "code",
   "execution_count": 10,
   "metadata": {},
   "outputs": [],
   "source": [
    "vb_params_dict = vb_params_paragami.random(key=jax.random.PRNGKey(41))"
   ]
  },
  {
   "cell_type": "markdown",
   "metadata": {},
   "source": [
    "# Get moments from vb parameters"
   ]
  },
  {
   "cell_type": "code",
   "execution_count": 11,
   "metadata": {},
   "outputs": [],
   "source": [
    "dp_prior_alpha = prior_params_dict['dp_prior_alpha']\n",
    "allele_prior_alpha = prior_params_dict['allele_prior_alpha']\n",
    "allele_prior_beta = prior_params_dict['allele_prior_beta']\n",
    "\n",
    "# get initial moments from vb_params\n",
    "e_log_sticks, e_log_1m_sticks, \\\n",
    "    e_log_pop_freq, e_log_1m_pop_freq = \\\n",
    "        structure_model_lib.get_moments_from_vb_params_dict(\n",
    "            vb_params_dict, gh_loc, gh_weights)\n",
    "\n",
    "e_log_cluster_probs = \\\n",
    "        modeling_lib.get_e_log_cluster_probabilities_from_e_log_stick(\n",
    "            e_log_sticks, e_log_1m_sticks)"
   ]
  },
  {
   "cell_type": "markdown",
   "metadata": {},
   "source": [
    "# Population beta update"
   ]
  },
  {
   "cell_type": "code",
   "execution_count": 12,
   "metadata": {},
   "outputs": [],
   "source": [
    "update_pop_beta = jax.jit(cavi_lib.update_pop_beta)"
   ]
  },
  {
   "cell_type": "code",
   "execution_count": 13,
   "metadata": {},
   "outputs": [],
   "source": [
    "beta_param_update = update_pop_beta(g_obs, e_log_pop_freq, e_log_1m_pop_freq, \n",
    "                                        e_log_cluster_probs, prior_params_dict)"
   ]
  },
  {
   "cell_type": "markdown",
   "metadata": {},
   "source": [
    "### check against autograd"
   ]
  },
  {
   "cell_type": "code",
   "execution_count": 14,
   "metadata": {},
   "outputs": [],
   "source": [
    "get_pop_beta_update1_ag = jax.jit(cavi_lib.get_pop_beta_update1_ag)\n",
    "get_pop_beta_update2_ag = jax.jit(cavi_lib.get_pop_beta_update2_ag)"
   ]
  },
  {
   "cell_type": "code",
   "execution_count": 15,
   "metadata": {},
   "outputs": [],
   "source": [
    "beta_update1 = get_pop_beta_update1_ag(g_obs,\n",
    "                                    e_log_pop_freq, e_log_1m_pop_freq,\n",
    "                                    e_log_sticks, e_log_1m_sticks,\n",
    "                                    dp_prior_alpha, allele_prior_alpha,\n",
    "                                    allele_prior_beta).block_until_ready()"
   ]
  },
  {
   "cell_type": "code",
   "execution_count": 16,
   "metadata": {},
   "outputs": [],
   "source": [
    "beta_update2 = get_pop_beta_update2_ag(g_obs,\n",
    "                                    e_log_pop_freq, e_log_1m_pop_freq,\n",
    "                                    e_log_sticks, e_log_1m_sticks,\n",
    "                                    dp_prior_alpha, allele_prior_alpha,\n",
    "                                    allele_prior_beta).block_until_ready()"
   ]
  },
  {
   "cell_type": "code",
   "execution_count": 17,
   "metadata": {
    "scrolled": true
   },
   "outputs": [
    {
     "data": {
      "text/plain": [
       "DeviceArray(7.10542736e-15, dtype=float64)"
      ]
     },
     "execution_count": 17,
     "metadata": {},
     "output_type": "execute_result"
    }
   ],
   "source": [
    "np.abs(beta_param_update[0][:, :, 0] - 1 - beta_update1).max()"
   ]
  },
  {
   "cell_type": "code",
   "execution_count": 18,
   "metadata": {},
   "outputs": [
    {
     "data": {
      "text/plain": [
       "DeviceArray(7.10542736e-15, dtype=float64)"
      ]
     },
     "execution_count": 18,
     "metadata": {},
     "output_type": "execute_result"
    }
   ],
   "source": [
    "np.abs(beta_param_update[0][:, :, 1] - 1 - beta_update2).max()"
   ]
  },
  {
   "cell_type": "markdown",
   "metadata": {},
   "source": [
    "### Timing\n",
    "\n",
    "It should be faster than the autograd updates ... otherwise why not just use autograd updates"
   ]
  },
  {
   "cell_type": "code",
   "execution_count": 19,
   "metadata": {},
   "outputs": [
    {
     "name": "stdout",
     "output_type": "stream",
     "text": [
      "0.010781526565551758\n"
     ]
    }
   ],
   "source": [
    "t0 = time.time() \n",
    "\n",
    "_ = get_pop_beta_update1_ag(g_obs,\n",
    "                            e_log_pop_freq, e_log_1m_pop_freq,\n",
    "                            e_log_sticks, e_log_1m_sticks,\n",
    "                            dp_prior_alpha, allele_prior_alpha,\n",
    "                            allele_prior_beta).block_until_ready()\n",
    "\n",
    "_ = get_pop_beta_update2_ag(g_obs,\n",
    "                            e_log_pop_freq, e_log_1m_pop_freq,\n",
    "                            e_log_sticks, e_log_1m_sticks,\n",
    "                            dp_prior_alpha, allele_prior_alpha,\n",
    "                            allele_prior_beta).block_until_ready()\n",
    "\n",
    "print(time.time() - t0)"
   ]
  },
  {
   "cell_type": "code",
   "execution_count": 20,
   "metadata": {},
   "outputs": [
    {
     "name": "stdout",
     "output_type": "stream",
     "text": [
      "0.004094839096069336\n"
     ]
    }
   ],
   "source": [
    "t0 = time.time() \n",
    "\n",
    "out = update_pop_beta(g_obs, e_log_pop_freq, e_log_1m_pop_freq, \n",
    "                        e_log_cluster_probs, prior_params_dict)\n",
    "\n",
    "out[0].block_until_ready()\n",
    "print(time.time() - t0)"
   ]
  },
  {
   "cell_type": "code",
   "execution_count": null,
   "metadata": {},
   "outputs": [],
   "source": []
  },
  {
   "cell_type": "code",
   "execution_count": null,
   "metadata": {},
   "outputs": [],
   "source": []
  },
  {
   "cell_type": "markdown",
   "metadata": {},
   "source": [
    "# Admixture stick updates"
   ]
  },
  {
   "cell_type": "code",
   "execution_count": 21,
   "metadata": {},
   "outputs": [],
   "source": [
    "update_ind_admix_beta = jax.jit(cavi_lib.update_ind_admix_beta)"
   ]
  },
  {
   "cell_type": "code",
   "execution_count": 22,
   "metadata": {},
   "outputs": [],
   "source": [
    "ind_admix_beta_update = update_ind_admix_beta(g_obs, e_log_pop_freq, e_log_1m_pop_freq, \n",
    "                            e_log_cluster_probs, prior_params_dict)"
   ]
  },
  {
   "cell_type": "code",
   "execution_count": 23,
   "metadata": {},
   "outputs": [],
   "source": [
    "get_stick_update1_ag = jax.jit(cavi_lib.get_stick_update1_ag)\n",
    "get_stick_update2_ag = jax.jit(cavi_lib.get_stick_update2_ag)"
   ]
  },
  {
   "cell_type": "code",
   "execution_count": 24,
   "metadata": {},
   "outputs": [],
   "source": [
    "stick_update1 = get_stick_update1_ag(g_obs,\n",
    "                        e_log_pop_freq, e_log_1m_pop_freq,\n",
    "                        e_log_sticks, e_log_1m_sticks,\n",
    "                        dp_prior_alpha, allele_prior_alpha,\n",
    "                        allele_prior_beta)\n",
    "\n",
    "stick_update2 = get_stick_update2_ag(g_obs,\n",
    "                        e_log_pop_freq, e_log_1m_pop_freq,\n",
    "                        e_log_sticks, e_log_1m_sticks,\n",
    "                        dp_prior_alpha, allele_prior_alpha,\n",
    "                        allele_prior_beta)"
   ]
  },
  {
   "cell_type": "code",
   "execution_count": 25,
   "metadata": {},
   "outputs": [
    {
     "data": {
      "text/plain": [
       "DeviceArray(5.68434189e-14, dtype=float64)"
      ]
     },
     "execution_count": 25,
     "metadata": {},
     "output_type": "execute_result"
    }
   ],
   "source": [
    "np.abs(stick_update1 + 1 -  ind_admix_beta_update[0][:, :, 0]).max()"
   ]
  },
  {
   "cell_type": "code",
   "execution_count": 26,
   "metadata": {},
   "outputs": [
    {
     "data": {
      "text/plain": [
       "DeviceArray(1.42108547e-14, dtype=float64)"
      ]
     },
     "execution_count": 26,
     "metadata": {},
     "output_type": "execute_result"
    }
   ],
   "source": [
    "np.abs(stick_update2 + 1 - ind_admix_beta_update[0][:, :, 1]).max()"
   ]
  },
  {
   "cell_type": "markdown",
   "metadata": {},
   "source": [
    "### Timing\n",
    "\n",
    "It should be faster than the autograd updates ... otherwise why not just use autograd updates"
   ]
  },
  {
   "cell_type": "code",
   "execution_count": 27,
   "metadata": {},
   "outputs": [
    {
     "name": "stdout",
     "output_type": "stream",
     "text": [
      "0.010497093200683594\n"
     ]
    }
   ],
   "source": [
    "t0 = time.time() \n",
    "\n",
    "_ = get_stick_update1_ag(g_obs,\n",
    "                        e_log_pop_freq, e_log_1m_pop_freq,\n",
    "                        e_log_sticks, e_log_1m_sticks,\n",
    "                        dp_prior_alpha, allele_prior_alpha,\n",
    "                        allele_prior_beta).block_until_ready()\n",
    "\n",
    "_ = get_stick_update2_ag(g_obs,\n",
    "                        e_log_pop_freq, e_log_1m_pop_freq,\n",
    "                        e_log_sticks, e_log_1m_sticks,\n",
    "                        dp_prior_alpha, allele_prior_alpha,\n",
    "                        allele_prior_beta).block_until_ready()\n",
    "print(time.time() - t0)"
   ]
  },
  {
   "cell_type": "code",
   "execution_count": 28,
   "metadata": {},
   "outputs": [
    {
     "name": "stdout",
     "output_type": "stream",
     "text": [
      "0.0034744739532470703\n"
     ]
    }
   ],
   "source": [
    "t0 = time.time() \n",
    "\n",
    "out = update_ind_admix_beta(g_obs, e_log_pop_freq, e_log_1m_pop_freq, \n",
    "                            e_log_cluster_probs, prior_params_dict)\n",
    "out[0].block_until_ready()\n",
    "\n",
    "print(time.time() - t0)"
   ]
  },
  {
   "cell_type": "code",
   "execution_count": 29,
   "metadata": {},
   "outputs": [
    {
     "data": {
      "text/plain": [
       "1"
      ]
     },
     "execution_count": 29,
     "metadata": {},
     "output_type": "execute_result"
    }
   ],
   "source": [
    "1"
   ]
  },
  {
   "cell_type": "code",
   "execution_count": null,
   "metadata": {},
   "outputs": [],
   "source": []
  },
  {
   "cell_type": "code",
   "execution_count": 30,
   "metadata": {},
   "outputs": [
    {
     "name": "stdout",
     "output_type": "stream",
     "text": [
      "Compiling cavi functions ...\n",
      "CAVI compile time: 2.66sec\n",
      "\n",
      " running CAVI ...\n",
      "iteration [1]; kl:2036.442476; elapsed: 0.0342secs\n",
      "iteration [2]; kl:2022.359559; elapsed: 0.1881secs\n",
      "iteration [3]; kl:2013.471353; elapsed: 0.0387secs\n",
      "iteration [4]; kl:2006.331928; elapsed: 0.0199secs\n",
      "iteration [5]; kl:2000.120481; elapsed: 0.0226secs\n",
      "iteration [6]; kl:1994.438231; elapsed: 0.0194secs\n",
      "iteration [7]; kl:1989.037013; elapsed: 0.0191secs\n",
      "iteration [8]; kl:1983.768687; elapsed: 0.0176secs\n",
      "iteration [9]; kl:1978.57033; elapsed: 0.0195secs\n",
      "iteration [10]; kl:1973.449046; elapsed: 0.0223secs\n",
      "iteration [11]; kl:1968.459106; elapsed: 0.0198secs\n",
      "iteration [12]; kl:1963.673786; elapsed: 0.0187secs\n",
      "iteration [13]; kl:1959.159472; elapsed: 0.0198secs\n",
      "iteration [14]; kl:1954.959799; elapsed: 0.0225secs\n",
      "iteration [15]; kl:1951.092835; elapsed: 0.0193secs\n",
      "iteration [16]; kl:1947.557926; elapsed: 0.0229secs\n",
      "iteration [17]; kl:1944.345364; elapsed: 0.0228secs\n",
      "iteration [18]; kl:1941.443241; elapsed: 0.0227secs\n",
      "iteration [19]; kl:1938.839679; elapsed: 0.0196secs\n",
      "iteration [20]; kl:1936.521794; elapsed: 0.0198secs\n",
      "iteration [21]; kl:1934.473763; elapsed: 0.0223secs\n",
      "iteration [22]; kl:1932.675678; elapsed: 0.0196secs\n",
      "iteration [23]; kl:1931.10378; elapsed: 0.0196secs\n",
      "iteration [24]; kl:1929.731828; elapsed: 0.0227secs\n",
      "iteration [25]; kl:1928.532982; elapsed: 0.0203secs\n",
      "iteration [26]; kl:1927.481561; elapsed: 0.0202secs\n",
      "iteration [27]; kl:1926.554287; elapsed: 0.0203secs\n",
      "iteration [28]; kl:1925.730901; elapsed: 0.0199secs\n",
      "iteration [29]; kl:1924.994288; elapsed: 0.0226secs\n",
      "iteration [30]; kl:1924.330291; elapsed: 0.0196secs\n",
      "iteration [31]; kl:1923.727397; elapsed: 0.0194secs\n",
      "iteration [32]; kl:1923.176361; elapsed: 0.0192secs\n",
      "iteration [33]; kl:1922.669836; elapsed: 0.023secs\n",
      "iteration [34]; kl:1922.202016; elapsed: 0.0196secs\n",
      "iteration [35]; kl:1921.768319; elapsed: 0.0198secs\n",
      "iteration [36]; kl:1921.3651; elapsed: 0.0197secs\n",
      "iteration [37]; kl:1920.989415; elapsed: 0.0194secs\n",
      "iteration [38]; kl:1920.638831; elapsed: 0.0196secs\n",
      "iteration [39]; kl:1920.311279; elapsed: 0.0229secs\n",
      "iteration [40]; kl:1920.004954; elapsed: 0.02secs\n",
      "iteration [41]; kl:1919.71824; elapsed: 0.0201secs\n",
      "iteration [42]; kl:1919.449666; elapsed: 0.0193secs\n",
      "iteration [43]; kl:1919.197882; elapsed: 0.0226secs\n",
      "iteration [44]; kl:1918.961639; elapsed: 0.0195secs\n",
      "iteration [45]; kl:1918.739784; elapsed: 0.0224secs\n",
      "iteration [46]; kl:1918.531255; elapsed: 0.0197secs\n",
      "iteration [47]; kl:1918.335074; elapsed: 0.0194secs\n",
      "iteration [48]; kl:1918.150346; elapsed: 0.0191secs\n",
      "iteration [49]; kl:1917.976257; elapsed: 0.0192secs\n",
      "iteration [50]; kl:1917.812062; elapsed: 0.0188secs\n",
      "iteration [51]; kl:1917.657085; elapsed: 0.0196secs\n",
      "iteration [52]; kl:1917.510712; elapsed: 0.0196secs\n",
      "iteration [53]; kl:1917.372382; elapsed: 0.0225secs\n",
      "iteration [54]; kl:1917.241584; elapsed: 0.02secs\n",
      "iteration [55]; kl:1917.117849; elapsed: 0.0186secs\n",
      "iteration [56]; kl:1917.000745; elapsed: 0.0194secs\n",
      "iteration [57]; kl:1916.889874; elapsed: 0.0197secs\n",
      "iteration [58]; kl:1916.784866; elapsed: 0.0183secs\n",
      "iteration [59]; kl:1916.685378; elapsed: 0.02secs\n",
      "iteration [60]; kl:1916.591086; elapsed: 0.0197secs\n",
      "iteration [61]; kl:1916.501689; elapsed: 0.0195secs\n",
      "iteration [62]; kl:1916.416901; elapsed: 0.0187secs\n",
      "iteration [63]; kl:1916.336454; elapsed: 0.0199secs\n",
      "iteration [64]; kl:1916.260093; elapsed: 0.0201secs\n",
      "iteration [65]; kl:1916.187579; elapsed: 0.0195secs\n",
      "iteration [66]; kl:1916.118683; elapsed: 0.0195secs\n",
      "iteration [67]; kl:1916.053189; elapsed: 0.0189secs\n",
      "iteration [68]; kl:1915.990894; elapsed: 0.023secs\n",
      "iteration [69]; kl:1915.931605; elapsed: 0.0198secs\n",
      "iteration [70]; kl:1915.875138; elapsed: 0.0189secs\n",
      "iteration [71]; kl:1915.821322; elapsed: 0.0195secs\n",
      "iteration [72]; kl:1915.769995; elapsed: 0.0194secs\n",
      "iteration [73]; kl:1915.721004; elapsed: 0.0188secs\n",
      "iteration [74]; kl:1915.674207; elapsed: 0.0198secs\n",
      "iteration [75]; kl:1915.62947; elapsed: 0.0228secs\n",
      "iteration [76]; kl:1915.586668; elapsed: 0.0203secs\n",
      "iteration [77]; kl:1915.545685; elapsed: 0.02secs\n",
      "iteration [78]; kl:1915.506415; elapsed: 0.0227secs\n",
      "iteration [79]; kl:1915.468757; elapsed: 0.0179secs\n",
      "iteration [80]; kl:1915.432621; elapsed: 0.0178secs\n",
      "iteration [81]; kl:1915.397921; elapsed: 0.018secs\n",
      "iteration [82]; kl:1915.364581; elapsed: 0.0178secs\n",
      "iteration [83]; kl:1915.332531; elapsed: 0.0175secs\n",
      "iteration [84]; kl:1915.301705; elapsed: 0.0182secs\n",
      "iteration [85]; kl:1915.272045; elapsed: 0.0194secs\n",
      "iteration [86]; kl:1915.243498; elapsed: 0.019secs\n",
      "iteration [87]; kl:1915.216016; elapsed: 0.0189secs\n",
      "iteration [88]; kl:1915.189553; elapsed: 0.0193secs\n",
      "iteration [89]; kl:1915.164071; elapsed: 0.0189secs\n",
      "iteration [90]; kl:1915.139533; elapsed: 0.0188secs\n",
      "iteration [91]; kl:1915.115906; elapsed: 0.0227secs\n",
      "iteration [92]; kl:1915.093158; elapsed: 0.0188secs\n",
      "iteration [93]; kl:1915.071262; elapsed: 0.0195secs\n",
      "iteration [94]; kl:1915.050191; elapsed: 0.0197secs\n",
      "iteration [95]; kl:1915.029921; elapsed: 0.0198secs\n",
      "iteration [96]; kl:1915.010429; elapsed: 0.0198secs\n",
      "iteration [97]; kl:1914.991693; elapsed: 0.0189secs\n",
      "iteration [98]; kl:1914.973691; elapsed: 0.0202secs\n",
      "iteration [99]; kl:1914.956403; elapsed: 0.0205secs\n",
      "iteration [100]; kl:1914.93981; elapsed: 0.0202secs\n",
      "iteration [101]; kl:1914.923892; elapsed: 0.0192secs\n",
      "iteration [102]; kl:1914.908629; elapsed: 0.0186secs\n",
      "iteration [103]; kl:1914.894004; elapsed: 0.0226secs\n",
      "iteration [104]; kl:1914.879997; elapsed: 0.0199secs\n",
      "iteration [105]; kl:1914.86659; elapsed: 0.02secs\n",
      "iteration [106]; kl:1914.853763; elapsed: 0.0223secs\n",
      "iteration [107]; kl:1914.8415; elapsed: 0.0191secs\n",
      "iteration [108]; kl:1914.829781; elapsed: 0.023secs\n",
      "iteration [109]; kl:1914.818588; elapsed: 0.0193secs\n",
      "iteration [110]; kl:1914.807903; elapsed: 0.0226secs\n",
      "iteration [111]; kl:1914.797708; elapsed: 0.0194secs\n",
      "iteration [112]; kl:1914.787985; elapsed: 0.019secs\n",
      "iteration [113]; kl:1914.778717; elapsed: 0.0226secs\n",
      "iteration [114]; kl:1914.769886; elapsed: 0.0204secs\n",
      "iteration [115]; kl:1914.761475; elapsed: 0.0228secs\n",
      "iteration [116]; kl:1914.753468; elapsed: 0.0197secs\n",
      "iteration [117]; kl:1914.745848; elapsed: 0.0197secs\n",
      "iteration [118]; kl:1914.738598; elapsed: 0.0198secs\n",
      "iteration [119]; kl:1914.731704; elapsed: 0.0192secs\n",
      "iteration [120]; kl:1914.72515; elapsed: 0.0191secs\n",
      "iteration [121]; kl:1914.71892; elapsed: 0.019secs\n",
      "iteration [122]; kl:1914.713001; elapsed: 0.0199secs\n",
      "iteration [123]; kl:1914.707379; elapsed: 0.0194secs\n",
      "iteration [124]; kl:1914.70204; elapsed: 0.0189secs\n",
      "iteration [125]; kl:1914.69697; elapsed: 0.0186secs\n",
      "iteration [126]; kl:1914.692158; elapsed: 0.0226secs\n",
      "iteration [127]; kl:1914.687591; elapsed: 0.0196secs\n",
      "iteration [128]; kl:1914.683257; elapsed: 0.0225secs\n",
      "iteration [129]; kl:1914.679146; elapsed: 0.0231secs\n",
      "iteration [130]; kl:1914.675246; elapsed: 0.0195secs\n",
      "iteration [131]; kl:1914.671547; elapsed: 0.0183secs\n",
      "iteration [132]; kl:1914.668039; elapsed: 0.0236secs\n",
      "iteration [133]; kl:1914.664713; elapsed: 0.0233secs\n",
      "iteration [134]; kl:1914.66156; elapsed: 0.0229secs\n",
      "iteration [135]; kl:1914.65857; elapsed: 0.0195secs\n",
      "iteration [136]; kl:1914.655737; elapsed: 0.0182secs\n",
      "iteration [137]; kl:1914.653051; elapsed: 0.0184secs\n",
      "iteration [138]; kl:1914.650505; elapsed: 0.0194secs\n",
      "iteration [139]; kl:1914.648092; elapsed: 0.02secs\n",
      "iteration [140]; kl:1914.645806; elapsed: 0.0196secs\n",
      "iteration [141]; kl:1914.643639; elapsed: 0.0196secs\n",
      "iteration [142]; kl:1914.641586; elapsed: 0.0189secs\n",
      "iteration [143]; kl:1914.639641; elapsed: 0.0182secs\n",
      "iteration [144]; kl:1914.637798; elapsed: 0.0237secs\n",
      "iteration [145]; kl:1914.636052; elapsed: 0.0192secs\n",
      "iteration [146]; kl:1914.634398; elapsed: 0.0186secs\n",
      "iteration [147]; kl:1914.63283; elapsed: 0.0199secs\n",
      "iteration [148]; kl:1914.631345; elapsed: 0.0225secs\n",
      "iteration [149]; kl:1914.629938; elapsed: 0.0192secs\n",
      "iteration [150]; kl:1914.628606; elapsed: 0.0227secs\n",
      "iteration [151]; kl:1914.627343; elapsed: 0.0193secs\n",
      "iteration [152]; kl:1914.626147; elapsed: 0.0225secs\n",
      "iteration [153]; kl:1914.625013; elapsed: 0.0193secs\n",
      "iteration [154]; kl:1914.62394; elapsed: 0.0202secs\n",
      "iteration [155]; kl:1914.622922; elapsed: 0.0199secs\n",
      "iteration [156]; kl:1914.621959; elapsed: 0.0192secs\n",
      "iteration [157]; kl:1914.621046; elapsed: 0.0181secs\n",
      "iteration [158]; kl:1914.620181; elapsed: 0.02secs\n",
      "iteration [159]; kl:1914.619361; elapsed: 0.0193secs\n"
     ]
    },
    {
     "name": "stdout",
     "output_type": "stream",
     "text": [
      "iteration [160]; kl:1914.618585; elapsed: 0.0189secs\n",
      "iteration [161]; kl:1914.617849; elapsed: 0.0197secs\n",
      "iteration [162]; kl:1914.617152; elapsed: 0.0201secs\n",
      "iteration [163]; kl:1914.616492; elapsed: 0.0195secs\n",
      "iteration [164]; kl:1914.615866; elapsed: 0.0182secs\n",
      "iteration [165]; kl:1914.615273; elapsed: 0.0187secs\n",
      "iteration [166]; kl:1914.614711; elapsed: 0.0185secs\n",
      "iteration [167]; kl:1914.614179; elapsed: 0.0194secs\n",
      "iteration [168]; kl:1914.613674; elapsed: 0.0191secs\n",
      "iteration [169]; kl:1914.613196; elapsed: 0.0184secs\n",
      "iteration [170]; kl:1914.612743; elapsed: 0.0201secs\n",
      "iteration [171]; kl:1914.612314; elapsed: 0.0195secs\n",
      "iteration [172]; kl:1914.611907; elapsed: 0.0175secs\n",
      "iteration [173]; kl:1914.611521; elapsed: 0.0195secs\n",
      "iteration [174]; kl:1914.611155; elapsed: 0.0183secs\n",
      "iteration [175]; kl:1914.610809; elapsed: 0.0171secs\n",
      "iteration [176]; kl:1914.61048; elapsed: 0.0191secs\n",
      "iteration [177]; kl:1914.610169; elapsed: 0.0186secs\n",
      "iteration [178]; kl:1914.609874; elapsed: 0.0181secs\n",
      "iteration [179]; kl:1914.609594; elapsed: 0.0188secs\n",
      "iteration [180]; kl:1914.609329; elapsed: 0.0189secs\n",
      "iteration [181]; kl:1914.609078; elapsed: 0.018secs\n",
      "iteration [182]; kl:1914.608839; elapsed: 0.0193secs\n",
      "iteration [183]; kl:1914.608613; elapsed: 0.0196secs\n",
      "iteration [184]; kl:1914.608399; elapsed: 0.0191secs\n",
      "iteration [185]; kl:1914.608196; elapsed: 0.0195secs\n",
      "iteration [186]; kl:1914.608003; elapsed: 0.0189secs\n",
      "iteration [187]; kl:1914.60782; elapsed: 0.018secs\n",
      "iteration [188]; kl:1914.607647; elapsed: 0.0188secs\n",
      "iteration [189]; kl:1914.607483; elapsed: 0.0189secs\n",
      "iteration [190]; kl:1914.607327; elapsed: 0.0196secs\n",
      "iteration [191]; kl:1914.60718; elapsed: 0.0189secs\n",
      "iteration [192]; kl:1914.607039; elapsed: 0.0226secs\n",
      "iteration [193]; kl:1914.606907; elapsed: 0.0192secs\n",
      "iteration [194]; kl:1914.60678; elapsed: 0.0173secs\n",
      "iteration [195]; kl:1914.606661; elapsed: 0.0167secs\n",
      "iteration [196]; kl:1914.606548; elapsed: 0.0165secs\n",
      "iteration [197]; kl:1914.60644; elapsed: 0.0174secs\n",
      "iteration [198]; kl:1914.606338; elapsed: 0.0174secs\n",
      "iteration [199]; kl:1914.606241; elapsed: 0.0173secs\n",
      "iteration [200]; kl:1914.606149; elapsed: 0.0179secs\n",
      "iteration [201]; kl:1914.606062; elapsed: 0.0176secs\n",
      "iteration [202]; kl:1914.60598; elapsed: 0.0177secs\n",
      "iteration [203]; kl:1914.605901; elapsed: 0.0173secs\n",
      "iteration [204]; kl:1914.605827; elapsed: 0.0172secs\n",
      "iteration [205]; kl:1914.605756; elapsed: 0.0171secs\n",
      "iteration [206]; kl:1914.605689; elapsed: 0.0177secs\n",
      "iteration [207]; kl:1914.605626; elapsed: 0.018secs\n",
      "iteration [208]; kl:1914.605565; elapsed: 0.024secs\n",
      "iteration [209]; kl:1914.605508; elapsed: 0.0226secs\n",
      "iteration [210]; kl:1914.605454; elapsed: 0.022secs\n",
      "iteration [211]; kl:1914.605402; elapsed: 0.0196secs\n",
      "iteration [212]; kl:1914.605353; elapsed: 0.0193secs\n",
      "CAVI done.\n",
      "final KL: 1914.605353\n",
      "Elapsed: 212 steps in 4.40 seconds\n"
     ]
    }
   ],
   "source": [
    "_ = cavi_lib.run_cavi(g_obs, vb_params_dict,\n",
    "                vb_params_paragami,\n",
    "                prior_params_dict, \n",
    "                debug = True)"
   ]
  },
  {
   "cell_type": "code",
   "execution_count": null,
   "metadata": {},
   "outputs": [],
   "source": []
  },
  {
   "cell_type": "markdown",
   "metadata": {},
   "source": [
    "# check data weighting for pop beta"
   ]
  },
  {
   "cell_type": "code",
   "execution_count": 31,
   "metadata": {},
   "outputs": [],
   "source": [
    "beta_update1, e_log1, e_log2 = cavi_lib.update_pop_beta(g_obs, e_log_pop_freq, e_log_1m_pop_freq, \n",
    "                       e_log_cluster_probs, prior_params_dict, \n",
    "                       data_weight = 2)"
   ]
  },
  {
   "cell_type": "code",
   "execution_count": 32,
   "metadata": {},
   "outputs": [],
   "source": [
    "beta_update2, e_log12, e_log22 = cavi_lib.update_pop_beta(np.vstack((g_obs, g_obs)), \n",
    "                            e_log_pop_freq, e_log_1m_pop_freq, \n",
    "                            np.vstack((e_log_cluster_probs, e_log_cluster_probs)), \n",
    "                            prior_params_dict, \n",
    "                            data_weight = 1)"
   ]
  },
  {
   "cell_type": "code",
   "execution_count": 33,
   "metadata": {},
   "outputs": [
    {
     "data": {
      "text/plain": [
       "DeviceArray(2.13162821e-14, dtype=float64)"
      ]
     },
     "execution_count": 33,
     "metadata": {},
     "output_type": "execute_result"
    }
   ],
   "source": [
    "np.abs(beta_update1 - beta_update2).max()"
   ]
  },
  {
   "cell_type": "code",
   "execution_count": 34,
   "metadata": {},
   "outputs": [
    {
     "data": {
      "text/plain": [
       "DeviceArray(2.66453526e-15, dtype=float64)"
      ]
     },
     "execution_count": 34,
     "metadata": {},
     "output_type": "execute_result"
    }
   ],
   "source": [
    "np.abs(e_log1 - e_log12).max()"
   ]
  },
  {
   "cell_type": "code",
   "execution_count": 35,
   "metadata": {},
   "outputs": [
    {
     "data": {
      "text/plain": [
       "DeviceArray(2.44249065e-15, dtype=float64)"
      ]
     },
     "execution_count": 35,
     "metadata": {},
     "output_type": "execute_result"
    }
   ],
   "source": [
    "np.abs(e_log2 - e_log22).max()"
   ]
  },
  {
   "cell_type": "code",
   "execution_count": null,
   "metadata": {},
   "outputs": [],
   "source": []
  },
  {
   "cell_type": "code",
   "execution_count": null,
   "metadata": {},
   "outputs": [],
   "source": []
  }
 ],
 "metadata": {
  "kernelspec": {
   "display_name": "bnp_sensitivity_jax",
   "language": "python",
   "name": "bnp_sensitivity_jax"
  },
  "language_info": {
   "codemirror_mode": {
    "name": "ipython",
    "version": 3
   },
   "file_extension": ".py",
   "mimetype": "text/x-python",
   "name": "python",
   "nbconvert_exporter": "python",
   "pygments_lexer": "ipython3",
   "version": "3.8.0"
  }
 },
 "nbformat": 4,
 "nbformat_minor": 4
}
