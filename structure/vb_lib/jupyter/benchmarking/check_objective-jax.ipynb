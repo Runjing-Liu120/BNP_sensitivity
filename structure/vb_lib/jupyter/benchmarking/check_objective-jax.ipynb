{
 "cells": [
  {
   "cell_type": "code",
   "execution_count": 1,
   "metadata": {
    "scrolled": true
   },
   "outputs": [
    {
     "name": "stderr",
     "output_type": "stream",
     "text": [
      "/accounts/grad/runjing_liu/.conda/envs/bnp_sensitivity_jax/lib/python3.8/site-packages/jax/lib/xla_bridge.py:130: UserWarning: No GPU/TPU found, falling back to CPU.\n",
      "  warnings.warn('No GPU/TPU found, falling back to CPU.')\n"
     ]
    }
   ],
   "source": [
    "import jax\n",
    "\n",
    "import jax.numpy as np\n",
    "import jax.scipy as sp\n",
    "\n",
    "from numpy.polynomial.hermite import hermgauss\n",
    "import scipy as osp\n",
    "\n",
    "from vb_lib import structure_model_lib, data_utils, cavi_lib\n",
    "import vb_lib.structure_optimization_lib as s_optim_lib\n",
    "from vb_lib.preconditioner_lib import get_mfvb_cov_matmul\n",
    "\n",
    "import paragami\n",
    "import vittles\n",
    "\n",
    "from copy import deepcopy\n",
    "\n",
    "import time\n",
    "\n",
    "import matplotlib.pyplot as plt\n",
    "%matplotlib inline  \n",
    "\n",
    "from bnpmodeling_runjingdev import cluster_quantities_lib, modeling_lib\n",
    "from bnpmodeling_runjingdev.sensitivity_lib import get_jac_hvp_fun"
   ]
  },
  {
   "cell_type": "code",
   "execution_count": 2,
   "metadata": {},
   "outputs": [],
   "source": [
    "autograd_results = np.load('./tmp.npz')"
   ]
  },
  {
   "cell_type": "code",
   "execution_count": 3,
   "metadata": {},
   "outputs": [],
   "source": [
    "import numpy as onp\n",
    "onp.random.seed(53453)"
   ]
  },
  {
   "cell_type": "markdown",
   "metadata": {
    "collapsed": true
   },
   "source": [
    "# Draw data"
   ]
  },
  {
   "cell_type": "code",
   "execution_count": 4,
   "metadata": {},
   "outputs": [],
   "source": [
    "n_obs = 5\n",
    "n_loci = 10\n",
    "n_pop = 4"
   ]
  },
  {
   "cell_type": "code",
   "execution_count": 5,
   "metadata": {},
   "outputs": [
    {
     "name": "stdout",
     "output_type": "stream",
     "text": [
      "Generating datapoints  0  to  5\n"
     ]
    }
   ],
   "source": [
    "g_obs, true_pop_allele_freq, true_ind_admix_propn = \\\n",
    "    data_utils.draw_data(n_obs, n_loci, n_pop)"
   ]
  },
  {
   "cell_type": "code",
   "execution_count": 6,
   "metadata": {
    "scrolled": true
   },
   "outputs": [
    {
     "data": {
      "text/plain": [
       "<matplotlib.image.AxesImage at 0x7f9fb4316f10>"
      ]
     },
     "execution_count": 6,
     "metadata": {},
     "output_type": "execute_result"
    },
    {
     "data": {
      "image/png": "[encoded data removed]",
      "text/plain": [
       "<Figure size 360x288 with 1 Axes>"
      ]
     },
     "metadata": {
      "needs_background": "light"
     },
     "output_type": "display_data"
    }
   ],
   "source": [
    "plt.matshow(true_ind_admix_propn.T)"
   ]
  },
  {
   "cell_type": "code",
   "execution_count": 7,
   "metadata": {},
   "outputs": [],
   "source": [
    "g_obs = np.array(g_obs)"
   ]
  },
  {
   "cell_type": "code",
   "execution_count": 8,
   "metadata": {},
   "outputs": [],
   "source": [
    "assert np.all(g_obs  == autograd_results['g_obs'])"
   ]
  },
  {
   "cell_type": "code",
   "execution_count": null,
   "metadata": {},
   "outputs": [],
   "source": []
  },
  {
   "cell_type": "markdown",
   "metadata": {},
   "source": [
    "# Get prior"
   ]
  },
  {
   "cell_type": "code",
   "execution_count": 9,
   "metadata": {},
   "outputs": [
    {
     "name": "stdout",
     "output_type": "stream",
     "text": [
      "{'dp_prior_alpha': DeviceArray([3.], dtype=float64), 'allele_prior_alpha': DeviceArray([1.], dtype=float64), 'allele_prior_beta': DeviceArray([1.], dtype=float64)}\n"
     ]
    }
   ],
   "source": [
    "prior_params_dict, prior_params_paragami = \\\n",
    "    structure_model_lib.get_default_prior_params()\n",
    "\n",
    "print(prior_params_dict)\n",
    "\n",
    "prior_params_free = prior_params_paragami.flatten(prior_params_dict, free = True)"
   ]
  },
  {
   "cell_type": "code",
   "execution_count": null,
   "metadata": {},
   "outputs": [],
   "source": []
  },
  {
   "cell_type": "markdown",
   "metadata": {},
   "source": [
    "# Get VB params "
   ]
  },
  {
   "cell_type": "code",
   "execution_count": 10,
   "metadata": {},
   "outputs": [],
   "source": [
    "k_approx = 8"
   ]
  },
  {
   "cell_type": "code",
   "execution_count": 11,
   "metadata": {},
   "outputs": [],
   "source": [
    "gh_deg = 8\n",
    "gh_loc, gh_weights = hermgauss(8)"
   ]
  },
  {
   "cell_type": "code",
   "execution_count": 12,
   "metadata": {
    "scrolled": true
   },
   "outputs": [
    {
     "name": "stdout",
     "output_type": "stream",
     "text": [
      "OrderedDict:\n",
      "\t[pop_freq_beta_params] = NumericArrayPattern (10, 8, 2) (lb=0.0, ub=inf)\n",
      "\t[ind_admix_params] = OrderedDict:\n",
      "\t[stick_means] = NumericArrayPattern (5, 7) (lb=-inf, ub=inf)\n",
      "\t[stick_infos] = NumericArrayPattern (5, 7) (lb=0.0001, ub=inf)\n"
     ]
    }
   ],
   "source": [
    "use_logitnormal_sticks = True\n",
    "\n",
    "_, vb_params_paragami = \\\n",
    "    structure_model_lib.get_vb_params_paragami_object(n_obs, n_loci, k_approx,\n",
    "                                    use_logitnormal_sticks = use_logitnormal_sticks)\n",
    "    \n",
    "print(vb_params_paragami)"
   ]
  },
  {
   "cell_type": "code",
   "execution_count": 13,
   "metadata": {},
   "outputs": [],
   "source": [
    "vb_params_free = autograd_results['vb_params_free']\n",
    "vb_params_dict = vb_params_paragami.fold(vb_params_free, free = True)\n",
    "\n",
    "assert np.all(vb_params_paragami.flatten(vb_params_dict, free = False) == \\\n",
    "              autograd_results['vb_params_flattened'])"
   ]
  },
  {
   "cell_type": "code",
   "execution_count": null,
   "metadata": {},
   "outputs": [],
   "source": []
  },
  {
   "cell_type": "raw",
   "metadata": {},
   "source": [
    "ez_free = np.array(onp.random.randn(n_obs, k_approx))\n",
    "ez = jax.nn.softmax(ez_free, 1)\n",
    "\n",
    "v = np.array(onp.random.randn(*ez_free.shape))"
   ]
  },
  {
   "cell_type": "raw",
   "metadata": {},
   "source": [
    "def constrain_ez_free(ez_free): \n",
    "    return jax.nn.softmax(ez_free, 1)"
   ]
  },
  {
   "cell_type": "raw",
   "metadata": {},
   "source": [
    "def constrain_ez_free_jvp(ez_free, v): \n",
    "    \n",
    "    ez = constrain_ez_free(ez_free)\n",
    "    \n",
    "    term1 = ez * v\n",
    "    term2 = ez * (ez * v).sum(1, keepdims = True)\n",
    "    \n",
    "    return term1 - term2"
   ]
  },
  {
   "cell_type": "raw",
   "metadata": {},
   "source": [
    "jax_jvp = jax.jvp(constrain_ez_free, (ez_free, ), (v, ))[1]\n",
    "jax_vjp = jax.vjp(constrain_ez_free, ez_free)[1](v)[0]"
   ]
  },
  {
   "cell_type": "raw",
   "metadata": {},
   "source": [
    "jax_vjp"
   ]
  },
  {
   "cell_type": "raw",
   "metadata": {},
   "source": [
    "my_jvp = constrain_ez_free_jvp(ez_free, v)"
   ]
  },
  {
   "cell_type": "raw",
   "metadata": {},
   "source": [
    "np.abs(jax_jvp - my_jvp).max()"
   ]
  },
  {
   "cell_type": "raw",
   "metadata": {},
   "source": [
    "np.abs(my_jvp - jax_vjp).max()"
   ]
  },
  {
   "cell_type": "raw",
   "metadata": {},
   "source": [
    "ez_jac = get_ez_free_ez_jac(ez_free)\n",
    "\n",
    "for n in range(n_obs): \n",
    "    print(np.abs(ez_jac[n] - ez_free_to_ez_jac_auto(ez_free[n])).max())"
   ]
  },
  {
   "cell_type": "code",
   "execution_count": null,
   "metadata": {},
   "outputs": [],
   "source": []
  },
  {
   "cell_type": "code",
   "execution_count": null,
   "metadata": {},
   "outputs": [],
   "source": []
  },
  {
   "cell_type": "markdown",
   "metadata": {},
   "source": [
    "# Define objective"
   ]
  },
  {
   "cell_type": "code",
   "execution_count": 14,
   "metadata": {},
   "outputs": [
    {
     "name": "stdout",
     "output_type": "stream",
     "text": [
      "compiling objective ... \n",
      "done. Elasped: 80.966\n"
     ]
    }
   ],
   "source": [
    "stru_objective = s_optim_lib.StructureObjective(g_obs, \n",
    "                                                 vb_params_paragami,\n",
    "                                                 prior_params_dict, \n",
    "                                                 gh_loc, gh_weights)"
   ]
  },
  {
   "cell_type": "code",
   "execution_count": null,
   "metadata": {},
   "outputs": [],
   "source": []
  },
  {
   "cell_type": "markdown",
   "metadata": {},
   "source": [
    "# Check gradients are the same as autograd"
   ]
  },
  {
   "cell_type": "code",
   "execution_count": 15,
   "metadata": {},
   "outputs": [],
   "source": [
    "assert np.abs(stru_objective.f(vb_params_free) - \\\n",
    "              autograd_results['kl']) < 1e-8"
   ]
  },
  {
   "cell_type": "code",
   "execution_count": 16,
   "metadata": {},
   "outputs": [],
   "source": [
    "assert np.abs(stru_objective.grad(vb_params_free) - \\\n",
    "              autograd_results['kl_grad']).max() < 1e-8"
   ]
  },
  {
   "cell_type": "code",
   "execution_count": 17,
   "metadata": {},
   "outputs": [],
   "source": [
    "kl_hess = autograd_results['kl_hess']\n",
    "\n",
    "for i in range(kl_hess.shape[0]): \n",
    "    \n",
    "    e_i = onp.zeros(kl_hess.shape[0])\n",
    "    e_i[i] = 1\n",
    "    \n",
    "    hvp1 = stru_objective.hvp(vb_params_free, e_i)\n",
    "    hvp2 = np.dot(kl_hess, e_i)\n",
    "    \n",
    "    assert np.abs(hvp1 - hvp2).max() < 1e-8"
   ]
  },
  {
   "cell_type": "code",
   "execution_count": 18,
   "metadata": {},
   "outputs": [
    {
     "data": {
      "text/plain": [
       "DeviceArray([-2.17205245e-03,  4.17055880e-03, -1.46833920e-03,\n",
       "              2.91553673e-03, -2.42525172e-03,  4.31047878e-03,\n",
       "             -1.93001950e-03,  3.90341296e-03, -4.88034494e-04,\n",
       "              6.49088324e-04, -2.51817819e-04,  3.82583476e-04,\n",
       "              7.98699434e-04, -1.90597864e-03,  6.40353224e-03,\n",
       "             -1.14175356e-02, -8.96375390e-04,  1.69527786e-03,\n",
       "             -8.41802264e-04,  1.28967311e-03, -2.94652043e-04,\n",
       "              5.67827951e-04, -7.49482541e-04,  1.02461811e-03,\n",
       "             -2.22140296e-04,  3.03516777e-04, -1.48196870e-04,\n",
       "              1.91381047e-04,  2.40575642e-04, -2.62602153e-04,\n",
       "              3.93586429e-04, -7.04055604e-04,  2.45486209e-04,\n",
       "              2.18761277e-03, -4.67251117e-05,  3.20720271e-04,\n",
       "             -1.09498449e-03,  1.96236690e-03,  5.34217232e-05,\n",
       "              4.06736312e-04, -1.96029998e-05,  5.66116084e-05,\n",
       "             -5.29356261e-05,  1.80431089e-04,  5.98506838e-05,\n",
       "             -2.26137791e-04,  1.51361798e-03, -4.67242468e-03,\n",
       "             -5.12881709e-04,  6.90438196e-04, -1.53735223e-04,\n",
       "              1.95728883e-04,  1.70663350e-05,  4.93341386e-05,\n",
       "             -5.58424586e-05,  2.18212629e-04, -3.26158072e-05,\n",
       "              4.29273818e-05, -1.29111455e-05,  1.58015015e-05,\n",
       "             -2.96584074e-04, -4.01748930e-04,  1.07237019e-04,\n",
       "             -1.56700595e-03,  2.13090099e-03, -1.45949033e-03,\n",
       "              6.27930121e-04, -3.94877683e-04,  7.66981557e-04,\n",
       "             -5.14448190e-04,  4.23419908e-04, -1.11322924e-04,\n",
       "              2.13289751e-04, -1.40378961e-04,  8.07773547e-05,\n",
       "             -3.78943801e-05, -2.54623099e-04,  5.60846060e-05,\n",
       "             -4.09774861e-04,  1.03428782e-04, -2.46401184e-04,\n",
       "              1.10221631e-03, -1.81784354e-03,  2.56595296e-03,\n",
       "             -1.37088586e-03,  1.76028851e-03, -1.02793727e-04,\n",
       "              4.04309490e-04, -1.83637316e-04,  2.36576872e-04,\n",
       "             -6.15241370e-05,  1.56812573e-04,  2.71393126e-04,\n",
       "             -5.06274394e-04,  9.14425544e-04, -1.73178187e-03,\n",
       "             -7.46122875e-04,  1.09627281e-03, -4.67601035e-04,\n",
       "              6.00854453e-04, -3.05525816e-05,  8.41904836e-05,\n",
       "             -3.64349511e-04,  5.37124954e-04, -1.64000359e-06,\n",
       "              6.83993967e-06, -5.34539399e-05,  9.39098392e-05,\n",
       "              1.13430499e-07, -8.16670269e-07,  2.41036525e-03,\n",
       "             -3.89523918e-03, -6.69200291e-04,  2.45914802e-03,\n",
       "             -1.57481857e-04,  3.59136778e-04, -5.17647617e-05,\n",
       "              6.78244442e-04, -2.85239306e-04,  3.96060434e-04,\n",
       "              8.60178505e-05, -3.29858262e-06, -2.41499132e-05,\n",
       "              8.39063693e-05, -9.12657333e-04,  5.13306420e-04,\n",
       "              1.65977715e-03, -3.28535041e-03,  4.79884643e-04,\n",
       "              8.18373697e-07,  5.15293765e-05, -2.89401219e-05,\n",
       "             -8.92327403e-05,  4.03607610e-04, -1.24526108e-03,\n",
       "              1.76984674e-03,  5.53623869e-06,  6.73256619e-05,\n",
       "             -1.86286464e-04,  2.77490659e-04,  2.90195817e-04,\n",
       "             -1.17997283e-03,  1.77603166e-03, -4.31233947e-03,\n",
       "             -1.01127234e-03,  1.54446283e-03, -5.54563597e-04,\n",
       "              7.46009488e-04, -1.48409117e-06,  6.21270120e-06,\n",
       "             -2.76849481e-04,  3.23393590e-04, -7.58002228e-05,\n",
       "              9.53077518e-05, -1.97913120e-05,  3.57516072e-05,\n",
       "              7.13894189e-04, -8.61225016e-04,  2.28681204e-03,\n",
       "             -3.94299017e-03,  0.00000000e+00,  0.00000000e+00,\n",
       "              0.00000000e+00,  0.00000000e+00,  0.00000000e+00,\n",
       "              0.00000000e+00,  0.00000000e+00,  0.00000000e+00,\n",
       "              0.00000000e+00,  0.00000000e+00,  0.00000000e+00,\n",
       "              0.00000000e+00,  0.00000000e+00,  0.00000000e+00,\n",
       "              0.00000000e+00,  0.00000000e+00,  0.00000000e+00,\n",
       "              0.00000000e+00,  0.00000000e+00,  0.00000000e+00,\n",
       "              0.00000000e+00,  0.00000000e+00,  0.00000000e+00,\n",
       "              0.00000000e+00,  0.00000000e+00,  0.00000000e+00,\n",
       "              0.00000000e+00,  0.00000000e+00,  1.78501655e-02,\n",
       "              2.05616711e-02,  2.51136001e-02,  4.24035596e-02,\n",
       "              2.98993770e-02,  3.49569238e-02, -1.81614103e-01,\n",
       "              0.00000000e+00,  0.00000000e+00,  0.00000000e+00,\n",
       "              0.00000000e+00,  0.00000000e+00,  0.00000000e+00,\n",
       "              0.00000000e+00,  0.00000000e+00,  0.00000000e+00,\n",
       "              0.00000000e+00,  0.00000000e+00,  0.00000000e+00,\n",
       "              0.00000000e+00,  0.00000000e+00,  0.00000000e+00,\n",
       "              0.00000000e+00,  0.00000000e+00,  0.00000000e+00,\n",
       "              0.00000000e+00,  0.00000000e+00,  0.00000000e+00,\n",
       "              0.00000000e+00,  0.00000000e+00,  0.00000000e+00,\n",
       "              0.00000000e+00,  0.00000000e+00,  0.00000000e+00,\n",
       "              0.00000000e+00, -3.68895510e-19, -1.18562916e-03,\n",
       "             -1.00313925e-03, -1.23362858e-02, -2.98982904e-03,\n",
       "             -3.08381118e-03,  5.93433393e-01], dtype=float64)"
      ]
     },
     "execution_count": 18,
     "metadata": {},
     "output_type": "execute_result"
    }
   ],
   "source": [
    "hvp2"
   ]
  },
  {
   "cell_type": "code",
   "execution_count": 19,
   "metadata": {},
   "outputs": [
    {
     "data": {
      "text/plain": [
       "DeviceArray([-2.17205245e-03,  4.17055880e-03, -1.46833920e-03,\n",
       "              2.91553673e-03, -2.42525172e-03,  4.31047878e-03,\n",
       "             -1.93001950e-03,  3.90341296e-03, -4.88034494e-04,\n",
       "              6.49088324e-04, -2.51817819e-04,  3.82583476e-04,\n",
       "              7.98699434e-04, -1.90597864e-03,  6.40353224e-03,\n",
       "             -1.14175356e-02, -8.96375390e-04,  1.69527786e-03,\n",
       "             -8.41802264e-04,  1.28967311e-03, -2.94652043e-04,\n",
       "              5.67827951e-04, -7.49482541e-04,  1.02461811e-03,\n",
       "             -2.22140296e-04,  3.03516777e-04, -1.48196870e-04,\n",
       "              1.91381047e-04,  2.40575642e-04, -2.62602153e-04,\n",
       "              3.93586429e-04, -7.04055604e-04,  2.45486209e-04,\n",
       "              2.18761277e-03, -4.67251117e-05,  3.20720271e-04,\n",
       "             -1.09498449e-03,  1.96236690e-03,  5.34217232e-05,\n",
       "              4.06736312e-04, -1.96029998e-05,  5.66116084e-05,\n",
       "             -5.29356261e-05,  1.80431089e-04,  5.98506838e-05,\n",
       "             -2.26137791e-04,  1.51361798e-03, -4.67242468e-03,\n",
       "             -5.12881709e-04,  6.90438196e-04, -1.53735223e-04,\n",
       "              1.95728883e-04,  1.70663350e-05,  4.93341386e-05,\n",
       "             -5.58424586e-05,  2.18212629e-04, -3.26158072e-05,\n",
       "              4.29273818e-05, -1.29111455e-05,  1.58015015e-05,\n",
       "             -2.96584074e-04, -4.01748930e-04,  1.07237019e-04,\n",
       "             -1.56700595e-03,  2.13090099e-03, -1.45949033e-03,\n",
       "              6.27930121e-04, -3.94877683e-04,  7.66981557e-04,\n",
       "             -5.14448190e-04,  4.23419908e-04, -1.11322924e-04,\n",
       "              2.13289751e-04, -1.40378961e-04,  8.07773547e-05,\n",
       "             -3.78943801e-05, -2.54623099e-04,  5.60846060e-05,\n",
       "             -4.09774861e-04,  1.03428782e-04, -2.46401184e-04,\n",
       "              1.10221631e-03, -1.81784354e-03,  2.56595296e-03,\n",
       "             -1.37088586e-03,  1.76028851e-03, -1.02793727e-04,\n",
       "              4.04309490e-04, -1.83637316e-04,  2.36576872e-04,\n",
       "             -6.15241370e-05,  1.56812573e-04,  2.71393126e-04,\n",
       "             -5.06274394e-04,  9.14425544e-04, -1.73178187e-03,\n",
       "             -7.46122875e-04,  1.09627281e-03, -4.67601035e-04,\n",
       "              6.00854453e-04, -3.05525816e-05,  8.41904836e-05,\n",
       "             -3.64349511e-04,  5.37124954e-04, -1.64000359e-06,\n",
       "              6.83993967e-06, -5.34539399e-05,  9.39098392e-05,\n",
       "              1.13430499e-07, -8.16670269e-07,  2.41036525e-03,\n",
       "             -3.89523918e-03, -6.69200291e-04,  2.45914802e-03,\n",
       "             -1.57481857e-04,  3.59136778e-04, -5.17647617e-05,\n",
       "              6.78244442e-04, -2.85239306e-04,  3.96060434e-04,\n",
       "              8.60178505e-05, -3.29858262e-06, -2.41499132e-05,\n",
       "              8.39063693e-05, -9.12657333e-04,  5.13306420e-04,\n",
       "              1.65977715e-03, -3.28535041e-03,  4.79884643e-04,\n",
       "              8.18373697e-07,  5.15293765e-05, -2.89401219e-05,\n",
       "             -8.92327403e-05,  4.03607610e-04, -1.24526108e-03,\n",
       "              1.76984674e-03,  5.53623869e-06,  6.73256619e-05,\n",
       "             -1.86286464e-04,  2.77490659e-04,  2.90195817e-04,\n",
       "             -1.17997283e-03,  1.77603166e-03, -4.31233947e-03,\n",
       "             -1.01127234e-03,  1.54446283e-03, -5.54563597e-04,\n",
       "              7.46009488e-04, -1.48409117e-06,  6.21270120e-06,\n",
       "             -2.76849481e-04,  3.23393590e-04, -7.58002228e-05,\n",
       "              9.53077518e-05, -1.97913120e-05,  3.57516072e-05,\n",
       "              7.13894189e-04, -8.61225016e-04,  2.28681204e-03,\n",
       "             -3.94299017e-03,  0.00000000e+00,  0.00000000e+00,\n",
       "              0.00000000e+00,  0.00000000e+00,  0.00000000e+00,\n",
       "              0.00000000e+00,  0.00000000e+00,  0.00000000e+00,\n",
       "              0.00000000e+00,  0.00000000e+00,  0.00000000e+00,\n",
       "              0.00000000e+00,  0.00000000e+00,  0.00000000e+00,\n",
       "              0.00000000e+00,  0.00000000e+00,  0.00000000e+00,\n",
       "              0.00000000e+00,  0.00000000e+00,  0.00000000e+00,\n",
       "              0.00000000e+00,  0.00000000e+00,  0.00000000e+00,\n",
       "              0.00000000e+00,  0.00000000e+00,  0.00000000e+00,\n",
       "              0.00000000e+00,  0.00000000e+00,  1.78501655e-02,\n",
       "              2.05616711e-02,  2.51136001e-02,  4.24035596e-02,\n",
       "              2.98993770e-02,  3.49569238e-02, -1.81614103e-01,\n",
       "              0.00000000e+00,  0.00000000e+00,  0.00000000e+00,\n",
       "              0.00000000e+00,  0.00000000e+00,  0.00000000e+00,\n",
       "              0.00000000e+00,  0.00000000e+00,  0.00000000e+00,\n",
       "              0.00000000e+00,  0.00000000e+00,  0.00000000e+00,\n",
       "              0.00000000e+00,  0.00000000e+00,  0.00000000e+00,\n",
       "              0.00000000e+00,  0.00000000e+00,  0.00000000e+00,\n",
       "              0.00000000e+00,  0.00000000e+00,  0.00000000e+00,\n",
       "              0.00000000e+00,  0.00000000e+00,  0.00000000e+00,\n",
       "              0.00000000e+00,  0.00000000e+00,  0.00000000e+00,\n",
       "              0.00000000e+00,  6.03893207e-19, -1.18562916e-03,\n",
       "             -1.00313925e-03, -1.23362858e-02, -2.98982904e-03,\n",
       "             -3.08381118e-03,  5.93433393e-01], dtype=float64)"
      ]
     },
     "execution_count": 19,
     "metadata": {},
     "output_type": "execute_result"
    }
   ],
   "source": [
    "hvp1"
   ]
  },
  {
   "cell_type": "code",
   "execution_count": 20,
   "metadata": {},
   "outputs": [
    {
     "name": "stdout",
     "output_type": "stream",
     "text": [
      "def get_e_loglik(g_obs, e_log_pop_freq, e_log_1m_pop_freq, \\\n",
      "                    e_log_sticks, e_log_1m_sticks,\n",
      "                    detach_ez):\n",
      "\n",
      "\n",
      "    e_log_cluster_probs = \\\n",
      "        modeling_lib.get_e_log_cluster_probabilities_from_e_log_stick(\n",
      "                            e_log_sticks, e_log_1m_sticks)\n",
      "    \n",
      "    body_fun = lambda val, x : get_e_loglik_l(x[0], x[1], x[2],\n",
      "                                             e_log_cluster_probs,\n",
      "                                             detach_ez) + val\n",
      "    \n",
      "    scan_fun = lambda val, x : (body_fun(val, x), None)\n",
      "    \n",
      "    return jax.lax.scan(scan_fun,\n",
      "                        init = 0.,\n",
      "                        xs = (g_obs.transpose((1, 0, 2)),\n",
      "                              e_log_pop_freq, \n",
      "                              e_log_1m_pop_freq))[0]\n",
      "\n"
     ]
    }
   ],
   "source": [
    "import inspect\n",
    "lines = inspect.getsource(structure_model_lib.get_e_loglik)\n",
    "print(lines)"
   ]
  },
  {
   "cell_type": "code",
   "execution_count": null,
   "metadata": {},
   "outputs": [],
   "source": []
  }
 ],
 "metadata": {
  "kernelspec": {
   "display_name": "bnp_sensitivity_jax",
   "language": "python",
   "name": "bnp_sensitivity_jax"
  },
  "language_info": {
   "codemirror_mode": {
    "name": "ipython",
    "version": 3
   },
   "file_extension": ".py",
   "mimetype": "text/x-python",
   "name": "python",
   "nbconvert_exporter": "python",
   "pygments_lexer": "ipython3",
   "version": "3.8.0"
  }
 },
 "nbformat": 4,
 "nbformat_minor": 2
}
