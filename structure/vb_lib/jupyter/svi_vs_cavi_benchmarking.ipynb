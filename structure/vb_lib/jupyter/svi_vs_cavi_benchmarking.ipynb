{
 "cells": [
  {
   "cell_type": "code",
   "execution_count": 1,
   "metadata": {},
   "outputs": [
    {
     "name": "stderr",
     "output_type": "stream",
     "text": [
      "/home/rliu/anaconda3/envs/bnp_sensitivity/lib/python3.8/site-packages/autograd/core.py:290: UserWarning: \n",
      "The defvjp method is deprecated. See the update guide and tutorial:\n",
      "https://github.com/HIPS/autograd/blob/master/docs/updateguide.md\n",
      "https://github.com/HIPS/autograd/blob/master/docs/tutorial.md\n",
      "  warnings.warn(deprecation_msg)\n"
     ]
    }
   ],
   "source": [
    "import autograd\n",
    "\n",
    "import autograd.numpy as np\n",
    "import autograd.scipy as sp\n",
    "from numpy.polynomial.hermite import hermgauss\n",
    "\n",
    "from vb_lib import structure_model_lib, data_utils, cavi_lib\n",
    "import vb_lib.structure_optimization_lib as str_opt_lib\n",
    "\n",
    "import paragami\n",
    "import vittles\n",
    "\n",
    "from copy import deepcopy\n",
    "\n",
    "import argparse\n",
    "import distutils.util\n",
    "\n",
    "import os\n",
    "\n",
    "import time\n",
    "\n",
    "import matplotlib.pyplot as plt\n",
    "%matplotlib inline  \n",
    "\n",
    "from bnpmodeling_runjingdev import cluster_quantities_lib, modeling_lib\n"
   ]
  },
  {
   "cell_type": "code",
   "execution_count": 2,
   "metadata": {},
   "outputs": [],
   "source": [
    "np.random.seed(53453)"
   ]
  },
  {
   "cell_type": "markdown",
   "metadata": {
    "collapsed": true
   },
   "source": [
    "# Draw data"
   ]
  },
  {
   "cell_type": "code",
   "execution_count": 3,
   "metadata": {},
   "outputs": [],
   "source": [
    "n_obs = 4000\n",
    "n_loci = 200\n",
    "n_pop = 4"
   ]
  },
  {
   "cell_type": "code",
   "execution_count": 4,
   "metadata": {},
   "outputs": [],
   "source": [
    "g_obs, true_pop_allele_freq, true_ind_admix_propn = \\\n",
    "    data_utils.draw_data(n_obs, n_loci, n_pop)"
   ]
  },
  {
   "cell_type": "code",
   "execution_count": 5,
   "metadata": {
    "scrolled": true
   },
   "outputs": [
    {
     "data": {
      "text/plain": [
       "<matplotlib.image.AxesImage at 0x7fa4d09462b0>"
      ]
     },
     "execution_count": 5,
     "metadata": {},
     "output_type": "execute_result"
    },
    {
     "data": {
      "image/png": "[encoded data removed]",
      "text/plain": [
       "<Figure size 1152x144 with 1 Axes>"
      ]
     },
     "metadata": {
      "needs_background": "light"
     },
     "output_type": "display_data"
    }
   ],
   "source": [
    "plt.matshow(true_ind_admix_propn.T)"
   ]
  },
  {
   "cell_type": "code",
   "execution_count": 6,
   "metadata": {
    "scrolled": true
   },
   "outputs": [
    {
     "data": {
      "text/plain": [
       "(4000, 200, 3)"
      ]
     },
     "execution_count": 6,
     "metadata": {},
     "output_type": "execute_result"
    }
   ],
   "source": [
    "g_obs.shape"
   ]
  },
  {
   "cell_type": "markdown",
   "metadata": {},
   "source": [
    "# Get prior"
   ]
  },
  {
   "cell_type": "code",
   "execution_count": 7,
   "metadata": {},
   "outputs": [
    {
     "name": "stdout",
     "output_type": "stream",
     "text": [
      "OrderedDict:\n",
      "\t[dp_prior_alpha] = NumericArrayPattern (1,) (lb=0.0, ub=inf)\n",
      "\t[allele_prior_alpha] = NumericArrayPattern (1,) (lb=0.0, ub=inf)\n",
      "\t[allele_prior_beta] = NumericArrayPattern (1,) (lb=0.0, ub=inf)\n"
     ]
    }
   ],
   "source": [
    "prior_params_dict, prior_params_paragami = \\\n",
    "    structure_model_lib.get_default_prior_params()\n",
    "\n",
    "print(prior_params_paragami)\n",
    "\n",
    "prior_params_free = prior_params_paragami.flatten(prior_params_dict, free = True)"
   ]
  },
  {
   "cell_type": "markdown",
   "metadata": {},
   "source": [
    "# Get VB params "
   ]
  },
  {
   "cell_type": "code",
   "execution_count": 8,
   "metadata": {},
   "outputs": [],
   "source": [
    "k_approx = 12"
   ]
  },
  {
   "cell_type": "code",
   "execution_count": 9,
   "metadata": {},
   "outputs": [],
   "source": [
    "gh_deg = 8\n",
    "gh_loc, gh_weights = hermgauss(8)"
   ]
  },
  {
   "cell_type": "code",
   "execution_count": 10,
   "metadata": {
    "scrolled": true
   },
   "outputs": [
    {
     "name": "stdout",
     "output_type": "stream",
     "text": [
      "OrderedDict:\n",
      "\t[pop_freq_beta_params] = NumericArrayPattern (200, 12, 2) (lb=0.0, ub=inf)\n",
      "\t[ind_mix_stick_beta_params] = NumericArrayPattern (4000, 11, 2) (lb=0.0, ub=inf)\n"
     ]
    }
   ],
   "source": [
    "use_logitnormal_sticks = False\n",
    "\n",
    "vb_params_dict, vb_params_paragami = \\\n",
    "    structure_model_lib.get_vb_params_paragami_object(n_obs, n_loci, k_approx,\n",
    "                                    use_logitnormal_sticks = use_logitnormal_sticks)\n",
    "    \n",
    "print(vb_params_paragami)"
   ]
  },
  {
   "cell_type": "markdown",
   "metadata": {},
   "source": [
    "## Initialize "
   ]
  },
  {
   "cell_type": "code",
   "execution_count": 11,
   "metadata": {},
   "outputs": [
    {
     "name": "stdout",
     "output_type": "stream",
     "text": [
      "init time: 0.828sec\n"
     ]
    }
   ],
   "source": [
    "t0 = time.time()\n",
    "vb_params_dict = \\\n",
    "        structure_model_lib.set_init_vb_params(g_obs, k_approx, vb_params_dict,\n",
    "                                                use_logitnormal_sticks)\n",
    "\n",
    "print('init time: {:.03f}sec'.format(time.time() - t0))\n",
    "\n",
    "vb_params_init_dict = deepcopy(vb_params_dict)"
   ]
  },
  {
   "cell_type": "markdown",
   "metadata": {},
   "source": [
    "# Run CAVI"
   ]
  },
  {
   "cell_type": "code",
   "execution_count": 12,
   "metadata": {
    "scrolled": true
   },
   "outputs": [
    {
     "name": "stdout",
     "output_type": "stream",
     "text": [
      "iteration [1]; kl:1751365.308491; elapsed: 6.9902secs\n",
      "iteration [2]; kl:1400992.951642; elapsed: 7.1065secs\n",
      "iteration [3]; kl:1283874.250429; elapsed: 7.041secs\n",
      "iteration [4]; kl:1208707.166545; elapsed: 6.9317secs\n",
      "iteration [5]; kl:1158359.747169; elapsed: 7.0015secs\n",
      "iteration [6]; kl:1130452.471345; elapsed: 7.3126secs\n",
      "iteration [7]; kl:1116185.082702; elapsed: 6.6291secs\n",
      "iteration [8]; kl:1108283.155788; elapsed: 6.6519secs\n",
      "iteration [9]; kl:1103318.93067; elapsed: 6.5816secs\n",
      "iteration [10]; kl:1099840.199077; elapsed: 6.6331secs\n",
      "iteration [11]; kl:1097207.356997; elapsed: 6.4782secs\n",
      "iteration [12]; kl:1095111.500179; elapsed: 6.4479secs\n",
      "iteration [13]; kl:1093385.573348; elapsed: 6.2334secs\n",
      "iteration [14]; kl:1091929.16935; elapsed: 6.2992secs\n",
      "iteration [15]; kl:1090676.608963; elapsed: 6.653secs\n",
      "iteration [16]; kl:1089582.287202; elapsed: 6.7725secs\n",
      "iteration [17]; kl:1088613.269931; elapsed: 6.7078secs\n",
      "iteration [18]; kl:1087745.112872; elapsed: 6.6761secs\n",
      "iteration [19]; kl:1086959.265494; elapsed: 6.4259secs\n",
      "Done. Warning, max iterations reached. \n"
     ]
    }
   ],
   "source": [
    "vb_svi_cavi, ez_opt_cavi, kl_vec_cavi, time_vec_cavi = \\\n",
    "    cavi_lib.run_cavi(g_obs, deepcopy(vb_params_init_dict), \n",
    "                        prior_params_dict,\n",
    "                        use_logitnormal_sticks, \n",
    "                        max_iter = 20,\n",
    "                        x_tol = 1e-2)\n"
   ]
  },
  {
   "cell_type": "markdown",
   "metadata": {},
   "source": [
    "# Run stochastic CAVI"
   ]
  },
  {
   "cell_type": "code",
   "execution_count": 13,
   "metadata": {},
   "outputs": [],
   "source": [
    "e_z_init = cavi_lib.get_ez_from_vb_params_dict(g_obs, vb_params_dict, use_logitnormal_sticks)"
   ]
  },
  {
   "cell_type": "code",
   "execution_count": 14,
   "metadata": {
    "scrolled": true
   },
   "outputs": [
    {
     "name": "stdout",
     "output_type": "stream",
     "text": [
      "iteration [10]; kl:1821590.77555; elapsed: 6.3417secs\n",
      "iteration [20]; kl:1393367.997714; elapsed: 6.1573secs\n",
      "iteration [30]; kl:1220208.481529; elapsed: 6.1633secs\n",
      "iteration [40]; kl:1152125.267276; elapsed: 6.1454secs\n",
      "iteration [50]; kl:1130150.872868; elapsed: 6.1568secs\n",
      "iteration [60]; kl:1115299.491024; elapsed: 6.1426secs\n",
      "iteration [70]; kl:1106370.706707; elapsed: 6.1965secs\n",
      "iteration [80]; kl:1102293.565202; elapsed: 6.1791secs\n",
      "iteration [90]; kl:1099506.56252; elapsed: 6.1868secs\n",
      "iteration [100]; kl:1097652.382999; elapsed: 6.1622secs\n",
      "iteration [110]; kl:1096136.949431; elapsed: 6.2482secs\n",
      "iteration [120]; kl:1094882.208224; elapsed: 6.26secs\n",
      "iteration [130]; kl:1093821.234046; elapsed: 6.1531secs\n",
      "iteration [140]; kl:1092909.056172; elapsed: 6.1846secs\n",
      "iteration [150]; kl:1092105.175898; elapsed: 6.1935secs\n",
      "iteration [160]; kl:1091399.526208; elapsed: 6.1666secs\n",
      "iteration [170]; kl:1090772.219237; elapsed: 6.1839secs\n",
      "iteration [180]; kl:1090202.413293; elapsed: 6.1602secs\n",
      "iteration [190]; kl:1089690.901042; elapsed: 6.2689secs\n",
      "Done. Warning, max iterations reached. \n"
     ]
    }
   ],
   "source": [
    "vb_svi_dict, ez_opt_svi, kl_vec_svi, time_vec_svi = \\\n",
    "    cavi_lib.run_svi(g_obs, deepcopy(vb_params_init_dict),\n",
    "                prior_params_dict,\n",
    "                e_z_init,\n",
    "                use_logitnormal_sticks,\n",
    "                batchsize = round(n_obs / 10),\n",
    "                x_tol = 1e-2,\n",
    "                max_iter = 200,\n",
    "                print_every = 10, \n",
    "                local_x_tol = 1e16)"
   ]
  },
  {
   "cell_type": "code",
   "execution_count": 15,
   "metadata": {},
   "outputs": [
    {
     "data": {
      "text/plain": [
       "[<matplotlib.lines.Line2D at 0x7fa4cc085280>]"
      ]
     },
     "execution_count": 15,
     "metadata": {},
     "output_type": "execute_result"
    },
    {
     "data": {
      "image/png": "[encoded data removed]",
      "text/plain": [
       "<Figure size 432x288 with 1 Axes>"
      ]
     },
     "metadata": {
      "needs_background": "light"
     },
     "output_type": "display_data"
    }
   ],
   "source": [
    "plt.loglog(time_vec_cavi[1:], kl_vec_cavi, 'b')\n",
    "plt.loglog(time_vec_svi[1:], kl_vec_svi, 'r')"
   ]
  },
  {
   "cell_type": "code",
   "execution_count": 16,
   "metadata": {},
   "outputs": [
    {
     "data": {
      "text/plain": [
       "[<matplotlib.lines.Line2D at 0x7fa4cba5adf0>]"
      ]
     },
     "execution_count": 16,
     "metadata": {},
     "output_type": "execute_result"
    },
    {
     "data": {
      "image/png": "[encoded data removed]",
      "text/plain": [
       "<Figure size 432x288 with 1 Axes>"
      ]
     },
     "metadata": {
      "needs_background": "light"
     },
     "output_type": "display_data"
    }
   ],
   "source": [
    "plt.semilogx(time_vec_svi[1:], kl_vec_svi)\n",
    "plt.semilogx(time_vec_cavi[1:], kl_vec_cavi)"
   ]
  },
  {
   "cell_type": "code",
   "execution_count": null,
   "metadata": {},
   "outputs": [],
   "source": []
  },
  {
   "cell_type": "code",
   "execution_count": null,
   "metadata": {},
   "outputs": [],
   "source": []
  },
  {
   "cell_type": "code",
   "execution_count": null,
   "metadata": {},
   "outputs": [],
   "source": [
    "def benchmark_one_cavi_cycle(n_obs, n_loci, n_pop, k_approx, run_cavi,  \n",
    "                                vb_params_dict = None): \n",
    "    # draw data \n",
    "    g_obs, _, _ = \\\n",
    "        data_utils.draw_data(n_obs, n_loci, n_pop)\n",
    "    \n",
    "    # get prior \n",
    "    prior_params_dict, prior_params_paragami = \\\n",
    "    structure_model_lib.get_default_prior_params()\n",
    "\n",
    "    prior_params_free = prior_params_paragami.flatten(prior_params_dict, free = True)\n",
    "    \n",
    "    # set vb_params\n",
    "    use_logitnormal_sticks = False\n",
    "    _, vb_params_paragami = \\\n",
    "        structure_model_lib.get_vb_params_paragami_object(n_obs, n_loci, k_approx,\n",
    "                                        use_logitnormal_sticks = use_logitnormal_sticks)\n",
    "    \n",
    "    if vb_params_dict is None: \n",
    "        vb_params_dict = vb_params_paragami.random()\n",
    "    \n",
    "    \n",
    "    if run_cavi: \n",
    "        _, _, _, time_vec = \\\n",
    "            cavi_lib.run_cavi(g_obs, deepcopy(vb_params_dict), \n",
    "                                prior_params_dict,\n",
    "                                use_logitnormal_sticks, \n",
    "                                max_iter = 2,\n",
    "                                f_tol = -1, \n",
    "                                x_tol = 1e-2)\n",
    "    else: \n",
    "        # run svi \n",
    "        _ = cavi_lib.run_svi(g_obs, deepcopy(vb_params_dict),\n",
    "                prior_params_dict,\n",
    "                e_z_init = np.random.rand((n_obs, n_loci, k_approx + 1, 2)),\n",
    "                use_logitnormal_sticks = use_logitnormal_sticks,\n",
    "                batchsize = 1,\n",
    "                x_tol = 1e-2,\n",
    "                max_iter = 2,\n",
    "                print_every = 1)\n",
    "        \n",
    "    return time_vec[1], vb_params_dict"
   ]
  },
  {
   "cell_type": "code",
   "execution_count": null,
   "metadata": {},
   "outputs": [],
   "source": []
  }
 ],
 "metadata": {
  "kernelspec": {
   "display_name": "bnp_sensitivity",
   "language": "python",
   "name": "bnp_sensitivity"
  },
  "language_info": {
   "codemirror_mode": {
    "name": "ipython",
    "version": 3
   },
   "file_extension": ".py",
   "mimetype": "text/x-python",
   "name": "python",
   "nbconvert_exporter": "python",
   "pygments_lexer": "ipython3",
   "version": "3.8.0"
  }
 },
 "nbformat": 4,
 "nbformat_minor": 2
}
