{
 "cells": [
  {
   "cell_type": "code",
   "execution_count": 1,
   "metadata": {},
   "outputs": [
    {
     "name": "stderr",
     "output_type": "stream",
     "text": [
      "/home/rliu/anaconda3/envs/bnp_sensitivity/lib/python3.8/site-packages/autograd/core.py:290: UserWarning: \n",
      "The defvjp method is deprecated. See the update guide and tutorial:\n",
      "https://github.com/HIPS/autograd/blob/master/docs/updateguide.md\n",
      "https://github.com/HIPS/autograd/blob/master/docs/tutorial.md\n",
      "  warnings.warn(deprecation_msg)\n"
     ]
    }
   ],
   "source": [
    "import autograd\n",
    "\n",
    "import autograd.numpy as np\n",
    "import autograd.scipy as sp\n",
    "from numpy.polynomial.hermite import hermgauss\n",
    "\n",
    "from vb_lib import structure_model_lib, data_utils, cavi_lib\n",
    "import vb_lib.structure_optimization_lib as str_opt_lib\n",
    "\n",
    "import paragami\n",
    "import vittles\n",
    "\n",
    "from copy import deepcopy\n",
    "\n",
    "import argparse\n",
    "import distutils.util\n",
    "\n",
    "import os\n",
    "\n",
    "import time\n",
    "\n",
    "import matplotlib.pyplot as plt\n",
    "%matplotlib inline  \n",
    "\n",
    "from bnpmodeling_runjingdev import cluster_quantities_lib, modeling_lib\n"
   ]
  },
  {
   "cell_type": "code",
   "execution_count": 2,
   "metadata": {},
   "outputs": [],
   "source": [
    "np.random.seed(53453)"
   ]
  },
  {
   "cell_type": "markdown",
   "metadata": {
    "collapsed": true
   },
   "source": [
    "# Draw data"
   ]
  },
  {
   "cell_type": "code",
   "execution_count": 76,
   "metadata": {},
   "outputs": [],
   "source": [
    "n_obs = 4000\n",
    "n_loci = 200\n",
    "n_pop = 4"
   ]
  },
  {
   "cell_type": "code",
   "execution_count": 77,
   "metadata": {},
   "outputs": [],
   "source": [
    "g_obs, true_pop_allele_freq, true_ind_admix_propn = \\\n",
    "    data_utils.draw_data(n_obs, n_loci, n_pop)"
   ]
  },
  {
   "cell_type": "code",
   "execution_count": 78,
   "metadata": {
    "scrolled": true
   },
   "outputs": [
    {
     "data": {
      "text/plain": [
       "<matplotlib.image.AxesImage at 0x7f5dd2eedbe0>"
      ]
     },
     "execution_count": 78,
     "metadata": {},
     "output_type": "execute_result"
    },
    {
     "data": {
      "image/png": "[encoded data removed]",
      "text/plain": [
       "<Figure size 1152x144 with 1 Axes>"
      ]
     },
     "metadata": {
      "needs_background": "light"
     },
     "output_type": "display_data"
    }
   ],
   "source": [
    "plt.matshow(true_ind_admix_propn.T)"
   ]
  },
  {
   "cell_type": "code",
   "execution_count": 79,
   "metadata": {
    "scrolled": true
   },
   "outputs": [
    {
     "data": {
      "text/plain": [
       "(4000, 200, 3)"
      ]
     },
     "execution_count": 79,
     "metadata": {},
     "output_type": "execute_result"
    }
   ],
   "source": [
    "g_obs.shape"
   ]
  },
  {
   "cell_type": "markdown",
   "metadata": {},
   "source": [
    "# Get prior"
   ]
  },
  {
   "cell_type": "code",
   "execution_count": 80,
   "metadata": {},
   "outputs": [
    {
     "name": "stdout",
     "output_type": "stream",
     "text": [
      "OrderedDict:\n",
      "\t[dp_prior_alpha] = NumericArrayPattern (1,) (lb=0.0, ub=inf)\n",
      "\t[allele_prior_alpha] = NumericArrayPattern (1,) (lb=0.0, ub=inf)\n",
      "\t[allele_prior_beta] = NumericArrayPattern (1,) (lb=0.0, ub=inf)\n"
     ]
    }
   ],
   "source": [
    "prior_params_dict, prior_params_paragami = \\\n",
    "    structure_model_lib.get_default_prior_params()\n",
    "\n",
    "print(prior_params_paragami)\n",
    "\n",
    "prior_params_free = prior_params_paragami.flatten(prior_params_dict, free = True)"
   ]
  },
  {
   "cell_type": "markdown",
   "metadata": {},
   "source": [
    "# Get VB params "
   ]
  },
  {
   "cell_type": "code",
   "execution_count": 81,
   "metadata": {},
   "outputs": [],
   "source": [
    "k_approx = 12"
   ]
  },
  {
   "cell_type": "code",
   "execution_count": 82,
   "metadata": {},
   "outputs": [],
   "source": [
    "gh_deg = 8\n",
    "gh_loc, gh_weights = hermgauss(8)"
   ]
  },
  {
   "cell_type": "code",
   "execution_count": 83,
   "metadata": {
    "scrolled": true
   },
   "outputs": [
    {
     "name": "stdout",
     "output_type": "stream",
     "text": [
      "OrderedDict:\n",
      "\t[pop_freq_beta_params] = NumericArrayPattern (200, 12, 2) (lb=0.0, ub=inf)\n",
      "\t[ind_mix_stick_beta_params] = NumericArrayPattern (4000, 11, 2) (lb=0.0, ub=inf)\n"
     ]
    }
   ],
   "source": [
    "use_logitnormal_sticks = False\n",
    "\n",
    "vb_params_dict, vb_params_paragami = \\\n",
    "    structure_model_lib.get_vb_params_paragami_object(n_obs, n_loci, k_approx,\n",
    "                                    use_logitnormal_sticks = use_logitnormal_sticks)\n",
    "    \n",
    "print(vb_params_paragami)"
   ]
  },
  {
   "cell_type": "markdown",
   "metadata": {},
   "source": [
    "## Initialize "
   ]
  },
  {
   "cell_type": "code",
   "execution_count": 84,
   "metadata": {},
   "outputs": [
    {
     "name": "stdout",
     "output_type": "stream",
     "text": [
      "init time: 0.649sec\n"
     ]
    }
   ],
   "source": [
    "t0 = time.time()\n",
    "vb_params_dict = \\\n",
    "        structure_model_lib.set_init_vb_params(g_obs, k_approx, vb_params_dict,\n",
    "                                                use_logitnormal_sticks)\n",
    "\n",
    "print('init time: {:.03f}sec'.format(time.time() - t0))\n",
    "\n",
    "vb_params_init_dict = deepcopy(vb_params_dict)"
   ]
  },
  {
   "cell_type": "code",
   "execution_count": 85,
   "metadata": {},
   "outputs": [],
   "source": [
    "def get_vb_expectations(vb_params_dict, use_logitnormal_sticks): \n",
    "    if use_logitnormal_sticks: \n",
    "        e_ind_admix = cluster_quantities_lib.get_e_cluster_probabilities(\n",
    "                            vb_opt_dict['ind_mix_stick_propn_mean'], \n",
    "                            vb_opt_dict['ind_mix_stick_propn_info'],\n",
    "                            gh_loc, gh_weights)\n",
    "\n",
    "    else: \n",
    "        ind_mix_stick_beta_params = vb_params_dict['ind_mix_stick_beta_params']\n",
    "        e_stick_lengths = \\\n",
    "                modeling_lib.get_e_beta(ind_mix_stick_beta_params)\n",
    "        e_ind_admix = cluster_quantities_lib.get_mixture_weights_from_stick_break_propns(e_stick_lengths)\n",
    "\n",
    "    e_pop_freq = modeling_lib.get_e_beta(vb_params_dict['pop_freq_beta_params'])\n",
    "    \n",
    "    return e_ind_admix, e_pop_freq"
   ]
  },
  {
   "cell_type": "code",
   "execution_count": 86,
   "metadata": {},
   "outputs": [
    {
     "data": {
      "text/plain": [
       "<matplotlib.image.AxesImage at 0x7f5dd2d6b4f0>"
      ]
     },
     "execution_count": 86,
     "metadata": {},
     "output_type": "execute_result"
    },
    {
     "data": {
      "image/png": "[encoded data removed]",
      "text/plain": [
       "<Figure size 1152x144 with 1 Axes>"
      ]
     },
     "metadata": {
      "needs_background": "light"
     },
     "output_type": "display_data"
    }
   ],
   "source": [
    "plt.matshow(get_vb_expectations(vb_params_dict, use_logitnormal_sticks)[0].transpose())"
   ]
  },
  {
   "cell_type": "code",
   "execution_count": 87,
   "metadata": {},
   "outputs": [
    {
     "name": "stdout",
     "output_type": "stream",
     "text": [
      "e_z_init time: 1.433sec\n"
     ]
    }
   ],
   "source": [
    "## get initial e_z\n",
    "t0 = time.time()\n",
    "e_log_sticks, e_log_1m_sticks, \\\n",
    "        e_log_pop_freq, e_log_1m_pop_freq = \\\n",
    "            structure_model_lib.get_moments_from_vb_params_dict(g_obs, \\\n",
    "                                    vb_params_dict, use_logitnormal_sticks)\n",
    "\n",
    "e_z_init = cavi_lib.update_z(g_obs, e_log_sticks, e_log_1m_sticks, e_log_pop_freq,\n",
    "                                e_log_1m_pop_freq)\n",
    "\n",
    "print('e_z_init time: {:.03f}sec'.format(time.time() - t0))"
   ]
  },
  {
   "cell_type": "markdown",
   "metadata": {},
   "source": [
    "# Run CAVI"
   ]
  },
  {
   "cell_type": "code",
   "execution_count": 88,
   "metadata": {
    "scrolled": true
   },
   "outputs": [
    {
     "name": "stdout",
     "output_type": "stream",
     "text": [
      "iteration [1]; kl:1809037.421925; elapsed: 6.279secs\n",
      "iteration [2]; kl:1432442.077291; elapsed: 6.0878secs\n",
      "iteration [3]; kl:1284164.569821; elapsed: 6.049secs\n",
      "iteration [4]; kl:1188776.047872; elapsed: 7.1732secs\n",
      "iteration [5]; kl:1135784.367213; elapsed: 7.8978secs\n",
      "iteration [6]; kl:1112087.419757; elapsed: 7.2257secs\n",
      "iteration [7]; kl:1101276.034067; elapsed: 6.5603secs\n",
      "iteration [8]; kl:1095515.98674; elapsed: 7.2574secs\n",
      "iteration [9]; kl:1091793.196043; elapsed: 6.7505secs\n",
      "iteration [10]; kl:1089042.318731; elapsed: 6.465secs\n",
      "iteration [11]; kl:1086853.885373; elapsed: 6.2614secs\n",
      "iteration [12]; kl:1085039.558368; elapsed: 6.1552secs\n",
      "iteration [13]; kl:1083496.741633; elapsed: 6.1137secs\n",
      "iteration [14]; kl:1082162.10286; elapsed: 6.14secs\n",
      "iteration [15]; kl:1080992.853569; elapsed: 6.0914secs\n",
      "iteration [16]; kl:1079958.154057; elapsed: 6.1889secs\n",
      "iteration [17]; kl:1079034.693854; elapsed: 6.1941secs\n",
      "iteration [18]; kl:1078204.188323; elapsed: 6.1161secs\n",
      "iteration [19]; kl:1077451.88901; elapsed: 6.0983secs\n",
      "Done. Warning, max iterations reached. \n"
     ]
    }
   ],
   "source": [
    "ez_opt_cavi, vb_svi_cavi, kl_vec_cavi, time_vec_cavi = \\\n",
    "    cavi_lib.run_cavi(g_obs, deepcopy(vb_params_init_dict), \n",
    "                        prior_params_dict,\n",
    "                        use_logitnormal_sticks, \n",
    "                        max_iter = 20,\n",
    "                        x_tol = 1e-2)\n"
   ]
  },
  {
   "cell_type": "code",
   "execution_count": 89,
   "metadata": {
    "scrolled": true
   },
   "outputs": [
    {
     "name": "stdout",
     "output_type": "stream",
     "text": [
      "iteration [10]; kl:1858851.502966; elapsed: 6.1423secs\n",
      "iteration [20]; kl:1403440.79344; elapsed: 6.095secs\n",
      "iteration [30]; kl:1211387.932938; elapsed: 6.0892secs\n",
      "iteration [40]; kl:1143473.889539; elapsed: 6.093secs\n",
      "iteration [50]; kl:1110042.661065; elapsed: 6.3603secs\n",
      "iteration [60]; kl:1097582.611241; elapsed: 6.1817secs\n",
      "iteration [70]; kl:1093473.727607; elapsed: 6.1057secs\n",
      "iteration [80]; kl:1088955.263322; elapsed: 6.1076secs\n",
      "iteration [90]; kl:1086955.489058; elapsed: 6.1065secs\n",
      "iteration [100]; kl:1085351.678117; elapsed: 6.1039secs\n",
      "iteration [110]; kl:1083989.371401; elapsed: 6.0652secs\n",
      "iteration [120]; kl:1082880.855073; elapsed: 6.0992secs\n",
      "iteration [130]; kl:1081935.169438; elapsed: 6.0815secs\n",
      "iteration [140]; kl:1081113.173439; elapsed: 6.1101secs\n",
      "iteration [150]; kl:1080389.764962; elapsed: 6.1495secs\n",
      "iteration [160]; kl:1079750.751735; elapsed: 6.1403secs\n",
      "iteration [170]; kl:1079176.458097; elapsed: 6.764secs\n",
      "iteration [180]; kl:1078666.976818; elapsed: 6.6042secs\n",
      "iteration [190]; kl:1078183.053052; elapsed: 6.3989secs\n",
      "Done. Warning, max iterations reached. \n"
     ]
    }
   ],
   "source": [
    "ez_opt_svi, vb_svi_dict, kl_vec_svi, time_vec_svi = \\\n",
    "    cavi_lib.run_svi(g_obs, deepcopy(vb_params_init_dict),\n",
    "                prior_params_dict,\n",
    "                e_z_init,\n",
    "                use_logitnormal_sticks,\n",
    "                batchsize = round(n_obs / 10),\n",
    "                x_tol = 1e-2,\n",
    "                max_iter = 200,\n",
    "                print_every = 10, \n",
    "                local_x_tol = 1e16)"
   ]
  },
  {
   "cell_type": "code",
   "execution_count": 90,
   "metadata": {},
   "outputs": [
    {
     "data": {
      "text/plain": [
       "[<matplotlib.lines.Line2D at 0x7f5dd2da9d30>]"
      ]
     },
     "execution_count": 90,
     "metadata": {},
     "output_type": "execute_result"
    },
    {
     "data": {
      "image/png": "[encoded data removed]",
      "text/plain": [
       "<Figure size 432x288 with 1 Axes>"
      ]
     },
     "metadata": {
      "needs_background": "light"
     },
     "output_type": "display_data"
    }
   ],
   "source": [
    "plt.loglog(time_vec_cavi[1:], kl_vec_cavi, 'b')\n",
    "plt.loglog(time_vec_svi[1:], kl_vec_svi, 'r')"
   ]
  },
  {
   "cell_type": "code",
   "execution_count": null,
   "metadata": {},
   "outputs": [],
   "source": []
  },
  {
   "cell_type": "code",
   "execution_count": null,
   "metadata": {},
   "outputs": [],
   "source": []
  },
  {
   "cell_type": "code",
   "execution_count": null,
   "metadata": {},
   "outputs": [],
   "source": []
  },
  {
   "cell_type": "code",
   "execution_count": 39,
   "metadata": {},
   "outputs": [
    {
     "data": {
      "text/plain": [
       "[<matplotlib.lines.Line2D at 0x7f5dd35a9850>]"
      ]
     },
     "execution_count": 39,
     "metadata": {},
     "output_type": "execute_result"
    },
    {
     "data": {
      "image/png": "[encoded data removed]",
      "text/plain": [
       "<Figure size 432x288 with 1 Axes>"
      ]
     },
     "metadata": {
      "needs_background": "light"
     },
     "output_type": "display_data"
    }
   ],
   "source": [
    "plt.semilogx(time_vec_svi[1:], kl_vec_svi)\n",
    "plt.semilogx(time_vec_cavi[1:], kl_vec_cavi)"
   ]
  },
  {
   "cell_type": "code",
   "execution_count": null,
   "metadata": {},
   "outputs": [],
   "source": []
  },
  {
   "cell_type": "code",
   "execution_count": null,
   "metadata": {},
   "outputs": [],
   "source": [
    "def benchmark_one_cavi_cycle(n_obs, n_loci, n_pop, k_approx, run_cavi,  \n",
    "                                vb_params_dict = None): \n",
    "    # draw data \n",
    "    g_obs, _, _ = \\\n",
    "        data_utils.draw_data(n_obs, n_loci, n_pop)\n",
    "    \n",
    "    # get prior \n",
    "    prior_params_dict, prior_params_paragami = \\\n",
    "    structure_model_lib.get_default_prior_params()\n",
    "\n",
    "    prior_params_free = prior_params_paragami.flatten(prior_params_dict, free = True)\n",
    "    \n",
    "    # set vb_params\n",
    "    use_logitnormal_sticks = False\n",
    "    _, vb_params_paragami = \\\n",
    "        structure_model_lib.get_vb_params_paragami_object(n_obs, n_loci, k_approx,\n",
    "                                        use_logitnormal_sticks = use_logitnormal_sticks)\n",
    "    \n",
    "    if vb_params_dict is None: \n",
    "        vb_params_dict = vb_params_paragami.random()\n",
    "    \n",
    "    \n",
    "    if run_cavi: \n",
    "        _, _, _, time_vec = \\\n",
    "            cavi_lib.run_cavi(g_obs, deepcopy(vb_params_dict), \n",
    "                                prior_params_dict,\n",
    "                                use_logitnormal_sticks, \n",
    "                                max_iter = 2,\n",
    "                                f_tol = -1, \n",
    "                                x_tol = 1e-2)\n",
    "    else: \n",
    "        # run svi \n",
    "        _ = cavi_lib.run_svi(g_obs, deepcopy(vb_params_dict),\n",
    "                prior_params_dict,\n",
    "                e_z_init = np.random.rand((n_obs, n_loci, k_approx + 1, 2)),\n",
    "                use_logitnormal_sticks = use_logitnormal_sticks,\n",
    "                batchsize = 1,\n",
    "                x_tol = 1e-2,\n",
    "                max_iter = 2,\n",
    "                print_every = 1)\n",
    "        \n",
    "    return time_vec[1], vb_params_dict"
   ]
  },
  {
   "cell_type": "code",
   "execution_count": null,
   "metadata": {},
   "outputs": [],
   "source": []
  }
 ],
 "metadata": {
  "kernelspec": {
   "display_name": "bnp_sensitivity",
   "language": "python",
   "name": "bnp_sensitivity"
  },
  "language_info": {
   "codemirror_mode": {
    "name": "ipython",
    "version": 3
   },
   "file_extension": ".py",
   "mimetype": "text/x-python",
   "name": "python",
   "nbconvert_exporter": "python",
   "pygments_lexer": "ipython3",
   "version": "3.8.0"
  }
 },
 "nbformat": 4,
 "nbformat_minor": 2
}
