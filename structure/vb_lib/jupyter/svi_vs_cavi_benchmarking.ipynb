{
 "cells": [
  {
   "cell_type": "code",
   "execution_count": 13,
   "metadata": {},
   "outputs": [],
   "source": [
    "import autograd\n",
    "\n",
    "import autograd.numpy as np\n",
    "import autograd.scipy as sp\n",
    "from numpy.polynomial.hermite import hermgauss\n",
    "\n",
    "from vb_lib import structure_model_lib, data_utils, cavi_lib\n",
    "import vb_lib.structure_optimization_lib as str_opt_lib\n",
    "\n",
    "import paragami\n",
    "import vittles\n",
    "\n",
    "from copy import deepcopy\n",
    "\n",
    "import argparse\n",
    "import distutils.util\n",
    "\n",
    "import os\n",
    "\n",
    "import time\n",
    "\n",
    "import matplotlib.pyplot as plt\n",
    "%matplotlib inline  \n",
    "\n",
    "from bnpmodeling_runjingdev import cluster_quantities_lib, modeling_lib\n"
   ]
  },
  {
   "cell_type": "code",
   "execution_count": 14,
   "metadata": {},
   "outputs": [],
   "source": [
    "np.random.seed(53453)"
   ]
  },
  {
   "cell_type": "markdown",
   "metadata": {
    "collapsed": true
   },
   "source": [
    "# Draw data"
   ]
  },
  {
   "cell_type": "code",
   "execution_count": 15,
   "metadata": {},
   "outputs": [],
   "source": [
    "n_obs = 200\n",
    "n_loci = 4000\n",
    "n_pop = 4"
   ]
  },
  {
   "cell_type": "code",
   "execution_count": 16,
   "metadata": {},
   "outputs": [],
   "source": [
    "g_obs, true_pop_allele_freq, true_ind_admix_propn = \\\n",
    "    data_utils.draw_data(n_obs, n_loci, n_pop)"
   ]
  },
  {
   "cell_type": "code",
   "execution_count": 17,
   "metadata": {
    "scrolled": true
   },
   "outputs": [
    {
     "data": {
      "text/plain": [
       "<matplotlib.image.AxesImage at 0x7f440243ce20>"
      ]
     },
     "execution_count": 17,
     "metadata": {},
     "output_type": "execute_result"
    },
    {
     "data": {
      "image/png": "[encoded data removed]",
      "text/plain": [
       "<Figure size 1152x144 with 1 Axes>"
      ]
     },
     "metadata": {
      "needs_background": "light"
     },
     "output_type": "display_data"
    }
   ],
   "source": [
    "plt.matshow(true_ind_admix_propn.T)"
   ]
  },
  {
   "cell_type": "code",
   "execution_count": 18,
   "metadata": {
    "scrolled": true
   },
   "outputs": [
    {
     "data": {
      "text/plain": [
       "(200, 4000, 3)"
      ]
     },
     "execution_count": 18,
     "metadata": {},
     "output_type": "execute_result"
    }
   ],
   "source": [
    "g_obs.shape"
   ]
  },
  {
   "cell_type": "markdown",
   "metadata": {},
   "source": [
    "# Get prior"
   ]
  },
  {
   "cell_type": "code",
   "execution_count": 19,
   "metadata": {},
   "outputs": [
    {
     "name": "stdout",
     "output_type": "stream",
     "text": [
      "OrderedDict:\n",
      "\t[dp_prior_alpha] = NumericArrayPattern (1,) (lb=0.0, ub=inf)\n",
      "\t[allele_prior_alpha] = NumericArrayPattern (1,) (lb=0.0, ub=inf)\n",
      "\t[allele_prior_beta] = NumericArrayPattern (1,) (lb=0.0, ub=inf)\n"
     ]
    }
   ],
   "source": [
    "prior_params_dict, prior_params_paragami = \\\n",
    "    structure_model_lib.get_default_prior_params()\n",
    "\n",
    "print(prior_params_paragami)\n",
    "\n",
    "prior_params_free = prior_params_paragami.flatten(prior_params_dict, free = True)"
   ]
  },
  {
   "cell_type": "markdown",
   "metadata": {},
   "source": [
    "# Get VB params "
   ]
  },
  {
   "cell_type": "code",
   "execution_count": 20,
   "metadata": {},
   "outputs": [],
   "source": [
    "k_approx = 12"
   ]
  },
  {
   "cell_type": "code",
   "execution_count": 21,
   "metadata": {},
   "outputs": [],
   "source": [
    "gh_deg = 8\n",
    "gh_loc, gh_weights = hermgauss(8)"
   ]
  },
  {
   "cell_type": "code",
   "execution_count": 22,
   "metadata": {
    "scrolled": true
   },
   "outputs": [
    {
     "name": "stdout",
     "output_type": "stream",
     "text": [
      "OrderedDict:\n",
      "\t[pop_freq_beta_params] = NumericArrayPattern (4000, 12, 2) (lb=0.0, ub=inf)\n",
      "\t[ind_mix_stick_beta_params] = NumericArrayPattern (200, 11, 2) (lb=0.0, ub=inf)\n"
     ]
    }
   ],
   "source": [
    "use_logitnormal_sticks = False\n",
    "\n",
    "vb_params_dict, vb_params_paragami = \\\n",
    "    structure_model_lib.get_vb_params_paragami_object(n_obs, n_loci, k_approx,\n",
    "                                    use_logitnormal_sticks = use_logitnormal_sticks)\n",
    "    \n",
    "print(vb_params_paragami)"
   ]
  },
  {
   "cell_type": "markdown",
   "metadata": {},
   "source": [
    "## Initialize "
   ]
  },
  {
   "cell_type": "code",
   "execution_count": 23,
   "metadata": {},
   "outputs": [
    {
     "name": "stdout",
     "output_type": "stream",
     "text": [
      "init time: 0.802sec\n"
     ]
    }
   ],
   "source": [
    "t0 = time.time()\n",
    "vb_params_dict = \\\n",
    "        structure_model_lib.set_init_vb_params(g_obs, k_approx, vb_params_dict,\n",
    "                                                use_logitnormal_sticks)\n",
    "\n",
    "print('init time: {:.03f}sec'.format(time.time() - t0))\n",
    "\n",
    "vb_params_init_dict = deepcopy(vb_params_dict)"
   ]
  },
  {
   "cell_type": "markdown",
   "metadata": {},
   "source": [
    "# Run CAVI"
   ]
  },
  {
   "cell_type": "code",
   "execution_count": 24,
   "metadata": {
    "scrolled": true
   },
   "outputs": [
    {
     "name": "stdout",
     "output_type": "stream",
     "text": [
      "iteration [1]; kl:1215530.458622; elapsed: 6.8953secs\n",
      "iteration [2]; kl:1060790.372551; elapsed: 6.6702secs\n",
      "iteration [3]; kl:1038274.725498; elapsed: 7.0082secs\n",
      "iteration [4]; kl:1030953.549529; elapsed: 6.5023secs\n",
      "iteration [5]; kl:1026950.476618; elapsed: 6.3805secs\n",
      "iteration [6]; kl:1024088.37716; elapsed: 6.287secs\n",
      "iteration [7]; kl:1021832.934845; elapsed: 6.1797secs\n",
      "iteration [8]; kl:1019985.22594; elapsed: 6.1911secs\n",
      "iteration [9]; kl:1018435.986399; elapsed: 6.265secs\n",
      "Done. Warning, max iterations reached. \n"
     ]
    }
   ],
   "source": [
    "vb_cavi_dict, vb_opt, ez_opt_cavi, kl_vec_cavi, time_vec_cavi = \\\n",
    "    cavi_lib.run_cavi(g_obs, deepcopy(vb_params_init_dict), \n",
    "                        vb_params_paragami,\n",
    "                        prior_params_dict,\n",
    "                        use_logitnormal_sticks, \n",
    "                        max_iter = 10,\n",
    "                        x_tol = 1e-2)\n"
   ]
  },
  {
   "cell_type": "code",
   "execution_count": null,
   "metadata": {},
   "outputs": [],
   "source": []
  },
  {
   "cell_type": "markdown",
   "metadata": {},
   "source": [
    "# Run stochastic CAVI"
   ]
  },
  {
   "cell_type": "code",
   "execution_count": 26,
   "metadata": {},
   "outputs": [],
   "source": [
    "e_z_init = cavi_lib.get_ez_from_vb_params_dict(g_obs, vb_params_dict, use_logitnormal_sticks, \n",
    "                                              gh_loc = 0, gh_weights = 0)"
   ]
  },
  {
   "cell_type": "code",
   "execution_count": 27,
   "metadata": {
    "scrolled": true
   },
   "outputs": [
    {
     "name": "stdout",
     "output_type": "stream",
     "text": [
      "iteration [10]; kl:1475064.673679; elapsed: 6.2868secs\n",
      "iteration [20]; kl:1224113.510729; elapsed: 6.6421secs\n",
      "iteration [30]; kl:1096259.67528; elapsed: 6.1666secs\n",
      "iteration [40]; kl:1058141.458317; elapsed: 6.173secs\n",
      "iteration [50]; kl:1031919.081316; elapsed: 6.8276secs\n",
      "iteration [60]; kl:1028663.895078; elapsed: 6.5397secs\n",
      "iteration [70]; kl:1027057.323809; elapsed: 6.4304secs\n",
      "iteration [80]; kl:1025851.674978; elapsed: 6.465secs\n",
      "iteration [90]; kl:1024798.427538; elapsed: 6.3777secs\n",
      "iteration [100]; kl:1023896.516476; elapsed: 6.8655secs\n",
      "iteration [110]; kl:1023042.549038; elapsed: 6.3319secs\n",
      "iteration [120]; kl:1022267.671191; elapsed: 6.3524secs\n",
      "iteration [130]; kl:1021588.517807; elapsed: 6.3798secs\n",
      "iteration [140]; kl:1020987.635822; elapsed: 6.6435secs\n",
      "iteration [150]; kl:1020491.877054; elapsed: 6.5729secs\n",
      "iteration [160]; kl:1020019.34365; elapsed: 6.4883secs\n",
      "iteration [170]; kl:1019562.214187; elapsed: 6.4369secs\n",
      "iteration [180]; kl:1019105.537672; elapsed: 6.3504secs\n",
      "iteration [190]; kl:1018728.552309; elapsed: 6.283secs\n",
      "Done. Warning, max iterations reached. \n"
     ]
    }
   ],
   "source": [
    "vb_svi_dict, ez_opt_svi, kl_vec_svi, time_vec_svi = \\\n",
    "    cavi_lib.run_svi(g_obs, deepcopy(vb_params_init_dict),\n",
    "                prior_params_dict,\n",
    "                e_z_init,\n",
    "                use_logitnormal_sticks,\n",
    "                batchsize = round(n_obs / 10),\n",
    "                x_tol = 1e-2,\n",
    "                max_iter = 100,\n",
    "                print_every = 10, \n",
    "                local_x_tol = 1e16)"
   ]
  },
  {
   "cell_type": "code",
   "execution_count": 28,
   "metadata": {},
   "outputs": [
    {
     "data": {
      "text/plain": [
       "[<matplotlib.lines.Line2D at 0x7f44023fdaf0>]"
      ]
     },
     "execution_count": 28,
     "metadata": {},
     "output_type": "execute_result"
    },
    {
     "data": {
      "image/png": "[encoded data removed]",
      "text/plain": [
       "<Figure size 432x288 with 1 Axes>"
      ]
     },
     "metadata": {
      "needs_background": "light"
     },
     "output_type": "display_data"
    }
   ],
   "source": [
    "plt.loglog(time_vec_cavi[1:], kl_vec_cavi, 'b')\n",
    "plt.loglog(time_vec_svi[1:], kl_vec_svi, 'r')"
   ]
  },
  {
   "cell_type": "code",
   "execution_count": 30,
   "metadata": {},
   "outputs": [
    {
     "data": {
      "text/plain": [
       "[<matplotlib.lines.Line2D at 0x7f4402240310>]"
      ]
     },
     "execution_count": 30,
     "metadata": {},
     "output_type": "execute_result"
    },
    {
     "data": {
      "image/png": "[encoded data removed]",
      "text/plain": [
       "<Figure size 432x288 with 1 Axes>"
      ]
     },
     "metadata": {
      "needs_background": "light"
     },
     "output_type": "display_data"
    }
   ],
   "source": [
    "plt.semilogx(time_vec_svi[1:], kl_vec_svi, 'r')\n",
    "plt.semilogx(time_vec_cavi[1:], kl_vec_cavi, 'b')"
   ]
  },
  {
   "cell_type": "code",
   "execution_count": null,
   "metadata": {},
   "outputs": [],
   "source": []
  },
  {
   "cell_type": "code",
   "execution_count": null,
   "metadata": {},
   "outputs": [],
   "source": []
  },
  {
   "cell_type": "code",
   "execution_count": null,
   "metadata": {},
   "outputs": [],
   "source": [
    "def benchmark_one_cavi_cycle(n_obs, n_loci, n_pop, k_approx, run_cavi,  \n",
    "                                vb_params_dict = None): \n",
    "    # draw data \n",
    "    g_obs, _, _ = \\\n",
    "        data_utils.draw_data(n_obs, n_loci, n_pop)\n",
    "    \n",
    "    # get prior \n",
    "    prior_params_dict, prior_params_paragami = \\\n",
    "    structure_model_lib.get_default_prior_params()\n",
    "\n",
    "    prior_params_free = prior_params_paragami.flatten(prior_params_dict, free = True)\n",
    "    \n",
    "    # set vb_params\n",
    "    use_logitnormal_sticks = False\n",
    "    _, vb_params_paragami = \\\n",
    "        structure_model_lib.get_vb_params_paragami_object(n_obs, n_loci, k_approx,\n",
    "                                        use_logitnormal_sticks = use_logitnormal_sticks)\n",
    "    \n",
    "    if vb_params_dict is None: \n",
    "        vb_params_dict = vb_params_paragami.random()\n",
    "    \n",
    "    \n",
    "    if run_cavi: \n",
    "        _, _, _, time_vec = \\\n",
    "            cavi_lib.run_cavi(g_obs, deepcopy(vb_params_dict), \n",
    "                                prior_params_dict,\n",
    "                                use_logitnormal_sticks, \n",
    "                                max_iter = 2,\n",
    "                                f_tol = -1, \n",
    "                                x_tol = 1e-2)\n",
    "    else: \n",
    "        # run svi \n",
    "        _ = cavi_lib.run_svi(g_obs, deepcopy(vb_params_dict),\n",
    "                prior_params_dict,\n",
    "                e_z_init = np.random.rand((n_obs, n_loci, k_approx + 1, 2)),\n",
    "                use_logitnormal_sticks = use_logitnormal_sticks,\n",
    "                batchsize = 1,\n",
    "                x_tol = 1e-2,\n",
    "                max_iter = 2,\n",
    "                print_every = 1)\n",
    "        \n",
    "    return time_vec[1], vb_params_dict"
   ]
  },
  {
   "cell_type": "code",
   "execution_count": null,
   "metadata": {},
   "outputs": [],
   "source": []
  }
 ],
 "metadata": {
  "kernelspec": {
   "display_name": "bnp_sensitivity",
   "language": "python",
   "name": "bnp_sensitivity"
  },
  "language_info": {
   "codemirror_mode": {
    "name": "ipython",
    "version": 3
   },
   "file_extension": ".py",
   "mimetype": "text/x-python",
   "name": "python",
   "nbconvert_exporter": "python",
   "pygments_lexer": "ipython3",
   "version": "3.8.0"
  }
 },
 "nbformat": 4,
 "nbformat_minor": 2
}
