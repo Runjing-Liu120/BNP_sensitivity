{
 "cells": [
  {
   "cell_type": "code",
   "execution_count": 1,
   "metadata": {},
   "outputs": [
    {
     "name": "stderr",
     "output_type": "stream",
     "text": [
      "/home/rliu/anaconda3/envs/bnp_sensitivity/lib/python3.8/site-packages/autograd/core.py:290: UserWarning: \n",
      "The defvjp method is deprecated. See the update guide and tutorial:\n",
      "https://github.com/HIPS/autograd/blob/master/docs/updateguide.md\n",
      "https://github.com/HIPS/autograd/blob/master/docs/tutorial.md\n",
      "  warnings.warn(deprecation_msg)\n"
     ]
    }
   ],
   "source": [
    "import autograd\n",
    "\n",
    "import autograd.numpy as np\n",
    "import autograd.scipy as sp\n",
    "from numpy.polynomial.hermite import hermgauss\n",
    "\n",
    "from vb_lib import structure_model_lib, data_utils, cavi_lib\n",
    "import vb_lib.structure_optimization_lib as str_opt_lib\n",
    "\n",
    "import paragami\n",
    "import vittles\n",
    "\n",
    "from copy import deepcopy\n",
    "\n",
    "import argparse\n",
    "import distutils.util\n",
    "\n",
    "import os\n",
    "\n",
    "import time\n",
    "\n",
    "import matplotlib.pyplot as plt\n",
    "%matplotlib inline  \n",
    "\n",
    "from bnpmodeling_runjingdev import cluster_quantities_lib, modeling_lib\n"
   ]
  },
  {
   "cell_type": "code",
   "execution_count": 2,
   "metadata": {},
   "outputs": [],
   "source": [
    "np.random.seed(53453)"
   ]
  },
  {
   "cell_type": "markdown",
   "metadata": {
    "collapsed": true
   },
   "source": [
    "# Draw data"
   ]
  },
  {
   "cell_type": "code",
   "execution_count": 3,
   "metadata": {},
   "outputs": [],
   "source": [
    "n_obs = 50\n",
    "n_loci = 40\n",
    "n_pop = 4"
   ]
  },
  {
   "cell_type": "code",
   "execution_count": 4,
   "metadata": {},
   "outputs": [],
   "source": [
    "g_obs, true_pop_allele_freq, true_ind_admix_propn = \\\n",
    "    data_utils.draw_data(n_obs, n_loci, n_pop)"
   ]
  },
  {
   "cell_type": "code",
   "execution_count": 5,
   "metadata": {
    "scrolled": true
   },
   "outputs": [
    {
     "data": {
      "text/plain": [
       "<matplotlib.image.AxesImage at 0x7fb4cddb40a0>"
      ]
     },
     "execution_count": 5,
     "metadata": {},
     "output_type": "execute_result"
    },
    {
     "data": {
      "image/png": "[encoded data removed]",
      "text/plain": [
       "<Figure size 1152x144 with 1 Axes>"
      ]
     },
     "metadata": {
      "needs_background": "light"
     },
     "output_type": "display_data"
    }
   ],
   "source": [
    "plt.matshow(true_ind_admix_propn.T)"
   ]
  },
  {
   "cell_type": "code",
   "execution_count": 6,
   "metadata": {
    "scrolled": true
   },
   "outputs": [
    {
     "data": {
      "text/plain": [
       "(50, 40, 3)"
      ]
     },
     "execution_count": 6,
     "metadata": {},
     "output_type": "execute_result"
    }
   ],
   "source": [
    "g_obs.shape"
   ]
  },
  {
   "cell_type": "markdown",
   "metadata": {},
   "source": [
    "# Get prior"
   ]
  },
  {
   "cell_type": "code",
   "execution_count": 7,
   "metadata": {},
   "outputs": [
    {
     "name": "stdout",
     "output_type": "stream",
     "text": [
      "OrderedDict:\n",
      "\t[dp_prior_alpha] = NumericArrayPattern (1,) (lb=0.0, ub=inf)\n",
      "\t[allele_prior_alpha] = NumericArrayPattern (1,) (lb=0.0, ub=inf)\n",
      "\t[allele_prior_beta] = NumericArrayPattern (1,) (lb=0.0, ub=inf)\n"
     ]
    }
   ],
   "source": [
    "prior_params_dict, prior_params_paragami = \\\n",
    "    structure_model_lib.get_default_prior_params()\n",
    "\n",
    "print(prior_params_paragami)\n",
    "\n",
    "prior_params_free = prior_params_paragami.flatten(prior_params_dict, free = True)"
   ]
  },
  {
   "cell_type": "markdown",
   "metadata": {},
   "source": [
    "# Get VB params "
   ]
  },
  {
   "cell_type": "code",
   "execution_count": 8,
   "metadata": {},
   "outputs": [],
   "source": [
    "k_approx = 12"
   ]
  },
  {
   "cell_type": "code",
   "execution_count": 9,
   "metadata": {},
   "outputs": [],
   "source": [
    "gh_deg = 8\n",
    "gh_loc, gh_weights = hermgauss(8)"
   ]
  },
  {
   "cell_type": "code",
   "execution_count": 10,
   "metadata": {
    "scrolled": true
   },
   "outputs": [
    {
     "name": "stdout",
     "output_type": "stream",
     "text": [
      "OrderedDict:\n",
      "\t[pop_freq_beta_params] = NumericArrayPattern (40, 12, 2) (lb=0.0, ub=inf)\n",
      "\t[ind_mix_stick_beta_params] = NumericArrayPattern (50, 11, 2) (lb=0.0, ub=inf)\n"
     ]
    }
   ],
   "source": [
    "use_logitnormal_sticks = False\n",
    "\n",
    "vb_params_dict, vb_params_paragami = \\\n",
    "    structure_model_lib.get_vb_params_paragami_object(n_obs, n_loci, k_approx,\n",
    "                                    use_logitnormal_sticks = use_logitnormal_sticks)\n",
    "    \n",
    "print(vb_params_paragami)"
   ]
  },
  {
   "cell_type": "markdown",
   "metadata": {},
   "source": [
    "## Initialize "
   ]
  },
  {
   "cell_type": "code",
   "execution_count": 11,
   "metadata": {},
   "outputs": [],
   "source": [
    "vb_params_dict = \\\n",
    "        structure_model_lib.set_init_vb_params(g_obs, k_approx, vb_params_dict,\n",
    "                                                use_logitnormal_sticks)"
   ]
  },
  {
   "cell_type": "code",
   "execution_count": 12,
   "metadata": {},
   "outputs": [],
   "source": [
    "def get_vb_expectations(vb_params_dict, use_logitnormal_sticks): \n",
    "    if use_logitnormal_sticks: \n",
    "        e_ind_admix = cluster_quantities_lib.get_e_cluster_probabilities(\n",
    "                            vb_opt_dict['ind_mix_stick_propn_mean'], \n",
    "                            vb_opt_dict['ind_mix_stick_propn_info'],\n",
    "                            gh_loc, gh_weights)\n",
    "\n",
    "    else: \n",
    "        ind_mix_stick_beta_params = vb_params_dict['ind_mix_stick_beta_params']\n",
    "        e_stick_lengths = \\\n",
    "                modeling_lib.get_e_beta(ind_mix_stick_beta_params)\n",
    "        e_ind_admix = cluster_quantities_lib.get_mixture_weights_from_stick_break_propns(e_stick_lengths)\n",
    "\n",
    "    e_pop_freq = modeling_lib.get_e_beta(vb_params_dict['pop_freq_beta_params'])\n",
    "    \n",
    "    return e_ind_admix, e_pop_freq"
   ]
  },
  {
   "cell_type": "code",
   "execution_count": 13,
   "metadata": {},
   "outputs": [
    {
     "data": {
      "text/plain": [
       "<matplotlib.image.AxesImage at 0x7fb4cd8fdc10>"
      ]
     },
     "execution_count": 13,
     "metadata": {},
     "output_type": "execute_result"
    },
    {
     "data": {
      "image/png": "[encoded data removed]",
      "text/plain": [
       "<Figure size 1152x276.48 with 1 Axes>"
      ]
     },
     "metadata": {
      "needs_background": "light"
     },
     "output_type": "display_data"
    }
   ],
   "source": [
    "plt.matshow(get_vb_expectations(vb_params_dict, use_logitnormal_sticks)[0].transpose())"
   ]
  },
  {
   "cell_type": "code",
   "execution_count": null,
   "metadata": {},
   "outputs": [],
   "source": []
  },
  {
   "cell_type": "markdown",
   "metadata": {},
   "source": [
    "# Run CAVI"
   ]
  },
  {
   "cell_type": "code",
   "execution_count": 14,
   "metadata": {
    "scrolled": true
   },
   "outputs": [
    {
     "name": "stdout",
     "output_type": "stream",
     "text": [
      "iteration [0]; kl:5808.827066\n",
      "iteration [1]; kl:4566.250954\n",
      "iteration [2]; kl:4330.351941\n",
      "iteration [3]; kl:4267.947915\n",
      "iteration [4]; kl:4229.534239\n",
      "iteration [5]; kl:4196.291868\n",
      "iteration [6]; kl:4164.797523\n",
      "iteration [7]; kl:4133.915619\n",
      "iteration [8]; kl:4103.219158\n",
      "iteration [9]; kl:4072.657477\n",
      "iteration [10]; kl:4042.420864\n",
      "iteration [11]; kl:4012.842137\n",
      "iteration [12]; kl:3984.336632\n",
      "iteration [13]; kl:3957.364863\n",
      "iteration [14]; kl:3932.400452\n",
      "iteration [15]; kl:3909.887328\n",
      "iteration [16]; kl:3890.036242\n",
      "iteration [17]; kl:3872.651069\n",
      "iteration [18]; kl:3857.274965\n",
      "iteration [19]; kl:3843.455136\n",
      "iteration [20]; kl:3830.844107\n",
      "iteration [21]; kl:3819.181734\n",
      "iteration [22]; kl:3808.262359\n",
      "iteration [23]; kl:3797.915121\n",
      "iteration [24]; kl:3788.021276\n",
      "iteration [25]; kl:3778.565098\n",
      "iteration [26]; kl:3769.667977\n",
      "iteration [27]; kl:3761.540409\n",
      "iteration [28]; kl:3754.329744\n",
      "iteration [29]; kl:3747.977428\n",
      "iteration [30]; kl:3742.263631\n",
      "iteration [31]; kl:3736.993212\n",
      "iteration [32]; kl:3732.067384\n",
      "iteration [33]; kl:3727.443485\n",
      "iteration [34]; kl:3723.098712\n",
      "iteration [35]; kl:3719.01105\n",
      "iteration [36]; kl:3715.153414\n",
      "iteration [37]; kl:3711.501045\n",
      "iteration [38]; kl:3708.047068\n",
      "iteration [39]; kl:3704.815188\n",
      "iteration [40]; kl:3701.855958\n",
      "iteration [41]; kl:3699.219655\n",
      "iteration [42]; kl:3696.919166\n",
      "iteration [43]; kl:3694.915189\n",
      "iteration [44]; kl:3693.138741\n",
      "iteration [45]; kl:3691.524777\n",
      "iteration [46]; kl:3690.028207\n",
      "iteration [47]; kl:3688.622515\n",
      "iteration [48]; kl:3687.292774\n",
      "iteration [49]; kl:3686.029838\n",
      "iteration [50]; kl:3684.827121\n",
      "iteration [51]; kl:3683.679181\n",
      "iteration [52]; kl:3682.580808\n",
      "iteration [53]; kl:3681.525612\n",
      "iteration [54]; kl:3680.504001\n",
      "iteration [55]; kl:3679.501356\n",
      "iteration [56]; kl:3678.49773\n",
      "iteration [57]; kl:3677.470151\n",
      "iteration [58]; kl:3676.397714\n",
      "iteration [59]; kl:3675.26848\n",
      "iteration [60]; kl:3674.086355\n",
      "iteration [61]; kl:3672.875175\n",
      "iteration [62]; kl:3671.676069\n",
      "iteration [63]; kl:3670.534632\n",
      "iteration [64]; kl:3669.480288\n",
      "iteration [65]; kl:3668.510687\n",
      "iteration [66]; kl:3667.597464\n",
      "iteration [67]; kl:3666.713848\n",
      "iteration [68]; kl:3665.861453\n",
      "iteration [69]; kl:3665.074874\n",
      "iteration [70]; kl:3664.404234\n",
      "iteration [71]; kl:3663.887819\n",
      "iteration [72]; kl:3663.530331\n",
      "iteration [73]; kl:3663.30191\n",
      "iteration [74]; kl:3663.15858\n",
      "iteration [75]; kl:3663.06411\n",
      "iteration [76]; kl:3662.99676\n",
      "iteration [77]; kl:3662.945226\n",
      "iteration [78]; kl:3662.903655\n",
      "iteration [79]; kl:3662.868819\n",
      "iteration [80]; kl:3662.838823\n",
      "iteration [81]; kl:3662.812493\n",
      "iteration [82]; kl:3662.78907\n",
      "iteration [83]; kl:3662.768041\n",
      "iteration [84]; kl:3662.749041\n",
      "iteration [85]; kl:3662.731803\n",
      "iteration [86]; kl:3662.716115\n",
      "iteration [87]; kl:3662.701811\n",
      "iteration [88]; kl:3662.688751\n",
      "iteration [89]; kl:3662.676816\n",
      "iteration [90]; kl:3662.665902\n",
      "iteration [91]; kl:3662.655918\n",
      "iteration [92]; kl:3662.646781\n",
      "iteration [93]; kl:3662.638418\n",
      "iteration [94]; kl:3662.630762\n",
      "iteration [95]; kl:3662.623752\n",
      "iteration [96]; kl:3662.617332\n",
      "iteration [97]; kl:3662.611451\n",
      "iteration [98]; kl:3662.606061\n",
      "iteration [99]; kl:3662.601121\n",
      "iteration [100]; kl:3662.59659\n",
      "iteration [101]; kl:3662.592432\n",
      "iteration [102]; kl:3662.588614\n",
      "iteration [103]; kl:3662.585107\n",
      "iteration [104]; kl:3662.581883\n",
      "iteration [105]; kl:3662.578916\n",
      "iteration [106]; kl:3662.576184\n",
      "iteration [107]; kl:3662.573666\n",
      "iteration [108]; kl:3662.571344\n",
      "iteration [109]; kl:3662.5692\n",
      "iteration [110]; kl:3662.567219\n",
      "iteration [111]; kl:3662.565387\n",
      "iteration [112]; kl:3662.563691\n",
      "iteration [113]; kl:3662.56212\n",
      "iteration [114]; kl:3662.560664\n",
      "iteration [115]; kl:3662.559312\n",
      "iteration [116]; kl:3662.558057\n",
      "iteration [117]; kl:3662.556891\n",
      "iteration [118]; kl:3662.555806\n",
      "iteration [119]; kl:3662.554797\n",
      "iteration [120]; kl:3662.553858\n",
      "iteration [121]; kl:3662.552983\n",
      "iteration [122]; kl:3662.552167\n",
      "iteration [123]; kl:3662.551406\n",
      "iteration [124]; kl:3662.550697\n",
      "iteration [125]; kl:3662.550035\n",
      "iteration [126]; kl:3662.549417\n",
      "iteration [127]; kl:3662.548839\n",
      "iteration [128]; kl:3662.5483\n",
      "iteration [129]; kl:3662.547796\n",
      "iteration [130]; kl:3662.547325\n",
      "iteration [131]; kl:3662.546885\n",
      "iteration [132]; kl:3662.546473\n",
      "iteration [133]; kl:3662.546088\n",
      "iteration [134]; kl:3662.545728\n",
      "iteration [135]; kl:3662.545391\n",
      "iteration [136]; kl:3662.545076\n",
      "iteration [137]; kl:3662.544781\n",
      "iteration [138]; kl:3662.544505\n",
      "iteration [139]; kl:3662.544247\n",
      "iteration [140]; kl:3662.544005\n",
      "iteration [141]; kl:3662.543779\n",
      "iteration [142]; kl:3662.543567\n",
      "iteration [143]; kl:3662.543369\n",
      "iteration [144]; kl:3662.543183\n",
      "iteration [145]; kl:3662.54301\n",
      "iteration [146]; kl:3662.542847\n",
      "iteration [147]; kl:3662.542695\n",
      "iteration [148]; kl:3662.542553\n",
      "iteration [149]; kl:3662.54242\n",
      "iteration [150]; kl:3662.542295\n",
      "iteration [151]; kl:3662.542178\n",
      "iteration [152]; kl:3662.542069\n",
      "iteration [153]; kl:3662.541967\n",
      "iteration [154]; kl:3662.541871\n",
      "CAVI done. Termination after 154 steps in 2.24 seconds\n"
     ]
    }
   ],
   "source": [
    "# get beta parameters for sticks and populations\n",
    "ez_opt, vb_opt_dict = \\\n",
    "    cavi_lib.run_cavi(g_obs, vb_params_dict, \n",
    "                        prior_params_dict,\n",
    "                        use_logitnormal_sticks, \n",
    "                        max_iter = 1000,\n",
    "                        f_tol = 1e-4)\n"
   ]
  },
  {
   "cell_type": "code",
   "execution_count": 15,
   "metadata": {},
   "outputs": [],
   "source": [
    "vb_opt = vb_params_paragami.flatten(vb_opt_dict, free = True)"
   ]
  },
  {
   "cell_type": "markdown",
   "metadata": {},
   "source": [
    "# Define objective"
   ]
  },
  {
   "cell_type": "code",
   "execution_count": 20,
   "metadata": {},
   "outputs": [],
   "source": [
    "objective = paragami.FlattenFunctionInput(original_fun=structure_model_lib.get_kl, \n",
    "                                    patterns = [vb_params_paragami, prior_params_paragami],\n",
    "                                    free = True,\n",
    "                                    argnums = [1, 2])\n",
    "\n",
    "objective_fun = lambda x, y: objective(g_obs, x, y, use_logitnormal_sticks = False)\n"
   ]
  },
  {
   "cell_type": "code",
   "execution_count": 42,
   "metadata": {},
   "outputs": [],
   "source": [
    "# get derivative functions\n",
    "obj_fun_grad = autograd.grad(objective_fun, argnum=0)\n",
    "obj_fun_hessian = autograd.hessian(objective_fun, argnum=0)\n",
    "obj_fun_hvp = autograd.hessian_vector_product(\n",
    "            objective_fun, argnum=0)"
   ]
  },
  {
   "cell_type": "markdown",
   "metadata": {},
   "source": [
    "# Derivative times"
   ]
  },
  {
   "cell_type": "code",
   "execution_count": 35,
   "metadata": {},
   "outputs": [
    {
     "name": "stdout",
     "output_type": "stream",
     "text": [
      "gradient time: 0.0506sec\n"
     ]
    }
   ],
   "source": [
    "t0 = time.time()\n",
    "grad = obj_fun_grad(vb_opt, prior_params_free)\n",
    "print('gradient time: {:0.3}sec'.format(time.time() - t0))"
   ]
  },
  {
   "cell_type": "code",
   "execution_count": 45,
   "metadata": {},
   "outputs": [],
   "source": [
    "# if its impossible, don't run the hessian\n",
    "run_hessian = True"
   ]
  },
  {
   "cell_type": "code",
   "execution_count": 36,
   "metadata": {},
   "outputs": [
    {
     "name": "stdout",
     "output_type": "stream",
     "text": [
      "hessian time: 43.4sec\n"
     ]
    }
   ],
   "source": [
    "if run_hessian: \n",
    "    t0 = time.time()\n",
    "    hess = obj_fun_hessian(vb_opt, prior_params_free)\n",
    "    print('hessian time: {:0.3}sec'.format(time.time() - t0))"
   ]
  },
  {
   "cell_type": "code",
   "execution_count": 41,
   "metadata": {},
   "outputs": [
    {
     "name": "stdout",
     "output_type": "stream",
     "text": [
      "hvp time: 0.0759sec\n"
     ]
    }
   ],
   "source": [
    "t0 = time.time()\n",
    "hvp = obj_fun_hvp(vb_opt, prior_params_free, vb_opt)\n",
    "print('hvp time: {:0.3}sec'.format(time.time() - t0))"
   ]
  },
  {
   "cell_type": "code",
   "execution_count": 43,
   "metadata": {},
   "outputs": [],
   "source": [
    "# cross hessian \n",
    "hyper_obj_fun_grad = \\\n",
    "            autograd.grad(objective_fun, argnum=0)\n",
    "hyper_obj_cross_hess = autograd.jacobian(hyper_obj_fun_grad, argnum=1)"
   ]
  },
  {
   "cell_type": "code",
   "execution_count": 46,
   "metadata": {},
   "outputs": [
    {
     "name": "stdout",
     "output_type": "stream",
     "text": [
      "cross-hessian time: 0.955sec\n"
     ]
    }
   ],
   "source": [
    "t0 = time.time()\n",
    "cross_hess = hyper_obj_cross_hess(vb_opt, prior_params_free)\n",
    "print('cross-hessian time: {:0.3}sec'.format(time.time() - t0))"
   ]
  },
  {
   "cell_type": "markdown",
   "metadata": {},
   "source": [
    "# Solver times"
   ]
  },
  {
   "cell_type": "code",
   "execution_count": 49,
   "metadata": {},
   "outputs": [
    {
     "name": "stdout",
     "output_type": "stream",
     "text": [
      "solver time: 0.0103sec\n"
     ]
    }
   ],
   "source": [
    "if run_hessian: \n",
    "    chol_solver = vittles.solver_lib.get_cholesky_solver(hess)\n",
    "    \n",
    "    t0 = time.time()\n",
    "    dinput_dhyper = -chol_solver(cross_hess)\n",
    "    \n",
    "    print('solver time: {:0.3}sec'.format(time.time() - t0))"
   ]
  },
  {
   "cell_type": "code",
   "execution_count": 58,
   "metadata": {},
   "outputs": [
    {
     "name": "stdout",
     "output_type": "stream",
     "text": [
      "solver time: 2.48sec\n"
     ]
    }
   ],
   "source": [
    "cg_solver = vittles.solver_lib.get_cg_solver(lambda x : obj_fun_hvp(vb_opt, prior_params_free, x), \n",
    "                                            dim = len(vb_opt))\n",
    "    \n",
    "t0 = time.time()\n",
    "dinput_dhyper2 = -cg_solver(cross_hess[:, 0])\n",
    "    \n",
    "print('solver time: {:0.3}sec'.format(time.time() - t0))"
   ]
  },
  {
   "cell_type": "code",
   "execution_count": null,
   "metadata": {},
   "outputs": [],
   "source": []
  }
 ],
 "metadata": {
  "kernelspec": {
   "display_name": "bnp_sensitivity",
   "language": "python",
   "name": "bnp_sensitivity"
  },
  "language_info": {
   "codemirror_mode": {
    "name": "ipython",
    "version": 3
   },
   "file_extension": ".py",
   "mimetype": "text/x-python",
   "name": "python",
   "nbconvert_exporter": "python",
   "pygments_lexer": "ipython3",
   "version": "3.8.0"
  }
 },
 "nbformat": 4,
 "nbformat_minor": 2
}
