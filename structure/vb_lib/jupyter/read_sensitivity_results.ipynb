{
 "cells": [
  {
   "cell_type": "code",
   "execution_count": 1,
   "metadata": {},
   "outputs": [
    {
     "name": "stderr",
     "output_type": "stream",
     "text": [
      "/accounts/grad/runjing_liu/.conda/envs/bnp_sensitivity_jax/lib/python3.8/site-packages/jax/lib/xla_bridge.py:130: UserWarning: No GPU/TPU found, falling back to CPU.\n",
      "  warnings.warn('No GPU/TPU found, falling back to CPU.')\n"
     ]
    }
   ],
   "source": [
    "import jax\n",
    "\n",
    "import jax.numpy as np\n",
    "import jax.scipy as sp\n",
    "\n",
    "import numpy as onp\n",
    "\n",
    "from numpy.polynomial.hermite import hermgauss\n",
    "import scipy as osp\n",
    "\n",
    "from vb_lib import structure_model_lib, data_utils, plotting_utils\n",
    "from vb_lib.preconditioner_lib import get_mfvb_cov_matmul\n",
    "from bnpmodeling_runjingdev.sensitivity_lib import HyperparameterSensitivityLinearApproximation\n",
    "\n",
    "import paragami\n",
    "from vittles import solver_lib\n",
    "\n",
    "from copy import deepcopy\n",
    "\n",
    "import time\n",
    "\n",
    "import matplotlib.pyplot as plt\n",
    "%matplotlib inline  \n",
    "\n",
    "from bnpmodeling_runjingdev import cluster_quantities_lib, modeling_lib\n"
   ]
  },
  {
   "cell_type": "code",
   "execution_count": 2,
   "metadata": {},
   "outputs": [],
   "source": [
    "from bnpmodeling_runjingdev.optimization_lib import run_lbfgs"
   ]
  },
  {
   "cell_type": "code",
   "execution_count": 3,
   "metadata": {},
   "outputs": [],
   "source": [
    "# np.random.seed(53453)"
   ]
  },
  {
   "cell_type": "markdown",
   "metadata": {
    "collapsed": true
   },
   "source": [
    "# load data"
   ]
  },
  {
   "cell_type": "code",
   "execution_count": 7,
   "metadata": {},
   "outputs": [],
   "source": [
    "# data_file = '../../../../fastStructure/test/testdata.npz'\n",
    "\n",
    "data_file = '../../../../fastStructure/hgdp_data/huang2011_plink_files/' + \\\n",
    "                'phased_HGDP+India+Africa_2810SNPs-regions1to36.npz'\n",
    "\n",
    "data = np.load(data_file)\n",
    "g_obs = np.array(data['g_obs'], dtype = int)\n"
   ]
  },
  {
   "cell_type": "code",
   "execution_count": 8,
   "metadata": {},
   "outputs": [],
   "source": [
    "n_obs = g_obs.shape[0]\n",
    "n_loci = g_obs.shape[1]"
   ]
  },
  {
   "cell_type": "markdown",
   "metadata": {},
   "source": [
    "# Load fits"
   ]
  },
  {
   "cell_type": "code",
   "execution_count": 9,
   "metadata": {},
   "outputs": [],
   "source": [
    "import os\n",
    "import re"
   ]
  },
  {
   "cell_type": "code",
   "execution_count": 14,
   "metadata": {},
   "outputs": [],
   "source": [
    "fits_dir = '../fits/fits_20201106/'\n",
    "# filenames = 'testdata_fit_alpha*'\n",
    "filenames = 'huang2011_fits_alpha*'"
   ]
  },
  {
   "cell_type": "code",
   "execution_count": 15,
   "metadata": {},
   "outputs": [],
   "source": [
    "files = [f for f in os.listdir(fits_dir) if re.match(filenames, f)]"
   ]
  },
  {
   "cell_type": "code",
   "execution_count": 20,
   "metadata": {},
   "outputs": [
    {
     "name": "stdout",
     "output_type": "stream",
     "text": [
      "16\n"
     ]
    }
   ],
   "source": [
    "print(len(files))"
   ]
  },
  {
   "cell_type": "code",
   "execution_count": 17,
   "metadata": {},
   "outputs": [
    {
     "data": {
      "text/plain": [
       "['huang2011_fits_alpha9.5.npz',\n",
       " 'huang2011_fits_alpha1.0.npz',\n",
       " 'huang2011_fits_alpha4.5.npz',\n",
       " 'huang2011_fits_alpha8.5.npz',\n",
       " 'huang2011_fits_alpha2.0.npz',\n",
       " 'huang2011_fits_alpha7.5.npz',\n",
       " 'huang2011_fits_alpha6.5.npz',\n",
       " 'huang2011_fits_alpha8.0.npz',\n",
       " 'huang2011_fits_alpha1.5.npz',\n",
       " 'huang2011_fits_alpha9.0.npz',\n",
       " 'huang2011_fits_alpha5.0.npz',\n",
       " 'huang2011_fits_alpha6.0.npz',\n",
       " 'huang2011_fits_alpha3.5.npz',\n",
       " 'huang2011_fits_alpha10.0.npz',\n",
       " 'huang2011_fits_alpha7.0.npz',\n",
       " 'huang2011_fits_alpha11.0.npz']"
      ]
     },
     "execution_count": 17,
     "metadata": {},
     "output_type": "execute_result"
    }
   ],
   "source": [
    "files"
   ]
  },
  {
   "cell_type": "markdown",
   "metadata": {},
   "source": [
    "### load first fit to get metadata"
   ]
  },
  {
   "cell_type": "code",
   "execution_count": 18,
   "metadata": {},
   "outputs": [],
   "source": [
    "_, vb_params_paragami, meta_data = \\\n",
    "    paragami.load_folded(fits_dir + files[0])\n",
    "\n",
    "# logitnormal parameters\n",
    "gh_deg = int(meta_data['gh_deg'])\n",
    "gh_loc, gh_weights = hermgauss(gh_deg)\n",
    "\n",
    "gh_loc = np.array(gh_loc)\n",
    "gh_weights = np.array(gh_weights)\n",
    "\n",
    "use_logitnormal_sticks = meta_data['use_logitnormal_sticks'] == 1\n",
    "\n",
    "# prior parameters for population beta\n",
    "prior_params_dict, prior_params_paragami = \\\n",
    "    structure_model_lib.get_default_prior_params()\n",
    "\n",
    "prior_params_dict['allele_prior_alpha'] = np.array(meta_data['allele_prior_alpha'])\n",
    "prior_params_dict['allele_prior_beta'] = np.array(meta_data['allele_prior_beta'])"
   ]
  },
  {
   "cell_type": "markdown",
   "metadata": {},
   "source": [
    "### Load all fits"
   ]
  },
  {
   "cell_type": "code",
   "execution_count": 19,
   "metadata": {},
   "outputs": [
    {
     "name": "stdout",
     "output_type": "stream",
     "text": [
      "loading fit from:  huang2011_fits_alpha9.5.npz\n",
      "loading fit from:  huang2011_fits_alpha1.0.npz\n",
      "loading fit from:  huang2011_fits_alpha4.5.npz\n",
      "loading fit from:  huang2011_fits_alpha8.5.npz\n",
      "loading fit from:  huang2011_fits_alpha2.0.npz\n",
      "loading fit from:  huang2011_fits_alpha7.5.npz\n",
      "loading fit from:  huang2011_fits_alpha6.5.npz\n",
      "loading fit from:  huang2011_fits_alpha8.0.npz\n",
      "loading fit from:  huang2011_fits_alpha1.5.npz\n",
      "loading fit from:  huang2011_fits_alpha9.0.npz\n",
      "loading fit from:  huang2011_fits_alpha5.0.npz\n",
      "loading fit from:  huang2011_fits_alpha6.0.npz\n",
      "loading fit from:  huang2011_fits_alpha3.5.npz\n",
      "loading fit from:  huang2011_fits_alpha10.0.npz\n",
      "loading fit from:  huang2011_fits_alpha7.0.npz\n",
      "loading fit from:  huang2011_fits_alpha11.0.npz\n"
     ]
    }
   ],
   "source": [
    "vb_refit_list = []\n",
    "alpha_vec = onp.zeros(len(files))\n",
    "\n",
    "for i in range(len(files)): \n",
    "    \n",
    "    print('loading fit from: ', files[i])\n",
    "    \n",
    "    # load fit\n",
    "    vb_params_dict, vb_params_paragami, meta_data = \\\n",
    "        paragami.load_folded(fits_dir + files[i])\n",
    "    \n",
    "    # check KL\n",
    "    prior_params_dict['dp_prior_alpha'] = np.array(meta_data['dp_prior_alpha'])\n",
    "    \n",
    "    kl = structure_model_lib.get_kl(g_obs, vb_params_dict, prior_params_dict,\n",
    "                                gh_loc, gh_weights)\n",
    "    \n",
    "    assert np.abs(kl - meta_data['final_kl']) < 1e-8\n",
    "    \n",
    "    # save alpha and fitted parametrs\n",
    "    alpha_vec[i] = meta_data['dp_prior_alpha']\n",
    "    vb_refit_list.append(vb_params_paragami.flatten(vb_params_dict, free = True))\n",
    "    \n",
    "alpha_vec = np.array(alpha_vec)\n",
    "vb_refit_list = np.array(vb_refit_list)"
   ]
  },
  {
   "cell_type": "code",
   "execution_count": 21,
   "metadata": {},
   "outputs": [],
   "source": [
    "# for convencience, sort the alphas \n",
    "_indx = np.argsort(alpha_vec)\n",
    "alpha_vec = alpha_vec[_indx]\n",
    "vb_refit_list = vb_refit_list[_indx]"
   ]
  },
  {
   "cell_type": "code",
   "execution_count": 1,
   "metadata": {},
   "outputs": [
    {
     "data": {
      "text/plain": [
       "[3, 4, 8]"
      ]
     },
     "execution_count": 1,
     "metadata": {},
     "output_type": "execute_result"
    }
   ],
   "source": [
    "[3, 4] + [8]"
   ]
  },
  {
   "cell_type": "markdown",
   "metadata": {},
   "source": [
    "# Define the initial fit"
   ]
  },
  {
   "cell_type": "code",
   "execution_count": 22,
   "metadata": {},
   "outputs": [
    {
     "name": "stdout",
     "output_type": "stream",
     "text": [
      "5.0\n"
     ]
    }
   ],
   "source": [
    "indx0 = 5\n",
    "\n",
    "alpha0 = alpha_vec[indx0]\n",
    "print(alpha0)\n",
    "\n",
    "vb_opt = vb_refit_list[indx0]\n",
    "vb_opt_dict = vb_params_paragami.fold(vb_refit_list[indx0], free = True)"
   ]
  },
  {
   "cell_type": "markdown",
   "metadata": {},
   "source": [
    "### Plot initial fit"
   ]
  },
  {
   "cell_type": "code",
   "execution_count": 23,
   "metadata": {},
   "outputs": [],
   "source": [
    "def plot_e_ind_admix(vb_params_dict): \n",
    "    e_ind_admix = plotting_utils.get_vb_expectations(vb_params_dict, gh_loc, gh_weights)[0]\n",
    "    \n",
    "    # get large clusters\n",
    "    top_clusters = np.argsort(- e_ind_admix.sum(0))\n",
    "\n",
    "    # we color the top clusters\n",
    "    # all else is grey\n",
    "    n_clusters_plot = 3\n",
    "    import colorsys\n",
    "    colors = [colorsys.hsv_to_rgb(h,0.9,0.7) for h in np.linspace(0,1,n_clusters_plot+1)[:-1]]\n",
    "\n",
    "    colors_plus_grey = ['grey'] * e_ind_admix.shape[1]\n",
    "\n",
    "    for i in range(n_clusters_plot): \n",
    "        colors_plus_grey[top_clusters[i]] = colors[i]\n",
    "        \n",
    "    # re-order individuals for better plotting\n",
    "    indx = data_utils.cluster_admix_get_indx(e_ind_admix)\n",
    "    \n",
    "    # plot!\n",
    "    f, axarr = plt.subplots(1, 1, figsize=(6, 3))\n",
    "    plotting_utils.plot_admixture(e_ind_admix[indx], axarr, colors = colors_plus_grey);\n",
    "    \n",
    "    return e_ind_admix "
   ]
  },
  {
   "cell_type": "code",
   "execution_count": 24,
   "metadata": {},
   "outputs": [
    {
     "data": {
      "image/png": "[encoded data removed]",
      "text/plain": [
       "<Figure size 432x216 with 1 Axes>"
      ]
     },
     "metadata": {},
     "output_type": "display_data"
    }
   ],
   "source": [
    "e_ind_admix = plot_e_ind_admix(vb_opt_dict)"
   ]
  },
  {
   "cell_type": "markdown",
   "metadata": {},
   "source": [
    "### expected number of clusters"
   ]
  },
  {
   "cell_type": "code",
   "execution_count": 25,
   "metadata": {},
   "outputs": [],
   "source": [
    "key = key = jax.random.PRNGKey(0)\n",
    "\n",
    "@jax.jit\n",
    "def get_e_num_pred_clusters(vb_params_dict): \n",
    "    \n",
    "    stick_means = vb_params_dict['ind_admix_params']['stick_means']\n",
    "    stick_infos = vb_params_dict['ind_admix_params']['stick_infos']\n",
    "    \n",
    "    return structure_model_lib.get_e_num_pred_clusters(stick_means, stick_infos, gh_loc, gh_weights, \n",
    "                                                            key, n_samples = 10000)"
   ]
  },
  {
   "cell_type": "code",
   "execution_count": null,
   "metadata": {},
   "outputs": [],
   "source": [
    "get_e_num_pred_clusters(vb_opt_dict)"
   ]
  },
  {
   "cell_type": "code",
   "execution_count": null,
   "metadata": {},
   "outputs": [],
   "source": []
  },
  {
   "cell_type": "code",
   "execution_count": null,
   "metadata": {},
   "outputs": [],
   "source": []
  },
  {
   "cell_type": "markdown",
   "metadata": {},
   "source": [
    "# Define sensitivity object"
   ]
  },
  {
   "cell_type": "code",
   "execution_count": null,
   "metadata": {},
   "outputs": [],
   "source": [
    "# initial prior alpha\n",
    "use_free_alpha = True\n",
    "prior_alpha0 = prior_params_paragami['dp_prior_alpha'].flatten(alpha0, \n",
    "                                                              free = use_free_alpha)"
   ]
  },
  {
   "cell_type": "code",
   "execution_count": null,
   "metadata": {},
   "outputs": [],
   "source": [
    "# set up objective as function of vb params and prior param \n",
    "\n",
    "def objective_fun(vb_params_dict, alpha): \n",
    "    \n",
    "    _prior_params_dict = deepcopy(prior_params_dict)\n",
    "    _prior_params_dict['dp_prior_alpha'] = alpha\n",
    "    \n",
    "    return structure_model_lib.get_kl(g_obs, vb_params_dict, _prior_params_dict,\n",
    "                    gh_loc = gh_loc, gh_weights = gh_weights)\n",
    "\n",
    "\n",
    "objective_fun_free = paragami.FlattenFunctionInput(\n",
    "                                original_fun=objective_fun, \n",
    "                                patterns = [vb_params_paragami, prior_params_paragami['dp_prior_alpha']],\n",
    "                                free = [True, use_free_alpha],\n",
    "                                argnums = [0, 1])\n"
   ]
  },
  {
   "cell_type": "markdown",
   "metadata": {},
   "source": [
    "### Get hessian solver"
   ]
  },
  {
   "cell_type": "code",
   "execution_count": null,
   "metadata": {},
   "outputs": [],
   "source": [
    "# define preconditioner\n",
    "cg_precond = lambda v : get_mfvb_cov_matmul(v, vb_opt_dict,\n",
    "                                            vb_params_paragami,\n",
    "                                            return_sqrt = False, \n",
    "                                            return_info = True)"
   ]
  },
  {
   "cell_type": "markdown",
   "metadata": {},
   "source": [
    "### Compute VB sensitivity derivatives"
   ]
  },
  {
   "cell_type": "code",
   "execution_count": null,
   "metadata": {},
   "outputs": [],
   "source": [
    "vb_sens = HyperparameterSensitivityLinearApproximation(objective_fun_free,\n",
    "                                                        vb_opt,\n",
    "                                                        prior_alpha0, \n",
    "                                                        cg_precond=cg_precond)"
   ]
  },
  {
   "cell_type": "code",
   "execution_count": null,
   "metadata": {},
   "outputs": [],
   "source": []
  },
  {
   "cell_type": "markdown",
   "metadata": {},
   "source": [
    "# Get linear reponse predictions"
   ]
  },
  {
   "cell_type": "code",
   "execution_count": null,
   "metadata": {},
   "outputs": [],
   "source": [
    "def get_num_clusters_vec(vb_free_params_list, cluster_fun): \n",
    "    # vb_free_params_list contains an array of \n",
    "    # vb free parameters, where each row contains \n",
    "    # parameters from a different refit (or lr prediction)\n",
    "    \n",
    "    # cluster fun takes input a vb parameter dictionary \n",
    "    # and returns the posterior expectation of interest\n",
    "    \n",
    "    n_refit = len(vb_free_params_list)\n",
    "    n_clusters_vec = onp.zeros(n_refit)\n",
    "    \n",
    "    for i in range(n_refit): \n",
    "        # fold \n",
    "        vb_dict = vb_params_paragami.fold(vb_free_params_list[i], \n",
    "                                          free = True)\n",
    "\n",
    "        # get number of clusters\n",
    "        n_clusters_vec[i] = cluster_fun(vb_dict)\n",
    "    \n",
    "    return n_clusters_vec"
   ]
  },
  {
   "cell_type": "code",
   "execution_count": null,
   "metadata": {},
   "outputs": [],
   "source": [
    "def get_lr_predictions(vb_sens, cluster_fun): \n",
    "\n",
    "    t0 = time.time()\n",
    "    lr_free_params_list = []\n",
    "    for i in range(len(alpha_vec)): \n",
    "    \n",
    "        # get lr predicted parameters\n",
    "        alpha_pert = prior_params_paragami['dp_prior_alpha'].flatten(alpha_vec[i],\n",
    "                                                                     free = use_free_alpha)\n",
    "\n",
    "        lr_free = vb_sens.predict_opt_par_from_hyper_par(alpha_pert)\n",
    "        \n",
    "        lr_free_params_list.append(lr_free)\n",
    "    \n",
    "    # computing the vb parameters are fast!\n",
    "    print('lr time: {:03f}secs'.format(time.time() - t0))\n",
    "    \n",
    "    # actually computing the posterior quantity can be slow\n",
    "    return get_num_clusters_vec(lr_free_params_list, cluster_fun)"
   ]
  },
  {
   "cell_type": "code",
   "execution_count": null,
   "metadata": {},
   "outputs": [],
   "source": [
    "lr_n_clusters_vec = get_lr_predictions(vb_sens, get_e_num_pred_clusters)"
   ]
  },
  {
   "cell_type": "code",
   "execution_count": null,
   "metadata": {},
   "outputs": [],
   "source": []
  },
  {
   "cell_type": "markdown",
   "metadata": {},
   "source": [
    "# compare against refit results"
   ]
  },
  {
   "cell_type": "code",
   "execution_count": null,
   "metadata": {},
   "outputs": [],
   "source": [
    "refit_n_clusters_vec = get_num_clusters_vec(vb_refit_list, get_e_num_pred_clusters)"
   ]
  },
  {
   "cell_type": "code",
   "execution_count": null,
   "metadata": {},
   "outputs": [],
   "source": [
    "plt.plot(alpha_vec, lr_n_clusters_vec, '+--')\n",
    "plt.plot(alpha_vec, refit_n_clusters_vec, '+-')\n",
    "\n",
    "plt.xlabel('alpha')\n",
    "plt.ylabel('num posterior clusters')\n",
    "plt.legend(('lr', 'refit'))\n",
    "\n",
    "plt.axvline(alpha0, color = 'red', linestyle = 'dashed')"
   ]
  },
  {
   "cell_type": "code",
   "execution_count": null,
   "metadata": {},
   "outputs": [],
   "source": []
  },
  {
   "cell_type": "markdown",
   "metadata": {},
   "source": [
    "# Start from a different alpha"
   ]
  },
  {
   "cell_type": "code",
   "execution_count": null,
   "metadata": {},
   "outputs": [],
   "source": [
    "indx0 = 10\n",
    "\n",
    "alpha1 = alpha_vec[indx0]\n",
    "print(alpha1)\n",
    "\n",
    "vb_opt = vb_refit_list[indx0]\n",
    "vb_opt_dict = vb_params_paragami.fold(vb_refit_list[indx0], free = True)\n",
    "\n",
    "_ = plot_e_ind_admix(vb_opt_dict)"
   ]
  },
  {
   "cell_type": "code",
   "execution_count": null,
   "metadata": {
    "scrolled": true
   },
   "outputs": [],
   "source": [
    "# reset sensitivity derivatives \n",
    "\n",
    "t0 = time.time()\n",
    "vb_sens.set_derivatives(vb_opt, \n",
    "                        prior_params_paragami['dp_prior_alpha'].flatten(alpha1, \n",
    "                                                              free = use_free_alpha))\n",
    "print(time.time() - t0)"
   ]
  },
  {
   "cell_type": "code",
   "execution_count": null,
   "metadata": {},
   "outputs": [],
   "source": []
  },
  {
   "cell_type": "code",
   "execution_count": null,
   "metadata": {},
   "outputs": [],
   "source": [
    "# get new predictions\n",
    "lr_n_clusters_vec1 = get_lr_predictions(vb_sens, get_e_num_pred_clusters)"
   ]
  },
  {
   "cell_type": "code",
   "execution_count": null,
   "metadata": {},
   "outputs": [],
   "source": [
    "plt.plot(alpha_vec, lr_n_clusters_vec1, '+--')\n",
    "plt.plot(alpha_vec, refit_n_clusters_vec, '+-')\n",
    "\n",
    "\n",
    "plt.xlabel('alpha')\n",
    "plt.ylabel('num posterior clusters')\n",
    "plt.legend(('lr', 'refit'))\n",
    "\n",
    "plt.axvline(alpha1, color = 'red', linestyle = 'dashed')"
   ]
  },
  {
   "cell_type": "code",
   "execution_count": null,
   "metadata": {},
   "outputs": [],
   "source": []
  },
  {
   "cell_type": "markdown",
   "metadata": {},
   "source": [
    "# Start from a different alpha (again)"
   ]
  },
  {
   "cell_type": "code",
   "execution_count": null,
   "metadata": {},
   "outputs": [],
   "source": [
    "indx0 = 17\n",
    "\n",
    "alpha2 = alpha_vec[indx0]\n",
    "print(alpha2)\n",
    "\n",
    "vb_opt = vb_refit_list[indx0]\n",
    "vb_opt_dict = vb_params_paragami.fold(vb_refit_list[indx0], free = True)\n",
    "\n",
    "_ = plot_e_ind_admix(vb_opt_dict)"
   ]
  },
  {
   "cell_type": "code",
   "execution_count": null,
   "metadata": {
    "scrolled": true
   },
   "outputs": [],
   "source": [
    "# reset sensitivity derivatives \n",
    "\n",
    "t0 = time.time()\n",
    "vb_sens.set_derivatives(vb_opt, \n",
    "                        prior_params_paragami['dp_prior_alpha'].flatten(alpha2, \n",
    "                                                              free = use_free_alpha))\n",
    "print(time.time() - t0)"
   ]
  },
  {
   "cell_type": "code",
   "execution_count": null,
   "metadata": {},
   "outputs": [],
   "source": [
    "# get new predictions\n",
    "lr_n_clusters_vec2 = get_lr_predictions(vb_sens, get_e_num_pred_clusters)"
   ]
  },
  {
   "cell_type": "code",
   "execution_count": null,
   "metadata": {},
   "outputs": [],
   "source": [
    "plt.plot(alpha_vec, lr_n_clusters_vec2, '+--')\n",
    "plt.plot(alpha_vec, refit_n_clusters_vec, '+-')\n",
    "\n",
    "\n",
    "plt.xlabel('alpha')\n",
    "plt.ylabel('num posterior clusters')\n",
    "plt.legend(('lr', 'refit'))\n",
    "\n",
    "plt.axvline(alpha2, color = 'red', linestyle = 'dashed')"
   ]
  },
  {
   "cell_type": "code",
   "execution_count": null,
   "metadata": {},
   "outputs": [],
   "source": []
  },
  {
   "cell_type": "markdown",
   "metadata": {},
   "source": [
    "# the final plot!"
   ]
  },
  {
   "cell_type": "code",
   "execution_count": null,
   "metadata": {},
   "outputs": [],
   "source": [
    "fig, axarr = plt.subplots(1, 3, figsize = (15, 4))\n",
    "\n",
    "for i in range(3): \n",
    "    axarr[i].plot(alpha_vec, refit_n_clusters_vec, '+-', label = 'refit')\n",
    "    axarr[i].set_xlabel('alpha')\n",
    "    axarr[i].set_ylabel('num clusters')\n",
    "\n",
    "    \n",
    "axarr[0].plot(alpha_vec, lr_n_clusters_vec, '+--')\n",
    "axarr[0].axvline(alpha0, color = 'red')\n",
    "\n",
    "axarr[1].plot(alpha_vec, lr_n_clusters_vec1, '+--')\n",
    "axarr[1].axvline(alpha1, color = 'red')\n",
    "\n",
    "axarr[2].plot(alpha_vec, lr_n_clusters_vec2, '+--', label = 'lr')\n",
    "axarr[2].axvline(alpha2, color = 'red')\n",
    "\n",
    "axarr[2].legend()"
   ]
  },
  {
   "cell_type": "code",
   "execution_count": null,
   "metadata": {},
   "outputs": [],
   "source": []
  },
  {
   "cell_type": "code",
   "execution_count": null,
   "metadata": {},
   "outputs": [],
   "source": [
    "# for loading in an already saved hessian inverse solution ... \n",
    "\n",
    "# class VBSensitivity(object): \n",
    "#     def __init__(self, lr_file, opt_par_value, hyper_par_value0): \n",
    "#         self.dinput_dhyper = np.load(lr_file)\n",
    "        \n",
    "#         self.opt_par_value = opt_par_value\n",
    "#         self.hyper_par_value0 = hyper_par_value0\n",
    "        \n",
    "#     def predict_opt_par_from_hyper_par(self, hyper_par_value):\n",
    "#         delta = (hyper_par_value - self.hyper_par_value0)\n",
    "\n",
    "#         if len(self.dinput_dhyper.shape) == 1:\n",
    "#             self.dinput_dhyper = np.expand_dims(self.dinput_dhyper, 1)\n",
    "\n",
    "#         return np.dot(self.dinput_dhyper, delta) + self.opt_par_value"
   ]
  },
  {
   "cell_type": "code",
   "execution_count": null,
   "metadata": {},
   "outputs": [],
   "source": [
    "# load_lr_der = True\n",
    "# if load_lr_der: \n",
    "#     lr_file = fit_dir + 'alpha_sens_nobs{}_nloci{}_npop{}_alpha{}.npy'.format(n_obs, \n",
    "#                                                                           n_loci, \n",
    "#                                                                           n_pop, \n",
    "#                                                                           alpha0)\n",
    "#     vb_sens = VBSensitivity(lr_file, vb_opt, prior_alpha0)\n",
    "# else: \n",
    "#     vb_sens = HyperparameterSensitivityLinearApproximation(objective_fun_free,\n",
    "#                                                         vb_opt,\n",
    "#                                                         prior_alpha0, \n",
    "#                                                         cg_precond=cg_precond)"
   ]
  },
  {
   "cell_type": "code",
   "execution_count": null,
   "metadata": {},
   "outputs": [],
   "source": [
    "# def e_num_clusters_from_ez(vb_params_dict, gh_loc, gh_weights): \n",
    "#     e_log_sticks, e_log_1m_sticks, \\\n",
    "#         e_log_pop_freq, e_log_1m_pop_freq = \\\n",
    "#             structure_model_lib.get_moments_from_vb_params_dict(vb_params_dict,\n",
    "#                                     gh_loc = gh_loc,\n",
    "#                                     gh_weights = gh_weights)\n",
    "#     e_log_cluster_probs = \\\n",
    "#         modeling_lib.get_e_log_cluster_probabilities_from_e_log_stick(\n",
    "#                             e_log_sticks, e_log_1m_sticks)\n",
    "    \n",
    "    \n",
    "#     prod_ez = 1.\n",
    "#     for l in range(g_obs.shape[1]):\n",
    "#         _, e_z_l = structure_model_lib.get_optimal_ezl(g_obs[:, l],\n",
    "#                                 e_log_pop_freq[l], e_log_1m_pop_freq[l],\n",
    "#                                 e_log_cluster_probs)\n",
    "        \n",
    "#         prod_ez *= (1 - e_z_l).prod(2).prod(0)\n",
    "                \n",
    "#     return prod_ez"
   ]
  },
  {
   "cell_type": "code",
   "execution_count": null,
   "metadata": {},
   "outputs": [],
   "source": []
  },
  {
   "cell_type": "code",
   "execution_count": null,
   "metadata": {},
   "outputs": [],
   "source": []
  }
 ],
 "metadata": {
  "kernelspec": {
   "display_name": "bnp_sensitivity_jax",
   "language": "python",
   "name": "bnp_sensitivity_jax"
  },
  "language_info": {
   "codemirror_mode": {
    "name": "ipython",
    "version": 3
   },
   "file_extension": ".py",
   "mimetype": "text/x-python",
   "name": "python",
   "nbconvert_exporter": "python",
   "pygments_lexer": "ipython3",
   "version": "3.8.0"
  }
 },
 "nbformat": 4,
 "nbformat_minor": 2
}
