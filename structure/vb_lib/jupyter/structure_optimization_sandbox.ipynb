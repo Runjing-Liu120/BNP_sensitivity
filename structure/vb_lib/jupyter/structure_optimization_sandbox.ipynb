{
 "cells": [
  {
   "cell_type": "code",
   "execution_count": 1,
   "metadata": {
    "collapsed": false
   },
   "outputs": [],
   "source": [
    "import autograd \n",
    "\n",
    "import autograd.numpy as np\n",
    "import autograd.scipy as sp\n",
    "from numpy.polynomial.hermite import hermgauss\n",
    "\n",
    "import sys\n",
    "sys.path.insert(0, '../')\n",
    "\n",
    "import structure_model_lib\n",
    "import data_utils\n",
    "import paragami\n",
    "\n",
    "import LinearResponseVariationalBayes.ExponentialFamilies as ef"
   ]
  },
  {
   "cell_type": "code",
   "execution_count": 2,
   "metadata": {
    "collapsed": false
   },
   "outputs": [],
   "source": [
    "from BNP_modeling import cluster_quantities_lib, modeling_lib\n",
    "import BNP_modeling.optimization_lib as opt_lib\n",
    "import cavi_lib\n",
    "\n",
    "from itertools import permutations\n",
    "\n",
    "import matplotlib.pyplot as plt\n",
    "%matplotlib inline  \n",
    "\n",
    "import vittles\n",
    "\n",
    "from copy import deepcopy"
   ]
  },
  {
   "cell_type": "code",
   "execution_count": 3,
   "metadata": {
    "collapsed": true
   },
   "outputs": [],
   "source": [
    "np.random.seed(53453)"
   ]
  },
  {
   "cell_type": "markdown",
   "metadata": {
    "collapsed": true
   },
   "source": [
    "# Draw data"
   ]
  },
  {
   "cell_type": "code",
   "execution_count": 4,
   "metadata": {
    "collapsed": false
   },
   "outputs": [],
   "source": [
    "n_obs = 40\n",
    "n_loci = 50\n",
    "n_pop = 4\n",
    "\n",
    "# population allele frequencies\n",
    "true_pop_allele_freq = np.random.random((n_loci, n_pop))\n",
    "\n",
    "# individual admixtures\n",
    "true_ind_admix_propn = np.random.dirichlet(np.ones(n_pop) / n_pop, size = (n_obs))"
   ]
  },
  {
   "cell_type": "code",
   "execution_count": 5,
   "metadata": {
    "collapsed": false,
    "scrolled": true
   },
   "outputs": [],
   "source": [
    "clustering_indx = data_utils.cluster_admix_get_indx(true_ind_admix_propn)\n",
    "true_ind_admix_propn = true_ind_admix_propn[clustering_indx, :]"
   ]
  },
  {
   "cell_type": "code",
   "execution_count": 6,
   "metadata": {
    "collapsed": false,
    "scrolled": true
   },
   "outputs": [
    {
     "data": {
      "text/plain": [
       "<matplotlib.image.AxesImage at 0x7f97777c4b70>"
      ]
     },
     "execution_count": 6,
     "metadata": {},
     "output_type": "execute_result"
    },
    {
     "data": {
      "image/png": "[encoded data removed]",
      "text/plain": [
       "<Figure size 1152x144 with 1 Axes>"
      ]
     },
     "metadata": {
      "needs_background": "light"
     },
     "output_type": "display_data"
    }
   ],
   "source": [
    "plt.matshow(true_ind_admix_propn.T)"
   ]
  },
  {
   "cell_type": "code",
   "execution_count": 7,
   "metadata": {
    "collapsed": false
   },
   "outputs": [],
   "source": [
    "g_obs = data_utils.draw_data(true_pop_allele_freq, true_ind_admix_propn)"
   ]
  },
  {
   "cell_type": "code",
   "execution_count": 8,
   "metadata": {
    "collapsed": false,
    "scrolled": true
   },
   "outputs": [
    {
     "data": {
      "text/plain": [
       "(40, 50, 3)"
      ]
     },
     "execution_count": 8,
     "metadata": {},
     "output_type": "execute_result"
    }
   ],
   "source": [
    "g_obs.shape"
   ]
  },
  {
   "cell_type": "markdown",
   "metadata": {},
   "source": [
    "# Get prior"
   ]
  },
  {
   "cell_type": "code",
   "execution_count": 9,
   "metadata": {
    "collapsed": false
   },
   "outputs": [
    {
     "name": "stdout",
     "output_type": "stream",
     "text": [
      "OrderedDict:\n",
      "\t[dp_prior_alpha] = NumericArrayPattern (1,) (lb=0.0, ub=inf)\n",
      "\t[allele_prior_alpha] = NumericArrayPattern (1,) (lb=0.0, ub=inf)\n",
      "\t[allele_prior_beta] = NumericArrayPattern (1,) (lb=0.0, ub=inf)\n"
     ]
    }
   ],
   "source": [
    "prior_params_dict, prior_params_paragami = \\\n",
    "    structure_model_lib.get_default_prior_params()\n",
    "\n",
    "print(prior_params_paragami)"
   ]
  },
  {
   "cell_type": "markdown",
   "metadata": {},
   "source": [
    "# Get VB params "
   ]
  },
  {
   "cell_type": "code",
   "execution_count": 10,
   "metadata": {
    "collapsed": true
   },
   "outputs": [],
   "source": [
    "use_logitnormal_sticks = False"
   ]
  },
  {
   "cell_type": "code",
   "execution_count": 11,
   "metadata": {
    "collapsed": true
   },
   "outputs": [],
   "source": [
    "k_approx = 12"
   ]
  },
  {
   "cell_type": "code",
   "execution_count": 12,
   "metadata": {
    "collapsed": true
   },
   "outputs": [],
   "source": [
    "gh_deg = 8\n",
    "gh_loc, gh_weights = hermgauss(8)"
   ]
  },
  {
   "cell_type": "code",
   "execution_count": 13,
   "metadata": {
    "collapsed": false,
    "scrolled": true
   },
   "outputs": [
    {
     "name": "stdout",
     "output_type": "stream",
     "text": [
      "OrderedDict:\n",
      "\t[pop_freq_beta_params] = NumericArrayPattern (50, 12, 2) (lb=0.0, ub=inf)\n",
      "\t[ind_mix_stick_beta_params] = NumericArrayPattern (40, 11, 2) (lb=0.0, ub=inf)\n"
     ]
    }
   ],
   "source": [
    "vb_params_dict, vb_params_paragami = \\\n",
    "    structure_model_lib.get_vb_params_paragami_object(n_obs, n_loci, k_approx, use_logitnormal_sticks)\n",
    "    \n",
    "print(vb_params_paragami)"
   ]
  },
  {
   "cell_type": "markdown",
   "metadata": {},
   "source": [
    "## Initialize "
   ]
  },
  {
   "cell_type": "code",
   "execution_count": 14,
   "metadata": {
    "collapsed": false
   },
   "outputs": [],
   "source": [
    "vb_params_dict = structure_model_lib.set_init_vb_params(g_obs, k_approx, vb_params_dict, \n",
    "                                                        use_logitnormal_sticks)"
   ]
  },
  {
   "cell_type": "code",
   "execution_count": 15,
   "metadata": {
    "collapsed": false
   },
   "outputs": [],
   "source": [
    "# take a look at init \n",
    "if use_logitnormal_sticks: \n",
    "    e_ind_admix = cluster_quantities_lib.get_e_cluster_probabilities(\n",
    "                        vb_params_dict['ind_mix_stick_propn_mean'], \n",
    "                        vb_params_dict['ind_mix_stick_propn_info'],\n",
    "                        gh_loc, gh_weights)\n",
    "\n",
    "else: \n",
    "    # take a look at init \n",
    "    ind_mix_stick_beta_params = vb_params_dict['ind_mix_stick_beta_params']\n",
    "    e_stick_lengths = \\\n",
    "            modeling_lib.get_e_beta(ind_mix_stick_beta_params)\n",
    "    e_ind_admix = cluster_quantities_lib.get_mixture_weights_from_stick_break_propns(e_stick_lengths)\n",
    "\n",
    "e_pop_freq = modeling_lib.get_e_beta(vb_params_dict['pop_freq_beta_params'])"
   ]
  },
  {
   "cell_type": "code",
   "execution_count": 16,
   "metadata": {
    "collapsed": true
   },
   "outputs": [],
   "source": [
    "if k_approx < 6: \n",
    "    # find minimizing permutation \n",
    "    # only feasible if k_approx is small, \n",
    "    # else my computer freezes\n",
    "    perm = data_utils.find_min_perm(e_pop_freq, true_pop_allele_freq, axis = 1)\n",
    "else: \n",
    "    perm = np.arange(k_approx)\n",
    "    \n",
    "e_pop_freq = e_pop_freq[:, perm]\n",
    "e_ind_admix = e_ind_admix[:, perm]"
   ]
  },
  {
   "cell_type": "code",
   "execution_count": 17,
   "metadata": {
    "collapsed": false
   },
   "outputs": [
    {
     "data": {
      "image/png": "[encoded data removed]",
      "text/plain": [
       "<Figure size 960x288 with 1 Axes>"
      ]
     },
     "metadata": {
      "needs_background": "light"
     },
     "output_type": "display_data"
    },
    {
     "data": {
      "image/png": "[encoded data removed]",
      "text/plain": [
       "<Figure size 1152x144 with 1 Axes>"
      ]
     },
     "metadata": {
      "needs_background": "light"
     },
     "output_type": "display_data"
    }
   ],
   "source": [
    "plt.matshow(e_ind_admix.T); \n",
    "plt.matshow(true_ind_admix_propn.T);"
   ]
  },
  {
   "cell_type": "code",
   "execution_count": null,
   "metadata": {
    "collapsed": true
   },
   "outputs": [],
   "source": []
  },
  {
   "cell_type": "markdown",
   "metadata": {},
   "source": [
    "# Run CAVI"
   ]
  },
  {
   "cell_type": "code",
   "execution_count": 18,
   "metadata": {
    "collapsed": false
   },
   "outputs": [],
   "source": [
    "e_log_sticks, e_log_1m_sticks, \\\n",
    "    e_log_pop_freq, e_log_1m_pop_freq = \\\n",
    "        structure_model_lib.get_moments_from_vb_params_dict(g_obs, vb_params_dict, use_logitnormal_sticks)"
   ]
  },
  {
   "cell_type": "code",
   "execution_count": 19,
   "metadata": {
    "collapsed": false,
    "scrolled": true
   },
   "outputs": [
    {
     "name": "stdout",
     "output_type": "stream",
     "text": [
      "iteration [0]; kl:5236.374799\n",
      "iteration [1]; kl:4250.381652\n",
      "iteration [2]; kl:4093.300575\n",
      "iteration [3]; kl:4041.217246\n",
      "iteration [4]; kl:4007.64126\n",
      "iteration [5]; kl:3980.540426\n",
      "iteration [6]; kl:3957.102266\n",
      "iteration [7]; kl:3936.173486\n",
      "iteration [8]; kl:3917.053787\n",
      "iteration [9]; kl:3899.245681\n",
      "iteration [10]; kl:3882.414804\n",
      "iteration [11]; kl:3866.359208\n",
      "iteration [12]; kl:3850.976535\n",
      "iteration [13]; kl:3836.242301\n",
      "iteration [14]; kl:3822.194346\n",
      "iteration [15]; kl:3808.911121\n",
      "iteration [16]; kl:3796.479271\n",
      "iteration [17]; kl:3784.953301\n",
      "iteration [18]; kl:3774.32465\n",
      "iteration [19]; kl:3764.526307\n",
      "iteration [20]; kl:3755.463875\n",
      "iteration [21]; kl:3747.035584\n",
      "iteration [22]; kl:3739.138097\n",
      "iteration [23]; kl:3731.676191\n",
      "iteration [24]; kl:3724.577592\n",
      "iteration [25]; kl:3717.807548\n",
      "iteration [26]; kl:3711.371652\n",
      "iteration [27]; kl:3705.293101\n",
      "iteration [28]; kl:3699.572468\n",
      "iteration [29]; kl:3694.163697\n",
      "iteration [30]; kl:3688.985868\n",
      "iteration [31]; kl:3683.948682\n",
      "iteration [32]; kl:3678.967062\n",
      "iteration [33]; kl:3673.968365\n",
      "iteration [34]; kl:3668.899617\n",
      "iteration [35]; kl:3663.734133\n",
      "iteration [36]; kl:3658.479357\n",
      "iteration [37]; kl:3653.190636\n",
      "iteration [38]; kl:3647.986908\n",
      "iteration [39]; kl:3643.049156\n",
      "iteration [40]; kl:3638.577169\n",
      "iteration [41]; kl:3634.70668\n",
      "iteration [42]; kl:3631.448054\n",
      "iteration [43]; kl:3628.71916\n",
      "iteration [44]; kl:3626.433995\n",
      "iteration [45]; kl:3624.540666\n",
      "iteration [46]; kl:3622.997448\n",
      "iteration [47]; kl:3621.744864\n",
      "iteration [48]; kl:3620.704513\n",
      "iteration [49]; kl:3619.796212\n",
      "iteration [50]; kl:3618.954369\n",
      "iteration [51]; kl:3618.133074\n",
      "iteration [52]; kl:3617.301433\n",
      "iteration [53]; kl:3616.436439\n",
      "iteration [54]; kl:3615.517916\n",
      "iteration [55]; kl:3614.525945\n",
      "iteration [56]; kl:3613.439931\n",
      "iteration [57]; kl:3612.238801\n",
      "iteration [58]; kl:3610.902254\n",
      "iteration [59]; kl:3609.413239\n",
      "iteration [60]; kl:3607.761849\n",
      "iteration [61]; kl:3605.950516\n",
      "iteration [62]; kl:3603.9996\n",
      "iteration [63]; kl:3601.950829\n",
      "iteration [64]; kl:3599.863542\n",
      "iteration [65]; kl:3597.797847\n",
      "iteration [66]; kl:3595.787949\n",
      "iteration [67]; kl:3593.832689\n",
      "iteration [68]; kl:3591.932814\n",
      "iteration [69]; kl:3590.141691\n",
      "iteration [70]; kl:3588.562289\n",
      "iteration [71]; kl:3587.290741\n",
      "iteration [72]; kl:3586.356027\n",
      "iteration [73]; kl:3585.699019\n",
      "iteration [74]; kl:3585.209634\n",
      "iteration [75]; kl:3584.789949\n",
      "iteration [76]; kl:3584.382026\n",
      "iteration [77]; kl:3583.956915\n",
      "iteration [78]; kl:3583.499248\n",
      "iteration [79]; kl:3582.999712\n",
      "iteration [80]; kl:3582.452764\n",
      "iteration [81]; kl:3581.856779\n",
      "iteration [82]; kl:3581.215393\n",
      "iteration [83]; kl:3580.539285\n",
      "iteration [84]; kl:3579.847452\n",
      "iteration [85]; kl:3579.166794\n",
      "iteration [86]; kl:3578.528945\n",
      "iteration [87]; kl:3577.964253\n",
      "iteration [88]; kl:3577.494487\n",
      "iteration [89]; kl:3577.127167\n",
      "iteration [90]; kl:3576.85429\n",
      "iteration [91]; kl:3576.656416\n",
      "iteration [92]; kl:3576.510204\n",
      "iteration [93]; kl:3576.395367\n",
      "iteration [94]; kl:3576.297891\n",
      "iteration [95]; kl:3576.209611\n",
      "iteration [96]; kl:3576.126248\n",
      "iteration [97]; kl:3576.045652\n",
      "iteration [98]; kl:3575.966711\n",
      "iteration [99]; kl:3575.888799\n",
      "iteration [100]; kl:3575.811522\n",
      "iteration [101]; kl:3575.734592\n",
      "iteration [102]; kl:3575.657781\n",
      "iteration [103]; kl:3575.58089\n",
      "iteration [104]; kl:3575.503741\n",
      "iteration [105]; kl:3575.426163\n",
      "iteration [106]; kl:3575.347995\n",
      "iteration [107]; kl:3575.269085\n",
      "iteration [108]; kl:3575.189283\n",
      "iteration [109]; kl:3575.10845\n",
      "iteration [110]; kl:3575.026453\n",
      "iteration [111]; kl:3574.943169\n",
      "iteration [112]; kl:3574.858486\n",
      "iteration [113]; kl:3574.772308\n",
      "iteration [114]; kl:3574.684553\n",
      "iteration [115]; kl:3574.595162\n",
      "iteration [116]; kl:3574.504098\n",
      "iteration [117]; kl:3574.411354\n",
      "iteration [118]; kl:3574.316955\n",
      "iteration [119]; kl:3574.220961\n",
      "iteration [120]; kl:3574.123476\n",
      "iteration [121]; kl:3574.024645\n",
      "iteration [122]; kl:3573.924658\n",
      "iteration [123]; kl:3573.82375\n",
      "iteration [124]; kl:3573.722197\n",
      "iteration [125]; kl:3573.620311\n",
      "iteration [126]; kl:3573.518424\n",
      "iteration [127]; kl:3573.416881\n",
      "iteration [128]; kl:3573.316015\n",
      "iteration [129]; kl:3573.21613\n",
      "iteration [130]; kl:3573.117476\n",
      "iteration [131]; kl:3573.020234\n",
      "iteration [132]; kl:3572.924496\n",
      "iteration [133]; kl:3572.830259\n",
      "iteration [134]; kl:3572.737429\n",
      "iteration [135]; kl:3572.645827\n",
      "iteration [136]; kl:3572.555213\n",
      "iteration [137]; kl:3572.465304\n",
      "iteration [138]; kl:3572.37581\n",
      "iteration [139]; kl:3572.286449\n",
      "iteration [140]; kl:3572.196977\n",
      "iteration [141]; kl:3572.107199\n",
      "iteration [142]; kl:3572.016982\n",
      "iteration [143]; kl:3571.926259\n",
      "iteration [144]; kl:3571.835034\n",
      "iteration [145]; kl:3571.743381\n",
      "iteration [146]; kl:3571.65144\n",
      "iteration [147]; kl:3571.559416\n",
      "iteration [148]; kl:3571.467571\n",
      "iteration [149]; kl:3571.376217\n",
      "iteration [150]; kl:3571.285709\n",
      "iteration [151]; kl:3571.196428\n",
      "iteration [152]; kl:3571.108765\n",
      "iteration [153]; kl:3571.023104\n",
      "iteration [154]; kl:3570.939797\n",
      "iteration [155]; kl:3570.859144\n",
      "iteration [156]; kl:3570.781367\n",
      "iteration [157]; kl:3570.706597\n",
      "iteration [158]; kl:3570.634861\n",
      "iteration [159]; kl:3570.566078\n",
      "iteration [160]; kl:3570.500071\n",
      "iteration [161]; kl:3570.436577\n",
      "iteration [162]; kl:3570.375272\n",
      "iteration [163]; kl:3570.315797\n",
      "iteration [164]; kl:3570.257779\n",
      "iteration [165]; kl:3570.200857\n",
      "iteration [166]; kl:3570.144695\n",
      "iteration [167]; kl:3570.08899\n",
      "iteration [168]; kl:3570.033481\n",
      "iteration [169]; kl:3569.977943\n",
      "iteration [170]; kl:3569.92219\n",
      "iteration [171]; kl:3569.866065\n",
      "iteration [172]; kl:3569.809437\n",
      "iteration [173]; kl:3569.752197\n",
      "iteration [174]; kl:3569.69425\n",
      "iteration [175]; kl:3569.635513\n",
      "iteration [176]; kl:3569.575914\n",
      "iteration [177]; kl:3569.515384\n",
      "iteration [178]; kl:3569.45386\n",
      "iteration [179]; kl:3569.391283\n",
      "iteration [180]; kl:3569.327593\n",
      "iteration [181]; kl:3569.262734\n",
      "iteration [182]; kl:3569.196648\n",
      "iteration [183]; kl:3569.129281\n",
      "iteration [184]; kl:3569.060575\n",
      "iteration [185]; kl:3568.990474\n",
      "iteration [186]; kl:3568.918922\n",
      "iteration [187]; kl:3568.845864\n",
      "iteration [188]; kl:3568.771242\n",
      "iteration [189]; kl:3568.695001\n",
      "iteration [190]; kl:3568.617085\n",
      "iteration [191]; kl:3568.537439\n",
      "iteration [192]; kl:3568.456008\n",
      "iteration [193]; kl:3568.372739\n",
      "iteration [194]; kl:3568.287578\n",
      "iteration [195]; kl:3568.200475\n",
      "iteration [196]; kl:3568.111379\n",
      "iteration [197]; kl:3568.020242\n",
      "iteration [198]; kl:3567.927016\n",
      "iteration [199]; kl:3567.831656\n",
      "iteration [200]; kl:3567.734116\n",
      "iteration [201]; kl:3567.634356\n",
      "iteration [202]; kl:3567.532332\n",
      "iteration [203]; kl:3567.428003\n",
      "iteration [204]; kl:3567.321328\n",
      "iteration [205]; kl:3567.212266\n",
      "iteration [206]; kl:3567.100774\n",
      "iteration [207]; kl:3566.986808\n",
      "iteration [208]; kl:3566.870321\n",
      "iteration [209]; kl:3566.751262\n",
      "iteration [210]; kl:3566.629577\n",
      "iteration [211]; kl:3566.505206\n",
      "iteration [212]; kl:3566.378083\n",
      "iteration [213]; kl:3566.248136\n",
      "iteration [214]; kl:3566.115288\n",
      "iteration [215]; kl:3565.979452\n",
      "iteration [216]; kl:3565.840535\n",
      "iteration [217]; kl:3565.698436\n",
      "iteration [218]; kl:3565.553045\n",
      "iteration [219]; kl:3565.404243\n",
      "iteration [220]; kl:3565.251901\n",
      "iteration [221]; kl:3565.095878\n",
      "iteration [222]; kl:3564.936017\n",
      "iteration [223]; kl:3564.772146\n",
      "iteration [224]; kl:3564.604072\n",
      "iteration [225]; kl:3564.431578\n",
      "iteration [226]; kl:3564.254419\n",
      "iteration [227]; kl:3564.072317\n",
      "iteration [228]; kl:3563.884958\n",
      "iteration [229]; kl:3563.691989\n",
      "iteration [230]; kl:3563.493016\n",
      "iteration [231]; kl:3563.287604\n",
      "iteration [232]; kl:3563.075283\n",
      "iteration [233]; kl:3562.855551\n",
      "iteration [234]; kl:3562.627886\n",
      "iteration [235]; kl:3562.391763\n",
      "iteration [236]; kl:3562.146675\n",
      "iteration [237]; kl:3561.892157\n",
      "iteration [238]; kl:3561.627821\n",
      "iteration [239]; kl:3561.353396\n",
      "iteration [240]; kl:3561.068768\n",
      "iteration [241]; kl:3560.774031\n",
      "iteration [242]; kl:3560.469532\n",
      "iteration [243]; kl:3560.15592\n",
      "iteration [244]; kl:3559.834176\n",
      "iteration [245]; kl:3559.505634\n",
      "iteration [246]; kl:3559.171965\n",
      "iteration [247]; kl:3558.835125\n",
      "iteration [248]; kl:3558.49725\n",
      "iteration [249]; kl:3558.160501\n",
      "iteration [250]; kl:3557.826845\n",
      "iteration [251]; kl:3557.497826\n",
      "iteration [252]; kl:3557.174325\n",
      "iteration [253]; kl:3556.856399\n",
      "iteration [254]; kl:3556.54322\n",
      "iteration [255]; kl:3556.233169\n",
      "iteration [256]; kl:3555.924058\n",
      "iteration [257]; kl:3555.613442\n",
      "iteration [258]; kl:3555.298913\n",
      "iteration [259]; kl:3554.978333\n",
      "iteration [260]; kl:3554.64995\n",
      "iteration [261]; kl:3554.312406\n",
      "iteration [262]; kl:3553.964683\n",
      "iteration [263]; kl:3553.605999\n",
      "iteration [264]; kl:3553.235705\n",
      "iteration [265]; kl:3552.853176\n",
      "iteration [266]; kl:3552.457714\n",
      "iteration [267]; kl:3552.048463\n",
      "iteration [268]; kl:3551.624345\n",
      "iteration [269]; kl:3551.184027\n",
      "iteration [270]; kl:3550.725943\n",
      "iteration [271]; kl:3550.248366\n",
      "iteration [272]; kl:3549.74957\n",
      "iteration [273]; kl:3549.228075\n",
      "iteration [274]; kl:3548.682986\n",
      "iteration [275]; kl:3548.114433\n",
      "iteration [276]; kl:3547.524083\n",
      "iteration [277]; kl:3546.915682\n",
      "iteration [278]; kl:3546.295513\n",
      "iteration [279]; kl:3545.672593\n",
      "iteration [280]; kl:3545.058384\n",
      "iteration [281]; kl:3544.465787\n",
      "iteration [282]; kl:3543.907407\n",
      "iteration [283]; kl:3543.393356\n",
      "iteration [284]; kl:3542.929233\n",
      "iteration [285]; kl:3542.515052\n",
      "iteration [286]; kl:3542.145599\n",
      "iteration [287]; kl:3541.812143\n",
      "iteration [288]; kl:3541.504793\n",
      "iteration [289]; kl:3541.214578\n",
      "iteration [290]; kl:3540.934598\n",
      "iteration [291]; kl:3540.660215\n",
      "iteration [292]; kl:3540.38863\n",
      "iteration [293]; kl:3540.118296\n",
      "iteration [294]; kl:3539.848424\n",
      "iteration [295]; kl:3539.578642\n",
      "iteration [296]; kl:3539.308797\n",
      "iteration [297]; kl:3539.038851\n",
      "iteration [298]; kl:3538.768822\n",
      "iteration [299]; kl:3538.498759\n",
      "iteration [300]; kl:3538.228725\n",
      "iteration [301]; kl:3537.958792\n",
      "iteration [302]; kl:3537.689038\n",
      "iteration [303]; kl:3537.419541\n",
      "iteration [304]; kl:3537.15038\n",
      "iteration [305]; kl:3536.881635\n",
      "iteration [306]; kl:3536.613384\n",
      "iteration [307]; kl:3536.345703\n",
      "iteration [308]; kl:3536.078669\n",
      "iteration [309]; kl:3535.812357\n",
      "iteration [310]; kl:3535.546839\n",
      "iteration [311]; kl:3535.28219\n",
      "iteration [312]; kl:3535.018481\n",
      "iteration [313]; kl:3534.755786\n",
      "iteration [314]; kl:3534.494181\n",
      "iteration [315]; kl:3534.233743\n",
      "iteration [316]; kl:3533.974553\n",
      "iteration [317]; kl:3533.716694\n",
      "iteration [318]; kl:3533.460258\n",
      "iteration [319]; kl:3533.205339\n",
      "iteration [320]; kl:3532.952041\n",
      "iteration [321]; kl:3532.700472\n",
      "iteration [322]; kl:3532.450749\n",
      "iteration [323]; kl:3532.202994\n",
      "iteration [324]; kl:3531.957334\n",
      "iteration [325]; kl:3531.713898\n",
      "iteration [326]; kl:3531.472819\n",
      "iteration [327]; kl:3531.234224\n",
      "iteration [328]; kl:3530.998238\n",
      "iteration [329]; kl:3530.764978\n",
      "iteration [330]; kl:3530.534548\n",
      "iteration [331]; kl:3530.307042\n",
      "iteration [332]; kl:3530.082541\n",
      "iteration [333]; kl:3529.861112\n",
      "iteration [334]; kl:3529.642815\n",
      "iteration [335]; kl:3529.427702\n",
      "iteration [336]; kl:3529.215822\n",
      "iteration [337]; kl:3529.007233\n",
      "iteration [338]; kl:3528.802001\n",
      "iteration [339]; kl:3528.600213\n",
      "iteration [340]; kl:3528.401976\n",
      "iteration [341]; kl:3528.207428\n",
      "iteration [342]; kl:3528.016732\n",
      "iteration [343]; kl:3527.830078\n",
      "iteration [344]; kl:3527.647678\n",
      "iteration [345]; kl:3527.469751\n",
      "iteration [346]; kl:3527.296514\n",
      "iteration [347]; kl:3527.128163\n",
      "iteration [348]; kl:3526.964861\n",
      "iteration [349]; kl:3526.806713\n",
      "iteration [350]; kl:3526.653763\n",
      "iteration [351]; kl:3526.505977\n",
      "iteration [352]; kl:3526.363252\n",
      "iteration [353]; kl:3526.225411\n",
      "iteration [354]; kl:3526.092223\n",
      "iteration [355]; kl:3525.963418\n",
      "iteration [356]; kl:3525.838703\n",
      "iteration [357]; kl:3525.717781\n",
      "iteration [358]; kl:3525.600363\n",
      "iteration [359]; kl:3525.486185\n",
      "iteration [360]; kl:3525.375007\n",
      "iteration [361]; kl:3525.266619\n",
      "iteration [362]; kl:3525.160839\n",
      "iteration [363]; kl:3525.057514\n",
      "iteration [364]; kl:3524.95651\n",
      "iteration [365]; kl:3524.857713\n",
      "iteration [366]; kl:3524.761024\n",
      "iteration [367]; kl:3524.666354\n",
      "iteration [368]; kl:3524.573625\n",
      "iteration [369]; kl:3524.482762\n",
      "iteration [370]; kl:3524.393697\n",
      "iteration [371]; kl:3524.306364\n",
      "iteration [372]; kl:3524.220702\n",
      "iteration [373]; kl:3524.13665\n",
      "iteration [374]; kl:3524.054148\n",
      "iteration [375]; kl:3523.973138\n",
      "iteration [376]; kl:3523.893565\n",
      "iteration [377]; kl:3523.815374\n",
      "iteration [378]; kl:3523.738509\n",
      "iteration [379]; kl:3523.662918\n",
      "iteration [380]; kl:3523.588549\n",
      "iteration [381]; kl:3523.515352\n",
      "iteration [382]; kl:3523.443277\n",
      "iteration [383]; kl:3523.372276\n",
      "iteration [384]; kl:3523.302302\n",
      "iteration [385]; kl:3523.233312\n",
      "iteration [386]; kl:3523.16526\n",
      "iteration [387]; kl:3523.098104\n",
      "iteration [388]; kl:3523.031805\n",
      "iteration [389]; kl:3522.966322\n",
      "iteration [390]; kl:3522.901619\n",
      "iteration [391]; kl:3522.83766\n",
      "iteration [392]; kl:3522.774409\n",
      "iteration [393]; kl:3522.711836\n",
      "iteration [394]; kl:3522.649909\n",
      "iteration [395]; kl:3522.588598\n",
      "iteration [396]; kl:3522.527878\n",
      "iteration [397]; kl:3522.467722\n",
      "iteration [398]; kl:3522.408106\n",
      "iteration [399]; kl:3522.349009\n",
      "iteration [400]; kl:3522.29041\n",
      "iteration [401]; kl:3522.232291\n",
      "iteration [402]; kl:3522.174635\n",
      "iteration [403]; kl:3522.117429\n",
      "iteration [404]; kl:3522.060658\n",
      "iteration [405]; kl:3522.004311\n",
      "iteration [406]; kl:3521.94838\n",
      "iteration [407]; kl:3521.892856\n",
      "iteration [408]; kl:3521.837733\n",
      "iteration [409]; kl:3521.783008\n",
      "iteration [410]; kl:3521.728677\n",
      "iteration [411]; kl:3521.67474\n",
      "iteration [412]; kl:3521.621195\n",
      "iteration [413]; kl:3521.568045\n",
      "iteration [414]; kl:3521.515293\n",
      "iteration [415]; kl:3521.462941\n",
      "iteration [416]; kl:3521.410996\n",
      "iteration [417]; kl:3521.359461\n",
      "iteration [418]; kl:3521.308344\n",
      "iteration [419]; kl:3521.257651\n",
      "iteration [420]; kl:3521.207388\n",
      "iteration [421]; kl:3521.157564\n",
      "iteration [422]; kl:3521.108184\n",
      "iteration [423]; kl:3521.059255\n",
      "iteration [424]; kl:3521.010784\n",
      "iteration [425]; kl:3520.962777\n",
      "iteration [426]; kl:3520.915237\n",
      "iteration [427]; kl:3520.868169\n",
      "iteration [428]; kl:3520.821574\n",
      "iteration [429]; kl:3520.775455\n",
      "iteration [430]; kl:3520.729809\n",
      "iteration [431]; kl:3520.684635\n",
      "iteration [432]; kl:3520.639928\n",
      "iteration [433]; kl:3520.595682\n",
      "iteration [434]; kl:3520.551887\n",
      "iteration [435]; kl:3520.508532\n",
      "iteration [436]; kl:3520.465603\n",
      "iteration [437]; kl:3520.423085\n",
      "iteration [438]; kl:3520.38096\n",
      "iteration [439]; kl:3520.339205\n",
      "iteration [440]; kl:3520.297799\n",
      "iteration [441]; kl:3520.256716\n",
      "iteration [442]; kl:3520.215928\n",
      "iteration [443]; kl:3520.175406\n",
      "iteration [444]; kl:3520.135121\n",
      "iteration [445]; kl:3520.095038\n",
      "iteration [446]; kl:3520.055126\n",
      "iteration [447]; kl:3520.01535\n",
      "iteration [448]; kl:3519.975674\n",
      "iteration [449]; kl:3519.936064\n",
      "iteration [450]; kl:3519.896483\n",
      "iteration [451]; kl:3519.856895\n",
      "iteration [452]; kl:3519.817264\n",
      "iteration [453]; kl:3519.777555\n",
      "iteration [454]; kl:3519.737731\n",
      "iteration [455]; kl:3519.697758\n",
      "iteration [456]; kl:3519.6576\n",
      "iteration [457]; kl:3519.617223\n",
      "iteration [458]; kl:3519.576592\n",
      "iteration [459]; kl:3519.535674\n",
      "iteration [460]; kl:3519.494435\n",
      "iteration [461]; kl:3519.452842\n",
      "iteration [462]; kl:3519.410862\n",
      "iteration [463]; kl:3519.368462\n",
      "iteration [464]; kl:3519.32561\n",
      "iteration [465]; kl:3519.282273\n",
      "iteration [466]; kl:3519.238419\n",
      "iteration [467]; kl:3519.194017\n",
      "iteration [468]; kl:3519.149033\n",
      "iteration [469]; kl:3519.103437\n",
      "iteration [470]; kl:3519.057196\n",
      "iteration [471]; kl:3519.010278\n",
      "iteration [472]; kl:3518.962653\n",
      "iteration [473]; kl:3518.91429\n",
      "iteration [474]; kl:3518.865157\n",
      "iteration [475]; kl:3518.815225\n",
      "iteration [476]; kl:3518.764465\n",
      "iteration [477]; kl:3518.71285\n",
      "iteration [478]; kl:3518.660352\n",
      "iteration [479]; kl:3518.606948\n",
      "iteration [480]; kl:3518.552615\n",
      "iteration [481]; kl:3518.497335\n",
      "iteration [482]; kl:3518.441091\n",
      "iteration [483]; kl:3518.383874\n",
      "iteration [484]; kl:3518.325678\n",
      "iteration [485]; kl:3518.266502\n",
      "iteration [486]; kl:3518.206355\n",
      "iteration [487]; kl:3518.145255\n",
      "iteration [488]; kl:3518.083227\n",
      "iteration [489]; kl:3518.020311\n",
      "iteration [490]; kl:3517.95656\n",
      "iteration [491]; kl:3517.89204\n",
      "iteration [492]; kl:3517.826836\n",
      "iteration [493]; kl:3517.761053\n",
      "iteration [494]; kl:3517.694815\n",
      "iteration [495]; kl:3517.628267\n",
      "iteration [496]; kl:3517.561581\n",
      "iteration [497]; kl:3517.494948\n",
      "iteration [498]; kl:3517.428583\n",
      "iteration [499]; kl:3517.362722\n",
      "iteration [500]; kl:3517.297617\n",
      "iteration [501]; kl:3517.233529\n",
      "iteration [502]; kl:3517.170723\n",
      "iteration [503]; kl:3517.109457\n",
      "iteration [504]; kl:3517.049971\n",
      "iteration [505]; kl:3516.992474\n",
      "iteration [506]; kl:3516.937133\n",
      "iteration [507]; kl:3516.884063\n",
      "iteration [508]; kl:3516.83332\n",
      "iteration [509]; kl:3516.784898\n",
      "iteration [510]; kl:3516.738728\n",
      "iteration [511]; kl:3516.694688\n",
      "iteration [512]; kl:3516.65261\n",
      "iteration [513]; kl:3516.612294\n",
      "iteration [514]; kl:3516.573518\n",
      "iteration [515]; kl:3516.536054\n",
      "iteration [516]; kl:3516.499674\n",
      "iteration [517]; kl:3516.464164\n",
      "iteration [518]; kl:3516.429322\n",
      "iteration [519]; kl:3516.394967\n",
      "iteration [520]; kl:3516.360936\n",
      "iteration [521]; kl:3516.327083\n",
      "iteration [522]; kl:3516.293282\n",
      "iteration [523]; kl:3516.259419\n",
      "iteration [524]; kl:3516.225392\n",
      "iteration [525]; kl:3516.191112\n",
      "iteration [526]; kl:3516.156496\n",
      "iteration [527]; kl:3516.121468\n",
      "iteration [528]; kl:3516.085956\n",
      "iteration [529]; kl:3516.049892\n",
      "iteration [530]; kl:3516.013212\n",
      "iteration [531]; kl:3515.975849\n",
      "iteration [532]; kl:3515.937742\n",
      "iteration [533]; kl:3515.898825\n",
      "iteration [534]; kl:3515.859036\n",
      "iteration [535]; kl:3515.818308\n",
      "iteration [536]; kl:3515.776576\n",
      "iteration [537]; kl:3515.733774\n",
      "iteration [538]; kl:3515.689834\n",
      "iteration [539]; kl:3515.644688\n",
      "iteration [540]; kl:3515.598267\n",
      "iteration [541]; kl:3515.550504\n",
      "iteration [542]; kl:3515.501335\n",
      "iteration [543]; kl:3515.450695\n",
      "iteration [544]; kl:3515.398526\n",
      "iteration [545]; kl:3515.344777\n",
      "iteration [546]; kl:3515.289403\n",
      "iteration [547]; kl:3515.23237\n",
      "iteration [548]; kl:3515.173655\n",
      "iteration [549]; kl:3515.11325\n",
      "iteration [550]; kl:3515.051161\n",
      "iteration [551]; kl:3514.98741\n",
      "iteration [552]; kl:3514.922033\n",
      "iteration [553]; kl:3514.855081\n",
      "iteration [554]; kl:3514.78661\n",
      "iteration [555]; kl:3514.716679\n",
      "iteration [556]; kl:3514.645342\n",
      "iteration [557]; kl:3514.572631\n",
      "iteration [558]; kl:3514.498551\n",
      "iteration [559]; kl:3514.423061\n",
      "iteration [560]; kl:3514.346065\n",
      "iteration [561]; kl:3514.267402\n",
      "iteration [562]; kl:3514.186841\n",
      "iteration [563]; kl:3514.104082\n",
      "iteration [564]; kl:3514.018763\n",
      "iteration [565]; kl:3513.930476\n",
      "iteration [566]; kl:3513.838791\n",
      "iteration [567]; kl:3513.743285\n",
      "iteration [568]; kl:3513.643574\n",
      "iteration [569]; kl:3513.539359\n",
      "iteration [570]; kl:3513.430471\n",
      "iteration [571]; kl:3513.316928\n",
      "iteration [572]; kl:3513.198993\n",
      "iteration [573]; kl:3513.077239\n",
      "iteration [574]; kl:3512.952621\n",
      "iteration [575]; kl:3512.826525\n",
      "iteration [576]; kl:3512.700806\n",
      "iteration [577]; kl:3512.577763\n",
      "iteration [578]; kl:3512.460048\n",
      "iteration [579]; kl:3512.350462\n",
      "iteration [580]; kl:3512.251644\n",
      "iteration [581]; kl:3512.165692\n",
      "iteration [582]; kl:3512.093795\n",
      "iteration [583]; kl:3512.036007\n",
      "iteration [584]; kl:3511.991274\n",
      "iteration [585]; kl:3511.957706\n",
      "iteration [586]; kl:3511.933024\n",
      "iteration [587]; kl:3511.914986\n",
      "iteration [588]; kl:3511.901677\n",
      "iteration [589]; kl:3511.89163\n",
      "iteration [590]; kl:3511.883801\n",
      "done. Termination after 590 steps in 16.56 seconds\n"
     ]
    }
   ],
   "source": [
    "e_z, stick_beta_params, pop_beta_params = \\\n",
    "    cavi_lib.run_cavi(g_obs, e_log_pop_freq, e_log_1m_pop_freq,\n",
    "                e_log_sticks, e_log_1m_sticks,\n",
    "                prior_params_dict, \n",
    "                max_iter = 2000, f_tol = 1e-2)"
   ]
  },
  {
   "cell_type": "code",
   "execution_count": 20,
   "metadata": {
    "collapsed": true
   },
   "outputs": [],
   "source": [
    "# check results after CAVI steps"
   ]
  },
  {
   "cell_type": "code",
   "execution_count": 21,
   "metadata": {
    "collapsed": false
   },
   "outputs": [],
   "source": [
    "if use_logitnormal_sticks: \n",
    "    # convert beta params to logitnormal\n",
    "    raise NotImplementedError()\n",
    "else: \n",
    "    vb_params_dict['pop_freq_beta_params'] = pop_beta_params\n",
    "    vb_params_dict['ind_mix_stick_beta_params'] = stick_beta_params"
   ]
  },
  {
   "cell_type": "code",
   "execution_count": 22,
   "metadata": {
    "collapsed": false
   },
   "outputs": [],
   "source": [
    "e_pop_allele_freq = modeling_lib.get_e_beta(pop_beta_params)"
   ]
  },
  {
   "cell_type": "code",
   "execution_count": 23,
   "metadata": {
    "collapsed": false
   },
   "outputs": [],
   "source": [
    "if k_approx < 6: \n",
    "    perm_best = data_utils.find_min_perm(e_pop_allele_freq, true_pop_allele_freq, axis = 1)\n",
    "else: \n",
    "    perm_best = perm"
   ]
  },
  {
   "cell_type": "code",
   "execution_count": 24,
   "metadata": {
    "collapsed": true
   },
   "outputs": [],
   "source": [
    "ind_mix_stick_beta_params = vb_params_dict['ind_mix_stick_beta_params']\n",
    "e_stick_lengths = \\\n",
    "        modeling_lib.get_e_beta(ind_mix_stick_beta_params)\n",
    "e_ind_admix = cluster_quantities_lib.get_mixture_weights_from_stick_break_propns(e_stick_lengths)[:, perm_best]"
   ]
  },
  {
   "cell_type": "code",
   "execution_count": 25,
   "metadata": {
    "collapsed": false
   },
   "outputs": [
    {
     "data": {
      "image/png": "[encoded data removed]",
      "text/plain": [
       "<Figure size 960x288 with 1 Axes>"
      ]
     },
     "metadata": {
      "needs_background": "light"
     },
     "output_type": "display_data"
    },
    {
     "data": {
      "image/png": "[encoded data removed]",
      "text/plain": [
       "<Figure size 1152x144 with 1 Axes>"
      ]
     },
     "metadata": {
      "needs_background": "light"
     },
     "output_type": "display_data"
    }
   ],
   "source": [
    "plt.matshow(e_ind_admix.T); \n",
    "plt.matshow(true_ind_admix_propn.T);"
   ]
  },
  {
   "cell_type": "code",
   "execution_count": 26,
   "metadata": {
    "collapsed": true
   },
   "outputs": [],
   "source": [
    "vb_params_dict_cavi = deepcopy(vb_params_dict)"
   ]
  },
  {
   "cell_type": "markdown",
   "metadata": {
    "collapsed": true
   },
   "source": [
    "# run a few Netwon steps"
   ]
  },
  {
   "cell_type": "code",
   "execution_count": 27,
   "metadata": {
    "collapsed": true
   },
   "outputs": [],
   "source": [
    "# get loss as a function of vb parameters\n",
    "get_free_vb_params_loss = paragami.FlattenFunctionInput(\n",
    "                                original_fun=structure_model_lib.get_kl, \n",
    "                                patterns = vb_params_paragami,\n",
    "                                free = True,\n",
    "                                argnums = 1)\n",
    "\n",
    "get_free_vb_params_loss_cached = \\\n",
    "    lambda x : get_free_vb_params_loss(g_obs, x, prior_params_dict, gh_loc, gh_weights, \n",
    "                                       use_logitnormal_sticks)"
   ]
  },
  {
   "cell_type": "code",
   "execution_count": 28,
   "metadata": {
    "collapsed": true
   },
   "outputs": [],
   "source": [
    "init_vb_free_params = vb_params_paragami.flatten(vb_params_dict_cavi, free = True)"
   ]
  },
  {
   "cell_type": "code",
   "execution_count": 29,
   "metadata": {
    "collapsed": false
   },
   "outputs": [
    {
     "data": {
      "text/plain": [
       "3511.880490127629"
      ]
     },
     "execution_count": 29,
     "metadata": {},
     "output_type": "execute_result"
    }
   ],
   "source": [
    "get_free_vb_params_loss_cached(init_vb_free_params)"
   ]
  },
  {
   "cell_type": "code",
   "execution_count": 30,
   "metadata": {
    "collapsed": false
   },
   "outputs": [
    {
     "name": "stdout",
     "output_type": "stream",
     "text": [
      "\n",
      " running preconditioned newton; iter =  0\n",
      "computing preconditioner \n",
      "preconditioning time: 95.74\n",
      "running newton steps\n",
      "Iter 0: f = 3511.88049013\n",
      "Iter 1: f = 3511.79305136\n",
      "Iter 2: f = 3511.78806107\n",
      "Iter 3: f = 3511.78802026\n",
      "Iter 4: f = 3511.78802022\n",
      "Iter 5: f = 3511.78802022\n",
      "Optimization terminated successfully.\n",
      "         Current function value: 3511.788020\n",
      "         Iterations: 5\n",
      "         Function evaluations: 6\n",
      "         Gradient evaluations: 6\n",
      "         Hessian evaluations: 0\n",
      "Iter 0: x_diff = 15.121666259943513, f_diff = 0.09246990920291864, grad_l1 = 1.2989022614616402e-08\n",
      "done. \n"
     ]
    }
   ],
   "source": [
    "vb_opt_free_params = opt_lib.optimize_full(get_free_vb_params_loss_cached, init_vb_free_params,\n",
    "                    bfgs_max_iter = 0, netwon_max_iter = 50,\n",
    "                    max_precondition_iter = 10,\n",
    "                    gtol=1e-8, ftol=1e-8, xtol=1e-8,\n",
    "                    init_hessian = None)"
   ]
  },
  {
   "cell_type": "code",
   "execution_count": 34,
   "metadata": {
    "collapsed": false
   },
   "outputs": [],
   "source": [
    "vb_params_dict_newton = vb_params_paragami.fold(vb_opt_free_params, free = True)"
   ]
  },
  {
   "cell_type": "code",
   "execution_count": 40,
   "metadata": {
    "collapsed": false
   },
   "outputs": [],
   "source": [
    "e_pop_allele_freq = modeling_lib.get_e_beta(vb_params_dict_newton['pop_freq_beta_params'])"
   ]
  },
  {
   "cell_type": "code",
   "execution_count": 41,
   "metadata": {
    "collapsed": false
   },
   "outputs": [],
   "source": [
    "if k_approx < 6: \n",
    "    perm_best = data_utils.find_min_perm(e_pop_allele_freq, true_pop_allele_freq, axis = 1)\n",
    "else: \n",
    "    perm_best = perm"
   ]
  },
  {
   "cell_type": "code",
   "execution_count": 42,
   "metadata": {
    "collapsed": true
   },
   "outputs": [],
   "source": [
    "ind_mix_stick_beta_params = vb_params_dict_newton['ind_mix_stick_beta_params']\n",
    "e_stick_lengths = \\\n",
    "        modeling_lib.get_e_beta(ind_mix_stick_beta_params)\n",
    "e_ind_admix = cluster_quantities_lib.get_mixture_weights_from_stick_break_propns(e_stick_lengths)[:, perm_best]"
   ]
  },
  {
   "cell_type": "code",
   "execution_count": 43,
   "metadata": {
    "collapsed": false
   },
   "outputs": [
    {
     "data": {
      "image/png": "[encoded data removed]",
      "text/plain": [
       "<Figure size 960x288 with 1 Axes>"
      ]
     },
     "metadata": {
      "needs_background": "light"
     },
     "output_type": "display_data"
    },
    {
     "data": {
      "image/png": "[encoded data removed]",
      "text/plain": [
       "<Figure size 1152x144 with 1 Axes>"
      ]
     },
     "metadata": {
      "needs_background": "light"
     },
     "output_type": "display_data"
    }
   ],
   "source": [
    "plt.matshow(e_ind_admix.T); \n",
    "plt.matshow(true_ind_admix_propn.T);"
   ]
  },
  {
   "cell_type": "code",
   "execution_count": null,
   "metadata": {
    "collapsed": true
   },
   "outputs": [],
   "source": []
  },
  {
   "cell_type": "code",
   "execution_count": null,
   "metadata": {
    "collapsed": true
   },
   "outputs": [],
   "source": []
  },
  {
   "cell_type": "code",
   "execution_count": null,
   "metadata": {
    "collapsed": true
   },
   "outputs": [],
   "source": []
  },
  {
   "cell_type": "code",
   "execution_count": null,
   "metadata": {
    "collapsed": true
   },
   "outputs": [],
   "source": []
  },
  {
   "cell_type": "raw",
   "metadata": {
    "collapsed": true
   },
   "source": [
    "from paragami import OptimizationObjective\n",
    "from scipy import optimize"
   ]
  },
  {
   "cell_type": "raw",
   "metadata": {
    "collapsed": false
   },
   "source": [
    "maxiter = 50\n",
    "gtol = 1e-8\n",
    "\n",
    "objective = OptimizationObjective(get_free_vb_params_loss_cached)\n",
    "\n",
    "# optimize\n",
    "bfgs_output = optimize.minimize(\n",
    "                    objective.f,\n",
    "                    x0=init_vb_free_params,\n",
    "                    jac=objective.grad,\n",
    "                    hessp=objective.hessian_vector_product,\n",
    "                    method='trust-ncg',\n",
    "                    options={'maxiter': maxiter, 'disp': True, 'gtol': gtol})"
   ]
  },
  {
   "cell_type": "raw",
   "metadata": {
    "collapsed": true
   },
   "source": []
  },
  {
   "cell_type": "raw",
   "metadata": {
    "collapsed": false
   },
   "source": [
    "vb_opt_free_params = opt_lib.optimize_full(get_free_vb_params_loss_cached, init_vb_free_params,\n",
    "                    bfgs_max_iter = 0, netwon_max_iter = 50,\n",
    "                    max_precondition_iter = 10,\n",
    "                    gtol=1e-8, ftol=1e-8, xtol=1e-8)"
   ]
  },
  {
   "cell_type": "raw",
   "metadata": {
    "collapsed": true
   },
   "source": []
  }
 ],
 "metadata": {
  "kernelspec": {
   "display_name": "Python (genomics_bnp)",
   "language": "python",
   "name": "genomic_time_series_py35"
  },
  "language_info": {
   "codemirror_mode": {
    "name": "ipython",
    "version": 3
   },
   "file_extension": ".py",
   "mimetype": "text/x-python",
   "name": "python",
   "nbconvert_exporter": "python",
   "pygments_lexer": "ipython3",
   "version": "3.5.0"
  }
 },
 "nbformat": 4,
 "nbformat_minor": 2
}
