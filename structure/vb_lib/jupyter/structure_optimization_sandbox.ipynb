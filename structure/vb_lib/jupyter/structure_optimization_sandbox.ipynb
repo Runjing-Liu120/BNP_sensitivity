{
 "cells": [
  {
   "cell_type": "code",
   "execution_count": 1,
   "metadata": {
    "collapsed": false
   },
   "outputs": [],
   "source": [
    "import autograd \n",
    "\n",
    "import autograd.numpy as np\n",
    "import autograd.scipy as sp\n",
    "from numpy.polynomial.hermite import hermgauss\n",
    "\n",
    "import sys\n",
    "sys.path.insert(0, '../')\n",
    "\n",
    "import structure_model_lib\n",
    "import data_utils\n",
    "import paragami\n",
    "\n",
    "import LinearResponseVariationalBayes.ExponentialFamilies as ef"
   ]
  },
  {
   "cell_type": "code",
   "execution_count": 2,
   "metadata": {
    "collapsed": false
   },
   "outputs": [],
   "source": [
    "from BNP_modeling import cluster_quantities_lib, modeling_lib\n",
    "import BNP_modeling.optimization_lib as opt_lib\n",
    "import cavi_lib\n",
    "\n",
    "from itertools import permutations\n",
    "\n",
    "import matplotlib.pyplot as plt\n",
    "%matplotlib inline  \n",
    "\n",
    "import vittles\n",
    "\n",
    "from copy import deepcopy"
   ]
  },
  {
   "cell_type": "code",
   "execution_count": 3,
   "metadata": {
    "collapsed": true
   },
   "outputs": [],
   "source": [
    "np.random.seed(53453)"
   ]
  },
  {
   "cell_type": "markdown",
   "metadata": {
    "collapsed": true
   },
   "source": [
    "# Draw data"
   ]
  },
  {
   "cell_type": "code",
   "execution_count": 4,
   "metadata": {
    "collapsed": false
   },
   "outputs": [],
   "source": [
    "n_obs = 40\n",
    "n_loci = 200\n",
    "n_pop = 4\n",
    "\n",
    "# population allele frequencies\n",
    "true_pop_allele_freq = np.random.random((n_loci, n_pop))\n",
    "\n",
    "# individual admixtures\n",
    "true_ind_admix_propn = np.random.dirichlet(np.ones(n_pop) / n_pop, size = (n_obs))"
   ]
  },
  {
   "cell_type": "code",
   "execution_count": 5,
   "metadata": {
    "collapsed": false,
    "scrolled": true
   },
   "outputs": [],
   "source": [
    "clustering_indx = data_utils.cluster_admix_get_indx(true_ind_admix_propn)\n",
    "true_ind_admix_propn = true_ind_admix_propn[clustering_indx, :]"
   ]
  },
  {
   "cell_type": "code",
   "execution_count": 6,
   "metadata": {
    "collapsed": false,
    "scrolled": true
   },
   "outputs": [
    {
     "data": {
      "text/plain": [
       "<matplotlib.image.AxesImage at 0x7f85696f3908>"
      ]
     },
     "execution_count": 6,
     "metadata": {},
     "output_type": "execute_result"
    },
    {
     "data": {
      "image/png": "[encoded data removed]",
      "text/plain": [
       "<Figure size 1152x144 with 1 Axes>"
      ]
     },
     "metadata": {
      "needs_background": "light"
     },
     "output_type": "display_data"
    }
   ],
   "source": [
    "plt.matshow(true_ind_admix_propn.T)"
   ]
  },
  {
   "cell_type": "code",
   "execution_count": 7,
   "metadata": {
    "collapsed": false
   },
   "outputs": [],
   "source": [
    "g_obs = data_utils.draw_data(true_pop_allele_freq, true_ind_admix_propn)"
   ]
  },
  {
   "cell_type": "code",
   "execution_count": 8,
   "metadata": {
    "collapsed": false,
    "scrolled": true
   },
   "outputs": [
    {
     "data": {
      "text/plain": [
       "(40, 200, 3)"
      ]
     },
     "execution_count": 8,
     "metadata": {},
     "output_type": "execute_result"
    }
   ],
   "source": [
    "g_obs.shape"
   ]
  },
  {
   "cell_type": "markdown",
   "metadata": {},
   "source": [
    "# Get prior"
   ]
  },
  {
   "cell_type": "code",
   "execution_count": 9,
   "metadata": {
    "collapsed": false
   },
   "outputs": [
    {
     "name": "stdout",
     "output_type": "stream",
     "text": [
      "OrderedDict:\n",
      "\t[dp_prior_alpha] = NumericArrayPattern (1,) (lb=0.0, ub=inf)\n",
      "\t[allele_prior_alpha] = NumericArrayPattern (1,) (lb=0.0, ub=inf)\n",
      "\t[allele_prior_beta] = NumericArrayPattern (1,) (lb=0.0, ub=inf)\n"
     ]
    }
   ],
   "source": [
    "prior_params_dict, prior_params_paragami = \\\n",
    "    structure_model_lib.get_default_prior_params()\n",
    "\n",
    "print(prior_params_paragami)"
   ]
  },
  {
   "cell_type": "markdown",
   "metadata": {},
   "source": [
    "# Get VB params "
   ]
  },
  {
   "cell_type": "code",
   "execution_count": 10,
   "metadata": {
    "collapsed": true
   },
   "outputs": [],
   "source": [
    "use_logitnormal_sticks = False"
   ]
  },
  {
   "cell_type": "code",
   "execution_count": 11,
   "metadata": {
    "collapsed": true
   },
   "outputs": [],
   "source": [
    "k_approx = 12"
   ]
  },
  {
   "cell_type": "code",
   "execution_count": 12,
   "metadata": {
    "collapsed": true
   },
   "outputs": [],
   "source": [
    "gh_deg = 8\n",
    "gh_loc, gh_weights = hermgauss(8)"
   ]
  },
  {
   "cell_type": "code",
   "execution_count": 13,
   "metadata": {
    "collapsed": false,
    "scrolled": true
   },
   "outputs": [
    {
     "name": "stdout",
     "output_type": "stream",
     "text": [
      "OrderedDict:\n",
      "\t[pop_freq_beta_params] = NumericArrayPattern (200, 12, 2) (lb=0.0, ub=inf)\n",
      "\t[ind_mix_stick_beta_params] = NumericArrayPattern (40, 11, 2) (lb=0.0, ub=inf)\n"
     ]
    }
   ],
   "source": [
    "use_logitnormal_sticks = False\n",
    "\n",
    "vb_params_dict, vb_params_paragami = \\\n",
    "    structure_model_lib.get_vb_params_paragami_object(n_obs, n_loci, k_approx, use_logitnormal_sticks)\n",
    "    \n",
    "print(vb_params_paragami)"
   ]
  },
  {
   "cell_type": "markdown",
   "metadata": {},
   "source": [
    "## Initialize "
   ]
  },
  {
   "cell_type": "code",
   "execution_count": 14,
   "metadata": {
    "collapsed": false
   },
   "outputs": [],
   "source": [
    "vb_params_dict = structure_model_lib.set_init_vb_params(g_obs, k_approx, vb_params_dict, \n",
    "                                                        use_logitnormal_sticks)"
   ]
  },
  {
   "cell_type": "code",
   "execution_count": 15,
   "metadata": {
    "collapsed": false
   },
   "outputs": [],
   "source": [
    "# take a look at init \n",
    "if use_logitnormal_sticks: \n",
    "    e_ind_admix = cluster_quantities_lib.get_e_cluster_probabilities(\n",
    "                        vb_params_dict['ind_mix_stick_propn_mean'], \n",
    "                        vb_params_dict['ind_mix_stick_propn_info'],\n",
    "                        gh_loc, gh_weights)\n",
    "\n",
    "else: \n",
    "    # take a look at init \n",
    "    ind_mix_stick_beta_params = vb_params_dict['ind_mix_stick_beta_params']\n",
    "    e_stick_lengths = \\\n",
    "            modeling_lib.get_e_beta(ind_mix_stick_beta_params)\n",
    "    e_ind_admix = cluster_quantities_lib.get_mixture_weights_from_stick_break_propns(e_stick_lengths)\n",
    "\n",
    "e_pop_freq = modeling_lib.get_e_beta(vb_params_dict['pop_freq_beta_params'])"
   ]
  },
  {
   "cell_type": "code",
   "execution_count": 16,
   "metadata": {
    "collapsed": true
   },
   "outputs": [],
   "source": [
    "if k_approx < 6: \n",
    "    # find minimizing permutation \n",
    "    # only feasible if k_approx is small, \n",
    "    # else my computer freezes\n",
    "    perm = data_utils.find_min_perm(e_pop_freq, true_pop_allele_freq, axis = 1)\n",
    "else: \n",
    "    perm = np.arange(k_approx)\n",
    "    \n",
    "e_pop_freq = e_pop_freq[:, perm]\n",
    "e_ind_admix = e_ind_admix[:, perm]"
   ]
  },
  {
   "cell_type": "code",
   "execution_count": 17,
   "metadata": {
    "collapsed": false
   },
   "outputs": [
    {
     "data": {
      "image/png": "[encoded data removed]",
      "text/plain": [
       "<Figure size 960x288 with 1 Axes>"
      ]
     },
     "metadata": {
      "needs_background": "light"
     },
     "output_type": "display_data"
    },
    {
     "data": {
      "image/png": "[encoded data removed]",
      "text/plain": [
       "<Figure size 1152x144 with 1 Axes>"
      ]
     },
     "metadata": {
      "needs_background": "light"
     },
     "output_type": "display_data"
    }
   ],
   "source": [
    "plt.matshow(e_ind_admix.T); \n",
    "plt.matshow(true_ind_admix_propn.T);"
   ]
  },
  {
   "cell_type": "code",
   "execution_count": null,
   "metadata": {
    "collapsed": true
   },
   "outputs": [],
   "source": []
  },
  {
   "cell_type": "markdown",
   "metadata": {},
   "source": [
    "# Run CAVI"
   ]
  },
  {
   "cell_type": "code",
   "execution_count": 18,
   "metadata": {
    "collapsed": false
   },
   "outputs": [],
   "source": [
    "e_log_sticks, e_log_1m_sticks, \\\n",
    "    e_log_pop_freq, e_log_1m_pop_freq = \\\n",
    "        structure_model_lib.get_moments_from_vb_params_dict(g_obs, vb_params_dict, use_logitnormal_sticks)"
   ]
  },
  {
   "cell_type": "code",
   "execution_count": 19,
   "metadata": {
    "collapsed": false,
    "scrolled": true
   },
   "outputs": [
    {
     "name": "stdout",
     "output_type": "stream",
     "text": [
      "iteration [0]; kl:16896.785469\n",
      "iteration [1]; kl:13459.296603\n",
      "iteration [2]; kl:13041.354289\n",
      "iteration [3]; kl:12902.833912\n",
      "iteration [4]; kl:12814.372102\n",
      "iteration [5]; kl:12746.042654\n",
      "iteration [6]; kl:12689.636515\n",
      "iteration [7]; kl:12641.379179\n",
      "iteration [8]; kl:12599.09858\n",
      "iteration [9]; kl:12561.403071\n",
      "iteration [10]; kl:12527.349516\n",
      "iteration [11]; kl:12496.275217\n",
      "iteration [12]; kl:12467.699145\n",
      "iteration [13]; kl:12441.261445\n",
      "iteration [14]; kl:12416.688967\n",
      "iteration [15]; kl:12393.77831\n",
      "iteration [16]; kl:12372.38788\n",
      "iteration [17]; kl:12352.43198\n",
      "iteration [18]; kl:12333.872277\n",
      "iteration [19]; kl:12316.702012\n",
      "iteration [20]; kl:12300.917085\n",
      "iteration [21]; kl:12286.475977\n",
      "iteration [22]; kl:12273.274271\n",
      "iteration [23]; kl:12261.160272\n",
      "iteration [24]; kl:12249.971265\n",
      "iteration [25]; kl:12239.556451\n",
      "iteration [26]; kl:12229.785565\n",
      "iteration [27]; kl:12220.554679\n",
      "iteration [28]; kl:12211.789351\n",
      "iteration [29]; kl:12203.441359\n",
      "iteration [30]; kl:12195.480567\n",
      "iteration [31]; kl:12187.886081\n",
      "iteration [32]; kl:12180.639536\n",
      "iteration [33]; kl:12173.72144\n",
      "iteration [34]; kl:12167.110495\n",
      "iteration [35]; kl:12160.785414\n",
      "iteration [36]; kl:12154.728642\n",
      "iteration [37]; kl:12148.930667\n",
      "iteration [38]; kl:12143.392776\n",
      "iteration [39]; kl:12138.126475\n",
      "iteration [40]; kl:12133.149542\n",
      "iteration [41]; kl:12128.480463\n",
      "iteration [42]; kl:12124.133219\n",
      "iteration [43]; kl:12120.113503\n",
      "iteration [44]; kl:12116.416494\n",
      "iteration [45]; kl:12113.026362\n",
      "iteration [46]; kl:12109.918007\n",
      "iteration [47]; kl:12107.060974\n",
      "iteration [48]; kl:12104.423473\n",
      "iteration [49]; kl:12101.974114\n",
      "iteration [50]; kl:12099.681623\n",
      "iteration [51]; kl:12097.514534\n",
      "iteration [52]; kl:12095.441789\n",
      "iteration [53]; kl:12093.433796\n",
      "iteration [54]; kl:12091.4633\n",
      "iteration [55]; kl:12089.505772\n",
      "iteration [56]; kl:12087.539326\n",
      "iteration [57]; kl:12085.544287\n",
      "iteration [58]; kl:12083.502556\n",
      "iteration [59]; kl:12081.396893\n",
      "iteration [60]; kl:12079.210209\n",
      "iteration [61]; kl:12076.924952\n",
      "iteration [62]; kl:12074.522661\n",
      "iteration [63]; kl:12071.983773\n",
      "iteration [64]; kl:12069.287815\n",
      "iteration [65]; kl:12066.414133\n",
      "iteration [66]; kl:12063.343417\n",
      "iteration [67]; kl:12060.060343\n",
      "iteration [68]; kl:12056.557674\n",
      "iteration [69]; kl:12052.842099\n",
      "iteration [70]; kl:12048.941657\n",
      "iteration [71]; kl:12044.913537\n",
      "iteration [72]; kl:12040.849202\n",
      "iteration [73]; kl:12036.871659\n",
      "iteration [74]; kl:12033.119859\n",
      "iteration [75]; kl:12029.720842\n",
      "iteration [76]; kl:12026.759992\n",
      "iteration [77]; kl:12024.264159\n",
      "iteration [78]; kl:12022.204364\n",
      "iteration [79]; kl:12020.512384\n",
      "iteration [80]; kl:12019.101201\n",
      "iteration [81]; kl:12017.883766\n",
      "iteration [82]; kl:12016.788211\n",
      "iteration [83]; kl:12015.765634\n",
      "iteration [84]; kl:12014.787762\n",
      "iteration [85]; kl:12013.8394\n",
      "iteration [86]; kl:12012.912298\n",
      "iteration [87]; kl:12012.002063\n",
      "iteration [88]; kl:12011.106764\n",
      "iteration [89]; kl:12010.226144\n",
      "iteration [90]; kl:12009.360972\n",
      "iteration [91]; kl:12008.5124\n",
      "iteration [92]; kl:12007.681313\n",
      "iteration [93]; kl:12006.867667\n",
      "iteration [94]; kl:12006.069943\n",
      "iteration [95]; kl:12005.284848\n",
      "iteration [96]; kl:12004.507364\n",
      "iteration [97]; kl:12003.73112\n",
      "iteration [98]; kl:12002.948907\n",
      "iteration [99]; kl:12002.153123\n",
      "iteration [100]; kl:12001.336\n",
      "iteration [101]; kl:12000.489607\n",
      "iteration [102]; kl:11999.605697\n",
      "iteration [103]; kl:11998.675463\n",
      "iteration [104]; kl:11997.68927\n",
      "iteration [105]; kl:11996.636361\n",
      "iteration [106]; kl:11995.504554\n",
      "iteration [107]; kl:11994.279929\n",
      "iteration [108]; kl:11992.94651\n",
      "iteration [109]; kl:11991.485983\n",
      "iteration [110]; kl:11989.87748\n",
      "iteration [111]; kl:11988.097541\n",
      "iteration [112]; kl:11986.120392\n",
      "iteration [113]; kl:11983.918768\n",
      "iteration [114]; kl:11981.465609\n",
      "iteration [115]; kl:11978.737035\n",
      "iteration [116]; kl:11975.717003\n",
      "iteration [117]; kl:11972.403843\n",
      "iteration [118]; kl:11968.818284\n",
      "iteration [119]; kl:11965.011438\n",
      "iteration [120]; kl:11961.069703\n",
      "iteration [121]; kl:11957.112441\n",
      "iteration [122]; kl:11953.279033\n",
      "iteration [123]; kl:11949.70585\n",
      "iteration [124]; kl:11946.499704\n",
      "iteration [125]; kl:11943.718318\n",
      "iteration [126]; kl:11941.365252\n",
      "iteration [127]; kl:11939.397933\n",
      "iteration [128]; kl:11937.741814\n",
      "iteration [129]; kl:11936.30625\n",
      "iteration [130]; kl:11935.002108\n",
      "iteration [131]; kl:11933.758523\n",
      "iteration [132]; kl:11932.530644\n",
      "iteration [133]; kl:11931.295467\n",
      "iteration [134]; kl:11930.043121\n",
      "iteration [135]; kl:11928.770473\n",
      "iteration [136]; kl:11927.477974\n",
      "iteration [137]; kl:11926.168358\n",
      "iteration [138]; kl:11924.84617\n",
      "iteration [139]; kl:11923.517614\n",
      "iteration [140]; kl:11922.190494\n",
      "iteration [141]; kl:11920.874047\n",
      "iteration [142]; kl:11919.57851\n",
      "iteration [143]; kl:11918.314238\n",
      "iteration [144]; kl:11917.090333\n",
      "iteration [145]; kl:11915.913045\n",
      "iteration [146]; kl:11914.784587\n",
      "iteration [147]; kl:11913.703175\n",
      "iteration [148]; kl:11912.664533\n",
      "iteration [149]; kl:11911.664063\n",
      "iteration [150]; kl:11910.698432\n",
      "iteration [151]; kl:11909.76601\n",
      "iteration [152]; kl:11908.866536\n",
      "iteration [153]; kl:11908.000587\n",
      "iteration [154]; kl:11907.169174\n",
      "iteration [155]; kl:11906.373485\n",
      "iteration [156]; kl:11905.614696\n",
      "iteration [157]; kl:11904.893818\n",
      "iteration [158]; kl:11904.211538\n",
      "iteration [159]; kl:11903.568105\n",
      "iteration [160]; kl:11902.963258\n",
      "iteration [161]; kl:11902.39622\n",
      "iteration [162]; kl:11901.865764\n",
      "iteration [163]; kl:11901.370323\n",
      "iteration [164]; kl:11900.908121\n",
      "iteration [165]; kl:11900.477303\n",
      "iteration [166]; kl:11900.076032\n",
      "iteration [167]; kl:11899.702557\n",
      "iteration [168]; kl:11899.355242\n",
      "iteration [169]; kl:11899.032579\n",
      "iteration [170]; kl:11898.733181\n",
      "iteration [171]; kl:11898.455766\n",
      "iteration [172]; kl:11898.199143\n",
      "iteration [173]; kl:11897.962186\n",
      "iteration [174]; kl:11897.743819\n",
      "iteration [175]; kl:11897.542993\n",
      "iteration [176]; kl:11897.358675\n",
      "iteration [177]; kl:11897.189825\n",
      "iteration [178]; kl:11897.035392\n",
      "iteration [179]; kl:11896.894303\n",
      "iteration [180]; kl:11896.765459\n",
      "iteration [181]; kl:11896.647742\n",
      "iteration [182]; kl:11896.540023\n",
      "iteration [183]; kl:11896.441177\n",
      "iteration [184]; kl:11896.350106\n",
      "iteration [185]; kl:11896.265757\n",
      "iteration [186]; kl:11896.187149\n",
      "iteration [187]; kl:11896.113384\n",
      "iteration [188]; kl:11896.043659\n",
      "iteration [189]; kl:11895.977273\n",
      "iteration [190]; kl:11895.91362\n",
      "iteration [191]; kl:11895.852186\n",
      "iteration [192]; kl:11895.792539\n",
      "iteration [193]; kl:11895.734319\n",
      "iteration [194]; kl:11895.677225\n",
      "iteration [195]; kl:11895.621007\n",
      "iteration [196]; kl:11895.565457\n",
      "iteration [197]; kl:11895.5104\n",
      "iteration [198]; kl:11895.455689\n",
      "iteration [199]; kl:11895.401197\n",
      "iteration [200]; kl:11895.346818\n",
      "iteration [201]; kl:11895.292457\n",
      "iteration [202]; kl:11895.238033\n",
      "iteration [203]; kl:11895.183473\n",
      "iteration [204]; kl:11895.128709\n",
      "iteration [205]; kl:11895.073684\n",
      "iteration [206]; kl:11895.01834\n",
      "iteration [207]; kl:11894.962627\n",
      "iteration [208]; kl:11894.906495\n",
      "iteration [209]; kl:11894.849896\n",
      "iteration [210]; kl:11894.792785\n",
      "iteration [211]; kl:11894.735117\n",
      "iteration [212]; kl:11894.676847\n",
      "iteration [213]; kl:11894.617931\n",
      "iteration [214]; kl:11894.558324\n",
      "iteration [215]; kl:11894.49798\n",
      "iteration [216]; kl:11894.436854\n",
      "iteration [217]; kl:11894.374897\n",
      "iteration [218]; kl:11894.312062\n",
      "iteration [219]; kl:11894.248296\n",
      "iteration [220]; kl:11894.183547\n",
      "iteration [221]; kl:11894.11776\n",
      "iteration [222]; kl:11894.050877\n",
      "iteration [223]; kl:11893.982838\n",
      "iteration [224]; kl:11893.913578\n",
      "iteration [225]; kl:11893.843032\n",
      "iteration [226]; kl:11893.771128\n",
      "iteration [227]; kl:11893.697792\n",
      "iteration [228]; kl:11893.622942\n",
      "iteration [229]; kl:11893.546496\n",
      "iteration [230]; kl:11893.468364\n",
      "iteration [231]; kl:11893.388449\n",
      "iteration [232]; kl:11893.30665\n",
      "iteration [233]; kl:11893.222858\n",
      "iteration [234]; kl:11893.136957\n",
      "iteration [235]; kl:11893.048822\n",
      "iteration [236]; kl:11892.958319\n",
      "iteration [237]; kl:11892.865306\n",
      "iteration [238]; kl:11892.769627\n",
      "iteration [239]; kl:11892.671119\n",
      "iteration [240]; kl:11892.569601\n",
      "iteration [241]; kl:11892.464882\n",
      "iteration [242]; kl:11892.356754\n",
      "iteration [243]; kl:11892.244992\n",
      "iteration [244]; kl:11892.129355\n",
      "iteration [245]; kl:11892.009579\n",
      "iteration [246]; kl:11891.885378\n",
      "iteration [247]; kl:11891.756445\n",
      "iteration [248]; kl:11891.622442\n",
      "iteration [249]; kl:11891.483004\n",
      "iteration [250]; kl:11891.337734\n",
      "iteration [251]; kl:11891.186198\n",
      "iteration [252]; kl:11891.027923\n",
      "iteration [253]; kl:11890.862393\n",
      "iteration [254]; kl:11890.689045\n",
      "iteration [255]; kl:11890.507263\n",
      "iteration [256]; kl:11890.316373\n",
      "iteration [257]; kl:11890.115637\n",
      "iteration [258]; kl:11889.904248\n",
      "iteration [259]; kl:11889.681323\n",
      "iteration [260]; kl:11889.445891\n",
      "iteration [261]; kl:11889.196893\n",
      "iteration [262]; kl:11888.933167\n",
      "iteration [263]; kl:11888.653442\n",
      "iteration [264]; kl:11888.356328\n",
      "iteration [265]; kl:11888.040306\n",
      "iteration [266]; kl:11887.703721\n",
      "iteration [267]; kl:11887.34477\n",
      "iteration [268]; kl:11886.961495\n",
      "iteration [269]; kl:11886.551777\n",
      "iteration [270]; kl:11886.113332\n",
      "iteration [271]; kl:11885.643706\n",
      "iteration [272]; kl:11885.140282\n",
      "iteration [273]; kl:11884.600285\n",
      "iteration [274]; kl:11884.020797\n",
      "iteration [275]; kl:11883.398778\n",
      "iteration [276]; kl:11882.731101\n",
      "iteration [277]; kl:11882.014595\n",
      "iteration [278]; kl:11881.246094\n",
      "iteration [279]; kl:11880.422511\n",
      "iteration [280]; kl:11879.540909\n",
      "iteration [281]; kl:11878.598588\n",
      "iteration [282]; kl:11877.593181\n",
      "iteration [283]; kl:11876.522739\n",
      "iteration [284]; kl:11875.385824\n",
      "iteration [285]; kl:11874.181584\n",
      "iteration [286]; kl:11872.909816\n",
      "iteration [287]; kl:11871.571008\n",
      "iteration [288]; kl:11870.166377\n",
      "iteration [289]; kl:11868.697875\n",
      "iteration [290]; kl:11867.16821\n",
      "iteration [291]; kl:11865.580838\n",
      "iteration [292]; kl:11863.939963\n",
      "iteration [293]; kl:11862.250512\n",
      "iteration [294]; kl:11860.518091\n",
      "iteration [295]; kl:11858.748936\n",
      "iteration [296]; kl:11856.949884\n",
      "iteration [297]; kl:11855.128434\n",
      "iteration [298]; kl:11853.292974\n",
      "iteration [299]; kl:11851.453271\n",
      "iteration [300]; kl:11849.621332\n",
      "iteration [301]; kl:11847.812752\n",
      "iteration [302]; kl:11846.048544\n",
      "iteration [303]; kl:11844.356999\n",
      "iteration [304]; kl:11842.773826\n",
      "iteration [305]; kl:11841.337004\n",
      "iteration [306]; kl:11840.0729\n",
      "iteration [307]; kl:11838.97867\n",
      "iteration [308]; kl:11838.020239\n",
      "iteration [309]; kl:11837.156745\n",
      "iteration [310]; kl:11836.367129\n",
      "iteration [311]; kl:11835.654214\n",
      "iteration [312]; kl:11835.032414\n",
      "iteration [313]; kl:11834.511866\n",
      "iteration [314]; kl:11834.087296\n",
      "iteration [315]; kl:11833.738597\n",
      "iteration [316]; kl:11833.441089\n",
      "iteration [317]; kl:11833.174495\n",
      "iteration [318]; kl:11832.925174\n",
      "iteration [319]; kl:11832.684625\n",
      "iteration [320]; kl:11832.447588\n",
      "iteration [321]; kl:11832.210721\n",
      "iteration [322]; kl:11831.971796\n",
      "iteration [323]; kl:11831.729244\n",
      "iteration [324]; kl:11831.481892\n",
      "iteration [325]; kl:11831.228808\n",
      "iteration [326]; kl:11830.969208\n",
      "iteration [327]; kl:11830.702398\n",
      "iteration [328]; kl:11830.427736\n",
      "iteration [329]; kl:11830.144608\n",
      "iteration [330]; kl:11829.852411\n",
      "iteration [331]; kl:11829.550548\n",
      "iteration [332]; kl:11829.238423\n",
      "iteration [333]; kl:11828.915438\n",
      "iteration [334]; kl:11828.581003\n",
      "iteration [335]; kl:11828.234543\n",
      "iteration [336]; kl:11827.875511\n",
      "iteration [337]; kl:11827.503412\n",
      "iteration [338]; kl:11827.117831\n",
      "iteration [339]; kl:11826.718474\n",
      "iteration [340]; kl:11826.305225\n",
      "iteration [341]; kl:11825.878223\n",
      "iteration [342]; kl:11825.437964\n",
      "iteration [343]; kl:11824.985431\n",
      "iteration [344]; kl:11824.522269\n",
      "iteration [345]; kl:11824.050998\n",
      "iteration [346]; kl:11823.575247\n",
      "iteration [347]; kl:11823.100001\n",
      "iteration [348]; kl:11822.631774\n",
      "iteration [349]; kl:11822.17859\n",
      "iteration [350]; kl:11821.749602\n",
      "iteration [351]; kl:11821.354147\n",
      "iteration [352]; kl:11821.000241\n",
      "iteration [353]; kl:11820.692802\n",
      "iteration [354]; kl:11820.432402\n",
      "iteration [355]; kl:11820.215298\n",
      "iteration [356]; kl:11820.03482\n",
      "iteration [357]; kl:11819.883327\n",
      "iteration [358]; kl:11819.753777\n",
      "iteration [359]; kl:11819.640544\n",
      "iteration [360]; kl:11819.539582\n",
      "iteration [361]; kl:11819.448213\n",
      "iteration [362]; kl:11819.364765\n",
      "iteration [363]; kl:11819.288226\n",
      "iteration [364]; kl:11819.217971\n",
      "iteration [365]; kl:11819.15358\n",
      "iteration [366]; kl:11819.094722\n",
      "iteration [367]; kl:11819.041091\n",
      "iteration [368]; kl:11818.992371\n",
      "iteration [369]; kl:11818.948224\n",
      "iteration [370]; kl:11818.908288\n",
      "iteration [371]; kl:11818.872184\n",
      "iteration [372]; kl:11818.839527\n",
      "iteration [373]; kl:11818.809933\n",
      "iteration [374]; kl:11818.783037\n",
      "iteration [375]; kl:11818.758494\n",
      "iteration [376]; kl:11818.735991\n",
      "iteration [377]; kl:11818.715247\n",
      "iteration [378]; kl:11818.696014\n",
      "iteration [379]; kl:11818.678078\n",
      "iteration [380]; kl:11818.661256\n",
      "iteration [381]; kl:11818.64539\n",
      "iteration [382]; kl:11818.630348\n",
      "iteration [383]; kl:11818.616019\n",
      "iteration [384]; kl:11818.602309\n",
      "iteration [385]; kl:11818.589138\n",
      "iteration [386]; kl:11818.576439\n",
      "iteration [387]; kl:11818.564155\n",
      "iteration [388]; kl:11818.55224\n",
      "iteration [389]; kl:11818.540651\n",
      "iteration [390]; kl:11818.529354\n",
      "iteration [391]; kl:11818.518319\n",
      "iteration [392]; kl:11818.507522\n",
      "iteration [393]; kl:11818.49694\n",
      "iteration [394]; kl:11818.486554\n",
      "iteration [395]; kl:11818.476348\n",
      "iteration [396]; kl:11818.466309\n",
      "iteration [397]; kl:11818.456424\n",
      "done. Termination after 397 steps in 39.65 seconds\n"
     ]
    }
   ],
   "source": [
    "e_z, stick_beta_params, pop_beta_params = \\\n",
    "    cavi_lib.run_cavi(g_obs, e_log_pop_freq, e_log_1m_pop_freq,\n",
    "                e_log_sticks, e_log_1m_sticks,\n",
    "                prior_params_dict, \n",
    "                max_iter = 2000, f_tol = 1e-2)"
   ]
  },
  {
   "cell_type": "code",
   "execution_count": 20,
   "metadata": {
    "collapsed": true
   },
   "outputs": [],
   "source": [
    "# check results after CAVI steps"
   ]
  },
  {
   "cell_type": "code",
   "execution_count": 21,
   "metadata": {
    "collapsed": false
   },
   "outputs": [],
   "source": [
    "if use_logitnormal_sticks: \n",
    "    # convert beta params to logitnormal\n",
    "    raise NotImplementedError()\n",
    "else: \n",
    "    vb_params_dict['pop_freq_beta_params'] = pop_beta_params\n",
    "    vb_params_dict['ind_mix_stick_beta_params'] = stick_beta_params"
   ]
  },
  {
   "cell_type": "code",
   "execution_count": 22,
   "metadata": {
    "collapsed": false
   },
   "outputs": [],
   "source": [
    "e_pop_allele_freq = modeling_lib.get_e_beta(pop_beta_params)"
   ]
  },
  {
   "cell_type": "code",
   "execution_count": 23,
   "metadata": {
    "collapsed": false
   },
   "outputs": [],
   "source": [
    "if k_approx < 6: \n",
    "    perm_best = data_utils.find_min_perm(e_pop_allele_freq, true_pop_allele_freq, axis = 1)\n",
    "else: \n",
    "    perm_best = perm"
   ]
  },
  {
   "cell_type": "code",
   "execution_count": 24,
   "metadata": {
    "collapsed": true
   },
   "outputs": [],
   "source": [
    "ind_mix_stick_beta_params = vb_params_dict['ind_mix_stick_beta_params']\n",
    "e_stick_lengths = \\\n",
    "        modeling_lib.get_e_beta(ind_mix_stick_beta_params)\n",
    "e_ind_admix = cluster_quantities_lib.get_mixture_weights_from_stick_break_propns(e_stick_lengths)[:, perm_best]"
   ]
  },
  {
   "cell_type": "code",
   "execution_count": 25,
   "metadata": {
    "collapsed": false
   },
   "outputs": [
    {
     "data": {
      "image/png": "[encoded data removed]",
      "text/plain": [
       "<Figure size 960x288 with 1 Axes>"
      ]
     },
     "metadata": {
      "needs_background": "light"
     },
     "output_type": "display_data"
    },
    {
     "data": {
      "image/png": "[encoded data removed]",
      "text/plain": [
       "<Figure size 1152x144 with 1 Axes>"
      ]
     },
     "metadata": {
      "needs_background": "light"
     },
     "output_type": "display_data"
    }
   ],
   "source": [
    "plt.matshow(e_ind_admix.T); \n",
    "plt.matshow(true_ind_admix_propn.T);"
   ]
  },
  {
   "cell_type": "code",
   "execution_count": 26,
   "metadata": {
    "collapsed": true
   },
   "outputs": [],
   "source": [
    "vb_params_dict_cavi = deepcopy(vb_params_dict)"
   ]
  },
  {
   "cell_type": "markdown",
   "metadata": {
    "collapsed": true
   },
   "source": [
    "# run a few Netwon steps"
   ]
  },
  {
   "cell_type": "code",
   "execution_count": 27,
   "metadata": {
    "collapsed": true
   },
   "outputs": [],
   "source": [
    "# get loss as a function of vb parameters\n",
    "get_free_vb_params_loss = paragami.FlattenFunctionInput(\n",
    "                                original_fun=structure_model_lib.get_kl, \n",
    "                                patterns = vb_params_paragami,\n",
    "                                free = True,\n",
    "                                argnums = 1)\n",
    "\n",
    "get_free_vb_params_loss_cached = \\\n",
    "    lambda x : get_free_vb_params_loss(g_obs, x, prior_params_dict, gh_loc, gh_weights, \n",
    "                                       use_logitnormal_sticks)"
   ]
  },
  {
   "cell_type": "code",
   "execution_count": 28,
   "metadata": {
    "collapsed": true
   },
   "outputs": [],
   "source": [
    "init_vb_free_params = vb_params_paragami.flatten(vb_params_dict_cavi, free = True)"
   ]
  },
  {
   "cell_type": "code",
   "execution_count": 29,
   "metadata": {
    "collapsed": false
   },
   "outputs": [
    {
     "data": {
      "text/plain": [
       "11818.451533578891"
      ]
     },
     "execution_count": 29,
     "metadata": {},
     "output_type": "execute_result"
    }
   ],
   "source": [
    "get_free_vb_params_loss_cached(init_vb_free_params)"
   ]
  },
  {
   "cell_type": "code",
   "execution_count": 30,
   "metadata": {
    "collapsed": true
   },
   "outputs": [],
   "source": [
    "from paragami import OptimizationObjective\n",
    "from scipy import optimize"
   ]
  },
  {
   "cell_type": "code",
   "execution_count": 31,
   "metadata": {
    "collapsed": false
   },
   "outputs": [
    {
     "name": "stdout",
     "output_type": "stream",
     "text": [
      "Iter 0: f = 11818.45153358\n",
      "Iter 1: f = 11818.14130903\n",
      "Iter 2: f = 11817.67343505\n",
      "Iter 3: f = 11817.36738062\n",
      "Iter 4: f = 11816.38561233\n",
      "Iter 5: f = 11814.57003305\n",
      "Iter 6: f = 11811.30365741\n",
      "Iter 7: f = 11804.56812701\n",
      "Iter 8: f = 11800.61857682\n",
      "Iter 9: f = 11796.01211421\n",
      "Iter 10: f = 11791.44272475\n",
      "Iter 11: f = 11785.39800975\n",
      "Iter 12: f = 11775.77376608\n",
      "Iter 13: f = 11753.35881241\n",
      "Iter 14: f = 11903.60888625\n",
      "Iter 15: f = 11739.08704966\n",
      "Iter 16: f = 11732.53195959\n",
      "Iter 17: f = 11704.46906706\n",
      "Iter 18: f = 11691.98848089\n",
      "Iter 19: f = 11678.50474288\n",
      "Iter 20: f = 11662.13653814\n",
      "Iter 21: f = 11655.57615025\n",
      "Iter 22: f = 11649.09755051\n",
      "Iter 23: f = 11651.85841371\n",
      "Iter 24: f = 11637.64781906\n",
      "Iter 25: f = 11626.71013946\n",
      "Iter 26: f = 11609.48960022\n",
      "Iter 27: f = 11600.72746842\n",
      "Iter 28: f = 11596.12208548\n",
      "Iter 29: f = 11593.76115366\n",
      "Iter 30: f = 11589.60223472\n",
      "Iter 31: f = 11588.51009597\n",
      "Iter 32: f = 11588.46124636\n",
      "Iter 33: f = 11588.42025484\n",
      "Iter 34: f = 11588.41921033\n",
      "Iter 35: f = 11588.41822892\n",
      "Iter 36: f = 11588.41817524\n",
      "Iter 37: f = 11588.41817510\n",
      "Iter 38: f = 11588.41817510\n",
      "Iter 39: f = 11588.41817510\n",
      "Warning: A bad approximation caused failure to predict improvement.\n",
      "         Current function value: 11588.418175\n",
      "         Iterations: 38\n",
      "         Function evaluations: 40\n",
      "         Gradient evaluations: 37\n",
      "         Hessian evaluations: 0\n"
     ]
    }
   ],
   "source": [
    "maxiter = 50\n",
    "gtol = 1e-8\n",
    "\n",
    "objective = OptimizationObjective(get_free_vb_params_loss_cached)\n",
    "\n",
    "# optimize\n",
    "bfgs_output = optimize.minimize(\n",
    "                    objective.f,\n",
    "                    x0=init_vb_free_params,\n",
    "                    jac=objective.grad,\n",
    "                    hessp=objective.hessian_vector_product,\n",
    "                    method='trust-ncg',\n",
    "                    options={'maxiter': maxiter, 'disp': True, 'gtol': gtol})"
   ]
  },
  {
   "cell_type": "code",
   "execution_count": null,
   "metadata": {
    "collapsed": true
   },
   "outputs": [],
   "source": []
  },
  {
   "cell_type": "code",
   "execution_count": 30,
   "metadata": {
    "collapsed": false
   },
   "outputs": [
    {
     "name": "stdout",
     "output_type": "stream",
     "text": [
      "\n",
      " running preconditioned newton; iter =  0\n",
      "computing preconditioner \n"
     ]
    },
    {
     "ename": "KeyboardInterrupt",
     "evalue": "",
     "output_type": "error",
     "traceback": [
      "\u001b[0;31m---------------------------------------------------------------------------\u001b[0m",
      "\u001b[0;31mKeyboardInterrupt\u001b[0m                         Traceback (most recent call last)",
      "\u001b[0;32m<ipython-input-30-e0b89b39ae2f>\u001b[0m in \u001b[0;36m<module>\u001b[0;34m()\u001b[0m\n\u001b[1;32m      2\u001b[0m                     \u001b[0mbfgs_max_iter\u001b[0m \u001b[0;34m=\u001b[0m \u001b[0;36m0\u001b[0m\u001b[0;34m,\u001b[0m \u001b[0mnetwon_max_iter\u001b[0m \u001b[0;34m=\u001b[0m \u001b[0;36m50\u001b[0m\u001b[0;34m,\u001b[0m\u001b[0;34m\u001b[0m\u001b[0m\n\u001b[1;32m      3\u001b[0m                     \u001b[0mmax_precondition_iter\u001b[0m \u001b[0;34m=\u001b[0m \u001b[0;36m10\u001b[0m\u001b[0;34m,\u001b[0m\u001b[0;34m\u001b[0m\u001b[0m\n\u001b[0;32m----> 4\u001b[0;31m                     gtol=1e-8, ftol=1e-8, xtol=1e-8)\n\u001b[0m",
      "\u001b[0;32m~/anaconda3/envs/genomic_time_series_py35/lib/python3.5/site-packages/BNP_modeling/optimization_lib.py\u001b[0m in \u001b[0;36moptimize_full\u001b[0;34m(get_loss, init_vb_free_params, bfgs_max_iter, netwon_max_iter, max_precondition_iter, gtol, ftol, xtol, init_hessian)\u001b[0m\n\u001b[1;32m    203\u001b[0m             new_x, ncg_output = precondition_and_optimize(get_loss, x,\\\n\u001b[1;32m    204\u001b[0m                                         \u001b[0mmaxiter\u001b[0m \u001b[0;34m=\u001b[0m \u001b[0mnetwon_max_iter\u001b[0m\u001b[0;34m,\u001b[0m \u001b[0mgtol\u001b[0m \u001b[0;34m=\u001b[0m \u001b[0mgtol\u001b[0m\u001b[0;34m,\u001b[0m\u001b[0;34m\u001b[0m\u001b[0m\n\u001b[0;32m--> 205\u001b[0;31m                                         hessian = init_hessian)\n\u001b[0m\u001b[1;32m    206\u001b[0m \u001b[0;34m\u001b[0m\u001b[0m\n\u001b[1;32m    207\u001b[0m             \u001b[0;31m# Check convergence.\u001b[0m\u001b[0;34m\u001b[0m\u001b[0;34m\u001b[0m\u001b[0m\n",
      "\u001b[0;32m~/anaconda3/envs/genomic_time_series_py35/lib/python3.5/site-packages/BNP_modeling/optimization_lib.py\u001b[0m in \u001b[0;36mprecondition_and_optimize\u001b[0;34m(get_loss, init_vb_free_params, maxiter, gtol, hessian)\u001b[0m\n\u001b[1;32m    107\u001b[0m         \u001b[0mt0\u001b[0m \u001b[0;34m=\u001b[0m \u001b[0mtime\u001b[0m\u001b[0;34m.\u001b[0m\u001b[0mtime\u001b[0m\u001b[0;34m(\u001b[0m\u001b[0;34m)\u001b[0m\u001b[0;34m\u001b[0m\u001b[0m\n\u001b[1;32m    108\u001b[0m         _ = precond_fun.set_preconditioner_with_hessian(x = init_vb_free_params,\n\u001b[0;32m--> 109\u001b[0;31m                                                             ev_min=1e-4)\n\u001b[0m\u001b[1;32m    110\u001b[0m         \u001b[0mprint\u001b[0m\u001b[0;34m(\u001b[0m\u001b[0;34m'preconditioning time: {0:.2f}'\u001b[0m\u001b[0;34m.\u001b[0m\u001b[0mformat\u001b[0m\u001b[0;34m(\u001b[0m\u001b[0mtime\u001b[0m\u001b[0;34m.\u001b[0m\u001b[0mtime\u001b[0m\u001b[0;34m(\u001b[0m\u001b[0;34m)\u001b[0m \u001b[0;34m-\u001b[0m \u001b[0mt0\u001b[0m\u001b[0;34m)\u001b[0m\u001b[0;34m)\u001b[0m\u001b[0;34m\u001b[0m\u001b[0m\n\u001b[1;32m    111\u001b[0m     \u001b[0;32melse\u001b[0m\u001b[0;34m:\u001b[0m\u001b[0;34m\u001b[0m\u001b[0m\n",
      "\u001b[0;32m~/anaconda3/envs/genomic_time_series_py35/lib/python3.5/site-packages/paragami/optimization_lib.py\u001b[0m in \u001b[0;36mset_preconditioner_with_hessian\u001b[0;34m(self, x, hessian, ev_min, ev_max)\u001b[0m\n\u001b[1;32m    272\u001b[0m             \u001b[0;31m# We now know x is not None.\u001b[0m\u001b[0;34m\u001b[0m\u001b[0;34m\u001b[0m\u001b[0m\n\u001b[1;32m    273\u001b[0m             \u001b[0mget_original_fun_hessian\u001b[0m \u001b[0;34m=\u001b[0m \u001b[0mautograd\u001b[0m\u001b[0;34m.\u001b[0m\u001b[0mhessian\u001b[0m\u001b[0;34m(\u001b[0m\u001b[0mself\u001b[0m\u001b[0;34m.\u001b[0m\u001b[0m_original_fun\u001b[0m\u001b[0;34m)\u001b[0m\u001b[0;34m\u001b[0m\u001b[0m\n\u001b[0;32m--> 274\u001b[0;31m             \u001b[0mhessian\u001b[0m \u001b[0;34m=\u001b[0m \u001b[0mget_original_fun_hessian\u001b[0m\u001b[0;34m(\u001b[0m\u001b[0mx\u001b[0m\u001b[0;34m)\u001b[0m\u001b[0;34m\u001b[0m\u001b[0m\n\u001b[0m\u001b[1;32m    275\u001b[0m \u001b[0;34m\u001b[0m\u001b[0m\n\u001b[1;32m    276\u001b[0m         \u001b[0mmult_hess_sqrt\u001b[0m\u001b[0;34m,\u001b[0m \u001b[0mmult_hess_inv_sqrt\u001b[0m \u001b[0;34m=\u001b[0m\u001b[0;31m \u001b[0m\u001b[0;31m\\\u001b[0m\u001b[0;34m\u001b[0m\u001b[0m\n",
      "\u001b[0;32m~/Documents/BNP/autograd/autograd/wrap_util.py\u001b[0m in \u001b[0;36mnary_f\u001b[0;34m(*args, **kwargs)\u001b[0m\n\u001b[1;32m     18\u001b[0m             \u001b[0;32melse\u001b[0m\u001b[0;34m:\u001b[0m\u001b[0;34m\u001b[0m\u001b[0m\n\u001b[1;32m     19\u001b[0m                 \u001b[0mx\u001b[0m \u001b[0;34m=\u001b[0m \u001b[0mtuple\u001b[0m\u001b[0;34m(\u001b[0m\u001b[0margs\u001b[0m\u001b[0;34m[\u001b[0m\u001b[0mi\u001b[0m\u001b[0;34m]\u001b[0m \u001b[0;32mfor\u001b[0m \u001b[0mi\u001b[0m \u001b[0;32min\u001b[0m \u001b[0margnum\u001b[0m\u001b[0;34m)\u001b[0m\u001b[0;34m\u001b[0m\u001b[0m\n\u001b[0;32m---> 20\u001b[0;31m             \u001b[0;32mreturn\u001b[0m \u001b[0munary_operator\u001b[0m\u001b[0;34m(\u001b[0m\u001b[0munary_f\u001b[0m\u001b[0;34m,\u001b[0m \u001b[0mx\u001b[0m\u001b[0;34m,\u001b[0m \u001b[0;34m*\u001b[0m\u001b[0mnary_op_args\u001b[0m\u001b[0;34m,\u001b[0m \u001b[0;34m**\u001b[0m\u001b[0mnary_op_kwargs\u001b[0m\u001b[0;34m)\u001b[0m\u001b[0;34m\u001b[0m\u001b[0m\n\u001b[0m\u001b[1;32m     21\u001b[0m         \u001b[0;32mreturn\u001b[0m \u001b[0mnary_f\u001b[0m\u001b[0;34m\u001b[0m\u001b[0m\n\u001b[1;32m     22\u001b[0m     \u001b[0;32mreturn\u001b[0m \u001b[0mnary_operator\u001b[0m\u001b[0;34m\u001b[0m\u001b[0m\n",
      "\u001b[0;32m~/Documents/BNP/autograd/autograd/differential_operators.py\u001b[0m in \u001b[0;36mhessian\u001b[0;34m(fun, x)\u001b[0m\n\u001b[1;32m     71\u001b[0m \u001b[0;32mdef\u001b[0m \u001b[0mhessian\u001b[0m\u001b[0;34m(\u001b[0m\u001b[0mfun\u001b[0m\u001b[0;34m,\u001b[0m \u001b[0mx\u001b[0m\u001b[0;34m)\u001b[0m\u001b[0;34m:\u001b[0m\u001b[0;34m\u001b[0m\u001b[0m\n\u001b[1;32m     72\u001b[0m     \u001b[0;34m\"Returns a function that computes the exact Hessian.\"\u001b[0m\u001b[0;34m\u001b[0m\u001b[0m\n\u001b[0;32m---> 73\u001b[0;31m     \u001b[0;32mreturn\u001b[0m \u001b[0mjacobian\u001b[0m\u001b[0;34m(\u001b[0m\u001b[0mjacobian\u001b[0m\u001b[0;34m(\u001b[0m\u001b[0mfun\u001b[0m\u001b[0;34m)\u001b[0m\u001b[0;34m)\u001b[0m\u001b[0;34m(\u001b[0m\u001b[0mx\u001b[0m\u001b[0;34m)\u001b[0m\u001b[0;34m\u001b[0m\u001b[0m\n\u001b[0m\u001b[1;32m     74\u001b[0m \u001b[0;34m\u001b[0m\u001b[0m\n\u001b[1;32m     75\u001b[0m \u001b[0;34m@\u001b[0m\u001b[0munary_to_nary\u001b[0m\u001b[0;34m\u001b[0m\u001b[0m\n",
      "\u001b[0;32m~/Documents/BNP/autograd/autograd/wrap_util.py\u001b[0m in \u001b[0;36mnary_f\u001b[0;34m(*args, **kwargs)\u001b[0m\n\u001b[1;32m     18\u001b[0m             \u001b[0;32melse\u001b[0m\u001b[0;34m:\u001b[0m\u001b[0;34m\u001b[0m\u001b[0m\n\u001b[1;32m     19\u001b[0m                 \u001b[0mx\u001b[0m \u001b[0;34m=\u001b[0m \u001b[0mtuple\u001b[0m\u001b[0;34m(\u001b[0m\u001b[0margs\u001b[0m\u001b[0;34m[\u001b[0m\u001b[0mi\u001b[0m\u001b[0;34m]\u001b[0m \u001b[0;32mfor\u001b[0m \u001b[0mi\u001b[0m \u001b[0;32min\u001b[0m \u001b[0margnum\u001b[0m\u001b[0;34m)\u001b[0m\u001b[0;34m\u001b[0m\u001b[0m\n\u001b[0;32m---> 20\u001b[0;31m             \u001b[0;32mreturn\u001b[0m \u001b[0munary_operator\u001b[0m\u001b[0;34m(\u001b[0m\u001b[0munary_f\u001b[0m\u001b[0;34m,\u001b[0m \u001b[0mx\u001b[0m\u001b[0;34m,\u001b[0m \u001b[0;34m*\u001b[0m\u001b[0mnary_op_args\u001b[0m\u001b[0;34m,\u001b[0m \u001b[0;34m**\u001b[0m\u001b[0mnary_op_kwargs\u001b[0m\u001b[0;34m)\u001b[0m\u001b[0;34m\u001b[0m\u001b[0m\n\u001b[0m\u001b[1;32m     21\u001b[0m         \u001b[0;32mreturn\u001b[0m \u001b[0mnary_f\u001b[0m\u001b[0;34m\u001b[0m\u001b[0m\n\u001b[1;32m     22\u001b[0m     \u001b[0;32mreturn\u001b[0m \u001b[0mnary_operator\u001b[0m\u001b[0;34m\u001b[0m\u001b[0m\n",
      "\u001b[0;32m~/Documents/BNP/autograd/autograd/differential_operators.py\u001b[0m in \u001b[0;36mjacobian\u001b[0;34m(fun, x)\u001b[0m\n\u001b[1;32m     54\u001b[0m     \u001b[0mjacobian_shape\u001b[0m \u001b[0;34m=\u001b[0m \u001b[0mans_vspace\u001b[0m\u001b[0;34m.\u001b[0m\u001b[0mshape\u001b[0m \u001b[0;34m+\u001b[0m \u001b[0mvspace\u001b[0m\u001b[0;34m(\u001b[0m\u001b[0mx\u001b[0m\u001b[0;34m)\u001b[0m\u001b[0;34m.\u001b[0m\u001b[0mshape\u001b[0m\u001b[0;34m\u001b[0m\u001b[0m\n\u001b[1;32m     55\u001b[0m     \u001b[0mgrads\u001b[0m \u001b[0;34m=\u001b[0m \u001b[0mmap\u001b[0m\u001b[0;34m(\u001b[0m\u001b[0mvjp\u001b[0m\u001b[0;34m,\u001b[0m \u001b[0mans_vspace\u001b[0m\u001b[0;34m.\u001b[0m\u001b[0mstandard_basis\u001b[0m\u001b[0;34m(\u001b[0m\u001b[0;34m)\u001b[0m\u001b[0;34m)\u001b[0m\u001b[0;34m\u001b[0m\u001b[0m\n\u001b[0;32m---> 56\u001b[0;31m     \u001b[0;32mreturn\u001b[0m \u001b[0mnp\u001b[0m\u001b[0;34m.\u001b[0m\u001b[0mreshape\u001b[0m\u001b[0;34m(\u001b[0m\u001b[0mnp\u001b[0m\u001b[0;34m.\u001b[0m\u001b[0mstack\u001b[0m\u001b[0;34m(\u001b[0m\u001b[0mgrads\u001b[0m\u001b[0;34m)\u001b[0m\u001b[0;34m,\u001b[0m \u001b[0mjacobian_shape\u001b[0m\u001b[0;34m)\u001b[0m\u001b[0;34m\u001b[0m\u001b[0m\n\u001b[0m\u001b[1;32m     57\u001b[0m \u001b[0;34m\u001b[0m\u001b[0m\n\u001b[1;32m     58\u001b[0m \u001b[0;34m@\u001b[0m\u001b[0munary_to_nary\u001b[0m\u001b[0;34m\u001b[0m\u001b[0m\n",
      "\u001b[0;32m~/Documents/BNP/autograd/autograd/numpy/numpy_wrapper.py\u001b[0m in \u001b[0;36mstack\u001b[0;34m(arrays, axis)\u001b[0m\n\u001b[1;32m     87\u001b[0m     \u001b[0;31m# primitives defined in this file\u001b[0m\u001b[0;34m\u001b[0m\u001b[0;34m\u001b[0m\u001b[0m\n\u001b[1;32m     88\u001b[0m \u001b[0;34m\u001b[0m\u001b[0m\n\u001b[0;32m---> 89\u001b[0;31m     \u001b[0marrays\u001b[0m \u001b[0;34m=\u001b[0m \u001b[0;34m[\u001b[0m\u001b[0marray\u001b[0m\u001b[0;34m(\u001b[0m\u001b[0marr\u001b[0m\u001b[0;34m)\u001b[0m \u001b[0;32mfor\u001b[0m \u001b[0marr\u001b[0m \u001b[0;32min\u001b[0m \u001b[0marrays\u001b[0m\u001b[0;34m]\u001b[0m\u001b[0;34m\u001b[0m\u001b[0m\n\u001b[0m\u001b[1;32m     90\u001b[0m     \u001b[0;32mif\u001b[0m \u001b[0;32mnot\u001b[0m \u001b[0marrays\u001b[0m\u001b[0;34m:\u001b[0m\u001b[0;34m\u001b[0m\u001b[0m\n\u001b[1;32m     91\u001b[0m         \u001b[0;32mraise\u001b[0m \u001b[0mValueError\u001b[0m\u001b[0;34m(\u001b[0m\u001b[0;34m'need at least one array to stack'\u001b[0m\u001b[0;34m)\u001b[0m\u001b[0;34m\u001b[0m\u001b[0m\n",
      "\u001b[0;32m~/Documents/BNP/autograd/autograd/numpy/numpy_wrapper.py\u001b[0m in \u001b[0;36m<listcomp>\u001b[0;34m(.0)\u001b[0m\n\u001b[1;32m     87\u001b[0m     \u001b[0;31m# primitives defined in this file\u001b[0m\u001b[0;34m\u001b[0m\u001b[0;34m\u001b[0m\u001b[0m\n\u001b[1;32m     88\u001b[0m \u001b[0;34m\u001b[0m\u001b[0m\n\u001b[0;32m---> 89\u001b[0;31m     \u001b[0marrays\u001b[0m \u001b[0;34m=\u001b[0m \u001b[0;34m[\u001b[0m\u001b[0marray\u001b[0m\u001b[0;34m(\u001b[0m\u001b[0marr\u001b[0m\u001b[0;34m)\u001b[0m \u001b[0;32mfor\u001b[0m \u001b[0marr\u001b[0m \u001b[0;32min\u001b[0m \u001b[0marrays\u001b[0m\u001b[0;34m]\u001b[0m\u001b[0;34m\u001b[0m\u001b[0m\n\u001b[0m\u001b[1;32m     90\u001b[0m     \u001b[0;32mif\u001b[0m \u001b[0;32mnot\u001b[0m \u001b[0marrays\u001b[0m\u001b[0;34m:\u001b[0m\u001b[0;34m\u001b[0m\u001b[0m\n\u001b[1;32m     91\u001b[0m         \u001b[0;32mraise\u001b[0m \u001b[0mValueError\u001b[0m\u001b[0;34m(\u001b[0m\u001b[0;34m'need at least one array to stack'\u001b[0m\u001b[0;34m)\u001b[0m\u001b[0;34m\u001b[0m\u001b[0m\n",
      "\u001b[0;32m~/Documents/BNP/autograd/autograd/core.py\u001b[0m in \u001b[0;36mvjp\u001b[0;34m(g)\u001b[0m\n\u001b[1;32m     12\u001b[0m         \u001b[0;32mdef\u001b[0m \u001b[0mvjp\u001b[0m\u001b[0;34m(\u001b[0m\u001b[0mg\u001b[0m\u001b[0;34m)\u001b[0m\u001b[0;34m:\u001b[0m \u001b[0;32mreturn\u001b[0m \u001b[0mvspace\u001b[0m\u001b[0;34m(\u001b[0m\u001b[0mx\u001b[0m\u001b[0;34m)\u001b[0m\u001b[0;34m.\u001b[0m\u001b[0mzeros\u001b[0m\u001b[0;34m(\u001b[0m\u001b[0;34m)\u001b[0m\u001b[0;34m\u001b[0m\u001b[0m\n\u001b[1;32m     13\u001b[0m     \u001b[0;32melse\u001b[0m\u001b[0;34m:\u001b[0m\u001b[0;34m\u001b[0m\u001b[0m\n\u001b[0;32m---> 14\u001b[0;31m         \u001b[0;32mdef\u001b[0m \u001b[0mvjp\u001b[0m\u001b[0;34m(\u001b[0m\u001b[0mg\u001b[0m\u001b[0;34m)\u001b[0m\u001b[0;34m:\u001b[0m \u001b[0;32mreturn\u001b[0m \u001b[0mbackward_pass\u001b[0m\u001b[0;34m(\u001b[0m\u001b[0mg\u001b[0m\u001b[0;34m,\u001b[0m \u001b[0mend_node\u001b[0m\u001b[0;34m)\u001b[0m\u001b[0;34m\u001b[0m\u001b[0m\n\u001b[0m\u001b[1;32m     15\u001b[0m     \u001b[0;32mreturn\u001b[0m \u001b[0mvjp\u001b[0m\u001b[0;34m,\u001b[0m \u001b[0mend_value\u001b[0m\u001b[0;34m\u001b[0m\u001b[0m\n\u001b[1;32m     16\u001b[0m \u001b[0;34m\u001b[0m\u001b[0m\n",
      "\u001b[0;32m~/Documents/BNP/autograd/autograd/core.py\u001b[0m in \u001b[0;36mbackward_pass\u001b[0;34m(g, end_node)\u001b[0m\n\u001b[1;32m     19\u001b[0m     \u001b[0;32mfor\u001b[0m \u001b[0mnode\u001b[0m \u001b[0;32min\u001b[0m \u001b[0mtoposort\u001b[0m\u001b[0;34m(\u001b[0m\u001b[0mend_node\u001b[0m\u001b[0;34m)\u001b[0m\u001b[0;34m:\u001b[0m\u001b[0;34m\u001b[0m\u001b[0m\n\u001b[1;32m     20\u001b[0m         \u001b[0moutgrad\u001b[0m \u001b[0;34m=\u001b[0m \u001b[0moutgrads\u001b[0m\u001b[0;34m.\u001b[0m\u001b[0mpop\u001b[0m\u001b[0;34m(\u001b[0m\u001b[0mnode\u001b[0m\u001b[0;34m)\u001b[0m\u001b[0;34m\u001b[0m\u001b[0m\n\u001b[0;32m---> 21\u001b[0;31m         \u001b[0mingrads\u001b[0m \u001b[0;34m=\u001b[0m \u001b[0mnode\u001b[0m\u001b[0;34m.\u001b[0m\u001b[0mvjp\u001b[0m\u001b[0;34m(\u001b[0m\u001b[0moutgrad\u001b[0m\u001b[0;34m[\u001b[0m\u001b[0;36m0\u001b[0m\u001b[0;34m]\u001b[0m\u001b[0;34m)\u001b[0m\u001b[0;34m\u001b[0m\u001b[0m\n\u001b[0m\u001b[1;32m     22\u001b[0m         \u001b[0;32mfor\u001b[0m \u001b[0mparent\u001b[0m\u001b[0;34m,\u001b[0m \u001b[0mingrad\u001b[0m \u001b[0;32min\u001b[0m \u001b[0mzip\u001b[0m\u001b[0;34m(\u001b[0m\u001b[0mnode\u001b[0m\u001b[0;34m.\u001b[0m\u001b[0mparents\u001b[0m\u001b[0;34m,\u001b[0m \u001b[0mingrads\u001b[0m\u001b[0;34m)\u001b[0m\u001b[0;34m:\u001b[0m\u001b[0;34m\u001b[0m\u001b[0m\n\u001b[1;32m     23\u001b[0m             \u001b[0moutgrads\u001b[0m\u001b[0;34m[\u001b[0m\u001b[0mparent\u001b[0m\u001b[0;34m]\u001b[0m \u001b[0;34m=\u001b[0m \u001b[0madd_outgrads\u001b[0m\u001b[0;34m(\u001b[0m\u001b[0moutgrads\u001b[0m\u001b[0;34m.\u001b[0m\u001b[0mget\u001b[0m\u001b[0;34m(\u001b[0m\u001b[0mparent\u001b[0m\u001b[0;34m)\u001b[0m\u001b[0;34m,\u001b[0m \u001b[0mingrad\u001b[0m\u001b[0;34m)\u001b[0m\u001b[0;34m\u001b[0m\u001b[0m\n",
      "\u001b[0;32m~/Documents/BNP/autograd/autograd/core.py\u001b[0m in \u001b[0;36m<lambda>\u001b[0;34m(g)\u001b[0m\n\u001b[1;32m     65\u001b[0m                     \"VJP of {} wrt argnum 0 not defined\".format(fun.__name__))\n\u001b[1;32m     66\u001b[0m             \u001b[0mvjp\u001b[0m \u001b[0;34m=\u001b[0m \u001b[0mvjpfun\u001b[0m\u001b[0;34m(\u001b[0m\u001b[0mans\u001b[0m\u001b[0;34m,\u001b[0m \u001b[0;34m*\u001b[0m\u001b[0margs\u001b[0m\u001b[0;34m,\u001b[0m \u001b[0;34m**\u001b[0m\u001b[0mkwargs\u001b[0m\u001b[0;34m)\u001b[0m\u001b[0;34m\u001b[0m\u001b[0m\n\u001b[0;32m---> 67\u001b[0;31m             \u001b[0;32mreturn\u001b[0m \u001b[0;32mlambda\u001b[0m \u001b[0mg\u001b[0m\u001b[0;34m:\u001b[0m \u001b[0;34m(\u001b[0m\u001b[0mvjp\u001b[0m\u001b[0;34m(\u001b[0m\u001b[0mg\u001b[0m\u001b[0;34m)\u001b[0m\u001b[0;34m,\u001b[0m\u001b[0;34m)\u001b[0m\u001b[0;34m\u001b[0m\u001b[0m\n\u001b[0m\u001b[1;32m     68\u001b[0m         \u001b[0;32melif\u001b[0m \u001b[0mL\u001b[0m \u001b[0;34m==\u001b[0m \u001b[0;36m2\u001b[0m\u001b[0;34m:\u001b[0m\u001b[0;34m\u001b[0m\u001b[0m\n\u001b[1;32m     69\u001b[0m             \u001b[0margnum_0\u001b[0m\u001b[0;34m,\u001b[0m \u001b[0margnum_1\u001b[0m \u001b[0;34m=\u001b[0m \u001b[0margnums\u001b[0m\u001b[0;34m\u001b[0m\u001b[0m\n",
      "\u001b[0;32m~/Documents/BNP/autograd/autograd/scipy/misc.py\u001b[0m in \u001b[0;36mvjp\u001b[0;34m(g)\u001b[0m\n\u001b[1;32m     12\u001b[0m         \u001b[0mg_repeated\u001b[0m\u001b[0;34m,\u001b[0m   \u001b[0m_\u001b[0m \u001b[0;34m=\u001b[0m \u001b[0mrepeat_to_match_shape\u001b[0m\u001b[0;34m(\u001b[0m\u001b[0mg\u001b[0m\u001b[0;34m,\u001b[0m   \u001b[0mshape\u001b[0m\u001b[0;34m,\u001b[0m \u001b[0mdtype\u001b[0m\u001b[0;34m,\u001b[0m \u001b[0maxis\u001b[0m\u001b[0;34m,\u001b[0m \u001b[0mkeepdims\u001b[0m\u001b[0;34m)\u001b[0m\u001b[0;34m\u001b[0m\u001b[0m\n\u001b[1;32m     13\u001b[0m         \u001b[0mans_repeated\u001b[0m\u001b[0;34m,\u001b[0m \u001b[0m_\u001b[0m \u001b[0;34m=\u001b[0m \u001b[0mrepeat_to_match_shape\u001b[0m\u001b[0;34m(\u001b[0m\u001b[0mans\u001b[0m\u001b[0;34m,\u001b[0m \u001b[0mshape\u001b[0m\u001b[0;34m,\u001b[0m \u001b[0mdtype\u001b[0m\u001b[0;34m,\u001b[0m \u001b[0maxis\u001b[0m\u001b[0;34m,\u001b[0m \u001b[0mkeepdims\u001b[0m\u001b[0;34m)\u001b[0m\u001b[0;34m\u001b[0m\u001b[0m\n\u001b[0;32m---> 14\u001b[0;31m         \u001b[0;32mreturn\u001b[0m \u001b[0mg_repeated\u001b[0m \u001b[0;34m*\u001b[0m \u001b[0mb\u001b[0m \u001b[0;34m*\u001b[0m \u001b[0manp\u001b[0m\u001b[0;34m.\u001b[0m\u001b[0mexp\u001b[0m\u001b[0;34m(\u001b[0m\u001b[0mx\u001b[0m \u001b[0;34m-\u001b[0m \u001b[0mans_repeated\u001b[0m\u001b[0;34m)\u001b[0m\u001b[0;34m\u001b[0m\u001b[0m\n\u001b[0m\u001b[1;32m     15\u001b[0m     \u001b[0;32mreturn\u001b[0m \u001b[0mvjp\u001b[0m\u001b[0;34m\u001b[0m\u001b[0m\n\u001b[1;32m     16\u001b[0m \u001b[0;34m\u001b[0m\u001b[0m\n",
      "\u001b[0;32m~/Documents/BNP/autograd/autograd/tracer.py\u001b[0m in \u001b[0;36mf_wrapped\u001b[0;34m(*args, **kwargs)\u001b[0m\n\u001b[1;32m     46\u001b[0m             \u001b[0;32mreturn\u001b[0m \u001b[0mnew_box\u001b[0m\u001b[0;34m(\u001b[0m\u001b[0mans\u001b[0m\u001b[0;34m,\u001b[0m \u001b[0mtrace\u001b[0m\u001b[0;34m,\u001b[0m \u001b[0mnode\u001b[0m\u001b[0;34m)\u001b[0m\u001b[0;34m\u001b[0m\u001b[0m\n\u001b[1;32m     47\u001b[0m         \u001b[0;32melse\u001b[0m\u001b[0;34m:\u001b[0m\u001b[0;34m\u001b[0m\u001b[0m\n\u001b[0;32m---> 48\u001b[0;31m             \u001b[0;32mreturn\u001b[0m \u001b[0mf_raw\u001b[0m\u001b[0;34m(\u001b[0m\u001b[0;34m*\u001b[0m\u001b[0margs\u001b[0m\u001b[0;34m,\u001b[0m \u001b[0;34m**\u001b[0m\u001b[0mkwargs\u001b[0m\u001b[0;34m)\u001b[0m\u001b[0;34m\u001b[0m\u001b[0m\n\u001b[0m\u001b[1;32m     49\u001b[0m     \u001b[0mf_wrapped\u001b[0m\u001b[0;34m.\u001b[0m\u001b[0mfun\u001b[0m \u001b[0;34m=\u001b[0m \u001b[0mf_raw\u001b[0m\u001b[0;34m\u001b[0m\u001b[0m\n\u001b[1;32m     50\u001b[0m     \u001b[0mf_wrapped\u001b[0m\u001b[0;34m.\u001b[0m\u001b[0m_is_autograd_primitive\u001b[0m \u001b[0;34m=\u001b[0m \u001b[0;32mTrue\u001b[0m\u001b[0;34m\u001b[0m\u001b[0m\n",
      "\u001b[0;31mKeyboardInterrupt\u001b[0m: "
     ]
    }
   ],
   "source": [
    "vb_opt_free_params = opt_lib.optimize_full(get_free_vb_params_loss_cached, init_vb_free_params,\n",
    "                    bfgs_max_iter = 0, netwon_max_iter = 50,\n",
    "                    max_precondition_iter = 10,\n",
    "                    gtol=1e-8, ftol=1e-8, xtol=1e-8)"
   ]
  },
  {
   "cell_type": "code",
   "execution_count": null,
   "metadata": {
    "collapsed": true
   },
   "outputs": [],
   "source": []
  }
 ],
 "metadata": {
  "kernelspec": {
   "display_name": "Python (genomics_bnp)",
   "language": "python",
   "name": "genomic_time_series_py35"
  },
  "language_info": {
   "codemirror_mode": {
    "name": "ipython",
    "version": 3
   },
   "file_extension": ".py",
   "mimetype": "text/x-python",
   "name": "python",
   "nbconvert_exporter": "python",
   "pygments_lexer": "ipython3",
   "version": "3.5.0"
  }
 },
 "nbformat": 4,
 "nbformat_minor": 2
}
