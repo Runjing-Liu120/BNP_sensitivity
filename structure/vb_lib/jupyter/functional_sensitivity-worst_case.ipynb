{
 "cells": [
  {
   "cell_type": "markdown",
   "metadata": {},
   "source": [
    "Here, we examine functional sensitivity of the structure model on a small simulated dataset"
   ]
  },
  {
   "cell_type": "code",
   "execution_count": 1,
   "metadata": {},
   "outputs": [
    {
     "name": "stderr",
     "output_type": "stream",
     "text": [
      "/accounts/grad/runjing_liu/.conda/envs/bnp_sensitivity_jax/lib/python3.8/site-packages/jax/lib/xla_bridge.py:130: UserWarning: No GPU/TPU found, falling back to CPU.\n",
      "  warnings.warn('No GPU/TPU found, falling back to CPU.')\n"
     ]
    }
   ],
   "source": [
    "import jax\n",
    "\n",
    "import jax.numpy as np\n",
    "import jax.scipy as sp\n",
    "from numpy.polynomial.hermite import hermgauss\n",
    "\n",
    "from vb_lib import structure_model_lib, data_utils, cavi_lib, plotting_utils\n",
    "import vb_lib.structure_optimization_lib as s_optim_lib\n",
    "from vb_lib.preconditioner_lib import get_mfvb_cov_matmul\n",
    "from bnpmodeling_runjingdev.sensitivity_lib import HyperparameterSensitivityLinearApproximation\n",
    "\n",
    "import paragami\n",
    "\n",
    "from copy import deepcopy\n",
    "\n",
    "import time\n",
    "\n",
    "import matplotlib.pyplot as plt\n",
    "%matplotlib inline  \n",
    "\n",
    "from bnpmodeling_runjingdev import influence_lib, modeling_lib\n",
    "import bnpmodeling_runjingdev.functional_sensitivity_lib as func_sens_lib\n",
    "import bnpmodeling_runjingdev.influence_lib "
   ]
  },
  {
   "cell_type": "code",
   "execution_count": 2,
   "metadata": {},
   "outputs": [],
   "source": [
    "import numpy as onp \n",
    "onp.random.seed(53453)"
   ]
  },
  {
   "cell_type": "markdown",
   "metadata": {},
   "source": [
    "# Draw data"
   ]
  },
  {
   "cell_type": "code",
   "execution_count": 3,
   "metadata": {},
   "outputs": [],
   "source": [
    "data_file = '../simulated_data/simulated_structure_data_nobs20_nloci50_npop4.npz'\n",
    "data = np.load(data_file)\n",
    "\n",
    "# the observations\n",
    "g_obs = np.array(data['g_obs'], dtype = int)\n",
    "\n",
    "n_obs = g_obs.shape[0]\n",
    "n_loci = g_obs.shape[1]\n",
    "\n",
    "# the ground truth \n",
    "true_ind_admix_propn = data['true_ind_admix_propn']"
   ]
  },
  {
   "cell_type": "code",
   "execution_count": 4,
   "metadata": {
    "scrolled": true
   },
   "outputs": [
    {
     "data": {
      "image/png": "[encoded data removed]",
      "text/plain": [
       "<Figure size 432x288 with 1 Axes>"
      ]
     },
     "metadata": {},
     "output_type": "display_data"
    }
   ],
   "source": [
    "fig, axarr = plt.subplots(1, 1)\n",
    "plotting_utils.plot_admixture(true_ind_admix_propn, axarr);"
   ]
  },
  {
   "cell_type": "code",
   "execution_count": null,
   "metadata": {},
   "outputs": [],
   "source": []
  },
  {
   "cell_type": "markdown",
   "metadata": {},
   "source": [
    "# Get prior"
   ]
  },
  {
   "cell_type": "code",
   "execution_count": 5,
   "metadata": {},
   "outputs": [
    {
     "name": "stdout",
     "output_type": "stream",
     "text": [
      "OrderedDict:\n",
      "\t[dp_prior_alpha] = NumericArrayPattern (1,) (lb=0.0, ub=inf)\n",
      "\t[allele_prior_alpha] = NumericArrayPattern (1,) (lb=0.0, ub=inf)\n",
      "\t[allele_prior_beta] = NumericArrayPattern (1,) (lb=0.0, ub=inf)\n"
     ]
    }
   ],
   "source": [
    "prior_params_dict, prior_params_paragami = \\\n",
    "    structure_model_lib.get_default_prior_params()\n",
    "\n",
    "print(prior_params_paragami)\n",
    "\n",
    "prior_params_free = prior_params_paragami.flatten(prior_params_dict, free = True)"
   ]
  },
  {
   "cell_type": "code",
   "execution_count": 6,
   "metadata": {},
   "outputs": [
    {
     "name": "stdout",
     "output_type": "stream",
     "text": [
      "{'dp_prior_alpha': DeviceArray([3.], dtype=float64), 'allele_prior_alpha': DeviceArray([1.], dtype=float64), 'allele_prior_beta': DeviceArray([1.], dtype=float64)}\n"
     ]
    }
   ],
   "source": [
    "print(prior_params_dict)"
   ]
  },
  {
   "cell_type": "code",
   "execution_count": null,
   "metadata": {},
   "outputs": [],
   "source": []
  },
  {
   "cell_type": "markdown",
   "metadata": {},
   "source": [
    "# Get VB params "
   ]
  },
  {
   "cell_type": "code",
   "execution_count": 7,
   "metadata": {},
   "outputs": [],
   "source": [
    "k_approx = 15"
   ]
  },
  {
   "cell_type": "code",
   "execution_count": 8,
   "metadata": {},
   "outputs": [],
   "source": [
    "gh_deg = 8\n",
    "gh_loc, gh_weights = hermgauss(8)"
   ]
  },
  {
   "cell_type": "code",
   "execution_count": 9,
   "metadata": {
    "scrolled": true
   },
   "outputs": [
    {
     "name": "stdout",
     "output_type": "stream",
     "text": [
      "OrderedDict:\n",
      "\t[pop_freq_beta_params] = NumericArrayPattern (50, 15, 2) (lb=0.0, ub=inf)\n",
      "\t[ind_admix_params] = OrderedDict:\n",
      "\t[stick_means] = NumericArrayPattern (20, 14) (lb=-inf, ub=inf)\n",
      "\t[stick_infos] = NumericArrayPattern (20, 14) (lb=0.0001, ub=inf)\n"
     ]
    }
   ],
   "source": [
    "use_logitnormal_sticks = True\n",
    "\n",
    "vb_params_dict, vb_params_paragami = \\\n",
    "    structure_model_lib.get_vb_params_paragami_object(n_obs, n_loci, k_approx,\n",
    "                                    use_logitnormal_sticks = use_logitnormal_sticks)\n",
    "    \n",
    "print(vb_params_paragami)"
   ]
  },
  {
   "cell_type": "markdown",
   "metadata": {},
   "source": [
    "## Initialize "
   ]
  },
  {
   "cell_type": "code",
   "execution_count": 10,
   "metadata": {},
   "outputs": [
    {
     "ename": "AttributeError",
     "evalue": "module 'vb_lib.structure_optimization_lib' has no attribute 'set_init_vb_params'",
     "output_type": "error",
     "traceback": [
      "\u001b[0;31m---------------------------------------------------------------------------\u001b[0m",
      "\u001b[0;31mAttributeError\u001b[0m                            Traceback (most recent call last)",
      "\u001b[0;32m<ipython-input-10-3c36718a4728>\u001b[0m in \u001b[0;36m<module>\u001b[0;34m\u001b[0m\n\u001b[1;32m      1\u001b[0m \u001b[0mvb_params_dict\u001b[0m \u001b[0;34m=\u001b[0m\u001b[0;31m \u001b[0m\u001b[0;31m\\\u001b[0m\u001b[0;34m\u001b[0m\u001b[0;34m\u001b[0m\u001b[0m\n\u001b[0;32m----> 2\u001b[0;31m         s_optim_lib.set_init_vb_params(g_obs, k_approx, vb_params_dict,\n\u001b[0m\u001b[1;32m      3\u001b[0m                                        \u001b[0mprior_params_dict\u001b[0m\u001b[0;34m,\u001b[0m\u001b[0;34m\u001b[0m\u001b[0;34m\u001b[0m\u001b[0m\n\u001b[1;32m      4\u001b[0m                                        \u001b[0mgh_loc\u001b[0m\u001b[0;34m,\u001b[0m \u001b[0mgh_weights\u001b[0m\u001b[0;34m,\u001b[0m\u001b[0;34m\u001b[0m\u001b[0;34m\u001b[0m\u001b[0m\n\u001b[1;32m      5\u001b[0m                                        seed = 34221)\n",
      "\u001b[0;31mAttributeError\u001b[0m: module 'vb_lib.structure_optimization_lib' has no attribute 'set_init_vb_params'"
     ]
    }
   ],
   "source": [
    "vb_params_dict = \\\n",
    "        s_optim_lib.set_init_vb_params(g_obs, k_approx, vb_params_dict,\n",
    "                                       prior_params_dict, \n",
    "                                       gh_loc, gh_weights,\n",
    "                                       seed = 34221)"
   ]
  },
  {
   "cell_type": "code",
   "execution_count": null,
   "metadata": {},
   "outputs": [],
   "source": []
  },
  {
   "cell_type": "markdown",
   "metadata": {},
   "source": [
    "# Optimize"
   ]
  },
  {
   "cell_type": "code",
   "execution_count": null,
   "metadata": {},
   "outputs": [],
   "source": [
    "from vb_lib.structure_optimization_lib import define_structure_objective\n",
    "from bnpmodeling_runjingdev.optimization_lib import run_lbfgs"
   ]
  },
  {
   "cell_type": "code",
   "execution_count": null,
   "metadata": {},
   "outputs": [],
   "source": [
    "optim_objective, init_vb_free = \\\n",
    "    define_structure_objective(g_obs, vb_params_dict,\n",
    "                        vb_params_paragami,\n",
    "                        prior_params_dict,\n",
    "                        gh_loc = gh_loc,\n",
    "                        gh_weights = gh_weights, \n",
    "                        compile_hvp=False)\n"
   ]
  },
  {
   "cell_type": "code",
   "execution_count": 11,
   "metadata": {},
   "outputs": [
    {
     "ename": "NameError",
     "evalue": "name 'run_lbfgs' is not defined",
     "output_type": "error",
     "traceback": [
      "\u001b[0;31m---------------------------------------------------------------------------\u001b[0m",
      "\u001b[0;31mNameError\u001b[0m                                 Traceback (most recent call last)",
      "\u001b[0;32m<ipython-input-11-b3fdd271c641>\u001b[0m in \u001b[0;36m<module>\u001b[0;34m\u001b[0m\n\u001b[0;32m----> 1\u001b[0;31m \u001b[0mout\u001b[0m \u001b[0;34m=\u001b[0m \u001b[0mrun_lbfgs\u001b[0m\u001b[0;34m(\u001b[0m\u001b[0moptim_objective\u001b[0m\u001b[0;34m,\u001b[0m \u001b[0minit_vb_free\u001b[0m\u001b[0;34m)\u001b[0m\u001b[0;34m\u001b[0m\u001b[0;34m\u001b[0m\u001b[0m\n\u001b[0m\u001b[1;32m      2\u001b[0m \u001b[0;34m\u001b[0m\u001b[0m\n\u001b[1;32m      3\u001b[0m \u001b[0mvb_opt\u001b[0m \u001b[0;34m=\u001b[0m \u001b[0mout\u001b[0m\u001b[0;34m.\u001b[0m\u001b[0mx\u001b[0m\u001b[0;34m\u001b[0m\u001b[0;34m\u001b[0m\u001b[0m\n\u001b[1;32m      4\u001b[0m \u001b[0mvb_opt_dict\u001b[0m \u001b[0;34m=\u001b[0m \u001b[0mvb_params_paragami\u001b[0m\u001b[0;34m.\u001b[0m\u001b[0mfold\u001b[0m\u001b[0;34m(\u001b[0m\u001b[0mvb_opt\u001b[0m\u001b[0;34m,\u001b[0m \u001b[0mfree\u001b[0m \u001b[0;34m=\u001b[0m \u001b[0;32mTrue\u001b[0m\u001b[0;34m)\u001b[0m\u001b[0;34m\u001b[0m\u001b[0;34m\u001b[0m\u001b[0m\n",
      "\u001b[0;31mNameError\u001b[0m: name 'run_lbfgs' is not defined"
     ]
    }
   ],
   "source": [
    "out = run_lbfgs(optim_objective, init_vb_free)\n",
    "\n",
    "vb_opt = out.x\n",
    "vb_opt_dict = vb_params_paragami.fold(vb_opt, free = True)\n"
   ]
  },
  {
   "cell_type": "markdown",
   "metadata": {},
   "source": [
    "# Check out the fit"
   ]
  },
  {
   "cell_type": "code",
   "execution_count": 12,
   "metadata": {},
   "outputs": [
    {
     "data": {
      "image/png": "[encoded data removed]",
      "text/plain": [
       "<Figure size 432x288 with 1 Axes>"
      ]
     },
     "metadata": {},
     "output_type": "display_data"
    }
   ],
   "source": [
    "# truth\n",
    "fig, axarr = plt.subplots(1, 1)\n",
    "plotting_utils.plot_admixture(true_ind_admix_propn, axarr);"
   ]
  },
  {
   "cell_type": "code",
   "execution_count": 17,
   "metadata": {},
   "outputs": [
    {
     "data": {
      "text/plain": [
       "Text(0.5, 0, 'individual')"
      ]
     },
     "execution_count": 17,
     "metadata": {},
     "output_type": "execute_result"
    },
    {
     "data": {
      "image/png": "[encoded data removed]",
      "text/plain": [
       "<Figure size 432x288 with 1 Axes>"
      ]
     },
     "metadata": {},
     "output_type": "display_data"
    }
   ],
   "source": [
    "# estimated \n",
    "\n",
    "e_ind_admix = plotting_utils.get_vb_expectations(vb_opt_dict, gh_loc, gh_weights)[0]\n",
    "\n",
    "fig, axarr = plt.subplots(1, 1)\n",
    "plotting_utils.plot_admixture(e_ind_admix, axarr);\n",
    "\n",
    "plt.ylabel('population')\n",
    "plt.xlabel('individual')"
   ]
  },
  {
   "cell_type": "code",
   "execution_count": null,
   "metadata": {},
   "outputs": [],
   "source": []
  },
  {
   "cell_type": "markdown",
   "metadata": {},
   "source": [
    "# Set up linear response derivatives"
   ]
  },
  {
   "cell_type": "code",
   "execution_count": 18,
   "metadata": {},
   "outputs": [],
   "source": [
    "# set up objective functions\n",
    "\n",
    "# this just returns the KL at epsilon = 0 \n",
    "# (no perturbation)\n",
    "# NOTE this function doesn't actually depend on epsilon\n",
    "# we can do this and set log_phi later because \n",
    "# the perturbation is multiplicative \n",
    "# (so the hessian at epsilon = 0 does not depend on the perturbation)\n",
    "get_vb_loss = paragami.FlattenFunctionInput(\n",
    "    lambda params, epsilon: structure_model_lib.get_kl(g_obs, \n",
    "                                            params,\n",
    "                                            prior_params_dict, \n",
    "                                            gh_loc,\n",
    "                                            gh_weights),\n",
    "    argnums=0, patterns=vb_params_paragami, free=True)\n",
    "\n",
    "\n",
    "# this is just a place holder for a null perturbation\n",
    "# will set this properly later\n",
    "hyper_par_objective_fun = lambda params, epsilon: 0.\n"
   ]
  },
  {
   "cell_type": "code",
   "execution_count": 19,
   "metadata": {},
   "outputs": [
    {
     "name": "stdout",
     "output_type": "stream",
     "text": [
      "Compiling ...\n",
      "Compile time: 83.2439sec\n",
      "\n"
     ]
    }
   ],
   "source": [
    "# set up linear approximation class\n",
    "epsilon0 = np.array([0.])\n",
    "\n",
    "epsilon_sens = \\\n",
    "    HyperparameterSensitivityLinearApproximation(\n",
    "        objective_fun = get_vb_loss, \n",
    "        opt_par_value = vb_opt, \n",
    "        hyper_par_value0 = epsilon0, \n",
    "        hyper_par_objective_fun = hyper_par_objective_fun)\n"
   ]
  },
  {
   "cell_type": "markdown",
   "metadata": {},
   "source": [
    "# Compute influence function"
   ]
  },
  {
   "cell_type": "code",
   "execution_count": 21,
   "metadata": {},
   "outputs": [],
   "source": [
    "# the influence function\n",
    "influence_operator = influence_lib.InfluenceOperator(vb_opt, \n",
    "                           vb_params_paragami, \n",
    "                           epsilon_sens.hessian_solver,\n",
    "                           prior_params_dict['dp_prior_alpha'], \n",
    "                           stick_key = 'ind_admix_params')"
   ]
  },
  {
   "cell_type": "markdown",
   "metadata": {},
   "source": [
    "### Define posterior quantity of interest"
   ]
  },
  {
   "cell_type": "code",
   "execution_count": 22,
   "metadata": {},
   "outputs": [],
   "source": [
    "def g(vb_free_params, vb_params_paragami): \n",
    "    \n",
    "    # key for random sampling. \n",
    "    # this is fixed! so all standard normal \n",
    "    # samples used in computing the posterior quantity \n",
    "    key = jax.random.PRNGKey(0)\n",
    "    \n",
    "    vb_params_dict = vb_params_paragami.fold(vb_free_params, free = True)\n",
    "    \n",
    "    stick_means = vb_params_dict['ind_admix_params']['stick_means']\n",
    "    stick_infos = vb_params_dict['ind_admix_params']['stick_infos']\n",
    "    \n",
    "    return structure_model_lib.get_e_num_pred_clusters(stick_means, stick_infos, gh_loc, gh_weights, \n",
    "                                                            key, n_samples = 10000)"
   ]
  },
  {
   "cell_type": "code",
   "execution_count": 23,
   "metadata": {},
   "outputs": [],
   "source": [
    "get_grad_g = jax.jacobian(g, argnums = 0)\n",
    "grad_g = get_grad_g(vb_opt, vb_params_paragami)"
   ]
  },
  {
   "cell_type": "markdown",
   "metadata": {},
   "source": [
    "### worst-case influence"
   ]
  },
  {
   "cell_type": "code",
   "execution_count": 24,
   "metadata": {},
   "outputs": [],
   "source": [
    "influence_fun = lambda logit_v : np.dot(grad_g,\n",
    "                                        influence_operator.get_influence(logit_v))"
   ]
  },
  {
   "cell_type": "code",
   "execution_count": 26,
   "metadata": {},
   "outputs": [],
   "source": [
    "worst_case_pert = influence_lib.WorstCasePerturbation(influence_fun)"
   ]
  },
  {
   "cell_type": "markdown",
   "metadata": {},
   "source": [
    "### Plot influence function"
   ]
  },
  {
   "cell_type": "code",
   "execution_count": 27,
   "metadata": {},
   "outputs": [
    {
     "data": {
      "image/png": "[encoded data removed]",
      "text/plain": [
       "<Figure size 1080x288 with 3 Axes>"
      ]
     },
     "metadata": {
      "needs_background": "light"
     },
     "output_type": "display_data"
    }
   ],
   "source": [
    "fig, ax = plt.subplots(1, 3, figsize = (15, 4)) \n",
    "ax[0].plot(worst_case_pert.logit_v_grid, worst_case_pert.influence_grid)\n",
    "ax[0].set_xlabel('logit v')\n",
    "ax[0].set_ylabel('Influence')\n",
    "\n",
    "ax[1].plot(worst_case_pert.v_grid, worst_case_pert.influence_grid)\n",
    "ax[1].set_xlabel('v')\n",
    "ax[1].set_ylabel('Influence')\n",
    "\n",
    "ax[2].plot(worst_case_pert.logit_v_grid, np.sign(worst_case_pert.influence_grid))\n",
    "ax[2].set_xlabel('logit v')\n",
    "ax[2].set_ylabel('sign(Influence)')\n",
    "\n",
    "fig.tight_layout()"
   ]
  },
  {
   "cell_type": "markdown",
   "metadata": {},
   "source": [
    "# Define prior perturbation"
   ]
  },
  {
   "cell_type": "code",
   "execution_count": 28,
   "metadata": {},
   "outputs": [],
   "source": [
    "# just for plotting only! \n",
    "# saves some time in computing the influence function\n",
    "# by doing a setp function interpolation\n",
    "def influence_fun_interp(logit_v): \n",
    "    # find index of logit_v_grid \n",
    "    # closest (on the left) to logit_v\n",
    "    indx = np.searchsorted(worst_case_pert.logit_v_grid, logit_v)\n",
    "    \n",
    "    # return the influence function at those points\n",
    "    return worst_case_pert.influence_grid[indx]\n",
    "\n",
    "# define log phi\n",
    "def log_phi(logit_v):\n",
    "    return(np.sign(influence_fun_interp(logit_v)))"
   ]
  },
  {
   "cell_type": "code",
   "execution_count": 29,
   "metadata": {},
   "outputs": [
    {
     "name": "stderr",
     "output_type": "stream",
     "text": [
      "/accounts/grad/runjing_liu/.conda/envs/bnp_sensitivity_jax/lib/python3.8/site-packages/scipy/integrate/quadrature.py:249: AccuracyWarning: maxiter (50) exceeded. Latest difference = 1.729731e-02\n",
      "  warnings.warn(\n"
     ]
    }
   ],
   "source": [
    "prior_perturbation = func_sens_lib.PriorPerturbation(\n",
    "                                alpha0 = prior_params_dict['dp_prior_alpha'],\n",
    "                                log_phi = log_phi, \n",
    "                                logit_v_ub = 10, \n",
    "                                logit_v_lb = -10)"
   ]
  },
  {
   "cell_type": "code",
   "execution_count": 30,
   "metadata": {},
   "outputs": [
    {
     "data": {
      "text/plain": [
       "Text(0.5, 1.0, 'Priors in logit space')"
      ]
     },
     "execution_count": 30,
     "metadata": {},
     "output_type": "execute_result"
    },
    {
     "data": {
      "image/png": "[encoded data removed]",
      "text/plain": [
       "<Figure size 1296x360 with 4 Axes>"
      ]
     },
     "metadata": {
      "needs_background": "light"
     },
     "output_type": "display_data"
    }
   ],
   "source": [
    "prior_perturbation.set_epsilon(1.0)\n",
    "\n",
    "logit_v_grid = worst_case_pert.logit_v_grid\n",
    "v_grid = sp.special.expit(logit_v_grid)\n",
    "\n",
    "plt.figure(1, figsize=(18, 5))\n",
    "\n",
    "plt.subplot(141)\n",
    "plt.plot(logit_v_grid, prior_perturbation.get_log_p0_logit(logit_v_grid))\n",
    "plt.plot(logit_v_grid, prior_perturbation.get_log_pc_logit(logit_v_grid))\n",
    "plt.title('Log priors in logit space')\n",
    "\n",
    "plt.subplot(142)\n",
    "plt.plot(logit_v_grid, prior_perturbation.log_phi(logit_v_grid))\n",
    "plt.title('log phi in logit space')\n",
    "\n",
    "plt.subplot(143)\n",
    "plt.plot(v_grid, np.exp(prior_perturbation.get_log_p0(v_grid)))\n",
    "plt.plot(v_grid, np.exp(prior_perturbation.get_log_pc(v_grid)))\n",
    "plt.title('Priors in stick space')\n",
    "\n",
    "plt.subplot(144)\n",
    "plt.plot(logit_v_grid, np.exp(prior_perturbation.get_log_p0_logit(logit_v_grid)))\n",
    "plt.plot(logit_v_grid, np.exp(prior_perturbation.get_log_pc_logit(logit_v_grid)))\n",
    "plt.title('Priors in logit space')\n"
   ]
  },
  {
   "cell_type": "code",
   "execution_count": 38,
   "metadata": {},
   "outputs": [],
   "source": [
    "def get_e_log_perturbation(means, infos, epsilon): \n",
    "    return epsilon * worst_case_pert.get_e_log_linf_perturbation(means.flatten(), \n",
    "                                                                 infos.flatten())"
   ]
  },
  {
   "cell_type": "code",
   "execution_count": 39,
   "metadata": {},
   "outputs": [],
   "source": [
    "def _hyper_par_objective_fun(params, epsilon): \n",
    "    \n",
    "    means = params['ind_admix_params']['stick_means']\n",
    "    infos = params['ind_admix_params']['stick_infos']\n",
    "    \n",
    "    return - get_e_log_perturbation(means, infos, epsilon)\n",
    "\n",
    "# the terms of the KL objective that depend on epsilon \n",
    "hyper_par_objective_fun = paragami.FlattenFunctionInput(_hyper_par_objective_fun,\n",
    "                                                        argnums=0, \n",
    "                                                        patterns=vb_params_paragami,\n",
    "                                                        free = True)\n"
   ]
  },
  {
   "cell_type": "markdown",
   "metadata": {},
   "source": [
    "# Get derivative for prior perturbation"
   ]
  },
  {
   "cell_type": "code",
   "execution_count": 40,
   "metadata": {},
   "outputs": [],
   "source": [
    "epsilon_sens._set_cross_hess(hyper_par_objective_fun)\n",
    "epsilon_sens._set_dinput_dhyper()"
   ]
  },
  {
   "cell_type": "code",
   "execution_count": 41,
   "metadata": {},
   "outputs": [
    {
     "name": "stdout",
     "output_type": "stream",
     "text": [
      "Epsilon:  1.0\n",
      "Predicted differences:  26.740133172944528\n"
     ]
    }
   ],
   "source": [
    "epsilon = 1.0\n",
    "print('Epsilon: ', epsilon)\n",
    "\n",
    "lr_vb_free_params = epsilon_sens.predict_opt_par_from_hyper_par(epsilon)\n",
    "\n",
    "print('Predicted differences: ', np.linalg.norm(lr_vb_free_params - vb_opt))"
   ]
  },
  {
   "cell_type": "code",
   "execution_count": 42,
   "metadata": {},
   "outputs": [],
   "source": [
    "vb_pert_pred_dict = vb_params_paragami.fold(lr_vb_free_params, free = True)"
   ]
  },
  {
   "cell_type": "markdown",
   "metadata": {},
   "source": [
    "# Re-optimize"
   ]
  },
  {
   "cell_type": "code",
   "execution_count": 43,
   "metadata": {},
   "outputs": [],
   "source": [
    "new_init_dict = deepcopy(vb_opt_dict)\n",
    "new_init_free = vb_params_paragami.flatten(new_init_dict, free = True)"
   ]
  },
  {
   "cell_type": "code",
   "execution_count": 46,
   "metadata": {},
   "outputs": [
    {
     "name": "stdout",
     "output_type": "stream",
     "text": [
      "Compiling objective ...\n",
      "Iter 0: f = 1929.23650541\n",
      "Compiling grad ...\n",
      "Compile time: 11.7475secs\n"
     ]
    }
   ],
   "source": [
    "optim_objective_pert, _ = \\\n",
    "    define_structure_objective(g_obs, new_init_dict,\n",
    "                        vb_params_paragami,\n",
    "                        prior_params_dict,\n",
    "                        gh_loc = gh_loc,\n",
    "                        gh_weights = gh_weights,\n",
    "                        e_log_phi = lambda means, infos : \\\n",
    "                                           get_e_log_perturbation(means, infos, epsilon),\n",
    "                        compile_hvp=False)\n"
   ]
  },
  {
   "cell_type": "code",
   "execution_count": 47,
   "metadata": {},
   "outputs": [
    {
     "name": "stdout",
     "output_type": "stream",
     "text": [
      "\n",
      "Running L-BFGS-B ... \n",
      "Iter 0: f = 1929.23650541\n",
      "Iter 1: f = 1918.92613145\n",
      "Iter 2: f = 1920.60335444\n",
      "Iter 3: f = 1903.79969551\n",
      "Iter 4: f = 1890.01405614\n",
      "Iter 5: f = 1872.85613734\n",
      "Iter 6: f = 1859.30251600\n",
      "Iter 7: f = 1853.91261335\n",
      "Iter 8: f = 1850.05154876\n",
      "Iter 9: f = 1847.90208291\n",
      "Iter 10: f = 1846.10165255\n",
      "Iter 11: f = 1843.40223701\n",
      "Iter 12: f = 1841.62679578\n",
      "Iter 13: f = 1840.59515860\n",
      "Iter 14: f = 1840.11916434\n",
      "Iter 15: f = 1839.89911600\n",
      "Iter 16: f = 1839.72409184\n",
      "Iter 17: f = 1839.47429993\n",
      "Iter 18: f = 1839.24683555\n",
      "Iter 19: f = 1838.98370669\n",
      "Iter 20: f = 1838.79189110\n",
      "Iter 21: f = 1838.68717646\n",
      "Iter 22: f = 1838.63109252\n",
      "Iter 23: f = 1838.61323877\n",
      "Iter 24: f = 1838.57192042\n",
      "Iter 25: f = 1838.52126571\n",
      "Iter 26: f = 1838.54103490\n",
      "Iter 27: f = 1838.49609605\n",
      "Iter 28: f = 1838.46738431\n",
      "Iter 29: f = 1838.45195099\n",
      "Iter 30: f = 1838.43785934\n",
      "Iter 31: f = 1838.39946361\n",
      "Iter 32: f = 1838.41356076\n",
      "Iter 33: f = 1838.37178762\n",
      "Iter 34: f = 1838.33161459\n",
      "Iter 35: f = 1838.27028513\n",
      "Iter 36: f = 1838.22785729\n",
      "Iter 37: f = 1838.17941737\n",
      "Iter 38: f = 1838.09206457\n",
      "Iter 39: f = 1838.26598287\n",
      "Iter 40: f = 1838.06155060\n",
      "Iter 41: f = 1838.02150693\n",
      "Iter 42: f = 1838.00704132\n",
      "Iter 43: f = 1837.98370389\n",
      "Iter 44: f = 1837.97728577\n",
      "Iter 45: f = 1837.96665990\n",
      "Iter 46: f = 1837.96235318\n",
      "Iter 47: f = 1837.95905320\n",
      "Iter 48: f = 1837.95773062\n",
      "Iter 49: f = 1837.95679271\n",
      "Iter 50: f = 1837.95628694\n",
      "Iter 51: f = 1837.95546473\n",
      "Iter 52: f = 1837.95524537\n",
      "Iter 53: f = 1837.95475780\n",
      "Iter 54: f = 1837.95445849\n",
      "Iter 55: f = 1837.95437902\n",
      "Iter 56: f = 1837.95425737\n",
      "Iter 57: f = 1837.95421168\n",
      "Iter 58: f = 1837.95414062\n",
      "Iter 59: f = 1837.95409634\n",
      "Iter 60: f = 1837.95406271\n",
      "Iter 61: f = 1837.95405122\n",
      "Iter 62: f = 1837.95404559\n",
      "Iter 63: f = 1837.95404021\n",
      "Iter 64: f = 1837.95403517\n",
      "Iter 65: f = 1837.95403154\n",
      "done. Elapsed 1.42807secs\n",
      "Iter 66: f = 1837.95403154\n",
      "objective value:  1837.9540315392662\n"
     ]
    }
   ],
   "source": [
    "out = run_lbfgs(optim_objective_pert, new_init_free)\n",
    "\n",
    "vb_opt_pert = out.x\n",
    "vb_pert_dict = vb_params_paragami.fold(vb_opt_pert, free = True)"
   ]
  },
  {
   "cell_type": "code",
   "execution_count": 48,
   "metadata": {},
   "outputs": [
    {
     "data": {
      "text/plain": [
       "DeviceArray(20.5884474, dtype=float64)"
      ]
     },
     "execution_count": 48,
     "metadata": {},
     "output_type": "execute_result"
    }
   ],
   "source": [
    "np.linalg.norm(vb_opt_pert - vb_opt)"
   ]
  },
  {
   "cell_type": "code",
   "execution_count": null,
   "metadata": {},
   "outputs": [],
   "source": []
  },
  {
   "cell_type": "markdown",
   "metadata": {},
   "source": [
    "### compare"
   ]
  },
  {
   "cell_type": "code",
   "execution_count": 49,
   "metadata": {},
   "outputs": [],
   "source": [
    "def print_diff_plot(lr_vb_free_params, vb_opt_pert, vb_opt): \n",
    "    plt.plot((lr_vb_free_params - vb_opt), \n",
    "             vb_opt_pert - vb_opt, \n",
    "             '+', color = 'red')\n",
    "\n",
    "    plt.plot(lr_vb_free_params - vb_opt, \n",
    "            lr_vb_free_params - vb_opt, \n",
    "             '-', color = 'blue')\n",
    "\n",
    "    plt.xlabel('lr')\n",
    "    plt.ylabel('re-optimized')\n"
   ]
  },
  {
   "cell_type": "code",
   "execution_count": 50,
   "metadata": {},
   "outputs": [
    {
     "data": {
      "image/png": "[encoded data removed]",
      "text/plain": [
       "<Figure size 432x288 with 1 Axes>"
      ]
     },
     "metadata": {
      "needs_background": "light"
     },
     "output_type": "display_data"
    }
   ],
   "source": [
    "# compare free parameters\n",
    "print_diff_plot(lr_vb_free_params, vb_opt_pert, vb_opt)"
   ]
  },
  {
   "cell_type": "code",
   "execution_count": 51,
   "metadata": {},
   "outputs": [
    {
     "name": "stdout",
     "output_type": "stream",
     "text": [
      "init number of cluster:  3.7411003422078095\n",
      "pert number of cluster:  3.4294780870433663\n",
      "lr number of cluster:  3.234438679004914\n"
     ]
    }
   ],
   "source": [
    "print('init number of cluster: ', g(vb_opt, vb_params_paragami))\n",
    "\n",
    "print('pert number of cluster: ', g(vb_opt_pert, vb_params_paragami))\n",
    "print('lr number of cluster: ', g(lr_vb_free_params, vb_params_paragami))"
   ]
  },
  {
   "cell_type": "code",
   "execution_count": null,
   "metadata": {},
   "outputs": [],
   "source": []
  },
  {
   "cell_type": "code",
   "execution_count": null,
   "metadata": {},
   "outputs": [],
   "source": []
  },
  {
   "cell_type": "code",
   "execution_count": null,
   "metadata": {},
   "outputs": [],
   "source": []
  },
  {
   "cell_type": "markdown",
   "metadata": {},
   "source": [
    "# Fit for a range of epsilon"
   ]
  },
  {
   "cell_type": "code",
   "execution_count": 52,
   "metadata": {},
   "outputs": [
    {
     "name": "stdout",
     "output_type": "stream",
     "text": [
      "[0.         0.02040816 0.08163265 0.18367347 0.32653061 0.51020408\n",
      " 0.73469388 1.        ]\n"
     ]
    }
   ],
   "source": [
    "epsilon_list = np.linspace(0, 1, 8) ** 2 # Square to get more points close to 0\n",
    "print(epsilon_list)"
   ]
  },
  {
   "cell_type": "code",
   "execution_count": 54,
   "metadata": {},
   "outputs": [],
   "source": [
    "def refit_with_epsilon(epsilon, new_init_dict):\n",
    "    # sets new epsilon, returns new vb optimum\n",
    "    \n",
    "    optim_objective_pert, new_init_free = \\\n",
    "        define_structure_objective(g_obs, new_init_dict,\n",
    "                            vb_params_paragami,\n",
    "                            prior_params_dict,\n",
    "                            gh_loc = gh_loc,\n",
    "                            gh_weights = gh_weights,\n",
    "                            e_log_phi = lambda means, infos : \\\n",
    "                                           get_e_log_perturbation(means, infos, epsilon),\n",
    "                            compile_hvp=False)\n",
    "    \n",
    "    out = run_lbfgs(optim_objective_pert, new_init_free)\n",
    "        \n",
    "    return out.x\n"
   ]
  },
  {
   "cell_type": "code",
   "execution_count": 55,
   "metadata": {},
   "outputs": [
    {
     "name": "stdout",
     "output_type": "stream",
     "text": [
      "epsilons:  [0.         0.02040816 0.08163265 0.18367347 0.32653061 0.51020408\n",
      " 0.73469388 1.        ]\n"
     ]
    }
   ],
   "source": [
    "print('epsilons: ', epsilon_list)"
   ]
  },
  {
   "cell_type": "code",
   "execution_count": 56,
   "metadata": {},
   "outputs": [
    {
     "name": "stdout",
     "output_type": "stream",
     "text": [
      "\n",
      " re-optimzing with epsilon =  0.0\n",
      "Compiling objective ...\n",
      "Iter 0: f = 1830.09680291\n",
      "Compiling grad ...\n",
      "Compile time: 12.1212secs\n",
      "\n",
      "Running L-BFGS-B ... \n",
      "Iter 0: f = 1830.09680291\n",
      "Iter 1: f = 1832.47363604\n",
      "Iter 2: f = 1830.09680172\n",
      "done. Elapsed 0.081913secs\n",
      "Iter 3: f = 1830.09680172\n",
      "objective value:  1830.0968017205576\n",
      "\n",
      " re-optimzing with epsilon =  0.02040816326530612\n",
      "Compiling objective ...\n",
      "Iter 0: f = 1832.12006214\n",
      "Compiling grad ...\n",
      "Compile time: 11.8436secs\n",
      "\n",
      "Running L-BFGS-B ... \n",
      "Iter 0: f = 1832.12006214\n",
      "Iter 1: f = 1832.87166112\n",
      "Iter 2: f = 1832.10662962\n",
      "Iter 3: f = 1832.09806558\n",
      "Iter 4: f = 1832.08937821\n",
      "Iter 5: f = 1832.08166026\n",
      "Iter 6: f = 1832.07836124\n",
      "Iter 7: f = 1832.07648084\n",
      "Iter 8: f = 1832.07614941\n",
      "Iter 9: f = 1832.07535209\n",
      "Iter 10: f = 1832.07522062\n",
      "Iter 11: f = 1832.07502798\n",
      "Iter 12: f = 1832.07494601\n",
      "Iter 13: f = 1832.07483046\n",
      "Iter 14: f = 1832.07469741\n",
      "Iter 15: f = 1832.07475647\n",
      "Iter 16: f = 1832.07463979\n",
      "Iter 17: f = 1832.07457735\n",
      "Iter 18: f = 1832.07454445\n",
      "Iter 19: f = 1832.07451293\n",
      "Iter 20: f = 1832.07449186\n",
      "Iter 21: f = 1832.07446385\n",
      "Iter 22: f = 1832.07444773\n",
      "Iter 23: f = 1832.07443266\n",
      "Iter 24: f = 1832.07441224\n",
      "Iter 25: f = 1832.07441818\n",
      "Iter 26: f = 1832.07440500\n",
      "Iter 27: f = 1832.07440142\n",
      "done. Elapsed 0.614085secs\n",
      "Iter 28: f = 1832.07440142\n",
      "objective value:  1832.0744014224103\n",
      "\n",
      " re-optimzing with epsilon =  0.08163265306122448\n",
      "Compiling objective ...\n",
      "Iter 0: f = 1838.18983984\n",
      "Compiling grad ...\n",
      "Compile time: 11.8364secs\n",
      "\n",
      "Running L-BFGS-B ... \n",
      "Iter 0: f = 1838.18983984\n",
      "Iter 1: f = 1838.24778015\n",
      "Iter 2: f = 1837.97280021\n",
      "Iter 3: f = 1837.83698725\n",
      "Iter 4: f = 1837.70667668\n",
      "Iter 5: f = 1837.56460511\n",
      "Iter 6: f = 1837.53773508\n",
      "Iter 7: f = 1837.49329949\n",
      "Iter 8: f = 1837.48827727\n",
      "Iter 9: f = 1837.47393813\n",
      "Iter 10: f = 1837.47244283\n",
      "Iter 11: f = 1837.46822274\n",
      "Iter 12: f = 1837.46620012\n",
      "Iter 13: f = 1837.46371817\n",
      "Iter 14: f = 1837.46044905\n",
      "Iter 15: f = 1837.46039015\n",
      "Iter 16: f = 1837.45861155\n",
      "Iter 17: f = 1837.45614364\n",
      "Iter 18: f = 1837.45508431\n",
      "Iter 19: f = 1837.45436957\n",
      "Iter 20: f = 1837.45380783\n",
      "Iter 21: f = 1837.45330195\n",
      "Iter 22: f = 1837.45286453\n",
      "Iter 23: f = 1837.45256253\n",
      "Iter 24: f = 1837.45234742\n",
      "Iter 25: f = 1837.45221399\n",
      "Iter 26: f = 1837.45212709\n",
      "Iter 27: f = 1837.45203634\n",
      "Iter 28: f = 1837.45200522\n",
      "Iter 29: f = 1837.45197205\n",
      "Iter 30: f = 1837.45195679\n",
      "Iter 31: f = 1837.45193492\n",
      "Iter 32: f = 1837.45191111\n",
      "Iter 33: f = 1837.45190353\n",
      "Iter 34: f = 1837.45188628\n",
      "Iter 35: f = 1837.45188215\n",
      "Iter 36: f = 1837.45187716\n",
      "Iter 37: f = 1837.45187787\n",
      "Iter 38: f = 1837.45187482\n",
      "done. Elapsed 0.855488secs\n",
      "Iter 39: f = 1837.45187482\n",
      "objective value:  1837.451874815601\n",
      "\n",
      " re-optimzing with epsilon =  0.18367346938775508\n",
      "Compiling objective ...\n",
      "Iter 0: f = 1848.30613602\n",
      "Compiling grad ...\n",
      "Compile time: 11.8205secs\n",
      "\n",
      "Running L-BFGS-B ... \n",
      "Iter 0: f = 1848.30613602\n",
      "Iter 1: f = 1847.21170041\n",
      "Iter 2: f = 1846.53927533\n",
      "Iter 3: f = 1845.89899498\n",
      "Iter 4: f = 1845.09379088\n",
      "Iter 5: f = 1845.02635023\n",
      "Iter 6: f = 1844.76880593\n",
      "Iter 7: f = 1844.72117027\n",
      "Iter 8: f = 1844.59790751\n",
      "Iter 9: f = 1844.55207623\n",
      "Iter 10: f = 1844.51509922\n",
      "Iter 11: f = 1844.49598108\n",
      "Iter 12: f = 1844.47092188\n",
      "Iter 13: f = 1844.45399338\n",
      "Iter 14: f = 1844.43353614\n",
      "Iter 15: f = 1844.42274738\n",
      "Iter 16: f = 1844.41506697\n",
      "Iter 17: f = 1844.41324143\n",
      "Iter 18: f = 1844.41054640\n",
      "Iter 19: f = 1844.40995846\n",
      "Iter 20: f = 1844.40884756\n",
      "Iter 21: f = 1844.40946749\n",
      "Iter 22: f = 1844.40861357\n",
      "Iter 23: f = 1844.40843591\n",
      "Iter 24: f = 1844.40831271\n",
      "Iter 25: f = 1844.40821206\n",
      "Iter 26: f = 1844.40814934\n",
      "Iter 27: f = 1844.40812244\n",
      "Iter 28: f = 1844.40809744\n",
      "Iter 29: f = 1844.40808040\n",
      "Iter 30: f = 1844.40806770\n",
      "Iter 31: f = 1844.40806182\n",
      "Iter 32: f = 1844.40805823\n",
      "done. Elapsed 0.732139secs\n",
      "Iter 33: f = 1844.40805823\n",
      "objective value:  1844.408058234357\n",
      "\n",
      " re-optimzing with epsilon =  0.32653061224489793\n",
      "Compiling objective ...\n",
      "Iter 0: f = 1862.46895066\n",
      "Compiling grad ...\n",
      "Compile time: 12.1308secs\n",
      "\n",
      "Running L-BFGS-B ... \n",
      "Iter 0: f = 1862.46895066\n",
      "Iter 1: f = 1859.76162954\n",
      "Iter 2: f = 1857.61065537\n",
      "Iter 3: f = 1855.42345832\n",
      "Iter 4: f = 1853.09444557\n",
      "Iter 5: f = 1852.37939444\n",
      "Iter 6: f = 1851.52803015\n",
      "Iter 7: f = 1851.34514720\n",
      "Iter 8: f = 1851.07931200\n",
      "Iter 9: f = 1850.91146298\n",
      "Iter 10: f = 1850.82424473\n",
      "Iter 11: f = 1850.76784399\n",
      "Iter 12: f = 1850.74713520\n",
      "Iter 13: f = 1850.71402093\n",
      "Iter 14: f = 1850.69816474\n",
      "Iter 15: f = 1850.68303180\n",
      "Iter 16: f = 1850.67850958\n",
      "Iter 17: f = 1850.67124003\n",
      "Iter 18: f = 1850.66550821\n",
      "Iter 19: f = 1850.66001880\n",
      "Iter 20: f = 1850.65758096\n",
      "Iter 21: f = 1850.65608316\n",
      "Iter 22: f = 1850.65504580\n",
      "Iter 23: f = 1850.65412294\n",
      "Iter 24: f = 1850.65343156\n",
      "Iter 25: f = 1850.65283546\n",
      "Iter 26: f = 1850.65256176\n",
      "Iter 27: f = 1850.65196880\n",
      "Iter 28: f = 1850.65185404\n",
      "Iter 29: f = 1850.65170054\n",
      "Iter 30: f = 1850.65163651\n",
      "Iter 31: f = 1850.65150959\n",
      "Iter 32: f = 1850.65147473\n",
      "Iter 33: f = 1850.65143726\n",
      "Iter 34: f = 1850.65139271\n",
      "Iter 35: f = 1850.65139469\n",
      "Iter 36: f = 1850.65137108\n",
      "Iter 37: f = 1850.65135222\n",
      "Iter 38: f = 1850.65134218\n",
      "Iter 39: f = 1850.65133115\n",
      "Iter 40: f = 1850.65132308\n",
      "Iter 41: f = 1850.65131553\n",
      "Iter 42: f = 1850.65131130\n",
      "Iter 43: f = 1850.65130822\n",
      "done. Elapsed 0.953632secs\n",
      "Iter 44: f = 1850.65130822\n",
      "objective value:  1850.6513082178028\n",
      "\n",
      " re-optimzing with epsilon =  0.5102040816326531\n",
      "Compiling objective ...\n",
      "Iter 0: f = 1880.67828377\n",
      "Compiling grad ...\n",
      "Compile time: 11.8756secs\n",
      "\n",
      "Running L-BFGS-B ... \n",
      "Iter 0: f = 1880.67828377\n",
      "Iter 1: f = 1875.89737065\n",
      "Iter 2: f = 1872.73395829\n",
      "Iter 3: f = 1866.09285608\n",
      "Iter 4: f = 1861.78656067\n",
      "Iter 5: f = 1858.12393846\n",
      "Iter 6: f = 1856.96435376\n",
      "Iter 7: f = 1855.56584829\n",
      "Iter 8: f = 1855.07505239\n",
      "Iter 9: f = 1854.74678857\n",
      "Iter 10: f = 1854.29596815\n",
      "Iter 11: f = 1854.17433425\n",
      "Iter 12: f = 1853.99496278\n",
      "Iter 13: f = 1853.93225938\n",
      "Iter 14: f = 1853.88801326\n",
      "Iter 15: f = 1853.85219417\n",
      "Iter 16: f = 1853.80510037\n",
      "Iter 17: f = 1853.77805613\n",
      "Iter 18: f = 1853.74795022\n",
      "Iter 19: f = 1853.72881952\n",
      "Iter 20: f = 1853.69518014\n",
      "Iter 21: f = 1853.68605970\n",
      "Iter 22: f = 1853.67859594\n",
      "Iter 23: f = 1853.66909898\n",
      "Iter 24: f = 1853.66140061\n",
      "Iter 25: f = 1853.65453980\n",
      "Iter 26: f = 1853.64948963\n",
      "Iter 27: f = 1853.64534745\n",
      "Iter 28: f = 1853.64240425\n",
      "Iter 29: f = 1853.63960517\n",
      "Iter 30: f = 1853.63831359\n",
      "Iter 31: f = 1853.63674052\n",
      "Iter 32: f = 1853.63580021\n",
      "Iter 33: f = 1853.63373326\n",
      "Iter 34: f = 1853.63288925\n",
      "Iter 35: f = 1853.63176848\n",
      "Iter 36: f = 1853.63033562\n",
      "Iter 37: f = 1853.62939770\n",
      "Iter 38: f = 1853.62858904\n",
      "Iter 39: f = 1853.62824084\n",
      "Iter 40: f = 1853.62786079\n",
      "Iter 41: f = 1853.62776800\n",
      "Iter 42: f = 1853.62703465\n",
      "Iter 43: f = 1853.62683325\n",
      "Iter 44: f = 1853.62650420\n",
      "Iter 45: f = 1853.62615819\n",
      "Iter 46: f = 1853.62619540\n",
      "Iter 47: f = 1853.62600451\n",
      "Iter 48: f = 1853.62591301\n",
      "Iter 49: f = 1853.62585414\n",
      "Iter 50: f = 1853.62578853\n",
      "Iter 51: f = 1853.62572468\n",
      "Iter 52: f = 1853.62567118\n",
      "Iter 53: f = 1853.62562968\n",
      "Iter 54: f = 1853.62560766\n",
      "Iter 55: f = 1853.62558835\n",
      "Iter 56: f = 1853.62557848\n",
      "Iter 57: f = 1853.62556998\n",
      "Iter 58: f = 1853.62555849\n",
      "Iter 59: f = 1853.62555173\n",
      "Iter 60: f = 1853.62554480\n",
      "Iter 61: f = 1853.62553843\n",
      "Iter 62: f = 1853.62553044\n",
      "Iter 63: f = 1853.62552075\n",
      "Iter 64: f = 1853.62550902\n",
      "Iter 65: f = 1853.62550036\n",
      "Iter 66: f = 1853.62549268\n",
      "Iter 67: f = 1853.62547986\n",
      "Iter 68: f = 1853.62547367\n",
      "Iter 69: f = 1853.62546028\n",
      "Iter 70: f = 1853.62545239\n",
      "Iter 71: f = 1853.62544305\n",
      "Iter 72: f = 1853.62543478\n",
      "Iter 73: f = 1853.62542380\n",
      "Iter 74: f = 1853.62542045\n",
      "done. Elapsed 1.61063secs\n",
      "Iter 75: f = 1853.62542045\n",
      "objective value:  1853.6254204519987\n",
      "\n",
      " re-optimzing with epsilon =  0.7346938775510203\n",
      "Compiling objective ...\n",
      "Iter 0: f = 1902.93413536\n",
      "Compiling grad ...\n",
      "Compile time: 11.9095secs\n",
      "\n",
      "Running L-BFGS-B ... \n",
      "Iter 0: f = 1902.93413536\n",
      "Iter 1: f = 1895.61887660\n",
      "Iter 2: f = 1895.33667718\n",
      "Iter 3: f = 1877.48701525\n",
      "Iter 4: f = 1871.14475263\n",
      "Iter 5: f = 1863.94301955\n",
      "Iter 6: f = 1858.98028025\n",
      "Iter 7: f = 1856.74227504\n",
      "Iter 8: f = 1855.42524520\n",
      "Iter 9: f = 1857.66934734\n",
      "Iter 10: f = 1853.98944298\n",
      "Iter 11: f = 1853.09745508\n",
      "Iter 12: f = 1852.37585498\n",
      "Iter 13: f = 1851.93321256\n",
      "Iter 14: f = 1851.49779185\n",
      "Iter 15: f = 1851.29528309\n",
      "Iter 16: f = 1851.20603379\n",
      "Iter 17: f = 1851.10428835\n",
      "Iter 18: f = 1851.01207412\n",
      "Iter 19: f = 1850.92120314\n",
      "Iter 20: f = 1850.80960291\n",
      "Iter 21: f = 1850.70964322\n",
      "Iter 22: f = 1850.65689874\n",
      "Iter 23: f = 1850.62769159\n",
      "Iter 24: f = 1850.61425587\n",
      "Iter 25: f = 1850.59108851\n",
      "Iter 26: f = 1850.57093499\n",
      "Iter 27: f = 1850.55281822\n",
      "Iter 28: f = 1850.53900966\n"
     ]
    },
    {
     "name": "stdout",
     "output_type": "stream",
     "text": [
      "Iter 29: f = 1850.52937640\n",
      "Iter 30: f = 1850.51972610\n",
      "Iter 31: f = 1850.50793372\n",
      "Iter 32: f = 1850.49701453\n",
      "Iter 33: f = 1850.48729275\n",
      "Iter 34: f = 1850.47716429\n",
      "Iter 35: f = 1850.46485245\n",
      "Iter 36: f = 1850.45401364\n",
      "Iter 37: f = 1850.44372554\n",
      "Iter 38: f = 1850.43428576\n",
      "Iter 39: f = 1850.42698208\n",
      "Iter 40: f = 1850.41829514\n",
      "Iter 41: f = 1850.41445701\n",
      "Iter 42: f = 1850.40756903\n",
      "Iter 43: f = 1850.39723829\n",
      "Iter 44: f = 1850.38944497\n",
      "Iter 45: f = 1850.38244179\n",
      "Iter 46: f = 1850.37738296\n",
      "Iter 47: f = 1850.37493038\n",
      "Iter 48: f = 1850.37331165\n",
      "Iter 49: f = 1850.37268807\n",
      "Iter 50: f = 1850.37212198\n",
      "Iter 51: f = 1850.37140525\n",
      "Iter 52: f = 1850.37085849\n",
      "Iter 53: f = 1850.37047255\n",
      "Iter 54: f = 1850.36991638\n",
      "Iter 55: f = 1850.36883683\n",
      "Iter 56: f = 1850.36492454\n",
      "Iter 57: f = 1850.37247348\n",
      "Iter 58: f = 1850.36156435\n",
      "Iter 59: f = 1850.35662973\n",
      "Iter 60: f = 1850.34811868\n",
      "Iter 61: f = 1850.31874182\n",
      "Iter 62: f = 1850.30035594\n",
      "Iter 63: f = 1850.29489453\n",
      "Iter 64: f = 1850.27439772\n",
      "Iter 65: f = 1850.26114749\n",
      "Iter 66: f = 1850.25430622\n",
      "Iter 67: f = 1850.24806495\n",
      "Iter 68: f = 1850.24330328\n",
      "Iter 69: f = 1850.24204765\n",
      "Iter 70: f = 1850.24038327\n",
      "Iter 71: f = 1850.23997350\n",
      "Iter 72: f = 1850.23935116\n",
      "Iter 73: f = 1850.23948883\n",
      "Iter 74: f = 1850.23904640\n",
      "Iter 75: f = 1850.23879263\n",
      "Iter 76: f = 1850.23860362\n",
      "Iter 77: f = 1850.23842051\n",
      "Iter 78: f = 1850.23836577\n",
      "Iter 79: f = 1850.23828902\n",
      "Iter 80: f = 1850.23824969\n",
      "Iter 81: f = 1850.23820357\n",
      "Iter 82: f = 1850.23816780\n",
      "Iter 83: f = 1850.23814993\n",
      "Iter 84: f = 1850.23814038\n",
      "Iter 85: f = 1850.23813580\n",
      "Iter 86: f = 1850.23813209\n",
      "done. Elapsed 1.84958secs\n",
      "Iter 87: f = 1850.23813209\n",
      "objective value:  1850.2381320885504\n",
      "\n",
      " re-optimzing with epsilon =  1.0\n",
      "Compiling objective ...\n",
      "Iter 0: f = 1929.23650541\n",
      "Compiling grad ...\n",
      "Compile time: 11.8916secs\n",
      "\n",
      "Running L-BFGS-B ... \n",
      "Iter 0: f = 1929.23650541\n",
      "Iter 1: f = 1918.92613145\n",
      "Iter 2: f = 1920.60335444\n",
      "Iter 3: f = 1903.79969551\n",
      "Iter 4: f = 1890.01405614\n",
      "Iter 5: f = 1872.85613734\n",
      "Iter 6: f = 1859.30251600\n",
      "Iter 7: f = 1853.91261335\n",
      "Iter 8: f = 1850.05154876\n",
      "Iter 9: f = 1847.90208291\n",
      "Iter 10: f = 1846.10165255\n",
      "Iter 11: f = 1843.40223701\n",
      "Iter 12: f = 1841.62679578\n",
      "Iter 13: f = 1840.59515860\n",
      "Iter 14: f = 1840.11916434\n",
      "Iter 15: f = 1839.89911600\n",
      "Iter 16: f = 1839.72409184\n",
      "Iter 17: f = 1839.47429993\n",
      "Iter 18: f = 1839.24683555\n",
      "Iter 19: f = 1838.98370669\n",
      "Iter 20: f = 1838.79189110\n",
      "Iter 21: f = 1838.68717646\n",
      "Iter 22: f = 1838.63109252\n",
      "Iter 23: f = 1838.61323877\n",
      "Iter 24: f = 1838.57192042\n",
      "Iter 25: f = 1838.52126571\n",
      "Iter 26: f = 1838.54103490\n",
      "Iter 27: f = 1838.49609605\n",
      "Iter 28: f = 1838.46738431\n",
      "Iter 29: f = 1838.45195099\n",
      "Iter 30: f = 1838.43785934\n",
      "Iter 31: f = 1838.39946361\n",
      "Iter 32: f = 1838.41356076\n",
      "Iter 33: f = 1838.37178762\n",
      "Iter 34: f = 1838.33161459\n",
      "Iter 35: f = 1838.27028513\n",
      "Iter 36: f = 1838.22785729\n",
      "Iter 37: f = 1838.17941737\n",
      "Iter 38: f = 1838.09206457\n",
      "Iter 39: f = 1838.26598287\n",
      "Iter 40: f = 1838.06155060\n",
      "Iter 41: f = 1838.02150693\n",
      "Iter 42: f = 1838.00704132\n",
      "Iter 43: f = 1837.98370389\n",
      "Iter 44: f = 1837.97728577\n",
      "Iter 45: f = 1837.96665990\n",
      "Iter 46: f = 1837.96235318\n",
      "Iter 47: f = 1837.95905320\n",
      "Iter 48: f = 1837.95773062\n",
      "Iter 49: f = 1837.95679271\n",
      "Iter 50: f = 1837.95628694\n",
      "Iter 51: f = 1837.95546473\n",
      "Iter 52: f = 1837.95524537\n",
      "Iter 53: f = 1837.95475780\n",
      "Iter 54: f = 1837.95445849\n",
      "Iter 55: f = 1837.95437902\n",
      "Iter 56: f = 1837.95425737\n",
      "Iter 57: f = 1837.95421168\n",
      "Iter 58: f = 1837.95414062\n",
      "Iter 59: f = 1837.95409634\n",
      "Iter 60: f = 1837.95406271\n",
      "Iter 61: f = 1837.95405122\n",
      "Iter 62: f = 1837.95404559\n",
      "Iter 63: f = 1837.95404021\n",
      "Iter 64: f = 1837.95403517\n",
      "Iter 65: f = 1837.95403154\n",
      "done. Elapsed 1.41937secs\n",
      "Iter 66: f = 1837.95403154\n",
      "objective value:  1837.9540315392662\n"
     ]
    }
   ],
   "source": [
    "vb_pert_list = []\n",
    "for epsilon in epsilon_list: \n",
    "    print('\\n re-optimzing with epsilon = ', epsilon)\n",
    "    \n",
    "    vb_pert_list.append(refit_with_epsilon(epsilon, new_init_dict))\n"
   ]
  },
  {
   "cell_type": "code",
   "execution_count": null,
   "metadata": {},
   "outputs": [],
   "source": []
  },
  {
   "cell_type": "markdown",
   "metadata": {},
   "source": [
    "# Check free parameters"
   ]
  },
  {
   "cell_type": "code",
   "execution_count": 57,
   "metadata": {},
   "outputs": [],
   "source": [
    "lr_list = []\n",
    "\n",
    "for epsilon in epsilon_list: \n",
    "    \n",
    "    # get linear response\n",
    "    lr_list.append(epsilon_sens.predict_opt_par_from_hyper_par(epsilon))\n"
   ]
  },
  {
   "cell_type": "code",
   "execution_count": 58,
   "metadata": {},
   "outputs": [
    {
     "data": {
      "image/png": "[encoded data removed]",
      "text/plain": [
       "<Figure size 432x288 with 1 Axes>"
      ]
     },
     "metadata": {
      "needs_background": "light"
     },
     "output_type": "display_data"
    },
    {
     "data": {
      "image/png": "[encoded data removed]",
      "text/plain": [
       "<Figure size 432x288 with 1 Axes>"
      ]
     },
     "metadata": {
      "needs_background": "light"
     },
     "output_type": "display_data"
    },
    {
     "data": {
      "image/png": "[encoded data removed]",
      "text/plain": [
       "<Figure size 432x288 with 1 Axes>"
      ]
     },
     "metadata": {
      "needs_background": "light"
     },
     "output_type": "display_data"
    },
    {
     "data": {
      "image/png": "[encoded data removed]",
      "text/plain": [
       "<Figure size 432x288 with 1 Axes>"
      ]
     },
     "metadata": {
      "needs_background": "light"
     },
     "output_type": "display_data"
    },
    {
     "data": {
      "image/png": "[encoded data removed]",
      "text/plain": [
       "<Figure size 432x288 with 1 Axes>"
      ]
     },
     "metadata": {
      "needs_background": "light"
     },
     "output_type": "display_data"
    },
    {
     "data": {
      "image/png": "[encoded data removed]",
      "text/plain": [
       "<Figure size 432x288 with 1 Axes>"
      ]
     },
     "metadata": {
      "needs_background": "light"
     },
     "output_type": "display_data"
    },
    {
     "data": {
      "image/png": "[encoded data removed]",
      "text/plain": [
       "<Figure size 432x288 with 1 Axes>"
      ]
     },
     "metadata": {
      "needs_background": "light"
     },
     "output_type": "display_data"
    },
    {
     "data": {
      "image/png": "[encoded data removed]",
      "text/plain": [
       "<Figure size 432x288 with 1 Axes>"
      ]
     },
     "metadata": {
      "needs_background": "light"
     },
     "output_type": "display_data"
    }
   ],
   "source": [
    "for i in range(len(epsilon_list)): \n",
    "    plt.figure()\n",
    "    print_diff_plot(lr_list[i], vb_pert_list[i], vb_opt)\n",
    "    \n",
    "    plt.title('epsilon = {}'.format(epsilon_list[i]))\n"
   ]
  },
  {
   "cell_type": "markdown",
   "metadata": {},
   "source": [
    "# Number of clusters"
   ]
  },
  {
   "cell_type": "code",
   "execution_count": 62,
   "metadata": {},
   "outputs": [],
   "source": [
    "lr_e_num_clusters_vec = onp.zeros(len(epsilon_list))\n",
    "refit_e_num_clusters_vec = onp.zeros(len(epsilon_list))\n",
    "\n",
    "for i in range(len(epsilon_list)): \n",
    "        \n",
    "    # get number of clusters\n",
    "    refit_e_num_clusters_vec[i] = g(vb_pert_list[i], vb_params_paragami)\n",
    "    lr_e_num_clusters_vec[i] = g(lr_list[i], vb_params_paragami)\n"
   ]
  },
  {
   "cell_type": "code",
   "execution_count": 63,
   "metadata": {
    "scrolled": true
   },
   "outputs": [
    {
     "data": {
      "text/plain": [
       "<matplotlib.legend.Legend at 0x7fcbf1e25040>"
      ]
     },
     "execution_count": 63,
     "metadata": {},
     "output_type": "execute_result"
    },
    {
     "data": {
      "image/png": "[encoded data removed]",
      "text/plain": [
       "<Figure size 432x288 with 1 Axes>"
      ]
     },
     "metadata": {
      "needs_background": "light"
     },
     "output_type": "display_data"
    }
   ],
   "source": [
    "plt.plot(epsilon_list, lr_e_num_clusters_vec, '+--')\n",
    "plt.plot(epsilon_list, refit_e_num_clusters_vec, '+-')\n",
    "\n",
    "plt.xlabel('epsilon')\n",
    "plt.ylabel('num posterior clusters')\n",
    "plt.legend(('lr', 'refit'))\n"
   ]
  },
  {
   "cell_type": "code",
   "execution_count": null,
   "metadata": {},
   "outputs": [],
   "source": []
  },
  {
   "cell_type": "code",
   "execution_count": null,
   "metadata": {},
   "outputs": [],
   "source": []
  },
  {
   "cell_type": "code",
   "execution_count": null,
   "metadata": {},
   "outputs": [],
   "source": []
  },
  {
   "cell_type": "raw",
   "metadata": {},
   "source": [
    "stick_propn_mean = vb_params_dict['ind_mix_stick_propn_mean']\n",
    "stick_propn_info = vb_params_dict['ind_mix_stick_propn_info']"
   ]
  },
  {
   "cell_type": "raw",
   "metadata": {},
   "source": [
    "foo1 = modeling_lib.get_e_func_logit_stick_vec(\n",
    "        stick_propn_mean, stick_propn_info,\n",
    "        gh_loc, gh_weights, \n",
    "        log_prior_pert)"
   ]
  },
  {
   "cell_type": "raw",
   "metadata": {},
   "source": [
    "foo2 = func_sens_lib.get_e_log_perturbation(log_prior_pert, stick_propn_mean, stick_propn_info, 1,\n",
    "                                    gh_loc, gh_weights, sum_vector = False)"
   ]
  },
  {
   "cell_type": "raw",
   "metadata": {},
   "source": [
    "import LinearResponseVariationalBayes.ExponentialFamilies as ef\n"
   ]
  },
  {
   "cell_type": "raw",
   "metadata": {},
   "source": [
    "e_phi = np.array([\n",
    "        ef.get_e_fun_normal(\n",
    "            stick_propn_mean[k], stick_propn_info[k], \\\n",
    "            gh_loc, gh_weights, log_prior_pert)\n",
    "        for k in range(len(stick_propn_mean))\n",
    "    ])"
   ]
  },
  {
   "cell_type": "raw",
   "metadata": {},
   "source": [
    "assert np.all(e_phi == -foo2)\n",
    "assert np.all(foo1 == -foo2)"
   ]
  },
  {
   "cell_type": "raw",
   "metadata": {},
   "source": [
    "foo3 = ef.get_e_fun_normal(\n",
    "            stick_propn_mean, stick_propn_info, \\\n",
    "            gh_loc, gh_weights, log_prior_pert)"
   ]
  },
  {
   "cell_type": "raw",
   "metadata": {},
   "source": [
    "assert np.all(foo3 == foo1)"
   ]
  }
 ],
 "metadata": {
  "kernelspec": {
   "display_name": "bnp_sensitivity_jax",
   "language": "python",
   "name": "bnp_sensitivity_jax"
  },
  "language_info": {
   "codemirror_mode": {
    "name": "ipython",
    "version": 3
   },
   "file_extension": ".py",
   "mimetype": "text/x-python",
   "name": "python",
   "nbconvert_exporter": "python",
   "pygments_lexer": "ipython3",
   "version": "3.8.0"
  }
 },
 "nbformat": 4,
 "nbformat_minor": 4
}
