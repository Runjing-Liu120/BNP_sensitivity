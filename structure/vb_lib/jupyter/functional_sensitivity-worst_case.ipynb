{
 "cells": [
  {
   "cell_type": "markdown",
   "metadata": {},
   "source": [
    "Here, we examine functional sensitivity of the structure model on a small simulated dataset"
   ]
  },
  {
   "cell_type": "code",
   "execution_count": 37,
   "metadata": {},
   "outputs": [],
   "source": [
    "import jax\n",
    "\n",
    "import jax.numpy as np\n",
    "import jax.scipy as sp\n",
    "from numpy.polynomial.hermite import hermgauss\n",
    "\n",
    "from vb_lib import structure_model_lib, data_utils, cavi_lib, plotting_utils\n",
    "import vb_lib.structure_optimization_lib as s_optim_lib\n",
    "from vb_lib.preconditioner_lib import get_mfvb_cov_matmul\n",
    "from bnpmodeling_runjingdev.sensitivity_lib import HyperparameterSensitivityLinearApproximation\n",
    "\n",
    "import paragami\n",
    "\n",
    "from copy import deepcopy\n",
    "\n",
    "import time\n",
    "\n",
    "import matplotlib.pyplot as plt\n",
    "%matplotlib inline  \n",
    "\n",
    "from bnpmodeling_runjingdev import cluster_quantities_lib, modeling_lib\n",
    "import bnpmodeling_runjingdev.functional_sensitivity_lib as func_sens_lib\n"
   ]
  },
  {
   "cell_type": "code",
   "execution_count": 2,
   "metadata": {},
   "outputs": [],
   "source": [
    "import numpy as onp \n",
    "onp.random.seed(53453)"
   ]
  },
  {
   "cell_type": "markdown",
   "metadata": {},
   "source": [
    "# Draw data"
   ]
  },
  {
   "cell_type": "code",
   "execution_count": 3,
   "metadata": {},
   "outputs": [],
   "source": [
    "data_file = '../simulated_data/simulated_structure_data_nobs20_nloci50_npop4.npz'\n",
    "data = np.load(data_file)\n",
    "\n",
    "# the observations\n",
    "g_obs = np.array(data['g_obs'], dtype = int)\n",
    "\n",
    "n_obs = g_obs.shape[0]\n",
    "n_loci = g_obs.shape[1]\n",
    "\n",
    "# the ground truth \n",
    "true_ind_admix_propn = data['true_ind_admix_propn']"
   ]
  },
  {
   "cell_type": "code",
   "execution_count": 4,
   "metadata": {
    "scrolled": true
   },
   "outputs": [
    {
     "data": {
      "image/png": "[encoded data removed]",
      "text/plain": [
       "<Figure size 432x288 with 1 Axes>"
      ]
     },
     "metadata": {},
     "output_type": "display_data"
    }
   ],
   "source": [
    "fig, axarr = plt.subplots(1, 1)\n",
    "plotting_utils.plot_admixture(true_ind_admix_propn, axarr);"
   ]
  },
  {
   "cell_type": "code",
   "execution_count": null,
   "metadata": {},
   "outputs": [],
   "source": []
  },
  {
   "cell_type": "markdown",
   "metadata": {},
   "source": [
    "# Get prior"
   ]
  },
  {
   "cell_type": "code",
   "execution_count": 5,
   "metadata": {},
   "outputs": [
    {
     "name": "stdout",
     "output_type": "stream",
     "text": [
      "OrderedDict:\n",
      "\t[dp_prior_alpha] = NumericArrayPattern (1,) (lb=0.0, ub=inf)\n",
      "\t[allele_prior_alpha] = NumericArrayPattern (1,) (lb=0.0, ub=inf)\n",
      "\t[allele_prior_beta] = NumericArrayPattern (1,) (lb=0.0, ub=inf)\n"
     ]
    }
   ],
   "source": [
    "prior_params_dict, prior_params_paragami = \\\n",
    "    structure_model_lib.get_default_prior_params()\n",
    "\n",
    "print(prior_params_paragami)\n",
    "\n",
    "prior_params_free = prior_params_paragami.flatten(prior_params_dict, free = True)"
   ]
  },
  {
   "cell_type": "code",
   "execution_count": 6,
   "metadata": {},
   "outputs": [
    {
     "name": "stdout",
     "output_type": "stream",
     "text": [
      "{'dp_prior_alpha': DeviceArray([3.], dtype=float64), 'allele_prior_alpha': DeviceArray([1.], dtype=float64), 'allele_prior_beta': DeviceArray([1.], dtype=float64)}\n"
     ]
    }
   ],
   "source": [
    "print(prior_params_dict)"
   ]
  },
  {
   "cell_type": "code",
   "execution_count": null,
   "metadata": {},
   "outputs": [],
   "source": []
  },
  {
   "cell_type": "markdown",
   "metadata": {},
   "source": [
    "# Get VB params "
   ]
  },
  {
   "cell_type": "code",
   "execution_count": 7,
   "metadata": {},
   "outputs": [],
   "source": [
    "k_approx = 15"
   ]
  },
  {
   "cell_type": "code",
   "execution_count": 8,
   "metadata": {},
   "outputs": [],
   "source": [
    "gh_deg = 8\n",
    "gh_loc, gh_weights = hermgauss(8)"
   ]
  },
  {
   "cell_type": "code",
   "execution_count": 9,
   "metadata": {
    "scrolled": true
   },
   "outputs": [
    {
     "name": "stdout",
     "output_type": "stream",
     "text": [
      "OrderedDict:\n",
      "\t[pop_freq_beta_params] = NumericArrayPattern (50, 15, 2) (lb=0.0, ub=inf)\n",
      "\t[ind_admix_params] = OrderedDict:\n",
      "\t[stick_means] = NumericArrayPattern (20, 14) (lb=-inf, ub=inf)\n",
      "\t[stick_infos] = NumericArrayPattern (20, 14) (lb=0.0001, ub=inf)\n"
     ]
    }
   ],
   "source": [
    "use_logitnormal_sticks = True\n",
    "\n",
    "vb_params_dict, vb_params_paragami = \\\n",
    "    structure_model_lib.get_vb_params_paragami_object(n_obs, n_loci, k_approx,\n",
    "                                    use_logitnormal_sticks = use_logitnormal_sticks)\n",
    "    \n",
    "print(vb_params_paragami)"
   ]
  },
  {
   "cell_type": "markdown",
   "metadata": {},
   "source": [
    "## Initialize "
   ]
  },
  {
   "cell_type": "code",
   "execution_count": 10,
   "metadata": {},
   "outputs": [
    {
     "name": "stdout",
     "output_type": "stream",
     "text": [
      "running NMF ...\n",
      "running a few cavi steps for pop beta ...\n",
      "done. Elapsed: 6.36399\n"
     ]
    }
   ],
   "source": [
    "vb_params_dict = \\\n",
    "        s_optim_lib.set_init_vb_params(g_obs, k_approx, vb_params_dict,\n",
    "                                       prior_params_dict, \n",
    "                                       gh_loc, gh_weights,\n",
    "                                       seed = 34221)"
   ]
  },
  {
   "cell_type": "code",
   "execution_count": null,
   "metadata": {},
   "outputs": [],
   "source": []
  },
  {
   "cell_type": "markdown",
   "metadata": {},
   "source": [
    "# Optimize"
   ]
  },
  {
   "cell_type": "code",
   "execution_count": 11,
   "metadata": {},
   "outputs": [],
   "source": [
    "from vb_lib.structure_optimization_lib import define_structure_objective\n",
    "from bnpmodeling_runjingdev.optimization_lib import run_lbfgs"
   ]
  },
  {
   "cell_type": "code",
   "execution_count": 12,
   "metadata": {},
   "outputs": [
    {
     "name": "stdout",
     "output_type": "stream",
     "text": [
      "Compiling objective ...\n",
      "Iter 0: f = 2649.80027944\n",
      "Compiling grad ...\n",
      "Compile time: 13.0288secs\n"
     ]
    }
   ],
   "source": [
    "optim_objective, init_vb_free = \\\n",
    "    define_structure_objective(g_obs, vb_params_dict,\n",
    "                        vb_params_paragami,\n",
    "                        prior_params_dict,\n",
    "                        gh_loc = gh_loc,\n",
    "                        gh_weights = gh_weights, \n",
    "                        compile_hvp=False)\n"
   ]
  },
  {
   "cell_type": "code",
   "execution_count": 13,
   "metadata": {},
   "outputs": [
    {
     "name": "stdout",
     "output_type": "stream",
     "text": [
      "\n",
      "Running L-BFGS-B ... \n",
      "Iter 0: f = 2649.80027944\n",
      "Iter 1: f = 2598.72662706\n",
      "Iter 2: f = 2429.98449137\n",
      "Iter 3: f = 2215.09446543\n",
      "Iter 4: f = 2172.51855120\n",
      "Iter 5: f = 2128.22542216\n",
      "Iter 6: f = 2109.04048577\n",
      "Iter 7: f = 2097.68655302\n",
      "Iter 8: f = 2084.22580864\n",
      "Iter 9: f = 2062.57361836\n",
      "Iter 10: f = 3118.52269311\n",
      "Iter 11: f = 2055.83801356\n",
      "Iter 12: f = 2038.38357807\n",
      "Iter 13: f = 2019.12416478\n",
      "Iter 14: f = 1981.92884239\n",
      "Iter 15: f = 1950.52627517\n",
      "Iter 16: f = 1932.19338483\n",
      "Iter 17: f = 1917.96007706\n",
      "Iter 18: f = 1908.09165508\n",
      "Iter 19: f = 1898.29864704\n",
      "Iter 20: f = 1887.97459621\n",
      "Iter 21: f = 1880.04413778\n",
      "Iter 22: f = 1872.53542887\n",
      "Iter 23: f = 1868.79083225\n",
      "Iter 24: f = 1864.02600484\n",
      "Iter 25: f = 1860.06376122\n",
      "Iter 26: f = 1853.29145336\n",
      "Iter 27: f = 1848.12843031\n",
      "Iter 28: f = 1845.52800570\n",
      "Iter 29: f = 1843.39777796\n",
      "Iter 30: f = 1842.52447319\n",
      "Iter 31: f = 1841.95575664\n",
      "Iter 32: f = 1841.60306624\n",
      "Iter 33: f = 1841.31770810\n",
      "Iter 34: f = 1841.05169490\n",
      "Iter 35: f = 1840.85032325\n",
      "Iter 36: f = 1840.70323362\n",
      "Iter 37: f = 1840.59417749\n",
      "Iter 38: f = 1840.34031375\n",
      "Iter 39: f = 1839.90683768\n",
      "Iter 40: f = 1839.00959150\n",
      "Iter 41: f = 1844.46971202\n",
      "Iter 42: f = 1836.87776149\n",
      "Iter 43: f = 1840.18132754\n",
      "Iter 44: f = 1835.89830714\n",
      "Iter 45: f = 1834.83309016\n",
      "Iter 46: f = 1834.77581886\n",
      "Iter 47: f = 1834.02057215\n",
      "Iter 48: f = 1833.17771822\n",
      "Iter 49: f = 1832.59468150\n",
      "Iter 50: f = 1832.24395950\n",
      "Iter 51: f = 1831.93942518\n",
      "Iter 52: f = 1831.79340510\n",
      "Iter 53: f = 1831.60337924\n",
      "Iter 54: f = 1831.53947328\n",
      "Iter 55: f = 1831.33810404\n",
      "Iter 56: f = 1831.23883267\n",
      "Iter 57: f = 1831.09826363\n",
      "Iter 58: f = 1830.93352935\n",
      "Iter 59: f = 1830.89736134\n",
      "Iter 60: f = 1830.82954500\n",
      "Iter 61: f = 1830.67575156\n",
      "Iter 62: f = 1830.60858542\n",
      "Iter 63: f = 1830.50971770\n",
      "Iter 64: f = 1830.43086330\n",
      "Iter 65: f = 1830.34898725\n",
      "Iter 66: f = 1830.31586087\n",
      "Iter 67: f = 1830.25355357\n",
      "Iter 68: f = 1830.22058826\n",
      "Iter 69: f = 1830.19408021\n",
      "Iter 70: f = 1830.18172185\n",
      "Iter 71: f = 1830.14756079\n",
      "Iter 72: f = 1830.13837784\n",
      "Iter 73: f = 1830.12623197\n",
      "Iter 74: f = 1830.11998282\n",
      "Iter 75: f = 1830.11156739\n",
      "Iter 76: f = 1830.10874610\n",
      "Iter 77: f = 1830.10586716\n",
      "Iter 78: f = 1830.10219203\n",
      "Iter 79: f = 1830.10411722\n",
      "Iter 80: f = 1830.10078103\n",
      "Iter 81: f = 1830.09967647\n",
      "Iter 82: f = 1830.09902870\n",
      "Iter 83: f = 1830.09833829\n",
      "Iter 84: f = 1830.09801463\n",
      "Iter 85: f = 1830.09745104\n",
      "Iter 86: f = 1830.09727669\n",
      "Iter 87: f = 1830.09711417\n",
      "Iter 88: f = 1830.09702089\n",
      "Iter 89: f = 1830.09690102\n",
      "Iter 90: f = 1830.09687686\n",
      "Iter 91: f = 1830.09684407\n",
      "Iter 92: f = 1830.09684474\n",
      "Iter 93: f = 1830.09683144\n",
      "Iter 94: f = 1830.09681818\n",
      "Iter 95: f = 1830.09681109\n",
      "Iter 96: f = 1830.09680649\n",
      "Iter 97: f = 1830.09680291\n",
      "done. Elapsed 2.1369secs\n",
      "Iter 98: f = 1830.09680291\n",
      "objective value:  1830.0968029056937\n"
     ]
    }
   ],
   "source": [
    "out = run_lbfgs(optim_objective, init_vb_free)\n",
    "\n",
    "vb_opt = out.x\n",
    "vb_opt_dict = vb_params_paragami.fold(vb_opt, free = True)\n"
   ]
  },
  {
   "cell_type": "markdown",
   "metadata": {},
   "source": [
    "# Check out the fit"
   ]
  },
  {
   "cell_type": "code",
   "execution_count": 14,
   "metadata": {},
   "outputs": [
    {
     "data": {
      "image/png": "[encoded data removed]",
      "text/plain": [
       "<Figure size 432x288 with 1 Axes>"
      ]
     },
     "metadata": {},
     "output_type": "display_data"
    }
   ],
   "source": [
    "# truth\n",
    "fig, axarr = plt.subplots(1, 1)\n",
    "plotting_utils.plot_admixture(true_ind_admix_propn, axarr);"
   ]
  },
  {
   "cell_type": "code",
   "execution_count": 15,
   "metadata": {},
   "outputs": [
    {
     "data": {
      "text/plain": [
       "Text(0.5, 0, 'individual')"
      ]
     },
     "execution_count": 15,
     "metadata": {},
     "output_type": "execute_result"
    },
    {
     "data": {
      "image/png": "[encoded data removed]",
      "text/plain": [
       "<Figure size 432x288 with 1 Axes>"
      ]
     },
     "metadata": {},
     "output_type": "display_data"
    }
   ],
   "source": [
    "# estimated \n",
    "\n",
    "e_ind_admix = plotting_utils.get_vb_expectations(vb_opt_dict, gh_loc, gh_weights)[0]\n",
    "\n",
    "fig, axarr = plt.subplots(1, 1)\n",
    "plotting_utils.plot_admixture(e_ind_admix, axarr);\n",
    "\n",
    "plt.ylabel('population')\n",
    "plt.xlabel('individual')"
   ]
  },
  {
   "cell_type": "code",
   "execution_count": null,
   "metadata": {},
   "outputs": [],
   "source": []
  },
  {
   "cell_type": "markdown",
   "metadata": {},
   "source": [
    "# Set up linear response derivatives"
   ]
  },
  {
   "cell_type": "code",
   "execution_count": 17,
   "metadata": {},
   "outputs": [],
   "source": [
    "# set up objective functions\n",
    "\n",
    "# this just returns the KL at epsilon = 0 \n",
    "# (no perturbation)\n",
    "# NOTE this function doesn't actually depend on epsilon\n",
    "# we can do this and set log_phi later because \n",
    "# the perturbation is multiplicative \n",
    "# (so the hessian at epsilon = 0 does not depend on the perturbation)\n",
    "get_vb_loss = paragami.FlattenFunctionInput(\n",
    "    lambda params, epsilon: structure_model_lib.get_kl(g_obs, \n",
    "                                            params,\n",
    "                                            prior_params_dict, \n",
    "                                            gh_loc,\n",
    "                                            gh_weights),\n",
    "    argnums=0, patterns=vb_params_paragami, free=True)\n",
    "\n",
    "\n",
    "# this is just a place holder for a null perturbation\n",
    "# will set this properly later\n",
    "hyper_par_objective_fun = lambda params, epsilon: 0.\n"
   ]
  },
  {
   "cell_type": "code",
   "execution_count": 18,
   "metadata": {},
   "outputs": [
    {
     "name": "stdout",
     "output_type": "stream",
     "text": [
      "Compiling ...\n",
      "Compile time: 83.1393sec\n",
      "\n"
     ]
    }
   ],
   "source": [
    "# set up linear approximation class\n",
    "epsilon0 = np.array([0.])\n",
    "\n",
    "epsilon_sens = \\\n",
    "    HyperparameterSensitivityLinearApproximation(\n",
    "        objective_fun = get_vb_loss, \n",
    "        opt_par_value = vb_opt, \n",
    "        hyper_par_value0 = epsilon0, \n",
    "        hyper_par_objective_fun = hyper_par_objective_fun)\n"
   ]
  },
  {
   "cell_type": "markdown",
   "metadata": {},
   "source": [
    "# Compute influence function"
   ]
  },
  {
   "cell_type": "code",
   "execution_count": 19,
   "metadata": {},
   "outputs": [],
   "source": [
    "import bnpgmm_runjingdev.gmm_stick_influence_lib as gmm_influence_lib"
   ]
  },
  {
   "cell_type": "code",
   "execution_count": 20,
   "metadata": {},
   "outputs": [],
   "source": [
    "# the influence function\n",
    "influence_operator = gmm_influence_lib.InfluenceOperator(vb_opt, \n",
    "                           vb_params_paragami, \n",
    "                           epsilon_sens.hessian_solver,\n",
    "                           prior_params_dict['dp_prior_alpha'], \n",
    "                           stick_key = 'ind_admix_params')"
   ]
  },
  {
   "cell_type": "markdown",
   "metadata": {},
   "source": [
    "### Define posterior quantity of interest"
   ]
  },
  {
   "cell_type": "code",
   "execution_count": 21,
   "metadata": {},
   "outputs": [],
   "source": [
    "def g(vb_free_params, vb_params_paragami): \n",
    "    \n",
    "    # key for random sampling. \n",
    "    # this is fixed! so all standard normal \n",
    "    # samples used in computing the posterior quantity \n",
    "    key = jax.random.PRNGKey(0)\n",
    "    \n",
    "    vb_params_dict = vb_params_paragami.fold(vb_free_params, free = True)\n",
    "    \n",
    "    stick_means = vb_params_dict['ind_admix_params']['stick_means']\n",
    "    stick_infos = vb_params_dict['ind_admix_params']['stick_infos']\n",
    "    \n",
    "    return structure_model_lib.get_e_num_pred_clusters(stick_means, stick_infos, gh_loc, gh_weights, \n",
    "                                                            key, n_samples = 10000)"
   ]
  },
  {
   "cell_type": "code",
   "execution_count": 22,
   "metadata": {},
   "outputs": [],
   "source": [
    "get_grad_g = jax.jacobian(g, argnums = 0)\n",
    "grad_g = get_grad_g(vb_opt, vb_params_paragami)"
   ]
  },
  {
   "cell_type": "markdown",
   "metadata": {},
   "source": [
    "### worst-case influence"
   ]
  },
  {
   "cell_type": "code",
   "execution_count": 24,
   "metadata": {},
   "outputs": [],
   "source": [
    "influence_fun = lambda logit_v : np.dot(grad_g,\n",
    "                                        influence_operator.get_influence(logit_v))"
   ]
  },
  {
   "cell_type": "code",
   "execution_count": 23,
   "metadata": {},
   "outputs": [],
   "source": [
    "worst_case_pert = gmm_influence_lib.WorstCasePerturbation(influence_fun)"
   ]
  },
  {
   "cell_type": "markdown",
   "metadata": {},
   "source": [
    "### Plot influence function"
   ]
  },
  {
   "cell_type": "code",
   "execution_count": 29,
   "metadata": {},
   "outputs": [
    {
     "data": {
      "image/png": "[encoded data removed]",
      "text/plain": [
       "<Figure size 1080x288 with 3 Axes>"
      ]
     },
     "metadata": {
      "needs_background": "light"
     },
     "output_type": "display_data"
    }
   ],
   "source": [
    "fig, ax = plt.subplots(1, 3, figsize = (15, 4)) \n",
    "ax[0].plot(worst_case_pert.logit_v_grid, worst_case_pert.influence_grid)\n",
    "ax[0].set_xlabel('logit v')\n",
    "ax[0].set_ylabel('Influence')\n",
    "\n",
    "ax[1].plot(worst_case_pert.v_grid, worst_case_pert.influence_grid)\n",
    "ax[1].set_xlabel('v')\n",
    "ax[1].set_ylabel('Influence')\n",
    "\n",
    "ax[2].plot(worst_case_pert.logit_v_grid, np.sign(worst_case_pert.influence_grid))\n",
    "ax[2].set_xlabel('logit v')\n",
    "ax[2].set_ylabel('sign(Influence)')\n",
    "\n",
    "fig.tight_layout()"
   ]
  },
  {
   "cell_type": "markdown",
   "metadata": {},
   "source": [
    "# Define prior perturbation"
   ]
  },
  {
   "cell_type": "code",
   "execution_count": 32,
   "metadata": {},
   "outputs": [],
   "source": [
    "# just for plotting only! \n",
    "# saves some time in computing the influence function\n",
    "# by doing a setp function interpolation\n",
    "def influence_fun_interp(logit_v): \n",
    "    # find index of logit_v_grid \n",
    "    # closest (on the left) to logit_v\n",
    "    indx = np.searchsorted(worst_case_pert.logit_v_grid, logit_v)\n",
    "    \n",
    "    # return the influence function at those points\n",
    "    return worst_case_pert.influence_grid[indx]\n",
    "\n",
    "# define log phi\n",
    "def log_phi(logit_v):\n",
    "    return(np.sign(influence_fun_interp(logit_v)))"
   ]
  },
  {
   "cell_type": "code",
   "execution_count": 40,
   "metadata": {},
   "outputs": [
    {
     "name": "stderr",
     "output_type": "stream",
     "text": [
      "/accounts/grad/runjing_liu/.conda/envs/bnp_sensitivity_jax/lib/python3.8/site-packages/scipy/integrate/quadrature.py:249: AccuracyWarning: maxiter (50) exceeded. Latest difference = 1.729731e-02\n",
      "  warnings.warn(\n"
     ]
    }
   ],
   "source": [
    "prior_perturbation = func_sens_lib.PriorPerturbation(\n",
    "                                alpha0 = prior_params_dict['dp_prior_alpha'],\n",
    "                                log_phi = log_phi, \n",
    "                                logit_v_ub = 10, \n",
    "                                logit_v_lb = -10)"
   ]
  },
  {
   "cell_type": "code",
   "execution_count": 44,
   "metadata": {},
   "outputs": [
    {
     "data": {
      "text/plain": [
       "Text(0.5, 1.0, 'Priors in logit space')"
      ]
     },
     "execution_count": 44,
     "metadata": {},
     "output_type": "execute_result"
    },
    {
     "data": {
      "image/png": "[encoded data removed]",
      "text/plain": [
       "<Figure size 1296x360 with 4 Axes>"
      ]
     },
     "metadata": {
      "needs_background": "light"
     },
     "output_type": "display_data"
    }
   ],
   "source": [
    "prior_perturbation.set_epsilon(1.0)\n",
    "\n",
    "logit_v_grid = worst_case_pert.logit_v_grid\n",
    "v_grid = sp.special.expit(logit_v_grid)\n",
    "\n",
    "plt.figure(1, figsize=(18, 5))\n",
    "\n",
    "plt.subplot(141)\n",
    "plt.plot(logit_v_grid, prior_perturbation.get_log_p0_logit(logit_v_grid))\n",
    "plt.plot(logit_v_grid, prior_perturbation.get_log_pc_logit(logit_v_grid))\n",
    "plt.title('Log priors in logit space')\n",
    "\n",
    "plt.subplot(142)\n",
    "plt.plot(logit_v_grid, prior_perturbation.log_phi(logit_v_grid))\n",
    "plt.title('log phi in logit space')\n",
    "\n",
    "plt.subplot(143)\n",
    "plt.plot(v_grid, np.exp(prior_perturbation.get_log_p0(v_grid)))\n",
    "plt.plot(v_grid, np.exp(prior_perturbation.get_log_pc(v_grid)))\n",
    "plt.title('Priors in stick space')\n",
    "\n",
    "plt.subplot(144)\n",
    "plt.plot(logit_v_grid, np.exp(prior_perturbation.get_log_p0_logit(logit_v_grid)))\n",
    "plt.plot(logit_v_grid, np.exp(prior_perturbation.get_log_pc_logit(logit_v_grid)))\n",
    "plt.title('Priors in logit space')\n"
   ]
  },
  {
   "cell_type": "code",
   "execution_count": 45,
   "metadata": {},
   "outputs": [],
   "source": [
    "def get_e_log_perturbation(means, infos, epsilon): \n",
    "    return epsilon * worst_case_pert.get_e_log_linf_perturbation(means, infos)"
   ]
  },
  {
   "cell_type": "code",
   "execution_count": 50,
   "metadata": {},
   "outputs": [],
   "source": [
    "def _hyper_par_objective_fun(params, epsilon): \n",
    "    \n",
    "    means = params['ind_admix_params']['stick_means'].flatten()\n",
    "    infos = params['ind_admix_params']['stick_infos'].flatten()\n",
    "    \n",
    "    return - get_e_log_perturbation(means, infos, epsilon)\n",
    "\n",
    "# the terms of the KL objective that depend on epsilon \n",
    "hyper_par_objective_fun = paragami.FlattenFunctionInput(_hyper_par_objective_fun,\n",
    "                                                        argnums=0, \n",
    "                                                        patterns=vb_params_paragami,\n",
    "                                                        free = True)\n"
   ]
  },
  {
   "cell_type": "markdown",
   "metadata": {},
   "source": [
    "# Get derivative for prior perturbation"
   ]
  },
  {
   "cell_type": "code",
   "execution_count": 51,
   "metadata": {},
   "outputs": [],
   "source": [
    "epsilon_sens._set_cross_hess(hyper_par_objective_fun)\n",
    "epsilon_sens._set_dinput_dhyper()"
   ]
  },
  {
   "cell_type": "code",
   "execution_count": 53,
   "metadata": {},
   "outputs": [
    {
     "name": "stdout",
     "output_type": "stream",
     "text": [
      "Epsilon:  1.0\n",
      "Predicted differences:  26.740133172944528\n"
     ]
    }
   ],
   "source": [
    "epsilon = 1.0\n",
    "print('Epsilon: ', epsilon)\n",
    "\n",
    "lr_vb_free_params = epsilon_sens.predict_opt_par_from_hyper_par(epsilon)\n",
    "\n",
    "print('Predicted differences: ', np.linalg.norm(lr_vb_free_params - vb_opt))"
   ]
  },
  {
   "cell_type": "code",
   "execution_count": 54,
   "metadata": {},
   "outputs": [],
   "source": [
    "vb_pert_pred_dict = vb_params_paragami.fold(lr_vb_free_params, free = True)"
   ]
  },
  {
   "cell_type": "code",
   "execution_count": null,
   "metadata": {},
   "outputs": [],
   "source": []
  },
  {
   "cell_type": "code",
   "execution_count": 33,
   "metadata": {},
   "outputs": [],
   "source": [
    "new_init_dict = deepcopy(vb_opt_dict)\n",
    "new_init_free = vb_params_paragami.flatten(new_init_dict, free = True)"
   ]
  },
  {
   "cell_type": "code",
   "execution_count": 34,
   "metadata": {},
   "outputs": [
    {
     "name": "stdout",
     "output_type": "stream",
     "text": [
      "Compiling objective ...\n",
      "Iter 0: f = 7433.79796657\n",
      "Compiling grad ...\n",
      "Compile time: 12.9736secs\n"
     ]
    }
   ],
   "source": [
    "optim_objective_pert, _ = \\\n",
    "    define_structure_objective(g_obs, new_init_dict,\n",
    "                        vb_params_paragami,\n",
    "                        prior_params_dict,\n",
    "                        gh_loc = gh_loc,\n",
    "                        gh_weights = gh_weights,\n",
    "                        log_phi = log_prior_pert, \n",
    "                        epsilon = epsilon, \n",
    "                        compile_hvp=False)\n"
   ]
  },
  {
   "cell_type": "code",
   "execution_count": 35,
   "metadata": {},
   "outputs": [
    {
     "name": "stdout",
     "output_type": "stream",
     "text": [
      "\n",
      "Running L-BFGS-B ... \n",
      "Iter 0: f = 7433.79796657\n",
      "Iter 1: f = 7416.08530178\n",
      "Iter 2: f = 7360.31339671\n",
      "Iter 3: f = 7283.41486114\n",
      "Iter 4: f = 7267.97888772\n",
      "Iter 5: f = 7247.46325403\n",
      "Iter 6: f = 7246.13648690\n",
      "Iter 7: f = 7243.67361098\n",
      "Iter 8: f = 7242.46173560\n",
      "Iter 9: f = 7240.93466513\n",
      "Iter 10: f = 7238.58219929\n",
      "Iter 11: f = 7237.75982090\n",
      "Iter 12: f = 7237.37548867\n",
      "Iter 13: f = 7236.98876573\n",
      "Iter 14: f = 7236.84120720\n",
      "Iter 15: f = 7236.61778833\n",
      "Iter 16: f = 7236.64848791\n",
      "Iter 17: f = 7236.51874087\n",
      "Iter 18: f = 7236.40456741\n",
      "Iter 19: f = 7236.31071046\n",
      "Iter 20: f = 7236.21694881\n",
      "Iter 21: f = 7236.14292742\n",
      "Iter 22: f = 7236.07774973\n",
      "Iter 23: f = 7236.03484895\n",
      "Iter 24: f = 7236.00987667\n",
      "Iter 25: f = 7235.98665878\n",
      "Iter 26: f = 7235.96907599\n",
      "Iter 27: f = 7235.96097082\n",
      "Iter 28: f = 7235.95160522\n",
      "Iter 29: f = 7235.94733823\n",
      "Iter 30: f = 7235.93671365\n",
      "Iter 31: f = 7235.93053991\n",
      "Iter 32: f = 7235.92284226\n",
      "Iter 33: f = 7235.91207196\n",
      "Iter 34: f = 7235.92580726\n",
      "Iter 35: f = 7235.90837986\n",
      "Iter 36: f = 7235.90412411\n",
      "Iter 37: f = 7235.90217476\n",
      "Iter 38: f = 7235.90028275\n",
      "Iter 39: f = 7235.89951039\n",
      "Iter 40: f = 7235.89826787\n",
      "Iter 41: f = 7235.89785404\n",
      "Iter 42: f = 7235.89748288\n",
      "Iter 43: f = 7235.89693970\n",
      "Iter 44: f = 7235.89755782\n",
      "Iter 45: f = 7235.89677926\n",
      "Iter 46: f = 7235.89659635\n",
      "Iter 47: f = 7235.89651515\n",
      "Iter 48: f = 7235.89644206\n",
      "Iter 49: f = 7235.89641865\n",
      "Iter 50: f = 7235.89637489\n",
      "Iter 51: f = 7235.89636017\n",
      "done. Elapsed 2.4903secs\n",
      "Iter 52: f = 7235.89636017\n",
      "objective value:  7235.896360168728\n"
     ]
    }
   ],
   "source": [
    "out = run_lbfgs(optim_objective_pert, new_init_free)\n",
    "\n",
    "vb_opt_pert = out.x\n",
    "vb_pert_dict = vb_params_paragami.fold(vb_opt_pert, free = True)"
   ]
  },
  {
   "cell_type": "code",
   "execution_count": 36,
   "metadata": {},
   "outputs": [
    {
     "data": {
      "text/plain": [
       "DeviceArray(25.49542812, dtype=float64)"
      ]
     },
     "execution_count": 36,
     "metadata": {},
     "output_type": "execute_result"
    }
   ],
   "source": [
    "np.linalg.norm(vb_opt_pert - vb_opt)"
   ]
  },
  {
   "cell_type": "code",
   "execution_count": null,
   "metadata": {},
   "outputs": [],
   "source": []
  },
  {
   "cell_type": "markdown",
   "metadata": {},
   "source": [
    "### compare"
   ]
  },
  {
   "cell_type": "code",
   "execution_count": 37,
   "metadata": {},
   "outputs": [],
   "source": [
    "def print_diff_plot(lr_vb_free_params, vb_opt_pert, vb_opt): \n",
    "    plt.plot((lr_vb_free_params - vb_opt), \n",
    "             vb_opt_pert - vb_opt, \n",
    "             '+', color = 'red')\n",
    "\n",
    "    plt.plot(lr_vb_free_params - vb_opt, \n",
    "            lr_vb_free_params - vb_opt, \n",
    "             '-', color = 'blue')\n",
    "\n",
    "    plt.xlabel('lr')\n",
    "    plt.ylabel('re-optimized')\n"
   ]
  },
  {
   "cell_type": "code",
   "execution_count": 38,
   "metadata": {},
   "outputs": [
    {
     "data": {
      "image/png": "[encoded data removed]",
      "text/plain": [
       "<Figure size 432x288 with 1 Axes>"
      ]
     },
     "metadata": {
      "needs_background": "light"
     },
     "output_type": "display_data"
    }
   ],
   "source": [
    "# compare free parameters\n",
    "print_diff_plot(lr_vb_free_params, vb_opt_pert, vb_opt)"
   ]
  },
  {
   "cell_type": "code",
   "execution_count": 39,
   "metadata": {},
   "outputs": [],
   "source": [
    "# compare expectations\n",
    "init_e_ind_admix, init_e_pop_freq = plotting_utils.get_vb_expectations(vb_opt_dict, gh_loc, gh_weights)\n",
    "pert_e_ind_admix, pert_e_pop_freq = plotting_utils.get_vb_expectations(vb_pert_dict, gh_loc, gh_weights)\n",
    "lr_e_ind_admix, lr_e_pop_freq = plotting_utils.get_vb_expectations(\n",
    "                                                    vb_params_paragami.fold(lr_vb_free_params, free = True), \n",
    "                                                    gh_loc, gh_weights)"
   ]
  },
  {
   "cell_type": "code",
   "execution_count": 40,
   "metadata": {},
   "outputs": [
    {
     "data": {
      "image/png": "[encoded data removed]",
      "text/plain": [
       "<Figure size 432x288 with 1 Axes>"
      ]
     },
     "metadata": {
      "needs_background": "light"
     },
     "output_type": "display_data"
    }
   ],
   "source": [
    "print_diff_plot(lr_e_ind_admix, pert_e_ind_admix, init_e_ind_admix)"
   ]
  },
  {
   "cell_type": "code",
   "execution_count": 41,
   "metadata": {},
   "outputs": [
    {
     "data": {
      "image/png": "[encoded data removed]",
      "text/plain": [
       "<Figure size 432x288 with 1 Axes>"
      ]
     },
     "metadata": {
      "needs_background": "light"
     },
     "output_type": "display_data"
    }
   ],
   "source": [
    "print_diff_plot(lr_e_pop_freq, pert_e_pop_freq, init_e_pop_freq)"
   ]
  },
  {
   "cell_type": "code",
   "execution_count": 42,
   "metadata": {},
   "outputs": [
    {
     "name": "stdout",
     "output_type": "stream",
     "text": [
      "init number of cluster:  5.577588359869459\n",
      "pert number of cluster:  6.044130783860375\n",
      "lr number of cluster:  5.6911500803824016\n"
     ]
    }
   ],
   "source": [
    "print('init number of cluster: ', cluster_quantities_lib.get_e_num_clusters_from_ez(init_e_ind_admix))\n",
    "\n",
    "print('pert number of cluster: ', cluster_quantities_lib.get_e_num_clusters_from_ez(pert_e_ind_admix))\n",
    "print('lr number of cluster: ', cluster_quantities_lib.get_e_num_clusters_from_ez(lr_e_ind_admix))"
   ]
  },
  {
   "cell_type": "code",
   "execution_count": null,
   "metadata": {},
   "outputs": [],
   "source": []
  },
  {
   "cell_type": "code",
   "execution_count": null,
   "metadata": {},
   "outputs": [],
   "source": []
  },
  {
   "cell_type": "code",
   "execution_count": null,
   "metadata": {},
   "outputs": [],
   "source": []
  },
  {
   "cell_type": "markdown",
   "metadata": {},
   "source": [
    "# Fit for a range of epsilon"
   ]
  },
  {
   "cell_type": "code",
   "execution_count": 44,
   "metadata": {},
   "outputs": [
    {
     "name": "stdout",
     "output_type": "stream",
     "text": [
      "[0.         0.02040816 0.08163265 0.18367347 0.32653061 0.51020408\n",
      " 0.73469388 1.        ]\n"
     ]
    }
   ],
   "source": [
    "epsilon_list = np.linspace(0, 1, 8) ** 2 # Square to get more points close to 0\n",
    "print(epsilon_list)"
   ]
  },
  {
   "cell_type": "code",
   "execution_count": 45,
   "metadata": {},
   "outputs": [],
   "source": [
    "def refit_with_epsilon(epsilon, new_init_dict):\n",
    "    # sets new epsilon, returns new vb optimum\n",
    "    \n",
    "    optim_objective_pert, new_init_free = \\\n",
    "        define_structure_objective(g_obs, new_init_dict,\n",
    "                            vb_params_paragami,\n",
    "                            prior_params_dict,\n",
    "                            gh_loc = gh_loc,\n",
    "                            gh_weights = gh_weights,\n",
    "                            log_phi = log_prior_pert, \n",
    "                            epsilon = epsilon, \n",
    "                            compile_hvp=False)\n",
    "    \n",
    "    out = run_lbfgs(optim_objective_pert, new_init_free)\n",
    "        \n",
    "    return out.x\n"
   ]
  },
  {
   "cell_type": "code",
   "execution_count": 46,
   "metadata": {},
   "outputs": [
    {
     "name": "stdout",
     "output_type": "stream",
     "text": [
      "epsilons:  [0.         0.02040816 0.08163265 0.18367347 0.32653061 0.51020408\n",
      " 0.73469388 1.        ]\n"
     ]
    }
   ],
   "source": [
    "print('epsilons: ', epsilon_list)"
   ]
  },
  {
   "cell_type": "code",
   "execution_count": 47,
   "metadata": {},
   "outputs": [
    {
     "name": "stdout",
     "output_type": "stream",
     "text": [
      "\n",
      " re-optimzing with epsilon =  0.0\n",
      "Compiling objective ...\n",
      "Iter 0: f = 7551.80479680\n",
      "Compiling grad ...\n",
      "Compile time: 12.7022secs\n",
      "\n",
      "Running L-BFGS-B ... \n",
      "Iter 0: f = 7551.80479680\n",
      "Iter 1: f = 7553.88601523\n",
      "Iter 2: f = 7551.80479229\n",
      "done. Elapsed 0.175316secs\n",
      "Iter 3: f = 7551.80479229\n",
      "objective value:  7551.804792288652\n",
      "\n",
      " re-optimzing with epsilon =  0.02040816326530612\n",
      "Compiling objective ...\n",
      "Iter 0: f = 7549.39649414\n",
      "Compiling grad ...\n",
      "Compile time: 12.9256secs\n",
      "\n",
      "Running L-BFGS-B ... \n",
      "Iter 0: f = 7549.39649414\n",
      "Iter 1: f = 7549.67796477\n",
      "Iter 2: f = 7549.34264582\n",
      "Iter 3: f = 7549.32078048\n",
      "Iter 4: f = 7549.30419307\n",
      "Iter 5: f = 7549.30010406\n",
      "Iter 6: f = 7549.29731387\n",
      "Iter 7: f = 7549.29665668\n",
      "Iter 8: f = 7549.29577172\n",
      "Iter 9: f = 7549.29511239\n",
      "Iter 10: f = 7549.29424768\n",
      "Iter 11: f = 7549.29309228\n",
      "Iter 12: f = 7549.29485639\n",
      "Iter 13: f = 7549.29279403\n",
      "Iter 14: f = 7549.29223970\n",
      "Iter 15: f = 7549.29206672\n",
      "Iter 16: f = 7549.29195310\n",
      "Iter 17: f = 7549.29191200\n",
      "Iter 18: f = 7549.29185531\n",
      "Iter 19: f = 7549.29182512\n",
      "Iter 20: f = 7549.29179769\n",
      "Iter 21: f = 7549.29174914\n",
      "Iter 22: f = 7549.29180155\n",
      "Iter 23: f = 7549.29173036\n",
      "Iter 24: f = 7549.29170865\n",
      "Iter 25: f = 7549.29169635\n",
      "done. Elapsed 1.25565secs\n",
      "Iter 26: f = 7549.29169635\n",
      "objective value:  7549.29169635239\n",
      "\n",
      " re-optimzing with epsilon =  0.08163265306122448\n",
      "Compiling objective ...\n",
      "Iter 0: f = 7542.17158616\n",
      "Compiling grad ...\n",
      "Compile time: 12.6062secs\n",
      "\n",
      "Running L-BFGS-B ... \n",
      "Iter 0: f = 7542.17158616\n",
      "Iter 1: f = 7541.32729056\n",
      "Iter 2: f = 7540.96243103\n",
      "Iter 3: f = 7540.69413560\n",
      "Iter 4: f = 7540.63961819\n",
      "Iter 5: f = 7540.59801669\n",
      "Iter 6: f = 7540.58831416\n",
      "Iter 7: f = 7540.57669768\n",
      "Iter 8: f = 7540.56415852\n",
      "Iter 9: f = 7540.55125160\n",
      "Iter 10: f = 7540.53188239\n",
      "Iter 11: f = 7540.56392260\n",
      "Iter 12: f = 7540.52742789\n",
      "Iter 13: f = 7540.51953693\n",
      "Iter 14: f = 7540.51682725\n",
      "Iter 15: f = 7540.51500138\n",
      "Iter 16: f = 7540.51408649\n",
      "Iter 17: f = 7540.51324684\n",
      "Iter 18: f = 7540.51264355\n",
      "Iter 19: f = 7540.51210006\n",
      "Iter 20: f = 7540.51138536\n",
      "Iter 21: f = 7540.51071330\n",
      "Iter 22: f = 7540.51048666\n",
      "Iter 23: f = 7540.51025611\n",
      "Iter 24: f = 7540.51009040\n",
      "Iter 25: f = 7540.50993393\n",
      "Iter 26: f = 7540.50983014\n",
      "Iter 27: f = 7540.50977541\n",
      "Iter 28: f = 7540.50970880\n",
      "Iter 29: f = 7540.50965907\n",
      "Iter 30: f = 7540.50961692\n",
      "Iter 31: f = 7540.50958923\n",
      "Iter 32: f = 7540.50954979\n",
      "Iter 33: f = 7540.50954358\n",
      "done. Elapsed 1.62008secs\n",
      "Iter 34: f = 7540.50954358\n",
      "objective value:  7540.509543576564\n",
      "\n",
      " re-optimzing with epsilon =  0.18367346938775508\n",
      "Compiling objective ...\n",
      "Iter 0: f = 7530.13007288\n",
      "Compiling grad ...\n",
      "Compile time: 12.6159secs\n",
      "\n",
      "Running L-BFGS-B ... \n",
      "Iter 0: f = 7530.13007288\n",
      "Iter 1: f = 7527.41136551\n",
      "Iter 2: f = 7524.11519371\n",
      "Iter 3: f = 7523.63505570\n",
      "Iter 4: f = 7522.50562228\n",
      "Iter 5: f = 7522.39765942\n",
      "Iter 6: f = 7522.26540867\n",
      "Iter 7: f = 7522.21491147\n",
      "Iter 8: f = 7522.14651628\n",
      "Iter 9: f = 7522.03199621\n",
      "Iter 10: f = 7521.98705015\n",
      "Iter 11: f = 7521.94670930\n",
      "Iter 12: f = 7521.92754122\n",
      "Iter 13: f = 7521.91320193\n",
      "Iter 14: f = 7521.90462925\n",
      "Iter 15: f = 7521.89887249\n",
      "Iter 16: f = 7521.89473274\n",
      "Iter 17: f = 7521.89100196\n",
      "Iter 18: f = 7521.88616694\n",
      "Iter 19: f = 7521.88122095\n",
      "Iter 20: f = 7521.87898105\n",
      "Iter 21: f = 7521.87635627\n",
      "Iter 22: f = 7521.87550976\n",
      "Iter 23: f = 7521.87358174\n",
      "Iter 24: f = 7521.87280442\n",
      "Iter 25: f = 7521.87207617\n",
      "Iter 26: f = 7521.87099543\n",
      "Iter 27: f = 7521.87187444\n",
      "Iter 28: f = 7521.87051769\n",
      "Iter 29: f = 7521.86986458\n",
      "Iter 30: f = 7521.86938605\n",
      "Iter 31: f = 7521.86873451\n",
      "Iter 32: f = 7521.86822894\n",
      "Iter 33: f = 7521.86773560\n",
      "Iter 34: f = 7521.86728613\n",
      "Iter 35: f = 7521.86696396\n",
      "Iter 36: f = 7521.86683095\n",
      "Iter 37: f = 7521.86622175\n",
      "Iter 38: f = 7521.86606594\n",
      "Iter 39: f = 7521.86574772\n",
      "Iter 40: f = 7521.86531220\n",
      "Iter 41: f = 7521.86474786\n",
      "Iter 42: f = 7521.86418505\n",
      "Iter 43: f = 7521.86356326\n",
      "Iter 44: f = 7521.86317414\n",
      "Iter 45: f = 7521.86291043\n",
      "Iter 46: f = 7521.86236689\n",
      "Iter 47: f = 7521.86212961\n",
      "Iter 48: f = 7521.86186962\n",
      "Iter 49: f = 7521.86141530\n",
      "Iter 50: f = 7521.86122190\n",
      "Iter 51: f = 7521.86086853\n",
      "Iter 52: f = 7521.86064231\n",
      "Iter 53: f = 7521.86039962\n",
      "Iter 54: f = 7521.86025683\n",
      "Iter 55: f = 7521.86013507\n",
      "Iter 56: f = 7521.86000424\n",
      "Iter 57: f = 7521.85988604\n",
      "Iter 58: f = 7521.85982639\n",
      "Iter 59: f = 7521.85977288\n",
      "Iter 60: f = 7521.85974847\n",
      "Iter 61: f = 7521.85970685\n",
      "Iter 62: f = 7521.85968987\n",
      "Iter 63: f = 7521.85966990\n",
      "Iter 64: f = 7521.85964128\n",
      "Iter 65: f = 7521.85963150\n",
      "done. Elapsed 3.14143secs\n",
      "Iter 66: f = 7521.85963150\n",
      "objective value:  7521.859631502502\n",
      "\n",
      " re-optimzing with epsilon =  0.32653061224489793\n",
      "Compiling objective ...\n",
      "Iter 0: f = 7513.27195427\n",
      "Compiling grad ...\n",
      "Compile time: 12.945secs\n",
      "\n",
      "Running L-BFGS-B ... \n",
      "Iter 0: f = 7513.27195427\n",
      "Iter 1: f = 7507.92926378\n",
      "Iter 2: f = 7494.79873897\n",
      "Iter 3: f = 7498.28342236\n",
      "Iter 4: f = 7490.71993367\n",
      "Iter 5: f = 7489.86029048\n",
      "Iter 6: f = 7489.36352045\n",
      "Iter 7: f = 7489.16156866\n",
      "Iter 8: f = 7488.99744082\n",
      "Iter 9: f = 7488.78365179\n",
      "Iter 10: f = 7488.55458281\n",
      "Iter 11: f = 7488.49492599\n",
      "Iter 12: f = 7488.22950775\n",
      "Iter 13: f = 7488.18700913\n",
      "Iter 14: f = 7488.14194402\n",
      "Iter 15: f = 7488.10243702\n",
      "Iter 16: f = 7488.07782161\n",
      "Iter 17: f = 7488.06044011\n",
      "Iter 18: f = 7488.04755187\n",
      "Iter 19: f = 7488.03102802\n",
      "Iter 20: f = 7488.02003555\n",
      "Iter 21: f = 7487.99294680\n",
      "Iter 22: f = 7487.98334488\n",
      "Iter 23: f = 7487.97329595\n",
      "Iter 24: f = 7487.95989363\n",
      "Iter 25: f = 7487.95353955\n",
      "Iter 26: f = 7487.94174118\n",
      "Iter 27: f = 7487.93633101\n",
      "Iter 28: f = 7487.92747301\n",
      "Iter 29: f = 7487.91831764\n",
      "Iter 30: f = 7487.90449716\n",
      "Iter 31: f = 7487.89466705\n",
      "Iter 32: f = 7487.88424748\n",
      "Iter 33: f = 7487.87294004\n",
      "Iter 34: f = 7487.86385050\n",
      "Iter 35: f = 7487.85853158\n",
      "Iter 36: f = 7487.85469061\n",
      "Iter 37: f = 7487.85170275\n",
      "Iter 38: f = 7487.84882236\n",
      "Iter 39: f = 7487.84711837\n",
      "Iter 40: f = 7487.84544610\n",
      "Iter 41: f = 7487.84381052\n",
      "Iter 42: f = 7487.84241945\n",
      "Iter 43: f = 7487.84154600\n",
      "Iter 44: f = 7487.84105527\n",
      "Iter 45: f = 7487.84052837\n",
      "Iter 46: f = 7487.84026131\n",
      "Iter 47: f = 7487.83992514\n",
      "Iter 48: f = 7487.83969783\n",
      "Iter 49: f = 7487.83950784\n",
      "Iter 50: f = 7487.83938308\n",
      "Iter 51: f = 7487.83914836\n",
      "Iter 52: f = 7487.83906470\n",
      "Iter 53: f = 7487.83895585\n",
      "Iter 54: f = 7487.83888273\n",
      "Iter 55: f = 7487.83876703\n",
      "Iter 56: f = 7487.83870767\n",
      "Iter 57: f = 7487.83865650\n",
      "Iter 58: f = 7487.83858311\n",
      "Iter 59: f = 7487.83859894\n",
      "Iter 60: f = 7487.83854877\n",
      "Iter 61: f = 7487.83852344\n",
      "Iter 62: f = 7487.83850640\n",
      "Iter 63: f = 7487.83848848\n",
      "Iter 64: f = 7487.83847355\n",
      "done. Elapsed 3.12344secs\n",
      "Iter 65: f = 7487.83847355\n",
      "objective value:  7487.838473554232\n",
      "\n",
      " re-optimzing with epsilon =  0.5102040816326531\n",
      "Compiling objective ...\n",
      "Iter 0: f = 7491.59723035\n",
      "Compiling grad ...\n",
      "Compile time: 12.6913secs\n",
      "\n",
      "Running L-BFGS-B ... \n",
      "Iter 0: f = 7491.59723035\n",
      "Iter 1: f = 7482.88089715\n",
      "Iter 2: f = 7448.35350232\n",
      "Iter 3: f = 7463.87850133\n",
      "Iter 4: f = 7438.53674087\n",
      "Iter 5: f = 7436.74632746\n",
      "Iter 6: f = 7435.76207804\n",
      "Iter 7: f = 7435.27351602\n",
      "Iter 8: f = 7434.86993757\n",
      "Iter 9: f = 7434.34766756\n",
      "Iter 10: f = 7433.78598016\n",
      "Iter 11: f = 7433.60320889\n",
      "Iter 12: f = 7433.21750954\n",
      "Iter 13: f = 7433.13603122\n",
      "Iter 14: f = 7433.03488828\n",
      "Iter 15: f = 7432.94746567\n",
      "Iter 16: f = 7432.86717908\n",
      "Iter 17: f = 7432.82893717\n",
      "Iter 18: f = 7432.77127105\n",
      "Iter 19: f = 7432.70109369\n",
      "Iter 20: f = 7432.61414116\n",
      "Iter 21: f = 7432.53306028\n",
      "Iter 22: f = 7432.48312421\n",
      "Iter 23: f = 7432.44809653\n",
      "Iter 24: f = 7432.41664327\n",
      "Iter 25: f = 7432.39024024\n",
      "Iter 26: f = 7432.37661913\n",
      "Iter 27: f = 7432.35712276\n",
      "Iter 28: f = 7432.34904663\n",
      "Iter 29: f = 7432.34114016\n",
      "Iter 30: f = 7432.33032598\n",
      "Iter 31: f = 7432.32385331\n",
      "Iter 32: f = 7432.31880690\n",
      "Iter 33: f = 7432.31653103\n",
      "Iter 34: f = 7432.31437757\n",
      "Iter 35: f = 7432.31425062\n",
      "Iter 36: f = 7432.31320084\n",
      "Iter 37: f = 7432.31242129\n",
      "Iter 38: f = 7432.31210726\n",
      "Iter 39: f = 7432.31184086\n",
      "Iter 40: f = 7432.31163748\n",
      "Iter 41: f = 7432.31150779\n",
      "Iter 42: f = 7432.31140383\n",
      "Iter 43: f = 7432.31130285\n",
      "Iter 44: f = 7432.31125183\n",
      "Iter 45: f = 7432.31118619\n",
      "Iter 46: f = 7432.31116670\n",
      "Iter 47: f = 7432.31114255\n",
      "Iter 48: f = 7432.31114217\n",
      "Iter 49: f = 7432.31112829\n",
      "done. Elapsed 2.40365secs\n",
      "Iter 50: f = 7432.31112829\n",
      "objective value:  7432.3111282920345\n",
      "\n",
      " re-optimzing with epsilon =  0.7346938775510203\n",
      "Compiling objective ...\n",
      "Iter 0: f = 7465.10590112\n",
      "Compiling grad ...\n",
      "Compile time: 12.7093secs\n",
      "\n",
      "Running L-BFGS-B ... \n",
      "Iter 0: f = 7465.10590112\n",
      "Iter 1: f = 7452.26624538\n",
      "Iter 2: f = 7380.42281924\n",
      "Iter 3: f = 7417.97955769\n",
      "Iter 4: f = 7360.67642834\n",
      "Iter 5: f = 7357.48387594\n",
      "Iter 6: f = 7355.93026018\n",
      "Iter 7: f = 7354.93710955\n",
      "Iter 8: f = 7354.07828551\n",
      "Iter 9: f = 7353.05653932\n",
      "Iter 10: f = 7352.01085414\n",
      "Iter 11: f = 7351.38549607\n",
      "Iter 12: f = 7351.08552103\n",
      "Iter 13: f = 7350.91578937\n",
      "Iter 14: f = 7350.72767760\n",
      "Iter 15: f = 7350.58826181\n",
      "Iter 16: f = 7350.42975284\n",
      "Iter 17: f = 7350.35375815\n",
      "Iter 18: f = 7350.24909361\n",
      "Iter 19: f = 7350.13423710\n",
      "Iter 20: f = 7350.02201331\n",
      "Iter 21: f = 7349.97233593\n",
      "Iter 22: f = 7349.93625634\n",
      "Iter 23: f = 7349.91746346\n",
      "Iter 24: f = 7349.89786458\n",
      "Iter 25: f = 7349.88630731\n",
      "Iter 26: f = 7349.88033900\n",
      "Iter 27: f = 7349.88240993\n",
      "Iter 28: f = 7349.87678793\n",
      "Iter 29: f = 7349.87294707\n",
      "Iter 30: f = 7349.87171952\n",
      "Iter 31: f = 7349.86996188\n",
      "Iter 32: f = 7349.86902419\n",
      "Iter 33: f = 7349.86832606\n",
      "Iter 34: f = 7349.86771287\n",
      "Iter 35: f = 7349.86737533\n",
      "Iter 36: f = 7349.86742186\n",
      "Iter 37: f = 7349.86711626\n",
      "Iter 38: f = 7349.86687128\n",
      "Iter 39: f = 7349.86680029\n",
      "Iter 40: f = 7349.86671175\n",
      "Iter 41: f = 7349.86666165\n",
      "Iter 42: f = 7349.86662160\n",
      "Iter 43: f = 7349.86658141\n",
      "Iter 44: f = 7349.86655714\n",
      "Iter 45: f = 7349.86653587\n",
      "Iter 46: f = 7349.86651553\n",
      "Iter 47: f = 7349.86650836\n",
      "done. Elapsed 2.32195secs\n",
      "Iter 48: f = 7349.86650836\n",
      "objective value:  7349.866508363796\n",
      "\n",
      " re-optimzing with epsilon =  1.0\n",
      "Compiling objective ...\n",
      "Iter 0: f = 7433.79796657\n",
      "Compiling grad ...\n",
      "Compile time: 12.6152secs\n",
      "\n",
      "Running L-BFGS-B ... \n",
      "Iter 0: f = 7433.79796657\n",
      "Iter 1: f = 7416.08530178\n",
      "Iter 2: f = 7360.31339671\n",
      "Iter 3: f = 7283.41486114\n",
      "Iter 4: f = 7267.97888772\n",
      "Iter 5: f = 7247.46325403\n",
      "Iter 6: f = 7246.13648690\n",
      "Iter 7: f = 7243.67361098\n",
      "Iter 8: f = 7242.46173560\n",
      "Iter 9: f = 7240.93466513\n",
      "Iter 10: f = 7238.58219929\n",
      "Iter 11: f = 7237.75982090\n",
      "Iter 12: f = 7237.37548867\n",
      "Iter 13: f = 7236.98876573\n",
      "Iter 14: f = 7236.84120720\n",
      "Iter 15: f = 7236.61778833\n",
      "Iter 16: f = 7236.64848791\n",
      "Iter 17: f = 7236.51874087\n",
      "Iter 18: f = 7236.40456741\n",
      "Iter 19: f = 7236.31071046\n",
      "Iter 20: f = 7236.21694881\n",
      "Iter 21: f = 7236.14292742\n",
      "Iter 22: f = 7236.07774973\n",
      "Iter 23: f = 7236.03484895\n",
      "Iter 24: f = 7236.00987667\n",
      "Iter 25: f = 7235.98665878\n",
      "Iter 26: f = 7235.96907599\n",
      "Iter 27: f = 7235.96097082\n",
      "Iter 28: f = 7235.95160522\n",
      "Iter 29: f = 7235.94733823\n",
      "Iter 30: f = 7235.93671365\n",
      "Iter 31: f = 7235.93053991\n",
      "Iter 32: f = 7235.92284226\n",
      "Iter 33: f = 7235.91207196\n",
      "Iter 34: f = 7235.92580726\n",
      "Iter 35: f = 7235.90837986\n",
      "Iter 36: f = 7235.90412411\n",
      "Iter 37: f = 7235.90217476\n",
      "Iter 38: f = 7235.90028275\n",
      "Iter 39: f = 7235.89951039\n",
      "Iter 40: f = 7235.89826787\n",
      "Iter 41: f = 7235.89785404\n",
      "Iter 42: f = 7235.89748288\n",
      "Iter 43: f = 7235.89693970\n",
      "Iter 44: f = 7235.89755782\n",
      "Iter 45: f = 7235.89677926\n",
      "Iter 46: f = 7235.89659635\n",
      "Iter 47: f = 7235.89651515\n",
      "Iter 48: f = 7235.89644206\n",
      "Iter 49: f = 7235.89641865\n",
      "Iter 50: f = 7235.89637489\n",
      "Iter 51: f = 7235.89636017\n",
      "done. Elapsed 2.49224secs\n",
      "Iter 52: f = 7235.89636017\n",
      "objective value:  7235.896360168728\n"
     ]
    }
   ],
   "source": [
    "vb_pert_list = []\n",
    "for epsilon in epsilon_list: \n",
    "    print('\\n re-optimzing with epsilon = ', epsilon)\n",
    "    \n",
    "    vb_pert_list.append(refit_with_epsilon(epsilon, new_init_dict))\n"
   ]
  },
  {
   "cell_type": "code",
   "execution_count": null,
   "metadata": {},
   "outputs": [],
   "source": []
  },
  {
   "cell_type": "markdown",
   "metadata": {},
   "source": [
    "# Check free parameters"
   ]
  },
  {
   "cell_type": "code",
   "execution_count": 48,
   "metadata": {},
   "outputs": [],
   "source": [
    "lr_list = []\n",
    "\n",
    "for epsilon in epsilon_list: \n",
    "    \n",
    "    # get linear response\n",
    "    lr_list.append(epsilon_sens.predict_opt_par_from_hyper_par(epsilon))\n"
   ]
  },
  {
   "cell_type": "code",
   "execution_count": 49,
   "metadata": {},
   "outputs": [
    {
     "data": {
      "image/png": "[encoded data removed]",
      "text/plain": [
       "<Figure size 432x288 with 1 Axes>"
      ]
     },
     "metadata": {
      "needs_background": "light"
     },
     "output_type": "display_data"
    },
    {
     "data": {
      "image/png": "[encoded data removed]",
      "text/plain": [
       "<Figure size 432x288 with 1 Axes>"
      ]
     },
     "metadata": {
      "needs_background": "light"
     },
     "output_type": "display_data"
    },
    {
     "data": {
      "image/png": "[encoded data removed]",
      "text/plain": [
       "<Figure size 432x288 with 1 Axes>"
      ]
     },
     "metadata": {
      "needs_background": "light"
     },
     "output_type": "display_data"
    },
    {
     "data": {
      "image/png": "[encoded data removed]",
      "text/plain": [
       "<Figure size 432x288 with 1 Axes>"
      ]
     },
     "metadata": {
      "needs_background": "light"
     },
     "output_type": "display_data"
    },
    {
     "data": {
      "image/png": "[encoded data removed]",
      "text/plain": [
       "<Figure size 432x288 with 1 Axes>"
      ]
     },
     "metadata": {
      "needs_background": "light"
     },
     "output_type": "display_data"
    },
    {
     "data": {
      "image/png": "[encoded data removed]",
      "text/plain": [
       "<Figure size 432x288 with 1 Axes>"
      ]
     },
     "metadata": {
      "needs_background": "light"
     },
     "output_type": "display_data"
    },
    {
     "data": {
      "image/png": "[encoded data removed]",
      "text/plain": [
       "<Figure size 432x288 with 1 Axes>"
      ]
     },
     "metadata": {
      "needs_background": "light"
     },
     "output_type": "display_data"
    },
    {
     "data": {
      "image/png": "[encoded data removed]",
      "text/plain": [
       "<Figure size 432x288 with 1 Axes>"
      ]
     },
     "metadata": {
      "needs_background": "light"
     },
     "output_type": "display_data"
    }
   ],
   "source": [
    "for i in range(len(epsilon_list)): \n",
    "    plt.figure()\n",
    "    print_diff_plot(lr_list[i], vb_pert_list[i], vb_opt)\n",
    "    \n",
    "    plt.title('epsilon = {}'.format(epsilon_list[i]))\n"
   ]
  },
  {
   "cell_type": "markdown",
   "metadata": {},
   "source": [
    "# Number of clusters"
   ]
  },
  {
   "cell_type": "code",
   "execution_count": 50,
   "metadata": {},
   "outputs": [],
   "source": [
    "lr_e_num_clusters_vec = onp.zeros(len(epsilon_list))\n",
    "refit_e_num_clusters_vec = onp.zeros(len(epsilon_list))\n",
    "\n",
    "for i in range(len(epsilon_list)): \n",
    "    \n",
    "    # get dictionaries\n",
    "    pert_dict = vb_params_paragami.fold(vb_pert_list[i], free = True)\n",
    "    lr_dict = vb_params_paragami.fold(lr_list[i], free = True)\n",
    "    \n",
    "    # get posterior expectations\n",
    "    pert_e_ind_admix, pert_e_pop_freq = plotting_utils.get_vb_expectations(pert_dict, gh_loc, gh_weights)\n",
    "    lr_e_ind_admix, lr_e_pop_freq = plotting_utils.get_vb_expectations(lr_dict, gh_loc, gh_weights)\n",
    "    \n",
    "    # get number of clusters\n",
    "    refit_e_num_clusters_vec[i] = cluster_quantities_lib.get_e_num_clusters_from_ez(pert_e_ind_admix)\n",
    "    lr_e_num_clusters_vec[i] = cluster_quantities_lib.get_e_num_clusters_from_ez(lr_e_ind_admix)\n"
   ]
  },
  {
   "cell_type": "code",
   "execution_count": 51,
   "metadata": {},
   "outputs": [
    {
     "data": {
      "text/plain": [
       "<matplotlib.legend.Legend at 0x7fb5f22cbac0>"
      ]
     },
     "execution_count": 51,
     "metadata": {},
     "output_type": "execute_result"
    },
    {
     "data": {
      "image/png": "[encoded data removed]",
      "text/plain": [
       "<Figure size 432x288 with 1 Axes>"
      ]
     },
     "metadata": {
      "needs_background": "light"
     },
     "output_type": "display_data"
    }
   ],
   "source": [
    "plt.plot(epsilon_list, lr_e_num_clusters_vec, '+--')\n",
    "plt.plot(epsilon_list, refit_e_num_clusters_vec, '+-')\n",
    "\n",
    "plt.xlabel('epsilon')\n",
    "plt.ylabel('num posterior clusters')\n",
    "plt.legend(('lr', 'refit'))\n"
   ]
  },
  {
   "cell_type": "code",
   "execution_count": null,
   "metadata": {},
   "outputs": [],
   "source": []
  },
  {
   "cell_type": "code",
   "execution_count": null,
   "metadata": {},
   "outputs": [],
   "source": []
  },
  {
   "cell_type": "code",
   "execution_count": null,
   "metadata": {},
   "outputs": [],
   "source": []
  },
  {
   "cell_type": "raw",
   "metadata": {},
   "source": [
    "stick_propn_mean = vb_params_dict['ind_mix_stick_propn_mean']\n",
    "stick_propn_info = vb_params_dict['ind_mix_stick_propn_info']"
   ]
  },
  {
   "cell_type": "raw",
   "metadata": {},
   "source": [
    "foo1 = modeling_lib.get_e_func_logit_stick_vec(\n",
    "        stick_propn_mean, stick_propn_info,\n",
    "        gh_loc, gh_weights, \n",
    "        log_prior_pert)"
   ]
  },
  {
   "cell_type": "raw",
   "metadata": {},
   "source": [
    "foo2 = func_sens_lib.get_e_log_perturbation(log_prior_pert, stick_propn_mean, stick_propn_info, 1,\n",
    "                                    gh_loc, gh_weights, sum_vector = False)"
   ]
  },
  {
   "cell_type": "raw",
   "metadata": {},
   "source": [
    "import LinearResponseVariationalBayes.ExponentialFamilies as ef\n"
   ]
  },
  {
   "cell_type": "raw",
   "metadata": {},
   "source": [
    "e_phi = np.array([\n",
    "        ef.get_e_fun_normal(\n",
    "            stick_propn_mean[k], stick_propn_info[k], \\\n",
    "            gh_loc, gh_weights, log_prior_pert)\n",
    "        for k in range(len(stick_propn_mean))\n",
    "    ])"
   ]
  },
  {
   "cell_type": "raw",
   "metadata": {},
   "source": [
    "assert np.all(e_phi == -foo2)\n",
    "assert np.all(foo1 == -foo2)"
   ]
  },
  {
   "cell_type": "raw",
   "metadata": {},
   "source": [
    "foo3 = ef.get_e_fun_normal(\n",
    "            stick_propn_mean, stick_propn_info, \\\n",
    "            gh_loc, gh_weights, log_prior_pert)"
   ]
  },
  {
   "cell_type": "raw",
   "metadata": {},
   "source": [
    "assert np.all(foo3 == foo1)"
   ]
  }
 ],
 "metadata": {
  "kernelspec": {
   "display_name": "bnp_sensitivity_jax",
   "language": "python",
   "name": "bnp_sensitivity_jax"
  },
  "language_info": {
   "codemirror_mode": {
    "name": "ipython",
    "version": 3
   },
   "file_extension": ".py",
   "mimetype": "text/x-python",
   "name": "python",
   "nbconvert_exporter": "python",
   "pygments_lexer": "ipython3",
   "version": "3.8.0"
  }
 },
 "nbformat": 4,
 "nbformat_minor": 4
}
