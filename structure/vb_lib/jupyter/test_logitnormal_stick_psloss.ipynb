{
 "cells": [
  {
   "cell_type": "code",
   "execution_count": 1,
   "metadata": {},
   "outputs": [
    {
     "name": "stderr",
     "output_type": "stream",
     "text": [
      "/accounts/grad/runjing_liu/.conda/envs/bnp_sensitivity_jax/lib/python3.8/site-packages/jax/lib/xla_bridge.py:130: UserWarning: No GPU/TPU found, falling back to CPU.\n",
      "  warnings.warn('No GPU/TPU found, falling back to CPU.')\n"
     ]
    }
   ],
   "source": [
    "import jax\n",
    "\n",
    "import jax.numpy as np\n",
    "import jax.scipy as sp\n",
    "\n",
    "from numpy.polynomial.hermite import hermgauss\n",
    "import scipy as osp\n",
    "\n",
    "from vb_lib import structure_model_lib, data_utils, cavi_lib\n",
    "from vb_lib.preconditioner_lib import get_mfvb_cov_matmul\n",
    "from bnpmodeling_runjingdev.sensitivity_lib import get_jac_hvp_fun\n",
    "\n",
    "import paragami\n",
    "\n",
    "from copy import deepcopy\n",
    "\n",
    "import time\n",
    "\n",
    "import matplotlib.pyplot as plt\n",
    "%matplotlib inline  \n",
    "\n",
    "from bnpmodeling_runjingdev import cluster_quantities_lib, modeling_lib\n"
   ]
  },
  {
   "cell_type": "code",
   "execution_count": 2,
   "metadata": {},
   "outputs": [],
   "source": [
    "import numpy as onp\n",
    "onp.random.seed(53453)"
   ]
  },
  {
   "cell_type": "markdown",
   "metadata": {},
   "source": [
    "# Load data"
   ]
  },
  {
   "cell_type": "code",
   "execution_count": 3,
   "metadata": {},
   "outputs": [],
   "source": [
    "data = np.load('../simulated_data/simulated_structure_data_nobs20_nloci50_npop4.npz')\n",
    "g_obs = np.array(data['g_obs'])"
   ]
  },
  {
   "cell_type": "code",
   "execution_count": 4,
   "metadata": {},
   "outputs": [],
   "source": [
    "# data_dir = '../../../../fastStructure/hgdp_data/huang2011_plink_files/'\n",
    "# filenamebase = 'phased_HGDP+India+Africa_2810SNPs-regions1to36'\n",
    "# filename = data_dir + filenamebase + '.npz'\n",
    "# data = np.load(filename)\n",
    "\n",
    "# g_obs = np.array(data['g_obs'])\n",
    "# g_obs_raw = np.array(data['g_obs_raw'])\n",
    "\n",
    "# # just checking ... \n",
    "# which_missing = (g_obs_raw == 3)\n",
    "# (g_obs.argmax(-1) == g_obs_raw)[~which_missing].all()\n",
    "# (g_obs[which_missing] == 0).all()"
   ]
  },
  {
   "cell_type": "code",
   "execution_count": 5,
   "metadata": {},
   "outputs": [],
   "source": [
    "n_obs = g_obs.shape[0]\n",
    "n_loci = g_obs.shape[1]"
   ]
  },
  {
   "cell_type": "code",
   "execution_count": 6,
   "metadata": {},
   "outputs": [
    {
     "name": "stdout",
     "output_type": "stream",
     "text": [
      "20\n",
      "50\n"
     ]
    }
   ],
   "source": [
    "print(n_obs)\n",
    "print(n_loci)"
   ]
  },
  {
   "cell_type": "markdown",
   "metadata": {},
   "source": [
    "# Get prior"
   ]
  },
  {
   "cell_type": "code",
   "execution_count": 7,
   "metadata": {},
   "outputs": [],
   "source": [
    "_, prior_params_paragami = \\\n",
    "    structure_model_lib.get_default_prior_params()\n",
    "\n",
    "prior_params_dict = prior_params_paragami.random(key=jax.random.PRNGKey(41))\n",
    "prior_params_free = prior_params_paragami.flatten(prior_params_dict, free = True)"
   ]
  },
  {
   "cell_type": "markdown",
   "metadata": {},
   "source": [
    "# Get VB params "
   ]
  },
  {
   "cell_type": "code",
   "execution_count": 8,
   "metadata": {},
   "outputs": [],
   "source": [
    "k_approx = 15"
   ]
  },
  {
   "cell_type": "code",
   "execution_count": 9,
   "metadata": {},
   "outputs": [],
   "source": [
    "gh_deg = 8\n",
    "gh_loc, gh_weights = hermgauss(8)"
   ]
  },
  {
   "cell_type": "code",
   "execution_count": 10,
   "metadata": {
    "scrolled": true
   },
   "outputs": [
    {
     "name": "stdout",
     "output_type": "stream",
     "text": [
      "OrderedDict:\n",
      "\t[pop_freq_beta_params] = NumericArrayPattern (50, 15, 2) (lb=0.0, ub=inf)\n",
      "\t[ind_admix_params] = OrderedDict:\n",
      "\t[stick_means] = NumericArrayPattern (20, 14) (lb=-inf, ub=inf)\n",
      "\t[stick_infos] = NumericArrayPattern (20, 14) (lb=0.0001, ub=inf)\n"
     ]
    }
   ],
   "source": [
    "use_logitnormal_sticks = True\n",
    "\n",
    "vb_params_dict, vb_params_paragami = \\\n",
    "    structure_model_lib.get_vb_params_paragami_object(n_obs, n_loci, k_approx,\n",
    "                                    use_logitnormal_sticks = use_logitnormal_sticks)\n",
    "    \n",
    "print(vb_params_paragami)"
   ]
  },
  {
   "cell_type": "code",
   "execution_count": 11,
   "metadata": {},
   "outputs": [],
   "source": [
    "vb_params_dict = vb_params_paragami.random(key=jax.random.PRNGKey(41))"
   ]
  },
  {
   "cell_type": "markdown",
   "metadata": {},
   "source": [
    "# Define ind admixture objective"
   ]
  },
  {
   "cell_type": "code",
   "execution_count": 12,
   "metadata": {},
   "outputs": [],
   "source": [
    "# get initial moments from vb_params\n",
    "e_log_sticks, e_log_1m_sticks, \\\n",
    "    e_log_pop_freq, e_log_1m_pop_freq = \\\n",
    "        structure_model_lib.get_moments_from_vb_params_dict(\n",
    "            vb_params_dict, gh_loc, gh_weights)"
   ]
  },
  {
   "cell_type": "code",
   "execution_count": 13,
   "metadata": {},
   "outputs": [],
   "source": [
    "import vb_lib.structure_optimization_lib as s_optim_lib"
   ]
  },
  {
   "cell_type": "code",
   "execution_count": 14,
   "metadata": {},
   "outputs": [],
   "source": [
    "# the \"pseudo\"-loss\n",
    "_ind_admix_ps_obj = paragami.FlattenFunctionInput(\n",
    "                                original_fun=lambda *x :\n",
    "                                                  s_optim_lib.get_ind_admix_params_psloss(*x, \n",
    "                                                                                          detach_ez = True),\n",
    "                                patterns = vb_params_paragami['ind_admix_params'],\n",
    "                                free = True,\n",
    "                                argnums = 1)\n",
    "\n",
    "ind_admix_ps_obj = jax.jit(_ind_admix_ps_obj)"
   ]
  },
  {
   "cell_type": "code",
   "execution_count": 15,
   "metadata": {},
   "outputs": [],
   "source": [
    "# the correct loss\n",
    "_ind_admix_obj = paragami.FlattenFunctionInput(\n",
    "                                original_fun=lambda *x :\n",
    "                                                  s_optim_lib.get_ind_admix_params_loss(*x, \n",
    "                                                                                          detach_ez = True),\n",
    "                                patterns = vb_params_paragami['ind_admix_params'],\n",
    "                                free = True,\n",
    "                                argnums = 1)\n",
    "\n",
    "ind_admix_obj = jax.jit(_ind_admix_obj)\n"
   ]
  },
  {
   "cell_type": "code",
   "execution_count": 16,
   "metadata": {},
   "outputs": [],
   "source": [
    "ind_admix_params_free = vb_params_paragami['ind_admix_params'].flatten(\n",
    "                            vb_params_dict['ind_admix_params'], free = True)"
   ]
  },
  {
   "cell_type": "code",
   "execution_count": 17,
   "metadata": {},
   "outputs": [
    {
     "name": "stdout",
     "output_type": "stream",
     "text": [
      "2793.0258955601635\n",
      "2793.3532499668454\n"
     ]
    }
   ],
   "source": [
    "ps_loss = ind_admix_ps_obj(g_obs, \n",
    "                    ind_admix_params_free, \n",
    "                    e_log_pop_freq, e_log_1m_pop_freq, \n",
    "                    prior_params_dict, \n",
    "                    gh_loc, gh_weights).block_until_ready()\n",
    "\n",
    "print(ps_loss)\n",
    "\n",
    "loss = ind_admix_obj(g_obs, \n",
    "                    ind_admix_params_free, \n",
    "                    vb_params_dict['pop_freq_beta_params'], \n",
    "                    prior_params_dict,\n",
    "                    gh_loc, gh_weights).block_until_ready()\n",
    "print(loss)"
   ]
  },
  {
   "cell_type": "markdown",
   "metadata": {},
   "source": [
    "# Check gradients match"
   ]
  },
  {
   "cell_type": "code",
   "execution_count": 18,
   "metadata": {},
   "outputs": [],
   "source": [
    "ind_admix_grad1 = jax.jit(jax.grad(_ind_admix_ps_obj, argnums = 1))\n",
    "ind_admix_grad2 = jax.jit(jax.grad(_ind_admix_obj, argnums = 1))"
   ]
  },
  {
   "cell_type": "code",
   "execution_count": 19,
   "metadata": {},
   "outputs": [],
   "source": [
    "grad1 = ind_admix_grad1(g_obs, \n",
    "                    ind_admix_params_free, \n",
    "                    e_log_pop_freq, e_log_1m_pop_freq, \n",
    "                    prior_params_dict, \n",
    "                    gh_loc, gh_weights).block_until_ready()\n",
    "\n",
    "grad2 = ind_admix_grad2(g_obs, \n",
    "                    ind_admix_params_free, \n",
    "                    vb_params_dict['pop_freq_beta_params'], \n",
    "                    prior_params_dict,\n",
    "                    gh_loc, gh_weights).block_until_ready()"
   ]
  },
  {
   "cell_type": "code",
   "execution_count": 20,
   "metadata": {},
   "outputs": [
    {
     "data": {
      "text/plain": [
       "DeviceArray(2.13162821e-14, dtype=float64)"
      ]
     },
     "execution_count": 20,
     "metadata": {},
     "output_type": "execute_result"
    }
   ],
   "source": [
    "np.abs(grad1 - grad2).max()"
   ]
  },
  {
   "cell_type": "markdown",
   "metadata": {},
   "source": [
    "### Check timing"
   ]
  },
  {
   "cell_type": "code",
   "execution_count": 25,
   "metadata": {},
   "outputs": [
    {
     "name": "stdout",
     "output_type": "stream",
     "text": [
      "0.0043981075286865234\n"
     ]
    }
   ],
   "source": [
    "t0 = time.time()\n",
    "grad1 = ind_admix_grad1(g_obs, \n",
    "                    ind_admix_params_free, \n",
    "                    e_log_pop_freq, e_log_1m_pop_freq, \n",
    "                    prior_params_dict, \n",
    "                    gh_loc, gh_weights).block_until_ready()\n",
    "print(time.time() - t0)\n",
    "\n"
   ]
  },
  {
   "cell_type": "code",
   "execution_count": 23,
   "metadata": {},
   "outputs": [
    {
     "name": "stdout",
     "output_type": "stream",
     "text": [
      "0.00717473030090332\n"
     ]
    }
   ],
   "source": [
    "t0 = time.time()\n",
    "\n",
    "grad2 = ind_admix_grad2(g_obs, \n",
    "                    ind_admix_params_free, \n",
    "                    vb_params_dict['pop_freq_beta_params'], \n",
    "                    prior_params_dict,\n",
    "                    gh_loc, gh_weights).block_until_ready()\n",
    "print(time.time() - t0)\n"
   ]
  },
  {
   "cell_type": "markdown",
   "metadata": {},
   "source": [
    "# Check hessian vector products"
   ]
  },
  {
   "cell_type": "code",
   "execution_count": 26,
   "metadata": {},
   "outputs": [],
   "source": [
    "# our get hvp function requires a functon with only one input argument\n",
    "f2 = lambda x : _ind_admix_obj(g_obs, \n",
    "                                x, \n",
    "                                vb_params_dict['pop_freq_beta_params'], \n",
    "                                prior_params_dict,\n",
    "                                gh_loc, gh_weights)\n",
    "\n",
    "ind_admix_hvp2 = jax.jit(get_jac_hvp_fun(f2))"
   ]
  },
  {
   "cell_type": "code",
   "execution_count": 27,
   "metadata": {},
   "outputs": [],
   "source": [
    "# define a custom HVP function \n",
    "# so that we can jit all the inputs\n",
    "def _ind_admix_hvp1(g_obs, \n",
    "                    ind_admix_params_free, \n",
    "                    e_log_pop_freq, e_log_1m_pop_freq, \n",
    "                    prior_params_dict, \n",
    "                    gh_loc, gh_weights, \n",
    "                    v): \n",
    "    \n",
    "    loss = lambda x : ind_admix_ps_obj(g_obs, \n",
    "                                        x, \n",
    "                                        e_log_pop_freq, e_log_1m_pop_freq, \n",
    "                                        prior_params_dict, \n",
    "                                        gh_loc, gh_weights)\n",
    "    \n",
    "    return jax.jvp(jax.grad(loss), (ind_admix_params_free, ), (v, ))[1]\n",
    "\n",
    "ind_admix_hvp1 = jax.jit(_ind_admix_hvp1)"
   ]
  },
  {
   "cell_type": "code",
   "execution_count": 28,
   "metadata": {},
   "outputs": [],
   "source": [
    "hvp1 = ind_admix_hvp1(g_obs, \n",
    "                ind_admix_params_free, \n",
    "                e_log_pop_freq, e_log_1m_pop_freq, \n",
    "                prior_params_dict, \n",
    "                gh_loc, gh_weights, \n",
    "                ind_admix_params_free)"
   ]
  },
  {
   "cell_type": "code",
   "execution_count": 29,
   "metadata": {},
   "outputs": [],
   "source": [
    "hvp2 = ind_admix_hvp2(ind_admix_params_free, ind_admix_params_free)"
   ]
  },
  {
   "cell_type": "code",
   "execution_count": 30,
   "metadata": {},
   "outputs": [
    {
     "data": {
      "text/plain": [
       "DeviceArray(7.10542736e-15, dtype=float64)"
      ]
     },
     "execution_count": 30,
     "metadata": {},
     "output_type": "execute_result"
    }
   ],
   "source": [
    "np.abs(hvp1 - hvp2).max()"
   ]
  },
  {
   "cell_type": "code",
   "execution_count": 38,
   "metadata": {},
   "outputs": [
    {
     "name": "stdout",
     "output_type": "stream",
     "text": [
      "0.005336284637451172\n"
     ]
    }
   ],
   "source": [
    "t0 = time.time()\n",
    "ind_admix_hvp1(g_obs, \n",
    "                ind_admix_params_free, \n",
    "                e_log_pop_freq, e_log_1m_pop_freq, \n",
    "                prior_params_dict, \n",
    "                gh_loc, gh_weights, \n",
    "                ind_admix_params_free).block_until_ready()\n",
    "\n",
    "print(time.time() - t0)"
   ]
  },
  {
   "cell_type": "code",
   "execution_count": 44,
   "metadata": {},
   "outputs": [
    {
     "name": "stdout",
     "output_type": "stream",
     "text": [
      "0.006170511245727539\n"
     ]
    }
   ],
   "source": [
    "t0 = time.time()\n",
    "_ = ind_admix_hvp2(ind_admix_params_free, ind_admix_params_free).block_until_ready()\n",
    "print(time.time() - t0)"
   ]
  },
  {
   "cell_type": "code",
   "execution_count": null,
   "metadata": {},
   "outputs": [],
   "source": []
  },
  {
   "cell_type": "code",
   "execution_count": null,
   "metadata": {},
   "outputs": [],
   "source": []
  },
  {
   "cell_type": "raw",
   "metadata": {},
   "source": [
    "ind_admix_hvp1 = jax.jit(jax.hessian(_ind_admix_ps_obj, argnums = 1))\n"
   ]
  },
  {
   "cell_type": "raw",
   "metadata": {},
   "source": [
    "hess = ind_admix_hvp1(g_obs, \n",
    "                    ind_admix_params_free, \n",
    "                    e_log_pop_freq, e_log_1m_pop_freq, \n",
    "                    prior_params_dict, \n",
    "                    gh_loc, gh_weights)\n",
    "\n",
    "hess2 = ind_admix_hvp2(g_obs, \n",
    "                    ind_admix_params_free, \n",
    "                    vb_params_dict['pop_freq_beta_params'], \n",
    "                    prior_params_dict, \n",
    "                    gh_loc, gh_weights)"
   ]
  },
  {
   "cell_type": "raw",
   "metadata": {},
   "source": [
    "np.abs(hess - hess2).max()"
   ]
  },
  {
   "cell_type": "raw",
   "metadata": {},
   "source": [
    "hess.shape"
   ]
  },
  {
   "cell_type": "raw",
   "metadata": {},
   "source": []
  },
  {
   "cell_type": "raw",
   "metadata": {},
   "source": []
  },
  {
   "cell_type": "raw",
   "metadata": {},
   "source": [
    "ind_admix_hvp1((g_obs, \n",
    "                    ind_admix_params_free, \n",
    "                    e_log_pop_freq, e_log_1m_pop_freq, \n",
    "                    prior_params_dict, \n",
    "                    gh_loc, gh_weights), \n",
    "               ind_admix_params_free)"
   ]
  },
  {
   "cell_type": "raw",
   "metadata": {},
   "source": []
  },
  {
   "cell_type": "raw",
   "metadata": {},
   "source": []
  },
  {
   "cell_type": "raw",
   "metadata": {},
   "source": []
  },
  {
   "cell_type": "raw",
   "metadata": {},
   "source": [
    "get_ind_admix_params_psloss = jax.jit()\n",
    "get_ind_admix_params_loss = jax.jit(lambda *x : \n",
    "                                    s_optim_lib.get_ind_admix_params_loss(*x, detach_ez = True))"
   ]
  },
  {
   "cell_type": "raw",
   "metadata": {},
   "source": [
    "ps_loss = get_ind_admix_params_psloss(g_obs, \n",
    "                                        vb_params_dict['ind_admix_params'], \n",
    "                                        e_log_pop_freq, e_log_1m_pop_freq, \n",
    "                                        prior_params_dict, \n",
    "                                        gh_loc, gh_weights)\n",
    "\n",
    "loss = get_ind_admix_params_loss(g_obs, \n",
    "                                    vb_params_dict['ind_admix_params'], \n",
    "                                    vb_params_dict['pop_freq_beta_params'], \n",
    "                                    prior_params_dict,\n",
    "                                    gh_loc, gh_weights)"
   ]
  },
  {
   "cell_type": "raw",
   "metadata": {},
   "source": [
    "ind_admix_params_free = vb_params_paragami['ind_admix_params'].flatten(\n",
    "                            vb_params_dict['ind_admix_params'], free = True)"
   ]
  },
  {
   "cell_type": "raw",
   "metadata": {},
   "source": []
  },
  {
   "cell_type": "raw",
   "metadata": {},
   "source": []
  },
  {
   "cell_type": "raw",
   "metadata": {},
   "source": [
    "structure_optimization_lib.get_ind_admix_params_psloss(g_obs, \n",
    "                                                     vb_params_dict['ind_admix_params'], \n",
    "                                                      gh_loc, gh_weights,\n",
    "                                                      e_log_pop_freq, e_log_1m_pop_freq, \n",
    "                                                      prior_params_dict, \n",
    "                                                      detach_ez = True)"
   ]
  },
  {
   "cell_type": "raw",
   "metadata": {},
   "source": [
    "_ind_admix_obj = paragami.FlattenFunctionInput(\n",
    "                                original_fun=structure_optimization_lib.get_ind_admix_params_loss,\n",
    "                                patterns = vb_params_paragami['ind_admix_params'],\n",
    "                                free = True,\n",
    "                                argnums = 1)\n",
    "\n",
    "ind_admix_obj = jax.jit(_ind_admix_obj)\n",
    "ind_admix_grad = jax.jit(jax.grad(_ind_admix_obj, argnums = 1))"
   ]
  },
  {
   "cell_type": "raw",
   "metadata": {},
   "source": []
  },
  {
   "cell_type": "raw",
   "metadata": {},
   "source": [
    "ind_admix_obj(g_obs, \n",
    "                ind_admix_params_free, \n",
    "                gh_loc, gh_weights,\n",
    "                e_log_pop_freq, e_log_1m_pop_freq, \n",
    "                prior_params_dict)"
   ]
  },
  {
   "cell_type": "raw",
   "metadata": {},
   "source": [
    "grad = ind_admix_grad(g_obs, \n",
    "                ind_admix_params_free, \n",
    "                gh_loc, gh_weights,\n",
    "                e_log_pop_freq, e_log_1m_pop_freq, \n",
    "                prior_params_dict)"
   ]
  },
  {
   "cell_type": "raw",
   "metadata": {},
   "source": [
    "def get_ind_admix_params_loss(g_obs, \n",
    "                            ind_admix_params, \n",
    "                            pop_freq_beta_params, \n",
    "                            prior_params_dict, \n",
    "                            gh_loc, gh_weights, \n",
    "                            detach_ez = True):\n",
    "        \n",
    "    vb_params_dict = dict({'pop_freq_beta_params':pop_freq_beta_params,\n",
    "                           'ind_admix_params': ind_admix_params})\n",
    "\n",
    "    return structure_model_lib.get_kl(g_obs,\n",
    "                                        vb_params_dict,\n",
    "                                        prior_params_dict,\n",
    "                                        gh_loc, gh_weights,\n",
    "                                        detach_ez = detach_ez)"
   ]
  },
  {
   "cell_type": "raw",
   "metadata": {},
   "source": [
    "get_ind_admix_params_loss(g_obs, \n",
    "                            vb_params_dict['ind_admix_params'], \n",
    "                            vb_params_dict['pop_freq_beta_params'], \n",
    "                            prior_params_dict, \n",
    "                            gh_loc, gh_weights)"
   ]
  },
  {
   "cell_type": "raw",
   "metadata": {},
   "source": []
  },
  {
   "cell_type": "raw",
   "metadata": {},
   "source": []
  },
  {
   "cell_type": "raw",
   "metadata": {},
   "source": [
    "dp_prior_alpha = prior_params_dict['dp_prior_alpha']\n",
    "allele_prior_alpha = prior_params_dict['allele_prior_alpha']\n",
    "allele_prior_beta = prior_params_dict['allele_prior_beta']\n",
    "\n",
    "# get initial moments from vb_params\n",
    "e_log_sticks, e_log_1m_sticks, \\\n",
    "    e_log_pop_freq, e_log_1m_pop_freq = \\\n",
    "        structure_model_lib.get_moments_from_vb_params_dict(\n",
    "            vb_params_dict, gh_loc, gh_weights)"
   ]
  },
  {
   "cell_type": "raw",
   "metadata": {},
   "source": []
  },
  {
   "cell_type": "raw",
   "metadata": {},
   "source": [
    "e_log_cluster_probs.shape"
   ]
  },
  {
   "cell_type": "raw",
   "metadata": {},
   "source": []
  },
  {
   "cell_type": "raw",
   "metadata": {},
   "source": []
  },
  {
   "cell_type": "raw",
   "metadata": {},
   "source": [
    "get_pop_beta_update1_ad = jax.jit(cavi_lib.get_pop_beta_update1_ad)"
   ]
  },
  {
   "cell_type": "raw",
   "metadata": {},
   "source": [
    "t0 = time.time()\n",
    "foo = get_pop_beta_update1_ad(g_obs,\n",
    "                    e_log_pop_freq, e_log_1m_pop_freq,\n",
    "                    e_log_sticks, e_log_1m_sticks,\n",
    "                    dp_prior_alpha, allele_prior_alpha,\n",
    "                    allele_prior_beta)\n",
    "foo[0].block_until_ready()\n",
    "print(time.time() - t0)"
   ]
  },
  {
   "cell_type": "raw",
   "metadata": {},
   "source": [
    "t0 = time.time() \n",
    "out = get_pop_beta_update1_ad(g_obs,\n",
    "                    e_log_pop_freq, e_log_1m_pop_freq,\n",
    "                    e_log_sticks, e_log_1m_sticks,\n",
    "                    dp_prior_alpha, allele_prior_alpha,\n",
    "                    allele_prior_beta)\n",
    "out[0].block_until_ready()\n",
    "\n",
    "print(time.time() - t0)"
   ]
  },
  {
   "cell_type": "raw",
   "metadata": {},
   "source": [
    "g_obs.shape"
   ]
  },
  {
   "cell_type": "raw",
   "metadata": {},
   "source": [
    "e_log_cluster_probs = \\\n",
    "    modeling_lib.get_e_log_cluster_probabilities_from_e_log_stick(\n",
    "                        e_log_sticks, e_log_1m_sticks)"
   ]
  },
  {
   "cell_type": "raw",
   "metadata": {},
   "source": [
    "l = 0"
   ]
  },
  {
   "cell_type": "raw",
   "metadata": {},
   "source": [
    "g_obs_l = g_obs[:, l, :]\n",
    "\n",
    "g_obs_l0 = g_obs_l[:, 0]\n",
    "g_obs_l1 = g_obs_l[:, 1]\n",
    "g_obs_l2 = g_obs_l[:, 2]\n"
   ]
  },
  {
   "cell_type": "raw",
   "metadata": {},
   "source": [
    "(g_obs_l0 + g_obs_1)"
   ]
  },
  {
   "cell_type": "raw",
   "metadata": {},
   "source": []
  },
  {
   "cell_type": "raw",
   "metadata": {},
   "source": []
  },
  {
   "cell_type": "raw",
   "metadata": {},
   "source": [
    "def update_pop_beta():\n",
    "    "
   ]
  },
  {
   "cell_type": "raw",
   "metadata": {},
   "source": []
  },
  {
   "cell_type": "raw",
   "metadata": {},
   "source": []
  },
  {
   "cell_type": "raw",
   "metadata": {},
   "source": [
    "class StickObjective():\n",
    "    def __init__(self, g_obs, vb_params_paragami, prior_params_dict, \n",
    "                            gh_loc, gh_weights, log_phi, epsilon): \n",
    "        self.g_obs = g_obs\n",
    "        vb_params_paragami = vb_params_paragami\n",
    "        \n",
    "        self.prior_params_dict = prior_params_dict\n",
    "        self.gh_loc = gh_loc\n",
    "        self.gh_weights = gh_weights\n",
    "        \n",
    "        self.log_phi = log_phi\n",
    "        self.epsilon = epsilon\n",
    "        \n",
    "        self.stick_objective_fun = \\\n",
    "            paragami.FlattenFunctionInput(\n",
    "                original_fun =self._get_ind_admix_sticks_loss,\n",
    "                patterns = vb_params_paragami['ind_admix_params'],\n",
    "                free = True,\n",
    "                argnums = 0)\n",
    "        \n",
    "        # objective and gradients\n",
    "        self.f = jax.jit(self.stick_objective_fun)\n",
    "        self.grad = jax.jit(jax.grad(self.stick_objective_fun, argnums = 0))  \n",
    "        \n",
    "        # compile \n",
    "        print('compiling stick objective and gradients ...')\n",
    "        t0 = time.time()\n",
    "        param_dict = vb_params_paragami.random()\n",
    "        stick_free_params = vb_params_paragami['ind_admix_params'].flatten(\n",
    "                                param_dict['ind_admix_params'], free = True)\n",
    "        _ = self.f(stick_free_params, param_dict['pop_freq_beta_params'])\n",
    "        _ = self.grad(stick_free_params, param_dict['pop_freq_beta_params'])\n",
    "        print('compile time: {0:.3g}sec'.format(time.time() - t0))\n",
    "        \n",
    "    def _get_ind_admix_sticks_loss(self, \n",
    "                                ind_admix_params,\n",
    "                                pop_freq_beta_params):\n",
    "        \n",
    "        vb_params_dict = dict({'pop_freq_beta_params':pop_freq_beta_params,\n",
    "                          'ind_admix_params': ind_admix_params})\n",
    "\n",
    "        return structure_model_lib.get_kl(self.g_obs,\n",
    "                                            vb_params_dict,\n",
    "                                            self.prior_params_dict,\n",
    "                                            self.gh_loc, self.gh_weights,\n",
    "                                            self.log_phi,\n",
    "                                            self.epsilon,\n",
    "                                            detach_ez = False)\n",
    "    "
   ]
  },
  {
   "cell_type": "raw",
   "metadata": {},
   "source": [
    "stick_objective = StickObjective(g_obs, vb_params_paragami, prior_params_dict, \n",
    "                                 gh_loc, gh_weights, log_phi = None, epsilon = 0.)"
   ]
  },
  {
   "cell_type": "raw",
   "metadata": {},
   "source": [
    "pop_freq_beta_params = vb_params_dict['pop_freq_beta_params']\n",
    "x = vb_params_paragami['ind_admix_params'].flatten(vb_params_dict['ind_admix_params'], free = True)"
   ]
  },
  {
   "cell_type": "raw",
   "metadata": {},
   "source": [
    "t0 = time.time()\n",
    "_ = stick_objective.f(x, pop_freq_beta_params).block_until_ready()\n",
    "print(time.time() - t0)"
   ]
  },
  {
   "cell_type": "raw",
   "metadata": {},
   "source": []
  },
  {
   "cell_type": "raw",
   "metadata": {},
   "source": []
  },
  {
   "cell_type": "raw",
   "metadata": {},
   "source": []
  },
  {
   "cell_type": "raw",
   "metadata": {},
   "source": [
    "def _get_ind_admix_sticks_loss(g_obs,\n",
    "                                ind_admix_params,\n",
    "                                pop_freq_beta_params,\n",
    "                                prior_params_dict,\n",
    "                                gh_loc, gh_weights,\n",
    "                                log_phi, epsilon):\n",
    "\n",
    "    vb_params_dict = dict({'pop_freq_beta_params':pop_freq_beta_params,\n",
    "                          'ind_admix_params': ind_admix_params})\n",
    "\n",
    "    return structure_model_lib.get_kl(g_obs, vb_params_dict,\n",
    "                                        prior_params_dict,\n",
    "                                        gh_loc, gh_weights,\n",
    "                                        log_phi,\n",
    "                                        epsilon,\n",
    "                                        detach_ez = False)"
   ]
  },
  {
   "cell_type": "raw",
   "metadata": {},
   "source": []
  },
  {
   "cell_type": "raw",
   "metadata": {},
   "source": []
  },
  {
   "cell_type": "raw",
   "metadata": {},
   "source": []
  },
  {
   "cell_type": "raw",
   "metadata": {},
   "source": []
  },
  {
   "cell_type": "raw",
   "metadata": {},
   "source": []
  },
  {
   "cell_type": "raw",
   "metadata": {},
   "source": [
    "from vb_lib.structure_optimization_lib import define_structure_objective\n",
    "from bnpmodeling_runjingdev.optimization_lib import run_lbfgs"
   ]
  },
  {
   "cell_type": "raw",
   "metadata": {},
   "source": [
    "from scipy import optimize"
   ]
  },
  {
   "cell_type": "raw",
   "metadata": {},
   "source": [
    "optim_objective, init_vb_free = \\\n",
    "    define_structure_objective(g_obs, vb_params_dict,\n",
    "                        vb_params_paragami,\n",
    "                        prior_params_dict,\n",
    "                        gh_loc = gh_loc,\n",
    "                        gh_weights = gh_weights, \n",
    "                        compile_hvp=True)"
   ]
  },
  {
   "cell_type": "raw",
   "metadata": {},
   "source": [
    "t0 = time.time()\n",
    "_ = optim_objective.hvp_np(init_vb_free, init_vb_free)\n",
    "time.time() - t0"
   ]
  },
  {
   "cell_type": "raw",
   "metadata": {},
   "source": []
  },
  {
   "cell_type": "raw",
   "metadata": {},
   "source": []
  },
  {
   "cell_type": "raw",
   "metadata": {},
   "source": [
    "# Check out the fit"
   ]
  },
  {
   "cell_type": "raw",
   "metadata": {},
   "source": [
    "# fitted\n",
    "e_ind_admix = get_vb_expectations(vb_opt_dict, use_logitnormal_sticks)[0]\n",
    "plt.matshow(e_ind_admix.T)"
   ]
  },
  {
   "cell_type": "raw",
   "metadata": {},
   "source": []
  },
  {
   "cell_type": "raw",
   "metadata": {},
   "source": []
  },
  {
   "cell_type": "raw",
   "metadata": {},
   "source": []
  },
  {
   "cell_type": "raw",
   "metadata": {},
   "source": []
  }
 ],
 "metadata": {
  "kernelspec": {
   "display_name": "bnp_sensitivity_jax",
   "language": "python",
   "name": "bnp_sensitivity_jax"
  },
  "language_info": {
   "codemirror_mode": {
    "name": "ipython",
    "version": 3
   },
   "file_extension": ".py",
   "mimetype": "text/x-python",
   "name": "python",
   "nbconvert_exporter": "python",
   "pygments_lexer": "ipython3",
   "version": "3.8.0"
  }
 },
 "nbformat": 4,
 "nbformat_minor": 4
}
