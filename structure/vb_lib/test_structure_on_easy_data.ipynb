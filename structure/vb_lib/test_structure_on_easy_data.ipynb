{
 "cells": [
  {
   "cell_type": "code",
   "execution_count": 1,
   "metadata": {
    "collapsed": false
   },
   "outputs": [],
   "source": [
    "import autograd \n",
    "\n",
    "import autograd.numpy as np\n",
    "import autograd.scipy as sp\n",
    "from numpy.polynomial.hermite import hermgauss\n",
    "\n",
    "import structure_model_lib \n",
    "import dp_modeling_lib\n",
    "import data_utils\n",
    "\n",
    "import paragami\n",
    "\n",
    "import optimization_lib as opt_lib\n",
    "\n",
    "from itertools import permutations\n",
    "\n",
    "import matplotlib.pyplot as plt\n",
    "%matplotlib inline  \n"
   ]
  },
  {
   "cell_type": "code",
   "execution_count": 2,
   "metadata": {
    "collapsed": true
   },
   "outputs": [],
   "source": [
    "np.random.seed(534534)"
   ]
  },
  {
   "cell_type": "markdown",
   "metadata": {
    "collapsed": true
   },
   "source": [
    "# Draw data"
   ]
  },
  {
   "cell_type": "code",
   "execution_count": 3,
   "metadata": {
    "collapsed": false
   },
   "outputs": [],
   "source": [
    "n_obs = 160\n",
    "n_loci = 5\n",
    "n_pop = 4\n",
    "\n",
    "# population allele frequencies\n",
    "p1 = 0.99\n",
    "p0 = 0.01\n",
    "true_pop_allele_freq = np.maximum(np.eye(n_loci, n_pop) * p1, p0)\n",
    "\n",
    "# individual admixtures\n",
    "scale = 10\n",
    "true_ind_admix_propn = np.random.choice(n_pop, n_obs)\n",
    "true_ind_admix_propn = scale * data_utils.get_one_hot(true_ind_admix_propn, nb_classes = n_pop)\n",
    "true_ind_admix_propn = np.exp(true_ind_admix_propn) / np.exp(true_ind_admix_propn).sum(axis = 1, keepdims=True)"
   ]
  },
  {
   "cell_type": "code",
   "execution_count": 4,
   "metadata": {
    "collapsed": false
   },
   "outputs": [
    {
     "name": "stdout",
     "output_type": "stream",
     "text": [
      "[[0.99 0.01 0.01 0.01]\n",
      " [0.01 0.99 0.01 0.01]\n",
      " [0.01 0.01 0.99 0.01]\n",
      " [0.01 0.01 0.01 0.99]\n",
      " [0.01 0.01 0.01 0.01]]\n"
     ]
    }
   ],
   "source": [
    "print(true_pop_allele_freq)"
   ]
  },
  {
   "cell_type": "code",
   "execution_count": 5,
   "metadata": {
    "collapsed": false
   },
   "outputs": [
    {
     "data": {
      "text/plain": [
       "array([[9.99863819e-01, 4.53937471e-05, 4.53937471e-05, 4.53937471e-05],\n",
       "       [9.99863819e-01, 4.53937471e-05, 4.53937471e-05, 4.53937471e-05],\n",
       "       [4.53937471e-05, 4.53937471e-05, 9.99863819e-01, 4.53937471e-05],\n",
       "       [9.99863819e-01, 4.53937471e-05, 4.53937471e-05, 4.53937471e-05],\n",
       "       [4.53937471e-05, 9.99863819e-01, 4.53937471e-05, 4.53937471e-05]])"
      ]
     },
     "execution_count": 5,
     "metadata": {},
     "output_type": "execute_result"
    }
   ],
   "source": [
    "true_ind_admix_propn[0:5, :]"
   ]
  },
  {
   "cell_type": "code",
   "execution_count": 6,
   "metadata": {
    "collapsed": false
   },
   "outputs": [],
   "source": [
    "g_obs = data_utils.draw_data(true_pop_allele_freq, true_ind_admix_propn)"
   ]
  },
  {
   "cell_type": "markdown",
   "metadata": {},
   "source": [
    "# Get prior"
   ]
  },
  {
   "cell_type": "code",
   "execution_count": 7,
   "metadata": {
    "collapsed": false
   },
   "outputs": [
    {
     "name": "stdout",
     "output_type": "stream",
     "text": [
      "OrderedDict:\n",
      "\t[dp_prior_alpha] = NumericArrayPattern (1,) (lb=0.0, ub=inf)\n",
      "\t[allele_prior_alpha] = NumericArrayPattern (1,) (lb=0.0, ub=inf)\n",
      "\t[allele_prior_beta] = NumericArrayPattern (1,) (lb=0.0, ub=inf)\n"
     ]
    }
   ],
   "source": [
    "prior_params_dict, prior_params_paragami = \\\n",
    "    structure_model_lib.get_default_prior_params()\n",
    "\n",
    "print(prior_params_paragami)"
   ]
  },
  {
   "cell_type": "markdown",
   "metadata": {},
   "source": [
    "# Get VB params "
   ]
  },
  {
   "cell_type": "code",
   "execution_count": 8,
   "metadata": {
    "collapsed": false,
    "scrolled": true
   },
   "outputs": [
    {
     "name": "stdout",
     "output_type": "stream",
     "text": [
      "OrderedDict:\n",
      "\t[pop_freq_beta_params] = NumericArrayPattern (5, 4, 2) (lb=0.0, ub=inf)\n",
      "\t[ind_mix_stick_propn_mean] = NumericArrayPattern (160, 3) (lb=-inf, ub=inf)\n",
      "\t[ind_mix_stick_propn_info] = NumericArrayPattern (160, 3) (lb=0.0001, ub=inf)\n"
     ]
    }
   ],
   "source": [
    "k_approx = n_pop\n",
    "vb_params_dict, vb_params_paragami = \\\n",
    "    structure_model_lib.get_vb_params_paragami_object(n_obs, n_loci, k_approx)\n",
    "    \n",
    "print(vb_params_paragami)"
   ]
  },
  {
   "cell_type": "code",
   "execution_count": 9,
   "metadata": {
    "collapsed": true
   },
   "outputs": [],
   "source": [
    "ind_mix_stick_propn_mean = vb_params_dict['ind_mix_stick_propn_mean']\n",
    "ind_mix_stick_propn_info = vb_params_dict['ind_mix_stick_propn_info']\n",
    "pop_freq_beta_params = vb_params_dict['pop_freq_beta_params']"
   ]
  },
  {
   "cell_type": "code",
   "execution_count": 10,
   "metadata": {
    "collapsed": false
   },
   "outputs": [
    {
     "data": {
      "text/plain": [
       "(5, 4)"
      ]
     },
     "execution_count": 10,
     "metadata": {},
     "output_type": "execute_result"
    }
   ],
   "source": [
    "dp_modeling_lib.get_e_log_beta(pop_freq_beta_params)[0].shape"
   ]
  },
  {
   "cell_type": "markdown",
   "metadata": {},
   "source": [
    "# Set up model"
   ]
  },
  {
   "cell_type": "code",
   "execution_count": 11,
   "metadata": {
    "collapsed": false
   },
   "outputs": [],
   "source": [
    "gh_deg = 8\n",
    "gh_loc, gh_weights = hermgauss(8)"
   ]
  },
  {
   "cell_type": "code",
   "execution_count": 12,
   "metadata": {
    "collapsed": false
   },
   "outputs": [],
   "source": [
    "# get loss as a function of vb parameters\n",
    "get_free_vb_params_loss = paragami.FlattenFunctionInput(\n",
    "                                original_fun=structure_model_lib.get_kl, \n",
    "                                patterns = vb_params_paragami,\n",
    "                                free = True,\n",
    "                                argnums = 1)\n",
    "\n",
    "get_free_vb_params_loss_cached = \\\n",
    "    lambda x : get_free_vb_params_loss(g_obs, x, prior_params_dict, gh_loc, gh_weights, \n",
    "                                      true_pop_allele_freq = None, \n",
    "                                      true_ind_admix_propn = None)"
   ]
  },
  {
   "cell_type": "code",
   "execution_count": 13,
   "metadata": {
    "collapsed": true
   },
   "outputs": [],
   "source": [
    "init_vb_free_params = vb_params_paragami.flatten(vb_params_dict, free = True)"
   ]
  },
  {
   "cell_type": "code",
   "execution_count": 14,
   "metadata": {
    "collapsed": false
   },
   "outputs": [
    {
     "data": {
      "text/plain": [
       "2695.742493201574"
      ]
     },
     "execution_count": 14,
     "metadata": {},
     "output_type": "execute_result"
    }
   ],
   "source": [
    "structure_model_lib.get_kl(g_obs, vb_params_dict,\n",
    "                   prior_params_dict, gh_loc, gh_weights)"
   ]
  },
  {
   "cell_type": "code",
   "execution_count": 15,
   "metadata": {
    "collapsed": false
   },
   "outputs": [
    {
     "data": {
      "text/plain": [
       "2695.742493201574"
      ]
     },
     "execution_count": 15,
     "metadata": {},
     "output_type": "execute_result"
    }
   ],
   "source": [
    "get_free_vb_params_loss_cached(init_vb_free_params)"
   ]
  },
  {
   "cell_type": "code",
   "execution_count": 16,
   "metadata": {
    "collapsed": false,
    "scrolled": true
   },
   "outputs": [
    {
     "name": "stdout",
     "output_type": "stream",
     "text": [
      "running bfgs ... \n",
      "Warning: Maximum number of iterations has been exceeded.\n",
      "         Current function value: 1369.131876\n",
      "         Iterations: 50\n",
      "         Function evaluations: 60\n",
      "         Gradient evaluations: 60\n",
      "\n",
      " running preconditioned newton; iter =  0\n",
      "computing preconditioner \n",
      "running newton steps\n",
      "Warning: A bad approximation caused failure to predict improvement.\n",
      "         Current function value: 1368.733886\n",
      "         Iterations: 18\n",
      "         Function evaluations: 20\n",
      "         Gradient evaluations: 8\n",
      "         Hessian evaluations: 0\n",
      "Iter 0: x_diff = 13.496547807066289, f_diff = 0.39799040441107536, grad_l1 = 2.096073991972811e-06\n",
      "\n",
      " running preconditioned newton; iter =  1\n",
      "computing preconditioner \n",
      "running newton steps\n",
      "Warning: A bad approximation caused failure to predict improvement.\n",
      "         Current function value: 1368.733886\n",
      "         Iterations: 0\n",
      "         Function evaluations: 2\n",
      "         Gradient evaluations: 1\n",
      "         Hessian evaluations: 0\n",
      "Iter 1: x_diff = 3.702600726018801e-12, f_diff = 2.2737367544323206e-13, grad_l1 = 2.0960738234991283e-06\n",
      "done. \n"
     ]
    }
   ],
   "source": [
    "vb_opt_free_params = opt_lib.optimize_full(get_free_vb_params_loss_cached, init_vb_free_params,\n",
    "                    bfgs_max_iter = 50, netwon_max_iter = 50,\n",
    "                    max_precondition_iter = 10,\n",
    "                    gtol=1e-8, ftol=1e-8, xtol=1e-8)"
   ]
  },
  {
   "cell_type": "code",
   "execution_count": 17,
   "metadata": {
    "collapsed": true
   },
   "outputs": [],
   "source": [
    "vb_opt_dict = vb_params_paragami.fold(vb_opt_free_params, free=True)"
   ]
  },
  {
   "cell_type": "code",
   "execution_count": 18,
   "metadata": {
    "collapsed": true
   },
   "outputs": [],
   "source": [
    "ind_mix_stick_propn_mean = vb_opt_dict['ind_mix_stick_propn_mean']\n",
    "ind_mix_stick_propn_info = vb_opt_dict['ind_mix_stick_propn_info']\n",
    "pop_freq_beta_params = vb_opt_dict['pop_freq_beta_params']"
   ]
  },
  {
   "cell_type": "code",
   "execution_count": 19,
   "metadata": {
    "collapsed": true
   },
   "outputs": [],
   "source": [
    "e_pop_allele_freq = pop_freq_beta_params[:, :, 0] / pop_freq_beta_params.sum(axis=2)"
   ]
  },
  {
   "cell_type": "code",
   "execution_count": 20,
   "metadata": {
    "collapsed": false
   },
   "outputs": [],
   "source": [
    "def find_min_perm(x, y, axis = 0):\n",
    "    # perumutes array x along axis to find closest \n",
    "    # match to y\n",
    "        \n",
    "    perms = list(permutations(np.arange(x.shape[axis])))\n",
    "\n",
    "    i = 0\n",
    "    diff_best = np.Inf\n",
    "    for perm in perms: \n",
    "\n",
    "        x_perm = x.take(perm, axis)\n",
    "        \n",
    "        diff = np.sum((x_perm - y)**2)\n",
    "        \n",
    "        if diff < diff_best: \n",
    "            diff_best = diff\n",
    "            i_best = i\n",
    "        \n",
    "        i += 1\n",
    "\n",
    "    return perms[i_best]"
   ]
  },
  {
   "cell_type": "code",
   "execution_count": 21,
   "metadata": {
    "collapsed": false
   },
   "outputs": [],
   "source": [
    "perm_best = find_min_perm(e_pop_allele_freq, true_pop_allele_freq, axis = 1)"
   ]
  },
  {
   "cell_type": "code",
   "execution_count": 22,
   "metadata": {
    "collapsed": false,
    "scrolled": true
   },
   "outputs": [
    {
     "data": {
      "text/plain": [
       "array([[0.92553933, 0.0110584 , 0.01560233, 0.01646585],\n",
       "       [0.00963405, 0.98609818, 0.01836387, 0.01945906],\n",
       "       [0.01089783, 0.01387308, 0.98260488, 0.02029114],\n",
       "       [0.01630353, 0.0152515 , 0.02121923, 0.98607813],\n",
       "       [0.0091834 , 0.02231597, 0.01778837, 0.03408285]])"
      ]
     },
     "execution_count": 22,
     "metadata": {},
     "output_type": "execute_result"
    }
   ],
   "source": [
    "e_pop_allele_freq[:, perm_best]"
   ]
  },
  {
   "cell_type": "code",
   "execution_count": 23,
   "metadata": {
    "collapsed": false
   },
   "outputs": [
    {
     "data": {
      "text/plain": [
       "array([[0.99, 0.01, 0.01, 0.01],\n",
       "       [0.01, 0.99, 0.01, 0.01],\n",
       "       [0.01, 0.01, 0.99, 0.01],\n",
       "       [0.01, 0.01, 0.01, 0.99],\n",
       "       [0.01, 0.01, 0.01, 0.01]])"
      ]
     },
     "execution_count": 23,
     "metadata": {},
     "output_type": "execute_result"
    }
   ],
   "source": [
    "true_pop_allele_freq"
   ]
  },
  {
   "cell_type": "code",
   "execution_count": 24,
   "metadata": {
    "collapsed": false
   },
   "outputs": [],
   "source": [
    "e_log_ind_admix = dp_modeling_lib.get_e_log_cluster_probabilities(\n",
    "                        ind_mix_stick_propn_mean, ind_mix_stick_propn_info,\n",
    "                        gh_loc, gh_weights)[:, perm_best]"
   ]
  },
  {
   "cell_type": "code",
   "execution_count": 25,
   "metadata": {
    "collapsed": false
   },
   "outputs": [
    {
     "data": {
      "text/plain": [
       "array([0, 0, 2, 0, 1, 1, 0, 2, 2, 3, 1, 0, 2, 2, 3, 3, 3, 0, 1, 1, 2, 1,\n",
       "       0, 1, 3, 2, 0, 3, 1, 3, 2, 1, 1, 1, 3, 3, 1, 0, 0, 1, 3, 2, 3, 3,\n",
       "       1, 3, 3, 2, 2, 2, 3, 1, 3, 3, 0, 3, 1, 0, 3, 0, 0, 0, 1, 0, 1, 1,\n",
       "       2, 0, 1, 3, 3, 1, 3, 0, 2, 0, 0, 3, 0, 3, 3, 0, 0, 1, 2, 0, 2, 1,\n",
       "       3, 1, 1, 1, 3, 1, 0, 0, 3, 3, 3, 2, 2, 3, 0, 1, 2, 0, 2, 3, 1, 0,\n",
       "       2, 1, 2, 2, 0, 0, 0, 1, 2, 0, 2, 3, 1, 3, 0, 0, 0, 1, 3, 0, 0, 0,\n",
       "       0, 1, 0, 2, 1, 3, 2, 1, 2, 3, 2, 3, 1, 0, 2, 0, 2, 1, 1, 1, 2, 1,\n",
       "       2, 1, 0, 1, 1, 2])"
      ]
     },
     "execution_count": 25,
     "metadata": {},
     "output_type": "execute_result"
    }
   ],
   "source": [
    "e_log_ind_admix.argmax(axis=1)"
   ]
  },
  {
   "cell_type": "code",
   "execution_count": 26,
   "metadata": {
    "collapsed": false
   },
   "outputs": [
    {
     "data": {
      "text/plain": [
       "array([0, 0, 2, 0, 1, 1, 0, 2, 2, 3, 1, 0, 2, 2, 3, 3, 3, 0, 2, 1, 2, 1,\n",
       "       0, 1, 3, 2, 0, 3, 1, 3, 2, 1, 1, 1, 3, 3, 1, 0, 0, 1, 3, 2, 3, 3,\n",
       "       1, 3, 3, 2, 2, 2, 3, 1, 3, 3, 3, 3, 1, 0, 3, 0, 0, 0, 1, 0, 1, 1,\n",
       "       2, 0, 1, 3, 3, 1, 3, 0, 2, 0, 0, 3, 0, 3, 3, 0, 0, 1, 2, 0, 2, 1,\n",
       "       3, 1, 1, 1, 3, 1, 0, 0, 3, 3, 3, 2, 2, 3, 0, 1, 2, 0, 2, 3, 1, 0,\n",
       "       2, 1, 2, 2, 0, 3, 0, 1, 2, 0, 2, 3, 1, 3, 0, 0, 0, 1, 3, 0, 0, 0,\n",
       "       0, 1, 0, 2, 1, 3, 2, 1, 2, 3, 2, 3, 1, 0, 2, 0, 2, 1, 1, 1, 2, 1,\n",
       "       2, 1, 0, 1, 1, 2])"
      ]
     },
     "execution_count": 26,
     "metadata": {},
     "output_type": "execute_result"
    }
   ],
   "source": [
    "true_ind_admix_propn.argmax(axis=1)"
   ]
  },
  {
   "cell_type": "code",
   "execution_count": 27,
   "metadata": {
    "collapsed": false
   },
   "outputs": [
    {
     "data": {
      "text/plain": [
       "0.98125"
      ]
     },
     "execution_count": 27,
     "metadata": {},
     "output_type": "execute_result"
    }
   ],
   "source": [
    "np.mean(e_log_ind_admix.argmax(axis=1) == \\\n",
    "       true_ind_admix_propn.argmax(axis=1))"
   ]
  },
  {
   "cell_type": "code",
   "execution_count": null,
   "metadata": {
    "collapsed": true
   },
   "outputs": [],
   "source": []
  }
 ],
 "metadata": {
  "kernelspec": {
   "display_name": "Python 3",
   "language": "python",
   "name": "python3"
  },
  "language_info": {
   "codemirror_mode": {
    "name": "ipython",
    "version": 3
   },
   "file_extension": ".py",
   "mimetype": "text/x-python",
   "name": "python",
   "nbconvert_exporter": "python",
   "pygments_lexer": "ipython3",
   "version": "3.6.0"
  }
 },
 "nbformat": 4,
 "nbformat_minor": 2
}
