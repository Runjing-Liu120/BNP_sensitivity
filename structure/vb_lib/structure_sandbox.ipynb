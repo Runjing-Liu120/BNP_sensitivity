{
 "cells": [
  {
   "cell_type": "code",
   "execution_count": 1,
   "metadata": {
    "collapsed": false
   },
   "outputs": [],
   "source": [
    "import autograd \n",
    "\n",
    "import autograd.numpy as np\n",
    "import autograd.scipy as sp\n",
    "from numpy.polynomial.hermite import hermgauss\n",
    "\n",
    "import structure_model_lib \n",
    "import dp_modeling_lib\n",
    "import data_utils\n",
    "\n",
    "import paragami\n",
    "\n",
    "import optimization_lib as opt_lib\n",
    "\n",
    "from itertools import permutations\n",
    "\n",
    "import matplotlib.pyplot as plt\n",
    "%matplotlib inline  \n",
    "\n",
    "import vittles"
   ]
  },
  {
   "cell_type": "code",
   "execution_count": 2,
   "metadata": {
    "collapsed": true
   },
   "outputs": [],
   "source": [
    "np.random.seed(53453)"
   ]
  },
  {
   "cell_type": "markdown",
   "metadata": {
    "collapsed": true
   },
   "source": [
    "# Draw data"
   ]
  },
  {
   "cell_type": "code",
   "execution_count": 3,
   "metadata": {
    "collapsed": false
   },
   "outputs": [],
   "source": [
    "n_obs = 50\n",
    "n_loci = 40\n",
    "n_pop = 4\n",
    "\n",
    "# population allele frequencies\n",
    "true_pop_allele_freq = np.random.random((n_loci, n_pop))\n",
    "\n",
    "# individual admixtures\n",
    "true_ind_admix_propn = np.random.dirichlet(np.ones(n_pop) / n_pop, size = (n_obs))"
   ]
  },
  {
   "cell_type": "code",
   "execution_count": 4,
   "metadata": {
    "collapsed": false,
    "scrolled": true
   },
   "outputs": [],
   "source": [
    "clustering_indx = data_utils.cluster_admix_get_indx(true_ind_admix_propn)\n",
    "true_ind_admix_propn = true_ind_admix_propn[clustering_indx, :]"
   ]
  },
  {
   "cell_type": "code",
   "execution_count": 5,
   "metadata": {
    "collapsed": false,
    "scrolled": true
   },
   "outputs": [
    {
     "data": {
      "text/plain": [
       "<matplotlib.image.AxesImage at 0x7ff61b424ba8>"
      ]
     },
     "execution_count": 5,
     "metadata": {},
     "output_type": "execute_result"
    },
    {
     "data": {
      "image/png": "[encoded data removed]",
      "text/plain": [
       "<matplotlib.figure.Figure at 0x7ff6441a2550>"
      ]
     },
     "metadata": {},
     "output_type": "display_data"
    }
   ],
   "source": [
    "plt.matshow(true_ind_admix_propn.T)"
   ]
  },
  {
   "cell_type": "code",
   "execution_count": 6,
   "metadata": {
    "collapsed": false
   },
   "outputs": [],
   "source": [
    "g_obs = data_utils.draw_data(true_pop_allele_freq, true_ind_admix_propn)"
   ]
  },
  {
   "cell_type": "markdown",
   "metadata": {},
   "source": [
    "# Get prior"
   ]
  },
  {
   "cell_type": "code",
   "execution_count": 7,
   "metadata": {
    "collapsed": false
   },
   "outputs": [
    {
     "name": "stdout",
     "output_type": "stream",
     "text": [
      "OrderedDict:\n",
      "\t[dp_prior_alpha] = NumericArrayPattern (1,) (lb=0.0, ub=inf)\n",
      "\t[allele_prior_alpha] = NumericArrayPattern (1,) (lb=0.0, ub=inf)\n",
      "\t[allele_prior_beta] = NumericArrayPattern (1,) (lb=0.0, ub=inf)\n"
     ]
    }
   ],
   "source": [
    "prior_params_dict, prior_params_paragami = \\\n",
    "    structure_model_lib.get_default_prior_params()\n",
    "\n",
    "print(prior_params_paragami)"
   ]
  },
  {
   "cell_type": "markdown",
   "metadata": {},
   "source": [
    "# Get VB params "
   ]
  },
  {
   "cell_type": "code",
   "execution_count": 8,
   "metadata": {
    "collapsed": true
   },
   "outputs": [],
   "source": [
    "k_approx = n_pop"
   ]
  },
  {
   "cell_type": "code",
   "execution_count": 9,
   "metadata": {
    "collapsed": true
   },
   "outputs": [],
   "source": [
    "gh_deg = 8\n",
    "gh_loc, gh_weights = hermgauss(8)"
   ]
  },
  {
   "cell_type": "code",
   "execution_count": 10,
   "metadata": {
    "collapsed": false,
    "scrolled": true
   },
   "outputs": [
    {
     "name": "stdout",
     "output_type": "stream",
     "text": [
      "OrderedDict:\n",
      "\t[pop_freq_beta_params] = NumericArrayPattern (40, 4, 2) (lb=0.0, ub=inf)\n",
      "\t[ind_mix_stick_propn_mean] = NumericArrayPattern (50, 3) (lb=-inf, ub=inf)\n",
      "\t[ind_mix_stick_propn_info] = NumericArrayPattern (50, 3) (lb=0.0001, ub=inf)\n"
     ]
    }
   ],
   "source": [
    "vb_params_dict, vb_params_paragami = \\\n",
    "    structure_model_lib.get_vb_params_paragami_object(n_obs, n_loci, k_approx)\n",
    "    \n",
    "print(vb_params_paragami)"
   ]
  },
  {
   "cell_type": "markdown",
   "metadata": {},
   "source": [
    "## Initialize "
   ]
  },
  {
   "cell_type": "code",
   "execution_count": 11,
   "metadata": {
    "collapsed": true
   },
   "outputs": [],
   "source": [
    "vb_params_dict = opt_lib.set_init_vb_params(g_obs, k_approx, vb_params_dict)"
   ]
  },
  {
   "cell_type": "code",
   "execution_count": 12,
   "metadata": {
    "collapsed": false
   },
   "outputs": [],
   "source": [
    "# take a look at init \n",
    "e_ind_admix = dp_modeling_lib.get_e_cluster_probabilities(\n",
    "                    vb_params_dict['ind_mix_stick_propn_mean'], \n",
    "                    vb_params_dict['ind_mix_stick_propn_info'],\n",
    "                    gh_loc, gh_weights)\n",
    "\n",
    "e_pop_freq = dp_modeling_lib.get_e_beta(vb_params_dict['pop_freq_beta_params'])"
   ]
  },
  {
   "cell_type": "code",
   "execution_count": 13,
   "metadata": {
    "collapsed": true
   },
   "outputs": [],
   "source": [
    "perm = data_utils.find_min_perm(e_pop_freq, true_pop_allele_freq, axis = 1)\n",
    "\n",
    "e_pop_freq = e_pop_freq[:, perm]\n",
    "e_ind_admix = e_ind_admix[:, perm]"
   ]
  },
  {
   "cell_type": "code",
   "execution_count": 14,
   "metadata": {
    "collapsed": false
   },
   "outputs": [
    {
     "data": {
      "image/png": "[encoded data removed]",
      "text/plain": [
       "<matplotlib.figure.Figure at 0x7ff61b448b38>"
      ]
     },
     "metadata": {},
     "output_type": "display_data"
    },
    {
     "data": {
      "image/png": "[encoded data removed]",
      "text/plain": [
       "<matplotlib.figure.Figure at 0x7ff61b4488d0>"
      ]
     },
     "metadata": {},
     "output_type": "display_data"
    }
   ],
   "source": [
    "plt.matshow(e_ind_admix.T); \n",
    "plt.matshow(true_ind_admix_propn.T);"
   ]
  },
  {
   "cell_type": "code",
   "execution_count": null,
   "metadata": {
    "collapsed": true
   },
   "outputs": [],
   "source": []
  },
  {
   "cell_type": "markdown",
   "metadata": {},
   "source": [
    "# Set up model"
   ]
  },
  {
   "cell_type": "code",
   "execution_count": 15,
   "metadata": {
    "collapsed": false
   },
   "outputs": [],
   "source": [
    "# get loss as a function of vb parameters\n",
    "get_free_vb_params_loss = paragami.FlattenFunctionInput(\n",
    "                                original_fun=structure_model_lib.get_kl, \n",
    "                                patterns = vb_params_paragami,\n",
    "                                free = True,\n",
    "                                argnums = 1)\n",
    "\n",
    "get_free_vb_params_loss_cached = \\\n",
    "    lambda x : get_free_vb_params_loss(g_obs, x, prior_params_dict, gh_loc, gh_weights, \n",
    "                                      true_pop_allele_freq = None, \n",
    "                                      true_ind_admix_propn = None)"
   ]
  },
  {
   "cell_type": "code",
   "execution_count": 16,
   "metadata": {
    "collapsed": true
   },
   "outputs": [],
   "source": [
    "init_vb_free_params = vb_params_paragami.flatten(vb_params_dict, free = True)"
   ]
  },
  {
   "cell_type": "code",
   "execution_count": 17,
   "metadata": {
    "collapsed": false
   },
   "outputs": [
    {
     "data": {
      "text/plain": [
       "5278.532804627066"
      ]
     },
     "execution_count": 17,
     "metadata": {},
     "output_type": "execute_result"
    }
   ],
   "source": [
    "structure_model_lib.get_kl(g_obs, vb_params_dict,\n",
    "                   prior_params_dict, gh_loc, gh_weights)"
   ]
  },
  {
   "cell_type": "code",
   "execution_count": 18,
   "metadata": {
    "collapsed": false
   },
   "outputs": [
    {
     "data": {
      "text/plain": [
       "5278.532804627066"
      ]
     },
     "execution_count": 18,
     "metadata": {},
     "output_type": "execute_result"
    }
   ],
   "source": [
    "get_free_vb_params_loss_cached(init_vb_free_params)"
   ]
  },
  {
   "cell_type": "code",
   "execution_count": 19,
   "metadata": {
    "collapsed": false,
    "scrolled": true
   },
   "outputs": [
    {
     "name": "stdout",
     "output_type": "stream",
     "text": [
      "running bfgs ... \n",
      "Iter 0: f = 5278.53280463\n",
      "Iter 1: f = 5090.16881964\n",
      "Iter 2: f = 4811.52285237\n",
      "Iter 3: f = 4371.95372216\n",
      "Iter 4: f = 3957.89086637\n",
      "Iter 5: f = 3686.31815002\n",
      "Iter 6: f = 3476.78734549\n",
      "Iter 7: f = 3398.62470542\n",
      "Iter 8: f = 3322.20253975\n",
      "Iter 9: f = 3279.05381038\n",
      "Iter 10: f = 3246.53826724\n",
      "Iter 11: f = 3212.94761317\n",
      "Iter 12: f = 3188.52480405\n",
      "Iter 13: f = 3169.61136875\n",
      "Iter 14: f = 3155.53109695\n",
      "Iter 15: f = 3142.20584773\n",
      "Iter 16: f = 3128.94437564\n",
      "Iter 17: f = 3121.70687488\n",
      "Iter 18: f = 3111.71129092\n",
      "Iter 19: f = 3099.97351407\n",
      "Iter 20: f = 3093.69074255\n",
      "Iter 21: f = 3085.81978002\n",
      "Iter 22: f = 3080.33470928\n",
      "Iter 23: f = 3072.10977800\n",
      "Iter 24: f = 3065.50443430\n",
      "Iter 25: f = 3064.53344856\n",
      "Iter 26: f = 3070.20199586\n",
      "Iter 27: f = 3061.67972474\n",
      "Iter 28: f = 3057.11637487\n",
      "Iter 29: f = 3052.46468589\n",
      "Iter 30: f = 3045.63951030\n",
      "Iter 31: f = 3045.82531021\n",
      "Iter 32: f = 3041.14171365\n",
      "Iter 33: f = 3043.15322033\n",
      "Iter 34: f = 3039.35625892\n",
      "Iter 35: f = 3036.78947836\n",
      "Iter 36: f = 3033.95126888\n",
      "Iter 37: f = 3030.58198749\n",
      "Iter 38: f = 3027.31485534\n",
      "Iter 39: f = 3024.65468667\n",
      "Iter 40: f = 3022.61446179\n",
      "Iter 41: f = 3020.15455324\n",
      "Iter 42: f = 3018.09088378\n",
      "Iter 43: f = 3017.15745605\n",
      "Iter 44: f = 3015.71996051\n",
      "Iter 45: f = 3014.54989576\n",
      "Iter 46: f = 3013.23624982\n",
      "Iter 47: f = 3012.73457941\n",
      "Iter 48: f = 3011.94237309\n",
      "Iter 49: f = 3010.74970226\n",
      "Iter 50: f = 3009.12439772\n",
      "Iter 51: f = 3007.29374468\n",
      "Iter 52: f = 3006.37513694\n",
      "Iter 53: f = 3006.02528603\n",
      "Iter 54: f = 3007.11957383\n",
      "Iter 55: f = 3005.26835596\n",
      "Iter 56: f = 3004.79942509\n",
      "Warning: Maximum number of iterations has been exceeded.\n",
      "         Current function value: 3004.799425\n",
      "         Iterations: 50\n",
      "         Function evaluations: 57\n",
      "         Gradient evaluations: 57\n",
      "\n",
      " running preconditioned newton; iter =  0\n",
      "computing preconditioner \n",
      "preconditioning time: 13.46\n",
      "running newton steps\n",
      "Iter 0: f = 3004.79942509\n",
      "Iter 1: f = 3001.75191028\n",
      "Iter 2: f = 2997.87316790\n",
      "Iter 3: f = 2993.64912228\n",
      "Iter 4: f = 2995.54973039\n",
      "Iter 5: f = 2992.43487746\n",
      "Iter 6: f = 2991.68824887\n",
      "Iter 7: f = 2991.63330371\n",
      "Iter 8: f = 2991.60842619\n",
      "Iter 9: f = 2991.60750604\n",
      "Iter 10: f = 2991.60749981\n",
      "Iter 11: f = 2991.60749977\n",
      "Iter 12: f = 2991.60749977\n",
      "Optimization terminated successfully.\n",
      "         Current function value: 2991.607500\n",
      "         Iterations: 12\n",
      "         Function evaluations: 13\n",
      "         Gradient evaluations: 12\n",
      "         Hessian evaluations: 0\n",
      "Iter 0: x_diff = 68.50798696063801, f_diff = 13.191925320799783, grad_l1 = 3.184939479350258e-08\n",
      "done. \n"
     ]
    }
   ],
   "source": [
    "vb_opt_free_params = opt_lib.optimize_full(get_free_vb_params_loss_cached, init_vb_free_params,\n",
    "                    bfgs_max_iter = 50, netwon_max_iter = 50,\n",
    "                    max_precondition_iter = 10,\n",
    "                    gtol=1e-8, ftol=1e-8, xtol=1e-8)"
   ]
  },
  {
   "cell_type": "code",
   "execution_count": 18,
   "metadata": {
    "collapsed": true
   },
   "outputs": [],
   "source": [
    "vb_opt_dict = vb_params_paragami.fold(vb_opt_free_params, free=True)"
   ]
  },
  {
   "cell_type": "code",
   "execution_count": 19,
   "metadata": {
    "collapsed": true
   },
   "outputs": [],
   "source": [
    "ind_mix_stick_propn_mean = vb_opt_dict['ind_mix_stick_propn_mean']\n",
    "ind_mix_stick_propn_info = vb_opt_dict['ind_mix_stick_propn_info']\n",
    "pop_freq_beta_params = vb_opt_dict['pop_freq_beta_params']"
   ]
  },
  {
   "cell_type": "code",
   "execution_count": 20,
   "metadata": {
    "collapsed": true
   },
   "outputs": [],
   "source": [
    "e_pop_allele_freq = pop_freq_beta_params[:, :, 0] / pop_freq_beta_params.sum(axis=2)"
   ]
  },
  {
   "cell_type": "code",
   "execution_count": 21,
   "metadata": {
    "collapsed": false
   },
   "outputs": [],
   "source": [
    "def find_min_perm(x, y, axis = 0):\n",
    "    # perumutes array x along axis to find closest \n",
    "    # match to y\n",
    "        \n",
    "    perms = list(permutations(np.arange(x.shape[axis])))\n",
    "\n",
    "    i = 0\n",
    "    diff_best = np.Inf\n",
    "    for perm in perms: \n",
    "\n",
    "        x_perm = x.take(perm, axis)\n",
    "        \n",
    "        diff = np.sum((x_perm - y)**2)\n",
    "        \n",
    "        if diff < diff_best: \n",
    "            diff_best = diff\n",
    "            i_best = i\n",
    "        \n",
    "        i += 1\n",
    "\n",
    "    return perms[i_best]"
   ]
  },
  {
   "cell_type": "code",
   "execution_count": 22,
   "metadata": {
    "collapsed": false
   },
   "outputs": [],
   "source": [
    "perm_best = find_min_perm(e_pop_allele_freq, true_pop_allele_freq, axis = 1)"
   ]
  },
  {
   "cell_type": "code",
   "execution_count": 24,
   "metadata": {
    "collapsed": false
   },
   "outputs": [
    {
     "data": {
      "text/plain": [
       "([array([5., 5., 5., 4., 4., 3., 2., 2., 4., 6.]),\n",
       "  array([5., 4., 3., 4., 3., 3., 1., 5., 6., 6.]),\n",
       "  array([6., 5., 2., 6., 3., 3., 3., 1., 2., 9.]),\n",
       "  array([4., 4., 5., 2., 2., 5., 4., 1., 5., 8.])],\n",
       " array([0.04343313, 0.13525268, 0.22707223, 0.31889178, 0.41071133,\n",
       "        0.50253088, 0.59435043, 0.68616998, 0.77798953, 0.86980908,\n",
       "        0.96162863]),\n",
       " <a list of 4 Lists of Patches objects>)"
      ]
     },
     "execution_count": 24,
     "metadata": {},
     "output_type": "execute_result"
    },
    {
     "data": {
      "image/png": "[encoded data removed]",
      "text/plain": [
       "<matplotlib.figure.Figure at 0x7fbc778872b0>"
      ]
     },
     "metadata": {},
     "output_type": "display_data"
    }
   ],
   "source": [
    "plt.hist(e_pop_allele_freq)"
   ]
  },
  {
   "cell_type": "code",
   "execution_count": 25,
   "metadata": {
    "collapsed": false,
    "scrolled": false
   },
   "outputs": [
    {
     "data": {
      "text/plain": [
       "<matplotlib.image.AxesImage at 0x7fbc776a34e0>"
      ]
     },
     "execution_count": 25,
     "metadata": {},
     "output_type": "execute_result"
    },
    {
     "data": {
      "image/png": "[encoded data removed]",
      "text/plain": [
       "<matplotlib.figure.Figure at 0x7fbc778871d0>"
      ]
     },
     "metadata": {},
     "output_type": "display_data"
    }
   ],
   "source": [
    "plt.matshow(e_pop_allele_freq[:, perm_best].T)"
   ]
  },
  {
   "cell_type": "code",
   "execution_count": 26,
   "metadata": {
    "collapsed": false,
    "scrolled": true
   },
   "outputs": [
    {
     "data": {
      "text/plain": [
       "<matplotlib.image.AxesImage at 0x7fbc7762cd30>"
      ]
     },
     "execution_count": 26,
     "metadata": {},
     "output_type": "execute_result"
    },
    {
     "data": {
      "image/png": "[encoded data removed]",
      "text/plain": [
       "<matplotlib.figure.Figure at 0x7fbc776ca438>"
      ]
     },
     "metadata": {},
     "output_type": "display_data"
    }
   ],
   "source": [
    "plt.matshow(true_pop_allele_freq.T)"
   ]
  },
  {
   "cell_type": "code",
   "execution_count": 27,
   "metadata": {
    "collapsed": false
   },
   "outputs": [],
   "source": [
    "e_ind_admix = dp_modeling_lib.get_e_cluster_probabilities(\n",
    "                        ind_mix_stick_propn_mean, ind_mix_stick_propn_info,\n",
    "                        gh_loc, gh_weights)[:, perm_best]"
   ]
  },
  {
   "cell_type": "code",
   "execution_count": 28,
   "metadata": {
    "collapsed": false
   },
   "outputs": [
    {
     "data": {
      "text/plain": [
       "array([2, 2, 2, 2, 2, 2, 2, 2, 2, 2, 2, 2, 0, 2, 0, 0, 0, 0, 0, 0, 0, 0,\n",
       "       0, 2, 1, 1, 1, 1, 0, 1, 1, 1, 2, 2, 3, 3, 1, 3, 3, 2, 3, 3, 3, 3,\n",
       "       0, 0, 3, 3, 0, 0])"
      ]
     },
     "execution_count": 28,
     "metadata": {},
     "output_type": "execute_result"
    }
   ],
   "source": [
    "e_ind_admix.argmax(axis=1)"
   ]
  },
  {
   "cell_type": "code",
   "execution_count": 29,
   "metadata": {
    "collapsed": false
   },
   "outputs": [
    {
     "data": {
      "text/plain": [
       "array([2, 2, 2, 2, 2, 2, 2, 2, 2, 0, 2, 2, 2, 2, 0, 0, 0, 0, 0, 0, 0, 0,\n",
       "       0, 1, 1, 1, 1, 1, 1, 1, 1, 1, 2, 3, 3, 3, 3, 3, 3, 3, 3, 3, 3, 3,\n",
       "       0, 0, 3, 3, 0, 0])"
      ]
     },
     "execution_count": 29,
     "metadata": {},
     "output_type": "execute_result"
    }
   ],
   "source": [
    "true_ind_admix_propn.argmax(axis=1)"
   ]
  },
  {
   "cell_type": "code",
   "execution_count": 30,
   "metadata": {
    "collapsed": false
   },
   "outputs": [
    {
     "data": {
      "text/plain": [
       "0.86"
      ]
     },
     "execution_count": 30,
     "metadata": {},
     "output_type": "execute_result"
    }
   ],
   "source": [
    "np.mean(e_ind_admix.argmax(axis=1) == \\\n",
    "       true_ind_admix_propn.argmax(axis=1))"
   ]
  },
  {
   "cell_type": "code",
   "execution_count": 31,
   "metadata": {
    "collapsed": false
   },
   "outputs": [
    {
     "data": {
      "text/plain": [
       "<matplotlib.image.AxesImage at 0x7fbc7760e5c0>"
      ]
     },
     "execution_count": 31,
     "metadata": {},
     "output_type": "execute_result"
    },
    {
     "data": {
      "image/png": "[encoded data removed]",
      "text/plain": [
       "<matplotlib.figure.Figure at 0x7fbc776479e8>"
      ]
     },
     "metadata": {},
     "output_type": "display_data"
    }
   ],
   "source": [
    "plt.matshow(true_ind_admix_propn.T)"
   ]
  },
  {
   "cell_type": "code",
   "execution_count": 32,
   "metadata": {
    "collapsed": false
   },
   "outputs": [
    {
     "data": {
      "text/plain": [
       "<matplotlib.image.AxesImage at 0x7fbc7758a6d8>"
      ]
     },
     "execution_count": 32,
     "metadata": {},
     "output_type": "execute_result"
    },
    {
     "data": {
      "image/png": "[encoded data removed]",
      "text/plain": [
       "<matplotlib.figure.Figure at 0x7fbc7764f128>"
      ]
     },
     "metadata": {},
     "output_type": "display_data"
    }
   ],
   "source": [
    "plt.matshow(e_ind_admix.T)"
   ]
  },
  {
   "cell_type": "code",
   "execution_count": null,
   "metadata": {
    "collapsed": true
   },
   "outputs": [],
   "source": []
  },
  {
   "cell_type": "markdown",
   "metadata": {},
   "source": [
    "# Parametric sensitivity"
   ]
  },
  {
   "cell_type": "code",
   "execution_count": 80,
   "metadata": {
    "collapsed": false
   },
   "outputs": [],
   "source": [
    "get_kl_from_vb_free_prior_free = paragami.FlattenFunctionInput(original_fun=structure_model_lib.get_kl, \n",
    "                                    patterns = [vb_params_paragami, prior_params_paragami],\n",
    "                                    free = True,\n",
    "                                    argnums = [1, 2])"
   ]
  },
  {
   "cell_type": "code",
   "execution_count": 85,
   "metadata": {
    "collapsed": false
   },
   "outputs": [],
   "source": [
    "vb_sens = \\\n",
    "    vittles.HyperparameterSensitivityLinearApproximation(\n",
    "        objective_fun = lambda x, y: get_kl_from_vb_free_prior_free(g_obs, x, y, gh_loc, gh_weights),\n",
    "        opt_par_value = vb_opt_free_params, \n",
    "        hyper_par_value = prior_params_paragami.flatten(prior_params_dict, free=True),\n",
    "        validate_optimum=False,\n",
    "        hessian_at_opt=None,\n",
    "        cross_hess_at_opt=None,\n",
    "        factorize_hessian=True,\n",
    "        hyper_par_objective_fun=None,\n",
    "        grad_tol=1e-8)"
   ]
  },
  {
   "cell_type": "code",
   "execution_count": 89,
   "metadata": {
    "collapsed": true
   },
   "outputs": [],
   "source": [
    "from copy import deepcopy"
   ]
  },
  {
   "cell_type": "code",
   "execution_count": 93,
   "metadata": {
    "collapsed": false
   },
   "outputs": [],
   "source": [
    "prior_pertubed_dict = deepcopy(prior_params_dict)"
   ]
  },
  {
   "cell_type": "code",
   "execution_count": 95,
   "metadata": {
    "collapsed": false
   },
   "outputs": [],
   "source": [
    "prior_pertubed_dict['dp_prior_alpha'] = 2."
   ]
  },
  {
   "cell_type": "code",
   "execution_count": 99,
   "metadata": {
    "collapsed": false
   },
   "outputs": [],
   "source": [
    "comb_params_free_lin = \\\n",
    "    vb_sens.predict_opt_par_from_hyper_par(\n",
    "        prior_params_paragami.flatten(prior_pertubed_dict, free = True))"
   ]
  },
  {
   "cell_type": "code",
   "execution_count": 100,
   "metadata": {
    "collapsed": false
   },
   "outputs": [
    {
     "data": {
      "text/plain": [
       "array([ 2.32172869,  3.1755255 ,  2.50343521,  2.62712103,  1.87852926,\n",
       "        2.48471785,  3.23683328,  1.74602559,  1.57487065,  3.35751582,\n",
       "        2.37435174,  2.7247483 ,  1.78007079,  2.52603034,  0.92795952,\n",
       "        3.37493289,  3.18862689,  2.30681577,  0.94742414,  3.16414208,\n",
       "        1.90627823,  2.44647676,  2.99476692,  2.38653228,  2.26595368,\n",
       "        3.17310252,  0.95651658,  3.17348999,  0.39309414,  2.85619964,\n",
       "        2.34362951,  3.00783546,  1.96703542,  3.25978503,  3.17782299,\n",
       "        1.08286331,  1.54319084,  2.59228123,  3.36510791,  1.04443013,\n",
       "        2.27611268,  3.17024466,  3.0721551 ,  1.60907456,  2.40047123,\n",
       "        1.99638217,  3.30951611,  1.40650398,  0.30330877,  3.5165531 ,\n",
       "        2.95229939,  1.8688245 ,  0.76697014,  2.80541818,  2.24553039,\n",
       "        3.03433617,  2.69527868,  2.96043076,  3.09154079,  1.44310511,\n",
       "        1.10723315,  2.7311008 ,  3.18806248,  1.88817014,  2.73252521,\n",
       "        2.89807093,  3.00965834,  1.66738311,  2.95236768,  0.2467305 ,\n",
       "        2.66702013,  2.74971274,  2.77961713,  2.91405078,  2.67956621,\n",
       "        2.47899422,  1.11306655,  2.69736213,  1.89148554,  3.18134551,\n",
       "        3.41144615,  0.92547704,  3.18664634,  0.57464537,  0.32797693,\n",
       "        2.9573369 ,  1.97801998,  3.12400327,  3.2235077 ,  2.03984626,\n",
       "        0.87351822,  3.25059595,  2.44397261,  1.86834237,  2.73814977,\n",
       "        2.71452716,  2.73519841,  2.88046121,  1.22514358,  3.13486757,\n",
       "        2.82779493,  0.58597519,  3.32364027,  1.30851006,  2.37780449,\n",
       "        3.16911693,  2.96342025,  1.81664946,  0.98173704,  2.79570881,\n",
       "        2.93352971,  2.45504216,  2.89533962,  2.63510327,  3.26740656,\n",
       "        0.37110571,  2.98408325,  0.18264013,  0.75749083,  3.2968687 ,\n",
       "        2.09696484,  3.22558657,  1.61380864,  3.04003695,  2.57502451,\n",
       "        1.77686538,  0.56955827,  3.38907886,  3.32342938,  1.8404999 ,\n",
       "        2.08353937,  2.91268264,  2.80015184,  0.64672419,  2.4384671 ,\n",
       "        2.95386387,  2.71535855,  2.89843761,  2.40205532,  2.68260209,\n",
       "        2.81795207,  0.93776239,  3.37451397,  1.01179028,  3.44085308,\n",
       "        1.20029951,  2.77519393,  2.27336227,  2.10869539,  2.30825545,\n",
       "        1.15199133,  3.33457891,  2.97414807,  2.65737445,  2.42482638,\n",
       "        2.70878453,  1.6270124 ,  2.60488346,  2.93689379,  2.47892298,\n",
       "        1.61080966,  3.4196205 ,  2.82006295,  2.15144878,  2.52421652,\n",
       "        1.68886137,  3.38053424,  0.55175681,  1.96203504,  3.27807411,\n",
       "        3.22057071,  0.97930588,  1.90862692,  2.40425061,  1.89059634,\n",
       "        3.16493551,  2.80394383,  2.83927692,  1.40614641,  3.14106581,\n",
       "        1.06682288,  2.76999474,  2.87907111,  2.50637938,  2.68031874,\n",
       "        2.92847876,  2.27168297,  2.74970569,  0.70882062,  2.8476166 ,\n",
       "        3.41381023,  0.42330259,  3.38415764,  1.44285101,  2.94725501,\n",
       "        1.95933333,  1.95534618,  2.45784642,  3.36364537,  0.73961734,\n",
       "        2.73718305,  2.92696832,  2.68918076,  2.41210893,  1.01547079,\n",
       "        2.77681054,  3.3053738 ,  1.30415124,  2.78389509,  2.88843967,\n",
       "        1.812856  ,  2.98779517,  2.06027852,  2.3679134 ,  2.86709023,\n",
       "        2.58973374,  3.27965723,  1.90061703,  1.98403887,  2.95563706,\n",
       "        1.9888968 ,  2.41542805,  2.44329476,  2.98928507,  0.42805707,\n",
       "        3.48924277,  3.11030787,  1.46000765,  2.89405952,  0.44939897,\n",
       "        1.24609575,  3.23047392,  2.15070252,  3.22054718,  2.29508641,\n",
       "        2.78525248,  2.82789952,  0.87838414,  2.85435061,  2.57349376,\n",
       "        3.04774433,  2.55327508,  1.42819892,  3.09163405,  2.87255314,\n",
       "        0.46496692,  3.04401698,  2.21042467,  3.05224902,  2.50279809,\n",
       "        3.16461203,  0.68320818,  2.29923275,  2.02931718,  0.2712929 ,\n",
       "        3.45811077,  0.60713511,  3.4959618 ,  3.24838553,  0.613516  ,\n",
       "        2.27846201,  2.04212701,  2.49798191,  2.84502854,  0.61375268,\n",
       "        3.45882323,  2.87085925,  2.10589839,  2.89245923,  0.46257288,\n",
       "        3.00312434,  2.30493275,  3.47863685,  0.47520238,  0.72382148,\n",
       "        3.20560768,  2.95555001,  0.31959533,  1.52275378,  3.16535437,\n",
       "        3.51753934,  0.53590309,  3.09216527,  1.28368865,  1.56976478,\n",
       "        2.61294365,  0.98591896,  3.31644052,  3.42534974,  0.96418797,\n",
       "        2.36562703,  2.75880482,  2.18342168,  2.20374685,  3.41897446,\n",
       "        0.44551351,  2.99983757,  2.62118999,  2.13552185,  2.89993483,\n",
       "        2.76928674,  0.82455708,  3.38523308,  0.60882678,  3.33396821,\n",
       "        1.65220469,  2.99694383,  1.81582152,  0.94105083,  2.80113765,\n",
       "        3.20131787,  1.85617764,  2.17002746,  3.18446014,  2.97505081,\n",
       "        1.86392659,  2.39355628,  1.95917959,  3.46290721,  0.30120894,\n",
       "        0.69867384, -1.46029051, -2.02274628,  0.44876937, -1.78347182,\n",
       "        0.92002405,  1.85931928, -1.52988711, -0.43475357,  2.58142833,\n",
       "       -0.77048139, -1.30551723,  1.28558798, -0.6825358 , -0.76928117,\n",
       "        2.9295053 , -0.74721633, -1.07205543,  1.75657948, -1.35928423,\n",
       "       -1.12783952,  1.76627194, -1.39972741, -1.64327102,  1.44955065,\n",
       "       -1.36660581, -1.20007976,  0.40833073, -1.55199671, -1.61304991,\n",
       "        0.26771313, -2.03052425, -1.65567158,  0.3759497 , -0.79215371,\n",
       "       -1.33308289, -0.81299837, -0.75451621, -1.79122859,  0.66805034,\n",
       "       -1.06002239, -0.06200105, -1.75946459, -2.35391353, -2.72577441,\n",
       "       -1.72883217, -3.5506053 , -3.03606683, -3.51347667, -3.82171054,\n",
       "       -3.49503497, -2.83332018, -2.51639008, -3.48131474, -3.4379122 ,\n",
       "       -2.79356845, -3.50595575, -2.93254621, -3.55956322, -1.0192852 ,\n",
       "       -1.47302507, -1.49843833,  0.01952068, -2.69772463, -3.07648616,\n",
       "       -3.52674772, -2.84493045, -1.54132938, -1.69006138, -0.25957578,\n",
       "       -2.7048645 ,  0.3181485 , -3.56361298, -3.44141221,  2.18691406,\n",
       "       -2.33796129, -3.44522845,  2.15833902, -2.97172411, -3.01107034,\n",
       "        1.28795022, -1.09484417, -1.71140639,  1.35088209, -3.35221767,\n",
       "       -1.23084273,  0.20568715, -1.44231953, -0.58597167,  1.26699842,\n",
       "       -1.25277682, -1.39833686,  1.45704948, -1.35210247, -0.39936563,\n",
       "        0.51609539, -0.3495854 ,  0.21041378, -0.63695736, -0.09754425,\n",
       "        1.0568444 , -1.31338925, -1.8270219 ,  0.55219908, -1.40065446,\n",
       "       -2.66361085,  0.91942395, -0.63025051, -1.52655998, -0.4649432 ,\n",
       "        1.14062143, -2.58824982,  0.90976847, -1.14323559, -2.34036591,\n",
       "        1.01321526, -0.7941188 , -0.23244247,  0.81795063, -1.16544039,\n",
       "       -1.54704106,  2.25186389, -1.2704212 , -1.46658744,  1.80373636,\n",
       "       -0.22144474, -3.21550573,  2.27669938, -1.50923346, -2.68941219,\n",
       "        0.61331122, -1.11503693, -1.85335893, -0.33168468,  0.02028895,\n",
       "       -1.11426099, -0.19534965, -1.99134233, -1.20855796,  0.37454511,\n",
       "       -1.92551139, -1.81383008,  0.51736318, -0.31268044, -2.13835892,\n",
       "       -1.74311952, -2.96487684, -2.61764182, -0.61951754, -2.22882946,\n",
       "        2.95180789,  1.53531902,  1.01071832,  2.98521099,  1.45253594,\n",
       "        1.83237705,  2.33371518,  0.6739622 ,  0.94889894,  1.79037496,\n",
       "        0.4421653 ,  0.01142401,  2.66927063,  1.47691379,  1.11196511,\n",
       "        1.48045176,  0.13905455, -0.17072613,  2.40456135,  0.83760476,\n",
       "        0.79239441,  2.39775053,  0.82023127,  0.53833348,  2.59563626,\n",
       "        1.06798995,  0.98199864,  3.00629712,  1.63705243,  1.43592864,\n",
       "        3.03231927,  1.3981809 ,  1.54683437,  3.00582275,  2.03081244,\n",
       "        1.44854769,  2.88884989,  2.56040659,  1.65423927,  2.94306079,\n",
       "        1.76460959,  1.76251507,  2.37472572,  1.79567597,  1.43070641,\n",
       "        2.38814963,  0.83580648,  1.22501812,  0.98987579,  0.72842531,\n",
       "        0.97253097,  1.5387327 ,  1.74882546,  0.9168074 ,  1.05008269,\n",
       "        1.54809983,  0.93064854,  1.4583941 ,  0.9148099 ,  2.73265682,\n",
       "        2.54821733,  2.34080362,  2.66587493,  1.64820578,  1.29101427,\n",
       "        0.89856245,  1.52929085,  2.44919019,  2.18381449,  3.01192409,\n",
       "        1.1309406 ,  2.43906207,  0.95009713,  1.02932827,  2.04481323,\n",
       "        1.93155428,  0.97176543,  1.98950737,  1.42667313,  1.35573007,\n",
       "        2.59470176,  2.75801928,  2.12838359,  2.23699126,  1.1193488 ,\n",
       "        2.65199163,  2.77581739,  2.556671  ,  2.74077635,  2.08840558,\n",
       "        2.67169016,  2.35483605,  2.146403  ,  2.61592132,  2.78439605,\n",
       "        2.28826788,  3.008817  ,  2.54536641,  1.69498154,  3.02968663,\n",
       "        2.2047429 ,  0.80368598,  2.31310095,  2.85180622,  1.52458411,\n",
       "        1.67503472,  2.78573531,  1.69680257,  2.50530991,  2.79502796,\n",
       "        2.13120319,  1.73526495,  2.79663411,  1.49984292,  1.93104322,\n",
       "        2.73996806,  1.57918355,  3.0272203 ,  2.36522865,  1.0830126 ,\n",
       "        2.50080107,  1.85597203,  0.32999865,  2.54303736,  2.16229799,\n",
       "        0.97461438,  1.22940164,  1.99185642,  0.3329372 ,  1.65470753,\n",
       "        2.90457818,  1.70284799,  2.28876197,  2.87367803,  2.4039586 ,\n",
       "        2.74999073,  2.7728293 ,  1.39598489,  2.69975377,  2.76640436,\n",
       "        1.18189998,  2.32015784,  2.83297166,  1.93198784,  2.0877578 ,\n",
       "        2.28113516,  1.21272733,  1.71201297,  2.88293753,  1.56616373])"
      ]
     },
     "execution_count": 100,
     "metadata": {},
     "output_type": "execute_result"
    }
   ],
   "source": [
    "comb_params_free_lin"
   ]
  }
 ],
 "metadata": {
  "kernelspec": {
   "display_name": "Python 3",
   "language": "python",
   "name": "python3"
  },
  "language_info": {
   "codemirror_mode": {
    "name": "ipython",
    "version": 3
   },
   "file_extension": ".py",
   "mimetype": "text/x-python",
   "name": "python",
   "nbconvert_exporter": "python",
   "pygments_lexer": "ipython3",
   "version": "3.6.0"
  }
 },
 "nbformat": 4,
 "nbformat_minor": 2
}
