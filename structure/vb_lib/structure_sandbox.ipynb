{
 "cells": [
  {
   "cell_type": "code",
   "execution_count": 1,
   "metadata": {
    "collapsed": false
   },
   "outputs": [],
   "source": [
    "import autograd \n",
    "\n",
    "import autograd.numpy as np\n",
    "import autograd.scipy as sp\n",
    "from numpy.polynomial.hermite import hermgauss\n",
    "\n",
    "import structure_model_lib \n",
    "import dp_modeling_lib\n",
    "import data_utils\n",
    "\n",
    "import paragami\n",
    "\n",
    "import optimization_lib as opt_lib"
   ]
  },
  {
   "cell_type": "markdown",
   "metadata": {
    "collapsed": true
   },
   "source": [
    "# Draw data"
   ]
  },
  {
   "cell_type": "code",
   "execution_count": 2,
   "metadata": {
    "collapsed": false
   },
   "outputs": [],
   "source": [
    "n_obs = 10\n",
    "n_loci = 5\n",
    "n_pop = 4\n",
    "\n",
    "# population allele frequencies\n",
    "p1 = 0.99\n",
    "p0 = 0.01\n",
    "pop_allele_freq = np.maximum(np.eye(n_loci, n_pop) * p1, p0)\n",
    "\n",
    "# individual admixtures\n",
    "scale = 3\n",
    "ind_admix_propn = np.random.choice(n_pop, n_obs)\n",
    "ind_admix_propn = scale * data_utils.get_one_hot(ind_admix_propn, nb_classes = n_pop)\n",
    "ind_admix_propn = np.exp(ind_admix_propn) / np.exp(ind_admix_propn).sum(axis = 1, keepdims=True)"
   ]
  },
  {
   "cell_type": "code",
   "execution_count": 3,
   "metadata": {
    "collapsed": false
   },
   "outputs": [],
   "source": [
    "g_obs = data_utils.draw_data(pop_allele_freq, ind_admix_propn)"
   ]
  },
  {
   "cell_type": "markdown",
   "metadata": {},
   "source": [
    "# Get prior"
   ]
  },
  {
   "cell_type": "code",
   "execution_count": 4,
   "metadata": {
    "collapsed": false
   },
   "outputs": [
    {
     "name": "stdout",
     "output_type": "stream",
     "text": [
      "OrderedDict:\n",
      "\t[dp_prior_alpha] = NumericArrayPattern (1,) (lb=0.0, ub=inf)\n",
      "\t[allele_prior_alpha] = NumericArrayPattern (1,) (lb=0.0, ub=inf)\n",
      "\t[allele_prior_beta] = NumericArrayPattern (1,) (lb=0.0, ub=inf)\n"
     ]
    }
   ],
   "source": [
    "prior_params_dict, prior_params_paragami = \\\n",
    "    structure_model_lib.get_default_prior_params()\n",
    "\n",
    "print(prior_params_paragami)"
   ]
  },
  {
   "cell_type": "markdown",
   "metadata": {},
   "source": [
    "# Get VB params "
   ]
  },
  {
   "cell_type": "code",
   "execution_count": 5,
   "metadata": {
    "collapsed": false,
    "scrolled": true
   },
   "outputs": [
    {
     "name": "stdout",
     "output_type": "stream",
     "text": [
      "OrderedDict:\n",
      "\t[pop_freq_beta_params] = NumericArrayPattern (5, 4, 2) (lb=0.0, ub=inf)\n",
      "\t[ind_mix_stick_propn_mean] = NumericArrayPattern (10, 3) (lb=-inf, ub=inf)\n",
      "\t[ind_mix_stick_propn_info] = NumericArrayPattern (10, 3) (lb=0.0001, ub=inf)\n"
     ]
    }
   ],
   "source": [
    "k_approx = n_pop\n",
    "vb_params_dict, vb_params_paragami = \\\n",
    "    structure_model_lib.get_vb_params_paragami_object(n_obs, n_loci, k_approx)\n",
    "    \n",
    "print(vb_params_paragami)"
   ]
  },
  {
   "cell_type": "code",
   "execution_count": 6,
   "metadata": {
    "collapsed": true
   },
   "outputs": [],
   "source": [
    "ind_mix_stick_propn_mean = vb_params_dict['ind_mix_stick_propn_mean']\n",
    "ind_mix_stick_propn_info = vb_params_dict['ind_mix_stick_propn_info']\n",
    "pop_freq_beta_params = vb_params_dict['pop_freq_beta_params']"
   ]
  },
  {
   "cell_type": "code",
   "execution_count": 7,
   "metadata": {
    "collapsed": false
   },
   "outputs": [
    {
     "data": {
      "text/plain": [
       "(5, 4)"
      ]
     },
     "execution_count": 7,
     "metadata": {},
     "output_type": "execute_result"
    }
   ],
   "source": [
    "dp_modeling_lib.get_e_log_beta(pop_freq_beta_params)[0].shape"
   ]
  },
  {
   "cell_type": "markdown",
   "metadata": {},
   "source": [
    "# Set up model"
   ]
  },
  {
   "cell_type": "code",
   "execution_count": 8,
   "metadata": {
    "collapsed": false
   },
   "outputs": [],
   "source": [
    "gh_deg = 8\n",
    "gh_loc, gh_weights = hermgauss(8)"
   ]
  },
  {
   "cell_type": "code",
   "execution_count": 9,
   "metadata": {
    "collapsed": false
   },
   "outputs": [],
   "source": [
    "# get loss as a function of vb parameters\n",
    "get_free_vb_params_loss = paragami.FlattenFunctionInput(\n",
    "                                original_fun=structure_model_lib.get_kl, \n",
    "                                patterns = vb_params_paragami,\n",
    "                                free = True,\n",
    "                                argnums = 1)\n",
    "\n",
    "get_free_vb_params_loss_cached = \\\n",
    "    lambda x : get_free_vb_params_loss(g_obs, x, prior_params_dict, gh_loc, gh_weights, \n",
    "                                      true_pop_allele_freq = None)"
   ]
  },
  {
   "cell_type": "code",
   "execution_count": 10,
   "metadata": {
    "collapsed": true
   },
   "outputs": [],
   "source": [
    "init_vb_free_params = vb_params_paragami.flatten(vb_params_dict, free = True)"
   ]
  },
  {
   "cell_type": "code",
   "execution_count": 11,
   "metadata": {
    "collapsed": false
   },
   "outputs": [
    {
     "data": {
      "text/plain": [
       "184.34139383125708"
      ]
     },
     "execution_count": 11,
     "metadata": {},
     "output_type": "execute_result"
    }
   ],
   "source": [
    "structure_model_lib.get_kl(g_obs, vb_params_dict,\n",
    "                   prior_params_dict, gh_loc, gh_weights)"
   ]
  },
  {
   "cell_type": "code",
   "execution_count": 12,
   "metadata": {
    "collapsed": false
   },
   "outputs": [
    {
     "data": {
      "text/plain": [
       "184.34139383125708"
      ]
     },
     "execution_count": 12,
     "metadata": {},
     "output_type": "execute_result"
    }
   ],
   "source": [
    "get_free_vb_params_loss_cached(init_vb_free_params)"
   ]
  },
  {
   "cell_type": "code",
   "execution_count": 13,
   "metadata": {
    "collapsed": false
   },
   "outputs": [
    {
     "name": "stdout",
     "output_type": "stream",
     "text": [
      "running bfgs ... \n",
      "Warning: Desired error not necessarily achieved due to precision loss.\n",
      "         Current function value: 110.730018\n",
      "         Iterations: 39\n",
      "         Function evaluations: 102\n",
      "         Gradient evaluations: 91\n",
      "\n",
      " running preconditioned newton; iter =  0\n",
      "computing preconditioner \n",
      "running newton steps\n",
      "Warning: A bad approximation caused failure to predict improvement.\n",
      "         Current function value: 110.730018\n",
      "         Iterations: 0\n",
      "         Function evaluations: 2\n",
      "         Gradient evaluations: 1\n",
      "         Hessian evaluations: 0\n",
      "Iter 0: x_diff = 3.5181232926895234e-13, f_diff = 5.684341886080802e-14, grad_l1 = 3.6412431609845773e-07\n",
      "done. \n"
     ]
    }
   ],
   "source": [
    "vb_opt_free_params = opt_lib.optimize_full(get_free_vb_params_loss_cached, init_vb_free_params,\n",
    "                    bfgs_max_iter = 50, netwon_max_iter = 50,\n",
    "                    max_precondition_iter = 10,\n",
    "                    gtol=1e-8, ftol=1e-8, xtol=1e-8)"
   ]
  },
  {
   "cell_type": "code",
   "execution_count": 14,
   "metadata": {
    "collapsed": true
   },
   "outputs": [],
   "source": [
    "vb_opt_dict = vb_params_paragami.fold(vb_opt_free_params, free=True)"
   ]
  },
  {
   "cell_type": "code",
   "execution_count": 15,
   "metadata": {
    "collapsed": true
   },
   "outputs": [],
   "source": [
    "ind_mix_stick_propn_mean = vb_opt_dict['ind_mix_stick_propn_mean']\n",
    "ind_mix_stick_propn_info = vb_opt_dict['ind_mix_stick_propn_info']\n",
    "pop_freq_beta_params = vb_opt_dict['pop_freq_beta_params']"
   ]
  },
  {
   "cell_type": "code",
   "execution_count": 16,
   "metadata": {
    "collapsed": false
   },
   "outputs": [],
   "source": [
    "e_log_cluster_probs = dp_modeling_lib.get_e_log_cluster_probabilities(\n",
    "                        ind_mix_stick_propn_mean, ind_mix_stick_propn_info,\n",
    "                        gh_loc, gh_weights)"
   ]
  },
  {
   "cell_type": "code",
   "execution_count": 17,
   "metadata": {
    "collapsed": false
   },
   "outputs": [
    {
     "data": {
      "text/plain": [
       "array([3, 0, 0, 3, 3, 0, 3, 3, 3, 0])"
      ]
     },
     "execution_count": 17,
     "metadata": {},
     "output_type": "execute_result"
    }
   ],
   "source": [
    "e_log_cluster_probs.argmax(axis = 1)"
   ]
  },
  {
   "cell_type": "code",
   "execution_count": 18,
   "metadata": {
    "collapsed": false
   },
   "outputs": [
    {
     "data": {
      "text/plain": [
       "array([3, 2, 2, 0, 0, 2, 0, 0, 1, 3])"
      ]
     },
     "execution_count": 18,
     "metadata": {},
     "output_type": "execute_result"
    }
   ],
   "source": [
    "ind_admix_propn.argmax(axis=1)"
   ]
  },
  {
   "cell_type": "code",
   "execution_count": null,
   "metadata": {
    "collapsed": true
   },
   "outputs": [],
   "source": []
  }
 ],
 "metadata": {
  "kernelspec": {
   "display_name": "Python 3",
   "language": "python",
   "name": "python3"
  },
  "language_info": {
   "codemirror_mode": {
    "name": "ipython",
    "version": 3
   },
   "file_extension": ".py",
   "mimetype": "text/x-python",
   "name": "python",
   "nbconvert_exporter": "python",
   "pygments_lexer": "ipython3",
   "version": "3.6.0"
  }
 },
 "nbformat": 4,
 "nbformat_minor": 2
}
