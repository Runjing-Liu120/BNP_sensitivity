{
 "cells": [
  {
   "cell_type": "code",
   "execution_count": 1,
   "metadata": {
    "collapsed": false
   },
   "outputs": [],
   "source": [
    "import autograd.numpy as np\n",
    "import autograd.scipy as sp\n",
    "\n",
    "import autograd\n",
    "\n",
    "import sys\n",
    "sys.path.insert(0, './../../../LinearResponseVariationalBayes.py')\n",
    "sys.path.insert(0, './../')\n",
    "\n",
    "# Linear response libraries\n",
    "import LinearResponseVariationalBayes as vb\n",
    "import LinearResponseVariationalBayes.ExponentialFamilies as ef\n",
    "\n",
    "# My libraries\n",
    "import gmm_clustering_lib as gmm_utils\n",
    "import modeling_lib \n",
    "\n",
    "import functional_sensitivity_lib as fun_sens_lib\n",
    " \n",
    "\n",
    "from scipy import spatial\n",
    "import scipy.cluster.hierarchy as sch\n",
    "\n",
    "import matplotlib.pyplot as plt\n",
    "%matplotlib inline\n",
    "\n",
    "import time\n",
    "from tqdm import tqdm\n",
    "\n",
    "from copy import deepcopy\n",
    "\n",
    "from matplotlib.patches import Ellipse\n",
    "import matplotlib.cm as cm\n",
    "\n",
    "np.random.seed(453453)\n",
    "\n",
    "import json \n"
   ]
  },
  {
   "cell_type": "markdown",
   "metadata": {},
   "source": [
    "# Load data"
   ]
  },
  {
   "cell_type": "code",
   "execution_count": 2,
   "metadata": {
    "collapsed": false
   },
   "outputs": [],
   "source": [
    "# set up R chunks \n",
    "# %load_ext rpy2.ipython\n",
    "# %R require(ggplot2)"
   ]
  },
  {
   "cell_type": "code",
   "execution_count": 3,
   "metadata": {
    "collapsed": false
   },
   "outputs": [],
   "source": [
    "# load iris dataset \n",
    "\n",
    "from sklearn import datasets\n",
    "from sklearn.cluster import KMeans\n",
    "from sklearn.decomposition import PCA\n",
    "\n",
    "iris = datasets.load_iris(return_X_y= True)\n",
    "\n",
    "iris_features = iris[0]\n",
    "\n",
    "demean = True\n",
    "if demean: \n",
    "    iris_features -= np.mean(iris_features, axis = 0)[None, :]\n",
    "\n",
    "iris_species = iris[1]\n",
    "\n",
    "dim = iris_features.shape[1]"
   ]
  },
  {
   "cell_type": "code",
   "execution_count": 4,
   "metadata": {
    "collapsed": false
   },
   "outputs": [],
   "source": [
    "# define colors that will be used for plotting later\n",
    "# colors = ['red', 'blue', 'green', 'orange', 'purple', 'yellow', 'cyan', 'magenta']\n",
    "# colors += colors\n",
    "\n",
    "cmap = cm.get_cmap(name='gist_rainbow')\n",
    "colors1 = [cmap(k * 50) for k in range(12)]\n",
    "colors2 = [cmap(k * 25) for k in range(12)]"
   ]
  },
  {
   "cell_type": "code",
   "execution_count": 5,
   "metadata": {
    "collapsed": false
   },
   "outputs": [],
   "source": [
    "# run PCA\n",
    "pca_fit = PCA()\n",
    "pca_fit.fit(iris_features)\n",
    "pc_features = pca_fit.transform(iris_features)"
   ]
  },
  {
   "cell_type": "code",
   "execution_count": 6,
   "metadata": {
    "collapsed": false
   },
   "outputs": [],
   "source": [
    "def plot_clusters(x, y, cluster_labels, colors, fig, centroids = None, cov = None): \n",
    "    if np.all(cov != None): \n",
    "        assert len(np.unique(cluster_labels)) == np.shape(cov)[0]\n",
    "    if np.all(centroids != None): \n",
    "        assert len(np.unique(cluster_labels)) == np.shape(centroids)[1] \n",
    "    \n",
    "    unique_cluster_labels = np.unique(cluster_labels)\n",
    "    n_clusters = len(unique_cluster_labels)\n",
    "        \n",
    "    # this would be so much easier if \n",
    "    # python lists supported logical indexing ... \n",
    "    cluster_labels_color = [colors[k] for n in range(len(x)) \\\n",
    "                            for k in range(n_clusters) \\\n",
    "                            if cluster_labels[n] == unique_cluster_labels[k]]\n",
    "            \n",
    "    # plot datapoints\n",
    "    fig.scatter(x, y, c=cluster_labels_color, marker = '.')\n",
    "    \n",
    "    if np.all(centroids != None): \n",
    "        for k in range(n_clusters): \n",
    "            fig.scatter(centroids[0, k], centroids[1, k], marker = '+', color = 'black')\n",
    "    \n",
    "    if np.all(cov != None): \n",
    "        for k in range(n_clusters):  \n",
    "            eig, v = np.linalg.eig(cov[k, :, :])\n",
    "            ell = Ellipse(xy=(centroids[0, k], centroids[1, k]),\n",
    "                  width=np.sqrt(eig[0]) * 6, height=np.sqrt(eig[1]) * 6,\n",
    "                  angle=np.rad2deg(np.arctan(v[1, 0] / v[0, 0])))\n",
    "            ell.set_facecolor('none')\n",
    "            ell.set_edgecolor(colors[k])\n",
    "            fig.add_artist(ell)\n",
    "                "
   ]
  },
  {
   "cell_type": "code",
   "execution_count": 7,
   "metadata": {
    "collapsed": false
   },
   "outputs": [
    {
     "data": {
      "text/plain": [
       "<matplotlib.text.Text at 0x7f5e20e1fe48>"
      ]
     },
     "execution_count": 7,
     "metadata": {},
     "output_type": "execute_result"
    },
    {
     "data": {
      "image/png": "[encoded data removed]",
      "text/plain": [
       "<matplotlib.figure.Figure at 0x7f5e23be87f0>"
      ]
     },
     "metadata": {},
     "output_type": "display_data"
    }
   ],
   "source": [
    "fig1 = plt.figure(1)\n",
    "fig = fig1.add_subplot(111)\n",
    "plot_clusters(pc_features[:, 0], pc_features[:, 1], iris_species, colors1, fig)\n",
    "fig.set_xlabel('PC1')\n",
    "fig.set_ylabel('PC2')"
   ]
  },
  {
   "cell_type": "code",
   "execution_count": 8,
   "metadata": {
    "collapsed": false
   },
   "outputs": [
    {
     "data": {
      "text/plain": [
       "<matplotlib.text.Text at 0x7f5e20d87198>"
      ]
     },
     "execution_count": 8,
     "metadata": {},
     "output_type": "execute_result"
    },
    {
     "data": {
      "image/png": "[encoded data removed]",
      "text/plain": [
       "<matplotlib.figure.Figure at 0x7f5e20db6d30>"
      ]
     },
     "metadata": {},
     "output_type": "display_data"
    }
   ],
   "source": [
    "fig1 = plt.figure(1)\n",
    "fig = fig1.add_subplot(111)\n",
    "plot_clusters(iris_features[:, 0], iris_features[:, 1], iris_species, colors1, fig)\n",
    "fig.set_xlabel('Sepal length')\n",
    "fig.set_ylabel('Sepal width')"
   ]
  },
  {
   "cell_type": "code",
   "execution_count": 9,
   "metadata": {
    "collapsed": false
   },
   "outputs": [],
   "source": [
    "def transform_params_to_pc_space(pca_fit, centroids, cov):\n",
    "    # centroids is dim x k_approx\n",
    "    # infos is k_approx x dim x dim\n",
    "\n",
    "    assert pca_fit.components_.shape[1] == centroids.shape[0]\n",
    "    \n",
    "    centroids_pc = pca_fit.transform(centroids.T)\n",
    "    \n",
    "    cov_pc = np.zeros(cov.shape)\n",
    "    for k in range(cov.shape[0]):\n",
    "        cov_pc[k, :, :] = np.dot(np.dot(pca_fit.components_, cov[k]), pca_fit.components_.T)\n",
    "        \n",
    "    # cov_pc = np.einsum('di, kij, ej -> kde', pca_fit.components_, cov, pca_fit.components_)\n",
    "    \n",
    "    \n",
    "    return centroids_pc.T, cov_pc"
   ]
  },
  {
   "cell_type": "markdown",
   "metadata": {},
   "source": [
    "# Set prior params"
   ]
  },
  {
   "cell_type": "code",
   "execution_count": 10,
   "metadata": {
    "collapsed": false
   },
   "outputs": [],
   "source": [
    "prior_params = gmm_utils.get_default_prior_params(dim)\n",
    "prior_params['alpha'].set(4.0)\n",
    "prior_params['prior_gamma_df'].set(8)\n",
    "prior_params['prior_gamma_inv_scale'].set(np.eye(dim) * 0.62)"
   ]
  },
  {
   "cell_type": "code",
   "execution_count": 11,
   "metadata": {
    "collapsed": false,
    "scrolled": true
   },
   "outputs": [
    {
     "name": "stdout",
     "output_type": "stream",
     "text": [
      "prior_params:\n",
      "\talpha: 4.0\n",
      "\tprior_centroid_mean: 0.0\n",
      "\tprior_centroid_info: 0.1\n",
      "\tprior_gamma_df: 8\n",
      "\tprior_gamma_inv_scale:\n",
      "[[0.62 0.   0.   0.  ]\n",
      " [0.   0.62 0.   0.  ]\n",
      " [0.   0.   0.62 0.  ]\n",
      " [0.   0.   0.   0.62]]\n"
     ]
    }
   ],
   "source": [
    "print(prior_params)"
   ]
  },
  {
   "cell_type": "markdown",
   "metadata": {},
   "source": [
    "# Set up model"
   ]
  },
  {
   "cell_type": "code",
   "execution_count": 12,
   "metadata": {
    "collapsed": false
   },
   "outputs": [],
   "source": [
    "k_approx = 12\n",
    "gh_deg = 8\n",
    "model = gmm_utils.DPGaussianMixture(iris_features, k_approx, prior_params, gh_deg, use_logitnormal_sticks=True)"
   ]
  },
  {
   "cell_type": "markdown",
   "metadata": {},
   "source": [
    "# Set inits"
   ]
  },
  {
   "cell_type": "code",
   "execution_count": 13,
   "metadata": {
    "collapsed": true
   },
   "outputs": [],
   "source": [
    "set_truth = False"
   ]
  },
  {
   "cell_type": "code",
   "execution_count": 14,
   "metadata": {
    "collapsed": false
   },
   "outputs": [],
   "source": [
    "if set_truth: \n",
    "    # set to the true centroids: \n",
    "    centroid_init = np.zeros((dim, k_approx))\n",
    "    info_init = np.zeros((k_approx, dim, dim))\n",
    "    for k in range(k_approx): \n",
    "        if k < 3: \n",
    "            k_indx = np.argwhere(iris_species == k).flatten()\n",
    "            centroid_k = np.mean(model.y[k_indx, :], axis = 0)\n",
    "\n",
    "            resid_k = model.y[k_indx, :] - centroid_k\n",
    "\n",
    "            cov_init = np.dot(resid_k.T, resid_k)\n",
    "\n",
    "            info_init[k, :, :] = np.linalg.inv(cov_init)\n",
    "            centroid_init[:, k] = centroid_k\n",
    "        else: \n",
    "            info_init[k, :, :] = np.eye(dim)\n",
    "    \n",
    "    model.vb_params['global']['centroids'].set(centroid_init)\n",
    "    model.vb_params['global']['gamma'].set(info_init)\n",
    "    \n",
    "    model.set_optimal_z()\n",
    "    \n",
    "    init_global_free_param = model.global_vb_params.get_free()\n",
    "    \n",
    "        \n",
    "    \n",
    "else: \n",
    "    # run k-means init\n",
    "    n_kmeans_init = 50\n",
    "    init_global_free_param = model.cluster_and_set_inits(n_kmeans_init = n_kmeans_init)\n"
   ]
  },
  {
   "cell_type": "markdown",
   "metadata": {
    "collapsed": true
   },
   "source": [
    "# look at initializations"
   ]
  },
  {
   "cell_type": "code",
   "execution_count": 15,
   "metadata": {
    "collapsed": true
   },
   "outputs": [],
   "source": [
    "init_clusters = np.argmax(model.vb_params['e_z'].get(), axis = 1)\n",
    "init_centroids = model.vb_params['global']['centroids'].get()\n",
    "init_cov = np.linalg.inv(model.vb_params['global']['gamma'].get())"
   ]
  },
  {
   "cell_type": "code",
   "execution_count": 16,
   "metadata": {
    "collapsed": false
   },
   "outputs": [
    {
     "data": {
      "image/png": "[encoded data removed]",
      "text/plain": [
       "<matplotlib.figure.Figure at 0x7f5e20d12b38>"
      ]
     },
     "metadata": {},
     "output_type": "display_data"
    }
   ],
   "source": [
    "init_centroids_pc, init_cov_pc = transform_params_to_pc_space(pca_fit, init_centroids, init_cov)\n",
    "\n",
    "fig1 = plt.figure(1)\n",
    "fig = fig1.add_subplot(111)\n",
    "\n",
    "plot_clusters(pc_features[:, 0], pc_features[:, 1], init_clusters, \\\n",
    "            colors2, fig, \\\n",
    "             centroids = init_centroids_pc, cov = init_cov_pc)"
   ]
  },
  {
   "cell_type": "code",
   "execution_count": 17,
   "metadata": {
    "collapsed": false
   },
   "outputs": [
    {
     "name": "stdout",
     "output_type": "stream",
     "text": [
      "10409.879713358841\n"
     ]
    }
   ],
   "source": [
    "print(np.linalg.norm(model.vb_params['global']['gamma'].get()))"
   ]
  },
  {
   "cell_type": "markdown",
   "metadata": {
    "collapsed": true
   },
   "source": [
    "# Optimize!"
   ]
  },
  {
   "cell_type": "code",
   "execution_count": 18,
   "metadata": {
    "collapsed": true
   },
   "outputs": [],
   "source": [
    "load_from_disc = True"
   ]
  },
  {
   "cell_type": "code",
   "execution_count": 19,
   "metadata": {
    "collapsed": false,
    "scrolled": false
   },
   "outputs": [],
   "source": [
    "if not load_from_disc: \n",
    "    t0 = time.time()\n",
    "    best_param, kl_hessian, kl_hessian_corrected, \\\n",
    "    init_opt_time, newton_time, x_conv, f_conv, vb_opt = \\\n",
    "        model.optimize_full(init_global_free_param,\n",
    "            init_max_iter=100,\n",
    "            final_max_iter=500)\n",
    "    t_newton = time.time() - t0\n",
    "\n",
    "    print('done. ')\n",
    "    \n",
    "else: \n",
    "\n",
    "    full_data_fit_file = '../iris_fits/full_data_fits/iris_bnp_full_data_fit.json'\n",
    "    with open(full_data_fit_file, 'r') as fp:\n",
    "        fit_dict = json.load(fp)\n",
    "\n",
    "    model = gmm_utils.get_model_from_checkpoint(fit_dict)\n",
    "    model_ = gmm_utils.get_model_from_checkpoint(fit_dict)\n",
    "\n",
    "    best_param = model.global_vb_params.get_free()"
   ]
  },
  {
   "cell_type": "code",
   "execution_count": 20,
   "metadata": {
    "collapsed": false
   },
   "outputs": [],
   "source": [
    "newton_results = deepcopy(model)"
   ]
  },
  {
   "cell_type": "code",
   "execution_count": 21,
   "metadata": {
    "collapsed": false,
    "scrolled": true
   },
   "outputs": [
    {
     "name": "stdout",
     "output_type": "stream",
     "text": [
      "prior_params:\n",
      "\talpha: 4.0\n",
      "\tprior_centroid_mean: 0.0\n",
      "\tprior_centroid_info: 0.1\n",
      "\tprior_gamma_df: 8\n",
      "\tprior_gamma_inv_scale:\n",
      "[[0.62 0.   0.   0.  ]\n",
      " [0.   0.62 0.   0.  ]\n",
      " [0.   0.   0.62 0.  ]\n",
      " [0.   0.   0.   0.62]]\n"
     ]
    }
   ],
   "source": [
    "print(prior_params)"
   ]
  },
  {
   "cell_type": "code",
   "execution_count": 22,
   "metadata": {
    "collapsed": true
   },
   "outputs": [],
   "source": [
    "bnp_clusters = np.argmax(newton_results.vb_params['e_z'].get(), axis = 1)\n",
    "bnp_centroids = newton_results.vb_params['global']['centroids'].get()\n",
    "\n",
    "bnp_cluster_infos = newton_results.vb_params['global']['gamma'].get()\n",
    "bnp_cluster_covs = np.linalg.inv(bnp_cluster_infos)"
   ]
  },
  {
   "cell_type": "markdown",
   "metadata": {
    "collapsed": true
   },
   "source": [
    "### look at bnp clusters"
   ]
  },
  {
   "cell_type": "code",
   "execution_count": 23,
   "metadata": {
    "collapsed": true
   },
   "outputs": [],
   "source": [
    "bnp_centroids_pc, bnp_cluster_covs_pc = \\\n",
    "    transform_params_to_pc_space(pca_fit, bnp_centroids, bnp_cluster_covs)"
   ]
  },
  {
   "cell_type": "code",
   "execution_count": 24,
   "metadata": {
    "collapsed": false
   },
   "outputs": [
    {
     "data": {
      "text/plain": [
       "<matplotlib.text.Text at 0x7f5e20bbc668>"
      ]
     },
     "execution_count": 24,
     "metadata": {},
     "output_type": "execute_result"
    },
    {
     "data": {
      "image/png": "[encoded data removed]",
      "text/plain": [
       "<matplotlib.figure.Figure at 0x7f5e20bab1d0>"
      ]
     },
     "metadata": {},
     "output_type": "display_data"
    }
   ],
   "source": [
    "fig1 = plt.figure(1)\n",
    "fig = fig1.add_subplot(111)\n",
    "\n",
    "colors1_ = deepcopy(colors1)\n",
    "colors1_[0] = colors1[2]\n",
    "colors1_[1] = colors1[0]\n",
    "colors1_[2] = colors1[1]\n",
    "\n",
    "plot_clusters(pc_features[:, 0], pc_features[:, 1], bnp_clusters, \\\n",
    "              colors1_, fig, \\\n",
    "              centroids = bnp_centroids_pc[:, np.unique(bnp_clusters)], \\\n",
    "              cov = bnp_cluster_covs_pc[np.unique(bnp_clusters)])\n",
    "fig.set_xlabel('PC1')\n",
    "fig.set_ylabel('PC2')"
   ]
  },
  {
   "cell_type": "code",
   "execution_count": 25,
   "metadata": {
    "collapsed": false
   },
   "outputs": [],
   "source": [
    "# plt.scatter(pc_features[bnp_clusters == 0, 0], pc_features[bnp_clusters == 0, 1])"
   ]
  },
  {
   "cell_type": "code",
   "execution_count": 26,
   "metadata": {
    "collapsed": false
   },
   "outputs": [
    {
     "data": {
      "image/png": "[encoded data removed]",
      "text/plain": [
       "<matplotlib.figure.Figure at 0x7f5e20b7d2e8>"
      ]
     },
     "metadata": {},
     "output_type": "display_data"
    }
   ],
   "source": [
    "# recall true clustering\n",
    "fig1 = plt.figure(1)\n",
    "fig = fig1.add_subplot(111)\n",
    "plot_clusters(pc_features[:, 0], pc_features[:, 1], iris_species, colors1, fig)"
   ]
  },
  {
   "cell_type": "code",
   "execution_count": 27,
   "metadata": {
    "collapsed": false
   },
   "outputs": [
    {
     "data": {
      "text/plain": [
       "<matplotlib.image.AxesImage at 0x7f5e20a46198>"
      ]
     },
     "execution_count": 27,
     "metadata": {},
     "output_type": "execute_result"
    },
    {
     "data": {
      "image/png": "[encoded data removed]",
      "text/plain": [
       "<matplotlib.figure.Figure at 0x7f5e2b934e10>"
      ]
     },
     "metadata": {},
     "output_type": "display_data"
    }
   ],
   "source": [
    "model.set_from_global_free_par(newton_results.global_vb_params.get_free())\n",
    "e_z = model.vb_params['e_z'].get()\n",
    "co_cluster_mat = np.dot(e_z, e_z.T)\n",
    "\n",
    "dis = (co_cluster_mat + 1) ** (-1)\n",
    "dis[np.diag_indices_from(dis)] = 0\n",
    "dis = spatial.distance.squareform(dis, checks=False)\n",
    "y = sch.linkage(dis, method='average')\n",
    "indx_best = sch.dendrogram(y, no_plot=True)[\"leaves\"]\n",
    "\n",
    "co_cluster_mat = co_cluster_mat[indx_best][:, indx_best]\n",
    "\n",
    "plt.matshow(co_cluster_mat)\n"
   ]
  },
  {
   "cell_type": "code",
   "execution_count": 28,
   "metadata": {
    "collapsed": false
   },
   "outputs": [],
   "source": [
    "# %%R -i bnp_clusters -i bnp_centroids -w 4 -h 3 --units in -r 200\n",
    "# #     pca_centroids_init <- as.data.frame(predict(pca_results, t(init_centroids)))\n",
    "# #     pca_centroids_init$cluster <- as.factor(seq(1, 10, by = 1))\n",
    "# # TODO: plot the centroids too \n",
    "\n",
    "# # add our bnp clusterings to the dataframe\n",
    "# df_pca$bnp_clusters <- as.factor(bnp_clusters)\n",
    "\n",
    "# # plot\n",
    "# ggplot() + geom_point(data = df_pca, aes(x = PC1, y = PC2, color = bnp_clusters), size = 0.5) + \n",
    "#     theme(legend.position=\"none\") "
   ]
  },
  {
   "cell_type": "code",
   "execution_count": 29,
   "metadata": {
    "collapsed": false
   },
   "outputs": [
    {
     "data": {
      "image/png": "[encoded data removed]",
      "text/plain": [
       "<matplotlib.figure.Figure at 0x7f5e20ab3fd0>"
      ]
     },
     "metadata": {},
     "output_type": "display_data"
    }
   ],
   "source": [
    "cluster_weights = np.sum(newton_results.vb_params['e_z'].get(), axis = 0) / np.shape(model.y)[0]\n",
    "plt.bar(np.arange(len(cluster_weights)), cluster_weights); "
   ]
  },
  {
   "cell_type": "code",
   "execution_count": 30,
   "metadata": {
    "collapsed": false
   },
   "outputs": [
    {
     "data": {
      "image/png": "[encoded data removed]",
      "text/plain": [
       "<matplotlib.figure.Figure at 0x7f5e20bd9668>"
      ]
     },
     "metadata": {},
     "output_type": "display_data"
    }
   ],
   "source": [
    "posterior_weights = model.get_e_cluster_probabilities()\n",
    "plt.bar(np.arange(len(posterior_weights)), posterior_weights); "
   ]
  },
  {
   "cell_type": "code",
   "execution_count": 31,
   "metadata": {
    "collapsed": false
   },
   "outputs": [
    {
     "data": {
      "text/plain": [
       "(array([  2.,   0.,   1.,   1.,   1.,   5.,   2.,   2.,   6., 130.]),\n",
       " array([0.44352936, 0.49917643, 0.55482349, 0.61047055, 0.66611762,\n",
       "        0.72176468, 0.77741174, 0.83305881, 0.88870587, 0.94435294,\n",
       "        1.        ]),\n",
       " <a list of 10 Patch objects>)"
      ]
     },
     "execution_count": 31,
     "metadata": {},
     "output_type": "execute_result"
    },
    {
     "data": {
      "image/png": "[encoded data removed]",
      "text/plain": [
       "<matplotlib.figure.Figure at 0x7f5e208195f8>"
      ]
     },
     "metadata": {},
     "output_type": "display_data"
    }
   ],
   "source": [
    "plt.hist(np.max(model.vb_params['e_z'].get(), axis = 1))"
   ]
  },
  {
   "cell_type": "markdown",
   "metadata": {},
   "source": [
    "# Functional sensitivity"
   ]
  },
  {
   "cell_type": "code",
   "execution_count": 32,
   "metadata": {
    "collapsed": false,
    "scrolled": true
   },
   "outputs": [
    {
     "name": "stdout",
     "output_type": "stream",
     "text": [
      "KL Hessian:\n",
      "Prior Hessian...\n",
      "Data Hessian...\n",
      "Linear systems...\n",
      "Done.\n"
     ]
    }
   ],
   "source": [
    "best_param = newton_results.global_vb_params.get_free()\n",
    "prior_free_params = newton_results.prior_params.get_free()\n",
    "\n",
    "model.set_from_global_free_par(best_param)\n",
    "\n",
    "moment_model = gmm_utils.InterestingMoments(deepcopy(model))\n",
    "linear_sens = gmm_utils.LinearSensitivity(deepcopy(model), moment_model)"
   ]
  },
  {
   "cell_type": "code",
   "execution_count": 33,
   "metadata": {
    "collapsed": true
   },
   "outputs": [],
   "source": [
    "model.set_from_global_free_par(best_param)\n",
    "model.prior_params.set_free(prior_free_params)"
   ]
  },
  {
   "cell_type": "code",
   "execution_count": 34,
   "metadata": {
    "collapsed": false
   },
   "outputs": [
    {
     "name": "stdout",
     "output_type": "stream",
     "text": [
      "0.07230487288465379 2452.4187642002653\n"
     ]
    }
   ],
   "source": [
    "kl_hess_ev, kl_hess_evec = np.linalg.eig(linear_sens.kl_hessian)\n",
    "print(np.min(kl_hess_ev), np.max(kl_hess_ev))"
   ]
  },
  {
   "cell_type": "code",
   "execution_count": 35,
   "metadata": {
    "collapsed": true
   },
   "outputs": [],
   "source": [
    "def get_e_number_clusters_from_free_par(model, global_free_params, samples = 10000): \n",
    "    model.global_vb_params.set_free(global_free_params)\n",
    "    return modeling_lib.get_e_number_clusters_from_logit_sticks_diffble(model.vb_params, samples = samples)"
   ]
  },
  {
   "cell_type": "code",
   "execution_count": 36,
   "metadata": {
    "collapsed": false
   },
   "outputs": [],
   "source": [
    "# we examine the influence on the posterior stick lengths\n",
    "def get_stick_length_from_free_param(model, free_par): \n",
    "    model.set_from_global_free_par(free_par)\n",
    "    return ef.get_e_logitnormal(lognorm_means = model.vb_params['global']['v_sticks']['mean'].get(),\n",
    "                lognorm_infos = model.vb_params['global']['v_sticks']['info'].get(),\n",
    "                gh_loc = model.vb_params.gh_loc,\n",
    "                gh_weights = model.vb_params.gh_weights)\n",
    "\n",
    "\n",
    "# lets look at weights instead \n",
    "def get_kth_weight_from_free_param(model, free_par, k): \n",
    "    model.set_from_global_free_par(free_par)\n",
    "    e_sticks = ef.get_e_logitnormal(lognorm_means = model.vb_params['global']['v_sticks']['mean'].get(),\n",
    "                lognorm_infos = model.vb_params['global']['v_sticks']['info'].get(),\n",
    "                gh_loc = model.vb_params.gh_loc,\n",
    "                gh_weights = model.vb_params.gh_weights)\n",
    "    \n",
    "    return modeling_lib.get_kth_weight_from_sticks(np.array([e_sticks]), k)\n",
    "\n",
    "g_eta = np.zeros((k_approx, model.global_vb_params.free_size()))\n",
    "for k in range(k_approx): \n",
    "    get_g_eta = autograd.jacobian(get_kth_weight_from_free_param, argnum = 1)\n",
    "    g_eta[k, :] = get_g_eta(model, best_param, k)"
   ]
  },
  {
   "cell_type": "code",
   "execution_count": 37,
   "metadata": {
    "collapsed": false
   },
   "outputs": [],
   "source": [
    "get_g_eta_nclust = autograd.jacobian(get_e_number_clusters_from_free_par, argnum = 1)\n",
    "g_eta_nclust = get_g_eta_nclust(model, best_param)"
   ]
  },
  {
   "cell_type": "markdown",
   "metadata": {
    "collapsed": true
   },
   "source": [
    "# Worst case influence"
   ]
  },
  {
   "cell_type": "code",
   "execution_count": 38,
   "metadata": {
    "collapsed": false
   },
   "outputs": [],
   "source": [
    "worst_case_neg = lambda x : linear_sens.get_worst_case_perturbation_unscaled(g_eta = g_eta_nclust, \\\n",
    "                                                                      theta = x, \\\n",
    "                                                                      sign = -1).flatten()\n",
    "\n",
    "worst_case_pos = lambda x : linear_sens.get_worst_case_perturbation_unscaled(g_eta = g_eta_nclust, \\\n",
    "                                                                      theta = x, \\\n",
    "                                                                      sign = 1).flatten()"
   ]
  },
  {
   "cell_type": "code",
   "execution_count": 39,
   "metadata": {
    "collapsed": true
   },
   "outputs": [],
   "source": [
    "theta = np.linspace(0.01, 0.99, 100)"
   ]
  },
  {
   "cell_type": "code",
   "execution_count": 40,
   "metadata": {
    "collapsed": true
   },
   "outputs": [],
   "source": [
    "epsilon = 0.01"
   ]
  },
  {
   "cell_type": "code",
   "execution_count": 41,
   "metadata": {
    "collapsed": false
   },
   "outputs": [
    {
     "data": {
      "text/plain": [
       "<matplotlib.text.Text at 0x7f5e208bb630>"
      ]
     },
     "execution_count": 41,
     "metadata": {},
     "output_type": "execute_result"
    },
    {
     "data": {
      "image/png": "[encoded data removed]",
      "text/plain": [
       "<matplotlib.figure.Figure at 0x7f5e20740588>"
      ]
     },
     "metadata": {},
     "output_type": "display_data"
    }
   ],
   "source": [
    "plt.plot(theta, np.dot(g_eta_nclust, linear_sens.total_influence_function(theta)), 'b--')\n",
    "plt.plot(theta, worst_case_neg(theta).flatten() * epsilon, 'red')\n",
    "plt.xlabel('x')\n",
    "plt.ylabel('u(x)')\n",
    "# plt.title('total influence on n_clusters')"
   ]
  },
  {
   "cell_type": "code",
   "execution_count": 43,
   "metadata": {
    "collapsed": false,
    "scrolled": true
   },
   "outputs": [
    {
     "data": {
      "text/plain": [
       "<matplotlib.text.Text at 0x7f5e20c9d7b8>"
      ]
     },
     "execution_count": 43,
     "metadata": {},
     "output_type": "execute_result"
    },
    {
     "data": {
      "image/png": "[encoded data removed]",
      "text/plain": [
       "<matplotlib.figure.Figure at 0x7f5e20c201d0>"
      ]
     },
     "metadata": {},
     "output_type": "display_data"
    }
   ],
   "source": [
    "plt.plot(theta, np.dot(g_eta_nclust, linear_sens.total_influence_function(theta)), 'b--')\n",
    "plt.plot(theta, worst_case_pos(theta).flatten(), 'red')\n",
    "plt.xlabel('x')\n",
    "plt.ylabel('u(x)')\n",
    "# plt.title('total influence on n_clusters')"
   ]
  },
  {
   "cell_type": "code",
   "execution_count": 44,
   "metadata": {
    "collapsed": false
   },
   "outputs": [],
   "source": [
    "# Get interpolating points\n",
    "n_int_points = 100\n",
    "int_points_x_ = np.linspace(0.0, 1.0, n_int_points)\n",
    "int_points_x = np.sort((1 - (np.power(10, int_points_x_) - 1) / 9) * (1 - 0.6e-6) + 0.5e-6)"
   ]
  },
  {
   "cell_type": "code",
   "execution_count": 45,
   "metadata": {
    "collapsed": false
   },
   "outputs": [
    {
     "data": {
      "image/png": "[encoded data removed]",
      "text/plain": [
       "<matplotlib.figure.Figure at 0x7f5e20c39ba8>"
      ]
     },
     "metadata": {},
     "output_type": "display_data"
    }
   ],
   "source": [
    "# plt.plot(int_points_x, np.zeros(len(int_points_x)), '.', alpha = 0.005)\n",
    "plt.hist(int_points_x, bins = 30); "
   ]
  },
  {
   "cell_type": "code",
   "execution_count": 46,
   "metadata": {
    "collapsed": false
   },
   "outputs": [
    {
     "data": {
      "text/plain": [
       "0.9999998999999999"
      ]
     },
     "execution_count": 46,
     "metadata": {},
     "output_type": "execute_result"
    }
   ],
   "source": [
    "np.max(int_points_x)"
   ]
  },
  {
   "cell_type": "code",
   "execution_count": 47,
   "metadata": {
    "collapsed": false
   },
   "outputs": [
    {
     "data": {
      "text/plain": [
       "5e-07"
      ]
     },
     "execution_count": 47,
     "metadata": {},
     "output_type": "execute_result"
    }
   ],
   "source": [
    "np.min(int_points_x)"
   ]
  },
  {
   "cell_type": "code",
   "execution_count": 48,
   "metadata": {
    "collapsed": false
   },
   "outputs": [
    {
     "name": "stdout",
     "output_type": "stream",
     "text": [
      "condition number:  8.924553350311173\n",
      "condition number:  8.924553350311173\n"
     ]
    }
   ],
   "source": [
    "import interpolation_lib as interp_lib\n",
    "\n",
    "# knot_vector = np.array([0.0, 0.2, 0.4, 0.6, 0.7, 0.75, 0.8, 0.85, 0.90, 0.95, 1.0])\n",
    "knot_vector = int_points_x.flatten()\n",
    "worst_case_pos_interp = interp_lib.BsplineRegression(fun = worst_case_pos, \n",
    "                                                     x_reg= int_points_x.flatten(), \n",
    "                                                    knot_vector = knot_vector, \n",
    "                                                    order = 3)\n",
    "\n",
    "worst_case_neg_interp = interp_lib.BsplineRegression(fun = worst_case_neg, \n",
    "                                                     x_reg= int_points_x.flatten(), \n",
    "                                                    knot_vector = knot_vector, \n",
    "                                                    order = 3)"
   ]
  },
  {
   "cell_type": "code",
   "execution_count": 62,
   "metadata": {
    "collapsed": false
   },
   "outputs": [
    {
     "data": {
      "text/plain": [
       "[<matplotlib.lines.Line2D at 0x7f5e207646a0>]"
      ]
     },
     "execution_count": 62,
     "metadata": {},
     "output_type": "execute_result"
    },
    {
     "data": {
      "image/png": "[encoded data removed]",
      "text/plain": [
       "<matplotlib.figure.Figure at 0x7f5e206a7e80>"
      ]
     },
     "metadata": {},
     "output_type": "display_data"
    }
   ],
   "source": [
    "theta = np.linspace(0.001, 0.999, 100)\n",
    "plt.plot(theta, worst_case_pos_interp.eval_interp_fun(theta), color = 'red')\n",
    "plt.plot(theta, worst_case_pos_interp.eval_fun(theta), '--', color = 'blue')"
   ]
  },
  {
   "cell_type": "code",
   "execution_count": 63,
   "metadata": {
    "collapsed": false
   },
   "outputs": [
    {
     "data": {
      "text/plain": [
       "3.1894265428817903"
      ]
     },
     "execution_count": 63,
     "metadata": {},
     "output_type": "execute_result"
    }
   ],
   "source": [
    "np.max(np.abs(worst_case_pos_interp.eval_interp_fun(theta) - worst_case_pos_interp.eval_fun(theta)))"
   ]
  },
  {
   "cell_type": "code",
   "execution_count": 64,
   "metadata": {
    "collapsed": false
   },
   "outputs": [
    {
     "data": {
      "text/plain": [
       "[<matplotlib.lines.Line2D at 0x7f5e204bbc88>]"
      ]
     },
     "execution_count": 64,
     "metadata": {},
     "output_type": "execute_result"
    },
    {
     "data": {
      "image/png": "[encoded data removed]",
      "text/plain": [
       "<matplotlib.figure.Figure at 0x7f5e207350f0>"
      ]
     },
     "metadata": {},
     "output_type": "display_data"
    }
   ],
   "source": [
    "plt.plot(theta, worst_case_neg_interp.eval_interp_fun(theta), color = 'red')\n",
    "plt.plot(theta, worst_case_neg_interp.eval_fun(theta), '--', color = 'blue')"
   ]
  },
  {
   "cell_type": "code",
   "execution_count": 91,
   "metadata": {
    "collapsed": true
   },
   "outputs": [],
   "source": [
    "import scipy as osp"
   ]
  },
  {
   "cell_type": "code",
   "execution_count": 115,
   "metadata": {
    "collapsed": false
   },
   "outputs": [],
   "source": [
    "def get_worst_case_norm(linear_sens, g_eta, sign ): \n",
    "    integrand = lambda theta : np.max(sign * np.einsum('i, i...->...', g_eta, \\\n",
    "                        linear_sens.total_influence_function(theta)), 0)**2 \\\n",
    "                / sp.stats.beta.pdf(theta, 1, linear_sens.model.prior_params['alpha'].get())\n",
    "    \n",
    "    return integrand"
   ]
  },
  {
   "cell_type": "code",
   "execution_count": 116,
   "metadata": {
    "collapsed": false
   },
   "outputs": [],
   "source": [
    "foo = get_worst_case_norm(linear_sens, g_eta_nclust, 1)"
   ]
  },
  {
   "cell_type": "code",
   "execution_count": 120,
   "metadata": {
    "collapsed": false
   },
   "outputs": [
    {
     "data": {
      "text/plain": [
       "[<matplotlib.lines.Line2D at 0x7f5e1dd207f0>]"
      ]
     },
     "execution_count": 120,
     "metadata": {},
     "output_type": "execute_result"
    },
    {
     "data": {
      "image/png": "[encoded data removed]",
      "text/plain": [
       "<matplotlib.figure.Figure at 0x7f5e1dc3c7f0>"
      ]
     },
     "metadata": {},
     "output_type": "display_data"
    }
   ],
   "source": [
    "x = np.linspace(-10, 10, 100)\n",
    "expit_x = sp.special.expit(x)\n",
    "\n",
    "plt.plot(foo(expit_x) / (np.log(expit_x) * (1 - np.log(expit_x))))"
   ]
  },
  {
   "cell_type": "code",
   "execution_count": 65,
   "metadata": {
    "collapsed": false
   },
   "outputs": [],
   "source": [
    "worst_case_fun_sens_mat_pos = np.zeros((len(best_param), k_approx - 1))\n",
    "worst_case_fun_sens_mat_neg = np.zeros((len(best_param), k_approx - 1))\n",
    "for k in range(k_approx - 1): \n",
    "    worst_case_fun_sens_mat_pos[:, k] = \\\n",
    "        linear_sens.get_functional_sensitivity(lambda x : np.max(worst_case_pos_interp.eval_interp_fun(x), 0), k)\n",
    "    worst_case_fun_sens_mat_neg[:, k] = \\\n",
    "        linear_sens.get_functional_sensitivity(lambda x : np.max(worst_case_neg_interp.eval_interp_fun(x), 0), k)"
   ]
  },
  {
   "cell_type": "code",
   "execution_count": 130,
   "metadata": {
    "collapsed": false
   },
   "outputs": [
    {
     "data": {
      "text/plain": [
       "<matplotlib.legend.Legend at 0x7f5e1dc3a2e8>"
      ]
     },
     "execution_count": 130,
     "metadata": {},
     "output_type": "execute_result"
    },
    {
     "data": {
      "image/png": "[encoded data removed]",
      "text/plain": [
       "<matplotlib.figure.Figure at 0x7f5e1db2e588>"
      ]
     },
     "metadata": {},
     "output_type": "display_data"
    }
   ],
   "source": [
    "# The perturbed prior\n",
    "\n",
    "plt.plot(theta, sp.stats.beta.pdf(theta, 1, linear_sens.model.prior_params['alpha'].get()), color = 'red')\n",
    "plt.plot(theta, np.exp(np.log(np.max(worst_case_pos_interp.eval_interp_fun(theta), 0) * epsilon + \\\n",
    "                   sp.stats.beta.pdf(theta, 1, linear_sens.model.prior_params['alpha'].get()))), color = 'blue')\n",
    "\n",
    "plt.legend(('original', 'perturbed'))"
   ]
  },
  {
   "cell_type": "code",
   "execution_count": 66,
   "metadata": {
    "collapsed": false
   },
   "outputs": [
    {
     "name": "stdout",
     "output_type": "stream",
     "text": [
      "Iter: 0\t RMSE: 9.028010849889903\t Objective: -338.65935982103895\n",
      "Iter: 10\t RMSE: 9.098901452244418\t Objective: -339.1714050960244\n",
      "Iter: 20\t RMSE: 9.09472896233159\t Objective: -339.30984156980423\n",
      "Iter: 30\t RMSE: 9.097362258630547\t Objective: -339.52727214741543\n",
      "Iter: 40\t RMSE: 9.09616883429285\t Objective: -339.4540027046205\n",
      "Iter: 50\t RMSE: 9.11915727599227\t Objective: -339.8583570177764\n",
      "Iter: 60\t RMSE: 9.114799913344404\t Objective: -339.8819666660863\n",
      "Iter: 70\t RMSE: 9.11452429651555\t Objective: -339.882908919188\n",
      "Iter: 80\t RMSE: 9.1145366083726\t Objective: -339.88291926453513\n",
      "Iter: 90\t RMSE: 9.114539607642232\t Objective: -339.8829193924816\n",
      "Optimization terminated successfully.\n",
      "         Current function value: -339.882919\n",
      "         Iterations: 78\n",
      "         Function evaluations: 93\n",
      "         Gradient evaluations: 93\n",
      "Warning: A bad approximation caused failure to predict improvement.\n",
      "         Current function value: -339.882919\n",
      "         Iterations: 1\n",
      "         Function evaluations: 3\n",
      "         Gradient evaluations: 2\n",
      "         Hessian evaluations: 0\n",
      "Iter 1: x_diff = 0.0005307586856183876, f_diff = 6.032792043697555e-10\n"
     ]
    }
   ],
   "source": [
    "# Perturb and re-optimize with positive perturbation\n",
    "epsilon = 0.000001\n",
    "\n",
    "model_worst_case_pos_pert = gmm_utils.DPGaussianMixture(\n",
    "    model.y, model.k_approx, model.prior_params, gh_deg = 8, \\\n",
    "    use_bnp_prior = model.vb_params.use_bnp_prior, \\\n",
    "    use_logitnormal_sticks = model.vb_params.use_logitnormal_sticks, \\\n",
    "    u = lambda x : np.max(worst_case_pos_interp.eval_interp_fun(x), 0) * epsilon)\n",
    "\n",
    "pos_pert_worst_case_opt_free_param = \\\n",
    "    model_worst_case_pos_pert.optimize_full(best_param, init_max_iter=100, final_max_iter=500)[0]\n"
   ]
  },
  {
   "cell_type": "code",
   "execution_count": 67,
   "metadata": {
    "collapsed": false
   },
   "outputs": [
    {
     "data": {
      "text/plain": [
       "<matplotlib.text.Text at 0x7f5e2097acf8>"
      ]
     },
     "execution_count": 67,
     "metadata": {},
     "output_type": "execute_result"
    },
    {
     "data": {
      "image/png": "[encoded data removed]",
      "text/plain": [
       "<matplotlib.figure.Figure at 0x7f5e206c2e48>"
      ]
     },
     "metadata": {},
     "output_type": "display_data"
    }
   ],
   "source": [
    "lr_free_param_diff_vec = np.matmul(worst_case_fun_sens_mat_pos, epsilon * np.ones(k_approx - 1))\n",
    "\n",
    "diff_vec = pos_pert_worst_case_opt_free_param - best_param\n",
    "lr_diff_vec = deepcopy(lr_free_param_diff_vec)\n",
    "plt.plot(diff_vec, lr_diff_vec, 'r+')\n",
    "plt.plot(diff_vec, diff_vec, 'k')\n",
    "plt.xlabel('true diff')\n",
    "plt.ylabel('lr diff')\n"
   ]
  },
  {
   "cell_type": "code",
   "execution_count": 68,
   "metadata": {
    "collapsed": false,
    "scrolled": true
   },
   "outputs": [
    {
     "data": {
      "text/plain": [
       "6.294744650608919"
      ]
     },
     "execution_count": 68,
     "metadata": {},
     "output_type": "execute_result"
    }
   ],
   "source": [
    "get_e_number_clusters_from_free_par(model, best_param)"
   ]
  },
  {
   "cell_type": "code",
   "execution_count": 69,
   "metadata": {
    "collapsed": false
   },
   "outputs": [
    {
     "name": "stdout",
     "output_type": "stream",
     "text": [
      "perturbed e_number_clusters: 4.257620752879828\n"
     ]
    }
   ],
   "source": [
    "print('perturbed e_number_clusters:', \n",
    "get_e_number_clusters_from_free_par(model, pos_pert_worst_case_opt_free_param))"
   ]
  },
  {
   "cell_type": "code",
   "execution_count": 70,
   "metadata": {
    "collapsed": false
   },
   "outputs": [
    {
     "name": "stdout",
     "output_type": "stream",
     "text": [
      "linear response e_number_clusters: 4.9438624421360595\n"
     ]
    }
   ],
   "source": [
    "print('linear response e_number_clusters:', \n",
    "      get_e_number_clusters_from_free_par(model, lr_free_param_diff_vec + best_param))"
   ]
  },
  {
   "cell_type": "code",
   "execution_count": 71,
   "metadata": {
    "collapsed": true
   },
   "outputs": [],
   "source": [
    "epsilons = np.arange(1, 11) * 1e-6"
   ]
  },
  {
   "cell_type": "code",
   "execution_count": 73,
   "metadata": {
    "collapsed": false
   },
   "outputs": [
    {
     "name": "stderr",
     "output_type": "stream",
     "text": [
      "\r",
      "  0%|          | 0/10 [00:00<?, ?it/s]"
     ]
    },
    {
     "name": "stdout",
     "output_type": "stream",
     "text": [
      "optimizing when epsilon = 1e-06\n",
      "Iter: 0\t RMSE: 9.028010849889903\t Objective: -338.65935982103895\n",
      "Iter: 10\t RMSE: 9.098901452244418\t Objective: -339.1714050960244\n",
      "Iter: 20\t RMSE: 9.09472896233159\t Objective: -339.30984156980423\n",
      "Iter: 30\t RMSE: 9.097362258630547\t Objective: -339.52727214741543\n",
      "Iter: 40\t RMSE: 9.09616883429285\t Objective: -339.4540027046205\n",
      "Iter: 50\t RMSE: 9.11915727599227\t Objective: -339.8583570177764\n",
      "Iter: 60\t RMSE: 9.114799913344404\t Objective: -339.8819666660863\n",
      "Iter: 70\t RMSE: 9.11452429651555\t Objective: -339.882908919188\n",
      "Iter: 80\t RMSE: 9.1145366083726\t Objective: -339.88291926453513\n",
      "Iter: 90\t RMSE: 9.114539607642232\t Objective: -339.8829193924816\n",
      "Optimization terminated successfully.\n",
      "         Current function value: -339.882919\n",
      "         Iterations: 78\n",
      "         Function evaluations: 93\n",
      "         Gradient evaluations: 93\n"
     ]
    },
    {
     "name": "stderr",
     "output_type": "stream",
     "text": [
      "\r",
      " 10%|█         | 1/10 [00:38<05:43, 38.14s/it]"
     ]
    },
    {
     "name": "stdout",
     "output_type": "stream",
     "text": [
      "Warning: A bad approximation caused failure to predict improvement.\n",
      "         Current function value: -339.882919\n",
      "         Iterations: 1\n",
      "         Function evaluations: 3\n",
      "         Gradient evaluations: 2\n",
      "         Hessian evaluations: 0\n",
      "Iter 1: x_diff = 0.0005307586856183876, f_diff = 6.032792043697555e-10\n",
      "optimizing when epsilon = 2e-06\n",
      "Iter: 0\t RMSE: 9.028010849889903\t Objective: -338.9861310259699\n",
      "Iter: 10\t RMSE: 9.099142746910466\t Objective: -339.79401172668304\n",
      "Iter: 20\t RMSE: 9.093701277018159\t Objective: -339.91886864845173\n",
      "Iter: 30\t RMSE: 9.090372807670558\t Objective: -340.17445914516287\n",
      "Iter: 40\t RMSE: 9.100370215365407\t Objective: -340.3931499270413\n",
      "Iter: 50\t RMSE: 9.120383352203865\t Objective: -340.56763026402\n",
      "Iter: 60\t RMSE: 9.114650854171236\t Objective: -340.5903619581704\n",
      "Iter: 70\t RMSE: 9.114493248797437\t Objective: -340.5913885823512\n",
      "Iter: 80\t RMSE: 9.114527985168547\t Objective: -340.5914075336153\n",
      "Iter: 90\t RMSE: 9.11454936361592\t Objective: -340.59140827620325\n",
      "Optimization terminated successfully.\n",
      "         Current function value: -340.591408\n",
      "         Iterations: 78\n",
      "         Function evaluations: 97\n",
      "         Gradient evaluations: 97\n"
     ]
    },
    {
     "name": "stderr",
     "output_type": "stream",
     "text": [
      "\r",
      " 20%|██        | 2/10 [01:12<04:50, 36.32s/it]"
     ]
    },
    {
     "name": "stdout",
     "output_type": "stream",
     "text": [
      "Warning: A bad approximation caused failure to predict improvement.\n",
      "         Current function value: -340.591408\n",
      "         Iterations: 1\n",
      "         Function evaluations: 3\n",
      "         Gradient evaluations: 2\n",
      "         Hessian evaluations: 0\n",
      "Iter 1: x_diff = 0.0005046972923651309, f_diff = 4.5855585995013826e-10\n",
      "optimizing when epsilon = 3e-06\n",
      "Iter: 0\t RMSE: 9.028010849889903\t Objective: -339.2218601333147\n",
      "Iter: 10\t RMSE: 9.09880068468059\t Objective: -340.1716622857044\n",
      "Iter: 20\t RMSE: 9.093170277076192\t Objective: -340.29679631612436\n",
      "Iter: 30\t RMSE: 9.092849131286274\t Objective: -340.5786206591081\n",
      "Iter: 40\t RMSE: 9.099614891782064\t Objective: -340.811867945422\n",
      "Iter: 50\t RMSE: 9.118719534646663\t Objective: -341.001860459461\n",
      "Iter: 60\t RMSE: 9.114442456513455\t Objective: -341.0206291087518\n",
      "Iter: 70\t RMSE: 9.114561156372162\t Objective: -341.02142253984556\n",
      "Iter: 80\t RMSE: 9.114541320954205\t Objective: -341.0214357685387\n",
      "Iter: 90\t RMSE: 9.114549624885356\t Objective: -341.0214359904383\n",
      "Optimization terminated successfully.\n",
      "         Current function value: -341.021436\n",
      "         Iterations: 81\n",
      "         Function evaluations: 99\n",
      "         Gradient evaluations: 99\n",
      "Iter: 100\t RMSE: 9.114547228887515\t Objective: -341.0214359933958\n"
     ]
    },
    {
     "name": "stderr",
     "output_type": "stream",
     "text": [
      "\r",
      " 30%|███       | 3/10 [01:48<04:13, 36.19s/it]"
     ]
    },
    {
     "name": "stdout",
     "output_type": "stream",
     "text": [
      "Warning: A bad approximation caused failure to predict improvement.\n",
      "         Current function value: -341.021436\n",
      "         Iterations: 1\n",
      "         Function evaluations: 3\n",
      "         Gradient evaluations: 2\n",
      "         Hessian evaluations: 0\n",
      "Iter 1: x_diff = 0.00020692870589759477, f_diff = 9.487166607868858e-11\n",
      "optimizing when epsilon = 4e-06\n",
      "Iter: 0\t RMSE: 9.028010849889903\t Objective: -339.4085257873933\n",
      "Iter: 10\t RMSE: 9.098978953676907\t Objective: -340.44308079328954\n",
      "Iter: 20\t RMSE: 9.093122942664838\t Objective: -340.5704132156031\n",
      "Iter: 30\t RMSE: 9.097434046212124\t Objective: -340.86227557514655\n",
      "Iter: 40\t RMSE: 9.097642227805563\t Objective: -341.07477416279477\n",
      "Iter: 50\t RMSE: 9.1165585640313\t Objective: -341.3078885668151\n",
      "Iter: 60\t RMSE: 9.115250811132638\t Objective: -341.33423586013913\n",
      "Iter: 70\t RMSE: 9.114552658627384\t Objective: -341.3349888522707\n",
      "Iter: 80\t RMSE: 9.114549904578055\t Objective: -341.3350023344893\n",
      "Iter: 90\t RMSE: 9.114550309340128\t Objective: -341.3350029174935\n",
      "Optimization terminated successfully.\n",
      "         Current function value: -341.335003\n",
      "         Iterations: 84\n",
      "         Function evaluations: 98\n",
      "         Gradient evaluations: 98\n"
     ]
    },
    {
     "name": "stderr",
     "output_type": "stream",
     "text": [
      "\r",
      " 40%|████      | 4/10 [02:26<03:39, 36.65s/it]"
     ]
    },
    {
     "name": "stdout",
     "output_type": "stream",
     "text": [
      "Iter: 100\t RMSE: 9.114547366497783\t Objective: -341.335002921765\n",
      "Warning: A bad approximation caused failure to predict improvement.\n",
      "         Current function value: -341.335003\n",
      "         Iterations: 1\n",
      "         Function evaluations: 3\n",
      "         Gradient evaluations: 2\n",
      "         Hessian evaluations: 0\n",
      "Iter 1: x_diff = 0.0003330249261389033, f_diff = 2.4937207854236476e-10\n",
      "optimizing when epsilon = 4.9999999999999996e-06\n",
      "Iter: 0\t RMSE: 9.028010849889903\t Objective: -339.56387987664345\n",
      "Iter: 10\t RMSE: 9.10023551718747\t Objective: -340.6941951477311\n",
      "Iter: 20\t RMSE: 9.091840219293907\t Objective: -340.83891344332704\n",
      "Iter: 30\t RMSE: 9.099152983694932\t Objective: -341.11209920347824\n",
      "Iter: 40\t RMSE: 9.101789450959595\t Objective: -341.3653428173454\n",
      "Iter: 50\t RMSE: 9.114428746263703\t Objective: -341.5696399360569\n",
      "Iter: 60\t RMSE: 9.115028869363364\t Objective: -341.5833025968846\n",
      "Iter: 70\t RMSE: 9.114533935399418\t Objective: -341.58391172619247\n",
      "Iter: 80\t RMSE: 9.114516817447624\t Objective: -341.58392503382197\n",
      "Iter: 90\t RMSE: 9.114553974306537\t Objective: -341.5839254541289\n",
      "Iter: 100\t RMSE: 9.114546505753491\t Objective: -341.5839254653238\n",
      "Optimization terminated successfully.\n",
      "         Current function value: -341.583925\n",
      "         Iterations: 85\n",
      "         Function evaluations: 102\n",
      "         Gradient evaluations: 102\n"
     ]
    },
    {
     "name": "stderr",
     "output_type": "stream",
     "text": [
      "\r",
      " 50%|█████     | 5/10 [03:04<03:04, 36.85s/it]"
     ]
    },
    {
     "name": "stdout",
     "output_type": "stream",
     "text": [
      "Warning: A bad approximation caused failure to predict improvement.\n",
      "         Current function value: -341.583925\n",
      "         Iterations: 1\n",
      "         Function evaluations: 3\n",
      "         Gradient evaluations: 2\n",
      "         Hessian evaluations: 0\n",
      "Iter 1: x_diff = 0.00022072946562427586, f_diff = 1.0697931429604068e-10\n",
      "optimizing when epsilon = 6e-06\n",
      "Iter: 0\t RMSE: 9.028010849889903\t Objective: -339.69731756745915\n",
      "Iter: 10\t RMSE: 9.099234481535074\t Objective: -340.86583957301167\n",
      "Iter: 20\t RMSE: 9.09121835288046\t Objective: -341.016877583656\n",
      "Iter: 30\t RMSE: 9.10336655599915\t Objective: -341.2986932959919\n",
      "Iter: 40\t RMSE: 9.102256567846013\t Objective: -341.57066877463916\n",
      "Iter: 50\t RMSE: 9.116354288593305\t Objective: -341.7684130075859\n",
      "Iter: 60\t RMSE: 9.113982990200844\t Objective: -341.7905288251069\n",
      "Iter: 70\t RMSE: 9.114462721607747\t Objective: -341.79153551043606\n",
      "Iter: 80\t RMSE: 9.114521579008075\t Objective: -341.7915715784039\n",
      "Iter: 90\t RMSE: 9.11455761696718\t Objective: -341.79157231708274\n",
      "Iter: 100\t RMSE: 9.114545394713582\t Objective: -341.79157235007085\n",
      "Optimization terminated successfully.\n",
      "         Current function value: -341.791572\n",
      "         Iterations: 82\n",
      "         Function evaluations: 103\n",
      "         Gradient evaluations: 103\n"
     ]
    },
    {
     "name": "stderr",
     "output_type": "stream",
     "text": [
      "\r",
      " 60%|██████    | 6/10 [03:41<02:27, 36.87s/it]"
     ]
    },
    {
     "name": "stdout",
     "output_type": "stream",
     "text": [
      "Warning: A bad approximation caused failure to predict improvement.\n",
      "         Current function value: -341.791572\n",
      "         Iterations: 1\n",
      "         Function evaluations: 3\n",
      "         Gradient evaluations: 2\n",
      "         Hessian evaluations: 0\n",
      "Iter 1: x_diff = 0.0003440661000599809, f_diff = 2.523847797419876e-10\n",
      "optimizing when epsilon = 7e-06\n",
      "Iter: 0\t RMSE: 9.028010849889903\t Objective: -339.814476590718\n",
      "Iter: 10\t RMSE: 9.098872874061591\t Objective: -341.01512177934814\n",
      "Iter: 20\t RMSE: 9.09109100540044\t Objective: -341.17249471298294\n",
      "Iter: 30\t RMSE: 9.104041057805796\t Objective: -341.4659667241644\n",
      "Iter: 40\t RMSE: 9.10145704321396\t Objective: -341.7622466158081\n",
      "Iter: 50\t RMSE: 9.113538738547941\t Objective: -341.93653267554936\n",
      "Iter: 60\t RMSE: 9.11486665904838\t Objective: -341.96942532820134\n",
      "Iter: 70\t RMSE: 9.114665147982\t Objective: -341.97049154445017\n",
      "Iter: 80\t RMSE: 9.114500006344597\t Objective: -341.9705209644367\n",
      "Iter: 90\t RMSE: 9.114557868660995\t Objective: -341.97052206233894\n",
      "Iter: 100\t RMSE: 9.114543880207048\t Objective: -341.97052211256056\n",
      "Optimization terminated successfully.\n",
      "         Current function value: -341.970522\n",
      "         Iterations: 83\n",
      "         Function evaluations: 106\n",
      "         Gradient evaluations: 106\n"
     ]
    },
    {
     "name": "stderr",
     "output_type": "stream",
     "text": [
      "\r",
      " 70%|███████   | 7/10 [04:17<01:50, 36.76s/it]"
     ]
    },
    {
     "name": "stdout",
     "output_type": "stream",
     "text": [
      "Optimization terminated successfully.\n",
      "         Current function value: -341.970522\n",
      "         Iterations: 1\n",
      "         Function evaluations: 2\n",
      "         Gradient evaluations: 2\n",
      "         Hessian evaluations: 0\n",
      "Iter 1: x_diff = 0.00020687033926868943, f_diff = 9.112000043387525e-11\n",
      "optimizing when epsilon = 8e-06\n",
      "Iter: 0\t RMSE: 9.028010849889903\t Objective: -339.9190291126223\n",
      "Iter: 10\t RMSE: 9.098773458236453\t Objective: -341.1474764273059\n",
      "Iter: 20\t RMSE: 9.089094442736242\t Objective: -341.31226488319714\n",
      "Iter: 30\t RMSE: 9.099225509385152\t Objective: -341.62829652558395\n",
      "Iter: 40\t RMSE: 9.106885191570449\t Objective: -341.92270466874845\n",
      "Iter: 50\t RMSE: 9.11498654193759\t Objective: -342.1049682619681\n",
      "Iter: 60\t RMSE: 9.11415380613847\t Objective: -342.127261942183\n",
      "Iter: 70\t RMSE: 9.11463914388202\t Objective: -342.12830992518985\n",
      "Iter: 80\t RMSE: 9.114529766918281\t Objective: -342.12833570805753\n",
      "Iter: 90\t RMSE: 9.114551380009917\t Objective: -342.1283361692588\n",
      "Iter: 100\t RMSE: 9.114544071761447\t Objective: -342.1283361783093\n",
      "Optimization terminated successfully.\n",
      "         Current function value: -342.128336\n",
      "         Iterations: 82\n",
      "         Function evaluations: 101\n",
      "         Gradient evaluations: 101\n"
     ]
    },
    {
     "name": "stderr",
     "output_type": "stream",
     "text": [
      "\r",
      " 80%|████████  | 8/10 [04:54<01:13, 36.80s/it]"
     ]
    },
    {
     "name": "stdout",
     "output_type": "stream",
     "text": [
      "Warning: A bad approximation caused failure to predict improvement.\n",
      "         Current function value: -342.128336\n",
      "         Iterations: 1\n",
      "         Function evaluations: 3\n",
      "         Gradient evaluations: 2\n",
      "         Hessian evaluations: 0\n",
      "Iter 1: x_diff = 0.0003630291438078015, f_diff = 2.857518666132819e-10\n",
      "optimizing when epsilon = 9e-06\n",
      "Iter: 0\t RMSE: 9.028010849889903\t Objective: -340.013510616386\n",
      "Iter: 10\t RMSE: 9.09872331481646\t Objective: -341.2654594163704\n",
      "Iter: 20\t RMSE: 9.087483259769773\t Objective: -341.44124179191914\n",
      "Iter: 30\t RMSE: 9.092751075391481\t Objective: -341.76333910466354\n",
      "Iter: 40\t RMSE: 9.107077864147916\t Objective: -342.04116452928247\n",
      "Iter: 50\t RMSE: 9.114849657751384\t Objective: -342.2155724291338\n",
      "Iter: 60\t RMSE: 9.114606655464643\t Objective: -342.26863276196707\n",
      "Iter: 70\t RMSE: 9.114483609772531\t Objective: -342.26989770598914\n",
      "Iter: 80\t RMSE: 9.114520919117096\t Objective: -342.2699194793459\n",
      "Iter: 90\t RMSE: 9.114551361491555\t Objective: -342.26991995025725\n",
      "Iter: 100\t RMSE: 9.114543996714424\t Objective: -342.26991996565073\n",
      "Optimization terminated successfully.\n",
      "         Current function value: -342.269920\n",
      "         Iterations: 86\n",
      "         Function evaluations: 102\n",
      "         Gradient evaluations: 102\n"
     ]
    },
    {
     "name": "stderr",
     "output_type": "stream",
     "text": [
      "\r",
      " 90%|█████████ | 9/10 [05:30<00:36, 36.70s/it]"
     ]
    },
    {
     "name": "stdout",
     "output_type": "stream",
     "text": [
      "Warning: A bad approximation caused failure to predict improvement.\n",
      "         Current function value: -342.269920\n",
      "         Iterations: 1\n",
      "         Function evaluations: 3\n",
      "         Gradient evaluations: 2\n",
      "         Hessian evaluations: 0\n",
      "Iter 1: x_diff = 0.00022480234396732914, f_diff = 1.2323653209023178e-10\n",
      "optimizing when epsilon = 9.999999999999999e-06\n",
      "Iter: 0\t RMSE: 9.028010849889903\t Objective: -340.099750126957\n",
      "Iter: 10\t RMSE: 9.09873333731426\t Objective: -341.3725383218425\n",
      "Iter: 20\t RMSE: 9.09149450426963\t Objective: -341.712755515417\n",
      "Iter: 30\t RMSE: 9.109242204993231\t Objective: -341.96645551143195\n",
      "Iter: 40\t RMSE: 9.103894471198641\t Objective: -342.20549799602435\n",
      "Iter: 50\t RMSE: 9.112534517770015\t Objective: -342.376039028898\n",
      "Iter: 60\t RMSE: 9.115276578656777\t Objective: -342.39780076582787\n",
      "Iter: 70\t RMSE: 9.114624870746491\t Objective: -342.39862121030063\n",
      "Iter: 80\t RMSE: 9.114528657530087\t Objective: -342.3986387113679\n",
      "Iter: 90\t RMSE: 9.114545942443032\t Objective: -342.3986390624131\n",
      "Optimization terminated successfully.\n",
      "         Current function value: -342.398639\n",
      "         Iterations: 84\n",
      "         Function evaluations: 100\n",
      "         Gradient evaluations: 100\n",
      "Iter: 100\t RMSE: 9.114542825482985\t Objective: -342.3986390678105\n"
     ]
    },
    {
     "name": "stderr",
     "output_type": "stream",
     "text": [
      "\r",
      "100%|██████████| 10/10 [06:06<00:00, 36.70s/it]"
     ]
    },
    {
     "name": "stdout",
     "output_type": "stream",
     "text": [
      "Warning: A bad approximation caused failure to predict improvement.\n",
      "         Current function value: -342.398639\n",
      "         Iterations: 1\n",
      "         Function evaluations: 3\n",
      "         Gradient evaluations: 2\n",
      "         Hessian evaluations: 0\n",
      "Iter 1: x_diff = 0.000279742237726642, f_diff = 2.0315837900852785e-10\n"
     ]
    },
    {
     "name": "stderr",
     "output_type": "stream",
     "text": [
      "\n"
     ]
    }
   ],
   "source": [
    "pert_opt_free_param_list = []\n",
    "\n",
    "u = lambda x : np.max(worst_case_pos_interp.eval_interp_fun(x), 0)\n",
    "\n",
    "# re-optimize for each epsilon\n",
    "for i in tqdm(range(len(epsilons))): \n",
    "    print('optimizing when epsilon = {}'.format(epsilons[i]))\n",
    "    \n",
    "    model_u_pert = gmm_utils.DPGaussianMixture(\n",
    "        model.y, model.k_approx, model.prior_params, gh_deg = 8, \\\n",
    "        use_bnp_prior = model.vb_params.use_bnp_prior, \\\n",
    "        use_logitnormal_sticks = model.vb_params.use_logitnormal_sticks, \\\n",
    "        u = lambda x : u(x) * epsilons[i])\n",
    "    \n",
    "    pert_opt_free_param_list.append(\n",
    "        model_u_pert.optimize_full(best_param, init_max_iter=100, final_max_iter=500, disp = True)[0])\n"
   ]
  },
  {
   "cell_type": "code",
   "execution_count": 75,
   "metadata": {
    "collapsed": false
   },
   "outputs": [
    {
     "data": {
      "image/png": "[encoded data removed]",
      "text/plain": [
       "<matplotlib.figure.Figure at 0x7f5e1f69e978>"
      ]
     },
     "metadata": {},
     "output_type": "display_data"
    }
   ],
   "source": [
    "# check global params\n",
    "\n",
    "# linear_sens.moment_model.set_moments_from_free_par(best_param)\n",
    "\n",
    "fun_sens_mat = worst_case_fun_sens_mat_pos\n",
    "\n",
    "f, axarr = plt.subplots(int(len(epsilons) / 2), 2, figsize=(10, 15))\n",
    "blah = f.suptitle('Global params sensitivity')\n",
    "\n",
    "for i in range(len(epsilons)): \n",
    "        \n",
    "    # get linear response global free params\n",
    "    lr_diff_vec = np.matmul(fun_sens_mat, np.ones(k_approx - 1) * epsilons[i])\n",
    "\n",
    "    \n",
    "    # diff in original global free params\n",
    "    diff_vec = (pert_opt_free_param_list[i] - best_param).flatten()\n",
    "    \n",
    "    indx1 = int(np.floor(i / 2))\n",
    "    indx2 = i % 2\n",
    "    axarr[indx1, indx2].plot(diff_vec, lr_diff_vec, 'r+')\n",
    "    axarr[indx1, indx2].plot(diff_vec, diff_vec, 'k')    \n",
    "    axarr[indx1, indx2].set_title('epsilon = {}'.format(epsilons[i]))\n",
    "    axarr[indx1, indx2].set_xlabel('true diff')\n",
    "    axarr[indx1, indx2].set_ylabel('lr diff')\n",
    "    \n",
    "f.tight_layout()\n",
    "blah.set_y(1.01)\n",
    "\n",
    "# f.savefig('../writing/Bryan_writing/parametric_sens_figures/beta_sens_range.png', bbox_inches='tight')\n"
   ]
  },
  {
   "cell_type": "code",
   "execution_count": 121,
   "metadata": {
    "collapsed": false
   },
   "outputs": [
    {
     "data": {
      "text/plain": [
       "(1e-06, 9.999999999999999e-06)"
      ]
     },
     "execution_count": 121,
     "metadata": {},
     "output_type": "execute_result"
    },
    {
     "data": {
      "image/png": "[encoded data removed]",
      "text/plain": [
       "<matplotlib.figure.Figure at 0x7f5e1f62b828>"
      ]
     },
     "metadata": {},
     "output_type": "display_data"
    }
   ],
   "source": [
    "linear_sens.moment_model.set_moments_from_free_par(best_param)\n",
    "e_beta_orig = linear_sens.moment_model.moment_params['centroids'].get()\n",
    "\n",
    "e_n_clusters = np.zeros(len(epsilons))\n",
    "e_n_clusters_lr = np.zeros(len(epsilons))\n",
    "for i in range(len(epsilons)): \n",
    "    e_n_clusters[i] = get_e_number_clusters_from_free_par(model, pert_opt_free_param_list[i])\n",
    "    \n",
    "    lr_free_param_diff_vec = np.matmul(fun_sens_mat, np.ones(k_approx - 1) * epsilons[i])\n",
    "    \n",
    "    e_n_clusters_lr[i] = get_e_number_clusters_from_free_par(model, lr_free_param_diff_vec + best_param)\n",
    "\n",
    "\n",
    "plt.scatter(epsilons, e_n_clusters, marker = '^')\n",
    "plt.scatter(epsilons, e_n_clusters_lr, marker = '+')\n",
    "plt.legend(('real', 'lr'))\n",
    "plt.xlabel('epsilon')\n",
    "plt.ylabel('expected number of clusters')\n",
    "plt.legend(('real', 'lr'))\n",
    "plt.xlim((min(epsilons), max(epsilons)))"
   ]
  },
  {
   "cell_type": "code",
   "execution_count": null,
   "metadata": {
    "collapsed": true
   },
   "outputs": [],
   "source": []
  },
  {
   "cell_type": "code",
   "execution_count": null,
   "metadata": {
    "collapsed": true
   },
   "outputs": [],
   "source": []
  },
  {
   "cell_type": "code",
   "execution_count": null,
   "metadata": {
    "collapsed": true
   },
   "outputs": [],
   "source": []
  },
  {
   "cell_type": "code",
   "execution_count": null,
   "metadata": {
    "collapsed": true
   },
   "outputs": [],
   "source": []
  },
  {
   "cell_type": "code",
   "execution_count": 109,
   "metadata": {
    "collapsed": false
   },
   "outputs": [
    {
     "name": "stdout",
     "output_type": "stream",
     "text": [
      "Iter: 0\t RMSE: 9.028010849889903\t Objective: -341.4757938785877\n",
      "Iter: 10\t RMSE: 9.097600736512037\t Objective: -345.5257184608306\n",
      "Iter: 20\t RMSE: 9.075754324495538\t Objective: -345.9273728478888\n",
      "Iter: 30\t RMSE: 9.076375368828158\t Objective: -346.2844632733689\n",
      "Iter: 40\t RMSE: 9.087956289603168\t Objective: -346.43988781178706\n",
      "Iter: 50\t RMSE: 9.097051617408821\t Objective: -346.47222609113925\n",
      "Iter: 60\t RMSE: 9.091763217697052\t Objective: -346.50519736210106\n",
      "Iter: 70\t RMSE: 9.093427779694737\t Objective: -346.5371911832158\n",
      "Iter: 80\t RMSE: 9.094028074822862\t Objective: -346.5389026826739\n",
      "Iter: 90\t RMSE: 9.093990176152465\t Objective: -346.53891485605567\n",
      "Iter: 100\t RMSE: 9.093989095453948\t Objective: -346.5389153220529\n",
      "Optimization terminated successfully.\n",
      "         Current function value: -346.538915\n",
      "         Iterations: 92\n",
      "         Function evaluations: 110\n",
      "         Gradient evaluations: 110\n",
      "Iter: 110\t RMSE: 9.093988131429962\t Objective: -346.53891533496426\n",
      "Warning: A bad approximation caused failure to predict improvement.\n",
      "         Current function value: -346.538915\n",
      "         Iterations: 1\n",
      "         Function evaluations: 3\n",
      "         Gradient evaluations: 2\n",
      "         Hessian evaluations: 0\n",
      "Iter 1: x_diff = 0.00033260517508129357, f_diff = 3.2019897844293155e-10\n"
     ]
    }
   ],
   "source": [
    "# Perturb and re-optimize with positive perturbation\n",
    "epsilon = 0.0001\n",
    "\n",
    "model_worst_case_neg_pert = gmm_utils.DPGaussianMixture(\n",
    "    model.y, model.k_approx, model.prior_params, gh_deg = 8, \\\n",
    "    use_bnp_prior = model.vb_params.use_bnp_prior, \\\n",
    "    use_logitnormal_sticks = model.vb_params.use_logitnormal_sticks, \\\n",
    "    u = lambda x : worst_case_neg_interp.eval_interp_fun(x) * epsilon)\n",
    "\n",
    "neg_pert_worst_case_opt_free_param = \\\n",
    "    model_worst_case_neg_pert.optimize_full(best_param, init_max_iter=100, final_max_iter=500)[0]\n"
   ]
  },
  {
   "cell_type": "code",
   "execution_count": 111,
   "metadata": {
    "collapsed": false
   },
   "outputs": [
    {
     "data": {
      "text/plain": [
       "<matplotlib.text.Text at 0x7f5e1dd778d0>"
      ]
     },
     "execution_count": 111,
     "metadata": {},
     "output_type": "execute_result"
    },
    {
     "data": {
      "image/png": "[encoded data removed]",
      "text/plain": [
       "<matplotlib.figure.Figure at 0x7f5e1f316748>"
      ]
     },
     "metadata": {},
     "output_type": "display_data"
    }
   ],
   "source": [
    "lr_free_param_diff_vec = np.matmul(worst_case_fun_sens_mat_neg, epsilon * np.ones(k_approx - 1))\n",
    "\n",
    "diff_vec = pos_pert_worst_case_opt_free_param - best_param\n",
    "lr_diff_vec = deepcopy(lr_free_param_diff_vec)\n",
    "plt.plot(diff_vec, lr_diff_vec, 'r+')\n",
    "plt.plot(diff_vec, diff_vec, 'k')\n",
    "plt.xlabel('true diff')\n",
    "plt.ylabel('lr diff')\n"
   ]
  },
  {
   "cell_type": "code",
   "execution_count": 112,
   "metadata": {
    "collapsed": false
   },
   "outputs": [
    {
     "data": {
      "text/plain": [
       "6.297529317309175"
      ]
     },
     "execution_count": 112,
     "metadata": {},
     "output_type": "execute_result"
    }
   ],
   "source": [
    "get_e_number_clusters_from_free_par(model, best_param)"
   ]
  },
  {
   "cell_type": "code",
   "execution_count": 113,
   "metadata": {
    "collapsed": false
   },
   "outputs": [
    {
     "name": "stdout",
     "output_type": "stream",
     "text": [
      "perturbed e_number_clusters: 5.204988627088091\n"
     ]
    }
   ],
   "source": [
    "print('perturbed e_number_clusters:', \n",
    "get_e_number_clusters_from_free_par(model, neg_pert_worst_case_opt_free_param))"
   ]
  },
  {
   "cell_type": "code",
   "execution_count": 114,
   "metadata": {
    "collapsed": false
   },
   "outputs": [
    {
     "name": "stdout",
     "output_type": "stream",
     "text": [
      "linear response e_number_clusters: 1.0\n"
     ]
    }
   ],
   "source": [
    "print('linear response e_number_clusters:', \n",
    "      get_e_number_clusters_from_free_par(model, lr_free_param_diff_vec + best_param))"
   ]
  },
  {
   "cell_type": "code",
   "execution_count": null,
   "metadata": {
    "collapsed": true
   },
   "outputs": [],
   "source": []
  },
  {
   "cell_type": "code",
   "execution_count": null,
   "metadata": {
    "collapsed": true
   },
   "outputs": [],
   "source": []
  },
  {
   "cell_type": "code",
   "execution_count": null,
   "metadata": {
    "collapsed": true
   },
   "outputs": [],
   "source": []
  }
 ],
 "metadata": {
  "kernelspec": {
   "display_name": "Python 3",
   "language": "python",
   "name": "python3"
  },
  "language_info": {
   "codemirror_mode": {
    "name": "ipython",
    "version": 3
   },
   "file_extension": ".py",
   "mimetype": "text/x-python",
   "name": "python",
   "nbconvert_exporter": "python",
   "pygments_lexer": "ipython3",
   "version": "3.6.0"
  }
 },
 "nbformat": 4,
 "nbformat_minor": 2
}
