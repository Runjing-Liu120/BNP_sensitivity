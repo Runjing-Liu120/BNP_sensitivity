{
 "cells": [
  {
   "cell_type": "code",
   "execution_count": 1,
   "metadata": {
    "collapsed": false
   },
   "outputs": [],
   "source": [
    "import numpy as np\n",
    "import scipy as sp\n",
    "\n",
    "import autograd\n",
    "\n",
    "import sys\n",
    "sys.path.insert(0, './../../LinearResponseVariationalBayes.py')\n",
    "sys.path.insert(0, './../src/vb_modeling/')\n",
    "\n",
    "import LinearResponseVariationalBayes as vb\n",
    "import LinearResponseVariationalBayes.ExponentialFamilies as ef\n",
    "\n",
    "from numpy.polynomial.hermite import hermgauss\n",
    "\n",
    "import gmm_clustering_lib as gmm_utils\n",
    "from shift_only_lib import LinearSensitivity\n",
    "import common_modeling_lib \n",
    " \n",
    "\n",
    "from scipy import spatial\n",
    "import scipy.cluster.hierarchy as sch\n",
    "\n",
    "import matplotlib.pyplot as plt\n",
    "%matplotlib inline\n",
    "\n",
    "import time\n",
    "from tqdm import tqdm\n",
    "\n",
    "from copy import deepcopy\n",
    "\n",
    "from matplotlib.patches import Ellipse\n",
    "import matplotlib.cm as cm\n",
    "\n",
    "import os\n",
    "\n",
    "np.random.seed(453453)\n",
    "\n",
    "\n",
    "import json\n",
    "import json_tricks\n",
    "import checkpoints\n",
    "from checkpoints import np_string\n",
    "\n",
    "from stability_utils import get_expected_mutual_info, get_fowlkes_mallows_score"
   ]
  },
  {
   "cell_type": "markdown",
   "metadata": {},
   "source": [
    "# Load data"
   ]
  },
  {
   "cell_type": "code",
   "execution_count": 2,
   "metadata": {
    "collapsed": false
   },
   "outputs": [],
   "source": [
    "# set up R chunks \n",
    "# %load_ext rpy2.ipython\n",
    "# %R require(ggplot2)"
   ]
  },
  {
   "cell_type": "code",
   "execution_count": 3,
   "metadata": {
    "collapsed": false
   },
   "outputs": [],
   "source": [
    "# load iris dataset \n",
    "\n",
    "from sklearn import datasets\n",
    "from sklearn.cluster import KMeans\n",
    "from sklearn.decomposition import PCA\n",
    "\n",
    "iris = datasets.load_iris(return_X_y= True)\n",
    "\n",
    "iris_features = iris[0]\n",
    "\n",
    "demean = True\n",
    "if demean: \n",
    "    iris_features -= np.mean(iris_features, axis = 0)[None, :]\n",
    "\n",
    "iris_species = iris[1]\n",
    "\n",
    "dim = iris_features.shape[1]"
   ]
  },
  {
   "cell_type": "code",
   "execution_count": 4,
   "metadata": {
    "collapsed": false
   },
   "outputs": [],
   "source": [
    "# define colors that will be used for plotting later\n",
    "# colors = ['red', 'blue', 'green', 'orange', 'purple', 'yellow', 'cyan', 'magenta']\n",
    "# colors += colors\n",
    "\n",
    "cmap = cm.get_cmap(name='gist_rainbow')\n",
    "colors1 = [cmap(k * 50) for k in range(12)]\n",
    "colors2 = [cmap(k * 25) for k in range(12)]"
   ]
  },
  {
   "cell_type": "code",
   "execution_count": 5,
   "metadata": {
    "collapsed": false
   },
   "outputs": [],
   "source": [
    "# run PCA\n",
    "pca_fit = PCA()\n",
    "pca_fit.fit(iris_features)\n",
    "pc_features = pca_fit.transform(iris_features)"
   ]
  },
  {
   "cell_type": "code",
   "execution_count": 6,
   "metadata": {
    "collapsed": false
   },
   "outputs": [],
   "source": [
    "def plot_clusters(x, y, cluster_labels, colors, fig, centroids = None, cov = None): \n",
    "    if np.all(cov != None): \n",
    "        assert len(np.unique(cluster_labels)) == np.shape(cov)[0]\n",
    "    if np.all(centroids != None): \n",
    "        assert len(np.unique(cluster_labels)) == np.shape(centroids)[1] \n",
    "    \n",
    "    unique_cluster_labels = np.unique(cluster_labels)\n",
    "    n_clusters = len(unique_cluster_labels)\n",
    "        \n",
    "    # this would be so much easier if \n",
    "    # python lists supported logical indexing ... \n",
    "    cluster_labels_color = [colors[k] for n in range(len(x)) \\\n",
    "                            for k in range(n_clusters) \\\n",
    "                            if cluster_labels[n] == unique_cluster_labels[k]]\n",
    "            \n",
    "    # plot datapoints\n",
    "    fig.scatter(x, y, c=cluster_labels_color, marker = '.')\n",
    "    \n",
    "    if np.all(centroids != None): \n",
    "        for k in range(n_clusters): \n",
    "            fig.scatter(centroids[0, k], centroids[1, k], marker = '+', color = 'black')\n",
    "    \n",
    "    if np.all(cov != None): \n",
    "        for k in range(n_clusters):  \n",
    "            eig, v = np.linalg.eig(cov[k, :, :])\n",
    "            ell = Ellipse(xy=(centroids[0, k], centroids[1, k]),\n",
    "                  width=np.sqrt(eig[0]) * 6, height=np.sqrt(eig[1]) * 6,\n",
    "                  angle=np.rad2deg(np.arctan(v[1, 0] / v[0, 0])))\n",
    "            ell.set_facecolor('none')\n",
    "            ell.set_edgecolor(colors[k])\n",
    "            fig.add_artist(ell)\n",
    "                "
   ]
  },
  {
   "cell_type": "code",
   "execution_count": 7,
   "metadata": {
    "collapsed": false
   },
   "outputs": [
    {
     "data": {
      "image/png": "[encoded data removed]",
      "text/plain": [
       "<matplotlib.figure.Figure at 0x7f79255e0f28>"
      ]
     },
     "metadata": {},
     "output_type": "display_data"
    }
   ],
   "source": [
    "fig1 = plt.figure(1)\n",
    "fig = fig1.add_subplot(111)\n",
    "plot_clusters(pc_features[:, 0], pc_features[:, 1], iris_species, colors1, fig)"
   ]
  },
  {
   "cell_type": "code",
   "execution_count": 8,
   "metadata": {
    "collapsed": false
   },
   "outputs": [],
   "source": [
    "def transform_params_to_pc_space(pca_fit, centroids, cov):\n",
    "    # centroids is dim x k_approx\n",
    "    # infos is k_approx x dim x dim\n",
    "\n",
    "    assert pca_fit.components_.shape[1] == centroids.shape[0]\n",
    "    \n",
    "    centroids_pc = pca_fit.transform(centroids.T)\n",
    "    \n",
    "    cov_pc = np.zeros(cov.shape)\n",
    "    for k in range(cov.shape[0]):\n",
    "        cov_pc[k, :, :] = np.dot(np.dot(pca_fit.components_, cov[k]), pca_fit.components_.T)\n",
    "        \n",
    "    # cov_pc = np.einsum('di, kij, ej -> kde', pca_fit.components_, cov, pca_fit.components_)\n",
    "    \n",
    "    \n",
    "    return centroids_pc.T, cov_pc"
   ]
  },
  {
   "cell_type": "markdown",
   "metadata": {},
   "source": [
    "# Set prior parameters"
   ]
  },
  {
   "cell_type": "code",
   "execution_count": 9,
   "metadata": {
    "collapsed": false
   },
   "outputs": [],
   "source": [
    "prior_params = gmm_utils.get_default_prior_params(dim)\n",
    "prior_params['alpha'].set(4.0)\n",
    "prior_params['prior_gamma_df'].set(8)\n",
    "prior_params['prior_gamma_inv_scale'].set(np.eye(dim) * 0.62)\n"
   ]
  },
  {
   "cell_type": "code",
   "execution_count": 10,
   "metadata": {
    "collapsed": false
   },
   "outputs": [
    {
     "name": "stdout",
     "output_type": "stream",
     "text": [
      "prior_params:\n",
      "\talpha: 4.0\n",
      "\tprior_centroid_mean: 0.0\n",
      "\tprior_centroid_info: 0.1\n",
      "\tprior_gamma_df: 8\n",
      "\tprior_gamma_inv_scale:\n",
      "[[0.62 0.   0.   0.  ]\n",
      " [0.   0.62 0.   0.  ]\n",
      " [0.   0.   0.62 0.  ]\n",
      " [0.   0.   0.   0.62]]\n"
     ]
    }
   ],
   "source": [
    "print(prior_params)"
   ]
  },
  {
   "cell_type": "markdown",
   "metadata": {},
   "source": [
    "# Define model"
   ]
  },
  {
   "cell_type": "code",
   "execution_count": 11,
   "metadata": {
    "collapsed": true
   },
   "outputs": [],
   "source": [
    "k_approx = 5"
   ]
  },
  {
   "cell_type": "code",
   "execution_count": 12,
   "metadata": {
    "collapsed": false
   },
   "outputs": [],
   "source": [
    "gh_deg = 8\n",
    "model = gmm_utils.DPGaussianMixture(iris_features, \\\n",
    "            k_approx, prior_params, gh_deg,\n",
    "            use_logitnormal_sticks=True,\n",
    "            use_bnp_prior = False)\n"
   ]
  },
  {
   "cell_type": "markdown",
   "metadata": {},
   "source": [
    "# Initialize"
   ]
  },
  {
   "cell_type": "code",
   "execution_count": 13,
   "metadata": {
    "collapsed": false
   },
   "outputs": [
    {
     "name": "stdout",
     "output_type": "stream",
     "text": [
      "running k-means init\n"
     ]
    }
   ],
   "source": [
    "print('running k-means init')\n",
    "n_kmeans_init = 50\n",
    "init_global_free_param = \\\n",
    "        model.cluster_and_set_inits(n_kmeans_init = n_kmeans_init)"
   ]
  },
  {
   "cell_type": "code",
   "execution_count": 14,
   "metadata": {
    "collapsed": false
   },
   "outputs": [
    {
     "data": {
      "image/png": "[encoded data removed]",
      "text/plain": [
       "<matplotlib.figure.Figure at 0x7f7925373eb8>"
      ]
     },
     "metadata": {},
     "output_type": "display_data"
    }
   ],
   "source": [
    "# Check initialization\n",
    "init_clusters = np.argmax(model.vb_params['e_z'].get(), axis = 1)\n",
    "init_centroids = model.vb_params['global']['centroids'].get()\n",
    "init_cov = np.linalg.inv(model.vb_params['global']['gamma'].get())\n",
    "\n",
    "init_centroids_pc, init_cov_pc = transform_params_to_pc_space(pca_fit, init_centroids, init_cov)\n",
    "\n",
    "fig1 = plt.figure(1)\n",
    "fig = fig1.add_subplot(111)\n",
    "\n",
    "plot_clusters(pc_features[:, 0], pc_features[:, 1], init_clusters, \\\n",
    "            colors2, fig, \\\n",
    "             centroids = init_centroids_pc, cov = init_cov_pc)"
   ]
  },
  {
   "cell_type": "markdown",
   "metadata": {},
   "source": [
    "# Optimize"
   ]
  },
  {
   "cell_type": "code",
   "execution_count": 15,
   "metadata": {
    "collapsed": false
   },
   "outputs": [
    {
     "name": "stdout",
     "output_type": "stream",
     "text": [
      "running Newton steps: \n",
      "Iter: 0\t RMSE: 6.630666403870832\t Objective: -496.7470327635352\n",
      "Iter: 10\t RMSE: 6.69115882885725\t Objective: -521.7267105364136\n",
      "Iter: 20\t RMSE: 6.783602110852499\t Objective: -542.9190733441917\n",
      "Iter: 30\t RMSE: 6.711208154851612\t Objective: -553.4567113893371\n",
      "Iter: 40\t RMSE: 6.7820859504529665\t Objective: -556.6712623052164\n",
      "Iter: 50\t RMSE: 6.767029512045667\t Objective: -557.2983828873648\n",
      "Iter: 60\t RMSE: 6.76779254911384\t Objective: -557.4007464032327\n",
      "Iter: 70\t RMSE: 6.764091687453438\t Objective: -557.4094245326052\n",
      "Iter: 80\t RMSE: 6.764097506251105\t Objective: -557.4094246660782\n",
      "Optimization terminated successfully.\n",
      "         Current function value: -557.409425\n",
      "         Iterations: 69\n",
      "         Function evaluations: 81\n",
      "         Gradient evaluations: 81\n",
      "Optimization terminated successfully.\n",
      "         Current function value: -557.409425\n",
      "         Iterations: 1\n",
      "         Function evaluations: 2\n",
      "         Gradient evaluations: 2\n",
      "         Hessian evaluations: 0\n",
      "Iter 1: x_diff = 6.886972194111024e-07, f_diff = 9.094947017729282e-13\n",
      "done optimizing. Optim time: 3.6448540687561035\n"
     ]
    }
   ],
   "source": [
    "print('running Newton steps: ')\n",
    "t0 = time.time()\n",
    "best_param, kl_hessian, kl_hessian_corrected, \\\n",
    "    init_opt_time, newton_time, x_conv, f_conv, vb_opt = \\\n",
    "        model.optimize_full(init_global_free_param,\n",
    "            init_max_iter=100,\n",
    "            final_max_iter=500)\n",
    "\n",
    "t_newton = time.time() - t0\n",
    "print('done optimizing. Optim time: {}'.format(t_newton))\n"
   ]
  },
  {
   "cell_type": "code",
   "execution_count": 16,
   "metadata": {
    "collapsed": true
   },
   "outputs": [],
   "source": [
    "newton_results = deepcopy(model)"
   ]
  },
  {
   "cell_type": "code",
   "execution_count": 17,
   "metadata": {
    "collapsed": true
   },
   "outputs": [],
   "source": [
    "bnp_clusters = np.argmax(newton_results.vb_params['e_z'].get(), axis = 1)\n",
    "bnp_centroids = newton_results.vb_params['global']['centroids'].get()\n",
    "\n",
    "bnp_cluster_infos = newton_results.vb_params['global']['gamma'].get()\n",
    "bnp_cluster_covs = np.linalg.inv(bnp_cluster_infos)"
   ]
  },
  {
   "cell_type": "code",
   "execution_count": 18,
   "metadata": {
    "collapsed": false
   },
   "outputs": [
    {
     "data": {
      "image/png": "[encoded data removed]",
      "text/plain": [
       "<matplotlib.figure.Figure at 0x7f792538beb8>"
      ]
     },
     "metadata": {},
     "output_type": "display_data"
    }
   ],
   "source": [
    "bnp_centroids_pc, bnp_cluster_covs_pc = \\\n",
    "    transform_params_to_pc_space(pca_fit, bnp_centroids, bnp_cluster_covs)\n",
    "    \n",
    "fig1 = plt.figure(1)\n",
    "fig = fig1.add_subplot(111)\n",
    "\n",
    "plot_clusters(pc_features[:, 0], pc_features[:, 1], bnp_clusters, \\\n",
    "              colors1, fig, \\\n",
    "              centroids = bnp_centroids_pc[:, np.unique(bnp_clusters)], \\\n",
    "              cov = bnp_cluster_covs_pc[np.unique(bnp_clusters)])"
   ]
  },
  {
   "cell_type": "markdown",
   "metadata": {},
   "source": [
    "# Get bootstrap sample and re-optimize"
   ]
  },
  {
   "cell_type": "code",
   "execution_count": 19,
   "metadata": {
    "collapsed": true
   },
   "outputs": [],
   "source": [
    "model.global_vb_params.set_free(best_param)"
   ]
  },
  {
   "cell_type": "code",
   "execution_count": 20,
   "metadata": {
    "collapsed": false
   },
   "outputs": [],
   "source": [
    "model.use_weights = True\n",
    "samples_indx = np.random.choice(model.n_obs,\n",
    "                        size = model.n_obs,\n",
    "                        replace = True)\n",
    "samples_indx, sample_indx_counts = np.unique(samples_indx,\n",
    "                                            return_counts = True)\n",
    "\n",
    "model.weights = np.zeros((model.n_obs, 1))\n",
    "model.weights[samples_indx] = sample_indx_counts[:, None]\n",
    "\n",
    "\n",
    "# model.weights = np.ones((model.n_obs, 1))\n",
    "# model.weights[1] = 0\n"
   ]
  },
  {
   "cell_type": "code",
   "execution_count": 21,
   "metadata": {
    "collapsed": false
   },
   "outputs": [
    {
     "name": "stdout",
     "output_type": "stream",
     "text": [
      "running Newton steps: \n",
      "Iter: 0\t RMSE: 6.764097510028748\t Objective: -532.3567468778633\n",
      "Iter: 10\t RMSE: 6.868345959616493\t Objective: -543.831680634765\n",
      "Iter: 20\t RMSE: 6.9765869334383455\t Objective: -549.70015074392\n",
      "Iter: 30\t RMSE: 6.930788896711801\t Objective: -552.2162784871707\n",
      "Iter: 40\t RMSE: 6.880583273838648\t Objective: -553.0853505006235\n",
      "Iter: 50\t RMSE: 6.8878797378101515\t Objective: -553.2539685515842\n",
      "Iter: 60\t RMSE: 6.892421196654096\t Objective: -553.3129377784269\n",
      "Iter: 70\t RMSE: 6.89275059021583\t Objective: -553.3143460717095\n",
      "Optimization terminated successfully.\n",
      "         Current function value: -553.314347\n",
      "         Iterations: 68\n",
      "         Function evaluations: 80\n",
      "         Gradient evaluations: 80\n",
      "Iter: 80\t RMSE: 6.8927335919289066\t Objective: -553.3143465883437\n",
      "Iter: 90\t RMSE: 6.8927335891361174\t Objective: -553.3143465883437\n",
      "Warning: A bad approximation caused failure to predict improvement.\n",
      "         Current function value: -553.314347\n",
      "         Iterations: 13\n",
      "         Function evaluations: 15\n",
      "         Gradient evaluations: 2\n",
      "         Hessian evaluations: 0\n",
      "Iter 1: x_diff = 5.827026604877938e-07, f_diff = 9.094947017729282e-13\n",
      "done optimizing. Optim time: 5.052969217300415\n"
     ]
    }
   ],
   "source": [
    "print('running Newton steps: ')\n",
    "t0 = time.time()\n",
    "boot_best_param, kl_hessian, kl_hessian_corrected, \\\n",
    "    init_opt_time, newton_time, x_conv, f_conv, vb_opt = \\\n",
    "        model.optimize_full(best_param,\n",
    "            init_max_iter=100,\n",
    "            final_max_iter=500)\n",
    "\n",
    "t_newton = time.time() - t0\n",
    "print('done optimizing. Optim time: {}'.format(t_newton))\n"
   ]
  },
  {
   "cell_type": "code",
   "execution_count": 22,
   "metadata": {
    "collapsed": false
   },
   "outputs": [
    {
     "data": {
      "text/plain": [
       "1.3029940953520878"
      ]
     },
     "execution_count": 22,
     "metadata": {},
     "output_type": "execute_result"
    }
   ],
   "source": [
    "np.max(np.abs(boot_best_param - best_param))"
   ]
  },
  {
   "cell_type": "code",
   "execution_count": 23,
   "metadata": {
    "collapsed": true
   },
   "outputs": [],
   "source": [
    "model.set_optimal_z()"
   ]
  },
  {
   "cell_type": "code",
   "execution_count": 24,
   "metadata": {
    "collapsed": true
   },
   "outputs": [],
   "source": [
    "model_boot = deepcopy(model)"
   ]
  },
  {
   "cell_type": "markdown",
   "metadata": {},
   "source": [
    "# Compare against LRVB"
   ]
  },
  {
   "cell_type": "code",
   "execution_count": 25,
   "metadata": {
    "collapsed": false
   },
   "outputs": [
    {
     "name": "stdout",
     "output_type": "stream",
     "text": [
      "KL Hessian:\n",
      "Prior Hessian...\n",
      "Data Hessian...\n",
      "Linear systems...\n",
      "Done.\n"
     ]
    }
   ],
   "source": [
    "best_param = newton_results.global_vb_params.get_free()\n",
    "prior_free_params = newton_results.prior_params.get_free()\n",
    "\n",
    "model.set_from_global_free_par(best_param)\n",
    "model.prior_params.set_free(prior_free_params)\n",
    "model.use_weights = False\n",
    "\n",
    "moment_model = gmm_utils.InterestingMoments(deepcopy(model))\n",
    "linear_sens = LinearSensitivity(model, moment_model)"
   ]
  },
  {
   "cell_type": "code",
   "execution_count": 26,
   "metadata": {
    "collapsed": false
   },
   "outputs": [
    {
     "name": "stdout",
     "output_type": "stream",
     "text": [
      "1.3029940953520878\n"
     ]
    }
   ],
   "source": [
    "full_params = newton_results.global_vb_params.get_free()\n",
    "boot_params = model_boot.global_vb_params.get_free()\n",
    "\n",
    "print(np.max(np.abs(boot_params - full_params)))"
   ]
  },
  {
   "cell_type": "code",
   "execution_count": 27,
   "metadata": {
    "collapsed": false,
    "scrolled": true
   },
   "outputs": [],
   "source": [
    "lr_params = np.dot(linear_sens.data_sens_mat, \\\n",
    "                   model_boot.weights - np.ones((model.n_obs, 1))).flatten() + full_params"
   ]
  },
  {
   "cell_type": "code",
   "execution_count": 28,
   "metadata": {
    "collapsed": true
   },
   "outputs": [],
   "source": [
    "def comparison_plot(x, y): \n",
    "    plt.plot(x, y, 'r+')\n",
    "    plt.plot(x, x)"
   ]
  },
  {
   "cell_type": "code",
   "execution_count": 29,
   "metadata": {
    "collapsed": false
   },
   "outputs": [
    {
     "data": {
      "text/plain": [
       "<matplotlib.text.Text at 0x7f79253738d0>"
      ]
     },
     "execution_count": 29,
     "metadata": {},
     "output_type": "execute_result"
    },
    {
     "data": {
      "image/png": "[encoded data removed]",
      "text/plain": [
       "<matplotlib.figure.Figure at 0x7f7921a12828>"
      ]
     },
     "metadata": {},
     "output_type": "display_data"
    }
   ],
   "source": [
    "comparison_plot(boot_params - full_params, lr_params - full_params)\n",
    "plt.xlabel('boot diff')\n",
    "plt.ylabel('lr diff')"
   ]
  },
  {
   "cell_type": "code",
   "execution_count": 30,
   "metadata": {
    "collapsed": true
   },
   "outputs": [],
   "source": [
    "e_z_full = newton_results.vb_params['e_z'].get()\n",
    "e_z_boot = model_boot.vb_params['e_z'].get()\n",
    "\n",
    "model.set_from_global_free_par(lr_params)\n",
    "model.set_optimal_z()\n",
    "e_z_lr = model.vb_params['e_z'].get()"
   ]
  },
  {
   "cell_type": "code",
   "execution_count": 31,
   "metadata": {
    "collapsed": false
   },
   "outputs": [
    {
     "data": {
      "image/png": "[encoded data removed]",
      "text/plain": [
       "<matplotlib.figure.Figure at 0x7f7921a35550>"
      ]
     },
     "metadata": {},
     "output_type": "display_data"
    }
   ],
   "source": [
    "comparison_plot((e_z_boot - e_z_full).flatten(), (e_z_lr - e_z_full).flatten())"
   ]
  },
  {
   "cell_type": "code",
   "execution_count": 32,
   "metadata": {
    "collapsed": false
   },
   "outputs": [
    {
     "data": {
      "text/plain": [
       "0.972628924491268"
      ]
     },
     "execution_count": 32,
     "metadata": {},
     "output_type": "execute_result"
    }
   ],
   "source": [
    "get_fowlkes_mallows_score(e_z_full, e_z_boot)"
   ]
  },
  {
   "cell_type": "code",
   "execution_count": 33,
   "metadata": {
    "collapsed": false
   },
   "outputs": [
    {
     "data": {
      "text/plain": [
       "0.9803842194779476"
      ]
     },
     "execution_count": 33,
     "metadata": {},
     "output_type": "execute_result"
    }
   ],
   "source": [
    "get_fowlkes_mallows_score(e_z_full, e_z_lr)"
   ]
  },
  {
   "cell_type": "code",
   "execution_count": 34,
   "metadata": {
    "collapsed": false
   },
   "outputs": [
    {
     "data": {
      "text/plain": [
       "0.8009226830919981"
      ]
     },
     "execution_count": 34,
     "metadata": {},
     "output_type": "execute_result"
    }
   ],
   "source": [
    "get_expected_mutual_info(e_z_full, e_z_boot)"
   ]
  },
  {
   "cell_type": "code",
   "execution_count": 35,
   "metadata": {
    "collapsed": false
   },
   "outputs": [
    {
     "data": {
      "text/plain": [
       "0.7823533779922834"
      ]
     },
     "execution_count": 35,
     "metadata": {},
     "output_type": "execute_result"
    }
   ],
   "source": [
    "get_expected_mutual_info(e_z_full, e_z_lr)"
   ]
  },
  {
   "cell_type": "code",
   "execution_count": null,
   "metadata": {
    "collapsed": true
   },
   "outputs": [],
   "source": []
  },
  {
   "cell_type": "code",
   "execution_count": null,
   "metadata": {
    "collapsed": true
   },
   "outputs": [],
   "source": []
  }
 ],
 "metadata": {
  "kernelspec": {
   "display_name": "Python 3",
   "language": "python",
   "name": "python3"
  },
  "language_info": {
   "codemirror_mode": {
    "name": "ipython",
    "version": 3
   },
   "file_extension": ".py",
   "mimetype": "text/x-python",
   "name": "python",
   "nbconvert_exporter": "python",
   "pygments_lexer": "ipython3",
   "version": "3.6.0"
  }
 },
 "nbformat": 4,
 "nbformat_minor": 2
}
