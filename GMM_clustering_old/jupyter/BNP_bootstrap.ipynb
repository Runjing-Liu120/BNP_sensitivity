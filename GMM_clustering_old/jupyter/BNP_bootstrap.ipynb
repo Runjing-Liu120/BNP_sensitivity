{
 "cells": [
  {
   "cell_type": "code",
   "execution_count": 1,
   "metadata": {
    "collapsed": false
   },
   "outputs": [],
   "source": [
    "import numpy as np\n",
    "import scipy as sp\n",
    "\n",
    "import autograd\n",
    "\n",
    "import sys\n",
    "sys.path.insert(0, './../../LinearResponseVariationalBayes.py')\n",
    "sys.path.insert(0, './../src/vb_modeling/')\n",
    "\n",
    "import LinearResponseVariationalBayes as vb\n",
    "import LinearResponseVariationalBayes.ExponentialFamilies as ef\n",
    "\n",
    "from numpy.polynomial.hermite import hermgauss\n",
    "\n",
    "import gmm_clustering_lib as gmm_utils\n",
    "from shift_only_lib import LinearSensitivity\n",
    "import common_modeling_lib \n",
    " \n",
    "\n",
    "from scipy import spatial\n",
    "import scipy.cluster.hierarchy as sch\n",
    "\n",
    "import matplotlib.pyplot as plt\n",
    "%matplotlib inline\n",
    "\n",
    "import time\n",
    "from tqdm import tqdm\n",
    "\n",
    "from copy import deepcopy\n",
    "\n",
    "from matplotlib.patches import Ellipse\n",
    "import matplotlib.cm as cm\n",
    "\n",
    "import os\n",
    "\n",
    "np.random.seed(453453)\n",
    "\n",
    "\n",
    "import json\n",
    "import json_tricks\n",
    "import checkpoints\n",
    "from checkpoints import np_string\n",
    "\n",
    "from stability_utils import get_expected_mutual_info, get_fowlkes_mallows_score\n",
    "\n",
    "\n",
    "def comparison_plot(x, y): \n",
    "    plt.plot(x, y, 'r+')\n",
    "    plt.plot(x, x)"
   ]
  },
  {
   "cell_type": "markdown",
   "metadata": {},
   "source": [
    "# Load data"
   ]
  },
  {
   "cell_type": "code",
   "execution_count": 2,
   "metadata": {
    "collapsed": false
   },
   "outputs": [],
   "source": [
    "# set up R chunks \n",
    "# %load_ext rpy2.ipython\n",
    "# %R require(ggplot2)"
   ]
  },
  {
   "cell_type": "code",
   "execution_count": 3,
   "metadata": {
    "collapsed": false
   },
   "outputs": [],
   "source": [
    "# load iris dataset \n",
    "\n",
    "from sklearn import datasets\n",
    "from sklearn.cluster import KMeans\n",
    "from sklearn.decomposition import PCA\n",
    "\n",
    "iris = datasets.load_iris(return_X_y= True)\n",
    "\n",
    "iris_features = iris[0]\n",
    "\n",
    "demean = True\n",
    "if demean: \n",
    "    iris_features -= np.mean(iris_features, axis = 0)[None, :]\n",
    "\n",
    "iris_species = iris[1]\n",
    "\n",
    "dim = iris_features.shape[1]"
   ]
  },
  {
   "cell_type": "code",
   "execution_count": 4,
   "metadata": {
    "collapsed": false
   },
   "outputs": [],
   "source": [
    "# define colors that will be used for plotting later\n",
    "# colors = ['red', 'blue', 'green', 'orange', 'purple', 'yellow', 'cyan', 'magenta']\n",
    "# colors += colors\n",
    "\n",
    "cmap = cm.get_cmap(name='gist_rainbow')\n",
    "colors1 = [cmap(k * 50) for k in range(12)]\n",
    "colors2 = [cmap(k * 25) for k in range(12)]"
   ]
  },
  {
   "cell_type": "code",
   "execution_count": 5,
   "metadata": {
    "collapsed": false
   },
   "outputs": [],
   "source": [
    "# run PCA\n",
    "pca_fit = PCA()\n",
    "pca_fit.fit(iris_features)\n",
    "pc_features = pca_fit.transform(iris_features)"
   ]
  },
  {
   "cell_type": "code",
   "execution_count": 6,
   "metadata": {
    "collapsed": false
   },
   "outputs": [],
   "source": [
    "def plot_clusters(x, y, cluster_labels, colors, fig, centroids = None, cov = None): \n",
    "    if np.all(cov != None): \n",
    "        assert len(np.unique(cluster_labels)) == np.shape(cov)[0]\n",
    "    if np.all(centroids != None): \n",
    "        assert len(np.unique(cluster_labels)) == np.shape(centroids)[1] \n",
    "    \n",
    "    unique_cluster_labels = np.unique(cluster_labels)\n",
    "    n_clusters = len(unique_cluster_labels)\n",
    "        \n",
    "    # this would be so much easier if \n",
    "    # python lists supported logical indexing ... \n",
    "    cluster_labels_color = [colors[k] for n in range(len(x)) \\\n",
    "                            for k in range(n_clusters) \\\n",
    "                            if cluster_labels[n] == unique_cluster_labels[k]]\n",
    "            \n",
    "    # plot datapoints\n",
    "    fig.scatter(x, y, c=cluster_labels_color, marker = '.')\n",
    "    \n",
    "    if np.all(centroids != None): \n",
    "        for k in range(n_clusters): \n",
    "            fig.scatter(centroids[0, k], centroids[1, k], marker = '+', color = 'black')\n",
    "    \n",
    "    if np.all(cov != None): \n",
    "        for k in range(n_clusters):  \n",
    "            eig, v = np.linalg.eig(cov[k, :, :])\n",
    "            ell = Ellipse(xy=(centroids[0, k], centroids[1, k]),\n",
    "                  width=np.sqrt(eig[0]) * 6, height=np.sqrt(eig[1]) * 6,\n",
    "                  angle=np.rad2deg(np.arctan(v[1, 0] / v[0, 0])))\n",
    "            ell.set_facecolor('none')\n",
    "            ell.set_edgecolor(colors[k])\n",
    "            fig.add_artist(ell)\n",
    "                "
   ]
  },
  {
   "cell_type": "code",
   "execution_count": 7,
   "metadata": {
    "collapsed": false
   },
   "outputs": [
    {
     "data": {
      "image/png": "[encoded data removed]",
      "text/plain": [
       "<matplotlib.figure.Figure at 0x7f2545a04fd0>"
      ]
     },
     "metadata": {},
     "output_type": "display_data"
    }
   ],
   "source": [
    "fig1 = plt.figure(1)\n",
    "fig = fig1.add_subplot(111)\n",
    "plot_clusters(pc_features[:, 0], pc_features[:, 1], iris_species, colors1, fig)"
   ]
  },
  {
   "cell_type": "code",
   "execution_count": 8,
   "metadata": {
    "collapsed": false
   },
   "outputs": [],
   "source": [
    "def transform_params_to_pc_space(pca_fit, centroids, cov):\n",
    "    # centroids is dim x k_approx\n",
    "    # infos is k_approx x dim x dim\n",
    "\n",
    "    assert pca_fit.components_.shape[1] == centroids.shape[0]\n",
    "    \n",
    "    centroids_pc = pca_fit.transform(centroids.T)\n",
    "    \n",
    "    cov_pc = np.zeros(cov.shape)\n",
    "    for k in range(cov.shape[0]):\n",
    "        cov_pc[k, :, :] = np.dot(np.dot(pca_fit.components_, cov[k]), pca_fit.components_.T)\n",
    "        \n",
    "    # cov_pc = np.einsum('di, kij, ej -> kde', pca_fit.components_, cov, pca_fit.components_)\n",
    "    \n",
    "    \n",
    "    return centroids_pc.T, cov_pc"
   ]
  },
  {
   "cell_type": "markdown",
   "metadata": {},
   "source": [
    "# Load full model"
   ]
  },
  {
   "cell_type": "code",
   "execution_count": 9,
   "metadata": {
    "collapsed": true
   },
   "outputs": [],
   "source": [
    "full_data_fit_file = './iris_fits/full_data_fits/iris_bnp_full_data_fit.json'"
   ]
  },
  {
   "cell_type": "code",
   "execution_count": 10,
   "metadata": {
    "collapsed": true
   },
   "outputs": [],
   "source": [
    "with open(full_data_fit_file, 'r') as fp:\n",
    "    fit_dict = json.load(fp)\n",
    "\n",
    "full_model = gmm_utils.get_model_from_checkpoint(fit_dict)\n",
    "\n",
    "assert full_model.use_weights == False\n",
    "\n",
    "full_global_free_param = full_model.global_vb_params.get_free()\n",
    "prior_free_param = full_model.prior_params.get_free()\n",
    "full_model.set_optimal_z()"
   ]
  },
  {
   "cell_type": "code",
   "execution_count": 11,
   "metadata": {
    "collapsed": true
   },
   "outputs": [],
   "source": [
    "model = deepcopy(full_model) # this is the one we will pass around\n",
    "# full data models will stay the same"
   ]
  },
  {
   "cell_type": "code",
   "execution_count": null,
   "metadata": {
    "collapsed": true
   },
   "outputs": [],
   "source": []
  },
  {
   "cell_type": "markdown",
   "metadata": {},
   "source": [
    "# look at full model fit"
   ]
  },
  {
   "cell_type": "code",
   "execution_count": 12,
   "metadata": {
    "collapsed": true
   },
   "outputs": [],
   "source": [
    "bnp_clusters = np.argmax(model.vb_params['e_z'].get(), axis = 1)\n",
    "bnp_centroids = model.vb_params['global']['centroids'].get()\n",
    "\n",
    "bnp_cluster_infos = model.vb_params['global']['gamma'].get()\n",
    "bnp_cluster_covs = np.linalg.inv(bnp_cluster_infos)"
   ]
  },
  {
   "cell_type": "code",
   "execution_count": 13,
   "metadata": {
    "collapsed": false
   },
   "outputs": [],
   "source": [
    "bnp_centroids_pc, bnp_cluster_covs_pc = transform_params_to_pc_space(pca_fit, bnp_centroids, bnp_cluster_covs)"
   ]
  },
  {
   "cell_type": "code",
   "execution_count": 14,
   "metadata": {
    "collapsed": false
   },
   "outputs": [
    {
     "data": {
      "text/plain": [
       "<matplotlib.text.Text at 0x7f2541ec5240>"
      ]
     },
     "execution_count": 14,
     "metadata": {},
     "output_type": "execute_result"
    },
    {
     "data": {
      "image/png": "[encoded data removed]",
      "text/plain": [
       "<matplotlib.figure.Figure at 0x7f2541f14d30>"
      ]
     },
     "metadata": {},
     "output_type": "display_data"
    }
   ],
   "source": [
    "fig1 = plt.figure(1)\n",
    "fig = fig1.add_subplot(111)\n",
    "\n",
    "colors1_ = deepcopy(colors1)\n",
    "colors1_[0] = colors1[2]\n",
    "colors1_[1] = colors1[0]\n",
    "colors1_[2] = colors1[1]\n",
    "\n",
    "plot_clusters(pc_features[:, 0], pc_features[:, 1], bnp_clusters, \\\n",
    "              colors1_, fig, \\\n",
    "              centroids = bnp_centroids_pc[:, np.unique(bnp_clusters)], \\\n",
    "              cov = bnp_cluster_covs_pc[np.unique(bnp_clusters)])\n",
    "fig.set_xlabel('PC1')\n",
    "fig.set_ylabel('PC2')"
   ]
  },
  {
   "cell_type": "markdown",
   "metadata": {
    "collapsed": true
   },
   "source": [
    "# Load bootstrap results"
   ]
  },
  {
   "cell_type": "code",
   "execution_count": 15,
   "metadata": {
    "collapsed": true
   },
   "outputs": [],
   "source": [
    "linf_diff = lambda x, y : np.max(np.abs(x - y))"
   ]
  },
  {
   "cell_type": "code",
   "execution_count": 16,
   "metadata": {
    "collapsed": true
   },
   "outputs": [],
   "source": [
    "def get_global_free_params_and_weights_from_fit_dict(fit_dict):\n",
    "    np_string = checkpoints.np_string\n",
    "    vb_global_free_par = json_tricks.loads(\n",
    "            fit_dict['vb_global_free_par' + np_string])\n",
    "\n",
    "    sample_weights = json_tricks.loads(\n",
    "        fit_dict['sample_weights' + np_string])\n",
    "\n",
    "    return {'vb_global_free_par': vb_global_free_par, \\\n",
    "            'sample_weights': sample_weights}\n"
   ]
  },
  {
   "cell_type": "code",
   "execution_count": 17,
   "metadata": {
    "collapsed": true
   },
   "outputs": [],
   "source": [
    "def load_bootstrap_results(gmm_full, result_files, print_every_n=10):\n",
    "\n",
    "    results = []\n",
    "    i = 0\n",
    "    if len(result_files) == 0:\n",
    "        raise ValueError('No result files were specfied.')\n",
    "    for f in result_files:\n",
    "        i += 1\n",
    "        if (i % print_every_n) == 0:\n",
    "            print('files opened: ', i)\n",
    "\n",
    "        with open(f, 'r') as fp:\n",
    "            fit_dict = json.load(fp)\n",
    "\n",
    "\n",
    "            assert linf_diff(json_tricks.loads(fit_dict['prior_params_vec' + np_string]), \\\n",
    "                                 gmm_full.prior_params.get_vector()) < 1e-12\n",
    "\n",
    "            # check that the length of the free params are the same ..\n",
    "            assert len(json_tricks.loads(fit_dict['vb_global_free_par' + np_string])) == \\\n",
    "                        len(gmm_full.global_vb_params.get_free())\n",
    "\n",
    "            # check y\n",
    "            assert linf_diff(json_tricks.loads(fit_dict['y' + np_string]), gmm_full.y) < 1e-12\n",
    "\n",
    "        results.append(get_global_free_params_and_weights_from_fit_dict(fit_dict))\n",
    "\n",
    "    return results\n"
   ]
  },
  {
   "cell_type": "code",
   "execution_count": 18,
   "metadata": {
    "collapsed": true
   },
   "outputs": [],
   "source": [
    "boot_dir = './iris_fits/bootstrap_bnp_results/'"
   ]
  },
  {
   "cell_type": "code",
   "execution_count": 19,
   "metadata": {
    "collapsed": false,
    "scrolled": true
   },
   "outputs": [
    {
     "name": "stdout",
     "output_type": "stream",
     "text": [
      "files opened:  50\n",
      "files opened:  100\n",
      "files opened:  150\n",
      "files opened:  200\n"
     ]
    }
   ],
   "source": [
    "result_files = [os.path.join(boot_dir, f) for f in os.listdir(boot_dir) if \\\n",
    "                        os.path.isfile(os.path.join(boot_dir, f)) & \\\n",
    "                        f.endswith('.json')]\n",
    "\n",
    "\n",
    "boot_results = load_bootstrap_results(model, result_files, print_every_n=50)\n"
   ]
  },
  {
   "cell_type": "markdown",
   "metadata": {
    "collapsed": true
   },
   "source": [
    "# Checkout stabilities"
   ]
  },
  {
   "cell_type": "code",
   "execution_count": 20,
   "metadata": {
    "collapsed": true
   },
   "outputs": [],
   "source": [
    "def get_ez_from_free_param(model, global_free_vb_params):\n",
    "    model.global_vb_params.set_free(global_free_vb_params)\n",
    "    model.set_optimal_z()\n",
    "    \n",
    "    return model.vb_params['e_z'].get()"
   ]
  },
  {
   "cell_type": "code",
   "execution_count": 21,
   "metadata": {
    "collapsed": true
   },
   "outputs": [],
   "source": [
    "def get_iqr(x): \n",
    "    return np.percentile(x, 75) - np.percentile(x, 25)"
   ]
  },
  {
   "cell_type": "code",
   "execution_count": 22,
   "metadata": {
    "collapsed": false
   },
   "outputs": [],
   "source": [
    "def get_stabilities_from_boot_results(model, full_vb_global_free_pars, \\\n",
    "                                      boot_vb_global_free_pars, return_full_array = False):\n",
    "       \n",
    "    fm_scores = np.zeros(len(boot_vb_global_free_pars))\n",
    "    emi_scores = np.zeros(len(boot_vb_global_free_pars))\n",
    "\n",
    "    for b in range(len(boot_vb_global_free_pars)): \n",
    "        e_z_full = get_ez_from_free_param(model, \\\n",
    "                               full_vb_global_free_pars)\n",
    "\n",
    "        e_z_boot = get_ez_from_free_param(model, \\\n",
    "                               boot_vb_global_free_pars[b])\n",
    "\n",
    "        fm_scores[b] = get_fowlkes_mallows_score(e_z_full, e_z_boot)\n",
    "        emi_scores[b] = get_expected_mutual_info(e_z_full, e_z_boot)\n",
    "        \n",
    "    if return_full_array: \n",
    "        return fm_scores, emi_scores\n",
    "    else: \n",
    "        return np.median(fm_scores), np.percentile(fm_scores, 75), np.percentile(fm_scores, 25),\\\n",
    "                np.median(emi_scores), np.percentile(emi_scores, 75), np.percentile(emi_scores, 25)\n",
    "    "
   ]
  },
  {
   "cell_type": "code",
   "execution_count": 23,
   "metadata": {
    "collapsed": false
   },
   "outputs": [
    {
     "data": {
      "text/plain": [
       "<matplotlib.text.Text at 0x7f2541ce24e0>"
      ]
     },
     "execution_count": 23,
     "metadata": {},
     "output_type": "execute_result"
    },
    {
     "data": {
      "image/png": "[encoded data removed]",
      "text/plain": [
       "<matplotlib.figure.Figure at 0x7f2541e1f780>"
      ]
     },
     "metadata": {},
     "output_type": "display_data"
    },
    {
     "data": {
      "image/png": "[encoded data removed]",
      "text/plain": [
       "<matplotlib.figure.Figure at 0x7f2558d81c50>"
      ]
     },
     "metadata": {},
     "output_type": "display_data"
    }
   ],
   "source": [
    "full_vb_global_free_pars = full_model.global_vb_params.get_free()\n",
    "boot_vb_global_free_pars = np.array([x['vb_global_free_par'] for x in boot_results])\n",
    "\n",
    "fm_scores, emi_scores = \\\n",
    "    get_stabilities_from_boot_results(model, full_vb_global_free_pars, \\\n",
    "                                      boot_vb_global_free_pars, return_full_array=True)\n",
    "\n",
    "plt.hist(fm_scores)\n",
    "plt.title('Fowlkes-Mallows scores')\n",
    "\n",
    "\n",
    "plt.figure()\n",
    "plt.hist(emi_scores)\n",
    "plt.title('Expected mutual information scores')\n"
   ]
  },
  {
   "cell_type": "markdown",
   "metadata": {},
   "source": [
    "# See how well LRVB matches these results"
   ]
  },
  {
   "cell_type": "code",
   "execution_count": 24,
   "metadata": {
    "collapsed": true
   },
   "outputs": [],
   "source": [
    "full_model.prior_params.set_free(prior_free_param)\n",
    "full_model.global_vb_params.set_free(full_global_free_param)"
   ]
  },
  {
   "cell_type": "code",
   "execution_count": 25,
   "metadata": {
    "collapsed": false,
    "scrolled": true
   },
   "outputs": [
    {
     "name": "stdout",
     "output_type": "stream",
     "text": [
      "KL Hessian:\n",
      "Prior Hessian...\n",
      "Data Hessian...\n",
      "Linear systems...\n",
      "Done.\n"
     ]
    }
   ],
   "source": [
    "moment_model = gmm_utils.InterestingMoments(full_model)\n",
    "linear_sens = LinearSensitivity(full_model, moment_model)"
   ]
  },
  {
   "cell_type": "code",
   "execution_count": 26,
   "metadata": {
    "collapsed": true
   },
   "outputs": [],
   "source": [
    "full_model.prior_params.set_free(prior_free_param)\n",
    "full_model.global_vb_params.set_free(full_global_free_param)    \n",
    "\n",
    "model.prior_params.set_free(prior_free_param)\n",
    "model.global_vb_params.set_free(full_global_free_param)"
   ]
  },
  {
   "cell_type": "markdown",
   "metadata": {},
   "source": [
    "### Check one bootstrap sample"
   ]
  },
  {
   "cell_type": "code",
   "execution_count": 27,
   "metadata": {
    "code_folding": [],
    "collapsed": true
   },
   "outputs": [],
   "source": [
    "def get_ij_estimate(linear_sens, sample_weights): \n",
    "    n_obs = np.shape(sample_weights)[0]\n",
    "    return np.dot(linear_sens.data_sens_mat, \\\n",
    "                  sample_weights - np.ones((n_obs, 1))).flatten() + \\\n",
    "            linear_sens.optimal_global_free_params "
   ]
  },
  {
   "cell_type": "code",
   "execution_count": 28,
   "metadata": {
    "collapsed": false
   },
   "outputs": [],
   "source": [
    "def run_lr_bootstrap(linear_sens, sample_weights_list): \n",
    "    n_boot = len(sample_weights_list)\n",
    "    \n",
    "    dim_free_pars = len(linear_sens.model.global_vb_params.get_free())\n",
    "    \n",
    "    lr_vb_global_free_pars = np.zeros((n_boot, dim_free_pars))\n",
    "    for i in range(n_boot):\n",
    "        lr_vb_global_free_pars[i, :] = get_ij_estimate(linear_sens, sample_weights_list[i])\n",
    "    \n",
    "    return lr_vb_global_free_pars"
   ]
  },
  {
   "cell_type": "code",
   "execution_count": 29,
   "metadata": {
    "collapsed": true
   },
   "outputs": [],
   "source": [
    "sample_weights_list = np.array([x['sample_weights'] for x in boot_results])\n",
    "\n",
    "lr_vb_global_free_pars = run_lr_bootstrap(linear_sens, sample_weights_list) "
   ]
  },
  {
   "cell_type": "code",
   "execution_count": 30,
   "metadata": {
    "collapsed": true
   },
   "outputs": [],
   "source": [
    "boot_vb_global_free_pars = np.array([x['vb_global_free_par'] for x in boot_results])"
   ]
  },
  {
   "cell_type": "code",
   "execution_count": 31,
   "metadata": {
    "collapsed": true
   },
   "outputs": [],
   "source": [
    "full_vb_global_free_pars = full_model.global_vb_params.get_free()"
   ]
  },
  {
   "cell_type": "code",
   "execution_count": 32,
   "metadata": {
    "collapsed": false
   },
   "outputs": [
    {
     "data": {
      "text/plain": [
       "<matplotlib.text.Text at 0x7f2541c1b6d8>"
      ]
     },
     "execution_count": 32,
     "metadata": {},
     "output_type": "execute_result"
    },
    {
     "data": {
      "image/png": "[encoded data removed]",
      "text/plain": [
       "<matplotlib.figure.Figure at 0x7f2541c06da0>"
      ]
     },
     "metadata": {},
     "output_type": "display_data"
    }
   ],
   "source": [
    "comparison_plot((boot_vb_global_free_pars - full_vb_global_free_pars).flatten(), \n",
    "               (lr_vb_global_free_pars - full_vb_global_free_pars).flatten())\n",
    "\n",
    "plt.xlabel('boot_diff')\n",
    "plt.ylabel('lr_diff')\n"
   ]
  },
  {
   "cell_type": "markdown",
   "metadata": {},
   "source": [
    "### Lets get linear response estimates of the stability scores"
   ]
  },
  {
   "cell_type": "code",
   "execution_count": 37,
   "metadata": {
    "collapsed": true
   },
   "outputs": [],
   "source": [
    "k = 9\n",
    "sample_weights_list = np.array([x['sample_weights'] \\\n",
    "                                for x in boot_results_dict['n_clusters{}'.format(k)]])\n",
    "\n",
    "boot_vb_global_free_pars = np.array([x['vb_global_free_par'] \\\n",
    "                                for x in boot_results_dict['n_clusters{}'.format(k)]])\n",
    "\n",
    "lr_vb_global_free_pars = run_lr_bootstrap(linear_sens_dict['n_clusters{}'.format(k)], sample_weights_list) "
   ]
  },
  {
   "cell_type": "code",
   "execution_count": 35,
   "metadata": {
    "collapsed": false,
    "scrolled": true
   },
   "outputs": [],
   "source": [
    "lr_results = get_stabilities_from_boot_results(model, full_global_free_param, \\\n",
    "                                lr_vb_global_free_pars, return_full_array = True)\n",
    "\n",
    "boot_results = get_stabilities_from_boot_results(model, full_global_free_param, \\\n",
    "                                boot_vb_global_free_pars, return_full_array = True)\n"
   ]
  },
  {
   "cell_type": "code",
   "execution_count": 50,
   "metadata": {
    "collapsed": false,
    "scrolled": false
   },
   "outputs": [
    {
     "data": {
      "text/plain": [
       "<matplotlib.text.Text at 0x7f25408e4cf8>"
      ]
     },
     "execution_count": 50,
     "metadata": {},
     "output_type": "execute_result"
    },
    {
     "data": {
      "image/png": "[encoded data removed]",
      "text/plain": [
       "<matplotlib.figure.Figure at 0x7f2540a73f98>"
      ]
     },
     "metadata": {},
     "output_type": "display_data"
    }
   ],
   "source": [
    "comparison_plot(boot_results[0], lr_results[0])\n",
    "plt.xlabel('boot fm score')\n",
    "plt.ylabel('lr fm score')\n",
    "plt.title('Comparison of Fowlkes-Mallows scores')"
   ]
  },
  {
   "cell_type": "code",
   "execution_count": 51,
   "metadata": {
    "collapsed": false,
    "scrolled": true
   },
   "outputs": [
    {
     "data": {
      "text/plain": [
       "<matplotlib.text.Text at 0x7f2540ebee80>"
      ]
     },
     "execution_count": 51,
     "metadata": {},
     "output_type": "execute_result"
    },
    {
     "data": {
      "image/png": "[encoded data removed]",
      "text/plain": [
       "<matplotlib.figure.Figure at 0x7f254091bb00>"
      ]
     },
     "metadata": {},
     "output_type": "display_data"
    }
   ],
   "source": [
    "comparison_plot(boot_results[1], lr_results[1])\n",
    "plt.xlabel('boot emi score')\n",
    "plt.ylabel('lr emi score')\n",
    "plt.title('Comparison of expected mutual information scores')"
   ]
  },
  {
   "cell_type": "code",
   "execution_count": 52,
   "metadata": {
    "collapsed": false
   },
   "outputs": [
    {
     "data": {
      "text/plain": [
       "<matplotlib.text.Text at 0x7f2540d64b00>"
      ]
     },
     "execution_count": 52,
     "metadata": {},
     "output_type": "execute_result"
    },
    {
     "data": {
      "image/png": "[encoded data removed]",
      "text/plain": [
       "<matplotlib.figure.Figure at 0x7f2540f094e0>"
      ]
     },
     "metadata": {},
     "output_type": "display_data"
    }
   ],
   "source": [
    "plt.hist(boot_results[1], bins = 30, alpha = 0.75); \n",
    "plt.hist(lr_results[1], bins = 30, alpha = 0.75); \n",
    "plt.legend(('true boot', 'lr boot')); \n",
    "plt.xlabel('expected mutual information score')"
   ]
  },
  {
   "cell_type": "code",
   "execution_count": 54,
   "metadata": {
    "collapsed": false
   },
   "outputs": [
    {
     "data": {
      "text/plain": [
       "<matplotlib.text.Text at 0x7f254169ebe0>"
      ]
     },
     "execution_count": 54,
     "metadata": {},
     "output_type": "execute_result"
    },
    {
     "data": {
      "image/png": "[encoded data removed]",
      "text/plain": [
       "<matplotlib.figure.Figure at 0x7f254167d6d8>"
      ]
     },
     "metadata": {},
     "output_type": "display_data"
    }
   ],
   "source": [
    "plt.hist(boot_results[0], bins = 30, alpha = 0.75); \n",
    "plt.hist(lr_results[0], bins = 30, alpha = 0.75); \n",
    "plt.legend(('true boot', 'lr boot')); \n",
    "plt.xlabel('Fowlkes-Mallows score')"
   ]
  },
  {
   "cell_type": "code",
   "execution_count": null,
   "metadata": {
    "collapsed": true
   },
   "outputs": [],
   "source": []
  },
  {
   "cell_type": "code",
   "execution_count": null,
   "metadata": {
    "collapsed": true
   },
   "outputs": [],
   "source": []
  },
  {
   "cell_type": "code",
   "execution_count": null,
   "metadata": {
    "collapsed": true
   },
   "outputs": [],
   "source": []
  },
  {
   "cell_type": "code",
   "execution_count": null,
   "metadata": {
    "collapsed": true
   },
   "outputs": [],
   "source": []
  }
 ],
 "metadata": {
  "kernelspec": {
   "display_name": "Python 3",
   "language": "python",
   "name": "python3"
  },
  "language_info": {
   "codemirror_mode": {
    "name": "ipython",
    "version": 3
   },
   "file_extension": ".py",
   "mimetype": "text/x-python",
   "name": "python",
   "nbconvert_exporter": "python",
   "pygments_lexer": "ipython3",
   "version": "3.6.0"
  }
 },
 "nbformat": 4,
 "nbformat_minor": 2
}
