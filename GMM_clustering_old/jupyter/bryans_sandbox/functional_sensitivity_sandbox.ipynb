{
 "cells": [
  {
   "cell_type": "code",
   "execution_count": 1,
   "metadata": {
    "collapsed": false
   },
   "outputs": [],
   "source": [
    "git_repo = '../../../../'\n",
    "\n",
    "import sys\n",
    "import os\n",
    "\n",
    "sys.path.insert(0, os.path.join(git_repo, 'BNP_sensitivity/GMM_clustering/'))\n",
    "sys.path.insert(0, '../../../../LinearResponseVariationalBayes.py/')\n",
    "\n",
    "# Linear response libraries\n",
    "import LinearResponseVariationalBayes as vb\n",
    "import LinearResponseVariationalBayes.SparseObjectives as obj_lib\n",
    "import LinearResponseVariationalBayes.OptimizationUtils as opt_lib\n",
    "\n",
    "# Local libraries\n",
    "import gmm_clustering_lib as gmm_utils\n",
    "import modeling_lib \n",
    "import functional_sensitivity_lib as fun_sens_lib \n",
    "import utils_lib\n",
    "\n",
    "import matplotlib.pyplot as plt\n",
    "%matplotlib inline\n",
    "\n",
    "from copy import deepcopy\n",
    "\n",
    "from autograd import numpy as np\n",
    "from autograd import scipy as sp\n",
    "\n",
    "# import numpy as np\n",
    "# import scipy as sp\n",
    "\n",
    "np.random.seed(453453)\n",
    "\n",
    "import json "
   ]
  },
  {
   "cell_type": "code",
   "execution_count": 2,
   "metadata": {
    "collapsed": false
   },
   "outputs": [],
   "source": [
    "# Load results from previous fit.\n",
    "json_input_file = os.path.join(\n",
    "    git_repo, 'BNP_sensitivity/GMM_clustering/iris_fits/bnp_full_data_fit_alpha8.0_iris.json')\n",
    "\n",
    "with open(json_input_file, 'r') as fp:\n",
    "    fit_dict = json.load(fp)\n",
    "    model = gmm_utils.get_model_from_checkpoint(fit_dict)\n",
    "    model_ = gmm_utils.get_model_from_checkpoint(fit_dict)\n",
    "    best_param = model.global_vb_params.get_free()\n",
    "    kl_hessian = gmm_utils.get_kl_hessian_from_checkpoint(fit_dict)"
   ]
  },
  {
   "cell_type": "code",
   "execution_count": 3,
   "metadata": {
    "collapsed": true
   },
   "outputs": [],
   "source": [
    "moment_model = gmm_utils.InterestingMoments(model)\n",
    "dg_deta = moment_model.get_moment_jacobian(best_param)\n",
    "#linear_sens = gmm_utils.LinearSensitivity(model, moment_model, kl_hessian)"
   ]
  },
  {
   "cell_type": "code",
   "execution_count": 4,
   "metadata": {
    "collapsed": false
   },
   "outputs": [
    {
     "name": "stdout",
     "output_type": "stream",
     "text": [
      "Moment parameters:\n",
      "\tcentroids:\n",
      "[[ 0.38666612 -0.83707578  0.26621971 -0.76655108  0.16580191  0.14542863\n",
      "   0.12573003  0.10581364  0.0854393   0.06483547  0.04464156  0.56483837]\n",
      " [-0.23790379  0.36417584 -0.36832691 -0.47140487 -0.24397179 -0.2386567\n",
      "  -0.2358718  -0.23474327 -0.23489075 -0.23605722 -0.23796877 -0.0348946 ]\n",
      " [ 0.93725828 -2.29444968  1.50922881  0.70397795  1.00485125  0.95974494\n",
      "   0.92240272  0.88913283  0.85849963  0.83006033  0.80391681  1.63376004]\n",
      " [ 0.28262994 -0.95459406  0.37664286  0.43212211  0.37784028  0.36344441\n",
      "   0.3502652   0.33775649  0.32573857  0.31424943  0.30346891  0.92716892]]\n",
      "\tcluster_weights:\n",
      "[0.41680693 0.31731646 0.01236364 0.01148978 0.00924401 0.00877311\n",
      " 0.00835093 0.00796464 0.0076076  0.0072757  0.0069661  0.1858411 ]\n",
      "\tv_sticks:\n",
      "[-0.33804775  0.17876427 -3.25503707 -3.29425402 -3.5280073  -3.55056991\n",
      " -3.56974917 -3.58676344 -3.60214176 -3.61613863 -3.62888088]\n"
     ]
    }
   ],
   "source": [
    "moment_model.set_moments_from_free_par(best_param)\n",
    "print(moment_model.moment_params)"
   ]
  },
  {
   "cell_type": "code",
   "execution_count": 5,
   "metadata": {
    "collapsed": false
   },
   "outputs": [
    {
     "name": "stdout",
     "output_type": "stream",
     "text": [
      "prior_params:\n",
      "\talpha: [8.]\n",
      "\tprior_centroid_mean: [0.]\n",
      "\tprior_centroid_info: [0.1]\n",
      "\tprior_gamma_df: [8.]\n",
      "\tprior_gamma_inv_scale:\n",
      "[[0.62 0.   0.   0.  ]\n",
      " [0.   0.62 0.   0.  ]\n",
      " [0.   0.   0.62 0.  ]\n",
      " [0.   0.   0.   0.62]]\n"
     ]
    }
   ],
   "source": [
    "print(model.prior_params)"
   ]
  },
  {
   "cell_type": "code",
   "execution_count": 6,
   "metadata": {
    "collapsed": false
   },
   "outputs": [
    {
     "name": "stdout",
     "output_type": "stream",
     "text": [
      "0.6931471805599453\n"
     ]
    }
   ],
   "source": [
    "# Define a perturbation in the logit v space.\n",
    "\n",
    "phi_center = -2\n",
    "#phi_log_rescale = stick_sens.get_log_p0_logit_stick(phi_center)\n",
    "phi_log_rescale = -np.log(0.5)\n",
    "print(phi_log_rescale)\n",
    "def log_phi(logit_v):\n",
    "    return(-0.5 * (logit_v - phi_center) ** 2 - phi_log_rescale)\n",
    "\n",
    "def phi(logit_v):\n",
    "    return np.exp(log_phi(logit_v))"
   ]
  },
  {
   "cell_type": "markdown",
   "metadata": {},
   "source": [
    "This perturbation class is based on the contamination model\n",
    "\n",
    "$$\n",
    "p_c(\\theta | \\epsilon, \\phi) =  p_0(\\theta) \\left(1 + \\epsilon \\phi(\\theta) \\right)\n",
    "$$\n",
    "\n",
    "This corresponds to Gustafson's linear model.  One big problem is that you must take $\\epsilon \\rightarrow \\infty$.  Another is that, even if you set it up as a normalized mixture, the scale of the perturbation determines the derivative.  I think it is worth experimenting with the model\n",
    "\n",
    "\\begin{align}\n",
    "p_c(\\theta | \\epsilon, \\phi) &= p_0(\\theta)^{1 - \\epsilon} p_1(\\theta)^\\epsilon \\\\\n",
    "& = p_0(\\theta) \\left(\\frac{p_1(\\theta)}{p_0(\\theta)}\\right)^\\epsilon \\\\\n",
    "& =: p_0(\\theta) (C_1 \\phi(\\theta)) ^ \\epsilon\n",
    "\\end{align}\n",
    "\n",
    "because, among other things, it is invariant to the scaling $C_1$.\n"
   ]
  },
  {
   "cell_type": "code",
   "execution_count": 7,
   "metadata": {
    "collapsed": false
   },
   "outputs": [
    {
     "name": "stdout",
     "output_type": "stream",
     "text": [
      "3.4618220034785896 -3.6937667578411086 -2.2246409632880852 -1.0222582344004703\n"
     ]
    }
   ],
   "source": [
    "prior_perturbation = fun_sens_lib.PriorPerturbation(model, log_phi)\n",
    "print(\n",
    "    prior_perturbation.log_norm_p0,\n",
    "    prior_perturbation.log_norm_pc,\n",
    "    prior_perturbation.log_norm_p0_logit,\n",
    "    prior_perturbation.log_norm_pc_logit)"
   ]
  },
  {
   "cell_type": "code",
   "execution_count": 8,
   "metadata": {
    "collapsed": false
   },
   "outputs": [
    {
     "name": "stdout",
     "output_type": "stream",
     "text": [
      "phi max:  0.49997474875006853\n"
     ]
    },
    {
     "data": {
      "text/plain": [
       "<matplotlib.text.Text at 0x7f83704ec208>"
      ]
     },
     "execution_count": 8,
     "metadata": {},
     "output_type": "execute_result"
    },
    {
     "data": {
      "image/png": "[encoded data removed]",
      "text/plain": [
       "<matplotlib.figure.Figure at 0x7f837296aac8>"
      ]
     },
     "metadata": {},
     "output_type": "display_data"
    }
   ],
   "source": [
    "prior_perturbation.set_epsilon(1.0)\n",
    "\n",
    "logit_v_grid = np.linspace(-4, 4, 200)\n",
    "v_grid = np.exp(logit_v_grid) / (1 + np.exp(logit_v_grid))\n",
    "\n",
    "print('phi max: ', np.max(phi(logit_v_grid)))\n",
    "\n",
    "plt.figure(1, figsize=(18, 5))\n",
    "\n",
    "#plt.plot(v_grid, phi(logit_v_grid))\n",
    "plt.subplot(141)\n",
    "plt.plot(logit_v_grid, prior_perturbation.get_log_p0_logit(logit_v_grid))\n",
    "plt.plot(logit_v_grid, prior_perturbation.get_log_pc_logit(logit_v_grid))\n",
    "plt.title('Log priors in logit space')\n",
    "\n",
    "plt.subplot(142)\n",
    "plt.plot(logit_v_grid, np.exp(prior_perturbation.log_phi(logit_v_grid)))\n",
    "plt.title('phi in logit space')\n",
    "\n",
    "plt.subplot(143)\n",
    "plt.plot(v_grid, np.exp(prior_perturbation.get_log_p0(v_grid)))\n",
    "plt.plot(v_grid, np.exp(prior_perturbation.get_log_pc(v_grid)))\n",
    "plt.title('Priors in stick space')\n",
    "\n",
    "plt.subplot(144)\n",
    "plt.plot(logit_v_grid, np.exp(prior_perturbation.get_log_p0_logit(logit_v_grid)))\n",
    "plt.plot(logit_v_grid, np.exp(prior_perturbation.get_log_pc_logit(logit_v_grid)))\n",
    "plt.title('Priors in logit space')\n"
   ]
  },
  {
   "cell_type": "code",
   "execution_count": 9,
   "metadata": {
    "collapsed": false,
    "scrolled": false
   },
   "outputs": [
    {
     "name": "stdout",
     "output_type": "stream",
     "text": [
      "[2.08720797 3.08838927 1.74574207 1.80912471 2.19652354 2.24073044\n",
      " 2.27924812 2.31409619 2.34613173 2.37574582 2.40311219]\n",
      "[3.96378791e-16 2.12767009e-16 6.35960150e-16 6.06534372e-16\n",
      " 5.84520409e-16 3.89680272e-16 2.02178124e-16 5.67856888e-16\n",
      " 7.57142517e-16 3.83812064e-16 5.67856888e-16 5.67856888e-16\n",
      " 2.45471726e-16 3.89680272e-16 5.75172399e-16 3.96378791e-16\n",
      " 4.25534018e-16 5.54392375e-16 5.54392375e-16 5.84520409e-16\n",
      " 5.84520409e-16 2.12767009e-16 3.96378791e-16 3.89680272e-16\n",
      " 4.04356248e-16 4.04356248e-16 2.12767009e-16 4.04356248e-16\n",
      " 2.12767009e-16 1.98189396e-16 3.96378791e-16 4.25534018e-16\n",
      " 1.91906032e-16 1.94840136e-16 3.78571259e-16 2.54384060e-16\n",
      " 1.94840136e-16 1.91906032e-16 2.12767009e-16 3.73852303e-16\n",
      " 3.69594917e-16 2.45471726e-16 4.25534018e-16 1.91906032e-16\n",
      " 3.96378791e-16 4.25534018e-16 4.25534018e-16 2.54384060e-16\n",
      " 2.54384060e-16 4.25534018e-16 3.89680272e-16 5.84520409e-16\n",
      " 2.02178124e-16 4.25534018e-16 2.54384060e-16 2.87586200e-16\n",
      " 4.31379299e-16 4.31379299e-16 3.78571259e-16 4.04356248e-16\n",
      " 4.04356248e-16 2.12767009e-16 4.25534018e-16 6.06534372e-16\n",
      " 1.98189396e-16 5.94568187e-16 5.75172399e-16 3.73852303e-16\n",
      " 2.02178124e-16 4.04356248e-16 2.45471726e-16 3.96378791e-16\n",
      " 2.87586200e-16 2.02178124e-16 3.83812064e-16 2.12767009e-16\n",
      " 3.89680272e-16 1.94840136e-16 5.08768120e-16 4.04356248e-16\n",
      " 4.25534018e-16 2.12767009e-16 2.45471726e-16 3.78571259e-16\n",
      " 3.78571259e-16 3.96378791e-16 6.38301027e-16 4.25534018e-16\n",
      " 3.83812064e-16 4.25534018e-16 4.25534018e-16 4.25534018e-16\n",
      " 3.69594917e-16 3.78571259e-16 2.12767009e-16 1.84797458e-16]\n",
      "20 0 96\n"
     ]
    }
   ],
   "source": [
    "# Choose the number of GH points.\n",
    "import LinearResponseVariationalBayes.ExponentialFamilies as ef\n",
    "model.global_vb_params.set_free(best_param)\n",
    "vb_params = deepcopy(model.vb_params)\n",
    "\n",
    "prior_perturbation.set_epsilon(1.0)\n",
    "\n",
    "expected_perturbations_list = []\n",
    "gh_deg_list = np.arange(3, 100, 1)\n",
    "for gh_deg in gh_deg_list:\n",
    "    gmm_utils.set_gauss_hermite_points(\n",
    "        prior_perturbation.model.vb_params, gh_deg=gh_deg)\n",
    "    expected_perturbations_list.append(\n",
    "        prior_perturbation.get_e_log_perturbation(sum_vector=False))\n",
    "\n",
    "print(expected_perturbations_list[0])\n",
    "expected_perturbations_list = np.array(expected_perturbations_list)\n",
    "#print(expected_perturbations_list.shape)\n",
    "diffs = (expected_perturbations_list[1:, :] - \\\n",
    "         expected_perturbations_list[:-1, :]) / \\\n",
    "        np.abs(expected_perturbations_list[1:, :] + 1e-6)\n",
    "#print(np.max(diffs, axis=1))\n",
    "max_diffs = np.max(np.abs(diffs), axis=1)\n",
    "print(max_diffs)\n",
    "gh_deg_threshold = np.argmax(max_diffs < 1e-5)\n",
    "gh_deg = max(20, gh_deg_threshold)\n",
    "print(gh_deg, gh_deg_threshold, len(max_diffs))"
   ]
  },
  {
   "cell_type": "code",
   "execution_count": 10,
   "metadata": {
    "collapsed": false,
    "scrolled": false
   },
   "outputs": [
    {
     "name": "stdout",
     "output_type": "stream",
     "text": [
      "Iter: 0\t RMSE: 11.252659819113031\t Objective: -305.35833030090663\n",
      "Iter: 1\t RMSE: 11.252659791490329\t Objective: -305.35833030091084\n",
      "Optimization terminated successfully.\n",
      "         Current function value: -305.358330\n",
      "         Iterations: 1\n",
      "         Function evaluations: 2\n",
      "         Gradient evaluations: 2\n",
      "         Hessian evaluations: 0\n",
      "Iter: 2\t RMSE: 11.252659791490329\t Objective: -305.358330300911\n",
      "Iter: 3\t RMSE: 11.252659791498784\t Objective: -305.35833030091027\n",
      "Warning: A bad approximation caused failure to predict improvement.\n",
      "         Current function value: -305.358330\n",
      "         Iterations: 0\n",
      "         Function evaluations: 2\n",
      "         Gradient evaluations: 1\n",
      "         Hessian evaluations: 0\n",
      "Done. \n"
     ]
    }
   ],
   "source": [
    "# First fit with no perturbation but the increased number of gh points.\n",
    "\n",
    "model.objective.logger.print_every = 10\n",
    "gmm_utils.set_gauss_hermite_points(model.vb_params, gh_deg=gh_deg)\n",
    "\n",
    "best_param_0, converged, x_conv, f_conv, grad_conv, obj_opt, opt_results = \\\n",
    "    opt_lib.repeatedly_optimize(\n",
    "        objective=prior_perturbation.objective,\n",
    "        optimization_fun=lambda x: gmm_utils.precondition_and_optimize(model.objective, x),\n",
    "        init_x=best_param,\n",
    "        initial_optimization_fun=None,\n",
    "        max_iter=100,\n",
    "        gtol=1e-8, ftol=1e-8, xtol=1e-8, disp=False,\n",
    "        keep_intermediate_optimizations=True)\n",
    "\n",
    "kl_hessian_0 = model.objective.fun_free_hessian(best_param_0)\n",
    "    \n",
    "print('Done. ')"
   ]
  },
  {
   "cell_type": "code",
   "execution_count": 11,
   "metadata": {
    "collapsed": true
   },
   "outputs": [],
   "source": [
    "# This expects the hyperparameter to be at its optimal value.\n",
    "prior_perturbation.set_epsilon(0.0)\n",
    "epsilon_sensitivity = \\\n",
    "    obj_lib.ParametricSensitivity(\n",
    "        objective_fun=model.set_z_get_kl,\n",
    "        input_par=prior_perturbation.model.global_vb_params,\n",
    "        output_par=moment_model.moment_params,\n",
    "        hyper_par=prior_perturbation.epsilon_param,\n",
    "        input_to_output_converter=moment_model.set_moments,\n",
    "        optimal_input_par=best_param_0,\n",
    "        objective_hessian=kl_hessian_0,\n",
    "        hyper_par_objective_fun=prior_perturbation.get_e_log_perturbation)"
   ]
  },
  {
   "cell_type": "code",
   "execution_count": 12,
   "metadata": {
    "collapsed": false
   },
   "outputs": [
    {
     "data": {
      "text/plain": [
       "14.025327992564304"
      ]
     },
     "execution_count": 12,
     "metadata": {},
     "output_type": "execute_result"
    }
   ],
   "source": [
    "prior_perturbation.get_e_log_perturbation()\n",
    "np.linalg.norm(epsilon_sensitivity.get_dinput_dhyper())"
   ]
  },
  {
   "cell_type": "markdown",
   "metadata": {},
   "source": [
    "## Fit with perturbation"
   ]
  },
  {
   "cell_type": "code",
   "execution_count": 13,
   "metadata": {
    "collapsed": false
   },
   "outputs": [
    {
     "name": "stdout",
     "output_type": "stream",
     "text": [
      "Epsilon:  0.1\n",
      "Predicted differences:  1.4025327992564305\n"
     ]
    }
   ],
   "source": [
    "epsilon = 0.1 # prior_perturbation.epsilon_param.get()\n",
    "print('Epsilon: ', epsilon)\n",
    "\n",
    "best_param_phi_pred = \\\n",
    "    epsilon_sensitivity.predict_input_par_from_hyperparameters(epsilon)\n",
    "output_phi_pred = epsilon_sensitivity.predict_output_par_from_hyperparameters(\n",
    "    epsilon, linear=True)\n",
    "\n",
    "print('Predicted differences: ', np.linalg.norm(best_param_phi_pred - best_param_0))"
   ]
  },
  {
   "cell_type": "code",
   "execution_count": null,
   "metadata": {
    "collapsed": false,
    "scrolled": true
   },
   "outputs": [
    {
     "name": "stderr",
     "output_type": "stream",
     "text": [
      "/home/runjing_liu/anaconda3/lib/python3.6/site-packages/scipy/integrate/quadrature.py:199: AccuracyWarning: maxiter (50) exceeded. Latest difference = 3.557954e-08\n",
      "  AccuracyWarning)\n"
     ]
    },
    {
     "name": "stdout",
     "output_type": "stream",
     "text": [
      "epsilon: 0.1\n"
     ]
    }
   ],
   "source": [
    "# Then fit with the perturbation.\n",
    "prior_perturbation.set_epsilon(epsilon)\n",
    "print(prior_perturbation.epsilon_param)\n",
    "best_param_phi, converged, x_conv, f_conv, grad_conv, obj_opt, opt_results = \\\n",
    "    opt_lib.repeatedly_optimize(\n",
    "        objective=prior_perturbation.objective,\n",
    "        optimization_fun=\n",
    "            lambda x: gmm_utils.precondition_and_optimize(\n",
    "                prior_perturbation.objective, x),\n",
    "        init_x=best_param_phi_pred,\n",
    "        initial_optimization_fun=None,\n",
    "        keep_intermediate_optimizations=True)\n",
    "\n",
    "output_phi = moment_model.set_and_get_moments_from_free_par(best_param_phi)\n",
    "output_0 = moment_model.set_and_get_moments_from_free_par(best_param_0)\n",
    "\n",
    "print('Done. Converged: ', converged)\n",
    "\n",
    "print('This is nonzero if phi did anything:', np.linalg.norm(best_param_phi - best_param_0))"
   ]
  },
  {
   "cell_type": "code",
   "execution_count": null,
   "metadata": {
    "collapsed": false
   },
   "outputs": [],
   "source": [
    "print('Epsilon:', epsilon)\n",
    "\n",
    "plt.figure()\n",
    "plt.subplot(1, 2, 1)\n",
    "plt.plot(best_param_phi - best_param_0, best_param_phi_pred - best_param_0, 'k.')\n",
    "plt.plot(best_param_phi - best_param_0, best_param_phi - best_param_0, 'r')\n",
    "\n",
    "plt.subplot(1, 2, 2)\n",
    "plt.plot(output_phi - output_0, output_phi_pred - output_0, 'k.')\n",
    "plt.plot(output_phi - output_0, output_phi - output_0, 'r')"
   ]
  },
  {
   "cell_type": "code",
   "execution_count": null,
   "metadata": {
    "collapsed": false
   },
   "outputs": [],
   "source": [
    "_ = model.set_from_global_free_par(best_param_0)\n",
    "print('original expected number of clusters: ', get_e_number_clusters_from_logit_sticks(model))"
   ]
  },
  {
   "cell_type": "code",
   "execution_count": null,
   "metadata": {
    "collapsed": false
   },
   "outputs": [],
   "source": [
    "_ = model.set_from_global_free_par(best_param_phi)\n",
    "print('perturbed expected number of clusters: ', get_e_number_clusters_from_logit_sticks(model))"
   ]
  },
  {
   "cell_type": "code",
   "execution_count": null,
   "metadata": {
    "collapsed": false
   },
   "outputs": [],
   "source": [
    "_ = model.set_from_global_free_par(best_param_phi_pred)\n",
    "print('perturbed expected number of clusters: ', get_e_number_clusters_from_logit_sticks(model))"
   ]
  },
  {
   "cell_type": "code",
   "execution_count": null,
   "metadata": {
    "collapsed": true
   },
   "outputs": [],
   "source": []
  },
  {
   "cell_type": "code",
   "execution_count": 31,
   "metadata": {
    "collapsed": true
   },
   "outputs": [],
   "source": [
    "# Fit with range of perturbations"
   ]
  },
  {
   "cell_type": "code",
   "execution_count": 25,
   "metadata": {
    "collapsed": false
   },
   "outputs": [
    {
     "name": "stdout",
     "output_type": "stream",
     "text": [
      "[0.1 0.4 0.7 1. ]\n"
     ]
    }
   ],
   "source": [
    "epsilon_vec = np.linspace(0.1, 1.0, 4)\n",
    "print(epsilon_vec)"
   ]
  },
  {
   "cell_type": "code",
   "execution_count": 26,
   "metadata": {
    "collapsed": true
   },
   "outputs": [],
   "source": [
    "best_param_phi_array = []\n",
    "best_param_phi_pred_array = []\n",
    "\n",
    "output_phi_array = []\n",
    "output_phi_pred_array = []"
   ]
  },
  {
   "cell_type": "code",
   "execution_count": 27,
   "metadata": {
    "collapsed": false,
    "scrolled": true
   },
   "outputs": [
    {
     "name": "stdout",
     "output_type": "stream",
     "text": [
      "Epsilon:  0.1\n",
      "Predicted differences:  1.4025327992564305\n",
      "epsilon: 0.1\n"
     ]
    },
    {
     "name": "stderr",
     "output_type": "stream",
     "text": [
      "/home/runjing_liu/anaconda3/lib/python3.6/site-packages/scipy/integrate/quadrature.py:199: AccuracyWarning: maxiter (50) exceeded. Latest difference = 3.557954e-08\n",
      "  AccuracyWarning)\n"
     ]
    },
    {
     "name": "stdout",
     "output_type": "stream",
     "text": [
      "Iter  83  value:  -303.0342106127615\n",
      "Iter  84  value:  -303.06779137131923\n",
      "Iter  85  value:  -303.0730950862958\n",
      "Iter  86  value:  -303.0735886895916\n",
      "Iter  87  value:  -303.0736716449374\n",
      "Iter  88  value:  -303.0736727028795\n",
      "Iter  89  value:  -303.0736727031955\n",
      "Optimization terminated successfully.\n",
      "         Current function value: -303.073673\n",
      "         Iterations: 6\n",
      "         Function evaluations: 7\n",
      "         Gradient evaluations: 7\n",
      "         Hessian evaluations: 0\n",
      "Iter  90  value:  -303.07367270319463\n",
      "Iter  91  value:  -303.07367270319673\n",
      "Warning: A bad approximation caused failure to predict improvement.\n",
      "         Current function value: -303.073673\n",
      "         Iterations: 0\n",
      "         Function evaluations: 2\n",
      "         Gradient evaluations: 1\n",
      "         Hessian evaluations: 0\n",
      "Done. Converged:  True\n",
      "This is nonzero if phi did anything: 1.0428162987440233\n",
      "Epsilon:  0.4\n",
      "Predicted differences:  5.610131197025722\n",
      "epsilon: 0.4\n",
      "Iter  92  value:  -291.28742595308466\n",
      "Iter  93  value:  -294.1790582314184\n",
      "Iter  94  value:  -295.8369073463056\n",
      "Iter  95  value:  -296.837529700122\n",
      "Iter  96  value:  -297.33192121414277\n",
      "Iter  97  value:  -297.45452641098495\n",
      "Iter  98  value:  -297.4870470758719\n",
      "Iter  99  value:  -297.4930576286928\n",
      "Iter  100  value:  -297.49426491614173\n",
      "Iter  101  value:  -297.4942989805274\n",
      "Iter  102  value:  -297.4942990352188\n",
      "Iter  103  value:  -297.4942990352333\n",
      "Optimization terminated successfully.\n",
      "         Current function value: -297.494299\n",
      "         Iterations: 11\n",
      "         Function evaluations: 12\n",
      "         Gradient evaluations: 12\n",
      "         Hessian evaluations: 0\n",
      "Iter  104  value:  -297.4942990352324\n",
      "Iter  105  value:  -297.4942990352331\n",
      "Warning: A bad approximation caused failure to predict improvement.\n",
      "         Current function value: -297.494299\n",
      "         Iterations: 0\n",
      "         Function evaluations: 2\n",
      "         Gradient evaluations: 1\n",
      "         Hessian evaluations: 0\n",
      "Done. Converged:  True\n",
      "This is nonzero if phi did anything: 2.6045593346103293\n",
      "Epsilon:  0.7\n",
      "Predicted differences:  9.817729594795013\n",
      "epsilon: 0.7\n",
      "Iter  106  value:  -256.7621867856558\n",
      "Iter  107  value:  -265.59945448054634\n",
      "Iter  108  value:  -262.62889798282606\n",
      "Iter  109  value:  -269.3386932376673\n",
      "Iter  110  value:  -273.9280980039118\n",
      "Iter  111  value:  -280.533637016023\n",
      "Iter  112  value:  -281.82149159186235\n",
      "Iter  113  value:  -287.32160189793575\n",
      "Iter  114  value:  -288.4466478660459\n",
      "Iter  115  value:  -291.0927311449138\n",
      "Iter  116  value:  -285.0150236371401\n",
      "Iter  117  value:  -292.7942210135562\n",
      "Iter  118  value:  -293.28782647120255\n",
      "Iter  119  value:  -294.75540124931166\n",
      "Iter  120  value:  -295.51222130328676\n",
      "Iter  121  value:  -296.5104996799518\n",
      "Iter  122  value:  -297.6038144662845\n",
      "Iter  123  value:  -299.15436795324274\n",
      "Iter  124  value:  -299.71914985305693\n",
      "Iter  125  value:  -301.8410132521789\n",
      "Iter  126  value:  -303.30682361248347\n",
      "Iter  127  value:  -303.44025456139957\n",
      "Iter  128  value:  -302.19596734413255\n",
      "Iter  129  value:  -304.5200008636563\n",
      "Iter  130  value:  -305.07754214100805\n",
      "Iter  131  value:  -306.3157255614749\n",
      "Iter  132  value:  -306.684561341755\n",
      "Iter  133  value:  -306.84285757298665\n",
      "Iter  134  value:  -306.9806279270991\n",
      "Iter  135  value:  -306.9839322679195\n",
      "Iter  136  value:  -306.98454674848625\n",
      "Iter  137  value:  -306.9845886930208\n",
      "Iter  138  value:  -306.9845887133317\n",
      "Iter  139  value:  -306.98458871333673\n",
      "Optimization terminated successfully.\n",
      "         Current function value: -306.984589\n",
      "         Iterations: 33\n",
      "         Function evaluations: 34\n",
      "         Gradient evaluations: 31\n",
      "         Hessian evaluations: 0\n",
      "Iter  140  value:  -306.9845887133379\n",
      "Iter  141  value:  -306.9845887133375\n",
      "Warning: A bad approximation caused failure to predict improvement.\n",
      "         Current function value: -306.984589\n",
      "         Iterations: 0\n",
      "         Function evaluations: 2\n",
      "         Gradient evaluations: 1\n",
      "         Hessian evaluations: 0\n",
      "Done. Converged:  True\n",
      "This is nonzero if phi did anything: 5.6942794809872845\n",
      "Epsilon:  1.0\n",
      "Predicted differences:  14.025327992564304\n",
      "epsilon: 1.0\n",
      "Iter  142  value:  -188.6352362612406\n",
      "Iter  143  value:  -207.47847865009757\n",
      "Iter  144  value:  -204.25714145661723\n",
      "Iter  145  value:  -216.74283559209152\n",
      "Iter  146  value:  -230.6765727395149\n",
      "Iter  147  value:  -238.17300587717128\n",
      "Iter  148  value:  -229.07837787943433\n",
      "Iter  149  value:  -244.98476127649622\n",
      "Iter  150  value:  -250.22687355327\n",
      "Iter  151  value:  -257.42871469409636\n",
      "Iter  152  value:  -264.46581341478037\n",
      "Iter  153  value:  -268.242623084102\n",
      "Iter  154  value:  -276.83755758665086\n",
      "Iter  155  value:  -229.36731437346327\n",
      "Iter  156  value:  -272.2911756343348\n",
      "Iter  157  value:  -280.15548323949406\n",
      "Iter  158  value:  -282.25284145540707\n",
      "Iter  159  value:  -283.6272580243837\n",
      "Iter  160  value:  -285.51701621564877\n",
      "Iter  161  value:  -287.0272323806677\n",
      "Iter  162  value:  -288.3249899398423\n",
      "Iter  163  value:  -289.5793533936753\n",
      "Iter  164  value:  -290.3417225433845\n",
      "Iter  165  value:  -291.88294978076294\n",
      "Iter  166  value:  -293.086110152681\n",
      "Iter  167  value:  -293.1511324665594\n",
      "Iter  168  value:  -294.8865374574056\n",
      "Iter  169  value:  -296.40226330664416\n",
      "Iter  170  value:  -295.0519784452571\n",
      "Iter  171  value:  -297.1486564700837\n",
      "Iter  172  value:  -297.4800314871836\n",
      "Iter  173  value:  -295.7947898967523\n",
      "Iter  174  value:  -298.1708784248894\n",
      "Iter  175  value:  -298.41045689053686\n",
      "Iter  176  value:  -298.6870810264607\n",
      "Iter  177  value:  -299.12688870802845\n",
      "Iter  178  value:  -299.44134531383736\n",
      "Iter  179  value:  -299.89925065959045\n",
      "Iter  180  value:  -300.1594786577977\n",
      "Iter  181  value:  -300.2202785463294\n",
      "Iter  182  value:  -300.3305852012641\n",
      "Iter  183  value:  -300.5203824856223\n",
      "Iter  184  value:  -300.64757348683344\n",
      "Iter  185  value:  -300.7983141374317\n",
      "Iter  186  value:  -300.86667001320626\n",
      "Iter  187  value:  -300.94077639306187\n",
      "Iter  188  value:  -301.0662189839019\n",
      "Iter  189  value:  -301.13459668626984\n",
      "Iter  190  value:  -301.15104067433145\n",
      "Iter  191  value:  -301.15557770812825\n",
      "Iter  192  value:  -301.15728626208426\n",
      "Warning: Maximum number of iterations has been exceeded.\n",
      "         Current function value: -301.157286\n",
      "         Iterations: 50\n",
      "         Function evaluations: 51\n",
      "         Gradient evaluations: 44\n",
      "         Hessian evaluations: 0\n",
      "Iter  193  value:  -301.15728626208323\n",
      "Iter  194  value:  -301.15808549001315\n",
      "Iter  195  value:  -300.7681399666081\n",
      "Iter  196  value:  -301.16855303133747\n",
      "Iter  197  value:  -301.19842002945717\n",
      "Iter  198  value:  -301.24261749967945\n",
      "Iter  199  value:  -301.3091718914161\n",
      "Iter  200  value:  -301.3177258974427\n",
      "Iter  201  value:  -301.31738026378247\n",
      "Iter  202  value:  -301.3498387722463\n",
      "Iter  203  value:  -301.39848283717157\n",
      "Iter  204  value:  -301.41674217452044\n",
      "Iter  205  value:  -301.4663896399457\n",
      "Iter  206  value:  -301.5387224309335\n",
      "Iter  207  value:  -301.5952581366701\n",
      "Iter  208  value:  -301.6423665758752\n",
      "Iter  209  value:  -301.676320881503\n",
      "Iter  210  value:  -301.691733127564\n",
      "Iter  211  value:  -301.6937597296924\n",
      "Iter  212  value:  -301.6938210770753\n",
      "Iter  213  value:  -301.6938240566526\n",
      "Iter  214  value:  -301.6938240570309\n",
      "Optimization terminated successfully.\n",
      "         Current function value: -301.693824\n",
      "         Iterations: 21\n",
      "         Function evaluations: 22\n",
      "         Gradient evaluations: 20\n",
      "         Hessian evaluations: 0\n",
      "Iter  215  value:  -301.69382405702993\n",
      "Iter  216  value:  -301.69382405703124\n",
      "Warning: A bad approximation caused failure to predict improvement.\n",
      "         Current function value: -301.693824\n",
      "         Iterations: 0\n",
      "         Function evaluations: 2\n",
      "         Gradient evaluations: 1\n",
      "         Hessian evaluations: 0\n",
      "Done. Converged:  True\n",
      "This is nonzero if phi did anything: 8.47334918935333\n"
     ]
    }
   ],
   "source": [
    "for i in range(len(epsilon_vec)): \n",
    "    epsilon = epsilon_vec[i]\n",
    "    print('Epsilon: ', epsilon)\n",
    "    \n",
    "    # get linear predictions\n",
    "    best_param_phi_pred = \\\n",
    "        epsilon_sensitivity.predict_input_par_from_hyperparameters(epsilon)\n",
    "    output_phi_pred = epsilon_sensitivity.predict_output_par_from_hyperparameters(\n",
    "        epsilon, linear=True)\n",
    "\n",
    "    print('Predicted differences: ', np.linalg.norm(best_param_phi_pred - best_param_0))\n",
    "    \n",
    "    # Then fit with the perturbation.\n",
    "    prior_perturbation.set_epsilon(epsilon_vec[i])\n",
    "    print(prior_perturbation.epsilon_param)\n",
    "    best_param_phi, converged, x_conv, f_conv, grad_conv, obj_opt, opt_results = \\\n",
    "        opt_lib.repeatedly_optimize(\n",
    "            objective=prior_perturbation.objective,\n",
    "            optimization_fun=\n",
    "                lambda x: gmm_utils.precondition_and_optimize(\n",
    "                    prior_perturbation.objective, x),\n",
    "            init_x=best_param_phi_pred,\n",
    "            initial_optimization_fun=None,\n",
    "            keep_intermediate_optimizations=True)\n",
    "\n",
    "    output_phi = moment_model.set_and_get_moments_from_free_par(best_param_phi)\n",
    "    output_0 = moment_model.set_and_get_moments_from_free_par(best_param_0)\n",
    "\n",
    "    print('Done. Converged: ', converged)\n",
    "\n",
    "    print('This is nonzero if phi did anything:', np.linalg.norm(best_param_phi - best_param_0))\n",
    "    \n",
    "    # save results: \n",
    "    best_param_phi_array.append(best_param_phi)\n",
    "    best_param_phi_pred_array.append(best_param_phi_pred)\n",
    "    \n",
    "    output_phi_array.append(output_phi)\n",
    "    output_phi_pred_array.append(output_phi_pred)\n",
    "    "
   ]
  },
  {
   "cell_type": "code",
   "execution_count": 32,
   "metadata": {
    "collapsed": false,
    "scrolled": true
   },
   "outputs": [
    {
     "data": {
      "image/png": "[encoded data removed]",
      "text/plain": [
       "<matplotlib.figure.Figure at 0x7fd4ed642278>"
      ]
     },
     "metadata": {},
     "output_type": "display_data"
    },
    {
     "data": {
      "image/png": "[encoded data removed]",
      "text/plain": [
       "<matplotlib.figure.Figure at 0x7fd4ed83f240>"
      ]
     },
     "metadata": {},
     "output_type": "display_data"
    },
    {
     "data": {
      "image/png": "[encoded data removed]",
      "text/plain": [
       "<matplotlib.figure.Figure at 0x7fd4ed7bea90>"
      ]
     },
     "metadata": {},
     "output_type": "display_data"
    },
    {
     "data": {
      "image/png": "[encoded data removed]",
      "text/plain": [
       "<matplotlib.figure.Figure at 0x7fd4edf5f400>"
      ]
     },
     "metadata": {},
     "output_type": "display_data"
    }
   ],
   "source": [
    "for i in range(len(epsilon_vec)): \n",
    "    plt.figure(figsize=(8, 4))\n",
    "    plt.subplot(1, 2, 1)\n",
    "    plt.plot(best_param_phi_array[i] - best_param_0, \n",
    "             best_param_phi_pred_array[i] - best_param_0, 'k.')\n",
    "    plt.plot(best_param_phi_array[i] - best_param_0, \n",
    "             best_param_phi_array[i] - best_param_0, 'r')\n",
    "    plt.xlabel('true diff global free params')\n",
    "    plt.ylabel('pred diff global free params')\n",
    "    plt.title('epsilon = {}'.format(epsilon_vec[i]))\n",
    "\n",
    "    plt.subplot(1, 2, 2)\n",
    "    plt.plot(output_phi_array[i] - output_0, \n",
    "             output_phi_pred_array[i] - output_0, 'k.')\n",
    "    plt.plot(output_phi_array[i] - output_0, \n",
    "             output_phi_array[i] - output_0, 'r')\n",
    "    plt.xlabel('true diff moment params')\n",
    "    plt.ylabel('pred diff moment params')\n",
    "    plt.title('epsilon = {}'.format(epsilon_vec[i]))\n",
    "    \n",
    "    plt.tight_layout()\n",
    "\n",
    "    "
   ]
  },
  {
   "cell_type": "code",
   "execution_count": null,
   "metadata": {
    "collapsed": true
   },
   "outputs": [],
   "source": []
  }
 ],
 "metadata": {
  "kernelspec": {
   "display_name": "Python 3",
   "language": "python",
   "name": "python3"
  },
  "language_info": {
   "codemirror_mode": {
    "name": "ipython",
    "version": 3
   },
   "file_extension": ".py",
   "mimetype": "text/x-python",
   "name": "python",
   "nbconvert_exporter": "python",
   "pygments_lexer": "ipython3",
   "version": "3.6.0"
  }
 },
 "nbformat": 4,
 "nbformat_minor": 2
}
