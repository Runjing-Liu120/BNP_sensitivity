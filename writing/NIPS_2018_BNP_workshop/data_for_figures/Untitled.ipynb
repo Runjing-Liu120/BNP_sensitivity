{
 "cells": [
  {
   "cell_type": "code",
   "execution_count": 41,
   "metadata": {
    "collapsed": true
   },
   "outputs": [],
   "source": [
    "import numpy as np"
   ]
  },
  {
   "cell_type": "code",
   "execution_count": 42,
   "metadata": {
    "collapsed": false
   },
   "outputs": [],
   "source": [
    "alpha_vec = np.load('./alpha_vec_start5.npy')"
   ]
  },
  {
   "cell_type": "code",
   "execution_count": 43,
   "metadata": {
    "collapsed": false
   },
   "outputs": [],
   "source": [
    "true_vec_35 = np.load('./e_num_clusters_true_start5.npy')"
   ]
  },
  {
   "cell_type": "code",
   "execution_count": 44,
   "metadata": {
    "collapsed": true
   },
   "outputs": [],
   "source": [
    "pred_vec_35 = np.load('./e_num_clusters_pred_start5.npy')"
   ]
  },
  {
   "cell_type": "code",
   "execution_count": 45,
   "metadata": {
    "collapsed": false
   },
   "outputs": [],
   "source": [
    "init_35_results = np.array([alpha_vec, true_vec_35.squeeze(), pred_vec_35.squeeze()])"
   ]
  },
  {
   "cell_type": "code",
   "execution_count": 46,
   "metadata": {
    "collapsed": false
   },
   "outputs": [
    {
     "data": {
      "text/plain": [
       "array([[0.5       , 1.        , 1.5       , 2.        , 2.5       ,\n",
       "        3.        , 3.5       , 4.        , 4.5       , 5.        ,\n",
       "        5.5       , 6.        , 6.5       ],\n",
       "       [4.11702002, 4.52595361, 4.93483735, 5.37661203, 5.83536656,\n",
       "        6.26143694, 6.61188753, 6.93798119, 7.25197242, 7.47693607,\n",
       "        7.65290647, 7.80760336, 7.94460977],\n",
       "       [5.43436907, 5.62382775, 5.83490189, 6.06047783, 6.30119944,\n",
       "        6.55129764, 6.80379585, 7.04562779, 7.27304395, 7.48076078,\n",
       "        7.6551626 , 7.7917028 , 7.90477492]])"
      ]
     },
     "execution_count": 46,
     "metadata": {},
     "output_type": "execute_result"
    }
   ],
   "source": [
    "init_35_results"
   ]
  },
  {
   "cell_type": "code",
   "execution_count": 47,
   "metadata": {
    "collapsed": true
   },
   "outputs": [],
   "source": [
    "np.savetxt('./init_50_param_sens.csv', init_35_results, delimiter=', ')"
   ]
  },
  {
   "cell_type": "code",
   "execution_count": null,
   "metadata": {
    "collapsed": true
   },
   "outputs": [],
   "source": []
  }
 ],
 "metadata": {
  "kernelspec": {
   "display_name": "Python 3",
   "language": "python",
   "name": "python3"
  },
  "language_info": {
   "codemirror_mode": {
    "name": "ipython",
    "version": 3
   },
   "file_extension": ".py",
   "mimetype": "text/x-python",
   "name": "python",
   "nbconvert_exporter": "python",
   "pygments_lexer": "ipython3",
   "version": "3.6.0"
  }
 },
 "nbformat": 4,
 "nbformat_minor": 2
}
