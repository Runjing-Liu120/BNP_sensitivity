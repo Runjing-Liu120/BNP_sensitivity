{
 "cells": [
  {
   "cell_type": "code",
   "execution_count": 87,
   "metadata": {
    "collapsed": true
   },
   "outputs": [],
   "source": [
    "import numpy as np\n",
    "import matplotlib.pyplot as plt\n",
    "%matplotlib inline\n"
   ]
  },
  {
   "cell_type": "code",
   "execution_count": 88,
   "metadata": {
    "collapsed": true
   },
   "outputs": [],
   "source": [
    "alpha = 13"
   ]
  },
  {
   "cell_type": "code",
   "execution_count": 89,
   "metadata": {
    "collapsed": false
   },
   "outputs": [],
   "source": [
    "alpha_vec = np.load('./alpha_vec.npy')"
   ]
  },
  {
   "cell_type": "code",
   "execution_count": 90,
   "metadata": {
    "collapsed": false
   },
   "outputs": [],
   "source": [
    "true_vec = np.load('./e_num_clusters_thresh0_refit_alpha{}.npy'.format(alpha))"
   ]
  },
  {
   "cell_type": "code",
   "execution_count": 91,
   "metadata": {
    "collapsed": true
   },
   "outputs": [],
   "source": [
    "pred_vec = np.load('./e_num_clusters_thresh0_lr_alpha{}.npy'.format(alpha))"
   ]
  },
  {
   "cell_type": "code",
   "execution_count": 92,
   "metadata": {
    "collapsed": false
   },
   "outputs": [],
   "source": [
    "results = np.array([alpha_vec, true_vec.squeeze(), pred_vec.squeeze()])"
   ]
  },
  {
   "cell_type": "code",
   "execution_count": 93,
   "metadata": {
    "collapsed": false
   },
   "outputs": [
    {
     "data": {
      "text/plain": [
       "array([[ 9.5   ,  1.5   , 15.    , 13.    , 12.    ,  0.5   ,  5.    ,\n",
       "        12.5   ,  7.    ,  3.    ,  5.5   , 10.    ,  2.    , 14.5   ,\n",
       "         8.5   ,  3.5   ,  7.5   , 11.5   ,  4.    ,  2.5   ,  9.    ,\n",
       "        11.    ,  4.5   ,  8.    , 10.5   ,  6.    , 14.    ,  6.5   ,\n",
       "         1.    , 13.5   ],\n",
       "       [ 8.3034,  5.1147, 10.3057,  9.7482,  9.389 ,  4.6661,  6.5553,\n",
       "         9.5679,  7.2465,  5.979 ,  6.7124,  8.533 ,  5.6745, 10.1529,\n",
       "         7.8676,  6.1212,  7.4451,  9.1752,  6.2583,  5.8348,  8.0801,\n",
       "         8.9788,  6.4021,  7.6472,  8.758 ,  6.8823, 10.0269,  7.0538,\n",
       "         4.7783,  9.8851],\n",
       "       [ 8.3453,  6.1175, 10.2585,  9.7482,  9.3892,  5.9522,  6.8367,\n",
       "         9.5678,  7.4112,  6.3992,  6.9733,  8.5506,  6.2077, 10.1591,\n",
       "         7.9326,  6.4955,  7.5851,  9.1726,  6.6139,  6.3025,  8.1345,\n",
       "         8.9794,  6.724 ,  7.7499,  8.7582,  7.1095, 10.0258,  7.2556,\n",
       "         6.038 ,  9.8865]])"
      ]
     },
     "execution_count": 93,
     "metadata": {},
     "output_type": "execute_result"
    }
   ],
   "source": [
    "results"
   ]
  },
  {
   "cell_type": "code",
   "execution_count": 94,
   "metadata": {
    "collapsed": false
   },
   "outputs": [],
   "source": [
    "np.savetxt('./init_alpha{}_thresh0_param_sens.csv'.format(alpha), results, delimiter=', ')"
   ]
  },
  {
   "cell_type": "code",
   "execution_count": 95,
   "metadata": {
    "collapsed": false
   },
   "outputs": [
    {
     "data": {
      "text/plain": [
       "[<matplotlib.lines.Line2D at 0x7f5f6ca21e48>]"
      ]
     },
     "execution_count": 95,
     "metadata": {},
     "output_type": "execute_result"
    },
    {
     "data": {
      "image/png": "[encoded data removed]",
      "text/plain": [
       "<matplotlib.figure.Figure at 0x7f5f6ca21e80>"
      ]
     },
     "metadata": {},
     "output_type": "display_data"
    }
   ],
   "source": [
    "plt.plot(alpha_vec, true_vec, '+')\n",
    "plt.plot(alpha_vec, pred_vec, '+')"
   ]
  },
  {
   "cell_type": "code",
   "execution_count": null,
   "metadata": {
    "collapsed": true
   },
   "outputs": [],
   "source": []
  },
  {
   "cell_type": "code",
   "execution_count": null,
   "metadata": {
    "collapsed": true
   },
   "outputs": [],
   "source": []
  }
 ],
 "metadata": {
  "kernelspec": {
   "display_name": "Python 3",
   "language": "python",
   "name": "python3"
  },
  "language_info": {
   "codemirror_mode": {
    "name": "ipython",
    "version": 3
   },
   "file_extension": ".py",
   "mimetype": "text/x-python",
   "name": "python",
   "nbconvert_exporter": "python",
   "pygments_lexer": "ipython3",
   "version": "3.6.0"
  }
 },
 "nbformat": 4,
 "nbformat_minor": 2
}
