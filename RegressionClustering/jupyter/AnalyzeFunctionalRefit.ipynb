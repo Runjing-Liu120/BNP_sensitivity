{
 "cells": [
  {
   "cell_type": "code",
   "execution_count": 1,
   "metadata": {
    "collapsed": true
   },
   "outputs": [],
   "source": [
    "import matplotlib.pyplot as plt\n",
    "%matplotlib inline\n",
    "\n",
    "import numpy as np\n",
    "import inspect\n",
    "import os\n",
    "import sys\n",
    "import time\n",
    "\n",
    "import paragami\n",
    "import vittles\n",
    "\n",
    "from copy import deepcopy\n",
    "\n",
    "import bnpregcluster_runjingdev.regression_mixture_lib as gmm_lib\n",
    "import bnpregcluster_runjingdev.posterior_quantities_lib as post_lib\n",
    "\n",
    "np.random.seed(42) # nothing special about this seed (we hope)!"
   ]
  },
  {
   "cell_type": "code",
   "execution_count": 21,
   "metadata": {},
   "outputs": [],
   "source": [
    "class Args():\n",
    "    def __init__(self):\n",
    "        pass\n",
    "    \n",
    "args = Args()\n",
    "args.fit_directory = '/home/rgiordan/Documents/git_repos/BNP_sensitivity/RegressionClustering/fits/cluster'\n",
    "args.refit_filename = os.path.join(args.fit_directory,\n",
    "    'transformed_gene_regression_df4_degree3_genes700_' +\n",
    "    'num_components40_inflate1.0_shrunkTrue_alphascale1.0_' +\n",
    "    'functionalTrue_logphiexpit_refit.npz')\n",
    "\n",
    "def set_directory(filename):\n",
    "    # If the fit_directory argument is set, replace a datafile's directory\n",
    "    # with the specified fit_directory and return the new location.\n",
    "    if args.fit_directory is None:\n",
    "        return filename\n",
    "    else:\n",
    "        _, file_only_name = os.path.split(filename)\n",
    "        return os.path.join(args.fit_directory, file_only_name)\n"
   ]
  },
  {
   "cell_type": "code",
   "execution_count": 25,
   "metadata": {},
   "outputs": [],
   "source": [
    "with np.load(args.refit_filename) as infile:\n",
    "    initial_fitfile = set_directory(str(infile['input_filename']))\n",
    "    gmm_params_pattern = paragami.get_pattern_from_json(\n",
    "        str(infile['gmm_params_pattern_json']))\n",
    "    reopt_gmm_params = gmm_params_pattern.fold(\n",
    "        infile['reopt_gmm_params_flat'], free=False)\n",
    "    prior_params_pattern = paragami.get_pattern_from_json(\n",
    "        str(infile['reopt_prior_params_pattern_json']))\n",
    "    reopt_prior_params = prior_params_pattern.fold(\n",
    "        infile['reopt_prior_params_flat'], free=False)\n",
    "    reopt_time = infile['reopt_time']\n",
    "    alpha_scale = infile['alpha_scale']\n",
    "    functional = bool(infile['functional'])\n",
    "    log_phi_desc = str(infile['log_phi_desc'])\n",
    "    \n",
    "assert functional\n",
    "\n",
    "if not os.path.isfile(initial_fitfile):\n",
    "    raise ValueError('Initial fit {} not found'.format(initial_fitfile))\n",
    "\n",
    "with np.load(initial_fitfile) as infile:\n",
    "    gmm_params_pattern = paragami.get_pattern_from_json(\n",
    "        str(infile['gmm_params_pattern_json']))\n",
    "    opt_gmm_params = gmm_params_pattern.fold(\n",
    "        infile['opt_gmm_params_flat'], free=False)\n",
    "    prior_params_pattern = paragami.get_pattern_from_json(\n",
    "        str(infile['prior_params_pattern_json']))\n",
    "    prior_params = prior_params_pattern.fold(\n",
    "        infile['prior_params_flat'], free=False)\n",
    "    kl_hess = infile['kl_hess']\n",
    "    df = infile['df']\n",
    "    degree = infile['degree']\n",
    "    datafile = set_directory(str(infile['datafile']))\n",
    "    num_components = int(infile['num_components'])\n",
    "\n",
    "if not os.path.isfile(datafile):\n",
    "    raise ValueError('Datafile {} not found'.format(datafile))\n",
    "\n",
    "reg_params = dict()\n",
    "with np.load(datafile) as infile:\n",
    "    reg_params['beta_mean'] = infile['transformed_beta_mean']\n",
    "    reg_params['beta_info'] = infile['transformed_beta_info']\n",
    "    inflate_cov = infile.get('inflate_cov', 0)\n",
    "    eb_shrunk = infile.get('eb_shrunk', False)"
   ]
  },
  {
   "cell_type": "code",
   "execution_count": 26,
   "metadata": {},
   "outputs": [],
   "source": [
    "gmm = gmm_lib.GMM(num_components, prior_params, reg_params)\n",
    "\n",
    "log_phi = gmm_lib.get_log_phi(log_phi_desc)\n",
    "\n",
    "prior_pert = gmm_lib.PriorPerturbation(log_phi, gmm.gh_loc, gmm.gh_weights)\n",
    "gmm.set_perturbation_fun(prior_pert.get_e_log_perturbation)\n",
    "prior_pert.set_epsilon(0.0) # We evaluate derivatives at epsilon = 0"
   ]
  },
  {
   "cell_type": "code",
   "execution_count": 28,
   "metadata": {},
   "outputs": [
    {
     "name": "stdout",
     "output_type": "stream",
     "text": [
      "[1.]\n"
     ]
    }
   ],
   "source": [
    "epsilon = np.array([alpha_scale])\n",
    "print(epsilon)"
   ]
  },
  {
   "cell_type": "code",
   "execution_count": 29,
   "metadata": {},
   "outputs": [
    {
     "data": {
      "text/plain": [
       "39.9698"
      ]
     },
     "execution_count": 29,
     "metadata": {},
     "output_type": "execute_result"
    }
   ],
   "source": [
    "n_samples = 10000\n",
    "threshold = 0\n",
    "predictive = False\n",
    "\n",
    "get_posterior_quantity = post_lib.get_posterior_quantity_function(\n",
    "    predictive, gmm, n_samples, threshold)\n",
    "\n",
    "get_posterior_quantity(opt_gmm_params)"
   ]
  },
  {
   "cell_type": "code",
   "execution_count": 30,
   "metadata": {},
   "outputs": [
    {
     "data": {
      "text/plain": [
       "-44983.793800960986"
      ]
     },
     "execution_count": 30,
     "metadata": {},
     "output_type": "execute_result"
    }
   ],
   "source": [
    "def get_kl_from_vb_epsilon(params, epsilon):\n",
    "    prior_pert.set_epsilon(epsilon)\n",
    "    return gmm.get_params_kl(params)\n",
    "\n",
    "get_kl_from_vb_free_prior_free = \\\n",
    "    paragami.FlattenFunctionInput(\n",
    "        original_fun=get_kl_from_vb_epsilon,\n",
    "        patterns = gmm.gmm_params_pattern,\n",
    "        free = True,\n",
    "        argnums = 0)\n",
    "\n",
    "opt_params0 = gmm.gmm_params_pattern.flatten(opt_gmm_params, free=True)\n",
    "get_kl_from_vb_free_prior_free(opt_params0, epsilon)\n",
    "\n",
    "# get_perturbation_free = \\\n",
    "#     paragami.FlattenFunctionInput(original_fun=\n",
    "#         prior_pert.get_e_log_perturbation_epsilon,\n",
    "#         patterns = gmm.gmm_params_pattern,\n",
    "#         free = True,\n",
    "#         argnums = 0)\n",
    "# get_perturbation_free(opt_params0, epsilon)"
   ]
  },
  {
   "cell_type": "code",
   "execution_count": 31,
   "metadata": {},
   "outputs": [
    {
     "name": "stdout",
     "output_type": "stream",
     "text": [
      "-0.0 -1.943623562870231 -3.887247125740462\n"
     ]
    }
   ],
   "source": [
    "# Sanity check\n",
    "print(\n",
    "    prior_pert.get_e_log_perturbation_epsilon(opt_gmm_params, 0.0),\n",
    "    prior_pert.get_e_log_perturbation_epsilon(opt_gmm_params, 0.5),\n",
    "    prior_pert.get_e_log_perturbation_epsilon(opt_gmm_params, 1.0)\n",
    ")"
   ]
  },
  {
   "cell_type": "code",
   "execution_count": 32,
   "metadata": {
    "scrolled": false
   },
   "outputs": [
    {
     "name": "stdout",
     "output_type": "stream",
     "text": [
      "linear response Hessian time: 0.008 secs\n"
     ]
    }
   ],
   "source": [
    "taylor_order = 1\n",
    "t0 = time.time()\n",
    "vb_sens = \\\n",
    "    vittles.ParametricSensitivityTaylorExpansion(\n",
    "        objective_function =           get_kl_from_vb_free_prior_free,\n",
    "        input_val0 =                   gmm.gmm_params_pattern.flatten(opt_gmm_params, free=True),\n",
    "        hyper_val0 =                   np.array([0.0]),\n",
    "        order =                        taylor_order,\n",
    "        hess0 =                        kl_hess)\n",
    "\n",
    "print('linear response Hessian time: {:.03f} secs'.format(time.time() - t0))"
   ]
  },
  {
   "cell_type": "code",
   "execution_count": 33,
   "metadata": {},
   "outputs": [
    {
     "name": "stdout",
     "output_type": "stream",
     "text": [
      "Orig e: \t39.9698\n",
      "Refit e:\t39.9696\n",
      "Pred e:\t\t39.9696\n",
      "Actual diff:\t-0.0002\n",
      "Pred diff:\t-0.0002\n"
     ]
    }
   ],
   "source": [
    "predict_gmm_params = \\\n",
    "    paragami.FoldFunctionOutput(\n",
    "        original_fun=vb_sens.evaluate_taylor_series,\n",
    "        patterns=gmm.gmm_params_pattern,\n",
    "        free=True,\n",
    "        retnums=[0])\n",
    "\n",
    "lr_time = time.time()\n",
    "pred_gmm_params = predict_gmm_params(epsilon)\n",
    "lr_time = lr_time - time.time()\n",
    "\n",
    "e_num0 = get_posterior_quantity(opt_gmm_params)\n",
    "e_num1 = get_posterior_quantity(reopt_gmm_params)\n",
    "e_num_pred = get_posterior_quantity(pred_gmm_params)\n",
    "\n",
    "print('Orig e: \\t{}\\nRefit e:\\t{}\\nPred e:\\t\\t{}\\nActual diff:\\t{:0.5}\\nPred diff:\\t{:0.5}'.format(\n",
    "    e_num0, e_num1, e_num_pred,\n",
    "    e_num1 - e_num0,\n",
    "    e_num_pred - e_num0))"
   ]
  }
 ],
 "metadata": {
  "kernelspec": {
   "display_name": "bnpgmm_runjingdev",
   "language": "python",
   "name": "bnpgmm_runjingdev"
  },
  "language_info": {
   "codemirror_mode": {
    "name": "ipython",
    "version": 3
   },
   "file_extension": ".py",
   "mimetype": "text/x-python",
   "name": "python",
   "nbconvert_exporter": "python",
   "pygments_lexer": "ipython3",
   "version": "3.5.2"
  }
 },
 "nbformat": 4,
 "nbformat_minor": 2
}
