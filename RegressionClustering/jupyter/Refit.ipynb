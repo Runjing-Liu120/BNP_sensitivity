{
 "cells": [
  {
   "cell_type": "code",
   "execution_count": 1,
   "metadata": {
    "collapsed": true
   },
   "outputs": [],
   "source": [
    "import matplotlib.pyplot as plt\n",
    "%matplotlib inline\n",
    "\n",
    "import numpy as np\n",
    "import inspect\n",
    "import os\n",
    "import sys\n",
    "import time\n",
    "\n",
    "import paragami\n",
    "import vittles\n",
    "\n",
    "from copy import deepcopy\n",
    "\n",
    "import bnpregcluster_runjingdev.regression_mixture_lib as gmm_lib\n",
    "\n",
    "np.random.seed(42) # nothing special about this seed (we hope)!"
   ]
  },
  {
   "cell_type": "code",
   "execution_count": 2,
   "metadata": {},
   "outputs": [
    {
     "name": "stdout",
     "output_type": "stream",
     "text": [
      "(238, 238)\n"
     ]
    }
   ],
   "source": [
    "#fitfile = './fits/transformed_gene_regression_df7_degree3_genes700_num_components100_fit.npz'\n",
    "fitfile = './fits/transformed_gene_regression_df4_degree3_genes700_num_components30_fit.npz'\n",
    "with np.load(fitfile) as infile:\n",
    "    gmm_params_pattern = paragami.get_pattern_from_json(\n",
    "        str(infile['gmm_params_pattern_json']))\n",
    "    opt_gmm_params = gmm_params_pattern.fold(\n",
    "        infile['opt_gmm_params_flat'], free=False)\n",
    "    prior_params_pattern = paragami.get_pattern_from_json(\n",
    "        str(infile['prior_params_pattern_json']))\n",
    "    prior_params = prior_params_pattern.fold(\n",
    "        infile['prior_params_flat'], free=False)\n",
    "    kl_hess = infile['kl_hess']\n",
    "    df = infile['df']\n",
    "    degree = infile['degree']\n",
    "    datafile = str(infile['datafile'])\n",
    "    num_components = int(infile['num_components'])\n",
    "\n",
    "reg_params = dict()\n",
    "with np.load(datafile) as infile:\n",
    "    reg_params['beta_mean'] = infile['transformed_beta_mean']\n",
    "    reg_params['beta_info'] = infile['transformed_beta_info']\n",
    "\n",
    "print(kl_hess.shape)"
   ]
  },
  {
   "cell_type": "code",
   "execution_count": 36,
   "metadata": {
    "scrolled": false
   },
   "outputs": [
    {
     "name": "stdout",
     "output_type": "stream",
     "text": [
      "Setting preconditioner...\n",
      "Done.\n",
      "Optimizing...\n",
      "Iter 0: f = -9643.84699857\n",
      "Preconditioned iteration 1\n",
      "  Taking Newton step.\n",
      "Iter 1: f = -9643.84699857\n",
      "Iter 2: f = -9612.43900321\n",
      "-31.407995361792928\n",
      "Iter 3: f = -9612.43900321\n",
      "Shrinking step.\n",
      "Iter 4: f = -9673.37861270\n",
      "29.531614137427823\n",
      "Iter 5: f = -9673.37861270\n",
      "Success.\n",
      "  Running preconditioned optimization.\n",
      "Iter 0: f = -9673.37861270\n",
      "Iter 1: f = -9681.30586351\n",
      "Iter 2: f = -9681.93179274\n",
      "Iter 3: f = -9684.54660526\n",
      "Iter 4: f = -9687.28285437\n",
      "Iter 5: f = -9690.15450859\n",
      "Iter 6: f = -9693.38524928\n",
      "Iter 7: f = -9694.49981266\n",
      "Iter 8: f = -9697.73497208\n",
      "Iter 9: f = -9698.23935535\n",
      "Iter 10: f = -9640.40948460\n",
      "Iter 11: f = -9697.89859607\n",
      "Iter 12: f = -9698.92312415\n",
      "Iter 13: f = -9699.55003148\n",
      "Iter 14: f = -9700.98441101\n",
      "Iter 15: f = -9701.97124792\n",
      "Iter 16: f = -9703.67719401\n",
      "Iter 17: f = -9704.83045291\n",
      "Iter 18: f = -9705.37942643\n",
      "Iter 19: f = -9705.63316417\n",
      "Iter 20: f = -9705.70335513\n",
      "Iter 21: f = -9705.82216974\n",
      "Iter 22: f = -9706.08057544\n",
      "Iter 23: f = -9701.40792587\n",
      "Iter 24: f = -9706.26033641\n",
      "Iter 25: f = -9704.54156425\n",
      "Iter 26: f = -9706.35079336\n",
      "Iter 27: f = -9706.38640446\n",
      "Iter 28: f = -9706.42765323\n",
      "Iter 29: f = -9706.49839056\n",
      "Iter 30: f = -9706.62114117\n",
      "Iter 31: f = -9706.70277252\n",
      "Iter 32: f = -9706.97646260\n",
      "Iter 33: f = -9707.31294028\n",
      "Iter 34: f = -9706.82686970\n",
      "Iter 35: f = -9707.62217800\n",
      "Iter 36: f = -9707.66803180\n",
      "Iter 37: f = -9707.84043197\n",
      "Iter 38: f = -9707.90715027\n",
      "Iter 39: f = -9707.91913434\n",
      "Iter 40: f = -9707.92040075\n",
      "Iter 41: f = -9707.92050788\n",
      "Iter 42: f = -9707.92050884\n",
      "Iter 43: f = -9707.92050885\n",
      "Iter 44: f = -9707.92050885\n",
      "Iter 6: f = -9707.92050885\n",
      "f_diff: 64.07351027824006\n",
      "Preconditioned iteration 2\n",
      "  Getting Hessian and preconditioner.\n",
      "  Taking Newton step.\n",
      "  Converging with small Newton step.\n",
      "Done.\n",
      "Re-optimization time: 63.886101484298706 seconds\n"
     ]
    }
   ],
   "source": [
    "new_alpha = 10.0\n",
    "new_prior_params = deepcopy(prior_params)\n",
    "new_prior_params['probs_alpha'][:] = new_alpha\n",
    "\n",
    "gmm = gmm_lib.GMM(num_components, new_prior_params, reg_params)\n",
    "\n",
    "print('Setting preconditioner...')\n",
    "gmm.get_kl_conditioned.set_preconditioner_with_hessian(\n",
    "    hessian=kl_hess, ev_min=1e-6)\n",
    "print('Done.')\n",
    "\n",
    "init_x = gmm.gmm_params_pattern.flatten(opt_gmm_params, free=True)\n",
    "\n",
    "print('Optimizing...')\n",
    "gmm.conditioned_obj.reset()\n",
    "tic = time.time()\n",
    "gmm_opt, gmm_opt_x = gmm.optimize_fully(\n",
    "    init_x, verbose=True, kl_hess=kl_hess)\n",
    "opt_time = time.time() - tic\n",
    "print('Done.')\n",
    "print('Re-optimization time: {} seconds'.format(opt_time))"
   ]
  },
  {
   "cell_type": "code",
   "execution_count": 4,
   "metadata": {},
   "outputs": [
    {
     "data": {
      "text/plain": [
       "4.724331092199248"
      ]
     },
     "execution_count": 4,
     "metadata": {},
     "output_type": "execute_result"
    },
    {
     "data": {
      "image/png": "[encoded data removed]",
      "text/plain": [
       "<Figure size 432x288 with 1 Axes>"
      ]
     },
     "metadata": {
      "needs_background": "light"
     },
     "output_type": "display_data"
    }
   ],
   "source": [
    "reopt_gmm_params = gmm.gmm_params_pattern.fold(gmm_opt_x, free=True)\n",
    "def comparison_plot(x, y):\n",
    "    plt.plot(x, x, 'r')\n",
    "    plt.plot(x, y, 'k.')\n",
    "    \n",
    "comparison_plot(opt_gmm_params['centroids'], reopt_gmm_params['centroids'])\n",
    "np.max(np.abs((opt_gmm_params['centroids'] - reopt_gmm_params['centroids'])))"
   ]
  },
  {
   "cell_type": "code",
   "execution_count": 5,
   "metadata": {},
   "outputs": [
    {
     "data": {
      "text/plain": [
       "0.999876043931594"
      ]
     },
     "execution_count": 5,
     "metadata": {},
     "output_type": "execute_result"
    },
    {
     "data": {
      "image/png": "[encoded data removed]",
      "text/plain": [
       "<Figure size 432x288 with 1 Axes>"
      ]
     },
     "metadata": {
      "needs_background": "light"
     },
     "output_type": "display_data"
    }
   ],
   "source": [
    "e_z0 = gmm.get_e_z(opt_gmm_params)\n",
    "e_z1 = gmm.get_e_z(reopt_gmm_params)\n",
    "\n",
    "comparison_plot(np.mean(e_z0, axis=0), np.mean(e_z1, axis=0))\n",
    "np.max(np.abs(e_z0 - e_z1))"
   ]
  },
  {
   "cell_type": "code",
   "execution_count": 13,
   "metadata": {},
   "outputs": [
    {
     "name": "stdout",
     "output_type": "stream",
     "text": [
      "Refit e:\t27.539\n",
      "Orig e: \t23.972\n",
      "Difference:\t3.567\n",
      "Sds:\t\t0.0, 0.0\n"
     ]
    }
   ],
   "source": [
    "from bnpmodeling_runjingdev.cluster_quantities_lib import get_e_num_large_clusters_from_ez\n",
    "n_samples = 1000\n",
    "threshold = 1\n",
    "unif_samples = np.random.random((gmm.num_obs, n_samples))\n",
    "\n",
    "e_num0, var_num0 = get_e_num_large_clusters_from_ez(\n",
    "    e_z0,\n",
    "    threshold = threshold,\n",
    "    n_samples = None,\n",
    "    unif_samples = unif_samples)\n",
    "\n",
    "e_num1, var_num1 = get_e_num_large_clusters_from_ez(\n",
    "    e_z1,\n",
    "    threshold = threshold,\n",
    "    n_samples = None,\n",
    "    unif_samples = unif_samples)\n",
    "\n",
    "print('Refit e:\\t{}\\nOrig e: \\t{}\\nDifference:\\t{}\\nSds:\\t\\t{}, {}'.format(\n",
    "    e_num1, e_num0, e_num1 - e_num0, np.std(var_num0), np.std(var_num1)))"
   ]
  },
  {
   "cell_type": "code",
   "execution_count": 23,
   "metadata": {},
   "outputs": [
    {
     "data": {
      "text/plain": [
       "-9767.30114247451"
      ]
     },
     "execution_count": 23,
     "metadata": {},
     "output_type": "execute_result"
    }
   ],
   "source": [
    "get_kl_from_vb_free_prior_free = \\\n",
    "    paragami.FlattenFunctionInput(original_fun=\n",
    "        gmm.get_params_prior_kl,\n",
    "        patterns = [gmm.gmm_params_pattern, prior_params_pattern],\n",
    "        free = [True, True],\n",
    "        argnums = [0, 1])\n",
    "\n",
    "gmm.get_params_prior_kl(opt_gmm_params, prior_params)\n",
    "\n",
    "get_kl_from_vb_free_prior_free(\n",
    "    gmm.gmm_params_pattern.flatten(opt_gmm_params, free=True),\n",
    "    prior_params_pattern.flatten(prior_params, free=True))"
   ]
  },
  {
   "cell_type": "code",
   "execution_count": 45,
   "metadata": {
    "scrolled": false
   },
   "outputs": [
    {
     "name": "stdout",
     "output_type": "stream",
     "text": [
      "linear response Hessian time: 0.008 secs\n"
     ]
    }
   ],
   "source": [
    "taylor_order = 1\n",
    "t0 = time.time()\n",
    "vb_sens = \\\n",
    "    vittles.ParametricSensitivityTaylorExpansion(\n",
    "        objective_function =    get_kl_from_vb_free_prior_free,\n",
    "        input_val0 =            gmm.gmm_params_pattern.flatten(opt_gmm_params, free=True),\n",
    "        hyper_val0 =            prior_params_pattern.flatten(prior_params, free=True),\n",
    "        order =                 taylor_order,\n",
    "        hess0 =                 kl_hess)\n",
    "print('linear response Hessian time: {:.03f} secs'.format(time.time() - t0))"
   ]
  },
  {
   "cell_type": "code",
   "execution_count": 46,
   "metadata": {},
   "outputs": [
    {
     "name": "stdout",
     "output_type": "stream",
     "text": [
      "Orig e: \t23.972\n",
      "Refit e:\t27.539\n",
      "Pred e:\t\t25.566\n",
      "Sds:\t\t0.0, 0.0\n"
     ]
    }
   ],
   "source": [
    "predict_gmm_params = \\\n",
    "    paragami.FoldFunctionInputAndOutput(\n",
    "        original_fun=vb_sens.evaluate_taylor_series,\n",
    "        input_patterns=prior_params_pattern,\n",
    "        input_free=True,\n",
    "        input_argnums=[0],\n",
    "        output_patterns=gmm.gmm_params_pattern,\n",
    "        output_free=True,\n",
    "        output_retnums=[0])\n",
    "\n",
    "pred_gmm_params = predict_gmm_params(new_prior_params)\n",
    "e_z1_pred = gmm.get_e_z(pred_gmm_params)\n",
    "\n",
    "e_num_pred, var_num_pred = get_e_num_large_clusters_from_ez(\n",
    "    e_z1_pred,\n",
    "    threshold = threshold,\n",
    "    n_samples = None,\n",
    "    unif_samples = unif_samples)\n",
    "\n",
    "print('Orig e: \\t{}\\nRefit e:\\t{}\\nPred e:\\t\\t{}\\nSds:\\t\\t{}, {}'.format(\n",
    "    e_num0, e_num1, e_num_pred, np.std(var_num0), np.std(var_num1)))"
   ]
  }
 ],
 "metadata": {
  "kernelspec": {
   "display_name": "bnpgmm_runjingdev",
   "language": "python",
   "name": "bnpgmm_runjingdev"
  },
  "language_info": {
   "codemirror_mode": {
    "name": "ipython",
    "version": 3
   },
   "file_extension": ".py",
   "mimetype": "text/x-python",
   "name": "python",
   "nbconvert_exporter": "python",
   "pygments_lexer": "ipython3",
   "version": "3.5.2"
  }
 },
 "nbformat": 4,
 "nbformat_minor": 2
}
