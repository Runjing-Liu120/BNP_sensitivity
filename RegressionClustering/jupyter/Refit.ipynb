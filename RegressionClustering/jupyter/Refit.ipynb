{
 "cells": [
  {
   "cell_type": "code",
   "execution_count": 1,
   "metadata": {
    "collapsed": true
   },
   "outputs": [],
   "source": [
    "import matplotlib.pyplot as plt\n",
    "%matplotlib inline\n",
    "\n",
    "import numpy as np\n",
    "import inspect\n",
    "import os\n",
    "import sys\n",
    "import time\n",
    "\n",
    "import paragami\n",
    "import vittles\n",
    "\n",
    "from copy import deepcopy\n",
    "\n",
    "import bnpregcluster_runjingdev.regression_mixture_lib as gmm_lib\n",
    "\n",
    "np.random.seed(42) # nothing special about this seed (we hope)!"
   ]
  },
  {
   "cell_type": "code",
   "execution_count": 30,
   "metadata": {},
   "outputs": [],
   "source": [
    "fit_dir = '/home/rgiordan/Documents/git_repos/BNP_sensitivity/RegressionClustering/jupyter/fits'\n",
    "\n",
    "#fitfile = './fits/transformed_gene_regression_df7_degree3_genes700_num_components100_fit.npz'\n",
    "#fitfile = './fits/transformed_gene_regression_df4_degree3_genes700_num_components30_fit.npz' # ok\n",
    "#fitfile = 'fits/transformed_gene_regression_df7_degree3_genes700_num_components30_fit.npz'\n",
    "fitfile = os.path.join(fit_dir, 'transformed_gene_regression_df4_degree3_genes700_num_components30_inflate1.0_shrunkTrue_fit.npz')\n",
    "#fitfile = os.path.join(fit_dir, 'transformed_gene_regression_df4_degree3_genes7000_num_components30_inflate1.0_shrunkTrue_fit.npz')\n",
    "with np.load(fitfile) as infile:\n",
    "    gmm_params_pattern = paragami.get_pattern_from_json(\n",
    "        str(infile['gmm_params_pattern_json']))\n",
    "    opt_gmm_params = gmm_params_pattern.fold(\n",
    "        infile['opt_gmm_params_flat'], free=False)\n",
    "    prior_params_pattern = paragami.get_pattern_from_json(\n",
    "        str(infile['prior_params_pattern_json']))\n",
    "    prior_params = prior_params_pattern.fold(\n",
    "        infile['prior_params_flat'], free=False)\n",
    "    kl_hess = infile['kl_hess']\n",
    "    df = infile['df']\n",
    "    degree = infile['degree']\n",
    "    datafile = str(infile['datafile'])\n",
    "    num_components = int(infile['num_components'])\n",
    "\n",
    "reg_params = dict()\n",
    "with np.load(datafile) as infile:\n",
    "    reg_params['beta_mean'] = infile['transformed_beta_mean']\n",
    "    reg_params['beta_info'] = infile['transformed_beta_info']\n",
    "    inflate_cov = infile.get('inflate_cov', 0)\n",
    "    eb_shrunk = infile.get('eb_shrunk', False)\n",
    "\n",
    "num_genes = reg_params['beta_mean'].shape[0]\n",
    "\n",
    "analysis_name = \\\n",
    "    ('transformed_gene_regression_df{}_degree{}_genes{}_' +\n",
    "     'num_components{}_inflate{}_shrunk{}_refit').format(\n",
    "    df, degree, num_genes, num_components, inflate_cov, eb_shrunk)"
   ]
  },
  {
   "cell_type": "code",
   "execution_count": 3,
   "metadata": {
    "scrolled": false
   },
   "outputs": [
    {
     "name": "stdout",
     "output_type": "stream",
     "text": [
      "Setting preconditioner...\n",
      "Done.\n",
      "Optimizing...\n",
      "Iter 0: f = -14834.23678839\n",
      "Preconditioned iteration 1\n",
      "  Taking Newton step.\n",
      "Iter 1: f = -14834.23678839\n",
      "Iter 2: f = -14838.33653764\n",
      "4.099749249406159\n",
      "Iter 3: f = -14838.33653764\n",
      "Success.\n",
      "  Running preconditioned optimization.\n",
      "Iter 0: f = -14838.33653764\n",
      "Iter 1: f = -14839.10541330\n",
      "Iter 2: f = -14840.04782601\n",
      "Iter 3: f = -14840.87874137\n",
      "Iter 4: f = -14841.33822229\n",
      "Iter 5: f = -14842.06583465\n",
      "Iter 6: f = -14840.63059148\n",
      "Iter 7: f = -14841.86681026\n",
      "Iter 8: f = -14842.16179705\n",
      "Iter 9: f = -14842.24635231\n",
      "Iter 10: f = -14842.45246107\n",
      "Iter 11: f = -14841.64584927\n",
      "Iter 12: f = -14842.55108260\n",
      "Iter 13: f = -14842.64033207\n",
      "Iter 14: f = -14842.76983371\n",
      "Iter 15: f = -14842.91913973\n",
      "Iter 16: f = -14842.95627284\n",
      "Iter 17: f = -14843.14517532\n",
      "Iter 18: f = -14843.22185356\n",
      "Iter 19: f = -14843.29955568\n",
      "Iter 20: f = -14831.80295805\n",
      "Iter 21: f = -14842.58270412\n",
      "Iter 22: f = -14843.29914534\n",
      "Iter 23: f = -14843.39319227\n",
      "Iter 24: f = -14843.37307119\n",
      "Iter 25: f = -14843.45813701\n",
      "Iter 26: f = -14843.47633764\n",
      "Iter 27: f = -14843.51406851\n",
      "Iter 28: f = -14843.56582144\n",
      "Iter 29: f = -14843.61045442\n",
      "Iter 30: f = -14843.61359777\n",
      "Iter 31: f = -14843.63081771\n",
      "Iter 32: f = -14843.65957269\n",
      "Iter 33: f = -14843.71003306\n",
      "Iter 34: f = -14843.73623851\n",
      "Iter 35: f = -14843.83189875\n",
      "Iter 36: f = -14843.81319169\n",
      "Iter 37: f = -14843.81319169\n",
      "Iter 38: f = -14843.86238538\n",
      "Iter 39: f = -14843.86542961\n",
      "Iter 40: f = -14843.88384829\n",
      "Iter 41: f = -14843.92324466\n",
      "Iter 42: f = -14843.94418484\n",
      "Iter 43: f = -14844.00979123\n",
      "Iter 44: f = -14844.03758832\n",
      "Iter 45: f = -14844.14363046\n",
      "Iter 46: f = -14844.17695228\n",
      "Iter 47: f = -14844.18685161\n",
      "Iter 48: f = -14844.28769102\n",
      "Iter 49: f = -14844.35712218\n",
      "Iter 50: f = -14844.36134909\n",
      "Iter 51: f = -14844.37053309\n",
      "Iter 52: f = -14844.43676790\n",
      "Iter 53: f = -14844.44965808\n",
      "Iter 54: f = -14844.46727148\n",
      "Iter 55: f = -14844.47107134\n",
      "Iter 56: f = -14844.49561216\n",
      "Iter 57: f = -14844.51055844\n",
      "Iter 58: f = -14844.01941862\n",
      "Iter 59: f = -14844.01941862\n",
      "Iter 60: f = -14844.01941862\n",
      "Iter 61: f = -14844.47534410\n",
      "Iter 62: f = -14844.52923738\n",
      "Iter 63: f = -14844.52410610\n",
      "Iter 64: f = -14844.53579580\n",
      "Iter 65: f = -14844.53769301\n",
      "Iter 66: f = -14844.53788422\n",
      "Iter 67: f = -14844.53796928\n",
      "Iter 68: f = -14844.53802497\n",
      "Iter 69: f = -14844.53816896\n",
      "Iter 70: f = -14844.53838392\n",
      "Iter 71: f = -14844.53881999\n",
      "Iter 72: f = -14844.53973153\n",
      "Iter 73: f = -14844.54104456\n",
      "Iter 74: f = -14844.54152593\n",
      "Iter 75: f = -14844.54339088\n",
      "Iter 76: f = -14844.54389913\n",
      "Iter 77: f = -14844.54405880\n",
      "Iter 78: f = -14844.52584222\n",
      "Iter 79: f = -14844.54463504\n",
      "Iter 80: f = -14844.54482177\n",
      "Iter 81: f = -14844.54520523\n",
      "Iter 82: f = -14844.54528768\n",
      "Iter 83: f = -14844.54533939\n",
      "Iter 84: f = -14844.54534223\n",
      "Iter 85: f = -14844.54534244\n",
      "Iter 86: f = -14844.54534244\n",
      "Iter 4: f = -14844.54534244\n",
      "f_diff: 10.308554051391184\n",
      "Preconditioned iteration 2\n",
      "  Getting Hessian and preconditioner.\n",
      "  Taking Newton step.\n",
      "Iter 5: f = -14844.54534244\n",
      "Iter 6: f = -14844.54534244\n",
      "-3.637978807091713e-12\n",
      "Iter 7: f = -14844.54534244\n",
      "Shrinking step.\n",
      "Iter 8: f = -14844.54534244\n",
      "-3.637978807091713e-12\n",
      "Iter 9: f = -14844.54534244\n",
      "Shrinking step.\n",
      "Iter 10: f = -14844.54534244\n",
      "-1.8189894035458565e-12\n",
      "Iter 11: f = -14844.54534244\n",
      "Shrinking step.\n",
      "Iter 12: f = -14844.54534244\n",
      "-1.8189894035458565e-12\n",
      "Iter 13: f = -14844.54534244\n",
      "Shrinking step.\n",
      "Iter 14: f = -14844.54534244\n",
      "-1.8189894035458565e-12\n",
      "Iter 15: f = -14844.54534244\n",
      "Shrinking step.\n",
      "Iter 16: f = -14844.54534244\n",
      "-5.4569682106375694e-12\n",
      "Iter 17: f = -14844.54534244\n",
      "Shrinking step.\n",
      "Iter 18: f = -14844.54534244\n",
      "-1.8189894035458565e-12\n",
      "Iter 19: f = -14844.54534244\n",
      "Shrinking step.\n",
      "Under tolerance.\n",
      "  Running preconditioned optimization.\n",
      "Iter 87: f = -14844.54534244\n",
      "Iter 88: f = -14844.54534244\n",
      "Iter 20: f = -14844.54534244\n",
      "x convergence.\n",
      "Done.\n",
      "Re-optimization time: 613.9455845355988 seconds\n"
     ]
    }
   ],
   "source": [
    "new_alpha = 0.01\n",
    "new_prior_params = deepcopy(prior_params)\n",
    "new_prior_params['probs_alpha'][:] = new_alpha\n",
    "\n",
    "gmm = gmm_lib.GMM(num_components, new_prior_params, reg_params)\n",
    "\n",
    "print('Setting preconditioner...')\n",
    "gmm.get_kl_conditioned.set_preconditioner_with_hessian(\n",
    "    hessian=kl_hess, ev_min=1e-6)\n",
    "print('Done.')\n",
    "\n",
    "init_x = gmm.gmm_params_pattern.flatten(opt_gmm_params, free=True)\n",
    "\n",
    "print('Optimizing...')\n",
    "gmm.conditioned_obj.reset()\n",
    "tic = time.time()\n",
    "gmm_opt, gmm_opt_x = gmm.optimize_fully(\n",
    "    init_x, verbose=True, kl_hess=kl_hess)\n",
    "opt_time = time.time() - tic\n",
    "print('Done.')\n",
    "print('Re-optimization time: {} seconds'.format(opt_time))"
   ]
  },
  {
   "cell_type": "code",
   "execution_count": 31,
   "metadata": {},
   "outputs": [
    {
     "name": "stdout",
     "output_type": "stream",
     "text": [
      "Saving to ./fits/transformed_gene_regression_df4_degree3_genes7000_num_components30_inflate1.0_shrunkTrue_refit.npz\n"
     ]
    }
   ],
   "source": [
    "# Save the refit\n",
    "reopt_gmm_params = gmm.gmm_params_pattern.fold(gmm_opt_x, free=True)\n",
    "\n",
    "save_dict = dict()\n",
    "\n",
    "save_dict['input_filename'] = fitfile\n",
    "save_dict['reopt_gmm_params_flat'] = \\\n",
    "    gmm.gmm_params_pattern.flatten(reopt_gmm_params, free=False)\n",
    "save_dict['reopt_time'] = opt_time\n",
    "save_dict['gmm_params_pattern_json'] = gmm.gmm_params_pattern.to_json()\n",
    "save_dict['reopt_kl_hess'] = gmm_opt['kl_hess']\n",
    "save_dict['reopt_prior_params_flat'] = \\\n",
    "    prior_params_pattern.flatten(gmm.prior_params, free=False)\n",
    "save_dict['reopt_prior_params_pattern_json'] = \\\n",
    "    prior_params_pattern.to_json()\n",
    "\n",
    "outfile = './fits/{}.npz'.format(analysis_name)\n",
    "print('Saving to {}'.format(outfile))\n",
    "\n",
    "np.savez_compressed(file=outfile, **save_dict)"
   ]
  },
  {
   "cell_type": "code",
   "execution_count": 32,
   "metadata": {},
   "outputs": [],
   "source": [
    "reopt_gmm_params = gmm.gmm_params_pattern.fold(gmm_opt_x, free=True)"
   ]
  },
  {
   "cell_type": "code",
   "execution_count": 33,
   "metadata": {},
   "outputs": [
    {
     "data": {
      "text/plain": [
       "0.08560380860726025"
      ]
     },
     "execution_count": 33,
     "metadata": {},
     "output_type": "execute_result"
    }
   ],
   "source": [
    "e_z0 = gmm.get_e_z(opt_gmm_params)\n",
    "e_z1 = gmm.get_e_z(reopt_gmm_params)\n",
    "np.max(np.abs(e_z0 - e_z1))"
   ]
  },
  {
   "cell_type": "code",
   "execution_count": 13,
   "metadata": {},
   "outputs": [
    {
     "data": {
      "text/plain": [
       "26.79854993136649"
      ]
     },
     "execution_count": 13,
     "metadata": {},
     "output_type": "execute_result"
    }
   ],
   "source": [
    "from bnpmodeling_runjingdev.cluster_quantities_lib import get_e_num_large_clusters_from_ez\n",
    "from bnpmodeling_runjingdev.cluster_quantities_lib import get_e_number_clusters_from_logit_sticks\n",
    "\n",
    "n_samples = 10000\n",
    "threshold = 1\n",
    "predictive = True\n",
    "\n",
    "unif_samples = None\n",
    "unv_norm_samples = None\n",
    "if not predictive:\n",
    "    unif_samples = np.random.random((gmm.num_obs, n_samples))\n",
    "else:\n",
    "    unv_norm_samples = np.random.normal(\n",
    "        0, 1, size = (n_samples, num_components - 1))\n",
    "\n",
    "def get_posterior_quantity(gmm_params):\n",
    "    if not predictive:\n",
    "        e_z = gmm.get_e_z(gmm_params)\n",
    "        e_num, var_num = get_e_num_large_clusters_from_ez(\n",
    "            e_z,\n",
    "            threshold = threshold,\n",
    "            n_samples = None,\n",
    "            unif_samples = unif_samples)\n",
    "    else:\n",
    "        e_num = \\\n",
    "            get_e_number_clusters_from_logit_sticks(\n",
    "                gmm_params['stick_propn_mean'],\n",
    "                gmm_params['stick_propn_info'],\n",
    "                n_obs = gmm.num_obs,\n",
    "                threshold = threshold,\n",
    "                n_samples = None,\n",
    "                unv_norm_samples = unv_norm_samples)\n",
    "    return e_num\n",
    "\n",
    "get_posterior_quantity(opt_gmm_params)"
   ]
  },
  {
   "cell_type": "code",
   "execution_count": 14,
   "metadata": {},
   "outputs": [
    {
     "name": "stdout",
     "output_type": "stream",
     "text": [
      "Refit e:\t25.034629198397138\n",
      "Orig e: \t26.79854993136649\n",
      "Difference:\t-1.7639207329693534\n",
      "\n"
     ]
    }
   ],
   "source": [
    "e_num0 = get_posterior_quantity(opt_gmm_params)\n",
    "e_num1 = get_posterior_quantity(reopt_gmm_params)\n",
    "print('Refit e:\\t{}\\nOrig e: \\t{}\\nDifference:\\t{}\\n'.format(\n",
    "    e_num1, e_num0, e_num1 - e_num0))"
   ]
  }
 ],
 "metadata": {
  "kernelspec": {
   "display_name": "bnpgmm_runjingdev",
   "language": "python",
   "name": "bnpgmm_runjingdev"
  },
  "language_info": {
   "codemirror_mode": {
    "name": "ipython",
    "version": 3
   },
   "file_extension": ".py",
   "mimetype": "text/x-python",
   "name": "python",
   "nbconvert_exporter": "python",
   "pygments_lexer": "ipython3",
   "version": "3.5.2"
  }
 },
 "nbformat": 4,
 "nbformat_minor": 2
}
