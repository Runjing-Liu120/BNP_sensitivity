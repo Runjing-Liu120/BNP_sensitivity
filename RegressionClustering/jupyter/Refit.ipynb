{
 "cells": [
  {
   "cell_type": "code",
   "execution_count": 1,
   "metadata": {
    "collapsed": true
   },
   "outputs": [],
   "source": [
    "import matplotlib.pyplot as plt\n",
    "%matplotlib inline\n",
    "\n",
    "import numpy as np\n",
    "import inspect\n",
    "import os\n",
    "import sys\n",
    "import time\n",
    "\n",
    "import paragami\n",
    "import vittles\n",
    "\n",
    "from copy import deepcopy\n",
    "\n",
    "import bnpregcluster_runjingdev.regression_mixture_lib as gmm_lib\n",
    "\n",
    "np.random.seed(42) # nothing special about this seed (we hope)!"
   ]
  },
  {
   "cell_type": "code",
   "execution_count": 2,
   "metadata": {},
   "outputs": [
    {
     "name": "stdout",
     "output_type": "stream",
     "text": [
      "(238, 238)\n"
     ]
    }
   ],
   "source": [
    "#fitfile = './fits/transformed_gene_regression_df7_degree3_genes700_num_components100_fit.npz'\n",
    "fitfile = './fits/transformed_gene_regression_df4_degree3_genes700_num_components30_fit.npz'\n",
    "with np.load(fitfile) as infile:\n",
    "    gmm_params_pattern = paragami.get_pattern_from_json(\n",
    "        str(infile['gmm_params_pattern_json']))\n",
    "    opt_gmm_params = gmm_params_pattern.fold(\n",
    "        infile['opt_gmm_params_flat'], free=False)\n",
    "    prior_params_pattern = paragami.get_pattern_from_json(\n",
    "        str(infile['prior_params_pattern_json']))\n",
    "    prior_params = prior_params_pattern.fold(\n",
    "        infile['prior_params_flat'], free=False)\n",
    "    kl_hess = infile['kl_hess']\n",
    "    df = infile['df']\n",
    "    degree = infile['degree']\n",
    "    datafile = str(infile['datafile'])\n",
    "    num_components = int(infile['num_components'])\n",
    "\n",
    "reg_params = dict()\n",
    "with np.load(datafile) as infile:\n",
    "    reg_params['beta_mean'] = infile['transformed_beta_mean']\n",
    "    reg_params['beta_info'] = infile['transformed_beta_info']\n",
    "\n",
    "print(kl_hess.shape)"
   ]
  },
  {
   "cell_type": "code",
   "execution_count": 48,
   "metadata": {
    "scrolled": false
   },
   "outputs": [
    {
     "name": "stdout",
     "output_type": "stream",
     "text": [
      "Setting preconditioner...\n",
      "Done.\n",
      "Optimizing...\n",
      "Iter 0: f = -9712.43263407\n",
      "Preconditioned iteration 1\n",
      "  Taking Newton step.\n",
      "Iter 1: f = -9712.43263407\n",
      "Iter 2: f = -9713.78626992\n",
      "1.3536358525161631\n",
      "Iter 3: f = -9713.78626992\n",
      "Success.\n",
      "  Running preconditioned optimization.\n",
      "Iter 0: f = -9713.78626992\n",
      "Iter 1: f = -9721.91886334\n",
      "Iter 2: f = -9725.47090228\n",
      "Iter 3: f = -9727.49257767\n",
      "Iter 4: f = -9728.06447479\n",
      "Iter 5: f = -9729.26220929\n",
      "Iter 6: f = -9730.12634430\n",
      "Iter 7: f = -9731.23293724\n",
      "Iter 8: f = -9711.17723677\n",
      "Iter 9: f = -9730.85790873\n",
      "Iter 10: f = -9731.86729403\n",
      "Iter 11: f = -9732.91016400\n",
      "Iter 12: f = -9735.10332836\n",
      "Iter 13: f = -9736.27913971\n",
      "Iter 14: f = -9736.55837349\n",
      "Iter 15: f = -9736.64528994\n",
      "Iter 16: f = -9736.66668767\n",
      "Iter 17: f = -9736.67358701\n",
      "Iter 18: f = -9736.67402458\n",
      "Iter 19: f = -9736.67402885\n",
      "Iter 20: f = -9736.67402885\n",
      "Iter 21: f = -9736.67402885\n",
      "Iter 4: f = -9736.67402885\n",
      "f_diff: 24.241394778044196\n",
      "Preconditioned iteration 2\n",
      "  Getting Hessian and preconditioner.\n",
      "  Taking Newton step.\n",
      "  Converging with small Newton step.\n",
      "Done.\n",
      "Re-optimization time: 34.24186563491821 seconds\n"
     ]
    }
   ],
   "source": [
    "new_alpha = 10.0\n",
    "new_prior_params = deepcopy(prior_params)\n",
    "new_prior_params['probs_alpha'][:] = new_alpha\n",
    "\n",
    "gmm = gmm_lib.GMM(num_components, new_prior_params, reg_params)\n",
    "\n",
    "print('Setting preconditioner...')\n",
    "gmm.get_kl_conditioned.set_preconditioner_with_hessian(\n",
    "    hessian=kl_hess, ev_min=1e-6)\n",
    "print('Done.')\n",
    "\n",
    "init_x = gmm.gmm_params_pattern.flatten(opt_gmm_params, free=True)\n",
    "\n",
    "print('Optimizing...')\n",
    "gmm.conditioned_obj.reset()\n",
    "tic = time.time()\n",
    "gmm_opt, gmm_opt_x = gmm.optimize_fully(\n",
    "    init_x, verbose=True, kl_hess=kl_hess)\n",
    "opt_time = time.time() - tic\n",
    "print('Done.')\n",
    "print('Re-optimization time: {} seconds'.format(opt_time))"
   ]
  },
  {
   "cell_type": "code",
   "execution_count": 49,
   "metadata": {},
   "outputs": [
    {
     "data": {
      "text/plain": [
       "4.755394293173791"
      ]
     },
     "execution_count": 49,
     "metadata": {},
     "output_type": "execute_result"
    },
    {
     "data": {
      "image/png": "[encoded data removed]",
      "text/plain": [
       "<Figure size 432x288 with 1 Axes>"
      ]
     },
     "metadata": {
      "needs_background": "light"
     },
     "output_type": "display_data"
    }
   ],
   "source": [
    "reopt_gmm_params = gmm.gmm_params_pattern.fold(gmm_opt_x, free=True)\n",
    "def comparison_plot(x, y):\n",
    "    plt.plot(x, x, 'r')\n",
    "    plt.plot(x, y, 'k.')\n",
    "    \n",
    "comparison_plot(opt_gmm_params['centroids'], reopt_gmm_params['centroids'])\n",
    "np.max(np.abs((opt_gmm_params['centroids'] - reopt_gmm_params['centroids'])))"
   ]
  },
  {
   "cell_type": "code",
   "execution_count": 50,
   "metadata": {},
   "outputs": [
    {
     "data": {
      "text/plain": [
       "0.9998689284474016"
      ]
     },
     "execution_count": 50,
     "metadata": {},
     "output_type": "execute_result"
    },
    {
     "data": {
      "image/png": "[encoded data removed]",
      "text/plain": [
       "<Figure size 432x288 with 1 Axes>"
      ]
     },
     "metadata": {
      "needs_background": "light"
     },
     "output_type": "display_data"
    }
   ],
   "source": [
    "e_z0 = gmm.get_e_z(opt_gmm_params)\n",
    "e_z1 = gmm.get_e_z(reopt_gmm_params)\n",
    "\n",
    "comparison_plot(np.mean(e_z0, axis=0), np.mean(e_z1, axis=0))\n",
    "np.max(np.abs(e_z0 - e_z1))"
   ]
  },
  {
   "cell_type": "code",
   "execution_count": 75,
   "metadata": {},
   "outputs": [
    {
     "name": "stdout",
     "output_type": "stream",
     "text": [
      "Refit e:\t29.3938\n",
      "Orig e: \t27.7505\n",
      "Difference:\t1.6433\n",
      "Sds:\t\t0.0, 0.0\n"
     ]
    }
   ],
   "source": [
    "from bnpmodeling_runjingdev.cluster_quantities_lib import get_e_num_large_clusters_from_ez\n",
    "n_samples = 50000\n",
    "threshold = 0\n",
    "unif_samples = np.random.random((gmm.num_obs, n_samples))\n",
    "\n",
    "e_num0, var_num0 = get_e_num_large_clusters_from_ez(\n",
    "    e_z0,\n",
    "    threshold = threshold,\n",
    "    n_samples = None,\n",
    "    unif_samples = unif_samples)\n",
    "\n",
    "e_num1, var_num1 = get_e_num_large_clusters_from_ez(\n",
    "    e_z1,\n",
    "    threshold = threshold,\n",
    "    n_samples = None,\n",
    "    unif_samples = unif_samples)\n",
    "\n",
    "print('Refit e:\\t{}\\nOrig e: \\t{}\\nDifference:\\t{}\\nSds:\\t\\t{}, {}'.format(\n",
    "    e_num1, e_num0, e_num1 - e_num0, np.std(var_num0), np.std(var_num1)))"
   ]
  },
  {
   "cell_type": "code",
   "execution_count": 76,
   "metadata": {},
   "outputs": [
    {
     "data": {
      "text/plain": [
       "-9767.30114247451"
      ]
     },
     "execution_count": 76,
     "metadata": {},
     "output_type": "execute_result"
    }
   ],
   "source": [
    "prior_free = False\n",
    "\n",
    "get_kl_from_vb_free_prior_free = \\\n",
    "    paragami.FlattenFunctionInput(original_fun=\n",
    "        gmm.get_params_prior_kl,\n",
    "        patterns = [gmm.gmm_params_pattern, prior_params_pattern],\n",
    "        free = [True, prior_free],\n",
    "        argnums = [0, 1])\n",
    "\n",
    "gmm.get_params_prior_kl(opt_gmm_params, prior_params)\n",
    "\n",
    "get_kl_from_vb_free_prior_free(\n",
    "    gmm.gmm_params_pattern.flatten(opt_gmm_params, free=True),\n",
    "    prior_params_pattern.flatten(prior_params, free=prior_free))"
   ]
  },
  {
   "cell_type": "code",
   "execution_count": 77,
   "metadata": {
    "scrolled": false
   },
   "outputs": [
    {
     "name": "stdout",
     "output_type": "stream",
     "text": [
      "linear response Hessian time: 0.007 secs\n"
     ]
    }
   ],
   "source": [
    "taylor_order = 1\n",
    "t0 = time.time()\n",
    "vb_sens = \\\n",
    "    vittles.ParametricSensitivityTaylorExpansion(\n",
    "        objective_function =    get_kl_from_vb_free_prior_free,\n",
    "        input_val0 =            gmm.gmm_params_pattern.flatten(opt_gmm_params, free=True),\n",
    "        hyper_val0 =            prior_params_pattern.flatten(prior_params, free=prior_free),\n",
    "        order =                 taylor_order,\n",
    "        hess0 =                 kl_hess)\n",
    "print('linear response Hessian time: {:.03f} secs'.format(time.time() - t0))"
   ]
  },
  {
   "cell_type": "code",
   "execution_count": 78,
   "metadata": {},
   "outputs": [
    {
     "name": "stdout",
     "output_type": "stream",
     "text": [
      "Orig e: \t27.7505\n",
      "Refit e:\t29.3938\n",
      "Pred e:\t\t28.6638\n",
      "Actual diff:\t1.6433\n",
      "Pred diff:\t0.9133\n"
     ]
    }
   ],
   "source": [
    "predict_gmm_params = \\\n",
    "    paragami.FoldFunctionInputAndOutput(\n",
    "        original_fun=vb_sens.evaluate_taylor_series,\n",
    "        input_patterns=prior_params_pattern,\n",
    "        input_free=prior_free,\n",
    "        input_argnums=[0],\n",
    "        output_patterns=gmm.gmm_params_pattern,\n",
    "        output_free=True,\n",
    "        output_retnums=[0])\n",
    "\n",
    "pred_gmm_params = predict_gmm_params(new_prior_params)\n",
    "e_z1_pred = gmm.get_e_z(pred_gmm_params)\n",
    "\n",
    "e_num_pred, var_num_pred = get_e_num_large_clusters_from_ez(\n",
    "    e_z1_pred,\n",
    "    threshold = threshold,\n",
    "    n_samples = None,\n",
    "    unif_samples = unif_samples)\n",
    "\n",
    "print('Orig e: \\t{}\\nRefit e:\\t{}\\nPred e:\\t\\t{}\\nActual diff:\\t{:0.5}\\nPred diff:\\t{:0.5}'.format(\n",
    "    e_num0, e_num1, e_num_pred,\n",
    "    e_num1 - e_num0,\n",
    "    e_num_pred - e_num0))"
   ]
  }
 ],
 "metadata": {
  "kernelspec": {
   "display_name": "bnpgmm_runjingdev",
   "language": "python",
   "name": "bnpgmm_runjingdev"
  },
  "language_info": {
   "codemirror_mode": {
    "name": "ipython",
    "version": 3
   },
   "file_extension": ".py",
   "mimetype": "text/x-python",
   "name": "python",
   "nbconvert_exporter": "python",
   "pygments_lexer": "ipython3",
   "version": "3.5.2"
  }
 },
 "nbformat": 4,
 "nbformat_minor": 2
}
