{
 "cells": [
  {
   "cell_type": "code",
   "execution_count": 18,
   "metadata": {
    "collapsed": true
   },
   "outputs": [],
   "source": [
    "import matplotlib.pyplot as plt\n",
    "%matplotlib inline\n",
    "\n",
    "import numpy as np\n",
    "import inspect\n",
    "import os\n",
    "import sys\n",
    "import time\n",
    "\n",
    "import paragami\n",
    "from copy import deepcopy\n",
    "\n",
    "import bnpregcluster_runjingdev.regression_mixture_lib as gmm_lib\n",
    "\n",
    "np.random.seed(42) # nothing special about this seed (we hope)!"
   ]
  },
  {
   "cell_type": "code",
   "execution_count": 19,
   "metadata": {},
   "outputs": [],
   "source": [
    "fitfile = './fits/transformed_gene_regression_df7_degree3_genes700_num_components30_fit.npz'\n",
    "with np.load(fitfile) as infile:\n",
    "    gmm_params_pattern = paragami.get_pattern_from_json(\n",
    "        str(infile['gmm_params_pattern_json']))\n",
    "    opt_gmm_params = gmm_params_pattern.fold(\n",
    "        infile['opt_gmm_params_flat'], free=False)\n",
    "    prior_params_pattern = paragami.get_pattern_from_json(\n",
    "        str(infile['prior_params_pattern_json']))\n",
    "    prior_params = prior_params_pattern.fold(\n",
    "        infile['prior_params_flat'], free=False)\n",
    "    kl_hess = infile['kl_hess']\n",
    "    df = infile['df']\n",
    "    degree = infile['degree']\n",
    "    datafile = str(infile['datafile'])\n",
    "    num_components = int(infile['num_components'])\n",
    "\n",
    "reg_params = dict()\n",
    "with np.load(datafile) as infile:\n",
    "    reg_params['beta_mean'] = infile['transformed_beta_mean']\n",
    "    reg_params['beta_info'] = infile['transformed_beta_info']\n"
   ]
  },
  {
   "cell_type": "code",
   "execution_count": 57,
   "metadata": {},
   "outputs": [
    {
     "name": "stdout",
     "output_type": "stream",
     "text": [
      "Preconditioned iteration 1\n",
      "  Running preconditioned optimization.\n",
      "Iter 0: f = -114045.89052143\n",
      "Iter 1: f = -114083.84080736\n",
      "Iter 2: f = -114148.56393569\n",
      "Iter 3: f = -114236.77996342\n",
      "Iter 4: f = -114300.60950303\n",
      "Iter 5: f = -114311.19210645\n",
      "Iter 6: f = -114311.45338069\n",
      "Iter 7: f = -114311.46465097\n",
      "Iter 8: f = -114311.46536058\n",
      "Iter 9: f = -114311.46536143\n",
      "Iter 10: f = -114311.46536143\n",
      "Preconditioned iteration 2\n",
      "  Getting Hessian and preconditioner.\n",
      "  Running preconditioned optimization.\n",
      "Iter 11: f = -114311.46536143\n",
      "Converged.\n",
      "Re-optimization time: 25.363305807113647 seconds\n"
     ]
    }
   ],
   "source": [
    "new_alpha = 200.0\n",
    "prior_params['probs_alpha'][:] = new_alpha\n",
    "\n",
    "gmm = gmm_lib.GMM(num_components, prior_params, reg_params)\n",
    "\n",
    "gmm.get_kl_conditioned.set_preconditioner_with_hessian(\n",
    "    hessian=kl_hess, ev_min=1e-6)\n",
    "\n",
    "init_x = gmm.gmm_params_pattern.flatten(opt_gmm_params, free=True)\n",
    "\n",
    "gmm.conditioned_obj.reset()\n",
    "tic = time.time()\n",
    "gmm_opt, gmm_opt_x = gmm.optimize_fully(\n",
    "    init_x, verbose=True)\n",
    "opt_time = time.time() - tic\n",
    "print('Re-optimization time: {} seconds'.format(opt_time))"
   ]
  },
  {
   "cell_type": "code",
   "execution_count": 58,
   "metadata": {},
   "outputs": [
    {
     "data": {
      "text/plain": [
       "0.11276501271549932"
      ]
     },
     "execution_count": 58,
     "metadata": {},
     "output_type": "execute_result"
    },
    {
     "data": {
      "image/png": "[encoded data removed]",
      "text/plain": [
       "<Figure size 432x288 with 1 Axes>"
      ]
     },
     "metadata": {
      "needs_background": "light"
     },
     "output_type": "display_data"
    }
   ],
   "source": [
    "reopt_gmm_params = gmm.gmm_params_pattern.fold(gmm_opt_x, free=True)\n",
    "def comparison_plot(x, y):\n",
    "    plt.plot(x, x, 'r')\n",
    "    plt.plot(x, y, 'k.')\n",
    "    \n",
    "comparison_plot(opt_gmm_params['centroids'], reopt_gmm_params['centroids'])\n",
    "np.max(np.abs((opt_gmm_params['centroids'] - reopt_gmm_params['centroids'])))"
   ]
  },
  {
   "cell_type": "code",
   "execution_count": 59,
   "metadata": {},
   "outputs": [
    {
     "data": {
      "text/plain": [
       "0.992918507988649"
      ]
     },
     "execution_count": 59,
     "metadata": {},
     "output_type": "execute_result"
    },
    {
     "data": {
      "image/png": "[encoded data removed]",
      "text/plain": [
       "<Figure size 432x288 with 1 Axes>"
      ]
     },
     "metadata": {
      "needs_background": "light"
     },
     "output_type": "display_data"
    }
   ],
   "source": [
    "e_z0 = gmm.get_e_z(opt_gmm_params)\n",
    "e_z1 = gmm.get_e_z(reopt_gmm_params)\n",
    "\n",
    "comparison_plot(np.mean(e_z0, axis=0), np.mean(e_z1, axis=0))\n",
    "np.max(np.abs(e_z0 - e_z1))"
   ]
  },
  {
   "cell_type": "code",
   "execution_count": 64,
   "metadata": {},
   "outputs": [
    {
     "name": "stdout",
     "output_type": "stream",
     "text": [
      "27.0 27.0 0.0 0.0 0.0\n"
     ]
    }
   ],
   "source": [
    "from bnpmodeling_runjingdev.cluster_quantities_lib import get_e_num_large_clusters_from_ez\n",
    "n_samples = 1000\n",
    "threshold = 5\n",
    "unif_samples = np.random.random((gmm.num_obs, n_samples))\n",
    "\n",
    "e_num0, var_num0 = get_e_num_large_clusters_from_ez(\n",
    "    e_z0,\n",
    "    threshold = threshold,\n",
    "    n_samples = None,\n",
    "    unif_samples = unif_samples)\n",
    "\n",
    "e_num1, var_num1 = get_e_num_large_clusters_from_ez(\n",
    "    e_z1,\n",
    "    threshold = threshold,\n",
    "    n_samples = None,\n",
    "    unif_samples = unif_samples)\n",
    "\n",
    "print(e_num1, e_num0, e_num1 - e_num0, np.std(var_num0), np.std(var_num1))"
   ]
  }
 ],
 "metadata": {
  "kernelspec": {
   "display_name": "bnpgmm_runjingdev",
   "language": "python",
   "name": "bnpgmm_runjingdev"
  },
  "language_info": {
   "codemirror_mode": {
    "name": "ipython",
    "version": 3
   },
   "file_extension": ".py",
   "mimetype": "text/x-python",
   "name": "python",
   "nbconvert_exporter": "python",
   "pygments_lexer": "ipython3",
   "version": "3.5.2"
  }
 },
 "nbformat": 4,
 "nbformat_minor": 2
}
