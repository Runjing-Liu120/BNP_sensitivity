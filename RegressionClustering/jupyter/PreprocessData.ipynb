{
 "cells": [
  {
   "cell_type": "code",
   "execution_count": 1,
   "metadata": {},
   "outputs": [],
   "source": [
    "import matplotlib.pyplot as plt\n",
    "%matplotlib inline\n",
    "\n",
    "import autograd.numpy as np\n",
    "import autograd.scipy as sp\n",
    "import inspect\n",
    "import os\n",
    "import sys\n",
    "import time\n",
    "\n",
    "import paragami\n",
    "\n",
    "from copy import deepcopy\n",
    "\n",
    "import bnpregcluster_runjingdev.regression_mixture_lib as gmm_lib\n",
    "\n",
    "import emfathy\n",
    "\n",
    "np.random.seed(42) # nothing special about this seed (we hope)!"
   ]
  },
  {
   "cell_type": "code",
   "execution_count": 2,
   "metadata": {},
   "outputs": [
    {
     "name": "stdout",
     "output_type": "stream",
     "text": [
      "(700, 9, 9) (700, 9)\n"
     ]
    }
   ],
   "source": [
    "orig_reg_params = dict()\n",
    "reg_params = dict()\n",
    "#datafile = 'fits/transformed_gene_regression_df7_degree3_genes10000.npz'\n",
    "datafile = 'fits/transformed_gene_regression_df7_degree3_genes1000.npz'\n",
    "with np.load(datafile) as infile:\n",
    "    reg_params['y_info'] = infile['y_info']\n",
    "    reg_params['beta_mean'] = infile['transformed_beta_mean']\n",
    "    reg_params['beta_info'] = infile['transformed_beta_info']\n",
    "    orig_reg_params['beta_mean'] = infile['beta_mean']\n",
    "    orig_reg_params['beta_info'] = infile['beta_info']\n",
    "    df = infile['df']\n",
    "    degree = infile['degree']\n",
    "\n",
    "    x_train = infile['x']\n",
    "    y_train = infile['y_train']\n",
    "\n",
    "num_genes = reg_params['beta_mean'].shape[0]\n",
    "obs_dim = reg_params['beta_mean'].shape[1]\n",
    "\n",
    "num_components = 100\n",
    "\n",
    "analysis_name = 'transformed_gene_regression_df{}_degree{}_genes{}_num_components{}_fit'.format(\n",
    "    df, degree, num_genes, num_components)\n",
    "print(reg_params['beta_info'].shape, reg_params['beta_mean'].shape)"
   ]
  },
  {
   "cell_type": "code",
   "execution_count": 3,
   "metadata": {},
   "outputs": [
    {
     "name": "stdout",
     "output_type": "stream",
     "text": [
      "(42, 10) (700, 10) (700, 42) (700,)\n"
     ]
    },
    {
     "data": {
      "text/plain": [
       "-2955.9225238187228"
      ]
     },
     "execution_count": 3,
     "metadata": {},
     "output_type": "execute_result"
    }
   ],
   "source": [
    "# Shrink the y_info with empirical bayes.\n",
    "\n",
    "e_tau = reg_params['y_info']\n",
    "e_log_tau = np.log(reg_params['y_info'])\n",
    "resid = y_train - np.einsum('ti,ni->nt', x_train, orig_reg_params['beta_mean'])\n",
    "print(x_train.shape, orig_reg_params['beta_mean'].shape, resid.shape, e_log_tau.shape)\n",
    "\n",
    "\n",
    "def get_hierarchical_gamma_log_prob(gamma, log_gamma, gamma_shape, gamma_rate):\n",
    "    # These can cause numerical difficulties, so separate them out\n",
    "    # for easier debugging.\n",
    "    t1 = gamma_shape * np.log(gamma_rate)\n",
    "    t2 = sp.special.gammaln(gamma_shape)\n",
    "    t3 = (gamma_shape - 1) * log_gamma\n",
    "    t4 = gamma_rate * gamma\n",
    "    return np.sum(t1 - t2 + t3 - t4)\n",
    "\n",
    "\n",
    "def get_regression_log_lik(e_tau, e_log_tau, resid, prior_shape, prior_rate):\n",
    "    log_lik_by_nt = \\\n",
    "        -0.5 * e_tau[:, None] * (resid ** 2) + 0.5 * e_log_tau[:, None]\n",
    "    \n",
    "    return \\\n",
    "        np.sum(log_lik_by_nt) + \\\n",
    "        np.sum(get_hierarchical_gamma_log_prob(e_tau, e_log_tau, prior_shape, prior_rate))\n",
    "\n",
    "\n",
    "prior_shape = 3.0\n",
    "prior_rate = 4.0\n",
    "\n",
    "get_regression_log_lik(e_tau, e_log_tau, resid, prior_shape, prior_rate)"
   ]
  },
  {
   "cell_type": "code",
   "execution_count": 4,
   "metadata": {},
   "outputs": [
    {
     "data": {
      "text/plain": [
       "-2955.9225238187228"
      ]
     },
     "execution_count": 4,
     "metadata": {},
     "output_type": "execute_result"
    }
   ],
   "source": [
    "gamma_prior_pattern = paragami.PatternDict()\n",
    "gamma_prior_pattern['shape'] = paragami.NumericScalarPattern(lb=0.)\n",
    "gamma_prior_pattern['rate'] = paragami.NumericScalarPattern(lb=0.)\n",
    "\n",
    "gamma_prior = {'shape': 3.0, 'rate': 4.0}\n",
    "gamma_prior_pattern.validate_folded(gamma_prior)\n",
    "def wrap_get_regression_log_lik(e_tau, e_log_tau, gamma_prior):\n",
    "    return get_regression_log_lik(\n",
    "        e_tau, e_log_tau, resid, gamma_prior['shape'], gamma_prior['rate'])\n",
    "\n",
    "wrap_get_regression_log_lik(e_tau, e_log_tau, gamma_prior)"
   ]
  },
  {
   "cell_type": "code",
   "execution_count": 5,
   "metadata": {},
   "outputs": [],
   "source": [
    "get_marginal_objective, \\\n",
    "get_gamma_natural_parameters, \\\n",
    "get_gamma_all_parameters, \\\n",
    "get_gamma_entropy_and_parameters = \\\n",
    "    emfathy.em_gamma_lib.get_gamma_e_step_funs(\n",
    "        wrap_get_regression_log_lik, e_tau.shape)\n"
   ]
  },
  {
   "cell_type": "code",
   "execution_count": 6,
   "metadata": {
    "scrolled": false
   },
   "outputs": [
    {
     "data": {
      "text/plain": [
       "3760.2729364762945"
      ]
     },
     "execution_count": 6,
     "metadata": {},
     "output_type": "execute_result"
    }
   ],
   "source": [
    "get_marginal_objective(gamma_prior)"
   ]
  },
  {
   "cell_type": "code",
   "execution_count": 17,
   "metadata": {
    "scrolled": false
   },
   "outputs": [
    {
     "data": {
      "text/plain": [
       "array([[-374.6819855 , -512.11389387],\n",
       "       [-512.11389387, 2665.19239934]])"
      ]
     },
     "execution_count": 17,
     "metadata": {},
     "output_type": "execute_result"
    }
   ],
   "source": [
    "opt_obj = paragami.OptimizationObjective(\n",
    "    paragami.FlattenFunctionInput(\n",
    "        lambda x: -1 * get_marginal_objective(x), free=True, patterns=gamma_prior_pattern))\n",
    "init_x = np.zeros(gamma_prior_pattern.flat_length(free=True))\n",
    "opt_obj.hessian(init_x)"
   ]
  },
  {
   "cell_type": "code",
   "execution_count": 19,
   "metadata": {
    "scrolled": false
   },
   "outputs": [
    {
     "name": "stdout",
     "output_type": "stream",
     "text": [
      "Iter 9: f = -8486.41144768\n",
      "Iter 10: f = -11017.78083045\n",
      "Iter 11: f = -11441.94458017\n",
      "Iter 12: f = -11451.46275543\n",
      "Iter 13: f = -11461.23464116\n",
      "Iter 14: f = -11461.28646763\n",
      "Iter 15: f = -11461.28647017\n",
      "Iter 16: f = -11461.28647275\n",
      "Iter 17: f = -11461.28647275\n"
     ]
    }
   ],
   "source": [
    "import scipy as osp\n",
    "gamma_prior_opt_result = osp.optimize.minimize(\n",
    "    opt_obj.f,\n",
    "    x0=init_x,\n",
    "    jac=opt_obj.grad,\n",
    "    hess=opt_obj.hessian,\n",
    "    method='trust-ncg',\n",
    "    options={'maxiter': 1000, 'gtol': 1e-8})\n",
    "gamma_prior_opt = gamma_prior_pattern.fold(gamma_prior_opt_result.x, free=True)"
   ]
  },
  {
   "cell_type": "code",
   "execution_count": 31,
   "metadata": {},
   "outputs": [
    {
     "name": "stdout",
     "output_type": "stream",
     "text": [
      "8.83481316370257 7.114460484313407\n",
      "6.874650438283842 6.358081312040698\n",
      "1.846376598913506 1.5986678074719884\n"
     ]
    }
   ],
   "source": [
    "# Sanity check the moments.\n",
    "\n",
    "opt_e_tau, opt_e_log_tau = \\\n",
    "    emfathy.em_gamma_lib.get_gamma_moments_from_standard(\n",
    "        gamma_prior_opt['shape'], gamma_prior_opt['rate'])\n",
    "print(opt_e_tau[0],\n",
    "      np.mean(reg_params['y_info']))\n",
    "\n",
    "print(np.sqrt(gamma_prior_opt['shape'][0]) / gamma_prior_opt['rate'][0],\n",
    "      np.std(reg_params['y_info']))\n",
    "\n",
    "print(opt_e_log_tau[0],\n",
    "      np.mean(np.log(reg_params['y_info'])))"
   ]
  },
  {
   "cell_type": "markdown",
   "metadata": {},
   "source": [
    "We are effectively shrinking the information quite a lot."
   ]
  },
  {
   "cell_type": "code",
   "execution_count": 53,
   "metadata": {},
   "outputs": [
    {
     "data": {
      "image/png": "[encoded data removed]",
      "text/plain": [
       "<Figure size 432x288 with 1 Axes>"
      ]
     },
     "metadata": {
      "needs_background": "light"
     },
     "output_type": "display_data"
    },
    {
     "data": {
      "image/png": "[encoded data removed]",
      "text/plain": [
       "<Figure size 432x288 with 1 Axes>"
      ]
     },
     "metadata": {
      "needs_background": "light"
     },
     "output_type": "display_data"
    }
   ],
   "source": [
    "def comparison_plot(x, y):\n",
    "    plt.plot(x, x, 'r')\n",
    "    plt.plot(x, y, 'k.')\n",
    "\n",
    "opt_e_tau, opt_e_log_tau, tau_nat1, tau_nat2 = get_gamma_all_parameters(gamma_prior)\n",
    "plt.figure()\n",
    "comparison_plot(reg_params['y_info'], opt_e_tau)\n",
    "plt.figure()\n",
    "comparison_plot(np.log(reg_params['y_info']), opt_e_log_tau)"
   ]
  },
  {
   "cell_type": "code",
   "execution_count": 47,
   "metadata": {
    "scrolled": false
   },
   "outputs": [
    {
     "data": {
      "image/png": "[encoded data removed]",
      "text/plain": [
       "<Figure size 432x288 with 1 Axes>"
      ]
     },
     "metadata": {
      "needs_background": "light"
     },
     "output_type": "display_data"
    },
    {
     "data": {
      "image/png": "[encoded data removed]",
      "text/plain": [
       "<Figure size 432x288 with 1 Axes>"
      ]
     },
     "metadata": {
      "needs_background": "light"
     },
     "output_type": "display_data"
    }
   ],
   "source": [
    "plt.figure()\n",
    "plt.plot(reg_params['y_info'], tau_nat1, 'k.')\n",
    "plt.figure()\n",
    "plt.plot(np.sum(resid ** 2, axis=1), tau_nat1, 'k.');"
   ]
  },
  {
   "cell_type": "code",
   "execution_count": 56,
   "metadata": {},
   "outputs": [],
   "source": [
    "new_datafile = 'fits/shrunken_transformed_gene_regression_df7_degree3_genes1000.npz'\n",
    "datafile = 'fits/transformed_gene_regression_df7_degree3_genes1000.npz'\n",
    "new_save_dict = dict()\n",
    "with np.load(datafile) as infile:\n",
    "    for k in infile.keys():\n",
    "        new_save_dict[k] = infile[k]\n",
    "        \n",
    "new_save_dict['y_info'] = opt_e_tau\n",
    "shrink_factor = opt_e_tau / reg_params['y_info']\n",
    "new_save_dict['beta_info'] = reg_params['beta_info'] * shrink_factor[:, None, None]\n",
    "np.savez_compressed(new_datafile, **new_save_dict)"
   ]
  }
 ],
 "metadata": {
  "kernelspec": {
   "display_name": "bnpregcluster_runjingdev",
   "language": "python",
   "name": "bnpregcluster_runjingdev"
  },
  "language_info": {
   "codemirror_mode": {
    "name": "ipython",
    "version": 3
   },
   "file_extension": ".py",
   "mimetype": "text/x-python",
   "name": "python",
   "nbconvert_exporter": "python",
   "pygments_lexer": "ipython3",
   "version": "3.5.2"
  }
 },
 "nbformat": 4,
 "nbformat_minor": 2
}
