{
 "cells": [
  {
   "cell_type": "code",
   "execution_count": 1,
   "metadata": {
    "collapsed": true
   },
   "outputs": [],
   "source": [
    "import scipy as sp\n",
    "import autograd.numpy as np\n",
    "import paragami"
   ]
  },
  {
   "cell_type": "code",
   "execution_count": 9,
   "metadata": {},
   "outputs": [
    {
     "name": "stdout",
     "output_type": "stream",
     "text": [
      "-93.13331480588054\n"
     ]
    },
    {
     "data": {
      "text/plain": [
       "array([ -9.15833595,  -6.64285125,  -5.99945141, -12.42998313,\n",
       "        -8.82665313, -10.85587338,  -5.97611524,  -6.49853518,\n",
       "        -4.22795008,  -6.15199053,  -5.6396745 ,  -1.09921308,\n",
       "        -2.60652566,  -0.34310095,  -4.56072   ,  -1.84362462,\n",
       "       -10.17977098, -11.65544868,  -2.29862495, -11.54221096,\n",
       "        -5.47060855,  -4.1736651 ,  -8.38747245,  -4.00136218,\n",
       "        -6.84830917, -12.93062748,  -7.82665671,  -9.39740931,\n",
       "        -2.4327334 ,  -5.05006741,  -0.97380871, -10.04150009,\n",
       "       -11.37886295,  -3.10227858, -13.20780752,  -5.0321368 ,\n",
       "        -6.70238647,  -7.20615517,  -6.59698714,  -2.96441339,\n",
       "       -12.18194419,  -6.85942953,  -6.06675764,  -2.24144851,\n",
       "        -4.16610492, -13.5130723 ,  -1.31698352, -12.56396806,\n",
       "        -6.58951243,  -4.98858658])"
      ]
     },
     "execution_count": 9,
     "metadata": {},
     "output_type": "execute_result"
    }
   ],
   "source": [
    "dim = 50\n",
    "a = np.random.random(50)\n",
    "a_mat = np.outer(a, a) + np.eye(dim)\n",
    "\n",
    "def f(x):\n",
    "    return -0.5 * np.einsum('i,ij,j', x, a_mat, x)\n",
    "\n",
    "x = np.random.random(dim)\n",
    "print(f(x))\n",
    "\n",
    "obj = paragami.OptimizationObjective(f)\n",
    "obj.grad(x)"
   ]
  },
  {
   "cell_type": "code",
   "execution_count": 19,
   "metadata": {},
   "outputs": [
    {
     "name": "stdout",
     "output_type": "stream",
     "text": [
      "Minimization of scalar function of one or more variables using\n",
      "the Newton conjugate gradient trust-region algorithm.\n",
      "\n",
      "Options\n",
      "-------\n",
      "initial_trust_radius : float\n",
      "    Initial trust-region radius.\n",
      "max_trust_radius : float\n",
      "    Maximum value of the trust-region radius. No steps that are longer\n",
      "    than this value will be proposed.\n",
      "eta : float\n",
      "    Trust region related acceptance stringency for proposed steps.\n",
      "gtol : float\n",
      "    Gradient norm must be less than `gtol` before successful\n",
      "    termination.\n"
     ]
    }
   ],
   "source": [
    "sp.optimize.show_options('minimize', 'trust-ncg')"
   ]
  },
  {
   "cell_type": "code",
   "execution_count": 18,
   "metadata": {
    "scrolled": false
   },
   "outputs": [
    {
     "name": "stdout",
     "output_type": "stream",
     "text": [
      "Iter 0: f = -93.13331481\n",
      "Iter 1: f = -154.66307205\n",
      "callback 4.99028300244126\n",
      "Iter 2: f = -325.28343192\n",
      "callback 6.835013935793213\n",
      "Iter 3: f = -856.87929189\n",
      "callback 10.68459400075289\n",
      "Iter 4: f = -2681.77045759\n",
      "callback 18.566446584374543\n",
      "Iter 5: f = -9378.87811991\n",
      "callback 34.486441099398974\n",
      "Iter 6: f = -34963.20505215\n",
      "callback 66.43679780163669\n",
      "Iter 7: f = -134893.39148374\n",
      "callback 130.4073932373902\n",
      "Iter 8: f = -529801.23848815\n",
      "callback 258.3903833008096\n",
      "Iter 9: f = -2099808.42046180\n",
      "callback 514.3806591621659\n",
      "Iter 10: f = -8360590.57787198\n",
      "callback 1026.3751328271408\n"
     ]
    }
   ],
   "source": [
    "def tr_callback(x):\n",
    "    print('callback', np.linalg.norm(x))\n",
    "    return False\n",
    "\n",
    "obj.reset()\n",
    "opt = sp.optimize.minimize(\n",
    "    obj.f,\n",
    "    x0=x,\n",
    "    jac=obj.grad,\n",
    "    hessp=obj.hessian_vector_product,\n",
    "    method='trust-ncg',\n",
    "    options={'maxiter': 10, 'gtol': 1e-10},\n",
    "    callback=tr_callback)\n"
   ]
  }
 ],
 "metadata": {
  "kernelspec": {
   "display_name": "bnpregcluster_runjingdev",
   "language": "python",
   "name": "bnpregcluster_runjingdev"
  },
  "language_info": {
   "codemirror_mode": {
    "name": "ipython",
    "version": 3
   },
   "file_extension": ".py",
   "mimetype": "text/x-python",
   "name": "python",
   "nbconvert_exporter": "python",
   "pygments_lexer": "ipython3",
   "version": "3.5.2"
  }
 },
 "nbformat": 4,
 "nbformat_minor": 2
}
