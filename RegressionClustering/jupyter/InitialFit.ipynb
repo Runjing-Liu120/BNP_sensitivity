{
 "cells": [
  {
   "cell_type": "code",
   "execution_count": 1,
   "metadata": {
    "collapsed": true
   },
   "outputs": [],
   "source": [
    "import matplotlib.pyplot as plt\n",
    "%matplotlib inline\n",
    "\n",
    "import numpy as np\n",
    "import scipy as sp\n",
    "import inspect\n",
    "import os\n",
    "import sys\n",
    "import time\n",
    "\n",
    "import paragami\n",
    "\n",
    "from copy import deepcopy\n",
    "\n",
    "import bnpregcluster_runjingdev.regression_mixture_lib as gmm_lib\n",
    "\n",
    "np.random.seed(42) # nothing special about this seed (we hope)!"
   ]
  },
  {
   "cell_type": "code",
   "execution_count": 2,
   "metadata": {},
   "outputs": [],
   "source": [
    "reg_params = dict()\n",
    "fit_dir = '/home/rgiordan/Documents/git_repos/BNP_sensitivity/RegressionClustering/jupyter/fits'\n",
    "datafile = os.path.join(fit_dir, 'shrunken_transformed_gene_regression_df4_degree3_genes1000_inflate1.0.npz')\n",
    "#datafile = os.path.join(fit_dir, 'shrunken_transformed_gene_regression_df4_degree3_genes10000_inflate1.0.npz')\n",
    "with np.load(datafile) as infile:\n",
    "    reg_params['y_info'] = infile['y_info']\n",
    "    reg_params['beta_mean'] = infile['transformed_beta_mean']\n",
    "    reg_params['beta_info'] = infile['transformed_beta_info']\n",
    "    df = infile['df']\n",
    "    degree = infile['degree']\n",
    "    inflate_cov = infile.get('inflate_cov', 0)\n",
    "    eb_shrunk = infile.get('eb_shrunk', False)\n",
    "\n",
    "    \n",
    "num_genes = reg_params['beta_mean'].shape[0]\n",
    "obs_dim = reg_params['beta_mean'].shape[1]\n",
    "\n",
    "num_components = 30\n",
    "\n",
    "analysis_name = 'transformed_gene_regression_df{}_degree{}_genes{}_num_components{}_inflate{}_shrunk{}_fit'.format(\n",
    "    df, degree, num_genes, num_components, inflate_cov, eb_shrunk)"
   ]
  },
  {
   "cell_type": "code",
   "execution_count": 3,
   "metadata": {},
   "outputs": [
    {
     "data": {
      "image/png": "[encoded data removed]",
      "text/plain": [
       "<Figure size 432x288 with 1 Axes>"
      ]
     },
     "metadata": {
      "needs_background": "light"
     },
     "output_type": "display_data"
    }
   ],
   "source": [
    "plt.hist(reg_params['y_info']);"
   ]
  },
  {
   "cell_type": "code",
   "execution_count": 18,
   "metadata": {},
   "outputs": [],
   "source": [
    "prior_params = gmm_lib.get_base_prior_params(obs_dim, num_components)\n",
    "prior_params['probs_alpha'][:] = 2.0\n",
    "\n",
    "prior_params_pattern = gmm_lib.get_prior_params_pattern(obs_dim, num_components)\n",
    "prior_params_pattern.validate_folded(prior_params)\n",
    "gmm = gmm_lib.GMM(num_components, prior_params, reg_params)"
   ]
  },
  {
   "cell_type": "code",
   "execution_count": 5,
   "metadata": {},
   "outputs": [
    {
     "name": "stdout",
     "output_type": "stream",
     "text": [
      "Running k-means init.\n",
      "Done.\n"
     ]
    }
   ],
   "source": [
    "print('Running k-means init.')\n",
    "kmeans_params = \\\n",
    "    gmm_lib.kmeans_init(gmm.reg_params,\n",
    "                        gmm.num_components, 50)\n",
    "print('Done.')\n",
    "init_gmm_params = dict()\n",
    "init_gmm_params['centroids'] = kmeans_params['centroids']\n",
    "init_gmm_params['stick_propn_mean'] = np.zeros(gmm.num_components - 1)\n",
    "init_gmm_params['stick_propn_info'] = np.ones(gmm.num_components - 1)\n",
    "\n",
    "init_x = gmm.gmm_params_pattern.flatten(init_gmm_params, free=True)"
   ]
  },
  {
   "cell_type": "code",
   "execution_count": 6,
   "metadata": {
    "scrolled": false
   },
   "outputs": [
    {
     "name": "stdout",
     "output_type": "stream",
     "text": [
      "Iter 0: f = -41915.85540242\n",
      "Iter 1: f = -42484.17710191\n",
      "Iter 2: f = -43219.78577055\n",
      "Iter 3: f = -43838.85129290\n",
      "Iter 4: f = -43886.57479762\n",
      "Iter 5: f = -44052.34069208\n",
      "Iter 6: f = -44382.73696956\n",
      "Iter 7: f = -44104.69190494\n",
      "Iter 8: f = -44509.45273705\n",
      "Iter 9: f = -44625.87735479\n",
      "Iter 10: f = -43996.58083203\n",
      "Iter 11: f = -44668.64713481\n",
      "Iter 12: f = -44695.66035031\n",
      "Iter 13: f = -44712.47980082\n",
      "Iter 14: f = -44704.96239020\n",
      "Iter 15: f = -44722.43780852\n",
      "Iter 16: f = -44729.25743395\n",
      "Iter 17: f = -44738.22951307\n",
      "Iter 18: f = -44740.23999910\n",
      "Iter 19: f = -44715.28449720\n",
      "Iter 20: f = -44742.72565531\n",
      "Iter 21: f = -44707.90892957\n",
      "Iter 22: f = -44744.46733066\n",
      "Iter 23: f = -44747.96115883\n",
      "Iter 24: f = -44750.05369693\n",
      "Iter 25: f = -44736.16173060\n",
      "Iter 26: f = -44752.41920811\n",
      "Iter 27: f = -44751.80468410\n",
      "Iter 28: f = -44753.34979321\n",
      "Iter 29: f = -44753.91065508\n",
      "Iter 30: f = -44754.66391597\n",
      "Iter 31: f = -44750.19384892\n",
      "Iter 32: f = -44755.06718830\n",
      "Iter 33: f = -44755.24087793\n",
      "Iter 34: f = -44755.52819672\n",
      "Iter 35: f = -44755.64553800\n",
      "Iter 36: f = -44755.92249251\n",
      "Iter 37: f = -44756.16201727\n",
      "Iter 38: f = -44758.22266901\n",
      "Iter 39: f = -44747.09214489\n",
      "Iter 40: f = -44764.51876090\n",
      "Iter 41: f = -44769.55581032\n",
      "Iter 42: f = -44771.32161318\n",
      "Iter 43: f = -44771.66108160\n",
      "Iter 44: f = -44771.95975656\n",
      "Iter 45: f = -44772.03739887\n",
      "Iter 46: f = -44772.08008485\n",
      "Iter 47: f = -44772.08265993\n",
      "Iter 48: f = -44772.08373752\n",
      "Iter 49: f = -44772.08375878\n"
     ]
    }
   ],
   "source": [
    "gmm.conditioned_obj.reset() # Reset the logging and iteration count.\n",
    "gmm.conditioned_obj.set_print_every(1)\n",
    "\n",
    "opt_time = time.time()\n",
    "gmm_opt, init_x2 = gmm.optimize(init_x, gtol=1e-2)\n",
    "opt_time = time.time() - opt_time"
   ]
  },
  {
   "cell_type": "code",
   "execution_count": 7,
   "metadata": {},
   "outputs": [],
   "source": [
    "tic = time.time()\n",
    "# Note that h_cond is the Hessian.\n",
    "h_cond = gmm.update_preconditioner(init_x2)\n",
    "opt_time += time.time() - tic"
   ]
  },
  {
   "cell_type": "code",
   "execution_count": 8,
   "metadata": {},
   "outputs": [
    {
     "data": {
      "text/plain": [
       "((238, 238), (238,))"
      ]
     },
     "execution_count": 8,
     "metadata": {},
     "output_type": "execute_result"
    }
   ],
   "source": [
    "h_cond.shape, gmm.kl_obj.grad(init_x2).shape"
   ]
  },
  {
   "cell_type": "code",
   "execution_count": 9,
   "metadata": {
    "scrolled": true
   },
   "outputs": [
    {
     "name": "stdout",
     "output_type": "stream",
     "text": [
      "Iter 0: f = -44772.08375878\n",
      "Preconditioned iteration 1\n",
      "  Taking Newton step.\n",
      "Iter 1: f = -44772.08375878\n",
      "Iter 2: f = -44772.08376027\n",
      "1.4857141650281847e-06\n",
      "Iter 3: f = -44772.08376027\n",
      "Success.\n",
      "  Running preconditioned optimization.\n",
      "Iter 0: f = -44772.08376027\n",
      "Iter 1: f = -44772.08376027\n",
      "Iter 4: f = -44772.08376027\n",
      "f_diff: 1.485728716943413e-06\n",
      "Preconditioned iteration 2\n",
      "  Getting Hessian and preconditioner.\n",
      "  Taking Newton step.\n",
      "  Converging with small Newton step.\n",
      "Optimization time: 61.27571654319763 seconds\n"
     ]
    }
   ],
   "source": [
    "gmm.conditioned_obj.reset()\n",
    "tic = time.time()\n",
    "gmm_opt, gmm_opt_x = gmm.optimize_fully(\n",
    "    init_x2, verbose=True, kl_hess=h_cond)\n",
    "opt_time += time.time() - tic\n",
    "print('Optimization time: {} seconds'.format(opt_time))"
   ]
  },
  {
   "cell_type": "code",
   "execution_count": 19,
   "metadata": {},
   "outputs": [
    {
     "name": "stdout",
     "output_type": "stream",
     "text": [
      "Saving to /home/rgiordan/Documents/git_repos/BNP_sensitivity/RegressionClustering/jupyter/fits/transformed_gene_regression_df4_degree3_genes700_num_components30_inflate1.0_shrunkTrue_fit.npz\n"
     ]
    }
   ],
   "source": [
    "save_dict = deepcopy(gmm_opt)\n",
    "save_dict['df'] = df\n",
    "save_dict['degree'] = degree\n",
    "save_dict['datafile'] = datafile\n",
    "save_dict['num_components'] = num_components\n",
    "save_dict['gmm_params_pattern_json'] = \\\n",
    "    gmm.gmm_params_pattern.to_json()\n",
    "save_dict['opt_gmm_params_flat'] = \\\n",
    "    gmm.gmm_params_pattern.flatten(opt_gmm_params, free=False)\n",
    "save_dict['prior_params_pattern_json'] = \\\n",
    "    prior_params_pattern.to_json()\n",
    "save_dict['prior_params_flat'] = \\\n",
    "    prior_params_pattern.flatten(prior_params, free=False)\n",
    "\n",
    "save_dict['opt_time'] = opt_time\n",
    "\n",
    "outfile = os.path.join(fit_dir, '{}.npz'.format(analysis_name))\n",
    "print('Saving to {}'.format(outfile))\n",
    "\n",
    "np.savez_compressed(file=outfile, **save_dict)"
   ]
  },
  {
   "cell_type": "code",
   "execution_count": 14,
   "metadata": {},
   "outputs": [
    {
     "name": "stdout",
     "output_type": "stream",
     "text": [
      "odict_keys(['centroids', 'stick_propn_mean', 'stick_propn_info'])\n",
      "[ 2.00000648  2.95865061  4.00894069  5.94556982  6.02285509  8.00293717\n",
      "  8.86990594  9.00646054  9.84068409  9.94819936 10.48046269 11.02217534\n",
      " 12.49166318 13.31802122 13.92604562 15.97820637 18.65437122 21.21134773\n",
      " 22.04608327 26.41959898 26.59793776 31.46224687 38.32495468 43.91983666\n",
      " 45.43768567 46.86597092 48.68118858 53.91878265 56.12921056 76.51000023]\n"
     ]
    }
   ],
   "source": [
    "opt_gmm_params = gmm.gmm_params_pattern.fold(gmm_opt_x, free=True)\n",
    "print(opt_gmm_params.keys())\n",
    "e_z = gmm.get_e_z(opt_gmm_params)\n",
    "print(np.sort(np.sum(e_z, axis=0)))"
   ]
  },
  {
   "cell_type": "code",
   "execution_count": 11,
   "metadata": {},
   "outputs": [],
   "source": [
    "loglik_obs_by_nk = gmm_lib.get_loglik_obs_by_nk(opt_gmm_params, gmm.reg_params)"
   ]
  },
  {
   "cell_type": "code",
   "execution_count": 15,
   "metadata": {},
   "outputs": [
    {
     "name": "stdout",
     "output_type": "stream",
     "text": [
      "There are 0 small clusters\n"
     ]
    },
    {
     "ename": "IndexError",
     "evalue": "index 0 is out of bounds for axis 0 with size 0",
     "output_type": "error",
     "traceback": [
      "\u001b[0;31m---------------------------------------------------------------------------\u001b[0m",
      "\u001b[0;31mIndexError\u001b[0m                                Traceback (most recent call last)",
      "\u001b[0;32m<ipython-input-15-e61d5a033383>\u001b[0m in \u001b[0;36m<module>\u001b[0;34m\u001b[0m\n\u001b[1;32m     14\u001b[0m \u001b[0mprint\u001b[0m\u001b[0;34m(\u001b[0m\u001b[0;34m'There are'\u001b[0m\u001b[0;34m,\u001b[0m \u001b[0mlen\u001b[0m\u001b[0;34m(\u001b[0m\u001b[0msmall_clusters\u001b[0m\u001b[0;34m)\u001b[0m\u001b[0;34m,\u001b[0m \u001b[0;34m'small clusters'\u001b[0m\u001b[0;34m)\u001b[0m\u001b[0;34m\u001b[0m\u001b[0m\n\u001b[1;32m     15\u001b[0m \u001b[0mk_small\u001b[0m \u001b[0;34m=\u001b[0m \u001b[0;36m0\u001b[0m\u001b[0;34m\u001b[0m\u001b[0m\n\u001b[0;32m---> 16\u001b[0;31m \u001b[0mn_in_cluster\u001b[0m \u001b[0;34m=\u001b[0m \u001b[0mnp\u001b[0m\u001b[0;34m.\u001b[0m\u001b[0margwhere\u001b[0m\u001b[0;34m(\u001b[0m\u001b[0mobs_k\u001b[0m \u001b[0;34m==\u001b[0m \u001b[0msmall_clusters\u001b[0m\u001b[0;34m[\u001b[0m\u001b[0mk_small\u001b[0m\u001b[0;34m]\u001b[0m\u001b[0;34m)\u001b[0m\u001b[0;34m\u001b[0m\u001b[0m\n\u001b[0m\u001b[1;32m     17\u001b[0m \u001b[0;34m\u001b[0m\u001b[0m\n\u001b[1;32m     18\u001b[0m \u001b[0;32mif\u001b[0m \u001b[0mlen\u001b[0m\u001b[0;34m(\u001b[0m\u001b[0mn_in_cluster\u001b[0m\u001b[0;34m)\u001b[0m \u001b[0;34m>\u001b[0m \u001b[0;36m0\u001b[0m\u001b[0;34m:\u001b[0m\u001b[0;34m\u001b[0m\u001b[0m\n",
      "\u001b[0;31mIndexError\u001b[0m: index 0 is out of bounds for axis 0 with size 0"
     ]
    }
   ],
   "source": [
    "# for i in range(num_components):\n",
    "#     print('{:0.5}\\t{:0.5}'.format(np.sum(e_z, axis=0)[i], np.std(e_z, axis=0)[i]))\n",
    "\n",
    "small_cluster_size = 1.1\n",
    "\n",
    "z_sum = np.sum(e_z, axis=0)\n",
    "small_clusters = np.squeeze(np.argwhere(z_sum < small_cluster_size))\n",
    "small_clusters\n",
    "obs_k = np.full(gmm.num_obs, int(-1))\n",
    "for n in range(gmm.num_obs):\n",
    "    obs_k[n] = np.argmax(e_z[n, :])\n",
    "\n",
    "# Plot one of the small components\n",
    "print('There are', len(small_clusters), 'small clusters')\n",
    "k_small = 0\n",
    "n_in_cluster = np.argwhere(obs_k == small_clusters[k_small])\n",
    "\n",
    "if len(n_in_cluster) > 0:\n",
    "    n = int(n_in_cluster[0])\n",
    "\n",
    "    # Get the top alternative components\n",
    "    top_components = np.argsort(-1 * loglik_obs_by_nk[n, :])[0:5]\n",
    "\n",
    "    f, axarr = plt.subplots(1, figsize=(15,8))\n",
    "    this_plot = axarr\n",
    "    this_plot.plot(gmm.reg_params['beta_mean'][n, :], color = 'red');\n",
    "    this_plot.set_ylabel('transformed coefficient')\n",
    "    this_plot.set_xlabel('index')\n",
    "    this_plot.set_title('gene number {}'.format(n))\n",
    "\n",
    "    # draw from the variational distribution to plot uncertainties\n",
    "    for j in range(60): \n",
    "        transformed_beta_draw = np.random.multivariate_normal(\n",
    "            gmm.reg_params['beta_mean'][n, :], \\\n",
    "             np.linalg.inv(gmm.reg_params['beta_info'][n, :, :]))\n",
    "        this_plot.plot(\n",
    "            transformed_beta_draw, color = 'red', alpha = 0.04, linewidth=4);\n",
    "\n",
    "    for k in top_components:\n",
    "        if k != k_small:\n",
    "            this_plot.plot(opt_gmm_params['centroids'][k, :],\n",
    "                           color = 'lightblue', linewidth=2);\n",
    "\n",
    "    k = np.argmax(e_z[n, :])\n",
    "    this_plot.plot(opt_gmm_params['centroids'][k, :], color = 'limegreen', linewidth=3);\n",
    "else:\n",
    "    print('No points belong mostly to this cluster ({}).'.format(small_clusters[k_small]))\n"
   ]
  },
  {
   "cell_type": "code",
   "execution_count": null,
   "metadata": {},
   "outputs": [],
   "source": [
    "# Sanity check with a figure\n",
    "\n",
    "f, axarr = plt.subplots(2, 3, figsize=(15,8))\n",
    "\n",
    "plot_inds = np.random.choice(gmm.num_obs, 6, replace=False)\n",
    "for i in range(6):\n",
    "    n = plot_inds[i]\n",
    "    this_plot = axarr[int(np.floor(i / 3)), i % 3] \n",
    "    this_plot.plot(gmm.reg_params['beta_mean'][n, :], color = 'red');\n",
    "    this_plot.set_ylabel('transformed coefficient')\n",
    "    this_plot.set_xlabel('index')\n",
    "    this_plot.set_title('gene number {}'.format(n))\n",
    "\n",
    "    # draw from the variational distribution to plot uncertainties\n",
    "    for j in range(30): \n",
    "        transformed_beta_draw = np.random.multivariate_normal(\n",
    "            gmm.reg_params['beta_mean'][n, :], \\\n",
    "             np.linalg.inv(gmm.reg_params['beta_info'][n, :, :]))\n",
    "\n",
    "        this_plot.plot(\n",
    "            transformed_beta_draw, color = 'red', alpha = 0.08);\n",
    "\n",
    "    k = np.argmax(e_z[n, :])\n",
    "    this_plot.plot(opt_gmm_params['centroids'][k, :], color = 'limegreen', linewidth=3);\n",
    "\n",
    "f.tight_layout()"
   ]
  }
 ],
 "metadata": {
  "kernelspec": {
   "display_name": "bnpregcluster_runjingdev",
   "language": "python",
   "name": "bnpregcluster_runjingdev"
  },
  "language_info": {
   "codemirror_mode": {
    "name": "ipython",
    "version": 3
   },
   "file_extension": ".py",
   "mimetype": "text/x-python",
   "name": "python",
   "nbconvert_exporter": "python",
   "pygments_lexer": "ipython3",
   "version": "3.5.2"
  }
 },
 "nbformat": 4,
 "nbformat_minor": 2
}
