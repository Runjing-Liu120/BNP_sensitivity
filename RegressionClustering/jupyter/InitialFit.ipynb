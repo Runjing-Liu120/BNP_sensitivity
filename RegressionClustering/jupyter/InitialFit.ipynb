{
 "cells": [
  {
   "cell_type": "code",
   "execution_count": 37,
   "metadata": {
    "collapsed": true
   },
   "outputs": [],
   "source": [
    "import matplotlib.pyplot as plt\n",
    "%matplotlib inline\n",
    "\n",
    "import numpy as np\n",
    "import scipy as sp\n",
    "import inspect\n",
    "import os\n",
    "import sys\n",
    "import time\n",
    "\n",
    "import paragami\n",
    "\n",
    "from copy import deepcopy\n",
    "\n",
    "import bnpregcluster_runjingdev.regression_mixture_lib as gmm_lib\n",
    "\n",
    "np.random.seed(42) # nothing special about this seed (we hope)!"
   ]
  },
  {
   "cell_type": "code",
   "execution_count": 69,
   "metadata": {},
   "outputs": [],
   "source": [
    "reg_params = dict()\n",
    "#datafile = 'fits/transformed_gene_regression_df7_degree3_genes10000.npz'\n",
    "#datafile = 'fits/transformed_gene_regression_df7_degree3_genes1000.npz'\n",
    "#datafile = 'fits/shrunken_transformed_gene_regression_df$_degree3_genes1000.npz'\n",
    "#datafile = 'fits/shrunken_transformed_gene_regression_df7_degree3_genes1000.npz'\n",
    "datafile = 'fits/shrunken_transformed_gene_regression_df4_degree3_genes1000.npz'\n",
    "with np.load(datafile) as infile:\n",
    "    reg_params['y_info'] = infile['y_info']\n",
    "    reg_params['beta_mean'] = infile['transformed_beta_mean']\n",
    "    reg_params['beta_info'] = infile['transformed_beta_info']\n",
    "    df = infile['df']\n",
    "    degree = infile['degree']\n",
    "    \n",
    "num_genes = reg_params['beta_mean'].shape[0]\n",
    "obs_dim = reg_params['beta_mean'].shape[1]\n",
    "\n",
    "num_components = 30\n",
    "\n",
    "analysis_name = 'transformed_gene_regression_df{}_degree{}_genes{}_num_components{}_fit'.format(\n",
    "    df, degree, num_genes, num_components)"
   ]
  },
  {
   "cell_type": "code",
   "execution_count": 64,
   "metadata": {},
   "outputs": [
    {
     "data": {
      "image/png": "[encoded data removed]",
      "text/plain": [
       "<Figure size 432x288 with 1 Axes>"
      ]
     },
     "metadata": {
      "needs_background": "light"
     },
     "output_type": "display_data"
    }
   ],
   "source": [
    "plt.hist(reg_params['y_info']);"
   ]
  },
  {
   "cell_type": "code",
   "execution_count": 65,
   "metadata": {},
   "outputs": [],
   "source": [
    "prior_params = gmm_lib.get_base_prior_params(obs_dim, num_components)\n",
    "prior_params_pattern = gmm_lib.get_prior_params_pattern(obs_dim, num_components)\n",
    "prior_params_pattern.validate_folded(prior_params)\n",
    "gmm = gmm_lib.GMM(num_components, prior_params, reg_params)"
   ]
  },
  {
   "cell_type": "code",
   "execution_count": 66,
   "metadata": {},
   "outputs": [
    {
     "name": "stdout",
     "output_type": "stream",
     "text": [
      "Running k-means init.\n",
      "Done.\n"
     ]
    }
   ],
   "source": [
    "print('Running k-means init.')\n",
    "kmeans_params = \\\n",
    "    gmm_lib.kmeans_init(gmm.reg_params,\n",
    "                        gmm.num_components, 50)\n",
    "print('Done.')\n",
    "init_gmm_params = dict()\n",
    "init_gmm_params['centroids'] = kmeans_params['centroids']\n",
    "init_gmm_params['stick_propn_mean'] = np.zeros(gmm.num_components - 1)\n",
    "init_gmm_params['stick_propn_info'] = np.ones(gmm.num_components - 1)\n",
    "\n",
    "init_x = gmm.gmm_params_pattern.flatten(init_gmm_params, free=True)"
   ]
  },
  {
   "cell_type": "code",
   "execution_count": 67,
   "metadata": {
    "scrolled": false
   },
   "outputs": [
    {
     "name": "stdout",
     "output_type": "stream",
     "text": [
      "Iter 0: f = -41766.81949873\n",
      "Iter 1: f = -42338.02951151\n",
      "Iter 2: f = -43049.34542484\n",
      "Iter 3: f = -43699.82602179\n",
      "Iter 4: f = -44174.49239110\n",
      "Iter 5: f = -44030.10642922\n",
      "Iter 6: f = -44369.07436888\n",
      "Iter 7: f = -44548.09240150\n",
      "Iter 8: f = -44613.85665007\n",
      "Iter 9: f = -44771.02979495\n",
      "Iter 10: f = -44750.78822885\n",
      "Iter 11: f = -44810.47503020\n",
      "Iter 12: f = -44856.64930440\n",
      "Iter 13: f = -44876.70936440\n",
      "Iter 14: f = -44834.23618704\n",
      "Iter 15: f = -44922.05267845\n",
      "Iter 16: f = -44955.88477297\n",
      "Iter 17: f = -44965.44420918\n",
      "Iter 18: f = -45000.23512669\n",
      "Iter 19: f = -45021.50181032\n",
      "Iter 20: f = -45036.08307031\n",
      "Iter 21: f = -45046.34814842\n",
      "Iter 22: f = -45054.82841607\n",
      "Iter 23: f = -45061.74333874\n",
      "Iter 24: f = -45061.84552346\n",
      "Iter 25: f = -45068.47132043\n",
      "Iter 26: f = -45078.08810181\n",
      "Iter 27: f = -45086.60878352\n",
      "Iter 28: f = -45040.15422138\n",
      "Iter 29: f = -45093.82611212\n",
      "Iter 30: f = -45098.69435598\n",
      "Iter 31: f = -45100.77836372\n",
      "Iter 32: f = -45104.10259506\n",
      "Iter 33: f = -45104.99806295\n",
      "Iter 34: f = -45103.71104071\n",
      "Iter 35: f = -45106.80977454\n",
      "Iter 36: f = -45105.27733158\n",
      "Iter 37: f = -45107.62252777\n",
      "Iter 38: f = -45109.12590570\n",
      "Iter 39: f = -45103.05156439\n",
      "Iter 40: f = -45110.93505716\n",
      "Iter 41: f = -45113.64829825\n",
      "Iter 42: f = -45114.81263369\n",
      "Iter 43: f = -45115.92938966\n",
      "Iter 44: f = -45116.88328468\n",
      "Iter 45: f = -45118.27721974\n",
      "Iter 46: f = -45113.93769241\n",
      "Iter 47: f = -45119.89392312\n",
      "Iter 48: f = -45123.02282844\n",
      "Iter 49: f = -45125.06046596\n",
      "Iter 50: f = -45126.82900365\n",
      "Iter 51: f = -45129.28222742\n",
      "Iter 52: f = -45119.87865666\n",
      "Iter 53: f = -45132.43112441\n",
      "Iter 54: f = -45131.00189086\n",
      "Iter 55: f = -45134.21718068\n",
      "Iter 56: f = -45135.96692685\n",
      "Iter 57: f = -45138.66508301\n",
      "Iter 58: f = -45140.21241427\n",
      "Iter 59: f = -45142.53617762\n",
      "Iter 60: f = -45125.21397103\n",
      "Iter 61: f = -45144.96069127\n",
      "Iter 62: f = -45142.19741032\n",
      "Iter 63: f = -45146.62393939\n",
      "Iter 64: f = -45147.47342030\n",
      "Iter 65: f = -45148.59389499\n",
      "Iter 66: f = -45149.33563371\n",
      "Iter 67: f = -45149.92096549\n",
      "Iter 68: f = -45150.32436204\n",
      "Iter 69: f = -45151.78802004\n",
      "Iter 70: f = -45146.76639898\n",
      "Iter 71: f = -45152.23441176\n",
      "Iter 72: f = -45151.77141101\n",
      "Iter 73: f = -45152.61546172\n",
      "Iter 74: f = -45152.89884446\n",
      "Iter 75: f = -45153.00332595\n",
      "Iter 76: f = -45153.07367705\n",
      "Iter 77: f = -45153.11215757\n",
      "Iter 78: f = -45153.14776679\n",
      "Iter 79: f = -45153.16586870\n",
      "Iter 80: f = -45153.21464332\n",
      "Iter 81: f = -45153.23394353\n",
      "Iter 82: f = -45153.23581483\n",
      "Iter 83: f = -45153.24408484\n",
      "Iter 84: f = -45153.25868107\n",
      "Iter 85: f = -45153.20851533\n",
      "Iter 86: f = -45153.28028346\n",
      "Iter 87: f = -45153.27842973\n",
      "Iter 88: f = -45153.29620732\n",
      "Iter 89: f = -45153.32783324\n",
      "Iter 90: f = -45153.36407483\n",
      "Iter 91: f = -45153.37215986\n",
      "Iter 92: f = -45153.37887261\n",
      "Iter 93: f = -45153.38402391\n",
      "Iter 94: f = -45153.39402409\n",
      "Iter 95: f = -45153.40427223\n",
      "Iter 96: f = -45153.42010576\n",
      "Iter 97: f = -45143.38799757\n",
      "Iter 98: f = -45153.39525402\n",
      "Iter 99: f = -45153.43737665\n",
      "Iter 100: f = -45153.43274748\n",
      "Iter 101: f = -45153.45123688\n",
      "Iter 102: f = -45153.49018226\n",
      "Iter 103: f = -45153.53099036\n",
      "Iter 104: f = -45153.55688717\n",
      "Iter 105: f = -45153.56550478\n",
      "Iter 106: f = -45153.57154155\n",
      "Iter 107: f = -45153.57891575\n",
      "Iter 108: f = -45153.58421676\n",
      "Iter 109: f = -45153.59476704\n",
      "Iter 110: f = -45153.60182677\n",
      "Iter 111: f = -45153.53283071\n",
      "Iter 112: f = -45153.61135858\n",
      "Iter 113: f = -45153.62048487\n",
      "Iter 114: f = -45153.62779803\n",
      "Iter 115: f = -45153.63091026\n",
      "Iter 116: f = -45153.63489004\n",
      "Iter 117: f = -45153.64280698\n",
      "Iter 118: f = -45153.65475428\n",
      "Iter 119: f = -45153.65676328\n",
      "Iter 120: f = -45153.66951675\n",
      "Iter 121: f = -45153.67331559\n",
      "Iter 122: f = -45153.58852102\n",
      "Iter 123: f = -45153.68187668\n",
      "Iter 124: f = -45153.68887269\n",
      "Iter 125: f = -45153.69248402\n",
      "Iter 126: f = -45153.69923257\n",
      "Iter 127: f = -45153.70970036\n",
      "Iter 128: f = -45153.71699308\n",
      "Iter 129: f = -45153.72312853\n",
      "Iter 130: f = -45153.72998491\n",
      "Iter 131: f = -45153.73354314\n",
      "Iter 132: f = -45153.73779741\n",
      "Iter 133: f = -45153.74599339\n",
      "Iter 134: f = -45153.75474048\n",
      "Iter 135: f = -45153.75833570\n",
      "Iter 136: f = -45153.77034271\n",
      "Iter 137: f = -45153.72130177\n",
      "Iter 138: f = -45153.76610042\n",
      "Iter 139: f = -45153.77275952\n",
      "Iter 140: f = -45153.77477780\n",
      "Iter 141: f = -45153.77595722\n",
      "Iter 142: f = -45153.77837814\n",
      "Iter 143: f = -45153.77981870\n",
      "Iter 144: f = -45153.78163186\n",
      "Iter 145: f = -45153.77466177\n",
      "Iter 146: f = -45153.78405994\n",
      "Iter 147: f = -45153.78571288\n",
      "Iter 148: f = -45153.78820879\n",
      "Iter 149: f = -45153.79039140\n",
      "Iter 150: f = -45153.79157674\n"
     ]
    }
   ],
   "source": [
    "gmm.conditioned_obj.reset() # Reset the logging and iteration count.\n",
    "gmm.conditioned_obj.set_print_every(1)\n",
    "\n",
    "opt_time = time.time()\n",
    "gmm_opt, init_x2 = gmm.optimize(init_x, gtol=1e-2)\n",
    "opt_time = time.time() - opt_time"
   ]
  },
  {
   "cell_type": "code",
   "execution_count": 68,
   "metadata": {},
   "outputs": [
    {
     "ename": "KeyboardInterrupt",
     "evalue": "",
     "output_type": "error",
     "traceback": [
      "\u001b[0;31m---------------------------------------------------------------------------\u001b[0m",
      "\u001b[0;31mKeyboardInterrupt\u001b[0m                         Traceback (most recent call last)",
      "\u001b[0;32m<ipython-input-68-d259f8e92c25>\u001b[0m in \u001b[0;36m<module>\u001b[0;34m\u001b[0m\n\u001b[1;32m      1\u001b[0m \u001b[0mtic\u001b[0m \u001b[0;34m=\u001b[0m \u001b[0mtime\u001b[0m\u001b[0;34m.\u001b[0m\u001b[0mtime\u001b[0m\u001b[0;34m(\u001b[0m\u001b[0;34m)\u001b[0m\u001b[0;34m\u001b[0m\u001b[0m\n\u001b[1;32m      2\u001b[0m \u001b[0;31m# Note that h_cond is the Hessian.\u001b[0m\u001b[0;34m\u001b[0m\u001b[0;34m\u001b[0m\u001b[0m\n\u001b[0;32m----> 3\u001b[0;31m \u001b[0mh_cond\u001b[0m \u001b[0;34m=\u001b[0m \u001b[0mgmm\u001b[0m\u001b[0;34m.\u001b[0m\u001b[0mupdate_preconditioner\u001b[0m\u001b[0;34m(\u001b[0m\u001b[0minit_x2\u001b[0m\u001b[0;34m)\u001b[0m\u001b[0;34m\u001b[0m\u001b[0m\n\u001b[0m\u001b[1;32m      4\u001b[0m \u001b[0mopt_time\u001b[0m \u001b[0;34m+=\u001b[0m \u001b[0mtime\u001b[0m\u001b[0;34m.\u001b[0m\u001b[0mtime\u001b[0m\u001b[0;34m(\u001b[0m\u001b[0;34m)\u001b[0m \u001b[0;34m-\u001b[0m \u001b[0mtic\u001b[0m\u001b[0;34m\u001b[0m\u001b[0m\n",
      "\u001b[0;32m~/Documents/git_repos/InfinitesimalJackknifeGenomicsExperiment/aistats2019_ij_paper/regression_mixture_lib.py\u001b[0m in \u001b[0;36mupdate_preconditioner\u001b[0;34m(self, gmm_params_free, ev_min)\u001b[0m\n\u001b[1;32m    329\u001b[0m         \u001b[0mHessian\u001b[0m \u001b[0mat\u001b[0m\u001b[0;31m \u001b[0m\u001b[0;31m`\u001b[0m\u001b[0;31m`\u001b[0m\u001b[0mgmm_params_free\u001b[0m\u001b[0;31m`\u001b[0m\u001b[0;31m`\u001b[0m\u001b[0;34m.\u001b[0m\u001b[0;34m\u001b[0m\u001b[0m\n\u001b[1;32m    330\u001b[0m         \"\"\"\n\u001b[0;32m--> 331\u001b[0;31m         \u001b[0mhessian\u001b[0m \u001b[0;34m=\u001b[0m \u001b[0mself\u001b[0m\u001b[0;34m.\u001b[0m\u001b[0mkl_obj\u001b[0m\u001b[0;34m.\u001b[0m\u001b[0mhessian\u001b[0m\u001b[0;34m(\u001b[0m\u001b[0mgmm_params_free\u001b[0m\u001b[0;34m)\u001b[0m\u001b[0;34m\u001b[0m\u001b[0m\n\u001b[0m\u001b[1;32m    332\u001b[0m         self.get_kl_conditioned.set_preconditioner_with_hessian(\n\u001b[1;32m    333\u001b[0m             hessian=hessian, ev_min=ev_min)\n",
      "\u001b[0;32m~/Documents/git_repos/BNP_sensitivity/RegressionClustering/venv/lib/python3.5/site-packages/autograd/wrap_util.py\u001b[0m in \u001b[0;36mnary_f\u001b[0;34m(*args, **kwargs)\u001b[0m\n\u001b[1;32m     18\u001b[0m             \u001b[0;32melse\u001b[0m\u001b[0;34m:\u001b[0m\u001b[0;34m\u001b[0m\u001b[0m\n\u001b[1;32m     19\u001b[0m                 \u001b[0mx\u001b[0m \u001b[0;34m=\u001b[0m \u001b[0mtuple\u001b[0m\u001b[0;34m(\u001b[0m\u001b[0margs\u001b[0m\u001b[0;34m[\u001b[0m\u001b[0mi\u001b[0m\u001b[0;34m]\u001b[0m \u001b[0;32mfor\u001b[0m \u001b[0mi\u001b[0m \u001b[0;32min\u001b[0m \u001b[0margnum\u001b[0m\u001b[0;34m)\u001b[0m\u001b[0;34m\u001b[0m\u001b[0m\n\u001b[0;32m---> 20\u001b[0;31m             \u001b[0;32mreturn\u001b[0m \u001b[0munary_operator\u001b[0m\u001b[0;34m(\u001b[0m\u001b[0munary_f\u001b[0m\u001b[0;34m,\u001b[0m \u001b[0mx\u001b[0m\u001b[0;34m,\u001b[0m \u001b[0;34m*\u001b[0m\u001b[0mnary_op_args\u001b[0m\u001b[0;34m,\u001b[0m \u001b[0;34m**\u001b[0m\u001b[0mnary_op_kwargs\u001b[0m\u001b[0;34m)\u001b[0m\u001b[0;34m\u001b[0m\u001b[0m\n\u001b[0m\u001b[1;32m     21\u001b[0m         \u001b[0;32mreturn\u001b[0m \u001b[0mnary_f\u001b[0m\u001b[0;34m\u001b[0m\u001b[0m\n\u001b[1;32m     22\u001b[0m     \u001b[0;32mreturn\u001b[0m \u001b[0mnary_operator\u001b[0m\u001b[0;34m\u001b[0m\u001b[0m\n",
      "\u001b[0;32m~/Documents/git_repos/BNP_sensitivity/RegressionClustering/venv/lib/python3.5/site-packages/autograd/differential_operators.py\u001b[0m in \u001b[0;36mhessian\u001b[0;34m(fun, x)\u001b[0m\n\u001b[1;32m     76\u001b[0m \u001b[0;32mdef\u001b[0m \u001b[0mhessian\u001b[0m\u001b[0;34m(\u001b[0m\u001b[0mfun\u001b[0m\u001b[0;34m,\u001b[0m \u001b[0mx\u001b[0m\u001b[0;34m)\u001b[0m\u001b[0;34m:\u001b[0m\u001b[0;34m\u001b[0m\u001b[0m\n\u001b[1;32m     77\u001b[0m     \u001b[0;34m\"Returns a function that computes the exact Hessian.\"\u001b[0m\u001b[0;34m\u001b[0m\u001b[0m\n\u001b[0;32m---> 78\u001b[0;31m     \u001b[0;32mreturn\u001b[0m \u001b[0mjacobian\u001b[0m\u001b[0;34m(\u001b[0m\u001b[0mjacobian\u001b[0m\u001b[0;34m(\u001b[0m\u001b[0mfun\u001b[0m\u001b[0;34m)\u001b[0m\u001b[0;34m)\u001b[0m\u001b[0;34m(\u001b[0m\u001b[0mx\u001b[0m\u001b[0;34m)\u001b[0m\u001b[0;34m\u001b[0m\u001b[0m\n\u001b[0m\u001b[1;32m     79\u001b[0m \u001b[0;34m\u001b[0m\u001b[0m\n\u001b[1;32m     80\u001b[0m \u001b[0;34m@\u001b[0m\u001b[0munary_to_nary\u001b[0m\u001b[0;34m\u001b[0m\u001b[0m\n",
      "\u001b[0;32m~/Documents/git_repos/BNP_sensitivity/RegressionClustering/venv/lib/python3.5/site-packages/autograd/wrap_util.py\u001b[0m in \u001b[0;36mnary_f\u001b[0;34m(*args, **kwargs)\u001b[0m\n\u001b[1;32m     18\u001b[0m             \u001b[0;32melse\u001b[0m\u001b[0;34m:\u001b[0m\u001b[0;34m\u001b[0m\u001b[0m\n\u001b[1;32m     19\u001b[0m                 \u001b[0mx\u001b[0m \u001b[0;34m=\u001b[0m \u001b[0mtuple\u001b[0m\u001b[0;34m(\u001b[0m\u001b[0margs\u001b[0m\u001b[0;34m[\u001b[0m\u001b[0mi\u001b[0m\u001b[0;34m]\u001b[0m \u001b[0;32mfor\u001b[0m \u001b[0mi\u001b[0m \u001b[0;32min\u001b[0m \u001b[0margnum\u001b[0m\u001b[0;34m)\u001b[0m\u001b[0;34m\u001b[0m\u001b[0m\n\u001b[0;32m---> 20\u001b[0;31m             \u001b[0;32mreturn\u001b[0m \u001b[0munary_operator\u001b[0m\u001b[0;34m(\u001b[0m\u001b[0munary_f\u001b[0m\u001b[0;34m,\u001b[0m \u001b[0mx\u001b[0m\u001b[0;34m,\u001b[0m \u001b[0;34m*\u001b[0m\u001b[0mnary_op_args\u001b[0m\u001b[0;34m,\u001b[0m \u001b[0;34m**\u001b[0m\u001b[0mnary_op_kwargs\u001b[0m\u001b[0;34m)\u001b[0m\u001b[0;34m\u001b[0m\u001b[0m\n\u001b[0m\u001b[1;32m     21\u001b[0m         \u001b[0;32mreturn\u001b[0m \u001b[0mnary_f\u001b[0m\u001b[0;34m\u001b[0m\u001b[0m\n\u001b[1;32m     22\u001b[0m     \u001b[0;32mreturn\u001b[0m \u001b[0mnary_operator\u001b[0m\u001b[0;34m\u001b[0m\u001b[0m\n",
      "\u001b[0;32m~/Documents/git_repos/BNP_sensitivity/RegressionClustering/venv/lib/python3.5/site-packages/autograd/differential_operators.py\u001b[0m in \u001b[0;36mjacobian\u001b[0;34m(fun, x)\u001b[0m\n\u001b[1;32m     59\u001b[0m     \u001b[0mjacobian_shape\u001b[0m \u001b[0;34m=\u001b[0m \u001b[0mans_vspace\u001b[0m\u001b[0;34m.\u001b[0m\u001b[0mshape\u001b[0m \u001b[0;34m+\u001b[0m \u001b[0mvspace\u001b[0m\u001b[0;34m(\u001b[0m\u001b[0mx\u001b[0m\u001b[0;34m)\u001b[0m\u001b[0;34m.\u001b[0m\u001b[0mshape\u001b[0m\u001b[0;34m\u001b[0m\u001b[0m\n\u001b[1;32m     60\u001b[0m     \u001b[0mgrads\u001b[0m \u001b[0;34m=\u001b[0m \u001b[0mmap\u001b[0m\u001b[0;34m(\u001b[0m\u001b[0mvjp\u001b[0m\u001b[0;34m,\u001b[0m \u001b[0mans_vspace\u001b[0m\u001b[0;34m.\u001b[0m\u001b[0mstandard_basis\u001b[0m\u001b[0;34m(\u001b[0m\u001b[0;34m)\u001b[0m\u001b[0;34m)\u001b[0m\u001b[0;34m\u001b[0m\u001b[0m\n\u001b[0;32m---> 61\u001b[0;31m     \u001b[0;32mreturn\u001b[0m \u001b[0mnp\u001b[0m\u001b[0;34m.\u001b[0m\u001b[0mreshape\u001b[0m\u001b[0;34m(\u001b[0m\u001b[0mnp\u001b[0m\u001b[0;34m.\u001b[0m\u001b[0mstack\u001b[0m\u001b[0;34m(\u001b[0m\u001b[0mgrads\u001b[0m\u001b[0;34m)\u001b[0m\u001b[0;34m,\u001b[0m \u001b[0mjacobian_shape\u001b[0m\u001b[0;34m)\u001b[0m\u001b[0;34m\u001b[0m\u001b[0m\n\u001b[0m\u001b[1;32m     62\u001b[0m \u001b[0;34m\u001b[0m\u001b[0m\n\u001b[1;32m     63\u001b[0m \u001b[0;34m@\u001b[0m\u001b[0munary_to_nary\u001b[0m\u001b[0;34m\u001b[0m\u001b[0m\n",
      "\u001b[0;32m~/Documents/git_repos/BNP_sensitivity/RegressionClustering/venv/lib/python3.5/site-packages/autograd/numpy/numpy_wrapper.py\u001b[0m in \u001b[0;36mstack\u001b[0;34m(arrays, axis)\u001b[0m\n\u001b[1;32m     87\u001b[0m     \u001b[0;31m# primitives defined in this file\u001b[0m\u001b[0;34m\u001b[0m\u001b[0;34m\u001b[0m\u001b[0m\n\u001b[1;32m     88\u001b[0m \u001b[0;34m\u001b[0m\u001b[0m\n\u001b[0;32m---> 89\u001b[0;31m     \u001b[0marrays\u001b[0m \u001b[0;34m=\u001b[0m \u001b[0;34m[\u001b[0m\u001b[0marray\u001b[0m\u001b[0;34m(\u001b[0m\u001b[0marr\u001b[0m\u001b[0;34m)\u001b[0m \u001b[0;32mfor\u001b[0m \u001b[0marr\u001b[0m \u001b[0;32min\u001b[0m \u001b[0marrays\u001b[0m\u001b[0;34m]\u001b[0m\u001b[0;34m\u001b[0m\u001b[0m\n\u001b[0m\u001b[1;32m     90\u001b[0m     \u001b[0;32mif\u001b[0m \u001b[0;32mnot\u001b[0m \u001b[0marrays\u001b[0m\u001b[0;34m:\u001b[0m\u001b[0;34m\u001b[0m\u001b[0m\n\u001b[1;32m     91\u001b[0m         \u001b[0;32mraise\u001b[0m \u001b[0mValueError\u001b[0m\u001b[0;34m(\u001b[0m\u001b[0;34m'need at least one array to stack'\u001b[0m\u001b[0;34m)\u001b[0m\u001b[0;34m\u001b[0m\u001b[0m\n",
      "\u001b[0;32m~/Documents/git_repos/BNP_sensitivity/RegressionClustering/venv/lib/python3.5/site-packages/autograd/numpy/numpy_wrapper.py\u001b[0m in \u001b[0;36m<listcomp>\u001b[0;34m(.0)\u001b[0m\n\u001b[1;32m     87\u001b[0m     \u001b[0;31m# primitives defined in this file\u001b[0m\u001b[0;34m\u001b[0m\u001b[0;34m\u001b[0m\u001b[0m\n\u001b[1;32m     88\u001b[0m \u001b[0;34m\u001b[0m\u001b[0m\n\u001b[0;32m---> 89\u001b[0;31m     \u001b[0marrays\u001b[0m \u001b[0;34m=\u001b[0m \u001b[0;34m[\u001b[0m\u001b[0marray\u001b[0m\u001b[0;34m(\u001b[0m\u001b[0marr\u001b[0m\u001b[0;34m)\u001b[0m \u001b[0;32mfor\u001b[0m \u001b[0marr\u001b[0m \u001b[0;32min\u001b[0m \u001b[0marrays\u001b[0m\u001b[0;34m]\u001b[0m\u001b[0;34m\u001b[0m\u001b[0m\n\u001b[0m\u001b[1;32m     90\u001b[0m     \u001b[0;32mif\u001b[0m \u001b[0;32mnot\u001b[0m \u001b[0marrays\u001b[0m\u001b[0;34m:\u001b[0m\u001b[0;34m\u001b[0m\u001b[0m\n\u001b[1;32m     91\u001b[0m         \u001b[0;32mraise\u001b[0m \u001b[0mValueError\u001b[0m\u001b[0;34m(\u001b[0m\u001b[0;34m'need at least one array to stack'\u001b[0m\u001b[0;34m)\u001b[0m\u001b[0;34m\u001b[0m\u001b[0m\n",
      "\u001b[0;32m~/Documents/git_repos/BNP_sensitivity/RegressionClustering/venv/lib/python3.5/site-packages/autograd/core.py\u001b[0m in \u001b[0;36mvjp\u001b[0;34m(g)\u001b[0m\n\u001b[1;32m     12\u001b[0m         \u001b[0;32mdef\u001b[0m \u001b[0mvjp\u001b[0m\u001b[0;34m(\u001b[0m\u001b[0mg\u001b[0m\u001b[0;34m)\u001b[0m\u001b[0;34m:\u001b[0m \u001b[0;32mreturn\u001b[0m \u001b[0mvspace\u001b[0m\u001b[0;34m(\u001b[0m\u001b[0mx\u001b[0m\u001b[0;34m)\u001b[0m\u001b[0;34m.\u001b[0m\u001b[0mzeros\u001b[0m\u001b[0;34m(\u001b[0m\u001b[0;34m)\u001b[0m\u001b[0;34m\u001b[0m\u001b[0m\n\u001b[1;32m     13\u001b[0m     \u001b[0;32melse\u001b[0m\u001b[0;34m:\u001b[0m\u001b[0;34m\u001b[0m\u001b[0m\n\u001b[0;32m---> 14\u001b[0;31m         \u001b[0;32mdef\u001b[0m \u001b[0mvjp\u001b[0m\u001b[0;34m(\u001b[0m\u001b[0mg\u001b[0m\u001b[0;34m)\u001b[0m\u001b[0;34m:\u001b[0m \u001b[0;32mreturn\u001b[0m \u001b[0mbackward_pass\u001b[0m\u001b[0;34m(\u001b[0m\u001b[0mg\u001b[0m\u001b[0;34m,\u001b[0m \u001b[0mend_node\u001b[0m\u001b[0;34m)\u001b[0m\u001b[0;34m\u001b[0m\u001b[0m\n\u001b[0m\u001b[1;32m     15\u001b[0m     \u001b[0;32mreturn\u001b[0m \u001b[0mvjp\u001b[0m\u001b[0;34m,\u001b[0m \u001b[0mend_value\u001b[0m\u001b[0;34m\u001b[0m\u001b[0m\n\u001b[1;32m     16\u001b[0m \u001b[0;34m\u001b[0m\u001b[0m\n",
      "\u001b[0;32m~/Documents/git_repos/BNP_sensitivity/RegressionClustering/venv/lib/python3.5/site-packages/autograd/core.py\u001b[0m in \u001b[0;36mbackward_pass\u001b[0;34m(g, end_node)\u001b[0m\n\u001b[1;32m     20\u001b[0m         \u001b[0moutgrad\u001b[0m \u001b[0;34m=\u001b[0m \u001b[0moutgrads\u001b[0m\u001b[0;34m.\u001b[0m\u001b[0mpop\u001b[0m\u001b[0;34m(\u001b[0m\u001b[0mnode\u001b[0m\u001b[0;34m)\u001b[0m\u001b[0;34m\u001b[0m\u001b[0m\n\u001b[1;32m     21\u001b[0m         \u001b[0mingrads\u001b[0m \u001b[0;34m=\u001b[0m \u001b[0mnode\u001b[0m\u001b[0;34m.\u001b[0m\u001b[0mvjp\u001b[0m\u001b[0;34m(\u001b[0m\u001b[0moutgrad\u001b[0m\u001b[0;34m[\u001b[0m\u001b[0;36m0\u001b[0m\u001b[0;34m]\u001b[0m\u001b[0;34m)\u001b[0m\u001b[0;34m\u001b[0m\u001b[0m\n\u001b[0;32m---> 22\u001b[0;31m         \u001b[0;32mfor\u001b[0m \u001b[0mparent\u001b[0m\u001b[0;34m,\u001b[0m \u001b[0mingrad\u001b[0m \u001b[0;32min\u001b[0m \u001b[0mzip\u001b[0m\u001b[0;34m(\u001b[0m\u001b[0mnode\u001b[0m\u001b[0;34m.\u001b[0m\u001b[0mparents\u001b[0m\u001b[0;34m,\u001b[0m \u001b[0mingrads\u001b[0m\u001b[0;34m)\u001b[0m\u001b[0;34m:\u001b[0m\u001b[0;34m\u001b[0m\u001b[0m\n\u001b[0m\u001b[1;32m     23\u001b[0m             \u001b[0moutgrads\u001b[0m\u001b[0;34m[\u001b[0m\u001b[0mparent\u001b[0m\u001b[0;34m]\u001b[0m \u001b[0;34m=\u001b[0m \u001b[0madd_outgrads\u001b[0m\u001b[0;34m(\u001b[0m\u001b[0moutgrads\u001b[0m\u001b[0;34m.\u001b[0m\u001b[0mget\u001b[0m\u001b[0;34m(\u001b[0m\u001b[0mparent\u001b[0m\u001b[0;34m)\u001b[0m\u001b[0;34m,\u001b[0m \u001b[0mingrad\u001b[0m\u001b[0;34m)\u001b[0m\u001b[0;34m\u001b[0m\u001b[0m\n\u001b[1;32m     24\u001b[0m     \u001b[0;32mreturn\u001b[0m \u001b[0moutgrad\u001b[0m\u001b[0;34m[\u001b[0m\u001b[0;36m0\u001b[0m\u001b[0;34m]\u001b[0m\u001b[0;34m\u001b[0m\u001b[0m\n",
      "\u001b[0;32m~/Documents/git_repos/BNP_sensitivity/RegressionClustering/venv/lib/python3.5/site-packages/autograd/core.py\u001b[0m in \u001b[0;36m<genexpr>\u001b[0;34m(.0)\u001b[0m\n\u001b[1;32m     47\u001b[0m     \u001b[0;32mdef\u001b[0m \u001b[0mvjp_argnums\u001b[0m\u001b[0;34m(\u001b[0m\u001b[0margnums\u001b[0m\u001b[0;34m,\u001b[0m \u001b[0;34m*\u001b[0m\u001b[0margs\u001b[0m\u001b[0;34m)\u001b[0m\u001b[0;34m:\u001b[0m\u001b[0;34m\u001b[0m\u001b[0m\n\u001b[1;32m     48\u001b[0m         \u001b[0mvjps\u001b[0m \u001b[0;34m=\u001b[0m \u001b[0;34m[\u001b[0m\u001b[0mvjpmaker\u001b[0m\u001b[0;34m(\u001b[0m\u001b[0margnum\u001b[0m\u001b[0;34m,\u001b[0m \u001b[0;34m*\u001b[0m\u001b[0margs\u001b[0m\u001b[0;34m)\u001b[0m \u001b[0;32mfor\u001b[0m \u001b[0margnum\u001b[0m \u001b[0;32min\u001b[0m \u001b[0margnums\u001b[0m\u001b[0;34m]\u001b[0m\u001b[0;34m\u001b[0m\u001b[0m\n\u001b[0;32m---> 49\u001b[0;31m         \u001b[0;32mreturn\u001b[0m \u001b[0;32mlambda\u001b[0m \u001b[0mg\u001b[0m\u001b[0;34m:\u001b[0m \u001b[0;34m(\u001b[0m\u001b[0mvjp\u001b[0m\u001b[0;34m(\u001b[0m\u001b[0mg\u001b[0m\u001b[0;34m)\u001b[0m \u001b[0;32mfor\u001b[0m \u001b[0mvjp\u001b[0m \u001b[0;32min\u001b[0m \u001b[0mvjps\u001b[0m\u001b[0;34m)\u001b[0m\u001b[0;34m\u001b[0m\u001b[0m\n\u001b[0m\u001b[1;32m     50\u001b[0m     \u001b[0mdefvjp_argnums\u001b[0m\u001b[0;34m(\u001b[0m\u001b[0mfun\u001b[0m\u001b[0;34m,\u001b[0m \u001b[0mvjp_argnums\u001b[0m\u001b[0;34m)\u001b[0m\u001b[0;34m\u001b[0m\u001b[0m\n\u001b[1;32m     51\u001b[0m \u001b[0;34m\u001b[0m\u001b[0m\n",
      "\u001b[0;32m~/Documents/git_repos/BNP_sensitivity/RegressionClustering/venv/lib/python3.5/site-packages/autograd/numpy/numpy_vjps.py\u001b[0m in \u001b[0;36mvjp\u001b[0;34m(g)\u001b[0m\n\u001b[1;32m    617\u001b[0m \u001b[0;34m\u001b[0m\u001b[0m\n\u001b[1;32m    618\u001b[0m             \u001b[0mnew_subscripts\u001b[0m \u001b[0;34m=\u001b[0m \u001b[0mnew_input_subs\u001b[0m \u001b[0;34m+\u001b[0m \u001b[0;34m'->'\u001b[0m \u001b[0;34m+\u001b[0m \u001b[0msubs_wrt\u001b[0m\u001b[0;34m\u001b[0m\u001b[0m\n\u001b[0;32m--> 619\u001b[0;31m             \u001b[0;32mreturn\u001b[0m \u001b[0munbroadcast\u001b[0m\u001b[0;34m(\u001b[0m\u001b[0manp\u001b[0m\u001b[0;34m.\u001b[0m\u001b[0meinsum\u001b[0m\u001b[0;34m(\u001b[0m\u001b[0mnew_subscripts\u001b[0m\u001b[0;34m,\u001b[0m \u001b[0;34m*\u001b[0m\u001b[0mnew_operands\u001b[0m\u001b[0;34m)\u001b[0m\u001b[0;34m,\u001b[0m \u001b[0mresult_meta\u001b[0m\u001b[0;34m)\u001b[0m\u001b[0;34m\u001b[0m\u001b[0m\n\u001b[0m\u001b[1;32m    620\u001b[0m         \u001b[0;32melse\u001b[0m\u001b[0;34m:\u001b[0m  \u001b[0;31m# using (op0, sublist0, op1, sublist1, ..., sublistout) convention\u001b[0m\u001b[0;34m\u001b[0m\u001b[0m\n\u001b[1;32m    621\u001b[0m             \u001b[0;32mif\u001b[0m \u001b[0mlen\u001b[0m\u001b[0;34m(\u001b[0m\u001b[0moperands\u001b[0m\u001b[0;34m)\u001b[0m \u001b[0;34m%\u001b[0m \u001b[0;36m2\u001b[0m \u001b[0;34m==\u001b[0m \u001b[0;36m0\u001b[0m\u001b[0;34m:\u001b[0m\u001b[0;34m\u001b[0m\u001b[0m\n",
      "\u001b[0;32m~/Documents/git_repos/BNP_sensitivity/RegressionClustering/venv/lib/python3.5/site-packages/autograd/tracer.py\u001b[0m in \u001b[0;36mf_wrapped\u001b[0;34m(*args, **kwargs)\u001b[0m\n\u001b[1;32m     46\u001b[0m             \u001b[0;32mreturn\u001b[0m \u001b[0mnew_box\u001b[0m\u001b[0;34m(\u001b[0m\u001b[0mans\u001b[0m\u001b[0;34m,\u001b[0m \u001b[0mtrace\u001b[0m\u001b[0;34m,\u001b[0m \u001b[0mnode\u001b[0m\u001b[0;34m)\u001b[0m\u001b[0;34m\u001b[0m\u001b[0m\n\u001b[1;32m     47\u001b[0m         \u001b[0;32melse\u001b[0m\u001b[0;34m:\u001b[0m\u001b[0;34m\u001b[0m\u001b[0m\n\u001b[0;32m---> 48\u001b[0;31m             \u001b[0;32mreturn\u001b[0m \u001b[0mf_raw\u001b[0m\u001b[0;34m(\u001b[0m\u001b[0;34m*\u001b[0m\u001b[0margs\u001b[0m\u001b[0;34m,\u001b[0m \u001b[0;34m**\u001b[0m\u001b[0mkwargs\u001b[0m\u001b[0;34m)\u001b[0m\u001b[0;34m\u001b[0m\u001b[0m\n\u001b[0m\u001b[1;32m     49\u001b[0m     \u001b[0mf_wrapped\u001b[0m\u001b[0;34m.\u001b[0m\u001b[0mfun\u001b[0m \u001b[0;34m=\u001b[0m \u001b[0mf_raw\u001b[0m\u001b[0;34m\u001b[0m\u001b[0m\n\u001b[1;32m     50\u001b[0m     \u001b[0mf_wrapped\u001b[0m\u001b[0;34m.\u001b[0m\u001b[0m_is_autograd_primitive\u001b[0m \u001b[0;34m=\u001b[0m \u001b[0;32mTrue\u001b[0m\u001b[0;34m\u001b[0m\u001b[0m\n",
      "\u001b[0;32m~/Documents/git_repos/BNP_sensitivity/RegressionClustering/venv/lib/python3.5/site-packages/numpy/core/einsumfunc.py\u001b[0m in \u001b[0;36meinsum\u001b[0;34m(*operands, **kwargs)\u001b[0m\n\u001b[1;32m   1344\u001b[0m     \u001b[0;31m# If no optimization, run pure einsum\u001b[0m\u001b[0;34m\u001b[0m\u001b[0;34m\u001b[0m\u001b[0m\n\u001b[1;32m   1345\u001b[0m     \u001b[0;32mif\u001b[0m \u001b[0moptimize_arg\u001b[0m \u001b[0;32mis\u001b[0m \u001b[0;32mFalse\u001b[0m\u001b[0;34m:\u001b[0m\u001b[0;34m\u001b[0m\u001b[0m\n\u001b[0;32m-> 1346\u001b[0;31m         \u001b[0;32mreturn\u001b[0m \u001b[0mc_einsum\u001b[0m\u001b[0;34m(\u001b[0m\u001b[0;34m*\u001b[0m\u001b[0moperands\u001b[0m\u001b[0;34m,\u001b[0m \u001b[0;34m**\u001b[0m\u001b[0mkwargs\u001b[0m\u001b[0;34m)\u001b[0m\u001b[0;34m\u001b[0m\u001b[0m\n\u001b[0m\u001b[1;32m   1347\u001b[0m \u001b[0;34m\u001b[0m\u001b[0m\n\u001b[1;32m   1348\u001b[0m     \u001b[0mvalid_einsum_kwargs\u001b[0m \u001b[0;34m=\u001b[0m \u001b[0;34m[\u001b[0m\u001b[0;34m'out'\u001b[0m\u001b[0;34m,\u001b[0m \u001b[0;34m'dtype'\u001b[0m\u001b[0;34m,\u001b[0m \u001b[0;34m'order'\u001b[0m\u001b[0;34m,\u001b[0m \u001b[0;34m'casting'\u001b[0m\u001b[0;34m]\u001b[0m\u001b[0;34m\u001b[0m\u001b[0m\n",
      "\u001b[0;31mKeyboardInterrupt\u001b[0m: "
     ]
    }
   ],
   "source": [
    "tic = time.time()\n",
    "# Note that h_cond is the Hessian.\n",
    "h_cond = gmm.update_preconditioner(init_x2)\n",
    "opt_time += time.time() - tic"
   ]
  },
  {
   "cell_type": "code",
   "execution_count": null,
   "metadata": {},
   "outputs": [],
   "source": [
    "h_cond.shape, gmm.kl_obj.grad(init_x2).shape"
   ]
  },
  {
   "cell_type": "code",
   "execution_count": null,
   "metadata": {
    "scrolled": false
   },
   "outputs": [],
   "source": [
    "gmm.conditioned_obj.reset()\n",
    "tic = time.time()\n",
    "gmm_opt, gmm_opt_x = gmm.optimize_fully(\n",
    "    init_x2, verbose=True, kl_hess=h_cond)\n",
    "opt_time += time.time() - tic\n",
    "print('Optimization time: {} seconds'.format(opt_time))"
   ]
  },
  {
   "cell_type": "code",
   "execution_count": null,
   "metadata": {},
   "outputs": [],
   "source": [
    "opt_gmm_params = gmm.gmm_params_pattern.fold(gmm_opt_x, free=True)\n",
    "print(opt_gmm_params.keys())\n",
    "e_z = gmm.get_e_z(opt_gmm_params)\n",
    "print(np.sort(np.sum(e_z, axis=0)))"
   ]
  },
  {
   "cell_type": "code",
   "execution_count": null,
   "metadata": {},
   "outputs": [],
   "source": [
    "loglik_obs_by_nk = gmm_lib.get_loglik_obs_by_nk(opt_gmm_params, gmm.reg_params)"
   ]
  },
  {
   "cell_type": "code",
   "execution_count": null,
   "metadata": {},
   "outputs": [],
   "source": [
    "# for i in range(num_components):\n",
    "#     print('{:0.5}\\t{:0.5}'.format(np.sum(e_z, axis=0)[i], np.std(e_z, axis=0)[i]))\n",
    "\n",
    "z_sum = np.sum(e_z, axis=0)\n",
    "small_clusters = np.squeeze(np.argwhere(z_sum < 1.1))\n",
    "small_clusters\n",
    "obs_k = np.full(gmm.num_obs, int(-1))\n",
    "for n in range(gmm.num_obs):\n",
    "    obs_k[n] = np.argmax(e_z[n, :])\n",
    "\n",
    "# Plot one of the small components\n",
    "k_small = 5\n",
    "n = int(np.argwhere(obs_k == small_clusters[k_small]))\n",
    "\n",
    "# Get the top alternative components\n",
    "top_components = np.argsort(-1 * loglik_obs_by_nk[n, :])[0:10]\n",
    "\n",
    "f, axarr = plt.subplots(1, figsize=(15,8))\n",
    "this_plot = axarr\n",
    "this_plot.plot(gmm.reg_params['beta_mean'][n, :], color = 'red');\n",
    "this_plot.set_ylabel('transformed coefficient')\n",
    "this_plot.set_xlabel('index')\n",
    "this_plot.set_title('gene number {}'.format(n))\n",
    "\n",
    "# draw from the variational distribution to plot uncertainties\n",
    "for j in range(60): \n",
    "    transformed_beta_draw = np.random.multivariate_normal(\n",
    "        gmm.reg_params['beta_mean'][n, :], \\\n",
    "         np.linalg.inv(gmm.reg_params['beta_info'][n, :, :]))\n",
    "    this_plot.plot(\n",
    "        transformed_beta_draw, color = 'red', alpha = 0.08, linewidth=4);\n",
    "\n",
    "for k in top_components:\n",
    "    if k != k_small:\n",
    "        this_plot.plot(opt_gmm_params['centroids'][k, :],\n",
    "                       color = 'lightblue', linewidth=2);\n",
    "\n",
    "k = np.argmax(e_z[n, :])\n",
    "this_plot.plot(opt_gmm_params['centroids'][k, :], color = 'limegreen', linewidth=3);\n"
   ]
  },
  {
   "cell_type": "code",
   "execution_count": null,
   "metadata": {},
   "outputs": [],
   "source": [
    "# Sanity check with a figure\n",
    "\n",
    "f, axarr = plt.subplots(2, 3, figsize=(15,8))\n",
    "\n",
    "plot_inds = np.random.choice(gmm.num_obs, 6, replace=False)\n",
    "for i in range(6):\n",
    "    n = plot_inds[i]\n",
    "    this_plot = axarr[int(np.floor(i / 3)), i % 3] \n",
    "    this_plot.plot(gmm.reg_params['beta_mean'][n, :], color = 'red');\n",
    "    this_plot.set_ylabel('transformed coefficient')\n",
    "    this_plot.set_xlabel('index')\n",
    "    this_plot.set_title('gene number {}'.format(n))\n",
    "\n",
    "    # draw from the variational distribution to plot uncertainties\n",
    "    for j in range(30): \n",
    "        transformed_beta_draw = np.random.multivariate_normal(\n",
    "            gmm.reg_params['beta_mean'][n, :], \\\n",
    "             np.linalg.inv(gmm.reg_params['beta_info'][n, :, :]))\n",
    "\n",
    "        this_plot.plot(\n",
    "            transformed_beta_draw, color = 'red', alpha = 0.08);\n",
    "\n",
    "    k = np.argmax(e_z[n, :])\n",
    "    this_plot.plot(opt_gmm_params['centroids'][k, :], color = 'limegreen', linewidth=3);\n",
    "\n",
    "f.tight_layout()"
   ]
  },
  {
   "cell_type": "code",
   "execution_count": null,
   "metadata": {},
   "outputs": [],
   "source": [
    "save_dict = deepcopy(gmm_opt)\n",
    "save_dict['df'] = df\n",
    "save_dict['degree'] = degree\n",
    "save_dict['datafile'] = datafile\n",
    "save_dict['num_components'] = num_components\n",
    "save_dict['gmm_params_pattern_json'] = \\\n",
    "    gmm.gmm_params_pattern.to_json()\n",
    "save_dict['opt_gmm_params_flat'] = \\\n",
    "    gmm.gmm_params_pattern.flatten(opt_gmm_params, free=False)\n",
    "save_dict['prior_params_pattern_json'] = \\\n",
    "    prior_params_pattern.to_json()\n",
    "save_dict['prior_params_flat'] = \\\n",
    "    prior_params_pattern.flatten(prior_params, free=False)\n",
    "\n",
    "save_dict['opt_time'] = opt_time\n",
    "\n",
    "outfile = './fits/{}.npz'.format(analysis_name)\n",
    "print('Saving to {}'.format(outfile))\n",
    "\n",
    "np.savez_compressed(file=outfile, **save_dict)"
   ]
  }
 ],
 "metadata": {
  "kernelspec": {
   "display_name": "bnpregcluster_runjingdev",
   "language": "python",
   "name": "bnpregcluster_runjingdev"
  },
  "language_info": {
   "codemirror_mode": {
    "name": "ipython",
    "version": 3
   },
   "file_extension": ".py",
   "mimetype": "text/x-python",
   "name": "python",
   "nbconvert_exporter": "python",
   "pygments_lexer": "ipython3",
   "version": "3.5.2"
  }
 },
 "nbformat": 4,
 "nbformat_minor": 2
}
