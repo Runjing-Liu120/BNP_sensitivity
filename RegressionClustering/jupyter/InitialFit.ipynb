{
 "cells": [
  {
   "cell_type": "code",
   "execution_count": 1,
   "metadata": {
    "collapsed": true
   },
   "outputs": [],
   "source": [
    "import matplotlib.pyplot as plt\n",
    "%matplotlib inline\n",
    "\n",
    "import numpy as np\n",
    "import inspect\n",
    "import os\n",
    "import sys\n",
    "import time\n",
    "\n",
    "np.random.seed(42) # nothing special about this seed (we hope)!"
   ]
  },
  {
   "cell_type": "code",
   "execution_count": 2,
   "metadata": {},
   "outputs": [],
   "source": [
    "import bnpregcluster_runjingdev.regression_mixture_lib as gmm_lib"
   ]
  },
  {
   "cell_type": "code",
   "execution_count": 3,
   "metadata": {},
   "outputs": [
    {
     "name": "stdout",
     "output_type": "stream",
     "text": [
      "(7000, 9, 9) (7000, 9)\n"
     ]
    }
   ],
   "source": [
    "reg_params = dict()\n",
    "with np.load('fits/transformed_gene_regression_df7_degree3_genes10000.npz') as infile:\n",
    "    reg_params['beta_mean'] = infile['transformed_beta_mean']\n",
    "    reg_params['beta_info'] = infile['transformed_beta_info']\n",
    "    \n",
    "obs_dim = reg_params['beta_mean'].shape[1]\n",
    "print(reg_params['beta_info'].shape, reg_params['beta_mean'].shape)"
   ]
  },
  {
   "cell_type": "code",
   "execution_count": 9,
   "metadata": {},
   "outputs": [],
   "source": [
    "num_components = 30\n",
    "prior_params = gmm_lib.get_base_prior_params(obs_dim, num_components)\n",
    "gmm = gmm_lib.GMM(num_components, prior_params, reg_params)"
   ]
  },
  {
   "cell_type": "code",
   "execution_count": 11,
   "metadata": {},
   "outputs": [
    {
     "name": "stdout",
     "output_type": "stream",
     "text": [
      "Running k-means init.\n",
      "Done.\n"
     ]
    }
   ],
   "source": [
    "print('Running k-means init.')\n",
    "init_gmm_params = \\\n",
    "    gmm_lib.kmeans_init(gmm.reg_params,\n",
    "                        gmm.num_components, 50)\n",
    "print('Done.')\n",
    "init_x = gmm.gmm_params_pattern.flatten(init_gmm_params, free=True)"
   ]
  },
  {
   "cell_type": "code",
   "execution_count": 12,
   "metadata": {
    "scrolled": false
   },
   "outputs": [
    {
     "name": "stdout",
     "output_type": "stream",
     "text": [
      "Iter 0: f = -55.88225503\n",
      "Iter 1: f = -56.96432976\n",
      "Iter 2: f = -57.07508624\n",
      "Iter 3: f = -57.38550797\n",
      "Iter 4: f = -57.48088500\n",
      "Iter 5: f = -57.56279281\n",
      "Iter 6: f = -57.58275249\n",
      "Iter 7: f = -57.62133282\n",
      "Iter 8: f = -57.55590819\n",
      "Iter 9: f = -57.62698603\n",
      "Iter 10: f = -57.63369937\n",
      "Iter 11: f = -57.63578808\n",
      "Iter 12: f = -57.64464450\n",
      "Iter 13: f = -57.64993779\n",
      "Iter 14: f = -57.65234094\n",
      "Iter 15: f = -57.65743442\n",
      "Iter 16: f = -57.65624073\n",
      "Iter 17: f = -57.65985147\n",
      "Iter 18: f = -57.66525929\n",
      "Iter 19: f = -57.67263289\n",
      "Iter 20: f = -57.70500105\n",
      "Iter 21: f = -57.75991266\n",
      "Iter 22: f = -57.81847175\n",
      "Iter 23: f = -57.83628537\n",
      "Iter 24: f = -57.84719594\n",
      "Iter 25: f = -56.54009987\n",
      "Iter 26: f = -57.79931749\n",
      "Iter 27: f = -57.84810117\n",
      "Iter 28: f = -57.85183581\n",
      "Iter 29: f = -57.85396178\n",
      "Iter 30: f = -57.85424242\n"
     ]
    }
   ],
   "source": [
    "gmm.conditioned_obj.reset() # Reset the logging and iteration count.\n",
    "gmm.conditioned_obj.set_print_every(1)\n",
    "\n",
    "opt_time = time.time()\n",
    "gmm_opt, init_x2 = gmm.optimize(init_x, gtol=1e-2)\n",
    "opt_time = time.time() - opt_time"
   ]
  },
  {
   "cell_type": "code",
   "execution_count": 13,
   "metadata": {
    "collapsed": true
   },
   "outputs": [],
   "source": [
    "tic = time.time()\n",
    "h_cond = gmm.update_preconditioner(init_x2)\n",
    "opt_time += time.time() - tic"
   ]
  },
  {
   "cell_type": "code",
   "execution_count": 14,
   "metadata": {},
   "outputs": [
    {
     "name": "stdout",
     "output_type": "stream",
     "text": [
      "Preconditioned iteration 1\n",
      "  Running preconditioned optimization.\n",
      "Iter 0: f = -57.85424242\n",
      "Iter 1: f = -57.82332061\n",
      "Iter 2: f = -57.82332061\n",
      "Iter 3: f = -57.82332061\n",
      "Iter 4: f = -57.84409167\n",
      "Iter 5: f = -57.85384091\n",
      "Iter 6: f = -57.85426335\n",
      "Iter 7: f = -57.85426840\n",
      "Iter 8: f = -57.85426968\n",
      "Iter 9: f = -57.85426968\n",
      "Preconditioned iteration 2\n",
      "  Getting Hessian and preconditioner.\n",
      "  Running preconditioned optimization.\n",
      "Iter 10: f = -57.85426968\n",
      "Iter 11: f = -57.85426968\n",
      "Converged.\n",
      "Optimization time: 38.11186361312866 seconds\n"
     ]
    }
   ],
   "source": [
    "gmm.conditioned_obj.reset()\n",
    "tic = time.time()\n",
    "gmm_opt, gmm_opt_x = gmm.optimize_fully(\n",
    "    init_x2, verbose=True)\n",
    "opt_time += time.time() - tic\n",
    "print('Optimization time: {} seconds'.format(opt_time))"
   ]
  },
  {
   "cell_type": "code",
   "execution_count": 15,
   "metadata": {},
   "outputs": [
    {
     "name": "stdout",
     "output_type": "stream",
     "text": [
      "odict_keys(['centroids', 'probs'])\n",
      "[[0.07212714 0.16005234 0.22957133 0.25079969 0.2874495 ]]\n"
     ]
    }
   ],
   "source": [
    "opt_gmm_params = gmm.gmm_params_pattern.fold(gmm_opt_x, free=True)\n",
    "print(opt_gmm_params.keys())\n",
    "print(np.sort(opt_gmm_params['probs']))"
   ]
  }
 ],
 "metadata": {
  "kernelspec": {
   "display_name": "bnpregcluster_runjingdev",
   "language": "python",
   "name": "bnpregcluster_runjingdev"
  },
  "language_info": {
   "codemirror_mode": {
    "name": "ipython",
    "version": 3
   },
   "file_extension": ".py",
   "mimetype": "text/x-python",
   "name": "python",
   "nbconvert_exporter": "python",
   "pygments_lexer": "ipython3",
   "version": "3.5.2"
  }
 },
 "nbformat": 4,
 "nbformat_minor": 2
}
