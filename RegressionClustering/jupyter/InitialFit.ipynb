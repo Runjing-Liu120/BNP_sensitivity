{
 "cells": [
  {
   "cell_type": "code",
   "execution_count": 1,
   "metadata": {
    "collapsed": true
   },
   "outputs": [],
   "source": [
    "import matplotlib.pyplot as plt\n",
    "%matplotlib inline\n",
    "\n",
    "import numpy as np\n",
    "import inspect\n",
    "import os\n",
    "import sys\n",
    "import time\n",
    "\n",
    "np.random.seed(42) # nothing special about this seed (we hope)!"
   ]
  },
  {
   "cell_type": "code",
   "execution_count": 2,
   "metadata": {},
   "outputs": [],
   "source": [
    "import bnpregcluster_runjingdev.regression_mixture_lib as gmm_lib"
   ]
  },
  {
   "cell_type": "code",
   "execution_count": 3,
   "metadata": {},
   "outputs": [
    {
     "name": "stdout",
     "output_type": "stream",
     "text": [
      "(7000, 9, 9) (7000, 9)\n"
     ]
    }
   ],
   "source": [
    "reg_params = dict()\n",
    "with np.load('fits/transformed_gene_regression_df7_degree3_genes10000.npz') as infile:\n",
    "    reg_params['beta_mean'] = infile['transformed_beta_mean']\n",
    "    reg_params['beta_info'] = infile['transformed_beta_info']\n",
    "    \n",
    "obs_dim = reg_params['beta_mean'].shape[1]\n",
    "print(reg_params['beta_info'].shape, reg_params['beta_mean'].shape)"
   ]
  },
  {
   "cell_type": "code",
   "execution_count": 4,
   "metadata": {},
   "outputs": [],
   "source": [
    "num_components = 30\n",
    "prior_params = gmm_lib.get_base_prior_params(obs_dim, num_components)\n",
    "gmm = gmm_lib.GMM(num_components, prior_params, reg_params)"
   ]
  },
  {
   "cell_type": "code",
   "execution_count": 5,
   "metadata": {},
   "outputs": [
    {
     "name": "stdout",
     "output_type": "stream",
     "text": [
      "Running k-means init.\n",
      "Done.\n"
     ]
    }
   ],
   "source": [
    "print('Running k-means init.')\n",
    "kmeans_params = \\\n",
    "    gmm_lib.kmeans_init(gmm.reg_params,\n",
    "                        gmm.num_components, 50)\n",
    "print('Done.')\n",
    "init_gmm_params = dict()\n",
    "init_gmm_params['centroids'] = kmeans_params['centroids']\n",
    "init_gmm_params['stick_propn_mean'] = np.zeros(gmm.num_components - 1)\n",
    "init_gmm_params['stick_propn_info'] = np.ones(gmm.num_components - 1)\n",
    "\n",
    "init_x = gmm.gmm_params_pattern.flatten(init_gmm_params, free=True)"
   ]
  },
  {
   "cell_type": "code",
   "execution_count": 7,
   "metadata": {},
   "outputs": [
    {
     "ename": "ValueError",
     "evalue": "The truth value of an array with more than one element is ambiguous. Use a.any() or a.all()",
     "output_type": "error",
     "traceback": [
      "\u001b[0;31m---------------------------------------------------------------------------\u001b[0m",
      "\u001b[0;31mValueError\u001b[0m                                Traceback (most recent call last)",
      "\u001b[0;32m<ipython-input-7-f4b5c9876343>\u001b[0m in \u001b[0;36m<module>\u001b[0;34m\u001b[0m\n\u001b[0;32m----> 1\u001b[0;31m \u001b[0mgmm\u001b[0m\u001b[0;34m.\u001b[0m\u001b[0mget_params_kl\u001b[0m\u001b[0;34m(\u001b[0m\u001b[0minit_gmm_params\u001b[0m\u001b[0;34m)\u001b[0m\u001b[0;34m\u001b[0m\u001b[0m\n\u001b[0m",
      "\u001b[0;32m~/Documents/git_repos/BNP_sensitivity/RegressionClustering/bnpregcluster_runjingdev/regression_mixture_lib.py\u001b[0m in \u001b[0;36mget_params_kl\u001b[0;34m(self, gmm_params)\u001b[0m\n\u001b[1;32m    234\u001b[0m         return get_kl(\n\u001b[1;32m    235\u001b[0m             \u001b[0mgmm_params\u001b[0m\u001b[0;34m,\u001b[0m \u001b[0mself\u001b[0m\u001b[0;34m.\u001b[0m\u001b[0mreg_params\u001b[0m\u001b[0;34m,\u001b[0m \u001b[0mself\u001b[0m\u001b[0;34m.\u001b[0m\u001b[0mprior_params\u001b[0m\u001b[0;34m,\u001b[0m\u001b[0;34m\u001b[0m\u001b[0m\n\u001b[0;32m--> 236\u001b[0;31m             self.gh_loc, self.gh_weights)\n\u001b[0m\u001b[1;32m    237\u001b[0m \u001b[0;34m\u001b[0m\u001b[0m\n\u001b[1;32m    238\u001b[0m     \u001b[0;32mdef\u001b[0m \u001b[0mto_json\u001b[0m\u001b[0;34m(\u001b[0m\u001b[0mself\u001b[0m\u001b[0;34m)\u001b[0m\u001b[0;34m:\u001b[0m\u001b[0;34m\u001b[0m\u001b[0m\n",
      "\u001b[0;32m~/Documents/git_repos/BNP_sensitivity/RegressionClustering/bnpregcluster_runjingdev/regression_mixture_lib.py\u001b[0m in \u001b[0;36mget_kl\u001b[0;34m(gmm_params, reg_params, prior_params, gh_loc, gh_weights)\u001b[0m\n\u001b[1;32m    148\u001b[0m \u001b[0;34m\u001b[0m\u001b[0m\n\u001b[1;32m    149\u001b[0m     \u001b[0mloglik\u001b[0m \u001b[0;34m=\u001b[0m \u001b[0mnp\u001b[0m\u001b[0;34m.\u001b[0m\u001b[0msum\u001b[0m\u001b[0;34m(\u001b[0m\u001b[0mz_nat_param\u001b[0m \u001b[0;34m*\u001b[0m \u001b[0me_z\u001b[0m\u001b[0;34m)\u001b[0m \u001b[0;34m+\u001b[0m \u001b[0mlog_prior\u001b[0m\u001b[0;34m\u001b[0m\u001b[0m\n\u001b[0;32m--> 150\u001b[0;31m     \u001b[0;32massert\u001b[0m\u001b[0;34m(\u001b[0m\u001b[0mnp\u001b[0m\u001b[0;34m.\u001b[0m\u001b[0misfinite\u001b[0m\u001b[0;34m(\u001b[0m\u001b[0mloglik\u001b[0m\u001b[0;34m)\u001b[0m\u001b[0;34m)\u001b[0m\u001b[0;34m\u001b[0m\u001b[0m\n\u001b[0m\u001b[1;32m    151\u001b[0m \u001b[0;34m\u001b[0m\u001b[0m\n\u001b[1;32m    152\u001b[0m     \u001b[0mentropy\u001b[0m \u001b[0;34m=\u001b[0m \u001b[0mget_entropy\u001b[0m\u001b[0;34m(\u001b[0m\u001b[0mgmm_params\u001b[0m\u001b[0;34m,\u001b[0m \u001b[0me_z\u001b[0m\u001b[0;34m,\u001b[0m \u001b[0mgh_loc\u001b[0m\u001b[0;34m,\u001b[0m \u001b[0mgh_weights\u001b[0m\u001b[0;34m)\u001b[0m\u001b[0;34m\u001b[0m\u001b[0m\n",
      "\u001b[0;31mValueError\u001b[0m: The truth value of an array with more than one element is ambiguous. Use a.any() or a.all()"
     ]
    }
   ],
   "source": [
    "gmm.get_params_kl(init_gmm_params)"
   ]
  },
  {
   "cell_type": "code",
   "execution_count": null,
   "metadata": {
    "scrolled": false
   },
   "outputs": [],
   "source": [
    "gmm.conditioned_obj.reset() # Reset the logging and iteration count.\n",
    "gmm.conditioned_obj.set_print_every(1)\n",
    "\n",
    "opt_time = time.time()\n",
    "gmm_opt, init_x2 = gmm.optimize(init_x, gtol=1e-2)\n",
    "opt_time = time.time() - opt_time"
   ]
  },
  {
   "cell_type": "code",
   "execution_count": 25,
   "metadata": {},
   "outputs": [
    {
     "data": {
      "text/plain": [
       "1.0"
      ]
     },
     "execution_count": 25,
     "metadata": {},
     "output_type": "execute_result"
    }
   ],
   "source": [
    "# def collapse(x):\n",
    "#     if type(x) is np.ndarray:\n",
    "#         assert x.shape == (1,)\n",
    "#         return x[0]\n",
    "#     else:\n",
    "#         return x\n",
    "    \n",
    "# collapse(np.array([1.0]))\n",
    "# collapse(1.0)\n"
   ]
  },
  {
   "cell_type": "code",
   "execution_count": null,
   "metadata": {
    "collapsed": true
   },
   "outputs": [],
   "source": [
    "tic = time.time()\n",
    "h_cond = gmm.update_preconditioner(init_x2)\n",
    "opt_time += time.time() - tic"
   ]
  },
  {
   "cell_type": "code",
   "execution_count": null,
   "metadata": {},
   "outputs": [],
   "source": [
    "gmm.conditioned_obj.reset()\n",
    "tic = time.time()\n",
    "gmm_opt, gmm_opt_x = gmm.optimize_fully(\n",
    "    init_x2, verbose=True)\n",
    "opt_time += time.time() - tic\n",
    "print('Optimization time: {} seconds'.format(opt_time))"
   ]
  },
  {
   "cell_type": "code",
   "execution_count": null,
   "metadata": {},
   "outputs": [],
   "source": [
    "opt_gmm_params = gmm.gmm_params_pattern.fold(gmm_opt_x, free=True)\n",
    "print(opt_gmm_params.keys())\n",
    "print(np.sort(opt_gmm_params['probs']))"
   ]
  }
 ],
 "metadata": {
  "kernelspec": {
   "display_name": "bnpregcluster_runjingdev",
   "language": "python",
   "name": "bnpregcluster_runjingdev"
  },
  "language_info": {
   "codemirror_mode": {
    "name": "ipython",
    "version": 3
   },
   "file_extension": ".py",
   "mimetype": "text/x-python",
   "name": "python",
   "nbconvert_exporter": "python",
   "pygments_lexer": "ipython3",
   "version": "3.5.2"
  }
 },
 "nbformat": 4,
 "nbformat_minor": 2
}
