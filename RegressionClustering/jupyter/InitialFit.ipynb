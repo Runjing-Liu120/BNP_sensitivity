{
 "cells": [
  {
   "cell_type": "code",
   "execution_count": 37,
   "metadata": {
    "collapsed": true
   },
   "outputs": [],
   "source": [
    "import matplotlib.pyplot as plt\n",
    "%matplotlib inline\n",
    "\n",
    "import numpy as np\n",
    "import scipy as sp\n",
    "import inspect\n",
    "import os\n",
    "import sys\n",
    "import time\n",
    "\n",
    "import paragami\n",
    "\n",
    "from copy import deepcopy\n",
    "\n",
    "import bnpregcluster_runjingdev.regression_mixture_lib as gmm_lib\n",
    "\n",
    "np.random.seed(42) # nothing special about this seed (we hope)!"
   ]
  },
  {
   "cell_type": "code",
   "execution_count": 63,
   "metadata": {},
   "outputs": [
    {
     "name": "stdout",
     "output_type": "stream",
     "text": [
      "(700, 6, 6) (700, 6)\n"
     ]
    }
   ],
   "source": [
    "reg_params = dict()\n",
    "#datafile = 'fits/transformed_gene_regression_df7_degree3_genes10000.npz'\n",
    "#datafile = 'fits/transformed_gene_regression_df7_degree3_genes1000.npz'\n",
    "#datafile = 'fits/shrunken_transformed_gene_regression_df$_degree3_genes1000.npz'\n",
    "#datafile = 'fits/shrunken_transformed_gene_regression_df7_degree3_genes1000.npz'\n",
    "datafile = 'fits/shrunken_transformed_gene_regression_df4_degree3_genes1000.npz'\n",
    "with np.load(datafile) as infile:\n",
    "    reg_params['y_info'] = infile['y_info']\n",
    "    reg_params['beta_mean'] = infile['transformed_beta_mean']\n",
    "    reg_params['beta_info'] = infile['transformed_beta_info']\n",
    "    df = infile['df']\n",
    "    degree = infile['degree']\n",
    "    \n",
    "num_genes = reg_params['beta_mean'].shape[0]\n",
    "obs_dim = reg_params['beta_mean'].shape[1]\n",
    "\n",
    "num_components = 100\n",
    "\n",
    "analysis_name = 'transformed_gene_regression_df{}_degree{}_genes{}_num_components{}_fit'.format(\n",
    "    df, degree, num_genes, num_components)"
   ]
  },
  {
   "cell_type": "code",
   "execution_count": 64,
   "metadata": {},
   "outputs": [
    {
     "data": {
      "image/png": "[encoded data removed]",
      "text/plain": [
       "<Figure size 432x288 with 1 Axes>"
      ]
     },
     "metadata": {
      "needs_background": "light"
     },
     "output_type": "display_data"
    }
   ],
   "source": [
    "plt.hist(reg_params['y_info']);"
   ]
  },
  {
   "cell_type": "code",
   "execution_count": 65,
   "metadata": {},
   "outputs": [],
   "source": [
    "prior_params = gmm_lib.get_base_prior_params(obs_dim, num_components)\n",
    "prior_params_pattern = gmm_lib.get_prior_params_pattern(obs_dim, num_components)\n",
    "prior_params_pattern.validate_folded(prior_params)\n",
    "gmm = gmm_lib.GMM(num_components, prior_params, reg_params)"
   ]
  },
  {
   "cell_type": "code",
   "execution_count": 66,
   "metadata": {},
   "outputs": [
    {
     "name": "stdout",
     "output_type": "stream",
     "text": [
      "Running k-means init.\n",
      "Done.\n"
     ]
    }
   ],
   "source": [
    "print('Running k-means init.')\n",
    "kmeans_params = \\\n",
    "    gmm_lib.kmeans_init(gmm.reg_params,\n",
    "                        gmm.num_components, 50)\n",
    "print('Done.')\n",
    "init_gmm_params = dict()\n",
    "init_gmm_params['centroids'] = kmeans_params['centroids']\n",
    "init_gmm_params['stick_propn_mean'] = np.zeros(gmm.num_components - 1)\n",
    "init_gmm_params['stick_propn_info'] = np.ones(gmm.num_components - 1)\n",
    "\n",
    "init_x = gmm.gmm_params_pattern.flatten(init_gmm_params, free=True)"
   ]
  },
  {
   "cell_type": "code",
   "execution_count": null,
   "metadata": {
    "scrolled": false
   },
   "outputs": [
    {
     "name": "stdout",
     "output_type": "stream",
     "text": [
      "Iter 0: f = -41766.81949873\n",
      "Iter 1: f = -42338.02951151\n",
      "Iter 2: f = -43049.34542484\n",
      "Iter 3: f = -43699.82602179\n",
      "Iter 4: f = -44174.49239110\n",
      "Iter 5: f = -44030.10642922\n",
      "Iter 6: f = -44369.07436888\n",
      "Iter 7: f = -44548.09240150\n",
      "Iter 8: f = -44613.85665007\n",
      "Iter 9: f = -44771.02979495\n",
      "Iter 10: f = -44750.78822885\n",
      "Iter 11: f = -44810.47503020\n",
      "Iter 12: f = -44856.64930440\n",
      "Iter 13: f = -44876.70936440\n",
      "Iter 14: f = -44834.23618704\n",
      "Iter 15: f = -44922.05267845\n",
      "Iter 16: f = -44955.88477297\n",
      "Iter 17: f = -44965.44420918\n",
      "Iter 18: f = -45000.23512669\n",
      "Iter 19: f = -45021.50181032\n",
      "Iter 20: f = -45036.08307031\n",
      "Iter 21: f = -45046.34814842\n",
      "Iter 22: f = -45054.82841607\n",
      "Iter 23: f = -45061.74333874\n",
      "Iter 24: f = -45061.84552346\n",
      "Iter 25: f = -45068.47132043\n",
      "Iter 26: f = -45078.08810181\n",
      "Iter 27: f = -45086.60878352\n",
      "Iter 28: f = -45040.15422138\n",
      "Iter 29: f = -45093.82611212\n",
      "Iter 30: f = -45098.69435598\n",
      "Iter 31: f = -45100.77836372\n",
      "Iter 32: f = -45104.10259506\n",
      "Iter 33: f = -45104.99806295\n",
      "Iter 34: f = -45103.71104071\n",
      "Iter 35: f = -45106.80977454\n",
      "Iter 36: f = -45105.27733158\n",
      "Iter 37: f = -45107.62252777\n",
      "Iter 38: f = -45109.12590570\n",
      "Iter 39: f = -45103.05156439\n",
      "Iter 40: f = -45110.93505716\n",
      "Iter 41: f = -45113.64829825\n",
      "Iter 42: f = -45114.81263369\n",
      "Iter 43: f = -45115.92938966\n",
      "Iter 44: f = -45116.88328468\n",
      "Iter 45: f = -45118.27721974\n",
      "Iter 46: f = -45113.93769241\n",
      "Iter 47: f = -45119.89392312\n",
      "Iter 48: f = -45123.02282844\n",
      "Iter 49: f = -45125.06046596\n",
      "Iter 50: f = -45126.82900365\n",
      "Iter 51: f = -45129.28222742\n",
      "Iter 52: f = -45119.87865666\n",
      "Iter 53: f = -45132.43112441\n",
      "Iter 54: f = -45131.00189086\n",
      "Iter 55: f = -45134.21718068\n",
      "Iter 56: f = -45135.96692685\n",
      "Iter 57: f = -45138.66508301\n",
      "Iter 58: f = -45140.21241427\n",
      "Iter 59: f = -45142.53617762\n",
      "Iter 60: f = -45125.21397103\n",
      "Iter 61: f = -45144.96069127\n",
      "Iter 62: f = -45142.19741032\n",
      "Iter 63: f = -45146.62393939\n"
     ]
    }
   ],
   "source": [
    "gmm.conditioned_obj.reset() # Reset the logging and iteration count.\n",
    "gmm.conditioned_obj.set_print_every(1)\n",
    "\n",
    "opt_time = time.time()\n",
    "gmm_opt, init_x2 = gmm.optimize(init_x, gtol=1e-2)\n",
    "opt_time = time.time() - opt_time"
   ]
  },
  {
   "cell_type": "code",
   "execution_count": null,
   "metadata": {
    "collapsed": true
   },
   "outputs": [],
   "source": [
    "tic = time.time()\n",
    "# Note that h_cond is the Hessian.\n",
    "h_cond = gmm.update_preconditioner(init_x2)\n",
    "opt_time += time.time() - tic"
   ]
  },
  {
   "cell_type": "code",
   "execution_count": null,
   "metadata": {},
   "outputs": [],
   "source": [
    "h_cond.shape, gmm.kl_obj.grad(init_x2).shape"
   ]
  },
  {
   "cell_type": "code",
   "execution_count": null,
   "metadata": {
    "scrolled": false
   },
   "outputs": [],
   "source": [
    "gmm.conditioned_obj.reset()\n",
    "tic = time.time()\n",
    "gmm_opt, gmm_opt_x = gmm.optimize_fully(\n",
    "    init_x2, verbose=True, kl_hess=h_cond)\n",
    "opt_time += time.time() - tic\n",
    "print('Optimization time: {} seconds'.format(opt_time))"
   ]
  },
  {
   "cell_type": "code",
   "execution_count": null,
   "metadata": {},
   "outputs": [],
   "source": [
    "opt_gmm_params = gmm.gmm_params_pattern.fold(gmm_opt_x, free=True)\n",
    "print(opt_gmm_params.keys())\n",
    "e_z = gmm.get_e_z(opt_gmm_params)\n",
    "print(np.sort(np.sum(e_z, axis=0)))"
   ]
  },
  {
   "cell_type": "code",
   "execution_count": null,
   "metadata": {},
   "outputs": [],
   "source": [
    "loglik_obs_by_nk = gmm_lib.get_loglik_obs_by_nk(opt_gmm_params, gmm.reg_params)"
   ]
  },
  {
   "cell_type": "code",
   "execution_count": null,
   "metadata": {},
   "outputs": [],
   "source": [
    "# for i in range(num_components):\n",
    "#     print('{:0.5}\\t{:0.5}'.format(np.sum(e_z, axis=0)[i], np.std(e_z, axis=0)[i]))\n",
    "\n",
    "z_sum = np.sum(e_z, axis=0)\n",
    "small_clusters = np.squeeze(np.argwhere(z_sum < 1.1))\n",
    "small_clusters\n",
    "obs_k = np.full(gmm.num_obs, int(-1))\n",
    "for n in range(gmm.num_obs):\n",
    "    obs_k[n] = np.argmax(e_z[n, :])\n",
    "\n",
    "# Plot one of the small components\n",
    "k_small = 5\n",
    "n = int(np.argwhere(obs_k == small_clusters[k_small]))\n",
    "\n",
    "# Get the top alternative components\n",
    "top_components = np.argsort(-1 * loglik_obs_by_nk[n, :])[0:10]\n",
    "\n",
    "f, axarr = plt.subplots(1, figsize=(15,8))\n",
    "this_plot = axarr\n",
    "this_plot.plot(gmm.reg_params['beta_mean'][n, :], color = 'red');\n",
    "this_plot.set_ylabel('transformed coefficient')\n",
    "this_plot.set_xlabel('index')\n",
    "this_plot.set_title('gene number {}'.format(n))\n",
    "\n",
    "# draw from the variational distribution to plot uncertainties\n",
    "for j in range(60): \n",
    "    transformed_beta_draw = np.random.multivariate_normal(\n",
    "        gmm.reg_params['beta_mean'][n, :], \\\n",
    "         np.linalg.inv(gmm.reg_params['beta_info'][n, :, :]))\n",
    "    this_plot.plot(\n",
    "        transformed_beta_draw, color = 'red', alpha = 0.08, linewidth=4);\n",
    "\n",
    "for k in top_components:\n",
    "    if k != k_small:\n",
    "        this_plot.plot(opt_gmm_params['centroids'][k, :],\n",
    "                       color = 'lightblue', linewidth=2);\n",
    "\n",
    "k = np.argmax(e_z[n, :])\n",
    "this_plot.plot(opt_gmm_params['centroids'][k, :], color = 'limegreen', linewidth=3);\n"
   ]
  },
  {
   "cell_type": "code",
   "execution_count": null,
   "metadata": {},
   "outputs": [],
   "source": [
    "# Sanity check with a figure\n",
    "\n",
    "f, axarr = plt.subplots(2, 3, figsize=(15,8))\n",
    "\n",
    "plot_inds = np.random.choice(gmm.num_obs, 6, replace=False)\n",
    "for i in range(6):\n",
    "    n = plot_inds[i]\n",
    "    this_plot = axarr[int(np.floor(i / 3)), i % 3] \n",
    "    this_plot.plot(gmm.reg_params['beta_mean'][n, :], color = 'red');\n",
    "    this_plot.set_ylabel('transformed coefficient')\n",
    "    this_plot.set_xlabel('index')\n",
    "    this_plot.set_title('gene number {}'.format(n))\n",
    "\n",
    "    # draw from the variational distribution to plot uncertainties\n",
    "    for j in range(30): \n",
    "        transformed_beta_draw = np.random.multivariate_normal(\n",
    "            gmm.reg_params['beta_mean'][n, :], \\\n",
    "             np.linalg.inv(gmm.reg_params['beta_info'][n, :, :]))\n",
    "\n",
    "        this_plot.plot(\n",
    "            transformed_beta_draw, color = 'red', alpha = 0.08);\n",
    "\n",
    "    k = np.argmax(e_z[n, :])\n",
    "    this_plot.plot(opt_gmm_params['centroids'][k, :], color = 'limegreen', linewidth=3);\n",
    "\n",
    "f.tight_layout()"
   ]
  },
  {
   "cell_type": "code",
   "execution_count": null,
   "metadata": {},
   "outputs": [],
   "source": [
    "save_dict = deepcopy(gmm_opt)\n",
    "save_dict['df'] = df\n",
    "save_dict['degree'] = degree\n",
    "save_dict['datafile'] = datafile\n",
    "save_dict['num_components'] = num_components\n",
    "save_dict['gmm_params_pattern_json'] = \\\n",
    "    gmm.gmm_params_pattern.to_json()\n",
    "save_dict['opt_gmm_params_flat'] = \\\n",
    "    gmm.gmm_params_pattern.flatten(opt_gmm_params, free=False)\n",
    "save_dict['prior_params_pattern_json'] = \\\n",
    "    prior_params_pattern.to_json()\n",
    "save_dict['prior_params_flat'] = \\\n",
    "    prior_params_pattern.flatten(prior_params, free=False)\n",
    "\n",
    "save_dict['opt_time'] = opt_time\n",
    "\n",
    "outfile = './fits/{}.npz'.format(analysis_name)\n",
    "print('Saving to {}'.format(outfile))\n",
    "\n",
    "np.savez_compressed(file=outfile, **save_dict)"
   ]
  }
 ],
 "metadata": {
  "kernelspec": {
   "display_name": "bnpregcluster_runjingdev",
   "language": "python",
   "name": "bnpregcluster_runjingdev"
  },
  "language_info": {
   "codemirror_mode": {
    "name": "ipython",
    "version": 3
   },
   "file_extension": ".py",
   "mimetype": "text/x-python",
   "name": "python",
   "nbconvert_exporter": "python",
   "pygments_lexer": "ipython3",
   "version": "3.5.2"
  }
 },
 "nbformat": 4,
 "nbformat_minor": 2
}
